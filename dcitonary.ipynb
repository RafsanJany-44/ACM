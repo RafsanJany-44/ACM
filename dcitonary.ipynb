{
  "nbformat": 4,
  "nbformat_minor": 0,
  "metadata": {
    "colab": {
      "name": "dcitonary",
      "provenance": [],
      "collapsed_sections": [],
      "include_colab_link": true
    },
    "kernelspec": {
      "display_name": "Python 3",
      "name": "python3"
    }
  },
  "cells": [
    {
      "cell_type": "markdown",
      "metadata": {
        "id": "view-in-github",
        "colab_type": "text"
      },
      "source": [
        "<a href=\"https://colab.research.google.com/github/RafsanJany-44/practice_cell/blob/master/dcitonary.ipynb\" target=\"_parent\"><img src=\"https://colab.research.google.com/assets/colab-badge.svg\" alt=\"Open In Colab\"/></a>"
      ]
    },
    {
      "cell_type": "code",
      "metadata": {
        "id": "D4IOJYTgn-su",
        "colab": {
          "base_uri": "https://localhost:8080/"
        },
        "outputId": "2e38ddb1-3c47-4abe-e67c-a26e857efc8d"
      },
      "source": [
        "import time\n",
        "start=time.time()\n",
        "\n",
        "a = {11:2 ,\n",
        "     22:1 ,\n",
        "     43:3 ,\n",
        "     90:4 ,\n",
        "     7:5 ,\n",
        "     10:6 }\n",
        "b=True\n",
        "c=False\n",
        "\n",
        "print(sorted(a.keys(),reverse=b))\n",
        "print(sorted(a.values(),reverse=c))\n",
        "\n",
        "end=time.time()\n",
        "print(\"__________________________execusion time: \",end-start)"
      ],
      "execution_count": null,
      "outputs": [
        {
          "output_type": "stream",
          "text": [
            "[90, 43, 22, 11, 10, 7]\n",
            "[1, 2, 3, 4, 5, 6]\n",
            "__________________________execusion time:  0.0005004405975341797\n"
          ],
          "name": "stdout"
        }
      ]
    },
    {
      "cell_type": "markdown",
      "metadata": {
        "id": "3TF28_Uc9oB-"
      },
      "source": [
        "#Working"
      ]
    },
    {
      "cell_type": "code",
      "metadata": {
        "colab": {
          "base_uri": "https://localhost:8080/"
        },
        "id": "KFn0eqaVyFKU",
        "outputId": "b3e14492-380a-4efb-fc63-9de4c1cbd25a"
      },
      "source": [
        "import time\n",
        "\n",
        "a={\n",
        "    \"rafsan\":1,\n",
        "   \"jany\":6,\n",
        "   \"akib\":3,\n",
        "   \"akib\":5,\n",
        "   \"babu\":4,\n",
        "   \"zarif\":7\n",
        "}\n",
        "\n",
        "\n",
        "\n",
        "\n",
        "start=time.time()\n",
        "\n",
        "\n",
        "def key_search(dict,value):\n",
        "  list_of_keys = list(dict.keys())\n",
        "  list_of_value = list(dict.values())\n",
        "  position = list_of_value.index(value)\n",
        "  return list_of_keys[position]\n",
        "\n",
        "\n",
        "def value_sort(dict,type=False):\n",
        "\n",
        "  d={}\n",
        "  values=sorted(dict.values(),reverse=type)\n",
        "  for i in values:\n",
        "    d[key_search(dict,i)]=i\n",
        "  return d\n",
        "\n",
        "def key_sort(dict,type=False):\n",
        "  d={}\n",
        "  keys=sorted(dict.keys(),reverse=type)\n",
        "  for i in keys:\n",
        "    d[i]=dict[i]\n",
        "  return d\n",
        "\n",
        "\n",
        "\n",
        "\n",
        "\n",
        "\n",
        "\n",
        "print(key_sort(a))\n",
        "\n",
        "end=time.time()\n",
        "print(\"______________________________time: \",end-start)\n"
      ],
      "execution_count": 9,
      "outputs": [
        {
          "output_type": "stream",
          "text": [
            "{'akib': 5, 'babu': 4, 'jany': 6, 'rafsan': 1, 'zarif': 7}\n",
            "______________________________time:  0.00037479400634765625\n"
          ],
          "name": "stdout"
        }
      ]
    },
    {
      "cell_type": "code",
      "metadata": {
        "id": "HvbZJ8iwwYHH"
      },
      "source": [
        ""
      ],
      "execution_count": null,
      "outputs": []
    }
  ]
}