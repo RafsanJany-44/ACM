{
  "nbformat": 4,
  "nbformat_minor": 0,
  "metadata": {
    "colab": {
      "name": "dcitonary",
      "provenance": [],
      "collapsed_sections": [],
      "toc_visible": true,
      "include_colab_link": true
    },
    "kernelspec": {
      "display_name": "Python 3",
      "name": "python3"
    }
  },
  "cells": [
    {
      "cell_type": "markdown",
      "metadata": {
        "id": "view-in-github",
        "colab_type": "text"
      },
      "source": [
        "<a href=\"https://colab.research.google.com/github/RafsanJany-44/practice_cell/blob/master/dcitonary.ipynb\" target=\"_parent\"><img src=\"https://colab.research.google.com/assets/colab-badge.svg\" alt=\"Open In Colab\"/></a>"
      ]
    },
    {
      "cell_type": "markdown",
      "metadata": {
        "id": "3TF28_Uc9oB-"
      },
      "source": [
        "#Working"
      ]
    },
    {
      "cell_type": "code",
      "metadata": {
        "colab": {
          "base_uri": "https://localhost:8080/"
        },
        "id": "KFn0eqaVyFKU",
        "outputId": "e6d22d19-e9b5-44b6-a34e-cfbc9d8c738c"
      },
      "source": [
        "\n",
        "\n",
        "data = {}\n",
        "data['people'] = []\n",
        "data['people'].append({\n",
        "    'name': 'Scott',\n",
        "    'website': 'stackabuse.com',\n",
        "    'from': 'Nebraska'\n",
        "})\n",
        "data['people'].append({\n",
        "    'name': 'Larry',\n",
        "    'website': 'google.com',\n",
        "    'from': 'Michigan'\n",
        "})\n",
        "data['people'].append({\n",
        "    'name': 'Tim',\n",
        "    'website': 'apple.com',\n",
        "    'from': 'Alabama'\n",
        "})\n",
        "\n",
        "\n",
        "\n",
        "\n",
        "\n",
        "\n",
        "\n",
        "\n",
        "\n",
        "\n",
        "def key_search(dict,value):\n",
        "  list_of_keys = list(dict.keys())\n",
        "  list_of_value = list(dict.values())\n",
        "  position = list_of_value.index(value)\n",
        "  return list_of_keys[position]\n",
        "\n",
        "\n",
        "\n",
        "def value_sort(dict,type=False):\n",
        "  d={}\n",
        "  values=sorted(dict.values(),reverse=type)\n",
        "  for i in values:\n",
        "    d[key_search(dict,i)]=i\n",
        "  return d\n",
        "\n",
        "\n",
        "def key_sort(dict,type=False):\n",
        "  d={}\n",
        "  keys=sorted(dict.keys(),reverse=type)\n",
        "  for i in keys:\n",
        "    d[i]=dict[i]\n",
        "  return d\n",
        "\n",
        "\n",
        "\n",
        "def to_json(dict,file_name_or_path):\n",
        "  import json\n",
        "  with open(file_name_or_path, 'w') as outfile:\n",
        "    json.dump(dict, outfile)\n",
        "\n",
        "\n",
        "def from_json(file_name_or_path):\n",
        "  import json\n",
        "  with open(file_name_or_path) as infile:\n",
        "    return json.load(infile)\n",
        "\n",
        "\n",
        "\n",
        "\n",
        "\n",
        "\n",
        "end=time.time()\n",
        "\n",
        "to_json(data1,\"new2.json\")\n",
        "\n",
        "#print(from_json(\"new.json\"))\n",
        "\n"
      ],
      "execution_count": null,
      "outputs": [
        {
          "output_type": "stream",
          "text": [
            "______________________________time:  0.00022077560424804688\n"
          ],
          "name": "stdout"
        }
      ]
    },
    {
      "cell_type": "code",
      "metadata": {
        "colab": {
          "base_uri": "https://localhost:8080/"
        },
        "id": "4yCqdSej301M",
        "outputId": "cb5e0c12-6f58-44e4-828c-c5c7bbc4f2e4"
      },
      "source": [
        "def show_def():\n",
        "\n",
        "  d={\n",
        "      1:{\"FUNCTIONS\":\"key_search(dict,value)\",\"RETURN\":\"Key\"},\n",
        "      2:{\"FUNCTIONS\":\"value_sort(dict,type=False)\",\"RETURN\":\"Dictionary\"},\n",
        "      3:{\"FUNCTIONS\":\"key_sort(dict,type=False)\",\"RETURN\":\"Dictionary\"},\n",
        "      4:{\"FUNCTIONS\":\"to_json(dict,file_name_or_path)\",\"RETURN\":\"Null\"},\n",
        "      5:{\"FUNCTIONS\":\"from_json(file_name_or_path)\",\"RETURN\":None},\n",
        "      6:{\"FUNCTIONS\":\"show_def()\",\"RETURN\":None},\n",
        "     7:{\"FUNCTIONS\":\"data_type\",\"RETURN\":\"String\"}\n",
        "  }\n",
        "  for i in d:\n",
        "    print(i,\": \",d[i],end=\"\\n\")\n",
        "    print()\n",
        "show_def()"
      ],
      "execution_count": 4,
      "outputs": [
        {
          "output_type": "stream",
          "text": [
            "1 :  {'FUNCTIONS': 'key_search(dict,value)', 'RETURN': 'Key'}\n",
            "\n",
            "2 :  {'FUNCTIONS': 'value_sort(dict,type=False)', 'RETURN': 'Dictionary'}\n",
            "\n",
            "3 :  {'FUNCTIONS': 'key_sort(dict,type=False)', 'RETURN': 'Dictionary'}\n",
            "\n",
            "4 :  {'FUNCTIONS': 'to_json(dict,file_name_or_path)', 'RETURN': 'Null'}\n",
            "\n",
            "5 :  {'FUNCTIONS': 'from_json(file_name_or_path)', 'RETURN': None}\n",
            "\n",
            "6 :  {'FUNCTIONS': 'show_def()', 'RETURN': None}\n",
            "\n",
            "7 :  {'FUNCTIONS': 'data_type', 'RETURN': 'String'}\n",
            "\n"
          ],
          "name": "stdout"
        }
      ]
    },
    {
      "cell_type": "code",
      "metadata": {
        "id": "bZu15XvGR63N"
      },
      "source": [
        "def show_type(s):\n",
        "  return str(type(s))[8:-2]\n"
      ],
      "execution_count": 5,
      "outputs": []
    },
    {
      "cell_type": "markdown",
      "metadata": {
        "id": "Ud9G_NnCxLyO"
      },
      "source": [
        "#<font color=\"red\">--------------------------------------------------------------------------------------------"
      ]
    },
    {
      "cell_type": "code",
      "metadata": {
        "colab": {
          "base_uri": "https://localhost:8080/"
        },
        "id": "u0npGThVINtK",
        "outputId": "793309e8-17c9-4e7c-9c0b-49c72f8b3000"
      },
      "source": [
        "d={\n",
        "    \"name\":\"Rafsan jany\",\n",
        "    \"Occupation\":\"Student\",\n",
        "    \"age\":17,\n",
        "    \"weight (kg)\": 100,\n",
        "      \"Education\":{\"school\":\"BDSDF\",\"asdf\":\"asdf\"},\n",
        "   \"something\":[\"weel\",\"i dont know\"],\n",
        "   3456:\"byby\",\n",
        "   23:35.345,\n",
        "   }\n",
        "\n",
        "print(d)\n"
      ],
      "execution_count": null,
      "outputs": [
        {
          "output_type": "stream",
          "text": [
            "{'name': 'Rafsan jany', 'Occupation': 'Student', 'age': 17, 'weight (kg)': 100, 'Education': {'school': 'BDSDF', 'asdf': 'asdf'}, 'something': ['weel', 'i dont know'], 3456: 'byby', 23: 35.345}\n"
          ],
          "name": "stdout"
        }
      ]
    },
    {
      "cell_type": "code",
      "metadata": {
        "id": "ac7Eo42MRkOv"
      },
      "source": [
        "data = {}\n",
        "data['people'] = []\n",
        "data['people'].append({\n",
        "    'name': 'Scott',\n",
        "    'website': 'stackabuse.com',\n",
        "    'from': 'Nebraska'\n",
        "})\n",
        "data['people'].append({\n",
        "    'name': 'Larry',\n",
        "    'website': 'google.com',\n",
        "    'from': 'Michigan'\n",
        "})\n",
        "data['people'].append({\n",
        "    'name': 'Tim',\n",
        "    'website': 'apple.com',\n",
        "    'from': 'Alabama'\n",
        "})\n"
      ],
      "execution_count": 2,
      "outputs": []
    },
    {
      "cell_type": "code",
      "metadata": {
        "id": "bTImLWmIRpjU"
      },
      "source": [
        ""
      ],
      "execution_count": null,
      "outputs": []
    }
  ]
}