{
  "nbformat": 4,
  "nbformat_minor": 0,
  "metadata": {
    "colab": {
      "name": "dcitonary",
      "provenance": [],
      "collapsed_sections": [],
      "toc_visible": true,
      "include_colab_link": true
    },
    "kernelspec": {
      "display_name": "Python 3",
      "name": "python3"
    }
  },
  "cells": [
    {
      "cell_type": "markdown",
      "metadata": {
        "id": "view-in-github",
        "colab_type": "text"
      },
      "source": [
        "<a href=\"https://colab.research.google.com/github/RafsanJany-44/practice_cell/blob/master/dcitonary.ipynb\" target=\"_parent\"><img src=\"https://colab.research.google.com/assets/colab-badge.svg\" alt=\"Open In Colab\"/></a>"
      ]
    },
    {
      "cell_type": "code",
      "metadata": {
        "id": "D4IOJYTgn-su",
        "colab": {
          "base_uri": "https://localhost:8080/"
        },
        "outputId": "2e38ddb1-3c47-4abe-e67c-a26e857efc8d"
      },
      "source": [
        "import time\n",
        "start=time.time()\n",
        "\n",
        "a = {11:2 ,\n",
        "     22:1 ,\n",
        "     43:3 ,\n",
        "     90:4 ,\n",
        "     7:5 ,\n",
        "     10:6 }\n",
        "b=True\n",
        "c=False\n",
        "\n",
        "print(sorted(a.keys(),reverse=b))\n",
        "print(sorted(a.values(),reverse=c))\n",
        "\n",
        "end=time.time()\n",
        "print(\"__________________________execusion time: \",end-start)"
      ],
      "execution_count": null,
      "outputs": [
        {
          "output_type": "stream",
          "text": [
            "[90, 43, 22, 11, 10, 7]\n",
            "[1, 2, 3, 4, 5, 6]\n",
            "__________________________execusion time:  0.0005004405975341797\n"
          ],
          "name": "stdout"
        }
      ]
    },
    {
      "cell_type": "markdown",
      "metadata": {
        "id": "3TF28_Uc9oB-"
      },
      "source": [
        "#Working"
      ]
    },
    {
      "cell_type": "code",
      "metadata": {
        "colab": {
          "base_uri": "https://localhost:8080/"
        },
        "id": "KFn0eqaVyFKU",
        "outputId": "1b89a742-86e4-424c-c370-5a449a31f620"
      },
      "source": [
        "import time\n",
        "\n",
        "data = {}\n",
        "data['people'] = []\n",
        "data['people'].append({\n",
        "    'name': 'Scott',\n",
        "    'website': 'stackabuse.com',\n",
        "    'from': 'Nebraska'\n",
        "})\n",
        "data['people'].append({\n",
        "    'name': 'Larry',\n",
        "    'website': 'google.com',\n",
        "    'from': 'Michigan'\n",
        "})\n",
        "data['people'].append({\n",
        "    'name': 'Tim',\n",
        "    'website': 'apple.com',\n",
        "    'from': 'Alabama'\n",
        "})\n",
        "\n",
        "\n",
        "\n",
        "\n",
        "start=time.time()\n",
        "\n",
        "\n",
        "\n",
        "\n",
        "\n",
        "\n",
        "\n",
        "\n",
        "def key_search(dict,value):\n",
        "  list_of_keys = list(dict.keys())\n",
        "  list_of_value = list(dict.values())\n",
        "  position = list_of_value.index(value)\n",
        "  return list_of_keys[position]\n",
        "\n",
        "\n",
        "\n",
        "def value_sort(dict,type=False):\n",
        "  d={}\n",
        "  values=sorted(dict.values(),reverse=type)\n",
        "  for i in values:\n",
        "    d[key_search(dict,i)]=i\n",
        "  return d\n",
        "\n",
        "\n",
        "def key_sort(dict,type=False):\n",
        "  d={}\n",
        "  keys=sorted(dict.keys(),reverse=type)\n",
        "  for i in keys:\n",
        "    d[i]=dict[i]\n",
        "  return d\n",
        "\n",
        "\n",
        "\n",
        "def to_json(dict,file_name_or_path):\n",
        "  import json\n",
        "  with open(file_name_or_path, 'w') as outfile:\n",
        "    json.dump(dict, outfile)\n",
        "\n",
        "\n",
        "def from_json(file_name_or_path):\n",
        "  import json\n",
        "  with open(file_name_or_path) as infile:\n",
        "    return json.load(infile)\n",
        "\n",
        "\n",
        "\n",
        "\n",
        "\n",
        "\n",
        "end=time.time()\n",
        "\n",
        "to_json(data,\"new.json\")\n",
        "\n",
        "print(from_json(\"new.json\"))\n",
        "\n",
        "\n",
        "print(\"______________________________time: \",end-start)\n"
      ],
      "execution_count": 38,
      "outputs": [
        {
          "output_type": "stream",
          "text": [
            "{'people': [{'name': 'Scott', 'website': 'stackabuse.com', 'from': 'Nebraska'}, {'name': 'Larry', 'website': 'google.com', 'from': 'Michigan'}, {'name': 'Tim', 'website': 'apple.com', 'from': 'Alabama'}]}\n",
            "______________________________time:  0.000247955322265625\n"
          ],
          "name": "stdout"
        }
      ]
    },
    {
      "cell_type": "code",
      "metadata": {
        "id": "6iFiEn6T8C1g",
        "outputId": "a98df198-0c93-469f-c8c1-6fae9fa3d185",
        "colab": {
          "base_uri": "https://localhost:8080/"
        }
      },
      "source": [
        "\n",
        "import json\n",
        "\n",
        "with open('data.json') as f:\n",
        "  data = json.load(f)\n",
        "\n",
        "# Output: {'name': 'Bob', 'languages': ['English', 'Fench']}\n",
        "print(data)"
      ],
      "execution_count": 34,
      "outputs": [
        {
          "output_type": "stream",
          "text": [
            "{'rafsan': 1, 'jany': 6, 'akib': 3, 'akiba': 3, 'babu': 4, 'zarif': 7}\n"
          ],
          "name": "stdout"
        }
      ]
    }
  ]
}