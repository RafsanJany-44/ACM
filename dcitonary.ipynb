{
  "nbformat": 4,
  "nbformat_minor": 0,
  "metadata": {
    "colab": {
      "name": "dcitonary",
      "provenance": [],
      "collapsed_sections": [],
      "toc_visible": true,
      "include_colab_link": true
    },
    "kernelspec": {
      "display_name": "Python 3",
      "name": "python3"
    }
  },
  "cells": [
    {
      "cell_type": "markdown",
      "metadata": {
        "id": "view-in-github",
        "colab_type": "text"
      },
      "source": [
        "<a href=\"https://colab.research.google.com/github/RafsanJany-44/practice_cell/blob/master/dcitonary.ipynb\" target=\"_parent\"><img src=\"https://colab.research.google.com/assets/colab-badge.svg\" alt=\"Open In Colab\"/></a>"
      ]
    },
    {
      "cell_type": "code",
      "metadata": {
        "id": "D4IOJYTgn-su",
        "colab": {
          "base_uri": "https://localhost:8080/"
        },
        "outputId": "2e38ddb1-3c47-4abe-e67c-a26e857efc8d"
      },
      "source": [
        "import time\n",
        "start=time.time()\n",
        "\n",
        "a = {11:2 ,\n",
        "     22:1 ,\n",
        "     43:3 ,\n",
        "     90:4 ,\n",
        "     7:5 ,\n",
        "     10:6 }\n",
        "b=True\n",
        "c=False\n",
        "\n",
        "print(sorted(a.keys(),reverse=b))\n",
        "print(sorted(a.values(),reverse=c))\n",
        "\n",
        "end=time.time()\n",
        "print(\"__________________________execusion time: \",end-start)"
      ],
      "execution_count": null,
      "outputs": [
        {
          "output_type": "stream",
          "text": [
            "[90, 43, 22, 11, 10, 7]\n",
            "[1, 2, 3, 4, 5, 6]\n",
            "__________________________execusion time:  0.0005004405975341797\n"
          ],
          "name": "stdout"
        }
      ]
    },
    {
      "cell_type": "markdown",
      "metadata": {
        "id": "3TF28_Uc9oB-"
      },
      "source": [
        "#Working"
      ]
    },
    {
      "cell_type": "code",
      "metadata": {
        "colab": {
          "base_uri": "https://localhost:8080/"
        },
        "id": "KFn0eqaVyFKU",
        "outputId": "3476f52b-52e7-4a4a-81ef-1e0590b6daf9"
      },
      "source": [
        "import time\n",
        "\n",
        "a={\n",
        "    \"rafsan\":1,\n",
        "   \"jany\":6,\n",
        "   \"akib\":3,\n",
        "   \"akiba\":3,\n",
        "   \"babu\":4,\n",
        "   \"zarif\":7\n",
        "}\n",
        "\n",
        "\n",
        "\n",
        "\n",
        "start=time.time()\n",
        "\n",
        "\n",
        "\n",
        "\n",
        "\n",
        "\n",
        "\n",
        "\n",
        "def key_search(dict,value):\n",
        "  list_of_keys = list(dict.keys())\n",
        "  list_of_value = list(dict.values())\n",
        "  position = list_of_value.index(value)\n",
        "  return list_of_keys[position]\n",
        "\n",
        "\n",
        "\n",
        "def value_sort(dict,type=False):\n",
        "  d={}\n",
        "  values=sorted(dict.values(),reverse=type)\n",
        "  for i in values:\n",
        "    d[key_search(dict,i)]=i\n",
        "  return d\n",
        "\n",
        "\n",
        "def key_sort(dict,type=False):\n",
        "  d={}\n",
        "  keys=sorted(dict.keys(),reverse=type)\n",
        "  for i in keys:\n",
        "    d[i]=dict[i]\n",
        "  return d\n",
        "\n",
        "\n",
        "\n",
        "def to_json(dict,file_name):\n",
        "  import json\n",
        "  with open(file_name, 'w') as outfile:\n",
        "    json.dump(dict, outfile)\n",
        "\n",
        "\n",
        "\n",
        "\n",
        "\n",
        "\n",
        "\n",
        "end=time.time()\n",
        "\n",
        "to_json(a,\"karim.json\")\n",
        "\n",
        "print(key_sort(a))\n",
        "\n",
        "\n",
        "print(\"______________________________time: \",end-start)\n"
      ],
      "execution_count": 33,
      "outputs": [
        {
          "output_type": "stream",
          "text": [
            "{'akib': 3, 'akiba': 3, 'babu': 4, 'jany': 6, 'rafsan': 1, 'zarif': 7}\n",
            "______________________________time:  0.0015819072723388672\n"
          ],
          "name": "stdout"
        }
      ]
    },
    {
      "cell_type": "code",
      "metadata": {
        "id": "HeYqBjRCz6Zb",
        "outputId": "6d88cd10-605a-4111-9fcc-2d1322df5b21",
        "colab": {
          "base_uri": "https://localhost:8080/",
          "height": 198
        }
      },
      "source": [
        "import json\n",
        "\n",
        "data = {}\n",
        "data['people'] = []\n",
        "data['people'].append({\n",
        "    'name': 'Scott',\n",
        "    'website': 'stackabuse.com',\n",
        "    'from': 'Nebraska'\n",
        "})\n",
        "data['people'].append({\n",
        "    'name': 'Larry',\n",
        "    'website': 'google.com',\n",
        "    'from': 'Michigan'\n",
        "})\n",
        "data['people'].append({\n",
        "    'name': 'Tim',\n",
        "    'website': 'apple.com',\n",
        "    'from': 'Alabama'\n",
        "})\n",
        "\n",
        "with open('data.json', 'w') as outfile:\n",
        "    json.dump(a, outfile)\n",
        "\n",
        "print(data.json)"
      ],
      "execution_count": 29,
      "outputs": [
        {
          "output_type": "error",
          "ename": "AttributeError",
          "evalue": "ignored",
          "traceback": [
            "\u001b[0;31m---------------------------------------------------------------------------\u001b[0m",
            "\u001b[0;31mAttributeError\u001b[0m                            Traceback (most recent call last)",
            "\u001b[0;32m<ipython-input-29-89614b982c90>\u001b[0m in \u001b[0;36m<module>\u001b[0;34m()\u001b[0m\n\u001b[1;32m     22\u001b[0m     \u001b[0mjson\u001b[0m\u001b[0;34m.\u001b[0m\u001b[0mdump\u001b[0m\u001b[0;34m(\u001b[0m\u001b[0ma\u001b[0m\u001b[0;34m,\u001b[0m \u001b[0moutfile\u001b[0m\u001b[0;34m)\u001b[0m\u001b[0;34m\u001b[0m\u001b[0;34m\u001b[0m\u001b[0m\n\u001b[1;32m     23\u001b[0m \u001b[0;34m\u001b[0m\u001b[0m\n\u001b[0;32m---> 24\u001b[0;31m \u001b[0mprint\u001b[0m\u001b[0;34m(\u001b[0m\u001b[0mdata\u001b[0m\u001b[0;34m.\u001b[0m\u001b[0mjson\u001b[0m\u001b[0;34m)\u001b[0m\u001b[0;34m\u001b[0m\u001b[0;34m\u001b[0m\u001b[0m\n\u001b[0m",
            "\u001b[0;31mAttributeError\u001b[0m: 'dict' object has no attribute 'json'"
          ]
        }
      ]
    },
    {
      "cell_type": "code",
      "metadata": {
        "id": "cOnsfpSm5hTA",
        "outputId": "b5a7df08-110c-43b3-b607-b4df39e13d81",
        "colab": {
          "base_uri": "https://localhost:8080/",
          "height": 198
        }
      },
      "source": [
        "f = open(\"demofilee.json\", \"w\")\n",
        "f.write(a)\n",
        "f.close()"
      ],
      "execution_count": 27,
      "outputs": [
        {
          "output_type": "error",
          "ename": "TypeError",
          "evalue": "ignored",
          "traceback": [
            "\u001b[0;31m---------------------------------------------------------------------------\u001b[0m",
            "\u001b[0;31mTypeError\u001b[0m                                 Traceback (most recent call last)",
            "\u001b[0;32m<ipython-input-27-312767580936>\u001b[0m in \u001b[0;36m<module>\u001b[0;34m()\u001b[0m\n\u001b[1;32m      1\u001b[0m \u001b[0mf\u001b[0m \u001b[0;34m=\u001b[0m \u001b[0mopen\u001b[0m\u001b[0;34m(\u001b[0m\u001b[0;34m\"demofilee.json\"\u001b[0m\u001b[0;34m,\u001b[0m \u001b[0;34m\"w\"\u001b[0m\u001b[0;34m)\u001b[0m\u001b[0;34m\u001b[0m\u001b[0;34m\u001b[0m\u001b[0m\n\u001b[0;32m----> 2\u001b[0;31m \u001b[0mf\u001b[0m\u001b[0;34m.\u001b[0m\u001b[0mwrite\u001b[0m\u001b[0;34m(\u001b[0m\u001b[0ma\u001b[0m\u001b[0;34m)\u001b[0m\u001b[0;34m\u001b[0m\u001b[0;34m\u001b[0m\u001b[0m\n\u001b[0m\u001b[1;32m      3\u001b[0m \u001b[0mf\u001b[0m\u001b[0;34m.\u001b[0m\u001b[0mclose\u001b[0m\u001b[0;34m(\u001b[0m\u001b[0;34m)\u001b[0m\u001b[0;34m\u001b[0m\u001b[0;34m\u001b[0m\u001b[0m\n",
            "\u001b[0;31mTypeError\u001b[0m: write() argument must be str, not dict"
          ]
        }
      ]
    }
  ]
}