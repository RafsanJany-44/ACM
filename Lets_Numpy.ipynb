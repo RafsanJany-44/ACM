{
  "nbformat": 4,
  "nbformat_minor": 0,
  "metadata": {
    "colab": {
      "provenance": [],
      "authorship_tag": "ABX9TyMmZFVFv+W7hUtKATxMaYp/",
      "include_colab_link": true
    },
    "kernelspec": {
      "name": "python3",
      "display_name": "Python 3"
    },
    "language_info": {
      "name": "python"
    }
  },
  "cells": [
    {
      "cell_type": "markdown",
      "metadata": {
        "id": "view-in-github",
        "colab_type": "text"
      },
      "source": [
        "<a href=\"https://colab.research.google.com/github/RafsanJany-44/ARC/blob/master/Lets_Numpy.ipynb\" target=\"_parent\"><img src=\"https://colab.research.google.com/assets/colab-badge.svg\" alt=\"Open In Colab\"/></a>"
      ]
    },
    {
      "cell_type": "code",
      "execution_count": 1,
      "metadata": {
        "colab": {
          "base_uri": "https://localhost:8080/"
        },
        "id": "KujQpFcRvo8t",
        "outputId": "5d196b7b-89ac-46cf-b9fa-05e924592896"
      },
      "outputs": [
        {
          "output_type": "stream",
          "name": "stdout",
          "text": [
            "Mounted at /content/drive\n"
          ]
        }
      ],
      "source": [
        "from google.colab import drive\n",
        "drive.mount('/content/drive')"
      ]
    },
    {
      "cell_type": "code",
      "source": [
        "import numpy as np\n",
        "import pandas as pd\n",
        "from tqdm.notebook import tqdm"
      ],
      "metadata": {
        "id": "jXz03SSBvwtD"
      },
      "execution_count": 2,
      "outputs": []
    },
    {
      "cell_type": "code",
      "source": [
        "hr_aee = pd.read_csv(\"/content/drive/MyDrive/Iqram Sir/fitabse_new/Fitabase_HR_aEE_MAX_08.17.2023.csv\")\n",
        "py_hrv = pd.read_csv(\"/content/drive/MyDrive/Iqram Sir/fitabse_new/Fitabase_combined_data_S01-S56.csv\")"
      ],
      "metadata": {
        "id": "_xY1AuMswDxx"
      },
      "execution_count": 3,
      "outputs": []
    },
    {
      "cell_type": "code",
      "source": [
        "%time\n",
        "\n",
        "\n",
        "no_need = [\"Subject\",\"Condition\",\"Activity\",\"Epoch Duration(min)\",\"Epoch\"]\n",
        "objet_type_col = [\"fft_window\",\"fft_interpolation\",\"ar_interpolation\"]\n",
        "\n",
        "\n",
        "for i in list(py_hrv.columns):\n",
        "  if i not in no_need:\n",
        "    hr_aee[i+'_Extreme'] = ''\n",
        "    hr_aee[i+'_Heavy'] = ''\n",
        "    hr_aee[i+'_Moderate'] = ''\n",
        "    hr_aee[i+'_Light'] = ''\n",
        "\n",
        "\n",
        "\n",
        "\n",
        "\n",
        "\n",
        "for hr_aee_index in tqdm(range(hr_aee.shape[0])):\n",
        "  p_id = r_aee_subject = hr_aee[\"Patient_Id\"][hr_aee_index]\n",
        "  condition = r_aee_subject = hr_aee[\"Condition\"][hr_aee_index]\n",
        "\n",
        "  for i in list(py_hrv.columns):\n",
        "      if i not in no_need and i not in objet_type_col:\n",
        "        hr_aee[i+'_Extreme'][hr_aee_index] = np.nanmean(list(py_hrv.query(\"Subject == '\"+p_id+\"' and \tCondition == '\"+condition+\"' and \tActivity == 'Extreme'\")[i]))\n",
        "        hr_aee[i+'_Heavy'][hr_aee_index] = np.nanmean(list(py_hrv.query(\"Subject == '\"+p_id+\"' and \tCondition == '\"+condition+\"' and \tActivity == 'Heavy'\")[i]))\n",
        "        hr_aee[i+'_Moderate'][hr_aee_index] = np.nanmean(list(py_hrv.query(\"Subject == '\"+p_id+\"' and \tCondition == '\"+condition+\"' and \tActivity == 'Moderate'\")[i]))\n",
        "        hr_aee[i+'_Light'][hr_aee_index] = np.nanmean(list(py_hrv.query(\"Subject == '\"+p_id+\"' and \tCondition == '\"+condition+\"' and \tActivity == 'Light'\")[i]))\n",
        "\n",
        "\n",
        "\n",
        "\n",
        "\n"
      ],
      "metadata": {
        "id": "_E4oI-9nxCM6"
      },
      "execution_count": null,
      "outputs": []
    },
    {
      "cell_type": "code",
      "source": [
        "hr_aee_col  = list(hr_aee.columns)\n",
        "py_hrv_col = list(py_hrv.columns)\n",
        "\n",
        "\n",
        "hr_aee_np = hr_aee.to_numpy()\n",
        "py_hrv_np = py_hrv.to_numpy()"
      ],
      "metadata": {
        "id": "xuOexdtmwKd4"
      },
      "execution_count": 19,
      "outputs": []
    },
    {
      "cell_type": "code",
      "source": [
        "py_hrv_np[0][py_hrv_col.index('nni_mean')]"
      ],
      "metadata": {
        "colab": {
          "base_uri": "https://localhost:8080/"
        },
        "id": "lpYDyVfQwnSW",
        "outputId": "86909067-107b-4417-ad90-3dd5a86bd5e0"
      },
      "execution_count": 27,
      "outputs": [
        {
          "output_type": "execute_result",
          "data": {
            "text/plain": [
              "568.741935483871"
            ]
          },
          "metadata": {},
          "execution_count": 27
        }
      ]
    },
    {
      "cell_type": "code",
      "source": [],
      "metadata": {
        "id": "Qjuuccxd0voF"
      },
      "execution_count": null,
      "outputs": []
    },
    {
      "cell_type": "code",
      "source": [],
      "metadata": {
        "id": "K7MIIHDr1T_K"
      },
      "execution_count": null,
      "outputs": []
    },
    {
      "cell_type": "code",
      "source": [],
      "metadata": {
        "id": "UWI3Cmrx1T74"
      },
      "execution_count": null,
      "outputs": []
    },
    {
      "cell_type": "code",
      "source": [],
      "metadata": {
        "id": "z5K8azsm1T5O"
      },
      "execution_count": null,
      "outputs": []
    },
    {
      "cell_type": "code",
      "source": [],
      "metadata": {
        "id": "mz-qWlwE1T2f"
      },
      "execution_count": null,
      "outputs": []
    },
    {
      "cell_type": "code",
      "source": [],
      "metadata": {
        "id": "T7PZRRWF1TwA"
      },
      "execution_count": null,
      "outputs": []
    }
  ]
}