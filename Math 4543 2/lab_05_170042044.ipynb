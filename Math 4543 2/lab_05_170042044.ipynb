{
  "nbformat": 4,
  "nbformat_minor": 0,
  "metadata": {
    "colab": {
      "name": "lab_05_170042044.ipynb",
      "provenance": [],
      "collapsed_sections": []
    },
    "kernelspec": {
      "name": "python3",
      "display_name": "Python 3"
    }
  },
  "cells": [
    {
      "cell_type": "markdown",
      "metadata": {
        "id": "xug5LjfOA-w2",
        "colab_type": "text"
      },
      "source": [
        "# Riemann Sum \n",
        "Let f be defined on the closed interval $[a,b]$, and let $∆$ be an arbitrary partition of $[a,b]$ such as: $a = x_{0} < x_{1} < x_{2} < ..... < x_{n−1} < x_{n} = b$ , where $∆x_{i}$  is the length of the $i$ th subinterval. \n",
        "If $c_{i}$ is any point in the $i th$ subinterval, then the riemann sum will be \n",
        "\n",
        "$$\\sum_{i=1}^{n} f(c_{i})∆x_{i} $$ where $∆x_{i-1} < c_{i} < ∆x_{i}$ \n",
        "\n",
        "\n",
        "Now Let us consider any function $$f(x) = sin(x)$$\n",
        " Approximate the integral of the function f(x) within the range $[0, \\pi]$ with different number of segments using Right Hand Riemann sum (You can follow the lecture materials from the class). Repeat your process with varying values of $n$ where $n$ is the number of segments within the range $[0, \\pi]$ . Manually calculate the value of the integral using original formula thus you should be able to calculate the relative error for each $n$ you take.\n",
        "\n",
        "Now Plot a the $error\\_values$ vs $n$\n",
        "\n"
      ]
    },
    {
      "cell_type": "code",
      "metadata": {
        "id": "ttrV8kHXAvYI",
        "colab_type": "code",
        "colab": {
          "base_uri": "https://localhost:8080/",
          "height": 68
        },
        "outputId": "43bd3a25-facc-48f3-ffeb-34fe4283915b"
      },
      "source": [
        "import numpy as np\n",
        "upper = np.pi\n",
        "lower = 0\n",
        "n = 15\n",
        "x_values = np.linspace(start = lower, stop = upper, num = n, endpoint=True)\n",
        "print(x_values)"
      ],
      "execution_count": 27,
      "outputs": [
        {
          "output_type": "stream",
          "text": [
            "[0.         0.22439948 0.44879895 0.67319843 0.8975979  1.12199738\n",
            " 1.34639685 1.57079633 1.7951958  2.01959528 2.24399475 2.46839423\n",
            " 2.6927937  2.91719318 3.14159265]\n"
          ],
          "name": "stdout"
        }
      ]
    },
    {
      "cell_type": "markdown",
      "metadata": {
        "id": "i8MjsuWLzm4J",
        "colab_type": "text"
      },
      "source": [
        "#RIEMANN SUM FUNCTION"
      ]
    },
    {
      "cell_type": "code",
      "metadata": {
        "id": "ey_BUzTbLgVD",
        "colab_type": "code",
        "colab": {
          "base_uri": "https://localhost:8080/",
          "height": 51
        },
        "outputId": "2278f8a1-7484-4f01-9399-9d1fe209fa8b"
      },
      "source": [
        "import numpy as np\n",
        "from scipy.integrate import quad\n",
        "import matplotlib.pyplot as plt\n",
        "\n",
        "S,err = quad(np.sin, 0, np.pi)\n",
        "\n",
        "\n",
        "def  riemann_sum (n):\n",
        "  upper = np.pi\n",
        "  lower = 0\n",
        "  del_X= (upper-lower)/n\n",
        "  xi = np.linspace(start = lower, stop = upper, num = n, endpoint=True)\n",
        "  return np.sum(np.sin(xi)*del_X)\n",
        "\n",
        "print(\"Riemann sum of 15 segments:\",riemann_sum(15))\n",
        "print(\"The Intrigrated Value:\",S)\n"
      ],
      "execution_count": 33,
      "outputs": [
        {
          "output_type": "stream",
          "text": [
            "Riemann sum of 15 segments: 1.858827065531403\n",
            "The Intrigrated Value: 2.0\n"
          ],
          "name": "stdout"
        }
      ]
    },
    {
      "cell_type": "markdown",
      "metadata": {
        "id": "SkhzhC9z0MIX",
        "colab_type": "text"
      },
      "source": [
        "#Calculating the  𝑒𝑟𝑟𝑜𝑟_𝑣𝑎𝑙𝑢𝑒"
      ]
    },
    {
      "cell_type": "code",
      "metadata": {
        "id": "M1sqEZST0Unx",
        "colab_type": "code",
        "colab": {
          "base_uri": "https://localhost:8080/",
          "height": 54
        },
        "outputId": "e833fa9c-589e-43f5-fed2-a3a8b4cb52d9"
      },
      "source": [
        "relative_errors=[abs(S -riemann_sum (n))/S for n in range(1,16)]\n",
        "print(relative_errors)"
      ],
      "execution_count": 35,
      "outputs": [
        {
          "output_type": "stream",
          "text": [
            "[1.0, 0.9999999999999999, 0.4764012244017011, 0.31982523841216826, 0.24155244082518412, 0.19426433412799793, 0.16252975715126838, 0.1397364530399221, 0.12256373246864416, 0.1091571349525825, 0.09839839204115697, 0.08957263115007363, 0.08220133388416184, 0.0759520257313906, 0.07058646723429851]\n"
          ],
          "name": "stdout"
        }
      ]
    },
    {
      "cell_type": "markdown",
      "metadata": {
        "id": "UVrMqrHn0D8f",
        "colab_type": "text"
      },
      "source": [
        "#Ploting a the  𝑒𝑟𝑟𝑜𝑟_𝑣𝑎𝑙𝑢𝑒𝑠  vs  𝑛"
      ]
    },
    {
      "cell_type": "code",
      "metadata": {
        "id": "aL3n8NEDmfsW",
        "colab_type": "code",
        "colab": {
          "base_uri": "https://localhost:8080/",
          "height": 295
        },
        "outputId": "35729791-cda0-46cc-e66b-3d7b69ab6afc"
      },
      "source": [
        "plt.plot(range(1, 16), relative_errors, marker='o',color='b')\n",
        "plt.title('Relative errors vs n graph')\n",
        "plt.ylabel('Relative errors')\n",
        "plt.xlabel('n')\n",
        "plt.show()"
      ],
      "execution_count": 42,
      "outputs": [
        {
          "output_type": "display_data",
          "data": {
            "image/png": "[encoded data removed]",
            "text/plain": [
              "<Figure size 432x288 with 1 Axes>"
            ]
          },
          "metadata": {
            "tags": [],
            "needs_background": "light"
          }
        }
      ]
    },
    {
      "cell_type": "code",
      "metadata": {
        "id": "dDmCwqZjxhby",
        "colab_type": "code",
        "colab": {}
      },
      "source": [
        ""
      ],
      "execution_count": 21,
      "outputs": []
    }
  ]
}