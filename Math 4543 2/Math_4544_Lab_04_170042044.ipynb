{
  "nbformat": 4,
  "nbformat_minor": 0,
  "metadata": {
    "colab": {
      "name": "Math_4544_Lab_04_170042044.ipynb",
      "provenance": [],
      "collapsed_sections": []
    },
    "kernelspec": {
      "display_name": "Python 3",
      "language": "python",
      "name": "python3"
    },
    "language_info": {
      "codemirror_mode": {
        "name": "ipython",
        "version": 3
      },
      "file_extension": ".py",
      "mimetype": "text/x-python",
      "name": "python",
      "nbconvert_exporter": "python",
      "pygments_lexer": "ipython3",
      "version": "3.7.6"
    }
  },
  "cells": [
    {
      "cell_type": "markdown",
      "metadata": {
        "colab_type": "text",
        "id": "iGEwlD2aOu2q"
      },
      "source": [
        "\n",
        "<h1> Math 4544 Numerical Analysis Lab</h1>\n",
        "<h2> Lab 04 <h2>\n",
        "\n",
        "The Objectives of this weeks lab is to implement and understand linear regression. Linear regression is the most popular regression model. In this model, we wish to predict response to $n$ data points $(x_{1} ,y_{1}),(x_{2} ,y_{2}),......,(x_{n} ,y_{n}) $ by a regression model given by<br>\n",
        "\n",
        "\n",
        "> $y = a_{0} + a_{1}x $ <br>\n",
        "where $a_{0}$ and $a_{1}$ are the constants of the regression model.\n",
        "A measure of goodness of fit, that is, how well $a_{0} + a{1}x$ predicts the response variable\n",
        "$y$ is the magnitude of the residual $ε_{i}$ at each of the $n$ data points. <br>\n",
        "> $E_{i} = y_{i} -(a_{0} + a_{1}x_{i}) $ <br>\n",
        "\n",
        "Ideally, if all the residuals $ε_{i}$  are zero, one may have found an equation in which all\n",
        "the points lie on the model. Thus, minimization of the residual is an objective of obtaining\n",
        "regression coefficients. The most popular method to minimize the residual is the least squares methods, where the estimates of the constants of the models are chosen such that the sum of the\n",
        "squared residuals is minimized. For more on linear interpolation, please visit the class [lecture.](http://mathforcollege.com/nm/mws/gen/06reg/mws_gen_reg_txt_straightline.pdf) Go to  [matplotlib.pyplot tutorials](https://matplotlib.org/gallery/index.html#pyplot) for all kinds of help regarding plot.  \n"
      ]
    },
    {
      "cell_type": "markdown",
      "metadata": {
        "colab_type": "text",
        "id": "yh3QEXQ2eP44"
      },
      "source": [
        "## Task 01 ##\n",
        "The torque $T$ needed to turn the torsional spring of a mousetrap through an angle, $Θ$ is given below. . \n",
        "\n",
        "| Angle, Θ [radians] |  Torque, T [Nm] |\n",
        "| --- | --- | \n",
        "| 0.698132 | 0.188224 | \n",
        "| 0.959931 | 0.209138 | \n",
        "| 1.134464 | 230052 | \n",
        "| 1.570796 | 0.250965 | \n",
        "| 1.919862 | 0.313707 | \n",
        "\n",
        "\n"
      ]
    },
    {
      "cell_type": "code",
      "metadata": {
        "colab_type": "code",
        "id": "h0g_qQ8UVwRa",
        "colab": {}
      },
      "source": [
        "#Dataset description for Task 01\n",
        "import numpy as np\n",
        "import matplotlib.pyplot as plt\n",
        "import sympy as sym\n",
        "\n",
        "theta = np.array([0.698132, 0.959931, 1.134464, 1.570796, 1.919862])\n",
        "torque = np.array([0.188224, 0.209138, 0.230052, 0.250965, 0.313707])\n"
      ],
      "execution_count": 0,
      "outputs": []
    },
    {
      "cell_type": "code",
      "metadata": {
        "colab_type": "code",
        "id": "mkfopO8GNGha",
        "outputId": "d76988ac-6e3b-4ecc-b56d-c9e077cff6bf",
        "colab": {
          "base_uri": "https://localhost:8080/",
          "height": 295
        }
      },
      "source": [
        "\n",
        "x = theta\n",
        "y = torque\n",
        "\n",
        "#Calculating the values of k1 and k2\n",
        "n = len(x)\n",
        "\n",
        "\n",
        "mean_x=np.mean(x)\n",
        "mean_y=np.mean(y)\n",
        "ss_xy=np.sum(y*x)-n*mean_x*n*mean_y\n",
        "ss_xx=np.sum(x*x)-n*mean_x*mean_x\n",
        "\n",
        "k1=ss_xy/ss_xx\n",
        "k2=mean_y-k1*mean_x\n",
        "\n",
        "\n",
        "# Taking data points for line plot\n",
        "thta = sym.symbols('thta')\n",
        "T = k1 + k2 * thta\n",
        "x_range = np.arange(start = x[0], stop=x[len(x)-1], step = 0.005 )\n",
        "y_pred = np.arange(start = x[0], stop=x[len(x)-1], step = 0.005 )\n",
        "m=len(x_range)\n",
        "for i in range(m):\n",
        "    y_pred[i] = T.subs(thta, x_range[i])\n",
        "\n",
        "# Comparative plotting\n",
        "plt.scatter(x,y, label='Original Points', color = 'b')\n",
        "plt.plot(x,y, label = 'Normal Approximation', color='g')\n",
        "plt.plot(x_range, y_pred, label = 'Regression', color = 'r')\n",
        "plt.title('Regression test')\n",
        "plt.xlabel('Angle, Theta')\n",
        "plt.ylabel('Torque, Nm')\n",
        "plt.legend()\n",
        "plt.show()\n"
      ],
      "execution_count": 0,
      "outputs": [
        {
          "output_type": "display_data",
          "data": {
            "image/png": "[encoded data removed]",
            "text/plain": [
              "<Figure size 432x288 with 1 Axes>"
            ]
          },
          "metadata": {
            "tags": []
          }
        }
      ]
    },
    {
      "cell_type": "markdown",
      "metadata": {
        "colab_type": "text",
        "id": "yEr1wdfykqYq"
      },
      "source": [
        "## Task 02 ##\n",
        "To find the longtidinal modulous of a composite materials, the follwoing data, as given in the table is collected.\n",
        "\n",
        "| Strain [m/m] |  Stress [Pa] |\n",
        "| --- | --- | \n",
        "| 0 | 0 | \n",
        "| 0.183 | 306 | \n",
        "| 0.36 | 612 | \n",
        "| 0.5224 | 917 | \n",
        "| 0.702 | 1223 | \n",
        "| 0.867 | 1529 | \n",
        "| 1.0244 | 1835 | \n",
        "| 1.1774 | 2140 | \n",
        "| 1.329 | 2446 | \n",
        "| 1.479 | 2752 |\n",
        "| 1.5 | 2767 | \n",
        "| 1.56 | 2896 | \n",
        "\n",
        "Find the longitudinal modulous $E$ using the regression model  $ σ = Eε$\n",
        "\n"
      ]
    },
    {
      "cell_type": "code",
      "metadata": {
        "colab_type": "code",
        "id": "MKzKSqcZTEtX",
        "colab": {}
      },
      "source": [
        "# Dataset description for Task 02\n",
        "strain = np.array([0.0000,      1.83e-3,    3.6e-3,  \n",
        "                   5.324e-3,    7.020e-3,   8.67e-3,\n",
        "                   1.0244e-2,   1.1774e-2,  1.329e-2,\n",
        "                   1.479e-2,    1.5e-2,     1.56e-2])\n",
        "\n",
        "stress = np.array([ 0.000,    3.06e8,     6.12e8, \n",
        "                    9.17e8,   1.22e9,     1.529e9, \n",
        "                    1.835e9,  2.14e9,     2.446e9,\n",
        "                    2.752e9,  2.767e9,    2.896e9 ])"
      ],
      "execution_count": 0,
      "outputs": []
    },
    {
      "cell_type": "code",
      "metadata": {
        "colab_type": "code",
        "id": "EeN2KuL1TVM9",
        "outputId": "b6bcbfd1-e635-4df9-f642-e9ec77546560",
        "colab": {
          "base_uri": "https://localhost:8080/",
          "height": 312
        }
      },
      "source": [
        "x = strain\n",
        "y = stress\n",
        "\n",
        "#Calculating the values of k1 and k2\n",
        "n = len(x)\n",
        "x_squared = np.multiply(x,x)\n",
        "xy = np.multiply(x,y)\n",
        "E = float(np.sum(xy)/np.sum(x_squared))\n",
        "print('The value of E is: ' , E)\n",
        "\n",
        "# Taking data points for line plot\n",
        "strain = sym.symbols('strain')\n",
        "T = E * strain\n",
        "x_range = np.arange(start = x[0], stop=x[len(x)-1], step = 0.005 )\n",
        "y_pred = np.arange(start = x[0], stop=x[len(x)-1], step = 0.005 )\n",
        "m=len(x_range)\n",
        "for i in range(m):\n",
        "    y_pred[i] = T.subs(strain, x_range[i])\n",
        "\n",
        "\n",
        "\n",
        "# Comparative plotting\n",
        "\n",
        "plt.scatter(x,y, label='Original Points', color = 'b')\n",
        "plt.plot(x,y, label = 'Normal Approximation', color='g')\n",
        "plt.plot(x_range, y_pred, label = 'Regression', color = 'r')\n",
        "plt.title('Regression test')\n",
        "plt.xlabel('Strain [m/m]')\n",
        "plt.ylabel('Stress [Pa]')\n",
        "plt.legend()\n",
        "plt.show()\n",
        "\n"
      ],
      "execution_count": 0,
      "outputs": [
        {
          "output_type": "stream",
          "text": [
            "The value of E is:  182820907110.36127\n"
          ],
          "name": "stdout"
        },
        {
          "output_type": "display_data",
          "data": {
            "image/png": "[encoded data removed]",
            "text/plain": [
              "<Figure size 432x288 with 1 Axes>"
            ]
          },
          "metadata": {
            "tags": []
          }
        }
      ]
    },
    {
      "cell_type": "markdown",
      "metadata": {
        "colab_type": "text",
        "id": "dPUi_mf8pjEL"
      },
      "source": [
        "#"
      ]
    },
    {
      "cell_type": "markdown",
      "metadata": {
        "id": "AT7APWFpEVtf",
        "colab_type": "text"
      },
      "source": [
        "## Task 03 ##\n",
        "To be able to draw road networks from aerial images, light intensities are measured at different pixel locations. The following intensities are given as a function of pixel location.\n",
        "\n",
        "|Pixel Location, (k)| Intensity (y)|\n",
        "|---|---|\n",
        "|-3|119|\n",
        "|-2|165|\n",
        "|-1|231|\n",
        "|0|243|\n",
        "|1|244|\n",
        "|2|214|\n",
        "|3|136|\n",
        "\n",
        "Regress the above data to a second order polynomial given by\n",
        "$$ y = a_{0} + a_{1}k + a_{2}k^{2}$$\n",
        "\n",
        "For implementation, use n (order of the polynomial as input and then based on that it should choose the polynomial to fit. )"
      ]
    },
    {
      "cell_type": "code",
      "metadata": {
        "id": "-fKAk90qP5BZ",
        "colab_type": "code",
        "colab": {}
      },
      "source": [
        "# Solution Code:\n",
        "# Using the nth polynomial regressor created above by the name nonlinear_polynomial()\n",
        "\n",
        "k = np.array([-3,-2,-1,0,1,2,3])\n",
        "y = np.array([119,165,231,243,244,214,136])\n"
      ],
      "execution_count": 0,
      "outputs": []
    },
    {
      "cell_type": "code",
      "metadata": {
        "id": "Ipe3Fb1ZP5-u",
        "colab_type": "code",
        "outputId": "a4d51acc-4085-48bf-a389-036974876bc7",
        "colab": {
          "base_uri": "https://localhost:8080/",
          "height": 265
        }
      },
      "source": [
        "#Your solution goes here.. \n",
        "\n",
        "\n",
        "def polynoimal(k,y,n):\n",
        "  mymodel = np.poly1d(np.polyfit(k, y, n))\n",
        "\n",
        "  myline = np.linspace(-4, 15,100)\n",
        "\n",
        "  plt.scatter(k, y)\n",
        "  plt.plot(myline, mymodel(myline),color=\"red\")\n",
        "  plt.show()\n",
        "\n",
        "polynoimal(k,y,4)"
      ],
      "execution_count": 0,
      "outputs": [
        {
          "output_type": "display_data",
          "data": {
            "image/png": "[encoded data removed]",
            "text/plain": [
              "<Figure size 432x288 with 1 Axes>"
            ]
          },
          "metadata": {
            "tags": []
          }
        }
      ]
    },
    {
      "cell_type": "markdown",
      "metadata": {
        "id": "X3xJUMK5kOJ4",
        "colab_type": "text"
      },
      "source": [
        "\n"
      ]
    },
    {
      "cell_type": "markdown",
      "metadata": {
        "id": "iNdFNtAuk-08",
        "colab_type": "text"
      },
      "source": [
        "### Observations ##\n",
        "\n",
        "Regression coefficient is a statistical measure of the average functional relationship between two or more variables. In regression analysis, one variable is considered as dependent and other(s) as independent. Thus, it measures the degree of dependence of one variable on the other(s). Regression coefficient was first used for estimating the relationship between the heights of fathers and their sons.<br>\n",
        "<br>\n",
        "1. It is denoted by b or a.\n",
        "\n",
        "2. It is expressed in terms of original unit of data.\n",
        "\n",
        "3. Between two variables (say x and y), two values of regression coefficient can be obtained. One will be obtained when we consider x as independent and y as dependent and the other when we consider y as independent and x as dependent. The regression coefficient of y on x is represented as byx and that of x on y as bxy.\n",
        "\n",
        "4. Both regression coefficients must have the same sign. If byx is positive, bxy will also be positive and vice versa.\n",
        "\n",
        " 5.If one regression coefficient is greater than unity, then the other regression coefficient must be lesser than unity."
      ]
    }
  ]
}