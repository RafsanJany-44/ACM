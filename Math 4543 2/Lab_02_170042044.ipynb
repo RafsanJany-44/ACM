{
  "nbformat": 4,
  "nbformat_minor": 0,
  "metadata": {
    "colab": {
      "name": "Lab_02_170042044.ipynb",
      "provenance": [],
      "collapsed_sections": []
    },
    "kernelspec": {
      "name": "python3",
      "display_name": "Python 3"
    }
  },
  "cells": [
    {
      "cell_type": "markdown",
      "metadata": {
        "id": "iGEwlD2aOu2q",
        "colab_type": "text"
      },
      "source": [
        "\n",
        "<h1> Math 4544 Numerical Analysis Lab</h1>\n",
        "<h2> Lab 02 <h2>\n",
        "\n",
        "The Objectives of this weeks lab is to implement and understand different methods to find out the roots of non linear equation. At the successful completion of this lab you should be able to implement different methods of solving non linear equation and understand their basic workflow along with their performance comparison. \n",
        "\n",
        "Implement the follwoing methods in the lab. \n",
        "- Bisection method\n",
        "- Newton-Raphson method\n",
        "- False Position method\n",
        "- Secand method\n",
        "\n",
        "Go to  [matplotlib.pyplot tutorials](https://matplotlib.org/gallery/index.html#pyplot) for all kinds of help regarding plot. "
      ]
    },
    {
      "cell_type": "markdown",
      "metadata": {
        "id": "5arcEKH0RTrD",
        "colab_type": "text"
      },
      "source": [
        "\n",
        "\n",
        "```\n",
        "# This is formatted as code\n",
        "```\n",
        "\n",
        "### Task 01 : Bisection method ###"
      ]
    },
    {
      "cell_type": "code",
      "metadata": {
        "id": "kl88bXtlcF_Y",
        "colab_type": "code",
        "colab": {}
      },
      "source": [
        "import math\n",
        "import matplotlib.pyplot as plt\n",
        "import sympy\n",
        "\n",
        "x= sympy.Symbol('x')\n",
        "fx=x**4+8*x**3+23*x**2+28*x+9\n",
        "\n",
        "def dx(fx):                                                                     #activated\n",
        "  return sympy.diff(fx)\n",
        "\n",
        "def function(equation,value):                                                   #activated\n",
        "  x= sympy.Symbol('x')\n",
        "  return equation.evalf(subs={x:value})\n",
        "\n"
      ],
      "execution_count": 0,
      "outputs": []
    },
    {
      "cell_type": "markdown",
      "metadata": {
        "id": "QvmCNQHrvhpg",
        "colab_type": "text"
      },
      "source": [
        "Using <font color=\"green\">assump</font> function we can find <font color=\"red\">a</font> and <font color=\"red\">b</font>. And the <font color=\"red\">root</font> is between <font color=\"red\">a</font> and <font color=\"red\">b</font>.  "
      ]
    },
    {
      "cell_type": "code",
      "metadata": {
        "id": "HVANMbnDmJoM",
        "colab_type": "code",
        "colab": {
          "base_uri": "https://localhost:8080/",
          "height": 34
        },
        "outputId": "1c2285d3-0964-48e5-d900-ca305bb27e49"
      },
      "source": [
        "def assump(fx):\n",
        "  i=-50\n",
        "  u=[]\n",
        "  l=[]\n",
        "\n",
        "  while i<=50:\n",
        "\n",
        "    if function(fx,i)>0:\n",
        "      u.append(i)\n",
        "    elif function(fx,i)<0:\n",
        "      l.append(i)\n",
        "    i+=1\n",
        "  return min(u),max(l)\n",
        "\n",
        "a,b=assump(fx)\n",
        "print(a,b)"
      ],
      "execution_count": 67,
      "outputs": [
        {
          "output_type": "stream",
          "text": [
            "-50 -1\n"
          ],
          "name": "stdout"
        }
      ]
    },
    {
      "cell_type": "markdown",
      "metadata": {
        "id": "y-rdzsEPvk9k",
        "colab_type": "text"
      },
      "source": [
        "### Task 01 : Bisection method ###\n"
      ]
    },
    {
      "cell_type": "code",
      "metadata": {
        "id": "8r8DcYPdQcsZ",
        "colab_type": "code",
        "colab": {
          "base_uri": "https://localhost:8080/",
          "height": 54
        },
        "outputId": "db0e943d-fad6-4a31-f4f9-0b4abfcfbe6b"
      },
      "source": [
        "def bisection__(xl, xu, maxIter=50, threshold=2.0):\n",
        "\n",
        "  array_of_approximations1=[]\n",
        "  fx=x**4+8*x**3+23*x**2+28*x+9\n",
        "  for i in range(maxIter):\n",
        "    xm=(xu+xl)/2\n",
        "    array_of_approximations1.append(xm)\n",
        "    sign=function(fx,xm)\n",
        "    if sign > 0:\n",
        "      xu=xm\n",
        "    elif sign<0:\n",
        "      xl=xm\n",
        "    elif sign==0:\n",
        "      break\n",
        "  return array_of_approximations1\n",
        "a,b=assump(fx)\n",
        "print(bisection__(b, a))"
      ],
      "execution_count": 68,
      "outputs": [
        {
          "output_type": "stream",
          "text": [
            "[-25.5, -13.25, -7.125, -4.0625, -2.53125, -3.296875, -3.6796875, -3.48828125, -3.583984375, -3.5361328125, -3.51220703125, -3.524169921875, -3.5181884765625, -3.51519775390625, -3.516693115234375, -3.5174407958984375, -3.5178146362304688, -3.517627716064453, -3.5175342559814453, -3.5174875259399414, -3.5175108909606934, -3.5174992084503174, -3.5174933671951294, -3.5174904465675354, -3.5174889862537384, -3.517489716410637, -3.517490081489086, -3.5174898989498615, -3.517489990219474, -3.5174899445846677, -3.5174899217672646, -3.517489910358563, -3.517489916062914, -3.5174899132107385, -3.517489914636826, -3.5174899139237823, -3.5174899135672604, -3.5174899133889994, -3.51748991347813, -3.517489913522695, -3.5174899135449778, -3.517489913556119, -3.5174899135505484, -3.5174899135533337, -3.517489913551941, -3.5174899135526374, -3.5174899135522892, -3.517489913552115, -3.517489913552028, -3.5174899135519846]\n"
          ],
          "name": "stdout"
        }
      ]
    },
    {
      "cell_type": "markdown",
      "metadata": {
        "id": "G_eMZ4CaShpF",
        "colab_type": "text"
      },
      "source": [
        "### Task 02 : Newton Raphson Method ###\n"
      ]
    },
    {
      "cell_type": "code",
      "metadata": {
        "id": "kWnmplEpOrxD",
        "colab_type": "code",
        "colab": {
          "base_uri": "https://localhost:8080/",
          "height": 54
        },
        "outputId": "b0b13b87-6cfa-4ee2-add0-c2d442118b33"
      },
      "source": [
        "def newton__(x0, maxIter=50, threshold=2.0):\n",
        "\n",
        "  fx=x**4+8*x**3+23*x**2+28*x+9\n",
        "  array_of_approximations2=[]\n",
        "  for i in range(50):\n",
        "    xm=x0-(function(fx,x0)/function(dx(fx),x0))\n",
        "    array_of_approximations2.append(xm)\n",
        "    x0=xm \n",
        "  return array_of_approximations2\n",
        "a,b=assump(fx)\n",
        "print(newton__(b))"
      ],
      "execution_count": 69,
      "outputs": [
        {
          "output_type": "stream",
          "text": [
            "[0.500000000000000, -0.0184782608695652, -0.331106533108018, -0.460385871506825, -0.481953981084186, -0.482509724518112, -0.482510086447867, -0.482510086448020, -0.482510086448020, -0.482510086448020, -0.482510086448020, -0.482510086448020, -0.482510086448020, -0.482510086448020, -0.482510086448020, -0.482510086448020, -0.482510086448020, -0.482510086448020, -0.482510086448020, -0.482510086448020, -0.482510086448020, -0.482510086448020, -0.482510086448020, -0.482510086448020, -0.482510086448020, -0.482510086448020, -0.482510086448020, -0.482510086448020, -0.482510086448020, -0.482510086448020, -0.482510086448020, -0.482510086448020, -0.482510086448020, -0.482510086448020, -0.482510086448020, -0.482510086448020, -0.482510086448020, -0.482510086448020, -0.482510086448020, -0.482510086448020, -0.482510086448020, -0.482510086448020, -0.482510086448020, -0.482510086448020, -0.482510086448020, -0.482510086448020, -0.482510086448020, -0.482510086448020, -0.482510086448020, -0.482510086448020]\n"
          ],
          "name": "stdout"
        }
      ]
    },
    {
      "cell_type": "markdown",
      "metadata": {
        "id": "Nk-zDTSiTJkJ",
        "colab_type": "text"
      },
      "source": [
        "### Task 03 : False Position Method ###\n"
      ]
    },
    {
      "cell_type": "code",
      "metadata": {
        "id": "NRBjcKQsTGmr",
        "colab_type": "code",
        "colab": {
          "base_uri": "https://localhost:8080/",
          "height": 54
        },
        "outputId": "7c68e0b9-9631-40b9-bcd0-e6c88ad356e5"
      },
      "source": [
        "def falsePosition__(xl,xu, maxIter=50, threshold=2.0):\n",
        "    \n",
        "  array_of_approximations3=[]\n",
        "  fx=x**4+8*x**3+23*x**2+28*x+9\n",
        "  for i in range(maxIter):\n",
        "    xm=((xl*function(fx,xu))-(xu*function(fx,xl)))/(function(fx,xu)-function(fx,xl))\n",
        "    array_of_approximations3.append(xm)\n",
        "    sign=function(fx,xm)\n",
        "    if sign > 0:\n",
        "      xu=xm\n",
        "    elif sign<0:\n",
        "      xl=xm\n",
        "    elif sign==0:\n",
        "      break\n",
        "  return array_of_approximations3\n",
        "a,b=assump(fx) \n",
        "print(falsePosition__(b,a))"
      ],
      "execution_count": 70,
      "outputs": [
        {
          "output_type": "stream",
          "text": [
            "[-1.00002770390071, -1.00005540829739, -1.00008311318998, -1.00011081857841, -1.00013852446263, -1.00016623084257, -1.00019393771817, -1.00022164508937, -1.00024935295610, -1.00027706131829, -1.00030477017590, -1.00033247952885, -1.00036018937709, -1.00038789972054, -1.00041561055916, -1.00044332189287, -1.00047103372161, -1.00049874604532, -1.00052645886394, -1.00055417217741, -1.00058188598565, -1.00060960028862, -1.00063731508624, -1.00066503037846, -1.00069274616521, -1.00072046244643, -1.00074817922206, -1.00077589649203, -1.00080361425629, -1.00083133251476, -1.00085905126739, -1.00088677051411, -1.00091449025487, -1.00094221048959, -1.00096993121822, -1.00099765244070, -1.00102537415695, -1.00105309636693, -1.00108081907056, -1.00110854226778, -1.00113626595854, -1.00116399014276, -1.00119171482039, -1.00121943999136, -1.00124716565561, -1.00127489181308, -1.00130261846371, -1.00133034560743, -1.00135807324418, -1.00138580137389]\n"
          ],
          "name": "stdout"
        }
      ]
    },
    {
      "cell_type": "markdown",
      "metadata": {
        "id": "uSi57AuETtEm",
        "colab_type": "text"
      },
      "source": [
        "### Task 04 : Secant Method ###\n"
      ]
    },
    {
      "cell_type": "markdown",
      "metadata": {
        "id": "sZ2cAtXTT0Vm",
        "colab_type": "text"
      },
      "source": [
        ""
      ]
    },
    {
      "cell_type": "code",
      "metadata": {
        "id": "VuPnxob6TvJ-",
        "colab_type": "code",
        "colab": {
          "base_uri": "https://localhost:8080/",
          "height": 54
        },
        "outputId": "323f0e1d-e9f0-41d6-c98d-6ed538b0c912"
      },
      "source": [
        "def secant__(xl,xu, maxIter=50, threshold=2.0):\n",
        "\n",
        "  fx=x**4+8*x**3+23*x**2+28*x+9\n",
        "  a=xu\n",
        "  b=xl\n",
        "  array_of_approximations4=[]\n",
        "  for i in range(50):\n",
        "    xm=a-(((a-b)*function(fx,a))/(function(fx,a)-function(fx,b)))\n",
        "    array_of_approximations4.append(xm)\n",
        "    b=a\n",
        "    a=xm\n",
        "  return array_of_approximations4\n",
        "a,b=assump(fx)\n",
        "print(secant__(b,a))"
      ],
      "execution_count": 71,
      "outputs": [
        {
          "output_type": "stream",
          "text": [
            "[-1.00002770390071, -1.00005540829739, 0.500311723228749, -0.862949291497638, -0.752830060620966, -0.268110209641632, -0.551128066807260, -0.498012385470576, -0.481187274133871, -0.482534343711264, -0.482510123996627, -0.482510086446954, -0.482510086448020, -0.482510086448020, nan, nan, nan, nan, nan, nan, nan, nan, nan, nan, nan, nan, nan, nan, nan, nan, nan, nan, nan, nan, nan, nan, nan, nan, nan, nan, nan, nan, nan, nan, nan, nan, nan, nan, nan, nan]\n"
          ],
          "name": "stdout"
        }
      ]
    },
    {
      "cell_type": "markdown",
      "metadata": {
        "id": "LBRWyRtAULE1",
        "colab_type": "text"
      },
      "source": [
        "### Task 05 : Calculate the relative approximate error ###\n",
        " "
      ]
    },
    {
      "cell_type": "code",
      "metadata": {
        "id": "OIqiH46vUont",
        "colab_type": "code",
        "colab": {}
      },
      "source": [
        "def calc_error(assumptions):\n",
        "    # assumptions: list of assumptions returned by any previous method implemented successfully\n",
        "    # rel_approx_errors: list of calculated relative approximate error values. \n",
        "    # ** make sure that you use absolute value here.\n",
        "\n",
        "  rel_approx_errors=[] \n",
        "   \n",
        "  for i in range(len(assumptions)-1):\n",
        "    rel_approx_errors.append(abs((assumptions[i+1]-assumptions[i])/assumptions[i+1])*100)\n",
        "\n",
        "  return rel_approx_errors\n"
      ],
      "execution_count": 0,
      "outputs": []
    },
    {
      "cell_type": "markdown",
      "metadata": {
        "id": "ZXggqPmWVWQG",
        "colab_type": "text"
      },
      "source": [
        "### Task 06: Ploting the errors###\n",
        "Plot all the errors from the previous four methods in one graph to compare their comparative efficiency. Make sure that you use appropriate legend/labels in the plot to differentiate different curves."
      ]
    },
    {
      "cell_type": "code",
      "metadata": {
        "id": "h0g_qQ8UVwRa",
        "colab_type": "code",
        "colab": {
          "base_uri": "https://localhost:8080/",
          "height": 279
        },
        "outputId": "14a616b2-33fb-4938-a2a9-e37c6d99a7c9"
      },
      "source": [
        "\n",
        "a,b=assump(fx)\n",
        "bisec = bisection__(b,a)\n",
        "newton = newton__(b)\n",
        "false = falsePosition__(b,a)\n",
        "secant = secant__(b,a)\n",
        "\n",
        "plt.plot([i for i in range(len(bisec[1:]))], calc_error(xbisec), label=\"Bisection\")\n",
        "plt.plot([i for i in range(len(newton[1:]))], calc_error(xnewton), label=\"Newton\")\n",
        "plt.plot([i for i in range(len(false[1:]))], calc_error(xfalse), label=\"False position\")\n",
        "plt.plot([i for i in range(len(secant[1:]))], calc_error(xsecant), label=\"Secant\")\n",
        "\n",
        "plt.plot()\n",
        "\n",
        "plt.xlabel(\"Iteration\")\n",
        "plt.ylabel(\"Error\")\n",
        "plt.legend()\n",
        "plt.show()"
      ],
      "execution_count": 78,
      "outputs": [
        {
          "output_type": "display_data",
          "data": {
            "image/png": "[encoded data removed]",
            "text/plain": [
              "<Figure size 432x288 with 1 Axes>"
            ]
          },
          "metadata": {
            "tags": []
          }
        }
      ]
    }
  ]
}