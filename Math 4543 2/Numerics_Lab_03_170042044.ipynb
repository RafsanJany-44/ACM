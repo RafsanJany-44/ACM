{
  "nbformat": 4,
  "nbformat_minor": 0,
  "metadata": {
    "colab": {
      "name": " Numerics_Lab_03_170042044.ipynb",
      "provenance": [],
      "collapsed_sections": []
    },
    "kernelspec": {
      "name": "python3",
      "display_name": "Python 3"
    }
  },
  "cells": [
    {
      "cell_type": "markdown",
      "metadata": {
        "id": "iGEwlD2aOu2q",
        "colab_type": "text"
      },
      "source": [
        "\n",
        "<h1> Math 4544 Numerical Analysis Lab</h1>\n",
        "<h2> Lab 03 <h2>\n",
        "\n",
        "The Objectives of this weeks lab is to implement and understand different methods of Interpolation. \n",
        "<br>\n",
        "\n",
        "In the mathematical field of numerical analysis, interpolation is a type of estimation, a method of constructing new data points within the range of a discrete set of known data points.\n",
        "\n",
        "In engineering and science, one often has a number of data points, obtained by sampling or experimentation, which represent the values of a function for a limited number of values of the independent variable. It is often required to interpolate, i.e., estimate the value of that function for an intermediate value of the independent variable. A closely related problem is the approximation of a complicated function by a simple function. Suppose the formula for some given function is known, but too complicated to evaluate efficiently. A few data points from the original function can be interpolated to produce a simpler function which is still fairly close to the original. The resulting gain in simplicity may outweigh the loss from interpolation error. For more basics of interpolation check interpolation on  [Wikipedia](https://en.wikipedia.org/wiki/Interpolation) \n",
        " \n",
        "\n",
        "At the successful completion of this lab you should be able to implement different methods of linear and non linear interpolation. \n",
        "\n",
        "\n",
        "\n",
        "Go to  [matplotlib.pyplot tutorials](https://matplotlib.org/gallery/index.html#pyplot) for all kinds of help regarding plot. For interpolation lectures, you can have a look at the class [lecture.](http://mathforcollege.com/nm/mws/gen/05inp/mws_gen_inp_txt_lagrange.pdf) \n"
      ]
    },
    {
      "cell_type": "markdown",
      "metadata": {
        "id": "yh3QEXQ2eP44",
        "colab_type": "text"
      },
      "source": [
        "## Task 01: Implementing $n^{th}$ order lagrangian interpolation ##\n",
        "The upward velocity of a rocket is given in the following table. \n",
        "\n",
        "| t (s) |  v(t) (m/s) |\n",
        "| --- | --- | \n",
        "| 0 | 0 | \n",
        "| 10 | 227.04 | \n",
        "| 15 | 362.78 | \n",
        "| 20 | 517.35 | \n",
        "| 22.5 | 602.97 | \n",
        "| 30 | 901.67 | \n",
        "| 32.5 | 1010.27 | \n",
        "| 37 | 1125 | \n",
        "| 40 | 1175 | \n",
        "| 42 | 1205 | \n",
        "| 45 | 1230 | \n",
        "| 49 | 1260 | \n",
        "| 52 | 1290 | \n",
        "| 54 | 1340 | \n",
        "\n",
        "\n",
        "*    \n",
        "\n",
        "*    Determine the value of the velolcity at $t = 27$ using an $ n^{th}$ order lagrangian interpolation. Your solution should take $n$ as an input and should be able to select closest $(n+1)$ points for finding out the lagrangian coeffecients. "
      ]
    },
    {
      "cell_type": "code",
      "metadata": {
        "id": "h0g_qQ8UVwRa",
        "colab_type": "code",
        "outputId": "56fce9c2-a39d-4913-d458-57abf537f216",
        "colab": {
          "base_uri": "https://localhost:8080/",
          "height": 295
        }
      },
      "source": [
        "#dataset description\n",
        "import numpy as np\n",
        "import matplotlib.pyplot  as plt  \n",
        "t = np.array([0,10,15,20,22.5,30,32.5,37,40,42,45,49,52,54])\n",
        "vt = np.array([0,227.04,362.78,517.35,602.97,901.67,1010.27,1125,1175,1205,1230,1260,1290,1340])\n",
        "\n",
        "plt.plot(t, vt, color='b', marker='o', label='original')\n",
        "plt.title('Velocity as a function of time')\n",
        "plt.xlabel('Time')\n",
        "plt.ylabel('Velocity')\n",
        "plt.legend()\n",
        "plt.show()\n"
      ],
      "execution_count": 10,
      "outputs": [
        {
          "output_type": "display_data",
          "data": {
            "image/png": "[encoded data removed]",
            "text/plain": [
              "<Figure size 432x288 with 1 Axes>"
            ]
          },
          "metadata": {
            "tags": []
          }
        }
      ]
    },
    {
      "cell_type": "markdown",
      "metadata": {
        "id": "yEr1wdfykqYq",
        "colab_type": "text"
      },
      "source": [
        "Take $n$ as an input [Try values like 2, 3, 4] and select closest $(n+1)$ data points from the given data. "
      ]
    },
    {
      "cell_type": "code",
      "metadata": {
        "id": "f1ui8-Iv1Lxk",
        "colab_type": "code",
        "colab": {}
      },
      "source": [
        "def trimmer__(t_in, vt_in, n, x_in):\n",
        "    # t_in : time list\n",
        "    # vt_in: velocity list\n",
        "    # x_in : value of t at which vt should be calculated\n",
        "    # output : closest n+1 points to the query\n",
        "    t_trimmed=[]\n",
        "    vt_trimmed=[]\n",
        "\n",
        "    b=int(n/2)\n",
        "    a=n-b\n",
        "    flag=0\n",
        "    \n",
        "    for i in range(14):\n",
        "      if x_in<=t_in[i]:\n",
        "        flag=i\n",
        "        break\n",
        "    \n",
        "    o=flag-a\n",
        "      \n",
        "    for j in range(a):\n",
        "      if (j+o)<0:\n",
        "        continue\n",
        "      t_trimmed.append(t_in[j+o])\n",
        "      vt_trimmed.append(vt_in[j+o])\n",
        "\n",
        "    \n",
        "    for j in range(b):\n",
        "      if (flag+j)>=14:\n",
        "        break\n",
        "      t_trimmed.append(t_in[flag+j])\n",
        "      vt_trimmed.append(vt_in[flag+j])\n",
        "      \n",
        "    return t_trimmed, vt_trimmed\n",
        "\n",
        "\n"
      ],
      "execution_count": 0,
      "outputs": []
    },
    {
      "cell_type": "code",
      "metadata": {
        "id": "6Geb3pXyngyI",
        "colab_type": "code",
        "colab": {}
      },
      "source": [
        "\n",
        "def Li(t_trim, vt_trim, x, i):\n",
        "    # li: ith lagrangian multiplier\n",
        "\n",
        "    l=len(t_trim)\n",
        "    under=1\n",
        "    upper=1\n",
        "    \n",
        "    for j in range(l):\n",
        "      if t_trim[j]==t_trim[i]:\n",
        "        continue\n",
        "      upper=upper*(x-t_trim[j])\n",
        "      if j!=i:\n",
        "        under=under*(t_trim[i]-t_trim[j])\n",
        "    \n",
        "    li=upper/under\n",
        "  \n",
        "    return li\n",
        "\n",
        "\n"
      ],
      "execution_count": 0,
      "outputs": []
    },
    {
      "cell_type": "code",
      "metadata": {
        "id": "Rg6WcjUoltkc",
        "colab_type": "code",
        "outputId": "08fa8bcf-ca6c-4fd8-a0bf-2a06114ac163",
        "colab": {
          "base_uri": "https://localhost:8080/",
          "height": 295
        }
      },
      "source": [
        "def nth_lagrangian(t, vt, x, n):\n",
        "    \n",
        "  \n",
        "    arr=[]\n",
        "    t_trim,vt_trim=trimmer__(t, vt, n, x)\n",
        "    y=0\n",
        "   \n",
        "    for i in range(n):\n",
        "      y=y+Li(t_trim, vt_trim, x, i)*vt_trim[i]\n",
        "      arr.append(y)\n",
        "\n",
        "    \n",
        "    plt.plot(x, y, color='red', marker='o', label='calculated interpolant')\n",
        "    plt.plot(t, vt, color='b', marker='o', label='original')\n",
        "    plt.title('Velocity as a function of time')\n",
        "    plt.xlabel('Time')\n",
        "    plt.ylabel('Velocity')\n",
        "    plt.legend()\n",
        "    plt.show()\n",
        "\n",
        "\n",
        "nth_lagrangian(t, vt, 33, 6)\n",
        "\n",
        "\n",
        "\n"
      ],
      "execution_count": 37,
      "outputs": [
        {
          "output_type": "display_data",
          "data": {
            "image/png": "[encoded data removed]",
            "text/plain": [
              "<Figure size 432x288 with 1 Axes>"
            ]
          },
          "metadata": {
            "tags": []
          }
        }
      ]
    },
    {
      "cell_type": "markdown",
      "metadata": {
        "id": "dPUi_mf8pjEL",
        "colab_type": "text"
      },
      "source": [
        "### Observations ###"
      ]
    },
    {
      "cell_type": "markdown",
      "metadata": {
        "id": "D8dJ7n72zLFr",
        "colab_type": "text"
      },
      "source": [
        "The Lagrange form of the interpolation polynomial shows the linear character of polynomial interpolation and the uniqueness of the interpolation polynomial. Therefore, it is preferred in proofs and theoretical arguments.<br>As can be seen from the construction, each time a node <font color=\"red\"> t_trim</font> changes, all Lagrange basis polynomials have to be recalculated. A better form of the interpolation polynomial for practical purposes is the barycentric form of the Lagrange interpolation"
      ]
    }
  ]
}