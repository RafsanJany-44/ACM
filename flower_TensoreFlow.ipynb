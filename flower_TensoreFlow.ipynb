{
  "cells": [
    {
      "cell_type": "markdown",
      "metadata": {
        "id": "view-in-github",
        "colab_type": "text"
      },
      "source": [
        "<a href=\"https://colab.research.google.com/github/RafsanJany-44/ARC/blob/master/flower_TensoreFlow.ipynb\" target=\"_parent\"><img src=\"https://colab.research.google.com/assets/colab-badge.svg\" alt=\"Open In Colab\"/></a>"
      ]
    },
    {
      "cell_type": "code",
      "source": [],
      "metadata": {
        "id": "svPlNHP0XziW"
      },
      "execution_count": null,
      "outputs": []
    },
    {
      "cell_type": "code",
      "source": [
        "from google.colab import drive\n",
        "drive.mount('/content/drive')"
      ],
      "metadata": {
        "colab": {
          "base_uri": "https://localhost:8080/"
        },
        "id": "ADSawqkUX4Do",
        "outputId": "e91b1cf5-3ba2-4a88-9307-45f6806630e0"
      },
      "execution_count": 1,
      "outputs": [
        {
          "output_type": "stream",
          "name": "stdout",
          "text": [
            "Mounted at /content/drive\n"
          ]
        }
      ]
    },
    {
      "cell_type": "code",
      "source": [
        "import pandas as pd\n",
        "import numpy as np\n",
        "\n",
        "df = pd.read_excel(\"/content/drive/MyDrive/Tanjila_mam/DS-Healthcare_version_2.xlsx\")"
      ],
      "metadata": {
        "id": "0OJhMPoHZOhc"
      },
      "execution_count": 2,
      "outputs": []
    },
    {
      "cell_type": "markdown",
      "metadata": {
        "id": "apflq_X1CpjI"
      },
      "source": [
        "# Flower Quickstart (Simulation with TensorFlow/Keras)\n",
        "\n",
        "Welcome to Flower, a friendly federated learning framework!\n",
        "\n",
        "In this notebook, we'll simulate a federated learning system with 100 clients. The clients will use TensorFlow/Keras to define model training and evaluation. Let's start by installing Flower (published as `flwr` on PyPI) with the `simulation` extra:"
      ]
    },
    {
      "cell_type": "code",
      "execution_count": 3,
      "metadata": {
        "id": "3G95KFFnCpjK",
        "colab": {
          "base_uri": "https://localhost:8080/"
        },
        "outputId": "5cd32d14-c9c8-4ff3-f0b3-5e6c253099e4"
      },
      "outputs": [
        {
          "output_type": "stream",
          "name": "stdout",
          "text": [
            "\u001b[2K     \u001b[90m━━━━━━━━━━━━━━━━━━━━━━━━━━━━━━━━━━━━━━━\u001b[0m \u001b[32m200.4/200.4 kB\u001b[0m \u001b[31m4.6 MB/s\u001b[0m eta \u001b[36m0:00:00\u001b[0m\n",
            "\u001b[2K     \u001b[90m━━━━━━━━━━━━━━━━━━━━━━━━━━━━━━━━━━━━━━━━\u001b[0m \u001b[32m2.1/2.1 MB\u001b[0m \u001b[31m19.0 MB/s\u001b[0m eta \u001b[36m0:00:00\u001b[0m\n",
            "\u001b[2K     \u001b[90m━━━━━━━━━━━━━━━━━━━━━━━━━━━━━━━━━━━━━━━━\u001b[0m \u001b[32m56.9/56.9 MB\u001b[0m \u001b[31m13.4 MB/s\u001b[0m eta \u001b[36m0:00:00\u001b[0m\n",
            "\u001b[2K     \u001b[90m━━━━━━━━━━━━━━━━━━━━━━━━━━━━━━━━━━━━━━\u001b[0m \u001b[32m201.4/201.4 kB\u001b[0m \u001b[31m22.1 MB/s\u001b[0m eta \u001b[36m0:00:00\u001b[0m\n",
            "\u001b[2K     \u001b[90m━━━━━━━━━━━━━━━━━━━━━━━━━━━━━━━━━━━━━━━━\u001b[0m \u001b[32m3.0/3.0 MB\u001b[0m \u001b[31m69.5 MB/s\u001b[0m eta \u001b[36m0:00:00\u001b[0m\n",
            "\u001b[2K     \u001b[90m━━━━━━━━━━━━━━━━━━━━━━━━━━━━━━━━━━━━━━━━\u001b[0m \u001b[32m98.1/98.1 kB\u001b[0m \u001b[31m11.3 MB/s\u001b[0m eta \u001b[36m0:00:00\u001b[0m\n",
            "\u001b[?25h  Installing build dependencies ... \u001b[?25l\u001b[?25hdone\n",
            "  Getting requirements to build wheel ... \u001b[?25l\u001b[?25hdone\n",
            "  Preparing metadata (pyproject.toml) ... \u001b[?25l\u001b[?25hdone\n",
            "\u001b[2K     \u001b[90m━━━━━━━━━━━━━━━━━━━━━━━━━━━━━━━━━━━━━━\u001b[0m \u001b[32m128.2/128.2 kB\u001b[0m \u001b[31m15.0 MB/s\u001b[0m eta \u001b[36m0:00:00\u001b[0m\n",
            "\u001b[2K     \u001b[90m━━━━━━━━━━━━━━━━━━━━━━━━━━━━━━━━━━━━━━━━\u001b[0m \u001b[32m8.7/8.7 MB\u001b[0m \u001b[31m100.5 MB/s\u001b[0m eta \u001b[36m0:00:00\u001b[0m\n",
            "\u001b[2K     \u001b[90m━━━━━━━━━━━━━━━━━━━━━━━━━━━━━━━━━━━━━━━━\u001b[0m \u001b[32m58.4/58.4 kB\u001b[0m \u001b[31m6.0 MB/s\u001b[0m eta \u001b[36m0:00:00\u001b[0m\n",
            "\u001b[2K     \u001b[90m━━━━━━━━━━━━━━━━━━━━━━━━━━━━━━━━━━━━━━\u001b[0m \u001b[32m468.9/468.9 kB\u001b[0m \u001b[31m41.0 MB/s\u001b[0m eta \u001b[36m0:00:00\u001b[0m\n",
            "\u001b[?25h  Building wheel for gpustat (pyproject.toml) ... \u001b[?25l\u001b[?25hdone\n"
          ]
        }
      ],
      "source": [
        "!pip install -q flwr[\"simulation\"] tensorflow"
      ]
    },
    {
      "cell_type": "markdown",
      "metadata": {
        "id": "fQeJs969CpjL"
      },
      "source": [
        "Let's also install Matplotlib so we can make some plots once the simulation is completed"
      ]
    },
    {
      "cell_type": "code",
      "execution_count": 4,
      "metadata": {
        "id": "uZ1j5RhACpjL",
        "colab": {
          "base_uri": "https://localhost:8080/"
        },
        "outputId": "a53f9309-cf94-4b60-a8ed-24364a097010"
      },
      "outputs": [
        {
          "output_type": "stream",
          "name": "stdout",
          "text": [
            "Requirement already satisfied: matplotlib in /usr/local/lib/python3.10/dist-packages (3.7.1)\n",
            "Requirement already satisfied: contourpy>=1.0.1 in /usr/local/lib/python3.10/dist-packages (from matplotlib) (1.1.0)\n",
            "Requirement already satisfied: cycler>=0.10 in /usr/local/lib/python3.10/dist-packages (from matplotlib) (0.11.0)\n",
            "Requirement already satisfied: fonttools>=4.22.0 in /usr/local/lib/python3.10/dist-packages (from matplotlib) (4.42.1)\n",
            "Requirement already satisfied: kiwisolver>=1.0.1 in /usr/local/lib/python3.10/dist-packages (from matplotlib) (1.4.5)\n",
            "Requirement already satisfied: numpy>=1.20 in /usr/local/lib/python3.10/dist-packages (from matplotlib) (1.23.5)\n",
            "Requirement already satisfied: packaging>=20.0 in /usr/local/lib/python3.10/dist-packages (from matplotlib) (23.1)\n",
            "Requirement already satisfied: pillow>=6.2.0 in /usr/local/lib/python3.10/dist-packages (from matplotlib) (9.4.0)\n",
            "Requirement already satisfied: pyparsing>=2.3.1 in /usr/local/lib/python3.10/dist-packages (from matplotlib) (3.1.1)\n",
            "Requirement already satisfied: python-dateutil>=2.7 in /usr/local/lib/python3.10/dist-packages (from matplotlib) (2.8.2)\n",
            "Requirement already satisfied: six>=1.5 in /usr/local/lib/python3.10/dist-packages (from python-dateutil>=2.7->matplotlib) (1.16.0)\n"
          ]
        }
      ],
      "source": [
        "!pip install matplotlib"
      ]
    },
    {
      "cell_type": "markdown",
      "metadata": {
        "id": "n6yAsk-2CpjM"
      },
      "source": [
        "Next, we import the required dependencies. The most important imports are Flower (`flwr`) and TensorFlow:"
      ]
    },
    {
      "cell_type": "code",
      "execution_count": 5,
      "metadata": {
        "id": "Bxt-YZ6LCpjM"
      },
      "outputs": [],
      "source": [
        "import math\n",
        "from typing import Dict, List, Tuple\n",
        "\n",
        "import tensorflow as tf\n",
        "\n",
        "import flwr as fl\n",
        "from flwr.common import Metrics\n",
        "from flwr.simulation.ray_transport.utils import enable_tf_gpu_growth\n",
        "\n",
        "VERBOSE = 0\n",
        "NUM_CLIENTS = 10"
      ]
    },
    {
      "cell_type": "markdown",
      "metadata": {
        "id": "1IIU30uNCpjM"
      },
      "source": [
        "Let's start by defining the model we want to federated. Since we will be working with MNIST, using a fully connected model is sufficient. You can of course customize this model."
      ]
    },
    {
      "cell_type": "code",
      "execution_count": 6,
      "metadata": {
        "id": "4CLrcqXgCpjM"
      },
      "outputs": [],
      "source": [
        "def get_model():\n",
        "    \"\"\"Constructs a simple model architecture suitable for MNIST.\"\"\"\n",
        "    model = tf.keras.models.Sequential(\n",
        "        [\n",
        "            tf.keras.layers.Flatten(input_shape=(28, 28)),\n",
        "            tf.keras.layers.Dense(128, activation=\"relu\"),\n",
        "            tf.keras.layers.Dropout(0.2),\n",
        "            tf.keras.layers.Dense(10, activation=\"softmax\"),\n",
        "        ]\n",
        "    )\n",
        "    model.compile(\"adam\", \"sparse_categorical_crossentropy\", metrics=[\"accuracy\"])\n",
        "    return model"
      ]
    },
    {
      "cell_type": "markdown",
      "metadata": {
        "id": "xAt1OtntCpjN"
      },
      "source": [
        "With that out of the way, let's move on to the interesting bits. Federated learning systems consist of a server and multiple clients. In Flower, we create clients by implementing subclasses of `flwr.client.Client` or `flwr.client.NumPyClient`. We use `NumPyClient` in this tutorial because it is easier to implement and requires us to write less boilerplate.\n",
        "\n",
        "To implement the Flower client, we create a subclass of `flwr.client.NumPyClient` and implement the three methods `get_parameters`, `fit`, and `evaluate`:\n",
        "\n",
        "- `get_parameters`: Return the current local model parameters\n",
        "- `fit`: Receive model parameters from the server, train the model parameters on the local data, and return the (updated) model parameters to the server\n",
        "- `evaluate`: Received model parameters from the server, evaluate the model parameters on the local data, and return the evaluation result to the server\n",
        "\n",
        "We mentioned that our clients will use TensorFlow/Keras for the model training and evaluation. Keras models provide methods that make the implementation straightforward: we can update the local model with server-provides parameters through `model.set_weights`, we can train/evaluate the model through `fit/evaluate`, and we can get the updated model parameters through `model.get_weights`.\n",
        "\n",
        "Let's see a simple implementation:"
      ]
    },
    {
      "cell_type": "code",
      "execution_count": 7,
      "metadata": {
        "id": "B4UyAgVkCpjN"
      },
      "outputs": [],
      "source": [
        "class FlowerClient(fl.client.NumPyClient):\n",
        "    def __init__(self, x_train, y_train, x_val, y_val) -> None:\n",
        "        # Create model\n",
        "        self.model = get_model()\n",
        "        self.x_train, self.y_train = x_train, y_train\n",
        "        self.x_val, self.y_val = x_val, y_val\n",
        "\n",
        "    def get_parameters(self, config):\n",
        "        return self.model.get_weights()\n",
        "\n",
        "    def fit(self, parameters, config):\n",
        "        self.model.set_weights(parameters)\n",
        "        self.model.fit(\n",
        "            self.x_train, self.y_train, epochs=1, batch_size=32, verbose=VERBOSE\n",
        "        )\n",
        "        return self.model.get_weights(), len(self.x_train), {}\n",
        "\n",
        "    def evaluate(self, parameters, config):\n",
        "        self.model.set_weights(parameters)\n",
        "        loss, acc = self.model.evaluate(\n",
        "            self.x_val, self.y_val, batch_size=64, verbose=VERBOSE\n",
        "        )\n",
        "        return loss, len(self.x_val), {\"accuracy\": acc}"
      ]
    },
    {
      "cell_type": "markdown",
      "metadata": {
        "id": "yeagnz5hCpjN"
      },
      "source": [
        "Our class `FlowerClient` defines how local training/evaluation will be performed and allows Flower to call the local training/evaluation through `fit` and `evaluate`. Each instance of `FlowerClient` represents a *single client* in our federated learning system. Federated learning systems have multiple clients (otherwise, there's not much to federate, is there?), so each client will be represented by its own instance of `FlowerClient`. If we have, for example, three clients in our workload, we'd have three instances of `FlowerClient`. Flower calls `FlowerClient.fit` on the respective instance when the server selects a particular client for training (and `FlowerClient.evaluate` for evaluation).\n",
        "\n",
        "In this notebook, we want to simulate a federated learning system with 100 clients on a single machine. This means that the server and all 100 clients will live on a single machine and share resources such as CPU, GPU, and memory. Having 100 clients would mean having 100 instances of `FlowerClient` in memory. Doing this on a single machine can quickly exhaust the available memory resources, even if only a subset of these clients participates in a single round of federated learning.\n",
        "\n",
        "In addition to the regular capabilities where server and clients run on multiple machines, Flower, therefore, provides special simulation capabilities that create `FlowerClient` instances only when they are actually necessary for training or evaluation. To enable the Flower framework to create clients when necessary, we need to implement a function called `client_fn` that creates a `FlowerClient` instance on demand. Flower calls `client_fn` whenever it needs an instance of one particular client to call `fit` or `evaluate` (those instances are usually discarded after use). Clients are identified by a client ID, or short `cid`. The `cid` can be used, for example, to load different local data partitions for each client"
      ]
    },
    {
      "cell_type": "markdown",
      "metadata": {
        "id": "H60yAydBCpjO"
      },
      "source": [
        "We now define four auxiliary functions for this example (note the last two are entirely optional):\n",
        "* `get_client_fn()`: Is a function that returns another function. The returned `client_fn` will be executed by Flower's VirtualClientEngine each time a new _virtual_ client (i.e. a client that is simulated in a Python process) needs to be spawn. When are virtual clients spawned? Each time the strategy samples them to do either `fit()` (i.e. train the global model on the local data of a particular client) or `evaluate()` (i.e. evaluate the global model on the validation set of a given client).\n",
        "\n",
        "* `partition_mnist()`: A utility function that downloads the MNIST dataset and partitions it into `NUM_CLIENT` disjoint sets. The resulting list of dataset partitions will be passed to `get_client_fn()` so a client can be constructed by passing it its corresponding dataset partition. There are multiple ways of partitioning a dataset, but in this example we keep things simple. For larger dataset, you might want to pre-partition your dataset before running your Flower experiment and, potentially, store these partition into your files system or a database. In this way, your `FlowerClient` objects can retrieve their data directly when doing either `fit()` or `evaluate()`.\n",
        "\n",
        "* `weighted_average()`: This is an optional function to pass to the strategy. It will be executed after an evaluation round (i.e. when client run `evaluate()`) and will aggregate the metrics clients return. In this example, we use this function to compute the weighted average accuracy of clients doing `evaluate()`.\n",
        "\n",
        "* `get_evaluate_fn()`: This is again a function that returns another function. The returned function will be executed by the strategy at the end of a `fit()` round and after a new global model has been obtained after aggregation. This is an optional argument for Flower strategies. In this example, we use the whole MNIST test set to perform this server-side evaluation."
      ]
    },
    {
      "cell_type": "code",
      "source": [
        "(x_train, y_train), testset = tf.keras.datasets.mnist.load_data()"
      ],
      "metadata": {
        "colab": {
          "base_uri": "https://localhost:8080/"
        },
        "id": "7R92eBLwb-fi",
        "outputId": "68074899-c712-4d0e-c744-dfb6c3799c17"
      },
      "execution_count": 8,
      "outputs": [
        {
          "output_type": "stream",
          "name": "stdout",
          "text": [
            "Downloading data from https://storage.googleapis.com/tensorflow/tf-keras-datasets/mnist.npz\n",
            "11490434/11490434 [==============================] - 1s 0us/step\n"
          ]
        }
      ]
    },
    {
      "cell_type": "code",
      "source": [
        "x_train.shape"
      ],
      "metadata": {
        "colab": {
          "base_uri": "https://localhost:8080/"
        },
        "id": "XhnHqOxXb_Z5",
        "outputId": "3874b198-3324-4975-8637-c2c59b01d6d3"
      },
      "execution_count": 9,
      "outputs": [
        {
          "output_type": "execute_result",
          "data": {
            "text/plain": [
              "(60000, 28, 28)"
            ]
          },
          "metadata": {},
          "execution_count": 9
        }
      ]
    },
    {
      "cell_type": "code",
      "source": [
        "from sklearn.preprocessing import LabelEncoder\n",
        "encoder=LabelEncoder()\n",
        "df['Type']=encoder.fit_transform(df['Type'])\n",
        "df['Type']"
      ],
      "metadata": {
        "id": "N5GiBLsHlFjV",
        "outputId": "65b56f9b-0a70-476e-93d3-e06c51578d37",
        "colab": {
          "base_uri": "https://localhost:8080/"
        }
      },
      "execution_count": 18,
      "outputs": [
        {
          "output_type": "execute_result",
          "data": {
            "text/plain": [
              "0         2\n",
              "1         2\n",
              "2         2\n",
              "3         2\n",
              "4         2\n",
              "         ..\n",
              "888812    0\n",
              "888813    0\n",
              "888814    0\n",
              "888815    0\n",
              "888816    0\n",
              "Name: Type, Length: 888817, dtype: int64"
            ]
          },
          "metadata": {},
          "execution_count": 18
        }
      ]
    },
    {
      "cell_type": "code",
      "source": [
        "\n",
        "\n",
        "a = df.iloc[:,4:]\n",
        "b = df['Type']\n",
        "from sklearn.model_selection import train_test_split\n",
        "a_train, a_test, b_train, b_test = train_test_split(a, b, test_size = 0.33, random_state = 0)"
      ],
      "metadata": {
        "id": "w7e9-YyHcKAd"
      },
      "execution_count": 19,
      "outputs": []
    },
    {
      "cell_type": "code",
      "source": [
        "a_train = a_train.to_numpy()"
      ],
      "metadata": {
        "id": "mJWJ3r-FmMxx"
      },
      "execution_count": 21,
      "outputs": []
    },
    {
      "cell_type": "code",
      "source": [
        "a_train"
      ],
      "metadata": {
        "id": "zBlYQCGFm_Hs",
        "outputId": "2e40a82a-8b2d-44b8-e554-4ccf6782fa91",
        "colab": {
          "base_uri": "https://localhost:8080/"
        }
      },
      "execution_count": 23,
      "outputs": [
        {
          "output_type": "execute_result",
          "data": {
            "text/plain": [
              "array([[ 0.952     , 63.02521   , 10.272     , ...,  0.436     ,\n",
              "         0.44686   ,  0.38      ],\n",
              "       [ 0.844     , 71.09005   , 10.26      , ...,  0.384     ,\n",
              "         0.41798   ,  0.328     ],\n",
              "       [ 1.056     , 56.81818   ,  0.72998   , ...,  0.452     ,\n",
              "         0.43985   ,  0.38      ],\n",
              "       ...,\n",
              "       [ 0.624     , 96.15384615, -1.26      , ...,  0.332     ,\n",
              "         0.42028684,  0.268     ],\n",
              "       [ 0.684     , 87.71929825,  1.58      , ...,  0.352     ,\n",
              "         0.42561273,  0.276     ],\n",
              "       [ 0.932     , 64.3776824 ,  0.79      , ...,  0.428     ,\n",
              "         0.44333887,  0.34      ]])"
            ]
          },
          "metadata": {},
          "execution_count": 23
        }
      ]
    },
    {
      "cell_type": "code",
      "source": [
        "a_train.shape"
      ],
      "metadata": {
        "id": "9YYaL8OAmc63",
        "outputId": "4aa81b64-2a44-4a23-8754-b2f5ea40bd9c",
        "colab": {
          "base_uri": "https://localhost:8080/"
        }
      },
      "execution_count": 22,
      "outputs": [
        {
          "output_type": "execute_result",
          "data": {
            "text/plain": [
              "(595507, 9)"
            ]
          },
          "metadata": {},
          "execution_count": 22
        }
      ]
    },
    {
      "cell_type": "code",
      "execution_count": 10,
      "metadata": {
        "id": "BosQFOi1CpjO"
      },
      "outputs": [],
      "source": [
        "def get_client_fn(dataset_partitions):\n",
        "    \"\"\"Return a function to be executed by the VirtualClientEngine in order to construct\n",
        "    a client.\"\"\"\n",
        "\n",
        "    def client_fn(cid: str) -> fl.client.Client:\n",
        "        \"\"\"Construct a FlowerClient with its own dataset partition.\"\"\"\n",
        "\n",
        "        # Extract partition for client with id = cid\n",
        "        x_train, y_train = dataset_partitions[int(cid)]\n",
        "        # Use 10% of the client's training data for validation\n",
        "        split_idx = math.floor(len(x_train) * 0.9)\n",
        "        x_train_cid, y_train_cid = (\n",
        "            x_train[:split_idx],\n",
        "            y_train[:split_idx],\n",
        "        )\n",
        "        x_val_cid, y_val_cid = x_train[split_idx:], y_train[split_idx:]\n",
        "\n",
        "        # Create and return client\n",
        "        return FlowerClient(x_train_cid, y_train_cid, x_val_cid, y_val_cid)\n",
        "\n",
        "    return client_fn\n",
        "\n",
        "\n",
        "def partition_mnist():\n",
        "    \"\"\"Download and partitions the MNIST dataset.\"\"\"\n",
        "    (x_train, y_train), testset = tf.keras.datasets.mnist.load_data()\n",
        "    partitions = []\n",
        "    # We keep all partitions equal-sized in this example\n",
        "    partition_size = math.floor(len(x_train) / NUM_CLIENTS)\n",
        "    for cid in range(NUM_CLIENTS):\n",
        "        # Split dataset into non-overlapping NUM_CLIENT partitions\n",
        "        idx_from, idx_to = int(cid) * partition_size, (int(cid) + 1) * partition_size\n",
        "        partitions.append((x_train[idx_from:idx_to] / 255.0, y_train[idx_from:idx_to]))\n",
        "    return partitions, testset\n",
        "\n",
        "\n",
        "def weighted_average(metrics: List[Tuple[int, Metrics]]) -> Metrics:\n",
        "    \"\"\"Aggregation function for (federated) evaluation metrics, i.e. those returned by\n",
        "    the client's evaluate() method.\"\"\"\n",
        "    # Multiply accuracy of each client by number of examples used\n",
        "    accuracies = [num_examples * m[\"accuracy\"] for num_examples, m in metrics]\n",
        "    examples = [num_examples for num_examples, _ in metrics]\n",
        "\n",
        "    # Aggregate and return custom metric (weighted average)\n",
        "    return {\"accuracy\": sum(accuracies) / sum(examples)}\n",
        "\n",
        "\n",
        "def get_evaluate_fn(testset):\n",
        "    \"\"\"Return an evaluation function for server-side (i.e. centralized) evaluation.\"\"\"\n",
        "    x_test, y_test = testset\n",
        "\n",
        "    # The `evaluate` function will be called after every round by the strategy\n",
        "    def evaluate(\n",
        "        server_round: int,\n",
        "        parameters: fl.common.NDArrays,\n",
        "        config: Dict[str, fl.common.Scalar],\n",
        "    ):\n",
        "        model = get_model()  # Construct the model\n",
        "        model.set_weights(parameters)  # Update model with the latest parameters\n",
        "        loss, accuracy = model.evaluate(x_test, y_test, verbose=VERBOSE)\n",
        "        return loss, {\"accuracy\": accuracy}\n",
        "\n",
        "    return evaluate"
      ]
    },
    {
      "cell_type": "markdown",
      "metadata": {
        "id": "f94Kk9ZvCpjO"
      },
      "source": [
        "We now have `FlowerClient` which defines client-side training and evaluation, and `client_fn`, which allows Flower to create `FlowerClient` instances whenever it needs to call `fit` or `evaluate` on one particular client. The last step is to start the actual simulation using `flwr.simulation.start_simulation`.\n",
        "\n",
        "The function `start_simulation` accepts a number of arguments, amongst them the `client_fn` used to create `FlowerClient` instances, the number of clients to simulate `num_clients`, the number of rounds `num_rounds`, and the strategy. The strategy encapsulates the federated learning approach/algorithm, for example, *Federated Averaging* (FedAvg).\n",
        "\n",
        "Flower comes with a number of built-in strategies, but we can also use our own strategy implementations to customize nearly all aspects of the federated learning approach. For this example, we use the built-in `FedAvg` implementation and customize it using a few basic parameters. The last step is the actual call to `start_simulation` which - you guessed it - actually starts the simulation."
      ]
    },
    {
      "cell_type": "code",
      "execution_count": 11,
      "metadata": {
        "id": "eCM_TesRCpjO",
        "colab": {
          "base_uri": "https://localhost:8080/"
        },
        "outputId": "a0e97b80-febf-41df-a183-d00b03bbe83c"
      },
      "outputs": [
        {
          "output_type": "stream",
          "name": "stderr",
          "text": [
            "WARNING flwr 2023-10-02 03:53:34,385 | fedavg.py:117 | \n",
            "Setting `min_available_clients` lower than `min_fit_clients` or\n",
            "`min_evaluate_clients` can cause the server to fail when there are too few clients\n",
            "connected to the server. `min_available_clients` must be set to a value larger\n",
            "than or equal to the values of `min_fit_clients` and `min_evaluate_clients`.\n",
            "\n",
            "WARNING:flwr:\n",
            "Setting `min_available_clients` lower than `min_fit_clients` or\n",
            "`min_evaluate_clients` can cause the server to fail when there are too few clients\n",
            "connected to the server. `min_available_clients` must be set to a value larger\n",
            "than or equal to the values of `min_fit_clients` and `min_evaluate_clients`.\n",
            "\n",
            "INFO flwr 2023-10-02 03:53:34,391 | app.py:175 | Starting Flower simulation, config: ServerConfig(num_rounds=10, round_timeout=None)\n",
            "INFO:flwr:Starting Flower simulation, config: ServerConfig(num_rounds=10, round_timeout=None)\n",
            "2023-10-02 03:53:39,032\tINFO worker.py:1621 -- Started a local Ray instance.\n",
            "INFO flwr 2023-10-02 03:53:41,857 | app.py:210 | Flower VCE: Ray initialized with resources: {'node:__internal_head__': 1.0, 'node:172.28.0.12': 1.0, 'memory': 7784256308.0, 'object_store_memory': 3892128153.0, 'CPU': 2.0}\n",
            "INFO:flwr:Flower VCE: Ray initialized with resources: {'node:__internal_head__': 1.0, 'node:172.28.0.12': 1.0, 'memory': 7784256308.0, 'object_store_memory': 3892128153.0, 'CPU': 2.0}\n",
            "INFO flwr 2023-10-02 03:53:41,869 | app.py:224 | Flower VCE: Resources for each Virtual Client: {'num_cpus': 1, 'num_gpus': 0.0}\n",
            "INFO:flwr:Flower VCE: Resources for each Virtual Client: {'num_cpus': 1, 'num_gpus': 0.0}\n",
            "INFO flwr 2023-10-02 03:53:41,938 | app.py:270 | Flower VCE: Creating VirtualClientEngineActorPool with 2 actors\n",
            "INFO:flwr:Flower VCE: Creating VirtualClientEngineActorPool with 2 actors\n",
            "INFO flwr 2023-10-02 03:53:41,941 | server.py:89 | Initializing global parameters\n",
            "INFO:flwr:Initializing global parameters\n",
            "INFO flwr 2023-10-02 03:53:41,949 | server.py:276 | Requesting initial parameters from one random client\n",
            "INFO:flwr:Requesting initial parameters from one random client\n",
            "\u001b[2m\u001b[36m(pid=2006)\u001b[0m 2023-10-02 03:53:46.575630: W tensorflow/compiler/tf2tensorrt/utils/py_utils.cc:38] TF-TRT Warning: Could not find TensorRT\n",
            "INFO flwr 2023-10-02 03:53:49,936 | server.py:280 | Received initial parameters from one random client\n",
            "INFO:flwr:Received initial parameters from one random client\n",
            "INFO flwr 2023-10-02 03:53:49,940 | server.py:91 | Evaluating initial parameters\n",
            "INFO:flwr:Evaluating initial parameters\n",
            "INFO flwr 2023-10-02 03:53:52,165 | server.py:94 | initial parameters (loss, other metrics): 148.6843719482422, {'accuracy': 0.14470000565052032}\n",
            "INFO:flwr:initial parameters (loss, other metrics): 148.6843719482422, {'accuracy': 0.14470000565052032}\n",
            "INFO flwr 2023-10-02 03:53:52,168 | server.py:104 | FL starting\n",
            "INFO:flwr:FL starting\n",
            "DEBUG flwr 2023-10-02 03:53:52,171 | server.py:222 | fit_round 1: strategy sampled 10 clients (out of 10)\n",
            "DEBUG:flwr:fit_round 1: strategy sampled 10 clients (out of 10)\n",
            "DEBUG flwr 2023-10-02 03:54:06,604 | server.py:236 | fit_round 1 received 10 results and 0 failures\n",
            "DEBUG:flwr:fit_round 1 received 10 results and 0 failures\n",
            "WARNING flwr 2023-10-02 03:54:06,637 | fedavg.py:242 | No fit_metrics_aggregation_fn provided\n",
            "WARNING:flwr:No fit_metrics_aggregation_fn provided\n",
            "INFO flwr 2023-10-02 03:54:07,570 | server.py:125 | fit progress: (1, 33.34586715698242, {'accuracy': 0.9089000225067139}, 15.398970754999993)\n",
            "INFO:flwr:fit progress: (1, 33.34586715698242, {'accuracy': 0.9089000225067139}, 15.398970754999993)\n",
            "DEBUG flwr 2023-10-02 03:54:07,574 | server.py:173 | evaluate_round 1: strategy sampled 5 clients (out of 10)\n",
            "DEBUG:flwr:evaluate_round 1: strategy sampled 5 clients (out of 10)\n",
            "DEBUG flwr 2023-10-02 03:54:10,777 | server.py:187 | evaluate_round 1 received 5 results and 0 failures\n",
            "DEBUG:flwr:evaluate_round 1 received 5 results and 0 failures\n",
            "DEBUG flwr 2023-10-02 03:54:10,781 | server.py:222 | fit_round 2: strategy sampled 10 clients (out of 10)\n",
            "DEBUG:flwr:fit_round 2: strategy sampled 10 clients (out of 10)\n",
            "DEBUG flwr 2023-10-02 03:54:23,860 | server.py:236 | fit_round 2 received 10 results and 0 failures\n",
            "DEBUG:flwr:fit_round 2 received 10 results and 0 failures\n",
            "INFO flwr 2023-10-02 03:54:24,806 | server.py:125 | fit progress: (2, 32.19670867919922, {'accuracy': 0.9222999811172485}, 32.63507127599996)\n",
            "INFO:flwr:fit progress: (2, 32.19670867919922, {'accuracy': 0.9222999811172485}, 32.63507127599996)\n",
            "DEBUG flwr 2023-10-02 03:54:24,809 | server.py:173 | evaluate_round 2: strategy sampled 5 clients (out of 10)\n",
            "DEBUG:flwr:evaluate_round 2: strategy sampled 5 clients (out of 10)\n",
            "DEBUG flwr 2023-10-02 03:54:27,897 | server.py:187 | evaluate_round 2 received 5 results and 0 failures\n",
            "DEBUG:flwr:evaluate_round 2 received 5 results and 0 failures\n",
            "DEBUG flwr 2023-10-02 03:54:27,901 | server.py:222 | fit_round 3: strategy sampled 10 clients (out of 10)\n",
            "DEBUG:flwr:fit_round 3: strategy sampled 10 clients (out of 10)\n",
            "DEBUG flwr 2023-10-02 03:54:41,442 | server.py:236 | fit_round 3 received 10 results and 0 failures\n",
            "DEBUG:flwr:fit_round 3 received 10 results and 0 failures\n",
            "INFO flwr 2023-10-02 03:54:42,391 | server.py:125 | fit progress: (3, 29.01189613342285, {'accuracy': 0.9337000250816345}, 50.219984925000006)\n",
            "INFO:flwr:fit progress: (3, 29.01189613342285, {'accuracy': 0.9337000250816345}, 50.219984925000006)\n",
            "DEBUG flwr 2023-10-02 03:54:42,396 | server.py:173 | evaluate_round 3: strategy sampled 5 clients (out of 10)\n",
            "DEBUG:flwr:evaluate_round 3: strategy sampled 5 clients (out of 10)\n",
            "DEBUG flwr 2023-10-02 03:54:45,488 | server.py:187 | evaluate_round 3 received 5 results and 0 failures\n",
            "DEBUG:flwr:evaluate_round 3 received 5 results and 0 failures\n",
            "DEBUG flwr 2023-10-02 03:54:45,494 | server.py:222 | fit_round 4: strategy sampled 10 clients (out of 10)\n",
            "DEBUG:flwr:fit_round 4: strategy sampled 10 clients (out of 10)\n",
            "DEBUG flwr 2023-10-02 03:54:58,157 | server.py:236 | fit_round 4 received 10 results and 0 failures\n",
            "DEBUG:flwr:fit_round 4 received 10 results and 0 failures\n",
            "INFO flwr 2023-10-02 03:54:58,987 | server.py:125 | fit progress: (4, 26.044696807861328, {'accuracy': 0.9405999779701233}, 66.815976148)\n",
            "INFO:flwr:fit progress: (4, 26.044696807861328, {'accuracy': 0.9405999779701233}, 66.815976148)\n",
            "DEBUG flwr 2023-10-02 03:54:58,995 | server.py:173 | evaluate_round 4: strategy sampled 5 clients (out of 10)\n",
            "DEBUG:flwr:evaluate_round 4: strategy sampled 5 clients (out of 10)\n",
            "DEBUG flwr 2023-10-02 03:55:01,675 | server.py:187 | evaluate_round 4 received 5 results and 0 failures\n",
            "DEBUG:flwr:evaluate_round 4 received 5 results and 0 failures\n",
            "DEBUG flwr 2023-10-02 03:55:01,679 | server.py:222 | fit_round 5: strategy sampled 10 clients (out of 10)\n",
            "DEBUG:flwr:fit_round 5: strategy sampled 10 clients (out of 10)\n",
            "DEBUG flwr 2023-10-02 03:55:19,114 | server.py:236 | fit_round 5 received 10 results and 0 failures\n",
            "DEBUG:flwr:fit_round 5 received 10 results and 0 failures\n",
            "INFO flwr 2023-10-02 03:55:20,095 | server.py:125 | fit progress: (5, 24.5743408203125, {'accuracy': 0.9460999965667725}, 87.92347903899997)\n",
            "INFO:flwr:fit progress: (5, 24.5743408203125, {'accuracy': 0.9460999965667725}, 87.92347903899997)\n",
            "DEBUG flwr 2023-10-02 03:55:20,101 | server.py:173 | evaluate_round 5: strategy sampled 5 clients (out of 10)\n",
            "DEBUG:flwr:evaluate_round 5: strategy sampled 5 clients (out of 10)\n",
            "DEBUG flwr 2023-10-02 03:55:22,522 | server.py:187 | evaluate_round 5 received 5 results and 0 failures\n",
            "DEBUG:flwr:evaluate_round 5 received 5 results and 0 failures\n",
            "DEBUG flwr 2023-10-02 03:55:22,526 | server.py:222 | fit_round 6: strategy sampled 10 clients (out of 10)\n",
            "DEBUG:flwr:fit_round 6: strategy sampled 10 clients (out of 10)\n",
            "DEBUG flwr 2023-10-02 03:55:36,983 | server.py:236 | fit_round 6 received 10 results and 0 failures\n",
            "DEBUG:flwr:fit_round 6 received 10 results and 0 failures\n",
            "INFO flwr 2023-10-02 03:55:37,822 | server.py:125 | fit progress: (6, 22.79949951171875, {'accuracy': 0.9495000243186951}, 105.65093327799997)\n",
            "INFO:flwr:fit progress: (6, 22.79949951171875, {'accuracy': 0.9495000243186951}, 105.65093327799997)\n",
            "DEBUG flwr 2023-10-02 03:55:37,829 | server.py:173 | evaluate_round 6: strategy sampled 5 clients (out of 10)\n",
            "DEBUG:flwr:evaluate_round 6: strategy sampled 5 clients (out of 10)\n",
            "DEBUG flwr 2023-10-02 03:55:40,107 | server.py:187 | evaluate_round 6 received 5 results and 0 failures\n",
            "DEBUG:flwr:evaluate_round 6 received 5 results and 0 failures\n",
            "DEBUG flwr 2023-10-02 03:55:40,111 | server.py:222 | fit_round 7: strategy sampled 10 clients (out of 10)\n",
            "DEBUG:flwr:fit_round 7: strategy sampled 10 clients (out of 10)\n",
            "DEBUG flwr 2023-10-02 03:55:54,253 | server.py:236 | fit_round 7 received 10 results and 0 failures\n",
            "DEBUG:flwr:fit_round 7 received 10 results and 0 failures\n",
            "INFO flwr 2023-10-02 03:55:55,045 | server.py:125 | fit progress: (7, 20.92466163635254, {'accuracy': 0.9531999826431274}, 122.87418705599998)\n",
            "INFO:flwr:fit progress: (7, 20.92466163635254, {'accuracy': 0.9531999826431274}, 122.87418705599998)\n",
            "DEBUG flwr 2023-10-02 03:55:55,052 | server.py:173 | evaluate_round 7: strategy sampled 5 clients (out of 10)\n",
            "DEBUG:flwr:evaluate_round 7: strategy sampled 5 clients (out of 10)\n",
            "DEBUG flwr 2023-10-02 03:55:56,833 | server.py:187 | evaluate_round 7 received 5 results and 0 failures\n",
            "DEBUG:flwr:evaluate_round 7 received 5 results and 0 failures\n",
            "DEBUG flwr 2023-10-02 03:55:56,836 | server.py:222 | fit_round 8: strategy sampled 10 clients (out of 10)\n",
            "DEBUG:flwr:fit_round 8: strategy sampled 10 clients (out of 10)\n",
            "DEBUG flwr 2023-10-02 03:56:11,291 | server.py:236 | fit_round 8 received 10 results and 0 failures\n",
            "DEBUG:flwr:fit_round 8 received 10 results and 0 failures\n",
            "INFO flwr 2023-10-02 03:56:12,137 | server.py:125 | fit progress: (8, 20.951719284057617, {'accuracy': 0.9556999802589417}, 139.96603321700002)\n",
            "INFO:flwr:fit progress: (8, 20.951719284057617, {'accuracy': 0.9556999802589417}, 139.96603321700002)\n",
            "DEBUG flwr 2023-10-02 03:56:12,142 | server.py:173 | evaluate_round 8: strategy sampled 5 clients (out of 10)\n",
            "DEBUG:flwr:evaluate_round 8: strategy sampled 5 clients (out of 10)\n",
            "DEBUG flwr 2023-10-02 03:56:13,858 | server.py:187 | evaluate_round 8 received 5 results and 0 failures\n",
            "DEBUG:flwr:evaluate_round 8 received 5 results and 0 failures\n",
            "DEBUG flwr 2023-10-02 03:56:13,863 | server.py:222 | fit_round 9: strategy sampled 10 clients (out of 10)\n",
            "DEBUG:flwr:fit_round 9: strategy sampled 10 clients (out of 10)\n",
            "DEBUG flwr 2023-10-02 03:56:29,279 | server.py:236 | fit_round 9 received 10 results and 0 failures\n",
            "DEBUG:flwr:fit_round 9 received 10 results and 0 failures\n",
            "INFO flwr 2023-10-02 03:56:30,136 | server.py:125 | fit progress: (9, 19.104982376098633, {'accuracy': 0.9589999914169312}, 157.96461303499996)\n",
            "INFO:flwr:fit progress: (9, 19.104982376098633, {'accuracy': 0.9589999914169312}, 157.96461303499996)\n",
            "DEBUG flwr 2023-10-02 03:56:30,141 | server.py:173 | evaluate_round 9: strategy sampled 5 clients (out of 10)\n",
            "DEBUG:flwr:evaluate_round 9: strategy sampled 5 clients (out of 10)\n",
            "DEBUG flwr 2023-10-02 03:56:31,921 | server.py:187 | evaluate_round 9 received 5 results and 0 failures\n",
            "DEBUG:flwr:evaluate_round 9 received 5 results and 0 failures\n",
            "DEBUG flwr 2023-10-02 03:56:31,924 | server.py:222 | fit_round 10: strategy sampled 10 clients (out of 10)\n",
            "DEBUG:flwr:fit_round 10: strategy sampled 10 clients (out of 10)\n",
            "DEBUG flwr 2023-10-02 03:56:46,791 | server.py:236 | fit_round 10 received 10 results and 0 failures\n",
            "DEBUG:flwr:fit_round 10 received 10 results and 0 failures\n",
            "INFO flwr 2023-10-02 03:56:47,739 | server.py:125 | fit progress: (10, 18.7720947265625, {'accuracy': 0.9602000117301941}, 175.56772942999999)\n",
            "INFO:flwr:fit progress: (10, 18.7720947265625, {'accuracy': 0.9602000117301941}, 175.56772942999999)\n",
            "DEBUG flwr 2023-10-02 03:56:47,744 | server.py:173 | evaluate_round 10: strategy sampled 5 clients (out of 10)\n",
            "DEBUG:flwr:evaluate_round 10: strategy sampled 5 clients (out of 10)\n",
            "DEBUG flwr 2023-10-02 03:56:49,512 | server.py:187 | evaluate_round 10 received 5 results and 0 failures\n",
            "DEBUG:flwr:evaluate_round 10 received 5 results and 0 failures\n",
            "INFO flwr 2023-10-02 03:56:49,516 | server.py:153 | FL finished in 177.34501095999997\n",
            "INFO:flwr:FL finished in 177.34501095999997\n",
            "INFO flwr 2023-10-02 03:56:49,519 | app.py:225 | app_fit: losses_distributed [(1, 0.3673920273780823), (2, 0.2979499101638794), (3, 0.24266546368598937), (4, 0.21017999947071075), (5, 0.1856510877609253), (6, 0.18165657222270964), (7, 0.1847820460796356), (8, 0.15215565413236617), (9, 0.13727886974811554), (10, 0.148159059882164)]\n",
            "INFO:flwr:app_fit: losses_distributed [(1, 0.3673920273780823), (2, 0.2979499101638794), (3, 0.24266546368598937), (4, 0.21017999947071075), (5, 0.1856510877609253), (6, 0.18165657222270964), (7, 0.1847820460796356), (8, 0.15215565413236617), (9, 0.13727886974811554), (10, 0.148159059882164)]\n",
            "INFO flwr 2023-10-02 03:56:49,521 | app.py:226 | app_fit: metrics_distributed_fit {}\n",
            "INFO:flwr:app_fit: metrics_distributed_fit {}\n",
            "INFO flwr 2023-10-02 03:56:49,523 | app.py:227 | app_fit: metrics_distributed {'accuracy': [(1, 0.9053333282470704), (2, 0.9100000023841858), (3, 0.9323333382606507), (4, 0.9386666655540467), (5, 0.946999990940094), (6, 0.949999988079071), (7, 0.949999988079071), (8, 0.9556666493415833), (9, 0.9579999804496765), (10, 0.9539999842643738)]}\n",
            "INFO:flwr:app_fit: metrics_distributed {'accuracy': [(1, 0.9053333282470704), (2, 0.9100000023841858), (3, 0.9323333382606507), (4, 0.9386666655540467), (5, 0.946999990940094), (6, 0.949999988079071), (7, 0.949999988079071), (8, 0.9556666493415833), (9, 0.9579999804496765), (10, 0.9539999842643738)]}\n",
            "INFO flwr 2023-10-02 03:56:49,526 | app.py:228 | app_fit: losses_centralized [(0, 148.6843719482422), (1, 33.34586715698242), (2, 32.19670867919922), (3, 29.01189613342285), (4, 26.044696807861328), (5, 24.5743408203125), (6, 22.79949951171875), (7, 20.92466163635254), (8, 20.951719284057617), (9, 19.104982376098633), (10, 18.7720947265625)]\n",
            "INFO:flwr:app_fit: losses_centralized [(0, 148.6843719482422), (1, 33.34586715698242), (2, 32.19670867919922), (3, 29.01189613342285), (4, 26.044696807861328), (5, 24.5743408203125), (6, 22.79949951171875), (7, 20.92466163635254), (8, 20.951719284057617), (9, 19.104982376098633), (10, 18.7720947265625)]\n",
            "INFO flwr 2023-10-02 03:56:49,528 | app.py:229 | app_fit: metrics_centralized {'accuracy': [(0, 0.14470000565052032), (1, 0.9089000225067139), (2, 0.9222999811172485), (3, 0.9337000250816345), (4, 0.9405999779701233), (5, 0.9460999965667725), (6, 0.9495000243186951), (7, 0.9531999826431274), (8, 0.9556999802589417), (9, 0.9589999914169312), (10, 0.9602000117301941)]}\n",
            "INFO:flwr:app_fit: metrics_centralized {'accuracy': [(0, 0.14470000565052032), (1, 0.9089000225067139), (2, 0.9222999811172485), (3, 0.9337000250816345), (4, 0.9405999779701233), (5, 0.9460999965667725), (6, 0.9495000243186951), (7, 0.9531999826431274), (8, 0.9556999802589417), (9, 0.9589999914169312), (10, 0.9602000117301941)]}\n"
          ]
        }
      ],
      "source": [
        "# Enable GPU growth in your main process\n",
        "enable_tf_gpu_growth()\n",
        "\n",
        "# Create dataset partitions (needed if your dataset is not pre-partitioned)\n",
        "partitions, testset = partition_mnist()\n",
        "\n",
        "# Create FedAvg strategy\n",
        "strategy = fl.server.strategy.FedAvg(\n",
        "    fraction_fit=0.1,  # Sample 10% of available clients for training\n",
        "    fraction_evaluate=0.05,  # Sample 5% of available clients for evaluation\n",
        "    min_fit_clients=10,  # Never sample less than 10 clients for training\n",
        "    min_evaluate_clients=5,  # Never sample less than 5 clients for evaluation\n",
        "    min_available_clients=int(\n",
        "        NUM_CLIENTS * 0.75\n",
        "    ),  # Wait until at least 75 clients are available\n",
        "    evaluate_metrics_aggregation_fn=weighted_average,  # aggregates federated metrics\n",
        "    evaluate_fn=get_evaluate_fn(testset),  # global evaluation function\n",
        ")\n",
        "\n",
        "# With a dictionary, you tell Flower's VirtualClientEngine that each\n",
        "# client needs exclusive access to these many resources in order to run\n",
        "client_resources = {\"num_cpus\": 1, \"num_gpus\": 0.0}\n",
        "\n",
        "# Start simulation\n",
        "history = fl.simulation.start_simulation(\n",
        "    client_fn=get_client_fn(partitions),\n",
        "    num_clients=NUM_CLIENTS,\n",
        "    config=fl.server.ServerConfig(num_rounds=10),\n",
        "    strategy=strategy,\n",
        "    client_resources=client_resources,\n",
        "    actor_kwargs={\n",
        "        \"on_actor_init_fn\": enable_tf_gpu_growth  # Enable GPU growth upon actor init.\n",
        "    },\n",
        ")"
      ]
    },
    {
      "cell_type": "markdown",
      "metadata": {
        "id": "DrJAoTcyCpjO"
      },
      "source": [
        "You can then use the resturned History object to either save the results to disk or do some visualisation (or both of course, or neither if you like chaos). Below you can see how you can plot the centralised accuracy obtainined at the end of each round (including at the very beginning of the experiment) for the global model. This is want the function evaluate_fn() that we passed to the strategy reports."
      ]
    },
    {
      "cell_type": "code",
      "execution_count": 12,
      "metadata": {
        "id": "Wvo2rWMbCpjO",
        "colab": {
          "base_uri": "https://localhost:8080/",
          "height": 527
        },
        "outputId": "f53b13a3-9f4d-4972-dabb-cabb52aa83c8"
      },
      "outputs": [
        {
          "output_type": "stream",
          "name": "stdout",
          "text": [
            "history.metrics_centralized = {'accuracy': [(0, 0.14470000565052032), (1, 0.9089000225067139), (2, 0.9222999811172485), (3, 0.9337000250816345), (4, 0.9405999779701233), (5, 0.9460999965667725), (6, 0.9495000243186951), (7, 0.9531999826431274), (8, 0.9556999802589417), (9, 0.9589999914169312), (10, 0.9602000117301941)]}\n"
          ]
        },
        {
          "output_type": "execute_result",
          "data": {
            "text/plain": [
              "Text(0.5, 1.0, 'MNIST - IID - 100 clients with 10 clients per round')"
            ]
          },
          "metadata": {},
          "execution_count": 12
        },
        {
          "output_type": "display_data",
          "data": {
            "text/plain": [
              "<Figure size 640x480 with 1 Axes>"
            ],
            "image/png": "[encoded data removed]"
          },
          "metadata": {}
        }
      ],
      "source": [
        "import matplotlib.pyplot as plt\n",
        "\n",
        "print(f\"{history.metrics_centralized = }\")\n",
        "\n",
        "global_accuracy_centralised = history.metrics_centralized[\"accuracy\"]\n",
        "round = [data[0] for data in global_accuracy_centralised]\n",
        "acc = [100.0 * data[1] for data in global_accuracy_centralised]\n",
        "plt.plot(round, acc)\n",
        "plt.grid()\n",
        "plt.ylabel(\"Accuracy (%)\")\n",
        "plt.xlabel(\"Round\")\n",
        "plt.title(\"MNIST - IID - 100 clients with 10 clients per round\")"
      ]
    },
    {
      "cell_type": "markdown",
      "metadata": {
        "id": "9lHhr3I5CpjO"
      },
      "source": [
        "Congratulations! With that, you built a Flower client, customized it's instantiation through the `client_fn`, customized the server-side execution through a `FedAvg` strategy configured for this workload, and started a simulation with 100 clients (each holding their own individual partition of the MNIST dataset).\n",
        "\n",
        "Next, you can continue to explore more advanced Flower topics:\n",
        "\n",
        "- Deploy server and clients on different machines using `start_server` and `start_client`\n",
        "- Customize the server-side execution through custom strategies\n",
        "- Customize the client-side execution through `config` dictionaries"
      ]
    }
  ],
  "metadata": {
    "colab": {
      "provenance": [],
      "include_colab_link": true
    },
    "kernelspec": {
      "display_name": "Python 3.8.12 ('.venv': poetry)",
      "language": "python",
      "name": "python3"
    }
  },
  "nbformat": 4,
  "nbformat_minor": 0
}