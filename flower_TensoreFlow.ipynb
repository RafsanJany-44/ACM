{
  "cells": [
    {
      "cell_type": "markdown",
      "metadata": {
        "id": "view-in-github",
        "colab_type": "text"
      },
      "source": [
        "<a href=\"https://colab.research.google.com/github/RafsanJany-44/ARC/blob/master/flower_TensoreFlow.ipynb\" target=\"_parent\"><img src=\"https://colab.research.google.com/assets/colab-badge.svg\" alt=\"Open In Colab\"/></a>"
      ]
    },
    {
      "cell_type": "code",
      "source": [],
      "metadata": {
        "id": "svPlNHP0XziW"
      },
      "execution_count": null,
      "outputs": []
    },
    {
      "cell_type": "code",
      "source": [
        "from google.colab import drive\n",
        "drive.mount('/content/drive')"
      ],
      "metadata": {
        "id": "ADSawqkUX4Do",
        "outputId": "14c7b594-ad38-4e2d-ac3d-594500cb287b",
        "colab": {
          "base_uri": "https://localhost:8080/"
        }
      },
      "execution_count": 2,
      "outputs": [
        {
          "output_type": "stream",
          "name": "stdout",
          "text": [
            "Mounted at /content/drive\n"
          ]
        }
      ]
    },
    {
      "cell_type": "code",
      "source": [
        "import pandas as pd\n",
        "import numpy as np\n",
        "\n",
        "df = pd.read_excel(\"/content/drive/MyDrive/Tanjila_mam/DS-Healthcare_version_2.xlsx\")"
      ],
      "metadata": {
        "id": "0OJhMPoHZOhc"
      },
      "execution_count": 12,
      "outputs": []
    },
    {
      "cell_type": "markdown",
      "metadata": {
        "id": "apflq_X1CpjI"
      },
      "source": [
        "# Flower Quickstart (Simulation with TensorFlow/Keras)\n",
        "\n",
        "Welcome to Flower, a friendly federated learning framework!\n",
        "\n",
        "In this notebook, we'll simulate a federated learning system with 100 clients. The clients will use TensorFlow/Keras to define model training and evaluation. Let's start by installing Flower (published as `flwr` on PyPI) with the `simulation` extra:"
      ]
    },
    {
      "cell_type": "code",
      "execution_count": 3,
      "metadata": {
        "id": "3G95KFFnCpjK"
      },
      "outputs": [],
      "source": [
        "!pip install -q flwr[\"simulation\"] tensorflow"
      ]
    },
    {
      "cell_type": "markdown",
      "metadata": {
        "id": "fQeJs969CpjL"
      },
      "source": [
        "Let's also install Matplotlib so we can make some plots once the simulation is completed"
      ]
    },
    {
      "cell_type": "code",
      "execution_count": 4,
      "metadata": {
        "id": "uZ1j5RhACpjL",
        "outputId": "667e40cd-8b09-4400-ab12-4cc7946ffa08",
        "colab": {
          "base_uri": "https://localhost:8080/"
        }
      },
      "outputs": [
        {
          "output_type": "stream",
          "name": "stdout",
          "text": [
            "Requirement already satisfied: matplotlib in /usr/local/lib/python3.10/dist-packages (3.7.1)\n",
            "Requirement already satisfied: contourpy>=1.0.1 in /usr/local/lib/python3.10/dist-packages (from matplotlib) (1.1.0)\n",
            "Requirement already satisfied: cycler>=0.10 in /usr/local/lib/python3.10/dist-packages (from matplotlib) (0.11.0)\n",
            "Requirement already satisfied: fonttools>=4.22.0 in /usr/local/lib/python3.10/dist-packages (from matplotlib) (4.42.1)\n",
            "Requirement already satisfied: kiwisolver>=1.0.1 in /usr/local/lib/python3.10/dist-packages (from matplotlib) (1.4.5)\n",
            "Requirement already satisfied: numpy>=1.20 in /usr/local/lib/python3.10/dist-packages (from matplotlib) (1.23.5)\n",
            "Requirement already satisfied: packaging>=20.0 in /usr/local/lib/python3.10/dist-packages (from matplotlib) (23.1)\n",
            "Requirement already satisfied: pillow>=6.2.0 in /usr/local/lib/python3.10/dist-packages (from matplotlib) (9.4.0)\n",
            "Requirement already satisfied: pyparsing>=2.3.1 in /usr/local/lib/python3.10/dist-packages (from matplotlib) (3.1.1)\n",
            "Requirement already satisfied: python-dateutil>=2.7 in /usr/local/lib/python3.10/dist-packages (from matplotlib) (2.8.2)\n",
            "Requirement already satisfied: six>=1.5 in /usr/local/lib/python3.10/dist-packages (from python-dateutil>=2.7->matplotlib) (1.16.0)\n"
          ]
        }
      ],
      "source": [
        "!pip install matplotlib"
      ]
    },
    {
      "cell_type": "markdown",
      "metadata": {
        "id": "n6yAsk-2CpjM"
      },
      "source": [
        "Next, we import the required dependencies. The most important imports are Flower (`flwr`) and TensorFlow:"
      ]
    },
    {
      "cell_type": "code",
      "execution_count": 19,
      "metadata": {
        "id": "Bxt-YZ6LCpjM"
      },
      "outputs": [],
      "source": [
        "import math\n",
        "from typing import Dict, List, Tuple\n",
        "\n",
        "import tensorflow as tf\n",
        "\n",
        "import flwr as fl\n",
        "from flwr.common import Metrics\n",
        "from flwr.simulation.ray_transport.utils import enable_tf_gpu_growth\n",
        "\n",
        "VERBOSE = 0\n",
        "NUM_CLIENTS = 10"
      ]
    },
    {
      "cell_type": "markdown",
      "metadata": {
        "id": "1IIU30uNCpjM"
      },
      "source": [
        "Let's start by defining the model we want to federated. Since we will be working with MNIST, using a fully connected model is sufficient. You can of course customize this model."
      ]
    },
    {
      "cell_type": "code",
      "execution_count": 20,
      "metadata": {
        "id": "4CLrcqXgCpjM"
      },
      "outputs": [],
      "source": [
        "def get_model():\n",
        "    \"\"\"Constructs a simple model architecture suitable for MNIST.\"\"\"\n",
        "    model = tf.keras.models.Sequential(\n",
        "        [\n",
        "            tf.keras.layers.Flatten(input_shape=(28, 28)),\n",
        "            tf.keras.layers.Dense(128, activation=\"relu\"),\n",
        "            tf.keras.layers.Dropout(0.2),\n",
        "            tf.keras.layers.Dense(10, activation=\"softmax\"),\n",
        "        ]\n",
        "    )\n",
        "    model.compile(\"adam\", \"sparse_categorical_crossentropy\", metrics=[\"accuracy\"])\n",
        "    return model"
      ]
    },
    {
      "cell_type": "markdown",
      "metadata": {
        "id": "xAt1OtntCpjN"
      },
      "source": [
        "With that out of the way, let's move on to the interesting bits. Federated learning systems consist of a server and multiple clients. In Flower, we create clients by implementing subclasses of `flwr.client.Client` or `flwr.client.NumPyClient`. We use `NumPyClient` in this tutorial because it is easier to implement and requires us to write less boilerplate.\n",
        "\n",
        "To implement the Flower client, we create a subclass of `flwr.client.NumPyClient` and implement the three methods `get_parameters`, `fit`, and `evaluate`:\n",
        "\n",
        "- `get_parameters`: Return the current local model parameters\n",
        "- `fit`: Receive model parameters from the server, train the model parameters on the local data, and return the (updated) model parameters to the server\n",
        "- `evaluate`: Received model parameters from the server, evaluate the model parameters on the local data, and return the evaluation result to the server\n",
        "\n",
        "We mentioned that our clients will use TensorFlow/Keras for the model training and evaluation. Keras models provide methods that make the implementation straightforward: we can update the local model with server-provides parameters through `model.set_weights`, we can train/evaluate the model through `fit/evaluate`, and we can get the updated model parameters through `model.get_weights`.\n",
        "\n",
        "Let's see a simple implementation:"
      ]
    },
    {
      "cell_type": "code",
      "execution_count": 21,
      "metadata": {
        "id": "B4UyAgVkCpjN"
      },
      "outputs": [],
      "source": [
        "class FlowerClient(fl.client.NumPyClient):\n",
        "    def __init__(self, x_train, y_train, x_val, y_val) -> None:\n",
        "        # Create model\n",
        "        self.model = get_model()\n",
        "        self.x_train, self.y_train = x_train, y_train\n",
        "        self.x_val, self.y_val = x_val, y_val\n",
        "\n",
        "    def get_parameters(self, config):\n",
        "        return self.model.get_weights()\n",
        "\n",
        "    def fit(self, parameters, config):\n",
        "        self.model.set_weights(parameters)\n",
        "        self.model.fit(\n",
        "            self.x_train, self.y_train, epochs=1, batch_size=32, verbose=VERBOSE\n",
        "        )\n",
        "        return self.model.get_weights(), len(self.x_train), {}\n",
        "\n",
        "    def evaluate(self, parameters, config):\n",
        "        self.model.set_weights(parameters)\n",
        "        loss, acc = self.model.evaluate(\n",
        "            self.x_val, self.y_val, batch_size=64, verbose=VERBOSE\n",
        "        )\n",
        "        return loss, len(self.x_val), {\"accuracy\": acc}"
      ]
    },
    {
      "cell_type": "markdown",
      "metadata": {
        "id": "yeagnz5hCpjN"
      },
      "source": [
        "Our class `FlowerClient` defines how local training/evaluation will be performed and allows Flower to call the local training/evaluation through `fit` and `evaluate`. Each instance of `FlowerClient` represents a *single client* in our federated learning system. Federated learning systems have multiple clients (otherwise, there's not much to federate, is there?), so each client will be represented by its own instance of `FlowerClient`. If we have, for example, three clients in our workload, we'd have three instances of `FlowerClient`. Flower calls `FlowerClient.fit` on the respective instance when the server selects a particular client for training (and `FlowerClient.evaluate` for evaluation).\n",
        "\n",
        "In this notebook, we want to simulate a federated learning system with 100 clients on a single machine. This means that the server and all 100 clients will live on a single machine and share resources such as CPU, GPU, and memory. Having 100 clients would mean having 100 instances of `FlowerClient` in memory. Doing this on a single machine can quickly exhaust the available memory resources, even if only a subset of these clients participates in a single round of federated learning.\n",
        "\n",
        "In addition to the regular capabilities where server and clients run on multiple machines, Flower, therefore, provides special simulation capabilities that create `FlowerClient` instances only when they are actually necessary for training or evaluation. To enable the Flower framework to create clients when necessary, we need to implement a function called `client_fn` that creates a `FlowerClient` instance on demand. Flower calls `client_fn` whenever it needs an instance of one particular client to call `fit` or `evaluate` (those instances are usually discarded after use). Clients are identified by a client ID, or short `cid`. The `cid` can be used, for example, to load different local data partitions for each client"
      ]
    },
    {
      "cell_type": "markdown",
      "metadata": {
        "id": "H60yAydBCpjO"
      },
      "source": [
        "We now define four auxiliary functions for this example (note the last two are entirely optional):\n",
        "* `get_client_fn()`: Is a function that returns another function. The returned `client_fn` will be executed by Flower's VirtualClientEngine each time a new _virtual_ client (i.e. a client that is simulated in a Python process) needs to be spawn. When are virtual clients spawned? Each time the strategy samples them to do either `fit()` (i.e. train the global model on the local data of a particular client) or `evaluate()` (i.e. evaluate the global model on the validation set of a given client).\n",
        "\n",
        "* `partition_mnist()`: A utility function that downloads the MNIST dataset and partitions it into `NUM_CLIENT` disjoint sets. The resulting list of dataset partitions will be passed to `get_client_fn()` so a client can be constructed by passing it its corresponding dataset partition. There are multiple ways of partitioning a dataset, but in this example we keep things simple. For larger dataset, you might want to pre-partition your dataset before running your Flower experiment and, potentially, store these partition into your files system or a database. In this way, your `FlowerClient` objects can retrieve their data directly when doing either `fit()` or `evaluate()`.\n",
        "\n",
        "* `weighted_average()`: This is an optional function to pass to the strategy. It will be executed after an evaluation round (i.e. when client run `evaluate()`) and will aggregate the metrics clients return. In this example, we use this function to compute the weighted average accuracy of clients doing `evaluate()`.\n",
        "\n",
        "* `get_evaluate_fn()`: This is again a function that returns another function. The returned function will be executed by the strategy at the end of a `fit()` round and after a new global model has been obtained after aggregation. This is an optional argument for Flower strategies. In this example, we use the whole MNIST test set to perform this server-side evaluation."
      ]
    },
    {
      "cell_type": "code",
      "source": [
        "(x_train, y_train), testset = tf.keras.datasets.mnist.load_data()"
      ],
      "metadata": {
        "id": "7R92eBLwb-fi"
      },
      "execution_count": 25,
      "outputs": []
    },
    {
      "cell_type": "code",
      "source": [
        "x_train.shape"
      ],
      "metadata": {
        "id": "XhnHqOxXb_Z5",
        "outputId": "78ecb6a5-371a-47f1-c526-c8019bcc0f15",
        "colab": {
          "base_uri": "https://localhost:8080/"
        }
      },
      "execution_count": 27,
      "outputs": [
        {
          "output_type": "execute_result",
          "data": {
            "text/plain": [
              "(60000, 28, 28)"
            ]
          },
          "metadata": {},
          "execution_count": 27
        }
      ]
    },
    {
      "cell_type": "code",
      "source": [],
      "metadata": {
        "id": "w7e9-YyHcKAd"
      },
      "execution_count": null,
      "outputs": []
    },
    {
      "cell_type": "code",
      "execution_count": 22,
      "metadata": {
        "id": "BosQFOi1CpjO"
      },
      "outputs": [],
      "source": [
        "def get_client_fn(dataset_partitions):\n",
        "    \"\"\"Return a function to be executed by the VirtualClientEngine in order to construct\n",
        "    a client.\"\"\"\n",
        "\n",
        "    def client_fn(cid: str) -> fl.client.Client:\n",
        "        \"\"\"Construct a FlowerClient with its own dataset partition.\"\"\"\n",
        "\n",
        "        # Extract partition for client with id = cid\n",
        "        x_train, y_train = dataset_partitions[int(cid)]\n",
        "        # Use 10% of the client's training data for validation\n",
        "        split_idx = math.floor(len(x_train) * 0.9)\n",
        "        x_train_cid, y_train_cid = (\n",
        "            x_train[:split_idx],\n",
        "            y_train[:split_idx],\n",
        "        )\n",
        "        x_val_cid, y_val_cid = x_train[split_idx:], y_train[split_idx:]\n",
        "\n",
        "        # Create and return client\n",
        "        return FlowerClient(x_train_cid, y_train_cid, x_val_cid, y_val_cid)\n",
        "\n",
        "    return client_fn\n",
        "\n",
        "\n",
        "def partition_mnist():\n",
        "    \"\"\"Download and partitions the MNIST dataset.\"\"\"\n",
        "    (x_train, y_train), testset = tf.keras.datasets.mnist.load_data()\n",
        "    partitions = []\n",
        "    # We keep all partitions equal-sized in this example\n",
        "    partition_size = math.floor(len(x_train) / NUM_CLIENTS)\n",
        "    for cid in range(NUM_CLIENTS):\n",
        "        # Split dataset into non-overlapping NUM_CLIENT partitions\n",
        "        idx_from, idx_to = int(cid) * partition_size, (int(cid) + 1) * partition_size\n",
        "        partitions.append((x_train[idx_from:idx_to] / 255.0, y_train[idx_from:idx_to]))\n",
        "    return partitions, testset\n",
        "\n",
        "\n",
        "def weighted_average(metrics: List[Tuple[int, Metrics]]) -> Metrics:\n",
        "    \"\"\"Aggregation function for (federated) evaluation metrics, i.e. those returned by\n",
        "    the client's evaluate() method.\"\"\"\n",
        "    # Multiply accuracy of each client by number of examples used\n",
        "    accuracies = [num_examples * m[\"accuracy\"] for num_examples, m in metrics]\n",
        "    examples = [num_examples for num_examples, _ in metrics]\n",
        "\n",
        "    # Aggregate and return custom metric (weighted average)\n",
        "    return {\"accuracy\": sum(accuracies) / sum(examples)}\n",
        "\n",
        "\n",
        "def get_evaluate_fn(testset):\n",
        "    \"\"\"Return an evaluation function for server-side (i.e. centralized) evaluation.\"\"\"\n",
        "    x_test, y_test = testset\n",
        "\n",
        "    # The `evaluate` function will be called after every round by the strategy\n",
        "    def evaluate(\n",
        "        server_round: int,\n",
        "        parameters: fl.common.NDArrays,\n",
        "        config: Dict[str, fl.common.Scalar],\n",
        "    ):\n",
        "        model = get_model()  # Construct the model\n",
        "        model.set_weights(parameters)  # Update model with the latest parameters\n",
        "        loss, accuracy = model.evaluate(x_test, y_test, verbose=VERBOSE)\n",
        "        return loss, {\"accuracy\": accuracy}\n",
        "\n",
        "    return evaluate"
      ]
    },
    {
      "cell_type": "markdown",
      "metadata": {
        "id": "f94Kk9ZvCpjO"
      },
      "source": [
        "We now have `FlowerClient` which defines client-side training and evaluation, and `client_fn`, which allows Flower to create `FlowerClient` instances whenever it needs to call `fit` or `evaluate` on one particular client. The last step is to start the actual simulation using `flwr.simulation.start_simulation`.\n",
        "\n",
        "The function `start_simulation` accepts a number of arguments, amongst them the `client_fn` used to create `FlowerClient` instances, the number of clients to simulate `num_clients`, the number of rounds `num_rounds`, and the strategy. The strategy encapsulates the federated learning approach/algorithm, for example, *Federated Averaging* (FedAvg).\n",
        "\n",
        "Flower comes with a number of built-in strategies, but we can also use our own strategy implementations to customize nearly all aspects of the federated learning approach. For this example, we use the built-in `FedAvg` implementation and customize it using a few basic parameters. The last step is the actual call to `start_simulation` which - you guessed it - actually starts the simulation."
      ]
    },
    {
      "cell_type": "code",
      "execution_count": 23,
      "metadata": {
        "id": "eCM_TesRCpjO",
        "outputId": "6cd02229-efc7-4c77-ea15-2557e64b7667",
        "colab": {
          "base_uri": "https://localhost:8080/"
        }
      },
      "outputs": [
        {
          "output_type": "stream",
          "name": "stderr",
          "text": [
            "WARNING flwr 2023-10-01 18:08:20,873 | fedavg.py:117 | \n",
            "Setting `min_available_clients` lower than `min_fit_clients` or\n",
            "`min_evaluate_clients` can cause the server to fail when there are too few clients\n",
            "connected to the server. `min_available_clients` must be set to a value larger\n",
            "than or equal to the values of `min_fit_clients` and `min_evaluate_clients`.\n",
            "\n",
            "WARNING:flwr:\n",
            "Setting `min_available_clients` lower than `min_fit_clients` or\n",
            "`min_evaluate_clients` can cause the server to fail when there are too few clients\n",
            "connected to the server. `min_available_clients` must be set to a value larger\n",
            "than or equal to the values of `min_fit_clients` and `min_evaluate_clients`.\n",
            "\n",
            "INFO flwr 2023-10-01 18:08:20,877 | app.py:175 | Starting Flower simulation, config: ServerConfig(num_rounds=10, round_timeout=None)\n",
            "INFO:flwr:Starting Flower simulation, config: ServerConfig(num_rounds=10, round_timeout=None)\n",
            "2023-10-01 18:08:25,207\tINFO worker.py:1621 -- Started a local Ray instance.\n",
            "INFO flwr 2023-10-01 18:08:27,202 | app.py:210 | Flower VCE: Ray initialized with resources: {'CPU': 2.0, 'node:172.28.0.12': 1.0, 'node:__internal_head__': 1.0, 'object_store_memory': 3902324736.0, 'memory': 7804649472.0}\n",
            "INFO:flwr:Flower VCE: Ray initialized with resources: {'CPU': 2.0, 'node:172.28.0.12': 1.0, 'node:__internal_head__': 1.0, 'object_store_memory': 3902324736.0, 'memory': 7804649472.0}\n",
            "INFO flwr 2023-10-01 18:08:27,211 | app.py:224 | Flower VCE: Resources for each Virtual Client: {'num_cpus': 1, 'num_gpus': 0.0}\n",
            "INFO:flwr:Flower VCE: Resources for each Virtual Client: {'num_cpus': 1, 'num_gpus': 0.0}\n",
            "INFO flwr 2023-10-01 18:08:27,249 | app.py:270 | Flower VCE: Creating VirtualClientEngineActorPool with 2 actors\n",
            "INFO:flwr:Flower VCE: Creating VirtualClientEngineActorPool with 2 actors\n",
            "INFO flwr 2023-10-01 18:08:27,258 | server.py:89 | Initializing global parameters\n",
            "INFO:flwr:Initializing global parameters\n",
            "INFO flwr 2023-10-01 18:08:27,262 | server.py:276 | Requesting initial parameters from one random client\n",
            "INFO:flwr:Requesting initial parameters from one random client\n",
            "\u001b[2m\u001b[36m(pid=96621)\u001b[0m 2023-10-01 18:08:30.699128: W tensorflow/compiler/tf2tensorrt/utils/py_utils.cc:38] TF-TRT Warning: Could not find TensorRT\n",
            "INFO flwr 2023-10-01 18:08:33,295 | server.py:280 | Received initial parameters from one random client\n",
            "INFO:flwr:Received initial parameters from one random client\n",
            "INFO flwr 2023-10-01 18:08:33,303 | server.py:91 | Evaluating initial parameters\n",
            "INFO:flwr:Evaluating initial parameters\n",
            "INFO flwr 2023-10-01 18:08:34,160 | server.py:94 | initial parameters (loss, other metrics): 124.00489807128906, {'accuracy': 0.08110000193119049}\n",
            "INFO:flwr:initial parameters (loss, other metrics): 124.00489807128906, {'accuracy': 0.08110000193119049}\n",
            "INFO flwr 2023-10-01 18:08:34,163 | server.py:104 | FL starting\n",
            "INFO:flwr:FL starting\n",
            "DEBUG flwr 2023-10-01 18:08:34,168 | server.py:222 | fit_round 1: strategy sampled 10 clients (out of 10)\n",
            "DEBUG:flwr:fit_round 1: strategy sampled 10 clients (out of 10)\n",
            "DEBUG flwr 2023-10-01 18:08:43,758 | server.py:236 | fit_round 1 received 10 results and 0 failures\n",
            "DEBUG:flwr:fit_round 1 received 10 results and 0 failures\n",
            "WARNING flwr 2023-10-01 18:08:43,775 | fedavg.py:242 | No fit_metrics_aggregation_fn provided\n",
            "WARNING:flwr:No fit_metrics_aggregation_fn provided\n",
            "INFO flwr 2023-10-01 18:08:44,611 | server.py:125 | fit progress: (1, 34.58613967895508, {'accuracy': 0.9018999934196472}, 10.442679904999977)\n",
            "INFO:flwr:fit progress: (1, 34.58613967895508, {'accuracy': 0.9018999934196472}, 10.442679904999977)\n",
            "DEBUG flwr 2023-10-01 18:08:44,613 | server.py:173 | evaluate_round 1: strategy sampled 5 clients (out of 10)\n",
            "DEBUG:flwr:evaluate_round 1: strategy sampled 5 clients (out of 10)\n",
            "DEBUG flwr 2023-10-01 18:08:45,891 | server.py:187 | evaluate_round 1 received 5 results and 0 failures\n",
            "DEBUG:flwr:evaluate_round 1 received 5 results and 0 failures\n",
            "DEBUG flwr 2023-10-01 18:08:45,897 | server.py:222 | fit_round 2: strategy sampled 10 clients (out of 10)\n",
            "DEBUG:flwr:fit_round 2: strategy sampled 10 clients (out of 10)\n",
            "DEBUG flwr 2023-10-01 18:08:55,041 | server.py:236 | fit_round 2 received 10 results and 0 failures\n",
            "DEBUG:flwr:fit_round 2 received 10 results and 0 failures\n",
            "INFO flwr 2023-10-01 18:08:55,893 | server.py:125 | fit progress: (2, 32.10481643676758, {'accuracy': 0.9228000044822693}, 21.725370513000144)\n",
            "INFO:flwr:fit progress: (2, 32.10481643676758, {'accuracy': 0.9228000044822693}, 21.725370513000144)\n",
            "DEBUG flwr 2023-10-01 18:08:55,896 | server.py:173 | evaluate_round 2: strategy sampled 5 clients (out of 10)\n",
            "DEBUG:flwr:evaluate_round 2: strategy sampled 5 clients (out of 10)\n",
            "DEBUG flwr 2023-10-01 18:08:57,053 | server.py:187 | evaluate_round 2 received 5 results and 0 failures\n",
            "DEBUG:flwr:evaluate_round 2 received 5 results and 0 failures\n",
            "DEBUG flwr 2023-10-01 18:08:57,057 | server.py:222 | fit_round 3: strategy sampled 10 clients (out of 10)\n",
            "DEBUG:flwr:fit_round 3: strategy sampled 10 clients (out of 10)\n",
            "DEBUG flwr 2023-10-01 18:09:04,948 | server.py:236 | fit_round 3 received 10 results and 0 failures\n",
            "DEBUG:flwr:fit_round 3 received 10 results and 0 failures\n",
            "INFO flwr 2023-10-01 18:09:05,883 | server.py:125 | fit progress: (3, 27.730653762817383, {'accuracy': 0.932699978351593}, 31.71460978999994)\n",
            "INFO:flwr:fit progress: (3, 27.730653762817383, {'accuracy': 0.932699978351593}, 31.71460978999994)\n",
            "DEBUG flwr 2023-10-01 18:09:05,885 | server.py:173 | evaluate_round 3: strategy sampled 5 clients (out of 10)\n",
            "DEBUG:flwr:evaluate_round 3: strategy sampled 5 clients (out of 10)\n",
            "DEBUG flwr 2023-10-01 18:09:07,715 | server.py:187 | evaluate_round 3 received 5 results and 0 failures\n",
            "DEBUG:flwr:evaluate_round 3 received 5 results and 0 failures\n",
            "DEBUG flwr 2023-10-01 18:09:07,718 | server.py:222 | fit_round 4: strategy sampled 10 clients (out of 10)\n",
            "DEBUG:flwr:fit_round 4: strategy sampled 10 clients (out of 10)\n",
            "DEBUG flwr 2023-10-01 18:09:15,001 | server.py:236 | fit_round 4 received 10 results and 0 failures\n",
            "DEBUG:flwr:fit_round 4 received 10 results and 0 failures\n",
            "INFO flwr 2023-10-01 18:09:15,543 | server.py:125 | fit progress: (4, 25.357370376586914, {'accuracy': 0.9399999976158142}, 41.37525250199997)\n",
            "INFO:flwr:fit progress: (4, 25.357370376586914, {'accuracy': 0.9399999976158142}, 41.37525250199997)\n",
            "DEBUG flwr 2023-10-01 18:09:15,548 | server.py:173 | evaluate_round 4: strategy sampled 5 clients (out of 10)\n",
            "DEBUG:flwr:evaluate_round 4: strategy sampled 5 clients (out of 10)\n",
            "DEBUG flwr 2023-10-01 18:09:16,762 | server.py:187 | evaluate_round 4 received 5 results and 0 failures\n",
            "DEBUG:flwr:evaluate_round 4 received 5 results and 0 failures\n",
            "DEBUG flwr 2023-10-01 18:09:16,769 | server.py:222 | fit_round 5: strategy sampled 10 clients (out of 10)\n",
            "DEBUG:flwr:fit_round 5: strategy sampled 10 clients (out of 10)\n",
            "DEBUG flwr 2023-10-01 18:09:25,929 | server.py:236 | fit_round 5 received 10 results and 0 failures\n",
            "DEBUG:flwr:fit_round 5 received 10 results and 0 failures\n",
            "INFO flwr 2023-10-01 18:09:26,778 | server.py:125 | fit progress: (5, 23.18984603881836, {'accuracy': 0.9449999928474426}, 52.60988066799996)\n",
            "INFO:flwr:fit progress: (5, 23.18984603881836, {'accuracy': 0.9449999928474426}, 52.60988066799996)\n",
            "DEBUG flwr 2023-10-01 18:09:26,780 | server.py:173 | evaluate_round 5: strategy sampled 5 clients (out of 10)\n",
            "DEBUG:flwr:evaluate_round 5: strategy sampled 5 clients (out of 10)\n",
            "DEBUG flwr 2023-10-01 18:09:27,949 | server.py:187 | evaluate_round 5 received 5 results and 0 failures\n",
            "DEBUG:flwr:evaluate_round 5 received 5 results and 0 failures\n",
            "DEBUG flwr 2023-10-01 18:09:27,954 | server.py:222 | fit_round 6: strategy sampled 10 clients (out of 10)\n",
            "DEBUG:flwr:fit_round 6: strategy sampled 10 clients (out of 10)\n",
            "DEBUG flwr 2023-10-01 18:09:36,340 | server.py:236 | fit_round 6 received 10 results and 0 failures\n",
            "DEBUG:flwr:fit_round 6 received 10 results and 0 failures\n",
            "INFO flwr 2023-10-01 18:09:37,255 | server.py:125 | fit progress: (6, 20.992475509643555, {'accuracy': 0.951200008392334}, 63.08731466600011)\n",
            "INFO:flwr:fit progress: (6, 20.992475509643555, {'accuracy': 0.951200008392334}, 63.08731466600011)\n",
            "DEBUG flwr 2023-10-01 18:09:37,258 | server.py:173 | evaluate_round 6: strategy sampled 5 clients (out of 10)\n",
            "DEBUG:flwr:evaluate_round 6: strategy sampled 5 clients (out of 10)\n",
            "DEBUG flwr 2023-10-01 18:09:39,040 | server.py:187 | evaluate_round 6 received 5 results and 0 failures\n",
            "DEBUG:flwr:evaluate_round 6 received 5 results and 0 failures\n",
            "DEBUG flwr 2023-10-01 18:09:39,046 | server.py:222 | fit_round 7: strategy sampled 10 clients (out of 10)\n",
            "DEBUG:flwr:fit_round 7: strategy sampled 10 clients (out of 10)\n",
            "DEBUG flwr 2023-10-01 18:09:45,975 | server.py:236 | fit_round 7 received 10 results and 0 failures\n",
            "DEBUG:flwr:fit_round 7 received 10 results and 0 failures\n",
            "INFO flwr 2023-10-01 18:09:46,535 | server.py:125 | fit progress: (7, 20.042490005493164, {'accuracy': 0.9550999999046326}, 72.36735371000009)\n",
            "INFO:flwr:fit progress: (7, 20.042490005493164, {'accuracy': 0.9550999999046326}, 72.36735371000009)\n",
            "DEBUG flwr 2023-10-01 18:09:46,540 | server.py:173 | evaluate_round 7: strategy sampled 5 clients (out of 10)\n",
            "DEBUG:flwr:evaluate_round 7: strategy sampled 5 clients (out of 10)\n",
            "DEBUG flwr 2023-10-01 18:09:47,715 | server.py:187 | evaluate_round 7 received 5 results and 0 failures\n",
            "DEBUG:flwr:evaluate_round 7 received 5 results and 0 failures\n",
            "DEBUG flwr 2023-10-01 18:09:47,719 | server.py:222 | fit_round 8: strategy sampled 10 clients (out of 10)\n",
            "DEBUG:flwr:fit_round 8: strategy sampled 10 clients (out of 10)\n",
            "DEBUG flwr 2023-10-01 18:09:56,824 | server.py:236 | fit_round 8 received 10 results and 0 failures\n",
            "DEBUG:flwr:fit_round 8 received 10 results and 0 failures\n",
            "INFO flwr 2023-10-01 18:09:57,683 | server.py:125 | fit progress: (8, 18.999250411987305, {'accuracy': 0.957099974155426}, 83.5151357530001)\n",
            "INFO:flwr:fit progress: (8, 18.999250411987305, {'accuracy': 0.957099974155426}, 83.5151357530001)\n",
            "DEBUG flwr 2023-10-01 18:09:57,687 | server.py:173 | evaluate_round 8: strategy sampled 5 clients (out of 10)\n",
            "DEBUG:flwr:evaluate_round 8: strategy sampled 5 clients (out of 10)\n",
            "DEBUG flwr 2023-10-01 18:09:58,880 | server.py:187 | evaluate_round 8 received 5 results and 0 failures\n",
            "DEBUG:flwr:evaluate_round 8 received 5 results and 0 failures\n",
            "DEBUG flwr 2023-10-01 18:09:58,883 | server.py:222 | fit_round 9: strategy sampled 10 clients (out of 10)\n",
            "DEBUG:flwr:fit_round 9: strategy sampled 10 clients (out of 10)\n",
            "DEBUG flwr 2023-10-01 18:10:07,991 | server.py:236 | fit_round 9 received 10 results and 0 failures\n",
            "DEBUG:flwr:fit_round 9 received 10 results and 0 failures\n",
            "INFO flwr 2023-10-01 18:10:08,882 | server.py:125 | fit progress: (9, 18.365848541259766, {'accuracy': 0.9599999785423279}, 94.71418929200013)\n",
            "INFO:flwr:fit progress: (9, 18.365848541259766, {'accuracy': 0.9599999785423279}, 94.71418929200013)\n",
            "DEBUG flwr 2023-10-01 18:10:08,887 | server.py:173 | evaluate_round 9: strategy sampled 5 clients (out of 10)\n",
            "DEBUG:flwr:evaluate_round 9: strategy sampled 5 clients (out of 10)\n",
            "DEBUG flwr 2023-10-01 18:10:10,033 | server.py:187 | evaluate_round 9 received 5 results and 0 failures\n",
            "DEBUG:flwr:evaluate_round 9 received 5 results and 0 failures\n",
            "DEBUG flwr 2023-10-01 18:10:10,036 | server.py:222 | fit_round 10: strategy sampled 10 clients (out of 10)\n",
            "DEBUG:flwr:fit_round 10: strategy sampled 10 clients (out of 10)\n",
            "DEBUG flwr 2023-10-01 18:10:16,996 | server.py:236 | fit_round 10 received 10 results and 0 failures\n",
            "DEBUG:flwr:fit_round 10 received 10 results and 0 failures\n",
            "INFO flwr 2023-10-01 18:10:17,833 | server.py:125 | fit progress: (10, 17.900177001953125, {'accuracy': 0.9617999792098999}, 103.66525937200004)\n",
            "INFO:flwr:fit progress: (10, 17.900177001953125, {'accuracy': 0.9617999792098999}, 103.66525937200004)\n",
            "DEBUG flwr 2023-10-01 18:10:17,836 | server.py:173 | evaluate_round 10: strategy sampled 5 clients (out of 10)\n",
            "DEBUG:flwr:evaluate_round 10: strategy sampled 5 clients (out of 10)\n",
            "DEBUG flwr 2023-10-01 18:10:19,088 | server.py:187 | evaluate_round 10 received 5 results and 0 failures\n",
            "DEBUG:flwr:evaluate_round 10 received 5 results and 0 failures\n",
            "INFO flwr 2023-10-01 18:10:19,091 | server.py:153 | FL finished in 104.9228261610001\n",
            "INFO:flwr:FL finished in 104.9228261610001\n",
            "INFO flwr 2023-10-01 18:10:19,092 | app.py:225 | app_fit: losses_distributed [(1, 0.43082444071769715), (2, 0.30838303565979003), (3, 0.22407971918582917), (4, 0.2127339571714401), (5, 0.18710296750068664), (6, 0.17616327106952667), (7, 0.1658041775226593), (8, 0.1573527306318283), (9, 0.14193855375051498), (10, 0.14068983793258666)]\n",
            "INFO:flwr:app_fit: losses_distributed [(1, 0.43082444071769715), (2, 0.30838303565979003), (3, 0.22407971918582917), (4, 0.2127339571714401), (5, 0.18710296750068664), (6, 0.17616327106952667), (7, 0.1658041775226593), (8, 0.1573527306318283), (9, 0.14193855375051498), (10, 0.14068983793258666)]\n",
            "INFO flwr 2023-10-01 18:10:19,093 | app.py:226 | app_fit: metrics_distributed_fit {}\n",
            "INFO:flwr:app_fit: metrics_distributed_fit {}\n",
            "INFO flwr 2023-10-01 18:10:19,095 | app.py:227 | app_fit: metrics_distributed {'accuracy': [(1, 0.8756666660308838), (2, 0.9116666913032532), (3, 0.9376666665077209), (4, 0.9429999947547912), (5, 0.9489999890327454), (6, 0.9456666588783265), (7, 0.9519999861717224), (8, 0.9539999842643738), (9, 0.9589999794960022), (10, 0.9589999914169312)]}\n",
            "INFO:flwr:app_fit: metrics_distributed {'accuracy': [(1, 0.8756666660308838), (2, 0.9116666913032532), (3, 0.9376666665077209), (4, 0.9429999947547912), (5, 0.9489999890327454), (6, 0.9456666588783265), (7, 0.9519999861717224), (8, 0.9539999842643738), (9, 0.9589999794960022), (10, 0.9589999914169312)]}\n",
            "INFO flwr 2023-10-01 18:10:19,098 | app.py:228 | app_fit: losses_centralized [(0, 124.00489807128906), (1, 34.58613967895508), (2, 32.10481643676758), (3, 27.730653762817383), (4, 25.357370376586914), (5, 23.18984603881836), (6, 20.992475509643555), (7, 20.042490005493164), (8, 18.999250411987305), (9, 18.365848541259766), (10, 17.900177001953125)]\n",
            "INFO:flwr:app_fit: losses_centralized [(0, 124.00489807128906), (1, 34.58613967895508), (2, 32.10481643676758), (3, 27.730653762817383), (4, 25.357370376586914), (5, 23.18984603881836), (6, 20.992475509643555), (7, 20.042490005493164), (8, 18.999250411987305), (9, 18.365848541259766), (10, 17.900177001953125)]\n",
            "INFO flwr 2023-10-01 18:10:19,099 | app.py:229 | app_fit: metrics_centralized {'accuracy': [(0, 0.08110000193119049), (1, 0.9018999934196472), (2, 0.9228000044822693), (3, 0.932699978351593), (4, 0.9399999976158142), (5, 0.9449999928474426), (6, 0.951200008392334), (7, 0.9550999999046326), (8, 0.957099974155426), (9, 0.9599999785423279), (10, 0.9617999792098999)]}\n",
            "INFO:flwr:app_fit: metrics_centralized {'accuracy': [(0, 0.08110000193119049), (1, 0.9018999934196472), (2, 0.9228000044822693), (3, 0.932699978351593), (4, 0.9399999976158142), (5, 0.9449999928474426), (6, 0.951200008392334), (7, 0.9550999999046326), (8, 0.957099974155426), (9, 0.9599999785423279), (10, 0.9617999792098999)]}\n"
          ]
        }
      ],
      "source": [
        "# Enable GPU growth in your main process\n",
        "enable_tf_gpu_growth()\n",
        "\n",
        "# Create dataset partitions (needed if your dataset is not pre-partitioned)\n",
        "partitions, testset = partition_mnist()\n",
        "\n",
        "# Create FedAvg strategy\n",
        "strategy = fl.server.strategy.FedAvg(\n",
        "    fraction_fit=0.1,  # Sample 10% of available clients for training\n",
        "    fraction_evaluate=0.05,  # Sample 5% of available clients for evaluation\n",
        "    min_fit_clients=10,  # Never sample less than 10 clients for training\n",
        "    min_evaluate_clients=5,  # Never sample less than 5 clients for evaluation\n",
        "    min_available_clients=int(\n",
        "        NUM_CLIENTS * 0.75\n",
        "    ),  # Wait until at least 75 clients are available\n",
        "    evaluate_metrics_aggregation_fn=weighted_average,  # aggregates federated metrics\n",
        "    evaluate_fn=get_evaluate_fn(testset),  # global evaluation function\n",
        ")\n",
        "\n",
        "# With a dictionary, you tell Flower's VirtualClientEngine that each\n",
        "# client needs exclusive access to these many resources in order to run\n",
        "client_resources = {\"num_cpus\": 1, \"num_gpus\": 0.0}\n",
        "\n",
        "# Start simulation\n",
        "history = fl.simulation.start_simulation(\n",
        "    client_fn=get_client_fn(partitions),\n",
        "    num_clients=NUM_CLIENTS,\n",
        "    config=fl.server.ServerConfig(num_rounds=10),\n",
        "    strategy=strategy,\n",
        "    client_resources=client_resources,\n",
        "    actor_kwargs={\n",
        "        \"on_actor_init_fn\": enable_tf_gpu_growth  # Enable GPU growth upon actor init.\n",
        "    },\n",
        ")"
      ]
    },
    {
      "cell_type": "markdown",
      "metadata": {
        "id": "DrJAoTcyCpjO"
      },
      "source": [
        "You can then use the resturned History object to either save the results to disk or do some visualisation (or both of course, or neither if you like chaos). Below you can see how you can plot the centralised accuracy obtainined at the end of each round (including at the very beginning of the experiment) for the global model. This is want the function evaluate_fn() that we passed to the strategy reports."
      ]
    },
    {
      "cell_type": "code",
      "execution_count": 24,
      "metadata": {
        "id": "Wvo2rWMbCpjO",
        "outputId": "2a465a50-e879-4567-85f7-442ed38056e3",
        "colab": {
          "base_uri": "https://localhost:8080/",
          "height": 527
        }
      },
      "outputs": [
        {
          "output_type": "stream",
          "name": "stdout",
          "text": [
            "history.metrics_centralized = {'accuracy': [(0, 0.08110000193119049), (1, 0.9018999934196472), (2, 0.9228000044822693), (3, 0.932699978351593), (4, 0.9399999976158142), (5, 0.9449999928474426), (6, 0.951200008392334), (7, 0.9550999999046326), (8, 0.957099974155426), (9, 0.9599999785423279), (10, 0.9617999792098999)]}\n"
          ]
        },
        {
          "output_type": "execute_result",
          "data": {
            "text/plain": [
              "Text(0.5, 1.0, 'MNIST - IID - 100 clients with 10 clients per round')"
            ]
          },
          "metadata": {},
          "execution_count": 24
        },
        {
          "output_type": "display_data",
          "data": {
            "text/plain": [
              "<Figure size 640x480 with 1 Axes>"
            ],
            "image/png": "[encoded data removed]"
          },
          "metadata": {}
        }
      ],
      "source": [
        "import matplotlib.pyplot as plt\n",
        "\n",
        "print(f\"{history.metrics_centralized = }\")\n",
        "\n",
        "global_accuracy_centralised = history.metrics_centralized[\"accuracy\"]\n",
        "round = [data[0] for data in global_accuracy_centralised]\n",
        "acc = [100.0 * data[1] for data in global_accuracy_centralised]\n",
        "plt.plot(round, acc)\n",
        "plt.grid()\n",
        "plt.ylabel(\"Accuracy (%)\")\n",
        "plt.xlabel(\"Round\")\n",
        "plt.title(\"MNIST - IID - 100 clients with 10 clients per round\")"
      ]
    },
    {
      "cell_type": "markdown",
      "metadata": {
        "id": "9lHhr3I5CpjO"
      },
      "source": [
        "Congratulations! With that, you built a Flower client, customized it's instantiation through the `client_fn`, customized the server-side execution through a `FedAvg` strategy configured for this workload, and started a simulation with 100 clients (each holding their own individual partition of the MNIST dataset).\n",
        "\n",
        "Next, you can continue to explore more advanced Flower topics:\n",
        "\n",
        "- Deploy server and clients on different machines using `start_server` and `start_client`\n",
        "- Customize the server-side execution through custom strategies\n",
        "- Customize the client-side execution through `config` dictionaries"
      ]
    }
  ],
  "metadata": {
    "colab": {
      "provenance": [],
      "include_colab_link": true
    },
    "kernelspec": {
      "display_name": "Python 3.8.12 ('.venv': poetry)",
      "language": "python",
      "name": "python3"
    }
  },
  "nbformat": 4,
  "nbformat_minor": 0
}