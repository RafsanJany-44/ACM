{
  "cells": [
    {
      "cell_type": "markdown",
      "metadata": {
        "id": "view-in-github",
        "colab_type": "text"
      },
      "source": [
        "<a href=\"https://colab.research.google.com/github/RafsanJany-44/ARC/blob/master/LIME.ipynb\" target=\"_parent\"><img src=\"https://colab.research.google.com/assets/colab-badge.svg\" alt=\"Open In Colab\"/></a>"
      ]
    },
    {
      "cell_type": "code",
      "execution_count": 1,
      "metadata": {
        "id": "-61nFTgd179v"
      },
      "outputs": [],
      "source": [
        "import pandas as pd\n",
        "import numpy as np\n",
        "\n",
        "data = 'https://raw.githubusercontent.com/RafsanJany-44/Thesis_Project/main/All_DATA/without_sn_and_Epoch/EEG_HMC.csv'\n",
        "dataset = pd.read_csv(data)\n",
        "\n",
        "from sklearn.preprocessing import LabelEncoder\n",
        "encoder=LabelEncoder()\n",
        "dataset[\"Sleep Stage\"]=encoder.fit_transform(dataset[\"Sleep Stage\"])\n",
        "\n",
        "X = dataset.iloc[:, 1:]\n",
        "y = dataset.iloc[:, 0]\n",
        "\n",
        "dic_target = {\n",
        "    0:\"N1\"\n",
        "    1:\"N2\"\n",
        "    2:\"N3\"\n",
        "    3:\"R\"\n",
        "    4:\"W\"\n",
        "}"
      ]
    },
    {
      "cell_type": "code",
      "execution_count": 2,
      "metadata": {
        "id": "xuVvsVaV2eV6"
      },
      "outputs": [],
      "source": [
        "from sklearn.model_selection import train_test_split\n",
        "X_train, X_test, y_train, y_test = train_test_split(X, y, test_size=0.33, random_state=0)"
      ]
    },
    {
      "cell_type": "code",
      "execution_count": 3,
      "metadata": {
        "colab": {
          "base_uri": "https://localhost:8080/"
        },
        "id": "SmkDTJlj2gWF",
        "outputId": "ff467b10-cf47-4bc6-cb64-331ee67d0ef2"
      },
      "outputs": [
        {
          "output_type": "execute_result",
          "data": {
            "text/plain": [
              "((72662, 75), (35789, 75))"
            ]
          },
          "metadata": {},
          "execution_count": 3
        }
      ],
      "source": [
        "X_train.shape, X_test.shape"
      ]
    },
    {
      "cell_type": "markdown",
      "metadata": {
        "id": "QC6yGqQUd6jS"
      },
      "source": [
        "StandardScaler() returns a numpy array. For better understandings we convert that in to pandas dataframe. StandardScaler() returns a numpy array. For better understanding we convert that in to pandas dataframe. And in separation for X and y, we remove the <b><i>[.values]</i></b>."
      ]
    },
    {
      "cell_type": "code",
      "execution_count": 4,
      "metadata": {
        "id": "CvTA73nzwLMQ"
      },
      "outputs": [],
      "source": [
        "X_train2=X_train\n",
        "X_test2=X_test\n",
        "\n",
        "from sklearn.preprocessing import StandardScaler\n",
        "sc = StandardScaler()\n",
        "X_train =sc.fit_transform(X_train)\n",
        "\n",
        "X_test =sc.fit_transform(X_test)\n",
        "\n",
        "\n",
        "X_train = pd.DataFrame(X_train, index=X_train2.index, columns=X_train2.columns)\n",
        "X_test = pd.DataFrame(X_test, index=X_test2.index, columns=X_test2.columns)\n"
      ]
    },
    {
      "cell_type": "markdown",
      "metadata": {
        "id": "qmicADBt6gIj"
      },
      "source": [
        "**Tuning**"
      ]
    },
    {
      "cell_type": "markdown",
      "metadata": {
        "id": "262NCO1ukp5r"
      },
      "source": [
        "KNN"
      ]
    },
    {
      "cell_type": "code",
      "execution_count": 5,
      "metadata": {
        "id": "aYQobtGs2iMk"
      },
      "outputs": [],
      "source": [
        "from sklearn.neighbors import KNeighborsClassifier\n",
        "KNN_class = KNeighborsClassifier(n_neighbors=7)\n",
        "KNN_class.fit(X_train, y_train)\n",
        "y_pred_KNN=KNN_class.predict(X_test)"
      ]
    },
    {
      "cell_type": "markdown",
      "metadata": {
        "id": "XTuvrei4mGE5"
      },
      "source": [
        "Radomforest"
      ]
    },
    {
      "cell_type": "code",
      "execution_count": 6,
      "metadata": {
        "id": "lJ_hZf9VlOiY"
      },
      "outputs": [],
      "source": [
        "from sklearn.ensemble import RandomForestClassifier\n",
        "rf = RandomForestClassifier(n_estimators=125, random_state=0)\n",
        "rf.fit(X_train, y_train)\n",
        "y_pred_RF=rf.predict(X_test)"
      ]
    },
    {
      "cell_type": "markdown",
      "metadata": {
        "id": "ghmoo3jBmI9I"
      },
      "source": [
        "xgboost"
      ]
    },
    {
      "cell_type": "code",
      "execution_count": 7,
      "metadata": {
        "id": "ateLyo-hlZ6B"
      },
      "outputs": [],
      "source": [
        "import xgboost as xgb\n",
        "xgb_classifier = xgb.XGBClassifier(max_depth=14)\n",
        "xgb_classifier.fit(X_train.values, y_train.values)  \n",
        "y_pred_XG = xgb_classifier.predict(X_test.values)"
      ]
    },
    {
      "cell_type": "markdown",
      "metadata": {
        "id": "lVzqRjIOmLT9"
      },
      "source": [
        "Accurecy"
      ]
    },
    {
      "cell_type": "code",
      "execution_count": 8,
      "metadata": {
        "colab": {
          "base_uri": "https://localhost:8080/"
        },
        "id": "f4NzJ4z12lI3",
        "outputId": "5660c50b-3ae9-4f26-db92-1c4b3b746617"
      },
      "outputs": [
        {
          "output_type": "stream",
          "name": "stdout",
          "text": [
            "Accurecy KNN:  0.7498393361088602\n",
            "Accurecy RF:  0.7600380005029478\n",
            "Accurecy XG:  0.780602978568834\n"
          ]
        }
      ],
      "source": [
        "from sklearn.metrics import accuracy_score\n",
        "print(\"Accurecy KNN: \",accuracy_score(y_test, y_pred_KNN))\n",
        "print(\"Accurecy RF: \",accuracy_score(y_test, y_pred_RF))\n",
        "print(\"Accurecy XG: \",accuracy_score(y_test, y_pred_XG))"
      ]
    },
    {
      "cell_type": "code",
      "source": [],
      "metadata": {
        "id": "PdQUeLfDDdiO"
      },
      "execution_count": null,
      "outputs": []
    },
    {
      "cell_type": "code",
      "source": [],
      "metadata": {
        "id": "57aiirM-DecX"
      },
      "execution_count": null,
      "outputs": []
    },
    {
      "cell_type": "markdown",
      "metadata": {
        "id": "t0oUTQ7PioB4"
      },
      "source": [
        "#LIME\n",
        "\n",
        "For further usage and Rearch perpose"
      ]
    },
    {
      "cell_type": "code",
      "execution_count": 9,
      "metadata": {
        "id": "ZEXlr_FMikI0",
        "outputId": "4ab72585-2a6c-4a23-91cf-27c44955b272",
        "colab": {
          "base_uri": "https://localhost:8080/"
        }
      },
      "outputs": [
        {
          "output_type": "stream",
          "name": "stdout",
          "text": [
            "Looking in indexes: https://pypi.org/simple, https://us-python.pkg.dev/colab-wheels/public/simple/\n",
            "Collecting lime\n",
            "  Downloading lime-0.2.0.1.tar.gz (275 kB)\n",
            "\u001b[2K     \u001b[90m━━━━━━━━━━━━━━━━━━━━━━━━━━━━━━━━━━━━━━\u001b[0m \u001b[32m275.7/275.7 kB\u001b[0m \u001b[31m17.4 MB/s\u001b[0m eta \u001b[36m0:00:00\u001b[0m\n",
            "\u001b[?25h  Preparing metadata (setup.py) ... \u001b[?25l\u001b[?25hdone\n",
            "Requirement already satisfied: matplotlib in /usr/local/lib/python3.10/dist-packages (from lime) (3.7.1)\n",
            "Requirement already satisfied: numpy in /usr/local/lib/python3.10/dist-packages (from lime) (1.22.4)\n",
            "Requirement already satisfied: scipy in /usr/local/lib/python3.10/dist-packages (from lime) (1.10.1)\n",
            "Requirement already satisfied: tqdm in /usr/local/lib/python3.10/dist-packages (from lime) (4.65.0)\n",
            "Requirement already satisfied: scikit-learn>=0.18 in /usr/local/lib/python3.10/dist-packages (from lime) (1.2.2)\n",
            "Requirement already satisfied: scikit-image>=0.12 in /usr/local/lib/python3.10/dist-packages (from lime) (0.19.3)\n",
            "Requirement already satisfied: networkx>=2.2 in /usr/local/lib/python3.10/dist-packages (from scikit-image>=0.12->lime) (3.1)\n",
            "Requirement already satisfied: pillow!=7.1.0,!=7.1.1,!=8.3.0,>=6.1.0 in /usr/local/lib/python3.10/dist-packages (from scikit-image>=0.12->lime) (8.4.0)\n",
            "Requirement already satisfied: imageio>=2.4.1 in /usr/local/lib/python3.10/dist-packages (from scikit-image>=0.12->lime) (2.25.1)\n",
            "Requirement already satisfied: tifffile>=2019.7.26 in /usr/local/lib/python3.10/dist-packages (from scikit-image>=0.12->lime) (2023.4.12)\n",
            "Requirement already satisfied: PyWavelets>=1.1.1 in /usr/local/lib/python3.10/dist-packages (from scikit-image>=0.12->lime) (1.4.1)\n",
            "Requirement already satisfied: packaging>=20.0 in /usr/local/lib/python3.10/dist-packages (from scikit-image>=0.12->lime) (23.1)\n",
            "Requirement already satisfied: joblib>=1.1.1 in /usr/local/lib/python3.10/dist-packages (from scikit-learn>=0.18->lime) (1.2.0)\n",
            "Requirement already satisfied: threadpoolctl>=2.0.0 in /usr/local/lib/python3.10/dist-packages (from scikit-learn>=0.18->lime) (3.1.0)\n",
            "Requirement already satisfied: contourpy>=1.0.1 in /usr/local/lib/python3.10/dist-packages (from matplotlib->lime) (1.0.7)\n",
            "Requirement already satisfied: cycler>=0.10 in /usr/local/lib/python3.10/dist-packages (from matplotlib->lime) (0.11.0)\n",
            "Requirement already satisfied: fonttools>=4.22.0 in /usr/local/lib/python3.10/dist-packages (from matplotlib->lime) (4.39.3)\n",
            "Requirement already satisfied: kiwisolver>=1.0.1 in /usr/local/lib/python3.10/dist-packages (from matplotlib->lime) (1.4.4)\n",
            "Requirement already satisfied: pyparsing>=2.3.1 in /usr/local/lib/python3.10/dist-packages (from matplotlib->lime) (3.0.9)\n",
            "Requirement already satisfied: python-dateutil>=2.7 in /usr/local/lib/python3.10/dist-packages (from matplotlib->lime) (2.8.2)\n",
            "Requirement already satisfied: six>=1.5 in /usr/local/lib/python3.10/dist-packages (from python-dateutil>=2.7->matplotlib->lime) (1.16.0)\n",
            "Building wheels for collected packages: lime\n",
            "  Building wheel for lime (setup.py) ... \u001b[?25l\u001b[?25hdone\n",
            "  Created wheel for lime: filename=lime-0.2.0.1-py3-none-any.whl size=283839 sha256=61f88959444ffb54e8017afa3b1618cfcda182c2c9b538808949a8a243546fed\n",
            "  Stored in directory: /root/.cache/pip/wheels/fd/a2/af/9ac0a1a85a27f314a06b39e1f492bee1547d52549a4606ed89\n",
            "Successfully built lime\n",
            "Installing collected packages: lime\n",
            "Successfully installed lime-0.2.0.1\n"
          ]
        }
      ],
      "source": [
        "!pip install lime"
      ]
    },
    {
      "cell_type": "code",
      "execution_count": 10,
      "metadata": {
        "id": "UmYY1k2jiy5D",
        "outputId": "9173c607-9d2c-41e4-80bd-fca08d1ef467",
        "colab": {
          "base_uri": "https://localhost:8080/"
        }
      },
      "outputs": [
        {
          "output_type": "execute_result",
          "data": {
            "text/plain": [
              "MeanP_Alpha_F4           -0.030086\n",
              "MedianF_Alpha_F4          0.711134\n",
              "MeanF_Alpha_F4           -0.587686\n",
              "Spectral Edge_Alpha_F4   -0.573012\n",
              "PeakF_Alpha_F4            0.355503\n",
              "                            ...   \n",
              "MeanP_Gamma_O2           -0.094238\n",
              "MedianF_Gamma_O2         -0.771961\n",
              "MeanF_Gamma_O2           -0.869609\n",
              "Spectral Edge_Gamma_O2   -0.731878\n",
              "PeakF_Gamma_O2           -1.281617\n",
              "Name: 90165, Length: 75, dtype: float64"
            ]
          },
          "metadata": {},
          "execution_count": 10
        }
      ],
      "source": [
        "X_test.iloc[8]"
      ]
    },
    {
      "cell_type": "code",
      "execution_count": 11,
      "metadata": {
        "id": "8R6e4nvfi2jp"
      },
      "outputs": [],
      "source": [
        "ex_specie = np.array(X_test.iloc[10]).reshape(1,-1)"
      ]
    },
    {
      "cell_type": "code",
      "execution_count": 12,
      "metadata": {
        "id": "gzYCuKEitc_Q",
        "outputId": "ab393262-27ca-4ee7-9aa7-05280987dd5f",
        "colab": {
          "base_uri": "https://localhost:8080/"
        }
      },
      "outputs": [
        {
          "output_type": "stream",
          "name": "stdout",
          "text": [
            "       MeanP_Alpha_F4  MedianF_Alpha_F4  MeanF_Alpha_F4  \\\n",
            "16375       -0.073659         -0.608683       -0.463003   \n",
            "\n",
            "       Spectral Edge_Alpha_F4  PeakF_Alpha_F4  MeanP_Beta_F4  MedianF_Beta_F4  \\\n",
            "16375                -0.48529        -0.72511      -0.125522        -0.353185   \n",
            "\n",
            "       MeanF_Beta_F4  Spectral Edge_Beta_F4  PeakF_Beta_F4  ...  \\\n",
            "16375      -0.347385              -0.427643      -0.547305  ...   \n",
            "\n",
            "       MeanP_Delta_O2  MedianF_Delta_O2  MeanF_Delta_O2  \\\n",
            "16375       -0.139184         -0.148649       -0.345546   \n",
            "\n",
            "       Spectral Edge_Delta_O2  PeakF_Delta_O2  MeanP_Gamma_O2  \\\n",
            "16375               -0.214028       -0.171524       -0.092981   \n",
            "\n",
            "       MedianF_Gamma_O2  MeanF_Gamma_O2  Spectral Edge_Gamma_O2  \\\n",
            "16375          0.907416        0.475554               -0.042083   \n",
            "\n",
            "       PeakF_Gamma_O2  \n",
            "16375        0.462445  \n",
            "\n",
            "[1 rows x 75 columns]\n"
          ]
        }
      ],
      "source": [
        "print(X_test.iloc[[10]])"
      ]
    },
    {
      "cell_type": "code",
      "execution_count": 13,
      "metadata": {
        "id": "Jlxj42uXi4g0",
        "outputId": "118b00db-d158-4226-e75e-e4278b77cf3a",
        "colab": {
          "base_uri": "https://localhost:8080/"
        }
      },
      "outputs": [
        {
          "output_type": "stream",
          "name": "stdout",
          "text": [
            "Prediction for KNN:  2\n",
            "Prediction for RF:  2\n",
            "Prediction for XG:  4\n",
            "Prediction Accual:  2\n"
          ]
        },
        {
          "output_type": "stream",
          "name": "stderr",
          "text": [
            "/usr/local/lib/python3.10/dist-packages/sklearn/base.py:439: UserWarning: X does not have valid feature names, but KNeighborsClassifier was fitted with feature names\n",
            "  warnings.warn(\n",
            "/usr/local/lib/python3.10/dist-packages/sklearn/base.py:439: UserWarning: X does not have valid feature names, but RandomForestClassifier was fitted with feature names\n",
            "  warnings.warn(\n"
          ]
        }
      ],
      "source": [
        "print(\"Prediction for KNN: \",KNN_class.predict(ex_specie)[0])\n",
        "print(\"Prediction for RF: \",rf.predict(ex_specie)[0])\n",
        "print(\"Prediction for XG: \",xgb_classifier.predict(np.array(X_train.iloc[[10]]))[0])\n",
        "print(\"Prediction Accual: \",list(y_test.iloc[[10]])[0])"
      ]
    },
    {
      "cell_type": "code",
      "source": [
        "print(\"Prediction Accual: \",list(y_test.iloc[[10]])[0])"
      ],
      "metadata": {
        "id": "BTG6rNqdI_RX",
        "outputId": "a2ff83be-afa7-4159-b7cb-672a55f47450",
        "colab": {
          "base_uri": "https://localhost:8080/"
        }
      },
      "execution_count": 14,
      "outputs": [
        {
          "output_type": "stream",
          "name": "stdout",
          "text": [
            "Prediction Accual:  2\n"
          ]
        }
      ]
    },
    {
      "cell_type": "code",
      "execution_count": 15,
      "metadata": {
        "id": "svp6IUwsyJYT"
      },
      "outputs": [],
      "source": [
        "import lime\n",
        "from lime import lime_tabular\n",
        "explainer = lime_tabular.LimeTabularExplainer(\n",
        "    training_data=np.array(X_train),\n",
        "    feature_names=list(dataset.iloc[:0,1:]),\n",
        "    class_names=['N1','N2','N3','R','W'],\n",
        "    mode='classification'\n",
        ")"
      ]
    },
    {
      "cell_type": "code",
      "execution_count": 16,
      "metadata": {
        "id": "1q-DkWriyKW2",
        "outputId": "bf212831-0880-4094-d59f-ad05792ae3aa",
        "colab": {
          "base_uri": "https://localhost:8080/"
        }
      },
      "outputs": [
        {
          "output_type": "stream",
          "name": "stderr",
          "text": [
            "/usr/local/lib/python3.10/dist-packages/sklearn/base.py:439: UserWarning: X does not have valid feature names, but KNeighborsClassifier was fitted with feature names\n",
            "  warnings.warn(\n"
          ]
        }
      ],
      "source": [
        "exp_KNN = explainer.explain_instance(X_test.iloc[10],\n",
        "                                 KNN_class.predict_proba,\n",
        "                                 num_features=6,\n",
        "                                 top_labels=5)\n",
        "\n",
        "#exp_KNN.show_in_notebook(show_table=True, show_all=False)"
      ]
    },
    {
      "cell_type": "code",
      "source": [
        "exp_KNN.save_to_file(\"KNN.html\")"
      ],
      "metadata": {
        "id": "6YJO74uq3Ho3"
      },
      "execution_count": 17,
      "outputs": []
    },
    {
      "cell_type": "code",
      "execution_count": 18,
      "metadata": {
        "id": "yr1FWbYoyYLV",
        "outputId": "8398ba00-5aac-4072-8ca3-193405b5054e",
        "colab": {
          "base_uri": "https://localhost:8080/"
        }
      },
      "outputs": [
        {
          "output_type": "stream",
          "name": "stderr",
          "text": [
            "/usr/local/lib/python3.10/dist-packages/sklearn/base.py:439: UserWarning: X does not have valid feature names, but RandomForestClassifier was fitted with feature names\n",
            "  warnings.warn(\n"
          ]
        }
      ],
      "source": [
        "exp_rf = explainer.explain_instance(X_test.iloc[10],\n",
        "                                 rf.predict_proba,\n",
        "                                 num_features=6,\n",
        "                                 top_labels=5)\n",
        "\n",
        "#exp_rf.show_in_notebook(show_table=True, show_all=False)"
      ]
    },
    {
      "cell_type": "code",
      "source": [
        "exp_rf.save_to_file(\"RandomForest.html\")"
      ],
      "metadata": {
        "id": "16HIswtV3XA3"
      },
      "execution_count": 19,
      "outputs": []
    },
    {
      "cell_type": "code",
      "source": [
        "explainer = lime.lime_tabular.LimeTabularExplainer(X_train.values,\n",
        "                                                   feature_names=list(dataset.iloc[:0,1:]),\n",
        "                                                   class_names=['N1','N2','N3','R','W'])"
      ],
      "metadata": {
        "id": "xHD0sPt24e2B"
      },
      "execution_count": 20,
      "outputs": []
    },
    {
      "cell_type": "code",
      "source": [
        "exp_xg = explainer.explain_instance(X_train.iloc[10, :].values,\n",
        "                                 xgb_classifier.predict_proba,\n",
        "                                 num_features=6,\n",
        "                                 top_labels=5)\n",
        "\n",
        "#exp_xg.show_in_notebook(show_table=True, show_all=False)"
      ],
      "metadata": {
        "id": "hrsiTHfT4omg"
      },
      "execution_count": 21,
      "outputs": []
    },
    {
      "cell_type": "code",
      "source": [
        "exp_xg.save_to_file(\"XG_boost.html\")"
      ],
      "metadata": {
        "id": "o6AIRhyL5VOU"
      },
      "execution_count": 22,
      "outputs": []
    },
    {
      "cell_type": "markdown",
      "source": [
        "\n",
        "\n",
        "---\n",
        "\n"
      ],
      "metadata": {
        "id": "Sz2REKDLEKiF"
      }
    },
    {
      "cell_type": "markdown",
      "source": [
        "\n",
        "\n",
        "---\n",
        "\n",
        "\n",
        "\n",
        "---\n",
        "\n"
      ],
      "metadata": {
        "id": "Apmod8ozEN01"
      }
    },
    {
      "cell_type": "markdown",
      "source": [
        "#Reaserch Execution\n",
        "For only this reasearch"
      ],
      "metadata": {
        "id": "jeomW6MuEFGk"
      }
    },
    {
      "cell_type": "markdown",
      "source": [
        "Randomly chossing Rows"
      ],
      "metadata": {
        "id": "T-uxKOjzqW41"
      }
    },
    {
      "cell_type": "code",
      "source": [
        "dic_target = {\n",
        "    0:\"N1\"\n",
        "    1:\"N2\"\n",
        "    2:\"N3\"\n",
        "    3:\"R\"\n",
        "    4:\"W\"\n",
        "}"
      ],
      "metadata": {
        "id": "eEAvVWJs9kSY"
      },
      "execution_count": null,
      "outputs": []
    },
    {
      "cell_type": "code",
      "source": [
        "from sklearn.utils.extmath import row_norms\n",
        "from tqdm.notebook import tqdm\n",
        "import random\n",
        "all=[]\n",
        "none=[]\n",
        "onlyRF=[]\n",
        "onlyXG=[]\n",
        "onlyKNN=[]\n",
        "\n",
        "RFKNN=[]\n",
        "RFXG=[]\n",
        "KNNXG=[]\n",
        "\n",
        "\n",
        "for i in tqdm(range(0,1000)):\n",
        "  ex_specie = np.array(X_test.iloc[i]).reshape(1,-1)\n",
        "  knn=KNN_class.predict(ex_specie)[0]\n",
        "  ranf=rf.predict(ex_specie)[0]\n",
        "  xg=xgb_classifier.predict(np.array(X_train.iloc[[i]]))[0]\n",
        "  y=y_test.iloc[i]\n",
        "  \n",
        "  if y==knn and y==ranf and y==xg:\n",
        "    all.append(i)\n",
        "  \n",
        "  elif y==knn and y!=ranf and y!=xg:\n",
        "    onlyKNN.append(i)\n",
        "  \n",
        "  elif y!=knn and y==ranf and y!=xg:\n",
        "    onlyRF.append(i)\n",
        "  \n",
        "  elif y!=knn and y!= ranf and y==xg:\n",
        "    onlyXG.append(i)\n",
        "  \n",
        "  elif y==knn and y==ranf and y!=xg:\n",
        "    RFKNN.append(i)\n",
        "  \n",
        "  elif y!=knn and y==ranf and y==xg:\n",
        "    RFXG.append(i)\n",
        "  \n",
        "  elif y==knn and y!=ranf and y==xg:\n",
        "    KNNXG.append(i)\n",
        "  \n",
        "  else:\n",
        "    none.append(i)\n",
        "\n",
        "temp_rows=[all,none,onlyRF,onlyXG,onlyKNN,RFKNN,RFXG,KNNXG]\n",
        "sec=[\"ALL\",\"NONE\",\"ONLY_RF\",\"ONLY_XG\",\"ONLY_KNN\",\"RF_KNN\",\"RF_XG\",\"KNN_XG\"]\n",
        "rows=[]\n",
        "\n",
        "for i in temp_rows:\n",
        "  rows.append(random.choice(i))"
      ],
      "metadata": {
        "id": "u2rbMi1jlJoC"
      },
      "execution_count": null,
      "outputs": []
    },
    {
      "cell_type": "code",
      "source": [
        "!pip install lime"
      ],
      "metadata": {
        "id": "bpu3UUziNgZn"
      },
      "execution_count": null,
      "outputs": []
    },
    {
      "cell_type": "code",
      "source": [
        "from tqdm import tqdm\n",
        "import lime\n",
        "from lime import lime_tabular\n",
        "import os\n",
        "feat_num=5\n",
        "\n",
        "\n",
        "def lime(rows):\n",
        "\n",
        "  for row in tqdm(rows):\n",
        "    ex_specie = np.array(X_test.iloc[row]).reshape(1,-1)\n",
        "\n",
        "    cls_name=['N1','N2','N3','R','W']\n",
        "\n",
        "\n",
        "    explainer_1 = lime_tabular.LimeTabularExplainer(\n",
        "        training_data=np.array(X_train),\n",
        "        feature_names=list(dataset.iloc[:0,1:]),\n",
        "        class_names=cls_name,\n",
        "        mode='classification'\n",
        "    )\n",
        "\n",
        "\n",
        "    explainer_2 = lime.lime_tabular.LimeTabularExplainer(\n",
        "        training_data=X_train.values,\n",
        "        feature_names=list(dataset.iloc[:0,1:]),\n",
        "        class_names=cls_name,\n",
        "    )\n",
        "\n",
        "\n",
        "    exp_KNN = explainer_1.explain_instance(X_test.iloc[row],\n",
        "                                    KNN_class.predict_proba,\n",
        "                                    num_features=feat_num,\n",
        "                                    top_labels=len(cls_name,))\n",
        "\n",
        "\n",
        "\n",
        "    exp_rf = explainer_1.explain_instance(X_test.iloc[row],\n",
        "                                    rf.predict_proba,\n",
        "                                    num_features=feat_num,\n",
        "                                    top_labels=len(cls_name,))\n",
        "\n",
        "\n",
        "\n",
        "    exp_xg = explainer_2.explain_instance(X_train.iloc[row, :].values,\n",
        "                                    xgb_classifier.predict_proba,\n",
        "                                    num_features=feat_num,\n",
        "                                    top_labels=len(cls_name,))\n",
        "\n",
        "    os.mkdir()\n",
        "    exp_KNN.save_to_file('/content/ResultHTML/'+sec[rows.index(row)]+\"___\"+str(row)+\"___KNN_.html\")\n",
        "    exp_rf.save_to_file('/content/ResultHTML/'+sec[rows.index(row)]+\"___\"+str(row)+\"___RandomForest_.html\")\n",
        "    exp_xg.save_to_file('/content/ResultHTML/'+sec[rows.index(row)]+\"___\"+str(row)+\"___XG_boost_.html\")\n",
        "\n"
      ],
      "metadata": {
        "id": "XP2mV1CvE9rz"
      },
      "execution_count": 27,
      "outputs": []
    },
    {
      "cell_type": "code",
      "source": [
        "print(rows)\n",
        "print(sec)"
      ],
      "metadata": {
        "colab": {
          "base_uri": "https://localhost:8080/"
        },
        "id": "2XxazJt7iMqK",
        "outputId": "a419cd51-16da-4167-cc27-cd40a3a3ef97"
      },
      "execution_count": null,
      "outputs": [
        {
          "output_type": "stream",
          "name": "stdout",
          "text": [
            "[73, 58, 84, 83, 43, 3, 67, 48]\n",
            "['ALL', 'NONE', 'ONLY_RF', 'ONLY_XG', 'ONLY_KNN', 'RF_KNN', 'RF_XG', 'KNN_XG']\n"
          ]
        }
      ]
    },
    {
      "cell_type": "code",
      "source": [
        "print(sec[rows.index(49)])"
      ],
      "metadata": {
        "colab": {
          "base_uri": "https://localhost:8080/"
        },
        "id": "CdO8Pn3siOgP",
        "outputId": "01e41840-cb52-4c7f-a25d-370a91cc5acd"
      },
      "execution_count": null,
      "outputs": [
        {
          "output_type": "stream",
          "name": "stdout",
          "text": [
            "RF_XG\n"
          ]
        }
      ]
    }
  ],
  "metadata": {
    "colab": {
      "name": "LIME.ipynb",
      "provenance": [],
      "include_colab_link": true
    },
    "kernelspec": {
      "display_name": "Python 3 (ipykernel)",
      "language": "python",
      "name": "python3"
    },
    "language_info": {
      "codemirror_mode": {
        "name": "ipython",
        "version": 3
      },
      "file_extension": ".py",
      "mimetype": "text/x-python",
      "name": "python",
      "nbconvert_exporter": "python",
      "pygments_lexer": "ipython3",
      "version": "3.7.4"
    },
    "vscode": {
      "interpreter": {
        "hash": "40d3a090f54c6569ab1632332b64b2c03c39dcf918b08424e98f38b5ae0af88f"
      }
    }
  },
  "nbformat": 4,
  "nbformat_minor": 0
}