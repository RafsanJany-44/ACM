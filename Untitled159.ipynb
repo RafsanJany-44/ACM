{
  "nbformat": 4,
  "nbformat_minor": 0,
  "metadata": {
    "colab": {
      "provenance": [],
      "mount_file_id": "1tJ9-aPbjy-8zRuFDNreEmsN0nXReo9BH",
      "authorship_tag": "ABX9TyNAXM8/VycUKIDhNdbZFVi3",
      "include_colab_link": true
    },
    "kernelspec": {
      "name": "python3",
      "display_name": "Python 3"
    },
    "language_info": {
      "name": "python"
    }
  },
  "cells": [
    {
      "cell_type": "markdown",
      "metadata": {
        "id": "view-in-github",
        "colab_type": "text"
      },
      "source": [
        "<a href=\"https://colab.research.google.com/github/RafsanJany-44/ARC/blob/master/Untitled159.ipynb\" target=\"_parent\"><img src=\"https://colab.research.google.com/assets/colab-badge.svg\" alt=\"Open In Colab\"/></a>"
      ]
    },
    {
      "cell_type": "code",
      "execution_count": 1,
      "metadata": {
        "colab": {
          "base_uri": "https://localhost:8080/"
        },
        "id": "D79KLAOisOfD",
        "outputId": "698e1640-fbda-4e4f-aadd-c52baaaae036"
      },
      "outputs": [
        {
          "output_type": "stream",
          "name": "stdout",
          "text": [
            "Drive already mounted at /content/drive; to attempt to forcibly remount, call drive.mount(\"/content/drive\", force_remount=True).\n"
          ]
        }
      ],
      "source": [
        "from google.colab import drive\n",
        "drive.mount('/content/drive')"
      ]
    },
    {
      "cell_type": "code",
      "source": [
        "import pandas as pd\n",
        "import numpy as np\n",
        "import glob"
      ],
      "metadata": {
        "id": "9Bl-rYi6tfRw"
      },
      "execution_count": 3,
      "outputs": []
    },
    {
      "cell_type": "code",
      "source": [
        "path = \"/content/drive/MyDrive/Fahmida_Nourin/CSE_299-main/CSE_299-main\""
      ],
      "metadata": {
        "id": "dYqWDQSitsW9"
      },
      "execution_count": 4,
      "outputs": []
    },
    {
      "cell_type": "code",
      "source": [
        "glob.glob(path+\"/*\")"
      ],
      "metadata": {
        "colab": {
          "base_uri": "https://localhost:8080/"
        },
        "id": "_SBkzHmQt_ss",
        "outputId": "f0354dfd-3952-4895-ef41-d47d3361bbcf"
      },
      "execution_count": 5,
      "outputs": [
        {
          "output_type": "execute_result",
          "data": {
            "text/plain": [
              "['/content/drive/MyDrive/Fahmida_Nourin/CSE_299-main/CSE_299-main/Excel_Fahmida_Labeled_10.xlsx',\n",
              " '/content/drive/MyDrive/Fahmida_Nourin/CSE_299-main/CSE_299-main/Excel_Saif_Metho5.xlsx',\n",
              " '/content/drive/MyDrive/Fahmida_Nourin/CSE_299-main/CSE_299-main/Excel_Mehrab_5_Labled.xlsx',\n",
              " '/content/drive/MyDrive/Fahmida_Nourin/CSE_299-main/CSE_299-main/Excel_Mehrab_1_Labled.xlsx',\n",
              " '/content/drive/MyDrive/Fahmida_Nourin/CSE_299-main/CSE_299-main/Excel_Mehrab_2_Labled.xlsx',\n",
              " '/content/drive/MyDrive/Fahmida_Nourin/CSE_299-main/CSE_299-main/Excel_Fahmida_Labeled_3.xlsx',\n",
              " '/content/drive/MyDrive/Fahmida_Nourin/CSE_299-main/CSE_299-main/Excel_Mehrab_7_Labled.xlsx',\n",
              " '/content/drive/MyDrive/Fahmida_Nourin/CSE_299-main/CSE_299-main/Excel_Mehrab_6_Labled.xlsx',\n",
              " '/content/drive/MyDrive/Fahmida_Nourin/CSE_299-main/CSE_299-main/Excel_Fahmida_Labeled_9.xlsx',\n",
              " '/content/drive/MyDrive/Fahmida_Nourin/CSE_299-main/CSE_299-main/Excel_Mehrab_10_Labled.xlsx',\n",
              " '/content/drive/MyDrive/Fahmida_Nourin/CSE_299-main/CSE_299-main/Excel_Mehrab_3_Labled.xlsx',\n",
              " '/content/drive/MyDrive/Fahmida_Nourin/CSE_299-main/CSE_299-main/Excel_Saif_Metho2.xlsx',\n",
              " '/content/drive/MyDrive/Fahmida_Nourin/CSE_299-main/CSE_299-main/Excel_Saif_Metho4.xlsx',\n",
              " '/content/drive/MyDrive/Fahmida_Nourin/CSE_299-main/CSE_299-main/Excel_Mehrab_4_Labled.xlsx',\n",
              " '/content/drive/MyDrive/Fahmida_Nourin/CSE_299-main/CSE_299-main/Excel_Saif_Metho3.xlsx',\n",
              " '/content/drive/MyDrive/Fahmida_Nourin/CSE_299-main/CSE_299-main/Excel_Saif_Metho6.xlsx',\n",
              " '/content/drive/MyDrive/Fahmida_Nourin/CSE_299-main/CSE_299-main/Excel_Fahmida_Labeled_4.xlsx',\n",
              " '/content/drive/MyDrive/Fahmida_Nourin/CSE_299-main/CSE_299-main/Excel_Fahmida_Labeled_1.xlsx',\n",
              " '/content/drive/MyDrive/Fahmida_Nourin/CSE_299-main/CSE_299-main/Excel_Fahmida_Labeled_6.xlsx',\n",
              " '/content/drive/MyDrive/Fahmida_Nourin/CSE_299-main/CSE_299-main/Excel_Fahmida_Labeled_7.xlsx',\n",
              " '/content/drive/MyDrive/Fahmida_Nourin/CSE_299-main/CSE_299-main/Excel_Saif_1.xlsx',\n",
              " '/content/drive/MyDrive/Fahmida_Nourin/CSE_299-main/CSE_299-main/Excel_Saif_Metho1.xlsx',\n",
              " '/content/drive/MyDrive/Fahmida_Nourin/CSE_299-main/CSE_299-main/Excel_Mehrab_9_Labled.xlsx',\n",
              " '/content/drive/MyDrive/Fahmida_Nourin/CSE_299-main/CSE_299-main/Excel_Mehrab_8_Labled.xlsx',\n",
              " '/content/drive/MyDrive/Fahmida_Nourin/CSE_299-main/CSE_299-main/Excel_Fahmida_Labeled_2.xlsx',\n",
              " '/content/drive/MyDrive/Fahmida_Nourin/CSE_299-main/CSE_299-main/Excel_Fahmida_Labeled_5.xlsx',\n",
              " '/content/drive/MyDrive/Fahmida_Nourin/CSE_299-main/CSE_299-main/Excel_Fahmida_Labeled_8.xlsx',\n",
              " '/content/drive/MyDrive/Fahmida_Nourin/CSE_299-main/CSE_299-main/Excel_Saif_2.xlsx']"
            ]
          },
          "metadata": {},
          "execution_count": 5
        }
      ]
    },
    {
      "cell_type": "code",
      "source": [],
      "metadata": {
        "id": "1c-Ea9AtuD9O"
      },
      "execution_count": null,
      "outputs": []
    }
  ]
}