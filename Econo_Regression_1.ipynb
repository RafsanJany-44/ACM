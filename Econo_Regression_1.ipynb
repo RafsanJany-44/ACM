{
  "nbformat": 4,
  "nbformat_minor": 0,
  "metadata": {
    "colab": {
      "provenance": [],
      "mount_file_id": "1jYUcR_WyqXwcapVNACUo-f_5siXDxoUP",
      "authorship_tag": "ABX9TyMjyCwNcVp+Rrk8FJVCfN7g",
      "include_colab_link": true
    },
    "kernelspec": {
      "name": "python3",
      "display_name": "Python 3"
    },
    "language_info": {
      "name": "python"
    }
  },
  "cells": [
    {
      "cell_type": "markdown",
      "metadata": {
        "id": "view-in-github",
        "colab_type": "text"
      },
      "source": [
        "<a href=\"https://colab.research.google.com/github/RafsanJany-44/ARC/blob/master/Econo_Regression_1.ipynb\" target=\"_parent\"><img src=\"https://colab.research.google.com/assets/colab-badge.svg\" alt=\"Open In Colab\"/></a>"
      ]
    },
    {
      "cell_type": "code",
      "source": [
        "from google.colab import drive\n",
        "drive.mount('/content/drive')"
      ],
      "metadata": {
        "id": "Q4YyxDmkV0T3",
        "outputId": "3e1ab9a1-cdb1-4a65-bd4e-fd48aff267f5",
        "colab": {
          "base_uri": "https://localhost:8080/"
        }
      },
      "execution_count": 1,
      "outputs": [
        {
          "output_type": "stream",
          "name": "stdout",
          "text": [
            "Mounted at /content/drive\n"
          ]
        }
      ]
    },
    {
      "cell_type": "code",
      "source": [
        "import sklearn.metrics as sm\n",
        "from sklearn.preprocessing import MinMaxScaler\n",
        "from sklearn.preprocessing import StandardScaler\n",
        "import seaborn as sns\n",
        "\n",
        "def StandardScaleData(data):\n",
        "  scaler = StandardScaler()\n",
        "  scaler.fit(data)\n",
        "  return  scaler.transform(data)\n",
        "\n",
        "\n",
        "def MinMaxScaleData(data):\n",
        "  scaler = MinMaxScaler()\n",
        "  scaler.fit(data)\n",
        "  return scaler.transform(data)\n",
        "\n",
        "\n",
        "\n",
        "\n",
        "\n",
        "\n",
        "\n",
        "def show_res(y_actual, y_pred):\n",
        "  print(\"Mean absolute error =\", round(sm.mean_absolute_error(y_actual, y_pred), 2))\n",
        "  print(\"Mean squared error =\", round(sm.mean_squared_error(y_actual, y_pred), 2))\n",
        "  print(\"Median absolute error =\", round(sm.median_absolute_error(y_actual, y_pred), 2))\n",
        "  print(\"Explain variance score =\", round(sm.explained_variance_score(y_actual, y_pred), 2))\n",
        "  print(\"R2 score =\", round(sm.r2_score(y_actual, y_pred), 2))\n",
        "\n",
        "\n",
        "\n",
        "\n",
        "def actual_vs_pred(y_actual, y_pred):\n",
        "  pred_y_df=pd.DataFrame(\n",
        "    {\n",
        "        \"Actual_Value\":y_actual,\n",
        "        \"Predicted_Value\":y_pred,\n",
        "        \"Difference\":y_actual-y_pred\n",
        "    }\n",
        "    )\n",
        "\n",
        "  sns.set(rc={'figure.figsize':(10,20)})\n",
        "  scatter_poly2 = sns.lmplot(\n",
        "      data = pred_y_df,\n",
        "      x = \"Actual_Value\",\n",
        "      y = \"Predicted_Value\",\n",
        "      order = 2\n",
        "  )\n",
        "\n",
        "def single_pred(model,data):\n",
        "  test_sub = {\n",
        "    'open':[data[0]],\n",
        "    'high':[data[1]],\n",
        "    'low':[data[2]]\n",
        "  }\n",
        "  test_sub_df = pd.DataFrame(test_sub)\n",
        "\n",
        "  ex_specie = np.array(test_sub_df.iloc[0]).reshape(1,-1)\n",
        "\n",
        "  return model.predict(ex_specie)\n",
        "\n"
      ],
      "metadata": {
        "id": "rpkzcoYxpllG"
      },
      "execution_count": 28,
      "outputs": []
    },
    {
      "cell_type": "code",
      "execution_count": 8,
      "metadata": {
        "id": "26Wii0juQEGb"
      },
      "outputs": [],
      "source": [
        "import numpy as np\n",
        "import pandas as pd\n",
        "import os\n",
        "from glob2 import glob"
      ]
    },
    {
      "cell_type": "code",
      "source": [
        "path = \"/content/drive/MyDrive/RDocs/trading-research-main/NSE-Data/Equity/Intraday-1m-ohlcv/ADANIENT\""
      ],
      "metadata": {
        "id": "SMZGMEQ_AtZt"
      },
      "execution_count": 5,
      "outputs": []
    },
    {
      "cell_type": "code",
      "source": [
        "file_list = glob(path+\"/*\")"
      ],
      "metadata": {
        "id": "s5FL_bTlA46N"
      },
      "execution_count": 12,
      "outputs": []
    },
    {
      "cell_type": "code",
      "source": [
        "#dataset = pd.read_json(\"/content/drive/MyDrive/RDocs/trading-research-main/NSE-Data/Equity/Historical-ohlcv/ADANIENT/ADANIENT-2000-01-01-2023-05-31.json\",typ='series')\n",
        "dataset = pd.read_json(file_list[0],typ='series')"
      ],
      "metadata": {
        "id": "2LCywbSARb5U"
      },
      "execution_count": 15,
      "outputs": []
    },
    {
      "cell_type": "code",
      "source": [
        "dataset.head()"
      ],
      "metadata": {
        "colab": {
          "base_uri": "https://localhost:8080/"
        },
        "id": "4t0Lb-mfRe59",
        "outputId": "3d8265c5-d5b3-49bc-a2d6-5a33ce34ec2d"
      },
      "execution_count": 16,
      "outputs": [
        {
          "output_type": "execute_result",
          "data": {
            "text/plain": [
              "status                                               success\n",
              "remarks                                                     \n",
              "data       {'open': [2499.9, 2515.0, 2530.3, 2518.1, 2525...\n",
              "dtype: object"
            ]
          },
          "metadata": {},
          "execution_count": 16
        }
      ]
    },
    {
      "cell_type": "code",
      "source": [
        "df = pd.DataFrame(dataset['data'])"
      ],
      "metadata": {
        "id": "sd26RLmXRjXh"
      },
      "execution_count": 17,
      "outputs": []
    },
    {
      "cell_type": "code",
      "source": [
        "df.shape"
      ],
      "metadata": {
        "colab": {
          "base_uri": "https://localhost:8080/"
        },
        "id": "azK6Bn4MRvaL",
        "outputId": "03d27e32-ef77-4541-92e6-efb09a313edb"
      },
      "execution_count": 18,
      "outputs": [
        {
          "output_type": "execute_result",
          "data": {
            "text/plain": [
              "(375, 6)"
            ]
          },
          "metadata": {},
          "execution_count": 18
        }
      ]
    },
    {
      "cell_type": "code",
      "source": [
        "df.head(5)"
      ],
      "metadata": {
        "colab": {
          "base_uri": "https://localhost:8080/",
          "height": 206
        },
        "id": "uPb5odKvRxnT",
        "outputId": "4ec68749-30eb-4ede-ccd5-e88cb325b237"
      },
      "execution_count": 19,
      "outputs": [
        {
          "output_type": "execute_result",
          "data": {
            "text/plain": [
              "      open     high      low    close    volume           start_Time\n",
              "0  2499.90  2520.55  2499.00  2513.15  108665.0  2023-06-01 09:15:00\n",
              "1  2515.00  2533.20  2514.15  2530.30   64322.0  2023-06-01 09:16:00\n",
              "2  2530.30  2530.55  2516.05  2516.35   40636.0  2023-06-01 09:17:00\n",
              "3  2518.10  2527.75  2515.00  2527.75   25992.0  2023-06-01 09:18:00\n",
              "4  2525.95  2536.65  2525.95  2528.85   35348.0  2023-06-01 09:19:00"
            ],
            "text/html": [
              "\n",
              "  <div id=\"df-b9be1446-9912-4131-958f-1d50caeb642d\">\n",
              "    <div class=\"colab-df-container\">\n",
              "      <div>\n",
              "<style scoped>\n",
              "    .dataframe tbody tr th:only-of-type {\n",
              "        vertical-align: middle;\n",
              "    }\n",
              "\n",
              "    .dataframe tbody tr th {\n",
              "        vertical-align: top;\n",
              "    }\n",
              "\n",
              "    .dataframe thead th {\n",
              "        text-align: right;\n",
              "    }\n",
              "</style>\n",
              "<table border=\"1\" class=\"dataframe\">\n",
              "  <thead>\n",
              "    <tr style=\"text-align: right;\">\n",
              "      <th></th>\n",
              "      <th>open</th>\n",
              "      <th>high</th>\n",
              "      <th>low</th>\n",
              "      <th>close</th>\n",
              "      <th>volume</th>\n",
              "      <th>start_Time</th>\n",
              "    </tr>\n",
              "  </thead>\n",
              "  <tbody>\n",
              "    <tr>\n",
              "      <th>0</th>\n",
              "      <td>2499.90</td>\n",
              "      <td>2520.55</td>\n",
              "      <td>2499.00</td>\n",
              "      <td>2513.15</td>\n",
              "      <td>108665.0</td>\n",
              "      <td>2023-06-01 09:15:00</td>\n",
              "    </tr>\n",
              "    <tr>\n",
              "      <th>1</th>\n",
              "      <td>2515.00</td>\n",
              "      <td>2533.20</td>\n",
              "      <td>2514.15</td>\n",
              "      <td>2530.30</td>\n",
              "      <td>64322.0</td>\n",
              "      <td>2023-06-01 09:16:00</td>\n",
              "    </tr>\n",
              "    <tr>\n",
              "      <th>2</th>\n",
              "      <td>2530.30</td>\n",
              "      <td>2530.55</td>\n",
              "      <td>2516.05</td>\n",
              "      <td>2516.35</td>\n",
              "      <td>40636.0</td>\n",
              "      <td>2023-06-01 09:17:00</td>\n",
              "    </tr>\n",
              "    <tr>\n",
              "      <th>3</th>\n",
              "      <td>2518.10</td>\n",
              "      <td>2527.75</td>\n",
              "      <td>2515.00</td>\n",
              "      <td>2527.75</td>\n",
              "      <td>25992.0</td>\n",
              "      <td>2023-06-01 09:18:00</td>\n",
              "    </tr>\n",
              "    <tr>\n",
              "      <th>4</th>\n",
              "      <td>2525.95</td>\n",
              "      <td>2536.65</td>\n",
              "      <td>2525.95</td>\n",
              "      <td>2528.85</td>\n",
              "      <td>35348.0</td>\n",
              "      <td>2023-06-01 09:19:00</td>\n",
              "    </tr>\n",
              "  </tbody>\n",
              "</table>\n",
              "</div>\n",
              "      <button class=\"colab-df-convert\" onclick=\"convertToInteractive('df-b9be1446-9912-4131-958f-1d50caeb642d')\"\n",
              "              title=\"Convert this dataframe to an interactive table.\"\n",
              "              style=\"display:none;\">\n",
              "        \n",
              "  <svg xmlns=\"http://www.w3.org/2000/svg\" height=\"24px\"viewBox=\"0 0 24 24\"\n",
              "       width=\"24px\">\n",
              "    <path d=\"M0 0h24v24H0V0z\" fill=\"none\"/>\n",
              "    <path d=\"M18.56 5.44l.94 2.06.94-2.06 2.06-.94-2.06-.94-.94-2.06-.94 2.06-2.06.94zm-11 1L8.5 8.5l.94-2.06 2.06-.94-2.06-.94L8.5 2.5l-.94 2.06-2.06.94zm10 10l.94 2.06.94-2.06 2.06-.94-2.06-.94-.94-2.06-.94 2.06-2.06.94z\"/><path d=\"M17.41 7.96l-1.37-1.37c-.4-.4-.92-.59-1.43-.59-.52 0-1.04.2-1.43.59L10.3 9.45l-7.72 7.72c-.78.78-.78 2.05 0 2.83L4 21.41c.39.39.9.59 1.41.59.51 0 1.02-.2 1.41-.59l7.78-7.78 2.81-2.81c.8-.78.8-2.07 0-2.86zM5.41 20L4 18.59l7.72-7.72 1.47 1.35L5.41 20z\"/>\n",
              "  </svg>\n",
              "      </button>\n",
              "      \n",
              "  <style>\n",
              "    .colab-df-container {\n",
              "      display:flex;\n",
              "      flex-wrap:wrap;\n",
              "      gap: 12px;\n",
              "    }\n",
              "\n",
              "    .colab-df-convert {\n",
              "      background-color: #E8F0FE;\n",
              "      border: none;\n",
              "      border-radius: 50%;\n",
              "      cursor: pointer;\n",
              "      display: none;\n",
              "      fill: #1967D2;\n",
              "      height: 32px;\n",
              "      padding: 0 0 0 0;\n",
              "      width: 32px;\n",
              "    }\n",
              "\n",
              "    .colab-df-convert:hover {\n",
              "      background-color: #E2EBFA;\n",
              "      box-shadow: 0px 1px 2px rgba(60, 64, 67, 0.3), 0px 1px 3px 1px rgba(60, 64, 67, 0.15);\n",
              "      fill: #174EA6;\n",
              "    }\n",
              "\n",
              "    [theme=dark] .colab-df-convert {\n",
              "      background-color: #3B4455;\n",
              "      fill: #D2E3FC;\n",
              "    }\n",
              "\n",
              "    [theme=dark] .colab-df-convert:hover {\n",
              "      background-color: #434B5C;\n",
              "      box-shadow: 0px 1px 3px 1px rgba(0, 0, 0, 0.15);\n",
              "      filter: drop-shadow(0px 1px 2px rgba(0, 0, 0, 0.3));\n",
              "      fill: #FFFFFF;\n",
              "    }\n",
              "  </style>\n",
              "\n",
              "      <script>\n",
              "        const buttonEl =\n",
              "          document.querySelector('#df-b9be1446-9912-4131-958f-1d50caeb642d button.colab-df-convert');\n",
              "        buttonEl.style.display =\n",
              "          google.colab.kernel.accessAllowed ? 'block' : 'none';\n",
              "\n",
              "        async function convertToInteractive(key) {\n",
              "          const element = document.querySelector('#df-b9be1446-9912-4131-958f-1d50caeb642d');\n",
              "          const dataTable =\n",
              "            await google.colab.kernel.invokeFunction('convertToInteractive',\n",
              "                                                     [key], {});\n",
              "          if (!dataTable) return;\n",
              "\n",
              "          const docLinkHtml = 'Like what you see? Visit the ' +\n",
              "            '<a target=\"_blank\" href=https://colab.research.google.com/notebooks/data_table.ipynb>data table notebook</a>'\n",
              "            + ' to learn more about interactive tables.';\n",
              "          element.innerHTML = '';\n",
              "          dataTable['output_type'] = 'display_data';\n",
              "          await google.colab.output.renderOutput(dataTable, element);\n",
              "          const docLink = document.createElement('div');\n",
              "          docLink.innerHTML = docLinkHtml;\n",
              "          element.appendChild(docLink);\n",
              "        }\n",
              "      </script>\n",
              "    </div>\n",
              "  </div>\n",
              "  "
            ]
          },
          "metadata": {},
          "execution_count": 19
        }
      ]
    },
    {
      "cell_type": "markdown",
      "source": [
        "#Spliting : X and y"
      ],
      "metadata": {
        "id": "sM1lau7rgW4g"
      }
    },
    {
      "cell_type": "code",
      "source": [
        "X=df.iloc[:,0:3]\n",
        "y=df.loc[:,'close']"
      ],
      "metadata": {
        "id": "EXWKqoyYfxzx"
      },
      "execution_count": 20,
      "outputs": []
    },
    {
      "cell_type": "markdown",
      "source": [
        "#Scaling Dataset"
      ],
      "metadata": {
        "id": "IlcdfUdggCBA"
      }
    },
    {
      "cell_type": "code",
      "source": [
        "X = MinMaxScaleData(X)"
      ],
      "metadata": {
        "id": "oaJ0LxOxh9HX"
      },
      "execution_count": null,
      "outputs": []
    },
    {
      "cell_type": "markdown",
      "source": [
        "#Spliting: Training and Testing"
      ],
      "metadata": {
        "id": "s69XOJGfdJB1"
      }
    },
    {
      "cell_type": "code",
      "source": [
        "from sklearn.model_selection import train_test_split\n",
        "X_train, X_test, y_train, y_test = train_test_split(X, y, test_size = 0.2, random_state = 0)"
      ],
      "metadata": {
        "id": "QroXMc0mXHIZ"
      },
      "execution_count": 21,
      "outputs": []
    },
    {
      "cell_type": "markdown",
      "source": [
        "\n",
        "\n",
        "---\n",
        "\n"
      ],
      "metadata": {
        "id": "XxNVPJygcg3n"
      }
    },
    {
      "cell_type": "markdown",
      "source": [
        "#Training Sections"
      ],
      "metadata": {
        "id": "IVN3SiFwci8P"
      }
    },
    {
      "cell_type": "markdown",
      "source": [
        "##Kernel Ridge Regression"
      ],
      "metadata": {
        "id": "cpAuK0kUjHn5"
      }
    },
    {
      "cell_type": "code",
      "source": [
        "from sklearn.kernel_ridge import KernelRidge\n",
        "krr = KernelRidge(alpha=1.0)\n",
        "krr.fit(X_train, y_train)\n",
        "y_pred = krr.predict(X_test)"
      ],
      "metadata": {
        "id": "4Nocs398iwsT"
      },
      "execution_count": 22,
      "outputs": []
    },
    {
      "cell_type": "code",
      "source": [
        "show_res(y_test,y_pred)"
      ],
      "metadata": {
        "colab": {
          "base_uri": "https://localhost:8080/"
        },
        "id": "2-HGWK6GnRg8",
        "outputId": "8c081315-436d-4389-97e5-546bac53adc2"
      },
      "execution_count": 23,
      "outputs": [
        {
          "output_type": "stream",
          "name": "stdout",
          "text": [
            "Mean absolute error = 0.65\n",
            "Mean squared error = 0.83\n",
            "Median absolute error = 0.53\n",
            "Explain variance score = 0.99\n",
            "R2 score = 0.99\n"
          ]
        }
      ]
    },
    {
      "cell_type": "code",
      "source": [
        "X.iloc[0]"
      ],
      "metadata": {
        "colab": {
          "base_uri": "https://localhost:8080/"
        },
        "id": "zYBJ1C4omZ10",
        "outputId": "7f08d65a-8c75-4d4b-b531-7fb55b61559e"
      },
      "execution_count": 29,
      "outputs": [
        {
          "output_type": "execute_result",
          "data": {
            "text/plain": [
              "open    2499.90\n",
              "high    2520.55\n",
              "low     2499.00\n",
              "Name: 0, dtype: float64"
            ]
          },
          "metadata": {},
          "execution_count": 29
        }
      ]
    },
    {
      "cell_type": "code",
      "source": [
        "y.iloc[0]"
      ],
      "metadata": {
        "colab": {
          "base_uri": "https://localhost:8080/"
        },
        "id": "Zl8vhP7emgEI",
        "outputId": "a5399347-7670-4617-906f-2108b67ee46d"
      },
      "execution_count": 30,
      "outputs": [
        {
          "output_type": "execute_result",
          "data": {
            "text/plain": [
              "2513.15"
            ]
          },
          "metadata": {},
          "execution_count": 30
        }
      ]
    },
    {
      "cell_type": "code",
      "source": [
        "single_pred(krr,list(X.iloc[0]))"
      ],
      "metadata": {
        "colab": {
          "base_uri": "https://localhost:8080/"
        },
        "id": "CVLCp4ecl2HO",
        "outputId": "3fc76da9-aff0-43b7-ba13-d9b282c099a5"
      },
      "execution_count": 31,
      "outputs": [
        {
          "output_type": "stream",
          "name": "stderr",
          "text": [
            "/usr/local/lib/python3.10/dist-packages/sklearn/base.py:439: UserWarning: X does not have valid feature names, but KernelRidge was fitted with feature names\n",
            "  warnings.warn(\n"
          ]
        },
        {
          "output_type": "execute_result",
          "data": {
            "text/plain": [
              "array([2515.37755137])"
            ]
          },
          "metadata": {},
          "execution_count": 31
        }
      ]
    },
    {
      "cell_type": "code",
      "source": [
        "actual_vs_pred(y_test,y_pred)"
      ],
      "metadata": {
        "colab": {
          "base_uri": "https://localhost:8080/",
          "height": 501
        },
        "id": "EyVfi97zeV_8",
        "outputId": "7238aa4d-b6c9-4e60-8d37-76a7aab2ba33"
      },
      "execution_count": 32,
      "outputs": [
        {
          "output_type": "display_data",
          "data": {
            "text/plain": [
              "<Figure size 500x500 with 1 Axes>"
            ],
            "image/png": "[encoded data removed]"
          },
          "metadata": {}
        }
      ]
    },
    {
      "cell_type": "code",
      "source": [],
      "metadata": {
        "id": "JVU4t8M_tWEt"
      },
      "execution_count": null,
      "outputs": []
    },
    {
      "cell_type": "markdown",
      "source": [
        "##Linear Regression"
      ],
      "metadata": {
        "id": "QR9hSWTKwqZ_"
      }
    },
    {
      "cell_type": "code",
      "source": [
        "from sklearn.linear_model import LinearRegression\n",
        "\n",
        "lin_reg = LinearRegression()\n",
        "lin_reg.fit(X_train, y_train)\n",
        "y_pred = lin_reg.predict(X_test)"
      ],
      "metadata": {
        "id": "_3PHr6Oewp3S"
      },
      "execution_count": 33,
      "outputs": []
    },
    {
      "cell_type": "code",
      "source": [
        "show_res(y_test,y_pred)"
      ],
      "metadata": {
        "colab": {
          "base_uri": "https://localhost:8080/"
        },
        "id": "V02iQsIkwuRm",
        "outputId": "6f4e10d8-84d2-478f-dc44-8c54b2d8272d"
      },
      "execution_count": 34,
      "outputs": [
        {
          "output_type": "stream",
          "name": "stdout",
          "text": [
            "Mean absolute error = 0.68\n",
            "Mean squared error = 0.88\n",
            "Median absolute error = 0.52\n",
            "Explain variance score = 0.99\n",
            "R2 score = 0.99\n"
          ]
        }
      ]
    },
    {
      "cell_type": "code",
      "source": [
        "X_test.iloc[1]"
      ],
      "metadata": {
        "colab": {
          "base_uri": "https://localhost:8080/"
        },
        "id": "51Vjc3b9wxmG",
        "outputId": "238002e0-519d-46b6-c25b-b31475dab164"
      },
      "execution_count": 35,
      "outputs": [
        {
          "output_type": "execute_result",
          "data": {
            "text/plain": [
              "open    2500.0\n",
              "high    2500.0\n",
              "low     2499.0\n",
              "Name: 296, dtype: float64"
            ]
          },
          "metadata": {},
          "execution_count": 35
        }
      ]
    },
    {
      "cell_type": "code",
      "source": [
        "y_test.iloc[1]"
      ],
      "metadata": {
        "colab": {
          "base_uri": "https://localhost:8080/"
        },
        "id": "zUtxI59Yw1Rn",
        "outputId": "5da63b67-70e2-4542-dd03-c9a0ffab000f"
      },
      "execution_count": 36,
      "outputs": [
        {
          "output_type": "execute_result",
          "data": {
            "text/plain": [
              "2499.9"
            ]
          },
          "metadata": {},
          "execution_count": 36
        }
      ]
    },
    {
      "cell_type": "code",
      "source": [
        "single_pred(lin_reg,list(X.iloc[1]))"
      ],
      "metadata": {
        "colab": {
          "base_uri": "https://localhost:8080/"
        },
        "id": "Rn5BK6OTw2F4",
        "outputId": "47a79d7f-d15f-4605-be75-90f0791031af"
      },
      "execution_count": 37,
      "outputs": [
        {
          "output_type": "stream",
          "name": "stderr",
          "text": [
            "/usr/local/lib/python3.10/dist-packages/sklearn/base.py:439: UserWarning: X does not have valid feature names, but LinearRegression was fitted with feature names\n",
            "  warnings.warn(\n"
          ]
        },
        {
          "output_type": "execute_result",
          "data": {
            "text/plain": [
              "array([2528.58183436])"
            ]
          },
          "metadata": {},
          "execution_count": 37
        }
      ]
    },
    {
      "cell_type": "markdown",
      "source": [
        "##Decision Tree Regressor"
      ],
      "metadata": {
        "id": "sfrYKm61ydIC"
      }
    },
    {
      "cell_type": "code",
      "source": [
        "from sklearn.tree import DecisionTreeRegressor\n",
        "\n",
        "deci_regr = DecisionTreeRegressor()\n",
        "deci_regr.fit(X_train, y_train)\n",
        "y_pred = deci_regr.predict(X_test)"
      ],
      "metadata": {
        "id": "TtWrHtJsyDzS"
      },
      "execution_count": 38,
      "outputs": []
    },
    {
      "cell_type": "code",
      "source": [
        "show_res(y_test,y_pred)"
      ],
      "metadata": {
        "colab": {
          "base_uri": "https://localhost:8080/"
        },
        "id": "pcRIvS5Wy7zp",
        "outputId": "b2ad7098-29bf-4fd8-dd81-5e49b6ca9693"
      },
      "execution_count": 39,
      "outputs": [
        {
          "output_type": "stream",
          "name": "stdout",
          "text": [
            "Mean absolute error = 1.3\n",
            "Mean squared error = 5.44\n",
            "Median absolute error = 0.9\n",
            "Explain variance score = 0.91\n",
            "R2 score = 0.91\n"
          ]
        }
      ]
    },
    {
      "cell_type": "code",
      "source": [
        "X_test.iloc[1]"
      ],
      "metadata": {
        "colab": {
          "base_uri": "https://localhost:8080/"
        },
        "id": "suwaK8KIzKT0",
        "outputId": "fdd3c2e8-08b4-4cf4-8e5c-fc39160cf2d9"
      },
      "execution_count": 40,
      "outputs": [
        {
          "output_type": "execute_result",
          "data": {
            "text/plain": [
              "open    2500.0\n",
              "high    2500.0\n",
              "low     2499.0\n",
              "Name: 296, dtype: float64"
            ]
          },
          "metadata": {},
          "execution_count": 40
        }
      ]
    },
    {
      "cell_type": "code",
      "source": [
        "y_test.iloc[1]"
      ],
      "metadata": {
        "colab": {
          "base_uri": "https://localhost:8080/"
        },
        "id": "g5oeKRpczNEz",
        "outputId": "3882676f-63a7-4a04-a522-0ffebf13afb9"
      },
      "execution_count": 41,
      "outputs": [
        {
          "output_type": "execute_result",
          "data": {
            "text/plain": [
              "2499.9"
            ]
          },
          "metadata": {},
          "execution_count": 41
        }
      ]
    },
    {
      "cell_type": "code",
      "source": [
        "single_pred(deci_regr,list(X.iloc[1]))"
      ],
      "metadata": {
        "colab": {
          "base_uri": "https://localhost:8080/"
        },
        "id": "TYnfekkEzQ2t",
        "outputId": "5dec7a4a-d5a8-449a-8cb4-85b70ef0f79e"
      },
      "execution_count": 42,
      "outputs": [
        {
          "output_type": "stream",
          "name": "stderr",
          "text": [
            "/usr/local/lib/python3.10/dist-packages/sklearn/base.py:439: UserWarning: X does not have valid feature names, but DecisionTreeRegressor was fitted with feature names\n",
            "  warnings.warn(\n"
          ]
        },
        {
          "output_type": "execute_result",
          "data": {
            "text/plain": [
              "array([2516.55])"
            ]
          },
          "metadata": {},
          "execution_count": 42
        }
      ]
    },
    {
      "cell_type": "markdown",
      "source": [
        "##Random Forest Regressor"
      ],
      "metadata": {
        "id": "lW4Ug95wzi8m"
      }
    },
    {
      "cell_type": "code",
      "source": [
        "from sklearn.ensemble import RandomForestRegressor\n",
        "\n",
        "rf_reg = RandomForestRegressor()\n",
        "\n",
        "rf_reg.fit(X_train, y_train)\n",
        "y_pred = rf_reg.predict(X_test)\n"
      ],
      "metadata": {
        "id": "XJvvwAvFzb9M"
      },
      "execution_count": 43,
      "outputs": []
    },
    {
      "cell_type": "code",
      "source": [
        "show_res(y_test,y_pred)"
      ],
      "metadata": {
        "colab": {
          "base_uri": "https://localhost:8080/"
        },
        "id": "Cm5Pi4Rjz3Of",
        "outputId": "cfa2f6d0-0030-4412-ed7c-03f7e28a5061"
      },
      "execution_count": 44,
      "outputs": [
        {
          "output_type": "stream",
          "name": "stdout",
          "text": [
            "Mean absolute error = 0.97\n",
            "Mean squared error = 3.98\n",
            "Median absolute error = 0.53\n",
            "Explain variance score = 0.94\n",
            "R2 score = 0.93\n"
          ]
        }
      ]
    },
    {
      "cell_type": "code",
      "source": [
        "X_test.iloc[1]"
      ],
      "metadata": {
        "colab": {
          "base_uri": "https://localhost:8080/"
        },
        "id": "oHeBfecMz5A3",
        "outputId": "8469ca2c-b870-4d6d-c50f-93a89e96c5af"
      },
      "execution_count": 45,
      "outputs": [
        {
          "output_type": "execute_result",
          "data": {
            "text/plain": [
              "open    2500.0\n",
              "high    2500.0\n",
              "low     2499.0\n",
              "Name: 296, dtype: float64"
            ]
          },
          "metadata": {},
          "execution_count": 45
        }
      ]
    },
    {
      "cell_type": "code",
      "source": [
        "y_test.iloc[1]"
      ],
      "metadata": {
        "colab": {
          "base_uri": "https://localhost:8080/"
        },
        "id": "FCVICBmuz6A8",
        "outputId": "0181ace6-86e9-4fdb-bea2-2e9899837396"
      },
      "execution_count": 46,
      "outputs": [
        {
          "output_type": "execute_result",
          "data": {
            "text/plain": [
              "2499.9"
            ]
          },
          "metadata": {},
          "execution_count": 46
        }
      ]
    },
    {
      "cell_type": "code",
      "source": [
        "single_pred(rf_reg,list(X.iloc[0]))"
      ],
      "metadata": {
        "colab": {
          "base_uri": "https://localhost:8080/"
        },
        "id": "iF2AZxTcz5vh",
        "outputId": "67c4d193-7953-41b2-e441-118d9eedb5a9"
      },
      "execution_count": 47,
      "outputs": [
        {
          "output_type": "stream",
          "name": "stderr",
          "text": [
            "/usr/local/lib/python3.10/dist-packages/sklearn/base.py:439: UserWarning: X does not have valid feature names, but RandomForestRegressor was fitted with feature names\n",
            "  warnings.warn(\n"
          ]
        },
        {
          "output_type": "execute_result",
          "data": {
            "text/plain": [
              "array([2512.177])"
            ]
          },
          "metadata": {},
          "execution_count": 47
        }
      ]
    },
    {
      "cell_type": "markdown",
      "source": [
        "###Lasso Regressor"
      ],
      "metadata": {
        "id": "va-BpNlK0TJT"
      }
    },
    {
      "cell_type": "code",
      "source": [
        "from sklearn import linear_model\n",
        "lasso = linear_model.Lasso(alpha=0.1)\n",
        "lasso.fit(X_train, y_train)\n",
        "\n",
        "y_pred_train = lasso.predict(X_test)"
      ],
      "metadata": {
        "id": "w_BE12Kr0ISx"
      },
      "execution_count": 48,
      "outputs": []
    },
    {
      "cell_type": "code",
      "source": [
        "show_res(y_test,y_pred)"
      ],
      "metadata": {
        "colab": {
          "base_uri": "https://localhost:8080/"
        },
        "id": "Foq0SRdk0qNH",
        "outputId": "97667c50-121c-4e8d-a6aa-fa9b53304a2b"
      },
      "execution_count": 49,
      "outputs": [
        {
          "output_type": "stream",
          "name": "stdout",
          "text": [
            "Mean absolute error = 0.97\n",
            "Mean squared error = 3.98\n",
            "Median absolute error = 0.53\n",
            "Explain variance score = 0.94\n",
            "R2 score = 0.93\n"
          ]
        }
      ]
    },
    {
      "cell_type": "code",
      "source": [
        "X_test.iloc[1]"
      ],
      "metadata": {
        "colab": {
          "base_uri": "https://localhost:8080/"
        },
        "id": "w40zD1kn0z4P",
        "outputId": "2be5d89b-0f71-4616-d51a-ab6d5e42e876"
      },
      "execution_count": 50,
      "outputs": [
        {
          "output_type": "execute_result",
          "data": {
            "text/plain": [
              "open    2500.0\n",
              "high    2500.0\n",
              "low     2499.0\n",
              "Name: 296, dtype: float64"
            ]
          },
          "metadata": {},
          "execution_count": 50
        }
      ]
    },
    {
      "cell_type": "code",
      "source": [
        "y_test.iloc[1]"
      ],
      "metadata": {
        "colab": {
          "base_uri": "https://localhost:8080/"
        },
        "id": "Z4jfzYTD02i_",
        "outputId": "a8c9d8e9-0984-46c4-e73f-b5a3c971be32"
      },
      "execution_count": 51,
      "outputs": [
        {
          "output_type": "execute_result",
          "data": {
            "text/plain": [
              "2499.9"
            ]
          },
          "metadata": {},
          "execution_count": 51
        }
      ]
    },
    {
      "cell_type": "code",
      "source": [
        "single_pred(lasso,list(X.iloc[0]))"
      ],
      "metadata": {
        "colab": {
          "base_uri": "https://localhost:8080/"
        },
        "id": "ordHdc3C05RP",
        "outputId": "fa5304e7-d53e-4613-9682-4eab62c0a465"
      },
      "execution_count": 52,
      "outputs": [
        {
          "output_type": "stream",
          "name": "stderr",
          "text": [
            "/usr/local/lib/python3.10/dist-packages/sklearn/base.py:439: UserWarning: X does not have valid feature names, but Lasso was fitted with feature names\n",
            "  warnings.warn(\n"
          ]
        },
        {
          "output_type": "execute_result",
          "data": {
            "text/plain": [
              "array([2514.62131718])"
            ]
          },
          "metadata": {},
          "execution_count": 52
        }
      ]
    },
    {
      "cell_type": "code",
      "source": [],
      "metadata": {
        "id": "z4F89RTW067H"
      },
      "execution_count": null,
      "outputs": []
    }
  ]
}