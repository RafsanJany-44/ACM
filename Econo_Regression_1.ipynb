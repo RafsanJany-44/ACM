{
  "nbformat": 4,
  "nbformat_minor": 0,
  "metadata": {
    "colab": {
      "provenance": [],
      "mount_file_id": "1jYUcR_WyqXwcapVNACUo-f_5siXDxoUP",
      "authorship_tag": "ABX9TyMKJ8e/y2B4z3TIBPo9QtgK",
      "include_colab_link": true
    },
    "kernelspec": {
      "name": "python3",
      "display_name": "Python 3"
    },
    "language_info": {
      "name": "python"
    },
    "widgets": {
      "application/vnd.jupyter.widget-state+json": {
        "136a1bd5ae014a9d9a76cd4eb5a3e621": {
          "model_module": "@jupyter-widgets/controls",
          "model_name": "HBoxModel",
          "model_module_version": "1.5.0",
          "state": {
            "_dom_classes": [],
            "_model_module": "@jupyter-widgets/controls",
            "_model_module_version": "1.5.0",
            "_model_name": "HBoxModel",
            "_view_count": null,
            "_view_module": "@jupyter-widgets/controls",
            "_view_module_version": "1.5.0",
            "_view_name": "HBoxView",
            "box_style": "",
            "children": [
              "IPY_MODEL_f8e5177b48c94144ac3c0b3a2b54ad3a",
              "IPY_MODEL_ec2dbaf4021142e5a1e4aaf6fbb7e37b",
              "IPY_MODEL_a8f2febceee94d71b4fe096636c053a2"
            ],
            "layout": "IPY_MODEL_b2776628c0784e77b9961654b24ab1da"
          }
        },
        "f8e5177b48c94144ac3c0b3a2b54ad3a": {
          "model_module": "@jupyter-widgets/controls",
          "model_name": "HTMLModel",
          "model_module_version": "1.5.0",
          "state": {
            "_dom_classes": [],
            "_model_module": "@jupyter-widgets/controls",
            "_model_module_version": "1.5.0",
            "_model_name": "HTMLModel",
            "_view_count": null,
            "_view_module": "@jupyter-widgets/controls",
            "_view_module_version": "1.5.0",
            "_view_name": "HTMLView",
            "description": "",
            "description_tooltip": null,
            "layout": "IPY_MODEL_69c65d0f40a24560ba6891f4ab13e91a",
            "placeholder": "​",
            "style": "IPY_MODEL_efea366d776344f6be2a09f589da460f",
            "value": "100%"
          }
        },
        "ec2dbaf4021142e5a1e4aaf6fbb7e37b": {
          "model_module": "@jupyter-widgets/controls",
          "model_name": "FloatProgressModel",
          "model_module_version": "1.5.0",
          "state": {
            "_dom_classes": [],
            "_model_module": "@jupyter-widgets/controls",
            "_model_module_version": "1.5.0",
            "_model_name": "FloatProgressModel",
            "_view_count": null,
            "_view_module": "@jupyter-widgets/controls",
            "_view_module_version": "1.5.0",
            "_view_name": "ProgressView",
            "bar_style": "success",
            "description": "",
            "description_tooltip": null,
            "layout": "IPY_MODEL_1cd227be256042839d8dfe51401ffc51",
            "max": 23,
            "min": 0,
            "orientation": "horizontal",
            "style": "IPY_MODEL_259285d3107c43c3b5013c3381d53529",
            "value": 23
          }
        },
        "a8f2febceee94d71b4fe096636c053a2": {
          "model_module": "@jupyter-widgets/controls",
          "model_name": "HTMLModel",
          "model_module_version": "1.5.0",
          "state": {
            "_dom_classes": [],
            "_model_module": "@jupyter-widgets/controls",
            "_model_module_version": "1.5.0",
            "_model_name": "HTMLModel",
            "_view_count": null,
            "_view_module": "@jupyter-widgets/controls",
            "_view_module_version": "1.5.0",
            "_view_name": "HTMLView",
            "description": "",
            "description_tooltip": null,
            "layout": "IPY_MODEL_29e2e5f1469e49fa8221a9e5680bfe0f",
            "placeholder": "​",
            "style": "IPY_MODEL_d2d2a48b7f8747e39c7e7292a98ef2da",
            "value": " 23/23 [00:09&lt;00:00,  2.38it/s]"
          }
        },
        "b2776628c0784e77b9961654b24ab1da": {
          "model_module": "@jupyter-widgets/base",
          "model_name": "LayoutModel",
          "model_module_version": "1.2.0",
          "state": {
            "_model_module": "@jupyter-widgets/base",
            "_model_module_version": "1.2.0",
            "_model_name": "LayoutModel",
            "_view_count": null,
            "_view_module": "@jupyter-widgets/base",
            "_view_module_version": "1.2.0",
            "_view_name": "LayoutView",
            "align_content": null,
            "align_items": null,
            "align_self": null,
            "border": null,
            "bottom": null,
            "display": null,
            "flex": null,
            "flex_flow": null,
            "grid_area": null,
            "grid_auto_columns": null,
            "grid_auto_flow": null,
            "grid_auto_rows": null,
            "grid_column": null,
            "grid_gap": null,
            "grid_row": null,
            "grid_template_areas": null,
            "grid_template_columns": null,
            "grid_template_rows": null,
            "height": null,
            "justify_content": null,
            "justify_items": null,
            "left": null,
            "margin": null,
            "max_height": null,
            "max_width": null,
            "min_height": null,
            "min_width": null,
            "object_fit": null,
            "object_position": null,
            "order": null,
            "overflow": null,
            "overflow_x": null,
            "overflow_y": null,
            "padding": null,
            "right": null,
            "top": null,
            "visibility": null,
            "width": null
          }
        },
        "69c65d0f40a24560ba6891f4ab13e91a": {
          "model_module": "@jupyter-widgets/base",
          "model_name": "LayoutModel",
          "model_module_version": "1.2.0",
          "state": {
            "_model_module": "@jupyter-widgets/base",
            "_model_module_version": "1.2.0",
            "_model_name": "LayoutModel",
            "_view_count": null,
            "_view_module": "@jupyter-widgets/base",
            "_view_module_version": "1.2.0",
            "_view_name": "LayoutView",
            "align_content": null,
            "align_items": null,
            "align_self": null,
            "border": null,
            "bottom": null,
            "display": null,
            "flex": null,
            "flex_flow": null,
            "grid_area": null,
            "grid_auto_columns": null,
            "grid_auto_flow": null,
            "grid_auto_rows": null,
            "grid_column": null,
            "grid_gap": null,
            "grid_row": null,
            "grid_template_areas": null,
            "grid_template_columns": null,
            "grid_template_rows": null,
            "height": null,
            "justify_content": null,
            "justify_items": null,
            "left": null,
            "margin": null,
            "max_height": null,
            "max_width": null,
            "min_height": null,
            "min_width": null,
            "object_fit": null,
            "object_position": null,
            "order": null,
            "overflow": null,
            "overflow_x": null,
            "overflow_y": null,
            "padding": null,
            "right": null,
            "top": null,
            "visibility": null,
            "width": null
          }
        },
        "efea366d776344f6be2a09f589da460f": {
          "model_module": "@jupyter-widgets/controls",
          "model_name": "DescriptionStyleModel",
          "model_module_version": "1.5.0",
          "state": {
            "_model_module": "@jupyter-widgets/controls",
            "_model_module_version": "1.5.0",
            "_model_name": "DescriptionStyleModel",
            "_view_count": null,
            "_view_module": "@jupyter-widgets/base",
            "_view_module_version": "1.2.0",
            "_view_name": "StyleView",
            "description_width": ""
          }
        },
        "1cd227be256042839d8dfe51401ffc51": {
          "model_module": "@jupyter-widgets/base",
          "model_name": "LayoutModel",
          "model_module_version": "1.2.0",
          "state": {
            "_model_module": "@jupyter-widgets/base",
            "_model_module_version": "1.2.0",
            "_model_name": "LayoutModel",
            "_view_count": null,
            "_view_module": "@jupyter-widgets/base",
            "_view_module_version": "1.2.0",
            "_view_name": "LayoutView",
            "align_content": null,
            "align_items": null,
            "align_self": null,
            "border": null,
            "bottom": null,
            "display": null,
            "flex": null,
            "flex_flow": null,
            "grid_area": null,
            "grid_auto_columns": null,
            "grid_auto_flow": null,
            "grid_auto_rows": null,
            "grid_column": null,
            "grid_gap": null,
            "grid_row": null,
            "grid_template_areas": null,
            "grid_template_columns": null,
            "grid_template_rows": null,
            "height": null,
            "justify_content": null,
            "justify_items": null,
            "left": null,
            "margin": null,
            "max_height": null,
            "max_width": null,
            "min_height": null,
            "min_width": null,
            "object_fit": null,
            "object_position": null,
            "order": null,
            "overflow": null,
            "overflow_x": null,
            "overflow_y": null,
            "padding": null,
            "right": null,
            "top": null,
            "visibility": null,
            "width": null
          }
        },
        "259285d3107c43c3b5013c3381d53529": {
          "model_module": "@jupyter-widgets/controls",
          "model_name": "ProgressStyleModel",
          "model_module_version": "1.5.0",
          "state": {
            "_model_module": "@jupyter-widgets/controls",
            "_model_module_version": "1.5.0",
            "_model_name": "ProgressStyleModel",
            "_view_count": null,
            "_view_module": "@jupyter-widgets/base",
            "_view_module_version": "1.2.0",
            "_view_name": "StyleView",
            "bar_color": null,
            "description_width": ""
          }
        },
        "29e2e5f1469e49fa8221a9e5680bfe0f": {
          "model_module": "@jupyter-widgets/base",
          "model_name": "LayoutModel",
          "model_module_version": "1.2.0",
          "state": {
            "_model_module": "@jupyter-widgets/base",
            "_model_module_version": "1.2.0",
            "_model_name": "LayoutModel",
            "_view_count": null,
            "_view_module": "@jupyter-widgets/base",
            "_view_module_version": "1.2.0",
            "_view_name": "LayoutView",
            "align_content": null,
            "align_items": null,
            "align_self": null,
            "border": null,
            "bottom": null,
            "display": null,
            "flex": null,
            "flex_flow": null,
            "grid_area": null,
            "grid_auto_columns": null,
            "grid_auto_flow": null,
            "grid_auto_rows": null,
            "grid_column": null,
            "grid_gap": null,
            "grid_row": null,
            "grid_template_areas": null,
            "grid_template_columns": null,
            "grid_template_rows": null,
            "height": null,
            "justify_content": null,
            "justify_items": null,
            "left": null,
            "margin": null,
            "max_height": null,
            "max_width": null,
            "min_height": null,
            "min_width": null,
            "object_fit": null,
            "object_position": null,
            "order": null,
            "overflow": null,
            "overflow_x": null,
            "overflow_y": null,
            "padding": null,
            "right": null,
            "top": null,
            "visibility": null,
            "width": null
          }
        },
        "d2d2a48b7f8747e39c7e7292a98ef2da": {
          "model_module": "@jupyter-widgets/controls",
          "model_name": "DescriptionStyleModel",
          "model_module_version": "1.5.0",
          "state": {
            "_model_module": "@jupyter-widgets/controls",
            "_model_module_version": "1.5.0",
            "_model_name": "DescriptionStyleModel",
            "_view_count": null,
            "_view_module": "@jupyter-widgets/base",
            "_view_module_version": "1.2.0",
            "_view_name": "StyleView",
            "description_width": ""
          }
        }
      }
    }
  },
  "cells": [
    {
      "cell_type": "markdown",
      "metadata": {
        "id": "view-in-github",
        "colab_type": "text"
      },
      "source": [
        "<a href=\"https://colab.research.google.com/github/RafsanJany-44/ARC/blob/master/Econo_Regression_1.ipynb\" target=\"_parent\"><img src=\"https://colab.research.google.com/assets/colab-badge.svg\" alt=\"Open In Colab\"/></a>"
      ]
    },
    {
      "cell_type": "code",
      "source": [
        "from google.colab import drive\n",
        "drive.mount('/content/drive')"
      ],
      "metadata": {
        "id": "Q4YyxDmkV0T3",
        "colab": {
          "base_uri": "https://localhost:8080/"
        },
        "outputId": "d0d54aaf-3bdc-42ee-8a16-8d4c8e8a572b"
      },
      "execution_count": 1,
      "outputs": [
        {
          "output_type": "stream",
          "name": "stdout",
          "text": [
            "Mounted at /content/drive\n"
          ]
        }
      ]
    },
    {
      "cell_type": "code",
      "source": [],
      "metadata": {
        "id": "hWPnWj-xbd6k"
      },
      "execution_count": null,
      "outputs": []
    },
    {
      "cell_type": "code",
      "source": [
        "import sklearn.metrics as sm\n",
        "from sklearn.preprocessing import MinMaxScaler\n",
        "from sklearn.preprocessing import StandardScaler\n",
        "import seaborn as sns\n",
        "from tqdm.notebook import tqdm\n",
        "# import all libraries\n",
        "import numpy as np\n",
        "import pandas as pd\n",
        "import matplotlib.pyplot as plt\n",
        "import seaborn as sns\n",
        "import re\n",
        "\n",
        "import sklearn\n",
        "from sklearn.model_selection import train_test_split\n",
        "from sklearn.preprocessing import MinMaxScaler\n",
        "from sklearn.preprocessing import PolynomialFeatures\n",
        "from sklearn.preprocessing import scale\n",
        "from sklearn.feature_selection import RFE\n",
        "from sklearn.linear_model import LinearRegression\n",
        "from sklearn.model_selection import cross_val_score\n",
        "from sklearn.model_selection import KFold\n",
        "from sklearn.model_selection import GridSearchCV\n",
        "from sklearn.pipeline import make_pipeline\n",
        "\n",
        "import warnings # supress warnings\n",
        "warnings.filterwarnings('ignore')\n",
        "\n",
        "\n",
        "\n",
        "def StandardScaleData(data):\n",
        "  scaler = StandardScaler()\n",
        "  scaler.fit(data)\n",
        "  return  scaler.transform(data)\n",
        "\n",
        "\n",
        "def MinMaxScaleData(data):\n",
        "  scaler = MinMaxScaler()\n",
        "  scaler.fit(data)\n",
        "  return scaler.transform(data)\n",
        "\n",
        "\n",
        "\n",
        "\n",
        "\n",
        "\n",
        "\n",
        "def show_res(y_actual, y_pred):\n",
        "  print(\"Mean absolute error =\", round(sm.mean_absolute_error(y_actual, y_pred), 2))\n",
        "  print(\"Mean squared error =\", round(sm.mean_squared_error(y_actual, y_pred), 2))\n",
        "  print(\"Median absolute error =\", round(sm.median_absolute_error(y_actual, y_pred), 2))\n",
        "  print(\"Explain variance score =\", round(sm.explained_variance_score(y_actual, y_pred), 2))\n",
        "  print(\"R2 score =\", round(sm.r2_score(y_actual, y_pred), 2))\n",
        "\n",
        "\n",
        "\n",
        "\n",
        "def actual_vs_pred(y_actual, y_pred):\n",
        "  pred_y_df=pd.DataFrame(\n",
        "    {\n",
        "        \"Actual_Value\":y_actual,\n",
        "        \"Predicted_Value\":y_pred,\n",
        "        \"Difference\":y_actual-y_pred\n",
        "    }\n",
        "    )\n",
        "\n",
        "  sns.set(rc={'figure.figsize':(10,20)})\n",
        "  scatter_poly2 = sns.lmplot(\n",
        "      data = pred_y_df,\n",
        "      x = \"Actual_Value\",\n",
        "      y = \"Predicted_Value\",\n",
        "      order = 2\n",
        "  )\n",
        "\n",
        "def single_pred(model,data):\n",
        "  test_sub = {\n",
        "    'open':[data[0]],\n",
        "    'high':[data[1]],\n",
        "    'low':[data[2]]\n",
        "  }\n",
        "  test_sub_df = pd.DataFrame(test_sub)\n",
        "\n",
        "  ex_specie = np.array(test_sub_df.iloc[0]).reshape(1,-1)\n",
        "\n",
        "  return model.predict(ex_specie)\n",
        "\n",
        "\n",
        "\n",
        "\n",
        "def test_other_file(model,f_list):\n",
        "  for i in tqdm(f_list):\n",
        "    print()\n",
        "    print(os.path.basename(i))\n",
        "    test_dataset = pd.read_json(i,typ='series')\n",
        "    test_df = pd.DataFrame(test_dataset['data'])\n",
        "\n",
        "    test_X=df.iloc[:,0:3]\n",
        "    test_y=df.loc[:,'close']\n",
        "\n",
        "    pred_y = model.predict(test_X)\n",
        "\n",
        "    show_res(test_y,pred_y)\n",
        "    print(\"____________________________________________\")\n",
        "    print(\"___________                  _______________\")\n",
        "    print()\n",
        "\n",
        "\n",
        "def k_cv(model, X_, y_,splits):\n",
        "  folds = KFold(n_splits = splits, shuffle = True, random_state = 100)\n",
        "  scores = cross_val_score(krr, X_, y_, scoring='r2', cv=folds)\n",
        "  for k,i in enumerate(scores):\n",
        "   print(\"Accuracy: \",i,\" -----for k: \",k)\n",
        "  print(\"Avg: \",scores.sum()/len(scores))\n",
        "  return scores.sum()/len(scores)"
      ],
      "metadata": {
        "id": "rpkzcoYxpllG"
      },
      "execution_count": 46,
      "outputs": []
    },
    {
      "cell_type": "code",
      "execution_count": 3,
      "metadata": {
        "id": "26Wii0juQEGb"
      },
      "outputs": [],
      "source": [
        "import numpy as np\n",
        "import pandas as pd\n",
        "import os\n",
        "from glob2 import glob"
      ]
    },
    {
      "cell_type": "code",
      "source": [
        "path = \"/content/drive/MyDrive/RDocs/trading-research-main/NSE-Data/Equity/Intraday-1m-ohlcv/APOLLOHOSP\""
      ],
      "metadata": {
        "id": "SMZGMEQ_AtZt"
      },
      "execution_count": 4,
      "outputs": []
    },
    {
      "cell_type": "code",
      "source": [
        "file_list = glob(path+\"/*\")"
      ],
      "metadata": {
        "id": "s5FL_bTlA46N"
      },
      "execution_count": 5,
      "outputs": []
    },
    {
      "cell_type": "code",
      "source": [
        "#dataset = pd.read_json(\"/content/drive/MyDrive/RDocs/trading-research-main/NSE-Data/Equity/Historical-ohlcv/ADANIENT/ADANIENT-2000-01-01-2023-05-31.json\",typ='series')\n",
        "dataset = pd.read_json(file_list[0],typ='series')"
      ],
      "metadata": {
        "id": "2LCywbSARb5U"
      },
      "execution_count": 6,
      "outputs": []
    },
    {
      "cell_type": "code",
      "source": [
        "dataset.head()"
      ],
      "metadata": {
        "colab": {
          "base_uri": "https://localhost:8080/"
        },
        "id": "4t0Lb-mfRe59",
        "outputId": "d746cac8-4454-41f6-9d36-e5a7122dc809"
      },
      "execution_count": 7,
      "outputs": [
        {
          "output_type": "execute_result",
          "data": {
            "text/plain": [
              "status                                               success\n",
              "remarks                                                     \n",
              "data       {'open': [4605.0, 4571.35, 4578.65, 4578.2, 45...\n",
              "dtype: object"
            ]
          },
          "metadata": {},
          "execution_count": 7
        }
      ]
    },
    {
      "cell_type": "code",
      "source": [
        "df = pd.DataFrame(dataset['data'])"
      ],
      "metadata": {
        "id": "sd26RLmXRjXh"
      },
      "execution_count": 8,
      "outputs": []
    },
    {
      "cell_type": "code",
      "source": [
        "df.shape"
      ],
      "metadata": {
        "colab": {
          "base_uri": "https://localhost:8080/"
        },
        "id": "azK6Bn4MRvaL",
        "outputId": "281d9454-808c-4f1b-cc66-ae2708f0b19e"
      },
      "execution_count": 9,
      "outputs": [
        {
          "output_type": "execute_result",
          "data": {
            "text/plain": [
              "(375, 6)"
            ]
          },
          "metadata": {},
          "execution_count": 9
        }
      ]
    },
    {
      "cell_type": "code",
      "source": [
        "df.head(5)"
      ],
      "metadata": {
        "colab": {
          "base_uri": "https://localhost:8080/",
          "height": 206
        },
        "id": "uPb5odKvRxnT",
        "outputId": "d0a6557c-5d4c-4f42-ed46-1f898f091a9f"
      },
      "execution_count": 10,
      "outputs": [
        {
          "output_type": "execute_result",
          "data": {
            "text/plain": [
              "      open     high      low    close  volume           start_Time\n",
              "0  4605.00  4605.00  4563.45  4571.35  8223.0  2023-05-23 09:15:00\n",
              "1  4571.35  4580.00  4566.25  4578.65  2245.0  2023-05-23 09:16:00\n",
              "2  4578.65  4581.45  4571.05  4580.00  2506.0  2023-05-23 09:17:00\n",
              "3  4578.20  4583.00  4572.80  4572.80  2210.0  2023-05-23 09:18:00\n",
              "4  4571.00  4571.00  4561.20  4561.60  1860.0  2023-05-23 09:19:00"
            ],
            "text/html": [
              "\n",
              "  <div id=\"df-a163f8fd-ff5c-4d54-bbcc-4c7750fabe65\">\n",
              "    <div class=\"colab-df-container\">\n",
              "      <div>\n",
              "<style scoped>\n",
              "    .dataframe tbody tr th:only-of-type {\n",
              "        vertical-align: middle;\n",
              "    }\n",
              "\n",
              "    .dataframe tbody tr th {\n",
              "        vertical-align: top;\n",
              "    }\n",
              "\n",
              "    .dataframe thead th {\n",
              "        text-align: right;\n",
              "    }\n",
              "</style>\n",
              "<table border=\"1\" class=\"dataframe\">\n",
              "  <thead>\n",
              "    <tr style=\"text-align: right;\">\n",
              "      <th></th>\n",
              "      <th>open</th>\n",
              "      <th>high</th>\n",
              "      <th>low</th>\n",
              "      <th>close</th>\n",
              "      <th>volume</th>\n",
              "      <th>start_Time</th>\n",
              "    </tr>\n",
              "  </thead>\n",
              "  <tbody>\n",
              "    <tr>\n",
              "      <th>0</th>\n",
              "      <td>4605.00</td>\n",
              "      <td>4605.00</td>\n",
              "      <td>4563.45</td>\n",
              "      <td>4571.35</td>\n",
              "      <td>8223.0</td>\n",
              "      <td>2023-05-23 09:15:00</td>\n",
              "    </tr>\n",
              "    <tr>\n",
              "      <th>1</th>\n",
              "      <td>4571.35</td>\n",
              "      <td>4580.00</td>\n",
              "      <td>4566.25</td>\n",
              "      <td>4578.65</td>\n",
              "      <td>2245.0</td>\n",
              "      <td>2023-05-23 09:16:00</td>\n",
              "    </tr>\n",
              "    <tr>\n",
              "      <th>2</th>\n",
              "      <td>4578.65</td>\n",
              "      <td>4581.45</td>\n",
              "      <td>4571.05</td>\n",
              "      <td>4580.00</td>\n",
              "      <td>2506.0</td>\n",
              "      <td>2023-05-23 09:17:00</td>\n",
              "    </tr>\n",
              "    <tr>\n",
              "      <th>3</th>\n",
              "      <td>4578.20</td>\n",
              "      <td>4583.00</td>\n",
              "      <td>4572.80</td>\n",
              "      <td>4572.80</td>\n",
              "      <td>2210.0</td>\n",
              "      <td>2023-05-23 09:18:00</td>\n",
              "    </tr>\n",
              "    <tr>\n",
              "      <th>4</th>\n",
              "      <td>4571.00</td>\n",
              "      <td>4571.00</td>\n",
              "      <td>4561.20</td>\n",
              "      <td>4561.60</td>\n",
              "      <td>1860.0</td>\n",
              "      <td>2023-05-23 09:19:00</td>\n",
              "    </tr>\n",
              "  </tbody>\n",
              "</table>\n",
              "</div>\n",
              "      <button class=\"colab-df-convert\" onclick=\"convertToInteractive('df-a163f8fd-ff5c-4d54-bbcc-4c7750fabe65')\"\n",
              "              title=\"Convert this dataframe to an interactive table.\"\n",
              "              style=\"display:none;\">\n",
              "        \n",
              "  <svg xmlns=\"http://www.w3.org/2000/svg\" height=\"24px\"viewBox=\"0 0 24 24\"\n",
              "       width=\"24px\">\n",
              "    <path d=\"M0 0h24v24H0V0z\" fill=\"none\"/>\n",
              "    <path d=\"M18.56 5.44l.94 2.06.94-2.06 2.06-.94-2.06-.94-.94-2.06-.94 2.06-2.06.94zm-11 1L8.5 8.5l.94-2.06 2.06-.94-2.06-.94L8.5 2.5l-.94 2.06-2.06.94zm10 10l.94 2.06.94-2.06 2.06-.94-2.06-.94-.94-2.06-.94 2.06-2.06.94z\"/><path d=\"M17.41 7.96l-1.37-1.37c-.4-.4-.92-.59-1.43-.59-.52 0-1.04.2-1.43.59L10.3 9.45l-7.72 7.72c-.78.78-.78 2.05 0 2.83L4 21.41c.39.39.9.59 1.41.59.51 0 1.02-.2 1.41-.59l7.78-7.78 2.81-2.81c.8-.78.8-2.07 0-2.86zM5.41 20L4 18.59l7.72-7.72 1.47 1.35L5.41 20z\"/>\n",
              "  </svg>\n",
              "      </button>\n",
              "      \n",
              "  <style>\n",
              "    .colab-df-container {\n",
              "      display:flex;\n",
              "      flex-wrap:wrap;\n",
              "      gap: 12px;\n",
              "    }\n",
              "\n",
              "    .colab-df-convert {\n",
              "      background-color: #E8F0FE;\n",
              "      border: none;\n",
              "      border-radius: 50%;\n",
              "      cursor: pointer;\n",
              "      display: none;\n",
              "      fill: #1967D2;\n",
              "      height: 32px;\n",
              "      padding: 0 0 0 0;\n",
              "      width: 32px;\n",
              "    }\n",
              "\n",
              "    .colab-df-convert:hover {\n",
              "      background-color: #E2EBFA;\n",
              "      box-shadow: 0px 1px 2px rgba(60, 64, 67, 0.3), 0px 1px 3px 1px rgba(60, 64, 67, 0.15);\n",
              "      fill: #174EA6;\n",
              "    }\n",
              "\n",
              "    [theme=dark] .colab-df-convert {\n",
              "      background-color: #3B4455;\n",
              "      fill: #D2E3FC;\n",
              "    }\n",
              "\n",
              "    [theme=dark] .colab-df-convert:hover {\n",
              "      background-color: #434B5C;\n",
              "      box-shadow: 0px 1px 3px 1px rgba(0, 0, 0, 0.15);\n",
              "      filter: drop-shadow(0px 1px 2px rgba(0, 0, 0, 0.3));\n",
              "      fill: #FFFFFF;\n",
              "    }\n",
              "  </style>\n",
              "\n",
              "      <script>\n",
              "        const buttonEl =\n",
              "          document.querySelector('#df-a163f8fd-ff5c-4d54-bbcc-4c7750fabe65 button.colab-df-convert');\n",
              "        buttonEl.style.display =\n",
              "          google.colab.kernel.accessAllowed ? 'block' : 'none';\n",
              "\n",
              "        async function convertToInteractive(key) {\n",
              "          const element = document.querySelector('#df-a163f8fd-ff5c-4d54-bbcc-4c7750fabe65');\n",
              "          const dataTable =\n",
              "            await google.colab.kernel.invokeFunction('convertToInteractive',\n",
              "                                                     [key], {});\n",
              "          if (!dataTable) return;\n",
              "\n",
              "          const docLinkHtml = 'Like what you see? Visit the ' +\n",
              "            '<a target=\"_blank\" href=https://colab.research.google.com/notebooks/data_table.ipynb>data table notebook</a>'\n",
              "            + ' to learn more about interactive tables.';\n",
              "          element.innerHTML = '';\n",
              "          dataTable['output_type'] = 'display_data';\n",
              "          await google.colab.output.renderOutput(dataTable, element);\n",
              "          const docLink = document.createElement('div');\n",
              "          docLink.innerHTML = docLinkHtml;\n",
              "          element.appendChild(docLink);\n",
              "        }\n",
              "      </script>\n",
              "    </div>\n",
              "  </div>\n",
              "  "
            ]
          },
          "metadata": {},
          "execution_count": 10
        }
      ]
    },
    {
      "cell_type": "markdown",
      "source": [
        "#Spliting : X and y"
      ],
      "metadata": {
        "id": "sM1lau7rgW4g"
      }
    },
    {
      "cell_type": "code",
      "source": [
        "X=df.iloc[:,0:3]\n",
        "y=df.loc[:,'close']"
      ],
      "metadata": {
        "id": "EXWKqoyYfxzx"
      },
      "execution_count": 24,
      "outputs": []
    },
    {
      "cell_type": "markdown",
      "source": [
        "#Spliting: Training and Testing"
      ],
      "metadata": {
        "id": "s69XOJGfdJB1"
      }
    },
    {
      "cell_type": "code",
      "source": [
        "from sklearn.model_selection import train_test_split\n",
        "X_train, X_test, y_train, y_test = train_test_split(X, y, test_size = 0.2, random_state = 0)"
      ],
      "metadata": {
        "id": "QroXMc0mXHIZ"
      },
      "execution_count": 25,
      "outputs": []
    },
    {
      "cell_type": "markdown",
      "source": [
        "\n",
        "\n",
        "---\n",
        "\n"
      ],
      "metadata": {
        "id": "XxNVPJygcg3n"
      }
    },
    {
      "cell_type": "markdown",
      "source": [
        "#Training Sections"
      ],
      "metadata": {
        "id": "IVN3SiFwci8P"
      }
    },
    {
      "cell_type": "markdown",
      "source": [
        "##Kernel Ridge Regression"
      ],
      "metadata": {
        "id": "cpAuK0kUjHn5"
      }
    },
    {
      "cell_type": "code",
      "source": [
        "from sklearn.kernel_ridge import KernelRidge\n",
        "krr = KernelRidge(alpha=1.0)\n",
        "krr.fit(X_train, y_train)\n",
        "y_pred = krr.predict(X_test)"
      ],
      "metadata": {
        "id": "4Nocs398iwsT"
      },
      "execution_count": 32,
      "outputs": []
    },
    {
      "cell_type": "code",
      "source": [
        "show_res(y_test,y_pred)"
      ],
      "metadata": {
        "colab": {
          "base_uri": "https://localhost:8080/"
        },
        "id": "2-HGWK6GnRg8",
        "outputId": "3f52477b-9c6b-4e47-dcdc-e3a1fc567df2"
      },
      "execution_count": null,
      "outputs": [
        {
          "output_type": "stream",
          "name": "stdout",
          "text": [
            "Mean absolute error = 1.34\n",
            "Mean squared error = 2.96\n",
            "Median absolute error = 1.06\n",
            "Explain variance score = 0.99\n",
            "R2 score = 0.99\n"
          ]
        }
      ]
    },
    {
      "cell_type": "code",
      "source": [
        "X.iloc[0]"
      ],
      "metadata": {
        "colab": {
          "base_uri": "https://localhost:8080/"
        },
        "id": "zYBJ1C4omZ10",
        "outputId": "fa79660f-79f8-4423-8b57-d7cd02fe35ef"
      },
      "execution_count": null,
      "outputs": [
        {
          "output_type": "execute_result",
          "data": {
            "text/plain": [
              "open    4605.00\n",
              "high    4605.00\n",
              "low     4563.45\n",
              "Name: 0, dtype: float64"
            ]
          },
          "metadata": {},
          "execution_count": 150
        }
      ]
    },
    {
      "cell_type": "code",
      "source": [
        "y.iloc[0]"
      ],
      "metadata": {
        "colab": {
          "base_uri": "https://localhost:8080/"
        },
        "id": "Zl8vhP7emgEI",
        "outputId": "b7b10370-c4c3-4541-fbf1-8a640ef49feb"
      },
      "execution_count": null,
      "outputs": [
        {
          "output_type": "execute_result",
          "data": {
            "text/plain": [
              "4571.35"
            ]
          },
          "metadata": {},
          "execution_count": 151
        }
      ]
    },
    {
      "cell_type": "code",
      "source": [
        "single_pred(krr,list(X.iloc[0]))"
      ],
      "metadata": {
        "colab": {
          "base_uri": "https://localhost:8080/"
        },
        "id": "CVLCp4ecl2HO",
        "outputId": "891b7db5-fbe0-427c-afbc-6c7a1227ef03"
      },
      "execution_count": null,
      "outputs": [
        {
          "output_type": "stream",
          "name": "stderr",
          "text": [
            "/usr/local/lib/python3.10/dist-packages/sklearn/base.py:439: UserWarning: X does not have valid feature names, but KernelRidge was fitted with feature names\n",
            "  warnings.warn(\n"
          ]
        },
        {
          "output_type": "execute_result",
          "data": {
            "text/plain": [
              "array([4570.19106205])"
            ]
          },
          "metadata": {},
          "execution_count": 152
        }
      ]
    },
    {
      "cell_type": "code",
      "source": [
        "actual_vs_pred(y_test,y_pred)"
      ],
      "metadata": {
        "colab": {
          "base_uri": "https://localhost:8080/",
          "height": 501
        },
        "id": "EyVfi97zeV_8",
        "outputId": "b4748f9e-cdbb-4b88-c4be-ffe628e577b3"
      },
      "execution_count": null,
      "outputs": [
        {
          "output_type": "display_data",
          "data": {
            "text/plain": [
              "<Figure size 500x500 with 1 Axes>"
            ],
            "image/png": "[encoded data removed]"
          },
          "metadata": {}
        }
      ]
    },
    {
      "cell_type": "code",
      "source": [
        "k_cv(krr,X_test,y_test,10)"
      ],
      "metadata": {
        "id": "JVU4t8M_tWEt",
        "colab": {
          "base_uri": "https://localhost:8080/"
        },
        "outputId": "244895c4-6f8b-4669-cbd8-e923b8d43f02"
      },
      "execution_count": 49,
      "outputs": [
        {
          "output_type": "stream",
          "name": "stdout",
          "text": [
            "Accuracy:  0.9709331568945043  -----for k:  0\n",
            "Accuracy:  0.9841108831130456  -----for k:  1\n",
            "Accuracy:  0.9863729648657418  -----for k:  2\n",
            "Accuracy:  0.9885953569807344  -----for k:  3\n",
            "Accuracy:  0.9935021415097686  -----for k:  4\n",
            "Accuracy:  0.9884405991116794  -----for k:  5\n",
            "Accuracy:  0.9958186765421153  -----for k:  6\n",
            "Accuracy:  0.9737681559747313  -----for k:  7\n",
            "Accuracy:  0.9934936045353542  -----for k:  8\n",
            "Accuracy:  0.9855395515655477  -----for k:  9\n",
            "Avg:  0.9860575091093222\n"
          ]
        },
        {
          "output_type": "execute_result",
          "data": {
            "text/plain": [
              "0.9860575091093222"
            ]
          },
          "metadata": {},
          "execution_count": 49
        }
      ]
    },
    {
      "cell_type": "markdown",
      "source": [
        "##Linear Regression"
      ],
      "metadata": {
        "id": "QR9hSWTKwqZ_"
      }
    },
    {
      "cell_type": "code",
      "source": [
        "from sklearn.linear_model import LinearRegression\n",
        "\n",
        "lin_reg = LinearRegression()\n",
        "lin_reg.fit(X_train, y_train)\n",
        "y_pred = lin_reg.predict(X_test)"
      ],
      "metadata": {
        "id": "_3PHr6Oewp3S"
      },
      "execution_count": 51,
      "outputs": []
    },
    {
      "cell_type": "code",
      "source": [
        "show_res(y_test,y_pred)"
      ],
      "metadata": {
        "colab": {
          "base_uri": "https://localhost:8080/"
        },
        "id": "V02iQsIkwuRm",
        "outputId": "ac55b85e-5b4a-4799-9400-9f8bed914eab"
      },
      "execution_count": null,
      "outputs": [
        {
          "output_type": "stream",
          "name": "stdout",
          "text": [
            "Mean absolute error = 1.32\n",
            "Mean squared error = 2.96\n",
            "Median absolute error = 0.95\n",
            "Explain variance score = 0.99\n",
            "R2 score = 0.99\n"
          ]
        }
      ]
    },
    {
      "cell_type": "code",
      "source": [
        "X_test.iloc[1]"
      ],
      "metadata": {
        "colab": {
          "base_uri": "https://localhost:8080/"
        },
        "id": "51Vjc3b9wxmG",
        "outputId": "32dbe911-40c1-40f0-9f72-a90f7522f384"
      },
      "execution_count": null,
      "outputs": [
        {
          "output_type": "execute_result",
          "data": {
            "text/plain": [
              "open    4591.0\n",
              "high    4591.0\n",
              "low     4587.0\n",
              "Name: 296, dtype: float64"
            ]
          },
          "metadata": {},
          "execution_count": 156
        }
      ]
    },
    {
      "cell_type": "code",
      "source": [
        "y_test.iloc[1]"
      ],
      "metadata": {
        "colab": {
          "base_uri": "https://localhost:8080/"
        },
        "id": "zUtxI59Yw1Rn",
        "outputId": "57c8eab2-a9ff-4552-b85b-aa30569a92a2"
      },
      "execution_count": null,
      "outputs": [
        {
          "output_type": "execute_result",
          "data": {
            "text/plain": [
              "4587.9"
            ]
          },
          "metadata": {},
          "execution_count": 157
        }
      ]
    },
    {
      "cell_type": "code",
      "source": [
        "single_pred(lin_reg,list(X.iloc[1]))"
      ],
      "metadata": {
        "colab": {
          "base_uri": "https://localhost:8080/"
        },
        "id": "Rn5BK6OTw2F4",
        "outputId": "636d0637-1620-4d98-f792-26c97a25f14d"
      },
      "execution_count": null,
      "outputs": [
        {
          "output_type": "stream",
          "name": "stderr",
          "text": [
            "/usr/local/lib/python3.10/dist-packages/sklearn/base.py:439: UserWarning: X does not have valid feature names, but LinearRegression was fitted with feature names\n",
            "  warnings.warn(\n"
          ]
        },
        {
          "output_type": "execute_result",
          "data": {
            "text/plain": [
              "array([4574.11709307])"
            ]
          },
          "metadata": {},
          "execution_count": 158
        }
      ]
    },
    {
      "cell_type": "code",
      "source": [
        "k_cv(lin_reg,X_test,y_test,10)"
      ],
      "metadata": {
        "id": "eyQFL2uCiBlN",
        "outputId": "d58cbe4a-6453-4d76-e983-b460fe70743a",
        "colab": {
          "base_uri": "https://localhost:8080/"
        }
      },
      "execution_count": 52,
      "outputs": [
        {
          "output_type": "stream",
          "name": "stdout",
          "text": [
            "Accuracy:  0.9709331568945043  -----for k:  0\n",
            "Accuracy:  0.9841108831130456  -----for k:  1\n",
            "Accuracy:  0.9863729648657418  -----for k:  2\n",
            "Accuracy:  0.9885953569807344  -----for k:  3\n",
            "Accuracy:  0.9935021415097686  -----for k:  4\n",
            "Accuracy:  0.9884405991116794  -----for k:  5\n",
            "Accuracy:  0.9958186765421153  -----for k:  6\n",
            "Accuracy:  0.9737681559747313  -----for k:  7\n",
            "Accuracy:  0.9934936045353542  -----for k:  8\n",
            "Accuracy:  0.9855395515655477  -----for k:  9\n",
            "Avg:  0.9860575091093222\n"
          ]
        },
        {
          "output_type": "execute_result",
          "data": {
            "text/plain": [
              "0.9860575091093222"
            ]
          },
          "metadata": {},
          "execution_count": 52
        }
      ]
    },
    {
      "cell_type": "markdown",
      "source": [
        "##Decision Tree Regressor"
      ],
      "metadata": {
        "id": "sfrYKm61ydIC"
      }
    },
    {
      "cell_type": "code",
      "source": [
        "from sklearn.tree import DecisionTreeRegressor\n",
        "\n",
        "deci_regr = DecisionTreeRegressor()\n",
        "deci_regr.fit(X_train, y_train)\n",
        "y_pred = deci_regr.predict(X_test)"
      ],
      "metadata": {
        "id": "TtWrHtJsyDzS"
      },
      "execution_count": null,
      "outputs": []
    },
    {
      "cell_type": "code",
      "source": [
        "show_res(y_test,y_pred)"
      ],
      "metadata": {
        "colab": {
          "base_uri": "https://localhost:8080/"
        },
        "id": "pcRIvS5Wy7zp",
        "outputId": "841c5ce4-5328-4a97-da99-2c1119ba9526"
      },
      "execution_count": null,
      "outputs": [
        {
          "output_type": "stream",
          "name": "stdout",
          "text": [
            "Mean absolute error = 1.98\n",
            "Mean squared error = 11.8\n",
            "Median absolute error = 1.0\n",
            "Explain variance score = 0.96\n",
            "R2 score = 0.96\n"
          ]
        }
      ]
    },
    {
      "cell_type": "code",
      "source": [
        "X_test.iloc[1]"
      ],
      "metadata": {
        "colab": {
          "base_uri": "https://localhost:8080/"
        },
        "id": "suwaK8KIzKT0",
        "outputId": "7a7dfb0b-e38a-431d-8d1a-d1033a8bd6eb"
      },
      "execution_count": null,
      "outputs": [
        {
          "output_type": "execute_result",
          "data": {
            "text/plain": [
              "open    4591.0\n",
              "high    4591.0\n",
              "low     4587.0\n",
              "Name: 296, dtype: float64"
            ]
          },
          "metadata": {},
          "execution_count": 161
        }
      ]
    },
    {
      "cell_type": "code",
      "source": [
        "y_test.iloc[1]"
      ],
      "metadata": {
        "colab": {
          "base_uri": "https://localhost:8080/"
        },
        "id": "g5oeKRpczNEz",
        "outputId": "cca3febd-12f5-4445-9343-c15f19456ff4"
      },
      "execution_count": null,
      "outputs": [
        {
          "output_type": "execute_result",
          "data": {
            "text/plain": [
              "4587.9"
            ]
          },
          "metadata": {},
          "execution_count": 162
        }
      ]
    },
    {
      "cell_type": "code",
      "source": [
        "single_pred(deci_regr,list(X.iloc[1]))"
      ],
      "metadata": {
        "colab": {
          "base_uri": "https://localhost:8080/"
        },
        "id": "TYnfekkEzQ2t",
        "outputId": "2f1cb9f5-df9b-4d12-b882-6b9e6d228cfb"
      },
      "execution_count": null,
      "outputs": [
        {
          "output_type": "stream",
          "name": "stderr",
          "text": [
            "/usr/local/lib/python3.10/dist-packages/sklearn/base.py:439: UserWarning: X does not have valid feature names, but DecisionTreeRegressor was fitted with feature names\n",
            "  warnings.warn(\n"
          ]
        },
        {
          "output_type": "execute_result",
          "data": {
            "text/plain": [
              "array([4578.])"
            ]
          },
          "metadata": {},
          "execution_count": 163
        }
      ]
    },
    {
      "cell_type": "markdown",
      "source": [
        "##Random Forest Regressor"
      ],
      "metadata": {
        "id": "lW4Ug95wzi8m"
      }
    },
    {
      "cell_type": "code",
      "source": [
        "from sklearn.ensemble import RandomForestRegressor\n",
        "\n",
        "rf_reg = RandomForestRegressor()\n",
        "\n",
        "rf_reg.fit(X_train, y_train)\n",
        "y_pred = rf_reg.predict(X_test)\n"
      ],
      "metadata": {
        "id": "XJvvwAvFzb9M"
      },
      "execution_count": null,
      "outputs": []
    },
    {
      "cell_type": "code",
      "source": [
        "show_res(y_test,y_pred)"
      ],
      "metadata": {
        "colab": {
          "base_uri": "https://localhost:8080/"
        },
        "id": "Cm5Pi4Rjz3Of",
        "outputId": "5c8f7d7c-5254-451c-bea3-cf57f01abc59"
      },
      "execution_count": null,
      "outputs": [
        {
          "output_type": "stream",
          "name": "stdout",
          "text": [
            "Mean absolute error = 1.54\n",
            "Mean squared error = 6.03\n",
            "Median absolute error = 1.03\n",
            "Explain variance score = 0.98\n",
            "R2 score = 0.98\n"
          ]
        }
      ]
    },
    {
      "cell_type": "code",
      "source": [
        "X_test.iloc[1]"
      ],
      "metadata": {
        "colab": {
          "base_uri": "https://localhost:8080/"
        },
        "id": "oHeBfecMz5A3",
        "outputId": "f2b00779-3a70-4e11-8c0a-b2e1683256fa"
      },
      "execution_count": null,
      "outputs": [
        {
          "output_type": "execute_result",
          "data": {
            "text/plain": [
              "open    4591.0\n",
              "high    4591.0\n",
              "low     4587.0\n",
              "Name: 296, dtype: float64"
            ]
          },
          "metadata": {},
          "execution_count": 166
        }
      ]
    },
    {
      "cell_type": "code",
      "source": [
        "y_test.iloc[1]"
      ],
      "metadata": {
        "colab": {
          "base_uri": "https://localhost:8080/"
        },
        "id": "FCVICBmuz6A8",
        "outputId": "45cfb0e4-d4fe-4c68-a8a4-9ba67b228219"
      },
      "execution_count": null,
      "outputs": [
        {
          "output_type": "execute_result",
          "data": {
            "text/plain": [
              "4587.9"
            ]
          },
          "metadata": {},
          "execution_count": 167
        }
      ]
    },
    {
      "cell_type": "code",
      "source": [
        "single_pred(rf_reg,list(X.iloc[0]))"
      ],
      "metadata": {
        "colab": {
          "base_uri": "https://localhost:8080/"
        },
        "id": "iF2AZxTcz5vh",
        "outputId": "9b161ce7-b7a6-43e2-a4f5-f598ccf6f9f2"
      },
      "execution_count": null,
      "outputs": [
        {
          "output_type": "stream",
          "name": "stderr",
          "text": [
            "/usr/local/lib/python3.10/dist-packages/sklearn/base.py:439: UserWarning: X does not have valid feature names, but RandomForestRegressor was fitted with feature names\n",
            "  warnings.warn(\n"
          ]
        },
        {
          "output_type": "execute_result",
          "data": {
            "text/plain": [
              "array([4573.5605])"
            ]
          },
          "metadata": {},
          "execution_count": 168
        }
      ]
    },
    {
      "cell_type": "markdown",
      "source": [
        "###Lasso Regressor"
      ],
      "metadata": {
        "id": "va-BpNlK0TJT"
      }
    },
    {
      "cell_type": "code",
      "source": [
        "from sklearn import linear_model\n",
        "lasso = linear_model.Lasso(alpha=0.1)\n",
        "lasso.fit(X_train, y_train)\n",
        "\n",
        "y_pred_train = lasso.predict(X_test)"
      ],
      "metadata": {
        "id": "w_BE12Kr0ISx"
      },
      "execution_count": null,
      "outputs": []
    },
    {
      "cell_type": "code",
      "source": [
        "show_res(y_test,y_pred)"
      ],
      "metadata": {
        "colab": {
          "base_uri": "https://localhost:8080/"
        },
        "id": "Foq0SRdk0qNH",
        "outputId": "88725178-491e-4a65-ce81-d076d46dd0b4"
      },
      "execution_count": null,
      "outputs": [
        {
          "output_type": "stream",
          "name": "stdout",
          "text": [
            "Mean absolute error = 1.54\n",
            "Mean squared error = 6.03\n",
            "Median absolute error = 1.03\n",
            "Explain variance score = 0.98\n",
            "R2 score = 0.98\n"
          ]
        }
      ]
    },
    {
      "cell_type": "code",
      "source": [
        "X_test.iloc[1]"
      ],
      "metadata": {
        "colab": {
          "base_uri": "https://localhost:8080/"
        },
        "id": "w40zD1kn0z4P",
        "outputId": "3b188695-8248-4b29-f198-5426a96d9952"
      },
      "execution_count": null,
      "outputs": [
        {
          "output_type": "execute_result",
          "data": {
            "text/plain": [
              "open    4591.0\n",
              "high    4591.0\n",
              "low     4587.0\n",
              "Name: 296, dtype: float64"
            ]
          },
          "metadata": {},
          "execution_count": 171
        }
      ]
    },
    {
      "cell_type": "code",
      "source": [
        "y_test.iloc[1]"
      ],
      "metadata": {
        "colab": {
          "base_uri": "https://localhost:8080/"
        },
        "id": "Z4jfzYTD02i_",
        "outputId": "3d62ff25-021b-4e23-dc81-2f944c5476e3"
      },
      "execution_count": null,
      "outputs": [
        {
          "output_type": "execute_result",
          "data": {
            "text/plain": [
              "4587.9"
            ]
          },
          "metadata": {},
          "execution_count": 172
        }
      ]
    },
    {
      "cell_type": "code",
      "source": [
        "single_pred(lasso,list(X.iloc[0]))"
      ],
      "metadata": {
        "colab": {
          "base_uri": "https://localhost:8080/"
        },
        "id": "ordHdc3C05RP",
        "outputId": "449595d4-775e-4f31-904f-dda3e85394ea"
      },
      "execution_count": null,
      "outputs": [
        {
          "output_type": "stream",
          "name": "stderr",
          "text": [
            "/usr/local/lib/python3.10/dist-packages/sklearn/base.py:439: UserWarning: X does not have valid feature names, but Lasso was fitted with feature names\n",
            "  warnings.warn(\n"
          ]
        },
        {
          "output_type": "execute_result",
          "data": {
            "text/plain": [
              "array([4570.94387279])"
            ]
          },
          "metadata": {},
          "execution_count": 173
        }
      ]
    },
    {
      "cell_type": "code",
      "source": [],
      "metadata": {
        "id": "z4F89RTW067H"
      },
      "execution_count": null,
      "outputs": []
    },
    {
      "cell_type": "markdown",
      "source": [
        "#Testng for another dataset"
      ],
      "metadata": {
        "id": "hKDZF1eIDsR6"
      }
    },
    {
      "cell_type": "markdown",
      "source": [
        "##With Kernel Ridge Regression"
      ],
      "metadata": {
        "id": "xbmbi1UgEO02"
      }
    },
    {
      "cell_type": "code",
      "source": [
        "test_other_file(krr,file_list)\n",
        "\n"
      ],
      "metadata": {
        "colab": {
          "base_uri": "https://localhost:8080/",
          "height": 1000,
          "referenced_widgets": [
            "136a1bd5ae014a9d9a76cd4eb5a3e621",
            "f8e5177b48c94144ac3c0b3a2b54ad3a",
            "ec2dbaf4021142e5a1e4aaf6fbb7e37b",
            "a8f2febceee94d71b4fe096636c053a2",
            "b2776628c0784e77b9961654b24ab1da",
            "69c65d0f40a24560ba6891f4ab13e91a",
            "efea366d776344f6be2a09f589da460f",
            "1cd227be256042839d8dfe51401ffc51",
            "259285d3107c43c3b5013c3381d53529",
            "29e2e5f1469e49fa8221a9e5680bfe0f",
            "d2d2a48b7f8747e39c7e7292a98ef2da"
          ]
        },
        "id": "Kber4VkRDr8B",
        "outputId": "3e3bb2bd-7a08-4f09-8b23-e3dd61ddbdf9"
      },
      "execution_count": null,
      "outputs": [
        {
          "output_type": "display_data",
          "data": {
            "text/plain": [
              "  0%|          | 0/23 [00:00<?, ?it/s]"
            ],
            "application/vnd.jupyter.widget-view+json": {
              "version_major": 2,
              "version_minor": 0,
              "model_id": "136a1bd5ae014a9d9a76cd4eb5a3e621"
            }
          },
          "metadata": {}
        },
        {
          "output_type": "stream",
          "name": "stdout",
          "text": [
            "\n",
            "APOLLOHOSP-1m-2023-05-23.json\n",
            "Mean absolute error = 1.29\n",
            "Mean squared error = 2.77\n",
            "Median absolute error = 1.04\n",
            "Explain variance score = 0.99\n",
            "R2 score = 0.99\n",
            "____________________________________________\n",
            "___________                  _______________\n",
            "\n",
            "\n",
            "APOLLOHOSP-1m-2023-05-30.json\n",
            "Mean absolute error = 1.29\n",
            "Mean squared error = 2.77\n",
            "Median absolute error = 1.04\n",
            "Explain variance score = 0.99\n",
            "R2 score = 0.99\n",
            "____________________________________________\n",
            "___________                  _______________\n",
            "\n",
            "\n",
            "APOLLOHOSP-1m-2023-05-24.json\n",
            "Mean absolute error = 1.29\n",
            "Mean squared error = 2.77\n",
            "Median absolute error = 1.04\n",
            "Explain variance score = 0.99\n",
            "R2 score = 0.99\n",
            "____________________________________________\n",
            "___________                  _______________\n",
            "\n",
            "\n",
            "APOLLOHOSP-1m-2023-05-22.json\n",
            "Mean absolute error = 1.29\n",
            "Mean squared error = 2.77\n",
            "Median absolute error = 1.04\n",
            "Explain variance score = 0.99\n",
            "R2 score = 0.99\n",
            "____________________________________________\n",
            "___________                  _______________\n",
            "\n",
            "\n",
            "APOLLOHOSP-1m-2023-05-18.json\n",
            "Mean absolute error = 1.29\n",
            "Mean squared error = 2.77\n",
            "Median absolute error = 1.04\n",
            "Explain variance score = 0.99\n",
            "R2 score = 0.99\n",
            "____________________________________________\n",
            "___________                  _______________\n",
            "\n",
            "\n",
            "APOLLOHOSP-1m-2023-06-19.json\n",
            "Mean absolute error = 1.29\n",
            "Mean squared error = 2.77\n",
            "Median absolute error = 1.04\n",
            "Explain variance score = 0.99\n",
            "R2 score = 0.99\n",
            "____________________________________________\n",
            "___________                  _______________\n",
            "\n",
            "\n",
            "APOLLOHOSP-1m-2023-06-07.json\n",
            "Mean absolute error = 1.29\n",
            "Mean squared error = 2.77\n",
            "Median absolute error = 1.04\n",
            "Explain variance score = 0.99\n",
            "R2 score = 0.99\n",
            "____________________________________________\n",
            "___________                  _______________\n",
            "\n",
            "\n",
            "APOLLOHOSP-1m-2023-06-13.json\n",
            "Mean absolute error = 1.29\n",
            "Mean squared error = 2.77\n",
            "Median absolute error = 1.04\n",
            "Explain variance score = 0.99\n",
            "R2 score = 0.99\n",
            "____________________________________________\n",
            "___________                  _______________\n",
            "\n",
            "\n",
            "APOLLOHOSP-1m-2023-05-25.json\n",
            "Mean absolute error = 1.29\n",
            "Mean squared error = 2.77\n",
            "Median absolute error = 1.04\n",
            "Explain variance score = 0.99\n",
            "R2 score = 0.99\n",
            "____________________________________________\n",
            "___________                  _______________\n",
            "\n",
            "\n",
            "APOLLOHOSP-1m-2023-06-08.json\n",
            "Mean absolute error = 1.29\n",
            "Mean squared error = 2.77\n",
            "Median absolute error = 1.04\n",
            "Explain variance score = 0.99\n",
            "R2 score = 0.99\n",
            "____________________________________________\n",
            "___________                  _______________\n",
            "\n",
            "\n",
            "APOLLOHOSP-1m-2023-06-02.json\n",
            "Mean absolute error = 1.29\n",
            "Mean squared error = 2.77\n",
            "Median absolute error = 1.04\n",
            "Explain variance score = 0.99\n",
            "R2 score = 0.99\n",
            "____________________________________________\n",
            "___________                  _______________\n",
            "\n",
            "\n",
            "APOLLOHOSP-1m-2023-06-14.json\n",
            "Mean absolute error = 1.29\n",
            "Mean squared error = 2.77\n",
            "Median absolute error = 1.04\n",
            "Explain variance score = 0.99\n",
            "R2 score = 0.99\n",
            "____________________________________________\n",
            "___________                  _______________\n",
            "\n",
            "\n",
            "APOLLOHOSP-1m-2023-05-19.json\n",
            "Mean absolute error = 1.29\n",
            "Mean squared error = 2.77\n",
            "Median absolute error = 1.04\n",
            "Explain variance score = 0.99\n",
            "R2 score = 0.99\n",
            "____________________________________________\n",
            "___________                  _______________\n",
            "\n",
            "\n",
            "APOLLOHOSP-1m-2023-05-26.json\n",
            "Mean absolute error = 1.29\n",
            "Mean squared error = 2.77\n",
            "Median absolute error = 1.04\n",
            "Explain variance score = 0.99\n",
            "R2 score = 0.99\n",
            "____________________________________________\n",
            "___________                  _______________\n",
            "\n",
            "\n",
            "APOLLOHOSP-1m-2023-06-15.json\n",
            "Mean absolute error = 1.29\n",
            "Mean squared error = 2.77\n",
            "Median absolute error = 1.04\n",
            "Explain variance score = 0.99\n",
            "R2 score = 0.99\n",
            "____________________________________________\n",
            "___________                  _______________\n",
            "\n",
            "\n",
            "APOLLOHOSP-1m-2023-06-01.json\n",
            "Mean absolute error = 1.29\n",
            "Mean squared error = 2.77\n",
            "Median absolute error = 1.04\n",
            "Explain variance score = 0.99\n",
            "R2 score = 0.99\n",
            "____________________________________________\n",
            "___________                  _______________\n",
            "\n",
            "\n",
            "APOLLOHOSP-1m-2023-05-29.json\n",
            "Mean absolute error = 1.29\n",
            "Mean squared error = 2.77\n",
            "Median absolute error = 1.04\n",
            "Explain variance score = 0.99\n",
            "R2 score = 0.99\n",
            "____________________________________________\n",
            "___________                  _______________\n",
            "\n",
            "\n",
            "APOLLOHOSP-1m-2023-06-05.json\n",
            "Mean absolute error = 1.29\n",
            "Mean squared error = 2.77\n",
            "Median absolute error = 1.04\n",
            "Explain variance score = 0.99\n",
            "R2 score = 0.99\n",
            "____________________________________________\n",
            "___________                  _______________\n",
            "\n",
            "\n",
            "APOLLOHOSP-1m-2023-06-06.json\n",
            "Mean absolute error = 1.29\n",
            "Mean squared error = 2.77\n",
            "Median absolute error = 1.04\n",
            "Explain variance score = 0.99\n",
            "R2 score = 0.99\n",
            "____________________________________________\n",
            "___________                  _______________\n",
            "\n",
            "\n",
            "APOLLOHOSP-1m-2023-06-09.json\n",
            "Mean absolute error = 1.29\n",
            "Mean squared error = 2.77\n",
            "Median absolute error = 1.04\n",
            "Explain variance score = 0.99\n",
            "R2 score = 0.99\n",
            "____________________________________________\n",
            "___________                  _______________\n",
            "\n",
            "\n",
            "APOLLOHOSP-1m-2023-06-12.json\n",
            "Mean absolute error = 1.29\n",
            "Mean squared error = 2.77\n",
            "Median absolute error = 1.04\n",
            "Explain variance score = 0.99\n",
            "R2 score = 0.99\n",
            "____________________________________________\n",
            "___________                  _______________\n",
            "\n",
            "\n",
            "APOLLOHOSP-1m-2023-06-16.json\n",
            "Mean absolute error = 1.29\n",
            "Mean squared error = 2.77\n",
            "Median absolute error = 1.04\n",
            "Explain variance score = 0.99\n",
            "R2 score = 0.99\n",
            "____________________________________________\n",
            "___________                  _______________\n",
            "\n",
            "\n",
            "APOLLOHOSP-1m-2023-05-31.json\n",
            "Mean absolute error = 1.29\n",
            "Mean squared error = 2.77\n",
            "Median absolute error = 1.04\n",
            "Explain variance score = 0.99\n",
            "R2 score = 0.99\n",
            "____________________________________________\n",
            "___________                  _______________\n",
            "\n"
          ]
        }
      ]
    },
    {
      "cell_type": "code",
      "source": [],
      "metadata": {
        "id": "S2hkZ__IELyC"
      },
      "execution_count": null,
      "outputs": []
    },
    {
      "cell_type": "code",
      "source": [],
      "metadata": {
        "id": "8d5OOFWhJXJT"
      },
      "execution_count": null,
      "outputs": []
    },
    {
      "cell_type": "code",
      "source": [],
      "metadata": {
        "id": "M43rwOx1JvTe"
      },
      "execution_count": null,
      "outputs": []
    }
  ]
}