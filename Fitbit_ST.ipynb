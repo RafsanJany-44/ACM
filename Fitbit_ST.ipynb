{
  "nbformat": 4,
  "nbformat_minor": 0,
  "metadata": {
    "colab": {
      "provenance": [],
      "collapsed_sections": [
        "sx7QykGeXzjI",
        "qXdK1hpkYVmJ"
      ],
      "include_colab_link": true
    },
    "kernelspec": {
      "name": "python3",
      "display_name": "Python 3"
    },
    "language_info": {
      "name": "python"
    }
  },
  "cells": [
    {
      "cell_type": "markdown",
      "metadata": {
        "id": "view-in-github",
        "colab_type": "text"
      },
      "source": [
        "<a href=\"https://colab.research.google.com/github/RafsanJany-44/ARC/blob/master/Fitbit_ST.ipynb\" target=\"_parent\"><img src=\"https://colab.research.google.com/assets/colab-badge.svg\" alt=\"Open In Colab\"/></a>"
      ]
    },
    {
      "cell_type": "code",
      "execution_count": 44,
      "metadata": {
        "colab": {
          "base_uri": "https://localhost:8080/"
        },
        "id": "vj6jHu9WkVnY",
        "outputId": "8643818d-d83d-4a5b-ccb1-842817d0be01"
      },
      "outputs": [
        {
          "output_type": "stream",
          "name": "stdout",
          "text": [
            "Drive already mounted at /content/drive; to attempt to forcibly remount, call drive.mount(\"/content/drive\", force_remount=True).\n"
          ]
        }
      ],
      "source": [
        "\"\"\"from google.colab import drive\n",
        "drive.mount('/content/drive')\"\"\""
      ]
    },
    {
      "cell_type": "code",
      "source": [
        "import seaborn as sns\n",
        "import sklearn.metrics as sm\n",
        "\n",
        "\n",
        "def prim_plot(y_actual,y_pred):\n",
        "  pred_y_df=pd.DataFrame(\n",
        "      {\n",
        "          \"Actual_Value\":y_actual,\n",
        "          \"Predicted_Value\":y_pred,\n",
        "          \"Difference\":y_actual-y_pred\n",
        "      }\n",
        "  )\n",
        "\n",
        "\n",
        "  \"\"\"sns.set(rc={'figure.figsize':(12,10)})\n",
        "  scatter_poly2 = sns.lmplot(\n",
        "      data = pred_y_df,\n",
        "      x = \"Actual_Value\",\n",
        "      y = \"Predicted_Value\",\n",
        "      order = 2\n",
        "  )\"\"\"\n",
        "\n",
        "  sns.regplot(x=\"Actual_Value\", y=\"Predicted_Value\", data=pred_y_df)\n",
        "\n",
        "\n",
        "def res(y_actual,y_pred):\n",
        "  print(\"Mean absolute error =\", round(sm.mean_absolute_error(y_actual, y_pred), 2))\n",
        "  print(\"Mean squared error =\", round(sm.mean_squared_error(y_actual, y_pred), 2))\n",
        "  print(\"Median absolute error =\", round(sm.median_absolute_error(y_actual, y_pred), 2))\n",
        "  print(\"Explain variance score =\", round(sm.explained_variance_score(y_actual, y_pred), 2))\n",
        "  print(\"R2 score =\", round(sm.r2_score(y_actual, y_pred), 2))\n"
      ],
      "metadata": {
        "id": "bqsI-3H78ZAN"
      },
      "execution_count": 13,
      "outputs": []
    },
    {
      "cell_type": "code",
      "source": [
        "import numpy as np\n",
        "import pandas as pd\n",
        "from sklearn.metrics import r2_score,mean_squared_error\n",
        "#dataset=pd.read_csv(\"/content/drive/MyDrive/Iqram Sir/Fitbit_feature_merged_version_2023.06.20_ST-II&ST-V_Pre.csv\")\n",
        "dataset = pd.read_csv(\"/content/Fitbit_feature_merged_version_2023.06.26_ST-II&ST-V_Pre.csv\")\n",
        "#dataset=pd.read_csv(\"/content/drive/MyDrive/Cornell/MADE Lab/Wearable Project/Data/Fitbit ML/Feature merge/Fitbit_feature_merged_version_2023.06.20_ST-II&ST-V_Pre.csv\")\n"
      ],
      "metadata": {
        "id": "j77BeUU4sbVU"
      },
      "execution_count": 2,
      "outputs": []
    },
    {
      "cell_type": "code",
      "source": [
        "dataset.head(10)"
      ],
      "metadata": {
        "colab": {
          "base_uri": "https://localhost:8080/",
          "height": 491
        },
        "id": "G14KmjKWsn2_",
        "outputId": "4e0f6062-b91c-45aa-a0f0-9accc20653b0"
      },
      "execution_count": 3,
      "outputs": [
        {
          "output_type": "execute_result",
          "data": {
            "text/plain": [
              "  Subject Condition Activity  Epoch Duration(min)  Epoch  ST-II Max. Increase  \\\n",
              "0  002-JR       pre    Light                   10      1                  0.2   \n",
              "1  002-JR       pre    Light                   10     10                  0.2   \n",
              "2  002-JR       pre    Light                   10     11                  0.2   \n",
              "3  002-JR       pre    Light                   10     12                  0.2   \n",
              "4  002-JR       pre    Light                   10     13                  0.2   \n",
              "5  002-JR       pre    Light                   10     14                  0.2   \n",
              "6  002-JR       pre    Light                   10     15                  0.2   \n",
              "7  002-JR       pre    Light                   10     16                  0.2   \n",
              "8  002-JR       pre    Light                   10     17                  0.2   \n",
              "9  002-JR       pre    Light                   10     18                  0.2   \n",
              "\n",
              "   ST-II Max. decrease  ST-II Max-Min Difference  ST-V Max. Increase  \\\n",
              "0                  0.3                       0.5                 0.3   \n",
              "1                  0.3                       0.5                 0.3   \n",
              "2                  0.3                       0.5                 0.3   \n",
              "3                  0.3                       0.5                 0.3   \n",
              "4                  0.3                       0.5                 0.3   \n",
              "5                  0.3                       0.5                 0.3   \n",
              "6                  0.3                       0.5                 0.3   \n",
              "7                  0.3                       0.5                 0.3   \n",
              "8                  0.3                       0.5                 0.3   \n",
              "9                  0.3                       0.5                 0.3   \n",
              "\n",
              "   ST-V Max. decrease  ...  ar_norm_high  ar_ratio     ar_total       sd1  \\\n",
              "0                 0.1  ...     64.958716  0.539439  19105.45764  6.012997   \n",
              "1                 0.1  ...     64.912631  0.540532  18856.43483  6.145682   \n",
              "2                 0.1  ...     64.805043  0.543090  19193.83257  6.782934   \n",
              "3                 0.1  ...     64.862213  0.541730  19039.04728  8.357614   \n",
              "4                 0.1  ...     65.007546  0.538283  18767.08842  9.978556   \n",
              "5                 0.1  ...     64.868522  0.541580  18800.46155  6.527922   \n",
              "6                 0.1  ...     64.795921  0.543307  18778.69359  7.778589   \n",
              "7                 0.1  ...     64.784223  0.543586  18906.56635  6.443601   \n",
              "8                 0.1  ...     64.778278  0.543727  18563.27065  5.375892   \n",
              "9                 0.1  ...     65.099660  0.536106  18641.14134  7.500777   \n",
              "\n",
              "         sd2  sd_ratio  ellipse_area    sampen  dfa_alpha1  dfa_alpha2  \n",
              "0  19.842689  3.299967    374.836049  1.022451    1.470755    0.573684  \n",
              "1  21.024745  3.421060    405.929592  1.240787    1.234339    1.042289  \n",
              "2  22.110565  3.259735    471.158801  0.924949         NaN         NaN  \n",
              "3  28.930985  3.461632    759.618229  1.043804    1.534029    1.049467  \n",
              "4  44.186165  4.428112   1385.172625  1.504077    1.542662    0.948630  \n",
              "5  21.178959  3.244365    434.339619  1.376244    1.358871    0.791963  \n",
              "6  32.874130  4.226233    803.350301  1.712979    1.579461    0.753810  \n",
              "7  31.820584  4.938323    644.149531  1.029619    1.548781    0.602646  \n",
              "8  21.911972  4.075969    370.068303  1.252763    1.407493   -0.192170  \n",
              "9  26.517596  3.535313    624.870861  1.134980    1.640218    0.796802  \n",
              "\n",
              "[10 rows x 84 columns]"
            ],
            "text/html": [
              "\n",
              "  <div id=\"df-5e57dee6-4283-4608-99d7-dbd478293466\">\n",
              "    <div class=\"colab-df-container\">\n",
              "      <div>\n",
              "<style scoped>\n",
              "    .dataframe tbody tr th:only-of-type {\n",
              "        vertical-align: middle;\n",
              "    }\n",
              "\n",
              "    .dataframe tbody tr th {\n",
              "        vertical-align: top;\n",
              "    }\n",
              "\n",
              "    .dataframe thead th {\n",
              "        text-align: right;\n",
              "    }\n",
              "</style>\n",
              "<table border=\"1\" class=\"dataframe\">\n",
              "  <thead>\n",
              "    <tr style=\"text-align: right;\">\n",
              "      <th></th>\n",
              "      <th>Subject</th>\n",
              "      <th>Condition</th>\n",
              "      <th>Activity</th>\n",
              "      <th>Epoch Duration(min)</th>\n",
              "      <th>Epoch</th>\n",
              "      <th>ST-II Max. Increase</th>\n",
              "      <th>ST-II Max. decrease</th>\n",
              "      <th>ST-II Max-Min Difference</th>\n",
              "      <th>ST-V Max. Increase</th>\n",
              "      <th>ST-V Max. decrease</th>\n",
              "      <th>...</th>\n",
              "      <th>ar_norm_high</th>\n",
              "      <th>ar_ratio</th>\n",
              "      <th>ar_total</th>\n",
              "      <th>sd1</th>\n",
              "      <th>sd2</th>\n",
              "      <th>sd_ratio</th>\n",
              "      <th>ellipse_area</th>\n",
              "      <th>sampen</th>\n",
              "      <th>dfa_alpha1</th>\n",
              "      <th>dfa_alpha2</th>\n",
              "    </tr>\n",
              "  </thead>\n",
              "  <tbody>\n",
              "    <tr>\n",
              "      <th>0</th>\n",
              "      <td>002-JR</td>\n",
              "      <td>pre</td>\n",
              "      <td>Light</td>\n",
              "      <td>10</td>\n",
              "      <td>1</td>\n",
              "      <td>0.2</td>\n",
              "      <td>0.3</td>\n",
              "      <td>0.5</td>\n",
              "      <td>0.3</td>\n",
              "      <td>0.1</td>\n",
              "      <td>...</td>\n",
              "      <td>64.958716</td>\n",
              "      <td>0.539439</td>\n",
              "      <td>19105.45764</td>\n",
              "      <td>6.012997</td>\n",
              "      <td>19.842689</td>\n",
              "      <td>3.299967</td>\n",
              "      <td>374.836049</td>\n",
              "      <td>1.022451</td>\n",
              "      <td>1.470755</td>\n",
              "      <td>0.573684</td>\n",
              "    </tr>\n",
              "    <tr>\n",
              "      <th>1</th>\n",
              "      <td>002-JR</td>\n",
              "      <td>pre</td>\n",
              "      <td>Light</td>\n",
              "      <td>10</td>\n",
              "      <td>10</td>\n",
              "      <td>0.2</td>\n",
              "      <td>0.3</td>\n",
              "      <td>0.5</td>\n",
              "      <td>0.3</td>\n",
              "      <td>0.1</td>\n",
              "      <td>...</td>\n",
              "      <td>64.912631</td>\n",
              "      <td>0.540532</td>\n",
              "      <td>18856.43483</td>\n",
              "      <td>6.145682</td>\n",
              "      <td>21.024745</td>\n",
              "      <td>3.421060</td>\n",
              "      <td>405.929592</td>\n",
              "      <td>1.240787</td>\n",
              "      <td>1.234339</td>\n",
              "      <td>1.042289</td>\n",
              "    </tr>\n",
              "    <tr>\n",
              "      <th>2</th>\n",
              "      <td>002-JR</td>\n",
              "      <td>pre</td>\n",
              "      <td>Light</td>\n",
              "      <td>10</td>\n",
              "      <td>11</td>\n",
              "      <td>0.2</td>\n",
              "      <td>0.3</td>\n",
              "      <td>0.5</td>\n",
              "      <td>0.3</td>\n",
              "      <td>0.1</td>\n",
              "      <td>...</td>\n",
              "      <td>64.805043</td>\n",
              "      <td>0.543090</td>\n",
              "      <td>19193.83257</td>\n",
              "      <td>6.782934</td>\n",
              "      <td>22.110565</td>\n",
              "      <td>3.259735</td>\n",
              "      <td>471.158801</td>\n",
              "      <td>0.924949</td>\n",
              "      <td>NaN</td>\n",
              "      <td>NaN</td>\n",
              "    </tr>\n",
              "    <tr>\n",
              "      <th>3</th>\n",
              "      <td>002-JR</td>\n",
              "      <td>pre</td>\n",
              "      <td>Light</td>\n",
              "      <td>10</td>\n",
              "      <td>12</td>\n",
              "      <td>0.2</td>\n",
              "      <td>0.3</td>\n",
              "      <td>0.5</td>\n",
              "      <td>0.3</td>\n",
              "      <td>0.1</td>\n",
              "      <td>...</td>\n",
              "      <td>64.862213</td>\n",
              "      <td>0.541730</td>\n",
              "      <td>19039.04728</td>\n",
              "      <td>8.357614</td>\n",
              "      <td>28.930985</td>\n",
              "      <td>3.461632</td>\n",
              "      <td>759.618229</td>\n",
              "      <td>1.043804</td>\n",
              "      <td>1.534029</td>\n",
              "      <td>1.049467</td>\n",
              "    </tr>\n",
              "    <tr>\n",
              "      <th>4</th>\n",
              "      <td>002-JR</td>\n",
              "      <td>pre</td>\n",
              "      <td>Light</td>\n",
              "      <td>10</td>\n",
              "      <td>13</td>\n",
              "      <td>0.2</td>\n",
              "      <td>0.3</td>\n",
              "      <td>0.5</td>\n",
              "      <td>0.3</td>\n",
              "      <td>0.1</td>\n",
              "      <td>...</td>\n",
              "      <td>65.007546</td>\n",
              "      <td>0.538283</td>\n",
              "      <td>18767.08842</td>\n",
              "      <td>9.978556</td>\n",
              "      <td>44.186165</td>\n",
              "      <td>4.428112</td>\n",
              "      <td>1385.172625</td>\n",
              "      <td>1.504077</td>\n",
              "      <td>1.542662</td>\n",
              "      <td>0.948630</td>\n",
              "    </tr>\n",
              "    <tr>\n",
              "      <th>5</th>\n",
              "      <td>002-JR</td>\n",
              "      <td>pre</td>\n",
              "      <td>Light</td>\n",
              "      <td>10</td>\n",
              "      <td>14</td>\n",
              "      <td>0.2</td>\n",
              "      <td>0.3</td>\n",
              "      <td>0.5</td>\n",
              "      <td>0.3</td>\n",
              "      <td>0.1</td>\n",
              "      <td>...</td>\n",
              "      <td>64.868522</td>\n",
              "      <td>0.541580</td>\n",
              "      <td>18800.46155</td>\n",
              "      <td>6.527922</td>\n",
              "      <td>21.178959</td>\n",
              "      <td>3.244365</td>\n",
              "      <td>434.339619</td>\n",
              "      <td>1.376244</td>\n",
              "      <td>1.358871</td>\n",
              "      <td>0.791963</td>\n",
              "    </tr>\n",
              "    <tr>\n",
              "      <th>6</th>\n",
              "      <td>002-JR</td>\n",
              "      <td>pre</td>\n",
              "      <td>Light</td>\n",
              "      <td>10</td>\n",
              "      <td>15</td>\n",
              "      <td>0.2</td>\n",
              "      <td>0.3</td>\n",
              "      <td>0.5</td>\n",
              "      <td>0.3</td>\n",
              "      <td>0.1</td>\n",
              "      <td>...</td>\n",
              "      <td>64.795921</td>\n",
              "      <td>0.543307</td>\n",
              "      <td>18778.69359</td>\n",
              "      <td>7.778589</td>\n",
              "      <td>32.874130</td>\n",
              "      <td>4.226233</td>\n",
              "      <td>803.350301</td>\n",
              "      <td>1.712979</td>\n",
              "      <td>1.579461</td>\n",
              "      <td>0.753810</td>\n",
              "    </tr>\n",
              "    <tr>\n",
              "      <th>7</th>\n",
              "      <td>002-JR</td>\n",
              "      <td>pre</td>\n",
              "      <td>Light</td>\n",
              "      <td>10</td>\n",
              "      <td>16</td>\n",
              "      <td>0.2</td>\n",
              "      <td>0.3</td>\n",
              "      <td>0.5</td>\n",
              "      <td>0.3</td>\n",
              "      <td>0.1</td>\n",
              "      <td>...</td>\n",
              "      <td>64.784223</td>\n",
              "      <td>0.543586</td>\n",
              "      <td>18906.56635</td>\n",
              "      <td>6.443601</td>\n",
              "      <td>31.820584</td>\n",
              "      <td>4.938323</td>\n",
              "      <td>644.149531</td>\n",
              "      <td>1.029619</td>\n",
              "      <td>1.548781</td>\n",
              "      <td>0.602646</td>\n",
              "    </tr>\n",
              "    <tr>\n",
              "      <th>8</th>\n",
              "      <td>002-JR</td>\n",
              "      <td>pre</td>\n",
              "      <td>Light</td>\n",
              "      <td>10</td>\n",
              "      <td>17</td>\n",
              "      <td>0.2</td>\n",
              "      <td>0.3</td>\n",
              "      <td>0.5</td>\n",
              "      <td>0.3</td>\n",
              "      <td>0.1</td>\n",
              "      <td>...</td>\n",
              "      <td>64.778278</td>\n",
              "      <td>0.543727</td>\n",
              "      <td>18563.27065</td>\n",
              "      <td>5.375892</td>\n",
              "      <td>21.911972</td>\n",
              "      <td>4.075969</td>\n",
              "      <td>370.068303</td>\n",
              "      <td>1.252763</td>\n",
              "      <td>1.407493</td>\n",
              "      <td>-0.192170</td>\n",
              "    </tr>\n",
              "    <tr>\n",
              "      <th>9</th>\n",
              "      <td>002-JR</td>\n",
              "      <td>pre</td>\n",
              "      <td>Light</td>\n",
              "      <td>10</td>\n",
              "      <td>18</td>\n",
              "      <td>0.2</td>\n",
              "      <td>0.3</td>\n",
              "      <td>0.5</td>\n",
              "      <td>0.3</td>\n",
              "      <td>0.1</td>\n",
              "      <td>...</td>\n",
              "      <td>65.099660</td>\n",
              "      <td>0.536106</td>\n",
              "      <td>18641.14134</td>\n",
              "      <td>7.500777</td>\n",
              "      <td>26.517596</td>\n",
              "      <td>3.535313</td>\n",
              "      <td>624.870861</td>\n",
              "      <td>1.134980</td>\n",
              "      <td>1.640218</td>\n",
              "      <td>0.796802</td>\n",
              "    </tr>\n",
              "  </tbody>\n",
              "</table>\n",
              "<p>10 rows × 84 columns</p>\n",
              "</div>\n",
              "      <button class=\"colab-df-convert\" onclick=\"convertToInteractive('df-5e57dee6-4283-4608-99d7-dbd478293466')\"\n",
              "              title=\"Convert this dataframe to an interactive table.\"\n",
              "              style=\"display:none;\">\n",
              "        \n",
              "  <svg xmlns=\"http://www.w3.org/2000/svg\" height=\"24px\"viewBox=\"0 0 24 24\"\n",
              "       width=\"24px\">\n",
              "    <path d=\"M0 0h24v24H0V0z\" fill=\"none\"/>\n",
              "    <path d=\"M18.56 5.44l.94 2.06.94-2.06 2.06-.94-2.06-.94-.94-2.06-.94 2.06-2.06.94zm-11 1L8.5 8.5l.94-2.06 2.06-.94-2.06-.94L8.5 2.5l-.94 2.06-2.06.94zm10 10l.94 2.06.94-2.06 2.06-.94-2.06-.94-.94-2.06-.94 2.06-2.06.94z\"/><path d=\"M17.41 7.96l-1.37-1.37c-.4-.4-.92-.59-1.43-.59-.52 0-1.04.2-1.43.59L10.3 9.45l-7.72 7.72c-.78.78-.78 2.05 0 2.83L4 21.41c.39.39.9.59 1.41.59.51 0 1.02-.2 1.41-.59l7.78-7.78 2.81-2.81c.8-.78.8-2.07 0-2.86zM5.41 20L4 18.59l7.72-7.72 1.47 1.35L5.41 20z\"/>\n",
              "  </svg>\n",
              "      </button>\n",
              "      \n",
              "  <style>\n",
              "    .colab-df-container {\n",
              "      display:flex;\n",
              "      flex-wrap:wrap;\n",
              "      gap: 12px;\n",
              "    }\n",
              "\n",
              "    .colab-df-convert {\n",
              "      background-color: #E8F0FE;\n",
              "      border: none;\n",
              "      border-radius: 50%;\n",
              "      cursor: pointer;\n",
              "      display: none;\n",
              "      fill: #1967D2;\n",
              "      height: 32px;\n",
              "      padding: 0 0 0 0;\n",
              "      width: 32px;\n",
              "    }\n",
              "\n",
              "    .colab-df-convert:hover {\n",
              "      background-color: #E2EBFA;\n",
              "      box-shadow: 0px 1px 2px rgba(60, 64, 67, 0.3), 0px 1px 3px 1px rgba(60, 64, 67, 0.15);\n",
              "      fill: #174EA6;\n",
              "    }\n",
              "\n",
              "    [theme=dark] .colab-df-convert {\n",
              "      background-color: #3B4455;\n",
              "      fill: #D2E3FC;\n",
              "    }\n",
              "\n",
              "    [theme=dark] .colab-df-convert:hover {\n",
              "      background-color: #434B5C;\n",
              "      box-shadow: 0px 1px 3px 1px rgba(0, 0, 0, 0.15);\n",
              "      filter: drop-shadow(0px 1px 2px rgba(0, 0, 0, 0.3));\n",
              "      fill: #FFFFFF;\n",
              "    }\n",
              "  </style>\n",
              "\n",
              "      <script>\n",
              "        const buttonEl =\n",
              "          document.querySelector('#df-5e57dee6-4283-4608-99d7-dbd478293466 button.colab-df-convert');\n",
              "        buttonEl.style.display =\n",
              "          google.colab.kernel.accessAllowed ? 'block' : 'none';\n",
              "\n",
              "        async function convertToInteractive(key) {\n",
              "          const element = document.querySelector('#df-5e57dee6-4283-4608-99d7-dbd478293466');\n",
              "          const dataTable =\n",
              "            await google.colab.kernel.invokeFunction('convertToInteractive',\n",
              "                                                     [key], {});\n",
              "          if (!dataTable) return;\n",
              "\n",
              "          const docLinkHtml = 'Like what you see? Visit the ' +\n",
              "            '<a target=\"_blank\" href=https://colab.research.google.com/notebooks/data_table.ipynb>data table notebook</a>'\n",
              "            + ' to learn more about interactive tables.';\n",
              "          element.innerHTML = '';\n",
              "          dataTable['output_type'] = 'display_data';\n",
              "          await google.colab.output.renderOutput(dataTable, element);\n",
              "          const docLink = document.createElement('div');\n",
              "          docLink.innerHTML = docLinkHtml;\n",
              "          element.appendChild(docLink);\n",
              "        }\n",
              "      </script>\n",
              "    </div>\n",
              "  </div>\n",
              "  "
            ]
          },
          "metadata": {},
          "execution_count": 3
        }
      ]
    },
    {
      "cell_type": "code",
      "source": [
        "dataset.dropna(axis=0, how='any', inplace = True)\n",
        "dataset = dataset.reset_index(drop=True)\n"
      ],
      "metadata": {
        "id": "4580XfrViCuv"
      },
      "execution_count": 5,
      "outputs": []
    },
    {
      "cell_type": "code",
      "source": [
        "dataset.shape"
      ],
      "metadata": {
        "colab": {
          "base_uri": "https://localhost:8080/"
        },
        "id": "CSHw6o9psp-a",
        "outputId": "fd8eff99-2756-4d3f-d2be-a06fb7d380aa"
      },
      "execution_count": 6,
      "outputs": [
        {
          "output_type": "execute_result",
          "data": {
            "text/plain": [
              "(2629, 84)"
            ]
          },
          "metadata": {},
          "execution_count": 6
        }
      ]
    },
    {
      "cell_type": "code",
      "source": [
        "X = dataset.iloc[:,11:]\n",
        "y = dataset.iloc[:, 7]"
      ],
      "metadata": {
        "id": "AiTKRXiY0mdy"
      },
      "execution_count": 7,
      "outputs": []
    },
    {
      "cell_type": "code",
      "source": [
        "set(y)"
      ],
      "metadata": {
        "colab": {
          "base_uri": "https://localhost:8080/"
        },
        "id": "6bGS0-resl_E",
        "outputId": "599853bc-c699-4da6-b57e-eba9588eba61"
      },
      "execution_count": 8,
      "outputs": [
        {
          "output_type": "execute_result",
          "data": {
            "text/plain": [
              "{0.0, 0.2, 0.5, 0.6, 0.7, 0.8, 0.9, 1.0, 1.1, 1.2, 1.3, 1.4, 1.5, 1.7, 2.4}"
            ]
          },
          "metadata": {},
          "execution_count": 8
        }
      ]
    },
    {
      "cell_type": "code",
      "source": [
        "\n",
        "from sklearn.model_selection import train_test_split\n",
        "X_train, X_test, y_train, y_test = train_test_split(X, y, test_size = 0.2, random_state = 0)\n"
      ],
      "metadata": {
        "id": "gzJ19cN22KsU"
      },
      "execution_count": 9,
      "outputs": []
    },
    {
      "cell_type": "code",
      "source": [
        "from sklearn.feature_selection import SelectKBest\n",
        "bestfeatures = SelectKBest(k=20)\n",
        "fit = bestfeatures.fit(X,y)\n",
        "\n",
        "\n",
        "dfscores = pd.DataFrame(fit.scores_)\n",
        "dfcolumns = pd.DataFrame(X.columns)\n",
        "\n",
        "featureScores = pd.concat([dfcolumns,dfscores],axis=1)\n",
        "featureScores.columns = ['Specs','Score']\n",
        "\n",
        "\n",
        "number_of_feat=int(input(\"Number Of Best Features: \"))\n",
        "\n",
        "\n",
        "imp=featureScores.nlargest(number_of_feat,'Score')\n",
        "print(imp)\n",
        "\n",
        "\n",
        "list_of_feat=[]\n",
        "\n",
        "for i in range(number_of_feat):\n",
        "  list_of_feat.append(imp.iloc[:,0:1].values[i][0])\n",
        "\n",
        "\n",
        "X_new = dataset[list_of_feat]\n",
        "y_new = dataset.iloc[:, 7]"
      ],
      "metadata": {
        "id": "7SpMLBfwJhMa",
        "colab": {
          "base_uri": "https://localhost:8080/"
        },
        "outputId": "e76e9b33-8088-43ec-b85c-e203511dadd4"
      },
      "execution_count": 53,
      "outputs": [
        {
          "output_type": "stream",
          "name": "stdout",
          "text": [
            "Number Of Best Features: 30\n",
            "              Specs      Score\n",
            "19           tinn_m  61.342674\n",
            "1          nni_mean  59.403458\n",
            "18           tinn_n  52.273329\n",
            "2           nni_min  51.151625\n",
            "4           hr_mean  48.327458\n",
            "3           nni_max  47.908734\n",
            "59       ar_log_low  47.354449\n",
            "53       ar_abs_low  47.091222\n",
            "65         ar_total  44.228992\n",
            "61      ar_log_high  44.179026\n",
            "5            hr_min  43.920501\n",
            "60    ar_log_medium  43.871453\n",
            "0       nni_counter  43.594672\n",
            "55      ar_abs_high  43.354364\n",
            "54    ar_abs_medium  43.273811\n",
            "6            hr_max  40.480508\n",
            "48    lomb_log_high  37.710861\n",
            "47  lomb_log_medium  32.572507\n",
            "52       lomb_total  32.502907\n",
            "56       ar_rel_low  31.832050\n",
            "42    lomb_abs_high  31.669676\n",
            "58      ar_rel_high  29.783470\n",
            "64         ar_ratio  26.247496\n",
            "63     ar_norm_high  26.052207\n",
            "62      ar_norm_low  26.052207\n",
            "8     nni_diff_mean  23.766132\n",
            "41  lomb_abs_medium  23.113841\n",
            "7            hr_std  22.323107\n",
            "21        tri_index  22.216142\n",
            "46     lomb_log_low  21.925101\n"
          ]
        }
      ]
    },
    {
      "cell_type": "code",
      "source": [
        "X_new.shape"
      ],
      "metadata": {
        "colab": {
          "base_uri": "https://localhost:8080/"
        },
        "id": "faqcj7Lz55u_",
        "outputId": "ad8e8357-296a-4e62-d31a-0461abfd586b"
      },
      "execution_count": 54,
      "outputs": [
        {
          "output_type": "execute_result",
          "data": {
            "text/plain": [
              "(2629, 30)"
            ]
          },
          "metadata": {},
          "execution_count": 54
        }
      ]
    },
    {
      "cell_type": "code",
      "source": [
        "\n",
        "from sklearn.model_selection import train_test_split\n",
        "X_train, X_test, y_train, y_test = train_test_split(X_new, y_new, test_size = 0.2, random_state = 0)\n"
      ],
      "metadata": {
        "id": "uwlH4p3oENA7"
      },
      "execution_count": 55,
      "outputs": []
    },
    {
      "cell_type": "markdown",
      "source": [
        "\n",
        "\n",
        "---\n",
        "\n"
      ],
      "metadata": {
        "id": "ADbpJfKaobxJ"
      }
    },
    {
      "cell_type": "code",
      "source": [
        "import pandas as pd\n",
        "import numpy as np\n",
        "from sklearn import model_selection\n",
        "from sklearn.linear_model import LinearRegression\n",
        "from sklearn.linear_model import Ridge\n",
        "from sklearn.linear_model import Lasso\n",
        "from sklearn.linear_model import ElasticNet\n",
        "from sklearn.neighbors import KNeighborsRegressor\n",
        "from sklearn.tree import DecisionTreeRegressor\n",
        "from sklearn.svm import SVR\n",
        "from sklearn.ensemble import RandomForestRegressor\n",
        "from sklearn.metrics import r2_score\n",
        "from sklearn.model_selection import train_test_split\n",
        "from sklearn.metrics import mean_squared_error\n",
        "from math import sqrt\n",
        "import matplotlib.pyplot as plt"
      ],
      "metadata": {
        "id": "Z71osHGh9jcZ"
      },
      "execution_count": 10,
      "outputs": []
    },
    {
      "cell_type": "markdown",
      "source": [
        "#Decision Trees"
      ],
      "metadata": {
        "id": "-cm1DHJYAWzB"
      }
    },
    {
      "cell_type": "code",
      "source": [],
      "metadata": {
        "colab": {
          "base_uri": "https://localhost:8080/",
          "height": 74
        },
        "id": "gggxe0E59kzv",
        "outputId": "56313b1f-1626-457d-ebf2-0a5dfa641552"
      },
      "execution_count": 11,
      "outputs": [
        {
          "output_type": "execute_result",
          "data": {
            "text/plain": [
              "DecisionTreeRegressor(max_depth=8, min_samples_leaf=0.13, random_state=3)"
            ],
            "text/html": [
              "<style>#sk-container-id-1 {color: black;background-color: white;}#sk-container-id-1 pre{padding: 0;}#sk-container-id-1 div.sk-toggleable {background-color: white;}#sk-container-id-1 label.sk-toggleable__label {cursor: pointer;display: block;width: 100%;margin-bottom: 0;padding: 0.3em;box-sizing: border-box;text-align: center;}#sk-container-id-1 label.sk-toggleable__label-arrow:before {content: \"▸\";float: left;margin-right: 0.25em;color: #696969;}#sk-container-id-1 label.sk-toggleable__label-arrow:hover:before {color: black;}#sk-container-id-1 div.sk-estimator:hover label.sk-toggleable__label-arrow:before {color: black;}#sk-container-id-1 div.sk-toggleable__content {max-height: 0;max-width: 0;overflow: hidden;text-align: left;background-color: #f0f8ff;}#sk-container-id-1 div.sk-toggleable__content pre {margin: 0.2em;color: black;border-radius: 0.25em;background-color: #f0f8ff;}#sk-container-id-1 input.sk-toggleable__control:checked~div.sk-toggleable__content {max-height: 200px;max-width: 100%;overflow: auto;}#sk-container-id-1 input.sk-toggleable__control:checked~label.sk-toggleable__label-arrow:before {content: \"▾\";}#sk-container-id-1 div.sk-estimator input.sk-toggleable__control:checked~label.sk-toggleable__label {background-color: #d4ebff;}#sk-container-id-1 div.sk-label input.sk-toggleable__control:checked~label.sk-toggleable__label {background-color: #d4ebff;}#sk-container-id-1 input.sk-hidden--visually {border: 0;clip: rect(1px 1px 1px 1px);clip: rect(1px, 1px, 1px, 1px);height: 1px;margin: -1px;overflow: hidden;padding: 0;position: absolute;width: 1px;}#sk-container-id-1 div.sk-estimator {font-family: monospace;background-color: #f0f8ff;border: 1px dotted black;border-radius: 0.25em;box-sizing: border-box;margin-bottom: 0.5em;}#sk-container-id-1 div.sk-estimator:hover {background-color: #d4ebff;}#sk-container-id-1 div.sk-parallel-item::after {content: \"\";width: 100%;border-bottom: 1px solid gray;flex-grow: 1;}#sk-container-id-1 div.sk-label:hover label.sk-toggleable__label {background-color: #d4ebff;}#sk-container-id-1 div.sk-serial::before {content: \"\";position: absolute;border-left: 1px solid gray;box-sizing: border-box;top: 0;bottom: 0;left: 50%;z-index: 0;}#sk-container-id-1 div.sk-serial {display: flex;flex-direction: column;align-items: center;background-color: white;padding-right: 0.2em;padding-left: 0.2em;position: relative;}#sk-container-id-1 div.sk-item {position: relative;z-index: 1;}#sk-container-id-1 div.sk-parallel {display: flex;align-items: stretch;justify-content: center;background-color: white;position: relative;}#sk-container-id-1 div.sk-item::before, #sk-container-id-1 div.sk-parallel-item::before {content: \"\";position: absolute;border-left: 1px solid gray;box-sizing: border-box;top: 0;bottom: 0;left: 50%;z-index: -1;}#sk-container-id-1 div.sk-parallel-item {display: flex;flex-direction: column;z-index: 1;position: relative;background-color: white;}#sk-container-id-1 div.sk-parallel-item:first-child::after {align-self: flex-end;width: 50%;}#sk-container-id-1 div.sk-parallel-item:last-child::after {align-self: flex-start;width: 50%;}#sk-container-id-1 div.sk-parallel-item:only-child::after {width: 0;}#sk-container-id-1 div.sk-dashed-wrapped {border: 1px dashed gray;margin: 0 0.4em 0.5em 0.4em;box-sizing: border-box;padding-bottom: 0.4em;background-color: white;}#sk-container-id-1 div.sk-label label {font-family: monospace;font-weight: bold;display: inline-block;line-height: 1.2em;}#sk-container-id-1 div.sk-label-container {text-align: center;}#sk-container-id-1 div.sk-container {/* jupyter's `normalize.less` sets `[hidden] { display: none; }` but bootstrap.min.css set `[hidden] { display: none !important; }` so we also need the `!important` here to be able to override the default hidden behavior on the sphinx rendered scikit-learn.org. See: https://github.com/scikit-learn/scikit-learn/issues/21755 */display: inline-block !important;position: relative;}#sk-container-id-1 div.sk-text-repr-fallback {display: none;}</style><div id=\"sk-container-id-1\" class=\"sk-top-container\"><div class=\"sk-text-repr-fallback\"><pre>DecisionTreeRegressor(max_depth=8, min_samples_leaf=0.13, random_state=3)</pre><b>In a Jupyter environment, please rerun this cell to show the HTML representation or trust the notebook. <br />On GitHub, the HTML representation is unable to render, please try loading this page with nbviewer.org.</b></div><div class=\"sk-container\" hidden><div class=\"sk-item\"><div class=\"sk-estimator sk-toggleable\"><input class=\"sk-toggleable__control sk-hidden--visually\" id=\"sk-estimator-id-1\" type=\"checkbox\" checked><label for=\"sk-estimator-id-1\" class=\"sk-toggleable__label sk-toggleable__label-arrow\">DecisionTreeRegressor</label><div class=\"sk-toggleable__content\"><pre>DecisionTreeRegressor(max_depth=8, min_samples_leaf=0.13, random_state=3)</pre></div></div></div></div></div>"
            ]
          },
          "metadata": {},
          "execution_count": 11
        }
      ]
    },
    {
      "cell_type": "code",
      "source": [
        "dtree = DecisionTreeRegressor(max_depth=3, min_samples_leaf=0.003)\n",
        "dtree.fit(X_train, y_train)\n",
        "\n",
        "pred_train_tree= dtree.predict(X_train)\n",
        "print(\"Trainng Result\")\n",
        "res(y_train,pred_train_tree)\n",
        "\n",
        "print()\n",
        "\n",
        "pred_test_tree= dtree.predict(X_test)\n",
        "print(\"Trainng Result\")\n",
        "res(y_test,pred_test_tree)"
      ],
      "metadata": {
        "colab": {
          "base_uri": "https://localhost:8080/"
        },
        "id": "cgYeJYB-9kst",
        "outputId": "6188ef55-7deb-4ab2-a69a-6b3be1162c19"
      },
      "execution_count": 20,
      "outputs": [
        {
          "output_type": "stream",
          "name": "stdout",
          "text": [
            "Trainng Result\n",
            "Mean absolute error = 0.36\n",
            "Mean squared error = 0.23\n",
            "Median absolute error = 0.26\n",
            "Explain variance score = 0.3\n",
            "R2 score = 0.3\n",
            "\n",
            "Trainng Result\n",
            "Mean absolute error = 0.36\n",
            "Mean squared error = 0.22\n",
            "Median absolute error = 0.26\n",
            "Explain variance score = 0.33\n",
            "R2 score = 0.32\n"
          ]
        }
      ]
    },
    {
      "cell_type": "code",
      "source": [
        "\n",
        "\"\"\"for i in range(1,1000):\n",
        "  l=i/1000\n",
        "  print(\"------------------------------------------------------\")\n",
        "  dtree = DecisionTreeRegressor(max_depth=3, min_samples_leaf=l)\n",
        "  dtree.fit(X_train, y_train)\n",
        "  pred_test_tree= dtree.predict(X_test)\n",
        "  k = r2_score(y_test, pred_test_tree)\n",
        "  if k>0:\n",
        "    print(k,l)\"\"\""
      ],
      "metadata": {
        "id": "3GcjMtwr9ki5"
      },
      "execution_count": null,
      "outputs": []
    },
    {
      "cell_type": "code",
      "source": [],
      "metadata": {
        "id": "_XdFYQQ2ANpq"
      },
      "execution_count": 66,
      "outputs": []
    },
    {
      "cell_type": "markdown",
      "source": [
        "#Random Forest (or Bootstrap Aggregation)"
      ],
      "metadata": {
        "id": "k8jIJdRZAZ1_"
      }
    },
    {
      "cell_type": "code",
      "source": [
        "#RF model\n",
        "model_rf = RandomForestRegressor(n_estimators=500, oob_score=True)\n",
        "model_rf.fit(X_train, y_train)\n",
        "\n",
        "print(\"Training\")\n",
        "pred_train_rf= model_rf.predict(X_train)\n",
        "res(y_train,pred_train_rf)\n",
        "\n",
        "print(\"Testing\")\n",
        "pred_test_rf = model_rf.predict(X_test)\n",
        "res(y_test,pred_test_rf)"
      ],
      "metadata": {
        "colab": {
          "base_uri": "https://localhost:8080/"
        },
        "id": "AxAWU3JyAZkY",
        "outputId": "33297d78-05f6-4cc7-b448-79cdc78935ee"
      },
      "execution_count": 22,
      "outputs": [
        {
          "output_type": "stream",
          "name": "stdout",
          "text": [
            "Training\n",
            "Mean absolute error = 0.12\n",
            "Mean squared error = 0.03\n",
            "Median absolute error = 0.08\n",
            "Explain variance score = 0.92\n",
            "R2 score = 0.92\n",
            "Testing\n",
            "Mean absolute error = 0.31\n",
            "Mean squared error = 0.18\n",
            "Median absolute error = 0.24\n",
            "Explain variance score = 0.45\n",
            "R2 score = 0.44\n"
          ]
        }
      ]
    },
    {
      "cell_type": "code",
      "source": [
        "\n",
        "for i in range(700,3000,100):\n",
        "  model_rf = RandomForestRegressor(n_estimators=i, oob_score=True, random_state=100)\n",
        "  model_rf.fit(X_train, y_train)\n",
        "  pred_test_rf= model_rf.predict(X_test)\n",
        "  k = r2_score(y_test, pred_test_rf)\n",
        "  if k>0:\n",
        "    print(\"------------------------------------------------------\")\n",
        "    print(k,i)"
      ],
      "metadata": {
        "colab": {
          "base_uri": "https://localhost:8080/"
        },
        "id": "dkS__wzNAZbv",
        "outputId": "b2bd3d77-961e-4d55-cedb-6e39287accba"
      },
      "execution_count": null,
      "outputs": [
        {
          "output_type": "stream",
          "name": "stdout",
          "text": [
            "------------------------------------------------------\n",
            "0.44046790849600326 700\n",
            "------------------------------------------------------\n",
            "0.4407554125969869 800\n",
            "------------------------------------------------------\n",
            "0.4407085416576998 900\n",
            "------------------------------------------------------\n",
            "0.4400645410780243 1000\n",
            "------------------------------------------------------\n",
            "0.4401960540596688 1100\n",
            "------------------------------------------------------\n",
            "0.4400372986026142 1200\n",
            "------------------------------------------------------\n",
            "0.44095541141556005 1300\n",
            "------------------------------------------------------\n",
            "0.4407515990321551 1400\n",
            "------------------------------------------------------\n",
            "0.44103053423131855 1500\n",
            "------------------------------------------------------\n",
            "0.44237118123998387 1600\n",
            "------------------------------------------------------\n",
            "0.44162369784406996 1700\n",
            "------------------------------------------------------\n",
            "0.44226297267746684 1800\n",
            "------------------------------------------------------\n",
            "0.4421463105289615 1900\n",
            "------------------------------------------------------\n",
            "0.4419530577090681 2000\n",
            "------------------------------------------------------\n",
            "0.4414132026840666 2100\n"
          ]
        }
      ]
    },
    {
      "cell_type": "markdown",
      "source": [
        "#Logistic Regression"
      ],
      "metadata": {
        "id": "LQBN-5S4a8sU"
      }
    },
    {
      "cell_type": "code",
      "source": [
        "from sklearn.linear_model import LogisticRegression\n",
        "clf = LogisticRegression(random_state=0)\n",
        "clf.fit(X_train, y_train)\n",
        "\n",
        "\n",
        "print(\"Training\")\n",
        "pred_train= clf.predict(X_train)\n",
        "res(y_train,pred_train)\n",
        "\n",
        "print(\"Testing\")\n",
        "pred_test= clf.predict(X_test)\n",
        "res(y_test,pred_test)"
      ],
      "metadata": {
        "id": "t1avlWxEBsz9"
      },
      "execution_count": 71,
      "outputs": []
    },
    {
      "cell_type": "markdown",
      "source": [
        "#Kernel Ridge"
      ],
      "metadata": {
        "id": "MAOy0ASFSr-a"
      }
    },
    {
      "cell_type": "code",
      "source": [
        "from sklearn.kernel_ridge import KernelRidge\n",
        "krr = KernelRidge(alpha=1.0)\n",
        "krr.fit(X_train, y_train)\n",
        "\n",
        "\n",
        "print(\"Training\")\n",
        "pred_train= krr.predict(X_train)\n",
        "res(y_train,pred_train)\n",
        "\n",
        "print(\"Testing\")\n",
        "pred_test= krr.predict(X_test)\n",
        "res(y_test,pred_test)"
      ],
      "metadata": {
        "id": "iAUWI175Sylw"
      },
      "execution_count": null,
      "outputs": []
    },
    {
      "cell_type": "markdown",
      "source": [
        "#SVM"
      ],
      "metadata": {
        "id": "3qyLGIyKU8Gr"
      }
    },
    {
      "cell_type": "code",
      "source": [
        "from sklearn.svm import SVR\n",
        "from sklearn.pipeline import make_pipeline\n",
        "from sklearn.preprocessing import StandardScaler\n",
        "\n",
        "regr = make_pipeline(StandardScaler(), SVR(C=1.0, epsilon=0.2))\n",
        "regr.fit(X_train, y_train)\n",
        "\n",
        "print(\"Training\")\n",
        "pred_train= regr.predict(X_train)\n",
        "res(y_train,pred_train)\n",
        "\n",
        "print(\"Testing\")\n",
        "pred_test= regr.predict(X_test)\n",
        "res(y_test,pred_test)"
      ],
      "metadata": {
        "id": "iX1kQeilU1_a"
      },
      "execution_count": null,
      "outputs": []
    },
    {
      "cell_type": "markdown",
      "source": [
        "#Lasso"
      ],
      "metadata": {
        "id": "3IYzO_-yVAkg"
      }
    },
    {
      "cell_type": "code",
      "source": [
        "from sklearn import linear_model\n",
        "regr = linear_model.Lasso(alpha=0.1)\n",
        "regr.fit(X_train, y_train)\n",
        "\n",
        "print(\"Training\")\n",
        "pred_train= regr.predict(X_train)\n",
        "res(y_train,pred_train)\n",
        "\n",
        "print(\"Testing\")\n",
        "pred_test= regr.predict(X_test)\n",
        "res(y_test,pred_test)"
      ],
      "metadata": {
        "id": "TBe4yp4DVAJH"
      },
      "execution_count": null,
      "outputs": []
    },
    {
      "cell_type": "markdown",
      "source": [
        "#NonLinear"
      ],
      "metadata": {
        "id": "dVNm7VXgFvAr"
      }
    },
    {
      "cell_type": "code",
      "source": [
        "import numpy as np\n",
        "import json\n",
        "%matplotlib inline\n",
        "import matplotlib.pyplot as plt\n",
        "from sklearn.neural_network import MLPRegressor\n",
        "\n",
        "mlp = MLPRegressor()\n",
        "mlp.fit(X_train, y_train)\n",
        "y_pred = mlp.predict(X_test)\n",
        "\n",
        "print(r2_score(y_test, y_pred))"
      ],
      "metadata": {
        "colab": {
          "base_uri": "https://localhost:8080/"
        },
        "id": "4A-5B1lYGbDe",
        "outputId": "8cef41cf-950e-4ca1-819c-74664513f895"
      },
      "execution_count": 72,
      "outputs": [
        {
          "output_type": "stream",
          "name": "stdout",
          "text": [
            "-93.84751817362087\n"
          ]
        }
      ]
    },
    {
      "cell_type": "code",
      "source": [
        "from sklearn.gaussian_process import GaussianProcessRegressor\n",
        "from sklearn.gaussian_process.kernels import RBF\n",
        "\n",
        "kernel = RBF()\n",
        "gp = GaussianProcessRegressor(alpha=1e-1, kernel=kernel)\n",
        "print(gp.get_params())\n",
        "\n",
        "\n",
        "gp = gp.fit(X_train, y_train)\n",
        "print('Optimized kernel parameters:',gp.kernel_.get_params())\n",
        "\n",
        "\n",
        "y_pred = gp.predict(X_test)\n",
        "print(r2_score(y_test, y_pred))"
      ],
      "metadata": {
        "colab": {
          "base_uri": "https://localhost:8080/"
        },
        "id": "h2mBJHunGmMV",
        "outputId": "5f28c7d2-781b-49b9-c10c-fc2601f34ad9"
      },
      "execution_count": 73,
      "outputs": [
        {
          "output_type": "stream",
          "name": "stdout",
          "text": [
            "{'alpha': 0.1, 'copy_X_train': True, 'kernel__length_scale': 1.0, 'kernel__length_scale_bounds': (1e-05, 100000.0), 'kernel': RBF(length_scale=1), 'n_restarts_optimizer': 0, 'normalize_y': False, 'optimizer': 'fmin_l_bfgs_b', 'random_state': None}\n",
            "Optimized kernel parameters: {'length_scale': 1.0, 'length_scale_bounds': (1e-05, 100000.0)}\n",
            "-3.107174367351556\n"
          ]
        }
      ]
    },
    {
      "cell_type": "code",
      "source": [],
      "metadata": {
        "id": "Pufe7XoWJ8tE"
      },
      "execution_count": 73,
      "outputs": []
    }
  ]
}