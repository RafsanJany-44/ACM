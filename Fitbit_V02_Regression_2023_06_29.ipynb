{
  "nbformat": 4,
  "nbformat_minor": 0,
  "metadata": {
    "colab": {
      "provenance": [],
      "include_colab_link": true
    },
    "kernelspec": {
      "name": "python3",
      "display_name": "Python 3"
    },
    "language_info": {
      "name": "python"
    }
  },
  "cells": [
    {
      "cell_type": "markdown",
      "metadata": {
        "id": "view-in-github",
        "colab_type": "text"
      },
      "source": [
        "<a href=\"https://colab.research.google.com/github/RafsanJany-44/ARC/blob/master/Fitbit_V02_Regression_2023_06_29.ipynb\" target=\"_parent\"><img src=\"https://colab.research.google.com/assets/colab-badge.svg\" alt=\"Open In Colab\"/></a>"
      ]
    },
    {
      "cell_type": "code",
      "execution_count": null,
      "metadata": {
        "colab": {
          "base_uri": "https://localhost:8080/"
        },
        "id": "vj6jHu9WkVnY",
        "outputId": "fdf3c5fb-5e0b-4d75-cdfc-5badd1c01a7f"
      },
      "outputs": [
        {
          "output_type": "stream",
          "name": "stdout",
          "text": [
            "Drive already mounted at /content/drive; to attempt to forcibly remount, call drive.mount(\"/content/drive\", force_remount=True).\n"
          ]
        }
      ],
      "source": [
        "from google.colab import drive\n",
        "drive.mount('/content/drive')"
      ]
    },
    {
      "cell_type": "code",
      "source": [
        "import seaborn as sns\n",
        "import sklearn.metrics as sm\n",
        "\n",
        "\n",
        "def prim_plot(y_actual,y_pred):\n",
        "  pred_y_df=pd.DataFrame(\n",
        "      {\n",
        "          \"Actual_Value\":y_actual,\n",
        "          \"Predicted_Value\":y_pred,\n",
        "          \"Difference\":y_actual-y_pred\n",
        "      }\n",
        "  )\n",
        "\n",
        "\n",
        "  \"\"\"sns.set(rc={'figure.figsize':(12,10)})\n",
        "  scatter_poly2 = sns.lmplot(\n",
        "      data = pred_y_df,\n",
        "      x = \"Actual_Value\",\n",
        "      y = \"Predicted_Value\",\n",
        "      order = 2\n",
        "  )\"\"\"\n",
        "\n",
        "  sns.regplot(x=\"Actual_Value\", y=\"Predicted_Value\", data=pred_y_df)\n",
        "\n",
        "\n",
        "def res(y_actual,y_pred):\n",
        "  print(\"Mean absolute error =\", round(sm.mean_absolute_error(y_actual, y_pred), 2))\n",
        "  print(\"Mean squared error =\", round(sm.mean_squared_error(y_actual, y_pred), 2))\n",
        "  print(\"Median absolute error =\", round(sm.median_absolute_error(y_actual, y_pred), 2))\n",
        "  print(\"Explain variance score =\", round(sm.explained_variance_score(y_actual, y_pred), 2))\n",
        "  print(\"R2 score =\", round(sm.r2_score(y_actual, y_pred), 2))\n",
        "\n",
        "\n",
        "def sub_wise_splt(df,col,flage):\n",
        "  total_count = len(set(df[col]))\n",
        "  subjects=sorted(set(df[col]))\n",
        "\n",
        "  train_axis = []\n",
        "  test_axis = []\n",
        "\n",
        "  count = 0\n",
        "\n",
        "  for i in subjects:\n",
        "    if count <= flage:\n",
        "      train_axis.append(df.query(col+\" == '\"+i+\"'\"))\n",
        "    else:\n",
        "      test_axis.append(df.query(col+\" == '\"+i+\"'\"))\n",
        "    count+=1\n",
        "\n",
        "  return pd.concat(train_axis, axis=0).reset_index(drop = True),pd.concat(test_axis, axis=0).reset_index(drop = True)\n"
      ],
      "metadata": {
        "id": "bqsI-3H78ZAN"
      },
      "execution_count": 25,
      "outputs": []
    },
    {
      "cell_type": "code",
      "source": [
        "import numpy as np\n",
        "import pandas as pd\n",
        "from sklearn.metrics import r2_score,mean_squared_error\n",
        "#dataset=pd.read_csv(\"/content/drive/MyDrive/Iqram Sir/Fitbit_feature_merged_version_2023.06.20_ST-II&ST-V_Pre.csv\")\n",
        "dataset = pd.read_excel(\"/content/Fitbit_feature_merged_version_2023.06.29_SPO2_wo_missing column.xlsx\")\n",
        "#dataset=pd.read_excel(\"/content/drive/MyDrive/Cornell/MADE Lab/Wearable Project/Data/Fitbit ML/Feature merge/Fitbit_feature_merged_version_2023.06.29_SPO2_wo_missing column.xlsx\")\n",
        "\n",
        "target = \"DASI - VO2 peak score:\""
      ],
      "metadata": {
        "id": "j77BeUU4sbVU"
      },
      "execution_count": 4,
      "outputs": []
    },
    {
      "cell_type": "code",
      "source": [
        "dataset.head(10)"
      ],
      "metadata": {
        "colab": {
          "base_uri": "https://localhost:8080/",
          "height": 716
        },
        "id": "G14KmjKWsn2_",
        "outputId": "fb35d08b-f42c-4ea9-9bb7-587bf1700aef"
      },
      "execution_count": 20,
      "outputs": [
        {
          "output_type": "execute_result",
          "data": {
            "text/plain": [
              "  Subject Condition Activity  Epoch Duration(min)  Epoch  nni_counter  \\\n",
              "0  002-JR      post    Light                   10      1           69   \n",
              "1  002-JR      post    Light                   10    100           73   \n",
              "2  002-JR      post    Light                   10    101           78   \n",
              "3  002-JR      post    Light                   10    102           66   \n",
              "4  002-JR      post    Light                   10    103           87   \n",
              "5  002-JR      post    Light                   10    104           69   \n",
              "6  002-JR      post    Light                   10    105           65   \n",
              "7  002-JR      post    Light                   10    106           72   \n",
              "8  002-JR      post    Light                   10    107           75   \n",
              "9  002-JR      post    Light                   10    108           65   \n",
              "\n",
              "     nni_mean  nni_min  nni_max     hr_mean  ...  Gastrointestinal:.1  \\\n",
              "0  762.275362      731      810   78.784007  ...                   No   \n",
              "1  687.876712      638      740   87.334350  ...                   No   \n",
              "2  585.282051      545      645  102.611992  ...                   No   \n",
              "3  603.772727      582      645   99.417782  ...                   No   \n",
              "4  607.206897      555      740   99.222786  ...                   No   \n",
              "5  673.130435      638      740   89.201360  ...                   No   \n",
              "6  653.092308      625      722   92.003173  ...                   No   \n",
              "7  613.986111      576      674   97.842853  ...                   No   \n",
              "8  632.466667      600      714   94.975528  ...                   No   \n",
              "9  644.369231      625      659   93.128287  ...                   No   \n",
              "\n",
              "   Cardiovascular:.1  Neruological:  Wound:.1  Hematological:.1  Pain:.1  \\\n",
              "0                 No             No        No                No       No   \n",
              "1                 No             No        No                No       No   \n",
              "2                 No             No        No                No       No   \n",
              "3                 No             No        No                No       No   \n",
              "4                 No             No        No                No       No   \n",
              "5                 No             No        No                No       No   \n",
              "6                 No             No        No                No       No   \n",
              "7                 No             No        No                No       No   \n",
              "8                 No             No        No                No       No   \n",
              "9                 No             No        No                No       No   \n",
              "\n",
              "   Complete?  Has this CRF been quality checked  Date CRF was last checked:   \\\n",
              "0   Complete                                Yes                   2023-05-15   \n",
              "1   Complete                                Yes                   2023-05-15   \n",
              "2   Complete                                Yes                   2023-05-15   \n",
              "3   Complete                                Yes                   2023-05-15   \n",
              "4   Complete                                Yes                   2023-05-15   \n",
              "5   Complete                                Yes                   2023-05-15   \n",
              "6   Complete                                Yes                   2023-05-15   \n",
              "7   Complete                                Yes                   2023-05-15   \n",
              "8   Complete                                Yes                   2023-05-15   \n",
              "9   Complete                                Yes                   2023-05-15   \n",
              "\n",
              "   Complete?.1  \n",
              "0     Complete  \n",
              "1     Complete  \n",
              "2     Complete  \n",
              "3     Complete  \n",
              "4     Complete  \n",
              "5     Complete  \n",
              "6     Complete  \n",
              "7     Complete  \n",
              "8     Complete  \n",
              "9     Complete  \n",
              "\n",
              "[10 rows x 368 columns]"
            ],
            "text/html": [
              "\n",
              "  <div id=\"df-e4f5a1fc-83bd-4ae6-bb9a-7ed4130ee504\">\n",
              "    <div class=\"colab-df-container\">\n",
              "      <div>\n",
              "<style scoped>\n",
              "    .dataframe tbody tr th:only-of-type {\n",
              "        vertical-align: middle;\n",
              "    }\n",
              "\n",
              "    .dataframe tbody tr th {\n",
              "        vertical-align: top;\n",
              "    }\n",
              "\n",
              "    .dataframe thead th {\n",
              "        text-align: right;\n",
              "    }\n",
              "</style>\n",
              "<table border=\"1\" class=\"dataframe\">\n",
              "  <thead>\n",
              "    <tr style=\"text-align: right;\">\n",
              "      <th></th>\n",
              "      <th>Subject</th>\n",
              "      <th>Condition</th>\n",
              "      <th>Activity</th>\n",
              "      <th>Epoch Duration(min)</th>\n",
              "      <th>Epoch</th>\n",
              "      <th>nni_counter</th>\n",
              "      <th>nni_mean</th>\n",
              "      <th>nni_min</th>\n",
              "      <th>nni_max</th>\n",
              "      <th>hr_mean</th>\n",
              "      <th>...</th>\n",
              "      <th>Gastrointestinal:.1</th>\n",
              "      <th>Cardiovascular:.1</th>\n",
              "      <th>Neruological:</th>\n",
              "      <th>Wound:.1</th>\n",
              "      <th>Hematological:.1</th>\n",
              "      <th>Pain:.1</th>\n",
              "      <th>Complete?</th>\n",
              "      <th>Has this CRF been quality checked</th>\n",
              "      <th>Date CRF was last checked:</th>\n",
              "      <th>Complete?.1</th>\n",
              "    </tr>\n",
              "  </thead>\n",
              "  <tbody>\n",
              "    <tr>\n",
              "      <th>0</th>\n",
              "      <td>002-JR</td>\n",
              "      <td>post</td>\n",
              "      <td>Light</td>\n",
              "      <td>10</td>\n",
              "      <td>1</td>\n",
              "      <td>69</td>\n",
              "      <td>762.275362</td>\n",
              "      <td>731</td>\n",
              "      <td>810</td>\n",
              "      <td>78.784007</td>\n",
              "      <td>...</td>\n",
              "      <td>No</td>\n",
              "      <td>No</td>\n",
              "      <td>No</td>\n",
              "      <td>No</td>\n",
              "      <td>No</td>\n",
              "      <td>No</td>\n",
              "      <td>Complete</td>\n",
              "      <td>Yes</td>\n",
              "      <td>2023-05-15</td>\n",
              "      <td>Complete</td>\n",
              "    </tr>\n",
              "    <tr>\n",
              "      <th>1</th>\n",
              "      <td>002-JR</td>\n",
              "      <td>post</td>\n",
              "      <td>Light</td>\n",
              "      <td>10</td>\n",
              "      <td>100</td>\n",
              "      <td>73</td>\n",
              "      <td>687.876712</td>\n",
              "      <td>638</td>\n",
              "      <td>740</td>\n",
              "      <td>87.334350</td>\n",
              "      <td>...</td>\n",
              "      <td>No</td>\n",
              "      <td>No</td>\n",
              "      <td>No</td>\n",
              "      <td>No</td>\n",
              "      <td>No</td>\n",
              "      <td>No</td>\n",
              "      <td>Complete</td>\n",
              "      <td>Yes</td>\n",
              "      <td>2023-05-15</td>\n",
              "      <td>Complete</td>\n",
              "    </tr>\n",
              "    <tr>\n",
              "      <th>2</th>\n",
              "      <td>002-JR</td>\n",
              "      <td>post</td>\n",
              "      <td>Light</td>\n",
              "      <td>10</td>\n",
              "      <td>101</td>\n",
              "      <td>78</td>\n",
              "      <td>585.282051</td>\n",
              "      <td>545</td>\n",
              "      <td>645</td>\n",
              "      <td>102.611992</td>\n",
              "      <td>...</td>\n",
              "      <td>No</td>\n",
              "      <td>No</td>\n",
              "      <td>No</td>\n",
              "      <td>No</td>\n",
              "      <td>No</td>\n",
              "      <td>No</td>\n",
              "      <td>Complete</td>\n",
              "      <td>Yes</td>\n",
              "      <td>2023-05-15</td>\n",
              "      <td>Complete</td>\n",
              "    </tr>\n",
              "    <tr>\n",
              "      <th>3</th>\n",
              "      <td>002-JR</td>\n",
              "      <td>post</td>\n",
              "      <td>Light</td>\n",
              "      <td>10</td>\n",
              "      <td>102</td>\n",
              "      <td>66</td>\n",
              "      <td>603.772727</td>\n",
              "      <td>582</td>\n",
              "      <td>645</td>\n",
              "      <td>99.417782</td>\n",
              "      <td>...</td>\n",
              "      <td>No</td>\n",
              "      <td>No</td>\n",
              "      <td>No</td>\n",
              "      <td>No</td>\n",
              "      <td>No</td>\n",
              "      <td>No</td>\n",
              "      <td>Complete</td>\n",
              "      <td>Yes</td>\n",
              "      <td>2023-05-15</td>\n",
              "      <td>Complete</td>\n",
              "    </tr>\n",
              "    <tr>\n",
              "      <th>4</th>\n",
              "      <td>002-JR</td>\n",
              "      <td>post</td>\n",
              "      <td>Light</td>\n",
              "      <td>10</td>\n",
              "      <td>103</td>\n",
              "      <td>87</td>\n",
              "      <td>607.206897</td>\n",
              "      <td>555</td>\n",
              "      <td>740</td>\n",
              "      <td>99.222786</td>\n",
              "      <td>...</td>\n",
              "      <td>No</td>\n",
              "      <td>No</td>\n",
              "      <td>No</td>\n",
              "      <td>No</td>\n",
              "      <td>No</td>\n",
              "      <td>No</td>\n",
              "      <td>Complete</td>\n",
              "      <td>Yes</td>\n",
              "      <td>2023-05-15</td>\n",
              "      <td>Complete</td>\n",
              "    </tr>\n",
              "    <tr>\n",
              "      <th>5</th>\n",
              "      <td>002-JR</td>\n",
              "      <td>post</td>\n",
              "      <td>Light</td>\n",
              "      <td>10</td>\n",
              "      <td>104</td>\n",
              "      <td>69</td>\n",
              "      <td>673.130435</td>\n",
              "      <td>638</td>\n",
              "      <td>740</td>\n",
              "      <td>89.201360</td>\n",
              "      <td>...</td>\n",
              "      <td>No</td>\n",
              "      <td>No</td>\n",
              "      <td>No</td>\n",
              "      <td>No</td>\n",
              "      <td>No</td>\n",
              "      <td>No</td>\n",
              "      <td>Complete</td>\n",
              "      <td>Yes</td>\n",
              "      <td>2023-05-15</td>\n",
              "      <td>Complete</td>\n",
              "    </tr>\n",
              "    <tr>\n",
              "      <th>6</th>\n",
              "      <td>002-JR</td>\n",
              "      <td>post</td>\n",
              "      <td>Light</td>\n",
              "      <td>10</td>\n",
              "      <td>105</td>\n",
              "      <td>65</td>\n",
              "      <td>653.092308</td>\n",
              "      <td>625</td>\n",
              "      <td>722</td>\n",
              "      <td>92.003173</td>\n",
              "      <td>...</td>\n",
              "      <td>No</td>\n",
              "      <td>No</td>\n",
              "      <td>No</td>\n",
              "      <td>No</td>\n",
              "      <td>No</td>\n",
              "      <td>No</td>\n",
              "      <td>Complete</td>\n",
              "      <td>Yes</td>\n",
              "      <td>2023-05-15</td>\n",
              "      <td>Complete</td>\n",
              "    </tr>\n",
              "    <tr>\n",
              "      <th>7</th>\n",
              "      <td>002-JR</td>\n",
              "      <td>post</td>\n",
              "      <td>Light</td>\n",
              "      <td>10</td>\n",
              "      <td>106</td>\n",
              "      <td>72</td>\n",
              "      <td>613.986111</td>\n",
              "      <td>576</td>\n",
              "      <td>674</td>\n",
              "      <td>97.842853</td>\n",
              "      <td>...</td>\n",
              "      <td>No</td>\n",
              "      <td>No</td>\n",
              "      <td>No</td>\n",
              "      <td>No</td>\n",
              "      <td>No</td>\n",
              "      <td>No</td>\n",
              "      <td>Complete</td>\n",
              "      <td>Yes</td>\n",
              "      <td>2023-05-15</td>\n",
              "      <td>Complete</td>\n",
              "    </tr>\n",
              "    <tr>\n",
              "      <th>8</th>\n",
              "      <td>002-JR</td>\n",
              "      <td>post</td>\n",
              "      <td>Light</td>\n",
              "      <td>10</td>\n",
              "      <td>107</td>\n",
              "      <td>75</td>\n",
              "      <td>632.466667</td>\n",
              "      <td>600</td>\n",
              "      <td>714</td>\n",
              "      <td>94.975528</td>\n",
              "      <td>...</td>\n",
              "      <td>No</td>\n",
              "      <td>No</td>\n",
              "      <td>No</td>\n",
              "      <td>No</td>\n",
              "      <td>No</td>\n",
              "      <td>No</td>\n",
              "      <td>Complete</td>\n",
              "      <td>Yes</td>\n",
              "      <td>2023-05-15</td>\n",
              "      <td>Complete</td>\n",
              "    </tr>\n",
              "    <tr>\n",
              "      <th>9</th>\n",
              "      <td>002-JR</td>\n",
              "      <td>post</td>\n",
              "      <td>Light</td>\n",
              "      <td>10</td>\n",
              "      <td>108</td>\n",
              "      <td>65</td>\n",
              "      <td>644.369231</td>\n",
              "      <td>625</td>\n",
              "      <td>659</td>\n",
              "      <td>93.128287</td>\n",
              "      <td>...</td>\n",
              "      <td>No</td>\n",
              "      <td>No</td>\n",
              "      <td>No</td>\n",
              "      <td>No</td>\n",
              "      <td>No</td>\n",
              "      <td>No</td>\n",
              "      <td>Complete</td>\n",
              "      <td>Yes</td>\n",
              "      <td>2023-05-15</td>\n",
              "      <td>Complete</td>\n",
              "    </tr>\n",
              "  </tbody>\n",
              "</table>\n",
              "<p>10 rows × 368 columns</p>\n",
              "</div>\n",
              "      <button class=\"colab-df-convert\" onclick=\"convertToInteractive('df-e4f5a1fc-83bd-4ae6-bb9a-7ed4130ee504')\"\n",
              "              title=\"Convert this dataframe to an interactive table.\"\n",
              "              style=\"display:none;\">\n",
              "        \n",
              "  <svg xmlns=\"http://www.w3.org/2000/svg\" height=\"24px\"viewBox=\"0 0 24 24\"\n",
              "       width=\"24px\">\n",
              "    <path d=\"M0 0h24v24H0V0z\" fill=\"none\"/>\n",
              "    <path d=\"M18.56 5.44l.94 2.06.94-2.06 2.06-.94-2.06-.94-.94-2.06-.94 2.06-2.06.94zm-11 1L8.5 8.5l.94-2.06 2.06-.94-2.06-.94L8.5 2.5l-.94 2.06-2.06.94zm10 10l.94 2.06.94-2.06 2.06-.94-2.06-.94-.94-2.06-.94 2.06-2.06.94z\"/><path d=\"M17.41 7.96l-1.37-1.37c-.4-.4-.92-.59-1.43-.59-.52 0-1.04.2-1.43.59L10.3 9.45l-7.72 7.72c-.78.78-.78 2.05 0 2.83L4 21.41c.39.39.9.59 1.41.59.51 0 1.02-.2 1.41-.59l7.78-7.78 2.81-2.81c.8-.78.8-2.07 0-2.86zM5.41 20L4 18.59l7.72-7.72 1.47 1.35L5.41 20z\"/>\n",
              "  </svg>\n",
              "      </button>\n",
              "      \n",
              "  <style>\n",
              "    .colab-df-container {\n",
              "      display:flex;\n",
              "      flex-wrap:wrap;\n",
              "      gap: 12px;\n",
              "    }\n",
              "\n",
              "    .colab-df-convert {\n",
              "      background-color: #E8F0FE;\n",
              "      border: none;\n",
              "      border-radius: 50%;\n",
              "      cursor: pointer;\n",
              "      display: none;\n",
              "      fill: #1967D2;\n",
              "      height: 32px;\n",
              "      padding: 0 0 0 0;\n",
              "      width: 32px;\n",
              "    }\n",
              "\n",
              "    .colab-df-convert:hover {\n",
              "      background-color: #E2EBFA;\n",
              "      box-shadow: 0px 1px 2px rgba(60, 64, 67, 0.3), 0px 1px 3px 1px rgba(60, 64, 67, 0.15);\n",
              "      fill: #174EA6;\n",
              "    }\n",
              "\n",
              "    [theme=dark] .colab-df-convert {\n",
              "      background-color: #3B4455;\n",
              "      fill: #D2E3FC;\n",
              "    }\n",
              "\n",
              "    [theme=dark] .colab-df-convert:hover {\n",
              "      background-color: #434B5C;\n",
              "      box-shadow: 0px 1px 3px 1px rgba(0, 0, 0, 0.15);\n",
              "      filter: drop-shadow(0px 1px 2px rgba(0, 0, 0, 0.3));\n",
              "      fill: #FFFFFF;\n",
              "    }\n",
              "  </style>\n",
              "\n",
              "      <script>\n",
              "        const buttonEl =\n",
              "          document.querySelector('#df-e4f5a1fc-83bd-4ae6-bb9a-7ed4130ee504 button.colab-df-convert');\n",
              "        buttonEl.style.display =\n",
              "          google.colab.kernel.accessAllowed ? 'block' : 'none';\n",
              "\n",
              "        async function convertToInteractive(key) {\n",
              "          const element = document.querySelector('#df-e4f5a1fc-83bd-4ae6-bb9a-7ed4130ee504');\n",
              "          const dataTable =\n",
              "            await google.colab.kernel.invokeFunction('convertToInteractive',\n",
              "                                                     [key], {});\n",
              "          if (!dataTable) return;\n",
              "\n",
              "          const docLinkHtml = 'Like what you see? Visit the ' +\n",
              "            '<a target=\"_blank\" href=https://colab.research.google.com/notebooks/data_table.ipynb>data table notebook</a>'\n",
              "            + ' to learn more about interactive tables.';\n",
              "          element.innerHTML = '';\n",
              "          dataTable['output_type'] = 'display_data';\n",
              "          await google.colab.output.renderOutput(dataTable, element);\n",
              "          const docLink = document.createElement('div');\n",
              "          docLink.innerHTML = docLinkHtml;\n",
              "          element.appendChild(docLink);\n",
              "        }\n",
              "      </script>\n",
              "    </div>\n",
              "  </div>\n",
              "  "
            ]
          },
          "metadata": {},
          "execution_count": 20
        }
      ]
    },
    {
      "cell_type": "code",
      "source": [
        "dataset.dropna(axis=0, how='any', inplace = True)\n",
        "dataset = dataset.reset_index(drop=True)\n"
      ],
      "metadata": {
        "id": "4580XfrViCuv"
      },
      "execution_count": 5,
      "outputs": []
    },
    {
      "cell_type": "code",
      "source": [
        "dataset.shape"
      ],
      "metadata": {
        "colab": {
          "base_uri": "https://localhost:8080/"
        },
        "id": "CSHw6o9psp-a",
        "outputId": "06a6232a-f4b5-4654-e3c0-2a00e6cc44d1"
      },
      "execution_count": 6,
      "outputs": [
        {
          "output_type": "execute_result",
          "data": {
            "text/plain": [
              "(5257, 368)"
            ]
          },
          "metadata": {},
          "execution_count": 6
        }
      ]
    },
    {
      "cell_type": "markdown",
      "source": [
        "\n",
        "\n",
        "---\n",
        "\n",
        "\n",
        "\n",
        "---\n",
        "\n"
      ],
      "metadata": {
        "id": "Ggo00ZqIbiqI"
      }
    },
    {
      "cell_type": "markdown",
      "source": [
        "#Split Dataset into pre and post"
      ],
      "metadata": {
        "id": "cDmiH9AkaiKK"
      }
    },
    {
      "cell_type": "code",
      "source": [
        "pre_dataset = dataset.query(\"Condition == 'pre'\").reset_index(drop=True)\n",
        "post_dataset = dataset.query(\"Condition == 'post'\").reset_index(drop=True)"
      ],
      "metadata": {
        "id": "3Clu9J3Daht7"
      },
      "execution_count": 28,
      "outputs": []
    },
    {
      "cell_type": "markdown",
      "source": [
        "#Custom Spliting"
      ],
      "metadata": {
        "id": "ARwwb5OKaWT8"
      }
    },
    {
      "cell_type": "code",
      "source": [
        "num_of_train_sub = 15\n",
        "\n",
        "train,test = sub_wise_splt(dataset,\"Subject\",num_of_train_sub)"
      ],
      "metadata": {
        "id": "4psQy88_YwIQ"
      },
      "execution_count": 26,
      "outputs": []
    },
    {
      "cell_type": "code",
      "source": [
        "train.shape"
      ],
      "metadata": {
        "colab": {
          "base_uri": "https://localhost:8080/"
        },
        "id": "FuVLQnudY-XJ",
        "outputId": "0413ca4f-d1b0-4b40-b673-361aa9737f69"
      },
      "execution_count": 17,
      "outputs": [
        {
          "output_type": "execute_result",
          "data": {
            "text/plain": [
              "(4339, 368)"
            ]
          },
          "metadata": {},
          "execution_count": 17
        }
      ]
    },
    {
      "cell_type": "code",
      "source": [
        "test.shape"
      ],
      "metadata": {
        "colab": {
          "base_uri": "https://localhost:8080/"
        },
        "id": "v3nkpxnbZBCG",
        "outputId": "22d3154a-19c9-4723-f99d-6fac2c3c5789"
      },
      "execution_count": 18,
      "outputs": [
        {
          "output_type": "execute_result",
          "data": {
            "text/plain": [
              "(918, 368)"
            ]
          },
          "metadata": {},
          "execution_count": 18
        }
      ]
    },
    {
      "cell_type": "code",
      "source": [
        "X_train = train.iloc[:,6:116]\n",
        "X_train = X_train.loc[:, X_train.columns != \"aEE_MAX(kJ/min)\"]\n",
        "y_train = train[target]\n",
        "\n",
        "X_test = test.iloc[:,6:116]\n",
        "X_test = X_test.loc[:, X_test.columns != \"aEE_MAX(kJ/min)\"]\n",
        "y_test = test[target]"
      ],
      "metadata": {
        "id": "aEqoexK5ZNDK"
      },
      "execution_count": 19,
      "outputs": []
    },
    {
      "cell_type": "markdown",
      "source": [
        "\n",
        "\n",
        "---\n",
        "\n",
        "\n",
        "\n",
        "---\n",
        "\n"
      ],
      "metadata": {
        "id": "gxUC1TL2aZko"
      }
    },
    {
      "cell_type": "code",
      "source": [
        "X = dataset.iloc[:,6:116]"
      ],
      "metadata": {
        "id": "qenvzd73leQF"
      },
      "execution_count": null,
      "outputs": []
    },
    {
      "cell_type": "code",
      "source": [
        "X"
      ],
      "metadata": {
        "colab": {
          "base_uri": "https://localhost:8080/",
          "height": 487
        },
        "id": "FfR1HOcIlfkG",
        "outputId": "8f21485a-d485-4f45-abad-9059a3ec0e64"
      },
      "execution_count": null,
      "outputs": [
        {
          "output_type": "execute_result",
          "data": {
            "text/plain": [
              "        nni_mean  nni_min  nni_max     hr_mean     hr_min      hr_max  \\\n",
              "0     762.275362      731      810   78.784007  74.074074   82.079343   \n",
              "1     687.876712      638      740   87.334350  81.081081   94.043887   \n",
              "2     585.282051      545      645  102.611992  93.023256  110.091743   \n",
              "3     603.772727      582      645   99.417782  93.023256  103.092784   \n",
              "4     607.206897      555      740   99.222786  81.081081  108.108108   \n",
              "...          ...      ...      ...         ...        ...         ...   \n",
              "5252  682.727273      638      722   87.934633  83.102493   94.043887   \n",
              "5253  647.273973      550      714   92.985805  84.033613  109.090909   \n",
              "5254  680.418919      638      714   88.245339  84.033613   94.043887   \n",
              "5255  709.109589      594      750   84.810075  80.000000  101.010101   \n",
              "5256  742.000000      714      769   80.888507  78.023407   84.033613   \n",
              "\n",
              "        hr_std  nni_diff_mean  nni_diff_max       sdnn  ...  \\\n",
              "0     2.399731       7.970588            69  23.309228  ...   \n",
              "1     3.126509       8.805556            21  24.429004  ...   \n",
              "2     3.158249       8.571429            30  18.284830  ...   \n",
              "3     2.055189       6.953846            44  12.726466  ...   \n",
              "4     6.213326       9.441860            36  40.628532  ...   \n",
              "...        ...            ...           ...        ...  ...   \n",
              "5252  2.159835       8.394737            48  16.605038  ...   \n",
              "5253  5.373558       7.402778            30  35.464873  ...   \n",
              "5254  2.410607       5.958904            21  18.425717  ...   \n",
              "5255  4.285204       6.361111            25  33.116193  ...   \n",
              "5256  1.457738       5.700000            18  13.412148  ...   \n",
              "\n",
              "      1_min_HR_Recovery(mean)  1_min_HR_Recovery(stdev)  \\\n",
              "0                        4.01                  4.299988   \n",
              "1                        4.01                  4.299988   \n",
              "2                        4.01                  4.299988   \n",
              "3                        4.01                  4.299988   \n",
              "4                        4.01                  4.299988   \n",
              "...                       ...                       ...   \n",
              "5252                     3.40                  3.241399   \n",
              "5253                     3.40                  3.241399   \n",
              "5254                     3.40                  3.241399   \n",
              "5255                     3.40                  3.241399   \n",
              "5256                     3.40                  3.241399   \n",
              "\n",
              "      2_min_HR_Recovery(mean)  2_min_HR_Recovery(stdev)  \\\n",
              "0                        4.01                  4.299988   \n",
              "1                        4.01                  4.299988   \n",
              "2                        4.01                  4.299988   \n",
              "3                        4.01                  4.299988   \n",
              "4                        4.01                  4.299988   \n",
              "...                       ...                       ...   \n",
              "5252                     3.40                  3.241399   \n",
              "5253                     3.40                  3.241399   \n",
              "5254                     3.40                  3.241399   \n",
              "5255                     3.40                  3.241399   \n",
              "5256                     3.40                  3.241399   \n",
              "\n",
              "      3_min_HR_Recovery(mean)  3_min_HR_Recovery(stdev)  \\\n",
              "0                        4.01                  4.299988   \n",
              "1                        4.01                  4.299988   \n",
              "2                        4.01                  4.299988   \n",
              "3                        4.01                  4.299988   \n",
              "4                        4.01                  4.299988   \n",
              "...                       ...                       ...   \n",
              "5252                     3.40                  3.241399   \n",
              "5253                     3.40                  3.241399   \n",
              "5254                     3.40                  3.241399   \n",
              "5255                     3.40                  3.241399   \n",
              "5256                     3.40                  3.241399   \n",
              "\n",
              "      4_min_HR_Recovery(mean)  4_min_HR_Recovery(stdev)  \\\n",
              "0                        4.01                  4.299988   \n",
              "1                        4.01                  4.299988   \n",
              "2                        4.01                  4.299988   \n",
              "3                        4.01                  4.299988   \n",
              "4                        4.01                  4.299988   \n",
              "...                       ...                       ...   \n",
              "5252                     3.40                  3.241399   \n",
              "5253                     3.40                  3.241399   \n",
              "5254                     3.40                  3.241399   \n",
              "5255                     3.40                  3.241399   \n",
              "5256                     3.40                  3.241399   \n",
              "\n",
              "      5_min_HR_Recovery(mean)  5_min_HR_Recovery(stdev)  \n",
              "0                        4.01                  4.299988  \n",
              "1                        4.01                  4.299988  \n",
              "2                        4.01                  4.299988  \n",
              "3                        4.01                  4.299988  \n",
              "4                        4.01                  4.299988  \n",
              "...                       ...                       ...  \n",
              "5252                     3.40                  3.241399  \n",
              "5253                     3.40                  3.241399  \n",
              "5254                     3.40                  3.241399  \n",
              "5255                     3.40                  3.241399  \n",
              "5256                     3.40                  3.241399  \n",
              "\n",
              "[5257 rows x 110 columns]"
            ],
            "text/html": [
              "\n",
              "  <div id=\"df-a7d5bca9-f2a2-4376-ac2c-43b9663ca7b7\">\n",
              "    <div class=\"colab-df-container\">\n",
              "      <div>\n",
              "<style scoped>\n",
              "    .dataframe tbody tr th:only-of-type {\n",
              "        vertical-align: middle;\n",
              "    }\n",
              "\n",
              "    .dataframe tbody tr th {\n",
              "        vertical-align: top;\n",
              "    }\n",
              "\n",
              "    .dataframe thead th {\n",
              "        text-align: right;\n",
              "    }\n",
              "</style>\n",
              "<table border=\"1\" class=\"dataframe\">\n",
              "  <thead>\n",
              "    <tr style=\"text-align: right;\">\n",
              "      <th></th>\n",
              "      <th>nni_mean</th>\n",
              "      <th>nni_min</th>\n",
              "      <th>nni_max</th>\n",
              "      <th>hr_mean</th>\n",
              "      <th>hr_min</th>\n",
              "      <th>hr_max</th>\n",
              "      <th>hr_std</th>\n",
              "      <th>nni_diff_mean</th>\n",
              "      <th>nni_diff_max</th>\n",
              "      <th>sdnn</th>\n",
              "      <th>...</th>\n",
              "      <th>1_min_HR_Recovery(mean)</th>\n",
              "      <th>1_min_HR_Recovery(stdev)</th>\n",
              "      <th>2_min_HR_Recovery(mean)</th>\n",
              "      <th>2_min_HR_Recovery(stdev)</th>\n",
              "      <th>3_min_HR_Recovery(mean)</th>\n",
              "      <th>3_min_HR_Recovery(stdev)</th>\n",
              "      <th>4_min_HR_Recovery(mean)</th>\n",
              "      <th>4_min_HR_Recovery(stdev)</th>\n",
              "      <th>5_min_HR_Recovery(mean)</th>\n",
              "      <th>5_min_HR_Recovery(stdev)</th>\n",
              "    </tr>\n",
              "  </thead>\n",
              "  <tbody>\n",
              "    <tr>\n",
              "      <th>0</th>\n",
              "      <td>762.275362</td>\n",
              "      <td>731</td>\n",
              "      <td>810</td>\n",
              "      <td>78.784007</td>\n",
              "      <td>74.074074</td>\n",
              "      <td>82.079343</td>\n",
              "      <td>2.399731</td>\n",
              "      <td>7.970588</td>\n",
              "      <td>69</td>\n",
              "      <td>23.309228</td>\n",
              "      <td>...</td>\n",
              "      <td>4.01</td>\n",
              "      <td>4.299988</td>\n",
              "      <td>4.01</td>\n",
              "      <td>4.299988</td>\n",
              "      <td>4.01</td>\n",
              "      <td>4.299988</td>\n",
              "      <td>4.01</td>\n",
              "      <td>4.299988</td>\n",
              "      <td>4.01</td>\n",
              "      <td>4.299988</td>\n",
              "    </tr>\n",
              "    <tr>\n",
              "      <th>1</th>\n",
              "      <td>687.876712</td>\n",
              "      <td>638</td>\n",
              "      <td>740</td>\n",
              "      <td>87.334350</td>\n",
              "      <td>81.081081</td>\n",
              "      <td>94.043887</td>\n",
              "      <td>3.126509</td>\n",
              "      <td>8.805556</td>\n",
              "      <td>21</td>\n",
              "      <td>24.429004</td>\n",
              "      <td>...</td>\n",
              "      <td>4.01</td>\n",
              "      <td>4.299988</td>\n",
              "      <td>4.01</td>\n",
              "      <td>4.299988</td>\n",
              "      <td>4.01</td>\n",
              "      <td>4.299988</td>\n",
              "      <td>4.01</td>\n",
              "      <td>4.299988</td>\n",
              "      <td>4.01</td>\n",
              "      <td>4.299988</td>\n",
              "    </tr>\n",
              "    <tr>\n",
              "      <th>2</th>\n",
              "      <td>585.282051</td>\n",
              "      <td>545</td>\n",
              "      <td>645</td>\n",
              "      <td>102.611992</td>\n",
              "      <td>93.023256</td>\n",
              "      <td>110.091743</td>\n",
              "      <td>3.158249</td>\n",
              "      <td>8.571429</td>\n",
              "      <td>30</td>\n",
              "      <td>18.284830</td>\n",
              "      <td>...</td>\n",
              "      <td>4.01</td>\n",
              "      <td>4.299988</td>\n",
              "      <td>4.01</td>\n",
              "      <td>4.299988</td>\n",
              "      <td>4.01</td>\n",
              "      <td>4.299988</td>\n",
              "      <td>4.01</td>\n",
              "      <td>4.299988</td>\n",
              "      <td>4.01</td>\n",
              "      <td>4.299988</td>\n",
              "    </tr>\n",
              "    <tr>\n",
              "      <th>3</th>\n",
              "      <td>603.772727</td>\n",
              "      <td>582</td>\n",
              "      <td>645</td>\n",
              "      <td>99.417782</td>\n",
              "      <td>93.023256</td>\n",
              "      <td>103.092784</td>\n",
              "      <td>2.055189</td>\n",
              "      <td>6.953846</td>\n",
              "      <td>44</td>\n",
              "      <td>12.726466</td>\n",
              "      <td>...</td>\n",
              "      <td>4.01</td>\n",
              "      <td>4.299988</td>\n",
              "      <td>4.01</td>\n",
              "      <td>4.299988</td>\n",
              "      <td>4.01</td>\n",
              "      <td>4.299988</td>\n",
              "      <td>4.01</td>\n",
              "      <td>4.299988</td>\n",
              "      <td>4.01</td>\n",
              "      <td>4.299988</td>\n",
              "    </tr>\n",
              "    <tr>\n",
              "      <th>4</th>\n",
              "      <td>607.206897</td>\n",
              "      <td>555</td>\n",
              "      <td>740</td>\n",
              "      <td>99.222786</td>\n",
              "      <td>81.081081</td>\n",
              "      <td>108.108108</td>\n",
              "      <td>6.213326</td>\n",
              "      <td>9.441860</td>\n",
              "      <td>36</td>\n",
              "      <td>40.628532</td>\n",
              "      <td>...</td>\n",
              "      <td>4.01</td>\n",
              "      <td>4.299988</td>\n",
              "      <td>4.01</td>\n",
              "      <td>4.299988</td>\n",
              "      <td>4.01</td>\n",
              "      <td>4.299988</td>\n",
              "      <td>4.01</td>\n",
              "      <td>4.299988</td>\n",
              "      <td>4.01</td>\n",
              "      <td>4.299988</td>\n",
              "    </tr>\n",
              "    <tr>\n",
              "      <th>...</th>\n",
              "      <td>...</td>\n",
              "      <td>...</td>\n",
              "      <td>...</td>\n",
              "      <td>...</td>\n",
              "      <td>...</td>\n",
              "      <td>...</td>\n",
              "      <td>...</td>\n",
              "      <td>...</td>\n",
              "      <td>...</td>\n",
              "      <td>...</td>\n",
              "      <td>...</td>\n",
              "      <td>...</td>\n",
              "      <td>...</td>\n",
              "      <td>...</td>\n",
              "      <td>...</td>\n",
              "      <td>...</td>\n",
              "      <td>...</td>\n",
              "      <td>...</td>\n",
              "      <td>...</td>\n",
              "      <td>...</td>\n",
              "      <td>...</td>\n",
              "    </tr>\n",
              "    <tr>\n",
              "      <th>5252</th>\n",
              "      <td>682.727273</td>\n",
              "      <td>638</td>\n",
              "      <td>722</td>\n",
              "      <td>87.934633</td>\n",
              "      <td>83.102493</td>\n",
              "      <td>94.043887</td>\n",
              "      <td>2.159835</td>\n",
              "      <td>8.394737</td>\n",
              "      <td>48</td>\n",
              "      <td>16.605038</td>\n",
              "      <td>...</td>\n",
              "      <td>3.40</td>\n",
              "      <td>3.241399</td>\n",
              "      <td>3.40</td>\n",
              "      <td>3.241399</td>\n",
              "      <td>3.40</td>\n",
              "      <td>3.241399</td>\n",
              "      <td>3.40</td>\n",
              "      <td>3.241399</td>\n",
              "      <td>3.40</td>\n",
              "      <td>3.241399</td>\n",
              "    </tr>\n",
              "    <tr>\n",
              "      <th>5253</th>\n",
              "      <td>647.273973</td>\n",
              "      <td>550</td>\n",
              "      <td>714</td>\n",
              "      <td>92.985805</td>\n",
              "      <td>84.033613</td>\n",
              "      <td>109.090909</td>\n",
              "      <td>5.373558</td>\n",
              "      <td>7.402778</td>\n",
              "      <td>30</td>\n",
              "      <td>35.464873</td>\n",
              "      <td>...</td>\n",
              "      <td>3.40</td>\n",
              "      <td>3.241399</td>\n",
              "      <td>3.40</td>\n",
              "      <td>3.241399</td>\n",
              "      <td>3.40</td>\n",
              "      <td>3.241399</td>\n",
              "      <td>3.40</td>\n",
              "      <td>3.241399</td>\n",
              "      <td>3.40</td>\n",
              "      <td>3.241399</td>\n",
              "    </tr>\n",
              "    <tr>\n",
              "      <th>5254</th>\n",
              "      <td>680.418919</td>\n",
              "      <td>638</td>\n",
              "      <td>714</td>\n",
              "      <td>88.245339</td>\n",
              "      <td>84.033613</td>\n",
              "      <td>94.043887</td>\n",
              "      <td>2.410607</td>\n",
              "      <td>5.958904</td>\n",
              "      <td>21</td>\n",
              "      <td>18.425717</td>\n",
              "      <td>...</td>\n",
              "      <td>3.40</td>\n",
              "      <td>3.241399</td>\n",
              "      <td>3.40</td>\n",
              "      <td>3.241399</td>\n",
              "      <td>3.40</td>\n",
              "      <td>3.241399</td>\n",
              "      <td>3.40</td>\n",
              "      <td>3.241399</td>\n",
              "      <td>3.40</td>\n",
              "      <td>3.241399</td>\n",
              "    </tr>\n",
              "    <tr>\n",
              "      <th>5255</th>\n",
              "      <td>709.109589</td>\n",
              "      <td>594</td>\n",
              "      <td>750</td>\n",
              "      <td>84.810075</td>\n",
              "      <td>80.000000</td>\n",
              "      <td>101.010101</td>\n",
              "      <td>4.285204</td>\n",
              "      <td>6.361111</td>\n",
              "      <td>25</td>\n",
              "      <td>33.116193</td>\n",
              "      <td>...</td>\n",
              "      <td>3.40</td>\n",
              "      <td>3.241399</td>\n",
              "      <td>3.40</td>\n",
              "      <td>3.241399</td>\n",
              "      <td>3.40</td>\n",
              "      <td>3.241399</td>\n",
              "      <td>3.40</td>\n",
              "      <td>3.241399</td>\n",
              "      <td>3.40</td>\n",
              "      <td>3.241399</td>\n",
              "    </tr>\n",
              "    <tr>\n",
              "      <th>5256</th>\n",
              "      <td>742.000000</td>\n",
              "      <td>714</td>\n",
              "      <td>769</td>\n",
              "      <td>80.888507</td>\n",
              "      <td>78.023407</td>\n",
              "      <td>84.033613</td>\n",
              "      <td>1.457738</td>\n",
              "      <td>5.700000</td>\n",
              "      <td>18</td>\n",
              "      <td>13.412148</td>\n",
              "      <td>...</td>\n",
              "      <td>3.40</td>\n",
              "      <td>3.241399</td>\n",
              "      <td>3.40</td>\n",
              "      <td>3.241399</td>\n",
              "      <td>3.40</td>\n",
              "      <td>3.241399</td>\n",
              "      <td>3.40</td>\n",
              "      <td>3.241399</td>\n",
              "      <td>3.40</td>\n",
              "      <td>3.241399</td>\n",
              "    </tr>\n",
              "  </tbody>\n",
              "</table>\n",
              "<p>5257 rows × 110 columns</p>\n",
              "</div>\n",
              "      <button class=\"colab-df-convert\" onclick=\"convertToInteractive('df-a7d5bca9-f2a2-4376-ac2c-43b9663ca7b7')\"\n",
              "              title=\"Convert this dataframe to an interactive table.\"\n",
              "              style=\"display:none;\">\n",
              "        \n",
              "  <svg xmlns=\"http://www.w3.org/2000/svg\" height=\"24px\"viewBox=\"0 0 24 24\"\n",
              "       width=\"24px\">\n",
              "    <path d=\"M0 0h24v24H0V0z\" fill=\"none\"/>\n",
              "    <path d=\"M18.56 5.44l.94 2.06.94-2.06 2.06-.94-2.06-.94-.94-2.06-.94 2.06-2.06.94zm-11 1L8.5 8.5l.94-2.06 2.06-.94-2.06-.94L8.5 2.5l-.94 2.06-2.06.94zm10 10l.94 2.06.94-2.06 2.06-.94-2.06-.94-.94-2.06-.94 2.06-2.06.94z\"/><path d=\"M17.41 7.96l-1.37-1.37c-.4-.4-.92-.59-1.43-.59-.52 0-1.04.2-1.43.59L10.3 9.45l-7.72 7.72c-.78.78-.78 2.05 0 2.83L4 21.41c.39.39.9.59 1.41.59.51 0 1.02-.2 1.41-.59l7.78-7.78 2.81-2.81c.8-.78.8-2.07 0-2.86zM5.41 20L4 18.59l7.72-7.72 1.47 1.35L5.41 20z\"/>\n",
              "  </svg>\n",
              "      </button>\n",
              "      \n",
              "  <style>\n",
              "    .colab-df-container {\n",
              "      display:flex;\n",
              "      flex-wrap:wrap;\n",
              "      gap: 12px;\n",
              "    }\n",
              "\n",
              "    .colab-df-convert {\n",
              "      background-color: #E8F0FE;\n",
              "      border: none;\n",
              "      border-radius: 50%;\n",
              "      cursor: pointer;\n",
              "      display: none;\n",
              "      fill: #1967D2;\n",
              "      height: 32px;\n",
              "      padding: 0 0 0 0;\n",
              "      width: 32px;\n",
              "    }\n",
              "\n",
              "    .colab-df-convert:hover {\n",
              "      background-color: #E2EBFA;\n",
              "      box-shadow: 0px 1px 2px rgba(60, 64, 67, 0.3), 0px 1px 3px 1px rgba(60, 64, 67, 0.15);\n",
              "      fill: #174EA6;\n",
              "    }\n",
              "\n",
              "    [theme=dark] .colab-df-convert {\n",
              "      background-color: #3B4455;\n",
              "      fill: #D2E3FC;\n",
              "    }\n",
              "\n",
              "    [theme=dark] .colab-df-convert:hover {\n",
              "      background-color: #434B5C;\n",
              "      box-shadow: 0px 1px 3px 1px rgba(0, 0, 0, 0.15);\n",
              "      filter: drop-shadow(0px 1px 2px rgba(0, 0, 0, 0.3));\n",
              "      fill: #FFFFFF;\n",
              "    }\n",
              "  </style>\n",
              "\n",
              "      <script>\n",
              "        const buttonEl =\n",
              "          document.querySelector('#df-a7d5bca9-f2a2-4376-ac2c-43b9663ca7b7 button.colab-df-convert');\n",
              "        buttonEl.style.display =\n",
              "          google.colab.kernel.accessAllowed ? 'block' : 'none';\n",
              "\n",
              "        async function convertToInteractive(key) {\n",
              "          const element = document.querySelector('#df-a7d5bca9-f2a2-4376-ac2c-43b9663ca7b7');\n",
              "          const dataTable =\n",
              "            await google.colab.kernel.invokeFunction('convertToInteractive',\n",
              "                                                     [key], {});\n",
              "          if (!dataTable) return;\n",
              "\n",
              "          const docLinkHtml = 'Like what you see? Visit the ' +\n",
              "            '<a target=\"_blank\" href=https://colab.research.google.com/notebooks/data_table.ipynb>data table notebook</a>'\n",
              "            + ' to learn more about interactive tables.';\n",
              "          element.innerHTML = '';\n",
              "          dataTable['output_type'] = 'display_data';\n",
              "          await google.colab.output.renderOutput(dataTable, element);\n",
              "          const docLink = document.createElement('div');\n",
              "          docLink.innerHTML = docLinkHtml;\n",
              "          element.appendChild(docLink);\n",
              "        }\n",
              "      </script>\n",
              "    </div>\n",
              "  </div>\n",
              "  "
            ]
          },
          "metadata": {},
          "execution_count": 42
        }
      ]
    },
    {
      "cell_type": "code",
      "source": [
        "X = dataset.iloc[:,6:116]\n",
        "X = X.loc[:, X.columns != \"aEE_MAX(kJ/min)\"]\n",
        "y = dataset.iloc[:, 184]"
      ],
      "metadata": {
        "id": "AiTKRXiY0mdy"
      },
      "execution_count": null,
      "outputs": []
    },
    {
      "cell_type": "code",
      "source": [
        "set(X)"
      ],
      "metadata": {
        "colab": {
          "base_uri": "https://localhost:8080/"
        },
        "id": "6bGS0-resl_E",
        "outputId": "fd190638-6428-467a-f8d7-2653e2626320"
      },
      "execution_count": null,
      "outputs": [
        {
          "output_type": "execute_result",
          "data": {
            "text/plain": [
              "{'1_min_HR_Recovery(mean)',\n",
              " '1_min_HR_Recovery(stdev)',\n",
              " '2_min_HR_Recovery(mean)',\n",
              " '2_min_HR_Recovery(stdev)',\n",
              " '3_min_HR_Recovery(mean)',\n",
              " '3_min_HR_Recovery(stdev)',\n",
              " '4_min_HR_Recovery(mean)',\n",
              " '4_min_HR_Recovery(stdev)',\n",
              " '5_min_HR_Recovery(mean)',\n",
              " '5_min_HR_Recovery(stdev)',\n",
              " 'HR_MAX(BPM)',\n",
              " 'ar_abs_high',\n",
              " 'ar_abs_low',\n",
              " 'ar_abs_medium',\n",
              " 'ar_bands_hf_max',\n",
              " 'ar_bands_hf_min',\n",
              " 'ar_bands_lf_max',\n",
              " 'ar_bands_lf_min',\n",
              " 'ar_bands_vlf_max',\n",
              " 'ar_bands_vlf_min',\n",
              " 'ar_log_high',\n",
              " 'ar_log_low',\n",
              " 'ar_log_medium',\n",
              " 'ar_nfft',\n",
              " 'ar_norm_high',\n",
              " 'ar_norm_low',\n",
              " 'ar_order',\n",
              " 'ar_peak_high',\n",
              " 'ar_peak_low',\n",
              " 'ar_peak_medium',\n",
              " 'ar_ratio',\n",
              " 'ar_rel_high',\n",
              " 'ar_rel_low',\n",
              " 'ar_rel_medium',\n",
              " 'ar_resampling_frequency',\n",
              " 'ar_total',\n",
              " 'dfa_alpha1',\n",
              " 'dfa_alpha2',\n",
              " 'ellipse_area',\n",
              " 'fft_abs_high',\n",
              " 'fft_abs_low',\n",
              " 'fft_abs_medium',\n",
              " 'fft_bands_hf_max',\n",
              " 'fft_bands_hf_min',\n",
              " 'fft_bands_lf_max',\n",
              " 'fft_bands_lf_min',\n",
              " 'fft_bands_vlf_max',\n",
              " 'fft_bands_vlf_min',\n",
              " 'fft_log_high',\n",
              " 'fft_log_low',\n",
              " 'fft_log_medium',\n",
              " 'fft_nfft',\n",
              " 'fft_norm_high',\n",
              " 'fft_norm_low',\n",
              " 'fft_peak_high',\n",
              " 'fft_peak_low',\n",
              " 'fft_peak_medium',\n",
              " 'fft_ratio',\n",
              " 'fft_rel_low',\n",
              " 'fft_rel_medium',\n",
              " 'fft_resampling_frequency',\n",
              " 'fft_total',\n",
              " 'hr_max',\n",
              " 'hr_mean',\n",
              " 'hr_min',\n",
              " 'hr_std',\n",
              " 'lomb_abs_high',\n",
              " 'lomb_abs_low',\n",
              " 'lomb_abs_medium',\n",
              " 'lomb_bands_hf_max',\n",
              " 'lomb_bands_hf_min',\n",
              " 'lomb_bands_lf_max',\n",
              " 'lomb_bands_lf_min',\n",
              " 'lomb_bands_vlf_max',\n",
              " 'lomb_bands_vlf_min',\n",
              " 'lomb_log_high',\n",
              " 'lomb_log_low',\n",
              " 'lomb_log_medium',\n",
              " 'lomb_nfft',\n",
              " 'lomb_norm_Low',\n",
              " 'lomb_norm_high',\n",
              " 'lomb_peak_high',\n",
              " 'lomb_peak_low',\n",
              " 'lomb_peak_medium',\n",
              " 'lomb_ratio',\n",
              " 'lomb_rel_high',\n",
              " 'lomb_rel_low',\n",
              " 'lomb_rel_medium',\n",
              " 'lomb_total',\n",
              " 'nn20',\n",
              " 'nn50',\n",
              " 'nni_diff_max',\n",
              " 'nni_diff_mean',\n",
              " 'nni_max',\n",
              " 'nni_mean',\n",
              " 'nni_min',\n",
              " 'pnn20',\n",
              " 'pnn50',\n",
              " 'rmssd',\n",
              " 'sampen',\n",
              " 'sd1',\n",
              " 'sd2',\n",
              " 'sd_ratio',\n",
              " 'sdnn',\n",
              " 'sdsd',\n",
              " 'tinn',\n",
              " 'tinn_m',\n",
              " 'tinn_n',\n",
              " 'tri_index'}"
            ]
          },
          "metadata": {},
          "execution_count": 49
        }
      ]
    },
    {
      "cell_type": "code",
      "source": [
        "set(y)"
      ],
      "metadata": {
        "colab": {
          "base_uri": "https://localhost:8080/"
        },
        "id": "jSUrgCumr3KY",
        "outputId": "6e8f5267-9839-4fb8-e67b-ffc608b7ffe8"
      },
      "execution_count": null,
      "outputs": [
        {
          "output_type": "execute_result",
          "data": {
            "text/plain": [
              "{7.7, 20.0, 20.01, 21.94, 22.6, 23.4, 24.52, 25.7, 28.8, 31.4, 34.63}"
            ]
          },
          "metadata": {},
          "execution_count": 50
        }
      ]
    },
    {
      "cell_type": "code",
      "source": [
        "\n",
        "from sklearn.model_selection import train_test_split\n",
        "X_train, X_test, y_train, y_test = train_test_split(X, y, test_size = 0.2, random_state = 0)\n"
      ],
      "metadata": {
        "id": "gzJ19cN22KsU"
      },
      "execution_count": null,
      "outputs": []
    },
    {
      "cell_type": "code",
      "source": [
        "column_name = 'DASI - VO2 peak score:'\n",
        "column_index = dataset.columns.get_loc(column_name)\n",
        "column_index"
      ],
      "metadata": {
        "colab": {
          "base_uri": "https://localhost:8080/"
        },
        "id": "yTM4A2PEqydO",
        "outputId": "ff44c46f-240f-4ef9-9539-8bbad99b0888"
      },
      "execution_count": null,
      "outputs": [
        {
          "output_type": "execute_result",
          "data": {
            "text/plain": [
              "184"
            ]
          },
          "metadata": {},
          "execution_count": 33
        }
      ]
    },
    {
      "cell_type": "code",
      "source": [
        "from sklearn.feature_selection import SelectKBest\n",
        "bestfeatures = SelectKBest(k=20)\n",
        "fit = bestfeatures.fit(X,y)\n",
        "\n",
        "\n",
        "dfscores = pd.DataFrame(fit.scores_)\n",
        "dfcolumns = pd.DataFrame(X.columns)\n",
        "\n",
        "featureScores = pd.concat([dfcolumns,dfscores],axis=1)\n",
        "featureScores.columns = ['Specs','Score']\n",
        "\n",
        "\n",
        "number_of_feat=int(input(\"Number Of Best Features: \"))\n",
        "\n",
        "\n",
        "imp=featureScores.nlargest(number_of_feat,'Score')\n",
        "print(imp)\n",
        "\n",
        "\n",
        "list_of_feat=[]\n",
        "\n",
        "for i in range(number_of_feat):\n",
        "  list_of_feat.append(imp.iloc[:,0:1].values[i][0])\n",
        "\n",
        "\n",
        "X_new = dataset[list_of_feat]\n",
        "y_new = dataset.iloc[:, 184]"
      ],
      "metadata": {
        "id": "7SpMLBfwJhMa",
        "colab": {
          "base_uri": "https://localhost:8080/"
        },
        "outputId": "a0eb9658-13df-497b-f091-6f2cb15554c6"
      },
      "execution_count": null,
      "outputs": [
        {
          "output_type": "stream",
          "name": "stderr",
          "text": [
            "/usr/local/lib/python3.10/dist-packages/sklearn/feature_selection/_univariate_selection.py:112: UserWarning: Features [20 41 42 43 65 66 72 74 88 89 90] are constant.\n",
            "  warnings.warn(\"Features %s are constant.\" % constant_features_idx, UserWarning)\n",
            "/usr/local/lib/python3.10/dist-packages/sklearn/feature_selection/_univariate_selection.py:113: RuntimeWarning: invalid value encountered in true_divide\n",
            "  f = msb / msw\n"
          ]
        },
        {
          "output_type": "stream",
          "name": "stdout",
          "text": [
            "Number Of Best Features: 35\n",
            "                        Specs       Score\n",
            "98                HR_MAX(BPM)  285.195679\n",
            "100  1_min_HR_Recovery(stdev)  126.171901\n",
            "102  2_min_HR_Recovery(stdev)  126.171901\n",
            "104  3_min_HR_Recovery(stdev)  126.171901\n",
            "106  4_min_HR_Recovery(stdev)  126.171901\n",
            "108  5_min_HR_Recovery(stdev)  126.171901\n",
            "99    1_min_HR_Recovery(mean)   92.021787\n",
            "101   2_min_HR_Recovery(mean)   92.021787\n",
            "103   3_min_HR_Recovery(mean)   92.021787\n",
            "105   4_min_HR_Recovery(mean)   92.021787\n",
            "107   5_min_HR_Recovery(mean)   92.021787\n",
            "60              lomb_log_high   41.382359\n",
            "82              ar_log_medium   38.374767\n",
            "83                ar_log_high   37.524887\n",
            "76              ar_abs_medium   37.358993\n",
            "87                   ar_total   37.003016\n",
            "81                 ar_log_low   36.906805\n",
            "1                     nni_min   36.861410\n",
            "75                 ar_abs_low   36.387327\n",
            "77                ar_abs_high   36.267838\n",
            "0                    nni_mean   35.807692\n",
            "3                     hr_mean   34.927330\n",
            "5                      hr_max   33.725989\n",
            "16                     tinn_n   33.317670\n",
            "78                 ar_rel_low   32.930551\n",
            "4                      hr_min   31.640649\n",
            "59            lomb_log_medium   29.850465\n",
            "2                     nni_max   28.658247\n",
            "54              lomb_abs_high   28.566881\n",
            "64                 lomb_total   28.435460\n",
            "17                     tinn_m   27.244238\n",
            "80                ar_rel_high   25.868301\n",
            "58               lomb_log_low   22.158130\n",
            "86                   ar_ratio   19.968846\n",
            "85               ar_norm_high   19.792544\n"
          ]
        }
      ]
    },
    {
      "cell_type": "code",
      "source": [
        "X_new.shape"
      ],
      "metadata": {
        "colab": {
          "base_uri": "https://localhost:8080/"
        },
        "id": "faqcj7Lz55u_",
        "outputId": "5889536a-5eaf-420a-b496-eef0c1b3a9dc"
      },
      "execution_count": null,
      "outputs": [
        {
          "output_type": "execute_result",
          "data": {
            "text/plain": [
              "(5257, 35)"
            ]
          },
          "metadata": {},
          "execution_count": 35
        }
      ]
    },
    {
      "cell_type": "code",
      "source": [
        "\n",
        "from sklearn.model_selection import train_test_split\n",
        "X_train, X_test, y_train, y_test = train_test_split(X_new, y_new, test_size = 0.2, random_state = 0)\n"
      ],
      "metadata": {
        "id": "uwlH4p3oENA7"
      },
      "execution_count": null,
      "outputs": []
    },
    {
      "cell_type": "markdown",
      "source": [
        "\n",
        "\n",
        "---\n",
        "\n"
      ],
      "metadata": {
        "id": "ADbpJfKaobxJ"
      }
    },
    {
      "cell_type": "code",
      "source": [
        "import pandas as pd\n",
        "import numpy as np\n",
        "from sklearn import model_selection\n",
        "from sklearn.linear_model import LinearRegression\n",
        "from sklearn.linear_model import Ridge\n",
        "from sklearn.linear_model import Lasso\n",
        "from sklearn.linear_model import ElasticNet\n",
        "from sklearn.neighbors import KNeighborsRegressor\n",
        "from sklearn.tree import DecisionTreeRegressor\n",
        "from sklearn.svm import SVR\n",
        "from sklearn.ensemble import RandomForestRegressor\n",
        "from sklearn.metrics import r2_score\n",
        "from sklearn.model_selection import train_test_split\n",
        "from sklearn.metrics import mean_squared_error\n",
        "from math import sqrt\n",
        "import matplotlib.pyplot as plt"
      ],
      "metadata": {
        "id": "Z71osHGh9jcZ"
      },
      "execution_count": null,
      "outputs": []
    },
    {
      "cell_type": "markdown",
      "source": [
        "#Decision Trees"
      ],
      "metadata": {
        "id": "-cm1DHJYAWzB"
      }
    },
    {
      "cell_type": "code",
      "source": [],
      "metadata": {
        "id": "gggxe0E59kzv"
      },
      "execution_count": null,
      "outputs": []
    },
    {
      "cell_type": "code",
      "source": [
        "dtree = DecisionTreeRegressor(max_depth=3, min_samples_leaf=0.003)\n",
        "dtree.fit(X_train, y_train)\n",
        "\n",
        "pred_train= dtree.predict(X_train)\n",
        "print(\"Trainng Result\")\n",
        "res(y_train,pred_train)\n",
        "\n",
        "print()\n",
        "\n",
        "pred_test= dtree.predict(X_test)\n",
        "print(\"Trainng Result\")\n",
        "res(y_test,pred_test)"
      ],
      "metadata": {
        "colab": {
          "base_uri": "https://localhost:8080/"
        },
        "id": "cgYeJYB-9kst",
        "outputId": "007de36b-664c-4c8d-9b1c-63a98cb3e1aa"
      },
      "execution_count": null,
      "outputs": [
        {
          "output_type": "stream",
          "name": "stdout",
          "text": [
            "Trainng Result\n",
            "Mean absolute error = 3.04\n",
            "Mean squared error = 20.77\n",
            "Median absolute error = 2.54\n",
            "Explain variance score = 0.46\n",
            "R2 score = 0.46\n",
            "\n",
            "Trainng Result\n",
            "Mean absolute error = 2.97\n",
            "Mean squared error = 20.2\n",
            "Median absolute error = 2.54\n",
            "Explain variance score = 0.5\n",
            "R2 score = 0.5\n"
          ]
        }
      ]
    },
    {
      "cell_type": "code",
      "source": [
        "\n",
        "\"\"\"for i in range(1,1000):\n",
        "  l=i/1000\n",
        "  print(\"------------------------------------------------------\")\n",
        "  dtree = DecisionTreeRegressor(max_depth=3, min_samples_leaf=l)\n",
        "  dtree.fit(X_train, y_train)\n",
        "  pred_test_tree= dtree.predict(X_test)\n",
        "  k = r2_score(y_test, pred_test_tree)\n",
        "  if k>0:\n",
        "    print(k,l)\"\"\""
      ],
      "metadata": {
        "id": "3GcjMtwr9ki5",
        "colab": {
          "base_uri": "https://localhost:8080/",
          "height": 53
        },
        "outputId": "1607dd70-9cb0-4550-8888-dc3f77925fde"
      },
      "execution_count": null,
      "outputs": [
        {
          "output_type": "execute_result",
          "data": {
            "text/plain": [
              "'for i in range(1,1000):\\n  l=i/1000\\n  print(\"------------------------------------------------------\")\\n  dtree = DecisionTreeRegressor(max_depth=3, min_samples_leaf=l)\\n  dtree.fit(X_train, y_train)\\n  pred_test_tree= dtree.predict(X_test)\\n  k = r2_score(y_test, pred_test_tree)\\n  if k>0:\\n    print(k,l)'"
            ],
            "application/vnd.google.colaboratory.intrinsic+json": {
              "type": "string"
            }
          },
          "metadata": {},
          "execution_count": 39
        }
      ]
    },
    {
      "cell_type": "code",
      "source": [
        "prim_plot(y_train,pred_train)"
      ],
      "metadata": {
        "id": "_XdFYQQ2ANpq",
        "colab": {
          "base_uri": "https://localhost:8080/",
          "height": 450
        },
        "outputId": "6ebcbf12-6330-4b59-d02e-bfc963e8c321"
      },
      "execution_count": null,
      "outputs": [
        {
          "output_type": "display_data",
          "data": {
            "text/plain": [
              "<Figure size 640x480 with 1 Axes>"
            ],
            "image/png": "[encoded data removed]"
          },
          "metadata": {}
        }
      ]
    },
    {
      "cell_type": "code",
      "source": [
        "prim_plot(y_test,pred_test)"
      ],
      "metadata": {
        "id": "xUwWETLReY2a",
        "colab": {
          "base_uri": "https://localhost:8080/",
          "height": 450
        },
        "outputId": "bdd876ea-8efc-4532-a5a3-f5ad3f0bcb02"
      },
      "execution_count": null,
      "outputs": [
        {
          "output_type": "display_data",
          "data": {
            "text/plain": [
              "<Figure size 640x480 with 1 Axes>"
            ],
            "image/png": "[encoded data removed]"
          },
          "metadata": {}
        }
      ]
    },
    {
      "cell_type": "markdown",
      "source": [
        "#Random Forest (or Bootstrap Aggregation)"
      ],
      "metadata": {
        "id": "k8jIJdRZAZ1_"
      }
    },
    {
      "cell_type": "code",
      "source": [
        "#RF model\n",
        "model_rf = RandomForestRegressor(n_estimators=700, oob_score=True)\n",
        "model_rf.fit(X_train, y_train)\n",
        "\n",
        "print(\"Training\")\n",
        "pred_train= model_rf.predict(X_train)\n",
        "res(y_train,pred_train)\n",
        "\n",
        "print(\"Testing\")\n",
        "pred_test = model_rf.predict(X_test)\n",
        "res(y_test,pred_test)"
      ],
      "metadata": {
        "id": "AxAWU3JyAZkY",
        "colab": {
          "base_uri": "https://localhost:8080/"
        },
        "outputId": "6a0415d5-ab3a-4788-b58b-f24ca0499d88"
      },
      "execution_count": null,
      "outputs": [
        {
          "output_type": "stream",
          "name": "stdout",
          "text": [
            "Training\n",
            "Mean absolute error = 0.01\n",
            "Mean squared error = 0.01\n",
            "Median absolute error = 0.0\n",
            "Explain variance score = 1.0\n",
            "R2 score = 1.0\n",
            "Testing\n",
            "Mean absolute error = 0.03\n",
            "Mean squared error = 0.07\n",
            "Median absolute error = 0.0\n",
            "Explain variance score = 1.0\n",
            "R2 score = 1.0\n"
          ]
        }
      ]
    },
    {
      "cell_type": "code",
      "source": [
        "\"\"\"\n",
        "for i in range(700,3000,100):\n",
        "  model_rf = RandomForestRegressor(n_estimators=i, oob_score=True, random_state=100)\n",
        "  model_rf.fit(X_train, y_train)\n",
        "  pred_test_rf= model_rf.predict(X_test)\n",
        "  k = r2_score(y_test, pred_test_rf)\n",
        "  if k>0:\n",
        "    print(\"------------------------------------------------------\")\n",
        "    print(k,i)\"\"\""
      ],
      "metadata": {
        "id": "dkS__wzNAZbv",
        "colab": {
          "base_uri": "https://localhost:8080/",
          "height": 53
        },
        "outputId": "8f888b00-6b2c-49b9-edb3-840ccf34fe7b"
      },
      "execution_count": null,
      "outputs": [
        {
          "output_type": "execute_result",
          "data": {
            "text/plain": [
              "'\\nfor i in range(700,3000,100):\\n  model_rf = RandomForestRegressor(n_estimators=i, oob_score=True, random_state=100)\\n  model_rf.fit(X_train, y_train)\\n  pred_test_rf= model_rf.predict(X_test)\\n  k = r2_score(y_test, pred_test_rf)\\n  if k>0:\\n    print(\"------------------------------------------------------\")\\n    print(k,i)'"
            ],
            "application/vnd.google.colaboratory.intrinsic+json": {
              "type": "string"
            }
          },
          "metadata": {},
          "execution_count": 43
        }
      ]
    },
    {
      "cell_type": "code",
      "source": [
        "prim_plot(y_train,pred_train) #[blue]\n",
        "prim_plot(y_test,pred_test)   #[Yollow]"
      ],
      "metadata": {
        "id": "274-JnAAejBt",
        "colab": {
          "base_uri": "https://localhost:8080/",
          "height": 450
        },
        "outputId": "d93d8786-e257-4b90-9290-446d99318dfa"
      },
      "execution_count": null,
      "outputs": [
        {
          "output_type": "display_data",
          "data": {
            "text/plain": [
              "<Figure size 640x480 with 1 Axes>"
            ],
            "image/png": "[encoded data removed]"
          },
          "metadata": {}
        }
      ]
    },
    {
      "cell_type": "markdown",
      "source": [
        "#Polynomial Regression"
      ],
      "metadata": {
        "id": "R3SRNRwHcydg"
      }
    },
    {
      "cell_type": "code",
      "source": [
        "from sklearn.linear_model import LinearRegression\n",
        "from sklearn.preprocessing import PolynomialFeatures\n",
        "\n",
        "poly = PolynomialFeatures(degree=4)\n",
        "X_poly_train = poly.fit_transform(X_train)\n",
        "\n",
        "poly.fit(X_poly_train, y_train)\n",
        "lin2 = LinearRegression()\n",
        "lin2.fit(X_poly_train, y_train)\n",
        "\n",
        "\n",
        "\n",
        "\n",
        "\n",
        "print(\"Training\")\n",
        "pred_train= lin2.predict(X_poly_train)\n",
        "res(y_train,pred_train)\n",
        "\n",
        "print(\"Testing\")\n",
        "X_poly_test = poly.fit_transform(X_test)\n",
        "pred_test= lin2.predict(X_poly_test)\n",
        "res(y_test,pred_test)"
      ],
      "metadata": {
        "id": "2yAGmwhxcvAG",
        "colab": {
          "base_uri": "https://localhost:8080/"
        },
        "outputId": "27702b90-d6f5-4678-f14a-2bbfa4c2113a"
      },
      "execution_count": null,
      "outputs": [
        {
          "output_type": "stream",
          "name": "stdout",
          "text": [
            "Training\n",
            "Mean absolute error = 0.04\n",
            "Mean squared error = 0.0\n",
            "Median absolute error = 0.03\n",
            "Explain variance score = 1.0\n",
            "R2 score = 1.0\n",
            "Testing\n",
            "Mean absolute error = 253.07\n",
            "Mean squared error = 16576060.4\n",
            "Median absolute error = 11.55\n",
            "Explain variance score = -408299.38\n",
            "R2 score = -408425.08\n"
          ]
        }
      ]
    },
    {
      "cell_type": "code",
      "source": [
        "prim_plot(y_train,pred_train) #[blue]\n",
        "prim_plot(y_test,pred_test)   #[Yollow]"
      ],
      "metadata": {
        "id": "fkbz20SPg1Uj",
        "colab": {
          "base_uri": "https://localhost:8080/",
          "height": 450
        },
        "outputId": "3adf5597-93e1-47d4-fc1d-ad3fa38c7ec3"
      },
      "execution_count": null,
      "outputs": [
        {
          "output_type": "display_data",
          "data": {
            "text/plain": [
              "<Figure size 640x480 with 1 Axes>"
            ],
            "image/png": "[encoded data removed]"
          },
          "metadata": {}
        }
      ]
    },
    {
      "cell_type": "markdown",
      "source": [
        "#Kernel Ridge"
      ],
      "metadata": {
        "id": "MAOy0ASFSr-a"
      }
    },
    {
      "cell_type": "code",
      "source": [
        "from sklearn.kernel_ridge import KernelRidge\n",
        "krr = KernelRidge(alpha=1.0)\n",
        "krr.fit(X_train, y_train)\n",
        "\n",
        "\n",
        "print(\"Training\")\n",
        "pred_train= krr.predict(X_train)\n",
        "res(y_train,pred_train)\n",
        "\n",
        "print(\"Testing\")\n",
        "pred_test= krr.predict(X_test)\n",
        "res(y_test,pred_test)"
      ],
      "metadata": {
        "id": "iAUWI175Sylw",
        "colab": {
          "base_uri": "https://localhost:8080/"
        },
        "outputId": "26b5747d-701e-4166-9b06-a632612e9aa7"
      },
      "execution_count": null,
      "outputs": [
        {
          "output_type": "stream",
          "name": "stdout",
          "text": [
            "Training\n",
            "Mean absolute error = 4.68\n",
            "Mean squared error = 34.54\n",
            "Median absolute error = 4.55\n",
            "Explain variance score = 0.11\n",
            "R2 score = 0.11\n",
            "Testing\n",
            "Mean absolute error = 4.77\n",
            "Mean squared error = 35.94\n",
            "Median absolute error = 4.52\n",
            "Explain variance score = 0.11\n",
            "R2 score = 0.11\n"
          ]
        }
      ]
    },
    {
      "cell_type": "code",
      "source": [
        "prim_plot(y_train,pred_train) #[blue]\n",
        "prim_plot(y_test,pred_test)   #[Yollow]"
      ],
      "metadata": {
        "id": "qTyeHXE2g4wd",
        "colab": {
          "base_uri": "https://localhost:8080/",
          "height": 450
        },
        "outputId": "d8d0cd0a-d1ff-4352-ae43-a7ad3f3fccb7"
      },
      "execution_count": null,
      "outputs": [
        {
          "output_type": "display_data",
          "data": {
            "text/plain": [
              "<Figure size 640x480 with 1 Axes>"
            ],
            "image/png": "[encoded data removed]"
          },
          "metadata": {}
        }
      ]
    },
    {
      "cell_type": "markdown",
      "source": [
        "#SVM"
      ],
      "metadata": {
        "id": "3qyLGIyKU8Gr"
      }
    },
    {
      "cell_type": "code",
      "source": [
        "from sklearn.svm import SVR\n",
        "from sklearn.pipeline import make_pipeline\n",
        "from sklearn.preprocessing import StandardScaler\n",
        "\n",
        "regr = make_pipeline(StandardScaler(), SVR(C=1.0, epsilon=0.2))\n",
        "regr.fit(X_train, y_train)\n",
        "\n",
        "print(\"Training\")\n",
        "pred_train= regr.predict(X_train)\n",
        "res(y_train,pred_train)\n",
        "\n",
        "print(\"Testing\")\n",
        "pred_test= regr.predict(X_test)\n",
        "res(y_test,pred_test)"
      ],
      "metadata": {
        "id": "iX1kQeilU1_a",
        "colab": {
          "base_uri": "https://localhost:8080/"
        },
        "outputId": "e91c953a-ada4-4a67-e549-84e1bada81da"
      },
      "execution_count": null,
      "outputs": [
        {
          "output_type": "stream",
          "name": "stdout",
          "text": [
            "Training\n",
            "Mean absolute error = 3.33\n",
            "Mean squared error = 30.83\n",
            "Median absolute error = 1.55\n",
            "Explain variance score = 0.28\n",
            "R2 score = 0.2\n",
            "Testing\n",
            "Mean absolute error = 3.49\n",
            "Mean squared error = 34.07\n",
            "Median absolute error = 1.78\n",
            "Explain variance score = 0.24\n",
            "R2 score = 0.16\n"
          ]
        }
      ]
    },
    {
      "cell_type": "code",
      "source": [
        "prim_plot(y_train,pred_train) #[blue]\n",
        "prim_plot(y_test,pred_test)   #[Yollow]"
      ],
      "metadata": {
        "id": "FyK9qveag8SO",
        "colab": {
          "base_uri": "https://localhost:8080/",
          "height": 450
        },
        "outputId": "fd0bcdb2-b7e8-4fa9-8588-c7595a7e7545"
      },
      "execution_count": null,
      "outputs": [
        {
          "output_type": "display_data",
          "data": {
            "text/plain": [
              "<Figure size 640x480 with 1 Axes>"
            ],
            "image/png": "[encoded data removed]"
          },
          "metadata": {}
        }
      ]
    },
    {
      "cell_type": "markdown",
      "source": [
        "#Lasso"
      ],
      "metadata": {
        "id": "3IYzO_-yVAkg"
      }
    },
    {
      "cell_type": "code",
      "source": [
        "from sklearn import linear_model\n",
        "regr = linear_model.Lasso(alpha=0.1)\n",
        "regr.fit(X_train, y_train)\n",
        "\n",
        "print(\"Training\")\n",
        "pred_train= regr.predict(X_train)\n",
        "res(y_train,pred_train)\n",
        "\n",
        "print(\"Testing\")\n",
        "pred_test= regr.predict(X_test)\n",
        "res(y_test,pred_test)"
      ],
      "metadata": {
        "id": "TBe4yp4DVAJH",
        "colab": {
          "base_uri": "https://localhost:8080/"
        },
        "outputId": "7b1b3927-de51-411d-df3e-263c6b4f0f5a"
      },
      "execution_count": null,
      "outputs": [
        {
          "output_type": "stream",
          "name": "stdout",
          "text": [
            "Training\n",
            "Mean absolute error = 4.71\n",
            "Mean squared error = 34.7\n",
            "Median absolute error = 4.61\n",
            "Explain variance score = 0.1\n",
            "R2 score = 0.1\n",
            "Testing\n",
            "Mean absolute error = 4.8\n",
            "Mean squared error = 36.07\n",
            "Median absolute error = 4.53\n",
            "Explain variance score = 0.11\n",
            "R2 score = 0.11\n"
          ]
        }
      ]
    },
    {
      "cell_type": "code",
      "source": [
        "prim_plot(y_train,pred_train) #[blue]\n",
        "prim_plot(y_test,pred_test)   #[Yollow]"
      ],
      "metadata": {
        "id": "K-8XuNVuhCWz",
        "colab": {
          "base_uri": "https://localhost:8080/",
          "height": 450
        },
        "outputId": "470dda02-bf69-4773-b404-902c49339a45"
      },
      "execution_count": null,
      "outputs": [
        {
          "output_type": "display_data",
          "data": {
            "text/plain": [
              "<Figure size 640x480 with 1 Axes>"
            ],
            "image/png": "[encoded data removed]"
          },
          "metadata": {}
        }
      ]
    },
    {
      "cell_type": "markdown",
      "source": [
        "#ANN Regression"
      ],
      "metadata": {
        "id": "dVNm7VXgFvAr"
      }
    },
    {
      "cell_type": "code",
      "source": [
        "plt.figure(figsize=(8,6))\n",
        "sns.histplot(data=dataset,x=target,color=\"red\",kde=True)\n",
        "plt.axvline(x=dataset[target].mean(),ymax=0.55,color=\"green\",linestyle='--',label=\"Mean\")\n",
        "plt.axvline(x=dataset[target].median(),ymax=0.56,color=\"purple\",linestyle='--',label=\"Median\")\n",
        "plt.legend()\n",
        "plt.title(\"ST-II Max-Min Difference\")"
      ],
      "metadata": {
        "id": "Pufe7XoWJ8tE",
        "colab": {
          "base_uri": "https://localhost:8080/",
          "height": 581
        },
        "outputId": "86ac2c80-5d32-4581-bd6d-ce205e6016d0"
      },
      "execution_count": null,
      "outputs": [
        {
          "output_type": "execute_result",
          "data": {
            "text/plain": [
              "Text(0.5, 1.0, 'ST-II Max-Min Difference')"
            ]
          },
          "metadata": {},
          "execution_count": 53
        },
        {
          "output_type": "display_data",
          "data": {
            "text/plain": [
              "<Figure size 800x600 with 1 Axes>"
            ],
            "image/png": "[encoded data removed]"
          },
          "metadata": {}
        }
      ]
    },
    {
      "cell_type": "code",
      "source": [
        "plt.figure(figsize = (8,6))\n",
        "sns.histplot(dataset[target],kde=True,bins=40,color=\"red\",cumulative=True)\n",
        "plt.title(\"Cumulative of the Target Column\")"
      ],
      "metadata": {
        "id": "I2WXjm9ohlmL",
        "colab": {
          "base_uri": "https://localhost:8080/",
          "height": 581
        },
        "outputId": "9c6b0d39-bcfe-495b-e704-76088f0a7637"
      },
      "execution_count": null,
      "outputs": [
        {
          "output_type": "execute_result",
          "data": {
            "text/plain": [
              "Text(0.5, 1.0, 'Cumulative of the Target Column')"
            ]
          },
          "metadata": {},
          "execution_count": 54
        },
        {
          "output_type": "display_data",
          "data": {
            "text/plain": [
              "<Figure size 800x600 with 1 Axes>"
            ],
            "image/png": "[encoded data removed]"
          },
          "metadata": {}
        }
      ]
    },
    {
      "cell_type": "code",
      "source": [
        "from tensorflow.keras.models import Sequential\n",
        "from tensorflow.keras.layers import Dense\n",
        "from tensorflow.keras.callbacks import EarlyStopping\n",
        "\n",
        "ann = Sequential()                          # Initializing the ANN\n",
        "ann.add(Dense(units=6, activation=\"relu\"))  #Adding First Hidden Layer\n",
        "ann.add(Dense(units=6, activation=\"relu\"))  # Adding Second Hidden Layer\n",
        "ann.add(Dense(units=1))   # Adding Output Layer\n",
        "#If we make a regression with neural networks, we do not need to add an activation function compared to classification problems\n",
        "\n",
        "ann.compile(optimizer=\"adam\",loss=\"mean_squared_error\")\n",
        "ann.fit(x=X_train, y=y_train, epochs=100, batch_size=64,validation_data=(X_test,y_test),callbacks=EarlyStopping(monitor='val_loss',patience=4))\n",
        "\n",
        "#pd.DataFrame(ann.history.history)\n",
        "\n",
        "plt.style.use(\"ggplot\")\n",
        "pd.DataFrame(ann.history.history).plot(figsize=(12,10))\n"
      ],
      "metadata": {
        "id": "Ft_23vL2hocs",
        "colab": {
          "base_uri": "https://localhost:8080/",
          "height": 1000
        },
        "outputId": "3d6f7f03-4677-41bf-be80-6ed96ad6131d"
      },
      "execution_count": null,
      "outputs": [
        {
          "output_type": "stream",
          "name": "stdout",
          "text": [
            "Epoch 1/100\n",
            "66/66 [==============================] - 1s 5ms/step - loss: 141944.3906 - val_loss: 1604.0353\n",
            "Epoch 2/100\n",
            "66/66 [==============================] - 0s 2ms/step - loss: 1807.3883 - val_loss: 1225.2220\n",
            "Epoch 3/100\n",
            "66/66 [==============================] - 0s 2ms/step - loss: 1490.6265 - val_loss: 1142.7887\n",
            "Epoch 4/100\n",
            "66/66 [==============================] - 0s 3ms/step - loss: 1306.3545 - val_loss: 1108.0422\n",
            "Epoch 5/100\n",
            "66/66 [==============================] - 0s 3ms/step - loss: 1203.5428 - val_loss: 1086.8217\n",
            "Epoch 6/100\n",
            "66/66 [==============================] - 0s 2ms/step - loss: 1129.5253 - val_loss: 1067.3870\n",
            "Epoch 7/100\n",
            "66/66 [==============================] - 0s 3ms/step - loss: 1086.3445 - val_loss: 1044.7188\n",
            "Epoch 8/100\n",
            "66/66 [==============================] - 0s 3ms/step - loss: 1054.1279 - val_loss: 1024.4834\n",
            "Epoch 9/100\n",
            "66/66 [==============================] - 0s 2ms/step - loss: 1027.8341 - val_loss: 1005.0892\n",
            "Epoch 10/100\n",
            "66/66 [==============================] - 0s 2ms/step - loss: 1006.2585 - val_loss: 989.3336\n",
            "Epoch 11/100\n",
            "66/66 [==============================] - 0s 2ms/step - loss: 989.4342 - val_loss: 977.8199\n",
            "Epoch 12/100\n",
            "66/66 [==============================] - 0s 2ms/step - loss: 976.8812 - val_loss: 968.6656\n",
            "Epoch 13/100\n",
            "66/66 [==============================] - 0s 2ms/step - loss: 967.2374 - val_loss: 962.1187\n",
            "Epoch 14/100\n",
            "66/66 [==============================] - 0s 2ms/step - loss: 960.1629 - val_loss: 957.1032\n",
            "Epoch 15/100\n",
            "66/66 [==============================] - 0s 2ms/step - loss: 954.6672 - val_loss: 952.9432\n",
            "Epoch 16/100\n",
            "66/66 [==============================] - 0s 2ms/step - loss: 949.9091 - val_loss: 949.4733\n",
            "Epoch 17/100\n",
            "66/66 [==============================] - 0s 2ms/step - loss: 945.8913 - val_loss: 946.2559\n",
            "Epoch 18/100\n",
            "66/66 [==============================] - 0s 2ms/step - loss: 942.4949 - val_loss: 943.3471\n",
            "Epoch 19/100\n",
            "66/66 [==============================] - 0s 3ms/step - loss: 939.5822 - val_loss: 940.7231\n",
            "Epoch 20/100\n",
            "66/66 [==============================] - 0s 2ms/step - loss: 936.9730 - val_loss: 938.3430\n",
            "Epoch 21/100\n",
            "66/66 [==============================] - 0s 2ms/step - loss: 934.5469 - val_loss: 935.8445\n",
            "Epoch 22/100\n",
            "66/66 [==============================] - 0s 3ms/step - loss: 932.2274 - val_loss: 933.4037\n",
            "Epoch 23/100\n",
            "66/66 [==============================] - 0s 3ms/step - loss: 930.0385 - val_loss: 930.9436\n",
            "Epoch 24/100\n",
            "66/66 [==============================] - 0s 3ms/step - loss: 927.7014 - val_loss: 928.4760\n",
            "Epoch 25/100\n",
            "66/66 [==============================] - 0s 2ms/step - loss: 925.4240 - val_loss: 925.8917\n",
            "Epoch 26/100\n",
            "66/66 [==============================] - 0s 3ms/step - loss: 923.1749 - val_loss: 923.4029\n",
            "Epoch 27/100\n",
            "66/66 [==============================] - 0s 2ms/step - loss: 920.9090 - val_loss: 920.8867\n",
            "Epoch 28/100\n",
            "66/66 [==============================] - 0s 2ms/step - loss: 918.5840 - val_loss: 918.3735\n",
            "Epoch 29/100\n",
            "66/66 [==============================] - 0s 2ms/step - loss: 916.2400 - val_loss: 915.8969\n",
            "Epoch 30/100\n",
            "66/66 [==============================] - 0s 2ms/step - loss: 913.8589 - val_loss: 913.3594\n",
            "Epoch 31/100\n",
            "66/66 [==============================] - 0s 2ms/step - loss: 911.4114 - val_loss: 910.8422\n",
            "Epoch 32/100\n",
            "66/66 [==============================] - 0s 2ms/step - loss: 908.9275 - val_loss: 908.2670\n",
            "Epoch 33/100\n",
            "66/66 [==============================] - 0s 2ms/step - loss: 906.4157 - val_loss: 905.7171\n",
            "Epoch 34/100\n",
            "66/66 [==============================] - 0s 2ms/step - loss: 903.8748 - val_loss: 903.1273\n",
            "Epoch 35/100\n",
            "66/66 [==============================] - 0s 2ms/step - loss: 901.2930 - val_loss: 900.5198\n",
            "Epoch 36/100\n",
            "66/66 [==============================] - 0s 2ms/step - loss: 898.6652 - val_loss: 897.8323\n",
            "Epoch 37/100\n",
            "66/66 [==============================] - 0s 3ms/step - loss: 895.9918 - val_loss: 895.1206\n",
            "Epoch 38/100\n",
            "66/66 [==============================] - 0s 4ms/step - loss: 893.2783 - val_loss: 892.3574\n",
            "Epoch 39/100\n",
            "66/66 [==============================] - 0s 3ms/step - loss: 890.5244 - val_loss: 889.5773\n",
            "Epoch 40/100\n",
            "66/66 [==============================] - 0s 4ms/step - loss: 887.7358 - val_loss: 886.7458\n",
            "Epoch 41/100\n",
            "66/66 [==============================] - 0s 4ms/step - loss: 884.9103 - val_loss: 883.8810\n",
            "Epoch 42/100\n",
            "66/66 [==============================] - 0s 4ms/step - loss: 882.0472 - val_loss: 880.9825\n",
            "Epoch 43/100\n",
            "66/66 [==============================] - 0s 3ms/step - loss: 879.1506 - val_loss: 878.0588\n",
            "Epoch 44/100\n",
            "66/66 [==============================] - 0s 4ms/step - loss: 876.2201 - val_loss: 875.0841\n",
            "Epoch 45/100\n",
            "66/66 [==============================] - 0s 3ms/step - loss: 873.2590 - val_loss: 872.1003\n",
            "Epoch 46/100\n",
            "66/66 [==============================] - 0s 3ms/step - loss: 870.2661 - val_loss: 869.0635\n",
            "Epoch 47/100\n",
            "66/66 [==============================] - 0s 3ms/step - loss: 867.2477 - val_loss: 866.0186\n",
            "Epoch 48/100\n",
            "66/66 [==============================] - 0s 3ms/step - loss: 864.2034 - val_loss: 862.9451\n",
            "Epoch 49/100\n",
            "66/66 [==============================] - 0s 4ms/step - loss: 861.1324 - val_loss: 859.8456\n",
            "Epoch 50/100\n",
            "66/66 [==============================] - 0s 4ms/step - loss: 858.0379 - val_loss: 856.7227\n",
            "Epoch 51/100\n",
            "66/66 [==============================] - 0s 3ms/step - loss: 854.9197 - val_loss: 853.5753\n",
            "Epoch 52/100\n",
            "66/66 [==============================] - 0s 4ms/step - loss: 851.7802 - val_loss: 850.4097\n",
            "Epoch 53/100\n",
            "66/66 [==============================] - 0s 3ms/step - loss: 848.6213 - val_loss: 847.2200\n",
            "Epoch 54/100\n",
            "66/66 [==============================] - 0s 4ms/step - loss: 845.4409 - val_loss: 844.0241\n",
            "Epoch 55/100\n",
            "66/66 [==============================] - 0s 4ms/step - loss: 842.2457 - val_loss: 840.7949\n",
            "Epoch 56/100\n",
            "66/66 [==============================] - 0s 3ms/step - loss: 839.0317 - val_loss: 837.5540\n",
            "Epoch 57/100\n",
            "66/66 [==============================] - 0s 3ms/step - loss: 835.8038 - val_loss: 834.3193\n",
            "Epoch 58/100\n",
            "66/66 [==============================] - 0s 2ms/step - loss: 832.5597 - val_loss: 831.0139\n",
            "Epoch 59/100\n",
            "66/66 [==============================] - 0s 2ms/step - loss: 829.3036 - val_loss: 827.7365\n",
            "Epoch 60/100\n",
            "66/66 [==============================] - 0s 2ms/step - loss: 826.0381 - val_loss: 824.4385\n",
            "Epoch 61/100\n",
            "66/66 [==============================] - 0s 2ms/step - loss: 822.7601 - val_loss: 821.1382\n",
            "Epoch 62/100\n",
            "66/66 [==============================] - 0s 2ms/step - loss: 819.4724 - val_loss: 817.8270\n",
            "Epoch 63/100\n",
            "66/66 [==============================] - 0s 3ms/step - loss: 816.1753 - val_loss: 814.5057\n",
            "Epoch 64/100\n",
            "66/66 [==============================] - 0s 2ms/step - loss: 812.8711 - val_loss: 811.1767\n",
            "Epoch 65/100\n",
            "66/66 [==============================] - 0s 3ms/step - loss: 809.5581 - val_loss: 807.8410\n",
            "Epoch 66/100\n",
            "66/66 [==============================] - 0s 2ms/step - loss: 806.2424 - val_loss: 804.5141\n",
            "Epoch 67/100\n",
            "66/66 [==============================] - 0s 2ms/step - loss: 802.9192 - val_loss: 801.1792\n",
            "Epoch 68/100\n",
            "66/66 [==============================] - 0s 2ms/step - loss: 799.5903 - val_loss: 797.8419\n",
            "Epoch 69/100\n",
            "66/66 [==============================] - 0s 3ms/step - loss: 796.2581 - val_loss: 794.4988\n",
            "Epoch 70/100\n",
            "66/66 [==============================] - 0s 2ms/step - loss: 792.9226 - val_loss: 791.1542\n",
            "Epoch 71/100\n",
            "66/66 [==============================] - 0s 2ms/step - loss: 789.5839 - val_loss: 787.8112\n",
            "Epoch 72/100\n",
            "66/66 [==============================] - 0s 2ms/step - loss: 786.2449 - val_loss: 784.4629\n",
            "Epoch 73/100\n",
            "66/66 [==============================] - 0s 3ms/step - loss: 782.9039 - val_loss: 781.1080\n",
            "Epoch 74/100\n",
            "66/66 [==============================] - 0s 2ms/step - loss: 779.5603 - val_loss: 777.7627\n",
            "Epoch 75/100\n",
            "66/66 [==============================] - 0s 3ms/step - loss: 776.2183 - val_loss: 774.4084\n",
            "Epoch 76/100\n",
            "66/66 [==============================] - 0s 2ms/step - loss: 772.8754 - val_loss: 771.0582\n",
            "Epoch 77/100\n",
            "66/66 [==============================] - 0s 3ms/step - loss: 769.5340 - val_loss: 767.7246\n",
            "Epoch 78/100\n",
            "66/66 [==============================] - 0s 2ms/step - loss: 766.1925 - val_loss: 764.4000\n",
            "Epoch 79/100\n",
            "66/66 [==============================] - 0s 2ms/step - loss: 762.8544 - val_loss: 761.0709\n",
            "Epoch 80/100\n",
            "66/66 [==============================] - 0s 3ms/step - loss: 759.5174 - val_loss: 757.7444\n",
            "Epoch 81/100\n",
            "66/66 [==============================] - 0s 3ms/step - loss: 756.1833 - val_loss: 754.4170\n",
            "Epoch 82/100\n",
            "66/66 [==============================] - 0s 2ms/step - loss: 752.8511 - val_loss: 751.1044\n",
            "Epoch 83/100\n",
            "66/66 [==============================] - 0s 3ms/step - loss: 749.5226 - val_loss: 747.7866\n",
            "Epoch 84/100\n",
            "66/66 [==============================] - 0s 2ms/step - loss: 746.1950 - val_loss: 744.4716\n",
            "Epoch 85/100\n",
            "66/66 [==============================] - 0s 2ms/step - loss: 742.8729 - val_loss: 741.1663\n",
            "Epoch 86/100\n",
            "66/66 [==============================] - 0s 2ms/step - loss: 739.5555 - val_loss: 737.8622\n",
            "Epoch 87/100\n",
            "66/66 [==============================] - 0s 3ms/step - loss: 736.2429 - val_loss: 734.5590\n",
            "Epoch 88/100\n",
            "66/66 [==============================] - 0s 2ms/step - loss: 732.9343 - val_loss: 731.2683\n",
            "Epoch 89/100\n",
            "66/66 [==============================] - 0s 2ms/step - loss: 729.6332 - val_loss: 727.9712\n",
            "Epoch 90/100\n",
            "66/66 [==============================] - 0s 2ms/step - loss: 726.3391 - val_loss: 724.6911\n",
            "Epoch 91/100\n",
            "66/66 [==============================] - 0s 3ms/step - loss: 723.0521 - val_loss: 721.4083\n",
            "Epoch 92/100\n",
            "66/66 [==============================] - 0s 2ms/step - loss: 719.7687 - val_loss: 718.1332\n",
            "Epoch 93/100\n",
            "66/66 [==============================] - 0s 3ms/step - loss: 716.4932 - val_loss: 714.8617\n",
            "Epoch 94/100\n",
            "66/66 [==============================] - 0s 3ms/step - loss: 713.2217 - val_loss: 711.6024\n",
            "Epoch 95/100\n",
            "66/66 [==============================] - 0s 2ms/step - loss: 709.9579 - val_loss: 708.3439\n",
            "Epoch 96/100\n",
            "66/66 [==============================] - 0s 3ms/step - loss: 706.7012 - val_loss: 705.0919\n",
            "Epoch 97/100\n",
            "66/66 [==============================] - 0s 2ms/step - loss: 703.4478 - val_loss: 701.8565\n",
            "Epoch 98/100\n",
            "66/66 [==============================] - 0s 3ms/step - loss: 700.2040 - val_loss: 698.6127\n",
            "Epoch 99/100\n",
            "66/66 [==============================] - 0s 2ms/step - loss: 696.9636 - val_loss: 695.3831\n",
            "Epoch 100/100\n",
            "66/66 [==============================] - 0s 2ms/step - loss: 693.7319 - val_loss: 692.1532\n"
          ]
        },
        {
          "output_type": "execute_result",
          "data": {
            "text/plain": [
              "<Axes: >"
            ]
          },
          "metadata": {},
          "execution_count": 55
        },
        {
          "output_type": "display_data",
          "data": {
            "text/plain": [
              "<Figure size 1200x1000 with 1 Axes>"
            ],
            "image/png": "[encoded data removed]"
          },
          "metadata": {}
        }
      ]
    },
    {
      "cell_type": "code",
      "source": [
        "ann.evaluate(X_train,y_train)"
      ],
      "metadata": {
        "id": "sf17zxC8h7xD",
        "colab": {
          "base_uri": "https://localhost:8080/"
        },
        "outputId": "76d03350-a756-4b8f-e423-14dbba1b4d75"
      },
      "execution_count": null,
      "outputs": [
        {
          "output_type": "stream",
          "name": "stdout",
          "text": [
            "132/132 [==============================] - 0s 1ms/step - loss: 692.0814\n"
          ]
        },
        {
          "output_type": "execute_result",
          "data": {
            "text/plain": [
              "692.0813598632812"
            ]
          },
          "metadata": {},
          "execution_count": 56
        }
      ]
    },
    {
      "cell_type": "code",
      "source": [
        "ann.evaluate(X_test,y_test)"
      ],
      "metadata": {
        "id": "Bz-vcC0Th-ZF",
        "colab": {
          "base_uri": "https://localhost:8080/"
        },
        "outputId": "0ad88fb5-a2e6-4b95-908e-8af6d272487c"
      },
      "execution_count": null,
      "outputs": [
        {
          "output_type": "stream",
          "name": "stdout",
          "text": [
            "33/33 [==============================] - 0s 2ms/step - loss: 692.1532\n"
          ]
        },
        {
          "output_type": "execute_result",
          "data": {
            "text/plain": [
              "692.1531982421875"
            ]
          },
          "metadata": {},
          "execution_count": 57
        }
      ]
    },
    {
      "cell_type": "code",
      "source": [
        "predictions = ann.predict(X_test)\n",
        "predictions_df = pd.DataFrame(np.ravel(predictions),columns=[\"Predictions\"])\n",
        "comparison_df = pd.concat([pd.DataFrame(y_test,columns=[\"Real Values\"]), predictions_df],axis=1)\n",
        "comparison_df"
      ],
      "metadata": {
        "id": "BTW5uZ3HiBmE",
        "colab": {
          "base_uri": "https://localhost:8080/",
          "height": 441
        },
        "outputId": "f6a6955b-447b-4e8a-99f2-8eaf0b4dca6f"
      },
      "execution_count": null,
      "outputs": [
        {
          "output_type": "stream",
          "name": "stdout",
          "text": [
            "33/33 [==============================] - 0s 2ms/step\n"
          ]
        },
        {
          "output_type": "execute_result",
          "data": {
            "text/plain": [
              "     Real Values  Predictions\n",
              "0            NaN     4.746593\n",
              "1            NaN     4.746593\n",
              "2            NaN     4.746593\n",
              "3            NaN     4.746593\n",
              "4            NaN     4.746593\n",
              "...          ...          ...\n",
              "1047         NaN     4.746593\n",
              "1048         NaN     4.746593\n",
              "1049         NaN     4.746593\n",
              "1050         NaN     4.746593\n",
              "1051         NaN     4.746593\n",
              "\n",
              "[1052 rows x 2 columns]"
            ],
            "text/html": [
              "\n",
              "  <div id=\"df-07961f6c-1d0c-4fad-9682-034a27a7d135\">\n",
              "    <div class=\"colab-df-container\">\n",
              "      <div>\n",
              "<style scoped>\n",
              "    .dataframe tbody tr th:only-of-type {\n",
              "        vertical-align: middle;\n",
              "    }\n",
              "\n",
              "    .dataframe tbody tr th {\n",
              "        vertical-align: top;\n",
              "    }\n",
              "\n",
              "    .dataframe thead th {\n",
              "        text-align: right;\n",
              "    }\n",
              "</style>\n",
              "<table border=\"1\" class=\"dataframe\">\n",
              "  <thead>\n",
              "    <tr style=\"text-align: right;\">\n",
              "      <th></th>\n",
              "      <th>Real Values</th>\n",
              "      <th>Predictions</th>\n",
              "    </tr>\n",
              "  </thead>\n",
              "  <tbody>\n",
              "    <tr>\n",
              "      <th>0</th>\n",
              "      <td>NaN</td>\n",
              "      <td>4.746593</td>\n",
              "    </tr>\n",
              "    <tr>\n",
              "      <th>1</th>\n",
              "      <td>NaN</td>\n",
              "      <td>4.746593</td>\n",
              "    </tr>\n",
              "    <tr>\n",
              "      <th>2</th>\n",
              "      <td>NaN</td>\n",
              "      <td>4.746593</td>\n",
              "    </tr>\n",
              "    <tr>\n",
              "      <th>3</th>\n",
              "      <td>NaN</td>\n",
              "      <td>4.746593</td>\n",
              "    </tr>\n",
              "    <tr>\n",
              "      <th>4</th>\n",
              "      <td>NaN</td>\n",
              "      <td>4.746593</td>\n",
              "    </tr>\n",
              "    <tr>\n",
              "      <th>...</th>\n",
              "      <td>...</td>\n",
              "      <td>...</td>\n",
              "    </tr>\n",
              "    <tr>\n",
              "      <th>1047</th>\n",
              "      <td>NaN</td>\n",
              "      <td>4.746593</td>\n",
              "    </tr>\n",
              "    <tr>\n",
              "      <th>1048</th>\n",
              "      <td>NaN</td>\n",
              "      <td>4.746593</td>\n",
              "    </tr>\n",
              "    <tr>\n",
              "      <th>1049</th>\n",
              "      <td>NaN</td>\n",
              "      <td>4.746593</td>\n",
              "    </tr>\n",
              "    <tr>\n",
              "      <th>1050</th>\n",
              "      <td>NaN</td>\n",
              "      <td>4.746593</td>\n",
              "    </tr>\n",
              "    <tr>\n",
              "      <th>1051</th>\n",
              "      <td>NaN</td>\n",
              "      <td>4.746593</td>\n",
              "    </tr>\n",
              "  </tbody>\n",
              "</table>\n",
              "<p>1052 rows × 2 columns</p>\n",
              "</div>\n",
              "      <button class=\"colab-df-convert\" onclick=\"convertToInteractive('df-07961f6c-1d0c-4fad-9682-034a27a7d135')\"\n",
              "              title=\"Convert this dataframe to an interactive table.\"\n",
              "              style=\"display:none;\">\n",
              "        \n",
              "  <svg xmlns=\"http://www.w3.org/2000/svg\" height=\"24px\"viewBox=\"0 0 24 24\"\n",
              "       width=\"24px\">\n",
              "    <path d=\"M0 0h24v24H0V0z\" fill=\"none\"/>\n",
              "    <path d=\"M18.56 5.44l.94 2.06.94-2.06 2.06-.94-2.06-.94-.94-2.06-.94 2.06-2.06.94zm-11 1L8.5 8.5l.94-2.06 2.06-.94-2.06-.94L8.5 2.5l-.94 2.06-2.06.94zm10 10l.94 2.06.94-2.06 2.06-.94-2.06-.94-.94-2.06-.94 2.06-2.06.94z\"/><path d=\"M17.41 7.96l-1.37-1.37c-.4-.4-.92-.59-1.43-.59-.52 0-1.04.2-1.43.59L10.3 9.45l-7.72 7.72c-.78.78-.78 2.05 0 2.83L4 21.41c.39.39.9.59 1.41.59.51 0 1.02-.2 1.41-.59l7.78-7.78 2.81-2.81c.8-.78.8-2.07 0-2.86zM5.41 20L4 18.59l7.72-7.72 1.47 1.35L5.41 20z\"/>\n",
              "  </svg>\n",
              "      </button>\n",
              "      \n",
              "  <style>\n",
              "    .colab-df-container {\n",
              "      display:flex;\n",
              "      flex-wrap:wrap;\n",
              "      gap: 12px;\n",
              "    }\n",
              "\n",
              "    .colab-df-convert {\n",
              "      background-color: #E8F0FE;\n",
              "      border: none;\n",
              "      border-radius: 50%;\n",
              "      cursor: pointer;\n",
              "      display: none;\n",
              "      fill: #1967D2;\n",
              "      height: 32px;\n",
              "      padding: 0 0 0 0;\n",
              "      width: 32px;\n",
              "    }\n",
              "\n",
              "    .colab-df-convert:hover {\n",
              "      background-color: #E2EBFA;\n",
              "      box-shadow: 0px 1px 2px rgba(60, 64, 67, 0.3), 0px 1px 3px 1px rgba(60, 64, 67, 0.15);\n",
              "      fill: #174EA6;\n",
              "    }\n",
              "\n",
              "    [theme=dark] .colab-df-convert {\n",
              "      background-color: #3B4455;\n",
              "      fill: #D2E3FC;\n",
              "    }\n",
              "\n",
              "    [theme=dark] .colab-df-convert:hover {\n",
              "      background-color: #434B5C;\n",
              "      box-shadow: 0px 1px 3px 1px rgba(0, 0, 0, 0.15);\n",
              "      filter: drop-shadow(0px 1px 2px rgba(0, 0, 0, 0.3));\n",
              "      fill: #FFFFFF;\n",
              "    }\n",
              "  </style>\n",
              "\n",
              "      <script>\n",
              "        const buttonEl =\n",
              "          document.querySelector('#df-07961f6c-1d0c-4fad-9682-034a27a7d135 button.colab-df-convert');\n",
              "        buttonEl.style.display =\n",
              "          google.colab.kernel.accessAllowed ? 'block' : 'none';\n",
              "\n",
              "        async function convertToInteractive(key) {\n",
              "          const element = document.querySelector('#df-07961f6c-1d0c-4fad-9682-034a27a7d135');\n",
              "          const dataTable =\n",
              "            await google.colab.kernel.invokeFunction('convertToInteractive',\n",
              "                                                     [key], {});\n",
              "          if (!dataTable) return;\n",
              "\n",
              "          const docLinkHtml = 'Like what you see? Visit the ' +\n",
              "            '<a target=\"_blank\" href=https://colab.research.google.com/notebooks/data_table.ipynb>data table notebook</a>'\n",
              "            + ' to learn more about interactive tables.';\n",
              "          element.innerHTML = '';\n",
              "          dataTable['output_type'] = 'display_data';\n",
              "          await google.colab.output.renderOutput(dataTable, element);\n",
              "          const docLink = document.createElement('div');\n",
              "          docLink.innerHTML = docLinkHtml;\n",
              "          element.appendChild(docLink);\n",
              "        }\n",
              "      </script>\n",
              "    </div>\n",
              "  </div>\n",
              "  "
            ]
          },
          "metadata": {},
          "execution_count": 58
        }
      ]
    },
    {
      "cell_type": "code",
      "source": [
        "# here I will visualize the real test values(y_test) versus the predicted values.\n",
        "plt.figure(figsize=(8,6))\n",
        "sns.scatterplot(x = np.ravel(predictions),y = y_test)\n",
        "plt.title(\"The Scatterplot of Relationship between Actual Values and Predictions\")\n",
        "plt.xlabel(\"Predictions\")\n",
        "plt.ylabel(\"Actual Values\")\n",
        "#It seems that our model predicts very well"
      ],
      "metadata": {
        "id": "_0hn_qkWiEhU",
        "colab": {
          "base_uri": "https://localhost:8080/",
          "height": 586
        },
        "outputId": "552bc8e9-ab94-4b2f-cea5-dccab3d0e94d"
      },
      "execution_count": null,
      "outputs": [
        {
          "output_type": "execute_result",
          "data": {
            "text/plain": [
              "Text(0, 0.5, 'Actual Values')"
            ]
          },
          "metadata": {},
          "execution_count": 59
        },
        {
          "output_type": "display_data",
          "data": {
            "text/plain": [
              "<Figure size 800x600 with 1 Axes>"
            ],
            "image/png": "[encoded data removed]"
          },
          "metadata": {}
        }
      ]
    },
    {
      "cell_type": "code",
      "source": [
        "print(\"Training\")\n",
        "pred_train= ann.predict(X_train)\n",
        "res(y_train,pred_train)\n",
        "\n",
        "print(\"Testing\")\n",
        "pred_test= ann.predict(X_test)\n",
        "res(y_test,pred_test)"
      ],
      "metadata": {
        "id": "ekzoJJsniIi6",
        "colab": {
          "base_uri": "https://localhost:8080/"
        },
        "outputId": "a9c0b894-cb43-45b6-f7d6-150413f6d45a"
      },
      "execution_count": null,
      "outputs": [
        {
          "output_type": "stream",
          "name": "stdout",
          "text": [
            "Training\n",
            "132/132 [==============================] - 0s 2ms/step\n",
            "Mean absolute error = 25.56\n",
            "Mean squared error = 692.08\n",
            "Median absolute error = 29.88\n",
            "Explain variance score = 0.0\n",
            "R2 score = -16.91\n",
            "Testing\n",
            "33/33 [==============================] - 0s 2ms/step\n",
            "Mean absolute error = 25.53\n",
            "Mean squared error = 692.15\n",
            "Median absolute error = 29.88\n",
            "Explain variance score = 0.0\n",
            "R2 score = -16.05\n"
          ]
        }
      ]
    }
  ]
}