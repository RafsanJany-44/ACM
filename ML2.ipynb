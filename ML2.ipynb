{
  "nbformat": 4,
  "nbformat_minor": 0,
  "metadata": {
    "colab": {
      "provenance": []
    },
    "kernelspec": {
      "name": "python3",
      "display_name": "Python 3"
    },
    "language_info": {
      "name": "python"
    }
  },
  "cells": [
    {
      "cell_type": "code",
      "source": [
        "from google.colab import drive\n",
        "drive.mount('/content/drive')"
      ],
      "metadata": {
        "id": "YCz0qT_GwIGQ",
        "outputId": "e5807c27-7b09-412c-9a39-1ac53ae031a8",
        "colab": {
          "base_uri": "https://localhost:8080/"
        }
      },
      "execution_count": null,
      "outputs": [
        {
          "output_type": "stream",
          "name": "stdout",
          "text": [
            "Drive already mounted at /content/drive; to attempt to forcibly remount, call drive.mount(\"/content/drive\", force_remount=True).\n"
          ]
        }
      ]
    },
    {
      "cell_type": "code",
      "execution_count": 1,
      "metadata": {
        "id": "WyLcsbNNkQhG"
      },
      "outputs": [],
      "source": [
        "import numpy as np\n",
        "import pandas as pd"
      ]
    },
    {
      "cell_type": "code",
      "source": [
        "#df = pd.read_csv(\"/content/drive/MyDrive/ML_Class_3/sleep_data/EEG_HMC_Wake_NREM_REM_3000.csv\")\n",
        "\n",
        "df = pd.read_csv(\"https://raw.githubusercontent.com/jini-the-coder/Diseaseprediction/master/Training.csv\")"
      ],
      "metadata": {
        "id": "jb_FBzovkhbP"
      },
      "execution_count": 2,
      "outputs": []
    },
    {
      "cell_type": "code",
      "source": [
        "target = \"prognosis\""
      ],
      "metadata": {
        "id": "vLVD9YETph7W"
      },
      "execution_count": 8,
      "outputs": []
    },
    {
      "cell_type": "code",
      "source": [
        "df.head(10)"
      ],
      "metadata": {
        "colab": {
          "base_uri": "https://localhost:8080/",
          "height": 630
        },
        "id": "pp1Lb9KSk86E",
        "outputId": "54185a1e-139a-498f-ea67-263ab2abbf42"
      },
      "execution_count": 3,
      "outputs": [
        {
          "output_type": "execute_result",
          "data": {
            "text/plain": [
              "   itching  skin_rash  nodal_skin_eruptions  continuous_sneezing  shivering  \\\n",
              "0        1          1                     1                    0          0   \n",
              "1        0          1                     1                    0          0   \n",
              "2        1          0                     1                    0          0   \n",
              "3        1          1                     0                    0          0   \n",
              "4        1          1                     1                    0          0   \n",
              "5        0          1                     1                    0          0   \n",
              "6        1          0                     1                    0          0   \n",
              "7        1          1                     0                    0          0   \n",
              "8        1          1                     1                    0          0   \n",
              "9        1          1                     1                    0          0   \n",
              "\n",
              "   chills  joint_pain  stomach_pain  acidity  ulcers_on_tongue  ...  \\\n",
              "0       0           0             0        0                 0  ...   \n",
              "1       0           0             0        0                 0  ...   \n",
              "2       0           0             0        0                 0  ...   \n",
              "3       0           0             0        0                 0  ...   \n",
              "4       0           0             0        0                 0  ...   \n",
              "5       0           0             0        0                 0  ...   \n",
              "6       0           0             0        0                 0  ...   \n",
              "7       0           0             0        0                 0  ...   \n",
              "8       0           0             0        0                 0  ...   \n",
              "9       0           0             0        0                 0  ...   \n",
              "\n",
              "   blackheads  scurring  skin_peeling  silver_like_dusting  \\\n",
              "0           0         0             0                    0   \n",
              "1           0         0             0                    0   \n",
              "2           0         0             0                    0   \n",
              "3           0         0             0                    0   \n",
              "4           0         0             0                    0   \n",
              "5           0         0             0                    0   \n",
              "6           0         0             0                    0   \n",
              "7           0         0             0                    0   \n",
              "8           0         0             0                    0   \n",
              "9           0         0             0                    0   \n",
              "\n",
              "   small_dents_in_nails  inflammatory_nails  blister  red_sore_around_nose  \\\n",
              "0                     0                   0        0                     0   \n",
              "1                     0                   0        0                     0   \n",
              "2                     0                   0        0                     0   \n",
              "3                     0                   0        0                     0   \n",
              "4                     0                   0        0                     0   \n",
              "5                     0                   0        0                     0   \n",
              "6                     0                   0        0                     0   \n",
              "7                     0                   0        0                     0   \n",
              "8                     0                   0        0                     0   \n",
              "9                     0                   0        0                     0   \n",
              "\n",
              "   yellow_crust_ooze         prognosis  \n",
              "0                  0  Fungal infection  \n",
              "1                  0  Fungal infection  \n",
              "2                  0  Fungal infection  \n",
              "3                  0  Fungal infection  \n",
              "4                  0  Fungal infection  \n",
              "5                  0  Fungal infection  \n",
              "6                  0  Fungal infection  \n",
              "7                  0  Fungal infection  \n",
              "8                  0  Fungal infection  \n",
              "9                  0  Fungal infection  \n",
              "\n",
              "[10 rows x 133 columns]"
            ],
            "text/html": [
              "\n",
              "  <div id=\"df-e39a6e3d-813a-4435-864e-d552c4a45cdd\">\n",
              "    <div class=\"colab-df-container\">\n",
              "      <div>\n",
              "<style scoped>\n",
              "    .dataframe tbody tr th:only-of-type {\n",
              "        vertical-align: middle;\n",
              "    }\n",
              "\n",
              "    .dataframe tbody tr th {\n",
              "        vertical-align: top;\n",
              "    }\n",
              "\n",
              "    .dataframe thead th {\n",
              "        text-align: right;\n",
              "    }\n",
              "</style>\n",
              "<table border=\"1\" class=\"dataframe\">\n",
              "  <thead>\n",
              "    <tr style=\"text-align: right;\">\n",
              "      <th></th>\n",
              "      <th>itching</th>\n",
              "      <th>skin_rash</th>\n",
              "      <th>nodal_skin_eruptions</th>\n",
              "      <th>continuous_sneezing</th>\n",
              "      <th>shivering</th>\n",
              "      <th>chills</th>\n",
              "      <th>joint_pain</th>\n",
              "      <th>stomach_pain</th>\n",
              "      <th>acidity</th>\n",
              "      <th>ulcers_on_tongue</th>\n",
              "      <th>...</th>\n",
              "      <th>blackheads</th>\n",
              "      <th>scurring</th>\n",
              "      <th>skin_peeling</th>\n",
              "      <th>silver_like_dusting</th>\n",
              "      <th>small_dents_in_nails</th>\n",
              "      <th>inflammatory_nails</th>\n",
              "      <th>blister</th>\n",
              "      <th>red_sore_around_nose</th>\n",
              "      <th>yellow_crust_ooze</th>\n",
              "      <th>prognosis</th>\n",
              "    </tr>\n",
              "  </thead>\n",
              "  <tbody>\n",
              "    <tr>\n",
              "      <th>0</th>\n",
              "      <td>1</td>\n",
              "      <td>1</td>\n",
              "      <td>1</td>\n",
              "      <td>0</td>\n",
              "      <td>0</td>\n",
              "      <td>0</td>\n",
              "      <td>0</td>\n",
              "      <td>0</td>\n",
              "      <td>0</td>\n",
              "      <td>0</td>\n",
              "      <td>...</td>\n",
              "      <td>0</td>\n",
              "      <td>0</td>\n",
              "      <td>0</td>\n",
              "      <td>0</td>\n",
              "      <td>0</td>\n",
              "      <td>0</td>\n",
              "      <td>0</td>\n",
              "      <td>0</td>\n",
              "      <td>0</td>\n",
              "      <td>Fungal infection</td>\n",
              "    </tr>\n",
              "    <tr>\n",
              "      <th>1</th>\n",
              "      <td>0</td>\n",
              "      <td>1</td>\n",
              "      <td>1</td>\n",
              "      <td>0</td>\n",
              "      <td>0</td>\n",
              "      <td>0</td>\n",
              "      <td>0</td>\n",
              "      <td>0</td>\n",
              "      <td>0</td>\n",
              "      <td>0</td>\n",
              "      <td>...</td>\n",
              "      <td>0</td>\n",
              "      <td>0</td>\n",
              "      <td>0</td>\n",
              "      <td>0</td>\n",
              "      <td>0</td>\n",
              "      <td>0</td>\n",
              "      <td>0</td>\n",
              "      <td>0</td>\n",
              "      <td>0</td>\n",
              "      <td>Fungal infection</td>\n",
              "    </tr>\n",
              "    <tr>\n",
              "      <th>2</th>\n",
              "      <td>1</td>\n",
              "      <td>0</td>\n",
              "      <td>1</td>\n",
              "      <td>0</td>\n",
              "      <td>0</td>\n",
              "      <td>0</td>\n",
              "      <td>0</td>\n",
              "      <td>0</td>\n",
              "      <td>0</td>\n",
              "      <td>0</td>\n",
              "      <td>...</td>\n",
              "      <td>0</td>\n",
              "      <td>0</td>\n",
              "      <td>0</td>\n",
              "      <td>0</td>\n",
              "      <td>0</td>\n",
              "      <td>0</td>\n",
              "      <td>0</td>\n",
              "      <td>0</td>\n",
              "      <td>0</td>\n",
              "      <td>Fungal infection</td>\n",
              "    </tr>\n",
              "    <tr>\n",
              "      <th>3</th>\n",
              "      <td>1</td>\n",
              "      <td>1</td>\n",
              "      <td>0</td>\n",
              "      <td>0</td>\n",
              "      <td>0</td>\n",
              "      <td>0</td>\n",
              "      <td>0</td>\n",
              "      <td>0</td>\n",
              "      <td>0</td>\n",
              "      <td>0</td>\n",
              "      <td>...</td>\n",
              "      <td>0</td>\n",
              "      <td>0</td>\n",
              "      <td>0</td>\n",
              "      <td>0</td>\n",
              "      <td>0</td>\n",
              "      <td>0</td>\n",
              "      <td>0</td>\n",
              "      <td>0</td>\n",
              "      <td>0</td>\n",
              "      <td>Fungal infection</td>\n",
              "    </tr>\n",
              "    <tr>\n",
              "      <th>4</th>\n",
              "      <td>1</td>\n",
              "      <td>1</td>\n",
              "      <td>1</td>\n",
              "      <td>0</td>\n",
              "      <td>0</td>\n",
              "      <td>0</td>\n",
              "      <td>0</td>\n",
              "      <td>0</td>\n",
              "      <td>0</td>\n",
              "      <td>0</td>\n",
              "      <td>...</td>\n",
              "      <td>0</td>\n",
              "      <td>0</td>\n",
              "      <td>0</td>\n",
              "      <td>0</td>\n",
              "      <td>0</td>\n",
              "      <td>0</td>\n",
              "      <td>0</td>\n",
              "      <td>0</td>\n",
              "      <td>0</td>\n",
              "      <td>Fungal infection</td>\n",
              "    </tr>\n",
              "    <tr>\n",
              "      <th>5</th>\n",
              "      <td>0</td>\n",
              "      <td>1</td>\n",
              "      <td>1</td>\n",
              "      <td>0</td>\n",
              "      <td>0</td>\n",
              "      <td>0</td>\n",
              "      <td>0</td>\n",
              "      <td>0</td>\n",
              "      <td>0</td>\n",
              "      <td>0</td>\n",
              "      <td>...</td>\n",
              "      <td>0</td>\n",
              "      <td>0</td>\n",
              "      <td>0</td>\n",
              "      <td>0</td>\n",
              "      <td>0</td>\n",
              "      <td>0</td>\n",
              "      <td>0</td>\n",
              "      <td>0</td>\n",
              "      <td>0</td>\n",
              "      <td>Fungal infection</td>\n",
              "    </tr>\n",
              "    <tr>\n",
              "      <th>6</th>\n",
              "      <td>1</td>\n",
              "      <td>0</td>\n",
              "      <td>1</td>\n",
              "      <td>0</td>\n",
              "      <td>0</td>\n",
              "      <td>0</td>\n",
              "      <td>0</td>\n",
              "      <td>0</td>\n",
              "      <td>0</td>\n",
              "      <td>0</td>\n",
              "      <td>...</td>\n",
              "      <td>0</td>\n",
              "      <td>0</td>\n",
              "      <td>0</td>\n",
              "      <td>0</td>\n",
              "      <td>0</td>\n",
              "      <td>0</td>\n",
              "      <td>0</td>\n",
              "      <td>0</td>\n",
              "      <td>0</td>\n",
              "      <td>Fungal infection</td>\n",
              "    </tr>\n",
              "    <tr>\n",
              "      <th>7</th>\n",
              "      <td>1</td>\n",
              "      <td>1</td>\n",
              "      <td>0</td>\n",
              "      <td>0</td>\n",
              "      <td>0</td>\n",
              "      <td>0</td>\n",
              "      <td>0</td>\n",
              "      <td>0</td>\n",
              "      <td>0</td>\n",
              "      <td>0</td>\n",
              "      <td>...</td>\n",
              "      <td>0</td>\n",
              "      <td>0</td>\n",
              "      <td>0</td>\n",
              "      <td>0</td>\n",
              "      <td>0</td>\n",
              "      <td>0</td>\n",
              "      <td>0</td>\n",
              "      <td>0</td>\n",
              "      <td>0</td>\n",
              "      <td>Fungal infection</td>\n",
              "    </tr>\n",
              "    <tr>\n",
              "      <th>8</th>\n",
              "      <td>1</td>\n",
              "      <td>1</td>\n",
              "      <td>1</td>\n",
              "      <td>0</td>\n",
              "      <td>0</td>\n",
              "      <td>0</td>\n",
              "      <td>0</td>\n",
              "      <td>0</td>\n",
              "      <td>0</td>\n",
              "      <td>0</td>\n",
              "      <td>...</td>\n",
              "      <td>0</td>\n",
              "      <td>0</td>\n",
              "      <td>0</td>\n",
              "      <td>0</td>\n",
              "      <td>0</td>\n",
              "      <td>0</td>\n",
              "      <td>0</td>\n",
              "      <td>0</td>\n",
              "      <td>0</td>\n",
              "      <td>Fungal infection</td>\n",
              "    </tr>\n",
              "    <tr>\n",
              "      <th>9</th>\n",
              "      <td>1</td>\n",
              "      <td>1</td>\n",
              "      <td>1</td>\n",
              "      <td>0</td>\n",
              "      <td>0</td>\n",
              "      <td>0</td>\n",
              "      <td>0</td>\n",
              "      <td>0</td>\n",
              "      <td>0</td>\n",
              "      <td>0</td>\n",
              "      <td>...</td>\n",
              "      <td>0</td>\n",
              "      <td>0</td>\n",
              "      <td>0</td>\n",
              "      <td>0</td>\n",
              "      <td>0</td>\n",
              "      <td>0</td>\n",
              "      <td>0</td>\n",
              "      <td>0</td>\n",
              "      <td>0</td>\n",
              "      <td>Fungal infection</td>\n",
              "    </tr>\n",
              "  </tbody>\n",
              "</table>\n",
              "<p>10 rows × 133 columns</p>\n",
              "</div>\n",
              "      <button class=\"colab-df-convert\" onclick=\"convertToInteractive('df-e39a6e3d-813a-4435-864e-d552c4a45cdd')\"\n",
              "              title=\"Convert this dataframe to an interactive table.\"\n",
              "              style=\"display:none;\">\n",
              "        \n",
              "  <svg xmlns=\"http://www.w3.org/2000/svg\" height=\"24px\"viewBox=\"0 0 24 24\"\n",
              "       width=\"24px\">\n",
              "    <path d=\"M0 0h24v24H0V0z\" fill=\"none\"/>\n",
              "    <path d=\"M18.56 5.44l.94 2.06.94-2.06 2.06-.94-2.06-.94-.94-2.06-.94 2.06-2.06.94zm-11 1L8.5 8.5l.94-2.06 2.06-.94-2.06-.94L8.5 2.5l-.94 2.06-2.06.94zm10 10l.94 2.06.94-2.06 2.06-.94-2.06-.94-.94-2.06-.94 2.06-2.06.94z\"/><path d=\"M17.41 7.96l-1.37-1.37c-.4-.4-.92-.59-1.43-.59-.52 0-1.04.2-1.43.59L10.3 9.45l-7.72 7.72c-.78.78-.78 2.05 0 2.83L4 21.41c.39.39.9.59 1.41.59.51 0 1.02-.2 1.41-.59l7.78-7.78 2.81-2.81c.8-.78.8-2.07 0-2.86zM5.41 20L4 18.59l7.72-7.72 1.47 1.35L5.41 20z\"/>\n",
              "  </svg>\n",
              "      </button>\n",
              "      \n",
              "  <style>\n",
              "    .colab-df-container {\n",
              "      display:flex;\n",
              "      flex-wrap:wrap;\n",
              "      gap: 12px;\n",
              "    }\n",
              "\n",
              "    .colab-df-convert {\n",
              "      background-color: #E8F0FE;\n",
              "      border: none;\n",
              "      border-radius: 50%;\n",
              "      cursor: pointer;\n",
              "      display: none;\n",
              "      fill: #1967D2;\n",
              "      height: 32px;\n",
              "      padding: 0 0 0 0;\n",
              "      width: 32px;\n",
              "    }\n",
              "\n",
              "    .colab-df-convert:hover {\n",
              "      background-color: #E2EBFA;\n",
              "      box-shadow: 0px 1px 2px rgba(60, 64, 67, 0.3), 0px 1px 3px 1px rgba(60, 64, 67, 0.15);\n",
              "      fill: #174EA6;\n",
              "    }\n",
              "\n",
              "    [theme=dark] .colab-df-convert {\n",
              "      background-color: #3B4455;\n",
              "      fill: #D2E3FC;\n",
              "    }\n",
              "\n",
              "    [theme=dark] .colab-df-convert:hover {\n",
              "      background-color: #434B5C;\n",
              "      box-shadow: 0px 1px 3px 1px rgba(0, 0, 0, 0.15);\n",
              "      filter: drop-shadow(0px 1px 2px rgba(0, 0, 0, 0.3));\n",
              "      fill: #FFFFFF;\n",
              "    }\n",
              "  </style>\n",
              "\n",
              "      <script>\n",
              "        const buttonEl =\n",
              "          document.querySelector('#df-e39a6e3d-813a-4435-864e-d552c4a45cdd button.colab-df-convert');\n",
              "        buttonEl.style.display =\n",
              "          google.colab.kernel.accessAllowed ? 'block' : 'none';\n",
              "\n",
              "        async function convertToInteractive(key) {\n",
              "          const element = document.querySelector('#df-e39a6e3d-813a-4435-864e-d552c4a45cdd');\n",
              "          const dataTable =\n",
              "            await google.colab.kernel.invokeFunction('convertToInteractive',\n",
              "                                                     [key], {});\n",
              "          if (!dataTable) return;\n",
              "\n",
              "          const docLinkHtml = 'Like what you see? Visit the ' +\n",
              "            '<a target=\"_blank\" href=https://colab.research.google.com/notebooks/data_table.ipynb>data table notebook</a>'\n",
              "            + ' to learn more about interactive tables.';\n",
              "          element.innerHTML = '';\n",
              "          dataTable['output_type'] = 'display_data';\n",
              "          await google.colab.output.renderOutput(dataTable, element);\n",
              "          const docLink = document.createElement('div');\n",
              "          docLink.innerHTML = docLinkHtml;\n",
              "          element.appendChild(docLink);\n",
              "        }\n",
              "      </script>\n",
              "    </div>\n",
              "  </div>\n",
              "  "
            ]
          },
          "metadata": {},
          "execution_count": 3
        }
      ]
    },
    {
      "cell_type": "code",
      "source": [
        "df.shape"
      ],
      "metadata": {
        "colab": {
          "base_uri": "https://localhost:8080/"
        },
        "id": "316IKr94lnjQ",
        "outputId": "ae65f17f-46b9-4806-ceff-bc466083760f"
      },
      "execution_count": 4,
      "outputs": [
        {
          "output_type": "execute_result",
          "data": {
            "text/plain": [
              "(4920, 133)"
            ]
          },
          "metadata": {},
          "execution_count": 4
        }
      ]
    },
    {
      "cell_type": "code",
      "source": [
        "list(df.columns)"
      ],
      "metadata": {
        "colab": {
          "base_uri": "https://localhost:8080/"
        },
        "id": "msJjsTqKk_sZ",
        "outputId": "ff514f7f-05d3-4a19-c25f-bad2de04e895"
      },
      "execution_count": 5,
      "outputs": [
        {
          "output_type": "execute_result",
          "data": {
            "text/plain": [
              "['itching',\n",
              " 'skin_rash',\n",
              " 'nodal_skin_eruptions',\n",
              " 'continuous_sneezing',\n",
              " 'shivering',\n",
              " 'chills',\n",
              " 'joint_pain',\n",
              " 'stomach_pain',\n",
              " 'acidity',\n",
              " 'ulcers_on_tongue',\n",
              " 'muscle_wasting',\n",
              " 'vomiting',\n",
              " 'burning_micturition',\n",
              " 'spotting_ urination',\n",
              " 'fatigue',\n",
              " 'weight_gain',\n",
              " 'anxiety',\n",
              " 'cold_hands_and_feets',\n",
              " 'mood_swings',\n",
              " 'weight_loss',\n",
              " 'restlessness',\n",
              " 'lethargy',\n",
              " 'patches_in_throat',\n",
              " 'irregular_sugar_level',\n",
              " 'cough',\n",
              " 'high_fever',\n",
              " 'sunken_eyes',\n",
              " 'breathlessness',\n",
              " 'sweating',\n",
              " 'dehydration',\n",
              " 'indigestion',\n",
              " 'headache',\n",
              " 'yellowish_skin',\n",
              " 'dark_urine',\n",
              " 'nausea',\n",
              " 'loss_of_appetite',\n",
              " 'pain_behind_the_eyes',\n",
              " 'back_pain',\n",
              " 'constipation',\n",
              " 'abdominal_pain',\n",
              " 'diarrhoea',\n",
              " 'mild_fever',\n",
              " 'yellow_urine',\n",
              " 'yellowing_of_eyes',\n",
              " 'acute_liver_failure',\n",
              " 'fluid_overload',\n",
              " 'swelling_of_stomach',\n",
              " 'swelled_lymph_nodes',\n",
              " 'malaise',\n",
              " 'blurred_and_distorted_vision',\n",
              " 'phlegm',\n",
              " 'throat_irritation',\n",
              " 'redness_of_eyes',\n",
              " 'sinus_pressure',\n",
              " 'runny_nose',\n",
              " 'congestion',\n",
              " 'chest_pain',\n",
              " 'weakness_in_limbs',\n",
              " 'fast_heart_rate',\n",
              " 'pain_during_bowel_movements',\n",
              " 'pain_in_anal_region',\n",
              " 'bloody_stool',\n",
              " 'irritation_in_anus',\n",
              " 'neck_pain',\n",
              " 'dizziness',\n",
              " 'cramps',\n",
              " 'bruising',\n",
              " 'obesity',\n",
              " 'swollen_legs',\n",
              " 'swollen_blood_vessels',\n",
              " 'puffy_face_and_eyes',\n",
              " 'enlarged_thyroid',\n",
              " 'brittle_nails',\n",
              " 'swollen_extremeties',\n",
              " 'excessive_hunger',\n",
              " 'extra_marital_contacts',\n",
              " 'drying_and_tingling_lips',\n",
              " 'slurred_speech',\n",
              " 'knee_pain',\n",
              " 'hip_joint_pain',\n",
              " 'muscle_weakness',\n",
              " 'stiff_neck',\n",
              " 'swelling_joints',\n",
              " 'movement_stiffness',\n",
              " 'spinning_movements',\n",
              " 'loss_of_balance',\n",
              " 'unsteadiness',\n",
              " 'weakness_of_one_body_side',\n",
              " 'loss_of_smell',\n",
              " 'bladder_discomfort',\n",
              " 'foul_smell_of urine',\n",
              " 'continuous_feel_of_urine',\n",
              " 'passage_of_gases',\n",
              " 'internal_itching',\n",
              " 'toxic_look_(typhos)',\n",
              " 'depression',\n",
              " 'irritability',\n",
              " 'muscle_pain',\n",
              " 'altered_sensorium',\n",
              " 'red_spots_over_body',\n",
              " 'belly_pain',\n",
              " 'abnormal_menstruation',\n",
              " 'dischromic _patches',\n",
              " 'watering_from_eyes',\n",
              " 'increased_appetite',\n",
              " 'polyuria',\n",
              " 'family_history',\n",
              " 'mucoid_sputum',\n",
              " 'rusty_sputum',\n",
              " 'lack_of_concentration',\n",
              " 'visual_disturbances',\n",
              " 'receiving_blood_transfusion',\n",
              " 'receiving_unsterile_injections',\n",
              " 'coma',\n",
              " 'stomach_bleeding',\n",
              " 'distention_of_abdomen',\n",
              " 'history_of_alcohol_consumption',\n",
              " 'fluid_overload.1',\n",
              " 'blood_in_sputum',\n",
              " 'prominent_veins_on_calf',\n",
              " 'palpitations',\n",
              " 'painful_walking',\n",
              " 'pus_filled_pimples',\n",
              " 'blackheads',\n",
              " 'scurring',\n",
              " 'skin_peeling',\n",
              " 'silver_like_dusting',\n",
              " 'small_dents_in_nails',\n",
              " 'inflammatory_nails',\n",
              " 'blister',\n",
              " 'red_sore_around_nose',\n",
              " 'yellow_crust_ooze',\n",
              " 'prognosis']"
            ]
          },
          "metadata": {},
          "execution_count": 5
        }
      ]
    },
    {
      "cell_type": "code",
      "source": [
        "df.info()"
      ],
      "metadata": {
        "colab": {
          "base_uri": "https://localhost:8080/"
        },
        "id": "gfVXNV-aliiZ",
        "outputId": "8c6d9ffb-96b8-4b42-f1b5-bb02ae254e0f"
      },
      "execution_count": 6,
      "outputs": [
        {
          "output_type": "stream",
          "name": "stdout",
          "text": [
            "<class 'pandas.core.frame.DataFrame'>\n",
            "RangeIndex: 4920 entries, 0 to 4919\n",
            "Columns: 133 entries, itching to prognosis\n",
            "dtypes: int64(132), object(1)\n",
            "memory usage: 5.0+ MB\n"
          ]
        }
      ]
    },
    {
      "cell_type": "code",
      "source": [
        "df.describe()"
      ],
      "metadata": {
        "colab": {
          "base_uri": "https://localhost:8080/",
          "height": 394
        },
        "id": "PJUMPGyHm3bR",
        "outputId": "f1aae81c-53fb-4a3f-f4de-d53e6052047b"
      },
      "execution_count": 7,
      "outputs": [
        {
          "output_type": "execute_result",
          "data": {
            "text/plain": [
              "           itching    skin_rash  nodal_skin_eruptions  continuous_sneezing  \\\n",
              "count  4920.000000  4920.000000           4920.000000          4920.000000   \n",
              "mean      0.137805     0.159756              0.021951             0.045122   \n",
              "std       0.344730     0.366417              0.146539             0.207593   \n",
              "min       0.000000     0.000000              0.000000             0.000000   \n",
              "25%       0.000000     0.000000              0.000000             0.000000   \n",
              "50%       0.000000     0.000000              0.000000             0.000000   \n",
              "75%       0.000000     0.000000              0.000000             0.000000   \n",
              "max       1.000000     1.000000              1.000000             1.000000   \n",
              "\n",
              "         shivering       chills   joint_pain  stomach_pain      acidity  \\\n",
              "count  4920.000000  4920.000000  4920.000000   4920.000000  4920.000000   \n",
              "mean      0.021951     0.162195     0.139024      0.045122     0.045122   \n",
              "std       0.146539     0.368667     0.346007      0.207593     0.207593   \n",
              "min       0.000000     0.000000     0.000000      0.000000     0.000000   \n",
              "25%       0.000000     0.000000     0.000000      0.000000     0.000000   \n",
              "50%       0.000000     0.000000     0.000000      0.000000     0.000000   \n",
              "75%       0.000000     0.000000     0.000000      0.000000     0.000000   \n",
              "max       1.000000     1.000000     1.000000      1.000000     1.000000   \n",
              "\n",
              "       ulcers_on_tongue  ...  pus_filled_pimples   blackheads     scurring  \\\n",
              "count       4920.000000  ...         4920.000000  4920.000000  4920.000000   \n",
              "mean           0.021951  ...            0.021951     0.021951     0.021951   \n",
              "std            0.146539  ...            0.146539     0.146539     0.146539   \n",
              "min            0.000000  ...            0.000000     0.000000     0.000000   \n",
              "25%            0.000000  ...            0.000000     0.000000     0.000000   \n",
              "50%            0.000000  ...            0.000000     0.000000     0.000000   \n",
              "75%            0.000000  ...            0.000000     0.000000     0.000000   \n",
              "max            1.000000  ...            1.000000     1.000000     1.000000   \n",
              "\n",
              "       skin_peeling  silver_like_dusting  small_dents_in_nails  \\\n",
              "count   4920.000000          4920.000000           4920.000000   \n",
              "mean       0.023171             0.023171              0.023171   \n",
              "std        0.150461             0.150461              0.150461   \n",
              "min        0.000000             0.000000              0.000000   \n",
              "25%        0.000000             0.000000              0.000000   \n",
              "50%        0.000000             0.000000              0.000000   \n",
              "75%        0.000000             0.000000              0.000000   \n",
              "max        1.000000             1.000000              1.000000   \n",
              "\n",
              "       inflammatory_nails      blister  red_sore_around_nose  \\\n",
              "count         4920.000000  4920.000000           4920.000000   \n",
              "mean             0.023171     0.023171              0.023171   \n",
              "std              0.150461     0.150461              0.150461   \n",
              "min              0.000000     0.000000              0.000000   \n",
              "25%              0.000000     0.000000              0.000000   \n",
              "50%              0.000000     0.000000              0.000000   \n",
              "75%              0.000000     0.000000              0.000000   \n",
              "max              1.000000     1.000000              1.000000   \n",
              "\n",
              "       yellow_crust_ooze  \n",
              "count        4920.000000  \n",
              "mean            0.023171  \n",
              "std             0.150461  \n",
              "min             0.000000  \n",
              "25%             0.000000  \n",
              "50%             0.000000  \n",
              "75%             0.000000  \n",
              "max             1.000000  \n",
              "\n",
              "[8 rows x 132 columns]"
            ],
            "text/html": [
              "\n",
              "  <div id=\"df-5ad03507-a5d6-413a-b976-88923723f413\">\n",
              "    <div class=\"colab-df-container\">\n",
              "      <div>\n",
              "<style scoped>\n",
              "    .dataframe tbody tr th:only-of-type {\n",
              "        vertical-align: middle;\n",
              "    }\n",
              "\n",
              "    .dataframe tbody tr th {\n",
              "        vertical-align: top;\n",
              "    }\n",
              "\n",
              "    .dataframe thead th {\n",
              "        text-align: right;\n",
              "    }\n",
              "</style>\n",
              "<table border=\"1\" class=\"dataframe\">\n",
              "  <thead>\n",
              "    <tr style=\"text-align: right;\">\n",
              "      <th></th>\n",
              "      <th>itching</th>\n",
              "      <th>skin_rash</th>\n",
              "      <th>nodal_skin_eruptions</th>\n",
              "      <th>continuous_sneezing</th>\n",
              "      <th>shivering</th>\n",
              "      <th>chills</th>\n",
              "      <th>joint_pain</th>\n",
              "      <th>stomach_pain</th>\n",
              "      <th>acidity</th>\n",
              "      <th>ulcers_on_tongue</th>\n",
              "      <th>...</th>\n",
              "      <th>pus_filled_pimples</th>\n",
              "      <th>blackheads</th>\n",
              "      <th>scurring</th>\n",
              "      <th>skin_peeling</th>\n",
              "      <th>silver_like_dusting</th>\n",
              "      <th>small_dents_in_nails</th>\n",
              "      <th>inflammatory_nails</th>\n",
              "      <th>blister</th>\n",
              "      <th>red_sore_around_nose</th>\n",
              "      <th>yellow_crust_ooze</th>\n",
              "    </tr>\n",
              "  </thead>\n",
              "  <tbody>\n",
              "    <tr>\n",
              "      <th>count</th>\n",
              "      <td>4920.000000</td>\n",
              "      <td>4920.000000</td>\n",
              "      <td>4920.000000</td>\n",
              "      <td>4920.000000</td>\n",
              "      <td>4920.000000</td>\n",
              "      <td>4920.000000</td>\n",
              "      <td>4920.000000</td>\n",
              "      <td>4920.000000</td>\n",
              "      <td>4920.000000</td>\n",
              "      <td>4920.000000</td>\n",
              "      <td>...</td>\n",
              "      <td>4920.000000</td>\n",
              "      <td>4920.000000</td>\n",
              "      <td>4920.000000</td>\n",
              "      <td>4920.000000</td>\n",
              "      <td>4920.000000</td>\n",
              "      <td>4920.000000</td>\n",
              "      <td>4920.000000</td>\n",
              "      <td>4920.000000</td>\n",
              "      <td>4920.000000</td>\n",
              "      <td>4920.000000</td>\n",
              "    </tr>\n",
              "    <tr>\n",
              "      <th>mean</th>\n",
              "      <td>0.137805</td>\n",
              "      <td>0.159756</td>\n",
              "      <td>0.021951</td>\n",
              "      <td>0.045122</td>\n",
              "      <td>0.021951</td>\n",
              "      <td>0.162195</td>\n",
              "      <td>0.139024</td>\n",
              "      <td>0.045122</td>\n",
              "      <td>0.045122</td>\n",
              "      <td>0.021951</td>\n",
              "      <td>...</td>\n",
              "      <td>0.021951</td>\n",
              "      <td>0.021951</td>\n",
              "      <td>0.021951</td>\n",
              "      <td>0.023171</td>\n",
              "      <td>0.023171</td>\n",
              "      <td>0.023171</td>\n",
              "      <td>0.023171</td>\n",
              "      <td>0.023171</td>\n",
              "      <td>0.023171</td>\n",
              "      <td>0.023171</td>\n",
              "    </tr>\n",
              "    <tr>\n",
              "      <th>std</th>\n",
              "      <td>0.344730</td>\n",
              "      <td>0.366417</td>\n",
              "      <td>0.146539</td>\n",
              "      <td>0.207593</td>\n",
              "      <td>0.146539</td>\n",
              "      <td>0.368667</td>\n",
              "      <td>0.346007</td>\n",
              "      <td>0.207593</td>\n",
              "      <td>0.207593</td>\n",
              "      <td>0.146539</td>\n",
              "      <td>...</td>\n",
              "      <td>0.146539</td>\n",
              "      <td>0.146539</td>\n",
              "      <td>0.146539</td>\n",
              "      <td>0.150461</td>\n",
              "      <td>0.150461</td>\n",
              "      <td>0.150461</td>\n",
              "      <td>0.150461</td>\n",
              "      <td>0.150461</td>\n",
              "      <td>0.150461</td>\n",
              "      <td>0.150461</td>\n",
              "    </tr>\n",
              "    <tr>\n",
              "      <th>min</th>\n",
              "      <td>0.000000</td>\n",
              "      <td>0.000000</td>\n",
              "      <td>0.000000</td>\n",
              "      <td>0.000000</td>\n",
              "      <td>0.000000</td>\n",
              "      <td>0.000000</td>\n",
              "      <td>0.000000</td>\n",
              "      <td>0.000000</td>\n",
              "      <td>0.000000</td>\n",
              "      <td>0.000000</td>\n",
              "      <td>...</td>\n",
              "      <td>0.000000</td>\n",
              "      <td>0.000000</td>\n",
              "      <td>0.000000</td>\n",
              "      <td>0.000000</td>\n",
              "      <td>0.000000</td>\n",
              "      <td>0.000000</td>\n",
              "      <td>0.000000</td>\n",
              "      <td>0.000000</td>\n",
              "      <td>0.000000</td>\n",
              "      <td>0.000000</td>\n",
              "    </tr>\n",
              "    <tr>\n",
              "      <th>25%</th>\n",
              "      <td>0.000000</td>\n",
              "      <td>0.000000</td>\n",
              "      <td>0.000000</td>\n",
              "      <td>0.000000</td>\n",
              "      <td>0.000000</td>\n",
              "      <td>0.000000</td>\n",
              "      <td>0.000000</td>\n",
              "      <td>0.000000</td>\n",
              "      <td>0.000000</td>\n",
              "      <td>0.000000</td>\n",
              "      <td>...</td>\n",
              "      <td>0.000000</td>\n",
              "      <td>0.000000</td>\n",
              "      <td>0.000000</td>\n",
              "      <td>0.000000</td>\n",
              "      <td>0.000000</td>\n",
              "      <td>0.000000</td>\n",
              "      <td>0.000000</td>\n",
              "      <td>0.000000</td>\n",
              "      <td>0.000000</td>\n",
              "      <td>0.000000</td>\n",
              "    </tr>\n",
              "    <tr>\n",
              "      <th>50%</th>\n",
              "      <td>0.000000</td>\n",
              "      <td>0.000000</td>\n",
              "      <td>0.000000</td>\n",
              "      <td>0.000000</td>\n",
              "      <td>0.000000</td>\n",
              "      <td>0.000000</td>\n",
              "      <td>0.000000</td>\n",
              "      <td>0.000000</td>\n",
              "      <td>0.000000</td>\n",
              "      <td>0.000000</td>\n",
              "      <td>...</td>\n",
              "      <td>0.000000</td>\n",
              "      <td>0.000000</td>\n",
              "      <td>0.000000</td>\n",
              "      <td>0.000000</td>\n",
              "      <td>0.000000</td>\n",
              "      <td>0.000000</td>\n",
              "      <td>0.000000</td>\n",
              "      <td>0.000000</td>\n",
              "      <td>0.000000</td>\n",
              "      <td>0.000000</td>\n",
              "    </tr>\n",
              "    <tr>\n",
              "      <th>75%</th>\n",
              "      <td>0.000000</td>\n",
              "      <td>0.000000</td>\n",
              "      <td>0.000000</td>\n",
              "      <td>0.000000</td>\n",
              "      <td>0.000000</td>\n",
              "      <td>0.000000</td>\n",
              "      <td>0.000000</td>\n",
              "      <td>0.000000</td>\n",
              "      <td>0.000000</td>\n",
              "      <td>0.000000</td>\n",
              "      <td>...</td>\n",
              "      <td>0.000000</td>\n",
              "      <td>0.000000</td>\n",
              "      <td>0.000000</td>\n",
              "      <td>0.000000</td>\n",
              "      <td>0.000000</td>\n",
              "      <td>0.000000</td>\n",
              "      <td>0.000000</td>\n",
              "      <td>0.000000</td>\n",
              "      <td>0.000000</td>\n",
              "      <td>0.000000</td>\n",
              "    </tr>\n",
              "    <tr>\n",
              "      <th>max</th>\n",
              "      <td>1.000000</td>\n",
              "      <td>1.000000</td>\n",
              "      <td>1.000000</td>\n",
              "      <td>1.000000</td>\n",
              "      <td>1.000000</td>\n",
              "      <td>1.000000</td>\n",
              "      <td>1.000000</td>\n",
              "      <td>1.000000</td>\n",
              "      <td>1.000000</td>\n",
              "      <td>1.000000</td>\n",
              "      <td>...</td>\n",
              "      <td>1.000000</td>\n",
              "      <td>1.000000</td>\n",
              "      <td>1.000000</td>\n",
              "      <td>1.000000</td>\n",
              "      <td>1.000000</td>\n",
              "      <td>1.000000</td>\n",
              "      <td>1.000000</td>\n",
              "      <td>1.000000</td>\n",
              "      <td>1.000000</td>\n",
              "      <td>1.000000</td>\n",
              "    </tr>\n",
              "  </tbody>\n",
              "</table>\n",
              "<p>8 rows × 132 columns</p>\n",
              "</div>\n",
              "      <button class=\"colab-df-convert\" onclick=\"convertToInteractive('df-5ad03507-a5d6-413a-b976-88923723f413')\"\n",
              "              title=\"Convert this dataframe to an interactive table.\"\n",
              "              style=\"display:none;\">\n",
              "        \n",
              "  <svg xmlns=\"http://www.w3.org/2000/svg\" height=\"24px\"viewBox=\"0 0 24 24\"\n",
              "       width=\"24px\">\n",
              "    <path d=\"M0 0h24v24H0V0z\" fill=\"none\"/>\n",
              "    <path d=\"M18.56 5.44l.94 2.06.94-2.06 2.06-.94-2.06-.94-.94-2.06-.94 2.06-2.06.94zm-11 1L8.5 8.5l.94-2.06 2.06-.94-2.06-.94L8.5 2.5l-.94 2.06-2.06.94zm10 10l.94 2.06.94-2.06 2.06-.94-2.06-.94-.94-2.06-.94 2.06-2.06.94z\"/><path d=\"M17.41 7.96l-1.37-1.37c-.4-.4-.92-.59-1.43-.59-.52 0-1.04.2-1.43.59L10.3 9.45l-7.72 7.72c-.78.78-.78 2.05 0 2.83L4 21.41c.39.39.9.59 1.41.59.51 0 1.02-.2 1.41-.59l7.78-7.78 2.81-2.81c.8-.78.8-2.07 0-2.86zM5.41 20L4 18.59l7.72-7.72 1.47 1.35L5.41 20z\"/>\n",
              "  </svg>\n",
              "      </button>\n",
              "      \n",
              "  <style>\n",
              "    .colab-df-container {\n",
              "      display:flex;\n",
              "      flex-wrap:wrap;\n",
              "      gap: 12px;\n",
              "    }\n",
              "\n",
              "    .colab-df-convert {\n",
              "      background-color: #E8F0FE;\n",
              "      border: none;\n",
              "      border-radius: 50%;\n",
              "      cursor: pointer;\n",
              "      display: none;\n",
              "      fill: #1967D2;\n",
              "      height: 32px;\n",
              "      padding: 0 0 0 0;\n",
              "      width: 32px;\n",
              "    }\n",
              "\n",
              "    .colab-df-convert:hover {\n",
              "      background-color: #E2EBFA;\n",
              "      box-shadow: 0px 1px 2px rgba(60, 64, 67, 0.3), 0px 1px 3px 1px rgba(60, 64, 67, 0.15);\n",
              "      fill: #174EA6;\n",
              "    }\n",
              "\n",
              "    [theme=dark] .colab-df-convert {\n",
              "      background-color: #3B4455;\n",
              "      fill: #D2E3FC;\n",
              "    }\n",
              "\n",
              "    [theme=dark] .colab-df-convert:hover {\n",
              "      background-color: #434B5C;\n",
              "      box-shadow: 0px 1px 3px 1px rgba(0, 0, 0, 0.15);\n",
              "      filter: drop-shadow(0px 1px 2px rgba(0, 0, 0, 0.3));\n",
              "      fill: #FFFFFF;\n",
              "    }\n",
              "  </style>\n",
              "\n",
              "      <script>\n",
              "        const buttonEl =\n",
              "          document.querySelector('#df-5ad03507-a5d6-413a-b976-88923723f413 button.colab-df-convert');\n",
              "        buttonEl.style.display =\n",
              "          google.colab.kernel.accessAllowed ? 'block' : 'none';\n",
              "\n",
              "        async function convertToInteractive(key) {\n",
              "          const element = document.querySelector('#df-5ad03507-a5d6-413a-b976-88923723f413');\n",
              "          const dataTable =\n",
              "            await google.colab.kernel.invokeFunction('convertToInteractive',\n",
              "                                                     [key], {});\n",
              "          if (!dataTable) return;\n",
              "\n",
              "          const docLinkHtml = 'Like what you see? Visit the ' +\n",
              "            '<a target=\"_blank\" href=https://colab.research.google.com/notebooks/data_table.ipynb>data table notebook</a>'\n",
              "            + ' to learn more about interactive tables.';\n",
              "          element.innerHTML = '';\n",
              "          dataTable['output_type'] = 'display_data';\n",
              "          await google.colab.output.renderOutput(dataTable, element);\n",
              "          const docLink = document.createElement('div');\n",
              "          docLink.innerHTML = docLinkHtml;\n",
              "          element.appendChild(docLink);\n",
              "        }\n",
              "      </script>\n",
              "    </div>\n",
              "  </div>\n",
              "  "
            ]
          },
          "metadata": {},
          "execution_count": 7
        }
      ]
    },
    {
      "cell_type": "code",
      "source": [
        "df[target].value_counts()"
      ],
      "metadata": {
        "colab": {
          "base_uri": "https://localhost:8080/"
        },
        "id": "1WGYlVtyo_To",
        "outputId": "5124ae37-5f39-4a90-e6c0-d1bef7d02913"
      },
      "execution_count": 9,
      "outputs": [
        {
          "output_type": "execute_result",
          "data": {
            "text/plain": [
              "Fungal infection                           120\n",
              "Hepatitis C                                120\n",
              "Hepatitis E                                120\n",
              "Alcoholic hepatitis                        120\n",
              "Tuberculosis                               120\n",
              "Common Cold                                120\n",
              "Pneumonia                                  120\n",
              "Dimorphic hemmorhoids(piles)               120\n",
              "Heart attack                               120\n",
              "Varicose veins                             120\n",
              "Hypothyroidism                             120\n",
              "Hyperthyroidism                            120\n",
              "Hypoglycemia                               120\n",
              "Osteoarthristis                            120\n",
              "Arthritis                                  120\n",
              "(vertigo) Paroymsal  Positional Vertigo    120\n",
              "Acne                                       120\n",
              "Urinary tract infection                    120\n",
              "Psoriasis                                  120\n",
              "Hepatitis D                                120\n",
              "Hepatitis B                                120\n",
              "Allergy                                    120\n",
              "hepatitis A                                120\n",
              "GERD                                       120\n",
              "Chronic cholestasis                        120\n",
              "Drug Reaction                              120\n",
              "Peptic ulcer diseae                        120\n",
              "AIDS                                       120\n",
              "Diabetes                                   120\n",
              "Gastroenteritis                            120\n",
              "Bronchial Asthma                           120\n",
              "Hypertension                               120\n",
              "Migraine                                   120\n",
              "Cervical spondylosis                       120\n",
              "Paralysis (brain hemorrhage)               120\n",
              "Jaundice                                   120\n",
              "Malaria                                    120\n",
              "Chicken pox                                120\n",
              "Dengue                                     120\n",
              "Typhoid                                    120\n",
              "Impetigo                                   120\n",
              "Name: prognosis, dtype: int64"
            ]
          },
          "metadata": {},
          "execution_count": 9
        }
      ]
    },
    {
      "cell_type": "markdown",
      "source": [
        "#Droping Null/nan Values"
      ],
      "metadata": {
        "id": "BBKPzbJKtM22"
      }
    },
    {
      "cell_type": "code",
      "source": [
        "df.dropna(axis=0, how='any', inplace = True)\n",
        "df = df.reset_index(drop=True)"
      ],
      "metadata": {
        "id": "uAew5lwup4Ta"
      },
      "execution_count": 10,
      "outputs": []
    },
    {
      "cell_type": "code",
      "source": [
        "df.info()"
      ],
      "metadata": {
        "colab": {
          "base_uri": "https://localhost:8080/"
        },
        "id": "Ms3VDyCdtEiv",
        "outputId": "e005def3-6bf8-45e2-9f21-e52a9d3d8bea"
      },
      "execution_count": null,
      "outputs": [
        {
          "output_type": "stream",
          "name": "stdout",
          "text": [
            "<class 'pandas.core.frame.DataFrame'>\n",
            "RangeIndex: 3000 entries, 0 to 2999\n",
            "Data columns (total 76 columns):\n",
            " #   Column                  Non-Null Count  Dtype  \n",
            "---  ------                  --------------  -----  \n",
            " 0   Sleep Stage             3000 non-null   object \n",
            " 1   MeanP_Alpha_F4          3000 non-null   float64\n",
            " 2   MedianF_Alpha_F4        3000 non-null   float64\n",
            " 3   MeanF_Alpha_F4          3000 non-null   float64\n",
            " 4   Spectral Edge_Alpha_F4  3000 non-null   float64\n",
            " 5   PeakF_Alpha_F4          3000 non-null   float64\n",
            " 6   MeanP_Beta_F4           3000 non-null   float64\n",
            " 7   MedianF_Beta_F4         3000 non-null   float64\n",
            " 8   MeanF_Beta_F4           3000 non-null   float64\n",
            " 9   Spectral Edge_Beta_F4   3000 non-null   float64\n",
            " 10  PeakF_Beta_F4           3000 non-null   float64\n",
            " 11  MeanP_Theta_F4          3000 non-null   float64\n",
            " 12  MedianF_Theta_F4        3000 non-null   float64\n",
            " 13  MeanF_Theta_F4          3000 non-null   float64\n",
            " 14  Spectral Edge_Theta_F4  3000 non-null   float64\n",
            " 15  PeakF_Theta_F4          3000 non-null   float64\n",
            " 16  MeanP_Delta_F4          3000 non-null   float64\n",
            " 17  MedianF_Delta_F4        3000 non-null   float64\n",
            " 18  MeanF_Delta_F4          3000 non-null   float64\n",
            " 19  Spectral Edge_Delta_F4  3000 non-null   float64\n",
            " 20  PeakF_Delta_F4          3000 non-null   float64\n",
            " 21  MeanP_Gamma_F4          3000 non-null   float64\n",
            " 22  MedianF_Gamma_F4        3000 non-null   float64\n",
            " 23  MeanF_Gamma_F4          3000 non-null   float64\n",
            " 24  Spectral Edge_Gamma_F4  3000 non-null   float64\n",
            " 25  PeakF_Gamma_F4          3000 non-null   float64\n",
            " 26  MeanP_Alpha_C4          3000 non-null   float64\n",
            " 27  MedianF_Alpha_C4        3000 non-null   float64\n",
            " 28  MeanF_Alpha_C4          3000 non-null   float64\n",
            " 29  Spectral Edge_Alpha_C4  3000 non-null   float64\n",
            " 30  PeakF_Alpha_C4          3000 non-null   float64\n",
            " 31  MeanP_Beta_C4           3000 non-null   float64\n",
            " 32  MedianF_Beta_C4         3000 non-null   float64\n",
            " 33  MeanF_Beta_C4           3000 non-null   float64\n",
            " 34  Spectral Edge_Beta_C4   3000 non-null   float64\n",
            " 35  PeakF_Beta_C4           3000 non-null   float64\n",
            " 36  MeanP_Theta_C4          3000 non-null   float64\n",
            " 37  MedianF_Theta_C4        3000 non-null   float64\n",
            " 38  MeanF_Theta_C4          3000 non-null   float64\n",
            " 39  Spectral Edge_Theta_C4  3000 non-null   float64\n",
            " 40  PeakF_Theta_C4          3000 non-null   float64\n",
            " 41  MeanP_Delta_C4          3000 non-null   float64\n",
            " 42  MedianF_Delta_C4        3000 non-null   float64\n",
            " 43  MeanF_Delta_C4          3000 non-null   float64\n",
            " 44  Spectral Edge_Delta_C4  3000 non-null   float64\n",
            " 45  PeakF_Delta_C4          3000 non-null   float64\n",
            " 46  MeanP_Gamma_C4          3000 non-null   float64\n",
            " 47  MedianF_Gamma_C4        3000 non-null   float64\n",
            " 48  MeanF_Gamma_C4          3000 non-null   float64\n",
            " 49  Spectral Edge_Gamma_C4  3000 non-null   float64\n",
            " 50  PeakF_Gamma_C4          3000 non-null   float64\n",
            " 51  MeanP_Alpha_O2          3000 non-null   float64\n",
            " 52  MedianF_Alpha_O2        3000 non-null   float64\n",
            " 53  MeanF_Alpha_O2          3000 non-null   float64\n",
            " 54  Spectral Edge_Alpha_O2  3000 non-null   float64\n",
            " 55  PeakF_Alpha_O2          3000 non-null   float64\n",
            " 56  MeanP_Beta_O2           3000 non-null   float64\n",
            " 57  MedianF_Beta_O2         3000 non-null   float64\n",
            " 58  MeanF_Beta_O2           3000 non-null   float64\n",
            " 59  Spectral Edge_Beta_O2   3000 non-null   float64\n",
            " 60  PeakF_Beta_O2           3000 non-null   float64\n",
            " 61  MeanP_Theta_O2          3000 non-null   float64\n",
            " 62  MedianF_Theta_O2        3000 non-null   float64\n",
            " 63  MeanF_Theta_O2          3000 non-null   float64\n",
            " 64  Spectral Edge_Theta_O2  3000 non-null   float64\n",
            " 65  PeakF_Theta_O2          3000 non-null   float64\n",
            " 66  MeanP_Delta_O2          3000 non-null   float64\n",
            " 67  MedianF_Delta_O2        3000 non-null   float64\n",
            " 68  MeanF_Delta_O2          3000 non-null   float64\n",
            " 69  Spectral Edge_Delta_O2  3000 non-null   float64\n",
            " 70  PeakF_Delta_O2          3000 non-null   float64\n",
            " 71  MeanP_Gamma_O2          3000 non-null   float64\n",
            " 72  MedianF_Gamma_O2        3000 non-null   float64\n",
            " 73  MeanF_Gamma_O2          3000 non-null   float64\n",
            " 74  Spectral Edge_Gamma_O2  3000 non-null   float64\n",
            " 75  PeakF_Gamma_O2          3000 non-null   float64\n",
            "dtypes: float64(75), object(1)\n",
            "memory usage: 1.7+ MB\n"
          ]
        }
      ]
    },
    {
      "cell_type": "markdown",
      "source": [
        "#Label Encoding"
      ],
      "metadata": {
        "id": "eXit2k65t363"
      }
    },
    {
      "cell_type": "code",
      "source": [
        "from sklearn.preprocessing import LabelEncoder\n",
        "\n",
        "encoder = LabelEncoder()"
      ],
      "metadata": {
        "id": "u36k08MCuPwc"
      },
      "execution_count": 11,
      "outputs": []
    },
    {
      "cell_type": "code",
      "source": [
        "df[target].value_counts()"
      ],
      "metadata": {
        "colab": {
          "base_uri": "https://localhost:8080/"
        },
        "id": "1-3gcoZjvdl_",
        "outputId": "2d2baa7a-929a-48ad-aaa6-17ad55d2519f"
      },
      "execution_count": 12,
      "outputs": [
        {
          "output_type": "execute_result",
          "data": {
            "text/plain": [
              "Fungal infection                           120\n",
              "Hepatitis C                                120\n",
              "Hepatitis E                                120\n",
              "Alcoholic hepatitis                        120\n",
              "Tuberculosis                               120\n",
              "Common Cold                                120\n",
              "Pneumonia                                  120\n",
              "Dimorphic hemmorhoids(piles)               120\n",
              "Heart attack                               120\n",
              "Varicose veins                             120\n",
              "Hypothyroidism                             120\n",
              "Hyperthyroidism                            120\n",
              "Hypoglycemia                               120\n",
              "Osteoarthristis                            120\n",
              "Arthritis                                  120\n",
              "(vertigo) Paroymsal  Positional Vertigo    120\n",
              "Acne                                       120\n",
              "Urinary tract infection                    120\n",
              "Psoriasis                                  120\n",
              "Hepatitis D                                120\n",
              "Hepatitis B                                120\n",
              "Allergy                                    120\n",
              "hepatitis A                                120\n",
              "GERD                                       120\n",
              "Chronic cholestasis                        120\n",
              "Drug Reaction                              120\n",
              "Peptic ulcer diseae                        120\n",
              "AIDS                                       120\n",
              "Diabetes                                   120\n",
              "Gastroenteritis                            120\n",
              "Bronchial Asthma                           120\n",
              "Hypertension                               120\n",
              "Migraine                                   120\n",
              "Cervical spondylosis                       120\n",
              "Paralysis (brain hemorrhage)               120\n",
              "Jaundice                                   120\n",
              "Malaria                                    120\n",
              "Chicken pox                                120\n",
              "Dengue                                     120\n",
              "Typhoid                                    120\n",
              "Impetigo                                   120\n",
              "Name: prognosis, dtype: int64"
            ]
          },
          "metadata": {},
          "execution_count": 12
        }
      ]
    },
    {
      "cell_type": "code",
      "source": [
        "df[target] = encoder.fit_transform(df[target])"
      ],
      "metadata": {
        "id": "MSD2Ig1nxDW6"
      },
      "execution_count": 13,
      "outputs": []
    },
    {
      "cell_type": "code",
      "source": [
        "df[target].value_counts()"
      ],
      "metadata": {
        "colab": {
          "base_uri": "https://localhost:8080/"
        },
        "id": "7idB4YuJxJPw",
        "outputId": "5cd76553-d2e2-45c0-deb3-cba21612258d"
      },
      "execution_count": 14,
      "outputs": [
        {
          "output_type": "execute_result",
          "data": {
            "text/plain": [
              "15    120\n",
              "20    120\n",
              "22    120\n",
              "3     120\n",
              "36    120\n",
              "10    120\n",
              "34    120\n",
              "13    120\n",
              "18    120\n",
              "39    120\n",
              "26    120\n",
              "24    120\n",
              "25    120\n",
              "31    120\n",
              "5     120\n",
              "0     120\n",
              "2     120\n",
              "38    120\n",
              "35    120\n",
              "21    120\n",
              "19    120\n",
              "4     120\n",
              "40    120\n",
              "16    120\n",
              "9     120\n",
              "14    120\n",
              "33    120\n",
              "1     120\n",
              "12    120\n",
              "17    120\n",
              "6     120\n",
              "23    120\n",
              "30    120\n",
              "7     120\n",
              "32    120\n",
              "28    120\n",
              "29    120\n",
              "8     120\n",
              "11    120\n",
              "37    120\n",
              "27    120\n",
              "Name: prognosis, dtype: int64"
            ]
          },
          "metadata": {},
          "execution_count": 14
        }
      ]
    },
    {
      "cell_type": "code",
      "source": [
        "df.info()"
      ],
      "metadata": {
        "colab": {
          "base_uri": "https://localhost:8080/"
        },
        "id": "6EGt9E_ExLE5",
        "outputId": "84f6053f-6628-4dc1-b5c6-359e42fbbf8a"
      },
      "execution_count": null,
      "outputs": [
        {
          "output_type": "stream",
          "name": "stdout",
          "text": [
            "<class 'pandas.core.frame.DataFrame'>\n",
            "RangeIndex: 3000 entries, 0 to 2999\n",
            "Data columns (total 76 columns):\n",
            " #   Column                  Non-Null Count  Dtype  \n",
            "---  ------                  --------------  -----  \n",
            " 0   Sleep Stage             3000 non-null   int64  \n",
            " 1   MeanP_Alpha_F4          3000 non-null   float64\n",
            " 2   MedianF_Alpha_F4        3000 non-null   float64\n",
            " 3   MeanF_Alpha_F4          3000 non-null   float64\n",
            " 4   Spectral Edge_Alpha_F4  3000 non-null   float64\n",
            " 5   PeakF_Alpha_F4          3000 non-null   float64\n",
            " 6   MeanP_Beta_F4           3000 non-null   float64\n",
            " 7   MedianF_Beta_F4         3000 non-null   float64\n",
            " 8   MeanF_Beta_F4           3000 non-null   float64\n",
            " 9   Spectral Edge_Beta_F4   3000 non-null   float64\n",
            " 10  PeakF_Beta_F4           3000 non-null   float64\n",
            " 11  MeanP_Theta_F4          3000 non-null   float64\n",
            " 12  MedianF_Theta_F4        3000 non-null   float64\n",
            " 13  MeanF_Theta_F4          3000 non-null   float64\n",
            " 14  Spectral Edge_Theta_F4  3000 non-null   float64\n",
            " 15  PeakF_Theta_F4          3000 non-null   float64\n",
            " 16  MeanP_Delta_F4          3000 non-null   float64\n",
            " 17  MedianF_Delta_F4        3000 non-null   float64\n",
            " 18  MeanF_Delta_F4          3000 non-null   float64\n",
            " 19  Spectral Edge_Delta_F4  3000 non-null   float64\n",
            " 20  PeakF_Delta_F4          3000 non-null   float64\n",
            " 21  MeanP_Gamma_F4          3000 non-null   float64\n",
            " 22  MedianF_Gamma_F4        3000 non-null   float64\n",
            " 23  MeanF_Gamma_F4          3000 non-null   float64\n",
            " 24  Spectral Edge_Gamma_F4  3000 non-null   float64\n",
            " 25  PeakF_Gamma_F4          3000 non-null   float64\n",
            " 26  MeanP_Alpha_C4          3000 non-null   float64\n",
            " 27  MedianF_Alpha_C4        3000 non-null   float64\n",
            " 28  MeanF_Alpha_C4          3000 non-null   float64\n",
            " 29  Spectral Edge_Alpha_C4  3000 non-null   float64\n",
            " 30  PeakF_Alpha_C4          3000 non-null   float64\n",
            " 31  MeanP_Beta_C4           3000 non-null   float64\n",
            " 32  MedianF_Beta_C4         3000 non-null   float64\n",
            " 33  MeanF_Beta_C4           3000 non-null   float64\n",
            " 34  Spectral Edge_Beta_C4   3000 non-null   float64\n",
            " 35  PeakF_Beta_C4           3000 non-null   float64\n",
            " 36  MeanP_Theta_C4          3000 non-null   float64\n",
            " 37  MedianF_Theta_C4        3000 non-null   float64\n",
            " 38  MeanF_Theta_C4          3000 non-null   float64\n",
            " 39  Spectral Edge_Theta_C4  3000 non-null   float64\n",
            " 40  PeakF_Theta_C4          3000 non-null   float64\n",
            " 41  MeanP_Delta_C4          3000 non-null   float64\n",
            " 42  MedianF_Delta_C4        3000 non-null   float64\n",
            " 43  MeanF_Delta_C4          3000 non-null   float64\n",
            " 44  Spectral Edge_Delta_C4  3000 non-null   float64\n",
            " 45  PeakF_Delta_C4          3000 non-null   float64\n",
            " 46  MeanP_Gamma_C4          3000 non-null   float64\n",
            " 47  MedianF_Gamma_C4        3000 non-null   float64\n",
            " 48  MeanF_Gamma_C4          3000 non-null   float64\n",
            " 49  Spectral Edge_Gamma_C4  3000 non-null   float64\n",
            " 50  PeakF_Gamma_C4          3000 non-null   float64\n",
            " 51  MeanP_Alpha_O2          3000 non-null   float64\n",
            " 52  MedianF_Alpha_O2        3000 non-null   float64\n",
            " 53  MeanF_Alpha_O2          3000 non-null   float64\n",
            " 54  Spectral Edge_Alpha_O2  3000 non-null   float64\n",
            " 55  PeakF_Alpha_O2          3000 non-null   float64\n",
            " 56  MeanP_Beta_O2           3000 non-null   float64\n",
            " 57  MedianF_Beta_O2         3000 non-null   float64\n",
            " 58  MeanF_Beta_O2           3000 non-null   float64\n",
            " 59  Spectral Edge_Beta_O2   3000 non-null   float64\n",
            " 60  PeakF_Beta_O2           3000 non-null   float64\n",
            " 61  MeanP_Theta_O2          3000 non-null   float64\n",
            " 62  MedianF_Theta_O2        3000 non-null   float64\n",
            " 63  MeanF_Theta_O2          3000 non-null   float64\n",
            " 64  Spectral Edge_Theta_O2  3000 non-null   float64\n",
            " 65  PeakF_Theta_O2          3000 non-null   float64\n",
            " 66  MeanP_Delta_O2          3000 non-null   float64\n",
            " 67  MedianF_Delta_O2        3000 non-null   float64\n",
            " 68  MeanF_Delta_O2          3000 non-null   float64\n",
            " 69  Spectral Edge_Delta_O2  3000 non-null   float64\n",
            " 70  PeakF_Delta_O2          3000 non-null   float64\n",
            " 71  MeanP_Gamma_O2          3000 non-null   float64\n",
            " 72  MedianF_Gamma_O2        3000 non-null   float64\n",
            " 73  MeanF_Gamma_O2          3000 non-null   float64\n",
            " 74  Spectral Edge_Gamma_O2  3000 non-null   float64\n",
            " 75  PeakF_Gamma_O2          3000 non-null   float64\n",
            "dtypes: float64(75), int64(1)\n",
            "memory usage: 1.7 MB\n"
          ]
        }
      ]
    },
    {
      "cell_type": "markdown",
      "source": [
        "#Dataset SPliting"
      ],
      "metadata": {
        "id": "pslNc5iMCLKn"
      }
    },
    {
      "cell_type": "code",
      "source": [
        "X = df.loc[:,df.columns != target]"
      ],
      "metadata": {
        "id": "mUNRmB0jCM2U"
      },
      "execution_count": 15,
      "outputs": []
    },
    {
      "cell_type": "code",
      "source": [
        "X.head()"
      ],
      "metadata": {
        "colab": {
          "base_uri": "https://localhost:8080/",
          "height": 317
        },
        "id": "-ohB2Op2CnWT",
        "outputId": "6b9c0fa1-b3c9-4582-d4f3-d066b313a7af"
      },
      "execution_count": null,
      "outputs": [
        {
          "output_type": "execute_result",
          "data": {
            "text/plain": [
              "   MeanP_Alpha_F4  MedianF_Alpha_F4  MeanF_Alpha_F4  Spectral Edge_Alpha_F4  \\\n",
              "0         0.00051           8.74146        18.48195                17.48293   \n",
              "1         0.00040          10.24000        17.48293                16.85854   \n",
              "2         0.00036           9.74049        17.98244                17.48293   \n",
              "3         0.00035          10.11512        17.60780                17.10829   \n",
              "4         0.00033           9.74049        17.60780                17.23317   \n",
              "\n",
              "   PeakF_Alpha_F4  MeanP_Beta_F4  MedianF_Beta_F4  MeanF_Beta_F4  \\\n",
              "0         8.24195        0.00071         19.73073       29.84585   \n",
              "1        10.61463        0.00051         17.23317       26.34927   \n",
              "2         8.74146        0.00047         17.60780       25.47512   \n",
              "3         9.61561        0.00047         17.35805       26.47415   \n",
              "4         8.11707        0.00043         17.23317       25.84976   \n",
              "\n",
              "   Spectral Edge_Beta_F4  PeakF_Beta_F4  ...  MeanP_Delta_O2  \\\n",
              "0               33.84195       15.98439  ...         0.00724   \n",
              "1               29.34634       19.60585  ...         0.00723   \n",
              "2               28.22244       18.73171  ...         0.00230   \n",
              "3               28.72195       16.35902  ...         0.00091   \n",
              "4               28.09756       17.60780  ...         0.00175   \n",
              "\n",
              "   MedianF_Delta_O2  MeanF_Delta_O2  Spectral Edge_Delta_O2  PeakF_Delta_O2  \\\n",
              "0           0.74927         3.87122                 1.99805         0.87415   \n",
              "1           0.49951         3.74634                 1.24878         0.49951   \n",
              "2           0.62439         5.24488                 2.12293         0.62439   \n",
              "3           0.87415         6.61854                 3.12195         0.62439   \n",
              "4           0.49951         5.74439                 2.24780         0.49951   \n",
              "\n",
              "   MeanP_Gamma_O2  MedianF_Gamma_O2  MeanF_Gamma_O2  Spectral Edge_Gamma_O2  \\\n",
              "0        0.000210          35.21561        42.20878                49.95122   \n",
              "1        0.000095          34.34146        43.33268                49.95122   \n",
              "2        0.000074          34.59122        45.95512                49.95122   \n",
              "3        0.000082          32.46829        43.95707                49.95122   \n",
              "4        0.000077          33.59220        44.83122                49.95122   \n",
              "\n",
              "   PeakF_Gamma_O2  \n",
              "0        49.95122  \n",
              "1        49.95122  \n",
              "2        49.95122  \n",
              "3        49.95122  \n",
              "4        49.95122  \n",
              "\n",
              "[5 rows x 75 columns]"
            ],
            "text/html": [
              "\n",
              "  <div id=\"df-cc03660c-0b5d-44fb-a761-e2b112b67c87\">\n",
              "    <div class=\"colab-df-container\">\n",
              "      <div>\n",
              "<style scoped>\n",
              "    .dataframe tbody tr th:only-of-type {\n",
              "        vertical-align: middle;\n",
              "    }\n",
              "\n",
              "    .dataframe tbody tr th {\n",
              "        vertical-align: top;\n",
              "    }\n",
              "\n",
              "    .dataframe thead th {\n",
              "        text-align: right;\n",
              "    }\n",
              "</style>\n",
              "<table border=\"1\" class=\"dataframe\">\n",
              "  <thead>\n",
              "    <tr style=\"text-align: right;\">\n",
              "      <th></th>\n",
              "      <th>MeanP_Alpha_F4</th>\n",
              "      <th>MedianF_Alpha_F4</th>\n",
              "      <th>MeanF_Alpha_F4</th>\n",
              "      <th>Spectral Edge_Alpha_F4</th>\n",
              "      <th>PeakF_Alpha_F4</th>\n",
              "      <th>MeanP_Beta_F4</th>\n",
              "      <th>MedianF_Beta_F4</th>\n",
              "      <th>MeanF_Beta_F4</th>\n",
              "      <th>Spectral Edge_Beta_F4</th>\n",
              "      <th>PeakF_Beta_F4</th>\n",
              "      <th>...</th>\n",
              "      <th>MeanP_Delta_O2</th>\n",
              "      <th>MedianF_Delta_O2</th>\n",
              "      <th>MeanF_Delta_O2</th>\n",
              "      <th>Spectral Edge_Delta_O2</th>\n",
              "      <th>PeakF_Delta_O2</th>\n",
              "      <th>MeanP_Gamma_O2</th>\n",
              "      <th>MedianF_Gamma_O2</th>\n",
              "      <th>MeanF_Gamma_O2</th>\n",
              "      <th>Spectral Edge_Gamma_O2</th>\n",
              "      <th>PeakF_Gamma_O2</th>\n",
              "    </tr>\n",
              "  </thead>\n",
              "  <tbody>\n",
              "    <tr>\n",
              "      <th>0</th>\n",
              "      <td>0.00051</td>\n",
              "      <td>8.74146</td>\n",
              "      <td>18.48195</td>\n",
              "      <td>17.48293</td>\n",
              "      <td>8.24195</td>\n",
              "      <td>0.00071</td>\n",
              "      <td>19.73073</td>\n",
              "      <td>29.84585</td>\n",
              "      <td>33.84195</td>\n",
              "      <td>15.98439</td>\n",
              "      <td>...</td>\n",
              "      <td>0.00724</td>\n",
              "      <td>0.74927</td>\n",
              "      <td>3.87122</td>\n",
              "      <td>1.99805</td>\n",
              "      <td>0.87415</td>\n",
              "      <td>0.000210</td>\n",
              "      <td>35.21561</td>\n",
              "      <td>42.20878</td>\n",
              "      <td>49.95122</td>\n",
              "      <td>49.95122</td>\n",
              "    </tr>\n",
              "    <tr>\n",
              "      <th>1</th>\n",
              "      <td>0.00040</td>\n",
              "      <td>10.24000</td>\n",
              "      <td>17.48293</td>\n",
              "      <td>16.85854</td>\n",
              "      <td>10.61463</td>\n",
              "      <td>0.00051</td>\n",
              "      <td>17.23317</td>\n",
              "      <td>26.34927</td>\n",
              "      <td>29.34634</td>\n",
              "      <td>19.60585</td>\n",
              "      <td>...</td>\n",
              "      <td>0.00723</td>\n",
              "      <td>0.49951</td>\n",
              "      <td>3.74634</td>\n",
              "      <td>1.24878</td>\n",
              "      <td>0.49951</td>\n",
              "      <td>0.000095</td>\n",
              "      <td>34.34146</td>\n",
              "      <td>43.33268</td>\n",
              "      <td>49.95122</td>\n",
              "      <td>49.95122</td>\n",
              "    </tr>\n",
              "    <tr>\n",
              "      <th>2</th>\n",
              "      <td>0.00036</td>\n",
              "      <td>9.74049</td>\n",
              "      <td>17.98244</td>\n",
              "      <td>17.48293</td>\n",
              "      <td>8.74146</td>\n",
              "      <td>0.00047</td>\n",
              "      <td>17.60780</td>\n",
              "      <td>25.47512</td>\n",
              "      <td>28.22244</td>\n",
              "      <td>18.73171</td>\n",
              "      <td>...</td>\n",
              "      <td>0.00230</td>\n",
              "      <td>0.62439</td>\n",
              "      <td>5.24488</td>\n",
              "      <td>2.12293</td>\n",
              "      <td>0.62439</td>\n",
              "      <td>0.000074</td>\n",
              "      <td>34.59122</td>\n",
              "      <td>45.95512</td>\n",
              "      <td>49.95122</td>\n",
              "      <td>49.95122</td>\n",
              "    </tr>\n",
              "    <tr>\n",
              "      <th>3</th>\n",
              "      <td>0.00035</td>\n",
              "      <td>10.11512</td>\n",
              "      <td>17.60780</td>\n",
              "      <td>17.10829</td>\n",
              "      <td>9.61561</td>\n",
              "      <td>0.00047</td>\n",
              "      <td>17.35805</td>\n",
              "      <td>26.47415</td>\n",
              "      <td>28.72195</td>\n",
              "      <td>16.35902</td>\n",
              "      <td>...</td>\n",
              "      <td>0.00091</td>\n",
              "      <td>0.87415</td>\n",
              "      <td>6.61854</td>\n",
              "      <td>3.12195</td>\n",
              "      <td>0.62439</td>\n",
              "      <td>0.000082</td>\n",
              "      <td>32.46829</td>\n",
              "      <td>43.95707</td>\n",
              "      <td>49.95122</td>\n",
              "      <td>49.95122</td>\n",
              "    </tr>\n",
              "    <tr>\n",
              "      <th>4</th>\n",
              "      <td>0.00033</td>\n",
              "      <td>9.74049</td>\n",
              "      <td>17.60780</td>\n",
              "      <td>17.23317</td>\n",
              "      <td>8.11707</td>\n",
              "      <td>0.00043</td>\n",
              "      <td>17.23317</td>\n",
              "      <td>25.84976</td>\n",
              "      <td>28.09756</td>\n",
              "      <td>17.60780</td>\n",
              "      <td>...</td>\n",
              "      <td>0.00175</td>\n",
              "      <td>0.49951</td>\n",
              "      <td>5.74439</td>\n",
              "      <td>2.24780</td>\n",
              "      <td>0.49951</td>\n",
              "      <td>0.000077</td>\n",
              "      <td>33.59220</td>\n",
              "      <td>44.83122</td>\n",
              "      <td>49.95122</td>\n",
              "      <td>49.95122</td>\n",
              "    </tr>\n",
              "  </tbody>\n",
              "</table>\n",
              "<p>5 rows × 75 columns</p>\n",
              "</div>\n",
              "      <button class=\"colab-df-convert\" onclick=\"convertToInteractive('df-cc03660c-0b5d-44fb-a761-e2b112b67c87')\"\n",
              "              title=\"Convert this dataframe to an interactive table.\"\n",
              "              style=\"display:none;\">\n",
              "        \n",
              "  <svg xmlns=\"http://www.w3.org/2000/svg\" height=\"24px\"viewBox=\"0 0 24 24\"\n",
              "       width=\"24px\">\n",
              "    <path d=\"M0 0h24v24H0V0z\" fill=\"none\"/>\n",
              "    <path d=\"M18.56 5.44l.94 2.06.94-2.06 2.06-.94-2.06-.94-.94-2.06-.94 2.06-2.06.94zm-11 1L8.5 8.5l.94-2.06 2.06-.94-2.06-.94L8.5 2.5l-.94 2.06-2.06.94zm10 10l.94 2.06.94-2.06 2.06-.94-2.06-.94-.94-2.06-.94 2.06-2.06.94z\"/><path d=\"M17.41 7.96l-1.37-1.37c-.4-.4-.92-.59-1.43-.59-.52 0-1.04.2-1.43.59L10.3 9.45l-7.72 7.72c-.78.78-.78 2.05 0 2.83L4 21.41c.39.39.9.59 1.41.59.51 0 1.02-.2 1.41-.59l7.78-7.78 2.81-2.81c.8-.78.8-2.07 0-2.86zM5.41 20L4 18.59l7.72-7.72 1.47 1.35L5.41 20z\"/>\n",
              "  </svg>\n",
              "      </button>\n",
              "      \n",
              "  <style>\n",
              "    .colab-df-container {\n",
              "      display:flex;\n",
              "      flex-wrap:wrap;\n",
              "      gap: 12px;\n",
              "    }\n",
              "\n",
              "    .colab-df-convert {\n",
              "      background-color: #E8F0FE;\n",
              "      border: none;\n",
              "      border-radius: 50%;\n",
              "      cursor: pointer;\n",
              "      display: none;\n",
              "      fill: #1967D2;\n",
              "      height: 32px;\n",
              "      padding: 0 0 0 0;\n",
              "      width: 32px;\n",
              "    }\n",
              "\n",
              "    .colab-df-convert:hover {\n",
              "      background-color: #E2EBFA;\n",
              "      box-shadow: 0px 1px 2px rgba(60, 64, 67, 0.3), 0px 1px 3px 1px rgba(60, 64, 67, 0.15);\n",
              "      fill: #174EA6;\n",
              "    }\n",
              "\n",
              "    [theme=dark] .colab-df-convert {\n",
              "      background-color: #3B4455;\n",
              "      fill: #D2E3FC;\n",
              "    }\n",
              "\n",
              "    [theme=dark] .colab-df-convert:hover {\n",
              "      background-color: #434B5C;\n",
              "      box-shadow: 0px 1px 3px 1px rgba(0, 0, 0, 0.15);\n",
              "      filter: drop-shadow(0px 1px 2px rgba(0, 0, 0, 0.3));\n",
              "      fill: #FFFFFF;\n",
              "    }\n",
              "  </style>\n",
              "\n",
              "      <script>\n",
              "        const buttonEl =\n",
              "          document.querySelector('#df-cc03660c-0b5d-44fb-a761-e2b112b67c87 button.colab-df-convert');\n",
              "        buttonEl.style.display =\n",
              "          google.colab.kernel.accessAllowed ? 'block' : 'none';\n",
              "\n",
              "        async function convertToInteractive(key) {\n",
              "          const element = document.querySelector('#df-cc03660c-0b5d-44fb-a761-e2b112b67c87');\n",
              "          const dataTable =\n",
              "            await google.colab.kernel.invokeFunction('convertToInteractive',\n",
              "                                                     [key], {});\n",
              "          if (!dataTable) return;\n",
              "\n",
              "          const docLinkHtml = 'Like what you see? Visit the ' +\n",
              "            '<a target=\"_blank\" href=https://colab.research.google.com/notebooks/data_table.ipynb>data table notebook</a>'\n",
              "            + ' to learn more about interactive tables.';\n",
              "          element.innerHTML = '';\n",
              "          dataTable['output_type'] = 'display_data';\n",
              "          await google.colab.output.renderOutput(dataTable, element);\n",
              "          const docLink = document.createElement('div');\n",
              "          docLink.innerHTML = docLinkHtml;\n",
              "          element.appendChild(docLink);\n",
              "        }\n",
              "      </script>\n",
              "    </div>\n",
              "  </div>\n",
              "  "
            ]
          },
          "metadata": {},
          "execution_count": 63
        }
      ]
    },
    {
      "cell_type": "code",
      "source": [
        "#Y = df.loc[:,[target]]\n",
        "Y = df[target]"
      ],
      "metadata": {
        "id": "tPqKT6O1CpRP"
      },
      "execution_count": 16,
      "outputs": []
    },
    {
      "cell_type": "code",
      "source": [
        "Y.head()"
      ],
      "metadata": {
        "colab": {
          "base_uri": "https://localhost:8080/"
        },
        "id": "ElInvhrODx45",
        "outputId": "85fc397a-f2e9-441f-b855-e2120d41f75f"
      },
      "execution_count": null,
      "outputs": [
        {
          "output_type": "execute_result",
          "data": {
            "text/plain": [
              "0    2\n",
              "1    2\n",
              "2    2\n",
              "3    2\n",
              "4    2\n",
              "Name: Sleep Stage, dtype: int64"
            ]
          },
          "metadata": {},
          "execution_count": 65
        }
      ]
    },
    {
      "cell_type": "markdown",
      "source": [
        "#Dataset spliting in testing and training"
      ],
      "metadata": {
        "id": "iShPLwuvGMuV"
      }
    },
    {
      "cell_type": "code",
      "source": [
        "from sklearn.model_selection import train_test_split\n",
        "\n",
        "X_train, X_test, Y_train, Y_test = train_test_split(X,Y, test_size = 0.2)"
      ],
      "metadata": {
        "id": "b9cOPb8QDzVy"
      },
      "execution_count": 17,
      "outputs": []
    },
    {
      "cell_type": "markdown",
      "source": [
        "\n",
        "\n",
        "---\n",
        "\n"
      ],
      "metadata": {
        "id": "9xEzB5PcHPqY"
      }
    },
    {
      "cell_type": "markdown",
      "source": [
        "#Training Phase"
      ],
      "metadata": {
        "id": "lR4c40eCHJdv"
      }
    },
    {
      "cell_type": "markdown",
      "source": [
        "##RandomForest"
      ],
      "metadata": {
        "id": "gl5ZCKYOHdeZ"
      }
    },
    {
      "cell_type": "code",
      "source": [
        "%%time\n",
        "from sklearn.ensemble import RandomForestClassifier              #importing libraries\n",
        "\n",
        "rf = RandomForestClassifier()                                    #creating method of algorithm of default parameter\n",
        "\n",
        "rf.fit(X_train, Y_train)                                         #training with X_train and Y_train\n",
        "\n",
        "y_pred = rf.predict(X_test)                                      #prediction"
      ],
      "metadata": {
        "colab": {
          "base_uri": "https://localhost:8080/"
        },
        "id": "bOUCr6EgGvf8",
        "outputId": "bdaa6ba6-fa3e-4871-f5fd-f0514e34fdc5"
      },
      "execution_count": 24,
      "outputs": [
        {
          "output_type": "stream",
          "name": "stdout",
          "text": [
            "CPU times: user 485 ms, sys: 923 µs, total: 486 ms\n",
            "Wall time: 496 ms\n"
          ]
        }
      ]
    },
    {
      "cell_type": "code",
      "source": [
        "from sklearn.metrics import accuracy_score\n",
        "\n",
        "score = accuracy_score(Y_test, y_pred)\n",
        "\n",
        "print(score)"
      ],
      "metadata": {
        "id": "N-mQN-YKplZI",
        "outputId": "179bc473-ff72-4da0-e1b7-894f4ba4d3cc",
        "colab": {
          "base_uri": "https://localhost:8080/"
        }
      },
      "execution_count": 25,
      "outputs": [
        {
          "output_type": "stream",
          "name": "stdout",
          "text": [
            "1.0\n"
          ]
        }
      ]
    },
    {
      "cell_type": "markdown",
      "source": [
        "##Adaboost"
      ],
      "metadata": {
        "id": "FCxyx-KsSDZN"
      }
    },
    {
      "cell_type": "code",
      "source": [
        "from sklearn.ensemble import AdaBoostClassifier                 #importing libraries\n",
        "\n",
        "ada = AdaBoostClassifier()                                      #creating method of algorithm of default parameter\n",
        "\n",
        "ada.fit(X_train, Y_train)                                       #training with X_train and Y_train\n",
        "\n",
        "y_pred = ada.predict(X_test)                                    #prediction"
      ],
      "metadata": {
        "id": "vgpWoHP7SGJ8"
      },
      "execution_count": 20,
      "outputs": []
    },
    {
      "cell_type": "code",
      "source": [
        "from sklearn.metrics import accuracy_score\n",
        "\n",
        "score = accuracy_score(Y_test, y_pred)\n",
        "\n",
        "print(score)"
      ],
      "metadata": {
        "id": "ZNsEiEwApOBo",
        "outputId": "3ba357ae-b85b-4578-fa35-f9f04efc4182",
        "colab": {
          "base_uri": "https://localhost:8080/"
        }
      },
      "execution_count": 21,
      "outputs": [
        {
          "output_type": "stream",
          "name": "stdout",
          "text": [
            "0.16971544715447154\n"
          ]
        }
      ]
    },
    {
      "cell_type": "markdown",
      "source": [
        "##GradientBossting"
      ],
      "metadata": {
        "id": "5b4O5VKASFjp"
      }
    },
    {
      "cell_type": "code",
      "source": [
        "from sklearn.ensemble import GradientBoostingClassifier\n",
        "\n",
        "GBC = GradientBoostingClassifier()\n",
        "\n",
        "GBC.fit(X_train, Y_train)\n",
        "\n",
        "y_pred = ada.predict(X_test)\n",
        "     "
      ],
      "metadata": {
        "id": "H8Ju5nMfSKQw"
      },
      "execution_count": 22,
      "outputs": []
    },
    {
      "cell_type": "code",
      "source": [
        "from sklearn.metrics import accuracy_score\n",
        "\n",
        "print(accuracy_score(Y_test,y_pred))"
      ],
      "metadata": {
        "id": "4ajZjktZuz6p",
        "outputId": "53806c45-d120-44b6-b640-eecb6865cffe",
        "colab": {
          "base_uri": "https://localhost:8080/"
        }
      },
      "execution_count": 23,
      "outputs": [
        {
          "output_type": "stream",
          "name": "stdout",
          "text": [
            "0.16971544715447154\n"
          ]
        }
      ]
    },
    {
      "cell_type": "markdown",
      "source": [
        "##KNN"
      ],
      "metadata": {
        "id": "n6XLAt3OSK8Q"
      }
    },
    {
      "cell_type": "code",
      "source": [
        "\n",
        "from sklearn.neighbors import KNeighborsClassifier\n",
        "knn = KNeighborsClassifier()\n",
        "knn.fit(X_train, Y_train)\n",
        "\n",
        "y_pred=knn.predict(X_test)\n",
        "\n"
      ],
      "metadata": {
        "id": "tSdH-vuPSNaK"
      },
      "execution_count": 26,
      "outputs": []
    },
    {
      "cell_type": "code",
      "source": [
        "from sklearn.metrics import accuracy_score\n",
        "\n",
        "print(accuracy_score(Y_test,y_pred))"
      ],
      "metadata": {
        "id": "_MSchrD9u-Nw",
        "outputId": "27606dc3-5721-47ee-9692-db38d288a14e",
        "colab": {
          "base_uri": "https://localhost:8080/"
        }
      },
      "execution_count": 27,
      "outputs": [
        {
          "output_type": "stream",
          "name": "stdout",
          "text": [
            "1.0\n"
          ]
        }
      ]
    },
    {
      "cell_type": "markdown",
      "source": [
        "##Naive Byes"
      ],
      "metadata": {
        "id": "DYFEE6-2SN86"
      }
    },
    {
      "cell_type": "code",
      "source": [
        "\n",
        "from sklearn.naive_bayes import GaussianNB\n",
        "\n",
        "gnb = GaussianNB()\n",
        "\n",
        "gnb.fit(X_train, Y_train)\n",
        "\n",
        "y_pred = gnb.predict(X_test)"
      ],
      "metadata": {
        "id": "tADYXrkXSRD_"
      },
      "execution_count": 28,
      "outputs": []
    },
    {
      "cell_type": "code",
      "source": [
        "from sklearn.metrics import accuracy_score\n",
        "\n",
        "score = accuracy_score(Y_test, y_pred)\n",
        "\n",
        "print(score)"
      ],
      "metadata": {
        "colab": {
          "base_uri": "https://localhost:8080/"
        },
        "id": "XTZGqGU1I6l9",
        "outputId": "0e5844f9-012e-4072-b085-2a7cdfbe78d1"
      },
      "execution_count": 29,
      "outputs": [
        {
          "output_type": "stream",
          "name": "stdout",
          "text": [
            "1.0\n"
          ]
        }
      ]
    },
    {
      "cell_type": "code",
      "source": [],
      "metadata": {
        "id": "x_jSnGX4BG5H"
      },
      "execution_count": null,
      "outputs": []
    },
    {
      "cell_type": "code",
      "source": [],
      "metadata": {
        "id": "99pzAoecBGkA"
      },
      "execution_count": null,
      "outputs": []
    },
    {
      "cell_type": "markdown",
      "source": [
        "#Model Save"
      ],
      "metadata": {
        "id": "aCTNWWcdRp17"
      }
    },
    {
      "cell_type": "code",
      "source": [
        "import joblib\n",
        "\n",
        "joblib.dump(clf,\"randomfores_rain_tom\")\n",
        "\n"
      ],
      "metadata": {
        "colab": {
          "base_uri": "https://localhost:8080/"
        },
        "id": "SXcMR_UVQ-wG",
        "outputId": "9a5a1a81-1c43-4a1f-fffc-3b9a4682fd94"
      },
      "execution_count": null,
      "outputs": [
        {
          "output_type": "execute_result",
          "data": {
            "text/plain": [
              "['randomfores_rain_tom']"
            ]
          },
          "metadata": {},
          "execution_count": 35
        }
      ]
    },
    {
      "cell_type": "code",
      "source": [],
      "metadata": {
        "id": "cA8zIvgSRbVk"
      },
      "execution_count": null,
      "outputs": []
    }
  ]
}