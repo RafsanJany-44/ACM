{
  "nbformat": 4,
  "nbformat_minor": 0,
  "metadata": {
    "colab": {
      "provenance": [],
      "authorship_tag": "ABX9TyNfBu9JgQsXJzRYzfvUcbai",
      "include_colab_link": true
    },
    "kernelspec": {
      "name": "python3",
      "display_name": "Python 3"
    },
    "language_info": {
      "name": "python"
    }
  },
  "cells": [
    {
      "cell_type": "markdown",
      "metadata": {
        "id": "view-in-github",
        "colab_type": "text"
      },
      "source": [
        "<a href=\"https://colab.research.google.com/github/RafsanJany-44/ARC/blob/master/Nahid_GUI.ipynb\" target=\"_parent\"><img src=\"https://colab.research.google.com/assets/colab-badge.svg\" alt=\"Open In Colab\"/></a>"
      ]
    },
    {
      "cell_type": "markdown",
      "source": [
        "#Mount Drive"
      ],
      "metadata": {
        "id": "lEUSQmgzOmAb"
      }
    },
    {
      "cell_type": "code",
      "source": [
        "from google.colab import drive\n",
        "drive.mount('/content/drive')\n"
      ],
      "metadata": {
        "colab": {
          "base_uri": "https://localhost:8080/"
        },
        "id": "rZObF_EsOlKV",
        "outputId": "cf36416e-8a65-488c-e89e-6b152deb7a78"
      },
      "execution_count": 34,
      "outputs": [
        {
          "output_type": "stream",
          "name": "stdout",
          "text": [
            "Mounted at /content/drive\n"
          ]
        }
      ]
    },
    {
      "cell_type": "markdown",
      "source": [
        "#Predict Sleep Stage"
      ],
      "metadata": {
        "id": "-6I7rjxyOvA4"
      }
    },
    {
      "cell_type": "code",
      "source": [
        "#@title String fields\n",
        "\n",
        "Input_DATA_Path = '/content/drive/MyDrive/Nahid/Datas/Series_Data.csv' #@param {type:\"string\"}\n",
        "Select_Algorithm = 'Random Forest' #@param [\"Random Forest\", \"XGBoosting\", \"GradientBoosting\"]\n",
        "\n",
        "\n",
        "\n",
        "import numpy as np\n",
        "import pandas as pd\n",
        "from tqdm.notebook import tqdm\n",
        "from joblib import Parallel, delayed\n",
        "import joblib\n",
        "\n",
        "\n",
        "def load_model(model_name):\n",
        "  return joblib.load(model_name)\n",
        "\n",
        "\n",
        "model_path_dict = {\n",
        "    \"Random Forest\": \"/content/drive/MyDrive/Nahid/rf.sav\",\n",
        "    \"XGBoosting\": \"/content/drive/MyDrive/Nahid/xgb.sav\",\n",
        "    \"GradientBoosting\": \"/content/drive/MyDrive/Nahid/gb.sav\"\n",
        "}\n",
        "\n",
        "\n",
        "\n",
        "dataset = pd.read_csv(Input_DATA_Path)\n",
        "model = load_model(model_path_dict[Select_Algorithm])\n",
        "\n",
        "class_dict={0:\"NREM\",1:\"REM\"}\n",
        "for i in tqdm(range(dataset.shape[0])):\n",
        "  print(\"For Row Number \",i,\" predicted class: \",class_dict[model.predict(dataset.loc[i:i,:])[0]])\n",
        "\n",
        "\n",
        "\n"
      ],
      "metadata": {
        "cellView": "form",
        "id": "STRz239xGd0P"
      },
      "execution_count": null,
      "outputs": []
    }
  ]
}