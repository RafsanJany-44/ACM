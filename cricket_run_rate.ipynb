{
  "nbformat": 4,
  "nbformat_minor": 0,
  "metadata": {
    "colab": {
      "name": "cricket_run_rate.ipynb",
      "provenance": [],
      "authorship_tag": "ABX9TyMnTK/ado52QHHG02kOmqeK",
      "include_colab_link": true
    },
    "kernelspec": {
      "name": "python3",
      "display_name": "Python 3"
    }
  },
  "cells": [
    {
      "cell_type": "markdown",
      "metadata": {
        "id": "view-in-github",
        "colab_type": "text"
      },
      "source": [
        "<a href=\"https://colab.research.google.com/github/RafsanJany-44/practice_cell/blob/master/cricket_run_rate.ipynb\" target=\"_parent\"><img src=\"https://colab.research.google.com/assets/colab-badge.svg\" alt=\"Open In Colab\"/></a>"
      ]
    },
    {
      "cell_type": "code",
      "metadata": {
        "colab": {
          "base_uri": "https://localhost:8080/"
        },
        "id": "CfK3RYVtSu5B",
        "outputId": "8fe5b56a-bdfc-45e8-eb4f-b821dc384854"
      },
      "source": [
        "\n",
        "\n",
        "total_run_scored=int(input(\"Enter the Total Run Scored: \"))\n",
        "tof=float(input(\"Enter the Total Over Faced: \"))\n",
        "\n",
        "total_run_conceded=int(input(\"Enter the Total Run Coceded: \"))\n",
        "tob=float(input(\"Enter the Total Over Bowled: \"))\n",
        "\n",
        "\n",
        "\n",
        "tolatOverFaced=int(tof)+(((tof-int(tof))*10/6))\n",
        "tolatOverBowled=int(tob)+(((tob-int(tob))*10/6))\n",
        "\n",
        "runRate=((total_run_scored/tolatOverFaced)-(total_run_conceded/tolatOverBowled))\n",
        "\n",
        "print(runRate)"
      ],
      "execution_count": 26,
      "outputs": [
        {
          "output_type": "stream",
          "text": [
            "Enter the Total Run Scored: 58\n",
            "Enter the Total Over Faced: 4\n",
            "Enter the Total Run Coceded: 67\n",
            "Enter the Total Over Bowled: 9\n",
            "7.055555555555555\n"
          ],
          "name": "stdout"
        }
      ]
    },
    {
      "cell_type": "code",
      "metadata": {
        "id": "wX3nq4QTc-fy"
      },
      "source": [
        "\n",
        "\n",
        "def RunRate(total_run_scored,tof,total_run_conceded,tob):\n",
        "\n",
        "  tolatOverFaced=int(tof)+(((tof-int(tof))*10/6))\n",
        "  tolatOverBowled=int(tob)+(((tob-int(tob))*10/6))\n",
        "\n",
        "  return ((total_run_scored/tolatOverFaced)-(total_run_conceded/tolatOverBowled))\n",
        "\n"
      ],
      "execution_count": 28,
      "outputs": []
    },
    {
      "cell_type": "code",
      "metadata": {
        "colab": {
          "base_uri": "https://localhost:8080/"
        },
        "id": "4YVQWy7gmH_o",
        "outputId": "0e1902b7-6467-4548-efc1-20a4044ceb61"
      },
      "source": [
        "print(RunRate(41,6,48,3.2))"
      ],
      "execution_count": 34,
      "outputs": [
        {
          "output_type": "stream",
          "text": [
            "-7.5666666666666655\n"
          ],
          "name": "stdout"
        }
      ]
    },
    {
      "cell_type": "code",
      "metadata": {
        "id": "bOI0aL88mNpe"
      },
      "source": [
        ""
      ],
      "execution_count": null,
      "outputs": []
    }
  ]
}