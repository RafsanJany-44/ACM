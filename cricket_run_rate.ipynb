{
  "nbformat": 4,
  "nbformat_minor": 0,
  "metadata": {
    "colab": {
      "name": "cricket_run_rate.ipynb",
      "provenance": [],
      "authorship_tag": "ABX9TyNK58rGvZDtcw/f5DXpuMfn",
      "include_colab_link": true
    },
    "kernelspec": {
      "name": "python3",
      "display_name": "Python 3"
    }
  },
  "cells": [
    {
      "cell_type": "markdown",
      "metadata": {
        "id": "view-in-github",
        "colab_type": "text"
      },
      "source": [
        "<a href=\"https://colab.research.google.com/github/RafsanJany-44/practice_cell/blob/master/cricket_run_rate.ipynb\" target=\"_parent\"><img src=\"https://colab.research.google.com/assets/colab-badge.svg\" alt=\"Open In Colab\"/></a>"
      ]
    },
    {
      "cell_type": "code",
      "metadata": {
        "colab": {
          "base_uri": "https://localhost:8080/"
        },
        "id": "CfK3RYVtSu5B",
        "outputId": "8fe5b56a-bdfc-45e8-eb4f-b821dc384854"
      },
      "source": [
        "\n",
        "\n",
        "total_run_scored=int(input(\"Enter the Total Run Scored: \"))\n",
        "tof=float(input(\"Enter the Total Over Faced: \"))\n",
        "\n",
        "total_run_conceded=int(input(\"Enter the Total Run Coceded: \"))\n",
        "tob=float(input(\"Enter the Total Over Bowled: \"))\n",
        "\n",
        "\n",
        "\n",
        "tolatOverFaced=int(tof)+(((tof-int(tof))*10/6))\n",
        "tolatOverBowled=int(tob)+(((tob-int(tob))*10/6))\n",
        "\n",
        "runRate=((total_run_scored/tolatOverFaced)-(total_run_conceded/tolatOverBowled))\n",
        "\n",
        "print(runRate)"
      ],
      "execution_count": 26,
      "outputs": [
        {
          "output_type": "stream",
          "text": [
            "Enter the Total Run Scored: 58\n",
            "Enter the Total Over Faced: 4\n",
            "Enter the Total Run Coceded: 67\n",
            "Enter the Total Over Bowled: 9\n",
            "7.055555555555555\n"
          ],
          "name": "stdout"
        }
      ]
    },
    {
      "cell_type": "code",
      "metadata": {
        "colab": {
          "base_uri": "https://localhost:8080/"
        },
        "id": "wX3nq4QTc-fy",
        "outputId": "284e3176-822e-484a-c5a9-f7144f0c545b"
      },
      "source": [
        "\n",
        "\n",
        "def RunRate(total_run_scored,tof,total_run_conceded,tob):\n",
        "\n",
        "  tolatOverFaced=int(tof)+(((tof-int(tof))*10/6))\n",
        "  tolatOverBowled=int(tob)+(((tob-int(tob))*10/6))\n",
        "\n",
        "  return ((total_run_scored/tolatOverFaced)-(total_run_conceded/tolatOverBowled))\n",
        "\n",
        "\n",
        "\n",
        "\n",
        "\n",
        "print(RunRate(41,6,48,3.2))\n",
        "\n"
      ],
      "execution_count": 35,
      "outputs": [
        {
          "output_type": "stream",
          "text": [
            "-7.5666666666666655\n"
          ],
          "name": "stdout"
        }
      ]
    }
  ]
}