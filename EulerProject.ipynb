{
  "nbformat": 4,
  "nbformat_minor": 0,
  "metadata": {
    "colab": {
      "name": "EulerProject.ipynb",
      "provenance": [],
      "authorship_tag": "ABX9TyOFDTsqaO4RKBpZwRd9M+zn",
      "include_colab_link": true
    },
    "kernelspec": {
      "name": "python3",
      "display_name": "Python 3"
    }
  },
  "cells": [
    {
      "cell_type": "markdown",
      "metadata": {
        "id": "view-in-github",
        "colab_type": "text"
      },
      "source": [
        "<a href=\"https://colab.research.google.com/github/RafsanJany-44/practice_cell/blob/master/EulerProject.ipynb\" target=\"_parent\"><img src=\"https://colab.research.google.com/assets/colab-badge.svg\" alt=\"Open In Colab\"/></a>"
      ]
    },
    {
      "cell_type": "markdown",
      "metadata": {
        "id": "27Rj4wkZaRnI"
      },
      "source": [
        "#power Digite Sum"
      ]
    },
    {
      "cell_type": "code",
      "metadata": {
        "colab": {
          "base_uri": "https://localhost:8080/"
        },
        "id": "O53EYjNxvNJ8",
        "outputId": "6ff6b145-01b9-44e4-ead0-9e7a67e882ba"
      },
      "source": [
        "h=str((pow(2,1000)))\n",
        "print(h)\n",
        "s=int(h[0])+int(h[1])\n",
        "print(s)\n",
        "num=0\n",
        "for i in h:\n",
        "  num=num+int(i)\n",
        "print(num)"
      ],
      "execution_count": null,
      "outputs": [
        {
          "output_type": "stream",
          "text": [
            "1366\n"
          ],
          "name": "stdout"
        }
      ]
    }
  ]
}