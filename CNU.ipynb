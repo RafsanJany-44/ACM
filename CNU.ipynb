{
  "nbformat": 4,
  "nbformat_minor": 0,
  "metadata": {
    "colab": {
      "provenance": [],
      "authorship_tag": "ABX9TyPL0BSxpL0kULC99nsMnMYw",
      "include_colab_link": true
    },
    "kernelspec": {
      "name": "python3",
      "display_name": "Python 3"
    },
    "language_info": {
      "name": "python"
    }
  },
  "cells": [
    {
      "cell_type": "markdown",
      "metadata": {
        "id": "view-in-github",
        "colab_type": "text"
      },
      "source": [
        "<a href=\"https://colab.research.google.com/github/RafsanJany-44/ARC/blob/master/CNU.ipynb\" target=\"_parent\"><img src=\"https://colab.research.google.com/assets/colab-badge.svg\" alt=\"Open In Colab\"/></a>"
      ]
    },
    {
      "cell_type": "code",
      "execution_count": 1,
      "metadata": {
        "id": "m-zD71Cw423R"
      },
      "outputs": [],
      "source": [
        "import pandas as pd\n",
        "import numpy as np"
      ]
    },
    {
      "cell_type": "code",
      "source": [
        "df_BA = pd.read_csv(\"/content/CNU_Abid_Organize_data_Biomass_12.02.2023_BA.csv\")\n",
        "df_BH = pd.read_csv(\"/content/CNU_Abid_Organize_data_Biomass_12.02.2023_BH.csv\")\n"
      ],
      "metadata": {
        "id": "uzj0Bh-d5L2P"
      },
      "execution_count": 11,
      "outputs": []
    },
    {
      "cell_type": "code",
      "source": [
        "df_BA.insert(0, 'Condition', df_BA.pop('Condition'))\n",
        "df_BH.insert(0, 'Condition', df_BH.pop('Condition'))"
      ],
      "metadata": {
        "id": "jldHjXHE9hgI"
      },
      "execution_count": 12,
      "outputs": []
    },
    {
      "cell_type": "code",
      "source": [
        "df_BA_2 = df_BA.loc[:,[\"Condition\",\"BA_Leaf(g)\"]]"
      ],
      "metadata": {
        "id": "UrXe5tMw_QPU"
      },
      "execution_count": 39,
      "outputs": []
    },
    {
      "cell_type": "code",
      "source": [
        "df_BA_2[\"Condition\"].unique()"
      ],
      "metadata": {
        "colab": {
          "base_uri": "https://localhost:8080/"
        },
        "id": "7r_NkrLRAk_w",
        "outputId": "88d1efb4-0793-4948-b007-ef441dd29563"
      },
      "execution_count": 41,
      "outputs": [
        {
          "output_type": "execute_result",
          "data": {
            "text/plain": [
              "array(['0.55F W1 0BC F1', '0.55F W1 0BC F2', '0.55F W1 0BC F3',\n",
              "       '0.55F W1 0.2BC F1', '0.55F W1 0.2BC F2', '0.55F W1 0.2BC F3',\n",
              "       '0.55F W2 0BC F1', '0.55F W2 0BC F2', '0.55F W2 0BC F3',\n",
              "       '0.55F W2 0.2BC F1', '0.55F W2 0.2BC F2', '0.55F W2 0.2BC F3',\n",
              "       '0.55F W3 0.2BC F1', '0.55F W3 0.2BC F2', '0.55F W3 0.2BC F3',\n",
              "       '0.55F W3 0BC F1', '0.55F W3 0BC F2', '0.55F W3 0BC F3',\n",
              "       '0.35F W1 0BC F1', '0.35F W1 0BC F2', '0.35F W1 0BC F3',\n",
              "       '0.35F W1 0.2BC F1', '0.35F W1 0.2BC F2', '0.35F W1 0.2BC F3',\n",
              "       '0.35F W2 0BC F1', '0.35F W2 0BC F2', '0.35F W2 0BC F3',\n",
              "       '0.35F W2 0.2BC F1', '0.35F W2 0.2BC F2', '0.35F W2 0.2BC F3',\n",
              "       '0.35F W3 0BC F1', '0.35F W3 0BC F2', '0.35F W3 0BC F3',\n",
              "       '0.35F W3 0.2BC F1', '0.35F W3 0.2BC F2', '0.35F W3 0.2BC F3',\n",
              "       '0F W1 0BC F1', '0F W1 0BC F2', '0F W1 0BC F3', '0F W1 0.2BC F1',\n",
              "       '0F W1 0.2BC F2', '0F W1 0.2BC F3', '0F W2 0BC F1', '0F W2 0BC F2',\n",
              "       '0F W2 0BC F3', '0F W2 0.2BC F1', '0F W2 0.2BC F2',\n",
              "       '0F W2 0.2BC F3', '0F W3 0BC F1', '0F W3 0BC F2', '0F W3 0BC F3',\n",
              "       '0F W3 0.2BC F1', '0F W3 0.2BC F2', '0F W3 0.2BC F3'], dtype=object)"
            ]
          },
          "metadata": {},
          "execution_count": 41
        }
      ]
    },
    {
      "cell_type": "code",
      "source": [
        "d={'0.55F W1 0BC F1':[],\n",
        "'0.55F W1 0BC F2':[],\n",
        "'0.55F W1 0BC F3':[],\n",
        "'0.55F W1 0.2BC F1':[],\n",
        "'0.55F W1 0.2BC F2':[],\n",
        "'0.55F W1 0.2BC F3':[],\n",
        "'0.55F W2 0BC F1':[],\n",
        "'0.55F W2 0BC F2':[],\n",
        "'0.55F W2 0BC F3':[],\n",
        "'0.55F W2 0.2BC F1':[],\n",
        "'0.55F W2 0.2BC F2':[],\n",
        "'0.55F W2 0.2BC F3':[],\n",
        "'0.55F W3 0.2BC F1':[],\n",
        "'0.55F W3 0.2BC F2':[],\n",
        "'0.55F W3 0.2BC F3':[],\n",
        "'0.55F W3 0BC F1':[],\n",
        "'0.55F W3 0BC F2':[],\n",
        "'0.55F W3 0BC F3':[],\n",
        "'0.35F W1 0BC F1':[],\n",
        "'0.35F W1 0BC F2':[],\n",
        "'0.35F W1 0BC F3':[],\n",
        "'0.35F W1 0.2BC F1':[],\n",
        "'0.35F W1 0.2BC F2':[],\n",
        "'0.35F W1 0.2BC F3':[],\n",
        "'0.35F W2 0BC F1':[],\n",
        "'0.35F W2 0BC F2':[],\n",
        "'0.35F W2 0BC F3':[],\n",
        "'0.35F W2 0.2BC F1':[],\n",
        "'0.35F W2 0.2BC F2':[],\n",
        "'0.35F W2 0.2BC F3':[],\n",
        "'0.35F W3 0BC F1':[],\n",
        "'0.35F W3 0BC F2':[],\n",
        "'0.35F W3 0BC F3':[],\n",
        "'0.35F W3 0.2BC F1':[],\n",
        "'0.35F W3 0.2BC F2':[],\n",
        "'0.35F W3 0.2BC F3':[],\n",
        "'0F W1 0BC F1':[],\n",
        "'0F W1 0BC F2':[],\n",
        "'0F W1 0BC F3':[],\n",
        "'0F W1 0.2BC F1':[],\n",
        "'0F W1 0.2BC F2':[],\n",
        "'0F W1 0.2BC F3':[],\n",
        "'0F W2 0BC F1':[],\n",
        "'0F W2 0BC F2':[],\n",
        "'0F W2 0BC F3':[],\n",
        "'0F W2 0.2BC F1':[],\n",
        "'0F W2 0.2BC F2':[],\n",
        "'0F W2 0.2BC F3':[],\n",
        "'0F W3 0BC F1':[],\n",
        "'0F W3 0BC F2':[],\n",
        "'0F W3 0BC F3':[],\n",
        "'0F W3 0.2BC F1':[],\n",
        "'0F W3 0.2BC F2':[],\n",
        "'0F W3 0.2BC F3':[]}"
      ],
      "metadata": {
        "id": "MVVC6jrmDYbj"
      },
      "execution_count": 45,
      "outputs": []
    },
    {
      "cell_type": "code",
      "source": [],
      "metadata": {
        "id": "ySFJLPL-GcK3"
      },
      "execution_count": 42,
      "outputs": []
    },
    {
      "cell_type": "code",
      "source": [
        "d"
      ],
      "metadata": {
        "colab": {
          "base_uri": "https://localhost:8080/"
        },
        "id": "VrMHOG6yGq29",
        "outputId": "824d3bbf-3fd6-43a5-f35a-857d5c4390e6"
      },
      "execution_count": 43,
      "outputs": [
        {
          "output_type": "execute_result",
          "data": {
            "text/plain": [
              "{'a': [1], 'b': []}"
            ]
          },
          "metadata": {},
          "execution_count": 43
        }
      ]
    },
    {
      "cell_type": "code",
      "source": [],
      "metadata": {
        "id": "3AbMeRjEGrzY"
      },
      "execution_count": null,
      "outputs": []
    }
  ]
}