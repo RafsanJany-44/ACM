{
  "cells": [
    {
      "cell_type": "markdown",
      "metadata": {
        "id": "view-in-github",
        "colab_type": "text"
      },
      "source": [
        "<a href=\"https://colab.research.google.com/github/RafsanJany-44/ACM/blob/master/Untitled50.ipynb\" target=\"_parent\"><img src=\"https://colab.research.google.com/assets/colab-badge.svg\" alt=\"Open In Colab\"/></a>"
      ]
    },
    {
      "cell_type": "markdown",
      "metadata": {
        "id": "cAAFwPEM58NN"
      },
      "source": [
        "#SHAP (SHapley Additive exPlanations)"
      ]
    },
    {
      "cell_type": "code",
      "execution_count": 1,
      "metadata": {
        "id": "mSsz1MAqcWo3"
      },
      "outputs": [],
      "source": [
        "import pandas as pd\n",
        "import numpy as np\n",
        "data = 'https://raw.githubusercontent.com/RafsanJany-44/Thesis_Project/main/All_DATA/without_sn_and_Epoch/EEG_HMC.csv'\n",
        "dataset = pd.read_csv(data)\n",
        "\n",
        "X = dataset.iloc[:, 1:]\n",
        "y = dataset.iloc[:, 0]\n",
        "\n"
      ]
    },
    {
      "cell_type": "code",
      "execution_count": 2,
      "metadata": {
        "id": "QaL_xITDcaOm"
      },
      "outputs": [],
      "source": [
        "from sklearn.model_selection import train_test_split\n",
        "X_train, X_test, y_train, y_test = train_test_split(X, y, test_size=0.30, random_state=7)"
      ]
    },
    {
      "cell_type": "code",
      "execution_count": 3,
      "metadata": {
        "id": "ZhtlRj8Ocl9o"
      },
      "outputs": [],
      "source": [
        "from sklearn.neighbors import KNeighborsClassifier\n",
        "model = KNeighborsClassifier(n_neighbors=3)\n",
        "model.fit(X_train, y_train)\n",
        "y_pred=model.predict(X_test)"
      ]
    },
    {
      "cell_type": "code",
      "execution_count": 4,
      "metadata": {
        "colab": {
          "base_uri": "https://localhost:8080/"
        },
        "id": "0jzxlzuXcx_L",
        "outputId": "b8f7736b-7f40-47a8-e8d6-1b504c1f1586"
      },
      "outputs": [
        {
          "output_type": "stream",
          "name": "stdout",
          "text": [
            "[[1488  993   53  455  664]\n",
            " [1051 8700 1222  552  212]\n",
            " [ 157 1135 5039   41   35]\n",
            " [ 525  633   56 3681   83]\n",
            " [1021  387   52  133 4168]]\n",
            "              precision    recall  f1-score   support\n",
            "\n",
            "          N1       0.35      0.41      0.38      3653\n",
            "          N2       0.73      0.74      0.74     11737\n",
            "          N3       0.78      0.79      0.79      6407\n",
            "           R       0.76      0.74      0.75      4978\n",
            "           W       0.81      0.72      0.76      5761\n",
            "\n",
            "    accuracy                           0.71     32536\n",
            "   macro avg       0.69      0.68      0.68     32536\n",
            "weighted avg       0.72      0.71      0.71     32536\n",
            "\n",
            "Accurecy:  0.7092451438406688\n"
          ]
        }
      ],
      "source": [
        "from sklearn.metrics import classification_report, confusion_matrix, accuracy_score\n",
        "print(confusion_matrix(y_test, y_pred))\n",
        "print(classification_report(y_test,y_pred))\n",
        "print(\"Accurecy: \",accuracy_score(y_test, y_pred))"
      ]
    },
    {
      "cell_type": "code",
      "source": [
        "X_test.values[0]"
      ],
      "metadata": {
        "colab": {
          "base_uri": "https://localhost:8080/"
        },
        "id": "Gts2e8fyXGU7",
        "outputId": "8a3aecce-e75b-4c21-c3a8-2b65ad67e7bb"
      },
      "execution_count": 5,
      "outputs": [
        {
          "output_type": "execute_result",
          "data": {
            "text/plain": [
              "array([3.200000e-04, 8.866340e+00, 1.560976e+01, 1.461073e+01,\n",
              "       8.366830e+00, 2.800000e-04, 1.523512e+01, 2.647415e+01,\n",
              "       3.059512e+01, 4.995122e+01, 6.200000e-04, 4.745370e+00,\n",
              "       1.086439e+01, 8.866340e+00, 2.747320e+00, 9.610000e-03,\n",
              "       6.243900e-01, 4.620490e+00, 1.748290e+00, 4.995100e-01,\n",
              "       9.620000e-05, 4.982634e+01, 4.982634e+01, 4.995122e+01,\n",
              "       4.995122e+01, 3.000000e-04, 9.116100e+00, 1.560976e+01,\n",
              "       1.473561e+01, 9.116100e+00, 2.700000e-04, 1.473561e+01,\n",
              "       2.485073e+01, 2.772293e+01, 4.995122e+01, 5.000000e-04,\n",
              "       5.120000e+00, 1.123902e+01, 9.240980e+00, 2.747320e+00,\n",
              "       6.330000e-03, 4.995100e-01, 4.995120e+00, 1.873170e+00,\n",
              "       4.995100e-01, 7.260000e-05, 4.982634e+01, 4.982634e+01,\n",
              "       4.995122e+01, 4.995122e+01, 2.400000e-04, 9.240980e+00,\n",
              "       1.610927e+01, 1.548488e+01, 7.742440e+00, 2.600000e-04,\n",
              "       1.635902e+01, 3.096976e+01, 4.982634e+01, 4.995122e+01,\n",
              "       3.600000e-04, 5.369760e+00, 1.148878e+01, 9.615610e+00,\n",
              "       4.995120e+00, 5.720000e-03, 4.995100e-01, 4.995120e+00,\n",
              "       1.373660e+00, 4.995100e-01, 1.500000e-04, 4.982634e+01,\n",
              "       4.982634e+01, 4.995122e+01, 4.995122e+01])"
            ]
          },
          "metadata": {},
          "execution_count": 5
        }
      ]
    },
    {
      "cell_type": "code",
      "source": [
        "model.predict(np.array(X_test.values[10]).reshape(1,-1))"
      ],
      "metadata": {
        "colab": {
          "base_uri": "https://localhost:8080/"
        },
        "id": "mjLfC9VgXIfc",
        "outputId": "56dc1131-7c72-4d88-eddd-6e003244c93b"
      },
      "execution_count": 6,
      "outputs": [
        {
          "output_type": "stream",
          "name": "stderr",
          "text": [
            "/usr/local/lib/python3.7/dist-packages/sklearn/base.py:451: UserWarning: X does not have valid feature names, but KNeighborsClassifier was fitted with feature names\n",
            "  \"X does not have valid feature names, but\"\n"
          ]
        },
        {
          "output_type": "execute_result",
          "data": {
            "text/plain": [
              "array(['R'], dtype=object)"
            ]
          },
          "metadata": {},
          "execution_count": 6
        }
      ]
    },
    {
      "cell_type": "markdown",
      "metadata": {
        "id": "U3nNqt1w523V"
      },
      "source": [
        "#SHAP"
      ]
    },
    {
      "cell_type": "code",
      "execution_count": 7,
      "metadata": {
        "id": "i39tsgHD8tnJ",
        "colab": {
          "base_uri": "https://localhost:8080/"
        },
        "outputId": "ff7de40a-3698-4856-b9b3-cb0543a693ea"
      },
      "outputs": [
        {
          "output_type": "stream",
          "name": "stdout",
          "text": [
            "Looking in indexes: https://pypi.org/simple, https://us-python.pkg.dev/colab-wheels/public/simple/\n",
            "Requirement already satisfied: shap in /usr/local/lib/python3.7/dist-packages (0.41.0)\n",
            "Requirement already satisfied: numpy in /usr/local/lib/python3.7/dist-packages (from shap) (1.21.6)\n",
            "Requirement already satisfied: tqdm>4.25.0 in /usr/local/lib/python3.7/dist-packages (from shap) (4.64.0)\n",
            "Requirement already satisfied: packaging>20.9 in /usr/local/lib/python3.7/dist-packages (from shap) (21.3)\n",
            "Requirement already satisfied: pandas in /usr/local/lib/python3.7/dist-packages (from shap) (1.3.5)\n",
            "Requirement already satisfied: scikit-learn in /usr/local/lib/python3.7/dist-packages (from shap) (1.0.2)\n",
            "Requirement already satisfied: slicer==0.0.7 in /usr/local/lib/python3.7/dist-packages (from shap) (0.0.7)\n",
            "Requirement already satisfied: scipy in /usr/local/lib/python3.7/dist-packages (from shap) (1.4.1)\n",
            "Requirement already satisfied: numba in /usr/local/lib/python3.7/dist-packages (from shap) (0.51.2)\n",
            "Requirement already satisfied: cloudpickle in /usr/local/lib/python3.7/dist-packages (from shap) (1.3.0)\n",
            "Requirement already satisfied: pyparsing!=3.0.5,>=2.0.2 in /usr/local/lib/python3.7/dist-packages (from packaging>20.9->shap) (3.0.9)\n",
            "Requirement already satisfied: setuptools in /usr/local/lib/python3.7/dist-packages (from numba->shap) (57.4.0)\n",
            "Requirement already satisfied: llvmlite<0.35,>=0.34.0.dev0 in /usr/local/lib/python3.7/dist-packages (from numba->shap) (0.34.0)\n",
            "Requirement already satisfied: python-dateutil>=2.7.3 in /usr/local/lib/python3.7/dist-packages (from pandas->shap) (2.8.2)\n",
            "Requirement already satisfied: pytz>=2017.3 in /usr/local/lib/python3.7/dist-packages (from pandas->shap) (2022.1)\n",
            "Requirement already satisfied: six>=1.5 in /usr/local/lib/python3.7/dist-packages (from python-dateutil>=2.7.3->pandas->shap) (1.15.0)\n",
            "Requirement already satisfied: joblib>=0.11 in /usr/local/lib/python3.7/dist-packages (from scikit-learn->shap) (1.1.0)\n",
            "Requirement already satisfied: threadpoolctl>=2.0.0 in /usr/local/lib/python3.7/dist-packages (from scikit-learn->shap) (3.1.0)\n"
          ]
        }
      ],
      "source": [
        "!pip install shap"
      ]
    },
    {
      "cell_type": "code",
      "source": [
        "import shap\n",
        "#shap.initjs()"
      ],
      "metadata": {
        "id": "GCX3x2HcZxsM"
      },
      "execution_count": 8,
      "outputs": []
    },
    {
      "cell_type": "code",
      "source": [
        "explainer = shap.KernelExplainer(model.predict_proba, X_train)"
      ],
      "metadata": {
        "colab": {
          "base_uri": "https://localhost:8080/"
        },
        "id": "K7AjKKMWZ4KF",
        "outputId": "4cb944cd-1082-433e-e749-cf846e40db14"
      },
      "execution_count": 9,
      "outputs": [
        {
          "output_type": "stream",
          "name": "stderr",
          "text": [
            "X does not have valid feature names, but KNeighborsClassifier was fitted with feature names\n",
            "Using 75915 background data samples could cause slower run times. Consider using shap.sample(data, K) or shap.kmeans(data, K) to summarize the background as K samples.\n"
          ]
        }
      ]
    },
    {
      "cell_type": "code",
      "source": [
        "shap_values = explainer.shap_values(X_test.iloc[0,:])"
      ],
      "metadata": {
        "id": "YeZ2oroWaMjE"
      },
      "execution_count": null,
      "outputs": []
    },
    {
      "cell_type": "code",
      "source": [
        "X_test.iloc[0,:]"
      ],
      "metadata": {
        "id": "JJrP_bEuaRo7"
      },
      "execution_count": null,
      "outputs": []
    },
    {
      "cell_type": "code",
      "source": [
        "shap.force_plot(explainer.expected_value[0], shap_values[0], X_test.iloc[0:])"
      ],
      "metadata": {
        "id": "2QutW_Kac-zz"
      },
      "execution_count": null,
      "outputs": []
    },
    {
      "cell_type": "code",
      "source": [
        "shap.summary_plot(shap_values,X_test)"
      ],
      "metadata": {
        "id": "-kIRBL60c_js"
      },
      "execution_count": null,
      "outputs": []
    }
  ],
  "metadata": {
    "colab": {
      "name": "Untitled50.ipynb",
      "provenance": [],
      "include_colab_link": true
    },
    "kernelspec": {
      "display_name": "Python 3",
      "language": "python",
      "name": "python3"
    },
    "language_info": {
      "codemirror_mode": {
        "name": "ipython",
        "version": 3
      },
      "file_extension": ".py",
      "mimetype": "text/x-python",
      "name": "python",
      "nbconvert_exporter": "python",
      "pygments_lexer": "ipython3",
      "version": "3.7.4"
    }
  },
  "nbformat": 4,
  "nbformat_minor": 0
}