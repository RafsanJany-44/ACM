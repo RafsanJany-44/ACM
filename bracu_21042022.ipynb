{
  "nbformat": 4,
  "nbformat_minor": 0,
  "metadata": {
    "colab": {
      "name": "bracu_21042022.ipynb",
      "provenance": [],
      "authorship_tag": "ABX9TyPueZQpfOOI2Lw1z75OMcfb",
      "include_colab_link": true
    },
    "kernelspec": {
      "name": "python3",
      "display_name": "Python 3"
    },
    "language_info": {
      "name": "python"
    }
  },
  "cells": [
    {
      "cell_type": "markdown",
      "metadata": {
        "id": "view-in-github",
        "colab_type": "text"
      },
      "source": [
        "<a href=\"https://colab.research.google.com/github/RafsanJany-44/ACM/blob/master/bracu_21042022.ipynb\" target=\"_parent\"><img src=\"https://colab.research.google.com/assets/colab-badge.svg\" alt=\"Open In Colab\"/></a>"
      ]
    },
    {
      "cell_type": "code",
      "execution_count": null,
      "metadata": {
        "id": "1c6Py5PM-7mF"
      },
      "outputs": [],
      "source": [
        "class Student():\n",
        "  def __init__(self, name,dept):\n",
        "  self.name=Name\n",
        "  self.dept=dept\n",
        "\n",
        "\n",
        "\n",
        "\n",
        "s1 = Student(\"Naruto\", \"CSE\")\n",
        "print('----------------------')\n",
        "s1.individualInfo()\n",
        "print('#############################')\n",
        "s1.totalInfo()\n",
        "print('============================')\n",
        " \n",
        "s2 = Student(\"Sakura\", \"BBA\")\n",
        "print('----------------------')\n",
        "s2.individualInfo()\n",
        "print('#############################')\n",
        "s2.totalInfo()\n",
        "print('============================')\n",
        " \n",
        "s3 = Student(\"Shikamaru\", \"CSE\")\n",
        "print('----------------------')\n",
        "s3.individualInfo()\n",
        "print('#############################')\n",
        "s3.totalInfo()\n",
        "print('============================')\n",
        " \n",
        "s4 = Student(\"Deidara\", \"BBA\")\n",
        "print('----------------------')\n",
        "s4.individualInfo()\n",
        "print('#############################')\n",
        "s4.totalInfo()"
      ]
    }
  ]
}