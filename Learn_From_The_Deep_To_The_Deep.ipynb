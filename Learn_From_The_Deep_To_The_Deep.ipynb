{
  "nbformat": 4,
  "nbformat_minor": 0,
  "metadata": {
    "colab": {
      "provenance": [],
      "authorship_tag": "ABX9TyMcJ0w4FRKOzBKHfHqigEwf",
      "include_colab_link": true
    },
    "kernelspec": {
      "name": "python3",
      "display_name": "Python 3"
    },
    "language_info": {
      "name": "python"
    }
  },
  "cells": [
    {
      "cell_type": "markdown",
      "metadata": {
        "id": "view-in-github",
        "colab_type": "text"
      },
      "source": [
        "<a href=\"https://colab.research.google.com/github/RafsanJany-44/ARC/blob/master/Learn_From_The_Deep_To_The_Deep.ipynb\" target=\"_parent\"><img src=\"https://colab.research.google.com/assets/colab-badge.svg\" alt=\"Open In Colab\"/></a>"
      ]
    },
    {
      "cell_type": "code",
      "source": [
        "celsius_q    = np.array([-40, -10,  0,  8, 15, 22,  38],  dtype=float)\n",
        "fahrenheit_a = np.array([-40,  14, 32, 46, 59, 72, 100],  dtype=float)\n",
        "\n",
        "for i,c in enumerate(celsius_q):\n",
        "  print(\"{} degrees Celsius = {} degrees Fahrenheit\".format(c, fahrenheit_a[i]))"
      ],
      "metadata": {
        "colab": {
          "base_uri": "https://localhost:8080/"
        },
        "id": "bBAogsMNWEef",
        "outputId": "358011cc-5c51-4f00-9a27-6bc79175c168"
      },
      "execution_count": 6,
      "outputs": [
        {
          "output_type": "stream",
          "name": "stdout",
          "text": [
            "-40.0 degrees Celsius = -40.0 degrees Fahrenheit\n",
            "-10.0 degrees Celsius = 14.0 degrees Fahrenheit\n",
            "0.0 degrees Celsius = 32.0 degrees Fahrenheit\n",
            "8.0 degrees Celsius = 46.0 degrees Fahrenheit\n",
            "15.0 degrees Celsius = 59.0 degrees Fahrenheit\n",
            "22.0 degrees Celsius = 72.0 degrees Fahrenheit\n",
            "38.0 degrees Celsius = 100.0 degrees Fahrenheit\n"
          ]
        }
      ]
    },
    {
      "cell_type": "markdown",
      "source": [
        "#Let's Make a Traditional Program"
      ],
      "metadata": {
        "id": "40MUeZSOZj4m"
      }
    },
    {
      "cell_type": "code",
      "source": [
        "celsius = [-40, -10,  0,  8, 15, 22,  38]"
      ],
      "metadata": {
        "id": "LoUCYX7uWi83"
      },
      "execution_count": 12,
      "outputs": []
    },
    {
      "cell_type": "code",
      "execution_count": 13,
      "metadata": {
        "id": "qUO8EWPSSEvs"
      },
      "outputs": [],
      "source": [
        "def cel_to_far(c):\n",
        "  f = c * (9/5) + 32\n",
        "  return f"
      ]
    },
    {
      "cell_type": "code",
      "source": [
        "\n",
        "fahrenheit = []\n",
        "for i in celsius:\n",
        "  fahrenheit.append(cel_to_far(i))\n"
      ],
      "metadata": {
        "id": "QhuYshqxUyAC"
      },
      "execution_count": 14,
      "outputs": []
    },
    {
      "cell_type": "code",
      "source": [
        "import numpy as np\n",
        "import pandas as pd"
      ],
      "metadata": {
        "id": "CoHyL0P_bAZG"
      },
      "execution_count": 17,
      "outputs": []
    },
    {
      "cell_type": "code",
      "source": [
        "celsius_in = np.array(celsius,  dtype=float)\n",
        "fahrenheit_out = np.array(fahrenheit,  dtype=float)"
      ],
      "metadata": {
        "id": "no-HTR1cYNK4"
      },
      "execution_count": null,
      "outputs": []
    },
    {
      "cell_type": "code",
      "source": [],
      "metadata": {
        "id": "P8eGrLJ9bt7W"
      },
      "execution_count": null,
      "outputs": []
    }
  ]
}