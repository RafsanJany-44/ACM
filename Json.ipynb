{
  "nbformat": 4,
  "nbformat_minor": 0,
  "metadata": {
    "colab": {
      "provenance": [],
      "authorship_tag": "ABX9TyMyBntn0iAHYl1a6jqQq8PS",
      "include_colab_link": true
    },
    "kernelspec": {
      "name": "python3",
      "display_name": "Python 3"
    },
    "language_info": {
      "name": "python"
    }
  },
  "cells": [
    {
      "cell_type": "markdown",
      "metadata": {
        "id": "view-in-github",
        "colab_type": "text"
      },
      "source": [
        "<a href=\"https://colab.research.google.com/github/RafsanJany-44/ARC/blob/master/Json.ipynb\" target=\"_parent\"><img src=\"https://colab.research.google.com/assets/colab-badge.svg\" alt=\"Open In Colab\"/></a>"
      ]
    },
    {
      "cell_type": "code",
      "execution_count": 1,
      "metadata": {
        "id": "TDT1-xQ4K7Z2"
      },
      "outputs": [],
      "source": [
        "import numpy as np\n",
        "import pandas as pd"
      ]
    },
    {
      "cell_type": "code",
      "source": [
        "df = pd.read_json(\"/content/ADANIENT-2000-01-01-2023-05-31.json\",typ='series')"
      ],
      "metadata": {
        "id": "4cV0APB7LKgm"
      },
      "execution_count": 22,
      "outputs": []
    },
    {
      "cell_type": "code",
      "source": [
        "df.head(10)"
      ],
      "metadata": {
        "colab": {
          "base_uri": "https://localhost:8080/"
        },
        "id": "DZXZwCLpLafB",
        "outputId": "d780b123-b3ef-4f82-fd4d-83e2358533cd"
      },
      "execution_count": 23,
      "outputs": [
        {
          "output_type": "execute_result",
          "data": {
            "text/plain": [
              "status                                               success\n",
              "remarks                                                     \n",
              "data       {'open': [6.63, 6.75, 6.75, 6.53, 6.5600000000...\n",
              "dtype: object"
            ]
          },
          "metadata": {},
          "execution_count": 23
        }
      ]
    },
    {
      "cell_type": "code",
      "source": [
        "df2 = pd.DataFrame(df['data'])"
      ],
      "metadata": {
        "id": "BPycpItgvbnm"
      },
      "execution_count": 28,
      "outputs": []
    },
    {
      "cell_type": "code",
      "source": [
        "df2.head(10)"
      ],
      "metadata": {
        "id": "LHuib-YNtvnW",
        "outputId": "dd4b9878-848d-46a3-bc64-14bc0563e4ee",
        "colab": {
          "base_uri": "https://localhost:8080/",
          "height": 363
        }
      },
      "execution_count": 30,
      "outputs": [
        {
          "output_type": "execute_result",
          "data": {
            "text/plain": [
              "   open  high   low  close   volume           start_Time\n",
              "0  6.63  6.72  6.50   6.59  43406.0  2003-09-05 00:00:00\n",
              "1  6.75  6.81  6.57   6.62  37381.0  2003-09-08 00:00:00\n",
              "2  6.75  6.87  6.47   6.59  41136.0  2003-09-09 00:00:00\n",
              "3  6.53  6.68  6.50   6.58  36487.0  2003-09-10 00:00:00\n",
              "4  6.56  6.75  6.47   6.53  38052.0  2003-09-11 00:00:00\n",
              "5  6.66  6.72  6.50   6.57  37512.0  2003-09-12 00:00:00\n",
              "6  6.67  6.67  6.32   6.41  33956.0  2003-09-15 00:00:00\n",
              "7  6.30  6.38  6.22   6.30  37143.0  2003-09-16 00:00:00\n",
              "8  6.28  6.53  6.25   6.31  33496.0  2003-09-17 00:00:00\n",
              "9  6.29  6.34  6.07   6.11  35983.0  2003-09-18 00:00:00"
            ],
            "text/html": [
              "\n",
              "  <div id=\"df-7ecf1271-d6d9-4a2e-a293-4d5f6002311f\">\n",
              "    <div class=\"colab-df-container\">\n",
              "      <div>\n",
              "<style scoped>\n",
              "    .dataframe tbody tr th:only-of-type {\n",
              "        vertical-align: middle;\n",
              "    }\n",
              "\n",
              "    .dataframe tbody tr th {\n",
              "        vertical-align: top;\n",
              "    }\n",
              "\n",
              "    .dataframe thead th {\n",
              "        text-align: right;\n",
              "    }\n",
              "</style>\n",
              "<table border=\"1\" class=\"dataframe\">\n",
              "  <thead>\n",
              "    <tr style=\"text-align: right;\">\n",
              "      <th></th>\n",
              "      <th>open</th>\n",
              "      <th>high</th>\n",
              "      <th>low</th>\n",
              "      <th>close</th>\n",
              "      <th>volume</th>\n",
              "      <th>start_Time</th>\n",
              "    </tr>\n",
              "  </thead>\n",
              "  <tbody>\n",
              "    <tr>\n",
              "      <th>0</th>\n",
              "      <td>6.63</td>\n",
              "      <td>6.72</td>\n",
              "      <td>6.50</td>\n",
              "      <td>6.59</td>\n",
              "      <td>43406.0</td>\n",
              "      <td>2003-09-05 00:00:00</td>\n",
              "    </tr>\n",
              "    <tr>\n",
              "      <th>1</th>\n",
              "      <td>6.75</td>\n",
              "      <td>6.81</td>\n",
              "      <td>6.57</td>\n",
              "      <td>6.62</td>\n",
              "      <td>37381.0</td>\n",
              "      <td>2003-09-08 00:00:00</td>\n",
              "    </tr>\n",
              "    <tr>\n",
              "      <th>2</th>\n",
              "      <td>6.75</td>\n",
              "      <td>6.87</td>\n",
              "      <td>6.47</td>\n",
              "      <td>6.59</td>\n",
              "      <td>41136.0</td>\n",
              "      <td>2003-09-09 00:00:00</td>\n",
              "    </tr>\n",
              "    <tr>\n",
              "      <th>3</th>\n",
              "      <td>6.53</td>\n",
              "      <td>6.68</td>\n",
              "      <td>6.50</td>\n",
              "      <td>6.58</td>\n",
              "      <td>36487.0</td>\n",
              "      <td>2003-09-10 00:00:00</td>\n",
              "    </tr>\n",
              "    <tr>\n",
              "      <th>4</th>\n",
              "      <td>6.56</td>\n",
              "      <td>6.75</td>\n",
              "      <td>6.47</td>\n",
              "      <td>6.53</td>\n",
              "      <td>38052.0</td>\n",
              "      <td>2003-09-11 00:00:00</td>\n",
              "    </tr>\n",
              "    <tr>\n",
              "      <th>5</th>\n",
              "      <td>6.66</td>\n",
              "      <td>6.72</td>\n",
              "      <td>6.50</td>\n",
              "      <td>6.57</td>\n",
              "      <td>37512.0</td>\n",
              "      <td>2003-09-12 00:00:00</td>\n",
              "    </tr>\n",
              "    <tr>\n",
              "      <th>6</th>\n",
              "      <td>6.67</td>\n",
              "      <td>6.67</td>\n",
              "      <td>6.32</td>\n",
              "      <td>6.41</td>\n",
              "      <td>33956.0</td>\n",
              "      <td>2003-09-15 00:00:00</td>\n",
              "    </tr>\n",
              "    <tr>\n",
              "      <th>7</th>\n",
              "      <td>6.30</td>\n",
              "      <td>6.38</td>\n",
              "      <td>6.22</td>\n",
              "      <td>6.30</td>\n",
              "      <td>37143.0</td>\n",
              "      <td>2003-09-16 00:00:00</td>\n",
              "    </tr>\n",
              "    <tr>\n",
              "      <th>8</th>\n",
              "      <td>6.28</td>\n",
              "      <td>6.53</td>\n",
              "      <td>6.25</td>\n",
              "      <td>6.31</td>\n",
              "      <td>33496.0</td>\n",
              "      <td>2003-09-17 00:00:00</td>\n",
              "    </tr>\n",
              "    <tr>\n",
              "      <th>9</th>\n",
              "      <td>6.29</td>\n",
              "      <td>6.34</td>\n",
              "      <td>6.07</td>\n",
              "      <td>6.11</td>\n",
              "      <td>35983.0</td>\n",
              "      <td>2003-09-18 00:00:00</td>\n",
              "    </tr>\n",
              "  </tbody>\n",
              "</table>\n",
              "</div>\n",
              "      <button class=\"colab-df-convert\" onclick=\"convertToInteractive('df-7ecf1271-d6d9-4a2e-a293-4d5f6002311f')\"\n",
              "              title=\"Convert this dataframe to an interactive table.\"\n",
              "              style=\"display:none;\">\n",
              "        \n",
              "  <svg xmlns=\"http://www.w3.org/2000/svg\" height=\"24px\"viewBox=\"0 0 24 24\"\n",
              "       width=\"24px\">\n",
              "    <path d=\"M0 0h24v24H0V0z\" fill=\"none\"/>\n",
              "    <path d=\"M18.56 5.44l.94 2.06.94-2.06 2.06-.94-2.06-.94-.94-2.06-.94 2.06-2.06.94zm-11 1L8.5 8.5l.94-2.06 2.06-.94-2.06-.94L8.5 2.5l-.94 2.06-2.06.94zm10 10l.94 2.06.94-2.06 2.06-.94-2.06-.94-.94-2.06-.94 2.06-2.06.94z\"/><path d=\"M17.41 7.96l-1.37-1.37c-.4-.4-.92-.59-1.43-.59-.52 0-1.04.2-1.43.59L10.3 9.45l-7.72 7.72c-.78.78-.78 2.05 0 2.83L4 21.41c.39.39.9.59 1.41.59.51 0 1.02-.2 1.41-.59l7.78-7.78 2.81-2.81c.8-.78.8-2.07 0-2.86zM5.41 20L4 18.59l7.72-7.72 1.47 1.35L5.41 20z\"/>\n",
              "  </svg>\n",
              "      </button>\n",
              "      \n",
              "  <style>\n",
              "    .colab-df-container {\n",
              "      display:flex;\n",
              "      flex-wrap:wrap;\n",
              "      gap: 12px;\n",
              "    }\n",
              "\n",
              "    .colab-df-convert {\n",
              "      background-color: #E8F0FE;\n",
              "      border: none;\n",
              "      border-radius: 50%;\n",
              "      cursor: pointer;\n",
              "      display: none;\n",
              "      fill: #1967D2;\n",
              "      height: 32px;\n",
              "      padding: 0 0 0 0;\n",
              "      width: 32px;\n",
              "    }\n",
              "\n",
              "    .colab-df-convert:hover {\n",
              "      background-color: #E2EBFA;\n",
              "      box-shadow: 0px 1px 2px rgba(60, 64, 67, 0.3), 0px 1px 3px 1px rgba(60, 64, 67, 0.15);\n",
              "      fill: #174EA6;\n",
              "    }\n",
              "\n",
              "    [theme=dark] .colab-df-convert {\n",
              "      background-color: #3B4455;\n",
              "      fill: #D2E3FC;\n",
              "    }\n",
              "\n",
              "    [theme=dark] .colab-df-convert:hover {\n",
              "      background-color: #434B5C;\n",
              "      box-shadow: 0px 1px 3px 1px rgba(0, 0, 0, 0.15);\n",
              "      filter: drop-shadow(0px 1px 2px rgba(0, 0, 0, 0.3));\n",
              "      fill: #FFFFFF;\n",
              "    }\n",
              "  </style>\n",
              "\n",
              "      <script>\n",
              "        const buttonEl =\n",
              "          document.querySelector('#df-7ecf1271-d6d9-4a2e-a293-4d5f6002311f button.colab-df-convert');\n",
              "        buttonEl.style.display =\n",
              "          google.colab.kernel.accessAllowed ? 'block' : 'none';\n",
              "\n",
              "        async function convertToInteractive(key) {\n",
              "          const element = document.querySelector('#df-7ecf1271-d6d9-4a2e-a293-4d5f6002311f');\n",
              "          const dataTable =\n",
              "            await google.colab.kernel.invokeFunction('convertToInteractive',\n",
              "                                                     [key], {});\n",
              "          if (!dataTable) return;\n",
              "\n",
              "          const docLinkHtml = 'Like what you see? Visit the ' +\n",
              "            '<a target=\"_blank\" href=https://colab.research.google.com/notebooks/data_table.ipynb>data table notebook</a>'\n",
              "            + ' to learn more about interactive tables.';\n",
              "          element.innerHTML = '';\n",
              "          dataTable['output_type'] = 'display_data';\n",
              "          await google.colab.output.renderOutput(dataTable, element);\n",
              "          const docLink = document.createElement('div');\n",
              "          docLink.innerHTML = docLinkHtml;\n",
              "          element.appendChild(docLink);\n",
              "        }\n",
              "      </script>\n",
              "    </div>\n",
              "  </div>\n",
              "  "
            ]
          },
          "metadata": {},
          "execution_count": 30
        }
      ]
    },
    {
      "cell_type": "code",
      "source": [],
      "metadata": {
        "id": "C4LK5rjJMpZ0"
      },
      "execution_count": null,
      "outputs": []
    }
  ]
}