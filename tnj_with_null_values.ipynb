{
  "cells": [
    {
      "cell_type": "markdown",
      "metadata": {
        "id": "view-in-github",
        "colab_type": "text"
      },
      "source": [
        "<a href=\"https://colab.research.google.com/github/RafsanJany-44/ARC/blob/master/tnj_with_null_values.ipynb\" target=\"_parent\"><img src=\"https://colab.research.google.com/assets/colab-badge.svg\" alt=\"Open In Colab\"/></a>"
      ]
    },
    {
      "cell_type": "code",
      "source": [
        "from google.colab import drive\n",
        "drive.mount('/content/drive')"
      ],
      "metadata": {
        "id": "zMhcRSElRAQ9",
        "outputId": "7cfa25ad-5caa-4661-c500-456768c311b9",
        "colab": {
          "base_uri": "https://localhost:8080/"
        }
      },
      "execution_count": 25,
      "outputs": [
        {
          "output_type": "stream",
          "name": "stdout",
          "text": [
            "Drive already mounted at /content/drive; to attempt to forcibly remount, call drive.mount(\"/content/drive\", force_remount=True).\n"
          ]
        }
      ]
    },
    {
      "cell_type": "code",
      "source": [
        "from tqdm.notebook import tqdm\n",
        "\n",
        "\n",
        "def Search_Some(dataset,some):\n",
        "  dic={}\n",
        "  for col in tqdm(list(dataset.columns)):\n",
        "    rows = []\n",
        "    flage = 0\n",
        "    for row in range(dataset.shape[0]):\n",
        "      if str(dataset[col][row]) == some:\n",
        "        rows.append(row)\n",
        "        flage = 1\n",
        "    if flage ==1:\n",
        "      dic[col] = rows\n",
        "  \n",
        "  return dic\n",
        "\n",
        "def fun_split(X,Y,test_size,feature):\n",
        "\n",
        "    f=Y.value_counts()\n",
        "    rows=X.shape[0]\n",
        "    initial_list=[]\n",
        "    count=0\n",
        "    for i in f:\n",
        "        initial_list.append(i)\n",
        "    train_size=1-test_size\n",
        "    start=0\n",
        "\n",
        "    switch=False\n",
        "    flage = False\n",
        "\n",
        "    for i in tqdm(initial_list):\n",
        "\n",
        "        train=start+int(i*train_size)\n",
        "        f= X[feature][train]\n",
        "        count1=0\n",
        "        count2=0\n",
        "        index1=train\n",
        "        index2=train+1\n",
        "        end=start+i-1\n",
        "        \n",
        "        while X[feature][index1]==f:\n",
        "            if index1<start:\n",
        "                break\n",
        "            index1-=1\n",
        "            count1+=1\n",
        "            \n",
        "            \n",
        "        while X[feature][index2]==f:\n",
        "            if index2>end:\n",
        "                break\n",
        "            index2+=1\n",
        "            count2+=1\n",
        "\n",
        "        if count1>=count2:\n",
        "            train+=count2\n",
        "        else:\n",
        "            train-=count1\n",
        "        \n",
        "        \n",
        "        if flage == False:\n",
        "            X_train= X[start:train+1]\n",
        "            X_test= X[train+1:end]\n",
        "            Y_train = Y[start:train+1]\n",
        "            Y_test = Y[train+1:end]\n",
        "            flage=True\n",
        "\n",
        "        else:\n",
        "            X_train=pd.concat([X_train, X[start:train+1]], ignore_index=True)\n",
        "            X_test=pd.concat([X_test, X[train+1:end+1]], ignore_index=True)\n",
        "            Y_train=pd.concat([Y_train, Y[start:train+1]], ignore_index=True)\n",
        "            Y_test=pd.concat([Y_test, Y[train+1:end+1]], ignore_index=True)\n",
        "\n",
        "        start=start+i\n",
        "\n",
        "    print('Train Percentage:',X_train.shape[0]/rows)\n",
        "\n",
        "    return X_train,X_test,Y_train,Y_test"
      ],
      "metadata": {
        "id": "PZ2St6uaoyAt"
      },
      "execution_count": 26,
      "outputs": []
    },
    {
      "cell_type": "code",
      "execution_count": 27,
      "metadata": {
        "id": "bx4_EcpnY3Vc"
      },
      "outputs": [],
      "source": [
        "import pandas as pd\n",
        "import numpy as np"
      ]
    },
    {
      "cell_type": "code",
      "execution_count": 28,
      "metadata": {
        "id": "OYyHLRlkZENE"
      },
      "outputs": [],
      "source": [
        "data= pd.read_excel('/content/drive/MyDrive/Tanjila_mam/DS-Healthcare.xlsx')\n",
        "target = 'Type'"
      ]
    },
    {
      "cell_type": "code",
      "source": [
        "data.columns = data.iloc[0]               #columns have been set as index 0\n",
        "data = data[1:]  #new dataset index starts from index 1\n",
        "data = data.reset_index(drop=True)"
      ],
      "metadata": {
        "id": "my51sTuLny-b"
      },
      "execution_count": 29,
      "outputs": []
    },
    {
      "cell_type": "code",
      "source": [],
      "metadata": {
        "id": "kL_P5F1C1QoS"
      },
      "execution_count": null,
      "outputs": []
    },
    {
      "cell_type": "code",
      "source": [
        "data.head()"
      ],
      "metadata": {
        "id": "etIkj7ZnofHO",
        "outputId": "9ad37fcb-fbf8-4a78-8de4-c06d46656799",
        "colab": {
          "base_uri": "https://localhost:8080/",
          "height": 206
        }
      },
      "execution_count": null,
      "outputs": [
        {
          "output_type": "execute_result",
          "data": {
            "text/plain": [
              "0 Subject      Type Cycle   Time   RR-I         HR    R-H    P-H    QRS  \\\n",
              "0      E1  ischemic     1  1.072  0.932  64.377682  3.305   3.81  0.088   \n",
              "1      E1  ischemic     2  2.004  1.004  59.760956  3.285   3.81    0.1   \n",
              "2      E1  ischemic     3  3.008  0.996  60.240964   3.34   3.83  0.128   \n",
              "3      E1  ischemic     4  4.004  1.016  59.055118  3.325   3.81  0.108   \n",
              "4      E1  ischemic     5   5.02  0.972  61.728395   3.29  3.765    0.1   \n",
              "\n",
              "0    PRQ     QT       QTC     ST  \n",
              "0   0.16  0.384  0.397762  0.296  \n",
              "1   0.16   0.64  0.638724   0.54  \n",
              "2  0.148  0.628   0.62926    0.5  \n",
              "3  0.172  0.388  0.384933   0.28  \n",
              "4   0.16  0.372   0.37732  0.272  "
            ],
            "text/html": [
              "\n",
              "  <div id=\"df-86f37034-eb0f-4ac8-a043-ea19b8ea10bd\">\n",
              "    <div class=\"colab-df-container\">\n",
              "      <div>\n",
              "<style scoped>\n",
              "    .dataframe tbody tr th:only-of-type {\n",
              "        vertical-align: middle;\n",
              "    }\n",
              "\n",
              "    .dataframe tbody tr th {\n",
              "        vertical-align: top;\n",
              "    }\n",
              "\n",
              "    .dataframe thead th {\n",
              "        text-align: right;\n",
              "    }\n",
              "</style>\n",
              "<table border=\"1\" class=\"dataframe\">\n",
              "  <thead>\n",
              "    <tr style=\"text-align: right;\">\n",
              "      <th></th>\n",
              "      <th>Subject</th>\n",
              "      <th>Type</th>\n",
              "      <th>Cycle</th>\n",
              "      <th>Time</th>\n",
              "      <th>RR-I</th>\n",
              "      <th>HR</th>\n",
              "      <th>R-H</th>\n",
              "      <th>P-H</th>\n",
              "      <th>QRS</th>\n",
              "      <th>PRQ</th>\n",
              "      <th>QT</th>\n",
              "      <th>QTC</th>\n",
              "      <th>ST</th>\n",
              "    </tr>\n",
              "  </thead>\n",
              "  <tbody>\n",
              "    <tr>\n",
              "      <th>0</th>\n",
              "      <td>E1</td>\n",
              "      <td>ischemic</td>\n",
              "      <td>1</td>\n",
              "      <td>1.072</td>\n",
              "      <td>0.932</td>\n",
              "      <td>64.377682</td>\n",
              "      <td>3.305</td>\n",
              "      <td>3.81</td>\n",
              "      <td>0.088</td>\n",
              "      <td>0.16</td>\n",
              "      <td>0.384</td>\n",
              "      <td>0.397762</td>\n",
              "      <td>0.296</td>\n",
              "    </tr>\n",
              "    <tr>\n",
              "      <th>1</th>\n",
              "      <td>E1</td>\n",
              "      <td>ischemic</td>\n",
              "      <td>2</td>\n",
              "      <td>2.004</td>\n",
              "      <td>1.004</td>\n",
              "      <td>59.760956</td>\n",
              "      <td>3.285</td>\n",
              "      <td>3.81</td>\n",
              "      <td>0.1</td>\n",
              "      <td>0.16</td>\n",
              "      <td>0.64</td>\n",
              "      <td>0.638724</td>\n",
              "      <td>0.54</td>\n",
              "    </tr>\n",
              "    <tr>\n",
              "      <th>2</th>\n",
              "      <td>E1</td>\n",
              "      <td>ischemic</td>\n",
              "      <td>3</td>\n",
              "      <td>3.008</td>\n",
              "      <td>0.996</td>\n",
              "      <td>60.240964</td>\n",
              "      <td>3.34</td>\n",
              "      <td>3.83</td>\n",
              "      <td>0.128</td>\n",
              "      <td>0.148</td>\n",
              "      <td>0.628</td>\n",
              "      <td>0.62926</td>\n",
              "      <td>0.5</td>\n",
              "    </tr>\n",
              "    <tr>\n",
              "      <th>3</th>\n",
              "      <td>E1</td>\n",
              "      <td>ischemic</td>\n",
              "      <td>4</td>\n",
              "      <td>4.004</td>\n",
              "      <td>1.016</td>\n",
              "      <td>59.055118</td>\n",
              "      <td>3.325</td>\n",
              "      <td>3.81</td>\n",
              "      <td>0.108</td>\n",
              "      <td>0.172</td>\n",
              "      <td>0.388</td>\n",
              "      <td>0.384933</td>\n",
              "      <td>0.28</td>\n",
              "    </tr>\n",
              "    <tr>\n",
              "      <th>4</th>\n",
              "      <td>E1</td>\n",
              "      <td>ischemic</td>\n",
              "      <td>5</td>\n",
              "      <td>5.02</td>\n",
              "      <td>0.972</td>\n",
              "      <td>61.728395</td>\n",
              "      <td>3.29</td>\n",
              "      <td>3.765</td>\n",
              "      <td>0.1</td>\n",
              "      <td>0.16</td>\n",
              "      <td>0.372</td>\n",
              "      <td>0.37732</td>\n",
              "      <td>0.272</td>\n",
              "    </tr>\n",
              "  </tbody>\n",
              "</table>\n",
              "</div>\n",
              "      <button class=\"colab-df-convert\" onclick=\"convertToInteractive('df-86f37034-eb0f-4ac8-a043-ea19b8ea10bd')\"\n",
              "              title=\"Convert this dataframe to an interactive table.\"\n",
              "              style=\"display:none;\">\n",
              "        \n",
              "  <svg xmlns=\"http://www.w3.org/2000/svg\" height=\"24px\"viewBox=\"0 0 24 24\"\n",
              "       width=\"24px\">\n",
              "    <path d=\"M0 0h24v24H0V0z\" fill=\"none\"/>\n",
              "    <path d=\"M18.56 5.44l.94 2.06.94-2.06 2.06-.94-2.06-.94-.94-2.06-.94 2.06-2.06.94zm-11 1L8.5 8.5l.94-2.06 2.06-.94-2.06-.94L8.5 2.5l-.94 2.06-2.06.94zm10 10l.94 2.06.94-2.06 2.06-.94-2.06-.94-.94-2.06-.94 2.06-2.06.94z\"/><path d=\"M17.41 7.96l-1.37-1.37c-.4-.4-.92-.59-1.43-.59-.52 0-1.04.2-1.43.59L10.3 9.45l-7.72 7.72c-.78.78-.78 2.05 0 2.83L4 21.41c.39.39.9.59 1.41.59.51 0 1.02-.2 1.41-.59l7.78-7.78 2.81-2.81c.8-.78.8-2.07 0-2.86zM5.41 20L4 18.59l7.72-7.72 1.47 1.35L5.41 20z\"/>\n",
              "  </svg>\n",
              "      </button>\n",
              "      \n",
              "  <style>\n",
              "    .colab-df-container {\n",
              "      display:flex;\n",
              "      flex-wrap:wrap;\n",
              "      gap: 12px;\n",
              "    }\n",
              "\n",
              "    .colab-df-convert {\n",
              "      background-color: #E8F0FE;\n",
              "      border: none;\n",
              "      border-radius: 50%;\n",
              "      cursor: pointer;\n",
              "      display: none;\n",
              "      fill: #1967D2;\n",
              "      height: 32px;\n",
              "      padding: 0 0 0 0;\n",
              "      width: 32px;\n",
              "    }\n",
              "\n",
              "    .colab-df-convert:hover {\n",
              "      background-color: #E2EBFA;\n",
              "      box-shadow: 0px 1px 2px rgba(60, 64, 67, 0.3), 0px 1px 3px 1px rgba(60, 64, 67, 0.15);\n",
              "      fill: #174EA6;\n",
              "    }\n",
              "\n",
              "    [theme=dark] .colab-df-convert {\n",
              "      background-color: #3B4455;\n",
              "      fill: #D2E3FC;\n",
              "    }\n",
              "\n",
              "    [theme=dark] .colab-df-convert:hover {\n",
              "      background-color: #434B5C;\n",
              "      box-shadow: 0px 1px 3px 1px rgba(0, 0, 0, 0.15);\n",
              "      filter: drop-shadow(0px 1px 2px rgba(0, 0, 0, 0.3));\n",
              "      fill: #FFFFFF;\n",
              "    }\n",
              "  </style>\n",
              "\n",
              "      <script>\n",
              "        const buttonEl =\n",
              "          document.querySelector('#df-86f37034-eb0f-4ac8-a043-ea19b8ea10bd button.colab-df-convert');\n",
              "        buttonEl.style.display =\n",
              "          google.colab.kernel.accessAllowed ? 'block' : 'none';\n",
              "\n",
              "        async function convertToInteractive(key) {\n",
              "          const element = document.querySelector('#df-86f37034-eb0f-4ac8-a043-ea19b8ea10bd');\n",
              "          const dataTable =\n",
              "            await google.colab.kernel.invokeFunction('convertToInteractive',\n",
              "                                                     [key], {});\n",
              "          if (!dataTable) return;\n",
              "\n",
              "          const docLinkHtml = 'Like what you see? Visit the ' +\n",
              "            '<a target=\"_blank\" href=https://colab.research.google.com/notebooks/data_table.ipynb>data table notebook</a>'\n",
              "            + ' to learn more about interactive tables.';\n",
              "          element.innerHTML = '';\n",
              "          dataTable['output_type'] = 'display_data';\n",
              "          await google.colab.output.renderOutput(dataTable, element);\n",
              "          const docLink = document.createElement('div');\n",
              "          docLink.innerHTML = docLinkHtml;\n",
              "          element.appendChild(docLink);\n",
              "        }\n",
              "      </script>\n",
              "    </div>\n",
              "  </div>\n",
              "  "
            ]
          },
          "metadata": {},
          "execution_count": 6
        }
      ]
    },
    {
      "cell_type": "code",
      "execution_count": null,
      "metadata": {
        "id": "F9jV9MhwZxpe",
        "colab": {
          "base_uri": "https://localhost:8080/"
        },
        "outputId": "dc441f5e-eeff-4205-dcbe-cfc6b972b109"
      },
      "outputs": [
        {
          "output_type": "execute_result",
          "data": {
            "text/plain": [
              "(1048574, 13)"
            ]
          },
          "metadata": {},
          "execution_count": 7
        }
      ],
      "source": [
        "data.shape"
      ]
    },
    {
      "cell_type": "code",
      "source": [
        "data.info()"
      ],
      "metadata": {
        "id": "Al9EqdtZpvhx",
        "outputId": "2076266e-bf40-4cc9-b81d-4b63200cc3a1",
        "colab": {
          "base_uri": "https://localhost:8080/"
        }
      },
      "execution_count": null,
      "outputs": [
        {
          "output_type": "stream",
          "name": "stdout",
          "text": [
            "<class 'pandas.core.frame.DataFrame'>\n",
            "RangeIndex: 1048574 entries, 0 to 1048573\n",
            "Data columns (total 13 columns):\n",
            " #   Column   Non-Null Count    Dtype \n",
            "---  ------   --------------    ----- \n",
            " 0   Subject  1048574 non-null  object\n",
            " 1   Type     1048574 non-null  object\n",
            " 2   Cycle    1048574 non-null  object\n",
            " 3   Time     1048574 non-null  object\n",
            " 4   RR-I     1048574 non-null  object\n",
            " 5   HR       1048574 non-null  object\n",
            " 6   R-H      1048574 non-null  object\n",
            " 7   P-H      1048574 non-null  object\n",
            " 8   QRS      1048574 non-null  object\n",
            " 9   PRQ      1048574 non-null  object\n",
            " 10  QT       1048574 non-null  object\n",
            " 11  QTC      1048574 non-null  object\n",
            " 12  ST       1048574 non-null  object\n",
            "dtypes: object(13)\n",
            "memory usage: 104.0+ MB\n"
          ]
        }
      ]
    },
    {
      "cell_type": "code",
      "source": [
        "features = ['Time', 'RR-I', 'HR', 'R-H', 'P-H', 'QRS', 'PRQ', 'QT', 'QTC', 'ST']\n",
        "\n",
        "for i in features:\n",
        "  data[i] = pd.to_numeric(data[i], errors='coerce')"
      ],
      "metadata": {
        "id": "UHx564oOsEU7"
      },
      "execution_count": 30,
      "outputs": []
    },
    {
      "cell_type": "code",
      "source": [
        "data.describe()"
      ],
      "metadata": {
        "id": "QDM0WJ5oreL5",
        "outputId": "3e018007-5652-495e-c9f9-faf8f32c6a36",
        "colab": {
          "base_uri": "https://localhost:8080/",
          "height": 300
        }
      },
      "execution_count": null,
      "outputs": [
        {
          "output_type": "execute_result",
          "data": {
            "text/plain": [
              "0              Time          RR-I            HR           R-H            P-H  \\\n",
              "count  1.048570e+06  1.048570e+06  1.048570e+06  1.048570e+06  975958.000000   \n",
              "mean   3.466671e+03  8.675903e-01  7.475288e+01  1.254072e+00       0.418706   \n",
              "std    2.107287e+03  2.283222e-01  2.533810e+01  4.193589e+00       3.835203   \n",
              "min    4.080000e-01  0.000000e+00  0.000000e+00 -1.250000e+01     -11.346440   \n",
              "25%    1.569905e+03  7.080000e-01  5.859375e+01 -1.100000e+00      -1.665000   \n",
              "50%    3.417056e+03  8.560000e-01  7.009346e+01  6.103500e-01      -0.075680   \n",
              "75%    5.304838e+03  1.024000e+00  8.474576e+01  1.928710e+00       0.605000   \n",
              "max    7.291732e+03  3.586800e+01  1.875000e+03  1.638000e+01      16.380000   \n",
              "\n",
              "0               QRS            PRQ            QT           QTC             ST  \n",
              "count  1.043601e+06  924386.000000  1.013741e+06  1.013741e+06  991114.000000  \n",
              "mean   9.976558e-02       0.167872  4.160308e-01  4.495847e-01       0.333431  \n",
              "std    3.004013e-02       0.033897  7.149738e-02  6.148705e-02       0.070306  \n",
              "min    2.800000e-02       0.000000  6.000000e-02  3.874000e-02       0.008000  \n",
              "25%    8.000000e-02       0.144444  3.760000e-01  4.118252e-01       0.296000  \n",
              "50%    9.200000e-02       0.164000  4.080000e-01  4.376780e-01       0.332000  \n",
              "75%    1.120000e-01       0.188000  4.440000e-01  4.703798e-01       0.364000  \n",
              "max    1.636000e+00       0.460000  1.708000e+00  1.743220e+00       0.876000  "
            ],
            "text/html": [
              "\n",
              "  <div id=\"df-30314a0b-d4cc-4007-a048-aec471022ff2\">\n",
              "    <div class=\"colab-df-container\">\n",
              "      <div>\n",
              "<style scoped>\n",
              "    .dataframe tbody tr th:only-of-type {\n",
              "        vertical-align: middle;\n",
              "    }\n",
              "\n",
              "    .dataframe tbody tr th {\n",
              "        vertical-align: top;\n",
              "    }\n",
              "\n",
              "    .dataframe thead th {\n",
              "        text-align: right;\n",
              "    }\n",
              "</style>\n",
              "<table border=\"1\" class=\"dataframe\">\n",
              "  <thead>\n",
              "    <tr style=\"text-align: right;\">\n",
              "      <th></th>\n",
              "      <th>Time</th>\n",
              "      <th>RR-I</th>\n",
              "      <th>HR</th>\n",
              "      <th>R-H</th>\n",
              "      <th>P-H</th>\n",
              "      <th>QRS</th>\n",
              "      <th>PRQ</th>\n",
              "      <th>QT</th>\n",
              "      <th>QTC</th>\n",
              "      <th>ST</th>\n",
              "    </tr>\n",
              "  </thead>\n",
              "  <tbody>\n",
              "    <tr>\n",
              "      <th>count</th>\n",
              "      <td>1.048570e+06</td>\n",
              "      <td>1.048570e+06</td>\n",
              "      <td>1.048570e+06</td>\n",
              "      <td>1.048570e+06</td>\n",
              "      <td>975958.000000</td>\n",
              "      <td>1.043601e+06</td>\n",
              "      <td>924386.000000</td>\n",
              "      <td>1.013741e+06</td>\n",
              "      <td>1.013741e+06</td>\n",
              "      <td>991114.000000</td>\n",
              "    </tr>\n",
              "    <tr>\n",
              "      <th>mean</th>\n",
              "      <td>3.466671e+03</td>\n",
              "      <td>8.675903e-01</td>\n",
              "      <td>7.475288e+01</td>\n",
              "      <td>1.254072e+00</td>\n",
              "      <td>0.418706</td>\n",
              "      <td>9.976558e-02</td>\n",
              "      <td>0.167872</td>\n",
              "      <td>4.160308e-01</td>\n",
              "      <td>4.495847e-01</td>\n",
              "      <td>0.333431</td>\n",
              "    </tr>\n",
              "    <tr>\n",
              "      <th>std</th>\n",
              "      <td>2.107287e+03</td>\n",
              "      <td>2.283222e-01</td>\n",
              "      <td>2.533810e+01</td>\n",
              "      <td>4.193589e+00</td>\n",
              "      <td>3.835203</td>\n",
              "      <td>3.004013e-02</td>\n",
              "      <td>0.033897</td>\n",
              "      <td>7.149738e-02</td>\n",
              "      <td>6.148705e-02</td>\n",
              "      <td>0.070306</td>\n",
              "    </tr>\n",
              "    <tr>\n",
              "      <th>min</th>\n",
              "      <td>4.080000e-01</td>\n",
              "      <td>0.000000e+00</td>\n",
              "      <td>0.000000e+00</td>\n",
              "      <td>-1.250000e+01</td>\n",
              "      <td>-11.346440</td>\n",
              "      <td>2.800000e-02</td>\n",
              "      <td>0.000000</td>\n",
              "      <td>6.000000e-02</td>\n",
              "      <td>3.874000e-02</td>\n",
              "      <td>0.008000</td>\n",
              "    </tr>\n",
              "    <tr>\n",
              "      <th>25%</th>\n",
              "      <td>1.569905e+03</td>\n",
              "      <td>7.080000e-01</td>\n",
              "      <td>5.859375e+01</td>\n",
              "      <td>-1.100000e+00</td>\n",
              "      <td>-1.665000</td>\n",
              "      <td>8.000000e-02</td>\n",
              "      <td>0.144444</td>\n",
              "      <td>3.760000e-01</td>\n",
              "      <td>4.118252e-01</td>\n",
              "      <td>0.296000</td>\n",
              "    </tr>\n",
              "    <tr>\n",
              "      <th>50%</th>\n",
              "      <td>3.417056e+03</td>\n",
              "      <td>8.560000e-01</td>\n",
              "      <td>7.009346e+01</td>\n",
              "      <td>6.103500e-01</td>\n",
              "      <td>-0.075680</td>\n",
              "      <td>9.200000e-02</td>\n",
              "      <td>0.164000</td>\n",
              "      <td>4.080000e-01</td>\n",
              "      <td>4.376780e-01</td>\n",
              "      <td>0.332000</td>\n",
              "    </tr>\n",
              "    <tr>\n",
              "      <th>75%</th>\n",
              "      <td>5.304838e+03</td>\n",
              "      <td>1.024000e+00</td>\n",
              "      <td>8.474576e+01</td>\n",
              "      <td>1.928710e+00</td>\n",
              "      <td>0.605000</td>\n",
              "      <td>1.120000e-01</td>\n",
              "      <td>0.188000</td>\n",
              "      <td>4.440000e-01</td>\n",
              "      <td>4.703798e-01</td>\n",
              "      <td>0.364000</td>\n",
              "    </tr>\n",
              "    <tr>\n",
              "      <th>max</th>\n",
              "      <td>7.291732e+03</td>\n",
              "      <td>3.586800e+01</td>\n",
              "      <td>1.875000e+03</td>\n",
              "      <td>1.638000e+01</td>\n",
              "      <td>16.380000</td>\n",
              "      <td>1.636000e+00</td>\n",
              "      <td>0.460000</td>\n",
              "      <td>1.708000e+00</td>\n",
              "      <td>1.743220e+00</td>\n",
              "      <td>0.876000</td>\n",
              "    </tr>\n",
              "  </tbody>\n",
              "</table>\n",
              "</div>\n",
              "      <button class=\"colab-df-convert\" onclick=\"convertToInteractive('df-30314a0b-d4cc-4007-a048-aec471022ff2')\"\n",
              "              title=\"Convert this dataframe to an interactive table.\"\n",
              "              style=\"display:none;\">\n",
              "        \n",
              "  <svg xmlns=\"http://www.w3.org/2000/svg\" height=\"24px\"viewBox=\"0 0 24 24\"\n",
              "       width=\"24px\">\n",
              "    <path d=\"M0 0h24v24H0V0z\" fill=\"none\"/>\n",
              "    <path d=\"M18.56 5.44l.94 2.06.94-2.06 2.06-.94-2.06-.94-.94-2.06-.94 2.06-2.06.94zm-11 1L8.5 8.5l.94-2.06 2.06-.94-2.06-.94L8.5 2.5l-.94 2.06-2.06.94zm10 10l.94 2.06.94-2.06 2.06-.94-2.06-.94-.94-2.06-.94 2.06-2.06.94z\"/><path d=\"M17.41 7.96l-1.37-1.37c-.4-.4-.92-.59-1.43-.59-.52 0-1.04.2-1.43.59L10.3 9.45l-7.72 7.72c-.78.78-.78 2.05 0 2.83L4 21.41c.39.39.9.59 1.41.59.51 0 1.02-.2 1.41-.59l7.78-7.78 2.81-2.81c.8-.78.8-2.07 0-2.86zM5.41 20L4 18.59l7.72-7.72 1.47 1.35L5.41 20z\"/>\n",
              "  </svg>\n",
              "      </button>\n",
              "      \n",
              "  <style>\n",
              "    .colab-df-container {\n",
              "      display:flex;\n",
              "      flex-wrap:wrap;\n",
              "      gap: 12px;\n",
              "    }\n",
              "\n",
              "    .colab-df-convert {\n",
              "      background-color: #E8F0FE;\n",
              "      border: none;\n",
              "      border-radius: 50%;\n",
              "      cursor: pointer;\n",
              "      display: none;\n",
              "      fill: #1967D2;\n",
              "      height: 32px;\n",
              "      padding: 0 0 0 0;\n",
              "      width: 32px;\n",
              "    }\n",
              "\n",
              "    .colab-df-convert:hover {\n",
              "      background-color: #E2EBFA;\n",
              "      box-shadow: 0px 1px 2px rgba(60, 64, 67, 0.3), 0px 1px 3px 1px rgba(60, 64, 67, 0.15);\n",
              "      fill: #174EA6;\n",
              "    }\n",
              "\n",
              "    [theme=dark] .colab-df-convert {\n",
              "      background-color: #3B4455;\n",
              "      fill: #D2E3FC;\n",
              "    }\n",
              "\n",
              "    [theme=dark] .colab-df-convert:hover {\n",
              "      background-color: #434B5C;\n",
              "      box-shadow: 0px 1px 3px 1px rgba(0, 0, 0, 0.15);\n",
              "      filter: drop-shadow(0px 1px 2px rgba(0, 0, 0, 0.3));\n",
              "      fill: #FFFFFF;\n",
              "    }\n",
              "  </style>\n",
              "\n",
              "      <script>\n",
              "        const buttonEl =\n",
              "          document.querySelector('#df-30314a0b-d4cc-4007-a048-aec471022ff2 button.colab-df-convert');\n",
              "        buttonEl.style.display =\n",
              "          google.colab.kernel.accessAllowed ? 'block' : 'none';\n",
              "\n",
              "        async function convertToInteractive(key) {\n",
              "          const element = document.querySelector('#df-30314a0b-d4cc-4007-a048-aec471022ff2');\n",
              "          const dataTable =\n",
              "            await google.colab.kernel.invokeFunction('convertToInteractive',\n",
              "                                                     [key], {});\n",
              "          if (!dataTable) return;\n",
              "\n",
              "          const docLinkHtml = 'Like what you see? Visit the ' +\n",
              "            '<a target=\"_blank\" href=https://colab.research.google.com/notebooks/data_table.ipynb>data table notebook</a>'\n",
              "            + ' to learn more about interactive tables.';\n",
              "          element.innerHTML = '';\n",
              "          dataTable['output_type'] = 'display_data';\n",
              "          await google.colab.output.renderOutput(dataTable, element);\n",
              "          const docLink = document.createElement('div');\n",
              "          docLink.innerHTML = docLinkHtml;\n",
              "          element.appendChild(docLink);\n",
              "        }\n",
              "      </script>\n",
              "    </div>\n",
              "  </div>\n",
              "  "
            ]
          },
          "metadata": {},
          "execution_count": 10
        }
      ]
    },
    {
      "cell_type": "code",
      "source": [
        "data.isnull().sum()"
      ],
      "metadata": {
        "id": "DHt6M654rdu6",
        "outputId": "54c5a1f8-d665-498f-b53b-475d27d47dd9",
        "colab": {
          "base_uri": "https://localhost:8080/"
        }
      },
      "execution_count": null,
      "outputs": [
        {
          "output_type": "execute_result",
          "data": {
            "text/plain": [
              "0\n",
              "Subject         0\n",
              "Type            0\n",
              "Cycle           0\n",
              "Time            4\n",
              "RR-I            4\n",
              "HR              4\n",
              "R-H             4\n",
              "P-H         72616\n",
              "QRS          4973\n",
              "PRQ        124188\n",
              "QT          34833\n",
              "QTC         34833\n",
              "ST          57460\n",
              "dtype: int64"
            ]
          },
          "metadata": {},
          "execution_count": 11
        }
      ]
    },
    {
      "cell_type": "code",
      "source": [
        "data_2 = data.fillna({'RR-I':data['RR-I'].mean(),\n",
        "                           'HR' :data['HR'].mean(),\n",
        "                           'R-H':data['R-H'].mean(),\n",
        "                           'P-H':data['P-H'].mean(),\n",
        "                           'QRS':data['QRS'].mean(),\n",
        "                           'PRQ':data['PRQ'].mean(),\n",
        "                           'QT' :data['QT'].mean(),\n",
        "                           'QTC':data['QTC'].mean(),\n",
        "                           'ST':data['ST'].mean()\n",
        "                           }\n",
        "                     )\n",
        "\n",
        "print(\"Total number of row: \",data_2.isnull().sum().sum())\n",
        "print(\"Total number of columns: \",data_2.isna().any().sum())"
      ],
      "metadata": {
        "id": "UZnlXjW_rdpi",
        "outputId": "b7a791fe-89fb-4dcb-cede-a38b2baf1cfb",
        "colab": {
          "base_uri": "https://localhost:8080/"
        }
      },
      "execution_count": 37,
      "outputs": [
        {
          "output_type": "stream",
          "name": "stdout",
          "text": [
            "Total number of row:  4\n",
            "Total number of columns:  1\n"
          ]
        }
      ]
    },
    {
      "cell_type": "code",
      "execution_count": 38,
      "metadata": {
        "id": "sJ0A1jcRZGj3"
      },
      "outputs": [],
      "source": [
        "X= data_2.loc[:,data_2.columns != target]\n",
        "y = data_2[target]"
      ]
    },
    {
      "cell_type": "code",
      "execution_count": null,
      "metadata": {
        "colab": {
          "base_uri": "https://localhost:8080/"
        },
        "id": "pp2T7tHy52RY",
        "outputId": "04db48d6-1b4f-4a5b-c229-959e91efd267"
      },
      "outputs": [
        {
          "output_type": "execute_result",
          "data": {
            "text/plain": [
              "ischemic      705983\n",
              "healthy       284849\n",
              "arrhythmic     57742\n",
              "Name: Type, dtype: int64"
            ]
          },
          "metadata": {},
          "execution_count": 15
        }
      ],
      "source": [
        "y.value_counts()"
      ]
    },
    {
      "cell_type": "code",
      "execution_count": null,
      "metadata": {
        "id": "ntfY_FwPwUvB"
      },
      "outputs": [],
      "source": []
    },
    {
      "cell_type": "code",
      "source": [],
      "metadata": {
        "id": "_OGJn1koptJE"
      },
      "execution_count": null,
      "outputs": []
    },
    {
      "cell_type": "code",
      "execution_count": 39,
      "metadata": {
        "id": "UGDUc9EbgWz1",
        "outputId": "df319804-bc9f-415d-aae2-bfdb5e46cbdf",
        "colab": {
          "base_uri": "https://localhost:8080/",
          "height": 67,
          "referenced_widgets": [
            "35c9851795934c91aac074be49d52e34",
            "9516d1366a1f43cdb8bda569c4318e34",
            "185b45f078154084a77955a7bdeca58f",
            "c0bd92dffdb0400badacf510312817cc",
            "d6035731a02640eea844087e6006dd9f",
            "f5b66fdb4ea24d06bfbe77f1e05c0e7f",
            "8122f561d6c74a908daa0a10a8818876",
            "29b343bcf6f84a95840500a09d438c3e",
            "44590c82d4824c3880d663bc81aecdf6",
            "8efde1a87f2940c090e0524d591cc3a8",
            "b62e16479b604189b86e0b8db72f564f"
          ]
        }
      },
      "outputs": [
        {
          "output_type": "display_data",
          "data": {
            "text/plain": [
              "  0%|          | 0/3 [00:00<?, ?it/s]"
            ],
            "application/vnd.jupyter.widget-view+json": {
              "version_major": 2,
              "version_minor": 0,
              "model_id": "35c9851795934c91aac074be49d52e34"
            }
          },
          "metadata": {}
        },
        {
          "output_type": "stream",
          "name": "stdout",
          "text": [
            "Train Percentage: 0.8011709235590431\n"
          ]
        }
      ],
      "source": [
        " X_train, X_test, y_train, y_test = fun_split(X,y, test_size=0.2, feature= 'Subject')"
      ]
    },
    {
      "cell_type": "code",
      "source": [
        "\"\"\"#testing if there is any mixing with training subject and testing subject\n",
        "from tqdm.notebook import tqdm\n",
        "train = list(X_train[\"Subject\"])\n",
        "test = list(X_test[\"Subject\"])\n",
        "\n",
        "dup = []\n",
        "\n",
        "for i in tqdm(test):\n",
        "  if i in train:\n",
        "    dup.append(i)\n",
        "print(dup)\"\"\""
      ],
      "metadata": {
        "id": "4KhmZN1XXZQP",
        "outputId": "593e04bc-39ec-4b76-8fe4-d8216f51718a",
        "colab": {
          "base_uri": "https://localhost:8080/",
          "height": 55
        }
      },
      "execution_count": null,
      "outputs": [
        {
          "output_type": "execute_result",
          "data": {
            "text/plain": [
              "'#testing if there is any mixing with training subject and testing subject\\nfrom tqdm.notebook import tqdm\\ntrain = list(X_train[\"Subject\"])\\ntest = list(X_test[\"Subject\"])\\n\\ndup = []\\n\\nfor i in tqdm(test):\\n  if i in train:\\n    dup.append(i)\\nprint(dup)'"
            ],
            "application/vnd.google.colaboratory.intrinsic+json": {
              "type": "string"
            }
          },
          "metadata": {},
          "execution_count": 10
        }
      ]
    },
    {
      "cell_type": "code",
      "execution_count": 40,
      "metadata": {
        "id": "G4TP6fPUgWz3"
      },
      "outputs": [],
      "source": [
        "X_train= X_train.loc[:,X_train.columns != 'Subject']\n",
        "X_train= X_train.loc[:,X_train.columns != 'Time']\n",
        "X_train= X_train.loc[:,X_train.columns != 'Cycle']\n",
        "\n",
        "X_test= X_test.loc[:,X_test.columns != 'Subject']\n",
        "X_test= X_test.loc[:,X_test.columns != 'Time']\n",
        "X_test= X_test.loc[:,X_test.columns != 'Cycle']"
      ]
    },
    {
      "cell_type": "code",
      "execution_count": null,
      "metadata": {
        "id": "EWEEftJ4gWz3",
        "outputId": "86334be1-9720-44b8-f5ef-53383efc1efc",
        "colab": {
          "base_uri": "https://localhost:8080/"
        }
      },
      "outputs": [
        {
          "output_type": "execute_result",
          "data": {
            "text/plain": [
              "ischemic      563596\n",
              "healthy       230515\n",
              "arrhythmic     45976\n",
              "Name: Type, dtype: int64"
            ]
          },
          "metadata": {},
          "execution_count": 18
        }
      ],
      "source": [
        "y_train.value_counts()"
      ]
    },
    {
      "cell_type": "code",
      "source": [
        "!pip install imbalanced-learn\n",
        "from imblearn.over_sampling import SMOTE\n",
        "\n",
        "smote = SMOTE()\n",
        "\n",
        "X_train, y_train= smote.fit_resample(X_train, y_train)"
      ],
      "metadata": {
        "colab": {
          "base_uri": "https://localhost:8080/"
        },
        "id": "RRFgJKRQnn61",
        "outputId": "52e28122-b0e0-43d7-d1e4-c5a1b8983ed8"
      },
      "execution_count": null,
      "outputs": [
        {
          "output_type": "stream",
          "name": "stdout",
          "text": [
            "Looking in indexes: https://pypi.org/simple, https://us-python.pkg.dev/colab-wheels/public/simple/\n",
            "Requirement already satisfied: imbalanced-learn in /usr/local/lib/python3.10/dist-packages (0.10.1)\n",
            "Requirement already satisfied: scipy>=1.3.2 in /usr/local/lib/python3.10/dist-packages (from imbalanced-learn) (1.10.1)\n",
            "Requirement already satisfied: numpy>=1.17.3 in /usr/local/lib/python3.10/dist-packages (from imbalanced-learn) (1.22.4)\n",
            "Requirement already satisfied: scikit-learn>=1.0.2 in /usr/local/lib/python3.10/dist-packages (from imbalanced-learn) (1.2.2)\n",
            "Requirement already satisfied: threadpoolctl>=2.0.0 in /usr/local/lib/python3.10/dist-packages (from imbalanced-learn) (3.1.0)\n",
            "Requirement already satisfied: joblib>=1.1.1 in /usr/local/lib/python3.10/dist-packages (from imbalanced-learn) (1.2.0)\n"
          ]
        }
      ]
    },
    {
      "cell_type": "code",
      "source": [
        "y_train.value_counts()"
      ],
      "metadata": {
        "colab": {
          "base_uri": "https://localhost:8080/"
        },
        "id": "nRsF3cXpnps_",
        "outputId": "15b63978-ae50-4f82-dfb9-74cab0699d19"
      },
      "execution_count": null,
      "outputs": [
        {
          "output_type": "execute_result",
          "data": {
            "text/plain": [
              "ischemic      464402\n",
              "healthy       464402\n",
              "arrhythmic    464402\n",
              "Name: Type, dtype: int64"
            ]
          },
          "metadata": {},
          "execution_count": 14
        }
      ]
    },
    {
      "cell_type": "code",
      "execution_count": null,
      "metadata": {
        "id": "Q9DC74tWgWz4",
        "outputId": "bf21f0c0-fd22-4c9f-94a0-99720bac8350",
        "colab": {
          "base_uri": "https://localhost:8080/",
          "height": 423
        }
      },
      "outputs": [
        {
          "output_type": "execute_result",
          "data": {
            "text/plain": [
              "          RR-I         HR        R-H       P-H       QRS       PRQ        QT  \\\n",
              "0        0.932  64.377682   3.305000  3.810000  0.088000  0.160000  0.384000   \n",
              "1        1.004  59.760956   3.285000  3.810000  0.100000  0.160000  0.640000   \n",
              "2        0.996  60.240964   3.340000  3.830000  0.128000  0.148000  0.628000   \n",
              "3        1.016  59.055118   3.325000  3.810000  0.108000  0.172000  0.388000   \n",
              "4        0.972  61.728395   3.290000  3.765000  0.100000  0.160000  0.372000   \n",
              "...        ...        ...        ...       ...       ...       ...       ...   \n",
              "1393200  1.044  57.471260   0.546880  0.016341  0.084000  0.134772  0.458772   \n",
              "1393201  1.140  52.631580  10.105774  8.086968  0.088451  0.199097  0.412161   \n",
              "1393202  0.900  66.666670   0.683092 -0.031241  0.095796  0.135796  0.407796   \n",
              "1393203  0.996  60.240960   0.765248  0.091418  0.096000  0.164431  0.444461   \n",
              "1393204  0.768  78.125000  10.385056  8.036416  0.081472  0.144000  0.392639   \n",
              "\n",
              "              QTC        ST  \n",
              "0        0.397762  0.296000  \n",
              "1        0.638724  0.540000  \n",
              "2        0.629260  0.500000  \n",
              "3        0.384933  0.280000  \n",
              "4        0.377320  0.272000  \n",
              "...           ...       ...  \n",
              "1393200  0.449000  0.398772  \n",
              "1393201  0.386023  0.346677  \n",
              "1393202  0.429855  0.347796  \n",
              "1393203  0.445350  0.376461  \n",
              "1393204  0.448038  0.330111  \n",
              "\n",
              "[1393205 rows x 9 columns]"
            ],
            "text/html": [
              "\n",
              "  <div id=\"df-9357e976-1481-4d88-acef-aede0e83eff8\">\n",
              "    <div class=\"colab-df-container\">\n",
              "      <div>\n",
              "<style scoped>\n",
              "    .dataframe tbody tr th:only-of-type {\n",
              "        vertical-align: middle;\n",
              "    }\n",
              "\n",
              "    .dataframe tbody tr th {\n",
              "        vertical-align: top;\n",
              "    }\n",
              "\n",
              "    .dataframe thead th {\n",
              "        text-align: right;\n",
              "    }\n",
              "</style>\n",
              "<table border=\"1\" class=\"dataframe\">\n",
              "  <thead>\n",
              "    <tr style=\"text-align: right;\">\n",
              "      <th></th>\n",
              "      <th>RR-I</th>\n",
              "      <th>HR</th>\n",
              "      <th>R-H</th>\n",
              "      <th>P-H</th>\n",
              "      <th>QRS</th>\n",
              "      <th>PRQ</th>\n",
              "      <th>QT</th>\n",
              "      <th>QTC</th>\n",
              "      <th>ST</th>\n",
              "    </tr>\n",
              "  </thead>\n",
              "  <tbody>\n",
              "    <tr>\n",
              "      <th>0</th>\n",
              "      <td>0.932</td>\n",
              "      <td>64.377682</td>\n",
              "      <td>3.305000</td>\n",
              "      <td>3.810000</td>\n",
              "      <td>0.088000</td>\n",
              "      <td>0.160000</td>\n",
              "      <td>0.384000</td>\n",
              "      <td>0.397762</td>\n",
              "      <td>0.296000</td>\n",
              "    </tr>\n",
              "    <tr>\n",
              "      <th>1</th>\n",
              "      <td>1.004</td>\n",
              "      <td>59.760956</td>\n",
              "      <td>3.285000</td>\n",
              "      <td>3.810000</td>\n",
              "      <td>0.100000</td>\n",
              "      <td>0.160000</td>\n",
              "      <td>0.640000</td>\n",
              "      <td>0.638724</td>\n",
              "      <td>0.540000</td>\n",
              "    </tr>\n",
              "    <tr>\n",
              "      <th>2</th>\n",
              "      <td>0.996</td>\n",
              "      <td>60.240964</td>\n",
              "      <td>3.340000</td>\n",
              "      <td>3.830000</td>\n",
              "      <td>0.128000</td>\n",
              "      <td>0.148000</td>\n",
              "      <td>0.628000</td>\n",
              "      <td>0.629260</td>\n",
              "      <td>0.500000</td>\n",
              "    </tr>\n",
              "    <tr>\n",
              "      <th>3</th>\n",
              "      <td>1.016</td>\n",
              "      <td>59.055118</td>\n",
              "      <td>3.325000</td>\n",
              "      <td>3.810000</td>\n",
              "      <td>0.108000</td>\n",
              "      <td>0.172000</td>\n",
              "      <td>0.388000</td>\n",
              "      <td>0.384933</td>\n",
              "      <td>0.280000</td>\n",
              "    </tr>\n",
              "    <tr>\n",
              "      <th>4</th>\n",
              "      <td>0.972</td>\n",
              "      <td>61.728395</td>\n",
              "      <td>3.290000</td>\n",
              "      <td>3.765000</td>\n",
              "      <td>0.100000</td>\n",
              "      <td>0.160000</td>\n",
              "      <td>0.372000</td>\n",
              "      <td>0.377320</td>\n",
              "      <td>0.272000</td>\n",
              "    </tr>\n",
              "    <tr>\n",
              "      <th>...</th>\n",
              "      <td>...</td>\n",
              "      <td>...</td>\n",
              "      <td>...</td>\n",
              "      <td>...</td>\n",
              "      <td>...</td>\n",
              "      <td>...</td>\n",
              "      <td>...</td>\n",
              "      <td>...</td>\n",
              "      <td>...</td>\n",
              "    </tr>\n",
              "    <tr>\n",
              "      <th>1393200</th>\n",
              "      <td>1.044</td>\n",
              "      <td>57.471260</td>\n",
              "      <td>0.546880</td>\n",
              "      <td>0.016341</td>\n",
              "      <td>0.084000</td>\n",
              "      <td>0.134772</td>\n",
              "      <td>0.458772</td>\n",
              "      <td>0.449000</td>\n",
              "      <td>0.398772</td>\n",
              "    </tr>\n",
              "    <tr>\n",
              "      <th>1393201</th>\n",
              "      <td>1.140</td>\n",
              "      <td>52.631580</td>\n",
              "      <td>10.105774</td>\n",
              "      <td>8.086968</td>\n",
              "      <td>0.088451</td>\n",
              "      <td>0.199097</td>\n",
              "      <td>0.412161</td>\n",
              "      <td>0.386023</td>\n",
              "      <td>0.346677</td>\n",
              "    </tr>\n",
              "    <tr>\n",
              "      <th>1393202</th>\n",
              "      <td>0.900</td>\n",
              "      <td>66.666670</td>\n",
              "      <td>0.683092</td>\n",
              "      <td>-0.031241</td>\n",
              "      <td>0.095796</td>\n",
              "      <td>0.135796</td>\n",
              "      <td>0.407796</td>\n",
              "      <td>0.429855</td>\n",
              "      <td>0.347796</td>\n",
              "    </tr>\n",
              "    <tr>\n",
              "      <th>1393203</th>\n",
              "      <td>0.996</td>\n",
              "      <td>60.240960</td>\n",
              "      <td>0.765248</td>\n",
              "      <td>0.091418</td>\n",
              "      <td>0.096000</td>\n",
              "      <td>0.164431</td>\n",
              "      <td>0.444461</td>\n",
              "      <td>0.445350</td>\n",
              "      <td>0.376461</td>\n",
              "    </tr>\n",
              "    <tr>\n",
              "      <th>1393204</th>\n",
              "      <td>0.768</td>\n",
              "      <td>78.125000</td>\n",
              "      <td>10.385056</td>\n",
              "      <td>8.036416</td>\n",
              "      <td>0.081472</td>\n",
              "      <td>0.144000</td>\n",
              "      <td>0.392639</td>\n",
              "      <td>0.448038</td>\n",
              "      <td>0.330111</td>\n",
              "    </tr>\n",
              "  </tbody>\n",
              "</table>\n",
              "<p>1393205 rows × 9 columns</p>\n",
              "</div>\n",
              "      <button class=\"colab-df-convert\" onclick=\"convertToInteractive('df-9357e976-1481-4d88-acef-aede0e83eff8')\"\n",
              "              title=\"Convert this dataframe to an interactive table.\"\n",
              "              style=\"display:none;\">\n",
              "        \n",
              "  <svg xmlns=\"http://www.w3.org/2000/svg\" height=\"24px\"viewBox=\"0 0 24 24\"\n",
              "       width=\"24px\">\n",
              "    <path d=\"M0 0h24v24H0V0z\" fill=\"none\"/>\n",
              "    <path d=\"M18.56 5.44l.94 2.06.94-2.06 2.06-.94-2.06-.94-.94-2.06-.94 2.06-2.06.94zm-11 1L8.5 8.5l.94-2.06 2.06-.94-2.06-.94L8.5 2.5l-.94 2.06-2.06.94zm10 10l.94 2.06.94-2.06 2.06-.94-2.06-.94-.94-2.06-.94 2.06-2.06.94z\"/><path d=\"M17.41 7.96l-1.37-1.37c-.4-.4-.92-.59-1.43-.59-.52 0-1.04.2-1.43.59L10.3 9.45l-7.72 7.72c-.78.78-.78 2.05 0 2.83L4 21.41c.39.39.9.59 1.41.59.51 0 1.02-.2 1.41-.59l7.78-7.78 2.81-2.81c.8-.78.8-2.07 0-2.86zM5.41 20L4 18.59l7.72-7.72 1.47 1.35L5.41 20z\"/>\n",
              "  </svg>\n",
              "      </button>\n",
              "      \n",
              "  <style>\n",
              "    .colab-df-container {\n",
              "      display:flex;\n",
              "      flex-wrap:wrap;\n",
              "      gap: 12px;\n",
              "    }\n",
              "\n",
              "    .colab-df-convert {\n",
              "      background-color: #E8F0FE;\n",
              "      border: none;\n",
              "      border-radius: 50%;\n",
              "      cursor: pointer;\n",
              "      display: none;\n",
              "      fill: #1967D2;\n",
              "      height: 32px;\n",
              "      padding: 0 0 0 0;\n",
              "      width: 32px;\n",
              "    }\n",
              "\n",
              "    .colab-df-convert:hover {\n",
              "      background-color: #E2EBFA;\n",
              "      box-shadow: 0px 1px 2px rgba(60, 64, 67, 0.3), 0px 1px 3px 1px rgba(60, 64, 67, 0.15);\n",
              "      fill: #174EA6;\n",
              "    }\n",
              "\n",
              "    [theme=dark] .colab-df-convert {\n",
              "      background-color: #3B4455;\n",
              "      fill: #D2E3FC;\n",
              "    }\n",
              "\n",
              "    [theme=dark] .colab-df-convert:hover {\n",
              "      background-color: #434B5C;\n",
              "      box-shadow: 0px 1px 3px 1px rgba(0, 0, 0, 0.15);\n",
              "      filter: drop-shadow(0px 1px 2px rgba(0, 0, 0, 0.3));\n",
              "      fill: #FFFFFF;\n",
              "    }\n",
              "  </style>\n",
              "\n",
              "      <script>\n",
              "        const buttonEl =\n",
              "          document.querySelector('#df-9357e976-1481-4d88-acef-aede0e83eff8 button.colab-df-convert');\n",
              "        buttonEl.style.display =\n",
              "          google.colab.kernel.accessAllowed ? 'block' : 'none';\n",
              "\n",
              "        async function convertToInteractive(key) {\n",
              "          const element = document.querySelector('#df-9357e976-1481-4d88-acef-aede0e83eff8');\n",
              "          const dataTable =\n",
              "            await google.colab.kernel.invokeFunction('convertToInteractive',\n",
              "                                                     [key], {});\n",
              "          if (!dataTable) return;\n",
              "\n",
              "          const docLinkHtml = 'Like what you see? Visit the ' +\n",
              "            '<a target=\"_blank\" href=https://colab.research.google.com/notebooks/data_table.ipynb>data table notebook</a>'\n",
              "            + ' to learn more about interactive tables.';\n",
              "          element.innerHTML = '';\n",
              "          dataTable['output_type'] = 'display_data';\n",
              "          await google.colab.output.renderOutput(dataTable, element);\n",
              "          const docLink = document.createElement('div');\n",
              "          docLink.innerHTML = docLinkHtml;\n",
              "          element.appendChild(docLink);\n",
              "        }\n",
              "      </script>\n",
              "    </div>\n",
              "  </div>\n",
              "  "
            ]
          },
          "metadata": {},
          "execution_count": 15
        }
      ],
      "source": [
        "X_train.head(-1)"
      ]
    },
    {
      "cell_type": "code",
      "execution_count": null,
      "metadata": {
        "id": "b9_EWx6egWz4",
        "outputId": "bee65ff5-c7d4-4898-ddf0-51e805c2b0aa",
        "colab": {
          "base_uri": "https://localhost:8080/",
          "height": 423
        }
      },
      "outputs": [
        {
          "output_type": "execute_result",
          "data": {
            "text/plain": [
              "            RR-I         HR    R-H    P-H       QRS       PRQ        QT  \\\n",
              "0       0.856000  70.093458  2.275 -0.435  0.140000  0.132000  0.412000   \n",
              "1       0.796000  75.376884  1.905 -0.590  0.132000  0.128000  0.380000   \n",
              "2       0.916000  65.502183  1.860 -0.425  0.132000  0.128000  0.392000   \n",
              "3       1.388000  43.227666  0.955 -0.480  0.144000  0.132000  0.400000   \n",
              "4       0.680000  88.235294  2.200 -0.435  0.136000  0.128000  0.372000   \n",
              "...          ...        ...    ...    ...       ...       ...       ...   \n",
              "177504  0.638889  93.913043  0.680 -0.315  0.063889  0.158333  0.402778   \n",
              "177505  0.652778  91.914894  0.660 -0.335  0.066667  0.163889  0.411111   \n",
              "177506  0.675000  88.888889  0.605 -0.345  0.066667  0.172222  0.413889   \n",
              "177507  0.647222  92.703863  0.795 -0.335  0.055556  0.161111  0.397222   \n",
              "177508  0.647222  92.703863  0.825 -0.330  0.069444  0.152778  0.400000   \n",
              "\n",
              "             QTC        ST  \n",
              "0       0.445308  0.292000  \n",
              "1       0.425919  0.272000  \n",
              "2       0.409580  0.284000  \n",
              "3       0.339520  0.304000  \n",
              "4       0.451116  0.260000  \n",
              "...          ...       ...  \n",
              "177504  0.503910  0.350000  \n",
              "177505  0.508834  0.355556  \n",
              "177506  0.503770  0.358333  \n",
              "177507  0.493750  0.341667  \n",
              "177508  0.497202  0.344444  \n",
              "\n",
              "[177509 rows x 9 columns]"
            ],
            "text/html": [
              "\n",
              "  <div id=\"df-fdc318db-38fe-4de7-a997-f620099f8ada\">\n",
              "    <div class=\"colab-df-container\">\n",
              "      <div>\n",
              "<style scoped>\n",
              "    .dataframe tbody tr th:only-of-type {\n",
              "        vertical-align: middle;\n",
              "    }\n",
              "\n",
              "    .dataframe tbody tr th {\n",
              "        vertical-align: top;\n",
              "    }\n",
              "\n",
              "    .dataframe thead th {\n",
              "        text-align: right;\n",
              "    }\n",
              "</style>\n",
              "<table border=\"1\" class=\"dataframe\">\n",
              "  <thead>\n",
              "    <tr style=\"text-align: right;\">\n",
              "      <th></th>\n",
              "      <th>RR-I</th>\n",
              "      <th>HR</th>\n",
              "      <th>R-H</th>\n",
              "      <th>P-H</th>\n",
              "      <th>QRS</th>\n",
              "      <th>PRQ</th>\n",
              "      <th>QT</th>\n",
              "      <th>QTC</th>\n",
              "      <th>ST</th>\n",
              "    </tr>\n",
              "  </thead>\n",
              "  <tbody>\n",
              "    <tr>\n",
              "      <th>0</th>\n",
              "      <td>0.856000</td>\n",
              "      <td>70.093458</td>\n",
              "      <td>2.275</td>\n",
              "      <td>-0.435</td>\n",
              "      <td>0.140000</td>\n",
              "      <td>0.132000</td>\n",
              "      <td>0.412000</td>\n",
              "      <td>0.445308</td>\n",
              "      <td>0.292000</td>\n",
              "    </tr>\n",
              "    <tr>\n",
              "      <th>1</th>\n",
              "      <td>0.796000</td>\n",
              "      <td>75.376884</td>\n",
              "      <td>1.905</td>\n",
              "      <td>-0.590</td>\n",
              "      <td>0.132000</td>\n",
              "      <td>0.128000</td>\n",
              "      <td>0.380000</td>\n",
              "      <td>0.425919</td>\n",
              "      <td>0.272000</td>\n",
              "    </tr>\n",
              "    <tr>\n",
              "      <th>2</th>\n",
              "      <td>0.916000</td>\n",
              "      <td>65.502183</td>\n",
              "      <td>1.860</td>\n",
              "      <td>-0.425</td>\n",
              "      <td>0.132000</td>\n",
              "      <td>0.128000</td>\n",
              "      <td>0.392000</td>\n",
              "      <td>0.409580</td>\n",
              "      <td>0.284000</td>\n",
              "    </tr>\n",
              "    <tr>\n",
              "      <th>3</th>\n",
              "      <td>1.388000</td>\n",
              "      <td>43.227666</td>\n",
              "      <td>0.955</td>\n",
              "      <td>-0.480</td>\n",
              "      <td>0.144000</td>\n",
              "      <td>0.132000</td>\n",
              "      <td>0.400000</td>\n",
              "      <td>0.339520</td>\n",
              "      <td>0.304000</td>\n",
              "    </tr>\n",
              "    <tr>\n",
              "      <th>4</th>\n",
              "      <td>0.680000</td>\n",
              "      <td>88.235294</td>\n",
              "      <td>2.200</td>\n",
              "      <td>-0.435</td>\n",
              "      <td>0.136000</td>\n",
              "      <td>0.128000</td>\n",
              "      <td>0.372000</td>\n",
              "      <td>0.451116</td>\n",
              "      <td>0.260000</td>\n",
              "    </tr>\n",
              "    <tr>\n",
              "      <th>...</th>\n",
              "      <td>...</td>\n",
              "      <td>...</td>\n",
              "      <td>...</td>\n",
              "      <td>...</td>\n",
              "      <td>...</td>\n",
              "      <td>...</td>\n",
              "      <td>...</td>\n",
              "      <td>...</td>\n",
              "      <td>...</td>\n",
              "    </tr>\n",
              "    <tr>\n",
              "      <th>177504</th>\n",
              "      <td>0.638889</td>\n",
              "      <td>93.913043</td>\n",
              "      <td>0.680</td>\n",
              "      <td>-0.315</td>\n",
              "      <td>0.063889</td>\n",
              "      <td>0.158333</td>\n",
              "      <td>0.402778</td>\n",
              "      <td>0.503910</td>\n",
              "      <td>0.350000</td>\n",
              "    </tr>\n",
              "    <tr>\n",
              "      <th>177505</th>\n",
              "      <td>0.652778</td>\n",
              "      <td>91.914894</td>\n",
              "      <td>0.660</td>\n",
              "      <td>-0.335</td>\n",
              "      <td>0.066667</td>\n",
              "      <td>0.163889</td>\n",
              "      <td>0.411111</td>\n",
              "      <td>0.508834</td>\n",
              "      <td>0.355556</td>\n",
              "    </tr>\n",
              "    <tr>\n",
              "      <th>177506</th>\n",
              "      <td>0.675000</td>\n",
              "      <td>88.888889</td>\n",
              "      <td>0.605</td>\n",
              "      <td>-0.345</td>\n",
              "      <td>0.066667</td>\n",
              "      <td>0.172222</td>\n",
              "      <td>0.413889</td>\n",
              "      <td>0.503770</td>\n",
              "      <td>0.358333</td>\n",
              "    </tr>\n",
              "    <tr>\n",
              "      <th>177507</th>\n",
              "      <td>0.647222</td>\n",
              "      <td>92.703863</td>\n",
              "      <td>0.795</td>\n",
              "      <td>-0.335</td>\n",
              "      <td>0.055556</td>\n",
              "      <td>0.161111</td>\n",
              "      <td>0.397222</td>\n",
              "      <td>0.493750</td>\n",
              "      <td>0.341667</td>\n",
              "    </tr>\n",
              "    <tr>\n",
              "      <th>177508</th>\n",
              "      <td>0.647222</td>\n",
              "      <td>92.703863</td>\n",
              "      <td>0.825</td>\n",
              "      <td>-0.330</td>\n",
              "      <td>0.069444</td>\n",
              "      <td>0.152778</td>\n",
              "      <td>0.400000</td>\n",
              "      <td>0.497202</td>\n",
              "      <td>0.344444</td>\n",
              "    </tr>\n",
              "  </tbody>\n",
              "</table>\n",
              "<p>177509 rows × 9 columns</p>\n",
              "</div>\n",
              "      <button class=\"colab-df-convert\" onclick=\"convertToInteractive('df-fdc318db-38fe-4de7-a997-f620099f8ada')\"\n",
              "              title=\"Convert this dataframe to an interactive table.\"\n",
              "              style=\"display:none;\">\n",
              "        \n",
              "  <svg xmlns=\"http://www.w3.org/2000/svg\" height=\"24px\"viewBox=\"0 0 24 24\"\n",
              "       width=\"24px\">\n",
              "    <path d=\"M0 0h24v24H0V0z\" fill=\"none\"/>\n",
              "    <path d=\"M18.56 5.44l.94 2.06.94-2.06 2.06-.94-2.06-.94-.94-2.06-.94 2.06-2.06.94zm-11 1L8.5 8.5l.94-2.06 2.06-.94-2.06-.94L8.5 2.5l-.94 2.06-2.06.94zm10 10l.94 2.06.94-2.06 2.06-.94-2.06-.94-.94-2.06-.94 2.06-2.06.94z\"/><path d=\"M17.41 7.96l-1.37-1.37c-.4-.4-.92-.59-1.43-.59-.52 0-1.04.2-1.43.59L10.3 9.45l-7.72 7.72c-.78.78-.78 2.05 0 2.83L4 21.41c.39.39.9.59 1.41.59.51 0 1.02-.2 1.41-.59l7.78-7.78 2.81-2.81c.8-.78.8-2.07 0-2.86zM5.41 20L4 18.59l7.72-7.72 1.47 1.35L5.41 20z\"/>\n",
              "  </svg>\n",
              "      </button>\n",
              "      \n",
              "  <style>\n",
              "    .colab-df-container {\n",
              "      display:flex;\n",
              "      flex-wrap:wrap;\n",
              "      gap: 12px;\n",
              "    }\n",
              "\n",
              "    .colab-df-convert {\n",
              "      background-color: #E8F0FE;\n",
              "      border: none;\n",
              "      border-radius: 50%;\n",
              "      cursor: pointer;\n",
              "      display: none;\n",
              "      fill: #1967D2;\n",
              "      height: 32px;\n",
              "      padding: 0 0 0 0;\n",
              "      width: 32px;\n",
              "    }\n",
              "\n",
              "    .colab-df-convert:hover {\n",
              "      background-color: #E2EBFA;\n",
              "      box-shadow: 0px 1px 2px rgba(60, 64, 67, 0.3), 0px 1px 3px 1px rgba(60, 64, 67, 0.15);\n",
              "      fill: #174EA6;\n",
              "    }\n",
              "\n",
              "    [theme=dark] .colab-df-convert {\n",
              "      background-color: #3B4455;\n",
              "      fill: #D2E3FC;\n",
              "    }\n",
              "\n",
              "    [theme=dark] .colab-df-convert:hover {\n",
              "      background-color: #434B5C;\n",
              "      box-shadow: 0px 1px 3px 1px rgba(0, 0, 0, 0.15);\n",
              "      filter: drop-shadow(0px 1px 2px rgba(0, 0, 0, 0.3));\n",
              "      fill: #FFFFFF;\n",
              "    }\n",
              "  </style>\n",
              "\n",
              "      <script>\n",
              "        const buttonEl =\n",
              "          document.querySelector('#df-fdc318db-38fe-4de7-a997-f620099f8ada button.colab-df-convert');\n",
              "        buttonEl.style.display =\n",
              "          google.colab.kernel.accessAllowed ? 'block' : 'none';\n",
              "\n",
              "        async function convertToInteractive(key) {\n",
              "          const element = document.querySelector('#df-fdc318db-38fe-4de7-a997-f620099f8ada');\n",
              "          const dataTable =\n",
              "            await google.colab.kernel.invokeFunction('convertToInteractive',\n",
              "                                                     [key], {});\n",
              "          if (!dataTable) return;\n",
              "\n",
              "          const docLinkHtml = 'Like what you see? Visit the ' +\n",
              "            '<a target=\"_blank\" href=https://colab.research.google.com/notebooks/data_table.ipynb>data table notebook</a>'\n",
              "            + ' to learn more about interactive tables.';\n",
              "          element.innerHTML = '';\n",
              "          dataTable['output_type'] = 'display_data';\n",
              "          await google.colab.output.renderOutput(dataTable, element);\n",
              "          const docLink = document.createElement('div');\n",
              "          docLink.innerHTML = docLinkHtml;\n",
              "          element.appendChild(docLink);\n",
              "        }\n",
              "      </script>\n",
              "    </div>\n",
              "  </div>\n",
              "  "
            ]
          },
          "metadata": {},
          "execution_count": 16
        }
      ],
      "source": [
        "X_test.head(-1)"
      ]
    },
    {
      "cell_type": "code",
      "source": [
        "X_train.isnull().sum()"
      ],
      "metadata": {
        "id": "nqOR4ff1oUVf",
        "outputId": "50786b97-1ce5-44d9-b670-d0478bfb5e12",
        "colab": {
          "base_uri": "https://localhost:8080/"
        }
      },
      "execution_count": 36,
      "outputs": [
        {
          "output_type": "execute_result",
          "data": {
            "text/plain": [
              "0\n",
              "RR-I        0\n",
              "HR          0\n",
              "R-H         0\n",
              "P-H         0\n",
              "QRS         0\n",
              "PRQ         0\n",
              "QT          0\n",
              "QTC         0\n",
              "ST      50206\n",
              "dtype: int64"
            ]
          },
          "metadata": {},
          "execution_count": 36
        }
      ]
    },
    {
      "cell_type": "code",
      "execution_count": 41,
      "metadata": {
        "id": "dzpKxk9jgWz5"
      },
      "outputs": [],
      "source": [
        "from sklearn.ensemble import RandomForestClassifier\n",
        "\n",
        "rf = RandomForestClassifier ()\n",
        "\n",
        "rf.fit(X_train,y_train)\n",
        "\n",
        "y_pred = rf.predict(X_test)"
      ]
    },
    {
      "cell_type": "code",
      "execution_count": 42,
      "metadata": {
        "id": "2TvAfLMxgWz5",
        "outputId": "d091784c-32ae-40ac-a831-67cb5f640f67",
        "colab": {
          "base_uri": "https://localhost:8080/"
        }
      },
      "outputs": [
        {
          "output_type": "stream",
          "name": "stdout",
          "text": [
            "[[  3105    471   8190]\n",
            " [ 14062  10230  30042]\n",
            " [  3195     49 139142]]\n",
            "              precision    recall  f1-score   support\n",
            "\n",
            "  arrhythmic       0.15      0.26      0.19     11766\n",
            "     healthy       0.95      0.19      0.31     54334\n",
            "    ischemic       0.78      0.98      0.87    142386\n",
            "\n",
            "    accuracy                           0.73    208486\n",
            "   macro avg       0.63      0.48      0.46    208486\n",
            "weighted avg       0.79      0.73      0.69    208486\n",
            "\n",
            "Accurecy:  0.7313536640349951\n"
          ]
        }
      ],
      "source": [
        "from sklearn.metrics import classification_report, confusion_matrix, accuracy_score\n",
        "print(confusion_matrix(y_test, y_pred))\n",
        "print(classification_report(y_test,y_pred))\n",
        "print(\"Accurecy: \",accuracy_score(y_test, y_pred))"
      ]
    },
    {
      "cell_type": "code",
      "execution_count": 43,
      "metadata": {
        "id": "RgcrinRigWz6"
      },
      "outputs": [],
      "source": [
        "from sklearn.ensemble import AdaBoostClassifier\n",
        "\n",
        "ada = AdaBoostClassifier()\n",
        "\n",
        "ada.fit(X_train, y_train)\n",
        "\n",
        "y_pred = ada.predict(X_test)"
      ]
    },
    {
      "cell_type": "code",
      "execution_count": 44,
      "metadata": {
        "id": "F7cCpRI9gWz6",
        "outputId": "61e112e9-fcc0-42ac-b27a-cdae1bb9c1bd",
        "colab": {
          "base_uri": "https://localhost:8080/"
        }
      },
      "outputs": [
        {
          "output_type": "stream",
          "name": "stdout",
          "text": [
            "[[  2824    963   7979]\n",
            " [  5506  27420  21408]\n",
            " [  2968    122 139296]]\n",
            "              precision    recall  f1-score   support\n",
            "\n",
            "  arrhythmic       0.25      0.24      0.24     11766\n",
            "     healthy       0.96      0.50      0.66     54334\n",
            "    ischemic       0.83      0.98      0.90    142386\n",
            "\n",
            "    accuracy                           0.81    208486\n",
            "   macro avg       0.68      0.57      0.60    208486\n",
            "weighted avg       0.83      0.81      0.80    208486\n",
            "\n",
            "Accurecy:  0.8131960899053173\n"
          ]
        }
      ],
      "source": [
        "from sklearn.metrics import classification_report, confusion_matrix, accuracy_score\n",
        "print(confusion_matrix(y_test, y_pred))\n",
        "print(classification_report(y_test,y_pred))\n",
        "print(\"Accurecy: \",accuracy_score(y_test, y_pred))"
      ]
    },
    {
      "cell_type": "code",
      "execution_count": null,
      "metadata": {
        "id": "gT2qmnXWgWz6"
      },
      "outputs": [],
      "source": [
        "from sklearn.ensemble import GradientBoostingClassifier\n",
        "\n",
        "GBC = GradientBoostingClassifier()\n",
        "GBC.fit(X_train, y_train)\n",
        "\n",
        "y_pred = GBC.predict(X_test)"
      ]
    },
    {
      "cell_type": "code",
      "execution_count": null,
      "metadata": {
        "id": "0S1y9jpugWz7"
      },
      "outputs": [],
      "source": [
        "from sklearn.metrics import classification_report, confusion_matrix, accuracy_score\n",
        "print(confusion_matrix(y_test, y_pred))\n",
        "print(classification_report(y_test,y_pred))\n",
        "print(\"Accurecy: \",accuracy_score(y_test, y_pred))"
      ]
    },
    {
      "cell_type": "code",
      "execution_count": null,
      "metadata": {
        "id": "n6lTOBtijjuI"
      },
      "outputs": [],
      "source": [
        "from sklearn.preprocessing import LabelEncoder\n",
        "\n",
        "encoder=LabelEncoder()\n",
        "y_train=encoder.fit_transform(y_train)\n",
        "y_test=encoder.fit_transform(y_test)"
      ]
    },
    {
      "cell_type": "code",
      "source": [
        "\n",
        "import xgboost as xgb\n",
        "xgb_default = xgb.XGBClassifier()\n",
        "xgb_default.fit(X_train,y_train)\n",
        "y_pred = xgb_default.predict(X_test)\n",
        "\n",
        "\n",
        "from sklearn.metrics import classification_report, confusion_matrix, accuracy_score\n",
        "print(confusion_matrix(y_test, y_pred))\n",
        "print(classification_report(y_test,y_pred))\n",
        "print(\"Accurecy: \",accuracy_score(y_test, y_pred))"
      ],
      "metadata": {
        "colab": {
          "base_uri": "https://localhost:8080/"
        },
        "id": "QEYimMvBrNv3",
        "outputId": "cc1ce1d6-021b-475f-8f9d-d81c0494a6fc"
      },
      "execution_count": null,
      "outputs": [
        {
          "output_type": "stream",
          "name": "stdout",
          "text": [
            "[[  6410    574    575]\n",
            " [  9252  16746  27137]\n",
            " [   325     18 116473]]\n",
            "              precision    recall  f1-score   support\n",
            "\n",
            "           0       0.40      0.85      0.54      7559\n",
            "           1       0.97      0.32      0.48     53135\n",
            "           2       0.81      1.00      0.89    116816\n",
            "\n",
            "    accuracy                           0.79    177510\n",
            "   macro avg       0.72      0.72      0.64    177510\n",
            "weighted avg       0.84      0.79      0.75    177510\n",
            "\n",
            "Accurecy:  0.7865979381443299\n"
          ]
        }
      ]
    },
    {
      "cell_type": "code",
      "source": [],
      "metadata": {
        "id": "QV4XcawFrR7u"
      },
      "execution_count": null,
      "outputs": []
    }
  ],
  "metadata": {
    "colab": {
      "provenance": [],
      "include_colab_link": true
    },
    "kernelspec": {
      "display_name": "Python 3 (ipykernel)",
      "language": "python",
      "name": "python3"
    },
    "language_info": {
      "codemirror_mode": {
        "name": "ipython",
        "version": 3
      },
      "file_extension": ".py",
      "mimetype": "text/x-python",
      "name": "python",
      "nbconvert_exporter": "python",
      "pygments_lexer": "ipython3",
      "version": "3.9.13"
    },
    "widgets": {
      "application/vnd.jupyter.widget-state+json": {
        "35c9851795934c91aac074be49d52e34": {
          "model_module": "@jupyter-widgets/controls",
          "model_name": "HBoxModel",
          "model_module_version": "1.5.0",
          "state": {
            "_dom_classes": [],
            "_model_module": "@jupyter-widgets/controls",
            "_model_module_version": "1.5.0",
            "_model_name": "HBoxModel",
            "_view_count": null,
            "_view_module": "@jupyter-widgets/controls",
            "_view_module_version": "1.5.0",
            "_view_name": "HBoxView",
            "box_style": "",
            "children": [
              "IPY_MODEL_9516d1366a1f43cdb8bda569c4318e34",
              "IPY_MODEL_185b45f078154084a77955a7bdeca58f",
              "IPY_MODEL_c0bd92dffdb0400badacf510312817cc"
            ],
            "layout": "IPY_MODEL_d6035731a02640eea844087e6006dd9f"
          }
        },
        "9516d1366a1f43cdb8bda569c4318e34": {
          "model_module": "@jupyter-widgets/controls",
          "model_name": "HTMLModel",
          "model_module_version": "1.5.0",
          "state": {
            "_dom_classes": [],
            "_model_module": "@jupyter-widgets/controls",
            "_model_module_version": "1.5.0",
            "_model_name": "HTMLModel",
            "_view_count": null,
            "_view_module": "@jupyter-widgets/controls",
            "_view_module_version": "1.5.0",
            "_view_name": "HTMLView",
            "description": "",
            "description_tooltip": null,
            "layout": "IPY_MODEL_f5b66fdb4ea24d06bfbe77f1e05c0e7f",
            "placeholder": "​",
            "style": "IPY_MODEL_8122f561d6c74a908daa0a10a8818876",
            "value": "100%"
          }
        },
        "185b45f078154084a77955a7bdeca58f": {
          "model_module": "@jupyter-widgets/controls",
          "model_name": "FloatProgressModel",
          "model_module_version": "1.5.0",
          "state": {
            "_dom_classes": [],
            "_model_module": "@jupyter-widgets/controls",
            "_model_module_version": "1.5.0",
            "_model_name": "FloatProgressModel",
            "_view_count": null,
            "_view_module": "@jupyter-widgets/controls",
            "_view_module_version": "1.5.0",
            "_view_name": "ProgressView",
            "bar_style": "success",
            "description": "",
            "description_tooltip": null,
            "layout": "IPY_MODEL_29b343bcf6f84a95840500a09d438c3e",
            "max": 3,
            "min": 0,
            "orientation": "horizontal",
            "style": "IPY_MODEL_44590c82d4824c3880d663bc81aecdf6",
            "value": 3
          }
        },
        "c0bd92dffdb0400badacf510312817cc": {
          "model_module": "@jupyter-widgets/controls",
          "model_name": "HTMLModel",
          "model_module_version": "1.5.0",
          "state": {
            "_dom_classes": [],
            "_model_module": "@jupyter-widgets/controls",
            "_model_module_version": "1.5.0",
            "_model_name": "HTMLModel",
            "_view_count": null,
            "_view_module": "@jupyter-widgets/controls",
            "_view_module_version": "1.5.0",
            "_view_name": "HTMLView",
            "description": "",
            "description_tooltip": null,
            "layout": "IPY_MODEL_8efde1a87f2940c090e0524d591cc3a8",
            "placeholder": "​",
            "style": "IPY_MODEL_b62e16479b604189b86e0b8db72f564f",
            "value": " 3/3 [00:00&lt;00:00,  8.82it/s]"
          }
        },
        "d6035731a02640eea844087e6006dd9f": {
          "model_module": "@jupyter-widgets/base",
          "model_name": "LayoutModel",
          "model_module_version": "1.2.0",
          "state": {
            "_model_module": "@jupyter-widgets/base",
            "_model_module_version": "1.2.0",
            "_model_name": "LayoutModel",
            "_view_count": null,
            "_view_module": "@jupyter-widgets/base",
            "_view_module_version": "1.2.0",
            "_view_name": "LayoutView",
            "align_content": null,
            "align_items": null,
            "align_self": null,
            "border": null,
            "bottom": null,
            "display": null,
            "flex": null,
            "flex_flow": null,
            "grid_area": null,
            "grid_auto_columns": null,
            "grid_auto_flow": null,
            "grid_auto_rows": null,
            "grid_column": null,
            "grid_gap": null,
            "grid_row": null,
            "grid_template_areas": null,
            "grid_template_columns": null,
            "grid_template_rows": null,
            "height": null,
            "justify_content": null,
            "justify_items": null,
            "left": null,
            "margin": null,
            "max_height": null,
            "max_width": null,
            "min_height": null,
            "min_width": null,
            "object_fit": null,
            "object_position": null,
            "order": null,
            "overflow": null,
            "overflow_x": null,
            "overflow_y": null,
            "padding": null,
            "right": null,
            "top": null,
            "visibility": null,
            "width": null
          }
        },
        "f5b66fdb4ea24d06bfbe77f1e05c0e7f": {
          "model_module": "@jupyter-widgets/base",
          "model_name": "LayoutModel",
          "model_module_version": "1.2.0",
          "state": {
            "_model_module": "@jupyter-widgets/base",
            "_model_module_version": "1.2.0",
            "_model_name": "LayoutModel",
            "_view_count": null,
            "_view_module": "@jupyter-widgets/base",
            "_view_module_version": "1.2.0",
            "_view_name": "LayoutView",
            "align_content": null,
            "align_items": null,
            "align_self": null,
            "border": null,
            "bottom": null,
            "display": null,
            "flex": null,
            "flex_flow": null,
            "grid_area": null,
            "grid_auto_columns": null,
            "grid_auto_flow": null,
            "grid_auto_rows": null,
            "grid_column": null,
            "grid_gap": null,
            "grid_row": null,
            "grid_template_areas": null,
            "grid_template_columns": null,
            "grid_template_rows": null,
            "height": null,
            "justify_content": null,
            "justify_items": null,
            "left": null,
            "margin": null,
            "max_height": null,
            "max_width": null,
            "min_height": null,
            "min_width": null,
            "object_fit": null,
            "object_position": null,
            "order": null,
            "overflow": null,
            "overflow_x": null,
            "overflow_y": null,
            "padding": null,
            "right": null,
            "top": null,
            "visibility": null,
            "width": null
          }
        },
        "8122f561d6c74a908daa0a10a8818876": {
          "model_module": "@jupyter-widgets/controls",
          "model_name": "DescriptionStyleModel",
          "model_module_version": "1.5.0",
          "state": {
            "_model_module": "@jupyter-widgets/controls",
            "_model_module_version": "1.5.0",
            "_model_name": "DescriptionStyleModel",
            "_view_count": null,
            "_view_module": "@jupyter-widgets/base",
            "_view_module_version": "1.2.0",
            "_view_name": "StyleView",
            "description_width": ""
          }
        },
        "29b343bcf6f84a95840500a09d438c3e": {
          "model_module": "@jupyter-widgets/base",
          "model_name": "LayoutModel",
          "model_module_version": "1.2.0",
          "state": {
            "_model_module": "@jupyter-widgets/base",
            "_model_module_version": "1.2.0",
            "_model_name": "LayoutModel",
            "_view_count": null,
            "_view_module": "@jupyter-widgets/base",
            "_view_module_version": "1.2.0",
            "_view_name": "LayoutView",
            "align_content": null,
            "align_items": null,
            "align_self": null,
            "border": null,
            "bottom": null,
            "display": null,
            "flex": null,
            "flex_flow": null,
            "grid_area": null,
            "grid_auto_columns": null,
            "grid_auto_flow": null,
            "grid_auto_rows": null,
            "grid_column": null,
            "grid_gap": null,
            "grid_row": null,
            "grid_template_areas": null,
            "grid_template_columns": null,
            "grid_template_rows": null,
            "height": null,
            "justify_content": null,
            "justify_items": null,
            "left": null,
            "margin": null,
            "max_height": null,
            "max_width": null,
            "min_height": null,
            "min_width": null,
            "object_fit": null,
            "object_position": null,
            "order": null,
            "overflow": null,
            "overflow_x": null,
            "overflow_y": null,
            "padding": null,
            "right": null,
            "top": null,
            "visibility": null,
            "width": null
          }
        },
        "44590c82d4824c3880d663bc81aecdf6": {
          "model_module": "@jupyter-widgets/controls",
          "model_name": "ProgressStyleModel",
          "model_module_version": "1.5.0",
          "state": {
            "_model_module": "@jupyter-widgets/controls",
            "_model_module_version": "1.5.0",
            "_model_name": "ProgressStyleModel",
            "_view_count": null,
            "_view_module": "@jupyter-widgets/base",
            "_view_module_version": "1.2.0",
            "_view_name": "StyleView",
            "bar_color": null,
            "description_width": ""
          }
        },
        "8efde1a87f2940c090e0524d591cc3a8": {
          "model_module": "@jupyter-widgets/base",
          "model_name": "LayoutModel",
          "model_module_version": "1.2.0",
          "state": {
            "_model_module": "@jupyter-widgets/base",
            "_model_module_version": "1.2.0",
            "_model_name": "LayoutModel",
            "_view_count": null,
            "_view_module": "@jupyter-widgets/base",
            "_view_module_version": "1.2.0",
            "_view_name": "LayoutView",
            "align_content": null,
            "align_items": null,
            "align_self": null,
            "border": null,
            "bottom": null,
            "display": null,
            "flex": null,
            "flex_flow": null,
            "grid_area": null,
            "grid_auto_columns": null,
            "grid_auto_flow": null,
            "grid_auto_rows": null,
            "grid_column": null,
            "grid_gap": null,
            "grid_row": null,
            "grid_template_areas": null,
            "grid_template_columns": null,
            "grid_template_rows": null,
            "height": null,
            "justify_content": null,
            "justify_items": null,
            "left": null,
            "margin": null,
            "max_height": null,
            "max_width": null,
            "min_height": null,
            "min_width": null,
            "object_fit": null,
            "object_position": null,
            "order": null,
            "overflow": null,
            "overflow_x": null,
            "overflow_y": null,
            "padding": null,
            "right": null,
            "top": null,
            "visibility": null,
            "width": null
          }
        },
        "b62e16479b604189b86e0b8db72f564f": {
          "model_module": "@jupyter-widgets/controls",
          "model_name": "DescriptionStyleModel",
          "model_module_version": "1.5.0",
          "state": {
            "_model_module": "@jupyter-widgets/controls",
            "_model_module_version": "1.5.0",
            "_model_name": "DescriptionStyleModel",
            "_view_count": null,
            "_view_module": "@jupyter-widgets/base",
            "_view_module_version": "1.2.0",
            "_view_name": "StyleView",
            "description_width": ""
          }
        }
      }
    }
  },
  "nbformat": 4,
  "nbformat_minor": 0
}