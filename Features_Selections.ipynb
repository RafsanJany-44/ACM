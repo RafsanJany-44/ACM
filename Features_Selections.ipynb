{
  "nbformat": 4,
  "nbformat_minor": 0,
  "metadata": {
    "colab": {
      "provenance": [],
      "include_colab_link": true
    },
    "kernelspec": {
      "name": "python3",
      "display_name": "Python 3"
    },
    "language_info": {
      "name": "python"
    }
  },
  "cells": [
    {
      "cell_type": "markdown",
      "metadata": {
        "id": "view-in-github",
        "colab_type": "text"
      },
      "source": [
        "<a href=\"https://colab.research.google.com/github/RafsanJany-44/ARC/blob/master/Features_Selections.ipynb\" target=\"_parent\"><img src=\"https://colab.research.google.com/assets/colab-badge.svg\" alt=\"Open In Colab\"/></a>"
      ]
    },
    {
      "cell_type": "code",
      "execution_count": 1,
      "metadata": {
        "colab": {
          "base_uri": "https://localhost:8080/"
        },
        "id": "zdFOS9nFlpsU",
        "outputId": "495358a7-3d4f-4848-80c8-ebe8332c86d8"
      },
      "outputs": [
        {
          "output_type": "stream",
          "name": "stdout",
          "text": [
            "Mounted at /content/drive\n"
          ]
        }
      ],
      "source": [
        "from google.colab import drive\n",
        "drive.mount('/content/drive')"
      ]
    },
    {
      "cell_type": "code",
      "source": [
        "import numpy as np\n",
        "import pandas as pd\n",
        "dataset=pd.read_csv(\"/content/drive/MyDrive/Iqram Sir/Untitled folder/Tinnitus_ALR&EEG_2022.08.26_final.csv\")\n",
        "classes = np.array(sorted(list(set(dataset.iloc[:, 1]))))"
      ],
      "metadata": {
        "id": "M0AmIUwSmLfj"
      },
      "execution_count": 2,
      "outputs": []
    },
    {
      "cell_type": "code",
      "source": [
        "dataset.head()"
      ],
      "metadata": {
        "colab": {
          "base_uri": "https://localhost:8080/",
          "height": 300
        },
        "id": "4YN_C8yxm1ho",
        "outputId": "06c52ecd-9e05-4015-f220-2e74b86e7373"
      },
      "execution_count": 3,
      "outputs": [
        {
          "output_type": "execute_result",
          "data": {
            "text/plain": [
              "             Subjects SubjectTypeClass TestType  n0_gap_peak_ms_20ms  \\\n",
              "0      '06_HSO_60_01'          Control     Test                   96   \n",
              "1      '06_LSR_34_01'          Control     Test                  108   \n",
              "2      '07_KHJ_33_02'          Control     Test                  123   \n",
              "3      '08_LJS_26_01'          Control     Test                   98   \n",
              "4      '09_JBH_58_01'          Control     Test                  127   \n",
              "\n",
              "   p1_gap_peak_ms_20ms  n1_gap_peak_ms_20ms  p2_gap_peak_ms_20ms  \\\n",
              "0                  177                  213                  304   \n",
              "1                  151                  219                  282   \n",
              "2                  195                  246                  275   \n",
              "3                  163                  212                  320   \n",
              "4                  166                  206                  271   \n",
              "\n",
              "   n2_gap_peak_ms_20ms  p3_gap_peak_ms_20ms  n0_nogap_peak_ms_20ms  ...  \\\n",
              "0                  425                  135                    175  ...   \n",
              "1                  390                  126                    152  ...   \n",
              "2                  456                   99                    166  ...   \n",
              "3                  416                  134                    197  ...   \n",
              "4                  386                  119                    153  ...   \n",
              "\n",
              "   MeanP_Gamma_50ms  TotalEEGPower_50ms  RelativeAlpha_50ms  \\\n",
              "0      4.670000e-07            0.000055              0.0949   \n",
              "1      5.330000e-07            0.000047              0.1210   \n",
              "2      2.890000e-05            0.000778              0.0805   \n",
              "3      5.990000e-07            0.000075              0.0885   \n",
              "4      8.390000e-07            0.000074              0.1090   \n",
              "\n",
              "   RelativeBeta_50ms  RelativeTheta_50ms  RelativeDelta_50ms  DTR_50ms  \\\n",
              "0             0.0372               0.387               0.481     1.240   \n",
              "1             0.0500               0.419               0.410     0.979   \n",
              "2             0.0527               0.301               0.566     1.880   \n",
              "3             0.0397               0.354               0.518     1.460   \n",
              "4             0.0564               0.392               0.442     1.130   \n",
              "\n",
              "   DTABR_50ms  ATR_50ms  ABR_50ms  \n",
              "0        6.57     0.245      2.55  \n",
              "1        4.83     0.290      2.43  \n",
              "2        6.51     0.268      1.53  \n",
              "3        6.80     0.250      2.23  \n",
              "4        5.04     0.278      1.93  \n",
              "\n",
              "[5 rows x 275 columns]"
            ],
            "text/html": [
              "\n",
              "  <div id=\"df-3d0cc10f-eb5a-480f-9eca-9c0ae4a0e442\">\n",
              "    <div class=\"colab-df-container\">\n",
              "      <div>\n",
              "<style scoped>\n",
              "    .dataframe tbody tr th:only-of-type {\n",
              "        vertical-align: middle;\n",
              "    }\n",
              "\n",
              "    .dataframe tbody tr th {\n",
              "        vertical-align: top;\n",
              "    }\n",
              "\n",
              "    .dataframe thead th {\n",
              "        text-align: right;\n",
              "    }\n",
              "</style>\n",
              "<table border=\"1\" class=\"dataframe\">\n",
              "  <thead>\n",
              "    <tr style=\"text-align: right;\">\n",
              "      <th></th>\n",
              "      <th>Subjects</th>\n",
              "      <th>SubjectTypeClass</th>\n",
              "      <th>TestType</th>\n",
              "      <th>n0_gap_peak_ms_20ms</th>\n",
              "      <th>p1_gap_peak_ms_20ms</th>\n",
              "      <th>n1_gap_peak_ms_20ms</th>\n",
              "      <th>p2_gap_peak_ms_20ms</th>\n",
              "      <th>n2_gap_peak_ms_20ms</th>\n",
              "      <th>p3_gap_peak_ms_20ms</th>\n",
              "      <th>n0_nogap_peak_ms_20ms</th>\n",
              "      <th>...</th>\n",
              "      <th>MeanP_Gamma_50ms</th>\n",
              "      <th>TotalEEGPower_50ms</th>\n",
              "      <th>RelativeAlpha_50ms</th>\n",
              "      <th>RelativeBeta_50ms</th>\n",
              "      <th>RelativeTheta_50ms</th>\n",
              "      <th>RelativeDelta_50ms</th>\n",
              "      <th>DTR_50ms</th>\n",
              "      <th>DTABR_50ms</th>\n",
              "      <th>ATR_50ms</th>\n",
              "      <th>ABR_50ms</th>\n",
              "    </tr>\n",
              "  </thead>\n",
              "  <tbody>\n",
              "    <tr>\n",
              "      <th>0</th>\n",
              "      <td>'06_HSO_60_01'</td>\n",
              "      <td>Control</td>\n",
              "      <td>Test</td>\n",
              "      <td>96</td>\n",
              "      <td>177</td>\n",
              "      <td>213</td>\n",
              "      <td>304</td>\n",
              "      <td>425</td>\n",
              "      <td>135</td>\n",
              "      <td>175</td>\n",
              "      <td>...</td>\n",
              "      <td>4.670000e-07</td>\n",
              "      <td>0.000055</td>\n",
              "      <td>0.0949</td>\n",
              "      <td>0.0372</td>\n",
              "      <td>0.387</td>\n",
              "      <td>0.481</td>\n",
              "      <td>1.240</td>\n",
              "      <td>6.57</td>\n",
              "      <td>0.245</td>\n",
              "      <td>2.55</td>\n",
              "    </tr>\n",
              "    <tr>\n",
              "      <th>1</th>\n",
              "      <td>'06_LSR_34_01'</td>\n",
              "      <td>Control</td>\n",
              "      <td>Test</td>\n",
              "      <td>108</td>\n",
              "      <td>151</td>\n",
              "      <td>219</td>\n",
              "      <td>282</td>\n",
              "      <td>390</td>\n",
              "      <td>126</td>\n",
              "      <td>152</td>\n",
              "      <td>...</td>\n",
              "      <td>5.330000e-07</td>\n",
              "      <td>0.000047</td>\n",
              "      <td>0.1210</td>\n",
              "      <td>0.0500</td>\n",
              "      <td>0.419</td>\n",
              "      <td>0.410</td>\n",
              "      <td>0.979</td>\n",
              "      <td>4.83</td>\n",
              "      <td>0.290</td>\n",
              "      <td>2.43</td>\n",
              "    </tr>\n",
              "    <tr>\n",
              "      <th>2</th>\n",
              "      <td>'07_KHJ_33_02'</td>\n",
              "      <td>Control</td>\n",
              "      <td>Test</td>\n",
              "      <td>123</td>\n",
              "      <td>195</td>\n",
              "      <td>246</td>\n",
              "      <td>275</td>\n",
              "      <td>456</td>\n",
              "      <td>99</td>\n",
              "      <td>166</td>\n",
              "      <td>...</td>\n",
              "      <td>2.890000e-05</td>\n",
              "      <td>0.000778</td>\n",
              "      <td>0.0805</td>\n",
              "      <td>0.0527</td>\n",
              "      <td>0.301</td>\n",
              "      <td>0.566</td>\n",
              "      <td>1.880</td>\n",
              "      <td>6.51</td>\n",
              "      <td>0.268</td>\n",
              "      <td>1.53</td>\n",
              "    </tr>\n",
              "    <tr>\n",
              "      <th>3</th>\n",
              "      <td>'08_LJS_26_01'</td>\n",
              "      <td>Control</td>\n",
              "      <td>Test</td>\n",
              "      <td>98</td>\n",
              "      <td>163</td>\n",
              "      <td>212</td>\n",
              "      <td>320</td>\n",
              "      <td>416</td>\n",
              "      <td>134</td>\n",
              "      <td>197</td>\n",
              "      <td>...</td>\n",
              "      <td>5.990000e-07</td>\n",
              "      <td>0.000075</td>\n",
              "      <td>0.0885</td>\n",
              "      <td>0.0397</td>\n",
              "      <td>0.354</td>\n",
              "      <td>0.518</td>\n",
              "      <td>1.460</td>\n",
              "      <td>6.80</td>\n",
              "      <td>0.250</td>\n",
              "      <td>2.23</td>\n",
              "    </tr>\n",
              "    <tr>\n",
              "      <th>4</th>\n",
              "      <td>'09_JBH_58_01'</td>\n",
              "      <td>Control</td>\n",
              "      <td>Test</td>\n",
              "      <td>127</td>\n",
              "      <td>166</td>\n",
              "      <td>206</td>\n",
              "      <td>271</td>\n",
              "      <td>386</td>\n",
              "      <td>119</td>\n",
              "      <td>153</td>\n",
              "      <td>...</td>\n",
              "      <td>8.390000e-07</td>\n",
              "      <td>0.000074</td>\n",
              "      <td>0.1090</td>\n",
              "      <td>0.0564</td>\n",
              "      <td>0.392</td>\n",
              "      <td>0.442</td>\n",
              "      <td>1.130</td>\n",
              "      <td>5.04</td>\n",
              "      <td>0.278</td>\n",
              "      <td>1.93</td>\n",
              "    </tr>\n",
              "  </tbody>\n",
              "</table>\n",
              "<p>5 rows × 275 columns</p>\n",
              "</div>\n",
              "      <button class=\"colab-df-convert\" onclick=\"convertToInteractive('df-3d0cc10f-eb5a-480f-9eca-9c0ae4a0e442')\"\n",
              "              title=\"Convert this dataframe to an interactive table.\"\n",
              "              style=\"display:none;\">\n",
              "        \n",
              "  <svg xmlns=\"http://www.w3.org/2000/svg\" height=\"24px\"viewBox=\"0 0 24 24\"\n",
              "       width=\"24px\">\n",
              "    <path d=\"M0 0h24v24H0V0z\" fill=\"none\"/>\n",
              "    <path d=\"M18.56 5.44l.94 2.06.94-2.06 2.06-.94-2.06-.94-.94-2.06-.94 2.06-2.06.94zm-11 1L8.5 8.5l.94-2.06 2.06-.94-2.06-.94L8.5 2.5l-.94 2.06-2.06.94zm10 10l.94 2.06.94-2.06 2.06-.94-2.06-.94-.94-2.06-.94 2.06-2.06.94z\"/><path d=\"M17.41 7.96l-1.37-1.37c-.4-.4-.92-.59-1.43-.59-.52 0-1.04.2-1.43.59L10.3 9.45l-7.72 7.72c-.78.78-.78 2.05 0 2.83L4 21.41c.39.39.9.59 1.41.59.51 0 1.02-.2 1.41-.59l7.78-7.78 2.81-2.81c.8-.78.8-2.07 0-2.86zM5.41 20L4 18.59l7.72-7.72 1.47 1.35L5.41 20z\"/>\n",
              "  </svg>\n",
              "      </button>\n",
              "      \n",
              "  <style>\n",
              "    .colab-df-container {\n",
              "      display:flex;\n",
              "      flex-wrap:wrap;\n",
              "      gap: 12px;\n",
              "    }\n",
              "\n",
              "    .colab-df-convert {\n",
              "      background-color: #E8F0FE;\n",
              "      border: none;\n",
              "      border-radius: 50%;\n",
              "      cursor: pointer;\n",
              "      display: none;\n",
              "      fill: #1967D2;\n",
              "      height: 32px;\n",
              "      padding: 0 0 0 0;\n",
              "      width: 32px;\n",
              "    }\n",
              "\n",
              "    .colab-df-convert:hover {\n",
              "      background-color: #E2EBFA;\n",
              "      box-shadow: 0px 1px 2px rgba(60, 64, 67, 0.3), 0px 1px 3px 1px rgba(60, 64, 67, 0.15);\n",
              "      fill: #174EA6;\n",
              "    }\n",
              "\n",
              "    [theme=dark] .colab-df-convert {\n",
              "      background-color: #3B4455;\n",
              "      fill: #D2E3FC;\n",
              "    }\n",
              "\n",
              "    [theme=dark] .colab-df-convert:hover {\n",
              "      background-color: #434B5C;\n",
              "      box-shadow: 0px 1px 3px 1px rgba(0, 0, 0, 0.15);\n",
              "      filter: drop-shadow(0px 1px 2px rgba(0, 0, 0, 0.3));\n",
              "      fill: #FFFFFF;\n",
              "    }\n",
              "  </style>\n",
              "\n",
              "      <script>\n",
              "        const buttonEl =\n",
              "          document.querySelector('#df-3d0cc10f-eb5a-480f-9eca-9c0ae4a0e442 button.colab-df-convert');\n",
              "        buttonEl.style.display =\n",
              "          google.colab.kernel.accessAllowed ? 'block' : 'none';\n",
              "\n",
              "        async function convertToInteractive(key) {\n",
              "          const element = document.querySelector('#df-3d0cc10f-eb5a-480f-9eca-9c0ae4a0e442');\n",
              "          const dataTable =\n",
              "            await google.colab.kernel.invokeFunction('convertToInteractive',\n",
              "                                                     [key], {});\n",
              "          if (!dataTable) return;\n",
              "\n",
              "          const docLinkHtml = 'Like what you see? Visit the ' +\n",
              "            '<a target=\"_blank\" href=https://colab.research.google.com/notebooks/data_table.ipynb>data table notebook</a>'\n",
              "            + ' to learn more about interactive tables.';\n",
              "          element.innerHTML = '';\n",
              "          dataTable['output_type'] = 'display_data';\n",
              "          await google.colab.output.renderOutput(dataTable, element);\n",
              "          const docLink = document.createElement('div');\n",
              "          docLink.innerHTML = docLinkHtml;\n",
              "          element.appendChild(docLink);\n",
              "        }\n",
              "      </script>\n",
              "    </div>\n",
              "  </div>\n",
              "  "
            ]
          },
          "metadata": {},
          "execution_count": 3
        }
      ]
    },
    {
      "cell_type": "code",
      "source": [
        "classes"
      ],
      "metadata": {
        "colab": {
          "base_uri": "https://localhost:8080/"
        },
        "id": "K1qDFsJCg2jK",
        "outputId": "5d1fe406-00af-4466-ea9b-5ab7c0f336bb"
      },
      "execution_count": 19,
      "outputs": [
        {
          "output_type": "execute_result",
          "data": {
            "text/plain": [
              "array(['Control', 'Patient'], dtype='<U7')"
            ]
          },
          "metadata": {},
          "execution_count": 19
        }
      ]
    },
    {
      "cell_type": "code",
      "source": [
        "dataset.shape"
      ],
      "metadata": {
        "colab": {
          "base_uri": "https://localhost:8080/"
        },
        "id": "VS4iUbnyYaDH",
        "outputId": "9da16da5-1587-4dae-e334-e96bd80d4856"
      },
      "execution_count": 4,
      "outputs": [
        {
          "output_type": "execute_result",
          "data": {
            "text/plain": [
              "(165, 275)"
            ]
          },
          "metadata": {},
          "execution_count": 4
        }
      ]
    },
    {
      "cell_type": "code",
      "source": [
        "\n",
        "from sklearn.preprocessing import LabelEncoder\n",
        "encoder=LabelEncoder()\n",
        "dataset.iloc[:, 1]=encoder.fit_transform(dataset.iloc[:, 1])"
      ],
      "metadata": {
        "id": "Ljyj9yuIf-tX"
      },
      "execution_count": 5,
      "outputs": []
    },
    {
      "cell_type": "code",
      "source": [
        "X_ = dataset.iloc[:,3:]\n",
        "y_ = dataset.iloc[:, 1]\n"
      ],
      "metadata": {
        "id": "ci-EA40TXasM"
      },
      "execution_count": 6,
      "outputs": []
    },
    {
      "cell_type": "code",
      "source": [
        "col=list(dataset.iloc[0:0,3:])"
      ],
      "metadata": {
        "id": "3c3FE67wjX7U"
      },
      "execution_count": 38,
      "outputs": []
    },
    {
      "cell_type": "markdown",
      "source": [
        "#Filter Method (Model Free)"
      ],
      "metadata": {
        "id": "UaMqQtc8z1dc"
      }
    },
    {
      "cell_type": "markdown",
      "source": [
        "<font color='red'> Warning: Run only one Type at a time</font>"
      ],
      "metadata": {
        "id": "--xngoAuTfUi"
      }
    },
    {
      "cell_type": "markdown",
      "source": [
        "**Type-1**"
      ],
      "metadata": {
        "id": "AjBrNIkMTJaA"
      }
    },
    {
      "cell_type": "code",
      "source": [
        "from sklearn.feature_selection import SelectKBest\n",
        "bestfeatures_1 = SelectKBest(k=10)\n",
        "fit = bestfeatures_1.fit(X_,y_)\n",
        "dfscores = pd.DataFrame(fit.scores_)\n",
        "dfcolumns = pd.DataFrame(X_.columns)\n",
        "featureScores = pd.concat([dfcolumns,dfscores],axis=1)\n",
        "featureScores.columns = ['Specs','Score']\n"
      ],
      "metadata": {
        "id": "PAG90MeI0S7O"
      },
      "execution_count": null,
      "outputs": []
    },
    {
      "cell_type": "markdown",
      "source": [
        "**Type-2**"
      ],
      "metadata": {
        "id": "Ftetc2yrTV6F"
      }
    },
    {
      "cell_type": "code",
      "source": [
        "from sklearn.feature_selection import SelectKBest,f_classif\n",
        "bestfeatures_2=SelectKBest(f_classif, k=10)\n",
        "fit = bestfeatures_f2fit(X_,y_)\n",
        "dfscores = pd.DataFrame(fit.scores_)\n",
        "dfcolumns = pd.DataFrame(X_.columns)\n",
        "featureScores = pd.concat([dfcolumns,dfscores],axis=1)\n",
        "featureScores.columns = ['Specs','Score']"
      ],
      "metadata": {
        "id": "2u0_C3phPo4J"
      },
      "execution_count": null,
      "outputs": []
    },
    {
      "cell_type": "markdown",
      "source": [
        "**Type-3**"
      ],
      "metadata": {
        "id": "ftYkiPhdTYrB"
      }
    },
    {
      "cell_type": "code",
      "source": [
        "from sklearn.feature_selection import SelectFpr, f_classif\n",
        "\n",
        "bestfeatures_3=SelectFpr(f_classif, alpha=0.1)\n",
        "fit = bestfeatures_3.fit(X_,y_)\n",
        "dfscores = pd.DataFrame(fit.scores_)\n",
        "dfcolumns = pd.DataFrame(X_.columns)\n",
        "featureScores = pd.concat([dfcolumns,dfscores],axis=1)\n",
        "featureScores.columns = ['Specs','Score']"
      ],
      "metadata": {
        "id": "UCT592TwR7VO"
      },
      "execution_count": null,
      "outputs": []
    },
    {
      "cell_type": "code",
      "source": [],
      "metadata": {
        "id": "JtvPLa-lodJ-"
      },
      "execution_count": null,
      "outputs": []
    },
    {
      "cell_type": "markdown",
      "source": [
        "#f_regression()"
      ],
      "metadata": {
        "id": "5uIdIRoRoePp"
      }
    },
    {
      "cell_type": "code",
      "source": [
        "from sklearn.datasets import make_regression\n",
        "from sklearn.feature_selection import SelectKBest\n",
        "from sklearn.feature_selection import f_regression\n",
        "import pandas as pd\n",
        "\n",
        "# generate dataset\n",
        "X_, y_ = make_regression(n_samples=165, n_features=272, n_informative=10)\n",
        "#assign column names \n",
        "col_list = [col[x] for x in range(0,272)]\n",
        "#create a dataframe table\n",
        "df = pd.DataFrame(X_, columns=col_list)\n",
        "\n",
        "#feature selection using f_regression \n",
        "fs = SelectKBest(score_func=f_regression, k=5)\n",
        "fit = fs.fit(X_,y_)\n",
        "\n",
        "#create df for scores\n",
        "dfscores = pd.DataFrame(fit.scores_)\n",
        "#create df for column names\n",
        "dfcolumns = pd.DataFrame(df.columns)\n",
        "#concat two dataframes for better visualization \n",
        "featureScores = pd.concat([dfcolumns,dfscores],axis=1)\n",
        "#naming the dataframe columns\n",
        "featureScores.columns = ['Selected_columns','Score_pearsons'] \n",
        "\n",
        "#print 10 best features\n",
        "lyst = featureScores.nlargest(30,'Score_pearsons')"
      ],
      "metadata": {
        "id": "QR4DInIkn2xv"
      },
      "execution_count": 41,
      "outputs": []
    },
    {
      "cell_type": "code",
      "source": [
        "print(type(lyst))"
      ],
      "metadata": {
        "colab": {
          "base_uri": "https://localhost:8080/"
        },
        "id": "1FUOAbATlfXa",
        "outputId": "585611ec-9a7a-4591-9ecf-7feaba9c5516"
      },
      "execution_count": 44,
      "outputs": [
        {
          "output_type": "stream",
          "name": "stdout",
          "text": [
            "<class 'pandas.core.frame.DataFrame'>\n"
          ]
        }
      ]
    },
    {
      "cell_type": "markdown",
      "source": [
        "#ANOVA with f_classif()"
      ],
      "metadata": {
        "id": "fqKekk2Qo5Uh"
      }
    },
    {
      "cell_type": "code",
      "source": [
        "from sklearn.datasets import make_classification\n",
        "from sklearn.feature_selection import SelectKBest\n",
        "from sklearn.feature_selection import f_classif\n",
        "import pandas as pd\n",
        "\n",
        "# generate dataset\n",
        "X_, y_ = make_classification(n_samples=165, n_features=272, n_informative=10)\n",
        "#assign column names \n",
        "col_list = [col[x] for x in range(0,272)]\n",
        "#create a dataframe table\n",
        "df = pd.DataFrame(X_, columns=col_list)\n",
        "\n",
        "#feature selection using f_classif\n",
        "fs = SelectKBest(score_func=f_classif, k=5)\n",
        "fit = fs.fit(X_,y_)\n",
        "#create df for scores\n",
        "dfscores = pd.DataFrame(fit.scores_)\n",
        "#create df for column names\n",
        "dfcolumns = pd.DataFrame(df.columns)\n",
        "\n",
        "#concat two dataframes for better visualization \n",
        "featureScores = pd.concat([dfcolumns,dfscores],axis=1)\n",
        "#naming the dataframe columns\n",
        "featureScores.columns = ['Selected_columns','Score_ANOVA'] \n",
        "#print 10 best features\n",
        "\n",
        "print(featureScores.nlargest(30,'Score_ANOVA')) "
      ],
      "metadata": {
        "colab": {
          "base_uri": "https://localhost:8080/"
        },
        "id": "sHbbp3DKo446",
        "outputId": "d0894b82-ec3d-4f96-f3b3-7decb74c5381"
      },
      "execution_count": 40,
      "outputs": [
        {
          "output_type": "stream",
          "name": "stdout",
          "text": [
            "                   Selected_columns  Score_ANOVA\n",
            "176             gap_AUC_n0p1n1_50ms    36.989440\n",
            "23           n1p3_interval_gap_20ms    24.180364\n",
            "77              gap_AUC_p2n2_L_20ms    20.075593\n",
            "184             gap_AUC_n2p3_R_50ms    19.949708\n",
            "58               n2p3_gap_diff_20ms    12.336037\n",
            "208  nogap_AUC_n1p2n2_by_total_50ms    11.598571\n",
            "15           n0n2_interval_gap_20ms    11.346373\n",
            "144        n1p3_interval_nogap_50ms     7.342854\n",
            "127          n1p2_interval_gap_50ms     7.181230\n",
            "87            nogap_AUC_p2n2_R_20ms     6.820990\n",
            "109             p2_gap_peak_ms_50ms     6.478971\n",
            "161              p1n1_gap_diff_50ms     5.478112\n",
            "4               n2_gap_peak_ms_20ms     5.316229\n",
            "245         SpectralEdge_Alpha_50ms     5.094340\n",
            "235               RelativeBeta_20ms     5.051312\n",
            "143        n1n2_interval_nogap_50ms     4.859356\n",
            "68              gap_AUC_n0p1_L_20ms     4.581841\n",
            "63             n2p3_nogap_diff_20ms     4.411941\n",
            "152            n2_gap_peak_amp_50ms     4.344738\n",
            "33         p1p2_interval_nogap_20ms     4.129688\n",
            "202    gap_AUC_n1p2n2_by_total_50ms     4.072326\n",
            "48           n0_nogap_peak_amp_20ms     3.433456\n",
            "205     nogap_AUC_total_50msbs_50ms     3.387621\n",
            "249                 MeanF_Beta_50ms     3.272978\n",
            "173      p2n2_gap_no_gap_ratio_50ms     3.211290\n",
            "59             n0p1_nogap_diff_20ms     3.116545\n",
            "145        p2n2_interval_nogap_50ms     3.043366\n",
            "192           nogap_AUC_n1p2_L_50ms     2.872485\n",
            "151            p2_gap_peak_amp_50ms     2.869813\n",
            "13           n0n1_interval_gap_20ms     2.807424\n"
          ]
        }
      ]
    },
    {
      "cell_type": "markdown",
      "source": [
        "<font color='blue' size=6><b>Input</b></font>"
      ],
      "metadata": {
        "id": "eTc57btrrTet"
      }
    },
    {
      "cell_type": "code",
      "source": [
        "number_of_feat=int(input(\"Number Of Best Features: \"))"
      ],
      "metadata": {
        "colab": {
          "base_uri": "https://localhost:8080/"
        },
        "id": "v1iZQUOsqpNt",
        "outputId": "591dd58b-a4a0-4bc1-b284-7745b1b3818a"
      },
      "execution_count": null,
      "outputs": [
        {
          "name": "stdout",
          "output_type": "stream",
          "text": [
            "Number Of Best Features: 20\n"
          ]
        }
      ]
    },
    {
      "cell_type": "code",
      "source": [
        "imp=featureScores.nlargest(number_of_feat,'Score')\n",
        "print(imp)"
      ],
      "metadata": {
        "colab": {
          "base_uri": "https://localhost:8080/"
        },
        "id": "GUQOldT_0DcT",
        "outputId": "a0a71d71-a096-46ed-9115-bccb8c6270ff"
      },
      "execution_count": null,
      "outputs": [
        {
          "output_type": "stream",
          "name": "stdout",
          "text": [
            "                         Specs      Score\n",
            "182    p3_gap_peak_50msmp_50ms  29.777286\n",
            "178    p1_gap_peak_50msmp_50ms  28.943612\n",
            "207     gap_50msuc_n1p2_R_50ms  28.830587\n",
            "168   p1p2_interval_nogap_50ms  27.979853\n",
            "173   n1p3_interval_nogap_50ms  25.788322\n",
            "181    n2_gap_peak_50msmp_50ms  24.112113\n",
            "165   n0n2_interval_nogap_50ms  21.890297\n",
            "200   p2n2_gap_nogap_diff_50ms  18.730306\n",
            "73      gap_20msuc_n1p2_L_20ms  18.182582\n",
            "209     gap_50msuc_n1p2_L_50ms  17.552783\n",
            "71      gap_20msuc_n1p2_R_20ms  17.456283\n",
            "46     p3_gap_peak_20msmp_20ms  16.757489\n",
            "204     gap_50msuc_p1n1_R_50ms  16.445111\n",
            "45     n2_gap_peak_20msmp_20ms  15.906518\n",
            "42     p1_gap_peak_20msmp_20ms  15.880902\n",
            "1          n1_gap_peak_ms_20ms  15.558168\n",
            "33    p1n2_interval_nogap_20ms  15.009325\n",
            "175   p2p3_interval_nogap_50ms  14.595137\n",
            "211     gap_50msuc_n1p2n2_50ms  14.096806\n",
            "187  n2_nogap_peak_50msmp_50ms  13.753050\n"
          ]
        }
      ]
    },
    {
      "cell_type": "code",
      "source": [
        "list_of_feat=[]\n",
        "\n",
        "for i in range(number_of_feat):\n",
        "  list_of_feat.append(imp.iloc[:,0:1].values[i][0])"
      ],
      "metadata": {
        "id": "znUOWCRHqwwj"
      },
      "execution_count": null,
      "outputs": []
    },
    {
      "cell_type": "markdown",
      "source": [
        "#Filter Method (Model Based)"
      ],
      "metadata": {
        "id": "TwYIOctDZBnz"
      }
    },
    {
      "cell_type": "markdown",
      "source": [
        "<font color='blue' size=6><b>Input</b></font>"
      ],
      "metadata": {
        "id": "3rYCsZtoZcAE"
      }
    },
    {
      "cell_type": "code",
      "source": [
        "number_of_feat=int(input(\"Number Of Best Features: \"))"
      ],
      "metadata": {
        "id": "O9dg-jRSZc4z"
      },
      "execution_count": null,
      "outputs": []
    },
    {
      "cell_type": "code",
      "source": [
        "from sklearn.feature_selection import SequentialFeatureSelector\n",
        "from sklearn.neighbors import KNeighborsClassifier\n",
        "knn = KNeighborsClassifier(n_neighbors=3)\n",
        "sfs = SequentialFeatureSelector(knn, n_features_to_select=number_of_feat)\n",
        "sfs.fit(X_, y_)\n",
        "list_of_feat=[]\n",
        "list_of_feat=list(sfs.get_feature_names_out(list(dataset.iloc[:0,4:])))"
      ],
      "metadata": {
        "id": "Bes4X8B7ZIf5"
      },
      "execution_count": null,
      "outputs": []
    },
    {
      "cell_type": "markdown",
      "source": [
        "#Wrapper"
      ],
      "metadata": {
        "id": "KZ7kqLU-mZLk"
      }
    },
    {
      "cell_type": "markdown",
      "source": [
        "<font color='blue' size=6><b>Input</b></font>"
      ],
      "metadata": {
        "id": "epDMuVNOnpd7"
      }
    },
    {
      "cell_type": "code",
      "source": [
        "number_of_feat=int(input(\"Number Of Best Features: \"))"
      ],
      "metadata": {
        "colab": {
          "base_uri": "https://localhost:8080/"
        },
        "id": "WvHOrd16nqLG",
        "outputId": "d82763c5-9f59-4d57-d9c1-076f14ac93af"
      },
      "execution_count": 7,
      "outputs": [
        {
          "name": "stdout",
          "output_type": "stream",
          "text": [
            "Number Of Best Features: 20\n"
          ]
        }
      ]
    },
    {
      "cell_type": "markdown",
      "source": [
        "**Using Regression**"
      ],
      "metadata": {
        "id": "xpj5HjLvn1ZX"
      }
    },
    {
      "cell_type": "code",
      "source": [
        "!pip install joblib\n",
        "import joblib\n",
        "import sys\n",
        "sys.modules['sklearn.externals.joblib'] = joblib\n",
        "from mlxtend.feature_selection import SequentialFeatureSelector as SFS\n",
        "from sklearn.linear_model import LinearRegression\n",
        "import pandas as pd\n",
        "import numpy as np\n",
        "list_of_feat=[]\n",
        "\n",
        "\n",
        "\n",
        "sfs = SFS(LinearRegression(),\n",
        "           k_features=number_of_feat,\n",
        "           forward=True,\n",
        "           floating=False,\n",
        "           scoring = 'r2',\n",
        "           cv = 0)\n",
        "\n",
        "sfs.fit(X_, y_)\n",
        "\n",
        "df_SFS_results = pd.DataFrame(sfs.subsets_).transpose()\n",
        "\n",
        "list_of_feat=list(df_SFS_results.iloc[-1,-1])\n",
        "df_SFS_results\n"
      ],
      "metadata": {
        "id": "kU8OFZbGmYMT",
        "colab": {
          "base_uri": "https://localhost:8080/",
          "height": 711
        },
        "outputId": "f5a1f322-2383-455c-a4b7-6206e56211b6"
      },
      "execution_count": 11,
      "outputs": [
        {
          "output_type": "stream",
          "name": "stdout",
          "text": [
            "Looking in indexes: https://pypi.org/simple, https://us-python.pkg.dev/colab-wheels/public/simple/\n",
            "Requirement already satisfied: joblib in /usr/local/lib/python3.7/dist-packages (1.2.0)\n"
          ]
        },
        {
          "output_type": "execute_result",
          "data": {
            "text/plain": [
              "                                          feature_idx              cv_scores  \\\n",
              "1                                              (153,)    [0.154464703288255]   \n",
              "2                                          (146, 153)   [0.2752088220869673]   \n",
              "3                                     (146, 153, 239)  [0.32774880525687355]   \n",
              "4                                  (1, 146, 153, 239)  [0.35931491220681055]   \n",
              "5                             (1, 139, 146, 153, 239)  [0.38829739025846965]   \n",
              "6                        (1, 139, 146, 153, 239, 264)  [0.41052393827740696]   \n",
              "7                   (1, 139, 146, 153, 239, 261, 264)   [0.4408298858593468]   \n",
              "8               (1, 85, 139, 146, 153, 239, 261, 264)  [0.45513906565025586]   \n",
              "9           (1, 50, 85, 139, 146, 153, 239, 261, 264)  [0.47019318196053883]   \n",
              "10      (1, 50, 63, 85, 139, 146, 153, 239, 261, 264)  [0.48158743075132926]   \n",
              "11  (1, 50, 63, 85, 139, 146, 153, 230, 239, 261, ...  [0.49377978650540877]   \n",
              "12  (1, 50, 63, 85, 139, 146, 153, 228, 230, 239, ...   [0.5095475477158591]   \n",
              "13  (1, 50, 63, 85, 139, 146, 153, 228, 230, 239, ...   [0.5270564695189792]   \n",
              "14  (1, 39, 50, 63, 85, 139, 146, 153, 228, 230, 2...   [0.5393473893589784]   \n",
              "15  (1, 39, 50, 63, 81, 85, 139, 146, 153, 228, 23...   [0.5519016401696145]   \n",
              "16  (1, 39, 42, 50, 63, 81, 85, 139, 146, 153, 228...   [0.5637407183634064]   \n",
              "17  (1, 39, 42, 50, 63, 81, 85, 139, 146, 153, 204...   [0.5742559281541468]   \n",
              "18  (1, 39, 42, 50, 63, 81, 85, 122, 139, 146, 153...   [0.5836219655251291]   \n",
              "19  (1, 39, 42, 50, 63, 81, 85, 122, 139, 146, 153...    [0.595213783024181]   \n",
              "20  (1, 9, 39, 42, 50, 63, 81, 85, 122, 139, 146, ...   [0.6032792482892227]   \n",
              "\n",
              "   avg_score                                      feature_names  \n",
              "1   0.154465                            (p3_gap_peak_amp_50ms,)  \n",
              "2   0.275209   (p2p3_interval_nogap_50ms, p3_gap_peak_amp_50ms)  \n",
              "3   0.327749  (p2p3_interval_nogap_50ms, p3_gap_peak_amp_50m...  \n",
              "4   0.359315  (p1_gap_peak_ms_20ms, p2p3_interval_nogap_50ms...  \n",
              "5   0.388297  (p1_gap_peak_ms_20ms, p1p2_interval_nogap_50ms...  \n",
              "6   0.410524  (p1_gap_peak_ms_20ms, p1p2_interval_nogap_50ms...  \n",
              "7    0.44083  (p1_gap_peak_ms_20ms, p1p2_interval_nogap_50ms...  \n",
              "8   0.455139  (p1_gap_peak_ms_20ms, nogap_AUC_p1n1p2_20ms, p...  \n",
              "9   0.470193  (p1_gap_peak_ms_20ms, n1_nogap_peak_amp_20ms, ...  \n",
              "10  0.481587  (p1_gap_peak_ms_20ms, n1_nogap_peak_amp_20ms, ...  \n",
              "11   0.49378  (p1_gap_peak_ms_20ms, n1_nogap_peak_amp_20ms, ...  \n",
              "12  0.509548  (p1_gap_peak_ms_20ms, n1_nogap_peak_amp_20ms, ...  \n",
              "13  0.527056  (p1_gap_peak_ms_20ms, n1_nogap_peak_amp_20ms, ...  \n",
              "14  0.539347  (p1_gap_peak_ms_20ms, p2n2_interval_nogap_20ms...  \n",
              "15  0.551902  (p1_gap_peak_ms_20ms, p2n2_interval_nogap_20ms...  \n",
              "16  0.563741  (p1_gap_peak_ms_20ms, p2n2_interval_nogap_20ms...  \n",
              "17  0.574256  (p1_gap_peak_ms_20ms, p2n2_interval_nogap_20ms...  \n",
              "18  0.583622  (p1_gap_peak_ms_20ms, p2n2_interval_nogap_20ms...  \n",
              "19  0.595214  (p1_gap_peak_ms_20ms, p2n2_interval_nogap_20ms...  \n",
              "20  0.603279  (p1_gap_peak_ms_20ms, p2_nogap_peak_ms_20ms, p...  "
            ],
            "text/html": [
              "\n",
              "  <div id=\"df-70d698f0-57f5-4798-bf94-cb3c212810cb\">\n",
              "    <div class=\"colab-df-container\">\n",
              "      <div>\n",
              "<style scoped>\n",
              "    .dataframe tbody tr th:only-of-type {\n",
              "        vertical-align: middle;\n",
              "    }\n",
              "\n",
              "    .dataframe tbody tr th {\n",
              "        vertical-align: top;\n",
              "    }\n",
              "\n",
              "    .dataframe thead th {\n",
              "        text-align: right;\n",
              "    }\n",
              "</style>\n",
              "<table border=\"1\" class=\"dataframe\">\n",
              "  <thead>\n",
              "    <tr style=\"text-align: right;\">\n",
              "      <th></th>\n",
              "      <th>feature_idx</th>\n",
              "      <th>cv_scores</th>\n",
              "      <th>avg_score</th>\n",
              "      <th>feature_names</th>\n",
              "    </tr>\n",
              "  </thead>\n",
              "  <tbody>\n",
              "    <tr>\n",
              "      <th>1</th>\n",
              "      <td>(153,)</td>\n",
              "      <td>[0.154464703288255]</td>\n",
              "      <td>0.154465</td>\n",
              "      <td>(p3_gap_peak_amp_50ms,)</td>\n",
              "    </tr>\n",
              "    <tr>\n",
              "      <th>2</th>\n",
              "      <td>(146, 153)</td>\n",
              "      <td>[0.2752088220869673]</td>\n",
              "      <td>0.275209</td>\n",
              "      <td>(p2p3_interval_nogap_50ms, p3_gap_peak_amp_50ms)</td>\n",
              "    </tr>\n",
              "    <tr>\n",
              "      <th>3</th>\n",
              "      <td>(146, 153, 239)</td>\n",
              "      <td>[0.32774880525687355]</td>\n",
              "      <td>0.327749</td>\n",
              "      <td>(p2p3_interval_nogap_50ms, p3_gap_peak_amp_50m...</td>\n",
              "    </tr>\n",
              "    <tr>\n",
              "      <th>4</th>\n",
              "      <td>(1, 146, 153, 239)</td>\n",
              "      <td>[0.35931491220681055]</td>\n",
              "      <td>0.359315</td>\n",
              "      <td>(p1_gap_peak_ms_20ms, p2p3_interval_nogap_50ms...</td>\n",
              "    </tr>\n",
              "    <tr>\n",
              "      <th>5</th>\n",
              "      <td>(1, 139, 146, 153, 239)</td>\n",
              "      <td>[0.38829739025846965]</td>\n",
              "      <td>0.388297</td>\n",
              "      <td>(p1_gap_peak_ms_20ms, p1p2_interval_nogap_50ms...</td>\n",
              "    </tr>\n",
              "    <tr>\n",
              "      <th>6</th>\n",
              "      <td>(1, 139, 146, 153, 239, 264)</td>\n",
              "      <td>[0.41052393827740696]</td>\n",
              "      <td>0.410524</td>\n",
              "      <td>(p1_gap_peak_ms_20ms, p1p2_interval_nogap_50ms...</td>\n",
              "    </tr>\n",
              "    <tr>\n",
              "      <th>7</th>\n",
              "      <td>(1, 139, 146, 153, 239, 261, 264)</td>\n",
              "      <td>[0.4408298858593468]</td>\n",
              "      <td>0.44083</td>\n",
              "      <td>(p1_gap_peak_ms_20ms, p1p2_interval_nogap_50ms...</td>\n",
              "    </tr>\n",
              "    <tr>\n",
              "      <th>8</th>\n",
              "      <td>(1, 85, 139, 146, 153, 239, 261, 264)</td>\n",
              "      <td>[0.45513906565025586]</td>\n",
              "      <td>0.455139</td>\n",
              "      <td>(p1_gap_peak_ms_20ms, nogap_AUC_p1n1p2_20ms, p...</td>\n",
              "    </tr>\n",
              "    <tr>\n",
              "      <th>9</th>\n",
              "      <td>(1, 50, 85, 139, 146, 153, 239, 261, 264)</td>\n",
              "      <td>[0.47019318196053883]</td>\n",
              "      <td>0.470193</td>\n",
              "      <td>(p1_gap_peak_ms_20ms, n1_nogap_peak_amp_20ms, ...</td>\n",
              "    </tr>\n",
              "    <tr>\n",
              "      <th>10</th>\n",
              "      <td>(1, 50, 63, 85, 139, 146, 153, 239, 261, 264)</td>\n",
              "      <td>[0.48158743075132926]</td>\n",
              "      <td>0.481587</td>\n",
              "      <td>(p1_gap_peak_ms_20ms, n1_nogap_peak_amp_20ms, ...</td>\n",
              "    </tr>\n",
              "    <tr>\n",
              "      <th>11</th>\n",
              "      <td>(1, 50, 63, 85, 139, 146, 153, 230, 239, 261, ...</td>\n",
              "      <td>[0.49377978650540877]</td>\n",
              "      <td>0.49378</td>\n",
              "      <td>(p1_gap_peak_ms_20ms, n1_nogap_peak_amp_20ms, ...</td>\n",
              "    </tr>\n",
              "    <tr>\n",
              "      <th>12</th>\n",
              "      <td>(1, 50, 63, 85, 139, 146, 153, 228, 230, 239, ...</td>\n",
              "      <td>[0.5095475477158591]</td>\n",
              "      <td>0.509548</td>\n",
              "      <td>(p1_gap_peak_ms_20ms, n1_nogap_peak_amp_20ms, ...</td>\n",
              "    </tr>\n",
              "    <tr>\n",
              "      <th>13</th>\n",
              "      <td>(1, 50, 63, 85, 139, 146, 153, 228, 230, 239, ...</td>\n",
              "      <td>[0.5270564695189792]</td>\n",
              "      <td>0.527056</td>\n",
              "      <td>(p1_gap_peak_ms_20ms, n1_nogap_peak_amp_20ms, ...</td>\n",
              "    </tr>\n",
              "    <tr>\n",
              "      <th>14</th>\n",
              "      <td>(1, 39, 50, 63, 85, 139, 146, 153, 228, 230, 2...</td>\n",
              "      <td>[0.5393473893589784]</td>\n",
              "      <td>0.539347</td>\n",
              "      <td>(p1_gap_peak_ms_20ms, p2n2_interval_nogap_20ms...</td>\n",
              "    </tr>\n",
              "    <tr>\n",
              "      <th>15</th>\n",
              "      <td>(1, 39, 50, 63, 81, 85, 139, 146, 153, 228, 23...</td>\n",
              "      <td>[0.5519016401696145]</td>\n",
              "      <td>0.551902</td>\n",
              "      <td>(p1_gap_peak_ms_20ms, p2n2_interval_nogap_20ms...</td>\n",
              "    </tr>\n",
              "    <tr>\n",
              "      <th>16</th>\n",
              "      <td>(1, 39, 42, 50, 63, 81, 85, 139, 146, 153, 228...</td>\n",
              "      <td>[0.5637407183634064]</td>\n",
              "      <td>0.563741</td>\n",
              "      <td>(p1_gap_peak_ms_20ms, p2n2_interval_nogap_20ms...</td>\n",
              "    </tr>\n",
              "    <tr>\n",
              "      <th>17</th>\n",
              "      <td>(1, 39, 42, 50, 63, 81, 85, 139, 146, 153, 204...</td>\n",
              "      <td>[0.5742559281541468]</td>\n",
              "      <td>0.574256</td>\n",
              "      <td>(p1_gap_peak_ms_20ms, p2n2_interval_nogap_20ms...</td>\n",
              "    </tr>\n",
              "    <tr>\n",
              "      <th>18</th>\n",
              "      <td>(1, 39, 42, 50, 63, 81, 85, 122, 139, 146, 153...</td>\n",
              "      <td>[0.5836219655251291]</td>\n",
              "      <td>0.583622</td>\n",
              "      <td>(p1_gap_peak_ms_20ms, p2n2_interval_nogap_20ms...</td>\n",
              "    </tr>\n",
              "    <tr>\n",
              "      <th>19</th>\n",
              "      <td>(1, 39, 42, 50, 63, 81, 85, 122, 139, 146, 153...</td>\n",
              "      <td>[0.595213783024181]</td>\n",
              "      <td>0.595214</td>\n",
              "      <td>(p1_gap_peak_ms_20ms, p2n2_interval_nogap_20ms...</td>\n",
              "    </tr>\n",
              "    <tr>\n",
              "      <th>20</th>\n",
              "      <td>(1, 9, 39, 42, 50, 63, 81, 85, 122, 139, 146, ...</td>\n",
              "      <td>[0.6032792482892227]</td>\n",
              "      <td>0.603279</td>\n",
              "      <td>(p1_gap_peak_ms_20ms, p2_nogap_peak_ms_20ms, p...</td>\n",
              "    </tr>\n",
              "  </tbody>\n",
              "</table>\n",
              "</div>\n",
              "      <button class=\"colab-df-convert\" onclick=\"convertToInteractive('df-70d698f0-57f5-4798-bf94-cb3c212810cb')\"\n",
              "              title=\"Convert this dataframe to an interactive table.\"\n",
              "              style=\"display:none;\">\n",
              "        \n",
              "  <svg xmlns=\"http://www.w3.org/2000/svg\" height=\"24px\"viewBox=\"0 0 24 24\"\n",
              "       width=\"24px\">\n",
              "    <path d=\"M0 0h24v24H0V0z\" fill=\"none\"/>\n",
              "    <path d=\"M18.56 5.44l.94 2.06.94-2.06 2.06-.94-2.06-.94-.94-2.06-.94 2.06-2.06.94zm-11 1L8.5 8.5l.94-2.06 2.06-.94-2.06-.94L8.5 2.5l-.94 2.06-2.06.94zm10 10l.94 2.06.94-2.06 2.06-.94-2.06-.94-.94-2.06-.94 2.06-2.06.94z\"/><path d=\"M17.41 7.96l-1.37-1.37c-.4-.4-.92-.59-1.43-.59-.52 0-1.04.2-1.43.59L10.3 9.45l-7.72 7.72c-.78.78-.78 2.05 0 2.83L4 21.41c.39.39.9.59 1.41.59.51 0 1.02-.2 1.41-.59l7.78-7.78 2.81-2.81c.8-.78.8-2.07 0-2.86zM5.41 20L4 18.59l7.72-7.72 1.47 1.35L5.41 20z\"/>\n",
              "  </svg>\n",
              "      </button>\n",
              "      \n",
              "  <style>\n",
              "    .colab-df-container {\n",
              "      display:flex;\n",
              "      flex-wrap:wrap;\n",
              "      gap: 12px;\n",
              "    }\n",
              "\n",
              "    .colab-df-convert {\n",
              "      background-color: #E8F0FE;\n",
              "      border: none;\n",
              "      border-radius: 50%;\n",
              "      cursor: pointer;\n",
              "      display: none;\n",
              "      fill: #1967D2;\n",
              "      height: 32px;\n",
              "      padding: 0 0 0 0;\n",
              "      width: 32px;\n",
              "    }\n",
              "\n",
              "    .colab-df-convert:hover {\n",
              "      background-color: #E2EBFA;\n",
              "      box-shadow: 0px 1px 2px rgba(60, 64, 67, 0.3), 0px 1px 3px 1px rgba(60, 64, 67, 0.15);\n",
              "      fill: #174EA6;\n",
              "    }\n",
              "\n",
              "    [theme=dark] .colab-df-convert {\n",
              "      background-color: #3B4455;\n",
              "      fill: #D2E3FC;\n",
              "    }\n",
              "\n",
              "    [theme=dark] .colab-df-convert:hover {\n",
              "      background-color: #434B5C;\n",
              "      box-shadow: 0px 1px 3px 1px rgba(0, 0, 0, 0.15);\n",
              "      filter: drop-shadow(0px 1px 2px rgba(0, 0, 0, 0.3));\n",
              "      fill: #FFFFFF;\n",
              "    }\n",
              "  </style>\n",
              "\n",
              "      <script>\n",
              "        const buttonEl =\n",
              "          document.querySelector('#df-70d698f0-57f5-4798-bf94-cb3c212810cb button.colab-df-convert');\n",
              "        buttonEl.style.display =\n",
              "          google.colab.kernel.accessAllowed ? 'block' : 'none';\n",
              "\n",
              "        async function convertToInteractive(key) {\n",
              "          const element = document.querySelector('#df-70d698f0-57f5-4798-bf94-cb3c212810cb');\n",
              "          const dataTable =\n",
              "            await google.colab.kernel.invokeFunction('convertToInteractive',\n",
              "                                                     [key], {});\n",
              "          if (!dataTable) return;\n",
              "\n",
              "          const docLinkHtml = 'Like what you see? Visit the ' +\n",
              "            '<a target=\"_blank\" href=https://colab.research.google.com/notebooks/data_table.ipynb>data table notebook</a>'\n",
              "            + ' to learn more about interactive tables.';\n",
              "          element.innerHTML = '';\n",
              "          dataTable['output_type'] = 'display_data';\n",
              "          await google.colab.output.renderOutput(dataTable, element);\n",
              "          const docLink = document.createElement('div');\n",
              "          docLink.innerHTML = docLinkHtml;\n",
              "          element.appendChild(docLink);\n",
              "        }\n",
              "      </script>\n",
              "    </div>\n",
              "  </div>\n",
              "  "
            ]
          },
          "metadata": {},
          "execution_count": 11
        }
      ]
    },
    {
      "cell_type": "markdown",
      "source": [
        "**RandomForestRegressor**"
      ],
      "metadata": {
        "id": "ongjQGHzn7Ec"
      }
    },
    {
      "cell_type": "code",
      "source": [
        "!pip install joblib\n",
        "import joblib\n",
        "import sys\n",
        "sys.modules['sklearn.externals.joblib'] = joblib\n",
        "from mlxtend.feature_selection import SequentialFeatureSelector as SFS\n",
        "from sklearn.ensemble import RandomForestRegressor, RandomForestClassifier\n",
        "import pandas as pd\n",
        "import numpy as np\n",
        "list_of_feat=[]\n",
        "\n",
        "\n",
        "\n",
        "sfs = SFS(RandomForestClassifier(),\n",
        "           k_features=number_of_feat,\n",
        "           forward=True,\n",
        "           floating=False,\n",
        "           scoring = 'r2',\n",
        "           cv = 0)\n",
        "\n",
        "sfs.fit(X_, y_)\n",
        "\n",
        "df_SFS_results = pd.DataFrame(sfs.subsets_).transpose()\n",
        "\n",
        "list_of_feat=list(df_SFS_results.iloc[-1,-1])\n",
        "df_SFS_results\n"
      ],
      "metadata": {
        "colab": {
          "base_uri": "https://localhost:8080/",
          "height": 711
        },
        "id": "W-uvuZqInz-X",
        "outputId": "2a41b011-2e08-44fd-f247-12cb1ada753b"
      },
      "execution_count": 12,
      "outputs": [
        {
          "output_type": "stream",
          "name": "stdout",
          "text": [
            "Looking in indexes: https://pypi.org/simple, https://us-python.pkg.dev/colab-wheels/public/simple/\n",
            "Requirement already satisfied: joblib in /usr/local/lib/python3.7/dist-packages (1.2.0)\n"
          ]
        },
        {
          "output_type": "execute_result",
          "data": {
            "text/plain": [
              "                                          feature_idx cv_scores avg_score  \\\n",
              "1                                               (30,)     [1.0]       1.0   \n",
              "2                                             (0, 30)     [1.0]       1.0   \n",
              "3                                          (0, 1, 30)     [1.0]       1.0   \n",
              "4                                       (0, 1, 2, 30)     [1.0]       1.0   \n",
              "5                                    (0, 1, 2, 3, 30)     [1.0]       1.0   \n",
              "6                                 (0, 1, 2, 3, 4, 30)     [1.0]       1.0   \n",
              "7                              (0, 1, 2, 3, 4, 5, 30)     [1.0]       1.0   \n",
              "8                           (0, 1, 2, 3, 4, 5, 6, 30)     [1.0]       1.0   \n",
              "9                        (0, 1, 2, 3, 4, 5, 6, 7, 30)     [1.0]       1.0   \n",
              "10                    (0, 1, 2, 3, 4, 5, 6, 7, 8, 30)     [1.0]       1.0   \n",
              "11                 (0, 1, 2, 3, 4, 5, 6, 7, 8, 9, 30)     [1.0]       1.0   \n",
              "12             (0, 1, 2, 3, 4, 5, 6, 7, 8, 9, 10, 30)     [1.0]       1.0   \n",
              "13         (0, 1, 2, 3, 4, 5, 6, 7, 8, 9, 10, 11, 30)     [1.0]       1.0   \n",
              "14     (0, 1, 2, 3, 4, 5, 6, 7, 8, 9, 10, 11, 12, 30)     [1.0]       1.0   \n",
              "15  (0, 1, 2, 3, 4, 5, 6, 7, 8, 9, 10, 11, 12, 13,...     [1.0]       1.0   \n",
              "16  (0, 1, 2, 3, 4, 5, 6, 7, 8, 9, 10, 11, 12, 13,...     [1.0]       1.0   \n",
              "17  (0, 1, 2, 3, 4, 5, 6, 7, 8, 9, 10, 11, 12, 13,...     [1.0]       1.0   \n",
              "18  (0, 1, 2, 3, 4, 5, 6, 7, 8, 9, 10, 11, 12, 13,...     [1.0]       1.0   \n",
              "19  (0, 1, 2, 3, 4, 5, 6, 7, 8, 9, 10, 11, 12, 13,...     [1.0]       1.0   \n",
              "20  (0, 1, 2, 3, 4, 5, 6, 7, 8, 9, 10, 11, 12, 13,...     [1.0]       1.0   \n",
              "\n",
              "                                        feature_names  \n",
              "1                         (n0n2_interval_nogap_20ms,)  \n",
              "2     (n0_gap_peak_ms_20ms, n0n2_interval_nogap_20ms)  \n",
              "3   (n0_gap_peak_ms_20ms, p1_gap_peak_ms_20ms, n0n...  \n",
              "4   (n0_gap_peak_ms_20ms, p1_gap_peak_ms_20ms, n1_...  \n",
              "5   (n0_gap_peak_ms_20ms, p1_gap_peak_ms_20ms, n1_...  \n",
              "6   (n0_gap_peak_ms_20ms, p1_gap_peak_ms_20ms, n1_...  \n",
              "7   (n0_gap_peak_ms_20ms, p1_gap_peak_ms_20ms, n1_...  \n",
              "8   (n0_gap_peak_ms_20ms, p1_gap_peak_ms_20ms, n1_...  \n",
              "9   (n0_gap_peak_ms_20ms, p1_gap_peak_ms_20ms, n1_...  \n",
              "10  (n0_gap_peak_ms_20ms, p1_gap_peak_ms_20ms, n1_...  \n",
              "11  (n0_gap_peak_ms_20ms, p1_gap_peak_ms_20ms, n1_...  \n",
              "12  (n0_gap_peak_ms_20ms, p1_gap_peak_ms_20ms, n1_...  \n",
              "13  (n0_gap_peak_ms_20ms, p1_gap_peak_ms_20ms, n1_...  \n",
              "14  (n0_gap_peak_ms_20ms, p1_gap_peak_ms_20ms, n1_...  \n",
              "15  (n0_gap_peak_ms_20ms, p1_gap_peak_ms_20ms, n1_...  \n",
              "16  (n0_gap_peak_ms_20ms, p1_gap_peak_ms_20ms, n1_...  \n",
              "17  (n0_gap_peak_ms_20ms, p1_gap_peak_ms_20ms, n1_...  \n",
              "18  (n0_gap_peak_ms_20ms, p1_gap_peak_ms_20ms, n1_...  \n",
              "19  (n0_gap_peak_ms_20ms, p1_gap_peak_ms_20ms, n1_...  \n",
              "20  (n0_gap_peak_ms_20ms, p1_gap_peak_ms_20ms, n1_...  "
            ],
            "text/html": [
              "\n",
              "  <div id=\"df-337af5a4-4a04-4862-b13f-1837f4044717\">\n",
              "    <div class=\"colab-df-container\">\n",
              "      <div>\n",
              "<style scoped>\n",
              "    .dataframe tbody tr th:only-of-type {\n",
              "        vertical-align: middle;\n",
              "    }\n",
              "\n",
              "    .dataframe tbody tr th {\n",
              "        vertical-align: top;\n",
              "    }\n",
              "\n",
              "    .dataframe thead th {\n",
              "        text-align: right;\n",
              "    }\n",
              "</style>\n",
              "<table border=\"1\" class=\"dataframe\">\n",
              "  <thead>\n",
              "    <tr style=\"text-align: right;\">\n",
              "      <th></th>\n",
              "      <th>feature_idx</th>\n",
              "      <th>cv_scores</th>\n",
              "      <th>avg_score</th>\n",
              "      <th>feature_names</th>\n",
              "    </tr>\n",
              "  </thead>\n",
              "  <tbody>\n",
              "    <tr>\n",
              "      <th>1</th>\n",
              "      <td>(30,)</td>\n",
              "      <td>[1.0]</td>\n",
              "      <td>1.0</td>\n",
              "      <td>(n0n2_interval_nogap_20ms,)</td>\n",
              "    </tr>\n",
              "    <tr>\n",
              "      <th>2</th>\n",
              "      <td>(0, 30)</td>\n",
              "      <td>[1.0]</td>\n",
              "      <td>1.0</td>\n",
              "      <td>(n0_gap_peak_ms_20ms, n0n2_interval_nogap_20ms)</td>\n",
              "    </tr>\n",
              "    <tr>\n",
              "      <th>3</th>\n",
              "      <td>(0, 1, 30)</td>\n",
              "      <td>[1.0]</td>\n",
              "      <td>1.0</td>\n",
              "      <td>(n0_gap_peak_ms_20ms, p1_gap_peak_ms_20ms, n0n...</td>\n",
              "    </tr>\n",
              "    <tr>\n",
              "      <th>4</th>\n",
              "      <td>(0, 1, 2, 30)</td>\n",
              "      <td>[1.0]</td>\n",
              "      <td>1.0</td>\n",
              "      <td>(n0_gap_peak_ms_20ms, p1_gap_peak_ms_20ms, n1_...</td>\n",
              "    </tr>\n",
              "    <tr>\n",
              "      <th>5</th>\n",
              "      <td>(0, 1, 2, 3, 30)</td>\n",
              "      <td>[1.0]</td>\n",
              "      <td>1.0</td>\n",
              "      <td>(n0_gap_peak_ms_20ms, p1_gap_peak_ms_20ms, n1_...</td>\n",
              "    </tr>\n",
              "    <tr>\n",
              "      <th>6</th>\n",
              "      <td>(0, 1, 2, 3, 4, 30)</td>\n",
              "      <td>[1.0]</td>\n",
              "      <td>1.0</td>\n",
              "      <td>(n0_gap_peak_ms_20ms, p1_gap_peak_ms_20ms, n1_...</td>\n",
              "    </tr>\n",
              "    <tr>\n",
              "      <th>7</th>\n",
              "      <td>(0, 1, 2, 3, 4, 5, 30)</td>\n",
              "      <td>[1.0]</td>\n",
              "      <td>1.0</td>\n",
              "      <td>(n0_gap_peak_ms_20ms, p1_gap_peak_ms_20ms, n1_...</td>\n",
              "    </tr>\n",
              "    <tr>\n",
              "      <th>8</th>\n",
              "      <td>(0, 1, 2, 3, 4, 5, 6, 30)</td>\n",
              "      <td>[1.0]</td>\n",
              "      <td>1.0</td>\n",
              "      <td>(n0_gap_peak_ms_20ms, p1_gap_peak_ms_20ms, n1_...</td>\n",
              "    </tr>\n",
              "    <tr>\n",
              "      <th>9</th>\n",
              "      <td>(0, 1, 2, 3, 4, 5, 6, 7, 30)</td>\n",
              "      <td>[1.0]</td>\n",
              "      <td>1.0</td>\n",
              "      <td>(n0_gap_peak_ms_20ms, p1_gap_peak_ms_20ms, n1_...</td>\n",
              "    </tr>\n",
              "    <tr>\n",
              "      <th>10</th>\n",
              "      <td>(0, 1, 2, 3, 4, 5, 6, 7, 8, 30)</td>\n",
              "      <td>[1.0]</td>\n",
              "      <td>1.0</td>\n",
              "      <td>(n0_gap_peak_ms_20ms, p1_gap_peak_ms_20ms, n1_...</td>\n",
              "    </tr>\n",
              "    <tr>\n",
              "      <th>11</th>\n",
              "      <td>(0, 1, 2, 3, 4, 5, 6, 7, 8, 9, 30)</td>\n",
              "      <td>[1.0]</td>\n",
              "      <td>1.0</td>\n",
              "      <td>(n0_gap_peak_ms_20ms, p1_gap_peak_ms_20ms, n1_...</td>\n",
              "    </tr>\n",
              "    <tr>\n",
              "      <th>12</th>\n",
              "      <td>(0, 1, 2, 3, 4, 5, 6, 7, 8, 9, 10, 30)</td>\n",
              "      <td>[1.0]</td>\n",
              "      <td>1.0</td>\n",
              "      <td>(n0_gap_peak_ms_20ms, p1_gap_peak_ms_20ms, n1_...</td>\n",
              "    </tr>\n",
              "    <tr>\n",
              "      <th>13</th>\n",
              "      <td>(0, 1, 2, 3, 4, 5, 6, 7, 8, 9, 10, 11, 30)</td>\n",
              "      <td>[1.0]</td>\n",
              "      <td>1.0</td>\n",
              "      <td>(n0_gap_peak_ms_20ms, p1_gap_peak_ms_20ms, n1_...</td>\n",
              "    </tr>\n",
              "    <tr>\n",
              "      <th>14</th>\n",
              "      <td>(0, 1, 2, 3, 4, 5, 6, 7, 8, 9, 10, 11, 12, 30)</td>\n",
              "      <td>[1.0]</td>\n",
              "      <td>1.0</td>\n",
              "      <td>(n0_gap_peak_ms_20ms, p1_gap_peak_ms_20ms, n1_...</td>\n",
              "    </tr>\n",
              "    <tr>\n",
              "      <th>15</th>\n",
              "      <td>(0, 1, 2, 3, 4, 5, 6, 7, 8, 9, 10, 11, 12, 13,...</td>\n",
              "      <td>[1.0]</td>\n",
              "      <td>1.0</td>\n",
              "      <td>(n0_gap_peak_ms_20ms, p1_gap_peak_ms_20ms, n1_...</td>\n",
              "    </tr>\n",
              "    <tr>\n",
              "      <th>16</th>\n",
              "      <td>(0, 1, 2, 3, 4, 5, 6, 7, 8, 9, 10, 11, 12, 13,...</td>\n",
              "      <td>[1.0]</td>\n",
              "      <td>1.0</td>\n",
              "      <td>(n0_gap_peak_ms_20ms, p1_gap_peak_ms_20ms, n1_...</td>\n",
              "    </tr>\n",
              "    <tr>\n",
              "      <th>17</th>\n",
              "      <td>(0, 1, 2, 3, 4, 5, 6, 7, 8, 9, 10, 11, 12, 13,...</td>\n",
              "      <td>[1.0]</td>\n",
              "      <td>1.0</td>\n",
              "      <td>(n0_gap_peak_ms_20ms, p1_gap_peak_ms_20ms, n1_...</td>\n",
              "    </tr>\n",
              "    <tr>\n",
              "      <th>18</th>\n",
              "      <td>(0, 1, 2, 3, 4, 5, 6, 7, 8, 9, 10, 11, 12, 13,...</td>\n",
              "      <td>[1.0]</td>\n",
              "      <td>1.0</td>\n",
              "      <td>(n0_gap_peak_ms_20ms, p1_gap_peak_ms_20ms, n1_...</td>\n",
              "    </tr>\n",
              "    <tr>\n",
              "      <th>19</th>\n",
              "      <td>(0, 1, 2, 3, 4, 5, 6, 7, 8, 9, 10, 11, 12, 13,...</td>\n",
              "      <td>[1.0]</td>\n",
              "      <td>1.0</td>\n",
              "      <td>(n0_gap_peak_ms_20ms, p1_gap_peak_ms_20ms, n1_...</td>\n",
              "    </tr>\n",
              "    <tr>\n",
              "      <th>20</th>\n",
              "      <td>(0, 1, 2, 3, 4, 5, 6, 7, 8, 9, 10, 11, 12, 13,...</td>\n",
              "      <td>[1.0]</td>\n",
              "      <td>1.0</td>\n",
              "      <td>(n0_gap_peak_ms_20ms, p1_gap_peak_ms_20ms, n1_...</td>\n",
              "    </tr>\n",
              "  </tbody>\n",
              "</table>\n",
              "</div>\n",
              "      <button class=\"colab-df-convert\" onclick=\"convertToInteractive('df-337af5a4-4a04-4862-b13f-1837f4044717')\"\n",
              "              title=\"Convert this dataframe to an interactive table.\"\n",
              "              style=\"display:none;\">\n",
              "        \n",
              "  <svg xmlns=\"http://www.w3.org/2000/svg\" height=\"24px\"viewBox=\"0 0 24 24\"\n",
              "       width=\"24px\">\n",
              "    <path d=\"M0 0h24v24H0V0z\" fill=\"none\"/>\n",
              "    <path d=\"M18.56 5.44l.94 2.06.94-2.06 2.06-.94-2.06-.94-.94-2.06-.94 2.06-2.06.94zm-11 1L8.5 8.5l.94-2.06 2.06-.94-2.06-.94L8.5 2.5l-.94 2.06-2.06.94zm10 10l.94 2.06.94-2.06 2.06-.94-2.06-.94-.94-2.06-.94 2.06-2.06.94z\"/><path d=\"M17.41 7.96l-1.37-1.37c-.4-.4-.92-.59-1.43-.59-.52 0-1.04.2-1.43.59L10.3 9.45l-7.72 7.72c-.78.78-.78 2.05 0 2.83L4 21.41c.39.39.9.59 1.41.59.51 0 1.02-.2 1.41-.59l7.78-7.78 2.81-2.81c.8-.78.8-2.07 0-2.86zM5.41 20L4 18.59l7.72-7.72 1.47 1.35L5.41 20z\"/>\n",
              "  </svg>\n",
              "      </button>\n",
              "      \n",
              "  <style>\n",
              "    .colab-df-container {\n",
              "      display:flex;\n",
              "      flex-wrap:wrap;\n",
              "      gap: 12px;\n",
              "    }\n",
              "\n",
              "    .colab-df-convert {\n",
              "      background-color: #E8F0FE;\n",
              "      border: none;\n",
              "      border-radius: 50%;\n",
              "      cursor: pointer;\n",
              "      display: none;\n",
              "      fill: #1967D2;\n",
              "      height: 32px;\n",
              "      padding: 0 0 0 0;\n",
              "      width: 32px;\n",
              "    }\n",
              "\n",
              "    .colab-df-convert:hover {\n",
              "      background-color: #E2EBFA;\n",
              "      box-shadow: 0px 1px 2px rgba(60, 64, 67, 0.3), 0px 1px 3px 1px rgba(60, 64, 67, 0.15);\n",
              "      fill: #174EA6;\n",
              "    }\n",
              "\n",
              "    [theme=dark] .colab-df-convert {\n",
              "      background-color: #3B4455;\n",
              "      fill: #D2E3FC;\n",
              "    }\n",
              "\n",
              "    [theme=dark] .colab-df-convert:hover {\n",
              "      background-color: #434B5C;\n",
              "      box-shadow: 0px 1px 3px 1px rgba(0, 0, 0, 0.15);\n",
              "      filter: drop-shadow(0px 1px 2px rgba(0, 0, 0, 0.3));\n",
              "      fill: #FFFFFF;\n",
              "    }\n",
              "  </style>\n",
              "\n",
              "      <script>\n",
              "        const buttonEl =\n",
              "          document.querySelector('#df-337af5a4-4a04-4862-b13f-1837f4044717 button.colab-df-convert');\n",
              "        buttonEl.style.display =\n",
              "          google.colab.kernel.accessAllowed ? 'block' : 'none';\n",
              "\n",
              "        async function convertToInteractive(key) {\n",
              "          const element = document.querySelector('#df-337af5a4-4a04-4862-b13f-1837f4044717');\n",
              "          const dataTable =\n",
              "            await google.colab.kernel.invokeFunction('convertToInteractive',\n",
              "                                                     [key], {});\n",
              "          if (!dataTable) return;\n",
              "\n",
              "          const docLinkHtml = 'Like what you see? Visit the ' +\n",
              "            '<a target=\"_blank\" href=https://colab.research.google.com/notebooks/data_table.ipynb>data table notebook</a>'\n",
              "            + ' to learn more about interactive tables.';\n",
              "          element.innerHTML = '';\n",
              "          dataTable['output_type'] = 'display_data';\n",
              "          await google.colab.output.renderOutput(dataTable, element);\n",
              "          const docLink = document.createElement('div');\n",
              "          docLink.innerHTML = docLinkHtml;\n",
              "          element.appendChild(docLink);\n",
              "        }\n",
              "      </script>\n",
              "    </div>\n",
              "  </div>\n",
              "  "
            ]
          },
          "metadata": {},
          "execution_count": 12
        }
      ]
    },
    {
      "cell_type": "markdown",
      "source": [
        "#Embedded"
      ],
      "metadata": {
        "id": "fXiiWP5rqNUR"
      }
    },
    {
      "cell_type": "code",
      "source": [
        "from sklearn.linear_model import LassoCV\n",
        "reg = LassoCV()\n",
        "reg.fit(X_, y_)\n",
        "print(\"Best alpha using built-in LassoCV: %f\" % reg.alpha_)\n",
        "print(\"Best score using built-in LassoCV: %f\" %reg.score(X_,y_))\n",
        "coef = pd.Series(reg.coef_, index = X_.columns)\n",
        "\n",
        "print(\"Lasso picked \" + str(sum(coef != 0)) + \" variables and eliminated the other \" +  str(sum(coef == 0)) + \" variables\")\n",
        "\n",
        "imp_coef = coef.sort_values()\n",
        "\n",
        "list_of_feat=[]\n",
        "\n",
        "\n",
        "for i in range(coef.shape[0]):\n",
        "  if coef[i]!=0:\n",
        "    list_of_feat.append(dataset.iloc[:0,i+3].name)\n",
        "    \n",
        "print(list_of_feat)"
      ],
      "metadata": {
        "colab": {
          "base_uri": "https://localhost:8080/"
        },
        "id": "Um6iR-HzqTBc",
        "outputId": "4539c2b9-39e0-4e9e-80e8-6b13fe0687fe"
      },
      "execution_count": 10,
      "outputs": [
        {
          "output_type": "stream",
          "name": "stdout",
          "text": [
            "Best alpha using built-in LassoCV: 1.743685\n",
            "Best score using built-in LassoCV: 0.325692\n",
            "Lasso picked 18 variables and eliminated the other 254 variables\n",
            "['n2_nogap_peak_ms_20ms', 'n2p3_gap_diff_20ms', 'gap_AUC_p1n1_R_20ms', 'gap_AUC_p1n1_L_20ms', 'gap_AUC_p2n2_R_20ms', 'gap_AUC_n1p2n2_20ms', 'n0p3_interval_gap_50ms', 'n2_nogap_peak_amp_50ms', 'n0p1_gap_diff_50ms', 'n1p2_gap_diff_50ms', 'p2n2_gap_diff_50ms', 'n2p3_gap_diff_50ms', 'p1n1_nogap_diff_50ms', 'n1p2_nogap_diff_50ms', 'gap_AUC_p1n1_R_50ms', 'gap_AUC_n0p1n1_50ms', 'gap_AUC_p1n1_L_50ms', 'gap_AUC_n1p2n2_50ms']\n"
          ]
        }
      ]
    },
    {
      "cell_type": "markdown",
      "source": [
        "#NCA"
      ],
      "metadata": {
        "id": "va-a9pcIgya3"
      }
    },
    {
      "cell_type": "code",
      "source": [
        "import numpy as np\n",
        "import matplotlib.pyplot as plt\n",
        "from sklearn import datasets\n",
        "from sklearn.model_selection import train_test_split\n",
        "from sklearn.decomposition import PCA\n",
        "from sklearn.discriminant_analysis import LinearDiscriminantAnalysis\n",
        "from sklearn.neighbors import KNeighborsClassifier, NeighborhoodComponentsAnalysis\n",
        "from sklearn.pipeline import make_pipeline\n",
        "from sklearn.preprocessing import StandardScaler\n",
        "\n",
        "n_neighbors = 3\n",
        "random_state = 0\n",
        "\n",
        "# Load Digits dataset\n",
        "\n",
        "# Split into train/test\n",
        "from sklearn.model_selection import train_test_split\n",
        "X_train, X_test, y_train, y_test = train_test_split(X_, y_, test_size = 0.2, random_state = 0)\n",
        "\n",
        "dim = 164\n",
        "n_classes = len(np.unique(y_))\n",
        "\n",
        "# Reduce dimension to 2 with PCA\n",
        "pca = make_pipeline(StandardScaler(), PCA(n_components=2, random_state=random_state))\n",
        "\n",
        "# Reduce dimension to 2 with LinearDiscriminantAnalysis\n",
        "lda = make_pipeline(StandardScaler(), LinearDiscriminantAnalysis(n_components=2))\n",
        "\n",
        "# Reduce dimension to 2 with NeighborhoodComponentAnalysis\n",
        "nca = make_pipeline(\n",
        "    StandardScaler(),\n",
        "    NeighborhoodComponentsAnalysis(n_components=2, random_state=random_state),\n",
        ")\n",
        "\n",
        "# Use a nearest neighbor classifier to evaluate the methods\n",
        "knn = KNeighborsClassifier(n_neighbors=n_neighbors)\n",
        "\n",
        "# Make a list of the methods to be compared\n",
        "dim_reduction_methods = [(\"PCA\", pca), (\"LDA\", lda), (\"NCA\", nca)]\n",
        "\n",
        "# plt.figure()\n",
        "for i, (name, model) in enumerate(dim_reduction_methods):\n",
        "    plt.figure()\n",
        "    # plt.subplot(1, 3, i + 1, aspect=1)\n",
        "\n",
        "    # Fit the method's model\n",
        "    model.fit(X_train, y_train)\n",
        "\n",
        "    # Fit a nearest neighbor classifier on the embedded training set\n",
        "    knn.fit(model.transform(X_train), y_train)\n",
        "\n",
        "    # Compute the nearest neighbor accuracy on the embedded test set\n",
        "    acc_knn = knn.score(model.transform(X_test), y_test)\n",
        "\n",
        "    # Embed the data set in 2 dimensions using the fitted model\n",
        "    X_embedded = model.transform(X_)\n",
        "\n",
        "    # Plot the projected points and show the evaluation score\n",
        "    plt.scatter(X_embedded[:, 0], X_embedded[:, 1], c=y_, s=30, cmap=\"Set1\")\n",
        "    plt.title(\n",
        "        \"{}, KNN (k={})\\nTest accuracy = {:.2f}\".format(name, n_neighbors, acc_knn)\n",
        "    )\n",
        "plt.show()"
      ],
      "metadata": {
        "colab": {
          "base_uri": "https://localhost:8080/",
          "height": 677
        },
        "id": "CfSxz-cLfqGu",
        "outputId": "4763939a-ef43-4f6e-92c6-64c988a30c2c"
      },
      "execution_count": 18,
      "outputs": [
        {
          "output_type": "error",
          "ename": "ValueError",
          "evalue": "ignored",
          "traceback": [
            "\u001b[0;31m---------------------------------------------------------------------------\u001b[0m",
            "\u001b[0;31mValueError\u001b[0m                                Traceback (most recent call last)",
            "\u001b[0;32m<ipython-input-18-b6c73eec1e2d>\u001b[0m in \u001b[0;36m<module>\u001b[0;34m\u001b[0m\n\u001b[1;32m     45\u001b[0m \u001b[0;34m\u001b[0m\u001b[0m\n\u001b[1;32m     46\u001b[0m     \u001b[0;31m# Fit the method's model\u001b[0m\u001b[0;34m\u001b[0m\u001b[0;34m\u001b[0m\u001b[0;34m\u001b[0m\u001b[0m\n\u001b[0;32m---> 47\u001b[0;31m     \u001b[0mmodel\u001b[0m\u001b[0;34m.\u001b[0m\u001b[0mfit\u001b[0m\u001b[0;34m(\u001b[0m\u001b[0mX_train\u001b[0m\u001b[0;34m,\u001b[0m \u001b[0my_train\u001b[0m\u001b[0;34m)\u001b[0m\u001b[0;34m\u001b[0m\u001b[0;34m\u001b[0m\u001b[0m\n\u001b[0m\u001b[1;32m     48\u001b[0m \u001b[0;34m\u001b[0m\u001b[0m\n\u001b[1;32m     49\u001b[0m     \u001b[0;31m# Fit a nearest neighbor classifier on the embedded training set\u001b[0m\u001b[0;34m\u001b[0m\u001b[0;34m\u001b[0m\u001b[0;34m\u001b[0m\u001b[0m\n",
            "\u001b[0;32m/usr/local/lib/python3.7/dist-packages/sklearn/pipeline.py\u001b[0m in \u001b[0;36mfit\u001b[0;34m(self, X, y, **fit_params)\u001b[0m\n\u001b[1;32m    392\u001b[0m             \u001b[0;32mif\u001b[0m \u001b[0mself\u001b[0m\u001b[0;34m.\u001b[0m\u001b[0m_final_estimator\u001b[0m \u001b[0;34m!=\u001b[0m \u001b[0;34m\"passthrough\"\u001b[0m\u001b[0;34m:\u001b[0m\u001b[0;34m\u001b[0m\u001b[0;34m\u001b[0m\u001b[0m\n\u001b[1;32m    393\u001b[0m                 \u001b[0mfit_params_last_step\u001b[0m \u001b[0;34m=\u001b[0m \u001b[0mfit_params_steps\u001b[0m\u001b[0;34m[\u001b[0m\u001b[0mself\u001b[0m\u001b[0;34m.\u001b[0m\u001b[0msteps\u001b[0m\u001b[0;34m[\u001b[0m\u001b[0;34m-\u001b[0m\u001b[0;36m1\u001b[0m\u001b[0;34m]\u001b[0m\u001b[0;34m[\u001b[0m\u001b[0;36m0\u001b[0m\u001b[0;34m]\u001b[0m\u001b[0;34m]\u001b[0m\u001b[0;34m\u001b[0m\u001b[0;34m\u001b[0m\u001b[0m\n\u001b[0;32m--> 394\u001b[0;31m                 \u001b[0mself\u001b[0m\u001b[0;34m.\u001b[0m\u001b[0m_final_estimator\u001b[0m\u001b[0;34m.\u001b[0m\u001b[0mfit\u001b[0m\u001b[0;34m(\u001b[0m\u001b[0mXt\u001b[0m\u001b[0;34m,\u001b[0m \u001b[0my\u001b[0m\u001b[0;34m,\u001b[0m \u001b[0;34m**\u001b[0m\u001b[0mfit_params_last_step\u001b[0m\u001b[0;34m)\u001b[0m\u001b[0;34m\u001b[0m\u001b[0;34m\u001b[0m\u001b[0m\n\u001b[0m\u001b[1;32m    395\u001b[0m \u001b[0;34m\u001b[0m\u001b[0m\n\u001b[1;32m    396\u001b[0m         \u001b[0;32mreturn\u001b[0m \u001b[0mself\u001b[0m\u001b[0;34m\u001b[0m\u001b[0;34m\u001b[0m\u001b[0m\n",
            "\u001b[0;32m/usr/local/lib/python3.7/dist-packages/sklearn/discriminant_analysis.py\u001b[0m in \u001b[0;36mfit\u001b[0;34m(self, X, y)\u001b[0m\n\u001b[1;32m    575\u001b[0m             \u001b[0;32mif\u001b[0m \u001b[0mself\u001b[0m\u001b[0;34m.\u001b[0m\u001b[0mn_components\u001b[0m \u001b[0;34m>\u001b[0m \u001b[0mmax_components\u001b[0m\u001b[0;34m:\u001b[0m\u001b[0;34m\u001b[0m\u001b[0;34m\u001b[0m\u001b[0m\n\u001b[1;32m    576\u001b[0m                 raise ValueError(\n\u001b[0;32m--> 577\u001b[0;31m                     \u001b[0;34m\"n_components cannot be larger than min(n_features, n_classes - 1).\"\u001b[0m\u001b[0;34m\u001b[0m\u001b[0;34m\u001b[0m\u001b[0m\n\u001b[0m\u001b[1;32m    578\u001b[0m                 )\n\u001b[1;32m    579\u001b[0m             \u001b[0mself\u001b[0m\u001b[0;34m.\u001b[0m\u001b[0m_max_components\u001b[0m \u001b[0;34m=\u001b[0m \u001b[0mself\u001b[0m\u001b[0;34m.\u001b[0m\u001b[0mn_components\u001b[0m\u001b[0;34m\u001b[0m\u001b[0;34m\u001b[0m\u001b[0m\n",
            "\u001b[0;31mValueError\u001b[0m: n_components cannot be larger than min(n_features, n_classes - 1)."
          ]
        },
        {
          "output_type": "display_data",
          "data": {
            "text/plain": [
              "<Figure size 432x288 with 1 Axes>"
            ],
            "image/png": "[encoded data removed]"
          },
          "metadata": {
            "needs_background": "light"
          }
        },
        {
          "output_type": "display_data",
          "data": {
            "text/plain": [
              "<Figure size 432x288 with 0 Axes>"
            ]
          },
          "metadata": {}
        }
      ]
    },
    {
      "cell_type": "markdown",
      "source": [
        "#Data Spliting"
      ],
      "metadata": {
        "id": "C0Akgb_na7NU"
      }
    },
    {
      "cell_type": "code",
      "source": [
        "print(list_of_feat)"
      ],
      "metadata": {
        "colab": {
          "base_uri": "https://localhost:8080/"
        },
        "id": "z21RHPOcZQgP",
        "outputId": "d79f2b9b-c272-43d7-c66a-99cd72f37ae3"
      },
      "execution_count": null,
      "outputs": [
        {
          "output_type": "stream",
          "name": "stdout",
          "text": [
            "['p1n1_interval_gap_20ms', 'p1p2_interval_gap_20ms', 'p1n2_interval_gap_20ms', 'p1p3_interval_gap_20ms', 'n1p2_interval_gap_20ms', 'n1n2_interval_gap_20ms', 'n1p3_interval_gap_20ms', 'p2n2_interval_gap_20ms', 'p2p3_interval_gap_20ms', 'n2p3_interval_gap_20ms', 'n0p1_interval_nogap_20ms', 'n0n1_interval_nogap_20ms', 'n0p2_interval_nogap_20ms', 'n0n2_interval_nogap_20ms', 'n0p3_interval_nogap_20ms', 'p1n1_interval_nogap_20ms', 'p1p2_interval_nogap_20ms', 'p1n2_interval_nogap_20ms', 'p1p3_interval_nogap_20ms', 'n1p2_interval_nogap_20ms', 'MeanP_Beta_20ms', 'MedianF_Beta_20ms', 'MeanF_Beta_20ms', 'SpectralEdge_Beta_20ms', 'PeakF_Beta_20ms', 'MeanP_Theta_20ms', 'MedianF_Theta_20ms', 'MeanF_Theta_20ms', 'SpectralEdge_Theta_20ms', 'PeakF_Theta_20ms', 'MeanP_Delta_20ms', 'MedianF_Delta_20ms', 'MeanF_Delta_20ms', 'SpectralEdge_Delta_20ms', 'PeakF_Delta_20ms', 'MeanP_Gamma_20ms', 'TotalEEGPower_20ms', 'RelativeAlpha_20ms', 'RelativeBeta_20ms', 'RelativeTheta_20ms', 'RelativeDelta_20ms', 'DTR_20ms', 'DTABR_20ms', 'ATR_20ms', 'ABR_20ms', 'MeanP_Alpha_50ms', 'MedianF_Alpha_50ms', 'MeanF_Alpha_50ms', 'SpectralEdge_Alpha_50ms', 'PeakF_Alpha_50ms', 'p1_gap_peak_ms_20ms', 'n2_nogap_peak_ms_20ms', 'n0n2_interval_gap_20ms', 'n2p3_gap_diff_20ms', 'gap_AUC_p1n1_R_20ms', 'gap_AUC_p1n1_L_20ms', 'gap_AUC_p2n2_R_20ms', 'gap_AUC_n1p2n2_20ms', 'n0p3_interval_gap_50ms', 'n2_nogap_peak_amp_50ms', 'n0p1_gap_diff_50ms', 'n1p2_gap_diff_50ms', 'p2n2_gap_diff_50ms', 'n2p3_gap_diff_50ms', 'p1n1_nogap_diff_50ms', 'n1p2_nogap_diff_50ms', 'gap_AUC_p1n1_R_50ms', 'gap_AUC_p1n1_L_50ms', 'gap_AUC_n1p2n2_50ms']\n"
          ]
        }
      ]
    },
    {
      "cell_type": "code",
      "source": [
        "X_new = dataset[list_of_feat]\n",
        "y_new = dataset.iloc[:, 1]"
      ],
      "metadata": {
        "id": "MKgy4THrq4v8"
      },
      "execution_count": null,
      "outputs": []
    },
    {
      "cell_type": "code",
      "source": [
        "X_new.shape"
      ],
      "metadata": {
        "colab": {
          "base_uri": "https://localhost:8080/"
        },
        "id": "Fxz-DgDXZtpD",
        "outputId": "017c3abc-d27d-4c74-e90a-114019bcd974"
      },
      "execution_count": null,
      "outputs": [
        {
          "output_type": "execute_result",
          "data": {
            "text/plain": [
              "(165, 5)"
            ]
          },
          "metadata": {},
          "execution_count": 152
        }
      ]
    },
    {
      "cell_type": "code",
      "source": [
        "y_new.shape"
      ],
      "metadata": {
        "colab": {
          "base_uri": "https://localhost:8080/"
        },
        "id": "1q9Y_6BAr-es",
        "outputId": "dc06785d-dd66-45f4-aa87-cb8d48b29855"
      },
      "execution_count": null,
      "outputs": [
        {
          "output_type": "execute_result",
          "data": {
            "text/plain": [
              "(165,)"
            ]
          },
          "metadata": {},
          "execution_count": 153
        }
      ]
    },
    {
      "cell_type": "code",
      "source": [
        "from sklearn.model_selection import train_test_split\n",
        "X_train, X_test, y_train, y_test = train_test_split(X_new, y_new, test_size = 0.2, random_state = 0)"
      ],
      "metadata": {
        "id": "_CYZE4jgq3w9"
      },
      "execution_count": null,
      "outputs": []
    },
    {
      "cell_type": "code",
      "source": [
        "result={}"
      ],
      "metadata": {
        "id": "U8F8TxPZs1xt"
      },
      "execution_count": null,
      "outputs": []
    },
    {
      "cell_type": "markdown",
      "source": [
        "\n",
        "\n",
        "---\n",
        "\n"
      ],
      "metadata": {
        "id": "bqYsoblRogp2"
      }
    },
    {
      "cell_type": "markdown",
      "source": [
        "\n",
        "\n",
        "---\n",
        "\n"
      ],
      "metadata": {
        "id": "BydV84Diooxp"
      }
    }
  ]
}