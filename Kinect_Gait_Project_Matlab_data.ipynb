{
  "nbformat": 4,
  "nbformat_minor": 0,
  "metadata": {
    "colab": {
      "provenance": [],
      "authorship_tag": "ABX9TyPQhNZ4aVeiiBDePfjzBsUy",
      "include_colab_link": true
    },
    "kernelspec": {
      "name": "python3",
      "display_name": "Python 3"
    },
    "language_info": {
      "name": "python"
    }
  },
  "cells": [
    {
      "cell_type": "markdown",
      "metadata": {
        "id": "view-in-github",
        "colab_type": "text"
      },
      "source": [
        "<a href=\"https://colab.research.google.com/github/RafsanJany-44/ARC/blob/master/Kinect_Gait_Project_Matlab_data.ipynb\" target=\"_parent\"><img src=\"https://colab.research.google.com/assets/colab-badge.svg\" alt=\"Open In Colab\"/></a>"
      ]
    },
    {
      "cell_type": "code",
      "source": [
        "from google.colab import drive\n",
        "drive.mount('/content/drive')"
      ],
      "metadata": {
        "colab": {
          "base_uri": "https://localhost:8080/"
        },
        "id": "OObYgk9hDiQx",
        "outputId": "f24d6d67-200a-42b6-935e-88c3937fe1c4"
      },
      "execution_count": 1,
      "outputs": [
        {
          "output_type": "stream",
          "name": "stdout",
          "text": [
            "Mounted at /content/drive\n"
          ]
        }
      ]
    },
    {
      "cell_type": "code",
      "source": [
        "import scipy.io\n",
        "import pandas as pd\n",
        "path = '/content/drive/MyDrive/Iqram Sir/Kinect Gait Project: Matlab data/001-LO/001-LO_Trial1_Regular_20220307_111113.mat'\n",
        "mat = scipy.io.loadmat(path)"
      ],
      "metadata": {
        "id": "XYkvkWccDi4K"
      },
      "execution_count": 37,
      "outputs": []
    },
    {
      "cell_type": "code",
      "source": [
        "print(mat.keys())"
      ],
      "metadata": {
        "colab": {
          "base_uri": "https://localhost:8080/"
        },
        "id": "hEtJcMYhDjgk",
        "outputId": "e9c1a358-e644-4824-f4b2-487fa273a389"
      },
      "execution_count": 6,
      "outputs": [
        {
          "output_type": "stream",
          "name": "stdout",
          "text": [
            "dict_keys(['__header__', '__version__', '__globals__', 'patientID', 'trial_num', 'None', 'notes', 'walking_speed', 'stopwatch', 'accelData', 'kinzData', 'kinzRef', '__function_workspace__'])\n"
          ]
        }
      ]
    },
    {
      "cell_type": "code",
      "source": [
        "\n",
        "for i in mat:\n",
        "  print(i,\" : \", mat[i])\n",
        "  print(\"____________________________________________________________________\")\n",
        "  print(\"____________________________________________________________________\")\n",
        "                print( )\n",
        "\n"
      ],
      "metadata": {
        "id": "ad5a8LW3L1TF"
      },
      "execution_count": null,
      "outputs": []
    },
    {
      "cell_type": "code",
      "source": [
        "print(\"__header__:\",mat[\"__header__\"],\" Len: \",len(mat[\"__header__\"]))\n",
        "print(\"____________________________________________________________________\")\n",
        "print(\"__version__:\",mat[\"__version__\"],\" Len: \",len(mat[\"__version__\"]))\n",
        "print(\"____________________________________________________________________\")\n",
        "print(\"__globals__:\",mat[\"__globals__\"],\" Len: \",len(mat[\"__globals__\"]))\n",
        "print(\"____________________________________________________________________\")\n",
        "print(\"patientID:\",mat[\"patientID\"],\" Len: \",len(mat[\"patientID\"]))\n",
        "print(\"____________________________________________________________________\")\n",
        "print(\"trial_num:\",mat[\"trial_num\"],\" Len: \",len(mat[\"trial_num\"]))\n",
        "print(\"____________________________________________________________________\")\n",
        "print(\"None:\",mat[\"None\"],\" Len: \",len(mat[\"None\"]))\n",
        "print(\"____________________________________________________________________\")\n",
        "print(\"notes:\",mat[\"notes\"],\" Len: \",len(mat[\"notes\"]))\n",
        "print(\"____________________________________________________________________\")\n",
        "print(\"walking_speed:\",mat[\"walking_speed\"],\" Len: \",len(mat[\"walking_speed\"]))\n",
        "print(\"____________________________________________________________________\")\n",
        "print(\"stopwatch:\",mat[\"stopwatch\"],\" Len: \",len(mat[\"stopwatch\"]))\n",
        "print(\"____________________________________________________________________\")"
      ],
      "metadata": {
        "colab": {
          "base_uri": "https://localhost:8080/"
        },
        "id": "VcaLNVfCOIZ5",
        "outputId": "288a623a-4a23-446c-afb0-6a554ade9059"
      },
      "execution_count": 41,
      "outputs": [
        {
          "output_type": "stream",
          "name": "stdout",
          "text": [
            "__header__: b'MATLAB 5.0 MAT-file, Platform: PCWIN64, Created on: Mon Mar  7 11:11:13 2022'  Len:  76\n",
            "____________________________________________________________________\n",
            "__version__: 1.0  Len:  3\n",
            "____________________________________________________________________\n",
            "__globals__: []  Len:  0\n",
            "____________________________________________________________________\n",
            "patientID: ['001-LO']  Len:  1\n",
            "____________________________________________________________________\n",
            "trial_num: [[1]]  Len:  1\n",
            "____________________________________________________________________\n",
            "None: [(b'time', b'MCOS', b'datetime', array([[3707764736],\n",
            "        [         2],\n",
            "        [         1],\n",
            "        [         1],\n",
            "        [         1],\n",
            "        [         1]], dtype=uint32))                ]  Len:  1\n",
            "____________________________________________________________________\n",
            "notes: [[array([], dtype='<U1')]]  Len:  1\n",
            "____________________________________________________________________\n",
            "walking_speed: ['Regular']  Len:  1\n",
            "____________________________________________________________________\n",
            "stopwatch: [[5.2234304]]  Len:  1\n",
            "____________________________________________________________________\n"
          ]
        }
      ]
    },
    {
      "cell_type": "code",
      "source": [
        "print(\"____________________________________________________________________\")\n",
        "print(\"__function_workspace__:\",mat[\"__function_workspace__\"],\" Len: \",len(mat[\"__function_workspace__\"][0]))\n",
        "print(\"____________________________________________________________________\")"
      ],
      "metadata": {
        "colab": {
          "base_uri": "https://localhost:8080/"
        },
        "id": "4Bd_WZ0A5m6o",
        "outputId": "07d6784f-bf40-4eb9-d0e6-843c73414235"
      },
      "execution_count": 33,
      "outputs": [
        {
          "output_type": "stream",
          "name": "stdout",
          "text": [
            "____________________________________________________________________\n",
            "__function_workspace__: [[ 0  1 73 ...  0  0  0]]  Len:  2490416\n",
            "____________________________________________________________________\n"
          ]
        }
      ]
    },
    {
      "cell_type": "code",
      "source": [
        "print(\"accelData:\",mat[\"accelData\"],\" Len: \",len(mat[\"accelData\"]))"
      ],
      "metadata": {
        "colab": {
          "base_uri": "https://localhost:8080/"
        },
        "id": "b2_nnmkF9nJZ",
        "outputId": "e6114ecf-a630-4580-fd5c-40c1848fa5a7"
      },
      "execution_count": 32,
      "outputs": [
        {
          "output_type": "stream",
          "name": "stdout",
          "text": [
            "accelData: [[(array([[ 5.79212776e-04,  8.06282300e-06,  8.55919835e-04, ...,\n",
            "           2.79464696e-04,  3.58754487e-04,  3.40409875e-04],\n",
            "         [ 7.09622664e-04, -9.60742800e-06,  8.16311760e-04, ...,\n",
            "           2.89840340e-04,  3.48975495e-04,  3.14805625e-04],\n",
            "         [ 6.91950296e-04, -3.39801880e-05,  8.54091770e-04, ...,\n",
            "           2.81295692e-04,  4.19873187e-04,  3.25169250e-04],\n",
            "         ...,\n",
            "         [ 9.47285544e-04,  2.75610310e-05,  1.41755775e-04, ...,\n",
            "           8.29984160e-04,  4.98716310e-04,  7.04965625e-04],\n",
            "         [ 9.51551288e-04,  1.17130924e-04,  1.54552230e-04, ...,\n",
            "           9.08106656e-04,  3.35529381e-04,  5.68409625e-04],\n",
            "         [ 8.12609912e-04,  1.57345978e-04,  1.33224805e-04, ...,\n",
            "           7.41486020e-04,  3.57532113e-04,  5.12324125e-04]]), array([[0.00000000e+00],\n",
            "         [5.85937500e-05],\n",
            "         [1.17187500e-04],\n",
            "         ...,\n",
            "         [1.72798242e+01],\n",
            "         [1.72798828e+01],\n",
            "         [1.72799414e+01]]), array([[294912]], dtype=int32), array([[17066.66666667]])) ]]  Len:  1\n"
          ]
        }
      ]
    },
    {
      "cell_type": "code",
      "source": [],
      "metadata": {
        "id": "FbvgHMiSTFH6"
      },
      "execution_count": null,
      "outputs": []
    },
    {
      "cell_type": "markdown",
      "source": [
        "\n",
        "\n",
        "---\n",
        "\n",
        "\n",
        "\n",
        "---\n",
        "\n"
      ],
      "metadata": {
        "id": "9HjxbNHqWCT-"
      }
    },
    {
      "cell_type": "code",
      "source": [
        "patientID = list(mat[\"patientID\"])*mat[\"accelData\"][0][0][0].shape[0]\n",
        "trial_num = list(mat[\"trial_num\"][0])*mat[\"accelData\"][0][0][0].shape[0]\n",
        "walking_speed = list(mat[\"walking_speed\"])*mat[\"accelData\"][0][0][0].shape[0]\n",
        "stopwatch = list(mat[\"stopwatch\"][0])*mat[\"accelData\"][0][0][0].shape[0]\n",
        "\n",
        "\n",
        "\n",
        "info_dict = {\n",
        "    \"patientID\" : patientID,\n",
        "    \"trial_num\" : trial_num,\n",
        "    \"walking_speed\" : walking_speed,\n",
        "    \"stopwatch\" : stopwatch\n",
        "}\n",
        "\n",
        "\n"
      ],
      "metadata": {
        "id": "x6SJQYydTFAt"
      },
      "execution_count": 61,
      "outputs": []
    },
    {
      "cell_type": "code",
      "source": [
        "info_df = pd.DataFrame(info_dict)"
      ],
      "metadata": {
        "id": "1IBioIvvQEan"
      },
      "execution_count": 62,
      "outputs": []
    },
    {
      "cell_type": "code",
      "source": [
        "my_array = mat[\"accelData\"][0][0][0]\n",
        "accelData_df = pd.DataFrame(my_array, columns=['accelData_1', 'accelData_2', 'accelData_3','accelData_4', 'accelData_5', 'accelData_6','accelData_7'])"
      ],
      "metadata": {
        "id": "YT05tpR6QhMp"
      },
      "execution_count": 39,
      "outputs": []
    },
    {
      "cell_type": "code",
      "source": [
        "main_df = pd.concat([info_df, accelData_df], axis=1)"
      ],
      "metadata": {
        "id": "a9BRpq8jSgL_"
      },
      "execution_count": 65,
      "outputs": []
    },
    {
      "cell_type": "code",
      "source": [
        "main_df"
      ],
      "metadata": {
        "colab": {
          "base_uri": "https://localhost:8080/",
          "height": 423
        },
        "id": "EZpQJptWWJKE",
        "outputId": "27135412-966e-4b57-fba4-243609c181c1"
      },
      "execution_count": 66,
      "outputs": [
        {
          "output_type": "execute_result",
          "data": {
            "text/plain": [
              "       patientID  trial_num walking_speed  stopwatch  accelData_1  \\\n",
              "0         001-LO          1       Regular    5.22343     0.000579   \n",
              "1         001-LO          1       Regular    5.22343     0.000710   \n",
              "2         001-LO          1       Regular    5.22343     0.000692   \n",
              "3         001-LO          1       Regular    5.22343     0.000658   \n",
              "4         001-LO          1       Regular    5.22343     0.000666   \n",
              "...          ...        ...           ...        ...          ...   \n",
              "294907    001-LO          1       Regular    5.22343     0.000480   \n",
              "294908    001-LO          1       Regular    5.22343     0.000757   \n",
              "294909    001-LO          1       Regular    5.22343     0.000947   \n",
              "294910    001-LO          1       Regular    5.22343     0.000952   \n",
              "294911    001-LO          1       Regular    5.22343     0.000813   \n",
              "\n",
              "        accelData_2  accelData_3  accelData_4  accelData_5  accelData_6  \\\n",
              "0          0.000008     0.000856     0.000474     0.000279     0.000359   \n",
              "1         -0.000010     0.000816     0.000491     0.000290     0.000349   \n",
              "2         -0.000034     0.000854     0.000545     0.000281     0.000420   \n",
              "3         -0.000094     0.000843     0.000471     0.000119     0.000447   \n",
              "4         -0.000130     0.000765     0.000395     0.000122     0.000411   \n",
              "...             ...          ...          ...          ...          ...   \n",
              "294907     0.000142     0.000281     0.000898     0.000485     0.000581   \n",
              "294908     0.000066     0.000199     0.001132     0.000596     0.000538   \n",
              "294909     0.000028     0.000142     0.001295     0.000830     0.000499   \n",
              "294910     0.000117     0.000155     0.001238     0.000908     0.000336   \n",
              "294911     0.000157     0.000133     0.001061     0.000741     0.000358   \n",
              "\n",
              "        accelData_7  \n",
              "0          0.000340  \n",
              "1          0.000315  \n",
              "2          0.000325  \n",
              "3          0.000325  \n",
              "4          0.000400  \n",
              "...             ...  \n",
              "294907     0.000941  \n",
              "294908     0.000843  \n",
              "294909     0.000705  \n",
              "294910     0.000568  \n",
              "294911     0.000512  \n",
              "\n",
              "[294912 rows x 11 columns]"
            ],
            "text/html": [
              "\n",
              "  <div id=\"df-270afffb-744d-42ee-8169-e0759b0da14c\" class=\"colab-df-container\">\n",
              "    <div>\n",
              "<style scoped>\n",
              "    .dataframe tbody tr th:only-of-type {\n",
              "        vertical-align: middle;\n",
              "    }\n",
              "\n",
              "    .dataframe tbody tr th {\n",
              "        vertical-align: top;\n",
              "    }\n",
              "\n",
              "    .dataframe thead th {\n",
              "        text-align: right;\n",
              "    }\n",
              "</style>\n",
              "<table border=\"1\" class=\"dataframe\">\n",
              "  <thead>\n",
              "    <tr style=\"text-align: right;\">\n",
              "      <th></th>\n",
              "      <th>patientID</th>\n",
              "      <th>trial_num</th>\n",
              "      <th>walking_speed</th>\n",
              "      <th>stopwatch</th>\n",
              "      <th>accelData_1</th>\n",
              "      <th>accelData_2</th>\n",
              "      <th>accelData_3</th>\n",
              "      <th>accelData_4</th>\n",
              "      <th>accelData_5</th>\n",
              "      <th>accelData_6</th>\n",
              "      <th>accelData_7</th>\n",
              "    </tr>\n",
              "  </thead>\n",
              "  <tbody>\n",
              "    <tr>\n",
              "      <th>0</th>\n",
              "      <td>001-LO</td>\n",
              "      <td>1</td>\n",
              "      <td>Regular</td>\n",
              "      <td>5.22343</td>\n",
              "      <td>0.000579</td>\n",
              "      <td>0.000008</td>\n",
              "      <td>0.000856</td>\n",
              "      <td>0.000474</td>\n",
              "      <td>0.000279</td>\n",
              "      <td>0.000359</td>\n",
              "      <td>0.000340</td>\n",
              "    </tr>\n",
              "    <tr>\n",
              "      <th>1</th>\n",
              "      <td>001-LO</td>\n",
              "      <td>1</td>\n",
              "      <td>Regular</td>\n",
              "      <td>5.22343</td>\n",
              "      <td>0.000710</td>\n",
              "      <td>-0.000010</td>\n",
              "      <td>0.000816</td>\n",
              "      <td>0.000491</td>\n",
              "      <td>0.000290</td>\n",
              "      <td>0.000349</td>\n",
              "      <td>0.000315</td>\n",
              "    </tr>\n",
              "    <tr>\n",
              "      <th>2</th>\n",
              "      <td>001-LO</td>\n",
              "      <td>1</td>\n",
              "      <td>Regular</td>\n",
              "      <td>5.22343</td>\n",
              "      <td>0.000692</td>\n",
              "      <td>-0.000034</td>\n",
              "      <td>0.000854</td>\n",
              "      <td>0.000545</td>\n",
              "      <td>0.000281</td>\n",
              "      <td>0.000420</td>\n",
              "      <td>0.000325</td>\n",
              "    </tr>\n",
              "    <tr>\n",
              "      <th>3</th>\n",
              "      <td>001-LO</td>\n",
              "      <td>1</td>\n",
              "      <td>Regular</td>\n",
              "      <td>5.22343</td>\n",
              "      <td>0.000658</td>\n",
              "      <td>-0.000094</td>\n",
              "      <td>0.000843</td>\n",
              "      <td>0.000471</td>\n",
              "      <td>0.000119</td>\n",
              "      <td>0.000447</td>\n",
              "      <td>0.000325</td>\n",
              "    </tr>\n",
              "    <tr>\n",
              "      <th>4</th>\n",
              "      <td>001-LO</td>\n",
              "      <td>1</td>\n",
              "      <td>Regular</td>\n",
              "      <td>5.22343</td>\n",
              "      <td>0.000666</td>\n",
              "      <td>-0.000130</td>\n",
              "      <td>0.000765</td>\n",
              "      <td>0.000395</td>\n",
              "      <td>0.000122</td>\n",
              "      <td>0.000411</td>\n",
              "      <td>0.000400</td>\n",
              "    </tr>\n",
              "    <tr>\n",
              "      <th>...</th>\n",
              "      <td>...</td>\n",
              "      <td>...</td>\n",
              "      <td>...</td>\n",
              "      <td>...</td>\n",
              "      <td>...</td>\n",
              "      <td>...</td>\n",
              "      <td>...</td>\n",
              "      <td>...</td>\n",
              "      <td>...</td>\n",
              "      <td>...</td>\n",
              "      <td>...</td>\n",
              "    </tr>\n",
              "    <tr>\n",
              "      <th>294907</th>\n",
              "      <td>001-LO</td>\n",
              "      <td>1</td>\n",
              "      <td>Regular</td>\n",
              "      <td>5.22343</td>\n",
              "      <td>0.000480</td>\n",
              "      <td>0.000142</td>\n",
              "      <td>0.000281</td>\n",
              "      <td>0.000898</td>\n",
              "      <td>0.000485</td>\n",
              "      <td>0.000581</td>\n",
              "      <td>0.000941</td>\n",
              "    </tr>\n",
              "    <tr>\n",
              "      <th>294908</th>\n",
              "      <td>001-LO</td>\n",
              "      <td>1</td>\n",
              "      <td>Regular</td>\n",
              "      <td>5.22343</td>\n",
              "      <td>0.000757</td>\n",
              "      <td>0.000066</td>\n",
              "      <td>0.000199</td>\n",
              "      <td>0.001132</td>\n",
              "      <td>0.000596</td>\n",
              "      <td>0.000538</td>\n",
              "      <td>0.000843</td>\n",
              "    </tr>\n",
              "    <tr>\n",
              "      <th>294909</th>\n",
              "      <td>001-LO</td>\n",
              "      <td>1</td>\n",
              "      <td>Regular</td>\n",
              "      <td>5.22343</td>\n",
              "      <td>0.000947</td>\n",
              "      <td>0.000028</td>\n",
              "      <td>0.000142</td>\n",
              "      <td>0.001295</td>\n",
              "      <td>0.000830</td>\n",
              "      <td>0.000499</td>\n",
              "      <td>0.000705</td>\n",
              "    </tr>\n",
              "    <tr>\n",
              "      <th>294910</th>\n",
              "      <td>001-LO</td>\n",
              "      <td>1</td>\n",
              "      <td>Regular</td>\n",
              "      <td>5.22343</td>\n",
              "      <td>0.000952</td>\n",
              "      <td>0.000117</td>\n",
              "      <td>0.000155</td>\n",
              "      <td>0.001238</td>\n",
              "      <td>0.000908</td>\n",
              "      <td>0.000336</td>\n",
              "      <td>0.000568</td>\n",
              "    </tr>\n",
              "    <tr>\n",
              "      <th>294911</th>\n",
              "      <td>001-LO</td>\n",
              "      <td>1</td>\n",
              "      <td>Regular</td>\n",
              "      <td>5.22343</td>\n",
              "      <td>0.000813</td>\n",
              "      <td>0.000157</td>\n",
              "      <td>0.000133</td>\n",
              "      <td>0.001061</td>\n",
              "      <td>0.000741</td>\n",
              "      <td>0.000358</td>\n",
              "      <td>0.000512</td>\n",
              "    </tr>\n",
              "  </tbody>\n",
              "</table>\n",
              "<p>294912 rows × 11 columns</p>\n",
              "</div>\n",
              "    <div class=\"colab-df-buttons\">\n",
              "\n",
              "  <div class=\"colab-df-container\">\n",
              "    <button class=\"colab-df-convert\" onclick=\"convertToInteractive('df-270afffb-744d-42ee-8169-e0759b0da14c')\"\n",
              "            title=\"Convert this dataframe to an interactive table.\"\n",
              "            style=\"display:none;\">\n",
              "\n",
              "  <svg xmlns=\"http://www.w3.org/2000/svg\" height=\"24px\" viewBox=\"0 -960 960 960\">\n",
              "    <path d=\"M120-120v-720h720v720H120Zm60-500h600v-160H180v160Zm220 220h160v-160H400v160Zm0 220h160v-160H400v160ZM180-400h160v-160H180v160Zm440 0h160v-160H620v160ZM180-180h160v-160H180v160Zm440 0h160v-160H620v160Z\"/>\n",
              "  </svg>\n",
              "    </button>\n",
              "\n",
              "  <style>\n",
              "    .colab-df-container {\n",
              "      display:flex;\n",
              "      gap: 12px;\n",
              "    }\n",
              "\n",
              "    .colab-df-convert {\n",
              "      background-color: #E8F0FE;\n",
              "      border: none;\n",
              "      border-radius: 50%;\n",
              "      cursor: pointer;\n",
              "      display: none;\n",
              "      fill: #1967D2;\n",
              "      height: 32px;\n",
              "      padding: 0 0 0 0;\n",
              "      width: 32px;\n",
              "    }\n",
              "\n",
              "    .colab-df-convert:hover {\n",
              "      background-color: #E2EBFA;\n",
              "      box-shadow: 0px 1px 2px rgba(60, 64, 67, 0.3), 0px 1px 3px 1px rgba(60, 64, 67, 0.15);\n",
              "      fill: #174EA6;\n",
              "    }\n",
              "\n",
              "    .colab-df-buttons div {\n",
              "      margin-bottom: 4px;\n",
              "    }\n",
              "\n",
              "    [theme=dark] .colab-df-convert {\n",
              "      background-color: #3B4455;\n",
              "      fill: #D2E3FC;\n",
              "    }\n",
              "\n",
              "    [theme=dark] .colab-df-convert:hover {\n",
              "      background-color: #434B5C;\n",
              "      box-shadow: 0px 1px 3px 1px rgba(0, 0, 0, 0.15);\n",
              "      filter: drop-shadow(0px 1px 2px rgba(0, 0, 0, 0.3));\n",
              "      fill: #FFFFFF;\n",
              "    }\n",
              "  </style>\n",
              "\n",
              "    <script>\n",
              "      const buttonEl =\n",
              "        document.querySelector('#df-270afffb-744d-42ee-8169-e0759b0da14c button.colab-df-convert');\n",
              "      buttonEl.style.display =\n",
              "        google.colab.kernel.accessAllowed ? 'block' : 'none';\n",
              "\n",
              "      async function convertToInteractive(key) {\n",
              "        const element = document.querySelector('#df-270afffb-744d-42ee-8169-e0759b0da14c');\n",
              "        const dataTable =\n",
              "          await google.colab.kernel.invokeFunction('convertToInteractive',\n",
              "                                                    [key], {});\n",
              "        if (!dataTable) return;\n",
              "\n",
              "        const docLinkHtml = 'Like what you see? Visit the ' +\n",
              "          '<a target=\"_blank\" href=https://colab.research.google.com/notebooks/data_table.ipynb>data table notebook</a>'\n",
              "          + ' to learn more about interactive tables.';\n",
              "        element.innerHTML = '';\n",
              "        dataTable['output_type'] = 'display_data';\n",
              "        await google.colab.output.renderOutput(dataTable, element);\n",
              "        const docLink = document.createElement('div');\n",
              "        docLink.innerHTML = docLinkHtml;\n",
              "        element.appendChild(docLink);\n",
              "      }\n",
              "    </script>\n",
              "  </div>\n",
              "\n",
              "\n",
              "<div id=\"df-956301ed-602b-4555-83ec-c6f6c6cf0c3b\">\n",
              "  <button class=\"colab-df-quickchart\" onclick=\"quickchart('df-956301ed-602b-4555-83ec-c6f6c6cf0c3b')\"\n",
              "            title=\"Suggest charts\"\n",
              "            style=\"display:none;\">\n",
              "\n",
              "<svg xmlns=\"http://www.w3.org/2000/svg\" height=\"24px\"viewBox=\"0 0 24 24\"\n",
              "     width=\"24px\">\n",
              "    <g>\n",
              "        <path d=\"M19 3H5c-1.1 0-2 .9-2 2v14c0 1.1.9 2 2 2h14c1.1 0 2-.9 2-2V5c0-1.1-.9-2-2-2zM9 17H7v-7h2v7zm4 0h-2V7h2v10zm4 0h-2v-4h2v4z\"/>\n",
              "    </g>\n",
              "</svg>\n",
              "  </button>\n",
              "\n",
              "<style>\n",
              "  .colab-df-quickchart {\n",
              "      --bg-color: #E8F0FE;\n",
              "      --fill-color: #1967D2;\n",
              "      --hover-bg-color: #E2EBFA;\n",
              "      --hover-fill-color: #174EA6;\n",
              "      --disabled-fill-color: #AAA;\n",
              "      --disabled-bg-color: #DDD;\n",
              "  }\n",
              "\n",
              "  [theme=dark] .colab-df-quickchart {\n",
              "      --bg-color: #3B4455;\n",
              "      --fill-color: #D2E3FC;\n",
              "      --hover-bg-color: #434B5C;\n",
              "      --hover-fill-color: #FFFFFF;\n",
              "      --disabled-bg-color: #3B4455;\n",
              "      --disabled-fill-color: #666;\n",
              "  }\n",
              "\n",
              "  .colab-df-quickchart {\n",
              "    background-color: var(--bg-color);\n",
              "    border: none;\n",
              "    border-radius: 50%;\n",
              "    cursor: pointer;\n",
              "    display: none;\n",
              "    fill: var(--fill-color);\n",
              "    height: 32px;\n",
              "    padding: 0;\n",
              "    width: 32px;\n",
              "  }\n",
              "\n",
              "  .colab-df-quickchart:hover {\n",
              "    background-color: var(--hover-bg-color);\n",
              "    box-shadow: 0 1px 2px rgba(60, 64, 67, 0.3), 0 1px 3px 1px rgba(60, 64, 67, 0.15);\n",
              "    fill: var(--button-hover-fill-color);\n",
              "  }\n",
              "\n",
              "  .colab-df-quickchart-complete:disabled,\n",
              "  .colab-df-quickchart-complete:disabled:hover {\n",
              "    background-color: var(--disabled-bg-color);\n",
              "    fill: var(--disabled-fill-color);\n",
              "    box-shadow: none;\n",
              "  }\n",
              "\n",
              "  .colab-df-spinner {\n",
              "    border: 2px solid var(--fill-color);\n",
              "    border-color: transparent;\n",
              "    border-bottom-color: var(--fill-color);\n",
              "    animation:\n",
              "      spin 1s steps(1) infinite;\n",
              "  }\n",
              "\n",
              "  @keyframes spin {\n",
              "    0% {\n",
              "      border-color: transparent;\n",
              "      border-bottom-color: var(--fill-color);\n",
              "      border-left-color: var(--fill-color);\n",
              "    }\n",
              "    20% {\n",
              "      border-color: transparent;\n",
              "      border-left-color: var(--fill-color);\n",
              "      border-top-color: var(--fill-color);\n",
              "    }\n",
              "    30% {\n",
              "      border-color: transparent;\n",
              "      border-left-color: var(--fill-color);\n",
              "      border-top-color: var(--fill-color);\n",
              "      border-right-color: var(--fill-color);\n",
              "    }\n",
              "    40% {\n",
              "      border-color: transparent;\n",
              "      border-right-color: var(--fill-color);\n",
              "      border-top-color: var(--fill-color);\n",
              "    }\n",
              "    60% {\n",
              "      border-color: transparent;\n",
              "      border-right-color: var(--fill-color);\n",
              "    }\n",
              "    80% {\n",
              "      border-color: transparent;\n",
              "      border-right-color: var(--fill-color);\n",
              "      border-bottom-color: var(--fill-color);\n",
              "    }\n",
              "    90% {\n",
              "      border-color: transparent;\n",
              "      border-bottom-color: var(--fill-color);\n",
              "    }\n",
              "  }\n",
              "</style>\n",
              "\n",
              "  <script>\n",
              "    async function quickchart(key) {\n",
              "      const quickchartButtonEl =\n",
              "        document.querySelector('#' + key + ' button');\n",
              "      quickchartButtonEl.disabled = true;  // To prevent multiple clicks.\n",
              "      quickchartButtonEl.classList.add('colab-df-spinner');\n",
              "      try {\n",
              "        const charts = await google.colab.kernel.invokeFunction(\n",
              "            'suggestCharts', [key], {});\n",
              "      } catch (error) {\n",
              "        console.error('Error during call to suggestCharts:', error);\n",
              "      }\n",
              "      quickchartButtonEl.classList.remove('colab-df-spinner');\n",
              "      quickchartButtonEl.classList.add('colab-df-quickchart-complete');\n",
              "    }\n",
              "    (() => {\n",
              "      let quickchartButtonEl =\n",
              "        document.querySelector('#df-956301ed-602b-4555-83ec-c6f6c6cf0c3b button');\n",
              "      quickchartButtonEl.style.display =\n",
              "        google.colab.kernel.accessAllowed ? 'block' : 'none';\n",
              "    })();\n",
              "  </script>\n",
              "</div>\n",
              "    </div>\n",
              "  </div>\n"
            ]
          },
          "metadata": {},
          "execution_count": 66
        }
      ]
    },
    {
      "cell_type": "code",
      "source": [],
      "metadata": {
        "id": "jaEsVg0tWJHf"
      },
      "execution_count": null,
      "outputs": []
    },
    {
      "cell_type": "code",
      "source": [],
      "metadata": {
        "id": "J1vqL2hWWJFT"
      },
      "execution_count": null,
      "outputs": []
    },
    {
      "cell_type": "code",
      "source": [],
      "metadata": {
        "id": "6zuRCTZeWJC4"
      },
      "execution_count": null,
      "outputs": []
    },
    {
      "cell_type": "code",
      "source": [],
      "metadata": {
        "id": "Wk9Q_FBkWJAi"
      },
      "execution_count": null,
      "outputs": []
    },
    {
      "cell_type": "code",
      "source": [],
      "metadata": {
        "id": "CVvXsD0FWI-M"
      },
      "execution_count": null,
      "outputs": []
    },
    {
      "cell_type": "code",
      "source": [],
      "metadata": {
        "id": "BLBPFCE2WI7f"
      },
      "execution_count": null,
      "outputs": []
    },
    {
      "cell_type": "code",
      "source": [],
      "metadata": {
        "id": "ReeMdHFrWI5C"
      },
      "execution_count": null,
      "outputs": []
    },
    {
      "cell_type": "code",
      "source": [
        "print(\"kinzData:\",mat[\"kinzData\"],\" Len: \",len(mat[\"kinzData\"]))\n",
        "print(\"____________________________________________________________________\")"
      ],
      "metadata": {
        "id": "4O83S-Nh5mxk"
      },
      "execution_count": null,
      "outputs": []
    },
    {
      "cell_type": "code",
      "source": [
        "mat[\"kinzData\"][0].shape\n",
        "\n",
        "\n",
        "\n"
      ],
      "metadata": {
        "colab": {
          "base_uri": "https://localhost:8080/"
        },
        "id": "iqGK6zcL1zFP",
        "outputId": "fedd38ac-6be6-4e6c-a6a3-8987a2641b6a"
      },
      "execution_count": 30,
      "outputs": [
        {
          "output_type": "execute_result",
          "data": {
            "text/plain": [
              "(403,)"
            ]
          },
          "metadata": {},
          "execution_count": 30
        }
      ]
    },
    {
      "cell_type": "code",
      "source": [
        "\n",
        "\n",
        "\n",
        "\n"
      ],
      "metadata": {
        "id": "TpeFmicq1y-F"
      },
      "execution_count": null,
      "outputs": []
    },
    {
      "cell_type": "code",
      "source": [
        "\n",
        "\n",
        "\n",
        "\n"
      ],
      "metadata": {
        "id": "2hvJJ2wi1y11"
      },
      "execution_count": null,
      "outputs": []
    }
  ]
}