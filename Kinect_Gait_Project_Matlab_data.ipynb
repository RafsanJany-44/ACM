{
  "nbformat": 4,
  "nbformat_minor": 0,
  "metadata": {
    "colab": {
      "provenance": [],
      "authorship_tag": "ABX9TyMu/U+ukHHRdpCe/IYkpwS7",
      "include_colab_link": true
    },
    "kernelspec": {
      "name": "python3",
      "display_name": "Python 3"
    },
    "language_info": {
      "name": "python"
    }
  },
  "cells": [
    {
      "cell_type": "markdown",
      "metadata": {
        "id": "view-in-github",
        "colab_type": "text"
      },
      "source": [
        "<a href=\"https://colab.research.google.com/github/RafsanJany-44/ARC/blob/master/Kinect_Gait_Project_Matlab_data.ipynb\" target=\"_parent\"><img src=\"https://colab.research.google.com/assets/colab-badge.svg\" alt=\"Open In Colab\"/></a>"
      ]
    },
    {
      "cell_type": "code",
      "source": [
        "from google.colab import drive\n",
        "drive.mount('/content/drive')"
      ],
      "metadata": {
        "colab": {
          "base_uri": "https://localhost:8080/"
        },
        "id": "OObYgk9hDiQx",
        "outputId": "2a9aa484-1dfc-45d5-f0ff-5493bcb731ce"
      },
      "execution_count": 1,
      "outputs": [
        {
          "output_type": "stream",
          "name": "stdout",
          "text": [
            "Mounted at /content/drive\n"
          ]
        }
      ]
    },
    {
      "cell_type": "code",
      "source": [
        "import scipy.io\n",
        "mat = scipy.io.loadmat('/content/drive/MyDrive/Iqram Sir/Kinect Gait Project: Matlab data/001-LO/001-LO_Trial1_Regular_20220307_111113.mat')"
      ],
      "metadata": {
        "id": "XYkvkWccDi4K"
      },
      "execution_count": 2,
      "outputs": []
    },
    {
      "cell_type": "code",
      "source": [
        "print(mat.keys())"
      ],
      "metadata": {
        "colab": {
          "base_uri": "https://localhost:8080/"
        },
        "id": "hEtJcMYhDjgk",
        "outputId": "28d43309-fe92-4f92-9b7f-306c00a657f3"
      },
      "execution_count": 14,
      "outputs": [
        {
          "output_type": "stream",
          "name": "stdout",
          "text": [
            "dict_keys(['__header__', '__version__', '__globals__', 'patientID', 'trial_num', 'None', 'notes', 'walking_speed', 'stopwatch', 'accelData', 'kinzData', 'kinzRef', '__function_workspace__'])\n"
          ]
        }
      ]
    },
    {
      "cell_type": "code",
      "source": [
        "mat"
      ],
      "metadata": {
        "id": "XiY8tIjQKTjO"
      },
      "execution_count": null,
      "outputs": []
    },
    {
      "cell_type": "code",
      "source": [
        "for i in mat:\n",
        "  print(i,\" : \", mat[i])\n",
        "  print(\"____________________________________________________________________\")\n",
        "  print(\"____________________________________________________________________\")\n",
        "  print()"
      ],
      "metadata": {
        "id": "ad5a8LW3L1TF"
      },
      "execution_count": null,
      "outputs": []
    },
    {
      "cell_type": "code",
      "source": [
        "mat[\"__header__\"]"
      ],
      "metadata": {
        "colab": {
          "base_uri": "https://localhost:8080/"
        },
        "id": "VcaLNVfCOIZ5",
        "outputId": "d6acb956-2b19-4f21-ea97-859dc8c9932d"
      },
      "execution_count": 23,
      "outputs": [
        {
          "output_type": "execute_result",
          "data": {
            "text/plain": [
              "b'MATLAB 5.0 MAT-file, Platform: PCWIN64, Created on: Mon Mar  7 11:11:13 2022'"
            ]
          },
          "metadata": {},
          "execution_count": 23
        }
      ]
    },
    {
      "cell_type": "code",
      "source": [
        "mat[\"accelData\"]"
      ],
      "metadata": {
        "colab": {
          "base_uri": "https://localhost:8080/"
        },
        "id": "UPwFt9GmPCzb",
        "outputId": "9f260682-d605-4c0f-af8a-e18adda9e171"
      },
      "execution_count": 29,
      "outputs": [
        {
          "output_type": "execute_result",
          "data": {
            "text/plain": [
              "array([[(array([[ 5.79212776e-04,  8.06282300e-06,  8.55919835e-04, ...,\n",
              "                 2.79464696e-04,  3.58754487e-04,  3.40409875e-04],\n",
              "               [ 7.09622664e-04, -9.60742800e-06,  8.16311760e-04, ...,\n",
              "                 2.89840340e-04,  3.48975495e-04,  3.14805625e-04],\n",
              "               [ 6.91950296e-04, -3.39801880e-05,  8.54091770e-04, ...,\n",
              "                 2.81295692e-04,  4.19873187e-04,  3.25169250e-04],\n",
              "               ...,\n",
              "               [ 9.47285544e-04,  2.75610310e-05,  1.41755775e-04, ...,\n",
              "                 8.29984160e-04,  4.98716310e-04,  7.04965625e-04],\n",
              "               [ 9.51551288e-04,  1.17130924e-04,  1.54552230e-04, ...,\n",
              "                 9.08106656e-04,  3.35529381e-04,  5.68409625e-04],\n",
              "               [ 8.12609912e-04,  1.57345978e-04,  1.33224805e-04, ...,\n",
              "                 7.41486020e-04,  3.57532113e-04,  5.12324125e-04]]), array([[0.00000000e+00],\n",
              "               [5.85937500e-05],\n",
              "               [1.17187500e-04],\n",
              "               ...,\n",
              "               [1.72798242e+01],\n",
              "               [1.72798828e+01],\n",
              "               [1.72799414e+01]]), array([[294912]], dtype=int32), array([[17066.66666667]])) ]],\n",
              "      dtype=[('timeSeries', 'O'), ('timeStamps', 'O'), ('nSamples', 'O'), ('fs', 'O')])"
            ]
          },
          "metadata": {},
          "execution_count": 29
        }
      ]
    },
    {
      "cell_type": "code",
      "source": [],
      "metadata": {
        "id": "rVKpUok6PGfg"
      },
      "execution_count": null,
      "outputs": []
    }
  ]
}