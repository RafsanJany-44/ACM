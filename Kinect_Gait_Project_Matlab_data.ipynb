{
  "nbformat": 4,
  "nbformat_minor": 0,
  "metadata": {
    "colab": {
      "provenance": [],
      "authorship_tag": "ABX9TyNUSjqDyyPAPxHpp+DGWj3v",
      "include_colab_link": true
    },
    "kernelspec": {
      "name": "python3",
      "display_name": "Python 3"
    },
    "language_info": {
      "name": "python"
    }
  },
  "cells": [
    {
      "cell_type": "markdown",
      "metadata": {
        "id": "view-in-github",
        "colab_type": "text"
      },
      "source": [
        "<a href=\"https://colab.research.google.com/github/RafsanJany-44/ARC/blob/master/Kinect_Gait_Project_Matlab_data.ipynb\" target=\"_parent\"><img src=\"https://colab.research.google.com/assets/colab-badge.svg\" alt=\"Open In Colab\"/></a>"
      ]
    },
    {
      "cell_type": "code",
      "source": [
        "from google.colab import drive\n",
        "drive.mount('/content/drive')"
      ],
      "metadata": {
        "colab": {
          "base_uri": "https://localhost:8080/"
        },
        "id": "OObYgk9hDiQx",
        "outputId": "f24d6d67-200a-42b6-935e-88c3937fe1c4"
      },
      "execution_count": 1,
      "outputs": [
        {
          "output_type": "stream",
          "name": "stdout",
          "text": [
            "Mounted at /content/drive\n"
          ]
        }
      ]
    },
    {
      "cell_type": "code",
      "source": [
        "import scipy.io\n",
        "path = '/content/drive/MyDrive/Iqram Sir/Kinect Gait Project: Matlab data/001-LO/001-LO_Trial1_Regular_20220307_111113.mat'\n",
        "mat = scipy.io.loadmat(path)"
      ],
      "metadata": {
        "id": "XYkvkWccDi4K"
      },
      "execution_count": 2,
      "outputs": []
    },
    {
      "cell_type": "code",
      "source": [
        "print(mat.keys())"
      ],
      "metadata": {
        "colab": {
          "base_uri": "https://localhost:8080/"
        },
        "id": "hEtJcMYhDjgk",
        "outputId": "e9c1a358-e644-4824-f4b2-487fa273a389"
      },
      "execution_count": 6,
      "outputs": [
        {
          "output_type": "stream",
          "name": "stdout",
          "text": [
            "dict_keys(['__header__', '__version__', '__globals__', 'patientID', 'trial_num', 'None', 'notes', 'walking_speed', 'stopwatch', 'accelData', 'kinzData', 'kinzRef', '__function_workspace__'])\n"
          ]
        }
      ]
    },
    {
      "cell_type": "code",
      "source": [
        "\n",
        "for i in mat:\n",
        "  print(i,\" : \", mat[i])\n",
        "  print(\"____________________________________________________________________\")\n",
        "  print(\"____________________________________________________________________\")\n",
        "                print( )\n",
        "\n"
      ],
      "metadata": {
        "id": "ad5a8LW3L1TF"
      },
      "execution_count": null,
      "outputs": []
    },
    {
      "cell_type": "code",
      "source": [
        "print(\"__header__:\",mat[\"__header__\"],\" Len: \",len(mat[\"__header__\"]))\n",
        "print(\"____________________________________________________________________\")\n",
        "print(\"__version__:\",mat[\"__version__\"],\" Len: \",len(mat[\"__version__\"]))\n",
        "print(\"____________________________________________________________________\")\n",
        "print(\"__globals__:\",mat[\"__globals__\"],\" Len: \",len(mat[\"__globals__\"]))\n",
        "print(\"____________________________________________________________________\")\n",
        "print(\"patientID:\",mat[\"patientID\"],\" Len: \",len(mat[\"patientID\"]))\n",
        "print(\"____________________________________________________________________\")\n",
        "print(\"trial_num:\",mat[\"trial_num\"],\" Len: \",len(mat[\"trial_num\"]))\n",
        "print(\"____________________________________________________________________\")\n",
        "print(\"None:\",mat[\"None\"],\" Len: \",len(mat[\"None\"]))\n",
        "print(\"____________________________________________________________________\")\n",
        "print(\"notes:\",mat[\"notes\"],\" Len: \",len(mat[\"notes\"]))\n",
        "print(\"____________________________________________________________________\")\n",
        "print(\"walking_speed:\",mat[\"walking_speed\"],\" Len: \",len(mat[\"walking_speed\"]))\n",
        "print(\"____________________________________________________________________\")\n",
        "print(\"stopwatch:\",mat[\"stopwatch\"],\" Len: \",len(mat[\"stopwatch\"]))\n",
        "print(\"____________________________________________________________________\")"
      ],
      "metadata": {
        "colab": {
          "base_uri": "https://localhost:8080/"
        },
        "id": "VcaLNVfCOIZ5",
        "outputId": "ab692856-34dc-449d-f220-db55a0102881"
      },
      "execution_count": 10,
      "outputs": [
        {
          "output_type": "stream",
          "name": "stdout",
          "text": [
            "__header__: b'MATLAB 5.0 MAT-file, Platform: PCWIN64, Created on: Mon Mar  7 11:11:13 2022'  Len:  76\n",
            "____________________________________________________________________\n",
            "__version__: 1.0  Len:  3\n",
            "____________________________________________________________________\n",
            "__globals__: []  Len:  0\n",
            "____________________________________________________________________\n",
            "patientID: ['001-LO']  Len:  1\n",
            "____________________________________________________________________\n",
            "trial_num: [[1]]  Len:  1\n",
            "____________________________________________________________________\n",
            "None: [(b'time', b'MCOS', b'datetime', array([[3707764736],\n",
            "        [         2],\n",
            "        [         1],\n",
            "        [         1],\n",
            "        [         1],\n",
            "        [         1]], dtype=uint32))                ]  Len:  1\n",
            "____________________________________________________________________\n",
            "notes: [[array([], dtype='<U1')]]  Len:  1\n",
            "____________________________________________________________________\n",
            "walking_speed: ['Regular']  Len:  1\n",
            "____________________________________________________________________\n",
            "stopwatch: [[5.2234304]]  Len:  1\n",
            "____________________________________________________________________\n"
          ]
        }
      ]
    },
    {
      "cell_type": "code",
      "source": [
        "print(\"____________________________________________________________________\")\n",
        "print(\"__function_workspace__:\",mat[\"__function_workspace__\"],\" Len: \",len(mat[\"__function_workspace__\"][0]))\n",
        "print(\"____________________________________________________________________\")"
      ],
      "metadata": {
        "colab": {
          "base_uri": "https://localhost:8080/"
        },
        "id": "4Bd_WZ0A5m6o",
        "outputId": "07d6784f-bf40-4eb9-d0e6-843c73414235"
      },
      "execution_count": 33,
      "outputs": [
        {
          "output_type": "stream",
          "name": "stdout",
          "text": [
            "____________________________________________________________________\n",
            "__function_workspace__: [[ 0  1 73 ...  0  0  0]]  Len:  2490416\n",
            "____________________________________________________________________\n"
          ]
        }
      ]
    },
    {
      "cell_type": "code",
      "source": [
        "print(\"accelData:\",mat[\"accelData\"],\" Len: \",len(mat[\"accelData\"]))"
      ],
      "metadata": {
        "colab": {
          "base_uri": "https://localhost:8080/"
        },
        "id": "b2_nnmkF9nJZ",
        "outputId": "e6114ecf-a630-4580-fd5c-40c1848fa5a7"
      },
      "execution_count": 32,
      "outputs": [
        {
          "output_type": "stream",
          "name": "stdout",
          "text": [
            "accelData: [[(array([[ 5.79212776e-04,  8.06282300e-06,  8.55919835e-04, ...,\n",
            "           2.79464696e-04,  3.58754487e-04,  3.40409875e-04],\n",
            "         [ 7.09622664e-04, -9.60742800e-06,  8.16311760e-04, ...,\n",
            "           2.89840340e-04,  3.48975495e-04,  3.14805625e-04],\n",
            "         [ 6.91950296e-04, -3.39801880e-05,  8.54091770e-04, ...,\n",
            "           2.81295692e-04,  4.19873187e-04,  3.25169250e-04],\n",
            "         ...,\n",
            "         [ 9.47285544e-04,  2.75610310e-05,  1.41755775e-04, ...,\n",
            "           8.29984160e-04,  4.98716310e-04,  7.04965625e-04],\n",
            "         [ 9.51551288e-04,  1.17130924e-04,  1.54552230e-04, ...,\n",
            "           9.08106656e-04,  3.35529381e-04,  5.68409625e-04],\n",
            "         [ 8.12609912e-04,  1.57345978e-04,  1.33224805e-04, ...,\n",
            "           7.41486020e-04,  3.57532113e-04,  5.12324125e-04]]), array([[0.00000000e+00],\n",
            "         [5.85937500e-05],\n",
            "         [1.17187500e-04],\n",
            "         ...,\n",
            "         [1.72798242e+01],\n",
            "         [1.72798828e+01],\n",
            "         [1.72799414e+01]]), array([[294912]], dtype=int32), array([[17066.66666667]])) ]]  Len:  1\n"
          ]
        }
      ]
    },
    {
      "cell_type": "code",
      "source": [
        "mat[\"accelData\"][0][0][0].shape"
      ],
      "metadata": {
        "colab": {
          "base_uri": "https://localhost:8080/"
        },
        "id": "ePe3hmud6mg_",
        "outputId": "548c646f-7472-4b29-ef91-9df2a056a5b8"
      },
      "execution_count": 26,
      "outputs": [
        {
          "output_type": "execute_result",
          "data": {
            "text/plain": [
              "(294912, 7)"
            ]
          },
          "metadata": {},
          "execution_count": 26
        }
      ]
    },
    {
      "cell_type": "code",
      "source": [
        "print(\"kinzData:\",mat[\"kinzData\"],\" Len: \",len(mat[\"kinzData\"]))\n",
        "print(\"____________________________________________________________________\")"
      ],
      "metadata": {
        "id": "4O83S-Nh5mxk"
      },
      "execution_count": null,
      "outputs": []
    },
    {
      "cell_type": "code",
      "source": [
        "mat[\"kinzData\"][0].shape\n",
        "\n",
        "\n",
        "\n"
      ],
      "metadata": {
        "colab": {
          "base_uri": "https://localhost:8080/"
        },
        "id": "iqGK6zcL1zFP",
        "outputId": "fedd38ac-6be6-4e6c-a6a3-8987a2641b6a"
      },
      "execution_count": 30,
      "outputs": [
        {
          "output_type": "execute_result",
          "data": {
            "text/plain": [
              "(403,)"
            ]
          },
          "metadata": {},
          "execution_count": 30
        }
      ]
    },
    {
      "cell_type": "code",
      "source": [
        "\n",
        "\n",
        "\n",
        "\n"
      ],
      "metadata": {
        "id": "TpeFmicq1y-F"
      },
      "execution_count": null,
      "outputs": []
    },
    {
      "cell_type": "code",
      "source": [
        "\n",
        "\n",
        "\n",
        "\n"
      ],
      "metadata": {
        "id": "2hvJJ2wi1y11"
      },
      "execution_count": null,
      "outputs": []
    }
  ]
}