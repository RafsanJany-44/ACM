{
  "nbformat": 4,
  "nbformat_minor": 0,
  "metadata": {
    "colab": {
      "name": "Untitled49.ipynb",
      "provenance": [],
      "authorship_tag": "ABX9TyO6Q+gtDDVGkRl/mdEdL5Ri",
      "include_colab_link": true
    },
    "kernelspec": {
      "name": "python3",
      "display_name": "Python 3"
    },
    "language_info": {
      "name": "python"
    }
  },
  "cells": [
    {
      "cell_type": "markdown",
      "metadata": {
        "id": "view-in-github",
        "colab_type": "text"
      },
      "source": [
        "<a href=\"https://colab.research.google.com/github/RafsanJany-44/ACM/blob/master/Untitled49.ipynb\" target=\"_parent\"><img src=\"https://colab.research.google.com/assets/colab-badge.svg\" alt=\"Open In Colab\"/></a>"
      ]
    },
    {
      "cell_type": "code",
      "execution_count": 11,
      "metadata": {
        "id": "mSsz1MAqcWo3"
      },
      "outputs": [],
      "source": [
        "import pandas as pd\n",
        "import numpy as np\n",
        "data = 'https://raw.githubusercontent.com/RafsanJany-44/Thesis_Project/main/All_DATA/without_sn_and_Epoch/EEG_HMC.csv'\n",
        "dataset = pd.read_csv(data)\n",
        "X = dataset.iloc[:, 1:]\n",
        "y = dataset.iloc[:, 0]\n",
        "\n"
      ]
    },
    {
      "cell_type": "code",
      "source": [
        "from sklearn.model_selection import train_test_split\n",
        "X_train, X_test, y_train, y_test = train_test_split(X, y, test_size=0.30, random_state=7)"
      ],
      "metadata": {
        "id": "QaL_xITDcaOm"
      },
      "execution_count": 12,
      "outputs": []
    },
    {
      "cell_type": "code",
      "source": [
        "from sklearn.neighbors import KNeighborsClassifier\n",
        "model = KNeighborsClassifier(n_neighbors=3)\n",
        "model.fit(X_train, Y_train)\n",
        "y_pred=model.predict(X_test)"
      ],
      "metadata": {
        "id": "ZhtlRj8Ocl9o"
      },
      "execution_count": 13,
      "outputs": []
    },
    {
      "cell_type": "code",
      "source": [
        "from sklearn.metrics import classification_report, confusion_matrix, accuracy_score\n",
        "print(confusion_matrix(y_test, y_pred))\n",
        "print(classification_report(y_test,y_pred))\n",
        "print(\"Accurecy: \",accuracy_score(y_test, y_pred))"
      ],
      "metadata": {
        "colab": {
          "base_uri": "https://localhost:8080/"
        },
        "id": "0jzxlzuXcx_L",
        "outputId": "92073388-d5dc-4b7a-f711-c4fb0112aa62"
      },
      "execution_count": 14,
      "outputs": [
        {
          "output_type": "stream",
          "name": "stdout",
          "text": [
            "[[1488  993   53  455  664]\n",
            " [1051 8700 1222  552  212]\n",
            " [ 157 1135 5039   41   35]\n",
            " [ 525  633   56 3681   83]\n",
            " [1021  387   52  133 4168]]\n",
            "              precision    recall  f1-score   support\n",
            "\n",
            "          N1       0.35      0.41      0.38      3653\n",
            "          N2       0.73      0.74      0.74     11737\n",
            "          N3       0.78      0.79      0.79      6407\n",
            "           R       0.76      0.74      0.75      4978\n",
            "           W       0.81      0.72      0.76      5761\n",
            "\n",
            "    accuracy                           0.71     32536\n",
            "   macro avg       0.69      0.68      0.68     32536\n",
            "weighted avg       0.72      0.71      0.71     32536\n",
            "\n",
            "Accurecy:  0.7092451438406688\n"
          ]
        }
      ]
    }
  ]
}