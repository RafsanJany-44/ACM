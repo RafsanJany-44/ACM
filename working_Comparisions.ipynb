{
  "cells": [
    {
      "cell_type": "markdown",
      "metadata": {
        "id": "u3BMe_dBB2NU"
      },
      "source": [
        "### __Comparting Sorting Algorithms__"
      ]
    },
    {
      "cell_type": "markdown",
      "metadata": {
        "id": "fO8AXIfBB2NW"
      },
      "source": [
        "__Import Modules__"
      ]
    },
    {
      "cell_type": "code",
      "execution_count": null,
      "metadata": {
        "id": "S9vedw2QB2NW"
      },
      "outputs": [],
      "source": [
        "import time\n",
        "import import_ipynb\n",
        "from statistics import mean\n",
        "from Algorithms import *\n",
        "import matplotlib.pyplot as plt\n",
        "import pandas as pd\n",
        "from tqdm import tqdm"
      ]
    },
    {
      "cell_type": "markdown",
      "metadata": {
        "id": "gw3Rf6dbB2NX"
      },
      "source": [
        "__Create Pandas dataframe to store time taken to sort arrays of different sizes by different algorithms__"
      ]
    },
    {
      "cell_type": "code",
      "execution_count": null,
      "metadata": {
        "id": "7sq14LUZB2NX"
      },
      "outputs": [],
      "source": [
        "data = {\n",
        "  \"Input Size\": [],\n",
        "  \"Merge Sort\":[],\n",
        "  \"Selection Sort\":[],\n",
        "  \"Bubble Sort\":[],\n",
        "  \"Insertion Sort\":[],\n",
        "  \"Quick Sort\":[],\n",
        "  \"Heap Sort\":[]\n",
        "}\n",
        "\n",
        "input_size = [x for x in range(0,3200,200)]\n",
        "df = pd.DataFrame(data)\n",
        "\n",
        "df[\"Input Size\"] = input_size"
      ]
    },
    {
      "cell_type": "markdown",
      "metadata": {
        "id": "cANu462kB2NY"
      },
      "source": [
        "__Data collection for Merge Sort__"
      ]
    },
    {
      "cell_type": "code",
      "execution_count": null,
      "metadata": {
        "id": "A3QrtmO2B2NY",
        "outputId": "78d2a6f1-d8cd-4655-fd1f-15a6e5a1c1f2"
      },
      "outputs": [
        {
          "name": "stderr",
          "output_type": "stream",
          "text": [
            "Sorting in progress: 100%|██████████| 16/16 [00:05<00:00,  2.88it/s]\n"
          ]
        }
      ],
      "source": [
        "times = []\n",
        "temp = []\n",
        "for i in tqdm(input_size, desc = 'Sorting in progress'):\n",
        "  for recheck in range(50): #Check each different sized array 10 times for consistency\n",
        "    start = time.time()\n",
        "    data = get_array(1,5000,i)\n",
        "    merge_sort(data)\n",
        "    end = time.time()\n",
        "    temp.append(end-start)\n",
        "  times.append(mean(temp))\n",
        "  temp = []\n",
        "df[\"Merge Sort\"] = times"
      ]
    },
    {
      "cell_type": "markdown",
      "metadata": {
        "id": "Ph73wT-RB2NZ"
      },
      "source": [
        "__Data collection for Bubble sort__"
      ]
    },
    {
      "cell_type": "code",
      "execution_count": null,
      "metadata": {
        "id": "qLIXaNC3B2Na",
        "outputId": "1e345d8c-65f2-4224-97ed-ffbe668aee75"
      },
      "outputs": [
        {
          "name": "stderr",
          "output_type": "stream",
          "text": [
            "Sorting in progress: 100%|██████████| 16/16 [01:24<00:00,  5.26s/it]\n"
          ]
        }
      ],
      "source": [
        "times = []\n",
        "temp = []\n",
        "for i in tqdm(input_size, desc = 'Sorting in progress'):\n",
        "  for recheck in range(10): #Check each different sized array 10 times for consistency\n",
        "    start = time.time()\n",
        "    data = get_array(1,5000,i)\n",
        "    bubble_sort(data)\n",
        "    end = time.time()\n",
        "    temp.append(end-start)\n",
        "  times.append(mean(temp))\n",
        "  temp = []\n",
        "df[\"Bubble Sort\"] = times"
      ]
    },
    {
      "cell_type": "markdown",
      "metadata": {
        "id": "BdwmS71jB2Na"
      },
      "source": [
        "__Data collection for Selection Sort__"
      ]
    },
    {
      "cell_type": "code",
      "execution_count": null,
      "metadata": {
        "id": "7SVclNG0B2Na",
        "outputId": "7e54f640-8570-4892-9ff8-01bf5256053b"
      },
      "outputs": [
        {
          "name": "stderr",
          "output_type": "stream",
          "text": [
            "Sorting in progress: 100%|██████████| 16/16 [00:44<00:00,  2.79s/it]\n"
          ]
        }
      ],
      "source": [
        "times = []\n",
        "temp = []\n",
        "for i in tqdm(input_size, desc = 'Sorting in progress'):\n",
        "  for recheck in range(10): #Check each different sized array 10 times for consistency\n",
        "    start = time.time()\n",
        "    data = get_array(1,5000,i)\n",
        "    selection_sort(data)\n",
        "    end = time.time()\n",
        "    temp.append(end-start)\n",
        "  times.append(mean(temp))\n",
        "  temp = []\n",
        "df[\"Selection Sort\"] = times"
      ]
    },
    {
      "cell_type": "markdown",
      "metadata": {
        "id": "v4lR_03qB2Na"
      },
      "source": [
        "__Data Collection for Insertion Sort__"
      ]
    },
    {
      "cell_type": "code",
      "execution_count": null,
      "metadata": {
        "id": "rPB3tkpGB2Na",
        "outputId": "00366426-d6eb-48e3-bd11-e9e507c46d21"
      },
      "outputs": [
        {
          "name": "stderr",
          "output_type": "stream",
          "text": [
            "Sorting in progress: 100%|██████████| 16/16 [00:37<00:00,  2.37s/it]\n"
          ]
        }
      ],
      "source": [
        "times = []\n",
        "temp = []\n",
        "for i in tqdm(input_size, desc = 'Sorting in progress'):\n",
        "  for recheck in range(10): #Check each different sized array 10 times for consistency\n",
        "    start = time.time()\n",
        "    data = get_array(1,5000,i)\n",
        "    insertionSort(data)\n",
        "    end = time.time()\n",
        "    temp.append(end-start)\n",
        "  times.append(mean(temp))\n",
        "  temp = []\n",
        "df[\"Insertion Sort\"] = times"
      ]
    },
    {
      "cell_type": "markdown",
      "metadata": {
        "id": "3QnvL7GIB2Nb"
      },
      "source": [
        "__Data Collection for Quick Sort__"
      ]
    },
    {
      "cell_type": "code",
      "execution_count": null,
      "metadata": {
        "id": "PX6414I3B2Nb",
        "outputId": "ada5e195-3b63-4ed2-e30e-8ac2e025cd1f"
      },
      "outputs": [
        {
          "name": "stderr",
          "output_type": "stream",
          "text": [
            "Sorting in progress: 100%|██████████| 16/16 [00:03<00:00,  4.47it/s]\n"
          ]
        }
      ],
      "source": [
        "times = []\n",
        "temp = []\n",
        "for i in tqdm(input_size, desc = 'Sorting in progress'):\n",
        "  for recheck in range(40): #Check each different sized array 10 times for consistency\n",
        "    start = time.time()\n",
        "    data = get_array(1,5000,i)\n",
        "    quickSort(data, 0, len(data) - 1)\n",
        "    end = time.time()\n",
        "    temp.append(end-start)\n",
        "  times.append(mean(temp))\n",
        "  temp = []\n",
        "df[\"Quick Sort\"] = times"
      ]
    },
    {
      "cell_type": "markdown",
      "metadata": {
        "id": "6XlXxJXvB2Nb"
      },
      "source": [
        "__Data Collection for Heap Sort__"
      ]
    },
    {
      "cell_type": "code",
      "execution_count": null,
      "metadata": {
        "id": "HDnYRq1aB2Nb",
        "outputId": "90403a91-af48-4274-a1b6-59ebd4b02e0d"
      },
      "outputs": [
        {
          "name": "stderr",
          "output_type": "stream",
          "text": [
            "Sorting in progress: 100%|██████████| 16/16 [00:06<00:00,  2.66it/s]\n"
          ]
        }
      ],
      "source": [
        "times = []\n",
        "temp = []\n",
        "for i in tqdm(input_size, desc = 'Sorting in progress'):\n",
        "  for recheck in range(30): #Check each different sized array 10 times for consistency\n",
        "    start = time.time()\n",
        "    data = get_array(1,5000,i)\n",
        "    heapSort(data)\n",
        "    end = time.time()\n",
        "    temp.append(end-start)\n",
        "  times.append(mean(temp))\n",
        "  temp = []\n",
        "df[\"Heap Sort\"] = times"
      ]
    },
    {
      "cell_type": "markdown",
      "metadata": {
        "id": "AT5a2onFB2Nb"
      },
      "source": [
        "__Save as CSV__"
      ]
    },
    {
      "cell_type": "code",
      "execution_count": null,
      "metadata": {
        "id": "Jixdpv7OB2Nb"
      },
      "outputs": [],
      "source": [
        "df.to_csv('data.csv', index=False)"
      ]
    }
  ],
  "metadata": {
    "kernelspec": {
      "display_name": "Python 3.9.13 ('base')",
      "language": "python",
      "name": "python3"
    },
    "language_info": {
      "codemirror_mode": {
        "name": "ipython",
        "version": 3
      },
      "file_extension": ".py",
      "mimetype": "text/x-python",
      "name": "python",
      "nbconvert_exporter": "python",
      "pygments_lexer": "ipython3",
      "version": "3.9.13"
    },
    "orig_nbformat": 4,
    "vscode": {
      "interpreter": {
        "hash": "49cb93f377a7abe7414b7b0f21fb3017538004a126cf690fb524202736b7fb92"
      }
    },
    "colab": {
      "provenance": []
    }
  },
  "nbformat": 4,
  "nbformat_minor": 0
}