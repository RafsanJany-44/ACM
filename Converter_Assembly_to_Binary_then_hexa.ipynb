{
  "nbformat": 4,
  "nbformat_minor": 0,
  "metadata": {
    "colab": {
      "provenance": [],
      "authorship_tag": "ABX9TyMMbFE1ONP1e/pXirj+0MY3",
      "include_colab_link": true
    },
    "kernelspec": {
      "name": "python3",
      "display_name": "Python 3"
    },
    "language_info": {
      "name": "python"
    }
  },
  "cells": [
    {
      "cell_type": "markdown",
      "metadata": {
        "id": "view-in-github",
        "colab_type": "text"
      },
      "source": [
        "<a href=\"https://colab.research.google.com/github/RafsanJany-44/ARC/blob/master/Converter_Assembly_to_Binary_then_hexa.ipynb\" target=\"_parent\"><img src=\"https://colab.research.google.com/assets/colab-badge.svg\" alt=\"Open In Colab\"/></a>"
      ]
    },
    {
      "cell_type": "code",
      "execution_count": 26,
      "metadata": {
        "id": "BIQJ--587ke1"
      },
      "outputs": [],
      "source": [
        "def binToHexa(n):\n",
        "    return hex(int(n, 2))\n",
        "\n",
        "\n",
        "def deciToBin(n):\n",
        "  return bin(int(n,10))\n",
        "\n"
      ]
    },
    {
      "cell_type": "code",
      "source": [
        "binToHexa(\"1001\")"
      ],
      "metadata": {
        "colab": {
          "base_uri": "https://localhost:8080/",
          "height": 36
        },
        "id": "w9rACYlN_IFy",
        "outputId": "5c1bc8a4-72c0-473c-e5ee-bbb0cadae058"
      },
      "execution_count": 24,
      "outputs": [
        {
          "output_type": "execute_result",
          "data": {
            "text/plain": [
              "'9'"
            ],
            "application/vnd.google.colaboratory.intrinsic+json": {
              "type": "string"
            }
          },
          "metadata": {},
          "execution_count": 24
        }
      ]
    },
    {
      "cell_type": "code",
      "source": [],
      "metadata": {
        "id": "mvtIGFX5_ZVh"
      },
      "execution_count": 20,
      "outputs": []
    },
    {
      "cell_type": "code",
      "source": [
        "opcode_dict={   \n",
        "  \"add\" : \"000\",\n",
        "  \"sub\" : \"001\",\n",
        "  \"addi\": \"010\",\n",
        "  \"lw\"  : \"100\",\n",
        "  \"sw\"  : \"101\",\n",
        "  \"beg\" : \"101\",\n",
        "  \"jmp\" : \"110\",\n",
        "  \"sll\" : \"111\"\n",
        "}\n",
        "\n",
        "register_dict={\n",
        "    \"$ac\" : \"00\",\n",
        "    \"$s1\" : \"10\",\n",
        "    \"$s2\" : \"11\",\n",
        "    \"$s3\" : \"11\"\n",
        "}\n",
        "\n",
        "ins, regs=input().split(\" \")\n",
        "\n",
        "print(reg)\n",
        "\n",
        "reg=regs.split(\",\")\n",
        "if len(reg)==2:\n",
        "  print(binToHexa(opcode_dict[ins])+binToHexa(register_dict[reg[0]])[2:]+binToHexa(register_dict[reg[1]])[2:])\n",
        "\n",
        "\n",
        "\n",
        "\n"
      ],
      "metadata": {
        "colab": {
          "base_uri": "https://localhost:8080/"
        },
        "id": "xI31JE6O8LlW",
        "outputId": "090b9379-4726-4b47-df43-c2a1dc45ce30"
      },
      "execution_count": 28,
      "outputs": [
        {
          "output_type": "stream",
          "name": "stdout",
          "text": [
            "add $s1,$s2\n",
            "['$s1', '$s1']\n",
            "0x023\n"
          ]
        }
      ]
    }
  ]
}