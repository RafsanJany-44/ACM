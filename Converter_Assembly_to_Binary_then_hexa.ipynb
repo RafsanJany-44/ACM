{
  "nbformat": 4,
  "nbformat_minor": 0,
  "metadata": {
    "colab": {
      "provenance": [],
      "authorship_tag": "ABX9TyMQDq6gtej/ESY1uL3tI0Bk",
      "include_colab_link": true
    },
    "kernelspec": {
      "name": "python3",
      "display_name": "Python 3"
    },
    "language_info": {
      "name": "python"
    }
  },
  "cells": [
    {
      "cell_type": "markdown",
      "metadata": {
        "id": "view-in-github",
        "colab_type": "text"
      },
      "source": [
        "<a href=\"https://colab.research.google.com/github/RafsanJany-44/ARC/blob/master/Converter_Assembly_to_Binary_then_hexa.ipynb\" target=\"_parent\"><img src=\"https://colab.research.google.com/assets/colab-badge.svg\" alt=\"Open In Colab\"/></a>"
      ]
    },
    {
      "cell_type": "code",
      "execution_count": 26,
      "metadata": {
        "id": "BIQJ--587ke1"
      },
      "outputs": [],
      "source": [
        "\n"
      ]
    },
    {
      "cell_type": "code",
      "source": [
        "binToHexa(\"1001\")"
      ],
      "metadata": {
        "colab": {
          "base_uri": "https://localhost:8080/",
          "height": 36
        },
        "id": "w9rACYlN_IFy",
        "outputId": "5c1bc8a4-72c0-473c-e5ee-bbb0cadae058"
      },
      "execution_count": 24,
      "outputs": [
        {
          "output_type": "execute_result",
          "data": {
            "text/plain": [
              "'9'"
            ],
            "application/vnd.google.colaboratory.intrinsic+json": {
              "type": "string"
            }
          },
          "metadata": {},
          "execution_count": 24
        }
      ]
    },
    {
      "cell_type": "code",
      "source": [],
      "metadata": {
        "id": "mvtIGFX5_ZVh"
      },
      "execution_count": 20,
      "outputs": []
    },
    {
      "cell_type": "code",
      "source": [
        "\n",
        "# a function to convert binary to hexadecimal\n",
        "def binToHexa(n):\n",
        "    return hex(int(n, 2))\n",
        "\n",
        "\n",
        "\n",
        "\n",
        "# a function to convert decimal to binary\n",
        "def deciToBin(n):\n",
        "  return bin(int(n,10))\n",
        "\n",
        "\n",
        "\n",
        "#opcode dictionary\n",
        "opcode_dict={   \n",
        "  \"add\"   : \"0000\",\n",
        "  \"addi\"  : \"0001\",\n",
        "  \"sub\"   : \"0010\",\n",
        "  \"and\"   : \"0011\",\n",
        "  \"or\"    : \"0100\",\n",
        "  \"sll\"   : \"0101\",\n",
        "  \"srl\"   : \"0110\",\n",
        "  \"lw\"    : \"0111\",\n",
        "  \"sw\"    : \"1000\",\n",
        "  \"in\"    : \"1001\",\n",
        "  \"out\"   : \"1010\",\n",
        "  \"disp\"  : \"1011\",\n",
        "  \"beq\"   : \"1100\",\n",
        "  \"slt\"   : \"1101\",\n",
        "  \"slti\"  : \"1110\",\n",
        "  \"j\"     : \"1111\"\n",
        "}\n",
        "\n",
        "register_dict={\n",
        "  \"$zero\" : \"0000\",\n",
        "  \"$s0\"   : \"0001\",\n",
        "  \"$s1\"   : \"0010\",\n",
        "  \"$s2\"   : \"0011\",\n",
        "  \"$s3\"   : \"0100\",\n",
        "  \"$s4\"   : \"0101\",\n",
        "  \"$s5\"   : \"0110\",\n",
        "  \"$s6\"   : \"0111\",\n",
        "  \"$t0\"   : \"1000\",\n",
        "  \"$t1\"   : \"1001\",\n",
        "  \"$t2\"   : \"1010\",\n",
        "  \"$t3\"   : \"1011\",\n",
        "  \"$t4\"   : \"1100\",\n",
        "  \"$t5\"   : \"1101\",\n",
        "  \"$t6\"   : \"1110\",\n",
        "  \"$t7\"   : \"1111\",\n",
        "\n",
        "}\n",
        "\n",
        "instruction, regs=input().split(\" \")\n",
        "\n",
        "\n",
        "reg=regs.split(\",\")\n",
        "\n",
        "print(reg)\n",
        "\n",
        "if len(reg)==2:\n",
        "\n",
        "  #for R type\n",
        "  if reg[1] in register_dict.keys():\n",
        "    hexa_opCode = binToHexa(opcode_dict[instruction])\n",
        "    hexa_rs     = binToHexa(register_dict[reg[0]])[2:]\n",
        "    hexa_rd     = binToHexa(register_dict[reg[1]])[2:]\n",
        "\n",
        "    print(hexa_opCode + hexa_rs + hexa_rd)\n",
        "\n",
        "  #for I type\n",
        "  else:\n",
        "    hexa_opCode   = binToHexa(opcode_dict[instruction])\n",
        "    hexa_rs       = binToHexa(register_dict[reg[0]])[2:]\n",
        "    immediate_bin = deciToBin(reg[1])                     #this can be greater then 15\n",
        "    hexa_immediate     = binToHexa(immediate_bin)[2:]\n",
        "\n",
        "    print(hexa_opCode + hexa_rs + hexa_immediate)\n",
        "\n",
        "\n",
        "\n",
        "\n",
        "\n",
        "\n",
        "\n",
        "\n"
      ],
      "metadata": {
        "colab": {
          "base_uri": "https://localhost:8080/"
        },
        "id": "xI31JE6O8LlW",
        "outputId": "12e53dad-3568-43ed-c414-bc8d75bf4d90"
      },
      "execution_count": 9,
      "outputs": [
        {
          "output_type": "stream",
          "name": "stdout",
          "text": [
            "add $s3,12\n",
            "['$s3', '12']\n",
            "0x04c\n"
          ]
        }
      ]
    }
  ]
}