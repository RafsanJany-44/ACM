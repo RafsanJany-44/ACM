{
  "nbformat": 4,
  "nbformat_minor": 0,
  "metadata": {
    "colab": {
      "provenance": [],
      "authorship_tag": "ABX9TyOHgQz32NzZvh8lqikFTvpd",
      "include_colab_link": true
    },
    "kernelspec": {
      "name": "python3",
      "display_name": "Python 3"
    },
    "language_info": {
      "name": "python"
    }
  },
  "cells": [
    {
      "cell_type": "markdown",
      "metadata": {
        "id": "view-in-github",
        "colab_type": "text"
      },
      "source": [
        "<a href=\"https://colab.research.google.com/github/RafsanJany-44/ARC/blob/master/Converter_Assembly_to_Binary_then_hexa.ipynb\" target=\"_parent\"><img src=\"https://colab.research.google.com/assets/colab-badge.svg\" alt=\"Open In Colab\"/></a>"
      ]
    },
    {
      "cell_type": "code",
      "source": [
        "\n",
        "# a function to convert binary to hexadecimal\n",
        "def binToHexa(n):\n",
        "    return hex(int(n, 2))\n",
        "\n",
        "\n",
        "\n",
        "\n",
        "# a function to convert decimal to binary\n",
        "def deciToBin(n):\n",
        "  return bin(int(n,10))\n",
        "\n",
        "\n",
        "\n",
        "#opcode dictionary\n",
        "opcode_r_type={   \n",
        "  \"add\"   : \"0000\",\n",
        "  \"sub\"   : \"0010\",\n",
        "  \"and\"   : \"0011\",\n",
        "  \"or\"    : \"0100\",\n",
        "  \"slt\"   : \"1101\",\n",
        "}\n",
        "\n",
        "opcode_i_type = {\n",
        "      \"addi\"  : \"0001\",\n",
        "      \"sll\"   : \"0101\",\n",
        "      \"srl\"   : \"0110\",\n",
        "      \"lw\"    : \"0111\",\n",
        "      \"sw\"    : \"1000\",\n",
        "      \"slti\"  : \"1110\"\n",
        "}\n",
        "\n",
        "opcode_j_type = {\n",
        "      \"in\"    : \"1001\",\n",
        "      \"out\"   : \"1010\",\n",
        "      \"disp\"  : \"1011\",\n",
        "      \"beq\"   : \"1100\",\n",
        "      \"j\"     : \"1111\"\n",
        "}\n",
        "\n",
        "register_dict={\n",
        "  \"$zero\" : \"0000\",\n",
        "  \"$s0\"   : \"0001\",\n",
        "  \"$s1\"   : \"0010\",\n",
        "  \"$s2\"   : \"0011\",\n",
        "  \"$s3\"   : \"0100\",\n",
        "  \"$s4\"   : \"0101\",\n",
        "  \"$s5\"   : \"0110\",\n",
        "  \"$s6\"   : \"0111\",\n",
        "  \"$t0\"   : \"1000\",\n",
        "  \"$t1\"   : \"1001\",\n",
        "  \"$t2\"   : \"1010\",\n",
        "  \"$t3\"   : \"1011\",\n",
        "  \"$t4\"   : \"1100\",\n",
        "  \"$t5\"   : \"1101\",\n",
        "  \"$t6\"   : \"1110\",\n",
        "  \"$t7\"   : \"1111\",\n",
        "  \"l\"     : \"1000\",\n",
        "\n",
        "}\n",
        "\n",
        "instruction, regs=input().split(\" \")\n",
        "\n",
        "\n",
        "reg=regs.split(\",\")\n",
        "\n",
        "print(reg)\n",
        "print(len(reg[1]))\n",
        "\n",
        "if len(reg)==2:\n",
        "\n",
        "  #for R type\n",
        "  if reg[1] in register_dict.keys():\n",
        "    hexa_opCode = binToHexa(opcode_dict[instruction])\n",
        "    hexa_rs     = binToHexa(register_dict[reg[0]])[2:]\n",
        "    hexa_rd     = binToHexa(register_dict[reg[1]])[2:]\n",
        "\n",
        "    print(hexa_opCode + hexa_rs + hexa_rd)\n",
        "\n",
        "  \n",
        "\n",
        "\n",
        "  #for I type\n",
        "  else:\n",
        "    hexa_opCode   = binToHexa(opcode_dict[instruction])\n",
        "    hexa_rs       = binToHexa(register_dict[reg[0]])[2:]\n",
        "    immediate_bin = deciToBin(reg[1])                     #this can be greater then 15\n",
        "    hexa_immediate     = binToHexa(immediate_bin)[2:]\n",
        "\n",
        "    print(hexa_opCode + hexa_rs + hexa_immediate)\n",
        "\n",
        "\n",
        "\n",
        "\n",
        "\n",
        "\n",
        "#lw $s0,2($s1)\n",
        "\n"
      ],
      "metadata": {
        "colab": {
          "base_uri": "https://localhost:8080/",
          "height": 287
        },
        "id": "xI31JE6O8LlW",
        "outputId": "48c32038-19aa-489b-f208-fb26f1d114ab"
      },
      "execution_count": 2,
      "outputs": [
        {
          "output_type": "stream",
          "name": "stdout",
          "text": [
            "addi $2,0\n",
            "['$2', '0']\n",
            "1\n"
          ]
        },
        {
          "output_type": "error",
          "ename": "KeyError",
          "evalue": "ignored",
          "traceback": [
            "\u001b[0;31m---------------------------------------------------------------------------\u001b[0m",
            "\u001b[0;31mKeyError\u001b[0m                                  Traceback (most recent call last)",
            "\u001b[0;32m<ipython-input-2-4870a962d0dd>\u001b[0m in \u001b[0;36m<module>\u001b[0;34m\u001b[0m\n\u001b[1;32m     76\u001b[0m   \u001b[0;32melse\u001b[0m\u001b[0;34m:\u001b[0m\u001b[0;34m\u001b[0m\u001b[0;34m\u001b[0m\u001b[0m\n\u001b[1;32m     77\u001b[0m     \u001b[0mhexa_opCode\u001b[0m   \u001b[0;34m=\u001b[0m \u001b[0mbinToHexa\u001b[0m\u001b[0;34m(\u001b[0m\u001b[0mopcode_dict\u001b[0m\u001b[0;34m[\u001b[0m\u001b[0minstruction\u001b[0m\u001b[0;34m]\u001b[0m\u001b[0;34m)\u001b[0m\u001b[0;34m\u001b[0m\u001b[0;34m\u001b[0m\u001b[0m\n\u001b[0;32m---> 78\u001b[0;31m     \u001b[0mhexa_rs\u001b[0m       \u001b[0;34m=\u001b[0m \u001b[0mbinToHexa\u001b[0m\u001b[0;34m(\u001b[0m\u001b[0mregister_dict\u001b[0m\u001b[0;34m[\u001b[0m\u001b[0mreg\u001b[0m\u001b[0;34m[\u001b[0m\u001b[0;36m0\u001b[0m\u001b[0;34m]\u001b[0m\u001b[0;34m]\u001b[0m\u001b[0;34m)\u001b[0m\u001b[0;34m[\u001b[0m\u001b[0;36m2\u001b[0m\u001b[0;34m:\u001b[0m\u001b[0;34m]\u001b[0m\u001b[0;34m\u001b[0m\u001b[0;34m\u001b[0m\u001b[0m\n\u001b[0m\u001b[1;32m     79\u001b[0m     \u001b[0mimmediate_bin\u001b[0m \u001b[0;34m=\u001b[0m \u001b[0mdeciToBin\u001b[0m\u001b[0;34m(\u001b[0m\u001b[0mreg\u001b[0m\u001b[0;34m[\u001b[0m\u001b[0;36m1\u001b[0m\u001b[0;34m]\u001b[0m\u001b[0;34m)\u001b[0m                     \u001b[0;31m#this can be greater then 15\u001b[0m\u001b[0;34m\u001b[0m\u001b[0;34m\u001b[0m\u001b[0m\n\u001b[1;32m     80\u001b[0m     \u001b[0mhexa_immediate\u001b[0m     \u001b[0;34m=\u001b[0m \u001b[0mbinToHexa\u001b[0m\u001b[0;34m(\u001b[0m\u001b[0mimmediate_bin\u001b[0m\u001b[0;34m)\u001b[0m\u001b[0;34m[\u001b[0m\u001b[0;36m2\u001b[0m\u001b[0;34m:\u001b[0m\u001b[0;34m]\u001b[0m\u001b[0;34m\u001b[0m\u001b[0;34m\u001b[0m\u001b[0m\n",
            "\u001b[0;31mKeyError\u001b[0m: '$2'"
          ]
        }
      ]
    }
  ]
}