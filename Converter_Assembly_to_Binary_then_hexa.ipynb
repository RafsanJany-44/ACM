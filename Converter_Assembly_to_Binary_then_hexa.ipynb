{
  "nbformat": 4,
  "nbformat_minor": 0,
  "metadata": {
    "colab": {
      "provenance": [],
      "authorship_tag": "ABX9TyOgPfsaE/giJ8OsUN89bJes",
      "include_colab_link": true
    },
    "kernelspec": {
      "name": "python3",
      "display_name": "Python 3"
    },
    "language_info": {
      "name": "python"
    }
  },
  "cells": [
    {
      "cell_type": "markdown",
      "metadata": {
        "id": "view-in-github",
        "colab_type": "text"
      },
      "source": [
        "<a href=\"https://colab.research.google.com/github/RafsanJany-44/ARC/blob/master/Converter_Assembly_to_Binary_then_hexa.ipynb\" target=\"_parent\"><img src=\"https://colab.research.google.com/assets/colab-badge.svg\" alt=\"Open In Colab\"/></a>"
      ]
    },
    {
      "cell_type": "code",
      "source": [
        "# a function to convert binary to hexadecimal\n",
        "def binToHexa(n):\n",
        "    return hex(int(n, 2))\n",
        "\n",
        "# a function to convert decimal to binary\n",
        "def deciToBin(n):\n",
        "  return bin(int(n,10))\n",
        "\n",
        "#opcode dictionary\n",
        "opcode_r_type={   \n",
        "  \"add\"   : \"0000\",\n",
        "  \"sub\"   : \"0010\",\n",
        "  \"and\"   : \"0011\",\n",
        "  \"or\"    : \"0100\",\n",
        "  \"slt\"   : \"1101\",\n",
        "}\n",
        "\n",
        "opcode_i_type = {\n",
        "  \"addi\"  : \"0001\",\n",
        "  \"sll\"   : \"0101\",\n",
        "  \"srl\"   : \"0110\",\n",
        "  \"lw\"    : \"0111\",\n",
        "  \"sw\"    : \"1000\",\n",
        "  \"slti\"  : \"1110\"\n",
        "}\n",
        "\n",
        "opcode_j_type = {\n",
        "  \"in\"    : \"1001\",\n",
        "  \"out\"   : \"1010\",\n",
        "  \"disp\"  : \"1011\",\n",
        "  \"beq\"   : \"1100\",\n",
        "  \"j\"     : \"1111\"\n",
        "}\n",
        "\n",
        "register_dict={\n",
        "  \"$zero\" : \"0000\",\n",
        "  \"$s0\"   : \"0001\",\n",
        "  \"$s1\"   : \"0010\",\n",
        "  \"$s2\"   : \"0011\",\n",
        "  \"$s3\"   : \"0100\",\n",
        "  \"$s4\"   : \"0101\",\n",
        "  \"$s5\"   : \"0110\",\n",
        "  \"$s6\"   : \"0111\",\n",
        "  \"$t0\"   : \"1000\",\n",
        "  \"$t1\"   : \"1001\",\n",
        "  \"$t2\"   : \"1010\",\n",
        "  \"$t3\"   : \"1011\",\n",
        "  \"$t4\"   : \"1100\",\n",
        "  \"$t5\"   : \"1101\",\n",
        "  \"$t6\"   : \"1110\",\n",
        "  \"$t7\"   : \"1111\",\n",
        "  \"l\"     : \"1000\",\n",
        "\n",
        "}\n",
        "\n",
        "\n",
        "\n",
        "gateway = list(input().lower().split(\" \"))\n",
        "\n",
        "\n",
        "#this section will formate the space (add $s1,$s2 or add $s1, $s2 )\n",
        "if len(gateway)==3:\n",
        "   instruction = gateway[0]\n",
        "   reg=[gateway[1].replace(',', ''), gateway[2]]\n",
        "\n",
        "elif gateway[0]==\"disp\":\n",
        "  instruction=\"disp\"\n",
        "\n",
        "else:\n",
        "  instruction = gateway[0]\n",
        "  reg=gateway[1].split(\",\")\n",
        "\n",
        "\n",
        "#in this section, R tyep register will be decoded.\n",
        "if instruction in opcode_r_type.keys():\n",
        "  try:\n",
        "    hexa_opCode = binToHexa(opcode_r_type[instruction])\n",
        "    hexa_rs     = binToHexa(register_dict[reg[0]])[2:]\n",
        "    hexa_rd     = binToHexa(register_dict[reg[1]])[2:]\n",
        "    print(hexa_opCode + hexa_rs + hexa_rd)\n",
        "  \n",
        "  except Exception as e:\n",
        "    print(\"Syntex Does not match!!\")\n",
        "\n",
        "\n",
        "#in this section, I tyep register will be decoded.\n",
        "elif instruction in opcode_i_type.keys():\n",
        "  try:\n",
        "    if int(reg[1],10)<=15:                #immediate can not be greater then 15 cause register hase only 4 bit\n",
        "      hexa_opCode   = binToHexa(opcode_i_type[instruction])\n",
        "      hexa_rs       = binToHexa(register_dict[reg[0]])[2:]\n",
        "      immediate_bin = deciToBin(reg[1])                     \n",
        "      hexa_immediate     = binToHexa(immediate_bin)[2:]\n",
        "      print(hexa_opCode + hexa_rs + hexa_immediate)\n",
        "    else:\n",
        "      print(\"Bits out of bound....\")\n",
        "  \n",
        "  except Exception as e:\n",
        "        print(\"Syntex Does not match!!\")\n",
        "\n",
        "\n",
        "#in this section, J tyep register will be decoded.\n",
        "elif instruction in opcode_j_type.keys():\n",
        "  try:\n",
        "    if instruction==\"disp\":\n",
        "      hexa_opCode   = binToHexa(opcode_j_type[instruction])\n",
        "      print(hexa_opCode)\n",
        "    \n",
        "    else:\n",
        "      hexa_opCode   = binToHexa(opcode_j_type[instruction])\n",
        "      hexa_rs       = binToHexa(register_dict[reg[0]])[2:]\n",
        "      print(hexa_opCode + hexa_rs)\n",
        "  \n",
        "  except Exception as e:\n",
        "        print(\"Syntex Does not match!!\")\n",
        "\n",
        "\n",
        "else:\n",
        "  print(\"Opcode did not match\")\n"
      ],
      "metadata": {
        "colab": {
          "base_uri": "https://localhost:8080/"
        },
        "id": "xI31JE6O8LlW",
        "outputId": "0bdec85d-b7f9-45db-97dc-8171ae9e787d"
      },
      "execution_count": 48,
      "outputs": [
        {
          "output_type": "stream",
          "name": "stdout",
          "text": [
            "disp\n",
            "0xb\n"
          ]
        }
      ]
    },
    {
      "cell_type": "code",
      "source": [
        "h={\"a\":0,\"b\":5,\"\":\"\"}\n",
        "l=\"\"\n",
        "print(h[l])"
      ],
      "metadata": {
        "colab": {
          "base_uri": "https://localhost:8080/"
        },
        "id": "H5bsNqOf0PHk",
        "outputId": "f8c192d6-e54a-4b55-c70b-3da9869b30ca"
      },
      "execution_count": 46,
      "outputs": [
        {
          "output_type": "stream",
          "name": "stdout",
          "text": [
            "\n"
          ]
        }
      ]
    },
    {
      "cell_type": "code",
      "source": [
        "taken = list(input().lower().split(\" \"))\n",
        "\n",
        "if len(taken)==3:\n",
        "   instruction = taken[0]\n",
        "   reg=[taken[1].replace(',', ''), taken[2]]\n",
        "else:\n",
        "  instruction = taken[0]\n",
        "  reg=taken[1].split(\",\")\n",
        "\n",
        "print(instruction)\n",
        "print(reg)"
      ],
      "metadata": {
        "colab": {
          "base_uri": "https://localhost:8080/"
        },
        "id": "WtxFJQ_vymJJ",
        "outputId": "5229ec76-751a-4d2d-fb8d-c175edd1f413"
      },
      "execution_count": 28,
      "outputs": [
        {
          "output_type": "stream",
          "name": "stdout",
          "text": [
            "or $s0,$s1\n",
            "2\n",
            "or\n",
            "['$s0', '$s1']\n"
          ]
        }
      ]
    }
  ]
}