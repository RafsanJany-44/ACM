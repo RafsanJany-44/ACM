{
  "nbformat": 4,
  "nbformat_minor": 0,
  "metadata": {
    "colab": {
      "provenance": [],
      "authorship_tag": "ABX9TyNtxpY19X/Qy3mS5bO3CQ8G",
      "include_colab_link": true
    },
    "kernelspec": {
      "name": "python3",
      "display_name": "Python 3"
    },
    "language_info": {
      "name": "python"
    }
  },
  "cells": [
    {
      "cell_type": "markdown",
      "metadata": {
        "id": "view-in-github",
        "colab_type": "text"
      },
      "source": [
        "<a href=\"https://colab.research.google.com/github/RafsanJany-44/ARC/blob/master/Converter_Assembly_to_Binary_then_hexa.ipynb\" target=\"_parent\"><img src=\"https://colab.research.google.com/assets/colab-badge.svg\" alt=\"Open In Colab\"/></a>"
      ]
    },
    {
      "cell_type": "code",
      "source": [
        "\n",
        "# a function to convert binary to hexadecimal\n",
        "def binToHexa(n):\n",
        "    return hex(int(n, 2))\n",
        "\n",
        "\n",
        "\n",
        "\n",
        "# a function to convert decimal to binary\n",
        "def deciToBin(n):\n",
        "  return bin(int(n,10))\n",
        "\n",
        "\n",
        "\n",
        "#opcode dictionary\n",
        "opcode_r_type={   \n",
        "  \"add\"   : \"0000\",\n",
        "  \"sub\"   : \"0010\",\n",
        "  \"and\"   : \"0011\",\n",
        "  \"or\"    : \"0100\",\n",
        "  \"slt\"   : \"1101\",\n",
        "}\n",
        "\n",
        "opcode_i_type = {\n",
        "  \"addi\"  : \"0001\",\n",
        "  \"sll\"   : \"0101\",\n",
        "  \"srl\"   : \"0110\",\n",
        "  \"lw\"    : \"0111\",\n",
        "  \"sw\"    : \"1000\",\n",
        "  \"slti\"  : \"1110\"\n",
        "}\n",
        "\n",
        "opcode_j_type = {\n",
        "  \"in\"    : \"1001\",\n",
        "  \"out\"   : \"1010\",\n",
        "  \"disp\"  : \"1011\",\n",
        "  \"beq\"   : \"1100\",\n",
        "  \"j\"     : \"1111\"\n",
        "}\n",
        "\n",
        "register_dict={\n",
        "  \"$zero\" : \"0000\",\n",
        "  \"$s0\"   : \"0001\",\n",
        "  \"$s1\"   : \"0010\",\n",
        "  \"$s2\"   : \"0011\",\n",
        "  \"$s3\"   : \"0100\",\n",
        "  \"$s4\"   : \"0101\",\n",
        "  \"$s5\"   : \"0110\",\n",
        "  \"$s6\"   : \"0111\",\n",
        "  \"$t0\"   : \"1000\",\n",
        "  \"$t1\"   : \"1001\",\n",
        "  \"$t2\"   : \"1010\",\n",
        "  \"$t3\"   : \"1011\",\n",
        "  \"$t4\"   : \"1100\",\n",
        "  \"$t5\"   : \"1101\",\n",
        "  \"$t6\"   : \"1110\",\n",
        "  \"$t7\"   : \"1111\",\n",
        "  \"l\"     : \"1000\",\n",
        "\n",
        "}\n",
        "\n",
        "\n",
        "\n",
        "gateway = list(input().lower().split(\" \"))\n",
        "\n",
        "\n",
        "#this section will formate the space (add $s1,$s2 or add $s1, $s2 )\n",
        "if len(gateway)==3:\n",
        "   instruction = gateway[0]\n",
        "   reg=[gateway[1].replace(',', ''), gateway[2]]\n",
        "else:\n",
        "  instruction = gateway[0]\n",
        "  reg=gateway[1].split(\",\")\n",
        "\n",
        "\n",
        "#in this section, R tyep register will be decoded.\n",
        "if instruction in opcode_r_type.keys():\n",
        "\n",
        "    hexa_opCode = binToHexa(opcode_r_type[instruction])\n",
        "    hexa_rs     = binToHexa(register_dict[reg[0]])[2:]\n",
        "    hexa_rd     = binToHexa(register_dict[reg[1]])[2:]\n",
        "\n",
        "    print(hexa_opCode + hexa_rs + hexa_rd)\n",
        "\n",
        "  \n",
        "#in this section, I tyep register will be decoded.\n",
        "elif instruction in opcode_i_type.keys():\n",
        "\n",
        "    hexa_opCode   = binToHexa(opcode_i_type[instruction])\n",
        "    hexa_rs       = binToHexa(register_dict[reg[0]])[2:]\n",
        "    immediate_bin = deciToBin(reg[1])                     #this can be greater then 15\n",
        "    hexa_immediate     = binToHexa(immediate_bin)[2:]\n",
        "\n",
        "    print(hexa_opCode + hexa_rs + hexa_immediate)\n",
        "\n",
        "\n",
        "#in this section, J tyep register will be decoded.\n",
        "elif instruction in opcode_j_type.keys():\n",
        "\n",
        "    hexa_opCode   = binToHexa(opcode_j_type[instruction])\n",
        "    hexa_rs       = binToHexa(register_dict[reg[0]])[2:]\n",
        "\n",
        "    print(hexa_opCode + hexa_rs)\n",
        "\n",
        "\n",
        "\n",
        "#lw $s0,2($s1)\n",
        "\n"
      ],
      "metadata": {
        "colab": {
          "base_uri": "https://localhost:8080/"
        },
        "id": "xI31JE6O8LlW",
        "outputId": "ef2f808f-d20d-4da6-b84d-418c31fa7bb2"
      },
      "execution_count": 29,
      "outputs": [
        {
          "output_type": "stream",
          "name": "stdout",
          "text": [
            "beq $s0, L\n",
            "0xc1\n"
          ]
        }
      ]
    },
    {
      "cell_type": "code",
      "source": [],
      "metadata": {
        "id": "H5bsNqOf0PHk"
      },
      "execution_count": null,
      "outputs": []
    },
    {
      "cell_type": "code",
      "source": [
        "taken = list(input().lower().split(\" \"))\n",
        "\n",
        "if len(taken)==3:\n",
        "   instruction = taken[0]\n",
        "   reg=[taken[1].replace(',', ''), taken[2]]\n",
        "else:\n",
        "  instruction = taken[0]\n",
        "  reg=taken[1].split(\",\")\n",
        "\n",
        "print(instruction)\n",
        "print(reg)"
      ],
      "metadata": {
        "colab": {
          "base_uri": "https://localhost:8080/"
        },
        "id": "WtxFJQ_vymJJ",
        "outputId": "5229ec76-751a-4d2d-fb8d-c175edd1f413"
      },
      "execution_count": 28,
      "outputs": [
        {
          "output_type": "stream",
          "name": "stdout",
          "text": [
            "or $s0,$s1\n",
            "2\n",
            "or\n",
            "['$s0', '$s1']\n"
          ]
        }
      ]
    }
  ]
}