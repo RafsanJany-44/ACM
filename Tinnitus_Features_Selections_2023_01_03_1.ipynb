{
  "nbformat": 4,
  "nbformat_minor": 0,
  "metadata": {
    "colab": {
      "provenance": [],
      "include_colab_link": true
    },
    "kernelspec": {
      "name": "python3",
      "display_name": "Python 3"
    },
    "language_info": {
      "name": "python"
    }
  },
  "cells": [
    {
      "cell_type": "markdown",
      "metadata": {
        "id": "view-in-github",
        "colab_type": "text"
      },
      "source": [
        "<a href=\"https://colab.research.google.com/github/RafsanJany-44/ARC/blob/master/Tinnitus_Features_Selections_2023_01_03_1.ipynb\" target=\"_parent\"><img src=\"https://colab.research.google.com/assets/colab-badge.svg\" alt=\"Open In Colab\"/></a>"
      ]
    },
    {
      "cell_type": "code",
      "execution_count": null,
      "metadata": {
        "colab": {
          "base_uri": "https://localhost:8080/"
        },
        "id": "zdFOS9nFlpsU",
        "outputId": "e21f6638-7483-43de-83dd-ceb423e3f858"
      },
      "outputs": [
        {
          "output_type": "stream",
          "name": "stdout",
          "text": [
            "Drive already mounted at /content/drive; to attempt to forcibly remount, call drive.mount(\"/content/drive\", force_remount=True).\n"
          ]
        }
      ],
      "source": [
        "from google.colab import drive\n",
        "drive.mount('/content/drive')"
      ]
    },
    {
      "cell_type": "code",
      "source": [
        "import numpy as np\n",
        "import pandas as pd\n",
        "#dataset=pd.read_csv(\"/content/drive/MyDrive/SNU Research/Tinnitus/Tinnitus_ALR&EEG_2023.01.03_No_n0p1p3_final.csv\")\n",
        "dataset=pd.read_csv('/content/Tinnitus_ALR&EEG_2023.01.03_No_n0p1p3_final.csv')\n",
        "classes = np.array(sorted(list(set(dataset.iloc[:, 1]))))\n"
      ],
      "metadata": {
        "id": "M0AmIUwSmLfj"
      },
      "execution_count": 1,
      "outputs": []
    },
    {
      "cell_type": "code",
      "source": [
        "dataset.head()"
      ],
      "metadata": {
        "colab": {
          "base_uri": "https://localhost:8080/",
          "height": 404
        },
        "id": "4YN_C8yxm1ho",
        "outputId": "ae52a43d-5176-4cf5-c6fc-d9c1466e689a"
      },
      "execution_count": 2,
      "outputs": [
        {
          "output_type": "execute_result",
          "data": {
            "text/plain": [
              "             Subjects SubjectTypeClass Data Partition ExperimentType  \\\n",
              "0      '06_HSO_60_01'          Control  Training Data           Test   \n",
              "1      '06_LSR_34_01'          Control  Training Data           Test   \n",
              "2      '07_KHJ_33_02'          Control  Training Data           Test   \n",
              "3      '08_LJS_26_01'          Control  Training Data           Test   \n",
              "4      '09_JBH_58_01'          Control  Training Data           Test   \n",
              "\n",
              "   n1_gap_peak_ms_20ms  p2_gap_peak_ms_20ms  n2_gap_peak_ms_20ms  \\\n",
              "0                  213                  304                  425   \n",
              "1                  219                  282                  390   \n",
              "2                  246                  275                  456   \n",
              "3                  212                  320                  416   \n",
              "4                  206                  271                  386   \n",
              "\n",
              "   n1_nogap_peak_ms_20ms  p2_nogap_peak_ms_20ms  n2_nogap_peak_ms_20ms  ...  \\\n",
              "0                    290                    440                     81  ...   \n",
              "1                    282                    394                     43  ...   \n",
              "2                    270                    402                     72  ...   \n",
              "3                    297                    394                     65  ...   \n",
              "4                    262                    402                     39  ...   \n",
              "\n",
              "   MeanP_Gamma_50ms  TotalEEGPower_50ms  RelativeAlpha_50ms  \\\n",
              "0      4.670000e-07            0.000055              0.0949   \n",
              "1      5.330000e-07            0.000047              0.1210   \n",
              "2      2.890000e-05            0.000778              0.0805   \n",
              "3      5.990000e-07            0.000075              0.0885   \n",
              "4      8.390000e-07            0.000074              0.1090   \n",
              "\n",
              "   RelativeBeta_50ms  RelativeTheta_50ms  RelativeDelta_50ms  DTR_50ms  \\\n",
              "0             0.0372               0.387               0.481     1.240   \n",
              "1             0.0500               0.419               0.410     0.979   \n",
              "2             0.0527               0.301               0.566     1.880   \n",
              "3             0.0397               0.354               0.518     1.460   \n",
              "4             0.0564               0.392               0.442     1.130   \n",
              "\n",
              "   DTABR_50ms  ATR_50ms  ABR_50ms  \n",
              "0        6.57     0.245      2.55  \n",
              "1        4.83     0.290      2.43  \n",
              "2        6.51     0.268      1.53  \n",
              "3        6.80     0.250      2.23  \n",
              "4        5.04     0.278      1.93  \n",
              "\n",
              "[5 rows x 152 columns]"
            ],
            "text/html": [
              "\n",
              "  <div id=\"df-31292fb5-c8a8-493e-aabc-7960d9398602\">\n",
              "    <div class=\"colab-df-container\">\n",
              "      <div>\n",
              "<style scoped>\n",
              "    .dataframe tbody tr th:only-of-type {\n",
              "        vertical-align: middle;\n",
              "    }\n",
              "\n",
              "    .dataframe tbody tr th {\n",
              "        vertical-align: top;\n",
              "    }\n",
              "\n",
              "    .dataframe thead th {\n",
              "        text-align: right;\n",
              "    }\n",
              "</style>\n",
              "<table border=\"1\" class=\"dataframe\">\n",
              "  <thead>\n",
              "    <tr style=\"text-align: right;\">\n",
              "      <th></th>\n",
              "      <th>Subjects</th>\n",
              "      <th>SubjectTypeClass</th>\n",
              "      <th>Data Partition</th>\n",
              "      <th>ExperimentType</th>\n",
              "      <th>n1_gap_peak_ms_20ms</th>\n",
              "      <th>p2_gap_peak_ms_20ms</th>\n",
              "      <th>n2_gap_peak_ms_20ms</th>\n",
              "      <th>n1_nogap_peak_ms_20ms</th>\n",
              "      <th>p2_nogap_peak_ms_20ms</th>\n",
              "      <th>n2_nogap_peak_ms_20ms</th>\n",
              "      <th>...</th>\n",
              "      <th>MeanP_Gamma_50ms</th>\n",
              "      <th>TotalEEGPower_50ms</th>\n",
              "      <th>RelativeAlpha_50ms</th>\n",
              "      <th>RelativeBeta_50ms</th>\n",
              "      <th>RelativeTheta_50ms</th>\n",
              "      <th>RelativeDelta_50ms</th>\n",
              "      <th>DTR_50ms</th>\n",
              "      <th>DTABR_50ms</th>\n",
              "      <th>ATR_50ms</th>\n",
              "      <th>ABR_50ms</th>\n",
              "    </tr>\n",
              "  </thead>\n",
              "  <tbody>\n",
              "    <tr>\n",
              "      <th>0</th>\n",
              "      <td>'06_HSO_60_01'</td>\n",
              "      <td>Control</td>\n",
              "      <td>Training Data</td>\n",
              "      <td>Test</td>\n",
              "      <td>213</td>\n",
              "      <td>304</td>\n",
              "      <td>425</td>\n",
              "      <td>290</td>\n",
              "      <td>440</td>\n",
              "      <td>81</td>\n",
              "      <td>...</td>\n",
              "      <td>4.670000e-07</td>\n",
              "      <td>0.000055</td>\n",
              "      <td>0.0949</td>\n",
              "      <td>0.0372</td>\n",
              "      <td>0.387</td>\n",
              "      <td>0.481</td>\n",
              "      <td>1.240</td>\n",
              "      <td>6.57</td>\n",
              "      <td>0.245</td>\n",
              "      <td>2.55</td>\n",
              "    </tr>\n",
              "    <tr>\n",
              "      <th>1</th>\n",
              "      <td>'06_LSR_34_01'</td>\n",
              "      <td>Control</td>\n",
              "      <td>Training Data</td>\n",
              "      <td>Test</td>\n",
              "      <td>219</td>\n",
              "      <td>282</td>\n",
              "      <td>390</td>\n",
              "      <td>282</td>\n",
              "      <td>394</td>\n",
              "      <td>43</td>\n",
              "      <td>...</td>\n",
              "      <td>5.330000e-07</td>\n",
              "      <td>0.000047</td>\n",
              "      <td>0.1210</td>\n",
              "      <td>0.0500</td>\n",
              "      <td>0.419</td>\n",
              "      <td>0.410</td>\n",
              "      <td>0.979</td>\n",
              "      <td>4.83</td>\n",
              "      <td>0.290</td>\n",
              "      <td>2.43</td>\n",
              "    </tr>\n",
              "    <tr>\n",
              "      <th>2</th>\n",
              "      <td>'07_KHJ_33_02'</td>\n",
              "      <td>Control</td>\n",
              "      <td>Training Data</td>\n",
              "      <td>Test</td>\n",
              "      <td>246</td>\n",
              "      <td>275</td>\n",
              "      <td>456</td>\n",
              "      <td>270</td>\n",
              "      <td>402</td>\n",
              "      <td>72</td>\n",
              "      <td>...</td>\n",
              "      <td>2.890000e-05</td>\n",
              "      <td>0.000778</td>\n",
              "      <td>0.0805</td>\n",
              "      <td>0.0527</td>\n",
              "      <td>0.301</td>\n",
              "      <td>0.566</td>\n",
              "      <td>1.880</td>\n",
              "      <td>6.51</td>\n",
              "      <td>0.268</td>\n",
              "      <td>1.53</td>\n",
              "    </tr>\n",
              "    <tr>\n",
              "      <th>3</th>\n",
              "      <td>'08_LJS_26_01'</td>\n",
              "      <td>Control</td>\n",
              "      <td>Training Data</td>\n",
              "      <td>Test</td>\n",
              "      <td>212</td>\n",
              "      <td>320</td>\n",
              "      <td>416</td>\n",
              "      <td>297</td>\n",
              "      <td>394</td>\n",
              "      <td>65</td>\n",
              "      <td>...</td>\n",
              "      <td>5.990000e-07</td>\n",
              "      <td>0.000075</td>\n",
              "      <td>0.0885</td>\n",
              "      <td>0.0397</td>\n",
              "      <td>0.354</td>\n",
              "      <td>0.518</td>\n",
              "      <td>1.460</td>\n",
              "      <td>6.80</td>\n",
              "      <td>0.250</td>\n",
              "      <td>2.23</td>\n",
              "    </tr>\n",
              "    <tr>\n",
              "      <th>4</th>\n",
              "      <td>'09_JBH_58_01'</td>\n",
              "      <td>Control</td>\n",
              "      <td>Training Data</td>\n",
              "      <td>Test</td>\n",
              "      <td>206</td>\n",
              "      <td>271</td>\n",
              "      <td>386</td>\n",
              "      <td>262</td>\n",
              "      <td>402</td>\n",
              "      <td>39</td>\n",
              "      <td>...</td>\n",
              "      <td>8.390000e-07</td>\n",
              "      <td>0.000074</td>\n",
              "      <td>0.1090</td>\n",
              "      <td>0.0564</td>\n",
              "      <td>0.392</td>\n",
              "      <td>0.442</td>\n",
              "      <td>1.130</td>\n",
              "      <td>5.04</td>\n",
              "      <td>0.278</td>\n",
              "      <td>1.93</td>\n",
              "    </tr>\n",
              "  </tbody>\n",
              "</table>\n",
              "<p>5 rows × 152 columns</p>\n",
              "</div>\n",
              "      <button class=\"colab-df-convert\" onclick=\"convertToInteractive('df-31292fb5-c8a8-493e-aabc-7960d9398602')\"\n",
              "              title=\"Convert this dataframe to an interactive table.\"\n",
              "              style=\"display:none;\">\n",
              "        \n",
              "  <svg xmlns=\"http://www.w3.org/2000/svg\" height=\"24px\"viewBox=\"0 0 24 24\"\n",
              "       width=\"24px\">\n",
              "    <path d=\"M0 0h24v24H0V0z\" fill=\"none\"/>\n",
              "    <path d=\"M18.56 5.44l.94 2.06.94-2.06 2.06-.94-2.06-.94-.94-2.06-.94 2.06-2.06.94zm-11 1L8.5 8.5l.94-2.06 2.06-.94-2.06-.94L8.5 2.5l-.94 2.06-2.06.94zm10 10l.94 2.06.94-2.06 2.06-.94-2.06-.94-.94-2.06-.94 2.06-2.06.94z\"/><path d=\"M17.41 7.96l-1.37-1.37c-.4-.4-.92-.59-1.43-.59-.52 0-1.04.2-1.43.59L10.3 9.45l-7.72 7.72c-.78.78-.78 2.05 0 2.83L4 21.41c.39.39.9.59 1.41.59.51 0 1.02-.2 1.41-.59l7.78-7.78 2.81-2.81c.8-.78.8-2.07 0-2.86zM5.41 20L4 18.59l7.72-7.72 1.47 1.35L5.41 20z\"/>\n",
              "  </svg>\n",
              "      </button>\n",
              "      \n",
              "  <style>\n",
              "    .colab-df-container {\n",
              "      display:flex;\n",
              "      flex-wrap:wrap;\n",
              "      gap: 12px;\n",
              "    }\n",
              "\n",
              "    .colab-df-convert {\n",
              "      background-color: #E8F0FE;\n",
              "      border: none;\n",
              "      border-radius: 50%;\n",
              "      cursor: pointer;\n",
              "      display: none;\n",
              "      fill: #1967D2;\n",
              "      height: 32px;\n",
              "      padding: 0 0 0 0;\n",
              "      width: 32px;\n",
              "    }\n",
              "\n",
              "    .colab-df-convert:hover {\n",
              "      background-color: #E2EBFA;\n",
              "      box-shadow: 0px 1px 2px rgba(60, 64, 67, 0.3), 0px 1px 3px 1px rgba(60, 64, 67, 0.15);\n",
              "      fill: #174EA6;\n",
              "    }\n",
              "\n",
              "    [theme=dark] .colab-df-convert {\n",
              "      background-color: #3B4455;\n",
              "      fill: #D2E3FC;\n",
              "    }\n",
              "\n",
              "    [theme=dark] .colab-df-convert:hover {\n",
              "      background-color: #434B5C;\n",
              "      box-shadow: 0px 1px 3px 1px rgba(0, 0, 0, 0.15);\n",
              "      filter: drop-shadow(0px 1px 2px rgba(0, 0, 0, 0.3));\n",
              "      fill: #FFFFFF;\n",
              "    }\n",
              "  </style>\n",
              "\n",
              "      <script>\n",
              "        const buttonEl =\n",
              "          document.querySelector('#df-31292fb5-c8a8-493e-aabc-7960d9398602 button.colab-df-convert');\n",
              "        buttonEl.style.display =\n",
              "          google.colab.kernel.accessAllowed ? 'block' : 'none';\n",
              "\n",
              "        async function convertToInteractive(key) {\n",
              "          const element = document.querySelector('#df-31292fb5-c8a8-493e-aabc-7960d9398602');\n",
              "          const dataTable =\n",
              "            await google.colab.kernel.invokeFunction('convertToInteractive',\n",
              "                                                     [key], {});\n",
              "          if (!dataTable) return;\n",
              "\n",
              "          const docLinkHtml = 'Like what you see? Visit the ' +\n",
              "            '<a target=\"_blank\" href=https://colab.research.google.com/notebooks/data_table.ipynb>data table notebook</a>'\n",
              "            + ' to learn more about interactive tables.';\n",
              "          element.innerHTML = '';\n",
              "          dataTable['output_type'] = 'display_data';\n",
              "          await google.colab.output.renderOutput(dataTable, element);\n",
              "          const docLink = document.createElement('div');\n",
              "          docLink.innerHTML = docLinkHtml;\n",
              "          element.appendChild(docLink);\n",
              "        }\n",
              "      </script>\n",
              "    </div>\n",
              "  </div>\n",
              "  "
            ]
          },
          "metadata": {},
          "execution_count": 2
        }
      ]
    },
    {
      "cell_type": "code",
      "source": [
        "classes"
      ],
      "metadata": {
        "colab": {
          "base_uri": "https://localhost:8080/"
        },
        "id": "K1qDFsJCg2jK",
        "outputId": "efb0eefd-b66d-4bd9-e611-34ebd9bf5fb7"
      },
      "execution_count": 3,
      "outputs": [
        {
          "output_type": "execute_result",
          "data": {
            "text/plain": [
              "array(['Control', 'Patient'], dtype='<U7')"
            ]
          },
          "metadata": {},
          "execution_count": 3
        }
      ]
    },
    {
      "cell_type": "code",
      "source": [
        "dataset.shape"
      ],
      "metadata": {
        "colab": {
          "base_uri": "https://localhost:8080/"
        },
        "id": "VS4iUbnyYaDH",
        "outputId": "22a6508a-aa78-4d8c-8ff7-e40b7b5d305b"
      },
      "execution_count": 4,
      "outputs": [
        {
          "output_type": "execute_result",
          "data": {
            "text/plain": [
              "(165, 152)"
            ]
          },
          "metadata": {},
          "execution_count": 4
        }
      ]
    },
    {
      "cell_type": "code",
      "source": [
        "\n",
        "from sklearn.preprocessing import LabelEncoder\n",
        "encoder=LabelEncoder()\n",
        "dataset.iloc[:, 1]=encoder.fit_transform(dataset.iloc[:, 1])"
      ],
      "metadata": {
        "id": "Ljyj9yuIf-tX"
      },
      "execution_count": 5,
      "outputs": []
    },
    {
      "cell_type": "code",
      "source": [
        "X_ = dataset.iloc[:,4:]\n",
        "y_ = dataset.iloc[:, 1]\n",
        "col=list(dataset.iloc[0:0,4:])"
      ],
      "metadata": {
        "id": "ci-EA40TXasM"
      },
      "execution_count": 6,
      "outputs": []
    },
    {
      "cell_type": "markdown",
      "source": [
        "# Input Features number:"
      ],
      "metadata": {
        "id": "trUFQg0Qpoob"
      }
    },
    {
      "cell_type": "code",
      "source": [
        "\n",
        "number_of_feat=int(input(\"Number Of Best Features: \"))"
      ],
      "metadata": {
        "colab": {
          "base_uri": "https://localhost:8080/"
        },
        "id": "3c3FE67wjX7U",
        "outputId": "083abb8e-30a6-4f8a-e38c-f0c77bbafa48"
      },
      "execution_count": 7,
      "outputs": [
        {
          "name": "stdout",
          "output_type": "stream",
          "text": [
            "Number Of Best Features: 30\n"
          ]
        }
      ]
    },
    {
      "cell_type": "markdown",
      "source": [
        "#Filter Method (Model Free)"
      ],
      "metadata": {
        "id": "UaMqQtc8z1dc"
      }
    },
    {
      "cell_type": "markdown",
      "source": [
        "**Type-1**"
      ],
      "metadata": {
        "id": "AjBrNIkMTJaA"
      }
    },
    {
      "cell_type": "code",
      "source": [
        "from sklearn.feature_selection import SelectKBest\n",
        "bestfeatures_1 = SelectKBest(k=10)\n",
        "fit = bestfeatures_1.fit(X_,y_)\n",
        "dfscores = pd.DataFrame(fit.scores_)\n",
        "dfcolumns = pd.DataFrame(X_.columns)\n",
        "featureScores = pd.concat([dfcolumns,dfscores],axis=1)\n",
        "featureScores.columns = ['Best_columns','Score_bestfeatures_1']\n",
        "\n",
        "lyst = featureScores.nlargest(number_of_feat,'Score_bestfeatures_1')\n",
        "\n",
        "lyst.to_csv('Filter_Method_bestfeatures_1.csv')"
      ],
      "metadata": {
        "id": "PAG90MeI0S7O"
      },
      "execution_count": 8,
      "outputs": []
    },
    {
      "cell_type": "markdown",
      "source": [
        "**Type-2**"
      ],
      "metadata": {
        "id": "Ftetc2yrTV6F"
      }
    },
    {
      "cell_type": "code",
      "source": [
        "from sklearn.feature_selection import SelectKBest,f_classif\n",
        "bestfeatures_2=SelectKBest(f_classif, k=10)\n",
        "fit = bestfeatures_2.fit(X_,y_)\n",
        "dfscores = pd.DataFrame(fit.scores_)\n",
        "dfcolumns = pd.DataFrame(X_.columns)\n",
        "featureScores = pd.concat([dfcolumns,dfscores],axis=1)\n",
        "featureScores.columns = ['Specs','Score_bestfeatures_f2']\n",
        "\n",
        "lyst=featureScores.nlargest(number_of_feat,'Score_bestfeatures_f2')\n",
        "\n",
        "\n",
        "lyst.to_csv('Filter_Method_bestfeatures_f2.csv')"
      ],
      "metadata": {
        "id": "2u0_C3phPo4J"
      },
      "execution_count": 9,
      "outputs": []
    },
    {
      "cell_type": "markdown",
      "source": [
        "**Type-3**"
      ],
      "metadata": {
        "id": "ftYkiPhdTYrB"
      }
    },
    {
      "cell_type": "code",
      "source": [
        "from sklearn.feature_selection import SelectFpr, f_classif\n",
        "\n",
        "bestfeatures_3=SelectFpr(f_classif, alpha=0.1)\n",
        "fit = bestfeatures_3.fit(X_,y_)\n",
        "dfscores = pd.DataFrame(fit.scores_)\n",
        "dfcolumns = pd.DataFrame(X_.columns)\n",
        "featureScores = pd.concat([dfcolumns,dfscores],axis=1)\n",
        "featureScores.columns = ['Specs','Score_bestfeatures_3']\n",
        "lyst=featureScores.nlargest(number_of_feat,'Score_bestfeatures_3')\n",
        "\n",
        "lyst.to_csv('Filter_Method_bestfeatures_3.csv')"
      ],
      "metadata": {
        "id": "UCT592TwR7VO"
      },
      "execution_count": 10,
      "outputs": []
    },
    {
      "cell_type": "markdown",
      "source": [
        "#Pearson’s with f_regression()"
      ],
      "metadata": {
        "id": "5uIdIRoRoePp"
      }
    },
    {
      "cell_type": "code",
      "source": [
        "\n",
        "\n",
        "from sklearn.datasets import make_regression\n",
        "from sklearn.feature_selection import SelectKBest\n",
        "from sklearn.feature_selection import f_regression\n",
        "import pandas as pd\n",
        "\n",
        "\n",
        "fs = SelectKBest(score_func=f_regression, k=5)\n",
        "fit = fs.fit(X_,y_)\n",
        "\n",
        "dfscores = pd.DataFrame(fit.scores_)\n",
        "dfcolumns = pd.DataFrame(dataset.columns)\n",
        "featureScores = pd.concat([dfcolumns,dfscores],axis=1)\n",
        "\n",
        "featureScores.columns = ['Best_columns','Score_pearsons'] \n",
        "\n",
        "\n",
        "lyst = featureScores.nlargest(number_of_feat,'Score_pearsons')\n",
        "\n",
        "lyst.to_csv('Filter_Method_Pearson’s_with_f_regression.csv')\n",
        "\n",
        "list_of_feat = list(lyst[\"Best_columns\"])"
      ],
      "metadata": {
        "id": "QR4DInIkn2xv"
      },
      "execution_count": 12,
      "outputs": []
    },
    {
      "cell_type": "markdown",
      "source": [
        "#ANOVA with f_classif()"
      ],
      "metadata": {
        "id": "fqKekk2Qo5Uh"
      }
    },
    {
      "cell_type": "code",
      "source": [
        "from sklearn.datasets import make_classification\n",
        "from sklearn.feature_selection import SelectKBest\n",
        "from sklearn.feature_selection import f_classif\n",
        "import pandas as pd\n",
        "\n",
        "\n",
        "\n",
        "fs = SelectKBest(score_func=f_classif, k=5)\n",
        "fit = fs.fit(X_,y_)\n",
        "dfscores = pd.DataFrame(fit.scores_)\n",
        "dfcolumns = pd.DataFrame(X_.columns)\n",
        "\n",
        "featureScores = pd.concat([dfcolumns,dfscores],axis=1)\n",
        "\n",
        "featureScores.columns = ['Best_columns','Score_ANOVA'] \n",
        "\n",
        "lyst = featureScores.nlargest(number_of_feat,'Score_ANOVA')\n",
        "\n",
        "#lyst.to_csv('Filter_Method_ANOVA_with_f_classif.csv')\n",
        "\n",
        "list_of_feat = list(lyst[\"Best_columns\"])"
      ],
      "metadata": {
        "id": "sHbbp3DKo446"
      },
      "execution_count": 14,
      "outputs": []
    },
    {
      "cell_type": "markdown",
      "source": [
        "# Mutual Information"
      ],
      "metadata": {
        "id": "dGoONEG19wZQ"
      }
    },
    {
      "cell_type": "code",
      "source": [
        "from sklearn.feature_selection import mutual_info_classif, mutual_info_regression\n",
        "from sklearn.feature_selection import SelectKBest, SelectPercentile\n",
        "mi = mutual_info_classif(X_, y_)\n",
        "\n",
        "mi = pd.Series(mi)\n",
        "mi.index = col\n",
        "mi.sort_values(ascending=False).to_csv('Filter_Method_ Mutual_Information.csv')"
      ],
      "metadata": {
        "id": "8LAHsbFH9KQL"
      },
      "execution_count": 15,
      "outputs": []
    },
    {
      "cell_type": "markdown",
      "source": [
        "#Wrapper"
      ],
      "metadata": {
        "id": "KZ7kqLU-mZLk"
      }
    },
    {
      "cell_type": "markdown",
      "source": [
        "**Using Regression**"
      ],
      "metadata": {
        "id": "xpj5HjLvn1ZX"
      }
    },
    {
      "cell_type": "code",
      "source": [
        "!pip install joblib\n",
        "import joblib\n",
        "import sys\n",
        "sys.modules['sklearn.externals.joblib'] = joblib\n",
        "from mlxtend.feature_selection import SequentialFeatureSelector as SFS\n",
        "from sklearn.linear_model import LinearRegression\n",
        "import pandas as pd\n",
        "import numpy as np\n",
        "list_of_feat=[]\n",
        "\n",
        "\n",
        "\n",
        "sfs = SFS(LinearRegression(),\n",
        "           k_features=number_of_feat,\n",
        "           forward=True,\n",
        "           floating=False,\n",
        "           scoring = 'r2',\n",
        "           cv = 0)\n",
        "\n",
        "sfs.fit(X_, y_)\n",
        "\n",
        "df_SFS_results = pd.DataFrame(sfs.subsets_).transpose()\n",
        "\n",
        "df_SFS_results.to_csv(\"Wrapper_Method_Regrassion.csv\")\n",
        "\n"
      ],
      "metadata": {
        "id": "kU8OFZbGmYMT",
        "colab": {
          "base_uri": "https://localhost:8080/"
        },
        "outputId": "16452746-b762-4b72-9799-850ebf7c8eb2"
      },
      "execution_count": 16,
      "outputs": [
        {
          "output_type": "stream",
          "name": "stdout",
          "text": [
            "Looking in indexes: https://pypi.org/simple, https://us-python.pkg.dev/colab-wheels/public/simple/\n",
            "Requirement already satisfied: joblib in /usr/local/lib/python3.8/dist-packages (1.2.0)\n"
          ]
        }
      ]
    },
    {
      "cell_type": "markdown",
      "source": [
        "**RandomForestRegressor**"
      ],
      "metadata": {
        "id": "ongjQGHzn7Ec"
      }
    },
    {
      "cell_type": "markdown",
      "source": [
        "#Embedded"
      ],
      "metadata": {
        "id": "fXiiWP5rqNUR"
      }
    },
    {
      "cell_type": "code",
      "source": [
        "from sklearn.linear_model import LassoCV\n",
        "reg = LassoCV()\n",
        "reg.fit(X_, y_)\n",
        "print(\"Best alpha using built-in LassoCV: %f\" % reg.alpha_)\n",
        "print(\"Best score using built-in LassoCV: %f\" %reg.score(X_,y_))\n",
        "coef = pd.Series(reg.coef_, index = col)\n",
        "\n",
        "print(\"Lasso picked \" + str(sum(coef != 0)) + \" variables and eliminated the other \" +  str(sum(coef == 0)) + \" variables\")\n",
        "\n",
        "imp_coef = coef.sort_values()\n",
        "\n",
        "list_of_feat=[]\n",
        "\n",
        "\n",
        "for i in range(coef.shape[0]):\n",
        "  if coef[i]!=0:\n",
        "    list_of_feat.append(dataset.iloc[:0,i+3].name)\n",
        "    \n",
        "df = pd.DataFrame(list_of_feat, columns=['Best_Features'])\n",
        "\n",
        "df.to_csv(\"Embedded_Method.csv\")"
      ],
      "metadata": {
        "id": "Um6iR-HzqTBc",
        "colab": {
          "base_uri": "https://localhost:8080/"
        },
        "outputId": "5e5b4f19-2e87-4d04-c020-5cba5a9643b0"
      },
      "execution_count": 17,
      "outputs": [
        {
          "output_type": "stream",
          "name": "stdout",
          "text": [
            "Best alpha using built-in LassoCV: 0.997800\n",
            "Best score using built-in LassoCV: 0.332118\n",
            "Lasso picked 15 variables and eliminated the other 133 variables\n"
          ]
        }
      ]
    },
    {
      "cell_type": "markdown",
      "source": [
        "#Permutation Importance"
      ],
      "metadata": {
        "id": "ZSKVTHg_wHUf"
      }
    },
    {
      "cell_type": "code",
      "source": [
        "!pip install eli5"
      ],
      "metadata": {
        "id": "5AkLD4oyv7lz"
      },
      "execution_count": null,
      "outputs": []
    },
    {
      "cell_type": "code",
      "source": [
        "\n",
        "from sklearn.model_selection import train_test_split\n",
        "from sklearn.ensemble import RandomForestClassifier\n",
        "import eli5\n",
        "from eli5.sklearn import PermutationImportance\n",
        "\n",
        "X_train, X_test, y_train, y_test = train_test_split(X_, y_, test_size=0.2, random_state=0, stratify=y_)\n",
        "rf = RandomForestClassifier()\n",
        "rf.fit(X_train, y_train)\n",
        "perm = PermutationImportance(rf, random_state=0).fit(X_test, y_test)\n",
        "eli5.show_weights(perm,feature_names = col)"
      ],
      "metadata": {
        "id": "vcI9juwrvBge",
        "colab": {
          "base_uri": "https://localhost:8080/",
          "height": 399
        },
        "outputId": "98d5d7c1-5603-408f-86ab-f6992a83e10c"
      },
      "execution_count": 21,
      "outputs": [
        {
          "output_type": "execute_result",
          "data": {
            "text/plain": [
              "<IPython.core.display.HTML object>"
            ],
            "text/html": [
              "\n",
              "    <style>\n",
              "    table.eli5-weights tr:hover {\n",
              "        filter: brightness(85%);\n",
              "    }\n",
              "</style>\n",
              "\n",
              "\n",
              "\n",
              "    \n",
              "\n",
              "    \n",
              "\n",
              "    \n",
              "\n",
              "    \n",
              "\n",
              "    \n",
              "\n",
              "    \n",
              "\n",
              "\n",
              "    \n",
              "\n",
              "    \n",
              "\n",
              "    \n",
              "\n",
              "    \n",
              "\n",
              "    \n",
              "\n",
              "    \n",
              "\n",
              "\n",
              "    \n",
              "\n",
              "    \n",
              "\n",
              "    \n",
              "\n",
              "    \n",
              "\n",
              "    \n",
              "        <table class=\"eli5-weights eli5-feature-importances\" style=\"border-collapse: collapse; border: none; margin-top: 0em; table-layout: auto;\">\n",
              "    <thead>\n",
              "    <tr style=\"border: none;\">\n",
              "        <th style=\"padding: 0 1em 0 0.5em; text-align: right; border: none;\">Weight</th>\n",
              "        <th style=\"padding: 0 0.5em 0 0.5em; text-align: left; border: none;\">Feature</th>\n",
              "    </tr>\n",
              "    </thead>\n",
              "    <tbody>\n",
              "    \n",
              "        <tr style=\"background-color: hsl(120, 100.00%, 80.00%); border: none;\">\n",
              "            <td style=\"padding: 0 1em 0 0.5em; text-align: right; border: none;\">\n",
              "                0.0545\n",
              "                \n",
              "                    &plusmn; 0.0242\n",
              "                \n",
              "            </td>\n",
              "            <td style=\"padding: 0 0.5em 0 0.5em; text-align: left; border: none;\">\n",
              "                n1_gap_peak_ms_50ms\n",
              "            </td>\n",
              "        </tr>\n",
              "    \n",
              "        <tr style=\"background-color: hsl(120, 100.00%, 81.58%); border: none;\">\n",
              "            <td style=\"padding: 0 1em 0 0.5em; text-align: right; border: none;\">\n",
              "                0.0485\n",
              "                \n",
              "                    &plusmn; 0.0985\n",
              "                \n",
              "            </td>\n",
              "            <td style=\"padding: 0 0.5em 0 0.5em; text-align: left; border: none;\">\n",
              "                gap_AUC_n1p2_R_50ms\n",
              "            </td>\n",
              "        </tr>\n",
              "    \n",
              "        <tr style=\"background-color: hsl(120, 100.00%, 81.58%); border: none;\">\n",
              "            <td style=\"padding: 0 1em 0 0.5em; text-align: right; border: none;\">\n",
              "                0.0485\n",
              "                \n",
              "                    &plusmn; 0.0618\n",
              "                \n",
              "            </td>\n",
              "            <td style=\"padding: 0 0.5em 0 0.5em; text-align: left; border: none;\">\n",
              "                gap_AUC_n1p2_R_20ms\n",
              "            </td>\n",
              "        </tr>\n",
              "    \n",
              "        <tr style=\"background-color: hsl(120, 100.00%, 86.75%); border: none;\">\n",
              "            <td style=\"padding: 0 1em 0 0.5em; text-align: right; border: none;\">\n",
              "                0.0303\n",
              "                \n",
              "                    &plusmn; 0.0000\n",
              "                \n",
              "            </td>\n",
              "            <td style=\"padding: 0 0.5em 0 0.5em; text-align: left; border: none;\">\n",
              "                MedianF_Beta_50ms\n",
              "            </td>\n",
              "        </tr>\n",
              "    \n",
              "        <tr style=\"background-color: hsl(120, 100.00%, 86.75%); border: none;\">\n",
              "            <td style=\"padding: 0 1em 0 0.5em; text-align: right; border: none;\">\n",
              "                0.0303\n",
              "                \n",
              "                    &plusmn; 0.0000\n",
              "                \n",
              "            </td>\n",
              "            <td style=\"padding: 0 0.5em 0 0.5em; text-align: left; border: none;\">\n",
              "                n1p2_gap_no_gap_ratio_50ms\n",
              "            </td>\n",
              "        </tr>\n",
              "    \n",
              "        <tr style=\"background-color: hsl(120, 100.00%, 86.75%); border: none;\">\n",
              "            <td style=\"padding: 0 1em 0 0.5em; text-align: right; border: none;\">\n",
              "                0.0303\n",
              "                \n",
              "                    &plusmn; 0.0000\n",
              "                \n",
              "            </td>\n",
              "            <td style=\"padding: 0 0.5em 0 0.5em; text-align: left; border: none;\">\n",
              "                PeakF_Alpha_50ms\n",
              "            </td>\n",
              "        </tr>\n",
              "    \n",
              "        <tr style=\"background-color: hsl(120, 100.00%, 86.75%); border: none;\">\n",
              "            <td style=\"padding: 0 1em 0 0.5em; text-align: right; border: none;\">\n",
              "                0.0303\n",
              "                \n",
              "                    &plusmn; 0.0000\n",
              "                \n",
              "            </td>\n",
              "            <td style=\"padding: 0 0.5em 0 0.5em; text-align: left; border: none;\">\n",
              "                p2_gap_peak_ms_50ms\n",
              "            </td>\n",
              "        </tr>\n",
              "    \n",
              "        <tr style=\"background-color: hsl(120, 100.00%, 88.66%); border: none;\">\n",
              "            <td style=\"padding: 0 1em 0 0.5em; text-align: right; border: none;\">\n",
              "                0.0242\n",
              "                \n",
              "                    &plusmn; 0.0242\n",
              "                \n",
              "            </td>\n",
              "            <td style=\"padding: 0 0.5em 0 0.5em; text-align: left; border: none;\">\n",
              "                fft_nogap_total_AUC_50ms\n",
              "            </td>\n",
              "        </tr>\n",
              "    \n",
              "        <tr style=\"background-color: hsl(120, 100.00%, 88.66%); border: none;\">\n",
              "            <td style=\"padding: 0 1em 0 0.5em; text-align: right; border: none;\">\n",
              "                0.0242\n",
              "                \n",
              "                    &plusmn; 0.0242\n",
              "                \n",
              "            </td>\n",
              "            <td style=\"padding: 0 0.5em 0 0.5em; text-align: left; border: none;\">\n",
              "                ABR_50ms\n",
              "            </td>\n",
              "        </tr>\n",
              "    \n",
              "        <tr style=\"background-color: hsl(120, 100.00%, 88.66%); border: none;\">\n",
              "            <td style=\"padding: 0 1em 0 0.5em; text-align: right; border: none;\">\n",
              "                0.0242\n",
              "                \n",
              "                    &plusmn; 0.0242\n",
              "                \n",
              "            </td>\n",
              "            <td style=\"padding: 0 0.5em 0 0.5em; text-align: left; border: none;\">\n",
              "                gap_AUC_n1p2n2_by_total_20ms\n",
              "            </td>\n",
              "        </tr>\n",
              "    \n",
              "        <tr style=\"background-color: hsl(120, 100.00%, 88.66%); border: none;\">\n",
              "            <td style=\"padding: 0 1em 0 0.5em; text-align: right; border: none;\">\n",
              "                0.0242\n",
              "                \n",
              "                    &plusmn; 0.0242\n",
              "                \n",
              "            </td>\n",
              "            <td style=\"padding: 0 0.5em 0 0.5em; text-align: left; border: none;\">\n",
              "                DTABR_50ms\n",
              "            </td>\n",
              "        </tr>\n",
              "    \n",
              "        <tr style=\"background-color: hsl(120, 100.00%, 88.66%); border: none;\">\n",
              "            <td style=\"padding: 0 1em 0 0.5em; text-align: right; border: none;\">\n",
              "                0.0242\n",
              "                \n",
              "                    &plusmn; 0.0242\n",
              "                \n",
              "            </td>\n",
              "            <td style=\"padding: 0 0.5em 0 0.5em; text-align: left; border: none;\">\n",
              "                p2n2_interval_nogap_50ms\n",
              "            </td>\n",
              "        </tr>\n",
              "    \n",
              "        <tr style=\"background-color: hsl(120, 100.00%, 88.66%); border: none;\">\n",
              "            <td style=\"padding: 0 1em 0 0.5em; text-align: right; border: none;\">\n",
              "                0.0242\n",
              "                \n",
              "                    &plusmn; 0.0242\n",
              "                \n",
              "            </td>\n",
              "            <td style=\"padding: 0 0.5em 0 0.5em; text-align: left; border: none;\">\n",
              "                MeanF_Alpha_50ms\n",
              "            </td>\n",
              "        </tr>\n",
              "    \n",
              "        <tr style=\"background-color: hsl(120, 100.00%, 88.66%); border: none;\">\n",
              "            <td style=\"padding: 0 1em 0 0.5em; text-align: right; border: none;\">\n",
              "                0.0242\n",
              "                \n",
              "                    &plusmn; 0.0454\n",
              "                \n",
              "            </td>\n",
              "            <td style=\"padding: 0 0.5em 0 0.5em; text-align: left; border: none;\">\n",
              "                n1p2_gap_no_gap_ratio_20ms\n",
              "            </td>\n",
              "        </tr>\n",
              "    \n",
              "        <tr style=\"background-color: hsl(120, 100.00%, 90.73%); border: none;\">\n",
              "            <td style=\"padding: 0 1em 0 0.5em; text-align: right; border: none;\">\n",
              "                0.0182\n",
              "                \n",
              "                    &plusmn; 0.0297\n",
              "                \n",
              "            </td>\n",
              "            <td style=\"padding: 0 0.5em 0 0.5em; text-align: left; border: none;\">\n",
              "                n1_nogap_peak_ms_20ms\n",
              "            </td>\n",
              "        </tr>\n",
              "    \n",
              "        <tr style=\"background-color: hsl(120, 100.00%, 90.73%); border: none;\">\n",
              "            <td style=\"padding: 0 1em 0 0.5em; text-align: right; border: none;\">\n",
              "                0.0182\n",
              "                \n",
              "                    &plusmn; 0.0297\n",
              "                \n",
              "            </td>\n",
              "            <td style=\"padding: 0 0.5em 0 0.5em; text-align: left; border: none;\">\n",
              "                RelativeTheta_20ms\n",
              "            </td>\n",
              "        </tr>\n",
              "    \n",
              "        <tr style=\"background-color: hsl(120, 100.00%, 90.73%); border: none;\">\n",
              "            <td style=\"padding: 0 1em 0 0.5em; text-align: right; border: none;\">\n",
              "                0.0182\n",
              "                \n",
              "                    &plusmn; 0.0297\n",
              "                \n",
              "            </td>\n",
              "            <td style=\"padding: 0 0.5em 0 0.5em; text-align: left; border: none;\">\n",
              "                p2n2_nogap_diff_20ms\n",
              "            </td>\n",
              "        </tr>\n",
              "    \n",
              "        <tr style=\"background-color: hsl(120, 100.00%, 90.73%); border: none;\">\n",
              "            <td style=\"padding: 0 1em 0 0.5em; text-align: right; border: none;\">\n",
              "                0.0182\n",
              "                \n",
              "                    &plusmn; 0.0297\n",
              "                \n",
              "            </td>\n",
              "            <td style=\"padding: 0 0.5em 0 0.5em; text-align: left; border: none;\">\n",
              "                nogap_AUC_n1p2_R_20ms\n",
              "            </td>\n",
              "        </tr>\n",
              "    \n",
              "        <tr style=\"background-color: hsl(120, 100.00%, 90.73%); border: none;\">\n",
              "            <td style=\"padding: 0 1em 0 0.5em; text-align: right; border: none;\">\n",
              "                0.0182\n",
              "                \n",
              "                    &plusmn; 0.0297\n",
              "                \n",
              "            </td>\n",
              "            <td style=\"padding: 0 0.5em 0 0.5em; text-align: left; border: none;\">\n",
              "                n2_nogap_peak_amp_50ms\n",
              "            </td>\n",
              "        </tr>\n",
              "    \n",
              "        <tr style=\"background-color: hsl(120, 100.00%, 90.73%); border: none;\">\n",
              "            <td style=\"padding: 0 1em 0 0.5em; text-align: right; border: none;\">\n",
              "                0.0182\n",
              "                \n",
              "                    &plusmn; 0.0297\n",
              "                \n",
              "            </td>\n",
              "            <td style=\"padding: 0 0.5em 0 0.5em; text-align: left; border: none;\">\n",
              "                n1p2_gap_nogap_diff_20ms\n",
              "            </td>\n",
              "        </tr>\n",
              "    \n",
              "    \n",
              "        \n",
              "            <tr style=\"background-color: hsl(120, 100.00%, 90.73%); border: none;\">\n",
              "                <td colspan=\"2\" style=\"padding: 0 0.5em 0 0.5em; text-align: center; border: none; white-space: nowrap;\">\n",
              "                    <i>&hellip; 128 more &hellip;</i>\n",
              "                </td>\n",
              "            </tr>\n",
              "        \n",
              "    \n",
              "    </tbody>\n",
              "</table>\n",
              "    \n",
              "\n",
              "    \n",
              "\n",
              "\n",
              "    \n",
              "\n",
              "    \n",
              "\n",
              "    \n",
              "\n",
              "    \n",
              "\n",
              "    \n",
              "\n",
              "    \n",
              "\n",
              "\n",
              "\n"
            ]
          },
          "metadata": {},
          "execution_count": 21
        }
      ]
    }
  ]
}