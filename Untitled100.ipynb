{
  "nbformat": 4,
  "nbformat_minor": 0,
  "metadata": {
    "colab": {
      "provenance": [],
      "authorship_tag": "ABX9TyOj3r1FkltgCNDdljJ6GIZM",
      "include_colab_link": true
    },
    "kernelspec": {
      "name": "python3",
      "display_name": "Python 3"
    },
    "language_info": {
      "name": "python"
    },
    "widgets": {
      "application/vnd.jupyter.widget-state+json": {
        "49d19c8f4eba4a1db76b8bb787d19a75": {
          "model_module": "@jupyter-widgets/controls",
          "model_name": "HBoxModel",
          "model_module_version": "1.5.0",
          "state": {
            "_dom_classes": [],
            "_model_module": "@jupyter-widgets/controls",
            "_model_module_version": "1.5.0",
            "_model_name": "HBoxModel",
            "_view_count": null,
            "_view_module": "@jupyter-widgets/controls",
            "_view_module_version": "1.5.0",
            "_view_name": "HBoxView",
            "box_style": "",
            "children": [
              "IPY_MODEL_f63a5d9d4808421aa708dbbdd7f359ed",
              "IPY_MODEL_ac8b2a4ab4d24529a742dcbbe5ddd835",
              "IPY_MODEL_1f0916531a25415dba5356c9d688142f"
            ],
            "layout": "IPY_MODEL_7d2be3f2bfbe4228a0fea06fb9a5a0e4"
          }
        },
        "f63a5d9d4808421aa708dbbdd7f359ed": {
          "model_module": "@jupyter-widgets/controls",
          "model_name": "HTMLModel",
          "model_module_version": "1.5.0",
          "state": {
            "_dom_classes": [],
            "_model_module": "@jupyter-widgets/controls",
            "_model_module_version": "1.5.0",
            "_model_name": "HTMLModel",
            "_view_count": null,
            "_view_module": "@jupyter-widgets/controls",
            "_view_module_version": "1.5.0",
            "_view_name": "HTMLView",
            "description": "",
            "description_tooltip": null,
            "layout": "IPY_MODEL_1528d47c76a344bbb0bb02d82d3ddc86",
            "placeholder": "​",
            "style": "IPY_MODEL_6ff1c0c0102b4aa7b75f8007a803b57d",
            "value": "100%"
          }
        },
        "ac8b2a4ab4d24529a742dcbbe5ddd835": {
          "model_module": "@jupyter-widgets/controls",
          "model_name": "FloatProgressModel",
          "model_module_version": "1.5.0",
          "state": {
            "_dom_classes": [],
            "_model_module": "@jupyter-widgets/controls",
            "_model_module_version": "1.5.0",
            "_model_name": "FloatProgressModel",
            "_view_count": null,
            "_view_module": "@jupyter-widgets/controls",
            "_view_module_version": "1.5.0",
            "_view_name": "ProgressView",
            "bar_style": "success",
            "description": "",
            "description_tooltip": null,
            "layout": "IPY_MODEL_7a3c5543cb05489388e8bca2685cb31a",
            "max": 50400,
            "min": 0,
            "orientation": "horizontal",
            "style": "IPY_MODEL_6a46ca60d1d840e6b94db0438541db16",
            "value": 50400
          }
        },
        "1f0916531a25415dba5356c9d688142f": {
          "model_module": "@jupyter-widgets/controls",
          "model_name": "HTMLModel",
          "model_module_version": "1.5.0",
          "state": {
            "_dom_classes": [],
            "_model_module": "@jupyter-widgets/controls",
            "_model_module_version": "1.5.0",
            "_model_name": "HTMLModel",
            "_view_count": null,
            "_view_module": "@jupyter-widgets/controls",
            "_view_module_version": "1.5.0",
            "_view_name": "HTMLView",
            "description": "",
            "description_tooltip": null,
            "layout": "IPY_MODEL_6745c8a09ad246ef8cb0d109b95503a7",
            "placeholder": "​",
            "style": "IPY_MODEL_f6616b644ae54c34bdc427796e031fc7",
            "value": " 50400/50400 [04:41&lt;00:00, 2030.51it/s]"
          }
        },
        "7d2be3f2bfbe4228a0fea06fb9a5a0e4": {
          "model_module": "@jupyter-widgets/base",
          "model_name": "LayoutModel",
          "model_module_version": "1.2.0",
          "state": {
            "_model_module": "@jupyter-widgets/base",
            "_model_module_version": "1.2.0",
            "_model_name": "LayoutModel",
            "_view_count": null,
            "_view_module": "@jupyter-widgets/base",
            "_view_module_version": "1.2.0",
            "_view_name": "LayoutView",
            "align_content": null,
            "align_items": null,
            "align_self": null,
            "border": null,
            "bottom": null,
            "display": null,
            "flex": null,
            "flex_flow": null,
            "grid_area": null,
            "grid_auto_columns": null,
            "grid_auto_flow": null,
            "grid_auto_rows": null,
            "grid_column": null,
            "grid_gap": null,
            "grid_row": null,
            "grid_template_areas": null,
            "grid_template_columns": null,
            "grid_template_rows": null,
            "height": null,
            "justify_content": null,
            "justify_items": null,
            "left": null,
            "margin": null,
            "max_height": null,
            "max_width": null,
            "min_height": null,
            "min_width": null,
            "object_fit": null,
            "object_position": null,
            "order": null,
            "overflow": null,
            "overflow_x": null,
            "overflow_y": null,
            "padding": null,
            "right": null,
            "top": null,
            "visibility": null,
            "width": null
          }
        },
        "1528d47c76a344bbb0bb02d82d3ddc86": {
          "model_module": "@jupyter-widgets/base",
          "model_name": "LayoutModel",
          "model_module_version": "1.2.0",
          "state": {
            "_model_module": "@jupyter-widgets/base",
            "_model_module_version": "1.2.0",
            "_model_name": "LayoutModel",
            "_view_count": null,
            "_view_module": "@jupyter-widgets/base",
            "_view_module_version": "1.2.0",
            "_view_name": "LayoutView",
            "align_content": null,
            "align_items": null,
            "align_self": null,
            "border": null,
            "bottom": null,
            "display": null,
            "flex": null,
            "flex_flow": null,
            "grid_area": null,
            "grid_auto_columns": null,
            "grid_auto_flow": null,
            "grid_auto_rows": null,
            "grid_column": null,
            "grid_gap": null,
            "grid_row": null,
            "grid_template_areas": null,
            "grid_template_columns": null,
            "grid_template_rows": null,
            "height": null,
            "justify_content": null,
            "justify_items": null,
            "left": null,
            "margin": null,
            "max_height": null,
            "max_width": null,
            "min_height": null,
            "min_width": null,
            "object_fit": null,
            "object_position": null,
            "order": null,
            "overflow": null,
            "overflow_x": null,
            "overflow_y": null,
            "padding": null,
            "right": null,
            "top": null,
            "visibility": null,
            "width": null
          }
        },
        "6ff1c0c0102b4aa7b75f8007a803b57d": {
          "model_module": "@jupyter-widgets/controls",
          "model_name": "DescriptionStyleModel",
          "model_module_version": "1.5.0",
          "state": {
            "_model_module": "@jupyter-widgets/controls",
            "_model_module_version": "1.5.0",
            "_model_name": "DescriptionStyleModel",
            "_view_count": null,
            "_view_module": "@jupyter-widgets/base",
            "_view_module_version": "1.2.0",
            "_view_name": "StyleView",
            "description_width": ""
          }
        },
        "7a3c5543cb05489388e8bca2685cb31a": {
          "model_module": "@jupyter-widgets/base",
          "model_name": "LayoutModel",
          "model_module_version": "1.2.0",
          "state": {
            "_model_module": "@jupyter-widgets/base",
            "_model_module_version": "1.2.0",
            "_model_name": "LayoutModel",
            "_view_count": null,
            "_view_module": "@jupyter-widgets/base",
            "_view_module_version": "1.2.0",
            "_view_name": "LayoutView",
            "align_content": null,
            "align_items": null,
            "align_self": null,
            "border": null,
            "bottom": null,
            "display": null,
            "flex": null,
            "flex_flow": null,
            "grid_area": null,
            "grid_auto_columns": null,
            "grid_auto_flow": null,
            "grid_auto_rows": null,
            "grid_column": null,
            "grid_gap": null,
            "grid_row": null,
            "grid_template_areas": null,
            "grid_template_columns": null,
            "grid_template_rows": null,
            "height": null,
            "justify_content": null,
            "justify_items": null,
            "left": null,
            "margin": null,
            "max_height": null,
            "max_width": null,
            "min_height": null,
            "min_width": null,
            "object_fit": null,
            "object_position": null,
            "order": null,
            "overflow": null,
            "overflow_x": null,
            "overflow_y": null,
            "padding": null,
            "right": null,
            "top": null,
            "visibility": null,
            "width": null
          }
        },
        "6a46ca60d1d840e6b94db0438541db16": {
          "model_module": "@jupyter-widgets/controls",
          "model_name": "ProgressStyleModel",
          "model_module_version": "1.5.0",
          "state": {
            "_model_module": "@jupyter-widgets/controls",
            "_model_module_version": "1.5.0",
            "_model_name": "ProgressStyleModel",
            "_view_count": null,
            "_view_module": "@jupyter-widgets/base",
            "_view_module_version": "1.2.0",
            "_view_name": "StyleView",
            "bar_color": null,
            "description_width": ""
          }
        },
        "6745c8a09ad246ef8cb0d109b95503a7": {
          "model_module": "@jupyter-widgets/base",
          "model_name": "LayoutModel",
          "model_module_version": "1.2.0",
          "state": {
            "_model_module": "@jupyter-widgets/base",
            "_model_module_version": "1.2.0",
            "_model_name": "LayoutModel",
            "_view_count": null,
            "_view_module": "@jupyter-widgets/base",
            "_view_module_version": "1.2.0",
            "_view_name": "LayoutView",
            "align_content": null,
            "align_items": null,
            "align_self": null,
            "border": null,
            "bottom": null,
            "display": null,
            "flex": null,
            "flex_flow": null,
            "grid_area": null,
            "grid_auto_columns": null,
            "grid_auto_flow": null,
            "grid_auto_rows": null,
            "grid_column": null,
            "grid_gap": null,
            "grid_row": null,
            "grid_template_areas": null,
            "grid_template_columns": null,
            "grid_template_rows": null,
            "height": null,
            "justify_content": null,
            "justify_items": null,
            "left": null,
            "margin": null,
            "max_height": null,
            "max_width": null,
            "min_height": null,
            "min_width": null,
            "object_fit": null,
            "object_position": null,
            "order": null,
            "overflow": null,
            "overflow_x": null,
            "overflow_y": null,
            "padding": null,
            "right": null,
            "top": null,
            "visibility": null,
            "width": null
          }
        },
        "f6616b644ae54c34bdc427796e031fc7": {
          "model_module": "@jupyter-widgets/controls",
          "model_name": "DescriptionStyleModel",
          "model_module_version": "1.5.0",
          "state": {
            "_model_module": "@jupyter-widgets/controls",
            "_model_module_version": "1.5.0",
            "_model_name": "DescriptionStyleModel",
            "_view_count": null,
            "_view_module": "@jupyter-widgets/base",
            "_view_module_version": "1.2.0",
            "_view_name": "StyleView",
            "description_width": ""
          }
        },
        "f7dcc92f9fb0481088abac011784c3be": {
          "model_module": "@jupyter-widgets/controls",
          "model_name": "HBoxModel",
          "model_module_version": "1.5.0",
          "state": {
            "_dom_classes": [],
            "_model_module": "@jupyter-widgets/controls",
            "_model_module_version": "1.5.0",
            "_model_name": "HBoxModel",
            "_view_count": null,
            "_view_module": "@jupyter-widgets/controls",
            "_view_module_version": "1.5.0",
            "_view_name": "HBoxView",
            "box_style": "",
            "children": [
              "IPY_MODEL_b420001706e04747a7bdc64d4113cb3c",
              "IPY_MODEL_7e62e38db2ce4591963019307722f96d",
              "IPY_MODEL_97e03ca747d84503b3fce1bce0e3aaba"
            ],
            "layout": "IPY_MODEL_e02ab0485eef486c8a06a6592cd9a134"
          }
        },
        "b420001706e04747a7bdc64d4113cb3c": {
          "model_module": "@jupyter-widgets/controls",
          "model_name": "HTMLModel",
          "model_module_version": "1.5.0",
          "state": {
            "_dom_classes": [],
            "_model_module": "@jupyter-widgets/controls",
            "_model_module_version": "1.5.0",
            "_model_name": "HTMLModel",
            "_view_count": null,
            "_view_module": "@jupyter-widgets/controls",
            "_view_module_version": "1.5.0",
            "_view_name": "HTMLView",
            "description": "",
            "description_tooltip": null,
            "layout": "IPY_MODEL_9e2cb03e304440adafc9dff0c17bb108",
            "placeholder": "​",
            "style": "IPY_MODEL_bdd45157985442fc91458ff4c70960ee",
            "value": "100%"
          }
        },
        "7e62e38db2ce4591963019307722f96d": {
          "model_module": "@jupyter-widgets/controls",
          "model_name": "FloatProgressModel",
          "model_module_version": "1.5.0",
          "state": {
            "_dom_classes": [],
            "_model_module": "@jupyter-widgets/controls",
            "_model_module_version": "1.5.0",
            "_model_name": "FloatProgressModel",
            "_view_count": null,
            "_view_module": "@jupyter-widgets/controls",
            "_view_module_version": "1.5.0",
            "_view_name": "ProgressView",
            "bar_style": "success",
            "description": "",
            "description_tooltip": null,
            "layout": "IPY_MODEL_4ae4c203c8ce4cb48158036442d44f78",
            "max": 80640,
            "min": 0,
            "orientation": "horizontal",
            "style": "IPY_MODEL_132c16bd561c45f0a078485fc1c4d2a5",
            "value": 80640
          }
        },
        "97e03ca747d84503b3fce1bce0e3aaba": {
          "model_module": "@jupyter-widgets/controls",
          "model_name": "HTMLModel",
          "model_module_version": "1.5.0",
          "state": {
            "_dom_classes": [],
            "_model_module": "@jupyter-widgets/controls",
            "_model_module_version": "1.5.0",
            "_model_name": "HTMLModel",
            "_view_count": null,
            "_view_module": "@jupyter-widgets/controls",
            "_view_module_version": "1.5.0",
            "_view_name": "HTMLView",
            "description": "",
            "description_tooltip": null,
            "layout": "IPY_MODEL_47ba96cbbd8447148dfa99bcdcd3bef2",
            "placeholder": "​",
            "style": "IPY_MODEL_4998d498fdc24458a0a79655069aca5f",
            "value": " 80640/80640 [07:35&lt;00:00, 1812.11it/s]"
          }
        },
        "e02ab0485eef486c8a06a6592cd9a134": {
          "model_module": "@jupyter-widgets/base",
          "model_name": "LayoutModel",
          "model_module_version": "1.2.0",
          "state": {
            "_model_module": "@jupyter-widgets/base",
            "_model_module_version": "1.2.0",
            "_model_name": "LayoutModel",
            "_view_count": null,
            "_view_module": "@jupyter-widgets/base",
            "_view_module_version": "1.2.0",
            "_view_name": "LayoutView",
            "align_content": null,
            "align_items": null,
            "align_self": null,
            "border": null,
            "bottom": null,
            "display": null,
            "flex": null,
            "flex_flow": null,
            "grid_area": null,
            "grid_auto_columns": null,
            "grid_auto_flow": null,
            "grid_auto_rows": null,
            "grid_column": null,
            "grid_gap": null,
            "grid_row": null,
            "grid_template_areas": null,
            "grid_template_columns": null,
            "grid_template_rows": null,
            "height": null,
            "justify_content": null,
            "justify_items": null,
            "left": null,
            "margin": null,
            "max_height": null,
            "max_width": null,
            "min_height": null,
            "min_width": null,
            "object_fit": null,
            "object_position": null,
            "order": null,
            "overflow": null,
            "overflow_x": null,
            "overflow_y": null,
            "padding": null,
            "right": null,
            "top": null,
            "visibility": null,
            "width": null
          }
        },
        "9e2cb03e304440adafc9dff0c17bb108": {
          "model_module": "@jupyter-widgets/base",
          "model_name": "LayoutModel",
          "model_module_version": "1.2.0",
          "state": {
            "_model_module": "@jupyter-widgets/base",
            "_model_module_version": "1.2.0",
            "_model_name": "LayoutModel",
            "_view_count": null,
            "_view_module": "@jupyter-widgets/base",
            "_view_module_version": "1.2.0",
            "_view_name": "LayoutView",
            "align_content": null,
            "align_items": null,
            "align_self": null,
            "border": null,
            "bottom": null,
            "display": null,
            "flex": null,
            "flex_flow": null,
            "grid_area": null,
            "grid_auto_columns": null,
            "grid_auto_flow": null,
            "grid_auto_rows": null,
            "grid_column": null,
            "grid_gap": null,
            "grid_row": null,
            "grid_template_areas": null,
            "grid_template_columns": null,
            "grid_template_rows": null,
            "height": null,
            "justify_content": null,
            "justify_items": null,
            "left": null,
            "margin": null,
            "max_height": null,
            "max_width": null,
            "min_height": null,
            "min_width": null,
            "object_fit": null,
            "object_position": null,
            "order": null,
            "overflow": null,
            "overflow_x": null,
            "overflow_y": null,
            "padding": null,
            "right": null,
            "top": null,
            "visibility": null,
            "width": null
          }
        },
        "bdd45157985442fc91458ff4c70960ee": {
          "model_module": "@jupyter-widgets/controls",
          "model_name": "DescriptionStyleModel",
          "model_module_version": "1.5.0",
          "state": {
            "_model_module": "@jupyter-widgets/controls",
            "_model_module_version": "1.5.0",
            "_model_name": "DescriptionStyleModel",
            "_view_count": null,
            "_view_module": "@jupyter-widgets/base",
            "_view_module_version": "1.2.0",
            "_view_name": "StyleView",
            "description_width": ""
          }
        },
        "4ae4c203c8ce4cb48158036442d44f78": {
          "model_module": "@jupyter-widgets/base",
          "model_name": "LayoutModel",
          "model_module_version": "1.2.0",
          "state": {
            "_model_module": "@jupyter-widgets/base",
            "_model_module_version": "1.2.0",
            "_model_name": "LayoutModel",
            "_view_count": null,
            "_view_module": "@jupyter-widgets/base",
            "_view_module_version": "1.2.0",
            "_view_name": "LayoutView",
            "align_content": null,
            "align_items": null,
            "align_self": null,
            "border": null,
            "bottom": null,
            "display": null,
            "flex": null,
            "flex_flow": null,
            "grid_area": null,
            "grid_auto_columns": null,
            "grid_auto_flow": null,
            "grid_auto_rows": null,
            "grid_column": null,
            "grid_gap": null,
            "grid_row": null,
            "grid_template_areas": null,
            "grid_template_columns": null,
            "grid_template_rows": null,
            "height": null,
            "justify_content": null,
            "justify_items": null,
            "left": null,
            "margin": null,
            "max_height": null,
            "max_width": null,
            "min_height": null,
            "min_width": null,
            "object_fit": null,
            "object_position": null,
            "order": null,
            "overflow": null,
            "overflow_x": null,
            "overflow_y": null,
            "padding": null,
            "right": null,
            "top": null,
            "visibility": null,
            "width": null
          }
        },
        "132c16bd561c45f0a078485fc1c4d2a5": {
          "model_module": "@jupyter-widgets/controls",
          "model_name": "ProgressStyleModel",
          "model_module_version": "1.5.0",
          "state": {
            "_model_module": "@jupyter-widgets/controls",
            "_model_module_version": "1.5.0",
            "_model_name": "ProgressStyleModel",
            "_view_count": null,
            "_view_module": "@jupyter-widgets/base",
            "_view_module_version": "1.2.0",
            "_view_name": "StyleView",
            "bar_color": null,
            "description_width": ""
          }
        },
        "47ba96cbbd8447148dfa99bcdcd3bef2": {
          "model_module": "@jupyter-widgets/base",
          "model_name": "LayoutModel",
          "model_module_version": "1.2.0",
          "state": {
            "_model_module": "@jupyter-widgets/base",
            "_model_module_version": "1.2.0",
            "_model_name": "LayoutModel",
            "_view_count": null,
            "_view_module": "@jupyter-widgets/base",
            "_view_module_version": "1.2.0",
            "_view_name": "LayoutView",
            "align_content": null,
            "align_items": null,
            "align_self": null,
            "border": null,
            "bottom": null,
            "display": null,
            "flex": null,
            "flex_flow": null,
            "grid_area": null,
            "grid_auto_columns": null,
            "grid_auto_flow": null,
            "grid_auto_rows": null,
            "grid_column": null,
            "grid_gap": null,
            "grid_row": null,
            "grid_template_areas": null,
            "grid_template_columns": null,
            "grid_template_rows": null,
            "height": null,
            "justify_content": null,
            "justify_items": null,
            "left": null,
            "margin": null,
            "max_height": null,
            "max_width": null,
            "min_height": null,
            "min_width": null,
            "object_fit": null,
            "object_position": null,
            "order": null,
            "overflow": null,
            "overflow_x": null,
            "overflow_y": null,
            "padding": null,
            "right": null,
            "top": null,
            "visibility": null,
            "width": null
          }
        },
        "4998d498fdc24458a0a79655069aca5f": {
          "model_module": "@jupyter-widgets/controls",
          "model_name": "DescriptionStyleModel",
          "model_module_version": "1.5.0",
          "state": {
            "_model_module": "@jupyter-widgets/controls",
            "_model_module_version": "1.5.0",
            "_model_name": "DescriptionStyleModel",
            "_view_count": null,
            "_view_module": "@jupyter-widgets/base",
            "_view_module_version": "1.2.0",
            "_view_name": "StyleView",
            "description_width": ""
          }
        }
      }
    }
  },
  "cells": [
    {
      "cell_type": "markdown",
      "metadata": {
        "id": "view-in-github",
        "colab_type": "text"
      },
      "source": [
        "<a href=\"https://colab.research.google.com/github/RafsanJany-44/ARC/blob/master/Untitled100.ipynb\" target=\"_parent\"><img src=\"https://colab.research.google.com/assets/colab-badge.svg\" alt=\"Open In Colab\"/></a>"
      ]
    },
    {
      "cell_type": "code",
      "execution_count": 1,
      "metadata": {
        "colab": {
          "base_uri": "https://localhost:8080/"
        },
        "id": "PD3_Fh6VCbQQ",
        "outputId": "652959c8-5c50-4add-a434-9b4ad070065f"
      },
      "outputs": [
        {
          "output_type": "stream",
          "name": "stdout",
          "text": [
            "Mounted at /content/drive\n"
          ]
        }
      ],
      "source": [
        "from google.colab import drive\n",
        "drive.mount('/content/drive')"
      ]
    },
    {
      "cell_type": "code",
      "source": [
        "!pip install glob2"
      ],
      "metadata": {
        "colab": {
          "base_uri": "https://localhost:8080/"
        },
        "id": "k5x9FKkqCdJM",
        "outputId": "87295087-09d6-45f1-fbe4-961996f536c9"
      },
      "execution_count": 2,
      "outputs": [
        {
          "output_type": "stream",
          "name": "stdout",
          "text": [
            "Looking in indexes: https://pypi.org/simple, https://us-python.pkg.dev/colab-wheels/public/simple/\n",
            "Requirement already satisfied: glob2 in /usr/local/lib/python3.9/dist-packages (0.7)\n"
          ]
        }
      ]
    },
    {
      "cell_type": "code",
      "source": [
        "from glob import glob\n",
        "import os\n",
        "import pandas as pd\n",
        "path = \"/content/drive/MyDrive/Iqram Sir/Fitabase data pulls - seperate\"\n"
      ],
      "metadata": {
        "id": "VT9dT9HGCe5A"
      },
      "execution_count": 3,
      "outputs": []
    },
    {
      "cell_type": "markdown",
      "source": [
        "#Function"
      ],
      "metadata": {
        "id": "AQlcLqn5ST_i"
      }
    },
    {
      "cell_type": "code",
      "source": [
        "import matplotlib\n",
        "import matplotlib.pyplot as plt\n",
        "import numpy as np\n",
        "from sklearn.linear_model import LinearRegression\n",
        "from tqdm.notebook import tqdm\n",
        "\n",
        "def get_content(patient_folder_adrs):\n",
        "\n",
        "  post_adrs = sorted(glob(patient_folder_adrs+\"/*\"))[0]\n",
        "  \n",
        "\n",
        "  pre_adrs = sorted(glob(patient_folder_adrs+\"/*\"))[1]\n",
        "\n",
        "  for i in glob(post_adrs+\"/*\"):\n",
        "    content = i.split(\"_\")\n",
        "    if \"1min\" in content:\n",
        "      post_1min = i\n",
        "    if \"minuteCaloriesNarrow\" in content:\n",
        "      post_cal = i\n",
        "    if \"minuteMETsNarrow\" in content:\n",
        "      post_met = i\n",
        "\n",
        "\n",
        "  for i in glob(pre_adrs+\"/*\"):\n",
        "    content = i.split(\"_\")\n",
        "    if \"1min\" in i.split(\"_\"):\n",
        "      pre_1min = i\n",
        "    if \"minuteCaloriesNarrow\" in content:\n",
        "      pre_cal = i\n",
        "    if \"minuteMETsNarrow\" in content:\n",
        "      pre_met = i\n",
        " \n",
        "  return post_1min, post_cal,post_met, pre_1min, pre_cal, pre_met\n",
        "\n",
        "\n",
        "\n",
        "\n",
        "def plot(X,Y,m,c,hr_aee = False):\n",
        "  fig = plt.figure(figsize=(13,8))\n",
        "  ax = fig.add_subplot()\n",
        "  fig.subplots_adjust(top=0.85)\n",
        "\n",
        "  # Set titles for the figure and the subplot respectively\n",
        "  #fig.suptitle('bold figure suptitle', fontsize=14, fontweight='bold')\n",
        "  if hr_aee == True:\n",
        "    ax.set_title('Max HR & aEE',fontweight='bold')\n",
        "  else:\n",
        "    ax.set_title('Max HR',fontweight='bold')\n",
        "\n",
        "  ax.scatter(X, Y)\n",
        "\n",
        "  high_y = Y.max()\n",
        "\n",
        "  high_x = (high_y-c)/m\n",
        "\n",
        "  rang_y=[Y.min(),high_y]\n",
        "\n",
        "  ax.plot((rang_y-c)/m, rang_y, color = \"red\")\n",
        "\n",
        "  ax.scatter(high_x, high_y, color='green')\n",
        "  ax.annotate('(aEEMax,HRMax)', xy=(high_x, high_y), xytext=(high_x-5, high_y+10),fontweight='bold')\n",
        "  ax.annotate(\"(\"+str(round(high_x[0],2))+\",\"+str(high_y)+\")\", xy=(high_x, high_y), xytext=(high_x-3, high_y+5),fontweight='bold',color = 'purple')\n",
        "\n",
        "\n",
        "  if hr_aee == True:\n",
        "    ax.set_xlabel(\"aEE_MAX(kJ/min)\",fontweight='bold',fontsize=12)\n",
        "    ax.set_ylabel(\"HR_MAX(BPM)\",fontweight='bold',fontsize=12)\n",
        "  else:\n",
        "    ax.set_xlabel(\"aEE(kJ/min)\",fontweight='bold',fontsize=12)\n",
        "    ax.set_ylabel(\"HR(BPM)\",fontweight='bold',fontsize=12)\n",
        "\n",
        "  ax.axis([0, high_x+10, 0, high_y+30])\n",
        "\n",
        "  ax.grid()\n",
        "  plt.show()\n",
        "\n",
        "\n",
        "\n",
        "\n",
        "def engine(df_1min, df_cal,df_met,hr_aee = False):\n",
        "  list_1 = list(df_1min[\"Time\"])\n",
        "  list_2 = list(df_cal[\"ActivityMinute\"])\n",
        "  list_3 = list(df_met[\"ActivityMinute\"])\n",
        "\n",
        "\n",
        "  hr = []\n",
        "  aee = []\n",
        "  time = []\n",
        "  mets = []\n",
        "\n",
        "  if len(list_1)>len(list_2):\n",
        "    for i in tqdm(list_1):\n",
        "      if i in list_2 and i in list_3:\n",
        "        if list(df_met.query(\"ActivityMinute == '\"+i+\"'\")['METs'])[0]>10:\n",
        "          hr.append(list(df_1min.query(\"Time == '\"+i+\"'\")['Value'])[0])\n",
        "          aee.append(list(df_cal.query(\"ActivityMinute == '\"+i+\"'\")['Calories'])[0]*4.184)\n",
        "          mets.append(list(df_met.query(\"ActivityMinute == '\"+i+\"'\")['METs'])[0])\n",
        "          time.append(i)\n",
        "\n",
        "  else:\n",
        "    for i in tqdm(list_2):\n",
        "      if i in list_1 and i in list_3:\n",
        "        if list(df_met.query(\"ActivityMinute == '\"+i+\"'\")['METs'])[0]>10:\n",
        "          hr.append(list(df_1min.query(\"Time == '\"+i+\"'\")['Value'])[0])\n",
        "          aee.append(list(df_cal.query(\"ActivityMinute == '\"+i+\"'\")['Calories'])[0]*4.184)\n",
        "          mets.append(list(df_met.query(\"ActivityMinute == '\"+i+\"'\")['METs'])[0])\n",
        "          time.append(i)\n",
        "\n",
        "  d={\n",
        "    \"Time\" : time,\n",
        "     \"HR(BPM)\" : hr,\n",
        "     \"aEE(kJ/min)\":aee,\n",
        "     \"METs\" : mets\n",
        "  }\n",
        "\n",
        "  dataFrame = pd.DataFrame.from_dict(d)\n",
        "\n",
        "\n",
        "  Y = dataFrame[\"HR(BPM)\"].values.reshape(-1, 1)\n",
        "  X = dataFrame[\"aEE(kJ/min)\"].values.reshape(-1, 1)\n",
        "  reg = LinearRegression().fit(X, Y)\n",
        "  m = reg.coef_[0]\n",
        "  c = reg.intercept_\n",
        "\n",
        "  if hr_aee == True:\n",
        "    hr_mx = Y.max()\n",
        "    aee_mx = (hr_mx-c)/m\n",
        "    return hr_mx, round(aee_mx[0],2)\n",
        "\n",
        "  else:\n",
        "    plot(X,Y,m,c)\n",
        "    return dataFrame\n",
        "\n",
        "\n",
        "\n",
        "def test_signle_sample(data,df_1min,df_cal,df_met):\n",
        "  total_row = data.shape[0]\n",
        "  print(\"Total DataRow: \",total_row)\n",
        "\n",
        "  err_row=[]\n",
        "\n",
        "  for i in tqdm(range(total_row)):\n",
        "    print(data[\"Time\"][i], data['HR(BPM)'][i],round(data['aEE(kJ/min)'][i],2),data['METs'][i])\n",
        "\n",
        "    hr = list(df_1min.query(\"Time == '\"+data[\"Time\"][i]+\"'\")['Value'])[0]\n",
        "    cal = round(list(df_cal.query(\"ActivityMinute == '\"+data[\"Time\"][i]+\"'\")['Calories'])[0],2)\n",
        "    mets = list(df_met.query(\"ActivityMinute == '\"+data[\"Time\"][i]+\"'\")['METs'])[0]\n",
        "    print(hr,round(cal*4.184,2),mets)\n",
        "    print(\"------------------------------------------------------------\")\n",
        "\n",
        "    if hr != data['HR(BPM)'][i] or cal != round(data['aEE(kJ/min)'][i]/4.184,2) or mets != data['METs'][i]:\n",
        "      err_row.append((data[\"Time\"][i],i))\n",
        "  return err_row\n"
      ],
      "metadata": {
        "id": "M7UfBRMSCgx1"
      },
      "execution_count": 47,
      "outputs": []
    },
    {
      "cell_type": "code",
      "source": [],
      "metadata": {
        "id": "zFfNTFr6F66P"
      },
      "execution_count": null,
      "outputs": []
    },
    {
      "cell_type": "markdown",
      "source": [
        "#Sample Test for single subject"
      ],
      "metadata": {
        "id": "aCTTQrQIr1hV"
      }
    },
    {
      "cell_type": "code",
      "source": [
        "subject = '001-JV'"
      ],
      "metadata": {
        "id": "qZTT_mNBClTL"
      },
      "execution_count": 48,
      "outputs": []
    },
    {
      "cell_type": "code",
      "source": [
        "\n",
        "\n",
        "for i in glob(path+\"/*\"):\n",
        "  #get_contenct(i)\n",
        "  if subject in i.split(\"/\"):\n",
        "    Post_1min,Post_cal,Post_met, Pre_1min,Pre_cal,Pre_met = get_content(i)\n",
        "\n",
        "df_post_1min = pd.read_csv(Post_1min)\n",
        "df_post_cal = pd.read_csv(Post_cal)\n",
        "df_post_met = pd.read_csv(Post_met)\n",
        "\n",
        "df_pre_1min = pd.read_csv(Pre_1min)\n",
        "df_pre_cal = pd.read_csv(Pre_cal)\n",
        "df_pre_met = pd.read_csv(Pre_met)\n"
      ],
      "metadata": {
        "id": "lXxrSRH_Cnp3"
      },
      "execution_count": 49,
      "outputs": []
    },
    {
      "cell_type": "markdown",
      "source": [
        "##Post Regression Line\n",
        "<font color = 'blue'>Details:</font> This section will plot the regression line of `post condition`.<br>\n"
      ],
      "metadata": {
        "id": "hFfKHzvJruWx"
      }
    },
    {
      "cell_type": "code",
      "source": [
        "data = engine(df_post_1min,df_post_cal,df_post_met)"
      ],
      "metadata": {
        "colab": {
          "base_uri": "https://localhost:8080/",
          "height": 730,
          "referenced_widgets": [
            "49d19c8f4eba4a1db76b8bb787d19a75",
            "f63a5d9d4808421aa708dbbdd7f359ed",
            "ac8b2a4ab4d24529a742dcbbe5ddd835",
            "1f0916531a25415dba5356c9d688142f",
            "7d2be3f2bfbe4228a0fea06fb9a5a0e4",
            "1528d47c76a344bbb0bb02d82d3ddc86",
            "6ff1c0c0102b4aa7b75f8007a803b57d",
            "7a3c5543cb05489388e8bca2685cb31a",
            "6a46ca60d1d840e6b94db0438541db16",
            "6745c8a09ad246ef8cb0d109b95503a7",
            "f6616b644ae54c34bdc427796e031fc7"
          ]
        },
        "id": "hugUBAc5cpks",
        "outputId": "64edf9eb-ce76-488c-e2b5-596d891b841e"
      },
      "execution_count": 54,
      "outputs": [
        {
          "output_type": "display_data",
          "data": {
            "text/plain": [
              "  0%|          | 0/50400 [00:00<?, ?it/s]"
            ],
            "application/vnd.jupyter.widget-view+json": {
              "version_major": 2,
              "version_minor": 0,
              "model_id": "49d19c8f4eba4a1db76b8bb787d19a75"
            }
          },
          "metadata": {}
        },
        {
          "output_type": "display_data",
          "data": {
            "text/plain": [
              "<Figure size 1300x800 with 1 Axes>"
            ],
            "image/png": "[encoded data removed]"
          },
          "metadata": {}
        }
      ]
    },
    {
      "cell_type": "code",
      "source": [
        "#print(len(test_signle_sample(data, df_post_1min, df_post_cal, df_post_met)))"
      ],
      "metadata": {
        "id": "kk2bH3HCgO5i"
      },
      "execution_count": null,
      "outputs": []
    },
    {
      "cell_type": "markdown",
      "source": [
        "##Pre Regression Line\n",
        "<font color = 'blue'>Details:</font> This section will plot the regression line of `pre condition`.<br>"
      ],
      "metadata": {
        "id": "aOyHsZCLrnoK"
      }
    },
    {
      "cell_type": "code",
      "source": [
        "data = engine(df_pre_1min,df_pre_cal,df_pre_met)"
      ],
      "metadata": {
        "colab": {
          "base_uri": "https://localhost:8080/",
          "height": 730,
          "referenced_widgets": [
            "f7dcc92f9fb0481088abac011784c3be",
            "b420001706e04747a7bdc64d4113cb3c",
            "7e62e38db2ce4591963019307722f96d",
            "97e03ca747d84503b3fce1bce0e3aaba",
            "e02ab0485eef486c8a06a6592cd9a134",
            "9e2cb03e304440adafc9dff0c17bb108",
            "bdd45157985442fc91458ff4c70960ee",
            "4ae4c203c8ce4cb48158036442d44f78",
            "132c16bd561c45f0a078485fc1c4d2a5",
            "47ba96cbbd8447148dfa99bcdcd3bef2",
            "4998d498fdc24458a0a79655069aca5f"
          ]
        },
        "id": "usdlJNH0eGDn",
        "outputId": "5e83b2d4-0a87-4177-ab28-6e1d908ed8ec"
      },
      "execution_count": 51,
      "outputs": [
        {
          "output_type": "display_data",
          "data": {
            "text/plain": [
              "  0%|          | 0/80640 [00:00<?, ?it/s]"
            ],
            "application/vnd.jupyter.widget-view+json": {
              "version_major": 2,
              "version_minor": 0,
              "model_id": "f7dcc92f9fb0481088abac011784c3be"
            }
          },
          "metadata": {}
        },
        {
          "output_type": "display_data",
          "data": {
            "text/plain": [
              "<Figure size 1300x800 with 1 Axes>"
            ],
            "image/png": "[encoded data removed]"
          },
          "metadata": {}
        }
      ]
    },
    {
      "cell_type": "markdown",
      "source": [
        "###Testing"
      ],
      "metadata": {
        "id": "BFZM_rgzrpCj"
      }
    },
    {
      "cell_type": "code",
      "source": [
        "#print(len(test_signle_sample(data, df_pre_1min, df_pre_cal, df_pre_met)))"
      ],
      "metadata": {
        "id": "CmlMNEOsrU5A"
      },
      "execution_count": null,
      "outputs": []
    },
    {
      "cell_type": "code",
      "source": [],
      "metadata": {
        "id": "3yPBUf4xrYv3"
      },
      "execution_count": null,
      "outputs": []
    },
    {
      "cell_type": "markdown",
      "source": [
        "#Dataset Creation with all `HR_MAX` and `aEE_MAX` values of all patients."
      ],
      "metadata": {
        "id": "jR5VtavvriU6"
      }
    },
    {
      "cell_type": "code",
      "source": [
        "from tqdm.notebook import tqdm\n",
        "p_id = []\n",
        "condition = []\n",
        "hr_max = []\n",
        "aee_max = []\n",
        "\n",
        "\n",
        "for i in tqdm(sorted(glob(path+\"/*\"))):\n",
        "\n",
        "  print()\n",
        "  print()\n",
        "  sub =  os.path.basename(i)\n",
        "  print(\"Subject processing: \",sub)\n",
        "  Post_1min, Post_cal, Pre_1min, Pre_cal = get_contenct(i)\n",
        "\n",
        "  p_id.append(sub)\n",
        "  condition.append('pre')\n",
        "  df_pre_1min = pd.read_csv(Pre_1min)\n",
        "  df_pre_cal = pd.read_csv(Pre_cal)\n",
        "  print(\"Pre Condition In Process:\")\n",
        "  h,a = engine(df_pre_1min,df_pre_cal,True)\n",
        "  hr_max.append(h)\n",
        "  aee_max.append(a)\n",
        "  print(\"Pre Condition Process Complete...\")\n",
        "\n",
        "  p_id.append(sub)\n",
        "  condition.append('post')\n",
        "  df_post_1min = pd.read_csv(Post_1min)\n",
        "  df_post_cal = pd.read_csv(Post_cal)\n",
        "  print(\"Post Condition In Process:\")\n",
        "  h,a = engine(df_post_1min,df_post_cal,True)\n",
        "  hr_max.append(h)\n",
        "  aee_max.append(a)\n",
        "  print(\"Post Condition Process Complete...\")\n",
        "  print()\n",
        "\n",
        "  print(\"Processing Complete.....\")\n",
        "  print(\"------------------------------------------------------------------------\")\n",
        "\n",
        "\n",
        "print(\"Dataset creation complete......\")"
      ],
      "metadata": {
        "id": "WkXkyIBPrd_x"
      },
      "execution_count": null,
      "outputs": []
    }
  ]
}