{
  "cells": [
    {
      "cell_type": "markdown",
      "metadata": {
        "id": "view-in-github",
        "colab_type": "text"
      },
      "source": [
        "<a href=\"https://colab.research.google.com/github/RafsanJany-44/ARC/blob/master/Econo_lstm_1.ipynb\" target=\"_parent\"><img src=\"https://colab.research.google.com/assets/colab-badge.svg\" alt=\"Open In Colab\"/></a>"
      ]
    },
    {
      "cell_type": "code",
      "source": [
        "from google.colab import drive\n",
        "drive.mount('/content/drive')"
      ],
      "metadata": {
        "colab": {
          "base_uri": "https://localhost:8080/"
        },
        "id": "pGmF4kpfl6Ll",
        "outputId": "a43ea573-0d9e-46b2-fc13-592649f45892"
      },
      "id": "pGmF4kpfl6Ll",
      "execution_count": 1,
      "outputs": [
        {
          "output_type": "stream",
          "name": "stdout",
          "text": [
            "Mounted at /content/drive\n"
          ]
        }
      ]
    },
    {
      "cell_type": "code",
      "source": [
        "import numpy as np\n",
        "import pandas as pd\n",
        "import os\n",
        "from glob2 import glob\n",
        "import matplotlib.pyplot as plt\n",
        "import seaborn as sns\n",
        "sns.set_style('whitegrid')\n",
        "plt.style.use(\"fivethirtyeight\")\n",
        "%matplotlib inline"
      ],
      "metadata": {
        "id": "t3ISpPasl89F"
      },
      "id": "t3ISpPasl89F",
      "execution_count": 3,
      "outputs": []
    },
    {
      "cell_type": "code",
      "source": [
        "dataset = pd.read_json(\"/content/drive/MyDrive/RDocs/trading-research-main/NSE-Data/Equity/Historical-ohlcv/ADANIENT/ADANIENT-2000-01-01-2023-05-31.json\",typ='series')\n",
        "#dataset = pd.read_json(file_list[0],typ='series')"
      ],
      "metadata": {
        "id": "3pAiq5Udl_mA"
      },
      "id": "3pAiq5Udl_mA",
      "execution_count": 4,
      "outputs": []
    },
    {
      "cell_type": "code",
      "execution_count": 5,
      "id": "7589388f",
      "metadata": {
        "execution": {
          "iopub.execute_input": "2023-01-31T12:54:18.126741Z",
          "iopub.status.busy": "2023-01-31T12:54:18.126117Z",
          "iopub.status.idle": "2023-01-31T12:54:18.838390Z",
          "shell.execute_reply": "2023-01-31T12:54:18.837307Z"
        },
        "papermill": {
          "duration": 0.751269,
          "end_time": "2023-01-31T12:54:18.840860",
          "exception": false,
          "start_time": "2023-01-31T12:54:18.089591",
          "status": "completed"
        },
        "tags": [],
        "colab": {
          "base_uri": "https://localhost:8080/",
          "height": 423
        },
        "id": "7589388f",
        "outputId": "6ab0ee4e-371d-40ec-ef51-4475245e9871"
      },
      "outputs": [
        {
          "output_type": "execute_result",
          "data": {
            "text/plain": [
              "         open     high      low    close     volume           start_Time\n",
              "0        6.63     6.72     6.50     6.59    43406.0  2003-09-05 00:00:00\n",
              "1        6.75     6.81     6.57     6.62    37381.0  2003-09-08 00:00:00\n",
              "2        6.75     6.87     6.47     6.59    41136.0  2003-09-09 00:00:00\n",
              "3        6.53     6.68     6.50     6.58    36487.0  2003-09-10 00:00:00\n",
              "4        6.56     6.75     6.47     6.53    38052.0  2003-09-11 00:00:00\n",
              "...       ...      ...      ...      ...        ...                  ...\n",
              "4898  2440.00  2558.80  2386.65  2537.45  8434009.0  2023-05-25 00:00:00\n",
              "4899  2565.00  2599.95  2535.15  2544.35  3963515.0  2023-05-26 00:00:00\n",
              "4900  2570.00  2583.50  2523.00  2534.05  2779432.0  2023-05-29 00:00:00\n",
              "4901  2529.30  2554.15  2475.15  2496.45  1736953.0  2023-05-30 00:00:00\n",
              "4902  2482.00  2573.00  2428.00  2493.35  4268439.0  2023-05-31 00:00:00\n",
              "\n",
              "[4903 rows x 6 columns]"
            ],
            "text/html": [
              "\n",
              "  <div id=\"df-52c92a4d-7fcf-45c9-8ca0-b4a07f9ba515\">\n",
              "    <div class=\"colab-df-container\">\n",
              "      <div>\n",
              "<style scoped>\n",
              "    .dataframe tbody tr th:only-of-type {\n",
              "        vertical-align: middle;\n",
              "    }\n",
              "\n",
              "    .dataframe tbody tr th {\n",
              "        vertical-align: top;\n",
              "    }\n",
              "\n",
              "    .dataframe thead th {\n",
              "        text-align: right;\n",
              "    }\n",
              "</style>\n",
              "<table border=\"1\" class=\"dataframe\">\n",
              "  <thead>\n",
              "    <tr style=\"text-align: right;\">\n",
              "      <th></th>\n",
              "      <th>open</th>\n",
              "      <th>high</th>\n",
              "      <th>low</th>\n",
              "      <th>close</th>\n",
              "      <th>volume</th>\n",
              "      <th>start_Time</th>\n",
              "    </tr>\n",
              "  </thead>\n",
              "  <tbody>\n",
              "    <tr>\n",
              "      <th>0</th>\n",
              "      <td>6.63</td>\n",
              "      <td>6.72</td>\n",
              "      <td>6.50</td>\n",
              "      <td>6.59</td>\n",
              "      <td>43406.0</td>\n",
              "      <td>2003-09-05 00:00:00</td>\n",
              "    </tr>\n",
              "    <tr>\n",
              "      <th>1</th>\n",
              "      <td>6.75</td>\n",
              "      <td>6.81</td>\n",
              "      <td>6.57</td>\n",
              "      <td>6.62</td>\n",
              "      <td>37381.0</td>\n",
              "      <td>2003-09-08 00:00:00</td>\n",
              "    </tr>\n",
              "    <tr>\n",
              "      <th>2</th>\n",
              "      <td>6.75</td>\n",
              "      <td>6.87</td>\n",
              "      <td>6.47</td>\n",
              "      <td>6.59</td>\n",
              "      <td>41136.0</td>\n",
              "      <td>2003-09-09 00:00:00</td>\n",
              "    </tr>\n",
              "    <tr>\n",
              "      <th>3</th>\n",
              "      <td>6.53</td>\n",
              "      <td>6.68</td>\n",
              "      <td>6.50</td>\n",
              "      <td>6.58</td>\n",
              "      <td>36487.0</td>\n",
              "      <td>2003-09-10 00:00:00</td>\n",
              "    </tr>\n",
              "    <tr>\n",
              "      <th>4</th>\n",
              "      <td>6.56</td>\n",
              "      <td>6.75</td>\n",
              "      <td>6.47</td>\n",
              "      <td>6.53</td>\n",
              "      <td>38052.0</td>\n",
              "      <td>2003-09-11 00:00:00</td>\n",
              "    </tr>\n",
              "    <tr>\n",
              "      <th>...</th>\n",
              "      <td>...</td>\n",
              "      <td>...</td>\n",
              "      <td>...</td>\n",
              "      <td>...</td>\n",
              "      <td>...</td>\n",
              "      <td>...</td>\n",
              "    </tr>\n",
              "    <tr>\n",
              "      <th>4898</th>\n",
              "      <td>2440.00</td>\n",
              "      <td>2558.80</td>\n",
              "      <td>2386.65</td>\n",
              "      <td>2537.45</td>\n",
              "      <td>8434009.0</td>\n",
              "      <td>2023-05-25 00:00:00</td>\n",
              "    </tr>\n",
              "    <tr>\n",
              "      <th>4899</th>\n",
              "      <td>2565.00</td>\n",
              "      <td>2599.95</td>\n",
              "      <td>2535.15</td>\n",
              "      <td>2544.35</td>\n",
              "      <td>3963515.0</td>\n",
              "      <td>2023-05-26 00:00:00</td>\n",
              "    </tr>\n",
              "    <tr>\n",
              "      <th>4900</th>\n",
              "      <td>2570.00</td>\n",
              "      <td>2583.50</td>\n",
              "      <td>2523.00</td>\n",
              "      <td>2534.05</td>\n",
              "      <td>2779432.0</td>\n",
              "      <td>2023-05-29 00:00:00</td>\n",
              "    </tr>\n",
              "    <tr>\n",
              "      <th>4901</th>\n",
              "      <td>2529.30</td>\n",
              "      <td>2554.15</td>\n",
              "      <td>2475.15</td>\n",
              "      <td>2496.45</td>\n",
              "      <td>1736953.0</td>\n",
              "      <td>2023-05-30 00:00:00</td>\n",
              "    </tr>\n",
              "    <tr>\n",
              "      <th>4902</th>\n",
              "      <td>2482.00</td>\n",
              "      <td>2573.00</td>\n",
              "      <td>2428.00</td>\n",
              "      <td>2493.35</td>\n",
              "      <td>4268439.0</td>\n",
              "      <td>2023-05-31 00:00:00</td>\n",
              "    </tr>\n",
              "  </tbody>\n",
              "</table>\n",
              "<p>4903 rows × 6 columns</p>\n",
              "</div>\n",
              "      <button class=\"colab-df-convert\" onclick=\"convertToInteractive('df-52c92a4d-7fcf-45c9-8ca0-b4a07f9ba515')\"\n",
              "              title=\"Convert this dataframe to an interactive table.\"\n",
              "              style=\"display:none;\">\n",
              "        \n",
              "  <svg xmlns=\"http://www.w3.org/2000/svg\" height=\"24px\"viewBox=\"0 0 24 24\"\n",
              "       width=\"24px\">\n",
              "    <path d=\"M0 0h24v24H0V0z\" fill=\"none\"/>\n",
              "    <path d=\"M18.56 5.44l.94 2.06.94-2.06 2.06-.94-2.06-.94-.94-2.06-.94 2.06-2.06.94zm-11 1L8.5 8.5l.94-2.06 2.06-.94-2.06-.94L8.5 2.5l-.94 2.06-2.06.94zm10 10l.94 2.06.94-2.06 2.06-.94-2.06-.94-.94-2.06-.94 2.06-2.06.94z\"/><path d=\"M17.41 7.96l-1.37-1.37c-.4-.4-.92-.59-1.43-.59-.52 0-1.04.2-1.43.59L10.3 9.45l-7.72 7.72c-.78.78-.78 2.05 0 2.83L4 21.41c.39.39.9.59 1.41.59.51 0 1.02-.2 1.41-.59l7.78-7.78 2.81-2.81c.8-.78.8-2.07 0-2.86zM5.41 20L4 18.59l7.72-7.72 1.47 1.35L5.41 20z\"/>\n",
              "  </svg>\n",
              "      </button>\n",
              "      \n",
              "  <style>\n",
              "    .colab-df-container {\n",
              "      display:flex;\n",
              "      flex-wrap:wrap;\n",
              "      gap: 12px;\n",
              "    }\n",
              "\n",
              "    .colab-df-convert {\n",
              "      background-color: #E8F0FE;\n",
              "      border: none;\n",
              "      border-radius: 50%;\n",
              "      cursor: pointer;\n",
              "      display: none;\n",
              "      fill: #1967D2;\n",
              "      height: 32px;\n",
              "      padding: 0 0 0 0;\n",
              "      width: 32px;\n",
              "    }\n",
              "\n",
              "    .colab-df-convert:hover {\n",
              "      background-color: #E2EBFA;\n",
              "      box-shadow: 0px 1px 2px rgba(60, 64, 67, 0.3), 0px 1px 3px 1px rgba(60, 64, 67, 0.15);\n",
              "      fill: #174EA6;\n",
              "    }\n",
              "\n",
              "    [theme=dark] .colab-df-convert {\n",
              "      background-color: #3B4455;\n",
              "      fill: #D2E3FC;\n",
              "    }\n",
              "\n",
              "    [theme=dark] .colab-df-convert:hover {\n",
              "      background-color: #434B5C;\n",
              "      box-shadow: 0px 1px 3px 1px rgba(0, 0, 0, 0.15);\n",
              "      filter: drop-shadow(0px 1px 2px rgba(0, 0, 0, 0.3));\n",
              "      fill: #FFFFFF;\n",
              "    }\n",
              "  </style>\n",
              "\n",
              "      <script>\n",
              "        const buttonEl =\n",
              "          document.querySelector('#df-52c92a4d-7fcf-45c9-8ca0-b4a07f9ba515 button.colab-df-convert');\n",
              "        buttonEl.style.display =\n",
              "          google.colab.kernel.accessAllowed ? 'block' : 'none';\n",
              "\n",
              "        async function convertToInteractive(key) {\n",
              "          const element = document.querySelector('#df-52c92a4d-7fcf-45c9-8ca0-b4a07f9ba515');\n",
              "          const dataTable =\n",
              "            await google.colab.kernel.invokeFunction('convertToInteractive',\n",
              "                                                     [key], {});\n",
              "          if (!dataTable) return;\n",
              "\n",
              "          const docLinkHtml = 'Like what you see? Visit the ' +\n",
              "            '<a target=\"_blank\" href=https://colab.research.google.com/notebooks/data_table.ipynb>data table notebook</a>'\n",
              "            + ' to learn more about interactive tables.';\n",
              "          element.innerHTML = '';\n",
              "          dataTable['output_type'] = 'display_data';\n",
              "          await google.colab.output.renderOutput(dataTable, element);\n",
              "          const docLink = document.createElement('div');\n",
              "          docLink.innerHTML = docLinkHtml;\n",
              "          element.appendChild(docLink);\n",
              "        }\n",
              "      </script>\n",
              "    </div>\n",
              "  </div>\n",
              "  "
            ]
          },
          "metadata": {},
          "execution_count": 5
        }
      ],
      "source": [
        "# Get the stock quote\n",
        "df = pd.DataFrame(dataset['data'])\n",
        "# Show teh data\n",
        "df"
      ]
    },
    {
      "cell_type": "code",
      "execution_count": 6,
      "id": "28a8a79f",
      "metadata": {
        "execution": {
          "iopub.execute_input": "2023-01-31T12:54:18.912834Z",
          "iopub.status.busy": "2023-01-31T12:54:18.912442Z",
          "iopub.status.idle": "2023-01-31T12:54:19.522134Z",
          "shell.execute_reply": "2023-01-31T12:54:19.521110Z"
        },
        "papermill": {
          "duration": 0.648574,
          "end_time": "2023-01-31T12:54:19.524465",
          "exception": false,
          "start_time": "2023-01-31T12:54:18.875891",
          "status": "completed"
        },
        "tags": [],
        "colab": {
          "base_uri": "https://localhost:8080/",
          "height": 422
        },
        "id": "28a8a79f",
        "outputId": "f0dd562f-2038-4888-af71-c10efaafabe1"
      },
      "outputs": [
        {
          "output_type": "display_data",
          "data": {
            "text/plain": [
              "<Figure size 1600x600 with 1 Axes>"
            ],
            "image/png": "[encoded data removed]"
          },
          "metadata": {}
        }
      ],
      "source": [
        "plt.figure(figsize=(16,6))\n",
        "plt.title('Close Price History')\n",
        "plt.plot(df['close'])\n",
        "plt.xlabel('start_Time', fontsize=18)\n",
        "plt.ylabel('Close Price', fontsize=18)\n",
        "plt.show()"
      ]
    },
    {
      "cell_type": "code",
      "execution_count": 7,
      "id": "67324004",
      "metadata": {
        "execution": {
          "iopub.execute_input": "2023-01-31T12:54:19.601788Z",
          "iopub.status.busy": "2023-01-31T12:54:19.601381Z",
          "iopub.status.idle": "2023-01-31T12:54:19.610620Z",
          "shell.execute_reply": "2023-01-31T12:54:19.609494Z"
        },
        "papermill": {
          "duration": 0.04938,
          "end_time": "2023-01-31T12:54:19.612866",
          "exception": false,
          "start_time": "2023-01-31T12:54:19.563486",
          "status": "completed"
        },
        "tags": [],
        "colab": {
          "base_uri": "https://localhost:8080/"
        },
        "id": "67324004",
        "outputId": "8a08560c-05af-4d8e-91d6-bc67028ead88"
      },
      "outputs": [
        {
          "output_type": "execute_result",
          "data": {
            "text/plain": [
              "4658"
            ]
          },
          "metadata": {},
          "execution_count": 7
        }
      ],
      "source": [
        "\n",
        "data = df.filter(['close'])\n",
        "dataset = data.values\n",
        "training_data_len = int(np.ceil( len(dataset) * .95 ))\n",
        "\n",
        "training_data_len"
      ]
    },
    {
      "cell_type": "code",
      "execution_count": 8,
      "id": "10f840de",
      "metadata": {
        "execution": {
          "iopub.execute_input": "2023-01-31T12:54:19.687315Z",
          "iopub.status.busy": "2023-01-31T12:54:19.686911Z",
          "iopub.status.idle": "2023-01-31T12:54:19.839242Z",
          "shell.execute_reply": "2023-01-31T12:54:19.838019Z"
        },
        "papermill": {
          "duration": 0.192669,
          "end_time": "2023-01-31T12:54:19.841937",
          "exception": false,
          "start_time": "2023-01-31T12:54:19.649268",
          "status": "completed"
        },
        "tags": [],
        "colab": {
          "base_uri": "https://localhost:8080/"
        },
        "id": "10f840de",
        "outputId": "48fbd781-927b-43e0-e9ec-9447c3688053"
      },
      "outputs": [
        {
          "output_type": "execute_result",
          "data": {
            "text/plain": [
              "array([[1.27427126e-04],\n",
              "       [1.34639982e-04],\n",
              "       [1.27427126e-04],\n",
              "       ...,\n",
              "       [6.07800944e-01],\n",
              "       [5.98760831e-01],\n",
              "       [5.98015503e-01]])"
            ]
          },
          "metadata": {},
          "execution_count": 8
        }
      ],
      "source": [
        "# Scale the data\n",
        "from sklearn.preprocessing import MinMaxScaler\n",
        "\n",
        "scaler = MinMaxScaler(feature_range=(0,1))\n",
        "scaled_data = scaler.fit_transform(dataset)\n",
        "\n",
        "scaled_data"
      ]
    },
    {
      "cell_type": "code",
      "execution_count": 9,
      "id": "56760ac2",
      "metadata": {
        "_kg_hide-output": true,
        "execution": {
          "iopub.execute_input": "2023-01-31T12:54:19.915974Z",
          "iopub.status.busy": "2023-01-31T12:54:19.915577Z",
          "iopub.status.idle": "2023-01-31T12:54:19.931894Z",
          "shell.execute_reply": "2023-01-31T12:54:19.930611Z"
        },
        "papermill": {
          "duration": 0.056026,
          "end_time": "2023-01-31T12:54:19.934116",
          "exception": false,
          "start_time": "2023-01-31T12:54:19.878090",
          "status": "completed"
        },
        "tags": [],
        "colab": {
          "base_uri": "https://localhost:8080/"
        },
        "id": "56760ac2",
        "outputId": "3e1e6ce5-d4f7-46fb-e781-01a3f87c3183"
      },
      "outputs": [
        {
          "output_type": "stream",
          "name": "stdout",
          "text": [
            "[array([1.27427126e-04, 1.34639982e-04, 1.27427126e-04, 1.25022841e-04,\n",
            "       1.13001414e-04, 1.22618555e-04, 8.41499889e-05, 5.77028496e-05,\n",
            "       6.01071350e-05, 1.20214270e-05, 1.20214270e-05, 4.56814226e-05,\n",
            "       2.64471394e-05, 4.08728518e-05, 1.20214270e-05, 2.16385686e-05,\n",
            "       1.68299978e-05, 1.20214270e-05, 1.20214270e-05, 2.40428540e-05,\n",
            "       1.63491407e-04, 1.25022841e-04, 1.20214270e-04, 1.32235697e-04,\n",
            "       1.68299978e-04, 2.54854252e-04, 2.09172830e-04, 1.37044268e-04,\n",
            "       1.27427126e-04, 1.27427126e-04, 9.13628451e-05, 5.28942788e-05,\n",
            "       3.60642810e-05, 3.84685664e-05, 1.68299978e-05, 4.56814226e-05,\n",
            "       2.88514248e-05, 7.21285619e-06, 1.44257124e-05, 1.68299978e-05,\n",
            "       0.00000000e+00, 3.36599956e-05, 9.61714159e-06, 3.36599956e-05,\n",
            "       5.77028496e-05, 9.61714159e-05, 1.53874265e-04, 1.99555688e-04,\n",
            "       1.80321405e-04, 9.85757013e-05, 8.65542743e-05, 8.41499889e-05,\n",
            "       1.44257124e-04, 1.15405699e-04, 1.05788558e-04, 7.69371327e-05,\n",
            "       5.52985642e-05, 7.21285619e-05, 6.97242766e-05, 1.22618555e-04])]\n",
            "[0.000153874265490811]\n",
            "\n",
            "[array([1.27427126e-04, 1.34639982e-04, 1.27427126e-04, 1.25022841e-04,\n",
            "       1.13001414e-04, 1.22618555e-04, 8.41499889e-05, 5.77028496e-05,\n",
            "       6.01071350e-05, 1.20214270e-05, 1.20214270e-05, 4.56814226e-05,\n",
            "       2.64471394e-05, 4.08728518e-05, 1.20214270e-05, 2.16385686e-05,\n",
            "       1.68299978e-05, 1.20214270e-05, 1.20214270e-05, 2.40428540e-05,\n",
            "       1.63491407e-04, 1.25022841e-04, 1.20214270e-04, 1.32235697e-04,\n",
            "       1.68299978e-04, 2.54854252e-04, 2.09172830e-04, 1.37044268e-04,\n",
            "       1.27427126e-04, 1.27427126e-04, 9.13628451e-05, 5.28942788e-05,\n",
            "       3.60642810e-05, 3.84685664e-05, 1.68299978e-05, 4.56814226e-05,\n",
            "       2.88514248e-05, 7.21285619e-06, 1.44257124e-05, 1.68299978e-05,\n",
            "       0.00000000e+00, 3.36599956e-05, 9.61714159e-06, 3.36599956e-05,\n",
            "       5.77028496e-05, 9.61714159e-05, 1.53874265e-04, 1.99555688e-04,\n",
            "       1.80321405e-04, 9.85757013e-05, 8.65542743e-05, 8.41499889e-05,\n",
            "       1.44257124e-04, 1.15405699e-04, 1.05788558e-04, 7.69371327e-05,\n",
            "       5.52985642e-05, 7.21285619e-05, 6.97242766e-05, 1.22618555e-04]), array([1.34639982e-04, 1.27427126e-04, 1.25022841e-04, 1.13001414e-04,\n",
            "       1.22618555e-04, 8.41499889e-05, 5.77028496e-05, 6.01071350e-05,\n",
            "       1.20214270e-05, 1.20214270e-05, 4.56814226e-05, 2.64471394e-05,\n",
            "       4.08728518e-05, 1.20214270e-05, 2.16385686e-05, 1.68299978e-05,\n",
            "       1.20214270e-05, 1.20214270e-05, 2.40428540e-05, 1.63491407e-04,\n",
            "       1.25022841e-04, 1.20214270e-04, 1.32235697e-04, 1.68299978e-04,\n",
            "       2.54854252e-04, 2.09172830e-04, 1.37044268e-04, 1.27427126e-04,\n",
            "       1.27427126e-04, 9.13628451e-05, 5.28942788e-05, 3.60642810e-05,\n",
            "       3.84685664e-05, 1.68299978e-05, 4.56814226e-05, 2.88514248e-05,\n",
            "       7.21285619e-06, 1.44257124e-05, 1.68299978e-05, 0.00000000e+00,\n",
            "       3.36599956e-05, 9.61714159e-06, 3.36599956e-05, 5.77028496e-05,\n",
            "       9.61714159e-05, 1.53874265e-04, 1.99555688e-04, 1.80321405e-04,\n",
            "       9.85757013e-05, 8.65542743e-05, 8.41499889e-05, 1.44257124e-04,\n",
            "       1.15405699e-04, 1.05788558e-04, 7.69371327e-05, 5.52985642e-05,\n",
            "       7.21285619e-05, 6.97242766e-05, 1.22618555e-04, 1.53874265e-04])]\n",
            "[0.000153874265490811, 0.00019234283186351391]\n",
            "\n"
          ]
        }
      ],
      "source": [
        "# Create the training data set\n",
        "# Create the scaled training data set\n",
        "train_data = scaled_data[0:int(training_data_len), :]\n",
        "# Split the data into x_train and y_train data sets\n",
        "x_train = []\n",
        "y_train = []\n",
        "\n",
        "for i in range(60, len(train_data)):\n",
        "    x_train.append(train_data[i-60:i, 0])\n",
        "    y_train.append(train_data[i, 0])\n",
        "    if i<= 61:\n",
        "        print(x_train)\n",
        "        print(y_train)\n",
        "        print()\n",
        "\n",
        "# Convert the x_train and y_train to numpy arrays\n",
        "x_train, y_train = np.array(x_train), np.array(y_train)\n",
        "\n",
        "# Reshape the data\n",
        "x_train = np.reshape(x_train, (x_train.shape[0], x_train.shape[1], 1))\n",
        "# x_train.shape"
      ]
    },
    {
      "cell_type": "code",
      "execution_count": 10,
      "id": "33e725d9",
      "metadata": {
        "execution": {
          "iopub.execute_input": "2023-01-31T12:54:20.010250Z",
          "iopub.status.busy": "2023-01-31T12:54:20.009134Z",
          "iopub.status.idle": "2023-01-31T12:56:51.152962Z",
          "shell.execute_reply": "2023-01-31T12:56:51.151802Z"
        },
        "papermill": {
          "duration": 151.306093,
          "end_time": "2023-01-31T12:56:51.277008",
          "exception": false,
          "start_time": "2023-01-31T12:54:19.970915",
          "status": "completed"
        },
        "tags": [],
        "colab": {
          "base_uri": "https://localhost:8080/"
        },
        "id": "33e725d9",
        "outputId": "d46f5d72-90f9-4f6d-de21-9dcad85f173a"
      },
      "outputs": [
        {
          "output_type": "stream",
          "name": "stdout",
          "text": [
            "4598/4598 [==============================] - 185s 39ms/step - loss: 3.2347e-04\n"
          ]
        },
        {
          "output_type": "execute_result",
          "data": {
            "text/plain": [
              "<keras.callbacks.History at 0x7f93a9439870>"
            ]
          },
          "metadata": {},
          "execution_count": 10
        }
      ],
      "source": [
        "from keras.models import Sequential\n",
        "from keras.layers import Dense, LSTM\n",
        "\n",
        "# Build the LSTM model\n",
        "model = Sequential()\n",
        "model.add(LSTM(128, return_sequences=True, input_shape= (x_train.shape[1], 1)))\n",
        "model.add(LSTM(64, return_sequences=False))\n",
        "model.add(Dense(25))\n",
        "model.add(Dense(1))\n",
        "\n",
        "# Compile the model\n",
        "model.compile(optimizer='adam', loss='mean_squared_error')\n",
        "\n",
        "# Train the model\n",
        "model.fit(x_train, y_train, batch_size=1, epochs=1)"
      ]
    },
    {
      "cell_type": "code",
      "execution_count": 11,
      "id": "37b7a61a",
      "metadata": {
        "execution": {
          "iopub.execute_input": "2023-01-31T12:56:51.530737Z",
          "iopub.status.busy": "2023-01-31T12:56:51.529935Z",
          "iopub.status.idle": "2023-01-31T12:56:52.609024Z",
          "shell.execute_reply": "2023-01-31T12:56:52.608119Z"
        },
        "papermill": {
          "duration": 1.213588,
          "end_time": "2023-01-31T12:56:52.611180",
          "exception": false,
          "start_time": "2023-01-31T12:56:51.397592",
          "status": "completed"
        },
        "tags": [],
        "colab": {
          "base_uri": "https://localhost:8080/"
        },
        "id": "37b7a61a",
        "outputId": "49f79660-2d32-45bd-fd40-6b26df8e9915"
      },
      "outputs": [
        {
          "output_type": "stream",
          "name": "stdout",
          "text": [
            "8/8 [==============================] - 1s 40ms/step\n"
          ]
        },
        {
          "output_type": "execute_result",
          "data": {
            "text/plain": [
              "260.77399120544135"
            ]
          },
          "metadata": {},
          "execution_count": 11
        }
      ],
      "source": [
        "test_data = scaled_data[training_data_len - 60: , :]\n",
        "\n",
        "x_test = []\n",
        "y_test = dataset[training_data_len:, :]\n",
        "for i in range(60, len(test_data)):\n",
        "    x_test.append(test_data[i-60:i, 0])\n",
        "\n",
        "\n",
        "x_test = np.array(x_test)\n",
        "\n",
        "\n",
        "x_test = np.reshape(x_test, (x_test.shape[0], x_test.shape[1], 1 ))\n",
        "\n",
        "\n",
        "predictions = model.predict(x_test)\n",
        "predictions = scaler.inverse_transform(predictions)\n",
        "\n",
        "\n",
        "rmse = np.sqrt(np.mean(((predictions - y_test) ** 2)))\n",
        "rmse"
      ]
    },
    {
      "cell_type": "code",
      "execution_count": 13,
      "id": "99b14ef6",
      "metadata": {
        "execution": {
          "iopub.execute_input": "2023-01-31T12:56:52.848658Z",
          "iopub.status.busy": "2023-01-31T12:56:52.847966Z",
          "iopub.status.idle": "2023-01-31T12:56:53.305792Z",
          "shell.execute_reply": "2023-01-31T12:56:53.304602Z"
        },
        "papermill": {
          "duration": 0.579655,
          "end_time": "2023-01-31T12:56:53.307997",
          "exception": false,
          "start_time": "2023-01-31T12:56:52.728342",
          "status": "completed"
        },
        "tags": [],
        "colab": {
          "base_uri": "https://localhost:8080/",
          "height": 546
        },
        "id": "99b14ef6",
        "outputId": "1202a664-0dd4-42c0-afff-b539ad8a0614"
      },
      "outputs": [
        {
          "output_type": "stream",
          "name": "stderr",
          "text": [
            "<ipython-input-13-b01fdcfed65c>:4: SettingWithCopyWarning: \n",
            "A value is trying to be set on a copy of a slice from a DataFrame.\n",
            "Try using .loc[row_indexer,col_indexer] = value instead\n",
            "\n",
            "See the caveats in the documentation: https://pandas.pydata.org/pandas-docs/stable/user_guide/indexing.html#returning-a-view-versus-a-copy\n",
            "  valid['Predictions'] = predictions\n"
          ]
        },
        {
          "output_type": "display_data",
          "data": {
            "text/plain": [
              "<Figure size 1600x600 with 1 Axes>"
            ],
            "image/png": "[encoded data removed]"
          },
          "metadata": {}
        }
      ],
      "source": [
        "# Plot the data\n",
        "train = data[:training_data_len]\n",
        "valid = data[training_data_len:]\n",
        "valid['Predictions'] = predictions\n",
        "# Visualize the data\n",
        "plt.figure(figsize=(16,6))\n",
        "plt.title('Model')\n",
        "plt.xlabel('Date', fontsize=18)\n",
        "plt.ylabel('Close Price USD ($)', fontsize=18)\n",
        "plt.plot(train['close'])\n",
        "plt.plot(valid[['close', 'Predictions']])\n",
        "plt.legend(['Train', 'Val', 'Predictions'], loc='lower right')\n",
        "plt.show()"
      ]
    },
    {
      "cell_type": "code",
      "execution_count": 14,
      "id": "c6fc7f35",
      "metadata": {
        "execution": {
          "iopub.execute_input": "2023-01-31T12:56:53.550333Z",
          "iopub.status.busy": "2023-01-31T12:56:53.549282Z",
          "iopub.status.idle": "2023-01-31T12:56:53.563444Z",
          "shell.execute_reply": "2023-01-31T12:56:53.562334Z"
        },
        "papermill": {
          "duration": 0.136463,
          "end_time": "2023-01-31T12:56:53.565870",
          "exception": false,
          "start_time": "2023-01-31T12:56:53.429407",
          "status": "completed"
        },
        "tags": [],
        "colab": {
          "base_uri": "https://localhost:8080/",
          "height": 423
        },
        "id": "c6fc7f35",
        "outputId": "707141a0-44b7-4b8a-855a-681c3a21eecb"
      },
      "outputs": [
        {
          "output_type": "execute_result",
          "data": {
            "text/plain": [
              "        close  Predictions\n",
              "4658  2225.05  2035.393066\n",
              "4659  2227.55  2051.333252\n",
              "4660  2177.20  2063.033691\n",
              "4661  2219.20  2052.331299\n",
              "4662  2203.10  2054.825439\n",
              "...       ...          ...\n",
              "4898  2537.45  2257.118652\n",
              "4899  2544.35  2319.210205\n",
              "4900  2534.05  2349.000977\n",
              "4901  2496.45  2355.952393\n",
              "4902  2493.35  2341.797852\n",
              "\n",
              "[245 rows x 2 columns]"
            ],
            "text/html": [
              "\n",
              "  <div id=\"df-81c6da27-4e92-4c52-b371-f5a8536f275c\">\n",
              "    <div class=\"colab-df-container\">\n",
              "      <div>\n",
              "<style scoped>\n",
              "    .dataframe tbody tr th:only-of-type {\n",
              "        vertical-align: middle;\n",
              "    }\n",
              "\n",
              "    .dataframe tbody tr th {\n",
              "        vertical-align: top;\n",
              "    }\n",
              "\n",
              "    .dataframe thead th {\n",
              "        text-align: right;\n",
              "    }\n",
              "</style>\n",
              "<table border=\"1\" class=\"dataframe\">\n",
              "  <thead>\n",
              "    <tr style=\"text-align: right;\">\n",
              "      <th></th>\n",
              "      <th>close</th>\n",
              "      <th>Predictions</th>\n",
              "    </tr>\n",
              "  </thead>\n",
              "  <tbody>\n",
              "    <tr>\n",
              "      <th>4658</th>\n",
              "      <td>2225.05</td>\n",
              "      <td>2035.393066</td>\n",
              "    </tr>\n",
              "    <tr>\n",
              "      <th>4659</th>\n",
              "      <td>2227.55</td>\n",
              "      <td>2051.333252</td>\n",
              "    </tr>\n",
              "    <tr>\n",
              "      <th>4660</th>\n",
              "      <td>2177.20</td>\n",
              "      <td>2063.033691</td>\n",
              "    </tr>\n",
              "    <tr>\n",
              "      <th>4661</th>\n",
              "      <td>2219.20</td>\n",
              "      <td>2052.331299</td>\n",
              "    </tr>\n",
              "    <tr>\n",
              "      <th>4662</th>\n",
              "      <td>2203.10</td>\n",
              "      <td>2054.825439</td>\n",
              "    </tr>\n",
              "    <tr>\n",
              "      <th>...</th>\n",
              "      <td>...</td>\n",
              "      <td>...</td>\n",
              "    </tr>\n",
              "    <tr>\n",
              "      <th>4898</th>\n",
              "      <td>2537.45</td>\n",
              "      <td>2257.118652</td>\n",
              "    </tr>\n",
              "    <tr>\n",
              "      <th>4899</th>\n",
              "      <td>2544.35</td>\n",
              "      <td>2319.210205</td>\n",
              "    </tr>\n",
              "    <tr>\n",
              "      <th>4900</th>\n",
              "      <td>2534.05</td>\n",
              "      <td>2349.000977</td>\n",
              "    </tr>\n",
              "    <tr>\n",
              "      <th>4901</th>\n",
              "      <td>2496.45</td>\n",
              "      <td>2355.952393</td>\n",
              "    </tr>\n",
              "    <tr>\n",
              "      <th>4902</th>\n",
              "      <td>2493.35</td>\n",
              "      <td>2341.797852</td>\n",
              "    </tr>\n",
              "  </tbody>\n",
              "</table>\n",
              "<p>245 rows × 2 columns</p>\n",
              "</div>\n",
              "      <button class=\"colab-df-convert\" onclick=\"convertToInteractive('df-81c6da27-4e92-4c52-b371-f5a8536f275c')\"\n",
              "              title=\"Convert this dataframe to an interactive table.\"\n",
              "              style=\"display:none;\">\n",
              "        \n",
              "  <svg xmlns=\"http://www.w3.org/2000/svg\" height=\"24px\"viewBox=\"0 0 24 24\"\n",
              "       width=\"24px\">\n",
              "    <path d=\"M0 0h24v24H0V0z\" fill=\"none\"/>\n",
              "    <path d=\"M18.56 5.44l.94 2.06.94-2.06 2.06-.94-2.06-.94-.94-2.06-.94 2.06-2.06.94zm-11 1L8.5 8.5l.94-2.06 2.06-.94-2.06-.94L8.5 2.5l-.94 2.06-2.06.94zm10 10l.94 2.06.94-2.06 2.06-.94-2.06-.94-.94-2.06-.94 2.06-2.06.94z\"/><path d=\"M17.41 7.96l-1.37-1.37c-.4-.4-.92-.59-1.43-.59-.52 0-1.04.2-1.43.59L10.3 9.45l-7.72 7.72c-.78.78-.78 2.05 0 2.83L4 21.41c.39.39.9.59 1.41.59.51 0 1.02-.2 1.41-.59l7.78-7.78 2.81-2.81c.8-.78.8-2.07 0-2.86zM5.41 20L4 18.59l7.72-7.72 1.47 1.35L5.41 20z\"/>\n",
              "  </svg>\n",
              "      </button>\n",
              "      \n",
              "  <style>\n",
              "    .colab-df-container {\n",
              "      display:flex;\n",
              "      flex-wrap:wrap;\n",
              "      gap: 12px;\n",
              "    }\n",
              "\n",
              "    .colab-df-convert {\n",
              "      background-color: #E8F0FE;\n",
              "      border: none;\n",
              "      border-radius: 50%;\n",
              "      cursor: pointer;\n",
              "      display: none;\n",
              "      fill: #1967D2;\n",
              "      height: 32px;\n",
              "      padding: 0 0 0 0;\n",
              "      width: 32px;\n",
              "    }\n",
              "\n",
              "    .colab-df-convert:hover {\n",
              "      background-color: #E2EBFA;\n",
              "      box-shadow: 0px 1px 2px rgba(60, 64, 67, 0.3), 0px 1px 3px 1px rgba(60, 64, 67, 0.15);\n",
              "      fill: #174EA6;\n",
              "    }\n",
              "\n",
              "    [theme=dark] .colab-df-convert {\n",
              "      background-color: #3B4455;\n",
              "      fill: #D2E3FC;\n",
              "    }\n",
              "\n",
              "    [theme=dark] .colab-df-convert:hover {\n",
              "      background-color: #434B5C;\n",
              "      box-shadow: 0px 1px 3px 1px rgba(0, 0, 0, 0.15);\n",
              "      filter: drop-shadow(0px 1px 2px rgba(0, 0, 0, 0.3));\n",
              "      fill: #FFFFFF;\n",
              "    }\n",
              "  </style>\n",
              "\n",
              "      <script>\n",
              "        const buttonEl =\n",
              "          document.querySelector('#df-81c6da27-4e92-4c52-b371-f5a8536f275c button.colab-df-convert');\n",
              "        buttonEl.style.display =\n",
              "          google.colab.kernel.accessAllowed ? 'block' : 'none';\n",
              "\n",
              "        async function convertToInteractive(key) {\n",
              "          const element = document.querySelector('#df-81c6da27-4e92-4c52-b371-f5a8536f275c');\n",
              "          const dataTable =\n",
              "            await google.colab.kernel.invokeFunction('convertToInteractive',\n",
              "                                                     [key], {});\n",
              "          if (!dataTable) return;\n",
              "\n",
              "          const docLinkHtml = 'Like what you see? Visit the ' +\n",
              "            '<a target=\"_blank\" href=https://colab.research.google.com/notebooks/data_table.ipynb>data table notebook</a>'\n",
              "            + ' to learn more about interactive tables.';\n",
              "          element.innerHTML = '';\n",
              "          dataTable['output_type'] = 'display_data';\n",
              "          await google.colab.output.renderOutput(dataTable, element);\n",
              "          const docLink = document.createElement('div');\n",
              "          docLink.innerHTML = docLinkHtml;\n",
              "          element.appendChild(docLink);\n",
              "        }\n",
              "      </script>\n",
              "    </div>\n",
              "  </div>\n",
              "  "
            ]
          },
          "metadata": {},
          "execution_count": 14
        }
      ],
      "source": [
        "valid"
      ]
    },
    {
      "cell_type": "code",
      "execution_count": null,
      "id": "f9f128ac",
      "metadata": {
        "papermill": {
          "duration": 0.120256,
          "end_time": "2023-01-31T12:56:54.043466",
          "exception": false,
          "start_time": "2023-01-31T12:56:53.923210",
          "status": "completed"
        },
        "tags": [],
        "id": "f9f128ac"
      },
      "outputs": [],
      "source": []
    }
  ],
  "metadata": {
    "kernelspec": {
      "display_name": "Python 3",
      "language": "python",
      "name": "python3"
    },
    "language_info": {
      "codemirror_mode": {
        "name": "ipython",
        "version": 3
      },
      "file_extension": ".py",
      "mimetype": "text/x-python",
      "name": "python",
      "nbconvert_exporter": "python",
      "pygments_lexer": "ipython3",
      "version": "3.7.12"
    },
    "papermill": {
      "default_parameters": {},
      "duration": 212.249929,
      "end_time": "2023-01-31T12:56:57.092165",
      "environment_variables": {},
      "exception": null,
      "input_path": "__notebook__.ipynb",
      "output_path": "__notebook__.ipynb",
      "parameters": {},
      "start_time": "2023-01-31T12:53:24.842236",
      "version": "2.3.4"
    },
    "colab": {
      "provenance": [],
      "include_colab_link": true
    }
  },
  "nbformat": 4,
  "nbformat_minor": 5
}