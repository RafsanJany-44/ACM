{
  "nbformat": 4,
  "nbformat_minor": 0,
  "metadata": {
    "colab": {
      "name": "physics.ipynb",
      "provenance": [],
      "authorship_tag": "ABX9TyOjay35Mf87VYsxQDjopKJy",
      "include_colab_link": true
    },
    "kernelspec": {
      "name": "python3",
      "display_name": "Python 3"
    },
    "language_info": {
      "name": "python"
    }
  },
  "cells": [
    {
      "cell_type": "markdown",
      "metadata": {
        "id": "view-in-github",
        "colab_type": "text"
      },
      "source": [
        "<a href=\"https://colab.research.google.com/github/RafsanJany-44/ACM/blob/master/physics.ipynb\" target=\"_parent\"><img src=\"https://colab.research.google.com/assets/colab-badge.svg\" alt=\"Open In Colab\"/></a>"
      ]
    },
    {
      "cell_type": "code",
      "execution_count": 4,
      "metadata": {
        "colab": {
          "base_uri": "https://localhost:8080/"
        },
        "id": "79eswOtZZTNA",
        "outputId": "d8e42a4f-5ee8-4123-bb7e-04fbe5c6493e"
      },
      "outputs": [
        {
          "output_type": "stream",
          "name": "stdout",
          "text": [
            "0.0\n",
            "0.05\n",
            "0.1\n",
            "0.15\n",
            "0.2\n",
            "0.25\n",
            "0.3\n",
            "0.35\n",
            "0.4\n",
            "0.45\n",
            "0.5\n"
          ]
        }
      ],
      "source": [
        "spring_constant=100\n",
        "j=0\n",
        "for i in range(0,11):\n",
        "  print(j/100)\n",
        "  j+=5"
      ]
    },
    {
      "cell_type": "code",
      "source": [
        "spring_constant=500\n",
        "j=0\n",
        "for i in range(0,11):\n",
        "  print(j/spring_constant)\n",
        "  j+=5"
      ],
      "metadata": {
        "colab": {
          "base_uri": "https://localhost:8080/"
        },
        "id": "qQeWTn0FawAn",
        "outputId": "8c18c555-101a-45e7-c849-8ad356f27b59"
      },
      "execution_count": 6,
      "outputs": [
        {
          "output_type": "stream",
          "name": "stdout",
          "text": [
            "0.0\n",
            "0.01\n",
            "0.02\n",
            "0.03\n",
            "0.04\n",
            "0.05\n",
            "0.06\n",
            "0.07\n",
            "0.08\n",
            "0.09\n",
            "0.1\n"
          ]
        }
      ]
    },
    {
      "cell_type": "code",
      "source": [
        "spring_constant=1000\n",
        "j=0\n",
        "for i in range(0,11):\n",
        "  print(j/spring_constant)\n",
        "  j+=5"
      ],
      "metadata": {
        "colab": {
          "base_uri": "https://localhost:8080/"
        },
        "id": "hVNawNqydrIl",
        "outputId": "03d465c6-68d0-42ac-f4d0-31712478c7c4"
      },
      "execution_count": 8,
      "outputs": [
        {
          "output_type": "stream",
          "name": "stdout",
          "text": [
            "0.0\n",
            "0.005\n",
            "0.01\n",
            "0.015\n",
            "0.02\n",
            "0.025\n",
            "0.03\n",
            "0.035\n",
            "0.04\n",
            "0.045\n",
            "0.05\n"
          ]
        }
      ]
    }
  ]
}