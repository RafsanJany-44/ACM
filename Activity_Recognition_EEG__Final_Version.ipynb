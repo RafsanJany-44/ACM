{
  "nbformat": 4,
  "nbformat_minor": 0,
  "metadata": {
    "colab": {
      "provenance": [],
      "collapsed_sections": [
        "C0Akgb_na7NU",
        "jEe2R0yAoifa",
        "FJybpt_UvCU0",
        "AgMT_U8gvM7F",
        "jRG4cBnKvZU2",
        "K6_icFWdauSI",
        "_Btki9jRvc1Y",
        "6FEsxCdvkg2D",
        "znXNx2bgUvtd",
        "zxxWSX26jsGT",
        "23z3A3f1ol6d",
        "57cQ8dzJX0Lp",
        "Wvhy6ENJf_oS",
        "26iwXg2a75qo",
        "bwOJ36hchWiN",
        "XtgWbvJsEwMt",
        "7rL4KXKM-KRC"
      ],
      "include_colab_link": true
    },
    "kernelspec": {
      "name": "python3",
      "display_name": "Python 3"
    },
    "language_info": {
      "name": "python"
    },
    "widgets": {
      "application/vnd.jupyter.widget-state+json": {
        "53c89bc6460f4b178dc5d7d36bb01d2c": {
          "model_module": "@jupyter-widgets/controls",
          "model_name": "CheckboxModel",
          "model_module_version": "1.5.0",
          "state": {
            "_dom_classes": [],
            "_model_module": "@jupyter-widgets/controls",
            "_model_module_version": "1.5.0",
            "_model_name": "CheckboxModel",
            "_view_count": null,
            "_view_module": "@jupyter-widgets/controls",
            "_view_module_version": "1.5.0",
            "_view_name": "CheckboxView",
            "description": "AdaBoostClassifier(random_state=0)",
            "description_tooltip": null,
            "disabled": false,
            "indent": false,
            "layout": "IPY_MODEL_660af67e7f9d45aab228d7c5626ae04b",
            "style": "IPY_MODEL_86782f9ad80c48c2bfcc0fe7f0ee1b5c",
            "value": false
          }
        },
        "660af67e7f9d45aab228d7c5626ae04b": {
          "model_module": "@jupyter-widgets/base",
          "model_name": "LayoutModel",
          "model_module_version": "1.2.0",
          "state": {
            "_model_module": "@jupyter-widgets/base",
            "_model_module_version": "1.2.0",
            "_model_name": "LayoutModel",
            "_view_count": null,
            "_view_module": "@jupyter-widgets/base",
            "_view_module_version": "1.2.0",
            "_view_name": "LayoutView",
            "align_content": null,
            "align_items": null,
            "align_self": null,
            "border": null,
            "bottom": null,
            "display": null,
            "flex": null,
            "flex_flow": null,
            "grid_area": null,
            "grid_auto_columns": null,
            "grid_auto_flow": null,
            "grid_auto_rows": null,
            "grid_column": null,
            "grid_gap": null,
            "grid_row": null,
            "grid_template_areas": null,
            "grid_template_columns": null,
            "grid_template_rows": null,
            "height": null,
            "justify_content": null,
            "justify_items": null,
            "left": null,
            "margin": null,
            "max_height": null,
            "max_width": null,
            "min_height": null,
            "min_width": null,
            "object_fit": null,
            "object_position": null,
            "order": null,
            "overflow": null,
            "overflow_x": null,
            "overflow_y": null,
            "padding": null,
            "right": null,
            "top": null,
            "visibility": null,
            "width": null
          }
        },
        "86782f9ad80c48c2bfcc0fe7f0ee1b5c": {
          "model_module": "@jupyter-widgets/controls",
          "model_name": "DescriptionStyleModel",
          "model_module_version": "1.5.0",
          "state": {
            "_model_module": "@jupyter-widgets/controls",
            "_model_module_version": "1.5.0",
            "_model_name": "DescriptionStyleModel",
            "_view_count": null,
            "_view_module": "@jupyter-widgets/base",
            "_view_module_version": "1.2.0",
            "_view_name": "StyleView",
            "description_width": ""
          }
        },
        "1ac51ffba48345d583fa8ba51784b539": {
          "model_module": "@jupyter-widgets/controls",
          "model_name": "CheckboxModel",
          "model_module_version": "1.5.0",
          "state": {
            "_dom_classes": [],
            "_model_module": "@jupyter-widgets/controls",
            "_model_module_version": "1.5.0",
            "_model_name": "CheckboxModel",
            "_view_count": null,
            "_view_module": "@jupyter-widgets/controls",
            "_view_module_version": "1.5.0",
            "_view_name": "CheckboxView",
            "description": "AdaBoostClassifier(n_estimators=75, random_state=0)",
            "description_tooltip": null,
            "disabled": false,
            "indent": false,
            "layout": "IPY_MODEL_d0ddbab596a64cb7a4085c2c0efae539",
            "style": "IPY_MODEL_5e85878a15624dbab0e2bb76f99e8fe9",
            "value": false
          }
        },
        "d0ddbab596a64cb7a4085c2c0efae539": {
          "model_module": "@jupyter-widgets/base",
          "model_name": "LayoutModel",
          "model_module_version": "1.2.0",
          "state": {
            "_model_module": "@jupyter-widgets/base",
            "_model_module_version": "1.2.0",
            "_model_name": "LayoutModel",
            "_view_count": null,
            "_view_module": "@jupyter-widgets/base",
            "_view_module_version": "1.2.0",
            "_view_name": "LayoutView",
            "align_content": null,
            "align_items": null,
            "align_self": null,
            "border": null,
            "bottom": null,
            "display": null,
            "flex": null,
            "flex_flow": null,
            "grid_area": null,
            "grid_auto_columns": null,
            "grid_auto_flow": null,
            "grid_auto_rows": null,
            "grid_column": null,
            "grid_gap": null,
            "grid_row": null,
            "grid_template_areas": null,
            "grid_template_columns": null,
            "grid_template_rows": null,
            "height": null,
            "justify_content": null,
            "justify_items": null,
            "left": null,
            "margin": null,
            "max_height": null,
            "max_width": null,
            "min_height": null,
            "min_width": null,
            "object_fit": null,
            "object_position": null,
            "order": null,
            "overflow": null,
            "overflow_x": null,
            "overflow_y": null,
            "padding": null,
            "right": null,
            "top": null,
            "visibility": null,
            "width": null
          }
        },
        "5e85878a15624dbab0e2bb76f99e8fe9": {
          "model_module": "@jupyter-widgets/controls",
          "model_name": "DescriptionStyleModel",
          "model_module_version": "1.5.0",
          "state": {
            "_model_module": "@jupyter-widgets/controls",
            "_model_module_version": "1.5.0",
            "_model_name": "DescriptionStyleModel",
            "_view_count": null,
            "_view_module": "@jupyter-widgets/base",
            "_view_module_version": "1.2.0",
            "_view_name": "StyleView",
            "description_width": ""
          }
        },
        "1bd1b5ab330841c2a78e2916da32133a": {
          "model_module": "@jupyter-widgets/controls",
          "model_name": "CheckboxModel",
          "model_module_version": "1.5.0",
          "state": {
            "_dom_classes": [],
            "_model_module": "@jupyter-widgets/controls",
            "_model_module_version": "1.5.0",
            "_model_name": "CheckboxModel",
            "_view_count": null,
            "_view_module": "@jupyter-widgets/controls",
            "_view_module_version": "1.5.0",
            "_view_name": "CheckboxView",
            "description": "GradientBoostingClassifier(random_state=0)",
            "description_tooltip": null,
            "disabled": false,
            "indent": false,
            "layout": "IPY_MODEL_99f58a3014004819bc78a79b5f6fc4d4",
            "style": "IPY_MODEL_b53e814806384091910042a62af3e647",
            "value": false
          }
        },
        "99f58a3014004819bc78a79b5f6fc4d4": {
          "model_module": "@jupyter-widgets/base",
          "model_name": "LayoutModel",
          "model_module_version": "1.2.0",
          "state": {
            "_model_module": "@jupyter-widgets/base",
            "_model_module_version": "1.2.0",
            "_model_name": "LayoutModel",
            "_view_count": null,
            "_view_module": "@jupyter-widgets/base",
            "_view_module_version": "1.2.0",
            "_view_name": "LayoutView",
            "align_content": null,
            "align_items": null,
            "align_self": null,
            "border": null,
            "bottom": null,
            "display": null,
            "flex": null,
            "flex_flow": null,
            "grid_area": null,
            "grid_auto_columns": null,
            "grid_auto_flow": null,
            "grid_auto_rows": null,
            "grid_column": null,
            "grid_gap": null,
            "grid_row": null,
            "grid_template_areas": null,
            "grid_template_columns": null,
            "grid_template_rows": null,
            "height": null,
            "justify_content": null,
            "justify_items": null,
            "left": null,
            "margin": null,
            "max_height": null,
            "max_width": null,
            "min_height": null,
            "min_width": null,
            "object_fit": null,
            "object_position": null,
            "order": null,
            "overflow": null,
            "overflow_x": null,
            "overflow_y": null,
            "padding": null,
            "right": null,
            "top": null,
            "visibility": null,
            "width": null
          }
        },
        "b53e814806384091910042a62af3e647": {
          "model_module": "@jupyter-widgets/controls",
          "model_name": "DescriptionStyleModel",
          "model_module_version": "1.5.0",
          "state": {
            "_model_module": "@jupyter-widgets/controls",
            "_model_module_version": "1.5.0",
            "_model_name": "DescriptionStyleModel",
            "_view_count": null,
            "_view_module": "@jupyter-widgets/base",
            "_view_module_version": "1.2.0",
            "_view_name": "StyleView",
            "description_width": ""
          }
        },
        "ce7c74d5c4e84940a915f7c41fba67f2": {
          "model_module": "@jupyter-widgets/controls",
          "model_name": "CheckboxModel",
          "model_module_version": "1.5.0",
          "state": {
            "_dom_classes": [],
            "_model_module": "@jupyter-widgets/controls",
            "_model_module_version": "1.5.0",
            "_model_name": "CheckboxModel",
            "_view_count": null,
            "_view_module": "@jupyter-widgets/controls",
            "_view_module_version": "1.5.0",
            "_view_name": "CheckboxView",
            "description": "GradientBoostingClassifier(n_estimators=172, random_state=0)",
            "description_tooltip": null,
            "disabled": false,
            "indent": false,
            "layout": "IPY_MODEL_4adf8e39421f47579b40f937f5a3978f",
            "style": "IPY_MODEL_14f57ab5243e439faec91ab3671764c5",
            "value": false
          }
        },
        "4adf8e39421f47579b40f937f5a3978f": {
          "model_module": "@jupyter-widgets/base",
          "model_name": "LayoutModel",
          "model_module_version": "1.2.0",
          "state": {
            "_model_module": "@jupyter-widgets/base",
            "_model_module_version": "1.2.0",
            "_model_name": "LayoutModel",
            "_view_count": null,
            "_view_module": "@jupyter-widgets/base",
            "_view_module_version": "1.2.0",
            "_view_name": "LayoutView",
            "align_content": null,
            "align_items": null,
            "align_self": null,
            "border": null,
            "bottom": null,
            "display": null,
            "flex": null,
            "flex_flow": null,
            "grid_area": null,
            "grid_auto_columns": null,
            "grid_auto_flow": null,
            "grid_auto_rows": null,
            "grid_column": null,
            "grid_gap": null,
            "grid_row": null,
            "grid_template_areas": null,
            "grid_template_columns": null,
            "grid_template_rows": null,
            "height": null,
            "justify_content": null,
            "justify_items": null,
            "left": null,
            "margin": null,
            "max_height": null,
            "max_width": null,
            "min_height": null,
            "min_width": null,
            "object_fit": null,
            "object_position": null,
            "order": null,
            "overflow": null,
            "overflow_x": null,
            "overflow_y": null,
            "padding": null,
            "right": null,
            "top": null,
            "visibility": null,
            "width": null
          }
        },
        "14f57ab5243e439faec91ab3671764c5": {
          "model_module": "@jupyter-widgets/controls",
          "model_name": "DescriptionStyleModel",
          "model_module_version": "1.5.0",
          "state": {
            "_model_module": "@jupyter-widgets/controls",
            "_model_module_version": "1.5.0",
            "_model_name": "DescriptionStyleModel",
            "_view_count": null,
            "_view_module": "@jupyter-widgets/base",
            "_view_module_version": "1.2.0",
            "_view_name": "StyleView",
            "description_width": ""
          }
        },
        "9e3840c4de214905ada5287d4d810424": {
          "model_module": "@jupyter-widgets/controls",
          "model_name": "CheckboxModel",
          "model_module_version": "1.5.0",
          "state": {
            "_dom_classes": [],
            "_model_module": "@jupyter-widgets/controls",
            "_model_module_version": "1.5.0",
            "_model_name": "CheckboxModel",
            "_view_count": null,
            "_view_module": "@jupyter-widgets/controls",
            "_view_module_version": "1.5.0",
            "_view_name": "CheckboxView",
            "description": "GradientBoostingClassifier(max_depth=12, random_state=0)",
            "description_tooltip": null,
            "disabled": false,
            "indent": false,
            "layout": "IPY_MODEL_ecaa6794b71c44c887a75c71e1e71695",
            "style": "IPY_MODEL_c4bd34f5cf9c46bf8f47da7ed58f744e",
            "value": false
          }
        },
        "ecaa6794b71c44c887a75c71e1e71695": {
          "model_module": "@jupyter-widgets/base",
          "model_name": "LayoutModel",
          "model_module_version": "1.2.0",
          "state": {
            "_model_module": "@jupyter-widgets/base",
            "_model_module_version": "1.2.0",
            "_model_name": "LayoutModel",
            "_view_count": null,
            "_view_module": "@jupyter-widgets/base",
            "_view_module_version": "1.2.0",
            "_view_name": "LayoutView",
            "align_content": null,
            "align_items": null,
            "align_self": null,
            "border": null,
            "bottom": null,
            "display": null,
            "flex": null,
            "flex_flow": null,
            "grid_area": null,
            "grid_auto_columns": null,
            "grid_auto_flow": null,
            "grid_auto_rows": null,
            "grid_column": null,
            "grid_gap": null,
            "grid_row": null,
            "grid_template_areas": null,
            "grid_template_columns": null,
            "grid_template_rows": null,
            "height": null,
            "justify_content": null,
            "justify_items": null,
            "left": null,
            "margin": null,
            "max_height": null,
            "max_width": null,
            "min_height": null,
            "min_width": null,
            "object_fit": null,
            "object_position": null,
            "order": null,
            "overflow": null,
            "overflow_x": null,
            "overflow_y": null,
            "padding": null,
            "right": null,
            "top": null,
            "visibility": null,
            "width": null
          }
        },
        "c4bd34f5cf9c46bf8f47da7ed58f744e": {
          "model_module": "@jupyter-widgets/controls",
          "model_name": "DescriptionStyleModel",
          "model_module_version": "1.5.0",
          "state": {
            "_model_module": "@jupyter-widgets/controls",
            "_model_module_version": "1.5.0",
            "_model_name": "DescriptionStyleModel",
            "_view_count": null,
            "_view_module": "@jupyter-widgets/base",
            "_view_module_version": "1.2.0",
            "_view_name": "StyleView",
            "description_width": ""
          }
        },
        "a8b795041758442080b3587d5934ac12": {
          "model_module": "@jupyter-widgets/controls",
          "model_name": "CheckboxModel",
          "model_module_version": "1.5.0",
          "state": {
            "_dom_classes": [],
            "_model_module": "@jupyter-widgets/controls",
            "_model_module_version": "1.5.0",
            "_model_name": "CheckboxModel",
            "_view_count": null,
            "_view_module": "@jupyter-widgets/controls",
            "_view_module_version": "1.5.0",
            "_view_name": "CheckboxView",
            "description": "GradientBoostingClassifier(max_depth=12, n_estimators=172, random_state=0)",
            "description_tooltip": null,
            "disabled": false,
            "indent": false,
            "layout": "IPY_MODEL_5926cd86681046c4baa847b442cc30cf",
            "style": "IPY_MODEL_928988f702c64ec59699e6e25cd1010b",
            "value": false
          }
        },
        "5926cd86681046c4baa847b442cc30cf": {
          "model_module": "@jupyter-widgets/base",
          "model_name": "LayoutModel",
          "model_module_version": "1.2.0",
          "state": {
            "_model_module": "@jupyter-widgets/base",
            "_model_module_version": "1.2.0",
            "_model_name": "LayoutModel",
            "_view_count": null,
            "_view_module": "@jupyter-widgets/base",
            "_view_module_version": "1.2.0",
            "_view_name": "LayoutView",
            "align_content": null,
            "align_items": null,
            "align_self": null,
            "border": null,
            "bottom": null,
            "display": null,
            "flex": null,
            "flex_flow": null,
            "grid_area": null,
            "grid_auto_columns": null,
            "grid_auto_flow": null,
            "grid_auto_rows": null,
            "grid_column": null,
            "grid_gap": null,
            "grid_row": null,
            "grid_template_areas": null,
            "grid_template_columns": null,
            "grid_template_rows": null,
            "height": null,
            "justify_content": null,
            "justify_items": null,
            "left": null,
            "margin": null,
            "max_height": null,
            "max_width": null,
            "min_height": null,
            "min_width": null,
            "object_fit": null,
            "object_position": null,
            "order": null,
            "overflow": null,
            "overflow_x": null,
            "overflow_y": null,
            "padding": null,
            "right": null,
            "top": null,
            "visibility": null,
            "width": null
          }
        },
        "928988f702c64ec59699e6e25cd1010b": {
          "model_module": "@jupyter-widgets/controls",
          "model_name": "DescriptionStyleModel",
          "model_module_version": "1.5.0",
          "state": {
            "_model_module": "@jupyter-widgets/controls",
            "_model_module_version": "1.5.0",
            "_model_name": "DescriptionStyleModel",
            "_view_count": null,
            "_view_module": "@jupyter-widgets/base",
            "_view_module_version": "1.2.0",
            "_view_name": "StyleView",
            "description_width": ""
          }
        },
        "e9c544b55a2f45b9964b77be7dfba578": {
          "model_module": "@jupyter-widgets/controls",
          "model_name": "CheckboxModel",
          "model_module_version": "1.5.0",
          "state": {
            "_dom_classes": [],
            "_model_module": "@jupyter-widgets/controls",
            "_model_module_version": "1.5.0",
            "_model_name": "CheckboxModel",
            "_view_count": null,
            "_view_module": "@jupyter-widgets/controls",
            "_view_module_version": "1.5.0",
            "_view_name": "CheckboxView",
            "description": "RandomForestClassifier(random_state=0)",
            "description_tooltip": null,
            "disabled": false,
            "indent": false,
            "layout": "IPY_MODEL_c4d7749363eb453fb2e43a7e77b32151",
            "style": "IPY_MODEL_35d95eb9f1ef4caca7d404ee61ca789c",
            "value": false
          }
        },
        "c4d7749363eb453fb2e43a7e77b32151": {
          "model_module": "@jupyter-widgets/base",
          "model_name": "LayoutModel",
          "model_module_version": "1.2.0",
          "state": {
            "_model_module": "@jupyter-widgets/base",
            "_model_module_version": "1.2.0",
            "_model_name": "LayoutModel",
            "_view_count": null,
            "_view_module": "@jupyter-widgets/base",
            "_view_module_version": "1.2.0",
            "_view_name": "LayoutView",
            "align_content": null,
            "align_items": null,
            "align_self": null,
            "border": null,
            "bottom": null,
            "display": null,
            "flex": null,
            "flex_flow": null,
            "grid_area": null,
            "grid_auto_columns": null,
            "grid_auto_flow": null,
            "grid_auto_rows": null,
            "grid_column": null,
            "grid_gap": null,
            "grid_row": null,
            "grid_template_areas": null,
            "grid_template_columns": null,
            "grid_template_rows": null,
            "height": null,
            "justify_content": null,
            "justify_items": null,
            "left": null,
            "margin": null,
            "max_height": null,
            "max_width": null,
            "min_height": null,
            "min_width": null,
            "object_fit": null,
            "object_position": null,
            "order": null,
            "overflow": null,
            "overflow_x": null,
            "overflow_y": null,
            "padding": null,
            "right": null,
            "top": null,
            "visibility": null,
            "width": null
          }
        },
        "35d95eb9f1ef4caca7d404ee61ca789c": {
          "model_module": "@jupyter-widgets/controls",
          "model_name": "DescriptionStyleModel",
          "model_module_version": "1.5.0",
          "state": {
            "_model_module": "@jupyter-widgets/controls",
            "_model_module_version": "1.5.0",
            "_model_name": "DescriptionStyleModel",
            "_view_count": null,
            "_view_module": "@jupyter-widgets/base",
            "_view_module_version": "1.2.0",
            "_view_name": "StyleView",
            "description_width": ""
          }
        },
        "bab546c6835f450aa333772d0be6caf8": {
          "model_module": "@jupyter-widgets/controls",
          "model_name": "CheckboxModel",
          "model_module_version": "1.5.0",
          "state": {
            "_dom_classes": [],
            "_model_module": "@jupyter-widgets/controls",
            "_model_module_version": "1.5.0",
            "_model_name": "CheckboxModel",
            "_view_count": null,
            "_view_module": "@jupyter-widgets/controls",
            "_view_module_version": "1.5.0",
            "_view_name": "CheckboxView",
            "description": "RandomForestClassifier(n_estimators=61, random_state=0)",
            "description_tooltip": null,
            "disabled": false,
            "indent": false,
            "layout": "IPY_MODEL_23d998d6a81643fd8546b749f84b2dd4",
            "style": "IPY_MODEL_eca745aeb4b047de9d3ec5a13ea97d60",
            "value": false
          }
        },
        "23d998d6a81643fd8546b749f84b2dd4": {
          "model_module": "@jupyter-widgets/base",
          "model_name": "LayoutModel",
          "model_module_version": "1.2.0",
          "state": {
            "_model_module": "@jupyter-widgets/base",
            "_model_module_version": "1.2.0",
            "_model_name": "LayoutModel",
            "_view_count": null,
            "_view_module": "@jupyter-widgets/base",
            "_view_module_version": "1.2.0",
            "_view_name": "LayoutView",
            "align_content": null,
            "align_items": null,
            "align_self": null,
            "border": null,
            "bottom": null,
            "display": null,
            "flex": null,
            "flex_flow": null,
            "grid_area": null,
            "grid_auto_columns": null,
            "grid_auto_flow": null,
            "grid_auto_rows": null,
            "grid_column": null,
            "grid_gap": null,
            "grid_row": null,
            "grid_template_areas": null,
            "grid_template_columns": null,
            "grid_template_rows": null,
            "height": null,
            "justify_content": null,
            "justify_items": null,
            "left": null,
            "margin": null,
            "max_height": null,
            "max_width": null,
            "min_height": null,
            "min_width": null,
            "object_fit": null,
            "object_position": null,
            "order": null,
            "overflow": null,
            "overflow_x": null,
            "overflow_y": null,
            "padding": null,
            "right": null,
            "top": null,
            "visibility": null,
            "width": null
          }
        },
        "eca745aeb4b047de9d3ec5a13ea97d60": {
          "model_module": "@jupyter-widgets/controls",
          "model_name": "DescriptionStyleModel",
          "model_module_version": "1.5.0",
          "state": {
            "_model_module": "@jupyter-widgets/controls",
            "_model_module_version": "1.5.0",
            "_model_name": "DescriptionStyleModel",
            "_view_count": null,
            "_view_module": "@jupyter-widgets/base",
            "_view_module_version": "1.2.0",
            "_view_name": "StyleView",
            "description_width": ""
          }
        },
        "e294427204374eb980d17e2f5a8d554c": {
          "model_module": "@jupyter-widgets/controls",
          "model_name": "CheckboxModel",
          "model_module_version": "1.5.0",
          "state": {
            "_dom_classes": [],
            "_model_module": "@jupyter-widgets/controls",
            "_model_module_version": "1.5.0",
            "_model_name": "CheckboxModel",
            "_view_count": null,
            "_view_module": "@jupyter-widgets/controls",
            "_view_module_version": "1.5.0",
            "_view_name": "CheckboxView",
            "description": "RandomForestClassifier(max_depth=26, random_state=0)",
            "description_tooltip": null,
            "disabled": false,
            "indent": false,
            "layout": "IPY_MODEL_54a7a2d0781344c08e21792530c3ab8b",
            "style": "IPY_MODEL_31d31906655340c390b44a085e88c7e4",
            "value": false
          }
        },
        "54a7a2d0781344c08e21792530c3ab8b": {
          "model_module": "@jupyter-widgets/base",
          "model_name": "LayoutModel",
          "model_module_version": "1.2.0",
          "state": {
            "_model_module": "@jupyter-widgets/base",
            "_model_module_version": "1.2.0",
            "_model_name": "LayoutModel",
            "_view_count": null,
            "_view_module": "@jupyter-widgets/base",
            "_view_module_version": "1.2.0",
            "_view_name": "LayoutView",
            "align_content": null,
            "align_items": null,
            "align_self": null,
            "border": null,
            "bottom": null,
            "display": null,
            "flex": null,
            "flex_flow": null,
            "grid_area": null,
            "grid_auto_columns": null,
            "grid_auto_flow": null,
            "grid_auto_rows": null,
            "grid_column": null,
            "grid_gap": null,
            "grid_row": null,
            "grid_template_areas": null,
            "grid_template_columns": null,
            "grid_template_rows": null,
            "height": null,
            "justify_content": null,
            "justify_items": null,
            "left": null,
            "margin": null,
            "max_height": null,
            "max_width": null,
            "min_height": null,
            "min_width": null,
            "object_fit": null,
            "object_position": null,
            "order": null,
            "overflow": null,
            "overflow_x": null,
            "overflow_y": null,
            "padding": null,
            "right": null,
            "top": null,
            "visibility": null,
            "width": null
          }
        },
        "31d31906655340c390b44a085e88c7e4": {
          "model_module": "@jupyter-widgets/controls",
          "model_name": "DescriptionStyleModel",
          "model_module_version": "1.5.0",
          "state": {
            "_model_module": "@jupyter-widgets/controls",
            "_model_module_version": "1.5.0",
            "_model_name": "DescriptionStyleModel",
            "_view_count": null,
            "_view_module": "@jupyter-widgets/base",
            "_view_module_version": "1.2.0",
            "_view_name": "StyleView",
            "description_width": ""
          }
        },
        "ff6ea02982984356887f9885c56ff6b1": {
          "model_module": "@jupyter-widgets/controls",
          "model_name": "CheckboxModel",
          "model_module_version": "1.5.0",
          "state": {
            "_dom_classes": [],
            "_model_module": "@jupyter-widgets/controls",
            "_model_module_version": "1.5.0",
            "_model_name": "CheckboxModel",
            "_view_count": null,
            "_view_module": "@jupyter-widgets/controls",
            "_view_module_version": "1.5.0",
            "_view_name": "CheckboxView",
            "description": "RandomForestClassifier(max_depth=26, n_estimators=61, random_state=0)",
            "description_tooltip": null,
            "disabled": false,
            "indent": false,
            "layout": "IPY_MODEL_a14ca42c63e14882a0783eca7d1dd4ab",
            "style": "IPY_MODEL_d38229dc476648868559e8c94cb1a21f",
            "value": false
          }
        },
        "a14ca42c63e14882a0783eca7d1dd4ab": {
          "model_module": "@jupyter-widgets/base",
          "model_name": "LayoutModel",
          "model_module_version": "1.2.0",
          "state": {
            "_model_module": "@jupyter-widgets/base",
            "_model_module_version": "1.2.0",
            "_model_name": "LayoutModel",
            "_view_count": null,
            "_view_module": "@jupyter-widgets/base",
            "_view_module_version": "1.2.0",
            "_view_name": "LayoutView",
            "align_content": null,
            "align_items": null,
            "align_self": null,
            "border": null,
            "bottom": null,
            "display": null,
            "flex": null,
            "flex_flow": null,
            "grid_area": null,
            "grid_auto_columns": null,
            "grid_auto_flow": null,
            "grid_auto_rows": null,
            "grid_column": null,
            "grid_gap": null,
            "grid_row": null,
            "grid_template_areas": null,
            "grid_template_columns": null,
            "grid_template_rows": null,
            "height": null,
            "justify_content": null,
            "justify_items": null,
            "left": null,
            "margin": null,
            "max_height": null,
            "max_width": null,
            "min_height": null,
            "min_width": null,
            "object_fit": null,
            "object_position": null,
            "order": null,
            "overflow": null,
            "overflow_x": null,
            "overflow_y": null,
            "padding": null,
            "right": null,
            "top": null,
            "visibility": null,
            "width": null
          }
        },
        "d38229dc476648868559e8c94cb1a21f": {
          "model_module": "@jupyter-widgets/controls",
          "model_name": "DescriptionStyleModel",
          "model_module_version": "1.5.0",
          "state": {
            "_model_module": "@jupyter-widgets/controls",
            "_model_module_version": "1.5.0",
            "_model_name": "DescriptionStyleModel",
            "_view_count": null,
            "_view_module": "@jupyter-widgets/base",
            "_view_module_version": "1.2.0",
            "_view_name": "StyleView",
            "description_width": ""
          }
        },
        "b765bfb2302f4fcd95466dd2e9e48224": {
          "model_module": "@jupyter-widgets/controls",
          "model_name": "CheckboxModel",
          "model_module_version": "1.5.0",
          "state": {
            "_dom_classes": [],
            "_model_module": "@jupyter-widgets/controls",
            "_model_module_version": "1.5.0",
            "_model_name": "CheckboxModel",
            "_view_count": null,
            "_view_module": "@jupyter-widgets/controls",
            "_view_module_version": "1.5.0",
            "_view_name": "CheckboxView",
            "description": "XGBClassifier(objective='multi:softprob')",
            "description_tooltip": null,
            "disabled": false,
            "indent": false,
            "layout": "IPY_MODEL_f753f15dbe504547a45c2e45398a6089",
            "style": "IPY_MODEL_9ddc06e1b0664698af54a36306f1893e",
            "value": false
          }
        },
        "f753f15dbe504547a45c2e45398a6089": {
          "model_module": "@jupyter-widgets/base",
          "model_name": "LayoutModel",
          "model_module_version": "1.2.0",
          "state": {
            "_model_module": "@jupyter-widgets/base",
            "_model_module_version": "1.2.0",
            "_model_name": "LayoutModel",
            "_view_count": null,
            "_view_module": "@jupyter-widgets/base",
            "_view_module_version": "1.2.0",
            "_view_name": "LayoutView",
            "align_content": null,
            "align_items": null,
            "align_self": null,
            "border": null,
            "bottom": null,
            "display": null,
            "flex": null,
            "flex_flow": null,
            "grid_area": null,
            "grid_auto_columns": null,
            "grid_auto_flow": null,
            "grid_auto_rows": null,
            "grid_column": null,
            "grid_gap": null,
            "grid_row": null,
            "grid_template_areas": null,
            "grid_template_columns": null,
            "grid_template_rows": null,
            "height": null,
            "justify_content": null,
            "justify_items": null,
            "left": null,
            "margin": null,
            "max_height": null,
            "max_width": null,
            "min_height": null,
            "min_width": null,
            "object_fit": null,
            "object_position": null,
            "order": null,
            "overflow": null,
            "overflow_x": null,
            "overflow_y": null,
            "padding": null,
            "right": null,
            "top": null,
            "visibility": null,
            "width": null
          }
        },
        "9ddc06e1b0664698af54a36306f1893e": {
          "model_module": "@jupyter-widgets/controls",
          "model_name": "DescriptionStyleModel",
          "model_module_version": "1.5.0",
          "state": {
            "_model_module": "@jupyter-widgets/controls",
            "_model_module_version": "1.5.0",
            "_model_name": "DescriptionStyleModel",
            "_view_count": null,
            "_view_module": "@jupyter-widgets/base",
            "_view_module_version": "1.2.0",
            "_view_name": "StyleView",
            "description_width": ""
          }
        },
        "1e1a8893bd9149788d6db203c14aa815": {
          "model_module": "@jupyter-widgets/controls",
          "model_name": "CheckboxModel",
          "model_module_version": "1.5.0",
          "state": {
            "_dom_classes": [],
            "_model_module": "@jupyter-widgets/controls",
            "_model_module_version": "1.5.0",
            "_model_name": "CheckboxModel",
            "_view_count": null,
            "_view_module": "@jupyter-widgets/controls",
            "_view_module_version": "1.5.0",
            "_view_name": "CheckboxView",
            "description": "XGBClassifier(max_depth=8, objective='multi:softprob')",
            "description_tooltip": null,
            "disabled": false,
            "indent": false,
            "layout": "IPY_MODEL_7b9c4e163be64c30a3fb8c29b52b90ad",
            "style": "IPY_MODEL_05db0327ed6e4f84b8c7900a421ee495",
            "value": false
          }
        },
        "7b9c4e163be64c30a3fb8c29b52b90ad": {
          "model_module": "@jupyter-widgets/base",
          "model_name": "LayoutModel",
          "model_module_version": "1.2.0",
          "state": {
            "_model_module": "@jupyter-widgets/base",
            "_model_module_version": "1.2.0",
            "_model_name": "LayoutModel",
            "_view_count": null,
            "_view_module": "@jupyter-widgets/base",
            "_view_module_version": "1.2.0",
            "_view_name": "LayoutView",
            "align_content": null,
            "align_items": null,
            "align_self": null,
            "border": null,
            "bottom": null,
            "display": null,
            "flex": null,
            "flex_flow": null,
            "grid_area": null,
            "grid_auto_columns": null,
            "grid_auto_flow": null,
            "grid_auto_rows": null,
            "grid_column": null,
            "grid_gap": null,
            "grid_row": null,
            "grid_template_areas": null,
            "grid_template_columns": null,
            "grid_template_rows": null,
            "height": null,
            "justify_content": null,
            "justify_items": null,
            "left": null,
            "margin": null,
            "max_height": null,
            "max_width": null,
            "min_height": null,
            "min_width": null,
            "object_fit": null,
            "object_position": null,
            "order": null,
            "overflow": null,
            "overflow_x": null,
            "overflow_y": null,
            "padding": null,
            "right": null,
            "top": null,
            "visibility": null,
            "width": null
          }
        },
        "05db0327ed6e4f84b8c7900a421ee495": {
          "model_module": "@jupyter-widgets/controls",
          "model_name": "DescriptionStyleModel",
          "model_module_version": "1.5.0",
          "state": {
            "_model_module": "@jupyter-widgets/controls",
            "_model_module_version": "1.5.0",
            "_model_name": "DescriptionStyleModel",
            "_view_count": null,
            "_view_module": "@jupyter-widgets/base",
            "_view_module_version": "1.2.0",
            "_view_name": "StyleView",
            "description_width": ""
          }
        },
        "2c3a88902aca40e29c660e70b37ef00d": {
          "model_module": "@jupyter-widgets/controls",
          "model_name": "CheckboxModel",
          "model_module_version": "1.5.0",
          "state": {
            "_dom_classes": [],
            "_model_module": "@jupyter-widgets/controls",
            "_model_module_version": "1.5.0",
            "_model_name": "CheckboxModel",
            "_view_count": null,
            "_view_module": "@jupyter-widgets/controls",
            "_view_module_version": "1.5.0",
            "_view_name": "CheckboxView",
            "description": "XGBClassifier(n_estimators=223, objective='multi:softprob')",
            "description_tooltip": null,
            "disabled": false,
            "indent": false,
            "layout": "IPY_MODEL_4c5cd193683d4ba68b0fa57f66ce672a",
            "style": "IPY_MODEL_b34281ea7fc94eb0afffd6b1273547d3",
            "value": false
          }
        },
        "4c5cd193683d4ba68b0fa57f66ce672a": {
          "model_module": "@jupyter-widgets/base",
          "model_name": "LayoutModel",
          "model_module_version": "1.2.0",
          "state": {
            "_model_module": "@jupyter-widgets/base",
            "_model_module_version": "1.2.0",
            "_model_name": "LayoutModel",
            "_view_count": null,
            "_view_module": "@jupyter-widgets/base",
            "_view_module_version": "1.2.0",
            "_view_name": "LayoutView",
            "align_content": null,
            "align_items": null,
            "align_self": null,
            "border": null,
            "bottom": null,
            "display": null,
            "flex": null,
            "flex_flow": null,
            "grid_area": null,
            "grid_auto_columns": null,
            "grid_auto_flow": null,
            "grid_auto_rows": null,
            "grid_column": null,
            "grid_gap": null,
            "grid_row": null,
            "grid_template_areas": null,
            "grid_template_columns": null,
            "grid_template_rows": null,
            "height": null,
            "justify_content": null,
            "justify_items": null,
            "left": null,
            "margin": null,
            "max_height": null,
            "max_width": null,
            "min_height": null,
            "min_width": null,
            "object_fit": null,
            "object_position": null,
            "order": null,
            "overflow": null,
            "overflow_x": null,
            "overflow_y": null,
            "padding": null,
            "right": null,
            "top": null,
            "visibility": null,
            "width": null
          }
        },
        "b34281ea7fc94eb0afffd6b1273547d3": {
          "model_module": "@jupyter-widgets/controls",
          "model_name": "DescriptionStyleModel",
          "model_module_version": "1.5.0",
          "state": {
            "_model_module": "@jupyter-widgets/controls",
            "_model_module_version": "1.5.0",
            "_model_name": "DescriptionStyleModel",
            "_view_count": null,
            "_view_module": "@jupyter-widgets/base",
            "_view_module_version": "1.2.0",
            "_view_name": "StyleView",
            "description_width": ""
          }
        },
        "a8c4c01d5ef24389aa5418805fbf80b9": {
          "model_module": "@jupyter-widgets/controls",
          "model_name": "CheckboxModel",
          "model_module_version": "1.5.0",
          "state": {
            "_dom_classes": [],
            "_model_module": "@jupyter-widgets/controls",
            "_model_module_version": "1.5.0",
            "_model_name": "CheckboxModel",
            "_view_count": null,
            "_view_module": "@jupyter-widgets/controls",
            "_view_module_version": "1.5.0",
            "_view_name": "CheckboxView",
            "description": "XGBClassifier(max_depth=8, n_estimators=223, objective='multi:softprob')",
            "description_tooltip": null,
            "disabled": false,
            "indent": false,
            "layout": "IPY_MODEL_ee01465e2a484939a806d8fcd68f3fc2",
            "style": "IPY_MODEL_00fc1413ff064e92b7ef24e148f5bb9d",
            "value": false
          }
        },
        "ee01465e2a484939a806d8fcd68f3fc2": {
          "model_module": "@jupyter-widgets/base",
          "model_name": "LayoutModel",
          "model_module_version": "1.2.0",
          "state": {
            "_model_module": "@jupyter-widgets/base",
            "_model_module_version": "1.2.0",
            "_model_name": "LayoutModel",
            "_view_count": null,
            "_view_module": "@jupyter-widgets/base",
            "_view_module_version": "1.2.0",
            "_view_name": "LayoutView",
            "align_content": null,
            "align_items": null,
            "align_self": null,
            "border": null,
            "bottom": null,
            "display": null,
            "flex": null,
            "flex_flow": null,
            "grid_area": null,
            "grid_auto_columns": null,
            "grid_auto_flow": null,
            "grid_auto_rows": null,
            "grid_column": null,
            "grid_gap": null,
            "grid_row": null,
            "grid_template_areas": null,
            "grid_template_columns": null,
            "grid_template_rows": null,
            "height": null,
            "justify_content": null,
            "justify_items": null,
            "left": null,
            "margin": null,
            "max_height": null,
            "max_width": null,
            "min_height": null,
            "min_width": null,
            "object_fit": null,
            "object_position": null,
            "order": null,
            "overflow": null,
            "overflow_x": null,
            "overflow_y": null,
            "padding": null,
            "right": null,
            "top": null,
            "visibility": null,
            "width": null
          }
        },
        "00fc1413ff064e92b7ef24e148f5bb9d": {
          "model_module": "@jupyter-widgets/controls",
          "model_name": "DescriptionStyleModel",
          "model_module_version": "1.5.0",
          "state": {
            "_model_module": "@jupyter-widgets/controls",
            "_model_module_version": "1.5.0",
            "_model_name": "DescriptionStyleModel",
            "_view_count": null,
            "_view_module": "@jupyter-widgets/base",
            "_view_module_version": "1.2.0",
            "_view_name": "StyleView",
            "description_width": ""
          }
        },
        "b0601ade3cc243678ff7e067bd8a6635": {
          "model_module": "@jupyter-widgets/controls",
          "model_name": "CheckboxModel",
          "model_module_version": "1.5.0",
          "state": {
            "_dom_classes": [],
            "_model_module": "@jupyter-widgets/controls",
            "_model_module_version": "1.5.0",
            "_model_name": "CheckboxModel",
            "_view_count": null,
            "_view_module": "@jupyter-widgets/controls",
            "_view_module_version": "1.5.0",
            "_view_name": "CheckboxView",
            "description": "KNeighborsClassifier()",
            "description_tooltip": null,
            "disabled": false,
            "indent": false,
            "layout": "IPY_MODEL_c61a4a794b744220b4a1ef951dc2d2c1",
            "style": "IPY_MODEL_d33d5f85d4f944e1b3ace0e1e657cd6a",
            "value": false
          }
        },
        "c61a4a794b744220b4a1ef951dc2d2c1": {
          "model_module": "@jupyter-widgets/base",
          "model_name": "LayoutModel",
          "model_module_version": "1.2.0",
          "state": {
            "_model_module": "@jupyter-widgets/base",
            "_model_module_version": "1.2.0",
            "_model_name": "LayoutModel",
            "_view_count": null,
            "_view_module": "@jupyter-widgets/base",
            "_view_module_version": "1.2.0",
            "_view_name": "LayoutView",
            "align_content": null,
            "align_items": null,
            "align_self": null,
            "border": null,
            "bottom": null,
            "display": null,
            "flex": null,
            "flex_flow": null,
            "grid_area": null,
            "grid_auto_columns": null,
            "grid_auto_flow": null,
            "grid_auto_rows": null,
            "grid_column": null,
            "grid_gap": null,
            "grid_row": null,
            "grid_template_areas": null,
            "grid_template_columns": null,
            "grid_template_rows": null,
            "height": null,
            "justify_content": null,
            "justify_items": null,
            "left": null,
            "margin": null,
            "max_height": null,
            "max_width": null,
            "min_height": null,
            "min_width": null,
            "object_fit": null,
            "object_position": null,
            "order": null,
            "overflow": null,
            "overflow_x": null,
            "overflow_y": null,
            "padding": null,
            "right": null,
            "top": null,
            "visibility": null,
            "width": null
          }
        },
        "d33d5f85d4f944e1b3ace0e1e657cd6a": {
          "model_module": "@jupyter-widgets/controls",
          "model_name": "DescriptionStyleModel",
          "model_module_version": "1.5.0",
          "state": {
            "_model_module": "@jupyter-widgets/controls",
            "_model_module_version": "1.5.0",
            "_model_name": "DescriptionStyleModel",
            "_view_count": null,
            "_view_module": "@jupyter-widgets/base",
            "_view_module_version": "1.2.0",
            "_view_name": "StyleView",
            "description_width": ""
          }
        },
        "9e71101e3cd54891ba0ed34ddbef66aa": {
          "model_module": "@jupyter-widgets/controls",
          "model_name": "CheckboxModel",
          "model_module_version": "1.5.0",
          "state": {
            "_dom_classes": [],
            "_model_module": "@jupyter-widgets/controls",
            "_model_module_version": "1.5.0",
            "_model_name": "CheckboxModel",
            "_view_count": null,
            "_view_module": "@jupyter-widgets/controls",
            "_view_module_version": "1.5.0",
            "_view_name": "CheckboxView",
            "description": "KNeighborsClassifier(n_neighbors=1)",
            "description_tooltip": null,
            "disabled": false,
            "indent": false,
            "layout": "IPY_MODEL_7028db85dec84804b5e70e8c3828b77e",
            "style": "IPY_MODEL_5691d5dc287f4629a0ff4ffe26678c9b",
            "value": false
          }
        },
        "7028db85dec84804b5e70e8c3828b77e": {
          "model_module": "@jupyter-widgets/base",
          "model_name": "LayoutModel",
          "model_module_version": "1.2.0",
          "state": {
            "_model_module": "@jupyter-widgets/base",
            "_model_module_version": "1.2.0",
            "_model_name": "LayoutModel",
            "_view_count": null,
            "_view_module": "@jupyter-widgets/base",
            "_view_module_version": "1.2.0",
            "_view_name": "LayoutView",
            "align_content": null,
            "align_items": null,
            "align_self": null,
            "border": null,
            "bottom": null,
            "display": null,
            "flex": null,
            "flex_flow": null,
            "grid_area": null,
            "grid_auto_columns": null,
            "grid_auto_flow": null,
            "grid_auto_rows": null,
            "grid_column": null,
            "grid_gap": null,
            "grid_row": null,
            "grid_template_areas": null,
            "grid_template_columns": null,
            "grid_template_rows": null,
            "height": null,
            "justify_content": null,
            "justify_items": null,
            "left": null,
            "margin": null,
            "max_height": null,
            "max_width": null,
            "min_height": null,
            "min_width": null,
            "object_fit": null,
            "object_position": null,
            "order": null,
            "overflow": null,
            "overflow_x": null,
            "overflow_y": null,
            "padding": null,
            "right": null,
            "top": null,
            "visibility": null,
            "width": null
          }
        },
        "5691d5dc287f4629a0ff4ffe26678c9b": {
          "model_module": "@jupyter-widgets/controls",
          "model_name": "DescriptionStyleModel",
          "model_module_version": "1.5.0",
          "state": {
            "_model_module": "@jupyter-widgets/controls",
            "_model_module_version": "1.5.0",
            "_model_name": "DescriptionStyleModel",
            "_view_count": null,
            "_view_module": "@jupyter-widgets/base",
            "_view_module_version": "1.2.0",
            "_view_name": "StyleView",
            "description_width": ""
          }
        },
        "f31aacdbcda04d8a8b4d0ffa4c112d8e": {
          "model_module": "@jupyter-widgets/controls",
          "model_name": "CheckboxModel",
          "model_module_version": "1.5.0",
          "state": {
            "_dom_classes": [],
            "_model_module": "@jupyter-widgets/controls",
            "_model_module_version": "1.5.0",
            "_model_name": "CheckboxModel",
            "_view_count": null,
            "_view_module": "@jupyter-widgets/controls",
            "_view_module_version": "1.5.0",
            "_view_name": "CheckboxView",
            "description": "GaussianNB()",
            "description_tooltip": null,
            "disabled": false,
            "indent": false,
            "layout": "IPY_MODEL_66d147d12c8b42a69988411089008e4c",
            "style": "IPY_MODEL_a2a3d4d0e6f543cca33d9e044bb03e5e",
            "value": false
          }
        },
        "66d147d12c8b42a69988411089008e4c": {
          "model_module": "@jupyter-widgets/base",
          "model_name": "LayoutModel",
          "model_module_version": "1.2.0",
          "state": {
            "_model_module": "@jupyter-widgets/base",
            "_model_module_version": "1.2.0",
            "_model_name": "LayoutModel",
            "_view_count": null,
            "_view_module": "@jupyter-widgets/base",
            "_view_module_version": "1.2.0",
            "_view_name": "LayoutView",
            "align_content": null,
            "align_items": null,
            "align_self": null,
            "border": null,
            "bottom": null,
            "display": null,
            "flex": null,
            "flex_flow": null,
            "grid_area": null,
            "grid_auto_columns": null,
            "grid_auto_flow": null,
            "grid_auto_rows": null,
            "grid_column": null,
            "grid_gap": null,
            "grid_row": null,
            "grid_template_areas": null,
            "grid_template_columns": null,
            "grid_template_rows": null,
            "height": null,
            "justify_content": null,
            "justify_items": null,
            "left": null,
            "margin": null,
            "max_height": null,
            "max_width": null,
            "min_height": null,
            "min_width": null,
            "object_fit": null,
            "object_position": null,
            "order": null,
            "overflow": null,
            "overflow_x": null,
            "overflow_y": null,
            "padding": null,
            "right": null,
            "top": null,
            "visibility": null,
            "width": null
          }
        },
        "a2a3d4d0e6f543cca33d9e044bb03e5e": {
          "model_module": "@jupyter-widgets/controls",
          "model_name": "DescriptionStyleModel",
          "model_module_version": "1.5.0",
          "state": {
            "_model_module": "@jupyter-widgets/controls",
            "_model_module_version": "1.5.0",
            "_model_name": "DescriptionStyleModel",
            "_view_count": null,
            "_view_module": "@jupyter-widgets/base",
            "_view_module_version": "1.2.0",
            "_view_name": "StyleView",
            "description_width": ""
          }
        },
        "425011b8a6704432a28700e9f3f7e1b4": {
          "model_module": "@jupyter-widgets/controls",
          "model_name": "CheckboxModel",
          "model_module_version": "1.5.0",
          "state": {
            "_dom_classes": [],
            "_model_module": "@jupyter-widgets/controls",
            "_model_module_version": "1.5.0",
            "_model_name": "CheckboxModel",
            "_view_count": null,
            "_view_module": "@jupyter-widgets/controls",
            "_view_module_version": "1.5.0",
            "_view_name": "CheckboxView",
            "description": "AdaBoostClassifier(random_state=0)",
            "description_tooltip": null,
            "disabled": false,
            "indent": false,
            "layout": "IPY_MODEL_940ff60c1f864e61ab9651a03b08489b",
            "style": "IPY_MODEL_dc0606995c2a42c49b8fb53e43bc3ef1",
            "value": false
          }
        },
        "940ff60c1f864e61ab9651a03b08489b": {
          "model_module": "@jupyter-widgets/base",
          "model_name": "LayoutModel",
          "model_module_version": "1.2.0",
          "state": {
            "_model_module": "@jupyter-widgets/base",
            "_model_module_version": "1.2.0",
            "_model_name": "LayoutModel",
            "_view_count": null,
            "_view_module": "@jupyter-widgets/base",
            "_view_module_version": "1.2.0",
            "_view_name": "LayoutView",
            "align_content": null,
            "align_items": null,
            "align_self": null,
            "border": null,
            "bottom": null,
            "display": null,
            "flex": null,
            "flex_flow": null,
            "grid_area": null,
            "grid_auto_columns": null,
            "grid_auto_flow": null,
            "grid_auto_rows": null,
            "grid_column": null,
            "grid_gap": null,
            "grid_row": null,
            "grid_template_areas": null,
            "grid_template_columns": null,
            "grid_template_rows": null,
            "height": null,
            "justify_content": null,
            "justify_items": null,
            "left": null,
            "margin": null,
            "max_height": null,
            "max_width": null,
            "min_height": null,
            "min_width": null,
            "object_fit": null,
            "object_position": null,
            "order": null,
            "overflow": null,
            "overflow_x": null,
            "overflow_y": null,
            "padding": null,
            "right": null,
            "top": null,
            "visibility": null,
            "width": null
          }
        },
        "dc0606995c2a42c49b8fb53e43bc3ef1": {
          "model_module": "@jupyter-widgets/controls",
          "model_name": "DescriptionStyleModel",
          "model_module_version": "1.5.0",
          "state": {
            "_model_module": "@jupyter-widgets/controls",
            "_model_module_version": "1.5.0",
            "_model_name": "DescriptionStyleModel",
            "_view_count": null,
            "_view_module": "@jupyter-widgets/base",
            "_view_module_version": "1.2.0",
            "_view_name": "StyleView",
            "description_width": ""
          }
        },
        "88f94e82567a4e95b813c6afe2c8b84c": {
          "model_module": "@jupyter-widgets/controls",
          "model_name": "CheckboxModel",
          "model_module_version": "1.5.0",
          "state": {
            "_dom_classes": [],
            "_model_module": "@jupyter-widgets/controls",
            "_model_module_version": "1.5.0",
            "_model_name": "CheckboxModel",
            "_view_count": null,
            "_view_module": "@jupyter-widgets/controls",
            "_view_module_version": "1.5.0",
            "_view_name": "CheckboxView",
            "description": "AdaBoostClassifier(n_estimators=75, random_state=0)",
            "description_tooltip": null,
            "disabled": false,
            "indent": false,
            "layout": "IPY_MODEL_235140d0483643f0b83f3c92286c7fc6",
            "style": "IPY_MODEL_5f00f57d26df4e58827f7097ff831cc3",
            "value": false
          }
        },
        "235140d0483643f0b83f3c92286c7fc6": {
          "model_module": "@jupyter-widgets/base",
          "model_name": "LayoutModel",
          "model_module_version": "1.2.0",
          "state": {
            "_model_module": "@jupyter-widgets/base",
            "_model_module_version": "1.2.0",
            "_model_name": "LayoutModel",
            "_view_count": null,
            "_view_module": "@jupyter-widgets/base",
            "_view_module_version": "1.2.0",
            "_view_name": "LayoutView",
            "align_content": null,
            "align_items": null,
            "align_self": null,
            "border": null,
            "bottom": null,
            "display": null,
            "flex": null,
            "flex_flow": null,
            "grid_area": null,
            "grid_auto_columns": null,
            "grid_auto_flow": null,
            "grid_auto_rows": null,
            "grid_column": null,
            "grid_gap": null,
            "grid_row": null,
            "grid_template_areas": null,
            "grid_template_columns": null,
            "grid_template_rows": null,
            "height": null,
            "justify_content": null,
            "justify_items": null,
            "left": null,
            "margin": null,
            "max_height": null,
            "max_width": null,
            "min_height": null,
            "min_width": null,
            "object_fit": null,
            "object_position": null,
            "order": null,
            "overflow": null,
            "overflow_x": null,
            "overflow_y": null,
            "padding": null,
            "right": null,
            "top": null,
            "visibility": null,
            "width": null
          }
        },
        "5f00f57d26df4e58827f7097ff831cc3": {
          "model_module": "@jupyter-widgets/controls",
          "model_name": "DescriptionStyleModel",
          "model_module_version": "1.5.0",
          "state": {
            "_model_module": "@jupyter-widgets/controls",
            "_model_module_version": "1.5.0",
            "_model_name": "DescriptionStyleModel",
            "_view_count": null,
            "_view_module": "@jupyter-widgets/base",
            "_view_module_version": "1.2.0",
            "_view_name": "StyleView",
            "description_width": ""
          }
        },
        "7a8192caa0e242f8a82432a2149bbf49": {
          "model_module": "@jupyter-widgets/controls",
          "model_name": "CheckboxModel",
          "model_module_version": "1.5.0",
          "state": {
            "_dom_classes": [],
            "_model_module": "@jupyter-widgets/controls",
            "_model_module_version": "1.5.0",
            "_model_name": "CheckboxModel",
            "_view_count": null,
            "_view_module": "@jupyter-widgets/controls",
            "_view_module_version": "1.5.0",
            "_view_name": "CheckboxView",
            "description": "GradientBoostingClassifier(random_state=0)",
            "description_tooltip": null,
            "disabled": false,
            "indent": false,
            "layout": "IPY_MODEL_19572604ac054575857dfca979dff11b",
            "style": "IPY_MODEL_6b7a28e20e9b48afb26c6a61527ab46c",
            "value": false
          }
        },
        "19572604ac054575857dfca979dff11b": {
          "model_module": "@jupyter-widgets/base",
          "model_name": "LayoutModel",
          "model_module_version": "1.2.0",
          "state": {
            "_model_module": "@jupyter-widgets/base",
            "_model_module_version": "1.2.0",
            "_model_name": "LayoutModel",
            "_view_count": null,
            "_view_module": "@jupyter-widgets/base",
            "_view_module_version": "1.2.0",
            "_view_name": "LayoutView",
            "align_content": null,
            "align_items": null,
            "align_self": null,
            "border": null,
            "bottom": null,
            "display": null,
            "flex": null,
            "flex_flow": null,
            "grid_area": null,
            "grid_auto_columns": null,
            "grid_auto_flow": null,
            "grid_auto_rows": null,
            "grid_column": null,
            "grid_gap": null,
            "grid_row": null,
            "grid_template_areas": null,
            "grid_template_columns": null,
            "grid_template_rows": null,
            "height": null,
            "justify_content": null,
            "justify_items": null,
            "left": null,
            "margin": null,
            "max_height": null,
            "max_width": null,
            "min_height": null,
            "min_width": null,
            "object_fit": null,
            "object_position": null,
            "order": null,
            "overflow": null,
            "overflow_x": null,
            "overflow_y": null,
            "padding": null,
            "right": null,
            "top": null,
            "visibility": null,
            "width": null
          }
        },
        "6b7a28e20e9b48afb26c6a61527ab46c": {
          "model_module": "@jupyter-widgets/controls",
          "model_name": "DescriptionStyleModel",
          "model_module_version": "1.5.0",
          "state": {
            "_model_module": "@jupyter-widgets/controls",
            "_model_module_version": "1.5.0",
            "_model_name": "DescriptionStyleModel",
            "_view_count": null,
            "_view_module": "@jupyter-widgets/base",
            "_view_module_version": "1.2.0",
            "_view_name": "StyleView",
            "description_width": ""
          }
        },
        "be447f67291b41da9ba9ff309dcf78e6": {
          "model_module": "@jupyter-widgets/controls",
          "model_name": "CheckboxModel",
          "model_module_version": "1.5.0",
          "state": {
            "_dom_classes": [],
            "_model_module": "@jupyter-widgets/controls",
            "_model_module_version": "1.5.0",
            "_model_name": "CheckboxModel",
            "_view_count": null,
            "_view_module": "@jupyter-widgets/controls",
            "_view_module_version": "1.5.0",
            "_view_name": "CheckboxView",
            "description": "GradientBoostingClassifier(n_estimators=172, random_state=0)",
            "description_tooltip": null,
            "disabled": false,
            "indent": false,
            "layout": "IPY_MODEL_2218dcad5f9746839fddd91ea6490729",
            "style": "IPY_MODEL_67c31171ee874c08ab989e06c2ef8968",
            "value": false
          }
        },
        "2218dcad5f9746839fddd91ea6490729": {
          "model_module": "@jupyter-widgets/base",
          "model_name": "LayoutModel",
          "model_module_version": "1.2.0",
          "state": {
            "_model_module": "@jupyter-widgets/base",
            "_model_module_version": "1.2.0",
            "_model_name": "LayoutModel",
            "_view_count": null,
            "_view_module": "@jupyter-widgets/base",
            "_view_module_version": "1.2.0",
            "_view_name": "LayoutView",
            "align_content": null,
            "align_items": null,
            "align_self": null,
            "border": null,
            "bottom": null,
            "display": null,
            "flex": null,
            "flex_flow": null,
            "grid_area": null,
            "grid_auto_columns": null,
            "grid_auto_flow": null,
            "grid_auto_rows": null,
            "grid_column": null,
            "grid_gap": null,
            "grid_row": null,
            "grid_template_areas": null,
            "grid_template_columns": null,
            "grid_template_rows": null,
            "height": null,
            "justify_content": null,
            "justify_items": null,
            "left": null,
            "margin": null,
            "max_height": null,
            "max_width": null,
            "min_height": null,
            "min_width": null,
            "object_fit": null,
            "object_position": null,
            "order": null,
            "overflow": null,
            "overflow_x": null,
            "overflow_y": null,
            "padding": null,
            "right": null,
            "top": null,
            "visibility": null,
            "width": null
          }
        },
        "67c31171ee874c08ab989e06c2ef8968": {
          "model_module": "@jupyter-widgets/controls",
          "model_name": "DescriptionStyleModel",
          "model_module_version": "1.5.0",
          "state": {
            "_model_module": "@jupyter-widgets/controls",
            "_model_module_version": "1.5.0",
            "_model_name": "DescriptionStyleModel",
            "_view_count": null,
            "_view_module": "@jupyter-widgets/base",
            "_view_module_version": "1.2.0",
            "_view_name": "StyleView",
            "description_width": ""
          }
        },
        "363feb4373754e08b6a303785d572a3b": {
          "model_module": "@jupyter-widgets/controls",
          "model_name": "CheckboxModel",
          "model_module_version": "1.5.0",
          "state": {
            "_dom_classes": [],
            "_model_module": "@jupyter-widgets/controls",
            "_model_module_version": "1.5.0",
            "_model_name": "CheckboxModel",
            "_view_count": null,
            "_view_module": "@jupyter-widgets/controls",
            "_view_module_version": "1.5.0",
            "_view_name": "CheckboxView",
            "description": "GradientBoostingClassifier(max_depth=12, random_state=0)",
            "description_tooltip": null,
            "disabled": false,
            "indent": false,
            "layout": "IPY_MODEL_dfdd4647c825434cafd00f3d5a5a3b9d",
            "style": "IPY_MODEL_a4940ca068dc45639de6125b909c3951",
            "value": false
          }
        },
        "dfdd4647c825434cafd00f3d5a5a3b9d": {
          "model_module": "@jupyter-widgets/base",
          "model_name": "LayoutModel",
          "model_module_version": "1.2.0",
          "state": {
            "_model_module": "@jupyter-widgets/base",
            "_model_module_version": "1.2.0",
            "_model_name": "LayoutModel",
            "_view_count": null,
            "_view_module": "@jupyter-widgets/base",
            "_view_module_version": "1.2.0",
            "_view_name": "LayoutView",
            "align_content": null,
            "align_items": null,
            "align_self": null,
            "border": null,
            "bottom": null,
            "display": null,
            "flex": null,
            "flex_flow": null,
            "grid_area": null,
            "grid_auto_columns": null,
            "grid_auto_flow": null,
            "grid_auto_rows": null,
            "grid_column": null,
            "grid_gap": null,
            "grid_row": null,
            "grid_template_areas": null,
            "grid_template_columns": null,
            "grid_template_rows": null,
            "height": null,
            "justify_content": null,
            "justify_items": null,
            "left": null,
            "margin": null,
            "max_height": null,
            "max_width": null,
            "min_height": null,
            "min_width": null,
            "object_fit": null,
            "object_position": null,
            "order": null,
            "overflow": null,
            "overflow_x": null,
            "overflow_y": null,
            "padding": null,
            "right": null,
            "top": null,
            "visibility": null,
            "width": null
          }
        },
        "a4940ca068dc45639de6125b909c3951": {
          "model_module": "@jupyter-widgets/controls",
          "model_name": "DescriptionStyleModel",
          "model_module_version": "1.5.0",
          "state": {
            "_model_module": "@jupyter-widgets/controls",
            "_model_module_version": "1.5.0",
            "_model_name": "DescriptionStyleModel",
            "_view_count": null,
            "_view_module": "@jupyter-widgets/base",
            "_view_module_version": "1.2.0",
            "_view_name": "StyleView",
            "description_width": ""
          }
        },
        "4064e69bb3994dd48e4420857704b514": {
          "model_module": "@jupyter-widgets/controls",
          "model_name": "CheckboxModel",
          "model_module_version": "1.5.0",
          "state": {
            "_dom_classes": [],
            "_model_module": "@jupyter-widgets/controls",
            "_model_module_version": "1.5.0",
            "_model_name": "CheckboxModel",
            "_view_count": null,
            "_view_module": "@jupyter-widgets/controls",
            "_view_module_version": "1.5.0",
            "_view_name": "CheckboxView",
            "description": "GradientBoostingClassifier(max_depth=12, n_estimators=172, random_state=0)",
            "description_tooltip": null,
            "disabled": false,
            "indent": false,
            "layout": "IPY_MODEL_da62dac9d47c4966b89a702dc33b696c",
            "style": "IPY_MODEL_f13184b3282a41ba8ee8c722d4842eba",
            "value": false
          }
        },
        "da62dac9d47c4966b89a702dc33b696c": {
          "model_module": "@jupyter-widgets/base",
          "model_name": "LayoutModel",
          "model_module_version": "1.2.0",
          "state": {
            "_model_module": "@jupyter-widgets/base",
            "_model_module_version": "1.2.0",
            "_model_name": "LayoutModel",
            "_view_count": null,
            "_view_module": "@jupyter-widgets/base",
            "_view_module_version": "1.2.0",
            "_view_name": "LayoutView",
            "align_content": null,
            "align_items": null,
            "align_self": null,
            "border": null,
            "bottom": null,
            "display": null,
            "flex": null,
            "flex_flow": null,
            "grid_area": null,
            "grid_auto_columns": null,
            "grid_auto_flow": null,
            "grid_auto_rows": null,
            "grid_column": null,
            "grid_gap": null,
            "grid_row": null,
            "grid_template_areas": null,
            "grid_template_columns": null,
            "grid_template_rows": null,
            "height": null,
            "justify_content": null,
            "justify_items": null,
            "left": null,
            "margin": null,
            "max_height": null,
            "max_width": null,
            "min_height": null,
            "min_width": null,
            "object_fit": null,
            "object_position": null,
            "order": null,
            "overflow": null,
            "overflow_x": null,
            "overflow_y": null,
            "padding": null,
            "right": null,
            "top": null,
            "visibility": null,
            "width": null
          }
        },
        "f13184b3282a41ba8ee8c722d4842eba": {
          "model_module": "@jupyter-widgets/controls",
          "model_name": "DescriptionStyleModel",
          "model_module_version": "1.5.0",
          "state": {
            "_model_module": "@jupyter-widgets/controls",
            "_model_module_version": "1.5.0",
            "_model_name": "DescriptionStyleModel",
            "_view_count": null,
            "_view_module": "@jupyter-widgets/base",
            "_view_module_version": "1.2.0",
            "_view_name": "StyleView",
            "description_width": ""
          }
        },
        "5e97d57fb1ff4bdd9cb2148bf58d5554": {
          "model_module": "@jupyter-widgets/controls",
          "model_name": "CheckboxModel",
          "model_module_version": "1.5.0",
          "state": {
            "_dom_classes": [],
            "_model_module": "@jupyter-widgets/controls",
            "_model_module_version": "1.5.0",
            "_model_name": "CheckboxModel",
            "_view_count": null,
            "_view_module": "@jupyter-widgets/controls",
            "_view_module_version": "1.5.0",
            "_view_name": "CheckboxView",
            "description": "RandomForestClassifier(random_state=0)",
            "description_tooltip": null,
            "disabled": false,
            "indent": false,
            "layout": "IPY_MODEL_cd178e4d496d4cf19f4ebd09778b8ca6",
            "style": "IPY_MODEL_8d096de0d634453fac1fa8b850c21d4c",
            "value": false
          }
        },
        "cd178e4d496d4cf19f4ebd09778b8ca6": {
          "model_module": "@jupyter-widgets/base",
          "model_name": "LayoutModel",
          "model_module_version": "1.2.0",
          "state": {
            "_model_module": "@jupyter-widgets/base",
            "_model_module_version": "1.2.0",
            "_model_name": "LayoutModel",
            "_view_count": null,
            "_view_module": "@jupyter-widgets/base",
            "_view_module_version": "1.2.0",
            "_view_name": "LayoutView",
            "align_content": null,
            "align_items": null,
            "align_self": null,
            "border": null,
            "bottom": null,
            "display": null,
            "flex": null,
            "flex_flow": null,
            "grid_area": null,
            "grid_auto_columns": null,
            "grid_auto_flow": null,
            "grid_auto_rows": null,
            "grid_column": null,
            "grid_gap": null,
            "grid_row": null,
            "grid_template_areas": null,
            "grid_template_columns": null,
            "grid_template_rows": null,
            "height": null,
            "justify_content": null,
            "justify_items": null,
            "left": null,
            "margin": null,
            "max_height": null,
            "max_width": null,
            "min_height": null,
            "min_width": null,
            "object_fit": null,
            "object_position": null,
            "order": null,
            "overflow": null,
            "overflow_x": null,
            "overflow_y": null,
            "padding": null,
            "right": null,
            "top": null,
            "visibility": null,
            "width": null
          }
        },
        "8d096de0d634453fac1fa8b850c21d4c": {
          "model_module": "@jupyter-widgets/controls",
          "model_name": "DescriptionStyleModel",
          "model_module_version": "1.5.0",
          "state": {
            "_model_module": "@jupyter-widgets/controls",
            "_model_module_version": "1.5.0",
            "_model_name": "DescriptionStyleModel",
            "_view_count": null,
            "_view_module": "@jupyter-widgets/base",
            "_view_module_version": "1.2.0",
            "_view_name": "StyleView",
            "description_width": ""
          }
        },
        "4a058ab3e0d74b8e8a4b23ed1ec035d2": {
          "model_module": "@jupyter-widgets/controls",
          "model_name": "CheckboxModel",
          "model_module_version": "1.5.0",
          "state": {
            "_dom_classes": [],
            "_model_module": "@jupyter-widgets/controls",
            "_model_module_version": "1.5.0",
            "_model_name": "CheckboxModel",
            "_view_count": null,
            "_view_module": "@jupyter-widgets/controls",
            "_view_module_version": "1.5.0",
            "_view_name": "CheckboxView",
            "description": "RandomForestClassifier(n_estimators=61, random_state=0)",
            "description_tooltip": null,
            "disabled": false,
            "indent": false,
            "layout": "IPY_MODEL_b21c995931ed4beb8309201877153e1a",
            "style": "IPY_MODEL_34ad53c8e099459bbd2c7cd6259e09d0",
            "value": false
          }
        },
        "b21c995931ed4beb8309201877153e1a": {
          "model_module": "@jupyter-widgets/base",
          "model_name": "LayoutModel",
          "model_module_version": "1.2.0",
          "state": {
            "_model_module": "@jupyter-widgets/base",
            "_model_module_version": "1.2.0",
            "_model_name": "LayoutModel",
            "_view_count": null,
            "_view_module": "@jupyter-widgets/base",
            "_view_module_version": "1.2.0",
            "_view_name": "LayoutView",
            "align_content": null,
            "align_items": null,
            "align_self": null,
            "border": null,
            "bottom": null,
            "display": null,
            "flex": null,
            "flex_flow": null,
            "grid_area": null,
            "grid_auto_columns": null,
            "grid_auto_flow": null,
            "grid_auto_rows": null,
            "grid_column": null,
            "grid_gap": null,
            "grid_row": null,
            "grid_template_areas": null,
            "grid_template_columns": null,
            "grid_template_rows": null,
            "height": null,
            "justify_content": null,
            "justify_items": null,
            "left": null,
            "margin": null,
            "max_height": null,
            "max_width": null,
            "min_height": null,
            "min_width": null,
            "object_fit": null,
            "object_position": null,
            "order": null,
            "overflow": null,
            "overflow_x": null,
            "overflow_y": null,
            "padding": null,
            "right": null,
            "top": null,
            "visibility": null,
            "width": null
          }
        },
        "34ad53c8e099459bbd2c7cd6259e09d0": {
          "model_module": "@jupyter-widgets/controls",
          "model_name": "DescriptionStyleModel",
          "model_module_version": "1.5.0",
          "state": {
            "_model_module": "@jupyter-widgets/controls",
            "_model_module_version": "1.5.0",
            "_model_name": "DescriptionStyleModel",
            "_view_count": null,
            "_view_module": "@jupyter-widgets/base",
            "_view_module_version": "1.2.0",
            "_view_name": "StyleView",
            "description_width": ""
          }
        },
        "baab165e1f2f4fedac526ccbbd865b9c": {
          "model_module": "@jupyter-widgets/controls",
          "model_name": "CheckboxModel",
          "model_module_version": "1.5.0",
          "state": {
            "_dom_classes": [],
            "_model_module": "@jupyter-widgets/controls",
            "_model_module_version": "1.5.0",
            "_model_name": "CheckboxModel",
            "_view_count": null,
            "_view_module": "@jupyter-widgets/controls",
            "_view_module_version": "1.5.0",
            "_view_name": "CheckboxView",
            "description": "RandomForestClassifier(max_depth=26, random_state=0)",
            "description_tooltip": null,
            "disabled": false,
            "indent": false,
            "layout": "IPY_MODEL_a66cfc2327b84c579cf780ab3d59a5a6",
            "style": "IPY_MODEL_e093e8c124464a4eb15cdfa9181ee833",
            "value": false
          }
        },
        "a66cfc2327b84c579cf780ab3d59a5a6": {
          "model_module": "@jupyter-widgets/base",
          "model_name": "LayoutModel",
          "model_module_version": "1.2.0",
          "state": {
            "_model_module": "@jupyter-widgets/base",
            "_model_module_version": "1.2.0",
            "_model_name": "LayoutModel",
            "_view_count": null,
            "_view_module": "@jupyter-widgets/base",
            "_view_module_version": "1.2.0",
            "_view_name": "LayoutView",
            "align_content": null,
            "align_items": null,
            "align_self": null,
            "border": null,
            "bottom": null,
            "display": null,
            "flex": null,
            "flex_flow": null,
            "grid_area": null,
            "grid_auto_columns": null,
            "grid_auto_flow": null,
            "grid_auto_rows": null,
            "grid_column": null,
            "grid_gap": null,
            "grid_row": null,
            "grid_template_areas": null,
            "grid_template_columns": null,
            "grid_template_rows": null,
            "height": null,
            "justify_content": null,
            "justify_items": null,
            "left": null,
            "margin": null,
            "max_height": null,
            "max_width": null,
            "min_height": null,
            "min_width": null,
            "object_fit": null,
            "object_position": null,
            "order": null,
            "overflow": null,
            "overflow_x": null,
            "overflow_y": null,
            "padding": null,
            "right": null,
            "top": null,
            "visibility": null,
            "width": null
          }
        },
        "e093e8c124464a4eb15cdfa9181ee833": {
          "model_module": "@jupyter-widgets/controls",
          "model_name": "DescriptionStyleModel",
          "model_module_version": "1.5.0",
          "state": {
            "_model_module": "@jupyter-widgets/controls",
            "_model_module_version": "1.5.0",
            "_model_name": "DescriptionStyleModel",
            "_view_count": null,
            "_view_module": "@jupyter-widgets/base",
            "_view_module_version": "1.2.0",
            "_view_name": "StyleView",
            "description_width": ""
          }
        },
        "c3796ee4038642f4a17c3b8cf2ccf4c0": {
          "model_module": "@jupyter-widgets/controls",
          "model_name": "CheckboxModel",
          "model_module_version": "1.5.0",
          "state": {
            "_dom_classes": [],
            "_model_module": "@jupyter-widgets/controls",
            "_model_module_version": "1.5.0",
            "_model_name": "CheckboxModel",
            "_view_count": null,
            "_view_module": "@jupyter-widgets/controls",
            "_view_module_version": "1.5.0",
            "_view_name": "CheckboxView",
            "description": "RandomForestClassifier(max_depth=26, n_estimators=61, random_state=0)",
            "description_tooltip": null,
            "disabled": false,
            "indent": false,
            "layout": "IPY_MODEL_462c5585c3474cc2bac8fce8bdf09063",
            "style": "IPY_MODEL_74f2be3f3a774827929bf5ed78914a3f",
            "value": false
          }
        },
        "462c5585c3474cc2bac8fce8bdf09063": {
          "model_module": "@jupyter-widgets/base",
          "model_name": "LayoutModel",
          "model_module_version": "1.2.0",
          "state": {
            "_model_module": "@jupyter-widgets/base",
            "_model_module_version": "1.2.0",
            "_model_name": "LayoutModel",
            "_view_count": null,
            "_view_module": "@jupyter-widgets/base",
            "_view_module_version": "1.2.0",
            "_view_name": "LayoutView",
            "align_content": null,
            "align_items": null,
            "align_self": null,
            "border": null,
            "bottom": null,
            "display": null,
            "flex": null,
            "flex_flow": null,
            "grid_area": null,
            "grid_auto_columns": null,
            "grid_auto_flow": null,
            "grid_auto_rows": null,
            "grid_column": null,
            "grid_gap": null,
            "grid_row": null,
            "grid_template_areas": null,
            "grid_template_columns": null,
            "grid_template_rows": null,
            "height": null,
            "justify_content": null,
            "justify_items": null,
            "left": null,
            "margin": null,
            "max_height": null,
            "max_width": null,
            "min_height": null,
            "min_width": null,
            "object_fit": null,
            "object_position": null,
            "order": null,
            "overflow": null,
            "overflow_x": null,
            "overflow_y": null,
            "padding": null,
            "right": null,
            "top": null,
            "visibility": null,
            "width": null
          }
        },
        "74f2be3f3a774827929bf5ed78914a3f": {
          "model_module": "@jupyter-widgets/controls",
          "model_name": "DescriptionStyleModel",
          "model_module_version": "1.5.0",
          "state": {
            "_model_module": "@jupyter-widgets/controls",
            "_model_module_version": "1.5.0",
            "_model_name": "DescriptionStyleModel",
            "_view_count": null,
            "_view_module": "@jupyter-widgets/base",
            "_view_module_version": "1.2.0",
            "_view_name": "StyleView",
            "description_width": ""
          }
        },
        "c6d959baff034459aee78ad354015d6c": {
          "model_module": "@jupyter-widgets/controls",
          "model_name": "CheckboxModel",
          "model_module_version": "1.5.0",
          "state": {
            "_dom_classes": [],
            "_model_module": "@jupyter-widgets/controls",
            "_model_module_version": "1.5.0",
            "_model_name": "CheckboxModel",
            "_view_count": null,
            "_view_module": "@jupyter-widgets/controls",
            "_view_module_version": "1.5.0",
            "_view_name": "CheckboxView",
            "description": "XGBClassifier(objective='multi:softprob')",
            "description_tooltip": null,
            "disabled": false,
            "indent": false,
            "layout": "IPY_MODEL_af149407f6c14bcdaabaef1b82683295",
            "style": "IPY_MODEL_03748dd82a2f4a1a9397b2a8e8ed3300",
            "value": false
          }
        },
        "af149407f6c14bcdaabaef1b82683295": {
          "model_module": "@jupyter-widgets/base",
          "model_name": "LayoutModel",
          "model_module_version": "1.2.0",
          "state": {
            "_model_module": "@jupyter-widgets/base",
            "_model_module_version": "1.2.0",
            "_model_name": "LayoutModel",
            "_view_count": null,
            "_view_module": "@jupyter-widgets/base",
            "_view_module_version": "1.2.0",
            "_view_name": "LayoutView",
            "align_content": null,
            "align_items": null,
            "align_self": null,
            "border": null,
            "bottom": null,
            "display": null,
            "flex": null,
            "flex_flow": null,
            "grid_area": null,
            "grid_auto_columns": null,
            "grid_auto_flow": null,
            "grid_auto_rows": null,
            "grid_column": null,
            "grid_gap": null,
            "grid_row": null,
            "grid_template_areas": null,
            "grid_template_columns": null,
            "grid_template_rows": null,
            "height": null,
            "justify_content": null,
            "justify_items": null,
            "left": null,
            "margin": null,
            "max_height": null,
            "max_width": null,
            "min_height": null,
            "min_width": null,
            "object_fit": null,
            "object_position": null,
            "order": null,
            "overflow": null,
            "overflow_x": null,
            "overflow_y": null,
            "padding": null,
            "right": null,
            "top": null,
            "visibility": null,
            "width": null
          }
        },
        "03748dd82a2f4a1a9397b2a8e8ed3300": {
          "model_module": "@jupyter-widgets/controls",
          "model_name": "DescriptionStyleModel",
          "model_module_version": "1.5.0",
          "state": {
            "_model_module": "@jupyter-widgets/controls",
            "_model_module_version": "1.5.0",
            "_model_name": "DescriptionStyleModel",
            "_view_count": null,
            "_view_module": "@jupyter-widgets/base",
            "_view_module_version": "1.2.0",
            "_view_name": "StyleView",
            "description_width": ""
          }
        },
        "6f4b99561fbe4004a2eabb0ac703e08b": {
          "model_module": "@jupyter-widgets/controls",
          "model_name": "CheckboxModel",
          "model_module_version": "1.5.0",
          "state": {
            "_dom_classes": [],
            "_model_module": "@jupyter-widgets/controls",
            "_model_module_version": "1.5.0",
            "_model_name": "CheckboxModel",
            "_view_count": null,
            "_view_module": "@jupyter-widgets/controls",
            "_view_module_version": "1.5.0",
            "_view_name": "CheckboxView",
            "description": "XGBClassifier(max_depth=8, objective='multi:softprob')",
            "description_tooltip": null,
            "disabled": false,
            "indent": false,
            "layout": "IPY_MODEL_1be08af8e7cd4b6790e49df1863abff8",
            "style": "IPY_MODEL_46f4f592da234ba6b7c413690fd9c955",
            "value": false
          }
        },
        "1be08af8e7cd4b6790e49df1863abff8": {
          "model_module": "@jupyter-widgets/base",
          "model_name": "LayoutModel",
          "model_module_version": "1.2.0",
          "state": {
            "_model_module": "@jupyter-widgets/base",
            "_model_module_version": "1.2.0",
            "_model_name": "LayoutModel",
            "_view_count": null,
            "_view_module": "@jupyter-widgets/base",
            "_view_module_version": "1.2.0",
            "_view_name": "LayoutView",
            "align_content": null,
            "align_items": null,
            "align_self": null,
            "border": null,
            "bottom": null,
            "display": null,
            "flex": null,
            "flex_flow": null,
            "grid_area": null,
            "grid_auto_columns": null,
            "grid_auto_flow": null,
            "grid_auto_rows": null,
            "grid_column": null,
            "grid_gap": null,
            "grid_row": null,
            "grid_template_areas": null,
            "grid_template_columns": null,
            "grid_template_rows": null,
            "height": null,
            "justify_content": null,
            "justify_items": null,
            "left": null,
            "margin": null,
            "max_height": null,
            "max_width": null,
            "min_height": null,
            "min_width": null,
            "object_fit": null,
            "object_position": null,
            "order": null,
            "overflow": null,
            "overflow_x": null,
            "overflow_y": null,
            "padding": null,
            "right": null,
            "top": null,
            "visibility": null,
            "width": null
          }
        },
        "46f4f592da234ba6b7c413690fd9c955": {
          "model_module": "@jupyter-widgets/controls",
          "model_name": "DescriptionStyleModel",
          "model_module_version": "1.5.0",
          "state": {
            "_model_module": "@jupyter-widgets/controls",
            "_model_module_version": "1.5.0",
            "_model_name": "DescriptionStyleModel",
            "_view_count": null,
            "_view_module": "@jupyter-widgets/base",
            "_view_module_version": "1.2.0",
            "_view_name": "StyleView",
            "description_width": ""
          }
        },
        "06781162ce444b33aa2f045a92e34fbb": {
          "model_module": "@jupyter-widgets/controls",
          "model_name": "CheckboxModel",
          "model_module_version": "1.5.0",
          "state": {
            "_dom_classes": [],
            "_model_module": "@jupyter-widgets/controls",
            "_model_module_version": "1.5.0",
            "_model_name": "CheckboxModel",
            "_view_count": null,
            "_view_module": "@jupyter-widgets/controls",
            "_view_module_version": "1.5.0",
            "_view_name": "CheckboxView",
            "description": "XGBClassifier(n_estimators=223, objective='multi:softprob')",
            "description_tooltip": null,
            "disabled": false,
            "indent": false,
            "layout": "IPY_MODEL_1d5aa6aa18bb48e58acf3dbb108bd88c",
            "style": "IPY_MODEL_c120ef458add41c98988e291ac533c7e",
            "value": false
          }
        },
        "1d5aa6aa18bb48e58acf3dbb108bd88c": {
          "model_module": "@jupyter-widgets/base",
          "model_name": "LayoutModel",
          "model_module_version": "1.2.0",
          "state": {
            "_model_module": "@jupyter-widgets/base",
            "_model_module_version": "1.2.0",
            "_model_name": "LayoutModel",
            "_view_count": null,
            "_view_module": "@jupyter-widgets/base",
            "_view_module_version": "1.2.0",
            "_view_name": "LayoutView",
            "align_content": null,
            "align_items": null,
            "align_self": null,
            "border": null,
            "bottom": null,
            "display": null,
            "flex": null,
            "flex_flow": null,
            "grid_area": null,
            "grid_auto_columns": null,
            "grid_auto_flow": null,
            "grid_auto_rows": null,
            "grid_column": null,
            "grid_gap": null,
            "grid_row": null,
            "grid_template_areas": null,
            "grid_template_columns": null,
            "grid_template_rows": null,
            "height": null,
            "justify_content": null,
            "justify_items": null,
            "left": null,
            "margin": null,
            "max_height": null,
            "max_width": null,
            "min_height": null,
            "min_width": null,
            "object_fit": null,
            "object_position": null,
            "order": null,
            "overflow": null,
            "overflow_x": null,
            "overflow_y": null,
            "padding": null,
            "right": null,
            "top": null,
            "visibility": null,
            "width": null
          }
        },
        "c120ef458add41c98988e291ac533c7e": {
          "model_module": "@jupyter-widgets/controls",
          "model_name": "DescriptionStyleModel",
          "model_module_version": "1.5.0",
          "state": {
            "_model_module": "@jupyter-widgets/controls",
            "_model_module_version": "1.5.0",
            "_model_name": "DescriptionStyleModel",
            "_view_count": null,
            "_view_module": "@jupyter-widgets/base",
            "_view_module_version": "1.2.0",
            "_view_name": "StyleView",
            "description_width": ""
          }
        },
        "5aed578bdb3844b38288d998ba5c9e55": {
          "model_module": "@jupyter-widgets/controls",
          "model_name": "CheckboxModel",
          "model_module_version": "1.5.0",
          "state": {
            "_dom_classes": [],
            "_model_module": "@jupyter-widgets/controls",
            "_model_module_version": "1.5.0",
            "_model_name": "CheckboxModel",
            "_view_count": null,
            "_view_module": "@jupyter-widgets/controls",
            "_view_module_version": "1.5.0",
            "_view_name": "CheckboxView",
            "description": "XGBClassifier(max_depth=8, n_estimators=223, objective='multi:softprob')",
            "description_tooltip": null,
            "disabled": false,
            "indent": false,
            "layout": "IPY_MODEL_6a4416ea481f4b74a1abc9a0dd2d58e1",
            "style": "IPY_MODEL_2ec85143658c4bb0a0a5418b9cefe099",
            "value": false
          }
        },
        "6a4416ea481f4b74a1abc9a0dd2d58e1": {
          "model_module": "@jupyter-widgets/base",
          "model_name": "LayoutModel",
          "model_module_version": "1.2.0",
          "state": {
            "_model_module": "@jupyter-widgets/base",
            "_model_module_version": "1.2.0",
            "_model_name": "LayoutModel",
            "_view_count": null,
            "_view_module": "@jupyter-widgets/base",
            "_view_module_version": "1.2.0",
            "_view_name": "LayoutView",
            "align_content": null,
            "align_items": null,
            "align_self": null,
            "border": null,
            "bottom": null,
            "display": null,
            "flex": null,
            "flex_flow": null,
            "grid_area": null,
            "grid_auto_columns": null,
            "grid_auto_flow": null,
            "grid_auto_rows": null,
            "grid_column": null,
            "grid_gap": null,
            "grid_row": null,
            "grid_template_areas": null,
            "grid_template_columns": null,
            "grid_template_rows": null,
            "height": null,
            "justify_content": null,
            "justify_items": null,
            "left": null,
            "margin": null,
            "max_height": null,
            "max_width": null,
            "min_height": null,
            "min_width": null,
            "object_fit": null,
            "object_position": null,
            "order": null,
            "overflow": null,
            "overflow_x": null,
            "overflow_y": null,
            "padding": null,
            "right": null,
            "top": null,
            "visibility": null,
            "width": null
          }
        },
        "2ec85143658c4bb0a0a5418b9cefe099": {
          "model_module": "@jupyter-widgets/controls",
          "model_name": "DescriptionStyleModel",
          "model_module_version": "1.5.0",
          "state": {
            "_model_module": "@jupyter-widgets/controls",
            "_model_module_version": "1.5.0",
            "_model_name": "DescriptionStyleModel",
            "_view_count": null,
            "_view_module": "@jupyter-widgets/base",
            "_view_module_version": "1.2.0",
            "_view_name": "StyleView",
            "description_width": ""
          }
        },
        "f04f0772074e4ce98d83b5344cfc8c35": {
          "model_module": "@jupyter-widgets/controls",
          "model_name": "CheckboxModel",
          "model_module_version": "1.5.0",
          "state": {
            "_dom_classes": [],
            "_model_module": "@jupyter-widgets/controls",
            "_model_module_version": "1.5.0",
            "_model_name": "CheckboxModel",
            "_view_count": null,
            "_view_module": "@jupyter-widgets/controls",
            "_view_module_version": "1.5.0",
            "_view_name": "CheckboxView",
            "description": "KNeighborsClassifier()",
            "description_tooltip": null,
            "disabled": false,
            "indent": false,
            "layout": "IPY_MODEL_100bd63e16da4b81bc755f9240b5b747",
            "style": "IPY_MODEL_deb40eeec4f34a7caffd5a784a421883",
            "value": false
          }
        },
        "100bd63e16da4b81bc755f9240b5b747": {
          "model_module": "@jupyter-widgets/base",
          "model_name": "LayoutModel",
          "model_module_version": "1.2.0",
          "state": {
            "_model_module": "@jupyter-widgets/base",
            "_model_module_version": "1.2.0",
            "_model_name": "LayoutModel",
            "_view_count": null,
            "_view_module": "@jupyter-widgets/base",
            "_view_module_version": "1.2.0",
            "_view_name": "LayoutView",
            "align_content": null,
            "align_items": null,
            "align_self": null,
            "border": null,
            "bottom": null,
            "display": null,
            "flex": null,
            "flex_flow": null,
            "grid_area": null,
            "grid_auto_columns": null,
            "grid_auto_flow": null,
            "grid_auto_rows": null,
            "grid_column": null,
            "grid_gap": null,
            "grid_row": null,
            "grid_template_areas": null,
            "grid_template_columns": null,
            "grid_template_rows": null,
            "height": null,
            "justify_content": null,
            "justify_items": null,
            "left": null,
            "margin": null,
            "max_height": null,
            "max_width": null,
            "min_height": null,
            "min_width": null,
            "object_fit": null,
            "object_position": null,
            "order": null,
            "overflow": null,
            "overflow_x": null,
            "overflow_y": null,
            "padding": null,
            "right": null,
            "top": null,
            "visibility": null,
            "width": null
          }
        },
        "deb40eeec4f34a7caffd5a784a421883": {
          "model_module": "@jupyter-widgets/controls",
          "model_name": "DescriptionStyleModel",
          "model_module_version": "1.5.0",
          "state": {
            "_model_module": "@jupyter-widgets/controls",
            "_model_module_version": "1.5.0",
            "_model_name": "DescriptionStyleModel",
            "_view_count": null,
            "_view_module": "@jupyter-widgets/base",
            "_view_module_version": "1.2.0",
            "_view_name": "StyleView",
            "description_width": ""
          }
        },
        "1550689666434d4fb0a53d4cd69c7339": {
          "model_module": "@jupyter-widgets/controls",
          "model_name": "CheckboxModel",
          "model_module_version": "1.5.0",
          "state": {
            "_dom_classes": [],
            "_model_module": "@jupyter-widgets/controls",
            "_model_module_version": "1.5.0",
            "_model_name": "CheckboxModel",
            "_view_count": null,
            "_view_module": "@jupyter-widgets/controls",
            "_view_module_version": "1.5.0",
            "_view_name": "CheckboxView",
            "description": "KNeighborsClassifier(n_neighbors=1)",
            "description_tooltip": null,
            "disabled": false,
            "indent": false,
            "layout": "IPY_MODEL_b6f8392051af44878cc9f8056ee589d0",
            "style": "IPY_MODEL_090ee9629cde459c94bc559347bdcda4",
            "value": false
          }
        },
        "b6f8392051af44878cc9f8056ee589d0": {
          "model_module": "@jupyter-widgets/base",
          "model_name": "LayoutModel",
          "model_module_version": "1.2.0",
          "state": {
            "_model_module": "@jupyter-widgets/base",
            "_model_module_version": "1.2.0",
            "_model_name": "LayoutModel",
            "_view_count": null,
            "_view_module": "@jupyter-widgets/base",
            "_view_module_version": "1.2.0",
            "_view_name": "LayoutView",
            "align_content": null,
            "align_items": null,
            "align_self": null,
            "border": null,
            "bottom": null,
            "display": null,
            "flex": null,
            "flex_flow": null,
            "grid_area": null,
            "grid_auto_columns": null,
            "grid_auto_flow": null,
            "grid_auto_rows": null,
            "grid_column": null,
            "grid_gap": null,
            "grid_row": null,
            "grid_template_areas": null,
            "grid_template_columns": null,
            "grid_template_rows": null,
            "height": null,
            "justify_content": null,
            "justify_items": null,
            "left": null,
            "margin": null,
            "max_height": null,
            "max_width": null,
            "min_height": null,
            "min_width": null,
            "object_fit": null,
            "object_position": null,
            "order": null,
            "overflow": null,
            "overflow_x": null,
            "overflow_y": null,
            "padding": null,
            "right": null,
            "top": null,
            "visibility": null,
            "width": null
          }
        },
        "090ee9629cde459c94bc559347bdcda4": {
          "model_module": "@jupyter-widgets/controls",
          "model_name": "DescriptionStyleModel",
          "model_module_version": "1.5.0",
          "state": {
            "_model_module": "@jupyter-widgets/controls",
            "_model_module_version": "1.5.0",
            "_model_name": "DescriptionStyleModel",
            "_view_count": null,
            "_view_module": "@jupyter-widgets/base",
            "_view_module_version": "1.2.0",
            "_view_name": "StyleView",
            "description_width": ""
          }
        },
        "64d7ab6d81d64ad5917071c3c78be7b5": {
          "model_module": "@jupyter-widgets/controls",
          "model_name": "CheckboxModel",
          "model_module_version": "1.5.0",
          "state": {
            "_dom_classes": [],
            "_model_module": "@jupyter-widgets/controls",
            "_model_module_version": "1.5.0",
            "_model_name": "CheckboxModel",
            "_view_count": null,
            "_view_module": "@jupyter-widgets/controls",
            "_view_module_version": "1.5.0",
            "_view_name": "CheckboxView",
            "description": "GaussianNB()",
            "description_tooltip": null,
            "disabled": false,
            "indent": false,
            "layout": "IPY_MODEL_537acc7818894acf987255b304a851be",
            "style": "IPY_MODEL_787a4770897f4a85a930f961dccbc7a9",
            "value": false
          }
        },
        "537acc7818894acf987255b304a851be": {
          "model_module": "@jupyter-widgets/base",
          "model_name": "LayoutModel",
          "model_module_version": "1.2.0",
          "state": {
            "_model_module": "@jupyter-widgets/base",
            "_model_module_version": "1.2.0",
            "_model_name": "LayoutModel",
            "_view_count": null,
            "_view_module": "@jupyter-widgets/base",
            "_view_module_version": "1.2.0",
            "_view_name": "LayoutView",
            "align_content": null,
            "align_items": null,
            "align_self": null,
            "border": null,
            "bottom": null,
            "display": null,
            "flex": null,
            "flex_flow": null,
            "grid_area": null,
            "grid_auto_columns": null,
            "grid_auto_flow": null,
            "grid_auto_rows": null,
            "grid_column": null,
            "grid_gap": null,
            "grid_row": null,
            "grid_template_areas": null,
            "grid_template_columns": null,
            "grid_template_rows": null,
            "height": null,
            "justify_content": null,
            "justify_items": null,
            "left": null,
            "margin": null,
            "max_height": null,
            "max_width": null,
            "min_height": null,
            "min_width": null,
            "object_fit": null,
            "object_position": null,
            "order": null,
            "overflow": null,
            "overflow_x": null,
            "overflow_y": null,
            "padding": null,
            "right": null,
            "top": null,
            "visibility": null,
            "width": null
          }
        },
        "787a4770897f4a85a930f961dccbc7a9": {
          "model_module": "@jupyter-widgets/controls",
          "model_name": "DescriptionStyleModel",
          "model_module_version": "1.5.0",
          "state": {
            "_model_module": "@jupyter-widgets/controls",
            "_model_module_version": "1.5.0",
            "_model_name": "DescriptionStyleModel",
            "_view_count": null,
            "_view_module": "@jupyter-widgets/base",
            "_view_module_version": "1.2.0",
            "_view_name": "StyleView",
            "description_width": ""
          }
        },
        "422e4d2e606e4e1c87a1e388b2c076f4": {
          "model_module": "@jupyter-widgets/controls",
          "model_name": "CheckboxModel",
          "model_module_version": "1.5.0",
          "state": {
            "_dom_classes": [],
            "_model_module": "@jupyter-widgets/controls",
            "_model_module_version": "1.5.0",
            "_model_name": "CheckboxModel",
            "_view_count": null,
            "_view_module": "@jupyter-widgets/controls",
            "_view_module_version": "1.5.0",
            "_view_name": "CheckboxView",
            "description": "AdaBoostClassifier(random_state=0)",
            "description_tooltip": null,
            "disabled": false,
            "indent": false,
            "layout": "IPY_MODEL_4a5716ad5bc54415bd951b1101133fd0",
            "style": "IPY_MODEL_8e343894b9814d3581269c6ec6e3146d",
            "value": false
          }
        },
        "4a5716ad5bc54415bd951b1101133fd0": {
          "model_module": "@jupyter-widgets/base",
          "model_name": "LayoutModel",
          "model_module_version": "1.2.0",
          "state": {
            "_model_module": "@jupyter-widgets/base",
            "_model_module_version": "1.2.0",
            "_model_name": "LayoutModel",
            "_view_count": null,
            "_view_module": "@jupyter-widgets/base",
            "_view_module_version": "1.2.0",
            "_view_name": "LayoutView",
            "align_content": null,
            "align_items": null,
            "align_self": null,
            "border": null,
            "bottom": null,
            "display": null,
            "flex": null,
            "flex_flow": null,
            "grid_area": null,
            "grid_auto_columns": null,
            "grid_auto_flow": null,
            "grid_auto_rows": null,
            "grid_column": null,
            "grid_gap": null,
            "grid_row": null,
            "grid_template_areas": null,
            "grid_template_columns": null,
            "grid_template_rows": null,
            "height": null,
            "justify_content": null,
            "justify_items": null,
            "left": null,
            "margin": null,
            "max_height": null,
            "max_width": null,
            "min_height": null,
            "min_width": null,
            "object_fit": null,
            "object_position": null,
            "order": null,
            "overflow": null,
            "overflow_x": null,
            "overflow_y": null,
            "padding": null,
            "right": null,
            "top": null,
            "visibility": null,
            "width": null
          }
        },
        "8e343894b9814d3581269c6ec6e3146d": {
          "model_module": "@jupyter-widgets/controls",
          "model_name": "DescriptionStyleModel",
          "model_module_version": "1.5.0",
          "state": {
            "_model_module": "@jupyter-widgets/controls",
            "_model_module_version": "1.5.0",
            "_model_name": "DescriptionStyleModel",
            "_view_count": null,
            "_view_module": "@jupyter-widgets/base",
            "_view_module_version": "1.2.0",
            "_view_name": "StyleView",
            "description_width": ""
          }
        },
        "fc9f138faf49417e9f98d313f58ec799": {
          "model_module": "@jupyter-widgets/controls",
          "model_name": "CheckboxModel",
          "model_module_version": "1.5.0",
          "state": {
            "_dom_classes": [],
            "_model_module": "@jupyter-widgets/controls",
            "_model_module_version": "1.5.0",
            "_model_name": "CheckboxModel",
            "_view_count": null,
            "_view_module": "@jupyter-widgets/controls",
            "_view_module_version": "1.5.0",
            "_view_name": "CheckboxView",
            "description": "AdaBoostClassifier(n_estimators=75, random_state=0)",
            "description_tooltip": null,
            "disabled": false,
            "indent": false,
            "layout": "IPY_MODEL_cead5636ca7b45a1b9a6671b55efae94",
            "style": "IPY_MODEL_81885b18d128487ebb1b19458f26c5ae",
            "value": false
          }
        },
        "cead5636ca7b45a1b9a6671b55efae94": {
          "model_module": "@jupyter-widgets/base",
          "model_name": "LayoutModel",
          "model_module_version": "1.2.0",
          "state": {
            "_model_module": "@jupyter-widgets/base",
            "_model_module_version": "1.2.0",
            "_model_name": "LayoutModel",
            "_view_count": null,
            "_view_module": "@jupyter-widgets/base",
            "_view_module_version": "1.2.0",
            "_view_name": "LayoutView",
            "align_content": null,
            "align_items": null,
            "align_self": null,
            "border": null,
            "bottom": null,
            "display": null,
            "flex": null,
            "flex_flow": null,
            "grid_area": null,
            "grid_auto_columns": null,
            "grid_auto_flow": null,
            "grid_auto_rows": null,
            "grid_column": null,
            "grid_gap": null,
            "grid_row": null,
            "grid_template_areas": null,
            "grid_template_columns": null,
            "grid_template_rows": null,
            "height": null,
            "justify_content": null,
            "justify_items": null,
            "left": null,
            "margin": null,
            "max_height": null,
            "max_width": null,
            "min_height": null,
            "min_width": null,
            "object_fit": null,
            "object_position": null,
            "order": null,
            "overflow": null,
            "overflow_x": null,
            "overflow_y": null,
            "padding": null,
            "right": null,
            "top": null,
            "visibility": null,
            "width": null
          }
        },
        "81885b18d128487ebb1b19458f26c5ae": {
          "model_module": "@jupyter-widgets/controls",
          "model_name": "DescriptionStyleModel",
          "model_module_version": "1.5.0",
          "state": {
            "_model_module": "@jupyter-widgets/controls",
            "_model_module_version": "1.5.0",
            "_model_name": "DescriptionStyleModel",
            "_view_count": null,
            "_view_module": "@jupyter-widgets/base",
            "_view_module_version": "1.2.0",
            "_view_name": "StyleView",
            "description_width": ""
          }
        },
        "11c88f7f3af54d4c9308370d820c69b0": {
          "model_module": "@jupyter-widgets/controls",
          "model_name": "CheckboxModel",
          "model_module_version": "1.5.0",
          "state": {
            "_dom_classes": [],
            "_model_module": "@jupyter-widgets/controls",
            "_model_module_version": "1.5.0",
            "_model_name": "CheckboxModel",
            "_view_count": null,
            "_view_module": "@jupyter-widgets/controls",
            "_view_module_version": "1.5.0",
            "_view_name": "CheckboxView",
            "description": "GradientBoostingClassifier(random_state=0)",
            "description_tooltip": null,
            "disabled": false,
            "indent": false,
            "layout": "IPY_MODEL_fab3338f31db4faa85b64468b90c3cf7",
            "style": "IPY_MODEL_274fc1c78ff041489233073325af51c4",
            "value": false
          }
        },
        "fab3338f31db4faa85b64468b90c3cf7": {
          "model_module": "@jupyter-widgets/base",
          "model_name": "LayoutModel",
          "model_module_version": "1.2.0",
          "state": {
            "_model_module": "@jupyter-widgets/base",
            "_model_module_version": "1.2.0",
            "_model_name": "LayoutModel",
            "_view_count": null,
            "_view_module": "@jupyter-widgets/base",
            "_view_module_version": "1.2.0",
            "_view_name": "LayoutView",
            "align_content": null,
            "align_items": null,
            "align_self": null,
            "border": null,
            "bottom": null,
            "display": null,
            "flex": null,
            "flex_flow": null,
            "grid_area": null,
            "grid_auto_columns": null,
            "grid_auto_flow": null,
            "grid_auto_rows": null,
            "grid_column": null,
            "grid_gap": null,
            "grid_row": null,
            "grid_template_areas": null,
            "grid_template_columns": null,
            "grid_template_rows": null,
            "height": null,
            "justify_content": null,
            "justify_items": null,
            "left": null,
            "margin": null,
            "max_height": null,
            "max_width": null,
            "min_height": null,
            "min_width": null,
            "object_fit": null,
            "object_position": null,
            "order": null,
            "overflow": null,
            "overflow_x": null,
            "overflow_y": null,
            "padding": null,
            "right": null,
            "top": null,
            "visibility": null,
            "width": null
          }
        },
        "274fc1c78ff041489233073325af51c4": {
          "model_module": "@jupyter-widgets/controls",
          "model_name": "DescriptionStyleModel",
          "model_module_version": "1.5.0",
          "state": {
            "_model_module": "@jupyter-widgets/controls",
            "_model_module_version": "1.5.0",
            "_model_name": "DescriptionStyleModel",
            "_view_count": null,
            "_view_module": "@jupyter-widgets/base",
            "_view_module_version": "1.2.0",
            "_view_name": "StyleView",
            "description_width": ""
          }
        },
        "a530176ec42c4918888025332aa1f649": {
          "model_module": "@jupyter-widgets/controls",
          "model_name": "CheckboxModel",
          "model_module_version": "1.5.0",
          "state": {
            "_dom_classes": [],
            "_model_module": "@jupyter-widgets/controls",
            "_model_module_version": "1.5.0",
            "_model_name": "CheckboxModel",
            "_view_count": null,
            "_view_module": "@jupyter-widgets/controls",
            "_view_module_version": "1.5.0",
            "_view_name": "CheckboxView",
            "description": "GradientBoostingClassifier(n_estimators=172, random_state=0)",
            "description_tooltip": null,
            "disabled": false,
            "indent": false,
            "layout": "IPY_MODEL_71c66dda704748da91328288f002a0ed",
            "style": "IPY_MODEL_98f63e6f1e48414499d2a621c5f2b813",
            "value": false
          }
        },
        "71c66dda704748da91328288f002a0ed": {
          "model_module": "@jupyter-widgets/base",
          "model_name": "LayoutModel",
          "model_module_version": "1.2.0",
          "state": {
            "_model_module": "@jupyter-widgets/base",
            "_model_module_version": "1.2.0",
            "_model_name": "LayoutModel",
            "_view_count": null,
            "_view_module": "@jupyter-widgets/base",
            "_view_module_version": "1.2.0",
            "_view_name": "LayoutView",
            "align_content": null,
            "align_items": null,
            "align_self": null,
            "border": null,
            "bottom": null,
            "display": null,
            "flex": null,
            "flex_flow": null,
            "grid_area": null,
            "grid_auto_columns": null,
            "grid_auto_flow": null,
            "grid_auto_rows": null,
            "grid_column": null,
            "grid_gap": null,
            "grid_row": null,
            "grid_template_areas": null,
            "grid_template_columns": null,
            "grid_template_rows": null,
            "height": null,
            "justify_content": null,
            "justify_items": null,
            "left": null,
            "margin": null,
            "max_height": null,
            "max_width": null,
            "min_height": null,
            "min_width": null,
            "object_fit": null,
            "object_position": null,
            "order": null,
            "overflow": null,
            "overflow_x": null,
            "overflow_y": null,
            "padding": null,
            "right": null,
            "top": null,
            "visibility": null,
            "width": null
          }
        },
        "98f63e6f1e48414499d2a621c5f2b813": {
          "model_module": "@jupyter-widgets/controls",
          "model_name": "DescriptionStyleModel",
          "model_module_version": "1.5.0",
          "state": {
            "_model_module": "@jupyter-widgets/controls",
            "_model_module_version": "1.5.0",
            "_model_name": "DescriptionStyleModel",
            "_view_count": null,
            "_view_module": "@jupyter-widgets/base",
            "_view_module_version": "1.2.0",
            "_view_name": "StyleView",
            "description_width": ""
          }
        },
        "a5e4642e89464bce8d1fdd0130c04168": {
          "model_module": "@jupyter-widgets/controls",
          "model_name": "CheckboxModel",
          "model_module_version": "1.5.0",
          "state": {
            "_dom_classes": [],
            "_model_module": "@jupyter-widgets/controls",
            "_model_module_version": "1.5.0",
            "_model_name": "CheckboxModel",
            "_view_count": null,
            "_view_module": "@jupyter-widgets/controls",
            "_view_module_version": "1.5.0",
            "_view_name": "CheckboxView",
            "description": "GradientBoostingClassifier(max_depth=12, random_state=0)",
            "description_tooltip": null,
            "disabled": false,
            "indent": false,
            "layout": "IPY_MODEL_625772066c8e45838bc081785127fcc5",
            "style": "IPY_MODEL_adbe022eb2064cb3ad6da44e189bcee5",
            "value": false
          }
        },
        "625772066c8e45838bc081785127fcc5": {
          "model_module": "@jupyter-widgets/base",
          "model_name": "LayoutModel",
          "model_module_version": "1.2.0",
          "state": {
            "_model_module": "@jupyter-widgets/base",
            "_model_module_version": "1.2.0",
            "_model_name": "LayoutModel",
            "_view_count": null,
            "_view_module": "@jupyter-widgets/base",
            "_view_module_version": "1.2.0",
            "_view_name": "LayoutView",
            "align_content": null,
            "align_items": null,
            "align_self": null,
            "border": null,
            "bottom": null,
            "display": null,
            "flex": null,
            "flex_flow": null,
            "grid_area": null,
            "grid_auto_columns": null,
            "grid_auto_flow": null,
            "grid_auto_rows": null,
            "grid_column": null,
            "grid_gap": null,
            "grid_row": null,
            "grid_template_areas": null,
            "grid_template_columns": null,
            "grid_template_rows": null,
            "height": null,
            "justify_content": null,
            "justify_items": null,
            "left": null,
            "margin": null,
            "max_height": null,
            "max_width": null,
            "min_height": null,
            "min_width": null,
            "object_fit": null,
            "object_position": null,
            "order": null,
            "overflow": null,
            "overflow_x": null,
            "overflow_y": null,
            "padding": null,
            "right": null,
            "top": null,
            "visibility": null,
            "width": null
          }
        },
        "adbe022eb2064cb3ad6da44e189bcee5": {
          "model_module": "@jupyter-widgets/controls",
          "model_name": "DescriptionStyleModel",
          "model_module_version": "1.5.0",
          "state": {
            "_model_module": "@jupyter-widgets/controls",
            "_model_module_version": "1.5.0",
            "_model_name": "DescriptionStyleModel",
            "_view_count": null,
            "_view_module": "@jupyter-widgets/base",
            "_view_module_version": "1.2.0",
            "_view_name": "StyleView",
            "description_width": ""
          }
        },
        "61d6fcec9d014137bde34621d793f80f": {
          "model_module": "@jupyter-widgets/controls",
          "model_name": "CheckboxModel",
          "model_module_version": "1.5.0",
          "state": {
            "_dom_classes": [],
            "_model_module": "@jupyter-widgets/controls",
            "_model_module_version": "1.5.0",
            "_model_name": "CheckboxModel",
            "_view_count": null,
            "_view_module": "@jupyter-widgets/controls",
            "_view_module_version": "1.5.0",
            "_view_name": "CheckboxView",
            "description": "GradientBoostingClassifier(max_depth=12, n_estimators=172, random_state=0)",
            "description_tooltip": null,
            "disabled": false,
            "indent": false,
            "layout": "IPY_MODEL_9af41aaefded46aa9d245a351073c8c1",
            "style": "IPY_MODEL_a1b09f9f9d004fde9c995caaa8336fe9",
            "value": false
          }
        },
        "9af41aaefded46aa9d245a351073c8c1": {
          "model_module": "@jupyter-widgets/base",
          "model_name": "LayoutModel",
          "model_module_version": "1.2.0",
          "state": {
            "_model_module": "@jupyter-widgets/base",
            "_model_module_version": "1.2.0",
            "_model_name": "LayoutModel",
            "_view_count": null,
            "_view_module": "@jupyter-widgets/base",
            "_view_module_version": "1.2.0",
            "_view_name": "LayoutView",
            "align_content": null,
            "align_items": null,
            "align_self": null,
            "border": null,
            "bottom": null,
            "display": null,
            "flex": null,
            "flex_flow": null,
            "grid_area": null,
            "grid_auto_columns": null,
            "grid_auto_flow": null,
            "grid_auto_rows": null,
            "grid_column": null,
            "grid_gap": null,
            "grid_row": null,
            "grid_template_areas": null,
            "grid_template_columns": null,
            "grid_template_rows": null,
            "height": null,
            "justify_content": null,
            "justify_items": null,
            "left": null,
            "margin": null,
            "max_height": null,
            "max_width": null,
            "min_height": null,
            "min_width": null,
            "object_fit": null,
            "object_position": null,
            "order": null,
            "overflow": null,
            "overflow_x": null,
            "overflow_y": null,
            "padding": null,
            "right": null,
            "top": null,
            "visibility": null,
            "width": null
          }
        },
        "a1b09f9f9d004fde9c995caaa8336fe9": {
          "model_module": "@jupyter-widgets/controls",
          "model_name": "DescriptionStyleModel",
          "model_module_version": "1.5.0",
          "state": {
            "_model_module": "@jupyter-widgets/controls",
            "_model_module_version": "1.5.0",
            "_model_name": "DescriptionStyleModel",
            "_view_count": null,
            "_view_module": "@jupyter-widgets/base",
            "_view_module_version": "1.2.0",
            "_view_name": "StyleView",
            "description_width": ""
          }
        },
        "af03dffe83cc487ea32b743dcae10abe": {
          "model_module": "@jupyter-widgets/controls",
          "model_name": "CheckboxModel",
          "model_module_version": "1.5.0",
          "state": {
            "_dom_classes": [],
            "_model_module": "@jupyter-widgets/controls",
            "_model_module_version": "1.5.0",
            "_model_name": "CheckboxModel",
            "_view_count": null,
            "_view_module": "@jupyter-widgets/controls",
            "_view_module_version": "1.5.0",
            "_view_name": "CheckboxView",
            "description": "RandomForestClassifier(random_state=0)",
            "description_tooltip": null,
            "disabled": false,
            "indent": false,
            "layout": "IPY_MODEL_6d685301fce34451ac574672657e0dfa",
            "style": "IPY_MODEL_95848511bbe6413c88c0f9ad0b46b5dc",
            "value": false
          }
        },
        "6d685301fce34451ac574672657e0dfa": {
          "model_module": "@jupyter-widgets/base",
          "model_name": "LayoutModel",
          "model_module_version": "1.2.0",
          "state": {
            "_model_module": "@jupyter-widgets/base",
            "_model_module_version": "1.2.0",
            "_model_name": "LayoutModel",
            "_view_count": null,
            "_view_module": "@jupyter-widgets/base",
            "_view_module_version": "1.2.0",
            "_view_name": "LayoutView",
            "align_content": null,
            "align_items": null,
            "align_self": null,
            "border": null,
            "bottom": null,
            "display": null,
            "flex": null,
            "flex_flow": null,
            "grid_area": null,
            "grid_auto_columns": null,
            "grid_auto_flow": null,
            "grid_auto_rows": null,
            "grid_column": null,
            "grid_gap": null,
            "grid_row": null,
            "grid_template_areas": null,
            "grid_template_columns": null,
            "grid_template_rows": null,
            "height": null,
            "justify_content": null,
            "justify_items": null,
            "left": null,
            "margin": null,
            "max_height": null,
            "max_width": null,
            "min_height": null,
            "min_width": null,
            "object_fit": null,
            "object_position": null,
            "order": null,
            "overflow": null,
            "overflow_x": null,
            "overflow_y": null,
            "padding": null,
            "right": null,
            "top": null,
            "visibility": null,
            "width": null
          }
        },
        "95848511bbe6413c88c0f9ad0b46b5dc": {
          "model_module": "@jupyter-widgets/controls",
          "model_name": "DescriptionStyleModel",
          "model_module_version": "1.5.0",
          "state": {
            "_model_module": "@jupyter-widgets/controls",
            "_model_module_version": "1.5.0",
            "_model_name": "DescriptionStyleModel",
            "_view_count": null,
            "_view_module": "@jupyter-widgets/base",
            "_view_module_version": "1.2.0",
            "_view_name": "StyleView",
            "description_width": ""
          }
        },
        "b0d3f24151de44fe9a2a474c46897945": {
          "model_module": "@jupyter-widgets/controls",
          "model_name": "CheckboxModel",
          "model_module_version": "1.5.0",
          "state": {
            "_dom_classes": [],
            "_model_module": "@jupyter-widgets/controls",
            "_model_module_version": "1.5.0",
            "_model_name": "CheckboxModel",
            "_view_count": null,
            "_view_module": "@jupyter-widgets/controls",
            "_view_module_version": "1.5.0",
            "_view_name": "CheckboxView",
            "description": "RandomForestClassifier(n_estimators=61, random_state=0)",
            "description_tooltip": null,
            "disabled": false,
            "indent": false,
            "layout": "IPY_MODEL_3746f11c377f422eb7244a4eb4054011",
            "style": "IPY_MODEL_e5a137ea172d4965ac777cb9dca40169",
            "value": false
          }
        },
        "3746f11c377f422eb7244a4eb4054011": {
          "model_module": "@jupyter-widgets/base",
          "model_name": "LayoutModel",
          "model_module_version": "1.2.0",
          "state": {
            "_model_module": "@jupyter-widgets/base",
            "_model_module_version": "1.2.0",
            "_model_name": "LayoutModel",
            "_view_count": null,
            "_view_module": "@jupyter-widgets/base",
            "_view_module_version": "1.2.0",
            "_view_name": "LayoutView",
            "align_content": null,
            "align_items": null,
            "align_self": null,
            "border": null,
            "bottom": null,
            "display": null,
            "flex": null,
            "flex_flow": null,
            "grid_area": null,
            "grid_auto_columns": null,
            "grid_auto_flow": null,
            "grid_auto_rows": null,
            "grid_column": null,
            "grid_gap": null,
            "grid_row": null,
            "grid_template_areas": null,
            "grid_template_columns": null,
            "grid_template_rows": null,
            "height": null,
            "justify_content": null,
            "justify_items": null,
            "left": null,
            "margin": null,
            "max_height": null,
            "max_width": null,
            "min_height": null,
            "min_width": null,
            "object_fit": null,
            "object_position": null,
            "order": null,
            "overflow": null,
            "overflow_x": null,
            "overflow_y": null,
            "padding": null,
            "right": null,
            "top": null,
            "visibility": null,
            "width": null
          }
        },
        "e5a137ea172d4965ac777cb9dca40169": {
          "model_module": "@jupyter-widgets/controls",
          "model_name": "DescriptionStyleModel",
          "model_module_version": "1.5.0",
          "state": {
            "_model_module": "@jupyter-widgets/controls",
            "_model_module_version": "1.5.0",
            "_model_name": "DescriptionStyleModel",
            "_view_count": null,
            "_view_module": "@jupyter-widgets/base",
            "_view_module_version": "1.2.0",
            "_view_name": "StyleView",
            "description_width": ""
          }
        },
        "8a2f0fc91efa4f50a7ce1ebc5618f836": {
          "model_module": "@jupyter-widgets/controls",
          "model_name": "CheckboxModel",
          "model_module_version": "1.5.0",
          "state": {
            "_dom_classes": [],
            "_model_module": "@jupyter-widgets/controls",
            "_model_module_version": "1.5.0",
            "_model_name": "CheckboxModel",
            "_view_count": null,
            "_view_module": "@jupyter-widgets/controls",
            "_view_module_version": "1.5.0",
            "_view_name": "CheckboxView",
            "description": "RandomForestClassifier(max_depth=26, random_state=0)",
            "description_tooltip": null,
            "disabled": false,
            "indent": false,
            "layout": "IPY_MODEL_e79bc7c3c5bf4b45a426e9826b63dba8",
            "style": "IPY_MODEL_dbddc03aa08c414695b2ee5d5d91d681",
            "value": false
          }
        },
        "e79bc7c3c5bf4b45a426e9826b63dba8": {
          "model_module": "@jupyter-widgets/base",
          "model_name": "LayoutModel",
          "model_module_version": "1.2.0",
          "state": {
            "_model_module": "@jupyter-widgets/base",
            "_model_module_version": "1.2.0",
            "_model_name": "LayoutModel",
            "_view_count": null,
            "_view_module": "@jupyter-widgets/base",
            "_view_module_version": "1.2.0",
            "_view_name": "LayoutView",
            "align_content": null,
            "align_items": null,
            "align_self": null,
            "border": null,
            "bottom": null,
            "display": null,
            "flex": null,
            "flex_flow": null,
            "grid_area": null,
            "grid_auto_columns": null,
            "grid_auto_flow": null,
            "grid_auto_rows": null,
            "grid_column": null,
            "grid_gap": null,
            "grid_row": null,
            "grid_template_areas": null,
            "grid_template_columns": null,
            "grid_template_rows": null,
            "height": null,
            "justify_content": null,
            "justify_items": null,
            "left": null,
            "margin": null,
            "max_height": null,
            "max_width": null,
            "min_height": null,
            "min_width": null,
            "object_fit": null,
            "object_position": null,
            "order": null,
            "overflow": null,
            "overflow_x": null,
            "overflow_y": null,
            "padding": null,
            "right": null,
            "top": null,
            "visibility": null,
            "width": null
          }
        },
        "dbddc03aa08c414695b2ee5d5d91d681": {
          "model_module": "@jupyter-widgets/controls",
          "model_name": "DescriptionStyleModel",
          "model_module_version": "1.5.0",
          "state": {
            "_model_module": "@jupyter-widgets/controls",
            "_model_module_version": "1.5.0",
            "_model_name": "DescriptionStyleModel",
            "_view_count": null,
            "_view_module": "@jupyter-widgets/base",
            "_view_module_version": "1.2.0",
            "_view_name": "StyleView",
            "description_width": ""
          }
        },
        "e60c08308a1c4373b9029a8f46631b6f": {
          "model_module": "@jupyter-widgets/controls",
          "model_name": "CheckboxModel",
          "model_module_version": "1.5.0",
          "state": {
            "_dom_classes": [],
            "_model_module": "@jupyter-widgets/controls",
            "_model_module_version": "1.5.0",
            "_model_name": "CheckboxModel",
            "_view_count": null,
            "_view_module": "@jupyter-widgets/controls",
            "_view_module_version": "1.5.0",
            "_view_name": "CheckboxView",
            "description": "RandomForestClassifier(max_depth=26, n_estimators=61, random_state=0)",
            "description_tooltip": null,
            "disabled": false,
            "indent": false,
            "layout": "IPY_MODEL_d062e4c5f2fb4f0488a225a86330cc7c",
            "style": "IPY_MODEL_80af3f77d3344898808257758c6bd375",
            "value": false
          }
        },
        "d062e4c5f2fb4f0488a225a86330cc7c": {
          "model_module": "@jupyter-widgets/base",
          "model_name": "LayoutModel",
          "model_module_version": "1.2.0",
          "state": {
            "_model_module": "@jupyter-widgets/base",
            "_model_module_version": "1.2.0",
            "_model_name": "LayoutModel",
            "_view_count": null,
            "_view_module": "@jupyter-widgets/base",
            "_view_module_version": "1.2.0",
            "_view_name": "LayoutView",
            "align_content": null,
            "align_items": null,
            "align_self": null,
            "border": null,
            "bottom": null,
            "display": null,
            "flex": null,
            "flex_flow": null,
            "grid_area": null,
            "grid_auto_columns": null,
            "grid_auto_flow": null,
            "grid_auto_rows": null,
            "grid_column": null,
            "grid_gap": null,
            "grid_row": null,
            "grid_template_areas": null,
            "grid_template_columns": null,
            "grid_template_rows": null,
            "height": null,
            "justify_content": null,
            "justify_items": null,
            "left": null,
            "margin": null,
            "max_height": null,
            "max_width": null,
            "min_height": null,
            "min_width": null,
            "object_fit": null,
            "object_position": null,
            "order": null,
            "overflow": null,
            "overflow_x": null,
            "overflow_y": null,
            "padding": null,
            "right": null,
            "top": null,
            "visibility": null,
            "width": null
          }
        },
        "80af3f77d3344898808257758c6bd375": {
          "model_module": "@jupyter-widgets/controls",
          "model_name": "DescriptionStyleModel",
          "model_module_version": "1.5.0",
          "state": {
            "_model_module": "@jupyter-widgets/controls",
            "_model_module_version": "1.5.0",
            "_model_name": "DescriptionStyleModel",
            "_view_count": null,
            "_view_module": "@jupyter-widgets/base",
            "_view_module_version": "1.2.0",
            "_view_name": "StyleView",
            "description_width": ""
          }
        },
        "44ef094bde69470fa528e86993460a26": {
          "model_module": "@jupyter-widgets/controls",
          "model_name": "CheckboxModel",
          "model_module_version": "1.5.0",
          "state": {
            "_dom_classes": [],
            "_model_module": "@jupyter-widgets/controls",
            "_model_module_version": "1.5.0",
            "_model_name": "CheckboxModel",
            "_view_count": null,
            "_view_module": "@jupyter-widgets/controls",
            "_view_module_version": "1.5.0",
            "_view_name": "CheckboxView",
            "description": "XGBClassifier(objective='multi:softprob')",
            "description_tooltip": null,
            "disabled": false,
            "indent": false,
            "layout": "IPY_MODEL_14c1c1f5221e4eeeb85b588ba483ad84",
            "style": "IPY_MODEL_3a78998cb3bc449cbe7e1b369ce2f6f8",
            "value": false
          }
        },
        "14c1c1f5221e4eeeb85b588ba483ad84": {
          "model_module": "@jupyter-widgets/base",
          "model_name": "LayoutModel",
          "model_module_version": "1.2.0",
          "state": {
            "_model_module": "@jupyter-widgets/base",
            "_model_module_version": "1.2.0",
            "_model_name": "LayoutModel",
            "_view_count": null,
            "_view_module": "@jupyter-widgets/base",
            "_view_module_version": "1.2.0",
            "_view_name": "LayoutView",
            "align_content": null,
            "align_items": null,
            "align_self": null,
            "border": null,
            "bottom": null,
            "display": null,
            "flex": null,
            "flex_flow": null,
            "grid_area": null,
            "grid_auto_columns": null,
            "grid_auto_flow": null,
            "grid_auto_rows": null,
            "grid_column": null,
            "grid_gap": null,
            "grid_row": null,
            "grid_template_areas": null,
            "grid_template_columns": null,
            "grid_template_rows": null,
            "height": null,
            "justify_content": null,
            "justify_items": null,
            "left": null,
            "margin": null,
            "max_height": null,
            "max_width": null,
            "min_height": null,
            "min_width": null,
            "object_fit": null,
            "object_position": null,
            "order": null,
            "overflow": null,
            "overflow_x": null,
            "overflow_y": null,
            "padding": null,
            "right": null,
            "top": null,
            "visibility": null,
            "width": null
          }
        },
        "3a78998cb3bc449cbe7e1b369ce2f6f8": {
          "model_module": "@jupyter-widgets/controls",
          "model_name": "DescriptionStyleModel",
          "model_module_version": "1.5.0",
          "state": {
            "_model_module": "@jupyter-widgets/controls",
            "_model_module_version": "1.5.0",
            "_model_name": "DescriptionStyleModel",
            "_view_count": null,
            "_view_module": "@jupyter-widgets/base",
            "_view_module_version": "1.2.0",
            "_view_name": "StyleView",
            "description_width": ""
          }
        },
        "91f123f3df224f99a1c2203dd6ab95aa": {
          "model_module": "@jupyter-widgets/controls",
          "model_name": "CheckboxModel",
          "model_module_version": "1.5.0",
          "state": {
            "_dom_classes": [],
            "_model_module": "@jupyter-widgets/controls",
            "_model_module_version": "1.5.0",
            "_model_name": "CheckboxModel",
            "_view_count": null,
            "_view_module": "@jupyter-widgets/controls",
            "_view_module_version": "1.5.0",
            "_view_name": "CheckboxView",
            "description": "XGBClassifier(max_depth=8, objective='multi:softprob')",
            "description_tooltip": null,
            "disabled": false,
            "indent": false,
            "layout": "IPY_MODEL_ec962e401199474f86905894102f9ed3",
            "style": "IPY_MODEL_df394110799c4b66b8b569e8b33c0b1c",
            "value": false
          }
        },
        "ec962e401199474f86905894102f9ed3": {
          "model_module": "@jupyter-widgets/base",
          "model_name": "LayoutModel",
          "model_module_version": "1.2.0",
          "state": {
            "_model_module": "@jupyter-widgets/base",
            "_model_module_version": "1.2.0",
            "_model_name": "LayoutModel",
            "_view_count": null,
            "_view_module": "@jupyter-widgets/base",
            "_view_module_version": "1.2.0",
            "_view_name": "LayoutView",
            "align_content": null,
            "align_items": null,
            "align_self": null,
            "border": null,
            "bottom": null,
            "display": null,
            "flex": null,
            "flex_flow": null,
            "grid_area": null,
            "grid_auto_columns": null,
            "grid_auto_flow": null,
            "grid_auto_rows": null,
            "grid_column": null,
            "grid_gap": null,
            "grid_row": null,
            "grid_template_areas": null,
            "grid_template_columns": null,
            "grid_template_rows": null,
            "height": null,
            "justify_content": null,
            "justify_items": null,
            "left": null,
            "margin": null,
            "max_height": null,
            "max_width": null,
            "min_height": null,
            "min_width": null,
            "object_fit": null,
            "object_position": null,
            "order": null,
            "overflow": null,
            "overflow_x": null,
            "overflow_y": null,
            "padding": null,
            "right": null,
            "top": null,
            "visibility": null,
            "width": null
          }
        },
        "df394110799c4b66b8b569e8b33c0b1c": {
          "model_module": "@jupyter-widgets/controls",
          "model_name": "DescriptionStyleModel",
          "model_module_version": "1.5.0",
          "state": {
            "_model_module": "@jupyter-widgets/controls",
            "_model_module_version": "1.5.0",
            "_model_name": "DescriptionStyleModel",
            "_view_count": null,
            "_view_module": "@jupyter-widgets/base",
            "_view_module_version": "1.2.0",
            "_view_name": "StyleView",
            "description_width": ""
          }
        },
        "f74704fa3fc84ce380f1ee717da3998d": {
          "model_module": "@jupyter-widgets/controls",
          "model_name": "CheckboxModel",
          "model_module_version": "1.5.0",
          "state": {
            "_dom_classes": [],
            "_model_module": "@jupyter-widgets/controls",
            "_model_module_version": "1.5.0",
            "_model_name": "CheckboxModel",
            "_view_count": null,
            "_view_module": "@jupyter-widgets/controls",
            "_view_module_version": "1.5.0",
            "_view_name": "CheckboxView",
            "description": "XGBClassifier(n_estimators=223, objective='multi:softprob')",
            "description_tooltip": null,
            "disabled": false,
            "indent": false,
            "layout": "IPY_MODEL_e0071a24ed6c4967a6a6bf7456184ef9",
            "style": "IPY_MODEL_b9a8fae5e1df488193f9dfdec30a8848",
            "value": false
          }
        },
        "e0071a24ed6c4967a6a6bf7456184ef9": {
          "model_module": "@jupyter-widgets/base",
          "model_name": "LayoutModel",
          "model_module_version": "1.2.0",
          "state": {
            "_model_module": "@jupyter-widgets/base",
            "_model_module_version": "1.2.0",
            "_model_name": "LayoutModel",
            "_view_count": null,
            "_view_module": "@jupyter-widgets/base",
            "_view_module_version": "1.2.0",
            "_view_name": "LayoutView",
            "align_content": null,
            "align_items": null,
            "align_self": null,
            "border": null,
            "bottom": null,
            "display": null,
            "flex": null,
            "flex_flow": null,
            "grid_area": null,
            "grid_auto_columns": null,
            "grid_auto_flow": null,
            "grid_auto_rows": null,
            "grid_column": null,
            "grid_gap": null,
            "grid_row": null,
            "grid_template_areas": null,
            "grid_template_columns": null,
            "grid_template_rows": null,
            "height": null,
            "justify_content": null,
            "justify_items": null,
            "left": null,
            "margin": null,
            "max_height": null,
            "max_width": null,
            "min_height": null,
            "min_width": null,
            "object_fit": null,
            "object_position": null,
            "order": null,
            "overflow": null,
            "overflow_x": null,
            "overflow_y": null,
            "padding": null,
            "right": null,
            "top": null,
            "visibility": null,
            "width": null
          }
        },
        "b9a8fae5e1df488193f9dfdec30a8848": {
          "model_module": "@jupyter-widgets/controls",
          "model_name": "DescriptionStyleModel",
          "model_module_version": "1.5.0",
          "state": {
            "_model_module": "@jupyter-widgets/controls",
            "_model_module_version": "1.5.0",
            "_model_name": "DescriptionStyleModel",
            "_view_count": null,
            "_view_module": "@jupyter-widgets/base",
            "_view_module_version": "1.2.0",
            "_view_name": "StyleView",
            "description_width": ""
          }
        },
        "747d0b0f0cb74116943222b8ee6a606c": {
          "model_module": "@jupyter-widgets/controls",
          "model_name": "CheckboxModel",
          "model_module_version": "1.5.0",
          "state": {
            "_dom_classes": [],
            "_model_module": "@jupyter-widgets/controls",
            "_model_module_version": "1.5.0",
            "_model_name": "CheckboxModel",
            "_view_count": null,
            "_view_module": "@jupyter-widgets/controls",
            "_view_module_version": "1.5.0",
            "_view_name": "CheckboxView",
            "description": "XGBClassifier(max_depth=8, n_estimators=223, objective='multi:softprob')",
            "description_tooltip": null,
            "disabled": false,
            "indent": false,
            "layout": "IPY_MODEL_e227fcf2fcd343869074f222b822797e",
            "style": "IPY_MODEL_16391cab1c744a9b9fdb8fccccdc143e",
            "value": false
          }
        },
        "e227fcf2fcd343869074f222b822797e": {
          "model_module": "@jupyter-widgets/base",
          "model_name": "LayoutModel",
          "model_module_version": "1.2.0",
          "state": {
            "_model_module": "@jupyter-widgets/base",
            "_model_module_version": "1.2.0",
            "_model_name": "LayoutModel",
            "_view_count": null,
            "_view_module": "@jupyter-widgets/base",
            "_view_module_version": "1.2.0",
            "_view_name": "LayoutView",
            "align_content": null,
            "align_items": null,
            "align_self": null,
            "border": null,
            "bottom": null,
            "display": null,
            "flex": null,
            "flex_flow": null,
            "grid_area": null,
            "grid_auto_columns": null,
            "grid_auto_flow": null,
            "grid_auto_rows": null,
            "grid_column": null,
            "grid_gap": null,
            "grid_row": null,
            "grid_template_areas": null,
            "grid_template_columns": null,
            "grid_template_rows": null,
            "height": null,
            "justify_content": null,
            "justify_items": null,
            "left": null,
            "margin": null,
            "max_height": null,
            "max_width": null,
            "min_height": null,
            "min_width": null,
            "object_fit": null,
            "object_position": null,
            "order": null,
            "overflow": null,
            "overflow_x": null,
            "overflow_y": null,
            "padding": null,
            "right": null,
            "top": null,
            "visibility": null,
            "width": null
          }
        },
        "16391cab1c744a9b9fdb8fccccdc143e": {
          "model_module": "@jupyter-widgets/controls",
          "model_name": "DescriptionStyleModel",
          "model_module_version": "1.5.0",
          "state": {
            "_model_module": "@jupyter-widgets/controls",
            "_model_module_version": "1.5.0",
            "_model_name": "DescriptionStyleModel",
            "_view_count": null,
            "_view_module": "@jupyter-widgets/base",
            "_view_module_version": "1.2.0",
            "_view_name": "StyleView",
            "description_width": ""
          }
        },
        "c0c698641482431892ca0a38ec368a83": {
          "model_module": "@jupyter-widgets/controls",
          "model_name": "CheckboxModel",
          "model_module_version": "1.5.0",
          "state": {
            "_dom_classes": [],
            "_model_module": "@jupyter-widgets/controls",
            "_model_module_version": "1.5.0",
            "_model_name": "CheckboxModel",
            "_view_count": null,
            "_view_module": "@jupyter-widgets/controls",
            "_view_module_version": "1.5.0",
            "_view_name": "CheckboxView",
            "description": "KNeighborsClassifier()",
            "description_tooltip": null,
            "disabled": false,
            "indent": false,
            "layout": "IPY_MODEL_6389370ba7f64d2a92893ff50cbfb2eb",
            "style": "IPY_MODEL_62f70d0a78b34c998288b739785cd4bb",
            "value": false
          }
        },
        "6389370ba7f64d2a92893ff50cbfb2eb": {
          "model_module": "@jupyter-widgets/base",
          "model_name": "LayoutModel",
          "model_module_version": "1.2.0",
          "state": {
            "_model_module": "@jupyter-widgets/base",
            "_model_module_version": "1.2.0",
            "_model_name": "LayoutModel",
            "_view_count": null,
            "_view_module": "@jupyter-widgets/base",
            "_view_module_version": "1.2.0",
            "_view_name": "LayoutView",
            "align_content": null,
            "align_items": null,
            "align_self": null,
            "border": null,
            "bottom": null,
            "display": null,
            "flex": null,
            "flex_flow": null,
            "grid_area": null,
            "grid_auto_columns": null,
            "grid_auto_flow": null,
            "grid_auto_rows": null,
            "grid_column": null,
            "grid_gap": null,
            "grid_row": null,
            "grid_template_areas": null,
            "grid_template_columns": null,
            "grid_template_rows": null,
            "height": null,
            "justify_content": null,
            "justify_items": null,
            "left": null,
            "margin": null,
            "max_height": null,
            "max_width": null,
            "min_height": null,
            "min_width": null,
            "object_fit": null,
            "object_position": null,
            "order": null,
            "overflow": null,
            "overflow_x": null,
            "overflow_y": null,
            "padding": null,
            "right": null,
            "top": null,
            "visibility": null,
            "width": null
          }
        },
        "62f70d0a78b34c998288b739785cd4bb": {
          "model_module": "@jupyter-widgets/controls",
          "model_name": "DescriptionStyleModel",
          "model_module_version": "1.5.0",
          "state": {
            "_model_module": "@jupyter-widgets/controls",
            "_model_module_version": "1.5.0",
            "_model_name": "DescriptionStyleModel",
            "_view_count": null,
            "_view_module": "@jupyter-widgets/base",
            "_view_module_version": "1.2.0",
            "_view_name": "StyleView",
            "description_width": ""
          }
        },
        "cd5fa702ff9a4220b70caf82550f28d4": {
          "model_module": "@jupyter-widgets/controls",
          "model_name": "CheckboxModel",
          "model_module_version": "1.5.0",
          "state": {
            "_dom_classes": [],
            "_model_module": "@jupyter-widgets/controls",
            "_model_module_version": "1.5.0",
            "_model_name": "CheckboxModel",
            "_view_count": null,
            "_view_module": "@jupyter-widgets/controls",
            "_view_module_version": "1.5.0",
            "_view_name": "CheckboxView",
            "description": "KNeighborsClassifier(n_neighbors=1)",
            "description_tooltip": null,
            "disabled": false,
            "indent": false,
            "layout": "IPY_MODEL_afe1287f43a84b87b621efde5d647846",
            "style": "IPY_MODEL_c53a4c509add4a77bc4164eedbcbd2cd",
            "value": false
          }
        },
        "afe1287f43a84b87b621efde5d647846": {
          "model_module": "@jupyter-widgets/base",
          "model_name": "LayoutModel",
          "model_module_version": "1.2.0",
          "state": {
            "_model_module": "@jupyter-widgets/base",
            "_model_module_version": "1.2.0",
            "_model_name": "LayoutModel",
            "_view_count": null,
            "_view_module": "@jupyter-widgets/base",
            "_view_module_version": "1.2.0",
            "_view_name": "LayoutView",
            "align_content": null,
            "align_items": null,
            "align_self": null,
            "border": null,
            "bottom": null,
            "display": null,
            "flex": null,
            "flex_flow": null,
            "grid_area": null,
            "grid_auto_columns": null,
            "grid_auto_flow": null,
            "grid_auto_rows": null,
            "grid_column": null,
            "grid_gap": null,
            "grid_row": null,
            "grid_template_areas": null,
            "grid_template_columns": null,
            "grid_template_rows": null,
            "height": null,
            "justify_content": null,
            "justify_items": null,
            "left": null,
            "margin": null,
            "max_height": null,
            "max_width": null,
            "min_height": null,
            "min_width": null,
            "object_fit": null,
            "object_position": null,
            "order": null,
            "overflow": null,
            "overflow_x": null,
            "overflow_y": null,
            "padding": null,
            "right": null,
            "top": null,
            "visibility": null,
            "width": null
          }
        },
        "c53a4c509add4a77bc4164eedbcbd2cd": {
          "model_module": "@jupyter-widgets/controls",
          "model_name": "DescriptionStyleModel",
          "model_module_version": "1.5.0",
          "state": {
            "_model_module": "@jupyter-widgets/controls",
            "_model_module_version": "1.5.0",
            "_model_name": "DescriptionStyleModel",
            "_view_count": null,
            "_view_module": "@jupyter-widgets/base",
            "_view_module_version": "1.2.0",
            "_view_name": "StyleView",
            "description_width": ""
          }
        },
        "1ea5a05d50234d648ac23c636afa4ed9": {
          "model_module": "@jupyter-widgets/controls",
          "model_name": "CheckboxModel",
          "model_module_version": "1.5.0",
          "state": {
            "_dom_classes": [],
            "_model_module": "@jupyter-widgets/controls",
            "_model_module_version": "1.5.0",
            "_model_name": "CheckboxModel",
            "_view_count": null,
            "_view_module": "@jupyter-widgets/controls",
            "_view_module_version": "1.5.0",
            "_view_name": "CheckboxView",
            "description": "GaussianNB()",
            "description_tooltip": null,
            "disabled": false,
            "indent": false,
            "layout": "IPY_MODEL_3c18eec012a7418a811f71edddec970c",
            "style": "IPY_MODEL_e881ef7da594463095949b3ee3b767a6",
            "value": false
          }
        },
        "3c18eec012a7418a811f71edddec970c": {
          "model_module": "@jupyter-widgets/base",
          "model_name": "LayoutModel",
          "model_module_version": "1.2.0",
          "state": {
            "_model_module": "@jupyter-widgets/base",
            "_model_module_version": "1.2.0",
            "_model_name": "LayoutModel",
            "_view_count": null,
            "_view_module": "@jupyter-widgets/base",
            "_view_module_version": "1.2.0",
            "_view_name": "LayoutView",
            "align_content": null,
            "align_items": null,
            "align_self": null,
            "border": null,
            "bottom": null,
            "display": null,
            "flex": null,
            "flex_flow": null,
            "grid_area": null,
            "grid_auto_columns": null,
            "grid_auto_flow": null,
            "grid_auto_rows": null,
            "grid_column": null,
            "grid_gap": null,
            "grid_row": null,
            "grid_template_areas": null,
            "grid_template_columns": null,
            "grid_template_rows": null,
            "height": null,
            "justify_content": null,
            "justify_items": null,
            "left": null,
            "margin": null,
            "max_height": null,
            "max_width": null,
            "min_height": null,
            "min_width": null,
            "object_fit": null,
            "object_position": null,
            "order": null,
            "overflow": null,
            "overflow_x": null,
            "overflow_y": null,
            "padding": null,
            "right": null,
            "top": null,
            "visibility": null,
            "width": null
          }
        },
        "e881ef7da594463095949b3ee3b767a6": {
          "model_module": "@jupyter-widgets/controls",
          "model_name": "DescriptionStyleModel",
          "model_module_version": "1.5.0",
          "state": {
            "_model_module": "@jupyter-widgets/controls",
            "_model_module_version": "1.5.0",
            "_model_name": "DescriptionStyleModel",
            "_view_count": null,
            "_view_module": "@jupyter-widgets/base",
            "_view_module_version": "1.2.0",
            "_view_name": "StyleView",
            "description_width": ""
          }
        },
        "7b027b16a3da463dbb517de43b3d5d2e": {
          "model_module": "@jupyter-widgets/controls",
          "model_name": "CheckboxModel",
          "model_module_version": "1.5.0",
          "state": {
            "_dom_classes": [],
            "_model_module": "@jupyter-widgets/controls",
            "_model_module_version": "1.5.0",
            "_model_name": "CheckboxModel",
            "_view_count": null,
            "_view_module": "@jupyter-widgets/controls",
            "_view_module_version": "1.5.0",
            "_view_name": "CheckboxView",
            "description": "AdaBoostClassifier(random_state=0)",
            "description_tooltip": null,
            "disabled": false,
            "indent": false,
            "layout": "IPY_MODEL_9f8a844214984771a64d7454314d83d5",
            "style": "IPY_MODEL_c7aab73a6f444fceb7c4bbc3d645582f",
            "value": false
          }
        },
        "9f8a844214984771a64d7454314d83d5": {
          "model_module": "@jupyter-widgets/base",
          "model_name": "LayoutModel",
          "model_module_version": "1.2.0",
          "state": {
            "_model_module": "@jupyter-widgets/base",
            "_model_module_version": "1.2.0",
            "_model_name": "LayoutModel",
            "_view_count": null,
            "_view_module": "@jupyter-widgets/base",
            "_view_module_version": "1.2.0",
            "_view_name": "LayoutView",
            "align_content": null,
            "align_items": null,
            "align_self": null,
            "border": null,
            "bottom": null,
            "display": null,
            "flex": null,
            "flex_flow": null,
            "grid_area": null,
            "grid_auto_columns": null,
            "grid_auto_flow": null,
            "grid_auto_rows": null,
            "grid_column": null,
            "grid_gap": null,
            "grid_row": null,
            "grid_template_areas": null,
            "grid_template_columns": null,
            "grid_template_rows": null,
            "height": null,
            "justify_content": null,
            "justify_items": null,
            "left": null,
            "margin": null,
            "max_height": null,
            "max_width": null,
            "min_height": null,
            "min_width": null,
            "object_fit": null,
            "object_position": null,
            "order": null,
            "overflow": null,
            "overflow_x": null,
            "overflow_y": null,
            "padding": null,
            "right": null,
            "top": null,
            "visibility": null,
            "width": null
          }
        },
        "c7aab73a6f444fceb7c4bbc3d645582f": {
          "model_module": "@jupyter-widgets/controls",
          "model_name": "DescriptionStyleModel",
          "model_module_version": "1.5.0",
          "state": {
            "_model_module": "@jupyter-widgets/controls",
            "_model_module_version": "1.5.0",
            "_model_name": "DescriptionStyleModel",
            "_view_count": null,
            "_view_module": "@jupyter-widgets/base",
            "_view_module_version": "1.2.0",
            "_view_name": "StyleView",
            "description_width": ""
          }
        },
        "c662c522990e4615ab7ed1f467784a4e": {
          "model_module": "@jupyter-widgets/controls",
          "model_name": "CheckboxModel",
          "model_module_version": "1.5.0",
          "state": {
            "_dom_classes": [],
            "_model_module": "@jupyter-widgets/controls",
            "_model_module_version": "1.5.0",
            "_model_name": "CheckboxModel",
            "_view_count": null,
            "_view_module": "@jupyter-widgets/controls",
            "_view_module_version": "1.5.0",
            "_view_name": "CheckboxView",
            "description": "AdaBoostClassifier(n_estimators=75, random_state=0)",
            "description_tooltip": null,
            "disabled": false,
            "indent": false,
            "layout": "IPY_MODEL_b5c85e11a800455eb8e31f54a9f9bf34",
            "style": "IPY_MODEL_dd69fac2970940888be7ce9321e1161d",
            "value": false
          }
        },
        "b5c85e11a800455eb8e31f54a9f9bf34": {
          "model_module": "@jupyter-widgets/base",
          "model_name": "LayoutModel",
          "model_module_version": "1.2.0",
          "state": {
            "_model_module": "@jupyter-widgets/base",
            "_model_module_version": "1.2.0",
            "_model_name": "LayoutModel",
            "_view_count": null,
            "_view_module": "@jupyter-widgets/base",
            "_view_module_version": "1.2.0",
            "_view_name": "LayoutView",
            "align_content": null,
            "align_items": null,
            "align_self": null,
            "border": null,
            "bottom": null,
            "display": null,
            "flex": null,
            "flex_flow": null,
            "grid_area": null,
            "grid_auto_columns": null,
            "grid_auto_flow": null,
            "grid_auto_rows": null,
            "grid_column": null,
            "grid_gap": null,
            "grid_row": null,
            "grid_template_areas": null,
            "grid_template_columns": null,
            "grid_template_rows": null,
            "height": null,
            "justify_content": null,
            "justify_items": null,
            "left": null,
            "margin": null,
            "max_height": null,
            "max_width": null,
            "min_height": null,
            "min_width": null,
            "object_fit": null,
            "object_position": null,
            "order": null,
            "overflow": null,
            "overflow_x": null,
            "overflow_y": null,
            "padding": null,
            "right": null,
            "top": null,
            "visibility": null,
            "width": null
          }
        },
        "dd69fac2970940888be7ce9321e1161d": {
          "model_module": "@jupyter-widgets/controls",
          "model_name": "DescriptionStyleModel",
          "model_module_version": "1.5.0",
          "state": {
            "_model_module": "@jupyter-widgets/controls",
            "_model_module_version": "1.5.0",
            "_model_name": "DescriptionStyleModel",
            "_view_count": null,
            "_view_module": "@jupyter-widgets/base",
            "_view_module_version": "1.2.0",
            "_view_name": "StyleView",
            "description_width": ""
          }
        },
        "e271498fb12946108339cdd1445b7afd": {
          "model_module": "@jupyter-widgets/controls",
          "model_name": "CheckboxModel",
          "model_module_version": "1.5.0",
          "state": {
            "_dom_classes": [],
            "_model_module": "@jupyter-widgets/controls",
            "_model_module_version": "1.5.0",
            "_model_name": "CheckboxModel",
            "_view_count": null,
            "_view_module": "@jupyter-widgets/controls",
            "_view_module_version": "1.5.0",
            "_view_name": "CheckboxView",
            "description": "GradientBoostingClassifier(random_state=0)",
            "description_tooltip": null,
            "disabled": false,
            "indent": false,
            "layout": "IPY_MODEL_a6768acaf9804296b47b6cda8ae29af3",
            "style": "IPY_MODEL_8c569c16827942d988e0066292f465c1",
            "value": false
          }
        },
        "a6768acaf9804296b47b6cda8ae29af3": {
          "model_module": "@jupyter-widgets/base",
          "model_name": "LayoutModel",
          "model_module_version": "1.2.0",
          "state": {
            "_model_module": "@jupyter-widgets/base",
            "_model_module_version": "1.2.0",
            "_model_name": "LayoutModel",
            "_view_count": null,
            "_view_module": "@jupyter-widgets/base",
            "_view_module_version": "1.2.0",
            "_view_name": "LayoutView",
            "align_content": null,
            "align_items": null,
            "align_self": null,
            "border": null,
            "bottom": null,
            "display": null,
            "flex": null,
            "flex_flow": null,
            "grid_area": null,
            "grid_auto_columns": null,
            "grid_auto_flow": null,
            "grid_auto_rows": null,
            "grid_column": null,
            "grid_gap": null,
            "grid_row": null,
            "grid_template_areas": null,
            "grid_template_columns": null,
            "grid_template_rows": null,
            "height": null,
            "justify_content": null,
            "justify_items": null,
            "left": null,
            "margin": null,
            "max_height": null,
            "max_width": null,
            "min_height": null,
            "min_width": null,
            "object_fit": null,
            "object_position": null,
            "order": null,
            "overflow": null,
            "overflow_x": null,
            "overflow_y": null,
            "padding": null,
            "right": null,
            "top": null,
            "visibility": null,
            "width": null
          }
        },
        "8c569c16827942d988e0066292f465c1": {
          "model_module": "@jupyter-widgets/controls",
          "model_name": "DescriptionStyleModel",
          "model_module_version": "1.5.0",
          "state": {
            "_model_module": "@jupyter-widgets/controls",
            "_model_module_version": "1.5.0",
            "_model_name": "DescriptionStyleModel",
            "_view_count": null,
            "_view_module": "@jupyter-widgets/base",
            "_view_module_version": "1.2.0",
            "_view_name": "StyleView",
            "description_width": ""
          }
        },
        "ae337167cebc45e39fdb4f57c41189e9": {
          "model_module": "@jupyter-widgets/controls",
          "model_name": "CheckboxModel",
          "model_module_version": "1.5.0",
          "state": {
            "_dom_classes": [],
            "_model_module": "@jupyter-widgets/controls",
            "_model_module_version": "1.5.0",
            "_model_name": "CheckboxModel",
            "_view_count": null,
            "_view_module": "@jupyter-widgets/controls",
            "_view_module_version": "1.5.0",
            "_view_name": "CheckboxView",
            "description": "GradientBoostingClassifier(n_estimators=172, random_state=0)",
            "description_tooltip": null,
            "disabled": false,
            "indent": false,
            "layout": "IPY_MODEL_40d627b4be6c432b95e58f900b87beb6",
            "style": "IPY_MODEL_7b4512e5863e4ad188d7c542d470dd1e",
            "value": false
          }
        },
        "40d627b4be6c432b95e58f900b87beb6": {
          "model_module": "@jupyter-widgets/base",
          "model_name": "LayoutModel",
          "model_module_version": "1.2.0",
          "state": {
            "_model_module": "@jupyter-widgets/base",
            "_model_module_version": "1.2.0",
            "_model_name": "LayoutModel",
            "_view_count": null,
            "_view_module": "@jupyter-widgets/base",
            "_view_module_version": "1.2.0",
            "_view_name": "LayoutView",
            "align_content": null,
            "align_items": null,
            "align_self": null,
            "border": null,
            "bottom": null,
            "display": null,
            "flex": null,
            "flex_flow": null,
            "grid_area": null,
            "grid_auto_columns": null,
            "grid_auto_flow": null,
            "grid_auto_rows": null,
            "grid_column": null,
            "grid_gap": null,
            "grid_row": null,
            "grid_template_areas": null,
            "grid_template_columns": null,
            "grid_template_rows": null,
            "height": null,
            "justify_content": null,
            "justify_items": null,
            "left": null,
            "margin": null,
            "max_height": null,
            "max_width": null,
            "min_height": null,
            "min_width": null,
            "object_fit": null,
            "object_position": null,
            "order": null,
            "overflow": null,
            "overflow_x": null,
            "overflow_y": null,
            "padding": null,
            "right": null,
            "top": null,
            "visibility": null,
            "width": null
          }
        },
        "7b4512e5863e4ad188d7c542d470dd1e": {
          "model_module": "@jupyter-widgets/controls",
          "model_name": "DescriptionStyleModel",
          "model_module_version": "1.5.0",
          "state": {
            "_model_module": "@jupyter-widgets/controls",
            "_model_module_version": "1.5.0",
            "_model_name": "DescriptionStyleModel",
            "_view_count": null,
            "_view_module": "@jupyter-widgets/base",
            "_view_module_version": "1.2.0",
            "_view_name": "StyleView",
            "description_width": ""
          }
        },
        "9ef3b918d94f4feab25a105c02f2d454": {
          "model_module": "@jupyter-widgets/controls",
          "model_name": "CheckboxModel",
          "model_module_version": "1.5.0",
          "state": {
            "_dom_classes": [],
            "_model_module": "@jupyter-widgets/controls",
            "_model_module_version": "1.5.0",
            "_model_name": "CheckboxModel",
            "_view_count": null,
            "_view_module": "@jupyter-widgets/controls",
            "_view_module_version": "1.5.0",
            "_view_name": "CheckboxView",
            "description": "GradientBoostingClassifier(max_depth=12, random_state=0)",
            "description_tooltip": null,
            "disabled": false,
            "indent": false,
            "layout": "IPY_MODEL_fb55dc1f6eb64e3db41ed581f9adc06c",
            "style": "IPY_MODEL_8b2013a481184f2781b9032ff9d8af31",
            "value": false
          }
        },
        "fb55dc1f6eb64e3db41ed581f9adc06c": {
          "model_module": "@jupyter-widgets/base",
          "model_name": "LayoutModel",
          "model_module_version": "1.2.0",
          "state": {
            "_model_module": "@jupyter-widgets/base",
            "_model_module_version": "1.2.0",
            "_model_name": "LayoutModel",
            "_view_count": null,
            "_view_module": "@jupyter-widgets/base",
            "_view_module_version": "1.2.0",
            "_view_name": "LayoutView",
            "align_content": null,
            "align_items": null,
            "align_self": null,
            "border": null,
            "bottom": null,
            "display": null,
            "flex": null,
            "flex_flow": null,
            "grid_area": null,
            "grid_auto_columns": null,
            "grid_auto_flow": null,
            "grid_auto_rows": null,
            "grid_column": null,
            "grid_gap": null,
            "grid_row": null,
            "grid_template_areas": null,
            "grid_template_columns": null,
            "grid_template_rows": null,
            "height": null,
            "justify_content": null,
            "justify_items": null,
            "left": null,
            "margin": null,
            "max_height": null,
            "max_width": null,
            "min_height": null,
            "min_width": null,
            "object_fit": null,
            "object_position": null,
            "order": null,
            "overflow": null,
            "overflow_x": null,
            "overflow_y": null,
            "padding": null,
            "right": null,
            "top": null,
            "visibility": null,
            "width": null
          }
        },
        "8b2013a481184f2781b9032ff9d8af31": {
          "model_module": "@jupyter-widgets/controls",
          "model_name": "DescriptionStyleModel",
          "model_module_version": "1.5.0",
          "state": {
            "_model_module": "@jupyter-widgets/controls",
            "_model_module_version": "1.5.0",
            "_model_name": "DescriptionStyleModel",
            "_view_count": null,
            "_view_module": "@jupyter-widgets/base",
            "_view_module_version": "1.2.0",
            "_view_name": "StyleView",
            "description_width": ""
          }
        },
        "497cb262b05f43178f8deb613624ad18": {
          "model_module": "@jupyter-widgets/controls",
          "model_name": "CheckboxModel",
          "model_module_version": "1.5.0",
          "state": {
            "_dom_classes": [],
            "_model_module": "@jupyter-widgets/controls",
            "_model_module_version": "1.5.0",
            "_model_name": "CheckboxModel",
            "_view_count": null,
            "_view_module": "@jupyter-widgets/controls",
            "_view_module_version": "1.5.0",
            "_view_name": "CheckboxView",
            "description": "GradientBoostingClassifier(max_depth=12, n_estimators=172, random_state=0)",
            "description_tooltip": null,
            "disabled": false,
            "indent": false,
            "layout": "IPY_MODEL_5a2867dfd8e944c583247bd60bb5d4ef",
            "style": "IPY_MODEL_e30342d7be424dc187003475a6e513c0",
            "value": false
          }
        },
        "5a2867dfd8e944c583247bd60bb5d4ef": {
          "model_module": "@jupyter-widgets/base",
          "model_name": "LayoutModel",
          "model_module_version": "1.2.0",
          "state": {
            "_model_module": "@jupyter-widgets/base",
            "_model_module_version": "1.2.0",
            "_model_name": "LayoutModel",
            "_view_count": null,
            "_view_module": "@jupyter-widgets/base",
            "_view_module_version": "1.2.0",
            "_view_name": "LayoutView",
            "align_content": null,
            "align_items": null,
            "align_self": null,
            "border": null,
            "bottom": null,
            "display": null,
            "flex": null,
            "flex_flow": null,
            "grid_area": null,
            "grid_auto_columns": null,
            "grid_auto_flow": null,
            "grid_auto_rows": null,
            "grid_column": null,
            "grid_gap": null,
            "grid_row": null,
            "grid_template_areas": null,
            "grid_template_columns": null,
            "grid_template_rows": null,
            "height": null,
            "justify_content": null,
            "justify_items": null,
            "left": null,
            "margin": null,
            "max_height": null,
            "max_width": null,
            "min_height": null,
            "min_width": null,
            "object_fit": null,
            "object_position": null,
            "order": null,
            "overflow": null,
            "overflow_x": null,
            "overflow_y": null,
            "padding": null,
            "right": null,
            "top": null,
            "visibility": null,
            "width": null
          }
        },
        "e30342d7be424dc187003475a6e513c0": {
          "model_module": "@jupyter-widgets/controls",
          "model_name": "DescriptionStyleModel",
          "model_module_version": "1.5.0",
          "state": {
            "_model_module": "@jupyter-widgets/controls",
            "_model_module_version": "1.5.0",
            "_model_name": "DescriptionStyleModel",
            "_view_count": null,
            "_view_module": "@jupyter-widgets/base",
            "_view_module_version": "1.2.0",
            "_view_name": "StyleView",
            "description_width": ""
          }
        },
        "c594d4d8852e429b88789583d62740bf": {
          "model_module": "@jupyter-widgets/controls",
          "model_name": "CheckboxModel",
          "model_module_version": "1.5.0",
          "state": {
            "_dom_classes": [],
            "_model_module": "@jupyter-widgets/controls",
            "_model_module_version": "1.5.0",
            "_model_name": "CheckboxModel",
            "_view_count": null,
            "_view_module": "@jupyter-widgets/controls",
            "_view_module_version": "1.5.0",
            "_view_name": "CheckboxView",
            "description": "RandomForestClassifier(random_state=0)",
            "description_tooltip": null,
            "disabled": false,
            "indent": false,
            "layout": "IPY_MODEL_524a5d4698c74c44b0e7dfc2f50c9a4e",
            "style": "IPY_MODEL_56e9bba80d614ed28b57fd8cada90aaa",
            "value": false
          }
        },
        "524a5d4698c74c44b0e7dfc2f50c9a4e": {
          "model_module": "@jupyter-widgets/base",
          "model_name": "LayoutModel",
          "model_module_version": "1.2.0",
          "state": {
            "_model_module": "@jupyter-widgets/base",
            "_model_module_version": "1.2.0",
            "_model_name": "LayoutModel",
            "_view_count": null,
            "_view_module": "@jupyter-widgets/base",
            "_view_module_version": "1.2.0",
            "_view_name": "LayoutView",
            "align_content": null,
            "align_items": null,
            "align_self": null,
            "border": null,
            "bottom": null,
            "display": null,
            "flex": null,
            "flex_flow": null,
            "grid_area": null,
            "grid_auto_columns": null,
            "grid_auto_flow": null,
            "grid_auto_rows": null,
            "grid_column": null,
            "grid_gap": null,
            "grid_row": null,
            "grid_template_areas": null,
            "grid_template_columns": null,
            "grid_template_rows": null,
            "height": null,
            "justify_content": null,
            "justify_items": null,
            "left": null,
            "margin": null,
            "max_height": null,
            "max_width": null,
            "min_height": null,
            "min_width": null,
            "object_fit": null,
            "object_position": null,
            "order": null,
            "overflow": null,
            "overflow_x": null,
            "overflow_y": null,
            "padding": null,
            "right": null,
            "top": null,
            "visibility": null,
            "width": null
          }
        },
        "56e9bba80d614ed28b57fd8cada90aaa": {
          "model_module": "@jupyter-widgets/controls",
          "model_name": "DescriptionStyleModel",
          "model_module_version": "1.5.0",
          "state": {
            "_model_module": "@jupyter-widgets/controls",
            "_model_module_version": "1.5.0",
            "_model_name": "DescriptionStyleModel",
            "_view_count": null,
            "_view_module": "@jupyter-widgets/base",
            "_view_module_version": "1.2.0",
            "_view_name": "StyleView",
            "description_width": ""
          }
        },
        "b24d8129f18d4da9bb5e102122bf6370": {
          "model_module": "@jupyter-widgets/controls",
          "model_name": "CheckboxModel",
          "model_module_version": "1.5.0",
          "state": {
            "_dom_classes": [],
            "_model_module": "@jupyter-widgets/controls",
            "_model_module_version": "1.5.0",
            "_model_name": "CheckboxModel",
            "_view_count": null,
            "_view_module": "@jupyter-widgets/controls",
            "_view_module_version": "1.5.0",
            "_view_name": "CheckboxView",
            "description": "RandomForestClassifier(n_estimators=61, random_state=0)",
            "description_tooltip": null,
            "disabled": false,
            "indent": false,
            "layout": "IPY_MODEL_6973a413b54f46549214788e66042b33",
            "style": "IPY_MODEL_00ec923d4ca14343a6efbf004aa06ea2",
            "value": false
          }
        },
        "6973a413b54f46549214788e66042b33": {
          "model_module": "@jupyter-widgets/base",
          "model_name": "LayoutModel",
          "model_module_version": "1.2.0",
          "state": {
            "_model_module": "@jupyter-widgets/base",
            "_model_module_version": "1.2.0",
            "_model_name": "LayoutModel",
            "_view_count": null,
            "_view_module": "@jupyter-widgets/base",
            "_view_module_version": "1.2.0",
            "_view_name": "LayoutView",
            "align_content": null,
            "align_items": null,
            "align_self": null,
            "border": null,
            "bottom": null,
            "display": null,
            "flex": null,
            "flex_flow": null,
            "grid_area": null,
            "grid_auto_columns": null,
            "grid_auto_flow": null,
            "grid_auto_rows": null,
            "grid_column": null,
            "grid_gap": null,
            "grid_row": null,
            "grid_template_areas": null,
            "grid_template_columns": null,
            "grid_template_rows": null,
            "height": null,
            "justify_content": null,
            "justify_items": null,
            "left": null,
            "margin": null,
            "max_height": null,
            "max_width": null,
            "min_height": null,
            "min_width": null,
            "object_fit": null,
            "object_position": null,
            "order": null,
            "overflow": null,
            "overflow_x": null,
            "overflow_y": null,
            "padding": null,
            "right": null,
            "top": null,
            "visibility": null,
            "width": null
          }
        },
        "00ec923d4ca14343a6efbf004aa06ea2": {
          "model_module": "@jupyter-widgets/controls",
          "model_name": "DescriptionStyleModel",
          "model_module_version": "1.5.0",
          "state": {
            "_model_module": "@jupyter-widgets/controls",
            "_model_module_version": "1.5.0",
            "_model_name": "DescriptionStyleModel",
            "_view_count": null,
            "_view_module": "@jupyter-widgets/base",
            "_view_module_version": "1.2.0",
            "_view_name": "StyleView",
            "description_width": ""
          }
        },
        "6f8ef783c5014526b77f0e6703b61125": {
          "model_module": "@jupyter-widgets/controls",
          "model_name": "CheckboxModel",
          "model_module_version": "1.5.0",
          "state": {
            "_dom_classes": [],
            "_model_module": "@jupyter-widgets/controls",
            "_model_module_version": "1.5.0",
            "_model_name": "CheckboxModel",
            "_view_count": null,
            "_view_module": "@jupyter-widgets/controls",
            "_view_module_version": "1.5.0",
            "_view_name": "CheckboxView",
            "description": "RandomForestClassifier(max_depth=26, random_state=0)",
            "description_tooltip": null,
            "disabled": false,
            "indent": false,
            "layout": "IPY_MODEL_019c6613b0c04574896d9301108d707c",
            "style": "IPY_MODEL_2d6604260a42422788e7ab9c3584709c",
            "value": false
          }
        },
        "019c6613b0c04574896d9301108d707c": {
          "model_module": "@jupyter-widgets/base",
          "model_name": "LayoutModel",
          "model_module_version": "1.2.0",
          "state": {
            "_model_module": "@jupyter-widgets/base",
            "_model_module_version": "1.2.0",
            "_model_name": "LayoutModel",
            "_view_count": null,
            "_view_module": "@jupyter-widgets/base",
            "_view_module_version": "1.2.0",
            "_view_name": "LayoutView",
            "align_content": null,
            "align_items": null,
            "align_self": null,
            "border": null,
            "bottom": null,
            "display": null,
            "flex": null,
            "flex_flow": null,
            "grid_area": null,
            "grid_auto_columns": null,
            "grid_auto_flow": null,
            "grid_auto_rows": null,
            "grid_column": null,
            "grid_gap": null,
            "grid_row": null,
            "grid_template_areas": null,
            "grid_template_columns": null,
            "grid_template_rows": null,
            "height": null,
            "justify_content": null,
            "justify_items": null,
            "left": null,
            "margin": null,
            "max_height": null,
            "max_width": null,
            "min_height": null,
            "min_width": null,
            "object_fit": null,
            "object_position": null,
            "order": null,
            "overflow": null,
            "overflow_x": null,
            "overflow_y": null,
            "padding": null,
            "right": null,
            "top": null,
            "visibility": null,
            "width": null
          }
        },
        "2d6604260a42422788e7ab9c3584709c": {
          "model_module": "@jupyter-widgets/controls",
          "model_name": "DescriptionStyleModel",
          "model_module_version": "1.5.0",
          "state": {
            "_model_module": "@jupyter-widgets/controls",
            "_model_module_version": "1.5.0",
            "_model_name": "DescriptionStyleModel",
            "_view_count": null,
            "_view_module": "@jupyter-widgets/base",
            "_view_module_version": "1.2.0",
            "_view_name": "StyleView",
            "description_width": ""
          }
        },
        "3d89cea3c25f475497827d74a1d70476": {
          "model_module": "@jupyter-widgets/controls",
          "model_name": "CheckboxModel",
          "model_module_version": "1.5.0",
          "state": {
            "_dom_classes": [],
            "_model_module": "@jupyter-widgets/controls",
            "_model_module_version": "1.5.0",
            "_model_name": "CheckboxModel",
            "_view_count": null,
            "_view_module": "@jupyter-widgets/controls",
            "_view_module_version": "1.5.0",
            "_view_name": "CheckboxView",
            "description": "RandomForestClassifier(max_depth=26, n_estimators=61, random_state=0)",
            "description_tooltip": null,
            "disabled": false,
            "indent": false,
            "layout": "IPY_MODEL_105eadad025744a0abe37d37d96fbebf",
            "style": "IPY_MODEL_8843e633dc414898ace14b6ccdb4413a",
            "value": false
          }
        },
        "105eadad025744a0abe37d37d96fbebf": {
          "model_module": "@jupyter-widgets/base",
          "model_name": "LayoutModel",
          "model_module_version": "1.2.0",
          "state": {
            "_model_module": "@jupyter-widgets/base",
            "_model_module_version": "1.2.0",
            "_model_name": "LayoutModel",
            "_view_count": null,
            "_view_module": "@jupyter-widgets/base",
            "_view_module_version": "1.2.0",
            "_view_name": "LayoutView",
            "align_content": null,
            "align_items": null,
            "align_self": null,
            "border": null,
            "bottom": null,
            "display": null,
            "flex": null,
            "flex_flow": null,
            "grid_area": null,
            "grid_auto_columns": null,
            "grid_auto_flow": null,
            "grid_auto_rows": null,
            "grid_column": null,
            "grid_gap": null,
            "grid_row": null,
            "grid_template_areas": null,
            "grid_template_columns": null,
            "grid_template_rows": null,
            "height": null,
            "justify_content": null,
            "justify_items": null,
            "left": null,
            "margin": null,
            "max_height": null,
            "max_width": null,
            "min_height": null,
            "min_width": null,
            "object_fit": null,
            "object_position": null,
            "order": null,
            "overflow": null,
            "overflow_x": null,
            "overflow_y": null,
            "padding": null,
            "right": null,
            "top": null,
            "visibility": null,
            "width": null
          }
        },
        "8843e633dc414898ace14b6ccdb4413a": {
          "model_module": "@jupyter-widgets/controls",
          "model_name": "DescriptionStyleModel",
          "model_module_version": "1.5.0",
          "state": {
            "_model_module": "@jupyter-widgets/controls",
            "_model_module_version": "1.5.0",
            "_model_name": "DescriptionStyleModel",
            "_view_count": null,
            "_view_module": "@jupyter-widgets/base",
            "_view_module_version": "1.2.0",
            "_view_name": "StyleView",
            "description_width": ""
          }
        },
        "bdc661fb5fe24c269c5b6f2771ef9c91": {
          "model_module": "@jupyter-widgets/controls",
          "model_name": "CheckboxModel",
          "model_module_version": "1.5.0",
          "state": {
            "_dom_classes": [],
            "_model_module": "@jupyter-widgets/controls",
            "_model_module_version": "1.5.0",
            "_model_name": "CheckboxModel",
            "_view_count": null,
            "_view_module": "@jupyter-widgets/controls",
            "_view_module_version": "1.5.0",
            "_view_name": "CheckboxView",
            "description": "XGBClassifier(objective='multi:softprob')",
            "description_tooltip": null,
            "disabled": false,
            "indent": false,
            "layout": "IPY_MODEL_1bbfd97037294e6b873c6f250d56b5d8",
            "style": "IPY_MODEL_7f9077359f754a6f8eee123a952b8e46",
            "value": false
          }
        },
        "1bbfd97037294e6b873c6f250d56b5d8": {
          "model_module": "@jupyter-widgets/base",
          "model_name": "LayoutModel",
          "model_module_version": "1.2.0",
          "state": {
            "_model_module": "@jupyter-widgets/base",
            "_model_module_version": "1.2.0",
            "_model_name": "LayoutModel",
            "_view_count": null,
            "_view_module": "@jupyter-widgets/base",
            "_view_module_version": "1.2.0",
            "_view_name": "LayoutView",
            "align_content": null,
            "align_items": null,
            "align_self": null,
            "border": null,
            "bottom": null,
            "display": null,
            "flex": null,
            "flex_flow": null,
            "grid_area": null,
            "grid_auto_columns": null,
            "grid_auto_flow": null,
            "grid_auto_rows": null,
            "grid_column": null,
            "grid_gap": null,
            "grid_row": null,
            "grid_template_areas": null,
            "grid_template_columns": null,
            "grid_template_rows": null,
            "height": null,
            "justify_content": null,
            "justify_items": null,
            "left": null,
            "margin": null,
            "max_height": null,
            "max_width": null,
            "min_height": null,
            "min_width": null,
            "object_fit": null,
            "object_position": null,
            "order": null,
            "overflow": null,
            "overflow_x": null,
            "overflow_y": null,
            "padding": null,
            "right": null,
            "top": null,
            "visibility": null,
            "width": null
          }
        },
        "7f9077359f754a6f8eee123a952b8e46": {
          "model_module": "@jupyter-widgets/controls",
          "model_name": "DescriptionStyleModel",
          "model_module_version": "1.5.0",
          "state": {
            "_model_module": "@jupyter-widgets/controls",
            "_model_module_version": "1.5.0",
            "_model_name": "DescriptionStyleModel",
            "_view_count": null,
            "_view_module": "@jupyter-widgets/base",
            "_view_module_version": "1.2.0",
            "_view_name": "StyleView",
            "description_width": ""
          }
        },
        "a91a8840301b4521ad810624ae6fcfed": {
          "model_module": "@jupyter-widgets/controls",
          "model_name": "CheckboxModel",
          "model_module_version": "1.5.0",
          "state": {
            "_dom_classes": [],
            "_model_module": "@jupyter-widgets/controls",
            "_model_module_version": "1.5.0",
            "_model_name": "CheckboxModel",
            "_view_count": null,
            "_view_module": "@jupyter-widgets/controls",
            "_view_module_version": "1.5.0",
            "_view_name": "CheckboxView",
            "description": "XGBClassifier(max_depth=8, objective='multi:softprob')",
            "description_tooltip": null,
            "disabled": false,
            "indent": false,
            "layout": "IPY_MODEL_48eb8df2cf4944599b84daeec9ae0a81",
            "style": "IPY_MODEL_64638e1b4c494f83818fe05160472546",
            "value": false
          }
        },
        "48eb8df2cf4944599b84daeec9ae0a81": {
          "model_module": "@jupyter-widgets/base",
          "model_name": "LayoutModel",
          "model_module_version": "1.2.0",
          "state": {
            "_model_module": "@jupyter-widgets/base",
            "_model_module_version": "1.2.0",
            "_model_name": "LayoutModel",
            "_view_count": null,
            "_view_module": "@jupyter-widgets/base",
            "_view_module_version": "1.2.0",
            "_view_name": "LayoutView",
            "align_content": null,
            "align_items": null,
            "align_self": null,
            "border": null,
            "bottom": null,
            "display": null,
            "flex": null,
            "flex_flow": null,
            "grid_area": null,
            "grid_auto_columns": null,
            "grid_auto_flow": null,
            "grid_auto_rows": null,
            "grid_column": null,
            "grid_gap": null,
            "grid_row": null,
            "grid_template_areas": null,
            "grid_template_columns": null,
            "grid_template_rows": null,
            "height": null,
            "justify_content": null,
            "justify_items": null,
            "left": null,
            "margin": null,
            "max_height": null,
            "max_width": null,
            "min_height": null,
            "min_width": null,
            "object_fit": null,
            "object_position": null,
            "order": null,
            "overflow": null,
            "overflow_x": null,
            "overflow_y": null,
            "padding": null,
            "right": null,
            "top": null,
            "visibility": null,
            "width": null
          }
        },
        "64638e1b4c494f83818fe05160472546": {
          "model_module": "@jupyter-widgets/controls",
          "model_name": "DescriptionStyleModel",
          "model_module_version": "1.5.0",
          "state": {
            "_model_module": "@jupyter-widgets/controls",
            "_model_module_version": "1.5.0",
            "_model_name": "DescriptionStyleModel",
            "_view_count": null,
            "_view_module": "@jupyter-widgets/base",
            "_view_module_version": "1.2.0",
            "_view_name": "StyleView",
            "description_width": ""
          }
        },
        "294f21aefb6341c79e068455087e16ff": {
          "model_module": "@jupyter-widgets/controls",
          "model_name": "CheckboxModel",
          "model_module_version": "1.5.0",
          "state": {
            "_dom_classes": [],
            "_model_module": "@jupyter-widgets/controls",
            "_model_module_version": "1.5.0",
            "_model_name": "CheckboxModel",
            "_view_count": null,
            "_view_module": "@jupyter-widgets/controls",
            "_view_module_version": "1.5.0",
            "_view_name": "CheckboxView",
            "description": "XGBClassifier(n_estimators=223, objective='multi:softprob')",
            "description_tooltip": null,
            "disabled": false,
            "indent": false,
            "layout": "IPY_MODEL_5bcb23eb172a44d9a4cd735082ff9d8a",
            "style": "IPY_MODEL_6d76489184d843a1a4c9c279a875073e",
            "value": false
          }
        },
        "5bcb23eb172a44d9a4cd735082ff9d8a": {
          "model_module": "@jupyter-widgets/base",
          "model_name": "LayoutModel",
          "model_module_version": "1.2.0",
          "state": {
            "_model_module": "@jupyter-widgets/base",
            "_model_module_version": "1.2.0",
            "_model_name": "LayoutModel",
            "_view_count": null,
            "_view_module": "@jupyter-widgets/base",
            "_view_module_version": "1.2.0",
            "_view_name": "LayoutView",
            "align_content": null,
            "align_items": null,
            "align_self": null,
            "border": null,
            "bottom": null,
            "display": null,
            "flex": null,
            "flex_flow": null,
            "grid_area": null,
            "grid_auto_columns": null,
            "grid_auto_flow": null,
            "grid_auto_rows": null,
            "grid_column": null,
            "grid_gap": null,
            "grid_row": null,
            "grid_template_areas": null,
            "grid_template_columns": null,
            "grid_template_rows": null,
            "height": null,
            "justify_content": null,
            "justify_items": null,
            "left": null,
            "margin": null,
            "max_height": null,
            "max_width": null,
            "min_height": null,
            "min_width": null,
            "object_fit": null,
            "object_position": null,
            "order": null,
            "overflow": null,
            "overflow_x": null,
            "overflow_y": null,
            "padding": null,
            "right": null,
            "top": null,
            "visibility": null,
            "width": null
          }
        },
        "6d76489184d843a1a4c9c279a875073e": {
          "model_module": "@jupyter-widgets/controls",
          "model_name": "DescriptionStyleModel",
          "model_module_version": "1.5.0",
          "state": {
            "_model_module": "@jupyter-widgets/controls",
            "_model_module_version": "1.5.0",
            "_model_name": "DescriptionStyleModel",
            "_view_count": null,
            "_view_module": "@jupyter-widgets/base",
            "_view_module_version": "1.2.0",
            "_view_name": "StyleView",
            "description_width": ""
          }
        },
        "4f6119d7364246e4a07d3906fa096aad": {
          "model_module": "@jupyter-widgets/controls",
          "model_name": "CheckboxModel",
          "model_module_version": "1.5.0",
          "state": {
            "_dom_classes": [],
            "_model_module": "@jupyter-widgets/controls",
            "_model_module_version": "1.5.0",
            "_model_name": "CheckboxModel",
            "_view_count": null,
            "_view_module": "@jupyter-widgets/controls",
            "_view_module_version": "1.5.0",
            "_view_name": "CheckboxView",
            "description": "XGBClassifier(max_depth=8, n_estimators=223, objective='multi:softprob')",
            "description_tooltip": null,
            "disabled": false,
            "indent": false,
            "layout": "IPY_MODEL_ad5f2950c1104894b44a69bb5c771977",
            "style": "IPY_MODEL_5de6970f59434aa78de0482a75af4faf",
            "value": false
          }
        },
        "ad5f2950c1104894b44a69bb5c771977": {
          "model_module": "@jupyter-widgets/base",
          "model_name": "LayoutModel",
          "model_module_version": "1.2.0",
          "state": {
            "_model_module": "@jupyter-widgets/base",
            "_model_module_version": "1.2.0",
            "_model_name": "LayoutModel",
            "_view_count": null,
            "_view_module": "@jupyter-widgets/base",
            "_view_module_version": "1.2.0",
            "_view_name": "LayoutView",
            "align_content": null,
            "align_items": null,
            "align_self": null,
            "border": null,
            "bottom": null,
            "display": null,
            "flex": null,
            "flex_flow": null,
            "grid_area": null,
            "grid_auto_columns": null,
            "grid_auto_flow": null,
            "grid_auto_rows": null,
            "grid_column": null,
            "grid_gap": null,
            "grid_row": null,
            "grid_template_areas": null,
            "grid_template_columns": null,
            "grid_template_rows": null,
            "height": null,
            "justify_content": null,
            "justify_items": null,
            "left": null,
            "margin": null,
            "max_height": null,
            "max_width": null,
            "min_height": null,
            "min_width": null,
            "object_fit": null,
            "object_position": null,
            "order": null,
            "overflow": null,
            "overflow_x": null,
            "overflow_y": null,
            "padding": null,
            "right": null,
            "top": null,
            "visibility": null,
            "width": null
          }
        },
        "5de6970f59434aa78de0482a75af4faf": {
          "model_module": "@jupyter-widgets/controls",
          "model_name": "DescriptionStyleModel",
          "model_module_version": "1.5.0",
          "state": {
            "_model_module": "@jupyter-widgets/controls",
            "_model_module_version": "1.5.0",
            "_model_name": "DescriptionStyleModel",
            "_view_count": null,
            "_view_module": "@jupyter-widgets/base",
            "_view_module_version": "1.2.0",
            "_view_name": "StyleView",
            "description_width": ""
          }
        },
        "2f993a5c62004e679fe065ba3da18d3e": {
          "model_module": "@jupyter-widgets/controls",
          "model_name": "CheckboxModel",
          "model_module_version": "1.5.0",
          "state": {
            "_dom_classes": [],
            "_model_module": "@jupyter-widgets/controls",
            "_model_module_version": "1.5.0",
            "_model_name": "CheckboxModel",
            "_view_count": null,
            "_view_module": "@jupyter-widgets/controls",
            "_view_module_version": "1.5.0",
            "_view_name": "CheckboxView",
            "description": "KNeighborsClassifier()",
            "description_tooltip": null,
            "disabled": false,
            "indent": false,
            "layout": "IPY_MODEL_6ab42824cef9462582638d4bca2385dc",
            "style": "IPY_MODEL_1ac046a7ccb64927a4d62dff8f25a746",
            "value": false
          }
        },
        "6ab42824cef9462582638d4bca2385dc": {
          "model_module": "@jupyter-widgets/base",
          "model_name": "LayoutModel",
          "model_module_version": "1.2.0",
          "state": {
            "_model_module": "@jupyter-widgets/base",
            "_model_module_version": "1.2.0",
            "_model_name": "LayoutModel",
            "_view_count": null,
            "_view_module": "@jupyter-widgets/base",
            "_view_module_version": "1.2.0",
            "_view_name": "LayoutView",
            "align_content": null,
            "align_items": null,
            "align_self": null,
            "border": null,
            "bottom": null,
            "display": null,
            "flex": null,
            "flex_flow": null,
            "grid_area": null,
            "grid_auto_columns": null,
            "grid_auto_flow": null,
            "grid_auto_rows": null,
            "grid_column": null,
            "grid_gap": null,
            "grid_row": null,
            "grid_template_areas": null,
            "grid_template_columns": null,
            "grid_template_rows": null,
            "height": null,
            "justify_content": null,
            "justify_items": null,
            "left": null,
            "margin": null,
            "max_height": null,
            "max_width": null,
            "min_height": null,
            "min_width": null,
            "object_fit": null,
            "object_position": null,
            "order": null,
            "overflow": null,
            "overflow_x": null,
            "overflow_y": null,
            "padding": null,
            "right": null,
            "top": null,
            "visibility": null,
            "width": null
          }
        },
        "1ac046a7ccb64927a4d62dff8f25a746": {
          "model_module": "@jupyter-widgets/controls",
          "model_name": "DescriptionStyleModel",
          "model_module_version": "1.5.0",
          "state": {
            "_model_module": "@jupyter-widgets/controls",
            "_model_module_version": "1.5.0",
            "_model_name": "DescriptionStyleModel",
            "_view_count": null,
            "_view_module": "@jupyter-widgets/base",
            "_view_module_version": "1.2.0",
            "_view_name": "StyleView",
            "description_width": ""
          }
        },
        "faf71b6f70f948d283483efcf51e975c": {
          "model_module": "@jupyter-widgets/controls",
          "model_name": "CheckboxModel",
          "model_module_version": "1.5.0",
          "state": {
            "_dom_classes": [],
            "_model_module": "@jupyter-widgets/controls",
            "_model_module_version": "1.5.0",
            "_model_name": "CheckboxModel",
            "_view_count": null,
            "_view_module": "@jupyter-widgets/controls",
            "_view_module_version": "1.5.0",
            "_view_name": "CheckboxView",
            "description": "KNeighborsClassifier(n_neighbors=1)",
            "description_tooltip": null,
            "disabled": false,
            "indent": false,
            "layout": "IPY_MODEL_699d5408fa254898856402b44d2478a9",
            "style": "IPY_MODEL_d56c9ab0f4b84e64aca13cbdcca5afbf",
            "value": false
          }
        },
        "699d5408fa254898856402b44d2478a9": {
          "model_module": "@jupyter-widgets/base",
          "model_name": "LayoutModel",
          "model_module_version": "1.2.0",
          "state": {
            "_model_module": "@jupyter-widgets/base",
            "_model_module_version": "1.2.0",
            "_model_name": "LayoutModel",
            "_view_count": null,
            "_view_module": "@jupyter-widgets/base",
            "_view_module_version": "1.2.0",
            "_view_name": "LayoutView",
            "align_content": null,
            "align_items": null,
            "align_self": null,
            "border": null,
            "bottom": null,
            "display": null,
            "flex": null,
            "flex_flow": null,
            "grid_area": null,
            "grid_auto_columns": null,
            "grid_auto_flow": null,
            "grid_auto_rows": null,
            "grid_column": null,
            "grid_gap": null,
            "grid_row": null,
            "grid_template_areas": null,
            "grid_template_columns": null,
            "grid_template_rows": null,
            "height": null,
            "justify_content": null,
            "justify_items": null,
            "left": null,
            "margin": null,
            "max_height": null,
            "max_width": null,
            "min_height": null,
            "min_width": null,
            "object_fit": null,
            "object_position": null,
            "order": null,
            "overflow": null,
            "overflow_x": null,
            "overflow_y": null,
            "padding": null,
            "right": null,
            "top": null,
            "visibility": null,
            "width": null
          }
        },
        "d56c9ab0f4b84e64aca13cbdcca5afbf": {
          "model_module": "@jupyter-widgets/controls",
          "model_name": "DescriptionStyleModel",
          "model_module_version": "1.5.0",
          "state": {
            "_model_module": "@jupyter-widgets/controls",
            "_model_module_version": "1.5.0",
            "_model_name": "DescriptionStyleModel",
            "_view_count": null,
            "_view_module": "@jupyter-widgets/base",
            "_view_module_version": "1.2.0",
            "_view_name": "StyleView",
            "description_width": ""
          }
        },
        "c689f27daf1e4ec6b1a02acada30fc69": {
          "model_module": "@jupyter-widgets/controls",
          "model_name": "CheckboxModel",
          "model_module_version": "1.5.0",
          "state": {
            "_dom_classes": [],
            "_model_module": "@jupyter-widgets/controls",
            "_model_module_version": "1.5.0",
            "_model_name": "CheckboxModel",
            "_view_count": null,
            "_view_module": "@jupyter-widgets/controls",
            "_view_module_version": "1.5.0",
            "_view_name": "CheckboxView",
            "description": "GaussianNB()",
            "description_tooltip": null,
            "disabled": false,
            "indent": false,
            "layout": "IPY_MODEL_404fd51f850b4cdea6a016e4406519ef",
            "style": "IPY_MODEL_9b2b41e8f4924911bf5e2c484b50a025",
            "value": false
          }
        },
        "404fd51f850b4cdea6a016e4406519ef": {
          "model_module": "@jupyter-widgets/base",
          "model_name": "LayoutModel",
          "model_module_version": "1.2.0",
          "state": {
            "_model_module": "@jupyter-widgets/base",
            "_model_module_version": "1.2.0",
            "_model_name": "LayoutModel",
            "_view_count": null,
            "_view_module": "@jupyter-widgets/base",
            "_view_module_version": "1.2.0",
            "_view_name": "LayoutView",
            "align_content": null,
            "align_items": null,
            "align_self": null,
            "border": null,
            "bottom": null,
            "display": null,
            "flex": null,
            "flex_flow": null,
            "grid_area": null,
            "grid_auto_columns": null,
            "grid_auto_flow": null,
            "grid_auto_rows": null,
            "grid_column": null,
            "grid_gap": null,
            "grid_row": null,
            "grid_template_areas": null,
            "grid_template_columns": null,
            "grid_template_rows": null,
            "height": null,
            "justify_content": null,
            "justify_items": null,
            "left": null,
            "margin": null,
            "max_height": null,
            "max_width": null,
            "min_height": null,
            "min_width": null,
            "object_fit": null,
            "object_position": null,
            "order": null,
            "overflow": null,
            "overflow_x": null,
            "overflow_y": null,
            "padding": null,
            "right": null,
            "top": null,
            "visibility": null,
            "width": null
          }
        },
        "9b2b41e8f4924911bf5e2c484b50a025": {
          "model_module": "@jupyter-widgets/controls",
          "model_name": "DescriptionStyleModel",
          "model_module_version": "1.5.0",
          "state": {
            "_model_module": "@jupyter-widgets/controls",
            "_model_module_version": "1.5.0",
            "_model_name": "DescriptionStyleModel",
            "_view_count": null,
            "_view_module": "@jupyter-widgets/base",
            "_view_module_version": "1.2.0",
            "_view_name": "StyleView",
            "description_width": ""
          }
        },
        "56c4afeee87645c38945be09bf8a7fd8": {
          "model_module": "@jupyter-widgets/controls",
          "model_name": "CheckboxModel",
          "model_module_version": "1.5.0",
          "state": {
            "_dom_classes": [],
            "_model_module": "@jupyter-widgets/controls",
            "_model_module_version": "1.5.0",
            "_model_name": "CheckboxModel",
            "_view_count": null,
            "_view_module": "@jupyter-widgets/controls",
            "_view_module_version": "1.5.0",
            "_view_name": "CheckboxView",
            "description": "AdaBoostClassifier(random_state=0)",
            "description_tooltip": null,
            "disabled": false,
            "indent": false,
            "layout": "IPY_MODEL_29322c8bc3b04aa1aa70d166df6fb050",
            "style": "IPY_MODEL_c9950d53d7a04373869515886b09fed1",
            "value": false
          }
        },
        "29322c8bc3b04aa1aa70d166df6fb050": {
          "model_module": "@jupyter-widgets/base",
          "model_name": "LayoutModel",
          "model_module_version": "1.2.0",
          "state": {
            "_model_module": "@jupyter-widgets/base",
            "_model_module_version": "1.2.0",
            "_model_name": "LayoutModel",
            "_view_count": null,
            "_view_module": "@jupyter-widgets/base",
            "_view_module_version": "1.2.0",
            "_view_name": "LayoutView",
            "align_content": null,
            "align_items": null,
            "align_self": null,
            "border": null,
            "bottom": null,
            "display": null,
            "flex": null,
            "flex_flow": null,
            "grid_area": null,
            "grid_auto_columns": null,
            "grid_auto_flow": null,
            "grid_auto_rows": null,
            "grid_column": null,
            "grid_gap": null,
            "grid_row": null,
            "grid_template_areas": null,
            "grid_template_columns": null,
            "grid_template_rows": null,
            "height": null,
            "justify_content": null,
            "justify_items": null,
            "left": null,
            "margin": null,
            "max_height": null,
            "max_width": null,
            "min_height": null,
            "min_width": null,
            "object_fit": null,
            "object_position": null,
            "order": null,
            "overflow": null,
            "overflow_x": null,
            "overflow_y": null,
            "padding": null,
            "right": null,
            "top": null,
            "visibility": null,
            "width": null
          }
        },
        "c9950d53d7a04373869515886b09fed1": {
          "model_module": "@jupyter-widgets/controls",
          "model_name": "DescriptionStyleModel",
          "model_module_version": "1.5.0",
          "state": {
            "_model_module": "@jupyter-widgets/controls",
            "_model_module_version": "1.5.0",
            "_model_name": "DescriptionStyleModel",
            "_view_count": null,
            "_view_module": "@jupyter-widgets/base",
            "_view_module_version": "1.2.0",
            "_view_name": "StyleView",
            "description_width": ""
          }
        },
        "57c4c8bcbbd54d13a1fb5e5eac891965": {
          "model_module": "@jupyter-widgets/controls",
          "model_name": "CheckboxModel",
          "model_module_version": "1.5.0",
          "state": {
            "_dom_classes": [],
            "_model_module": "@jupyter-widgets/controls",
            "_model_module_version": "1.5.0",
            "_model_name": "CheckboxModel",
            "_view_count": null,
            "_view_module": "@jupyter-widgets/controls",
            "_view_module_version": "1.5.0",
            "_view_name": "CheckboxView",
            "description": "AdaBoostClassifier(n_estimators=75, random_state=0)",
            "description_tooltip": null,
            "disabled": false,
            "indent": false,
            "layout": "IPY_MODEL_1ba66e68e48e478bad8847636b10438f",
            "style": "IPY_MODEL_21742b255d96450ea209b3645916602f",
            "value": false
          }
        },
        "1ba66e68e48e478bad8847636b10438f": {
          "model_module": "@jupyter-widgets/base",
          "model_name": "LayoutModel",
          "model_module_version": "1.2.0",
          "state": {
            "_model_module": "@jupyter-widgets/base",
            "_model_module_version": "1.2.0",
            "_model_name": "LayoutModel",
            "_view_count": null,
            "_view_module": "@jupyter-widgets/base",
            "_view_module_version": "1.2.0",
            "_view_name": "LayoutView",
            "align_content": null,
            "align_items": null,
            "align_self": null,
            "border": null,
            "bottom": null,
            "display": null,
            "flex": null,
            "flex_flow": null,
            "grid_area": null,
            "grid_auto_columns": null,
            "grid_auto_flow": null,
            "grid_auto_rows": null,
            "grid_column": null,
            "grid_gap": null,
            "grid_row": null,
            "grid_template_areas": null,
            "grid_template_columns": null,
            "grid_template_rows": null,
            "height": null,
            "justify_content": null,
            "justify_items": null,
            "left": null,
            "margin": null,
            "max_height": null,
            "max_width": null,
            "min_height": null,
            "min_width": null,
            "object_fit": null,
            "object_position": null,
            "order": null,
            "overflow": null,
            "overflow_x": null,
            "overflow_y": null,
            "padding": null,
            "right": null,
            "top": null,
            "visibility": null,
            "width": null
          }
        },
        "21742b255d96450ea209b3645916602f": {
          "model_module": "@jupyter-widgets/controls",
          "model_name": "DescriptionStyleModel",
          "model_module_version": "1.5.0",
          "state": {
            "_model_module": "@jupyter-widgets/controls",
            "_model_module_version": "1.5.0",
            "_model_name": "DescriptionStyleModel",
            "_view_count": null,
            "_view_module": "@jupyter-widgets/base",
            "_view_module_version": "1.2.0",
            "_view_name": "StyleView",
            "description_width": ""
          }
        },
        "f23b486841294113af963ac0e6c5d5a7": {
          "model_module": "@jupyter-widgets/controls",
          "model_name": "CheckboxModel",
          "model_module_version": "1.5.0",
          "state": {
            "_dom_classes": [],
            "_model_module": "@jupyter-widgets/controls",
            "_model_module_version": "1.5.0",
            "_model_name": "CheckboxModel",
            "_view_count": null,
            "_view_module": "@jupyter-widgets/controls",
            "_view_module_version": "1.5.0",
            "_view_name": "CheckboxView",
            "description": "GradientBoostingClassifier(random_state=0)",
            "description_tooltip": null,
            "disabled": false,
            "indent": false,
            "layout": "IPY_MODEL_e274302f10634602a00e042f4ed05cd0",
            "style": "IPY_MODEL_98cab6dbae704900bcd60e58f887dd3c",
            "value": false
          }
        },
        "e274302f10634602a00e042f4ed05cd0": {
          "model_module": "@jupyter-widgets/base",
          "model_name": "LayoutModel",
          "model_module_version": "1.2.0",
          "state": {
            "_model_module": "@jupyter-widgets/base",
            "_model_module_version": "1.2.0",
            "_model_name": "LayoutModel",
            "_view_count": null,
            "_view_module": "@jupyter-widgets/base",
            "_view_module_version": "1.2.0",
            "_view_name": "LayoutView",
            "align_content": null,
            "align_items": null,
            "align_self": null,
            "border": null,
            "bottom": null,
            "display": null,
            "flex": null,
            "flex_flow": null,
            "grid_area": null,
            "grid_auto_columns": null,
            "grid_auto_flow": null,
            "grid_auto_rows": null,
            "grid_column": null,
            "grid_gap": null,
            "grid_row": null,
            "grid_template_areas": null,
            "grid_template_columns": null,
            "grid_template_rows": null,
            "height": null,
            "justify_content": null,
            "justify_items": null,
            "left": null,
            "margin": null,
            "max_height": null,
            "max_width": null,
            "min_height": null,
            "min_width": null,
            "object_fit": null,
            "object_position": null,
            "order": null,
            "overflow": null,
            "overflow_x": null,
            "overflow_y": null,
            "padding": null,
            "right": null,
            "top": null,
            "visibility": null,
            "width": null
          }
        },
        "98cab6dbae704900bcd60e58f887dd3c": {
          "model_module": "@jupyter-widgets/controls",
          "model_name": "DescriptionStyleModel",
          "model_module_version": "1.5.0",
          "state": {
            "_model_module": "@jupyter-widgets/controls",
            "_model_module_version": "1.5.0",
            "_model_name": "DescriptionStyleModel",
            "_view_count": null,
            "_view_module": "@jupyter-widgets/base",
            "_view_module_version": "1.2.0",
            "_view_name": "StyleView",
            "description_width": ""
          }
        },
        "ffb1947031824e189e0d5aae08d39b6e": {
          "model_module": "@jupyter-widgets/controls",
          "model_name": "CheckboxModel",
          "model_module_version": "1.5.0",
          "state": {
            "_dom_classes": [],
            "_model_module": "@jupyter-widgets/controls",
            "_model_module_version": "1.5.0",
            "_model_name": "CheckboxModel",
            "_view_count": null,
            "_view_module": "@jupyter-widgets/controls",
            "_view_module_version": "1.5.0",
            "_view_name": "CheckboxView",
            "description": "GradientBoostingClassifier(n_estimators=172, random_state=0)",
            "description_tooltip": null,
            "disabled": false,
            "indent": false,
            "layout": "IPY_MODEL_4b8270ff0b334d65b7cafe6dea3f7b48",
            "style": "IPY_MODEL_e69e44185e614eb4b2fe4655c5809291",
            "value": false
          }
        },
        "4b8270ff0b334d65b7cafe6dea3f7b48": {
          "model_module": "@jupyter-widgets/base",
          "model_name": "LayoutModel",
          "model_module_version": "1.2.0",
          "state": {
            "_model_module": "@jupyter-widgets/base",
            "_model_module_version": "1.2.0",
            "_model_name": "LayoutModel",
            "_view_count": null,
            "_view_module": "@jupyter-widgets/base",
            "_view_module_version": "1.2.0",
            "_view_name": "LayoutView",
            "align_content": null,
            "align_items": null,
            "align_self": null,
            "border": null,
            "bottom": null,
            "display": null,
            "flex": null,
            "flex_flow": null,
            "grid_area": null,
            "grid_auto_columns": null,
            "grid_auto_flow": null,
            "grid_auto_rows": null,
            "grid_column": null,
            "grid_gap": null,
            "grid_row": null,
            "grid_template_areas": null,
            "grid_template_columns": null,
            "grid_template_rows": null,
            "height": null,
            "justify_content": null,
            "justify_items": null,
            "left": null,
            "margin": null,
            "max_height": null,
            "max_width": null,
            "min_height": null,
            "min_width": null,
            "object_fit": null,
            "object_position": null,
            "order": null,
            "overflow": null,
            "overflow_x": null,
            "overflow_y": null,
            "padding": null,
            "right": null,
            "top": null,
            "visibility": null,
            "width": null
          }
        },
        "e69e44185e614eb4b2fe4655c5809291": {
          "model_module": "@jupyter-widgets/controls",
          "model_name": "DescriptionStyleModel",
          "model_module_version": "1.5.0",
          "state": {
            "_model_module": "@jupyter-widgets/controls",
            "_model_module_version": "1.5.0",
            "_model_name": "DescriptionStyleModel",
            "_view_count": null,
            "_view_module": "@jupyter-widgets/base",
            "_view_module_version": "1.2.0",
            "_view_name": "StyleView",
            "description_width": ""
          }
        },
        "762e38f143f34886a6464ea3e44656b8": {
          "model_module": "@jupyter-widgets/controls",
          "model_name": "CheckboxModel",
          "model_module_version": "1.5.0",
          "state": {
            "_dom_classes": [],
            "_model_module": "@jupyter-widgets/controls",
            "_model_module_version": "1.5.0",
            "_model_name": "CheckboxModel",
            "_view_count": null,
            "_view_module": "@jupyter-widgets/controls",
            "_view_module_version": "1.5.0",
            "_view_name": "CheckboxView",
            "description": "GradientBoostingClassifier(max_depth=12, random_state=0)",
            "description_tooltip": null,
            "disabled": false,
            "indent": false,
            "layout": "IPY_MODEL_b49fce6683cf4ef7bff0f4bffd88a993",
            "style": "IPY_MODEL_b9ef2dff104a4ede9a7018d2d1b52824",
            "value": false
          }
        },
        "b49fce6683cf4ef7bff0f4bffd88a993": {
          "model_module": "@jupyter-widgets/base",
          "model_name": "LayoutModel",
          "model_module_version": "1.2.0",
          "state": {
            "_model_module": "@jupyter-widgets/base",
            "_model_module_version": "1.2.0",
            "_model_name": "LayoutModel",
            "_view_count": null,
            "_view_module": "@jupyter-widgets/base",
            "_view_module_version": "1.2.0",
            "_view_name": "LayoutView",
            "align_content": null,
            "align_items": null,
            "align_self": null,
            "border": null,
            "bottom": null,
            "display": null,
            "flex": null,
            "flex_flow": null,
            "grid_area": null,
            "grid_auto_columns": null,
            "grid_auto_flow": null,
            "grid_auto_rows": null,
            "grid_column": null,
            "grid_gap": null,
            "grid_row": null,
            "grid_template_areas": null,
            "grid_template_columns": null,
            "grid_template_rows": null,
            "height": null,
            "justify_content": null,
            "justify_items": null,
            "left": null,
            "margin": null,
            "max_height": null,
            "max_width": null,
            "min_height": null,
            "min_width": null,
            "object_fit": null,
            "object_position": null,
            "order": null,
            "overflow": null,
            "overflow_x": null,
            "overflow_y": null,
            "padding": null,
            "right": null,
            "top": null,
            "visibility": null,
            "width": null
          }
        },
        "b9ef2dff104a4ede9a7018d2d1b52824": {
          "model_module": "@jupyter-widgets/controls",
          "model_name": "DescriptionStyleModel",
          "model_module_version": "1.5.0",
          "state": {
            "_model_module": "@jupyter-widgets/controls",
            "_model_module_version": "1.5.0",
            "_model_name": "DescriptionStyleModel",
            "_view_count": null,
            "_view_module": "@jupyter-widgets/base",
            "_view_module_version": "1.2.0",
            "_view_name": "StyleView",
            "description_width": ""
          }
        },
        "fd7155a4b0cb4be8896093333b94efea": {
          "model_module": "@jupyter-widgets/controls",
          "model_name": "CheckboxModel",
          "model_module_version": "1.5.0",
          "state": {
            "_dom_classes": [],
            "_model_module": "@jupyter-widgets/controls",
            "_model_module_version": "1.5.0",
            "_model_name": "CheckboxModel",
            "_view_count": null,
            "_view_module": "@jupyter-widgets/controls",
            "_view_module_version": "1.5.0",
            "_view_name": "CheckboxView",
            "description": "GradientBoostingClassifier(max_depth=12, n_estimators=172, random_state=0)",
            "description_tooltip": null,
            "disabled": false,
            "indent": false,
            "layout": "IPY_MODEL_4018c55b6a5a4adc9963cc6c89e2e430",
            "style": "IPY_MODEL_6e717dd903724fb7a32ee3bb8ce1d49b",
            "value": false
          }
        },
        "4018c55b6a5a4adc9963cc6c89e2e430": {
          "model_module": "@jupyter-widgets/base",
          "model_name": "LayoutModel",
          "model_module_version": "1.2.0",
          "state": {
            "_model_module": "@jupyter-widgets/base",
            "_model_module_version": "1.2.0",
            "_model_name": "LayoutModel",
            "_view_count": null,
            "_view_module": "@jupyter-widgets/base",
            "_view_module_version": "1.2.0",
            "_view_name": "LayoutView",
            "align_content": null,
            "align_items": null,
            "align_self": null,
            "border": null,
            "bottom": null,
            "display": null,
            "flex": null,
            "flex_flow": null,
            "grid_area": null,
            "grid_auto_columns": null,
            "grid_auto_flow": null,
            "grid_auto_rows": null,
            "grid_column": null,
            "grid_gap": null,
            "grid_row": null,
            "grid_template_areas": null,
            "grid_template_columns": null,
            "grid_template_rows": null,
            "height": null,
            "justify_content": null,
            "justify_items": null,
            "left": null,
            "margin": null,
            "max_height": null,
            "max_width": null,
            "min_height": null,
            "min_width": null,
            "object_fit": null,
            "object_position": null,
            "order": null,
            "overflow": null,
            "overflow_x": null,
            "overflow_y": null,
            "padding": null,
            "right": null,
            "top": null,
            "visibility": null,
            "width": null
          }
        },
        "6e717dd903724fb7a32ee3bb8ce1d49b": {
          "model_module": "@jupyter-widgets/controls",
          "model_name": "DescriptionStyleModel",
          "model_module_version": "1.5.0",
          "state": {
            "_model_module": "@jupyter-widgets/controls",
            "_model_module_version": "1.5.0",
            "_model_name": "DescriptionStyleModel",
            "_view_count": null,
            "_view_module": "@jupyter-widgets/base",
            "_view_module_version": "1.2.0",
            "_view_name": "StyleView",
            "description_width": ""
          }
        },
        "c006a32ee7a243eabca09e5a76cb45c7": {
          "model_module": "@jupyter-widgets/controls",
          "model_name": "CheckboxModel",
          "model_module_version": "1.5.0",
          "state": {
            "_dom_classes": [],
            "_model_module": "@jupyter-widgets/controls",
            "_model_module_version": "1.5.0",
            "_model_name": "CheckboxModel",
            "_view_count": null,
            "_view_module": "@jupyter-widgets/controls",
            "_view_module_version": "1.5.0",
            "_view_name": "CheckboxView",
            "description": "RandomForestClassifier(random_state=0)",
            "description_tooltip": null,
            "disabled": false,
            "indent": false,
            "layout": "IPY_MODEL_642bf87c832e43f995b1f23f7cec630e",
            "style": "IPY_MODEL_bec9c779f0e7491d955a5baf7264acb8",
            "value": false
          }
        },
        "642bf87c832e43f995b1f23f7cec630e": {
          "model_module": "@jupyter-widgets/base",
          "model_name": "LayoutModel",
          "model_module_version": "1.2.0",
          "state": {
            "_model_module": "@jupyter-widgets/base",
            "_model_module_version": "1.2.0",
            "_model_name": "LayoutModel",
            "_view_count": null,
            "_view_module": "@jupyter-widgets/base",
            "_view_module_version": "1.2.0",
            "_view_name": "LayoutView",
            "align_content": null,
            "align_items": null,
            "align_self": null,
            "border": null,
            "bottom": null,
            "display": null,
            "flex": null,
            "flex_flow": null,
            "grid_area": null,
            "grid_auto_columns": null,
            "grid_auto_flow": null,
            "grid_auto_rows": null,
            "grid_column": null,
            "grid_gap": null,
            "grid_row": null,
            "grid_template_areas": null,
            "grid_template_columns": null,
            "grid_template_rows": null,
            "height": null,
            "justify_content": null,
            "justify_items": null,
            "left": null,
            "margin": null,
            "max_height": null,
            "max_width": null,
            "min_height": null,
            "min_width": null,
            "object_fit": null,
            "object_position": null,
            "order": null,
            "overflow": null,
            "overflow_x": null,
            "overflow_y": null,
            "padding": null,
            "right": null,
            "top": null,
            "visibility": null,
            "width": null
          }
        },
        "bec9c779f0e7491d955a5baf7264acb8": {
          "model_module": "@jupyter-widgets/controls",
          "model_name": "DescriptionStyleModel",
          "model_module_version": "1.5.0",
          "state": {
            "_model_module": "@jupyter-widgets/controls",
            "_model_module_version": "1.5.0",
            "_model_name": "DescriptionStyleModel",
            "_view_count": null,
            "_view_module": "@jupyter-widgets/base",
            "_view_module_version": "1.2.0",
            "_view_name": "StyleView",
            "description_width": ""
          }
        },
        "ebcc1235d856411d8bcaeea29e69029f": {
          "model_module": "@jupyter-widgets/controls",
          "model_name": "CheckboxModel",
          "model_module_version": "1.5.0",
          "state": {
            "_dom_classes": [],
            "_model_module": "@jupyter-widgets/controls",
            "_model_module_version": "1.5.0",
            "_model_name": "CheckboxModel",
            "_view_count": null,
            "_view_module": "@jupyter-widgets/controls",
            "_view_module_version": "1.5.0",
            "_view_name": "CheckboxView",
            "description": "RandomForestClassifier(n_estimators=61, random_state=0)",
            "description_tooltip": null,
            "disabled": false,
            "indent": false,
            "layout": "IPY_MODEL_5faa73baa204494b96d3c4089eedb03e",
            "style": "IPY_MODEL_75c8638c5ed543ccb99e42ac466ba669",
            "value": false
          }
        },
        "5faa73baa204494b96d3c4089eedb03e": {
          "model_module": "@jupyter-widgets/base",
          "model_name": "LayoutModel",
          "model_module_version": "1.2.0",
          "state": {
            "_model_module": "@jupyter-widgets/base",
            "_model_module_version": "1.2.0",
            "_model_name": "LayoutModel",
            "_view_count": null,
            "_view_module": "@jupyter-widgets/base",
            "_view_module_version": "1.2.0",
            "_view_name": "LayoutView",
            "align_content": null,
            "align_items": null,
            "align_self": null,
            "border": null,
            "bottom": null,
            "display": null,
            "flex": null,
            "flex_flow": null,
            "grid_area": null,
            "grid_auto_columns": null,
            "grid_auto_flow": null,
            "grid_auto_rows": null,
            "grid_column": null,
            "grid_gap": null,
            "grid_row": null,
            "grid_template_areas": null,
            "grid_template_columns": null,
            "grid_template_rows": null,
            "height": null,
            "justify_content": null,
            "justify_items": null,
            "left": null,
            "margin": null,
            "max_height": null,
            "max_width": null,
            "min_height": null,
            "min_width": null,
            "object_fit": null,
            "object_position": null,
            "order": null,
            "overflow": null,
            "overflow_x": null,
            "overflow_y": null,
            "padding": null,
            "right": null,
            "top": null,
            "visibility": null,
            "width": null
          }
        },
        "75c8638c5ed543ccb99e42ac466ba669": {
          "model_module": "@jupyter-widgets/controls",
          "model_name": "DescriptionStyleModel",
          "model_module_version": "1.5.0",
          "state": {
            "_model_module": "@jupyter-widgets/controls",
            "_model_module_version": "1.5.0",
            "_model_name": "DescriptionStyleModel",
            "_view_count": null,
            "_view_module": "@jupyter-widgets/base",
            "_view_module_version": "1.2.0",
            "_view_name": "StyleView",
            "description_width": ""
          }
        },
        "000de210b730409f81df4130a7c56106": {
          "model_module": "@jupyter-widgets/controls",
          "model_name": "CheckboxModel",
          "model_module_version": "1.5.0",
          "state": {
            "_dom_classes": [],
            "_model_module": "@jupyter-widgets/controls",
            "_model_module_version": "1.5.0",
            "_model_name": "CheckboxModel",
            "_view_count": null,
            "_view_module": "@jupyter-widgets/controls",
            "_view_module_version": "1.5.0",
            "_view_name": "CheckboxView",
            "description": "RandomForestClassifier(max_depth=26, random_state=0)",
            "description_tooltip": null,
            "disabled": false,
            "indent": false,
            "layout": "IPY_MODEL_a593f5f3da0749e09ac5c74f18831496",
            "style": "IPY_MODEL_e51a5276b04e4ade8d038f4294f5565b",
            "value": false
          }
        },
        "a593f5f3da0749e09ac5c74f18831496": {
          "model_module": "@jupyter-widgets/base",
          "model_name": "LayoutModel",
          "model_module_version": "1.2.0",
          "state": {
            "_model_module": "@jupyter-widgets/base",
            "_model_module_version": "1.2.0",
            "_model_name": "LayoutModel",
            "_view_count": null,
            "_view_module": "@jupyter-widgets/base",
            "_view_module_version": "1.2.0",
            "_view_name": "LayoutView",
            "align_content": null,
            "align_items": null,
            "align_self": null,
            "border": null,
            "bottom": null,
            "display": null,
            "flex": null,
            "flex_flow": null,
            "grid_area": null,
            "grid_auto_columns": null,
            "grid_auto_flow": null,
            "grid_auto_rows": null,
            "grid_column": null,
            "grid_gap": null,
            "grid_row": null,
            "grid_template_areas": null,
            "grid_template_columns": null,
            "grid_template_rows": null,
            "height": null,
            "justify_content": null,
            "justify_items": null,
            "left": null,
            "margin": null,
            "max_height": null,
            "max_width": null,
            "min_height": null,
            "min_width": null,
            "object_fit": null,
            "object_position": null,
            "order": null,
            "overflow": null,
            "overflow_x": null,
            "overflow_y": null,
            "padding": null,
            "right": null,
            "top": null,
            "visibility": null,
            "width": null
          }
        },
        "e51a5276b04e4ade8d038f4294f5565b": {
          "model_module": "@jupyter-widgets/controls",
          "model_name": "DescriptionStyleModel",
          "model_module_version": "1.5.0",
          "state": {
            "_model_module": "@jupyter-widgets/controls",
            "_model_module_version": "1.5.0",
            "_model_name": "DescriptionStyleModel",
            "_view_count": null,
            "_view_module": "@jupyter-widgets/base",
            "_view_module_version": "1.2.0",
            "_view_name": "StyleView",
            "description_width": ""
          }
        },
        "dc7b4d3ab2ab47b294a4719de68518a4": {
          "model_module": "@jupyter-widgets/controls",
          "model_name": "CheckboxModel",
          "model_module_version": "1.5.0",
          "state": {
            "_dom_classes": [],
            "_model_module": "@jupyter-widgets/controls",
            "_model_module_version": "1.5.0",
            "_model_name": "CheckboxModel",
            "_view_count": null,
            "_view_module": "@jupyter-widgets/controls",
            "_view_module_version": "1.5.0",
            "_view_name": "CheckboxView",
            "description": "RandomForestClassifier(max_depth=26, n_estimators=61, random_state=0)",
            "description_tooltip": null,
            "disabled": false,
            "indent": false,
            "layout": "IPY_MODEL_6c76c848e2664f7484bb11ce4609b5cc",
            "style": "IPY_MODEL_3abfc38002b648888cdf5df910b3db12",
            "value": false
          }
        },
        "6c76c848e2664f7484bb11ce4609b5cc": {
          "model_module": "@jupyter-widgets/base",
          "model_name": "LayoutModel",
          "model_module_version": "1.2.0",
          "state": {
            "_model_module": "@jupyter-widgets/base",
            "_model_module_version": "1.2.0",
            "_model_name": "LayoutModel",
            "_view_count": null,
            "_view_module": "@jupyter-widgets/base",
            "_view_module_version": "1.2.0",
            "_view_name": "LayoutView",
            "align_content": null,
            "align_items": null,
            "align_self": null,
            "border": null,
            "bottom": null,
            "display": null,
            "flex": null,
            "flex_flow": null,
            "grid_area": null,
            "grid_auto_columns": null,
            "grid_auto_flow": null,
            "grid_auto_rows": null,
            "grid_column": null,
            "grid_gap": null,
            "grid_row": null,
            "grid_template_areas": null,
            "grid_template_columns": null,
            "grid_template_rows": null,
            "height": null,
            "justify_content": null,
            "justify_items": null,
            "left": null,
            "margin": null,
            "max_height": null,
            "max_width": null,
            "min_height": null,
            "min_width": null,
            "object_fit": null,
            "object_position": null,
            "order": null,
            "overflow": null,
            "overflow_x": null,
            "overflow_y": null,
            "padding": null,
            "right": null,
            "top": null,
            "visibility": null,
            "width": null
          }
        },
        "3abfc38002b648888cdf5df910b3db12": {
          "model_module": "@jupyter-widgets/controls",
          "model_name": "DescriptionStyleModel",
          "model_module_version": "1.5.0",
          "state": {
            "_model_module": "@jupyter-widgets/controls",
            "_model_module_version": "1.5.0",
            "_model_name": "DescriptionStyleModel",
            "_view_count": null,
            "_view_module": "@jupyter-widgets/base",
            "_view_module_version": "1.2.0",
            "_view_name": "StyleView",
            "description_width": ""
          }
        },
        "48978d3bbf23417489ea3580ab7af292": {
          "model_module": "@jupyter-widgets/controls",
          "model_name": "CheckboxModel",
          "model_module_version": "1.5.0",
          "state": {
            "_dom_classes": [],
            "_model_module": "@jupyter-widgets/controls",
            "_model_module_version": "1.5.0",
            "_model_name": "CheckboxModel",
            "_view_count": null,
            "_view_module": "@jupyter-widgets/controls",
            "_view_module_version": "1.5.0",
            "_view_name": "CheckboxView",
            "description": "XGBClassifier(objective='multi:softprob')",
            "description_tooltip": null,
            "disabled": false,
            "indent": false,
            "layout": "IPY_MODEL_bae9221cac494c7bac9e725d71c441c7",
            "style": "IPY_MODEL_342271d55eba43528e726ca6878fe3bc",
            "value": false
          }
        },
        "bae9221cac494c7bac9e725d71c441c7": {
          "model_module": "@jupyter-widgets/base",
          "model_name": "LayoutModel",
          "model_module_version": "1.2.0",
          "state": {
            "_model_module": "@jupyter-widgets/base",
            "_model_module_version": "1.2.0",
            "_model_name": "LayoutModel",
            "_view_count": null,
            "_view_module": "@jupyter-widgets/base",
            "_view_module_version": "1.2.0",
            "_view_name": "LayoutView",
            "align_content": null,
            "align_items": null,
            "align_self": null,
            "border": null,
            "bottom": null,
            "display": null,
            "flex": null,
            "flex_flow": null,
            "grid_area": null,
            "grid_auto_columns": null,
            "grid_auto_flow": null,
            "grid_auto_rows": null,
            "grid_column": null,
            "grid_gap": null,
            "grid_row": null,
            "grid_template_areas": null,
            "grid_template_columns": null,
            "grid_template_rows": null,
            "height": null,
            "justify_content": null,
            "justify_items": null,
            "left": null,
            "margin": null,
            "max_height": null,
            "max_width": null,
            "min_height": null,
            "min_width": null,
            "object_fit": null,
            "object_position": null,
            "order": null,
            "overflow": null,
            "overflow_x": null,
            "overflow_y": null,
            "padding": null,
            "right": null,
            "top": null,
            "visibility": null,
            "width": null
          }
        },
        "342271d55eba43528e726ca6878fe3bc": {
          "model_module": "@jupyter-widgets/controls",
          "model_name": "DescriptionStyleModel",
          "model_module_version": "1.5.0",
          "state": {
            "_model_module": "@jupyter-widgets/controls",
            "_model_module_version": "1.5.0",
            "_model_name": "DescriptionStyleModel",
            "_view_count": null,
            "_view_module": "@jupyter-widgets/base",
            "_view_module_version": "1.2.0",
            "_view_name": "StyleView",
            "description_width": ""
          }
        },
        "160050329e314aa794f2bf1c0493d907": {
          "model_module": "@jupyter-widgets/controls",
          "model_name": "CheckboxModel",
          "model_module_version": "1.5.0",
          "state": {
            "_dom_classes": [],
            "_model_module": "@jupyter-widgets/controls",
            "_model_module_version": "1.5.0",
            "_model_name": "CheckboxModel",
            "_view_count": null,
            "_view_module": "@jupyter-widgets/controls",
            "_view_module_version": "1.5.0",
            "_view_name": "CheckboxView",
            "description": "XGBClassifier(max_depth=8, objective='multi:softprob')",
            "description_tooltip": null,
            "disabled": false,
            "indent": false,
            "layout": "IPY_MODEL_f66f9e0415044c2d9179493bbfed975b",
            "style": "IPY_MODEL_d537cc117d614c3f90509dac04b514a6",
            "value": false
          }
        },
        "f66f9e0415044c2d9179493bbfed975b": {
          "model_module": "@jupyter-widgets/base",
          "model_name": "LayoutModel",
          "model_module_version": "1.2.0",
          "state": {
            "_model_module": "@jupyter-widgets/base",
            "_model_module_version": "1.2.0",
            "_model_name": "LayoutModel",
            "_view_count": null,
            "_view_module": "@jupyter-widgets/base",
            "_view_module_version": "1.2.0",
            "_view_name": "LayoutView",
            "align_content": null,
            "align_items": null,
            "align_self": null,
            "border": null,
            "bottom": null,
            "display": null,
            "flex": null,
            "flex_flow": null,
            "grid_area": null,
            "grid_auto_columns": null,
            "grid_auto_flow": null,
            "grid_auto_rows": null,
            "grid_column": null,
            "grid_gap": null,
            "grid_row": null,
            "grid_template_areas": null,
            "grid_template_columns": null,
            "grid_template_rows": null,
            "height": null,
            "justify_content": null,
            "justify_items": null,
            "left": null,
            "margin": null,
            "max_height": null,
            "max_width": null,
            "min_height": null,
            "min_width": null,
            "object_fit": null,
            "object_position": null,
            "order": null,
            "overflow": null,
            "overflow_x": null,
            "overflow_y": null,
            "padding": null,
            "right": null,
            "top": null,
            "visibility": null,
            "width": null
          }
        },
        "d537cc117d614c3f90509dac04b514a6": {
          "model_module": "@jupyter-widgets/controls",
          "model_name": "DescriptionStyleModel",
          "model_module_version": "1.5.0",
          "state": {
            "_model_module": "@jupyter-widgets/controls",
            "_model_module_version": "1.5.0",
            "_model_name": "DescriptionStyleModel",
            "_view_count": null,
            "_view_module": "@jupyter-widgets/base",
            "_view_module_version": "1.2.0",
            "_view_name": "StyleView",
            "description_width": ""
          }
        },
        "c8336474393344e7a2b6c4b1c0ddfdf0": {
          "model_module": "@jupyter-widgets/controls",
          "model_name": "CheckboxModel",
          "model_module_version": "1.5.0",
          "state": {
            "_dom_classes": [],
            "_model_module": "@jupyter-widgets/controls",
            "_model_module_version": "1.5.0",
            "_model_name": "CheckboxModel",
            "_view_count": null,
            "_view_module": "@jupyter-widgets/controls",
            "_view_module_version": "1.5.0",
            "_view_name": "CheckboxView",
            "description": "XGBClassifier(n_estimators=223, objective='multi:softprob')",
            "description_tooltip": null,
            "disabled": false,
            "indent": false,
            "layout": "IPY_MODEL_5f9f6c76392f44279fa991065e3f471c",
            "style": "IPY_MODEL_112089b20fd54caa8c07e860fac374be",
            "value": false
          }
        },
        "5f9f6c76392f44279fa991065e3f471c": {
          "model_module": "@jupyter-widgets/base",
          "model_name": "LayoutModel",
          "model_module_version": "1.2.0",
          "state": {
            "_model_module": "@jupyter-widgets/base",
            "_model_module_version": "1.2.0",
            "_model_name": "LayoutModel",
            "_view_count": null,
            "_view_module": "@jupyter-widgets/base",
            "_view_module_version": "1.2.0",
            "_view_name": "LayoutView",
            "align_content": null,
            "align_items": null,
            "align_self": null,
            "border": null,
            "bottom": null,
            "display": null,
            "flex": null,
            "flex_flow": null,
            "grid_area": null,
            "grid_auto_columns": null,
            "grid_auto_flow": null,
            "grid_auto_rows": null,
            "grid_column": null,
            "grid_gap": null,
            "grid_row": null,
            "grid_template_areas": null,
            "grid_template_columns": null,
            "grid_template_rows": null,
            "height": null,
            "justify_content": null,
            "justify_items": null,
            "left": null,
            "margin": null,
            "max_height": null,
            "max_width": null,
            "min_height": null,
            "min_width": null,
            "object_fit": null,
            "object_position": null,
            "order": null,
            "overflow": null,
            "overflow_x": null,
            "overflow_y": null,
            "padding": null,
            "right": null,
            "top": null,
            "visibility": null,
            "width": null
          }
        },
        "112089b20fd54caa8c07e860fac374be": {
          "model_module": "@jupyter-widgets/controls",
          "model_name": "DescriptionStyleModel",
          "model_module_version": "1.5.0",
          "state": {
            "_model_module": "@jupyter-widgets/controls",
            "_model_module_version": "1.5.0",
            "_model_name": "DescriptionStyleModel",
            "_view_count": null,
            "_view_module": "@jupyter-widgets/base",
            "_view_module_version": "1.2.0",
            "_view_name": "StyleView",
            "description_width": ""
          }
        },
        "1e6923217c474b269801c8b9a461fb3d": {
          "model_module": "@jupyter-widgets/controls",
          "model_name": "CheckboxModel",
          "model_module_version": "1.5.0",
          "state": {
            "_dom_classes": [],
            "_model_module": "@jupyter-widgets/controls",
            "_model_module_version": "1.5.0",
            "_model_name": "CheckboxModel",
            "_view_count": null,
            "_view_module": "@jupyter-widgets/controls",
            "_view_module_version": "1.5.0",
            "_view_name": "CheckboxView",
            "description": "XGBClassifier(max_depth=8, n_estimators=223, objective='multi:softprob')",
            "description_tooltip": null,
            "disabled": false,
            "indent": false,
            "layout": "IPY_MODEL_1affc42620cd448e89073b146ab3046a",
            "style": "IPY_MODEL_7a77754886d849d1a6f4a42a1b9b1ced",
            "value": false
          }
        },
        "1affc42620cd448e89073b146ab3046a": {
          "model_module": "@jupyter-widgets/base",
          "model_name": "LayoutModel",
          "model_module_version": "1.2.0",
          "state": {
            "_model_module": "@jupyter-widgets/base",
            "_model_module_version": "1.2.0",
            "_model_name": "LayoutModel",
            "_view_count": null,
            "_view_module": "@jupyter-widgets/base",
            "_view_module_version": "1.2.0",
            "_view_name": "LayoutView",
            "align_content": null,
            "align_items": null,
            "align_self": null,
            "border": null,
            "bottom": null,
            "display": null,
            "flex": null,
            "flex_flow": null,
            "grid_area": null,
            "grid_auto_columns": null,
            "grid_auto_flow": null,
            "grid_auto_rows": null,
            "grid_column": null,
            "grid_gap": null,
            "grid_row": null,
            "grid_template_areas": null,
            "grid_template_columns": null,
            "grid_template_rows": null,
            "height": null,
            "justify_content": null,
            "justify_items": null,
            "left": null,
            "margin": null,
            "max_height": null,
            "max_width": null,
            "min_height": null,
            "min_width": null,
            "object_fit": null,
            "object_position": null,
            "order": null,
            "overflow": null,
            "overflow_x": null,
            "overflow_y": null,
            "padding": null,
            "right": null,
            "top": null,
            "visibility": null,
            "width": null
          }
        },
        "7a77754886d849d1a6f4a42a1b9b1ced": {
          "model_module": "@jupyter-widgets/controls",
          "model_name": "DescriptionStyleModel",
          "model_module_version": "1.5.0",
          "state": {
            "_model_module": "@jupyter-widgets/controls",
            "_model_module_version": "1.5.0",
            "_model_name": "DescriptionStyleModel",
            "_view_count": null,
            "_view_module": "@jupyter-widgets/base",
            "_view_module_version": "1.2.0",
            "_view_name": "StyleView",
            "description_width": ""
          }
        },
        "b26bf360376b47a4ad755a49dd969099": {
          "model_module": "@jupyter-widgets/controls",
          "model_name": "CheckboxModel",
          "model_module_version": "1.5.0",
          "state": {
            "_dom_classes": [],
            "_model_module": "@jupyter-widgets/controls",
            "_model_module_version": "1.5.0",
            "_model_name": "CheckboxModel",
            "_view_count": null,
            "_view_module": "@jupyter-widgets/controls",
            "_view_module_version": "1.5.0",
            "_view_name": "CheckboxView",
            "description": "KNeighborsClassifier()",
            "description_tooltip": null,
            "disabled": false,
            "indent": false,
            "layout": "IPY_MODEL_4671a15102054cbcb2fe0ac1287f198b",
            "style": "IPY_MODEL_ec4e1bf981a2408f9f5e2f0cab329e09",
            "value": false
          }
        },
        "4671a15102054cbcb2fe0ac1287f198b": {
          "model_module": "@jupyter-widgets/base",
          "model_name": "LayoutModel",
          "model_module_version": "1.2.0",
          "state": {
            "_model_module": "@jupyter-widgets/base",
            "_model_module_version": "1.2.0",
            "_model_name": "LayoutModel",
            "_view_count": null,
            "_view_module": "@jupyter-widgets/base",
            "_view_module_version": "1.2.0",
            "_view_name": "LayoutView",
            "align_content": null,
            "align_items": null,
            "align_self": null,
            "border": null,
            "bottom": null,
            "display": null,
            "flex": null,
            "flex_flow": null,
            "grid_area": null,
            "grid_auto_columns": null,
            "grid_auto_flow": null,
            "grid_auto_rows": null,
            "grid_column": null,
            "grid_gap": null,
            "grid_row": null,
            "grid_template_areas": null,
            "grid_template_columns": null,
            "grid_template_rows": null,
            "height": null,
            "justify_content": null,
            "justify_items": null,
            "left": null,
            "margin": null,
            "max_height": null,
            "max_width": null,
            "min_height": null,
            "min_width": null,
            "object_fit": null,
            "object_position": null,
            "order": null,
            "overflow": null,
            "overflow_x": null,
            "overflow_y": null,
            "padding": null,
            "right": null,
            "top": null,
            "visibility": null,
            "width": null
          }
        },
        "ec4e1bf981a2408f9f5e2f0cab329e09": {
          "model_module": "@jupyter-widgets/controls",
          "model_name": "DescriptionStyleModel",
          "model_module_version": "1.5.0",
          "state": {
            "_model_module": "@jupyter-widgets/controls",
            "_model_module_version": "1.5.0",
            "_model_name": "DescriptionStyleModel",
            "_view_count": null,
            "_view_module": "@jupyter-widgets/base",
            "_view_module_version": "1.2.0",
            "_view_name": "StyleView",
            "description_width": ""
          }
        },
        "054fc2678210417f91bf374ef8d07a49": {
          "model_module": "@jupyter-widgets/controls",
          "model_name": "CheckboxModel",
          "model_module_version": "1.5.0",
          "state": {
            "_dom_classes": [],
            "_model_module": "@jupyter-widgets/controls",
            "_model_module_version": "1.5.0",
            "_model_name": "CheckboxModel",
            "_view_count": null,
            "_view_module": "@jupyter-widgets/controls",
            "_view_module_version": "1.5.0",
            "_view_name": "CheckboxView",
            "description": "KNeighborsClassifier(n_neighbors=1)",
            "description_tooltip": null,
            "disabled": false,
            "indent": false,
            "layout": "IPY_MODEL_c230559b14c0443cbe768cfb56ac92c7",
            "style": "IPY_MODEL_bbc31fbb4fba43f1a9cf4fc48098d08c",
            "value": false
          }
        },
        "c230559b14c0443cbe768cfb56ac92c7": {
          "model_module": "@jupyter-widgets/base",
          "model_name": "LayoutModel",
          "model_module_version": "1.2.0",
          "state": {
            "_model_module": "@jupyter-widgets/base",
            "_model_module_version": "1.2.0",
            "_model_name": "LayoutModel",
            "_view_count": null,
            "_view_module": "@jupyter-widgets/base",
            "_view_module_version": "1.2.0",
            "_view_name": "LayoutView",
            "align_content": null,
            "align_items": null,
            "align_self": null,
            "border": null,
            "bottom": null,
            "display": null,
            "flex": null,
            "flex_flow": null,
            "grid_area": null,
            "grid_auto_columns": null,
            "grid_auto_flow": null,
            "grid_auto_rows": null,
            "grid_column": null,
            "grid_gap": null,
            "grid_row": null,
            "grid_template_areas": null,
            "grid_template_columns": null,
            "grid_template_rows": null,
            "height": null,
            "justify_content": null,
            "justify_items": null,
            "left": null,
            "margin": null,
            "max_height": null,
            "max_width": null,
            "min_height": null,
            "min_width": null,
            "object_fit": null,
            "object_position": null,
            "order": null,
            "overflow": null,
            "overflow_x": null,
            "overflow_y": null,
            "padding": null,
            "right": null,
            "top": null,
            "visibility": null,
            "width": null
          }
        },
        "bbc31fbb4fba43f1a9cf4fc48098d08c": {
          "model_module": "@jupyter-widgets/controls",
          "model_name": "DescriptionStyleModel",
          "model_module_version": "1.5.0",
          "state": {
            "_model_module": "@jupyter-widgets/controls",
            "_model_module_version": "1.5.0",
            "_model_name": "DescriptionStyleModel",
            "_view_count": null,
            "_view_module": "@jupyter-widgets/base",
            "_view_module_version": "1.2.0",
            "_view_name": "StyleView",
            "description_width": ""
          }
        },
        "cab2d14082b44aad81bc00e4af86273d": {
          "model_module": "@jupyter-widgets/controls",
          "model_name": "CheckboxModel",
          "model_module_version": "1.5.0",
          "state": {
            "_dom_classes": [],
            "_model_module": "@jupyter-widgets/controls",
            "_model_module_version": "1.5.0",
            "_model_name": "CheckboxModel",
            "_view_count": null,
            "_view_module": "@jupyter-widgets/controls",
            "_view_module_version": "1.5.0",
            "_view_name": "CheckboxView",
            "description": "GaussianNB()",
            "description_tooltip": null,
            "disabled": false,
            "indent": false,
            "layout": "IPY_MODEL_82b74049fc8742c4840b8831168a30af",
            "style": "IPY_MODEL_97b08a48906541dd9e5dd8dfd76d5516",
            "value": false
          }
        },
        "82b74049fc8742c4840b8831168a30af": {
          "model_module": "@jupyter-widgets/base",
          "model_name": "LayoutModel",
          "model_module_version": "1.2.0",
          "state": {
            "_model_module": "@jupyter-widgets/base",
            "_model_module_version": "1.2.0",
            "_model_name": "LayoutModel",
            "_view_count": null,
            "_view_module": "@jupyter-widgets/base",
            "_view_module_version": "1.2.0",
            "_view_name": "LayoutView",
            "align_content": null,
            "align_items": null,
            "align_self": null,
            "border": null,
            "bottom": null,
            "display": null,
            "flex": null,
            "flex_flow": null,
            "grid_area": null,
            "grid_auto_columns": null,
            "grid_auto_flow": null,
            "grid_auto_rows": null,
            "grid_column": null,
            "grid_gap": null,
            "grid_row": null,
            "grid_template_areas": null,
            "grid_template_columns": null,
            "grid_template_rows": null,
            "height": null,
            "justify_content": null,
            "justify_items": null,
            "left": null,
            "margin": null,
            "max_height": null,
            "max_width": null,
            "min_height": null,
            "min_width": null,
            "object_fit": null,
            "object_position": null,
            "order": null,
            "overflow": null,
            "overflow_x": null,
            "overflow_y": null,
            "padding": null,
            "right": null,
            "top": null,
            "visibility": null,
            "width": null
          }
        },
        "97b08a48906541dd9e5dd8dfd76d5516": {
          "model_module": "@jupyter-widgets/controls",
          "model_name": "DescriptionStyleModel",
          "model_module_version": "1.5.0",
          "state": {
            "_model_module": "@jupyter-widgets/controls",
            "_model_module_version": "1.5.0",
            "_model_name": "DescriptionStyleModel",
            "_view_count": null,
            "_view_module": "@jupyter-widgets/base",
            "_view_module_version": "1.2.0",
            "_view_name": "StyleView",
            "description_width": ""
          }
        }
      }
    }
  },
  "cells": [
    {
      "cell_type": "markdown",
      "metadata": {
        "id": "view-in-github",
        "colab_type": "text"
      },
      "source": [
        "<a href=\"https://colab.research.google.com/github/RafsanJany-44/ARC/blob/master/Activity_Recognition_EEG__Final_Version.ipynb\" target=\"_parent\"><img src=\"https://colab.research.google.com/assets/colab-badge.svg\" alt=\"Open In Colab\"/></a>"
      ]
    },
    {
      "cell_type": "code",
      "execution_count": 1,
      "metadata": {
        "id": "zdFOS9nFlpsU",
        "colab": {
          "base_uri": "https://localhost:8080/"
        },
        "outputId": "8ee228fd-5571-45d4-f68c-d974e4bbc37a"
      },
      "outputs": [
        {
          "output_type": "stream",
          "name": "stdout",
          "text": [
            "Mounted at /content/drive\n"
          ]
        }
      ],
      "source": [
        "from google.colab import drive\n",
        "drive.mount('/content/drive')"
      ]
    },
    {
      "cell_type": "markdown",
      "source": [
        "###Function"
      ],
      "metadata": {
        "id": "SEsFaHeE2Pss"
      }
    },
    {
      "cell_type": "code",
      "source": [
        "!pip install imbalanced-learn\n",
        "\n",
        "from imblearn.over_sampling import SMOTE\n",
        "\n",
        "def balance(X_temp, y_temp):\n",
        "  smote = SMOTE()\n",
        "  X_temp, y_temp= smote.fit_resample(X_temp, y_temp)\n",
        "  return pd.concat([pd.DataFrame(X_temp), pd.DataFrame(y_temp)], axis=1)\n",
        "\n",
        "\n",
        "\n",
        "def models_check_box(models):\n",
        "  import ipywidgets as widgets\n",
        "  from IPython.display import display\n",
        "  new_keys=[]\n",
        "  for i in models:\n",
        "    i=widgets.Checkbox(\n",
        "      value=False,\n",
        "      description=str(i),\n",
        "      disabled=False,\n",
        "      indent=False\n",
        "      )\n",
        "    display(i)\n",
        "    new_keys.append(i)\n",
        "  return new_keys"
      ],
      "metadata": {
        "colab": {
          "base_uri": "https://localhost:8080/"
        },
        "id": "ESoueLt11P_w",
        "outputId": "cc9b5d3a-a247-41fc-af8c-ff468ce6f5ef"
      },
      "execution_count": 2,
      "outputs": [
        {
          "output_type": "stream",
          "name": "stdout",
          "text": [
            "Looking in indexes: https://pypi.org/simple, https://us-python.pkg.dev/colab-wheels/public/simple/\n",
            "Requirement already satisfied: imbalanced-learn in /usr/local/lib/python3.8/dist-packages (0.8.1)\n",
            "Requirement already satisfied: scikit-learn>=0.24 in /usr/local/lib/python3.8/dist-packages (from imbalanced-learn) (1.0.2)\n",
            "Requirement already satisfied: joblib>=0.11 in /usr/local/lib/python3.8/dist-packages (from imbalanced-learn) (1.2.0)\n",
            "Requirement already satisfied: numpy>=1.13.3 in /usr/local/lib/python3.8/dist-packages (from imbalanced-learn) (1.21.6)\n",
            "Requirement already satisfied: scipy>=0.19.1 in /usr/local/lib/python3.8/dist-packages (from imbalanced-learn) (1.7.3)\n",
            "Requirement already satisfied: threadpoolctl>=2.0.0 in /usr/local/lib/python3.8/dist-packages (from scikit-learn>=0.24->imbalanced-learn) (3.1.0)\n"
          ]
        }
      ]
    },
    {
      "cell_type": "markdown",
      "source": [
        "#Starting"
      ],
      "metadata": {
        "id": "A1B_8Nsw9-1Q"
      }
    },
    {
      "cell_type": "code",
      "source": [
        "import numpy as np\n",
        "import pandas as pd\n",
        "#dataset=pd.read_csv(\"/content/drive/MyDrive/EEG_CNU_Activity Recognition/EEG_CNU_Resting, walking, working and Reading_Control_2022.12.05.csv\")\n",
        " \n",
        "dataset=pd.read_excel(\"/content/drive/MyDrive/Iqram Sir/EEG_CNU_Resting, walking, working and Reading_Control_2022.12.22.xlsx\")\n",
        "\n",
        "classes = np.array(sorted(list(set(dataset.iloc[:, 1]))))\n",
        "target = \"Activity\"\n",
        "result = {}"
      ],
      "metadata": {
        "id": "M0AmIUwSmLfj"
      },
      "execution_count": 18,
      "outputs": []
    },
    {
      "cell_type": "code",
      "source": [
        "dataset.head()"
      ],
      "metadata": {
        "colab": {
          "base_uri": "https://localhost:8080/",
          "height": 317
        },
        "id": "4YN_C8yxm1ho",
        "outputId": "02f55e60-65db-49ec-f62c-d15feaf57a41"
      },
      "execution_count": 19,
      "outputs": [
        {
          "output_type": "execute_result",
          "data": {
            "text/plain": [
              "  Activity   Status  Epoch  MeanP_Alpha_Fz  MedianF_Alpha_Fz  MeanF_Alpha_Fz  \\\n",
              "0  Resting  Control      0        0.000008          11.70732        28.29268   \n",
              "1  Resting  Control      1        0.000010          10.73171        28.78049   \n",
              "2  Resting  Control      2        0.000008          13.17073        28.78049   \n",
              "3  Resting  Control      3        0.000011          10.24390        27.80488   \n",
              "4  Resting  Control      4        0.000007          10.73171        23.41463   \n",
              "\n",
              "   Spectral Edge_Alpha_Fz  PeakF_Alpha_Fz  MeanP_Beta_Fz  MedianF_Beta_Fz  \\\n",
              "0                20.00000        10.73171       0.000017         19.51220   \n",
              "1                22.43902        10.24390       0.000023         22.92683   \n",
              "2                23.41463         9.26829       0.000023         22.43902   \n",
              "3                18.53659        10.73171       0.000019         22.43902   \n",
              "4                18.04878        11.70732       0.000010         17.56098   \n",
              "\n",
              "   ...  Relative Power_Alpha_Global  Relative Power_Beta_Global  \\\n",
              "0  ...                     0.358154                    0.639771   \n",
              "1  ...                     0.457695                    0.806208   \n",
              "2  ...                     0.501419                    1.059244   \n",
              "3  ...                     0.497909                    0.710690   \n",
              "4  ...                     0.429825                    0.569204   \n",
              "\n",
              "   Relative Power_Theta_Global  Relative Power_Delta_Global  \\\n",
              "0                     0.749628                     4.031903   \n",
              "1                     0.723662                     3.759249   \n",
              "2                     0.737332                     3.320235   \n",
              "3                     0.907816                     3.653423   \n",
              "4                     0.849345                     4.001597   \n",
              "\n",
              "   Relative Power_Gamma_Global  ∆Relative Power_Alpha_Global  \\\n",
              "0                     0.220545                     -0.273666   \n",
              "1                     0.253186                     -0.071797   \n",
              "2                     0.381769                      0.016875   \n",
              "3                     0.230162                      0.009757   \n",
              "4                     0.150029                     -0.128318   \n",
              "\n",
              "   ∆Relative Power_Beta_Global  ∆Relative Power_Theta_Global  \\\n",
              "0                    -0.164639                     -0.009611   \n",
              "1                     0.052680                     -0.043916   \n",
              "2                     0.383074                     -0.025855   \n",
              "3                    -0.072039                      0.199384   \n",
              "4                    -0.256780                      0.122134   \n",
              "\n",
              "   ∆Relative Power_Delta_Global  ∆Relative Power_Gamma_Global  \n",
              "0                      0.107193                     -0.356230  \n",
              "1                      0.032320                     -0.260950  \n",
              "2                     -0.088237                      0.114385  \n",
              "3                      0.003259                     -0.328157  \n",
              "4                      0.098870                     -0.562065  \n",
              "\n",
              "[5 rows x 259 columns]"
            ],
            "text/html": [
              "\n",
              "  <div id=\"df-fa411f44-716e-45c2-86af-c3a9a165b174\">\n",
              "    <div class=\"colab-df-container\">\n",
              "      <div>\n",
              "<style scoped>\n",
              "    .dataframe tbody tr th:only-of-type {\n",
              "        vertical-align: middle;\n",
              "    }\n",
              "\n",
              "    .dataframe tbody tr th {\n",
              "        vertical-align: top;\n",
              "    }\n",
              "\n",
              "    .dataframe thead th {\n",
              "        text-align: right;\n",
              "    }\n",
              "</style>\n",
              "<table border=\"1\" class=\"dataframe\">\n",
              "  <thead>\n",
              "    <tr style=\"text-align: right;\">\n",
              "      <th></th>\n",
              "      <th>Activity</th>\n",
              "      <th>Status</th>\n",
              "      <th>Epoch</th>\n",
              "      <th>MeanP_Alpha_Fz</th>\n",
              "      <th>MedianF_Alpha_Fz</th>\n",
              "      <th>MeanF_Alpha_Fz</th>\n",
              "      <th>Spectral Edge_Alpha_Fz</th>\n",
              "      <th>PeakF_Alpha_Fz</th>\n",
              "      <th>MeanP_Beta_Fz</th>\n",
              "      <th>MedianF_Beta_Fz</th>\n",
              "      <th>...</th>\n",
              "      <th>Relative Power_Alpha_Global</th>\n",
              "      <th>Relative Power_Beta_Global</th>\n",
              "      <th>Relative Power_Theta_Global</th>\n",
              "      <th>Relative Power_Delta_Global</th>\n",
              "      <th>Relative Power_Gamma_Global</th>\n",
              "      <th>∆Relative Power_Alpha_Global</th>\n",
              "      <th>∆Relative Power_Beta_Global</th>\n",
              "      <th>∆Relative Power_Theta_Global</th>\n",
              "      <th>∆Relative Power_Delta_Global</th>\n",
              "      <th>∆Relative Power_Gamma_Global</th>\n",
              "    </tr>\n",
              "  </thead>\n",
              "  <tbody>\n",
              "    <tr>\n",
              "      <th>0</th>\n",
              "      <td>Resting</td>\n",
              "      <td>Control</td>\n",
              "      <td>0</td>\n",
              "      <td>0.000008</td>\n",
              "      <td>11.70732</td>\n",
              "      <td>28.29268</td>\n",
              "      <td>20.00000</td>\n",
              "      <td>10.73171</td>\n",
              "      <td>0.000017</td>\n",
              "      <td>19.51220</td>\n",
              "      <td>...</td>\n",
              "      <td>0.358154</td>\n",
              "      <td>0.639771</td>\n",
              "      <td>0.749628</td>\n",
              "      <td>4.031903</td>\n",
              "      <td>0.220545</td>\n",
              "      <td>-0.273666</td>\n",
              "      <td>-0.164639</td>\n",
              "      <td>-0.009611</td>\n",
              "      <td>0.107193</td>\n",
              "      <td>-0.356230</td>\n",
              "    </tr>\n",
              "    <tr>\n",
              "      <th>1</th>\n",
              "      <td>Resting</td>\n",
              "      <td>Control</td>\n",
              "      <td>1</td>\n",
              "      <td>0.000010</td>\n",
              "      <td>10.73171</td>\n",
              "      <td>28.78049</td>\n",
              "      <td>22.43902</td>\n",
              "      <td>10.24390</td>\n",
              "      <td>0.000023</td>\n",
              "      <td>22.92683</td>\n",
              "      <td>...</td>\n",
              "      <td>0.457695</td>\n",
              "      <td>0.806208</td>\n",
              "      <td>0.723662</td>\n",
              "      <td>3.759249</td>\n",
              "      <td>0.253186</td>\n",
              "      <td>-0.071797</td>\n",
              "      <td>0.052680</td>\n",
              "      <td>-0.043916</td>\n",
              "      <td>0.032320</td>\n",
              "      <td>-0.260950</td>\n",
              "    </tr>\n",
              "    <tr>\n",
              "      <th>2</th>\n",
              "      <td>Resting</td>\n",
              "      <td>Control</td>\n",
              "      <td>2</td>\n",
              "      <td>0.000008</td>\n",
              "      <td>13.17073</td>\n",
              "      <td>28.78049</td>\n",
              "      <td>23.41463</td>\n",
              "      <td>9.26829</td>\n",
              "      <td>0.000023</td>\n",
              "      <td>22.43902</td>\n",
              "      <td>...</td>\n",
              "      <td>0.501419</td>\n",
              "      <td>1.059244</td>\n",
              "      <td>0.737332</td>\n",
              "      <td>3.320235</td>\n",
              "      <td>0.381769</td>\n",
              "      <td>0.016875</td>\n",
              "      <td>0.383074</td>\n",
              "      <td>-0.025855</td>\n",
              "      <td>-0.088237</td>\n",
              "      <td>0.114385</td>\n",
              "    </tr>\n",
              "    <tr>\n",
              "      <th>3</th>\n",
              "      <td>Resting</td>\n",
              "      <td>Control</td>\n",
              "      <td>3</td>\n",
              "      <td>0.000011</td>\n",
              "      <td>10.24390</td>\n",
              "      <td>27.80488</td>\n",
              "      <td>18.53659</td>\n",
              "      <td>10.73171</td>\n",
              "      <td>0.000019</td>\n",
              "      <td>22.43902</td>\n",
              "      <td>...</td>\n",
              "      <td>0.497909</td>\n",
              "      <td>0.710690</td>\n",
              "      <td>0.907816</td>\n",
              "      <td>3.653423</td>\n",
              "      <td>0.230162</td>\n",
              "      <td>0.009757</td>\n",
              "      <td>-0.072039</td>\n",
              "      <td>0.199384</td>\n",
              "      <td>0.003259</td>\n",
              "      <td>-0.328157</td>\n",
              "    </tr>\n",
              "    <tr>\n",
              "      <th>4</th>\n",
              "      <td>Resting</td>\n",
              "      <td>Control</td>\n",
              "      <td>4</td>\n",
              "      <td>0.000007</td>\n",
              "      <td>10.73171</td>\n",
              "      <td>23.41463</td>\n",
              "      <td>18.04878</td>\n",
              "      <td>11.70732</td>\n",
              "      <td>0.000010</td>\n",
              "      <td>17.56098</td>\n",
              "      <td>...</td>\n",
              "      <td>0.429825</td>\n",
              "      <td>0.569204</td>\n",
              "      <td>0.849345</td>\n",
              "      <td>4.001597</td>\n",
              "      <td>0.150029</td>\n",
              "      <td>-0.128318</td>\n",
              "      <td>-0.256780</td>\n",
              "      <td>0.122134</td>\n",
              "      <td>0.098870</td>\n",
              "      <td>-0.562065</td>\n",
              "    </tr>\n",
              "  </tbody>\n",
              "</table>\n",
              "<p>5 rows × 259 columns</p>\n",
              "</div>\n",
              "      <button class=\"colab-df-convert\" onclick=\"convertToInteractive('df-fa411f44-716e-45c2-86af-c3a9a165b174')\"\n",
              "              title=\"Convert this dataframe to an interactive table.\"\n",
              "              style=\"display:none;\">\n",
              "        \n",
              "  <svg xmlns=\"http://www.w3.org/2000/svg\" height=\"24px\"viewBox=\"0 0 24 24\"\n",
              "       width=\"24px\">\n",
              "    <path d=\"M0 0h24v24H0V0z\" fill=\"none\"/>\n",
              "    <path d=\"M18.56 5.44l.94 2.06.94-2.06 2.06-.94-2.06-.94-.94-2.06-.94 2.06-2.06.94zm-11 1L8.5 8.5l.94-2.06 2.06-.94-2.06-.94L8.5 2.5l-.94 2.06-2.06.94zm10 10l.94 2.06.94-2.06 2.06-.94-2.06-.94-.94-2.06-.94 2.06-2.06.94z\"/><path d=\"M17.41 7.96l-1.37-1.37c-.4-.4-.92-.59-1.43-.59-.52 0-1.04.2-1.43.59L10.3 9.45l-7.72 7.72c-.78.78-.78 2.05 0 2.83L4 21.41c.39.39.9.59 1.41.59.51 0 1.02-.2 1.41-.59l7.78-7.78 2.81-2.81c.8-.78.8-2.07 0-2.86zM5.41 20L4 18.59l7.72-7.72 1.47 1.35L5.41 20z\"/>\n",
              "  </svg>\n",
              "      </button>\n",
              "      \n",
              "  <style>\n",
              "    .colab-df-container {\n",
              "      display:flex;\n",
              "      flex-wrap:wrap;\n",
              "      gap: 12px;\n",
              "    }\n",
              "\n",
              "    .colab-df-convert {\n",
              "      background-color: #E8F0FE;\n",
              "      border: none;\n",
              "      border-radius: 50%;\n",
              "      cursor: pointer;\n",
              "      display: none;\n",
              "      fill: #1967D2;\n",
              "      height: 32px;\n",
              "      padding: 0 0 0 0;\n",
              "      width: 32px;\n",
              "    }\n",
              "\n",
              "    .colab-df-convert:hover {\n",
              "      background-color: #E2EBFA;\n",
              "      box-shadow: 0px 1px 2px rgba(60, 64, 67, 0.3), 0px 1px 3px 1px rgba(60, 64, 67, 0.15);\n",
              "      fill: #174EA6;\n",
              "    }\n",
              "\n",
              "    [theme=dark] .colab-df-convert {\n",
              "      background-color: #3B4455;\n",
              "      fill: #D2E3FC;\n",
              "    }\n",
              "\n",
              "    [theme=dark] .colab-df-convert:hover {\n",
              "      background-color: #434B5C;\n",
              "      box-shadow: 0px 1px 3px 1px rgba(0, 0, 0, 0.15);\n",
              "      filter: drop-shadow(0px 1px 2px rgba(0, 0, 0, 0.3));\n",
              "      fill: #FFFFFF;\n",
              "    }\n",
              "  </style>\n",
              "\n",
              "      <script>\n",
              "        const buttonEl =\n",
              "          document.querySelector('#df-fa411f44-716e-45c2-86af-c3a9a165b174 button.colab-df-convert');\n",
              "        buttonEl.style.display =\n",
              "          google.colab.kernel.accessAllowed ? 'block' : 'none';\n",
              "\n",
              "        async function convertToInteractive(key) {\n",
              "          const element = document.querySelector('#df-fa411f44-716e-45c2-86af-c3a9a165b174');\n",
              "          const dataTable =\n",
              "            await google.colab.kernel.invokeFunction('convertToInteractive',\n",
              "                                                     [key], {});\n",
              "          if (!dataTable) return;\n",
              "\n",
              "          const docLinkHtml = 'Like what you see? Visit the ' +\n",
              "            '<a target=\"_blank\" href=https://colab.research.google.com/notebooks/data_table.ipynb>data table notebook</a>'\n",
              "            + ' to learn more about interactive tables.';\n",
              "          element.innerHTML = '';\n",
              "          dataTable['output_type'] = 'display_data';\n",
              "          await google.colab.output.renderOutput(dataTable, element);\n",
              "          const docLink = document.createElement('div');\n",
              "          docLink.innerHTML = docLinkHtml;\n",
              "          element.appendChild(docLink);\n",
              "        }\n",
              "      </script>\n",
              "    </div>\n",
              "  </div>\n",
              "  "
            ]
          },
          "metadata": {},
          "execution_count": 19
        }
      ]
    },
    {
      "cell_type": "code",
      "source": [
        "dataset.shape"
      ],
      "metadata": {
        "colab": {
          "base_uri": "https://localhost:8080/"
        },
        "id": "0SDC0qL01iJd",
        "outputId": "b2204c7c-fa1d-4279-9322-5ab1bb34f64d"
      },
      "execution_count": 20,
      "outputs": [
        {
          "output_type": "execute_result",
          "data": {
            "text/plain": [
              "(1711, 259)"
            ]
          },
          "metadata": {},
          "execution_count": 20
        }
      ]
    },
    {
      "cell_type": "code",
      "source": [
        "dataset[target].value_counts()"
      ],
      "metadata": {
        "colab": {
          "base_uri": "https://localhost:8080/"
        },
        "id": "NicZ_GzN1mTL",
        "outputId": "17dccfa9-fbe3-4200-ff65-246896bfae70"
      },
      "execution_count": 21,
      "outputs": [
        {
          "output_type": "execute_result",
          "data": {
            "text/plain": [
              "Reading    793\n",
              "Walking    408\n",
              "Working    267\n",
              "Resting    243\n",
              "Name: Activity, dtype: int64"
            ]
          },
          "metadata": {},
          "execution_count": 21
        }
      ]
    },
    {
      "cell_type": "code",
      "source": [
        "set(list(dataset['Activity']))"
      ],
      "metadata": {
        "colab": {
          "base_uri": "https://localhost:8080/"
        },
        "id": "VS4iUbnyYaDH",
        "outputId": "70693b04-2d6d-4fed-bbad-641c6931945e"
      },
      "execution_count": 22,
      "outputs": [
        {
          "output_type": "execute_result",
          "data": {
            "text/plain": [
              "{'Reading', 'Resting', 'Walking', 'Working'}"
            ]
          },
          "metadata": {},
          "execution_count": 22
        }
      ]
    },
    {
      "cell_type": "code",
      "source": [
        "from sklearn.preprocessing import LabelEncoder\n",
        "encoder=LabelEncoder()\n",
        "dataset[target]=encoder.fit_transform(dataset[target])"
      ],
      "metadata": {
        "id": "Ljyj9yuIf-tX"
      },
      "execution_count": 23,
      "outputs": []
    },
    {
      "cell_type": "code",
      "source": [
        "set(list(dataset['Activity']))"
      ],
      "metadata": {
        "colab": {
          "base_uri": "https://localhost:8080/"
        },
        "id": "42si00q3SLh5",
        "outputId": "5ae0485c-cbe8-4047-9020-dfa926a33b24"
      },
      "execution_count": 24,
      "outputs": [
        {
          "output_type": "execute_result",
          "data": {
            "text/plain": [
              "{0, 1, 2, 3}"
            ]
          },
          "metadata": {},
          "execution_count": 24
        }
      ]
    },
    {
      "cell_type": "markdown",
      "source": [
        "###Spliting into X and y"
      ],
      "metadata": {
        "id": "TXMKr8bi2JnW"
      }
    },
    {
      "cell_type": "code",
      "source": [
        "X =  dataset.loc[:,dataset.columns != target]  # removing Activity \n",
        "X =  X.loc[:,X.columns != \"Status\"]            # removing Status\n",
        "X =  X.loc[:,X.columns != \"Epoch\"]             # removing Epoch\n",
        "y = dataset[\"Activity\"]\n",
        "\n",
        "X.head(10)"
      ],
      "metadata": {
        "colab": {
          "base_uri": "https://localhost:8080/",
          "height": 473
        },
        "id": "tIf-rcIB11o1",
        "outputId": "e232b748-0f9f-4d02-a39e-fe4a8f26c0c6"
      },
      "execution_count": 25,
      "outputs": [
        {
          "output_type": "execute_result",
          "data": {
            "text/plain": [
              "   MeanP_Alpha_Fz  MedianF_Alpha_Fz  MeanF_Alpha_Fz  Spectral Edge_Alpha_Fz  \\\n",
              "0        0.000008          11.70732        28.29268                20.00000   \n",
              "1        0.000010          10.73171        28.78049                22.43902   \n",
              "2        0.000008          13.17073        28.78049                23.41463   \n",
              "3        0.000011          10.24390        27.80488                18.53659   \n",
              "4        0.000007          10.73171        23.41463                18.04878   \n",
              "5        0.000008          10.24390        23.41463                17.56098   \n",
              "6        0.000005          11.21951        24.39024                17.56098   \n",
              "7        0.000005           9.75610        25.85366                18.53659   \n",
              "8        0.000006          10.24390        24.39024                17.56098   \n",
              "9        0.000014          11.21951        23.41463                18.04878   \n",
              "\n",
              "   PeakF_Alpha_Fz  MeanP_Beta_Fz  MedianF_Beta_Fz  MeanF_Beta_Fz  \\\n",
              "0        10.73171       0.000017         19.51220       38.04878   \n",
              "1        10.24390       0.000023         22.92683       38.53659   \n",
              "2         9.26829       0.000023         22.43902       37.56098   \n",
              "3        10.73171       0.000019         22.43902       38.04878   \n",
              "4        11.70732       0.000010         17.56098       36.09756   \n",
              "5        10.24390       0.000010         18.04878       36.09756   \n",
              "6        12.68293       0.000007         17.07317       38.04878   \n",
              "7         7.80488       0.000007         19.02439       35.60976   \n",
              "8         8.29268       0.000009         17.56098       36.09756   \n",
              "9        12.68293       0.000021         18.04878       35.60976   \n",
              "\n",
              "   Spectral Edge_Beta_Fz  PeakF_Beta_Fz  ...  Relative Power_Alpha_Global  \\\n",
              "0               32.68293       19.02439  ...                     0.358154   \n",
              "1               33.65854       23.41463  ...                     0.457695   \n",
              "2               31.70732       17.56098  ...                     0.501419   \n",
              "3               32.68293       28.29268  ...                     0.497909   \n",
              "4               29.26829       11.70732  ...                     0.429825   \n",
              "5               29.26829       17.07317  ...                     0.494096   \n",
              "6               31.21951       14.14634  ...                     0.527217   \n",
              "7               29.75610       13.17073  ...                     0.475599   \n",
              "8               29.26829       17.56098  ...                     0.482293   \n",
              "9               29.26829       12.68293  ...                     0.659929   \n",
              "\n",
              "   Relative Power_Beta_Global  Relative Power_Theta_Global  \\\n",
              "0                    0.639771                     0.749628   \n",
              "1                    0.806208                     0.723662   \n",
              "2                    1.059244                     0.737332   \n",
              "3                    0.710690                     0.907816   \n",
              "4                    0.569204                     0.849345   \n",
              "5                    0.687221                     0.812251   \n",
              "6                    0.668711                     0.770164   \n",
              "7                    0.719244                     0.764508   \n",
              "8                    0.620810                     0.933737   \n",
              "9                    0.855344                     1.188749   \n",
              "\n",
              "   Relative Power_Delta_Global  Relative Power_Gamma_Global  \\\n",
              "0                     4.031903                     0.220545   \n",
              "1                     3.759249                     0.253186   \n",
              "2                     3.320235                     0.381769   \n",
              "3                     3.653423                     0.230162   \n",
              "4                     4.001597                     0.150029   \n",
              "5                     3.785048                     0.221383   \n",
              "6                     3.853441                     0.180467   \n",
              "7                     3.833454                     0.207195   \n",
              "8                     3.798965                     0.164195   \n",
              "9                     3.079654                     0.216324   \n",
              "\n",
              "   ∆Relative Power_Alpha_Global  ∆Relative Power_Beta_Global  \\\n",
              "0                     -0.273666                    -0.164639   \n",
              "1                     -0.071797                     0.052680   \n",
              "2                      0.016875                     0.383074   \n",
              "3                      0.009757                    -0.072039   \n",
              "4                     -0.128318                    -0.256780   \n",
              "5                      0.002023                    -0.102682   \n",
              "6                      0.069192                    -0.126852   \n",
              "7                     -0.035489                    -0.060870   \n",
              "8                     -0.021913                    -0.189396   \n",
              "9                      0.338331                     0.116839   \n",
              "\n",
              "   ∆Relative Power_Theta_Global  ∆Relative Power_Delta_Global  \\\n",
              "0                     -0.009611                      0.107193   \n",
              "1                     -0.043916                      0.032320   \n",
              "2                     -0.025855                     -0.088237   \n",
              "3                      0.199384                      0.003259   \n",
              "4                      0.122134                      0.098870   \n",
              "5                      0.073126                      0.039404   \n",
              "6                      0.017521                      0.058186   \n",
              "7                      0.010050                      0.052697   \n",
              "8                      0.233631                      0.043226   \n",
              "9                      0.570546                     -0.154303   \n",
              "\n",
              "   ∆Relative Power_Gamma_Global  \n",
              "0                     -0.356230  \n",
              "1                     -0.260950  \n",
              "2                      0.114385  \n",
              "3                     -0.328157  \n",
              "4                     -0.562065  \n",
              "5                     -0.353782  \n",
              "6                     -0.473217  \n",
              "7                     -0.395197  \n",
              "8                     -0.520716  \n",
              "9                     -0.368549  \n",
              "\n",
              "[10 rows x 256 columns]"
            ],
            "text/html": [
              "\n",
              "  <div id=\"df-0eeb014f-be1e-4d4e-90ef-531d6d723eb2\">\n",
              "    <div class=\"colab-df-container\">\n",
              "      <div>\n",
              "<style scoped>\n",
              "    .dataframe tbody tr th:only-of-type {\n",
              "        vertical-align: middle;\n",
              "    }\n",
              "\n",
              "    .dataframe tbody tr th {\n",
              "        vertical-align: top;\n",
              "    }\n",
              "\n",
              "    .dataframe thead th {\n",
              "        text-align: right;\n",
              "    }\n",
              "</style>\n",
              "<table border=\"1\" class=\"dataframe\">\n",
              "  <thead>\n",
              "    <tr style=\"text-align: right;\">\n",
              "      <th></th>\n",
              "      <th>MeanP_Alpha_Fz</th>\n",
              "      <th>MedianF_Alpha_Fz</th>\n",
              "      <th>MeanF_Alpha_Fz</th>\n",
              "      <th>Spectral Edge_Alpha_Fz</th>\n",
              "      <th>PeakF_Alpha_Fz</th>\n",
              "      <th>MeanP_Beta_Fz</th>\n",
              "      <th>MedianF_Beta_Fz</th>\n",
              "      <th>MeanF_Beta_Fz</th>\n",
              "      <th>Spectral Edge_Beta_Fz</th>\n",
              "      <th>PeakF_Beta_Fz</th>\n",
              "      <th>...</th>\n",
              "      <th>Relative Power_Alpha_Global</th>\n",
              "      <th>Relative Power_Beta_Global</th>\n",
              "      <th>Relative Power_Theta_Global</th>\n",
              "      <th>Relative Power_Delta_Global</th>\n",
              "      <th>Relative Power_Gamma_Global</th>\n",
              "      <th>∆Relative Power_Alpha_Global</th>\n",
              "      <th>∆Relative Power_Beta_Global</th>\n",
              "      <th>∆Relative Power_Theta_Global</th>\n",
              "      <th>∆Relative Power_Delta_Global</th>\n",
              "      <th>∆Relative Power_Gamma_Global</th>\n",
              "    </tr>\n",
              "  </thead>\n",
              "  <tbody>\n",
              "    <tr>\n",
              "      <th>0</th>\n",
              "      <td>0.000008</td>\n",
              "      <td>11.70732</td>\n",
              "      <td>28.29268</td>\n",
              "      <td>20.00000</td>\n",
              "      <td>10.73171</td>\n",
              "      <td>0.000017</td>\n",
              "      <td>19.51220</td>\n",
              "      <td>38.04878</td>\n",
              "      <td>32.68293</td>\n",
              "      <td>19.02439</td>\n",
              "      <td>...</td>\n",
              "      <td>0.358154</td>\n",
              "      <td>0.639771</td>\n",
              "      <td>0.749628</td>\n",
              "      <td>4.031903</td>\n",
              "      <td>0.220545</td>\n",
              "      <td>-0.273666</td>\n",
              "      <td>-0.164639</td>\n",
              "      <td>-0.009611</td>\n",
              "      <td>0.107193</td>\n",
              "      <td>-0.356230</td>\n",
              "    </tr>\n",
              "    <tr>\n",
              "      <th>1</th>\n",
              "      <td>0.000010</td>\n",
              "      <td>10.73171</td>\n",
              "      <td>28.78049</td>\n",
              "      <td>22.43902</td>\n",
              "      <td>10.24390</td>\n",
              "      <td>0.000023</td>\n",
              "      <td>22.92683</td>\n",
              "      <td>38.53659</td>\n",
              "      <td>33.65854</td>\n",
              "      <td>23.41463</td>\n",
              "      <td>...</td>\n",
              "      <td>0.457695</td>\n",
              "      <td>0.806208</td>\n",
              "      <td>0.723662</td>\n",
              "      <td>3.759249</td>\n",
              "      <td>0.253186</td>\n",
              "      <td>-0.071797</td>\n",
              "      <td>0.052680</td>\n",
              "      <td>-0.043916</td>\n",
              "      <td>0.032320</td>\n",
              "      <td>-0.260950</td>\n",
              "    </tr>\n",
              "    <tr>\n",
              "      <th>2</th>\n",
              "      <td>0.000008</td>\n",
              "      <td>13.17073</td>\n",
              "      <td>28.78049</td>\n",
              "      <td>23.41463</td>\n",
              "      <td>9.26829</td>\n",
              "      <td>0.000023</td>\n",
              "      <td>22.43902</td>\n",
              "      <td>37.56098</td>\n",
              "      <td>31.70732</td>\n",
              "      <td>17.56098</td>\n",
              "      <td>...</td>\n",
              "      <td>0.501419</td>\n",
              "      <td>1.059244</td>\n",
              "      <td>0.737332</td>\n",
              "      <td>3.320235</td>\n",
              "      <td>0.381769</td>\n",
              "      <td>0.016875</td>\n",
              "      <td>0.383074</td>\n",
              "      <td>-0.025855</td>\n",
              "      <td>-0.088237</td>\n",
              "      <td>0.114385</td>\n",
              "    </tr>\n",
              "    <tr>\n",
              "      <th>3</th>\n",
              "      <td>0.000011</td>\n",
              "      <td>10.24390</td>\n",
              "      <td>27.80488</td>\n",
              "      <td>18.53659</td>\n",
              "      <td>10.73171</td>\n",
              "      <td>0.000019</td>\n",
              "      <td>22.43902</td>\n",
              "      <td>38.04878</td>\n",
              "      <td>32.68293</td>\n",
              "      <td>28.29268</td>\n",
              "      <td>...</td>\n",
              "      <td>0.497909</td>\n",
              "      <td>0.710690</td>\n",
              "      <td>0.907816</td>\n",
              "      <td>3.653423</td>\n",
              "      <td>0.230162</td>\n",
              "      <td>0.009757</td>\n",
              "      <td>-0.072039</td>\n",
              "      <td>0.199384</td>\n",
              "      <td>0.003259</td>\n",
              "      <td>-0.328157</td>\n",
              "    </tr>\n",
              "    <tr>\n",
              "      <th>4</th>\n",
              "      <td>0.000007</td>\n",
              "      <td>10.73171</td>\n",
              "      <td>23.41463</td>\n",
              "      <td>18.04878</td>\n",
              "      <td>11.70732</td>\n",
              "      <td>0.000010</td>\n",
              "      <td>17.56098</td>\n",
              "      <td>36.09756</td>\n",
              "      <td>29.26829</td>\n",
              "      <td>11.70732</td>\n",
              "      <td>...</td>\n",
              "      <td>0.429825</td>\n",
              "      <td>0.569204</td>\n",
              "      <td>0.849345</td>\n",
              "      <td>4.001597</td>\n",
              "      <td>0.150029</td>\n",
              "      <td>-0.128318</td>\n",
              "      <td>-0.256780</td>\n",
              "      <td>0.122134</td>\n",
              "      <td>0.098870</td>\n",
              "      <td>-0.562065</td>\n",
              "    </tr>\n",
              "    <tr>\n",
              "      <th>5</th>\n",
              "      <td>0.000008</td>\n",
              "      <td>10.24390</td>\n",
              "      <td>23.41463</td>\n",
              "      <td>17.56098</td>\n",
              "      <td>10.24390</td>\n",
              "      <td>0.000010</td>\n",
              "      <td>18.04878</td>\n",
              "      <td>36.09756</td>\n",
              "      <td>29.26829</td>\n",
              "      <td>17.07317</td>\n",
              "      <td>...</td>\n",
              "      <td>0.494096</td>\n",
              "      <td>0.687221</td>\n",
              "      <td>0.812251</td>\n",
              "      <td>3.785048</td>\n",
              "      <td>0.221383</td>\n",
              "      <td>0.002023</td>\n",
              "      <td>-0.102682</td>\n",
              "      <td>0.073126</td>\n",
              "      <td>0.039404</td>\n",
              "      <td>-0.353782</td>\n",
              "    </tr>\n",
              "    <tr>\n",
              "      <th>6</th>\n",
              "      <td>0.000005</td>\n",
              "      <td>11.21951</td>\n",
              "      <td>24.39024</td>\n",
              "      <td>17.56098</td>\n",
              "      <td>12.68293</td>\n",
              "      <td>0.000007</td>\n",
              "      <td>17.07317</td>\n",
              "      <td>38.04878</td>\n",
              "      <td>31.21951</td>\n",
              "      <td>14.14634</td>\n",
              "      <td>...</td>\n",
              "      <td>0.527217</td>\n",
              "      <td>0.668711</td>\n",
              "      <td>0.770164</td>\n",
              "      <td>3.853441</td>\n",
              "      <td>0.180467</td>\n",
              "      <td>0.069192</td>\n",
              "      <td>-0.126852</td>\n",
              "      <td>0.017521</td>\n",
              "      <td>0.058186</td>\n",
              "      <td>-0.473217</td>\n",
              "    </tr>\n",
              "    <tr>\n",
              "      <th>7</th>\n",
              "      <td>0.000005</td>\n",
              "      <td>9.75610</td>\n",
              "      <td>25.85366</td>\n",
              "      <td>18.53659</td>\n",
              "      <td>7.80488</td>\n",
              "      <td>0.000007</td>\n",
              "      <td>19.02439</td>\n",
              "      <td>35.60976</td>\n",
              "      <td>29.75610</td>\n",
              "      <td>13.17073</td>\n",
              "      <td>...</td>\n",
              "      <td>0.475599</td>\n",
              "      <td>0.719244</td>\n",
              "      <td>0.764508</td>\n",
              "      <td>3.833454</td>\n",
              "      <td>0.207195</td>\n",
              "      <td>-0.035489</td>\n",
              "      <td>-0.060870</td>\n",
              "      <td>0.010050</td>\n",
              "      <td>0.052697</td>\n",
              "      <td>-0.395197</td>\n",
              "    </tr>\n",
              "    <tr>\n",
              "      <th>8</th>\n",
              "      <td>0.000006</td>\n",
              "      <td>10.24390</td>\n",
              "      <td>24.39024</td>\n",
              "      <td>17.56098</td>\n",
              "      <td>8.29268</td>\n",
              "      <td>0.000009</td>\n",
              "      <td>17.56098</td>\n",
              "      <td>36.09756</td>\n",
              "      <td>29.26829</td>\n",
              "      <td>17.56098</td>\n",
              "      <td>...</td>\n",
              "      <td>0.482293</td>\n",
              "      <td>0.620810</td>\n",
              "      <td>0.933737</td>\n",
              "      <td>3.798965</td>\n",
              "      <td>0.164195</td>\n",
              "      <td>-0.021913</td>\n",
              "      <td>-0.189396</td>\n",
              "      <td>0.233631</td>\n",
              "      <td>0.043226</td>\n",
              "      <td>-0.520716</td>\n",
              "    </tr>\n",
              "    <tr>\n",
              "      <th>9</th>\n",
              "      <td>0.000014</td>\n",
              "      <td>11.21951</td>\n",
              "      <td>23.41463</td>\n",
              "      <td>18.04878</td>\n",
              "      <td>12.68293</td>\n",
              "      <td>0.000021</td>\n",
              "      <td>18.04878</td>\n",
              "      <td>35.60976</td>\n",
              "      <td>29.26829</td>\n",
              "      <td>12.68293</td>\n",
              "      <td>...</td>\n",
              "      <td>0.659929</td>\n",
              "      <td>0.855344</td>\n",
              "      <td>1.188749</td>\n",
              "      <td>3.079654</td>\n",
              "      <td>0.216324</td>\n",
              "      <td>0.338331</td>\n",
              "      <td>0.116839</td>\n",
              "      <td>0.570546</td>\n",
              "      <td>-0.154303</td>\n",
              "      <td>-0.368549</td>\n",
              "    </tr>\n",
              "  </tbody>\n",
              "</table>\n",
              "<p>10 rows × 256 columns</p>\n",
              "</div>\n",
              "      <button class=\"colab-df-convert\" onclick=\"convertToInteractive('df-0eeb014f-be1e-4d4e-90ef-531d6d723eb2')\"\n",
              "              title=\"Convert this dataframe to an interactive table.\"\n",
              "              style=\"display:none;\">\n",
              "        \n",
              "  <svg xmlns=\"http://www.w3.org/2000/svg\" height=\"24px\"viewBox=\"0 0 24 24\"\n",
              "       width=\"24px\">\n",
              "    <path d=\"M0 0h24v24H0V0z\" fill=\"none\"/>\n",
              "    <path d=\"M18.56 5.44l.94 2.06.94-2.06 2.06-.94-2.06-.94-.94-2.06-.94 2.06-2.06.94zm-11 1L8.5 8.5l.94-2.06 2.06-.94-2.06-.94L8.5 2.5l-.94 2.06-2.06.94zm10 10l.94 2.06.94-2.06 2.06-.94-2.06-.94-.94-2.06-.94 2.06-2.06.94z\"/><path d=\"M17.41 7.96l-1.37-1.37c-.4-.4-.92-.59-1.43-.59-.52 0-1.04.2-1.43.59L10.3 9.45l-7.72 7.72c-.78.78-.78 2.05 0 2.83L4 21.41c.39.39.9.59 1.41.59.51 0 1.02-.2 1.41-.59l7.78-7.78 2.81-2.81c.8-.78.8-2.07 0-2.86zM5.41 20L4 18.59l7.72-7.72 1.47 1.35L5.41 20z\"/>\n",
              "  </svg>\n",
              "      </button>\n",
              "      \n",
              "  <style>\n",
              "    .colab-df-container {\n",
              "      display:flex;\n",
              "      flex-wrap:wrap;\n",
              "      gap: 12px;\n",
              "    }\n",
              "\n",
              "    .colab-df-convert {\n",
              "      background-color: #E8F0FE;\n",
              "      border: none;\n",
              "      border-radius: 50%;\n",
              "      cursor: pointer;\n",
              "      display: none;\n",
              "      fill: #1967D2;\n",
              "      height: 32px;\n",
              "      padding: 0 0 0 0;\n",
              "      width: 32px;\n",
              "    }\n",
              "\n",
              "    .colab-df-convert:hover {\n",
              "      background-color: #E2EBFA;\n",
              "      box-shadow: 0px 1px 2px rgba(60, 64, 67, 0.3), 0px 1px 3px 1px rgba(60, 64, 67, 0.15);\n",
              "      fill: #174EA6;\n",
              "    }\n",
              "\n",
              "    [theme=dark] .colab-df-convert {\n",
              "      background-color: #3B4455;\n",
              "      fill: #D2E3FC;\n",
              "    }\n",
              "\n",
              "    [theme=dark] .colab-df-convert:hover {\n",
              "      background-color: #434B5C;\n",
              "      box-shadow: 0px 1px 3px 1px rgba(0, 0, 0, 0.15);\n",
              "      filter: drop-shadow(0px 1px 2px rgba(0, 0, 0, 0.3));\n",
              "      fill: #FFFFFF;\n",
              "    }\n",
              "  </style>\n",
              "\n",
              "      <script>\n",
              "        const buttonEl =\n",
              "          document.querySelector('#df-0eeb014f-be1e-4d4e-90ef-531d6d723eb2 button.colab-df-convert');\n",
              "        buttonEl.style.display =\n",
              "          google.colab.kernel.accessAllowed ? 'block' : 'none';\n",
              "\n",
              "        async function convertToInteractive(key) {\n",
              "          const element = document.querySelector('#df-0eeb014f-be1e-4d4e-90ef-531d6d723eb2');\n",
              "          const dataTable =\n",
              "            await google.colab.kernel.invokeFunction('convertToInteractive',\n",
              "                                                     [key], {});\n",
              "          if (!dataTable) return;\n",
              "\n",
              "          const docLinkHtml = 'Like what you see? Visit the ' +\n",
              "            '<a target=\"_blank\" href=https://colab.research.google.com/notebooks/data_table.ipynb>data table notebook</a>'\n",
              "            + ' to learn more about interactive tables.';\n",
              "          element.innerHTML = '';\n",
              "          dataTable['output_type'] = 'display_data';\n",
              "          await google.colab.output.renderOutput(dataTable, element);\n",
              "          const docLink = document.createElement('div');\n",
              "          docLink.innerHTML = docLinkHtml;\n",
              "          element.appendChild(docLink);\n",
              "        }\n",
              "      </script>\n",
              "    </div>\n",
              "  </div>\n",
              "  "
            ]
          },
          "metadata": {},
          "execution_count": 25
        }
      ]
    },
    {
      "cell_type": "markdown",
      "source": [
        "###USing SMOTE for balancing"
      ],
      "metadata": {
        "id": "7G108WUM2Di_"
      }
    },
    {
      "cell_type": "code",
      "source": [
        "new_dataset =  balance(X,y)"
      ],
      "metadata": {
        "id": "WvJIm4Co2ApP"
      },
      "execution_count": 26,
      "outputs": []
    },
    {
      "cell_type": "code",
      "source": [
        "new_dataset[target].value_counts()"
      ],
      "metadata": {
        "colab": {
          "base_uri": "https://localhost:8080/"
        },
        "id": "wUzLAHJqACBH",
        "outputId": "abb13e0c-573b-45f7-b822-b14f4e624b70"
      },
      "execution_count": 27,
      "outputs": [
        {
          "output_type": "execute_result",
          "data": {
            "text/plain": [
              "1    793\n",
              "2    793\n",
              "0    793\n",
              "3    793\n",
              "Name: Activity, dtype: int64"
            ]
          },
          "metadata": {},
          "execution_count": 27
        }
      ]
    },
    {
      "cell_type": "markdown",
      "source": [
        "#Feature Selection"
      ],
      "metadata": {
        "id": "FZLedhGD91Cv"
      }
    },
    {
      "cell_type": "code",
      "source": [
        "number_of_feat = 20"
      ],
      "metadata": {
        "id": "V1m6UgTv92XU"
      },
      "execution_count": 41,
      "outputs": []
    },
    {
      "cell_type": "markdown",
      "source": [
        "###ANOVA with f classifciation"
      ],
      "metadata": {
        "id": "XkC7pB1v-Gsp"
      }
    },
    {
      "cell_type": "code",
      "source": [
        "from sklearn.datasets import make_classification\n",
        "from sklearn.feature_selection import SelectKBest\n",
        "from sklearn.feature_selection import f_classif\n",
        "import pandas as pd\n",
        "\n",
        "\n",
        "\n",
        "fs = SelectKBest(score_func=f_classif, k=5)\n",
        "fit = fs.fit(X,y)\n",
        "dfscores = pd.DataFrame(fit.scores_)\n",
        "dfcolumns = pd.DataFrame(X.columns)\n",
        "\n",
        "featureScores = pd.concat([dfcolumns,dfscores],axis=1)\n",
        "\n",
        "featureScores.columns = ['Best_columns','Score_ANOVA'] \n",
        "\n",
        "lyst = featureScores.nlargest(number_of_feat,'Score_ANOVA')\n",
        "\n",
        "#lyst.to_csv('Filter_Method_ANOVA_with_f_classif.csv')\n",
        "\n",
        "list_of_feat = list(lyst[\"Best_columns\"])"
      ],
      "metadata": {
        "id": "Rafbj3rl-GWZ"
      },
      "execution_count": 29,
      "outputs": []
    },
    {
      "cell_type": "markdown",
      "source": [
        "###Embedded Method"
      ],
      "metadata": {
        "id": "xCkHXMQQ-PoJ"
      }
    },
    {
      "cell_type": "code",
      "source": [
        "\n",
        "from sklearn.linear_model import LassoCV\n",
        "reg = LassoCV()\n",
        "reg.fit(X, y)\n",
        "print(\"Best alpha using built-in LassoCV: %f\" % reg.alpha_)\n",
        "print(\"Best score using built-in LassoCV: %f\" %reg.score(X,y))\n",
        "coef = pd.Series(reg.coef_, index = X.columns)\n",
        "\n",
        "print(\"Lasso picked \" + str(sum(coef != 0)) + \" variables and eliminated the other \" +  str(sum(coef == 0)) + \" variables\")\n",
        "\n",
        "imp_coef = coef.sort_values()\n",
        "\n",
        "list_of_feat=[]\n",
        "\n",
        "\n",
        "for i in range(coef.shape[0]):\n",
        "  if coef[i]!=0:\n",
        "    list_of_feat.append(dataset.iloc[:0,i+3].name)\n",
        "    \n",
        "df = pd.DataFrame(list_of_feat, columns=['Best_Features'])\n",
        "\n",
        "#df.to_csv(\"Embedded_Method.csv\")\n",
        "\n",
        "list_of_feat = list(df[\"Best_Features\"])\n",
        "if number_of_feat < len(list_of_feat):\n",
        "  list_of_feat = list_of_feat[:number_of_feat]"
      ],
      "metadata": {
        "colab": {
          "base_uri": "https://localhost:8080/"
        },
        "id": "PZJcRlL7-So6",
        "outputId": "61d97eb8-cb20-4456-e885-ed6aab748d45"
      },
      "execution_count": 34,
      "outputs": [
        {
          "output_type": "stream",
          "name": "stderr",
          "text": [
            "/usr/local/lib/python3.8/dist-packages/sklearn/linear_model/_coordinate_descent.py:633: ConvergenceWarning: Objective did not converge. You might want to increase the number of iterations. Duality gap: 0.4267169530156707, tolerance: 0.21672448830409385\n",
            "  model = cd_fast.enet_coordinate_descent_gram(\n",
            "/usr/local/lib/python3.8/dist-packages/sklearn/linear_model/_coordinate_descent.py:633: ConvergenceWarning: Objective did not converge. You might want to increase the number of iterations. Duality gap: 0.5367691825176735, tolerance: 0.21672448830409385\n",
            "  model = cd_fast.enet_coordinate_descent_gram(\n",
            "/usr/local/lib/python3.8/dist-packages/sklearn/linear_model/_coordinate_descent.py:633: ConvergenceWarning: Objective did not converge. You might want to increase the number of iterations. Duality gap: 0.44178979448417977, tolerance: 0.21672448830409385\n",
            "  model = cd_fast.enet_coordinate_descent_gram(\n",
            "/usr/local/lib/python3.8/dist-packages/sklearn/linear_model/_coordinate_descent.py:633: ConvergenceWarning: Objective did not converge. You might want to increase the number of iterations. Duality gap: 0.43952068898738617, tolerance: 0.21672448830409385\n",
            "  model = cd_fast.enet_coordinate_descent_gram(\n",
            "/usr/local/lib/python3.8/dist-packages/sklearn/linear_model/_coordinate_descent.py:633: ConvergenceWarning: Objective did not converge. You might want to increase the number of iterations. Duality gap: 0.46433912886061535, tolerance: 0.21672448830409385\n",
            "  model = cd_fast.enet_coordinate_descent_gram(\n",
            "/usr/local/lib/python3.8/dist-packages/sklearn/linear_model/_coordinate_descent.py:633: ConvergenceWarning: Objective did not converge. You might want to increase the number of iterations. Duality gap: 0.4989548064010023, tolerance: 0.21672448830409385\n",
            "  model = cd_fast.enet_coordinate_descent_gram(\n",
            "/usr/local/lib/python3.8/dist-packages/sklearn/linear_model/_coordinate_descent.py:633: ConvergenceWarning: Objective did not converge. You might want to increase the number of iterations. Duality gap: 0.44551548182505485, tolerance: 0.21672448830409385\n",
            "  model = cd_fast.enet_coordinate_descent_gram(\n",
            "/usr/local/lib/python3.8/dist-packages/sklearn/linear_model/_coordinate_descent.py:633: ConvergenceWarning: Objective did not converge. You might want to increase the number of iterations. Duality gap: 0.43447831353933, tolerance: 0.21672448830409385\n",
            "  model = cd_fast.enet_coordinate_descent_gram(\n",
            "/usr/local/lib/python3.8/dist-packages/sklearn/linear_model/_coordinate_descent.py:633: ConvergenceWarning: Objective did not converge. You might want to increase the number of iterations. Duality gap: 0.6854571622635603, tolerance: 0.19155865595325047\n",
            "  model = cd_fast.enet_coordinate_descent_gram(\n",
            "/usr/local/lib/python3.8/dist-packages/sklearn/linear_model/_coordinate_descent.py:633: ConvergenceWarning: Objective did not converge. You might want to increase the number of iterations. Duality gap: 1.6359106571626398, tolerance: 0.19155865595325047\n",
            "  model = cd_fast.enet_coordinate_descent_gram(\n",
            "/usr/local/lib/python3.8/dist-packages/sklearn/linear_model/_coordinate_descent.py:633: ConvergenceWarning: Objective did not converge. You might want to increase the number of iterations. Duality gap: 3.118580555415747, tolerance: 0.19155865595325047\n",
            "  model = cd_fast.enet_coordinate_descent_gram(\n",
            "/usr/local/lib/python3.8/dist-packages/sklearn/linear_model/_coordinate_descent.py:633: ConvergenceWarning: Objective did not converge. You might want to increase the number of iterations. Duality gap: 4.035189381130181, tolerance: 0.19155865595325047\n",
            "  model = cd_fast.enet_coordinate_descent_gram(\n",
            "/usr/local/lib/python3.8/dist-packages/sklearn/linear_model/_coordinate_descent.py:633: ConvergenceWarning: Objective did not converge. You might want to increase the number of iterations. Duality gap: 0.44324843964204774, tolerance: 0.19155865595325047\n",
            "  model = cd_fast.enet_coordinate_descent_gram(\n",
            "/usr/local/lib/python3.8/dist-packages/sklearn/linear_model/_coordinate_descent.py:633: ConvergenceWarning: Objective did not converge. You might want to increase the number of iterations. Duality gap: 2.320660533885416, tolerance: 0.19155865595325047\n",
            "  model = cd_fast.enet_coordinate_descent_gram(\n",
            "/usr/local/lib/python3.8/dist-packages/sklearn/linear_model/_coordinate_descent.py:633: ConvergenceWarning: Objective did not converge. You might want to increase the number of iterations. Duality gap: 3.3528893170340552, tolerance: 0.19155865595325047\n",
            "  model = cd_fast.enet_coordinate_descent_gram(\n",
            "/usr/local/lib/python3.8/dist-packages/sklearn/linear_model/_coordinate_descent.py:633: ConvergenceWarning: Objective did not converge. You might want to increase the number of iterations. Duality gap: 1.0475886722929317, tolerance: 0.19155865595325047\n",
            "  model = cd_fast.enet_coordinate_descent_gram(\n",
            "/usr/local/lib/python3.8/dist-packages/sklearn/linear_model/_coordinate_descent.py:633: ConvergenceWarning: Objective did not converge. You might want to increase the number of iterations. Duality gap: 1.2859467656206789, tolerance: 0.19155865595325047\n",
            "  model = cd_fast.enet_coordinate_descent_gram(\n",
            "/usr/local/lib/python3.8/dist-packages/sklearn/linear_model/_coordinate_descent.py:633: ConvergenceWarning: Objective did not converge. You might want to increase the number of iterations. Duality gap: 2.6886040710332963, tolerance: 0.19155865595325047\n",
            "  model = cd_fast.enet_coordinate_descent_gram(\n",
            "/usr/local/lib/python3.8/dist-packages/sklearn/linear_model/_coordinate_descent.py:633: ConvergenceWarning: Objective did not converge. You might want to increase the number of iterations. Duality gap: 4.998050559647595, tolerance: 0.19155865595325047\n",
            "  model = cd_fast.enet_coordinate_descent_gram(\n",
            "/usr/local/lib/python3.8/dist-packages/sklearn/linear_model/_coordinate_descent.py:633: ConvergenceWarning: Objective did not converge. You might want to increase the number of iterations. Duality gap: 5.679900168994209, tolerance: 0.19155865595325047\n",
            "  model = cd_fast.enet_coordinate_descent_gram(\n",
            "/usr/local/lib/python3.8/dist-packages/sklearn/linear_model/_coordinate_descent.py:633: ConvergenceWarning: Objective did not converge. You might want to increase the number of iterations. Duality gap: 5.219082027051854, tolerance: 0.19155865595325047\n",
            "  model = cd_fast.enet_coordinate_descent_gram(\n",
            "/usr/local/lib/python3.8/dist-packages/sklearn/linear_model/_coordinate_descent.py:633: ConvergenceWarning: Objective did not converge. You might want to increase the number of iterations. Duality gap: 3.039537952752198, tolerance: 0.19155865595325047\n",
            "  model = cd_fast.enet_coordinate_descent_gram(\n",
            "/usr/local/lib/python3.8/dist-packages/sklearn/linear_model/_coordinate_descent.py:633: ConvergenceWarning: Objective did not converge. You might want to increase the number of iterations. Duality gap: 0.9415427907708818, tolerance: 0.19155865595325047\n",
            "  model = cd_fast.enet_coordinate_descent_gram(\n",
            "/usr/local/lib/python3.8/dist-packages/sklearn/linear_model/_coordinate_descent.py:633: ConvergenceWarning: Objective did not converge. You might want to increase the number of iterations. Duality gap: 1.002354145654067, tolerance: 0.19155865595325047\n",
            "  model = cd_fast.enet_coordinate_descent_gram(\n",
            "/usr/local/lib/python3.8/dist-packages/sklearn/linear_model/_coordinate_descent.py:633: ConvergenceWarning: Objective did not converge. You might want to increase the number of iterations. Duality gap: 1.228428024035793, tolerance: 0.19155865595325047\n",
            "  model = cd_fast.enet_coordinate_descent_gram(\n",
            "/usr/local/lib/python3.8/dist-packages/sklearn/linear_model/_coordinate_descent.py:633: ConvergenceWarning: Objective did not converge. You might want to increase the number of iterations. Duality gap: 1.396283604265136, tolerance: 0.19155865595325047\n",
            "  model = cd_fast.enet_coordinate_descent_gram(\n",
            "/usr/local/lib/python3.8/dist-packages/sklearn/linear_model/_coordinate_descent.py:633: ConvergenceWarning: Objective did not converge. You might want to increase the number of iterations. Duality gap: 3.8910330314937482, tolerance: 0.19155865595325047\n",
            "  model = cd_fast.enet_coordinate_descent_gram(\n",
            "/usr/local/lib/python3.8/dist-packages/sklearn/linear_model/_coordinate_descent.py:633: ConvergenceWarning: Objective did not converge. You might want to increase the number of iterations. Duality gap: 7.61956106919331, tolerance: 0.19155865595325047\n",
            "  model = cd_fast.enet_coordinate_descent_gram(\n",
            "/usr/local/lib/python3.8/dist-packages/sklearn/linear_model/_coordinate_descent.py:633: ConvergenceWarning: Objective did not converge. You might want to increase the number of iterations. Duality gap: 10.399343404807269, tolerance: 0.19155865595325047\n",
            "  model = cd_fast.enet_coordinate_descent_gram(\n",
            "/usr/local/lib/python3.8/dist-packages/sklearn/linear_model/_coordinate_descent.py:633: ConvergenceWarning: Objective did not converge. You might want to increase the number of iterations. Duality gap: 12.845211129611243, tolerance: 0.19155865595325047\n",
            "  model = cd_fast.enet_coordinate_descent_gram(\n",
            "/usr/local/lib/python3.8/dist-packages/sklearn/linear_model/_coordinate_descent.py:633: ConvergenceWarning: Objective did not converge. You might want to increase the number of iterations. Duality gap: 1.6412599116704314, tolerance: 0.1750899926953981\n",
            "  model = cd_fast.enet_coordinate_descent_gram(\n",
            "/usr/local/lib/python3.8/dist-packages/sklearn/linear_model/_coordinate_descent.py:633: ConvergenceWarning: Objective did not converge. You might want to increase the number of iterations. Duality gap: 4.635566985978016, tolerance: 0.1750899926953981\n",
            "  model = cd_fast.enet_coordinate_descent_gram(\n",
            "/usr/local/lib/python3.8/dist-packages/sklearn/linear_model/_coordinate_descent.py:633: ConvergenceWarning: Objective did not converge. You might want to increase the number of iterations. Duality gap: 1.149978421512742, tolerance: 0.1750899926953981\n",
            "  model = cd_fast.enet_coordinate_descent_gram(\n",
            "/usr/local/lib/python3.8/dist-packages/sklearn/linear_model/_coordinate_descent.py:633: ConvergenceWarning: Objective did not converge. You might want to increase the number of iterations. Duality gap: 1.0463717673933388, tolerance: 0.1750899926953981\n",
            "  model = cd_fast.enet_coordinate_descent_gram(\n",
            "/usr/local/lib/python3.8/dist-packages/sklearn/linear_model/_coordinate_descent.py:633: ConvergenceWarning: Objective did not converge. You might want to increase the number of iterations. Duality gap: 1.1249466366007255, tolerance: 0.1750899926953981\n",
            "  model = cd_fast.enet_coordinate_descent_gram(\n",
            "/usr/local/lib/python3.8/dist-packages/sklearn/linear_model/_coordinate_descent.py:633: ConvergenceWarning: Objective did not converge. You might want to increase the number of iterations. Duality gap: 3.9639174785226032, tolerance: 0.1750899926953981\n",
            "  model = cd_fast.enet_coordinate_descent_gram(\n",
            "/usr/local/lib/python3.8/dist-packages/sklearn/linear_model/_coordinate_descent.py:633: ConvergenceWarning: Objective did not converge. You might want to increase the number of iterations. Duality gap: 4.128761565914374, tolerance: 0.1750899926953981\n",
            "  model = cd_fast.enet_coordinate_descent_gram(\n",
            "/usr/local/lib/python3.8/dist-packages/sklearn/linear_model/_coordinate_descent.py:633: ConvergenceWarning: Objective did not converge. You might want to increase the number of iterations. Duality gap: 4.01357223245941, tolerance: 0.1750899926953981\n",
            "  model = cd_fast.enet_coordinate_descent_gram(\n",
            "/usr/local/lib/python3.8/dist-packages/sklearn/linear_model/_coordinate_descent.py:633: ConvergenceWarning: Objective did not converge. You might want to increase the number of iterations. Duality gap: 3.9125629880059023, tolerance: 0.1750899926953981\n",
            "  model = cd_fast.enet_coordinate_descent_gram(\n",
            "/usr/local/lib/python3.8/dist-packages/sklearn/linear_model/_coordinate_descent.py:633: ConvergenceWarning: Objective did not converge. You might want to increase the number of iterations. Duality gap: 3.772142571907807, tolerance: 0.1750899926953981\n",
            "  model = cd_fast.enet_coordinate_descent_gram(\n",
            "/usr/local/lib/python3.8/dist-packages/sklearn/linear_model/_coordinate_descent.py:633: ConvergenceWarning: Objective did not converge. You might want to increase the number of iterations. Duality gap: 3.8057308298861017, tolerance: 0.1750899926953981\n",
            "  model = cd_fast.enet_coordinate_descent_gram(\n",
            "/usr/local/lib/python3.8/dist-packages/sklearn/linear_model/_coordinate_descent.py:633: ConvergenceWarning: Objective did not converge. You might want to increase the number of iterations. Duality gap: 4.108965049155017, tolerance: 0.1750899926953981\n",
            "  model = cd_fast.enet_coordinate_descent_gram(\n",
            "/usr/local/lib/python3.8/dist-packages/sklearn/linear_model/_coordinate_descent.py:633: ConvergenceWarning: Objective did not converge. You might want to increase the number of iterations. Duality gap: 4.145962788478869, tolerance: 0.1750899926953981\n",
            "  model = cd_fast.enet_coordinate_descent_gram(\n",
            "/usr/local/lib/python3.8/dist-packages/sklearn/linear_model/_coordinate_descent.py:633: ConvergenceWarning: Objective did not converge. You might want to increase the number of iterations. Duality gap: 3.8089646126340995, tolerance: 0.1750899926953981\n",
            "  model = cd_fast.enet_coordinate_descent_gram(\n",
            "/usr/local/lib/python3.8/dist-packages/sklearn/linear_model/_coordinate_descent.py:633: ConvergenceWarning: Objective did not converge. You might want to increase the number of iterations. Duality gap: 3.5272684802470167, tolerance: 0.1750899926953981\n",
            "  model = cd_fast.enet_coordinate_descent_gram(\n",
            "/usr/local/lib/python3.8/dist-packages/sklearn/linear_model/_coordinate_descent.py:633: ConvergenceWarning: Objective did not converge. You might want to increase the number of iterations. Duality gap: 3.9709261281667523, tolerance: 0.1750899926953981\n",
            "  model = cd_fast.enet_coordinate_descent_gram(\n",
            "/usr/local/lib/python3.8/dist-packages/sklearn/linear_model/_coordinate_descent.py:633: ConvergenceWarning: Objective did not converge. You might want to increase the number of iterations. Duality gap: 4.522232171109067, tolerance: 0.1750899926953981\n",
            "  model = cd_fast.enet_coordinate_descent_gram(\n",
            "/usr/local/lib/python3.8/dist-packages/sklearn/linear_model/_coordinate_descent.py:633: ConvergenceWarning: Objective did not converge. You might want to increase the number of iterations. Duality gap: 5.373936113512855, tolerance: 0.1750899926953981\n",
            "  model = cd_fast.enet_coordinate_descent_gram(\n",
            "/usr/local/lib/python3.8/dist-packages/sklearn/linear_model/_coordinate_descent.py:633: ConvergenceWarning: Objective did not converge. You might want to increase the number of iterations. Duality gap: 6.8200969666474975, tolerance: 0.1750899926953981\n",
            "  model = cd_fast.enet_coordinate_descent_gram(\n",
            "/usr/local/lib/python3.8/dist-packages/sklearn/linear_model/_coordinate_descent.py:633: ConvergenceWarning: Objective did not converge. You might want to increase the number of iterations. Duality gap: 8.819100593515486, tolerance: 0.1750899926953981\n",
            "  model = cd_fast.enet_coordinate_descent_gram(\n",
            "/usr/local/lib/python3.8/dist-packages/sklearn/linear_model/_coordinate_descent.py:633: ConvergenceWarning: Objective did not converge. You might want to increase the number of iterations. Duality gap: 9.778754823772601, tolerance: 0.1750899926953981\n",
            "  model = cd_fast.enet_coordinate_descent_gram(\n",
            "/usr/local/lib/python3.8/dist-packages/sklearn/linear_model/_coordinate_descent.py:633: ConvergenceWarning: Objective did not converge. You might want to increase the number of iterations. Duality gap: 9.548775913541704, tolerance: 0.1750899926953981\n",
            "  model = cd_fast.enet_coordinate_descent_gram(\n",
            "/usr/local/lib/python3.8/dist-packages/sklearn/linear_model/_coordinate_descent.py:633: ConvergenceWarning: Objective did not converge. You might want to increase the number of iterations. Duality gap: 8.86090235394704, tolerance: 0.1750899926953981\n",
            "  model = cd_fast.enet_coordinate_descent_gram(\n",
            "/usr/local/lib/python3.8/dist-packages/sklearn/linear_model/_coordinate_descent.py:633: ConvergenceWarning: Objective did not converge. You might want to increase the number of iterations. Duality gap: 8.140180840642529, tolerance: 0.1750899926953981\n",
            "  model = cd_fast.enet_coordinate_descent_gram(\n",
            "/usr/local/lib/python3.8/dist-packages/sklearn/linear_model/_coordinate_descent.py:633: ConvergenceWarning: Objective did not converge. You might want to increase the number of iterations. Duality gap: 7.644550679078407, tolerance: 0.1750899926953981\n",
            "  model = cd_fast.enet_coordinate_descent_gram(\n",
            "/usr/local/lib/python3.8/dist-packages/sklearn/linear_model/_coordinate_descent.py:633: ConvergenceWarning: Objective did not converge. You might want to increase the number of iterations. Duality gap: 6.9563886319442645, tolerance: 0.1750899926953981\n",
            "  model = cd_fast.enet_coordinate_descent_gram(\n",
            "/usr/local/lib/python3.8/dist-packages/sklearn/linear_model/_coordinate_descent.py:633: ConvergenceWarning: Objective did not converge. You might want to increase the number of iterations. Duality gap: 0.21672824403958657, tolerance: 0.1750899926953981\n",
            "  model = cd_fast.enet_coordinate_descent_gram(\n",
            "/usr/local/lib/python3.8/dist-packages/sklearn/linear_model/_coordinate_descent.py:633: ConvergenceWarning: Objective did not converge. You might want to increase the number of iterations. Duality gap: 0.6587483567900563, tolerance: 0.1750899926953981\n",
            "  model = cd_fast.enet_coordinate_descent_gram(\n",
            "/usr/local/lib/python3.8/dist-packages/sklearn/linear_model/_coordinate_descent.py:633: ConvergenceWarning: Objective did not converge. You might want to increase the number of iterations. Duality gap: 0.8016907527025978, tolerance: 0.1750899926953981\n",
            "  model = cd_fast.enet_coordinate_descent_gram(\n",
            "/usr/local/lib/python3.8/dist-packages/sklearn/linear_model/_coordinate_descent.py:633: ConvergenceWarning: Objective did not converge. You might want to increase the number of iterations. Duality gap: 2.2918859110511676, tolerance: 0.1750899926953981\n",
            "  model = cd_fast.enet_coordinate_descent_gram(\n",
            "/usr/local/lib/python3.8/dist-packages/sklearn/linear_model/_coordinate_descent.py:633: ConvergenceWarning: Objective did not converge. You might want to increase the number of iterations. Duality gap: 3.200606245269455, tolerance: 0.1750899926953981\n",
            "  model = cd_fast.enet_coordinate_descent_gram(\n",
            "/usr/local/lib/python3.8/dist-packages/sklearn/linear_model/_coordinate_descent.py:633: ConvergenceWarning: Objective did not converge. You might want to increase the number of iterations. Duality gap: 3.712090984429551, tolerance: 0.1750899926953981\n",
            "  model = cd_fast.enet_coordinate_descent_gram(\n",
            "/usr/local/lib/python3.8/dist-packages/sklearn/linear_model/_coordinate_descent.py:633: ConvergenceWarning: Objective did not converge. You might want to increase the number of iterations. Duality gap: 4.7746353418871195, tolerance: 0.1750899926953981\n",
            "  model = cd_fast.enet_coordinate_descent_gram(\n",
            "/usr/local/lib/python3.8/dist-packages/sklearn/linear_model/_coordinate_descent.py:633: ConvergenceWarning: Objective did not converge. You might want to increase the number of iterations. Duality gap: 5.462780333756314, tolerance: 0.1750899926953981\n",
            "  model = cd_fast.enet_coordinate_descent_gram(\n",
            "/usr/local/lib/python3.8/dist-packages/sklearn/linear_model/_coordinate_descent.py:633: ConvergenceWarning: Objective did not converge. You might want to increase the number of iterations. Duality gap: 5.784012395572745, tolerance: 0.1750899926953981\n",
            "  model = cd_fast.enet_coordinate_descent_gram(\n",
            "/usr/local/lib/python3.8/dist-packages/sklearn/linear_model/_coordinate_descent.py:633: ConvergenceWarning: Objective did not converge. You might want to increase the number of iterations. Duality gap: 5.863789293087962, tolerance: 0.1750899926953981\n",
            "  model = cd_fast.enet_coordinate_descent_gram(\n",
            "/usr/local/lib/python3.8/dist-packages/sklearn/linear_model/_coordinate_descent.py:633: ConvergenceWarning: Objective did not converge. You might want to increase the number of iterations. Duality gap: 5.428385278902283, tolerance: 0.1750899926953981\n",
            "  model = cd_fast.enet_coordinate_descent_gram(\n",
            "/usr/local/lib/python3.8/dist-packages/sklearn/linear_model/_coordinate_descent.py:633: ConvergenceWarning: Objective did not converge. You might want to increase the number of iterations. Duality gap: 5.429899369219129, tolerance: 0.1750899926953981\n",
            "  model = cd_fast.enet_coordinate_descent_gram(\n",
            "/usr/local/lib/python3.8/dist-packages/sklearn/linear_model/_coordinate_descent.py:633: ConvergenceWarning: Objective did not converge. You might want to increase the number of iterations. Duality gap: 6.064596863876886, tolerance: 0.1750899926953981\n",
            "  model = cd_fast.enet_coordinate_descent_gram(\n",
            "/usr/local/lib/python3.8/dist-packages/sklearn/linear_model/_coordinate_descent.py:633: ConvergenceWarning: Objective did not converge. You might want to increase the number of iterations. Duality gap: 4.503576429383656, tolerance: 0.1750899926953981\n",
            "  model = cd_fast.enet_coordinate_descent_gram(\n",
            "/usr/local/lib/python3.8/dist-packages/sklearn/linear_model/_coordinate_descent.py:633: ConvergenceWarning: Objective did not converge. You might want to increase the number of iterations. Duality gap: 3.87546807781564, tolerance: 0.1750899926953981\n",
            "  model = cd_fast.enet_coordinate_descent_gram(\n",
            "/usr/local/lib/python3.8/dist-packages/sklearn/linear_model/_coordinate_descent.py:633: ConvergenceWarning: Objective did not converge. You might want to increase the number of iterations. Duality gap: 3.6660131299462364, tolerance: 0.1750899926953981\n",
            "  model = cd_fast.enet_coordinate_descent_gram(\n",
            "/usr/local/lib/python3.8/dist-packages/sklearn/linear_model/_coordinate_descent.py:633: ConvergenceWarning: Objective did not converge. You might want to increase the number of iterations. Duality gap: 2.336437450820199, tolerance: 0.1750899926953981\n",
            "  model = cd_fast.enet_coordinate_descent_gram(\n",
            "/usr/local/lib/python3.8/dist-packages/sklearn/linear_model/_coordinate_descent.py:633: ConvergenceWarning: Objective did not converge. You might want to increase the number of iterations. Duality gap: 1.2145848850275343, tolerance: 0.1750899926953981\n",
            "  model = cd_fast.enet_coordinate_descent_gram(\n",
            "/usr/local/lib/python3.8/dist-packages/sklearn/linear_model/_coordinate_descent.py:633: ConvergenceWarning: Objective did not converge. You might want to increase the number of iterations. Duality gap: 1.0666533712883393, tolerance: 0.1750899926953981\n",
            "  model = cd_fast.enet_coordinate_descent_gram(\n",
            "/usr/local/lib/python3.8/dist-packages/sklearn/linear_model/_coordinate_descent.py:633: ConvergenceWarning: Objective did not converge. You might want to increase the number of iterations. Duality gap: 2.053293760534416, tolerance: 0.1750899926953981\n",
            "  model = cd_fast.enet_coordinate_descent_gram(\n",
            "/usr/local/lib/python3.8/dist-packages/sklearn/linear_model/_coordinate_descent.py:633: ConvergenceWarning: Objective did not converge. You might want to increase the number of iterations. Duality gap: 6.054618481903162, tolerance: 0.1750899926953981\n",
            "  model = cd_fast.enet_coordinate_descent_gram(\n",
            "/usr/local/lib/python3.8/dist-packages/sklearn/linear_model/_coordinate_descent.py:633: ConvergenceWarning: Objective did not converge. You might want to increase the number of iterations. Duality gap: 9.114466884816352, tolerance: 0.1750899926953981\n",
            "  model = cd_fast.enet_coordinate_descent_gram(\n",
            "/usr/local/lib/python3.8/dist-packages/sklearn/linear_model/_coordinate_descent.py:633: ConvergenceWarning: Objective did not converge. You might want to increase the number of iterations. Duality gap: 10.448019029321017, tolerance: 0.1750899926953981\n",
            "  model = cd_fast.enet_coordinate_descent_gram(\n",
            "/usr/local/lib/python3.8/dist-packages/sklearn/linear_model/_coordinate_descent.py:633: ConvergenceWarning: Objective did not converge. You might want to increase the number of iterations. Duality gap: 0.11474914630593958, tolerance: 0.10558027757487208\n",
            "  model = cd_fast.enet_coordinate_descent_gram(\n",
            "/usr/local/lib/python3.8/dist-packages/sklearn/linear_model/_coordinate_descent.py:633: ConvergenceWarning: Objective did not converge. You might want to increase the number of iterations. Duality gap: 0.19374736821760052, tolerance: 0.10558027757487208\n",
            "  model = cd_fast.enet_coordinate_descent_gram(\n",
            "/usr/local/lib/python3.8/dist-packages/sklearn/linear_model/_coordinate_descent.py:633: ConvergenceWarning: Objective did not converge. You might want to increase the number of iterations. Duality gap: 0.13494072588798645, tolerance: 0.10558027757487208\n",
            "  model = cd_fast.enet_coordinate_descent_gram(\n",
            "/usr/local/lib/python3.8/dist-packages/sklearn/linear_model/_coordinate_descent.py:633: ConvergenceWarning: Objective did not converge. You might want to increase the number of iterations. Duality gap: 0.22719690201859066, tolerance: 0.10558027757487208\n",
            "  model = cd_fast.enet_coordinate_descent_gram(\n",
            "/usr/local/lib/python3.8/dist-packages/sklearn/linear_model/_coordinate_descent.py:633: ConvergenceWarning: Objective did not converge. You might want to increase the number of iterations. Duality gap: 0.19429411930013885, tolerance: 0.10558027757487208\n",
            "  model = cd_fast.enet_coordinate_descent_gram(\n",
            "/usr/local/lib/python3.8/dist-packages/sklearn/linear_model/_coordinate_descent.py:633: ConvergenceWarning: Objective did not converge. You might want to increase the number of iterations. Duality gap: 0.19050649603673264, tolerance: 0.10558027757487208\n",
            "  model = cd_fast.enet_coordinate_descent_gram(\n",
            "/usr/local/lib/python3.8/dist-packages/sklearn/linear_model/_coordinate_descent.py:633: ConvergenceWarning: Objective did not converge. You might want to increase the number of iterations. Duality gap: 0.256380345892012, tolerance: 0.10558027757487208\n",
            "  model = cd_fast.enet_coordinate_descent_gram(\n",
            "/usr/local/lib/python3.8/dist-packages/sklearn/linear_model/_coordinate_descent.py:633: ConvergenceWarning: Objective did not converge. You might want to increase the number of iterations. Duality gap: 0.2911623253594371, tolerance: 0.10558027757487208\n",
            "  model = cd_fast.enet_coordinate_descent_gram(\n",
            "/usr/local/lib/python3.8/dist-packages/sklearn/linear_model/_coordinate_descent.py:633: ConvergenceWarning: Objective did not converge. You might want to increase the number of iterations. Duality gap: 0.2708546981477866, tolerance: 0.10558027757487208\n",
            "  model = cd_fast.enet_coordinate_descent_gram(\n",
            "/usr/local/lib/python3.8/dist-packages/sklearn/linear_model/_coordinate_descent.py:633: ConvergenceWarning: Objective did not converge. You might want to increase the number of iterations. Duality gap: 0.2694254374995353, tolerance: 0.10558027757487208\n",
            "  model = cd_fast.enet_coordinate_descent_gram(\n",
            "/usr/local/lib/python3.8/dist-packages/sklearn/linear_model/_coordinate_descent.py:633: ConvergenceWarning: Objective did not converge. You might want to increase the number of iterations. Duality gap: 0.263341127462013, tolerance: 0.10558027757487208\n",
            "  model = cd_fast.enet_coordinate_descent_gram(\n",
            "/usr/local/lib/python3.8/dist-packages/sklearn/linear_model/_coordinate_descent.py:633: ConvergenceWarning: Objective did not converge. You might want to increase the number of iterations. Duality gap: 0.2507549959905191, tolerance: 0.10558027757487208\n",
            "  model = cd_fast.enet_coordinate_descent_gram(\n",
            "/usr/local/lib/python3.8/dist-packages/sklearn/linear_model/_coordinate_descent.py:633: ConvergenceWarning: Objective did not converge. You might want to increase the number of iterations. Duality gap: 0.2520277898437371, tolerance: 0.10558027757487208\n",
            "  model = cd_fast.enet_coordinate_descent_gram(\n",
            "/usr/local/lib/python3.8/dist-packages/sklearn/linear_model/_coordinate_descent.py:633: ConvergenceWarning: Objective did not converge. You might want to increase the number of iterations. Duality gap: 0.22548068700359636, tolerance: 0.10558027757487208\n",
            "  model = cd_fast.enet_coordinate_descent_gram(\n",
            "/usr/local/lib/python3.8/dist-packages/sklearn/linear_model/_coordinate_descent.py:633: ConvergenceWarning: Objective did not converge. You might want to increase the number of iterations. Duality gap: 0.2049915101465558, tolerance: 0.10558027757487208\n",
            "  model = cd_fast.enet_coordinate_descent_gram(\n",
            "/usr/local/lib/python3.8/dist-packages/sklearn/linear_model/_coordinate_descent.py:633: ConvergenceWarning: Objective did not converge. You might want to increase the number of iterations. Duality gap: 0.29015633449625966, tolerance: 0.10558027757487208\n",
            "  model = cd_fast.enet_coordinate_descent_gram(\n",
            "/usr/local/lib/python3.8/dist-packages/sklearn/linear_model/_coordinate_descent.py:633: ConvergenceWarning: Objective did not converge. You might want to increase the number of iterations. Duality gap: 0.39755466511519444, tolerance: 0.10558027757487208\n",
            "  model = cd_fast.enet_coordinate_descent_gram(\n",
            "/usr/local/lib/python3.8/dist-packages/sklearn/linear_model/_coordinate_descent.py:633: ConvergenceWarning: Objective did not converge. You might want to increase the number of iterations. Duality gap: 0.48631634941807533, tolerance: 0.10558027757487208\n",
            "  model = cd_fast.enet_coordinate_descent_gram(\n",
            "/usr/local/lib/python3.8/dist-packages/sklearn/linear_model/_coordinate_descent.py:633: ConvergenceWarning: Objective did not converge. You might want to increase the number of iterations. Duality gap: 0.5372703612974874, tolerance: 0.10558027757487208\n",
            "  model = cd_fast.enet_coordinate_descent_gram(\n",
            "/usr/local/lib/python3.8/dist-packages/sklearn/linear_model/_coordinate_descent.py:633: ConvergenceWarning: Objective did not converge. You might want to increase the number of iterations. Duality gap: 0.5303664386892706, tolerance: 0.10558027757487208\n",
            "  model = cd_fast.enet_coordinate_descent_gram(\n",
            "/usr/local/lib/python3.8/dist-packages/sklearn/linear_model/_coordinate_descent.py:633: ConvergenceWarning: Objective did not converge. You might want to increase the number of iterations. Duality gap: 0.4852303203185784, tolerance: 0.10558027757487208\n",
            "  model = cd_fast.enet_coordinate_descent_gram(\n",
            "/usr/local/lib/python3.8/dist-packages/sklearn/linear_model/_coordinate_descent.py:633: ConvergenceWarning: Objective did not converge. You might want to increase the number of iterations. Duality gap: 0.41299196977752217, tolerance: 0.10558027757487208\n",
            "  model = cd_fast.enet_coordinate_descent_gram(\n",
            "/usr/local/lib/python3.8/dist-packages/sklearn/linear_model/_coordinate_descent.py:633: ConvergenceWarning: Objective did not converge. You might want to increase the number of iterations. Duality gap: 0.44504031788073917, tolerance: 0.10558027757487208\n",
            "  model = cd_fast.enet_coordinate_descent_gram(\n",
            "/usr/local/lib/python3.8/dist-packages/sklearn/linear_model/_coordinate_descent.py:633: ConvergenceWarning: Objective did not converge. You might want to increase the number of iterations. Duality gap: 0.6044164916149839, tolerance: 0.10558027757487208\n",
            "  model = cd_fast.enet_coordinate_descent_gram(\n",
            "/usr/local/lib/python3.8/dist-packages/sklearn/linear_model/_coordinate_descent.py:633: ConvergenceWarning: Objective did not converge. You might want to increase the number of iterations. Duality gap: 0.5821489079249886, tolerance: 0.10558027757487208\n",
            "  model = cd_fast.enet_coordinate_descent_gram(\n",
            "/usr/local/lib/python3.8/dist-packages/sklearn/linear_model/_coordinate_descent.py:633: ConvergenceWarning: Objective did not converge. You might want to increase the number of iterations. Duality gap: 1.640216462648823, tolerance: 0.10558027757487208\n",
            "  model = cd_fast.enet_coordinate_descent_gram(\n",
            "/usr/local/lib/python3.8/dist-packages/sklearn/linear_model/_coordinate_descent.py:633: ConvergenceWarning: Objective did not converge. You might want to increase the number of iterations. Duality gap: 2.9526979151553405, tolerance: 0.10558027757487208\n",
            "  model = cd_fast.enet_coordinate_descent_gram(\n",
            "/usr/local/lib/python3.8/dist-packages/sklearn/linear_model/_coordinate_descent.py:633: ConvergenceWarning: Objective did not converge. You might want to increase the number of iterations. Duality gap: 3.453510519992392, tolerance: 0.10558027757487208\n",
            "  model = cd_fast.enet_coordinate_descent_gram(\n",
            "/usr/local/lib/python3.8/dist-packages/sklearn/linear_model/_coordinate_descent.py:633: ConvergenceWarning: Objective did not converge. You might want to increase the number of iterations. Duality gap: 2.9106893127578815, tolerance: 0.10558027757487208\n",
            "  model = cd_fast.enet_coordinate_descent_gram(\n",
            "/usr/local/lib/python3.8/dist-packages/sklearn/linear_model/_coordinate_descent.py:633: ConvergenceWarning: Objective did not converge. You might want to increase the number of iterations. Duality gap: 3.238552191859867, tolerance: 0.10558027757487208\n",
            "  model = cd_fast.enet_coordinate_descent_gram(\n",
            "/usr/local/lib/python3.8/dist-packages/sklearn/linear_model/_coordinate_descent.py:633: ConvergenceWarning: Objective did not converge. You might want to increase the number of iterations. Duality gap: 3.4962298619279863, tolerance: 0.10558027757487208\n",
            "  model = cd_fast.enet_coordinate_descent_gram(\n",
            "/usr/local/lib/python3.8/dist-packages/sklearn/linear_model/_coordinate_descent.py:633: ConvergenceWarning: Objective did not converge. You might want to increase the number of iterations. Duality gap: 3.7734824898376473, tolerance: 0.10558027757487208\n",
            "  model = cd_fast.enet_coordinate_descent_gram(\n",
            "/usr/local/lib/python3.8/dist-packages/sklearn/linear_model/_coordinate_descent.py:633: ConvergenceWarning: Objective did not converge. You might want to increase the number of iterations. Duality gap: 3.9457448973673763, tolerance: 0.10558027757487208\n",
            "  model = cd_fast.enet_coordinate_descent_gram(\n",
            "/usr/local/lib/python3.8/dist-packages/sklearn/linear_model/_coordinate_descent.py:633: ConvergenceWarning: Objective did not converge. You might want to increase the number of iterations. Duality gap: 3.461659613569168, tolerance: 0.10558027757487208\n",
            "  model = cd_fast.enet_coordinate_descent_gram(\n",
            "/usr/local/lib/python3.8/dist-packages/sklearn/linear_model/_coordinate_descent.py:633: ConvergenceWarning: Objective did not converge. You might want to increase the number of iterations. Duality gap: 3.394426658807788, tolerance: 0.10558027757487208\n",
            "  model = cd_fast.enet_coordinate_descent_gram(\n",
            "/usr/local/lib/python3.8/dist-packages/sklearn/linear_model/_coordinate_descent.py:633: ConvergenceWarning: Objective did not converge. You might want to increase the number of iterations. Duality gap: 4.197293579875236, tolerance: 0.10558027757487208\n",
            "  model = cd_fast.enet_coordinate_descent_gram(\n",
            "/usr/local/lib/python3.8/dist-packages/sklearn/linear_model/_coordinate_descent.py:633: ConvergenceWarning: Objective did not converge. You might want to increase the number of iterations. Duality gap: 4.7140861379944, tolerance: 0.10558027757487208\n",
            "  model = cd_fast.enet_coordinate_descent_gram(\n",
            "/usr/local/lib/python3.8/dist-packages/sklearn/linear_model/_coordinate_descent.py:633: ConvergenceWarning: Objective did not converge. You might want to increase the number of iterations. Duality gap: 4.857260651044385, tolerance: 0.10558027757487208\n",
            "  model = cd_fast.enet_coordinate_descent_gram(\n",
            "/usr/local/lib/python3.8/dist-packages/sklearn/linear_model/_coordinate_descent.py:633: ConvergenceWarning: Objective did not converge. You might want to increase the number of iterations. Duality gap: 3.71257207430142, tolerance: 0.10558027757487208\n",
            "  model = cd_fast.enet_coordinate_descent_gram(\n"
          ]
        },
        {
          "output_type": "stream",
          "name": "stdout",
          "text": [
            "Best alpha using built-in LassoCV: 0.026444\n",
            "Best score using built-in LassoCV: 0.462189\n",
            "Lasso picked 76 variables and eliminated the other 180 variables\n"
          ]
        },
        {
          "output_type": "stream",
          "name": "stderr",
          "text": [
            "/usr/local/lib/python3.8/dist-packages/sklearn/linear_model/_coordinate_descent.py:647: ConvergenceWarning: Objective did not converge. You might want to increase the number of iterations, check the scale of the features or consider increasing regularisation. Duality gap: 2.166e+02, tolerance: 2.256e-01\n",
            "  model = cd_fast.enet_coordinate_descent(\n"
          ]
        }
      ]
    },
    {
      "cell_type": "markdown",
      "source": [
        "###Pearson's with f regression"
      ],
      "metadata": {
        "id": "rrR11h2K-aJn"
      }
    },
    {
      "cell_type": "code",
      "source": [
        "from sklearn.datasets import make_regression\n",
        "from sklearn.feature_selection import SelectKBest\n",
        "from sklearn.feature_selection import f_regression\n",
        "import pandas as pd\n",
        "\n",
        "\n",
        "fs = SelectKBest(score_func=f_regression, k=5)\n",
        "fit = fs.fit(X,y)\n",
        "\n",
        "dfscores = pd.DataFrame(fit.scores_)\n",
        "dfcolumns = pd.DataFrame(dataset.columns)\n",
        "featureScores = pd.concat([dfcolumns,dfscores],axis=1)\n",
        "\n",
        "featureScores.columns = ['Best_columns','Score_pearsons'] \n",
        "\n",
        "\n",
        "lyst = featureScores.nlargest(number_of_feat,'Score_pearsons')\n",
        "\n",
        "#lyst.to_csv('Filter_Method_Pearson’s_with_f_regression.csv')\n",
        "\n",
        "list_of_feat = list(lyst[\"Best_columns\"])"
      ],
      "metadata": {
        "id": "qH6yDZiP-a9K"
      },
      "execution_count": 31,
      "outputs": []
    },
    {
      "cell_type": "markdown",
      "source": [
        "###Sequential Feature Selection"
      ],
      "metadata": {
        "id": "85wbxGFW-kGZ"
      }
    },
    {
      "cell_type": "code",
      "source": [
        "from sklearn.feature_selection import SequentialFeatureSelector\n",
        "from sklearn.neighbors import KNeighborsClassifier\n",
        "knn = KNeighborsClassifier(n_neighbors=3)\n",
        "sfs = SequentialFeatureSelector(knn, n_features_to_select=number_of_feat)\n",
        "sfs.fit(X, y)\n",
        "list_of_feat=[]\n",
        "list_of_feat=list(sfs.get_feature_names_out(X.columns))\n",
        "\n",
        "df = pd.DataFrame(list_of_feat, columns=['Best_Features'])\n",
        "\n",
        "#df.to_csv(\"Filter_Method_Sequential_feat_Selection_KNN.csv\")\n",
        "\n",
        "list_of_feat = list(df[\"Best_Features\"])\n",
        "if number_of_feat < len(list_of_feat):\n",
        "  list_of_feat = list_of_feat[:number_of_feat]"
      ],
      "metadata": {
        "id": "MtP9AHew-k1i"
      },
      "execution_count": 32,
      "outputs": []
    },
    {
      "cell_type": "markdown",
      "source": [
        "###All features"
      ],
      "metadata": {
        "id": "YAQ71nBV-p7E"
      }
    },
    {
      "cell_type": "code",
      "source": [
        "list_of_feat = list(X.columns)"
      ],
      "metadata": {
        "id": "JKwGHUuo-qnn"
      },
      "execution_count": 33,
      "outputs": []
    },
    {
      "cell_type": "markdown",
      "source": [
        "#Data Spliting"
      ],
      "metadata": {
        "id": "C0Akgb_na7NU"
      }
    },
    {
      "cell_type": "code",
      "source": [
        "X_new = new_dataset[list_of_feat]\n",
        "y_new = new_dataset[target]"
      ],
      "metadata": {
        "id": "uL-Rbjkl_Ath"
      },
      "execution_count": 44,
      "outputs": []
    },
    {
      "cell_type": "code",
      "source": [
        "X_new.shape"
      ],
      "metadata": {
        "colab": {
          "base_uri": "https://localhost:8080/"
        },
        "id": "C5l3a377_FOs",
        "outputId": "0682a53d-16e7-4a0a-8638-e4612d1b3649"
      },
      "execution_count": 45,
      "outputs": [
        {
          "output_type": "execute_result",
          "data": {
            "text/plain": [
              "(3172, 20)"
            ]
          },
          "metadata": {},
          "execution_count": 45
        }
      ]
    },
    {
      "cell_type": "code",
      "source": [
        "y_new.shape"
      ],
      "metadata": {
        "colab": {
          "base_uri": "https://localhost:8080/"
        },
        "id": "Akn6fiaQ_JON",
        "outputId": "ab91713c-da9b-4ecf-c370-db0cfcedeb15"
      },
      "execution_count": 46,
      "outputs": [
        {
          "output_type": "execute_result",
          "data": {
            "text/plain": [
              "(3172,)"
            ]
          },
          "metadata": {},
          "execution_count": 46
        }
      ]
    },
    {
      "cell_type": "code",
      "source": [
        "from sklearn.model_selection import train_test_split\n",
        "X_train, X_test, y_train, y_test = train_test_split(X_new, y_new, test_size = 0.2, random_state = 0)"
      ],
      "metadata": {
        "id": "dLN_vK-s_QnK"
      },
      "execution_count": 47,
      "outputs": []
    },
    {
      "cell_type": "markdown",
      "source": [
        "\n",
        "\n",
        "---\n",
        "\n"
      ],
      "metadata": {
        "id": "bqYsoblRogp2"
      }
    },
    {
      "cell_type": "markdown",
      "source": [
        "\n",
        "\n",
        "---\n",
        "\n"
      ],
      "metadata": {
        "id": "BydV84Diooxp"
      }
    },
    {
      "cell_type": "markdown",
      "source": [
        "#ADABOOST"
      ],
      "metadata": {
        "id": "jEe2R0yAoifa"
      }
    },
    {
      "cell_type": "code",
      "source": [
        "from sklearn.ensemble import AdaBoostClassifier\n",
        "\n",
        "ada_defult = AdaBoostClassifier(random_state=0)\n",
        "ada_defult.fit(X_train, y_train)\n",
        "y_pred = ada_defult.predict(X_test)\n",
        "\n",
        "from sklearn.metrics import classification_report, confusion_matrix, accuracy_score\n",
        "print(confusion_matrix(y_test, y_pred))\n",
        "print(classification_report(y_test,y_pred))\n",
        "print(\"Accurecy: \",accuracy_score(y_test, y_pred))\n",
        "result[(ada_defult,1,'AdaBoostClassifier')]=accuracy_score(y_test, y_pred)\n"
      ],
      "metadata": {
        "id": "Bz_yVJaXod8O",
        "colab": {
          "base_uri": "https://localhost:8080/"
        },
        "outputId": "a92caa89-1480-49d1-e251-2d6ada66c96c"
      },
      "execution_count": 48,
      "outputs": [
        {
          "output_type": "stream",
          "name": "stdout",
          "text": [
            "[[ 64  54  27  18]\n",
            " [ 27  78  30  10]\n",
            " [ 19  33  77  39]\n",
            " [  7  10  31 111]]\n",
            "              precision    recall  f1-score   support\n",
            "\n",
            "           0       0.55      0.39      0.46       163\n",
            "           1       0.45      0.54      0.49       145\n",
            "           2       0.47      0.46      0.46       168\n",
            "           3       0.62      0.70      0.66       159\n",
            "\n",
            "    accuracy                           0.52       635\n",
            "   macro avg       0.52      0.52      0.52       635\n",
            "weighted avg       0.52      0.52      0.52       635\n",
            "\n",
            "Accurecy:  0.5196850393700787\n"
          ]
        }
      ]
    },
    {
      "cell_type": "code",
      "source": [
        "from sklearn.ensemble import AdaBoostClassifier\n",
        "N=90\n",
        "k_range = range (1,N+1)\n",
        "scores={}\n",
        "scores_list = []\n",
        "for k in k_range:\n",
        "  classifier = AdaBoostClassifier(n_estimators=k,random_state=0)\n",
        "  classifier.fit(X_train, y_train)\n",
        "  y_pred=classifier.predict(X_test)\n",
        "  scores[k] = accuracy_score(y_test,y_pred)\n",
        "  scores_list.append(accuracy_score(y_test,y_pred))\n",
        "  print(str(k)+\"/\"+str(N)+\" round completed......................... Accurecy: \"+str(accuracy_score(y_test,y_pred)))\n",
        "\n",
        "\n",
        "\n",
        "%matplotlib inline\n",
        "import matplotlib.pyplot as plt\n",
        "#plot the relationship between K and the testing accuracy\n",
        "plt.figure(figsize = (25,10))\n",
        "plt.plot(k_range,scores_list)\n",
        "plt.xlabel('Value of n_estimators')\n",
        "plt.ylabel ('Testing Accuracy')\n",
        "\n",
        "\n",
        "\n",
        "print(\"The best n_estimators:\")\n",
        "best_estimator=list(scores.keys())[scores_list.index(max(scores_list))]\n",
        "print(best_estimator)"
      ],
      "metadata": {
        "id": "_3wRG3rxotzH",
        "colab": {
          "base_uri": "https://localhost:8080/",
          "height": 0
        },
        "outputId": "45c5fc9b-0541-4a3d-ac2e-dd162b50e939"
      },
      "execution_count": 49,
      "outputs": [
        {
          "output_type": "stream",
          "name": "stdout",
          "text": [
            "1/90 round completed......................... Accurecy: 0.3921259842519685\n",
            "2/90 round completed......................... Accurecy: 0.45984251968503936\n",
            "3/90 round completed......................... Accurecy: 0.46771653543307085\n",
            "4/90 round completed......................... Accurecy: 0.46771653543307085\n",
            "5/90 round completed......................... Accurecy: 0.47874015748031495\n",
            "6/90 round completed......................... Accurecy: 0.5338582677165354\n",
            "7/90 round completed......................... Accurecy: 0.5291338582677165\n",
            "8/90 round completed......................... Accurecy: 0.5322834645669291\n",
            "9/90 round completed......................... Accurecy: 0.5275590551181102\n",
            "10/90 round completed......................... Accurecy: 0.5228346456692914\n",
            "11/90 round completed......................... Accurecy: 0.537007874015748\n",
            "12/90 round completed......................... Accurecy: 0.5039370078740157\n",
            "13/90 round completed......................... Accurecy: 0.5165354330708661\n",
            "14/90 round completed......................... Accurecy: 0.5228346456692914\n",
            "15/90 round completed......................... Accurecy: 0.5181102362204725\n",
            "16/90 round completed......................... Accurecy: 0.5228346456692914\n",
            "17/90 round completed......................... Accurecy: 0.5118110236220472\n",
            "18/90 round completed......................... Accurecy: 0.5244094488188976\n",
            "19/90 round completed......................... Accurecy: 0.525984251968504\n",
            "20/90 round completed......................... Accurecy: 0.5354330708661418\n",
            "21/90 round completed......................... Accurecy: 0.5228346456692914\n",
            "22/90 round completed......................... Accurecy: 0.525984251968504\n",
            "23/90 round completed......................... Accurecy: 0.525984251968504\n",
            "24/90 round completed......................... Accurecy: 0.5307086614173229\n",
            "25/90 round completed......................... Accurecy: 0.5322834645669291\n",
            "26/90 round completed......................... Accurecy: 0.5228346456692914\n",
            "27/90 round completed......................... Accurecy: 0.521259842519685\n",
            "28/90 round completed......................... Accurecy: 0.521259842519685\n",
            "29/90 round completed......................... Accurecy: 0.525984251968504\n",
            "30/90 round completed......................... Accurecy: 0.521259842519685\n",
            "31/90 round completed......................... Accurecy: 0.525984251968504\n",
            "32/90 round completed......................... Accurecy: 0.525984251968504\n",
            "33/90 round completed......................... Accurecy: 0.5338582677165354\n",
            "34/90 round completed......................... Accurecy: 0.5354330708661418\n",
            "35/90 round completed......................... Accurecy: 0.5291338582677165\n",
            "36/90 round completed......................... Accurecy: 0.5307086614173229\n",
            "37/90 round completed......................... Accurecy: 0.5118110236220472\n",
            "38/90 round completed......................... Accurecy: 0.5196850393700787\n",
            "39/90 round completed......................... Accurecy: 0.5133858267716536\n",
            "40/90 round completed......................... Accurecy: 0.5228346456692914\n",
            "41/90 round completed......................... Accurecy: 0.5133858267716536\n",
            "42/90 round completed......................... Accurecy: 0.5181102362204725\n",
            "43/90 round completed......................... Accurecy: 0.5196850393700787\n",
            "44/90 round completed......................... Accurecy: 0.5291338582677165\n",
            "45/90 round completed......................... Accurecy: 0.5228346456692914\n",
            "46/90 round completed......................... Accurecy: 0.5196850393700787\n",
            "47/90 round completed......................... Accurecy: 0.5275590551181102\n",
            "48/90 round completed......................... Accurecy: 0.5086614173228347\n",
            "49/90 round completed......................... Accurecy: 0.5133858267716536\n",
            "50/90 round completed......................... Accurecy: 0.5196850393700787\n",
            "51/90 round completed......................... Accurecy: 0.521259842519685\n",
            "52/90 round completed......................... Accurecy: 0.5165354330708661\n",
            "53/90 round completed......................... Accurecy: 0.5133858267716536\n",
            "54/90 round completed......................... Accurecy: 0.521259842519685\n",
            "55/90 round completed......................... Accurecy: 0.5244094488188976\n",
            "56/90 round completed......................... Accurecy: 0.5228346456692914\n",
            "57/90 round completed......................... Accurecy: 0.521259842519685\n",
            "58/90 round completed......................... Accurecy: 0.521259842519685\n",
            "59/90 round completed......................... Accurecy: 0.5196850393700787\n",
            "60/90 round completed......................... Accurecy: 0.525984251968504\n",
            "61/90 round completed......................... Accurecy: 0.5433070866141733\n",
            "62/90 round completed......................... Accurecy: 0.5417322834645669\n",
            "63/90 round completed......................... Accurecy: 0.537007874015748\n",
            "64/90 round completed......................... Accurecy: 0.5417322834645669\n",
            "65/90 round completed......................... Accurecy: 0.5401574803149606\n",
            "66/90 round completed......................... Accurecy: 0.5385826771653544\n",
            "67/90 round completed......................... Accurecy: 0.537007874015748\n",
            "68/90 round completed......................... Accurecy: 0.5417322834645669\n",
            "69/90 round completed......................... Accurecy: 0.5433070866141733\n",
            "70/90 round completed......................... Accurecy: 0.5417322834645669\n",
            "71/90 round completed......................... Accurecy: 0.5385826771653544\n",
            "72/90 round completed......................... Accurecy: 0.5448818897637795\n",
            "73/90 round completed......................... Accurecy: 0.5464566929133858\n",
            "74/90 round completed......................... Accurecy: 0.5511811023622047\n",
            "75/90 round completed......................... Accurecy: 0.5590551181102362\n",
            "76/90 round completed......................... Accurecy: 0.552755905511811\n",
            "77/90 round completed......................... Accurecy: 0.5511811023622047\n",
            "78/90 round completed......................... Accurecy: 0.5480314960629922\n",
            "79/90 round completed......................... Accurecy: 0.5464566929133858\n",
            "80/90 round completed......................... Accurecy: 0.5417322834645669\n",
            "81/90 round completed......................... Accurecy: 0.5448818897637795\n",
            "82/90 round completed......................... Accurecy: 0.552755905511811\n",
            "83/90 round completed......................... Accurecy: 0.5574803149606299\n",
            "84/90 round completed......................... Accurecy: 0.5511811023622047\n",
            "85/90 round completed......................... Accurecy: 0.5559055118110237\n",
            "86/90 round completed......................... Accurecy: 0.5543307086614173\n",
            "87/90 round completed......................... Accurecy: 0.5464566929133858\n",
            "88/90 round completed......................... Accurecy: 0.5511811023622047\n",
            "89/90 round completed......................... Accurecy: 0.5433070866141733\n",
            "90/90 round completed......................... Accurecy: 0.5496062992125984\n",
            "The best n_estimators:\n",
            "75\n"
          ]
        },
        {
          "output_type": "display_data",
          "data": {
            "text/plain": [
              "<Figure size 1800x720 with 1 Axes>"
            ],
            "image/png": "[encoded data removed]"
          },
          "metadata": {
            "needs_background": "light"
          }
        }
      ]
    },
    {
      "cell_type": "code",
      "source": [
        "from sklearn.ensemble import AdaBoostClassifier\n",
        "\n",
        "ada_best_estimator = AdaBoostClassifier(n_estimators=best_estimator,random_state=0)\n",
        "ada_best_estimator.fit(X_train, y_train)\n",
        "y_pred = ada_best_estimator.predict(X_test)\n",
        "\n",
        "from sklearn.metrics import classification_report, confusion_matrix, accuracy_score\n",
        "print(confusion_matrix(y_test, y_pred))\n",
        "print(classification_report(y_test,y_pred))\n",
        "print(\"Accurecy: \",accuracy_score(y_test, y_pred))\n",
        "result[(ada_best_estimator,1,'AdaBoostClassifier')]=accuracy_score(y_test, y_pred)"
      ],
      "metadata": {
        "id": "ctzoGCmFo0In",
        "colab": {
          "base_uri": "https://localhost:8080/"
        },
        "outputId": "a7269aa5-7bbf-448f-e79b-39a199cddca4"
      },
      "execution_count": 50,
      "outputs": [
        {
          "output_type": "stream",
          "name": "stdout",
          "text": [
            "[[ 77  43  29  14]\n",
            " [ 27  88  20  10]\n",
            " [ 24  26  78  40]\n",
            " [  9   8  30 112]]\n",
            "              precision    recall  f1-score   support\n",
            "\n",
            "           0       0.56      0.47      0.51       163\n",
            "           1       0.53      0.61      0.57       145\n",
            "           2       0.50      0.46      0.48       168\n",
            "           3       0.64      0.70      0.67       159\n",
            "\n",
            "    accuracy                           0.56       635\n",
            "   macro avg       0.56      0.56      0.56       635\n",
            "weighted avg       0.56      0.56      0.56       635\n",
            "\n",
            "Accurecy:  0.5590551181102362\n"
          ]
        }
      ]
    },
    {
      "cell_type": "markdown",
      "source": [
        "\n",
        "\n",
        "---\n",
        "\n",
        "\n",
        "\n",
        "---\n",
        "\n"
      ],
      "metadata": {
        "id": "JQhATacCo1AD"
      }
    },
    {
      "cell_type": "markdown",
      "source": [
        "#Graddient Boosting"
      ],
      "metadata": {
        "id": "FJybpt_UvCU0"
      }
    },
    {
      "cell_type": "code",
      "source": [
        "from sklearn.ensemble import GradientBoostingClassifier\n",
        "from sklearn.model_selection import RepeatedStratifiedKFold\n",
        "\n",
        "gradBoost_default = GradientBoostingClassifier(random_state=0)\n",
        "gradBoost_default.fit(X_train, y_train)\n",
        "y_pred = gradBoost_default.predict(X_test)\n",
        "\n",
        "from sklearn.metrics import classification_report, confusion_matrix, accuracy_score\n",
        "print(confusion_matrix(y_test, y_pred))\n",
        "print(classification_report(y_test,y_pred))\n",
        "print(\"Accurecy: \",accuracy_score(y_test, y_pred))\n",
        "result[(gradBoost_default,2,'GradientBoostingClassifier')]=accuracy_score(y_test, y_pred)"
      ],
      "metadata": {
        "id": "sgmvc8A_o18j",
        "colab": {
          "base_uri": "https://localhost:8080/"
        },
        "outputId": "dbd0ed3e-8d3a-4b9c-9e44-76f1aaa7e11c"
      },
      "execution_count": 51,
      "outputs": [
        {
          "output_type": "stream",
          "name": "stdout",
          "text": [
            "[[121  13  17  12]\n",
            " [ 26 111   4   4]\n",
            " [ 21  24  94  29]\n",
            " [  6  11  23 119]]\n",
            "              precision    recall  f1-score   support\n",
            "\n",
            "           0       0.70      0.74      0.72       163\n",
            "           1       0.70      0.77      0.73       145\n",
            "           2       0.68      0.56      0.61       168\n",
            "           3       0.73      0.75      0.74       159\n",
            "\n",
            "    accuracy                           0.70       635\n",
            "   macro avg       0.70      0.70      0.70       635\n",
            "weighted avg       0.70      0.70      0.70       635\n",
            "\n",
            "Accurecy:  0.7007874015748031\n"
          ]
        }
      ]
    },
    {
      "cell_type": "code",
      "source": [
        "from sklearn.ensemble import GradientBoostingClassifier\n",
        "from sklearn.metrics import accuracy_score\n",
        "N=175\n",
        "k_range = range (1,N+1)\n",
        "scores={}\n",
        "scores_list = []\n",
        "for k in k_range:\n",
        "  classifier = GradientBoostingClassifier(n_estimators=k,random_state=0)\n",
        "  classifier.fit(X_train, y_train)\n",
        "  y_pred=classifier.predict(X_test)\n",
        "  scores[k] = accuracy_score(y_test,y_pred)\n",
        "  scores_list.append(accuracy_score(y_test,y_pred))\n",
        "  print(str(k)+\"/\"+str(N)+\" round completed......................... Accurecy: \"+str(accuracy_score(y_test,y_pred)))\n",
        "\n",
        "\n",
        "\n",
        "%matplotlib inline\n",
        "import matplotlib.pyplot as plt\n",
        "\n",
        "plt.figure(figsize = (25,10))\n",
        "plt.plot(k_range,scores_list)\n",
        "plt.xlabel('Value of n_estimators')\n",
        "plt.ylabel ('Testing Accuracy')\n",
        "\n",
        "\n",
        "\n",
        "print(\"The best n_estimators:\")\n",
        "best_estimator=list(scores.keys())[scores_list.index(max(scores_list))]\n",
        "print(best_estimator)"
      ],
      "metadata": {
        "id": "9brp-qNgo-tX",
        "colab": {
          "base_uri": "https://localhost:8080/",
          "height": 0
        },
        "outputId": "168b602e-2ff7-4202-aac9-ba937b76af16"
      },
      "execution_count": 52,
      "outputs": [
        {
          "output_type": "stream",
          "name": "stdout",
          "text": [
            "1/175 round completed......................... Accurecy: 0.5606299212598426\n",
            "2/175 round completed......................... Accurecy: 0.5779527559055118\n",
            "3/175 round completed......................... Accurecy: 0.5826771653543307\n",
            "4/175 round completed......................... Accurecy: 0.5858267716535434\n",
            "5/175 round completed......................... Accurecy: 0.5826771653543307\n",
            "6/175 round completed......................... Accurecy: 0.5811023622047244\n",
            "7/175 round completed......................... Accurecy: 0.5905511811023622\n",
            "8/175 round completed......................... Accurecy: 0.5952755905511811\n",
            "9/175 round completed......................... Accurecy: 0.5937007874015748\n",
            "10/175 round completed......................... Accurecy: 0.5984251968503937\n",
            "11/175 round completed......................... Accurecy: 0.584251968503937\n",
            "12/175 round completed......................... Accurecy: 0.5921259842519685\n",
            "13/175 round completed......................... Accurecy: 0.5937007874015748\n",
            "14/175 round completed......................... Accurecy: 0.6047244094488189\n",
            "15/175 round completed......................... Accurecy: 0.6047244094488189\n",
            "16/175 round completed......................... Accurecy: 0.6110236220472441\n",
            "17/175 round completed......................... Accurecy: 0.6110236220472441\n",
            "18/175 round completed......................... Accurecy: 0.6188976377952756\n",
            "19/175 round completed......................... Accurecy: 0.6267716535433071\n",
            "20/175 round completed......................... Accurecy: 0.6236220472440945\n",
            "21/175 round completed......................... Accurecy: 0.6236220472440945\n",
            "22/175 round completed......................... Accurecy: 0.6346456692913386\n",
            "23/175 round completed......................... Accurecy: 0.6346456692913386\n",
            "24/175 round completed......................... Accurecy: 0.6330708661417322\n",
            "25/175 round completed......................... Accurecy: 0.6267716535433071\n",
            "26/175 round completed......................... Accurecy: 0.6283464566929133\n",
            "27/175 round completed......................... Accurecy: 0.6330708661417322\n",
            "28/175 round completed......................... Accurecy: 0.6362204724409449\n",
            "29/175 round completed......................... Accurecy: 0.6377952755905512\n",
            "30/175 round completed......................... Accurecy: 0.6425196850393701\n",
            "31/175 round completed......................... Accurecy: 0.6488188976377953\n",
            "32/175 round completed......................... Accurecy: 0.6519685039370079\n",
            "33/175 round completed......................... Accurecy: 0.6503937007874016\n",
            "34/175 round completed......................... Accurecy: 0.6551181102362205\n",
            "35/175 round completed......................... Accurecy: 0.6488188976377953\n",
            "36/175 round completed......................... Accurecy: 0.658267716535433\n",
            "37/175 round completed......................... Accurecy: 0.6614173228346457\n",
            "38/175 round completed......................... Accurecy: 0.6566929133858268\n",
            "39/175 round completed......................... Accurecy: 0.6551181102362205\n",
            "40/175 round completed......................... Accurecy: 0.6598425196850394\n",
            "41/175 round completed......................... Accurecy: 0.662992125984252\n",
            "42/175 round completed......................... Accurecy: 0.6677165354330709\n",
            "43/175 round completed......................... Accurecy: 0.6645669291338583\n",
            "44/175 round completed......................... Accurecy: 0.6708661417322834\n",
            "45/175 round completed......................... Accurecy: 0.6692913385826772\n",
            "46/175 round completed......................... Accurecy: 0.6677165354330709\n",
            "47/175 round completed......................... Accurecy: 0.6708661417322834\n",
            "48/175 round completed......................... Accurecy: 0.6708661417322834\n",
            "49/175 round completed......................... Accurecy: 0.6724409448818898\n",
            "50/175 round completed......................... Accurecy: 0.6708661417322834\n",
            "51/175 round completed......................... Accurecy: 0.6787401574803149\n",
            "52/175 round completed......................... Accurecy: 0.6787401574803149\n",
            "53/175 round completed......................... Accurecy: 0.6803149606299213\n",
            "54/175 round completed......................... Accurecy: 0.6803149606299213\n",
            "55/175 round completed......................... Accurecy: 0.6803149606299213\n",
            "56/175 round completed......................... Accurecy: 0.6834645669291338\n",
            "57/175 round completed......................... Accurecy: 0.6866141732283465\n",
            "58/175 round completed......................... Accurecy: 0.6850393700787402\n",
            "59/175 round completed......................... Accurecy: 0.6897637795275591\n",
            "60/175 round completed......................... Accurecy: 0.6960629921259842\n",
            "61/175 round completed......................... Accurecy: 0.6960629921259842\n",
            "62/175 round completed......................... Accurecy: 0.6897637795275591\n",
            "63/175 round completed......................... Accurecy: 0.6913385826771653\n",
            "64/175 round completed......................... Accurecy: 0.6913385826771653\n",
            "65/175 round completed......................... Accurecy: 0.6929133858267716\n",
            "66/175 round completed......................... Accurecy: 0.6913385826771653\n",
            "67/175 round completed......................... Accurecy: 0.6976377952755906\n",
            "68/175 round completed......................... Accurecy: 0.6960629921259842\n",
            "69/175 round completed......................... Accurecy: 0.6960629921259842\n",
            "70/175 round completed......................... Accurecy: 0.6992125984251969\n",
            "71/175 round completed......................... Accurecy: 0.6976377952755906\n",
            "72/175 round completed......................... Accurecy: 0.7007874015748031\n",
            "73/175 round completed......................... Accurecy: 0.7023622047244095\n",
            "74/175 round completed......................... Accurecy: 0.6992125984251969\n",
            "75/175 round completed......................... Accurecy: 0.6992125984251969\n",
            "76/175 round completed......................... Accurecy: 0.7007874015748031\n",
            "77/175 round completed......................... Accurecy: 0.7023622047244095\n",
            "78/175 round completed......................... Accurecy: 0.7039370078740157\n",
            "79/175 round completed......................... Accurecy: 0.7039370078740157\n",
            "80/175 round completed......................... Accurecy: 0.7023622047244095\n",
            "81/175 round completed......................... Accurecy: 0.7086614173228346\n",
            "82/175 round completed......................... Accurecy: 0.705511811023622\n",
            "83/175 round completed......................... Accurecy: 0.7039370078740157\n",
            "84/175 round completed......................... Accurecy: 0.7023622047244095\n",
            "85/175 round completed......................... Accurecy: 0.705511811023622\n",
            "86/175 round completed......................... Accurecy: 0.705511811023622\n",
            "87/175 round completed......................... Accurecy: 0.7039370078740157\n",
            "88/175 round completed......................... Accurecy: 0.7086614173228346\n",
            "89/175 round completed......................... Accurecy: 0.7039370078740157\n",
            "90/175 round completed......................... Accurecy: 0.7039370078740157\n",
            "91/175 round completed......................... Accurecy: 0.7039370078740157\n",
            "92/175 round completed......................... Accurecy: 0.6992125984251969\n",
            "93/175 round completed......................... Accurecy: 0.7023622047244095\n",
            "94/175 round completed......................... Accurecy: 0.7039370078740157\n",
            "95/175 round completed......................... Accurecy: 0.7023622047244095\n",
            "96/175 round completed......................... Accurecy: 0.7039370078740157\n",
            "97/175 round completed......................... Accurecy: 0.7007874015748031\n",
            "98/175 round completed......................... Accurecy: 0.7007874015748031\n",
            "99/175 round completed......................... Accurecy: 0.7007874015748031\n",
            "100/175 round completed......................... Accurecy: 0.7007874015748031\n",
            "101/175 round completed......................... Accurecy: 0.705511811023622\n",
            "102/175 round completed......................... Accurecy: 0.7039370078740157\n",
            "103/175 round completed......................... Accurecy: 0.7039370078740157\n",
            "104/175 round completed......................... Accurecy: 0.705511811023622\n",
            "105/175 round completed......................... Accurecy: 0.7070866141732284\n",
            "106/175 round completed......................... Accurecy: 0.710236220472441\n",
            "107/175 round completed......................... Accurecy: 0.7118110236220473\n",
            "108/175 round completed......................... Accurecy: 0.7133858267716535\n",
            "109/175 round completed......................... Accurecy: 0.7133858267716535\n",
            "110/175 round completed......................... Accurecy: 0.7181102362204724\n",
            "111/175 round completed......................... Accurecy: 0.7165354330708661\n",
            "112/175 round completed......................... Accurecy: 0.7149606299212599\n",
            "113/175 round completed......................... Accurecy: 0.7133858267716535\n",
            "114/175 round completed......................... Accurecy: 0.7165354330708661\n",
            "115/175 round completed......................... Accurecy: 0.7196850393700788\n",
            "116/175 round completed......................... Accurecy: 0.7165354330708661\n",
            "117/175 round completed......................... Accurecy: 0.7181102362204724\n",
            "118/175 round completed......................... Accurecy: 0.7196850393700788\n",
            "119/175 round completed......................... Accurecy: 0.7181102362204724\n",
            "120/175 round completed......................... Accurecy: 0.7165354330708661\n",
            "121/175 round completed......................... Accurecy: 0.7165354330708661\n",
            "122/175 round completed......................... Accurecy: 0.7165354330708661\n",
            "123/175 round completed......................... Accurecy: 0.7165354330708661\n",
            "124/175 round completed......................... Accurecy: 0.7165354330708661\n",
            "125/175 round completed......................... Accurecy: 0.7181102362204724\n",
            "126/175 round completed......................... Accurecy: 0.7181102362204724\n",
            "127/175 round completed......................... Accurecy: 0.721259842519685\n",
            "128/175 round completed......................... Accurecy: 0.7181102362204724\n",
            "129/175 round completed......................... Accurecy: 0.721259842519685\n",
            "130/175 round completed......................... Accurecy: 0.7165354330708661\n",
            "131/175 round completed......................... Accurecy: 0.7181102362204724\n",
            "132/175 round completed......................... Accurecy: 0.7228346456692913\n",
            "133/175 round completed......................... Accurecy: 0.7244094488188977\n",
            "134/175 round completed......................... Accurecy: 0.7228346456692913\n",
            "135/175 round completed......................... Accurecy: 0.7244094488188977\n",
            "136/175 round completed......................... Accurecy: 0.7244094488188977\n",
            "137/175 round completed......................... Accurecy: 0.7244094488188977\n",
            "138/175 round completed......................... Accurecy: 0.7244094488188977\n",
            "139/175 round completed......................... Accurecy: 0.7228346456692913\n",
            "140/175 round completed......................... Accurecy: 0.7259842519685039\n",
            "141/175 round completed......................... Accurecy: 0.7275590551181103\n",
            "142/175 round completed......................... Accurecy: 0.7259842519685039\n",
            "143/175 round completed......................... Accurecy: 0.7291338582677165\n",
            "144/175 round completed......................... Accurecy: 0.7307086614173228\n",
            "145/175 round completed......................... Accurecy: 0.7322834645669292\n",
            "146/175 round completed......................... Accurecy: 0.7291338582677165\n",
            "147/175 round completed......................... Accurecy: 0.7291338582677165\n",
            "148/175 round completed......................... Accurecy: 0.7275590551181103\n",
            "149/175 round completed......................... Accurecy: 0.7275590551181103\n",
            "150/175 round completed......................... Accurecy: 0.7291338582677165\n",
            "151/175 round completed......................... Accurecy: 0.7291338582677165\n",
            "152/175 round completed......................... Accurecy: 0.7275590551181103\n",
            "153/175 round completed......................... Accurecy: 0.7275590551181103\n",
            "154/175 round completed......................... Accurecy: 0.7275590551181103\n",
            "155/175 round completed......................... Accurecy: 0.7259842519685039\n",
            "156/175 round completed......................... Accurecy: 0.7275590551181103\n",
            "157/175 round completed......................... Accurecy: 0.7275590551181103\n",
            "158/175 round completed......................... Accurecy: 0.7275590551181103\n",
            "159/175 round completed......................... Accurecy: 0.7275590551181103\n",
            "160/175 round completed......................... Accurecy: 0.7275590551181103\n",
            "161/175 round completed......................... Accurecy: 0.7259842519685039\n",
            "162/175 round completed......................... Accurecy: 0.7259842519685039\n",
            "163/175 round completed......................... Accurecy: 0.7259842519685039\n",
            "164/175 round completed......................... Accurecy: 0.7259842519685039\n",
            "165/175 round completed......................... Accurecy: 0.7259842519685039\n",
            "166/175 round completed......................... Accurecy: 0.7275590551181103\n",
            "167/175 round completed......................... Accurecy: 0.7291338582677165\n",
            "168/175 round completed......................... Accurecy: 0.7307086614173228\n",
            "169/175 round completed......................... Accurecy: 0.7275590551181103\n",
            "170/175 round completed......................... Accurecy: 0.7307086614173228\n",
            "171/175 round completed......................... Accurecy: 0.7307086614173228\n",
            "172/175 round completed......................... Accurecy: 0.7338582677165354\n",
            "173/175 round completed......................... Accurecy: 0.7307086614173228\n",
            "174/175 round completed......................... Accurecy: 0.7307086614173228\n",
            "175/175 round completed......................... Accurecy: 0.7338582677165354\n",
            "The best n_estimators:\n",
            "172\n"
          ]
        },
        {
          "output_type": "display_data",
          "data": {
            "text/plain": [
              "<Figure size 1800x720 with 1 Axes>"
            ],
            "image/png": "[encoded data removed]"
          },
          "metadata": {
            "needs_background": "light"
          }
        }
      ]
    },
    {
      "cell_type": "code",
      "source": [
        "from sklearn.ensemble import GradientBoostingClassifier\n",
        "from sklearn.metrics import accuracy_score\n",
        "N=14\n",
        "k_range = range (1,N+1)\n",
        "scores={}\n",
        "scores_list = []\n",
        "for k in k_range:\n",
        "  classifier = GradientBoostingClassifier(max_depth=k,random_state=0)\n",
        "  classifier.fit(X_train, y_train)\n",
        "  y_pred=classifier.predict(X_test)\n",
        "  scores[k] = accuracy_score(y_test,y_pred)\n",
        "  scores_list.append(accuracy_score(y_test,y_pred))\n",
        "  print(str(k)+\"/\"+str(N)+\" round completed......................... Accurecy: \"+str(accuracy_score(y_test,y_pred)))\n",
        "\n",
        "\n",
        "\n",
        "%matplotlib inline\n",
        "import matplotlib.pyplot as plt\n",
        "\n",
        "plt.figure(figsize = (25,10))\n",
        "plt.plot(k_range,scores_list)\n",
        "plt.xlabel('Value of n_estimators')\n",
        "plt.ylabel ('Testing Accuracy')\n",
        "\n",
        "\n",
        "\n",
        "print(\"The best Depth:\")\n",
        "best_depth=list(scores.keys())[scores_list.index(max(scores_list))]\n",
        "print(best_depth)"
      ],
      "metadata": {
        "id": "JtO5QAkHpDAy",
        "colab": {
          "base_uri": "https://localhost:8080/",
          "height": 0
        },
        "outputId": "47dcb31d-8340-470c-e4c4-76fd448d1643"
      },
      "execution_count": 53,
      "outputs": [
        {
          "output_type": "stream",
          "name": "stdout",
          "text": [
            "1/14 round completed......................... Accurecy: 0.6157480314960629\n",
            "2/14 round completed......................... Accurecy: 0.6724409448818898\n",
            "3/14 round completed......................... Accurecy: 0.7007874015748031\n",
            "4/14 round completed......................... Accurecy: 0.7401574803149606\n",
            "5/14 round completed......................... Accurecy: 0.75748031496063\n",
            "6/14 round completed......................... Accurecy: 0.768503937007874\n",
            "7/14 round completed......................... Accurecy: 0.7748031496062993\n",
            "8/14 round completed......................... Accurecy: 0.7795275590551181\n",
            "9/14 round completed......................... Accurecy: 0.7716535433070866\n",
            "10/14 round completed......................... Accurecy: 0.75748031496063\n",
            "11/14 round completed......................... Accurecy: 0.784251968503937\n",
            "12/14 round completed......................... Accurecy: 0.7858267716535433\n",
            "13/14 round completed......................... Accurecy: 0.7496062992125985\n",
            "14/14 round completed......................... Accurecy: 0.7338582677165354\n",
            "The best Depth:\n",
            "12\n"
          ]
        },
        {
          "output_type": "display_data",
          "data": {
            "text/plain": [
              "<Figure size 1800x720 with 1 Axes>"
            ],
            "image/png": "[encoded data removed]"
          },
          "metadata": {
            "needs_background": "light"
          }
        }
      ]
    },
    {
      "cell_type": "code",
      "source": [
        "from sklearn.ensemble import GradientBoostingClassifier\n",
        "\n",
        "gradBoost_estimator = GradientBoostingClassifier(n_estimators=best_estimator,random_state=0)\n",
        "gradBoost_estimator.fit(X_train, y_train)\n",
        "y_pred = gradBoost_estimator.predict(X_test)\n",
        "\n",
        "from sklearn.metrics import classification_report, confusion_matrix, accuracy_score\n",
        "print(confusion_matrix(y_test, y_pred))\n",
        "print(classification_report(y_test,y_pred))\n",
        "print(\"Accurecy: \",accuracy_score(y_test, y_pred))\n",
        "result[(gradBoost_estimator,2,'GradientBoostingClassifier')]=accuracy_score(y_test, y_pred)"
      ],
      "metadata": {
        "id": "EFg4mMYepGXx",
        "colab": {
          "base_uri": "https://localhost:8080/"
        },
        "outputId": "f67555b3-5fd1-4283-b1be-bff270560d5e"
      },
      "execution_count": 54,
      "outputs": [
        {
          "output_type": "stream",
          "name": "stdout",
          "text": [
            "[[128   8  18   9]\n",
            " [ 23 117   3   2]\n",
            " [ 25  17 100  26]\n",
            " [  8   9  21 121]]\n",
            "              precision    recall  f1-score   support\n",
            "\n",
            "           0       0.70      0.79      0.74       163\n",
            "           1       0.77      0.81      0.79       145\n",
            "           2       0.70      0.60      0.65       168\n",
            "           3       0.77      0.76      0.76       159\n",
            "\n",
            "    accuracy                           0.73       635\n",
            "   macro avg       0.74      0.74      0.73       635\n",
            "weighted avg       0.73      0.73      0.73       635\n",
            "\n",
            "Accurecy:  0.7338582677165354\n"
          ]
        }
      ]
    },
    {
      "cell_type": "code",
      "source": [
        "from sklearn.ensemble import GradientBoostingClassifier\n",
        "\n",
        "gradBoost_depth = GradientBoostingClassifier(max_depth=best_depth,random_state=0)\n",
        "gradBoost_depth.fit(X_train, y_train)\n",
        "y_pred = gradBoost_depth.predict(X_test)\n",
        "\n",
        "from sklearn.metrics import classification_report, confusion_matrix, accuracy_score\n",
        "print(confusion_matrix(y_test, y_pred))\n",
        "print(classification_report(y_test,y_pred))\n",
        "print(\"Accurecy: \",accuracy_score(y_test, y_pred))\n",
        "\n",
        "result[(gradBoost_depth,2,'GradientBoostingClassifier')]=accuracy_score(y_test, y_pred)"
      ],
      "metadata": {
        "id": "oS_ycrCQpI09",
        "colab": {
          "base_uri": "https://localhost:8080/"
        },
        "outputId": "f2be108b-61ae-4495-c0b1-0701feaba6a7"
      },
      "execution_count": 55,
      "outputs": [
        {
          "output_type": "stream",
          "name": "stdout",
          "text": [
            "[[123  11  19  10]\n",
            " [ 18 122   5   0]\n",
            " [ 16  10 119  23]\n",
            " [  8   5  11 135]]\n",
            "              precision    recall  f1-score   support\n",
            "\n",
            "           0       0.75      0.75      0.75       163\n",
            "           1       0.82      0.84      0.83       145\n",
            "           2       0.77      0.71      0.74       168\n",
            "           3       0.80      0.85      0.83       159\n",
            "\n",
            "    accuracy                           0.79       635\n",
            "   macro avg       0.79      0.79      0.79       635\n",
            "weighted avg       0.79      0.79      0.78       635\n",
            "\n",
            "Accurecy:  0.7858267716535433\n"
          ]
        }
      ]
    },
    {
      "cell_type": "code",
      "source": [
        "from sklearn.ensemble import GradientBoostingClassifier\n",
        "\n",
        "gradBoost_all = GradientBoostingClassifier(n_estimators=best_estimator,max_depth=best_depth,random_state=0)\n",
        "gradBoost_all.fit(X_train, y_train)\n",
        "y_pred = gradBoost_all.predict(X_test)\n",
        "\n",
        "from sklearn.metrics import classification_report, confusion_matrix, accuracy_score\n",
        "print(confusion_matrix(y_test, y_pred))\n",
        "print(classification_report(y_test,y_pred))\n",
        "print(\"Accurecy: \",accuracy_score(y_test, y_pred))\n",
        "\n",
        "result[(gradBoost_all,2,'GradientBoostingClassifier')]=accuracy_score(y_test, y_pred)"
      ],
      "metadata": {
        "id": "GU8wNje3pJjR",
        "colab": {
          "base_uri": "https://localhost:8080/"
        },
        "outputId": "1cf056a6-1e1f-420a-cd45-df473c94816a"
      },
      "execution_count": 56,
      "outputs": [
        {
          "output_type": "stream",
          "name": "stdout",
          "text": [
            "[[123   8  21  11]\n",
            " [ 19 121   5   0]\n",
            " [ 17   9 120  22]\n",
            " [  9   4  11 135]]\n",
            "              precision    recall  f1-score   support\n",
            "\n",
            "           0       0.73      0.75      0.74       163\n",
            "           1       0.85      0.83      0.84       145\n",
            "           2       0.76      0.71      0.74       168\n",
            "           3       0.80      0.85      0.83       159\n",
            "\n",
            "    accuracy                           0.79       635\n",
            "   macro avg       0.79      0.79      0.79       635\n",
            "weighted avg       0.79      0.79      0.79       635\n",
            "\n",
            "Accurecy:  0.7858267716535433\n"
          ]
        }
      ]
    },
    {
      "cell_type": "markdown",
      "source": [
        "\n",
        "\n",
        "---\n",
        "\n",
        "\n",
        "\n",
        "---\n",
        "\n"
      ],
      "metadata": {
        "id": "ThoTlhc4pRJT"
      }
    },
    {
      "cell_type": "markdown",
      "source": [
        "#Random Forest"
      ],
      "metadata": {
        "id": "AgMT_U8gvM7F"
      }
    },
    {
      "cell_type": "code",
      "source": [
        "from sklearn.ensemble import RandomForestClassifier\n",
        "rf_default = RandomForestClassifier(random_state=0)\n",
        "rf_default.fit(X_train, y_train)\n",
        "y_pred=rf_default.predict(X_test)\n",
        "\n",
        "\n",
        "from sklearn.metrics import classification_report, confusion_matrix, accuracy_score\n",
        "print(confusion_matrix(y_test, y_pred))\n",
        "print(classification_report(y_test,y_pred))\n",
        "print(\"Accurecy: \",accuracy_score(y_test, y_pred))\n",
        "result[(rf_default,3,'RandomForestClassifier')]=accuracy_score(y_test, y_pred)"
      ],
      "metadata": {
        "id": "-4GMunEvtWk2",
        "colab": {
          "base_uri": "https://localhost:8080/"
        },
        "outputId": "96ecb16b-4fb3-48b3-cae2-2f4a1fcecb8a"
      },
      "execution_count": 57,
      "outputs": [
        {
          "output_type": "stream",
          "name": "stdout",
          "text": [
            "[[115  14  19  15]\n",
            " [ 18 121   4   2]\n",
            " [ 10  16 121  21]\n",
            " [ 10   3  15 131]]\n",
            "              precision    recall  f1-score   support\n",
            "\n",
            "           0       0.75      0.71      0.73       163\n",
            "           1       0.79      0.83      0.81       145\n",
            "           2       0.76      0.72      0.74       168\n",
            "           3       0.78      0.82      0.80       159\n",
            "\n",
            "    accuracy                           0.77       635\n",
            "   macro avg       0.77      0.77      0.77       635\n",
            "weighted avg       0.77      0.77      0.77       635\n",
            "\n",
            "Accurecy:  0.768503937007874\n"
          ]
        }
      ]
    },
    {
      "cell_type": "code",
      "source": [
        "from sklearn.ensemble import RandomForestClassifier\n",
        "from sklearn.metrics import accuracy_score\n",
        "N=150\n",
        "k_range = range (1,N+1)\n",
        "scores={}\n",
        "scores_list = []\n",
        "for k in k_range:\n",
        "  classifier = RandomForestClassifier(n_estimators=k,random_state=0)\n",
        "  classifier.fit(X_train, y_train)\n",
        "  y_pred=classifier.predict(X_test)\n",
        "  scores[k] = accuracy_score(y_test,y_pred)\n",
        "  scores_list.append(accuracy_score(y_test,y_pred))\n",
        "  print(str(k)+\"/\"+str(N)+\" round completed......................... Accurecy: \"+str(accuracy_score(y_test,y_pred)))\n",
        "\n",
        "\n",
        "\n",
        "%matplotlib inline\n",
        "import matplotlib.pyplot as plt\n",
        "\n",
        "plt.figure(figsize = (25,10))\n",
        "plt.plot(k_range,scores_list)\n",
        "plt.xlabel('Value of n_estimators')\n",
        "plt.ylabel ('Testing Accuracy')\n",
        "\n",
        "\n",
        "\n",
        "print(\"The best n_estimators:\")\n",
        "best_estimator=list(scores.keys())[scores_list.index(max(scores_list))]\n",
        "print(best_estimator)"
      ],
      "metadata": {
        "id": "ve34YgestieE",
        "colab": {
          "base_uri": "https://localhost:8080/",
          "height": 1000
        },
        "outputId": "d6e53f31-9470-44d0-9dff-bd489907c9f1"
      },
      "execution_count": 58,
      "outputs": [
        {
          "output_type": "stream",
          "name": "stdout",
          "text": [
            "1/150 round completed......................... Accurecy: 0.5889763779527559\n",
            "2/150 round completed......................... Accurecy: 0.5921259842519685\n",
            "3/150 round completed......................... Accurecy: 0.6535433070866141\n",
            "4/150 round completed......................... Accurecy: 0.6787401574803149\n",
            "5/150 round completed......................... Accurecy: 0.7133858267716535\n",
            "6/150 round completed......................... Accurecy: 0.7086614173228346\n",
            "7/150 round completed......................... Accurecy: 0.7165354330708661\n",
            "8/150 round completed......................... Accurecy: 0.7291338582677165\n",
            "9/150 round completed......................... Accurecy: 0.7307086614173228\n",
            "10/150 round completed......................... Accurecy: 0.7338582677165354\n",
            "11/150 round completed......................... Accurecy: 0.7496062992125985\n",
            "12/150 round completed......................... Accurecy: 0.7511811023622047\n",
            "13/150 round completed......................... Accurecy: 0.7448818897637796\n",
            "14/150 round completed......................... Accurecy: 0.7448818897637796\n",
            "15/150 round completed......................... Accurecy: 0.7401574803149606\n",
            "16/150 round completed......................... Accurecy: 0.7385826771653543\n",
            "17/150 round completed......................... Accurecy: 0.7401574803149606\n",
            "18/150 round completed......................... Accurecy: 0.7401574803149606\n",
            "19/150 round completed......................... Accurecy: 0.7433070866141732\n",
            "20/150 round completed......................... Accurecy: 0.7433070866141732\n",
            "21/150 round completed......................... Accurecy: 0.7511811023622047\n",
            "22/150 round completed......................... Accurecy: 0.7480314960629921\n",
            "23/150 round completed......................... Accurecy: 0.7511811023622047\n",
            "24/150 round completed......................... Accurecy: 0.7464566929133858\n",
            "25/150 round completed......................... Accurecy: 0.7464566929133858\n",
            "26/150 round completed......................... Accurecy: 0.7433070866141732\n",
            "27/150 round completed......................... Accurecy: 0.7543307086614173\n",
            "28/150 round completed......................... Accurecy: 0.7464566929133858\n",
            "29/150 round completed......................... Accurecy: 0.7543307086614173\n",
            "30/150 round completed......................... Accurecy: 0.7511811023622047\n",
            "31/150 round completed......................... Accurecy: 0.7606299212598425\n",
            "32/150 round completed......................... Accurecy: 0.7669291338582677\n",
            "33/150 round completed......................... Accurecy: 0.7653543307086614\n",
            "34/150 round completed......................... Accurecy: 0.7622047244094489\n",
            "35/150 round completed......................... Accurecy: 0.7653543307086614\n",
            "36/150 round completed......................... Accurecy: 0.7653543307086614\n",
            "37/150 round completed......................... Accurecy: 0.7700787401574803\n",
            "38/150 round completed......................... Accurecy: 0.7669291338582677\n",
            "39/150 round completed......................... Accurecy: 0.768503937007874\n",
            "40/150 round completed......................... Accurecy: 0.7716535433070866\n",
            "41/150 round completed......................... Accurecy: 0.7700787401574803\n",
            "42/150 round completed......................... Accurecy: 0.7669291338582677\n",
            "43/150 round completed......................... Accurecy: 0.7732283464566929\n",
            "44/150 round completed......................... Accurecy: 0.768503937007874\n",
            "45/150 round completed......................... Accurecy: 0.7716535433070866\n",
            "46/150 round completed......................... Accurecy: 0.7669291338582677\n",
            "47/150 round completed......................... Accurecy: 0.7716535433070866\n",
            "48/150 round completed......................... Accurecy: 0.7748031496062993\n",
            "49/150 round completed......................... Accurecy: 0.7716535433070866\n",
            "50/150 round completed......................... Accurecy: 0.7763779527559055\n",
            "51/150 round completed......................... Accurecy: 0.7748031496062993\n",
            "52/150 round completed......................... Accurecy: 0.7732283464566929\n",
            "53/150 round completed......................... Accurecy: 0.7763779527559055\n",
            "54/150 round completed......................... Accurecy: 0.7732283464566929\n",
            "55/150 round completed......................... Accurecy: 0.768503937007874\n",
            "56/150 round completed......................... Accurecy: 0.768503937007874\n",
            "57/150 round completed......................... Accurecy: 0.768503937007874\n",
            "58/150 round completed......................... Accurecy: 0.7700787401574803\n",
            "59/150 round completed......................... Accurecy: 0.768503937007874\n",
            "60/150 round completed......................... Accurecy: 0.7732283464566929\n",
            "61/150 round completed......................... Accurecy: 0.7779527559055118\n",
            "62/150 round completed......................... Accurecy: 0.7748031496062993\n",
            "63/150 round completed......................... Accurecy: 0.7748031496062993\n",
            "64/150 round completed......................... Accurecy: 0.7763779527559055\n",
            "65/150 round completed......................... Accurecy: 0.7763779527559055\n",
            "66/150 round completed......................... Accurecy: 0.7748031496062993\n",
            "67/150 round completed......................... Accurecy: 0.7763779527559055\n",
            "68/150 round completed......................... Accurecy: 0.7763779527559055\n",
            "69/150 round completed......................... Accurecy: 0.7779527559055118\n",
            "70/150 round completed......................... Accurecy: 0.7732283464566929\n",
            "71/150 round completed......................... Accurecy: 0.7732283464566929\n",
            "72/150 round completed......................... Accurecy: 0.7732283464566929\n",
            "73/150 round completed......................... Accurecy: 0.7716535433070866\n",
            "74/150 round completed......................... Accurecy: 0.7748031496062993\n",
            "75/150 round completed......................... Accurecy: 0.7700787401574803\n",
            "76/150 round completed......................... Accurecy: 0.7700787401574803\n",
            "77/150 round completed......................... Accurecy: 0.7700787401574803\n",
            "78/150 round completed......................... Accurecy: 0.7716535433070866\n",
            "79/150 round completed......................... Accurecy: 0.7716535433070866\n",
            "80/150 round completed......................... Accurecy: 0.7716535433070866\n",
            "81/150 round completed......................... Accurecy: 0.7700787401574803\n",
            "82/150 round completed......................... Accurecy: 0.7669291338582677\n",
            "83/150 round completed......................... Accurecy: 0.7653543307086614\n",
            "84/150 round completed......................... Accurecy: 0.768503937007874\n",
            "85/150 round completed......................... Accurecy: 0.7669291338582677\n",
            "86/150 round completed......................... Accurecy: 0.7716535433070866\n",
            "87/150 round completed......................... Accurecy: 0.7716535433070866\n",
            "88/150 round completed......................... Accurecy: 0.7700787401574803\n",
            "89/150 round completed......................... Accurecy: 0.7716535433070866\n",
            "90/150 round completed......................... Accurecy: 0.768503937007874\n",
            "91/150 round completed......................... Accurecy: 0.7700787401574803\n",
            "92/150 round completed......................... Accurecy: 0.7716535433070866\n",
            "93/150 round completed......................... Accurecy: 0.7700787401574803\n",
            "94/150 round completed......................... Accurecy: 0.7700787401574803\n",
            "95/150 round completed......................... Accurecy: 0.7700787401574803\n",
            "96/150 round completed......................... Accurecy: 0.7700787401574803\n",
            "97/150 round completed......................... Accurecy: 0.7700787401574803\n",
            "98/150 round completed......................... Accurecy: 0.768503937007874\n",
            "99/150 round completed......................... Accurecy: 0.7669291338582677\n",
            "100/150 round completed......................... Accurecy: 0.768503937007874\n",
            "101/150 round completed......................... Accurecy: 0.768503937007874\n",
            "102/150 round completed......................... Accurecy: 0.768503937007874\n",
            "103/150 round completed......................... Accurecy: 0.7716535433070866\n",
            "104/150 round completed......................... Accurecy: 0.7716535433070866\n",
            "105/150 round completed......................... Accurecy: 0.7700787401574803\n",
            "106/150 round completed......................... Accurecy: 0.7669291338582677\n",
            "107/150 round completed......................... Accurecy: 0.7700787401574803\n",
            "108/150 round completed......................... Accurecy: 0.7716535433070866\n",
            "109/150 round completed......................... Accurecy: 0.7700787401574803\n",
            "110/150 round completed......................... Accurecy: 0.7669291338582677\n",
            "111/150 round completed......................... Accurecy: 0.7653543307086614\n",
            "112/150 round completed......................... Accurecy: 0.7653543307086614\n",
            "113/150 round completed......................... Accurecy: 0.7637795275590551\n",
            "114/150 round completed......................... Accurecy: 0.7669291338582677\n",
            "115/150 round completed......................... Accurecy: 0.7606299212598425\n",
            "116/150 round completed......................... Accurecy: 0.7622047244094489\n",
            "117/150 round completed......................... Accurecy: 0.7653543307086614\n",
            "118/150 round completed......................... Accurecy: 0.7637795275590551\n",
            "119/150 round completed......................... Accurecy: 0.7653543307086614\n",
            "120/150 round completed......................... Accurecy: 0.7637795275590551\n",
            "121/150 round completed......................... Accurecy: 0.7653543307086614\n",
            "122/150 round completed......................... Accurecy: 0.7622047244094489\n",
            "123/150 round completed......................... Accurecy: 0.7622047244094489\n",
            "124/150 round completed......................... Accurecy: 0.7606299212598425\n",
            "125/150 round completed......................... Accurecy: 0.7653543307086614\n",
            "126/150 round completed......................... Accurecy: 0.7590551181102362\n",
            "127/150 round completed......................... Accurecy: 0.7606299212598425\n",
            "128/150 round completed......................... Accurecy: 0.7590551181102362\n",
            "129/150 round completed......................... Accurecy: 0.75748031496063\n",
            "130/150 round completed......................... Accurecy: 0.7590551181102362\n",
            "131/150 round completed......................... Accurecy: 0.7606299212598425\n",
            "132/150 round completed......................... Accurecy: 0.7622047244094489\n",
            "133/150 round completed......................... Accurecy: 0.7637795275590551\n",
            "134/150 round completed......................... Accurecy: 0.7606299212598425\n",
            "135/150 round completed......................... Accurecy: 0.7606299212598425\n",
            "136/150 round completed......................... Accurecy: 0.7606299212598425\n",
            "137/150 round completed......................... Accurecy: 0.7606299212598425\n",
            "138/150 round completed......................... Accurecy: 0.7637795275590551\n",
            "139/150 round completed......................... Accurecy: 0.7606299212598425\n",
            "140/150 round completed......................... Accurecy: 0.75748031496063\n",
            "141/150 round completed......................... Accurecy: 0.7590551181102362\n",
            "142/150 round completed......................... Accurecy: 0.7590551181102362\n",
            "143/150 round completed......................... Accurecy: 0.75748031496063\n",
            "144/150 round completed......................... Accurecy: 0.7590551181102362\n",
            "145/150 round completed......................... Accurecy: 0.7637795275590551\n",
            "146/150 round completed......................... Accurecy: 0.7606299212598425\n",
            "147/150 round completed......................... Accurecy: 0.7637795275590551\n",
            "148/150 round completed......................... Accurecy: 0.7637795275590551\n",
            "149/150 round completed......................... Accurecy: 0.7590551181102362\n",
            "150/150 round completed......................... Accurecy: 0.7622047244094489\n",
            "The best n_estimators:\n",
            "61\n"
          ]
        },
        {
          "output_type": "display_data",
          "data": {
            "text/plain": [
              "<Figure size 1800x720 with 1 Axes>"
            ],
            "image/png": "[encoded data removed]"
          },
          "metadata": {
            "needs_background": "light"
          }
        }
      ]
    },
    {
      "cell_type": "code",
      "source": [
        "from sklearn.ensemble import RandomForestClassifier\n",
        "from sklearn.metrics import accuracy_score\n",
        "N=30\n",
        "k_range = range (1,N+1)\n",
        "scores={}\n",
        "scores_list = []\n",
        "for k in k_range:\n",
        "  classifier = RandomForestClassifier(max_depth=k,random_state=0)\n",
        "  classifier.fit(X_train, y_train)\n",
        "  y_pred=classifier.predict(X_test)\n",
        "  scores[k] = accuracy_score(y_test,y_pred)\n",
        "  scores_list.append(accuracy_score(y_test,y_pred))\n",
        "  print(str(k)+\"/\"+str(N)+\" round completed......................... Accurecy: \"+str(accuracy_score(y_test,y_pred)))\n",
        "\n",
        "\n",
        "\n",
        "%matplotlib inline\n",
        "import matplotlib.pyplot as plt\n",
        "\n",
        "plt.figure(figsize = (25,10))\n",
        "plt.plot(k_range,scores_list)\n",
        "plt.xlabel('Value of n_estimators')\n",
        "plt.ylabel ('Testing Accuracy')\n",
        "\n",
        "\n",
        "\n",
        "print(\"The best Depth:\")\n",
        "best_depth=list(scores.keys())[scores_list.index(max(scores_list))]\n",
        "print(best_depth)"
      ],
      "metadata": {
        "id": "eVfKbSTWtnny",
        "colab": {
          "base_uri": "https://localhost:8080/",
          "height": 1000
        },
        "outputId": "00ce2f7a-78ac-4f35-949f-cb94b524f330"
      },
      "execution_count": 59,
      "outputs": [
        {
          "output_type": "stream",
          "name": "stdout",
          "text": [
            "1/30 round completed......................... Accurecy: 0.46771653543307085\n",
            "2/30 round completed......................... Accurecy: 0.5322834645669291\n",
            "3/30 round completed......................... Accurecy: 0.5716535433070866\n",
            "4/30 round completed......................... Accurecy: 0.5889763779527559\n",
            "5/30 round completed......................... Accurecy: 0.584251968503937\n",
            "6/30 round completed......................... Accurecy: 0.6204724409448819\n",
            "7/30 round completed......................... Accurecy: 0.6409448818897637\n",
            "8/30 round completed......................... Accurecy: 0.6724409448818898\n",
            "9/30 round completed......................... Accurecy: 0.6976377952755906\n",
            "10/30 round completed......................... Accurecy: 0.705511811023622\n",
            "11/30 round completed......................... Accurecy: 0.7259842519685039\n",
            "12/30 round completed......................... Accurecy: 0.7433070866141732\n",
            "13/30 round completed......................... Accurecy: 0.7433070866141732\n",
            "14/30 round completed......................... Accurecy: 0.7496062992125985\n",
            "15/30 round completed......................... Accurecy: 0.7622047244094489\n",
            "16/30 round completed......................... Accurecy: 0.7511811023622047\n",
            "17/30 round completed......................... Accurecy: 0.7669291338582677\n",
            "18/30 round completed......................... Accurecy: 0.75748031496063\n",
            "19/30 round completed......................... Accurecy: 0.7637795275590551\n",
            "20/30 round completed......................... Accurecy: 0.7543307086614173\n",
            "21/30 round completed......................... Accurecy: 0.7590551181102362\n",
            "22/30 round completed......................... Accurecy: 0.7669291338582677\n",
            "23/30 round completed......................... Accurecy: 0.7669291338582677\n",
            "24/30 round completed......................... Accurecy: 0.7637795275590551\n",
            "25/30 round completed......................... Accurecy: 0.7637795275590551\n",
            "26/30 round completed......................... Accurecy: 0.768503937007874\n",
            "27/30 round completed......................... Accurecy: 0.768503937007874\n",
            "28/30 round completed......................... Accurecy: 0.768503937007874\n",
            "29/30 round completed......................... Accurecy: 0.768503937007874\n",
            "30/30 round completed......................... Accurecy: 0.768503937007874\n",
            "The best Depth:\n",
            "26\n"
          ]
        },
        {
          "output_type": "display_data",
          "data": {
            "text/plain": [
              "<Figure size 1800x720 with 1 Axes>"
            ],
            "image/png": "[encoded data removed]"
          },
          "metadata": {
            "needs_background": "light"
          }
        }
      ]
    },
    {
      "cell_type": "code",
      "source": [
        "from sklearn.ensemble import RandomForestClassifier\n",
        "rf_estimator = RandomForestClassifier(n_estimators=best_estimator,random_state=0)\n",
        "rf_estimator.fit(X_train, y_train)\n",
        "y_pred=rf_estimator.predict(X_test)\n",
        "\n",
        "\n",
        "from sklearn.metrics import classification_report, confusion_matrix, accuracy_score\n",
        "print(confusion_matrix(y_test, y_pred))\n",
        "print(classification_report(y_test,y_pred))\n",
        "print(\"Accurecy: \",accuracy_score(y_test, y_pred))\n",
        "result[(rf_estimator,3,'RandomForestClassifier')]=accuracy_score(y_test, y_pred)"
      ],
      "metadata": {
        "id": "LMUwwEqUt2-T",
        "colab": {
          "base_uri": "https://localhost:8080/"
        },
        "outputId": "3e11b132-a065-4153-c683-191ed251ff3d"
      },
      "execution_count": 60,
      "outputs": [
        {
          "output_type": "stream",
          "name": "stdout",
          "text": [
            "[[119  15  15  14]\n",
            " [ 18 121   3   3]\n",
            " [ 10  14 122  22]\n",
            " [  9   3  15 132]]\n",
            "              precision    recall  f1-score   support\n",
            "\n",
            "           0       0.76      0.73      0.75       163\n",
            "           1       0.79      0.83      0.81       145\n",
            "           2       0.79      0.73      0.76       168\n",
            "           3       0.77      0.83      0.80       159\n",
            "\n",
            "    accuracy                           0.78       635\n",
            "   macro avg       0.78      0.78      0.78       635\n",
            "weighted avg       0.78      0.78      0.78       635\n",
            "\n",
            "Accurecy:  0.7779527559055118\n"
          ]
        }
      ]
    },
    {
      "cell_type": "code",
      "source": [
        "from sklearn.ensemble import RandomForestClassifier\n",
        "rf_depth = RandomForestClassifier(max_depth=best_depth,random_state=0)\n",
        "rf_depth.fit(X_train, y_train)\n",
        "y_pred=rf_depth.predict(X_test)\n",
        "\n",
        "\n",
        "from sklearn.metrics import classification_report, confusion_matrix, accuracy_score\n",
        "print(confusion_matrix(y_test, y_pred))\n",
        "print(classification_report(y_test,y_pred))\n",
        "print(\"Accurecy: \",accuracy_score(y_test, y_pred))\n",
        "result[(rf_depth,3,'RandomForestClassifier')]=accuracy_score(y_test, y_pred)"
      ],
      "metadata": {
        "id": "NRybS4-nt_vO",
        "colab": {
          "base_uri": "https://localhost:8080/"
        },
        "outputId": "41a53892-9188-4326-c403-1754cb50d1af"
      },
      "execution_count": 61,
      "outputs": [
        {
          "output_type": "stream",
          "name": "stdout",
          "text": [
            "[[115  14  19  15]\n",
            " [ 18 121   4   2]\n",
            " [ 10  16 121  21]\n",
            " [ 10   3  15 131]]\n",
            "              precision    recall  f1-score   support\n",
            "\n",
            "           0       0.75      0.71      0.73       163\n",
            "           1       0.79      0.83      0.81       145\n",
            "           2       0.76      0.72      0.74       168\n",
            "           3       0.78      0.82      0.80       159\n",
            "\n",
            "    accuracy                           0.77       635\n",
            "   macro avg       0.77      0.77      0.77       635\n",
            "weighted avg       0.77      0.77      0.77       635\n",
            "\n",
            "Accurecy:  0.768503937007874\n"
          ]
        }
      ]
    },
    {
      "cell_type": "code",
      "source": [
        "from sklearn.ensemble import RandomForestClassifier\n",
        "rf_all = RandomForestClassifier(n_estimators=best_estimator,max_depth=best_depth,random_state=0)\n",
        "rf_all.fit(X_train, y_train)\n",
        "y_pred=rf_all.predict(X_test)\n",
        "\n",
        "\n",
        "from sklearn.metrics import classification_report, confusion_matrix, accuracy_score\n",
        "print(confusion_matrix(y_test, y_pred))\n",
        "print(classification_report(y_test,y_pred))\n",
        "print(\"Accurecy: \",accuracy_score(y_test, y_pred))\n",
        "result[(rf_all,3,'RandomForestClassifier')]=accuracy_score(y_test, y_pred)"
      ],
      "metadata": {
        "id": "G9p0fJyBtrdZ",
        "colab": {
          "base_uri": "https://localhost:8080/"
        },
        "outputId": "a6938ae9-2857-4baf-fd05-afe00742d88e"
      },
      "execution_count": 62,
      "outputs": [
        {
          "output_type": "stream",
          "name": "stdout",
          "text": [
            "[[119  15  15  14]\n",
            " [ 18 121   3   3]\n",
            " [ 10  14 122  22]\n",
            " [  9   3  15 132]]\n",
            "              precision    recall  f1-score   support\n",
            "\n",
            "           0       0.76      0.73      0.75       163\n",
            "           1       0.79      0.83      0.81       145\n",
            "           2       0.79      0.73      0.76       168\n",
            "           3       0.77      0.83      0.80       159\n",
            "\n",
            "    accuracy                           0.78       635\n",
            "   macro avg       0.78      0.78      0.78       635\n",
            "weighted avg       0.78      0.78      0.78       635\n",
            "\n",
            "Accurecy:  0.7779527559055118\n"
          ]
        }
      ]
    },
    {
      "cell_type": "markdown",
      "source": [
        "\n",
        "\n",
        "---\n",
        "\n",
        "\n",
        "\n",
        "---\n",
        "\n"
      ],
      "metadata": {
        "id": "G_DChNuquB92"
      }
    },
    {
      "cell_type": "markdown",
      "source": [
        "#XGB"
      ],
      "metadata": {
        "id": "jRG4cBnKvZU2"
      }
    },
    {
      "cell_type": "code",
      "source": [
        "\n",
        "\n",
        "import xgboost as xgb\n",
        "xgb_deafult = xgb.XGBClassifier(random_state=0)\n",
        "xgb_deafult.fit(X_train,y_train)\n",
        "y_pred = xgb_deafult.predict(X_test)\n",
        "\n",
        "\n",
        "from sklearn.metrics import classification_report, confusion_matrix, accuracy_score\n",
        "print(confusion_matrix(y_test, y_pred))\n",
        "print(classification_report(y_test,y_pred))\n",
        "print(\"Accurecy: \",accuracy_score(y_test, y_pred))\n",
        "result[(xgb_deafult,4,'xgboost')]=accuracy_score(y_test, y_pred)"
      ],
      "metadata": {
        "id": "sC1lAZeeuCw8",
        "colab": {
          "base_uri": "https://localhost:8080/"
        },
        "outputId": "32b06d03-c66e-44f0-988b-a0f895e4e9f8"
      },
      "execution_count": 63,
      "outputs": [
        {
          "output_type": "stream",
          "name": "stdout",
          "text": [
            "[[118  17  16  12]\n",
            " [ 25 109   5   6]\n",
            " [ 21  29  88  30]\n",
            " [  6   7  26 120]]\n",
            "              precision    recall  f1-score   support\n",
            "\n",
            "           0       0.69      0.72      0.71       163\n",
            "           1       0.67      0.75      0.71       145\n",
            "           2       0.65      0.52      0.58       168\n",
            "           3       0.71      0.75      0.73       159\n",
            "\n",
            "    accuracy                           0.69       635\n",
            "   macro avg       0.68      0.69      0.68       635\n",
            "weighted avg       0.68      0.69      0.68       635\n",
            "\n",
            "Accurecy:  0.6850393700787402\n"
          ]
        }
      ]
    },
    {
      "cell_type": "code",
      "source": [
        "import xgboost as xgb\n",
        "from sklearn.metrics import accuracy_score\n",
        "N=250\n",
        "k_range = range (1,N+1)\n",
        "scores={}\n",
        "scores_list = []\n",
        "for k in k_range:\n",
        "  xgb_classifier = xgb.XGBClassifier(n_estimators=k,random_state=0)\n",
        "  xgb_classifier.fit(X_train, y_train)\n",
        "  y_pred=xgb_classifier.predict(X_test)\n",
        "  scores[k] = accuracy_score(y_test,y_pred)\n",
        "  scores_list.append(accuracy_score(y_test,y_pred))\n",
        "  print(str(k)+\"/\"+str(N)+\" round completed......................... Accurecy: \"+str(accuracy_score(y_test,y_pred)))\n",
        "\n",
        "\n",
        "%matplotlib inline\n",
        "import matplotlib.pyplot as plt\n",
        "\n",
        "plt.figure(figsize = (25,10))\n",
        "plt.plot(k_range,scores_list)\n",
        "plt.xlabel('Value of n_estimators')\n",
        "plt.ylabel ('Testing Accuracy')\n",
        "\n",
        "\n",
        "\n",
        "print(\"The best n_estimators:\")\n",
        "best_estimator=list(scores.keys())[scores_list.index(max(scores_list))]\n",
        "print(best_estimator)"
      ],
      "metadata": {
        "id": "YQYsfVO0uPMA",
        "colab": {
          "base_uri": "https://localhost:8080/",
          "height": 1000
        },
        "outputId": "44c951cf-bc95-4a43-d990-6f94fe6a96a9"
      },
      "execution_count": 64,
      "outputs": [
        {
          "output_type": "stream",
          "name": "stdout",
          "text": [
            "1/250 round completed......................... Accurecy: 0.5669291338582677\n",
            "2/250 round completed......................... Accurecy: 0.5779527559055118\n",
            "3/250 round completed......................... Accurecy: 0.5811023622047244\n",
            "4/250 round completed......................... Accurecy: 0.584251968503937\n",
            "5/250 round completed......................... Accurecy: 0.5874015748031496\n",
            "6/250 round completed......................... Accurecy: 0.5889763779527559\n",
            "7/250 round completed......................... Accurecy: 0.5889763779527559\n",
            "8/250 round completed......................... Accurecy: 0.5874015748031496\n",
            "9/250 round completed......................... Accurecy: 0.5858267716535434\n",
            "10/250 round completed......................... Accurecy: 0.5905511811023622\n",
            "11/250 round completed......................... Accurecy: 0.5921259842519685\n",
            "12/250 round completed......................... Accurecy: 0.5921259842519685\n",
            "13/250 round completed......................... Accurecy: 0.5905511811023622\n",
            "14/250 round completed......................... Accurecy: 0.5889763779527559\n",
            "15/250 round completed......................... Accurecy: 0.6015748031496063\n",
            "16/250 round completed......................... Accurecy: 0.5968503937007874\n",
            "17/250 round completed......................... Accurecy: 0.5984251968503937\n",
            "18/250 round completed......................... Accurecy: 0.6\n",
            "19/250 round completed......................... Accurecy: 0.5984251968503937\n",
            "20/250 round completed......................... Accurecy: 0.6\n",
            "21/250 round completed......................... Accurecy: 0.5984251968503937\n",
            "22/250 round completed......................... Accurecy: 0.6\n",
            "23/250 round completed......................... Accurecy: 0.6\n",
            "24/250 round completed......................... Accurecy: 0.6031496062992125\n",
            "25/250 round completed......................... Accurecy: 0.6031496062992125\n",
            "26/250 round completed......................... Accurecy: 0.6047244094488189\n",
            "27/250 round completed......................... Accurecy: 0.6047244094488189\n",
            "28/250 round completed......................... Accurecy: 0.6094488188976378\n",
            "29/250 round completed......................... Accurecy: 0.6094488188976378\n",
            "30/250 round completed......................... Accurecy: 0.6094488188976378\n",
            "31/250 round completed......................... Accurecy: 0.6062992125984252\n",
            "32/250 round completed......................... Accurecy: 0.6078740157480315\n",
            "33/250 round completed......................... Accurecy: 0.6078740157480315\n",
            "34/250 round completed......................... Accurecy: 0.6078740157480315\n",
            "35/250 round completed......................... Accurecy: 0.6094488188976378\n",
            "36/250 round completed......................... Accurecy: 0.6094488188976378\n",
            "37/250 round completed......................... Accurecy: 0.6094488188976378\n",
            "38/250 round completed......................... Accurecy: 0.6141732283464567\n",
            "39/250 round completed......................... Accurecy: 0.6173228346456693\n",
            "40/250 round completed......................... Accurecy: 0.6188976377952756\n",
            "41/250 round completed......................... Accurecy: 0.6204724409448819\n",
            "42/250 round completed......................... Accurecy: 0.6267716535433071\n",
            "43/250 round completed......................... Accurecy: 0.6267716535433071\n",
            "44/250 round completed......................... Accurecy: 0.6267716535433071\n",
            "45/250 round completed......................... Accurecy: 0.6283464566929133\n",
            "46/250 round completed......................... Accurecy: 0.6299212598425197\n",
            "47/250 round completed......................... Accurecy: 0.631496062992126\n",
            "48/250 round completed......................... Accurecy: 0.6330708661417322\n",
            "49/250 round completed......................... Accurecy: 0.6377952755905512\n",
            "50/250 round completed......................... Accurecy: 0.6393700787401575\n",
            "51/250 round completed......................... Accurecy: 0.6362204724409449\n",
            "52/250 round completed......................... Accurecy: 0.6409448818897637\n",
            "53/250 round completed......................... Accurecy: 0.6377952755905512\n",
            "54/250 round completed......................... Accurecy: 0.6377952755905512\n",
            "55/250 round completed......................... Accurecy: 0.6377952755905512\n",
            "56/250 round completed......................... Accurecy: 0.6409448818897637\n",
            "57/250 round completed......................... Accurecy: 0.6409448818897637\n",
            "58/250 round completed......................... Accurecy: 0.6393700787401575\n",
            "59/250 round completed......................... Accurecy: 0.6393700787401575\n",
            "60/250 round completed......................... Accurecy: 0.6362204724409449\n",
            "61/250 round completed......................... Accurecy: 0.6377952755905512\n",
            "62/250 round completed......................... Accurecy: 0.6377952755905512\n",
            "63/250 round completed......................... Accurecy: 0.6409448818897637\n",
            "64/250 round completed......................... Accurecy: 0.6425196850393701\n",
            "65/250 round completed......................... Accurecy: 0.6425196850393701\n",
            "66/250 round completed......................... Accurecy: 0.647244094488189\n",
            "67/250 round completed......................... Accurecy: 0.647244094488189\n",
            "68/250 round completed......................... Accurecy: 0.6503937007874016\n",
            "69/250 round completed......................... Accurecy: 0.6519685039370079\n",
            "70/250 round completed......................... Accurecy: 0.6503937007874016\n",
            "71/250 round completed......................... Accurecy: 0.6519685039370079\n",
            "72/250 round completed......................... Accurecy: 0.6535433070866141\n",
            "73/250 round completed......................... Accurecy: 0.6535433070866141\n",
            "74/250 round completed......................... Accurecy: 0.6551181102362205\n",
            "75/250 round completed......................... Accurecy: 0.6566929133858268\n",
            "76/250 round completed......................... Accurecy: 0.6551181102362205\n",
            "77/250 round completed......................... Accurecy: 0.6566929133858268\n",
            "78/250 round completed......................... Accurecy: 0.6598425196850394\n",
            "79/250 round completed......................... Accurecy: 0.6598425196850394\n",
            "80/250 round completed......................... Accurecy: 0.6645669291338583\n",
            "81/250 round completed......................... Accurecy: 0.6645669291338583\n",
            "82/250 round completed......................... Accurecy: 0.6645669291338583\n",
            "83/250 round completed......................... Accurecy: 0.6661417322834645\n",
            "84/250 round completed......................... Accurecy: 0.6661417322834645\n",
            "85/250 round completed......................... Accurecy: 0.6645669291338583\n",
            "86/250 round completed......................... Accurecy: 0.6708661417322834\n",
            "87/250 round completed......................... Accurecy: 0.6708661417322834\n",
            "88/250 round completed......................... Accurecy: 0.6708661417322834\n",
            "89/250 round completed......................... Accurecy: 0.6724409448818898\n",
            "90/250 round completed......................... Accurecy: 0.6771653543307087\n",
            "91/250 round completed......................... Accurecy: 0.6771653543307087\n",
            "92/250 round completed......................... Accurecy: 0.6771653543307087\n",
            "93/250 round completed......................... Accurecy: 0.6771653543307087\n",
            "94/250 round completed......................... Accurecy: 0.6771653543307087\n",
            "95/250 round completed......................... Accurecy: 0.6771653543307087\n",
            "96/250 round completed......................... Accurecy: 0.6787401574803149\n",
            "97/250 round completed......................... Accurecy: 0.6818897637795276\n",
            "98/250 round completed......................... Accurecy: 0.6803149606299213\n",
            "99/250 round completed......................... Accurecy: 0.6818897637795276\n",
            "100/250 round completed......................... Accurecy: 0.6850393700787402\n",
            "101/250 round completed......................... Accurecy: 0.6866141732283465\n",
            "102/250 round completed......................... Accurecy: 0.6866141732283465\n",
            "103/250 round completed......................... Accurecy: 0.6881889763779527\n",
            "104/250 round completed......................... Accurecy: 0.6897637795275591\n",
            "105/250 round completed......................... Accurecy: 0.6881889763779527\n",
            "106/250 round completed......................... Accurecy: 0.6897637795275591\n",
            "107/250 round completed......................... Accurecy: 0.6881889763779527\n",
            "108/250 round completed......................... Accurecy: 0.6881889763779527\n",
            "109/250 round completed......................... Accurecy: 0.6866141732283465\n",
            "110/250 round completed......................... Accurecy: 0.6913385826771653\n",
            "111/250 round completed......................... Accurecy: 0.6929133858267716\n",
            "112/250 round completed......................... Accurecy: 0.6929133858267716\n",
            "113/250 round completed......................... Accurecy: 0.6913385826771653\n",
            "114/250 round completed......................... Accurecy: 0.694488188976378\n",
            "115/250 round completed......................... Accurecy: 0.6913385826771653\n",
            "116/250 round completed......................... Accurecy: 0.6913385826771653\n",
            "117/250 round completed......................... Accurecy: 0.694488188976378\n",
            "118/250 round completed......................... Accurecy: 0.6960629921259842\n",
            "119/250 round completed......................... Accurecy: 0.694488188976378\n",
            "120/250 round completed......................... Accurecy: 0.694488188976378\n",
            "121/250 round completed......................... Accurecy: 0.6976377952755906\n",
            "122/250 round completed......................... Accurecy: 0.694488188976378\n",
            "123/250 round completed......................... Accurecy: 0.6976377952755906\n",
            "124/250 round completed......................... Accurecy: 0.694488188976378\n",
            "125/250 round completed......................... Accurecy: 0.6960629921259842\n",
            "126/250 round completed......................... Accurecy: 0.6992125984251969\n",
            "127/250 round completed......................... Accurecy: 0.694488188976378\n",
            "128/250 round completed......................... Accurecy: 0.6960629921259842\n",
            "129/250 round completed......................... Accurecy: 0.6976377952755906\n",
            "130/250 round completed......................... Accurecy: 0.6992125984251969\n",
            "131/250 round completed......................... Accurecy: 0.6960629921259842\n",
            "132/250 round completed......................... Accurecy: 0.7007874015748031\n",
            "133/250 round completed......................... Accurecy: 0.6992125984251969\n",
            "134/250 round completed......................... Accurecy: 0.6992125984251969\n",
            "135/250 round completed......................... Accurecy: 0.6992125984251969\n",
            "136/250 round completed......................... Accurecy: 0.7023622047244095\n",
            "137/250 round completed......................... Accurecy: 0.7039370078740157\n",
            "138/250 round completed......................... Accurecy: 0.705511811023622\n",
            "139/250 round completed......................... Accurecy: 0.7039370078740157\n",
            "140/250 round completed......................... Accurecy: 0.7023622047244095\n",
            "141/250 round completed......................... Accurecy: 0.7039370078740157\n",
            "142/250 round completed......................... Accurecy: 0.7039370078740157\n",
            "143/250 round completed......................... Accurecy: 0.705511811023622\n",
            "144/250 round completed......................... Accurecy: 0.7023622047244095\n",
            "145/250 round completed......................... Accurecy: 0.7023622047244095\n",
            "146/250 round completed......................... Accurecy: 0.705511811023622\n",
            "147/250 round completed......................... Accurecy: 0.7039370078740157\n",
            "148/250 round completed......................... Accurecy: 0.7039370078740157\n",
            "149/250 round completed......................... Accurecy: 0.7039370078740157\n",
            "150/250 round completed......................... Accurecy: 0.7023622047244095\n",
            "151/250 round completed......................... Accurecy: 0.705511811023622\n",
            "152/250 round completed......................... Accurecy: 0.7039370078740157\n",
            "153/250 round completed......................... Accurecy: 0.705511811023622\n",
            "154/250 round completed......................... Accurecy: 0.705511811023622\n",
            "155/250 round completed......................... Accurecy: 0.7070866141732284\n",
            "156/250 round completed......................... Accurecy: 0.7086614173228346\n",
            "157/250 round completed......................... Accurecy: 0.7039370078740157\n",
            "158/250 round completed......................... Accurecy: 0.7070866141732284\n",
            "159/250 round completed......................... Accurecy: 0.7070866141732284\n",
            "160/250 round completed......................... Accurecy: 0.710236220472441\n",
            "161/250 round completed......................... Accurecy: 0.7118110236220473\n",
            "162/250 round completed......................... Accurecy: 0.710236220472441\n",
            "163/250 round completed......................... Accurecy: 0.7118110236220473\n",
            "164/250 round completed......................... Accurecy: 0.7133858267716535\n",
            "165/250 round completed......................... Accurecy: 0.7133858267716535\n",
            "166/250 round completed......................... Accurecy: 0.7149606299212599\n",
            "167/250 round completed......................... Accurecy: 0.7181102362204724\n",
            "168/250 round completed......................... Accurecy: 0.7181102362204724\n",
            "169/250 round completed......................... Accurecy: 0.7165354330708661\n",
            "170/250 round completed......................... Accurecy: 0.7165354330708661\n",
            "171/250 round completed......................... Accurecy: 0.7149606299212599\n",
            "172/250 round completed......................... Accurecy: 0.7165354330708661\n",
            "173/250 round completed......................... Accurecy: 0.7181102362204724\n",
            "174/250 round completed......................... Accurecy: 0.721259842519685\n",
            "175/250 round completed......................... Accurecy: 0.7196850393700788\n",
            "176/250 round completed......................... Accurecy: 0.7181102362204724\n",
            "177/250 round completed......................... Accurecy: 0.7181102362204724\n",
            "178/250 round completed......................... Accurecy: 0.7181102362204724\n",
            "179/250 round completed......................... Accurecy: 0.7196850393700788\n",
            "180/250 round completed......................... Accurecy: 0.7181102362204724\n",
            "181/250 round completed......................... Accurecy: 0.7181102362204724\n",
            "182/250 round completed......................... Accurecy: 0.7181102362204724\n",
            "183/250 round completed......................... Accurecy: 0.721259842519685\n",
            "184/250 round completed......................... Accurecy: 0.721259842519685\n",
            "185/250 round completed......................... Accurecy: 0.7196850393700788\n",
            "186/250 round completed......................... Accurecy: 0.7196850393700788\n",
            "187/250 round completed......................... Accurecy: 0.7196850393700788\n",
            "188/250 round completed......................... Accurecy: 0.7196850393700788\n",
            "189/250 round completed......................... Accurecy: 0.7196850393700788\n",
            "190/250 round completed......................... Accurecy: 0.7181102362204724\n",
            "191/250 round completed......................... Accurecy: 0.7181102362204724\n",
            "192/250 round completed......................... Accurecy: 0.7181102362204724\n",
            "193/250 round completed......................... Accurecy: 0.7196850393700788\n",
            "194/250 round completed......................... Accurecy: 0.7196850393700788\n",
            "195/250 round completed......................... Accurecy: 0.7181102362204724\n",
            "196/250 round completed......................... Accurecy: 0.7165354330708661\n",
            "197/250 round completed......................... Accurecy: 0.7165354330708661\n",
            "198/250 round completed......................... Accurecy: 0.7149606299212599\n",
            "199/250 round completed......................... Accurecy: 0.7165354330708661\n",
            "200/250 round completed......................... Accurecy: 0.7165354330708661\n",
            "201/250 round completed......................... Accurecy: 0.7165354330708661\n",
            "202/250 round completed......................... Accurecy: 0.7149606299212599\n",
            "203/250 round completed......................... Accurecy: 0.7181102362204724\n",
            "204/250 round completed......................... Accurecy: 0.7181102362204724\n",
            "205/250 round completed......................... Accurecy: 0.7196850393700788\n",
            "206/250 round completed......................... Accurecy: 0.7196850393700788\n",
            "207/250 round completed......................... Accurecy: 0.7165354330708661\n",
            "208/250 round completed......................... Accurecy: 0.7196850393700788\n",
            "209/250 round completed......................... Accurecy: 0.7228346456692913\n",
            "210/250 round completed......................... Accurecy: 0.721259842519685\n",
            "211/250 round completed......................... Accurecy: 0.7259842519685039\n",
            "212/250 round completed......................... Accurecy: 0.7244094488188977\n",
            "213/250 round completed......................... Accurecy: 0.7244094488188977\n",
            "214/250 round completed......................... Accurecy: 0.7259842519685039\n",
            "215/250 round completed......................... Accurecy: 0.7275590551181103\n",
            "216/250 round completed......................... Accurecy: 0.7275590551181103\n",
            "217/250 round completed......................... Accurecy: 0.7275590551181103\n",
            "218/250 round completed......................... Accurecy: 0.7275590551181103\n",
            "219/250 round completed......................... Accurecy: 0.7291338582677165\n",
            "220/250 round completed......................... Accurecy: 0.7244094488188977\n",
            "221/250 round completed......................... Accurecy: 0.7291338582677165\n",
            "222/250 round completed......................... Accurecy: 0.7291338582677165\n",
            "223/250 round completed......................... Accurecy: 0.7322834645669292\n",
            "224/250 round completed......................... Accurecy: 0.7322834645669292\n",
            "225/250 round completed......................... Accurecy: 0.7291338582677165\n",
            "226/250 round completed......................... Accurecy: 0.7291338582677165\n",
            "227/250 round completed......................... Accurecy: 0.7291338582677165\n",
            "228/250 round completed......................... Accurecy: 0.7275590551181103\n",
            "229/250 round completed......................... Accurecy: 0.7275590551181103\n",
            "230/250 round completed......................... Accurecy: 0.7291338582677165\n",
            "231/250 round completed......................... Accurecy: 0.7307086614173228\n",
            "232/250 round completed......................... Accurecy: 0.7322834645669292\n",
            "233/250 round completed......................... Accurecy: 0.7322834645669292\n",
            "234/250 round completed......................... Accurecy: 0.7322834645669292\n",
            "235/250 round completed......................... Accurecy: 0.7322834645669292\n",
            "236/250 round completed......................... Accurecy: 0.7322834645669292\n",
            "237/250 round completed......................... Accurecy: 0.7307086614173228\n",
            "238/250 round completed......................... Accurecy: 0.7307086614173228\n",
            "239/250 round completed......................... Accurecy: 0.7322834645669292\n",
            "240/250 round completed......................... Accurecy: 0.7322834645669292\n",
            "241/250 round completed......................... Accurecy: 0.7322834645669292\n",
            "242/250 round completed......................... Accurecy: 0.7322834645669292\n",
            "243/250 round completed......................... Accurecy: 0.7322834645669292\n",
            "244/250 round completed......................... Accurecy: 0.7322834645669292\n",
            "245/250 round completed......................... Accurecy: 0.7322834645669292\n",
            "246/250 round completed......................... Accurecy: 0.7322834645669292\n",
            "247/250 round completed......................... Accurecy: 0.7322834645669292\n",
            "248/250 round completed......................... Accurecy: 0.7307086614173228\n",
            "249/250 round completed......................... Accurecy: 0.7307086614173228\n",
            "250/250 round completed......................... Accurecy: 0.7322834645669292\n",
            "The best n_estimators:\n",
            "223\n"
          ]
        },
        {
          "output_type": "display_data",
          "data": {
            "text/plain": [
              "<Figure size 1800x720 with 1 Axes>"
            ],
            "image/png": "[encoded data removed]"
          },
          "metadata": {
            "needs_background": "light"
          }
        }
      ]
    },
    {
      "cell_type": "code",
      "source": [
        "import xgboost as xgb\n",
        "from sklearn.metrics import accuracy_score\n",
        "N=30\n",
        "k_range = range (1,N+1)\n",
        "scores={}\n",
        "scores_list = []\n",
        "for k in k_range:\n",
        "  xgb_classifier = xgb.XGBClassifier(max_depth=k,random_state=0)\n",
        "  xgb_classifier.fit(X_train, y_train)\n",
        "  y_pred=xgb_classifier.predict(X_test)\n",
        "  scores[k] = accuracy_score(y_test,y_pred)\n",
        "  scores_list.append(accuracy_score(y_test,y_pred))\n",
        "  print(str(k)+\"/\"+str(N)+\" round completed......................... Accurecy: \"+str(accuracy_score(y_test,y_pred)))\n",
        "\n",
        "\n",
        "%matplotlib inline\n",
        "import matplotlib.pyplot as plt\n",
        "\n",
        "plt.figure(figsize = (25,10))\n",
        "plt.plot(k_range,scores_list)\n",
        "plt.xlabel('Value of n_estimators')\n",
        "plt.ylabel ('Testing Accuracy')\n",
        "\n",
        "\n",
        "\n",
        "print(\"The best depth:\")\n",
        "best_depth=list(scores.keys())[scores_list.index(max(scores_list))]\n",
        "print(best_depth)"
      ],
      "metadata": {
        "id": "ABex6e-3kxuX",
        "colab": {
          "base_uri": "https://localhost:8080/",
          "height": 1000
        },
        "outputId": "a4d7a731-0f4c-496f-f01d-de53731d8878"
      },
      "execution_count": 65,
      "outputs": [
        {
          "output_type": "stream",
          "name": "stdout",
          "text": [
            "1/250 round completed......................... Accurecy: 0.5811023622047244\n",
            "2/250 round completed......................... Accurecy: 0.6220472440944882\n",
            "3/250 round completed......................... Accurecy: 0.6850393700787402\n",
            "4/250 round completed......................... Accurecy: 0.7196850393700788\n",
            "5/250 round completed......................... Accurecy: 0.7511811023622047\n",
            "6/250 round completed......................... Accurecy: 0.7748031496062993\n",
            "7/250 round completed......................... Accurecy: 0.7716535433070866\n",
            "8/250 round completed......................... Accurecy: 0.7905511811023622\n",
            "9/250 round completed......................... Accurecy: 0.7795275590551181\n",
            "10/250 round completed......................... Accurecy: 0.7748031496062993\n",
            "11/250 round completed......................... Accurecy: 0.7732283464566929\n",
            "12/250 round completed......................... Accurecy: 0.784251968503937\n",
            "13/250 round completed......................... Accurecy: 0.7700787401574803\n",
            "14/250 round completed......................... Accurecy: 0.7732283464566929\n",
            "15/250 round completed......................... Accurecy: 0.7716535433070866\n",
            "16/250 round completed......................... Accurecy: 0.784251968503937\n",
            "17/250 round completed......................... Accurecy: 0.7653543307086614\n",
            "18/250 round completed......................... Accurecy: 0.7763779527559055\n",
            "19/250 round completed......................... Accurecy: 0.7732283464566929\n",
            "20/250 round completed......................... Accurecy: 0.7653543307086614\n",
            "21/250 round completed......................... Accurecy: 0.7732283464566929\n",
            "22/250 round completed......................... Accurecy: 0.768503937007874\n",
            "23/250 round completed......................... Accurecy: 0.768503937007874\n",
            "24/250 round completed......................... Accurecy: 0.768503937007874\n",
            "25/250 round completed......................... Accurecy: 0.7700787401574803\n",
            "26/250 round completed......................... Accurecy: 0.7700787401574803\n",
            "27/250 round completed......................... Accurecy: 0.7700787401574803\n",
            "28/250 round completed......................... Accurecy: 0.7700787401574803\n",
            "29/250 round completed......................... Accurecy: 0.7700787401574803\n",
            "30/250 round completed......................... Accurecy: 0.7700787401574803\n",
            "31/250 round completed......................... Accurecy: 0.7700787401574803\n",
            "32/250 round completed......................... Accurecy: 0.7700787401574803\n",
            "33/250 round completed......................... Accurecy: 0.7700787401574803\n",
            "34/250 round completed......................... Accurecy: 0.7700787401574803\n",
            "35/250 round completed......................... Accurecy: 0.7700787401574803\n",
            "36/250 round completed......................... Accurecy: 0.7700787401574803\n",
            "37/250 round completed......................... Accurecy: 0.7700787401574803\n",
            "38/250 round completed......................... Accurecy: 0.7700787401574803\n",
            "39/250 round completed......................... Accurecy: 0.7700787401574803\n",
            "40/250 round completed......................... Accurecy: 0.7700787401574803\n",
            "41/250 round completed......................... Accurecy: 0.7700787401574803\n",
            "42/250 round completed......................... Accurecy: 0.7700787401574803\n",
            "43/250 round completed......................... Accurecy: 0.7700787401574803\n",
            "44/250 round completed......................... Accurecy: 0.7700787401574803\n",
            "45/250 round completed......................... Accurecy: 0.7700787401574803\n",
            "46/250 round completed......................... Accurecy: 0.7700787401574803\n",
            "47/250 round completed......................... Accurecy: 0.7700787401574803\n",
            "48/250 round completed......................... Accurecy: 0.7700787401574803\n",
            "49/250 round completed......................... Accurecy: 0.7700787401574803\n",
            "50/250 round completed......................... Accurecy: 0.7700787401574803\n",
            "51/250 round completed......................... Accurecy: 0.7700787401574803\n",
            "52/250 round completed......................... Accurecy: 0.7700787401574803\n",
            "53/250 round completed......................... Accurecy: 0.7700787401574803\n",
            "54/250 round completed......................... Accurecy: 0.7700787401574803\n",
            "55/250 round completed......................... Accurecy: 0.7700787401574803\n",
            "56/250 round completed......................... Accurecy: 0.7700787401574803\n",
            "57/250 round completed......................... Accurecy: 0.7700787401574803\n",
            "58/250 round completed......................... Accurecy: 0.7700787401574803\n",
            "59/250 round completed......................... Accurecy: 0.7700787401574803\n",
            "60/250 round completed......................... Accurecy: 0.7700787401574803\n",
            "61/250 round completed......................... Accurecy: 0.7700787401574803\n",
            "62/250 round completed......................... Accurecy: 0.7700787401574803\n",
            "63/250 round completed......................... Accurecy: 0.7700787401574803\n",
            "64/250 round completed......................... Accurecy: 0.7700787401574803\n",
            "65/250 round completed......................... Accurecy: 0.7700787401574803\n",
            "66/250 round completed......................... Accurecy: 0.7700787401574803\n",
            "67/250 round completed......................... Accurecy: 0.7700787401574803\n",
            "68/250 round completed......................... Accurecy: 0.7700787401574803\n",
            "69/250 round completed......................... Accurecy: 0.7700787401574803\n",
            "70/250 round completed......................... Accurecy: 0.7700787401574803\n",
            "71/250 round completed......................... Accurecy: 0.7700787401574803\n",
            "72/250 round completed......................... Accurecy: 0.7700787401574803\n",
            "73/250 round completed......................... Accurecy: 0.7700787401574803\n",
            "74/250 round completed......................... Accurecy: 0.7700787401574803\n",
            "75/250 round completed......................... Accurecy: 0.7700787401574803\n",
            "76/250 round completed......................... Accurecy: 0.7700787401574803\n",
            "77/250 round completed......................... Accurecy: 0.7700787401574803\n",
            "78/250 round completed......................... Accurecy: 0.7700787401574803\n",
            "79/250 round completed......................... Accurecy: 0.7700787401574803\n",
            "80/250 round completed......................... Accurecy: 0.7700787401574803\n",
            "81/250 round completed......................... Accurecy: 0.7700787401574803\n",
            "82/250 round completed......................... Accurecy: 0.7700787401574803\n",
            "83/250 round completed......................... Accurecy: 0.7700787401574803\n",
            "84/250 round completed......................... Accurecy: 0.7700787401574803\n",
            "85/250 round completed......................... Accurecy: 0.7700787401574803\n",
            "86/250 round completed......................... Accurecy: 0.7700787401574803\n",
            "87/250 round completed......................... Accurecy: 0.7700787401574803\n",
            "88/250 round completed......................... Accurecy: 0.7700787401574803\n",
            "89/250 round completed......................... Accurecy: 0.7700787401574803\n",
            "90/250 round completed......................... Accurecy: 0.7700787401574803\n",
            "91/250 round completed......................... Accurecy: 0.7700787401574803\n",
            "92/250 round completed......................... Accurecy: 0.7700787401574803\n",
            "93/250 round completed......................... Accurecy: 0.7700787401574803\n",
            "94/250 round completed......................... Accurecy: 0.7700787401574803\n",
            "95/250 round completed......................... Accurecy: 0.7700787401574803\n",
            "96/250 round completed......................... Accurecy: 0.7700787401574803\n",
            "97/250 round completed......................... Accurecy: 0.7700787401574803\n",
            "98/250 round completed......................... Accurecy: 0.7700787401574803\n",
            "99/250 round completed......................... Accurecy: 0.7700787401574803\n",
            "100/250 round completed......................... Accurecy: 0.7700787401574803\n",
            "101/250 round completed......................... Accurecy: 0.7700787401574803\n",
            "102/250 round completed......................... Accurecy: 0.7700787401574803\n",
            "103/250 round completed......................... Accurecy: 0.7700787401574803\n",
            "104/250 round completed......................... Accurecy: 0.7700787401574803\n",
            "105/250 round completed......................... Accurecy: 0.7700787401574803\n",
            "106/250 round completed......................... Accurecy: 0.7700787401574803\n",
            "107/250 round completed......................... Accurecy: 0.7700787401574803\n",
            "108/250 round completed......................... Accurecy: 0.7700787401574803\n",
            "109/250 round completed......................... Accurecy: 0.7700787401574803\n",
            "110/250 round completed......................... Accurecy: 0.7700787401574803\n",
            "111/250 round completed......................... Accurecy: 0.7700787401574803\n",
            "112/250 round completed......................... Accurecy: 0.7700787401574803\n",
            "113/250 round completed......................... Accurecy: 0.7700787401574803\n",
            "114/250 round completed......................... Accurecy: 0.7700787401574803\n",
            "115/250 round completed......................... Accurecy: 0.7700787401574803\n",
            "116/250 round completed......................... Accurecy: 0.7700787401574803\n",
            "117/250 round completed......................... Accurecy: 0.7700787401574803\n",
            "118/250 round completed......................... Accurecy: 0.7700787401574803\n",
            "119/250 round completed......................... Accurecy: 0.7700787401574803\n",
            "120/250 round completed......................... Accurecy: 0.7700787401574803\n",
            "121/250 round completed......................... Accurecy: 0.7700787401574803\n",
            "122/250 round completed......................... Accurecy: 0.7700787401574803\n",
            "123/250 round completed......................... Accurecy: 0.7700787401574803\n",
            "124/250 round completed......................... Accurecy: 0.7700787401574803\n",
            "125/250 round completed......................... Accurecy: 0.7700787401574803\n",
            "126/250 round completed......................... Accurecy: 0.7700787401574803\n",
            "127/250 round completed......................... Accurecy: 0.7700787401574803\n",
            "128/250 round completed......................... Accurecy: 0.7700787401574803\n",
            "129/250 round completed......................... Accurecy: 0.7700787401574803\n",
            "130/250 round completed......................... Accurecy: 0.7700787401574803\n",
            "131/250 round completed......................... Accurecy: 0.7700787401574803\n",
            "132/250 round completed......................... Accurecy: 0.7700787401574803\n",
            "133/250 round completed......................... Accurecy: 0.7700787401574803\n",
            "134/250 round completed......................... Accurecy: 0.7700787401574803\n",
            "135/250 round completed......................... Accurecy: 0.7700787401574803\n",
            "136/250 round completed......................... Accurecy: 0.7700787401574803\n",
            "137/250 round completed......................... Accurecy: 0.7700787401574803\n",
            "138/250 round completed......................... Accurecy: 0.7700787401574803\n",
            "139/250 round completed......................... Accurecy: 0.7700787401574803\n",
            "140/250 round completed......................... Accurecy: 0.7700787401574803\n",
            "141/250 round completed......................... Accurecy: 0.7700787401574803\n",
            "142/250 round completed......................... Accurecy: 0.7700787401574803\n",
            "143/250 round completed......................... Accurecy: 0.7700787401574803\n",
            "144/250 round completed......................... Accurecy: 0.7700787401574803\n",
            "145/250 round completed......................... Accurecy: 0.7700787401574803\n",
            "146/250 round completed......................... Accurecy: 0.7700787401574803\n",
            "147/250 round completed......................... Accurecy: 0.7700787401574803\n",
            "148/250 round completed......................... Accurecy: 0.7700787401574803\n",
            "149/250 round completed......................... Accurecy: 0.7700787401574803\n",
            "150/250 round completed......................... Accurecy: 0.7700787401574803\n",
            "151/250 round completed......................... Accurecy: 0.7700787401574803\n",
            "152/250 round completed......................... Accurecy: 0.7700787401574803\n",
            "153/250 round completed......................... Accurecy: 0.7700787401574803\n",
            "154/250 round completed......................... Accurecy: 0.7700787401574803\n",
            "155/250 round completed......................... Accurecy: 0.7700787401574803\n",
            "156/250 round completed......................... Accurecy: 0.7700787401574803\n",
            "157/250 round completed......................... Accurecy: 0.7700787401574803\n",
            "158/250 round completed......................... Accurecy: 0.7700787401574803\n",
            "159/250 round completed......................... Accurecy: 0.7700787401574803\n",
            "160/250 round completed......................... Accurecy: 0.7700787401574803\n",
            "161/250 round completed......................... Accurecy: 0.7700787401574803\n",
            "162/250 round completed......................... Accurecy: 0.7700787401574803\n",
            "163/250 round completed......................... Accurecy: 0.7700787401574803\n",
            "164/250 round completed......................... Accurecy: 0.7700787401574803\n",
            "165/250 round completed......................... Accurecy: 0.7700787401574803\n",
            "166/250 round completed......................... Accurecy: 0.7700787401574803\n",
            "167/250 round completed......................... Accurecy: 0.7700787401574803\n",
            "168/250 round completed......................... Accurecy: 0.7700787401574803\n",
            "169/250 round completed......................... Accurecy: 0.7700787401574803\n",
            "170/250 round completed......................... Accurecy: 0.7700787401574803\n",
            "171/250 round completed......................... Accurecy: 0.7700787401574803\n",
            "172/250 round completed......................... Accurecy: 0.7700787401574803\n",
            "173/250 round completed......................... Accurecy: 0.7700787401574803\n",
            "174/250 round completed......................... Accurecy: 0.7700787401574803\n",
            "175/250 round completed......................... Accurecy: 0.7700787401574803\n",
            "176/250 round completed......................... Accurecy: 0.7700787401574803\n",
            "177/250 round completed......................... Accurecy: 0.7700787401574803\n",
            "178/250 round completed......................... Accurecy: 0.7700787401574803\n",
            "179/250 round completed......................... Accurecy: 0.7700787401574803\n",
            "180/250 round completed......................... Accurecy: 0.7700787401574803\n",
            "181/250 round completed......................... Accurecy: 0.7700787401574803\n",
            "182/250 round completed......................... Accurecy: 0.7700787401574803\n",
            "183/250 round completed......................... Accurecy: 0.7700787401574803\n",
            "184/250 round completed......................... Accurecy: 0.7700787401574803\n",
            "185/250 round completed......................... Accurecy: 0.7700787401574803\n",
            "186/250 round completed......................... Accurecy: 0.7700787401574803\n",
            "187/250 round completed......................... Accurecy: 0.7700787401574803\n",
            "188/250 round completed......................... Accurecy: 0.7700787401574803\n",
            "189/250 round completed......................... Accurecy: 0.7700787401574803\n",
            "190/250 round completed......................... Accurecy: 0.7700787401574803\n",
            "191/250 round completed......................... Accurecy: 0.7700787401574803\n",
            "192/250 round completed......................... Accurecy: 0.7700787401574803\n",
            "193/250 round completed......................... Accurecy: 0.7700787401574803\n",
            "194/250 round completed......................... Accurecy: 0.7700787401574803\n",
            "195/250 round completed......................... Accurecy: 0.7700787401574803\n",
            "196/250 round completed......................... Accurecy: 0.7700787401574803\n",
            "197/250 round completed......................... Accurecy: 0.7700787401574803\n",
            "198/250 round completed......................... Accurecy: 0.7700787401574803\n",
            "199/250 round completed......................... Accurecy: 0.7700787401574803\n",
            "200/250 round completed......................... Accurecy: 0.7700787401574803\n",
            "201/250 round completed......................... Accurecy: 0.7700787401574803\n",
            "202/250 round completed......................... Accurecy: 0.7700787401574803\n",
            "203/250 round completed......................... Accurecy: 0.7700787401574803\n",
            "204/250 round completed......................... Accurecy: 0.7700787401574803\n",
            "205/250 round completed......................... Accurecy: 0.7700787401574803\n",
            "206/250 round completed......................... Accurecy: 0.7700787401574803\n",
            "207/250 round completed......................... Accurecy: 0.7700787401574803\n",
            "208/250 round completed......................... Accurecy: 0.7700787401574803\n",
            "209/250 round completed......................... Accurecy: 0.7700787401574803\n",
            "210/250 round completed......................... Accurecy: 0.7700787401574803\n",
            "211/250 round completed......................... Accurecy: 0.7700787401574803\n",
            "212/250 round completed......................... Accurecy: 0.7700787401574803\n",
            "213/250 round completed......................... Accurecy: 0.7700787401574803\n",
            "214/250 round completed......................... Accurecy: 0.7700787401574803\n",
            "215/250 round completed......................... Accurecy: 0.7700787401574803\n",
            "216/250 round completed......................... Accurecy: 0.7700787401574803\n",
            "217/250 round completed......................... Accurecy: 0.7700787401574803\n",
            "218/250 round completed......................... Accurecy: 0.7700787401574803\n",
            "219/250 round completed......................... Accurecy: 0.7700787401574803\n",
            "220/250 round completed......................... Accurecy: 0.7700787401574803\n",
            "221/250 round completed......................... Accurecy: 0.7700787401574803\n",
            "222/250 round completed......................... Accurecy: 0.7700787401574803\n",
            "223/250 round completed......................... Accurecy: 0.7700787401574803\n",
            "224/250 round completed......................... Accurecy: 0.7700787401574803\n",
            "225/250 round completed......................... Accurecy: 0.7700787401574803\n",
            "226/250 round completed......................... Accurecy: 0.7700787401574803\n",
            "227/250 round completed......................... Accurecy: 0.7700787401574803\n",
            "228/250 round completed......................... Accurecy: 0.7700787401574803\n",
            "229/250 round completed......................... Accurecy: 0.7700787401574803\n",
            "230/250 round completed......................... Accurecy: 0.7700787401574803\n",
            "231/250 round completed......................... Accurecy: 0.7700787401574803\n",
            "232/250 round completed......................... Accurecy: 0.7700787401574803\n",
            "233/250 round completed......................... Accurecy: 0.7700787401574803\n",
            "234/250 round completed......................... Accurecy: 0.7700787401574803\n",
            "235/250 round completed......................... Accurecy: 0.7700787401574803\n",
            "236/250 round completed......................... Accurecy: 0.7700787401574803\n",
            "237/250 round completed......................... Accurecy: 0.7700787401574803\n",
            "238/250 round completed......................... Accurecy: 0.7700787401574803\n",
            "239/250 round completed......................... Accurecy: 0.7700787401574803\n",
            "240/250 round completed......................... Accurecy: 0.7700787401574803\n",
            "241/250 round completed......................... Accurecy: 0.7700787401574803\n",
            "242/250 round completed......................... Accurecy: 0.7700787401574803\n",
            "243/250 round completed......................... Accurecy: 0.7700787401574803\n",
            "244/250 round completed......................... Accurecy: 0.7700787401574803\n",
            "245/250 round completed......................... Accurecy: 0.7700787401574803\n",
            "246/250 round completed......................... Accurecy: 0.7700787401574803\n",
            "247/250 round completed......................... Accurecy: 0.7700787401574803\n",
            "248/250 round completed......................... Accurecy: 0.7700787401574803\n",
            "249/250 round completed......................... Accurecy: 0.7700787401574803\n",
            "250/250 round completed......................... Accurecy: 0.7700787401574803\n",
            "The best depth:\n",
            "8\n"
          ]
        },
        {
          "output_type": "display_data",
          "data": {
            "text/plain": [
              "<Figure size 1800x720 with 1 Axes>"
            ],
            "image/png": "[encoded data removed]"
          },
          "metadata": {
            "needs_background": "light"
          }
        }
      ]
    },
    {
      "cell_type": "code",
      "source": [
        "import xgboost as xgb\n",
        "xgb_depth = xgb.XGBClassifier(max_depth=best_depth,random_state=0)\n",
        "xgb_depth.fit(X_train,y_train)\n",
        "y_pred = xgb_depth.predict(X_test)\n",
        "\n",
        "\n",
        "from sklearn.metrics import classification_report, confusion_matrix, accuracy_score\n",
        "print(confusion_matrix(y_test, y_pred))\n",
        "print(classification_report(y_test,y_pred))\n",
        "print(\"Accurecy: \",accuracy_score(y_test, y_pred))\n",
        "result[(xgb_depth,4,'xgboost')]=accuracy_score(y_test, y_pred)\n",
        "print(xgb_depth)"
      ],
      "metadata": {
        "id": "lfBp-uGXuaKY",
        "colab": {
          "base_uri": "https://localhost:8080/"
        },
        "outputId": "d9d3e58c-0356-4ece-ade5-69f8b43af745"
      },
      "execution_count": 66,
      "outputs": [
        {
          "output_type": "stream",
          "name": "stdout",
          "text": [
            "[[128  10  14  11]\n",
            " [ 14 127   4   0]\n",
            " [ 18  11 118  21]\n",
            " [  8   5  17 129]]\n",
            "              precision    recall  f1-score   support\n",
            "\n",
            "           0       0.76      0.79      0.77       163\n",
            "           1       0.83      0.88      0.85       145\n",
            "           2       0.77      0.70      0.74       168\n",
            "           3       0.80      0.81      0.81       159\n",
            "\n",
            "    accuracy                           0.79       635\n",
            "   macro avg       0.79      0.79      0.79       635\n",
            "weighted avg       0.79      0.79      0.79       635\n",
            "\n",
            "Accurecy:  0.7905511811023622\n",
            "XGBClassifier(max_depth=8, objective='multi:softprob')\n"
          ]
        }
      ]
    },
    {
      "cell_type": "code",
      "source": [
        "import xgboost as xgb\n",
        "xgb_estimator = xgb.XGBClassifier(n_estimators=best_estimator,random_state=0)\n",
        "xgb_estimator.fit(X_train,y_train)\n",
        "y_pred = xgb_estimator.predict(X_test)\n",
        "\n",
        "\n",
        "from sklearn.metrics import classification_report, confusion_matrix, accuracy_score\n",
        "print(confusion_matrix(y_test, y_pred))\n",
        "print(classification_report(y_test,y_pred))\n",
        "print(\"Accurecy: \",accuracy_score(y_test, y_pred))\n",
        "result[(xgb_estimator,4,'xgboost')]=accuracy_score(y_test, y_pred)\n",
        "print(xgb_estimator)"
      ],
      "metadata": {
        "id": "_qBm-yTqzOsi",
        "colab": {
          "base_uri": "https://localhost:8080/"
        },
        "outputId": "c887f949-fa69-4441-ef00-4b3780b64d05"
      },
      "execution_count": 67,
      "outputs": [
        {
          "output_type": "stream",
          "name": "stdout",
          "text": [
            "[[126  10  17  10]\n",
            " [ 23 116   3   3]\n",
            " [ 23  18 101  26]\n",
            " [  6   7  24 122]]\n",
            "              precision    recall  f1-score   support\n",
            "\n",
            "           0       0.71      0.77      0.74       163\n",
            "           1       0.77      0.80      0.78       145\n",
            "           2       0.70      0.60      0.65       168\n",
            "           3       0.76      0.77      0.76       159\n",
            "\n",
            "    accuracy                           0.73       635\n",
            "   macro avg       0.73      0.74      0.73       635\n",
            "weighted avg       0.73      0.73      0.73       635\n",
            "\n",
            "Accurecy:  0.7322834645669292\n",
            "XGBClassifier(n_estimators=223, objective='multi:softprob')\n"
          ]
        }
      ]
    },
    {
      "cell_type": "code",
      "source": [
        "import xgboost as xgb\n",
        "xgb_all = xgb.XGBClassifier(n_estimators=best_estimator,max_depth=best_depth,random_state=0)\n",
        "xgb_all.fit(X_train,y_train)\n",
        "y_pred = xgb_all.predict(X_test)\n",
        "\n",
        "\n",
        "from sklearn.metrics import classification_report, confusion_matrix, accuracy_score\n",
        "print(confusion_matrix(y_test, y_pred))\n",
        "print(classification_report(y_test,y_pred))\n",
        "print(\"Accurecy: \",accuracy_score(y_test, y_pred))\n",
        "result[(xgb_all,4,'xgboost')]=accuracy_score(y_test, y_pred)"
      ],
      "metadata": {
        "id": "zW-0PfT-zX3C",
        "colab": {
          "base_uri": "https://localhost:8080/"
        },
        "outputId": "9a143726-b196-4ff7-bbd4-14890ef51dee"
      },
      "execution_count": 68,
      "outputs": [
        {
          "output_type": "stream",
          "name": "stdout",
          "text": [
            "[[131   9  14   9]\n",
            " [ 14 126   5   0]\n",
            " [ 17  12 119  20]\n",
            " [  9   5  14 131]]\n",
            "              precision    recall  f1-score   support\n",
            "\n",
            "           0       0.77      0.80      0.78       163\n",
            "           1       0.83      0.87      0.85       145\n",
            "           2       0.78      0.71      0.74       168\n",
            "           3       0.82      0.82      0.82       159\n",
            "\n",
            "    accuracy                           0.80       635\n",
            "   macro avg       0.80      0.80      0.80       635\n",
            "weighted avg       0.80      0.80      0.80       635\n",
            "\n",
            "Accurecy:  0.7984251968503937\n"
          ]
        }
      ]
    },
    {
      "cell_type": "markdown",
      "source": [
        "#KNN"
      ],
      "metadata": {
        "id": "K6_icFWdauSI"
      }
    },
    {
      "cell_type": "code",
      "source": [
        "from sklearn.neighbors import KNeighborsClassifier\n",
        "knn_default = KNeighborsClassifier()\n",
        "knn_default.fit(X_train, y_train)\n",
        "y_pred=knn_default.predict(X_test)\n",
        "\n",
        "\n",
        "from sklearn.metrics import classification_report, confusion_matrix, accuracy_score\n",
        "print(confusion_matrix(y_test, y_pred))\n",
        "print(classification_report(y_test,y_pred))\n",
        "print(\"Accurecy: \",accuracy_score(y_test, y_pred))\n",
        "result[(knn_default,5,'KNeighborsClassifier')]=accuracy_score(y_test, y_pred)"
      ],
      "metadata": {
        "id": "6GALUBYbaz1z",
        "colab": {
          "base_uri": "https://localhost:8080/"
        },
        "outputId": "ea4aa45a-5d38-4516-942b-460a3a54f032"
      },
      "execution_count": 69,
      "outputs": [
        {
          "output_type": "stream",
          "name": "stdout",
          "text": [
            "[[ 91  35  22  15]\n",
            " [ 21 116   1   7]\n",
            " [ 14  23 109  22]\n",
            " [ 15   1  18 125]]\n",
            "              precision    recall  f1-score   support\n",
            "\n",
            "           0       0.65      0.56      0.60       163\n",
            "           1       0.66      0.80      0.72       145\n",
            "           2       0.73      0.65      0.69       168\n",
            "           3       0.74      0.79      0.76       159\n",
            "\n",
            "    accuracy                           0.69       635\n",
            "   macro avg       0.69      0.70      0.69       635\n",
            "weighted avg       0.69      0.69      0.69       635\n",
            "\n",
            "Accurecy:  0.694488188976378\n"
          ]
        }
      ]
    },
    {
      "cell_type": "code",
      "source": [
        "from sklearn.neighbors import KNeighborsClassifier\n",
        "from sklearn.metrics import accuracy_score\n",
        "Neighbors=105\n",
        "k_range = range (1,Neighbors+1)\n",
        "scores={}\n",
        "scores_list = []\n",
        "for k in k_range:\n",
        "  knn = KNeighborsClassifier(n_neighbors=k)\n",
        "  knn.fit(X_train, y_train)\n",
        "  y_pred=knn.predict(X_test)\n",
        "  scores[k] = accuracy_score(y_test,y_pred)\n",
        "  scores_list.append(accuracy_score(y_test,y_pred))\n",
        "  print(str(k)+\"/\"+str(Neighbors)+\" round completed......................... Accurecy: \"+str(accuracy_score(y_test,y_pred)))\n",
        "\n",
        "\n",
        "%matplotlib inline\n",
        "import matplotlib.pyplot as plt\n",
        "\n",
        "plt.figure(figsize = (25,10))\n",
        "plt.plot(k_range,scores_list)\n",
        "plt.xlabel('Value of n_estimators')\n",
        "plt.ylabel ('Testing Accuracy')\n",
        "\n",
        "\n",
        "\n",
        "print(\"The best Depth:\")\n",
        "best=list(scores.keys())[scores_list.index(max(scores_list))]\n",
        "print(best)"
      ],
      "metadata": {
        "id": "CpSsmYDHa-VF",
        "colab": {
          "base_uri": "https://localhost:8080/",
          "height": 0
        },
        "outputId": "fccc690c-864b-42c2-c5b5-87f8d8319c3f"
      },
      "execution_count": 70,
      "outputs": [
        {
          "output_type": "stream",
          "name": "stdout",
          "text": [
            "1/105 round completed......................... Accurecy: 0.7716535433070866\n",
            "2/105 round completed......................... Accurecy: 0.7149606299212599\n",
            "3/105 round completed......................... Accurecy: 0.7070866141732284\n",
            "4/105 round completed......................... Accurecy: 0.694488188976378\n",
            "5/105 round completed......................... Accurecy: 0.694488188976378\n",
            "6/105 round completed......................... Accurecy: 0.6771653543307087\n",
            "7/105 round completed......................... Accurecy: 0.658267716535433\n",
            "8/105 round completed......................... Accurecy: 0.6708661417322834\n",
            "9/105 round completed......................... Accurecy: 0.6724409448818898\n",
            "10/105 round completed......................... Accurecy: 0.6598425196850394\n",
            "11/105 round completed......................... Accurecy: 0.6551181102362205\n",
            "12/105 round completed......................... Accurecy: 0.6440944881889764\n",
            "13/105 round completed......................... Accurecy: 0.6456692913385826\n",
            "14/105 round completed......................... Accurecy: 0.6377952755905512\n",
            "15/105 round completed......................... Accurecy: 0.6267716535433071\n",
            "16/105 round completed......................... Accurecy: 0.631496062992126\n",
            "17/105 round completed......................... Accurecy: 0.631496062992126\n",
            "18/105 round completed......................... Accurecy: 0.6204724409448819\n",
            "19/105 round completed......................... Accurecy: 0.6204724409448819\n",
            "20/105 round completed......................... Accurecy: 0.6157480314960629\n",
            "21/105 round completed......................... Accurecy: 0.6157480314960629\n",
            "22/105 round completed......................... Accurecy: 0.6173228346456693\n",
            "23/105 round completed......................... Accurecy: 0.6157480314960629\n",
            "24/105 round completed......................... Accurecy: 0.6047244094488189\n",
            "25/105 round completed......................... Accurecy: 0.6047244094488189\n",
            "26/105 round completed......................... Accurecy: 0.6110236220472441\n",
            "27/105 round completed......................... Accurecy: 0.6015748031496063\n",
            "28/105 round completed......................... Accurecy: 0.6047244094488189\n",
            "29/105 round completed......................... Accurecy: 0.6047244094488189\n",
            "30/105 round completed......................... Accurecy: 0.6047244094488189\n",
            "31/105 round completed......................... Accurecy: 0.6062992125984252\n",
            "32/105 round completed......................... Accurecy: 0.6047244094488189\n",
            "33/105 round completed......................... Accurecy: 0.5968503937007874\n",
            "34/105 round completed......................... Accurecy: 0.5984251968503937\n",
            "35/105 round completed......................... Accurecy: 0.5952755905511811\n",
            "36/105 round completed......................... Accurecy: 0.5937007874015748\n",
            "37/105 round completed......................... Accurecy: 0.6\n",
            "38/105 round completed......................... Accurecy: 0.5937007874015748\n",
            "39/105 round completed......................... Accurecy: 0.6\n",
            "40/105 round completed......................... Accurecy: 0.5874015748031496\n",
            "41/105 round completed......................... Accurecy: 0.5921259842519685\n",
            "42/105 round completed......................... Accurecy: 0.5874015748031496\n",
            "43/105 round completed......................... Accurecy: 0.5921259842519685\n",
            "44/105 round completed......................... Accurecy: 0.5826771653543307\n",
            "45/105 round completed......................... Accurecy: 0.5874015748031496\n",
            "46/105 round completed......................... Accurecy: 0.5858267716535434\n",
            "47/105 round completed......................... Accurecy: 0.5858267716535434\n",
            "48/105 round completed......................... Accurecy: 0.5889763779527559\n",
            "49/105 round completed......................... Accurecy: 0.5858267716535434\n",
            "50/105 round completed......................... Accurecy: 0.584251968503937\n",
            "51/105 round completed......................... Accurecy: 0.5811023622047244\n",
            "52/105 round completed......................... Accurecy: 0.5795275590551181\n",
            "53/105 round completed......................... Accurecy: 0.5763779527559055\n",
            "54/105 round completed......................... Accurecy: 0.5779527559055118\n",
            "55/105 round completed......................... Accurecy: 0.5795275590551181\n",
            "56/105 round completed......................... Accurecy: 0.5748031496062992\n",
            "57/105 round completed......................... Accurecy: 0.5763779527559055\n",
            "58/105 round completed......................... Accurecy: 0.573228346456693\n",
            "59/105 round completed......................... Accurecy: 0.5748031496062992\n",
            "60/105 round completed......................... Accurecy: 0.5748031496062992\n",
            "61/105 round completed......................... Accurecy: 0.573228346456693\n",
            "62/105 round completed......................... Accurecy: 0.5716535433070866\n",
            "63/105 round completed......................... Accurecy: 0.5590551181102362\n",
            "64/105 round completed......................... Accurecy: 0.5511811023622047\n",
            "65/105 round completed......................... Accurecy: 0.552755905511811\n",
            "66/105 round completed......................... Accurecy: 0.5511811023622047\n",
            "67/105 round completed......................... Accurecy: 0.5606299212598426\n",
            "68/105 round completed......................... Accurecy: 0.5574803149606299\n",
            "69/105 round completed......................... Accurecy: 0.5606299212598426\n",
            "70/105 round completed......................... Accurecy: 0.5511811023622047\n",
            "71/105 round completed......................... Accurecy: 0.552755905511811\n",
            "72/105 round completed......................... Accurecy: 0.5543307086614173\n",
            "73/105 round completed......................... Accurecy: 0.552755905511811\n",
            "74/105 round completed......................... Accurecy: 0.5559055118110237\n",
            "75/105 round completed......................... Accurecy: 0.5496062992125984\n",
            "76/105 round completed......................... Accurecy: 0.5511811023622047\n",
            "77/105 round completed......................... Accurecy: 0.552755905511811\n",
            "78/105 round completed......................... Accurecy: 0.5464566929133858\n",
            "79/105 round completed......................... Accurecy: 0.5511811023622047\n",
            "80/105 round completed......................... Accurecy: 0.5559055118110237\n",
            "81/105 round completed......................... Accurecy: 0.552755905511811\n",
            "82/105 round completed......................... Accurecy: 0.5559055118110237\n",
            "83/105 round completed......................... Accurecy: 0.5496062992125984\n",
            "84/105 round completed......................... Accurecy: 0.5496062992125984\n",
            "85/105 round completed......................... Accurecy: 0.5511811023622047\n",
            "86/105 round completed......................... Accurecy: 0.5511811023622047\n",
            "87/105 round completed......................... Accurecy: 0.552755905511811\n",
            "88/105 round completed......................... Accurecy: 0.5543307086614173\n",
            "89/105 round completed......................... Accurecy: 0.5590551181102362\n",
            "90/105 round completed......................... Accurecy: 0.5559055118110237\n",
            "91/105 round completed......................... Accurecy: 0.552755905511811\n",
            "92/105 round completed......................... Accurecy: 0.5574803149606299\n",
            "93/105 round completed......................... Accurecy: 0.5574803149606299\n",
            "94/105 round completed......................... Accurecy: 0.5574803149606299\n",
            "95/105 round completed......................... Accurecy: 0.5590551181102362\n",
            "96/105 round completed......................... Accurecy: 0.552755905511811\n",
            "97/105 round completed......................... Accurecy: 0.5543307086614173\n",
            "98/105 round completed......................... Accurecy: 0.5543307086614173\n",
            "99/105 round completed......................... Accurecy: 0.5559055118110237\n",
            "100/105 round completed......................... Accurecy: 0.5543307086614173\n",
            "101/105 round completed......................... Accurecy: 0.5511811023622047\n",
            "102/105 round completed......................... Accurecy: 0.5511811023622047\n",
            "103/105 round completed......................... Accurecy: 0.5496062992125984\n",
            "104/105 round completed......................... Accurecy: 0.5511811023622047\n",
            "105/105 round completed......................... Accurecy: 0.5511811023622047\n",
            "The best Depth:\n",
            "1\n"
          ]
        },
        {
          "output_type": "display_data",
          "data": {
            "text/plain": [
              "<Figure size 1800x720 with 1 Axes>"
            ],
            "image/png": "[encoded data removed]"
          },
          "metadata": {
            "needs_background": "light"
          }
        }
      ]
    },
    {
      "cell_type": "code",
      "source": [
        "from sklearn.neighbors import KNeighborsClassifier\n",
        "knn_neighbors = KNeighborsClassifier(n_neighbors=best)\n",
        "knn_neighbors.fit(X_train, y_train)\n",
        "y_pred=knn_neighbors.predict(X_test)\n",
        "\n",
        "\n",
        "from sklearn.metrics import classification_report, confusion_matrix, accuracy_score\n",
        "print(confusion_matrix(y_test, y_pred))\n",
        "print(classification_report(y_test,y_pred))\n",
        "print(\"Accurecy: \",accuracy_score(y_test, y_pred))\n",
        "result[(knn_neighbors,5,'KNeighborsClassifier')]=accuracy_score(y_test, y_pred)"
      ],
      "metadata": {
        "id": "MIVJZYV8bCjo",
        "colab": {
          "base_uri": "https://localhost:8080/"
        },
        "outputId": "a7a0a748-32af-4879-b68f-b5e34cb5ba76"
      },
      "execution_count": 71,
      "outputs": [
        {
          "output_type": "stream",
          "name": "stdout",
          "text": [
            "[[ 85  33  29  16]\n",
            " [  9 132   2   2]\n",
            " [ 12  15 128  13]\n",
            " [  5   1   8 145]]\n",
            "              precision    recall  f1-score   support\n",
            "\n",
            "           0       0.77      0.52      0.62       163\n",
            "           1       0.73      0.91      0.81       145\n",
            "           2       0.77      0.76      0.76       168\n",
            "           3       0.82      0.91      0.87       159\n",
            "\n",
            "    accuracy                           0.77       635\n",
            "   macro avg       0.77      0.78      0.77       635\n",
            "weighted avg       0.77      0.77      0.76       635\n",
            "\n",
            "Accurecy:  0.7716535433070866\n"
          ]
        }
      ]
    },
    {
      "cell_type": "markdown",
      "source": [
        "#NB"
      ],
      "metadata": {
        "id": "_Btki9jRvc1Y"
      }
    },
    {
      "cell_type": "code",
      "source": [
        "from sklearn.naive_bayes import GaussianNB\n",
        "\n",
        "nb_deafult = GaussianNB()\n",
        "nb_deafult.fit(X_train, y_train)\n",
        "y_pred = nb_deafult.predict(X_test)\n",
        "\n",
        "\n",
        "from sklearn.metrics import classification_report, confusion_matrix, accuracy_score\n",
        "print(confusion_matrix(y_test, y_pred))\n",
        "print(classification_report(y_test,y_pred))\n",
        "print(\"Accurecy: \",accuracy_score(y_test, y_pred))\n",
        "result[(nb_deafult,6,'GaussianNB')]=accuracy_score(y_test, y_pred)"
      ],
      "metadata": {
        "id": "iRmd7ve-ubcd",
        "colab": {
          "base_uri": "https://localhost:8080/"
        },
        "outputId": "ffb1e964-cecf-444c-c1bf-245bc733819f"
      },
      "execution_count": 72,
      "outputs": [
        {
          "output_type": "stream",
          "name": "stdout",
          "text": [
            "[[ 77   0   2  84]\n",
            " [ 84   1  10  50]\n",
            " [ 43   1   9 115]\n",
            " [  9   0   4 146]]\n",
            "              precision    recall  f1-score   support\n",
            "\n",
            "           0       0.36      0.47      0.41       163\n",
            "           1       0.50      0.01      0.01       145\n",
            "           2       0.36      0.05      0.09       168\n",
            "           3       0.37      0.92      0.53       159\n",
            "\n",
            "    accuracy                           0.37       635\n",
            "   macro avg       0.40      0.36      0.26       635\n",
            "weighted avg       0.39      0.37      0.26       635\n",
            "\n",
            "Accurecy:  0.3669291338582677\n"
          ]
        }
      ]
    },
    {
      "cell_type": "markdown",
      "source": [
        "\n",
        "\n",
        "---\n",
        "\n",
        "\n",
        "\n",
        "---\n",
        "\n"
      ],
      "metadata": {
        "id": "qqsWPAB3uv72"
      }
    },
    {
      "cell_type": "markdown",
      "source": [
        "#Result"
      ],
      "metadata": {
        "id": "6FEsxCdvkg2D"
      }
    },
    {
      "cell_type": "code",
      "source": [
        "\n",
        "models=[]\n",
        "\n",
        "for i in result:\n",
        "  models.append(i[0])\n",
        "  print(i[0],i[1],\" : \",result[i])\n",
        "  print(\"---------------------------------------------------------------\")\n",
        "  print()\n"
      ],
      "metadata": {
        "id": "rx7qCLU14Aim",
        "colab": {
          "base_uri": "https://localhost:8080/"
        },
        "outputId": "3453229d-aecc-47c6-f133-cca7e1600499"
      },
      "execution_count": 73,
      "outputs": [
        {
          "output_type": "stream",
          "name": "stdout",
          "text": [
            "AdaBoostClassifier(random_state=0) 1  :  0.5196850393700787\n",
            "---------------------------------------------------------------\n",
            "\n",
            "AdaBoostClassifier(n_estimators=75, random_state=0) 1  :  0.5590551181102362\n",
            "---------------------------------------------------------------\n",
            "\n",
            "GradientBoostingClassifier(random_state=0) 2  :  0.7007874015748031\n",
            "---------------------------------------------------------------\n",
            "\n",
            "GradientBoostingClassifier(n_estimators=172, random_state=0) 2  :  0.7338582677165354\n",
            "---------------------------------------------------------------\n",
            "\n",
            "GradientBoostingClassifier(max_depth=12, random_state=0) 2  :  0.7858267716535433\n",
            "---------------------------------------------------------------\n",
            "\n",
            "GradientBoostingClassifier(max_depth=12, n_estimators=172, random_state=0) 2  :  0.7858267716535433\n",
            "---------------------------------------------------------------\n",
            "\n",
            "RandomForestClassifier(random_state=0) 3  :  0.768503937007874\n",
            "---------------------------------------------------------------\n",
            "\n",
            "RandomForestClassifier(n_estimators=61, random_state=0) 3  :  0.7779527559055118\n",
            "---------------------------------------------------------------\n",
            "\n",
            "RandomForestClassifier(max_depth=26, random_state=0) 3  :  0.768503937007874\n",
            "---------------------------------------------------------------\n",
            "\n",
            "RandomForestClassifier(max_depth=26, n_estimators=61, random_state=0) 3  :  0.7779527559055118\n",
            "---------------------------------------------------------------\n",
            "\n",
            "XGBClassifier(objective='multi:softprob') 4  :  0.6850393700787402\n",
            "---------------------------------------------------------------\n",
            "\n",
            "XGBClassifier(max_depth=8, objective='multi:softprob') 4  :  0.7905511811023622\n",
            "---------------------------------------------------------------\n",
            "\n",
            "XGBClassifier(n_estimators=223, objective='multi:softprob') 4  :  0.7322834645669292\n",
            "---------------------------------------------------------------\n",
            "\n",
            "XGBClassifier(max_depth=8, n_estimators=223, objective='multi:softprob') 4  :  0.7984251968503937\n",
            "---------------------------------------------------------------\n",
            "\n",
            "KNeighborsClassifier() 5  :  0.694488188976378\n",
            "---------------------------------------------------------------\n",
            "\n",
            "KNeighborsClassifier(n_neighbors=1) 5  :  0.7716535433070866\n",
            "---------------------------------------------------------------\n",
            "\n",
            "GaussianNB() 6  :  0.3669291338582677\n",
            "---------------------------------------------------------------\n",
            "\n"
          ]
        }
      ]
    },
    {
      "cell_type": "code",
      "source": [
        "sorted_list=[]\n",
        "sorted_list = sorted(result, key=result.get,reverse=True)\n",
        "\n",
        "for i in sorted_list:\n",
        "  print(i,\"  : \",result[i])\n",
        "  print(\"-------------------------------------------------------------------------------------------------\")\n",
        "\n",
        "print(sorted_list)\n",
        "\n",
        "\n",
        "flage=[]\n",
        "best_models=[]\n",
        "it=0\n",
        "\n",
        "for i in sorted_list:\n",
        "  if it==4:\n",
        "    break\n",
        "\n",
        "  if i[1] not in flage:\n",
        "    best_models.append((i[0],i[2]))\n",
        "    flage.append(i[1])\n",
        "    it+=1\n"
      ],
      "metadata": {
        "id": "slItYG8uLOFi",
        "colab": {
          "base_uri": "https://localhost:8080/"
        },
        "outputId": "6b61547b-d6b9-43ba-8839-38d68aaf5c09"
      },
      "execution_count": 74,
      "outputs": [
        {
          "output_type": "stream",
          "name": "stdout",
          "text": [
            "(XGBClassifier(max_depth=8, n_estimators=223, objective='multi:softprob'), 4, 'xgboost')   :  0.7984251968503937\n",
            "-------------------------------------------------------------------------------------------------\n",
            "(XGBClassifier(max_depth=8, objective='multi:softprob'), 4, 'xgboost')   :  0.7905511811023622\n",
            "-------------------------------------------------------------------------------------------------\n",
            "(GradientBoostingClassifier(max_depth=12, random_state=0), 2, 'GradientBoostingClassifier')   :  0.7858267716535433\n",
            "-------------------------------------------------------------------------------------------------\n",
            "(GradientBoostingClassifier(max_depth=12, n_estimators=172, random_state=0), 2, 'GradientBoostingClassifier')   :  0.7858267716535433\n",
            "-------------------------------------------------------------------------------------------------\n",
            "(RandomForestClassifier(n_estimators=61, random_state=0), 3, 'RandomForestClassifier')   :  0.7779527559055118\n",
            "-------------------------------------------------------------------------------------------------\n",
            "(RandomForestClassifier(max_depth=26, n_estimators=61, random_state=0), 3, 'RandomForestClassifier')   :  0.7779527559055118\n",
            "-------------------------------------------------------------------------------------------------\n",
            "(KNeighborsClassifier(n_neighbors=1), 5, 'KNeighborsClassifier')   :  0.7716535433070866\n",
            "-------------------------------------------------------------------------------------------------\n",
            "(RandomForestClassifier(random_state=0), 3, 'RandomForestClassifier')   :  0.768503937007874\n",
            "-------------------------------------------------------------------------------------------------\n",
            "(RandomForestClassifier(max_depth=26, random_state=0), 3, 'RandomForestClassifier')   :  0.768503937007874\n",
            "-------------------------------------------------------------------------------------------------\n",
            "(GradientBoostingClassifier(n_estimators=172, random_state=0), 2, 'GradientBoostingClassifier')   :  0.7338582677165354\n",
            "-------------------------------------------------------------------------------------------------\n",
            "(XGBClassifier(n_estimators=223, objective='multi:softprob'), 4, 'xgboost')   :  0.7322834645669292\n",
            "-------------------------------------------------------------------------------------------------\n",
            "(GradientBoostingClassifier(random_state=0), 2, 'GradientBoostingClassifier')   :  0.7007874015748031\n",
            "-------------------------------------------------------------------------------------------------\n",
            "(KNeighborsClassifier(), 5, 'KNeighborsClassifier')   :  0.694488188976378\n",
            "-------------------------------------------------------------------------------------------------\n",
            "(XGBClassifier(objective='multi:softprob'), 4, 'xgboost')   :  0.6850393700787402\n",
            "-------------------------------------------------------------------------------------------------\n",
            "(AdaBoostClassifier(n_estimators=75, random_state=0), 1, 'AdaBoostClassifier')   :  0.5590551181102362\n",
            "-------------------------------------------------------------------------------------------------\n",
            "(AdaBoostClassifier(random_state=0), 1, 'AdaBoostClassifier')   :  0.5196850393700787\n",
            "-------------------------------------------------------------------------------------------------\n",
            "(GaussianNB(), 6, 'GaussianNB')   :  0.3669291338582677\n",
            "-------------------------------------------------------------------------------------------------\n",
            "[(XGBClassifier(max_depth=8, n_estimators=223, objective='multi:softprob'), 4, 'xgboost'), (XGBClassifier(max_depth=8, objective='multi:softprob'), 4, 'xgboost'), (GradientBoostingClassifier(max_depth=12, random_state=0), 2, 'GradientBoostingClassifier'), (GradientBoostingClassifier(max_depth=12, n_estimators=172, random_state=0), 2, 'GradientBoostingClassifier'), (RandomForestClassifier(n_estimators=61, random_state=0), 3, 'RandomForestClassifier'), (RandomForestClassifier(max_depth=26, n_estimators=61, random_state=0), 3, 'RandomForestClassifier'), (KNeighborsClassifier(n_neighbors=1), 5, 'KNeighborsClassifier'), (RandomForestClassifier(random_state=0), 3, 'RandomForestClassifier'), (RandomForestClassifier(max_depth=26, random_state=0), 3, 'RandomForestClassifier'), (GradientBoostingClassifier(n_estimators=172, random_state=0), 2, 'GradientBoostingClassifier'), (XGBClassifier(n_estimators=223, objective='multi:softprob'), 4, 'xgboost'), (GradientBoostingClassifier(random_state=0), 2, 'GradientBoostingClassifier'), (KNeighborsClassifier(), 5, 'KNeighborsClassifier'), (XGBClassifier(objective='multi:softprob'), 4, 'xgboost'), (AdaBoostClassifier(n_estimators=75, random_state=0), 1, 'AdaBoostClassifier'), (AdaBoostClassifier(random_state=0), 1, 'AdaBoostClassifier'), (GaussianNB(), 6, 'GaussianNB')]\n"
          ]
        }
      ]
    },
    {
      "cell_type": "code",
      "source": [
        "print(\"best_models:\")\n",
        "for i in best_models:\n",
        "  print(i)\n"
      ],
      "metadata": {
        "id": "SR0XBsJDMi_1",
        "colab": {
          "base_uri": "https://localhost:8080/"
        },
        "outputId": "a71b9d6e-7ab3-4ccb-d30d-a01027b802d4"
      },
      "execution_count": 75,
      "outputs": [
        {
          "output_type": "stream",
          "name": "stdout",
          "text": [
            "best_models:\n",
            "(XGBClassifier(max_depth=8, n_estimators=223, objective='multi:softprob'), 'xgboost')\n",
            "(GradientBoostingClassifier(max_depth=12, random_state=0), 'GradientBoostingClassifier')\n",
            "(RandomForestClassifier(n_estimators=61, random_state=0), 'RandomForestClassifier')\n",
            "(KNeighborsClassifier(n_neighbors=1), 'KNeighborsClassifier')\n"
          ]
        }
      ]
    },
    {
      "cell_type": "code",
      "source": [
        "len(best_models)"
      ],
      "metadata": {
        "id": "VQCaVYKA5acD",
        "colab": {
          "base_uri": "https://localhost:8080/"
        },
        "outputId": "a05e6ce0-9239-449a-b26c-690bc1a546b7"
      },
      "execution_count": 76,
      "outputs": [
        {
          "output_type": "execute_result",
          "data": {
            "text/plain": [
              "4"
            ]
          },
          "metadata": {},
          "execution_count": 76
        }
      ]
    },
    {
      "cell_type": "markdown",
      "source": [
        "#Testing Accuracy For Best 4 Models"
      ],
      "metadata": {
        "id": "znXNx2bgUvtd"
      }
    },
    {
      "cell_type": "code",
      "source": [
        "\n",
        "for i in best_models:\n",
        "  print(\"--------------------------------------------------\")\n",
        "  print(i[0])\n",
        "  y_pred=i[0].predict(X_train)\n",
        "  print(confusion_matrix(y_train, y_pred))\n",
        "  print(classification_report(y_train,y_pred))\n",
        "  print(\"Accurecy: \",accuracy_score(y_train, y_pred))"
      ],
      "metadata": {
        "id": "2j9CXuBkUuiR",
        "colab": {
          "base_uri": "https://localhost:8080/"
        },
        "outputId": "7ebcba64-4c69-45de-ac4e-347f993ecb23"
      },
      "execution_count": 77,
      "outputs": [
        {
          "output_type": "stream",
          "name": "stdout",
          "text": [
            "--------------------------------------------------\n",
            "XGBClassifier(max_depth=8, n_estimators=223, objective='multi:softprob')\n",
            "[[630   0   0   0]\n",
            " [  0 648   0   0]\n",
            " [  0   0 625   0]\n",
            " [  0   0   0 634]]\n",
            "              precision    recall  f1-score   support\n",
            "\n",
            "           0       1.00      1.00      1.00       630\n",
            "           1       1.00      1.00      1.00       648\n",
            "           2       1.00      1.00      1.00       625\n",
            "           3       1.00      1.00      1.00       634\n",
            "\n",
            "    accuracy                           1.00      2537\n",
            "   macro avg       1.00      1.00      1.00      2537\n",
            "weighted avg       1.00      1.00      1.00      2537\n",
            "\n",
            "Accurecy:  1.0\n",
            "--------------------------------------------------\n",
            "GradientBoostingClassifier(max_depth=12, random_state=0)\n",
            "[[630   0   0   0]\n",
            " [  0 648   0   0]\n",
            " [  0   0 625   0]\n",
            " [  0   0   0 634]]\n",
            "              precision    recall  f1-score   support\n",
            "\n",
            "           0       1.00      1.00      1.00       630\n",
            "           1       1.00      1.00      1.00       648\n",
            "           2       1.00      1.00      1.00       625\n",
            "           3       1.00      1.00      1.00       634\n",
            "\n",
            "    accuracy                           1.00      2537\n",
            "   macro avg       1.00      1.00      1.00      2537\n",
            "weighted avg       1.00      1.00      1.00      2537\n",
            "\n",
            "Accurecy:  1.0\n",
            "--------------------------------------------------\n",
            "RandomForestClassifier(n_estimators=61, random_state=0)\n",
            "[[630   0   0   0]\n",
            " [  0 648   0   0]\n",
            " [  0   0 625   0]\n",
            " [  0   0   0 634]]\n",
            "              precision    recall  f1-score   support\n",
            "\n",
            "           0       1.00      1.00      1.00       630\n",
            "           1       1.00      1.00      1.00       648\n",
            "           2       1.00      1.00      1.00       625\n",
            "           3       1.00      1.00      1.00       634\n",
            "\n",
            "    accuracy                           1.00      2537\n",
            "   macro avg       1.00      1.00      1.00      2537\n",
            "weighted avg       1.00      1.00      1.00      2537\n",
            "\n",
            "Accurecy:  1.0\n",
            "--------------------------------------------------\n",
            "KNeighborsClassifier(n_neighbors=1)\n",
            "[[630   0   0   0]\n",
            " [  0 648   0   0]\n",
            " [  0   0 625   0]\n",
            " [  0   0   0 634]]\n",
            "              precision    recall  f1-score   support\n",
            "\n",
            "           0       1.00      1.00      1.00       630\n",
            "           1       1.00      1.00      1.00       648\n",
            "           2       1.00      1.00      1.00       625\n",
            "           3       1.00      1.00      1.00       634\n",
            "\n",
            "    accuracy                           1.00      2537\n",
            "   macro avg       1.00      1.00      1.00      2537\n",
            "weighted avg       1.00      1.00      1.00      2537\n",
            "\n",
            "Accurecy:  1.0\n"
          ]
        }
      ]
    },
    {
      "cell_type": "markdown",
      "source": [
        "#SHAP"
      ],
      "metadata": {
        "id": "zxxWSX26jsGT"
      }
    },
    {
      "cell_type": "code",
      "source": [
        "!pip install shap\n",
        "import shap"
      ],
      "metadata": {
        "id": "YUhJ7dWajur-",
        "colab": {
          "base_uri": "https://localhost:8080/"
        },
        "outputId": "a2bd692a-43b3-4d76-eb00-4d74536d827e"
      },
      "execution_count": 82,
      "outputs": [
        {
          "output_type": "stream",
          "name": "stdout",
          "text": [
            "Looking in indexes: https://pypi.org/simple, https://us-python.pkg.dev/colab-wheels/public/simple/\n",
            "Requirement already satisfied: shap in /usr/local/lib/python3.8/dist-packages (0.41.0)\n",
            "Requirement already satisfied: numpy in /usr/local/lib/python3.8/dist-packages (from shap) (1.21.6)\n",
            "Requirement already satisfied: scikit-learn in /usr/local/lib/python3.8/dist-packages (from shap) (1.0.2)\n",
            "Requirement already satisfied: scipy in /usr/local/lib/python3.8/dist-packages (from shap) (1.7.3)\n",
            "Requirement already satisfied: packaging>20.9 in /usr/local/lib/python3.8/dist-packages (from shap) (21.3)\n",
            "Requirement already satisfied: slicer==0.0.7 in /usr/local/lib/python3.8/dist-packages (from shap) (0.0.7)\n",
            "Requirement already satisfied: pandas in /usr/local/lib/python3.8/dist-packages (from shap) (1.3.5)\n",
            "Requirement already satisfied: tqdm>4.25.0 in /usr/local/lib/python3.8/dist-packages (from shap) (4.64.1)\n",
            "Requirement already satisfied: cloudpickle in /usr/local/lib/python3.8/dist-packages (from shap) (1.5.0)\n",
            "Requirement already satisfied: numba in /usr/local/lib/python3.8/dist-packages (from shap) (0.56.4)\n",
            "Requirement already satisfied: pyparsing!=3.0.5,>=2.0.2 in /usr/local/lib/python3.8/dist-packages (from packaging>20.9->shap) (3.0.9)\n",
            "Requirement already satisfied: importlib-metadata in /usr/local/lib/python3.8/dist-packages (from numba->shap) (5.1.0)\n",
            "Requirement already satisfied: llvmlite<0.40,>=0.39.0dev0 in /usr/local/lib/python3.8/dist-packages (from numba->shap) (0.39.1)\n",
            "Requirement already satisfied: setuptools in /usr/local/lib/python3.8/dist-packages (from numba->shap) (57.4.0)\n",
            "Requirement already satisfied: zipp>=0.5 in /usr/local/lib/python3.8/dist-packages (from importlib-metadata->numba->shap) (3.11.0)\n",
            "Requirement already satisfied: pytz>=2017.3 in /usr/local/lib/python3.8/dist-packages (from pandas->shap) (2022.6)\n",
            "Requirement already satisfied: python-dateutil>=2.7.3 in /usr/local/lib/python3.8/dist-packages (from pandas->shap) (2.8.2)\n",
            "Requirement already satisfied: six>=1.5 in /usr/local/lib/python3.8/dist-packages (from python-dateutil>=2.7.3->pandas->shap) (1.15.0)\n",
            "Requirement already satisfied: joblib>=0.11 in /usr/local/lib/python3.8/dist-packages (from scikit-learn->shap) (1.2.0)\n",
            "Requirement already satisfied: threadpoolctl>=2.0.0 in /usr/local/lib/python3.8/dist-packages (from scikit-learn->shap) (3.1.0)\n"
          ]
        }
      ]
    },
    {
      "cell_type": "code",
      "source": [
        "\n",
        "def SHAP_EXP(model,graph_feat):\n",
        "  print(\"Models: \",model)\n",
        "\n",
        "  explainer = shap.Explainer(model.predict, X_test)\n",
        "\n",
        "  shap_values1 = explainer(X_test)\n",
        "  features_names=list_of_feat\n",
        "\n",
        "  if 'Subjects' in features_names:\n",
        "    features_names.pop(0)\n",
        "\n",
        "\n",
        "  shap.plots.bar(shap_values1,max_display=graph_feat[\"max_display\"])\n",
        "\n",
        "  print(\"---------------------\")\n",
        "\n",
        "  shap.summary_plot(shap_values1,max_display=graph_feat[\"max_display\"],feature_names=features_names)\n",
        "\n",
        "  print(\"---------------------\")\n",
        "\n",
        "  print(\"Local Explaination\")\n",
        "  shap.plots.waterfall(shap_values1[graph_feat[\"shap_values Index\"]],max_display=graph_feat[\"max_display\"])\n",
        "\n",
        "\n",
        "  print(\"---------------------\")\n",
        "\n",
        "  shap.plots.bar(shap_values1[graph_feat[\"shap_values Index\"]],max_display=graph_feat[\"max_display\"])"
      ],
      "metadata": {
        "id": "POk0kUrdB-Y4"
      },
      "execution_count": 83,
      "outputs": []
    },
    {
      "cell_type": "code",
      "source": [
        "new_keys_7=models_check_box(models)"
      ],
      "metadata": {
        "id": "V-G5szfQDiz1",
        "colab": {
          "base_uri": "https://localhost:8080/",
          "height": 529,
          "referenced_widgets": [
            "53c89bc6460f4b178dc5d7d36bb01d2c",
            "660af67e7f9d45aab228d7c5626ae04b",
            "86782f9ad80c48c2bfcc0fe7f0ee1b5c",
            "1ac51ffba48345d583fa8ba51784b539",
            "d0ddbab596a64cb7a4085c2c0efae539",
            "5e85878a15624dbab0e2bb76f99e8fe9",
            "1bd1b5ab330841c2a78e2916da32133a",
            "99f58a3014004819bc78a79b5f6fc4d4",
            "b53e814806384091910042a62af3e647",
            "ce7c74d5c4e84940a915f7c41fba67f2",
            "4adf8e39421f47579b40f937f5a3978f",
            "14f57ab5243e439faec91ab3671764c5",
            "9e3840c4de214905ada5287d4d810424",
            "ecaa6794b71c44c887a75c71e1e71695",
            "c4bd34f5cf9c46bf8f47da7ed58f744e",
            "a8b795041758442080b3587d5934ac12",
            "5926cd86681046c4baa847b442cc30cf",
            "928988f702c64ec59699e6e25cd1010b",
            "e9c544b55a2f45b9964b77be7dfba578",
            "c4d7749363eb453fb2e43a7e77b32151",
            "35d95eb9f1ef4caca7d404ee61ca789c",
            "bab546c6835f450aa333772d0be6caf8",
            "23d998d6a81643fd8546b749f84b2dd4",
            "eca745aeb4b047de9d3ec5a13ea97d60",
            "e294427204374eb980d17e2f5a8d554c",
            "54a7a2d0781344c08e21792530c3ab8b",
            "31d31906655340c390b44a085e88c7e4",
            "ff6ea02982984356887f9885c56ff6b1",
            "a14ca42c63e14882a0783eca7d1dd4ab",
            "d38229dc476648868559e8c94cb1a21f",
            "b765bfb2302f4fcd95466dd2e9e48224",
            "f753f15dbe504547a45c2e45398a6089",
            "9ddc06e1b0664698af54a36306f1893e",
            "1e1a8893bd9149788d6db203c14aa815",
            "7b9c4e163be64c30a3fb8c29b52b90ad",
            "05db0327ed6e4f84b8c7900a421ee495",
            "2c3a88902aca40e29c660e70b37ef00d",
            "4c5cd193683d4ba68b0fa57f66ce672a",
            "b34281ea7fc94eb0afffd6b1273547d3",
            "a8c4c01d5ef24389aa5418805fbf80b9",
            "ee01465e2a484939a806d8fcd68f3fc2",
            "00fc1413ff064e92b7ef24e148f5bb9d",
            "b0601ade3cc243678ff7e067bd8a6635",
            "c61a4a794b744220b4a1ef951dc2d2c1",
            "d33d5f85d4f944e1b3ace0e1e657cd6a",
            "9e71101e3cd54891ba0ed34ddbef66aa",
            "7028db85dec84804b5e70e8c3828b77e",
            "5691d5dc287f4629a0ff4ffe26678c9b",
            "f31aacdbcda04d8a8b4d0ffa4c112d8e",
            "66d147d12c8b42a69988411089008e4c",
            "a2a3d4d0e6f543cca33d9e044bb03e5e"
          ]
        },
        "outputId": "80053c91-8d21-4fb2-832d-22b5c77edf30"
      },
      "execution_count": 84,
      "outputs": [
        {
          "output_type": "display_data",
          "data": {
            "text/plain": [
              "Checkbox(value=False, description='AdaBoostClassifier(random_state=0)', indent=False)"
            ],
            "application/vnd.jupyter.widget-view+json": {
              "version_major": 2,
              "version_minor": 0,
              "model_id": "53c89bc6460f4b178dc5d7d36bb01d2c"
            }
          },
          "metadata": {}
        },
        {
          "output_type": "display_data",
          "data": {
            "text/plain": [
              "Checkbox(value=False, description='AdaBoostClassifier(n_estimators=75, random_state=0)', indent=False)"
            ],
            "application/vnd.jupyter.widget-view+json": {
              "version_major": 2,
              "version_minor": 0,
              "model_id": "1ac51ffba48345d583fa8ba51784b539"
            }
          },
          "metadata": {}
        },
        {
          "output_type": "display_data",
          "data": {
            "text/plain": [
              "Checkbox(value=False, description='GradientBoostingClassifier(random_state=0)', indent=False)"
            ],
            "application/vnd.jupyter.widget-view+json": {
              "version_major": 2,
              "version_minor": 0,
              "model_id": "1bd1b5ab330841c2a78e2916da32133a"
            }
          },
          "metadata": {}
        },
        {
          "output_type": "display_data",
          "data": {
            "text/plain": [
              "Checkbox(value=False, description='GradientBoostingClassifier(n_estimators=172, random_state=0)', indent=False…"
            ],
            "application/vnd.jupyter.widget-view+json": {
              "version_major": 2,
              "version_minor": 0,
              "model_id": "ce7c74d5c4e84940a915f7c41fba67f2"
            }
          },
          "metadata": {}
        },
        {
          "output_type": "display_data",
          "data": {
            "text/plain": [
              "Checkbox(value=False, description='GradientBoostingClassifier(max_depth=12, random_state=0)', indent=False)"
            ],
            "application/vnd.jupyter.widget-view+json": {
              "version_major": 2,
              "version_minor": 0,
              "model_id": "9e3840c4de214905ada5287d4d810424"
            }
          },
          "metadata": {}
        },
        {
          "output_type": "display_data",
          "data": {
            "text/plain": [
              "Checkbox(value=False, description='GradientBoostingClassifier(max_depth=12, n_estimators=172, random_state=0)'…"
            ],
            "application/vnd.jupyter.widget-view+json": {
              "version_major": 2,
              "version_minor": 0,
              "model_id": "a8b795041758442080b3587d5934ac12"
            }
          },
          "metadata": {}
        },
        {
          "output_type": "display_data",
          "data": {
            "text/plain": [
              "Checkbox(value=False, description='RandomForestClassifier(random_state=0)', indent=False)"
            ],
            "application/vnd.jupyter.widget-view+json": {
              "version_major": 2,
              "version_minor": 0,
              "model_id": "e9c544b55a2f45b9964b77be7dfba578"
            }
          },
          "metadata": {}
        },
        {
          "output_type": "display_data",
          "data": {
            "text/plain": [
              "Checkbox(value=False, description='RandomForestClassifier(n_estimators=61, random_state=0)', indent=False)"
            ],
            "application/vnd.jupyter.widget-view+json": {
              "version_major": 2,
              "version_minor": 0,
              "model_id": "bab546c6835f450aa333772d0be6caf8"
            }
          },
          "metadata": {}
        },
        {
          "output_type": "display_data",
          "data": {
            "text/plain": [
              "Checkbox(value=False, description='RandomForestClassifier(max_depth=26, random_state=0)', indent=False)"
            ],
            "application/vnd.jupyter.widget-view+json": {
              "version_major": 2,
              "version_minor": 0,
              "model_id": "e294427204374eb980d17e2f5a8d554c"
            }
          },
          "metadata": {}
        },
        {
          "output_type": "display_data",
          "data": {
            "text/plain": [
              "Checkbox(value=False, description='RandomForestClassifier(max_depth=26, n_estimators=61, random_state=0)', ind…"
            ],
            "application/vnd.jupyter.widget-view+json": {
              "version_major": 2,
              "version_minor": 0,
              "model_id": "ff6ea02982984356887f9885c56ff6b1"
            }
          },
          "metadata": {}
        },
        {
          "output_type": "display_data",
          "data": {
            "text/plain": [
              "Checkbox(value=False, description=\"XGBClassifier(objective='multi:softprob')\", indent=False)"
            ],
            "application/vnd.jupyter.widget-view+json": {
              "version_major": 2,
              "version_minor": 0,
              "model_id": "b765bfb2302f4fcd95466dd2e9e48224"
            }
          },
          "metadata": {}
        },
        {
          "output_type": "display_data",
          "data": {
            "text/plain": [
              "Checkbox(value=False, description=\"XGBClassifier(max_depth=8, objective='multi:softprob')\", indent=False)"
            ],
            "application/vnd.jupyter.widget-view+json": {
              "version_major": 2,
              "version_minor": 0,
              "model_id": "1e1a8893bd9149788d6db203c14aa815"
            }
          },
          "metadata": {}
        },
        {
          "output_type": "display_data",
          "data": {
            "text/plain": [
              "Checkbox(value=False, description=\"XGBClassifier(n_estimators=223, objective='multi:softprob')\", indent=False)"
            ],
            "application/vnd.jupyter.widget-view+json": {
              "version_major": 2,
              "version_minor": 0,
              "model_id": "2c3a88902aca40e29c660e70b37ef00d"
            }
          },
          "metadata": {}
        },
        {
          "output_type": "display_data",
          "data": {
            "text/plain": [
              "Checkbox(value=False, description=\"XGBClassifier(max_depth=8, n_estimators=223, objective='multi:softprob')\", …"
            ],
            "application/vnd.jupyter.widget-view+json": {
              "version_major": 2,
              "version_minor": 0,
              "model_id": "a8c4c01d5ef24389aa5418805fbf80b9"
            }
          },
          "metadata": {}
        },
        {
          "output_type": "display_data",
          "data": {
            "text/plain": [
              "Checkbox(value=False, description='KNeighborsClassifier()', indent=False)"
            ],
            "application/vnd.jupyter.widget-view+json": {
              "version_major": 2,
              "version_minor": 0,
              "model_id": "b0601ade3cc243678ff7e067bd8a6635"
            }
          },
          "metadata": {}
        },
        {
          "output_type": "display_data",
          "data": {
            "text/plain": [
              "Checkbox(value=False, description='KNeighborsClassifier(n_neighbors=1)', indent=False)"
            ],
            "application/vnd.jupyter.widget-view+json": {
              "version_major": 2,
              "version_minor": 0,
              "model_id": "9e71101e3cd54891ba0ed34ddbef66aa"
            }
          },
          "metadata": {}
        },
        {
          "output_type": "display_data",
          "data": {
            "text/plain": [
              "Checkbox(value=False, description='GaussianNB()', indent=False)"
            ],
            "application/vnd.jupyter.widget-view+json": {
              "version_major": 2,
              "version_minor": 0,
              "model_id": "f31aacdbcda04d8a8b4d0ffa4c112d8e"
            }
          },
          "metadata": {}
        }
      ]
    },
    {
      "cell_type": "code",
      "source": [
        "graph_feat={\n",
        "    \"max_display\":20,\n",
        "    \"shap_values Index\":2\n",
        "}\n",
        "\n",
        "for i in range(len(new_keys_7)):\n",
        "  if new_keys_7[i].value ==True:\n",
        "    SHAP_EXP(models[i],graph_feat)\n",
        "    print(\"---------------------------------------------------------\")\n",
        "    print(\"---------------------------------------------------------\")\n",
        "    print(\"---------------------------------------------------------\")\n",
        "    print(\"---------------------------------------------------------\")"
      ],
      "metadata": {
        "id": "JeD8HT_iDodb"
      },
      "execution_count": 85,
      "outputs": []
    },
    {
      "cell_type": "markdown",
      "source": [
        "#Confusion Matrix For Testing"
      ],
      "metadata": {
        "id": "23z3A3f1ol6d"
      }
    },
    {
      "cell_type": "code",
      "source": [
        "new_keys_6=models_check_box(models)"
      ],
      "metadata": {
        "id": "b3tHiraMBr_C",
        "colab": {
          "base_uri": "https://localhost:8080/",
          "height": 0,
          "referenced_widgets": [
            "425011b8a6704432a28700e9f3f7e1b4",
            "940ff60c1f864e61ab9651a03b08489b",
            "dc0606995c2a42c49b8fb53e43bc3ef1",
            "88f94e82567a4e95b813c6afe2c8b84c",
            "235140d0483643f0b83f3c92286c7fc6",
            "5f00f57d26df4e58827f7097ff831cc3",
            "7a8192caa0e242f8a82432a2149bbf49",
            "19572604ac054575857dfca979dff11b",
            "6b7a28e20e9b48afb26c6a61527ab46c",
            "be447f67291b41da9ba9ff309dcf78e6",
            "2218dcad5f9746839fddd91ea6490729",
            "67c31171ee874c08ab989e06c2ef8968",
            "363feb4373754e08b6a303785d572a3b",
            "dfdd4647c825434cafd00f3d5a5a3b9d",
            "a4940ca068dc45639de6125b909c3951",
            "4064e69bb3994dd48e4420857704b514",
            "da62dac9d47c4966b89a702dc33b696c",
            "f13184b3282a41ba8ee8c722d4842eba",
            "5e97d57fb1ff4bdd9cb2148bf58d5554",
            "cd178e4d496d4cf19f4ebd09778b8ca6",
            "8d096de0d634453fac1fa8b850c21d4c",
            "4a058ab3e0d74b8e8a4b23ed1ec035d2",
            "b21c995931ed4beb8309201877153e1a",
            "34ad53c8e099459bbd2c7cd6259e09d0",
            "baab165e1f2f4fedac526ccbbd865b9c",
            "a66cfc2327b84c579cf780ab3d59a5a6",
            "e093e8c124464a4eb15cdfa9181ee833",
            "c3796ee4038642f4a17c3b8cf2ccf4c0",
            "462c5585c3474cc2bac8fce8bdf09063",
            "74f2be3f3a774827929bf5ed78914a3f",
            "c6d959baff034459aee78ad354015d6c",
            "af149407f6c14bcdaabaef1b82683295",
            "03748dd82a2f4a1a9397b2a8e8ed3300",
            "6f4b99561fbe4004a2eabb0ac703e08b",
            "1be08af8e7cd4b6790e49df1863abff8",
            "46f4f592da234ba6b7c413690fd9c955",
            "06781162ce444b33aa2f045a92e34fbb",
            "1d5aa6aa18bb48e58acf3dbb108bd88c",
            "c120ef458add41c98988e291ac533c7e",
            "5aed578bdb3844b38288d998ba5c9e55",
            "6a4416ea481f4b74a1abc9a0dd2d58e1",
            "2ec85143658c4bb0a0a5418b9cefe099",
            "f04f0772074e4ce98d83b5344cfc8c35",
            "100bd63e16da4b81bc755f9240b5b747",
            "deb40eeec4f34a7caffd5a784a421883",
            "1550689666434d4fb0a53d4cd69c7339",
            "b6f8392051af44878cc9f8056ee589d0",
            "090ee9629cde459c94bc559347bdcda4",
            "64d7ab6d81d64ad5917071c3c78be7b5",
            "537acc7818894acf987255b304a851be",
            "787a4770897f4a85a930f961dccbc7a9"
          ]
        },
        "outputId": "0dc0a9b1-3825-45d2-8cb8-0b6fe3299deb"
      },
      "execution_count": 86,
      "outputs": [
        {
          "output_type": "display_data",
          "data": {
            "text/plain": [
              "Checkbox(value=False, description='AdaBoostClassifier(random_state=0)', indent=False)"
            ],
            "application/vnd.jupyter.widget-view+json": {
              "version_major": 2,
              "version_minor": 0,
              "model_id": "425011b8a6704432a28700e9f3f7e1b4"
            }
          },
          "metadata": {}
        },
        {
          "output_type": "display_data",
          "data": {
            "text/plain": [
              "Checkbox(value=False, description='AdaBoostClassifier(n_estimators=75, random_state=0)', indent=False)"
            ],
            "application/vnd.jupyter.widget-view+json": {
              "version_major": 2,
              "version_minor": 0,
              "model_id": "88f94e82567a4e95b813c6afe2c8b84c"
            }
          },
          "metadata": {}
        },
        {
          "output_type": "display_data",
          "data": {
            "text/plain": [
              "Checkbox(value=False, description='GradientBoostingClassifier(random_state=0)', indent=False)"
            ],
            "application/vnd.jupyter.widget-view+json": {
              "version_major": 2,
              "version_minor": 0,
              "model_id": "7a8192caa0e242f8a82432a2149bbf49"
            }
          },
          "metadata": {}
        },
        {
          "output_type": "display_data",
          "data": {
            "text/plain": [
              "Checkbox(value=False, description='GradientBoostingClassifier(n_estimators=172, random_state=0)', indent=False…"
            ],
            "application/vnd.jupyter.widget-view+json": {
              "version_major": 2,
              "version_minor": 0,
              "model_id": "be447f67291b41da9ba9ff309dcf78e6"
            }
          },
          "metadata": {}
        },
        {
          "output_type": "display_data",
          "data": {
            "text/plain": [
              "Checkbox(value=False, description='GradientBoostingClassifier(max_depth=12, random_state=0)', indent=False)"
            ],
            "application/vnd.jupyter.widget-view+json": {
              "version_major": 2,
              "version_minor": 0,
              "model_id": "363feb4373754e08b6a303785d572a3b"
            }
          },
          "metadata": {}
        },
        {
          "output_type": "display_data",
          "data": {
            "text/plain": [
              "Checkbox(value=False, description='GradientBoostingClassifier(max_depth=12, n_estimators=172, random_state=0)'…"
            ],
            "application/vnd.jupyter.widget-view+json": {
              "version_major": 2,
              "version_minor": 0,
              "model_id": "4064e69bb3994dd48e4420857704b514"
            }
          },
          "metadata": {}
        },
        {
          "output_type": "display_data",
          "data": {
            "text/plain": [
              "Checkbox(value=False, description='RandomForestClassifier(random_state=0)', indent=False)"
            ],
            "application/vnd.jupyter.widget-view+json": {
              "version_major": 2,
              "version_minor": 0,
              "model_id": "5e97d57fb1ff4bdd9cb2148bf58d5554"
            }
          },
          "metadata": {}
        },
        {
          "output_type": "display_data",
          "data": {
            "text/plain": [
              "Checkbox(value=False, description='RandomForestClassifier(n_estimators=61, random_state=0)', indent=False)"
            ],
            "application/vnd.jupyter.widget-view+json": {
              "version_major": 2,
              "version_minor": 0,
              "model_id": "4a058ab3e0d74b8e8a4b23ed1ec035d2"
            }
          },
          "metadata": {}
        },
        {
          "output_type": "display_data",
          "data": {
            "text/plain": [
              "Checkbox(value=False, description='RandomForestClassifier(max_depth=26, random_state=0)', indent=False)"
            ],
            "application/vnd.jupyter.widget-view+json": {
              "version_major": 2,
              "version_minor": 0,
              "model_id": "baab165e1f2f4fedac526ccbbd865b9c"
            }
          },
          "metadata": {}
        },
        {
          "output_type": "display_data",
          "data": {
            "text/plain": [
              "Checkbox(value=False, description='RandomForestClassifier(max_depth=26, n_estimators=61, random_state=0)', ind…"
            ],
            "application/vnd.jupyter.widget-view+json": {
              "version_major": 2,
              "version_minor": 0,
              "model_id": "c3796ee4038642f4a17c3b8cf2ccf4c0"
            }
          },
          "metadata": {}
        },
        {
          "output_type": "display_data",
          "data": {
            "text/plain": [
              "Checkbox(value=False, description=\"XGBClassifier(objective='multi:softprob')\", indent=False)"
            ],
            "application/vnd.jupyter.widget-view+json": {
              "version_major": 2,
              "version_minor": 0,
              "model_id": "c6d959baff034459aee78ad354015d6c"
            }
          },
          "metadata": {}
        },
        {
          "output_type": "display_data",
          "data": {
            "text/plain": [
              "Checkbox(value=False, description=\"XGBClassifier(max_depth=8, objective='multi:softprob')\", indent=False)"
            ],
            "application/vnd.jupyter.widget-view+json": {
              "version_major": 2,
              "version_minor": 0,
              "model_id": "6f4b99561fbe4004a2eabb0ac703e08b"
            }
          },
          "metadata": {}
        },
        {
          "output_type": "display_data",
          "data": {
            "text/plain": [
              "Checkbox(value=False, description=\"XGBClassifier(n_estimators=223, objective='multi:softprob')\", indent=False)"
            ],
            "application/vnd.jupyter.widget-view+json": {
              "version_major": 2,
              "version_minor": 0,
              "model_id": "06781162ce444b33aa2f045a92e34fbb"
            }
          },
          "metadata": {}
        },
        {
          "output_type": "display_data",
          "data": {
            "text/plain": [
              "Checkbox(value=False, description=\"XGBClassifier(max_depth=8, n_estimators=223, objective='multi:softprob')\", …"
            ],
            "application/vnd.jupyter.widget-view+json": {
              "version_major": 2,
              "version_minor": 0,
              "model_id": "5aed578bdb3844b38288d998ba5c9e55"
            }
          },
          "metadata": {}
        },
        {
          "output_type": "display_data",
          "data": {
            "text/plain": [
              "Checkbox(value=False, description='KNeighborsClassifier()', indent=False)"
            ],
            "application/vnd.jupyter.widget-view+json": {
              "version_major": 2,
              "version_minor": 0,
              "model_id": "f04f0772074e4ce98d83b5344cfc8c35"
            }
          },
          "metadata": {}
        },
        {
          "output_type": "display_data",
          "data": {
            "text/plain": [
              "Checkbox(value=False, description='KNeighborsClassifier(n_neighbors=1)', indent=False)"
            ],
            "application/vnd.jupyter.widget-view+json": {
              "version_major": 2,
              "version_minor": 0,
              "model_id": "1550689666434d4fb0a53d4cd69c7339"
            }
          },
          "metadata": {}
        },
        {
          "output_type": "display_data",
          "data": {
            "text/plain": [
              "Checkbox(value=False, description='GaussianNB()', indent=False)"
            ],
            "application/vnd.jupyter.widget-view+json": {
              "version_major": 2,
              "version_minor": 0,
              "model_id": "64d7ab6d81d64ad5917071c3c78be7b5"
            }
          },
          "metadata": {}
        }
      ]
    },
    {
      "cell_type": "code",
      "source": [
        "\n",
        "from yellowbrick.classifier import ConfusionMatrix\n",
        "\n",
        "\n",
        "for i in range(len(new_keys_6)):\n",
        "  if new_keys_6[i].value ==True:\n",
        "    cm = ConfusionMatrix(models[i], classes=classes)\n",
        "\n",
        "    cm.fit(X_train, y_train)\n",
        "    cm.score(X_test, y_test)\n",
        "    cm.show()"
      ],
      "metadata": {
        "id": "5vsqEYhponhI"
      },
      "execution_count": 87,
      "outputs": []
    },
    {
      "cell_type": "markdown",
      "source": [],
      "metadata": {
        "id": "EwT5yAeqols7"
      }
    },
    {
      "cell_type": "markdown",
      "source": [
        "#Confusion Matrix For Training"
      ],
      "metadata": {
        "id": "57cQ8dzJX0Lp"
      }
    },
    {
      "cell_type": "code",
      "source": [
        "new_keys_5=models_check_box(models)"
      ],
      "metadata": {
        "id": "tDrF5oTkBcZ_",
        "colab": {
          "base_uri": "https://localhost:8080/",
          "height": 0,
          "referenced_widgets": [
            "422e4d2e606e4e1c87a1e388b2c076f4",
            "4a5716ad5bc54415bd951b1101133fd0",
            "8e343894b9814d3581269c6ec6e3146d",
            "fc9f138faf49417e9f98d313f58ec799",
            "cead5636ca7b45a1b9a6671b55efae94",
            "81885b18d128487ebb1b19458f26c5ae",
            "11c88f7f3af54d4c9308370d820c69b0",
            "fab3338f31db4faa85b64468b90c3cf7",
            "274fc1c78ff041489233073325af51c4",
            "a530176ec42c4918888025332aa1f649",
            "71c66dda704748da91328288f002a0ed",
            "98f63e6f1e48414499d2a621c5f2b813",
            "a5e4642e89464bce8d1fdd0130c04168",
            "625772066c8e45838bc081785127fcc5",
            "adbe022eb2064cb3ad6da44e189bcee5",
            "61d6fcec9d014137bde34621d793f80f",
            "9af41aaefded46aa9d245a351073c8c1",
            "a1b09f9f9d004fde9c995caaa8336fe9",
            "af03dffe83cc487ea32b743dcae10abe",
            "6d685301fce34451ac574672657e0dfa",
            "95848511bbe6413c88c0f9ad0b46b5dc",
            "b0d3f24151de44fe9a2a474c46897945",
            "3746f11c377f422eb7244a4eb4054011",
            "e5a137ea172d4965ac777cb9dca40169",
            "8a2f0fc91efa4f50a7ce1ebc5618f836",
            "e79bc7c3c5bf4b45a426e9826b63dba8",
            "dbddc03aa08c414695b2ee5d5d91d681",
            "e60c08308a1c4373b9029a8f46631b6f",
            "d062e4c5f2fb4f0488a225a86330cc7c",
            "80af3f77d3344898808257758c6bd375",
            "44ef094bde69470fa528e86993460a26",
            "14c1c1f5221e4eeeb85b588ba483ad84",
            "3a78998cb3bc449cbe7e1b369ce2f6f8",
            "91f123f3df224f99a1c2203dd6ab95aa",
            "ec962e401199474f86905894102f9ed3",
            "df394110799c4b66b8b569e8b33c0b1c",
            "f74704fa3fc84ce380f1ee717da3998d",
            "e0071a24ed6c4967a6a6bf7456184ef9",
            "b9a8fae5e1df488193f9dfdec30a8848",
            "747d0b0f0cb74116943222b8ee6a606c",
            "e227fcf2fcd343869074f222b822797e",
            "16391cab1c744a9b9fdb8fccccdc143e",
            "c0c698641482431892ca0a38ec368a83",
            "6389370ba7f64d2a92893ff50cbfb2eb",
            "62f70d0a78b34c998288b739785cd4bb",
            "cd5fa702ff9a4220b70caf82550f28d4",
            "afe1287f43a84b87b621efde5d647846",
            "c53a4c509add4a77bc4164eedbcbd2cd",
            "1ea5a05d50234d648ac23c636afa4ed9",
            "3c18eec012a7418a811f71edddec970c",
            "e881ef7da594463095949b3ee3b767a6"
          ]
        },
        "outputId": "73d393d0-0d3a-4c85-a03f-3f9ba8d16302"
      },
      "execution_count": 88,
      "outputs": [
        {
          "output_type": "display_data",
          "data": {
            "text/plain": [
              "Checkbox(value=False, description='AdaBoostClassifier(random_state=0)', indent=False)"
            ],
            "application/vnd.jupyter.widget-view+json": {
              "version_major": 2,
              "version_minor": 0,
              "model_id": "422e4d2e606e4e1c87a1e388b2c076f4"
            }
          },
          "metadata": {}
        },
        {
          "output_type": "display_data",
          "data": {
            "text/plain": [
              "Checkbox(value=False, description='AdaBoostClassifier(n_estimators=75, random_state=0)', indent=False)"
            ],
            "application/vnd.jupyter.widget-view+json": {
              "version_major": 2,
              "version_minor": 0,
              "model_id": "fc9f138faf49417e9f98d313f58ec799"
            }
          },
          "metadata": {}
        },
        {
          "output_type": "display_data",
          "data": {
            "text/plain": [
              "Checkbox(value=False, description='GradientBoostingClassifier(random_state=0)', indent=False)"
            ],
            "application/vnd.jupyter.widget-view+json": {
              "version_major": 2,
              "version_minor": 0,
              "model_id": "11c88f7f3af54d4c9308370d820c69b0"
            }
          },
          "metadata": {}
        },
        {
          "output_type": "display_data",
          "data": {
            "text/plain": [
              "Checkbox(value=False, description='GradientBoostingClassifier(n_estimators=172, random_state=0)', indent=False…"
            ],
            "application/vnd.jupyter.widget-view+json": {
              "version_major": 2,
              "version_minor": 0,
              "model_id": "a530176ec42c4918888025332aa1f649"
            }
          },
          "metadata": {}
        },
        {
          "output_type": "display_data",
          "data": {
            "text/plain": [
              "Checkbox(value=False, description='GradientBoostingClassifier(max_depth=12, random_state=0)', indent=False)"
            ],
            "application/vnd.jupyter.widget-view+json": {
              "version_major": 2,
              "version_minor": 0,
              "model_id": "a5e4642e89464bce8d1fdd0130c04168"
            }
          },
          "metadata": {}
        },
        {
          "output_type": "display_data",
          "data": {
            "text/plain": [
              "Checkbox(value=False, description='GradientBoostingClassifier(max_depth=12, n_estimators=172, random_state=0)'…"
            ],
            "application/vnd.jupyter.widget-view+json": {
              "version_major": 2,
              "version_minor": 0,
              "model_id": "61d6fcec9d014137bde34621d793f80f"
            }
          },
          "metadata": {}
        },
        {
          "output_type": "display_data",
          "data": {
            "text/plain": [
              "Checkbox(value=False, description='RandomForestClassifier(random_state=0)', indent=False)"
            ],
            "application/vnd.jupyter.widget-view+json": {
              "version_major": 2,
              "version_minor": 0,
              "model_id": "af03dffe83cc487ea32b743dcae10abe"
            }
          },
          "metadata": {}
        },
        {
          "output_type": "display_data",
          "data": {
            "text/plain": [
              "Checkbox(value=False, description='RandomForestClassifier(n_estimators=61, random_state=0)', indent=False)"
            ],
            "application/vnd.jupyter.widget-view+json": {
              "version_major": 2,
              "version_minor": 0,
              "model_id": "b0d3f24151de44fe9a2a474c46897945"
            }
          },
          "metadata": {}
        },
        {
          "output_type": "display_data",
          "data": {
            "text/plain": [
              "Checkbox(value=False, description='RandomForestClassifier(max_depth=26, random_state=0)', indent=False)"
            ],
            "application/vnd.jupyter.widget-view+json": {
              "version_major": 2,
              "version_minor": 0,
              "model_id": "8a2f0fc91efa4f50a7ce1ebc5618f836"
            }
          },
          "metadata": {}
        },
        {
          "output_type": "display_data",
          "data": {
            "text/plain": [
              "Checkbox(value=False, description='RandomForestClassifier(max_depth=26, n_estimators=61, random_state=0)', ind…"
            ],
            "application/vnd.jupyter.widget-view+json": {
              "version_major": 2,
              "version_minor": 0,
              "model_id": "e60c08308a1c4373b9029a8f46631b6f"
            }
          },
          "metadata": {}
        },
        {
          "output_type": "display_data",
          "data": {
            "text/plain": [
              "Checkbox(value=False, description=\"XGBClassifier(objective='multi:softprob')\", indent=False)"
            ],
            "application/vnd.jupyter.widget-view+json": {
              "version_major": 2,
              "version_minor": 0,
              "model_id": "44ef094bde69470fa528e86993460a26"
            }
          },
          "metadata": {}
        },
        {
          "output_type": "display_data",
          "data": {
            "text/plain": [
              "Checkbox(value=False, description=\"XGBClassifier(max_depth=8, objective='multi:softprob')\", indent=False)"
            ],
            "application/vnd.jupyter.widget-view+json": {
              "version_major": 2,
              "version_minor": 0,
              "model_id": "91f123f3df224f99a1c2203dd6ab95aa"
            }
          },
          "metadata": {}
        },
        {
          "output_type": "display_data",
          "data": {
            "text/plain": [
              "Checkbox(value=False, description=\"XGBClassifier(n_estimators=223, objective='multi:softprob')\", indent=False)"
            ],
            "application/vnd.jupyter.widget-view+json": {
              "version_major": 2,
              "version_minor": 0,
              "model_id": "f74704fa3fc84ce380f1ee717da3998d"
            }
          },
          "metadata": {}
        },
        {
          "output_type": "display_data",
          "data": {
            "text/plain": [
              "Checkbox(value=False, description=\"XGBClassifier(max_depth=8, n_estimators=223, objective='multi:softprob')\", …"
            ],
            "application/vnd.jupyter.widget-view+json": {
              "version_major": 2,
              "version_minor": 0,
              "model_id": "747d0b0f0cb74116943222b8ee6a606c"
            }
          },
          "metadata": {}
        },
        {
          "output_type": "display_data",
          "data": {
            "text/plain": [
              "Checkbox(value=False, description='KNeighborsClassifier()', indent=False)"
            ],
            "application/vnd.jupyter.widget-view+json": {
              "version_major": 2,
              "version_minor": 0,
              "model_id": "c0c698641482431892ca0a38ec368a83"
            }
          },
          "metadata": {}
        },
        {
          "output_type": "display_data",
          "data": {
            "text/plain": [
              "Checkbox(value=False, description='KNeighborsClassifier(n_neighbors=1)', indent=False)"
            ],
            "application/vnd.jupyter.widget-view+json": {
              "version_major": 2,
              "version_minor": 0,
              "model_id": "cd5fa702ff9a4220b70caf82550f28d4"
            }
          },
          "metadata": {}
        },
        {
          "output_type": "display_data",
          "data": {
            "text/plain": [
              "Checkbox(value=False, description='GaussianNB()', indent=False)"
            ],
            "application/vnd.jupyter.widget-view+json": {
              "version_major": 2,
              "version_minor": 0,
              "model_id": "1ea5a05d50234d648ac23c636afa4ed9"
            }
          },
          "metadata": {}
        }
      ]
    },
    {
      "cell_type": "code",
      "source": [
        "\n",
        "for i in range(len(new_keys_5)):\n",
        "  if new_keys_5[i].value ==True:\n",
        "    cm = ConfusionMatrix(models[i], classes=classes)\n",
        "\n",
        "    cm.fit(X_train, y_train)\n",
        "    cm.score(X_train, y_train)\n",
        "    cm.show()\n",
        "    print(\"-------------------------------\")\n",
        "    print(\"-------------------------------\")"
      ],
      "metadata": {
        "id": "jhzRUmq9X4CZ"
      },
      "execution_count": 89,
      "outputs": []
    },
    {
      "cell_type": "markdown",
      "source": [
        "#Result CSV<br>\n",
        "Predicted and Actual Row will be added at the end index"
      ],
      "metadata": {
        "id": "Wvhy6ENJf_oS"
      }
    },
    {
      "cell_type": "code",
      "source": [
        "def reverse_transfrom(my_list):\n",
        "  for i in range(len(my_list)):\n",
        "    if my_list[i] == 0:\n",
        "      my_list[i] = 'Control'\n",
        "    else:\n",
        "      my_list[i] = 'Patient'\n",
        "  return my_list"
      ],
      "metadata": {
        "id": "FA_xBniSgLzZ"
      },
      "execution_count": 90,
      "outputs": []
    },
    {
      "cell_type": "code",
      "source": [
        "new_keys_4=models_check_box(models)"
      ],
      "metadata": {
        "id": "iZye8IXAAN9V",
        "colab": {
          "base_uri": "https://localhost:8080/",
          "height": 529,
          "referenced_widgets": [
            "7b027b16a3da463dbb517de43b3d5d2e",
            "9f8a844214984771a64d7454314d83d5",
            "c7aab73a6f444fceb7c4bbc3d645582f",
            "c662c522990e4615ab7ed1f467784a4e",
            "b5c85e11a800455eb8e31f54a9f9bf34",
            "dd69fac2970940888be7ce9321e1161d",
            "e271498fb12946108339cdd1445b7afd",
            "a6768acaf9804296b47b6cda8ae29af3",
            "8c569c16827942d988e0066292f465c1",
            "ae337167cebc45e39fdb4f57c41189e9",
            "40d627b4be6c432b95e58f900b87beb6",
            "7b4512e5863e4ad188d7c542d470dd1e",
            "9ef3b918d94f4feab25a105c02f2d454",
            "fb55dc1f6eb64e3db41ed581f9adc06c",
            "8b2013a481184f2781b9032ff9d8af31",
            "497cb262b05f43178f8deb613624ad18",
            "5a2867dfd8e944c583247bd60bb5d4ef",
            "e30342d7be424dc187003475a6e513c0",
            "c594d4d8852e429b88789583d62740bf",
            "524a5d4698c74c44b0e7dfc2f50c9a4e",
            "56e9bba80d614ed28b57fd8cada90aaa",
            "b24d8129f18d4da9bb5e102122bf6370",
            "6973a413b54f46549214788e66042b33",
            "00ec923d4ca14343a6efbf004aa06ea2",
            "6f8ef783c5014526b77f0e6703b61125",
            "019c6613b0c04574896d9301108d707c",
            "2d6604260a42422788e7ab9c3584709c",
            "3d89cea3c25f475497827d74a1d70476",
            "105eadad025744a0abe37d37d96fbebf",
            "8843e633dc414898ace14b6ccdb4413a",
            "bdc661fb5fe24c269c5b6f2771ef9c91",
            "1bbfd97037294e6b873c6f250d56b5d8",
            "7f9077359f754a6f8eee123a952b8e46",
            "a91a8840301b4521ad810624ae6fcfed",
            "48eb8df2cf4944599b84daeec9ae0a81",
            "64638e1b4c494f83818fe05160472546",
            "294f21aefb6341c79e068455087e16ff",
            "5bcb23eb172a44d9a4cd735082ff9d8a",
            "6d76489184d843a1a4c9c279a875073e",
            "4f6119d7364246e4a07d3906fa096aad",
            "ad5f2950c1104894b44a69bb5c771977",
            "5de6970f59434aa78de0482a75af4faf",
            "2f993a5c62004e679fe065ba3da18d3e",
            "6ab42824cef9462582638d4bca2385dc",
            "1ac046a7ccb64927a4d62dff8f25a746",
            "faf71b6f70f948d283483efcf51e975c",
            "699d5408fa254898856402b44d2478a9",
            "d56c9ab0f4b84e64aca13cbdcca5afbf",
            "c689f27daf1e4ec6b1a02acada30fc69",
            "404fd51f850b4cdea6a016e4406519ef",
            "9b2b41e8f4924911bf5e2c484b50a025"
          ]
        },
        "outputId": "d2d39077-110f-47a5-aa93-d8ab28f0cd50"
      },
      "execution_count": 91,
      "outputs": [
        {
          "output_type": "display_data",
          "data": {
            "text/plain": [
              "Checkbox(value=False, description='AdaBoostClassifier(random_state=0)', indent=False)"
            ],
            "application/vnd.jupyter.widget-view+json": {
              "version_major": 2,
              "version_minor": 0,
              "model_id": "7b027b16a3da463dbb517de43b3d5d2e"
            }
          },
          "metadata": {}
        },
        {
          "output_type": "display_data",
          "data": {
            "text/plain": [
              "Checkbox(value=False, description='AdaBoostClassifier(n_estimators=75, random_state=0)', indent=False)"
            ],
            "application/vnd.jupyter.widget-view+json": {
              "version_major": 2,
              "version_minor": 0,
              "model_id": "c662c522990e4615ab7ed1f467784a4e"
            }
          },
          "metadata": {}
        },
        {
          "output_type": "display_data",
          "data": {
            "text/plain": [
              "Checkbox(value=False, description='GradientBoostingClassifier(random_state=0)', indent=False)"
            ],
            "application/vnd.jupyter.widget-view+json": {
              "version_major": 2,
              "version_minor": 0,
              "model_id": "e271498fb12946108339cdd1445b7afd"
            }
          },
          "metadata": {}
        },
        {
          "output_type": "display_data",
          "data": {
            "text/plain": [
              "Checkbox(value=False, description='GradientBoostingClassifier(n_estimators=172, random_state=0)', indent=False…"
            ],
            "application/vnd.jupyter.widget-view+json": {
              "version_major": 2,
              "version_minor": 0,
              "model_id": "ae337167cebc45e39fdb4f57c41189e9"
            }
          },
          "metadata": {}
        },
        {
          "output_type": "display_data",
          "data": {
            "text/plain": [
              "Checkbox(value=False, description='GradientBoostingClassifier(max_depth=12, random_state=0)', indent=False)"
            ],
            "application/vnd.jupyter.widget-view+json": {
              "version_major": 2,
              "version_minor": 0,
              "model_id": "9ef3b918d94f4feab25a105c02f2d454"
            }
          },
          "metadata": {}
        },
        {
          "output_type": "display_data",
          "data": {
            "text/plain": [
              "Checkbox(value=False, description='GradientBoostingClassifier(max_depth=12, n_estimators=172, random_state=0)'…"
            ],
            "application/vnd.jupyter.widget-view+json": {
              "version_major": 2,
              "version_minor": 0,
              "model_id": "497cb262b05f43178f8deb613624ad18"
            }
          },
          "metadata": {}
        },
        {
          "output_type": "display_data",
          "data": {
            "text/plain": [
              "Checkbox(value=False, description='RandomForestClassifier(random_state=0)', indent=False)"
            ],
            "application/vnd.jupyter.widget-view+json": {
              "version_major": 2,
              "version_minor": 0,
              "model_id": "c594d4d8852e429b88789583d62740bf"
            }
          },
          "metadata": {}
        },
        {
          "output_type": "display_data",
          "data": {
            "text/plain": [
              "Checkbox(value=False, description='RandomForestClassifier(n_estimators=61, random_state=0)', indent=False)"
            ],
            "application/vnd.jupyter.widget-view+json": {
              "version_major": 2,
              "version_minor": 0,
              "model_id": "b24d8129f18d4da9bb5e102122bf6370"
            }
          },
          "metadata": {}
        },
        {
          "output_type": "display_data",
          "data": {
            "text/plain": [
              "Checkbox(value=False, description='RandomForestClassifier(max_depth=26, random_state=0)', indent=False)"
            ],
            "application/vnd.jupyter.widget-view+json": {
              "version_major": 2,
              "version_minor": 0,
              "model_id": "6f8ef783c5014526b77f0e6703b61125"
            }
          },
          "metadata": {}
        },
        {
          "output_type": "display_data",
          "data": {
            "text/plain": [
              "Checkbox(value=False, description='RandomForestClassifier(max_depth=26, n_estimators=61, random_state=0)', ind…"
            ],
            "application/vnd.jupyter.widget-view+json": {
              "version_major": 2,
              "version_minor": 0,
              "model_id": "3d89cea3c25f475497827d74a1d70476"
            }
          },
          "metadata": {}
        },
        {
          "output_type": "display_data",
          "data": {
            "text/plain": [
              "Checkbox(value=False, description=\"XGBClassifier(objective='multi:softprob')\", indent=False)"
            ],
            "application/vnd.jupyter.widget-view+json": {
              "version_major": 2,
              "version_minor": 0,
              "model_id": "bdc661fb5fe24c269c5b6f2771ef9c91"
            }
          },
          "metadata": {}
        },
        {
          "output_type": "display_data",
          "data": {
            "text/plain": [
              "Checkbox(value=False, description=\"XGBClassifier(max_depth=8, objective='multi:softprob')\", indent=False)"
            ],
            "application/vnd.jupyter.widget-view+json": {
              "version_major": 2,
              "version_minor": 0,
              "model_id": "a91a8840301b4521ad810624ae6fcfed"
            }
          },
          "metadata": {}
        },
        {
          "output_type": "display_data",
          "data": {
            "text/plain": [
              "Checkbox(value=False, description=\"XGBClassifier(n_estimators=223, objective='multi:softprob')\", indent=False)"
            ],
            "application/vnd.jupyter.widget-view+json": {
              "version_major": 2,
              "version_minor": 0,
              "model_id": "294f21aefb6341c79e068455087e16ff"
            }
          },
          "metadata": {}
        },
        {
          "output_type": "display_data",
          "data": {
            "text/plain": [
              "Checkbox(value=False, description=\"XGBClassifier(max_depth=8, n_estimators=223, objective='multi:softprob')\", …"
            ],
            "application/vnd.jupyter.widget-view+json": {
              "version_major": 2,
              "version_minor": 0,
              "model_id": "4f6119d7364246e4a07d3906fa096aad"
            }
          },
          "metadata": {}
        },
        {
          "output_type": "display_data",
          "data": {
            "text/plain": [
              "Checkbox(value=False, description='KNeighborsClassifier()', indent=False)"
            ],
            "application/vnd.jupyter.widget-view+json": {
              "version_major": 2,
              "version_minor": 0,
              "model_id": "2f993a5c62004e679fe065ba3da18d3e"
            }
          },
          "metadata": {}
        },
        {
          "output_type": "display_data",
          "data": {
            "text/plain": [
              "Checkbox(value=False, description='KNeighborsClassifier(n_neighbors=1)', indent=False)"
            ],
            "application/vnd.jupyter.widget-view+json": {
              "version_major": 2,
              "version_minor": 0,
              "model_id": "faf71b6f70f948d283483efcf51e975c"
            }
          },
          "metadata": {}
        },
        {
          "output_type": "display_data",
          "data": {
            "text/plain": [
              "Checkbox(value=False, description='GaussianNB()', indent=False)"
            ],
            "application/vnd.jupyter.widget-view+json": {
              "version_major": 2,
              "version_minor": 0,
              "model_id": "c689f27daf1e4ec6b1a02acada30fc69"
            }
          },
          "metadata": {}
        }
      ]
    },
    {
      "cell_type": "code",
      "source": [
        "for i in range(len(new_keys_4)):\n",
        "  if new_keys_4[i].value ==True:\n",
        "    temp=X_test_with_subject\n",
        "\n",
        "    prediction_cls = reverse_transfrom(list(models[i].predict(X_test[0:])))\n",
        "    actual_cls = reverse_transfrom(list(y_test[0:]))\n",
        "\n",
        "    temp[\"Actual\"] = actual_cls\n",
        "    temp[\"Predicted\"] = prediction_cls\n",
        "\n",
        "    temp.to_csv(str(models[i])+\".csv\")"
      ],
      "metadata": {
        "id": "aGw3UapChSZE"
      },
      "execution_count": 92,
      "outputs": []
    },
    {
      "cell_type": "markdown",
      "source": [
        "#ROC Comparaing Machine Learning Models"
      ],
      "metadata": {
        "id": "bwOJ36hchWiN"
      }
    },
    {
      "cell_type": "code",
      "source": [
        "\n",
        "def ROC(mod,X_t,y_t,graph_feat):\n",
        "  r_probs = [0 for _ in range(len(y_t))]\n",
        "\n",
        "  model_probs = []\n",
        "\n",
        "\n",
        "  for i in mod:\n",
        "    model_probs.append(i.predict_proba(X_t))\n",
        "\n",
        "\n",
        "  model_probs2=[]\n",
        "\n",
        "  for i in model_probs:\n",
        "    model_probs2.append(i[:,1])\n",
        "\n",
        "\n",
        "  from sklearn.metrics import roc_curve, roc_auc_score\n",
        "\n",
        "  model_auc=[]\n",
        "  r_auc = roc_auc_score(y_t, r_probs)\n",
        "\n",
        "  for i in model_probs2:\n",
        "    model_auc.append(roc_auc_score(y_t,i))\n",
        "\n",
        "\n",
        "  fpr_tpr=[]\n",
        "  r_fpr, r_tpr, _ = roc_curve(y_t, r_probs)\n",
        "\n",
        "  for i in model_probs2:\n",
        "    fpr, tpr, _ = roc_curve(y_t, i)\n",
        "    fpr_tpr.append((fpr,tpr))\n",
        "\n",
        "  import matplotlib.pyplot as plt\n",
        "  plt.plot(r_fpr, r_tpr, linestyle='--', label='Random prediction (AUROC = %0.3f)' % r_auc)\n",
        "\n",
        "  for i in range(len(model_auc)):\n",
        "    plt.plot(fpr_tpr[i][0], fpr_tpr[i][1], marker='.', label=str(mod[i])+' (AUROC = %0.3f)' % model_auc[i])\n",
        "\n",
        "  # Title\n",
        "  plt.title('ROC Plot Testing',fontsize= graph_feat[\"Title Size\"], fontweight=graph_feat[\"Title Fontweight\"])\n",
        "  plt.xlabel('False Positive Rate',fontweight=graph_feat[\"X axis Label Fontweight\"],fontsize=graph_feat[\"X axis Label Font Size\"])\n",
        "  plt.ylabel('True Positive Rate',fontweight=graph_feat[\"Y axis Label Fontweight\"],fontsize=graph_feat[\"Y axis Label Font Size\"])\n",
        "  \n",
        "  plt.legend( \n",
        "           prop = {'size' : graph_feat[\"legend Font Size\"]}, \n",
        "           loc = graph_feat[\"legend Position\"])\n",
        "  \n",
        "  fig = plt.gcf()\n",
        "  fig.set_size_inches(graph_feat[\"Fig Width (inches)\"], graph_feat[\"Fig Height (inches)\"])\n",
        "  fig.savefig(graph_feat[\"Fig Saving Name\"], dpi=graph_feat[\"dpi\"])\n",
        "  plt.show()"
      ],
      "metadata": {
        "id": "5XCVUOkc23oX"
      },
      "execution_count": 94,
      "outputs": []
    },
    {
      "cell_type": "markdown",
      "source": [
        "***Training ROC***<br>\n",
        "Chosse the Models"
      ],
      "metadata": {
        "id": "zDbik7Nf6vq0"
      }
    },
    {
      "cell_type": "code",
      "source": [
        "new_keys_2=models_check_box(models)"
      ],
      "metadata": {
        "id": "Co9nhyU864CC",
        "colab": {
          "base_uri": "https://localhost:8080/",
          "height": 529,
          "referenced_widgets": [
            "56c4afeee87645c38945be09bf8a7fd8",
            "29322c8bc3b04aa1aa70d166df6fb050",
            "c9950d53d7a04373869515886b09fed1",
            "57c4c8bcbbd54d13a1fb5e5eac891965",
            "1ba66e68e48e478bad8847636b10438f",
            "21742b255d96450ea209b3645916602f",
            "f23b486841294113af963ac0e6c5d5a7",
            "e274302f10634602a00e042f4ed05cd0",
            "98cab6dbae704900bcd60e58f887dd3c",
            "ffb1947031824e189e0d5aae08d39b6e",
            "4b8270ff0b334d65b7cafe6dea3f7b48",
            "e69e44185e614eb4b2fe4655c5809291",
            "762e38f143f34886a6464ea3e44656b8",
            "b49fce6683cf4ef7bff0f4bffd88a993",
            "b9ef2dff104a4ede9a7018d2d1b52824",
            "fd7155a4b0cb4be8896093333b94efea",
            "4018c55b6a5a4adc9963cc6c89e2e430",
            "6e717dd903724fb7a32ee3bb8ce1d49b",
            "c006a32ee7a243eabca09e5a76cb45c7",
            "642bf87c832e43f995b1f23f7cec630e",
            "bec9c779f0e7491d955a5baf7264acb8",
            "ebcc1235d856411d8bcaeea29e69029f",
            "5faa73baa204494b96d3c4089eedb03e",
            "75c8638c5ed543ccb99e42ac466ba669",
            "000de210b730409f81df4130a7c56106",
            "a593f5f3da0749e09ac5c74f18831496",
            "e51a5276b04e4ade8d038f4294f5565b",
            "dc7b4d3ab2ab47b294a4719de68518a4",
            "6c76c848e2664f7484bb11ce4609b5cc",
            "3abfc38002b648888cdf5df910b3db12",
            "48978d3bbf23417489ea3580ab7af292",
            "bae9221cac494c7bac9e725d71c441c7",
            "342271d55eba43528e726ca6878fe3bc",
            "160050329e314aa794f2bf1c0493d907",
            "f66f9e0415044c2d9179493bbfed975b",
            "d537cc117d614c3f90509dac04b514a6",
            "c8336474393344e7a2b6c4b1c0ddfdf0",
            "5f9f6c76392f44279fa991065e3f471c",
            "112089b20fd54caa8c07e860fac374be",
            "1e6923217c474b269801c8b9a461fb3d",
            "1affc42620cd448e89073b146ab3046a",
            "7a77754886d849d1a6f4a42a1b9b1ced",
            "b26bf360376b47a4ad755a49dd969099",
            "4671a15102054cbcb2fe0ac1287f198b",
            "ec4e1bf981a2408f9f5e2f0cab329e09",
            "054fc2678210417f91bf374ef8d07a49",
            "c230559b14c0443cbe768cfb56ac92c7",
            "bbc31fbb4fba43f1a9cf4fc48098d08c",
            "cab2d14082b44aad81bc00e4af86273d",
            "82b74049fc8742c4840b8831168a30af",
            "97b08a48906541dd9e5dd8dfd76d5516"
          ]
        },
        "outputId": "c6cfa730-039a-4af8-b1e0-aa110ef1bc1f"
      },
      "execution_count": 95,
      "outputs": [
        {
          "output_type": "display_data",
          "data": {
            "text/plain": [
              "Checkbox(value=False, description='AdaBoostClassifier(random_state=0)', indent=False)"
            ],
            "application/vnd.jupyter.widget-view+json": {
              "version_major": 2,
              "version_minor": 0,
              "model_id": "56c4afeee87645c38945be09bf8a7fd8"
            }
          },
          "metadata": {}
        },
        {
          "output_type": "display_data",
          "data": {
            "text/plain": [
              "Checkbox(value=False, description='AdaBoostClassifier(n_estimators=75, random_state=0)', indent=False)"
            ],
            "application/vnd.jupyter.widget-view+json": {
              "version_major": 2,
              "version_minor": 0,
              "model_id": "57c4c8bcbbd54d13a1fb5e5eac891965"
            }
          },
          "metadata": {}
        },
        {
          "output_type": "display_data",
          "data": {
            "text/plain": [
              "Checkbox(value=False, description='GradientBoostingClassifier(random_state=0)', indent=False)"
            ],
            "application/vnd.jupyter.widget-view+json": {
              "version_major": 2,
              "version_minor": 0,
              "model_id": "f23b486841294113af963ac0e6c5d5a7"
            }
          },
          "metadata": {}
        },
        {
          "output_type": "display_data",
          "data": {
            "text/plain": [
              "Checkbox(value=False, description='GradientBoostingClassifier(n_estimators=172, random_state=0)', indent=False…"
            ],
            "application/vnd.jupyter.widget-view+json": {
              "version_major": 2,
              "version_minor": 0,
              "model_id": "ffb1947031824e189e0d5aae08d39b6e"
            }
          },
          "metadata": {}
        },
        {
          "output_type": "display_data",
          "data": {
            "text/plain": [
              "Checkbox(value=False, description='GradientBoostingClassifier(max_depth=12, random_state=0)', indent=False)"
            ],
            "application/vnd.jupyter.widget-view+json": {
              "version_major": 2,
              "version_minor": 0,
              "model_id": "762e38f143f34886a6464ea3e44656b8"
            }
          },
          "metadata": {}
        },
        {
          "output_type": "display_data",
          "data": {
            "text/plain": [
              "Checkbox(value=False, description='GradientBoostingClassifier(max_depth=12, n_estimators=172, random_state=0)'…"
            ],
            "application/vnd.jupyter.widget-view+json": {
              "version_major": 2,
              "version_minor": 0,
              "model_id": "fd7155a4b0cb4be8896093333b94efea"
            }
          },
          "metadata": {}
        },
        {
          "output_type": "display_data",
          "data": {
            "text/plain": [
              "Checkbox(value=False, description='RandomForestClassifier(random_state=0)', indent=False)"
            ],
            "application/vnd.jupyter.widget-view+json": {
              "version_major": 2,
              "version_minor": 0,
              "model_id": "c006a32ee7a243eabca09e5a76cb45c7"
            }
          },
          "metadata": {}
        },
        {
          "output_type": "display_data",
          "data": {
            "text/plain": [
              "Checkbox(value=False, description='RandomForestClassifier(n_estimators=61, random_state=0)', indent=False)"
            ],
            "application/vnd.jupyter.widget-view+json": {
              "version_major": 2,
              "version_minor": 0,
              "model_id": "ebcc1235d856411d8bcaeea29e69029f"
            }
          },
          "metadata": {}
        },
        {
          "output_type": "display_data",
          "data": {
            "text/plain": [
              "Checkbox(value=False, description='RandomForestClassifier(max_depth=26, random_state=0)', indent=False)"
            ],
            "application/vnd.jupyter.widget-view+json": {
              "version_major": 2,
              "version_minor": 0,
              "model_id": "000de210b730409f81df4130a7c56106"
            }
          },
          "metadata": {}
        },
        {
          "output_type": "display_data",
          "data": {
            "text/plain": [
              "Checkbox(value=False, description='RandomForestClassifier(max_depth=26, n_estimators=61, random_state=0)', ind…"
            ],
            "application/vnd.jupyter.widget-view+json": {
              "version_major": 2,
              "version_minor": 0,
              "model_id": "dc7b4d3ab2ab47b294a4719de68518a4"
            }
          },
          "metadata": {}
        },
        {
          "output_type": "display_data",
          "data": {
            "text/plain": [
              "Checkbox(value=False, description=\"XGBClassifier(objective='multi:softprob')\", indent=False)"
            ],
            "application/vnd.jupyter.widget-view+json": {
              "version_major": 2,
              "version_minor": 0,
              "model_id": "48978d3bbf23417489ea3580ab7af292"
            }
          },
          "metadata": {}
        },
        {
          "output_type": "display_data",
          "data": {
            "text/plain": [
              "Checkbox(value=False, description=\"XGBClassifier(max_depth=8, objective='multi:softprob')\", indent=False)"
            ],
            "application/vnd.jupyter.widget-view+json": {
              "version_major": 2,
              "version_minor": 0,
              "model_id": "160050329e314aa794f2bf1c0493d907"
            }
          },
          "metadata": {}
        },
        {
          "output_type": "display_data",
          "data": {
            "text/plain": [
              "Checkbox(value=False, description=\"XGBClassifier(n_estimators=223, objective='multi:softprob')\", indent=False)"
            ],
            "application/vnd.jupyter.widget-view+json": {
              "version_major": 2,
              "version_minor": 0,
              "model_id": "c8336474393344e7a2b6c4b1c0ddfdf0"
            }
          },
          "metadata": {}
        },
        {
          "output_type": "display_data",
          "data": {
            "text/plain": [
              "Checkbox(value=False, description=\"XGBClassifier(max_depth=8, n_estimators=223, objective='multi:softprob')\", …"
            ],
            "application/vnd.jupyter.widget-view+json": {
              "version_major": 2,
              "version_minor": 0,
              "model_id": "1e6923217c474b269801c8b9a461fb3d"
            }
          },
          "metadata": {}
        },
        {
          "output_type": "display_data",
          "data": {
            "text/plain": [
              "Checkbox(value=False, description='KNeighborsClassifier()', indent=False)"
            ],
            "application/vnd.jupyter.widget-view+json": {
              "version_major": 2,
              "version_minor": 0,
              "model_id": "b26bf360376b47a4ad755a49dd969099"
            }
          },
          "metadata": {}
        },
        {
          "output_type": "display_data",
          "data": {
            "text/plain": [
              "Checkbox(value=False, description='KNeighborsClassifier(n_neighbors=1)', indent=False)"
            ],
            "application/vnd.jupyter.widget-view+json": {
              "version_major": 2,
              "version_minor": 0,
              "model_id": "054fc2678210417f91bf374ef8d07a49"
            }
          },
          "metadata": {}
        },
        {
          "output_type": "display_data",
          "data": {
            "text/plain": [
              "Checkbox(value=False, description='GaussianNB()', indent=False)"
            ],
            "application/vnd.jupyter.widget-view+json": {
              "version_major": 2,
              "version_minor": 0,
              "model_id": "cab2d14082b44aad81bc00e4af86273d"
            }
          },
          "metadata": {}
        }
      ]
    },
    {
      "cell_type": "markdown",
      "source": [
        "\n",
        "Change  the given dictionary of graph feature for desire graph."
      ],
      "metadata": {
        "id": "Xz5G8tcr6Ulx"
      }
    },
    {
      "cell_type": "code",
      "source": [
        "graph_feat={\n",
        "    \"Title Size\":18,\n",
        "    \"Title Fontweight\":'bold',\n",
        "\n",
        "    \"legend Font Size\": 14,\n",
        "    \"legend Position\": \"lower right\",\n",
        "\n",
        "    \"X axis Label Font Size\":16,\n",
        "    \"X axis Label Fontweight\":'bold',\n",
        "\n",
        "    \"Y axis Label Font Size\":16,\n",
        "    \"Y axis Label Fontweight\":'bold',\n",
        "\n",
        "    \"Fig Height (inches)\":10.8,\n",
        "    \"Fig Width (inches)\":18.8,\n",
        "\n",
        "    \"Fig Saving Name\": \"ROC_training.png\",\n",
        "    \"dpi\":100\n",
        "\n",
        "}\n",
        "\n",
        "mod=[]\n",
        "for i in range(len(new_keys_2)):\n",
        "  if new_keys_2[i].value ==True:\n",
        "    mod.append(models[i])\n",
        "\n",
        "ROC(mod,X_train,y_train,graph_feat)"
      ],
      "metadata": {
        "id": "6VAJMmn-97p3",
        "colab": {
          "base_uri": "https://localhost:8080/",
          "height": 362
        },
        "outputId": "59925efb-d41a-4706-f01b-83d44318542b"
      },
      "execution_count": 96,
      "outputs": [
        {
          "output_type": "error",
          "ename": "ValueError",
          "evalue": "ignored",
          "traceback": [
            "\u001b[0;31m---------------------------------------------------------------------------\u001b[0m",
            "\u001b[0;31mValueError\u001b[0m                                Traceback (most recent call last)",
            "\u001b[0;32m<ipython-input-96-fed6c991fa07>\u001b[0m in \u001b[0;36m<module>\u001b[0;34m\u001b[0m\n\u001b[1;32m     25\u001b[0m     \u001b[0mmod\u001b[0m\u001b[0;34m.\u001b[0m\u001b[0mappend\u001b[0m\u001b[0;34m(\u001b[0m\u001b[0mmodels\u001b[0m\u001b[0;34m[\u001b[0m\u001b[0mi\u001b[0m\u001b[0;34m]\u001b[0m\u001b[0;34m)\u001b[0m\u001b[0;34m\u001b[0m\u001b[0;34m\u001b[0m\u001b[0m\n\u001b[1;32m     26\u001b[0m \u001b[0;34m\u001b[0m\u001b[0m\n\u001b[0;32m---> 27\u001b[0;31m \u001b[0mROC\u001b[0m\u001b[0;34m(\u001b[0m\u001b[0mmod\u001b[0m\u001b[0;34m,\u001b[0m\u001b[0mX_train\u001b[0m\u001b[0;34m,\u001b[0m\u001b[0my_train\u001b[0m\u001b[0;34m,\u001b[0m\u001b[0mgraph_feat\u001b[0m\u001b[0;34m)\u001b[0m\u001b[0;34m\u001b[0m\u001b[0;34m\u001b[0m\u001b[0m\n\u001b[0m",
            "\u001b[0;32m<ipython-input-94-6222d4362bb2>\u001b[0m in \u001b[0;36mROC\u001b[0;34m(mod, X_t, y_t, graph_feat)\u001b[0m\n\u001b[1;32m     18\u001b[0m \u001b[0;34m\u001b[0m\u001b[0m\n\u001b[1;32m     19\u001b[0m   \u001b[0mmodel_auc\u001b[0m\u001b[0;34m=\u001b[0m\u001b[0;34m[\u001b[0m\u001b[0;34m]\u001b[0m\u001b[0;34m\u001b[0m\u001b[0;34m\u001b[0m\u001b[0m\n\u001b[0;32m---> 20\u001b[0;31m   \u001b[0mr_auc\u001b[0m \u001b[0;34m=\u001b[0m \u001b[0mroc_auc_score\u001b[0m\u001b[0;34m(\u001b[0m\u001b[0my_t\u001b[0m\u001b[0;34m,\u001b[0m \u001b[0mr_probs\u001b[0m\u001b[0;34m)\u001b[0m\u001b[0;34m\u001b[0m\u001b[0;34m\u001b[0m\u001b[0m\n\u001b[0m\u001b[1;32m     21\u001b[0m \u001b[0;34m\u001b[0m\u001b[0m\n\u001b[1;32m     22\u001b[0m   \u001b[0;32mfor\u001b[0m \u001b[0mi\u001b[0m \u001b[0;32min\u001b[0m \u001b[0mmodel_probs2\u001b[0m\u001b[0;34m:\u001b[0m\u001b[0;34m\u001b[0m\u001b[0;34m\u001b[0m\u001b[0m\n",
            "\u001b[0;32m/usr/local/lib/python3.8/dist-packages/sklearn/metrics/_ranking.py\u001b[0m in \u001b[0;36mroc_auc_score\u001b[0;34m(y_true, y_score, average, sample_weight, max_fpr, multi_class, labels)\u001b[0m\n\u001b[1;32m    558\u001b[0m             )\n\u001b[1;32m    559\u001b[0m         \u001b[0;32mif\u001b[0m \u001b[0mmulti_class\u001b[0m \u001b[0;34m==\u001b[0m \u001b[0;34m\"raise\"\u001b[0m\u001b[0;34m:\u001b[0m\u001b[0;34m\u001b[0m\u001b[0;34m\u001b[0m\u001b[0m\n\u001b[0;32m--> 560\u001b[0;31m             \u001b[0;32mraise\u001b[0m \u001b[0mValueError\u001b[0m\u001b[0;34m(\u001b[0m\u001b[0;34m\"multi_class must be in ('ovo', 'ovr')\"\u001b[0m\u001b[0;34m)\u001b[0m\u001b[0;34m\u001b[0m\u001b[0;34m\u001b[0m\u001b[0m\n\u001b[0m\u001b[1;32m    561\u001b[0m         return _multiclass_roc_auc_score(\n\u001b[1;32m    562\u001b[0m             \u001b[0my_true\u001b[0m\u001b[0;34m,\u001b[0m \u001b[0my_score\u001b[0m\u001b[0;34m,\u001b[0m \u001b[0mlabels\u001b[0m\u001b[0;34m,\u001b[0m \u001b[0mmulti_class\u001b[0m\u001b[0;34m,\u001b[0m \u001b[0maverage\u001b[0m\u001b[0;34m,\u001b[0m \u001b[0msample_weight\u001b[0m\u001b[0;34m\u001b[0m\u001b[0;34m\u001b[0m\u001b[0m\n",
            "\u001b[0;31mValueError\u001b[0m: multi_class must be in ('ovo', 'ovr')"
          ]
        }
      ]
    },
    {
      "cell_type": "markdown",
      "source": [
        "\n",
        "\n",
        "---\n",
        "\n"
      ],
      "metadata": {
        "id": "I_zBmlgG9x-q"
      }
    },
    {
      "cell_type": "markdown",
      "source": [
        "***Testing ROC***<br>\n",
        "Chosse the Models"
      ],
      "metadata": {
        "id": "fGFXoWwH9SX6"
      }
    },
    {
      "cell_type": "code",
      "source": [
        "new_keys_3=models_check_box(models)"
      ],
      "metadata": {
        "id": "XuGVSd3M9hEI"
      },
      "execution_count": null,
      "outputs": []
    },
    {
      "cell_type": "markdown",
      "source": [
        "\n",
        "Change  the given dictionary of graph feature for desire graph."
      ],
      "metadata": {
        "id": "whZYw0Q-9gke"
      }
    },
    {
      "cell_type": "code",
      "source": [
        "graph_feat={\n",
        "    \"Title Size\":18,\n",
        "    \"Title Fontweight\":'bold',\n",
        "\n",
        "    \"legend Font Size\": 14,\n",
        "    \"legend Position\": \"lower right\",\n",
        "\n",
        "    \"X axis Label Font Size\":16,\n",
        "    \"X axis Label Fontweight\":'bold',\n",
        "\n",
        "    \"Y axis Label Font Size\":16,\n",
        "    \"Y axis Label Fontweight\":'bold',\n",
        "\n",
        "    \"Fig Height (inches)\":10.8,\n",
        "    \"Fig Width (inches)\":18.8,\n",
        "\n",
        "    \"Fig Saving Name\": \"ROC_testing.png\",\n",
        "    \"dpi\":100\n",
        "\n",
        "}\n",
        "\n",
        "mod=[]\n",
        "for i in range(len(new_keys_3)):\n",
        "  if new_keys_3[i].value ==True:\n",
        "    mod.append(models[i])\n",
        "\n",
        "ROC(mod,X_test,y_test,graph_feat)"
      ],
      "metadata": {
        "id": "hsYH7Q6fkbSh"
      },
      "execution_count": null,
      "outputs": []
    },
    {
      "cell_type": "markdown",
      "source": [
        "#ROC FOR MULTICLASS"
      ],
      "metadata": {
        "id": "igsy215JGzfg"
      }
    },
    {
      "cell_type": "code",
      "source": [
        "!pip install plotly==5.11.0\n",
        "!pip install -U kaleido\n",
        "\n",
        "\n",
        "import plotly.graph_objects as go\n",
        "import plotly.express as px\n",
        "import numpy as np\n",
        "import pandas as pd\n",
        "from sklearn.linear_model import LogisticRegression\n",
        "from sklearn.metrics import roc_curve, roc_auc_score\n",
        "import pandas as pd\n",
        "import matplotlib.pyplot as plt\n",
        "\n",
        "def ploty_ROC(model,X,y,fig_name):\n",
        "    \n",
        "    lebel_dict={\n",
        "    0: 'Reading',\n",
        "    1: 'Resting',\n",
        "    2: 'Walking',\n",
        "    3: 'Working'\n",
        "    }\n",
        "\n",
        "    y_scores = model.predict_proba(X)\n",
        "\n",
        "    y_onehot = pd.get_dummies(y, columns=model.classes_)\n",
        "\n",
        "    fig = go.Figure()\n",
        "    fig.add_shape(\n",
        "        type='line', line=dict(dash='dash'),\n",
        "        x0=0, x1=1, y0=0, y1=1\n",
        "    )\n",
        "\n",
        "    for i in range(y_scores.shape[1]):\n",
        "        y_true = y_onehot.iloc[:, i]\n",
        "        y_score = y_scores[:, i]\n",
        "\n",
        "        fpr, tpr, _ = roc_curve(y_true, y_score)\n",
        "        auc_score = roc_auc_score(y_true, y_score)\n",
        "        name = f\"{lebel_dict[y_onehot.columns[i]]} (AUC={auc_score:.2f})\"\n",
        "        fig.add_trace(go.Scatter(x=fpr, y=tpr, name=name, mode='lines'))\n",
        "\n",
        "    fig.update_layout(\n",
        "        xaxis_title='False Positive Rate',\n",
        "        yaxis_title='True Positive Rate',\n",
        "        yaxis=dict(scaleanchor=\"x\", scaleratio=1),\n",
        "        xaxis=dict(constrain='domain'),\n",
        "        width=1000, height=1000,\n",
        "        font=dict(\n",
        "            family=\"Courier New, monospace\",\n",
        "            size=20,\n",
        "            color=\"BLack\"\n",
        "        ),\n",
        "        legend=dict(\n",
        "            x=0.67,\n",
        "            y=0.05,\n",
        "            traceorder=\"reversed\",\n",
        "            title_font_family=\"Times New Roman\",\n",
        "            font=dict(\n",
        "                family=\"Courier New, monospace\",\n",
        "                size=20,\n",
        "                color=\"black\"\n",
        "            ),\n",
        "            bgcolor=\"LightSteelBlue\",\n",
        "            bordercolor=\"White\",\n",
        "            borderwidth=2\n",
        "        )\n",
        "    )\n",
        "    fig.show()\n",
        "    fig.write_image(fig_name+\".png\")"
      ],
      "metadata": {
        "colab": {
          "base_uri": "https://localhost:8080/"
        },
        "id": "UoPKNwlqG3ge",
        "outputId": "b6954311-8fb4-45e2-cde8-2d79f126d777"
      },
      "execution_count": 97,
      "outputs": [
        {
          "output_type": "stream",
          "name": "stdout",
          "text": [
            "Looking in indexes: https://pypi.org/simple, https://us-python.pkg.dev/colab-wheels/public/simple/\n",
            "Collecting plotly==5.11.0\n",
            "  Downloading plotly-5.11.0-py2.py3-none-any.whl (15.3 MB)\n",
            "\u001b[K     |████████████████████████████████| 15.3 MB 5.2 MB/s \n",
            "\u001b[?25hRequirement already satisfied: tenacity>=6.2.0 in /usr/local/lib/python3.8/dist-packages (from plotly==5.11.0) (8.1.0)\n",
            "Installing collected packages: plotly\n",
            "  Attempting uninstall: plotly\n",
            "    Found existing installation: plotly 5.5.0\n",
            "    Uninstalling plotly-5.5.0:\n",
            "      Successfully uninstalled plotly-5.5.0\n",
            "Successfully installed plotly-5.11.0\n",
            "Looking in indexes: https://pypi.org/simple, https://us-python.pkg.dev/colab-wheels/public/simple/\n",
            "Collecting kaleido\n",
            "  Downloading kaleido-0.2.1-py2.py3-none-manylinux1_x86_64.whl (79.9 MB)\n",
            "\u001b[K     |████████████████████████████████| 79.9 MB 114 kB/s \n",
            "\u001b[?25hInstalling collected packages: kaleido\n",
            "Successfully installed kaleido-0.2.1\n"
          ]
        }
      ]
    },
    {
      "cell_type": "markdown",
      "source": [
        "#Cross_val_score function"
      ],
      "metadata": {
        "id": "XtgWbvJsEwMt"
      }
    },
    {
      "cell_type": "code",
      "source": [
        "from sklearn.model_selection import cross_val_score\n",
        "\n",
        "k=5\n",
        "for i in result:\n",
        "  print(i[0],\" -> Accuracy: \",result[i])\n",
        "  l=list(cross_val_score(i[0],X_new, y_new,cv=k))\n",
        "  avg=sum(l)/k\n",
        "  print(i[0],\" -> AVG Accurecy After CV: \"+str(avg)+ \" (For \"+str(k)+\" Fold)\")\n",
        "  print(\"--------------------------------------------------------------------------\")"
      ],
      "metadata": {
        "id": "3unb_F6vE39m"
      },
      "execution_count": null,
      "outputs": []
    },
    {
      "cell_type": "code",
      "source": [
        "\n",
        "\n",
        "def CV_ROC(model,folds,graph_feat):\n",
        "  import matplotlib.pyplot as plt\n",
        "\n",
        "  from sklearn import svm\n",
        "  from sklearn.metrics import auc,roc_curve\n",
        "  from sklearn.metrics import RocCurveDisplay\n",
        "  from sklearn.model_selection import StratifiedKFold\n",
        "\n",
        "\n",
        "  cv = StratifiedKFold(n_splits=folds)\n",
        "\n",
        "\n",
        "\n",
        "  tprs = []\n",
        "  aucs = []\n",
        "  mean_fpr = np.linspace(0,1,100)\n",
        "  i = 1\n",
        "  for train,test in cv.split(X_new.iloc[:,1:], y_new.values):\n",
        "      prediction = model.fit(X_new.iloc[:,1:].values[train], y_new.values[train]).predict_proba(X_new.iloc[:,1:].values[test])\n",
        "      fpr, tpr, t = roc_curve(y_new.values[test], prediction[:, 1])\n",
        "      tprs.append(np.interp(mean_fpr, fpr, tpr))\n",
        "      roc_auc = auc(fpr, tpr)\n",
        "      aucs.append(roc_auc)\n",
        "      plt.plot(fpr, tpr, lw=2, alpha=0.3, label='ROC fold %d (AUC = %0.2f)' % (i, roc_auc))\n",
        "      i= i+1\n",
        "\n",
        "  plt.plot([0,1],[0,1],linestyle = '--',lw = 2,color = 'black')\n",
        "  mean_tpr = np.mean(tprs, axis=0)\n",
        "  mean_auc = auc(mean_fpr, mean_tpr)\n",
        "  plt.plot(mean_fpr, mean_tpr, color='blue',\n",
        "          label=r'Mean ROC (AUC = %0.2f )' % (mean_auc),lw=2, alpha=1)\n",
        "\n",
        "  plt.title('CV-ROC-> '+str(model),fontsize= graph_feat[\"Title Size\"], fontweight=graph_feat[\"Title Fontweight\"])\n",
        "  plt.xlabel('False Positive Rate',fontweight=graph_feat[\"X axis Label Fontweight\"],fontsize=graph_feat[\"X axis Label Font Size\"])\n",
        "  plt.ylabel('True Positive Rate',fontweight=graph_feat[\"Y axis Label Fontweight\"],fontsize=graph_feat[\"Y axis Label Font Size\"])\n",
        "  plt.legend( \n",
        "           prop = {'size' : graph_feat[\"legend Font Size\"]}, \n",
        "           loc = graph_feat[\"legend Position\"])\n",
        "  \n",
        "  fig = plt.gcf()\n",
        "  fig.set_size_inches(graph_feat[\"Fig Width (inches)\"], graph_feat[\"Fig Height (inches)\"])\n",
        "  fig.savefig(graph_feat[\"Fig Saving Name\"], dpi=graph_feat[\"dpi\"])\n",
        "  plt.show()"
      ],
      "metadata": {
        "id": "nndrB1Q18Ele"
      },
      "execution_count": null,
      "outputs": []
    },
    {
      "cell_type": "code",
      "source": [
        "new_keys=models_check_box(models)"
      ],
      "metadata": {
        "id": "kV7r1qnm4G9q"
      },
      "execution_count": null,
      "outputs": []
    },
    {
      "cell_type": "markdown",
      "source": [
        "<font color=\"apple green\">Just mark the above cell to select the Multiple Algorithms for ROC CV graph. <font color=\"sky blue\"><b>Then run the cell below after selecting.</b></font> You do not need to run above cell everytime...</font><font color='red'><b>Do not run above cell after selecting</b></font>"
      ],
      "metadata": {
        "id": "4ei5cdY08bAw"
      }
    },
    {
      "cell_type": "code",
      "source": [
        "# run this cell after selecting\n",
        "\n",
        "graph_feat={\n",
        "    \"Title Size\":18,\n",
        "    \"Title Fontweight\":'bold',\n",
        "\n",
        "    \"legend Font Size\": 14,\n",
        "    \"legend Position\": \"lower right\",\n",
        "\n",
        "    \"X axis Label Font Size\":16,\n",
        "    \"X axis Label Fontweight\":'bold',\n",
        "\n",
        "    \"Y axis Label Font Size\":16,\n",
        "    \"Y axis Label Fontweight\":'bold',\n",
        "\n",
        "    \"Fig Height (inches)\":10.8,\n",
        "    \"Fig Width (inches)\":18.8,\n",
        "\n",
        "    \"Fig Saving Name\": \"ROC_testing.png\",\n",
        "    \"dpi\":100\n",
        "\n",
        "}\n",
        "\n",
        "\n",
        "\n",
        "\n",
        "\n",
        "k_fold=5\n",
        "\n",
        "for i in range(len(new_keys)):\n",
        "  if new_keys[i].value ==True:\n",
        "    CV_ROC(models[i],5,graph_feat)\n",
        "    print(\"-----------------------------------------------------------------\")\n",
        "    print(\"-----------------------------------------------------------------\")"
      ],
      "metadata": {
        "id": "c7Mwtfbj6aPm"
      },
      "execution_count": null,
      "outputs": []
    },
    {
      "cell_type": "code",
      "source": [],
      "metadata": {
        "id": "Sm1rGioVdwNr"
      },
      "execution_count": null,
      "outputs": []
    },
    {
      "cell_type": "markdown",
      "source": [
        "#ANN Classification"
      ],
      "metadata": {
        "id": "7rL4KXKM-KRC"
      }
    },
    {
      "cell_type": "code",
      "source": [
        "import tensorflow as tf\n",
        "from tensorflow import keras\n",
        "\n",
        "model = keras.Sequential([\n",
        "    keras.layers.Dense(250, input_shape=(38,), activation='relu'), # input laye\n",
        "    keras.layers.Dense(150, activation='sigmoid'),\n",
        "    keras.layers.Dense(75, activation='softmax')                    # output layer\n",
        "])\n",
        "\n",
        "\n",
        "model.compile(optimizer='adam',\n",
        "              loss='sparse_categorical_crossentropy',\n",
        "              metrics=['accuracy'])\n",
        "\n",
        "model.fit(X_train, y_train, epochs=200)"
      ],
      "metadata": {
        "id": "2ctApXGJ-mof"
      },
      "execution_count": null,
      "outputs": []
    },
    {
      "cell_type": "code",
      "source": [
        "model.evaluate(X_test, y_test)"
      ],
      "metadata": {
        "id": "hYx3upjd_Y9S"
      },
      "execution_count": null,
      "outputs": []
    },
    {
      "cell_type": "code",
      "source": [
        "y_predicted = model.predict(X_test)\n",
        "y_predicted_labels = [np.argmax(i) for i in y_predicted]\n",
        "\n",
        "from sklearn.metrics import classification_report, confusion_matrix, accuracy_score\n",
        "print(confusion_matrix(y_test, y_predicted_labels))\n",
        "print(classification_report(y_test,y_predicted_labels))\n",
        "print(\"Accurecy: \",accuracy_score(y_test, y_predicted_labels))"
      ],
      "metadata": {
        "id": "TTyLr4Pj_eHb"
      },
      "execution_count": null,
      "outputs": []
    },
    {
      "cell_type": "markdown",
      "source": [
        "# **LIME**"
      ],
      "metadata": {
        "id": "iDu8Ipdm8qaV"
      }
    },
    {
      "cell_type": "code",
      "source": [
        "!pip install lime"
      ],
      "metadata": {
        "id": "aokroGxh8oj9"
      },
      "execution_count": null,
      "outputs": []
    },
    {
      "cell_type": "code",
      "source": [
        "\n",
        "  def LIME_EXP(model,row):\n",
        "    print(\"------------------------\",model,\"------------------------\")\n",
        "    import lime\n",
        "    from lime import lime_tabular\n",
        "    explainer = lime_tabular.LimeTabularExplainer(\n",
        "        training_data=np.array(X_train),\n",
        "        feature_names=list(X.columns),\n",
        "        class_names=['Reading', 'Resting', 'Walking', 'Working'],\n",
        "        mode='classification'\n",
        "    )\n",
        "\n",
        "    exp = explainer.explain_instance(X_test.iloc[row],\n",
        "                                    model.predict_proba,               #here write the model name\n",
        "                                    num_features=6,\n",
        "                                    top_labels=4)\n",
        "\n",
        "    exp.show_in_notebook(show_table=True, show_all=True)\n",
        "\n",
        "\n",
        "\n",
        "    import matplotlib.pyplot as plt\n",
        "    with plt.style.context(\"ggplot\"):\n",
        "        exp.as_pyplot_figure()\n",
        "\n",
        "\n",
        "    from IPython.display import HTML\n",
        "    html_data = exp.as_html()\n",
        "    HTML(data=html_data)\n",
        "\n",
        "    exp.save_to_file(\"classif_explanation.html\")"
      ],
      "metadata": {
        "id": "5FaSwsYC4hL9"
      },
      "execution_count": 1,
      "outputs": []
    },
    {
      "cell_type": "code",
      "source": [
        "row = int(input(\"Enter the index of row to explain: \"))      # the index of row to be explained in LIME\n",
        "\n",
        "\n",
        "new_keys_8=models_check_box(models)"
      ],
      "metadata": {
        "id": "32KcHp_C40qQ"
      },
      "execution_count": null,
      "outputs": []
    },
    {
      "cell_type": "code",
      "source": [
        "for i in range(len(new_keys_8)):\n",
        "  if new_keys_8[i].value ==True:\n",
        "    LIME_EXP(models[i],row)\n",
        "    print(\"---------------------------------------------------------\")\n",
        "    print(\"---------------------------------------------------------\")\n",
        "    print(\"---------------------------------------------------------\")\n",
        "    print(\"---------------------------------------------------------\")"
      ],
      "metadata": {
        "id": "T0b1o-1mBtnW"
      },
      "execution_count": null,
      "outputs": []
    }
  ]
}