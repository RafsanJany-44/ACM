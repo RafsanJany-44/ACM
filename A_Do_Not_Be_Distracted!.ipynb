{
  "nbformat": 4,
  "nbformat_minor": 0,
  "metadata": {
    "colab": {
      "name": "A. Do Not Be Distracted!.ipynb",
      "provenance": [],
      "authorship_tag": "ABX9TyM8bPGLKzsmVMJDCgrFagf9",
      "include_colab_link": true
    },
    "kernelspec": {
      "name": "python3",
      "display_name": "Python 3"
    },
    "language_info": {
      "name": "python"
    }
  },
  "cells": [
    {
      "cell_type": "markdown",
      "metadata": {
        "id": "view-in-github",
        "colab_type": "text"
      },
      "source": [
        "<a href=\"https://colab.research.google.com/github/RafsanJany-44/ARC/blob/master/A_Do_Not_Be_Distracted!.ipynb\" target=\"_parent\"><img src=\"https://colab.research.google.com/assets/colab-badge.svg\" alt=\"Open In Colab\"/></a>"
      ]
    },
    {
      "cell_type": "code",
      "metadata": {
        "id": "Q3fPYQ-SiWkV",
        "colab": {
          "base_uri": "https://localhost:8080/"
        },
        "outputId": "41e4e69f-7060-4112-871a-559deee3310e"
      },
      "source": [
        " def raf(n,x):\n",
        "  m=[x[0]]\n",
        "  for i in range(1,len(x)):\n",
        "    if x[i]!=x[i-1]:\n",
        "      if x[i] in m:\n",
        "        break\n",
        "      else:\n",
        "        m.append(x[i])\n",
        "    else:\n",
        "      m.append(x[i])\n",
        "  if len(m)==n:\n",
        "    print(\"YES\")\n",
        "  else:\n",
        "    print(\"NO\")\n",
        "\n",
        " t=int(input())\n",
        " for i in range(t):\n",
        "    k=int(input())\n",
        "    sen=input()\n",
        "    raf(k,sen)\n",
        "\n",
        "\n",
        ""
      ],
      "execution_count": null,
      "outputs": [
        {
          "output_type": "stream",
          "name": "stdout",
          "text": [
            "2\n",
            "3\n",
            "ABA\n",
            "NO\n",
            "4\n",
            "AABB\n",
            "YES\n"
          ]
        }
      ]
    },
    {
      "cell_type": "code",
      "metadata": {
        "id": "a0hajmWOaQ94"
      },
      "source": [],
      "execution_count": null,
      "outputs": []
    }
  ]
}