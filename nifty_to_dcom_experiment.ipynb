{
  "nbformat": 4,
  "nbformat_minor": 0,
  "metadata": {
    "colab": {
      "provenance": [],
      "authorship_tag": "ABX9TyMh3Ooo6LGCtx1NHcKf09u8",
      "include_colab_link": true
    },
    "kernelspec": {
      "name": "python3",
      "display_name": "Python 3"
    },
    "language_info": {
      "name": "python"
    }
  },
  "cells": [
    {
      "cell_type": "markdown",
      "metadata": {
        "id": "view-in-github",
        "colab_type": "text"
      },
      "source": [
        "<a href=\"https://colab.research.google.com/github/RafsanJany-44/ARC/blob/master/nifty_to_dcom_experiment.ipynb\" target=\"_parent\"><img src=\"https://colab.research.google.com/assets/colab-badge.svg\" alt=\"Open In Colab\"/></a>"
      ]
    },
    {
      "cell_type": "code",
      "execution_count": 1,
      "metadata": {
        "colab": {
          "base_uri": "https://localhost:8080/"
        },
        "id": "fz2ptKe-Cc0f",
        "outputId": "5f9a0997-64a8-4d5c-b47a-3a70830780c8"
      },
      "outputs": [
        {
          "output_type": "stream",
          "name": "stdout",
          "text": [
            "Drive already mounted at /content/drive; to attempt to forcibly remount, call drive.mount(\"/content/drive\", force_remount=True).\n"
          ]
        }
      ],
      "source": [
        "from google.colab import drive\n",
        "drive.mount('/content/drive')"
      ]
    },
    {
      "cell_type": "code",
      "source": [
        "nifty_file_path = \"/content/drive/MyDrive/nifty_dicom_experiment/nifty_labels/label_3_1.nii.gz\"\n",
        "\n",
        "dicom_file_path = \"/content/drive/MyDrive/nifty_dicom_experiment/dicm_test/dicom_3_1\""
      ],
      "metadata": {
        "id": "DzMxUj8uDG_q"
      },
      "execution_count": 13,
      "outputs": []
    },
    {
      "cell_type": "code",
      "source": [
        "!pip install nii2dcm"
      ],
      "metadata": {
        "colab": {
          "base_uri": "https://localhost:8080/"
        },
        "id": "MzVEGnd1HVD0",
        "outputId": "2b4eddeb-9a0f-4bcc-8869-b051280b54da"
      },
      "execution_count": 3,
      "outputs": [
        {
          "output_type": "stream",
          "name": "stdout",
          "text": [
            "Looking in indexes: https://pypi.org/simple, https://us-python.pkg.dev/colab-wheels/public/simple/\n",
            "Requirement already satisfied: nii2dcm in /usr/local/lib/python3.9/dist-packages (0.1.0)\n",
            "Requirement already satisfied: matplotlib==3.6.2 in /usr/local/lib/python3.9/dist-packages (from nii2dcm) (3.6.2)\n",
            "Requirement already satisfied: pydicom==2.3.0 in /usr/local/lib/python3.9/dist-packages (from nii2dcm) (2.3.0)\n",
            "Requirement already satisfied: numpy==1.23.2 in /usr/local/lib/python3.9/dist-packages (from nii2dcm) (1.23.2)\n",
            "Requirement already satisfied: nibabel==5.0.0 in /usr/local/lib/python3.9/dist-packages (from nii2dcm) (5.0.0)\n",
            "Requirement already satisfied: packaging>=20.0 in /usr/local/lib/python3.9/dist-packages (from matplotlib==3.6.2->nii2dcm) (23.0)\n",
            "Requirement already satisfied: python-dateutil>=2.7 in /usr/local/lib/python3.9/dist-packages (from matplotlib==3.6.2->nii2dcm) (2.8.2)\n",
            "Requirement already satisfied: fonttools>=4.22.0 in /usr/local/lib/python3.9/dist-packages (from matplotlib==3.6.2->nii2dcm) (4.39.3)\n",
            "Requirement already satisfied: contourpy>=1.0.1 in /usr/local/lib/python3.9/dist-packages (from matplotlib==3.6.2->nii2dcm) (1.0.7)\n",
            "Requirement already satisfied: pyparsing>=2.2.1 in /usr/local/lib/python3.9/dist-packages (from matplotlib==3.6.2->nii2dcm) (3.0.9)\n",
            "Requirement already satisfied: kiwisolver>=1.0.1 in /usr/local/lib/python3.9/dist-packages (from matplotlib==3.6.2->nii2dcm) (1.4.4)\n",
            "Requirement already satisfied: cycler>=0.10 in /usr/local/lib/python3.9/dist-packages (from matplotlib==3.6.2->nii2dcm) (0.11.0)\n",
            "Requirement already satisfied: pillow>=6.2.0 in /usr/local/lib/python3.9/dist-packages (from matplotlib==3.6.2->nii2dcm) (8.4.0)\n",
            "Requirement already satisfied: setuptools in /usr/local/lib/python3.9/dist-packages (from nibabel==5.0.0->nii2dcm) (67.6.1)\n",
            "Requirement already satisfied: six>=1.5 in /usr/local/lib/python3.9/dist-packages (from python-dateutil>=2.7->matplotlib==3.6.2->nii2dcm) (1.16.0)\n"
          ]
        }
      ]
    },
    {
      "cell_type": "code",
      "source": [
        "!nii2dcm -h"
      ],
      "metadata": {
        "colab": {
          "base_uri": "https://localhost:8080/"
        },
        "id": "o3SiaVvVHXX8",
        "outputId": "e13590e6-ccfc-4113-eab7-30a80d362329"
      },
      "execution_count": 4,
      "outputs": [
        {
          "output_type": "stream",
          "name": "stdout",
          "text": [
            "usage: nii2dcm\n",
            "       [-h]\n",
            "       [-d DICOM_TYPE]\n",
            "       [-v]\n",
            "       input_file\n",
            "       output_dir\n",
            "\n",
            "nii2dcm -\n",
            "NIfTI file\n",
            "to DICOM\n",
            "conversion\n",
            "\n",
            "positional arguments:\n",
            "  input_file\n",
            "    [.nii/.nii.\n",
            "    gz] input\n",
            "    NIfTI file\n",
            "  output_dir\n",
            "    [directory]\n",
            "    output\n",
            "    DICOM path\n",
            "\n",
            "optional arguments:\n",
            "  -h, --help\n",
            "    show this\n",
            "    help\n",
            "    message and\n",
            "    exit\n",
            "  -d DICOM_TYPE, --dicom_type DICOM_TYPE\n",
            "    type of\n",
            "    DICOM. e.g.\n",
            "    MR, CT, US,\n",
            "    XR, etc.\n",
            "  -v, --version\n",
            "    show\n",
            "    program's\n",
            "    version\n",
            "    number and\n",
            "    exit\n"
          ]
        }
      ]
    },
    {
      "cell_type": "code",
      "source": [
        "#nii2dcm nifti-file.nii.gz dicom-output-directory"
      ],
      "metadata": {
        "id": "12lLmzxfKlcs"
      },
      "execution_count": null,
      "outputs": []
    },
    {
      "cell_type": "code",
      "source": [
        "import os\n",
        "\n",
        "os.system(\"nii2dcm \"+nifty_file_path+\" \"+dicom_file_path)"
      ],
      "metadata": {
        "colab": {
          "base_uri": "https://localhost:8080/"
        },
        "id": "jSG0yVp5KzCa",
        "outputId": "cbd81ba4-44ab-45d0-9c5e-af7bc59306a7"
      },
      "execution_count": 16,
      "outputs": [
        {
          "output_type": "execute_result",
          "data": {
            "text/plain": [
              "0"
            ]
          },
          "metadata": {},
          "execution_count": 16
        }
      ]
    },
    {
      "cell_type": "code",
      "source": [
        "!nii2dcm \"/content/drive/MyDrive/nifty_dicom_experiment/nifty_labels/label_2_1.nii.gz\" \"/content/drive/MyDrive/nifty_dicom_experiment/dicm_test/dicom_2_1\""
      ],
      "metadata": {
        "colab": {
          "base_uri": "https://localhost:8080/"
        },
        "id": "NE9fJsfyLnE9",
        "outputId": "14b0db4e-576c-43ce-e226-edb96af1c9ed"
      },
      "execution_count": 8,
      "outputs": [
        {
          "output_type": "stream",
          "name": "stdout",
          "text": [
            "nii2dcm: writing DICOM files ...\n",
            "/usr/local/lib/python3.9/dist-packages/pydicom/valuerep.py:290: UserWarning: The value length (21) exceeds the maximum length of 16 allowed for VR DS. Please see <https://dicom.nema.org/medical/dicom/current/output/html/part05.html#table_6.2-1> for allowed values for each VR.\n",
            "  warnings.warn(msg)\n",
            "/usr/local/lib/python3.9/dist-packages/pydicom/valuerep.py:290: UserWarning: The value length (18) exceeds the maximum length of 16 allowed for VR DS. Please see <https://dicom.nema.org/medical/dicom/current/output/html/part05.html#table_6.2-1> for allowed values for each VR.\n",
            "  warnings.warn(msg)\n"
          ]
        }
      ]
    },
    {
      "cell_type": "code",
      "source": [],
      "metadata": {
        "id": "Abaf4eQ84c9k"
      },
      "execution_count": null,
      "outputs": []
    },
    {
      "cell_type": "markdown",
      "source": [
        "\n",
        "\n",
        "---\n",
        "\n",
        "\n",
        "\n",
        "---\n",
        "\n"
      ],
      "metadata": {
        "id": "v-T05EHHOFvs"
      }
    },
    {
      "cell_type": "markdown",
      "source": [
        "#Automated"
      ],
      "metadata": {
        "id": "jalRQnDIHDxX"
      }
    },
    {
      "cell_type": "markdown",
      "source": [
        "##nifti to dicom"
      ],
      "metadata": {
        "id": "QpXP-A_iLGOh"
      }
    },
    {
      "cell_type": "code",
      "source": [
        "!pip install nii2dcm"
      ],
      "metadata": {
        "id": "RnfxhQhtJMbI"
      },
      "execution_count": null,
      "outputs": []
    },
    {
      "cell_type": "code",
      "source": [
        "!pip install glob2\n",
        "!pip install shutil"
      ],
      "metadata": {
        "id": "lniPfkmRJvsC"
      },
      "execution_count": null,
      "outputs": []
    },
    {
      "cell_type": "code",
      "source": [
        "nifty_file_path = \"/content/drive/MyDrive/nifty_dicom_experiment/nifty_labels\"\n",
        "\n",
        "dicom_file_path = \"/content/drive/MyDrive/nifty_dicom_experiment/dicm_test\""
      ],
      "metadata": {
        "id": "t0S8XNIx8YPY"
      },
      "execution_count": 35,
      "outputs": []
    },
    {
      "cell_type": "code",
      "source": [
        "from glob import glob\n",
        "import shutil\n",
        "import os"
      ],
      "metadata": {
        "id": "BvjGn-W48EIA"
      },
      "execution_count": 17,
      "outputs": []
    },
    {
      "cell_type": "code",
      "source": [
        "def nifti_to_dcm(path_in,path_out):\n",
        "  for i in glob(path_in+\"/*\"):\n",
        "    new_dicom = os.path.join(path_out, os.path.basename(os.path.normpath(i)).split(\".\")[0])\n",
        "    os.mkdir(new_dicom)\n",
        "    os.system(\"nii2dcm \"+i+\" \"+new_dicom)\n"
      ],
      "metadata": {
        "id": "QOA2lK7n8Ki-"
      },
      "execution_count": 39,
      "outputs": []
    },
    {
      "cell_type": "code",
      "source": [
        "nifti_to_dcm(nifty_file_path, dicom_file_path)"
      ],
      "metadata": {
        "id": "wafaPE_PC87F"
      },
      "execution_count": 40,
      "outputs": []
    },
    {
      "cell_type": "markdown",
      "source": [
        "\n",
        "\n",
        "---\n",
        "\n",
        "\n",
        "\n",
        "---\n",
        "\n"
      ],
      "metadata": {
        "id": "p8cde7_AK-iv"
      }
    },
    {
      "cell_type": "markdown",
      "source": [
        "##dicom to nifti"
      ],
      "metadata": {
        "id": "zzqe5sECLRZe"
      }
    },
    {
      "cell_type": "code",
      "source": [
        "!pip install dicom2nifti"
      ],
      "metadata": {
        "id": "4hvtzohRK_mr"
      },
      "execution_count": null,
      "outputs": []
    },
    {
      "cell_type": "code",
      "source": [
        "import dicom2nifti\n",
        "\n",
        "\n",
        "def dicom_to_nifty(path_in, path_out):\n",
        "\n",
        "    file_list = glob(path_in+\"/*\")\n",
        "    for i in file_list:\n",
        "        i_name = os.path.basename(os.path.normpath(i))\n",
        "        dicom2nifti.dicom_series_to_nifti(i,os.path.join(path_out, i_name + \".nii.gz\"))"
      ],
      "metadata": {
        "id": "mlksXB6dL73L"
      },
      "execution_count": null,
      "outputs": []
    },
    {
      "cell_type": "code",
      "source": [],
      "metadata": {
        "id": "tT8pvnRtMsff"
      },
      "execution_count": null,
      "outputs": []
    }
  ]
}