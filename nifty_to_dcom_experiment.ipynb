{
  "nbformat": 4,
  "nbformat_minor": 0,
  "metadata": {
    "colab": {
      "provenance": [],
      "authorship_tag": "ABX9TyPq0bvIPd8INmnXY03ShAwx",
      "include_colab_link": true
    },
    "kernelspec": {
      "name": "python3",
      "display_name": "Python 3"
    },
    "language_info": {
      "name": "python"
    }
  },
  "cells": [
    {
      "cell_type": "markdown",
      "metadata": {
        "id": "view-in-github",
        "colab_type": "text"
      },
      "source": [
        "<a href=\"https://colab.research.google.com/github/RafsanJany-44/ARC/blob/master/nifty_to_dcom_experiment.ipynb\" target=\"_parent\"><img src=\"https://colab.research.google.com/assets/colab-badge.svg\" alt=\"Open In Colab\"/></a>"
      ]
    },
    {
      "cell_type": "code",
      "execution_count": 1,
      "metadata": {
        "colab": {
          "base_uri": "https://localhost:8080/"
        },
        "id": "fz2ptKe-Cc0f",
        "outputId": "2dcb5373-b370-4534-87e1-a92b37d04458"
      },
      "outputs": [
        {
          "output_type": "stream",
          "name": "stdout",
          "text": [
            "Drive already mounted at /content/drive; to attempt to forcibly remount, call drive.mount(\"/content/drive\", force_remount=True).\n"
          ]
        }
      ],
      "source": [
        "from google.colab import drive\n",
        "drive.mount('/content/drive')"
      ]
    },
    {
      "cell_type": "code",
      "source": [
        "nifty_file_path = \"/content/drive/MyDrive/nifty_dicom_experiment/nifty_labels/label_2_1.nii.gz\""
      ],
      "metadata": {
        "id": "DzMxUj8uDG_q"
      },
      "execution_count": 2,
      "outputs": []
    },
    {
      "cell_type": "code",
      "source": [
        "!pip install nii2dcm"
      ],
      "metadata": {
        "colab": {
          "base_uri": "https://localhost:8080/"
        },
        "id": "MzVEGnd1HVD0",
        "outputId": "1242d550-6e36-4038-94d2-709004e0e5a8"
      },
      "execution_count": 3,
      "outputs": [
        {
          "output_type": "stream",
          "name": "stdout",
          "text": [
            "Looking in indexes: https://pypi.org/simple, https://us-python.pkg.dev/colab-wheels/public/simple/\n",
            "Requirement already satisfied: nii2dcm in /usr/local/lib/python3.9/dist-packages (0.1.0)\n",
            "Requirement already satisfied: nibabel==5.0.0 in /usr/local/lib/python3.9/dist-packages (from nii2dcm) (5.0.0)\n",
            "Requirement already satisfied: matplotlib==3.6.2 in /usr/local/lib/python3.9/dist-packages (from nii2dcm) (3.6.2)\n",
            "Requirement already satisfied: pydicom==2.3.0 in /usr/local/lib/python3.9/dist-packages (from nii2dcm) (2.3.0)\n",
            "Requirement already satisfied: numpy==1.23.2 in /usr/local/lib/python3.9/dist-packages (from nii2dcm) (1.23.2)\n",
            "Requirement already satisfied: contourpy>=1.0.1 in /usr/local/lib/python3.9/dist-packages (from matplotlib==3.6.2->nii2dcm) (1.0.7)\n",
            "Requirement already satisfied: python-dateutil>=2.7 in /usr/local/lib/python3.9/dist-packages (from matplotlib==3.6.2->nii2dcm) (2.8.2)\n",
            "Requirement already satisfied: pillow>=6.2.0 in /usr/local/lib/python3.9/dist-packages (from matplotlib==3.6.2->nii2dcm) (8.4.0)\n",
            "Requirement already satisfied: pyparsing>=2.2.1 in /usr/local/lib/python3.9/dist-packages (from matplotlib==3.6.2->nii2dcm) (3.0.9)\n",
            "Requirement already satisfied: kiwisolver>=1.0.1 in /usr/local/lib/python3.9/dist-packages (from matplotlib==3.6.2->nii2dcm) (1.4.4)\n",
            "Requirement already satisfied: fonttools>=4.22.0 in /usr/local/lib/python3.9/dist-packages (from matplotlib==3.6.2->nii2dcm) (4.39.3)\n",
            "Requirement already satisfied: packaging>=20.0 in /usr/local/lib/python3.9/dist-packages (from matplotlib==3.6.2->nii2dcm) (23.0)\n",
            "Requirement already satisfied: cycler>=0.10 in /usr/local/lib/python3.9/dist-packages (from matplotlib==3.6.2->nii2dcm) (0.11.0)\n",
            "Requirement already satisfied: setuptools in /usr/local/lib/python3.9/dist-packages (from nibabel==5.0.0->nii2dcm) (67.6.1)\n",
            "Requirement already satisfied: six>=1.5 in /usr/local/lib/python3.9/dist-packages (from python-dateutil>=2.7->matplotlib==3.6.2->nii2dcm) (1.16.0)\n"
          ]
        }
      ]
    },
    {
      "cell_type": "code",
      "source": [
        "!nii2dcm -h"
      ],
      "metadata": {
        "colab": {
          "base_uri": "https://localhost:8080/"
        },
        "id": "o3SiaVvVHXX8",
        "outputId": "40e17f27-8f22-49e5-a4b2-f9bc2790cb35"
      },
      "execution_count": 4,
      "outputs": [
        {
          "output_type": "stream",
          "name": "stdout",
          "text": [
            "usage: nii2dcm\n",
            "       [-h]\n",
            "       [-d DICOM_TYPE]\n",
            "       [-v]\n",
            "       input_file\n",
            "       output_dir\n",
            "\n",
            "nii2dcm -\n",
            "NIfTI file\n",
            "to DICOM\n",
            "conversion\n",
            "\n",
            "positional arguments:\n",
            "  input_file\n",
            "    [.nii/.nii.\n",
            "    gz] input\n",
            "    NIfTI file\n",
            "  output_dir\n",
            "    [directory]\n",
            "    output\n",
            "    DICOM path\n",
            "\n",
            "optional arguments:\n",
            "  -h, --help\n",
            "    show this\n",
            "    help\n",
            "    message and\n",
            "    exit\n",
            "  -d DICOM_TYPE, --dicom_type DICOM_TYPE\n",
            "    type of\n",
            "    DICOM. e.g.\n",
            "    MR, CT, US,\n",
            "    XR, etc.\n",
            "  -v, --version\n",
            "    show\n",
            "    program's\n",
            "    version\n",
            "    number and\n",
            "    exit\n"
          ]
        }
      ]
    },
    {
      "cell_type": "code",
      "source": [
        "nii2dcm nifti-file.nii.gz dicom-output-directory"
      ],
      "metadata": {
        "id": "12lLmzxfKlcs"
      },
      "execution_count": null,
      "outputs": []
    },
    {
      "cell_type": "code",
      "source": [
        "import nii2dcm"
      ],
      "metadata": {
        "id": "jSG0yVp5KzCa"
      },
      "execution_count": 6,
      "outputs": []
    },
    {
      "cell_type": "code",
      "source": [
        "!nii2dcm \"/content/drive/MyDrive/nifty_dicom_experiment/nifty_labels/label_2_1.nii.gz\" \"/content/drive/MyDrive/nifty_dicom_experiment/dicm_test/dicom_2_1\""
      ],
      "metadata": {
        "colab": {
          "base_uri": "https://localhost:8080/"
        },
        "id": "NE9fJsfyLnE9",
        "outputId": "14b0db4e-576c-43ce-e226-edb96af1c9ed"
      },
      "execution_count": 8,
      "outputs": [
        {
          "output_type": "stream",
          "name": "stdout",
          "text": [
            "nii2dcm: writing DICOM files ...\n",
            "/usr/local/lib/python3.9/dist-packages/pydicom/valuerep.py:290: UserWarning: The value length (21) exceeds the maximum length of 16 allowed for VR DS. Please see <https://dicom.nema.org/medical/dicom/current/output/html/part05.html#table_6.2-1> for allowed values for each VR.\n",
            "  warnings.warn(msg)\n",
            "/usr/local/lib/python3.9/dist-packages/pydicom/valuerep.py:290: UserWarning: The value length (18) exceeds the maximum length of 16 allowed for VR DS. Please see <https://dicom.nema.org/medical/dicom/current/output/html/part05.html#table_6.2-1> for allowed values for each VR.\n",
            "  warnings.warn(msg)\n"
          ]
        }
      ]
    },
    {
      "cell_type": "markdown",
      "source": [
        "\n",
        "\n",
        "---\n",
        "\n",
        "\n",
        "\n",
        "---\n",
        "\n"
      ],
      "metadata": {
        "id": "v-T05EHHOFvs"
      }
    },
    {
      "cell_type": "code",
      "source": [
        "!pip install nibabel\n",
        "!pip install pydicom\n",
        "!pip install numpy\n",
        "!pip install tqdm"
      ],
      "metadata": {
        "colab": {
          "base_uri": "https://localhost:8080/"
        },
        "id": "8x-26E3-Lzcb",
        "outputId": "e30db4fd-a46f-4c40-d939-95371210bcc8"
      },
      "execution_count": 10,
      "outputs": [
        {
          "output_type": "stream",
          "name": "stdout",
          "text": [
            "Looking in indexes: https://pypi.org/simple, https://us-python.pkg.dev/colab-wheels/public/simple/\n",
            "Requirement already satisfied: nibabel in /usr/local/lib/python3.9/dist-packages (5.0.0)\n",
            "Requirement already satisfied: numpy>=1.19 in /usr/local/lib/python3.9/dist-packages (from nibabel) (1.23.2)\n",
            "Requirement already satisfied: setuptools in /usr/local/lib/python3.9/dist-packages (from nibabel) (67.6.1)\n",
            "Requirement already satisfied: packaging>=17 in /usr/local/lib/python3.9/dist-packages (from nibabel) (23.0)\n",
            "Looking in indexes: https://pypi.org/simple, https://us-python.pkg.dev/colab-wheels/public/simple/\n",
            "Requirement already satisfied: pydicom in /usr/local/lib/python3.9/dist-packages (2.3.0)\n",
            "Looking in indexes: https://pypi.org/simple, https://us-python.pkg.dev/colab-wheels/public/simple/\n",
            "Requirement already satisfied: numpy in /usr/local/lib/python3.9/dist-packages (1.23.2)\n",
            "Looking in indexes: https://pypi.org/simple, https://us-python.pkg.dev/colab-wheels/public/simple/\n",
            "Requirement already satisfied: tqdm in /usr/local/lib/python3.9/dist-packages (4.65.0)\n"
          ]
        }
      ]
    },
    {
      "cell_type": "code",
      "source": [
        "import nibabel\n",
        "\n",
        "nifti_dir = \"/content/drive/MyDrive/nifty_dicom_experiment/nifty_labels/label_2_2.nii.gz\"\n",
        "\n",
        "nifti_file = nibabel.load(nifti_dir)\n",
        "nifti_array = nifti_file.get_fdata()"
      ],
      "metadata": {
        "id": "HZP6qglNOPSe"
      },
      "execution_count": 11,
      "outputs": []
    },
    {
      "cell_type": "code",
      "source": [
        "def convertNsave(arr,file_dir, index=0):\n",
        "    \"\"\"\n",
        "    `arr`: parameter will take a numpy array that represents only one slice.\n",
        "    `file_dir`: parameter will take the path to save the slices\n",
        "    `index`: parameter will represent the index of the slice, so this parameter will be used to put \n",
        "    the name of each slice while using a for loop to convert all the slices\n",
        "    \"\"\"\n",
        "    \n",
        "    dicom_file = pydicom.dcmread('images/dcmimage.dcm')\n",
        "    arr = arr.astype('uint16')\n",
        "    dicom_file.Rows = arr.shape[0]\n",
        "    dicom_file.Columns = arr.shape[1]\n",
        "    dicom_file.PhotometricInterpretation = \"MONOCHROME2\"\n",
        "    dicom_file.SamplesPerPixel = 1\n",
        "    dicom_file.BitsStored = 16\n",
        "    dicom_file.BitsAllocated = 16\n",
        "    dicom_file.HighBit = 15\n",
        "    dicom_file.PixelRepresentation = 1\n",
        "    dicom_file.PixelData = arr.tobytes()"
      ],
      "metadata": {
        "id": "GlcVbqD5Oasp"
      },
      "execution_count": 12,
      "outputs": []
    },
    {
      "cell_type": "code",
      "source": [
        "file_dir = \"/content/drive/MyDrive/nifty_dicom_experiment/dicm_test/dicom_2_2\""
      ],
      "metadata": {
        "id": "fdzOi4OOOn6i"
      },
      "execution_count": 13,
      "outputs": []
    },
    {
      "cell_type": "code",
      "source": [
        "import pydicom  \n",
        "pydicom.dicom_file.save_as(os.path.join(file_dir, f'slice{index}.dcm'))"
      ],
      "metadata": {
        "id": "CGMCxGAWPuc8"
      },
      "execution_count": null,
      "outputs": []
    },
    {
      "cell_type": "code",
      "source": [
        "def nifti2dicom_1file(nifti_dir, out_dir):\n",
        "    \"\"\"\n",
        "    This function is to convert only one nifti file into dicom series\n",
        "    `nifti_dir`: the path to the one nifti file\n",
        "    `out_dir`: the path to output\n",
        "    \"\"\"\n",
        "\n",
        "    nifti_file = nibabel.load(nifti_dir)\n",
        "    nifti_array = nifti_file.get_fdata()\n",
        "    number_slices = nifti_array.shape[2]\n",
        "\n",
        "    for slice_ in tqdm(range(number_slices)):\n",
        "        convertNsave(nifti_array[:,:,slice_], out_dir, slice_)"
      ],
      "metadata": {
        "id": "fHSeSWbWOulQ"
      },
      "execution_count": null,
      "outputs": []
    }
  ]
}