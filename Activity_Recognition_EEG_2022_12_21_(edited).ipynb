{
  "nbformat": 4,
  "nbformat_minor": 0,
  "metadata": {
    "colab": {
      "provenance": [],
      "collapsed_sections": [
        "C0Akgb_na7NU",
        "jEe2R0yAoifa",
        "FJybpt_UvCU0",
        "AgMT_U8gvM7F",
        "jRG4cBnKvZU2",
        "K6_icFWdauSI",
        "_Btki9jRvc1Y",
        "6FEsxCdvkg2D",
        "znXNx2bgUvtd",
        "zxxWSX26jsGT",
        "23z3A3f1ol6d",
        "57cQ8dzJX0Lp",
        "Wvhy6ENJf_oS",
        "26iwXg2a75qo",
        "bwOJ36hchWiN",
        "XtgWbvJsEwMt",
        "7rL4KXKM-KRC"
      ],
      "include_colab_link": true
    },
    "kernelspec": {
      "name": "python3",
      "display_name": "Python 3"
    },
    "language_info": {
      "name": "python"
    }
  },
  "cells": [
    {
      "cell_type": "markdown",
      "metadata": {
        "id": "view-in-github",
        "colab_type": "text"
      },
      "source": [
        "<a href=\"https://colab.research.google.com/github/RafsanJany-44/ARC/blob/master/Activity_Recognition_EEG_2022_12_21_(edited).ipynb\" target=\"_parent\"><img src=\"https://colab.research.google.com/assets/colab-badge.svg\" alt=\"Open In Colab\"/></a>"
      ]
    },
    {
      "cell_type": "code",
      "execution_count": 12,
      "metadata": {
        "id": "zdFOS9nFlpsU",
        "colab": {
          "base_uri": "https://localhost:8080/"
        },
        "outputId": "7240ac09-17ba-4fa5-f9a8-56924514b259"
      },
      "outputs": [
        {
          "output_type": "stream",
          "name": "stdout",
          "text": [
            "Drive already mounted at /content/drive; to attempt to forcibly remount, call drive.mount(\"/content/drive\", force_remount=True).\n",
            "Looking in indexes: https://pypi.org/simple, https://us-python.pkg.dev/colab-wheels/public/simple/\n",
            "Requirement already satisfied: imbalanced-learn in /usr/local/lib/python3.8/dist-packages (0.8.1)\n",
            "Requirement already satisfied: scikit-learn>=0.24 in /usr/local/lib/python3.8/dist-packages (from imbalanced-learn) (1.0.2)\n",
            "Requirement already satisfied: joblib>=0.11 in /usr/local/lib/python3.8/dist-packages (from imbalanced-learn) (1.2.0)\n",
            "Requirement already satisfied: numpy>=1.13.3 in /usr/local/lib/python3.8/dist-packages (from imbalanced-learn) (1.21.6)\n",
            "Requirement already satisfied: scipy>=0.19.1 in /usr/local/lib/python3.8/dist-packages (from imbalanced-learn) (1.7.3)\n",
            "Requirement already satisfied: threadpoolctl>=2.0.0 in /usr/local/lib/python3.8/dist-packages (from scikit-learn>=0.24->imbalanced-learn) (3.1.0)\n"
          ]
        }
      ],
      "source": [
        "from google.colab import drive\n",
        "drive.mount('/content/drive')\n",
        "\n",
        "\n",
        "def models_check_box(models):\n",
        "  import ipywidgets as widgets\n",
        "  from IPython.display import display\n",
        "  new_keys=[]\n",
        "  for i in models:\n",
        "    i=widgets.Checkbox(\n",
        "      value=False,\n",
        "      description=str(i),\n",
        "      disabled=False,\n",
        "      indent=False\n",
        "      )\n",
        "    display(i)\n",
        "    new_keys.append(i)\n",
        "  return new_keys\n",
        "\n",
        "\n",
        "!pip install imbalanced-learn\n",
        "\n",
        "from imblearn.over_sampling import SMOTE\n",
        "\n",
        "def balance(X_temp, y_temp):\n",
        "  smote = SMOTE()\n",
        "  X_temp, y_temp= smote.fit_resample(X_temp, y_temp)\n",
        "  return pd.concat([pd.DataFrame(X_temp), pd.DataFrame(y_temp)], axis=1)"
      ]
    },
    {
      "cell_type": "code",
      "source": [],
      "metadata": {
        "id": "C6TIqVlzwH_z"
      },
      "execution_count": null,
      "outputs": []
    },
    {
      "cell_type": "code",
      "source": [
        "import numpy as np\n",
        "import pandas as pd\n",
        "#dataset=pd.read_csv(\"/content/drive/MyDrive/EEG_CNU_Activity Recognition/EEG_CNU_Resting, walking, working and Reading_Control_2022.12.05.csv\")\n",
        " \n",
        "dataset=pd.read_excel(\"/content/drive/MyDrive/Iqram Sir/EEG_CNU_Resting, walking, working and Reading_Control_2022.12.22.xlsx\")\n",
        "\n",
        "classes = np.array(sorted(list(set(dataset.iloc[:, 1]))))\n",
        "target = \"Activity\"\n",
        "result = {}"
      ],
      "metadata": {
        "id": "M0AmIUwSmLfj"
      },
      "execution_count": 2,
      "outputs": []
    },
    {
      "cell_type": "code",
      "source": [
        "dataset.head()"
      ],
      "metadata": {
        "colab": {
          "base_uri": "https://localhost:8080/",
          "height": 317
        },
        "id": "4YN_C8yxm1ho",
        "outputId": "09924c08-6623-4f53-aa8f-1ca5b38f1812"
      },
      "execution_count": 3,
      "outputs": [
        {
          "output_type": "execute_result",
          "data": {
            "text/plain": [
              "  Activity   Status  Epoch  MeanP_Alpha_Fz  MedianF_Alpha_Fz  MeanF_Alpha_Fz  \\\n",
              "0  Resting  Control      0        0.000008          11.70732        28.29268   \n",
              "1  Resting  Control      1        0.000010          10.73171        28.78049   \n",
              "2  Resting  Control      2        0.000008          13.17073        28.78049   \n",
              "3  Resting  Control      3        0.000011          10.24390        27.80488   \n",
              "4  Resting  Control      4        0.000007          10.73171        23.41463   \n",
              "\n",
              "   Spectral Edge_Alpha_Fz  PeakF_Alpha_Fz  MeanP_Beta_Fz  MedianF_Beta_Fz  \\\n",
              "0                20.00000        10.73171       0.000017         19.51220   \n",
              "1                22.43902        10.24390       0.000023         22.92683   \n",
              "2                23.41463         9.26829       0.000023         22.43902   \n",
              "3                18.53659        10.73171       0.000019         22.43902   \n",
              "4                18.04878        11.70732       0.000010         17.56098   \n",
              "\n",
              "   ...  Relative Power_Alpha_Global  Relative Power_Beta_Global  \\\n",
              "0  ...                     0.358154                    0.639771   \n",
              "1  ...                     0.457695                    0.806208   \n",
              "2  ...                     0.501419                    1.059244   \n",
              "3  ...                     0.497909                    0.710690   \n",
              "4  ...                     0.429825                    0.569204   \n",
              "\n",
              "   Relative Power_Theta_Global  Relative Power_Delta_Global  \\\n",
              "0                     0.749628                     4.031903   \n",
              "1                     0.723662                     3.759249   \n",
              "2                     0.737332                     3.320235   \n",
              "3                     0.907816                     3.653423   \n",
              "4                     0.849345                     4.001597   \n",
              "\n",
              "   Relative Power_Gamma_Global  ∆Relative Power_Alpha_Global  \\\n",
              "0                     0.220545                     -0.273666   \n",
              "1                     0.253186                     -0.071797   \n",
              "2                     0.381769                      0.016875   \n",
              "3                     0.230162                      0.009757   \n",
              "4                     0.150029                     -0.128318   \n",
              "\n",
              "   ∆Relative Power_Beta_Global  ∆Relative Power_Theta_Global  \\\n",
              "0                    -0.164639                     -0.009611   \n",
              "1                     0.052680                     -0.043916   \n",
              "2                     0.383074                     -0.025855   \n",
              "3                    -0.072039                      0.199384   \n",
              "4                    -0.256780                      0.122134   \n",
              "\n",
              "   ∆Relative Power_Delta_Global  ∆Relative Power_Gamma_Global  \n",
              "0                      0.107193                     -0.356230  \n",
              "1                      0.032320                     -0.260950  \n",
              "2                     -0.088237                      0.114385  \n",
              "3                      0.003259                     -0.328157  \n",
              "4                      0.098870                     -0.562065  \n",
              "\n",
              "[5 rows x 259 columns]"
            ],
            "text/html": [
              "\n",
              "  <div id=\"df-a7f444ec-9a36-4230-8ed8-542809a2fbd6\">\n",
              "    <div class=\"colab-df-container\">\n",
              "      <div>\n",
              "<style scoped>\n",
              "    .dataframe tbody tr th:only-of-type {\n",
              "        vertical-align: middle;\n",
              "    }\n",
              "\n",
              "    .dataframe tbody tr th {\n",
              "        vertical-align: top;\n",
              "    }\n",
              "\n",
              "    .dataframe thead th {\n",
              "        text-align: right;\n",
              "    }\n",
              "</style>\n",
              "<table border=\"1\" class=\"dataframe\">\n",
              "  <thead>\n",
              "    <tr style=\"text-align: right;\">\n",
              "      <th></th>\n",
              "      <th>Activity</th>\n",
              "      <th>Status</th>\n",
              "      <th>Epoch</th>\n",
              "      <th>MeanP_Alpha_Fz</th>\n",
              "      <th>MedianF_Alpha_Fz</th>\n",
              "      <th>MeanF_Alpha_Fz</th>\n",
              "      <th>Spectral Edge_Alpha_Fz</th>\n",
              "      <th>PeakF_Alpha_Fz</th>\n",
              "      <th>MeanP_Beta_Fz</th>\n",
              "      <th>MedianF_Beta_Fz</th>\n",
              "      <th>...</th>\n",
              "      <th>Relative Power_Alpha_Global</th>\n",
              "      <th>Relative Power_Beta_Global</th>\n",
              "      <th>Relative Power_Theta_Global</th>\n",
              "      <th>Relative Power_Delta_Global</th>\n",
              "      <th>Relative Power_Gamma_Global</th>\n",
              "      <th>∆Relative Power_Alpha_Global</th>\n",
              "      <th>∆Relative Power_Beta_Global</th>\n",
              "      <th>∆Relative Power_Theta_Global</th>\n",
              "      <th>∆Relative Power_Delta_Global</th>\n",
              "      <th>∆Relative Power_Gamma_Global</th>\n",
              "    </tr>\n",
              "  </thead>\n",
              "  <tbody>\n",
              "    <tr>\n",
              "      <th>0</th>\n",
              "      <td>Resting</td>\n",
              "      <td>Control</td>\n",
              "      <td>0</td>\n",
              "      <td>0.000008</td>\n",
              "      <td>11.70732</td>\n",
              "      <td>28.29268</td>\n",
              "      <td>20.00000</td>\n",
              "      <td>10.73171</td>\n",
              "      <td>0.000017</td>\n",
              "      <td>19.51220</td>\n",
              "      <td>...</td>\n",
              "      <td>0.358154</td>\n",
              "      <td>0.639771</td>\n",
              "      <td>0.749628</td>\n",
              "      <td>4.031903</td>\n",
              "      <td>0.220545</td>\n",
              "      <td>-0.273666</td>\n",
              "      <td>-0.164639</td>\n",
              "      <td>-0.009611</td>\n",
              "      <td>0.107193</td>\n",
              "      <td>-0.356230</td>\n",
              "    </tr>\n",
              "    <tr>\n",
              "      <th>1</th>\n",
              "      <td>Resting</td>\n",
              "      <td>Control</td>\n",
              "      <td>1</td>\n",
              "      <td>0.000010</td>\n",
              "      <td>10.73171</td>\n",
              "      <td>28.78049</td>\n",
              "      <td>22.43902</td>\n",
              "      <td>10.24390</td>\n",
              "      <td>0.000023</td>\n",
              "      <td>22.92683</td>\n",
              "      <td>...</td>\n",
              "      <td>0.457695</td>\n",
              "      <td>0.806208</td>\n",
              "      <td>0.723662</td>\n",
              "      <td>3.759249</td>\n",
              "      <td>0.253186</td>\n",
              "      <td>-0.071797</td>\n",
              "      <td>0.052680</td>\n",
              "      <td>-0.043916</td>\n",
              "      <td>0.032320</td>\n",
              "      <td>-0.260950</td>\n",
              "    </tr>\n",
              "    <tr>\n",
              "      <th>2</th>\n",
              "      <td>Resting</td>\n",
              "      <td>Control</td>\n",
              "      <td>2</td>\n",
              "      <td>0.000008</td>\n",
              "      <td>13.17073</td>\n",
              "      <td>28.78049</td>\n",
              "      <td>23.41463</td>\n",
              "      <td>9.26829</td>\n",
              "      <td>0.000023</td>\n",
              "      <td>22.43902</td>\n",
              "      <td>...</td>\n",
              "      <td>0.501419</td>\n",
              "      <td>1.059244</td>\n",
              "      <td>0.737332</td>\n",
              "      <td>3.320235</td>\n",
              "      <td>0.381769</td>\n",
              "      <td>0.016875</td>\n",
              "      <td>0.383074</td>\n",
              "      <td>-0.025855</td>\n",
              "      <td>-0.088237</td>\n",
              "      <td>0.114385</td>\n",
              "    </tr>\n",
              "    <tr>\n",
              "      <th>3</th>\n",
              "      <td>Resting</td>\n",
              "      <td>Control</td>\n",
              "      <td>3</td>\n",
              "      <td>0.000011</td>\n",
              "      <td>10.24390</td>\n",
              "      <td>27.80488</td>\n",
              "      <td>18.53659</td>\n",
              "      <td>10.73171</td>\n",
              "      <td>0.000019</td>\n",
              "      <td>22.43902</td>\n",
              "      <td>...</td>\n",
              "      <td>0.497909</td>\n",
              "      <td>0.710690</td>\n",
              "      <td>0.907816</td>\n",
              "      <td>3.653423</td>\n",
              "      <td>0.230162</td>\n",
              "      <td>0.009757</td>\n",
              "      <td>-0.072039</td>\n",
              "      <td>0.199384</td>\n",
              "      <td>0.003259</td>\n",
              "      <td>-0.328157</td>\n",
              "    </tr>\n",
              "    <tr>\n",
              "      <th>4</th>\n",
              "      <td>Resting</td>\n",
              "      <td>Control</td>\n",
              "      <td>4</td>\n",
              "      <td>0.000007</td>\n",
              "      <td>10.73171</td>\n",
              "      <td>23.41463</td>\n",
              "      <td>18.04878</td>\n",
              "      <td>11.70732</td>\n",
              "      <td>0.000010</td>\n",
              "      <td>17.56098</td>\n",
              "      <td>...</td>\n",
              "      <td>0.429825</td>\n",
              "      <td>0.569204</td>\n",
              "      <td>0.849345</td>\n",
              "      <td>4.001597</td>\n",
              "      <td>0.150029</td>\n",
              "      <td>-0.128318</td>\n",
              "      <td>-0.256780</td>\n",
              "      <td>0.122134</td>\n",
              "      <td>0.098870</td>\n",
              "      <td>-0.562065</td>\n",
              "    </tr>\n",
              "  </tbody>\n",
              "</table>\n",
              "<p>5 rows × 259 columns</p>\n",
              "</div>\n",
              "      <button class=\"colab-df-convert\" onclick=\"convertToInteractive('df-a7f444ec-9a36-4230-8ed8-542809a2fbd6')\"\n",
              "              title=\"Convert this dataframe to an interactive table.\"\n",
              "              style=\"display:none;\">\n",
              "        \n",
              "  <svg xmlns=\"http://www.w3.org/2000/svg\" height=\"24px\"viewBox=\"0 0 24 24\"\n",
              "       width=\"24px\">\n",
              "    <path d=\"M0 0h24v24H0V0z\" fill=\"none\"/>\n",
              "    <path d=\"M18.56 5.44l.94 2.06.94-2.06 2.06-.94-2.06-.94-.94-2.06-.94 2.06-2.06.94zm-11 1L8.5 8.5l.94-2.06 2.06-.94-2.06-.94L8.5 2.5l-.94 2.06-2.06.94zm10 10l.94 2.06.94-2.06 2.06-.94-2.06-.94-.94-2.06-.94 2.06-2.06.94z\"/><path d=\"M17.41 7.96l-1.37-1.37c-.4-.4-.92-.59-1.43-.59-.52 0-1.04.2-1.43.59L10.3 9.45l-7.72 7.72c-.78.78-.78 2.05 0 2.83L4 21.41c.39.39.9.59 1.41.59.51 0 1.02-.2 1.41-.59l7.78-7.78 2.81-2.81c.8-.78.8-2.07 0-2.86zM5.41 20L4 18.59l7.72-7.72 1.47 1.35L5.41 20z\"/>\n",
              "  </svg>\n",
              "      </button>\n",
              "      \n",
              "  <style>\n",
              "    .colab-df-container {\n",
              "      display:flex;\n",
              "      flex-wrap:wrap;\n",
              "      gap: 12px;\n",
              "    }\n",
              "\n",
              "    .colab-df-convert {\n",
              "      background-color: #E8F0FE;\n",
              "      border: none;\n",
              "      border-radius: 50%;\n",
              "      cursor: pointer;\n",
              "      display: none;\n",
              "      fill: #1967D2;\n",
              "      height: 32px;\n",
              "      padding: 0 0 0 0;\n",
              "      width: 32px;\n",
              "    }\n",
              "\n",
              "    .colab-df-convert:hover {\n",
              "      background-color: #E2EBFA;\n",
              "      box-shadow: 0px 1px 2px rgba(60, 64, 67, 0.3), 0px 1px 3px 1px rgba(60, 64, 67, 0.15);\n",
              "      fill: #174EA6;\n",
              "    }\n",
              "\n",
              "    [theme=dark] .colab-df-convert {\n",
              "      background-color: #3B4455;\n",
              "      fill: #D2E3FC;\n",
              "    }\n",
              "\n",
              "    [theme=dark] .colab-df-convert:hover {\n",
              "      background-color: #434B5C;\n",
              "      box-shadow: 0px 1px 3px 1px rgba(0, 0, 0, 0.15);\n",
              "      filter: drop-shadow(0px 1px 2px rgba(0, 0, 0, 0.3));\n",
              "      fill: #FFFFFF;\n",
              "    }\n",
              "  </style>\n",
              "\n",
              "      <script>\n",
              "        const buttonEl =\n",
              "          document.querySelector('#df-a7f444ec-9a36-4230-8ed8-542809a2fbd6 button.colab-df-convert');\n",
              "        buttonEl.style.display =\n",
              "          google.colab.kernel.accessAllowed ? 'block' : 'none';\n",
              "\n",
              "        async function convertToInteractive(key) {\n",
              "          const element = document.querySelector('#df-a7f444ec-9a36-4230-8ed8-542809a2fbd6');\n",
              "          const dataTable =\n",
              "            await google.colab.kernel.invokeFunction('convertToInteractive',\n",
              "                                                     [key], {});\n",
              "          if (!dataTable) return;\n",
              "\n",
              "          const docLinkHtml = 'Like what you see? Visit the ' +\n",
              "            '<a target=\"_blank\" href=https://colab.research.google.com/notebooks/data_table.ipynb>data table notebook</a>'\n",
              "            + ' to learn more about interactive tables.';\n",
              "          element.innerHTML = '';\n",
              "          dataTable['output_type'] = 'display_data';\n",
              "          await google.colab.output.renderOutput(dataTable, element);\n",
              "          const docLink = document.createElement('div');\n",
              "          docLink.innerHTML = docLinkHtml;\n",
              "          element.appendChild(docLink);\n",
              "        }\n",
              "      </script>\n",
              "    </div>\n",
              "  </div>\n",
              "  "
            ]
          },
          "metadata": {},
          "execution_count": 3
        }
      ]
    },
    {
      "cell_type": "code",
      "source": [
        "dataset.shape"
      ],
      "metadata": {
        "colab": {
          "base_uri": "https://localhost:8080/"
        },
        "id": "h8Wm0DGf4AJO",
        "outputId": "3a6bf834-836f-4c38-de9d-80c6d548b6f0"
      },
      "execution_count": 4,
      "outputs": [
        {
          "output_type": "execute_result",
          "data": {
            "text/plain": [
              "(1711, 259)"
            ]
          },
          "metadata": {},
          "execution_count": 4
        }
      ]
    },
    {
      "cell_type": "code",
      "source": [
        "dataset[target].value_counts()"
      ],
      "metadata": {
        "id": "AGAp91QUwrWo",
        "outputId": "8e1c9361-04bd-4ff7-8d04-06068887bcf7",
        "colab": {
          "base_uri": "https://localhost:8080/"
        }
      },
      "execution_count": 11,
      "outputs": [
        {
          "output_type": "execute_result",
          "data": {
            "text/plain": [
              "0    793\n",
              "2    408\n",
              "3    267\n",
              "1    243\n",
              "Name: Activity, dtype: int64"
            ]
          },
          "metadata": {},
          "execution_count": 11
        }
      ]
    },
    {
      "cell_type": "code",
      "source": [
        "set(list(dataset[target]))"
      ],
      "metadata": {
        "colab": {
          "base_uri": "https://localhost:8080/"
        },
        "id": "VS4iUbnyYaDH",
        "outputId": "3ccc9b94-0819-4c6f-fbc4-1b8461217b2c"
      },
      "execution_count": 5,
      "outputs": [
        {
          "output_type": "execute_result",
          "data": {
            "text/plain": [
              "{'Reading', 'Resting', 'Walking', 'Working'}"
            ]
          },
          "metadata": {},
          "execution_count": 5
        }
      ]
    },
    {
      "cell_type": "code",
      "source": [
        "\n",
        "from sklearn.preprocessing import LabelEncoder\n",
        "encoder=LabelEncoder()\n",
        "dataset[target]=encoder.fit_transform(dataset[target])"
      ],
      "metadata": {
        "id": "Ljyj9yuIf-tX"
      },
      "execution_count": 6,
      "outputs": []
    },
    {
      "cell_type": "code",
      "source": [
        "set(list(dataset['Activity']))"
      ],
      "metadata": {
        "colab": {
          "base_uri": "https://localhost:8080/"
        },
        "id": "42si00q3SLh5",
        "outputId": "8a54187e-e4ec-4148-b579-e9f893210da9"
      },
      "execution_count": 7,
      "outputs": [
        {
          "output_type": "execute_result",
          "data": {
            "text/plain": [
              "{0, 1, 2, 3}"
            ]
          },
          "metadata": {},
          "execution_count": 7
        }
      ]
    },
    {
      "cell_type": "markdown",
      "source": [
        "#Spliting into X and y"
      ],
      "metadata": {
        "id": "ZAUQcyHz4wlO"
      }
    },
    {
      "cell_type": "code",
      "source": [
        "X =  dataset.loc[:,dataset.columns != target]  # removing Activity \n",
        "X =  X.loc[:,X.columns != \"Status\"]            # removing Status\n",
        "X =  X.loc[:,X.columns != \"Epoch\"]             # removing Epoch\n",
        "y = dataset[\"Activity\"]\n",
        "\n",
        "X.head(10)"
      ],
      "metadata": {
        "id": "eBxa1iqT3Ocs"
      },
      "execution_count": null,
      "outputs": []
    },
    {
      "cell_type": "code",
      "source": [
        "new_dataset =  balance(X,y)"
      ],
      "metadata": {
        "id": "hHX2PZjeAPHj"
      },
      "execution_count": 14,
      "outputs": []
    },
    {
      "cell_type": "markdown",
      "source": [
        "#Feature Selection"
      ],
      "metadata": {
        "id": "C0Akgb_na7NU"
      }
    },
    {
      "cell_type": "code",
      "source": [
        "number_of_feat = 20"
      ],
      "metadata": {
        "id": "rY2mWiZv80L2"
      },
      "execution_count": 15,
      "outputs": []
    },
    {
      "cell_type": "markdown",
      "source": [
        "Run only one Method"
      ],
      "metadata": {
        "id": "hBJAeCQyG9K1"
      }
    },
    {
      "cell_type": "markdown",
      "source": [
        "###ANOVA with f classifciation"
      ],
      "metadata": {
        "id": "cR3Hrghl7CVj"
      }
    },
    {
      "cell_type": "code",
      "source": [
        "from sklearn.datasets import make_classification\n",
        "from sklearn.feature_selection import SelectKBest\n",
        "from sklearn.feature_selection import f_classif\n",
        "import pandas as pd\n",
        "\n",
        "\n",
        "\n",
        "fs = SelectKBest(score_func=f_classif, k=5)\n",
        "fit = fs.fit(X,y)\n",
        "dfscores = pd.DataFrame(fit.scores_)\n",
        "dfcolumns = pd.DataFrame(X.columns)\n",
        "\n",
        "featureScores = pd.concat([dfcolumns,dfscores],axis=1)\n",
        "\n",
        "featureScores.columns = ['Best_columns','Score_ANOVA'] \n",
        "\n",
        "lyst = featureScores.nlargest(number_of_feat,'Score_ANOVA')\n",
        "\n",
        "#lyst.to_csv('Filter_Method_ANOVA_with_f_classif.csv')\n",
        "\n",
        "list_of_feat = list(lyst[\"Best_columns\"])"
      ],
      "metadata": {
        "id": "jWdiiglz2iV-"
      },
      "execution_count": 16,
      "outputs": []
    },
    {
      "cell_type": "markdown",
      "source": [
        "###Embedded Method"
      ],
      "metadata": {
        "id": "ulApxK0w7JXX"
      }
    },
    {
      "cell_type": "code",
      "source": [
        "\n",
        "from sklearn.linear_model import LassoCV\n",
        "reg = LassoCV()\n",
        "reg.fit(X, y)\n",
        "print(\"Best alpha using built-in LassoCV: %f\" % reg.alpha_)\n",
        "print(\"Best score using built-in LassoCV: %f\" %reg.score(X,y))\n",
        "coef = pd.Series(reg.coef_, index = X.columns)\n",
        "\n",
        "print(\"Lasso picked \" + str(sum(coef != 0)) + \" variables and eliminated the other \" +  str(sum(coef == 0)) + \" variables\")\n",
        "\n",
        "imp_coef = coef.sort_values()\n",
        "\n",
        "list_of_feat=[]\n",
        "\n",
        "\n",
        "for i in range(coef.shape[0]):\n",
        "  if coef[i]!=0:\n",
        "    list_of_feat.append(dataset.iloc[:0,i+3].name)\n",
        "    \n",
        "df = pd.DataFrame(list_of_feat, columns=['Best_Features'])\n",
        "\n",
        "#df.to_csv(\"Embedded_Method.csv\")\n",
        "\n",
        "list_of_feat = list(df[\"Best_Features\"])"
      ],
      "metadata": {
        "id": "2A4W1e2v5sse"
      },
      "execution_count": null,
      "outputs": []
    },
    {
      "cell_type": "markdown",
      "source": [
        "###Pearson's with f regression"
      ],
      "metadata": {
        "id": "roe4MPHM7NJy"
      }
    },
    {
      "cell_type": "code",
      "source": [
        "from sklearn.datasets import make_regression\n",
        "from sklearn.feature_selection import SelectKBest\n",
        "from sklearn.feature_selection import f_regression\n",
        "import pandas as pd\n",
        "\n",
        "\n",
        "fs = SelectKBest(score_func=f_regression, k=5)\n",
        "fit = fs.fit(X,y)\n",
        "\n",
        "dfscores = pd.DataFrame(fit.scores_)\n",
        "dfcolumns = pd.DataFrame(dataset.columns)\n",
        "featureScores = pd.concat([dfcolumns,dfscores],axis=1)\n",
        "\n",
        "featureScores.columns = ['Best_columns','Score_pearsons'] \n",
        "\n",
        "\n",
        "lyst = featureScores.nlargest(number_of_feat,'Score_pearsons')\n",
        "\n",
        "#lyst.to_csv('Filter_Method_Pearson’s_with_f_regression.csv')\n",
        "\n",
        "list_of_feat = list(lyst[\"Best_columns\"])"
      ],
      "metadata": {
        "id": "o4A0dH566an_"
      },
      "execution_count": null,
      "outputs": []
    },
    {
      "cell_type": "markdown",
      "source": [
        "###Sequential Feature Selection"
      ],
      "metadata": {
        "id": "kwFK7VeE7RwH"
      }
    },
    {
      "cell_type": "code",
      "source": [
        "from sklearn.feature_selection import SequentialFeatureSelector\n",
        "from sklearn.neighbors import KNeighborsClassifier\n",
        "knn = KNeighborsClassifier(n_neighbors=3)\n",
        "sfs = SequentialFeatureSelector(knn, n_features_to_select=number_of_feat)\n",
        "sfs.fit(X, y)\n",
        "list_of_feat=[]\n",
        "list_of_feat=list(sfs.get_feature_names_out(X.columns))\n",
        "\n",
        "df = pd.DataFrame(list_of_feat, columns=['Best_Features'])\n",
        "\n",
        "#df.to_csv(\"Filter_Method_Sequential_feat_Selection_KNN.csv\")\n",
        "\n",
        "list_of_feat = list(df[\"Best_Features\"])"
      ],
      "metadata": {
        "id": "sQlorvfS6wed"
      },
      "execution_count": null,
      "outputs": []
    },
    {
      "cell_type": "markdown",
      "source": [
        "###All features"
      ],
      "metadata": {
        "id": "swd5ZOVO-8cL"
      }
    },
    {
      "cell_type": "code",
      "source": [
        "list_of_feat = list(X.columns)"
      ],
      "metadata": {
        "id": "KoiMxNN3-_zH"
      },
      "execution_count": null,
      "outputs": []
    },
    {
      "cell_type": "markdown",
      "source": [
        "#Dataset Spliting"
      ],
      "metadata": {
        "id": "k4YDHMuh-wMT"
      }
    },
    {
      "cell_type": "code",
      "source": [
        "X_new = new_dataset[list_of_feat]\n",
        "y_new = new_dataset[target]"
      ],
      "metadata": {
        "id": "MKgy4THrq4v8"
      },
      "execution_count": 17,
      "outputs": []
    },
    {
      "cell_type": "code",
      "source": [
        "X_new.shape"
      ],
      "metadata": {
        "id": "Fxz-DgDXZtpD",
        "colab": {
          "base_uri": "https://localhost:8080/"
        },
        "outputId": "1d419690-b6d4-4e96-d21b-928f7d17a229"
      },
      "execution_count": 18,
      "outputs": [
        {
          "output_type": "execute_result",
          "data": {
            "text/plain": [
              "(3172, 20)"
            ]
          },
          "metadata": {},
          "execution_count": 18
        }
      ]
    },
    {
      "cell_type": "code",
      "source": [
        "y_new.shape"
      ],
      "metadata": {
        "id": "1q9Y_6BAr-es",
        "colab": {
          "base_uri": "https://localhost:8080/"
        },
        "outputId": "ef04bf94-dbc9-40f3-f835-74c0ce7b1ffc"
      },
      "execution_count": 19,
      "outputs": [
        {
          "output_type": "execute_result",
          "data": {
            "text/plain": [
              "(3172,)"
            ]
          },
          "metadata": {},
          "execution_count": 19
        }
      ]
    },
    {
      "cell_type": "code",
      "source": [
        "from sklearn.model_selection import train_test_split\n",
        "X_train, X_test, y_train, y_test = train_test_split(X_new, y_new, test_size = 0.2, random_state = 0)"
      ],
      "metadata": {
        "id": "_CYZE4jgq3w9"
      },
      "execution_count": 20,
      "outputs": []
    },
    {
      "cell_type": "markdown",
      "source": [
        "\n",
        "\n",
        "---\n",
        "\n"
      ],
      "metadata": {
        "id": "bqYsoblRogp2"
      }
    },
    {
      "cell_type": "markdown",
      "source": [
        "\n",
        "\n",
        "---\n",
        "\n"
      ],
      "metadata": {
        "id": "BydV84Diooxp"
      }
    },
    {
      "cell_type": "markdown",
      "source": [
        "#ADABOOST"
      ],
      "metadata": {
        "id": "jEe2R0yAoifa"
      }
    },
    {
      "cell_type": "code",
      "source": [
        "from sklearn.ensemble import AdaBoostClassifier\n",
        "\n",
        "ada_defult = AdaBoostClassifier(random_state=0)\n",
        "ada_defult.fit(X_train, y_train)\n",
        "y_pred = ada_defult.predict(X_test)\n",
        "\n",
        "from sklearn.metrics import classification_report, confusion_matrix, accuracy_score\n",
        "print(confusion_matrix(y_test, y_pred))\n",
        "print(classification_report(y_test,y_pred))\n",
        "print(\"Accurecy: \",accuracy_score(y_test, y_pred))\n",
        "result[(ada_defult,1,'AdaBoostClassifier')]=accuracy_score(y_test, y_pred)\n"
      ],
      "metadata": {
        "id": "Bz_yVJaXod8O",
        "colab": {
          "base_uri": "https://localhost:8080/"
        },
        "outputId": "e092dacd-14ce-4b88-f9cd-f2ebe057fa4d"
      },
      "execution_count": 21,
      "outputs": [
        {
          "output_type": "stream",
          "name": "stdout",
          "text": [
            "[[ 91  38  27   7]\n",
            " [ 54  68  14   9]\n",
            " [ 31  26  74  37]\n",
            " [ 20  14  15 110]]\n",
            "              precision    recall  f1-score   support\n",
            "\n",
            "           0       0.46      0.56      0.51       163\n",
            "           1       0.47      0.47      0.47       145\n",
            "           2       0.57      0.44      0.50       168\n",
            "           3       0.67      0.69      0.68       159\n",
            "\n",
            "    accuracy                           0.54       635\n",
            "   macro avg       0.54      0.54      0.54       635\n",
            "weighted avg       0.55      0.54      0.54       635\n",
            "\n",
            "Accurecy:  0.5401574803149606\n"
          ]
        }
      ]
    },
    {
      "cell_type": "code",
      "source": [
        "from sklearn.ensemble import AdaBoostClassifier\n",
        "N=200\n",
        "k_range = range (1,N+1)\n",
        "scores={}\n",
        "scores_list = []\n",
        "for k in k_range:\n",
        "  classifier = AdaBoostClassifier(n_estimators=k,random_state=0)\n",
        "  classifier.fit(X_train, y_train)\n",
        "  y_pred=classifier.predict(X_test)\n",
        "  scores[k] = accuracy_score(y_test,y_pred)\n",
        "  scores_list.append(accuracy_score(y_test,y_pred))\n",
        "  print(str(k)+\"/\"+str(N)+\" round completed......................... Accurecy: \"+str(accuracy_score(y_test,y_pred)))\n",
        "\n",
        "\n",
        "\n",
        "%matplotlib inline\n",
        "import matplotlib.pyplot as plt\n",
        "#plot the relationship between K and the testing accuracy\n",
        "plt.figure(figsize = (25,10))\n",
        "plt.plot(k_range,scores_list)\n",
        "plt.xlabel('Value of n_estimators')\n",
        "plt.ylabel ('Testing Accuracy')\n",
        "\n",
        "\n",
        "\n",
        "print(\"The best n_estimators:\")\n",
        "best_estimator=list(scores.keys())[scores_list.index(max(scores_list))]\n",
        "print(best_estimator)"
      ],
      "metadata": {
        "id": "_3wRG3rxotzH",
        "colab": {
          "base_uri": "https://localhost:8080/",
          "height": 0
        },
        "outputId": "835f2665-0fd6-4635-c9c0-2820bf3a00f0"
      },
      "execution_count": 22,
      "outputs": [
        {
          "output_type": "stream",
          "name": "stdout",
          "text": [
            "1/200 round completed......................... Accurecy: 0.4031496062992126\n",
            "2/200 round completed......................... Accurecy: 0.48031496062992124\n",
            "3/200 round completed......................... Accurecy: 0.48503937007874015\n",
            "4/200 round completed......................... Accurecy: 0.494488188976378\n",
            "5/200 round completed......................... Accurecy: 0.49921259842519683\n",
            "6/200 round completed......................... Accurecy: 0.5401574803149606\n",
            "7/200 round completed......................... Accurecy: 0.5464566929133858\n",
            "8/200 round completed......................... Accurecy: 0.5181102362204725\n",
            "9/200 round completed......................... Accurecy: 0.552755905511811\n",
            "10/200 round completed......................... Accurecy: 0.5401574803149606\n",
            "11/200 round completed......................... Accurecy: 0.5622047244094488\n",
            "12/200 round completed......................... Accurecy: 0.5606299212598426\n",
            "13/200 round completed......................... Accurecy: 0.5622047244094488\n",
            "14/200 round completed......................... Accurecy: 0.5511811023622047\n",
            "15/200 round completed......................... Accurecy: 0.5543307086614173\n",
            "16/200 round completed......................... Accurecy: 0.5653543307086614\n",
            "17/200 round completed......................... Accurecy: 0.5401574803149606\n",
            "18/200 round completed......................... Accurecy: 0.5543307086614173\n",
            "19/200 round completed......................... Accurecy: 0.5448818897637795\n",
            "20/200 round completed......................... Accurecy: 0.5433070866141733\n",
            "21/200 round completed......................... Accurecy: 0.5543307086614173\n",
            "22/200 round completed......................... Accurecy: 0.5480314960629922\n",
            "23/200 round completed......................... Accurecy: 0.5511811023622047\n",
            "24/200 round completed......................... Accurecy: 0.5511811023622047\n",
            "25/200 round completed......................... Accurecy: 0.5401574803149606\n",
            "26/200 round completed......................... Accurecy: 0.552755905511811\n",
            "27/200 round completed......................... Accurecy: 0.5590551181102362\n",
            "28/200 round completed......................... Accurecy: 0.5464566929133858\n",
            "29/200 round completed......................... Accurecy: 0.5543307086614173\n",
            "30/200 round completed......................... Accurecy: 0.552755905511811\n",
            "31/200 round completed......................... Accurecy: 0.552755905511811\n",
            "32/200 round completed......................... Accurecy: 0.5543307086614173\n",
            "33/200 round completed......................... Accurecy: 0.552755905511811\n",
            "34/200 round completed......................... Accurecy: 0.5543307086614173\n",
            "35/200 round completed......................... Accurecy: 0.5464566929133858\n",
            "36/200 round completed......................... Accurecy: 0.5496062992125984\n",
            "37/200 round completed......................... Accurecy: 0.5496062992125984\n",
            "38/200 round completed......................... Accurecy: 0.5496062992125984\n",
            "39/200 round completed......................... Accurecy: 0.5433070866141733\n",
            "40/200 round completed......................... Accurecy: 0.552755905511811\n",
            "41/200 round completed......................... Accurecy: 0.5417322834645669\n",
            "42/200 round completed......................... Accurecy: 0.5338582677165354\n",
            "43/200 round completed......................... Accurecy: 0.5433070866141733\n",
            "44/200 round completed......................... Accurecy: 0.5448818897637795\n",
            "45/200 round completed......................... Accurecy: 0.5385826771653544\n",
            "46/200 round completed......................... Accurecy: 0.5401574803149606\n",
            "47/200 round completed......................... Accurecy: 0.5480314960629922\n",
            "48/200 round completed......................... Accurecy: 0.5401574803149606\n",
            "49/200 round completed......................... Accurecy: 0.5385826771653544\n",
            "50/200 round completed......................... Accurecy: 0.5401574803149606\n",
            "51/200 round completed......................... Accurecy: 0.537007874015748\n",
            "52/200 round completed......................... Accurecy: 0.5354330708661418\n",
            "53/200 round completed......................... Accurecy: 0.5401574803149606\n",
            "54/200 round completed......................... Accurecy: 0.5385826771653544\n",
            "55/200 round completed......................... Accurecy: 0.5338582677165354\n",
            "56/200 round completed......................... Accurecy: 0.5338582677165354\n",
            "57/200 round completed......................... Accurecy: 0.5338582677165354\n",
            "58/200 round completed......................... Accurecy: 0.5354330708661418\n",
            "59/200 round completed......................... Accurecy: 0.5338582677165354\n",
            "60/200 round completed......................... Accurecy: 0.5322834645669291\n",
            "61/200 round completed......................... Accurecy: 0.5338582677165354\n",
            "62/200 round completed......................... Accurecy: 0.5464566929133858\n",
            "63/200 round completed......................... Accurecy: 0.5433070866141733\n",
            "64/200 round completed......................... Accurecy: 0.5480314960629922\n",
            "65/200 round completed......................... Accurecy: 0.552755905511811\n",
            "66/200 round completed......................... Accurecy: 0.5511811023622047\n",
            "67/200 round completed......................... Accurecy: 0.5511811023622047\n",
            "68/200 round completed......................... Accurecy: 0.5543307086614173\n",
            "69/200 round completed......................... Accurecy: 0.552755905511811\n",
            "70/200 round completed......................... Accurecy: 0.537007874015748\n",
            "71/200 round completed......................... Accurecy: 0.5417322834645669\n",
            "72/200 round completed......................... Accurecy: 0.5354330708661418\n",
            "73/200 round completed......................... Accurecy: 0.5480314960629922\n",
            "74/200 round completed......................... Accurecy: 0.5464566929133858\n",
            "75/200 round completed......................... Accurecy: 0.5511811023622047\n",
            "76/200 round completed......................... Accurecy: 0.552755905511811\n",
            "77/200 round completed......................... Accurecy: 0.5464566929133858\n",
            "78/200 round completed......................... Accurecy: 0.5511811023622047\n",
            "79/200 round completed......................... Accurecy: 0.5480314960629922\n",
            "80/200 round completed......................... Accurecy: 0.552755905511811\n",
            "81/200 round completed......................... Accurecy: 0.552755905511811\n",
            "82/200 round completed......................... Accurecy: 0.5496062992125984\n",
            "83/200 round completed......................... Accurecy: 0.5496062992125984\n",
            "84/200 round completed......................... Accurecy: 0.5496062992125984\n",
            "85/200 round completed......................... Accurecy: 0.5511811023622047\n",
            "86/200 round completed......................... Accurecy: 0.5417322834645669\n",
            "87/200 round completed......................... Accurecy: 0.5448818897637795\n",
            "88/200 round completed......................... Accurecy: 0.5496062992125984\n",
            "89/200 round completed......................... Accurecy: 0.5417322834645669\n",
            "90/200 round completed......................... Accurecy: 0.5496062992125984\n",
            "91/200 round completed......................... Accurecy: 0.5496062992125984\n",
            "92/200 round completed......................... Accurecy: 0.5448818897637795\n",
            "93/200 round completed......................... Accurecy: 0.5496062992125984\n",
            "94/200 round completed......................... Accurecy: 0.5464566929133858\n",
            "95/200 round completed......................... Accurecy: 0.5464566929133858\n",
            "96/200 round completed......................... Accurecy: 0.5448818897637795\n",
            "97/200 round completed......................... Accurecy: 0.5559055118110237\n",
            "98/200 round completed......................... Accurecy: 0.5574803149606299\n",
            "99/200 round completed......................... Accurecy: 0.5543307086614173\n",
            "100/200 round completed......................... Accurecy: 0.5590551181102362\n",
            "101/200 round completed......................... Accurecy: 0.552755905511811\n",
            "102/200 round completed......................... Accurecy: 0.5590551181102362\n",
            "103/200 round completed......................... Accurecy: 0.5590551181102362\n",
            "104/200 round completed......................... Accurecy: 0.5559055118110237\n",
            "105/200 round completed......................... Accurecy: 0.5543307086614173\n",
            "106/200 round completed......................... Accurecy: 0.5496062992125984\n",
            "107/200 round completed......................... Accurecy: 0.5559055118110237\n",
            "108/200 round completed......................... Accurecy: 0.552755905511811\n",
            "109/200 round completed......................... Accurecy: 0.5543307086614173\n",
            "110/200 round completed......................... Accurecy: 0.5543307086614173\n",
            "111/200 round completed......................... Accurecy: 0.5622047244094488\n",
            "112/200 round completed......................... Accurecy: 0.5543307086614173\n",
            "113/200 round completed......................... Accurecy: 0.5543307086614173\n",
            "114/200 round completed......................... Accurecy: 0.552755905511811\n",
            "115/200 round completed......................... Accurecy: 0.5543307086614173\n",
            "116/200 round completed......................... Accurecy: 0.5511811023622047\n",
            "117/200 round completed......................... Accurecy: 0.5480314960629922\n",
            "118/200 round completed......................... Accurecy: 0.5496062992125984\n",
            "119/200 round completed......................... Accurecy: 0.5480314960629922\n",
            "120/200 round completed......................... Accurecy: 0.5496062992125984\n",
            "121/200 round completed......................... Accurecy: 0.5448818897637795\n",
            "122/200 round completed......................... Accurecy: 0.5480314960629922\n",
            "123/200 round completed......................... Accurecy: 0.5385826771653544\n",
            "124/200 round completed......................... Accurecy: 0.5464566929133858\n",
            "125/200 round completed......................... Accurecy: 0.5354330708661418\n",
            "126/200 round completed......................... Accurecy: 0.5401574803149606\n",
            "127/200 round completed......................... Accurecy: 0.5433070866141733\n",
            "128/200 round completed......................... Accurecy: 0.5464566929133858\n",
            "129/200 round completed......................... Accurecy: 0.5448818897637795\n",
            "130/200 round completed......................... Accurecy: 0.5433070866141733\n",
            "131/200 round completed......................... Accurecy: 0.5433070866141733\n",
            "132/200 round completed......................... Accurecy: 0.5385826771653544\n",
            "133/200 round completed......................... Accurecy: 0.5464566929133858\n",
            "134/200 round completed......................... Accurecy: 0.5417322834645669\n",
            "135/200 round completed......................... Accurecy: 0.5464566929133858\n",
            "136/200 round completed......................... Accurecy: 0.5401574803149606\n",
            "137/200 round completed......................... Accurecy: 0.5433070866141733\n",
            "138/200 round completed......................... Accurecy: 0.5559055118110237\n",
            "139/200 round completed......................... Accurecy: 0.5543307086614173\n",
            "140/200 round completed......................... Accurecy: 0.552755905511811\n",
            "141/200 round completed......................... Accurecy: 0.5480314960629922\n",
            "142/200 round completed......................... Accurecy: 0.5480314960629922\n",
            "143/200 round completed......................... Accurecy: 0.5511811023622047\n",
            "144/200 round completed......................... Accurecy: 0.5496062992125984\n",
            "145/200 round completed......................... Accurecy: 0.5511811023622047\n",
            "146/200 round completed......................... Accurecy: 0.5480314960629922\n",
            "147/200 round completed......................... Accurecy: 0.5433070866141733\n",
            "148/200 round completed......................... Accurecy: 0.552755905511811\n",
            "149/200 round completed......................... Accurecy: 0.5496062992125984\n",
            "150/200 round completed......................... Accurecy: 0.552755905511811\n",
            "151/200 round completed......................... Accurecy: 0.5496062992125984\n",
            "152/200 round completed......................... Accurecy: 0.5464566929133858\n",
            "153/200 round completed......................... Accurecy: 0.5448818897637795\n",
            "154/200 round completed......................... Accurecy: 0.5464566929133858\n",
            "155/200 round completed......................... Accurecy: 0.5464566929133858\n",
            "156/200 round completed......................... Accurecy: 0.5464566929133858\n",
            "157/200 round completed......................... Accurecy: 0.5590551181102362\n",
            "158/200 round completed......................... Accurecy: 0.552755905511811\n",
            "159/200 round completed......................... Accurecy: 0.5543307086614173\n",
            "160/200 round completed......................... Accurecy: 0.5322834645669291\n",
            "161/200 round completed......................... Accurecy: 0.537007874015748\n",
            "162/200 round completed......................... Accurecy: 0.5007874015748032\n",
            "163/200 round completed......................... Accurecy: 0.5196850393700787\n",
            "164/200 round completed......................... Accurecy: 0.5228346456692914\n",
            "165/200 round completed......................... Accurecy: 0.521259842519685\n",
            "166/200 round completed......................... Accurecy: 0.5196850393700787\n",
            "167/200 round completed......................... Accurecy: 0.5244094488188976\n",
            "168/200 round completed......................... Accurecy: 0.5181102362204725\n",
            "169/200 round completed......................... Accurecy: 0.5149606299212598\n",
            "170/200 round completed......................... Accurecy: 0.5118110236220472\n",
            "171/200 round completed......................... Accurecy: 0.5181102362204725\n",
            "172/200 round completed......................... Accurecy: 0.5181102362204725\n",
            "173/200 round completed......................... Accurecy: 0.5149606299212598\n",
            "174/200 round completed......................... Accurecy: 0.5307086614173229\n",
            "175/200 round completed......................... Accurecy: 0.5181102362204725\n",
            "176/200 round completed......................... Accurecy: 0.5165354330708661\n",
            "177/200 round completed......................... Accurecy: 0.5149606299212598\n",
            "178/200 round completed......................... Accurecy: 0.5149606299212598\n",
            "179/200 round completed......................... Accurecy: 0.5165354330708661\n",
            "180/200 round completed......................... Accurecy: 0.5165354330708661\n",
            "181/200 round completed......................... Accurecy: 0.537007874015748\n",
            "182/200 round completed......................... Accurecy: 0.525984251968504\n",
            "183/200 round completed......................... Accurecy: 0.5275590551181102\n",
            "184/200 round completed......................... Accurecy: 0.5291338582677165\n",
            "185/200 round completed......................... Accurecy: 0.5291338582677165\n",
            "186/200 round completed......................... Accurecy: 0.5275590551181102\n",
            "187/200 round completed......................... Accurecy: 0.5322834645669291\n",
            "188/200 round completed......................... Accurecy: 0.5354330708661418\n",
            "189/200 round completed......................... Accurecy: 0.5417322834645669\n",
            "190/200 round completed......................... Accurecy: 0.5354330708661418\n",
            "191/200 round completed......................... Accurecy: 0.5433070866141733\n",
            "192/200 round completed......................... Accurecy: 0.5385826771653544\n",
            "193/200 round completed......................... Accurecy: 0.5385826771653544\n",
            "194/200 round completed......................... Accurecy: 0.5417322834645669\n",
            "195/200 round completed......................... Accurecy: 0.5385826771653544\n",
            "196/200 round completed......................... Accurecy: 0.5354330708661418\n",
            "197/200 round completed......................... Accurecy: 0.5291338582677165\n",
            "198/200 round completed......................... Accurecy: 0.5338582677165354\n",
            "199/200 round completed......................... Accurecy: 0.5385826771653544\n",
            "200/200 round completed......................... Accurecy: 0.5433070866141733\n",
            "The best n_estimators:\n",
            "16\n"
          ]
        },
        {
          "output_type": "display_data",
          "data": {
            "text/plain": [
              "<Figure size 1800x720 with 1 Axes>"
            ],
            "image/png": "[encoded data removed]"
          },
          "metadata": {
            "needs_background": "light"
          }
        }
      ]
    },
    {
      "cell_type": "code",
      "source": [
        "from sklearn.ensemble import AdaBoostClassifier\n",
        "\n",
        "ada_best_estimator = AdaBoostClassifier(n_estimators=best_estimator,random_state=0)\n",
        "ada_best_estimator.fit(X_train, y_train)\n",
        "y_pred = ada_best_estimator.predict(X_test)\n",
        "\n",
        "from sklearn.metrics import classification_report, confusion_matrix, accuracy_score\n",
        "print(confusion_matrix(y_test, y_pred))\n",
        "print(classification_report(y_test,y_pred))\n",
        "print(\"Accurecy: \",accuracy_score(y_test, y_pred))\n",
        "result[(ada_best_estimator,1,'AdaBoostClassifier')]=accuracy_score(y_test, y_pred)"
      ],
      "metadata": {
        "id": "ctzoGCmFo0In",
        "colab": {
          "base_uri": "https://localhost:8080/"
        },
        "outputId": "fc0b8b9b-a863-484f-c8c7-c281894e2ee1"
      },
      "execution_count": 23,
      "outputs": [
        {
          "output_type": "stream",
          "name": "stdout",
          "text": [
            "[[102  28  24   9]\n",
            " [ 57  66  13   9]\n",
            " [ 38  24  73  33]\n",
            " [ 16   9  16 118]]\n",
            "              precision    recall  f1-score   support\n",
            "\n",
            "           0       0.48      0.63      0.54       163\n",
            "           1       0.52      0.46      0.49       145\n",
            "           2       0.58      0.43      0.50       168\n",
            "           3       0.70      0.74      0.72       159\n",
            "\n",
            "    accuracy                           0.57       635\n",
            "   macro avg       0.57      0.56      0.56       635\n",
            "weighted avg       0.57      0.57      0.56       635\n",
            "\n",
            "Accurecy:  0.5653543307086614\n"
          ]
        }
      ]
    },
    {
      "cell_type": "markdown",
      "source": [
        "\n",
        "\n",
        "---\n",
        "\n",
        "\n",
        "\n",
        "---\n",
        "\n"
      ],
      "metadata": {
        "id": "JQhATacCo1AD"
      }
    },
    {
      "cell_type": "markdown",
      "source": [
        "#Graddient Boosting"
      ],
      "metadata": {
        "id": "FJybpt_UvCU0"
      }
    },
    {
      "cell_type": "code",
      "source": [
        "from sklearn.ensemble import GradientBoostingClassifier\n",
        "from sklearn.model_selection import RepeatedStratifiedKFold\n",
        "\n",
        "gradBoost_default = GradientBoostingClassifier(random_state=0)\n",
        "gradBoost_default.fit(X_train, y_train)\n",
        "y_pred = gradBoost_default.predict(X_test)\n",
        "\n",
        "from sklearn.metrics import classification_report, confusion_matrix, accuracy_score\n",
        "print(confusion_matrix(y_test, y_pred))\n",
        "print(classification_report(y_test,y_pred))\n",
        "print(\"Accurecy: \",accuracy_score(y_test, y_pred))\n",
        "result[(gradBoost_default,2,'GradientBoostingClassifier')]=accuracy_score(y_test, y_pred)"
      ],
      "metadata": {
        "id": "sgmvc8A_o18j",
        "colab": {
          "base_uri": "https://localhost:8080/"
        },
        "outputId": "757b7269-325f-4e52-87a8-151c1752b8ea"
      },
      "execution_count": 24,
      "outputs": [
        {
          "output_type": "stream",
          "name": "stdout",
          "text": [
            "[[122  21  14   6]\n",
            " [ 22 110   9   4]\n",
            " [ 25  14 108  21]\n",
            " [ 12  12  10 125]]\n",
            "              precision    recall  f1-score   support\n",
            "\n",
            "           0       0.67      0.75      0.71       163\n",
            "           1       0.70      0.76      0.73       145\n",
            "           2       0.77      0.64      0.70       168\n",
            "           3       0.80      0.79      0.79       159\n",
            "\n",
            "    accuracy                           0.73       635\n",
            "   macro avg       0.74      0.73      0.73       635\n",
            "weighted avg       0.74      0.73      0.73       635\n",
            "\n",
            "Accurecy:  0.7322834645669292\n"
          ]
        }
      ]
    },
    {
      "cell_type": "code",
      "source": [
        "from sklearn.ensemble import GradientBoostingClassifier\n",
        "from sklearn.metrics import accuracy_score\n",
        "N=150\n",
        "k_range = range (1,N+1)\n",
        "scores={}\n",
        "scores_list = []\n",
        "for k in k_range:\n",
        "  classifier = GradientBoostingClassifier(n_estimators=k,random_state=0)\n",
        "  classifier.fit(X_train, y_train)\n",
        "  y_pred=classifier.predict(X_test)\n",
        "  scores[k] = accuracy_score(y_test,y_pred)\n",
        "  scores_list.append(accuracy_score(y_test,y_pred))\n",
        "  print(str(k)+\"/\"+str(N)+\" round completed......................... Accurecy: \"+str(accuracy_score(y_test,y_pred)))\n",
        "\n",
        "\n",
        "\n",
        "%matplotlib inline\n",
        "import matplotlib.pyplot as plt\n",
        "\n",
        "plt.figure(figsize = (25,10))\n",
        "plt.plot(k_range,scores_list)\n",
        "plt.xlabel('Value of n_estimators')\n",
        "plt.ylabel ('Testing Accuracy')\n",
        "\n",
        "\n",
        "\n",
        "print(\"The best n_estimators:\")\n",
        "best_estimator=list(scores.keys())[scores_list.index(max(scores_list))]\n",
        "print(best_estimator)"
      ],
      "metadata": {
        "id": "9brp-qNgo-tX",
        "colab": {
          "base_uri": "https://localhost:8080/",
          "height": 0
        },
        "outputId": "0d8d7588-ab51-43f4-a19a-9cca45facc53"
      },
      "execution_count": 25,
      "outputs": [
        {
          "output_type": "stream",
          "name": "stdout",
          "text": [
            "1/150 round completed......................... Accurecy: 0.568503937007874\n",
            "2/150 round completed......................... Accurecy: 0.5748031496062992\n",
            "3/150 round completed......................... Accurecy: 0.5763779527559055\n",
            "4/150 round completed......................... Accurecy: 0.5826771653543307\n",
            "5/150 round completed......................... Accurecy: 0.5811023622047244\n",
            "6/150 round completed......................... Accurecy: 0.5826771653543307\n",
            "7/150 round completed......................... Accurecy: 0.5889763779527559\n",
            "8/150 round completed......................... Accurecy: 0.5889763779527559\n",
            "9/150 round completed......................... Accurecy: 0.6015748031496063\n",
            "10/150 round completed......................... Accurecy: 0.6\n",
            "11/150 round completed......................... Accurecy: 0.5984251968503937\n",
            "12/150 round completed......................... Accurecy: 0.6047244094488189\n",
            "13/150 round completed......................... Accurecy: 0.6078740157480315\n",
            "14/150 round completed......................... Accurecy: 0.6078740157480315\n",
            "15/150 round completed......................... Accurecy: 0.6094488188976378\n",
            "16/150 round completed......................... Accurecy: 0.6125984251968504\n",
            "17/150 round completed......................... Accurecy: 0.6125984251968504\n",
            "18/150 round completed......................... Accurecy: 0.6188976377952756\n",
            "19/150 round completed......................... Accurecy: 0.6236220472440945\n",
            "20/150 round completed......................... Accurecy: 0.6204724409448819\n",
            "21/150 round completed......................... Accurecy: 0.6299212598425197\n",
            "22/150 round completed......................... Accurecy: 0.6251968503937008\n",
            "23/150 round completed......................... Accurecy: 0.6267716535433071\n",
            "24/150 round completed......................... Accurecy: 0.6330708661417322\n",
            "25/150 round completed......................... Accurecy: 0.6377952755905512\n",
            "26/150 round completed......................... Accurecy: 0.6377952755905512\n",
            "27/150 round completed......................... Accurecy: 0.6393700787401575\n",
            "28/150 round completed......................... Accurecy: 0.6409448818897637\n",
            "29/150 round completed......................... Accurecy: 0.6488188976377953\n",
            "30/150 round completed......................... Accurecy: 0.6503937007874016\n",
            "31/150 round completed......................... Accurecy: 0.6535433070866141\n",
            "32/150 round completed......................... Accurecy: 0.6566929133858268\n",
            "33/150 round completed......................... Accurecy: 0.6566929133858268\n",
            "34/150 round completed......................... Accurecy: 0.6598425196850394\n",
            "35/150 round completed......................... Accurecy: 0.6614173228346457\n",
            "36/150 round completed......................... Accurecy: 0.6614173228346457\n",
            "37/150 round completed......................... Accurecy: 0.6645669291338583\n",
            "38/150 round completed......................... Accurecy: 0.6677165354330709\n",
            "39/150 round completed......................... Accurecy: 0.6692913385826772\n",
            "40/150 round completed......................... Accurecy: 0.6708661417322834\n",
            "41/150 round completed......................... Accurecy: 0.6677165354330709\n",
            "42/150 round completed......................... Accurecy: 0.6692913385826772\n",
            "43/150 round completed......................... Accurecy: 0.6677165354330709\n",
            "44/150 round completed......................... Accurecy: 0.6724409448818898\n",
            "45/150 round completed......................... Accurecy: 0.6771653543307087\n",
            "46/150 round completed......................... Accurecy: 0.6818897637795276\n",
            "47/150 round completed......................... Accurecy: 0.6787401574803149\n",
            "48/150 round completed......................... Accurecy: 0.6803149606299213\n",
            "49/150 round completed......................... Accurecy: 0.6755905511811023\n",
            "50/150 round completed......................... Accurecy: 0.6834645669291338\n",
            "51/150 round completed......................... Accurecy: 0.6866141732283465\n",
            "52/150 round completed......................... Accurecy: 0.6881889763779527\n",
            "53/150 round completed......................... Accurecy: 0.6897637795275591\n",
            "54/150 round completed......................... Accurecy: 0.6897637795275591\n",
            "55/150 round completed......................... Accurecy: 0.6897637795275591\n",
            "56/150 round completed......................... Accurecy: 0.6913385826771653\n",
            "57/150 round completed......................... Accurecy: 0.6929133858267716\n",
            "58/150 round completed......................... Accurecy: 0.6913385826771653\n",
            "59/150 round completed......................... Accurecy: 0.6866141732283465\n",
            "60/150 round completed......................... Accurecy: 0.694488188976378\n",
            "61/150 round completed......................... Accurecy: 0.6976377952755906\n",
            "62/150 round completed......................... Accurecy: 0.7039370078740157\n",
            "63/150 round completed......................... Accurecy: 0.705511811023622\n",
            "64/150 round completed......................... Accurecy: 0.705511811023622\n",
            "65/150 round completed......................... Accurecy: 0.705511811023622\n",
            "66/150 round completed......................... Accurecy: 0.705511811023622\n",
            "67/150 round completed......................... Accurecy: 0.7070866141732284\n",
            "68/150 round completed......................... Accurecy: 0.7086614173228346\n",
            "69/150 round completed......................... Accurecy: 0.705511811023622\n",
            "70/150 round completed......................... Accurecy: 0.7039370078740157\n",
            "71/150 round completed......................... Accurecy: 0.7039370078740157\n",
            "72/150 round completed......................... Accurecy: 0.710236220472441\n",
            "73/150 round completed......................... Accurecy: 0.7118110236220473\n",
            "74/150 round completed......................... Accurecy: 0.7133858267716535\n",
            "75/150 round completed......................... Accurecy: 0.7133858267716535\n",
            "76/150 round completed......................... Accurecy: 0.7181102362204724\n",
            "77/150 round completed......................... Accurecy: 0.7181102362204724\n",
            "78/150 round completed......................... Accurecy: 0.7149606299212599\n",
            "79/150 round completed......................... Accurecy: 0.7196850393700788\n",
            "80/150 round completed......................... Accurecy: 0.7165354330708661\n",
            "81/150 round completed......................... Accurecy: 0.7118110236220473\n",
            "82/150 round completed......................... Accurecy: 0.7165354330708661\n",
            "83/150 round completed......................... Accurecy: 0.7181102362204724\n",
            "84/150 round completed......................... Accurecy: 0.7228346456692913\n",
            "85/150 round completed......................... Accurecy: 0.7244094488188977\n",
            "86/150 round completed......................... Accurecy: 0.7275590551181103\n",
            "87/150 round completed......................... Accurecy: 0.7275590551181103\n",
            "88/150 round completed......................... Accurecy: 0.7307086614173228\n",
            "89/150 round completed......................... Accurecy: 0.7275590551181103\n",
            "90/150 round completed......................... Accurecy: 0.7259842519685039\n",
            "91/150 round completed......................... Accurecy: 0.7244094488188977\n",
            "92/150 round completed......................... Accurecy: 0.7259842519685039\n",
            "93/150 round completed......................... Accurecy: 0.7275590551181103\n",
            "94/150 round completed......................... Accurecy: 0.7275590551181103\n",
            "95/150 round completed......................... Accurecy: 0.7307086614173228\n",
            "96/150 round completed......................... Accurecy: 0.7322834645669292\n",
            "97/150 round completed......................... Accurecy: 0.7322834645669292\n",
            "98/150 round completed......................... Accurecy: 0.7338582677165354\n",
            "99/150 round completed......................... Accurecy: 0.7322834645669292\n",
            "100/150 round completed......................... Accurecy: 0.7322834645669292\n",
            "101/150 round completed......................... Accurecy: 0.7370078740157481\n",
            "102/150 round completed......................... Accurecy: 0.7354330708661417\n",
            "103/150 round completed......................... Accurecy: 0.7338582677165354\n",
            "104/150 round completed......................... Accurecy: 0.7354330708661417\n",
            "105/150 round completed......................... Accurecy: 0.7354330708661417\n",
            "106/150 round completed......................... Accurecy: 0.7370078740157481\n",
            "107/150 round completed......................... Accurecy: 0.7417322834645669\n",
            "108/150 round completed......................... Accurecy: 0.7417322834645669\n",
            "109/150 round completed......................... Accurecy: 0.7448818897637796\n",
            "110/150 round completed......................... Accurecy: 0.7385826771653543\n",
            "111/150 round completed......................... Accurecy: 0.7464566929133858\n",
            "112/150 round completed......................... Accurecy: 0.7448818897637796\n",
            "113/150 round completed......................... Accurecy: 0.7448818897637796\n",
            "114/150 round completed......................... Accurecy: 0.7433070866141732\n",
            "115/150 round completed......................... Accurecy: 0.7417322834645669\n",
            "116/150 round completed......................... Accurecy: 0.7401574803149606\n",
            "117/150 round completed......................... Accurecy: 0.7354330708661417\n",
            "118/150 round completed......................... Accurecy: 0.7385826771653543\n",
            "119/150 round completed......................... Accurecy: 0.7401574803149606\n",
            "120/150 round completed......................... Accurecy: 0.7354330708661417\n",
            "121/150 round completed......................... Accurecy: 0.7385826771653543\n",
            "122/150 round completed......................... Accurecy: 0.7385826771653543\n",
            "123/150 round completed......................... Accurecy: 0.7385826771653543\n",
            "124/150 round completed......................... Accurecy: 0.7385826771653543\n",
            "125/150 round completed......................... Accurecy: 0.7417322834645669\n",
            "126/150 round completed......................... Accurecy: 0.7417322834645669\n",
            "127/150 round completed......................... Accurecy: 0.7385826771653543\n",
            "128/150 round completed......................... Accurecy: 0.7401574803149606\n",
            "129/150 round completed......................... Accurecy: 0.7385826771653543\n",
            "130/150 round completed......................... Accurecy: 0.7401574803149606\n",
            "131/150 round completed......................... Accurecy: 0.7401574803149606\n",
            "132/150 round completed......................... Accurecy: 0.7370078740157481\n",
            "133/150 round completed......................... Accurecy: 0.7354330708661417\n",
            "134/150 round completed......................... Accurecy: 0.7385826771653543\n",
            "135/150 round completed......................... Accurecy: 0.7401574803149606\n",
            "136/150 round completed......................... Accurecy: 0.7385826771653543\n",
            "137/150 round completed......................... Accurecy: 0.7385826771653543\n",
            "138/150 round completed......................... Accurecy: 0.7370078740157481\n",
            "139/150 round completed......................... Accurecy: 0.7401574803149606\n",
            "140/150 round completed......................... Accurecy: 0.7385826771653543\n",
            "141/150 round completed......................... Accurecy: 0.7401574803149606\n",
            "142/150 round completed......................... Accurecy: 0.7401574803149606\n",
            "143/150 round completed......................... Accurecy: 0.7417322834645669\n",
            "144/150 round completed......................... Accurecy: 0.7417322834645669\n",
            "145/150 round completed......................... Accurecy: 0.7417322834645669\n",
            "146/150 round completed......................... Accurecy: 0.7417322834645669\n",
            "147/150 round completed......................... Accurecy: 0.7417322834645669\n",
            "148/150 round completed......................... Accurecy: 0.7433070866141732\n",
            "149/150 round completed......................... Accurecy: 0.7448818897637796\n",
            "150/150 round completed......................... Accurecy: 0.7417322834645669\n",
            "The best n_estimators:\n",
            "111\n"
          ]
        },
        {
          "output_type": "display_data",
          "data": {
            "text/plain": [
              "<Figure size 1800x720 with 1 Axes>"
            ],
            "image/png": "[encoded data removed]"
          },
          "metadata": {
            "needs_background": "light"
          }
        }
      ]
    },
    {
      "cell_type": "code",
      "source": [
        "from sklearn.ensemble import GradientBoostingClassifier\n",
        "from sklearn.metrics import accuracy_score\n",
        "N=30\n",
        "k_range = range (1,N+1)\n",
        "scores={}\n",
        "scores_list = []\n",
        "for k in k_range:\n",
        "  classifier = GradientBoostingClassifier(max_depth=k,random_state=0)\n",
        "  classifier.fit(X_train, y_train)\n",
        "  y_pred=classifier.predict(X_test)\n",
        "  scores[k] = accuracy_score(y_test,y_pred)\n",
        "  scores_list.append(accuracy_score(y_test,y_pred))\n",
        "  print(str(k)+\"/\"+str(N)+\" round completed......................... Accurecy: \"+str(accuracy_score(y_test,y_pred)))\n",
        "\n",
        "\n",
        "\n",
        "%matplotlib inline\n",
        "import matplotlib.pyplot as plt\n",
        "\n",
        "plt.figure(figsize = (25,10))\n",
        "plt.plot(k_range,scores_list)\n",
        "plt.xlabel('Value of n_estimators')\n",
        "plt.ylabel ('Testing Accuracy')\n",
        "\n",
        "\n",
        "\n",
        "print(\"The best Depth:\")\n",
        "best_depth=list(scores.keys())[scores_list.index(max(scores_list))]\n",
        "print(best_depth)"
      ],
      "metadata": {
        "id": "JtO5QAkHpDAy",
        "outputId": "ca4da8cb-a612-4277-e1b6-3451438b7ec6",
        "colab": {
          "base_uri": "https://localhost:8080/",
          "height": 0
        }
      },
      "execution_count": 26,
      "outputs": [
        {
          "output_type": "stream",
          "name": "stdout",
          "text": [
            "1/30 round completed......................... Accurecy: 0.5700787401574803\n",
            "2/30 round completed......................... Accurecy: 0.6645669291338583\n",
            "3/30 round completed......................... Accurecy: 0.7322834645669292\n",
            "4/30 round completed......................... Accurecy: 0.7196850393700788\n",
            "5/30 round completed......................... Accurecy: 0.7385826771653543\n",
            "6/30 round completed......................... Accurecy: 0.7354330708661417\n",
            "7/30 round completed......................... Accurecy: 0.7559055118110236\n",
            "8/30 round completed......................... Accurecy: 0.7480314960629921\n",
            "9/30 round completed......................... Accurecy: 0.7496062992125985\n",
            "10/30 round completed......................... Accurecy: 0.7637795275590551\n",
            "11/30 round completed......................... Accurecy: 0.7700787401574803\n",
            "12/30 round completed......................... Accurecy: 0.768503937007874\n",
            "13/30 round completed......................... Accurecy: 0.7700787401574803\n",
            "14/30 round completed......................... Accurecy: 0.7700787401574803\n",
            "15/30 round completed......................... Accurecy: 0.7417322834645669\n",
            "16/30 round completed......................... Accurecy: 0.7338582677165354\n",
            "17/30 round completed......................... Accurecy: 0.7401574803149606\n",
            "18/30 round completed......................... Accurecy: 0.7259842519685039\n",
            "19/30 round completed......................... Accurecy: 0.7322834645669292\n",
            "20/30 round completed......................... Accurecy: 0.7291338582677165\n",
            "21/30 round completed......................... Accurecy: 0.7070866141732284\n",
            "22/30 round completed......................... Accurecy: 0.6929133858267716\n",
            "23/30 round completed......................... Accurecy: 0.6897637795275591\n",
            "24/30 round completed......................... Accurecy: 0.6850393700787402\n",
            "25/30 round completed......................... Accurecy: 0.6897637795275591\n",
            "26/30 round completed......................... Accurecy: 0.6881889763779527\n",
            "27/30 round completed......................... Accurecy: 0.6881889763779527\n",
            "28/30 round completed......................... Accurecy: 0.6881889763779527\n",
            "29/30 round completed......................... Accurecy: 0.6913385826771653\n",
            "30/30 round completed......................... Accurecy: 0.6929133858267716\n",
            "The best Depth:\n",
            "11\n"
          ]
        },
        {
          "output_type": "display_data",
          "data": {
            "text/plain": [
              "<Figure size 1800x720 with 1 Axes>"
            ],
            "image/png": "[encoded data removed]"
          },
          "metadata": {
            "needs_background": "light"
          }
        }
      ]
    },
    {
      "cell_type": "code",
      "source": [
        "from sklearn.ensemble import GradientBoostingClassifier\n",
        "\n",
        "gradBoost_estimator = GradientBoostingClassifier(n_estimators=best_estimator,random_state=0)\n",
        "gradBoost_estimator.fit(X_train, y_train)\n",
        "y_pred = gradBoost_estimator.predict(X_test)\n",
        "\n",
        "from sklearn.metrics import classification_report, confusion_matrix, accuracy_score\n",
        "print(confusion_matrix(y_test, y_pred))\n",
        "print(classification_report(y_test,y_pred))\n",
        "print(\"Accurecy: \",accuracy_score(y_test, y_pred))\n",
        "result[(gradBoost_estimator,2,'GradientBoostingClassifier')]=accuracy_score(y_test, y_pred)"
      ],
      "metadata": {
        "id": "EFg4mMYepGXx",
        "outputId": "f5d34d01-213d-4c3f-d1e9-ced7c718a37b",
        "colab": {
          "base_uri": "https://localhost:8080/"
        }
      },
      "execution_count": 27,
      "outputs": [
        {
          "output_type": "stream",
          "name": "stdout",
          "text": [
            "[[126  17  16   4]\n",
            " [ 21 112   8   4]\n",
            " [ 24  14 109  21]\n",
            " [ 11  12   9 127]]\n",
            "              precision    recall  f1-score   support\n",
            "\n",
            "           0       0.69      0.77      0.73       163\n",
            "           1       0.72      0.77      0.75       145\n",
            "           2       0.77      0.65      0.70       168\n",
            "           3       0.81      0.80      0.81       159\n",
            "\n",
            "    accuracy                           0.75       635\n",
            "   macro avg       0.75      0.75      0.75       635\n",
            "weighted avg       0.75      0.75      0.75       635\n",
            "\n",
            "Accurecy:  0.7464566929133858\n"
          ]
        }
      ]
    },
    {
      "cell_type": "code",
      "source": [
        "from sklearn.ensemble import GradientBoostingClassifier\n",
        "\n",
        "gradBoost_depth = GradientBoostingClassifier(max_depth=best_depth,random_state=0)\n",
        "gradBoost_depth.fit(X_train, y_train)\n",
        "y_pred = gradBoost_depth.predict(X_test)\n",
        "\n",
        "from sklearn.metrics import classification_report, confusion_matrix, accuracy_score\n",
        "print(confusion_matrix(y_test, y_pred))\n",
        "print(classification_report(y_test,y_pred))\n",
        "print(\"Accurecy: \",accuracy_score(y_test, y_pred))\n",
        "\n",
        "result[(gradBoost_depth,2,'GradientBoostingClassifier')]=accuracy_score(y_test, y_pred)"
      ],
      "metadata": {
        "id": "oS_ycrCQpI09",
        "outputId": "b7bf7f1a-76fd-47e0-c32b-b0d4f7c17b5b",
        "colab": {
          "base_uri": "https://localhost:8080/"
        }
      },
      "execution_count": 28,
      "outputs": [
        {
          "output_type": "stream",
          "name": "stdout",
          "text": [
            "[[126  18  18   1]\n",
            " [ 18 118   7   2]\n",
            " [ 18  15 121  14]\n",
            " [ 11   9  15 124]]\n",
            "              precision    recall  f1-score   support\n",
            "\n",
            "           0       0.73      0.77      0.75       163\n",
            "           1       0.74      0.81      0.77       145\n",
            "           2       0.75      0.72      0.74       168\n",
            "           3       0.88      0.78      0.83       159\n",
            "\n",
            "    accuracy                           0.77       635\n",
            "   macro avg       0.77      0.77      0.77       635\n",
            "weighted avg       0.77      0.77      0.77       635\n",
            "\n",
            "Accurecy:  0.7700787401574803\n"
          ]
        }
      ]
    },
    {
      "cell_type": "code",
      "source": [
        "from sklearn.ensemble import GradientBoostingClassifier\n",
        "\n",
        "gradBoost_all = GradientBoostingClassifier(n_estimators=best_estimator,max_depth=best_depth,random_state=0)\n",
        "gradBoost_all.fit(X_train, y_train)\n",
        "y_pred = gradBoost_all.predict(X_test)\n",
        "\n",
        "from sklearn.metrics import classification_report, confusion_matrix, accuracy_score\n",
        "print(confusion_matrix(y_test, y_pred))\n",
        "print(classification_report(y_test,y_pred))\n",
        "print(\"Accurecy: \",accuracy_score(y_test, y_pred))\n",
        "\n",
        "result[(gradBoost_all,2,'GradientBoostingClassifier')]=accuracy_score(y_test, y_pred)"
      ],
      "metadata": {
        "id": "GU8wNje3pJjR",
        "outputId": "699fcb93-ed26-4bb1-cbe4-5fd58c1befd9",
        "colab": {
          "base_uri": "https://localhost:8080/"
        }
      },
      "execution_count": 29,
      "outputs": [
        {
          "output_type": "stream",
          "name": "stdout",
          "text": [
            "[[126  18  18   1]\n",
            " [ 18 119   6   2]\n",
            " [ 18  15 120  15]\n",
            " [ 10   9  14 126]]\n",
            "              precision    recall  f1-score   support\n",
            "\n",
            "           0       0.73      0.77      0.75       163\n",
            "           1       0.74      0.82      0.78       145\n",
            "           2       0.76      0.71      0.74       168\n",
            "           3       0.88      0.79      0.83       159\n",
            "\n",
            "    accuracy                           0.77       635\n",
            "   macro avg       0.78      0.78      0.77       635\n",
            "weighted avg       0.78      0.77      0.77       635\n",
            "\n",
            "Accurecy:  0.7732283464566929\n"
          ]
        }
      ]
    },
    {
      "cell_type": "markdown",
      "source": [
        "\n",
        "\n",
        "---\n",
        "\n",
        "\n",
        "\n",
        "---\n",
        "\n"
      ],
      "metadata": {
        "id": "ThoTlhc4pRJT"
      }
    },
    {
      "cell_type": "markdown",
      "source": [
        "#Random Forest"
      ],
      "metadata": {
        "id": "AgMT_U8gvM7F"
      }
    },
    {
      "cell_type": "code",
      "source": [
        "from sklearn.ensemble import RandomForestClassifier\n",
        "rf_default = RandomForestClassifier(random_state=0)\n",
        "rf_default.fit(X_train, y_train)\n",
        "y_pred=rf_default.predict(X_test)\n",
        "\n",
        "\n",
        "from sklearn.metrics import classification_report, confusion_matrix, accuracy_score\n",
        "print(confusion_matrix(y_test, y_pred))\n",
        "print(classification_report(y_test,y_pred))\n",
        "print(\"Accurecy: \",accuracy_score(y_test, y_pred))\n",
        "result[(rf_default,3,'RandomForestClassifier')]=accuracy_score(y_test, y_pred)"
      ],
      "metadata": {
        "id": "-4GMunEvtWk2",
        "outputId": "eff85613-87a4-41be-aa98-2ab982a62b04",
        "colab": {
          "base_uri": "https://localhost:8080/"
        }
      },
      "execution_count": 30,
      "outputs": [
        {
          "output_type": "stream",
          "name": "stdout",
          "text": [
            "[[124  18  20   1]\n",
            " [ 22 115   7   1]\n",
            " [ 20  13 115  20]\n",
            " [ 11   5  18 125]]\n",
            "              precision    recall  f1-score   support\n",
            "\n",
            "           0       0.70      0.76      0.73       163\n",
            "           1       0.76      0.79      0.78       145\n",
            "           2       0.72      0.68      0.70       168\n",
            "           3       0.85      0.79      0.82       159\n",
            "\n",
            "    accuracy                           0.75       635\n",
            "   macro avg       0.76      0.76      0.76       635\n",
            "weighted avg       0.76      0.75      0.75       635\n",
            "\n",
            "Accurecy:  0.7543307086614173\n"
          ]
        }
      ]
    },
    {
      "cell_type": "code",
      "source": [
        "from sklearn.ensemble import RandomForestClassifier\n",
        "from sklearn.metrics import accuracy_score\n",
        "N=150\n",
        "k_range = range (1,N+1)\n",
        "scores={}\n",
        "scores_list = []\n",
        "for k in k_range:\n",
        "  classifier = RandomForestClassifier(n_estimators=k,random_state=0)\n",
        "  classifier.fit(X_train, y_train)\n",
        "  y_pred=classifier.predict(X_test)\n",
        "  scores[k] = accuracy_score(y_test,y_pred)\n",
        "  scores_list.append(accuracy_score(y_test,y_pred))\n",
        "  print(str(k)+\"/\"+str(N)+\" round completed......................... Accurecy: \"+str(accuracy_score(y_test,y_pred)))\n",
        "\n",
        "\n",
        "\n",
        "%matplotlib inline\n",
        "import matplotlib.pyplot as plt\n",
        "\n",
        "plt.figure(figsize = (25,10))\n",
        "plt.plot(k_range,scores_list)\n",
        "plt.xlabel('Value of n_estimators')\n",
        "plt.ylabel ('Testing Accuracy')\n",
        "\n",
        "\n",
        "\n",
        "print(\"The best n_estimators:\")\n",
        "best_estimator=list(scores.keys())[scores_list.index(max(scores_list))]\n",
        "print(best_estimator)"
      ],
      "metadata": {
        "id": "ve34YgestieE",
        "outputId": "d483ecc8-daa0-43a1-fbdc-1851ac0d0b58",
        "colab": {
          "base_uri": "https://localhost:8080/",
          "height": 0
        }
      },
      "execution_count": 31,
      "outputs": [
        {
          "output_type": "stream",
          "name": "stdout",
          "text": [
            "1/150 round completed......................... Accurecy: 0.5984251968503937\n",
            "2/150 round completed......................... Accurecy: 0.6031496062992125\n",
            "3/150 round completed......................... Accurecy: 0.6503937007874016\n",
            "4/150 round completed......................... Accurecy: 0.658267716535433\n",
            "5/150 round completed......................... Accurecy: 0.6661417322834645\n",
            "6/150 round completed......................... Accurecy: 0.6834645669291338\n",
            "7/150 round completed......................... Accurecy: 0.6866141732283465\n",
            "8/150 round completed......................... Accurecy: 0.7070866141732284\n",
            "9/150 round completed......................... Accurecy: 0.7118110236220473\n",
            "10/150 round completed......................... Accurecy: 0.7149606299212599\n",
            "11/150 round completed......................... Accurecy: 0.7165354330708661\n",
            "12/150 round completed......................... Accurecy: 0.710236220472441\n",
            "13/150 round completed......................... Accurecy: 0.710236220472441\n",
            "14/150 round completed......................... Accurecy: 0.7196850393700788\n",
            "15/150 round completed......................... Accurecy: 0.7165354330708661\n",
            "16/150 round completed......................... Accurecy: 0.7307086614173228\n",
            "17/150 round completed......................... Accurecy: 0.7354330708661417\n",
            "18/150 round completed......................... Accurecy: 0.7385826771653543\n",
            "19/150 round completed......................... Accurecy: 0.7275590551181103\n",
            "20/150 round completed......................... Accurecy: 0.7291338582677165\n",
            "21/150 round completed......................... Accurecy: 0.7291338582677165\n",
            "22/150 round completed......................... Accurecy: 0.7228346456692913\n",
            "23/150 round completed......................... Accurecy: 0.7244094488188977\n",
            "24/150 round completed......................... Accurecy: 0.7244094488188977\n",
            "25/150 round completed......................... Accurecy: 0.7354330708661417\n",
            "26/150 round completed......................... Accurecy: 0.7275590551181103\n",
            "27/150 round completed......................... Accurecy: 0.7370078740157481\n",
            "28/150 round completed......................... Accurecy: 0.7385826771653543\n",
            "29/150 round completed......................... Accurecy: 0.7385826771653543\n",
            "30/150 round completed......................... Accurecy: 0.7338582677165354\n",
            "31/150 round completed......................... Accurecy: 0.7385826771653543\n",
            "32/150 round completed......................... Accurecy: 0.7259842519685039\n",
            "33/150 round completed......................... Accurecy: 0.7307086614173228\n",
            "34/150 round completed......................... Accurecy: 0.7338582677165354\n",
            "35/150 round completed......................... Accurecy: 0.7370078740157481\n",
            "36/150 round completed......................... Accurecy: 0.7291338582677165\n",
            "37/150 round completed......................... Accurecy: 0.7322834645669292\n",
            "38/150 round completed......................... Accurecy: 0.7244094488188977\n",
            "39/150 round completed......................... Accurecy: 0.7322834645669292\n",
            "40/150 round completed......................... Accurecy: 0.7275590551181103\n",
            "41/150 round completed......................... Accurecy: 0.7322834645669292\n",
            "42/150 round completed......................... Accurecy: 0.7354330708661417\n",
            "43/150 round completed......................... Accurecy: 0.7354330708661417\n",
            "44/150 round completed......................... Accurecy: 0.7338582677165354\n",
            "45/150 round completed......................... Accurecy: 0.7322834645669292\n",
            "46/150 round completed......................... Accurecy: 0.7338582677165354\n",
            "47/150 round completed......................... Accurecy: 0.7354330708661417\n",
            "48/150 round completed......................... Accurecy: 0.7385826771653543\n",
            "49/150 round completed......................... Accurecy: 0.7401574803149606\n",
            "50/150 round completed......................... Accurecy: 0.7417322834645669\n",
            "51/150 round completed......................... Accurecy: 0.7464566929133858\n",
            "52/150 round completed......................... Accurecy: 0.7464566929133858\n",
            "53/150 round completed......................... Accurecy: 0.7464566929133858\n",
            "54/150 round completed......................... Accurecy: 0.7448818897637796\n",
            "55/150 round completed......................... Accurecy: 0.7448818897637796\n",
            "56/150 round completed......................... Accurecy: 0.7401574803149606\n",
            "57/150 round completed......................... Accurecy: 0.7464566929133858\n",
            "58/150 round completed......................... Accurecy: 0.7496062992125985\n",
            "59/150 round completed......................... Accurecy: 0.7480314960629921\n",
            "60/150 round completed......................... Accurecy: 0.7480314960629921\n",
            "61/150 round completed......................... Accurecy: 0.7511811023622047\n",
            "62/150 round completed......................... Accurecy: 0.7511811023622047\n",
            "63/150 round completed......................... Accurecy: 0.7559055118110236\n",
            "64/150 round completed......................... Accurecy: 0.7559055118110236\n",
            "65/150 round completed......................... Accurecy: 0.7543307086614173\n",
            "66/150 round completed......................... Accurecy: 0.752755905511811\n",
            "67/150 round completed......................... Accurecy: 0.7559055118110236\n",
            "68/150 round completed......................... Accurecy: 0.7496062992125985\n",
            "69/150 round completed......................... Accurecy: 0.752755905511811\n",
            "70/150 round completed......................... Accurecy: 0.752755905511811\n",
            "71/150 round completed......................... Accurecy: 0.7496062992125985\n",
            "72/150 round completed......................... Accurecy: 0.7559055118110236\n",
            "73/150 round completed......................... Accurecy: 0.7559055118110236\n",
            "74/150 round completed......................... Accurecy: 0.752755905511811\n",
            "75/150 round completed......................... Accurecy: 0.752755905511811\n",
            "76/150 round completed......................... Accurecy: 0.752755905511811\n",
            "77/150 round completed......................... Accurecy: 0.752755905511811\n",
            "78/150 round completed......................... Accurecy: 0.7543307086614173\n",
            "79/150 round completed......................... Accurecy: 0.7511811023622047\n",
            "80/150 round completed......................... Accurecy: 0.7559055118110236\n",
            "81/150 round completed......................... Accurecy: 0.7496062992125985\n",
            "82/150 round completed......................... Accurecy: 0.752755905511811\n",
            "83/150 round completed......................... Accurecy: 0.7543307086614173\n",
            "84/150 round completed......................... Accurecy: 0.752755905511811\n",
            "85/150 round completed......................... Accurecy: 0.7511811023622047\n",
            "86/150 round completed......................... Accurecy: 0.7511811023622047\n",
            "87/150 round completed......................... Accurecy: 0.7511811023622047\n",
            "88/150 round completed......................... Accurecy: 0.752755905511811\n",
            "89/150 round completed......................... Accurecy: 0.7543307086614173\n",
            "90/150 round completed......................... Accurecy: 0.752755905511811\n",
            "91/150 round completed......................... Accurecy: 0.752755905511811\n",
            "92/150 round completed......................... Accurecy: 0.7511811023622047\n",
            "93/150 round completed......................... Accurecy: 0.7559055118110236\n",
            "94/150 round completed......................... Accurecy: 0.7559055118110236\n",
            "95/150 round completed......................... Accurecy: 0.7543307086614173\n",
            "96/150 round completed......................... Accurecy: 0.7543307086614173\n",
            "97/150 round completed......................... Accurecy: 0.7559055118110236\n",
            "98/150 round completed......................... Accurecy: 0.7511811023622047\n",
            "99/150 round completed......................... Accurecy: 0.752755905511811\n",
            "100/150 round completed......................... Accurecy: 0.7543307086614173\n",
            "101/150 round completed......................... Accurecy: 0.7559055118110236\n",
            "102/150 round completed......................... Accurecy: 0.75748031496063\n",
            "103/150 round completed......................... Accurecy: 0.7543307086614173\n",
            "104/150 round completed......................... Accurecy: 0.7559055118110236\n",
            "105/150 round completed......................... Accurecy: 0.7559055118110236\n",
            "106/150 round completed......................... Accurecy: 0.7543307086614173\n",
            "107/150 round completed......................... Accurecy: 0.7543307086614173\n",
            "108/150 round completed......................... Accurecy: 0.7543307086614173\n",
            "109/150 round completed......................... Accurecy: 0.7543307086614173\n",
            "110/150 round completed......................... Accurecy: 0.7511811023622047\n",
            "111/150 round completed......................... Accurecy: 0.7543307086614173\n",
            "112/150 round completed......................... Accurecy: 0.7480314960629921\n",
            "113/150 round completed......................... Accurecy: 0.7543307086614173\n",
            "114/150 round completed......................... Accurecy: 0.752755905511811\n",
            "115/150 round completed......................... Accurecy: 0.752755905511811\n",
            "116/150 round completed......................... Accurecy: 0.7496062992125985\n",
            "117/150 round completed......................... Accurecy: 0.7543307086614173\n",
            "118/150 round completed......................... Accurecy: 0.7511811023622047\n",
            "119/150 round completed......................... Accurecy: 0.752755905511811\n",
            "120/150 round completed......................... Accurecy: 0.7511811023622047\n",
            "121/150 round completed......................... Accurecy: 0.752755905511811\n",
            "122/150 round completed......................... Accurecy: 0.752755905511811\n",
            "123/150 round completed......................... Accurecy: 0.752755905511811\n",
            "124/150 round completed......................... Accurecy: 0.7543307086614173\n",
            "125/150 round completed......................... Accurecy: 0.752755905511811\n",
            "126/150 round completed......................... Accurecy: 0.7496062992125985\n",
            "127/150 round completed......................... Accurecy: 0.7511811023622047\n",
            "128/150 round completed......................... Accurecy: 0.7480314960629921\n",
            "129/150 round completed......................... Accurecy: 0.7480314960629921\n",
            "130/150 round completed......................... Accurecy: 0.7464566929133858\n",
            "131/150 round completed......................... Accurecy: 0.7511811023622047\n",
            "132/150 round completed......................... Accurecy: 0.7480314960629921\n",
            "133/150 round completed......................... Accurecy: 0.752755905511811\n",
            "134/150 round completed......................... Accurecy: 0.7480314960629921\n",
            "135/150 round completed......................... Accurecy: 0.7511811023622047\n",
            "136/150 round completed......................... Accurecy: 0.7496062992125985\n",
            "137/150 round completed......................... Accurecy: 0.7511811023622047\n",
            "138/150 round completed......................... Accurecy: 0.7496062992125985\n",
            "139/150 round completed......................... Accurecy: 0.7511811023622047\n",
            "140/150 round completed......................... Accurecy: 0.7543307086614173\n",
            "141/150 round completed......................... Accurecy: 0.7496062992125985\n",
            "142/150 round completed......................... Accurecy: 0.7496062992125985\n",
            "143/150 round completed......................... Accurecy: 0.7496062992125985\n",
            "144/150 round completed......................... Accurecy: 0.7496062992125985\n",
            "145/150 round completed......................... Accurecy: 0.7480314960629921\n",
            "146/150 round completed......................... Accurecy: 0.7480314960629921\n",
            "147/150 round completed......................... Accurecy: 0.7511811023622047\n",
            "148/150 round completed......................... Accurecy: 0.7464566929133858\n",
            "149/150 round completed......................... Accurecy: 0.7480314960629921\n",
            "150/150 round completed......................... Accurecy: 0.7480314960629921\n",
            "The best n_estimators:\n",
            "102\n"
          ]
        },
        {
          "output_type": "display_data",
          "data": {
            "text/plain": [
              "<Figure size 1800x720 with 1 Axes>"
            ],
            "image/png": "[encoded data removed]"
          },
          "metadata": {
            "needs_background": "light"
          }
        }
      ]
    },
    {
      "cell_type": "code",
      "source": [
        "from sklearn.ensemble import RandomForestClassifier\n",
        "from sklearn.metrics import accuracy_score\n",
        "N=150\n",
        "k_range = range (1,N+1)\n",
        "scores={}\n",
        "scores_list = []\n",
        "for k in k_range:\n",
        "  classifier = RandomForestClassifier(max_depth=k,random_state=0)\n",
        "  classifier.fit(X_train, y_train)\n",
        "  y_pred=classifier.predict(X_test)\n",
        "  scores[k] = accuracy_score(y_test,y_pred)\n",
        "  scores_list.append(accuracy_score(y_test,y_pred))\n",
        "  print(str(k)+\"/\"+str(N)+\" round completed......................... Accurecy: \"+str(accuracy_score(y_test,y_pred)))\n",
        "\n",
        "\n",
        "\n",
        "%matplotlib inline\n",
        "import matplotlib.pyplot as plt\n",
        "\n",
        "plt.figure(figsize = (25,10))\n",
        "plt.plot(k_range,scores_list)\n",
        "plt.xlabel('Value of n_estimators')\n",
        "plt.ylabel ('Testing Accuracy')\n",
        "\n",
        "\n",
        "\n",
        "print(\"The best Depth:\")\n",
        "best_depth=list(scores.keys())[scores_list.index(max(scores_list))]\n",
        "print(best_depth)"
      ],
      "metadata": {
        "id": "eVfKbSTWtnny",
        "outputId": "d4d177f0-4031-4eeb-80ce-f608ae21f5df",
        "colab": {
          "base_uri": "https://localhost:8080/",
          "height": 0
        }
      },
      "execution_count": 32,
      "outputs": [
        {
          "output_type": "stream",
          "name": "stdout",
          "text": [
            "1/150 round completed......................... Accurecy: 0.3952755905511811\n",
            "2/150 round completed......................... Accurecy: 0.537007874015748\n",
            "3/150 round completed......................... Accurecy: 0.5858267716535434\n",
            "4/150 round completed......................... Accurecy: 0.6110236220472441\n",
            "5/150 round completed......................... Accurecy: 0.6267716535433071\n",
            "6/150 round completed......................... Accurecy: 0.6566929133858268\n",
            "7/150 round completed......................... Accurecy: 0.6771653543307087\n",
            "8/150 round completed......................... Accurecy: 0.6960629921259842\n",
            "9/150 round completed......................... Accurecy: 0.705511811023622\n",
            "10/150 round completed......................... Accurecy: 0.7133858267716535\n",
            "11/150 round completed......................... Accurecy: 0.7401574803149606\n",
            "12/150 round completed......................... Accurecy: 0.7496062992125985\n",
            "13/150 round completed......................... Accurecy: 0.7496062992125985\n",
            "14/150 round completed......................... Accurecy: 0.7637795275590551\n",
            "15/150 round completed......................... Accurecy: 0.7464566929133858\n",
            "16/150 round completed......................... Accurecy: 0.7448818897637796\n",
            "17/150 round completed......................... Accurecy: 0.7606299212598425\n",
            "18/150 round completed......................... Accurecy: 0.7417322834645669\n",
            "19/150 round completed......................... Accurecy: 0.7543307086614173\n",
            "20/150 round completed......................... Accurecy: 0.7433070866141732\n",
            "21/150 round completed......................... Accurecy: 0.7543307086614173\n",
            "22/150 round completed......................... Accurecy: 0.752755905511811\n",
            "23/150 round completed......................... Accurecy: 0.7543307086614173\n",
            "24/150 round completed......................... Accurecy: 0.752755905511811\n",
            "25/150 round completed......................... Accurecy: 0.752755905511811\n",
            "26/150 round completed......................... Accurecy: 0.752755905511811\n",
            "27/150 round completed......................... Accurecy: 0.7543307086614173\n",
            "28/150 round completed......................... Accurecy: 0.7543307086614173\n",
            "29/150 round completed......................... Accurecy: 0.7543307086614173\n",
            "30/150 round completed......................... Accurecy: 0.7543307086614173\n",
            "31/150 round completed......................... Accurecy: 0.7543307086614173\n",
            "32/150 round completed......................... Accurecy: 0.7543307086614173\n",
            "33/150 round completed......................... Accurecy: 0.7543307086614173\n",
            "34/150 round completed......................... Accurecy: 0.7543307086614173\n",
            "35/150 round completed......................... Accurecy: 0.7543307086614173\n",
            "36/150 round completed......................... Accurecy: 0.7543307086614173\n",
            "37/150 round completed......................... Accurecy: 0.7543307086614173\n",
            "38/150 round completed......................... Accurecy: 0.7543307086614173\n",
            "39/150 round completed......................... Accurecy: 0.7543307086614173\n",
            "40/150 round completed......................... Accurecy: 0.7543307086614173\n",
            "41/150 round completed......................... Accurecy: 0.7543307086614173\n",
            "42/150 round completed......................... Accurecy: 0.7543307086614173\n",
            "43/150 round completed......................... Accurecy: 0.7543307086614173\n",
            "44/150 round completed......................... Accurecy: 0.7543307086614173\n",
            "45/150 round completed......................... Accurecy: 0.7543307086614173\n",
            "46/150 round completed......................... Accurecy: 0.7543307086614173\n",
            "47/150 round completed......................... Accurecy: 0.7543307086614173\n",
            "48/150 round completed......................... Accurecy: 0.7543307086614173\n",
            "49/150 round completed......................... Accurecy: 0.7543307086614173\n",
            "50/150 round completed......................... Accurecy: 0.7543307086614173\n",
            "51/150 round completed......................... Accurecy: 0.7543307086614173\n",
            "52/150 round completed......................... Accurecy: 0.7543307086614173\n",
            "53/150 round completed......................... Accurecy: 0.7543307086614173\n",
            "54/150 round completed......................... Accurecy: 0.7543307086614173\n",
            "55/150 round completed......................... Accurecy: 0.7543307086614173\n",
            "56/150 round completed......................... Accurecy: 0.7543307086614173\n",
            "57/150 round completed......................... Accurecy: 0.7543307086614173\n",
            "58/150 round completed......................... Accurecy: 0.7543307086614173\n",
            "59/150 round completed......................... Accurecy: 0.7543307086614173\n",
            "60/150 round completed......................... Accurecy: 0.7543307086614173\n",
            "61/150 round completed......................... Accurecy: 0.7543307086614173\n",
            "62/150 round completed......................... Accurecy: 0.7543307086614173\n",
            "63/150 round completed......................... Accurecy: 0.7543307086614173\n",
            "64/150 round completed......................... Accurecy: 0.7543307086614173\n",
            "65/150 round completed......................... Accurecy: 0.7543307086614173\n",
            "66/150 round completed......................... Accurecy: 0.7543307086614173\n",
            "67/150 round completed......................... Accurecy: 0.7543307086614173\n",
            "68/150 round completed......................... Accurecy: 0.7543307086614173\n",
            "69/150 round completed......................... Accurecy: 0.7543307086614173\n",
            "70/150 round completed......................... Accurecy: 0.7543307086614173\n",
            "71/150 round completed......................... Accurecy: 0.7543307086614173\n",
            "72/150 round completed......................... Accurecy: 0.7543307086614173\n",
            "73/150 round completed......................... Accurecy: 0.7543307086614173\n",
            "74/150 round completed......................... Accurecy: 0.7543307086614173\n",
            "75/150 round completed......................... Accurecy: 0.7543307086614173\n",
            "76/150 round completed......................... Accurecy: 0.7543307086614173\n",
            "77/150 round completed......................... Accurecy: 0.7543307086614173\n",
            "78/150 round completed......................... Accurecy: 0.7543307086614173\n",
            "79/150 round completed......................... Accurecy: 0.7543307086614173\n",
            "80/150 round completed......................... Accurecy: 0.7543307086614173\n",
            "81/150 round completed......................... Accurecy: 0.7543307086614173\n",
            "82/150 round completed......................... Accurecy: 0.7543307086614173\n",
            "83/150 round completed......................... Accurecy: 0.7543307086614173\n",
            "84/150 round completed......................... Accurecy: 0.7543307086614173\n",
            "85/150 round completed......................... Accurecy: 0.7543307086614173\n",
            "86/150 round completed......................... Accurecy: 0.7543307086614173\n",
            "87/150 round completed......................... Accurecy: 0.7543307086614173\n",
            "88/150 round completed......................... Accurecy: 0.7543307086614173\n",
            "89/150 round completed......................... Accurecy: 0.7543307086614173\n",
            "90/150 round completed......................... Accurecy: 0.7543307086614173\n",
            "91/150 round completed......................... Accurecy: 0.7543307086614173\n",
            "92/150 round completed......................... Accurecy: 0.7543307086614173\n",
            "93/150 round completed......................... Accurecy: 0.7543307086614173\n",
            "94/150 round completed......................... Accurecy: 0.7543307086614173\n",
            "95/150 round completed......................... Accurecy: 0.7543307086614173\n",
            "96/150 round completed......................... Accurecy: 0.7543307086614173\n",
            "97/150 round completed......................... Accurecy: 0.7543307086614173\n",
            "98/150 round completed......................... Accurecy: 0.7543307086614173\n",
            "99/150 round completed......................... Accurecy: 0.7543307086614173\n",
            "100/150 round completed......................... Accurecy: 0.7543307086614173\n",
            "101/150 round completed......................... Accurecy: 0.7543307086614173\n",
            "102/150 round completed......................... Accurecy: 0.7543307086614173\n",
            "103/150 round completed......................... Accurecy: 0.7543307086614173\n",
            "104/150 round completed......................... Accurecy: 0.7543307086614173\n",
            "105/150 round completed......................... Accurecy: 0.7543307086614173\n",
            "106/150 round completed......................... Accurecy: 0.7543307086614173\n",
            "107/150 round completed......................... Accurecy: 0.7543307086614173\n",
            "108/150 round completed......................... Accurecy: 0.7543307086614173\n",
            "109/150 round completed......................... Accurecy: 0.7543307086614173\n",
            "110/150 round completed......................... Accurecy: 0.7543307086614173\n",
            "111/150 round completed......................... Accurecy: 0.7543307086614173\n",
            "112/150 round completed......................... Accurecy: 0.7543307086614173\n",
            "113/150 round completed......................... Accurecy: 0.7543307086614173\n",
            "114/150 round completed......................... Accurecy: 0.7543307086614173\n",
            "115/150 round completed......................... Accurecy: 0.7543307086614173\n",
            "116/150 round completed......................... Accurecy: 0.7543307086614173\n",
            "117/150 round completed......................... Accurecy: 0.7543307086614173\n",
            "118/150 round completed......................... Accurecy: 0.7543307086614173\n",
            "119/150 round completed......................... Accurecy: 0.7543307086614173\n",
            "120/150 round completed......................... Accurecy: 0.7543307086614173\n",
            "121/150 round completed......................... Accurecy: 0.7543307086614173\n",
            "122/150 round completed......................... Accurecy: 0.7543307086614173\n",
            "123/150 round completed......................... Accurecy: 0.7543307086614173\n",
            "124/150 round completed......................... Accurecy: 0.7543307086614173\n",
            "125/150 round completed......................... Accurecy: 0.7543307086614173\n",
            "126/150 round completed......................... Accurecy: 0.7543307086614173\n",
            "127/150 round completed......................... Accurecy: 0.7543307086614173\n",
            "128/150 round completed......................... Accurecy: 0.7543307086614173\n",
            "129/150 round completed......................... Accurecy: 0.7543307086614173\n",
            "130/150 round completed......................... Accurecy: 0.7543307086614173\n",
            "131/150 round completed......................... Accurecy: 0.7543307086614173\n",
            "132/150 round completed......................... Accurecy: 0.7543307086614173\n",
            "133/150 round completed......................... Accurecy: 0.7543307086614173\n",
            "134/150 round completed......................... Accurecy: 0.7543307086614173\n",
            "135/150 round completed......................... Accurecy: 0.7543307086614173\n",
            "136/150 round completed......................... Accurecy: 0.7543307086614173\n",
            "137/150 round completed......................... Accurecy: 0.7543307086614173\n",
            "138/150 round completed......................... Accurecy: 0.7543307086614173\n",
            "139/150 round completed......................... Accurecy: 0.7543307086614173\n",
            "140/150 round completed......................... Accurecy: 0.7543307086614173\n",
            "141/150 round completed......................... Accurecy: 0.7543307086614173\n",
            "142/150 round completed......................... Accurecy: 0.7543307086614173\n",
            "143/150 round completed......................... Accurecy: 0.7543307086614173\n",
            "144/150 round completed......................... Accurecy: 0.7543307086614173\n",
            "145/150 round completed......................... Accurecy: 0.7543307086614173\n",
            "146/150 round completed......................... Accurecy: 0.7543307086614173\n",
            "147/150 round completed......................... Accurecy: 0.7543307086614173\n",
            "148/150 round completed......................... Accurecy: 0.7543307086614173\n",
            "149/150 round completed......................... Accurecy: 0.7543307086614173\n",
            "150/150 round completed......................... Accurecy: 0.7543307086614173\n",
            "The best Depth:\n",
            "14\n"
          ]
        },
        {
          "output_type": "display_data",
          "data": {
            "text/plain": [
              "<Figure size 1800x720 with 1 Axes>"
            ],
            "image/png": "[encoded data removed]"
          },
          "metadata": {
            "needs_background": "light"
          }
        }
      ]
    },
    {
      "cell_type": "code",
      "source": [
        "from sklearn.ensemble import RandomForestClassifier\n",
        "rf_estimator = RandomForestClassifier(n_estimators=best_estimator,random_state=0)\n",
        "rf_estimator.fit(X_train, y_train)\n",
        "y_pred=rf_estimator.predict(X_test)\n",
        "\n",
        "\n",
        "from sklearn.metrics import classification_report, confusion_matrix, accuracy_score\n",
        "print(confusion_matrix(y_test, y_pred))\n",
        "print(classification_report(y_test,y_pred))\n",
        "print(\"Accurecy: \",accuracy_score(y_test, y_pred))\n",
        "result[(rf_estimator,3,'RandomForestClassifier')]=accuracy_score(y_test, y_pred)"
      ],
      "metadata": {
        "id": "LMUwwEqUt2-T",
        "outputId": "24c1cd5e-6f1b-4caf-afa1-d7f00f33de07",
        "colab": {
          "base_uri": "https://localhost:8080/"
        }
      },
      "execution_count": 33,
      "outputs": [
        {
          "output_type": "stream",
          "name": "stdout",
          "text": [
            "[[123  18  20   2]\n",
            " [ 22 116   6   1]\n",
            " [ 19  12 117  20]\n",
            " [ 11   5  18 125]]\n",
            "              precision    recall  f1-score   support\n",
            "\n",
            "           0       0.70      0.75      0.73       163\n",
            "           1       0.77      0.80      0.78       145\n",
            "           2       0.73      0.70      0.71       168\n",
            "           3       0.84      0.79      0.81       159\n",
            "\n",
            "    accuracy                           0.76       635\n",
            "   macro avg       0.76      0.76      0.76       635\n",
            "weighted avg       0.76      0.76      0.76       635\n",
            "\n",
            "Accurecy:  0.75748031496063\n"
          ]
        }
      ]
    },
    {
      "cell_type": "code",
      "source": [
        "from sklearn.ensemble import RandomForestClassifier\n",
        "rf_depth = RandomForestClassifier(max_depth=best_depth,random_state=0)\n",
        "rf_depth.fit(X_train, y_train)\n",
        "y_pred=rf_depth.predict(X_test)\n",
        "\n",
        "\n",
        "from sklearn.metrics import classification_report, confusion_matrix, accuracy_score\n",
        "print(confusion_matrix(y_test, y_pred))\n",
        "print(classification_report(y_test,y_pred))\n",
        "print(\"Accurecy: \",accuracy_score(y_test, y_pred))\n",
        "result[(rf_depth,3,'RandomForestClassifier')]=accuracy_score(y_test, y_pred)"
      ],
      "metadata": {
        "id": "NRybS4-nt_vO",
        "outputId": "fc8c9cc2-df00-4ad7-8dd0-86a6ff76de00",
        "colab": {
          "base_uri": "https://localhost:8080/"
        }
      },
      "execution_count": 34,
      "outputs": [
        {
          "output_type": "stream",
          "name": "stdout",
          "text": [
            "[[126  16  19   2]\n",
            " [ 20 117   6   2]\n",
            " [ 23   9 118  18]\n",
            " [ 13   5  17 124]]\n",
            "              precision    recall  f1-score   support\n",
            "\n",
            "           0       0.69      0.77      0.73       163\n",
            "           1       0.80      0.81      0.80       145\n",
            "           2       0.74      0.70      0.72       168\n",
            "           3       0.85      0.78      0.81       159\n",
            "\n",
            "    accuracy                           0.76       635\n",
            "   macro avg       0.77      0.77      0.77       635\n",
            "weighted avg       0.77      0.76      0.76       635\n",
            "\n",
            "Accurecy:  0.7637795275590551\n"
          ]
        }
      ]
    },
    {
      "cell_type": "code",
      "source": [
        "from sklearn.ensemble import RandomForestClassifier\n",
        "rf_all = RandomForestClassifier(n_estimators=best_estimator,max_depth=best_depth,random_state=0)\n",
        "rf_all.fit(X_train, y_train)\n",
        "y_pred=rf_all.predict(X_test)\n",
        "\n",
        "\n",
        "from sklearn.metrics import classification_report, confusion_matrix, accuracy_score\n",
        "print(confusion_matrix(y_test, y_pred))\n",
        "print(classification_report(y_test,y_pred))\n",
        "print(\"Accurecy: \",accuracy_score(y_test, y_pred))\n",
        "result[(rf_all,3,'RandomForestClassifier')]=accuracy_score(y_test, y_pred)"
      ],
      "metadata": {
        "id": "G9p0fJyBtrdZ",
        "outputId": "6529b077-7cf0-4b55-b070-8cfbb2ecce98",
        "colab": {
          "base_uri": "https://localhost:8080/"
        }
      },
      "execution_count": 35,
      "outputs": [
        {
          "output_type": "stream",
          "name": "stdout",
          "text": [
            "[[126  16  19   2]\n",
            " [ 20 117   6   2]\n",
            " [ 23  10 116  19]\n",
            " [ 11   6  17 125]]\n",
            "              precision    recall  f1-score   support\n",
            "\n",
            "           0       0.70      0.77      0.73       163\n",
            "           1       0.79      0.81      0.80       145\n",
            "           2       0.73      0.69      0.71       168\n",
            "           3       0.84      0.79      0.81       159\n",
            "\n",
            "    accuracy                           0.76       635\n",
            "   macro avg       0.77      0.76      0.76       635\n",
            "weighted avg       0.76      0.76      0.76       635\n",
            "\n",
            "Accurecy:  0.7622047244094489\n"
          ]
        }
      ]
    },
    {
      "cell_type": "markdown",
      "source": [
        "\n",
        "\n",
        "---\n",
        "\n",
        "\n",
        "\n",
        "---\n",
        "\n"
      ],
      "metadata": {
        "id": "G_DChNuquB92"
      }
    },
    {
      "cell_type": "markdown",
      "source": [
        "#XGB"
      ],
      "metadata": {
        "id": "jRG4cBnKvZU2"
      }
    },
    {
      "cell_type": "code",
      "source": [
        "\n",
        "\n",
        "import xgboost as xgb\n",
        "xgb_deafult = xgb.XGBClassifier(random_state=0)\n",
        "xgb_deafult.fit(X_train,y_train)\n",
        "y_pred = xgb_deafult.predict(X_test)\n",
        "\n",
        "\n",
        "from sklearn.metrics import classification_report, confusion_matrix, accuracy_score\n",
        "print(confusion_matrix(y_test, y_pred))\n",
        "print(classification_report(y_test,y_pred))\n",
        "print(\"Accurecy: \",accuracy_score(y_test, y_pred))\n",
        "result[(xgb_deafult,4,'xgboost')]=accuracy_score(y_test, y_pred)"
      ],
      "metadata": {
        "id": "sC1lAZeeuCw8",
        "outputId": "f5a839e8-9b81-4df2-c9f3-02e4f9e93072",
        "colab": {
          "base_uri": "https://localhost:8080/"
        }
      },
      "execution_count": 36,
      "outputs": [
        {
          "output_type": "stream",
          "name": "stdout",
          "text": [
            "[[114  27  20   2]\n",
            " [ 35  93  12   5]\n",
            " [ 29  16  97  26]\n",
            " [ 12  12  12 123]]\n",
            "              precision    recall  f1-score   support\n",
            "\n",
            "           0       0.60      0.70      0.65       163\n",
            "           1       0.63      0.64      0.63       145\n",
            "           2       0.69      0.58      0.63       168\n",
            "           3       0.79      0.77      0.78       159\n",
            "\n",
            "    accuracy                           0.67       635\n",
            "   macro avg       0.68      0.67      0.67       635\n",
            "weighted avg       0.68      0.67      0.67       635\n",
            "\n",
            "Accurecy:  0.6724409448818898\n"
          ]
        }
      ]
    },
    {
      "cell_type": "code",
      "source": [
        "import xgboost as xgb\n",
        "from sklearn.metrics import accuracy_score\n",
        "N=250\n",
        "k_range = range (1,N+1)\n",
        "scores={}\n",
        "scores_list = []\n",
        "for k in k_range:\n",
        "  xgb_classifier = xgb.XGBClassifier(n_estimators=k,random_state=0)\n",
        "  xgb_classifier.fit(X_train, y_train)\n",
        "  y_pred=xgb_classifier.predict(X_test)\n",
        "  scores[k] = accuracy_score(y_test,y_pred)\n",
        "  scores_list.append(accuracy_score(y_test,y_pred))\n",
        "  print(str(k)+\"/\"+str(N)+\" round completed......................... Accurecy: \"+str(accuracy_score(y_test,y_pred)))\n",
        "\n",
        "\n",
        "%matplotlib inline\n",
        "import matplotlib.pyplot as plt\n",
        "\n",
        "plt.figure(figsize = (25,10))\n",
        "plt.plot(k_range,scores_list)\n",
        "plt.xlabel('Value of n_estimators')\n",
        "plt.ylabel ('Testing Accuracy')\n",
        "\n",
        "\n",
        "\n",
        "print(\"The best n_estimators:\")\n",
        "best_estimator=list(scores.keys())[scores_list.index(max(scores_list))]\n",
        "print(best_estimator)"
      ],
      "metadata": {
        "id": "YQYsfVO0uPMA",
        "outputId": "43312d8f-a71c-4869-a3a3-1e7b76b49c2a",
        "colab": {
          "base_uri": "https://localhost:8080/",
          "height": 0
        }
      },
      "execution_count": 37,
      "outputs": [
        {
          "output_type": "stream",
          "name": "stdout",
          "text": [
            "1/250 round completed......................... Accurecy: 0.5606299212598426\n",
            "2/250 round completed......................... Accurecy: 0.573228346456693\n",
            "3/250 round completed......................... Accurecy: 0.573228346456693\n",
            "4/250 round completed......................... Accurecy: 0.5811023622047244\n",
            "5/250 round completed......................... Accurecy: 0.5826771653543307\n",
            "6/250 round completed......................... Accurecy: 0.584251968503937\n",
            "7/250 round completed......................... Accurecy: 0.5826771653543307\n",
            "8/250 round completed......................... Accurecy: 0.584251968503937\n",
            "9/250 round completed......................... Accurecy: 0.5921259842519685\n",
            "10/250 round completed......................... Accurecy: 0.5921259842519685\n",
            "11/250 round completed......................... Accurecy: 0.5889763779527559\n",
            "12/250 round completed......................... Accurecy: 0.5937007874015748\n",
            "13/250 round completed......................... Accurecy: 0.5921259842519685\n",
            "14/250 round completed......................... Accurecy: 0.5952755905511811\n",
            "15/250 round completed......................... Accurecy: 0.5921259842519685\n",
            "16/250 round completed......................... Accurecy: 0.6\n",
            "17/250 round completed......................... Accurecy: 0.6\n",
            "18/250 round completed......................... Accurecy: 0.6078740157480315\n",
            "19/250 round completed......................... Accurecy: 0.6047244094488189\n",
            "20/250 round completed......................... Accurecy: 0.6047244094488189\n",
            "21/250 round completed......................... Accurecy: 0.6062992125984252\n",
            "22/250 round completed......................... Accurecy: 0.6031496062992125\n",
            "23/250 round completed......................... Accurecy: 0.6047244094488189\n",
            "24/250 round completed......................... Accurecy: 0.6047244094488189\n",
            "25/250 round completed......................... Accurecy: 0.6062992125984252\n",
            "26/250 round completed......................... Accurecy: 0.6125984251968504\n",
            "27/250 round completed......................... Accurecy: 0.6110236220472441\n",
            "28/250 round completed......................... Accurecy: 0.6157480314960629\n",
            "29/250 round completed......................... Accurecy: 0.6204724409448819\n",
            "30/250 round completed......................... Accurecy: 0.6188976377952756\n",
            "31/250 round completed......................... Accurecy: 0.6157480314960629\n",
            "32/250 round completed......................... Accurecy: 0.6157480314960629\n",
            "33/250 round completed......................... Accurecy: 0.6299212598425197\n",
            "34/250 round completed......................... Accurecy: 0.6330708661417322\n",
            "35/250 round completed......................... Accurecy: 0.6299212598425197\n",
            "36/250 round completed......................... Accurecy: 0.6346456692913386\n",
            "37/250 round completed......................... Accurecy: 0.6362204724409449\n",
            "38/250 round completed......................... Accurecy: 0.6377952755905512\n",
            "39/250 round completed......................... Accurecy: 0.6362204724409449\n",
            "40/250 round completed......................... Accurecy: 0.6362204724409449\n",
            "41/250 round completed......................... Accurecy: 0.6393700787401575\n",
            "42/250 round completed......................... Accurecy: 0.6362204724409449\n",
            "43/250 round completed......................... Accurecy: 0.6377952755905512\n",
            "44/250 round completed......................... Accurecy: 0.6362204724409449\n",
            "45/250 round completed......................... Accurecy: 0.6362204724409449\n",
            "46/250 round completed......................... Accurecy: 0.6330708661417322\n",
            "47/250 round completed......................... Accurecy: 0.6346456692913386\n",
            "48/250 round completed......................... Accurecy: 0.6377952755905512\n",
            "49/250 round completed......................... Accurecy: 0.6393700787401575\n",
            "50/250 round completed......................... Accurecy: 0.6456692913385826\n",
            "51/250 round completed......................... Accurecy: 0.6440944881889764\n",
            "52/250 round completed......................... Accurecy: 0.6519685039370079\n",
            "53/250 round completed......................... Accurecy: 0.6519685039370079\n",
            "54/250 round completed......................... Accurecy: 0.6566929133858268\n",
            "55/250 round completed......................... Accurecy: 0.6551181102362205\n",
            "56/250 round completed......................... Accurecy: 0.658267716535433\n",
            "57/250 round completed......................... Accurecy: 0.6566929133858268\n",
            "58/250 round completed......................... Accurecy: 0.6566929133858268\n",
            "59/250 round completed......................... Accurecy: 0.662992125984252\n",
            "60/250 round completed......................... Accurecy: 0.6645669291338583\n",
            "61/250 round completed......................... Accurecy: 0.662992125984252\n",
            "62/250 round completed......................... Accurecy: 0.6614173228346457\n",
            "63/250 round completed......................... Accurecy: 0.658267716535433\n",
            "64/250 round completed......................... Accurecy: 0.658267716535433\n",
            "65/250 round completed......................... Accurecy: 0.6566929133858268\n",
            "66/250 round completed......................... Accurecy: 0.658267716535433\n",
            "67/250 round completed......................... Accurecy: 0.6598425196850394\n",
            "68/250 round completed......................... Accurecy: 0.6614173228346457\n",
            "69/250 round completed......................... Accurecy: 0.658267716535433\n",
            "70/250 round completed......................... Accurecy: 0.6614173228346457\n",
            "71/250 round completed......................... Accurecy: 0.6598425196850394\n",
            "72/250 round completed......................... Accurecy: 0.6598425196850394\n",
            "73/250 round completed......................... Accurecy: 0.6566929133858268\n",
            "74/250 round completed......................... Accurecy: 0.6566929133858268\n",
            "75/250 round completed......................... Accurecy: 0.6598425196850394\n",
            "76/250 round completed......................... Accurecy: 0.6598425196850394\n",
            "77/250 round completed......................... Accurecy: 0.6614173228346457\n",
            "78/250 round completed......................... Accurecy: 0.6614173228346457\n",
            "79/250 round completed......................... Accurecy: 0.6614173228346457\n",
            "80/250 round completed......................... Accurecy: 0.6614173228346457\n",
            "81/250 round completed......................... Accurecy: 0.6645669291338583\n",
            "82/250 round completed......................... Accurecy: 0.6645669291338583\n",
            "83/250 round completed......................... Accurecy: 0.6661417322834645\n",
            "84/250 round completed......................... Accurecy: 0.6692913385826772\n",
            "85/250 round completed......................... Accurecy: 0.6708661417322834\n",
            "86/250 round completed......................... Accurecy: 0.6692913385826772\n",
            "87/250 round completed......................... Accurecy: 0.6692913385826772\n",
            "88/250 round completed......................... Accurecy: 0.6661417322834645\n",
            "89/250 round completed......................... Accurecy: 0.6677165354330709\n",
            "90/250 round completed......................... Accurecy: 0.6692913385826772\n",
            "91/250 round completed......................... Accurecy: 0.6708661417322834\n",
            "92/250 round completed......................... Accurecy: 0.6708661417322834\n",
            "93/250 round completed......................... Accurecy: 0.6724409448818898\n",
            "94/250 round completed......................... Accurecy: 0.6740157480314961\n",
            "95/250 round completed......................... Accurecy: 0.6740157480314961\n",
            "96/250 round completed......................... Accurecy: 0.6708661417322834\n",
            "97/250 round completed......................... Accurecy: 0.6740157480314961\n",
            "98/250 round completed......................... Accurecy: 0.6724409448818898\n",
            "99/250 round completed......................... Accurecy: 0.6740157480314961\n",
            "100/250 round completed......................... Accurecy: 0.6724409448818898\n",
            "101/250 round completed......................... Accurecy: 0.6740157480314961\n",
            "102/250 round completed......................... Accurecy: 0.6771653543307087\n",
            "103/250 round completed......................... Accurecy: 0.6755905511811023\n",
            "104/250 round completed......................... Accurecy: 0.6708661417322834\n",
            "105/250 round completed......................... Accurecy: 0.6724409448818898\n",
            "106/250 round completed......................... Accurecy: 0.6755905511811023\n",
            "107/250 round completed......................... Accurecy: 0.6787401574803149\n",
            "108/250 round completed......................... Accurecy: 0.6803149606299213\n",
            "109/250 round completed......................... Accurecy: 0.6818897637795276\n",
            "110/250 round completed......................... Accurecy: 0.6834645669291338\n",
            "111/250 round completed......................... Accurecy: 0.6803149606299213\n",
            "112/250 round completed......................... Accurecy: 0.6850393700787402\n",
            "113/250 round completed......................... Accurecy: 0.6881889763779527\n",
            "114/250 round completed......................... Accurecy: 0.6866141732283465\n",
            "115/250 round completed......................... Accurecy: 0.6881889763779527\n",
            "116/250 round completed......................... Accurecy: 0.6929133858267716\n",
            "117/250 round completed......................... Accurecy: 0.694488188976378\n",
            "118/250 round completed......................... Accurecy: 0.694488188976378\n",
            "119/250 round completed......................... Accurecy: 0.694488188976378\n",
            "120/250 round completed......................... Accurecy: 0.6929133858267716\n",
            "121/250 round completed......................... Accurecy: 0.6929133858267716\n",
            "122/250 round completed......................... Accurecy: 0.6976377952755906\n",
            "123/250 round completed......................... Accurecy: 0.6992125984251969\n",
            "124/250 round completed......................... Accurecy: 0.7007874015748031\n",
            "125/250 round completed......................... Accurecy: 0.7007874015748031\n",
            "126/250 round completed......................... Accurecy: 0.7007874015748031\n",
            "127/250 round completed......................... Accurecy: 0.7007874015748031\n",
            "128/250 round completed......................... Accurecy: 0.7007874015748031\n",
            "129/250 round completed......................... Accurecy: 0.6992125984251969\n",
            "130/250 round completed......................... Accurecy: 0.6992125984251969\n",
            "131/250 round completed......................... Accurecy: 0.6992125984251969\n",
            "132/250 round completed......................... Accurecy: 0.6976377952755906\n",
            "133/250 round completed......................... Accurecy: 0.6976377952755906\n",
            "134/250 round completed......................... Accurecy: 0.6976377952755906\n",
            "135/250 round completed......................... Accurecy: 0.694488188976378\n",
            "136/250 round completed......................... Accurecy: 0.6960629921259842\n",
            "137/250 round completed......................... Accurecy: 0.6976377952755906\n",
            "138/250 round completed......................... Accurecy: 0.7023622047244095\n",
            "139/250 round completed......................... Accurecy: 0.6976377952755906\n",
            "140/250 round completed......................... Accurecy: 0.7023622047244095\n",
            "141/250 round completed......................... Accurecy: 0.6992125984251969\n",
            "142/250 round completed......................... Accurecy: 0.6992125984251969\n",
            "143/250 round completed......................... Accurecy: 0.6992125984251969\n",
            "144/250 round completed......................... Accurecy: 0.7039370078740157\n",
            "145/250 round completed......................... Accurecy: 0.7039370078740157\n",
            "146/250 round completed......................... Accurecy: 0.7039370078740157\n",
            "147/250 round completed......................... Accurecy: 0.7023622047244095\n",
            "148/250 round completed......................... Accurecy: 0.7070866141732284\n",
            "149/250 round completed......................... Accurecy: 0.7070866141732284\n",
            "150/250 round completed......................... Accurecy: 0.7118110236220473\n",
            "151/250 round completed......................... Accurecy: 0.7149606299212599\n",
            "152/250 round completed......................... Accurecy: 0.7149606299212599\n",
            "153/250 round completed......................... Accurecy: 0.7149606299212599\n",
            "154/250 round completed......................... Accurecy: 0.7181102362204724\n",
            "155/250 round completed......................... Accurecy: 0.7196850393700788\n",
            "156/250 round completed......................... Accurecy: 0.7181102362204724\n",
            "157/250 round completed......................... Accurecy: 0.7181102362204724\n",
            "158/250 round completed......................... Accurecy: 0.7165354330708661\n",
            "159/250 round completed......................... Accurecy: 0.7181102362204724\n",
            "160/250 round completed......................... Accurecy: 0.7149606299212599\n",
            "161/250 round completed......................... Accurecy: 0.7181102362204724\n",
            "162/250 round completed......................... Accurecy: 0.7165354330708661\n",
            "163/250 round completed......................... Accurecy: 0.7149606299212599\n",
            "164/250 round completed......................... Accurecy: 0.7181102362204724\n",
            "165/250 round completed......................... Accurecy: 0.7181102362204724\n",
            "166/250 round completed......................... Accurecy: 0.7118110236220473\n",
            "167/250 round completed......................... Accurecy: 0.7118110236220473\n",
            "168/250 round completed......................... Accurecy: 0.7133858267716535\n",
            "169/250 round completed......................... Accurecy: 0.7165354330708661\n",
            "170/250 round completed......................... Accurecy: 0.7181102362204724\n",
            "171/250 round completed......................... Accurecy: 0.7181102362204724\n",
            "172/250 round completed......................... Accurecy: 0.7149606299212599\n",
            "173/250 round completed......................... Accurecy: 0.7181102362204724\n",
            "174/250 round completed......................... Accurecy: 0.7181102362204724\n",
            "175/250 round completed......................... Accurecy: 0.7196850393700788\n",
            "176/250 round completed......................... Accurecy: 0.7165354330708661\n",
            "177/250 round completed......................... Accurecy: 0.7165354330708661\n",
            "178/250 round completed......................... Accurecy: 0.7196850393700788\n",
            "179/250 round completed......................... Accurecy: 0.7196850393700788\n",
            "180/250 round completed......................... Accurecy: 0.7196850393700788\n",
            "181/250 round completed......................... Accurecy: 0.721259842519685\n",
            "182/250 round completed......................... Accurecy: 0.7228346456692913\n",
            "183/250 round completed......................... Accurecy: 0.7228346456692913\n",
            "184/250 round completed......................... Accurecy: 0.7228346456692913\n",
            "185/250 round completed......................... Accurecy: 0.721259842519685\n",
            "186/250 round completed......................... Accurecy: 0.7165354330708661\n",
            "187/250 round completed......................... Accurecy: 0.7149606299212599\n",
            "188/250 round completed......................... Accurecy: 0.7149606299212599\n",
            "189/250 round completed......................... Accurecy: 0.7133858267716535\n",
            "190/250 round completed......................... Accurecy: 0.7133858267716535\n",
            "191/250 round completed......................... Accurecy: 0.7165354330708661\n",
            "192/250 round completed......................... Accurecy: 0.721259842519685\n",
            "193/250 round completed......................... Accurecy: 0.721259842519685\n",
            "194/250 round completed......................... Accurecy: 0.721259842519685\n",
            "195/250 round completed......................... Accurecy: 0.7244094488188977\n",
            "196/250 round completed......................... Accurecy: 0.7291338582677165\n",
            "197/250 round completed......................... Accurecy: 0.7275590551181103\n",
            "198/250 round completed......................... Accurecy: 0.7291338582677165\n",
            "199/250 round completed......................... Accurecy: 0.7259842519685039\n",
            "200/250 round completed......................... Accurecy: 0.7259842519685039\n",
            "201/250 round completed......................... Accurecy: 0.7259842519685039\n",
            "202/250 round completed......................... Accurecy: 0.7275590551181103\n",
            "203/250 round completed......................... Accurecy: 0.7291338582677165\n",
            "204/250 round completed......................... Accurecy: 0.7275590551181103\n",
            "205/250 round completed......................... Accurecy: 0.7275590551181103\n",
            "206/250 round completed......................... Accurecy: 0.7275590551181103\n",
            "207/250 round completed......................... Accurecy: 0.7259842519685039\n",
            "208/250 round completed......................... Accurecy: 0.7259842519685039\n",
            "209/250 round completed......................... Accurecy: 0.7275590551181103\n",
            "210/250 round completed......................... Accurecy: 0.7275590551181103\n",
            "211/250 round completed......................... Accurecy: 0.7259842519685039\n",
            "212/250 round completed......................... Accurecy: 0.7259842519685039\n",
            "213/250 round completed......................... Accurecy: 0.7259842519685039\n",
            "214/250 round completed......................... Accurecy: 0.7275590551181103\n",
            "215/250 round completed......................... Accurecy: 0.7275590551181103\n",
            "216/250 round completed......................... Accurecy: 0.7275590551181103\n",
            "217/250 round completed......................... Accurecy: 0.7275590551181103\n",
            "218/250 round completed......................... Accurecy: 0.7275590551181103\n",
            "219/250 round completed......................... Accurecy: 0.7275590551181103\n",
            "220/250 round completed......................... Accurecy: 0.7275590551181103\n",
            "221/250 round completed......................... Accurecy: 0.7275590551181103\n",
            "222/250 round completed......................... Accurecy: 0.7275590551181103\n",
            "223/250 round completed......................... Accurecy: 0.7291338582677165\n",
            "224/250 round completed......................... Accurecy: 0.7307086614173228\n",
            "225/250 round completed......................... Accurecy: 0.7307086614173228\n",
            "226/250 round completed......................... Accurecy: 0.7307086614173228\n",
            "227/250 round completed......................... Accurecy: 0.7307086614173228\n",
            "228/250 round completed......................... Accurecy: 0.7275590551181103\n",
            "229/250 round completed......................... Accurecy: 0.7275590551181103\n",
            "230/250 round completed......................... Accurecy: 0.7275590551181103\n",
            "231/250 round completed......................... Accurecy: 0.7275590551181103\n",
            "232/250 round completed......................... Accurecy: 0.7275590551181103\n",
            "233/250 round completed......................... Accurecy: 0.7275590551181103\n",
            "234/250 round completed......................... Accurecy: 0.7275590551181103\n",
            "235/250 round completed......................... Accurecy: 0.7275590551181103\n",
            "236/250 round completed......................... Accurecy: 0.7307086614173228\n",
            "237/250 round completed......................... Accurecy: 0.7307086614173228\n",
            "238/250 round completed......................... Accurecy: 0.7291338582677165\n",
            "239/250 round completed......................... Accurecy: 0.7291338582677165\n",
            "240/250 round completed......................... Accurecy: 0.7291338582677165\n",
            "241/250 round completed......................... Accurecy: 0.7307086614173228\n",
            "242/250 round completed......................... Accurecy: 0.7307086614173228\n",
            "243/250 round completed......................... Accurecy: 0.7307086614173228\n",
            "244/250 round completed......................... Accurecy: 0.7307086614173228\n",
            "245/250 round completed......................... Accurecy: 0.7307086614173228\n",
            "246/250 round completed......................... Accurecy: 0.7322834645669292\n",
            "247/250 round completed......................... Accurecy: 0.7291338582677165\n",
            "248/250 round completed......................... Accurecy: 0.7291338582677165\n",
            "249/250 round completed......................... Accurecy: 0.7322834645669292\n",
            "250/250 round completed......................... Accurecy: 0.7307086614173228\n",
            "The best n_estimators:\n",
            "246\n"
          ]
        },
        {
          "output_type": "display_data",
          "data": {
            "text/plain": [
              "<Figure size 1800x720 with 1 Axes>"
            ],
            "image/png": "[encoded data removed]"
          },
          "metadata": {
            "needs_background": "light"
          }
        }
      ]
    },
    {
      "cell_type": "code",
      "source": [
        "import xgboost as xgb\n",
        "from sklearn.metrics import accuracy_score\n",
        "N=250\n",
        "k_range = range (1,N+1)\n",
        "scores={}\n",
        "scores_list = []\n",
        "for k in k_range:\n",
        "  xgb_classifier = xgb.XGBClassifier(max_depth=k,random_state=0)\n",
        "  xgb_classifier.fit(X_train, y_train)\n",
        "  y_pred=xgb_classifier.predict(X_test)\n",
        "  scores[k] = accuracy_score(y_test,y_pred)\n",
        "  scores_list.append(accuracy_score(y_test,y_pred))\n",
        "  print(str(k)+\"/\"+str(N)+\" round completed......................... Accurecy: \"+str(accuracy_score(y_test,y_pred)))\n",
        "\n",
        "\n",
        "%matplotlib inline\n",
        "import matplotlib.pyplot as plt\n",
        "\n",
        "plt.figure(figsize = (25,10))\n",
        "plt.plot(k_range,scores_list)\n",
        "plt.xlabel('Value of n_estimators')\n",
        "plt.ylabel ('Testing Accuracy')\n",
        "\n",
        "\n",
        "\n",
        "print(\"The best depth:\")\n",
        "best_depth=list(scores.keys())[scores_list.index(max(scores_list))]\n",
        "print(best_depth)"
      ],
      "metadata": {
        "id": "ABex6e-3kxuX",
        "outputId": "a121a96d-4066-4265-86dd-7ca9166d48b6",
        "colab": {
          "base_uri": "https://localhost:8080/"
        }
      },
      "execution_count": null,
      "outputs": [
        {
          "output_type": "stream",
          "name": "stdout",
          "text": [
            "1/250 round completed......................... Accurecy: 0.5795275590551181\n",
            "2/250 round completed......................... Accurecy: 0.6267716535433071\n",
            "3/250 round completed......................... Accurecy: 0.6724409448818898\n",
            "4/250 round completed......................... Accurecy: 0.7275590551181103\n",
            "5/250 round completed......................... Accurecy: 0.7433070866141732\n",
            "6/250 round completed......................... Accurecy: 0.75748031496063\n",
            "7/250 round completed......................... Accurecy: 0.7732283464566929\n",
            "8/250 round completed......................... Accurecy: 0.7590551181102362\n",
            "9/250 round completed......................... Accurecy: 0.7606299212598425\n",
            "10/250 round completed......................... Accurecy: 0.7637795275590551\n",
            "11/250 round completed......................... Accurecy: 0.7622047244094489\n",
            "12/250 round completed......................... Accurecy: 0.7559055118110236\n",
            "13/250 round completed......................... Accurecy: 0.75748031496063\n",
            "14/250 round completed......................... Accurecy: 0.768503937007874\n",
            "15/250 round completed......................... Accurecy: 0.7669291338582677\n",
            "16/250 round completed......................... Accurecy: 0.7700787401574803\n",
            "17/250 round completed......................... Accurecy: 0.7622047244094489\n",
            "18/250 round completed......................... Accurecy: 0.7748031496062993\n",
            "19/250 round completed......................... Accurecy: 0.7637795275590551\n",
            "20/250 round completed......................... Accurecy: 0.7732283464566929\n",
            "21/250 round completed......................... Accurecy: 0.7606299212598425\n",
            "22/250 round completed......................... Accurecy: 0.7622047244094489\n",
            "23/250 round completed......................... Accurecy: 0.7590551181102362\n",
            "24/250 round completed......................... Accurecy: 0.7653543307086614\n",
            "25/250 round completed......................... Accurecy: 0.7622047244094489\n",
            "26/250 round completed......................... Accurecy: 0.7669291338582677\n",
            "27/250 round completed......................... Accurecy: 0.7669291338582677\n",
            "28/250 round completed......................... Accurecy: 0.7669291338582677\n",
            "29/250 round completed......................... Accurecy: 0.7669291338582677\n",
            "30/250 round completed......................... Accurecy: 0.7669291338582677\n",
            "31/250 round completed......................... Accurecy: 0.7669291338582677\n",
            "32/250 round completed......................... Accurecy: 0.7669291338582677\n",
            "33/250 round completed......................... Accurecy: 0.7669291338582677\n",
            "34/250 round completed......................... Accurecy: 0.7669291338582677\n",
            "35/250 round completed......................... Accurecy: 0.7669291338582677\n",
            "36/250 round completed......................... Accurecy: 0.7669291338582677\n",
            "37/250 round completed......................... Accurecy: 0.7669291338582677\n",
            "38/250 round completed......................... Accurecy: 0.7669291338582677\n",
            "39/250 round completed......................... Accurecy: 0.7669291338582677\n",
            "40/250 round completed......................... Accurecy: 0.7669291338582677\n",
            "41/250 round completed......................... Accurecy: 0.7669291338582677\n",
            "42/250 round completed......................... Accurecy: 0.7669291338582677\n",
            "43/250 round completed......................... Accurecy: 0.7669291338582677\n",
            "44/250 round completed......................... Accurecy: 0.7669291338582677\n",
            "45/250 round completed......................... Accurecy: 0.7669291338582677\n",
            "46/250 round completed......................... Accurecy: 0.7669291338582677\n",
            "47/250 round completed......................... Accurecy: 0.7669291338582677\n",
            "48/250 round completed......................... Accurecy: 0.7669291338582677\n",
            "49/250 round completed......................... Accurecy: 0.7669291338582677\n",
            "50/250 round completed......................... Accurecy: 0.7669291338582677\n",
            "51/250 round completed......................... Accurecy: 0.7669291338582677\n",
            "52/250 round completed......................... Accurecy: 0.7669291338582677\n",
            "53/250 round completed......................... Accurecy: 0.7669291338582677\n",
            "54/250 round completed......................... Accurecy: 0.7669291338582677\n",
            "55/250 round completed......................... Accurecy: 0.7669291338582677\n",
            "56/250 round completed......................... Accurecy: 0.7669291338582677\n",
            "57/250 round completed......................... Accurecy: 0.7669291338582677\n",
            "58/250 round completed......................... Accurecy: 0.7669291338582677\n",
            "59/250 round completed......................... Accurecy: 0.7669291338582677\n",
            "60/250 round completed......................... Accurecy: 0.7669291338582677\n",
            "61/250 round completed......................... Accurecy: 0.7669291338582677\n",
            "62/250 round completed......................... Accurecy: 0.7669291338582677\n",
            "63/250 round completed......................... Accurecy: 0.7669291338582677\n",
            "64/250 round completed......................... Accurecy: 0.7669291338582677\n",
            "65/250 round completed......................... Accurecy: 0.7669291338582677\n",
            "66/250 round completed......................... Accurecy: 0.7669291338582677\n",
            "67/250 round completed......................... Accurecy: 0.7669291338582677\n",
            "68/250 round completed......................... Accurecy: 0.7669291338582677\n",
            "69/250 round completed......................... Accurecy: 0.7669291338582677\n",
            "70/250 round completed......................... Accurecy: 0.7669291338582677\n",
            "71/250 round completed......................... Accurecy: 0.7669291338582677\n",
            "72/250 round completed......................... Accurecy: 0.7669291338582677\n",
            "73/250 round completed......................... Accurecy: 0.7669291338582677\n",
            "74/250 round completed......................... Accurecy: 0.7669291338582677\n",
            "75/250 round completed......................... Accurecy: 0.7669291338582677\n",
            "76/250 round completed......................... Accurecy: 0.7669291338582677\n",
            "77/250 round completed......................... Accurecy: 0.7669291338582677\n",
            "78/250 round completed......................... Accurecy: 0.7669291338582677\n",
            "79/250 round completed......................... Accurecy: 0.7669291338582677\n",
            "80/250 round completed......................... Accurecy: 0.7669291338582677\n",
            "81/250 round completed......................... Accurecy: 0.7669291338582677\n",
            "82/250 round completed......................... Accurecy: 0.7669291338582677\n",
            "83/250 round completed......................... Accurecy: 0.7669291338582677\n",
            "84/250 round completed......................... Accurecy: 0.7669291338582677\n",
            "85/250 round completed......................... Accurecy: 0.7669291338582677\n",
            "86/250 round completed......................... Accurecy: 0.7669291338582677\n",
            "87/250 round completed......................... Accurecy: 0.7669291338582677\n",
            "88/250 round completed......................... Accurecy: 0.7669291338582677\n",
            "89/250 round completed......................... Accurecy: 0.7669291338582677\n",
            "90/250 round completed......................... Accurecy: 0.7669291338582677\n",
            "91/250 round completed......................... Accurecy: 0.7669291338582677\n"
          ]
        }
      ]
    },
    {
      "cell_type": "code",
      "source": [
        "import xgboost as xgb\n",
        "xgb_depth = xgb.XGBClassifier(max_depth=best_depth,random_state=0)\n",
        "xgb_depth.fit(X_train,y_train)\n",
        "y_pred = xgb_depth.predict(X_test)\n",
        "\n",
        "\n",
        "from sklearn.metrics import classification_report, confusion_matrix, accuracy_score\n",
        "print(confusion_matrix(y_test, y_pred))\n",
        "print(classification_report(y_test,y_pred))\n",
        "print(\"Accurecy: \",accuracy_score(y_test, y_pred))\n",
        "result[(xgb_depth,4,'xgboost')]=accuracy_score(y_test, y_pred)\n",
        "print(xgb_depth)"
      ],
      "metadata": {
        "id": "lfBp-uGXuaKY"
      },
      "execution_count": null,
      "outputs": []
    },
    {
      "cell_type": "code",
      "source": [
        "import xgboost as xgb\n",
        "xgb_estimator = xgb.XGBClassifier(n_estimators=best_estimator,random_state=0)\n",
        "xgb_estimator.fit(X_train,y_train)\n",
        "y_pred = xgb_estimator.predict(X_test)\n",
        "\n",
        "\n",
        "from sklearn.metrics import classification_report, confusion_matrix, accuracy_score\n",
        "print(confusion_matrix(y_test, y_pred))\n",
        "print(classification_report(y_test,y_pred))\n",
        "print(\"Accurecy: \",accuracy_score(y_test, y_pred))\n",
        "result[(xgb_estimator,4,'xgboost')]=accuracy_score(y_test, y_pred)\n",
        "print(xgb_estimator)"
      ],
      "metadata": {
        "id": "_qBm-yTqzOsi"
      },
      "execution_count": null,
      "outputs": []
    },
    {
      "cell_type": "code",
      "source": [
        "import xgboost as xgb\n",
        "xgb_all = xgb.XGBClassifier(n_estimators=best_estimator,max_depth=best_depth,random_state=0)\n",
        "xgb_all.fit(X_train,y_train)\n",
        "y_pred = xgb_all.predict(X_test)\n",
        "\n",
        "\n",
        "from sklearn.metrics import classification_report, confusion_matrix, accuracy_score\n",
        "print(confusion_matrix(y_test, y_pred))\n",
        "print(classification_report(y_test,y_pred))\n",
        "print(\"Accurecy: \",accuracy_score(y_test, y_pred))\n",
        "result[(xgb_all,4,'xgboost')]=accuracy_score(y_test, y_pred)"
      ],
      "metadata": {
        "id": "zW-0PfT-zX3C"
      },
      "execution_count": null,
      "outputs": []
    },
    {
      "cell_type": "markdown",
      "source": [
        "#KNN"
      ],
      "metadata": {
        "id": "K6_icFWdauSI"
      }
    },
    {
      "cell_type": "code",
      "source": [
        "from sklearn.neighbors import KNeighborsClassifier\n",
        "knn_default = KNeighborsClassifier()\n",
        "knn_default.fit(X_train, y_train)\n",
        "y_pred=knn_default.predict(X_test)\n",
        "\n",
        "\n",
        "from sklearn.metrics import classification_report, confusion_matrix, accuracy_score\n",
        "print(confusion_matrix(y_test, y_pred))\n",
        "print(classification_report(y_test,y_pred))\n",
        "print(\"Accurecy: \",accuracy_score(y_test, y_pred))\n",
        "result[(knn_default,5,'KNeighborsClassifier')]=accuracy_score(y_test, y_pred)"
      ],
      "metadata": {
        "id": "6GALUBYbaz1z"
      },
      "execution_count": null,
      "outputs": []
    },
    {
      "cell_type": "code",
      "source": [
        "from sklearn.neighbors import KNeighborsClassifier\n",
        "from sklearn.metrics import accuracy_score\n",
        "Neighbors=105\n",
        "k_range = range (1,Neighbors+1)\n",
        "scores={}\n",
        "scores_list = []\n",
        "for k in k_range:\n",
        "  knn = KNeighborsClassifier(n_neighbors=k)\n",
        "  knn.fit(X_train, y_train)\n",
        "  y_pred=knn.predict(X_test)\n",
        "  scores[k] = accuracy_score(y_test,y_pred)\n",
        "  scores_list.append(accuracy_score(y_test,y_pred))\n",
        "  print(str(k)+\"/\"+str(Neighbors)+\" round completed......................... Accurecy: \"+str(accuracy_score(y_test,y_pred)))\n",
        "\n",
        "\n",
        "%matplotlib inline\n",
        "import matplotlib.pyplot as plt\n",
        "\n",
        "plt.figure(figsize = (25,10))\n",
        "plt.plot(k_range,scores_list)\n",
        "plt.xlabel('Value of n_estimators')\n",
        "plt.ylabel ('Testing Accuracy')\n",
        "\n",
        "\n",
        "\n",
        "print(\"The best Depth:\")\n",
        "best=list(scores.keys())[scores_list.index(max(scores_list))]\n",
        "print(best)"
      ],
      "metadata": {
        "id": "CpSsmYDHa-VF"
      },
      "execution_count": null,
      "outputs": []
    },
    {
      "cell_type": "code",
      "source": [
        "from sklearn.neighbors import KNeighborsClassifier\n",
        "knn_neighbors = KNeighborsClassifier(n_neighbors=best)\n",
        "knn_neighbors.fit(X_train, y_train)\n",
        "y_pred=knn_neighbors.predict(X_test)\n",
        "\n",
        "\n",
        "from sklearn.metrics import classification_report, confusion_matrix, accuracy_score\n",
        "print(confusion_matrix(y_test, y_pred))\n",
        "print(classification_report(y_test,y_pred))\n",
        "print(\"Accurecy: \",accuracy_score(y_test, y_pred))\n",
        "result[(knn_neighbors,5,'KNeighborsClassifier')]=accuracy_score(y_test, y_pred)"
      ],
      "metadata": {
        "id": "MIVJZYV8bCjo"
      },
      "execution_count": null,
      "outputs": []
    },
    {
      "cell_type": "markdown",
      "source": [
        "#NB"
      ],
      "metadata": {
        "id": "_Btki9jRvc1Y"
      }
    },
    {
      "cell_type": "code",
      "source": [
        "from sklearn.naive_bayes import GaussianNB\n",
        "\n",
        "nb_deafult = GaussianNB()\n",
        "nb_deafult.fit(X_train, y_train)\n",
        "y_pred = nb_deafult.predict(X_test)\n",
        "\n",
        "\n",
        "from sklearn.metrics import classification_report, confusion_matrix, accuracy_score\n",
        "print(confusion_matrix(y_test, y_pred))\n",
        "print(classification_report(y_test,y_pred))\n",
        "print(\"Accurecy: \",accuracy_score(y_test, y_pred))\n",
        "result[(nb_deafult,6,'GaussianNB')]=accuracy_score(y_test, y_pred)"
      ],
      "metadata": {
        "id": "iRmd7ve-ubcd"
      },
      "execution_count": null,
      "outputs": []
    },
    {
      "cell_type": "markdown",
      "source": [
        "\n",
        "\n",
        "---\n",
        "\n",
        "\n",
        "\n",
        "---\n",
        "\n"
      ],
      "metadata": {
        "id": "qqsWPAB3uv72"
      }
    },
    {
      "cell_type": "markdown",
      "source": [
        "#Result"
      ],
      "metadata": {
        "id": "6FEsxCdvkg2D"
      }
    },
    {
      "cell_type": "code",
      "source": [
        "\n",
        "models=[]\n",
        "\n",
        "for i in result:\n",
        "  models.append(i[0])\n",
        "  print(i[0],i[1],\" : \",result[i])\n",
        "  print(\"---------------------------------------------------------------\")\n",
        "  print()\n"
      ],
      "metadata": {
        "id": "rx7qCLU14Aim"
      },
      "execution_count": null,
      "outputs": []
    },
    {
      "cell_type": "code",
      "source": [
        "sorted_list=[]\n",
        "sorted_list = sorted(result, key=result.get,reverse=True)\n",
        "\n",
        "for i in sorted_list:\n",
        "  print(i,\"  : \",result[i])\n",
        "  print(\"-------------------------------------------------------------------------------------------------\")\n",
        "\n",
        "print(sorted_list)\n",
        "\n",
        "\n",
        "flage=[]\n",
        "best_models=[]\n",
        "it=0\n",
        "\n",
        "for i in sorted_list:\n",
        "  if it==4:\n",
        "    break\n",
        "\n",
        "  if i[1] not in flage:\n",
        "    best_models.append((i[0],i[2]))\n",
        "    flage.append(i[1])\n",
        "    it+=1\n"
      ],
      "metadata": {
        "id": "slItYG8uLOFi"
      },
      "execution_count": null,
      "outputs": []
    },
    {
      "cell_type": "code",
      "source": [
        "print(\"best_models:\")\n",
        "for i in best_models:\n",
        "  print(i)\n"
      ],
      "metadata": {
        "id": "SR0XBsJDMi_1"
      },
      "execution_count": null,
      "outputs": []
    },
    {
      "cell_type": "code",
      "source": [
        "len(best_models)"
      ],
      "metadata": {
        "id": "VQCaVYKA5acD"
      },
      "execution_count": null,
      "outputs": []
    },
    {
      "cell_type": "markdown",
      "source": [
        "#Testing Accuracy For Best 4 Models"
      ],
      "metadata": {
        "id": "znXNx2bgUvtd"
      }
    },
    {
      "cell_type": "code",
      "source": [
        "\n",
        "for i in best_models:\n",
        "  print(\"--------------------------------------------------\")\n",
        "  print(i[0])\n",
        "  y_pred=i[0].predict(X_train)\n",
        "  print(confusion_matrix(y_train, y_pred))\n",
        "  print(classification_report(y_train,y_pred))\n",
        "  print(\"Accurecy: \",accuracy_score(y_train, y_pred))"
      ],
      "metadata": {
        "id": "2j9CXuBkUuiR"
      },
      "execution_count": null,
      "outputs": []
    },
    {
      "cell_type": "code",
      "source": [],
      "metadata": {
        "id": "vdNgE1HYwEjc"
      },
      "execution_count": null,
      "outputs": []
    },
    {
      "cell_type": "markdown",
      "source": [
        "#ROC"
      ],
      "metadata": {
        "id": "bqG9Vdd0Km6A"
      }
    },
    {
      "cell_type": "code",
      "source": [
        "!pip install plotly==5.11.0\n",
        "!pip install -U kaleido\n",
        "\n",
        "\n",
        "import plotly.graph_objects as go\n",
        "import plotly.express as px\n",
        "import numpy as np\n",
        "import pandas as pd\n",
        "from sklearn.linear_model import LogisticRegression\n",
        "from sklearn.metrics import roc_curve, roc_auc_score\n",
        "import pandas as pd\n",
        "import matplotlib.pyplot as plt\n",
        "\n",
        "def ploty_ROC(model,X,y,fig_name):\n",
        "    \n",
        "    lebel_dict={\n",
        "    0: 'Reading',\n",
        "    1: 'Resting',\n",
        "    2: 'Walking',\n",
        "    3: 'Working'\n",
        "    }\n",
        "\n",
        "    y_scores = model.predict_proba(X)\n",
        "\n",
        "    y_onehot = pd.get_dummies(y, columns=model.classes_)\n",
        "\n",
        "    fig = go.Figure()\n",
        "    fig.add_shape(\n",
        "        type='line', line=dict(dash='dash'),\n",
        "        x0=0, x1=1, y0=0, y1=1\n",
        "    )\n",
        "\n",
        "    for i in range(y_scores.shape[1]):\n",
        "        y_true = y_onehot.iloc[:, i]\n",
        "        y_score = y_scores[:, i]\n",
        "\n",
        "        fpr, tpr, _ = roc_curve(y_true, y_score)\n",
        "        auc_score = roc_auc_score(y_true, y_score)\n",
        "        name = f\"{lebel_dict[y_onehot.columns[i]]} (AUC={auc_score:.2f})\"\n",
        "        fig.add_trace(go.Scatter(x=fpr, y=tpr, name=name, mode='lines'))\n",
        "\n",
        "    fig.update_layout(\n",
        "        xaxis_title='False Positive Rate',\n",
        "        yaxis_title='True Positive Rate',\n",
        "        yaxis=dict(scaleanchor=\"x\", scaleratio=1),\n",
        "        xaxis=dict(constrain='domain'),\n",
        "        width=1000, height=1000,\n",
        "        font=dict(\n",
        "            family=\"Courier New, monospace\",\n",
        "            size=20,\n",
        "            color=\"BLack\"\n",
        "        ),\n",
        "        legend=dict(\n",
        "            x=0.67,\n",
        "            y=0.05,\n",
        "            traceorder=\"reversed\",\n",
        "            title_font_family=\"Times New Roman\",\n",
        "            font=dict(\n",
        "                family=\"Courier New, monospace\",\n",
        "                size=20,\n",
        "                color=\"black\"\n",
        "            ),\n",
        "            bgcolor=\"LightSteelBlue\",\n",
        "            bordercolor=\"White\",\n",
        "            borderwidth=2\n",
        "        )\n",
        "    )\n",
        "    fig.show()\n",
        "    fig.write_image(fig_name+\".png\")"
      ],
      "metadata": {
        "id": "uGMhOiOmKqA7"
      },
      "execution_count": null,
      "outputs": []
    },
    {
      "cell_type": "markdown",
      "source": [
        "#SHAP"
      ],
      "metadata": {
        "id": "zxxWSX26jsGT"
      }
    },
    {
      "cell_type": "code",
      "source": [
        "!pip install shap\n",
        "import shap"
      ],
      "metadata": {
        "id": "YUhJ7dWajur-"
      },
      "execution_count": null,
      "outputs": []
    },
    {
      "cell_type": "code",
      "source": [
        "\n",
        "def SHAP_EXP(model,graph_feat):\n",
        "  print(\"Models: \",model)\n",
        "\n",
        "  explainer = shap.Explainer(model.predict, X_test)\n",
        "\n",
        "  shap_values1 = explainer(X_test)\n",
        "  features_names=list_of_feat\n",
        "\n",
        "  if 'Subjects' in features_names:\n",
        "    features_names.pop(0)\n",
        "\n",
        "\n",
        "  shap.plots.bar(shap_values1,max_display=graph_feat[\"max_display\"])\n",
        "\n",
        "  print(\"---------------------\")\n",
        "\n",
        "  shap.summary_plot(shap_values1,max_display=graph_feat[\"max_display\"],feature_names=features_names)\n",
        "\n",
        "  print(\"---------------------\")\n",
        "\n",
        "  print(\"Local Explaination\")\n",
        "  shap.plots.waterfall(shap_values1[graph_feat[\"shap_values Index\"]],max_display=graph_feat[\"max_display\"])\n",
        "\n",
        "\n",
        "  print(\"---------------------\")\n",
        "\n",
        "  shap.plots.bar(shap_values1[graph_feat[\"shap_values Index\"]],max_display=graph_feat[\"max_display\"])"
      ],
      "metadata": {
        "id": "POk0kUrdB-Y4"
      },
      "execution_count": null,
      "outputs": []
    },
    {
      "cell_type": "code",
      "source": [
        "new_keys_7=models_check_box(models)"
      ],
      "metadata": {
        "id": "V-G5szfQDiz1"
      },
      "execution_count": null,
      "outputs": []
    },
    {
      "cell_type": "code",
      "source": [
        "graph_feat={\n",
        "    \"max_display\":20,\n",
        "    \"shap_values Index\":2\n",
        "}\n",
        "\n",
        "for i in range(len(new_keys_7)):\n",
        "  if new_keys_7[i].value ==True:\n",
        "    SHAP_EXP(models[i],graph_feat)\n",
        "    print(\"---------------------------------------------------------\")\n",
        "    print(\"---------------------------------------------------------\")\n",
        "    print(\"---------------------------------------------------------\")\n",
        "    print(\"---------------------------------------------------------\")"
      ],
      "metadata": {
        "id": "JeD8HT_iDodb"
      },
      "execution_count": null,
      "outputs": []
    },
    {
      "cell_type": "markdown",
      "source": [
        "# **LIME**"
      ],
      "metadata": {
        "id": "iDu8Ipdm8qaV"
      }
    },
    {
      "cell_type": "code",
      "source": [
        "!pip install lime"
      ],
      "metadata": {
        "id": "kw4wkx98AuLW"
      },
      "execution_count": null,
      "outputs": []
    },
    {
      "cell_type": "code",
      "source": [
        "\n",
        "import lime\n",
        "from lime import lime_tabular\n",
        "explainer = lime_tabular.LimeTabularExplainer(\n",
        "    training_data=np.array(X_train),\n",
        "    feature_names=list(X.columns),\n",
        "    class_names=['Reading', 'Resting', 'Walking', 'Working'],\n",
        "    mode='classification'\n",
        ")\n",
        "     "
      ],
      "metadata": {
        "id": "KM6UBpC3DBAj"
      },
      "execution_count": null,
      "outputs": []
    },
    {
      "cell_type": "code",
      "source": [
        "row = int(input(\"Enter the index of row to explain: \"))      # the index of row to be explained in LIME\n",
        "\n",
        "\n",
        "exp = explainer.explain_instance(X_test.iloc[row],\n",
        "                                 gradBoost_estimator.predict_proba,               #here write the model name\n",
        "                                 num_features=6,\n",
        "                                 top_labels=4)\n",
        "\n",
        "exp.show_in_notebook(show_table=True, show_all=True)\n",
        "\n",
        "\n",
        "\n",
        "from IPython.display import HTML\n",
        "\n",
        "html_data = exp.as_html()\n",
        "HTML(data=html_data)\n",
        "\n",
        "\n",
        "exp.save_to_file(\"classif_explanation.html\")"
      ],
      "metadata": {
        "id": "NU96KbYHDIWA"
      },
      "execution_count": null,
      "outputs": []
    },
    {
      "cell_type": "code",
      "source": [
        "import matplotlib.pyplot as plt\n",
        "with plt.style.context(\"ggplot\"):\n",
        "    exp.as_pyplot_figure()"
      ],
      "metadata": {
        "id": "u-BkKmWjKGXn"
      },
      "execution_count": null,
      "outputs": []
    },
    {
      "cell_type": "markdown",
      "source": [],
      "metadata": {
        "id": "ydEeo7l_C1Zs"
      }
    }
  ]
}