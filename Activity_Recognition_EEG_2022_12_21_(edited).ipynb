{
  "nbformat": 4,
  "nbformat_minor": 0,
  "metadata": {
    "colab": {
      "provenance": [],
      "collapsed_sections": [
        "C0Akgb_na7NU",
        "jEe2R0yAoifa",
        "FJybpt_UvCU0",
        "AgMT_U8gvM7F",
        "jRG4cBnKvZU2",
        "K6_icFWdauSI",
        "_Btki9jRvc1Y",
        "6FEsxCdvkg2D",
        "znXNx2bgUvtd",
        "zxxWSX26jsGT",
        "23z3A3f1ol6d",
        "57cQ8dzJX0Lp",
        "Wvhy6ENJf_oS",
        "26iwXg2a75qo",
        "bwOJ36hchWiN",
        "XtgWbvJsEwMt",
        "7rL4KXKM-KRC"
      ],
      "include_colab_link": true
    },
    "kernelspec": {
      "name": "python3",
      "display_name": "Python 3"
    },
    "language_info": {
      "name": "python"
    }
  },
  "cells": [
    {
      "cell_type": "markdown",
      "metadata": {
        "id": "view-in-github",
        "colab_type": "text"
      },
      "source": [
        "<a href=\"https://colab.research.google.com/github/RafsanJany-44/ARC/blob/master/Activity_Recognition_EEG_2022_12_21_(edited).ipynb\" target=\"_parent\"><img src=\"https://colab.research.google.com/assets/colab-badge.svg\" alt=\"Open In Colab\"/></a>"
      ]
    },
    {
      "cell_type": "code",
      "execution_count": 1,
      "metadata": {
        "id": "zdFOS9nFlpsU",
        "colab": {
          "base_uri": "https://localhost:8080/"
        },
        "outputId": "3b8f06d3-960b-4130-a3f0-b85b2c1e6e0b"
      },
      "outputs": [
        {
          "output_type": "stream",
          "name": "stdout",
          "text": [
            "Mounted at /content/drive\n",
            "Looking in indexes: https://pypi.org/simple, https://us-python.pkg.dev/colab-wheels/public/simple/\n",
            "Requirement already satisfied: imbalanced-learn in /usr/local/lib/python3.8/dist-packages (0.8.1)\n",
            "Requirement already satisfied: joblib>=0.11 in /usr/local/lib/python3.8/dist-packages (from imbalanced-learn) (1.2.0)\n",
            "Requirement already satisfied: numpy>=1.13.3 in /usr/local/lib/python3.8/dist-packages (from imbalanced-learn) (1.21.6)\n",
            "Requirement already satisfied: scikit-learn>=0.24 in /usr/local/lib/python3.8/dist-packages (from imbalanced-learn) (1.0.2)\n",
            "Requirement already satisfied: scipy>=0.19.1 in /usr/local/lib/python3.8/dist-packages (from imbalanced-learn) (1.7.3)\n",
            "Requirement already satisfied: threadpoolctl>=2.0.0 in /usr/local/lib/python3.8/dist-packages (from scikit-learn>=0.24->imbalanced-learn) (3.1.0)\n"
          ]
        }
      ],
      "source": [
        "from google.colab import drive\n",
        "drive.mount('/content/drive')\n",
        "\n",
        "\n",
        "def models_check_box(models):\n",
        "  import ipywidgets as widgets\n",
        "  from IPython.display import display\n",
        "  new_keys=[]\n",
        "  for i in models:\n",
        "    i=widgets.Checkbox(\n",
        "      value=False,\n",
        "      description=str(i),\n",
        "      disabled=False,\n",
        "      indent=False\n",
        "      )\n",
        "    display(i)\n",
        "    new_keys.append(i)\n",
        "  return new_keys\n",
        "\n",
        "\n",
        "!pip install imbalanced-learn\n",
        "\n",
        "from imblearn.over_sampling import SMOTE\n",
        "\n",
        "def balance(X_temp, y_temp):\n",
        "  smote = SMOTE()\n",
        "  X_temp, y_temp= smote.fit_resample(X_temp, y_temp)\n",
        "  return pd.concat([pd.DataFrame(X_temp), pd.DataFrame(y_temp)], axis=1)"
      ]
    },
    {
      "cell_type": "code",
      "source": [],
      "metadata": {
        "id": "C6TIqVlzwH_z"
      },
      "execution_count": 1,
      "outputs": []
    },
    {
      "cell_type": "code",
      "source": [
        "import numpy as np\n",
        "import pandas as pd\n",
        "#dataset=pd.read_csv(\"/content/drive/MyDrive/EEG_CNU_Activity Recognition/EEG_CNU_Resting, walking, working and Reading_Control_2022.12.05.csv\")\n",
        " \n",
        "dataset=pd.read_excel(\"/content/drive/MyDrive/Iqram Sir/EEG_CNU_Resting, walking, working and Reading_Control_2022.12.22.xlsx\")\n",
        "\n",
        "classes = np.array(sorted(list(set(dataset.iloc[:, 1]))))\n",
        "target = \"Activity\"\n",
        "result = {}"
      ],
      "metadata": {
        "id": "M0AmIUwSmLfj"
      },
      "execution_count": 2,
      "outputs": []
    },
    {
      "cell_type": "code",
      "source": [
        "dataset.head()"
      ],
      "metadata": {
        "colab": {
          "base_uri": "https://localhost:8080/",
          "height": 317
        },
        "id": "4YN_C8yxm1ho",
        "outputId": "2a49c3ee-9401-4bb9-b93c-b8951260e8e7"
      },
      "execution_count": 3,
      "outputs": [
        {
          "output_type": "execute_result",
          "data": {
            "text/plain": [
              "  Activity   Status  Epoch  MeanP_Alpha_Fz  MedianF_Alpha_Fz  MeanF_Alpha_Fz  \\\n",
              "0  Resting  Control      0        0.000008          11.70732        28.29268   \n",
              "1  Resting  Control      1        0.000010          10.73171        28.78049   \n",
              "2  Resting  Control      2        0.000008          13.17073        28.78049   \n",
              "3  Resting  Control      3        0.000011          10.24390        27.80488   \n",
              "4  Resting  Control      4        0.000007          10.73171        23.41463   \n",
              "\n",
              "   Spectral Edge_Alpha_Fz  PeakF_Alpha_Fz  MeanP_Beta_Fz  MedianF_Beta_Fz  \\\n",
              "0                20.00000        10.73171       0.000017         19.51220   \n",
              "1                22.43902        10.24390       0.000023         22.92683   \n",
              "2                23.41463         9.26829       0.000023         22.43902   \n",
              "3                18.53659        10.73171       0.000019         22.43902   \n",
              "4                18.04878        11.70732       0.000010         17.56098   \n",
              "\n",
              "   ...  Relative Power_Alpha_Global  Relative Power_Beta_Global  \\\n",
              "0  ...                     0.358154                    0.639771   \n",
              "1  ...                     0.457695                    0.806208   \n",
              "2  ...                     0.501419                    1.059244   \n",
              "3  ...                     0.497909                    0.710690   \n",
              "4  ...                     0.429825                    0.569204   \n",
              "\n",
              "   Relative Power_Theta_Global  Relative Power_Delta_Global  \\\n",
              "0                     0.749628                     4.031903   \n",
              "1                     0.723662                     3.759249   \n",
              "2                     0.737332                     3.320235   \n",
              "3                     0.907816                     3.653423   \n",
              "4                     0.849345                     4.001597   \n",
              "\n",
              "   Relative Power_Gamma_Global  ∆Relative Power_Alpha_Global  \\\n",
              "0                     0.220545                     -0.273666   \n",
              "1                     0.253186                     -0.071797   \n",
              "2                     0.381769                      0.016875   \n",
              "3                     0.230162                      0.009757   \n",
              "4                     0.150029                     -0.128318   \n",
              "\n",
              "   ∆Relative Power_Beta_Global  ∆Relative Power_Theta_Global  \\\n",
              "0                    -0.164639                     -0.009611   \n",
              "1                     0.052680                     -0.043916   \n",
              "2                     0.383074                     -0.025855   \n",
              "3                    -0.072039                      0.199384   \n",
              "4                    -0.256780                      0.122134   \n",
              "\n",
              "   ∆Relative Power_Delta_Global  ∆Relative Power_Gamma_Global  \n",
              "0                      0.107193                     -0.356230  \n",
              "1                      0.032320                     -0.260950  \n",
              "2                     -0.088237                      0.114385  \n",
              "3                      0.003259                     -0.328157  \n",
              "4                      0.098870                     -0.562065  \n",
              "\n",
              "[5 rows x 259 columns]"
            ],
            "text/html": [
              "\n",
              "  <div id=\"df-f7890ffa-9d02-4a9a-9444-83430ef2919a\">\n",
              "    <div class=\"colab-df-container\">\n",
              "      <div>\n",
              "<style scoped>\n",
              "    .dataframe tbody tr th:only-of-type {\n",
              "        vertical-align: middle;\n",
              "    }\n",
              "\n",
              "    .dataframe tbody tr th {\n",
              "        vertical-align: top;\n",
              "    }\n",
              "\n",
              "    .dataframe thead th {\n",
              "        text-align: right;\n",
              "    }\n",
              "</style>\n",
              "<table border=\"1\" class=\"dataframe\">\n",
              "  <thead>\n",
              "    <tr style=\"text-align: right;\">\n",
              "      <th></th>\n",
              "      <th>Activity</th>\n",
              "      <th>Status</th>\n",
              "      <th>Epoch</th>\n",
              "      <th>MeanP_Alpha_Fz</th>\n",
              "      <th>MedianF_Alpha_Fz</th>\n",
              "      <th>MeanF_Alpha_Fz</th>\n",
              "      <th>Spectral Edge_Alpha_Fz</th>\n",
              "      <th>PeakF_Alpha_Fz</th>\n",
              "      <th>MeanP_Beta_Fz</th>\n",
              "      <th>MedianF_Beta_Fz</th>\n",
              "      <th>...</th>\n",
              "      <th>Relative Power_Alpha_Global</th>\n",
              "      <th>Relative Power_Beta_Global</th>\n",
              "      <th>Relative Power_Theta_Global</th>\n",
              "      <th>Relative Power_Delta_Global</th>\n",
              "      <th>Relative Power_Gamma_Global</th>\n",
              "      <th>∆Relative Power_Alpha_Global</th>\n",
              "      <th>∆Relative Power_Beta_Global</th>\n",
              "      <th>∆Relative Power_Theta_Global</th>\n",
              "      <th>∆Relative Power_Delta_Global</th>\n",
              "      <th>∆Relative Power_Gamma_Global</th>\n",
              "    </tr>\n",
              "  </thead>\n",
              "  <tbody>\n",
              "    <tr>\n",
              "      <th>0</th>\n",
              "      <td>Resting</td>\n",
              "      <td>Control</td>\n",
              "      <td>0</td>\n",
              "      <td>0.000008</td>\n",
              "      <td>11.70732</td>\n",
              "      <td>28.29268</td>\n",
              "      <td>20.00000</td>\n",
              "      <td>10.73171</td>\n",
              "      <td>0.000017</td>\n",
              "      <td>19.51220</td>\n",
              "      <td>...</td>\n",
              "      <td>0.358154</td>\n",
              "      <td>0.639771</td>\n",
              "      <td>0.749628</td>\n",
              "      <td>4.031903</td>\n",
              "      <td>0.220545</td>\n",
              "      <td>-0.273666</td>\n",
              "      <td>-0.164639</td>\n",
              "      <td>-0.009611</td>\n",
              "      <td>0.107193</td>\n",
              "      <td>-0.356230</td>\n",
              "    </tr>\n",
              "    <tr>\n",
              "      <th>1</th>\n",
              "      <td>Resting</td>\n",
              "      <td>Control</td>\n",
              "      <td>1</td>\n",
              "      <td>0.000010</td>\n",
              "      <td>10.73171</td>\n",
              "      <td>28.78049</td>\n",
              "      <td>22.43902</td>\n",
              "      <td>10.24390</td>\n",
              "      <td>0.000023</td>\n",
              "      <td>22.92683</td>\n",
              "      <td>...</td>\n",
              "      <td>0.457695</td>\n",
              "      <td>0.806208</td>\n",
              "      <td>0.723662</td>\n",
              "      <td>3.759249</td>\n",
              "      <td>0.253186</td>\n",
              "      <td>-0.071797</td>\n",
              "      <td>0.052680</td>\n",
              "      <td>-0.043916</td>\n",
              "      <td>0.032320</td>\n",
              "      <td>-0.260950</td>\n",
              "    </tr>\n",
              "    <tr>\n",
              "      <th>2</th>\n",
              "      <td>Resting</td>\n",
              "      <td>Control</td>\n",
              "      <td>2</td>\n",
              "      <td>0.000008</td>\n",
              "      <td>13.17073</td>\n",
              "      <td>28.78049</td>\n",
              "      <td>23.41463</td>\n",
              "      <td>9.26829</td>\n",
              "      <td>0.000023</td>\n",
              "      <td>22.43902</td>\n",
              "      <td>...</td>\n",
              "      <td>0.501419</td>\n",
              "      <td>1.059244</td>\n",
              "      <td>0.737332</td>\n",
              "      <td>3.320235</td>\n",
              "      <td>0.381769</td>\n",
              "      <td>0.016875</td>\n",
              "      <td>0.383074</td>\n",
              "      <td>-0.025855</td>\n",
              "      <td>-0.088237</td>\n",
              "      <td>0.114385</td>\n",
              "    </tr>\n",
              "    <tr>\n",
              "      <th>3</th>\n",
              "      <td>Resting</td>\n",
              "      <td>Control</td>\n",
              "      <td>3</td>\n",
              "      <td>0.000011</td>\n",
              "      <td>10.24390</td>\n",
              "      <td>27.80488</td>\n",
              "      <td>18.53659</td>\n",
              "      <td>10.73171</td>\n",
              "      <td>0.000019</td>\n",
              "      <td>22.43902</td>\n",
              "      <td>...</td>\n",
              "      <td>0.497909</td>\n",
              "      <td>0.710690</td>\n",
              "      <td>0.907816</td>\n",
              "      <td>3.653423</td>\n",
              "      <td>0.230162</td>\n",
              "      <td>0.009757</td>\n",
              "      <td>-0.072039</td>\n",
              "      <td>0.199384</td>\n",
              "      <td>0.003259</td>\n",
              "      <td>-0.328157</td>\n",
              "    </tr>\n",
              "    <tr>\n",
              "      <th>4</th>\n",
              "      <td>Resting</td>\n",
              "      <td>Control</td>\n",
              "      <td>4</td>\n",
              "      <td>0.000007</td>\n",
              "      <td>10.73171</td>\n",
              "      <td>23.41463</td>\n",
              "      <td>18.04878</td>\n",
              "      <td>11.70732</td>\n",
              "      <td>0.000010</td>\n",
              "      <td>17.56098</td>\n",
              "      <td>...</td>\n",
              "      <td>0.429825</td>\n",
              "      <td>0.569204</td>\n",
              "      <td>0.849345</td>\n",
              "      <td>4.001597</td>\n",
              "      <td>0.150029</td>\n",
              "      <td>-0.128318</td>\n",
              "      <td>-0.256780</td>\n",
              "      <td>0.122134</td>\n",
              "      <td>0.098870</td>\n",
              "      <td>-0.562065</td>\n",
              "    </tr>\n",
              "  </tbody>\n",
              "</table>\n",
              "<p>5 rows × 259 columns</p>\n",
              "</div>\n",
              "      <button class=\"colab-df-convert\" onclick=\"convertToInteractive('df-f7890ffa-9d02-4a9a-9444-83430ef2919a')\"\n",
              "              title=\"Convert this dataframe to an interactive table.\"\n",
              "              style=\"display:none;\">\n",
              "        \n",
              "  <svg xmlns=\"http://www.w3.org/2000/svg\" height=\"24px\"viewBox=\"0 0 24 24\"\n",
              "       width=\"24px\">\n",
              "    <path d=\"M0 0h24v24H0V0z\" fill=\"none\"/>\n",
              "    <path d=\"M18.56 5.44l.94 2.06.94-2.06 2.06-.94-2.06-.94-.94-2.06-.94 2.06-2.06.94zm-11 1L8.5 8.5l.94-2.06 2.06-.94-2.06-.94L8.5 2.5l-.94 2.06-2.06.94zm10 10l.94 2.06.94-2.06 2.06-.94-2.06-.94-.94-2.06-.94 2.06-2.06.94z\"/><path d=\"M17.41 7.96l-1.37-1.37c-.4-.4-.92-.59-1.43-.59-.52 0-1.04.2-1.43.59L10.3 9.45l-7.72 7.72c-.78.78-.78 2.05 0 2.83L4 21.41c.39.39.9.59 1.41.59.51 0 1.02-.2 1.41-.59l7.78-7.78 2.81-2.81c.8-.78.8-2.07 0-2.86zM5.41 20L4 18.59l7.72-7.72 1.47 1.35L5.41 20z\"/>\n",
              "  </svg>\n",
              "      </button>\n",
              "      \n",
              "  <style>\n",
              "    .colab-df-container {\n",
              "      display:flex;\n",
              "      flex-wrap:wrap;\n",
              "      gap: 12px;\n",
              "    }\n",
              "\n",
              "    .colab-df-convert {\n",
              "      background-color: #E8F0FE;\n",
              "      border: none;\n",
              "      border-radius: 50%;\n",
              "      cursor: pointer;\n",
              "      display: none;\n",
              "      fill: #1967D2;\n",
              "      height: 32px;\n",
              "      padding: 0 0 0 0;\n",
              "      width: 32px;\n",
              "    }\n",
              "\n",
              "    .colab-df-convert:hover {\n",
              "      background-color: #E2EBFA;\n",
              "      box-shadow: 0px 1px 2px rgba(60, 64, 67, 0.3), 0px 1px 3px 1px rgba(60, 64, 67, 0.15);\n",
              "      fill: #174EA6;\n",
              "    }\n",
              "\n",
              "    [theme=dark] .colab-df-convert {\n",
              "      background-color: #3B4455;\n",
              "      fill: #D2E3FC;\n",
              "    }\n",
              "\n",
              "    [theme=dark] .colab-df-convert:hover {\n",
              "      background-color: #434B5C;\n",
              "      box-shadow: 0px 1px 3px 1px rgba(0, 0, 0, 0.15);\n",
              "      filter: drop-shadow(0px 1px 2px rgba(0, 0, 0, 0.3));\n",
              "      fill: #FFFFFF;\n",
              "    }\n",
              "  </style>\n",
              "\n",
              "      <script>\n",
              "        const buttonEl =\n",
              "          document.querySelector('#df-f7890ffa-9d02-4a9a-9444-83430ef2919a button.colab-df-convert');\n",
              "        buttonEl.style.display =\n",
              "          google.colab.kernel.accessAllowed ? 'block' : 'none';\n",
              "\n",
              "        async function convertToInteractive(key) {\n",
              "          const element = document.querySelector('#df-f7890ffa-9d02-4a9a-9444-83430ef2919a');\n",
              "          const dataTable =\n",
              "            await google.colab.kernel.invokeFunction('convertToInteractive',\n",
              "                                                     [key], {});\n",
              "          if (!dataTable) return;\n",
              "\n",
              "          const docLinkHtml = 'Like what you see? Visit the ' +\n",
              "            '<a target=\"_blank\" href=https://colab.research.google.com/notebooks/data_table.ipynb>data table notebook</a>'\n",
              "            + ' to learn more about interactive tables.';\n",
              "          element.innerHTML = '';\n",
              "          dataTable['output_type'] = 'display_data';\n",
              "          await google.colab.output.renderOutput(dataTable, element);\n",
              "          const docLink = document.createElement('div');\n",
              "          docLink.innerHTML = docLinkHtml;\n",
              "          element.appendChild(docLink);\n",
              "        }\n",
              "      </script>\n",
              "    </div>\n",
              "  </div>\n",
              "  "
            ]
          },
          "metadata": {},
          "execution_count": 3
        }
      ]
    },
    {
      "cell_type": "code",
      "source": [
        "dataset.shape"
      ],
      "metadata": {
        "colab": {
          "base_uri": "https://localhost:8080/"
        },
        "id": "h8Wm0DGf4AJO",
        "outputId": "55c2f27a-861e-467f-ad43-2d4565360b0e"
      },
      "execution_count": 4,
      "outputs": [
        {
          "output_type": "execute_result",
          "data": {
            "text/plain": [
              "(1711, 259)"
            ]
          },
          "metadata": {},
          "execution_count": 4
        }
      ]
    },
    {
      "cell_type": "code",
      "source": [
        "dataset[target].value_counts()"
      ],
      "metadata": {
        "colab": {
          "base_uri": "https://localhost:8080/"
        },
        "id": "AGAp91QUwrWo",
        "outputId": "83251f56-fa3e-4291-daec-b1d71c2785b9"
      },
      "execution_count": 5,
      "outputs": [
        {
          "output_type": "execute_result",
          "data": {
            "text/plain": [
              "Reading    793\n",
              "Walking    408\n",
              "Working    267\n",
              "Resting    243\n",
              "Name: Activity, dtype: int64"
            ]
          },
          "metadata": {},
          "execution_count": 5
        }
      ]
    },
    {
      "cell_type": "code",
      "source": [
        "set(list(dataset[target]))"
      ],
      "metadata": {
        "colab": {
          "base_uri": "https://localhost:8080/"
        },
        "id": "VS4iUbnyYaDH",
        "outputId": "4bbffe5f-b5a9-455e-fa77-4fb901339e94"
      },
      "execution_count": 6,
      "outputs": [
        {
          "output_type": "execute_result",
          "data": {
            "text/plain": [
              "{'Reading', 'Resting', 'Walking', 'Working'}"
            ]
          },
          "metadata": {},
          "execution_count": 6
        }
      ]
    },
    {
      "cell_type": "code",
      "source": [
        "\n",
        "from sklearn.preprocessing import LabelEncoder\n",
        "encoder=LabelEncoder()\n",
        "dataset[target]=encoder.fit_transform(dataset[target])"
      ],
      "metadata": {
        "id": "Ljyj9yuIf-tX"
      },
      "execution_count": 7,
      "outputs": []
    },
    {
      "cell_type": "code",
      "source": [
        "set(list(dataset['Activity']))"
      ],
      "metadata": {
        "colab": {
          "base_uri": "https://localhost:8080/"
        },
        "id": "42si00q3SLh5",
        "outputId": "67e8e860-e613-4b64-bdef-ffad6795eec4"
      },
      "execution_count": 8,
      "outputs": [
        {
          "output_type": "execute_result",
          "data": {
            "text/plain": [
              "{0, 1, 2, 3}"
            ]
          },
          "metadata": {},
          "execution_count": 8
        }
      ]
    },
    {
      "cell_type": "markdown",
      "source": [
        "#Spliting into X and y"
      ],
      "metadata": {
        "id": "ZAUQcyHz4wlO"
      }
    },
    {
      "cell_type": "code",
      "source": [
        "X =  dataset.loc[:,dataset.columns != target]  # removing Activity \n",
        "X =  X.loc[:,X.columns != \"Status\"]            # removing Status\n",
        "X =  X.loc[:,X.columns != \"Epoch\"]             # removing Epoch\n",
        "y = dataset[\"Activity\"]\n",
        "\n",
        "X.head(10)"
      ],
      "metadata": {
        "colab": {
          "base_uri": "https://localhost:8080/",
          "height": 473
        },
        "id": "eBxa1iqT3Ocs",
        "outputId": "9a597afd-1d0b-4765-f825-f99672353cc1"
      },
      "execution_count": 9,
      "outputs": [
        {
          "output_type": "execute_result",
          "data": {
            "text/plain": [
              "   MeanP_Alpha_Fz  MedianF_Alpha_Fz  MeanF_Alpha_Fz  Spectral Edge_Alpha_Fz  \\\n",
              "0        0.000008          11.70732        28.29268                20.00000   \n",
              "1        0.000010          10.73171        28.78049                22.43902   \n",
              "2        0.000008          13.17073        28.78049                23.41463   \n",
              "3        0.000011          10.24390        27.80488                18.53659   \n",
              "4        0.000007          10.73171        23.41463                18.04878   \n",
              "5        0.000008          10.24390        23.41463                17.56098   \n",
              "6        0.000005          11.21951        24.39024                17.56098   \n",
              "7        0.000005           9.75610        25.85366                18.53659   \n",
              "8        0.000006          10.24390        24.39024                17.56098   \n",
              "9        0.000014          11.21951        23.41463                18.04878   \n",
              "\n",
              "   PeakF_Alpha_Fz  MeanP_Beta_Fz  MedianF_Beta_Fz  MeanF_Beta_Fz  \\\n",
              "0        10.73171       0.000017         19.51220       38.04878   \n",
              "1        10.24390       0.000023         22.92683       38.53659   \n",
              "2         9.26829       0.000023         22.43902       37.56098   \n",
              "3        10.73171       0.000019         22.43902       38.04878   \n",
              "4        11.70732       0.000010         17.56098       36.09756   \n",
              "5        10.24390       0.000010         18.04878       36.09756   \n",
              "6        12.68293       0.000007         17.07317       38.04878   \n",
              "7         7.80488       0.000007         19.02439       35.60976   \n",
              "8         8.29268       0.000009         17.56098       36.09756   \n",
              "9        12.68293       0.000021         18.04878       35.60976   \n",
              "\n",
              "   Spectral Edge_Beta_Fz  PeakF_Beta_Fz  ...  Relative Power_Alpha_Global  \\\n",
              "0               32.68293       19.02439  ...                     0.358154   \n",
              "1               33.65854       23.41463  ...                     0.457695   \n",
              "2               31.70732       17.56098  ...                     0.501419   \n",
              "3               32.68293       28.29268  ...                     0.497909   \n",
              "4               29.26829       11.70732  ...                     0.429825   \n",
              "5               29.26829       17.07317  ...                     0.494096   \n",
              "6               31.21951       14.14634  ...                     0.527217   \n",
              "7               29.75610       13.17073  ...                     0.475599   \n",
              "8               29.26829       17.56098  ...                     0.482293   \n",
              "9               29.26829       12.68293  ...                     0.659929   \n",
              "\n",
              "   Relative Power_Beta_Global  Relative Power_Theta_Global  \\\n",
              "0                    0.639771                     0.749628   \n",
              "1                    0.806208                     0.723662   \n",
              "2                    1.059244                     0.737332   \n",
              "3                    0.710690                     0.907816   \n",
              "4                    0.569204                     0.849345   \n",
              "5                    0.687221                     0.812251   \n",
              "6                    0.668711                     0.770164   \n",
              "7                    0.719244                     0.764508   \n",
              "8                    0.620810                     0.933737   \n",
              "9                    0.855344                     1.188749   \n",
              "\n",
              "   Relative Power_Delta_Global  Relative Power_Gamma_Global  \\\n",
              "0                     4.031903                     0.220545   \n",
              "1                     3.759249                     0.253186   \n",
              "2                     3.320235                     0.381769   \n",
              "3                     3.653423                     0.230162   \n",
              "4                     4.001597                     0.150029   \n",
              "5                     3.785048                     0.221383   \n",
              "6                     3.853441                     0.180467   \n",
              "7                     3.833454                     0.207195   \n",
              "8                     3.798965                     0.164195   \n",
              "9                     3.079654                     0.216324   \n",
              "\n",
              "   ∆Relative Power_Alpha_Global  ∆Relative Power_Beta_Global  \\\n",
              "0                     -0.273666                    -0.164639   \n",
              "1                     -0.071797                     0.052680   \n",
              "2                      0.016875                     0.383074   \n",
              "3                      0.009757                    -0.072039   \n",
              "4                     -0.128318                    -0.256780   \n",
              "5                      0.002023                    -0.102682   \n",
              "6                      0.069192                    -0.126852   \n",
              "7                     -0.035489                    -0.060870   \n",
              "8                     -0.021913                    -0.189396   \n",
              "9                      0.338331                     0.116839   \n",
              "\n",
              "   ∆Relative Power_Theta_Global  ∆Relative Power_Delta_Global  \\\n",
              "0                     -0.009611                      0.107193   \n",
              "1                     -0.043916                      0.032320   \n",
              "2                     -0.025855                     -0.088237   \n",
              "3                      0.199384                      0.003259   \n",
              "4                      0.122134                      0.098870   \n",
              "5                      0.073126                      0.039404   \n",
              "6                      0.017521                      0.058186   \n",
              "7                      0.010050                      0.052697   \n",
              "8                      0.233631                      0.043226   \n",
              "9                      0.570546                     -0.154303   \n",
              "\n",
              "   ∆Relative Power_Gamma_Global  \n",
              "0                     -0.356230  \n",
              "1                     -0.260950  \n",
              "2                      0.114385  \n",
              "3                     -0.328157  \n",
              "4                     -0.562065  \n",
              "5                     -0.353782  \n",
              "6                     -0.473217  \n",
              "7                     -0.395197  \n",
              "8                     -0.520716  \n",
              "9                     -0.368549  \n",
              "\n",
              "[10 rows x 256 columns]"
            ],
            "text/html": [
              "\n",
              "  <div id=\"df-8a383000-ff99-4865-82af-5897888ac601\">\n",
              "    <div class=\"colab-df-container\">\n",
              "      <div>\n",
              "<style scoped>\n",
              "    .dataframe tbody tr th:only-of-type {\n",
              "        vertical-align: middle;\n",
              "    }\n",
              "\n",
              "    .dataframe tbody tr th {\n",
              "        vertical-align: top;\n",
              "    }\n",
              "\n",
              "    .dataframe thead th {\n",
              "        text-align: right;\n",
              "    }\n",
              "</style>\n",
              "<table border=\"1\" class=\"dataframe\">\n",
              "  <thead>\n",
              "    <tr style=\"text-align: right;\">\n",
              "      <th></th>\n",
              "      <th>MeanP_Alpha_Fz</th>\n",
              "      <th>MedianF_Alpha_Fz</th>\n",
              "      <th>MeanF_Alpha_Fz</th>\n",
              "      <th>Spectral Edge_Alpha_Fz</th>\n",
              "      <th>PeakF_Alpha_Fz</th>\n",
              "      <th>MeanP_Beta_Fz</th>\n",
              "      <th>MedianF_Beta_Fz</th>\n",
              "      <th>MeanF_Beta_Fz</th>\n",
              "      <th>Spectral Edge_Beta_Fz</th>\n",
              "      <th>PeakF_Beta_Fz</th>\n",
              "      <th>...</th>\n",
              "      <th>Relative Power_Alpha_Global</th>\n",
              "      <th>Relative Power_Beta_Global</th>\n",
              "      <th>Relative Power_Theta_Global</th>\n",
              "      <th>Relative Power_Delta_Global</th>\n",
              "      <th>Relative Power_Gamma_Global</th>\n",
              "      <th>∆Relative Power_Alpha_Global</th>\n",
              "      <th>∆Relative Power_Beta_Global</th>\n",
              "      <th>∆Relative Power_Theta_Global</th>\n",
              "      <th>∆Relative Power_Delta_Global</th>\n",
              "      <th>∆Relative Power_Gamma_Global</th>\n",
              "    </tr>\n",
              "  </thead>\n",
              "  <tbody>\n",
              "    <tr>\n",
              "      <th>0</th>\n",
              "      <td>0.000008</td>\n",
              "      <td>11.70732</td>\n",
              "      <td>28.29268</td>\n",
              "      <td>20.00000</td>\n",
              "      <td>10.73171</td>\n",
              "      <td>0.000017</td>\n",
              "      <td>19.51220</td>\n",
              "      <td>38.04878</td>\n",
              "      <td>32.68293</td>\n",
              "      <td>19.02439</td>\n",
              "      <td>...</td>\n",
              "      <td>0.358154</td>\n",
              "      <td>0.639771</td>\n",
              "      <td>0.749628</td>\n",
              "      <td>4.031903</td>\n",
              "      <td>0.220545</td>\n",
              "      <td>-0.273666</td>\n",
              "      <td>-0.164639</td>\n",
              "      <td>-0.009611</td>\n",
              "      <td>0.107193</td>\n",
              "      <td>-0.356230</td>\n",
              "    </tr>\n",
              "    <tr>\n",
              "      <th>1</th>\n",
              "      <td>0.000010</td>\n",
              "      <td>10.73171</td>\n",
              "      <td>28.78049</td>\n",
              "      <td>22.43902</td>\n",
              "      <td>10.24390</td>\n",
              "      <td>0.000023</td>\n",
              "      <td>22.92683</td>\n",
              "      <td>38.53659</td>\n",
              "      <td>33.65854</td>\n",
              "      <td>23.41463</td>\n",
              "      <td>...</td>\n",
              "      <td>0.457695</td>\n",
              "      <td>0.806208</td>\n",
              "      <td>0.723662</td>\n",
              "      <td>3.759249</td>\n",
              "      <td>0.253186</td>\n",
              "      <td>-0.071797</td>\n",
              "      <td>0.052680</td>\n",
              "      <td>-0.043916</td>\n",
              "      <td>0.032320</td>\n",
              "      <td>-0.260950</td>\n",
              "    </tr>\n",
              "    <tr>\n",
              "      <th>2</th>\n",
              "      <td>0.000008</td>\n",
              "      <td>13.17073</td>\n",
              "      <td>28.78049</td>\n",
              "      <td>23.41463</td>\n",
              "      <td>9.26829</td>\n",
              "      <td>0.000023</td>\n",
              "      <td>22.43902</td>\n",
              "      <td>37.56098</td>\n",
              "      <td>31.70732</td>\n",
              "      <td>17.56098</td>\n",
              "      <td>...</td>\n",
              "      <td>0.501419</td>\n",
              "      <td>1.059244</td>\n",
              "      <td>0.737332</td>\n",
              "      <td>3.320235</td>\n",
              "      <td>0.381769</td>\n",
              "      <td>0.016875</td>\n",
              "      <td>0.383074</td>\n",
              "      <td>-0.025855</td>\n",
              "      <td>-0.088237</td>\n",
              "      <td>0.114385</td>\n",
              "    </tr>\n",
              "    <tr>\n",
              "      <th>3</th>\n",
              "      <td>0.000011</td>\n",
              "      <td>10.24390</td>\n",
              "      <td>27.80488</td>\n",
              "      <td>18.53659</td>\n",
              "      <td>10.73171</td>\n",
              "      <td>0.000019</td>\n",
              "      <td>22.43902</td>\n",
              "      <td>38.04878</td>\n",
              "      <td>32.68293</td>\n",
              "      <td>28.29268</td>\n",
              "      <td>...</td>\n",
              "      <td>0.497909</td>\n",
              "      <td>0.710690</td>\n",
              "      <td>0.907816</td>\n",
              "      <td>3.653423</td>\n",
              "      <td>0.230162</td>\n",
              "      <td>0.009757</td>\n",
              "      <td>-0.072039</td>\n",
              "      <td>0.199384</td>\n",
              "      <td>0.003259</td>\n",
              "      <td>-0.328157</td>\n",
              "    </tr>\n",
              "    <tr>\n",
              "      <th>4</th>\n",
              "      <td>0.000007</td>\n",
              "      <td>10.73171</td>\n",
              "      <td>23.41463</td>\n",
              "      <td>18.04878</td>\n",
              "      <td>11.70732</td>\n",
              "      <td>0.000010</td>\n",
              "      <td>17.56098</td>\n",
              "      <td>36.09756</td>\n",
              "      <td>29.26829</td>\n",
              "      <td>11.70732</td>\n",
              "      <td>...</td>\n",
              "      <td>0.429825</td>\n",
              "      <td>0.569204</td>\n",
              "      <td>0.849345</td>\n",
              "      <td>4.001597</td>\n",
              "      <td>0.150029</td>\n",
              "      <td>-0.128318</td>\n",
              "      <td>-0.256780</td>\n",
              "      <td>0.122134</td>\n",
              "      <td>0.098870</td>\n",
              "      <td>-0.562065</td>\n",
              "    </tr>\n",
              "    <tr>\n",
              "      <th>5</th>\n",
              "      <td>0.000008</td>\n",
              "      <td>10.24390</td>\n",
              "      <td>23.41463</td>\n",
              "      <td>17.56098</td>\n",
              "      <td>10.24390</td>\n",
              "      <td>0.000010</td>\n",
              "      <td>18.04878</td>\n",
              "      <td>36.09756</td>\n",
              "      <td>29.26829</td>\n",
              "      <td>17.07317</td>\n",
              "      <td>...</td>\n",
              "      <td>0.494096</td>\n",
              "      <td>0.687221</td>\n",
              "      <td>0.812251</td>\n",
              "      <td>3.785048</td>\n",
              "      <td>0.221383</td>\n",
              "      <td>0.002023</td>\n",
              "      <td>-0.102682</td>\n",
              "      <td>0.073126</td>\n",
              "      <td>0.039404</td>\n",
              "      <td>-0.353782</td>\n",
              "    </tr>\n",
              "    <tr>\n",
              "      <th>6</th>\n",
              "      <td>0.000005</td>\n",
              "      <td>11.21951</td>\n",
              "      <td>24.39024</td>\n",
              "      <td>17.56098</td>\n",
              "      <td>12.68293</td>\n",
              "      <td>0.000007</td>\n",
              "      <td>17.07317</td>\n",
              "      <td>38.04878</td>\n",
              "      <td>31.21951</td>\n",
              "      <td>14.14634</td>\n",
              "      <td>...</td>\n",
              "      <td>0.527217</td>\n",
              "      <td>0.668711</td>\n",
              "      <td>0.770164</td>\n",
              "      <td>3.853441</td>\n",
              "      <td>0.180467</td>\n",
              "      <td>0.069192</td>\n",
              "      <td>-0.126852</td>\n",
              "      <td>0.017521</td>\n",
              "      <td>0.058186</td>\n",
              "      <td>-0.473217</td>\n",
              "    </tr>\n",
              "    <tr>\n",
              "      <th>7</th>\n",
              "      <td>0.000005</td>\n",
              "      <td>9.75610</td>\n",
              "      <td>25.85366</td>\n",
              "      <td>18.53659</td>\n",
              "      <td>7.80488</td>\n",
              "      <td>0.000007</td>\n",
              "      <td>19.02439</td>\n",
              "      <td>35.60976</td>\n",
              "      <td>29.75610</td>\n",
              "      <td>13.17073</td>\n",
              "      <td>...</td>\n",
              "      <td>0.475599</td>\n",
              "      <td>0.719244</td>\n",
              "      <td>0.764508</td>\n",
              "      <td>3.833454</td>\n",
              "      <td>0.207195</td>\n",
              "      <td>-0.035489</td>\n",
              "      <td>-0.060870</td>\n",
              "      <td>0.010050</td>\n",
              "      <td>0.052697</td>\n",
              "      <td>-0.395197</td>\n",
              "    </tr>\n",
              "    <tr>\n",
              "      <th>8</th>\n",
              "      <td>0.000006</td>\n",
              "      <td>10.24390</td>\n",
              "      <td>24.39024</td>\n",
              "      <td>17.56098</td>\n",
              "      <td>8.29268</td>\n",
              "      <td>0.000009</td>\n",
              "      <td>17.56098</td>\n",
              "      <td>36.09756</td>\n",
              "      <td>29.26829</td>\n",
              "      <td>17.56098</td>\n",
              "      <td>...</td>\n",
              "      <td>0.482293</td>\n",
              "      <td>0.620810</td>\n",
              "      <td>0.933737</td>\n",
              "      <td>3.798965</td>\n",
              "      <td>0.164195</td>\n",
              "      <td>-0.021913</td>\n",
              "      <td>-0.189396</td>\n",
              "      <td>0.233631</td>\n",
              "      <td>0.043226</td>\n",
              "      <td>-0.520716</td>\n",
              "    </tr>\n",
              "    <tr>\n",
              "      <th>9</th>\n",
              "      <td>0.000014</td>\n",
              "      <td>11.21951</td>\n",
              "      <td>23.41463</td>\n",
              "      <td>18.04878</td>\n",
              "      <td>12.68293</td>\n",
              "      <td>0.000021</td>\n",
              "      <td>18.04878</td>\n",
              "      <td>35.60976</td>\n",
              "      <td>29.26829</td>\n",
              "      <td>12.68293</td>\n",
              "      <td>...</td>\n",
              "      <td>0.659929</td>\n",
              "      <td>0.855344</td>\n",
              "      <td>1.188749</td>\n",
              "      <td>3.079654</td>\n",
              "      <td>0.216324</td>\n",
              "      <td>0.338331</td>\n",
              "      <td>0.116839</td>\n",
              "      <td>0.570546</td>\n",
              "      <td>-0.154303</td>\n",
              "      <td>-0.368549</td>\n",
              "    </tr>\n",
              "  </tbody>\n",
              "</table>\n",
              "<p>10 rows × 256 columns</p>\n",
              "</div>\n",
              "      <button class=\"colab-df-convert\" onclick=\"convertToInteractive('df-8a383000-ff99-4865-82af-5897888ac601')\"\n",
              "              title=\"Convert this dataframe to an interactive table.\"\n",
              "              style=\"display:none;\">\n",
              "        \n",
              "  <svg xmlns=\"http://www.w3.org/2000/svg\" height=\"24px\"viewBox=\"0 0 24 24\"\n",
              "       width=\"24px\">\n",
              "    <path d=\"M0 0h24v24H0V0z\" fill=\"none\"/>\n",
              "    <path d=\"M18.56 5.44l.94 2.06.94-2.06 2.06-.94-2.06-.94-.94-2.06-.94 2.06-2.06.94zm-11 1L8.5 8.5l.94-2.06 2.06-.94-2.06-.94L8.5 2.5l-.94 2.06-2.06.94zm10 10l.94 2.06.94-2.06 2.06-.94-2.06-.94-.94-2.06-.94 2.06-2.06.94z\"/><path d=\"M17.41 7.96l-1.37-1.37c-.4-.4-.92-.59-1.43-.59-.52 0-1.04.2-1.43.59L10.3 9.45l-7.72 7.72c-.78.78-.78 2.05 0 2.83L4 21.41c.39.39.9.59 1.41.59.51 0 1.02-.2 1.41-.59l7.78-7.78 2.81-2.81c.8-.78.8-2.07 0-2.86zM5.41 20L4 18.59l7.72-7.72 1.47 1.35L5.41 20z\"/>\n",
              "  </svg>\n",
              "      </button>\n",
              "      \n",
              "  <style>\n",
              "    .colab-df-container {\n",
              "      display:flex;\n",
              "      flex-wrap:wrap;\n",
              "      gap: 12px;\n",
              "    }\n",
              "\n",
              "    .colab-df-convert {\n",
              "      background-color: #E8F0FE;\n",
              "      border: none;\n",
              "      border-radius: 50%;\n",
              "      cursor: pointer;\n",
              "      display: none;\n",
              "      fill: #1967D2;\n",
              "      height: 32px;\n",
              "      padding: 0 0 0 0;\n",
              "      width: 32px;\n",
              "    }\n",
              "\n",
              "    .colab-df-convert:hover {\n",
              "      background-color: #E2EBFA;\n",
              "      box-shadow: 0px 1px 2px rgba(60, 64, 67, 0.3), 0px 1px 3px 1px rgba(60, 64, 67, 0.15);\n",
              "      fill: #174EA6;\n",
              "    }\n",
              "\n",
              "    [theme=dark] .colab-df-convert {\n",
              "      background-color: #3B4455;\n",
              "      fill: #D2E3FC;\n",
              "    }\n",
              "\n",
              "    [theme=dark] .colab-df-convert:hover {\n",
              "      background-color: #434B5C;\n",
              "      box-shadow: 0px 1px 3px 1px rgba(0, 0, 0, 0.15);\n",
              "      filter: drop-shadow(0px 1px 2px rgba(0, 0, 0, 0.3));\n",
              "      fill: #FFFFFF;\n",
              "    }\n",
              "  </style>\n",
              "\n",
              "      <script>\n",
              "        const buttonEl =\n",
              "          document.querySelector('#df-8a383000-ff99-4865-82af-5897888ac601 button.colab-df-convert');\n",
              "        buttonEl.style.display =\n",
              "          google.colab.kernel.accessAllowed ? 'block' : 'none';\n",
              "\n",
              "        async function convertToInteractive(key) {\n",
              "          const element = document.querySelector('#df-8a383000-ff99-4865-82af-5897888ac601');\n",
              "          const dataTable =\n",
              "            await google.colab.kernel.invokeFunction('convertToInteractive',\n",
              "                                                     [key], {});\n",
              "          if (!dataTable) return;\n",
              "\n",
              "          const docLinkHtml = 'Like what you see? Visit the ' +\n",
              "            '<a target=\"_blank\" href=https://colab.research.google.com/notebooks/data_table.ipynb>data table notebook</a>'\n",
              "            + ' to learn more about interactive tables.';\n",
              "          element.innerHTML = '';\n",
              "          dataTable['output_type'] = 'display_data';\n",
              "          await google.colab.output.renderOutput(dataTable, element);\n",
              "          const docLink = document.createElement('div');\n",
              "          docLink.innerHTML = docLinkHtml;\n",
              "          element.appendChild(docLink);\n",
              "        }\n",
              "      </script>\n",
              "    </div>\n",
              "  </div>\n",
              "  "
            ]
          },
          "metadata": {},
          "execution_count": 9
        }
      ]
    },
    {
      "cell_type": "code",
      "source": [
        "new_dataset =  balance(X,y)"
      ],
      "metadata": {
        "id": "hHX2PZjeAPHj"
      },
      "execution_count": 10,
      "outputs": []
    },
    {
      "cell_type": "markdown",
      "source": [
        "#Feature Selection"
      ],
      "metadata": {
        "id": "C0Akgb_na7NU"
      }
    },
    {
      "cell_type": "code",
      "source": [
        "number_of_feat = 20"
      ],
      "metadata": {
        "id": "rY2mWiZv80L2"
      },
      "execution_count": 11,
      "outputs": []
    },
    {
      "cell_type": "markdown",
      "source": [
        "Run only one Method"
      ],
      "metadata": {
        "id": "hBJAeCQyG9K1"
      }
    },
    {
      "cell_type": "markdown",
      "source": [
        "###ANOVA with f classifciation"
      ],
      "metadata": {
        "id": "cR3Hrghl7CVj"
      }
    },
    {
      "cell_type": "code",
      "source": [
        "from sklearn.datasets import make_classification\n",
        "from sklearn.feature_selection import SelectKBest\n",
        "from sklearn.feature_selection import f_classif\n",
        "import pandas as pd\n",
        "\n",
        "\n",
        "\n",
        "fs = SelectKBest(score_func=f_classif, k=5)\n",
        "fit = fs.fit(X,y)\n",
        "dfscores = pd.DataFrame(fit.scores_)\n",
        "dfcolumns = pd.DataFrame(X.columns)\n",
        "\n",
        "featureScores = pd.concat([dfcolumns,dfscores],axis=1)\n",
        "\n",
        "featureScores.columns = ['Best_columns','Score_ANOVA'] \n",
        "\n",
        "lyst = featureScores.nlargest(number_of_feat,'Score_ANOVA')\n",
        "\n",
        "#lyst.to_csv('Filter_Method_ANOVA_with_f_classif.csv')\n",
        "\n",
        "list_of_feat = list(lyst[\"Best_columns\"])"
      ],
      "metadata": {
        "id": "jWdiiglz2iV-"
      },
      "execution_count": 12,
      "outputs": []
    },
    {
      "cell_type": "markdown",
      "source": [
        "###Embedded Method"
      ],
      "metadata": {
        "id": "ulApxK0w7JXX"
      }
    },
    {
      "cell_type": "code",
      "source": [
        "\n",
        "from sklearn.linear_model import LassoCV\n",
        "reg = LassoCV()\n",
        "reg.fit(X, y)\n",
        "print(\"Best alpha using built-in LassoCV: %f\" % reg.alpha_)\n",
        "print(\"Best score using built-in LassoCV: %f\" %reg.score(X,y))\n",
        "coef = pd.Series(reg.coef_, index = X.columns)\n",
        "\n",
        "print(\"Lasso picked \" + str(sum(coef != 0)) + \" variables and eliminated the other \" +  str(sum(coef == 0)) + \" variables\")\n",
        "\n",
        "imp_coef = coef.sort_values()\n",
        "\n",
        "list_of_feat=[]\n",
        "\n",
        "\n",
        "for i in range(coef.shape[0]):\n",
        "  if coef[i]!=0:\n",
        "    list_of_feat.append(dataset.iloc[:0,i+3].name)\n",
        "    \n",
        "df = pd.DataFrame(list_of_feat, columns=['Best_Features'])\n",
        "\n",
        "#df.to_csv(\"Embedded_Method.csv\")\n",
        "\n",
        "list_of_feat = list(df[\"Best_Features\"])"
      ],
      "metadata": {
        "id": "2A4W1e2v5sse",
        "colab": {
          "base_uri": "https://localhost:8080/"
        },
        "outputId": "a5c94bd7-7e32-439f-eca1-c728da10f62e"
      },
      "execution_count": 13,
      "outputs": [
        {
          "output_type": "stream",
          "name": "stderr",
          "text": [
            "/usr/local/lib/python3.8/dist-packages/sklearn/linear_model/_coordinate_descent.py:633: ConvergenceWarning: Objective did not converge. You might want to increase the number of iterations. Duality gap: 0.4267169530156707, tolerance: 0.21672448830409385\n",
            "  model = cd_fast.enet_coordinate_descent_gram(\n",
            "/usr/local/lib/python3.8/dist-packages/sklearn/linear_model/_coordinate_descent.py:633: ConvergenceWarning: Objective did not converge. You might want to increase the number of iterations. Duality gap: 0.5367691825176735, tolerance: 0.21672448830409385\n",
            "  model = cd_fast.enet_coordinate_descent_gram(\n",
            "/usr/local/lib/python3.8/dist-packages/sklearn/linear_model/_coordinate_descent.py:633: ConvergenceWarning: Objective did not converge. You might want to increase the number of iterations. Duality gap: 0.44178979448417977, tolerance: 0.21672448830409385\n",
            "  model = cd_fast.enet_coordinate_descent_gram(\n",
            "/usr/local/lib/python3.8/dist-packages/sklearn/linear_model/_coordinate_descent.py:633: ConvergenceWarning: Objective did not converge. You might want to increase the number of iterations. Duality gap: 0.43952068898738617, tolerance: 0.21672448830409385\n",
            "  model = cd_fast.enet_coordinate_descent_gram(\n",
            "/usr/local/lib/python3.8/dist-packages/sklearn/linear_model/_coordinate_descent.py:633: ConvergenceWarning: Objective did not converge. You might want to increase the number of iterations. Duality gap: 0.46433912886061535, tolerance: 0.21672448830409385\n",
            "  model = cd_fast.enet_coordinate_descent_gram(\n",
            "/usr/local/lib/python3.8/dist-packages/sklearn/linear_model/_coordinate_descent.py:633: ConvergenceWarning: Objective did not converge. You might want to increase the number of iterations. Duality gap: 0.4989548064010023, tolerance: 0.21672448830409385\n",
            "  model = cd_fast.enet_coordinate_descent_gram(\n",
            "/usr/local/lib/python3.8/dist-packages/sklearn/linear_model/_coordinate_descent.py:633: ConvergenceWarning: Objective did not converge. You might want to increase the number of iterations. Duality gap: 0.44551548182505485, tolerance: 0.21672448830409385\n",
            "  model = cd_fast.enet_coordinate_descent_gram(\n",
            "/usr/local/lib/python3.8/dist-packages/sklearn/linear_model/_coordinate_descent.py:633: ConvergenceWarning: Objective did not converge. You might want to increase the number of iterations. Duality gap: 0.43447831353933, tolerance: 0.21672448830409385\n",
            "  model = cd_fast.enet_coordinate_descent_gram(\n",
            "/usr/local/lib/python3.8/dist-packages/sklearn/linear_model/_coordinate_descent.py:633: ConvergenceWarning: Objective did not converge. You might want to increase the number of iterations. Duality gap: 0.6854571622635603, tolerance: 0.19155865595325047\n",
            "  model = cd_fast.enet_coordinate_descent_gram(\n",
            "/usr/local/lib/python3.8/dist-packages/sklearn/linear_model/_coordinate_descent.py:633: ConvergenceWarning: Objective did not converge. You might want to increase the number of iterations. Duality gap: 1.6359106571626398, tolerance: 0.19155865595325047\n",
            "  model = cd_fast.enet_coordinate_descent_gram(\n",
            "/usr/local/lib/python3.8/dist-packages/sklearn/linear_model/_coordinate_descent.py:633: ConvergenceWarning: Objective did not converge. You might want to increase the number of iterations. Duality gap: 3.118580555415747, tolerance: 0.19155865595325047\n",
            "  model = cd_fast.enet_coordinate_descent_gram(\n",
            "/usr/local/lib/python3.8/dist-packages/sklearn/linear_model/_coordinate_descent.py:633: ConvergenceWarning: Objective did not converge. You might want to increase the number of iterations. Duality gap: 4.035189381130181, tolerance: 0.19155865595325047\n",
            "  model = cd_fast.enet_coordinate_descent_gram(\n",
            "/usr/local/lib/python3.8/dist-packages/sklearn/linear_model/_coordinate_descent.py:633: ConvergenceWarning: Objective did not converge. You might want to increase the number of iterations. Duality gap: 0.44324843964204774, tolerance: 0.19155865595325047\n",
            "  model = cd_fast.enet_coordinate_descent_gram(\n",
            "/usr/local/lib/python3.8/dist-packages/sklearn/linear_model/_coordinate_descent.py:633: ConvergenceWarning: Objective did not converge. You might want to increase the number of iterations. Duality gap: 2.320660533885416, tolerance: 0.19155865595325047\n",
            "  model = cd_fast.enet_coordinate_descent_gram(\n",
            "/usr/local/lib/python3.8/dist-packages/sklearn/linear_model/_coordinate_descent.py:633: ConvergenceWarning: Objective did not converge. You might want to increase the number of iterations. Duality gap: 3.3528893170340552, tolerance: 0.19155865595325047\n",
            "  model = cd_fast.enet_coordinate_descent_gram(\n",
            "/usr/local/lib/python3.8/dist-packages/sklearn/linear_model/_coordinate_descent.py:633: ConvergenceWarning: Objective did not converge. You might want to increase the number of iterations. Duality gap: 1.0475886722929317, tolerance: 0.19155865595325047\n",
            "  model = cd_fast.enet_coordinate_descent_gram(\n",
            "/usr/local/lib/python3.8/dist-packages/sklearn/linear_model/_coordinate_descent.py:633: ConvergenceWarning: Objective did not converge. You might want to increase the number of iterations. Duality gap: 1.2859467656206789, tolerance: 0.19155865595325047\n",
            "  model = cd_fast.enet_coordinate_descent_gram(\n",
            "/usr/local/lib/python3.8/dist-packages/sklearn/linear_model/_coordinate_descent.py:633: ConvergenceWarning: Objective did not converge. You might want to increase the number of iterations. Duality gap: 2.6886040710332963, tolerance: 0.19155865595325047\n",
            "  model = cd_fast.enet_coordinate_descent_gram(\n",
            "/usr/local/lib/python3.8/dist-packages/sklearn/linear_model/_coordinate_descent.py:633: ConvergenceWarning: Objective did not converge. You might want to increase the number of iterations. Duality gap: 4.998050559647595, tolerance: 0.19155865595325047\n",
            "  model = cd_fast.enet_coordinate_descent_gram(\n",
            "/usr/local/lib/python3.8/dist-packages/sklearn/linear_model/_coordinate_descent.py:633: ConvergenceWarning: Objective did not converge. You might want to increase the number of iterations. Duality gap: 5.679900168994209, tolerance: 0.19155865595325047\n",
            "  model = cd_fast.enet_coordinate_descent_gram(\n",
            "/usr/local/lib/python3.8/dist-packages/sklearn/linear_model/_coordinate_descent.py:633: ConvergenceWarning: Objective did not converge. You might want to increase the number of iterations. Duality gap: 5.219082027051854, tolerance: 0.19155865595325047\n",
            "  model = cd_fast.enet_coordinate_descent_gram(\n",
            "/usr/local/lib/python3.8/dist-packages/sklearn/linear_model/_coordinate_descent.py:633: ConvergenceWarning: Objective did not converge. You might want to increase the number of iterations. Duality gap: 3.039537952752198, tolerance: 0.19155865595325047\n",
            "  model = cd_fast.enet_coordinate_descent_gram(\n",
            "/usr/local/lib/python3.8/dist-packages/sklearn/linear_model/_coordinate_descent.py:633: ConvergenceWarning: Objective did not converge. You might want to increase the number of iterations. Duality gap: 0.9415427907708818, tolerance: 0.19155865595325047\n",
            "  model = cd_fast.enet_coordinate_descent_gram(\n",
            "/usr/local/lib/python3.8/dist-packages/sklearn/linear_model/_coordinate_descent.py:633: ConvergenceWarning: Objective did not converge. You might want to increase the number of iterations. Duality gap: 1.002354145654067, tolerance: 0.19155865595325047\n",
            "  model = cd_fast.enet_coordinate_descent_gram(\n",
            "/usr/local/lib/python3.8/dist-packages/sklearn/linear_model/_coordinate_descent.py:633: ConvergenceWarning: Objective did not converge. You might want to increase the number of iterations. Duality gap: 1.228428024035793, tolerance: 0.19155865595325047\n",
            "  model = cd_fast.enet_coordinate_descent_gram(\n",
            "/usr/local/lib/python3.8/dist-packages/sklearn/linear_model/_coordinate_descent.py:633: ConvergenceWarning: Objective did not converge. You might want to increase the number of iterations. Duality gap: 1.396283604265136, tolerance: 0.19155865595325047\n",
            "  model = cd_fast.enet_coordinate_descent_gram(\n",
            "/usr/local/lib/python3.8/dist-packages/sklearn/linear_model/_coordinate_descent.py:633: ConvergenceWarning: Objective did not converge. You might want to increase the number of iterations. Duality gap: 3.8910330314937482, tolerance: 0.19155865595325047\n",
            "  model = cd_fast.enet_coordinate_descent_gram(\n",
            "/usr/local/lib/python3.8/dist-packages/sklearn/linear_model/_coordinate_descent.py:633: ConvergenceWarning: Objective did not converge. You might want to increase the number of iterations. Duality gap: 7.61956106919331, tolerance: 0.19155865595325047\n",
            "  model = cd_fast.enet_coordinate_descent_gram(\n",
            "/usr/local/lib/python3.8/dist-packages/sklearn/linear_model/_coordinate_descent.py:633: ConvergenceWarning: Objective did not converge. You might want to increase the number of iterations. Duality gap: 10.399343404807269, tolerance: 0.19155865595325047\n",
            "  model = cd_fast.enet_coordinate_descent_gram(\n",
            "/usr/local/lib/python3.8/dist-packages/sklearn/linear_model/_coordinate_descent.py:633: ConvergenceWarning: Objective did not converge. You might want to increase the number of iterations. Duality gap: 12.845211129611243, tolerance: 0.19155865595325047\n",
            "  model = cd_fast.enet_coordinate_descent_gram(\n",
            "/usr/local/lib/python3.8/dist-packages/sklearn/linear_model/_coordinate_descent.py:633: ConvergenceWarning: Objective did not converge. You might want to increase the number of iterations. Duality gap: 1.6412599116704314, tolerance: 0.1750899926953981\n",
            "  model = cd_fast.enet_coordinate_descent_gram(\n",
            "/usr/local/lib/python3.8/dist-packages/sklearn/linear_model/_coordinate_descent.py:633: ConvergenceWarning: Objective did not converge. You might want to increase the number of iterations. Duality gap: 4.635566985978016, tolerance: 0.1750899926953981\n",
            "  model = cd_fast.enet_coordinate_descent_gram(\n",
            "/usr/local/lib/python3.8/dist-packages/sklearn/linear_model/_coordinate_descent.py:633: ConvergenceWarning: Objective did not converge. You might want to increase the number of iterations. Duality gap: 1.149978421512742, tolerance: 0.1750899926953981\n",
            "  model = cd_fast.enet_coordinate_descent_gram(\n",
            "/usr/local/lib/python3.8/dist-packages/sklearn/linear_model/_coordinate_descent.py:633: ConvergenceWarning: Objective did not converge. You might want to increase the number of iterations. Duality gap: 1.0463717673933388, tolerance: 0.1750899926953981\n",
            "  model = cd_fast.enet_coordinate_descent_gram(\n",
            "/usr/local/lib/python3.8/dist-packages/sklearn/linear_model/_coordinate_descent.py:633: ConvergenceWarning: Objective did not converge. You might want to increase the number of iterations. Duality gap: 1.1249466366007255, tolerance: 0.1750899926953981\n",
            "  model = cd_fast.enet_coordinate_descent_gram(\n",
            "/usr/local/lib/python3.8/dist-packages/sklearn/linear_model/_coordinate_descent.py:633: ConvergenceWarning: Objective did not converge. You might want to increase the number of iterations. Duality gap: 3.9639174785226032, tolerance: 0.1750899926953981\n",
            "  model = cd_fast.enet_coordinate_descent_gram(\n",
            "/usr/local/lib/python3.8/dist-packages/sklearn/linear_model/_coordinate_descent.py:633: ConvergenceWarning: Objective did not converge. You might want to increase the number of iterations. Duality gap: 4.128761565914374, tolerance: 0.1750899926953981\n",
            "  model = cd_fast.enet_coordinate_descent_gram(\n",
            "/usr/local/lib/python3.8/dist-packages/sklearn/linear_model/_coordinate_descent.py:633: ConvergenceWarning: Objective did not converge. You might want to increase the number of iterations. Duality gap: 4.01357223245941, tolerance: 0.1750899926953981\n",
            "  model = cd_fast.enet_coordinate_descent_gram(\n",
            "/usr/local/lib/python3.8/dist-packages/sklearn/linear_model/_coordinate_descent.py:633: ConvergenceWarning: Objective did not converge. You might want to increase the number of iterations. Duality gap: 3.9125629880059023, tolerance: 0.1750899926953981\n",
            "  model = cd_fast.enet_coordinate_descent_gram(\n",
            "/usr/local/lib/python3.8/dist-packages/sklearn/linear_model/_coordinate_descent.py:633: ConvergenceWarning: Objective did not converge. You might want to increase the number of iterations. Duality gap: 3.772142571907807, tolerance: 0.1750899926953981\n",
            "  model = cd_fast.enet_coordinate_descent_gram(\n",
            "/usr/local/lib/python3.8/dist-packages/sklearn/linear_model/_coordinate_descent.py:633: ConvergenceWarning: Objective did not converge. You might want to increase the number of iterations. Duality gap: 3.8057308298861017, tolerance: 0.1750899926953981\n",
            "  model = cd_fast.enet_coordinate_descent_gram(\n",
            "/usr/local/lib/python3.8/dist-packages/sklearn/linear_model/_coordinate_descent.py:633: ConvergenceWarning: Objective did not converge. You might want to increase the number of iterations. Duality gap: 4.108965049155017, tolerance: 0.1750899926953981\n",
            "  model = cd_fast.enet_coordinate_descent_gram(\n",
            "/usr/local/lib/python3.8/dist-packages/sklearn/linear_model/_coordinate_descent.py:633: ConvergenceWarning: Objective did not converge. You might want to increase the number of iterations. Duality gap: 4.145962788478869, tolerance: 0.1750899926953981\n",
            "  model = cd_fast.enet_coordinate_descent_gram(\n",
            "/usr/local/lib/python3.8/dist-packages/sklearn/linear_model/_coordinate_descent.py:633: ConvergenceWarning: Objective did not converge. You might want to increase the number of iterations. Duality gap: 3.8089646126340995, tolerance: 0.1750899926953981\n",
            "  model = cd_fast.enet_coordinate_descent_gram(\n",
            "/usr/local/lib/python3.8/dist-packages/sklearn/linear_model/_coordinate_descent.py:633: ConvergenceWarning: Objective did not converge. You might want to increase the number of iterations. Duality gap: 3.5272684802470167, tolerance: 0.1750899926953981\n",
            "  model = cd_fast.enet_coordinate_descent_gram(\n",
            "/usr/local/lib/python3.8/dist-packages/sklearn/linear_model/_coordinate_descent.py:633: ConvergenceWarning: Objective did not converge. You might want to increase the number of iterations. Duality gap: 3.9709261281667523, tolerance: 0.1750899926953981\n",
            "  model = cd_fast.enet_coordinate_descent_gram(\n",
            "/usr/local/lib/python3.8/dist-packages/sklearn/linear_model/_coordinate_descent.py:633: ConvergenceWarning: Objective did not converge. You might want to increase the number of iterations. Duality gap: 4.522232171109067, tolerance: 0.1750899926953981\n",
            "  model = cd_fast.enet_coordinate_descent_gram(\n",
            "/usr/local/lib/python3.8/dist-packages/sklearn/linear_model/_coordinate_descent.py:633: ConvergenceWarning: Objective did not converge. You might want to increase the number of iterations. Duality gap: 5.373936113512855, tolerance: 0.1750899926953981\n",
            "  model = cd_fast.enet_coordinate_descent_gram(\n",
            "/usr/local/lib/python3.8/dist-packages/sklearn/linear_model/_coordinate_descent.py:633: ConvergenceWarning: Objective did not converge. You might want to increase the number of iterations. Duality gap: 6.8200969666474975, tolerance: 0.1750899926953981\n",
            "  model = cd_fast.enet_coordinate_descent_gram(\n",
            "/usr/local/lib/python3.8/dist-packages/sklearn/linear_model/_coordinate_descent.py:633: ConvergenceWarning: Objective did not converge. You might want to increase the number of iterations. Duality gap: 8.819100593515486, tolerance: 0.1750899926953981\n",
            "  model = cd_fast.enet_coordinate_descent_gram(\n",
            "/usr/local/lib/python3.8/dist-packages/sklearn/linear_model/_coordinate_descent.py:633: ConvergenceWarning: Objective did not converge. You might want to increase the number of iterations. Duality gap: 9.778754823772601, tolerance: 0.1750899926953981\n",
            "  model = cd_fast.enet_coordinate_descent_gram(\n",
            "/usr/local/lib/python3.8/dist-packages/sklearn/linear_model/_coordinate_descent.py:633: ConvergenceWarning: Objective did not converge. You might want to increase the number of iterations. Duality gap: 9.548775913541704, tolerance: 0.1750899926953981\n",
            "  model = cd_fast.enet_coordinate_descent_gram(\n",
            "/usr/local/lib/python3.8/dist-packages/sklearn/linear_model/_coordinate_descent.py:633: ConvergenceWarning: Objective did not converge. You might want to increase the number of iterations. Duality gap: 8.86090235394704, tolerance: 0.1750899926953981\n",
            "  model = cd_fast.enet_coordinate_descent_gram(\n",
            "/usr/local/lib/python3.8/dist-packages/sklearn/linear_model/_coordinate_descent.py:633: ConvergenceWarning: Objective did not converge. You might want to increase the number of iterations. Duality gap: 8.140180840642529, tolerance: 0.1750899926953981\n",
            "  model = cd_fast.enet_coordinate_descent_gram(\n",
            "/usr/local/lib/python3.8/dist-packages/sklearn/linear_model/_coordinate_descent.py:633: ConvergenceWarning: Objective did not converge. You might want to increase the number of iterations. Duality gap: 7.644550679078407, tolerance: 0.1750899926953981\n",
            "  model = cd_fast.enet_coordinate_descent_gram(\n",
            "/usr/local/lib/python3.8/dist-packages/sklearn/linear_model/_coordinate_descent.py:633: ConvergenceWarning: Objective did not converge. You might want to increase the number of iterations. Duality gap: 6.9563886319442645, tolerance: 0.1750899926953981\n",
            "  model = cd_fast.enet_coordinate_descent_gram(\n",
            "/usr/local/lib/python3.8/dist-packages/sklearn/linear_model/_coordinate_descent.py:633: ConvergenceWarning: Objective did not converge. You might want to increase the number of iterations. Duality gap: 0.21672824403958657, tolerance: 0.1750899926953981\n",
            "  model = cd_fast.enet_coordinate_descent_gram(\n",
            "/usr/local/lib/python3.8/dist-packages/sklearn/linear_model/_coordinate_descent.py:633: ConvergenceWarning: Objective did not converge. You might want to increase the number of iterations. Duality gap: 0.6587483567900563, tolerance: 0.1750899926953981\n",
            "  model = cd_fast.enet_coordinate_descent_gram(\n",
            "/usr/local/lib/python3.8/dist-packages/sklearn/linear_model/_coordinate_descent.py:633: ConvergenceWarning: Objective did not converge. You might want to increase the number of iterations. Duality gap: 0.8016907527025978, tolerance: 0.1750899926953981\n",
            "  model = cd_fast.enet_coordinate_descent_gram(\n",
            "/usr/local/lib/python3.8/dist-packages/sklearn/linear_model/_coordinate_descent.py:633: ConvergenceWarning: Objective did not converge. You might want to increase the number of iterations. Duality gap: 2.2918859110511676, tolerance: 0.1750899926953981\n",
            "  model = cd_fast.enet_coordinate_descent_gram(\n",
            "/usr/local/lib/python3.8/dist-packages/sklearn/linear_model/_coordinate_descent.py:633: ConvergenceWarning: Objective did not converge. You might want to increase the number of iterations. Duality gap: 3.200606245269455, tolerance: 0.1750899926953981\n",
            "  model = cd_fast.enet_coordinate_descent_gram(\n",
            "/usr/local/lib/python3.8/dist-packages/sklearn/linear_model/_coordinate_descent.py:633: ConvergenceWarning: Objective did not converge. You might want to increase the number of iterations. Duality gap: 3.712090984429551, tolerance: 0.1750899926953981\n",
            "  model = cd_fast.enet_coordinate_descent_gram(\n",
            "/usr/local/lib/python3.8/dist-packages/sklearn/linear_model/_coordinate_descent.py:633: ConvergenceWarning: Objective did not converge. You might want to increase the number of iterations. Duality gap: 4.7746353418871195, tolerance: 0.1750899926953981\n",
            "  model = cd_fast.enet_coordinate_descent_gram(\n",
            "/usr/local/lib/python3.8/dist-packages/sklearn/linear_model/_coordinate_descent.py:633: ConvergenceWarning: Objective did not converge. You might want to increase the number of iterations. Duality gap: 5.462780333756314, tolerance: 0.1750899926953981\n",
            "  model = cd_fast.enet_coordinate_descent_gram(\n",
            "/usr/local/lib/python3.8/dist-packages/sklearn/linear_model/_coordinate_descent.py:633: ConvergenceWarning: Objective did not converge. You might want to increase the number of iterations. Duality gap: 5.784012395572745, tolerance: 0.1750899926953981\n",
            "  model = cd_fast.enet_coordinate_descent_gram(\n",
            "/usr/local/lib/python3.8/dist-packages/sklearn/linear_model/_coordinate_descent.py:633: ConvergenceWarning: Objective did not converge. You might want to increase the number of iterations. Duality gap: 5.863789293087962, tolerance: 0.1750899926953981\n",
            "  model = cd_fast.enet_coordinate_descent_gram(\n",
            "/usr/local/lib/python3.8/dist-packages/sklearn/linear_model/_coordinate_descent.py:633: ConvergenceWarning: Objective did not converge. You might want to increase the number of iterations. Duality gap: 5.428385278902283, tolerance: 0.1750899926953981\n",
            "  model = cd_fast.enet_coordinate_descent_gram(\n",
            "/usr/local/lib/python3.8/dist-packages/sklearn/linear_model/_coordinate_descent.py:633: ConvergenceWarning: Objective did not converge. You might want to increase the number of iterations. Duality gap: 5.429899369219129, tolerance: 0.1750899926953981\n",
            "  model = cd_fast.enet_coordinate_descent_gram(\n",
            "/usr/local/lib/python3.8/dist-packages/sklearn/linear_model/_coordinate_descent.py:633: ConvergenceWarning: Objective did not converge. You might want to increase the number of iterations. Duality gap: 6.064596863876886, tolerance: 0.1750899926953981\n",
            "  model = cd_fast.enet_coordinate_descent_gram(\n",
            "/usr/local/lib/python3.8/dist-packages/sklearn/linear_model/_coordinate_descent.py:633: ConvergenceWarning: Objective did not converge. You might want to increase the number of iterations. Duality gap: 4.503576429383656, tolerance: 0.1750899926953981\n",
            "  model = cd_fast.enet_coordinate_descent_gram(\n",
            "/usr/local/lib/python3.8/dist-packages/sklearn/linear_model/_coordinate_descent.py:633: ConvergenceWarning: Objective did not converge. You might want to increase the number of iterations. Duality gap: 3.87546807781564, tolerance: 0.1750899926953981\n",
            "  model = cd_fast.enet_coordinate_descent_gram(\n",
            "/usr/local/lib/python3.8/dist-packages/sklearn/linear_model/_coordinate_descent.py:633: ConvergenceWarning: Objective did not converge. You might want to increase the number of iterations. Duality gap: 3.6660131299462364, tolerance: 0.1750899926953981\n",
            "  model = cd_fast.enet_coordinate_descent_gram(\n",
            "/usr/local/lib/python3.8/dist-packages/sklearn/linear_model/_coordinate_descent.py:633: ConvergenceWarning: Objective did not converge. You might want to increase the number of iterations. Duality gap: 2.336437450820199, tolerance: 0.1750899926953981\n",
            "  model = cd_fast.enet_coordinate_descent_gram(\n",
            "/usr/local/lib/python3.8/dist-packages/sklearn/linear_model/_coordinate_descent.py:633: ConvergenceWarning: Objective did not converge. You might want to increase the number of iterations. Duality gap: 1.2145848850275343, tolerance: 0.1750899926953981\n",
            "  model = cd_fast.enet_coordinate_descent_gram(\n",
            "/usr/local/lib/python3.8/dist-packages/sklearn/linear_model/_coordinate_descent.py:633: ConvergenceWarning: Objective did not converge. You might want to increase the number of iterations. Duality gap: 1.0666533712883393, tolerance: 0.1750899926953981\n",
            "  model = cd_fast.enet_coordinate_descent_gram(\n",
            "/usr/local/lib/python3.8/dist-packages/sklearn/linear_model/_coordinate_descent.py:633: ConvergenceWarning: Objective did not converge. You might want to increase the number of iterations. Duality gap: 2.053293760534416, tolerance: 0.1750899926953981\n",
            "  model = cd_fast.enet_coordinate_descent_gram(\n",
            "/usr/local/lib/python3.8/dist-packages/sklearn/linear_model/_coordinate_descent.py:633: ConvergenceWarning: Objective did not converge. You might want to increase the number of iterations. Duality gap: 6.054618481903162, tolerance: 0.1750899926953981\n",
            "  model = cd_fast.enet_coordinate_descent_gram(\n",
            "/usr/local/lib/python3.8/dist-packages/sklearn/linear_model/_coordinate_descent.py:633: ConvergenceWarning: Objective did not converge. You might want to increase the number of iterations. Duality gap: 9.114466884816352, tolerance: 0.1750899926953981\n",
            "  model = cd_fast.enet_coordinate_descent_gram(\n",
            "/usr/local/lib/python3.8/dist-packages/sklearn/linear_model/_coordinate_descent.py:633: ConvergenceWarning: Objective did not converge. You might want to increase the number of iterations. Duality gap: 10.448019029321017, tolerance: 0.1750899926953981\n",
            "  model = cd_fast.enet_coordinate_descent_gram(\n",
            "/usr/local/lib/python3.8/dist-packages/sklearn/linear_model/_coordinate_descent.py:633: ConvergenceWarning: Objective did not converge. You might want to increase the number of iterations. Duality gap: 0.11474914630593958, tolerance: 0.10558027757487208\n",
            "  model = cd_fast.enet_coordinate_descent_gram(\n",
            "/usr/local/lib/python3.8/dist-packages/sklearn/linear_model/_coordinate_descent.py:633: ConvergenceWarning: Objective did not converge. You might want to increase the number of iterations. Duality gap: 0.19374736821760052, tolerance: 0.10558027757487208\n",
            "  model = cd_fast.enet_coordinate_descent_gram(\n",
            "/usr/local/lib/python3.8/dist-packages/sklearn/linear_model/_coordinate_descent.py:633: ConvergenceWarning: Objective did not converge. You might want to increase the number of iterations. Duality gap: 0.13494072588798645, tolerance: 0.10558027757487208\n",
            "  model = cd_fast.enet_coordinate_descent_gram(\n",
            "/usr/local/lib/python3.8/dist-packages/sklearn/linear_model/_coordinate_descent.py:633: ConvergenceWarning: Objective did not converge. You might want to increase the number of iterations. Duality gap: 0.22719690201859066, tolerance: 0.10558027757487208\n",
            "  model = cd_fast.enet_coordinate_descent_gram(\n",
            "/usr/local/lib/python3.8/dist-packages/sklearn/linear_model/_coordinate_descent.py:633: ConvergenceWarning: Objective did not converge. You might want to increase the number of iterations. Duality gap: 0.19429411930013885, tolerance: 0.10558027757487208\n",
            "  model = cd_fast.enet_coordinate_descent_gram(\n",
            "/usr/local/lib/python3.8/dist-packages/sklearn/linear_model/_coordinate_descent.py:633: ConvergenceWarning: Objective did not converge. You might want to increase the number of iterations. Duality gap: 0.19050649603673264, tolerance: 0.10558027757487208\n",
            "  model = cd_fast.enet_coordinate_descent_gram(\n",
            "/usr/local/lib/python3.8/dist-packages/sklearn/linear_model/_coordinate_descent.py:633: ConvergenceWarning: Objective did not converge. You might want to increase the number of iterations. Duality gap: 0.256380345892012, tolerance: 0.10558027757487208\n",
            "  model = cd_fast.enet_coordinate_descent_gram(\n",
            "/usr/local/lib/python3.8/dist-packages/sklearn/linear_model/_coordinate_descent.py:633: ConvergenceWarning: Objective did not converge. You might want to increase the number of iterations. Duality gap: 0.2911623253594371, tolerance: 0.10558027757487208\n",
            "  model = cd_fast.enet_coordinate_descent_gram(\n",
            "/usr/local/lib/python3.8/dist-packages/sklearn/linear_model/_coordinate_descent.py:633: ConvergenceWarning: Objective did not converge. You might want to increase the number of iterations. Duality gap: 0.2708546981477866, tolerance: 0.10558027757487208\n",
            "  model = cd_fast.enet_coordinate_descent_gram(\n",
            "/usr/local/lib/python3.8/dist-packages/sklearn/linear_model/_coordinate_descent.py:633: ConvergenceWarning: Objective did not converge. You might want to increase the number of iterations. Duality gap: 0.2694254374995353, tolerance: 0.10558027757487208\n",
            "  model = cd_fast.enet_coordinate_descent_gram(\n",
            "/usr/local/lib/python3.8/dist-packages/sklearn/linear_model/_coordinate_descent.py:633: ConvergenceWarning: Objective did not converge. You might want to increase the number of iterations. Duality gap: 0.263341127462013, tolerance: 0.10558027757487208\n",
            "  model = cd_fast.enet_coordinate_descent_gram(\n",
            "/usr/local/lib/python3.8/dist-packages/sklearn/linear_model/_coordinate_descent.py:633: ConvergenceWarning: Objective did not converge. You might want to increase the number of iterations. Duality gap: 0.2507549959905191, tolerance: 0.10558027757487208\n",
            "  model = cd_fast.enet_coordinate_descent_gram(\n",
            "/usr/local/lib/python3.8/dist-packages/sklearn/linear_model/_coordinate_descent.py:633: ConvergenceWarning: Objective did not converge. You might want to increase the number of iterations. Duality gap: 0.2520277898437371, tolerance: 0.10558027757487208\n",
            "  model = cd_fast.enet_coordinate_descent_gram(\n",
            "/usr/local/lib/python3.8/dist-packages/sklearn/linear_model/_coordinate_descent.py:633: ConvergenceWarning: Objective did not converge. You might want to increase the number of iterations. Duality gap: 0.22548068700359636, tolerance: 0.10558027757487208\n",
            "  model = cd_fast.enet_coordinate_descent_gram(\n",
            "/usr/local/lib/python3.8/dist-packages/sklearn/linear_model/_coordinate_descent.py:633: ConvergenceWarning: Objective did not converge. You might want to increase the number of iterations. Duality gap: 0.2049915101465558, tolerance: 0.10558027757487208\n",
            "  model = cd_fast.enet_coordinate_descent_gram(\n",
            "/usr/local/lib/python3.8/dist-packages/sklearn/linear_model/_coordinate_descent.py:633: ConvergenceWarning: Objective did not converge. You might want to increase the number of iterations. Duality gap: 0.29015633449625966, tolerance: 0.10558027757487208\n",
            "  model = cd_fast.enet_coordinate_descent_gram(\n",
            "/usr/local/lib/python3.8/dist-packages/sklearn/linear_model/_coordinate_descent.py:633: ConvergenceWarning: Objective did not converge. You might want to increase the number of iterations. Duality gap: 0.39755466511519444, tolerance: 0.10558027757487208\n",
            "  model = cd_fast.enet_coordinate_descent_gram(\n",
            "/usr/local/lib/python3.8/dist-packages/sklearn/linear_model/_coordinate_descent.py:633: ConvergenceWarning: Objective did not converge. You might want to increase the number of iterations. Duality gap: 0.48631634941807533, tolerance: 0.10558027757487208\n",
            "  model = cd_fast.enet_coordinate_descent_gram(\n",
            "/usr/local/lib/python3.8/dist-packages/sklearn/linear_model/_coordinate_descent.py:633: ConvergenceWarning: Objective did not converge. You might want to increase the number of iterations. Duality gap: 0.5372703612974874, tolerance: 0.10558027757487208\n",
            "  model = cd_fast.enet_coordinate_descent_gram(\n",
            "/usr/local/lib/python3.8/dist-packages/sklearn/linear_model/_coordinate_descent.py:633: ConvergenceWarning: Objective did not converge. You might want to increase the number of iterations. Duality gap: 0.5303664386892706, tolerance: 0.10558027757487208\n",
            "  model = cd_fast.enet_coordinate_descent_gram(\n",
            "/usr/local/lib/python3.8/dist-packages/sklearn/linear_model/_coordinate_descent.py:633: ConvergenceWarning: Objective did not converge. You might want to increase the number of iterations. Duality gap: 0.4852303203185784, tolerance: 0.10558027757487208\n",
            "  model = cd_fast.enet_coordinate_descent_gram(\n",
            "/usr/local/lib/python3.8/dist-packages/sklearn/linear_model/_coordinate_descent.py:633: ConvergenceWarning: Objective did not converge. You might want to increase the number of iterations. Duality gap: 0.41299196977752217, tolerance: 0.10558027757487208\n",
            "  model = cd_fast.enet_coordinate_descent_gram(\n",
            "/usr/local/lib/python3.8/dist-packages/sklearn/linear_model/_coordinate_descent.py:633: ConvergenceWarning: Objective did not converge. You might want to increase the number of iterations. Duality gap: 0.44504031788073917, tolerance: 0.10558027757487208\n",
            "  model = cd_fast.enet_coordinate_descent_gram(\n",
            "/usr/local/lib/python3.8/dist-packages/sklearn/linear_model/_coordinate_descent.py:633: ConvergenceWarning: Objective did not converge. You might want to increase the number of iterations. Duality gap: 0.6044164916149839, tolerance: 0.10558027757487208\n",
            "  model = cd_fast.enet_coordinate_descent_gram(\n",
            "/usr/local/lib/python3.8/dist-packages/sklearn/linear_model/_coordinate_descent.py:633: ConvergenceWarning: Objective did not converge. You might want to increase the number of iterations. Duality gap: 0.5821489079249886, tolerance: 0.10558027757487208\n",
            "  model = cd_fast.enet_coordinate_descent_gram(\n",
            "/usr/local/lib/python3.8/dist-packages/sklearn/linear_model/_coordinate_descent.py:633: ConvergenceWarning: Objective did not converge. You might want to increase the number of iterations. Duality gap: 1.640216462648823, tolerance: 0.10558027757487208\n",
            "  model = cd_fast.enet_coordinate_descent_gram(\n",
            "/usr/local/lib/python3.8/dist-packages/sklearn/linear_model/_coordinate_descent.py:633: ConvergenceWarning: Objective did not converge. You might want to increase the number of iterations. Duality gap: 2.9526979151553405, tolerance: 0.10558027757487208\n",
            "  model = cd_fast.enet_coordinate_descent_gram(\n",
            "/usr/local/lib/python3.8/dist-packages/sklearn/linear_model/_coordinate_descent.py:633: ConvergenceWarning: Objective did not converge. You might want to increase the number of iterations. Duality gap: 3.453510519992392, tolerance: 0.10558027757487208\n",
            "  model = cd_fast.enet_coordinate_descent_gram(\n",
            "/usr/local/lib/python3.8/dist-packages/sklearn/linear_model/_coordinate_descent.py:633: ConvergenceWarning: Objective did not converge. You might want to increase the number of iterations. Duality gap: 2.9106893127578815, tolerance: 0.10558027757487208\n",
            "  model = cd_fast.enet_coordinate_descent_gram(\n",
            "/usr/local/lib/python3.8/dist-packages/sklearn/linear_model/_coordinate_descent.py:633: ConvergenceWarning: Objective did not converge. You might want to increase the number of iterations. Duality gap: 3.238552191859867, tolerance: 0.10558027757487208\n",
            "  model = cd_fast.enet_coordinate_descent_gram(\n",
            "/usr/local/lib/python3.8/dist-packages/sklearn/linear_model/_coordinate_descent.py:633: ConvergenceWarning: Objective did not converge. You might want to increase the number of iterations. Duality gap: 3.4962298619279863, tolerance: 0.10558027757487208\n",
            "  model = cd_fast.enet_coordinate_descent_gram(\n",
            "/usr/local/lib/python3.8/dist-packages/sklearn/linear_model/_coordinate_descent.py:633: ConvergenceWarning: Objective did not converge. You might want to increase the number of iterations. Duality gap: 3.7734824898376473, tolerance: 0.10558027757487208\n",
            "  model = cd_fast.enet_coordinate_descent_gram(\n",
            "/usr/local/lib/python3.8/dist-packages/sklearn/linear_model/_coordinate_descent.py:633: ConvergenceWarning: Objective did not converge. You might want to increase the number of iterations. Duality gap: 3.9457448973673763, tolerance: 0.10558027757487208\n",
            "  model = cd_fast.enet_coordinate_descent_gram(\n",
            "/usr/local/lib/python3.8/dist-packages/sklearn/linear_model/_coordinate_descent.py:633: ConvergenceWarning: Objective did not converge. You might want to increase the number of iterations. Duality gap: 3.461659613569168, tolerance: 0.10558027757487208\n",
            "  model = cd_fast.enet_coordinate_descent_gram(\n",
            "/usr/local/lib/python3.8/dist-packages/sklearn/linear_model/_coordinate_descent.py:633: ConvergenceWarning: Objective did not converge. You might want to increase the number of iterations. Duality gap: 3.394426658807788, tolerance: 0.10558027757487208\n",
            "  model = cd_fast.enet_coordinate_descent_gram(\n",
            "/usr/local/lib/python3.8/dist-packages/sklearn/linear_model/_coordinate_descent.py:633: ConvergenceWarning: Objective did not converge. You might want to increase the number of iterations. Duality gap: 4.197293579875236, tolerance: 0.10558027757487208\n",
            "  model = cd_fast.enet_coordinate_descent_gram(\n",
            "/usr/local/lib/python3.8/dist-packages/sklearn/linear_model/_coordinate_descent.py:633: ConvergenceWarning: Objective did not converge. You might want to increase the number of iterations. Duality gap: 4.7140861379944, tolerance: 0.10558027757487208\n",
            "  model = cd_fast.enet_coordinate_descent_gram(\n",
            "/usr/local/lib/python3.8/dist-packages/sklearn/linear_model/_coordinate_descent.py:633: ConvergenceWarning: Objective did not converge. You might want to increase the number of iterations. Duality gap: 4.857260651044385, tolerance: 0.10558027757487208\n",
            "  model = cd_fast.enet_coordinate_descent_gram(\n",
            "/usr/local/lib/python3.8/dist-packages/sklearn/linear_model/_coordinate_descent.py:633: ConvergenceWarning: Objective did not converge. You might want to increase the number of iterations. Duality gap: 3.71257207430142, tolerance: 0.10558027757487208\n",
            "  model = cd_fast.enet_coordinate_descent_gram(\n"
          ]
        },
        {
          "output_type": "stream",
          "name": "stdout",
          "text": [
            "Best alpha using built-in LassoCV: 0.026444\n",
            "Best score using built-in LassoCV: 0.462189\n",
            "Lasso picked 76 variables and eliminated the other 180 variables\n"
          ]
        },
        {
          "output_type": "stream",
          "name": "stderr",
          "text": [
            "/usr/local/lib/python3.8/dist-packages/sklearn/linear_model/_coordinate_descent.py:647: ConvergenceWarning: Objective did not converge. You might want to increase the number of iterations, check the scale of the features or consider increasing regularisation. Duality gap: 2.166e+02, tolerance: 2.256e-01\n",
            "  model = cd_fast.enet_coordinate_descent(\n"
          ]
        }
      ]
    },
    {
      "cell_type": "markdown",
      "source": [
        "###Pearson's with f regression"
      ],
      "metadata": {
        "id": "roe4MPHM7NJy"
      }
    },
    {
      "cell_type": "code",
      "source": [
        "from sklearn.datasets import make_regression\n",
        "from sklearn.feature_selection import SelectKBest\n",
        "from sklearn.feature_selection import f_regression\n",
        "import pandas as pd\n",
        "\n",
        "\n",
        "fs = SelectKBest(score_func=f_regression, k=5)\n",
        "fit = fs.fit(X,y)\n",
        "\n",
        "dfscores = pd.DataFrame(fit.scores_)\n",
        "dfcolumns = pd.DataFrame(dataset.columns)\n",
        "featureScores = pd.concat([dfcolumns,dfscores],axis=1)\n",
        "\n",
        "featureScores.columns = ['Best_columns','Score_pearsons'] \n",
        "\n",
        "\n",
        "lyst = featureScores.nlargest(number_of_feat,'Score_pearsons')\n",
        "\n",
        "#lyst.to_csv('Filter_Method_Pearson’s_with_f_regression.csv')\n",
        "\n",
        "list_of_feat = list(lyst[\"Best_columns\"])"
      ],
      "metadata": {
        "id": "o4A0dH566an_"
      },
      "execution_count": 14,
      "outputs": []
    },
    {
      "cell_type": "markdown",
      "source": [
        "###Sequential Feature Selection"
      ],
      "metadata": {
        "id": "kwFK7VeE7RwH"
      }
    },
    {
      "cell_type": "code",
      "source": [
        "from sklearn.feature_selection import SequentialFeatureSelector\n",
        "from sklearn.neighbors import KNeighborsClassifier\n",
        "knn = KNeighborsClassifier(n_neighbors=3)\n",
        "sfs = SequentialFeatureSelector(knn, n_features_to_select=number_of_feat)\n",
        "sfs.fit(X, y)\n",
        "list_of_feat=[]\n",
        "list_of_feat=list(sfs.get_feature_names_out(X.columns))\n",
        "\n",
        "df = pd.DataFrame(list_of_feat, columns=['Best_Features'])\n",
        "\n",
        "#df.to_csv(\"Filter_Method_Sequential_feat_Selection_KNN.csv\")\n",
        "\n",
        "list_of_feat = list(df[\"Best_Features\"])"
      ],
      "metadata": {
        "id": "sQlorvfS6wed"
      },
      "execution_count": 15,
      "outputs": []
    },
    {
      "cell_type": "markdown",
      "source": [
        "###All features"
      ],
      "metadata": {
        "id": "swd5ZOVO-8cL"
      }
    },
    {
      "cell_type": "code",
      "source": [
        "list_of_feat = list(X.columns)"
      ],
      "metadata": {
        "id": "KoiMxNN3-_zH"
      },
      "execution_count": 12,
      "outputs": []
    },
    {
      "cell_type": "markdown",
      "source": [
        "#Dataset Spliting"
      ],
      "metadata": {
        "id": "k4YDHMuh-wMT"
      }
    },
    {
      "cell_type": "code",
      "source": [
        "X_new = new_dataset[list_of_feat]\n",
        "y_new = new_dataset[target]"
      ],
      "metadata": {
        "id": "MKgy4THrq4v8"
      },
      "execution_count": 13,
      "outputs": []
    },
    {
      "cell_type": "code",
      "source": [
        "X_new.shape"
      ],
      "metadata": {
        "id": "Fxz-DgDXZtpD",
        "colab": {
          "base_uri": "https://localhost:8080/"
        },
        "outputId": "a8e9e671-be88-4f38-ccd8-fdd021016058"
      },
      "execution_count": 14,
      "outputs": [
        {
          "output_type": "execute_result",
          "data": {
            "text/plain": [
              "(3172, 256)"
            ]
          },
          "metadata": {},
          "execution_count": 14
        }
      ]
    },
    {
      "cell_type": "code",
      "source": [
        "y_new.shape"
      ],
      "metadata": {
        "id": "1q9Y_6BAr-es",
        "colab": {
          "base_uri": "https://localhost:8080/"
        },
        "outputId": "78a11910-a95b-4f1f-8509-193855fdcbd6"
      },
      "execution_count": 15,
      "outputs": [
        {
          "output_type": "execute_result",
          "data": {
            "text/plain": [
              "(3172,)"
            ]
          },
          "metadata": {},
          "execution_count": 15
        }
      ]
    },
    {
      "cell_type": "code",
      "source": [
        "from sklearn.model_selection import train_test_split\n",
        "X_train, X_test, y_train, y_test = train_test_split(X_new, y_new, test_size = 0.2, random_state = 0)"
      ],
      "metadata": {
        "id": "_CYZE4jgq3w9"
      },
      "execution_count": 16,
      "outputs": []
    },
    {
      "cell_type": "markdown",
      "source": [
        "\n",
        "\n",
        "---\n",
        "\n"
      ],
      "metadata": {
        "id": "bqYsoblRogp2"
      }
    },
    {
      "cell_type": "markdown",
      "source": [
        "\n",
        "\n",
        "---\n",
        "\n"
      ],
      "metadata": {
        "id": "BydV84Diooxp"
      }
    },
    {
      "cell_type": "markdown",
      "source": [
        "#ADABOOST"
      ],
      "metadata": {
        "id": "jEe2R0yAoifa"
      }
    },
    {
      "cell_type": "code",
      "source": [
        "from sklearn.ensemble import AdaBoostClassifier\n",
        "\n",
        "ada_defult = AdaBoostClassifier(random_state=0)\n",
        "ada_defult.fit(X_train, y_train)\n",
        "y_pred = ada_defult.predict(X_test)\n",
        "\n",
        "from sklearn.metrics import classification_report, confusion_matrix, accuracy_score\n",
        "print(confusion_matrix(y_test, y_pred))\n",
        "print(classification_report(y_test,y_pred))\n",
        "print(\"Accurecy: \",accuracy_score(y_test, y_pred))\n",
        "result[(ada_defult,1,'AdaBoostClassifier')]=accuracy_score(y_test, y_pred)\n"
      ],
      "metadata": {
        "id": "Bz_yVJaXod8O",
        "colab": {
          "base_uri": "https://localhost:8080/"
        },
        "outputId": "b1795798-2579-4c83-d2b9-83df8f24bbf1"
      },
      "execution_count": 17,
      "outputs": [
        {
          "output_type": "stream",
          "name": "stdout",
          "text": [
            "[[ 92  39  23   9]\n",
            " [ 42  83  14   6]\n",
            " [ 32  31  68  37]\n",
            " [  3   5  22 129]]\n",
            "              precision    recall  f1-score   support\n",
            "\n",
            "           0       0.54      0.56      0.55       163\n",
            "           1       0.53      0.57      0.55       145\n",
            "           2       0.54      0.40      0.46       168\n",
            "           3       0.71      0.81      0.76       159\n",
            "\n",
            "    accuracy                           0.59       635\n",
            "   macro avg       0.58      0.59      0.58       635\n",
            "weighted avg       0.58      0.59      0.58       635\n",
            "\n",
            "Accurecy:  0.5858267716535434\n"
          ]
        }
      ]
    },
    {
      "cell_type": "code",
      "source": [
        "from sklearn.ensemble import AdaBoostClassifier\n",
        "N=200\n",
        "k_range = range (1,N+1)\n",
        "scores={}\n",
        "scores_list = []\n",
        "for k in k_range:\n",
        "  classifier = AdaBoostClassifier(n_estimators=k,random_state=0)\n",
        "  classifier.fit(X_train, y_train)\n",
        "  y_pred=classifier.predict(X_test)\n",
        "  scores[k] = accuracy_score(y_test,y_pred)\n",
        "  scores_list.append(accuracy_score(y_test,y_pred))\n",
        "  print(str(k)+\"/\"+str(N)+\" round completed......................... Accurecy: \"+str(accuracy_score(y_test,y_pred)))\n",
        "\n",
        "\n",
        "\n",
        "%matplotlib inline\n",
        "import matplotlib.pyplot as plt\n",
        "#plot the relationship between K and the testing accuracy\n",
        "plt.figure(figsize = (25,10))\n",
        "plt.plot(k_range,scores_list)\n",
        "plt.xlabel('Value of n_estimators')\n",
        "plt.ylabel ('Testing Accuracy')\n",
        "\n",
        "\n",
        "\n",
        "print(\"The best n_estimators:\")\n",
        "best_estimator=list(scores.keys())[scores_list.index(max(scores_list))]\n",
        "print(best_estimator)"
      ],
      "metadata": {
        "id": "_3wRG3rxotzH",
        "colab": {
          "base_uri": "https://localhost:8080/",
          "height": 786
        },
        "outputId": "45418899-91ac-4b16-be4c-83182109e415"
      },
      "execution_count": 18,
      "outputs": [
        {
          "output_type": "stream",
          "name": "stdout",
          "text": [
            "1/200 round completed......................... Accurecy: 0.3826771653543307\n",
            "2/200 round completed......................... Accurecy: 0.46141732283464565\n",
            "3/200 round completed......................... Accurecy: 0.4692913385826772\n",
            "4/200 round completed......................... Accurecy: 0.46771653543307085\n",
            "5/200 round completed......................... Accurecy: 0.47244094488188976\n",
            "6/200 round completed......................... Accurecy: 0.494488188976378\n",
            "7/200 round completed......................... Accurecy: 0.49291338582677163\n",
            "8/200 round completed......................... Accurecy: 0.4818897637795276\n",
            "9/200 round completed......................... Accurecy: 0.5086614173228347\n",
            "10/200 round completed......................... Accurecy: 0.5023622047244094\n",
            "11/200 round completed......................... Accurecy: 0.5070866141732283\n",
            "12/200 round completed......................... Accurecy: 0.5086614173228347\n",
            "13/200 round completed......................... Accurecy: 0.5543307086614173\n",
            "14/200 round completed......................... Accurecy: 0.552755905511811\n",
            "15/200 round completed......................... Accurecy: 0.5574803149606299\n",
            "16/200 round completed......................... Accurecy: 0.5763779527559055\n",
            "17/200 round completed......................... Accurecy: 0.573228346456693\n",
            "18/200 round completed......................... Accurecy: 0.568503937007874\n",
            "19/200 round completed......................... Accurecy: 0.5637795275590551\n",
            "20/200 round completed......................... Accurecy: 0.5622047244094488\n",
            "21/200 round completed......................... Accurecy: 0.5700787401574803\n"
          ]
        },
        {
          "output_type": "error",
          "ename": "KeyboardInterrupt",
          "evalue": "ignored",
          "traceback": [
            "\u001b[0;31m---------------------------------------------------------------------------\u001b[0m",
            "\u001b[0;31mKeyboardInterrupt\u001b[0m                         Traceback (most recent call last)",
            "\u001b[0;32m<ipython-input-18-ddcad351f807>\u001b[0m in \u001b[0;36m<module>\u001b[0;34m\u001b[0m\n\u001b[1;32m      6\u001b[0m \u001b[0;32mfor\u001b[0m \u001b[0mk\u001b[0m \u001b[0;32min\u001b[0m \u001b[0mk_range\u001b[0m\u001b[0;34m:\u001b[0m\u001b[0;34m\u001b[0m\u001b[0;34m\u001b[0m\u001b[0m\n\u001b[1;32m      7\u001b[0m   \u001b[0mclassifier\u001b[0m \u001b[0;34m=\u001b[0m \u001b[0mAdaBoostClassifier\u001b[0m\u001b[0;34m(\u001b[0m\u001b[0mn_estimators\u001b[0m\u001b[0;34m=\u001b[0m\u001b[0mk\u001b[0m\u001b[0;34m,\u001b[0m\u001b[0mrandom_state\u001b[0m\u001b[0;34m=\u001b[0m\u001b[0;36m0\u001b[0m\u001b[0;34m)\u001b[0m\u001b[0;34m\u001b[0m\u001b[0;34m\u001b[0m\u001b[0m\n\u001b[0;32m----> 8\u001b[0;31m   \u001b[0mclassifier\u001b[0m\u001b[0;34m.\u001b[0m\u001b[0mfit\u001b[0m\u001b[0;34m(\u001b[0m\u001b[0mX_train\u001b[0m\u001b[0;34m,\u001b[0m \u001b[0my_train\u001b[0m\u001b[0;34m)\u001b[0m\u001b[0;34m\u001b[0m\u001b[0;34m\u001b[0m\u001b[0m\n\u001b[0m\u001b[1;32m      9\u001b[0m   \u001b[0my_pred\u001b[0m\u001b[0;34m=\u001b[0m\u001b[0mclassifier\u001b[0m\u001b[0;34m.\u001b[0m\u001b[0mpredict\u001b[0m\u001b[0;34m(\u001b[0m\u001b[0mX_test\u001b[0m\u001b[0;34m)\u001b[0m\u001b[0;34m\u001b[0m\u001b[0;34m\u001b[0m\u001b[0m\n\u001b[1;32m     10\u001b[0m   \u001b[0mscores\u001b[0m\u001b[0;34m[\u001b[0m\u001b[0mk\u001b[0m\u001b[0;34m]\u001b[0m \u001b[0;34m=\u001b[0m \u001b[0maccuracy_score\u001b[0m\u001b[0;34m(\u001b[0m\u001b[0my_test\u001b[0m\u001b[0;34m,\u001b[0m\u001b[0my_pred\u001b[0m\u001b[0;34m)\u001b[0m\u001b[0;34m\u001b[0m\u001b[0;34m\u001b[0m\u001b[0m\n",
            "\u001b[0;32m/usr/local/lib/python3.8/dist-packages/sklearn/ensemble/_weight_boosting.py\u001b[0m in \u001b[0;36mfit\u001b[0;34m(self, X, y, sample_weight)\u001b[0m\n\u001b[1;32m    484\u001b[0m \u001b[0;34m\u001b[0m\u001b[0m\n\u001b[1;32m    485\u001b[0m         \u001b[0;31m# Fit\u001b[0m\u001b[0;34m\u001b[0m\u001b[0;34m\u001b[0m\u001b[0;34m\u001b[0m\u001b[0m\n\u001b[0;32m--> 486\u001b[0;31m         \u001b[0;32mreturn\u001b[0m \u001b[0msuper\u001b[0m\u001b[0;34m(\u001b[0m\u001b[0;34m)\u001b[0m\u001b[0;34m.\u001b[0m\u001b[0mfit\u001b[0m\u001b[0;34m(\u001b[0m\u001b[0mX\u001b[0m\u001b[0;34m,\u001b[0m \u001b[0my\u001b[0m\u001b[0;34m,\u001b[0m \u001b[0msample_weight\u001b[0m\u001b[0;34m)\u001b[0m\u001b[0;34m\u001b[0m\u001b[0;34m\u001b[0m\u001b[0m\n\u001b[0m\u001b[1;32m    487\u001b[0m \u001b[0;34m\u001b[0m\u001b[0m\n\u001b[1;32m    488\u001b[0m     \u001b[0;32mdef\u001b[0m \u001b[0m_validate_estimator\u001b[0m\u001b[0;34m(\u001b[0m\u001b[0mself\u001b[0m\u001b[0;34m)\u001b[0m\u001b[0;34m:\u001b[0m\u001b[0;34m\u001b[0m\u001b[0;34m\u001b[0m\u001b[0m\n",
            "\u001b[0;32m/usr/local/lib/python3.8/dist-packages/sklearn/ensemble/_weight_boosting.py\u001b[0m in \u001b[0;36mfit\u001b[0;34m(self, X, y, sample_weight)\u001b[0m\n\u001b[1;32m    143\u001b[0m         \u001b[0;32mfor\u001b[0m \u001b[0miboost\u001b[0m \u001b[0;32min\u001b[0m \u001b[0mrange\u001b[0m\u001b[0;34m(\u001b[0m\u001b[0mself\u001b[0m\u001b[0;34m.\u001b[0m\u001b[0mn_estimators\u001b[0m\u001b[0;34m)\u001b[0m\u001b[0;34m:\u001b[0m\u001b[0;34m\u001b[0m\u001b[0;34m\u001b[0m\u001b[0m\n\u001b[1;32m    144\u001b[0m             \u001b[0;31m# Boosting step\u001b[0m\u001b[0;34m\u001b[0m\u001b[0;34m\u001b[0m\u001b[0;34m\u001b[0m\u001b[0m\n\u001b[0;32m--> 145\u001b[0;31m             sample_weight, estimator_weight, estimator_error = self._boost(\n\u001b[0m\u001b[1;32m    146\u001b[0m                 \u001b[0miboost\u001b[0m\u001b[0;34m,\u001b[0m \u001b[0mX\u001b[0m\u001b[0;34m,\u001b[0m \u001b[0my\u001b[0m\u001b[0;34m,\u001b[0m \u001b[0msample_weight\u001b[0m\u001b[0;34m,\u001b[0m \u001b[0mrandom_state\u001b[0m\u001b[0;34m\u001b[0m\u001b[0;34m\u001b[0m\u001b[0m\n\u001b[1;32m    147\u001b[0m             )\n",
            "\u001b[0;32m/usr/local/lib/python3.8/dist-packages/sklearn/ensemble/_weight_boosting.py\u001b[0m in \u001b[0;36m_boost\u001b[0;34m(self, iboost, X, y, sample_weight, random_state)\u001b[0m\n\u001b[1;32m    546\u001b[0m         \"\"\"\n\u001b[1;32m    547\u001b[0m         \u001b[0;32mif\u001b[0m \u001b[0mself\u001b[0m\u001b[0;34m.\u001b[0m\u001b[0malgorithm\u001b[0m \u001b[0;34m==\u001b[0m \u001b[0;34m\"SAMME.R\"\u001b[0m\u001b[0;34m:\u001b[0m\u001b[0;34m\u001b[0m\u001b[0;34m\u001b[0m\u001b[0m\n\u001b[0;32m--> 548\u001b[0;31m             \u001b[0;32mreturn\u001b[0m \u001b[0mself\u001b[0m\u001b[0;34m.\u001b[0m\u001b[0m_boost_real\u001b[0m\u001b[0;34m(\u001b[0m\u001b[0miboost\u001b[0m\u001b[0;34m,\u001b[0m \u001b[0mX\u001b[0m\u001b[0;34m,\u001b[0m \u001b[0my\u001b[0m\u001b[0;34m,\u001b[0m \u001b[0msample_weight\u001b[0m\u001b[0;34m,\u001b[0m \u001b[0mrandom_state\u001b[0m\u001b[0;34m)\u001b[0m\u001b[0;34m\u001b[0m\u001b[0;34m\u001b[0m\u001b[0m\n\u001b[0m\u001b[1;32m    549\u001b[0m \u001b[0;34m\u001b[0m\u001b[0m\n\u001b[1;32m    550\u001b[0m         \u001b[0;32melse\u001b[0m\u001b[0;34m:\u001b[0m  \u001b[0;31m# elif self.algorithm == \"SAMME\":\u001b[0m\u001b[0;34m\u001b[0m\u001b[0;34m\u001b[0m\u001b[0m\n",
            "\u001b[0;32m/usr/local/lib/python3.8/dist-packages/sklearn/ensemble/_weight_boosting.py\u001b[0m in \u001b[0;36m_boost_real\u001b[0;34m(self, iboost, X, y, sample_weight, random_state)\u001b[0m\n\u001b[1;32m    555\u001b[0m         \u001b[0mestimator\u001b[0m \u001b[0;34m=\u001b[0m \u001b[0mself\u001b[0m\u001b[0;34m.\u001b[0m\u001b[0m_make_estimator\u001b[0m\u001b[0;34m(\u001b[0m\u001b[0mrandom_state\u001b[0m\u001b[0;34m=\u001b[0m\u001b[0mrandom_state\u001b[0m\u001b[0;34m)\u001b[0m\u001b[0;34m\u001b[0m\u001b[0;34m\u001b[0m\u001b[0m\n\u001b[1;32m    556\u001b[0m \u001b[0;34m\u001b[0m\u001b[0m\n\u001b[0;32m--> 557\u001b[0;31m         \u001b[0mestimator\u001b[0m\u001b[0;34m.\u001b[0m\u001b[0mfit\u001b[0m\u001b[0;34m(\u001b[0m\u001b[0mX\u001b[0m\u001b[0;34m,\u001b[0m \u001b[0my\u001b[0m\u001b[0;34m,\u001b[0m \u001b[0msample_weight\u001b[0m\u001b[0;34m=\u001b[0m\u001b[0msample_weight\u001b[0m\u001b[0;34m)\u001b[0m\u001b[0;34m\u001b[0m\u001b[0;34m\u001b[0m\u001b[0m\n\u001b[0m\u001b[1;32m    558\u001b[0m \u001b[0;34m\u001b[0m\u001b[0m\n\u001b[1;32m    559\u001b[0m         \u001b[0my_predict_proba\u001b[0m \u001b[0;34m=\u001b[0m \u001b[0mestimator\u001b[0m\u001b[0;34m.\u001b[0m\u001b[0mpredict_proba\u001b[0m\u001b[0;34m(\u001b[0m\u001b[0mX\u001b[0m\u001b[0;34m)\u001b[0m\u001b[0;34m\u001b[0m\u001b[0;34m\u001b[0m\u001b[0m\n",
            "\u001b[0;32m/usr/local/lib/python3.8/dist-packages/sklearn/tree/_classes.py\u001b[0m in \u001b[0;36mfit\u001b[0;34m(self, X, y, sample_weight, check_input, X_idx_sorted)\u001b[0m\n\u001b[1;32m    935\u001b[0m         \"\"\"\n\u001b[1;32m    936\u001b[0m \u001b[0;34m\u001b[0m\u001b[0m\n\u001b[0;32m--> 937\u001b[0;31m         super().fit(\n\u001b[0m\u001b[1;32m    938\u001b[0m             \u001b[0mX\u001b[0m\u001b[0;34m,\u001b[0m\u001b[0;34m\u001b[0m\u001b[0;34m\u001b[0m\u001b[0m\n\u001b[1;32m    939\u001b[0m             \u001b[0my\u001b[0m\u001b[0;34m,\u001b[0m\u001b[0;34m\u001b[0m\u001b[0;34m\u001b[0m\u001b[0m\n",
            "\u001b[0;32m/usr/local/lib/python3.8/dist-packages/sklearn/tree/_classes.py\u001b[0m in \u001b[0;36mfit\u001b[0;34m(self, X, y, sample_weight, check_input, X_idx_sorted)\u001b[0m\n\u001b[1;32m    418\u001b[0m             )\n\u001b[1;32m    419\u001b[0m \u001b[0;34m\u001b[0m\u001b[0m\n\u001b[0;32m--> 420\u001b[0;31m         \u001b[0mbuilder\u001b[0m\u001b[0;34m.\u001b[0m\u001b[0mbuild\u001b[0m\u001b[0;34m(\u001b[0m\u001b[0mself\u001b[0m\u001b[0;34m.\u001b[0m\u001b[0mtree_\u001b[0m\u001b[0;34m,\u001b[0m \u001b[0mX\u001b[0m\u001b[0;34m,\u001b[0m \u001b[0my\u001b[0m\u001b[0;34m,\u001b[0m \u001b[0msample_weight\u001b[0m\u001b[0;34m)\u001b[0m\u001b[0;34m\u001b[0m\u001b[0;34m\u001b[0m\u001b[0m\n\u001b[0m\u001b[1;32m    421\u001b[0m \u001b[0;34m\u001b[0m\u001b[0m\n\u001b[1;32m    422\u001b[0m         \u001b[0;32mif\u001b[0m \u001b[0mself\u001b[0m\u001b[0;34m.\u001b[0m\u001b[0mn_outputs_\u001b[0m \u001b[0;34m==\u001b[0m \u001b[0;36m1\u001b[0m \u001b[0;32mand\u001b[0m \u001b[0mis_classifier\u001b[0m\u001b[0;34m(\u001b[0m\u001b[0mself\u001b[0m\u001b[0;34m)\u001b[0m\u001b[0;34m:\u001b[0m\u001b[0;34m\u001b[0m\u001b[0;34m\u001b[0m\u001b[0m\n",
            "\u001b[0;31mKeyboardInterrupt\u001b[0m: "
          ]
        }
      ]
    },
    {
      "cell_type": "code",
      "source": [
        "from sklearn.ensemble import AdaBoostClassifier\n",
        "\n",
        "ada_best_estimator = AdaBoostClassifier(n_estimators=best_estimator,random_state=0)\n",
        "ada_best_estimator.fit(X_train, y_train)\n",
        "y_pred = ada_best_estimator.predict(X_test)\n",
        "\n",
        "from sklearn.metrics import classification_report, confusion_matrix, accuracy_score\n",
        "print(confusion_matrix(y_test, y_pred))\n",
        "print(classification_report(y_test,y_pred))\n",
        "print(\"Accurecy: \",accuracy_score(y_test, y_pred))\n",
        "result[(ada_best_estimator,1,'AdaBoostClassifier')]=accuracy_score(y_test, y_pred)"
      ],
      "metadata": {
        "id": "ctzoGCmFo0In"
      },
      "execution_count": null,
      "outputs": []
    },
    {
      "cell_type": "markdown",
      "source": [
        "\n",
        "\n",
        "---\n",
        "\n",
        "\n",
        "\n",
        "---\n",
        "\n"
      ],
      "metadata": {
        "id": "JQhATacCo1AD"
      }
    },
    {
      "cell_type": "markdown",
      "source": [
        "#Graddient Boosting"
      ],
      "metadata": {
        "id": "FJybpt_UvCU0"
      }
    },
    {
      "cell_type": "code",
      "source": [
        "from sklearn.ensemble import GradientBoostingClassifier\n",
        "from sklearn.model_selection import RepeatedStratifiedKFold\n",
        "\n",
        "gradBoost_default = GradientBoostingClassifier(random_state=0)\n",
        "gradBoost_default.fit(X_train, y_train)\n",
        "y_pred = gradBoost_default.predict(X_test)\n",
        "\n",
        "from sklearn.metrics import classification_report, confusion_matrix, accuracy_score\n",
        "print(confusion_matrix(y_test, y_pred))\n",
        "print(classification_report(y_test,y_pred))\n",
        "print(\"Accurecy: \",accuracy_score(y_test, y_pred))\n",
        "result[(gradBoost_default,2,'GradientBoostingClassifier')]=accuracy_score(y_test, y_pred)"
      ],
      "metadata": {
        "id": "sgmvc8A_o18j"
      },
      "execution_count": null,
      "outputs": []
    },
    {
      "cell_type": "code",
      "source": [
        "from sklearn.ensemble import GradientBoostingClassifier\n",
        "from sklearn.metrics import accuracy_score\n",
        "N=150\n",
        "k_range = range (1,N+1)\n",
        "scores={}\n",
        "scores_list = []\n",
        "for k in k_range:\n",
        "  classifier = GradientBoostingClassifier(n_estimators=k,random_state=0)\n",
        "  classifier.fit(X_train, y_train)\n",
        "  y_pred=classifier.predict(X_test)\n",
        "  scores[k] = accuracy_score(y_test,y_pred)\n",
        "  scores_list.append(accuracy_score(y_test,y_pred))\n",
        "  print(str(k)+\"/\"+str(N)+\" round completed......................... Accurecy: \"+str(accuracy_score(y_test,y_pred)))\n",
        "\n",
        "\n",
        "\n",
        "%matplotlib inline\n",
        "import matplotlib.pyplot as plt\n",
        "\n",
        "plt.figure(figsize = (25,10))\n",
        "plt.plot(k_range,scores_list)\n",
        "plt.xlabel('Value of n_estimators')\n",
        "plt.ylabel ('Testing Accuracy')\n",
        "\n",
        "\n",
        "\n",
        "print(\"The best n_estimators:\")\n",
        "best_estimator=list(scores.keys())[scores_list.index(max(scores_list))]\n",
        "print(best_estimator)"
      ],
      "metadata": {
        "id": "9brp-qNgo-tX"
      },
      "execution_count": null,
      "outputs": []
    },
    {
      "cell_type": "code",
      "source": [
        "from sklearn.ensemble import GradientBoostingClassifier\n",
        "from sklearn.metrics import accuracy_score\n",
        "N=30\n",
        "k_range = range (1,N+1)\n",
        "scores={}\n",
        "scores_list = []\n",
        "for k in k_range:\n",
        "  classifier = GradientBoostingClassifier(max_depth=k,random_state=0)\n",
        "  classifier.fit(X_train, y_train)\n",
        "  y_pred=classifier.predict(X_test)\n",
        "  scores[k] = accuracy_score(y_test,y_pred)\n",
        "  scores_list.append(accuracy_score(y_test,y_pred))\n",
        "  print(str(k)+\"/\"+str(N)+\" round completed......................... Accurecy: \"+str(accuracy_score(y_test,y_pred)))\n",
        "\n",
        "\n",
        "\n",
        "%matplotlib inline\n",
        "import matplotlib.pyplot as plt\n",
        "\n",
        "plt.figure(figsize = (25,10))\n",
        "plt.plot(k_range,scores_list)\n",
        "plt.xlabel('Value of n_estimators')\n",
        "plt.ylabel ('Testing Accuracy')\n",
        "\n",
        "\n",
        "\n",
        "print(\"The best Depth:\")\n",
        "best_depth=list(scores.keys())[scores_list.index(max(scores_list))]\n",
        "print(best_depth)"
      ],
      "metadata": {
        "id": "JtO5QAkHpDAy"
      },
      "execution_count": null,
      "outputs": []
    },
    {
      "cell_type": "code",
      "source": [
        "from sklearn.ensemble import GradientBoostingClassifier\n",
        "\n",
        "gradBoost_estimator = GradientBoostingClassifier(n_estimators=best_estimator,random_state=0)\n",
        "gradBoost_estimator.fit(X_train, y_train)\n",
        "y_pred = gradBoost_estimator.predict(X_test)\n",
        "\n",
        "from sklearn.metrics import classification_report, confusion_matrix, accuracy_score\n",
        "print(confusion_matrix(y_test, y_pred))\n",
        "print(classification_report(y_test,y_pred))\n",
        "print(\"Accurecy: \",accuracy_score(y_test, y_pred))\n",
        "result[(gradBoost_estimator,2,'GradientBoostingClassifier')]=accuracy_score(y_test, y_pred)"
      ],
      "metadata": {
        "id": "EFg4mMYepGXx"
      },
      "execution_count": null,
      "outputs": []
    },
    {
      "cell_type": "code",
      "source": [
        "from sklearn.ensemble import GradientBoostingClassifier\n",
        "\n",
        "gradBoost_depth = GradientBoostingClassifier(max_depth=best_depth,random_state=0)\n",
        "gradBoost_depth.fit(X_train, y_train)\n",
        "y_pred = gradBoost_depth.predict(X_test)\n",
        "\n",
        "from sklearn.metrics import classification_report, confusion_matrix, accuracy_score\n",
        "print(confusion_matrix(y_test, y_pred))\n",
        "print(classification_report(y_test,y_pred))\n",
        "print(\"Accurecy: \",accuracy_score(y_test, y_pred))\n",
        "\n",
        "result[(gradBoost_depth,2,'GradientBoostingClassifier')]=accuracy_score(y_test, y_pred)"
      ],
      "metadata": {
        "id": "oS_ycrCQpI09"
      },
      "execution_count": null,
      "outputs": []
    },
    {
      "cell_type": "code",
      "source": [
        "from sklearn.ensemble import GradientBoostingClassifier\n",
        "\n",
        "gradBoost_all = GradientBoostingClassifier(n_estimators=best_estimator,max_depth=best_depth,random_state=0)\n",
        "gradBoost_all.fit(X_train, y_train)\n",
        "y_pred = gradBoost_all.predict(X_test)\n",
        "\n",
        "from sklearn.metrics import classification_report, confusion_matrix, accuracy_score\n",
        "print(confusion_matrix(y_test, y_pred))\n",
        "print(classification_report(y_test,y_pred))\n",
        "print(\"Accurecy: \",accuracy_score(y_test, y_pred))\n",
        "\n",
        "result[(gradBoost_all,2,'GradientBoostingClassifier')]=accuracy_score(y_test, y_pred)"
      ],
      "metadata": {
        "id": "GU8wNje3pJjR"
      },
      "execution_count": null,
      "outputs": []
    },
    {
      "cell_type": "markdown",
      "source": [
        "\n",
        "\n",
        "---\n",
        "\n",
        "\n",
        "\n",
        "---\n",
        "\n"
      ],
      "metadata": {
        "id": "ThoTlhc4pRJT"
      }
    },
    {
      "cell_type": "markdown",
      "source": [
        "#Random Forest"
      ],
      "metadata": {
        "id": "AgMT_U8gvM7F"
      }
    },
    {
      "cell_type": "code",
      "source": [
        "from sklearn.ensemble import RandomForestClassifier\n",
        "rf_default = RandomForestClassifier(random_state=0)\n",
        "rf_default.fit(X_train, y_train)\n",
        "y_pred=rf_default.predict(X_test)\n",
        "\n",
        "\n",
        "from sklearn.metrics import classification_report, confusion_matrix, accuracy_score\n",
        "print(confusion_matrix(y_test, y_pred))\n",
        "print(classification_report(y_test,y_pred))\n",
        "print(\"Accurecy: \",accuracy_score(y_test, y_pred))\n",
        "result[(rf_default,3,'RandomForestClassifier')]=accuracy_score(y_test, y_pred)"
      ],
      "metadata": {
        "id": "-4GMunEvtWk2"
      },
      "execution_count": null,
      "outputs": []
    },
    {
      "cell_type": "code",
      "source": [
        "from sklearn.ensemble import RandomForestClassifier\n",
        "from sklearn.metrics import accuracy_score\n",
        "N=150\n",
        "k_range = range (1,N+1)\n",
        "scores={}\n",
        "scores_list = []\n",
        "for k in k_range:\n",
        "  classifier = RandomForestClassifier(n_estimators=k,random_state=0)\n",
        "  classifier.fit(X_train, y_train)\n",
        "  y_pred=classifier.predict(X_test)\n",
        "  scores[k] = accuracy_score(y_test,y_pred)\n",
        "  scores_list.append(accuracy_score(y_test,y_pred))\n",
        "  print(str(k)+\"/\"+str(N)+\" round completed......................... Accurecy: \"+str(accuracy_score(y_test,y_pred)))\n",
        "\n",
        "\n",
        "\n",
        "%matplotlib inline\n",
        "import matplotlib.pyplot as plt\n",
        "\n",
        "plt.figure(figsize = (25,10))\n",
        "plt.plot(k_range,scores_list)\n",
        "plt.xlabel('Value of n_estimators')\n",
        "plt.ylabel ('Testing Accuracy')\n",
        "\n",
        "\n",
        "\n",
        "print(\"The best n_estimators:\")\n",
        "best_estimator=list(scores.keys())[scores_list.index(max(scores_list))]\n",
        "print(best_estimator)"
      ],
      "metadata": {
        "id": "ve34YgestieE"
      },
      "execution_count": null,
      "outputs": []
    },
    {
      "cell_type": "code",
      "source": [
        "from sklearn.ensemble import RandomForestClassifier\n",
        "from sklearn.metrics import accuracy_score\n",
        "N=150\n",
        "k_range = range (1,N+1)\n",
        "scores={}\n",
        "scores_list = []\n",
        "for k in k_range:\n",
        "  classifier = RandomForestClassifier(max_depth=k,random_state=0)\n",
        "  classifier.fit(X_train, y_train)\n",
        "  y_pred=classifier.predict(X_test)\n",
        "  scores[k] = accuracy_score(y_test,y_pred)\n",
        "  scores_list.append(accuracy_score(y_test,y_pred))\n",
        "  print(str(k)+\"/\"+str(N)+\" round completed......................... Accurecy: \"+str(accuracy_score(y_test,y_pred)))\n",
        "\n",
        "\n",
        "\n",
        "%matplotlib inline\n",
        "import matplotlib.pyplot as plt\n",
        "\n",
        "plt.figure(figsize = (25,10))\n",
        "plt.plot(k_range,scores_list)\n",
        "plt.xlabel('Value of n_estimators')\n",
        "plt.ylabel ('Testing Accuracy')\n",
        "\n",
        "\n",
        "\n",
        "print(\"The best Depth:\")\n",
        "best_depth=list(scores.keys())[scores_list.index(max(scores_list))]\n",
        "print(best_depth)"
      ],
      "metadata": {
        "id": "eVfKbSTWtnny"
      },
      "execution_count": null,
      "outputs": []
    },
    {
      "cell_type": "code",
      "source": [
        "from sklearn.ensemble import RandomForestClassifier\n",
        "rf_estimator = RandomForestClassifier(n_estimators=best_estimator,random_state=0)\n",
        "rf_estimator.fit(X_train, y_train)\n",
        "y_pred=rf_estimator.predict(X_test)\n",
        "\n",
        "\n",
        "from sklearn.metrics import classification_report, confusion_matrix, accuracy_score\n",
        "print(confusion_matrix(y_test, y_pred))\n",
        "print(classification_report(y_test,y_pred))\n",
        "print(\"Accurecy: \",accuracy_score(y_test, y_pred))\n",
        "result[(rf_estimator,3,'RandomForestClassifier')]=accuracy_score(y_test, y_pred)"
      ],
      "metadata": {
        "id": "LMUwwEqUt2-T"
      },
      "execution_count": null,
      "outputs": []
    },
    {
      "cell_type": "code",
      "source": [
        "from sklearn.ensemble import RandomForestClassifier\n",
        "rf_depth = RandomForestClassifier(max_depth=best_depth,random_state=0)\n",
        "rf_depth.fit(X_train, y_train)\n",
        "y_pred=rf_depth.predict(X_test)\n",
        "\n",
        "\n",
        "from sklearn.metrics import classification_report, confusion_matrix, accuracy_score\n",
        "print(confusion_matrix(y_test, y_pred))\n",
        "print(classification_report(y_test,y_pred))\n",
        "print(\"Accurecy: \",accuracy_score(y_test, y_pred))\n",
        "result[(rf_depth,3,'RandomForestClassifier')]=accuracy_score(y_test, y_pred)"
      ],
      "metadata": {
        "id": "NRybS4-nt_vO"
      },
      "execution_count": null,
      "outputs": []
    },
    {
      "cell_type": "code",
      "source": [
        "from sklearn.ensemble import RandomForestClassifier\n",
        "rf_all = RandomForestClassifier(n_estimators=best_estimator,max_depth=best_depth,random_state=0)\n",
        "rf_all.fit(X_train, y_train)\n",
        "y_pred=rf_all.predict(X_test)\n",
        "\n",
        "\n",
        "from sklearn.metrics import classification_report, confusion_matrix, accuracy_score\n",
        "print(confusion_matrix(y_test, y_pred))\n",
        "print(classification_report(y_test,y_pred))\n",
        "print(\"Accurecy: \",accuracy_score(y_test, y_pred))\n",
        "result[(rf_all,3,'RandomForestClassifier')]=accuracy_score(y_test, y_pred)"
      ],
      "metadata": {
        "id": "G9p0fJyBtrdZ"
      },
      "execution_count": null,
      "outputs": []
    },
    {
      "cell_type": "markdown",
      "source": [
        "\n",
        "\n",
        "---\n",
        "\n",
        "\n",
        "\n",
        "---\n",
        "\n"
      ],
      "metadata": {
        "id": "G_DChNuquB92"
      }
    },
    {
      "cell_type": "markdown",
      "source": [
        "#XGB"
      ],
      "metadata": {
        "id": "jRG4cBnKvZU2"
      }
    },
    {
      "cell_type": "code",
      "source": [
        "\n",
        "\n",
        "import xgboost as xgb\n",
        "xgb_deafult = xgb.XGBClassifier(random_state=0)\n",
        "xgb_deafult.fit(X_train,y_train)\n",
        "y_pred = xgb_deafult.predict(X_test)\n",
        "\n",
        "\n",
        "from sklearn.metrics import classification_report, confusion_matrix, accuracy_score\n",
        "print(confusion_matrix(y_test, y_pred))\n",
        "print(classification_report(y_test,y_pred))\n",
        "print(\"Accurecy: \",accuracy_score(y_test, y_pred))\n",
        "result[(xgb_deafult,4,'xgboost')]=accuracy_score(y_test, y_pred)"
      ],
      "metadata": {
        "id": "sC1lAZeeuCw8",
        "colab": {
          "base_uri": "https://localhost:8080/"
        },
        "outputId": "cd32c49b-7903-48c7-df60-49db4fb18bb2"
      },
      "execution_count": 19,
      "outputs": [
        {
          "output_type": "stream",
          "name": "stdout",
          "text": [
            "[[129  16  17   1]\n",
            " [ 13 126   3   3]\n",
            " [ 14  10 119  25]\n",
            " [  3   3  19 134]]\n",
            "              precision    recall  f1-score   support\n",
            "\n",
            "           0       0.81      0.79      0.80       163\n",
            "           1       0.81      0.87      0.84       145\n",
            "           2       0.75      0.71      0.73       168\n",
            "           3       0.82      0.84      0.83       159\n",
            "\n",
            "    accuracy                           0.80       635\n",
            "   macro avg       0.80      0.80      0.80       635\n",
            "weighted avg       0.80      0.80      0.80       635\n",
            "\n",
            "Accurecy:  0.8\n"
          ]
        }
      ]
    },
    {
      "cell_type": "code",
      "source": [
        "import xgboost as xgb\n",
        "from sklearn.metrics import accuracy_score\n",
        "N=250\n",
        "k_range = range (1,N+1)\n",
        "scores={}\n",
        "scores_list = []\n",
        "for k in k_range:\n",
        "  xgb_classifier = xgb.XGBClassifier(n_estimators=k,random_state=0)\n",
        "  xgb_classifier.fit(X_train, y_train)\n",
        "  y_pred=xgb_classifier.predict(X_test)\n",
        "  scores[k] = accuracy_score(y_test,y_pred)\n",
        "  scores_list.append(accuracy_score(y_test,y_pred))\n",
        "  print(str(k)+\"/\"+str(N)+\" round completed......................... Accurecy: \"+str(accuracy_score(y_test,y_pred)))\n",
        "\n",
        "\n",
        "%matplotlib inline\n",
        "import matplotlib.pyplot as plt\n",
        "\n",
        "plt.figure(figsize = (25,10))\n",
        "plt.plot(k_range,scores_list)\n",
        "plt.xlabel('Value of n_estimators')\n",
        "plt.ylabel ('Testing Accuracy')\n",
        "\n",
        "\n",
        "\n",
        "print(\"The best n_estimators:\")\n",
        "best_estimator=list(scores.keys())[scores_list.index(max(scores_list))]\n",
        "print(best_estimator)"
      ],
      "metadata": {
        "id": "YQYsfVO0uPMA",
        "colab": {
          "base_uri": "https://localhost:8080/",
          "height": 0
        },
        "outputId": "68fac225-4501-4ded-8f6b-53276b6959de"
      },
      "execution_count": 20,
      "outputs": [
        {
          "output_type": "stream",
          "name": "stdout",
          "text": [
            "1/250 round completed......................... Accurecy: 0.6236220472440945\n",
            "2/250 round completed......................... Accurecy: 0.6346456692913386\n",
            "3/250 round completed......................... Accurecy: 0.6440944881889764\n",
            "4/250 round completed......................... Accurecy: 0.6519685039370079\n",
            "5/250 round completed......................... Accurecy: 0.647244094488189\n",
            "6/250 round completed......................... Accurecy: 0.662992125984252\n",
            "7/250 round completed......................... Accurecy: 0.6598425196850394\n",
            "8/250 round completed......................... Accurecy: 0.6787401574803149\n",
            "9/250 round completed......................... Accurecy: 0.6803149606299213\n",
            "10/250 round completed......................... Accurecy: 0.6740157480314961\n",
            "11/250 round completed......................... Accurecy: 0.6834645669291338\n",
            "12/250 round completed......................... Accurecy: 0.6834645669291338\n",
            "13/250 round completed......................... Accurecy: 0.6881889763779527\n",
            "14/250 round completed......................... Accurecy: 0.694488188976378\n",
            "15/250 round completed......................... Accurecy: 0.6913385826771653\n",
            "16/250 round completed......................... Accurecy: 0.6929133858267716\n",
            "17/250 round completed......................... Accurecy: 0.7023622047244095\n",
            "18/250 round completed......................... Accurecy: 0.7007874015748031\n",
            "19/250 round completed......................... Accurecy: 0.7070866141732284\n",
            "20/250 round completed......................... Accurecy: 0.7118110236220473\n",
            "21/250 round completed......................... Accurecy: 0.710236220472441\n",
            "22/250 round completed......................... Accurecy: 0.7086614173228346\n",
            "23/250 round completed......................... Accurecy: 0.7165354330708661\n",
            "24/250 round completed......................... Accurecy: 0.7181102362204724\n",
            "25/250 round completed......................... Accurecy: 0.7181102362204724\n",
            "26/250 round completed......................... Accurecy: 0.7196850393700788\n",
            "27/250 round completed......................... Accurecy: 0.721259842519685\n",
            "28/250 round completed......................... Accurecy: 0.7275590551181103\n",
            "29/250 round completed......................... Accurecy: 0.7259842519685039\n",
            "30/250 round completed......................... Accurecy: 0.7275590551181103\n",
            "31/250 round completed......................... Accurecy: 0.7338582677165354\n",
            "32/250 round completed......................... Accurecy: 0.7338582677165354\n",
            "33/250 round completed......................... Accurecy: 0.7338582677165354\n",
            "34/250 round completed......................... Accurecy: 0.7354330708661417\n",
            "35/250 round completed......................... Accurecy: 0.7354330708661417\n",
            "36/250 round completed......................... Accurecy: 0.7354330708661417\n",
            "37/250 round completed......................... Accurecy: 0.7354330708661417\n",
            "38/250 round completed......................... Accurecy: 0.7401574803149606\n",
            "39/250 round completed......................... Accurecy: 0.7401574803149606\n",
            "40/250 round completed......................... Accurecy: 0.7385826771653543\n",
            "41/250 round completed......................... Accurecy: 0.7417322834645669\n",
            "42/250 round completed......................... Accurecy: 0.7370078740157481\n",
            "43/250 round completed......................... Accurecy: 0.7385826771653543\n",
            "44/250 round completed......................... Accurecy: 0.7417322834645669\n",
            "45/250 round completed......................... Accurecy: 0.7464566929133858\n",
            "46/250 round completed......................... Accurecy: 0.7511811023622047\n",
            "47/250 round completed......................... Accurecy: 0.7464566929133858\n",
            "48/250 round completed......................... Accurecy: 0.752755905511811\n",
            "49/250 round completed......................... Accurecy: 0.7559055118110236\n",
            "50/250 round completed......................... Accurecy: 0.7590551181102362\n",
            "51/250 round completed......................... Accurecy: 0.75748031496063\n",
            "52/250 round completed......................... Accurecy: 0.752755905511811\n",
            "53/250 round completed......................... Accurecy: 0.7543307086614173\n",
            "54/250 round completed......................... Accurecy: 0.7590551181102362\n",
            "55/250 round completed......................... Accurecy: 0.7606299212598425\n",
            "56/250 round completed......................... Accurecy: 0.7590551181102362\n",
            "57/250 round completed......................... Accurecy: 0.7590551181102362\n",
            "58/250 round completed......................... Accurecy: 0.7622047244094489\n",
            "59/250 round completed......................... Accurecy: 0.7669291338582677\n",
            "60/250 round completed......................... Accurecy: 0.7700787401574803\n",
            "61/250 round completed......................... Accurecy: 0.7700787401574803\n",
            "62/250 round completed......................... Accurecy: 0.7700787401574803\n",
            "63/250 round completed......................... Accurecy: 0.7716535433070866\n",
            "64/250 round completed......................... Accurecy: 0.7732283464566929\n",
            "65/250 round completed......................... Accurecy: 0.7748031496062993\n",
            "66/250 round completed......................... Accurecy: 0.7826771653543307\n",
            "67/250 round completed......................... Accurecy: 0.7826771653543307\n",
            "68/250 round completed......................... Accurecy: 0.7795275590551181\n",
            "69/250 round completed......................... Accurecy: 0.7811023622047244\n",
            "70/250 round completed......................... Accurecy: 0.784251968503937\n",
            "71/250 round completed......................... Accurecy: 0.7811023622047244\n",
            "72/250 round completed......................... Accurecy: 0.7811023622047244\n",
            "73/250 round completed......................... Accurecy: 0.7811023622047244\n",
            "74/250 round completed......................... Accurecy: 0.7826771653543307\n",
            "75/250 round completed......................... Accurecy: 0.784251968503937\n",
            "76/250 round completed......................... Accurecy: 0.7858267716535433\n",
            "77/250 round completed......................... Accurecy: 0.7889763779527559\n",
            "78/250 round completed......................... Accurecy: 0.7889763779527559\n",
            "79/250 round completed......................... Accurecy: 0.7889763779527559\n",
            "80/250 round completed......................... Accurecy: 0.7874015748031497\n",
            "81/250 round completed......................... Accurecy: 0.7905511811023622\n",
            "82/250 round completed......................... Accurecy: 0.7889763779527559\n",
            "83/250 round completed......................... Accurecy: 0.7874015748031497\n",
            "84/250 round completed......................... Accurecy: 0.7874015748031497\n",
            "85/250 round completed......................... Accurecy: 0.7889763779527559\n",
            "86/250 round completed......................... Accurecy: 0.7905511811023622\n",
            "87/250 round completed......................... Accurecy: 0.7968503937007874\n",
            "88/250 round completed......................... Accurecy: 0.7968503937007874\n",
            "89/250 round completed......................... Accurecy: 0.7937007874015748\n",
            "90/250 round completed......................... Accurecy: 0.7952755905511811\n",
            "91/250 round completed......................... Accurecy: 0.7952755905511811\n",
            "92/250 round completed......................... Accurecy: 0.7921259842519685\n",
            "93/250 round completed......................... Accurecy: 0.7968503937007874\n",
            "94/250 round completed......................... Accurecy: 0.7968503937007874\n",
            "95/250 round completed......................... Accurecy: 0.7968503937007874\n",
            "96/250 round completed......................... Accurecy: 0.7984251968503937\n",
            "97/250 round completed......................... Accurecy: 0.8\n",
            "98/250 round completed......................... Accurecy: 0.8\n",
            "99/250 round completed......................... Accurecy: 0.8\n",
            "100/250 round completed......................... Accurecy: 0.8\n",
            "101/250 round completed......................... Accurecy: 0.7984251968503937\n",
            "102/250 round completed......................... Accurecy: 0.8\n",
            "103/250 round completed......................... Accurecy: 0.8\n",
            "104/250 round completed......................... Accurecy: 0.8015748031496063\n",
            "105/250 round completed......................... Accurecy: 0.8031496062992126\n",
            "106/250 round completed......................... Accurecy: 0.8\n",
            "107/250 round completed......................... Accurecy: 0.8015748031496063\n",
            "108/250 round completed......................... Accurecy: 0.8031496062992126\n",
            "109/250 round completed......................... Accurecy: 0.8047244094488188\n",
            "110/250 round completed......................... Accurecy: 0.8047244094488188\n",
            "111/250 round completed......................... Accurecy: 0.8031496062992126\n",
            "112/250 round completed......................... Accurecy: 0.8078740157480315\n",
            "113/250 round completed......................... Accurecy: 0.8094488188976378\n",
            "114/250 round completed......................... Accurecy: 0.8110236220472441\n",
            "115/250 round completed......................... Accurecy: 0.8094488188976378\n",
            "116/250 round completed......................... Accurecy: 0.8094488188976378\n",
            "117/250 round completed......................... Accurecy: 0.8094488188976378\n",
            "118/250 round completed......................... Accurecy: 0.8110236220472441\n",
            "119/250 round completed......................... Accurecy: 0.8094488188976378\n",
            "120/250 round completed......................... Accurecy: 0.8141732283464567\n",
            "121/250 round completed......................... Accurecy: 0.815748031496063\n",
            "122/250 round completed......................... Accurecy: 0.8188976377952756\n",
            "123/250 round completed......................... Accurecy: 0.815748031496063\n",
            "124/250 round completed......................... Accurecy: 0.815748031496063\n",
            "125/250 round completed......................... Accurecy: 0.8173228346456692\n",
            "126/250 round completed......................... Accurecy: 0.815748031496063\n",
            "127/250 round completed......................... Accurecy: 0.8188976377952756\n",
            "128/250 round completed......................... Accurecy: 0.8173228346456692\n",
            "129/250 round completed......................... Accurecy: 0.8204724409448819\n",
            "130/250 round completed......................... Accurecy: 0.8204724409448819\n",
            "131/250 round completed......................... Accurecy: 0.8220472440944881\n",
            "132/250 round completed......................... Accurecy: 0.8220472440944881\n",
            "133/250 round completed......................... Accurecy: 0.8204724409448819\n",
            "134/250 round completed......................... Accurecy: 0.8188976377952756\n",
            "135/250 round completed......................... Accurecy: 0.8188976377952756\n",
            "136/250 round completed......................... Accurecy: 0.8220472440944881\n",
            "137/250 round completed......................... Accurecy: 0.8204724409448819\n",
            "138/250 round completed......................... Accurecy: 0.8173228346456692\n",
            "139/250 round completed......................... Accurecy: 0.8188976377952756\n",
            "140/250 round completed......................... Accurecy: 0.815748031496063\n",
            "141/250 round completed......................... Accurecy: 0.815748031496063\n",
            "142/250 round completed......................... Accurecy: 0.8173228346456692\n",
            "143/250 round completed......................... Accurecy: 0.8188976377952756\n",
            "144/250 round completed......................... Accurecy: 0.8204724409448819\n",
            "145/250 round completed......................... Accurecy: 0.8204724409448819\n",
            "146/250 round completed......................... Accurecy: 0.8188976377952756\n",
            "147/250 round completed......................... Accurecy: 0.8220472440944881\n",
            "148/250 round completed......................... Accurecy: 0.8204724409448819\n",
            "149/250 round completed......................... Accurecy: 0.8204724409448819\n",
            "150/250 round completed......................... Accurecy: 0.8220472440944881\n",
            "151/250 round completed......................... Accurecy: 0.8251968503937008\n",
            "152/250 round completed......................... Accurecy: 0.8251968503937008\n",
            "153/250 round completed......................... Accurecy: 0.8267716535433071\n",
            "154/250 round completed......................... Accurecy: 0.8251968503937008\n",
            "155/250 round completed......................... Accurecy: 0.8236220472440945\n",
            "156/250 round completed......................... Accurecy: 0.8236220472440945\n",
            "157/250 round completed......................... Accurecy: 0.8204724409448819\n",
            "158/250 round completed......................... Accurecy: 0.8188976377952756\n",
            "159/250 round completed......................... Accurecy: 0.8251968503937008\n",
            "160/250 round completed......................... Accurecy: 0.8267716535433071\n",
            "161/250 round completed......................... Accurecy: 0.8251968503937008\n",
            "162/250 round completed......................... Accurecy: 0.8267716535433071\n",
            "163/250 round completed......................... Accurecy: 0.8283464566929134\n",
            "164/250 round completed......................... Accurecy: 0.8299212598425196\n",
            "165/250 round completed......................... Accurecy: 0.8283464566929134\n",
            "166/250 round completed......................... Accurecy: 0.8236220472440945\n",
            "167/250 round completed......................... Accurecy: 0.8251968503937008\n",
            "168/250 round completed......................... Accurecy: 0.8267716535433071\n",
            "169/250 round completed......................... Accurecy: 0.8267716535433071\n",
            "170/250 round completed......................... Accurecy: 0.8330708661417323\n",
            "171/250 round completed......................... Accurecy: 0.831496062992126\n",
            "172/250 round completed......................... Accurecy: 0.8330708661417323\n",
            "173/250 round completed......................... Accurecy: 0.8330708661417323\n",
            "174/250 round completed......................... Accurecy: 0.8362204724409449\n",
            "175/250 round completed......................... Accurecy: 0.8346456692913385\n",
            "176/250 round completed......................... Accurecy: 0.8346456692913385\n",
            "177/250 round completed......................... Accurecy: 0.8346456692913385\n",
            "178/250 round completed......................... Accurecy: 0.8346456692913385\n",
            "179/250 round completed......................... Accurecy: 0.8330708661417323\n",
            "180/250 round completed......................... Accurecy: 0.8377952755905512\n",
            "181/250 round completed......................... Accurecy: 0.8362204724409449\n",
            "182/250 round completed......................... Accurecy: 0.8393700787401575\n",
            "183/250 round completed......................... Accurecy: 0.8362204724409449\n",
            "184/250 round completed......................... Accurecy: 0.8362204724409449\n",
            "185/250 round completed......................... Accurecy: 0.8362204724409449\n",
            "186/250 round completed......................... Accurecy: 0.8377952755905512\n",
            "187/250 round completed......................... Accurecy: 0.8393700787401575\n",
            "188/250 round completed......................... Accurecy: 0.8362204724409449\n",
            "189/250 round completed......................... Accurecy: 0.8346456692913385\n",
            "190/250 round completed......................... Accurecy: 0.8377952755905512\n",
            "191/250 round completed......................... Accurecy: 0.8346456692913385\n",
            "192/250 round completed......................... Accurecy: 0.8346456692913385\n",
            "193/250 round completed......................... Accurecy: 0.8346456692913385\n",
            "194/250 round completed......................... Accurecy: 0.8346456692913385\n",
            "195/250 round completed......................... Accurecy: 0.8346456692913385\n",
            "196/250 round completed......................... Accurecy: 0.8362204724409449\n",
            "197/250 round completed......................... Accurecy: 0.8377952755905512\n",
            "198/250 round completed......................... Accurecy: 0.8377952755905512\n",
            "199/250 round completed......................... Accurecy: 0.8362204724409449\n",
            "200/250 round completed......................... Accurecy: 0.8330708661417323\n",
            "201/250 round completed......................... Accurecy: 0.8346456692913385\n",
            "202/250 round completed......................... Accurecy: 0.8362204724409449\n",
            "203/250 round completed......................... Accurecy: 0.8346456692913385\n",
            "204/250 round completed......................... Accurecy: 0.8377952755905512\n",
            "205/250 round completed......................... Accurecy: 0.8393700787401575\n",
            "206/250 round completed......................... Accurecy: 0.8377952755905512\n",
            "207/250 round completed......................... Accurecy: 0.8377952755905512\n",
            "208/250 round completed......................... Accurecy: 0.8362204724409449\n",
            "209/250 round completed......................... Accurecy: 0.8346456692913385\n",
            "210/250 round completed......................... Accurecy: 0.8346456692913385\n",
            "211/250 round completed......................... Accurecy: 0.8346456692913385\n",
            "212/250 round completed......................... Accurecy: 0.8362204724409449\n",
            "213/250 round completed......................... Accurecy: 0.8377952755905512\n",
            "214/250 round completed......................... Accurecy: 0.8409448818897638\n",
            "215/250 round completed......................... Accurecy: 0.8393700787401575\n",
            "216/250 round completed......................... Accurecy: 0.8393700787401575\n",
            "217/250 round completed......................... Accurecy: 0.8377952755905512\n",
            "218/250 round completed......................... Accurecy: 0.8409448818897638\n",
            "219/250 round completed......................... Accurecy: 0.8393700787401575\n",
            "220/250 round completed......................... Accurecy: 0.8393700787401575\n",
            "221/250 round completed......................... Accurecy: 0.8393700787401575\n",
            "222/250 round completed......................... Accurecy: 0.8377952755905512\n",
            "223/250 round completed......................... Accurecy: 0.8393700787401575\n",
            "224/250 round completed......................... Accurecy: 0.8393700787401575\n",
            "225/250 round completed......................... Accurecy: 0.8409448818897638\n",
            "226/250 round completed......................... Accurecy: 0.8409448818897638\n",
            "227/250 round completed......................... Accurecy: 0.8409448818897638\n",
            "228/250 round completed......................... Accurecy: 0.8393700787401575\n",
            "229/250 round completed......................... Accurecy: 0.8393700787401575\n",
            "230/250 round completed......................... Accurecy: 0.8393700787401575\n",
            "231/250 round completed......................... Accurecy: 0.8377952755905512\n",
            "232/250 round completed......................... Accurecy: 0.8393700787401575\n",
            "233/250 round completed......................... Accurecy: 0.8377952755905512\n",
            "234/250 round completed......................... Accurecy: 0.8377952755905512\n",
            "235/250 round completed......................... Accurecy: 0.8377952755905512\n",
            "236/250 round completed......................... Accurecy: 0.8409448818897638\n",
            "237/250 round completed......................... Accurecy: 0.8393700787401575\n",
            "238/250 round completed......................... Accurecy: 0.8393700787401575\n",
            "239/250 round completed......................... Accurecy: 0.8377952755905512\n",
            "240/250 round completed......................... Accurecy: 0.8362204724409449\n",
            "241/250 round completed......................... Accurecy: 0.8362204724409449\n",
            "242/250 round completed......................... Accurecy: 0.8362204724409449\n",
            "243/250 round completed......................... Accurecy: 0.8377952755905512\n",
            "244/250 round completed......................... Accurecy: 0.8362204724409449\n",
            "245/250 round completed......................... Accurecy: 0.8377952755905512\n",
            "246/250 round completed......................... Accurecy: 0.8377952755905512\n",
            "247/250 round completed......................... Accurecy: 0.8377952755905512\n",
            "248/250 round completed......................... Accurecy: 0.8377952755905512\n",
            "249/250 round completed......................... Accurecy: 0.8393700787401575\n",
            "250/250 round completed......................... Accurecy: 0.8393700787401575\n",
            "The best n_estimators:\n",
            "214\n"
          ]
        },
        {
          "output_type": "display_data",
          "data": {
            "text/plain": [
              "<Figure size 1800x720 with 1 Axes>"
            ],
            "image/png": "[encoded data removed]"
          },
          "metadata": {
            "needs_background": "light"
          }
        }
      ]
    },
    {
      "cell_type": "code",
      "source": [
        "import xgboost as xgb\n",
        "from sklearn.metrics import accuracy_score\n",
        "N=250\n",
        "k_range = range (1,N+1)\n",
        "scores={}\n",
        "scores_list = []\n",
        "for k in k_range:\n",
        "  xgb_classifier = xgb.XGBClassifier(max_depth=k,random_state=0)\n",
        "  xgb_classifier.fit(X_train, y_train)\n",
        "  y_pred=xgb_classifier.predict(X_test)\n",
        "  scores[k] = accuracy_score(y_test,y_pred)\n",
        "  scores_list.append(accuracy_score(y_test,y_pred))\n",
        "  print(str(k)+\"/\"+str(N)+\" round completed......................... Accurecy: \"+str(accuracy_score(y_test,y_pred)))\n",
        "\n",
        "\n",
        "%matplotlib inline\n",
        "import matplotlib.pyplot as plt\n",
        "\n",
        "plt.figure(figsize = (25,10))\n",
        "plt.plot(k_range,scores_list)\n",
        "plt.xlabel('Value of n_estimators')\n",
        "plt.ylabel ('Testing Accuracy')\n",
        "\n",
        "\n",
        "\n",
        "print(\"The best depth:\")\n",
        "best_depth=list(scores.keys())[scores_list.index(max(scores_list))]\n",
        "print(best_depth)"
      ],
      "metadata": {
        "id": "ABex6e-3kxuX",
        "colab": {
          "base_uri": "https://localhost:8080/",
          "height": 0
        },
        "outputId": "71d26b69-1b32-48a4-8e0f-1e3f664c2dfd"
      },
      "execution_count": 21,
      "outputs": [
        {
          "output_type": "stream",
          "name": "stdout",
          "text": [
            "1/250 round completed......................... Accurecy: 0.6645669291338583\n",
            "2/250 round completed......................... Accurecy: 0.7354330708661417\n",
            "3/250 round completed......................... Accurecy: 0.8\n",
            "4/250 round completed......................... Accurecy: 0.8409448818897638\n",
            "5/250 round completed......................... Accurecy: 0.8535433070866142\n",
            "6/250 round completed......................... Accurecy: 0.8692913385826772\n",
            "7/250 round completed......................... Accurecy: 0.8818897637795275\n",
            "8/250 round completed......................... Accurecy: 0.8803149606299212\n",
            "9/250 round completed......................... Accurecy: 0.8755905511811024\n",
            "10/250 round completed......................... Accurecy: 0.8803149606299212\n",
            "11/250 round completed......................... Accurecy: 0.8866141732283465\n",
            "12/250 round completed......................... Accurecy: 0.8850393700787401\n",
            "13/250 round completed......................... Accurecy: 0.8740157480314961\n",
            "14/250 round completed......................... Accurecy: 0.8677165354330708\n",
            "15/250 round completed......................... Accurecy: 0.8692913385826772\n",
            "16/250 round completed......................... Accurecy: 0.8740157480314961\n",
            "17/250 round completed......................... Accurecy: 0.8740157480314961\n",
            "18/250 round completed......................... Accurecy: 0.8755905511811024\n",
            "19/250 round completed......................... Accurecy: 0.8708661417322835\n",
            "20/250 round completed......................... Accurecy: 0.8692913385826772\n",
            "21/250 round completed......................... Accurecy: 0.8724409448818897\n",
            "22/250 round completed......................... Accurecy: 0.8724409448818897\n",
            "23/250 round completed......................... Accurecy: 0.8740157480314961\n",
            "24/250 round completed......................... Accurecy: 0.8708661417322835\n",
            "25/250 round completed......................... Accurecy: 0.8692913385826772\n",
            "26/250 round completed......................... Accurecy: 0.8692913385826772\n",
            "27/250 round completed......................... Accurecy: 0.8692913385826772\n",
            "28/250 round completed......................... Accurecy: 0.8692913385826772\n",
            "29/250 round completed......................... Accurecy: 0.8692913385826772\n",
            "30/250 round completed......................... Accurecy: 0.8692913385826772\n",
            "31/250 round completed......................... Accurecy: 0.8692913385826772\n",
            "32/250 round completed......................... Accurecy: 0.8692913385826772\n",
            "33/250 round completed......................... Accurecy: 0.8692913385826772\n",
            "34/250 round completed......................... Accurecy: 0.8692913385826772\n",
            "35/250 round completed......................... Accurecy: 0.8692913385826772\n",
            "36/250 round completed......................... Accurecy: 0.8692913385826772\n",
            "37/250 round completed......................... Accurecy: 0.8692913385826772\n",
            "38/250 round completed......................... Accurecy: 0.8692913385826772\n",
            "39/250 round completed......................... Accurecy: 0.8692913385826772\n",
            "40/250 round completed......................... Accurecy: 0.8692913385826772\n",
            "41/250 round completed......................... Accurecy: 0.8692913385826772\n",
            "42/250 round completed......................... Accurecy: 0.8692913385826772\n",
            "43/250 round completed......................... Accurecy: 0.8692913385826772\n",
            "44/250 round completed......................... Accurecy: 0.8692913385826772\n",
            "45/250 round completed......................... Accurecy: 0.8692913385826772\n",
            "46/250 round completed......................... Accurecy: 0.8692913385826772\n",
            "47/250 round completed......................... Accurecy: 0.8692913385826772\n",
            "48/250 round completed......................... Accurecy: 0.8692913385826772\n",
            "49/250 round completed......................... Accurecy: 0.8692913385826772\n",
            "50/250 round completed......................... Accurecy: 0.8692913385826772\n",
            "51/250 round completed......................... Accurecy: 0.8692913385826772\n",
            "52/250 round completed......................... Accurecy: 0.8692913385826772\n",
            "53/250 round completed......................... Accurecy: 0.8692913385826772\n",
            "54/250 round completed......................... Accurecy: 0.8692913385826772\n",
            "55/250 round completed......................... Accurecy: 0.8692913385826772\n",
            "56/250 round completed......................... Accurecy: 0.8692913385826772\n",
            "57/250 round completed......................... Accurecy: 0.8692913385826772\n",
            "58/250 round completed......................... Accurecy: 0.8692913385826772\n",
            "59/250 round completed......................... Accurecy: 0.8692913385826772\n",
            "60/250 round completed......................... Accurecy: 0.8692913385826772\n",
            "61/250 round completed......................... Accurecy: 0.8692913385826772\n",
            "62/250 round completed......................... Accurecy: 0.8692913385826772\n",
            "63/250 round completed......................... Accurecy: 0.8692913385826772\n",
            "64/250 round completed......................... Accurecy: 0.8692913385826772\n",
            "65/250 round completed......................... Accurecy: 0.8692913385826772\n",
            "66/250 round completed......................... Accurecy: 0.8692913385826772\n",
            "67/250 round completed......................... Accurecy: 0.8692913385826772\n",
            "68/250 round completed......................... Accurecy: 0.8692913385826772\n",
            "69/250 round completed......................... Accurecy: 0.8692913385826772\n",
            "70/250 round completed......................... Accurecy: 0.8692913385826772\n",
            "71/250 round completed......................... Accurecy: 0.8692913385826772\n",
            "72/250 round completed......................... Accurecy: 0.8692913385826772\n",
            "73/250 round completed......................... Accurecy: 0.8692913385826772\n",
            "74/250 round completed......................... Accurecy: 0.8692913385826772\n",
            "75/250 round completed......................... Accurecy: 0.8692913385826772\n",
            "76/250 round completed......................... Accurecy: 0.8692913385826772\n",
            "77/250 round completed......................... Accurecy: 0.8692913385826772\n",
            "78/250 round completed......................... Accurecy: 0.8692913385826772\n",
            "79/250 round completed......................... Accurecy: 0.8692913385826772\n",
            "80/250 round completed......................... Accurecy: 0.8692913385826772\n",
            "81/250 round completed......................... Accurecy: 0.8692913385826772\n",
            "82/250 round completed......................... Accurecy: 0.8692913385826772\n",
            "83/250 round completed......................... Accurecy: 0.8692913385826772\n",
            "84/250 round completed......................... Accurecy: 0.8692913385826772\n",
            "85/250 round completed......................... Accurecy: 0.8692913385826772\n",
            "86/250 round completed......................... Accurecy: 0.8692913385826772\n",
            "87/250 round completed......................... Accurecy: 0.8692913385826772\n",
            "88/250 round completed......................... Accurecy: 0.8692913385826772\n",
            "89/250 round completed......................... Accurecy: 0.8692913385826772\n",
            "90/250 round completed......................... Accurecy: 0.8692913385826772\n",
            "91/250 round completed......................... Accurecy: 0.8692913385826772\n",
            "92/250 round completed......................... Accurecy: 0.8692913385826772\n",
            "93/250 round completed......................... Accurecy: 0.8692913385826772\n",
            "94/250 round completed......................... Accurecy: 0.8692913385826772\n",
            "95/250 round completed......................... Accurecy: 0.8692913385826772\n",
            "96/250 round completed......................... Accurecy: 0.8692913385826772\n",
            "97/250 round completed......................... Accurecy: 0.8692913385826772\n",
            "98/250 round completed......................... Accurecy: 0.8692913385826772\n",
            "99/250 round completed......................... Accurecy: 0.8692913385826772\n",
            "100/250 round completed......................... Accurecy: 0.8692913385826772\n",
            "101/250 round completed......................... Accurecy: 0.8692913385826772\n",
            "102/250 round completed......................... Accurecy: 0.8692913385826772\n",
            "103/250 round completed......................... Accurecy: 0.8692913385826772\n",
            "104/250 round completed......................... Accurecy: 0.8692913385826772\n",
            "105/250 round completed......................... Accurecy: 0.8692913385826772\n",
            "106/250 round completed......................... Accurecy: 0.8692913385826772\n",
            "107/250 round completed......................... Accurecy: 0.8692913385826772\n",
            "108/250 round completed......................... Accurecy: 0.8692913385826772\n",
            "109/250 round completed......................... Accurecy: 0.8692913385826772\n",
            "110/250 round completed......................... Accurecy: 0.8692913385826772\n",
            "111/250 round completed......................... Accurecy: 0.8692913385826772\n",
            "112/250 round completed......................... Accurecy: 0.8692913385826772\n",
            "113/250 round completed......................... Accurecy: 0.8692913385826772\n",
            "114/250 round completed......................... Accurecy: 0.8692913385826772\n",
            "115/250 round completed......................... Accurecy: 0.8692913385826772\n",
            "116/250 round completed......................... Accurecy: 0.8692913385826772\n",
            "117/250 round completed......................... Accurecy: 0.8692913385826772\n",
            "118/250 round completed......................... Accurecy: 0.8692913385826772\n",
            "119/250 round completed......................... Accurecy: 0.8692913385826772\n",
            "120/250 round completed......................... Accurecy: 0.8692913385826772\n",
            "121/250 round completed......................... Accurecy: 0.8692913385826772\n",
            "122/250 round completed......................... Accurecy: 0.8692913385826772\n",
            "123/250 round completed......................... Accurecy: 0.8692913385826772\n",
            "124/250 round completed......................... Accurecy: 0.8692913385826772\n",
            "125/250 round completed......................... Accurecy: 0.8692913385826772\n",
            "126/250 round completed......................... Accurecy: 0.8692913385826772\n",
            "127/250 round completed......................... Accurecy: 0.8692913385826772\n",
            "128/250 round completed......................... Accurecy: 0.8692913385826772\n",
            "129/250 round completed......................... Accurecy: 0.8692913385826772\n",
            "130/250 round completed......................... Accurecy: 0.8692913385826772\n",
            "131/250 round completed......................... Accurecy: 0.8692913385826772\n",
            "132/250 round completed......................... Accurecy: 0.8692913385826772\n",
            "133/250 round completed......................... Accurecy: 0.8692913385826772\n",
            "134/250 round completed......................... Accurecy: 0.8692913385826772\n",
            "135/250 round completed......................... Accurecy: 0.8692913385826772\n",
            "136/250 round completed......................... Accurecy: 0.8692913385826772\n",
            "137/250 round completed......................... Accurecy: 0.8692913385826772\n",
            "138/250 round completed......................... Accurecy: 0.8692913385826772\n",
            "139/250 round completed......................... Accurecy: 0.8692913385826772\n",
            "140/250 round completed......................... Accurecy: 0.8692913385826772\n",
            "141/250 round completed......................... Accurecy: 0.8692913385826772\n",
            "142/250 round completed......................... Accurecy: 0.8692913385826772\n",
            "143/250 round completed......................... Accurecy: 0.8692913385826772\n",
            "144/250 round completed......................... Accurecy: 0.8692913385826772\n",
            "145/250 round completed......................... Accurecy: 0.8692913385826772\n",
            "146/250 round completed......................... Accurecy: 0.8692913385826772\n",
            "147/250 round completed......................... Accurecy: 0.8692913385826772\n",
            "148/250 round completed......................... Accurecy: 0.8692913385826772\n",
            "149/250 round completed......................... Accurecy: 0.8692913385826772\n",
            "150/250 round completed......................... Accurecy: 0.8692913385826772\n",
            "151/250 round completed......................... Accurecy: 0.8692913385826772\n",
            "152/250 round completed......................... Accurecy: 0.8692913385826772\n",
            "153/250 round completed......................... Accurecy: 0.8692913385826772\n",
            "154/250 round completed......................... Accurecy: 0.8692913385826772\n",
            "155/250 round completed......................... Accurecy: 0.8692913385826772\n",
            "156/250 round completed......................... Accurecy: 0.8692913385826772\n",
            "157/250 round completed......................... Accurecy: 0.8692913385826772\n",
            "158/250 round completed......................... Accurecy: 0.8692913385826772\n",
            "159/250 round completed......................... Accurecy: 0.8692913385826772\n",
            "160/250 round completed......................... Accurecy: 0.8692913385826772\n",
            "161/250 round completed......................... Accurecy: 0.8692913385826772\n",
            "162/250 round completed......................... Accurecy: 0.8692913385826772\n",
            "163/250 round completed......................... Accurecy: 0.8692913385826772\n",
            "164/250 round completed......................... Accurecy: 0.8692913385826772\n",
            "165/250 round completed......................... Accurecy: 0.8692913385826772\n",
            "166/250 round completed......................... Accurecy: 0.8692913385826772\n",
            "167/250 round completed......................... Accurecy: 0.8692913385826772\n",
            "168/250 round completed......................... Accurecy: 0.8692913385826772\n",
            "169/250 round completed......................... Accurecy: 0.8692913385826772\n",
            "170/250 round completed......................... Accurecy: 0.8692913385826772\n",
            "171/250 round completed......................... Accurecy: 0.8692913385826772\n",
            "172/250 round completed......................... Accurecy: 0.8692913385826772\n",
            "173/250 round completed......................... Accurecy: 0.8692913385826772\n",
            "174/250 round completed......................... Accurecy: 0.8692913385826772\n",
            "175/250 round completed......................... Accurecy: 0.8692913385826772\n",
            "176/250 round completed......................... Accurecy: 0.8692913385826772\n",
            "177/250 round completed......................... Accurecy: 0.8692913385826772\n",
            "178/250 round completed......................... Accurecy: 0.8692913385826772\n",
            "179/250 round completed......................... Accurecy: 0.8692913385826772\n",
            "180/250 round completed......................... Accurecy: 0.8692913385826772\n",
            "181/250 round completed......................... Accurecy: 0.8692913385826772\n",
            "182/250 round completed......................... Accurecy: 0.8692913385826772\n",
            "183/250 round completed......................... Accurecy: 0.8692913385826772\n",
            "184/250 round completed......................... Accurecy: 0.8692913385826772\n",
            "185/250 round completed......................... Accurecy: 0.8692913385826772\n",
            "186/250 round completed......................... Accurecy: 0.8692913385826772\n",
            "187/250 round completed......................... Accurecy: 0.8692913385826772\n",
            "188/250 round completed......................... Accurecy: 0.8692913385826772\n",
            "189/250 round completed......................... Accurecy: 0.8692913385826772\n",
            "190/250 round completed......................... Accurecy: 0.8692913385826772\n",
            "191/250 round completed......................... Accurecy: 0.8692913385826772\n",
            "192/250 round completed......................... Accurecy: 0.8692913385826772\n",
            "193/250 round completed......................... Accurecy: 0.8692913385826772\n",
            "194/250 round completed......................... Accurecy: 0.8692913385826772\n",
            "195/250 round completed......................... Accurecy: 0.8692913385826772\n",
            "196/250 round completed......................... Accurecy: 0.8692913385826772\n",
            "197/250 round completed......................... Accurecy: 0.8692913385826772\n",
            "198/250 round completed......................... Accurecy: 0.8692913385826772\n",
            "199/250 round completed......................... Accurecy: 0.8692913385826772\n",
            "200/250 round completed......................... Accurecy: 0.8692913385826772\n",
            "201/250 round completed......................... Accurecy: 0.8692913385826772\n",
            "202/250 round completed......................... Accurecy: 0.8692913385826772\n",
            "203/250 round completed......................... Accurecy: 0.8692913385826772\n",
            "204/250 round completed......................... Accurecy: 0.8692913385826772\n",
            "205/250 round completed......................... Accurecy: 0.8692913385826772\n",
            "206/250 round completed......................... Accurecy: 0.8692913385826772\n",
            "207/250 round completed......................... Accurecy: 0.8692913385826772\n",
            "208/250 round completed......................... Accurecy: 0.8692913385826772\n",
            "209/250 round completed......................... Accurecy: 0.8692913385826772\n",
            "210/250 round completed......................... Accurecy: 0.8692913385826772\n",
            "211/250 round completed......................... Accurecy: 0.8692913385826772\n",
            "212/250 round completed......................... Accurecy: 0.8692913385826772\n",
            "213/250 round completed......................... Accurecy: 0.8692913385826772\n",
            "214/250 round completed......................... Accurecy: 0.8692913385826772\n",
            "215/250 round completed......................... Accurecy: 0.8692913385826772\n",
            "216/250 round completed......................... Accurecy: 0.8692913385826772\n",
            "217/250 round completed......................... Accurecy: 0.8692913385826772\n",
            "218/250 round completed......................... Accurecy: 0.8692913385826772\n",
            "219/250 round completed......................... Accurecy: 0.8692913385826772\n",
            "220/250 round completed......................... Accurecy: 0.8692913385826772\n",
            "221/250 round completed......................... Accurecy: 0.8692913385826772\n",
            "222/250 round completed......................... Accurecy: 0.8692913385826772\n",
            "223/250 round completed......................... Accurecy: 0.8692913385826772\n",
            "224/250 round completed......................... Accurecy: 0.8692913385826772\n",
            "225/250 round completed......................... Accurecy: 0.8692913385826772\n",
            "226/250 round completed......................... Accurecy: 0.8692913385826772\n",
            "227/250 round completed......................... Accurecy: 0.8692913385826772\n",
            "228/250 round completed......................... Accurecy: 0.8692913385826772\n",
            "229/250 round completed......................... Accurecy: 0.8692913385826772\n",
            "230/250 round completed......................... Accurecy: 0.8692913385826772\n",
            "231/250 round completed......................... Accurecy: 0.8692913385826772\n",
            "232/250 round completed......................... Accurecy: 0.8692913385826772\n",
            "233/250 round completed......................... Accurecy: 0.8692913385826772\n",
            "234/250 round completed......................... Accurecy: 0.8692913385826772\n",
            "235/250 round completed......................... Accurecy: 0.8692913385826772\n",
            "236/250 round completed......................... Accurecy: 0.8692913385826772\n",
            "237/250 round completed......................... Accurecy: 0.8692913385826772\n",
            "238/250 round completed......................... Accurecy: 0.8692913385826772\n",
            "239/250 round completed......................... Accurecy: 0.8692913385826772\n",
            "240/250 round completed......................... Accurecy: 0.8692913385826772\n",
            "241/250 round completed......................... Accurecy: 0.8692913385826772\n",
            "242/250 round completed......................... Accurecy: 0.8692913385826772\n",
            "243/250 round completed......................... Accurecy: 0.8692913385826772\n",
            "244/250 round completed......................... Accurecy: 0.8692913385826772\n",
            "245/250 round completed......................... Accurecy: 0.8692913385826772\n",
            "246/250 round completed......................... Accurecy: 0.8692913385826772\n",
            "247/250 round completed......................... Accurecy: 0.8692913385826772\n",
            "248/250 round completed......................... Accurecy: 0.8692913385826772\n",
            "249/250 round completed......................... Accurecy: 0.8692913385826772\n",
            "250/250 round completed......................... Accurecy: 0.8692913385826772\n",
            "The best depth:\n",
            "11\n"
          ]
        },
        {
          "output_type": "display_data",
          "data": {
            "text/plain": [
              "<Figure size 1800x720 with 1 Axes>"
            ],
            "image/png": "[encoded data removed]"
          },
          "metadata": {
            "needs_background": "light"
          }
        }
      ]
    },
    {
      "cell_type": "code",
      "source": [
        "import xgboost as xgb\n",
        "xgb_depth = xgb.XGBClassifier(max_depth=best_depth,random_state=0)\n",
        "xgb_depth.fit(X_train,y_train)\n",
        "y_pred = xgb_depth.predict(X_test)\n",
        "\n",
        "\n",
        "from sklearn.metrics import classification_report, confusion_matrix, accuracy_score\n",
        "print(confusion_matrix(y_test, y_pred))\n",
        "print(classification_report(y_test,y_pred))\n",
        "print(\"Accurecy: \",accuracy_score(y_test, y_pred))\n",
        "result[(xgb_depth,4,'xgboost')]=accuracy_score(y_test, y_pred)\n",
        "print(xgb_depth)"
      ],
      "metadata": {
        "id": "lfBp-uGXuaKY",
        "colab": {
          "base_uri": "https://localhost:8080/"
        },
        "outputId": "978d5eb4-2829-48bc-b24f-16587304ede5"
      },
      "execution_count": 22,
      "outputs": [
        {
          "output_type": "stream",
          "name": "stdout",
          "text": [
            "[[138   9  16   0]\n",
            " [  6 136   2   1]\n",
            " [ 11   6 137  14]\n",
            " [  3   1   3 152]]\n",
            "              precision    recall  f1-score   support\n",
            "\n",
            "           0       0.87      0.85      0.86       163\n",
            "           1       0.89      0.94      0.92       145\n",
            "           2       0.87      0.82      0.84       168\n",
            "           3       0.91      0.96      0.93       159\n",
            "\n",
            "    accuracy                           0.89       635\n",
            "   macro avg       0.89      0.89      0.89       635\n",
            "weighted avg       0.89      0.89      0.89       635\n",
            "\n",
            "Accurecy:  0.8866141732283465\n",
            "XGBClassifier(max_depth=11, objective='multi:softprob')\n"
          ]
        }
      ]
    },
    {
      "cell_type": "code",
      "source": [
        "import xgboost as xgb\n",
        "xgb_estimator = xgb.XGBClassifier(n_estimators=best_estimator,random_state=0)\n",
        "xgb_estimator.fit(X_train,y_train)\n",
        "y_pred = xgb_estimator.predict(X_test)\n",
        "\n",
        "\n",
        "from sklearn.metrics import classification_report, confusion_matrix, accuracy_score\n",
        "print(confusion_matrix(y_test, y_pred))\n",
        "print(classification_report(y_test,y_pred))\n",
        "print(\"Accurecy: \",accuracy_score(y_test, y_pred))\n",
        "result[(xgb_estimator,4,'xgboost')]=accuracy_score(y_test, y_pred)\n",
        "print(xgb_estimator)"
      ],
      "metadata": {
        "id": "_qBm-yTqzOsi",
        "colab": {
          "base_uri": "https://localhost:8080/"
        },
        "outputId": "539dd32b-e11c-40d8-d9d9-f6cb78bd2f3f"
      },
      "execution_count": 23,
      "outputs": [
        {
          "output_type": "stream",
          "name": "stdout",
          "text": [
            "[[131  15  16   1]\n",
            " [  7 135   3   0]\n",
            " [ 14  10 126  18]\n",
            " [  4   2  11 142]]\n",
            "              precision    recall  f1-score   support\n",
            "\n",
            "           0       0.84      0.80      0.82       163\n",
            "           1       0.83      0.93      0.88       145\n",
            "           2       0.81      0.75      0.78       168\n",
            "           3       0.88      0.89      0.89       159\n",
            "\n",
            "    accuracy                           0.84       635\n",
            "   macro avg       0.84      0.84      0.84       635\n",
            "weighted avg       0.84      0.84      0.84       635\n",
            "\n",
            "Accurecy:  0.8409448818897638\n",
            "XGBClassifier(n_estimators=214, objective='multi:softprob')\n"
          ]
        }
      ]
    },
    {
      "cell_type": "code",
      "source": [
        "import xgboost as xgb\n",
        "xgb_all = xgb.XGBClassifier(n_estimators=best_estimator,max_depth=best_depth,random_state=0)\n",
        "xgb_all.fit(X_train,y_train)\n",
        "y_pred = xgb_all.predict(X_test)\n",
        "\n",
        "\n",
        "from sklearn.metrics import classification_report, confusion_matrix, accuracy_score\n",
        "print(confusion_matrix(y_test, y_pred))\n",
        "print(classification_report(y_test,y_pred))\n",
        "print(\"Accurecy: \",accuracy_score(y_test, y_pred))\n",
        "result[(xgb_all,4,'xgboost')]=accuracy_score(y_test, y_pred)"
      ],
      "metadata": {
        "id": "zW-0PfT-zX3C",
        "colab": {
          "base_uri": "https://localhost:8080/"
        },
        "outputId": "43e6c861-56de-4442-dfdc-079e4605efe1"
      },
      "execution_count": 24,
      "outputs": [
        {
          "output_type": "stream",
          "name": "stdout",
          "text": [
            "[[135  11  17   0]\n",
            " [  7 137   1   0]\n",
            " [ 12   6 138  12]\n",
            " [  3   1   3 152]]\n",
            "              precision    recall  f1-score   support\n",
            "\n",
            "           0       0.86      0.83      0.84       163\n",
            "           1       0.88      0.94      0.91       145\n",
            "           2       0.87      0.82      0.84       168\n",
            "           3       0.93      0.96      0.94       159\n",
            "\n",
            "    accuracy                           0.89       635\n",
            "   macro avg       0.88      0.89      0.89       635\n",
            "weighted avg       0.88      0.89      0.88       635\n",
            "\n",
            "Accurecy:  0.8850393700787401\n"
          ]
        }
      ]
    },
    {
      "cell_type": "markdown",
      "source": [
        "#KNN"
      ],
      "metadata": {
        "id": "K6_icFWdauSI"
      }
    },
    {
      "cell_type": "code",
      "source": [
        "from sklearn.neighbors import KNeighborsClassifier\n",
        "knn_default = KNeighborsClassifier()\n",
        "knn_default.fit(X_train, y_train)\n",
        "y_pred=knn_default.predict(X_test)\n",
        "\n",
        "\n",
        "from sklearn.metrics import classification_report, confusion_matrix, accuracy_score\n",
        "print(confusion_matrix(y_test, y_pred))\n",
        "print(classification_report(y_test,y_pred))\n",
        "print(\"Accurecy: \",accuracy_score(y_test, y_pred))\n",
        "result[(knn_default,5,'KNeighborsClassifier')]=accuracy_score(y_test, y_pred)"
      ],
      "metadata": {
        "id": "6GALUBYbaz1z",
        "colab": {
          "base_uri": "https://localhost:8080/"
        },
        "outputId": "4bf835e5-4f27-4058-e512-3f8022043c2b"
      },
      "execution_count": 25,
      "outputs": [
        {
          "output_type": "stream",
          "name": "stdout",
          "text": [
            "[[104  25  27   7]\n",
            " [  9 134   2   0]\n",
            " [ 12  13 126  17]\n",
            " [  5   1   9 144]]\n",
            "              precision    recall  f1-score   support\n",
            "\n",
            "           0       0.80      0.64      0.71       163\n",
            "           1       0.77      0.92      0.84       145\n",
            "           2       0.77      0.75      0.76       168\n",
            "           3       0.86      0.91      0.88       159\n",
            "\n",
            "    accuracy                           0.80       635\n",
            "   macro avg       0.80      0.80      0.80       635\n",
            "weighted avg       0.80      0.80      0.80       635\n",
            "\n",
            "Accurecy:  0.8\n"
          ]
        }
      ]
    },
    {
      "cell_type": "code",
      "source": [
        "from sklearn.neighbors import KNeighborsClassifier\n",
        "from sklearn.metrics import accuracy_score\n",
        "Neighbors=105\n",
        "k_range = range (1,Neighbors+1)\n",
        "scores={}\n",
        "scores_list = []\n",
        "for k in k_range:\n",
        "  knn = KNeighborsClassifier(n_neighbors=k)\n",
        "  knn.fit(X_train, y_train)\n",
        "  y_pred=knn.predict(X_test)\n",
        "  scores[k] = accuracy_score(y_test,y_pred)\n",
        "  scores_list.append(accuracy_score(y_test,y_pred))\n",
        "  print(str(k)+\"/\"+str(Neighbors)+\" round completed......................... Accurecy: \"+str(accuracy_score(y_test,y_pred)))\n",
        "\n",
        "\n",
        "%matplotlib inline\n",
        "import matplotlib.pyplot as plt\n",
        "\n",
        "plt.figure(figsize = (25,10))\n",
        "plt.plot(k_range,scores_list)\n",
        "plt.xlabel('Value of n_estimators')\n",
        "plt.ylabel ('Testing Accuracy')\n",
        "\n",
        "\n",
        "\n",
        "print(\"The best Depth:\")\n",
        "best=list(scores.keys())[scores_list.index(max(scores_list))]\n",
        "print(best)"
      ],
      "metadata": {
        "id": "CpSsmYDHa-VF",
        "colab": {
          "base_uri": "https://localhost:8080/",
          "height": 0
        },
        "outputId": "6d2e7504-00be-447e-a0e6-d1c47f3dea47"
      },
      "execution_count": 26,
      "outputs": [
        {
          "output_type": "stream",
          "name": "stdout",
          "text": [
            "1/105 round completed......................... Accurecy: 0.8850393700787401\n",
            "2/105 round completed......................... Accurecy: 0.8519685039370078\n",
            "3/105 round completed......................... Accurecy: 0.831496062992126\n",
            "4/105 round completed......................... Accurecy: 0.8236220472440945\n",
            "5/105 round completed......................... Accurecy: 0.8\n",
            "6/105 round completed......................... Accurecy: 0.7952755905511811\n",
            "7/105 round completed......................... Accurecy: 0.7905511811023622\n",
            "8/105 round completed......................... Accurecy: 0.7779527559055118\n",
            "9/105 round completed......................... Accurecy: 0.768503937007874\n",
            "10/105 round completed......................... Accurecy: 0.7622047244094489\n",
            "11/105 round completed......................... Accurecy: 0.7559055118110236\n",
            "12/105 round completed......................... Accurecy: 0.7543307086614173\n",
            "13/105 round completed......................... Accurecy: 0.7291338582677165\n",
            "14/105 round completed......................... Accurecy: 0.7228346456692913\n",
            "15/105 round completed......................... Accurecy: 0.7118110236220473\n",
            "16/105 round completed......................... Accurecy: 0.7070866141732284\n",
            "17/105 round completed......................... Accurecy: 0.6929133858267716\n",
            "18/105 round completed......................... Accurecy: 0.6992125984251969\n",
            "19/105 round completed......................... Accurecy: 0.7023622047244095\n",
            "20/105 round completed......................... Accurecy: 0.6960629921259842\n",
            "21/105 round completed......................... Accurecy: 0.6881889763779527\n",
            "22/105 round completed......................... Accurecy: 0.6818897637795276\n",
            "23/105 round completed......................... Accurecy: 0.6897637795275591\n",
            "24/105 round completed......................... Accurecy: 0.6913385826771653\n",
            "25/105 round completed......................... Accurecy: 0.7007874015748031\n",
            "26/105 round completed......................... Accurecy: 0.6976377952755906\n",
            "27/105 round completed......................... Accurecy: 0.6913385826771653\n",
            "28/105 round completed......................... Accurecy: 0.6881889763779527\n",
            "29/105 round completed......................... Accurecy: 0.6929133858267716\n",
            "30/105 round completed......................... Accurecy: 0.6881889763779527\n",
            "31/105 round completed......................... Accurecy: 0.6881889763779527\n",
            "32/105 round completed......................... Accurecy: 0.6771653543307087\n",
            "33/105 round completed......................... Accurecy: 0.6803149606299213\n",
            "34/105 round completed......................... Accurecy: 0.6708661417322834\n",
            "35/105 round completed......................... Accurecy: 0.6771653543307087\n",
            "36/105 round completed......................... Accurecy: 0.6661417322834645\n",
            "37/105 round completed......................... Accurecy: 0.6708661417322834\n",
            "38/105 round completed......................... Accurecy: 0.658267716535433\n",
            "39/105 round completed......................... Accurecy: 0.6598425196850394\n",
            "40/105 round completed......................... Accurecy: 0.6661417322834645\n",
            "41/105 round completed......................... Accurecy: 0.6614173228346457\n",
            "42/105 round completed......................... Accurecy: 0.662992125984252\n",
            "43/105 round completed......................... Accurecy: 0.6519685039370079\n",
            "44/105 round completed......................... Accurecy: 0.6551181102362205\n",
            "45/105 round completed......................... Accurecy: 0.6440944881889764\n",
            "46/105 round completed......................... Accurecy: 0.647244094488189\n",
            "47/105 round completed......................... Accurecy: 0.6456692913385826\n",
            "48/105 round completed......................... Accurecy: 0.6393700787401575\n",
            "49/105 round completed......................... Accurecy: 0.6362204724409449\n",
            "50/105 round completed......................... Accurecy: 0.6251968503937008\n",
            "51/105 round completed......................... Accurecy: 0.6236220472440945\n",
            "52/105 round completed......................... Accurecy: 0.6220472440944882\n",
            "53/105 round completed......................... Accurecy: 0.6204724409448819\n",
            "54/105 round completed......................... Accurecy: 0.6141732283464567\n",
            "55/105 round completed......................... Accurecy: 0.6141732283464567\n",
            "56/105 round completed......................... Accurecy: 0.6110236220472441\n",
            "57/105 round completed......................... Accurecy: 0.6110236220472441\n",
            "58/105 round completed......................... Accurecy: 0.6062992125984252\n",
            "59/105 round completed......................... Accurecy: 0.6015748031496063\n",
            "60/105 round completed......................... Accurecy: 0.6015748031496063\n",
            "61/105 round completed......................... Accurecy: 0.6\n",
            "62/105 round completed......................... Accurecy: 0.6015748031496063\n",
            "63/105 round completed......................... Accurecy: 0.5952755905511811\n",
            "64/105 round completed......................... Accurecy: 0.6078740157480315\n",
            "65/105 round completed......................... Accurecy: 0.6015748031496063\n",
            "66/105 round completed......................... Accurecy: 0.6062992125984252\n",
            "67/105 round completed......................... Accurecy: 0.5952755905511811\n",
            "68/105 round completed......................... Accurecy: 0.5984251968503937\n",
            "69/105 round completed......................... Accurecy: 0.5905511811023622\n",
            "70/105 round completed......................... Accurecy: 0.5937007874015748\n",
            "71/105 round completed......................... Accurecy: 0.5921259842519685\n",
            "72/105 round completed......................... Accurecy: 0.5889763779527559\n",
            "73/105 round completed......................... Accurecy: 0.5874015748031496\n",
            "74/105 round completed......................... Accurecy: 0.5874015748031496\n",
            "75/105 round completed......................... Accurecy: 0.5826771653543307\n",
            "76/105 round completed......................... Accurecy: 0.5826771653543307\n",
            "77/105 round completed......................... Accurecy: 0.5779527559055118\n",
            "78/105 round completed......................... Accurecy: 0.5795275590551181\n",
            "79/105 round completed......................... Accurecy: 0.5795275590551181\n",
            "80/105 round completed......................... Accurecy: 0.5795275590551181\n",
            "81/105 round completed......................... Accurecy: 0.5795275590551181\n",
            "82/105 round completed......................... Accurecy: 0.5811023622047244\n",
            "83/105 round completed......................... Accurecy: 0.5795275590551181\n",
            "84/105 round completed......................... Accurecy: 0.5763779527559055\n",
            "85/105 round completed......................... Accurecy: 0.5748031496062992\n",
            "86/105 round completed......................... Accurecy: 0.5748031496062992\n",
            "87/105 round completed......................... Accurecy: 0.5811023622047244\n",
            "88/105 round completed......................... Accurecy: 0.5763779527559055\n",
            "89/105 round completed......................... Accurecy: 0.5779527559055118\n",
            "90/105 round completed......................... Accurecy: 0.5779527559055118\n",
            "91/105 round completed......................... Accurecy: 0.5779527559055118\n",
            "92/105 round completed......................... Accurecy: 0.5748031496062992\n",
            "93/105 round completed......................... Accurecy: 0.5700787401574803\n",
            "94/105 round completed......................... Accurecy: 0.5637795275590551\n",
            "95/105 round completed......................... Accurecy: 0.5700787401574803\n",
            "96/105 round completed......................... Accurecy: 0.5637795275590551\n",
            "97/105 round completed......................... Accurecy: 0.568503937007874\n",
            "98/105 round completed......................... Accurecy: 0.568503937007874\n",
            "99/105 round completed......................... Accurecy: 0.568503937007874\n",
            "100/105 round completed......................... Accurecy: 0.5653543307086614\n",
            "101/105 round completed......................... Accurecy: 0.5622047244094488\n",
            "102/105 round completed......................... Accurecy: 0.5574803149606299\n",
            "103/105 round completed......................... Accurecy: 0.5574803149606299\n",
            "104/105 round completed......................... Accurecy: 0.5559055118110237\n",
            "105/105 round completed......................... Accurecy: 0.5574803149606299\n",
            "The best Depth:\n",
            "1\n"
          ]
        },
        {
          "output_type": "display_data",
          "data": {
            "text/plain": [
              "<Figure size 1800x720 with 1 Axes>"
            ],
            "image/png": "[encoded data removed]"
          },
          "metadata": {
            "needs_background": "light"
          }
        }
      ]
    },
    {
      "cell_type": "code",
      "source": [
        "from sklearn.neighbors import KNeighborsClassifier\n",
        "knn_neighbors = KNeighborsClassifier(n_neighbors=best)\n",
        "knn_neighbors.fit(X_train, y_train)\n",
        "y_pred=knn_neighbors.predict(X_test)\n",
        "\n",
        "\n",
        "from sklearn.metrics import classification_report, confusion_matrix, accuracy_score\n",
        "print(confusion_matrix(y_test, y_pred))\n",
        "print(classification_report(y_test,y_pred))\n",
        "print(\"Accurecy: \",accuracy_score(y_test, y_pred))\n",
        "result[(knn_neighbors,5,'KNeighborsClassifier')]=accuracy_score(y_test, y_pred)"
      ],
      "metadata": {
        "id": "MIVJZYV8bCjo",
        "colab": {
          "base_uri": "https://localhost:8080/"
        },
        "outputId": "b8d001b4-baf3-4e62-84aa-f05512c4771e"
      },
      "execution_count": 27,
      "outputs": [
        {
          "output_type": "stream",
          "name": "stdout",
          "text": [
            "[[115  21  20   7]\n",
            " [  2 143   0   0]\n",
            " [  5   5 151   7]\n",
            " [  1   0   5 153]]\n",
            "              precision    recall  f1-score   support\n",
            "\n",
            "           0       0.93      0.71      0.80       163\n",
            "           1       0.85      0.99      0.91       145\n",
            "           2       0.86      0.90      0.88       168\n",
            "           3       0.92      0.96      0.94       159\n",
            "\n",
            "    accuracy                           0.89       635\n",
            "   macro avg       0.89      0.89      0.88       635\n",
            "weighted avg       0.89      0.89      0.88       635\n",
            "\n",
            "Accurecy:  0.8850393700787401\n"
          ]
        }
      ]
    },
    {
      "cell_type": "markdown",
      "source": [
        "#NB"
      ],
      "metadata": {
        "id": "_Btki9jRvc1Y"
      }
    },
    {
      "cell_type": "code",
      "source": [
        "from sklearn.naive_bayes import GaussianNB\n",
        "\n",
        "nb_deafult = GaussianNB()\n",
        "nb_deafult.fit(X_train, y_train)\n",
        "y_pred = nb_deafult.predict(X_test)\n",
        "\n",
        "\n",
        "from sklearn.metrics import classification_report, confusion_matrix, accuracy_score\n",
        "print(confusion_matrix(y_test, y_pred))\n",
        "print(classification_report(y_test,y_pred))\n",
        "print(\"Accurecy: \",accuracy_score(y_test, y_pred))\n",
        "result[(nb_deafult,6,'GaussianNB')]=accuracy_score(y_test, y_pred)"
      ],
      "metadata": {
        "id": "iRmd7ve-ubcd",
        "colab": {
          "base_uri": "https://localhost:8080/"
        },
        "outputId": "e41bfc1e-ad22-43ee-c190-fe17b903e1d3"
      },
      "execution_count": 28,
      "outputs": [
        {
          "output_type": "stream",
          "name": "stdout",
          "text": [
            "[[140   5   8  10]\n",
            " [118  12   1  14]\n",
            " [ 86   5  47  30]\n",
            " [ 29   3  10 117]]\n",
            "              precision    recall  f1-score   support\n",
            "\n",
            "           0       0.38      0.86      0.52       163\n",
            "           1       0.48      0.08      0.14       145\n",
            "           2       0.71      0.28      0.40       168\n",
            "           3       0.68      0.74      0.71       159\n",
            "\n",
            "    accuracy                           0.50       635\n",
            "   macro avg       0.56      0.49      0.44       635\n",
            "weighted avg       0.57      0.50      0.45       635\n",
            "\n",
            "Accurecy:  0.49763779527559054\n"
          ]
        }
      ]
    },
    {
      "cell_type": "markdown",
      "source": [
        "\n",
        "\n",
        "---\n",
        "\n",
        "\n",
        "\n",
        "---\n",
        "\n"
      ],
      "metadata": {
        "id": "qqsWPAB3uv72"
      }
    },
    {
      "cell_type": "markdown",
      "source": [
        "#Result"
      ],
      "metadata": {
        "id": "6FEsxCdvkg2D"
      }
    },
    {
      "cell_type": "code",
      "source": [
        "\n",
        "models=[]\n",
        "\n",
        "for i in result:\n",
        "  models.append(i[0])\n",
        "  print(i[0],i[1],\" : \",result[i])\n",
        "  print(\"---------------------------------------------------------------\")\n",
        "  print()\n"
      ],
      "metadata": {
        "id": "rx7qCLU14Aim",
        "colab": {
          "base_uri": "https://localhost:8080/"
        },
        "outputId": "c49dd5c2-11fd-4179-9718-5a2012e127e2"
      },
      "execution_count": 29,
      "outputs": [
        {
          "output_type": "stream",
          "name": "stdout",
          "text": [
            "AdaBoostClassifier(random_state=0) 1  :  0.5858267716535434\n",
            "---------------------------------------------------------------\n",
            "\n",
            "XGBClassifier(objective='multi:softprob') 4  :  0.8\n",
            "---------------------------------------------------------------\n",
            "\n",
            "XGBClassifier(max_depth=11, objective='multi:softprob') 4  :  0.8866141732283465\n",
            "---------------------------------------------------------------\n",
            "\n",
            "XGBClassifier(n_estimators=214, objective='multi:softprob') 4  :  0.8409448818897638\n",
            "---------------------------------------------------------------\n",
            "\n",
            "XGBClassifier(max_depth=11, n_estimators=214, objective='multi:softprob') 4  :  0.8850393700787401\n",
            "---------------------------------------------------------------\n",
            "\n",
            "KNeighborsClassifier() 5  :  0.8\n",
            "---------------------------------------------------------------\n",
            "\n",
            "KNeighborsClassifier(n_neighbors=1) 5  :  0.8850393700787401\n",
            "---------------------------------------------------------------\n",
            "\n",
            "GaussianNB() 6  :  0.49763779527559054\n",
            "---------------------------------------------------------------\n",
            "\n"
          ]
        }
      ]
    },
    {
      "cell_type": "code",
      "source": [
        "sorted_list=[]\n",
        "sorted_list = sorted(result, key=result.get,reverse=True)\n",
        "\n",
        "for i in sorted_list:\n",
        "  print(i,\"  : \",result[i])\n",
        "  print(\"-------------------------------------------------------------------------------------------------\")\n",
        "\n",
        "print(sorted_list)\n",
        "\n",
        "\n",
        "flage=[]\n",
        "best_models=[]\n",
        "it=0\n",
        "\n",
        "for i in sorted_list:\n",
        "  if it==4:\n",
        "    break\n",
        "\n",
        "  if i[1] not in flage:\n",
        "    best_models.append((i[0],i[2]))\n",
        "    flage.append(i[1])\n",
        "    it+=1\n"
      ],
      "metadata": {
        "id": "slItYG8uLOFi",
        "colab": {
          "base_uri": "https://localhost:8080/"
        },
        "outputId": "4bd69ad9-3c4b-4a82-c4da-1bbaaf810951"
      },
      "execution_count": 30,
      "outputs": [
        {
          "output_type": "stream",
          "name": "stdout",
          "text": [
            "(XGBClassifier(max_depth=11, objective='multi:softprob'), 4, 'xgboost')   :  0.8866141732283465\n",
            "-------------------------------------------------------------------------------------------------\n",
            "(XGBClassifier(max_depth=11, n_estimators=214, objective='multi:softprob'), 4, 'xgboost')   :  0.8850393700787401\n",
            "-------------------------------------------------------------------------------------------------\n",
            "(KNeighborsClassifier(n_neighbors=1), 5, 'KNeighborsClassifier')   :  0.8850393700787401\n",
            "-------------------------------------------------------------------------------------------------\n",
            "(XGBClassifier(n_estimators=214, objective='multi:softprob'), 4, 'xgboost')   :  0.8409448818897638\n",
            "-------------------------------------------------------------------------------------------------\n",
            "(XGBClassifier(objective='multi:softprob'), 4, 'xgboost')   :  0.8\n",
            "-------------------------------------------------------------------------------------------------\n",
            "(KNeighborsClassifier(), 5, 'KNeighborsClassifier')   :  0.8\n",
            "-------------------------------------------------------------------------------------------------\n",
            "(AdaBoostClassifier(random_state=0), 1, 'AdaBoostClassifier')   :  0.5858267716535434\n",
            "-------------------------------------------------------------------------------------------------\n",
            "(GaussianNB(), 6, 'GaussianNB')   :  0.49763779527559054\n",
            "-------------------------------------------------------------------------------------------------\n",
            "[(XGBClassifier(max_depth=11, objective='multi:softprob'), 4, 'xgboost'), (XGBClassifier(max_depth=11, n_estimators=214, objective='multi:softprob'), 4, 'xgboost'), (KNeighborsClassifier(n_neighbors=1), 5, 'KNeighborsClassifier'), (XGBClassifier(n_estimators=214, objective='multi:softprob'), 4, 'xgboost'), (XGBClassifier(objective='multi:softprob'), 4, 'xgboost'), (KNeighborsClassifier(), 5, 'KNeighborsClassifier'), (AdaBoostClassifier(random_state=0), 1, 'AdaBoostClassifier'), (GaussianNB(), 6, 'GaussianNB')]\n"
          ]
        }
      ]
    },
    {
      "cell_type": "code",
      "source": [
        "print(\"best_models:\")\n",
        "for i in best_models:\n",
        "  print(i)\n"
      ],
      "metadata": {
        "id": "SR0XBsJDMi_1",
        "colab": {
          "base_uri": "https://localhost:8080/"
        },
        "outputId": "b0d2b302-799f-4489-d632-ba99693e5cbf"
      },
      "execution_count": 31,
      "outputs": [
        {
          "output_type": "stream",
          "name": "stdout",
          "text": [
            "best_models:\n",
            "(XGBClassifier(max_depth=11, objective='multi:softprob'), 'xgboost')\n",
            "(KNeighborsClassifier(n_neighbors=1), 'KNeighborsClassifier')\n",
            "(AdaBoostClassifier(random_state=0), 'AdaBoostClassifier')\n",
            "(GaussianNB(), 'GaussianNB')\n"
          ]
        }
      ]
    },
    {
      "cell_type": "code",
      "source": [
        "len(best_models)"
      ],
      "metadata": {
        "id": "VQCaVYKA5acD",
        "colab": {
          "base_uri": "https://localhost:8080/"
        },
        "outputId": "b4a44b42-f610-4430-c986-0b5ba78473c8"
      },
      "execution_count": 32,
      "outputs": [
        {
          "output_type": "execute_result",
          "data": {
            "text/plain": [
              "4"
            ]
          },
          "metadata": {},
          "execution_count": 32
        }
      ]
    },
    {
      "cell_type": "markdown",
      "source": [
        "#Testing Accuracy For Best 4 Models"
      ],
      "metadata": {
        "id": "znXNx2bgUvtd"
      }
    },
    {
      "cell_type": "code",
      "source": [
        "\n",
        "for i in best_models:\n",
        "  print(\"--------------------------------------------------\")\n",
        "  print(i[0])\n",
        "  y_pred=i[0].predict(X_train)\n",
        "  print(confusion_matrix(y_train, y_pred))\n",
        "  print(classification_report(y_train,y_pred))\n",
        "  print(\"Accurecy: \",accuracy_score(y_train, y_pred))"
      ],
      "metadata": {
        "id": "2j9CXuBkUuiR",
        "colab": {
          "base_uri": "https://localhost:8080/"
        },
        "outputId": "38476682-5f0a-4eea-a9c2-e27c52e7ed24"
      },
      "execution_count": 33,
      "outputs": [
        {
          "output_type": "stream",
          "name": "stdout",
          "text": [
            "--------------------------------------------------\n",
            "XGBClassifier(max_depth=11, objective='multi:softprob')\n",
            "[[630   0   0   0]\n",
            " [  0 648   0   0]\n",
            " [  0   0 625   0]\n",
            " [  0   0   0 634]]\n",
            "              precision    recall  f1-score   support\n",
            "\n",
            "           0       1.00      1.00      1.00       630\n",
            "           1       1.00      1.00      1.00       648\n",
            "           2       1.00      1.00      1.00       625\n",
            "           3       1.00      1.00      1.00       634\n",
            "\n",
            "    accuracy                           1.00      2537\n",
            "   macro avg       1.00      1.00      1.00      2537\n",
            "weighted avg       1.00      1.00      1.00      2537\n",
            "\n",
            "Accurecy:  1.0\n",
            "--------------------------------------------------\n",
            "KNeighborsClassifier(n_neighbors=1)\n",
            "[[630   0   0   0]\n",
            " [  0 648   0   0]\n",
            " [  0   0 625   0]\n",
            " [  0   0   0 634]]\n",
            "              precision    recall  f1-score   support\n",
            "\n",
            "           0       1.00      1.00      1.00       630\n",
            "           1       1.00      1.00      1.00       648\n",
            "           2       1.00      1.00      1.00       625\n",
            "           3       1.00      1.00      1.00       634\n",
            "\n",
            "    accuracy                           1.00      2537\n",
            "   macro avg       1.00      1.00      1.00      2537\n",
            "weighted avg       1.00      1.00      1.00      2537\n",
            "\n",
            "Accurecy:  1.0\n",
            "--------------------------------------------------\n",
            "AdaBoostClassifier(random_state=0)\n",
            "[[414 130  80   6]\n",
            " [220 358  55  15]\n",
            " [131  87 246 161]\n",
            " [  7  16  82 529]]\n",
            "              precision    recall  f1-score   support\n",
            "\n",
            "           0       0.54      0.66      0.59       630\n",
            "           1       0.61      0.55      0.58       648\n",
            "           2       0.53      0.39      0.45       625\n",
            "           3       0.74      0.83      0.79       634\n",
            "\n",
            "    accuracy                           0.61      2537\n",
            "   macro avg       0.60      0.61      0.60      2537\n",
            "weighted avg       0.60      0.61      0.60      2537\n",
            "\n",
            "Accurecy:  0.609775325187229\n",
            "--------------------------------------------------\n",
            "GaussianNB()\n",
            "[[555  21  21  33]\n",
            " [518  60  11  59]\n",
            " [270  22 201 132]\n",
            " [ 96   7  46 485]]\n",
            "              precision    recall  f1-score   support\n",
            "\n",
            "           0       0.39      0.88      0.54       630\n",
            "           1       0.55      0.09      0.16       648\n",
            "           2       0.72      0.32      0.44       625\n",
            "           3       0.68      0.76      0.72       634\n",
            "\n",
            "    accuracy                           0.51      2537\n",
            "   macro avg       0.58      0.52      0.47      2537\n",
            "weighted avg       0.58      0.51      0.46      2537\n",
            "\n",
            "Accurecy:  0.5128104059913283\n"
          ]
        }
      ]
    },
    {
      "cell_type": "code",
      "source": [],
      "metadata": {
        "id": "vdNgE1HYwEjc"
      },
      "execution_count": 33,
      "outputs": []
    },
    {
      "cell_type": "markdown",
      "source": [
        "#ROC"
      ],
      "metadata": {
        "id": "bqG9Vdd0Km6A"
      }
    },
    {
      "cell_type": "code",
      "source": [
        "!pip install plotly==5.11.0\n",
        "!pip install -U kaleido\n",
        "\n",
        "\n",
        "import plotly.graph_objects as go\n",
        "import plotly.express as px\n",
        "import numpy as np\n",
        "import pandas as pd\n",
        "from sklearn.linear_model import LogisticRegression\n",
        "from sklearn.metrics import roc_curve, roc_auc_score\n",
        "import pandas as pd\n",
        "import matplotlib.pyplot as plt\n",
        "\n",
        "def ploty_ROC(model,X,y,fig_name):\n",
        "    \n",
        "    lebel_dict={\n",
        "    0: 'Reading',\n",
        "    1: 'Resting',\n",
        "    2: 'Walking',\n",
        "    3: 'Working'\n",
        "    }\n",
        "\n",
        "    y_scores = model.predict_proba(X)\n",
        "\n",
        "    y_onehot = pd.get_dummies(y, columns=model.classes_)\n",
        "\n",
        "    fig = go.Figure()\n",
        "    fig.add_shape(\n",
        "        type='line', line=dict(dash='dash'),\n",
        "        x0=0, x1=1, y0=0, y1=1\n",
        "    )\n",
        "\n",
        "    for i in range(y_scores.shape[1]):\n",
        "        y_true = y_onehot.iloc[:, i]\n",
        "        y_score = y_scores[:, i]\n",
        "\n",
        "        fpr, tpr, _ = roc_curve(y_true, y_score)\n",
        "        auc_score = roc_auc_score(y_true, y_score)\n",
        "        name = f\"{lebel_dict[y_onehot.columns[i]]} (AUC={auc_score:.2f})\"\n",
        "        fig.add_trace(go.Scatter(x=fpr, y=tpr, name=name, mode='lines'))\n",
        "\n",
        "    fig.update_layout(\n",
        "        xaxis_title='False Positive Rate',\n",
        "        yaxis_title='True Positive Rate',\n",
        "        yaxis=dict(scaleanchor=\"x\", scaleratio=1),\n",
        "        xaxis=dict(constrain='domain'),\n",
        "        width=1000, height=1000,\n",
        "        font=dict(\n",
        "            family=\"Courier New, monospace\",\n",
        "            size=20,\n",
        "            color=\"BLack\"\n",
        "        ),\n",
        "        legend=dict(\n",
        "            x=0.67,\n",
        "            y=0.05,\n",
        "            traceorder=\"reversed\",\n",
        "            title_font_family=\"Times New Roman\",\n",
        "            font=dict(\n",
        "                family=\"Courier New, monospace\",\n",
        "                size=20,\n",
        "                color=\"black\"\n",
        "            ),\n",
        "            bgcolor=\"LightSteelBlue\",\n",
        "            bordercolor=\"White\",\n",
        "            borderwidth=2\n",
        "        )\n",
        "    )\n",
        "    fig.show()\n",
        "    fig.write_image(fig_name+\".png\")"
      ],
      "metadata": {
        "colab": {
          "base_uri": "https://localhost:8080/"
        },
        "id": "uGMhOiOmKqA7",
        "outputId": "cf1b4ea7-ee58-46f4-fd1e-8089e70dd8b5"
      },
      "execution_count": 34,
      "outputs": [
        {
          "output_type": "stream",
          "name": "stdout",
          "text": [
            "Looking in indexes: https://pypi.org/simple, https://us-python.pkg.dev/colab-wheels/public/simple/\n",
            "Collecting plotly==5.11.0\n",
            "  Downloading plotly-5.11.0-py2.py3-none-any.whl (15.3 MB)\n",
            "\u001b[K     |████████████████████████████████| 15.3 MB 5.1 MB/s \n",
            "\u001b[?25hRequirement already satisfied: tenacity>=6.2.0 in /usr/local/lib/python3.8/dist-packages (from plotly==5.11.0) (8.1.0)\n",
            "Installing collected packages: plotly\n",
            "  Attempting uninstall: plotly\n",
            "    Found existing installation: plotly 5.5.0\n",
            "    Uninstalling plotly-5.5.0:\n",
            "      Successfully uninstalled plotly-5.5.0\n",
            "Successfully installed plotly-5.11.0\n",
            "Looking in indexes: https://pypi.org/simple, https://us-python.pkg.dev/colab-wheels/public/simple/\n",
            "Collecting kaleido\n",
            "  Downloading kaleido-0.2.1-py2.py3-none-manylinux1_x86_64.whl (79.9 MB)\n",
            "\u001b[K     |████████████████████████████████| 79.9 MB 96 kB/s \n",
            "\u001b[?25hInstalling collected packages: kaleido\n",
            "Successfully installed kaleido-0.2.1\n"
          ]
        }
      ]
    },
    {
      "cell_type": "markdown",
      "source": [
        "#SHAP"
      ],
      "metadata": {
        "id": "zxxWSX26jsGT"
      }
    },
    {
      "cell_type": "code",
      "source": [
        "!pip install shap\n",
        "import shap"
      ],
      "metadata": {
        "id": "YUhJ7dWajur-"
      },
      "execution_count": null,
      "outputs": []
    },
    {
      "cell_type": "code",
      "source": [
        "\n",
        "def SHAP_EXP(model,graph_feat):\n",
        "  print(\"Models: \",model)\n",
        "\n",
        "  explainer = shap.Explainer(model.predict, X_test)\n",
        "\n",
        "  shap_values1 = explainer(X_test)\n",
        "  features_names=list_of_feat\n",
        "\n",
        "  if 'Subjects' in features_names:\n",
        "    features_names.pop(0)\n",
        "\n",
        "\n",
        "  shap.plots.bar(shap_values1,max_display=graph_feat[\"max_display\"])\n",
        "\n",
        "  print(\"---------------------\")\n",
        "\n",
        "  shap.summary_plot(shap_values1,max_display=graph_feat[\"max_display\"],feature_names=features_names)\n",
        "\n",
        "  print(\"---------------------\")\n",
        "\n",
        "  print(\"Local Explaination\")\n",
        "  shap.plots.waterfall(shap_values1[graph_feat[\"shap_values Index\"]],max_display=graph_feat[\"max_display\"])\n",
        "\n",
        "\n",
        "  print(\"---------------------\")\n",
        "\n",
        "  shap.plots.bar(shap_values1[graph_feat[\"shap_values Index\"]],max_display=graph_feat[\"max_display\"])"
      ],
      "metadata": {
        "id": "POk0kUrdB-Y4"
      },
      "execution_count": null,
      "outputs": []
    },
    {
      "cell_type": "code",
      "source": [
        "new_keys_7=models_check_box(models)"
      ],
      "metadata": {
        "id": "V-G5szfQDiz1"
      },
      "execution_count": null,
      "outputs": []
    },
    {
      "cell_type": "code",
      "source": [
        "graph_feat={\n",
        "    \"max_display\":20,\n",
        "    \"shap_values Index\":2\n",
        "}\n",
        "\n",
        "for i in range(len(new_keys_7)):\n",
        "  if new_keys_7[i].value ==True:\n",
        "    SHAP_EXP(models[i],graph_feat)\n",
        "    print(\"---------------------------------------------------------\")\n",
        "    print(\"---------------------------------------------------------\")\n",
        "    print(\"---------------------------------------------------------\")\n",
        "    print(\"---------------------------------------------------------\")"
      ],
      "metadata": {
        "id": "JeD8HT_iDodb"
      },
      "execution_count": null,
      "outputs": []
    },
    {
      "cell_type": "markdown",
      "source": [
        "# **LIME**"
      ],
      "metadata": {
        "id": "iDu8Ipdm8qaV"
      }
    },
    {
      "cell_type": "code",
      "source": [
        "!pip install lime"
      ],
      "metadata": {
        "id": "kw4wkx98AuLW"
      },
      "execution_count": null,
      "outputs": []
    },
    {
      "cell_type": "code",
      "source": [
        "\n",
        "import lime\n",
        "from lime import lime_tabular\n",
        "explainer = lime_tabular.LimeTabularExplainer(\n",
        "    training_data=np.array(X_train),\n",
        "    feature_names=list(X.columns),\n",
        "    class_names=['Reading', 'Resting', 'Walking', 'Working'],\n",
        "    mode='classification'\n",
        ")\n",
        "     "
      ],
      "metadata": {
        "id": "KM6UBpC3DBAj"
      },
      "execution_count": null,
      "outputs": []
    },
    {
      "cell_type": "code",
      "source": [
        "row = int(input(\"Enter the index of row to explain: \"))      # the index of row to be explained in LIME\n",
        "\n",
        "\n",
        "exp = explainer.explain_instance(X_test.iloc[row],\n",
        "                                 gradBoost_estimator.predict_proba,               #here write the model name\n",
        "                                 num_features=6,\n",
        "                                 top_labels=4)\n",
        "\n",
        "exp.show_in_notebook(show_table=True, show_all=True)\n",
        "\n",
        "\n",
        "\n",
        "from IPython.display import HTML\n",
        "\n",
        "html_data = exp.as_html()\n",
        "HTML(data=html_data)\n",
        "\n",
        "\n",
        "exp.save_to_file(\"classif_explanation.html\")"
      ],
      "metadata": {
        "id": "NU96KbYHDIWA"
      },
      "execution_count": null,
      "outputs": []
    },
    {
      "cell_type": "code",
      "source": [
        "import matplotlib.pyplot as plt\n",
        "with plt.style.context(\"ggplot\"):\n",
        "    exp.as_pyplot_figure()"
      ],
      "metadata": {
        "id": "u-BkKmWjKGXn"
      },
      "execution_count": null,
      "outputs": []
    },
    {
      "cell_type": "markdown",
      "source": [],
      "metadata": {
        "id": "ydEeo7l_C1Zs"
      }
    }
  ]
}