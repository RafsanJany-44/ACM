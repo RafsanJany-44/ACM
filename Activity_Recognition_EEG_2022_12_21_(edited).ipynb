{
  "nbformat": 4,
  "nbformat_minor": 0,
  "metadata": {
    "colab": {
      "provenance": [],
      "collapsed_sections": [
        "C0Akgb_na7NU",
        "jEe2R0yAoifa",
        "FJybpt_UvCU0",
        "AgMT_U8gvM7F",
        "jRG4cBnKvZU2",
        "K6_icFWdauSI",
        "_Btki9jRvc1Y",
        "6FEsxCdvkg2D",
        "znXNx2bgUvtd",
        "zxxWSX26jsGT",
        "23z3A3f1ol6d",
        "57cQ8dzJX0Lp",
        "Wvhy6ENJf_oS",
        "26iwXg2a75qo",
        "bwOJ36hchWiN",
        "XtgWbvJsEwMt",
        "7rL4KXKM-KRC"
      ],
      "include_colab_link": true
    },
    "kernelspec": {
      "name": "python3",
      "display_name": "Python 3"
    },
    "language_info": {
      "name": "python"
    }
  },
  "cells": [
    {
      "cell_type": "markdown",
      "metadata": {
        "id": "view-in-github",
        "colab_type": "text"
      },
      "source": [
        "<a href=\"https://colab.research.google.com/github/RafsanJany-44/ARC/blob/master/Activity_Recognition_EEG_2022_12_21_(edited).ipynb\" target=\"_parent\"><img src=\"https://colab.research.google.com/assets/colab-badge.svg\" alt=\"Open In Colab\"/></a>"
      ]
    },
    {
      "cell_type": "code",
      "execution_count": 1,
      "metadata": {
        "id": "zdFOS9nFlpsU",
        "colab": {
          "base_uri": "https://localhost:8080/"
        },
        "outputId": "0617ea75-28ec-4230-c086-058ab1b34685"
      },
      "outputs": [
        {
          "output_type": "stream",
          "name": "stdout",
          "text": [
            "Mounted at /content/drive\n"
          ]
        }
      ],
      "source": [
        "from google.colab import drive\n",
        "drive.mount('/content/drive')\n",
        "\n",
        "\n",
        "def models_check_box(models):\n",
        "  import ipywidgets as widgets\n",
        "  from IPython.display import display\n",
        "  new_keys=[]\n",
        "  for i in models:\n",
        "    i=widgets.Checkbox(\n",
        "      value=False,\n",
        "      description=str(i),\n",
        "      disabled=False,\n",
        "      indent=False\n",
        "      )\n",
        "    display(i)\n",
        "    new_keys.append(i)\n",
        "  return new_keys"
      ]
    },
    {
      "cell_type": "code",
      "source": [],
      "metadata": {
        "id": "C6TIqVlzwH_z"
      },
      "execution_count": null,
      "outputs": []
    },
    {
      "cell_type": "code",
      "source": [
        "import numpy as np\n",
        "import pandas as pd\n",
        "#dataset=pd.read_csv(\"/content/drive/MyDrive/EEG_CNU_Activity Recognition/EEG_CNU_Resting, walking, working and Reading_Control_2022.12.05.csv\")\n",
        " \n",
        "dataset=pd.read_excel(\"/content/drive/MyDrive/Iqram_Sir/EEG_CNU_Resting, walking, working and Reading_Control_2022.12.22.xlsx\")\n",
        "\n",
        "classes = np.array(sorted(list(set(dataset.iloc[:, 1]))))\n",
        "target = \"Activity\"\n",
        "result = {}"
      ],
      "metadata": {
        "id": "M0AmIUwSmLfj"
      },
      "execution_count": 2,
      "outputs": []
    },
    {
      "cell_type": "code",
      "source": [
        "dataset.head()"
      ],
      "metadata": {
        "colab": {
          "base_uri": "https://localhost:8080/",
          "height": 317
        },
        "id": "4YN_C8yxm1ho",
        "outputId": "cf93ed58-83a0-41f1-e1fe-557b01c4e05d"
      },
      "execution_count": 3,
      "outputs": [
        {
          "output_type": "execute_result",
          "data": {
            "text/plain": [
              "  Activity   Status  Epoch  MeanP_Alpha_Fz  MedianF_Alpha_Fz  MeanF_Alpha_Fz  \\\n",
              "0  Resting  Control      0        0.000008          11.70732        28.29268   \n",
              "1  Resting  Control      1        0.000010          10.73171        28.78049   \n",
              "2  Resting  Control      2        0.000008          13.17073        28.78049   \n",
              "3  Resting  Control      3        0.000011          10.24390        27.80488   \n",
              "4  Resting  Control      4        0.000007          10.73171        23.41463   \n",
              "\n",
              "   Spectral Edge_Alpha_Fz  PeakF_Alpha_Fz  MeanP_Beta_Fz  MedianF_Beta_Fz  \\\n",
              "0                20.00000        10.73171       0.000017         19.51220   \n",
              "1                22.43902        10.24390       0.000023         22.92683   \n",
              "2                23.41463         9.26829       0.000023         22.43902   \n",
              "3                18.53659        10.73171       0.000019         22.43902   \n",
              "4                18.04878        11.70732       0.000010         17.56098   \n",
              "\n",
              "   ...  Relative Power_Alpha_Global  Relative Power_Beta_Global  \\\n",
              "0  ...                     0.358154                    0.639771   \n",
              "1  ...                     0.457695                    0.806208   \n",
              "2  ...                     0.501419                    1.059244   \n",
              "3  ...                     0.497909                    0.710690   \n",
              "4  ...                     0.429825                    0.569204   \n",
              "\n",
              "   Relative Power_Theta_Global  Relative Power_Delta_Global  \\\n",
              "0                     0.749628                     4.031903   \n",
              "1                     0.723662                     3.759249   \n",
              "2                     0.737332                     3.320235   \n",
              "3                     0.907816                     3.653423   \n",
              "4                     0.849345                     4.001597   \n",
              "\n",
              "   Relative Power_Gamma_Global  ∆Relative Power_Alpha_Global  \\\n",
              "0                     0.220545                     -0.273666   \n",
              "1                     0.253186                     -0.071797   \n",
              "2                     0.381769                      0.016875   \n",
              "3                     0.230162                      0.009757   \n",
              "4                     0.150029                     -0.128318   \n",
              "\n",
              "   ∆Relative Power_Beta_Global  ∆Relative Power_Theta_Global  \\\n",
              "0                    -0.164639                     -0.009611   \n",
              "1                     0.052680                     -0.043916   \n",
              "2                     0.383074                     -0.025855   \n",
              "3                    -0.072039                      0.199384   \n",
              "4                    -0.256780                      0.122134   \n",
              "\n",
              "   ∆Relative Power_Delta_Global  ∆Relative Power_Gamma_Global  \n",
              "0                      0.107193                     -0.356230  \n",
              "1                      0.032320                     -0.260950  \n",
              "2                     -0.088237                      0.114385  \n",
              "3                      0.003259                     -0.328157  \n",
              "4                      0.098870                     -0.562065  \n",
              "\n",
              "[5 rows x 259 columns]"
            ],
            "text/html": [
              "\n",
              "  <div id=\"df-18bb5164-2a41-4609-9bf4-6d272b49bafa\">\n",
              "    <div class=\"colab-df-container\">\n",
              "      <div>\n",
              "<style scoped>\n",
              "    .dataframe tbody tr th:only-of-type {\n",
              "        vertical-align: middle;\n",
              "    }\n",
              "\n",
              "    .dataframe tbody tr th {\n",
              "        vertical-align: top;\n",
              "    }\n",
              "\n",
              "    .dataframe thead th {\n",
              "        text-align: right;\n",
              "    }\n",
              "</style>\n",
              "<table border=\"1\" class=\"dataframe\">\n",
              "  <thead>\n",
              "    <tr style=\"text-align: right;\">\n",
              "      <th></th>\n",
              "      <th>Activity</th>\n",
              "      <th>Status</th>\n",
              "      <th>Epoch</th>\n",
              "      <th>MeanP_Alpha_Fz</th>\n",
              "      <th>MedianF_Alpha_Fz</th>\n",
              "      <th>MeanF_Alpha_Fz</th>\n",
              "      <th>Spectral Edge_Alpha_Fz</th>\n",
              "      <th>PeakF_Alpha_Fz</th>\n",
              "      <th>MeanP_Beta_Fz</th>\n",
              "      <th>MedianF_Beta_Fz</th>\n",
              "      <th>...</th>\n",
              "      <th>Relative Power_Alpha_Global</th>\n",
              "      <th>Relative Power_Beta_Global</th>\n",
              "      <th>Relative Power_Theta_Global</th>\n",
              "      <th>Relative Power_Delta_Global</th>\n",
              "      <th>Relative Power_Gamma_Global</th>\n",
              "      <th>∆Relative Power_Alpha_Global</th>\n",
              "      <th>∆Relative Power_Beta_Global</th>\n",
              "      <th>∆Relative Power_Theta_Global</th>\n",
              "      <th>∆Relative Power_Delta_Global</th>\n",
              "      <th>∆Relative Power_Gamma_Global</th>\n",
              "    </tr>\n",
              "  </thead>\n",
              "  <tbody>\n",
              "    <tr>\n",
              "      <th>0</th>\n",
              "      <td>Resting</td>\n",
              "      <td>Control</td>\n",
              "      <td>0</td>\n",
              "      <td>0.000008</td>\n",
              "      <td>11.70732</td>\n",
              "      <td>28.29268</td>\n",
              "      <td>20.00000</td>\n",
              "      <td>10.73171</td>\n",
              "      <td>0.000017</td>\n",
              "      <td>19.51220</td>\n",
              "      <td>...</td>\n",
              "      <td>0.358154</td>\n",
              "      <td>0.639771</td>\n",
              "      <td>0.749628</td>\n",
              "      <td>4.031903</td>\n",
              "      <td>0.220545</td>\n",
              "      <td>-0.273666</td>\n",
              "      <td>-0.164639</td>\n",
              "      <td>-0.009611</td>\n",
              "      <td>0.107193</td>\n",
              "      <td>-0.356230</td>\n",
              "    </tr>\n",
              "    <tr>\n",
              "      <th>1</th>\n",
              "      <td>Resting</td>\n",
              "      <td>Control</td>\n",
              "      <td>1</td>\n",
              "      <td>0.000010</td>\n",
              "      <td>10.73171</td>\n",
              "      <td>28.78049</td>\n",
              "      <td>22.43902</td>\n",
              "      <td>10.24390</td>\n",
              "      <td>0.000023</td>\n",
              "      <td>22.92683</td>\n",
              "      <td>...</td>\n",
              "      <td>0.457695</td>\n",
              "      <td>0.806208</td>\n",
              "      <td>0.723662</td>\n",
              "      <td>3.759249</td>\n",
              "      <td>0.253186</td>\n",
              "      <td>-0.071797</td>\n",
              "      <td>0.052680</td>\n",
              "      <td>-0.043916</td>\n",
              "      <td>0.032320</td>\n",
              "      <td>-0.260950</td>\n",
              "    </tr>\n",
              "    <tr>\n",
              "      <th>2</th>\n",
              "      <td>Resting</td>\n",
              "      <td>Control</td>\n",
              "      <td>2</td>\n",
              "      <td>0.000008</td>\n",
              "      <td>13.17073</td>\n",
              "      <td>28.78049</td>\n",
              "      <td>23.41463</td>\n",
              "      <td>9.26829</td>\n",
              "      <td>0.000023</td>\n",
              "      <td>22.43902</td>\n",
              "      <td>...</td>\n",
              "      <td>0.501419</td>\n",
              "      <td>1.059244</td>\n",
              "      <td>0.737332</td>\n",
              "      <td>3.320235</td>\n",
              "      <td>0.381769</td>\n",
              "      <td>0.016875</td>\n",
              "      <td>0.383074</td>\n",
              "      <td>-0.025855</td>\n",
              "      <td>-0.088237</td>\n",
              "      <td>0.114385</td>\n",
              "    </tr>\n",
              "    <tr>\n",
              "      <th>3</th>\n",
              "      <td>Resting</td>\n",
              "      <td>Control</td>\n",
              "      <td>3</td>\n",
              "      <td>0.000011</td>\n",
              "      <td>10.24390</td>\n",
              "      <td>27.80488</td>\n",
              "      <td>18.53659</td>\n",
              "      <td>10.73171</td>\n",
              "      <td>0.000019</td>\n",
              "      <td>22.43902</td>\n",
              "      <td>...</td>\n",
              "      <td>0.497909</td>\n",
              "      <td>0.710690</td>\n",
              "      <td>0.907816</td>\n",
              "      <td>3.653423</td>\n",
              "      <td>0.230162</td>\n",
              "      <td>0.009757</td>\n",
              "      <td>-0.072039</td>\n",
              "      <td>0.199384</td>\n",
              "      <td>0.003259</td>\n",
              "      <td>-0.328157</td>\n",
              "    </tr>\n",
              "    <tr>\n",
              "      <th>4</th>\n",
              "      <td>Resting</td>\n",
              "      <td>Control</td>\n",
              "      <td>4</td>\n",
              "      <td>0.000007</td>\n",
              "      <td>10.73171</td>\n",
              "      <td>23.41463</td>\n",
              "      <td>18.04878</td>\n",
              "      <td>11.70732</td>\n",
              "      <td>0.000010</td>\n",
              "      <td>17.56098</td>\n",
              "      <td>...</td>\n",
              "      <td>0.429825</td>\n",
              "      <td>0.569204</td>\n",
              "      <td>0.849345</td>\n",
              "      <td>4.001597</td>\n",
              "      <td>0.150029</td>\n",
              "      <td>-0.128318</td>\n",
              "      <td>-0.256780</td>\n",
              "      <td>0.122134</td>\n",
              "      <td>0.098870</td>\n",
              "      <td>-0.562065</td>\n",
              "    </tr>\n",
              "  </tbody>\n",
              "</table>\n",
              "<p>5 rows × 259 columns</p>\n",
              "</div>\n",
              "      <button class=\"colab-df-convert\" onclick=\"convertToInteractive('df-18bb5164-2a41-4609-9bf4-6d272b49bafa')\"\n",
              "              title=\"Convert this dataframe to an interactive table.\"\n",
              "              style=\"display:none;\">\n",
              "        \n",
              "  <svg xmlns=\"http://www.w3.org/2000/svg\" height=\"24px\"viewBox=\"0 0 24 24\"\n",
              "       width=\"24px\">\n",
              "    <path d=\"M0 0h24v24H0V0z\" fill=\"none\"/>\n",
              "    <path d=\"M18.56 5.44l.94 2.06.94-2.06 2.06-.94-2.06-.94-.94-2.06-.94 2.06-2.06.94zm-11 1L8.5 8.5l.94-2.06 2.06-.94-2.06-.94L8.5 2.5l-.94 2.06-2.06.94zm10 10l.94 2.06.94-2.06 2.06-.94-2.06-.94-.94-2.06-.94 2.06-2.06.94z\"/><path d=\"M17.41 7.96l-1.37-1.37c-.4-.4-.92-.59-1.43-.59-.52 0-1.04.2-1.43.59L10.3 9.45l-7.72 7.72c-.78.78-.78 2.05 0 2.83L4 21.41c.39.39.9.59 1.41.59.51 0 1.02-.2 1.41-.59l7.78-7.78 2.81-2.81c.8-.78.8-2.07 0-2.86zM5.41 20L4 18.59l7.72-7.72 1.47 1.35L5.41 20z\"/>\n",
              "  </svg>\n",
              "      </button>\n",
              "      \n",
              "  <style>\n",
              "    .colab-df-container {\n",
              "      display:flex;\n",
              "      flex-wrap:wrap;\n",
              "      gap: 12px;\n",
              "    }\n",
              "\n",
              "    .colab-df-convert {\n",
              "      background-color: #E8F0FE;\n",
              "      border: none;\n",
              "      border-radius: 50%;\n",
              "      cursor: pointer;\n",
              "      display: none;\n",
              "      fill: #1967D2;\n",
              "      height: 32px;\n",
              "      padding: 0 0 0 0;\n",
              "      width: 32px;\n",
              "    }\n",
              "\n",
              "    .colab-df-convert:hover {\n",
              "      background-color: #E2EBFA;\n",
              "      box-shadow: 0px 1px 2px rgba(60, 64, 67, 0.3), 0px 1px 3px 1px rgba(60, 64, 67, 0.15);\n",
              "      fill: #174EA6;\n",
              "    }\n",
              "\n",
              "    [theme=dark] .colab-df-convert {\n",
              "      background-color: #3B4455;\n",
              "      fill: #D2E3FC;\n",
              "    }\n",
              "\n",
              "    [theme=dark] .colab-df-convert:hover {\n",
              "      background-color: #434B5C;\n",
              "      box-shadow: 0px 1px 3px 1px rgba(0, 0, 0, 0.15);\n",
              "      filter: drop-shadow(0px 1px 2px rgba(0, 0, 0, 0.3));\n",
              "      fill: #FFFFFF;\n",
              "    }\n",
              "  </style>\n",
              "\n",
              "      <script>\n",
              "        const buttonEl =\n",
              "          document.querySelector('#df-18bb5164-2a41-4609-9bf4-6d272b49bafa button.colab-df-convert');\n",
              "        buttonEl.style.display =\n",
              "          google.colab.kernel.accessAllowed ? 'block' : 'none';\n",
              "\n",
              "        async function convertToInteractive(key) {\n",
              "          const element = document.querySelector('#df-18bb5164-2a41-4609-9bf4-6d272b49bafa');\n",
              "          const dataTable =\n",
              "            await google.colab.kernel.invokeFunction('convertToInteractive',\n",
              "                                                     [key], {});\n",
              "          if (!dataTable) return;\n",
              "\n",
              "          const docLinkHtml = 'Like what you see? Visit the ' +\n",
              "            '<a target=\"_blank\" href=https://colab.research.google.com/notebooks/data_table.ipynb>data table notebook</a>'\n",
              "            + ' to learn more about interactive tables.';\n",
              "          element.innerHTML = '';\n",
              "          dataTable['output_type'] = 'display_data';\n",
              "          await google.colab.output.renderOutput(dataTable, element);\n",
              "          const docLink = document.createElement('div');\n",
              "          docLink.innerHTML = docLinkHtml;\n",
              "          element.appendChild(docLink);\n",
              "        }\n",
              "      </script>\n",
              "    </div>\n",
              "  </div>\n",
              "  "
            ]
          },
          "metadata": {},
          "execution_count": 3
        }
      ]
    },
    {
      "cell_type": "code",
      "source": [
        "dataset.shape"
      ],
      "metadata": {
        "colab": {
          "base_uri": "https://localhost:8080/"
        },
        "id": "h8Wm0DGf4AJO",
        "outputId": "65ef5f90-b918-4a92-f34b-3d580eabf45a"
      },
      "execution_count": 4,
      "outputs": [
        {
          "output_type": "execute_result",
          "data": {
            "text/plain": [
              "(1711, 259)"
            ]
          },
          "metadata": {},
          "execution_count": 4
        }
      ]
    },
    {
      "cell_type": "code",
      "source": [
        "set(list(dataset[target]))"
      ],
      "metadata": {
        "colab": {
          "base_uri": "https://localhost:8080/"
        },
        "id": "VS4iUbnyYaDH",
        "outputId": "3f3f865e-8a4f-4625-b633-6d4868d208a9"
      },
      "execution_count": 5,
      "outputs": [
        {
          "output_type": "execute_result",
          "data": {
            "text/plain": [
              "{'Reading', 'Resting', 'Walking', 'Working'}"
            ]
          },
          "metadata": {},
          "execution_count": 5
        }
      ]
    },
    {
      "cell_type": "code",
      "source": [
        "\n",
        "from sklearn.preprocessing import LabelEncoder\n",
        "encoder=LabelEncoder()\n",
        "dataset[target]=encoder.fit_transform(dataset[target])"
      ],
      "metadata": {
        "id": "Ljyj9yuIf-tX"
      },
      "execution_count": 6,
      "outputs": []
    },
    {
      "cell_type": "code",
      "source": [
        "set(list(dataset['Activity']))"
      ],
      "metadata": {
        "colab": {
          "base_uri": "https://localhost:8080/"
        },
        "id": "42si00q3SLh5",
        "outputId": "25365372-f482-4757-f269-a43585f55c4e"
      },
      "execution_count": 7,
      "outputs": [
        {
          "output_type": "execute_result",
          "data": {
            "text/plain": [
              "{0, 1, 2, 3}"
            ]
          },
          "metadata": {},
          "execution_count": 7
        }
      ]
    },
    {
      "cell_type": "markdown",
      "source": [
        "#Spliting into X and y"
      ],
      "metadata": {
        "id": "ZAUQcyHz4wlO"
      }
    },
    {
      "cell_type": "code",
      "source": [
        "X =  dataset.loc[:,dataset.columns != target]  # removing Activity \n",
        "X =  X.loc[:,X.columns != \"Status\"]            # removing Status\n",
        "X =  X.loc[:,X.columns != \"Epoch\"]             # removing Epoch\n",
        "y = dataset[\"Activity\"]\n",
        "\n",
        "X.head(10)"
      ],
      "metadata": {
        "colab": {
          "base_uri": "https://localhost:8080/",
          "height": 473
        },
        "id": "eBxa1iqT3Ocs",
        "outputId": "1e24ff2e-5584-4de5-abbd-cdf090c4533c"
      },
      "execution_count": 8,
      "outputs": [
        {
          "output_type": "execute_result",
          "data": {
            "text/plain": [
              "   MeanP_Alpha_Fz  MedianF_Alpha_Fz  MeanF_Alpha_Fz  Spectral Edge_Alpha_Fz  \\\n",
              "0        0.000008          11.70732        28.29268                20.00000   \n",
              "1        0.000010          10.73171        28.78049                22.43902   \n",
              "2        0.000008          13.17073        28.78049                23.41463   \n",
              "3        0.000011          10.24390        27.80488                18.53659   \n",
              "4        0.000007          10.73171        23.41463                18.04878   \n",
              "5        0.000008          10.24390        23.41463                17.56098   \n",
              "6        0.000005          11.21951        24.39024                17.56098   \n",
              "7        0.000005           9.75610        25.85366                18.53659   \n",
              "8        0.000006          10.24390        24.39024                17.56098   \n",
              "9        0.000014          11.21951        23.41463                18.04878   \n",
              "\n",
              "   PeakF_Alpha_Fz  MeanP_Beta_Fz  MedianF_Beta_Fz  MeanF_Beta_Fz  \\\n",
              "0        10.73171       0.000017         19.51220       38.04878   \n",
              "1        10.24390       0.000023         22.92683       38.53659   \n",
              "2         9.26829       0.000023         22.43902       37.56098   \n",
              "3        10.73171       0.000019         22.43902       38.04878   \n",
              "4        11.70732       0.000010         17.56098       36.09756   \n",
              "5        10.24390       0.000010         18.04878       36.09756   \n",
              "6        12.68293       0.000007         17.07317       38.04878   \n",
              "7         7.80488       0.000007         19.02439       35.60976   \n",
              "8         8.29268       0.000009         17.56098       36.09756   \n",
              "9        12.68293       0.000021         18.04878       35.60976   \n",
              "\n",
              "   Spectral Edge_Beta_Fz  PeakF_Beta_Fz  ...  Relative Power_Alpha_Global  \\\n",
              "0               32.68293       19.02439  ...                     0.358154   \n",
              "1               33.65854       23.41463  ...                     0.457695   \n",
              "2               31.70732       17.56098  ...                     0.501419   \n",
              "3               32.68293       28.29268  ...                     0.497909   \n",
              "4               29.26829       11.70732  ...                     0.429825   \n",
              "5               29.26829       17.07317  ...                     0.494096   \n",
              "6               31.21951       14.14634  ...                     0.527217   \n",
              "7               29.75610       13.17073  ...                     0.475599   \n",
              "8               29.26829       17.56098  ...                     0.482293   \n",
              "9               29.26829       12.68293  ...                     0.659929   \n",
              "\n",
              "   Relative Power_Beta_Global  Relative Power_Theta_Global  \\\n",
              "0                    0.639771                     0.749628   \n",
              "1                    0.806208                     0.723662   \n",
              "2                    1.059244                     0.737332   \n",
              "3                    0.710690                     0.907816   \n",
              "4                    0.569204                     0.849345   \n",
              "5                    0.687221                     0.812251   \n",
              "6                    0.668711                     0.770164   \n",
              "7                    0.719244                     0.764508   \n",
              "8                    0.620810                     0.933737   \n",
              "9                    0.855344                     1.188749   \n",
              "\n",
              "   Relative Power_Delta_Global  Relative Power_Gamma_Global  \\\n",
              "0                     4.031903                     0.220545   \n",
              "1                     3.759249                     0.253186   \n",
              "2                     3.320235                     0.381769   \n",
              "3                     3.653423                     0.230162   \n",
              "4                     4.001597                     0.150029   \n",
              "5                     3.785048                     0.221383   \n",
              "6                     3.853441                     0.180467   \n",
              "7                     3.833454                     0.207195   \n",
              "8                     3.798965                     0.164195   \n",
              "9                     3.079654                     0.216324   \n",
              "\n",
              "   ∆Relative Power_Alpha_Global  ∆Relative Power_Beta_Global  \\\n",
              "0                     -0.273666                    -0.164639   \n",
              "1                     -0.071797                     0.052680   \n",
              "2                      0.016875                     0.383074   \n",
              "3                      0.009757                    -0.072039   \n",
              "4                     -0.128318                    -0.256780   \n",
              "5                      0.002023                    -0.102682   \n",
              "6                      0.069192                    -0.126852   \n",
              "7                     -0.035489                    -0.060870   \n",
              "8                     -0.021913                    -0.189396   \n",
              "9                      0.338331                     0.116839   \n",
              "\n",
              "   ∆Relative Power_Theta_Global  ∆Relative Power_Delta_Global  \\\n",
              "0                     -0.009611                      0.107193   \n",
              "1                     -0.043916                      0.032320   \n",
              "2                     -0.025855                     -0.088237   \n",
              "3                      0.199384                      0.003259   \n",
              "4                      0.122134                      0.098870   \n",
              "5                      0.073126                      0.039404   \n",
              "6                      0.017521                      0.058186   \n",
              "7                      0.010050                      0.052697   \n",
              "8                      0.233631                      0.043226   \n",
              "9                      0.570546                     -0.154303   \n",
              "\n",
              "   ∆Relative Power_Gamma_Global  \n",
              "0                     -0.356230  \n",
              "1                     -0.260950  \n",
              "2                      0.114385  \n",
              "3                     -0.328157  \n",
              "4                     -0.562065  \n",
              "5                     -0.353782  \n",
              "6                     -0.473217  \n",
              "7                     -0.395197  \n",
              "8                     -0.520716  \n",
              "9                     -0.368549  \n",
              "\n",
              "[10 rows x 256 columns]"
            ],
            "text/html": [
              "\n",
              "  <div id=\"df-480597e0-89c9-4ffa-b420-33090f590ff3\">\n",
              "    <div class=\"colab-df-container\">\n",
              "      <div>\n",
              "<style scoped>\n",
              "    .dataframe tbody tr th:only-of-type {\n",
              "        vertical-align: middle;\n",
              "    }\n",
              "\n",
              "    .dataframe tbody tr th {\n",
              "        vertical-align: top;\n",
              "    }\n",
              "\n",
              "    .dataframe thead th {\n",
              "        text-align: right;\n",
              "    }\n",
              "</style>\n",
              "<table border=\"1\" class=\"dataframe\">\n",
              "  <thead>\n",
              "    <tr style=\"text-align: right;\">\n",
              "      <th></th>\n",
              "      <th>MeanP_Alpha_Fz</th>\n",
              "      <th>MedianF_Alpha_Fz</th>\n",
              "      <th>MeanF_Alpha_Fz</th>\n",
              "      <th>Spectral Edge_Alpha_Fz</th>\n",
              "      <th>PeakF_Alpha_Fz</th>\n",
              "      <th>MeanP_Beta_Fz</th>\n",
              "      <th>MedianF_Beta_Fz</th>\n",
              "      <th>MeanF_Beta_Fz</th>\n",
              "      <th>Spectral Edge_Beta_Fz</th>\n",
              "      <th>PeakF_Beta_Fz</th>\n",
              "      <th>...</th>\n",
              "      <th>Relative Power_Alpha_Global</th>\n",
              "      <th>Relative Power_Beta_Global</th>\n",
              "      <th>Relative Power_Theta_Global</th>\n",
              "      <th>Relative Power_Delta_Global</th>\n",
              "      <th>Relative Power_Gamma_Global</th>\n",
              "      <th>∆Relative Power_Alpha_Global</th>\n",
              "      <th>∆Relative Power_Beta_Global</th>\n",
              "      <th>∆Relative Power_Theta_Global</th>\n",
              "      <th>∆Relative Power_Delta_Global</th>\n",
              "      <th>∆Relative Power_Gamma_Global</th>\n",
              "    </tr>\n",
              "  </thead>\n",
              "  <tbody>\n",
              "    <tr>\n",
              "      <th>0</th>\n",
              "      <td>0.000008</td>\n",
              "      <td>11.70732</td>\n",
              "      <td>28.29268</td>\n",
              "      <td>20.00000</td>\n",
              "      <td>10.73171</td>\n",
              "      <td>0.000017</td>\n",
              "      <td>19.51220</td>\n",
              "      <td>38.04878</td>\n",
              "      <td>32.68293</td>\n",
              "      <td>19.02439</td>\n",
              "      <td>...</td>\n",
              "      <td>0.358154</td>\n",
              "      <td>0.639771</td>\n",
              "      <td>0.749628</td>\n",
              "      <td>4.031903</td>\n",
              "      <td>0.220545</td>\n",
              "      <td>-0.273666</td>\n",
              "      <td>-0.164639</td>\n",
              "      <td>-0.009611</td>\n",
              "      <td>0.107193</td>\n",
              "      <td>-0.356230</td>\n",
              "    </tr>\n",
              "    <tr>\n",
              "      <th>1</th>\n",
              "      <td>0.000010</td>\n",
              "      <td>10.73171</td>\n",
              "      <td>28.78049</td>\n",
              "      <td>22.43902</td>\n",
              "      <td>10.24390</td>\n",
              "      <td>0.000023</td>\n",
              "      <td>22.92683</td>\n",
              "      <td>38.53659</td>\n",
              "      <td>33.65854</td>\n",
              "      <td>23.41463</td>\n",
              "      <td>...</td>\n",
              "      <td>0.457695</td>\n",
              "      <td>0.806208</td>\n",
              "      <td>0.723662</td>\n",
              "      <td>3.759249</td>\n",
              "      <td>0.253186</td>\n",
              "      <td>-0.071797</td>\n",
              "      <td>0.052680</td>\n",
              "      <td>-0.043916</td>\n",
              "      <td>0.032320</td>\n",
              "      <td>-0.260950</td>\n",
              "    </tr>\n",
              "    <tr>\n",
              "      <th>2</th>\n",
              "      <td>0.000008</td>\n",
              "      <td>13.17073</td>\n",
              "      <td>28.78049</td>\n",
              "      <td>23.41463</td>\n",
              "      <td>9.26829</td>\n",
              "      <td>0.000023</td>\n",
              "      <td>22.43902</td>\n",
              "      <td>37.56098</td>\n",
              "      <td>31.70732</td>\n",
              "      <td>17.56098</td>\n",
              "      <td>...</td>\n",
              "      <td>0.501419</td>\n",
              "      <td>1.059244</td>\n",
              "      <td>0.737332</td>\n",
              "      <td>3.320235</td>\n",
              "      <td>0.381769</td>\n",
              "      <td>0.016875</td>\n",
              "      <td>0.383074</td>\n",
              "      <td>-0.025855</td>\n",
              "      <td>-0.088237</td>\n",
              "      <td>0.114385</td>\n",
              "    </tr>\n",
              "    <tr>\n",
              "      <th>3</th>\n",
              "      <td>0.000011</td>\n",
              "      <td>10.24390</td>\n",
              "      <td>27.80488</td>\n",
              "      <td>18.53659</td>\n",
              "      <td>10.73171</td>\n",
              "      <td>0.000019</td>\n",
              "      <td>22.43902</td>\n",
              "      <td>38.04878</td>\n",
              "      <td>32.68293</td>\n",
              "      <td>28.29268</td>\n",
              "      <td>...</td>\n",
              "      <td>0.497909</td>\n",
              "      <td>0.710690</td>\n",
              "      <td>0.907816</td>\n",
              "      <td>3.653423</td>\n",
              "      <td>0.230162</td>\n",
              "      <td>0.009757</td>\n",
              "      <td>-0.072039</td>\n",
              "      <td>0.199384</td>\n",
              "      <td>0.003259</td>\n",
              "      <td>-0.328157</td>\n",
              "    </tr>\n",
              "    <tr>\n",
              "      <th>4</th>\n",
              "      <td>0.000007</td>\n",
              "      <td>10.73171</td>\n",
              "      <td>23.41463</td>\n",
              "      <td>18.04878</td>\n",
              "      <td>11.70732</td>\n",
              "      <td>0.000010</td>\n",
              "      <td>17.56098</td>\n",
              "      <td>36.09756</td>\n",
              "      <td>29.26829</td>\n",
              "      <td>11.70732</td>\n",
              "      <td>...</td>\n",
              "      <td>0.429825</td>\n",
              "      <td>0.569204</td>\n",
              "      <td>0.849345</td>\n",
              "      <td>4.001597</td>\n",
              "      <td>0.150029</td>\n",
              "      <td>-0.128318</td>\n",
              "      <td>-0.256780</td>\n",
              "      <td>0.122134</td>\n",
              "      <td>0.098870</td>\n",
              "      <td>-0.562065</td>\n",
              "    </tr>\n",
              "    <tr>\n",
              "      <th>5</th>\n",
              "      <td>0.000008</td>\n",
              "      <td>10.24390</td>\n",
              "      <td>23.41463</td>\n",
              "      <td>17.56098</td>\n",
              "      <td>10.24390</td>\n",
              "      <td>0.000010</td>\n",
              "      <td>18.04878</td>\n",
              "      <td>36.09756</td>\n",
              "      <td>29.26829</td>\n",
              "      <td>17.07317</td>\n",
              "      <td>...</td>\n",
              "      <td>0.494096</td>\n",
              "      <td>0.687221</td>\n",
              "      <td>0.812251</td>\n",
              "      <td>3.785048</td>\n",
              "      <td>0.221383</td>\n",
              "      <td>0.002023</td>\n",
              "      <td>-0.102682</td>\n",
              "      <td>0.073126</td>\n",
              "      <td>0.039404</td>\n",
              "      <td>-0.353782</td>\n",
              "    </tr>\n",
              "    <tr>\n",
              "      <th>6</th>\n",
              "      <td>0.000005</td>\n",
              "      <td>11.21951</td>\n",
              "      <td>24.39024</td>\n",
              "      <td>17.56098</td>\n",
              "      <td>12.68293</td>\n",
              "      <td>0.000007</td>\n",
              "      <td>17.07317</td>\n",
              "      <td>38.04878</td>\n",
              "      <td>31.21951</td>\n",
              "      <td>14.14634</td>\n",
              "      <td>...</td>\n",
              "      <td>0.527217</td>\n",
              "      <td>0.668711</td>\n",
              "      <td>0.770164</td>\n",
              "      <td>3.853441</td>\n",
              "      <td>0.180467</td>\n",
              "      <td>0.069192</td>\n",
              "      <td>-0.126852</td>\n",
              "      <td>0.017521</td>\n",
              "      <td>0.058186</td>\n",
              "      <td>-0.473217</td>\n",
              "    </tr>\n",
              "    <tr>\n",
              "      <th>7</th>\n",
              "      <td>0.000005</td>\n",
              "      <td>9.75610</td>\n",
              "      <td>25.85366</td>\n",
              "      <td>18.53659</td>\n",
              "      <td>7.80488</td>\n",
              "      <td>0.000007</td>\n",
              "      <td>19.02439</td>\n",
              "      <td>35.60976</td>\n",
              "      <td>29.75610</td>\n",
              "      <td>13.17073</td>\n",
              "      <td>...</td>\n",
              "      <td>0.475599</td>\n",
              "      <td>0.719244</td>\n",
              "      <td>0.764508</td>\n",
              "      <td>3.833454</td>\n",
              "      <td>0.207195</td>\n",
              "      <td>-0.035489</td>\n",
              "      <td>-0.060870</td>\n",
              "      <td>0.010050</td>\n",
              "      <td>0.052697</td>\n",
              "      <td>-0.395197</td>\n",
              "    </tr>\n",
              "    <tr>\n",
              "      <th>8</th>\n",
              "      <td>0.000006</td>\n",
              "      <td>10.24390</td>\n",
              "      <td>24.39024</td>\n",
              "      <td>17.56098</td>\n",
              "      <td>8.29268</td>\n",
              "      <td>0.000009</td>\n",
              "      <td>17.56098</td>\n",
              "      <td>36.09756</td>\n",
              "      <td>29.26829</td>\n",
              "      <td>17.56098</td>\n",
              "      <td>...</td>\n",
              "      <td>0.482293</td>\n",
              "      <td>0.620810</td>\n",
              "      <td>0.933737</td>\n",
              "      <td>3.798965</td>\n",
              "      <td>0.164195</td>\n",
              "      <td>-0.021913</td>\n",
              "      <td>-0.189396</td>\n",
              "      <td>0.233631</td>\n",
              "      <td>0.043226</td>\n",
              "      <td>-0.520716</td>\n",
              "    </tr>\n",
              "    <tr>\n",
              "      <th>9</th>\n",
              "      <td>0.000014</td>\n",
              "      <td>11.21951</td>\n",
              "      <td>23.41463</td>\n",
              "      <td>18.04878</td>\n",
              "      <td>12.68293</td>\n",
              "      <td>0.000021</td>\n",
              "      <td>18.04878</td>\n",
              "      <td>35.60976</td>\n",
              "      <td>29.26829</td>\n",
              "      <td>12.68293</td>\n",
              "      <td>...</td>\n",
              "      <td>0.659929</td>\n",
              "      <td>0.855344</td>\n",
              "      <td>1.188749</td>\n",
              "      <td>3.079654</td>\n",
              "      <td>0.216324</td>\n",
              "      <td>0.338331</td>\n",
              "      <td>0.116839</td>\n",
              "      <td>0.570546</td>\n",
              "      <td>-0.154303</td>\n",
              "      <td>-0.368549</td>\n",
              "    </tr>\n",
              "  </tbody>\n",
              "</table>\n",
              "<p>10 rows × 256 columns</p>\n",
              "</div>\n",
              "      <button class=\"colab-df-convert\" onclick=\"convertToInteractive('df-480597e0-89c9-4ffa-b420-33090f590ff3')\"\n",
              "              title=\"Convert this dataframe to an interactive table.\"\n",
              "              style=\"display:none;\">\n",
              "        \n",
              "  <svg xmlns=\"http://www.w3.org/2000/svg\" height=\"24px\"viewBox=\"0 0 24 24\"\n",
              "       width=\"24px\">\n",
              "    <path d=\"M0 0h24v24H0V0z\" fill=\"none\"/>\n",
              "    <path d=\"M18.56 5.44l.94 2.06.94-2.06 2.06-.94-2.06-.94-.94-2.06-.94 2.06-2.06.94zm-11 1L8.5 8.5l.94-2.06 2.06-.94-2.06-.94L8.5 2.5l-.94 2.06-2.06.94zm10 10l.94 2.06.94-2.06 2.06-.94-2.06-.94-.94-2.06-.94 2.06-2.06.94z\"/><path d=\"M17.41 7.96l-1.37-1.37c-.4-.4-.92-.59-1.43-.59-.52 0-1.04.2-1.43.59L10.3 9.45l-7.72 7.72c-.78.78-.78 2.05 0 2.83L4 21.41c.39.39.9.59 1.41.59.51 0 1.02-.2 1.41-.59l7.78-7.78 2.81-2.81c.8-.78.8-2.07 0-2.86zM5.41 20L4 18.59l7.72-7.72 1.47 1.35L5.41 20z\"/>\n",
              "  </svg>\n",
              "      </button>\n",
              "      \n",
              "  <style>\n",
              "    .colab-df-container {\n",
              "      display:flex;\n",
              "      flex-wrap:wrap;\n",
              "      gap: 12px;\n",
              "    }\n",
              "\n",
              "    .colab-df-convert {\n",
              "      background-color: #E8F0FE;\n",
              "      border: none;\n",
              "      border-radius: 50%;\n",
              "      cursor: pointer;\n",
              "      display: none;\n",
              "      fill: #1967D2;\n",
              "      height: 32px;\n",
              "      padding: 0 0 0 0;\n",
              "      width: 32px;\n",
              "    }\n",
              "\n",
              "    .colab-df-convert:hover {\n",
              "      background-color: #E2EBFA;\n",
              "      box-shadow: 0px 1px 2px rgba(60, 64, 67, 0.3), 0px 1px 3px 1px rgba(60, 64, 67, 0.15);\n",
              "      fill: #174EA6;\n",
              "    }\n",
              "\n",
              "    [theme=dark] .colab-df-convert {\n",
              "      background-color: #3B4455;\n",
              "      fill: #D2E3FC;\n",
              "    }\n",
              "\n",
              "    [theme=dark] .colab-df-convert:hover {\n",
              "      background-color: #434B5C;\n",
              "      box-shadow: 0px 1px 3px 1px rgba(0, 0, 0, 0.15);\n",
              "      filter: drop-shadow(0px 1px 2px rgba(0, 0, 0, 0.3));\n",
              "      fill: #FFFFFF;\n",
              "    }\n",
              "  </style>\n",
              "\n",
              "      <script>\n",
              "        const buttonEl =\n",
              "          document.querySelector('#df-480597e0-89c9-4ffa-b420-33090f590ff3 button.colab-df-convert');\n",
              "        buttonEl.style.display =\n",
              "          google.colab.kernel.accessAllowed ? 'block' : 'none';\n",
              "\n",
              "        async function convertToInteractive(key) {\n",
              "          const element = document.querySelector('#df-480597e0-89c9-4ffa-b420-33090f590ff3');\n",
              "          const dataTable =\n",
              "            await google.colab.kernel.invokeFunction('convertToInteractive',\n",
              "                                                     [key], {});\n",
              "          if (!dataTable) return;\n",
              "\n",
              "          const docLinkHtml = 'Like what you see? Visit the ' +\n",
              "            '<a target=\"_blank\" href=https://colab.research.google.com/notebooks/data_table.ipynb>data table notebook</a>'\n",
              "            + ' to learn more about interactive tables.';\n",
              "          element.innerHTML = '';\n",
              "          dataTable['output_type'] = 'display_data';\n",
              "          await google.colab.output.renderOutput(dataTable, element);\n",
              "          const docLink = document.createElement('div');\n",
              "          docLink.innerHTML = docLinkHtml;\n",
              "          element.appendChild(docLink);\n",
              "        }\n",
              "      </script>\n",
              "    </div>\n",
              "  </div>\n",
              "  "
            ]
          },
          "metadata": {},
          "execution_count": 8
        }
      ]
    },
    {
      "cell_type": "markdown",
      "source": [
        "#Feature Selection"
      ],
      "metadata": {
        "id": "C0Akgb_na7NU"
      }
    },
    {
      "cell_type": "code",
      "source": [
        "number_of_feat = 20"
      ],
      "metadata": {
        "id": "rY2mWiZv80L2"
      },
      "execution_count": 60,
      "outputs": []
    },
    {
      "cell_type": "markdown",
      "source": [
        "Run only one Method"
      ],
      "metadata": {
        "id": "hBJAeCQyG9K1"
      }
    },
    {
      "cell_type": "markdown",
      "source": [
        "###ANOVA with f classifciation"
      ],
      "metadata": {
        "id": "cR3Hrghl7CVj"
      }
    },
    {
      "cell_type": "code",
      "source": [
        "from sklearn.datasets import make_classification\n",
        "from sklearn.feature_selection import SelectKBest\n",
        "from sklearn.feature_selection import f_classif\n",
        "import pandas as pd\n",
        "\n",
        "\n",
        "\n",
        "fs = SelectKBest(score_func=f_classif, k=5)\n",
        "fit = fs.fit(X,y)\n",
        "dfscores = pd.DataFrame(fit.scores_)\n",
        "dfcolumns = pd.DataFrame(X.columns)\n",
        "\n",
        "featureScores = pd.concat([dfcolumns,dfscores],axis=1)\n",
        "\n",
        "featureScores.columns = ['Best_columns','Score_ANOVA'] \n",
        "\n",
        "lyst = featureScores.nlargest(number_of_feat,'Score_ANOVA')\n",
        "\n",
        "#lyst.to_csv('Filter_Method_ANOVA_with_f_classif.csv')\n",
        "\n",
        "list_of_feat = list(lyst[\"Best_columns\"])"
      ],
      "metadata": {
        "id": "jWdiiglz2iV-"
      },
      "execution_count": 65,
      "outputs": []
    },
    {
      "cell_type": "markdown",
      "source": [
        "###Embedded Method"
      ],
      "metadata": {
        "id": "ulApxK0w7JXX"
      }
    },
    {
      "cell_type": "code",
      "source": [
        "\n",
        "from sklearn.linear_model import LassoCV\n",
        "reg = LassoCV()\n",
        "reg.fit(X, y)\n",
        "print(\"Best alpha using built-in LassoCV: %f\" % reg.alpha_)\n",
        "print(\"Best score using built-in LassoCV: %f\" %reg.score(X,y))\n",
        "coef = pd.Series(reg.coef_, index = X.columns)\n",
        "\n",
        "print(\"Lasso picked \" + str(sum(coef != 0)) + \" variables and eliminated the other \" +  str(sum(coef == 0)) + \" variables\")\n",
        "\n",
        "imp_coef = coef.sort_values()\n",
        "\n",
        "list_of_feat=[]\n",
        "\n",
        "\n",
        "for i in range(coef.shape[0]):\n",
        "  if coef[i]!=0:\n",
        "    list_of_feat.append(dataset.iloc[:0,i+3].name)\n",
        "    \n",
        "df = pd.DataFrame(list_of_feat, columns=['Best_Features'])\n",
        "\n",
        "#df.to_csv(\"Embedded_Method.csv\")\n",
        "\n",
        "list_of_feat = list(df[\"Best_Features\"])"
      ],
      "metadata": {
        "id": "2A4W1e2v5sse"
      },
      "execution_count": null,
      "outputs": []
    },
    {
      "cell_type": "markdown",
      "source": [
        "###Pearson's with f regression"
      ],
      "metadata": {
        "id": "roe4MPHM7NJy"
      }
    },
    {
      "cell_type": "code",
      "source": [
        "from sklearn.datasets import make_regression\n",
        "from sklearn.feature_selection import SelectKBest\n",
        "from sklearn.feature_selection import f_regression\n",
        "import pandas as pd\n",
        "\n",
        "\n",
        "fs = SelectKBest(score_func=f_regression, k=5)\n",
        "fit = fs.fit(X,y)\n",
        "\n",
        "dfscores = pd.DataFrame(fit.scores_)\n",
        "dfcolumns = pd.DataFrame(dataset.columns)\n",
        "featureScores = pd.concat([dfcolumns,dfscores],axis=1)\n",
        "\n",
        "featureScores.columns = ['Best_columns','Score_pearsons'] \n",
        "\n",
        "\n",
        "lyst = featureScores.nlargest(number_of_feat,'Score_pearsons')\n",
        "\n",
        "#lyst.to_csv('Filter_Method_Pearson’s_with_f_regression.csv')\n",
        "\n",
        "list_of_feat = list(lyst[\"Best_columns\"])"
      ],
      "metadata": {
        "id": "o4A0dH566an_"
      },
      "execution_count": 42,
      "outputs": []
    },
    {
      "cell_type": "markdown",
      "source": [
        "###Sequential Feature Selection"
      ],
      "metadata": {
        "id": "kwFK7VeE7RwH"
      }
    },
    {
      "cell_type": "code",
      "source": [
        "from sklearn.feature_selection import SequentialFeatureSelector\n",
        "from sklearn.neighbors import KNeighborsClassifier\n",
        "knn = KNeighborsClassifier(n_neighbors=3)\n",
        "sfs = SequentialFeatureSelector(knn, n_features_to_select=number_of_feat)\n",
        "sfs.fit(X, y)\n",
        "list_of_feat=[]\n",
        "list_of_feat=list(sfs.get_feature_names_out(X.columns))\n",
        "\n",
        "df = pd.DataFrame(list_of_feat, columns=['Best_Features'])\n",
        "\n",
        "#df.to_csv(\"Filter_Method_Sequential_feat_Selection_KNN.csv\")\n",
        "\n",
        "list_of_feat = list(df[\"Best_Features\"])"
      ],
      "metadata": {
        "id": "sQlorvfS6wed"
      },
      "execution_count": 44,
      "outputs": []
    },
    {
      "cell_type": "markdown",
      "source": [
        "###All features"
      ],
      "metadata": {
        "id": "swd5ZOVO-8cL"
      }
    },
    {
      "cell_type": "code",
      "source": [
        "list_of_feat = list(X.columns)"
      ],
      "metadata": {
        "id": "KoiMxNN3-_zH"
      },
      "execution_count": 9,
      "outputs": []
    },
    {
      "cell_type": "markdown",
      "source": [
        "#Dataset Spliting"
      ],
      "metadata": {
        "id": "k4YDHMuh-wMT"
      }
    },
    {
      "cell_type": "code",
      "source": [
        "X_new = dataset[list_of_feat]\n",
        "y_new = dataset[target]"
      ],
      "metadata": {
        "id": "MKgy4THrq4v8"
      },
      "execution_count": 10,
      "outputs": []
    },
    {
      "cell_type": "code",
      "source": [
        "X_new.shape"
      ],
      "metadata": {
        "id": "Fxz-DgDXZtpD",
        "colab": {
          "base_uri": "https://localhost:8080/"
        },
        "outputId": "e0d58656-50f1-46ee-d1f6-f2cc1afbb006"
      },
      "execution_count": 11,
      "outputs": [
        {
          "output_type": "execute_result",
          "data": {
            "text/plain": [
              "(1711, 256)"
            ]
          },
          "metadata": {},
          "execution_count": 11
        }
      ]
    },
    {
      "cell_type": "code",
      "source": [
        "y_new.shape"
      ],
      "metadata": {
        "id": "1q9Y_6BAr-es",
        "colab": {
          "base_uri": "https://localhost:8080/"
        },
        "outputId": "f9cbfcef-d0fc-4221-d796-dcafc18bfa95"
      },
      "execution_count": 12,
      "outputs": [
        {
          "output_type": "execute_result",
          "data": {
            "text/plain": [
              "(1711,)"
            ]
          },
          "metadata": {},
          "execution_count": 12
        }
      ]
    },
    {
      "cell_type": "code",
      "source": [
        "from sklearn.model_selection import train_test_split\n",
        "X_train, X_test, y_train, y_test = train_test_split(X_new, y_new, test_size = 0.2, random_state = 0)"
      ],
      "metadata": {
        "id": "_CYZE4jgq3w9"
      },
      "execution_count": 13,
      "outputs": []
    },
    {
      "cell_type": "markdown",
      "source": [
        "\n",
        "\n",
        "---\n",
        "\n"
      ],
      "metadata": {
        "id": "bqYsoblRogp2"
      }
    },
    {
      "cell_type": "markdown",
      "source": [
        "\n",
        "\n",
        "---\n",
        "\n"
      ],
      "metadata": {
        "id": "BydV84Diooxp"
      }
    },
    {
      "cell_type": "markdown",
      "source": [
        "#ADABOOST"
      ],
      "metadata": {
        "id": "jEe2R0yAoifa"
      }
    },
    {
      "cell_type": "code",
      "source": [
        "from sklearn.ensemble import AdaBoostClassifier\n",
        "\n",
        "ada_defult = AdaBoostClassifier(random_state=0)\n",
        "ada_defult.fit(X_train, y_train)\n",
        "y_pred = ada_defult.predict(X_test)\n",
        "\n",
        "from sklearn.metrics import classification_report, confusion_matrix, accuracy_score\n",
        "print(confusion_matrix(y_test, y_pred))\n",
        "print(classification_report(y_test,y_pred))\n",
        "print(\"Accurecy: \",accuracy_score(y_test, y_pred))\n",
        "result[(ada_defult,1,'AdaBoostClassifier')]=accuracy_score(y_test, y_pred)\n"
      ],
      "metadata": {
        "id": "Bz_yVJaXod8O",
        "colab": {
          "base_uri": "https://localhost:8080/"
        },
        "outputId": "3f4d7d56-89f7-4ba3-a425-7e53a5ab0f98"
      },
      "execution_count": 14,
      "outputs": [
        {
          "output_type": "stream",
          "name": "stdout",
          "text": [
            "[[116  18  20   0]\n",
            " [ 28  15   7   4]\n",
            " [ 31   3  38  14]\n",
            " [  3   1  10  35]]\n",
            "              precision    recall  f1-score   support\n",
            "\n",
            "           0       0.65      0.75      0.70       154\n",
            "           1       0.41      0.28      0.33        54\n",
            "           2       0.51      0.44      0.47        86\n",
            "           3       0.66      0.71      0.69        49\n",
            "\n",
            "    accuracy                           0.59       343\n",
            "   macro avg       0.56      0.55      0.55       343\n",
            "weighted avg       0.58      0.59      0.58       343\n",
            "\n",
            "Accurecy:  0.5947521865889213\n"
          ]
        }
      ]
    },
    {
      "cell_type": "code",
      "source": [
        "from sklearn.ensemble import AdaBoostClassifier\n",
        "N=200\n",
        "k_range = range (1,N+1)\n",
        "scores={}\n",
        "scores_list = []\n",
        "for k in k_range:\n",
        "  classifier = AdaBoostClassifier(n_estimators=k,random_state=0)\n",
        "  classifier.fit(X_train, y_train)\n",
        "  y_pred=classifier.predict(X_test)\n",
        "  scores[k] = accuracy_score(y_test,y_pred)\n",
        "  scores_list.append(accuracy_score(y_test,y_pred))\n",
        "  print(str(k)+\"/\"+str(N)+\" round completed......................... Accurecy: \"+str(accuracy_score(y_test,y_pred)))\n",
        "\n",
        "\n",
        "\n",
        "%matplotlib inline\n",
        "import matplotlib.pyplot as plt\n",
        "#plot the relationship between K and the testing accuracy\n",
        "plt.figure(figsize = (25,10))\n",
        "plt.plot(k_range,scores_list)\n",
        "plt.xlabel('Value of n_estimators')\n",
        "plt.ylabel ('Testing Accuracy')\n",
        "\n",
        "\n",
        "\n",
        "print(\"The best n_estimators:\")\n",
        "best_estimator=list(scores.keys())[scores_list.index(max(scores_list))]\n",
        "print(best_estimator)"
      ],
      "metadata": {
        "id": "_3wRG3rxotzH",
        "colab": {
          "base_uri": "https://localhost:8080/",
          "height": 1000
        },
        "outputId": "9c416e70-d114-4543-eb9d-970a26d920d1"
      },
      "execution_count": 15,
      "outputs": [
        {
          "output_type": "stream",
          "name": "stdout",
          "text": [
            "1/200 round completed......................... Accurecy: 0.5364431486880467\n",
            "2/200 round completed......................... Accurecy: 0.5568513119533528\n",
            "3/200 round completed......................... Accurecy: 0.5597667638483965\n",
            "4/200 round completed......................... Accurecy: 0.6151603498542274\n",
            "5/200 round completed......................... Accurecy: 0.6209912536443148\n",
            "6/200 round completed......................... Accurecy: 0.6180758017492711\n",
            "7/200 round completed......................... Accurecy: 0.6180758017492711\n",
            "8/200 round completed......................... Accurecy: 0.6151603498542274\n",
            "9/200 round completed......................... Accurecy: 0.577259475218659\n",
            "10/200 round completed......................... Accurecy: 0.5889212827988338\n",
            "11/200 round completed......................... Accurecy: 0.5860058309037901\n",
            "12/200 round completed......................... Accurecy: 0.5743440233236151\n",
            "13/200 round completed......................... Accurecy: 0.5830903790087464\n",
            "14/200 round completed......................... Accurecy: 0.5830903790087464\n",
            "15/200 round completed......................... Accurecy: 0.5801749271137027\n",
            "16/200 round completed......................... Accurecy: 0.577259475218659\n",
            "17/200 round completed......................... Accurecy: 0.5889212827988338\n",
            "18/200 round completed......................... Accurecy: 0.5860058309037901\n",
            "19/200 round completed......................... Accurecy: 0.5860058309037901\n",
            "20/200 round completed......................... Accurecy: 0.5801749271137027\n",
            "21/200 round completed......................... Accurecy: 0.5830903790087464\n",
            "22/200 round completed......................... Accurecy: 0.5918367346938775\n",
            "23/200 round completed......................... Accurecy: 0.5889212827988338\n",
            "24/200 round completed......................... Accurecy: 0.5860058309037901\n",
            "25/200 round completed......................... Accurecy: 0.5830903790087464\n",
            "26/200 round completed......................... Accurecy: 0.6064139941690962\n",
            "27/200 round completed......................... Accurecy: 0.6034985422740525\n",
            "28/200 round completed......................... Accurecy: 0.597667638483965\n",
            "29/200 round completed......................... Accurecy: 0.6005830903790087\n",
            "30/200 round completed......................... Accurecy: 0.5947521865889213\n",
            "31/200 round completed......................... Accurecy: 0.6064139941690962\n",
            "32/200 round completed......................... Accurecy: 0.6034985422740525\n",
            "33/200 round completed......................... Accurecy: 0.6064139941690962\n",
            "34/200 round completed......................... Accurecy: 0.597667638483965\n",
            "35/200 round completed......................... Accurecy: 0.5947521865889213\n",
            "36/200 round completed......................... Accurecy: 0.6034985422740525\n",
            "37/200 round completed......................... Accurecy: 0.5889212827988338\n",
            "38/200 round completed......................... Accurecy: 0.6034985422740525\n",
            "39/200 round completed......................... Accurecy: 0.6005830903790087\n",
            "40/200 round completed......................... Accurecy: 0.6005830903790087\n",
            "41/200 round completed......................... Accurecy: 0.597667638483965\n",
            "42/200 round completed......................... Accurecy: 0.6209912536443148\n",
            "43/200 round completed......................... Accurecy: 0.6122448979591837\n",
            "44/200 round completed......................... Accurecy: 0.6151603498542274\n",
            "45/200 round completed......................... Accurecy: 0.5947521865889213\n",
            "46/200 round completed......................... Accurecy: 0.5743440233236151\n",
            "47/200 round completed......................... Accurecy: 0.5714285714285714\n",
            "48/200 round completed......................... Accurecy: 0.5685131195335277\n",
            "49/200 round completed......................... Accurecy: 0.577259475218659\n",
            "50/200 round completed......................... Accurecy: 0.5947521865889213\n",
            "51/200 round completed......................... Accurecy: 0.5830903790087464\n",
            "52/200 round completed......................... Accurecy: 0.5860058309037901\n",
            "53/200 round completed......................... Accurecy: 0.565597667638484\n",
            "54/200 round completed......................... Accurecy: 0.565597667638484\n",
            "55/200 round completed......................... Accurecy: 0.5422740524781341\n",
            "56/200 round completed......................... Accurecy: 0.5481049562682215\n",
            "57/200 round completed......................... Accurecy: 0.5597667638483965\n",
            "58/200 round completed......................... Accurecy: 0.5393586005830904\n",
            "59/200 round completed......................... Accurecy: 0.565597667638484\n",
            "60/200 round completed......................... Accurecy: 0.5422740524781341\n",
            "61/200 round completed......................... Accurecy: 0.5481049562682215\n",
            "62/200 round completed......................... Accurecy: 0.5422740524781341\n",
            "63/200 round completed......................... Accurecy: 0.5597667638483965\n",
            "64/200 round completed......................... Accurecy: 0.5451895043731778\n",
            "65/200 round completed......................... Accurecy: 0.5393586005830904\n",
            "66/200 round completed......................... Accurecy: 0.5510204081632653\n",
            "67/200 round completed......................... Accurecy: 0.5451895043731778\n",
            "68/200 round completed......................... Accurecy: 0.5451895043731778\n",
            "69/200 round completed......................... Accurecy: 0.5539358600583091\n",
            "70/200 round completed......................... Accurecy: 0.5568513119533528\n",
            "71/200 round completed......................... Accurecy: 0.5539358600583091\n",
            "72/200 round completed......................... Accurecy: 0.5568513119533528\n",
            "73/200 round completed......................... Accurecy: 0.5568513119533528\n",
            "74/200 round completed......................... Accurecy: 0.565597667638484\n",
            "75/200 round completed......................... Accurecy: 0.5714285714285714\n",
            "76/200 round completed......................... Accurecy: 0.5685131195335277\n",
            "77/200 round completed......................... Accurecy: 0.5714285714285714\n",
            "78/200 round completed......................... Accurecy: 0.565597667638484\n",
            "79/200 round completed......................... Accurecy: 0.577259475218659\n",
            "80/200 round completed......................... Accurecy: 0.5597667638483965\n",
            "81/200 round completed......................... Accurecy: 0.5539358600583091\n",
            "82/200 round completed......................... Accurecy: 0.5451895043731778\n",
            "83/200 round completed......................... Accurecy: 0.5568513119533528\n",
            "84/200 round completed......................... Accurecy: 0.5364431486880467\n",
            "85/200 round completed......................... Accurecy: 0.5335276967930029\n",
            "86/200 round completed......................... Accurecy: 0.5393586005830904\n",
            "87/200 round completed......................... Accurecy: 0.5422740524781341\n",
            "88/200 round completed......................... Accurecy: 0.5364431486880467\n",
            "89/200 round completed......................... Accurecy: 0.5335276967930029\n",
            "90/200 round completed......................... Accurecy: 0.5510204081632653\n",
            "91/200 round completed......................... Accurecy: 0.5451895043731778\n",
            "92/200 round completed......................... Accurecy: 0.5393586005830904\n",
            "93/200 round completed......................... Accurecy: 0.5451895043731778\n",
            "94/200 round completed......................... Accurecy: 0.5568513119533528\n",
            "95/200 round completed......................... Accurecy: 0.5539358600583091\n",
            "96/200 round completed......................... Accurecy: 0.5481049562682215\n",
            "97/200 round completed......................... Accurecy: 0.5568513119533528\n",
            "98/200 round completed......................... Accurecy: 0.565597667638484\n",
            "99/200 round completed......................... Accurecy: 0.5597667638483965\n",
            "100/200 round completed......................... Accurecy: 0.565597667638484\n",
            "101/200 round completed......................... Accurecy: 0.5510204081632653\n",
            "102/200 round completed......................... Accurecy: 0.5568513119533528\n",
            "103/200 round completed......................... Accurecy: 0.565597667638484\n",
            "104/200 round completed......................... Accurecy: 0.5685131195335277\n",
            "105/200 round completed......................... Accurecy: 0.5685131195335277\n",
            "106/200 round completed......................... Accurecy: 0.5597667638483965\n",
            "107/200 round completed......................... Accurecy: 0.5597667638483965\n",
            "108/200 round completed......................... Accurecy: 0.5539358600583091\n",
            "109/200 round completed......................... Accurecy: 0.565597667638484\n",
            "110/200 round completed......................... Accurecy: 0.5568513119533528\n",
            "111/200 round completed......................... Accurecy: 0.5451895043731778\n",
            "112/200 round completed......................... Accurecy: 0.5422740524781341\n",
            "113/200 round completed......................... Accurecy: 0.5510204081632653\n",
            "114/200 round completed......................... Accurecy: 0.5539358600583091\n",
            "115/200 round completed......................... Accurecy: 0.5510204081632653\n",
            "116/200 round completed......................... Accurecy: 0.5510204081632653\n",
            "117/200 round completed......................... Accurecy: 0.565597667638484\n",
            "118/200 round completed......................... Accurecy: 0.5539358600583091\n",
            "119/200 round completed......................... Accurecy: 0.5626822157434402\n",
            "120/200 round completed......................... Accurecy: 0.5597667638483965\n",
            "121/200 round completed......................... Accurecy: 0.5510204081632653\n",
            "122/200 round completed......................... Accurecy: 0.5510204081632653\n",
            "123/200 round completed......................... Accurecy: 0.5539358600583091\n",
            "124/200 round completed......................... Accurecy: 0.5568513119533528\n",
            "125/200 round completed......................... Accurecy: 0.5568513119533528\n",
            "126/200 round completed......................... Accurecy: 0.5568513119533528\n",
            "127/200 round completed......................... Accurecy: 0.5451895043731778\n",
            "128/200 round completed......................... Accurecy: 0.5626822157434402\n",
            "129/200 round completed......................... Accurecy: 0.5626822157434402\n",
            "130/200 round completed......................... Accurecy: 0.5539358600583091\n",
            "131/200 round completed......................... Accurecy: 0.5626822157434402\n",
            "132/200 round completed......................... Accurecy: 0.5626822157434402\n",
            "133/200 round completed......................... Accurecy: 0.5685131195335277\n",
            "134/200 round completed......................... Accurecy: 0.5743440233236151\n",
            "135/200 round completed......................... Accurecy: 0.577259475218659\n",
            "136/200 round completed......................... Accurecy: 0.5539358600583091\n",
            "137/200 round completed......................... Accurecy: 0.577259475218659\n",
            "138/200 round completed......................... Accurecy: 0.5801749271137027\n",
            "139/200 round completed......................... Accurecy: 0.577259475218659\n",
            "140/200 round completed......................... Accurecy: 0.5830903790087464\n",
            "141/200 round completed......................... Accurecy: 0.5801749271137027\n",
            "142/200 round completed......................... Accurecy: 0.5830903790087464\n",
            "143/200 round completed......................... Accurecy: 0.5889212827988338\n",
            "144/200 round completed......................... Accurecy: 0.577259475218659\n",
            "145/200 round completed......................... Accurecy: 0.577259475218659\n",
            "146/200 round completed......................... Accurecy: 0.5889212827988338\n",
            "147/200 round completed......................... Accurecy: 0.5918367346938775\n",
            "148/200 round completed......................... Accurecy: 0.5889212827988338\n",
            "149/200 round completed......................... Accurecy: 0.5918367346938775\n",
            "150/200 round completed......................... Accurecy: 0.597667638483965\n",
            "151/200 round completed......................... Accurecy: 0.5918367346938775\n",
            "152/200 round completed......................... Accurecy: 0.6034985422740525\n",
            "153/200 round completed......................... Accurecy: 0.5889212827988338\n",
            "154/200 round completed......................... Accurecy: 0.5860058309037901\n",
            "155/200 round completed......................... Accurecy: 0.5801749271137027\n",
            "156/200 round completed......................... Accurecy: 0.5830903790087464\n",
            "157/200 round completed......................... Accurecy: 0.5714285714285714\n",
            "158/200 round completed......................... Accurecy: 0.5743440233236151\n",
            "159/200 round completed......................... Accurecy: 0.5860058309037901\n",
            "160/200 round completed......................... Accurecy: 0.5918367346938775\n",
            "161/200 round completed......................... Accurecy: 0.5860058309037901\n",
            "162/200 round completed......................... Accurecy: 0.5801749271137027\n",
            "163/200 round completed......................... Accurecy: 0.5860058309037901\n",
            "164/200 round completed......................... Accurecy: 0.5860058309037901\n",
            "165/200 round completed......................... Accurecy: 0.5889212827988338\n",
            "166/200 round completed......................... Accurecy: 0.5889212827988338\n",
            "167/200 round completed......................... Accurecy: 0.5889212827988338\n",
            "168/200 round completed......................... Accurecy: 0.577259475218659\n",
            "169/200 round completed......................... Accurecy: 0.577259475218659\n",
            "170/200 round completed......................... Accurecy: 0.5801749271137027\n",
            "171/200 round completed......................... Accurecy: 0.5801749271137027\n",
            "172/200 round completed......................... Accurecy: 0.5714285714285714\n",
            "173/200 round completed......................... Accurecy: 0.5714285714285714\n",
            "174/200 round completed......................... Accurecy: 0.577259475218659\n",
            "175/200 round completed......................... Accurecy: 0.5626822157434402\n",
            "176/200 round completed......................... Accurecy: 0.5626822157434402\n",
            "177/200 round completed......................... Accurecy: 0.5685131195335277\n",
            "178/200 round completed......................... Accurecy: 0.5597667638483965\n",
            "179/200 round completed......................... Accurecy: 0.5626822157434402\n",
            "180/200 round completed......................... Accurecy: 0.5714285714285714\n",
            "181/200 round completed......................... Accurecy: 0.5685131195335277\n",
            "182/200 round completed......................... Accurecy: 0.5626822157434402\n",
            "183/200 round completed......................... Accurecy: 0.565597667638484\n",
            "184/200 round completed......................... Accurecy: 0.5597667638483965\n",
            "185/200 round completed......................... Accurecy: 0.565597667638484\n",
            "186/200 round completed......................... Accurecy: 0.565597667638484\n",
            "187/200 round completed......................... Accurecy: 0.5510204081632653\n",
            "188/200 round completed......................... Accurecy: 0.5510204081632653\n",
            "189/200 round completed......................... Accurecy: 0.5685131195335277\n",
            "190/200 round completed......................... Accurecy: 0.5481049562682215\n",
            "191/200 round completed......................... Accurecy: 0.5568513119533528\n",
            "192/200 round completed......................... Accurecy: 0.5714285714285714\n",
            "193/200 round completed......................... Accurecy: 0.565597667638484\n",
            "194/200 round completed......................... Accurecy: 0.5597667638483965\n",
            "195/200 round completed......................... Accurecy: 0.565597667638484\n",
            "196/200 round completed......................... Accurecy: 0.5743440233236151\n",
            "197/200 round completed......................... Accurecy: 0.5626822157434402\n",
            "198/200 round completed......................... Accurecy: 0.565597667638484\n",
            "199/200 round completed......................... Accurecy: 0.5685131195335277\n",
            "200/200 round completed......................... Accurecy: 0.5685131195335277\n",
            "The best n_estimators:\n",
            "5\n"
          ]
        },
        {
          "output_type": "display_data",
          "data": {
            "text/plain": [
              "<Figure size 1800x720 with 1 Axes>"
            ],
            "image/png": "[encoded data removed]"
          },
          "metadata": {
            "needs_background": "light"
          }
        }
      ]
    },
    {
      "cell_type": "code",
      "source": [
        "from sklearn.ensemble import AdaBoostClassifier\n",
        "\n",
        "ada_best_estimator = AdaBoostClassifier(n_estimators=best_estimator,random_state=0)\n",
        "ada_best_estimator.fit(X_train, y_train)\n",
        "y_pred = ada_best_estimator.predict(X_test)\n",
        "\n",
        "from sklearn.metrics import classification_report, confusion_matrix, accuracy_score\n",
        "print(confusion_matrix(y_test, y_pred))\n",
        "print(classification_report(y_test,y_pred))\n",
        "print(\"Accurecy: \",accuracy_score(y_test, y_pred))\n",
        "result[(ada_best_estimator,1,'AdaBoostClassifier')]=accuracy_score(y_test, y_pred)"
      ],
      "metadata": {
        "id": "ctzoGCmFo0In",
        "colab": {
          "base_uri": "https://localhost:8080/"
        },
        "outputId": "9cd285db-e31d-43e7-f79a-4e941d667a26"
      },
      "execution_count": 16,
      "outputs": [
        {
          "output_type": "stream",
          "name": "stdout",
          "text": [
            "[[135   1  15   3]\n",
            " [ 41   1   4   8]\n",
            " [ 34   2  38  12]\n",
            " [  3   0   7  39]]\n",
            "              precision    recall  f1-score   support\n",
            "\n",
            "           0       0.63      0.88      0.74       154\n",
            "           1       0.25      0.02      0.03        54\n",
            "           2       0.59      0.44      0.51        86\n",
            "           3       0.63      0.80      0.70        49\n",
            "\n",
            "    accuracy                           0.62       343\n",
            "   macro avg       0.53      0.53      0.49       343\n",
            "weighted avg       0.56      0.62      0.56       343\n",
            "\n",
            "Accurecy:  0.6209912536443148\n"
          ]
        }
      ]
    },
    {
      "cell_type": "markdown",
      "source": [
        "\n",
        "\n",
        "---\n",
        "\n",
        "\n",
        "\n",
        "---\n",
        "\n"
      ],
      "metadata": {
        "id": "JQhATacCo1AD"
      }
    },
    {
      "cell_type": "markdown",
      "source": [
        "#Graddient Boosting"
      ],
      "metadata": {
        "id": "FJybpt_UvCU0"
      }
    },
    {
      "cell_type": "code",
      "source": [
        "from sklearn.ensemble import GradientBoostingClassifier\n",
        "from sklearn.model_selection import RepeatedStratifiedKFold\n",
        "\n",
        "gradBoost_default = GradientBoostingClassifier(random_state=0)\n",
        "gradBoost_default.fit(X_train, y_train)\n",
        "y_pred = gradBoost_default.predict(X_test)\n",
        "\n",
        "from sklearn.metrics import classification_report, confusion_matrix, accuracy_score\n",
        "print(confusion_matrix(y_test, y_pred))\n",
        "print(classification_report(y_test,y_pred))\n",
        "print(\"Accurecy: \",accuracy_score(y_test, y_pred))\n",
        "result[(gradBoost_default,2,'GradientBoostingClassifier')]=accuracy_score(y_test, y_pred)"
      ],
      "metadata": {
        "id": "sgmvc8A_o18j",
        "colab": {
          "base_uri": "https://localhost:8080/"
        },
        "outputId": "b000d635-10d9-4fe4-dddb-f2601560afdc"
      },
      "execution_count": 17,
      "outputs": [
        {
          "output_type": "stream",
          "name": "stdout",
          "text": [
            "[[140   2  12   0]\n",
            " [ 22  17  11   4]\n",
            " [ 13   4  54  15]\n",
            " [  4   1   8  36]]\n",
            "              precision    recall  f1-score   support\n",
            "\n",
            "           0       0.78      0.91      0.84       154\n",
            "           1       0.71      0.31      0.44        54\n",
            "           2       0.64      0.63      0.63        86\n",
            "           3       0.65      0.73      0.69        49\n",
            "\n",
            "    accuracy                           0.72       343\n",
            "   macro avg       0.70      0.65      0.65       343\n",
            "weighted avg       0.72      0.72      0.70       343\n",
            "\n",
            "Accurecy:  0.7201166180758017\n"
          ]
        }
      ]
    },
    {
      "cell_type": "code",
      "source": [
        "from sklearn.ensemble import GradientBoostingClassifier\n",
        "from sklearn.metrics import accuracy_score\n",
        "N=150\n",
        "k_range = range (1,N+1)\n",
        "scores={}\n",
        "scores_list = []\n",
        "for k in k_range:\n",
        "  classifier = GradientBoostingClassifier(n_estimators=k,random_state=0)\n",
        "  classifier.fit(X_train, y_train)\n",
        "  y_pred=classifier.predict(X_test)\n",
        "  scores[k] = accuracy_score(y_test,y_pred)\n",
        "  scores_list.append(accuracy_score(y_test,y_pred))\n",
        "  print(str(k)+\"/\"+str(N)+\" round completed......................... Accurecy: \"+str(accuracy_score(y_test,y_pred)))\n",
        "\n",
        "\n",
        "\n",
        "%matplotlib inline\n",
        "import matplotlib.pyplot as plt\n",
        "\n",
        "plt.figure(figsize = (25,10))\n",
        "plt.plot(k_range,scores_list)\n",
        "plt.xlabel('Value of n_estimators')\n",
        "plt.ylabel ('Testing Accuracy')\n",
        "\n",
        "\n",
        "\n",
        "print(\"The best n_estimators:\")\n",
        "best_estimator=list(scores.keys())[scores_list.index(max(scores_list))]\n",
        "print(best_estimator)"
      ],
      "metadata": {
        "id": "9brp-qNgo-tX",
        "colab": {
          "base_uri": "https://localhost:8080/"
        },
        "outputId": "e9d9fada-ba7b-4ab6-9c11-887bf8996b64"
      },
      "execution_count": null,
      "outputs": [
        {
          "output_type": "stream",
          "name": "stdout",
          "text": [
            "1/150 round completed......................... Accurecy: 0.4489795918367347\n",
            "2/150 round completed......................... Accurecy: 0.45481049562682213\n",
            "3/150 round completed......................... Accurecy: 0.5860058309037901\n",
            "4/150 round completed......................... Accurecy: 0.60932944606414\n",
            "5/150 round completed......................... Accurecy: 0.6384839650145773\n",
            "6/150 round completed......................... Accurecy: 0.6472303206997084\n",
            "7/150 round completed......................... Accurecy: 0.6676384839650146\n",
            "8/150 round completed......................... Accurecy: 0.6647230320699709\n",
            "9/150 round completed......................... Accurecy: 0.6763848396501457\n",
            "10/150 round completed......................... Accurecy: 0.6822157434402333\n",
            "11/150 round completed......................... Accurecy: 0.685131195335277\n",
            "12/150 round completed......................... Accurecy: 0.6793002915451894\n",
            "13/150 round completed......................... Accurecy: 0.685131195335277\n",
            "14/150 round completed......................... Accurecy: 0.685131195335277\n",
            "15/150 round completed......................... Accurecy: 0.6763848396501457\n",
            "16/150 round completed......................... Accurecy: 0.6763848396501457\n",
            "17/150 round completed......................... Accurecy: 0.673469387755102\n",
            "18/150 round completed......................... Accurecy: 0.6763848396501457\n",
            "19/150 round completed......................... Accurecy: 0.6793002915451894\n",
            "20/150 round completed......................... Accurecy: 0.685131195335277\n",
            "21/150 round completed......................... Accurecy: 0.6822157434402333\n",
            "22/150 round completed......................... Accurecy: 0.6822157434402333\n",
            "23/150 round completed......................... Accurecy: 0.6793002915451894\n",
            "24/150 round completed......................... Accurecy: 0.685131195335277\n",
            "25/150 round completed......................... Accurecy: 0.6793002915451894\n",
            "26/150 round completed......................... Accurecy: 0.6822157434402333\n",
            "27/150 round completed......................... Accurecy: 0.6880466472303207\n",
            "28/150 round completed......................... Accurecy: 0.6967930029154519\n",
            "29/150 round completed......................... Accurecy: 0.7026239067055393\n",
            "30/150 round completed......................... Accurecy: 0.7084548104956269\n",
            "31/150 round completed......................... Accurecy: 0.7026239067055393\n",
            "32/150 round completed......................... Accurecy: 0.6967930029154519\n",
            "33/150 round completed......................... Accurecy: 0.7026239067055393\n",
            "34/150 round completed......................... Accurecy: 0.7084548104956269\n",
            "35/150 round completed......................... Accurecy: 0.7026239067055393\n",
            "36/150 round completed......................... Accurecy: 0.7084548104956269\n",
            "37/150 round completed......................... Accurecy: 0.7026239067055393\n",
            "38/150 round completed......................... Accurecy: 0.7142857142857143\n",
            "39/150 round completed......................... Accurecy: 0.7084548104956269\n",
            "40/150 round completed......................... Accurecy: 0.7055393586005831\n",
            "41/150 round completed......................... Accurecy: 0.7055393586005831\n",
            "42/150 round completed......................... Accurecy: 0.7084548104956269\n",
            "43/150 round completed......................... Accurecy: 0.7113702623906706\n",
            "44/150 round completed......................... Accurecy: 0.717201166180758\n",
            "45/150 round completed......................... Accurecy: 0.717201166180758\n",
            "46/150 round completed......................... Accurecy: 0.7142857142857143\n",
            "47/150 round completed......................... Accurecy: 0.7084548104956269\n",
            "48/150 round completed......................... Accurecy: 0.7113702623906706\n",
            "49/150 round completed......................... Accurecy: 0.7084548104956269\n",
            "50/150 round completed......................... Accurecy: 0.7142857142857143\n",
            "51/150 round completed......................... Accurecy: 0.7142857142857143\n",
            "52/150 round completed......................... Accurecy: 0.7026239067055393\n",
            "53/150 round completed......................... Accurecy: 0.7026239067055393\n",
            "54/150 round completed......................... Accurecy: 0.7055393586005831\n",
            "55/150 round completed......................... Accurecy: 0.7055393586005831\n",
            "56/150 round completed......................... Accurecy: 0.7055393586005831\n",
            "57/150 round completed......................... Accurecy: 0.7142857142857143\n",
            "58/150 round completed......................... Accurecy: 0.7142857142857143\n",
            "59/150 round completed......................... Accurecy: 0.7142857142857143\n",
            "60/150 round completed......................... Accurecy: 0.7142857142857143\n",
            "61/150 round completed......................... Accurecy: 0.717201166180758\n",
            "62/150 round completed......................... Accurecy: 0.7201166180758017\n",
            "63/150 round completed......................... Accurecy: 0.717201166180758\n",
            "64/150 round completed......................... Accurecy: 0.7201166180758017\n",
            "65/150 round completed......................... Accurecy: 0.717201166180758\n",
            "66/150 round completed......................... Accurecy: 0.7201166180758017\n",
            "67/150 round completed......................... Accurecy: 0.7230320699708455\n",
            "68/150 round completed......................... Accurecy: 0.7201166180758017\n",
            "69/150 round completed......................... Accurecy: 0.7230320699708455\n",
            "70/150 round completed......................... Accurecy: 0.7230320699708455\n",
            "71/150 round completed......................... Accurecy: 0.7230320699708455\n",
            "72/150 round completed......................... Accurecy: 0.7230320699708455\n",
            "73/150 round completed......................... Accurecy: 0.7230320699708455\n",
            "74/150 round completed......................... Accurecy: 0.7201166180758017\n",
            "75/150 round completed......................... Accurecy: 0.717201166180758\n",
            "76/150 round completed......................... Accurecy: 0.717201166180758\n",
            "77/150 round completed......................... Accurecy: 0.7201166180758017\n",
            "78/150 round completed......................... Accurecy: 0.717201166180758\n",
            "79/150 round completed......................... Accurecy: 0.717201166180758\n",
            "80/150 round completed......................... Accurecy: 0.717201166180758\n",
            "81/150 round completed......................... Accurecy: 0.717201166180758\n",
            "82/150 round completed......................... Accurecy: 0.717201166180758\n",
            "83/150 round completed......................... Accurecy: 0.7113702623906706\n",
            "84/150 round completed......................... Accurecy: 0.7142857142857143\n",
            "85/150 round completed......................... Accurecy: 0.7201166180758017\n",
            "86/150 round completed......................... Accurecy: 0.7113702623906706\n",
            "87/150 round completed......................... Accurecy: 0.7084548104956269\n",
            "88/150 round completed......................... Accurecy: 0.7113702623906706\n",
            "89/150 round completed......................... Accurecy: 0.7201166180758017\n",
            "90/150 round completed......................... Accurecy: 0.7230320699708455\n",
            "91/150 round completed......................... Accurecy: 0.717201166180758\n"
          ]
        }
      ]
    },
    {
      "cell_type": "code",
      "source": [
        "from sklearn.ensemble import GradientBoostingClassifier\n",
        "from sklearn.metrics import accuracy_score\n",
        "N=30\n",
        "k_range = range (1,N+1)\n",
        "scores={}\n",
        "scores_list = []\n",
        "for k in k_range:\n",
        "  classifier = GradientBoostingClassifier(max_depth=k,random_state=0)\n",
        "  classifier.fit(X_train, y_train)\n",
        "  y_pred=classifier.predict(X_test)\n",
        "  scores[k] = accuracy_score(y_test,y_pred)\n",
        "  scores_list.append(accuracy_score(y_test,y_pred))\n",
        "  print(str(k)+\"/\"+str(N)+\" round completed......................... Accurecy: \"+str(accuracy_score(y_test,y_pred)))\n",
        "\n",
        "\n",
        "\n",
        "%matplotlib inline\n",
        "import matplotlib.pyplot as plt\n",
        "\n",
        "plt.figure(figsize = (25,10))\n",
        "plt.plot(k_range,scores_list)\n",
        "plt.xlabel('Value of n_estimators')\n",
        "plt.ylabel ('Testing Accuracy')\n",
        "\n",
        "\n",
        "\n",
        "print(\"The best Depth:\")\n",
        "best_depth=list(scores.keys())[scores_list.index(max(scores_list))]\n",
        "print(best_depth)"
      ],
      "metadata": {
        "id": "JtO5QAkHpDAy"
      },
      "execution_count": null,
      "outputs": []
    },
    {
      "cell_type": "code",
      "source": [
        "from sklearn.ensemble import GradientBoostingClassifier\n",
        "\n",
        "gradBoost_estimator = GradientBoostingClassifier(n_estimators=best_estimator,random_state=0)\n",
        "gradBoost_estimator.fit(X_train, y_train)\n",
        "y_pred = gradBoost_estimator.predict(X_test)\n",
        "\n",
        "from sklearn.metrics import classification_report, confusion_matrix, accuracy_score\n",
        "print(confusion_matrix(y_test, y_pred))\n",
        "print(classification_report(y_test,y_pred))\n",
        "print(\"Accurecy: \",accuracy_score(y_test, y_pred))\n",
        "result[(gradBoost_estimator,2,'GradientBoostingClassifier')]=accuracy_score(y_test, y_pred)"
      ],
      "metadata": {
        "id": "EFg4mMYepGXx"
      },
      "execution_count": null,
      "outputs": []
    },
    {
      "cell_type": "code",
      "source": [
        "from sklearn.ensemble import GradientBoostingClassifier\n",
        "\n",
        "gradBoost_depth = GradientBoostingClassifier(max_depth=best_depth,random_state=0)\n",
        "gradBoost_depth.fit(X_train, y_train)\n",
        "y_pred = gradBoost_depth.predict(X_test)\n",
        "\n",
        "from sklearn.metrics import classification_report, confusion_matrix, accuracy_score\n",
        "print(confusion_matrix(y_test, y_pred))\n",
        "print(classification_report(y_test,y_pred))\n",
        "print(\"Accurecy: \",accuracy_score(y_test, y_pred))\n",
        "\n",
        "result[(gradBoost_depth,2,'GradientBoostingClassifier')]=accuracy_score(y_test, y_pred)"
      ],
      "metadata": {
        "id": "oS_ycrCQpI09"
      },
      "execution_count": null,
      "outputs": []
    },
    {
      "cell_type": "code",
      "source": [
        "from sklearn.ensemble import GradientBoostingClassifier\n",
        "\n",
        "gradBoost_all = GradientBoostingClassifier(n_estimators=best_estimator,max_depth=best_depth,random_state=0)\n",
        "gradBoost_all.fit(X_train, y_train)\n",
        "y_pred = gradBoost_all.predict(X_test)\n",
        "\n",
        "from sklearn.metrics import classification_report, confusion_matrix, accuracy_score\n",
        "print(confusion_matrix(y_test, y_pred))\n",
        "print(classification_report(y_test,y_pred))\n",
        "print(\"Accurecy: \",accuracy_score(y_test, y_pred))\n",
        "\n",
        "result[(gradBoost_all,2,'GradientBoostingClassifier')]=accuracy_score(y_test, y_pred)"
      ],
      "metadata": {
        "id": "GU8wNje3pJjR"
      },
      "execution_count": null,
      "outputs": []
    },
    {
      "cell_type": "markdown",
      "source": [
        "\n",
        "\n",
        "---\n",
        "\n",
        "\n",
        "\n",
        "---\n",
        "\n"
      ],
      "metadata": {
        "id": "ThoTlhc4pRJT"
      }
    },
    {
      "cell_type": "markdown",
      "source": [
        "#Random Forest"
      ],
      "metadata": {
        "id": "AgMT_U8gvM7F"
      }
    },
    {
      "cell_type": "code",
      "source": [
        "from sklearn.ensemble import RandomForestClassifier\n",
        "rf_default = RandomForestClassifier(random_state=0)\n",
        "rf_default.fit(X_train, y_train)\n",
        "y_pred=rf_default.predict(X_test)\n",
        "\n",
        "\n",
        "from sklearn.metrics import classification_report, confusion_matrix, accuracy_score\n",
        "print(confusion_matrix(y_test, y_pred))\n",
        "print(classification_report(y_test,y_pred))\n",
        "print(\"Accurecy: \",accuracy_score(y_test, y_pred))\n",
        "result[(rf_default,3,'RandomForestClassifier')]=accuracy_score(y_test, y_pred)"
      ],
      "metadata": {
        "id": "-4GMunEvtWk2"
      },
      "execution_count": null,
      "outputs": []
    },
    {
      "cell_type": "code",
      "source": [
        "from sklearn.ensemble import RandomForestClassifier\n",
        "from sklearn.metrics import accuracy_score\n",
        "N=150\n",
        "k_range = range (1,N+1)\n",
        "scores={}\n",
        "scores_list = []\n",
        "for k in k_range:\n",
        "  classifier = RandomForestClassifier(n_estimators=k,random_state=0)\n",
        "  classifier.fit(X_train, y_train)\n",
        "  y_pred=classifier.predict(X_test)\n",
        "  scores[k] = accuracy_score(y_test,y_pred)\n",
        "  scores_list.append(accuracy_score(y_test,y_pred))\n",
        "  print(str(k)+\"/\"+str(N)+\" round completed......................... Accurecy: \"+str(accuracy_score(y_test,y_pred)))\n",
        "\n",
        "\n",
        "\n",
        "%matplotlib inline\n",
        "import matplotlib.pyplot as plt\n",
        "\n",
        "plt.figure(figsize = (25,10))\n",
        "plt.plot(k_range,scores_list)\n",
        "plt.xlabel('Value of n_estimators')\n",
        "plt.ylabel ('Testing Accuracy')\n",
        "\n",
        "\n",
        "\n",
        "print(\"The best n_estimators:\")\n",
        "best_estimator=list(scores.keys())[scores_list.index(max(scores_list))]\n",
        "print(best_estimator)"
      ],
      "metadata": {
        "id": "ve34YgestieE"
      },
      "execution_count": null,
      "outputs": []
    },
    {
      "cell_type": "code",
      "source": [
        "from sklearn.ensemble import RandomForestClassifier\n",
        "from sklearn.metrics import accuracy_score\n",
        "N=150\n",
        "k_range = range (1,N+1)\n",
        "scores={}\n",
        "scores_list = []\n",
        "for k in k_range:\n",
        "  classifier = RandomForestClassifier(max_depth=k,random_state=0)\n",
        "  classifier.fit(X_train, y_train)\n",
        "  y_pred=classifier.predict(X_test)\n",
        "  scores[k] = accuracy_score(y_test,y_pred)\n",
        "  scores_list.append(accuracy_score(y_test,y_pred))\n",
        "  print(str(k)+\"/\"+str(N)+\" round completed......................... Accurecy: \"+str(accuracy_score(y_test,y_pred)))\n",
        "\n",
        "\n",
        "\n",
        "%matplotlib inline\n",
        "import matplotlib.pyplot as plt\n",
        "\n",
        "plt.figure(figsize = (25,10))\n",
        "plt.plot(k_range,scores_list)\n",
        "plt.xlabel('Value of n_estimators')\n",
        "plt.ylabel ('Testing Accuracy')\n",
        "\n",
        "\n",
        "\n",
        "print(\"The best Depth:\")\n",
        "best_depth=list(scores.keys())[scores_list.index(max(scores_list))]\n",
        "print(best_depth)"
      ],
      "metadata": {
        "id": "eVfKbSTWtnny"
      },
      "execution_count": null,
      "outputs": []
    },
    {
      "cell_type": "code",
      "source": [
        "from sklearn.ensemble import RandomForestClassifier\n",
        "rf_estimator = RandomForestClassifier(n_estimators=best_estimator,random_state=0)\n",
        "rf_estimator.fit(X_train, y_train)\n",
        "y_pred=rf_estimator.predict(X_test)\n",
        "\n",
        "\n",
        "from sklearn.metrics import classification_report, confusion_matrix, accuracy_score\n",
        "print(confusion_matrix(y_test, y_pred))\n",
        "print(classification_report(y_test,y_pred))\n",
        "print(\"Accurecy: \",accuracy_score(y_test, y_pred))\n",
        "result[(rf_estimator,3,'RandomForestClassifier')]=accuracy_score(y_test, y_pred)"
      ],
      "metadata": {
        "id": "LMUwwEqUt2-T"
      },
      "execution_count": null,
      "outputs": []
    },
    {
      "cell_type": "code",
      "source": [
        "from sklearn.ensemble import RandomForestClassifier\n",
        "rf_depth = RandomForestClassifier(max_depth=best_depth,random_state=0)\n",
        "rf_depth.fit(X_train, y_train)\n",
        "y_pred=rf_depth.predict(X_test)\n",
        "\n",
        "\n",
        "from sklearn.metrics import classification_report, confusion_matrix, accuracy_score\n",
        "print(confusion_matrix(y_test, y_pred))\n",
        "print(classification_report(y_test,y_pred))\n",
        "print(\"Accurecy: \",accuracy_score(y_test, y_pred))\n",
        "result[(rf_depth,3,'RandomForestClassifier')]=accuracy_score(y_test, y_pred)"
      ],
      "metadata": {
        "id": "NRybS4-nt_vO"
      },
      "execution_count": null,
      "outputs": []
    },
    {
      "cell_type": "code",
      "source": [
        "from sklearn.ensemble import RandomForestClassifier\n",
        "rf_all = RandomForestClassifier(n_estimators=best_estimator,max_depth=best_depth,random_state=0)\n",
        "rf_all.fit(X_train, y_train)\n",
        "y_pred=rf_all.predict(X_test)\n",
        "\n",
        "\n",
        "from sklearn.metrics import classification_report, confusion_matrix, accuracy_score\n",
        "print(confusion_matrix(y_test, y_pred))\n",
        "print(classification_report(y_test,y_pred))\n",
        "print(\"Accurecy: \",accuracy_score(y_test, y_pred))\n",
        "result[(rf_all,3,'RandomForestClassifier')]=accuracy_score(y_test, y_pred)"
      ],
      "metadata": {
        "id": "G9p0fJyBtrdZ"
      },
      "execution_count": null,
      "outputs": []
    },
    {
      "cell_type": "markdown",
      "source": [
        "\n",
        "\n",
        "---\n",
        "\n",
        "\n",
        "\n",
        "---\n",
        "\n"
      ],
      "metadata": {
        "id": "G_DChNuquB92"
      }
    },
    {
      "cell_type": "markdown",
      "source": [
        "#XGB"
      ],
      "metadata": {
        "id": "jRG4cBnKvZU2"
      }
    },
    {
      "cell_type": "code",
      "source": [
        "\n",
        "\n",
        "import xgboost as xgb\n",
        "xgb_deafult = xgb.XGBClassifier(random_state=0)\n",
        "xgb_deafult.fit(X_train,y_train)\n",
        "y_pred = xgb_deafult.predict(X_test)\n",
        "\n",
        "\n",
        "from sklearn.metrics import classification_report, confusion_matrix, accuracy_score\n",
        "print(confusion_matrix(y_test, y_pred))\n",
        "print(classification_report(y_test,y_pred))\n",
        "print(\"Accurecy: \",accuracy_score(y_test, y_pred))\n",
        "result[(xgb_deafult,4,'xgboost')]=accuracy_score(y_test, y_pred)"
      ],
      "metadata": {
        "id": "sC1lAZeeuCw8"
      },
      "execution_count": null,
      "outputs": []
    },
    {
      "cell_type": "code",
      "source": [
        "import xgboost as xgb\n",
        "from sklearn.metrics import accuracy_score\n",
        "N=250\n",
        "k_range = range (1,N+1)\n",
        "scores={}\n",
        "scores_list = []\n",
        "for k in k_range:\n",
        "  xgb_classifier = xgb.XGBClassifier(n_estimators=k,random_state=0)\n",
        "  xgb_classifier.fit(X_train, y_train)\n",
        "  y_pred=xgb_classifier.predict(X_test)\n",
        "  scores[k] = accuracy_score(y_test,y_pred)\n",
        "  scores_list.append(accuracy_score(y_test,y_pred))\n",
        "  print(str(k)+\"/\"+str(N)+\" round completed......................... Accurecy: \"+str(accuracy_score(y_test,y_pred)))\n",
        "\n",
        "\n",
        "%matplotlib inline\n",
        "import matplotlib.pyplot as plt\n",
        "\n",
        "plt.figure(figsize = (25,10))\n",
        "plt.plot(k_range,scores_list)\n",
        "plt.xlabel('Value of n_estimators')\n",
        "plt.ylabel ('Testing Accuracy')\n",
        "\n",
        "\n",
        "\n",
        "print(\"The best n_estimators:\")\n",
        "best_estimator=list(scores.keys())[scores_list.index(max(scores_list))]\n",
        "print(best_estimator)"
      ],
      "metadata": {
        "id": "YQYsfVO0uPMA"
      },
      "execution_count": null,
      "outputs": []
    },
    {
      "cell_type": "code",
      "source": [
        "import xgboost as xgb\n",
        "from sklearn.metrics import accuracy_score\n",
        "N=250\n",
        "k_range = range (1,N+1)\n",
        "scores={}\n",
        "scores_list = []\n",
        "for k in k_range:\n",
        "  xgb_classifier = xgb.XGBClassifier(max_depth=k,random_state=0)\n",
        "  xgb_classifier.fit(X_train, y_train)\n",
        "  y_pred=xgb_classifier.predict(X_test)\n",
        "  scores[k] = accuracy_score(y_test,y_pred)\n",
        "  scores_list.append(accuracy_score(y_test,y_pred))\n",
        "  print(str(k)+\"/\"+str(N)+\" round completed......................... Accurecy: \"+str(accuracy_score(y_test,y_pred)))\n",
        "\n",
        "\n",
        "%matplotlib inline\n",
        "import matplotlib.pyplot as plt\n",
        "\n",
        "plt.figure(figsize = (25,10))\n",
        "plt.plot(k_range,scores_list)\n",
        "plt.xlabel('Value of n_estimators')\n",
        "plt.ylabel ('Testing Accuracy')\n",
        "\n",
        "\n",
        "\n",
        "print(\"The best depth:\")\n",
        "best_depth=list(scores.keys())[scores_list.index(max(scores_list))]\n",
        "print(best_depth)"
      ],
      "metadata": {
        "id": "ABex6e-3kxuX"
      },
      "execution_count": null,
      "outputs": []
    },
    {
      "cell_type": "code",
      "source": [
        "import xgboost as xgb\n",
        "xgb_depth = xgb.XGBClassifier(max_depth=best_depth,random_state=0)\n",
        "xgb_depth.fit(X_train,y_train)\n",
        "y_pred = xgb_depth.predict(X_test)\n",
        "\n",
        "\n",
        "from sklearn.metrics import classification_report, confusion_matrix, accuracy_score\n",
        "print(confusion_matrix(y_test, y_pred))\n",
        "print(classification_report(y_test,y_pred))\n",
        "print(\"Accurecy: \",accuracy_score(y_test, y_pred))\n",
        "result[(xgb_depth,4,'xgboost')]=accuracy_score(y_test, y_pred)\n",
        "print(xgb_depth)"
      ],
      "metadata": {
        "id": "lfBp-uGXuaKY"
      },
      "execution_count": null,
      "outputs": []
    },
    {
      "cell_type": "code",
      "source": [
        "import xgboost as xgb\n",
        "xgb_estimator = xgb.XGBClassifier(n_estimators=best_estimator,random_state=0)\n",
        "xgb_estimator.fit(X_train,y_train)\n",
        "y_pred = xgb_estimator.predict(X_test)\n",
        "\n",
        "\n",
        "from sklearn.metrics import classification_report, confusion_matrix, accuracy_score\n",
        "print(confusion_matrix(y_test, y_pred))\n",
        "print(classification_report(y_test,y_pred))\n",
        "print(\"Accurecy: \",accuracy_score(y_test, y_pred))\n",
        "result[(xgb_estimator,4,'xgboost')]=accuracy_score(y_test, y_pred)\n",
        "print(xgb_estimator)"
      ],
      "metadata": {
        "id": "_qBm-yTqzOsi"
      },
      "execution_count": null,
      "outputs": []
    },
    {
      "cell_type": "code",
      "source": [
        "import xgboost as xgb\n",
        "xgb_all = xgb.XGBClassifier(n_estimators=best_estimator,max_depth=best_depth,random_state=0)\n",
        "xgb_all.fit(X_train,y_train)\n",
        "y_pred = xgb_all.predict(X_test)\n",
        "\n",
        "\n",
        "from sklearn.metrics import classification_report, confusion_matrix, accuracy_score\n",
        "print(confusion_matrix(y_test, y_pred))\n",
        "print(classification_report(y_test,y_pred))\n",
        "print(\"Accurecy: \",accuracy_score(y_test, y_pred))\n",
        "result[(xgb_all,4,'xgboost')]=accuracy_score(y_test, y_pred)"
      ],
      "metadata": {
        "id": "zW-0PfT-zX3C"
      },
      "execution_count": null,
      "outputs": []
    },
    {
      "cell_type": "markdown",
      "source": [
        "#KNN"
      ],
      "metadata": {
        "id": "K6_icFWdauSI"
      }
    },
    {
      "cell_type": "code",
      "source": [
        "from sklearn.neighbors import KNeighborsClassifier\n",
        "knn_default = KNeighborsClassifier()\n",
        "knn_default.fit(X_train, y_train)\n",
        "y_pred=knn_default.predict(X_test)\n",
        "\n",
        "\n",
        "from sklearn.metrics import classification_report, confusion_matrix, accuracy_score\n",
        "print(confusion_matrix(y_test, y_pred))\n",
        "print(classification_report(y_test,y_pred))\n",
        "print(\"Accurecy: \",accuracy_score(y_test, y_pred))\n",
        "result[(knn_default,5,'KNeighborsClassifier')]=accuracy_score(y_test, y_pred)"
      ],
      "metadata": {
        "id": "6GALUBYbaz1z"
      },
      "execution_count": null,
      "outputs": []
    },
    {
      "cell_type": "code",
      "source": [
        "from sklearn.neighbors import KNeighborsClassifier\n",
        "from sklearn.metrics import accuracy_score\n",
        "Neighbors=105\n",
        "k_range = range (1,Neighbors+1)\n",
        "scores={}\n",
        "scores_list = []\n",
        "for k in k_range:\n",
        "  knn = KNeighborsClassifier(n_neighbors=k)\n",
        "  knn.fit(X_train, y_train)\n",
        "  y_pred=knn.predict(X_test)\n",
        "  scores[k] = accuracy_score(y_test,y_pred)\n",
        "  scores_list.append(accuracy_score(y_test,y_pred))\n",
        "  print(str(k)+\"/\"+str(Neighbors)+\" round completed......................... Accurecy: \"+str(accuracy_score(y_test,y_pred)))\n",
        "\n",
        "\n",
        "%matplotlib inline\n",
        "import matplotlib.pyplot as plt\n",
        "\n",
        "plt.figure(figsize = (25,10))\n",
        "plt.plot(k_range,scores_list)\n",
        "plt.xlabel('Value of n_estimators')\n",
        "plt.ylabel ('Testing Accuracy')\n",
        "\n",
        "\n",
        "\n",
        "print(\"The best Depth:\")\n",
        "best=list(scores.keys())[scores_list.index(max(scores_list))]\n",
        "print(best)"
      ],
      "metadata": {
        "id": "CpSsmYDHa-VF"
      },
      "execution_count": null,
      "outputs": []
    },
    {
      "cell_type": "code",
      "source": [
        "from sklearn.neighbors import KNeighborsClassifier\n",
        "knn_neighbors = KNeighborsClassifier(n_neighbors=best)\n",
        "knn_neighbors.fit(X_train, y_train)\n",
        "y_pred=knn_neighbors.predict(X_test)\n",
        "\n",
        "\n",
        "from sklearn.metrics import classification_report, confusion_matrix, accuracy_score\n",
        "print(confusion_matrix(y_test, y_pred))\n",
        "print(classification_report(y_test,y_pred))\n",
        "print(\"Accurecy: \",accuracy_score(y_test, y_pred))\n",
        "result[(knn_neighbors,5,'KNeighborsClassifier')]=accuracy_score(y_test, y_pred)"
      ],
      "metadata": {
        "id": "MIVJZYV8bCjo"
      },
      "execution_count": null,
      "outputs": []
    },
    {
      "cell_type": "markdown",
      "source": [
        "#NB"
      ],
      "metadata": {
        "id": "_Btki9jRvc1Y"
      }
    },
    {
      "cell_type": "code",
      "source": [
        "from sklearn.naive_bayes import GaussianNB\n",
        "\n",
        "nb_deafult = GaussianNB()\n",
        "nb_deafult.fit(X_train, y_train)\n",
        "y_pred = nb_deafult.predict(X_test)\n",
        "\n",
        "\n",
        "from sklearn.metrics import classification_report, confusion_matrix, accuracy_score\n",
        "print(confusion_matrix(y_test, y_pred))\n",
        "print(classification_report(y_test,y_pred))\n",
        "print(\"Accurecy: \",accuracy_score(y_test, y_pred))\n",
        "result[(nb_deafult,6,'GaussianNB')]=accuracy_score(y_test, y_pred)"
      ],
      "metadata": {
        "id": "iRmd7ve-ubcd"
      },
      "execution_count": null,
      "outputs": []
    },
    {
      "cell_type": "markdown",
      "source": [
        "\n",
        "\n",
        "---\n",
        "\n",
        "\n",
        "\n",
        "---\n",
        "\n"
      ],
      "metadata": {
        "id": "qqsWPAB3uv72"
      }
    },
    {
      "cell_type": "markdown",
      "source": [
        "#Result"
      ],
      "metadata": {
        "id": "6FEsxCdvkg2D"
      }
    },
    {
      "cell_type": "code",
      "source": [
        "\n",
        "models=[]\n",
        "\n",
        "for i in result:\n",
        "  models.append(i[0])\n",
        "  print(i[0],i[1],\" : \",result[i])\n",
        "  print(\"---------------------------------------------------------------\")\n",
        "  print()\n"
      ],
      "metadata": {
        "id": "rx7qCLU14Aim"
      },
      "execution_count": null,
      "outputs": []
    },
    {
      "cell_type": "code",
      "source": [
        "sorted_list=[]\n",
        "sorted_list = sorted(result, key=result.get,reverse=True)\n",
        "\n",
        "for i in sorted_list:\n",
        "  print(i,\"  : \",result[i])\n",
        "  print(\"-------------------------------------------------------------------------------------------------\")\n",
        "\n",
        "print(sorted_list)\n",
        "\n",
        "\n",
        "flage=[]\n",
        "best_models=[]\n",
        "it=0\n",
        "\n",
        "for i in sorted_list:\n",
        "  if it==4:\n",
        "    break\n",
        "\n",
        "  if i[1] not in flage:\n",
        "    best_models.append((i[0],i[2]))\n",
        "    flage.append(i[1])\n",
        "    it+=1\n"
      ],
      "metadata": {
        "id": "slItYG8uLOFi"
      },
      "execution_count": null,
      "outputs": []
    },
    {
      "cell_type": "code",
      "source": [
        "print(\"best_models:\")\n",
        "for i in best_models:\n",
        "  print(i)\n"
      ],
      "metadata": {
        "id": "SR0XBsJDMi_1"
      },
      "execution_count": null,
      "outputs": []
    },
    {
      "cell_type": "code",
      "source": [
        "len(best_models)"
      ],
      "metadata": {
        "id": "VQCaVYKA5acD"
      },
      "execution_count": null,
      "outputs": []
    },
    {
      "cell_type": "markdown",
      "source": [
        "#Testing Accuracy For Best 4 Models"
      ],
      "metadata": {
        "id": "znXNx2bgUvtd"
      }
    },
    {
      "cell_type": "code",
      "source": [
        "\n",
        "for i in best_models:\n",
        "  print(\"--------------------------------------------------\")\n",
        "  print(i[0])\n",
        "  y_pred=i[0].predict(X_train)\n",
        "  print(confusion_matrix(y_train, y_pred))\n",
        "  print(classification_report(y_train,y_pred))\n",
        "  print(\"Accurecy: \",accuracy_score(y_train, y_pred))"
      ],
      "metadata": {
        "id": "2j9CXuBkUuiR"
      },
      "execution_count": null,
      "outputs": []
    },
    {
      "cell_type": "code",
      "source": [],
      "metadata": {
        "id": "vdNgE1HYwEjc"
      },
      "execution_count": null,
      "outputs": []
    },
    {
      "cell_type": "markdown",
      "source": [
        "#SHAP"
      ],
      "metadata": {
        "id": "zxxWSX26jsGT"
      }
    },
    {
      "cell_type": "code",
      "source": [
        "!pip install shap\n",
        "import shap"
      ],
      "metadata": {
        "id": "YUhJ7dWajur-"
      },
      "execution_count": null,
      "outputs": []
    },
    {
      "cell_type": "code",
      "source": [
        "\n",
        "def SHAP_EXP(model,graph_feat):\n",
        "  print(\"Models: \",model)\n",
        "\n",
        "  explainer = shap.Explainer(model.predict, X_test)\n",
        "\n",
        "  shap_values1 = explainer(X_test)\n",
        "  features_names=list_of_feat\n",
        "\n",
        "  if 'Subjects' in features_names:\n",
        "    features_names.pop(0)\n",
        "\n",
        "\n",
        "  shap.plots.bar(shap_values1,max_display=graph_feat[\"max_display\"])\n",
        "\n",
        "  print(\"---------------------\")\n",
        "\n",
        "  shap.summary_plot(shap_values1,max_display=graph_feat[\"max_display\"],feature_names=features_names)\n",
        "\n",
        "  print(\"---------------------\")\n",
        "\n",
        "  print(\"Local Explaination\")\n",
        "  shap.plots.waterfall(shap_values1[graph_feat[\"shap_values Index\"]],max_display=graph_feat[\"max_display\"])\n",
        "\n",
        "\n",
        "  print(\"---------------------\")\n",
        "\n",
        "  shap.plots.bar(shap_values1[graph_feat[\"shap_values Index\"]],max_display=graph_feat[\"max_display\"])"
      ],
      "metadata": {
        "id": "POk0kUrdB-Y4"
      },
      "execution_count": null,
      "outputs": []
    },
    {
      "cell_type": "code",
      "source": [
        "new_keys_7=models_check_box(models)"
      ],
      "metadata": {
        "id": "V-G5szfQDiz1"
      },
      "execution_count": null,
      "outputs": []
    },
    {
      "cell_type": "code",
      "source": [
        "graph_feat={\n",
        "    \"max_display\":20,\n",
        "    \"shap_values Index\":2\n",
        "}\n",
        "\n",
        "for i in range(len(new_keys_7)):\n",
        "  if new_keys_7[i].value ==True:\n",
        "    SHAP_EXP(models[i],graph_feat)\n",
        "    print(\"---------------------------------------------------------\")\n",
        "    print(\"---------------------------------------------------------\")\n",
        "    print(\"---------------------------------------------------------\")\n",
        "    print(\"---------------------------------------------------------\")"
      ],
      "metadata": {
        "id": "JeD8HT_iDodb"
      },
      "execution_count": null,
      "outputs": []
    },
    {
      "cell_type": "markdown",
      "source": [
        "# **LIME**"
      ],
      "metadata": {
        "id": "iDu8Ipdm8qaV"
      }
    },
    {
      "cell_type": "code",
      "source": [
        "\"\"\"import lime\n",
        "from lime import lime_tabular\n",
        "# Random Forest\n",
        "# Load Model\n",
        "actv_rf = pickle.load(open(os.path.join(results, '[Set 1] Grid Search CV/gcv_rf_mdl.sav'), 'rb'))\n",
        "actv_rf.fit(X_train, y_train)\n",
        "y_pred = actv_rf.predict(X_test)\n",
        "\n",
        "explainer = lime_tabular.LimeTabularExplainer(\n",
        "    training_data=np.array(X_train),\n",
        "    feature_names=feat_cols,\n",
        "    class_names=['Reading', 'Resting'],\n",
        "    mode='classification'\n",
        ")\n",
        "\n",
        "exp = explainer.explain_instance(\n",
        "    data_row=X_test[0], \n",
        "    predict_fn=actv_rf.predict_proba,\n",
        "    num_features=6\n",
        ")\n",
        "exp.show_in_notebook(show_table=True)\"\"\""
      ],
      "metadata": {
        "id": "aokroGxh8oj9"
      },
      "execution_count": null,
      "outputs": []
    },
    {
      "cell_type": "code",
      "source": [
        "!pip install lime"
      ],
      "metadata": {
        "id": "kw4wkx98AuLW"
      },
      "execution_count": null,
      "outputs": []
    },
    {
      "cell_type": "code",
      "source": [
        "\n",
        "import lime\n",
        "from lime import lime_tabular\n",
        "explainer = lime_tabular.LimeTabularExplainer(\n",
        "    training_data=np.array(X_train),\n",
        "    feature_names=list(X.columns),\n",
        "    class_names=['Reading', 'Resting', 'Walking', 'Working'],\n",
        "    mode='classification'\n",
        ")\n",
        "     "
      ],
      "metadata": {
        "id": "KM6UBpC3DBAj"
      },
      "execution_count": null,
      "outputs": []
    },
    {
      "cell_type": "code",
      "source": [
        "row = int(input(\"Enter the index of row to explain: \"))      # the index of row to be explained in LIME\n",
        "\n",
        "\n",
        "exp = explainer.explain_instance(X_test.iloc[row],\n",
        "                                 gradBoost_estimator.predict_proba,               #here write the model name\n",
        "                                 num_features=6,\n",
        "                                 top_labels=4)\n",
        "\n",
        "exp.show_in_notebook(show_table=True, show_all=True)\n",
        "\n",
        "\n",
        "\n",
        "from IPython.display import HTML\n",
        "\n",
        "html_data = exp.as_html()\n",
        "HTML(data=html_data)\n",
        "\n",
        "\n",
        "exp.save_to_file(\"classif_explanation.html\")"
      ],
      "metadata": {
        "id": "NU96KbYHDIWA"
      },
      "execution_count": null,
      "outputs": []
    },
    {
      "cell_type": "code",
      "source": [
        "import matplotlib.pyplot as plt\n",
        "with plt.style.context(\"ggplot\"):\n",
        "    exp.as_pyplot_figure()"
      ],
      "metadata": {
        "id": "u-BkKmWjKGXn"
      },
      "execution_count": null,
      "outputs": []
    }
  ]
}