{
  "nbformat": 4,
  "nbformat_minor": 0,
  "metadata": {
    "colab": {
      "name": "Bracu_exam_20220222.ipynb",
      "provenance": [],
      "authorship_tag": "ABX9TyMSdsUUCMlM/IWFxPSP7uTU",
      "include_colab_link": true
    },
    "kernelspec": {
      "name": "python3",
      "display_name": "Python 3"
    },
    "language_info": {
      "name": "python"
    }
  },
  "cells": [
    {
      "cell_type": "markdown",
      "metadata": {
        "id": "view-in-github",
        "colab_type": "text"
      },
      "source": [
        "<a href=\"https://colab.research.google.com/github/RafsanJany-44/practice_cell/blob/master/Bracu_exam_20220222.ipynb\" target=\"_parent\"><img src=\"https://colab.research.google.com/assets/colab-badge.svg\" alt=\"Open In Colab\"/></a>"
      ]
    },
    {
      "cell_type": "code",
      "execution_count": 3,
      "metadata": {
        "colab": {
          "base_uri": "https://localhost:8080/"
        },
        "id": "RFJCE-_vgvmv",
        "outputId": "de2aef45-eef2-4b7a-b475-5966e8218854"
      },
      "outputs": [
        {
          "output_type": "stream",
          "name": "stdout",
          "text": [
            "NARUTO UZUMAKI ENGINEER\n",
            "JAMES HAMISH WATSON DOCTOR\n",
            "TANJIRO ENGINEER\n",
            "SAUL GOODMAN LAWYER\n",
            "EREN YEAGER DOCTOR\n",
            "END\n",
            "[['NARUTO', 'UZUMAKI', 'ENGINEER'], ['JAMES', 'HAMISH', 'WATSON', 'DOCTOR'], ['TANJIRO', 'ENGINEER'], ['SAUL', 'GOODMAN', 'LAWYER'], ['EREN', 'YEAGER', 'DOCTOR']]\n"
          ]
        }
      ],
      "source": [
        "l1=[]\n",
        "while(True):\n",
        "  l2=input().split(\" \")\n",
        "  if \"END\" in l2:\n",
        "    break\n",
        "  l1.append(l2)\n"
      ]
    },
    {
      "cell_type": "code",
      "source": [
        "prof=[]\n",
        "for i in l1:\n",
        "  prof.append(i[-1])\n",
        "\n",
        "prof=list(set(prof))\n",
        "\n",
        "dic={}\n",
        "\n",
        "for i in prof:\n",
        "  d={}\n",
        "  for j in range(len(l1)):\n",
        "    if i==l1[j][-1]:\n",
        "      s=str(j+1)+\"_\"+l1[j][-2]+\"_\"+i[:3]\n",
        "      name=''\n",
        "      for k in range(len(l1[j])-1):\n",
        "        name=name+l1[j][k]+\" \"\n",
        "      d[s]=name\n",
        "  dic[i]=d\n",
        "\n",
        "print(dic)\n",
        "      \n",
        "\n",
        "\n"
      ],
      "metadata": {
        "colab": {
          "base_uri": "https://localhost:8080/"
        },
        "id": "2PmzQjrwicB8",
        "outputId": "10e6a98b-4076-404e-aa72-36018a23e9d3"
      },
      "execution_count": 20,
      "outputs": [
        {
          "output_type": "stream",
          "name": "stdout",
          "text": [
            "{'ENGINEER': {'1_UZUMAKI_ENG': 'NARUTO UZUMAKI ', '3_TANJIRO_ENG': 'TANJIRO '}, 'LAWYER': {'4_GOODMAN_LAW': 'SAUL GOODMAN '}, 'DOCTOR': {'2_WATSON_DOC': 'JAMES HAMISH WATSON ', '5_YEAGER_DOC': 'EREN YEAGER '}}\n"
          ]
        }
      ]
    },
    {
      "cell_type": "code",
      "source": [
        ""
      ],
      "metadata": {
        "id": "XpLNH8f_klME"
      },
      "execution_count": null,
      "outputs": []
    }
  ]
}