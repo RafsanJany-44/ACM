{
  "nbformat": 4,
  "nbformat_minor": 0,
  "metadata": {
    "colab": {
      "name": "Bracu_exam_20220222.ipynb",
      "provenance": [],
      "authorship_tag": "ABX9TyMC/8RySVrxQjuq4taICL3e",
      "include_colab_link": true
    },
    "kernelspec": {
      "name": "python3",
      "display_name": "Python 3"
    },
    "language_info": {
      "name": "python"
    }
  },
  "cells": [
    {
      "cell_type": "markdown",
      "metadata": {
        "id": "view-in-github",
        "colab_type": "text"
      },
      "source": [
        "<a href=\"https://colab.research.google.com/github/RafsanJany-44/practice_cell/blob/master/Bracu_exam_20220222.ipynb\" target=\"_parent\"><img src=\"https://colab.research.google.com/assets/colab-badge.svg\" alt=\"Open In Colab\"/></a>"
      ]
    },
    {
      "cell_type": "code",
      "execution_count": 3,
      "metadata": {
        "colab": {
          "base_uri": "https://localhost:8080/"
        },
        "id": "RFJCE-_vgvmv",
        "outputId": "de2aef45-eef2-4b7a-b475-5966e8218854"
      },
      "outputs": [
        {
          "output_type": "stream",
          "name": "stdout",
          "text": [
            "NARUTO UZUMAKI ENGINEER\n",
            "JAMES HAMISH WATSON DOCTOR\n",
            "TANJIRO ENGINEER\n",
            "SAUL GOODMAN LAWYER\n",
            "EREN YEAGER DOCTOR\n",
            "END\n",
            "[['NARUTO', 'UZUMAKI', 'ENGINEER'], ['JAMES', 'HAMISH', 'WATSON', 'DOCTOR'], ['TANJIRO', 'ENGINEER'], ['SAUL', 'GOODMAN', 'LAWYER'], ['EREN', 'YEAGER', 'DOCTOR']]\n"
          ]
        }
      ],
      "source": [
        "l1=[]\n",
        "while(True):\n",
        "  l2=input().split(\" \")\n",
        "  if \"END\" in l2:\n",
        "    break\n",
        "  l1.append(l2)\n"
      ]
    },
    {
      "cell_type": "code",
      "source": [
        "prof=[]\n",
        "for i in l1:\n",
        "  prof.append(i[-1])\n",
        "\n",
        "prof=list(set(prof))\n",
        "\n",
        "dic={}\n",
        "\n",
        "for i in prof:\n",
        "  d={}\n",
        "  for j in range(len(l1)):\n",
        "    if i==l1[j][-1]:\n",
        "      s=str(j+1)+\"_\"+l1[j][-2]+\"_\"+i[:3]\n",
        "      name=''\n",
        "      for k in range(len(l1[j])-1):\n",
        "        name=name+l1[j][k]+\" \"\n",
        "      d[s]=name\n",
        "  dic[i]=d\n",
        "\n",
        "print(dic)\n",
        "      \n",
        "\n",
        "\n"
      ],
      "metadata": {
        "colab": {
          "base_uri": "https://localhost:8080/"
        },
        "id": "2PmzQjrwicB8",
        "outputId": "10e6a98b-4076-404e-aa72-36018a23e9d3"
      },
      "execution_count": 20,
      "outputs": [
        {
          "output_type": "stream",
          "name": "stdout",
          "text": [
            "{'ENGINEER': {'1_UZUMAKI_ENG': 'NARUTO UZUMAKI ', '3_TANJIRO_ENG': 'TANJIRO '}, 'LAWYER': {'4_GOODMAN_LAW': 'SAUL GOODMAN '}, 'DOCTOR': {'2_WATSON_DOC': 'JAMES HAMISH WATSON ', '5_YEAGER_DOC': 'EREN YEAGER '}}\n"
          ]
        }
      ]
    },
    {
      "cell_type": "code",
      "source": [
        "n=int(input())\n",
        "l1=[]\n",
        "for i in range(n):\n",
        "  l2=input().split(\" \")\n",
        "  l1.append(l2)\n",
        "print(l2)\n"
      ],
      "metadata": {
        "colab": {
          "base_uri": "https://localhost:8080/"
        },
        "id": "XpLNH8f_klME",
        "outputId": "f3169ffe-dccb-4fd9-966a-ba0af626ec6c"
      },
      "execution_count": 22,
      "outputs": [
        {
          "output_type": "stream",
          "name": "stdout",
          "text": [
            "6\n",
            "Shakib-Al-Hasan 2014 11 1 1 Bangladesh\n",
            "David-Warner 2015 24 4 7 Australia\n",
            "Joe-Root 2017 19 2 8 England\n",
            "Shakib-Al-Hasan 2021 9 0 2 Bangladesh\n",
            "Joe-Root 2021 29 6 4 England\n",
            "Virat-Kohli 2021 3 0 2 India\n",
            "['Virat-Kohli', '2021', '3', '0', '2', 'India']\n"
          ]
        }
      ]
    },
    {
      "cell_type": "code",
      "source": [
        "print(l1)"
      ],
      "metadata": {
        "id": "BcaFBuPvqDqL",
        "outputId": "a7bc9f37-f903-4475-acb6-6e27965a0e11",
        "colab": {
          "base_uri": "https://localhost:8080/"
        }
      },
      "execution_count": 23,
      "outputs": [
        {
          "output_type": "stream",
          "name": "stdout",
          "text": [
            "[['Shakib-Al-Hasan', '2014', '11', '1', '1', 'Bangladesh'], ['David-Warner', '2015', '24', '4', '7', 'Australia'], ['Joe-Root', '2017', '19', '2', '8', 'England'], ['Shakib-Al-Hasan', '2021', '9', '0', '2', 'Bangladesh'], ['Joe-Root', '2021', '29', '6', '4', 'England'], ['Virat-Kohli', '2021', '3', '0', '2', 'India']]\n"
          ]
        }
      ]
    },
    {
      "cell_type": "code",
      "source": [
        "n=int(input())\n",
        "l1=[]\n",
        "for i in range(n):\n",
        "  l2=input().split(\" \")\n",
        "  l1.append(l2)\n",
        "\n",
        "country=[]\n",
        "name=[]\n",
        "for i in l1:\n",
        "  country.append((i[-1]))\n",
        "  name.append(i[0])\n",
        "\n",
        "dic={}\n",
        "\n",
        "for i in range(len(name)):\n",
        "  d={}\n",
        "  for j in l1:\n",
        "    if j[0]==name[i]:\n",
        "      d[j[1]]=[j[2],j[3],j[4]]\n",
        "  dic[(name[i],country[i])]=d\n",
        "\n",
        "print(dic)\n"
      ],
      "metadata": {
        "id": "fwIjj5-DqmU0",
        "outputId": "ee11e93a-6587-47b4-ce80-b0fb442c11ac",
        "colab": {
          "base_uri": "https://localhost:8080/"
        }
      },
      "execution_count": 30,
      "outputs": [
        {
          "output_type": "stream",
          "name": "stdout",
          "text": [
            "{('Shakib-Al-Hasan', 'Bangladesh'): {'2014': ['11', '1', '1'], '2021': ['9', '0', '2']}, ('David-Warner', 'Australia'): {'2015': ['24', '4', '7']}, ('Joe-Root', 'England'): {'2017': ['19', '2', '8'], '2021': ['29', '6', '4']}, ('Virat-Kohli', 'India'): {'2021': ['3', '0', '2']}}\n"
          ]
        }
      ]
    },
    {
      "cell_type": "code",
      "source": [
        ""
      ],
      "metadata": {
        "id": "BfW1WiBlrI4D"
      },
      "execution_count": null,
      "outputs": []
    }
  ]
}