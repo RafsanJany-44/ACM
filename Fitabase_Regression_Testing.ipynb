{
  "nbformat": 4,
  "nbformat_minor": 0,
  "metadata": {
    "colab": {
      "provenance": [],
      "authorship_tag": "ABX9TyMR0svFRqWgMAfbQL92hYvb",
      "include_colab_link": true
    },
    "kernelspec": {
      "name": "python3",
      "display_name": "Python 3"
    },
    "language_info": {
      "name": "python"
    },
    "widgets": {
      "application/vnd.jupyter.widget-state+json": {
        "43361c2ecb7d4fbcb104993cf928156a": {
          "model_module": "@jupyter-widgets/controls",
          "model_name": "HBoxModel",
          "model_module_version": "1.5.0",
          "state": {
            "_dom_classes": [],
            "_model_module": "@jupyter-widgets/controls",
            "_model_module_version": "1.5.0",
            "_model_name": "HBoxModel",
            "_view_count": null,
            "_view_module": "@jupyter-widgets/controls",
            "_view_module_version": "1.5.0",
            "_view_name": "HBoxView",
            "box_style": "",
            "children": [
              "IPY_MODEL_baa442f7e86f41c6bf0869457a9c8e08",
              "IPY_MODEL_c4c7c6a3423d4fa89088b2f4d73dd569",
              "IPY_MODEL_db9a56e85a844e5c8eb404b317a0c949"
            ],
            "layout": "IPY_MODEL_b7f7f786859c49e7a997abe22d314825"
          }
        },
        "baa442f7e86f41c6bf0869457a9c8e08": {
          "model_module": "@jupyter-widgets/controls",
          "model_name": "HTMLModel",
          "model_module_version": "1.5.0",
          "state": {
            "_dom_classes": [],
            "_model_module": "@jupyter-widgets/controls",
            "_model_module_version": "1.5.0",
            "_model_name": "HTMLModel",
            "_view_count": null,
            "_view_module": "@jupyter-widgets/controls",
            "_view_module_version": "1.5.0",
            "_view_name": "HTMLView",
            "description": "",
            "description_tooltip": null,
            "layout": "IPY_MODEL_21a3664c19e64148ac4ad04214a3ceeb",
            "placeholder": "​",
            "style": "IPY_MODEL_119bb3af894341d1bcb1ee5c56f3e702",
            "value": "100%"
          }
        },
        "c4c7c6a3423d4fa89088b2f4d73dd569": {
          "model_module": "@jupyter-widgets/controls",
          "model_name": "FloatProgressModel",
          "model_module_version": "1.5.0",
          "state": {
            "_dom_classes": [],
            "_model_module": "@jupyter-widgets/controls",
            "_model_module_version": "1.5.0",
            "_model_name": "FloatProgressModel",
            "_view_count": null,
            "_view_module": "@jupyter-widgets/controls",
            "_view_module_version": "1.5.0",
            "_view_name": "ProgressView",
            "bar_style": "success",
            "description": "",
            "description_tooltip": null,
            "layout": "IPY_MODEL_ed16469a41b941e8b981901c7b209abf",
            "max": 406,
            "min": 0,
            "orientation": "horizontal",
            "style": "IPY_MODEL_1d9f8cf03f674302a1cddde20104fe8c",
            "value": 406
          }
        },
        "db9a56e85a844e5c8eb404b317a0c949": {
          "model_module": "@jupyter-widgets/controls",
          "model_name": "HTMLModel",
          "model_module_version": "1.5.0",
          "state": {
            "_dom_classes": [],
            "_model_module": "@jupyter-widgets/controls",
            "_model_module_version": "1.5.0",
            "_model_name": "HTMLModel",
            "_view_count": null,
            "_view_module": "@jupyter-widgets/controls",
            "_view_module_version": "1.5.0",
            "_view_name": "HTMLView",
            "description": "",
            "description_tooltip": null,
            "layout": "IPY_MODEL_1bc79f1ebc40435181dc728121d96c4d",
            "placeholder": "​",
            "style": "IPY_MODEL_47d25af78ef648269886222d05fcc8c0",
            "value": " 406/406 [00:02&lt;00:00, 178.48it/s]"
          }
        },
        "b7f7f786859c49e7a997abe22d314825": {
          "model_module": "@jupyter-widgets/base",
          "model_name": "LayoutModel",
          "model_module_version": "1.2.0",
          "state": {
            "_model_module": "@jupyter-widgets/base",
            "_model_module_version": "1.2.0",
            "_model_name": "LayoutModel",
            "_view_count": null,
            "_view_module": "@jupyter-widgets/base",
            "_view_module_version": "1.2.0",
            "_view_name": "LayoutView",
            "align_content": null,
            "align_items": null,
            "align_self": null,
            "border": null,
            "bottom": null,
            "display": null,
            "flex": null,
            "flex_flow": null,
            "grid_area": null,
            "grid_auto_columns": null,
            "grid_auto_flow": null,
            "grid_auto_rows": null,
            "grid_column": null,
            "grid_gap": null,
            "grid_row": null,
            "grid_template_areas": null,
            "grid_template_columns": null,
            "grid_template_rows": null,
            "height": null,
            "justify_content": null,
            "justify_items": null,
            "left": null,
            "margin": null,
            "max_height": null,
            "max_width": null,
            "min_height": null,
            "min_width": null,
            "object_fit": null,
            "object_position": null,
            "order": null,
            "overflow": null,
            "overflow_x": null,
            "overflow_y": null,
            "padding": null,
            "right": null,
            "top": null,
            "visibility": null,
            "width": null
          }
        },
        "21a3664c19e64148ac4ad04214a3ceeb": {
          "model_module": "@jupyter-widgets/base",
          "model_name": "LayoutModel",
          "model_module_version": "1.2.0",
          "state": {
            "_model_module": "@jupyter-widgets/base",
            "_model_module_version": "1.2.0",
            "_model_name": "LayoutModel",
            "_view_count": null,
            "_view_module": "@jupyter-widgets/base",
            "_view_module_version": "1.2.0",
            "_view_name": "LayoutView",
            "align_content": null,
            "align_items": null,
            "align_self": null,
            "border": null,
            "bottom": null,
            "display": null,
            "flex": null,
            "flex_flow": null,
            "grid_area": null,
            "grid_auto_columns": null,
            "grid_auto_flow": null,
            "grid_auto_rows": null,
            "grid_column": null,
            "grid_gap": null,
            "grid_row": null,
            "grid_template_areas": null,
            "grid_template_columns": null,
            "grid_template_rows": null,
            "height": null,
            "justify_content": null,
            "justify_items": null,
            "left": null,
            "margin": null,
            "max_height": null,
            "max_width": null,
            "min_height": null,
            "min_width": null,
            "object_fit": null,
            "object_position": null,
            "order": null,
            "overflow": null,
            "overflow_x": null,
            "overflow_y": null,
            "padding": null,
            "right": null,
            "top": null,
            "visibility": null,
            "width": null
          }
        },
        "119bb3af894341d1bcb1ee5c56f3e702": {
          "model_module": "@jupyter-widgets/controls",
          "model_name": "DescriptionStyleModel",
          "model_module_version": "1.5.0",
          "state": {
            "_model_module": "@jupyter-widgets/controls",
            "_model_module_version": "1.5.0",
            "_model_name": "DescriptionStyleModel",
            "_view_count": null,
            "_view_module": "@jupyter-widgets/base",
            "_view_module_version": "1.2.0",
            "_view_name": "StyleView",
            "description_width": ""
          }
        },
        "ed16469a41b941e8b981901c7b209abf": {
          "model_module": "@jupyter-widgets/base",
          "model_name": "LayoutModel",
          "model_module_version": "1.2.0",
          "state": {
            "_model_module": "@jupyter-widgets/base",
            "_model_module_version": "1.2.0",
            "_model_name": "LayoutModel",
            "_view_count": null,
            "_view_module": "@jupyter-widgets/base",
            "_view_module_version": "1.2.0",
            "_view_name": "LayoutView",
            "align_content": null,
            "align_items": null,
            "align_self": null,
            "border": null,
            "bottom": null,
            "display": null,
            "flex": null,
            "flex_flow": null,
            "grid_area": null,
            "grid_auto_columns": null,
            "grid_auto_flow": null,
            "grid_auto_rows": null,
            "grid_column": null,
            "grid_gap": null,
            "grid_row": null,
            "grid_template_areas": null,
            "grid_template_columns": null,
            "grid_template_rows": null,
            "height": null,
            "justify_content": null,
            "justify_items": null,
            "left": null,
            "margin": null,
            "max_height": null,
            "max_width": null,
            "min_height": null,
            "min_width": null,
            "object_fit": null,
            "object_position": null,
            "order": null,
            "overflow": null,
            "overflow_x": null,
            "overflow_y": null,
            "padding": null,
            "right": null,
            "top": null,
            "visibility": null,
            "width": null
          }
        },
        "1d9f8cf03f674302a1cddde20104fe8c": {
          "model_module": "@jupyter-widgets/controls",
          "model_name": "ProgressStyleModel",
          "model_module_version": "1.5.0",
          "state": {
            "_model_module": "@jupyter-widgets/controls",
            "_model_module_version": "1.5.0",
            "_model_name": "ProgressStyleModel",
            "_view_count": null,
            "_view_module": "@jupyter-widgets/base",
            "_view_module_version": "1.2.0",
            "_view_name": "StyleView",
            "bar_color": null,
            "description_width": ""
          }
        },
        "1bc79f1ebc40435181dc728121d96c4d": {
          "model_module": "@jupyter-widgets/base",
          "model_name": "LayoutModel",
          "model_module_version": "1.2.0",
          "state": {
            "_model_module": "@jupyter-widgets/base",
            "_model_module_version": "1.2.0",
            "_model_name": "LayoutModel",
            "_view_count": null,
            "_view_module": "@jupyter-widgets/base",
            "_view_module_version": "1.2.0",
            "_view_name": "LayoutView",
            "align_content": null,
            "align_items": null,
            "align_self": null,
            "border": null,
            "bottom": null,
            "display": null,
            "flex": null,
            "flex_flow": null,
            "grid_area": null,
            "grid_auto_columns": null,
            "grid_auto_flow": null,
            "grid_auto_rows": null,
            "grid_column": null,
            "grid_gap": null,
            "grid_row": null,
            "grid_template_areas": null,
            "grid_template_columns": null,
            "grid_template_rows": null,
            "height": null,
            "justify_content": null,
            "justify_items": null,
            "left": null,
            "margin": null,
            "max_height": null,
            "max_width": null,
            "min_height": null,
            "min_width": null,
            "object_fit": null,
            "object_position": null,
            "order": null,
            "overflow": null,
            "overflow_x": null,
            "overflow_y": null,
            "padding": null,
            "right": null,
            "top": null,
            "visibility": null,
            "width": null
          }
        },
        "47d25af78ef648269886222d05fcc8c0": {
          "model_module": "@jupyter-widgets/controls",
          "model_name": "DescriptionStyleModel",
          "model_module_version": "1.5.0",
          "state": {
            "_model_module": "@jupyter-widgets/controls",
            "_model_module_version": "1.5.0",
            "_model_name": "DescriptionStyleModel",
            "_view_count": null,
            "_view_module": "@jupyter-widgets/base",
            "_view_module_version": "1.2.0",
            "_view_name": "StyleView",
            "description_width": ""
          }
        }
      }
    }
  },
  "cells": [
    {
      "cell_type": "markdown",
      "metadata": {
        "id": "view-in-github",
        "colab_type": "text"
      },
      "source": [
        "<a href=\"https://colab.research.google.com/github/RafsanJany-44/ARC/blob/master/Fitabase_Regression_Testing.ipynb\" target=\"_parent\"><img src=\"https://colab.research.google.com/assets/colab-badge.svg\" alt=\"Open In Colab\"/></a>"
      ]
    },
    {
      "cell_type": "code",
      "execution_count": 1,
      "metadata": {
        "colab": {
          "base_uri": "https://localhost:8080/"
        },
        "id": "TvGeisxbCZuI",
        "outputId": "5efc6fa1-c3ac-4641-922b-58983a0ba279"
      },
      "outputs": [
        {
          "output_type": "stream",
          "name": "stdout",
          "text": [
            "Mounted at /content/drive\n"
          ]
        }
      ],
      "source": [
        "from google.colab import drive\n",
        "drive.mount('/content/drive')"
      ]
    },
    {
      "cell_type": "code",
      "source": [
        "!pip install glob2"
      ],
      "metadata": {
        "colab": {
          "base_uri": "https://localhost:8080/"
        },
        "id": "WvSRNK66Dmt6",
        "outputId": "5b2c1103-d3f3-42a0-8f90-e2cce9f36b0c"
      },
      "execution_count": 2,
      "outputs": [
        {
          "output_type": "stream",
          "name": "stdout",
          "text": [
            "Looking in indexes: https://pypi.org/simple, https://us-python.pkg.dev/colab-wheels/public/simple/\n",
            "Requirement already satisfied: glob2 in /usr/local/lib/python3.9/dist-packages (0.7)\n"
          ]
        }
      ]
    },
    {
      "cell_type": "code",
      "source": [
        "from glob import glob\n",
        "import os\n",
        "import pandas as pd\n",
        "path = \"/content/drive/MyDrive/Iqram Sir/Fitabase data pulls - seperate\""
      ],
      "metadata": {
        "id": "7qBv-TfvDtr6"
      },
      "execution_count": 2,
      "outputs": []
    },
    {
      "cell_type": "code",
      "source": [
        "import matplotlib\n",
        "import matplotlib.pyplot as plt\n",
        "import numpy as np\n",
        "from sklearn.linear_model import LinearRegression\n",
        "from tqdm.notebook import tqdm\n",
        "\n",
        "def get_content(patient_folder_adrs):\n",
        "\n",
        "  post_adrs = sorted(glob(patient_folder_adrs+\"/*\"))[0]\n",
        "  \n",
        "\n",
        "  pre_adrs = sorted(glob(patient_folder_adrs+\"/*\"))[1]\n",
        "\n",
        "  for i in glob(post_adrs+\"/*\"):\n",
        "    content = i.split(\"_\")\n",
        "    if \"1min\" in content:\n",
        "      post_1min = i\n",
        "    if \"minuteCaloriesNarrow\" in content:\n",
        "      post_cal = i\n",
        "    if \"minuteMETsNarrow\" in content:\n",
        "      post_met = i\n",
        "\n",
        "\n",
        "  for i in glob(pre_adrs+\"/*\"):\n",
        "    content = i.split(\"_\")\n",
        "    if \"1min\" in i.split(\"_\"):\n",
        "      pre_1min = i\n",
        "    if \"minuteCaloriesNarrow\" in content:\n",
        "      pre_cal = i\n",
        "    if \"minuteMETsNarrow\" in content:\n",
        "      pre_met = i\n",
        " \n",
        "  return post_1min, post_cal,post_met, pre_1min, pre_cal, pre_met\n",
        "\n",
        "\n",
        "\n",
        "\n",
        "def plot(X,Y,m,c,hr_aee = False):\n",
        "  fig = plt.figure(figsize=(13,8))\n",
        "  ax = fig.add_subplot()\n",
        "  fig.subplots_adjust(top=0.85)\n",
        "\n",
        "  # Set titles for the figure and the subplot respectively\n",
        "  #fig.suptitle('bold figure suptitle', fontsize=14, fontweight='bold')\n",
        "  if hr_aee == True:\n",
        "    ax.set_title('Max HR & aEE',fontweight='bold')\n",
        "  else:\n",
        "    ax.set_title('Max HR',fontweight='bold')\n",
        "\n",
        "  ax.scatter(X, Y)\n",
        "\n",
        "  high_y = Y.max()\n",
        "\n",
        "  high_x = (high_y-c)/m\n",
        "\n",
        "  rang_y=[Y.min(),high_y]\n",
        "\n",
        "  ax.plot((rang_y-c)/m, rang_y, color = \"red\")\n",
        "\n",
        "  ax.scatter(high_x, high_y, color='green')\n",
        "  ax.annotate('(aEEMax,HRMax)', xy=(high_x, high_y), xytext=(high_x-5, high_y+10),fontweight='bold')\n",
        "  ax.annotate(\"(\"+str(round(high_x[0],2))+\",\"+str(high_y)+\")\", xy=(high_x, high_y), xytext=(high_x-3, high_y+5),fontweight='bold',color = 'purple')\n",
        "\n",
        "\n",
        "  if hr_aee == True:\n",
        "    ax.set_xlabel(\"aEE_MAX(kJ/min)\",fontweight='bold',fontsize=12)\n",
        "    ax.set_ylabel(\"HR_MAX(BPM)\",fontweight='bold',fontsize=12)\n",
        "  else:\n",
        "    ax.set_xlabel(\"aEE(kJ/min)\",fontweight='bold',fontsize=12)\n",
        "    ax.set_ylabel(\"HR(BPM)\",fontweight='bold',fontsize=12)\n",
        "\n",
        "  ax.axis([0, high_x+10, 0, high_y+30])\n",
        "\n",
        "  ax.grid()\n",
        "  plt.show()\n",
        "\n",
        "\n",
        "\n",
        "\n",
        "def signle_sample(df_1min, df_cal,df_met,min,hr_aee = False):\n",
        "  list_1 = list(df_1min[\"Time\"])\n",
        "  list_2 = list(df_cal[\"ActivityMinute\"])\n",
        "  #df_met = mets_minute_refine(df_met,min)\n",
        "  list_3 = list(df_met[\"ActivityMinute\"])\n",
        "\n",
        "\n",
        "  hr = []\n",
        "  aee = []\n",
        "  time = []\n",
        "  mets = []\n",
        "\n",
        "  if len(list_1)>len(list_2):\n",
        "    for i in tqdm(list_1):\n",
        "      if i in list_2 and i in list_3:\n",
        "        hr.append(list(df_1min.query(\"Time == '\"+i+\"'\")['Value'])[0])\n",
        "        aee.append(list(df_cal.query(\"ActivityMinute == '\"+i+\"'\")['Calories'])[0]*4.184)\n",
        "        mets.append(list(df_met.query(\"ActivityMinute == '\"+i+\"'\")['METs'])[0])\n",
        "        time.append(i)\n",
        "\n",
        "  else:\n",
        "    for i in tqdm(list_2):\n",
        "      if i in list_1 and i in list_3:\n",
        "        hr.append(list(df_1min.query(\"Time == '\"+i+\"'\")['Value'])[0])\n",
        "        aee.append(list(df_cal.query(\"ActivityMinute == '\"+i+\"'\")['Calories'])[0]*4.184)\n",
        "        mets.append(list(df_met.query(\"ActivityMinute == '\"+i+\"'\")['METs'])[0])\n",
        "        time.append(i)\n",
        "\n",
        "  d={\n",
        "    \"Time\" : time,\n",
        "     \"HR(BPM)\" : hr,\n",
        "     \"aEE(kJ/min)\":aee,\n",
        "     \"METs\" : mets\n",
        "  }\n",
        "\n",
        "  dataFrame = pd.DataFrame.from_dict(d)\n",
        "\n",
        "\n",
        "  Y = dataFrame[\"HR(BPM)\"].values.reshape(-1, 1)\n",
        "  X = dataFrame[\"aEE(kJ/min)\"].values.reshape(-1, 1)\n",
        "  reg = LinearRegression().fit(X, Y)\n",
        "  m = reg.coef_[0]\n",
        "  c = reg.intercept_\n",
        "\n",
        "  if hr_aee == True:\n",
        "    hr_mx = Y.max()\n",
        "    aee_mx = (hr_mx-c)/m\n",
        "    return hr_mx, round(aee_mx[0],2)\n",
        "\n",
        "  else:\n",
        "    plot(X,Y,m,c)\n",
        "    return dataFrame\n",
        "\n",
        "\n",
        "\n",
        "def test_signle_sample(data,df_1min,df_cal,df_met):\n",
        "  total_row = data.shape[0]\n",
        "  print(\"Total DataRow: \",total_row)\n",
        "\n",
        "  err_row=[]\n",
        "\n",
        "  for i in tqdm(range(total_row)):\n",
        "    print(data[\"Time\"][i], data['HR(BPM)'][i],round(data['aEE(kJ/min)'][i],2),data['METs'][i])\n",
        "\n",
        "    hr = list(df_1min.query(\"Time == '\"+data[\"Time\"][i]+\"'\")['Value'])[0]\n",
        "    cal = round(list(df_cal.query(\"ActivityMinute == '\"+data[\"Time\"][i]+\"'\")['Calories'])[0],2)\n",
        "    mets = list(df_met.query(\"ActivityMinute == '\"+data[\"Time\"][i]+\"'\")['METs'])[0]\n",
        "    print(hr,round(cal*4.184,2),mets)\n",
        "    print(\"------------------------------------------------------------\")\n",
        "\n",
        "    if hr != data['HR(BPM)'][i] or cal != round(data['aEE(kJ/min)'][i]/4.184,2) or mets != data['METs'][i]:\n",
        "      err_row.append((data[\"Time\"][i],i))\n",
        "  return err_row\n",
        "\n",
        "\n",
        "\n",
        "\n",
        "\n",
        "\n",
        "\n",
        "def range_list(k):\n",
        "  list_of = []\n",
        "  main_list = []\n",
        "\n",
        "  for i in range(len(k)-1):\n",
        " \n",
        "    if k[i+1]-k[i] == 1:\n",
        "      list_of.append(k[i])\n",
        "    else:\n",
        "      list_of.append(k[i])\n",
        "      main_list.append(list_of)\n",
        "      list_of=[]\n",
        "    if i == len(k)-2:\n",
        "      if k[i+1]-k[i] == 1:\n",
        "        list_of.append(k[i+1])\n",
        "        main_list.append(list_of)\n",
        "      else:\n",
        "        main_list.append([k[i+1]])\n",
        "  \n",
        "  return main_list\n",
        "\n",
        "\n",
        "\n",
        "\n",
        "\n",
        "\n",
        "def mets_minute_refine(data,minutes):\n",
        "\n",
        "  mets_10 = []\n",
        "  mets_more = []\n",
        "  for i in range(data.shape[0]):\n",
        "    if data[\"METs\"][i] > 10:\n",
        "      mets_more.append(i)\n",
        "    else:\n",
        "      mets_10.append(i)\n",
        "\n",
        "  main_l = range_list(mets_more)\n",
        "\n",
        "  removable_list = []\n",
        "  for i in range(len(main_l)-1):\n",
        "    if len(main_l[i]) < minutes+1:\n",
        "      for j in main_l[i]:\n",
        "        removable_list.append(j)\n",
        "\n",
        "  df1=data.drop(data.index[mets_10+removable_list]).reset_index()\n",
        "  return df1\n",
        "\n",
        "\n",
        "\n",
        "\n",
        "\n",
        "from datetime import datetime\n",
        "\n",
        "def formate24(t):\n",
        "  time = t.split(\" \")\n",
        "  m2 = time[1]+\" \"+time[2]\n",
        "  in_time = datetime.strptime(m2, \"%I:%M:%S %p\")\n",
        "  out_time = datetime.strftime(in_time, \"%H:%M:%S\")\n",
        "  return out_time\n",
        "\n",
        "\n",
        "def dif_min(start_time, end_time):\n",
        "  t1 = datetime.strptime(start_time, \"%H:%M:%S\")\n",
        "  t2 = datetime.strptime(end_time, \"%H:%M:%S\")\n",
        "\n",
        "  delta = t2 - t1\n",
        "\n",
        "  return delta.total_seconds()/60\n",
        "     \n"
      ],
      "metadata": {
        "id": "fvhOkelLDv83"
      },
      "execution_count": 30,
      "outputs": []
    },
    {
      "cell_type": "code",
      "source": [
        "subject = '001-JV'\n",
        "\n",
        "\n",
        "for i in glob(path+\"/*\"):\n",
        "  #get_contenct(i)\n",
        "  if subject in i.split(\"/\"):\n",
        "    Post_1min,Post_cal,Post_met, Pre_1min,Pre_cal,Pre_met = get_content(i)\n",
        "\n",
        "df_post_1min = pd.read_csv(Post_1min)\n",
        "df_post_cal = pd.read_csv(Post_cal)\n",
        "df_post_met = pd.read_csv(Post_met)\n",
        "\n",
        "df_pre_1min = pd.read_csv(Pre_1min)\n",
        "df_pre_cal = pd.read_csv(Pre_cal)\n",
        "df_pre_met = pd.read_csv(Pre_met)\n",
        "\n"
      ],
      "metadata": {
        "id": "GfwOD5y1Dypj"
      },
      "execution_count": 5,
      "outputs": []
    },
    {
      "cell_type": "code",
      "source": [
        "d = signle_sample(df_post_1min,df_post_cal,df_post_met,5)"
      ],
      "metadata": {
        "id": "UNo64E-e_CP1"
      },
      "execution_count": null,
      "outputs": []
    },
    {
      "cell_type": "code",
      "source": [
        "minute = 5\n",
        "\n",
        "test_data = mets_minute_refine(d,5)\n",
        "\n",
        "test_data.shape"
      ],
      "metadata": {
        "colab": {
          "base_uri": "https://localhost:8080/"
        },
        "id": "DmAfSNUrD1G1",
        "outputId": "fa338471-2d8c-47c7-b027-2bffae9d8e81"
      },
      "execution_count": 31,
      "outputs": [
        {
          "output_type": "execute_result",
          "data": {
            "text/plain": [
              "(9313, 5)"
            ]
          },
          "metadata": {},
          "execution_count": 31
        }
      ]
    },
    {
      "cell_type": "code",
      "source": [
        "test_data.to_csv(\"Test_METs_Series_001-JV.csv\",index = False)"
      ],
      "metadata": {
        "id": "opiaXhl8HO5V"
      },
      "execution_count": 19,
      "outputs": []
    },
    {
      "cell_type": "code",
      "source": [
        "test_data.columns"
      ],
      "metadata": {
        "colab": {
          "base_uri": "https://localhost:8080/"
        },
        "id": "G9JYdtQGNVh2",
        "outputId": "a41c0b19-246f-4260-c904-d876230009a2"
      },
      "execution_count": 32,
      "outputs": [
        {
          "output_type": "execute_result",
          "data": {
            "text/plain": [
              "Index(['index', 'Time', 'HR(BPM)', 'aEE(kJ/min)', 'METs'], dtype='object')"
            ]
          },
          "metadata": {},
          "execution_count": 32
        }
      ]
    },
    {
      "cell_type": "code",
      "source": [
        "\n",
        "kill = list(test_data['index'])\n",
        "\n",
        "let = range_list(kill)"
      ],
      "metadata": {
        "id": "yGFMOSkAGsQu"
      },
      "execution_count": 33,
      "outputs": []
    },
    {
      "cell_type": "code",
      "source": [
        "\n",
        "time_diff = []\n",
        "for i in tqdm(let):\n",
        "\n",
        "  start_time = formate24(list(test_data.query(\"index == \"+str(i[0])+\"\")['Time'])[0])\n",
        "  end_time = formate24(list(test_data.query(\"index == \"+str(i[-1])+\"\")['Time'])[0])\n",
        "  diff = dif_min(start_time,end_time)\n",
        "  if diff < 5 :\n",
        "    time_diff.append([i[0],i[-1],diff])\n",
        "\n"
      ],
      "metadata": {
        "colab": {
          "base_uri": "https://localhost:8080/",
          "height": 49,
          "referenced_widgets": [
            "43361c2ecb7d4fbcb104993cf928156a",
            "baa442f7e86f41c6bf0869457a9c8e08",
            "c4c7c6a3423d4fa89088b2f4d73dd569",
            "db9a56e85a844e5c8eb404b317a0c949",
            "b7f7f786859c49e7a997abe22d314825",
            "21a3664c19e64148ac4ad04214a3ceeb",
            "119bb3af894341d1bcb1ee5c56f3e702",
            "ed16469a41b941e8b981901c7b209abf",
            "1d9f8cf03f674302a1cddde20104fe8c",
            "1bc79f1ebc40435181dc728121d96c4d",
            "47d25af78ef648269886222d05fcc8c0"
          ]
        },
        "id": "J4fm1n8CI6ey",
        "outputId": "b24da4cf-b41c-4bb1-e605-70a6bbef13d7"
      },
      "execution_count": 34,
      "outputs": [
        {
          "output_type": "display_data",
          "data": {
            "text/plain": [
              "  0%|          | 0/406 [00:00<?, ?it/s]"
            ],
            "application/vnd.jupyter.widget-view+json": {
              "version_major": 2,
              "version_minor": 0,
              "model_id": "43361c2ecb7d4fbcb104993cf928156a"
            }
          },
          "metadata": {}
        }
      ]
    },
    {
      "cell_type": "code",
      "source": [
        "print(*time_diff,sep=\"\\n\")"
      ],
      "metadata": {
        "colab": {
          "base_uri": "https://localhost:8080/"
        },
        "id": "w_1VoeYqIzGu",
        "outputId": "1795f9f6-460a-4f97-aa62-57bac0d4fab1"
      },
      "execution_count": 35,
      "outputs": [
        {
          "output_type": "stream",
          "name": "stdout",
          "text": [
            "[7079, 7088, -478.0]\n",
            "[14377, 14407, -423.0]\n",
            "[16169, 16186, -1423.0]\n",
            "[17861, 17956, -507.0]\n",
            "[22486, 22742, -378.0]\n",
            "[24082, 24097, -375.0]\n",
            "[32546, 32546, 0.0]\n"
          ]
        }
      ]
    },
    {
      "cell_type": "code",
      "source": [],
      "metadata": {
        "id": "6PUqKytXRRp2"
      },
      "execution_count": null,
      "outputs": []
    }
  ]
}