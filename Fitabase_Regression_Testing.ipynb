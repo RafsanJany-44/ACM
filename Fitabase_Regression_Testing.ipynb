{
  "nbformat": 4,
  "nbformat_minor": 0,
  "metadata": {
    "colab": {
      "provenance": [],
      "authorship_tag": "ABX9TyNLclQ81f7EzOvCub8ufkaR",
      "include_colab_link": true
    },
    "kernelspec": {
      "name": "python3",
      "display_name": "Python 3"
    },
    "language_info": {
      "name": "python"
    },
    "widgets": {
      "application/vnd.jupyter.widget-state+json": {
        "0693a3bbabb74d1abadac3ab41820b38": {
          "model_module": "@jupyter-widgets/controls",
          "model_name": "HBoxModel",
          "model_module_version": "1.5.0",
          "state": {
            "_dom_classes": [],
            "_model_module": "@jupyter-widgets/controls",
            "_model_module_version": "1.5.0",
            "_model_name": "HBoxModel",
            "_view_count": null,
            "_view_module": "@jupyter-widgets/controls",
            "_view_module_version": "1.5.0",
            "_view_name": "HBoxView",
            "box_style": "",
            "children": [
              "IPY_MODEL_94cdbe20a7f641b788f6f6c38de0701e",
              "IPY_MODEL_077c173094bf4188a4b3593edd5dcb4d",
              "IPY_MODEL_2010120303124f46938c74d0ae443443"
            ],
            "layout": "IPY_MODEL_f65cf42e129b4e08961e36fafccb2d09"
          }
        },
        "94cdbe20a7f641b788f6f6c38de0701e": {
          "model_module": "@jupyter-widgets/controls",
          "model_name": "HTMLModel",
          "model_module_version": "1.5.0",
          "state": {
            "_dom_classes": [],
            "_model_module": "@jupyter-widgets/controls",
            "_model_module_version": "1.5.0",
            "_model_name": "HTMLModel",
            "_view_count": null,
            "_view_module": "@jupyter-widgets/controls",
            "_view_module_version": "1.5.0",
            "_view_name": "HTMLView",
            "description": "",
            "description_tooltip": null,
            "layout": "IPY_MODEL_75ac76a1e41b4dba8f688f4a33566706",
            "placeholder": "​",
            "style": "IPY_MODEL_4b3cbb3daa60410ba522cf8b04d1663d",
            "value": "100%"
          }
        },
        "077c173094bf4188a4b3593edd5dcb4d": {
          "model_module": "@jupyter-widgets/controls",
          "model_name": "FloatProgressModel",
          "model_module_version": "1.5.0",
          "state": {
            "_dom_classes": [],
            "_model_module": "@jupyter-widgets/controls",
            "_model_module_version": "1.5.0",
            "_model_name": "FloatProgressModel",
            "_view_count": null,
            "_view_module": "@jupyter-widgets/controls",
            "_view_module_version": "1.5.0",
            "_view_name": "ProgressView",
            "bar_style": "success",
            "description": "",
            "description_tooltip": null,
            "layout": "IPY_MODEL_fde2e8cc679c4d1aa65b16a3d240abec",
            "max": 50400,
            "min": 0,
            "orientation": "horizontal",
            "style": "IPY_MODEL_e760c14752f246f18a0352972236e754",
            "value": 50400
          }
        },
        "2010120303124f46938c74d0ae443443": {
          "model_module": "@jupyter-widgets/controls",
          "model_name": "HTMLModel",
          "model_module_version": "1.5.0",
          "state": {
            "_dom_classes": [],
            "_model_module": "@jupyter-widgets/controls",
            "_model_module_version": "1.5.0",
            "_model_name": "HTMLModel",
            "_view_count": null,
            "_view_module": "@jupyter-widgets/controls",
            "_view_module_version": "1.5.0",
            "_view_name": "HTMLView",
            "description": "",
            "description_tooltip": null,
            "layout": "IPY_MODEL_932b5f273c774659bd762723470b87f1",
            "placeholder": "​",
            "style": "IPY_MODEL_61a03ca8e73f4c5592a41455b77231f2",
            "value": " 50400/50400 [07:08&lt;00:00, 1948.13it/s]"
          }
        },
        "f65cf42e129b4e08961e36fafccb2d09": {
          "model_module": "@jupyter-widgets/base",
          "model_name": "LayoutModel",
          "model_module_version": "1.2.0",
          "state": {
            "_model_module": "@jupyter-widgets/base",
            "_model_module_version": "1.2.0",
            "_model_name": "LayoutModel",
            "_view_count": null,
            "_view_module": "@jupyter-widgets/base",
            "_view_module_version": "1.2.0",
            "_view_name": "LayoutView",
            "align_content": null,
            "align_items": null,
            "align_self": null,
            "border": null,
            "bottom": null,
            "display": null,
            "flex": null,
            "flex_flow": null,
            "grid_area": null,
            "grid_auto_columns": null,
            "grid_auto_flow": null,
            "grid_auto_rows": null,
            "grid_column": null,
            "grid_gap": null,
            "grid_row": null,
            "grid_template_areas": null,
            "grid_template_columns": null,
            "grid_template_rows": null,
            "height": null,
            "justify_content": null,
            "justify_items": null,
            "left": null,
            "margin": null,
            "max_height": null,
            "max_width": null,
            "min_height": null,
            "min_width": null,
            "object_fit": null,
            "object_position": null,
            "order": null,
            "overflow": null,
            "overflow_x": null,
            "overflow_y": null,
            "padding": null,
            "right": null,
            "top": null,
            "visibility": null,
            "width": null
          }
        },
        "75ac76a1e41b4dba8f688f4a33566706": {
          "model_module": "@jupyter-widgets/base",
          "model_name": "LayoutModel",
          "model_module_version": "1.2.0",
          "state": {
            "_model_module": "@jupyter-widgets/base",
            "_model_module_version": "1.2.0",
            "_model_name": "LayoutModel",
            "_view_count": null,
            "_view_module": "@jupyter-widgets/base",
            "_view_module_version": "1.2.0",
            "_view_name": "LayoutView",
            "align_content": null,
            "align_items": null,
            "align_self": null,
            "border": null,
            "bottom": null,
            "display": null,
            "flex": null,
            "flex_flow": null,
            "grid_area": null,
            "grid_auto_columns": null,
            "grid_auto_flow": null,
            "grid_auto_rows": null,
            "grid_column": null,
            "grid_gap": null,
            "grid_row": null,
            "grid_template_areas": null,
            "grid_template_columns": null,
            "grid_template_rows": null,
            "height": null,
            "justify_content": null,
            "justify_items": null,
            "left": null,
            "margin": null,
            "max_height": null,
            "max_width": null,
            "min_height": null,
            "min_width": null,
            "object_fit": null,
            "object_position": null,
            "order": null,
            "overflow": null,
            "overflow_x": null,
            "overflow_y": null,
            "padding": null,
            "right": null,
            "top": null,
            "visibility": null,
            "width": null
          }
        },
        "4b3cbb3daa60410ba522cf8b04d1663d": {
          "model_module": "@jupyter-widgets/controls",
          "model_name": "DescriptionStyleModel",
          "model_module_version": "1.5.0",
          "state": {
            "_model_module": "@jupyter-widgets/controls",
            "_model_module_version": "1.5.0",
            "_model_name": "DescriptionStyleModel",
            "_view_count": null,
            "_view_module": "@jupyter-widgets/base",
            "_view_module_version": "1.2.0",
            "_view_name": "StyleView",
            "description_width": ""
          }
        },
        "fde2e8cc679c4d1aa65b16a3d240abec": {
          "model_module": "@jupyter-widgets/base",
          "model_name": "LayoutModel",
          "model_module_version": "1.2.0",
          "state": {
            "_model_module": "@jupyter-widgets/base",
            "_model_module_version": "1.2.0",
            "_model_name": "LayoutModel",
            "_view_count": null,
            "_view_module": "@jupyter-widgets/base",
            "_view_module_version": "1.2.0",
            "_view_name": "LayoutView",
            "align_content": null,
            "align_items": null,
            "align_self": null,
            "border": null,
            "bottom": null,
            "display": null,
            "flex": null,
            "flex_flow": null,
            "grid_area": null,
            "grid_auto_columns": null,
            "grid_auto_flow": null,
            "grid_auto_rows": null,
            "grid_column": null,
            "grid_gap": null,
            "grid_row": null,
            "grid_template_areas": null,
            "grid_template_columns": null,
            "grid_template_rows": null,
            "height": null,
            "justify_content": null,
            "justify_items": null,
            "left": null,
            "margin": null,
            "max_height": null,
            "max_width": null,
            "min_height": null,
            "min_width": null,
            "object_fit": null,
            "object_position": null,
            "order": null,
            "overflow": null,
            "overflow_x": null,
            "overflow_y": null,
            "padding": null,
            "right": null,
            "top": null,
            "visibility": null,
            "width": null
          }
        },
        "e760c14752f246f18a0352972236e754": {
          "model_module": "@jupyter-widgets/controls",
          "model_name": "ProgressStyleModel",
          "model_module_version": "1.5.0",
          "state": {
            "_model_module": "@jupyter-widgets/controls",
            "_model_module_version": "1.5.0",
            "_model_name": "ProgressStyleModel",
            "_view_count": null,
            "_view_module": "@jupyter-widgets/base",
            "_view_module_version": "1.2.0",
            "_view_name": "StyleView",
            "bar_color": null,
            "description_width": ""
          }
        },
        "932b5f273c774659bd762723470b87f1": {
          "model_module": "@jupyter-widgets/base",
          "model_name": "LayoutModel",
          "model_module_version": "1.2.0",
          "state": {
            "_model_module": "@jupyter-widgets/base",
            "_model_module_version": "1.2.0",
            "_model_name": "LayoutModel",
            "_view_count": null,
            "_view_module": "@jupyter-widgets/base",
            "_view_module_version": "1.2.0",
            "_view_name": "LayoutView",
            "align_content": null,
            "align_items": null,
            "align_self": null,
            "border": null,
            "bottom": null,
            "display": null,
            "flex": null,
            "flex_flow": null,
            "grid_area": null,
            "grid_auto_columns": null,
            "grid_auto_flow": null,
            "grid_auto_rows": null,
            "grid_column": null,
            "grid_gap": null,
            "grid_row": null,
            "grid_template_areas": null,
            "grid_template_columns": null,
            "grid_template_rows": null,
            "height": null,
            "justify_content": null,
            "justify_items": null,
            "left": null,
            "margin": null,
            "max_height": null,
            "max_width": null,
            "min_height": null,
            "min_width": null,
            "object_fit": null,
            "object_position": null,
            "order": null,
            "overflow": null,
            "overflow_x": null,
            "overflow_y": null,
            "padding": null,
            "right": null,
            "top": null,
            "visibility": null,
            "width": null
          }
        },
        "61a03ca8e73f4c5592a41455b77231f2": {
          "model_module": "@jupyter-widgets/controls",
          "model_name": "DescriptionStyleModel",
          "model_module_version": "1.5.0",
          "state": {
            "_model_module": "@jupyter-widgets/controls",
            "_model_module_version": "1.5.0",
            "_model_name": "DescriptionStyleModel",
            "_view_count": null,
            "_view_module": "@jupyter-widgets/base",
            "_view_module_version": "1.2.0",
            "_view_name": "StyleView",
            "description_width": ""
          }
        }
      }
    }
  },
  "cells": [
    {
      "cell_type": "markdown",
      "metadata": {
        "id": "view-in-github",
        "colab_type": "text"
      },
      "source": [
        "<a href=\"https://colab.research.google.com/github/RafsanJany-44/ARC/blob/master/Fitabase_Regression_Testing.ipynb\" target=\"_parent\"><img src=\"https://colab.research.google.com/assets/colab-badge.svg\" alt=\"Open In Colab\"/></a>"
      ]
    },
    {
      "cell_type": "code",
      "execution_count": 29,
      "metadata": {
        "colab": {
          "base_uri": "https://localhost:8080/"
        },
        "id": "TvGeisxbCZuI",
        "outputId": "a527787e-8912-4b14-8e7a-c0336fe2366d"
      },
      "outputs": [
        {
          "output_type": "stream",
          "name": "stdout",
          "text": [
            "Drive already mounted at /content/drive; to attempt to forcibly remount, call drive.mount(\"/content/drive\", force_remount=True).\n"
          ]
        }
      ],
      "source": [
        "from google.colab import drive\n",
        "drive.mount('/content/drive')"
      ]
    },
    {
      "cell_type": "code",
      "source": [
        "!pip install glob2"
      ],
      "metadata": {
        "colab": {
          "base_uri": "https://localhost:8080/"
        },
        "id": "WvSRNK66Dmt6",
        "outputId": "f76d25ce-7921-4416-ba85-15e3ae451cd0"
      },
      "execution_count": 30,
      "outputs": [
        {
          "output_type": "stream",
          "name": "stdout",
          "text": [
            "Looking in indexes: https://pypi.org/simple, https://us-python.pkg.dev/colab-wheels/public/simple/\n",
            "Requirement already satisfied: glob2 in /usr/local/lib/python3.9/dist-packages (0.7)\n"
          ]
        }
      ]
    },
    {
      "cell_type": "code",
      "source": [
        "from glob import glob\n",
        "import os\n",
        "import pandas as pd\n",
        "path = \"/content/drive/MyDrive/Iqram Sir/Fitabase data pulls - seperate\""
      ],
      "metadata": {
        "id": "7qBv-TfvDtr6"
      },
      "execution_count": 31,
      "outputs": []
    },
    {
      "cell_type": "code",
      "source": [
        "import matplotlib\n",
        "import matplotlib.pyplot as plt\n",
        "import numpy as np\n",
        "from sklearn.linear_model import LinearRegression\n",
        "from tqdm.notebook import tqdm\n",
        "\n",
        "def get_content(patient_folder_adrs):\n",
        "\n",
        "  post_adrs = sorted(glob(patient_folder_adrs+\"/*\"))[0]\n",
        "  \n",
        "\n",
        "  pre_adrs = sorted(glob(patient_folder_adrs+\"/*\"))[1]\n",
        "\n",
        "  for i in glob(post_adrs+\"/*\"):\n",
        "    content = i.split(\"_\")\n",
        "    if \"1min\" in content:\n",
        "      post_1min = i\n",
        "    if \"minuteCaloriesNarrow\" in content:\n",
        "      post_cal = i\n",
        "    if \"minuteMETsNarrow\" in content:\n",
        "      post_met = i\n",
        "\n",
        "\n",
        "  for i in glob(pre_adrs+\"/*\"):\n",
        "    content = i.split(\"_\")\n",
        "    if \"1min\" in i.split(\"_\"):\n",
        "      pre_1min = i\n",
        "    if \"minuteCaloriesNarrow\" in content:\n",
        "      pre_cal = i\n",
        "    if \"minuteMETsNarrow\" in content:\n",
        "      pre_met = i\n",
        " \n",
        "  return post_1min, post_cal,post_met, pre_1min, pre_cal, pre_met\n",
        "\n",
        "\n",
        "\n",
        "\n",
        "def plot(X,Y,m,c,hr_aee = False):\n",
        "  fig = plt.figure(figsize=(13,8))\n",
        "  ax = fig.add_subplot()\n",
        "  fig.subplots_adjust(top=0.85)\n",
        "\n",
        "  # Set titles for the figure and the subplot respectively\n",
        "  #fig.suptitle('bold figure suptitle', fontsize=14, fontweight='bold')\n",
        "  if hr_aee == True:\n",
        "    ax.set_title('Max HR & aEE',fontweight='bold')\n",
        "  else:\n",
        "    ax.set_title('Max HR',fontweight='bold')\n",
        "\n",
        "  ax.scatter(X, Y)\n",
        "\n",
        "  high_y = Y.max()\n",
        "\n",
        "  high_x = (high_y-c)/m\n",
        "\n",
        "  rang_y=[Y.min(),high_y]\n",
        "\n",
        "  ax.plot((rang_y-c)/m, rang_y, color = \"red\")\n",
        "\n",
        "  ax.scatter(high_x, high_y, color='green')\n",
        "  ax.annotate('(aEEMax,HRMax)', xy=(high_x, high_y), xytext=(high_x-5, high_y+10),fontweight='bold')\n",
        "  ax.annotate(\"(\"+str(round(high_x[0],2))+\",\"+str(high_y)+\")\", xy=(high_x, high_y), xytext=(high_x-3, high_y+5),fontweight='bold',color = 'purple')\n",
        "\n",
        "\n",
        "  if hr_aee == True:\n",
        "    ax.set_xlabel(\"aEE_MAX(kJ/min)\",fontweight='bold',fontsize=12)\n",
        "    ax.set_ylabel(\"HR_MAX(BPM)\",fontweight='bold',fontsize=12)\n",
        "  else:\n",
        "    ax.set_xlabel(\"aEE(kJ/min)\",fontweight='bold',fontsize=12)\n",
        "    ax.set_ylabel(\"HR(BPM)\",fontweight='bold',fontsize=12)\n",
        "\n",
        "  ax.axis([0, high_x+10, 0, high_y+30])\n",
        "\n",
        "  ax.grid()\n",
        "  plt.show()\n",
        "\n",
        "\n",
        "\n",
        "\n",
        "def signle_sample(df_1min, df_cal,df_met,min,hr_aee = False):\n",
        "  list_1 = list(df_1min[\"Time\"])\n",
        "  list_2 = list(df_cal[\"ActivityMinute\"])\n",
        "  #df_met = mets_minute_refine(df_met,min)\n",
        "  list_3 = list(df_met[\"ActivityMinute\"])\n",
        "\n",
        "\n",
        "  hr = []\n",
        "  aee = []\n",
        "  time = []\n",
        "  mets = []\n",
        "\n",
        "  if len(list_1)>len(list_2):\n",
        "    for i in tqdm(list_1):\n",
        "      if i in list_2 and i in list_3:\n",
        "        hr.append(list(df_1min.query(\"Time == '\"+i+\"'\")['Value'])[0])\n",
        "        aee.append(list(df_cal.query(\"ActivityMinute == '\"+i+\"'\")['Calories'])[0]*4.184)\n",
        "        mets.append(list(df_met.query(\"ActivityMinute == '\"+i+\"'\")['METs'])[0])\n",
        "        time.append(i)\n",
        "\n",
        "  else:\n",
        "    for i in tqdm(list_2):\n",
        "      if i in list_1 and i in list_3:\n",
        "        hr.append(list(df_1min.query(\"Time == '\"+i+\"'\")['Value'])[0])\n",
        "        aee.append(list(df_cal.query(\"ActivityMinute == '\"+i+\"'\")['Calories'])[0]*4.184)\n",
        "        mets.append(list(df_met.query(\"ActivityMinute == '\"+i+\"'\")['METs'])[0])\n",
        "        time.append(i)\n",
        "\n",
        "  d={\n",
        "    \"Time\" : time,\n",
        "     \"HR(BPM)\" : hr,\n",
        "     \"aEE(kJ/min)\":aee,\n",
        "     \"METs\" : mets\n",
        "  }\n",
        "\n",
        "  dataFrame = pd.DataFrame.from_dict(d)\n",
        "\n",
        "\n",
        "  Y = dataFrame[\"HR(BPM)\"].values.reshape(-1, 1)\n",
        "  X = dataFrame[\"aEE(kJ/min)\"].values.reshape(-1, 1)\n",
        "  reg = LinearRegression().fit(X, Y)\n",
        "  m = reg.coef_[0]\n",
        "  c = reg.intercept_\n",
        "\n",
        "  if hr_aee == True:\n",
        "    hr_mx = Y.max()\n",
        "    aee_mx = (hr_mx-c)/m\n",
        "    return hr_mx, round(aee_mx[0],2)\n",
        "\n",
        "  else:\n",
        "    plot(X,Y,m,c)\n",
        "    return dataFrame\n",
        "\n",
        "\n",
        "\n",
        "def test_signle_sample(data,df_1min,df_cal,df_met):\n",
        "  total_row = data.shape[0]\n",
        "  print(\"Total DataRow: \",total_row)\n",
        "\n",
        "  err_row=[]\n",
        "\n",
        "  for i in tqdm(range(total_row)):\n",
        "    print(data[\"Time\"][i], data['HR(BPM)'][i],round(data['aEE(kJ/min)'][i],2),data['METs'][i])\n",
        "\n",
        "    hr = list(df_1min.query(\"Time == '\"+data[\"Time\"][i]+\"'\")['Value'])[0]\n",
        "    cal = round(list(df_cal.query(\"ActivityMinute == '\"+data[\"Time\"][i]+\"'\")['Calories'])[0],2)\n",
        "    mets = list(df_met.query(\"ActivityMinute == '\"+data[\"Time\"][i]+\"'\")['METs'])[0]\n",
        "    print(hr,round(cal*4.184,2),mets)\n",
        "    print(\"------------------------------------------------------------\")\n",
        "\n",
        "    if hr != data['HR(BPM)'][i] or cal != round(data['aEE(kJ/min)'][i]/4.184,2) or mets != data['METs'][i]:\n",
        "      err_row.append((data[\"Time\"][i],i))\n",
        "  return err_row\n",
        "\n",
        "\n",
        "\n",
        "\n",
        "\n",
        "\n",
        "\n",
        "def range_list(k):\n",
        "  list_of = []\n",
        "  main_list = []\n",
        "\n",
        "  for i in range(len(k)-1):\n",
        " \n",
        "    if k[i+1]-k[i] == 1:\n",
        "      list_of.append(k[i])\n",
        "    else:\n",
        "      list_of.append(k[i])\n",
        "      main_list.append(list_of)\n",
        "      list_of=[]\n",
        "    if i == len(k)-2:\n",
        "      if k[i+1]-k[i] == 1:\n",
        "        list_of.append(k[i+1])\n",
        "        main_list.append(list_of)\n",
        "      else:\n",
        "        main_list.append([k[i+1]])\n",
        "  \n",
        "  return main_list\n",
        "\n",
        "\n",
        "\n",
        "\n",
        "\n",
        "\n",
        "def mets_minute_refine(data,minutes):\n",
        "\n",
        "  mets_10 = []\n",
        "  mets_more = []\n",
        "  for i in range(data.shape[0]):\n",
        "    if data[\"METs\"][i] > 10:\n",
        "      mets_more.append(i)\n",
        "    else:\n",
        "      mets_10.append(i)\n",
        "\n",
        "  main_l = range_list(mets_more)\n",
        "\n",
        "  removable_list = []\n",
        "  for i in range(len(main_l)-1):\n",
        "    if len(main_l[i]) < minutes+1:\n",
        "      for j in main_l[i]:\n",
        "        removable_list.append(j)\n",
        "\n",
        "  df1=data.drop(data.index[mets_10+removable_list]).reset_index()\n",
        "  return df1\n",
        "\n",
        "\n",
        "\n",
        "\n",
        "\n",
        "from datetime import datetime\n",
        "\n",
        "def formate24(t):\n",
        "  time = t.split(\" \")\n",
        "  m2 = time[1]+\" \"+time[2]\n",
        "  in_time = datetime.strptime(m2, \"%I:%M:%S %p\")\n",
        "  out_time = datetime.strftime(in_time, \"%H:%M:%S\")\n",
        "  return out_time\n",
        "\n",
        "\n",
        "def dif_min(start_time, end_time):\n",
        "  t1 = datetime.strptime(start_time, \"%H:%M:%S\")\n",
        "  t2 = datetime.strptime(end_time, \"%H:%M:%S\")\n",
        "\n",
        "  delta = t2 - t1\n",
        "\n",
        "  return delta.total_seconds()/60\n",
        "     \n"
      ],
      "metadata": {
        "id": "fvhOkelLDv83"
      },
      "execution_count": 32,
      "outputs": []
    },
    {
      "cell_type": "code",
      "source": [
        "subject = '001-JV'\n",
        "\n",
        "\n",
        "\n",
        "for i in glob(path+\"/*\"):\n",
        "  #get_contenct(i)\n",
        "  if subject in i.split(\"/\"):\n",
        "    Post_1min,Post_cal,Post_met, Pre_1min,Pre_cal,Pre_met = get_content(i)\n",
        "\n",
        "df_post_1min = pd.read_csv(Post_1min)\n",
        "df_post_cal = pd.read_csv(Post_cal)\n",
        "df_post_met = pd.read_csv(Post_met)\n",
        "\n",
        "df_pre_1min = pd.read_csv(Pre_1min)\n",
        "df_pre_cal = pd.read_csv(Pre_cal)\n",
        "df_pre_met = pd.read_csv(Pre_met)\n",
        "\n"
      ],
      "metadata": {
        "id": "GfwOD5y1Dypj"
      },
      "execution_count": 44,
      "outputs": []
    },
    {
      "cell_type": "code",
      "source": [
        "d = signle_sample(df_post_1min,df_post_cal,df_post_met,5)"
      ],
      "metadata": {
        "colab": {
          "base_uri": "https://localhost:8080/",
          "height": 730,
          "referenced_widgets": [
            "0693a3bbabb74d1abadac3ab41820b38",
            "94cdbe20a7f641b788f6f6c38de0701e",
            "077c173094bf4188a4b3593edd5dcb4d",
            "2010120303124f46938c74d0ae443443",
            "f65cf42e129b4e08961e36fafccb2d09",
            "75ac76a1e41b4dba8f688f4a33566706",
            "4b3cbb3daa60410ba522cf8b04d1663d",
            "fde2e8cc679c4d1aa65b16a3d240abec",
            "e760c14752f246f18a0352972236e754",
            "932b5f273c774659bd762723470b87f1",
            "61a03ca8e73f4c5592a41455b77231f2"
          ]
        },
        "id": "UNo64E-e_CP1",
        "outputId": "5d7feb0b-b76e-46a9-f6b3-357d07df3f0e"
      },
      "execution_count": 34,
      "outputs": [
        {
          "output_type": "display_data",
          "data": {
            "text/plain": [
              "  0%|          | 0/50400 [00:00<?, ?it/s]"
            ],
            "application/vnd.jupyter.widget-view+json": {
              "version_major": 2,
              "version_minor": 0,
              "model_id": "0693a3bbabb74d1abadac3ab41820b38"
            }
          },
          "metadata": {}
        },
        {
          "output_type": "display_data",
          "data": {
            "text/plain": [
              "<Figure size 1300x800 with 1 Axes>"
            ],
            "image/png": "[encoded data removed]"
          },
          "metadata": {}
        }
      ]
    },
    {
      "cell_type": "code",
      "source": [
        "minute = 5\n",
        "\n",
        "test_data = mets_minute_refine(d, minute)\n",
        "\n",
        "test_data.shape"
      ],
      "metadata": {
        "colab": {
          "base_uri": "https://localhost:8080/"
        },
        "id": "DmAfSNUrD1G1",
        "outputId": "ab99cdff-ec4d-42ac-904a-95c58226a513"
      },
      "execution_count": 46,
      "outputs": [
        {
          "output_type": "execute_result",
          "data": {
            "text/plain": [
              "(9313, 5)"
            ]
          },
          "metadata": {},
          "execution_count": 46
        }
      ]
    },
    {
      "cell_type": "code",
      "source": [
        "test_data.to_csv(\"Test_METs_Series_001-JV.csv\",index = False)"
      ],
      "metadata": {
        "id": "opiaXhl8HO5V"
      },
      "execution_count": 36,
      "outputs": []
    },
    {
      "cell_type": "markdown",
      "source": [],
      "metadata": {
        "id": "ebWHI_KAfpSt"
      }
    },
    {
      "cell_type": "code",
      "source": [
        "\n",
        "\n",
        "def time_limit_check(test_data,min_limit):\n",
        "  time_diff_list = []\n",
        "  for i in tqdm(let):\n",
        "\n",
        "    start_time = formate24(list(test_data.query(\"index == \"+str(i[0])+\"\")['Time'])[0])\n",
        "    end_time = formate24(list(test_data.query(\"index == \"+str(i[-1])+\"\")['Time'])[0])\n",
        "    diff = dif_min(start_time,end_time)\n",
        "    if diff < min_limit:\n",
        "      time_diff_list.append(i)\n",
        "  \n",
        "  return time_diff_list\n",
        "\n",
        "\n",
        "def single_segment_refine(single_list,min_limit):\n",
        "  temp = []\n",
        "  main = []\n",
        "\n",
        "  for i in range(len(single_list)-1):\n",
        "    k = formate24(list(test_data.query(\"index == \"+str(single_list[i+1])+\"\")['Time'])[0])\n",
        "    l = formate24(list(test_data.query(\"index == \"+str(single_list[i])+\"\")['Time'])[0])\n",
        "    diff = dif_min(l,k)\n",
        "    #print(k,l,diff)\n",
        "    if diff == 1 or diff == -1439.0:\n",
        "      temp.append(single_list[i])\n",
        "      flage = 1\n",
        "    else:\n",
        "      temp.append(single_list[i])\n",
        "      if len(temp) >= min_limit+1:\n",
        "        \n",
        "        main.append(temp)\n",
        "      temp=[]\n",
        "      flage = 0\n",
        "\n",
        "  if flage == 1:\n",
        "    if len(temp) >= min_limit+1:\n",
        "        main.append(temp)\n",
        "\n",
        "  return main\n",
        "\n",
        "\n"
      ],
      "metadata": {
        "id": "J4fm1n8CI6ey"
      },
      "execution_count": 101,
      "outputs": []
    },
    {
      "cell_type": "code",
      "source": [
        "print(*time_diff,sep=\"\\n\")"
      ],
      "metadata": {
        "colab": {
          "base_uri": "https://localhost:8080/"
        },
        "id": "w_1VoeYqIzGu",
        "outputId": "d4e9809c-ec7d-428e-9d3f-4134da2d256d"
      },
      "execution_count": 50,
      "outputs": [
        {
          "output_type": "stream",
          "name": "stdout",
          "text": [
            "[7079, 7088, -478.0]\n",
            "[14377, 14407, -423.0]\n",
            "[16169, 16186, -1423.0]\n",
            "[17861, 17956, -507.0]\n",
            "[22486, 22742, -378.0]\n",
            "[24082, 24097, -375.0]\n",
            "[32546, 32546, 0.0]\n"
          ]
        }
      ]
    },
    {
      "cell_type": "code",
      "source": [
        "print(*time_diff_list,sep=\"\\n\")"
      ],
      "metadata": {
        "colab": {
          "base_uri": "https://localhost:8080/"
        },
        "id": "6PUqKytXRRp2",
        "outputId": "d5a2ada1-b0a6-4c0a-f220-c99e3586aaed"
      },
      "execution_count": 51,
      "outputs": [
        {
          "output_type": "stream",
          "name": "stdout",
          "text": [
            "[7079, 7080, 7081, 7082, 7083, 7084, 7085, 7086, 7087, 7088]\n",
            "[14377, 14378, 14379, 14380, 14381, 14382, 14383, 14384, 14385, 14386, 14387, 14388, 14389, 14390, 14391, 14392, 14393, 14394, 14395, 14396, 14397, 14398, 14399, 14400, 14401, 14402, 14403, 14404, 14405, 14406, 14407]\n",
            "[16169, 16170, 16171, 16172, 16173, 16174, 16175, 16176, 16177, 16178, 16179, 16180, 16181, 16182, 16183, 16184, 16185, 16186]\n",
            "[17861, 17862, 17863, 17864, 17865, 17866, 17867, 17868, 17869, 17870, 17871, 17872, 17873, 17874, 17875, 17876, 17877, 17878, 17879, 17880, 17881, 17882, 17883, 17884, 17885, 17886, 17887, 17888, 17889, 17890, 17891, 17892, 17893, 17894, 17895, 17896, 17897, 17898, 17899, 17900, 17901, 17902, 17903, 17904, 17905, 17906, 17907, 17908, 17909, 17910, 17911, 17912, 17913, 17914, 17915, 17916, 17917, 17918, 17919, 17920, 17921, 17922, 17923, 17924, 17925, 17926, 17927, 17928, 17929, 17930, 17931, 17932, 17933, 17934, 17935, 17936, 17937, 17938, 17939, 17940, 17941, 17942, 17943, 17944, 17945, 17946, 17947, 17948, 17949, 17950, 17951, 17952, 17953, 17954, 17955, 17956]\n",
            "[22486, 22487, 22488, 22489, 22490, 22491, 22492, 22493, 22494, 22495, 22496, 22497, 22498, 22499, 22500, 22501, 22502, 22503, 22504, 22505, 22506, 22507, 22508, 22509, 22510, 22511, 22512, 22513, 22514, 22515, 22516, 22517, 22518, 22519, 22520, 22521, 22522, 22523, 22524, 22525, 22526, 22527, 22528, 22529, 22530, 22531, 22532, 22533, 22534, 22535, 22536, 22537, 22538, 22539, 22540, 22541, 22542, 22543, 22544, 22545, 22546, 22547, 22548, 22549, 22550, 22551, 22552, 22553, 22554, 22555, 22556, 22557, 22558, 22559, 22560, 22561, 22562, 22563, 22564, 22565, 22566, 22567, 22568, 22569, 22570, 22571, 22572, 22573, 22574, 22575, 22576, 22577, 22578, 22579, 22580, 22581, 22582, 22583, 22584, 22585, 22586, 22587, 22588, 22589, 22590, 22591, 22592, 22593, 22594, 22595, 22596, 22597, 22598, 22599, 22600, 22601, 22602, 22603, 22604, 22605, 22606, 22607, 22608, 22609, 22610, 22611, 22612, 22613, 22614, 22615, 22616, 22617, 22618, 22619, 22620, 22621, 22622, 22623, 22624, 22625, 22626, 22627, 22628, 22629, 22630, 22631, 22632, 22633, 22634, 22635, 22636, 22637, 22638, 22639, 22640, 22641, 22642, 22643, 22644, 22645, 22646, 22647, 22648, 22649, 22650, 22651, 22652, 22653, 22654, 22655, 22656, 22657, 22658, 22659, 22660, 22661, 22662, 22663, 22664, 22665, 22666, 22667, 22668, 22669, 22670, 22671, 22672, 22673, 22674, 22675, 22676, 22677, 22678, 22679, 22680, 22681, 22682, 22683, 22684, 22685, 22686, 22687, 22688, 22689, 22690, 22691, 22692, 22693, 22694, 22695, 22696, 22697, 22698, 22699, 22700, 22701, 22702, 22703, 22704, 22705, 22706, 22707, 22708, 22709, 22710, 22711, 22712, 22713, 22714, 22715, 22716, 22717, 22718, 22719, 22720, 22721, 22722, 22723, 22724, 22725, 22726, 22727, 22728, 22729, 22730, 22731, 22732, 22733, 22734, 22735, 22736, 22737, 22738, 22739, 22740, 22741, 22742]\n",
            "[24082, 24083, 24084, 24085, 24086, 24087, 24088, 24089, 24090, 24091, 24092, 24093, 24094, 24095, 24096, 24097]\n",
            "[32546]\n"
          ]
        }
      ]
    },
    {
      "cell_type": "code",
      "source": [],
      "metadata": {
        "id": "1NypF-IL6rFK"
      },
      "execution_count": 87,
      "outputs": []
    },
    {
      "cell_type": "code",
      "source": [
        "\n",
        "\n",
        "print(*single_segment_refine(time_diff_list[2],0),sep='\\n')"
      ],
      "metadata": {
        "colab": {
          "base_uri": "https://localhost:8080/"
        },
        "id": "AyTTc_rIGbHp",
        "outputId": "2269dd08-e52e-408f-cc9d-3ee354942849"
      },
      "execution_count": 103,
      "outputs": [
        {
          "output_type": "stream",
          "name": "stdout",
          "text": [
            "[16169, 16170, 16171, 16172, 16173, 16174, 16175, 16176, 16177, 16178, 16179, 16180, 16181, 16182, 16183, 16184, 16185]\n"
          ]
        }
      ]
    },
    {
      "cell_type": "code",
      "source": [],
      "metadata": {
        "id": "hCYmOiVGHvLs"
      },
      "execution_count": null,
      "outputs": []
    }
  ]
}