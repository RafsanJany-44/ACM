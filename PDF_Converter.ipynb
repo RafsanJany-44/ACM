{
  "nbformat": 4,
  "nbformat_minor": 0,
  "metadata": {
    "colab": {
      "provenance": [],
      "authorship_tag": "ABX9TyOOY4z4v8Wmu/zgtqMWcAAV",
      "include_colab_link": true
    },
    "kernelspec": {
      "name": "python3",
      "display_name": "Python 3"
    },
    "language_info": {
      "name": "python"
    }
  },
  "cells": [
    {
      "cell_type": "markdown",
      "metadata": {
        "id": "view-in-github",
        "colab_type": "text"
      },
      "source": [
        "<a href=\"https://colab.research.google.com/github/RafsanJany-44/ARC/blob/master/PDF_Converter.ipynb\" target=\"_parent\"><img src=\"https://colab.research.google.com/assets/colab-badge.svg\" alt=\"Open In Colab\"/></a>"
      ]
    },
    {
      "cell_type": "code",
      "execution_count": 5,
      "metadata": {
        "id": "7VPE6cL6DARj"
      },
      "outputs": [],
      "source": [
        "from PIL import Image\n",
        "\n",
        "image_1 = Image.open(r'/content/img/Scan.png')\n",
        "image_2 = Image.open(r'/content/img/Scan 1.png')\n",
        "image_3 = Image.open(r'/content/img/Scan 2.png')\n",
        "\n",
        "im_1 = image_1.convert('RGB')\n",
        "im_2 = image_2.convert('RGB')\n",
        "im_3 = image_3.convert('RGB')\n",
        "\n",
        "image_list = [im_2, im_3]\n",
        "\n",
        "im_1.save(r'Transcipt.pdf', save_all=True, append_images=image_list)"
      ]
    },
    {
      "cell_type": "code",
      "source": [],
      "metadata": {
        "id": "kQnFljd8F3Ni"
      },
      "execution_count": null,
      "outputs": []
    }
  ]
}