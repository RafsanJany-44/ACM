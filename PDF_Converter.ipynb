{
  "nbformat": 4,
  "nbformat_minor": 0,
  "metadata": {
    "colab": {
      "provenance": [],
      "authorship_tag": "ABX9TyOKrV8Jceq1eQlM3HMNJj+7",
      "include_colab_link": true
    },
    "kernelspec": {
      "name": "python3",
      "display_name": "Python 3"
    },
    "language_info": {
      "name": "python"
    }
  },
  "cells": [
    {
      "cell_type": "markdown",
      "metadata": {
        "id": "view-in-github",
        "colab_type": "text"
      },
      "source": [
        "<a href=\"https://colab.research.google.com/github/RafsanJany-44/ARC/blob/master/PDF_Converter.ipynb\" target=\"_parent\"><img src=\"https://colab.research.google.com/assets/colab-badge.svg\" alt=\"Open In Colab\"/></a>"
      ]
    },
    {
      "cell_type": "code",
      "source": [
        "!pip install reportlab Pillow"
      ],
      "metadata": {
        "colab": {
          "base_uri": "https://localhost:8080/"
        },
        "id": "D_KmSSSUF8TX",
        "outputId": "f7da765e-d046-4936-c701-dd4d5a156985"
      },
      "execution_count": 2,
      "outputs": [
        {
          "output_type": "stream",
          "name": "stdout",
          "text": [
            "Collecting reportlab\n",
            "  Downloading reportlab-4.0.9-py3-none-any.whl (1.9 MB)\n",
            "\u001b[2K     \u001b[90m━━━━━━━━━━━━━━━━━━━━━━━━━━━━━━━━━━━━━━━━\u001b[0m \u001b[32m1.9/1.9 MB\u001b[0m \u001b[31m8.7 MB/s\u001b[0m eta \u001b[36m0:00:00\u001b[0m\n",
            "\u001b[?25hRequirement already satisfied: Pillow in /usr/local/lib/python3.10/dist-packages (9.4.0)\n",
            "Requirement already satisfied: chardet in /usr/local/lib/python3.10/dist-packages (from reportlab) (5.2.0)\n",
            "Installing collected packages: reportlab\n",
            "Successfully installed reportlab-4.0.9\n"
          ]
        }
      ]
    },
    {
      "cell_type": "code",
      "execution_count": 4,
      "metadata": {
        "id": "7VPE6cL6DARj"
      },
      "outputs": [],
      "source": [
        "from reportlab.lib.pagesizes import letter\n",
        "from reportlab.pdfgen import canvas\n",
        "from PIL import Image\n",
        "import os\n",
        "\n",
        "def convert_images_to_pdf(images_folder, output_pdf):\n",
        "    # Get a list of all PNG files in the folder\n",
        "    image_files = [f for f in os.listdir(images_folder) if f.lower().endswith('.png')]\n",
        "\n",
        "    # Create a PDF file\n",
        "    pdf = canvas.Canvas(output_pdf, pagesize=letter)\n",
        "\n",
        "    for image_file in image_files:\n",
        "        # Get the full path of the image\n",
        "        image_path = os.path.join(images_folder, image_file)\n",
        "\n",
        "        # Open the image using PIL\n",
        "        image = Image.open(image_path)\n",
        "\n",
        "        # Get the image dimensions in points (1 inch = 72 points)\n",
        "        width, height = image.size\n",
        "\n",
        "        # Add a page to the PDF with the same dimensions as the image\n",
        "        pdf.setPageSize((width, height))\n",
        "        pdf.showPage()\n",
        "\n",
        "        # Draw the image on the PDF\n",
        "        pdf.drawInlineImage(image_path, 0, 0, width, height)\n",
        "\n",
        "    # Save the PDF\n",
        "    pdf.save()\n",
        "\n",
        "if __name__ == \"__main__\":\n",
        "    # Set the path to the folder containing PNG images\n",
        "    images_folder = \"/content/img\"\n",
        "\n",
        "    # Set the output PDF file name\n",
        "    output_pdf = \"output.pdf\"\n",
        "\n",
        "    # Convert images to PDF\n",
        "    convert_images_to_pdf(images_folder, output_pdf)\n"
      ]
    },
    {
      "cell_type": "code",
      "source": [],
      "metadata": {
        "id": "kQnFljd8F3Ni"
      },
      "execution_count": null,
      "outputs": []
    }
  ]
}