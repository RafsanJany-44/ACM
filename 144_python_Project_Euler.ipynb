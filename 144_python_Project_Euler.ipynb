{
  "cells": [
    {
      "cell_type": "markdown",
      "metadata": {
        "id": "view-in-github",
        "colab_type": "text"
      },
      "source": [
        "<a href=\"https://colab.research.google.com/github/RafsanJany-44/ARC/blob/master/144_python_Project_Euler.ipynb\" target=\"_parent\"><img src=\"https://colab.research.google.com/assets/colab-badge.svg\" alt=\"Open In Colab\"/></a>"
      ]
    },
    {
      "cell_type": "markdown",
      "metadata": {
        "id": "v8PjVCJbNsJq"
      },
      "source": [
        "# Mark 24 Computer By Sattajit Roy"
      ]
    },
    {
      "cell_type": "markdown",
      "metadata": {
        "id": "TU_mjGvANsJt"
      },
      "source": [
        "## Brute Force"
      ]
    },
    {
      "cell_type": "code",
      "execution_count": null,
      "metadata": {
        "id": "18F6MshlNsJu"
      },
      "outputs": [],
      "source": [
        "from tqdm import tqdm\n",
        "\n",
        "all_alpha = []\n",
        "\n",
        "for i in range(65,90):\n",
        "    all_alpha.append(chr(i))\n",
        "\n",
        "\n",
        "\n",
        "all=[]\n",
        "for i in tqdm(all_alpha):\n",
        "    for j in all_alpha:\n",
        "        for k in all_alpha:\n",
        "            for l in all_alpha:\n",
        "                for m in all_alpha:\n",
        "                    for n in all_alpha:\n",
        "                        for o in all_alpha:\n",
        "                            for p in all_alpha:\n",
        "                                for q in all_alpha:\n",
        "                                    all.append(i+j+k+l+m+n+o+p+q)"
      ]
    },
    {
      "cell_type": "code",
      "execution_count": null,
      "metadata": {
        "id": "-u_ef4ffNsJv"
      },
      "outputs": [],
      "source": [
        "from numba import jit\n",
        "\n",
        "\n",
        "@jit\n",
        "def fun():\n",
        "    var_1 = 0\n",
        "    var_2 = 0\n",
        "    var_3 = 0\n",
        "    var_4 = 0\n",
        "    var_5 = 0\n",
        "    var_6 = 0\n",
        "    var_7 = 0\n",
        "    var_8 = 0\n",
        "    var_9 = 0\n",
        "\n",
        "    all=[]\n",
        "\n",
        "\n",
        "    while(True):\n",
        "        for _ in range(26):\n",
        "            #print(chr(65+var_1)+chr(65+var_2)+chr(65+var_3)+chr(65+var_4)+chr(65+var_5)+chr(65+var_6)+chr(65+var_7)+chr(65+var_8)+chr(65+var_9))\n",
        "            all.append((chr(65+var_1)+chr(65+var_2)+chr(65+var_3)+chr(65+var_4)+chr(65+var_5)+chr(65+var_6)+chr(65+var_7)+chr(65+var_8)+chr(65+var_9)))\n",
        "            var_9 +=1\n",
        "        if var_9==26:\n",
        "            var_8 += 1\n",
        "            var_9 = 0\n",
        "\n",
        "        if var_8==26:\n",
        "            var_7 += 1\n",
        "            var_8 = 0\n",
        "\n",
        "        if var_7==26:\n",
        "            var_6 += 1\n",
        "            var_7= 0\n",
        "\n",
        "        if var_6==26:\n",
        "            var_5 += 1\n",
        "            var_6 = 0\n",
        "\n",
        "        if var_5==26:\n",
        "            var_4 += 1\n",
        "            var_5 = 0\n",
        "\n",
        "        if var_4==26:\n",
        "            var_3 += 1\n",
        "            var_4 = 0\n",
        "\n",
        "        if var_2==26:\n",
        "            var_1 += 1\n",
        "            var_2 = 0\n",
        "\n",
        "        if var_1==26:\n",
        "            break\n",
        "\n",
        "    return all"
      ]
    },
    {
      "cell_type": "code",
      "execution_count": null,
      "metadata": {
        "id": "2jh4FIB0NsJw"
      },
      "outputs": [],
      "source": [
        "\n",
        "var_1 = 0\n",
        "var_2 = 0\n",
        "var_3 = 0\n",
        "var_4 = 0\n",
        "var_5 = 0\n",
        "var_6 = 0\n",
        "var_7 = 0\n",
        "var_8 = 0\n",
        "var_9 = 0\n",
        "\n",
        "all=[]\n",
        "flag = 0\n",
        "\n",
        "while(True):\n",
        "    for _ in range(26):\n",
        "        #print(chr(65+var_1)+chr(65+var_2)+chr(65+var_3)+chr(65+var_4)+chr(65+var_5)+chr(65+var_6)+chr(65+var_7)+chr(65+var_8)+chr(65+var_9))\n",
        "        all.append((chr(65+var_1)+chr(65+var_2)+chr(65+var_3)+chr(65+var_4)+chr(65+var_5)+chr(65+var_6)+chr(65+var_7)+chr(65+var_8)+chr(65+var_9)))\n",
        "        var_9 +=1\n",
        "    if var_9==26:\n",
        "        var_8 += 1\n",
        "        var_9 = 0\n",
        "\n",
        "    if var_8==26:\n",
        "        var_7 += 1\n",
        "        var_8 = 0\n",
        "\n",
        "    if var_7==26:\n",
        "        var_6 += 1\n",
        "        var_7= 0\n",
        "\n",
        "    if var_6==26:\n",
        "        var_5 += 1\n",
        "        var_6 = 0\n",
        "\n",
        "    if var_5==26:\n",
        "        var_4 += 1\n",
        "        var_5 = 0\n",
        "\n",
        "    if var_4==26:\n",
        "        var_3 += 1\n",
        "        var_4 = 0\n",
        "\n",
        "    if var_2==26:\n",
        "        var_1 += 1\n",
        "        var_2 = 0\n",
        "\n",
        "    if var_1==26:\n",
        "        break\n",
        ""
      ]
    },
    {
      "cell_type": "code",
      "execution_count": null,
      "metadata": {
        "id": "9KOBXhHrNsJw",
        "outputId": "6b0e3262-dbeb-4af4-dd45-bb32140215e5"
      },
      "outputs": [
        {
          "data": {
            "text/plain": [
              "'AAAYNYJUJ'"
            ]
          },
          "execution_count": 32,
          "metadata": {},
          "output_type": "execute_result"
        }
      ],
      "source": [
        "all=[]"
      ]
    },
    {
      "cell_type": "code",
      "execution_count": null,
      "metadata": {
        "id": "qUZVT8T-NsJx"
      },
      "outputs": [],
      "source": []
    },
    {
      "cell_type": "code",
      "execution_count": null,
      "metadata": {
        "id": "NB9T1zBUNsJy"
      },
      "outputs": [],
      "source": []
    },
    {
      "cell_type": "code",
      "execution_count": null,
      "metadata": {
        "id": "o4iojWAZNsJy"
      },
      "outputs": [],
      "source": []
    },
    {
      "cell_type": "markdown",
      "metadata": {
        "id": "Qm3emZ5nNsJy"
      },
      "source": [
        "# Project Euler"
      ]
    },
    {
      "cell_type": "markdown",
      "metadata": {
        "id": "-Xj3nvcxNsJy"
      },
      "source": [
        "## Problem 1\n",
        "\n",
        "https://projecteuler.net/problem=1\n"
      ]
    },
    {
      "cell_type": "code",
      "execution_count": null,
      "metadata": {
        "id": "YbDW1lguNsJz",
        "outputId": "a2a21096-acaa-4f51-e044-dd219afd24e6"
      },
      "outputs": [
        {
          "data": {
            "text/plain": [
              "233168"
            ]
          },
          "execution_count": 2,
          "metadata": {},
          "output_type": "execute_result"
        }
      ],
      "source": [
        "sum = 0\n",
        "\n",
        "for i in range(1000):\n",
        "    if i%5 == 0 or i%3==0:\n",
        "        sum = sum+i\n",
        "\n",
        "sum"
      ]
    },
    {
      "cell_type": "markdown",
      "metadata": {
        "id": "ovY48ofdNsJz"
      },
      "source": [
        "## Problem 2\n",
        "\n",
        "https://projecteuler.net/problem=2\n"
      ]
    },
    {
      "cell_type": "code",
      "execution_count": null,
      "metadata": {
        "id": "dpHYVx-5NsJz",
        "outputId": "da56b94a-2137-4d7a-abf8-c06392f6eb8c"
      },
      "outputs": [
        {
          "name": "stdout",
          "output_type": "stream",
          "text": [
            "1\n",
            "2\n",
            "3\n",
            "5\n",
            "8\n",
            "13\n",
            "21\n",
            "34\n",
            "55\n",
            "89\n",
            "144\n",
            "233\n",
            "377\n",
            "610\n",
            "987\n",
            "1597\n",
            "2584\n",
            "4181\n",
            "6765\n",
            "10946\n",
            "17711\n",
            "28657\n",
            "46368\n",
            "75025\n",
            "121393\n",
            "196418\n",
            "317811\n",
            "514229\n",
            "832040\n",
            "1346269\n",
            "2178309\n",
            "3524578\n",
            "5702887\n"
          ]
        },
        {
          "data": {
            "text/plain": [
              "4613732"
            ]
          },
          "execution_count": 9,
          "metadata": {},
          "output_type": "execute_result"
        }
      ],
      "source": [
        "sum = 0\n",
        "x=0\n",
        "y=1\n",
        "i = 1\n",
        "while(True):\n",
        "    z=x+y\n",
        "    if z%2==0:\n",
        "        sum = sum + z\n",
        "    x=y\n",
        "    y=z\n",
        "    i+=1\n",
        "    print(z)\n",
        "    if z>=4000000:\n",
        "        break\n",
        "sum"
      ]
    },
    {
      "cell_type": "markdown",
      "metadata": {
        "id": "fwBj-sPnNsJz"
      },
      "source": [
        "## Problem 3\n",
        "\n",
        "https://projecteuler.net/problem=3"
      ]
    },
    {
      "cell_type": "code",
      "execution_count": 1,
      "metadata": {
        "colab": {
          "base_uri": "https://localhost:8080/"
        },
        "id": "kaH36AwUNsJ0",
        "outputId": "d0063bb3-59c9-4d5c-eb76-c44a88edffd6"
      },
      "outputs": [
        {
          "output_type": "execute_result",
          "data": {
            "text/plain": [
              "True"
            ]
          },
          "metadata": {},
          "execution_count": 1
        }
      ],
      "source": [
        "\n",
        "def prime(n):\n",
        "    flage = False\n",
        "    for i in range(2,int(n/2)):\n",
        "        if n%i == 0:\n",
        "            flage = True\n",
        "\n",
        "    return flage\n",
        "\n",
        "prime(9)"
      ]
    },
    {
      "cell_type": "code",
      "execution_count": null,
      "metadata": {
        "colab": {
          "base_uri": "https://localhost:8080/"
        },
        "id": "zRhcJ77QNsJ0",
        "outputId": "e5dd33f5-6f1d-4659-bbba-4302a2bd0636"
      },
      "outputs": [
        {
          "output_type": "stream",
          "name": "stderr",
          "text": [
            "  0%|          | 250907/600851475141 [00:00<130:03:38, 1283270.80it/s]"
          ]
        },
        {
          "output_type": "stream",
          "name": "stdout",
          "text": [
            "3 True\n",
            "9 False\n",
            "29 True\n",
            "87 False\n",
            "261 False\n",
            "5087 True\n",
            "15261 False\n",
            "45783 False\n",
            "147523 False\n"
          ]
        },
        {
          "output_type": "stream",
          "name": "stderr",
          "text": [
            "  0%|          | 683289/600851475141 [00:00<118:49:50, 1404543.68it/s]"
          ]
        },
        {
          "output_type": "stream",
          "name": "stdout",
          "text": [
            "442569 False\n",
            "452549 True\n"
          ]
        },
        {
          "output_type": "stream",
          "name": "stderr",
          "text": [
            "  0%|          | 1607731/600851475141 [00:01<85:21:40, 1955254.32it/s]"
          ]
        },
        {
          "output_type": "stream",
          "name": "stdout",
          "text": [
            "1327707 False\n",
            "1357647 False\n"
          ]
        },
        {
          "output_type": "stream",
          "name": "stderr",
          "text": [
            "  0%|          | 4514720/600851475141 [00:02<62:40:17, 2663121.35it/s]"
          ]
        },
        {
          "output_type": "stream",
          "name": "stdout",
          "text": [
            "4072941 False\n"
          ]
        },
        {
          "output_type": "stream",
          "name": "stderr",
          "text": [
            "  0%|          | 13534335/600851475141 [00:05<62:08:10, 2686028.66it/s]"
          ]
        },
        {
          "output_type": "stream",
          "name": "stdout",
          "text": [
            "13123921 False\n"
          ]
        },
        {
          "output_type": "stream",
          "name": "stderr",
          "text": [
            "  0%|          | 39891477/600851475141 [00:16<63:05:50, 2644997.59it/s]"
          ]
        },
        {
          "output_type": "stream",
          "name": "stdout",
          "text": [
            "39371763 False\n"
          ]
        },
        {
          "output_type": "stream",
          "name": "stderr",
          "text": [
            "  0%|          | 118602904/600851475141 [00:47<60:13:52, 2770496.76it/s]"
          ]
        },
        {
          "output_type": "stream",
          "name": "stdout",
          "text": [
            "118115289 False\n"
          ]
        },
        {
          "output_type": "stream",
          "name": "stderr",
          "text": [
            "  0%|          | 1576689274/600851475141 [10:56<74:40:04, 2229403.77it/s]"
          ]
        }
      ],
      "source": [
        "from tqdm import tqdm\n",
        "def is_prime(n):\n",
        "  if n <= 1:\n",
        "    return False\n",
        "  for i in range(2, int(n ** 0.5) + 1):\n",
        "    if n % i == 0:\n",
        "      return False\n",
        "  return True\n",
        "\n",
        "\n",
        "all_div=[]\n",
        "\n",
        "for i in tqdm(range(2,600851475143)):\n",
        "    if 600852475143%i == 0 :\n",
        "        print(i,is_prime(i))"
      ]
    },
    {
      "cell_type": "markdown",
      "source": [
        "## Problem 4\n",
        "\n",
        "https://projecteuler.net/problem=4"
      ],
      "metadata": {
        "id": "Kf43DDpVVr8F"
      }
    },
    {
      "cell_type": "code",
      "execution_count": null,
      "metadata": {
        "id": "2Z-NeJ0ONsJ0"
      },
      "outputs": [],
      "source": [
        "from tqdm import tqdm\n",
        "\n",
        "\n",
        "deci_3digit = []\n",
        "for i in range(100,1000):\n",
        "    deci_3digit.append(str(i))\n",
        "\n",
        "\n",
        "\n",
        "def palindrome(string):\n",
        "    if string == string[::-1]:\n",
        "        return True\n",
        "    else:\n",
        "        return False\n",
        "\n",
        "\n",
        "\n",
        "all_palindromes = []\n",
        "\n",
        "for i in tqdm(deci_3digit):\n",
        "    for j in deci_3digit:\n",
        "        dot = int(i)*int(j)\n",
        "        if palindrome(str(dot)) == True:\n",
        "            all_palindromes.append(dot)\n",
        "\n",
        "print(max(all_palindromes))\n"
      ]
    },
    {
      "cell_type": "markdown",
      "source": [
        "## Problem 5\n",
        "\n",
        "https://projecteuler.net/problem=5"
      ],
      "metadata": {
        "id": "mXqi9FA1XcFQ"
      }
    },
    {
      "cell_type": "code",
      "source": [
        "i = 2530\n",
        "while True:\n",
        "  for j in range(1,21):\n",
        "    if i % j == 0:\n",
        "      continue\n",
        "    else:\n",
        "      break\n",
        "  if j == 20:\n",
        "    print(i)\n",
        "    break\n",
        "  i += 10\n"
      ],
      "metadata": {
        "id": "cY8DTY4OXbtU"
      },
      "execution_count": null,
      "outputs": []
    },
    {
      "cell_type": "markdown",
      "source": [
        "## Problem 6\n",
        "\n",
        "https://projecteuler.net/problem=6"
      ],
      "metadata": {
        "id": "mp2KseQkhm6j"
      }
    },
    {
      "cell_type": "code",
      "source": [
        "sum1 = 0\n",
        "sum2 = 0\n",
        "\n",
        "for i in range(1,101):\n",
        "  sum1 = sum1 + i*i\n",
        "\n",
        "\n",
        "for i in range(1,101):\n",
        "  sum2 = sum2 + i\n",
        "\n",
        "print((sum2*sum2) - sum1)"
      ],
      "metadata": {
        "id": "Ozo_IQFKhmqP"
      },
      "execution_count": null,
      "outputs": []
    },
    {
      "cell_type": "markdown",
      "source": [
        "## Problem 7\n",
        "\n",
        "https://projecteuler.net/problem=7"
      ],
      "metadata": {
        "id": "4eJAyDfc0AQP"
      }
    },
    {
      "cell_type": "code",
      "source": [
        "def is_prime(n):\n",
        "  if n <= 1:\n",
        "    return False\n",
        "  for i in range(2, int(n ** 0.5) + 1):\n",
        "    if n % i == 0:\n",
        "      return False\n",
        "  return True\n",
        "\n",
        "\n",
        "i= 2\n",
        "prime_th= 0\n",
        "while(True):\n",
        "  if is_prime(i) == True:\n",
        "    prime_th+=1\n",
        "    print(i,prime_th)\n",
        "  if prime_th == 10001:\n",
        "    print(i)\n",
        "    break\n",
        "  i+=1"
      ],
      "metadata": {
        "id": "s58tozVNz-_j"
      },
      "execution_count": null,
      "outputs": []
    }
  ],
  "metadata": {
    "kernelspec": {
      "display_name": "TitanoBoa",
      "language": "python",
      "name": "python3"
    },
    "language_info": {
      "codemirror_mode": {
        "name": "ipython",
        "version": 3
      },
      "file_extension": ".py",
      "mimetype": "text/x-python",
      "name": "python",
      "nbconvert_exporter": "python",
      "pygments_lexer": "ipython3",
      "version": "3.9.15"
    },
    "colab": {
      "provenance": [],
      "include_colab_link": true
    }
  },
  "nbformat": 4,
  "nbformat_minor": 0
}