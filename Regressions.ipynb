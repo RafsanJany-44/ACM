{
  "nbformat": 4,
  "nbformat_minor": 0,
  "metadata": {
    "colab": {
      "provenance": [],
      "collapsed_sections": [
        "sx7QykGeXzjI",
        "qXdK1hpkYVmJ"
      ],
      "include_colab_link": true
    },
    "kernelspec": {
      "name": "python3",
      "display_name": "Python 3"
    },
    "language_info": {
      "name": "python"
    }
  },
  "cells": [
    {
      "cell_type": "markdown",
      "metadata": {
        "id": "view-in-github",
        "colab_type": "text"
      },
      "source": [
        "<a href=\"https://colab.research.google.com/github/RafsanJany-44/ARC/blob/master/Regressions.ipynb\" target=\"_parent\"><img src=\"https://colab.research.google.com/assets/colab-badge.svg\" alt=\"Open In Colab\"/></a>"
      ]
    },
    {
      "cell_type": "markdown",
      "source": [
        "#Random Forest (or Bootstrap Aggregation)"
      ],
      "metadata": {
        "id": "zF2WIu3tzPWl"
      }
    },
    {
      "cell_type": "code",
      "source": [
        "import seaborn as sns\n",
        "import sklearn.metrics as sm\n",
        "import pandas as pd\n",
        "import numpy as np\n",
        "from sklearn import model_selection\n",
        "from sklearn.linear_model import LinearRegression\n",
        "from sklearn.linear_model import Ridge\n",
        "from sklearn.linear_model import Lasso\n",
        "from sklearn.linear_model import ElasticNet\n",
        "from sklearn.neighbors import KNeighborsRegressor\n",
        "from sklearn.tree import DecisionTreeRegressor\n",
        "from sklearn.svm import SVR\n",
        "from sklearn.ensemble import RandomForestRegressor\n",
        "from sklearn.metrics import r2_score\n",
        "from sklearn.model_selection import train_test_split\n",
        "from sklearn.metrics import mean_squared_error\n",
        "from math import sqrt\n",
        "import matplotlib.pyplot as plt\n",
        "\n",
        "\n",
        "def prim_plot(y_actual,y_pred):\n",
        "  pred_y_df=pd.DataFrame(\n",
        "      {\n",
        "          \"Actual_Value\":y_actual,\n",
        "          \"Predicted_Value\":y_pred,\n",
        "          \"Difference\":y_actual-y_pred\n",
        "      }\n",
        "  )\n",
        "\n",
        "  sns.regplot(x=\"Actual_Value\", y=\"Predicted_Value\", data=pred_y_df)\n",
        "\n",
        "\n",
        "def res(y_actual,y_pred):\n",
        "  print(\"Mean absolute error =\", sm.mean_absolute_error(y_actual, y_pred))\n",
        "  print(\"Mean squared error =\", sm.mean_squared_error(y_actual, y_pred))\n",
        "  print(\"Root mean squared error =\", sqrt(sm.mean_squared_error(y_actual, y_pred)))\n",
        "  print(\"Median absolute error =\", sm.median_absolute_error(y_actual, y_pred))\n",
        "  print(\"Explain variance score =\", sm.explained_variance_score(y_actual, y_pred))\n",
        "  print(\"R2 score =\", sm.r2_score(y_actual, y_pred))\n"
      ],
      "metadata": {
        "id": "bqsI-3H78ZAN"
      },
      "execution_count": 265,
      "outputs": []
    },
    {
      "cell_type": "code",
      "source": [
        "import numpy as np\n",
        "import pandas as pd\n",
        "from sklearn.metrics import r2_score,mean_squared_error\n",
        "\n",
        "dataset = pd.read_excel(\"/content/dataset 11.xlsx\")"
      ],
      "metadata": {
        "id": "j77BeUU4sbVU"
      },
      "execution_count": 266,
      "outputs": []
    },
    {
      "cell_type": "code",
      "source": [
        "dataset"
      ],
      "metadata": {
        "colab": {
          "base_uri": "https://localhost:8080/",
          "height": 528
        },
        "id": "G14KmjKWsn2_",
        "outputId": "473d7444-6a2e-443f-9948-3ea98aa421db"
      },
      "execution_count": 267,
      "outputs": [
        {
          "output_type": "execute_result",
          "data": {
            "text/plain": [
              "                   Type  M/C Dia (Output)  M/C gauge (Output)  Yarn Count  \\\n",
              "0                 TERRY                32                  24        24.0   \n",
              "1                 TERRY                30                  24        24.0   \n",
              "2                 TERRY                32                  24        24.0   \n",
              "3                 TERRY                30                  24        24.0   \n",
              "4                FLEECE                26                  24        30.0   \n",
              "..                  ...               ...                 ...         ...   \n",
              "83  RIB (2x2, 1x1, 2x1)                40                  18        28.0   \n",
              "84  RIB (2x2, 1x1, 2x1)                40                  18        28.0   \n",
              "85  RIB (2x2, 1x1, 2x1)                42                  18        34.0   \n",
              "86  RIB (2x2, 1x1, 2x1)                42                  18        34.0   \n",
              "87  RIB (2x2, 1x1, 2x1)                34                  18        36.0   \n",
              "\n",
              "    Stich Length  Finish Dia  Finish GSM Color Range  Shrinkage Length  \\\n",
              "0           2.90          70         240       Light              -2.0   \n",
              "1           2.90          66         240       Light              -3.0   \n",
              "2           2.90          70         240       Light              -6.1   \n",
              "3           2.90          66         240       Light              -5.6   \n",
              "4           3.05          60         260       Light              -3.7   \n",
              "..           ...         ...         ...         ...               ...   \n",
              "83          2.62          76         225     Average              -4.1   \n",
              "84          2.62          76         225       Black              -1.3   \n",
              "85          2.90          50         240        Wash              -3.0   \n",
              "86          2.90          50         240        Wash              -3.5   \n",
              "87          2.60          66         180        Dark              -5.0   \n",
              "\n",
              "    Shrinkage Width  Twist  \n",
              "0              -5.0    2.4  \n",
              "1              -4.3    0.5  \n",
              "2              -3.0    0.5  \n",
              "3              -4.3    2.3  \n",
              "4              -5.0    0.5  \n",
              "..              ...    ...  \n",
              "83             -8.0    5.0  \n",
              "84            -11.0    5.0  \n",
              "85             -5.0    4.5  \n",
              "86             -4.0    2.0  \n",
              "87            -11.0    3.0  \n",
              "\n",
              "[88 rows x 11 columns]"
            ],
            "text/html": [
              "\n",
              "  <div id=\"df-699ca94c-3a1b-41cc-88f9-75810673f7df\" class=\"colab-df-container\">\n",
              "    <div>\n",
              "<style scoped>\n",
              "    .dataframe tbody tr th:only-of-type {\n",
              "        vertical-align: middle;\n",
              "    }\n",
              "\n",
              "    .dataframe tbody tr th {\n",
              "        vertical-align: top;\n",
              "    }\n",
              "\n",
              "    .dataframe thead th {\n",
              "        text-align: right;\n",
              "    }\n",
              "</style>\n",
              "<table border=\"1\" class=\"dataframe\">\n",
              "  <thead>\n",
              "    <tr style=\"text-align: right;\">\n",
              "      <th></th>\n",
              "      <th>Type</th>\n",
              "      <th>M/C Dia (Output)</th>\n",
              "      <th>M/C gauge (Output)</th>\n",
              "      <th>Yarn Count</th>\n",
              "      <th>Stich Length</th>\n",
              "      <th>Finish Dia</th>\n",
              "      <th>Finish GSM</th>\n",
              "      <th>Color Range</th>\n",
              "      <th>Shrinkage Length</th>\n",
              "      <th>Shrinkage Width</th>\n",
              "      <th>Twist</th>\n",
              "    </tr>\n",
              "  </thead>\n",
              "  <tbody>\n",
              "    <tr>\n",
              "      <th>0</th>\n",
              "      <td>TERRY</td>\n",
              "      <td>32</td>\n",
              "      <td>24</td>\n",
              "      <td>24.0</td>\n",
              "      <td>2.90</td>\n",
              "      <td>70</td>\n",
              "      <td>240</td>\n",
              "      <td>Light</td>\n",
              "      <td>-2.0</td>\n",
              "      <td>-5.0</td>\n",
              "      <td>2.4</td>\n",
              "    </tr>\n",
              "    <tr>\n",
              "      <th>1</th>\n",
              "      <td>TERRY</td>\n",
              "      <td>30</td>\n",
              "      <td>24</td>\n",
              "      <td>24.0</td>\n",
              "      <td>2.90</td>\n",
              "      <td>66</td>\n",
              "      <td>240</td>\n",
              "      <td>Light</td>\n",
              "      <td>-3.0</td>\n",
              "      <td>-4.3</td>\n",
              "      <td>0.5</td>\n",
              "    </tr>\n",
              "    <tr>\n",
              "      <th>2</th>\n",
              "      <td>TERRY</td>\n",
              "      <td>32</td>\n",
              "      <td>24</td>\n",
              "      <td>24.0</td>\n",
              "      <td>2.90</td>\n",
              "      <td>70</td>\n",
              "      <td>240</td>\n",
              "      <td>Light</td>\n",
              "      <td>-6.1</td>\n",
              "      <td>-3.0</td>\n",
              "      <td>0.5</td>\n",
              "    </tr>\n",
              "    <tr>\n",
              "      <th>3</th>\n",
              "      <td>TERRY</td>\n",
              "      <td>30</td>\n",
              "      <td>24</td>\n",
              "      <td>24.0</td>\n",
              "      <td>2.90</td>\n",
              "      <td>66</td>\n",
              "      <td>240</td>\n",
              "      <td>Light</td>\n",
              "      <td>-5.6</td>\n",
              "      <td>-4.3</td>\n",
              "      <td>2.3</td>\n",
              "    </tr>\n",
              "    <tr>\n",
              "      <th>4</th>\n",
              "      <td>FLEECE</td>\n",
              "      <td>26</td>\n",
              "      <td>24</td>\n",
              "      <td>30.0</td>\n",
              "      <td>3.05</td>\n",
              "      <td>60</td>\n",
              "      <td>260</td>\n",
              "      <td>Light</td>\n",
              "      <td>-3.7</td>\n",
              "      <td>-5.0</td>\n",
              "      <td>0.5</td>\n",
              "    </tr>\n",
              "    <tr>\n",
              "      <th>...</th>\n",
              "      <td>...</td>\n",
              "      <td>...</td>\n",
              "      <td>...</td>\n",
              "      <td>...</td>\n",
              "      <td>...</td>\n",
              "      <td>...</td>\n",
              "      <td>...</td>\n",
              "      <td>...</td>\n",
              "      <td>...</td>\n",
              "      <td>...</td>\n",
              "      <td>...</td>\n",
              "    </tr>\n",
              "    <tr>\n",
              "      <th>83</th>\n",
              "      <td>RIB (2x2, 1x1, 2x1)</td>\n",
              "      <td>40</td>\n",
              "      <td>18</td>\n",
              "      <td>28.0</td>\n",
              "      <td>2.62</td>\n",
              "      <td>76</td>\n",
              "      <td>225</td>\n",
              "      <td>Average</td>\n",
              "      <td>-4.1</td>\n",
              "      <td>-8.0</td>\n",
              "      <td>5.0</td>\n",
              "    </tr>\n",
              "    <tr>\n",
              "      <th>84</th>\n",
              "      <td>RIB (2x2, 1x1, 2x1)</td>\n",
              "      <td>40</td>\n",
              "      <td>18</td>\n",
              "      <td>28.0</td>\n",
              "      <td>2.62</td>\n",
              "      <td>76</td>\n",
              "      <td>225</td>\n",
              "      <td>Black</td>\n",
              "      <td>-1.3</td>\n",
              "      <td>-11.0</td>\n",
              "      <td>5.0</td>\n",
              "    </tr>\n",
              "    <tr>\n",
              "      <th>85</th>\n",
              "      <td>RIB (2x2, 1x1, 2x1)</td>\n",
              "      <td>42</td>\n",
              "      <td>18</td>\n",
              "      <td>34.0</td>\n",
              "      <td>2.90</td>\n",
              "      <td>50</td>\n",
              "      <td>240</td>\n",
              "      <td>Wash</td>\n",
              "      <td>-3.0</td>\n",
              "      <td>-5.0</td>\n",
              "      <td>4.5</td>\n",
              "    </tr>\n",
              "    <tr>\n",
              "      <th>86</th>\n",
              "      <td>RIB (2x2, 1x1, 2x1)</td>\n",
              "      <td>42</td>\n",
              "      <td>18</td>\n",
              "      <td>34.0</td>\n",
              "      <td>2.90</td>\n",
              "      <td>50</td>\n",
              "      <td>240</td>\n",
              "      <td>Wash</td>\n",
              "      <td>-3.5</td>\n",
              "      <td>-4.0</td>\n",
              "      <td>2.0</td>\n",
              "    </tr>\n",
              "    <tr>\n",
              "      <th>87</th>\n",
              "      <td>RIB (2x2, 1x1, 2x1)</td>\n",
              "      <td>34</td>\n",
              "      <td>18</td>\n",
              "      <td>36.0</td>\n",
              "      <td>2.60</td>\n",
              "      <td>66</td>\n",
              "      <td>180</td>\n",
              "      <td>Dark</td>\n",
              "      <td>-5.0</td>\n",
              "      <td>-11.0</td>\n",
              "      <td>3.0</td>\n",
              "    </tr>\n",
              "  </tbody>\n",
              "</table>\n",
              "<p>88 rows × 11 columns</p>\n",
              "</div>\n",
              "    <div class=\"colab-df-buttons\">\n",
              "\n",
              "  <div class=\"colab-df-container\">\n",
              "    <button class=\"colab-df-convert\" onclick=\"convertToInteractive('df-699ca94c-3a1b-41cc-88f9-75810673f7df')\"\n",
              "            title=\"Convert this dataframe to an interactive table.\"\n",
              "            style=\"display:none;\">\n",
              "\n",
              "  <svg xmlns=\"http://www.w3.org/2000/svg\" height=\"24px\" viewBox=\"0 -960 960 960\">\n",
              "    <path d=\"M120-120v-720h720v720H120Zm60-500h600v-160H180v160Zm220 220h160v-160H400v160Zm0 220h160v-160H400v160ZM180-400h160v-160H180v160Zm440 0h160v-160H620v160ZM180-180h160v-160H180v160Zm440 0h160v-160H620v160Z\"/>\n",
              "  </svg>\n",
              "    </button>\n",
              "\n",
              "  <style>\n",
              "    .colab-df-container {\n",
              "      display:flex;\n",
              "      gap: 12px;\n",
              "    }\n",
              "\n",
              "    .colab-df-convert {\n",
              "      background-color: #E8F0FE;\n",
              "      border: none;\n",
              "      border-radius: 50%;\n",
              "      cursor: pointer;\n",
              "      display: none;\n",
              "      fill: #1967D2;\n",
              "      height: 32px;\n",
              "      padding: 0 0 0 0;\n",
              "      width: 32px;\n",
              "    }\n",
              "\n",
              "    .colab-df-convert:hover {\n",
              "      background-color: #E2EBFA;\n",
              "      box-shadow: 0px 1px 2px rgba(60, 64, 67, 0.3), 0px 1px 3px 1px rgba(60, 64, 67, 0.15);\n",
              "      fill: #174EA6;\n",
              "    }\n",
              "\n",
              "    .colab-df-buttons div {\n",
              "      margin-bottom: 4px;\n",
              "    }\n",
              "\n",
              "    [theme=dark] .colab-df-convert {\n",
              "      background-color: #3B4455;\n",
              "      fill: #D2E3FC;\n",
              "    }\n",
              "\n",
              "    [theme=dark] .colab-df-convert:hover {\n",
              "      background-color: #434B5C;\n",
              "      box-shadow: 0px 1px 3px 1px rgba(0, 0, 0, 0.15);\n",
              "      filter: drop-shadow(0px 1px 2px rgba(0, 0, 0, 0.3));\n",
              "      fill: #FFFFFF;\n",
              "    }\n",
              "  </style>\n",
              "\n",
              "    <script>\n",
              "      const buttonEl =\n",
              "        document.querySelector('#df-699ca94c-3a1b-41cc-88f9-75810673f7df button.colab-df-convert');\n",
              "      buttonEl.style.display =\n",
              "        google.colab.kernel.accessAllowed ? 'block' : 'none';\n",
              "\n",
              "      async function convertToInteractive(key) {\n",
              "        const element = document.querySelector('#df-699ca94c-3a1b-41cc-88f9-75810673f7df');\n",
              "        const dataTable =\n",
              "          await google.colab.kernel.invokeFunction('convertToInteractive',\n",
              "                                                    [key], {});\n",
              "        if (!dataTable) return;\n",
              "\n",
              "        const docLinkHtml = 'Like what you see? Visit the ' +\n",
              "          '<a target=\"_blank\" href=https://colab.research.google.com/notebooks/data_table.ipynb>data table notebook</a>'\n",
              "          + ' to learn more about interactive tables.';\n",
              "        element.innerHTML = '';\n",
              "        dataTable['output_type'] = 'display_data';\n",
              "        await google.colab.output.renderOutput(dataTable, element);\n",
              "        const docLink = document.createElement('div');\n",
              "        docLink.innerHTML = docLinkHtml;\n",
              "        element.appendChild(docLink);\n",
              "      }\n",
              "    </script>\n",
              "  </div>\n",
              "\n",
              "\n",
              "<div id=\"df-5143cbbf-9812-4aa6-917a-b1d39aebf8a1\">\n",
              "  <button class=\"colab-df-quickchart\" onclick=\"quickchart('df-5143cbbf-9812-4aa6-917a-b1d39aebf8a1')\"\n",
              "            title=\"Suggest charts.\"\n",
              "            style=\"display:none;\">\n",
              "\n",
              "<svg xmlns=\"http://www.w3.org/2000/svg\" height=\"24px\"viewBox=\"0 0 24 24\"\n",
              "     width=\"24px\">\n",
              "    <g>\n",
              "        <path d=\"M19 3H5c-1.1 0-2 .9-2 2v14c0 1.1.9 2 2 2h14c1.1 0 2-.9 2-2V5c0-1.1-.9-2-2-2zM9 17H7v-7h2v7zm4 0h-2V7h2v10zm4 0h-2v-4h2v4z\"/>\n",
              "    </g>\n",
              "</svg>\n",
              "  </button>\n",
              "\n",
              "<style>\n",
              "  .colab-df-quickchart {\n",
              "      --bg-color: #E8F0FE;\n",
              "      --fill-color: #1967D2;\n",
              "      --hover-bg-color: #E2EBFA;\n",
              "      --hover-fill-color: #174EA6;\n",
              "      --disabled-fill-color: #AAA;\n",
              "      --disabled-bg-color: #DDD;\n",
              "  }\n",
              "\n",
              "  [theme=dark] .colab-df-quickchart {\n",
              "      --bg-color: #3B4455;\n",
              "      --fill-color: #D2E3FC;\n",
              "      --hover-bg-color: #434B5C;\n",
              "      --hover-fill-color: #FFFFFF;\n",
              "      --disabled-bg-color: #3B4455;\n",
              "      --disabled-fill-color: #666;\n",
              "  }\n",
              "\n",
              "  .colab-df-quickchart {\n",
              "    background-color: var(--bg-color);\n",
              "    border: none;\n",
              "    border-radius: 50%;\n",
              "    cursor: pointer;\n",
              "    display: none;\n",
              "    fill: var(--fill-color);\n",
              "    height: 32px;\n",
              "    padding: 0;\n",
              "    width: 32px;\n",
              "  }\n",
              "\n",
              "  .colab-df-quickchart:hover {\n",
              "    background-color: var(--hover-bg-color);\n",
              "    box-shadow: 0 1px 2px rgba(60, 64, 67, 0.3), 0 1px 3px 1px rgba(60, 64, 67, 0.15);\n",
              "    fill: var(--button-hover-fill-color);\n",
              "  }\n",
              "\n",
              "  .colab-df-quickchart-complete:disabled,\n",
              "  .colab-df-quickchart-complete:disabled:hover {\n",
              "    background-color: var(--disabled-bg-color);\n",
              "    fill: var(--disabled-fill-color);\n",
              "    box-shadow: none;\n",
              "  }\n",
              "\n",
              "  .colab-df-spinner {\n",
              "    border: 2px solid var(--fill-color);\n",
              "    border-color: transparent;\n",
              "    border-bottom-color: var(--fill-color);\n",
              "    animation:\n",
              "      spin 1s steps(1) infinite;\n",
              "  }\n",
              "\n",
              "  @keyframes spin {\n",
              "    0% {\n",
              "      border-color: transparent;\n",
              "      border-bottom-color: var(--fill-color);\n",
              "      border-left-color: var(--fill-color);\n",
              "    }\n",
              "    20% {\n",
              "      border-color: transparent;\n",
              "      border-left-color: var(--fill-color);\n",
              "      border-top-color: var(--fill-color);\n",
              "    }\n",
              "    30% {\n",
              "      border-color: transparent;\n",
              "      border-left-color: var(--fill-color);\n",
              "      border-top-color: var(--fill-color);\n",
              "      border-right-color: var(--fill-color);\n",
              "    }\n",
              "    40% {\n",
              "      border-color: transparent;\n",
              "      border-right-color: var(--fill-color);\n",
              "      border-top-color: var(--fill-color);\n",
              "    }\n",
              "    60% {\n",
              "      border-color: transparent;\n",
              "      border-right-color: var(--fill-color);\n",
              "    }\n",
              "    80% {\n",
              "      border-color: transparent;\n",
              "      border-right-color: var(--fill-color);\n",
              "      border-bottom-color: var(--fill-color);\n",
              "    }\n",
              "    90% {\n",
              "      border-color: transparent;\n",
              "      border-bottom-color: var(--fill-color);\n",
              "    }\n",
              "  }\n",
              "</style>\n",
              "\n",
              "  <script>\n",
              "    async function quickchart(key) {\n",
              "      const quickchartButtonEl =\n",
              "        document.querySelector('#' + key + ' button');\n",
              "      quickchartButtonEl.disabled = true;  // To prevent multiple clicks.\n",
              "      quickchartButtonEl.classList.add('colab-df-spinner');\n",
              "      try {\n",
              "        const charts = await google.colab.kernel.invokeFunction(\n",
              "            'suggestCharts', [key], {});\n",
              "      } catch (error) {\n",
              "        console.error('Error during call to suggestCharts:', error);\n",
              "      }\n",
              "      quickchartButtonEl.classList.remove('colab-df-spinner');\n",
              "      quickchartButtonEl.classList.add('colab-df-quickchart-complete');\n",
              "    }\n",
              "    (() => {\n",
              "      let quickchartButtonEl =\n",
              "        document.querySelector('#df-5143cbbf-9812-4aa6-917a-b1d39aebf8a1 button');\n",
              "      quickchartButtonEl.style.display =\n",
              "        google.colab.kernel.accessAllowed ? 'block' : 'none';\n",
              "    })();\n",
              "  </script>\n",
              "</div>\n",
              "    </div>\n",
              "  </div>\n"
            ]
          },
          "metadata": {},
          "execution_count": 267
        }
      ]
    },
    {
      "cell_type": "code",
      "source": [
        "dataset.shape"
      ],
      "metadata": {
        "colab": {
          "base_uri": "https://localhost:8080/"
        },
        "id": "CSHw6o9psp-a",
        "outputId": "f6772e76-a1eb-4c78-f6fd-289a17a76d93"
      },
      "execution_count": 268,
      "outputs": [
        {
          "output_type": "execute_result",
          "data": {
            "text/plain": [
              "(88, 11)"
            ]
          },
          "metadata": {},
          "execution_count": 268
        }
      ]
    },
    {
      "cell_type": "code",
      "source": [
        "dataset.info()"
      ],
      "metadata": {
        "colab": {
          "base_uri": "https://localhost:8080/"
        },
        "id": "GWfH6i310h69",
        "outputId": "0f16f0f0-ae1c-47b5-a435-e32ba18a857c"
      },
      "execution_count": 269,
      "outputs": [
        {
          "output_type": "stream",
          "name": "stdout",
          "text": [
            "<class 'pandas.core.frame.DataFrame'>\n",
            "RangeIndex: 88 entries, 0 to 87\n",
            "Data columns (total 11 columns):\n",
            " #   Column              Non-Null Count  Dtype  \n",
            "---  ------              --------------  -----  \n",
            " 0   Type                88 non-null     object \n",
            " 1   M/C Dia (Output)    88 non-null     int64  \n",
            " 2   M/C gauge (Output)  88 non-null     int64  \n",
            " 3   Yarn Count          88 non-null     float64\n",
            " 4   Stich Length        88 non-null     float64\n",
            " 5   Finish Dia          88 non-null     int64  \n",
            " 6   Finish GSM          88 non-null     int64  \n",
            " 7   Color Range         88 non-null     object \n",
            " 8   Shrinkage Length    88 non-null     float64\n",
            " 9   Shrinkage Width     88 non-null     float64\n",
            " 10  Twist               88 non-null     float64\n",
            "dtypes: float64(5), int64(4), object(2)\n",
            "memory usage: 7.7+ KB\n"
          ]
        }
      ]
    },
    {
      "cell_type": "code",
      "source": [
        "from sklearn.preprocessing import LabelEncoder\n",
        "encoder=LabelEncoder()\n",
        "dataset[\"Type\"]=encoder.fit_transform(dataset[\"Type\"])\n",
        "dataset[\"Color Range\"]=encoder.fit_transform(dataset[\"Color Range\"])"
      ],
      "metadata": {
        "id": "At0c8dry1S6s"
      },
      "execution_count": 270,
      "outputs": []
    },
    {
      "cell_type": "code",
      "source": [
        "dataset.info()"
      ],
      "metadata": {
        "colab": {
          "base_uri": "https://localhost:8080/"
        },
        "id": "tb--tULa2J52",
        "outputId": "1d5d26a9-ef2c-47bc-acc7-4c8edfe962f2"
      },
      "execution_count": 271,
      "outputs": [
        {
          "output_type": "stream",
          "name": "stdout",
          "text": [
            "<class 'pandas.core.frame.DataFrame'>\n",
            "RangeIndex: 88 entries, 0 to 87\n",
            "Data columns (total 11 columns):\n",
            " #   Column              Non-Null Count  Dtype  \n",
            "---  ------              --------------  -----  \n",
            " 0   Type                88 non-null     int64  \n",
            " 1   M/C Dia (Output)    88 non-null     int64  \n",
            " 2   M/C gauge (Output)  88 non-null     int64  \n",
            " 3   Yarn Count          88 non-null     float64\n",
            " 4   Stich Length        88 non-null     float64\n",
            " 5   Finish Dia          88 non-null     int64  \n",
            " 6   Finish GSM          88 non-null     int64  \n",
            " 7   Color Range         88 non-null     int64  \n",
            " 8   Shrinkage Length    88 non-null     float64\n",
            " 9   Shrinkage Width     88 non-null     float64\n",
            " 10  Twist               88 non-null     float64\n",
            "dtypes: float64(5), int64(6)\n",
            "memory usage: 7.7 KB\n"
          ]
        }
      ]
    },
    {
      "cell_type": "markdown",
      "source": [
        "#Regression Model for `M/C Dia (Output)`"
      ],
      "metadata": {
        "id": "8KkYSJO_0lIb"
      }
    },
    {
      "cell_type": "code",
      "source": [
        "list(dataset.columns)"
      ],
      "metadata": {
        "colab": {
          "base_uri": "https://localhost:8080/"
        },
        "id": "soJ-sayn0bqY",
        "outputId": "23d0354f-88e9-4457-e74c-373bc917d8c8"
      },
      "execution_count": 272,
      "outputs": [
        {
          "output_type": "execute_result",
          "data": {
            "text/plain": [
              "['Type',\n",
              " 'M/C Dia (Output)',\n",
              " 'M/C gauge (Output)',\n",
              " 'Yarn Count',\n",
              " 'Stich Length',\n",
              " 'Finish Dia',\n",
              " 'Finish GSM',\n",
              " 'Color Range',\n",
              " 'Shrinkage Length',\n",
              " 'Shrinkage Width',\n",
              " 'Twist']"
            ]
          },
          "metadata": {},
          "execution_count": 272
        }
      ]
    },
    {
      "cell_type": "code",
      "source": [
        "feature_columns = [\n",
        "'Type',\n",
        " 'Yarn Count',\n",
        " 'Stich Length',\n",
        " 'Finish Dia',\n",
        " 'Finish GSM',\n",
        " 'Color Range',\n",
        " 'Shrinkage Length',\n",
        " 'Shrinkage Width',\n",
        " 'Twist']\n",
        "\n",
        "X = dataset.loc[:,feature_columns]\n",
        "y = dataset['M/C Dia (Output)']"
      ],
      "metadata": {
        "id": "AiTKRXiY0mdy"
      },
      "execution_count": 273,
      "outputs": []
    },
    {
      "cell_type": "code",
      "source": [
        "\n",
        "from sklearn.model_selection import train_test_split\n",
        "X_train, X_test, y_train, y_test = train_test_split(X, y, test_size = 0.2,random_state=11)\n"
      ],
      "metadata": {
        "id": "gzJ19cN22KsU"
      },
      "execution_count": 274,
      "outputs": []
    },
    {
      "cell_type": "code",
      "source": [
        "#RF model\n",
        "model_rf = RandomForestRegressor(n_estimators=35,random_state=0)\n",
        "model_rf.fit(X_train, y_train)\n",
        "\n",
        "pred_test = model_rf.predict(X_test)\n",
        "res(y_test,pred_test)"
      ],
      "metadata": {
        "colab": {
          "base_uri": "https://localhost:8080/"
        },
        "id": "AxAWU3JyAZkY",
        "outputId": "11aa892b-51f6-4721-91d8-fda5715f2942"
      },
      "execution_count": 275,
      "outputs": [
        {
          "output_type": "stream",
          "name": "stdout",
          "text": [
            "Mean absolute error = 0.9555555555555552\n",
            "Mean squared error = 3.2005442176870735\n",
            "Root mean squared error = 1.789006489000829\n",
            "Median absolute error = 0.3999999999999986\n",
            "Explain variance score = 0.8749880040555328\n",
            "R2 score = 0.8724820060832991\n"
          ]
        }
      ]
    },
    {
      "cell_type": "code",
      "source": [
        "prim_plot(y_test,pred_test)"
      ],
      "metadata": {
        "id": "rf4fed26-F5k",
        "outputId": "b2522f4b-a398-4b43-a0db-dd4e6ab980ae",
        "colab": {
          "base_uri": "https://localhost:8080/",
          "height": 450
        }
      },
      "execution_count": 276,
      "outputs": [
        {
          "output_type": "display_data",
          "data": {
            "text/plain": [
              "<Figure size 640x480 with 1 Axes>"
            ],
            "image/png": "[encoded data removed]"
          },
          "metadata": {}
        }
      ]
    },
    {
      "cell_type": "markdown",
      "source": [
        "#Regression Model for `M/C gauge (Output)`"
      ],
      "metadata": {
        "id": "YnhqFI9iyehH"
      }
    },
    {
      "cell_type": "code",
      "source": [
        "feature_columns = [\n",
        "'Type',\n",
        " 'Yarn Count',\n",
        " 'Stich Length',\n",
        " 'Finish Dia',\n",
        " 'Finish GSM',\n",
        " 'Color Range',\n",
        " 'Shrinkage Length',\n",
        " 'Shrinkage Width',\n",
        " 'Twist']\n",
        "\n",
        "X = dataset.loc[:,feature_columns]\n",
        "y = dataset['M/C gauge (Output)']"
      ],
      "metadata": {
        "id": "MU1F6mQbyg_j"
      },
      "execution_count": 277,
      "outputs": []
    },
    {
      "cell_type": "code",
      "source": [
        "\n",
        "from sklearn.model_selection import train_test_split\n",
        "X_train, X_test, y_train, y_test = train_test_split(X, y, test_size = 0.2, random_state=41)\n"
      ],
      "metadata": {
        "id": "yQc8iho1yg9j"
      },
      "execution_count": 278,
      "outputs": []
    },
    {
      "cell_type": "code",
      "source": [
        "#RF model\n",
        "model_rf = RandomForestRegressor(n_estimators=35,random_state=0)\n",
        "model_rf.fit(X_train, y_train)\n",
        "\n",
        "pred_test = model_rf.predict(X_test)\n",
        "res(y_test,pred_test)"
      ],
      "metadata": {
        "id": "2Tvs24--6xl4",
        "outputId": "f68b3051-1f53-4dde-fd65-526ab5cb3343",
        "colab": {
          "base_uri": "https://localhost:8080/"
        }
      },
      "execution_count": 279,
      "outputs": [
        {
          "output_type": "stream",
          "name": "stdout",
          "text": [
            "Mean absolute error = 0.4730158730158729\n",
            "Mean squared error = 1.177142857142857\n",
            "Root mean squared error = 1.08496214548843\n",
            "Median absolute error = 0.0\n",
            "Explain variance score = 0.8700759637188209\n",
            "R2 score = 0.8675714285714285\n"
          ]
        }
      ]
    },
    {
      "cell_type": "code",
      "source": [
        "prim_plot(y_test,pred_test)"
      ],
      "metadata": {
        "id": "sXWkU-Ob-Jg6",
        "outputId": "d14cdb38-6fe2-4f48-ac78-90a9abd5c534",
        "colab": {
          "base_uri": "https://localhost:8080/",
          "height": 450
        }
      },
      "execution_count": 280,
      "outputs": [
        {
          "output_type": "display_data",
          "data": {
            "text/plain": [
              "<Figure size 640x480 with 1 Axes>"
            ],
            "image/png": "[encoded data removed]"
          },
          "metadata": {}
        }
      ]
    },
    {
      "cell_type": "code",
      "source": [
        "\"\"\"\n",
        "\n",
        "def prime_tune(X_train,X_test,y_train, y_test):\n",
        "  for i in tqdm(range(0,100)):\n",
        "    X_train, X_test, y_train, y_test = train_test_split(X, y, test_size = 0.2,random_state=i)\n",
        "    model_rf = RandomForestRegressor(n_estimators=35,random_state=0)\n",
        "    model_rf.fit(X_train, y_train)\n",
        "\n",
        "    pred_test = model_rf.predict(X_test)\n",
        "    pred_train = model_rf.predict(X_train)\n",
        "\n",
        "    print(\"___________________________________________________\")\n",
        "    print(\"-------------------\",i)\n",
        "    print(\"Training\")\n",
        "    res(y_train,pred_train)\n",
        "    print(\"Testing\")\n",
        "    res(y_test,pred_test)\n",
        "    print(\"___________________________________________________\")\"\"\""
      ],
      "metadata": {
        "id": "7Tumlrtlyg7N",
        "outputId": "f979323e-a182-47e7-bdf0-a04570463b90",
        "colab": {
          "base_uri": "https://localhost:8080/",
          "height": 105
        }
      },
      "execution_count": 281,
      "outputs": [
        {
          "output_type": "execute_result",
          "data": {
            "text/plain": [
              "'\\n\\ndef prime_tune(X_train,X_test,y_train, y_test):\\n  for i in tqdm(range(0,100)):\\n    X_train, X_test, y_train, y_test = train_test_split(X, y, test_size = 0.2,random_state=i)\\n    model_rf = RandomForestRegressor(n_estimators=35,random_state=0)\\n    model_rf.fit(X_train, y_train)\\n\\n    pred_test = model_rf.predict(X_test)\\n    pred_train = model_rf.predict(X_train)\\n\\n    print(\"___________________________________________________\")\\n    print(\"-------------------\",i)\\n    print(\"Training\")\\n    res(y_train,pred_train)\\n    print(\"Testing\")\\n    res(y_test,pred_test)\\n    print(\"___________________________________________________\")'"
            ],
            "application/vnd.google.colaboratory.intrinsic+json": {
              "type": "string"
            }
          },
          "metadata": {},
          "execution_count": 281
        }
      ]
    },
    {
      "cell_type": "code",
      "source": [],
      "metadata": {
        "id": "zNaR9yBoyg5G"
      },
      "execution_count": 281,
      "outputs": []
    },
    {
      "cell_type": "code",
      "source": [],
      "metadata": {
        "id": "L6WqVarDyg2s"
      },
      "execution_count": 281,
      "outputs": []
    },
    {
      "cell_type": "code",
      "source": [],
      "metadata": {
        "id": "W9KLDIq5yg0X"
      },
      "execution_count": 281,
      "outputs": []
    },
    {
      "cell_type": "code",
      "source": [],
      "metadata": {
        "id": "jEsn0cNHzcVr"
      },
      "execution_count": 281,
      "outputs": []
    }
  ]
}