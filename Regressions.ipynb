{
  "nbformat": 4,
  "nbformat_minor": 0,
  "metadata": {
    "colab": {
      "provenance": [],
      "collapsed_sections": [
        "sx7QykGeXzjI",
        "qXdK1hpkYVmJ"
      ],
      "include_colab_link": true
    },
    "kernelspec": {
      "name": "python3",
      "display_name": "Python 3"
    },
    "language_info": {
      "name": "python"
    }
  },
  "cells": [
    {
      "cell_type": "markdown",
      "metadata": {
        "id": "view-in-github",
        "colab_type": "text"
      },
      "source": [
        "<a href=\"https://colab.research.google.com/github/RafsanJany-44/ARC/blob/master/Regressions.ipynb\" target=\"_parent\"><img src=\"https://colab.research.google.com/assets/colab-badge.svg\" alt=\"Open In Colab\"/></a>"
      ]
    },
    {
      "cell_type": "code",
      "execution_count": null,
      "metadata": {
        "colab": {
          "base_uri": "https://localhost:8080/"
        },
        "id": "vj6jHu9WkVnY",
        "outputId": "8643818d-d83d-4a5b-ccb1-842817d0be01"
      },
      "outputs": [
        {
          "output_type": "stream",
          "name": "stdout",
          "text": [
            "Drive already mounted at /content/drive; to attempt to forcibly remount, call drive.mount(\"/content/drive\", force_remount=True).\n"
          ]
        }
      ],
      "source": [
        "\"\"\"from google.colab import drive\n",
        "drive.mount('/content/drive')\"\"\""
      ]
    },
    {
      "cell_type": "code",
      "source": [
        "import seaborn as sns\n",
        "import sklearn.metrics as sm\n",
        "\n",
        "def res(y_actual,y_pred):\n",
        "  print(\"Mean absolute error =\", round(sm.mean_absolute_error(y_actual, y_pred), 2))\n",
        "  print(\"Mean squared error =\", round(sm.mean_squared_error(y_actual, y_pred), 2))\n",
        "  print(\"Median absolute error =\", round(sm.median_absolute_error(y_actual, y_pred), 2))\n",
        "  print(\"Explain variance score =\", round(sm.explained_variance_score(y_actual, y_pred), 2))\n",
        "  print(\"R2 score =\", round(sm.r2_score(y_actual, y_pred), 2))\n"
      ],
      "metadata": {
        "id": "bqsI-3H78ZAN"
      },
      "execution_count": 1,
      "outputs": []
    },
    {
      "cell_type": "code",
      "source": [
        "import numpy as np\n",
        "import pandas as pd\n",
        "from sklearn.metrics import r2_score,mean_squared_error\n",
        "\n",
        "dataset = pd.read_excel(\"/content/DATA SET.xlsx\")#.iloc[2:,:].reset_index(drop = True)"
      ],
      "metadata": {
        "id": "j77BeUU4sbVU"
      },
      "execution_count": 68,
      "outputs": []
    },
    {
      "cell_type": "code",
      "source": [
        "dataset"
      ],
      "metadata": {
        "colab": {
          "base_uri": "https://localhost:8080/",
          "height": 461
        },
        "id": "G14KmjKWsn2_",
        "outputId": "16fc9084-0c6a-48d4-a009-e45d0b814a8c"
      },
      "execution_count": 69,
      "outputs": [
        {
          "output_type": "execute_result",
          "data": {
            "text/plain": [
              "   Fabric Type  Cotton%  Polyester%  Spandex%  Cotton Count  Polyester Count  \\\n",
              "0        TERRY      100           0         0            24             0.00   \n",
              "1        TERRY      100           0         0            24             0.00   \n",
              "2        TERRY      100           0         0            24             0.00   \n",
              "3        TERRY      100           0         0            24             0.00   \n",
              "4        TERRY       70          30         0            32            70.86   \n",
              "..         ...      ...         ...       ...           ...              ...   \n",
              "89         RIB      100           0         0            28             0.00   \n",
              "90         RIB      100           0         0            28             0.00   \n",
              "91         RIB       95           0         5            34             0.00   \n",
              "92         RIB       95           0         5            34             0.00   \n",
              "93         RIB      100           0         0            36             0.00   \n",
              "\n",
              "    Spandex Count Cotton SL  Polyester SL  Spandex SL  F/Dia  F/GSM  \\\n",
              "0            0.00       2.9          0.00         0.0     70    240   \n",
              "1            0.00       2.9          0.00         0.0     66    240   \n",
              "2            0.00       2.9          0.00         0.0     70    240   \n",
              "3            0.00       2.9          0.00         0.0     66    240   \n",
              "4            0.00       4.5          1.65         0.0     72    280   \n",
              "..            ...       ...           ...         ...    ...    ...   \n",
              "89           0.00      2.62          0.00         0.0     76    225   \n",
              "90           0.00      2.62          0.00         0.0     76    225   \n",
              "91         177.15       2,9          0.00         1.3     50    240   \n",
              "92         177.15       2.9          0.00         1.3     50    240   \n",
              "93           0.00       2.6          0.00         0.0     66    180   \n",
              "\n",
              "   Color Range  Length Shrinkage%  Width Shrinkage%  Spirality  MC Dia  \\\n",
              "0        Light               -2.0              -5.0        2.4      32   \n",
              "1        Light               -3.0              -4.3        0.5      30   \n",
              "2        Light               -6.1              -3.0        0.5      32   \n",
              "3        Light               -5.6              -4.3        2.3      30   \n",
              "4        White               -2.5              -6.0        3.5      30   \n",
              "..         ...                ...               ...        ...     ...   \n",
              "89     Average               -4.1              -8.0        5.0      40   \n",
              "90       Black               -1.3             -11.0        5.0      40   \n",
              "91        Wash               -3.0              -5.0        4.5      42   \n",
              "92        Wash               -3.5              -4.0        2.0      42   \n",
              "93        Dark               -5.0             -11.0        3.0      34   \n",
              "\n",
              "    MC Gauge  \n",
              "0         24  \n",
              "1         24  \n",
              "2         24  \n",
              "3         24  \n",
              "4         20  \n",
              "..       ...  \n",
              "89        18  \n",
              "90        18  \n",
              "91        18  \n",
              "92        18  \n",
              "93        18  \n",
              "\n",
              "[94 rows x 18 columns]"
            ],
            "text/html": [
              "\n",
              "  <div id=\"df-c7395dc5-7264-4243-a47c-213e12e57012\" class=\"colab-df-container\">\n",
              "    <div>\n",
              "<style scoped>\n",
              "    .dataframe tbody tr th:only-of-type {\n",
              "        vertical-align: middle;\n",
              "    }\n",
              "\n",
              "    .dataframe tbody tr th {\n",
              "        vertical-align: top;\n",
              "    }\n",
              "\n",
              "    .dataframe thead th {\n",
              "        text-align: right;\n",
              "    }\n",
              "</style>\n",
              "<table border=\"1\" class=\"dataframe\">\n",
              "  <thead>\n",
              "    <tr style=\"text-align: right;\">\n",
              "      <th></th>\n",
              "      <th>Fabric Type</th>\n",
              "      <th>Cotton%</th>\n",
              "      <th>Polyester%</th>\n",
              "      <th>Spandex%</th>\n",
              "      <th>Cotton Count</th>\n",
              "      <th>Polyester Count</th>\n",
              "      <th>Spandex Count</th>\n",
              "      <th>Cotton SL</th>\n",
              "      <th>Polyester SL</th>\n",
              "      <th>Spandex SL</th>\n",
              "      <th>F/Dia</th>\n",
              "      <th>F/GSM</th>\n",
              "      <th>Color Range</th>\n",
              "      <th>Length Shrinkage%</th>\n",
              "      <th>Width Shrinkage%</th>\n",
              "      <th>Spirality</th>\n",
              "      <th>MC Dia</th>\n",
              "      <th>MC Gauge</th>\n",
              "    </tr>\n",
              "  </thead>\n",
              "  <tbody>\n",
              "    <tr>\n",
              "      <th>0</th>\n",
              "      <td>TERRY</td>\n",
              "      <td>100</td>\n",
              "      <td>0</td>\n",
              "      <td>0</td>\n",
              "      <td>24</td>\n",
              "      <td>0.00</td>\n",
              "      <td>0.00</td>\n",
              "      <td>2.9</td>\n",
              "      <td>0.00</td>\n",
              "      <td>0.0</td>\n",
              "      <td>70</td>\n",
              "      <td>240</td>\n",
              "      <td>Light</td>\n",
              "      <td>-2.0</td>\n",
              "      <td>-5.0</td>\n",
              "      <td>2.4</td>\n",
              "      <td>32</td>\n",
              "      <td>24</td>\n",
              "    </tr>\n",
              "    <tr>\n",
              "      <th>1</th>\n",
              "      <td>TERRY</td>\n",
              "      <td>100</td>\n",
              "      <td>0</td>\n",
              "      <td>0</td>\n",
              "      <td>24</td>\n",
              "      <td>0.00</td>\n",
              "      <td>0.00</td>\n",
              "      <td>2.9</td>\n",
              "      <td>0.00</td>\n",
              "      <td>0.0</td>\n",
              "      <td>66</td>\n",
              "      <td>240</td>\n",
              "      <td>Light</td>\n",
              "      <td>-3.0</td>\n",
              "      <td>-4.3</td>\n",
              "      <td>0.5</td>\n",
              "      <td>30</td>\n",
              "      <td>24</td>\n",
              "    </tr>\n",
              "    <tr>\n",
              "      <th>2</th>\n",
              "      <td>TERRY</td>\n",
              "      <td>100</td>\n",
              "      <td>0</td>\n",
              "      <td>0</td>\n",
              "      <td>24</td>\n",
              "      <td>0.00</td>\n",
              "      <td>0.00</td>\n",
              "      <td>2.9</td>\n",
              "      <td>0.00</td>\n",
              "      <td>0.0</td>\n",
              "      <td>70</td>\n",
              "      <td>240</td>\n",
              "      <td>Light</td>\n",
              "      <td>-6.1</td>\n",
              "      <td>-3.0</td>\n",
              "      <td>0.5</td>\n",
              "      <td>32</td>\n",
              "      <td>24</td>\n",
              "    </tr>\n",
              "    <tr>\n",
              "      <th>3</th>\n",
              "      <td>TERRY</td>\n",
              "      <td>100</td>\n",
              "      <td>0</td>\n",
              "      <td>0</td>\n",
              "      <td>24</td>\n",
              "      <td>0.00</td>\n",
              "      <td>0.00</td>\n",
              "      <td>2.9</td>\n",
              "      <td>0.00</td>\n",
              "      <td>0.0</td>\n",
              "      <td>66</td>\n",
              "      <td>240</td>\n",
              "      <td>Light</td>\n",
              "      <td>-5.6</td>\n",
              "      <td>-4.3</td>\n",
              "      <td>2.3</td>\n",
              "      <td>30</td>\n",
              "      <td>24</td>\n",
              "    </tr>\n",
              "    <tr>\n",
              "      <th>4</th>\n",
              "      <td>TERRY</td>\n",
              "      <td>70</td>\n",
              "      <td>30</td>\n",
              "      <td>0</td>\n",
              "      <td>32</td>\n",
              "      <td>70.86</td>\n",
              "      <td>0.00</td>\n",
              "      <td>4.5</td>\n",
              "      <td>1.65</td>\n",
              "      <td>0.0</td>\n",
              "      <td>72</td>\n",
              "      <td>280</td>\n",
              "      <td>White</td>\n",
              "      <td>-2.5</td>\n",
              "      <td>-6.0</td>\n",
              "      <td>3.5</td>\n",
              "      <td>30</td>\n",
              "      <td>20</td>\n",
              "    </tr>\n",
              "    <tr>\n",
              "      <th>...</th>\n",
              "      <td>...</td>\n",
              "      <td>...</td>\n",
              "      <td>...</td>\n",
              "      <td>...</td>\n",
              "      <td>...</td>\n",
              "      <td>...</td>\n",
              "      <td>...</td>\n",
              "      <td>...</td>\n",
              "      <td>...</td>\n",
              "      <td>...</td>\n",
              "      <td>...</td>\n",
              "      <td>...</td>\n",
              "      <td>...</td>\n",
              "      <td>...</td>\n",
              "      <td>...</td>\n",
              "      <td>...</td>\n",
              "      <td>...</td>\n",
              "      <td>...</td>\n",
              "    </tr>\n",
              "    <tr>\n",
              "      <th>89</th>\n",
              "      <td>RIB</td>\n",
              "      <td>100</td>\n",
              "      <td>0</td>\n",
              "      <td>0</td>\n",
              "      <td>28</td>\n",
              "      <td>0.00</td>\n",
              "      <td>0.00</td>\n",
              "      <td>2.62</td>\n",
              "      <td>0.00</td>\n",
              "      <td>0.0</td>\n",
              "      <td>76</td>\n",
              "      <td>225</td>\n",
              "      <td>Average</td>\n",
              "      <td>-4.1</td>\n",
              "      <td>-8.0</td>\n",
              "      <td>5.0</td>\n",
              "      <td>40</td>\n",
              "      <td>18</td>\n",
              "    </tr>\n",
              "    <tr>\n",
              "      <th>90</th>\n",
              "      <td>RIB</td>\n",
              "      <td>100</td>\n",
              "      <td>0</td>\n",
              "      <td>0</td>\n",
              "      <td>28</td>\n",
              "      <td>0.00</td>\n",
              "      <td>0.00</td>\n",
              "      <td>2.62</td>\n",
              "      <td>0.00</td>\n",
              "      <td>0.0</td>\n",
              "      <td>76</td>\n",
              "      <td>225</td>\n",
              "      <td>Black</td>\n",
              "      <td>-1.3</td>\n",
              "      <td>-11.0</td>\n",
              "      <td>5.0</td>\n",
              "      <td>40</td>\n",
              "      <td>18</td>\n",
              "    </tr>\n",
              "    <tr>\n",
              "      <th>91</th>\n",
              "      <td>RIB</td>\n",
              "      <td>95</td>\n",
              "      <td>0</td>\n",
              "      <td>5</td>\n",
              "      <td>34</td>\n",
              "      <td>0.00</td>\n",
              "      <td>177.15</td>\n",
              "      <td>2,9</td>\n",
              "      <td>0.00</td>\n",
              "      <td>1.3</td>\n",
              "      <td>50</td>\n",
              "      <td>240</td>\n",
              "      <td>Wash</td>\n",
              "      <td>-3.0</td>\n",
              "      <td>-5.0</td>\n",
              "      <td>4.5</td>\n",
              "      <td>42</td>\n",
              "      <td>18</td>\n",
              "    </tr>\n",
              "    <tr>\n",
              "      <th>92</th>\n",
              "      <td>RIB</td>\n",
              "      <td>95</td>\n",
              "      <td>0</td>\n",
              "      <td>5</td>\n",
              "      <td>34</td>\n",
              "      <td>0.00</td>\n",
              "      <td>177.15</td>\n",
              "      <td>2.9</td>\n",
              "      <td>0.00</td>\n",
              "      <td>1.3</td>\n",
              "      <td>50</td>\n",
              "      <td>240</td>\n",
              "      <td>Wash</td>\n",
              "      <td>-3.5</td>\n",
              "      <td>-4.0</td>\n",
              "      <td>2.0</td>\n",
              "      <td>42</td>\n",
              "      <td>18</td>\n",
              "    </tr>\n",
              "    <tr>\n",
              "      <th>93</th>\n",
              "      <td>RIB</td>\n",
              "      <td>100</td>\n",
              "      <td>0</td>\n",
              "      <td>0</td>\n",
              "      <td>36</td>\n",
              "      <td>0.00</td>\n",
              "      <td>0.00</td>\n",
              "      <td>2.6</td>\n",
              "      <td>0.00</td>\n",
              "      <td>0.0</td>\n",
              "      <td>66</td>\n",
              "      <td>180</td>\n",
              "      <td>Dark</td>\n",
              "      <td>-5.0</td>\n",
              "      <td>-11.0</td>\n",
              "      <td>3.0</td>\n",
              "      <td>34</td>\n",
              "      <td>18</td>\n",
              "    </tr>\n",
              "  </tbody>\n",
              "</table>\n",
              "<p>94 rows × 18 columns</p>\n",
              "</div>\n",
              "    <div class=\"colab-df-buttons\">\n",
              "\n",
              "  <div class=\"colab-df-container\">\n",
              "    <button class=\"colab-df-convert\" onclick=\"convertToInteractive('df-c7395dc5-7264-4243-a47c-213e12e57012')\"\n",
              "            title=\"Convert this dataframe to an interactive table.\"\n",
              "            style=\"display:none;\">\n",
              "\n",
              "  <svg xmlns=\"http://www.w3.org/2000/svg\" height=\"24px\" viewBox=\"0 -960 960 960\">\n",
              "    <path d=\"M120-120v-720h720v720H120Zm60-500h600v-160H180v160Zm220 220h160v-160H400v160Zm0 220h160v-160H400v160ZM180-400h160v-160H180v160Zm440 0h160v-160H620v160ZM180-180h160v-160H180v160Zm440 0h160v-160H620v160Z\"/>\n",
              "  </svg>\n",
              "    </button>\n",
              "\n",
              "  <style>\n",
              "    .colab-df-container {\n",
              "      display:flex;\n",
              "      gap: 12px;\n",
              "    }\n",
              "\n",
              "    .colab-df-convert {\n",
              "      background-color: #E8F0FE;\n",
              "      border: none;\n",
              "      border-radius: 50%;\n",
              "      cursor: pointer;\n",
              "      display: none;\n",
              "      fill: #1967D2;\n",
              "      height: 32px;\n",
              "      padding: 0 0 0 0;\n",
              "      width: 32px;\n",
              "    }\n",
              "\n",
              "    .colab-df-convert:hover {\n",
              "      background-color: #E2EBFA;\n",
              "      box-shadow: 0px 1px 2px rgba(60, 64, 67, 0.3), 0px 1px 3px 1px rgba(60, 64, 67, 0.15);\n",
              "      fill: #174EA6;\n",
              "    }\n",
              "\n",
              "    .colab-df-buttons div {\n",
              "      margin-bottom: 4px;\n",
              "    }\n",
              "\n",
              "    [theme=dark] .colab-df-convert {\n",
              "      background-color: #3B4455;\n",
              "      fill: #D2E3FC;\n",
              "    }\n",
              "\n",
              "    [theme=dark] .colab-df-convert:hover {\n",
              "      background-color: #434B5C;\n",
              "      box-shadow: 0px 1px 3px 1px rgba(0, 0, 0, 0.15);\n",
              "      filter: drop-shadow(0px 1px 2px rgba(0, 0, 0, 0.3));\n",
              "      fill: #FFFFFF;\n",
              "    }\n",
              "  </style>\n",
              "\n",
              "    <script>\n",
              "      const buttonEl =\n",
              "        document.querySelector('#df-c7395dc5-7264-4243-a47c-213e12e57012 button.colab-df-convert');\n",
              "      buttonEl.style.display =\n",
              "        google.colab.kernel.accessAllowed ? 'block' : 'none';\n",
              "\n",
              "      async function convertToInteractive(key) {\n",
              "        const element = document.querySelector('#df-c7395dc5-7264-4243-a47c-213e12e57012');\n",
              "        const dataTable =\n",
              "          await google.colab.kernel.invokeFunction('convertToInteractive',\n",
              "                                                    [key], {});\n",
              "        if (!dataTable) return;\n",
              "\n",
              "        const docLinkHtml = 'Like what you see? Visit the ' +\n",
              "          '<a target=\"_blank\" href=https://colab.research.google.com/notebooks/data_table.ipynb>data table notebook</a>'\n",
              "          + ' to learn more about interactive tables.';\n",
              "        element.innerHTML = '';\n",
              "        dataTable['output_type'] = 'display_data';\n",
              "        await google.colab.output.renderOutput(dataTable, element);\n",
              "        const docLink = document.createElement('div');\n",
              "        docLink.innerHTML = docLinkHtml;\n",
              "        element.appendChild(docLink);\n",
              "      }\n",
              "    </script>\n",
              "  </div>\n",
              "\n",
              "\n",
              "<div id=\"df-b6de5c7d-8f4f-4807-91ef-05ccec1c27d0\">\n",
              "  <button class=\"colab-df-quickchart\" onclick=\"quickchart('df-b6de5c7d-8f4f-4807-91ef-05ccec1c27d0')\"\n",
              "            title=\"Suggest charts.\"\n",
              "            style=\"display:none;\">\n",
              "\n",
              "<svg xmlns=\"http://www.w3.org/2000/svg\" height=\"24px\"viewBox=\"0 0 24 24\"\n",
              "     width=\"24px\">\n",
              "    <g>\n",
              "        <path d=\"M19 3H5c-1.1 0-2 .9-2 2v14c0 1.1.9 2 2 2h14c1.1 0 2-.9 2-2V5c0-1.1-.9-2-2-2zM9 17H7v-7h2v7zm4 0h-2V7h2v10zm4 0h-2v-4h2v4z\"/>\n",
              "    </g>\n",
              "</svg>\n",
              "  </button>\n",
              "\n",
              "<style>\n",
              "  .colab-df-quickchart {\n",
              "      --bg-color: #E8F0FE;\n",
              "      --fill-color: #1967D2;\n",
              "      --hover-bg-color: #E2EBFA;\n",
              "      --hover-fill-color: #174EA6;\n",
              "      --disabled-fill-color: #AAA;\n",
              "      --disabled-bg-color: #DDD;\n",
              "  }\n",
              "\n",
              "  [theme=dark] .colab-df-quickchart {\n",
              "      --bg-color: #3B4455;\n",
              "      --fill-color: #D2E3FC;\n",
              "      --hover-bg-color: #434B5C;\n",
              "      --hover-fill-color: #FFFFFF;\n",
              "      --disabled-bg-color: #3B4455;\n",
              "      --disabled-fill-color: #666;\n",
              "  }\n",
              "\n",
              "  .colab-df-quickchart {\n",
              "    background-color: var(--bg-color);\n",
              "    border: none;\n",
              "    border-radius: 50%;\n",
              "    cursor: pointer;\n",
              "    display: none;\n",
              "    fill: var(--fill-color);\n",
              "    height: 32px;\n",
              "    padding: 0;\n",
              "    width: 32px;\n",
              "  }\n",
              "\n",
              "  .colab-df-quickchart:hover {\n",
              "    background-color: var(--hover-bg-color);\n",
              "    box-shadow: 0 1px 2px rgba(60, 64, 67, 0.3), 0 1px 3px 1px rgba(60, 64, 67, 0.15);\n",
              "    fill: var(--button-hover-fill-color);\n",
              "  }\n",
              "\n",
              "  .colab-df-quickchart-complete:disabled,\n",
              "  .colab-df-quickchart-complete:disabled:hover {\n",
              "    background-color: var(--disabled-bg-color);\n",
              "    fill: var(--disabled-fill-color);\n",
              "    box-shadow: none;\n",
              "  }\n",
              "\n",
              "  .colab-df-spinner {\n",
              "    border: 2px solid var(--fill-color);\n",
              "    border-color: transparent;\n",
              "    border-bottom-color: var(--fill-color);\n",
              "    animation:\n",
              "      spin 1s steps(1) infinite;\n",
              "  }\n",
              "\n",
              "  @keyframes spin {\n",
              "    0% {\n",
              "      border-color: transparent;\n",
              "      border-bottom-color: var(--fill-color);\n",
              "      border-left-color: var(--fill-color);\n",
              "    }\n",
              "    20% {\n",
              "      border-color: transparent;\n",
              "      border-left-color: var(--fill-color);\n",
              "      border-top-color: var(--fill-color);\n",
              "    }\n",
              "    30% {\n",
              "      border-color: transparent;\n",
              "      border-left-color: var(--fill-color);\n",
              "      border-top-color: var(--fill-color);\n",
              "      border-right-color: var(--fill-color);\n",
              "    }\n",
              "    40% {\n",
              "      border-color: transparent;\n",
              "      border-right-color: var(--fill-color);\n",
              "      border-top-color: var(--fill-color);\n",
              "    }\n",
              "    60% {\n",
              "      border-color: transparent;\n",
              "      border-right-color: var(--fill-color);\n",
              "    }\n",
              "    80% {\n",
              "      border-color: transparent;\n",
              "      border-right-color: var(--fill-color);\n",
              "      border-bottom-color: var(--fill-color);\n",
              "    }\n",
              "    90% {\n",
              "      border-color: transparent;\n",
              "      border-bottom-color: var(--fill-color);\n",
              "    }\n",
              "  }\n",
              "</style>\n",
              "\n",
              "  <script>\n",
              "    async function quickchart(key) {\n",
              "      const quickchartButtonEl =\n",
              "        document.querySelector('#' + key + ' button');\n",
              "      quickchartButtonEl.disabled = true;  // To prevent multiple clicks.\n",
              "      quickchartButtonEl.classList.add('colab-df-spinner');\n",
              "      try {\n",
              "        const charts = await google.colab.kernel.invokeFunction(\n",
              "            'suggestCharts', [key], {});\n",
              "      } catch (error) {\n",
              "        console.error('Error during call to suggestCharts:', error);\n",
              "      }\n",
              "      quickchartButtonEl.classList.remove('colab-df-spinner');\n",
              "      quickchartButtonEl.classList.add('colab-df-quickchart-complete');\n",
              "    }\n",
              "    (() => {\n",
              "      let quickchartButtonEl =\n",
              "        document.querySelector('#df-b6de5c7d-8f4f-4807-91ef-05ccec1c27d0 button');\n",
              "      quickchartButtonEl.style.display =\n",
              "        google.colab.kernel.accessAllowed ? 'block' : 'none';\n",
              "    })();\n",
              "  </script>\n",
              "</div>\n",
              "    </div>\n",
              "  </div>\n"
            ]
          },
          "metadata": {},
          "execution_count": 69
        }
      ]
    },
    {
      "cell_type": "code",
      "source": [
        "dataset.shape"
      ],
      "metadata": {
        "colab": {
          "base_uri": "https://localhost:8080/"
        },
        "id": "CSHw6o9psp-a",
        "outputId": "f1f5698a-9e67-421d-9fd7-bbf8ce71ff46"
      },
      "execution_count": 16,
      "outputs": [
        {
          "output_type": "execute_result",
          "data": {
            "text/plain": [
              "(88, 11)"
            ]
          },
          "metadata": {},
          "execution_count": 16
        }
      ]
    },
    {
      "cell_type": "code",
      "source": [
        "dataset.info()"
      ],
      "metadata": {
        "colab": {
          "base_uri": "https://localhost:8080/"
        },
        "id": "GWfH6i310h69",
        "outputId": "fed7354c-1ef9-4462-a918-2840fd644eed"
      },
      "execution_count": 18,
      "outputs": [
        {
          "output_type": "stream",
          "name": "stdout",
          "text": [
            "<class 'pandas.core.frame.DataFrame'>\n",
            "RangeIndex: 88 entries, 0 to 87\n",
            "Data columns (total 11 columns):\n",
            " #   Column              Non-Null Count  Dtype  \n",
            "---  ------              --------------  -----  \n",
            " 0   Type                88 non-null     object \n",
            " 1   M/C Dia (Output)    88 non-null     float64\n",
            " 2   M/C gauge (Output)  88 non-null     float64\n",
            " 3   Yarn Count          88 non-null     float64\n",
            " 4   Stich Length        88 non-null     float64\n",
            " 5   Finish Dia          88 non-null     float64\n",
            " 6   Finish GSM          88 non-null     float64\n",
            " 7   Color Range         88 non-null     object \n",
            " 8   Shrinkage (%/mm)    88 non-null     object \n",
            " 9   Column1             88 non-null     object \n",
            " 10  Twist               88 non-null     float64\n",
            "dtypes: float64(7), object(4)\n",
            "memory usage: 7.7+ KB\n"
          ]
        }
      ]
    },
    {
      "cell_type": "code",
      "source": [
        "dataset[\"Shrinkage (%/mm)\"] = dataset[\"Shrinkage (%/mm)\"].astype(float)\n",
        "dataset[\"Column1\"] = dataset[\"Column1\"].astype(float)"
      ],
      "metadata": {
        "id": "i3h0Bwu21qeW"
      },
      "execution_count": 24,
      "outputs": []
    },
    {
      "cell_type": "code",
      "source": [
        "from sklearn.preprocessing import LabelEncoder\n",
        "encoder=LabelEncoder()\n",
        "dataset[\"Type\"]=encoder.fit_transform(dataset[\"Type\"])\n",
        "dataset[\"Color Range\"]=encoder.fit_transform(dataset[\"Color Range\"])"
      ],
      "metadata": {
        "id": "At0c8dry1S6s"
      },
      "execution_count": 25,
      "outputs": []
    },
    {
      "cell_type": "code",
      "source": [
        "dataset.info()"
      ],
      "metadata": {
        "colab": {
          "base_uri": "https://localhost:8080/"
        },
        "id": "tb--tULa2J52",
        "outputId": "b8947d9d-94bd-411d-89ee-893b152111c3"
      },
      "execution_count": 26,
      "outputs": [
        {
          "output_type": "stream",
          "name": "stdout",
          "text": [
            "<class 'pandas.core.frame.DataFrame'>\n",
            "RangeIndex: 88 entries, 0 to 87\n",
            "Data columns (total 11 columns):\n",
            " #   Column              Non-Null Count  Dtype  \n",
            "---  ------              --------------  -----  \n",
            " 0   Type                88 non-null     int64  \n",
            " 1   M/C Dia (Output)    88 non-null     float64\n",
            " 2   M/C gauge (Output)  88 non-null     float64\n",
            " 3   Yarn Count          88 non-null     float64\n",
            " 4   Stich Length        88 non-null     float64\n",
            " 5   Finish Dia          88 non-null     float64\n",
            " 6   Finish GSM          88 non-null     float64\n",
            " 7   Color Range         88 non-null     int64  \n",
            " 8   Shrinkage (%/mm)    88 non-null     float64\n",
            " 9   Column1             88 non-null     float64\n",
            " 10  Twist               88 non-null     float64\n",
            "dtypes: float64(9), int64(2)\n",
            "memory usage: 7.7 KB\n"
          ]
        }
      ]
    },
    {
      "cell_type": "markdown",
      "source": [
        "#Regression Model for `M/C Dia (Output)`"
      ],
      "metadata": {
        "id": "8KkYSJO_0lIb"
      }
    },
    {
      "cell_type": "code",
      "source": [
        "list(dataset.columns)"
      ],
      "metadata": {
        "colab": {
          "base_uri": "https://localhost:8080/"
        },
        "id": "soJ-sayn0bqY",
        "outputId": "98aead80-9a74-4cfb-cc9f-f8d59fa19c5f"
      },
      "execution_count": 19,
      "outputs": [
        {
          "output_type": "execute_result",
          "data": {
            "text/plain": [
              "['Type',\n",
              " 'M/C Dia (Output)',\n",
              " 'M/C gauge (Output)',\n",
              " 'Yarn Count',\n",
              " 'Stich Length',\n",
              " 'Finish Dia',\n",
              " 'Finish GSM',\n",
              " 'Color Range',\n",
              " 'Shrinkage (%/mm)',\n",
              " 'Column1',\n",
              " 'Twist']"
            ]
          },
          "metadata": {},
          "execution_count": 19
        }
      ]
    },
    {
      "cell_type": "code",
      "source": [
        "feature_columns = ['Type',\n",
        " 'Yarn Count',\n",
        " 'Stich Length',\n",
        " 'Finish Dia',\n",
        " 'Finish GSM',\n",
        " 'Color Range',\n",
        " 'Shrinkage (%/mm)',\n",
        " 'Column1',\n",
        " 'Twist']\n",
        "\n",
        "X = dataset.loc[:,feature_columns]\n",
        "y = dataset['M/C Dia (Output)']"
      ],
      "metadata": {
        "id": "AiTKRXiY0mdy"
      },
      "execution_count": 27,
      "outputs": []
    },
    {
      "cell_type": "code",
      "source": [
        "X"
      ],
      "metadata": {
        "colab": {
          "base_uri": "https://localhost:8080/",
          "height": 423
        },
        "id": "6bGS0-resl_E",
        "outputId": "441499ec-ea00-493f-9997-443a87085b54"
      },
      "execution_count": 28,
      "outputs": [
        {
          "output_type": "execute_result",
          "data": {
            "text/plain": [
              "    Type  Yarn Count  Stich Length  Finish Dia  Finish GSM  Color Range  \\\n",
              "0     12        24.0          2.90        70.0       240.0            3   \n",
              "1     12        24.0          2.90        66.0       240.0            3   \n",
              "2     12        24.0          2.90        70.0       240.0            3   \n",
              "3     12        24.0          2.90        66.0       240.0            3   \n",
              "4      1        30.0          3.05        60.0       260.0            3   \n",
              "..   ...         ...           ...         ...         ...          ...   \n",
              "83     5        28.0          2.62        76.0       225.0            0   \n",
              "84     5        28.0          2.62        76.0       225.0            1   \n",
              "85     5        34.0          2.90        50.0       240.0            6   \n",
              "86     5        34.0          2.90        50.0       240.0            6   \n",
              "87     5        36.0          2.60        66.0       180.0            2   \n",
              "\n",
              "    Shrinkage (%/mm)  Column1  Twist  \n",
              "0                2.0      5.0    2.4  \n",
              "1                3.0      4.3    0.5  \n",
              "2                6.1      3.0    0.5  \n",
              "3                5.6      4.3    2.3  \n",
              "4                3.7      5.0    0.5  \n",
              "..               ...      ...    ...  \n",
              "83              -4.1     -8.0    5.0  \n",
              "84              -1.3    -11.0    5.0  \n",
              "85              -3.0     -5.0    4.5  \n",
              "86              -3.5     -4.0    2.0  \n",
              "87              -5.0    -11.0    3.0  \n",
              "\n",
              "[88 rows x 9 columns]"
            ],
            "text/html": [
              "\n",
              "  <div id=\"df-09570136-589e-4dd1-b46d-89aa1e96f073\" class=\"colab-df-container\">\n",
              "    <div>\n",
              "<style scoped>\n",
              "    .dataframe tbody tr th:only-of-type {\n",
              "        vertical-align: middle;\n",
              "    }\n",
              "\n",
              "    .dataframe tbody tr th {\n",
              "        vertical-align: top;\n",
              "    }\n",
              "\n",
              "    .dataframe thead th {\n",
              "        text-align: right;\n",
              "    }\n",
              "</style>\n",
              "<table border=\"1\" class=\"dataframe\">\n",
              "  <thead>\n",
              "    <tr style=\"text-align: right;\">\n",
              "      <th></th>\n",
              "      <th>Type</th>\n",
              "      <th>Yarn Count</th>\n",
              "      <th>Stich Length</th>\n",
              "      <th>Finish Dia</th>\n",
              "      <th>Finish GSM</th>\n",
              "      <th>Color Range</th>\n",
              "      <th>Shrinkage (%/mm)</th>\n",
              "      <th>Column1</th>\n",
              "      <th>Twist</th>\n",
              "    </tr>\n",
              "  </thead>\n",
              "  <tbody>\n",
              "    <tr>\n",
              "      <th>0</th>\n",
              "      <td>12</td>\n",
              "      <td>24.0</td>\n",
              "      <td>2.90</td>\n",
              "      <td>70.0</td>\n",
              "      <td>240.0</td>\n",
              "      <td>3</td>\n",
              "      <td>2.0</td>\n",
              "      <td>5.0</td>\n",
              "      <td>2.4</td>\n",
              "    </tr>\n",
              "    <tr>\n",
              "      <th>1</th>\n",
              "      <td>12</td>\n",
              "      <td>24.0</td>\n",
              "      <td>2.90</td>\n",
              "      <td>66.0</td>\n",
              "      <td>240.0</td>\n",
              "      <td>3</td>\n",
              "      <td>3.0</td>\n",
              "      <td>4.3</td>\n",
              "      <td>0.5</td>\n",
              "    </tr>\n",
              "    <tr>\n",
              "      <th>2</th>\n",
              "      <td>12</td>\n",
              "      <td>24.0</td>\n",
              "      <td>2.90</td>\n",
              "      <td>70.0</td>\n",
              "      <td>240.0</td>\n",
              "      <td>3</td>\n",
              "      <td>6.1</td>\n",
              "      <td>3.0</td>\n",
              "      <td>0.5</td>\n",
              "    </tr>\n",
              "    <tr>\n",
              "      <th>3</th>\n",
              "      <td>12</td>\n",
              "      <td>24.0</td>\n",
              "      <td>2.90</td>\n",
              "      <td>66.0</td>\n",
              "      <td>240.0</td>\n",
              "      <td>3</td>\n",
              "      <td>5.6</td>\n",
              "      <td>4.3</td>\n",
              "      <td>2.3</td>\n",
              "    </tr>\n",
              "    <tr>\n",
              "      <th>4</th>\n",
              "      <td>1</td>\n",
              "      <td>30.0</td>\n",
              "      <td>3.05</td>\n",
              "      <td>60.0</td>\n",
              "      <td>260.0</td>\n",
              "      <td>3</td>\n",
              "      <td>3.7</td>\n",
              "      <td>5.0</td>\n",
              "      <td>0.5</td>\n",
              "    </tr>\n",
              "    <tr>\n",
              "      <th>...</th>\n",
              "      <td>...</td>\n",
              "      <td>...</td>\n",
              "      <td>...</td>\n",
              "      <td>...</td>\n",
              "      <td>...</td>\n",
              "      <td>...</td>\n",
              "      <td>...</td>\n",
              "      <td>...</td>\n",
              "      <td>...</td>\n",
              "    </tr>\n",
              "    <tr>\n",
              "      <th>83</th>\n",
              "      <td>5</td>\n",
              "      <td>28.0</td>\n",
              "      <td>2.62</td>\n",
              "      <td>76.0</td>\n",
              "      <td>225.0</td>\n",
              "      <td>0</td>\n",
              "      <td>-4.1</td>\n",
              "      <td>-8.0</td>\n",
              "      <td>5.0</td>\n",
              "    </tr>\n",
              "    <tr>\n",
              "      <th>84</th>\n",
              "      <td>5</td>\n",
              "      <td>28.0</td>\n",
              "      <td>2.62</td>\n",
              "      <td>76.0</td>\n",
              "      <td>225.0</td>\n",
              "      <td>1</td>\n",
              "      <td>-1.3</td>\n",
              "      <td>-11.0</td>\n",
              "      <td>5.0</td>\n",
              "    </tr>\n",
              "    <tr>\n",
              "      <th>85</th>\n",
              "      <td>5</td>\n",
              "      <td>34.0</td>\n",
              "      <td>2.90</td>\n",
              "      <td>50.0</td>\n",
              "      <td>240.0</td>\n",
              "      <td>6</td>\n",
              "      <td>-3.0</td>\n",
              "      <td>-5.0</td>\n",
              "      <td>4.5</td>\n",
              "    </tr>\n",
              "    <tr>\n",
              "      <th>86</th>\n",
              "      <td>5</td>\n",
              "      <td>34.0</td>\n",
              "      <td>2.90</td>\n",
              "      <td>50.0</td>\n",
              "      <td>240.0</td>\n",
              "      <td>6</td>\n",
              "      <td>-3.5</td>\n",
              "      <td>-4.0</td>\n",
              "      <td>2.0</td>\n",
              "    </tr>\n",
              "    <tr>\n",
              "      <th>87</th>\n",
              "      <td>5</td>\n",
              "      <td>36.0</td>\n",
              "      <td>2.60</td>\n",
              "      <td>66.0</td>\n",
              "      <td>180.0</td>\n",
              "      <td>2</td>\n",
              "      <td>-5.0</td>\n",
              "      <td>-11.0</td>\n",
              "      <td>3.0</td>\n",
              "    </tr>\n",
              "  </tbody>\n",
              "</table>\n",
              "<p>88 rows × 9 columns</p>\n",
              "</div>\n",
              "    <div class=\"colab-df-buttons\">\n",
              "\n",
              "  <div class=\"colab-df-container\">\n",
              "    <button class=\"colab-df-convert\" onclick=\"convertToInteractive('df-09570136-589e-4dd1-b46d-89aa1e96f073')\"\n",
              "            title=\"Convert this dataframe to an interactive table.\"\n",
              "            style=\"display:none;\">\n",
              "\n",
              "  <svg xmlns=\"http://www.w3.org/2000/svg\" height=\"24px\" viewBox=\"0 -960 960 960\">\n",
              "    <path d=\"M120-120v-720h720v720H120Zm60-500h600v-160H180v160Zm220 220h160v-160H400v160Zm0 220h160v-160H400v160ZM180-400h160v-160H180v160Zm440 0h160v-160H620v160ZM180-180h160v-160H180v160Zm440 0h160v-160H620v160Z\"/>\n",
              "  </svg>\n",
              "    </button>\n",
              "\n",
              "  <style>\n",
              "    .colab-df-container {\n",
              "      display:flex;\n",
              "      gap: 12px;\n",
              "    }\n",
              "\n",
              "    .colab-df-convert {\n",
              "      background-color: #E8F0FE;\n",
              "      border: none;\n",
              "      border-radius: 50%;\n",
              "      cursor: pointer;\n",
              "      display: none;\n",
              "      fill: #1967D2;\n",
              "      height: 32px;\n",
              "      padding: 0 0 0 0;\n",
              "      width: 32px;\n",
              "    }\n",
              "\n",
              "    .colab-df-convert:hover {\n",
              "      background-color: #E2EBFA;\n",
              "      box-shadow: 0px 1px 2px rgba(60, 64, 67, 0.3), 0px 1px 3px 1px rgba(60, 64, 67, 0.15);\n",
              "      fill: #174EA6;\n",
              "    }\n",
              "\n",
              "    .colab-df-buttons div {\n",
              "      margin-bottom: 4px;\n",
              "    }\n",
              "\n",
              "    [theme=dark] .colab-df-convert {\n",
              "      background-color: #3B4455;\n",
              "      fill: #D2E3FC;\n",
              "    }\n",
              "\n",
              "    [theme=dark] .colab-df-convert:hover {\n",
              "      background-color: #434B5C;\n",
              "      box-shadow: 0px 1px 3px 1px rgba(0, 0, 0, 0.15);\n",
              "      filter: drop-shadow(0px 1px 2px rgba(0, 0, 0, 0.3));\n",
              "      fill: #FFFFFF;\n",
              "    }\n",
              "  </style>\n",
              "\n",
              "    <script>\n",
              "      const buttonEl =\n",
              "        document.querySelector('#df-09570136-589e-4dd1-b46d-89aa1e96f073 button.colab-df-convert');\n",
              "      buttonEl.style.display =\n",
              "        google.colab.kernel.accessAllowed ? 'block' : 'none';\n",
              "\n",
              "      async function convertToInteractive(key) {\n",
              "        const element = document.querySelector('#df-09570136-589e-4dd1-b46d-89aa1e96f073');\n",
              "        const dataTable =\n",
              "          await google.colab.kernel.invokeFunction('convertToInteractive',\n",
              "                                                    [key], {});\n",
              "        if (!dataTable) return;\n",
              "\n",
              "        const docLinkHtml = 'Like what you see? Visit the ' +\n",
              "          '<a target=\"_blank\" href=https://colab.research.google.com/notebooks/data_table.ipynb>data table notebook</a>'\n",
              "          + ' to learn more about interactive tables.';\n",
              "        element.innerHTML = '';\n",
              "        dataTable['output_type'] = 'display_data';\n",
              "        await google.colab.output.renderOutput(dataTable, element);\n",
              "        const docLink = document.createElement('div');\n",
              "        docLink.innerHTML = docLinkHtml;\n",
              "        element.appendChild(docLink);\n",
              "      }\n",
              "    </script>\n",
              "  </div>\n",
              "\n",
              "\n",
              "<div id=\"df-6e9765e2-0158-4438-9c66-a15818287841\">\n",
              "  <button class=\"colab-df-quickchart\" onclick=\"quickchart('df-6e9765e2-0158-4438-9c66-a15818287841')\"\n",
              "            title=\"Suggest charts.\"\n",
              "            style=\"display:none;\">\n",
              "\n",
              "<svg xmlns=\"http://www.w3.org/2000/svg\" height=\"24px\"viewBox=\"0 0 24 24\"\n",
              "     width=\"24px\">\n",
              "    <g>\n",
              "        <path d=\"M19 3H5c-1.1 0-2 .9-2 2v14c0 1.1.9 2 2 2h14c1.1 0 2-.9 2-2V5c0-1.1-.9-2-2-2zM9 17H7v-7h2v7zm4 0h-2V7h2v10zm4 0h-2v-4h2v4z\"/>\n",
              "    </g>\n",
              "</svg>\n",
              "  </button>\n",
              "\n",
              "<style>\n",
              "  .colab-df-quickchart {\n",
              "      --bg-color: #E8F0FE;\n",
              "      --fill-color: #1967D2;\n",
              "      --hover-bg-color: #E2EBFA;\n",
              "      --hover-fill-color: #174EA6;\n",
              "      --disabled-fill-color: #AAA;\n",
              "      --disabled-bg-color: #DDD;\n",
              "  }\n",
              "\n",
              "  [theme=dark] .colab-df-quickchart {\n",
              "      --bg-color: #3B4455;\n",
              "      --fill-color: #D2E3FC;\n",
              "      --hover-bg-color: #434B5C;\n",
              "      --hover-fill-color: #FFFFFF;\n",
              "      --disabled-bg-color: #3B4455;\n",
              "      --disabled-fill-color: #666;\n",
              "  }\n",
              "\n",
              "  .colab-df-quickchart {\n",
              "    background-color: var(--bg-color);\n",
              "    border: none;\n",
              "    border-radius: 50%;\n",
              "    cursor: pointer;\n",
              "    display: none;\n",
              "    fill: var(--fill-color);\n",
              "    height: 32px;\n",
              "    padding: 0;\n",
              "    width: 32px;\n",
              "  }\n",
              "\n",
              "  .colab-df-quickchart:hover {\n",
              "    background-color: var(--hover-bg-color);\n",
              "    box-shadow: 0 1px 2px rgba(60, 64, 67, 0.3), 0 1px 3px 1px rgba(60, 64, 67, 0.15);\n",
              "    fill: var(--button-hover-fill-color);\n",
              "  }\n",
              "\n",
              "  .colab-df-quickchart-complete:disabled,\n",
              "  .colab-df-quickchart-complete:disabled:hover {\n",
              "    background-color: var(--disabled-bg-color);\n",
              "    fill: var(--disabled-fill-color);\n",
              "    box-shadow: none;\n",
              "  }\n",
              "\n",
              "  .colab-df-spinner {\n",
              "    border: 2px solid var(--fill-color);\n",
              "    border-color: transparent;\n",
              "    border-bottom-color: var(--fill-color);\n",
              "    animation:\n",
              "      spin 1s steps(1) infinite;\n",
              "  }\n",
              "\n",
              "  @keyframes spin {\n",
              "    0% {\n",
              "      border-color: transparent;\n",
              "      border-bottom-color: var(--fill-color);\n",
              "      border-left-color: var(--fill-color);\n",
              "    }\n",
              "    20% {\n",
              "      border-color: transparent;\n",
              "      border-left-color: var(--fill-color);\n",
              "      border-top-color: var(--fill-color);\n",
              "    }\n",
              "    30% {\n",
              "      border-color: transparent;\n",
              "      border-left-color: var(--fill-color);\n",
              "      border-top-color: var(--fill-color);\n",
              "      border-right-color: var(--fill-color);\n",
              "    }\n",
              "    40% {\n",
              "      border-color: transparent;\n",
              "      border-right-color: var(--fill-color);\n",
              "      border-top-color: var(--fill-color);\n",
              "    }\n",
              "    60% {\n",
              "      border-color: transparent;\n",
              "      border-right-color: var(--fill-color);\n",
              "    }\n",
              "    80% {\n",
              "      border-color: transparent;\n",
              "      border-right-color: var(--fill-color);\n",
              "      border-bottom-color: var(--fill-color);\n",
              "    }\n",
              "    90% {\n",
              "      border-color: transparent;\n",
              "      border-bottom-color: var(--fill-color);\n",
              "    }\n",
              "  }\n",
              "</style>\n",
              "\n",
              "  <script>\n",
              "    async function quickchart(key) {\n",
              "      const quickchartButtonEl =\n",
              "        document.querySelector('#' + key + ' button');\n",
              "      quickchartButtonEl.disabled = true;  // To prevent multiple clicks.\n",
              "      quickchartButtonEl.classList.add('colab-df-spinner');\n",
              "      try {\n",
              "        const charts = await google.colab.kernel.invokeFunction(\n",
              "            'suggestCharts', [key], {});\n",
              "      } catch (error) {\n",
              "        console.error('Error during call to suggestCharts:', error);\n",
              "      }\n",
              "      quickchartButtonEl.classList.remove('colab-df-spinner');\n",
              "      quickchartButtonEl.classList.add('colab-df-quickchart-complete');\n",
              "    }\n",
              "    (() => {\n",
              "      let quickchartButtonEl =\n",
              "        document.querySelector('#df-6e9765e2-0158-4438-9c66-a15818287841 button');\n",
              "      quickchartButtonEl.style.display =\n",
              "        google.colab.kernel.accessAllowed ? 'block' : 'none';\n",
              "    })();\n",
              "  </script>\n",
              "</div>\n",
              "    </div>\n",
              "  </div>\n"
            ]
          },
          "metadata": {},
          "execution_count": 28
        }
      ]
    },
    {
      "cell_type": "code",
      "source": [
        "y"
      ],
      "metadata": {
        "colab": {
          "base_uri": "https://localhost:8080/"
        },
        "id": "4QMNNpyS1AcJ",
        "outputId": "f039bb62-f890-4811-ec30-8bb4ffa95f6d"
      },
      "execution_count": 29,
      "outputs": [
        {
          "output_type": "execute_result",
          "data": {
            "text/plain": [
              "0     32.0\n",
              "1     30.0\n",
              "2     32.0\n",
              "3     30.0\n",
              "4     26.0\n",
              "      ... \n",
              "83    40.0\n",
              "84    40.0\n",
              "85    42.0\n",
              "86    42.0\n",
              "87    34.0\n",
              "Name: M/C Dia (Output), Length: 88, dtype: float64"
            ]
          },
          "metadata": {},
          "execution_count": 29
        }
      ]
    },
    {
      "cell_type": "code",
      "source": [
        "\n",
        "from sklearn.model_selection import train_test_split\n",
        "X_train, X_test, y_train, y_test = train_test_split(X, y, test_size = 0.2)\n"
      ],
      "metadata": {
        "id": "gzJ19cN22KsU"
      },
      "execution_count": 31,
      "outputs": []
    },
    {
      "cell_type": "markdown",
      "source": [
        "\n",
        "\n",
        "---\n",
        "\n"
      ],
      "metadata": {
        "id": "ADbpJfKaobxJ"
      }
    },
    {
      "cell_type": "code",
      "source": [
        "import pandas as pd\n",
        "import numpy as np\n",
        "from sklearn import model_selection\n",
        "from sklearn.linear_model import LinearRegression\n",
        "from sklearn.linear_model import Ridge\n",
        "from sklearn.linear_model import Lasso\n",
        "from sklearn.linear_model import ElasticNet\n",
        "from sklearn.neighbors import KNeighborsRegressor\n",
        "from sklearn.tree import DecisionTreeRegressor\n",
        "from sklearn.svm import SVR\n",
        "from sklearn.ensemble import RandomForestRegressor\n",
        "from sklearn.metrics import r2_score\n",
        "from sklearn.model_selection import train_test_split\n",
        "from sklearn.metrics import mean_squared_error\n",
        "from math import sqrt\n",
        "import matplotlib.pyplot as plt"
      ],
      "metadata": {
        "id": "Z71osHGh9jcZ"
      },
      "execution_count": 32,
      "outputs": []
    },
    {
      "cell_type": "code",
      "source": [
        "# Assuming X is your feature matrix and y is your target variable\n",
        "regressor = LinearRegression()\n",
        "regressor.fit(X_train, y_train)\n",
        "\n",
        "\n",
        "pred_train= regressor.predict(X_train)\n",
        "print(\"Trainng Result\")\n",
        "res(y_train,pred_train)\n",
        "\n",
        "print()\n",
        "\n",
        "pred_test= regressor.predict(X_test)\n",
        "print(\"Trainng Result\")\n",
        "res(y_test,pred_test)\n",
        "\n",
        "# Get the coefficients and intercept\n",
        "coefficients = regressor.coef_\n",
        "intercept = regressor.intercept_"
      ],
      "metadata": {
        "colab": {
          "base_uri": "https://localhost:8080/"
        },
        "id": "6L-k7Q6V5VmG",
        "outputId": "61343410-d087-4d3c-c4bd-3ce093ea77c8"
      },
      "execution_count": 65,
      "outputs": [
        {
          "output_type": "stream",
          "name": "stdout",
          "text": [
            "Trainng Result\n",
            "Mean absolute error = 2.58\n",
            "Mean squared error = 10.84\n",
            "Median absolute error = 1.88\n",
            "Explain variance score = 0.55\n",
            "R2 score = 0.55\n",
            "\n",
            "Trainng Result\n",
            "Mean absolute error = 2.43\n",
            "Mean squared error = 11.31\n",
            "Median absolute error = 1.56\n",
            "Explain variance score = 0.43\n",
            "R2 score = 0.21\n"
          ]
        }
      ]
    },
    {
      "cell_type": "code",
      "source": [],
      "metadata": {
        "id": "qK5vhwQ96_xa"
      },
      "execution_count": null,
      "outputs": []
    },
    {
      "cell_type": "markdown",
      "source": [
        "#Decision Trees"
      ],
      "metadata": {
        "id": "-cm1DHJYAWzB"
      }
    },
    {
      "cell_type": "code",
      "source": [],
      "metadata": {
        "colab": {
          "base_uri": "https://localhost:8080/",
          "height": 74
        },
        "id": "gggxe0E59kzv",
        "outputId": "56313b1f-1626-457d-ebf2-0a5dfa641552"
      },
      "execution_count": null,
      "outputs": [
        {
          "output_type": "execute_result",
          "data": {
            "text/plain": [
              "DecisionTreeRegressor(max_depth=8, min_samples_leaf=0.13, random_state=3)"
            ],
            "text/html": [
              "<style>#sk-container-id-1 {color: black;background-color: white;}#sk-container-id-1 pre{padding: 0;}#sk-container-id-1 div.sk-toggleable {background-color: white;}#sk-container-id-1 label.sk-toggleable__label {cursor: pointer;display: block;width: 100%;margin-bottom: 0;padding: 0.3em;box-sizing: border-box;text-align: center;}#sk-container-id-1 label.sk-toggleable__label-arrow:before {content: \"▸\";float: left;margin-right: 0.25em;color: #696969;}#sk-container-id-1 label.sk-toggleable__label-arrow:hover:before {color: black;}#sk-container-id-1 div.sk-estimator:hover label.sk-toggleable__label-arrow:before {color: black;}#sk-container-id-1 div.sk-toggleable__content {max-height: 0;max-width: 0;overflow: hidden;text-align: left;background-color: #f0f8ff;}#sk-container-id-1 div.sk-toggleable__content pre {margin: 0.2em;color: black;border-radius: 0.25em;background-color: #f0f8ff;}#sk-container-id-1 input.sk-toggleable__control:checked~div.sk-toggleable__content {max-height: 200px;max-width: 100%;overflow: auto;}#sk-container-id-1 input.sk-toggleable__control:checked~label.sk-toggleable__label-arrow:before {content: \"▾\";}#sk-container-id-1 div.sk-estimator input.sk-toggleable__control:checked~label.sk-toggleable__label {background-color: #d4ebff;}#sk-container-id-1 div.sk-label input.sk-toggleable__control:checked~label.sk-toggleable__label {background-color: #d4ebff;}#sk-container-id-1 input.sk-hidden--visually {border: 0;clip: rect(1px 1px 1px 1px);clip: rect(1px, 1px, 1px, 1px);height: 1px;margin: -1px;overflow: hidden;padding: 0;position: absolute;width: 1px;}#sk-container-id-1 div.sk-estimator {font-family: monospace;background-color: #f0f8ff;border: 1px dotted black;border-radius: 0.25em;box-sizing: border-box;margin-bottom: 0.5em;}#sk-container-id-1 div.sk-estimator:hover {background-color: #d4ebff;}#sk-container-id-1 div.sk-parallel-item::after {content: \"\";width: 100%;border-bottom: 1px solid gray;flex-grow: 1;}#sk-container-id-1 div.sk-label:hover label.sk-toggleable__label {background-color: #d4ebff;}#sk-container-id-1 div.sk-serial::before {content: \"\";position: absolute;border-left: 1px solid gray;box-sizing: border-box;top: 0;bottom: 0;left: 50%;z-index: 0;}#sk-container-id-1 div.sk-serial {display: flex;flex-direction: column;align-items: center;background-color: white;padding-right: 0.2em;padding-left: 0.2em;position: relative;}#sk-container-id-1 div.sk-item {position: relative;z-index: 1;}#sk-container-id-1 div.sk-parallel {display: flex;align-items: stretch;justify-content: center;background-color: white;position: relative;}#sk-container-id-1 div.sk-item::before, #sk-container-id-1 div.sk-parallel-item::before {content: \"\";position: absolute;border-left: 1px solid gray;box-sizing: border-box;top: 0;bottom: 0;left: 50%;z-index: -1;}#sk-container-id-1 div.sk-parallel-item {display: flex;flex-direction: column;z-index: 1;position: relative;background-color: white;}#sk-container-id-1 div.sk-parallel-item:first-child::after {align-self: flex-end;width: 50%;}#sk-container-id-1 div.sk-parallel-item:last-child::after {align-self: flex-start;width: 50%;}#sk-container-id-1 div.sk-parallel-item:only-child::after {width: 0;}#sk-container-id-1 div.sk-dashed-wrapped {border: 1px dashed gray;margin: 0 0.4em 0.5em 0.4em;box-sizing: border-box;padding-bottom: 0.4em;background-color: white;}#sk-container-id-1 div.sk-label label {font-family: monospace;font-weight: bold;display: inline-block;line-height: 1.2em;}#sk-container-id-1 div.sk-label-container {text-align: center;}#sk-container-id-1 div.sk-container {/* jupyter's `normalize.less` sets `[hidden] { display: none; }` but bootstrap.min.css set `[hidden] { display: none !important; }` so we also need the `!important` here to be able to override the default hidden behavior on the sphinx rendered scikit-learn.org. See: https://github.com/scikit-learn/scikit-learn/issues/21755 */display: inline-block !important;position: relative;}#sk-container-id-1 div.sk-text-repr-fallback {display: none;}</style><div id=\"sk-container-id-1\" class=\"sk-top-container\"><div class=\"sk-text-repr-fallback\"><pre>DecisionTreeRegressor(max_depth=8, min_samples_leaf=0.13, random_state=3)</pre><b>In a Jupyter environment, please rerun this cell to show the HTML representation or trust the notebook. <br />On GitHub, the HTML representation is unable to render, please try loading this page with nbviewer.org.</b></div><div class=\"sk-container\" hidden><div class=\"sk-item\"><div class=\"sk-estimator sk-toggleable\"><input class=\"sk-toggleable__control sk-hidden--visually\" id=\"sk-estimator-id-1\" type=\"checkbox\" checked><label for=\"sk-estimator-id-1\" class=\"sk-toggleable__label sk-toggleable__label-arrow\">DecisionTreeRegressor</label><div class=\"sk-toggleable__content\"><pre>DecisionTreeRegressor(max_depth=8, min_samples_leaf=0.13, random_state=3)</pre></div></div></div></div></div>"
            ]
          },
          "metadata": {},
          "execution_count": 11
        }
      ]
    },
    {
      "cell_type": "code",
      "source": [
        "dtree = DecisionTreeRegressor(max_depth=3, min_samples_leaf=0.003)\n",
        "dtree.fit(X_train, y_train)\n",
        "\n",
        "pred_train= dtree.predict(X_train)\n",
        "print(\"Trainng Result\")\n",
        "res(y_train,pred_train)\n",
        "\n",
        "print()\n",
        "\n",
        "pred_test= dtree.predict(X_test)\n",
        "print(\"Trainng Result\")\n",
        "res(y_test,pred_test)"
      ],
      "metadata": {
        "colab": {
          "base_uri": "https://localhost:8080/"
        },
        "id": "cgYeJYB-9kst",
        "outputId": "76e043f2-4fc0-4fdf-99fb-ef8520b8117a"
      },
      "execution_count": 66,
      "outputs": [
        {
          "output_type": "stream",
          "name": "stdout",
          "text": [
            "Trainng Result\n",
            "Mean absolute error = 1.14\n",
            "Mean squared error = 2.47\n",
            "Median absolute error = 0.67\n",
            "Explain variance score = 0.9\n",
            "R2 score = 0.9\n",
            "\n",
            "Trainng Result\n",
            "Mean absolute error = 1.17\n",
            "Mean squared error = 2.59\n",
            "Median absolute error = 1.0\n",
            "Explain variance score = 0.82\n",
            "R2 score = 0.82\n"
          ]
        }
      ]
    },
    {
      "cell_type": "code",
      "source": [
        "\n",
        "\"\"\"for i in range(1,1000):\n",
        "  l=i/1000\n",
        "  print(\"------------------------------------------------------\")\n",
        "  dtree = DecisionTreeRegressor(max_depth=3, min_samples_leaf=l)\n",
        "  dtree.fit(X_train, y_train)\n",
        "  pred_test_tree= dtree.predict(X_test)\n",
        "  k = r2_score(y_test, pred_test_tree)\n",
        "  if k>0:\n",
        "    print(k,l)\"\"\""
      ],
      "metadata": {
        "id": "3GcjMtwr9ki5"
      },
      "execution_count": null,
      "outputs": []
    },
    {
      "cell_type": "markdown",
      "source": [
        "#Random Forest (or Bootstrap Aggregation)"
      ],
      "metadata": {
        "id": "k8jIJdRZAZ1_"
      }
    },
    {
      "cell_type": "code",
      "source": [
        "#RF model\n",
        "model_rf = RandomForestRegressor(n_estimators=700, oob_score=True)\n",
        "model_rf.fit(X_train, y_train)\n",
        "\n",
        "print(\"Training\")\n",
        "pred_train= model_rf.predict(X_train)\n",
        "res(y_train,pred_train)\n",
        "\n",
        "print(\"Testing\")\n",
        "pred_test = model_rf.predict(X_test)\n",
        "res(y_test,pred_test)"
      ],
      "metadata": {
        "colab": {
          "base_uri": "https://localhost:8080/"
        },
        "id": "AxAWU3JyAZkY",
        "outputId": "3548f8d0-8031-49ff-cb97-eb0808b56821"
      },
      "execution_count": 42,
      "outputs": [
        {
          "output_type": "stream",
          "name": "stdout",
          "text": [
            "Training\n",
            "Mean absolute error = 0.4\n",
            "Mean squared error = 0.5\n",
            "Median absolute error = 0.21\n",
            "Explain variance score = 0.98\n",
            "R2 score = 0.98\n",
            "Testing\n",
            "Mean absolute error = 0.95\n",
            "Mean squared error = 2.21\n",
            "Median absolute error = 0.49\n",
            "Explain variance score = 0.87\n",
            "R2 score = 0.84\n"
          ]
        }
      ]
    },
    {
      "cell_type": "code",
      "source": [
        "\"\"\"\n",
        "for i in range(700,3000,100):\n",
        "  model_rf = RandomForestRegressor(n_estimators=i, oob_score=True, random_state=100)\n",
        "  model_rf.fit(X_train, y_train)\n",
        "  pred_test_rf= model_rf.predict(X_test)\n",
        "  k = r2_score(y_test, pred_test_rf)\n",
        "  if k>0:\n",
        "    print(\"------------------------------------------------------\")\n",
        "    print(k,i)\"\"\""
      ],
      "metadata": {
        "id": "dkS__wzNAZbv"
      },
      "execution_count": null,
      "outputs": []
    },
    {
      "cell_type": "markdown",
      "source": [
        "#Polynomial Regression"
      ],
      "metadata": {
        "id": "R3SRNRwHcydg"
      }
    },
    {
      "cell_type": "code",
      "source": [
        "from sklearn.linear_model import LinearRegression\n",
        "from sklearn.preprocessing import PolynomialFeatures\n",
        "\n",
        "poly = PolynomialFeatures(degree=4)\n",
        "X_poly_train = poly.fit_transform(X_train)\n",
        "\n",
        "poly.fit(X_poly_train, y_train)\n",
        "lin2 = LinearRegression()\n",
        "lin2.fit(X_poly_train, y_train)\n",
        "\n",
        "\n",
        "\n",
        "print(\"Training\")\n",
        "pred_train= lin2.predict(X_poly_train)\n",
        "res(y_train,pred_train)\n",
        "\n",
        "print(\"Testing\")\n",
        "X_poly_test = poly.fit_transform(X_test)\n",
        "pred_test= lin2.predict(X_poly_test)\n",
        "res(y_test,pred_test)"
      ],
      "metadata": {
        "colab": {
          "base_uri": "https://localhost:8080/"
        },
        "id": "2yAGmwhxcvAG",
        "outputId": "9c509a4e-915a-461b-f595-5c166036ffe5"
      },
      "execution_count": 44,
      "outputs": [
        {
          "output_type": "stream",
          "name": "stdout",
          "text": [
            "Training\n",
            "Mean absolute error = 0.0\n",
            "Mean squared error = 0.0\n",
            "Median absolute error = 0.0\n",
            "Explain variance score = 1.0\n",
            "R2 score = 1.0\n",
            "Testing\n",
            "Mean absolute error = 4.78\n",
            "Mean squared error = 95.99\n",
            "Median absolute error = 2.27\n",
            "Explain variance score = -5.25\n",
            "R2 score = -5.75\n"
          ]
        }
      ]
    },
    {
      "cell_type": "markdown",
      "source": [
        "#Kernel Ridge"
      ],
      "metadata": {
        "id": "MAOy0ASFSr-a"
      }
    },
    {
      "cell_type": "code",
      "source": [
        "from sklearn.kernel_ridge import KernelRidge\n",
        "krr = KernelRidge(alpha=1.0)\n",
        "krr.fit(X_train, y_train)\n",
        "\n",
        "\n",
        "print(\"Training\")\n",
        "pred_train= krr.predict(X_train)\n",
        "res(y_train,pred_train)\n",
        "\n",
        "print(\"Testing\")\n",
        "pred_test= krr.predict(X_test)\n",
        "res(y_test,pred_test)"
      ],
      "metadata": {
        "colab": {
          "base_uri": "https://localhost:8080/"
        },
        "id": "iAUWI175Sylw",
        "outputId": "7ce08057-c580-473c-922c-039410d2a893"
      },
      "execution_count": 45,
      "outputs": [
        {
          "output_type": "stream",
          "name": "stdout",
          "text": [
            "Training\n",
            "Mean absolute error = 2.54\n",
            "Mean squared error = 10.92\n",
            "Median absolute error = 1.8\n",
            "Explain variance score = 0.55\n",
            "R2 score = 0.55\n",
            "Testing\n",
            "Mean absolute error = 2.47\n",
            "Mean squared error = 11.79\n",
            "Median absolute error = 1.31\n",
            "Explain variance score = 0.37\n",
            "R2 score = 0.17\n"
          ]
        }
      ]
    },
    {
      "cell_type": "markdown",
      "source": [
        "#SVM"
      ],
      "metadata": {
        "id": "3qyLGIyKU8Gr"
      }
    },
    {
      "cell_type": "code",
      "source": [
        "from sklearn.svm import SVR\n",
        "from sklearn.pipeline import make_pipeline\n",
        "from sklearn.preprocessing import StandardScaler\n",
        "\n",
        "regr = make_pipeline(StandardScaler(), SVR(C=1.0, epsilon=0.2))\n",
        "regr.fit(X_train, y_train)\n",
        "\n",
        "print(\"Training\")\n",
        "pred_train= regr.predict(X_train)\n",
        "res(y_train,pred_train)\n",
        "\n",
        "print(\"Testing\")\n",
        "pred_test= regr.predict(X_test)\n",
        "res(y_test,pred_test)"
      ],
      "metadata": {
        "colab": {
          "base_uri": "https://localhost:8080/"
        },
        "id": "iX1kQeilU1_a",
        "outputId": "942c86ca-b9b4-4b7a-d366-c9bef4bfa225"
      },
      "execution_count": 46,
      "outputs": [
        {
          "output_type": "stream",
          "name": "stdout",
          "text": [
            "Training\n",
            "Mean absolute error = 2.33\n",
            "Mean squared error = 9.65\n",
            "Median absolute error = 2.26\n",
            "Explain variance score = 0.61\n",
            "R2 score = 0.6\n",
            "Testing\n",
            "Mean absolute error = 2.16\n",
            "Mean squared error = 7.75\n",
            "Median absolute error = 2.02\n",
            "Explain variance score = 0.61\n",
            "R2 score = 0.45\n"
          ]
        }
      ]
    },
    {
      "cell_type": "markdown",
      "source": [
        "#Lasso"
      ],
      "metadata": {
        "id": "3IYzO_-yVAkg"
      }
    },
    {
      "cell_type": "code",
      "source": [
        "from sklearn import linear_model\n",
        "regr = linear_model.Lasso(alpha=0.1)\n",
        "regr.fit(X_train, y_train)\n",
        "\n",
        "print(\"Training\")\n",
        "pred_train= regr.predict(X_train)\n",
        "res(y_train,pred_train)\n",
        "\n",
        "print(\"Testing\")\n",
        "pred_test= regr.predict(X_test)\n",
        "res(y_test,pred_test)"
      ],
      "metadata": {
        "colab": {
          "base_uri": "https://localhost:8080/"
        },
        "id": "TBe4yp4DVAJH",
        "outputId": "cc986bfd-d7cc-4292-f270-241fa921c3fe"
      },
      "execution_count": 49,
      "outputs": [
        {
          "output_type": "stream",
          "name": "stdout",
          "text": [
            "Training\n",
            "Mean absolute error = 2.6\n",
            "Mean squared error = 10.85\n",
            "Median absolute error = 1.92\n",
            "Explain variance score = 0.55\n",
            "R2 score = 0.55\n",
            "Testing\n",
            "Mean absolute error = 2.43\n",
            "Mean squared error = 11.01\n",
            "Median absolute error = 1.68\n",
            "Explain variance score = 0.45\n",
            "R2 score = 0.23\n"
          ]
        }
      ]
    },
    {
      "cell_type": "markdown",
      "source": [
        "#ANN Regression"
      ],
      "metadata": {
        "id": "dVNm7VXgFvAr"
      }
    },
    {
      "cell_type": "code",
      "source": [
        "plt.figure(figsize=(8,6))\n",
        "sns.histplot(data=dataset,x=\"M/C Dia (Output)\",color=\"red\",kde=True)\n",
        "plt.axvline(x=dataset[\"M/C Dia (Output)\"].mean(),ymax=0.55,color=\"green\",linestyle='--',label=\"Mean\")\n",
        "plt.axvline(x=dataset[\"M/C Dia (Output)\"].median(),ymax=0.56,color=\"purple\",linestyle='--',label=\"Median\")\n",
        "plt.legend()\n",
        "plt.title(\"SomeThing\")"
      ],
      "metadata": {
        "colab": {
          "base_uri": "https://localhost:8080/",
          "height": 582
        },
        "id": "Pufe7XoWJ8tE",
        "outputId": "08629422-a1d9-44cc-b020-74666cc41692"
      },
      "execution_count": 53,
      "outputs": [
        {
          "output_type": "execute_result",
          "data": {
            "text/plain": [
              "Text(0.5, 1.0, 'ST-II Max-Min Difference')"
            ]
          },
          "metadata": {},
          "execution_count": 53
        },
        {
          "output_type": "display_data",
          "data": {
            "text/plain": [
              "<Figure size 800x600 with 1 Axes>"
            ],
            "image/png": "[encoded data removed]"
          },
          "metadata": {}
        }
      ]
    },
    {
      "cell_type": "code",
      "source": [
        "plt.figure(figsize = (8,6))\n",
        "sns.histplot(dataset[\"M/C Dia (Output)\"],kde=True,bins=40,color=\"red\",cumulative=True)\n",
        "plt.title(\"Cumulative of the Target Column\")"
      ],
      "metadata": {
        "colab": {
          "base_uri": "https://localhost:8080/",
          "height": 582
        },
        "id": "I2WXjm9ohlmL",
        "outputId": "74288662-968c-4688-fe05-2b37239c0ba3"
      },
      "execution_count": 54,
      "outputs": [
        {
          "output_type": "execute_result",
          "data": {
            "text/plain": [
              "Text(0.5, 1.0, 'Cumulative of the Target Column')"
            ]
          },
          "metadata": {},
          "execution_count": 54
        },
        {
          "output_type": "display_data",
          "data": {
            "text/plain": [
              "<Figure size 800x600 with 1 Axes>"
            ],
            "image/png": "[encoded data removed]"
          },
          "metadata": {}
        }
      ]
    },
    {
      "cell_type": "code",
      "source": [
        "from tensorflow.keras.models import Sequential\n",
        "from tensorflow.keras.layers import Dense\n",
        "from tensorflow.keras.callbacks import EarlyStopping\n",
        "\n",
        "ann = Sequential()                          # Initializing the ANN\n",
        "ann.add(Dense(units=6, activation=\"relu\"))  #Adding First Hidden Layer\n",
        "ann.add(Dense(units=6, activation=\"relu\"))  # Adding Second Hidden Layer\n",
        "ann.add(Dense(units=1))   # Adding Output Layer\n",
        "#If we make a regression with neural networks, we do not need to add an activation function compared to classification problems\n",
        "\n",
        "ann.compile(optimizer=\"adam\",loss=\"mean_squared_error\")\n",
        "ann.fit(x=X_train, y=y_train, epochs=100, batch_size=64,validation_data=(X_test,y_test),callbacks=EarlyStopping(monitor='val_loss',patience=4))\n",
        "\n",
        "#pd.DataFrame(ann.history.history)\n",
        "\n",
        "plt.style.use(\"ggplot\")\n",
        "pd.DataFrame(ann.history.history).plot(figsize=(12,10))\n"
      ],
      "metadata": {
        "colab": {
          "base_uri": "https://localhost:8080/",
          "height": 1000
        },
        "id": "Ft_23vL2hocs",
        "outputId": "eba92a38-f2a9-4ae2-a3af-fa2ec58e1822"
      },
      "execution_count": 55,
      "outputs": [
        {
          "output_type": "stream",
          "name": "stdout",
          "text": [
            "Epoch 1/100\n",
            "2/2 [==============================] - 1s 203ms/step - loss: 428.0425 - val_loss: 339.7379\n",
            "Epoch 2/100\n",
            "2/2 [==============================] - 0s 31ms/step - loss: 394.0060 - val_loss: 313.2433\n",
            "Epoch 3/100\n",
            "2/2 [==============================] - 0s 33ms/step - loss: 361.8609 - val_loss: 287.8890\n",
            "Epoch 4/100\n",
            "2/2 [==============================] - 0s 45ms/step - loss: 329.8255 - val_loss: 261.3874\n",
            "Epoch 5/100\n",
            "2/2 [==============================] - 0s 31ms/step - loss: 298.2672 - val_loss: 233.5076\n",
            "Epoch 6/100\n",
            "2/2 [==============================] - 0s 36ms/step - loss: 266.4003 - val_loss: 205.7217\n",
            "Epoch 7/100\n",
            "2/2 [==============================] - 0s 32ms/step - loss: 233.5054 - val_loss: 176.9711\n",
            "Epoch 8/100\n",
            "2/2 [==============================] - 0s 34ms/step - loss: 200.7557 - val_loss: 150.5993\n",
            "Epoch 9/100\n",
            "2/2 [==============================] - 0s 33ms/step - loss: 171.0940 - val_loss: 127.4620\n",
            "Epoch 10/100\n",
            "2/2 [==============================] - 0s 32ms/step - loss: 143.6222 - val_loss: 107.7899\n",
            "Epoch 11/100\n",
            "2/2 [==============================] - 0s 32ms/step - loss: 120.4200 - val_loss: 91.3690\n",
            "Epoch 12/100\n",
            "2/2 [==============================] - 0s 39ms/step - loss: 100.6426 - val_loss: 78.2246\n",
            "Epoch 13/100\n",
            "2/2 [==============================] - 0s 39ms/step - loss: 84.3401 - val_loss: 68.1641\n",
            "Epoch 14/100\n",
            "2/2 [==============================] - 0s 49ms/step - loss: 71.3403 - val_loss: 60.8440\n",
            "Epoch 15/100\n",
            "2/2 [==============================] - 0s 43ms/step - loss: 61.2885 - val_loss: 55.8322\n",
            "Epoch 16/100\n",
            "2/2 [==============================] - 0s 47ms/step - loss: 53.9693 - val_loss: 52.7613\n",
            "Epoch 17/100\n",
            "2/2 [==============================] - 0s 60ms/step - loss: 48.6017 - val_loss: 51.2670\n",
            "Epoch 18/100\n",
            "2/2 [==============================] - 0s 47ms/step - loss: 45.2313 - val_loss: 51.0400\n",
            "Epoch 19/100\n",
            "2/2 [==============================] - 0s 59ms/step - loss: 43.6466 - val_loss: 51.7545\n",
            "Epoch 20/100\n",
            "2/2 [==============================] - 0s 41ms/step - loss: 42.7952 - val_loss: 52.9690\n",
            "Epoch 21/100\n",
            "2/2 [==============================] - 0s 40ms/step - loss: 42.8700 - val_loss: 54.4347\n",
            "Epoch 22/100\n",
            "2/2 [==============================] - 0s 43ms/step - loss: 43.6224 - val_loss: 55.7257\n"
          ]
        },
        {
          "output_type": "execute_result",
          "data": {
            "text/plain": [
              "<Axes: >"
            ]
          },
          "metadata": {},
          "execution_count": 55
        },
        {
          "output_type": "display_data",
          "data": {
            "text/plain": [
              "<Figure size 1200x1000 with 1 Axes>"
            ],
            "image/png": "[encoded data removed]"
          },
          "metadata": {}
        }
      ]
    },
    {
      "cell_type": "code",
      "source": [
        "print(\"Training\")\n",
        "pred_train= ann.predict(X_train)\n",
        "res(y_train,pred_train)\n",
        "\n",
        "print(\"Testing\")\n",
        "pred_test= ann.predict(X_test)\n",
        "res(y_test,pred_test)"
      ],
      "metadata": {
        "colab": {
          "base_uri": "https://localhost:8080/"
        },
        "id": "ekzoJJsniIi6",
        "outputId": "034dfdc4-8d82-4621-f881-2c71da12faed"
      },
      "execution_count": 60,
      "outputs": [
        {
          "output_type": "stream",
          "name": "stdout",
          "text": [
            "Training\n",
            "3/3 [==============================] - 0s 4ms/step\n",
            "Mean absolute error = 5.45\n",
            "Mean squared error = 44.09\n",
            "Median absolute error = 4.51\n",
            "Explain variance score = -0.78\n",
            "R2 score = -0.81\n",
            "Testing\n",
            "1/1 [==============================] - 0s 25ms/step\n",
            "Mean absolute error = 6.34\n",
            "Mean squared error = 55.73\n",
            "Median absolute error = 6.34\n",
            "Explain variance score = -2.73\n",
            "R2 score = -2.92\n"
          ]
        }
      ]
    },
    {
      "cell_type": "code",
      "source": [],
      "metadata": {
        "id": "7zzmX9fD3r04"
      },
      "execution_count": null,
      "outputs": []
    }
  ]
}