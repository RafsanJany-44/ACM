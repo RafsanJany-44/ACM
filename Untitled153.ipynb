{
  "nbformat": 4,
  "nbformat_minor": 0,
  "metadata": {
    "colab": {
      "provenance": [],
      "authorship_tag": "ABX9TyMYVK5m9xVKRHCMeO05RAP/",
      "include_colab_link": true
    },
    "kernelspec": {
      "name": "python3",
      "display_name": "Python 3"
    },
    "language_info": {
      "name": "python"
    },
    "widgets": {
      "application/vnd.jupyter.widget-state+json": {
        "030065afc62d48d88ba58f092d4063c8": {
          "model_module": "@jupyter-widgets/controls",
          "model_name": "HBoxModel",
          "model_module_version": "1.5.0",
          "state": {
            "_dom_classes": [],
            "_model_module": "@jupyter-widgets/controls",
            "_model_module_version": "1.5.0",
            "_model_name": "HBoxModel",
            "_view_count": null,
            "_view_module": "@jupyter-widgets/controls",
            "_view_module_version": "1.5.0",
            "_view_name": "HBoxView",
            "box_style": "",
            "children": [
              "IPY_MODEL_16f1e2a0829a46ac9a7f7bac8d92ea39",
              "IPY_MODEL_3136dbf65cc74b518f9a30c824fe9c5f",
              "IPY_MODEL_1a0c8991bb2c45bf88c61f74731964d8"
            ],
            "layout": "IPY_MODEL_a91e924bd1044a63b817b5a8fdbd31e8"
          }
        },
        "16f1e2a0829a46ac9a7f7bac8d92ea39": {
          "model_module": "@jupyter-widgets/controls",
          "model_name": "HTMLModel",
          "model_module_version": "1.5.0",
          "state": {
            "_dom_classes": [],
            "_model_module": "@jupyter-widgets/controls",
            "_model_module_version": "1.5.0",
            "_model_name": "HTMLModel",
            "_view_count": null,
            "_view_module": "@jupyter-widgets/controls",
            "_view_module_version": "1.5.0",
            "_view_name": "HTMLView",
            "description": "",
            "description_tooltip": null,
            "layout": "IPY_MODEL_e0ba7ab7288b4939a48dc4e154238fed",
            "placeholder": "​",
            "style": "IPY_MODEL_2be86867d86749efadd103d53fb500ff",
            "value": "  0%"
          }
        },
        "3136dbf65cc74b518f9a30c824fe9c5f": {
          "model_module": "@jupyter-widgets/controls",
          "model_name": "FloatProgressModel",
          "model_module_version": "1.5.0",
          "state": {
            "_dom_classes": [],
            "_model_module": "@jupyter-widgets/controls",
            "_model_module_version": "1.5.0",
            "_model_name": "FloatProgressModel",
            "_view_count": null,
            "_view_module": "@jupyter-widgets/controls",
            "_view_module_version": "1.5.0",
            "_view_name": "ProgressView",
            "bar_style": "",
            "description": "",
            "description_tooltip": null,
            "layout": "IPY_MODEL_c79b9a8d6cf74f398244eac3090a72ce",
            "max": 3,
            "min": 0,
            "orientation": "horizontal",
            "style": "IPY_MODEL_6857844a233d44c2aa73a0b9b5a01ddf",
            "value": 0
          }
        },
        "1a0c8991bb2c45bf88c61f74731964d8": {
          "model_module": "@jupyter-widgets/controls",
          "model_name": "HTMLModel",
          "model_module_version": "1.5.0",
          "state": {
            "_dom_classes": [],
            "_model_module": "@jupyter-widgets/controls",
            "_model_module_version": "1.5.0",
            "_model_name": "HTMLModel",
            "_view_count": null,
            "_view_module": "@jupyter-widgets/controls",
            "_view_module_version": "1.5.0",
            "_view_name": "HTMLView",
            "description": "",
            "description_tooltip": null,
            "layout": "IPY_MODEL_2c48d04c62274af1ac0b0c8af9522c72",
            "placeholder": "​",
            "style": "IPY_MODEL_15a7b413e85b4e2f88fafc0b9d509036",
            "value": " 0/3 [00:00&lt;?, ?it/s]"
          }
        },
        "a91e924bd1044a63b817b5a8fdbd31e8": {
          "model_module": "@jupyter-widgets/base",
          "model_name": "LayoutModel",
          "model_module_version": "1.2.0",
          "state": {
            "_model_module": "@jupyter-widgets/base",
            "_model_module_version": "1.2.0",
            "_model_name": "LayoutModel",
            "_view_count": null,
            "_view_module": "@jupyter-widgets/base",
            "_view_module_version": "1.2.0",
            "_view_name": "LayoutView",
            "align_content": null,
            "align_items": null,
            "align_self": null,
            "border": null,
            "bottom": null,
            "display": null,
            "flex": null,
            "flex_flow": null,
            "grid_area": null,
            "grid_auto_columns": null,
            "grid_auto_flow": null,
            "grid_auto_rows": null,
            "grid_column": null,
            "grid_gap": null,
            "grid_row": null,
            "grid_template_areas": null,
            "grid_template_columns": null,
            "grid_template_rows": null,
            "height": null,
            "justify_content": null,
            "justify_items": null,
            "left": null,
            "margin": null,
            "max_height": null,
            "max_width": null,
            "min_height": null,
            "min_width": null,
            "object_fit": null,
            "object_position": null,
            "order": null,
            "overflow": null,
            "overflow_x": null,
            "overflow_y": null,
            "padding": null,
            "right": null,
            "top": null,
            "visibility": null,
            "width": null
          }
        },
        "e0ba7ab7288b4939a48dc4e154238fed": {
          "model_module": "@jupyter-widgets/base",
          "model_name": "LayoutModel",
          "model_module_version": "1.2.0",
          "state": {
            "_model_module": "@jupyter-widgets/base",
            "_model_module_version": "1.2.0",
            "_model_name": "LayoutModel",
            "_view_count": null,
            "_view_module": "@jupyter-widgets/base",
            "_view_module_version": "1.2.0",
            "_view_name": "LayoutView",
            "align_content": null,
            "align_items": null,
            "align_self": null,
            "border": null,
            "bottom": null,
            "display": null,
            "flex": null,
            "flex_flow": null,
            "grid_area": null,
            "grid_auto_columns": null,
            "grid_auto_flow": null,
            "grid_auto_rows": null,
            "grid_column": null,
            "grid_gap": null,
            "grid_row": null,
            "grid_template_areas": null,
            "grid_template_columns": null,
            "grid_template_rows": null,
            "height": null,
            "justify_content": null,
            "justify_items": null,
            "left": null,
            "margin": null,
            "max_height": null,
            "max_width": null,
            "min_height": null,
            "min_width": null,
            "object_fit": null,
            "object_position": null,
            "order": null,
            "overflow": null,
            "overflow_x": null,
            "overflow_y": null,
            "padding": null,
            "right": null,
            "top": null,
            "visibility": null,
            "width": null
          }
        },
        "2be86867d86749efadd103d53fb500ff": {
          "model_module": "@jupyter-widgets/controls",
          "model_name": "DescriptionStyleModel",
          "model_module_version": "1.5.0",
          "state": {
            "_model_module": "@jupyter-widgets/controls",
            "_model_module_version": "1.5.0",
            "_model_name": "DescriptionStyleModel",
            "_view_count": null,
            "_view_module": "@jupyter-widgets/base",
            "_view_module_version": "1.2.0",
            "_view_name": "StyleView",
            "description_width": ""
          }
        },
        "c79b9a8d6cf74f398244eac3090a72ce": {
          "model_module": "@jupyter-widgets/base",
          "model_name": "LayoutModel",
          "model_module_version": "1.2.0",
          "state": {
            "_model_module": "@jupyter-widgets/base",
            "_model_module_version": "1.2.0",
            "_model_name": "LayoutModel",
            "_view_count": null,
            "_view_module": "@jupyter-widgets/base",
            "_view_module_version": "1.2.0",
            "_view_name": "LayoutView",
            "align_content": null,
            "align_items": null,
            "align_self": null,
            "border": null,
            "bottom": null,
            "display": null,
            "flex": null,
            "flex_flow": null,
            "grid_area": null,
            "grid_auto_columns": null,
            "grid_auto_flow": null,
            "grid_auto_rows": null,
            "grid_column": null,
            "grid_gap": null,
            "grid_row": null,
            "grid_template_areas": null,
            "grid_template_columns": null,
            "grid_template_rows": null,
            "height": null,
            "justify_content": null,
            "justify_items": null,
            "left": null,
            "margin": null,
            "max_height": null,
            "max_width": null,
            "min_height": null,
            "min_width": null,
            "object_fit": null,
            "object_position": null,
            "order": null,
            "overflow": null,
            "overflow_x": null,
            "overflow_y": null,
            "padding": null,
            "right": null,
            "top": null,
            "visibility": null,
            "width": null
          }
        },
        "6857844a233d44c2aa73a0b9b5a01ddf": {
          "model_module": "@jupyter-widgets/controls",
          "model_name": "ProgressStyleModel",
          "model_module_version": "1.5.0",
          "state": {
            "_model_module": "@jupyter-widgets/controls",
            "_model_module_version": "1.5.0",
            "_model_name": "ProgressStyleModel",
            "_view_count": null,
            "_view_module": "@jupyter-widgets/base",
            "_view_module_version": "1.2.0",
            "_view_name": "StyleView",
            "bar_color": null,
            "description_width": ""
          }
        },
        "2c48d04c62274af1ac0b0c8af9522c72": {
          "model_module": "@jupyter-widgets/base",
          "model_name": "LayoutModel",
          "model_module_version": "1.2.0",
          "state": {
            "_model_module": "@jupyter-widgets/base",
            "_model_module_version": "1.2.0",
            "_model_name": "LayoutModel",
            "_view_count": null,
            "_view_module": "@jupyter-widgets/base",
            "_view_module_version": "1.2.0",
            "_view_name": "LayoutView",
            "align_content": null,
            "align_items": null,
            "align_self": null,
            "border": null,
            "bottom": null,
            "display": null,
            "flex": null,
            "flex_flow": null,
            "grid_area": null,
            "grid_auto_columns": null,
            "grid_auto_flow": null,
            "grid_auto_rows": null,
            "grid_column": null,
            "grid_gap": null,
            "grid_row": null,
            "grid_template_areas": null,
            "grid_template_columns": null,
            "grid_template_rows": null,
            "height": null,
            "justify_content": null,
            "justify_items": null,
            "left": null,
            "margin": null,
            "max_height": null,
            "max_width": null,
            "min_height": null,
            "min_width": null,
            "object_fit": null,
            "object_position": null,
            "order": null,
            "overflow": null,
            "overflow_x": null,
            "overflow_y": null,
            "padding": null,
            "right": null,
            "top": null,
            "visibility": null,
            "width": null
          }
        },
        "15a7b413e85b4e2f88fafc0b9d509036": {
          "model_module": "@jupyter-widgets/controls",
          "model_name": "DescriptionStyleModel",
          "model_module_version": "1.5.0",
          "state": {
            "_model_module": "@jupyter-widgets/controls",
            "_model_module_version": "1.5.0",
            "_model_name": "DescriptionStyleModel",
            "_view_count": null,
            "_view_module": "@jupyter-widgets/base",
            "_view_module_version": "1.2.0",
            "_view_name": "StyleView",
            "description_width": ""
          }
        },
        "c879c9ec121f4b248d6ea5893718f414": {
          "model_module": "@jupyter-widgets/controls",
          "model_name": "HBoxModel",
          "model_module_version": "1.5.0",
          "state": {
            "_dom_classes": [],
            "_model_module": "@jupyter-widgets/controls",
            "_model_module_version": "1.5.0",
            "_model_name": "HBoxModel",
            "_view_count": null,
            "_view_module": "@jupyter-widgets/controls",
            "_view_module_version": "1.5.0",
            "_view_name": "HBoxView",
            "box_style": "",
            "children": [
              "IPY_MODEL_b7485f5589f444179d802ed0dac67c91",
              "IPY_MODEL_ad95a942526543168aa6301bfe269c39",
              "IPY_MODEL_56cac211de084ad6891cce3f5d6244a1"
            ],
            "layout": "IPY_MODEL_9c0798fc148844f89bf543c79a7ecb16"
          }
        },
        "b7485f5589f444179d802ed0dac67c91": {
          "model_module": "@jupyter-widgets/controls",
          "model_name": "HTMLModel",
          "model_module_version": "1.5.0",
          "state": {
            "_dom_classes": [],
            "_model_module": "@jupyter-widgets/controls",
            "_model_module_version": "1.5.0",
            "_model_name": "HTMLModel",
            "_view_count": null,
            "_view_module": "@jupyter-widgets/controls",
            "_view_module_version": "1.5.0",
            "_view_name": "HTMLView",
            "description": "",
            "description_tooltip": null,
            "layout": "IPY_MODEL_b0f5e8ae029f40f2af2678170bc781ea",
            "placeholder": "​",
            "style": "IPY_MODEL_e6cd6be230c04057b23bc6792fa4a82d",
            "value": " 25%"
          }
        },
        "ad95a942526543168aa6301bfe269c39": {
          "model_module": "@jupyter-widgets/controls",
          "model_name": "FloatProgressModel",
          "model_module_version": "1.5.0",
          "state": {
            "_dom_classes": [],
            "_model_module": "@jupyter-widgets/controls",
            "_model_module_version": "1.5.0",
            "_model_name": "FloatProgressModel",
            "_view_count": null,
            "_view_module": "@jupyter-widgets/controls",
            "_view_module_version": "1.5.0",
            "_view_name": "ProgressView",
            "bar_style": "",
            "description": "",
            "description_tooltip": null,
            "layout": "IPY_MODEL_8bed6b516c5f43cb818283496d91b937",
            "max": 64,
            "min": 0,
            "orientation": "horizontal",
            "style": "IPY_MODEL_0efa5e01a5d2422e9bee7c558ca228fc",
            "value": 16
          }
        },
        "56cac211de084ad6891cce3f5d6244a1": {
          "model_module": "@jupyter-widgets/controls",
          "model_name": "HTMLModel",
          "model_module_version": "1.5.0",
          "state": {
            "_dom_classes": [],
            "_model_module": "@jupyter-widgets/controls",
            "_model_module_version": "1.5.0",
            "_model_name": "HTMLModel",
            "_view_count": null,
            "_view_module": "@jupyter-widgets/controls",
            "_view_module_version": "1.5.0",
            "_view_name": "HTMLView",
            "description": "",
            "description_tooltip": null,
            "layout": "IPY_MODEL_61051e3b971b443aad208c53ce1b3aaf",
            "placeholder": "​",
            "style": "IPY_MODEL_c349bfd9b19f4cf684cbf6ede969b5a6",
            "value": " 16/64 [02:13&lt;10:45, 13.44s/it]"
          }
        },
        "9c0798fc148844f89bf543c79a7ecb16": {
          "model_module": "@jupyter-widgets/base",
          "model_name": "LayoutModel",
          "model_module_version": "1.2.0",
          "state": {
            "_model_module": "@jupyter-widgets/base",
            "_model_module_version": "1.2.0",
            "_model_name": "LayoutModel",
            "_view_count": null,
            "_view_module": "@jupyter-widgets/base",
            "_view_module_version": "1.2.0",
            "_view_name": "LayoutView",
            "align_content": null,
            "align_items": null,
            "align_self": null,
            "border": null,
            "bottom": null,
            "display": null,
            "flex": null,
            "flex_flow": null,
            "grid_area": null,
            "grid_auto_columns": null,
            "grid_auto_flow": null,
            "grid_auto_rows": null,
            "grid_column": null,
            "grid_gap": null,
            "grid_row": null,
            "grid_template_areas": null,
            "grid_template_columns": null,
            "grid_template_rows": null,
            "height": null,
            "justify_content": null,
            "justify_items": null,
            "left": null,
            "margin": null,
            "max_height": null,
            "max_width": null,
            "min_height": null,
            "min_width": null,
            "object_fit": null,
            "object_position": null,
            "order": null,
            "overflow": null,
            "overflow_x": null,
            "overflow_y": null,
            "padding": null,
            "right": null,
            "top": null,
            "visibility": null,
            "width": null
          }
        },
        "b0f5e8ae029f40f2af2678170bc781ea": {
          "model_module": "@jupyter-widgets/base",
          "model_name": "LayoutModel",
          "model_module_version": "1.2.0",
          "state": {
            "_model_module": "@jupyter-widgets/base",
            "_model_module_version": "1.2.0",
            "_model_name": "LayoutModel",
            "_view_count": null,
            "_view_module": "@jupyter-widgets/base",
            "_view_module_version": "1.2.0",
            "_view_name": "LayoutView",
            "align_content": null,
            "align_items": null,
            "align_self": null,
            "border": null,
            "bottom": null,
            "display": null,
            "flex": null,
            "flex_flow": null,
            "grid_area": null,
            "grid_auto_columns": null,
            "grid_auto_flow": null,
            "grid_auto_rows": null,
            "grid_column": null,
            "grid_gap": null,
            "grid_row": null,
            "grid_template_areas": null,
            "grid_template_columns": null,
            "grid_template_rows": null,
            "height": null,
            "justify_content": null,
            "justify_items": null,
            "left": null,
            "margin": null,
            "max_height": null,
            "max_width": null,
            "min_height": null,
            "min_width": null,
            "object_fit": null,
            "object_position": null,
            "order": null,
            "overflow": null,
            "overflow_x": null,
            "overflow_y": null,
            "padding": null,
            "right": null,
            "top": null,
            "visibility": null,
            "width": null
          }
        },
        "e6cd6be230c04057b23bc6792fa4a82d": {
          "model_module": "@jupyter-widgets/controls",
          "model_name": "DescriptionStyleModel",
          "model_module_version": "1.5.0",
          "state": {
            "_model_module": "@jupyter-widgets/controls",
            "_model_module_version": "1.5.0",
            "_model_name": "DescriptionStyleModel",
            "_view_count": null,
            "_view_module": "@jupyter-widgets/base",
            "_view_module_version": "1.2.0",
            "_view_name": "StyleView",
            "description_width": ""
          }
        },
        "8bed6b516c5f43cb818283496d91b937": {
          "model_module": "@jupyter-widgets/base",
          "model_name": "LayoutModel",
          "model_module_version": "1.2.0",
          "state": {
            "_model_module": "@jupyter-widgets/base",
            "_model_module_version": "1.2.0",
            "_model_name": "LayoutModel",
            "_view_count": null,
            "_view_module": "@jupyter-widgets/base",
            "_view_module_version": "1.2.0",
            "_view_name": "LayoutView",
            "align_content": null,
            "align_items": null,
            "align_self": null,
            "border": null,
            "bottom": null,
            "display": null,
            "flex": null,
            "flex_flow": null,
            "grid_area": null,
            "grid_auto_columns": null,
            "grid_auto_flow": null,
            "grid_auto_rows": null,
            "grid_column": null,
            "grid_gap": null,
            "grid_row": null,
            "grid_template_areas": null,
            "grid_template_columns": null,
            "grid_template_rows": null,
            "height": null,
            "justify_content": null,
            "justify_items": null,
            "left": null,
            "margin": null,
            "max_height": null,
            "max_width": null,
            "min_height": null,
            "min_width": null,
            "object_fit": null,
            "object_position": null,
            "order": null,
            "overflow": null,
            "overflow_x": null,
            "overflow_y": null,
            "padding": null,
            "right": null,
            "top": null,
            "visibility": null,
            "width": null
          }
        },
        "0efa5e01a5d2422e9bee7c558ca228fc": {
          "model_module": "@jupyter-widgets/controls",
          "model_name": "ProgressStyleModel",
          "model_module_version": "1.5.0",
          "state": {
            "_model_module": "@jupyter-widgets/controls",
            "_model_module_version": "1.5.0",
            "_model_name": "ProgressStyleModel",
            "_view_count": null,
            "_view_module": "@jupyter-widgets/base",
            "_view_module_version": "1.2.0",
            "_view_name": "StyleView",
            "bar_color": null,
            "description_width": ""
          }
        },
        "61051e3b971b443aad208c53ce1b3aaf": {
          "model_module": "@jupyter-widgets/base",
          "model_name": "LayoutModel",
          "model_module_version": "1.2.0",
          "state": {
            "_model_module": "@jupyter-widgets/base",
            "_model_module_version": "1.2.0",
            "_model_name": "LayoutModel",
            "_view_count": null,
            "_view_module": "@jupyter-widgets/base",
            "_view_module_version": "1.2.0",
            "_view_name": "LayoutView",
            "align_content": null,
            "align_items": null,
            "align_self": null,
            "border": null,
            "bottom": null,
            "display": null,
            "flex": null,
            "flex_flow": null,
            "grid_area": null,
            "grid_auto_columns": null,
            "grid_auto_flow": null,
            "grid_auto_rows": null,
            "grid_column": null,
            "grid_gap": null,
            "grid_row": null,
            "grid_template_areas": null,
            "grid_template_columns": null,
            "grid_template_rows": null,
            "height": null,
            "justify_content": null,
            "justify_items": null,
            "left": null,
            "margin": null,
            "max_height": null,
            "max_width": null,
            "min_height": null,
            "min_width": null,
            "object_fit": null,
            "object_position": null,
            "order": null,
            "overflow": null,
            "overflow_x": null,
            "overflow_y": null,
            "padding": null,
            "right": null,
            "top": null,
            "visibility": null,
            "width": null
          }
        },
        "c349bfd9b19f4cf684cbf6ede969b5a6": {
          "model_module": "@jupyter-widgets/controls",
          "model_name": "DescriptionStyleModel",
          "model_module_version": "1.5.0",
          "state": {
            "_model_module": "@jupyter-widgets/controls",
            "_model_module_version": "1.5.0",
            "_model_name": "DescriptionStyleModel",
            "_view_count": null,
            "_view_module": "@jupyter-widgets/base",
            "_view_module_version": "1.2.0",
            "_view_name": "StyleView",
            "description_width": ""
          }
        }
      }
    }
  },
  "cells": [
    {
      "cell_type": "markdown",
      "metadata": {
        "id": "view-in-github",
        "colab_type": "text"
      },
      "source": [
        "<a href=\"https://colab.research.google.com/github/RafsanJany-44/ARC/blob/master/Untitled153.ipynb\" target=\"_parent\"><img src=\"https://colab.research.google.com/assets/colab-badge.svg\" alt=\"Open In Colab\"/></a>"
      ]
    },
    {
      "cell_type": "code",
      "execution_count": 1,
      "metadata": {
        "colab": {
          "base_uri": "https://localhost:8080/"
        },
        "id": "v2DWK77N5qcp",
        "outputId": "9a2d653b-1b84-467e-afbf-6fd415274562"
      },
      "outputs": [
        {
          "output_type": "stream",
          "name": "stdout",
          "text": [
            "Requirement already satisfied: pyvital in /usr/local/lib/python3.10/dist-packages (0.3.5)\n",
            "Requirement already satisfied: vitaldb in /usr/local/lib/python3.10/dist-packages (1.4.2)\n",
            "Requirement already satisfied: vital in /usr/local/lib/python3.10/dist-packages (1.4.10)\n",
            "Requirement already satisfied: numpy in /usr/local/lib/python3.10/dist-packages (from pyvital) (1.23.5)\n",
            "Requirement already satisfied: scipy in /usr/local/lib/python3.10/dist-packages (from pyvital) (1.11.2)\n",
            "Requirement already satisfied: sanic in /usr/local/lib/python3.10/dist-packages (from pyvital) (23.6.0)\n",
            "Requirement already satisfied: PyWavelets in /usr/local/lib/python3.10/dist-packages (from pyvital) (1.4.1)\n",
            "Requirement already satisfied: tensorflow>=2.6 in /usr/local/lib/python3.10/dist-packages (from pyvital) (2.13.0)\n",
            "Requirement already satisfied: keras in /usr/local/lib/python3.10/dist-packages (from pyvital) (2.13.1)\n",
            "Requirement already satisfied: torch in /usr/local/lib/python3.10/dist-packages (from pyvital) (2.0.1+cu118)\n",
            "Requirement already satisfied: pandas in /usr/local/lib/python3.10/dist-packages (from vitaldb) (1.5.3)\n",
            "Requirement already satisfied: requests in /usr/local/lib/python3.10/dist-packages (from vitaldb) (2.31.0)\n",
            "Requirement already satisfied: wfdb in /usr/local/lib/python3.10/dist-packages (from vitaldb) (4.1.2)\n",
            "Requirement already satisfied: PyJWT<3.0.0,>=2.0.1 in /usr/lib/python3/dist-packages (from vital) (2.3.0)\n",
            "Requirement already satisfied: arrow in /usr/local/lib/python3.10/dist-packages (from vital) (1.2.3)\n",
            "Requirement already satisfied: importlib-metadata<4.0.0,>=3.7.3 in /usr/local/lib/python3.10/dist-packages (from vital) (3.10.1)\n",
            "Requirement already satisfied: pydantic<2.0.0,>=1.10.7 in /usr/local/lib/python3.10/dist-packages (from vital) (1.10.12)\n",
            "Requirement already satisfied: svix<0.42.0,>=0.41.2 in /usr/local/lib/python3.10/dist-packages (from vital) (0.41.2)\n",
            "Requirement already satisfied: typed-ast<2.0.0,>=1.5.4 in /usr/local/lib/python3.10/dist-packages (from vital) (1.5.5)\n",
            "Requirement already satisfied: zipp>=0.5 in /usr/local/lib/python3.10/dist-packages (from importlib-metadata<4.0.0,>=3.7.3->vital) (3.16.2)\n",
            "Requirement already satisfied: typing-extensions>=4.2.0 in /usr/local/lib/python3.10/dist-packages (from pydantic<2.0.0,>=1.10.7->vital) (4.5.0)\n",
            "Requirement already satisfied: urllib3>=1.25.3 in /usr/local/lib/python3.10/dist-packages (from svix<0.42.0,>=0.41.2->vital) (2.0.4)\n",
            "Requirement already satisfied: python-dateutil in /usr/local/lib/python3.10/dist-packages (from svix<0.42.0,>=0.41.2->vital) (2.8.2)\n",
            "Requirement already satisfied: absl-py>=1.0.0 in /usr/local/lib/python3.10/dist-packages (from tensorflow>=2.6->pyvital) (1.4.0)\n",
            "Requirement already satisfied: astunparse>=1.6.0 in /usr/local/lib/python3.10/dist-packages (from tensorflow>=2.6->pyvital) (1.6.3)\n",
            "Requirement already satisfied: flatbuffers>=23.1.21 in /usr/local/lib/python3.10/dist-packages (from tensorflow>=2.6->pyvital) (23.5.26)\n",
            "Requirement already satisfied: gast<=0.4.0,>=0.2.1 in /usr/local/lib/python3.10/dist-packages (from tensorflow>=2.6->pyvital) (0.4.0)\n",
            "Requirement already satisfied: google-pasta>=0.1.1 in /usr/local/lib/python3.10/dist-packages (from tensorflow>=2.6->pyvital) (0.2.0)\n",
            "Requirement already satisfied: grpcio<2.0,>=1.24.3 in /usr/local/lib/python3.10/dist-packages (from tensorflow>=2.6->pyvital) (1.57.0)\n",
            "Requirement already satisfied: h5py>=2.9.0 in /usr/local/lib/python3.10/dist-packages (from tensorflow>=2.6->pyvital) (3.9.0)\n",
            "Requirement already satisfied: libclang>=13.0.0 in /usr/local/lib/python3.10/dist-packages (from tensorflow>=2.6->pyvital) (16.0.6)\n",
            "Requirement already satisfied: opt-einsum>=2.3.2 in /usr/local/lib/python3.10/dist-packages (from tensorflow>=2.6->pyvital) (3.3.0)\n",
            "Requirement already satisfied: packaging in /usr/local/lib/python3.10/dist-packages (from tensorflow>=2.6->pyvital) (23.1)\n",
            "Requirement already satisfied: protobuf!=4.21.0,!=4.21.1,!=4.21.2,!=4.21.3,!=4.21.4,!=4.21.5,<5.0.0dev,>=3.20.3 in /usr/local/lib/python3.10/dist-packages (from tensorflow>=2.6->pyvital) (3.20.3)\n",
            "Requirement already satisfied: setuptools in /usr/local/lib/python3.10/dist-packages (from tensorflow>=2.6->pyvital) (67.7.2)\n",
            "Requirement already satisfied: six>=1.12.0 in /usr/local/lib/python3.10/dist-packages (from tensorflow>=2.6->pyvital) (1.16.0)\n",
            "Requirement already satisfied: tensorboard<2.14,>=2.13 in /usr/local/lib/python3.10/dist-packages (from tensorflow>=2.6->pyvital) (2.13.0)\n",
            "Requirement already satisfied: tensorflow-estimator<2.14,>=2.13.0 in /usr/local/lib/python3.10/dist-packages (from tensorflow>=2.6->pyvital) (2.13.0)\n",
            "Requirement already satisfied: termcolor>=1.1.0 in /usr/local/lib/python3.10/dist-packages (from tensorflow>=2.6->pyvital) (2.3.0)\n",
            "Requirement already satisfied: wrapt>=1.11.0 in /usr/local/lib/python3.10/dist-packages (from tensorflow>=2.6->pyvital) (1.15.0)\n",
            "Requirement already satisfied: tensorflow-io-gcs-filesystem>=0.23.1 in /usr/local/lib/python3.10/dist-packages (from tensorflow>=2.6->pyvital) (0.33.0)\n",
            "Requirement already satisfied: pytz>=2020.1 in /usr/local/lib/python3.10/dist-packages (from pandas->vitaldb) (2023.3.post1)\n",
            "Requirement already satisfied: charset-normalizer<4,>=2 in /usr/local/lib/python3.10/dist-packages (from requests->vitaldb) (3.2.0)\n",
            "Requirement already satisfied: idna<4,>=2.5 in /usr/local/lib/python3.10/dist-packages (from requests->vitaldb) (3.4)\n",
            "Requirement already satisfied: certifi>=2017.4.17 in /usr/local/lib/python3.10/dist-packages (from requests->vitaldb) (2023.7.22)\n",
            "Requirement already satisfied: sanic-routing>=23.6.0 in /usr/local/lib/python3.10/dist-packages (from sanic->pyvital) (23.6.0)\n",
            "Requirement already satisfied: httptools>=0.0.10 in /usr/local/lib/python3.10/dist-packages (from sanic->pyvital) (0.6.0)\n",
            "Requirement already satisfied: aiofiles>=0.6.0 in /usr/local/lib/python3.10/dist-packages (from sanic->pyvital) (23.2.1)\n",
            "Requirement already satisfied: websockets>=10.0 in /usr/local/lib/python3.10/dist-packages (from sanic->pyvital) (11.0.3)\n",
            "Requirement already satisfied: multidict<7.0,>=5.0 in /usr/local/lib/python3.10/dist-packages (from sanic->pyvital) (6.0.4)\n",
            "Requirement already satisfied: html5tagger>=1.2.1 in /usr/local/lib/python3.10/dist-packages (from sanic->pyvital) (1.3.0)\n",
            "Requirement already satisfied: tracerite>=1.0.0 in /usr/local/lib/python3.10/dist-packages (from sanic->pyvital) (1.1.0)\n",
            "Requirement already satisfied: uvloop>=0.15.0 in /usr/local/lib/python3.10/dist-packages (from sanic->pyvital) (0.17.0)\n",
            "Requirement already satisfied: ujson>=1.35 in /usr/local/lib/python3.10/dist-packages (from sanic->pyvital) (5.8.0)\n",
            "Requirement already satisfied: filelock in /usr/local/lib/python3.10/dist-packages (from torch->pyvital) (3.12.2)\n",
            "Requirement already satisfied: sympy in /usr/local/lib/python3.10/dist-packages (from torch->pyvital) (1.12)\n",
            "Requirement already satisfied: networkx in /usr/local/lib/python3.10/dist-packages (from torch->pyvital) (3.1)\n",
            "Requirement already satisfied: jinja2 in /usr/local/lib/python3.10/dist-packages (from torch->pyvital) (3.1.2)\n",
            "Requirement already satisfied: triton==2.0.0 in /usr/local/lib/python3.10/dist-packages (from torch->pyvital) (2.0.0)\n",
            "Requirement already satisfied: cmake in /usr/local/lib/python3.10/dist-packages (from triton==2.0.0->torch->pyvital) (3.27.4.1)\n",
            "Requirement already satisfied: lit in /usr/local/lib/python3.10/dist-packages (from triton==2.0.0->torch->pyvital) (16.0.6)\n",
            "Requirement already satisfied: SoundFile>=0.10.0 in /usr/local/lib/python3.10/dist-packages (from wfdb->vitaldb) (0.12.1)\n",
            "Requirement already satisfied: matplotlib>=3.2.2 in /usr/local/lib/python3.10/dist-packages (from wfdb->vitaldb) (3.7.1)\n",
            "Requirement already satisfied: wheel<1.0,>=0.23.0 in /usr/local/lib/python3.10/dist-packages (from astunparse>=1.6.0->tensorflow>=2.6->pyvital) (0.41.2)\n",
            "Requirement already satisfied: contourpy>=1.0.1 in /usr/local/lib/python3.10/dist-packages (from matplotlib>=3.2.2->wfdb->vitaldb) (1.1.0)\n",
            "Requirement already satisfied: cycler>=0.10 in /usr/local/lib/python3.10/dist-packages (from matplotlib>=3.2.2->wfdb->vitaldb) (0.11.0)\n",
            "Requirement already satisfied: fonttools>=4.22.0 in /usr/local/lib/python3.10/dist-packages (from matplotlib>=3.2.2->wfdb->vitaldb) (4.42.1)\n",
            "Requirement already satisfied: kiwisolver>=1.0.1 in /usr/local/lib/python3.10/dist-packages (from matplotlib>=3.2.2->wfdb->vitaldb) (1.4.5)\n",
            "Requirement already satisfied: pillow>=6.2.0 in /usr/local/lib/python3.10/dist-packages (from matplotlib>=3.2.2->wfdb->vitaldb) (9.4.0)\n",
            "Requirement already satisfied: pyparsing>=2.3.1 in /usr/local/lib/python3.10/dist-packages (from matplotlib>=3.2.2->wfdb->vitaldb) (3.1.1)\n",
            "Requirement already satisfied: cffi>=1.0 in /usr/local/lib/python3.10/dist-packages (from SoundFile>=0.10.0->wfdb->vitaldb) (1.15.1)\n",
            "Requirement already satisfied: google-auth<3,>=1.6.3 in /usr/local/lib/python3.10/dist-packages (from tensorboard<2.14,>=2.13->tensorflow>=2.6->pyvital) (2.17.3)\n",
            "Requirement already satisfied: google-auth-oauthlib<1.1,>=0.5 in /usr/local/lib/python3.10/dist-packages (from tensorboard<2.14,>=2.13->tensorflow>=2.6->pyvital) (1.0.0)\n",
            "Requirement already satisfied: markdown>=2.6.8 in /usr/local/lib/python3.10/dist-packages (from tensorboard<2.14,>=2.13->tensorflow>=2.6->pyvital) (3.4.4)\n",
            "Requirement already satisfied: tensorboard-data-server<0.8.0,>=0.7.0 in /usr/local/lib/python3.10/dist-packages (from tensorboard<2.14,>=2.13->tensorflow>=2.6->pyvital) (0.7.1)\n",
            "Requirement already satisfied: werkzeug>=1.0.1 in /usr/local/lib/python3.10/dist-packages (from tensorboard<2.14,>=2.13->tensorflow>=2.6->pyvital) (2.3.7)\n",
            "Requirement already satisfied: MarkupSafe>=2.0 in /usr/local/lib/python3.10/dist-packages (from jinja2->torch->pyvital) (2.1.3)\n",
            "Requirement already satisfied: mpmath>=0.19 in /usr/local/lib/python3.10/dist-packages (from sympy->torch->pyvital) (1.3.0)\n",
            "Requirement already satisfied: pycparser in /usr/local/lib/python3.10/dist-packages (from cffi>=1.0->SoundFile>=0.10.0->wfdb->vitaldb) (2.21)\n",
            "Requirement already satisfied: cachetools<6.0,>=2.0.0 in /usr/local/lib/python3.10/dist-packages (from google-auth<3,>=1.6.3->tensorboard<2.14,>=2.13->tensorflow>=2.6->pyvital) (5.3.1)\n",
            "Requirement already satisfied: pyasn1-modules>=0.2.1 in /usr/local/lib/python3.10/dist-packages (from google-auth<3,>=1.6.3->tensorboard<2.14,>=2.13->tensorflow>=2.6->pyvital) (0.3.0)\n",
            "Requirement already satisfied: rsa<5,>=3.1.4 in /usr/local/lib/python3.10/dist-packages (from google-auth<3,>=1.6.3->tensorboard<2.14,>=2.13->tensorflow>=2.6->pyvital) (4.9)\n",
            "Requirement already satisfied: requests-oauthlib>=0.7.0 in /usr/local/lib/python3.10/dist-packages (from google-auth-oauthlib<1.1,>=0.5->tensorboard<2.14,>=2.13->tensorflow>=2.6->pyvital) (1.3.1)\n",
            "Requirement already satisfied: pyasn1<0.6.0,>=0.4.6 in /usr/local/lib/python3.10/dist-packages (from pyasn1-modules>=0.2.1->google-auth<3,>=1.6.3->tensorboard<2.14,>=2.13->tensorflow>=2.6->pyvital) (0.5.0)\n",
            "Requirement already satisfied: oauthlib>=3.0.0 in /usr/local/lib/python3.10/dist-packages (from requests-oauthlib>=0.7.0->google-auth-oauthlib<1.1,>=0.5->tensorboard<2.14,>=2.13->tensorflow>=2.6->pyvital) (3.2.2)\n",
            "Requirement already satisfied: neurokit2 in /usr/local/lib/python3.10/dist-packages (0.2.6)\n",
            "Requirement already satisfied: numpy in /usr/local/lib/python3.10/dist-packages (from neurokit2) (1.23.5)\n",
            "Requirement already satisfied: pandas in /usr/local/lib/python3.10/dist-packages (from neurokit2) (1.5.3)\n",
            "Requirement already satisfied: scipy in /usr/local/lib/python3.10/dist-packages (from neurokit2) (1.11.2)\n",
            "Requirement already satisfied: scikit-learn>=1.0.0 in /usr/local/lib/python3.10/dist-packages (from neurokit2) (1.2.2)\n",
            "Requirement already satisfied: matplotlib in /usr/local/lib/python3.10/dist-packages (from neurokit2) (3.7.1)\n",
            "Requirement already satisfied: joblib>=1.1.1 in /usr/local/lib/python3.10/dist-packages (from scikit-learn>=1.0.0->neurokit2) (1.3.2)\n",
            "Requirement already satisfied: threadpoolctl>=2.0.0 in /usr/local/lib/python3.10/dist-packages (from scikit-learn>=1.0.0->neurokit2) (3.2.0)\n",
            "Requirement already satisfied: contourpy>=1.0.1 in /usr/local/lib/python3.10/dist-packages (from matplotlib->neurokit2) (1.1.0)\n",
            "Requirement already satisfied: cycler>=0.10 in /usr/local/lib/python3.10/dist-packages (from matplotlib->neurokit2) (0.11.0)\n",
            "Requirement already satisfied: fonttools>=4.22.0 in /usr/local/lib/python3.10/dist-packages (from matplotlib->neurokit2) (4.42.1)\n",
            "Requirement already satisfied: kiwisolver>=1.0.1 in /usr/local/lib/python3.10/dist-packages (from matplotlib->neurokit2) (1.4.5)\n",
            "Requirement already satisfied: packaging>=20.0 in /usr/local/lib/python3.10/dist-packages (from matplotlib->neurokit2) (23.1)\n",
            "Requirement already satisfied: pillow>=6.2.0 in /usr/local/lib/python3.10/dist-packages (from matplotlib->neurokit2) (9.4.0)\n",
            "Requirement already satisfied: pyparsing>=2.3.1 in /usr/local/lib/python3.10/dist-packages (from matplotlib->neurokit2) (3.1.1)\n",
            "Requirement already satisfied: python-dateutil>=2.7 in /usr/local/lib/python3.10/dist-packages (from matplotlib->neurokit2) (2.8.2)\n",
            "Requirement already satisfied: pytz>=2020.1 in /usr/local/lib/python3.10/dist-packages (from pandas->neurokit2) (2023.3.post1)\n",
            "Requirement already satisfied: six>=1.5 in /usr/local/lib/python3.10/dist-packages (from python-dateutil>=2.7->matplotlib->neurokit2) (1.16.0)\n"
          ]
        }
      ],
      "source": [
        "\n",
        "!pip install pyvital vitaldb vital\n",
        "!pip install neurokit2\n",
        "!pip install -q wfdb\n",
        "!pip install -q neurokit2\n",
        "!pip install -q biosppy\n",
        "\n",
        "import vitaldb\n",
        "import pandas as pd\n",
        "import numpy as np\n",
        "from datetime import timedelta\n",
        "import neurokit2 as nk\n",
        "import matplotlib.pyplot as plt\n",
        "import os\n",
        "import pandas as pd\n",
        "import biosppy.signals.ecg as ecg\n",
        "import random\n",
        "from tqdm.notebook import tqdm\n",
        "\n",
        "\n",
        "df_cases = pd.read_csv(\"https://api.vitaldb.net/cases\")  # Load clinical data\n",
        "df_trks = pd.read_csv('https://api.vitaldb.net/trks')  # Load track list\n",
        "df_labs = pd.read_csv('https://api.vitaldb.net/labs')  # Load lab result"
      ]
    },
    {
      "cell_type": "code",
      "source": [
        "def r_wave_amplitude(r_peak_loc):\n",
        "    if len(r_peak_loc) >= 1:\n",
        "        r_amplitude = float(r_peak_loc.values[0])\n",
        "        return r_amplitude\n",
        "    return np.nan\n",
        "\n",
        "def r_wave_duration(q_peak_loc, t_onset_loc):\n",
        "    if len(q_peak_loc) >= 1 and len(t_onset_loc) >= 1:\n",
        "        r_duration = float(q_peak_loc.index[0] - t_onset_loc.index[0])\n",
        "        return r_duration\n",
        "    return np.nan\n",
        "\n",
        "def t_wave_amplitude(t_peak_loc):\n",
        "    if len(t_peak_loc) >= 1:\n",
        "        t_amplitude = float(t_peak_loc.values[0])\n",
        "        return t_amplitude\n",
        "    return np.nan\n",
        "\n",
        "def t_wave_duration(t_offset_loc, t_onset_loc):\n",
        "    if len(t_offset_loc) >= 1 and len(t_onset_loc) >= 1:\n",
        "        t_duration = float(t_offset_loc.index[0] - t_onset_loc.index[0])\n",
        "        return t_duration\n",
        "    return np.nan\n",
        "\n",
        "def s_wave_amplitude(s_peak_loc):\n",
        "    if len(s_peak_loc) >= 1:\n",
        "        s_amplitude = float(s_peak_loc.values[0])\n",
        "        return s_amplitude\n",
        "    return np.nan\n",
        "\n",
        "def qt_interval(t_offset_loc, p_offset_loc):\n",
        "    if len(t_offset_loc) >= 1 and len(p_offset_loc) >= 1:\n",
        "        qt_interval = float(t_offset_loc.index[0] - p_offset_loc.index[0])\n",
        "        return qt_interval\n",
        "    return np.nan\n",
        "\n",
        "def heart_rate_calc(hr, idx):\n",
        "    if idx > 0:\n",
        "        return float(hr[idx-1])\n",
        "    return np.nan\n",
        "\n",
        "\n",
        "def j_point_calc(s_peak_loc, t_peak_loc, x, y):\n",
        "    if len(s_peak_loc) == 0 or len(t_peak_loc) == 0:\n",
        "        return np.nan, np.nan, None\n",
        "    if s_peak_loc.index[0] > t_peak_loc.index[0]:\n",
        "        return np.nan, np.nan, None\n",
        "    s_peak_ind = int(np.interp(s_peak_loc.index[0], x, np.arange(len(x))))\n",
        "    t_peak_ind = int(np.interp(t_peak_loc.index[0], x, np.arange(len(x))))\n",
        "    y_st_by_peaks = y[s_peak_ind:t_peak_ind+1]\n",
        "    x_st_by_peaks = x[s_peak_ind:t_peak_ind+1]\n",
        "    if t_peak_ind - s_peak_ind < 1:\n",
        "        return np.nan, np.nan, None\n",
        "    Fy = np.gradient(y_st_by_peaks)\n",
        "    j_point_pseudo_ind = np.abs(Fy).argmin()\n",
        "    j_point = [x_st_by_peaks[j_point_pseudo_ind], y_st_by_peaks[j_point_pseudo_ind]]\n",
        "    j_point_ind = int(np.round(np.interp(x_st_by_peaks[j_point_pseudo_ind], x, np.arange(len(x)))))\n",
        "    j_magnitude = j_point[1]\n",
        "\n",
        "    return j_point, j_magnitude, j_point_ind\n",
        "\n",
        "def st_duration_calc(t_peak_loc, j_point):\n",
        "    if len(t_peak_loc) >= 1 and isinstance(j_point, list) and len(j_point) == 2:\n",
        "        st_duration = t_peak_loc.index[0] - j_point[0]\n",
        "        return st_duration\n",
        "    return np.nan\n",
        "\n",
        "def st_slope_calc(t_onset_loc, j_point_ind, x, y):\n",
        "    if len(t_onset_loc) >= 1 and j_point_ind is not None:\n",
        "        t_onset_ind = int(np.round(np.interp(t_onset_loc.index[0], x, np.arange(len(x)))))\n",
        "\n",
        "        if t_onset_ind > j_point_ind:\n",
        "            y_st_slope_range = y[j_point_ind:t_onset_ind+1]\n",
        "            x_st_slope_range = x[j_point_ind:t_onset_ind+1]\n",
        "\n",
        "            F_st_slope = np.gradient(y_st_slope_range)\n",
        "            st_slope = np.mean(F_st_slope)\n",
        "            st_slope_bool = st_slope > 0\n",
        "            return st_slope\n",
        "    return np.nan\n",
        "\n",
        "def st_area_calc(t_offset_loc, j_point_ind, x, y,):\n",
        "    if len(t_offset_loc) >= 1 and j_point_ind is not None:\n",
        "        ind_t_offset = int(np.round(np.interp(t_offset_loc.index[0], x, np.arange(len(x)))))\n",
        "        y_st_area_range = y[j_point_ind:ind_t_offset+1]\n",
        "        x_st_area_range = x[j_point_ind:ind_t_offset+1]\n",
        "        st_area = np.trapz(y_st_area_range, x_st_area_range)\n",
        "        return st_area\n",
        "    return np.nan\n",
        "\n",
        "\n",
        "\n",
        "\n",
        "\n",
        "def extract_features(beats, features,case_id):\n",
        "\n",
        "    p_onsets = features[\"ECG_P_Onsets\"]\n",
        "    r_onsets = features[\"ECG_R_Onsets\"]\n",
        "    t_onsets = features[\"ECG_T_Onsets\"]\n",
        "    p_offsets = features[\"ECG_P_Offsets\"]\n",
        "    r_offsets = features[\"ECG_R_Offsets\"]\n",
        "    t_offsets = features[\"ECG_T_Offsets\"]\n",
        "    r_peaks = features[\"ECG_R_Peaks\"]\n",
        "    t_peaks = features[\"ECG_T_Peaks\"]\n",
        "    q_peaks = features[\"ECG_Q_Peaks\"]\n",
        "    s_peaks = features[\"ECG_S_Peaks\"]\n",
        "    p_peaks = features[\"ECG_P_Peaks\"]\n",
        "    heart_rate = features[\"ECG_Rate\"]\n",
        "    cycles=0\n",
        "\n",
        "    record_dataset = pd.DataFrame(columns=['Case_ID','Cycle','R_wave_amplitude', 'R_wave_duration', 'T_wave_amplitude', 'T_wave_duration', 'S_wave_amplitude', 'QT_interval', 'Heart_rate','J_point_amplitude', 'ST_duration', 'ST_area', 'ST_slope'])\n",
        "\n",
        "    for i in range(1, len(beats)+1):\n",
        "        beat = beats[str(i)]\n",
        "        beat_signal = beat['Signal']\n",
        "        time = beat_signal.index\n",
        "        voltage = beat_signal.values\n",
        "        beat_idx = beat['Index'].values\n",
        "        min_idx, max_idx = beat_idx[0], beat_idx[-1]\n",
        "\n",
        "        s_peak_loc = beat_signal.iloc[np.argwhere(s_peaks[min_idx:max_idx].values == 1).flatten()]\n",
        "        r_onset_loc = beat_signal.iloc[np.argwhere(r_onsets[min_idx:max_idx].values == 1).flatten()]\n",
        "        t_onset_loc = beat_signal.iloc[np.argwhere(t_onsets[min_idx:max_idx].values == 1).flatten()]\n",
        "        p_offset_loc = beat_signal.iloc[np.argwhere(p_offsets[min_idx:max_idx].values == 1).flatten()]\n",
        "        r_offset_loc = beat_signal.iloc[np.argwhere(r_offsets[min_idx:max_idx].values == 1).flatten()]\n",
        "        t_offset_loc = beat_signal.iloc[np.argwhere(t_offsets[min_idx:max_idx].values == 1).flatten()]\n",
        "        r_peak_loc = beat_signal.iloc[np.argwhere(r_peaks[min_idx:max_idx].values == 1).flatten()]\n",
        "        t_peak_loc = beat_signal.iloc[np.argwhere(t_peaks[min_idx:max_idx].values == 1).flatten()]\n",
        "        q_peak_loc = beat_signal.iloc[np.argwhere(q_peaks[min_idx:max_idx].values == 1).flatten()]\n",
        "\n",
        "\n",
        "        r_amplitude = r_wave_amplitude(r_peak_loc)\n",
        "        r_duration = r_wave_duration(q_peak_loc, r_onset_loc)\n",
        "        t_amplitude = t_wave_amplitude(t_peak_loc)\n",
        "        t_duration = t_wave_duration(t_offset_loc, t_onset_loc)\n",
        "        s_amplitude = s_wave_amplitude(s_peak_loc)\n",
        "        qt_int = qt_interval(t_offset_loc, p_offset_loc)\n",
        "        hr = heart_rate_calc(heart_rate, (min_idx + max_idx) // 2)\n",
        "        j_point, j_magnitude, j_point_ind = j_point_calc(s_peak_loc, t_peak_loc, time, voltage)\n",
        "        st_duration = st_duration_calc(t_peak_loc, j_point)\n",
        "        st_slope = st_slope_calc(t_onset_loc, j_point_ind, time, voltage)\n",
        "        st_area = st_area_calc(t_offset_loc, j_point_ind, time, voltage)\n",
        "        cycles+=1\n",
        "\n",
        "        feature_row = {\n",
        "            'Case_ID': case_id,\n",
        "            'Cycle': cycles,\n",
        "            'R_wave_amplitude': r_amplitude,\n",
        "            'R_wave_duration': r_duration,\n",
        "            'T_wave_amplitude': t_amplitude,\n",
        "            'T_wave_duration': t_duration,\n",
        "            'S_wave_amplitude': s_amplitude,\n",
        "            'QT_interval': qt_int,\n",
        "            'Heart_rate': hr,\n",
        "            'J_point_amplitude': j_magnitude,\n",
        "            'ST_duration': st_duration,\n",
        "            'ST_area': st_area,\n",
        "            'ST_slope': st_slope\n",
        "        }\n",
        "\n",
        "        feature_row = pd.DataFrame([feature_row])\n",
        "        record_dataset = pd.concat([record_dataset, feature_row], ignore_index=True)\n",
        "\n",
        "    return record_dataset\n",
        "\n",
        "\n",
        "\n",
        "\n",
        "\n",
        "\n",
        "def engine(initial_signal,caseid):\n",
        "  srate = 100\n",
        "  initial_signal = initial_signal[np.logical_not(np.isnan(initial_signal))]\n",
        "  initial_signal = initial_signal[(initial_signal>= -.25) & (initial_signal<=.25)]\n",
        "  signal_clean = nk.ecg_clean(initial_signal, sampling_rate=srate)\n",
        "  features, _ = nk.ecg_process(signal_clean, sampling_rate=srate)\n",
        "  beats = nk.ecg_segment(signal_clean, sampling_rate=srate)\n",
        "  data = extract_features(beats, features,caseid)\n",
        "  return data\n",
        "\n"
      ],
      "metadata": {
        "id": "QU-UFSpUnyi3"
      },
      "execution_count": 2,
      "outputs": []
    },
    {
      "cell_type": "code",
      "source": [
        "caseids = list(\n",
        "    set(df_trks[df_trks['tname'] == 'Solar8000/ST_II']['caseid']) &\n",
        "    set(df_trks[df_trks['tname'] == 'Solar8000/ART_MBP']['caseid']) &\n",
        "     set(df_trks[df_trks['tname'] == 'Solar8000/ART_SBP']['caseid'])&\n",
        "     set(df_trks[df_trks['tname'] == 'Solar8000/ART_DBP']['caseid'])&\n",
        "    set(df_trks[df_trks['tname'] == 'SNUADC/ECG_II']['caseid'])\n",
        ")\n",
        "\n",
        "print('Total {} cases found'.format(len(caseids)))"
      ],
      "metadata": {
        "colab": {
          "base_uri": "https://localhost:8080/"
        },
        "id": "35mFOaNC6F4d",
        "outputId": "20c25005-503c-47fb-a289-27da903b3581"
      },
      "execution_count": 3,
      "outputs": [
        {
          "output_type": "stream",
          "name": "stdout",
          "text": [
            "Total 3559 cases found\n"
          ]
        }
      ]
    },
    {
      "cell_type": "code",
      "source": [
        "caseids = caseids[0:3]"
      ],
      "metadata": {
        "id": "CTSKb_p3cRBP"
      },
      "execution_count": 4,
      "outputs": []
    },
    {
      "cell_type": "code",
      "source": [
        "file_save_destination = '/content/Vital_ECG_II_features.csv'\n",
        "\n",
        "\n",
        "if os.path.exists(file_save_destination)==False:\n",
        "\n",
        "  main_dataframe = pd.DataFrame(columns=['Case_ID', 'Segment', 'ST_II', 'ART_MBP', 'ART_SBP', 'ART_DBP', 'Cycle',\n",
        "       'R_wave_amplitude', 'R_wave_duration', 'T_wave_amplitude',\n",
        "       'T_wave_duration', 'S_wave_amplitude', 'QT_interval', 'Heart_rate',\n",
        "       'J_point_amplitude', 'ST_duration', 'ST_area', 'ST_slope'])\n",
        "\n",
        "  main_dataframe.to_csv(file_save_destination,index=False)\n",
        "\n",
        "main_dataframe = pd.read_csv(file_save_destination)\n",
        "case_complete_list = list(main_dataframe[\"Case_ID\"].unique())\n",
        "\n",
        "\n",
        "\n",
        "\n",
        "for caseid in tqdm(caseids):\n",
        "\n",
        "  if caseid not in case_complete_list:\n",
        "    try:\n",
        "      print(\"Case Id:\", caseid,\"in process\")\n",
        "      vals = vitaldb.load_case(caseid, ['SNUADC/ECG_II','Solar8000/ST_II','Solar8000/ART_MBP','Solar8000/ART_SBP','Solar8000/ART_DBP'], 1 / 100)\n",
        "\n",
        "      sub_dataframe = pd.DataFrame(columns=['Case_ID', 'Segment', 'ST_II', 'ART_MBP', 'ART_SBP', 'ART_DBP', 'Cycle',\n",
        "            'R_wave_amplitude', 'R_wave_duration', 'T_wave_amplitude',\n",
        "            'T_wave_duration', 'S_wave_amplitude', 'QT_interval', 'Heart_rate',\n",
        "            'J_point_amplitude', 'ST_duration', 'ST_area', 'ST_slope'])\n",
        "\n",
        "      op_st = df_cases[(df_cases['caseid'] == caseid)]['opstart'].values[0]\n",
        "      op_end = df_cases[(df_cases['caseid'] == caseid)]['opend'].values[0]\n",
        "\n",
        "      time_col=[]\n",
        "      for i in range(len(vals)):\n",
        "        time_col.append(i*(1/500))\n",
        "\n",
        "\n",
        "\n",
        "      vals = np.insert(vals, 0, time_col, axis=1)\n",
        "      vals = np.insert(vals, 0, np.nan, axis=1)\n",
        "\n",
        "\n",
        "      vals  = vals[vals[:,1] >= op_st]\n",
        "      vals =  vals[vals[:,1] <= op_end]\n",
        "\n",
        "\n",
        "      sec_segment = 10\n",
        "      segment_num = 1\n",
        "      start_idx = 0\n",
        "      end_idx = int(sec_segment/(1/500) + 1)\n",
        "\n",
        "      for _ in tqdm(range(int(vals.shape[0]/int(sec_segment/(1/500) + 1)))):\n",
        "\n",
        "          print(\"Case_ID:\",caseid ,\" Segment:\",segment_num)\n",
        "          temp_arr = vals[start_idx:end_idx,:]\n",
        "          arr1 = np.nanmean(temp_arr, axis = 0)\n",
        "          df = engine(temp_arr[:,2],caseid)\n",
        "\n",
        "          df.insert(1, 'ART_DBP', arr1[6])\n",
        "          df.insert(1, 'ART_SBP', arr1[5])\n",
        "          df.insert(1, 'ART_MBP',  arr1[4])\n",
        "          df.insert(1, 'ST_II', arr1[3])\n",
        "          df.insert(1, 'Segment', segment_num)\n",
        "\n",
        "          sub_dataframe = pd.concat([sub_dataframe, df], ignore_index=True)\n",
        "\n",
        "\n",
        "          end_idx = end_idx + int(sec_segment/(1/500))\n",
        "          segment_num += 1\n",
        "\n",
        "      main_dataframe = pd.concat([main_dataframe, sub_dataframe], ignore_index=True)\n",
        "      main_dataframe.to_csv(file_save_destination,index=False)\n",
        "      print(\"Case Id:\", caseid,\" processing complete.....\")\n",
        "    except:\n",
        "      print(\"----------------------------ERORR!!! occurred In CASE ID: \",caseid,\"----------------------------------\")\n",
        "  else:\n",
        "    print(\"CASE_ID \", caseid,\" already exists....\")\n"
      ],
      "metadata": {
        "colab": {
          "base_uri": "https://localhost:8080/",
          "height": 984,
          "referenced_widgets": [
            "030065afc62d48d88ba58f092d4063c8",
            "16f1e2a0829a46ac9a7f7bac8d92ea39",
            "3136dbf65cc74b518f9a30c824fe9c5f",
            "1a0c8991bb2c45bf88c61f74731964d8",
            "a91e924bd1044a63b817b5a8fdbd31e8",
            "e0ba7ab7288b4939a48dc4e154238fed",
            "2be86867d86749efadd103d53fb500ff",
            "c79b9a8d6cf74f398244eac3090a72ce",
            "6857844a233d44c2aa73a0b9b5a01ddf",
            "2c48d04c62274af1ac0b0c8af9522c72",
            "15a7b413e85b4e2f88fafc0b9d509036",
            "c879c9ec121f4b248d6ea5893718f414",
            "b7485f5589f444179d802ed0dac67c91",
            "ad95a942526543168aa6301bfe269c39",
            "56cac211de084ad6891cce3f5d6244a1",
            "9c0798fc148844f89bf543c79a7ecb16",
            "b0f5e8ae029f40f2af2678170bc781ea",
            "e6cd6be230c04057b23bc6792fa4a82d",
            "8bed6b516c5f43cb818283496d91b937",
            "0efa5e01a5d2422e9bee7c558ca228fc",
            "61051e3b971b443aad208c53ce1b3aaf",
            "c349bfd9b19f4cf684cbf6ede969b5a6"
          ]
        },
        "id": "hDmS0cnnTOLu",
        "outputId": "37cee006-b7f2-4821-d4de-d59327468dd5"
      },
      "execution_count": null,
      "outputs": [
        {
          "output_type": "display_data",
          "data": {
            "text/plain": [
              "  0%|          | 0/3 [00:00<?, ?it/s]"
            ],
            "application/vnd.jupyter.widget-view+json": {
              "version_major": 2,
              "version_minor": 0,
              "model_id": "030065afc62d48d88ba58f092d4063c8"
            }
          },
          "metadata": {}
        },
        {
          "output_type": "stream",
          "name": "stdout",
          "text": [
            "Case Id: 1 in process\n"
          ]
        },
        {
          "output_type": "display_data",
          "data": {
            "text/plain": [
              "  0%|          | 0/64 [00:00<?, ?it/s]"
            ],
            "application/vnd.jupyter.widget-view+json": {
              "version_major": 2,
              "version_minor": 0,
              "model_id": "c879c9ec121f4b248d6ea5893718f414"
            }
          },
          "metadata": {}
        },
        {
          "output_type": "stream",
          "name": "stdout",
          "text": [
            "Case_ID: 1  Segment: 1\n"
          ]
        },
        {
          "output_type": "stream",
          "name": "stderr",
          "text": [
            "<ipython-input-5-1f43c71f560c>:57: RuntimeWarning: Mean of empty slice\n",
            "  arr1 = np.nanmean(temp_arr, axis = 0)\n"
          ]
        },
        {
          "output_type": "stream",
          "name": "stdout",
          "text": [
            "Case_ID: 1  Segment: 2\n"
          ]
        },
        {
          "output_type": "stream",
          "name": "stderr",
          "text": [
            "<ipython-input-5-1f43c71f560c>:57: RuntimeWarning: Mean of empty slice\n",
            "  arr1 = np.nanmean(temp_arr, axis = 0)\n"
          ]
        },
        {
          "output_type": "stream",
          "name": "stdout",
          "text": [
            "Case_ID: 1  Segment: 3\n"
          ]
        },
        {
          "output_type": "stream",
          "name": "stderr",
          "text": [
            "<ipython-input-5-1f43c71f560c>:57: RuntimeWarning: Mean of empty slice\n",
            "  arr1 = np.nanmean(temp_arr, axis = 0)\n"
          ]
        },
        {
          "output_type": "stream",
          "name": "stdout",
          "text": [
            "Case_ID: 1  Segment: 4\n"
          ]
        },
        {
          "output_type": "stream",
          "name": "stderr",
          "text": [
            "<ipython-input-5-1f43c71f560c>:57: RuntimeWarning: Mean of empty slice\n",
            "  arr1 = np.nanmean(temp_arr, axis = 0)\n"
          ]
        },
        {
          "output_type": "stream",
          "name": "stdout",
          "text": [
            "Case_ID: 1  Segment: 5\n"
          ]
        },
        {
          "output_type": "stream",
          "name": "stderr",
          "text": [
            "<ipython-input-5-1f43c71f560c>:57: RuntimeWarning: Mean of empty slice\n",
            "  arr1 = np.nanmean(temp_arr, axis = 0)\n"
          ]
        },
        {
          "output_type": "stream",
          "name": "stdout",
          "text": [
            "Case_ID: 1  Segment: 6\n"
          ]
        },
        {
          "output_type": "stream",
          "name": "stderr",
          "text": [
            "<ipython-input-5-1f43c71f560c>:57: RuntimeWarning: Mean of empty slice\n",
            "  arr1 = np.nanmean(temp_arr, axis = 0)\n"
          ]
        },
        {
          "output_type": "stream",
          "name": "stdout",
          "text": [
            "Case_ID: 1  Segment: 7\n"
          ]
        },
        {
          "output_type": "stream",
          "name": "stderr",
          "text": [
            "<ipython-input-5-1f43c71f560c>:57: RuntimeWarning: Mean of empty slice\n",
            "  arr1 = np.nanmean(temp_arr, axis = 0)\n"
          ]
        },
        {
          "output_type": "stream",
          "name": "stdout",
          "text": [
            "Case_ID: 1  Segment: 8\n"
          ]
        },
        {
          "output_type": "stream",
          "name": "stderr",
          "text": [
            "<ipython-input-5-1f43c71f560c>:57: RuntimeWarning: Mean of empty slice\n",
            "  arr1 = np.nanmean(temp_arr, axis = 0)\n"
          ]
        },
        {
          "output_type": "stream",
          "name": "stdout",
          "text": [
            "Case_ID: 1  Segment: 9\n"
          ]
        },
        {
          "output_type": "stream",
          "name": "stderr",
          "text": [
            "<ipython-input-5-1f43c71f560c>:57: RuntimeWarning: Mean of empty slice\n",
            "  arr1 = np.nanmean(temp_arr, axis = 0)\n"
          ]
        },
        {
          "output_type": "stream",
          "name": "stdout",
          "text": [
            "Case_ID: 1  Segment: 10\n"
          ]
        },
        {
          "output_type": "stream",
          "name": "stderr",
          "text": [
            "<ipython-input-5-1f43c71f560c>:57: RuntimeWarning: Mean of empty slice\n",
            "  arr1 = np.nanmean(temp_arr, axis = 0)\n"
          ]
        },
        {
          "output_type": "stream",
          "name": "stdout",
          "text": [
            "Case_ID: 1  Segment: 11\n"
          ]
        },
        {
          "output_type": "stream",
          "name": "stderr",
          "text": [
            "<ipython-input-5-1f43c71f560c>:57: RuntimeWarning: Mean of empty slice\n",
            "  arr1 = np.nanmean(temp_arr, axis = 0)\n"
          ]
        },
        {
          "output_type": "stream",
          "name": "stdout",
          "text": [
            "Case_ID: 1  Segment: 12\n"
          ]
        },
        {
          "output_type": "stream",
          "name": "stderr",
          "text": [
            "<ipython-input-5-1f43c71f560c>:57: RuntimeWarning: Mean of empty slice\n",
            "  arr1 = np.nanmean(temp_arr, axis = 0)\n"
          ]
        },
        {
          "output_type": "stream",
          "name": "stdout",
          "text": [
            "Case_ID: 1  Segment: 13\n"
          ]
        },
        {
          "output_type": "stream",
          "name": "stderr",
          "text": [
            "<ipython-input-5-1f43c71f560c>:57: RuntimeWarning: Mean of empty slice\n",
            "  arr1 = np.nanmean(temp_arr, axis = 0)\n"
          ]
        },
        {
          "output_type": "stream",
          "name": "stdout",
          "text": [
            "Case_ID: 1  Segment: 14\n"
          ]
        },
        {
          "output_type": "stream",
          "name": "stderr",
          "text": [
            "<ipython-input-5-1f43c71f560c>:57: RuntimeWarning: Mean of empty slice\n",
            "  arr1 = np.nanmean(temp_arr, axis = 0)\n"
          ]
        },
        {
          "output_type": "stream",
          "name": "stdout",
          "text": [
            "Case_ID: 1  Segment: 15\n"
          ]
        },
        {
          "output_type": "stream",
          "name": "stderr",
          "text": [
            "<ipython-input-5-1f43c71f560c>:57: RuntimeWarning: Mean of empty slice\n",
            "  arr1 = np.nanmean(temp_arr, axis = 0)\n"
          ]
        },
        {
          "output_type": "stream",
          "name": "stdout",
          "text": [
            "Case_ID: 1  Segment: 16\n"
          ]
        },
        {
          "output_type": "stream",
          "name": "stderr",
          "text": [
            "<ipython-input-5-1f43c71f560c>:57: RuntimeWarning: Mean of empty slice\n",
            "  arr1 = np.nanmean(temp_arr, axis = 0)\n"
          ]
        },
        {
          "output_type": "stream",
          "name": "stdout",
          "text": [
            "Case_ID: 1  Segment: 17\n"
          ]
        },
        {
          "output_type": "stream",
          "name": "stderr",
          "text": [
            "<ipython-input-5-1f43c71f560c>:57: RuntimeWarning: Mean of empty slice\n",
            "  arr1 = np.nanmean(temp_arr, axis = 0)\n"
          ]
        }
      ]
    },
    {
      "cell_type": "code",
      "source": [
        "main_dataframe"
      ],
      "metadata": {
        "id": "W27h8PfBJcIJ"
      },
      "execution_count": null,
      "outputs": []
    },
    {
      "cell_type": "code",
      "source": [],
      "metadata": {
        "id": "_t_QKL5HWp3a"
      },
      "execution_count": null,
      "outputs": []
    }
  ]
}