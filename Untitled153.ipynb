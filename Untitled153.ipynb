{
  "nbformat": 4,
  "nbformat_minor": 0,
  "metadata": {
    "colab": {
      "provenance": [],
      "include_colab_link": true
    },
    "kernelspec": {
      "name": "python3",
      "display_name": "Python 3"
    },
    "language_info": {
      "name": "python"
    },
    "widgets": {
      "application/vnd.jupyter.widget-state+json": {
        "ee2fb841b4b8421cb0e486ada59835b6": {
          "model_module": "@jupyter-widgets/controls",
          "model_name": "HBoxModel",
          "model_module_version": "1.5.0",
          "state": {
            "_dom_classes": [],
            "_model_module": "@jupyter-widgets/controls",
            "_model_module_version": "1.5.0",
            "_model_name": "HBoxModel",
            "_view_count": null,
            "_view_module": "@jupyter-widgets/controls",
            "_view_module_version": "1.5.0",
            "_view_name": "HBoxView",
            "box_style": "",
            "children": [
              "IPY_MODEL_423789790e8a454f8723276e8845940d",
              "IPY_MODEL_770bbd6ef4614e3d9b6d439482f9e752",
              "IPY_MODEL_4276f0dea1a841dfb1ec99af708eb13f"
            ],
            "layout": "IPY_MODEL_2c69a82e5b31405bb8cf00ef66b13c2d"
          }
        },
        "423789790e8a454f8723276e8845940d": {
          "model_module": "@jupyter-widgets/controls",
          "model_name": "HTMLModel",
          "model_module_version": "1.5.0",
          "state": {
            "_dom_classes": [],
            "_model_module": "@jupyter-widgets/controls",
            "_model_module_version": "1.5.0",
            "_model_name": "HTMLModel",
            "_view_count": null,
            "_view_module": "@jupyter-widgets/controls",
            "_view_module_version": "1.5.0",
            "_view_name": "HTMLView",
            "description": "",
            "description_tooltip": null,
            "layout": "IPY_MODEL_db202456e0f04acebc38bd87b88b3390",
            "placeholder": "​",
            "style": "IPY_MODEL_f64e5313dc2d456c891d58e802efba9f",
            "value": "100%"
          }
        },
        "770bbd6ef4614e3d9b6d439482f9e752": {
          "model_module": "@jupyter-widgets/controls",
          "model_name": "FloatProgressModel",
          "model_module_version": "1.5.0",
          "state": {
            "_dom_classes": [],
            "_model_module": "@jupyter-widgets/controls",
            "_model_module_version": "1.5.0",
            "_model_name": "FloatProgressModel",
            "_view_count": null,
            "_view_module": "@jupyter-widgets/controls",
            "_view_module_version": "1.5.0",
            "_view_name": "ProgressView",
            "bar_style": "success",
            "description": "",
            "description_tooltip": null,
            "layout": "IPY_MODEL_6cffd295941d40faa6ee13b5c845b9b3",
            "max": 5,
            "min": 0,
            "orientation": "horizontal",
            "style": "IPY_MODEL_dfdb39b8e5eb4c11a0e442fdddaee096",
            "value": 5
          }
        },
        "4276f0dea1a841dfb1ec99af708eb13f": {
          "model_module": "@jupyter-widgets/controls",
          "model_name": "HTMLModel",
          "model_module_version": "1.5.0",
          "state": {
            "_dom_classes": [],
            "_model_module": "@jupyter-widgets/controls",
            "_model_module_version": "1.5.0",
            "_model_name": "HTMLModel",
            "_view_count": null,
            "_view_module": "@jupyter-widgets/controls",
            "_view_module_version": "1.5.0",
            "_view_name": "HTMLView",
            "description": "",
            "description_tooltip": null,
            "layout": "IPY_MODEL_1e7a539ed2aa4c32b71e4e3452b0bddd",
            "placeholder": "​",
            "style": "IPY_MODEL_cb71142a6747472885b10cbce68c702a",
            "value": " 5/5 [06:26&lt;00:00, 103.76s/it]"
          }
        },
        "2c69a82e5b31405bb8cf00ef66b13c2d": {
          "model_module": "@jupyter-widgets/base",
          "model_name": "LayoutModel",
          "model_module_version": "1.2.0",
          "state": {
            "_model_module": "@jupyter-widgets/base",
            "_model_module_version": "1.2.0",
            "_model_name": "LayoutModel",
            "_view_count": null,
            "_view_module": "@jupyter-widgets/base",
            "_view_module_version": "1.2.0",
            "_view_name": "LayoutView",
            "align_content": null,
            "align_items": null,
            "align_self": null,
            "border": null,
            "bottom": null,
            "display": null,
            "flex": null,
            "flex_flow": null,
            "grid_area": null,
            "grid_auto_columns": null,
            "grid_auto_flow": null,
            "grid_auto_rows": null,
            "grid_column": null,
            "grid_gap": null,
            "grid_row": null,
            "grid_template_areas": null,
            "grid_template_columns": null,
            "grid_template_rows": null,
            "height": null,
            "justify_content": null,
            "justify_items": null,
            "left": null,
            "margin": null,
            "max_height": null,
            "max_width": null,
            "min_height": null,
            "min_width": null,
            "object_fit": null,
            "object_position": null,
            "order": null,
            "overflow": null,
            "overflow_x": null,
            "overflow_y": null,
            "padding": null,
            "right": null,
            "top": null,
            "visibility": null,
            "width": null
          }
        },
        "db202456e0f04acebc38bd87b88b3390": {
          "model_module": "@jupyter-widgets/base",
          "model_name": "LayoutModel",
          "model_module_version": "1.2.0",
          "state": {
            "_model_module": "@jupyter-widgets/base",
            "_model_module_version": "1.2.0",
            "_model_name": "LayoutModel",
            "_view_count": null,
            "_view_module": "@jupyter-widgets/base",
            "_view_module_version": "1.2.0",
            "_view_name": "LayoutView",
            "align_content": null,
            "align_items": null,
            "align_self": null,
            "border": null,
            "bottom": null,
            "display": null,
            "flex": null,
            "flex_flow": null,
            "grid_area": null,
            "grid_auto_columns": null,
            "grid_auto_flow": null,
            "grid_auto_rows": null,
            "grid_column": null,
            "grid_gap": null,
            "grid_row": null,
            "grid_template_areas": null,
            "grid_template_columns": null,
            "grid_template_rows": null,
            "height": null,
            "justify_content": null,
            "justify_items": null,
            "left": null,
            "margin": null,
            "max_height": null,
            "max_width": null,
            "min_height": null,
            "min_width": null,
            "object_fit": null,
            "object_position": null,
            "order": null,
            "overflow": null,
            "overflow_x": null,
            "overflow_y": null,
            "padding": null,
            "right": null,
            "top": null,
            "visibility": null,
            "width": null
          }
        },
        "f64e5313dc2d456c891d58e802efba9f": {
          "model_module": "@jupyter-widgets/controls",
          "model_name": "DescriptionStyleModel",
          "model_module_version": "1.5.0",
          "state": {
            "_model_module": "@jupyter-widgets/controls",
            "_model_module_version": "1.5.0",
            "_model_name": "DescriptionStyleModel",
            "_view_count": null,
            "_view_module": "@jupyter-widgets/base",
            "_view_module_version": "1.2.0",
            "_view_name": "StyleView",
            "description_width": ""
          }
        },
        "6cffd295941d40faa6ee13b5c845b9b3": {
          "model_module": "@jupyter-widgets/base",
          "model_name": "LayoutModel",
          "model_module_version": "1.2.0",
          "state": {
            "_model_module": "@jupyter-widgets/base",
            "_model_module_version": "1.2.0",
            "_model_name": "LayoutModel",
            "_view_count": null,
            "_view_module": "@jupyter-widgets/base",
            "_view_module_version": "1.2.0",
            "_view_name": "LayoutView",
            "align_content": null,
            "align_items": null,
            "align_self": null,
            "border": null,
            "bottom": null,
            "display": null,
            "flex": null,
            "flex_flow": null,
            "grid_area": null,
            "grid_auto_columns": null,
            "grid_auto_flow": null,
            "grid_auto_rows": null,
            "grid_column": null,
            "grid_gap": null,
            "grid_row": null,
            "grid_template_areas": null,
            "grid_template_columns": null,
            "grid_template_rows": null,
            "height": null,
            "justify_content": null,
            "justify_items": null,
            "left": null,
            "margin": null,
            "max_height": null,
            "max_width": null,
            "min_height": null,
            "min_width": null,
            "object_fit": null,
            "object_position": null,
            "order": null,
            "overflow": null,
            "overflow_x": null,
            "overflow_y": null,
            "padding": null,
            "right": null,
            "top": null,
            "visibility": null,
            "width": null
          }
        },
        "dfdb39b8e5eb4c11a0e442fdddaee096": {
          "model_module": "@jupyter-widgets/controls",
          "model_name": "ProgressStyleModel",
          "model_module_version": "1.5.0",
          "state": {
            "_model_module": "@jupyter-widgets/controls",
            "_model_module_version": "1.5.0",
            "_model_name": "ProgressStyleModel",
            "_view_count": null,
            "_view_module": "@jupyter-widgets/base",
            "_view_module_version": "1.2.0",
            "_view_name": "StyleView",
            "bar_color": null,
            "description_width": ""
          }
        },
        "1e7a539ed2aa4c32b71e4e3452b0bddd": {
          "model_module": "@jupyter-widgets/base",
          "model_name": "LayoutModel",
          "model_module_version": "1.2.0",
          "state": {
            "_model_module": "@jupyter-widgets/base",
            "_model_module_version": "1.2.0",
            "_model_name": "LayoutModel",
            "_view_count": null,
            "_view_module": "@jupyter-widgets/base",
            "_view_module_version": "1.2.0",
            "_view_name": "LayoutView",
            "align_content": null,
            "align_items": null,
            "align_self": null,
            "border": null,
            "bottom": null,
            "display": null,
            "flex": null,
            "flex_flow": null,
            "grid_area": null,
            "grid_auto_columns": null,
            "grid_auto_flow": null,
            "grid_auto_rows": null,
            "grid_column": null,
            "grid_gap": null,
            "grid_row": null,
            "grid_template_areas": null,
            "grid_template_columns": null,
            "grid_template_rows": null,
            "height": null,
            "justify_content": null,
            "justify_items": null,
            "left": null,
            "margin": null,
            "max_height": null,
            "max_width": null,
            "min_height": null,
            "min_width": null,
            "object_fit": null,
            "object_position": null,
            "order": null,
            "overflow": null,
            "overflow_x": null,
            "overflow_y": null,
            "padding": null,
            "right": null,
            "top": null,
            "visibility": null,
            "width": null
          }
        },
        "cb71142a6747472885b10cbce68c702a": {
          "model_module": "@jupyter-widgets/controls",
          "model_name": "DescriptionStyleModel",
          "model_module_version": "1.5.0",
          "state": {
            "_model_module": "@jupyter-widgets/controls",
            "_model_module_version": "1.5.0",
            "_model_name": "DescriptionStyleModel",
            "_view_count": null,
            "_view_module": "@jupyter-widgets/base",
            "_view_module_version": "1.2.0",
            "_view_name": "StyleView",
            "description_width": ""
          }
        },
        "e93b401034cb428c95035a59698c3dfe": {
          "model_module": "@jupyter-widgets/controls",
          "model_name": "HBoxModel",
          "model_module_version": "1.5.0",
          "state": {
            "_dom_classes": [],
            "_model_module": "@jupyter-widgets/controls",
            "_model_module_version": "1.5.0",
            "_model_name": "HBoxModel",
            "_view_count": null,
            "_view_module": "@jupyter-widgets/controls",
            "_view_module_version": "1.5.0",
            "_view_name": "HBoxView",
            "box_style": "",
            "children": [
              "IPY_MODEL_600406d306bf47429541c2846416b2e6",
              "IPY_MODEL_9252b83374514876843108a825dc0100",
              "IPY_MODEL_f3974ae1bc6f42949bc4f7a25af2fb46"
            ],
            "layout": "IPY_MODEL_c82d573e71c241de8f86d7eca1afbdef"
          }
        },
        "600406d306bf47429541c2846416b2e6": {
          "model_module": "@jupyter-widgets/controls",
          "model_name": "HTMLModel",
          "model_module_version": "1.5.0",
          "state": {
            "_dom_classes": [],
            "_model_module": "@jupyter-widgets/controls",
            "_model_module_version": "1.5.0",
            "_model_name": "HTMLModel",
            "_view_count": null,
            "_view_module": "@jupyter-widgets/controls",
            "_view_module_version": "1.5.0",
            "_view_name": "HTMLView",
            "description": "",
            "description_tooltip": null,
            "layout": "IPY_MODEL_64932f1de43c4c2b9224a7707c6b293d",
            "placeholder": "​",
            "style": "IPY_MODEL_76e2af909f0d4739b51cf1b24f29fde8",
            "value": ""
          }
        },
        "9252b83374514876843108a825dc0100": {
          "model_module": "@jupyter-widgets/controls",
          "model_name": "FloatProgressModel",
          "model_module_version": "1.5.0",
          "state": {
            "_dom_classes": [],
            "_model_module": "@jupyter-widgets/controls",
            "_model_module_version": "1.5.0",
            "_model_name": "FloatProgressModel",
            "_view_count": null,
            "_view_module": "@jupyter-widgets/controls",
            "_view_module_version": "1.5.0",
            "_view_name": "ProgressView",
            "bar_style": "success",
            "description": "",
            "description_tooltip": null,
            "layout": "IPY_MODEL_d95569a15b184b24bcf90381a2834f14",
            "max": 1,
            "min": 0,
            "orientation": "horizontal",
            "style": "IPY_MODEL_ef52078b31474e2696db933eea09e15f",
            "value": 0
          }
        },
        "f3974ae1bc6f42949bc4f7a25af2fb46": {
          "model_module": "@jupyter-widgets/controls",
          "model_name": "HTMLModel",
          "model_module_version": "1.5.0",
          "state": {
            "_dom_classes": [],
            "_model_module": "@jupyter-widgets/controls",
            "_model_module_version": "1.5.0",
            "_model_name": "HTMLModel",
            "_view_count": null,
            "_view_module": "@jupyter-widgets/controls",
            "_view_module_version": "1.5.0",
            "_view_name": "HTMLView",
            "description": "",
            "description_tooltip": null,
            "layout": "IPY_MODEL_5f17ec8a2c4e4430b3f23983d792a3ad",
            "placeholder": "​",
            "style": "IPY_MODEL_76d679fbf3f94bd98a11b0b15969f4b0",
            "value": " 0/0 [00:00&lt;?, ?it/s]"
          }
        },
        "c82d573e71c241de8f86d7eca1afbdef": {
          "model_module": "@jupyter-widgets/base",
          "model_name": "LayoutModel",
          "model_module_version": "1.2.0",
          "state": {
            "_model_module": "@jupyter-widgets/base",
            "_model_module_version": "1.2.0",
            "_model_name": "LayoutModel",
            "_view_count": null,
            "_view_module": "@jupyter-widgets/base",
            "_view_module_version": "1.2.0",
            "_view_name": "LayoutView",
            "align_content": null,
            "align_items": null,
            "align_self": null,
            "border": null,
            "bottom": null,
            "display": null,
            "flex": null,
            "flex_flow": null,
            "grid_area": null,
            "grid_auto_columns": null,
            "grid_auto_flow": null,
            "grid_auto_rows": null,
            "grid_column": null,
            "grid_gap": null,
            "grid_row": null,
            "grid_template_areas": null,
            "grid_template_columns": null,
            "grid_template_rows": null,
            "height": null,
            "justify_content": null,
            "justify_items": null,
            "left": null,
            "margin": null,
            "max_height": null,
            "max_width": null,
            "min_height": null,
            "min_width": null,
            "object_fit": null,
            "object_position": null,
            "order": null,
            "overflow": null,
            "overflow_x": null,
            "overflow_y": null,
            "padding": null,
            "right": null,
            "top": null,
            "visibility": null,
            "width": null
          }
        },
        "64932f1de43c4c2b9224a7707c6b293d": {
          "model_module": "@jupyter-widgets/base",
          "model_name": "LayoutModel",
          "model_module_version": "1.2.0",
          "state": {
            "_model_module": "@jupyter-widgets/base",
            "_model_module_version": "1.2.0",
            "_model_name": "LayoutModel",
            "_view_count": null,
            "_view_module": "@jupyter-widgets/base",
            "_view_module_version": "1.2.0",
            "_view_name": "LayoutView",
            "align_content": null,
            "align_items": null,
            "align_self": null,
            "border": null,
            "bottom": null,
            "display": null,
            "flex": null,
            "flex_flow": null,
            "grid_area": null,
            "grid_auto_columns": null,
            "grid_auto_flow": null,
            "grid_auto_rows": null,
            "grid_column": null,
            "grid_gap": null,
            "grid_row": null,
            "grid_template_areas": null,
            "grid_template_columns": null,
            "grid_template_rows": null,
            "height": null,
            "justify_content": null,
            "justify_items": null,
            "left": null,
            "margin": null,
            "max_height": null,
            "max_width": null,
            "min_height": null,
            "min_width": null,
            "object_fit": null,
            "object_position": null,
            "order": null,
            "overflow": null,
            "overflow_x": null,
            "overflow_y": null,
            "padding": null,
            "right": null,
            "top": null,
            "visibility": null,
            "width": null
          }
        },
        "76e2af909f0d4739b51cf1b24f29fde8": {
          "model_module": "@jupyter-widgets/controls",
          "model_name": "DescriptionStyleModel",
          "model_module_version": "1.5.0",
          "state": {
            "_model_module": "@jupyter-widgets/controls",
            "_model_module_version": "1.5.0",
            "_model_name": "DescriptionStyleModel",
            "_view_count": null,
            "_view_module": "@jupyter-widgets/base",
            "_view_module_version": "1.2.0",
            "_view_name": "StyleView",
            "description_width": ""
          }
        },
        "d95569a15b184b24bcf90381a2834f14": {
          "model_module": "@jupyter-widgets/base",
          "model_name": "LayoutModel",
          "model_module_version": "1.2.0",
          "state": {
            "_model_module": "@jupyter-widgets/base",
            "_model_module_version": "1.2.0",
            "_model_name": "LayoutModel",
            "_view_count": null,
            "_view_module": "@jupyter-widgets/base",
            "_view_module_version": "1.2.0",
            "_view_name": "LayoutView",
            "align_content": null,
            "align_items": null,
            "align_self": null,
            "border": null,
            "bottom": null,
            "display": null,
            "flex": null,
            "flex_flow": null,
            "grid_area": null,
            "grid_auto_columns": null,
            "grid_auto_flow": null,
            "grid_auto_rows": null,
            "grid_column": null,
            "grid_gap": null,
            "grid_row": null,
            "grid_template_areas": null,
            "grid_template_columns": null,
            "grid_template_rows": null,
            "height": null,
            "justify_content": null,
            "justify_items": null,
            "left": null,
            "margin": null,
            "max_height": null,
            "max_width": null,
            "min_height": null,
            "min_width": null,
            "object_fit": null,
            "object_position": null,
            "order": null,
            "overflow": null,
            "overflow_x": null,
            "overflow_y": null,
            "padding": null,
            "right": null,
            "top": null,
            "visibility": null,
            "width": "20px"
          }
        },
        "ef52078b31474e2696db933eea09e15f": {
          "model_module": "@jupyter-widgets/controls",
          "model_name": "ProgressStyleModel",
          "model_module_version": "1.5.0",
          "state": {
            "_model_module": "@jupyter-widgets/controls",
            "_model_module_version": "1.5.0",
            "_model_name": "ProgressStyleModel",
            "_view_count": null,
            "_view_module": "@jupyter-widgets/base",
            "_view_module_version": "1.2.0",
            "_view_name": "StyleView",
            "bar_color": null,
            "description_width": ""
          }
        },
        "5f17ec8a2c4e4430b3f23983d792a3ad": {
          "model_module": "@jupyter-widgets/base",
          "model_name": "LayoutModel",
          "model_module_version": "1.2.0",
          "state": {
            "_model_module": "@jupyter-widgets/base",
            "_model_module_version": "1.2.0",
            "_model_name": "LayoutModel",
            "_view_count": null,
            "_view_module": "@jupyter-widgets/base",
            "_view_module_version": "1.2.0",
            "_view_name": "LayoutView",
            "align_content": null,
            "align_items": null,
            "align_self": null,
            "border": null,
            "bottom": null,
            "display": null,
            "flex": null,
            "flex_flow": null,
            "grid_area": null,
            "grid_auto_columns": null,
            "grid_auto_flow": null,
            "grid_auto_rows": null,
            "grid_column": null,
            "grid_gap": null,
            "grid_row": null,
            "grid_template_areas": null,
            "grid_template_columns": null,
            "grid_template_rows": null,
            "height": null,
            "justify_content": null,
            "justify_items": null,
            "left": null,
            "margin": null,
            "max_height": null,
            "max_width": null,
            "min_height": null,
            "min_width": null,
            "object_fit": null,
            "object_position": null,
            "order": null,
            "overflow": null,
            "overflow_x": null,
            "overflow_y": null,
            "padding": null,
            "right": null,
            "top": null,
            "visibility": null,
            "width": null
          }
        },
        "76d679fbf3f94bd98a11b0b15969f4b0": {
          "model_module": "@jupyter-widgets/controls",
          "model_name": "DescriptionStyleModel",
          "model_module_version": "1.5.0",
          "state": {
            "_model_module": "@jupyter-widgets/controls",
            "_model_module_version": "1.5.0",
            "_model_name": "DescriptionStyleModel",
            "_view_count": null,
            "_view_module": "@jupyter-widgets/base",
            "_view_module_version": "1.2.0",
            "_view_name": "StyleView",
            "description_width": ""
          }
        },
        "07b3ea9c7a814683b3ee2cf193684e46": {
          "model_module": "@jupyter-widgets/controls",
          "model_name": "HBoxModel",
          "model_module_version": "1.5.0",
          "state": {
            "_dom_classes": [],
            "_model_module": "@jupyter-widgets/controls",
            "_model_module_version": "1.5.0",
            "_model_name": "HBoxModel",
            "_view_count": null,
            "_view_module": "@jupyter-widgets/controls",
            "_view_module_version": "1.5.0",
            "_view_name": "HBoxView",
            "box_style": "",
            "children": [
              "IPY_MODEL_4932748d45e9433ab024f14770d954a0",
              "IPY_MODEL_6894d86fad02461ba28cac88663ae95f",
              "IPY_MODEL_7ba43119795b419c90d67a66cab2877d"
            ],
            "layout": "IPY_MODEL_8eaffc10dc7045c58c88445041e4ba63"
          }
        },
        "4932748d45e9433ab024f14770d954a0": {
          "model_module": "@jupyter-widgets/controls",
          "model_name": "HTMLModel",
          "model_module_version": "1.5.0",
          "state": {
            "_dom_classes": [],
            "_model_module": "@jupyter-widgets/controls",
            "_model_module_version": "1.5.0",
            "_model_name": "HTMLModel",
            "_view_count": null,
            "_view_module": "@jupyter-widgets/controls",
            "_view_module_version": "1.5.0",
            "_view_name": "HTMLView",
            "description": "",
            "description_tooltip": null,
            "layout": "IPY_MODEL_7efbf8a5e43b458caab54d198305abc4",
            "placeholder": "​",
            "style": "IPY_MODEL_a26264b28d1447acb10bb4a1f3a3619c",
            "value": "100%"
          }
        },
        "6894d86fad02461ba28cac88663ae95f": {
          "model_module": "@jupyter-widgets/controls",
          "model_name": "FloatProgressModel",
          "model_module_version": "1.5.0",
          "state": {
            "_dom_classes": [],
            "_model_module": "@jupyter-widgets/controls",
            "_model_module_version": "1.5.0",
            "_model_name": "FloatProgressModel",
            "_view_count": null,
            "_view_module": "@jupyter-widgets/controls",
            "_view_module_version": "1.5.0",
            "_view_name": "ProgressView",
            "bar_style": "success",
            "description": "",
            "description_tooltip": null,
            "layout": "IPY_MODEL_b1cb21469c2146ccad4936b6ec58b7c9",
            "max": 167,
            "min": 0,
            "orientation": "horizontal",
            "style": "IPY_MODEL_ec2be564da7c4b9cad3cfc9a133415b1",
            "value": 167
          }
        },
        "7ba43119795b419c90d67a66cab2877d": {
          "model_module": "@jupyter-widgets/controls",
          "model_name": "HTMLModel",
          "model_module_version": "1.5.0",
          "state": {
            "_dom_classes": [],
            "_model_module": "@jupyter-widgets/controls",
            "_model_module_version": "1.5.0",
            "_model_name": "HTMLModel",
            "_view_count": null,
            "_view_module": "@jupyter-widgets/controls",
            "_view_module_version": "1.5.0",
            "_view_name": "HTMLView",
            "description": "",
            "description_tooltip": null,
            "layout": "IPY_MODEL_b3b7eebbd5924187872fdd9cbbcad846",
            "placeholder": "​",
            "style": "IPY_MODEL_43ab5f212ba74136801821b41af5809f",
            "value": " 167/167 [02:27&lt;00:00,  1.18it/s]"
          }
        },
        "8eaffc10dc7045c58c88445041e4ba63": {
          "model_module": "@jupyter-widgets/base",
          "model_name": "LayoutModel",
          "model_module_version": "1.2.0",
          "state": {
            "_model_module": "@jupyter-widgets/base",
            "_model_module_version": "1.2.0",
            "_model_name": "LayoutModel",
            "_view_count": null,
            "_view_module": "@jupyter-widgets/base",
            "_view_module_version": "1.2.0",
            "_view_name": "LayoutView",
            "align_content": null,
            "align_items": null,
            "align_self": null,
            "border": null,
            "bottom": null,
            "display": null,
            "flex": null,
            "flex_flow": null,
            "grid_area": null,
            "grid_auto_columns": null,
            "grid_auto_flow": null,
            "grid_auto_rows": null,
            "grid_column": null,
            "grid_gap": null,
            "grid_row": null,
            "grid_template_areas": null,
            "grid_template_columns": null,
            "grid_template_rows": null,
            "height": null,
            "justify_content": null,
            "justify_items": null,
            "left": null,
            "margin": null,
            "max_height": null,
            "max_width": null,
            "min_height": null,
            "min_width": null,
            "object_fit": null,
            "object_position": null,
            "order": null,
            "overflow": null,
            "overflow_x": null,
            "overflow_y": null,
            "padding": null,
            "right": null,
            "top": null,
            "visibility": null,
            "width": null
          }
        },
        "7efbf8a5e43b458caab54d198305abc4": {
          "model_module": "@jupyter-widgets/base",
          "model_name": "LayoutModel",
          "model_module_version": "1.2.0",
          "state": {
            "_model_module": "@jupyter-widgets/base",
            "_model_module_version": "1.2.0",
            "_model_name": "LayoutModel",
            "_view_count": null,
            "_view_module": "@jupyter-widgets/base",
            "_view_module_version": "1.2.0",
            "_view_name": "LayoutView",
            "align_content": null,
            "align_items": null,
            "align_self": null,
            "border": null,
            "bottom": null,
            "display": null,
            "flex": null,
            "flex_flow": null,
            "grid_area": null,
            "grid_auto_columns": null,
            "grid_auto_flow": null,
            "grid_auto_rows": null,
            "grid_column": null,
            "grid_gap": null,
            "grid_row": null,
            "grid_template_areas": null,
            "grid_template_columns": null,
            "grid_template_rows": null,
            "height": null,
            "justify_content": null,
            "justify_items": null,
            "left": null,
            "margin": null,
            "max_height": null,
            "max_width": null,
            "min_height": null,
            "min_width": null,
            "object_fit": null,
            "object_position": null,
            "order": null,
            "overflow": null,
            "overflow_x": null,
            "overflow_y": null,
            "padding": null,
            "right": null,
            "top": null,
            "visibility": null,
            "width": null
          }
        },
        "a26264b28d1447acb10bb4a1f3a3619c": {
          "model_module": "@jupyter-widgets/controls",
          "model_name": "DescriptionStyleModel",
          "model_module_version": "1.5.0",
          "state": {
            "_model_module": "@jupyter-widgets/controls",
            "_model_module_version": "1.5.0",
            "_model_name": "DescriptionStyleModel",
            "_view_count": null,
            "_view_module": "@jupyter-widgets/base",
            "_view_module_version": "1.2.0",
            "_view_name": "StyleView",
            "description_width": ""
          }
        },
        "b1cb21469c2146ccad4936b6ec58b7c9": {
          "model_module": "@jupyter-widgets/base",
          "model_name": "LayoutModel",
          "model_module_version": "1.2.0",
          "state": {
            "_model_module": "@jupyter-widgets/base",
            "_model_module_version": "1.2.0",
            "_model_name": "LayoutModel",
            "_view_count": null,
            "_view_module": "@jupyter-widgets/base",
            "_view_module_version": "1.2.0",
            "_view_name": "LayoutView",
            "align_content": null,
            "align_items": null,
            "align_self": null,
            "border": null,
            "bottom": null,
            "display": null,
            "flex": null,
            "flex_flow": null,
            "grid_area": null,
            "grid_auto_columns": null,
            "grid_auto_flow": null,
            "grid_auto_rows": null,
            "grid_column": null,
            "grid_gap": null,
            "grid_row": null,
            "grid_template_areas": null,
            "grid_template_columns": null,
            "grid_template_rows": null,
            "height": null,
            "justify_content": null,
            "justify_items": null,
            "left": null,
            "margin": null,
            "max_height": null,
            "max_width": null,
            "min_height": null,
            "min_width": null,
            "object_fit": null,
            "object_position": null,
            "order": null,
            "overflow": null,
            "overflow_x": null,
            "overflow_y": null,
            "padding": null,
            "right": null,
            "top": null,
            "visibility": null,
            "width": null
          }
        },
        "ec2be564da7c4b9cad3cfc9a133415b1": {
          "model_module": "@jupyter-widgets/controls",
          "model_name": "ProgressStyleModel",
          "model_module_version": "1.5.0",
          "state": {
            "_model_module": "@jupyter-widgets/controls",
            "_model_module_version": "1.5.0",
            "_model_name": "ProgressStyleModel",
            "_view_count": null,
            "_view_module": "@jupyter-widgets/base",
            "_view_module_version": "1.2.0",
            "_view_name": "StyleView",
            "bar_color": null,
            "description_width": ""
          }
        },
        "b3b7eebbd5924187872fdd9cbbcad846": {
          "model_module": "@jupyter-widgets/base",
          "model_name": "LayoutModel",
          "model_module_version": "1.2.0",
          "state": {
            "_model_module": "@jupyter-widgets/base",
            "_model_module_version": "1.2.0",
            "_model_name": "LayoutModel",
            "_view_count": null,
            "_view_module": "@jupyter-widgets/base",
            "_view_module_version": "1.2.0",
            "_view_name": "LayoutView",
            "align_content": null,
            "align_items": null,
            "align_self": null,
            "border": null,
            "bottom": null,
            "display": null,
            "flex": null,
            "flex_flow": null,
            "grid_area": null,
            "grid_auto_columns": null,
            "grid_auto_flow": null,
            "grid_auto_rows": null,
            "grid_column": null,
            "grid_gap": null,
            "grid_row": null,
            "grid_template_areas": null,
            "grid_template_columns": null,
            "grid_template_rows": null,
            "height": null,
            "justify_content": null,
            "justify_items": null,
            "left": null,
            "margin": null,
            "max_height": null,
            "max_width": null,
            "min_height": null,
            "min_width": null,
            "object_fit": null,
            "object_position": null,
            "order": null,
            "overflow": null,
            "overflow_x": null,
            "overflow_y": null,
            "padding": null,
            "right": null,
            "top": null,
            "visibility": null,
            "width": null
          }
        },
        "43ab5f212ba74136801821b41af5809f": {
          "model_module": "@jupyter-widgets/controls",
          "model_name": "DescriptionStyleModel",
          "model_module_version": "1.5.0",
          "state": {
            "_model_module": "@jupyter-widgets/controls",
            "_model_module_version": "1.5.0",
            "_model_name": "DescriptionStyleModel",
            "_view_count": null,
            "_view_module": "@jupyter-widgets/base",
            "_view_module_version": "1.2.0",
            "_view_name": "StyleView",
            "description_width": ""
          }
        },
        "9637396fac7047ac8367e0f01bd348fb": {
          "model_module": "@jupyter-widgets/controls",
          "model_name": "HBoxModel",
          "model_module_version": "1.5.0",
          "state": {
            "_dom_classes": [],
            "_model_module": "@jupyter-widgets/controls",
            "_model_module_version": "1.5.0",
            "_model_name": "HBoxModel",
            "_view_count": null,
            "_view_module": "@jupyter-widgets/controls",
            "_view_module_version": "1.5.0",
            "_view_name": "HBoxView",
            "box_style": "",
            "children": [
              "IPY_MODEL_3554ea6f18084fa2a7619d626993697a",
              "IPY_MODEL_6b565a5b15fa46208a65f7593d7ae168",
              "IPY_MODEL_b9cab0f22f354bf795de3957a80a8fa8"
            ],
            "layout": "IPY_MODEL_79a094b58d844722aab83595fc56c617"
          }
        },
        "3554ea6f18084fa2a7619d626993697a": {
          "model_module": "@jupyter-widgets/controls",
          "model_name": "HTMLModel",
          "model_module_version": "1.5.0",
          "state": {
            "_dom_classes": [],
            "_model_module": "@jupyter-widgets/controls",
            "_model_module_version": "1.5.0",
            "_model_name": "HTMLModel",
            "_view_count": null,
            "_view_module": "@jupyter-widgets/controls",
            "_view_module_version": "1.5.0",
            "_view_name": "HTMLView",
            "description": "",
            "description_tooltip": null,
            "layout": "IPY_MODEL_14e704f7ba3540978db1838f39e10033",
            "placeholder": "​",
            "style": "IPY_MODEL_c98a0d79a80b45ed872be53d8a55e867",
            "value": ""
          }
        },
        "6b565a5b15fa46208a65f7593d7ae168": {
          "model_module": "@jupyter-widgets/controls",
          "model_name": "FloatProgressModel",
          "model_module_version": "1.5.0",
          "state": {
            "_dom_classes": [],
            "_model_module": "@jupyter-widgets/controls",
            "_model_module_version": "1.5.0",
            "_model_name": "FloatProgressModel",
            "_view_count": null,
            "_view_module": "@jupyter-widgets/controls",
            "_view_module_version": "1.5.0",
            "_view_name": "ProgressView",
            "bar_style": "success",
            "description": "",
            "description_tooltip": null,
            "layout": "IPY_MODEL_b992d37d661a449a886131a61151f4da",
            "max": 1,
            "min": 0,
            "orientation": "horizontal",
            "style": "IPY_MODEL_362cdbc5428d4100ab2f55cf78ea047f",
            "value": 0
          }
        },
        "b9cab0f22f354bf795de3957a80a8fa8": {
          "model_module": "@jupyter-widgets/controls",
          "model_name": "HTMLModel",
          "model_module_version": "1.5.0",
          "state": {
            "_dom_classes": [],
            "_model_module": "@jupyter-widgets/controls",
            "_model_module_version": "1.5.0",
            "_model_name": "HTMLModel",
            "_view_count": null,
            "_view_module": "@jupyter-widgets/controls",
            "_view_module_version": "1.5.0",
            "_view_name": "HTMLView",
            "description": "",
            "description_tooltip": null,
            "layout": "IPY_MODEL_b16f939227d842708158f3a66c6c0cac",
            "placeholder": "​",
            "style": "IPY_MODEL_ceb4afed53594e798e40cadf9766be4e",
            "value": " 0/0 [00:00&lt;?, ?it/s]"
          }
        },
        "79a094b58d844722aab83595fc56c617": {
          "model_module": "@jupyter-widgets/base",
          "model_name": "LayoutModel",
          "model_module_version": "1.2.0",
          "state": {
            "_model_module": "@jupyter-widgets/base",
            "_model_module_version": "1.2.0",
            "_model_name": "LayoutModel",
            "_view_count": null,
            "_view_module": "@jupyter-widgets/base",
            "_view_module_version": "1.2.0",
            "_view_name": "LayoutView",
            "align_content": null,
            "align_items": null,
            "align_self": null,
            "border": null,
            "bottom": null,
            "display": null,
            "flex": null,
            "flex_flow": null,
            "grid_area": null,
            "grid_auto_columns": null,
            "grid_auto_flow": null,
            "grid_auto_rows": null,
            "grid_column": null,
            "grid_gap": null,
            "grid_row": null,
            "grid_template_areas": null,
            "grid_template_columns": null,
            "grid_template_rows": null,
            "height": null,
            "justify_content": null,
            "justify_items": null,
            "left": null,
            "margin": null,
            "max_height": null,
            "max_width": null,
            "min_height": null,
            "min_width": null,
            "object_fit": null,
            "object_position": null,
            "order": null,
            "overflow": null,
            "overflow_x": null,
            "overflow_y": null,
            "padding": null,
            "right": null,
            "top": null,
            "visibility": null,
            "width": null
          }
        },
        "14e704f7ba3540978db1838f39e10033": {
          "model_module": "@jupyter-widgets/base",
          "model_name": "LayoutModel",
          "model_module_version": "1.2.0",
          "state": {
            "_model_module": "@jupyter-widgets/base",
            "_model_module_version": "1.2.0",
            "_model_name": "LayoutModel",
            "_view_count": null,
            "_view_module": "@jupyter-widgets/base",
            "_view_module_version": "1.2.0",
            "_view_name": "LayoutView",
            "align_content": null,
            "align_items": null,
            "align_self": null,
            "border": null,
            "bottom": null,
            "display": null,
            "flex": null,
            "flex_flow": null,
            "grid_area": null,
            "grid_auto_columns": null,
            "grid_auto_flow": null,
            "grid_auto_rows": null,
            "grid_column": null,
            "grid_gap": null,
            "grid_row": null,
            "grid_template_areas": null,
            "grid_template_columns": null,
            "grid_template_rows": null,
            "height": null,
            "justify_content": null,
            "justify_items": null,
            "left": null,
            "margin": null,
            "max_height": null,
            "max_width": null,
            "min_height": null,
            "min_width": null,
            "object_fit": null,
            "object_position": null,
            "order": null,
            "overflow": null,
            "overflow_x": null,
            "overflow_y": null,
            "padding": null,
            "right": null,
            "top": null,
            "visibility": null,
            "width": null
          }
        },
        "c98a0d79a80b45ed872be53d8a55e867": {
          "model_module": "@jupyter-widgets/controls",
          "model_name": "DescriptionStyleModel",
          "model_module_version": "1.5.0",
          "state": {
            "_model_module": "@jupyter-widgets/controls",
            "_model_module_version": "1.5.0",
            "_model_name": "DescriptionStyleModel",
            "_view_count": null,
            "_view_module": "@jupyter-widgets/base",
            "_view_module_version": "1.2.0",
            "_view_name": "StyleView",
            "description_width": ""
          }
        },
        "b992d37d661a449a886131a61151f4da": {
          "model_module": "@jupyter-widgets/base",
          "model_name": "LayoutModel",
          "model_module_version": "1.2.0",
          "state": {
            "_model_module": "@jupyter-widgets/base",
            "_model_module_version": "1.2.0",
            "_model_name": "LayoutModel",
            "_view_count": null,
            "_view_module": "@jupyter-widgets/base",
            "_view_module_version": "1.2.0",
            "_view_name": "LayoutView",
            "align_content": null,
            "align_items": null,
            "align_self": null,
            "border": null,
            "bottom": null,
            "display": null,
            "flex": null,
            "flex_flow": null,
            "grid_area": null,
            "grid_auto_columns": null,
            "grid_auto_flow": null,
            "grid_auto_rows": null,
            "grid_column": null,
            "grid_gap": null,
            "grid_row": null,
            "grid_template_areas": null,
            "grid_template_columns": null,
            "grid_template_rows": null,
            "height": null,
            "justify_content": null,
            "justify_items": null,
            "left": null,
            "margin": null,
            "max_height": null,
            "max_width": null,
            "min_height": null,
            "min_width": null,
            "object_fit": null,
            "object_position": null,
            "order": null,
            "overflow": null,
            "overflow_x": null,
            "overflow_y": null,
            "padding": null,
            "right": null,
            "top": null,
            "visibility": null,
            "width": "20px"
          }
        },
        "362cdbc5428d4100ab2f55cf78ea047f": {
          "model_module": "@jupyter-widgets/controls",
          "model_name": "ProgressStyleModel",
          "model_module_version": "1.5.0",
          "state": {
            "_model_module": "@jupyter-widgets/controls",
            "_model_module_version": "1.5.0",
            "_model_name": "ProgressStyleModel",
            "_view_count": null,
            "_view_module": "@jupyter-widgets/base",
            "_view_module_version": "1.2.0",
            "_view_name": "StyleView",
            "bar_color": null,
            "description_width": ""
          }
        },
        "b16f939227d842708158f3a66c6c0cac": {
          "model_module": "@jupyter-widgets/base",
          "model_name": "LayoutModel",
          "model_module_version": "1.2.0",
          "state": {
            "_model_module": "@jupyter-widgets/base",
            "_model_module_version": "1.2.0",
            "_model_name": "LayoutModel",
            "_view_count": null,
            "_view_module": "@jupyter-widgets/base",
            "_view_module_version": "1.2.0",
            "_view_name": "LayoutView",
            "align_content": null,
            "align_items": null,
            "align_self": null,
            "border": null,
            "bottom": null,
            "display": null,
            "flex": null,
            "flex_flow": null,
            "grid_area": null,
            "grid_auto_columns": null,
            "grid_auto_flow": null,
            "grid_auto_rows": null,
            "grid_column": null,
            "grid_gap": null,
            "grid_row": null,
            "grid_template_areas": null,
            "grid_template_columns": null,
            "grid_template_rows": null,
            "height": null,
            "justify_content": null,
            "justify_items": null,
            "left": null,
            "margin": null,
            "max_height": null,
            "max_width": null,
            "min_height": null,
            "min_width": null,
            "object_fit": null,
            "object_position": null,
            "order": null,
            "overflow": null,
            "overflow_x": null,
            "overflow_y": null,
            "padding": null,
            "right": null,
            "top": null,
            "visibility": null,
            "width": null
          }
        },
        "ceb4afed53594e798e40cadf9766be4e": {
          "model_module": "@jupyter-widgets/controls",
          "model_name": "DescriptionStyleModel",
          "model_module_version": "1.5.0",
          "state": {
            "_model_module": "@jupyter-widgets/controls",
            "_model_module_version": "1.5.0",
            "_model_name": "DescriptionStyleModel",
            "_view_count": null,
            "_view_module": "@jupyter-widgets/base",
            "_view_module_version": "1.2.0",
            "_view_name": "StyleView",
            "description_width": ""
          }
        },
        "925caa518e2f4e9290ea3903e620e907": {
          "model_module": "@jupyter-widgets/controls",
          "model_name": "HBoxModel",
          "model_module_version": "1.5.0",
          "state": {
            "_dom_classes": [],
            "_model_module": "@jupyter-widgets/controls",
            "_model_module_version": "1.5.0",
            "_model_name": "HBoxModel",
            "_view_count": null,
            "_view_module": "@jupyter-widgets/controls",
            "_view_module_version": "1.5.0",
            "_view_name": "HBoxView",
            "box_style": "",
            "children": [
              "IPY_MODEL_22a6dfdc25c347f6aab3095a207559fe",
              "IPY_MODEL_e346725dd6a140528ea0ac64f4f71fac",
              "IPY_MODEL_be8af5640d87478fb676184f4cd06212"
            ],
            "layout": "IPY_MODEL_74b4fe9128c04a2f81e1dc49fa418678"
          }
        },
        "22a6dfdc25c347f6aab3095a207559fe": {
          "model_module": "@jupyter-widgets/controls",
          "model_name": "HTMLModel",
          "model_module_version": "1.5.0",
          "state": {
            "_dom_classes": [],
            "_model_module": "@jupyter-widgets/controls",
            "_model_module_version": "1.5.0",
            "_model_name": "HTMLModel",
            "_view_count": null,
            "_view_module": "@jupyter-widgets/controls",
            "_view_module_version": "1.5.0",
            "_view_name": "HTMLView",
            "description": "",
            "description_tooltip": null,
            "layout": "IPY_MODEL_c07d9563901e4e8fac9ddeed35ad4c6b",
            "placeholder": "​",
            "style": "IPY_MODEL_c426d8b2aeb142499aa0e6942c939c31",
            "value": "100%"
          }
        },
        "e346725dd6a140528ea0ac64f4f71fac": {
          "model_module": "@jupyter-widgets/controls",
          "model_name": "FloatProgressModel",
          "model_module_version": "1.5.0",
          "state": {
            "_dom_classes": [],
            "_model_module": "@jupyter-widgets/controls",
            "_model_module_version": "1.5.0",
            "_model_name": "FloatProgressModel",
            "_view_count": null,
            "_view_module": "@jupyter-widgets/controls",
            "_view_module_version": "1.5.0",
            "_view_name": "ProgressView",
            "bar_style": "success",
            "description": "",
            "description_tooltip": null,
            "layout": "IPY_MODEL_5454fde81197421d821ca342f1faee81",
            "max": 174,
            "min": 0,
            "orientation": "horizontal",
            "style": "IPY_MODEL_a4fc80554a974d62b66bbb6e5d029ce7",
            "value": 174
          }
        },
        "be8af5640d87478fb676184f4cd06212": {
          "model_module": "@jupyter-widgets/controls",
          "model_name": "HTMLModel",
          "model_module_version": "1.5.0",
          "state": {
            "_dom_classes": [],
            "_model_module": "@jupyter-widgets/controls",
            "_model_module_version": "1.5.0",
            "_model_name": "HTMLModel",
            "_view_count": null,
            "_view_module": "@jupyter-widgets/controls",
            "_view_module_version": "1.5.0",
            "_view_name": "HTMLView",
            "description": "",
            "description_tooltip": null,
            "layout": "IPY_MODEL_3f5bf93432474ea8a573e7bbd734724c",
            "placeholder": "​",
            "style": "IPY_MODEL_7d641cf40b164a0e93beb46a768fdc0e",
            "value": " 174/174 [03:24&lt;00:00,  1.02it/s]"
          }
        },
        "74b4fe9128c04a2f81e1dc49fa418678": {
          "model_module": "@jupyter-widgets/base",
          "model_name": "LayoutModel",
          "model_module_version": "1.2.0",
          "state": {
            "_model_module": "@jupyter-widgets/base",
            "_model_module_version": "1.2.0",
            "_model_name": "LayoutModel",
            "_view_count": null,
            "_view_module": "@jupyter-widgets/base",
            "_view_module_version": "1.2.0",
            "_view_name": "LayoutView",
            "align_content": null,
            "align_items": null,
            "align_self": null,
            "border": null,
            "bottom": null,
            "display": null,
            "flex": null,
            "flex_flow": null,
            "grid_area": null,
            "grid_auto_columns": null,
            "grid_auto_flow": null,
            "grid_auto_rows": null,
            "grid_column": null,
            "grid_gap": null,
            "grid_row": null,
            "grid_template_areas": null,
            "grid_template_columns": null,
            "grid_template_rows": null,
            "height": null,
            "justify_content": null,
            "justify_items": null,
            "left": null,
            "margin": null,
            "max_height": null,
            "max_width": null,
            "min_height": null,
            "min_width": null,
            "object_fit": null,
            "object_position": null,
            "order": null,
            "overflow": null,
            "overflow_x": null,
            "overflow_y": null,
            "padding": null,
            "right": null,
            "top": null,
            "visibility": null,
            "width": null
          }
        },
        "c07d9563901e4e8fac9ddeed35ad4c6b": {
          "model_module": "@jupyter-widgets/base",
          "model_name": "LayoutModel",
          "model_module_version": "1.2.0",
          "state": {
            "_model_module": "@jupyter-widgets/base",
            "_model_module_version": "1.2.0",
            "_model_name": "LayoutModel",
            "_view_count": null,
            "_view_module": "@jupyter-widgets/base",
            "_view_module_version": "1.2.0",
            "_view_name": "LayoutView",
            "align_content": null,
            "align_items": null,
            "align_self": null,
            "border": null,
            "bottom": null,
            "display": null,
            "flex": null,
            "flex_flow": null,
            "grid_area": null,
            "grid_auto_columns": null,
            "grid_auto_flow": null,
            "grid_auto_rows": null,
            "grid_column": null,
            "grid_gap": null,
            "grid_row": null,
            "grid_template_areas": null,
            "grid_template_columns": null,
            "grid_template_rows": null,
            "height": null,
            "justify_content": null,
            "justify_items": null,
            "left": null,
            "margin": null,
            "max_height": null,
            "max_width": null,
            "min_height": null,
            "min_width": null,
            "object_fit": null,
            "object_position": null,
            "order": null,
            "overflow": null,
            "overflow_x": null,
            "overflow_y": null,
            "padding": null,
            "right": null,
            "top": null,
            "visibility": null,
            "width": null
          }
        },
        "c426d8b2aeb142499aa0e6942c939c31": {
          "model_module": "@jupyter-widgets/controls",
          "model_name": "DescriptionStyleModel",
          "model_module_version": "1.5.0",
          "state": {
            "_model_module": "@jupyter-widgets/controls",
            "_model_module_version": "1.5.0",
            "_model_name": "DescriptionStyleModel",
            "_view_count": null,
            "_view_module": "@jupyter-widgets/base",
            "_view_module_version": "1.2.0",
            "_view_name": "StyleView",
            "description_width": ""
          }
        },
        "5454fde81197421d821ca342f1faee81": {
          "model_module": "@jupyter-widgets/base",
          "model_name": "LayoutModel",
          "model_module_version": "1.2.0",
          "state": {
            "_model_module": "@jupyter-widgets/base",
            "_model_module_version": "1.2.0",
            "_model_name": "LayoutModel",
            "_view_count": null,
            "_view_module": "@jupyter-widgets/base",
            "_view_module_version": "1.2.0",
            "_view_name": "LayoutView",
            "align_content": null,
            "align_items": null,
            "align_self": null,
            "border": null,
            "bottom": null,
            "display": null,
            "flex": null,
            "flex_flow": null,
            "grid_area": null,
            "grid_auto_columns": null,
            "grid_auto_flow": null,
            "grid_auto_rows": null,
            "grid_column": null,
            "grid_gap": null,
            "grid_row": null,
            "grid_template_areas": null,
            "grid_template_columns": null,
            "grid_template_rows": null,
            "height": null,
            "justify_content": null,
            "justify_items": null,
            "left": null,
            "margin": null,
            "max_height": null,
            "max_width": null,
            "min_height": null,
            "min_width": null,
            "object_fit": null,
            "object_position": null,
            "order": null,
            "overflow": null,
            "overflow_x": null,
            "overflow_y": null,
            "padding": null,
            "right": null,
            "top": null,
            "visibility": null,
            "width": null
          }
        },
        "a4fc80554a974d62b66bbb6e5d029ce7": {
          "model_module": "@jupyter-widgets/controls",
          "model_name": "ProgressStyleModel",
          "model_module_version": "1.5.0",
          "state": {
            "_model_module": "@jupyter-widgets/controls",
            "_model_module_version": "1.5.0",
            "_model_name": "ProgressStyleModel",
            "_view_count": null,
            "_view_module": "@jupyter-widgets/base",
            "_view_module_version": "1.2.0",
            "_view_name": "StyleView",
            "bar_color": null,
            "description_width": ""
          }
        },
        "3f5bf93432474ea8a573e7bbd734724c": {
          "model_module": "@jupyter-widgets/base",
          "model_name": "LayoutModel",
          "model_module_version": "1.2.0",
          "state": {
            "_model_module": "@jupyter-widgets/base",
            "_model_module_version": "1.2.0",
            "_model_name": "LayoutModel",
            "_view_count": null,
            "_view_module": "@jupyter-widgets/base",
            "_view_module_version": "1.2.0",
            "_view_name": "LayoutView",
            "align_content": null,
            "align_items": null,
            "align_self": null,
            "border": null,
            "bottom": null,
            "display": null,
            "flex": null,
            "flex_flow": null,
            "grid_area": null,
            "grid_auto_columns": null,
            "grid_auto_flow": null,
            "grid_auto_rows": null,
            "grid_column": null,
            "grid_gap": null,
            "grid_row": null,
            "grid_template_areas": null,
            "grid_template_columns": null,
            "grid_template_rows": null,
            "height": null,
            "justify_content": null,
            "justify_items": null,
            "left": null,
            "margin": null,
            "max_height": null,
            "max_width": null,
            "min_height": null,
            "min_width": null,
            "object_fit": null,
            "object_position": null,
            "order": null,
            "overflow": null,
            "overflow_x": null,
            "overflow_y": null,
            "padding": null,
            "right": null,
            "top": null,
            "visibility": null,
            "width": null
          }
        },
        "7d641cf40b164a0e93beb46a768fdc0e": {
          "model_module": "@jupyter-widgets/controls",
          "model_name": "DescriptionStyleModel",
          "model_module_version": "1.5.0",
          "state": {
            "_model_module": "@jupyter-widgets/controls",
            "_model_module_version": "1.5.0",
            "_model_name": "DescriptionStyleModel",
            "_view_count": null,
            "_view_module": "@jupyter-widgets/base",
            "_view_module_version": "1.2.0",
            "_view_name": "StyleView",
            "description_width": ""
          }
        }
      }
    }
  },
  "cells": [
    {
      "cell_type": "markdown",
      "metadata": {
        "id": "view-in-github",
        "colab_type": "text"
      },
      "source": [
        "<a href=\"https://colab.research.google.com/github/RafsanJany-44/ARC/blob/master/Untitled153.ipynb\" target=\"_parent\"><img src=\"https://colab.research.google.com/assets/colab-badge.svg\" alt=\"Open In Colab\"/></a>"
      ]
    },
    {
      "cell_type": "code",
      "execution_count": null,
      "metadata": {
        "colab": {
          "base_uri": "https://localhost:8080/"
        },
        "id": "v2DWK77N5qcp",
        "outputId": "2bfe883f-da3c-412d-c240-307f37845afe"
      },
      "outputs": [
        {
          "output_type": "stream",
          "name": "stdout",
          "text": [
            "Collecting pyvital\n",
            "  Downloading pyvital-0.3.5-py3-none-any.whl (4.9 MB)\n",
            "\u001b[2K     \u001b[90m━━━━━━━━━━━━━━━━━━━━━━━━━━━━━━━━━━━━━━━━\u001b[0m \u001b[32m4.9/4.9 MB\u001b[0m \u001b[31m11.6 MB/s\u001b[0m eta \u001b[36m0:00:00\u001b[0m\n",
            "\u001b[?25hCollecting vitaldb\n",
            "  Downloading vitaldb-1.4.2-py3-none-any.whl (54 kB)\n",
            "\u001b[2K     \u001b[90m━━━━━━━━━━━━━━━━━━━━━━━━━━━━━━━━━━━━━━━━\u001b[0m \u001b[32m55.0/55.0 kB\u001b[0m \u001b[31m6.5 MB/s\u001b[0m eta \u001b[36m0:00:00\u001b[0m\n",
            "\u001b[?25hCollecting vital\n",
            "  Downloading vital-1.4.10-py3-none-any.whl (17 kB)\n",
            "Requirement already satisfied: numpy in /usr/local/lib/python3.10/dist-packages (from pyvital) (1.23.5)\n",
            "Requirement already satisfied: scipy in /usr/local/lib/python3.10/dist-packages (from pyvital) (1.11.2)\n",
            "Collecting sanic (from pyvital)\n",
            "  Downloading sanic-23.6.0-py3-none-any.whl (202 kB)\n",
            "\u001b[2K     \u001b[90m━━━━━━━━━━━━━━━━━━━━━━━━━━━━━━━━━━━━━━\u001b[0m \u001b[32m202.5/202.5 kB\u001b[0m \u001b[31m23.1 MB/s\u001b[0m eta \u001b[36m0:00:00\u001b[0m\n",
            "\u001b[?25hRequirement already satisfied: PyWavelets in /usr/local/lib/python3.10/dist-packages (from pyvital) (1.4.1)\n",
            "Requirement already satisfied: tensorflow>=2.6 in /usr/local/lib/python3.10/dist-packages (from pyvital) (2.13.0)\n",
            "Requirement already satisfied: keras in /usr/local/lib/python3.10/dist-packages (from pyvital) (2.13.1)\n",
            "Requirement already satisfied: torch in /usr/local/lib/python3.10/dist-packages (from pyvital) (2.0.1+cu118)\n",
            "Requirement already satisfied: pandas in /usr/local/lib/python3.10/dist-packages (from vitaldb) (1.5.3)\n",
            "Requirement already satisfied: requests in /usr/local/lib/python3.10/dist-packages (from vitaldb) (2.31.0)\n",
            "Collecting wfdb (from vitaldb)\n",
            "  Downloading wfdb-4.1.2-py3-none-any.whl (159 kB)\n",
            "\u001b[2K     \u001b[90m━━━━━━━━━━━━━━━━━━━━━━━━━━━━━━━━━━━━━━\u001b[0m \u001b[32m160.0/160.0 kB\u001b[0m \u001b[31m21.3 MB/s\u001b[0m eta \u001b[36m0:00:00\u001b[0m\n",
            "\u001b[?25hRequirement already satisfied: PyJWT<3.0.0,>=2.0.1 in /usr/lib/python3/dist-packages (from vital) (2.3.0)\n",
            "Collecting arrow (from vital)\n",
            "  Downloading arrow-1.2.3-py3-none-any.whl (66 kB)\n",
            "\u001b[2K     \u001b[90m━━━━━━━━━━━━━━━━━━━━━━━━━━━━━━━━━━━━━━━━\u001b[0m \u001b[32m66.4/66.4 kB\u001b[0m \u001b[31m9.1 MB/s\u001b[0m eta \u001b[36m0:00:00\u001b[0m\n",
            "\u001b[?25hCollecting importlib-metadata<4.0.0,>=3.7.3 (from vital)\n",
            "  Downloading importlib_metadata-3.10.1-py3-none-any.whl (14 kB)\n",
            "Requirement already satisfied: pydantic<2.0.0,>=1.10.7 in /usr/local/lib/python3.10/dist-packages (from vital) (1.10.12)\n",
            "Collecting svix<0.42.0,>=0.41.2 (from vital)\n",
            "  Downloading svix-0.41.2.tar.gz (75 kB)\n",
            "\u001b[2K     \u001b[90m━━━━━━━━━━━━━━━━━━━━━━━━━━━━━━━━━━━━━━━━\u001b[0m \u001b[32m75.0/75.0 kB\u001b[0m \u001b[31m10.6 MB/s\u001b[0m eta \u001b[36m0:00:00\u001b[0m\n",
            "\u001b[?25h  Installing build dependencies ... \u001b[?25l\u001b[?25hdone\n",
            "  Getting requirements to build wheel ... \u001b[?25l\u001b[?25hdone\n",
            "  Preparing metadata (pyproject.toml) ... \u001b[?25l\u001b[?25hdone\n",
            "Collecting typed-ast<2.0.0,>=1.5.4 (from vital)\n",
            "  Downloading typed_ast-1.5.5-cp310-cp310-manylinux_2_17_x86_64.manylinux2014_x86_64.whl (824 kB)\n",
            "\u001b[2K     \u001b[90m━━━━━━━━━━━━━━━━━━━━━━━━━━━━━━━━━━━━━━\u001b[0m \u001b[32m824.7/824.7 kB\u001b[0m \u001b[31m34.3 MB/s\u001b[0m eta \u001b[36m0:00:00\u001b[0m\n",
            "\u001b[?25hRequirement already satisfied: zipp>=0.5 in /usr/local/lib/python3.10/dist-packages (from importlib-metadata<4.0.0,>=3.7.3->vital) (3.16.2)\n",
            "Requirement already satisfied: typing-extensions>=4.2.0 in /usr/local/lib/python3.10/dist-packages (from pydantic<2.0.0,>=1.10.7->vital) (4.5.0)\n",
            "Requirement already satisfied: urllib3>=1.25.3 in /usr/local/lib/python3.10/dist-packages (from svix<0.42.0,>=0.41.2->vital) (2.0.4)\n",
            "Requirement already satisfied: python-dateutil in /usr/local/lib/python3.10/dist-packages (from svix<0.42.0,>=0.41.2->vital) (2.8.2)\n",
            "Requirement already satisfied: absl-py>=1.0.0 in /usr/local/lib/python3.10/dist-packages (from tensorflow>=2.6->pyvital) (1.4.0)\n",
            "Requirement already satisfied: astunparse>=1.6.0 in /usr/local/lib/python3.10/dist-packages (from tensorflow>=2.6->pyvital) (1.6.3)\n",
            "Requirement already satisfied: flatbuffers>=23.1.21 in /usr/local/lib/python3.10/dist-packages (from tensorflow>=2.6->pyvital) (23.5.26)\n",
            "Requirement already satisfied: gast<=0.4.0,>=0.2.1 in /usr/local/lib/python3.10/dist-packages (from tensorflow>=2.6->pyvital) (0.4.0)\n",
            "Requirement already satisfied: google-pasta>=0.1.1 in /usr/local/lib/python3.10/dist-packages (from tensorflow>=2.6->pyvital) (0.2.0)\n",
            "Requirement already satisfied: grpcio<2.0,>=1.24.3 in /usr/local/lib/python3.10/dist-packages (from tensorflow>=2.6->pyvital) (1.57.0)\n",
            "Requirement already satisfied: h5py>=2.9.0 in /usr/local/lib/python3.10/dist-packages (from tensorflow>=2.6->pyvital) (3.9.0)\n",
            "Requirement already satisfied: libclang>=13.0.0 in /usr/local/lib/python3.10/dist-packages (from tensorflow>=2.6->pyvital) (16.0.6)\n",
            "Requirement already satisfied: opt-einsum>=2.3.2 in /usr/local/lib/python3.10/dist-packages (from tensorflow>=2.6->pyvital) (3.3.0)\n",
            "Requirement already satisfied: packaging in /usr/local/lib/python3.10/dist-packages (from tensorflow>=2.6->pyvital) (23.1)\n",
            "Requirement already satisfied: protobuf!=4.21.0,!=4.21.1,!=4.21.2,!=4.21.3,!=4.21.4,!=4.21.5,<5.0.0dev,>=3.20.3 in /usr/local/lib/python3.10/dist-packages (from tensorflow>=2.6->pyvital) (3.20.3)\n",
            "Requirement already satisfied: setuptools in /usr/local/lib/python3.10/dist-packages (from tensorflow>=2.6->pyvital) (67.7.2)\n",
            "Requirement already satisfied: six>=1.12.0 in /usr/local/lib/python3.10/dist-packages (from tensorflow>=2.6->pyvital) (1.16.0)\n",
            "Requirement already satisfied: tensorboard<2.14,>=2.13 in /usr/local/lib/python3.10/dist-packages (from tensorflow>=2.6->pyvital) (2.13.0)\n",
            "Requirement already satisfied: tensorflow-estimator<2.14,>=2.13.0 in /usr/local/lib/python3.10/dist-packages (from tensorflow>=2.6->pyvital) (2.13.0)\n",
            "Requirement already satisfied: termcolor>=1.1.0 in /usr/local/lib/python3.10/dist-packages (from tensorflow>=2.6->pyvital) (2.3.0)\n",
            "Requirement already satisfied: wrapt>=1.11.0 in /usr/local/lib/python3.10/dist-packages (from tensorflow>=2.6->pyvital) (1.15.0)\n",
            "Requirement already satisfied: tensorflow-io-gcs-filesystem>=0.23.1 in /usr/local/lib/python3.10/dist-packages (from tensorflow>=2.6->pyvital) (0.33.0)\n",
            "Requirement already satisfied: pytz>=2020.1 in /usr/local/lib/python3.10/dist-packages (from pandas->vitaldb) (2023.3.post1)\n",
            "Requirement already satisfied: charset-normalizer<4,>=2 in /usr/local/lib/python3.10/dist-packages (from requests->vitaldb) (3.2.0)\n",
            "Requirement already satisfied: idna<4,>=2.5 in /usr/local/lib/python3.10/dist-packages (from requests->vitaldb) (3.4)\n",
            "Requirement already satisfied: certifi>=2017.4.17 in /usr/local/lib/python3.10/dist-packages (from requests->vitaldb) (2023.7.22)\n",
            "Collecting sanic-routing>=23.6.0 (from sanic->pyvital)\n",
            "  Downloading sanic_routing-23.6.0-py3-none-any.whl (25 kB)\n",
            "Collecting httptools>=0.0.10 (from sanic->pyvital)\n",
            "  Downloading httptools-0.6.0-cp310-cp310-manylinux_2_5_x86_64.manylinux1_x86_64.manylinux_2_17_x86_64.manylinux2014_x86_64.whl (428 kB)\n",
            "\u001b[2K     \u001b[90m━━━━━━━━━━━━━━━━━━━━━━━━━━━━━━━━━━━━━━\u001b[0m \u001b[32m428.8/428.8 kB\u001b[0m \u001b[31m36.3 MB/s\u001b[0m eta \u001b[36m0:00:00\u001b[0m\n",
            "\u001b[?25hCollecting aiofiles>=0.6.0 (from sanic->pyvital)\n",
            "  Downloading aiofiles-23.2.1-py3-none-any.whl (15 kB)\n",
            "Collecting websockets>=10.0 (from sanic->pyvital)\n",
            "  Downloading websockets-11.0.3-cp310-cp310-manylinux_2_5_x86_64.manylinux1_x86_64.manylinux_2_17_x86_64.manylinux2014_x86_64.whl (129 kB)\n",
            "\u001b[2K     \u001b[90m━━━━━━━━━━━━━━━━━━━━━━━━━━━━━━━━━━━━━━\u001b[0m \u001b[32m129.9/129.9 kB\u001b[0m \u001b[31m15.4 MB/s\u001b[0m eta \u001b[36m0:00:00\u001b[0m\n",
            "\u001b[?25hRequirement already satisfied: multidict<7.0,>=5.0 in /usr/local/lib/python3.10/dist-packages (from sanic->pyvital) (6.0.4)\n",
            "Collecting html5tagger>=1.2.1 (from sanic->pyvital)\n",
            "  Downloading html5tagger-1.3.0-py3-none-any.whl (10 kB)\n",
            "Collecting tracerite>=1.0.0 (from sanic->pyvital)\n",
            "  Downloading tracerite-1.1.0-py3-none-any.whl (12 kB)\n",
            "Collecting uvloop>=0.15.0 (from sanic->pyvital)\n",
            "  Downloading uvloop-0.17.0-cp310-cp310-manylinux_2_17_x86_64.manylinux2014_x86_64.whl (4.1 MB)\n",
            "\u001b[2K     \u001b[90m━━━━━━━━━━━━━━━━━━━━━━━━━━━━━━━━━━━━━━━━\u001b[0m \u001b[32m4.1/4.1 MB\u001b[0m \u001b[31m43.7 MB/s\u001b[0m eta \u001b[36m0:00:00\u001b[0m\n",
            "\u001b[?25hCollecting ujson>=1.35 (from sanic->pyvital)\n",
            "  Downloading ujson-5.8.0-cp310-cp310-manylinux_2_17_x86_64.manylinux2014_x86_64.whl (53 kB)\n",
            "\u001b[2K     \u001b[90m━━━━━━━━━━━━━━━━━━━━━━━━━━━━━━━━━━━━━━━━\u001b[0m \u001b[32m53.9/53.9 kB\u001b[0m \u001b[31m7.2 MB/s\u001b[0m eta \u001b[36m0:00:00\u001b[0m\n",
            "\u001b[?25hRequirement already satisfied: filelock in /usr/local/lib/python3.10/dist-packages (from torch->pyvital) (3.12.2)\n",
            "Requirement already satisfied: sympy in /usr/local/lib/python3.10/dist-packages (from torch->pyvital) (1.12)\n",
            "Requirement already satisfied: networkx in /usr/local/lib/python3.10/dist-packages (from torch->pyvital) (3.1)\n",
            "Requirement already satisfied: jinja2 in /usr/local/lib/python3.10/dist-packages (from torch->pyvital) (3.1.2)\n",
            "Requirement already satisfied: triton==2.0.0 in /usr/local/lib/python3.10/dist-packages (from torch->pyvital) (2.0.0)\n",
            "Requirement already satisfied: cmake in /usr/local/lib/python3.10/dist-packages (from triton==2.0.0->torch->pyvital) (3.27.4.1)\n",
            "Requirement already satisfied: lit in /usr/local/lib/python3.10/dist-packages (from triton==2.0.0->torch->pyvital) (16.0.6)\n",
            "Requirement already satisfied: SoundFile>=0.10.0 in /usr/local/lib/python3.10/dist-packages (from wfdb->vitaldb) (0.12.1)\n",
            "Requirement already satisfied: matplotlib>=3.2.2 in /usr/local/lib/python3.10/dist-packages (from wfdb->vitaldb) (3.7.1)\n",
            "Requirement already satisfied: wheel<1.0,>=0.23.0 in /usr/local/lib/python3.10/dist-packages (from astunparse>=1.6.0->tensorflow>=2.6->pyvital) (0.41.2)\n",
            "Requirement already satisfied: contourpy>=1.0.1 in /usr/local/lib/python3.10/dist-packages (from matplotlib>=3.2.2->wfdb->vitaldb) (1.1.0)\n",
            "Requirement already satisfied: cycler>=0.10 in /usr/local/lib/python3.10/dist-packages (from matplotlib>=3.2.2->wfdb->vitaldb) (0.11.0)\n",
            "Requirement already satisfied: fonttools>=4.22.0 in /usr/local/lib/python3.10/dist-packages (from matplotlib>=3.2.2->wfdb->vitaldb) (4.42.1)\n",
            "Requirement already satisfied: kiwisolver>=1.0.1 in /usr/local/lib/python3.10/dist-packages (from matplotlib>=3.2.2->wfdb->vitaldb) (1.4.5)\n",
            "Requirement already satisfied: pillow>=6.2.0 in /usr/local/lib/python3.10/dist-packages (from matplotlib>=3.2.2->wfdb->vitaldb) (9.4.0)\n",
            "Requirement already satisfied: pyparsing>=2.3.1 in /usr/local/lib/python3.10/dist-packages (from matplotlib>=3.2.2->wfdb->vitaldb) (3.1.1)\n",
            "Requirement already satisfied: cffi>=1.0 in /usr/local/lib/python3.10/dist-packages (from SoundFile>=0.10.0->wfdb->vitaldb) (1.15.1)\n",
            "Requirement already satisfied: google-auth<3,>=1.6.3 in /usr/local/lib/python3.10/dist-packages (from tensorboard<2.14,>=2.13->tensorflow>=2.6->pyvital) (2.17.3)\n",
            "Requirement already satisfied: google-auth-oauthlib<1.1,>=0.5 in /usr/local/lib/python3.10/dist-packages (from tensorboard<2.14,>=2.13->tensorflow>=2.6->pyvital) (1.0.0)\n",
            "Requirement already satisfied: markdown>=2.6.8 in /usr/local/lib/python3.10/dist-packages (from tensorboard<2.14,>=2.13->tensorflow>=2.6->pyvital) (3.4.4)\n",
            "Requirement already satisfied: tensorboard-data-server<0.8.0,>=0.7.0 in /usr/local/lib/python3.10/dist-packages (from tensorboard<2.14,>=2.13->tensorflow>=2.6->pyvital) (0.7.1)\n",
            "Requirement already satisfied: werkzeug>=1.0.1 in /usr/local/lib/python3.10/dist-packages (from tensorboard<2.14,>=2.13->tensorflow>=2.6->pyvital) (2.3.7)\n",
            "Requirement already satisfied: MarkupSafe>=2.0 in /usr/local/lib/python3.10/dist-packages (from jinja2->torch->pyvital) (2.1.3)\n",
            "Requirement already satisfied: mpmath>=0.19 in /usr/local/lib/python3.10/dist-packages (from sympy->torch->pyvital) (1.3.0)\n",
            "Requirement already satisfied: pycparser in /usr/local/lib/python3.10/dist-packages (from cffi>=1.0->SoundFile>=0.10.0->wfdb->vitaldb) (2.21)\n",
            "Requirement already satisfied: cachetools<6.0,>=2.0.0 in /usr/local/lib/python3.10/dist-packages (from google-auth<3,>=1.6.3->tensorboard<2.14,>=2.13->tensorflow>=2.6->pyvital) (5.3.1)\n",
            "Requirement already satisfied: pyasn1-modules>=0.2.1 in /usr/local/lib/python3.10/dist-packages (from google-auth<3,>=1.6.3->tensorboard<2.14,>=2.13->tensorflow>=2.6->pyvital) (0.3.0)\n",
            "Requirement already satisfied: rsa<5,>=3.1.4 in /usr/local/lib/python3.10/dist-packages (from google-auth<3,>=1.6.3->tensorboard<2.14,>=2.13->tensorflow>=2.6->pyvital) (4.9)\n",
            "Requirement already satisfied: requests-oauthlib>=0.7.0 in /usr/local/lib/python3.10/dist-packages (from google-auth-oauthlib<1.1,>=0.5->tensorboard<2.14,>=2.13->tensorflow>=2.6->pyvital) (1.3.1)\n",
            "Requirement already satisfied: pyasn1<0.6.0,>=0.4.6 in /usr/local/lib/python3.10/dist-packages (from pyasn1-modules>=0.2.1->google-auth<3,>=1.6.3->tensorboard<2.14,>=2.13->tensorflow>=2.6->pyvital) (0.5.0)\n",
            "Requirement already satisfied: oauthlib>=3.0.0 in /usr/local/lib/python3.10/dist-packages (from requests-oauthlib>=0.7.0->google-auth-oauthlib<1.1,>=0.5->tensorboard<2.14,>=2.13->tensorflow>=2.6->pyvital) (3.2.2)\n",
            "Building wheels for collected packages: svix\n",
            "  Building wheel for svix (pyproject.toml) ... \u001b[?25l\u001b[?25hdone\n",
            "  Created wheel for svix: filename=svix-0.41.2-py3-none-any.whl size=274057 sha256=8865a90b709a5547f64619f5b68513ca51affbd10b55c2dff151d7e6ac489973\n",
            "  Stored in directory: /root/.cache/pip/wheels/9c/06/28/79abbad02009a9d3a2db0e1753e393bbe24683ff2a521a5f9c\n",
            "Successfully built svix\n",
            "Installing collected packages: sanic-routing, websockets, uvloop, ujson, typed-ast, importlib-metadata, httptools, html5tagger, aiofiles, tracerite, svix, arrow, wfdb, vital, sanic, vitaldb, pyvital\n",
            "  Attempting uninstall: importlib-metadata\n",
            "    Found existing installation: importlib-metadata 6.8.0\n",
            "    Uninstalling importlib-metadata-6.8.0:\n",
            "      Successfully uninstalled importlib-metadata-6.8.0\n",
            "\u001b[31mERROR: pip's dependency resolver does not currently take into account all the packages that are installed. This behaviour is the source of the following dependency conflicts.\n",
            "dask 2023.8.1 requires importlib-metadata>=4.13.0, but you have importlib-metadata 3.10.1 which is incompatible.\u001b[0m\u001b[31m\n",
            "\u001b[0mSuccessfully installed aiofiles-23.2.1 arrow-1.2.3 html5tagger-1.3.0 httptools-0.6.0 importlib-metadata-3.10.1 pyvital-0.3.5 sanic-23.6.0 sanic-routing-23.6.0 svix-0.41.2 tracerite-1.1.0 typed-ast-1.5.5 ujson-5.8.0 uvloop-0.17.0 vital-1.4.10 vitaldb-1.4.2 websockets-11.0.3 wfdb-4.1.2\n",
            "Collecting neurokit2\n",
            "  Downloading neurokit2-0.2.6-py2.py3-none-any.whl (1.3 MB)\n",
            "\u001b[2K     \u001b[90m━━━━━━━━━━━━━━━━━━━━━━━━━━━━━━━━━━━━━━━━\u001b[0m \u001b[32m1.3/1.3 MB\u001b[0m \u001b[31m13.1 MB/s\u001b[0m eta \u001b[36m0:00:00\u001b[0m\n",
            "\u001b[?25hRequirement already satisfied: numpy in /usr/local/lib/python3.10/dist-packages (from neurokit2) (1.23.5)\n",
            "Requirement already satisfied: pandas in /usr/local/lib/python3.10/dist-packages (from neurokit2) (1.5.3)\n",
            "Requirement already satisfied: scipy in /usr/local/lib/python3.10/dist-packages (from neurokit2) (1.11.2)\n",
            "Requirement already satisfied: scikit-learn>=1.0.0 in /usr/local/lib/python3.10/dist-packages (from neurokit2) (1.2.2)\n",
            "Requirement already satisfied: matplotlib in /usr/local/lib/python3.10/dist-packages (from neurokit2) (3.7.1)\n",
            "Requirement already satisfied: joblib>=1.1.1 in /usr/local/lib/python3.10/dist-packages (from scikit-learn>=1.0.0->neurokit2) (1.3.2)\n",
            "Requirement already satisfied: threadpoolctl>=2.0.0 in /usr/local/lib/python3.10/dist-packages (from scikit-learn>=1.0.0->neurokit2) (3.2.0)\n",
            "Requirement already satisfied: contourpy>=1.0.1 in /usr/local/lib/python3.10/dist-packages (from matplotlib->neurokit2) (1.1.0)\n",
            "Requirement already satisfied: cycler>=0.10 in /usr/local/lib/python3.10/dist-packages (from matplotlib->neurokit2) (0.11.0)\n",
            "Requirement already satisfied: fonttools>=4.22.0 in /usr/local/lib/python3.10/dist-packages (from matplotlib->neurokit2) (4.42.1)\n",
            "Requirement already satisfied: kiwisolver>=1.0.1 in /usr/local/lib/python3.10/dist-packages (from matplotlib->neurokit2) (1.4.5)\n",
            "Requirement already satisfied: packaging>=20.0 in /usr/local/lib/python3.10/dist-packages (from matplotlib->neurokit2) (23.1)\n",
            "Requirement already satisfied: pillow>=6.2.0 in /usr/local/lib/python3.10/dist-packages (from matplotlib->neurokit2) (9.4.0)\n",
            "Requirement already satisfied: pyparsing>=2.3.1 in /usr/local/lib/python3.10/dist-packages (from matplotlib->neurokit2) (3.1.1)\n",
            "Requirement already satisfied: python-dateutil>=2.7 in /usr/local/lib/python3.10/dist-packages (from matplotlib->neurokit2) (2.8.2)\n",
            "Requirement already satisfied: pytz>=2020.1 in /usr/local/lib/python3.10/dist-packages (from pandas->neurokit2) (2023.3.post1)\n",
            "Requirement already satisfied: six>=1.5 in /usr/local/lib/python3.10/dist-packages (from python-dateutil>=2.7->matplotlib->neurokit2) (1.16.0)\n",
            "Installing collected packages: neurokit2\n",
            "Successfully installed neurokit2-0.2.6\n",
            "\u001b[2K     \u001b[90m━━━━━━━━━━━━━━━━━━━━━━━━━━━━━━━━━━━━━━━\u001b[0m \u001b[32m107.0/107.0 kB\u001b[0m \u001b[31m2.3 MB/s\u001b[0m eta \u001b[36m0:00:00\u001b[0m\n",
            "\u001b[?25h"
          ]
        }
      ],
      "source": [
        "\n",
        "!pip install pyvital vitaldb vital\n",
        "!pip install neurokit2\n",
        "!pip install -q wfdb\n",
        "!pip install -q neurokit2\n",
        "!pip install -q biosppy\n",
        "\n",
        "import vitaldb\n",
        "import pandas as pd\n",
        "import numpy as np\n",
        "from datetime import timedelta\n",
        "import neurokit2 as nk\n",
        "import matplotlib.pyplot as plt\n",
        "import os\n",
        "import pandas as pd\n",
        "import biosppy.signals.ecg as ecg\n",
        "import random\n",
        "from tqdm.notebook import tqdm\n",
        "\n",
        "\n",
        "df_cases = pd.read_csv(\"https://api.vitaldb.net/cases\")  # Load clinical data\n",
        "df_trks = pd.read_csv('https://api.vitaldb.net/trks')  # Load track list\n",
        "df_labs = pd.read_csv('https://api.vitaldb.net/labs')  # Load lab result"
      ]
    },
    {
      "cell_type": "code",
      "source": [
        "def r_wave_amplitude(r_peak_loc):\n",
        "    if len(r_peak_loc) >= 1:\n",
        "        r_amplitude = float(r_peak_loc.values[0])\n",
        "        return r_amplitude\n",
        "    return np.nan\n",
        "\n",
        "def r_wave_duration(q_peak_loc, t_onset_loc):\n",
        "    if len(q_peak_loc) >= 1 and len(t_onset_loc) >= 1:\n",
        "        r_duration = float(q_peak_loc.index[0] - t_onset_loc.index[0])\n",
        "        return r_duration\n",
        "    return np.nan\n",
        "\n",
        "def t_wave_amplitude(t_peak_loc):\n",
        "    if len(t_peak_loc) >= 1:\n",
        "        t_amplitude = float(t_peak_loc.values[0])\n",
        "        return t_amplitude\n",
        "    return np.nan\n",
        "\n",
        "def t_wave_duration(t_offset_loc, t_onset_loc):\n",
        "    if len(t_offset_loc) >= 1 and len(t_onset_loc) >= 1:\n",
        "        t_duration = float(t_offset_loc.index[0] - t_onset_loc.index[0])\n",
        "        return t_duration\n",
        "    return np.nan\n",
        "\n",
        "def s_wave_amplitude(s_peak_loc):\n",
        "    if len(s_peak_loc) >= 1:\n",
        "        s_amplitude = float(s_peak_loc.values[0])\n",
        "        return s_amplitude\n",
        "    return np.nan\n",
        "\n",
        "def qt_interval(t_offset_loc, p_offset_loc):\n",
        "    if len(t_offset_loc) >= 1 and len(p_offset_loc) >= 1:\n",
        "        qt_interval = float(t_offset_loc.index[0] - p_offset_loc.index[0])\n",
        "        return qt_interval\n",
        "    return np.nan\n",
        "\n",
        "def heart_rate_calc(hr, idx):\n",
        "    if idx > 0:\n",
        "        return float(hr[idx-1])\n",
        "    return np.nan\n",
        "\n",
        "\n",
        "def j_point_calc(s_peak_loc, t_peak_loc, x, y):\n",
        "    if len(s_peak_loc) == 0 or len(t_peak_loc) == 0:\n",
        "        return np.nan, np.nan, None\n",
        "    if s_peak_loc.index[0] > t_peak_loc.index[0]:\n",
        "        return np.nan, np.nan, None\n",
        "    s_peak_ind = int(np.interp(s_peak_loc.index[0], x, np.arange(len(x))))\n",
        "    t_peak_ind = int(np.interp(t_peak_loc.index[0], x, np.arange(len(x))))\n",
        "    y_st_by_peaks = y[s_peak_ind:t_peak_ind+1]\n",
        "    x_st_by_peaks = x[s_peak_ind:t_peak_ind+1]\n",
        "    if t_peak_ind - s_peak_ind < 1:\n",
        "        return np.nan, np.nan, None\n",
        "    Fy = np.gradient(y_st_by_peaks)\n",
        "    j_point_pseudo_ind = np.abs(Fy).argmin()\n",
        "    j_point = [x_st_by_peaks[j_point_pseudo_ind], y_st_by_peaks[j_point_pseudo_ind]]\n",
        "    j_point_ind = int(np.round(np.interp(x_st_by_peaks[j_point_pseudo_ind], x, np.arange(len(x)))))\n",
        "    j_magnitude = j_point[1]\n",
        "\n",
        "    return j_point, j_magnitude, j_point_ind\n",
        "\n",
        "def st_duration_calc(t_peak_loc, j_point):\n",
        "    if len(t_peak_loc) >= 1 and isinstance(j_point, list) and len(j_point) == 2:\n",
        "        st_duration = t_peak_loc.index[0] - j_point[0]\n",
        "        return st_duration\n",
        "    return np.nan\n",
        "\n",
        "def st_slope_calc(t_onset_loc, j_point_ind, x, y):\n",
        "    if len(t_onset_loc) >= 1 and j_point_ind is not None:\n",
        "        t_onset_ind = int(np.round(np.interp(t_onset_loc.index[0], x, np.arange(len(x)))))\n",
        "\n",
        "        if t_onset_ind > j_point_ind:\n",
        "            y_st_slope_range = y[j_point_ind:t_onset_ind+1]\n",
        "            x_st_slope_range = x[j_point_ind:t_onset_ind+1]\n",
        "\n",
        "            F_st_slope = np.gradient(y_st_slope_range)\n",
        "            st_slope = np.mean(F_st_slope)\n",
        "            st_slope_bool = st_slope > 0\n",
        "            return st_slope\n",
        "    return np.nan\n",
        "\n",
        "def st_area_calc(t_offset_loc, j_point_ind, x, y,):\n",
        "    if len(t_offset_loc) >= 1 and j_point_ind is not None:\n",
        "        ind_t_offset = int(np.round(np.interp(t_offset_loc.index[0], x, np.arange(len(x)))))\n",
        "        y_st_area_range = y[j_point_ind:ind_t_offset+1]\n",
        "        x_st_area_range = x[j_point_ind:ind_t_offset+1]\n",
        "        st_area = np.trapz(y_st_area_range, x_st_area_range)\n",
        "        return st_area\n",
        "    return np.nan\n",
        "\n",
        "\n",
        "\n",
        "\n",
        "\n",
        "def extract_features(beats, features,case_id):\n",
        "\n",
        "    p_onsets = features[\"ECG_P_Onsets\"]\n",
        "    r_onsets = features[\"ECG_R_Onsets\"]\n",
        "    t_onsets = features[\"ECG_T_Onsets\"]\n",
        "    p_offsets = features[\"ECG_P_Offsets\"]\n",
        "    r_offsets = features[\"ECG_R_Offsets\"]\n",
        "    t_offsets = features[\"ECG_T_Offsets\"]\n",
        "    r_peaks = features[\"ECG_R_Peaks\"]\n",
        "    t_peaks = features[\"ECG_T_Peaks\"]\n",
        "    q_peaks = features[\"ECG_Q_Peaks\"]\n",
        "    s_peaks = features[\"ECG_S_Peaks\"]\n",
        "    p_peaks = features[\"ECG_P_Peaks\"]\n",
        "    heart_rate = features[\"ECG_Rate\"]\n",
        "    cycles=0\n",
        "\n",
        "    record_dataset = pd.DataFrame(columns=['Case_ID','Cycle','R_wave_amplitude', 'R_wave_duration', 'T_wave_amplitude', 'T_wave_duration', 'S_wave_amplitude', 'QT_interval', 'Heart_rate','J_point_amplitude', 'ST_duration', 'ST_area', 'ST_slope'])\n",
        "\n",
        "    for i in range(1, len(beats)+1):\n",
        "        beat = beats[str(i)]\n",
        "        beat_signal = beat['Signal']\n",
        "        time = beat_signal.index\n",
        "        voltage = beat_signal.values\n",
        "        beat_idx = beat['Index'].values\n",
        "        min_idx, max_idx = beat_idx[0], beat_idx[-1]\n",
        "\n",
        "        s_peak_loc = beat_signal.iloc[np.argwhere(s_peaks[min_idx:max_idx].values == 1).flatten()]\n",
        "        r_onset_loc = beat_signal.iloc[np.argwhere(r_onsets[min_idx:max_idx].values == 1).flatten()]\n",
        "        t_onset_loc = beat_signal.iloc[np.argwhere(t_onsets[min_idx:max_idx].values == 1).flatten()]\n",
        "        p_offset_loc = beat_signal.iloc[np.argwhere(p_offsets[min_idx:max_idx].values == 1).flatten()]\n",
        "        r_offset_loc = beat_signal.iloc[np.argwhere(r_offsets[min_idx:max_idx].values == 1).flatten()]\n",
        "        t_offset_loc = beat_signal.iloc[np.argwhere(t_offsets[min_idx:max_idx].values == 1).flatten()]\n",
        "        r_peak_loc = beat_signal.iloc[np.argwhere(r_peaks[min_idx:max_idx].values == 1).flatten()]\n",
        "        t_peak_loc = beat_signal.iloc[np.argwhere(t_peaks[min_idx:max_idx].values == 1).flatten()]\n",
        "        q_peak_loc = beat_signal.iloc[np.argwhere(q_peaks[min_idx:max_idx].values == 1).flatten()]\n",
        "\n",
        "\n",
        "        r_amplitude = r_wave_amplitude(r_peak_loc)\n",
        "        r_duration = r_wave_duration(q_peak_loc, r_onset_loc)\n",
        "        t_amplitude = t_wave_amplitude(t_peak_loc)\n",
        "        t_duration = t_wave_duration(t_offset_loc, t_onset_loc)\n",
        "        s_amplitude = s_wave_amplitude(s_peak_loc)\n",
        "        qt_int = qt_interval(t_offset_loc, p_offset_loc)\n",
        "        hr = heart_rate_calc(heart_rate, (min_idx + max_idx) // 2)\n",
        "        j_point, j_magnitude, j_point_ind = j_point_calc(s_peak_loc, t_peak_loc, time, voltage)\n",
        "        st_duration = st_duration_calc(t_peak_loc, j_point)\n",
        "        st_slope = st_slope_calc(t_onset_loc, j_point_ind, time, voltage)\n",
        "        st_area = st_area_calc(t_offset_loc, j_point_ind, time, voltage)\n",
        "        cycles+=1\n",
        "\n",
        "        feature_row = {\n",
        "            'Case_ID': case_id,\n",
        "            'Cycle': cycles,\n",
        "            'R_wave_amplitude': r_amplitude,\n",
        "            'R_wave_duration': r_duration,\n",
        "            'T_wave_amplitude': t_amplitude,\n",
        "            'T_wave_duration': t_duration,\n",
        "            'S_wave_amplitude': s_amplitude,\n",
        "            'QT_interval': qt_int,\n",
        "            'Heart_rate': hr,\n",
        "            'J_point_amplitude': j_magnitude,\n",
        "            'ST_duration': st_duration,\n",
        "            'ST_area': st_area,\n",
        "            'ST_slope': st_slope\n",
        "        }\n",
        "\n",
        "        feature_row = pd.DataFrame([feature_row])\n",
        "        record_dataset = pd.concat([record_dataset, feature_row], ignore_index=True)\n",
        "\n",
        "    return record_dataset\n",
        "\n",
        "\n",
        "\n",
        "\n",
        "\n",
        "\n",
        "def engine(initial_signal,caseid):\n",
        "  srate = 100\n",
        "  initial_signal = initial_signal[np.logical_not(np.isnan(initial_signal))]\n",
        "  initial_signal = initial_signal[(initial_signal>= -.25) & (initial_signal<=.25)]\n",
        "  signal_clean = nk.ecg_clean(initial_signal, sampling_rate=srate)\n",
        "  features, _ = nk.ecg_process(signal_clean, sampling_rate=srate)\n",
        "  beats = nk.ecg_segment(signal_clean, sampling_rate=srate)\n",
        "  data = extract_features(beats, features,caseid)\n",
        "  return data\n",
        "\n"
      ],
      "metadata": {
        "id": "QU-UFSpUnyi3"
      },
      "execution_count": null,
      "outputs": []
    },
    {
      "cell_type": "code",
      "source": [
        "caseids = list(\n",
        "    set(df_trks[df_trks['tname'] == 'Solar8000/ST_II']['caseid']) &\n",
        "    set(df_trks[df_trks['tname'] == 'Solar8000/ART_MBP']['caseid']) &\n",
        "     set(df_trks[df_trks['tname'] == 'Solar8000/ART_SBP']['caseid'])&\n",
        "     set(df_trks[df_trks['tname'] == 'Solar8000/ART_DBP']['caseid'])&\n",
        "    set(df_trks[df_trks['tname'] == 'SNUADC/ECG_II']['caseid'])\n",
        ")\n",
        "\n",
        "print('Total {} cases found'.format(len(caseids)))"
      ],
      "metadata": {
        "colab": {
          "base_uri": "https://localhost:8080/"
        },
        "id": "35mFOaNC6F4d",
        "outputId": "567bd3e2-7a34-4d4a-e831-e20cfd0208aa"
      },
      "execution_count": null,
      "outputs": [
        {
          "output_type": "stream",
          "name": "stdout",
          "text": [
            "Total 3559 cases found\n"
          ]
        }
      ]
    },
    {
      "cell_type": "code",
      "source": [
        "caseids = caseids[0:8]\n",
        "caseids"
      ],
      "metadata": {
        "colab": {
          "base_uri": "https://localhost:8080/"
        },
        "id": "CTSKb_p3cRBP",
        "outputId": "c81be3b1-938f-4d13-fbee-3282eebf1af5"
      },
      "execution_count": null,
      "outputs": [
        {
          "output_type": "execute_result",
          "data": {
            "text/plain": [
              "[1, 3, 4, 7, 10, 12, 13, 14]"
            ]
          },
          "metadata": {},
          "execution_count": 44
        }
      ]
    },
    {
      "cell_type": "code",
      "source": [
        "file_save_destination = '/content/Vital_ECG_II_features.csv'\n",
        "\n",
        "\n",
        "if os.path.exists(file_save_destination)==False:\n",
        "\n",
        "  main_dataframe = pd.DataFrame(columns=['Case_ID', 'Segment', 'ST_II', 'ART_MBP', 'ART_SBP', 'ART_DBP', 'Cycle',\n",
        "       'R_wave_amplitude', 'R_wave_duration', 'T_wave_amplitude',\n",
        "       'T_wave_duration', 'S_wave_amplitude', 'QT_interval', 'Heart_rate',\n",
        "       'J_point_amplitude', 'ST_duration', 'ST_area', 'ST_slope'])\n",
        "\n",
        "  main_dataframe.to_csv(file_save_destination,index=False)\n",
        "\n",
        "main_dataframe = pd.read_csv(file_save_destination)\n",
        "case_complete_list = list(main_dataframe[\"Case_ID\"].unique())\n",
        "\n",
        "\n",
        "\n",
        "\n",
        "for caseid in tqdm(caseids):\n",
        "\n",
        "  if caseid not in case_complete_list:\n",
        "    try:\n",
        "      print(\"Case Id:\", caseid,\"in process\")\n",
        "      vals = vitaldb.load_case(caseid, ['SNUADC/ECG_II','Solar8000/ST_II','Solar8000/ART_MBP','Solar8000/ART_SBP','Solar8000/ART_DBP'], 1 / 100)\n",
        "\n",
        "      sub_dataframe = pd.DataFrame(columns=['Case_ID', 'Segment', 'ST_II', 'ART_MBP', 'ART_SBP', 'ART_DBP', 'Cycle',\n",
        "            'R_wave_amplitude', 'R_wave_duration', 'T_wave_amplitude',\n",
        "            'T_wave_duration', 'S_wave_amplitude', 'QT_interval', 'Heart_rate',\n",
        "            'J_point_amplitude', 'ST_duration', 'ST_area', 'ST_slope'])\n",
        "\n",
        "      op_st = df_cases[(df_cases['caseid'] == caseid)]['opstart'].values[0]\n",
        "      op_end = df_cases[(df_cases['caseid'] == caseid)]['opend'].values[0]\n",
        "\n",
        "      time_col=[]\n",
        "      for i in range(len(vals)):\n",
        "        time_col.append(i*(1/500))\n",
        "\n",
        "\n",
        "\n",
        "      vals = np.insert(vals, 0, time_col, axis=1)\n",
        "      vals = np.insert(vals, 0, np.nan, axis=1)\n",
        "\n",
        "\n",
        "      vals  = vals[vals[:,1] >= op_st]\n",
        "      vals =  vals[vals[:,1] <= op_end]\n",
        "\n",
        "\n",
        "      sec_segment = 10\n",
        "      segment_num = 1\n",
        "      start_idx = 0\n",
        "      end_idx = int(sec_segment/(1/500) + 1)\n",
        "\n",
        "      for _ in tqdm(range(int(vals.shape[0]/int(sec_segment/(1/500) + 1)))):\n",
        "          try:\n",
        "            print(\"Case_ID:\",caseid ,\" Segment:\",segment_num)\n",
        "            temp_arr = vals[start_idx:end_idx,:]\n",
        "            df = engine(temp_arr[:,2],caseid)\n",
        "            arr1 = np.nanmean(temp_arr, axis = 0)\n",
        "\n",
        "            map = (arr1[5]+2*arr1[6])/3\n",
        "            if map>= 75:\n",
        "              stat = \"Non-Hypotension\"\n",
        "            elif map<=65:\n",
        "              stat = \"Hypotension\"\n",
        "            elif 65<map<75:\n",
        "              stat = \"Intermediate\"\n",
        "            else:\n",
        "              stat = np.nan\n",
        "\n",
        "            df.insert(1, 'Status', stat)\n",
        "            df.insert(1, 'ART_MAP', map)\n",
        "            df.insert(1, 'ART_DBP', arr1[6])\n",
        "            df.insert(1, 'ART_SBP', arr1[5])\n",
        "            df.insert(1, 'ART_MBP',  arr1[4])\n",
        "            df.insert(1, 'ST_II', arr1[3])\n",
        "            df.insert(1, 'Segment', segment_num)\n",
        "\n",
        "            sub_dataframe = pd.concat([sub_dataframe, df], ignore_index=True)\n",
        "\n",
        "            start_idx = end_idx\n",
        "            end_idx = end_idx + int(sec_segment/(1/500))\n",
        "            segment_num += 1\n",
        "          except:\n",
        "            start_idx = end_idx\n",
        "            end_idx = end_idx + int(sec_segment/(1/500))\n",
        "            print(\"--------ERORR------!!!\")\n",
        "\n",
        "      main_dataframe = pd.concat([main_dataframe, sub_dataframe], ignore_index=True)\n",
        "      main_dataframe.to_csv(file_save_destination,index=False)\n",
        "      print(\"Case Id:\", caseid,\" processing complete.....\")\n",
        "    except:\n",
        "      print(\"----------------------------ERORR!!! occurred In CASE ID: \",caseid,\"----------------------------------\")\n",
        "  else:\n",
        "    print(\"CASE_ID \", caseid,\" already exists....\")\n"
      ],
      "metadata": {
        "colab": {
          "base_uri": "https://localhost:8080/",
          "height": 1000,
          "referenced_widgets": [
            "ee2fb841b4b8421cb0e486ada59835b6",
            "423789790e8a454f8723276e8845940d",
            "770bbd6ef4614e3d9b6d439482f9e752",
            "4276f0dea1a841dfb1ec99af708eb13f",
            "2c69a82e5b31405bb8cf00ef66b13c2d",
            "db202456e0f04acebc38bd87b88b3390",
            "f64e5313dc2d456c891d58e802efba9f",
            "6cffd295941d40faa6ee13b5c845b9b3",
            "dfdb39b8e5eb4c11a0e442fdddaee096",
            "1e7a539ed2aa4c32b71e4e3452b0bddd",
            "cb71142a6747472885b10cbce68c702a",
            "e93b401034cb428c95035a59698c3dfe",
            "600406d306bf47429541c2846416b2e6",
            "9252b83374514876843108a825dc0100",
            "f3974ae1bc6f42949bc4f7a25af2fb46",
            "c82d573e71c241de8f86d7eca1afbdef",
            "64932f1de43c4c2b9224a7707c6b293d",
            "76e2af909f0d4739b51cf1b24f29fde8",
            "d95569a15b184b24bcf90381a2834f14",
            "ef52078b31474e2696db933eea09e15f",
            "5f17ec8a2c4e4430b3f23983d792a3ad",
            "76d679fbf3f94bd98a11b0b15969f4b0",
            "07b3ea9c7a814683b3ee2cf193684e46",
            "4932748d45e9433ab024f14770d954a0",
            "6894d86fad02461ba28cac88663ae95f",
            "7ba43119795b419c90d67a66cab2877d",
            "8eaffc10dc7045c58c88445041e4ba63",
            "7efbf8a5e43b458caab54d198305abc4",
            "a26264b28d1447acb10bb4a1f3a3619c",
            "b1cb21469c2146ccad4936b6ec58b7c9",
            "ec2be564da7c4b9cad3cfc9a133415b1",
            "b3b7eebbd5924187872fdd9cbbcad846",
            "43ab5f212ba74136801821b41af5809f",
            "9637396fac7047ac8367e0f01bd348fb",
            "3554ea6f18084fa2a7619d626993697a",
            "6b565a5b15fa46208a65f7593d7ae168",
            "b9cab0f22f354bf795de3957a80a8fa8",
            "79a094b58d844722aab83595fc56c617",
            "14e704f7ba3540978db1838f39e10033",
            "c98a0d79a80b45ed872be53d8a55e867",
            "b992d37d661a449a886131a61151f4da",
            "362cdbc5428d4100ab2f55cf78ea047f",
            "b16f939227d842708158f3a66c6c0cac",
            "ceb4afed53594e798e40cadf9766be4e",
            "925caa518e2f4e9290ea3903e620e907",
            "22a6dfdc25c347f6aab3095a207559fe",
            "e346725dd6a140528ea0ac64f4f71fac",
            "be8af5640d87478fb676184f4cd06212",
            "74b4fe9128c04a2f81e1dc49fa418678",
            "c07d9563901e4e8fac9ddeed35ad4c6b",
            "c426d8b2aeb142499aa0e6942c939c31",
            "5454fde81197421d821ca342f1faee81",
            "a4fc80554a974d62b66bbb6e5d029ce7",
            "3f5bf93432474ea8a573e7bbd734724c",
            "7d641cf40b164a0e93beb46a768fdc0e"
          ]
        },
        "id": "hDmS0cnnTOLu",
        "outputId": "679d16e1-e85c-41b8-9688-7aeeea6572dc"
      },
      "execution_count": null,
      "outputs": [
        {
          "output_type": "display_data",
          "data": {
            "text/plain": [
              "  0%|          | 0/5 [00:00<?, ?it/s]"
            ],
            "application/vnd.jupyter.widget-view+json": {
              "version_major": 2,
              "version_minor": 0,
              "model_id": "ee2fb841b4b8421cb0e486ada59835b6"
            }
          },
          "metadata": {}
        },
        {
          "output_type": "stream",
          "name": "stdout",
          "text": [
            "CASE_ID  1  already exists....\n",
            "Case Id: 3 in process\n"
          ]
        },
        {
          "output_type": "display_data",
          "data": {
            "text/plain": [
              "0it [00:00, ?it/s]"
            ],
            "application/vnd.jupyter.widget-view+json": {
              "version_major": 2,
              "version_minor": 0,
              "model_id": "e93b401034cb428c95035a59698c3dfe"
            }
          },
          "metadata": {}
        },
        {
          "output_type": "stream",
          "name": "stdout",
          "text": [
            "Case Id: 3  processing complete.....\n",
            "Case Id: 4 in process\n"
          ]
        },
        {
          "output_type": "display_data",
          "data": {
            "text/plain": [
              "  0%|          | 0/167 [00:00<?, ?it/s]"
            ],
            "application/vnd.jupyter.widget-view+json": {
              "version_major": 2,
              "version_minor": 0,
              "model_id": "07b3ea9c7a814683b3ee2cf193684e46"
            }
          },
          "metadata": {}
        },
        {
          "output_type": "stream",
          "name": "stdout",
          "text": [
            "Case_ID: 4  Segment: 1\n"
          ]
        },
        {
          "output_type": "stream",
          "name": "stderr",
          "text": [
            "<ipython-input-41-7dce4779c986>:58: RuntimeWarning: Mean of empty slice\n",
            "  arr1 = np.nanmean(temp_arr, axis = 0)\n"
          ]
        },
        {
          "output_type": "stream",
          "name": "stdout",
          "text": [
            "Case_ID: 4  Segment: 2\n"
          ]
        },
        {
          "output_type": "stream",
          "name": "stderr",
          "text": [
            "<ipython-input-41-7dce4779c986>:58: RuntimeWarning: Mean of empty slice\n",
            "  arr1 = np.nanmean(temp_arr, axis = 0)\n"
          ]
        },
        {
          "output_type": "stream",
          "name": "stdout",
          "text": [
            "Case_ID: 4  Segment: 3\n"
          ]
        },
        {
          "output_type": "stream",
          "name": "stderr",
          "text": [
            "<ipython-input-41-7dce4779c986>:58: RuntimeWarning: Mean of empty slice\n",
            "  arr1 = np.nanmean(temp_arr, axis = 0)\n"
          ]
        },
        {
          "output_type": "stream",
          "name": "stdout",
          "text": [
            "Case_ID: 4  Segment: 4\n"
          ]
        },
        {
          "output_type": "stream",
          "name": "stderr",
          "text": [
            "<ipython-input-41-7dce4779c986>:58: RuntimeWarning: Mean of empty slice\n",
            "  arr1 = np.nanmean(temp_arr, axis = 0)\n"
          ]
        },
        {
          "output_type": "stream",
          "name": "stdout",
          "text": [
            "Case_ID: 4  Segment: 5\n"
          ]
        },
        {
          "output_type": "stream",
          "name": "stderr",
          "text": [
            "<ipython-input-41-7dce4779c986>:58: RuntimeWarning: Mean of empty slice\n",
            "  arr1 = np.nanmean(temp_arr, axis = 0)\n"
          ]
        },
        {
          "output_type": "stream",
          "name": "stdout",
          "text": [
            "Case_ID: 4  Segment: 6\n"
          ]
        },
        {
          "output_type": "stream",
          "name": "stderr",
          "text": [
            "<ipython-input-41-7dce4779c986>:58: RuntimeWarning: Mean of empty slice\n",
            "  arr1 = np.nanmean(temp_arr, axis = 0)\n"
          ]
        },
        {
          "output_type": "stream",
          "name": "stdout",
          "text": [
            "Case_ID: 4  Segment: 7\n"
          ]
        },
        {
          "output_type": "stream",
          "name": "stderr",
          "text": [
            "<ipython-input-41-7dce4779c986>:58: RuntimeWarning: Mean of empty slice\n",
            "  arr1 = np.nanmean(temp_arr, axis = 0)\n"
          ]
        },
        {
          "output_type": "stream",
          "name": "stdout",
          "text": [
            "Case_ID: 4  Segment: 8\n"
          ]
        },
        {
          "output_type": "stream",
          "name": "stderr",
          "text": [
            "<ipython-input-41-7dce4779c986>:58: RuntimeWarning: Mean of empty slice\n",
            "  arr1 = np.nanmean(temp_arr, axis = 0)\n"
          ]
        },
        {
          "output_type": "stream",
          "name": "stdout",
          "text": [
            "Case_ID: 4  Segment: 9\n"
          ]
        },
        {
          "output_type": "stream",
          "name": "stderr",
          "text": [
            "<ipython-input-41-7dce4779c986>:58: RuntimeWarning: Mean of empty slice\n",
            "  arr1 = np.nanmean(temp_arr, axis = 0)\n"
          ]
        },
        {
          "output_type": "stream",
          "name": "stdout",
          "text": [
            "Case_ID: 4  Segment: 10\n"
          ]
        },
        {
          "output_type": "stream",
          "name": "stderr",
          "text": [
            "<ipython-input-41-7dce4779c986>:58: RuntimeWarning: Mean of empty slice\n",
            "  arr1 = np.nanmean(temp_arr, axis = 0)\n"
          ]
        },
        {
          "output_type": "stream",
          "name": "stdout",
          "text": [
            "Case_ID: 4  Segment: 11\n"
          ]
        },
        {
          "output_type": "stream",
          "name": "stderr",
          "text": [
            "<ipython-input-41-7dce4779c986>:58: RuntimeWarning: Mean of empty slice\n",
            "  arr1 = np.nanmean(temp_arr, axis = 0)\n"
          ]
        },
        {
          "output_type": "stream",
          "name": "stdout",
          "text": [
            "Case_ID: 4  Segment: 12\n"
          ]
        },
        {
          "output_type": "stream",
          "name": "stderr",
          "text": [
            "<ipython-input-41-7dce4779c986>:58: RuntimeWarning: Mean of empty slice\n",
            "  arr1 = np.nanmean(temp_arr, axis = 0)\n"
          ]
        },
        {
          "output_type": "stream",
          "name": "stdout",
          "text": [
            "Case_ID: 4  Segment: 13\n"
          ]
        },
        {
          "output_type": "stream",
          "name": "stderr",
          "text": [
            "<ipython-input-41-7dce4779c986>:58: RuntimeWarning: Mean of empty slice\n",
            "  arr1 = np.nanmean(temp_arr, axis = 0)\n"
          ]
        },
        {
          "output_type": "stream",
          "name": "stdout",
          "text": [
            "Case_ID: 4  Segment: 14\n"
          ]
        },
        {
          "output_type": "stream",
          "name": "stderr",
          "text": [
            "<ipython-input-41-7dce4779c986>:58: RuntimeWarning: Mean of empty slice\n",
            "  arr1 = np.nanmean(temp_arr, axis = 0)\n"
          ]
        },
        {
          "output_type": "stream",
          "name": "stdout",
          "text": [
            "Case_ID: 4  Segment: 15\n"
          ]
        },
        {
          "output_type": "stream",
          "name": "stderr",
          "text": [
            "<ipython-input-41-7dce4779c986>:58: RuntimeWarning: Mean of empty slice\n",
            "  arr1 = np.nanmean(temp_arr, axis = 0)\n"
          ]
        },
        {
          "output_type": "stream",
          "name": "stdout",
          "text": [
            "Case_ID: 4  Segment: 16\n"
          ]
        },
        {
          "output_type": "stream",
          "name": "stderr",
          "text": [
            "<ipython-input-41-7dce4779c986>:58: RuntimeWarning: Mean of empty slice\n",
            "  arr1 = np.nanmean(temp_arr, axis = 0)\n"
          ]
        },
        {
          "output_type": "stream",
          "name": "stdout",
          "text": [
            "Case_ID: 4  Segment: 17\n"
          ]
        },
        {
          "output_type": "stream",
          "name": "stderr",
          "text": [
            "<ipython-input-41-7dce4779c986>:58: RuntimeWarning: Mean of empty slice\n",
            "  arr1 = np.nanmean(temp_arr, axis = 0)\n"
          ]
        },
        {
          "output_type": "stream",
          "name": "stdout",
          "text": [
            "Case_ID: 4  Segment: 18\n"
          ]
        },
        {
          "output_type": "stream",
          "name": "stderr",
          "text": [
            "<ipython-input-41-7dce4779c986>:58: RuntimeWarning: Mean of empty slice\n",
            "  arr1 = np.nanmean(temp_arr, axis = 0)\n"
          ]
        },
        {
          "output_type": "stream",
          "name": "stdout",
          "text": [
            "Case_ID: 4  Segment: 19\n"
          ]
        },
        {
          "output_type": "stream",
          "name": "stderr",
          "text": [
            "<ipython-input-41-7dce4779c986>:58: RuntimeWarning: Mean of empty slice\n",
            "  arr1 = np.nanmean(temp_arr, axis = 0)\n"
          ]
        },
        {
          "output_type": "stream",
          "name": "stdout",
          "text": [
            "Case_ID: 4  Segment: 20\n"
          ]
        },
        {
          "output_type": "stream",
          "name": "stderr",
          "text": [
            "<ipython-input-41-7dce4779c986>:58: RuntimeWarning: Mean of empty slice\n",
            "  arr1 = np.nanmean(temp_arr, axis = 0)\n"
          ]
        },
        {
          "output_type": "stream",
          "name": "stdout",
          "text": [
            "Case_ID: 4  Segment: 21\n"
          ]
        },
        {
          "output_type": "stream",
          "name": "stderr",
          "text": [
            "<ipython-input-41-7dce4779c986>:58: RuntimeWarning: Mean of empty slice\n",
            "  arr1 = np.nanmean(temp_arr, axis = 0)\n"
          ]
        },
        {
          "output_type": "stream",
          "name": "stdout",
          "text": [
            "Case_ID: 4  Segment: 22\n"
          ]
        },
        {
          "output_type": "stream",
          "name": "stderr",
          "text": [
            "<ipython-input-41-7dce4779c986>:58: RuntimeWarning: Mean of empty slice\n",
            "  arr1 = np.nanmean(temp_arr, axis = 0)\n"
          ]
        },
        {
          "output_type": "stream",
          "name": "stdout",
          "text": [
            "Case_ID: 4  Segment: 23\n"
          ]
        },
        {
          "output_type": "stream",
          "name": "stderr",
          "text": [
            "<ipython-input-41-7dce4779c986>:58: RuntimeWarning: Mean of empty slice\n",
            "  arr1 = np.nanmean(temp_arr, axis = 0)\n"
          ]
        },
        {
          "output_type": "stream",
          "name": "stdout",
          "text": [
            "Case_ID: 4  Segment: 24\n"
          ]
        },
        {
          "output_type": "stream",
          "name": "stderr",
          "text": [
            "<ipython-input-41-7dce4779c986>:58: RuntimeWarning: Mean of empty slice\n",
            "  arr1 = np.nanmean(temp_arr, axis = 0)\n"
          ]
        },
        {
          "output_type": "stream",
          "name": "stdout",
          "text": [
            "Case_ID: 4  Segment: 25\n"
          ]
        },
        {
          "output_type": "stream",
          "name": "stderr",
          "text": [
            "<ipython-input-41-7dce4779c986>:58: RuntimeWarning: Mean of empty slice\n",
            "  arr1 = np.nanmean(temp_arr, axis = 0)\n"
          ]
        },
        {
          "output_type": "stream",
          "name": "stdout",
          "text": [
            "Case_ID: 4  Segment: 26\n"
          ]
        },
        {
          "output_type": "stream",
          "name": "stderr",
          "text": [
            "<ipython-input-41-7dce4779c986>:58: RuntimeWarning: Mean of empty slice\n",
            "  arr1 = np.nanmean(temp_arr, axis = 0)\n"
          ]
        },
        {
          "output_type": "stream",
          "name": "stdout",
          "text": [
            "Case_ID: 4  Segment: 27\n"
          ]
        },
        {
          "output_type": "stream",
          "name": "stderr",
          "text": [
            "<ipython-input-41-7dce4779c986>:58: RuntimeWarning: Mean of empty slice\n",
            "  arr1 = np.nanmean(temp_arr, axis = 0)\n"
          ]
        },
        {
          "output_type": "stream",
          "name": "stdout",
          "text": [
            "Case_ID: 4  Segment: 28\n"
          ]
        },
        {
          "output_type": "stream",
          "name": "stderr",
          "text": [
            "<ipython-input-41-7dce4779c986>:58: RuntimeWarning: Mean of empty slice\n",
            "  arr1 = np.nanmean(temp_arr, axis = 0)\n"
          ]
        },
        {
          "output_type": "stream",
          "name": "stdout",
          "text": [
            "Case_ID: 4  Segment: 29\n"
          ]
        },
        {
          "output_type": "stream",
          "name": "stderr",
          "text": [
            "<ipython-input-41-7dce4779c986>:58: RuntimeWarning: Mean of empty slice\n",
            "  arr1 = np.nanmean(temp_arr, axis = 0)\n"
          ]
        },
        {
          "output_type": "stream",
          "name": "stdout",
          "text": [
            "Case_ID: 4  Segment: 30\n"
          ]
        },
        {
          "output_type": "stream",
          "name": "stderr",
          "text": [
            "<ipython-input-41-7dce4779c986>:58: RuntimeWarning: Mean of empty slice\n",
            "  arr1 = np.nanmean(temp_arr, axis = 0)\n"
          ]
        },
        {
          "output_type": "stream",
          "name": "stdout",
          "text": [
            "Case_ID: 4  Segment: 31\n"
          ]
        },
        {
          "output_type": "stream",
          "name": "stderr",
          "text": [
            "<ipython-input-41-7dce4779c986>:58: RuntimeWarning: Mean of empty slice\n",
            "  arr1 = np.nanmean(temp_arr, axis = 0)\n"
          ]
        },
        {
          "output_type": "stream",
          "name": "stdout",
          "text": [
            "Case_ID: 4  Segment: 32\n"
          ]
        },
        {
          "output_type": "stream",
          "name": "stderr",
          "text": [
            "<ipython-input-41-7dce4779c986>:58: RuntimeWarning: Mean of empty slice\n",
            "  arr1 = np.nanmean(temp_arr, axis = 0)\n"
          ]
        },
        {
          "output_type": "stream",
          "name": "stdout",
          "text": [
            "Case_ID: 4  Segment: 33\n"
          ]
        },
        {
          "output_type": "stream",
          "name": "stderr",
          "text": [
            "<ipython-input-41-7dce4779c986>:58: RuntimeWarning: Mean of empty slice\n",
            "  arr1 = np.nanmean(temp_arr, axis = 0)\n"
          ]
        },
        {
          "output_type": "stream",
          "name": "stdout",
          "text": [
            "Case_ID: 4  Segment: 34\n"
          ]
        },
        {
          "output_type": "stream",
          "name": "stderr",
          "text": [
            "<ipython-input-41-7dce4779c986>:58: RuntimeWarning: Mean of empty slice\n",
            "  arr1 = np.nanmean(temp_arr, axis = 0)\n"
          ]
        },
        {
          "output_type": "stream",
          "name": "stdout",
          "text": [
            "Case_ID: 4  Segment: 35\n"
          ]
        },
        {
          "output_type": "stream",
          "name": "stderr",
          "text": [
            "<ipython-input-41-7dce4779c986>:58: RuntimeWarning: Mean of empty slice\n",
            "  arr1 = np.nanmean(temp_arr, axis = 0)\n"
          ]
        },
        {
          "output_type": "stream",
          "name": "stdout",
          "text": [
            "Case_ID: 4  Segment: 36\n"
          ]
        },
        {
          "output_type": "stream",
          "name": "stderr",
          "text": [
            "<ipython-input-41-7dce4779c986>:58: RuntimeWarning: Mean of empty slice\n",
            "  arr1 = np.nanmean(temp_arr, axis = 0)\n"
          ]
        },
        {
          "output_type": "stream",
          "name": "stdout",
          "text": [
            "Case_ID: 4  Segment: 37\n",
            "--------ERORR------!!!\n",
            "Case_ID: 4  Segment: 37\n"
          ]
        },
        {
          "output_type": "stream",
          "name": "stderr",
          "text": [
            "<ipython-input-41-7dce4779c986>:58: RuntimeWarning: Mean of empty slice\n",
            "  arr1 = np.nanmean(temp_arr, axis = 0)\n"
          ]
        },
        {
          "output_type": "stream",
          "name": "stdout",
          "text": [
            "Case_ID: 4  Segment: 38\n"
          ]
        },
        {
          "output_type": "stream",
          "name": "stderr",
          "text": [
            "<ipython-input-41-7dce4779c986>:58: RuntimeWarning: Mean of empty slice\n",
            "  arr1 = np.nanmean(temp_arr, axis = 0)\n"
          ]
        },
        {
          "output_type": "stream",
          "name": "stdout",
          "text": [
            "Case_ID: 4  Segment: 39\n"
          ]
        },
        {
          "output_type": "stream",
          "name": "stderr",
          "text": [
            "<ipython-input-41-7dce4779c986>:58: RuntimeWarning: Mean of empty slice\n",
            "  arr1 = np.nanmean(temp_arr, axis = 0)\n"
          ]
        },
        {
          "output_type": "stream",
          "name": "stdout",
          "text": [
            "Case_ID: 4  Segment: 40\n"
          ]
        },
        {
          "output_type": "stream",
          "name": "stderr",
          "text": [
            "<ipython-input-41-7dce4779c986>:58: RuntimeWarning: Mean of empty slice\n",
            "  arr1 = np.nanmean(temp_arr, axis = 0)\n"
          ]
        },
        {
          "output_type": "stream",
          "name": "stdout",
          "text": [
            "Case_ID: 4  Segment: 41\n"
          ]
        },
        {
          "output_type": "stream",
          "name": "stderr",
          "text": [
            "<ipython-input-41-7dce4779c986>:58: RuntimeWarning: Mean of empty slice\n",
            "  arr1 = np.nanmean(temp_arr, axis = 0)\n"
          ]
        },
        {
          "output_type": "stream",
          "name": "stdout",
          "text": [
            "Case_ID: 4  Segment: 42\n"
          ]
        },
        {
          "output_type": "stream",
          "name": "stderr",
          "text": [
            "<ipython-input-41-7dce4779c986>:58: RuntimeWarning: Mean of empty slice\n",
            "  arr1 = np.nanmean(temp_arr, axis = 0)\n"
          ]
        },
        {
          "output_type": "stream",
          "name": "stdout",
          "text": [
            "Case_ID: 4  Segment: 43\n"
          ]
        },
        {
          "output_type": "stream",
          "name": "stderr",
          "text": [
            "<ipython-input-41-7dce4779c986>:58: RuntimeWarning: Mean of empty slice\n",
            "  arr1 = np.nanmean(temp_arr, axis = 0)\n"
          ]
        },
        {
          "output_type": "stream",
          "name": "stdout",
          "text": [
            "Case_ID: 4  Segment: 44\n"
          ]
        },
        {
          "output_type": "stream",
          "name": "stderr",
          "text": [
            "<ipython-input-41-7dce4779c986>:58: RuntimeWarning: Mean of empty slice\n",
            "  arr1 = np.nanmean(temp_arr, axis = 0)\n"
          ]
        },
        {
          "output_type": "stream",
          "name": "stdout",
          "text": [
            "Case_ID: 4  Segment: 45\n"
          ]
        },
        {
          "output_type": "stream",
          "name": "stderr",
          "text": [
            "<ipython-input-41-7dce4779c986>:58: RuntimeWarning: Mean of empty slice\n",
            "  arr1 = np.nanmean(temp_arr, axis = 0)\n"
          ]
        },
        {
          "output_type": "stream",
          "name": "stdout",
          "text": [
            "Case_ID: 4  Segment: 46\n"
          ]
        },
        {
          "output_type": "stream",
          "name": "stderr",
          "text": [
            "<ipython-input-41-7dce4779c986>:58: RuntimeWarning: Mean of empty slice\n",
            "  arr1 = np.nanmean(temp_arr, axis = 0)\n"
          ]
        },
        {
          "output_type": "stream",
          "name": "stdout",
          "text": [
            "Case_ID: 4  Segment: 47\n"
          ]
        },
        {
          "output_type": "stream",
          "name": "stderr",
          "text": [
            "<ipython-input-41-7dce4779c986>:58: RuntimeWarning: Mean of empty slice\n",
            "  arr1 = np.nanmean(temp_arr, axis = 0)\n"
          ]
        },
        {
          "output_type": "stream",
          "name": "stdout",
          "text": [
            "Case_ID: 4  Segment: 48\n"
          ]
        },
        {
          "output_type": "stream",
          "name": "stderr",
          "text": [
            "<ipython-input-41-7dce4779c986>:58: RuntimeWarning: Mean of empty slice\n",
            "  arr1 = np.nanmean(temp_arr, axis = 0)\n"
          ]
        },
        {
          "output_type": "stream",
          "name": "stdout",
          "text": [
            "Case_ID: 4  Segment: 49\n"
          ]
        },
        {
          "output_type": "stream",
          "name": "stderr",
          "text": [
            "<ipython-input-41-7dce4779c986>:58: RuntimeWarning: Mean of empty slice\n",
            "  arr1 = np.nanmean(temp_arr, axis = 0)\n"
          ]
        },
        {
          "output_type": "stream",
          "name": "stdout",
          "text": [
            "Case_ID: 4  Segment: 50\n"
          ]
        },
        {
          "output_type": "stream",
          "name": "stderr",
          "text": [
            "<ipython-input-41-7dce4779c986>:58: RuntimeWarning: Mean of empty slice\n",
            "  arr1 = np.nanmean(temp_arr, axis = 0)\n"
          ]
        },
        {
          "output_type": "stream",
          "name": "stdout",
          "text": [
            "Case_ID: 4  Segment: 51\n"
          ]
        },
        {
          "output_type": "stream",
          "name": "stderr",
          "text": [
            "<ipython-input-41-7dce4779c986>:58: RuntimeWarning: Mean of empty slice\n",
            "  arr1 = np.nanmean(temp_arr, axis = 0)\n"
          ]
        },
        {
          "output_type": "stream",
          "name": "stdout",
          "text": [
            "Case_ID: 4  Segment: 52\n"
          ]
        },
        {
          "output_type": "stream",
          "name": "stderr",
          "text": [
            "<ipython-input-41-7dce4779c986>:58: RuntimeWarning: Mean of empty slice\n",
            "  arr1 = np.nanmean(temp_arr, axis = 0)\n"
          ]
        },
        {
          "output_type": "stream",
          "name": "stdout",
          "text": [
            "Case_ID: 4  Segment: 53\n"
          ]
        },
        {
          "output_type": "stream",
          "name": "stderr",
          "text": [
            "<ipython-input-41-7dce4779c986>:58: RuntimeWarning: Mean of empty slice\n",
            "  arr1 = np.nanmean(temp_arr, axis = 0)\n"
          ]
        },
        {
          "output_type": "stream",
          "name": "stdout",
          "text": [
            "Case_ID: 4  Segment: 54\n"
          ]
        },
        {
          "output_type": "stream",
          "name": "stderr",
          "text": [
            "<ipython-input-41-7dce4779c986>:58: RuntimeWarning: Mean of empty slice\n",
            "  arr1 = np.nanmean(temp_arr, axis = 0)\n"
          ]
        },
        {
          "output_type": "stream",
          "name": "stdout",
          "text": [
            "Case_ID: 4  Segment: 55\n"
          ]
        },
        {
          "output_type": "stream",
          "name": "stderr",
          "text": [
            "<ipython-input-41-7dce4779c986>:58: RuntimeWarning: Mean of empty slice\n",
            "  arr1 = np.nanmean(temp_arr, axis = 0)\n"
          ]
        },
        {
          "output_type": "stream",
          "name": "stdout",
          "text": [
            "Case_ID: 4  Segment: 56\n"
          ]
        },
        {
          "output_type": "stream",
          "name": "stderr",
          "text": [
            "<ipython-input-41-7dce4779c986>:58: RuntimeWarning: Mean of empty slice\n",
            "  arr1 = np.nanmean(temp_arr, axis = 0)\n"
          ]
        },
        {
          "output_type": "stream",
          "name": "stdout",
          "text": [
            "Case_ID: 4  Segment: 57\n"
          ]
        },
        {
          "output_type": "stream",
          "name": "stderr",
          "text": [
            "<ipython-input-41-7dce4779c986>:58: RuntimeWarning: Mean of empty slice\n",
            "  arr1 = np.nanmean(temp_arr, axis = 0)\n"
          ]
        },
        {
          "output_type": "stream",
          "name": "stdout",
          "text": [
            "Case_ID: 4  Segment: 58\n"
          ]
        },
        {
          "output_type": "stream",
          "name": "stderr",
          "text": [
            "<ipython-input-41-7dce4779c986>:58: RuntimeWarning: Mean of empty slice\n",
            "  arr1 = np.nanmean(temp_arr, axis = 0)\n"
          ]
        },
        {
          "output_type": "stream",
          "name": "stdout",
          "text": [
            "Case_ID: 4  Segment: 59\n"
          ]
        },
        {
          "output_type": "stream",
          "name": "stderr",
          "text": [
            "<ipython-input-41-7dce4779c986>:58: RuntimeWarning: Mean of empty slice\n",
            "  arr1 = np.nanmean(temp_arr, axis = 0)\n"
          ]
        },
        {
          "output_type": "stream",
          "name": "stdout",
          "text": [
            "Case_ID: 4  Segment: 60\n"
          ]
        },
        {
          "output_type": "stream",
          "name": "stderr",
          "text": [
            "<ipython-input-41-7dce4779c986>:58: RuntimeWarning: Mean of empty slice\n",
            "  arr1 = np.nanmean(temp_arr, axis = 0)\n"
          ]
        },
        {
          "output_type": "stream",
          "name": "stdout",
          "text": [
            "Case_ID: 4  Segment: 61\n"
          ]
        },
        {
          "output_type": "stream",
          "name": "stderr",
          "text": [
            "<ipython-input-41-7dce4779c986>:58: RuntimeWarning: Mean of empty slice\n",
            "  arr1 = np.nanmean(temp_arr, axis = 0)\n"
          ]
        },
        {
          "output_type": "stream",
          "name": "stdout",
          "text": [
            "Case_ID: 4  Segment: 62\n"
          ]
        },
        {
          "output_type": "stream",
          "name": "stderr",
          "text": [
            "<ipython-input-41-7dce4779c986>:58: RuntimeWarning: Mean of empty slice\n",
            "  arr1 = np.nanmean(temp_arr, axis = 0)\n"
          ]
        },
        {
          "output_type": "stream",
          "name": "stdout",
          "text": [
            "Case_ID: 4  Segment: 63\n"
          ]
        },
        {
          "output_type": "stream",
          "name": "stderr",
          "text": [
            "<ipython-input-41-7dce4779c986>:58: RuntimeWarning: Mean of empty slice\n",
            "  arr1 = np.nanmean(temp_arr, axis = 0)\n"
          ]
        },
        {
          "output_type": "stream",
          "name": "stdout",
          "text": [
            "Case_ID: 4  Segment: 64\n"
          ]
        },
        {
          "output_type": "stream",
          "name": "stderr",
          "text": [
            "<ipython-input-41-7dce4779c986>:58: RuntimeWarning: Mean of empty slice\n",
            "  arr1 = np.nanmean(temp_arr, axis = 0)\n"
          ]
        },
        {
          "output_type": "stream",
          "name": "stdout",
          "text": [
            "Case_ID: 4  Segment: 65\n"
          ]
        },
        {
          "output_type": "stream",
          "name": "stderr",
          "text": [
            "<ipython-input-41-7dce4779c986>:58: RuntimeWarning: Mean of empty slice\n",
            "  arr1 = np.nanmean(temp_arr, axis = 0)\n"
          ]
        },
        {
          "output_type": "stream",
          "name": "stdout",
          "text": [
            "Case_ID: 4  Segment: 66\n"
          ]
        },
        {
          "output_type": "stream",
          "name": "stderr",
          "text": [
            "<ipython-input-41-7dce4779c986>:58: RuntimeWarning: Mean of empty slice\n",
            "  arr1 = np.nanmean(temp_arr, axis = 0)\n"
          ]
        },
        {
          "output_type": "stream",
          "name": "stdout",
          "text": [
            "Case_ID: 4  Segment: 67\n"
          ]
        },
        {
          "output_type": "stream",
          "name": "stderr",
          "text": [
            "<ipython-input-41-7dce4779c986>:58: RuntimeWarning: Mean of empty slice\n",
            "  arr1 = np.nanmean(temp_arr, axis = 0)\n"
          ]
        },
        {
          "output_type": "stream",
          "name": "stdout",
          "text": [
            "Case_ID: 4  Segment: 68\n"
          ]
        },
        {
          "output_type": "stream",
          "name": "stderr",
          "text": [
            "<ipython-input-41-7dce4779c986>:58: RuntimeWarning: Mean of empty slice\n",
            "  arr1 = np.nanmean(temp_arr, axis = 0)\n"
          ]
        },
        {
          "output_type": "stream",
          "name": "stdout",
          "text": [
            "Case_ID: 4  Segment: 69\n"
          ]
        },
        {
          "output_type": "stream",
          "name": "stderr",
          "text": [
            "<ipython-input-41-7dce4779c986>:58: RuntimeWarning: Mean of empty slice\n",
            "  arr1 = np.nanmean(temp_arr, axis = 0)\n"
          ]
        },
        {
          "output_type": "stream",
          "name": "stdout",
          "text": [
            "Case_ID: 4  Segment: 70\n"
          ]
        },
        {
          "output_type": "stream",
          "name": "stderr",
          "text": [
            "<ipython-input-41-7dce4779c986>:58: RuntimeWarning: Mean of empty slice\n",
            "  arr1 = np.nanmean(temp_arr, axis = 0)\n"
          ]
        },
        {
          "output_type": "stream",
          "name": "stdout",
          "text": [
            "Case_ID: 4  Segment: 71\n"
          ]
        },
        {
          "output_type": "stream",
          "name": "stderr",
          "text": [
            "<ipython-input-41-7dce4779c986>:58: RuntimeWarning: Mean of empty slice\n",
            "  arr1 = np.nanmean(temp_arr, axis = 0)\n"
          ]
        },
        {
          "output_type": "stream",
          "name": "stdout",
          "text": [
            "Case_ID: 4  Segment: 72\n"
          ]
        },
        {
          "output_type": "stream",
          "name": "stderr",
          "text": [
            "<ipython-input-41-7dce4779c986>:58: RuntimeWarning: Mean of empty slice\n",
            "  arr1 = np.nanmean(temp_arr, axis = 0)\n"
          ]
        },
        {
          "output_type": "stream",
          "name": "stdout",
          "text": [
            "Case_ID: 4  Segment: 73\n"
          ]
        },
        {
          "output_type": "stream",
          "name": "stderr",
          "text": [
            "<ipython-input-41-7dce4779c986>:58: RuntimeWarning: Mean of empty slice\n",
            "  arr1 = np.nanmean(temp_arr, axis = 0)\n"
          ]
        },
        {
          "output_type": "stream",
          "name": "stdout",
          "text": [
            "Case_ID: 4  Segment: 74\n"
          ]
        },
        {
          "output_type": "stream",
          "name": "stderr",
          "text": [
            "<ipython-input-41-7dce4779c986>:58: RuntimeWarning: Mean of empty slice\n",
            "  arr1 = np.nanmean(temp_arr, axis = 0)\n"
          ]
        },
        {
          "output_type": "stream",
          "name": "stdout",
          "text": [
            "Case_ID: 4  Segment: 75\n"
          ]
        },
        {
          "output_type": "stream",
          "name": "stderr",
          "text": [
            "<ipython-input-41-7dce4779c986>:58: RuntimeWarning: Mean of empty slice\n",
            "  arr1 = np.nanmean(temp_arr, axis = 0)\n"
          ]
        },
        {
          "output_type": "stream",
          "name": "stdout",
          "text": [
            "Case_ID: 4  Segment: 76\n"
          ]
        },
        {
          "output_type": "stream",
          "name": "stderr",
          "text": [
            "<ipython-input-41-7dce4779c986>:58: RuntimeWarning: Mean of empty slice\n",
            "  arr1 = np.nanmean(temp_arr, axis = 0)\n"
          ]
        },
        {
          "output_type": "stream",
          "name": "stdout",
          "text": [
            "Case_ID: 4  Segment: 77\n"
          ]
        },
        {
          "output_type": "stream",
          "name": "stderr",
          "text": [
            "<ipython-input-41-7dce4779c986>:58: RuntimeWarning: Mean of empty slice\n",
            "  arr1 = np.nanmean(temp_arr, axis = 0)\n"
          ]
        },
        {
          "output_type": "stream",
          "name": "stdout",
          "text": [
            "Case_ID: 4  Segment: 78\n"
          ]
        },
        {
          "output_type": "stream",
          "name": "stderr",
          "text": [
            "<ipython-input-41-7dce4779c986>:58: RuntimeWarning: Mean of empty slice\n",
            "  arr1 = np.nanmean(temp_arr, axis = 0)\n"
          ]
        },
        {
          "output_type": "stream",
          "name": "stdout",
          "text": [
            "Case_ID: 4  Segment: 79\n"
          ]
        },
        {
          "output_type": "stream",
          "name": "stderr",
          "text": [
            "<ipython-input-41-7dce4779c986>:58: RuntimeWarning: Mean of empty slice\n",
            "  arr1 = np.nanmean(temp_arr, axis = 0)\n"
          ]
        },
        {
          "output_type": "stream",
          "name": "stdout",
          "text": [
            "Case_ID: 4  Segment: 80\n"
          ]
        },
        {
          "output_type": "stream",
          "name": "stderr",
          "text": [
            "<ipython-input-41-7dce4779c986>:58: RuntimeWarning: Mean of empty slice\n",
            "  arr1 = np.nanmean(temp_arr, axis = 0)\n"
          ]
        },
        {
          "output_type": "stream",
          "name": "stdout",
          "text": [
            "Case_ID: 4  Segment: 81\n"
          ]
        },
        {
          "output_type": "stream",
          "name": "stderr",
          "text": [
            "<ipython-input-41-7dce4779c986>:58: RuntimeWarning: Mean of empty slice\n",
            "  arr1 = np.nanmean(temp_arr, axis = 0)\n"
          ]
        },
        {
          "output_type": "stream",
          "name": "stdout",
          "text": [
            "Case_ID: 4  Segment: 82\n"
          ]
        },
        {
          "output_type": "stream",
          "name": "stderr",
          "text": [
            "<ipython-input-41-7dce4779c986>:58: RuntimeWarning: Mean of empty slice\n",
            "  arr1 = np.nanmean(temp_arr, axis = 0)\n"
          ]
        },
        {
          "output_type": "stream",
          "name": "stdout",
          "text": [
            "Case_ID: 4  Segment: 83\n"
          ]
        },
        {
          "output_type": "stream",
          "name": "stderr",
          "text": [
            "<ipython-input-41-7dce4779c986>:58: RuntimeWarning: Mean of empty slice\n",
            "  arr1 = np.nanmean(temp_arr, axis = 0)\n"
          ]
        },
        {
          "output_type": "stream",
          "name": "stdout",
          "text": [
            "Case_ID: 4  Segment: 84\n"
          ]
        },
        {
          "output_type": "stream",
          "name": "stderr",
          "text": [
            "<ipython-input-41-7dce4779c986>:58: RuntimeWarning: Mean of empty slice\n",
            "  arr1 = np.nanmean(temp_arr, axis = 0)\n"
          ]
        },
        {
          "output_type": "stream",
          "name": "stdout",
          "text": [
            "Case_ID: 4  Segment: 85\n"
          ]
        },
        {
          "output_type": "stream",
          "name": "stderr",
          "text": [
            "<ipython-input-41-7dce4779c986>:58: RuntimeWarning: Mean of empty slice\n",
            "  arr1 = np.nanmean(temp_arr, axis = 0)\n"
          ]
        },
        {
          "output_type": "stream",
          "name": "stdout",
          "text": [
            "Case_ID: 4  Segment: 86\n"
          ]
        },
        {
          "output_type": "stream",
          "name": "stderr",
          "text": [
            "<ipython-input-41-7dce4779c986>:58: RuntimeWarning: Mean of empty slice\n",
            "  arr1 = np.nanmean(temp_arr, axis = 0)\n"
          ]
        },
        {
          "output_type": "stream",
          "name": "stdout",
          "text": [
            "Case_ID: 4  Segment: 87\n"
          ]
        },
        {
          "output_type": "stream",
          "name": "stderr",
          "text": [
            "<ipython-input-41-7dce4779c986>:58: RuntimeWarning: Mean of empty slice\n",
            "  arr1 = np.nanmean(temp_arr, axis = 0)\n"
          ]
        },
        {
          "output_type": "stream",
          "name": "stdout",
          "text": [
            "Case_ID: 4  Segment: 88\n"
          ]
        },
        {
          "output_type": "stream",
          "name": "stderr",
          "text": [
            "<ipython-input-41-7dce4779c986>:58: RuntimeWarning: Mean of empty slice\n",
            "  arr1 = np.nanmean(temp_arr, axis = 0)\n"
          ]
        },
        {
          "output_type": "stream",
          "name": "stdout",
          "text": [
            "Case_ID: 4  Segment: 89\n"
          ]
        },
        {
          "output_type": "stream",
          "name": "stderr",
          "text": [
            "<ipython-input-41-7dce4779c986>:58: RuntimeWarning: Mean of empty slice\n",
            "  arr1 = np.nanmean(temp_arr, axis = 0)\n"
          ]
        },
        {
          "output_type": "stream",
          "name": "stdout",
          "text": [
            "Case_ID: 4  Segment: 90\n"
          ]
        },
        {
          "output_type": "stream",
          "name": "stderr",
          "text": [
            "<ipython-input-41-7dce4779c986>:58: RuntimeWarning: Mean of empty slice\n",
            "  arr1 = np.nanmean(temp_arr, axis = 0)\n"
          ]
        },
        {
          "output_type": "stream",
          "name": "stdout",
          "text": [
            "Case_ID: 4  Segment: 91\n"
          ]
        },
        {
          "output_type": "stream",
          "name": "stderr",
          "text": [
            "<ipython-input-41-7dce4779c986>:58: RuntimeWarning: Mean of empty slice\n",
            "  arr1 = np.nanmean(temp_arr, axis = 0)\n"
          ]
        },
        {
          "output_type": "stream",
          "name": "stdout",
          "text": [
            "Case_ID: 4  Segment: 92\n"
          ]
        },
        {
          "output_type": "stream",
          "name": "stderr",
          "text": [
            "<ipython-input-41-7dce4779c986>:58: RuntimeWarning: Mean of empty slice\n",
            "  arr1 = np.nanmean(temp_arr, axis = 0)\n"
          ]
        },
        {
          "output_type": "stream",
          "name": "stdout",
          "text": [
            "Case_ID: 4  Segment: 93\n"
          ]
        },
        {
          "output_type": "stream",
          "name": "stderr",
          "text": [
            "<ipython-input-41-7dce4779c986>:58: RuntimeWarning: Mean of empty slice\n",
            "  arr1 = np.nanmean(temp_arr, axis = 0)\n"
          ]
        },
        {
          "output_type": "stream",
          "name": "stdout",
          "text": [
            "Case_ID: 4  Segment: 94\n"
          ]
        },
        {
          "output_type": "stream",
          "name": "stderr",
          "text": [
            "<ipython-input-41-7dce4779c986>:58: RuntimeWarning: Mean of empty slice\n",
            "  arr1 = np.nanmean(temp_arr, axis = 0)\n"
          ]
        },
        {
          "output_type": "stream",
          "name": "stdout",
          "text": [
            "Case_ID: 4  Segment: 95\n"
          ]
        },
        {
          "output_type": "stream",
          "name": "stderr",
          "text": [
            "<ipython-input-41-7dce4779c986>:58: RuntimeWarning: Mean of empty slice\n",
            "  arr1 = np.nanmean(temp_arr, axis = 0)\n"
          ]
        },
        {
          "output_type": "stream",
          "name": "stdout",
          "text": [
            "Case_ID: 4  Segment: 96\n"
          ]
        },
        {
          "output_type": "stream",
          "name": "stderr",
          "text": [
            "<ipython-input-41-7dce4779c986>:58: RuntimeWarning: Mean of empty slice\n",
            "  arr1 = np.nanmean(temp_arr, axis = 0)\n"
          ]
        },
        {
          "output_type": "stream",
          "name": "stdout",
          "text": [
            "Case_ID: 4  Segment: 97\n"
          ]
        },
        {
          "output_type": "stream",
          "name": "stderr",
          "text": [
            "<ipython-input-41-7dce4779c986>:58: RuntimeWarning: Mean of empty slice\n",
            "  arr1 = np.nanmean(temp_arr, axis = 0)\n"
          ]
        },
        {
          "output_type": "stream",
          "name": "stdout",
          "text": [
            "Case_ID: 4  Segment: 98\n"
          ]
        },
        {
          "output_type": "stream",
          "name": "stderr",
          "text": [
            "<ipython-input-41-7dce4779c986>:58: RuntimeWarning: Mean of empty slice\n",
            "  arr1 = np.nanmean(temp_arr, axis = 0)\n"
          ]
        },
        {
          "output_type": "stream",
          "name": "stdout",
          "text": [
            "Case_ID: 4  Segment: 99\n"
          ]
        },
        {
          "output_type": "stream",
          "name": "stderr",
          "text": [
            "<ipython-input-41-7dce4779c986>:58: RuntimeWarning: Mean of empty slice\n",
            "  arr1 = np.nanmean(temp_arr, axis = 0)\n"
          ]
        },
        {
          "output_type": "stream",
          "name": "stdout",
          "text": [
            "Case_ID: 4  Segment: 100\n"
          ]
        },
        {
          "output_type": "stream",
          "name": "stderr",
          "text": [
            "<ipython-input-41-7dce4779c986>:58: RuntimeWarning: Mean of empty slice\n",
            "  arr1 = np.nanmean(temp_arr, axis = 0)\n"
          ]
        },
        {
          "output_type": "stream",
          "name": "stdout",
          "text": [
            "Case_ID: 4  Segment: 101\n"
          ]
        },
        {
          "output_type": "stream",
          "name": "stderr",
          "text": [
            "<ipython-input-41-7dce4779c986>:58: RuntimeWarning: Mean of empty slice\n",
            "  arr1 = np.nanmean(temp_arr, axis = 0)\n"
          ]
        },
        {
          "output_type": "stream",
          "name": "stdout",
          "text": [
            "Case_ID: 4  Segment: 102\n"
          ]
        },
        {
          "output_type": "stream",
          "name": "stderr",
          "text": [
            "<ipython-input-41-7dce4779c986>:58: RuntimeWarning: Mean of empty slice\n",
            "  arr1 = np.nanmean(temp_arr, axis = 0)\n"
          ]
        },
        {
          "output_type": "stream",
          "name": "stdout",
          "text": [
            "Case_ID: 4  Segment: 103\n"
          ]
        },
        {
          "output_type": "stream",
          "name": "stderr",
          "text": [
            "<ipython-input-41-7dce4779c986>:58: RuntimeWarning: Mean of empty slice\n",
            "  arr1 = np.nanmean(temp_arr, axis = 0)\n"
          ]
        },
        {
          "output_type": "stream",
          "name": "stdout",
          "text": [
            "Case_ID: 4  Segment: 104\n",
            "--------ERORR------!!!\n",
            "Case_ID: 4  Segment: 104\n"
          ]
        },
        {
          "output_type": "stream",
          "name": "stderr",
          "text": [
            "<ipython-input-41-7dce4779c986>:58: RuntimeWarning: Mean of empty slice\n",
            "  arr1 = np.nanmean(temp_arr, axis = 0)\n"
          ]
        },
        {
          "output_type": "stream",
          "name": "stdout",
          "text": [
            "Case_ID: 4  Segment: 105\n"
          ]
        },
        {
          "output_type": "stream",
          "name": "stderr",
          "text": [
            "<ipython-input-41-7dce4779c986>:58: RuntimeWarning: Mean of empty slice\n",
            "  arr1 = np.nanmean(temp_arr, axis = 0)\n"
          ]
        },
        {
          "output_type": "stream",
          "name": "stdout",
          "text": [
            "Case_ID: 4  Segment: 106\n"
          ]
        },
        {
          "output_type": "stream",
          "name": "stderr",
          "text": [
            "<ipython-input-41-7dce4779c986>:58: RuntimeWarning: Mean of empty slice\n",
            "  arr1 = np.nanmean(temp_arr, axis = 0)\n"
          ]
        },
        {
          "output_type": "stream",
          "name": "stdout",
          "text": [
            "Case_ID: 4  Segment: 107\n"
          ]
        },
        {
          "output_type": "stream",
          "name": "stderr",
          "text": [
            "<ipython-input-41-7dce4779c986>:58: RuntimeWarning: Mean of empty slice\n",
            "  arr1 = np.nanmean(temp_arr, axis = 0)\n"
          ]
        },
        {
          "output_type": "stream",
          "name": "stdout",
          "text": [
            "Case_ID: 4  Segment: 108\n"
          ]
        },
        {
          "output_type": "stream",
          "name": "stderr",
          "text": [
            "<ipython-input-41-7dce4779c986>:58: RuntimeWarning: Mean of empty slice\n",
            "  arr1 = np.nanmean(temp_arr, axis = 0)\n"
          ]
        },
        {
          "output_type": "stream",
          "name": "stdout",
          "text": [
            "Case_ID: 4  Segment: 109\n"
          ]
        },
        {
          "output_type": "stream",
          "name": "stderr",
          "text": [
            "<ipython-input-41-7dce4779c986>:58: RuntimeWarning: Mean of empty slice\n",
            "  arr1 = np.nanmean(temp_arr, axis = 0)\n"
          ]
        },
        {
          "output_type": "stream",
          "name": "stdout",
          "text": [
            "Case_ID: 4  Segment: 110\n"
          ]
        },
        {
          "output_type": "stream",
          "name": "stderr",
          "text": [
            "<ipython-input-41-7dce4779c986>:58: RuntimeWarning: Mean of empty slice\n",
            "  arr1 = np.nanmean(temp_arr, axis = 0)\n"
          ]
        },
        {
          "output_type": "stream",
          "name": "stdout",
          "text": [
            "Case_ID: 4  Segment: 111\n"
          ]
        },
        {
          "output_type": "stream",
          "name": "stderr",
          "text": [
            "<ipython-input-41-7dce4779c986>:58: RuntimeWarning: Mean of empty slice\n",
            "  arr1 = np.nanmean(temp_arr, axis = 0)\n"
          ]
        },
        {
          "output_type": "stream",
          "name": "stdout",
          "text": [
            "Case_ID: 4  Segment: 112\n"
          ]
        },
        {
          "output_type": "stream",
          "name": "stderr",
          "text": [
            "<ipython-input-41-7dce4779c986>:58: RuntimeWarning: Mean of empty slice\n",
            "  arr1 = np.nanmean(temp_arr, axis = 0)\n"
          ]
        },
        {
          "output_type": "stream",
          "name": "stdout",
          "text": [
            "Case_ID: 4  Segment: 113\n"
          ]
        },
        {
          "output_type": "stream",
          "name": "stderr",
          "text": [
            "<ipython-input-41-7dce4779c986>:58: RuntimeWarning: Mean of empty slice\n",
            "  arr1 = np.nanmean(temp_arr, axis = 0)\n"
          ]
        },
        {
          "output_type": "stream",
          "name": "stdout",
          "text": [
            "Case_ID: 4  Segment: 114\n"
          ]
        },
        {
          "output_type": "stream",
          "name": "stderr",
          "text": [
            "<ipython-input-41-7dce4779c986>:58: RuntimeWarning: Mean of empty slice\n",
            "  arr1 = np.nanmean(temp_arr, axis = 0)\n"
          ]
        },
        {
          "output_type": "stream",
          "name": "stdout",
          "text": [
            "Case_ID: 4  Segment: 115\n"
          ]
        },
        {
          "output_type": "stream",
          "name": "stderr",
          "text": [
            "<ipython-input-41-7dce4779c986>:58: RuntimeWarning: Mean of empty slice\n",
            "  arr1 = np.nanmean(temp_arr, axis = 0)\n"
          ]
        },
        {
          "output_type": "stream",
          "name": "stdout",
          "text": [
            "Case_ID: 4  Segment: 116\n"
          ]
        },
        {
          "output_type": "stream",
          "name": "stderr",
          "text": [
            "<ipython-input-41-7dce4779c986>:58: RuntimeWarning: Mean of empty slice\n",
            "  arr1 = np.nanmean(temp_arr, axis = 0)\n"
          ]
        },
        {
          "output_type": "stream",
          "name": "stdout",
          "text": [
            "Case_ID: 4  Segment: 117\n"
          ]
        },
        {
          "output_type": "stream",
          "name": "stderr",
          "text": [
            "<ipython-input-41-7dce4779c986>:58: RuntimeWarning: Mean of empty slice\n",
            "  arr1 = np.nanmean(temp_arr, axis = 0)\n"
          ]
        },
        {
          "output_type": "stream",
          "name": "stdout",
          "text": [
            "Case_ID: 4  Segment: 118\n"
          ]
        },
        {
          "output_type": "stream",
          "name": "stderr",
          "text": [
            "<ipython-input-41-7dce4779c986>:58: RuntimeWarning: Mean of empty slice\n",
            "  arr1 = np.nanmean(temp_arr, axis = 0)\n"
          ]
        },
        {
          "output_type": "stream",
          "name": "stdout",
          "text": [
            "Case_ID: 4  Segment: 119\n"
          ]
        },
        {
          "output_type": "stream",
          "name": "stderr",
          "text": [
            "<ipython-input-41-7dce4779c986>:58: RuntimeWarning: Mean of empty slice\n",
            "  arr1 = np.nanmean(temp_arr, axis = 0)\n"
          ]
        },
        {
          "output_type": "stream",
          "name": "stdout",
          "text": [
            "Case_ID: 4  Segment: 120\n",
            "--------ERORR------!!!\n",
            "Case_ID: 4  Segment: 120\n"
          ]
        },
        {
          "output_type": "stream",
          "name": "stderr",
          "text": [
            "<ipython-input-41-7dce4779c986>:58: RuntimeWarning: Mean of empty slice\n",
            "  arr1 = np.nanmean(temp_arr, axis = 0)\n"
          ]
        },
        {
          "output_type": "stream",
          "name": "stdout",
          "text": [
            "Case_ID: 4  Segment: 121\n"
          ]
        },
        {
          "output_type": "stream",
          "name": "stderr",
          "text": [
            "<ipython-input-41-7dce4779c986>:58: RuntimeWarning: Mean of empty slice\n",
            "  arr1 = np.nanmean(temp_arr, axis = 0)\n"
          ]
        },
        {
          "output_type": "stream",
          "name": "stdout",
          "text": [
            "Case_ID: 4  Segment: 122\n"
          ]
        },
        {
          "output_type": "stream",
          "name": "stderr",
          "text": [
            "<ipython-input-41-7dce4779c986>:58: RuntimeWarning: Mean of empty slice\n",
            "  arr1 = np.nanmean(temp_arr, axis = 0)\n"
          ]
        },
        {
          "output_type": "stream",
          "name": "stdout",
          "text": [
            "Case_ID: 4  Segment: 123\n"
          ]
        },
        {
          "output_type": "stream",
          "name": "stderr",
          "text": [
            "<ipython-input-41-7dce4779c986>:58: RuntimeWarning: Mean of empty slice\n",
            "  arr1 = np.nanmean(temp_arr, axis = 0)\n"
          ]
        },
        {
          "output_type": "stream",
          "name": "stdout",
          "text": [
            "Case_ID: 4  Segment: 124\n"
          ]
        },
        {
          "output_type": "stream",
          "name": "stderr",
          "text": [
            "<ipython-input-41-7dce4779c986>:58: RuntimeWarning: Mean of empty slice\n",
            "  arr1 = np.nanmean(temp_arr, axis = 0)\n"
          ]
        },
        {
          "output_type": "stream",
          "name": "stdout",
          "text": [
            "Case_ID: 4  Segment: 125\n"
          ]
        },
        {
          "output_type": "stream",
          "name": "stderr",
          "text": [
            "<ipython-input-41-7dce4779c986>:58: RuntimeWarning: Mean of empty slice\n",
            "  arr1 = np.nanmean(temp_arr, axis = 0)\n"
          ]
        },
        {
          "output_type": "stream",
          "name": "stdout",
          "text": [
            "Case_ID: 4  Segment: 126\n",
            "--------ERORR------!!!\n",
            "Case_ID: 4  Segment: 126\n"
          ]
        },
        {
          "output_type": "stream",
          "name": "stderr",
          "text": [
            "<ipython-input-41-7dce4779c986>:58: RuntimeWarning: Mean of empty slice\n",
            "  arr1 = np.nanmean(temp_arr, axis = 0)\n"
          ]
        },
        {
          "output_type": "stream",
          "name": "stdout",
          "text": [
            "Case_ID: 4  Segment: 127\n"
          ]
        },
        {
          "output_type": "stream",
          "name": "stderr",
          "text": [
            "<ipython-input-41-7dce4779c986>:58: RuntimeWarning: Mean of empty slice\n",
            "  arr1 = np.nanmean(temp_arr, axis = 0)\n"
          ]
        },
        {
          "output_type": "stream",
          "name": "stdout",
          "text": [
            "Case_ID: 4  Segment: 128\n"
          ]
        },
        {
          "output_type": "stream",
          "name": "stderr",
          "text": [
            "<ipython-input-41-7dce4779c986>:58: RuntimeWarning: Mean of empty slice\n",
            "  arr1 = np.nanmean(temp_arr, axis = 0)\n"
          ]
        },
        {
          "output_type": "stream",
          "name": "stdout",
          "text": [
            "Case_ID: 4  Segment: 129\n"
          ]
        },
        {
          "output_type": "stream",
          "name": "stderr",
          "text": [
            "<ipython-input-41-7dce4779c986>:58: RuntimeWarning: Mean of empty slice\n",
            "  arr1 = np.nanmean(temp_arr, axis = 0)\n"
          ]
        },
        {
          "output_type": "stream",
          "name": "stdout",
          "text": [
            "Case_ID: 4  Segment: 130\n"
          ]
        },
        {
          "output_type": "stream",
          "name": "stderr",
          "text": [
            "<ipython-input-41-7dce4779c986>:58: RuntimeWarning: Mean of empty slice\n",
            "  arr1 = np.nanmean(temp_arr, axis = 0)\n"
          ]
        },
        {
          "output_type": "stream",
          "name": "stdout",
          "text": [
            "Case_ID: 4  Segment: 131\n"
          ]
        },
        {
          "output_type": "stream",
          "name": "stderr",
          "text": [
            "<ipython-input-41-7dce4779c986>:58: RuntimeWarning: Mean of empty slice\n",
            "  arr1 = np.nanmean(temp_arr, axis = 0)\n"
          ]
        },
        {
          "output_type": "stream",
          "name": "stdout",
          "text": [
            "Case_ID: 4  Segment: 132\n",
            "--------ERORR------!!!\n",
            "Case_ID: 4  Segment: 132\n"
          ]
        },
        {
          "output_type": "stream",
          "name": "stderr",
          "text": [
            "<ipython-input-41-7dce4779c986>:58: RuntimeWarning: Mean of empty slice\n",
            "  arr1 = np.nanmean(temp_arr, axis = 0)\n"
          ]
        },
        {
          "output_type": "stream",
          "name": "stdout",
          "text": [
            "Case_ID: 4  Segment: 133\n"
          ]
        },
        {
          "output_type": "stream",
          "name": "stderr",
          "text": [
            "<ipython-input-41-7dce4779c986>:58: RuntimeWarning: Mean of empty slice\n",
            "  arr1 = np.nanmean(temp_arr, axis = 0)\n"
          ]
        },
        {
          "output_type": "stream",
          "name": "stdout",
          "text": [
            "Case_ID: 4  Segment: 134\n",
            "--------ERORR------!!!\n",
            "Case_ID: 4  Segment: 134\n"
          ]
        },
        {
          "output_type": "stream",
          "name": "stderr",
          "text": [
            "<ipython-input-41-7dce4779c986>:58: RuntimeWarning: Mean of empty slice\n",
            "  arr1 = np.nanmean(temp_arr, axis = 0)\n"
          ]
        },
        {
          "output_type": "stream",
          "name": "stdout",
          "text": [
            "Case_ID: 4  Segment: 135\n"
          ]
        },
        {
          "output_type": "stream",
          "name": "stderr",
          "text": [
            "<ipython-input-41-7dce4779c986>:58: RuntimeWarning: Mean of empty slice\n",
            "  arr1 = np.nanmean(temp_arr, axis = 0)\n"
          ]
        },
        {
          "output_type": "stream",
          "name": "stdout",
          "text": [
            "Case_ID: 4  Segment: 136\n"
          ]
        },
        {
          "output_type": "stream",
          "name": "stderr",
          "text": [
            "<ipython-input-41-7dce4779c986>:58: RuntimeWarning: Mean of empty slice\n",
            "  arr1 = np.nanmean(temp_arr, axis = 0)\n"
          ]
        },
        {
          "output_type": "stream",
          "name": "stdout",
          "text": [
            "Case_ID: 4  Segment: 137\n"
          ]
        },
        {
          "output_type": "stream",
          "name": "stderr",
          "text": [
            "<ipython-input-41-7dce4779c986>:58: RuntimeWarning: Mean of empty slice\n",
            "  arr1 = np.nanmean(temp_arr, axis = 0)\n"
          ]
        },
        {
          "output_type": "stream",
          "name": "stdout",
          "text": [
            "Case_ID: 4  Segment: 138\n"
          ]
        },
        {
          "output_type": "stream",
          "name": "stderr",
          "text": [
            "<ipython-input-41-7dce4779c986>:58: RuntimeWarning: Mean of empty slice\n",
            "  arr1 = np.nanmean(temp_arr, axis = 0)\n"
          ]
        },
        {
          "output_type": "stream",
          "name": "stdout",
          "text": [
            "Case_ID: 4  Segment: 139\n"
          ]
        },
        {
          "output_type": "stream",
          "name": "stderr",
          "text": [
            "<ipython-input-41-7dce4779c986>:58: RuntimeWarning: Mean of empty slice\n",
            "  arr1 = np.nanmean(temp_arr, axis = 0)\n"
          ]
        },
        {
          "output_type": "stream",
          "name": "stdout",
          "text": [
            "Case_ID: 4  Segment: 140\n"
          ]
        },
        {
          "output_type": "stream",
          "name": "stderr",
          "text": [
            "<ipython-input-41-7dce4779c986>:58: RuntimeWarning: Mean of empty slice\n",
            "  arr1 = np.nanmean(temp_arr, axis = 0)\n"
          ]
        },
        {
          "output_type": "stream",
          "name": "stdout",
          "text": [
            "Case_ID: 4  Segment: 141\n"
          ]
        },
        {
          "output_type": "stream",
          "name": "stderr",
          "text": [
            "<ipython-input-41-7dce4779c986>:58: RuntimeWarning: Mean of empty slice\n",
            "  arr1 = np.nanmean(temp_arr, axis = 0)\n"
          ]
        },
        {
          "output_type": "stream",
          "name": "stdout",
          "text": [
            "Case_ID: 4  Segment: 142\n"
          ]
        },
        {
          "output_type": "stream",
          "name": "stderr",
          "text": [
            "<ipython-input-41-7dce4779c986>:58: RuntimeWarning: Mean of empty slice\n",
            "  arr1 = np.nanmean(temp_arr, axis = 0)\n"
          ]
        },
        {
          "output_type": "stream",
          "name": "stdout",
          "text": [
            "Case_ID: 4  Segment: 143\n"
          ]
        },
        {
          "output_type": "stream",
          "name": "stderr",
          "text": [
            "<ipython-input-41-7dce4779c986>:58: RuntimeWarning: Mean of empty slice\n",
            "  arr1 = np.nanmean(temp_arr, axis = 0)\n"
          ]
        },
        {
          "output_type": "stream",
          "name": "stdout",
          "text": [
            "Case_ID: 4  Segment: 144\n",
            "--------ERORR------!!!\n",
            "Case_ID: 4  Segment: 144\n"
          ]
        },
        {
          "output_type": "stream",
          "name": "stderr",
          "text": [
            "<ipython-input-41-7dce4779c986>:58: RuntimeWarning: Mean of empty slice\n",
            "  arr1 = np.nanmean(temp_arr, axis = 0)\n"
          ]
        },
        {
          "output_type": "stream",
          "name": "stdout",
          "text": [
            "Case_ID: 4  Segment: 145\n"
          ]
        },
        {
          "output_type": "stream",
          "name": "stderr",
          "text": [
            "<ipython-input-41-7dce4779c986>:58: RuntimeWarning: Mean of empty slice\n",
            "  arr1 = np.nanmean(temp_arr, axis = 0)\n"
          ]
        },
        {
          "output_type": "stream",
          "name": "stdout",
          "text": [
            "Case_ID: 4  Segment: 146\n",
            "--------ERORR------!!!\n",
            "Case_ID: 4  Segment: 146\n",
            "--------ERORR------!!!\n",
            "Case_ID: 4  Segment: 146\n"
          ]
        },
        {
          "output_type": "stream",
          "name": "stderr",
          "text": [
            "<ipython-input-41-7dce4779c986>:58: RuntimeWarning: Mean of empty slice\n",
            "  arr1 = np.nanmean(temp_arr, axis = 0)\n"
          ]
        },
        {
          "output_type": "stream",
          "name": "stdout",
          "text": [
            "Case_ID: 4  Segment: 147\n"
          ]
        },
        {
          "output_type": "stream",
          "name": "stderr",
          "text": [
            "<ipython-input-41-7dce4779c986>:58: RuntimeWarning: Mean of empty slice\n",
            "  arr1 = np.nanmean(temp_arr, axis = 0)\n"
          ]
        },
        {
          "output_type": "stream",
          "name": "stdout",
          "text": [
            "Case_ID: 4  Segment: 148\n"
          ]
        },
        {
          "output_type": "stream",
          "name": "stderr",
          "text": [
            "<ipython-input-41-7dce4779c986>:58: RuntimeWarning: Mean of empty slice\n",
            "  arr1 = np.nanmean(temp_arr, axis = 0)\n"
          ]
        },
        {
          "output_type": "stream",
          "name": "stdout",
          "text": [
            "Case_ID: 4  Segment: 149\n"
          ]
        },
        {
          "output_type": "stream",
          "name": "stderr",
          "text": [
            "<ipython-input-41-7dce4779c986>:58: RuntimeWarning: Mean of empty slice\n",
            "  arr1 = np.nanmean(temp_arr, axis = 0)\n"
          ]
        },
        {
          "output_type": "stream",
          "name": "stdout",
          "text": [
            "Case_ID: 4  Segment: 150\n"
          ]
        },
        {
          "output_type": "stream",
          "name": "stderr",
          "text": [
            "<ipython-input-41-7dce4779c986>:58: RuntimeWarning: Mean of empty slice\n",
            "  arr1 = np.nanmean(temp_arr, axis = 0)\n"
          ]
        },
        {
          "output_type": "stream",
          "name": "stdout",
          "text": [
            "Case_ID: 4  Segment: 151\n"
          ]
        },
        {
          "output_type": "stream",
          "name": "stderr",
          "text": [
            "<ipython-input-41-7dce4779c986>:58: RuntimeWarning: Mean of empty slice\n",
            "  arr1 = np.nanmean(temp_arr, axis = 0)\n"
          ]
        },
        {
          "output_type": "stream",
          "name": "stdout",
          "text": [
            "Case_ID: 4  Segment: 152\n"
          ]
        },
        {
          "output_type": "stream",
          "name": "stderr",
          "text": [
            "<ipython-input-41-7dce4779c986>:58: RuntimeWarning: Mean of empty slice\n",
            "  arr1 = np.nanmean(temp_arr, axis = 0)\n"
          ]
        },
        {
          "output_type": "stream",
          "name": "stdout",
          "text": [
            "Case_ID: 4  Segment: 153\n"
          ]
        },
        {
          "output_type": "stream",
          "name": "stderr",
          "text": [
            "<ipython-input-41-7dce4779c986>:58: RuntimeWarning: Mean of empty slice\n",
            "  arr1 = np.nanmean(temp_arr, axis = 0)\n"
          ]
        },
        {
          "output_type": "stream",
          "name": "stdout",
          "text": [
            "Case_ID: 4  Segment: 154\n"
          ]
        },
        {
          "output_type": "stream",
          "name": "stderr",
          "text": [
            "<ipython-input-41-7dce4779c986>:58: RuntimeWarning: Mean of empty slice\n",
            "  arr1 = np.nanmean(temp_arr, axis = 0)\n"
          ]
        },
        {
          "output_type": "stream",
          "name": "stdout",
          "text": [
            "Case_ID: 4  Segment: 155\n"
          ]
        },
        {
          "output_type": "stream",
          "name": "stderr",
          "text": [
            "<ipython-input-41-7dce4779c986>:58: RuntimeWarning: Mean of empty slice\n",
            "  arr1 = np.nanmean(temp_arr, axis = 0)\n"
          ]
        },
        {
          "output_type": "stream",
          "name": "stdout",
          "text": [
            "Case_ID: 4  Segment: 156\n"
          ]
        },
        {
          "output_type": "stream",
          "name": "stderr",
          "text": [
            "<ipython-input-41-7dce4779c986>:58: RuntimeWarning: Mean of empty slice\n",
            "  arr1 = np.nanmean(temp_arr, axis = 0)\n"
          ]
        },
        {
          "output_type": "stream",
          "name": "stdout",
          "text": [
            "Case_ID: 4  Segment: 157\n"
          ]
        },
        {
          "output_type": "stream",
          "name": "stderr",
          "text": [
            "<ipython-input-41-7dce4779c986>:58: RuntimeWarning: Mean of empty slice\n",
            "  arr1 = np.nanmean(temp_arr, axis = 0)\n"
          ]
        },
        {
          "output_type": "stream",
          "name": "stdout",
          "text": [
            "Case_ID: 4  Segment: 158\n"
          ]
        },
        {
          "output_type": "stream",
          "name": "stderr",
          "text": [
            "<ipython-input-41-7dce4779c986>:58: RuntimeWarning: Mean of empty slice\n",
            "  arr1 = np.nanmean(temp_arr, axis = 0)\n"
          ]
        },
        {
          "output_type": "stream",
          "name": "stdout",
          "text": [
            "Case Id: 4  processing complete.....\n",
            "Case Id: 7 in process\n"
          ]
        },
        {
          "output_type": "display_data",
          "data": {
            "text/plain": [
              "0it [00:00, ?it/s]"
            ],
            "application/vnd.jupyter.widget-view+json": {
              "version_major": 2,
              "version_minor": 0,
              "model_id": "9637396fac7047ac8367e0f01bd348fb"
            }
          },
          "metadata": {}
        },
        {
          "output_type": "stream",
          "name": "stdout",
          "text": [
            "Case Id: 7  processing complete.....\n",
            "Case Id: 10 in process\n"
          ]
        },
        {
          "output_type": "display_data",
          "data": {
            "text/plain": [
              "  0%|          | 0/174 [00:00<?, ?it/s]"
            ],
            "application/vnd.jupyter.widget-view+json": {
              "version_major": 2,
              "version_minor": 0,
              "model_id": "925caa518e2f4e9290ea3903e620e907"
            }
          },
          "metadata": {}
        },
        {
          "output_type": "stream",
          "name": "stdout",
          "text": [
            "Case_ID: 10  Segment: 1\n"
          ]
        },
        {
          "output_type": "stream",
          "name": "stderr",
          "text": [
            "<ipython-input-41-7dce4779c986>:58: RuntimeWarning: Mean of empty slice\n",
            "  arr1 = np.nanmean(temp_arr, axis = 0)\n"
          ]
        },
        {
          "output_type": "stream",
          "name": "stdout",
          "text": [
            "Case_ID: 10  Segment: 2\n"
          ]
        },
        {
          "output_type": "stream",
          "name": "stderr",
          "text": [
            "<ipython-input-41-7dce4779c986>:58: RuntimeWarning: Mean of empty slice\n",
            "  arr1 = np.nanmean(temp_arr, axis = 0)\n"
          ]
        },
        {
          "output_type": "stream",
          "name": "stdout",
          "text": [
            "Case_ID: 10  Segment: 3\n"
          ]
        },
        {
          "output_type": "stream",
          "name": "stderr",
          "text": [
            "<ipython-input-41-7dce4779c986>:58: RuntimeWarning: Mean of empty slice\n",
            "  arr1 = np.nanmean(temp_arr, axis = 0)\n"
          ]
        },
        {
          "output_type": "stream",
          "name": "stdout",
          "text": [
            "Case_ID: 10  Segment: 4\n"
          ]
        },
        {
          "output_type": "stream",
          "name": "stderr",
          "text": [
            "<ipython-input-41-7dce4779c986>:58: RuntimeWarning: Mean of empty slice\n",
            "  arr1 = np.nanmean(temp_arr, axis = 0)\n"
          ]
        },
        {
          "output_type": "stream",
          "name": "stdout",
          "text": [
            "Case_ID: 10  Segment: 5\n"
          ]
        },
        {
          "output_type": "stream",
          "name": "stderr",
          "text": [
            "<ipython-input-41-7dce4779c986>:58: RuntimeWarning: Mean of empty slice\n",
            "  arr1 = np.nanmean(temp_arr, axis = 0)\n"
          ]
        },
        {
          "output_type": "stream",
          "name": "stdout",
          "text": [
            "Case_ID: 10  Segment: 6\n"
          ]
        },
        {
          "output_type": "stream",
          "name": "stderr",
          "text": [
            "<ipython-input-41-7dce4779c986>:58: RuntimeWarning: Mean of empty slice\n",
            "  arr1 = np.nanmean(temp_arr, axis = 0)\n"
          ]
        },
        {
          "output_type": "stream",
          "name": "stdout",
          "text": [
            "Case_ID: 10  Segment: 7\n"
          ]
        },
        {
          "output_type": "stream",
          "name": "stderr",
          "text": [
            "<ipython-input-41-7dce4779c986>:58: RuntimeWarning: Mean of empty slice\n",
            "  arr1 = np.nanmean(temp_arr, axis = 0)\n"
          ]
        },
        {
          "output_type": "stream",
          "name": "stdout",
          "text": [
            "Case_ID: 10  Segment: 8\n"
          ]
        },
        {
          "output_type": "stream",
          "name": "stderr",
          "text": [
            "<ipython-input-41-7dce4779c986>:58: RuntimeWarning: Mean of empty slice\n",
            "  arr1 = np.nanmean(temp_arr, axis = 0)\n"
          ]
        },
        {
          "output_type": "stream",
          "name": "stdout",
          "text": [
            "Case_ID: 10  Segment: 9\n"
          ]
        },
        {
          "output_type": "stream",
          "name": "stderr",
          "text": [
            "<ipython-input-41-7dce4779c986>:58: RuntimeWarning: Mean of empty slice\n",
            "  arr1 = np.nanmean(temp_arr, axis = 0)\n"
          ]
        },
        {
          "output_type": "stream",
          "name": "stdout",
          "text": [
            "Case_ID: 10  Segment: 10\n"
          ]
        },
        {
          "output_type": "stream",
          "name": "stderr",
          "text": [
            "<ipython-input-41-7dce4779c986>:58: RuntimeWarning: Mean of empty slice\n",
            "  arr1 = np.nanmean(temp_arr, axis = 0)\n"
          ]
        },
        {
          "output_type": "stream",
          "name": "stdout",
          "text": [
            "Case_ID: 10  Segment: 11\n"
          ]
        },
        {
          "output_type": "stream",
          "name": "stderr",
          "text": [
            "<ipython-input-41-7dce4779c986>:58: RuntimeWarning: Mean of empty slice\n",
            "  arr1 = np.nanmean(temp_arr, axis = 0)\n"
          ]
        },
        {
          "output_type": "stream",
          "name": "stdout",
          "text": [
            "Case_ID: 10  Segment: 12\n"
          ]
        },
        {
          "output_type": "stream",
          "name": "stderr",
          "text": [
            "<ipython-input-41-7dce4779c986>:58: RuntimeWarning: Mean of empty slice\n",
            "  arr1 = np.nanmean(temp_arr, axis = 0)\n"
          ]
        },
        {
          "output_type": "stream",
          "name": "stdout",
          "text": [
            "Case_ID: 10  Segment: 13\n"
          ]
        },
        {
          "output_type": "stream",
          "name": "stderr",
          "text": [
            "<ipython-input-41-7dce4779c986>:58: RuntimeWarning: Mean of empty slice\n",
            "  arr1 = np.nanmean(temp_arr, axis = 0)\n"
          ]
        },
        {
          "output_type": "stream",
          "name": "stdout",
          "text": [
            "Case_ID: 10  Segment: 14\n"
          ]
        },
        {
          "output_type": "stream",
          "name": "stderr",
          "text": [
            "<ipython-input-41-7dce4779c986>:58: RuntimeWarning: Mean of empty slice\n",
            "  arr1 = np.nanmean(temp_arr, axis = 0)\n"
          ]
        },
        {
          "output_type": "stream",
          "name": "stdout",
          "text": [
            "Case_ID: 10  Segment: 15\n"
          ]
        },
        {
          "output_type": "stream",
          "name": "stderr",
          "text": [
            "<ipython-input-41-7dce4779c986>:58: RuntimeWarning: Mean of empty slice\n",
            "  arr1 = np.nanmean(temp_arr, axis = 0)\n"
          ]
        },
        {
          "output_type": "stream",
          "name": "stdout",
          "text": [
            "Case_ID: 10  Segment: 16\n"
          ]
        },
        {
          "output_type": "stream",
          "name": "stderr",
          "text": [
            "<ipython-input-41-7dce4779c986>:58: RuntimeWarning: Mean of empty slice\n",
            "  arr1 = np.nanmean(temp_arr, axis = 0)\n"
          ]
        },
        {
          "output_type": "stream",
          "name": "stdout",
          "text": [
            "Case_ID: 10  Segment: 17\n"
          ]
        },
        {
          "output_type": "stream",
          "name": "stderr",
          "text": [
            "<ipython-input-41-7dce4779c986>:58: RuntimeWarning: Mean of empty slice\n",
            "  arr1 = np.nanmean(temp_arr, axis = 0)\n"
          ]
        },
        {
          "output_type": "stream",
          "name": "stdout",
          "text": [
            "Case_ID: 10  Segment: 18\n"
          ]
        },
        {
          "output_type": "stream",
          "name": "stderr",
          "text": [
            "<ipython-input-41-7dce4779c986>:58: RuntimeWarning: Mean of empty slice\n",
            "  arr1 = np.nanmean(temp_arr, axis = 0)\n"
          ]
        },
        {
          "output_type": "stream",
          "name": "stdout",
          "text": [
            "Case_ID: 10  Segment: 19\n"
          ]
        },
        {
          "output_type": "stream",
          "name": "stderr",
          "text": [
            "<ipython-input-41-7dce4779c986>:58: RuntimeWarning: Mean of empty slice\n",
            "  arr1 = np.nanmean(temp_arr, axis = 0)\n"
          ]
        },
        {
          "output_type": "stream",
          "name": "stdout",
          "text": [
            "Case_ID: 10  Segment: 20\n"
          ]
        },
        {
          "output_type": "stream",
          "name": "stderr",
          "text": [
            "<ipython-input-41-7dce4779c986>:58: RuntimeWarning: Mean of empty slice\n",
            "  arr1 = np.nanmean(temp_arr, axis = 0)\n"
          ]
        },
        {
          "output_type": "stream",
          "name": "stdout",
          "text": [
            "Case_ID: 10  Segment: 21\n"
          ]
        },
        {
          "output_type": "stream",
          "name": "stderr",
          "text": [
            "<ipython-input-41-7dce4779c986>:58: RuntimeWarning: Mean of empty slice\n",
            "  arr1 = np.nanmean(temp_arr, axis = 0)\n"
          ]
        },
        {
          "output_type": "stream",
          "name": "stdout",
          "text": [
            "Case_ID: 10  Segment: 22\n",
            "--------ERORR------!!!\n",
            "Case_ID: 10  Segment: 22\n"
          ]
        },
        {
          "output_type": "stream",
          "name": "stderr",
          "text": [
            "<ipython-input-41-7dce4779c986>:58: RuntimeWarning: Mean of empty slice\n",
            "  arr1 = np.nanmean(temp_arr, axis = 0)\n"
          ]
        },
        {
          "output_type": "stream",
          "name": "stdout",
          "text": [
            "Case_ID: 10  Segment: 23\n"
          ]
        },
        {
          "output_type": "stream",
          "name": "stderr",
          "text": [
            "<ipython-input-41-7dce4779c986>:58: RuntimeWarning: Mean of empty slice\n",
            "  arr1 = np.nanmean(temp_arr, axis = 0)\n"
          ]
        },
        {
          "output_type": "stream",
          "name": "stdout",
          "text": [
            "Case_ID: 10  Segment: 24\n"
          ]
        },
        {
          "output_type": "stream",
          "name": "stderr",
          "text": [
            "<ipython-input-41-7dce4779c986>:58: RuntimeWarning: Mean of empty slice\n",
            "  arr1 = np.nanmean(temp_arr, axis = 0)\n"
          ]
        },
        {
          "output_type": "stream",
          "name": "stdout",
          "text": [
            "Case_ID: 10  Segment: 25\n"
          ]
        },
        {
          "output_type": "stream",
          "name": "stderr",
          "text": [
            "<ipython-input-41-7dce4779c986>:58: RuntimeWarning: Mean of empty slice\n",
            "  arr1 = np.nanmean(temp_arr, axis = 0)\n"
          ]
        },
        {
          "output_type": "stream",
          "name": "stdout",
          "text": [
            "Case_ID: 10  Segment: 26\n"
          ]
        },
        {
          "output_type": "stream",
          "name": "stderr",
          "text": [
            "<ipython-input-41-7dce4779c986>:58: RuntimeWarning: Mean of empty slice\n",
            "  arr1 = np.nanmean(temp_arr, axis = 0)\n"
          ]
        },
        {
          "output_type": "stream",
          "name": "stdout",
          "text": [
            "Case_ID: 10  Segment: 27\n"
          ]
        },
        {
          "output_type": "stream",
          "name": "stderr",
          "text": [
            "<ipython-input-41-7dce4779c986>:58: RuntimeWarning: Mean of empty slice\n",
            "  arr1 = np.nanmean(temp_arr, axis = 0)\n"
          ]
        },
        {
          "output_type": "stream",
          "name": "stdout",
          "text": [
            "Case_ID: 10  Segment: 28\n"
          ]
        },
        {
          "output_type": "stream",
          "name": "stderr",
          "text": [
            "<ipython-input-41-7dce4779c986>:58: RuntimeWarning: Mean of empty slice\n",
            "  arr1 = np.nanmean(temp_arr, axis = 0)\n"
          ]
        },
        {
          "output_type": "stream",
          "name": "stdout",
          "text": [
            "Case_ID: 10  Segment: 29\n"
          ]
        },
        {
          "output_type": "stream",
          "name": "stderr",
          "text": [
            "<ipython-input-41-7dce4779c986>:58: RuntimeWarning: Mean of empty slice\n",
            "  arr1 = np.nanmean(temp_arr, axis = 0)\n"
          ]
        },
        {
          "output_type": "stream",
          "name": "stdout",
          "text": [
            "Case_ID: 10  Segment: 30\n",
            "--------ERORR------!!!\n",
            "Case_ID: 10  Segment: 30\n"
          ]
        },
        {
          "output_type": "stream",
          "name": "stderr",
          "text": [
            "<ipython-input-41-7dce4779c986>:58: RuntimeWarning: Mean of empty slice\n",
            "  arr1 = np.nanmean(temp_arr, axis = 0)\n"
          ]
        },
        {
          "output_type": "stream",
          "name": "stdout",
          "text": [
            "Case_ID: 10  Segment: 31\n"
          ]
        },
        {
          "output_type": "stream",
          "name": "stderr",
          "text": [
            "<ipython-input-41-7dce4779c986>:58: RuntimeWarning: Mean of empty slice\n",
            "  arr1 = np.nanmean(temp_arr, axis = 0)\n"
          ]
        },
        {
          "output_type": "stream",
          "name": "stdout",
          "text": [
            "Case_ID: 10  Segment: 32\n"
          ]
        },
        {
          "output_type": "stream",
          "name": "stderr",
          "text": [
            "<ipython-input-41-7dce4779c986>:58: RuntimeWarning: Mean of empty slice\n",
            "  arr1 = np.nanmean(temp_arr, axis = 0)\n"
          ]
        },
        {
          "output_type": "stream",
          "name": "stdout",
          "text": [
            "Case_ID: 10  Segment: 33\n"
          ]
        },
        {
          "output_type": "stream",
          "name": "stderr",
          "text": [
            "<ipython-input-41-7dce4779c986>:58: RuntimeWarning: Mean of empty slice\n",
            "  arr1 = np.nanmean(temp_arr, axis = 0)\n"
          ]
        },
        {
          "output_type": "stream",
          "name": "stdout",
          "text": [
            "Case_ID: 10  Segment: 34\n"
          ]
        },
        {
          "output_type": "stream",
          "name": "stderr",
          "text": [
            "<ipython-input-41-7dce4779c986>:58: RuntimeWarning: Mean of empty slice\n",
            "  arr1 = np.nanmean(temp_arr, axis = 0)\n"
          ]
        },
        {
          "output_type": "stream",
          "name": "stdout",
          "text": [
            "Case_ID: 10  Segment: 35\n"
          ]
        },
        {
          "output_type": "stream",
          "name": "stderr",
          "text": [
            "<ipython-input-41-7dce4779c986>:58: RuntimeWarning: Mean of empty slice\n",
            "  arr1 = np.nanmean(temp_arr, axis = 0)\n"
          ]
        },
        {
          "output_type": "stream",
          "name": "stdout",
          "text": [
            "Case_ID: 10  Segment: 36\n"
          ]
        },
        {
          "output_type": "stream",
          "name": "stderr",
          "text": [
            "<ipython-input-41-7dce4779c986>:58: RuntimeWarning: Mean of empty slice\n",
            "  arr1 = np.nanmean(temp_arr, axis = 0)\n"
          ]
        },
        {
          "output_type": "stream",
          "name": "stdout",
          "text": [
            "Case_ID: 10  Segment: 37\n"
          ]
        },
        {
          "output_type": "stream",
          "name": "stderr",
          "text": [
            "<ipython-input-41-7dce4779c986>:58: RuntimeWarning: Mean of empty slice\n",
            "  arr1 = np.nanmean(temp_arr, axis = 0)\n"
          ]
        },
        {
          "output_type": "stream",
          "name": "stdout",
          "text": [
            "Case_ID: 10  Segment: 38\n"
          ]
        },
        {
          "output_type": "stream",
          "name": "stderr",
          "text": [
            "<ipython-input-41-7dce4779c986>:58: RuntimeWarning: Mean of empty slice\n",
            "  arr1 = np.nanmean(temp_arr, axis = 0)\n"
          ]
        },
        {
          "output_type": "stream",
          "name": "stdout",
          "text": [
            "Case_ID: 10  Segment: 39\n"
          ]
        },
        {
          "output_type": "stream",
          "name": "stderr",
          "text": [
            "<ipython-input-41-7dce4779c986>:58: RuntimeWarning: Mean of empty slice\n",
            "  arr1 = np.nanmean(temp_arr, axis = 0)\n"
          ]
        },
        {
          "output_type": "stream",
          "name": "stdout",
          "text": [
            "Case_ID: 10  Segment: 40\n"
          ]
        },
        {
          "output_type": "stream",
          "name": "stderr",
          "text": [
            "<ipython-input-41-7dce4779c986>:58: RuntimeWarning: Mean of empty slice\n",
            "  arr1 = np.nanmean(temp_arr, axis = 0)\n"
          ]
        },
        {
          "output_type": "stream",
          "name": "stdout",
          "text": [
            "Case_ID: 10  Segment: 41\n"
          ]
        },
        {
          "output_type": "stream",
          "name": "stderr",
          "text": [
            "<ipython-input-41-7dce4779c986>:58: RuntimeWarning: Mean of empty slice\n",
            "  arr1 = np.nanmean(temp_arr, axis = 0)\n"
          ]
        },
        {
          "output_type": "stream",
          "name": "stdout",
          "text": [
            "Case_ID: 10  Segment: 42\n"
          ]
        },
        {
          "output_type": "stream",
          "name": "stderr",
          "text": [
            "<ipython-input-41-7dce4779c986>:58: RuntimeWarning: Mean of empty slice\n",
            "  arr1 = np.nanmean(temp_arr, axis = 0)\n"
          ]
        },
        {
          "output_type": "stream",
          "name": "stdout",
          "text": [
            "Case_ID: 10  Segment: 43\n"
          ]
        },
        {
          "output_type": "stream",
          "name": "stderr",
          "text": [
            "<ipython-input-41-7dce4779c986>:58: RuntimeWarning: Mean of empty slice\n",
            "  arr1 = np.nanmean(temp_arr, axis = 0)\n"
          ]
        },
        {
          "output_type": "stream",
          "name": "stdout",
          "text": [
            "Case_ID: 10  Segment: 44\n"
          ]
        },
        {
          "output_type": "stream",
          "name": "stderr",
          "text": [
            "<ipython-input-41-7dce4779c986>:58: RuntimeWarning: Mean of empty slice\n",
            "  arr1 = np.nanmean(temp_arr, axis = 0)\n"
          ]
        },
        {
          "output_type": "stream",
          "name": "stdout",
          "text": [
            "Case_ID: 10  Segment: 45\n"
          ]
        },
        {
          "output_type": "stream",
          "name": "stderr",
          "text": [
            "<ipython-input-41-7dce4779c986>:58: RuntimeWarning: Mean of empty slice\n",
            "  arr1 = np.nanmean(temp_arr, axis = 0)\n"
          ]
        },
        {
          "output_type": "stream",
          "name": "stdout",
          "text": [
            "Case_ID: 10  Segment: 46\n"
          ]
        },
        {
          "output_type": "stream",
          "name": "stderr",
          "text": [
            "<ipython-input-41-7dce4779c986>:58: RuntimeWarning: Mean of empty slice\n",
            "  arr1 = np.nanmean(temp_arr, axis = 0)\n"
          ]
        },
        {
          "output_type": "stream",
          "name": "stdout",
          "text": [
            "Case_ID: 10  Segment: 47\n"
          ]
        },
        {
          "output_type": "stream",
          "name": "stderr",
          "text": [
            "<ipython-input-41-7dce4779c986>:58: RuntimeWarning: Mean of empty slice\n",
            "  arr1 = np.nanmean(temp_arr, axis = 0)\n"
          ]
        },
        {
          "output_type": "stream",
          "name": "stdout",
          "text": [
            "Case_ID: 10  Segment: 48\n"
          ]
        },
        {
          "output_type": "stream",
          "name": "stderr",
          "text": [
            "<ipython-input-41-7dce4779c986>:58: RuntimeWarning: Mean of empty slice\n",
            "  arr1 = np.nanmean(temp_arr, axis = 0)\n"
          ]
        },
        {
          "output_type": "stream",
          "name": "stdout",
          "text": [
            "Case_ID: 10  Segment: 49\n"
          ]
        },
        {
          "output_type": "stream",
          "name": "stderr",
          "text": [
            "<ipython-input-41-7dce4779c986>:58: RuntimeWarning: Mean of empty slice\n",
            "  arr1 = np.nanmean(temp_arr, axis = 0)\n"
          ]
        },
        {
          "output_type": "stream",
          "name": "stdout",
          "text": [
            "Case_ID: 10  Segment: 50\n"
          ]
        },
        {
          "output_type": "stream",
          "name": "stderr",
          "text": [
            "<ipython-input-41-7dce4779c986>:58: RuntimeWarning: Mean of empty slice\n",
            "  arr1 = np.nanmean(temp_arr, axis = 0)\n"
          ]
        },
        {
          "output_type": "stream",
          "name": "stdout",
          "text": [
            "Case_ID: 10  Segment: 51\n"
          ]
        },
        {
          "output_type": "stream",
          "name": "stderr",
          "text": [
            "<ipython-input-41-7dce4779c986>:58: RuntimeWarning: Mean of empty slice\n",
            "  arr1 = np.nanmean(temp_arr, axis = 0)\n"
          ]
        },
        {
          "output_type": "stream",
          "name": "stdout",
          "text": [
            "Case_ID: 10  Segment: 52\n"
          ]
        },
        {
          "output_type": "stream",
          "name": "stderr",
          "text": [
            "<ipython-input-41-7dce4779c986>:58: RuntimeWarning: Mean of empty slice\n",
            "  arr1 = np.nanmean(temp_arr, axis = 0)\n"
          ]
        },
        {
          "output_type": "stream",
          "name": "stdout",
          "text": [
            "Case_ID: 10  Segment: 53\n"
          ]
        },
        {
          "output_type": "stream",
          "name": "stderr",
          "text": [
            "<ipython-input-41-7dce4779c986>:58: RuntimeWarning: Mean of empty slice\n",
            "  arr1 = np.nanmean(temp_arr, axis = 0)\n"
          ]
        },
        {
          "output_type": "stream",
          "name": "stdout",
          "text": [
            "Case_ID: 10  Segment: 54\n"
          ]
        },
        {
          "output_type": "stream",
          "name": "stderr",
          "text": [
            "<ipython-input-41-7dce4779c986>:58: RuntimeWarning: Mean of empty slice\n",
            "  arr1 = np.nanmean(temp_arr, axis = 0)\n"
          ]
        },
        {
          "output_type": "stream",
          "name": "stdout",
          "text": [
            "Case_ID: 10  Segment: 55\n"
          ]
        },
        {
          "output_type": "stream",
          "name": "stderr",
          "text": [
            "<ipython-input-41-7dce4779c986>:58: RuntimeWarning: Mean of empty slice\n",
            "  arr1 = np.nanmean(temp_arr, axis = 0)\n"
          ]
        },
        {
          "output_type": "stream",
          "name": "stdout",
          "text": [
            "Case_ID: 10  Segment: 56\n"
          ]
        },
        {
          "output_type": "stream",
          "name": "stderr",
          "text": [
            "<ipython-input-41-7dce4779c986>:58: RuntimeWarning: Mean of empty slice\n",
            "  arr1 = np.nanmean(temp_arr, axis = 0)\n"
          ]
        },
        {
          "output_type": "stream",
          "name": "stdout",
          "text": [
            "Case_ID: 10  Segment: 57\n"
          ]
        },
        {
          "output_type": "stream",
          "name": "stderr",
          "text": [
            "<ipython-input-41-7dce4779c986>:58: RuntimeWarning: Mean of empty slice\n",
            "  arr1 = np.nanmean(temp_arr, axis = 0)\n"
          ]
        },
        {
          "output_type": "stream",
          "name": "stdout",
          "text": [
            "Case_ID: 10  Segment: 58\n"
          ]
        },
        {
          "output_type": "stream",
          "name": "stderr",
          "text": [
            "<ipython-input-41-7dce4779c986>:58: RuntimeWarning: Mean of empty slice\n",
            "  arr1 = np.nanmean(temp_arr, axis = 0)\n"
          ]
        },
        {
          "output_type": "stream",
          "name": "stdout",
          "text": [
            "Case_ID: 10  Segment: 59\n"
          ]
        },
        {
          "output_type": "stream",
          "name": "stderr",
          "text": [
            "<ipython-input-41-7dce4779c986>:58: RuntimeWarning: Mean of empty slice\n",
            "  arr1 = np.nanmean(temp_arr, axis = 0)\n"
          ]
        },
        {
          "output_type": "stream",
          "name": "stdout",
          "text": [
            "Case_ID: 10  Segment: 60\n"
          ]
        },
        {
          "output_type": "stream",
          "name": "stderr",
          "text": [
            "<ipython-input-41-7dce4779c986>:58: RuntimeWarning: Mean of empty slice\n",
            "  arr1 = np.nanmean(temp_arr, axis = 0)\n"
          ]
        },
        {
          "output_type": "stream",
          "name": "stdout",
          "text": [
            "Case_ID: 10  Segment: 61\n"
          ]
        },
        {
          "output_type": "stream",
          "name": "stderr",
          "text": [
            "<ipython-input-41-7dce4779c986>:58: RuntimeWarning: Mean of empty slice\n",
            "  arr1 = np.nanmean(temp_arr, axis = 0)\n"
          ]
        },
        {
          "output_type": "stream",
          "name": "stdout",
          "text": [
            "Case_ID: 10  Segment: 62\n"
          ]
        },
        {
          "output_type": "stream",
          "name": "stderr",
          "text": [
            "<ipython-input-41-7dce4779c986>:58: RuntimeWarning: Mean of empty slice\n",
            "  arr1 = np.nanmean(temp_arr, axis = 0)\n"
          ]
        },
        {
          "output_type": "stream",
          "name": "stdout",
          "text": [
            "Case_ID: 10  Segment: 63\n"
          ]
        },
        {
          "output_type": "stream",
          "name": "stderr",
          "text": [
            "<ipython-input-41-7dce4779c986>:58: RuntimeWarning: Mean of empty slice\n",
            "  arr1 = np.nanmean(temp_arr, axis = 0)\n"
          ]
        },
        {
          "output_type": "stream",
          "name": "stdout",
          "text": [
            "Case_ID: 10  Segment: 64\n"
          ]
        },
        {
          "output_type": "stream",
          "name": "stderr",
          "text": [
            "<ipython-input-41-7dce4779c986>:58: RuntimeWarning: Mean of empty slice\n",
            "  arr1 = np.nanmean(temp_arr, axis = 0)\n"
          ]
        },
        {
          "output_type": "stream",
          "name": "stdout",
          "text": [
            "Case_ID: 10  Segment: 65\n"
          ]
        },
        {
          "output_type": "stream",
          "name": "stderr",
          "text": [
            "<ipython-input-41-7dce4779c986>:58: RuntimeWarning: Mean of empty slice\n",
            "  arr1 = np.nanmean(temp_arr, axis = 0)\n"
          ]
        },
        {
          "output_type": "stream",
          "name": "stdout",
          "text": [
            "Case_ID: 10  Segment: 66\n"
          ]
        },
        {
          "output_type": "stream",
          "name": "stderr",
          "text": [
            "<ipython-input-41-7dce4779c986>:58: RuntimeWarning: Mean of empty slice\n",
            "  arr1 = np.nanmean(temp_arr, axis = 0)\n"
          ]
        },
        {
          "output_type": "stream",
          "name": "stdout",
          "text": [
            "Case_ID: 10  Segment: 67\n"
          ]
        },
        {
          "output_type": "stream",
          "name": "stderr",
          "text": [
            "<ipython-input-41-7dce4779c986>:58: RuntimeWarning: Mean of empty slice\n",
            "  arr1 = np.nanmean(temp_arr, axis = 0)\n"
          ]
        },
        {
          "output_type": "stream",
          "name": "stdout",
          "text": [
            "Case_ID: 10  Segment: 68\n"
          ]
        },
        {
          "output_type": "stream",
          "name": "stderr",
          "text": [
            "<ipython-input-41-7dce4779c986>:58: RuntimeWarning: Mean of empty slice\n",
            "  arr1 = np.nanmean(temp_arr, axis = 0)\n"
          ]
        },
        {
          "output_type": "stream",
          "name": "stdout",
          "text": [
            "Case_ID: 10  Segment: 69\n"
          ]
        },
        {
          "output_type": "stream",
          "name": "stderr",
          "text": [
            "<ipython-input-41-7dce4779c986>:58: RuntimeWarning: Mean of empty slice\n",
            "  arr1 = np.nanmean(temp_arr, axis = 0)\n"
          ]
        },
        {
          "output_type": "stream",
          "name": "stdout",
          "text": [
            "Case_ID: 10  Segment: 70\n"
          ]
        },
        {
          "output_type": "stream",
          "name": "stderr",
          "text": [
            "<ipython-input-41-7dce4779c986>:58: RuntimeWarning: Mean of empty slice\n",
            "  arr1 = np.nanmean(temp_arr, axis = 0)\n"
          ]
        },
        {
          "output_type": "stream",
          "name": "stdout",
          "text": [
            "Case_ID: 10  Segment: 71\n"
          ]
        },
        {
          "output_type": "stream",
          "name": "stderr",
          "text": [
            "<ipython-input-41-7dce4779c986>:58: RuntimeWarning: Mean of empty slice\n",
            "  arr1 = np.nanmean(temp_arr, axis = 0)\n"
          ]
        },
        {
          "output_type": "stream",
          "name": "stdout",
          "text": [
            "Case_ID: 10  Segment: 72\n"
          ]
        },
        {
          "output_type": "stream",
          "name": "stderr",
          "text": [
            "<ipython-input-41-7dce4779c986>:58: RuntimeWarning: Mean of empty slice\n",
            "  arr1 = np.nanmean(temp_arr, axis = 0)\n"
          ]
        },
        {
          "output_type": "stream",
          "name": "stdout",
          "text": [
            "Case_ID: 10  Segment: 73\n"
          ]
        },
        {
          "output_type": "stream",
          "name": "stderr",
          "text": [
            "<ipython-input-41-7dce4779c986>:58: RuntimeWarning: Mean of empty slice\n",
            "  arr1 = np.nanmean(temp_arr, axis = 0)\n"
          ]
        },
        {
          "output_type": "stream",
          "name": "stdout",
          "text": [
            "Case_ID: 10  Segment: 74\n"
          ]
        },
        {
          "output_type": "stream",
          "name": "stderr",
          "text": [
            "<ipython-input-41-7dce4779c986>:58: RuntimeWarning: Mean of empty slice\n",
            "  arr1 = np.nanmean(temp_arr, axis = 0)\n"
          ]
        },
        {
          "output_type": "stream",
          "name": "stdout",
          "text": [
            "Case_ID: 10  Segment: 75\n"
          ]
        },
        {
          "output_type": "stream",
          "name": "stderr",
          "text": [
            "<ipython-input-41-7dce4779c986>:58: RuntimeWarning: Mean of empty slice\n",
            "  arr1 = np.nanmean(temp_arr, axis = 0)\n"
          ]
        },
        {
          "output_type": "stream",
          "name": "stdout",
          "text": [
            "Case_ID: 10  Segment: 76\n"
          ]
        },
        {
          "output_type": "stream",
          "name": "stderr",
          "text": [
            "<ipython-input-41-7dce4779c986>:58: RuntimeWarning: Mean of empty slice\n",
            "  arr1 = np.nanmean(temp_arr, axis = 0)\n"
          ]
        },
        {
          "output_type": "stream",
          "name": "stdout",
          "text": [
            "Case_ID: 10  Segment: 77\n"
          ]
        },
        {
          "output_type": "stream",
          "name": "stderr",
          "text": [
            "<ipython-input-41-7dce4779c986>:58: RuntimeWarning: Mean of empty slice\n",
            "  arr1 = np.nanmean(temp_arr, axis = 0)\n"
          ]
        },
        {
          "output_type": "stream",
          "name": "stdout",
          "text": [
            "Case_ID: 10  Segment: 78\n"
          ]
        },
        {
          "output_type": "stream",
          "name": "stderr",
          "text": [
            "<ipython-input-41-7dce4779c986>:58: RuntimeWarning: Mean of empty slice\n",
            "  arr1 = np.nanmean(temp_arr, axis = 0)\n"
          ]
        },
        {
          "output_type": "stream",
          "name": "stdout",
          "text": [
            "Case_ID: 10  Segment: 79\n"
          ]
        },
        {
          "output_type": "stream",
          "name": "stderr",
          "text": [
            "<ipython-input-41-7dce4779c986>:58: RuntimeWarning: Mean of empty slice\n",
            "  arr1 = np.nanmean(temp_arr, axis = 0)\n"
          ]
        },
        {
          "output_type": "stream",
          "name": "stdout",
          "text": [
            "Case_ID: 10  Segment: 80\n"
          ]
        },
        {
          "output_type": "stream",
          "name": "stderr",
          "text": [
            "<ipython-input-41-7dce4779c986>:58: RuntimeWarning: Mean of empty slice\n",
            "  arr1 = np.nanmean(temp_arr, axis = 0)\n"
          ]
        },
        {
          "output_type": "stream",
          "name": "stdout",
          "text": [
            "Case_ID: 10  Segment: 81\n"
          ]
        },
        {
          "output_type": "stream",
          "name": "stderr",
          "text": [
            "<ipython-input-41-7dce4779c986>:58: RuntimeWarning: Mean of empty slice\n",
            "  arr1 = np.nanmean(temp_arr, axis = 0)\n"
          ]
        },
        {
          "output_type": "stream",
          "name": "stdout",
          "text": [
            "Case_ID: 10  Segment: 82\n"
          ]
        },
        {
          "output_type": "stream",
          "name": "stderr",
          "text": [
            "<ipython-input-41-7dce4779c986>:58: RuntimeWarning: Mean of empty slice\n",
            "  arr1 = np.nanmean(temp_arr, axis = 0)\n"
          ]
        },
        {
          "output_type": "stream",
          "name": "stdout",
          "text": [
            "Case_ID: 10  Segment: 83\n"
          ]
        },
        {
          "output_type": "stream",
          "name": "stderr",
          "text": [
            "<ipython-input-41-7dce4779c986>:58: RuntimeWarning: Mean of empty slice\n",
            "  arr1 = np.nanmean(temp_arr, axis = 0)\n"
          ]
        },
        {
          "output_type": "stream",
          "name": "stdout",
          "text": [
            "Case_ID: 10  Segment: 84\n"
          ]
        },
        {
          "output_type": "stream",
          "name": "stderr",
          "text": [
            "<ipython-input-41-7dce4779c986>:58: RuntimeWarning: Mean of empty slice\n",
            "  arr1 = np.nanmean(temp_arr, axis = 0)\n"
          ]
        },
        {
          "output_type": "stream",
          "name": "stdout",
          "text": [
            "Case_ID: 10  Segment: 85\n"
          ]
        },
        {
          "output_type": "stream",
          "name": "stderr",
          "text": [
            "<ipython-input-41-7dce4779c986>:58: RuntimeWarning: Mean of empty slice\n",
            "  arr1 = np.nanmean(temp_arr, axis = 0)\n"
          ]
        },
        {
          "output_type": "stream",
          "name": "stdout",
          "text": [
            "Case_ID: 10  Segment: 86\n"
          ]
        },
        {
          "output_type": "stream",
          "name": "stderr",
          "text": [
            "<ipython-input-41-7dce4779c986>:58: RuntimeWarning: Mean of empty slice\n",
            "  arr1 = np.nanmean(temp_arr, axis = 0)\n"
          ]
        },
        {
          "output_type": "stream",
          "name": "stdout",
          "text": [
            "Case_ID: 10  Segment: 87\n"
          ]
        },
        {
          "output_type": "stream",
          "name": "stderr",
          "text": [
            "<ipython-input-41-7dce4779c986>:58: RuntimeWarning: Mean of empty slice\n",
            "  arr1 = np.nanmean(temp_arr, axis = 0)\n"
          ]
        },
        {
          "output_type": "stream",
          "name": "stdout",
          "text": [
            "Case_ID: 10  Segment: 88\n"
          ]
        },
        {
          "output_type": "stream",
          "name": "stderr",
          "text": [
            "<ipython-input-41-7dce4779c986>:58: RuntimeWarning: Mean of empty slice\n",
            "  arr1 = np.nanmean(temp_arr, axis = 0)\n"
          ]
        },
        {
          "output_type": "stream",
          "name": "stdout",
          "text": [
            "Case_ID: 10  Segment: 89\n"
          ]
        },
        {
          "output_type": "stream",
          "name": "stderr",
          "text": [
            "<ipython-input-41-7dce4779c986>:58: RuntimeWarning: Mean of empty slice\n",
            "  arr1 = np.nanmean(temp_arr, axis = 0)\n"
          ]
        },
        {
          "output_type": "stream",
          "name": "stdout",
          "text": [
            "Case_ID: 10  Segment: 90\n"
          ]
        },
        {
          "output_type": "stream",
          "name": "stderr",
          "text": [
            "<ipython-input-41-7dce4779c986>:58: RuntimeWarning: Mean of empty slice\n",
            "  arr1 = np.nanmean(temp_arr, axis = 0)\n"
          ]
        },
        {
          "output_type": "stream",
          "name": "stdout",
          "text": [
            "Case_ID: 10  Segment: 91\n"
          ]
        },
        {
          "output_type": "stream",
          "name": "stderr",
          "text": [
            "<ipython-input-41-7dce4779c986>:58: RuntimeWarning: Mean of empty slice\n",
            "  arr1 = np.nanmean(temp_arr, axis = 0)\n"
          ]
        },
        {
          "output_type": "stream",
          "name": "stdout",
          "text": [
            "Case_ID: 10  Segment: 92\n"
          ]
        },
        {
          "output_type": "stream",
          "name": "stderr",
          "text": [
            "<ipython-input-41-7dce4779c986>:58: RuntimeWarning: Mean of empty slice\n",
            "  arr1 = np.nanmean(temp_arr, axis = 0)\n"
          ]
        },
        {
          "output_type": "stream",
          "name": "stdout",
          "text": [
            "Case_ID: 10  Segment: 93\n"
          ]
        },
        {
          "output_type": "stream",
          "name": "stderr",
          "text": [
            "<ipython-input-41-7dce4779c986>:58: RuntimeWarning: Mean of empty slice\n",
            "  arr1 = np.nanmean(temp_arr, axis = 0)\n"
          ]
        },
        {
          "output_type": "stream",
          "name": "stdout",
          "text": [
            "Case_ID: 10  Segment: 94\n"
          ]
        },
        {
          "output_type": "stream",
          "name": "stderr",
          "text": [
            "<ipython-input-41-7dce4779c986>:58: RuntimeWarning: Mean of empty slice\n",
            "  arr1 = np.nanmean(temp_arr, axis = 0)\n"
          ]
        },
        {
          "output_type": "stream",
          "name": "stdout",
          "text": [
            "Case_ID: 10  Segment: 95\n"
          ]
        },
        {
          "output_type": "stream",
          "name": "stderr",
          "text": [
            "<ipython-input-41-7dce4779c986>:58: RuntimeWarning: Mean of empty slice\n",
            "  arr1 = np.nanmean(temp_arr, axis = 0)\n"
          ]
        },
        {
          "output_type": "stream",
          "name": "stdout",
          "text": [
            "Case_ID: 10  Segment: 96\n"
          ]
        },
        {
          "output_type": "stream",
          "name": "stderr",
          "text": [
            "<ipython-input-41-7dce4779c986>:58: RuntimeWarning: Mean of empty slice\n",
            "  arr1 = np.nanmean(temp_arr, axis = 0)\n"
          ]
        },
        {
          "output_type": "stream",
          "name": "stdout",
          "text": [
            "Case_ID: 10  Segment: 97\n"
          ]
        },
        {
          "output_type": "stream",
          "name": "stderr",
          "text": [
            "<ipython-input-41-7dce4779c986>:58: RuntimeWarning: Mean of empty slice\n",
            "  arr1 = np.nanmean(temp_arr, axis = 0)\n"
          ]
        },
        {
          "output_type": "stream",
          "name": "stdout",
          "text": [
            "Case_ID: 10  Segment: 98\n"
          ]
        },
        {
          "output_type": "stream",
          "name": "stderr",
          "text": [
            "<ipython-input-41-7dce4779c986>:58: RuntimeWarning: Mean of empty slice\n",
            "  arr1 = np.nanmean(temp_arr, axis = 0)\n"
          ]
        },
        {
          "output_type": "stream",
          "name": "stdout",
          "text": [
            "Case_ID: 10  Segment: 99\n"
          ]
        },
        {
          "output_type": "stream",
          "name": "stderr",
          "text": [
            "<ipython-input-41-7dce4779c986>:58: RuntimeWarning: Mean of empty slice\n",
            "  arr1 = np.nanmean(temp_arr, axis = 0)\n"
          ]
        },
        {
          "output_type": "stream",
          "name": "stdout",
          "text": [
            "Case_ID: 10  Segment: 100\n"
          ]
        },
        {
          "output_type": "stream",
          "name": "stderr",
          "text": [
            "<ipython-input-41-7dce4779c986>:58: RuntimeWarning: Mean of empty slice\n",
            "  arr1 = np.nanmean(temp_arr, axis = 0)\n"
          ]
        },
        {
          "output_type": "stream",
          "name": "stdout",
          "text": [
            "Case_ID: 10  Segment: 101\n"
          ]
        },
        {
          "output_type": "stream",
          "name": "stderr",
          "text": [
            "<ipython-input-41-7dce4779c986>:58: RuntimeWarning: Mean of empty slice\n",
            "  arr1 = np.nanmean(temp_arr, axis = 0)\n"
          ]
        },
        {
          "output_type": "stream",
          "name": "stdout",
          "text": [
            "Case_ID: 10  Segment: 102\n"
          ]
        },
        {
          "output_type": "stream",
          "name": "stderr",
          "text": [
            "<ipython-input-41-7dce4779c986>:58: RuntimeWarning: Mean of empty slice\n",
            "  arr1 = np.nanmean(temp_arr, axis = 0)\n"
          ]
        },
        {
          "output_type": "stream",
          "name": "stdout",
          "text": [
            "Case_ID: 10  Segment: 103\n"
          ]
        },
        {
          "output_type": "stream",
          "name": "stderr",
          "text": [
            "<ipython-input-41-7dce4779c986>:58: RuntimeWarning: Mean of empty slice\n",
            "  arr1 = np.nanmean(temp_arr, axis = 0)\n"
          ]
        },
        {
          "output_type": "stream",
          "name": "stdout",
          "text": [
            "Case_ID: 10  Segment: 104\n"
          ]
        },
        {
          "output_type": "stream",
          "name": "stderr",
          "text": [
            "<ipython-input-41-7dce4779c986>:58: RuntimeWarning: Mean of empty slice\n",
            "  arr1 = np.nanmean(temp_arr, axis = 0)\n"
          ]
        },
        {
          "output_type": "stream",
          "name": "stdout",
          "text": [
            "Case_ID: 10  Segment: 105\n"
          ]
        },
        {
          "output_type": "stream",
          "name": "stderr",
          "text": [
            "<ipython-input-41-7dce4779c986>:58: RuntimeWarning: Mean of empty slice\n",
            "  arr1 = np.nanmean(temp_arr, axis = 0)\n"
          ]
        },
        {
          "output_type": "stream",
          "name": "stdout",
          "text": [
            "Case_ID: 10  Segment: 106\n"
          ]
        },
        {
          "output_type": "stream",
          "name": "stderr",
          "text": [
            "<ipython-input-41-7dce4779c986>:58: RuntimeWarning: Mean of empty slice\n",
            "  arr1 = np.nanmean(temp_arr, axis = 0)\n"
          ]
        },
        {
          "output_type": "stream",
          "name": "stdout",
          "text": [
            "Case_ID: 10  Segment: 107\n"
          ]
        },
        {
          "output_type": "stream",
          "name": "stderr",
          "text": [
            "<ipython-input-41-7dce4779c986>:58: RuntimeWarning: Mean of empty slice\n",
            "  arr1 = np.nanmean(temp_arr, axis = 0)\n"
          ]
        },
        {
          "output_type": "stream",
          "name": "stdout",
          "text": [
            "Case_ID: 10  Segment: 108\n"
          ]
        },
        {
          "output_type": "stream",
          "name": "stderr",
          "text": [
            "<ipython-input-41-7dce4779c986>:58: RuntimeWarning: Mean of empty slice\n",
            "  arr1 = np.nanmean(temp_arr, axis = 0)\n"
          ]
        },
        {
          "output_type": "stream",
          "name": "stdout",
          "text": [
            "Case_ID: 10  Segment: 109\n"
          ]
        },
        {
          "output_type": "stream",
          "name": "stderr",
          "text": [
            "<ipython-input-41-7dce4779c986>:58: RuntimeWarning: Mean of empty slice\n",
            "  arr1 = np.nanmean(temp_arr, axis = 0)\n"
          ]
        },
        {
          "output_type": "stream",
          "name": "stdout",
          "text": [
            "Case_ID: 10  Segment: 110\n"
          ]
        },
        {
          "output_type": "stream",
          "name": "stderr",
          "text": [
            "<ipython-input-41-7dce4779c986>:58: RuntimeWarning: Mean of empty slice\n",
            "  arr1 = np.nanmean(temp_arr, axis = 0)\n"
          ]
        },
        {
          "output_type": "stream",
          "name": "stdout",
          "text": [
            "Case_ID: 10  Segment: 111\n"
          ]
        },
        {
          "output_type": "stream",
          "name": "stderr",
          "text": [
            "<ipython-input-41-7dce4779c986>:58: RuntimeWarning: Mean of empty slice\n",
            "  arr1 = np.nanmean(temp_arr, axis = 0)\n"
          ]
        },
        {
          "output_type": "stream",
          "name": "stdout",
          "text": [
            "Case_ID: 10  Segment: 112\n"
          ]
        },
        {
          "output_type": "stream",
          "name": "stderr",
          "text": [
            "<ipython-input-41-7dce4779c986>:58: RuntimeWarning: Mean of empty slice\n",
            "  arr1 = np.nanmean(temp_arr, axis = 0)\n"
          ]
        },
        {
          "output_type": "stream",
          "name": "stdout",
          "text": [
            "Case_ID: 10  Segment: 113\n",
            "--------ERORR------!!!\n",
            "Case_ID: 10  Segment: 113\n",
            "--------ERORR------!!!\n",
            "Case_ID: 10  Segment: 113\n"
          ]
        },
        {
          "output_type": "stream",
          "name": "stderr",
          "text": [
            "<ipython-input-41-7dce4779c986>:58: RuntimeWarning: Mean of empty slice\n",
            "  arr1 = np.nanmean(temp_arr, axis = 0)\n"
          ]
        },
        {
          "output_type": "stream",
          "name": "stdout",
          "text": [
            "Case_ID: 10  Segment: 114\n"
          ]
        },
        {
          "output_type": "stream",
          "name": "stderr",
          "text": [
            "<ipython-input-41-7dce4779c986>:58: RuntimeWarning: Mean of empty slice\n",
            "  arr1 = np.nanmean(temp_arr, axis = 0)\n"
          ]
        },
        {
          "output_type": "stream",
          "name": "stdout",
          "text": [
            "Case_ID: 10  Segment: 115\n"
          ]
        },
        {
          "output_type": "stream",
          "name": "stderr",
          "text": [
            "<ipython-input-41-7dce4779c986>:58: RuntimeWarning: Mean of empty slice\n",
            "  arr1 = np.nanmean(temp_arr, axis = 0)\n"
          ]
        },
        {
          "output_type": "stream",
          "name": "stdout",
          "text": [
            "Case_ID: 10  Segment: 116\n"
          ]
        },
        {
          "output_type": "stream",
          "name": "stderr",
          "text": [
            "<ipython-input-41-7dce4779c986>:58: RuntimeWarning: Mean of empty slice\n",
            "  arr1 = np.nanmean(temp_arr, axis = 0)\n"
          ]
        },
        {
          "output_type": "stream",
          "name": "stdout",
          "text": [
            "Case_ID: 10  Segment: 117\n"
          ]
        },
        {
          "output_type": "stream",
          "name": "stderr",
          "text": [
            "<ipython-input-41-7dce4779c986>:58: RuntimeWarning: Mean of empty slice\n",
            "  arr1 = np.nanmean(temp_arr, axis = 0)\n"
          ]
        },
        {
          "output_type": "stream",
          "name": "stdout",
          "text": [
            "Case_ID: 10  Segment: 118\n"
          ]
        },
        {
          "output_type": "stream",
          "name": "stderr",
          "text": [
            "<ipython-input-41-7dce4779c986>:58: RuntimeWarning: Mean of empty slice\n",
            "  arr1 = np.nanmean(temp_arr, axis = 0)\n"
          ]
        },
        {
          "output_type": "stream",
          "name": "stdout",
          "text": [
            "Case_ID: 10  Segment: 119\n"
          ]
        },
        {
          "output_type": "stream",
          "name": "stderr",
          "text": [
            "<ipython-input-41-7dce4779c986>:58: RuntimeWarning: Mean of empty slice\n",
            "  arr1 = np.nanmean(temp_arr, axis = 0)\n"
          ]
        },
        {
          "output_type": "stream",
          "name": "stdout",
          "text": [
            "Case_ID: 10  Segment: 120\n"
          ]
        },
        {
          "output_type": "stream",
          "name": "stderr",
          "text": [
            "<ipython-input-41-7dce4779c986>:58: RuntimeWarning: Mean of empty slice\n",
            "  arr1 = np.nanmean(temp_arr, axis = 0)\n"
          ]
        },
        {
          "output_type": "stream",
          "name": "stdout",
          "text": [
            "Case_ID: 10  Segment: 121\n"
          ]
        },
        {
          "output_type": "stream",
          "name": "stderr",
          "text": [
            "<ipython-input-41-7dce4779c986>:58: RuntimeWarning: Mean of empty slice\n",
            "  arr1 = np.nanmean(temp_arr, axis = 0)\n"
          ]
        },
        {
          "output_type": "stream",
          "name": "stdout",
          "text": [
            "Case_ID: 10  Segment: 122\n"
          ]
        },
        {
          "output_type": "stream",
          "name": "stderr",
          "text": [
            "<ipython-input-41-7dce4779c986>:58: RuntimeWarning: Mean of empty slice\n",
            "  arr1 = np.nanmean(temp_arr, axis = 0)\n"
          ]
        },
        {
          "output_type": "stream",
          "name": "stdout",
          "text": [
            "Case_ID: 10  Segment: 123\n"
          ]
        },
        {
          "output_type": "stream",
          "name": "stderr",
          "text": [
            "<ipython-input-41-7dce4779c986>:58: RuntimeWarning: Mean of empty slice\n",
            "  arr1 = np.nanmean(temp_arr, axis = 0)\n"
          ]
        },
        {
          "output_type": "stream",
          "name": "stdout",
          "text": [
            "Case_ID: 10  Segment: 124\n"
          ]
        },
        {
          "output_type": "stream",
          "name": "stderr",
          "text": [
            "<ipython-input-41-7dce4779c986>:58: RuntimeWarning: Mean of empty slice\n",
            "  arr1 = np.nanmean(temp_arr, axis = 0)\n"
          ]
        },
        {
          "output_type": "stream",
          "name": "stdout",
          "text": [
            "Case_ID: 10  Segment: 125\n"
          ]
        },
        {
          "output_type": "stream",
          "name": "stderr",
          "text": [
            "<ipython-input-41-7dce4779c986>:58: RuntimeWarning: Mean of empty slice\n",
            "  arr1 = np.nanmean(temp_arr, axis = 0)\n"
          ]
        },
        {
          "output_type": "stream",
          "name": "stdout",
          "text": [
            "Case_ID: 10  Segment: 126\n"
          ]
        },
        {
          "output_type": "stream",
          "name": "stderr",
          "text": [
            "<ipython-input-41-7dce4779c986>:58: RuntimeWarning: Mean of empty slice\n",
            "  arr1 = np.nanmean(temp_arr, axis = 0)\n"
          ]
        },
        {
          "output_type": "stream",
          "name": "stdout",
          "text": [
            "Case_ID: 10  Segment: 127\n"
          ]
        },
        {
          "output_type": "stream",
          "name": "stderr",
          "text": [
            "<ipython-input-41-7dce4779c986>:58: RuntimeWarning: Mean of empty slice\n",
            "  arr1 = np.nanmean(temp_arr, axis = 0)\n"
          ]
        },
        {
          "output_type": "stream",
          "name": "stdout",
          "text": [
            "Case_ID: 10  Segment: 128\n"
          ]
        },
        {
          "output_type": "stream",
          "name": "stderr",
          "text": [
            "<ipython-input-41-7dce4779c986>:58: RuntimeWarning: Mean of empty slice\n",
            "  arr1 = np.nanmean(temp_arr, axis = 0)\n"
          ]
        },
        {
          "output_type": "stream",
          "name": "stdout",
          "text": [
            "Case_ID: 10  Segment: 129\n"
          ]
        },
        {
          "output_type": "stream",
          "name": "stderr",
          "text": [
            "<ipython-input-41-7dce4779c986>:58: RuntimeWarning: Mean of empty slice\n",
            "  arr1 = np.nanmean(temp_arr, axis = 0)\n"
          ]
        },
        {
          "output_type": "stream",
          "name": "stdout",
          "text": [
            "Case_ID: 10  Segment: 130\n"
          ]
        },
        {
          "output_type": "stream",
          "name": "stderr",
          "text": [
            "<ipython-input-41-7dce4779c986>:58: RuntimeWarning: Mean of empty slice\n",
            "  arr1 = np.nanmean(temp_arr, axis = 0)\n"
          ]
        },
        {
          "output_type": "stream",
          "name": "stdout",
          "text": [
            "Case_ID: 10  Segment: 131\n"
          ]
        },
        {
          "output_type": "stream",
          "name": "stderr",
          "text": [
            "<ipython-input-41-7dce4779c986>:58: RuntimeWarning: Mean of empty slice\n",
            "  arr1 = np.nanmean(temp_arr, axis = 0)\n"
          ]
        },
        {
          "output_type": "stream",
          "name": "stdout",
          "text": [
            "Case_ID: 10  Segment: 132\n"
          ]
        },
        {
          "output_type": "stream",
          "name": "stderr",
          "text": [
            "<ipython-input-41-7dce4779c986>:58: RuntimeWarning: Mean of empty slice\n",
            "  arr1 = np.nanmean(temp_arr, axis = 0)\n"
          ]
        },
        {
          "output_type": "stream",
          "name": "stdout",
          "text": [
            "Case_ID: 10  Segment: 133\n"
          ]
        },
        {
          "output_type": "stream",
          "name": "stderr",
          "text": [
            "<ipython-input-41-7dce4779c986>:58: RuntimeWarning: Mean of empty slice\n",
            "  arr1 = np.nanmean(temp_arr, axis = 0)\n"
          ]
        },
        {
          "output_type": "stream",
          "name": "stdout",
          "text": [
            "Case_ID: 10  Segment: 134\n"
          ]
        },
        {
          "output_type": "stream",
          "name": "stderr",
          "text": [
            "<ipython-input-41-7dce4779c986>:58: RuntimeWarning: Mean of empty slice\n",
            "  arr1 = np.nanmean(temp_arr, axis = 0)\n"
          ]
        },
        {
          "output_type": "stream",
          "name": "stdout",
          "text": [
            "Case_ID: 10  Segment: 135\n"
          ]
        },
        {
          "output_type": "stream",
          "name": "stderr",
          "text": [
            "<ipython-input-41-7dce4779c986>:58: RuntimeWarning: Mean of empty slice\n",
            "  arr1 = np.nanmean(temp_arr, axis = 0)\n"
          ]
        },
        {
          "output_type": "stream",
          "name": "stdout",
          "text": [
            "Case_ID: 10  Segment: 136\n"
          ]
        },
        {
          "output_type": "stream",
          "name": "stderr",
          "text": [
            "<ipython-input-41-7dce4779c986>:58: RuntimeWarning: Mean of empty slice\n",
            "  arr1 = np.nanmean(temp_arr, axis = 0)\n"
          ]
        },
        {
          "output_type": "stream",
          "name": "stdout",
          "text": [
            "Case_ID: 10  Segment: 137\n"
          ]
        },
        {
          "output_type": "stream",
          "name": "stderr",
          "text": [
            "<ipython-input-41-7dce4779c986>:58: RuntimeWarning: Mean of empty slice\n",
            "  arr1 = np.nanmean(temp_arr, axis = 0)\n"
          ]
        },
        {
          "output_type": "stream",
          "name": "stdout",
          "text": [
            "Case_ID: 10  Segment: 138\n"
          ]
        },
        {
          "output_type": "stream",
          "name": "stderr",
          "text": [
            "<ipython-input-41-7dce4779c986>:58: RuntimeWarning: Mean of empty slice\n",
            "  arr1 = np.nanmean(temp_arr, axis = 0)\n"
          ]
        },
        {
          "output_type": "stream",
          "name": "stdout",
          "text": [
            "Case_ID: 10  Segment: 139\n"
          ]
        },
        {
          "output_type": "stream",
          "name": "stderr",
          "text": [
            "<ipython-input-41-7dce4779c986>:58: RuntimeWarning: Mean of empty slice\n",
            "  arr1 = np.nanmean(temp_arr, axis = 0)\n"
          ]
        },
        {
          "output_type": "stream",
          "name": "stdout",
          "text": [
            "Case_ID: 10  Segment: 140\n"
          ]
        },
        {
          "output_type": "stream",
          "name": "stderr",
          "text": [
            "<ipython-input-41-7dce4779c986>:58: RuntimeWarning: Mean of empty slice\n",
            "  arr1 = np.nanmean(temp_arr, axis = 0)\n"
          ]
        },
        {
          "output_type": "stream",
          "name": "stdout",
          "text": [
            "Case_ID: 10  Segment: 141\n"
          ]
        },
        {
          "output_type": "stream",
          "name": "stderr",
          "text": [
            "<ipython-input-41-7dce4779c986>:58: RuntimeWarning: Mean of empty slice\n",
            "  arr1 = np.nanmean(temp_arr, axis = 0)\n"
          ]
        },
        {
          "output_type": "stream",
          "name": "stdout",
          "text": [
            "Case_ID: 10  Segment: 142\n"
          ]
        },
        {
          "output_type": "stream",
          "name": "stderr",
          "text": [
            "<ipython-input-41-7dce4779c986>:58: RuntimeWarning: Mean of empty slice\n",
            "  arr1 = np.nanmean(temp_arr, axis = 0)\n"
          ]
        },
        {
          "output_type": "stream",
          "name": "stdout",
          "text": [
            "Case_ID: 10  Segment: 143\n"
          ]
        },
        {
          "output_type": "stream",
          "name": "stderr",
          "text": [
            "<ipython-input-41-7dce4779c986>:58: RuntimeWarning: Mean of empty slice\n",
            "  arr1 = np.nanmean(temp_arr, axis = 0)\n"
          ]
        },
        {
          "output_type": "stream",
          "name": "stdout",
          "text": [
            "Case_ID: 10  Segment: 144\n"
          ]
        },
        {
          "output_type": "stream",
          "name": "stderr",
          "text": [
            "<ipython-input-41-7dce4779c986>:58: RuntimeWarning: Mean of empty slice\n",
            "  arr1 = np.nanmean(temp_arr, axis = 0)\n"
          ]
        },
        {
          "output_type": "stream",
          "name": "stdout",
          "text": [
            "Case_ID: 10  Segment: 145\n"
          ]
        },
        {
          "output_type": "stream",
          "name": "stderr",
          "text": [
            "<ipython-input-41-7dce4779c986>:58: RuntimeWarning: Mean of empty slice\n",
            "  arr1 = np.nanmean(temp_arr, axis = 0)\n"
          ]
        },
        {
          "output_type": "stream",
          "name": "stdout",
          "text": [
            "Case_ID: 10  Segment: 146\n"
          ]
        },
        {
          "output_type": "stream",
          "name": "stderr",
          "text": [
            "<ipython-input-41-7dce4779c986>:58: RuntimeWarning: Mean of empty slice\n",
            "  arr1 = np.nanmean(temp_arr, axis = 0)\n"
          ]
        },
        {
          "output_type": "stream",
          "name": "stdout",
          "text": [
            "Case_ID: 10  Segment: 147\n"
          ]
        },
        {
          "output_type": "stream",
          "name": "stderr",
          "text": [
            "<ipython-input-41-7dce4779c986>:58: RuntimeWarning: Mean of empty slice\n",
            "  arr1 = np.nanmean(temp_arr, axis = 0)\n"
          ]
        },
        {
          "output_type": "stream",
          "name": "stdout",
          "text": [
            "Case_ID: 10  Segment: 148\n",
            "--------ERORR------!!!\n",
            "Case_ID: 10  Segment: 148\n"
          ]
        },
        {
          "output_type": "stream",
          "name": "stderr",
          "text": [
            "<ipython-input-41-7dce4779c986>:58: RuntimeWarning: Mean of empty slice\n",
            "  arr1 = np.nanmean(temp_arr, axis = 0)\n"
          ]
        },
        {
          "output_type": "stream",
          "name": "stdout",
          "text": [
            "Case_ID: 10  Segment: 149\n"
          ]
        },
        {
          "output_type": "stream",
          "name": "stderr",
          "text": [
            "<ipython-input-41-7dce4779c986>:58: RuntimeWarning: Mean of empty slice\n",
            "  arr1 = np.nanmean(temp_arr, axis = 0)\n"
          ]
        },
        {
          "output_type": "stream",
          "name": "stdout",
          "text": [
            "Case_ID: 10  Segment: 150\n"
          ]
        },
        {
          "output_type": "stream",
          "name": "stderr",
          "text": [
            "<ipython-input-41-7dce4779c986>:58: RuntimeWarning: Mean of empty slice\n",
            "  arr1 = np.nanmean(temp_arr, axis = 0)\n"
          ]
        },
        {
          "output_type": "stream",
          "name": "stdout",
          "text": [
            "Case_ID: 10  Segment: 151\n"
          ]
        },
        {
          "output_type": "stream",
          "name": "stderr",
          "text": [
            "<ipython-input-41-7dce4779c986>:58: RuntimeWarning: Mean of empty slice\n",
            "  arr1 = np.nanmean(temp_arr, axis = 0)\n"
          ]
        },
        {
          "output_type": "stream",
          "name": "stdout",
          "text": [
            "Case_ID: 10  Segment: 152\n"
          ]
        },
        {
          "output_type": "stream",
          "name": "stderr",
          "text": [
            "<ipython-input-41-7dce4779c986>:58: RuntimeWarning: Mean of empty slice\n",
            "  arr1 = np.nanmean(temp_arr, axis = 0)\n"
          ]
        },
        {
          "output_type": "stream",
          "name": "stdout",
          "text": [
            "Case_ID: 10  Segment: 153\n"
          ]
        },
        {
          "output_type": "stream",
          "name": "stderr",
          "text": [
            "<ipython-input-41-7dce4779c986>:58: RuntimeWarning: Mean of empty slice\n",
            "  arr1 = np.nanmean(temp_arr, axis = 0)\n"
          ]
        },
        {
          "output_type": "stream",
          "name": "stdout",
          "text": [
            "Case_ID: 10  Segment: 154\n"
          ]
        },
        {
          "output_type": "stream",
          "name": "stderr",
          "text": [
            "<ipython-input-41-7dce4779c986>:58: RuntimeWarning: Mean of empty slice\n",
            "  arr1 = np.nanmean(temp_arr, axis = 0)\n"
          ]
        },
        {
          "output_type": "stream",
          "name": "stdout",
          "text": [
            "Case_ID: 10  Segment: 155\n"
          ]
        },
        {
          "output_type": "stream",
          "name": "stderr",
          "text": [
            "<ipython-input-41-7dce4779c986>:58: RuntimeWarning: Mean of empty slice\n",
            "  arr1 = np.nanmean(temp_arr, axis = 0)\n"
          ]
        },
        {
          "output_type": "stream",
          "name": "stdout",
          "text": [
            "Case_ID: 10  Segment: 156\n"
          ]
        },
        {
          "output_type": "stream",
          "name": "stderr",
          "text": [
            "<ipython-input-41-7dce4779c986>:58: RuntimeWarning: Mean of empty slice\n",
            "  arr1 = np.nanmean(temp_arr, axis = 0)\n"
          ]
        },
        {
          "output_type": "stream",
          "name": "stdout",
          "text": [
            "Case_ID: 10  Segment: 157\n"
          ]
        },
        {
          "output_type": "stream",
          "name": "stderr",
          "text": [
            "<ipython-input-41-7dce4779c986>:58: RuntimeWarning: Mean of empty slice\n",
            "  arr1 = np.nanmean(temp_arr, axis = 0)\n"
          ]
        },
        {
          "output_type": "stream",
          "name": "stdout",
          "text": [
            "Case_ID: 10  Segment: 158\n"
          ]
        },
        {
          "output_type": "stream",
          "name": "stderr",
          "text": [
            "<ipython-input-41-7dce4779c986>:58: RuntimeWarning: Mean of empty slice\n",
            "  arr1 = np.nanmean(temp_arr, axis = 0)\n"
          ]
        },
        {
          "output_type": "stream",
          "name": "stdout",
          "text": [
            "Case_ID: 10  Segment: 159\n"
          ]
        },
        {
          "output_type": "stream",
          "name": "stderr",
          "text": [
            "<ipython-input-41-7dce4779c986>:58: RuntimeWarning: Mean of empty slice\n",
            "  arr1 = np.nanmean(temp_arr, axis = 0)\n"
          ]
        },
        {
          "output_type": "stream",
          "name": "stdout",
          "text": [
            "Case_ID: 10  Segment: 160\n"
          ]
        },
        {
          "output_type": "stream",
          "name": "stderr",
          "text": [
            "<ipython-input-41-7dce4779c986>:58: RuntimeWarning: Mean of empty slice\n",
            "  arr1 = np.nanmean(temp_arr, axis = 0)\n"
          ]
        },
        {
          "output_type": "stream",
          "name": "stdout",
          "text": [
            "Case_ID: 10  Segment: 161\n"
          ]
        },
        {
          "output_type": "stream",
          "name": "stderr",
          "text": [
            "<ipython-input-41-7dce4779c986>:58: RuntimeWarning: Mean of empty slice\n",
            "  arr1 = np.nanmean(temp_arr, axis = 0)\n"
          ]
        },
        {
          "output_type": "stream",
          "name": "stdout",
          "text": [
            "Case_ID: 10  Segment: 162\n"
          ]
        },
        {
          "output_type": "stream",
          "name": "stderr",
          "text": [
            "<ipython-input-41-7dce4779c986>:58: RuntimeWarning: Mean of empty slice\n",
            "  arr1 = np.nanmean(temp_arr, axis = 0)\n"
          ]
        },
        {
          "output_type": "stream",
          "name": "stdout",
          "text": [
            "Case_ID: 10  Segment: 163\n"
          ]
        },
        {
          "output_type": "stream",
          "name": "stderr",
          "text": [
            "<ipython-input-41-7dce4779c986>:58: RuntimeWarning: Mean of empty slice\n",
            "  arr1 = np.nanmean(temp_arr, axis = 0)\n"
          ]
        },
        {
          "output_type": "stream",
          "name": "stdout",
          "text": [
            "Case_ID: 10  Segment: 164\n"
          ]
        },
        {
          "output_type": "stream",
          "name": "stderr",
          "text": [
            "<ipython-input-41-7dce4779c986>:58: RuntimeWarning: Mean of empty slice\n",
            "  arr1 = np.nanmean(temp_arr, axis = 0)\n"
          ]
        },
        {
          "output_type": "stream",
          "name": "stdout",
          "text": [
            "Case_ID: 10  Segment: 165\n"
          ]
        },
        {
          "output_type": "stream",
          "name": "stderr",
          "text": [
            "<ipython-input-41-7dce4779c986>:58: RuntimeWarning: Mean of empty slice\n",
            "  arr1 = np.nanmean(temp_arr, axis = 0)\n"
          ]
        },
        {
          "output_type": "stream",
          "name": "stdout",
          "text": [
            "Case_ID: 10  Segment: 166\n"
          ]
        },
        {
          "output_type": "stream",
          "name": "stderr",
          "text": [
            "<ipython-input-41-7dce4779c986>:58: RuntimeWarning: Mean of empty slice\n",
            "  arr1 = np.nanmean(temp_arr, axis = 0)\n"
          ]
        },
        {
          "output_type": "stream",
          "name": "stdout",
          "text": [
            "Case_ID: 10  Segment: 167\n"
          ]
        },
        {
          "output_type": "stream",
          "name": "stderr",
          "text": [
            "<ipython-input-41-7dce4779c986>:58: RuntimeWarning: Mean of empty slice\n",
            "  arr1 = np.nanmean(temp_arr, axis = 0)\n"
          ]
        },
        {
          "output_type": "stream",
          "name": "stdout",
          "text": [
            "Case_ID: 10  Segment: 168\n"
          ]
        },
        {
          "output_type": "stream",
          "name": "stderr",
          "text": [
            "<ipython-input-41-7dce4779c986>:58: RuntimeWarning: Mean of empty slice\n",
            "  arr1 = np.nanmean(temp_arr, axis = 0)\n"
          ]
        },
        {
          "output_type": "stream",
          "name": "stdout",
          "text": [
            "Case_ID: 10  Segment: 169\n"
          ]
        },
        {
          "output_type": "stream",
          "name": "stderr",
          "text": [
            "<ipython-input-41-7dce4779c986>:58: RuntimeWarning: Mean of empty slice\n",
            "  arr1 = np.nanmean(temp_arr, axis = 0)\n"
          ]
        },
        {
          "output_type": "stream",
          "name": "stdout",
          "text": [
            "Case Id: 10  processing complete.....\n"
          ]
        }
      ]
    },
    {
      "cell_type": "code",
      "source": [
        "import pandas as pd\n",
        "df = pd.read_csv(\"/content/Vital_ECG_II_features.csv\")\n",
        "df.shape"
      ],
      "metadata": {
        "colab": {
          "base_uri": "https://localhost:8080/"
        },
        "id": "_t_QKL5HWp3a",
        "outputId": "b84a8ff4-1179-4cf0-e69a-0e3a20f49066"
      },
      "execution_count": null,
      "outputs": [
        {
          "output_type": "execute_result",
          "data": {
            "text/plain": [
              "(26286, 18)"
            ]
          },
          "metadata": {},
          "execution_count": 42
        }
      ]
    },
    {
      "cell_type": "code",
      "source": [],
      "metadata": {
        "id": "c1C7ORjWGAYa"
      },
      "execution_count": null,
      "outputs": []
    },
    {
      "cell_type": "code",
      "source": [],
      "metadata": {
        "id": "p3DeZ2uhEeSz"
      },
      "execution_count": null,
      "outputs": []
    }
  ]
}