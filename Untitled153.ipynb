{
  "nbformat": 4,
  "nbformat_minor": 0,
  "metadata": {
    "colab": {
      "provenance": [],
      "authorship_tag": "ABX9TyOItqnGgqw/xZxn/x2j8q85",
      "include_colab_link": true
    },
    "kernelspec": {
      "name": "python3",
      "display_name": "Python 3"
    },
    "language_info": {
      "name": "python"
    },
    "widgets": {
      "application/vnd.jupyter.widget-state+json": {
        "850aedb0284744859de236f53505f5ac": {
          "model_module": "@jupyter-widgets/controls",
          "model_name": "HBoxModel",
          "model_module_version": "1.5.0",
          "state": {
            "_dom_classes": [],
            "_model_module": "@jupyter-widgets/controls",
            "_model_module_version": "1.5.0",
            "_model_name": "HBoxModel",
            "_view_count": null,
            "_view_module": "@jupyter-widgets/controls",
            "_view_module_version": "1.5.0",
            "_view_name": "HBoxView",
            "box_style": "",
            "children": [
              "IPY_MODEL_bf349c0a11804d91a3174d216518f07f",
              "IPY_MODEL_d1555e21bd814571b3fb06ccd6032109",
              "IPY_MODEL_71e68eb78e6c4915a09d35aed8cf0ce7"
            ],
            "layout": "IPY_MODEL_4cc570b412c4409f8f692b73dfa0a3f4"
          }
        },
        "bf349c0a11804d91a3174d216518f07f": {
          "model_module": "@jupyter-widgets/controls",
          "model_name": "HTMLModel",
          "model_module_version": "1.5.0",
          "state": {
            "_dom_classes": [],
            "_model_module": "@jupyter-widgets/controls",
            "_model_module_version": "1.5.0",
            "_model_name": "HTMLModel",
            "_view_count": null,
            "_view_module": "@jupyter-widgets/controls",
            "_view_module_version": "1.5.0",
            "_view_name": "HTMLView",
            "description": "",
            "description_tooltip": null,
            "layout": "IPY_MODEL_426557ee5f314054bb1308550779176b",
            "placeholder": "​",
            "style": "IPY_MODEL_e451af3872d441e9b59f78cee32add2d",
            "value": "100%"
          }
        },
        "d1555e21bd814571b3fb06ccd6032109": {
          "model_module": "@jupyter-widgets/controls",
          "model_name": "FloatProgressModel",
          "model_module_version": "1.5.0",
          "state": {
            "_dom_classes": [],
            "_model_module": "@jupyter-widgets/controls",
            "_model_module_version": "1.5.0",
            "_model_name": "FloatProgressModel",
            "_view_count": null,
            "_view_module": "@jupyter-widgets/controls",
            "_view_module_version": "1.5.0",
            "_view_name": "ProgressView",
            "bar_style": "success",
            "description": "",
            "description_tooltip": null,
            "layout": "IPY_MODEL_18d3bce93bfb47f0ada4958e91b61096",
            "max": 1,
            "min": 0,
            "orientation": "horizontal",
            "style": "IPY_MODEL_eb750f44372c4ef99cfb14c7bb235109",
            "value": 1
          }
        },
        "71e68eb78e6c4915a09d35aed8cf0ce7": {
          "model_module": "@jupyter-widgets/controls",
          "model_name": "HTMLModel",
          "model_module_version": "1.5.0",
          "state": {
            "_dom_classes": [],
            "_model_module": "@jupyter-widgets/controls",
            "_model_module_version": "1.5.0",
            "_model_name": "HTMLModel",
            "_view_count": null,
            "_view_module": "@jupyter-widgets/controls",
            "_view_module_version": "1.5.0",
            "_view_name": "HTMLView",
            "description": "",
            "description_tooltip": null,
            "layout": "IPY_MODEL_5c1733e7cc2546b99b329937d5339bc3",
            "placeholder": "​",
            "style": "IPY_MODEL_a6dfe956a7404b9e997465bf3ebad3f7",
            "value": " 1/1 [01:08&lt;00:00, 68.40s/it]"
          }
        },
        "4cc570b412c4409f8f692b73dfa0a3f4": {
          "model_module": "@jupyter-widgets/base",
          "model_name": "LayoutModel",
          "model_module_version": "1.2.0",
          "state": {
            "_model_module": "@jupyter-widgets/base",
            "_model_module_version": "1.2.0",
            "_model_name": "LayoutModel",
            "_view_count": null,
            "_view_module": "@jupyter-widgets/base",
            "_view_module_version": "1.2.0",
            "_view_name": "LayoutView",
            "align_content": null,
            "align_items": null,
            "align_self": null,
            "border": null,
            "bottom": null,
            "display": null,
            "flex": null,
            "flex_flow": null,
            "grid_area": null,
            "grid_auto_columns": null,
            "grid_auto_flow": null,
            "grid_auto_rows": null,
            "grid_column": null,
            "grid_gap": null,
            "grid_row": null,
            "grid_template_areas": null,
            "grid_template_columns": null,
            "grid_template_rows": null,
            "height": null,
            "justify_content": null,
            "justify_items": null,
            "left": null,
            "margin": null,
            "max_height": null,
            "max_width": null,
            "min_height": null,
            "min_width": null,
            "object_fit": null,
            "object_position": null,
            "order": null,
            "overflow": null,
            "overflow_x": null,
            "overflow_y": null,
            "padding": null,
            "right": null,
            "top": null,
            "visibility": null,
            "width": null
          }
        },
        "426557ee5f314054bb1308550779176b": {
          "model_module": "@jupyter-widgets/base",
          "model_name": "LayoutModel",
          "model_module_version": "1.2.0",
          "state": {
            "_model_module": "@jupyter-widgets/base",
            "_model_module_version": "1.2.0",
            "_model_name": "LayoutModel",
            "_view_count": null,
            "_view_module": "@jupyter-widgets/base",
            "_view_module_version": "1.2.0",
            "_view_name": "LayoutView",
            "align_content": null,
            "align_items": null,
            "align_self": null,
            "border": null,
            "bottom": null,
            "display": null,
            "flex": null,
            "flex_flow": null,
            "grid_area": null,
            "grid_auto_columns": null,
            "grid_auto_flow": null,
            "grid_auto_rows": null,
            "grid_column": null,
            "grid_gap": null,
            "grid_row": null,
            "grid_template_areas": null,
            "grid_template_columns": null,
            "grid_template_rows": null,
            "height": null,
            "justify_content": null,
            "justify_items": null,
            "left": null,
            "margin": null,
            "max_height": null,
            "max_width": null,
            "min_height": null,
            "min_width": null,
            "object_fit": null,
            "object_position": null,
            "order": null,
            "overflow": null,
            "overflow_x": null,
            "overflow_y": null,
            "padding": null,
            "right": null,
            "top": null,
            "visibility": null,
            "width": null
          }
        },
        "e451af3872d441e9b59f78cee32add2d": {
          "model_module": "@jupyter-widgets/controls",
          "model_name": "DescriptionStyleModel",
          "model_module_version": "1.5.0",
          "state": {
            "_model_module": "@jupyter-widgets/controls",
            "_model_module_version": "1.5.0",
            "_model_name": "DescriptionStyleModel",
            "_view_count": null,
            "_view_module": "@jupyter-widgets/base",
            "_view_module_version": "1.2.0",
            "_view_name": "StyleView",
            "description_width": ""
          }
        },
        "18d3bce93bfb47f0ada4958e91b61096": {
          "model_module": "@jupyter-widgets/base",
          "model_name": "LayoutModel",
          "model_module_version": "1.2.0",
          "state": {
            "_model_module": "@jupyter-widgets/base",
            "_model_module_version": "1.2.0",
            "_model_name": "LayoutModel",
            "_view_count": null,
            "_view_module": "@jupyter-widgets/base",
            "_view_module_version": "1.2.0",
            "_view_name": "LayoutView",
            "align_content": null,
            "align_items": null,
            "align_self": null,
            "border": null,
            "bottom": null,
            "display": null,
            "flex": null,
            "flex_flow": null,
            "grid_area": null,
            "grid_auto_columns": null,
            "grid_auto_flow": null,
            "grid_auto_rows": null,
            "grid_column": null,
            "grid_gap": null,
            "grid_row": null,
            "grid_template_areas": null,
            "grid_template_columns": null,
            "grid_template_rows": null,
            "height": null,
            "justify_content": null,
            "justify_items": null,
            "left": null,
            "margin": null,
            "max_height": null,
            "max_width": null,
            "min_height": null,
            "min_width": null,
            "object_fit": null,
            "object_position": null,
            "order": null,
            "overflow": null,
            "overflow_x": null,
            "overflow_y": null,
            "padding": null,
            "right": null,
            "top": null,
            "visibility": null,
            "width": null
          }
        },
        "eb750f44372c4ef99cfb14c7bb235109": {
          "model_module": "@jupyter-widgets/controls",
          "model_name": "ProgressStyleModel",
          "model_module_version": "1.5.0",
          "state": {
            "_model_module": "@jupyter-widgets/controls",
            "_model_module_version": "1.5.0",
            "_model_name": "ProgressStyleModel",
            "_view_count": null,
            "_view_module": "@jupyter-widgets/base",
            "_view_module_version": "1.2.0",
            "_view_name": "StyleView",
            "bar_color": null,
            "description_width": ""
          }
        },
        "5c1733e7cc2546b99b329937d5339bc3": {
          "model_module": "@jupyter-widgets/base",
          "model_name": "LayoutModel",
          "model_module_version": "1.2.0",
          "state": {
            "_model_module": "@jupyter-widgets/base",
            "_model_module_version": "1.2.0",
            "_model_name": "LayoutModel",
            "_view_count": null,
            "_view_module": "@jupyter-widgets/base",
            "_view_module_version": "1.2.0",
            "_view_name": "LayoutView",
            "align_content": null,
            "align_items": null,
            "align_self": null,
            "border": null,
            "bottom": null,
            "display": null,
            "flex": null,
            "flex_flow": null,
            "grid_area": null,
            "grid_auto_columns": null,
            "grid_auto_flow": null,
            "grid_auto_rows": null,
            "grid_column": null,
            "grid_gap": null,
            "grid_row": null,
            "grid_template_areas": null,
            "grid_template_columns": null,
            "grid_template_rows": null,
            "height": null,
            "justify_content": null,
            "justify_items": null,
            "left": null,
            "margin": null,
            "max_height": null,
            "max_width": null,
            "min_height": null,
            "min_width": null,
            "object_fit": null,
            "object_position": null,
            "order": null,
            "overflow": null,
            "overflow_x": null,
            "overflow_y": null,
            "padding": null,
            "right": null,
            "top": null,
            "visibility": null,
            "width": null
          }
        },
        "a6dfe956a7404b9e997465bf3ebad3f7": {
          "model_module": "@jupyter-widgets/controls",
          "model_name": "DescriptionStyleModel",
          "model_module_version": "1.5.0",
          "state": {
            "_model_module": "@jupyter-widgets/controls",
            "_model_module_version": "1.5.0",
            "_model_name": "DescriptionStyleModel",
            "_view_count": null,
            "_view_module": "@jupyter-widgets/base",
            "_view_module_version": "1.2.0",
            "_view_name": "StyleView",
            "description_width": ""
          }
        },
        "b39179ef10004e5d85534a5bfa27501d": {
          "model_module": "@jupyter-widgets/controls",
          "model_name": "HBoxModel",
          "model_module_version": "1.5.0",
          "state": {
            "_dom_classes": [],
            "_model_module": "@jupyter-widgets/controls",
            "_model_module_version": "1.5.0",
            "_model_name": "HBoxModel",
            "_view_count": null,
            "_view_module": "@jupyter-widgets/controls",
            "_view_module_version": "1.5.0",
            "_view_name": "HBoxView",
            "box_style": "",
            "children": [
              "IPY_MODEL_c8c8c77e3015445f81ba553f88d08326",
              "IPY_MODEL_f3554feee1164618a15bdec6727434c8",
              "IPY_MODEL_cedc2e1b040f4f978be0a29bfb6e8dc5"
            ],
            "layout": "IPY_MODEL_9e8c5b99cddf4a2996d6912ce4a0dc39"
          }
        },
        "c8c8c77e3015445f81ba553f88d08326": {
          "model_module": "@jupyter-widgets/controls",
          "model_name": "HTMLModel",
          "model_module_version": "1.5.0",
          "state": {
            "_dom_classes": [],
            "_model_module": "@jupyter-widgets/controls",
            "_model_module_version": "1.5.0",
            "_model_name": "HTMLModel",
            "_view_count": null,
            "_view_module": "@jupyter-widgets/controls",
            "_view_module_version": "1.5.0",
            "_view_name": "HTMLView",
            "description": "",
            "description_tooltip": null,
            "layout": "IPY_MODEL_cf0fb20d0b704983a2ebf2b3a4463071",
            "placeholder": "​",
            "style": "IPY_MODEL_6b83cf1e15ad46798e4c25e52aa24019",
            "value": "100%"
          }
        },
        "f3554feee1164618a15bdec6727434c8": {
          "model_module": "@jupyter-widgets/controls",
          "model_name": "FloatProgressModel",
          "model_module_version": "1.5.0",
          "state": {
            "_dom_classes": [],
            "_model_module": "@jupyter-widgets/controls",
            "_model_module_version": "1.5.0",
            "_model_name": "FloatProgressModel",
            "_view_count": null,
            "_view_module": "@jupyter-widgets/controls",
            "_view_module_version": "1.5.0",
            "_view_name": "ProgressView",
            "bar_style": "success",
            "description": "",
            "description_tooltip": null,
            "layout": "IPY_MODEL_11fa01c8709f4a73af46ab2a5eb3df96",
            "max": 64,
            "min": 0,
            "orientation": "horizontal",
            "style": "IPY_MODEL_feeb02aa941e42ee9e78474ec3e51841",
            "value": 64
          }
        },
        "cedc2e1b040f4f978be0a29bfb6e8dc5": {
          "model_module": "@jupyter-widgets/controls",
          "model_name": "HTMLModel",
          "model_module_version": "1.5.0",
          "state": {
            "_dom_classes": [],
            "_model_module": "@jupyter-widgets/controls",
            "_model_module_version": "1.5.0",
            "_model_name": "HTMLModel",
            "_view_count": null,
            "_view_module": "@jupyter-widgets/controls",
            "_view_module_version": "1.5.0",
            "_view_name": "HTMLView",
            "description": "",
            "description_tooltip": null,
            "layout": "IPY_MODEL_d8f0b5ae207347a0b65b87d4ff7a3f45",
            "placeholder": "​",
            "style": "IPY_MODEL_33ee4ea7b47843c3995221e9940a5481",
            "value": " 64/64 [01:01&lt;00:00,  1.26it/s]"
          }
        },
        "9e8c5b99cddf4a2996d6912ce4a0dc39": {
          "model_module": "@jupyter-widgets/base",
          "model_name": "LayoutModel",
          "model_module_version": "1.2.0",
          "state": {
            "_model_module": "@jupyter-widgets/base",
            "_model_module_version": "1.2.0",
            "_model_name": "LayoutModel",
            "_view_count": null,
            "_view_module": "@jupyter-widgets/base",
            "_view_module_version": "1.2.0",
            "_view_name": "LayoutView",
            "align_content": null,
            "align_items": null,
            "align_self": null,
            "border": null,
            "bottom": null,
            "display": null,
            "flex": null,
            "flex_flow": null,
            "grid_area": null,
            "grid_auto_columns": null,
            "grid_auto_flow": null,
            "grid_auto_rows": null,
            "grid_column": null,
            "grid_gap": null,
            "grid_row": null,
            "grid_template_areas": null,
            "grid_template_columns": null,
            "grid_template_rows": null,
            "height": null,
            "justify_content": null,
            "justify_items": null,
            "left": null,
            "margin": null,
            "max_height": null,
            "max_width": null,
            "min_height": null,
            "min_width": null,
            "object_fit": null,
            "object_position": null,
            "order": null,
            "overflow": null,
            "overflow_x": null,
            "overflow_y": null,
            "padding": null,
            "right": null,
            "top": null,
            "visibility": null,
            "width": null
          }
        },
        "cf0fb20d0b704983a2ebf2b3a4463071": {
          "model_module": "@jupyter-widgets/base",
          "model_name": "LayoutModel",
          "model_module_version": "1.2.0",
          "state": {
            "_model_module": "@jupyter-widgets/base",
            "_model_module_version": "1.2.0",
            "_model_name": "LayoutModel",
            "_view_count": null,
            "_view_module": "@jupyter-widgets/base",
            "_view_module_version": "1.2.0",
            "_view_name": "LayoutView",
            "align_content": null,
            "align_items": null,
            "align_self": null,
            "border": null,
            "bottom": null,
            "display": null,
            "flex": null,
            "flex_flow": null,
            "grid_area": null,
            "grid_auto_columns": null,
            "grid_auto_flow": null,
            "grid_auto_rows": null,
            "grid_column": null,
            "grid_gap": null,
            "grid_row": null,
            "grid_template_areas": null,
            "grid_template_columns": null,
            "grid_template_rows": null,
            "height": null,
            "justify_content": null,
            "justify_items": null,
            "left": null,
            "margin": null,
            "max_height": null,
            "max_width": null,
            "min_height": null,
            "min_width": null,
            "object_fit": null,
            "object_position": null,
            "order": null,
            "overflow": null,
            "overflow_x": null,
            "overflow_y": null,
            "padding": null,
            "right": null,
            "top": null,
            "visibility": null,
            "width": null
          }
        },
        "6b83cf1e15ad46798e4c25e52aa24019": {
          "model_module": "@jupyter-widgets/controls",
          "model_name": "DescriptionStyleModel",
          "model_module_version": "1.5.0",
          "state": {
            "_model_module": "@jupyter-widgets/controls",
            "_model_module_version": "1.5.0",
            "_model_name": "DescriptionStyleModel",
            "_view_count": null,
            "_view_module": "@jupyter-widgets/base",
            "_view_module_version": "1.2.0",
            "_view_name": "StyleView",
            "description_width": ""
          }
        },
        "11fa01c8709f4a73af46ab2a5eb3df96": {
          "model_module": "@jupyter-widgets/base",
          "model_name": "LayoutModel",
          "model_module_version": "1.2.0",
          "state": {
            "_model_module": "@jupyter-widgets/base",
            "_model_module_version": "1.2.0",
            "_model_name": "LayoutModel",
            "_view_count": null,
            "_view_module": "@jupyter-widgets/base",
            "_view_module_version": "1.2.0",
            "_view_name": "LayoutView",
            "align_content": null,
            "align_items": null,
            "align_self": null,
            "border": null,
            "bottom": null,
            "display": null,
            "flex": null,
            "flex_flow": null,
            "grid_area": null,
            "grid_auto_columns": null,
            "grid_auto_flow": null,
            "grid_auto_rows": null,
            "grid_column": null,
            "grid_gap": null,
            "grid_row": null,
            "grid_template_areas": null,
            "grid_template_columns": null,
            "grid_template_rows": null,
            "height": null,
            "justify_content": null,
            "justify_items": null,
            "left": null,
            "margin": null,
            "max_height": null,
            "max_width": null,
            "min_height": null,
            "min_width": null,
            "object_fit": null,
            "object_position": null,
            "order": null,
            "overflow": null,
            "overflow_x": null,
            "overflow_y": null,
            "padding": null,
            "right": null,
            "top": null,
            "visibility": null,
            "width": null
          }
        },
        "feeb02aa941e42ee9e78474ec3e51841": {
          "model_module": "@jupyter-widgets/controls",
          "model_name": "ProgressStyleModel",
          "model_module_version": "1.5.0",
          "state": {
            "_model_module": "@jupyter-widgets/controls",
            "_model_module_version": "1.5.0",
            "_model_name": "ProgressStyleModel",
            "_view_count": null,
            "_view_module": "@jupyter-widgets/base",
            "_view_module_version": "1.2.0",
            "_view_name": "StyleView",
            "bar_color": null,
            "description_width": ""
          }
        },
        "d8f0b5ae207347a0b65b87d4ff7a3f45": {
          "model_module": "@jupyter-widgets/base",
          "model_name": "LayoutModel",
          "model_module_version": "1.2.0",
          "state": {
            "_model_module": "@jupyter-widgets/base",
            "_model_module_version": "1.2.0",
            "_model_name": "LayoutModel",
            "_view_count": null,
            "_view_module": "@jupyter-widgets/base",
            "_view_module_version": "1.2.0",
            "_view_name": "LayoutView",
            "align_content": null,
            "align_items": null,
            "align_self": null,
            "border": null,
            "bottom": null,
            "display": null,
            "flex": null,
            "flex_flow": null,
            "grid_area": null,
            "grid_auto_columns": null,
            "grid_auto_flow": null,
            "grid_auto_rows": null,
            "grid_column": null,
            "grid_gap": null,
            "grid_row": null,
            "grid_template_areas": null,
            "grid_template_columns": null,
            "grid_template_rows": null,
            "height": null,
            "justify_content": null,
            "justify_items": null,
            "left": null,
            "margin": null,
            "max_height": null,
            "max_width": null,
            "min_height": null,
            "min_width": null,
            "object_fit": null,
            "object_position": null,
            "order": null,
            "overflow": null,
            "overflow_x": null,
            "overflow_y": null,
            "padding": null,
            "right": null,
            "top": null,
            "visibility": null,
            "width": null
          }
        },
        "33ee4ea7b47843c3995221e9940a5481": {
          "model_module": "@jupyter-widgets/controls",
          "model_name": "DescriptionStyleModel",
          "model_module_version": "1.5.0",
          "state": {
            "_model_module": "@jupyter-widgets/controls",
            "_model_module_version": "1.5.0",
            "_model_name": "DescriptionStyleModel",
            "_view_count": null,
            "_view_module": "@jupyter-widgets/base",
            "_view_module_version": "1.2.0",
            "_view_name": "StyleView",
            "description_width": ""
          }
        }
      }
    }
  },
  "cells": [
    {
      "cell_type": "markdown",
      "metadata": {
        "id": "view-in-github",
        "colab_type": "text"
      },
      "source": [
        "<a href=\"https://colab.research.google.com/github/RafsanJany-44/ARC/blob/master/Untitled153.ipynb\" target=\"_parent\"><img src=\"https://colab.research.google.com/assets/colab-badge.svg\" alt=\"Open In Colab\"/></a>"
      ]
    },
    {
      "cell_type": "code",
      "execution_count": 1,
      "metadata": {
        "colab": {
          "base_uri": "https://localhost:8080/"
        },
        "id": "v2DWK77N5qcp",
        "outputId": "2bfe883f-da3c-412d-c240-307f37845afe"
      },
      "outputs": [
        {
          "output_type": "stream",
          "name": "stdout",
          "text": [
            "Collecting pyvital\n",
            "  Downloading pyvital-0.3.5-py3-none-any.whl (4.9 MB)\n",
            "\u001b[2K     \u001b[90m━━━━━━━━━━━━━━━━━━━━━━━━━━━━━━━━━━━━━━━━\u001b[0m \u001b[32m4.9/4.9 MB\u001b[0m \u001b[31m11.6 MB/s\u001b[0m eta \u001b[36m0:00:00\u001b[0m\n",
            "\u001b[?25hCollecting vitaldb\n",
            "  Downloading vitaldb-1.4.2-py3-none-any.whl (54 kB)\n",
            "\u001b[2K     \u001b[90m━━━━━━━━━━━━━━━━━━━━━━━━━━━━━━━━━━━━━━━━\u001b[0m \u001b[32m55.0/55.0 kB\u001b[0m \u001b[31m6.5 MB/s\u001b[0m eta \u001b[36m0:00:00\u001b[0m\n",
            "\u001b[?25hCollecting vital\n",
            "  Downloading vital-1.4.10-py3-none-any.whl (17 kB)\n",
            "Requirement already satisfied: numpy in /usr/local/lib/python3.10/dist-packages (from pyvital) (1.23.5)\n",
            "Requirement already satisfied: scipy in /usr/local/lib/python3.10/dist-packages (from pyvital) (1.11.2)\n",
            "Collecting sanic (from pyvital)\n",
            "  Downloading sanic-23.6.0-py3-none-any.whl (202 kB)\n",
            "\u001b[2K     \u001b[90m━━━━━━━━━━━━━━━━━━━━━━━━━━━━━━━━━━━━━━\u001b[0m \u001b[32m202.5/202.5 kB\u001b[0m \u001b[31m23.1 MB/s\u001b[0m eta \u001b[36m0:00:00\u001b[0m\n",
            "\u001b[?25hRequirement already satisfied: PyWavelets in /usr/local/lib/python3.10/dist-packages (from pyvital) (1.4.1)\n",
            "Requirement already satisfied: tensorflow>=2.6 in /usr/local/lib/python3.10/dist-packages (from pyvital) (2.13.0)\n",
            "Requirement already satisfied: keras in /usr/local/lib/python3.10/dist-packages (from pyvital) (2.13.1)\n",
            "Requirement already satisfied: torch in /usr/local/lib/python3.10/dist-packages (from pyvital) (2.0.1+cu118)\n",
            "Requirement already satisfied: pandas in /usr/local/lib/python3.10/dist-packages (from vitaldb) (1.5.3)\n",
            "Requirement already satisfied: requests in /usr/local/lib/python3.10/dist-packages (from vitaldb) (2.31.0)\n",
            "Collecting wfdb (from vitaldb)\n",
            "  Downloading wfdb-4.1.2-py3-none-any.whl (159 kB)\n",
            "\u001b[2K     \u001b[90m━━━━━━━━━━━━━━━━━━━━━━━━━━━━━━━━━━━━━━\u001b[0m \u001b[32m160.0/160.0 kB\u001b[0m \u001b[31m21.3 MB/s\u001b[0m eta \u001b[36m0:00:00\u001b[0m\n",
            "\u001b[?25hRequirement already satisfied: PyJWT<3.0.0,>=2.0.1 in /usr/lib/python3/dist-packages (from vital) (2.3.0)\n",
            "Collecting arrow (from vital)\n",
            "  Downloading arrow-1.2.3-py3-none-any.whl (66 kB)\n",
            "\u001b[2K     \u001b[90m━━━━━━━━━━━━━━━━━━━━━━━━━━━━━━━━━━━━━━━━\u001b[0m \u001b[32m66.4/66.4 kB\u001b[0m \u001b[31m9.1 MB/s\u001b[0m eta \u001b[36m0:00:00\u001b[0m\n",
            "\u001b[?25hCollecting importlib-metadata<4.0.0,>=3.7.3 (from vital)\n",
            "  Downloading importlib_metadata-3.10.1-py3-none-any.whl (14 kB)\n",
            "Requirement already satisfied: pydantic<2.0.0,>=1.10.7 in /usr/local/lib/python3.10/dist-packages (from vital) (1.10.12)\n",
            "Collecting svix<0.42.0,>=0.41.2 (from vital)\n",
            "  Downloading svix-0.41.2.tar.gz (75 kB)\n",
            "\u001b[2K     \u001b[90m━━━━━━━━━━━━━━━━━━━━━━━━━━━━━━━━━━━━━━━━\u001b[0m \u001b[32m75.0/75.0 kB\u001b[0m \u001b[31m10.6 MB/s\u001b[0m eta \u001b[36m0:00:00\u001b[0m\n",
            "\u001b[?25h  Installing build dependencies ... \u001b[?25l\u001b[?25hdone\n",
            "  Getting requirements to build wheel ... \u001b[?25l\u001b[?25hdone\n",
            "  Preparing metadata (pyproject.toml) ... \u001b[?25l\u001b[?25hdone\n",
            "Collecting typed-ast<2.0.0,>=1.5.4 (from vital)\n",
            "  Downloading typed_ast-1.5.5-cp310-cp310-manylinux_2_17_x86_64.manylinux2014_x86_64.whl (824 kB)\n",
            "\u001b[2K     \u001b[90m━━━━━━━━━━━━━━━━━━━━━━━━━━━━━━━━━━━━━━\u001b[0m \u001b[32m824.7/824.7 kB\u001b[0m \u001b[31m34.3 MB/s\u001b[0m eta \u001b[36m0:00:00\u001b[0m\n",
            "\u001b[?25hRequirement already satisfied: zipp>=0.5 in /usr/local/lib/python3.10/dist-packages (from importlib-metadata<4.0.0,>=3.7.3->vital) (3.16.2)\n",
            "Requirement already satisfied: typing-extensions>=4.2.0 in /usr/local/lib/python3.10/dist-packages (from pydantic<2.0.0,>=1.10.7->vital) (4.5.0)\n",
            "Requirement already satisfied: urllib3>=1.25.3 in /usr/local/lib/python3.10/dist-packages (from svix<0.42.0,>=0.41.2->vital) (2.0.4)\n",
            "Requirement already satisfied: python-dateutil in /usr/local/lib/python3.10/dist-packages (from svix<0.42.0,>=0.41.2->vital) (2.8.2)\n",
            "Requirement already satisfied: absl-py>=1.0.0 in /usr/local/lib/python3.10/dist-packages (from tensorflow>=2.6->pyvital) (1.4.0)\n",
            "Requirement already satisfied: astunparse>=1.6.0 in /usr/local/lib/python3.10/dist-packages (from tensorflow>=2.6->pyvital) (1.6.3)\n",
            "Requirement already satisfied: flatbuffers>=23.1.21 in /usr/local/lib/python3.10/dist-packages (from tensorflow>=2.6->pyvital) (23.5.26)\n",
            "Requirement already satisfied: gast<=0.4.0,>=0.2.1 in /usr/local/lib/python3.10/dist-packages (from tensorflow>=2.6->pyvital) (0.4.0)\n",
            "Requirement already satisfied: google-pasta>=0.1.1 in /usr/local/lib/python3.10/dist-packages (from tensorflow>=2.6->pyvital) (0.2.0)\n",
            "Requirement already satisfied: grpcio<2.0,>=1.24.3 in /usr/local/lib/python3.10/dist-packages (from tensorflow>=2.6->pyvital) (1.57.0)\n",
            "Requirement already satisfied: h5py>=2.9.0 in /usr/local/lib/python3.10/dist-packages (from tensorflow>=2.6->pyvital) (3.9.0)\n",
            "Requirement already satisfied: libclang>=13.0.0 in /usr/local/lib/python3.10/dist-packages (from tensorflow>=2.6->pyvital) (16.0.6)\n",
            "Requirement already satisfied: opt-einsum>=2.3.2 in /usr/local/lib/python3.10/dist-packages (from tensorflow>=2.6->pyvital) (3.3.0)\n",
            "Requirement already satisfied: packaging in /usr/local/lib/python3.10/dist-packages (from tensorflow>=2.6->pyvital) (23.1)\n",
            "Requirement already satisfied: protobuf!=4.21.0,!=4.21.1,!=4.21.2,!=4.21.3,!=4.21.4,!=4.21.5,<5.0.0dev,>=3.20.3 in /usr/local/lib/python3.10/dist-packages (from tensorflow>=2.6->pyvital) (3.20.3)\n",
            "Requirement already satisfied: setuptools in /usr/local/lib/python3.10/dist-packages (from tensorflow>=2.6->pyvital) (67.7.2)\n",
            "Requirement already satisfied: six>=1.12.0 in /usr/local/lib/python3.10/dist-packages (from tensorflow>=2.6->pyvital) (1.16.0)\n",
            "Requirement already satisfied: tensorboard<2.14,>=2.13 in /usr/local/lib/python3.10/dist-packages (from tensorflow>=2.6->pyvital) (2.13.0)\n",
            "Requirement already satisfied: tensorflow-estimator<2.14,>=2.13.0 in /usr/local/lib/python3.10/dist-packages (from tensorflow>=2.6->pyvital) (2.13.0)\n",
            "Requirement already satisfied: termcolor>=1.1.0 in /usr/local/lib/python3.10/dist-packages (from tensorflow>=2.6->pyvital) (2.3.0)\n",
            "Requirement already satisfied: wrapt>=1.11.0 in /usr/local/lib/python3.10/dist-packages (from tensorflow>=2.6->pyvital) (1.15.0)\n",
            "Requirement already satisfied: tensorflow-io-gcs-filesystem>=0.23.1 in /usr/local/lib/python3.10/dist-packages (from tensorflow>=2.6->pyvital) (0.33.0)\n",
            "Requirement already satisfied: pytz>=2020.1 in /usr/local/lib/python3.10/dist-packages (from pandas->vitaldb) (2023.3.post1)\n",
            "Requirement already satisfied: charset-normalizer<4,>=2 in /usr/local/lib/python3.10/dist-packages (from requests->vitaldb) (3.2.0)\n",
            "Requirement already satisfied: idna<4,>=2.5 in /usr/local/lib/python3.10/dist-packages (from requests->vitaldb) (3.4)\n",
            "Requirement already satisfied: certifi>=2017.4.17 in /usr/local/lib/python3.10/dist-packages (from requests->vitaldb) (2023.7.22)\n",
            "Collecting sanic-routing>=23.6.0 (from sanic->pyvital)\n",
            "  Downloading sanic_routing-23.6.0-py3-none-any.whl (25 kB)\n",
            "Collecting httptools>=0.0.10 (from sanic->pyvital)\n",
            "  Downloading httptools-0.6.0-cp310-cp310-manylinux_2_5_x86_64.manylinux1_x86_64.manylinux_2_17_x86_64.manylinux2014_x86_64.whl (428 kB)\n",
            "\u001b[2K     \u001b[90m━━━━━━━━━━━━━━━━━━━━━━━━━━━━━━━━━━━━━━\u001b[0m \u001b[32m428.8/428.8 kB\u001b[0m \u001b[31m36.3 MB/s\u001b[0m eta \u001b[36m0:00:00\u001b[0m\n",
            "\u001b[?25hCollecting aiofiles>=0.6.0 (from sanic->pyvital)\n",
            "  Downloading aiofiles-23.2.1-py3-none-any.whl (15 kB)\n",
            "Collecting websockets>=10.0 (from sanic->pyvital)\n",
            "  Downloading websockets-11.0.3-cp310-cp310-manylinux_2_5_x86_64.manylinux1_x86_64.manylinux_2_17_x86_64.manylinux2014_x86_64.whl (129 kB)\n",
            "\u001b[2K     \u001b[90m━━━━━━━━━━━━━━━━━━━━━━━━━━━━━━━━━━━━━━\u001b[0m \u001b[32m129.9/129.9 kB\u001b[0m \u001b[31m15.4 MB/s\u001b[0m eta \u001b[36m0:00:00\u001b[0m\n",
            "\u001b[?25hRequirement already satisfied: multidict<7.0,>=5.0 in /usr/local/lib/python3.10/dist-packages (from sanic->pyvital) (6.0.4)\n",
            "Collecting html5tagger>=1.2.1 (from sanic->pyvital)\n",
            "  Downloading html5tagger-1.3.0-py3-none-any.whl (10 kB)\n",
            "Collecting tracerite>=1.0.0 (from sanic->pyvital)\n",
            "  Downloading tracerite-1.1.0-py3-none-any.whl (12 kB)\n",
            "Collecting uvloop>=0.15.0 (from sanic->pyvital)\n",
            "  Downloading uvloop-0.17.0-cp310-cp310-manylinux_2_17_x86_64.manylinux2014_x86_64.whl (4.1 MB)\n",
            "\u001b[2K     \u001b[90m━━━━━━━━━━━━━━━━━━━━━━━━━━━━━━━━━━━━━━━━\u001b[0m \u001b[32m4.1/4.1 MB\u001b[0m \u001b[31m43.7 MB/s\u001b[0m eta \u001b[36m0:00:00\u001b[0m\n",
            "\u001b[?25hCollecting ujson>=1.35 (from sanic->pyvital)\n",
            "  Downloading ujson-5.8.0-cp310-cp310-manylinux_2_17_x86_64.manylinux2014_x86_64.whl (53 kB)\n",
            "\u001b[2K     \u001b[90m━━━━━━━━━━━━━━━━━━━━━━━━━━━━━━━━━━━━━━━━\u001b[0m \u001b[32m53.9/53.9 kB\u001b[0m \u001b[31m7.2 MB/s\u001b[0m eta \u001b[36m0:00:00\u001b[0m\n",
            "\u001b[?25hRequirement already satisfied: filelock in /usr/local/lib/python3.10/dist-packages (from torch->pyvital) (3.12.2)\n",
            "Requirement already satisfied: sympy in /usr/local/lib/python3.10/dist-packages (from torch->pyvital) (1.12)\n",
            "Requirement already satisfied: networkx in /usr/local/lib/python3.10/dist-packages (from torch->pyvital) (3.1)\n",
            "Requirement already satisfied: jinja2 in /usr/local/lib/python3.10/dist-packages (from torch->pyvital) (3.1.2)\n",
            "Requirement already satisfied: triton==2.0.0 in /usr/local/lib/python3.10/dist-packages (from torch->pyvital) (2.0.0)\n",
            "Requirement already satisfied: cmake in /usr/local/lib/python3.10/dist-packages (from triton==2.0.0->torch->pyvital) (3.27.4.1)\n",
            "Requirement already satisfied: lit in /usr/local/lib/python3.10/dist-packages (from triton==2.0.0->torch->pyvital) (16.0.6)\n",
            "Requirement already satisfied: SoundFile>=0.10.0 in /usr/local/lib/python3.10/dist-packages (from wfdb->vitaldb) (0.12.1)\n",
            "Requirement already satisfied: matplotlib>=3.2.2 in /usr/local/lib/python3.10/dist-packages (from wfdb->vitaldb) (3.7.1)\n",
            "Requirement already satisfied: wheel<1.0,>=0.23.0 in /usr/local/lib/python3.10/dist-packages (from astunparse>=1.6.0->tensorflow>=2.6->pyvital) (0.41.2)\n",
            "Requirement already satisfied: contourpy>=1.0.1 in /usr/local/lib/python3.10/dist-packages (from matplotlib>=3.2.2->wfdb->vitaldb) (1.1.0)\n",
            "Requirement already satisfied: cycler>=0.10 in /usr/local/lib/python3.10/dist-packages (from matplotlib>=3.2.2->wfdb->vitaldb) (0.11.0)\n",
            "Requirement already satisfied: fonttools>=4.22.0 in /usr/local/lib/python3.10/dist-packages (from matplotlib>=3.2.2->wfdb->vitaldb) (4.42.1)\n",
            "Requirement already satisfied: kiwisolver>=1.0.1 in /usr/local/lib/python3.10/dist-packages (from matplotlib>=3.2.2->wfdb->vitaldb) (1.4.5)\n",
            "Requirement already satisfied: pillow>=6.2.0 in /usr/local/lib/python3.10/dist-packages (from matplotlib>=3.2.2->wfdb->vitaldb) (9.4.0)\n",
            "Requirement already satisfied: pyparsing>=2.3.1 in /usr/local/lib/python3.10/dist-packages (from matplotlib>=3.2.2->wfdb->vitaldb) (3.1.1)\n",
            "Requirement already satisfied: cffi>=1.0 in /usr/local/lib/python3.10/dist-packages (from SoundFile>=0.10.0->wfdb->vitaldb) (1.15.1)\n",
            "Requirement already satisfied: google-auth<3,>=1.6.3 in /usr/local/lib/python3.10/dist-packages (from tensorboard<2.14,>=2.13->tensorflow>=2.6->pyvital) (2.17.3)\n",
            "Requirement already satisfied: google-auth-oauthlib<1.1,>=0.5 in /usr/local/lib/python3.10/dist-packages (from tensorboard<2.14,>=2.13->tensorflow>=2.6->pyvital) (1.0.0)\n",
            "Requirement already satisfied: markdown>=2.6.8 in /usr/local/lib/python3.10/dist-packages (from tensorboard<2.14,>=2.13->tensorflow>=2.6->pyvital) (3.4.4)\n",
            "Requirement already satisfied: tensorboard-data-server<0.8.0,>=0.7.0 in /usr/local/lib/python3.10/dist-packages (from tensorboard<2.14,>=2.13->tensorflow>=2.6->pyvital) (0.7.1)\n",
            "Requirement already satisfied: werkzeug>=1.0.1 in /usr/local/lib/python3.10/dist-packages (from tensorboard<2.14,>=2.13->tensorflow>=2.6->pyvital) (2.3.7)\n",
            "Requirement already satisfied: MarkupSafe>=2.0 in /usr/local/lib/python3.10/dist-packages (from jinja2->torch->pyvital) (2.1.3)\n",
            "Requirement already satisfied: mpmath>=0.19 in /usr/local/lib/python3.10/dist-packages (from sympy->torch->pyvital) (1.3.0)\n",
            "Requirement already satisfied: pycparser in /usr/local/lib/python3.10/dist-packages (from cffi>=1.0->SoundFile>=0.10.0->wfdb->vitaldb) (2.21)\n",
            "Requirement already satisfied: cachetools<6.0,>=2.0.0 in /usr/local/lib/python3.10/dist-packages (from google-auth<3,>=1.6.3->tensorboard<2.14,>=2.13->tensorflow>=2.6->pyvital) (5.3.1)\n",
            "Requirement already satisfied: pyasn1-modules>=0.2.1 in /usr/local/lib/python3.10/dist-packages (from google-auth<3,>=1.6.3->tensorboard<2.14,>=2.13->tensorflow>=2.6->pyvital) (0.3.0)\n",
            "Requirement already satisfied: rsa<5,>=3.1.4 in /usr/local/lib/python3.10/dist-packages (from google-auth<3,>=1.6.3->tensorboard<2.14,>=2.13->tensorflow>=2.6->pyvital) (4.9)\n",
            "Requirement already satisfied: requests-oauthlib>=0.7.0 in /usr/local/lib/python3.10/dist-packages (from google-auth-oauthlib<1.1,>=0.5->tensorboard<2.14,>=2.13->tensorflow>=2.6->pyvital) (1.3.1)\n",
            "Requirement already satisfied: pyasn1<0.6.0,>=0.4.6 in /usr/local/lib/python3.10/dist-packages (from pyasn1-modules>=0.2.1->google-auth<3,>=1.6.3->tensorboard<2.14,>=2.13->tensorflow>=2.6->pyvital) (0.5.0)\n",
            "Requirement already satisfied: oauthlib>=3.0.0 in /usr/local/lib/python3.10/dist-packages (from requests-oauthlib>=0.7.0->google-auth-oauthlib<1.1,>=0.5->tensorboard<2.14,>=2.13->tensorflow>=2.6->pyvital) (3.2.2)\n",
            "Building wheels for collected packages: svix\n",
            "  Building wheel for svix (pyproject.toml) ... \u001b[?25l\u001b[?25hdone\n",
            "  Created wheel for svix: filename=svix-0.41.2-py3-none-any.whl size=274057 sha256=8865a90b709a5547f64619f5b68513ca51affbd10b55c2dff151d7e6ac489973\n",
            "  Stored in directory: /root/.cache/pip/wheels/9c/06/28/79abbad02009a9d3a2db0e1753e393bbe24683ff2a521a5f9c\n",
            "Successfully built svix\n",
            "Installing collected packages: sanic-routing, websockets, uvloop, ujson, typed-ast, importlib-metadata, httptools, html5tagger, aiofiles, tracerite, svix, arrow, wfdb, vital, sanic, vitaldb, pyvital\n",
            "  Attempting uninstall: importlib-metadata\n",
            "    Found existing installation: importlib-metadata 6.8.0\n",
            "    Uninstalling importlib-metadata-6.8.0:\n",
            "      Successfully uninstalled importlib-metadata-6.8.0\n",
            "\u001b[31mERROR: pip's dependency resolver does not currently take into account all the packages that are installed. This behaviour is the source of the following dependency conflicts.\n",
            "dask 2023.8.1 requires importlib-metadata>=4.13.0, but you have importlib-metadata 3.10.1 which is incompatible.\u001b[0m\u001b[31m\n",
            "\u001b[0mSuccessfully installed aiofiles-23.2.1 arrow-1.2.3 html5tagger-1.3.0 httptools-0.6.0 importlib-metadata-3.10.1 pyvital-0.3.5 sanic-23.6.0 sanic-routing-23.6.0 svix-0.41.2 tracerite-1.1.0 typed-ast-1.5.5 ujson-5.8.0 uvloop-0.17.0 vital-1.4.10 vitaldb-1.4.2 websockets-11.0.3 wfdb-4.1.2\n",
            "Collecting neurokit2\n",
            "  Downloading neurokit2-0.2.6-py2.py3-none-any.whl (1.3 MB)\n",
            "\u001b[2K     \u001b[90m━━━━━━━━━━━━━━━━━━━━━━━━━━━━━━━━━━━━━━━━\u001b[0m \u001b[32m1.3/1.3 MB\u001b[0m \u001b[31m13.1 MB/s\u001b[0m eta \u001b[36m0:00:00\u001b[0m\n",
            "\u001b[?25hRequirement already satisfied: numpy in /usr/local/lib/python3.10/dist-packages (from neurokit2) (1.23.5)\n",
            "Requirement already satisfied: pandas in /usr/local/lib/python3.10/dist-packages (from neurokit2) (1.5.3)\n",
            "Requirement already satisfied: scipy in /usr/local/lib/python3.10/dist-packages (from neurokit2) (1.11.2)\n",
            "Requirement already satisfied: scikit-learn>=1.0.0 in /usr/local/lib/python3.10/dist-packages (from neurokit2) (1.2.2)\n",
            "Requirement already satisfied: matplotlib in /usr/local/lib/python3.10/dist-packages (from neurokit2) (3.7.1)\n",
            "Requirement already satisfied: joblib>=1.1.1 in /usr/local/lib/python3.10/dist-packages (from scikit-learn>=1.0.0->neurokit2) (1.3.2)\n",
            "Requirement already satisfied: threadpoolctl>=2.0.0 in /usr/local/lib/python3.10/dist-packages (from scikit-learn>=1.0.0->neurokit2) (3.2.0)\n",
            "Requirement already satisfied: contourpy>=1.0.1 in /usr/local/lib/python3.10/dist-packages (from matplotlib->neurokit2) (1.1.0)\n",
            "Requirement already satisfied: cycler>=0.10 in /usr/local/lib/python3.10/dist-packages (from matplotlib->neurokit2) (0.11.0)\n",
            "Requirement already satisfied: fonttools>=4.22.0 in /usr/local/lib/python3.10/dist-packages (from matplotlib->neurokit2) (4.42.1)\n",
            "Requirement already satisfied: kiwisolver>=1.0.1 in /usr/local/lib/python3.10/dist-packages (from matplotlib->neurokit2) (1.4.5)\n",
            "Requirement already satisfied: packaging>=20.0 in /usr/local/lib/python3.10/dist-packages (from matplotlib->neurokit2) (23.1)\n",
            "Requirement already satisfied: pillow>=6.2.0 in /usr/local/lib/python3.10/dist-packages (from matplotlib->neurokit2) (9.4.0)\n",
            "Requirement already satisfied: pyparsing>=2.3.1 in /usr/local/lib/python3.10/dist-packages (from matplotlib->neurokit2) (3.1.1)\n",
            "Requirement already satisfied: python-dateutil>=2.7 in /usr/local/lib/python3.10/dist-packages (from matplotlib->neurokit2) (2.8.2)\n",
            "Requirement already satisfied: pytz>=2020.1 in /usr/local/lib/python3.10/dist-packages (from pandas->neurokit2) (2023.3.post1)\n",
            "Requirement already satisfied: six>=1.5 in /usr/local/lib/python3.10/dist-packages (from python-dateutil>=2.7->matplotlib->neurokit2) (1.16.0)\n",
            "Installing collected packages: neurokit2\n",
            "Successfully installed neurokit2-0.2.6\n",
            "\u001b[2K     \u001b[90m━━━━━━━━━━━━━━━━━━━━━━━━━━━━━━━━━━━━━━━\u001b[0m \u001b[32m107.0/107.0 kB\u001b[0m \u001b[31m2.3 MB/s\u001b[0m eta \u001b[36m0:00:00\u001b[0m\n",
            "\u001b[?25h"
          ]
        }
      ],
      "source": [
        "\n",
        "!pip install pyvital vitaldb vital\n",
        "!pip install neurokit2\n",
        "!pip install -q wfdb\n",
        "!pip install -q neurokit2\n",
        "!pip install -q biosppy\n",
        "\n",
        "import vitaldb\n",
        "import pandas as pd\n",
        "import numpy as np\n",
        "from datetime import timedelta\n",
        "import neurokit2 as nk\n",
        "import matplotlib.pyplot as plt\n",
        "import os\n",
        "import pandas as pd\n",
        "import biosppy.signals.ecg as ecg\n",
        "import random\n",
        "from tqdm.notebook import tqdm\n",
        "\n",
        "\n",
        "df_cases = pd.read_csv(\"https://api.vitaldb.net/cases\")  # Load clinical data\n",
        "df_trks = pd.read_csv('https://api.vitaldb.net/trks')  # Load track list\n",
        "df_labs = pd.read_csv('https://api.vitaldb.net/labs')  # Load lab result"
      ]
    },
    {
      "cell_type": "code",
      "source": [
        "def r_wave_amplitude(r_peak_loc):\n",
        "    if len(r_peak_loc) >= 1:\n",
        "        r_amplitude = float(r_peak_loc.values[0])\n",
        "        return r_amplitude\n",
        "    return np.nan\n",
        "\n",
        "def r_wave_duration(q_peak_loc, t_onset_loc):\n",
        "    if len(q_peak_loc) >= 1 and len(t_onset_loc) >= 1:\n",
        "        r_duration = float(q_peak_loc.index[0] - t_onset_loc.index[0])\n",
        "        return r_duration\n",
        "    return np.nan\n",
        "\n",
        "def t_wave_amplitude(t_peak_loc):\n",
        "    if len(t_peak_loc) >= 1:\n",
        "        t_amplitude = float(t_peak_loc.values[0])\n",
        "        return t_amplitude\n",
        "    return np.nan\n",
        "\n",
        "def t_wave_duration(t_offset_loc, t_onset_loc):\n",
        "    if len(t_offset_loc) >= 1 and len(t_onset_loc) >= 1:\n",
        "        t_duration = float(t_offset_loc.index[0] - t_onset_loc.index[0])\n",
        "        return t_duration\n",
        "    return np.nan\n",
        "\n",
        "def s_wave_amplitude(s_peak_loc):\n",
        "    if len(s_peak_loc) >= 1:\n",
        "        s_amplitude = float(s_peak_loc.values[0])\n",
        "        return s_amplitude\n",
        "    return np.nan\n",
        "\n",
        "def qt_interval(t_offset_loc, p_offset_loc):\n",
        "    if len(t_offset_loc) >= 1 and len(p_offset_loc) >= 1:\n",
        "        qt_interval = float(t_offset_loc.index[0] - p_offset_loc.index[0])\n",
        "        return qt_interval\n",
        "    return np.nan\n",
        "\n",
        "def heart_rate_calc(hr, idx):\n",
        "    if idx > 0:\n",
        "        return float(hr[idx-1])\n",
        "    return np.nan\n",
        "\n",
        "\n",
        "def j_point_calc(s_peak_loc, t_peak_loc, x, y):\n",
        "    if len(s_peak_loc) == 0 or len(t_peak_loc) == 0:\n",
        "        return np.nan, np.nan, None\n",
        "    if s_peak_loc.index[0] > t_peak_loc.index[0]:\n",
        "        return np.nan, np.nan, None\n",
        "    s_peak_ind = int(np.interp(s_peak_loc.index[0], x, np.arange(len(x))))\n",
        "    t_peak_ind = int(np.interp(t_peak_loc.index[0], x, np.arange(len(x))))\n",
        "    y_st_by_peaks = y[s_peak_ind:t_peak_ind+1]\n",
        "    x_st_by_peaks = x[s_peak_ind:t_peak_ind+1]\n",
        "    if t_peak_ind - s_peak_ind < 1:\n",
        "        return np.nan, np.nan, None\n",
        "    Fy = np.gradient(y_st_by_peaks)\n",
        "    j_point_pseudo_ind = np.abs(Fy).argmin()\n",
        "    j_point = [x_st_by_peaks[j_point_pseudo_ind], y_st_by_peaks[j_point_pseudo_ind]]\n",
        "    j_point_ind = int(np.round(np.interp(x_st_by_peaks[j_point_pseudo_ind], x, np.arange(len(x)))))\n",
        "    j_magnitude = j_point[1]\n",
        "\n",
        "    return j_point, j_magnitude, j_point_ind\n",
        "\n",
        "def st_duration_calc(t_peak_loc, j_point):\n",
        "    if len(t_peak_loc) >= 1 and isinstance(j_point, list) and len(j_point) == 2:\n",
        "        st_duration = t_peak_loc.index[0] - j_point[0]\n",
        "        return st_duration\n",
        "    return np.nan\n",
        "\n",
        "def st_slope_calc(t_onset_loc, j_point_ind, x, y):\n",
        "    if len(t_onset_loc) >= 1 and j_point_ind is not None:\n",
        "        t_onset_ind = int(np.round(np.interp(t_onset_loc.index[0], x, np.arange(len(x)))))\n",
        "\n",
        "        if t_onset_ind > j_point_ind:\n",
        "            y_st_slope_range = y[j_point_ind:t_onset_ind+1]\n",
        "            x_st_slope_range = x[j_point_ind:t_onset_ind+1]\n",
        "\n",
        "            F_st_slope = np.gradient(y_st_slope_range)\n",
        "            st_slope = np.mean(F_st_slope)\n",
        "            st_slope_bool = st_slope > 0\n",
        "            return st_slope\n",
        "    return np.nan\n",
        "\n",
        "def st_area_calc(t_offset_loc, j_point_ind, x, y,):\n",
        "    if len(t_offset_loc) >= 1 and j_point_ind is not None:\n",
        "        ind_t_offset = int(np.round(np.interp(t_offset_loc.index[0], x, np.arange(len(x)))))\n",
        "        y_st_area_range = y[j_point_ind:ind_t_offset+1]\n",
        "        x_st_area_range = x[j_point_ind:ind_t_offset+1]\n",
        "        st_area = np.trapz(y_st_area_range, x_st_area_range)\n",
        "        return st_area\n",
        "    return np.nan\n",
        "\n",
        "\n",
        "\n",
        "\n",
        "\n",
        "def extract_features(beats, features,case_id):\n",
        "\n",
        "    p_onsets = features[\"ECG_P_Onsets\"]\n",
        "    r_onsets = features[\"ECG_R_Onsets\"]\n",
        "    t_onsets = features[\"ECG_T_Onsets\"]\n",
        "    p_offsets = features[\"ECG_P_Offsets\"]\n",
        "    r_offsets = features[\"ECG_R_Offsets\"]\n",
        "    t_offsets = features[\"ECG_T_Offsets\"]\n",
        "    r_peaks = features[\"ECG_R_Peaks\"]\n",
        "    t_peaks = features[\"ECG_T_Peaks\"]\n",
        "    q_peaks = features[\"ECG_Q_Peaks\"]\n",
        "    s_peaks = features[\"ECG_S_Peaks\"]\n",
        "    p_peaks = features[\"ECG_P_Peaks\"]\n",
        "    heart_rate = features[\"ECG_Rate\"]\n",
        "    cycles=0\n",
        "\n",
        "    record_dataset = pd.DataFrame(columns=['Case_ID','Cycle','R_wave_amplitude', 'R_wave_duration', 'T_wave_amplitude', 'T_wave_duration', 'S_wave_amplitude', 'QT_interval', 'Heart_rate','J_point_amplitude', 'ST_duration', 'ST_area', 'ST_slope'])\n",
        "\n",
        "    for i in range(1, len(beats)+1):\n",
        "        beat = beats[str(i)]\n",
        "        beat_signal = beat['Signal']\n",
        "        time = beat_signal.index\n",
        "        voltage = beat_signal.values\n",
        "        beat_idx = beat['Index'].values\n",
        "        min_idx, max_idx = beat_idx[0], beat_idx[-1]\n",
        "\n",
        "        s_peak_loc = beat_signal.iloc[np.argwhere(s_peaks[min_idx:max_idx].values == 1).flatten()]\n",
        "        r_onset_loc = beat_signal.iloc[np.argwhere(r_onsets[min_idx:max_idx].values == 1).flatten()]\n",
        "        t_onset_loc = beat_signal.iloc[np.argwhere(t_onsets[min_idx:max_idx].values == 1).flatten()]\n",
        "        p_offset_loc = beat_signal.iloc[np.argwhere(p_offsets[min_idx:max_idx].values == 1).flatten()]\n",
        "        r_offset_loc = beat_signal.iloc[np.argwhere(r_offsets[min_idx:max_idx].values == 1).flatten()]\n",
        "        t_offset_loc = beat_signal.iloc[np.argwhere(t_offsets[min_idx:max_idx].values == 1).flatten()]\n",
        "        r_peak_loc = beat_signal.iloc[np.argwhere(r_peaks[min_idx:max_idx].values == 1).flatten()]\n",
        "        t_peak_loc = beat_signal.iloc[np.argwhere(t_peaks[min_idx:max_idx].values == 1).flatten()]\n",
        "        q_peak_loc = beat_signal.iloc[np.argwhere(q_peaks[min_idx:max_idx].values == 1).flatten()]\n",
        "\n",
        "\n",
        "        r_amplitude = r_wave_amplitude(r_peak_loc)\n",
        "        r_duration = r_wave_duration(q_peak_loc, r_onset_loc)\n",
        "        t_amplitude = t_wave_amplitude(t_peak_loc)\n",
        "        t_duration = t_wave_duration(t_offset_loc, t_onset_loc)\n",
        "        s_amplitude = s_wave_amplitude(s_peak_loc)\n",
        "        qt_int = qt_interval(t_offset_loc, p_offset_loc)\n",
        "        hr = heart_rate_calc(heart_rate, (min_idx + max_idx) // 2)\n",
        "        j_point, j_magnitude, j_point_ind = j_point_calc(s_peak_loc, t_peak_loc, time, voltage)\n",
        "        st_duration = st_duration_calc(t_peak_loc, j_point)\n",
        "        st_slope = st_slope_calc(t_onset_loc, j_point_ind, time, voltage)\n",
        "        st_area = st_area_calc(t_offset_loc, j_point_ind, time, voltage)\n",
        "        cycles+=1\n",
        "\n",
        "        feature_row = {\n",
        "            'Case_ID': case_id,\n",
        "            'Cycle': cycles,\n",
        "            'R_wave_amplitude': r_amplitude,\n",
        "            'R_wave_duration': r_duration,\n",
        "            'T_wave_amplitude': t_amplitude,\n",
        "            'T_wave_duration': t_duration,\n",
        "            'S_wave_amplitude': s_amplitude,\n",
        "            'QT_interval': qt_int,\n",
        "            'Heart_rate': hr,\n",
        "            'J_point_amplitude': j_magnitude,\n",
        "            'ST_duration': st_duration,\n",
        "            'ST_area': st_area,\n",
        "            'ST_slope': st_slope\n",
        "        }\n",
        "\n",
        "        feature_row = pd.DataFrame([feature_row])\n",
        "        record_dataset = pd.concat([record_dataset, feature_row], ignore_index=True)\n",
        "\n",
        "    return record_dataset\n",
        "\n",
        "\n",
        "\n",
        "\n",
        "\n",
        "\n",
        "def engine(initial_signal,caseid):\n",
        "  srate = 100\n",
        "  initial_signal = initial_signal[np.logical_not(np.isnan(initial_signal))]\n",
        "  initial_signal = initial_signal[(initial_signal>= -.25) & (initial_signal<=.25)]\n",
        "  signal_clean = nk.ecg_clean(initial_signal, sampling_rate=srate)\n",
        "  features, _ = nk.ecg_process(signal_clean, sampling_rate=srate)\n",
        "  beats = nk.ecg_segment(signal_clean, sampling_rate=srate)\n",
        "  data = extract_features(beats, features,caseid)\n",
        "  return data\n",
        "\n"
      ],
      "metadata": {
        "id": "QU-UFSpUnyi3"
      },
      "execution_count": 2,
      "outputs": []
    },
    {
      "cell_type": "code",
      "source": [
        "caseids = list(\n",
        "    set(df_trks[df_trks['tname'] == 'Solar8000/ST_II']['caseid']) &\n",
        "    set(df_trks[df_trks['tname'] == 'Solar8000/ART_MBP']['caseid']) &\n",
        "     set(df_trks[df_trks['tname'] == 'Solar8000/ART_SBP']['caseid'])&\n",
        "     set(df_trks[df_trks['tname'] == 'Solar8000/ART_DBP']['caseid'])&\n",
        "    set(df_trks[df_trks['tname'] == 'SNUADC/ECG_II']['caseid'])\n",
        ")\n",
        "\n",
        "print('Total {} cases found'.format(len(caseids)))"
      ],
      "metadata": {
        "colab": {
          "base_uri": "https://localhost:8080/"
        },
        "id": "35mFOaNC6F4d",
        "outputId": "db9f8f58-0a2e-41bc-b428-53af19e8e6f7"
      },
      "execution_count": 3,
      "outputs": [
        {
          "output_type": "stream",
          "name": "stdout",
          "text": [
            "Total 3559 cases found\n"
          ]
        }
      ]
    },
    {
      "cell_type": "code",
      "source": [
        "caseids = caseids[0:1]\n",
        "caseids"
      ],
      "metadata": {
        "colab": {
          "base_uri": "https://localhost:8080/"
        },
        "id": "CTSKb_p3cRBP",
        "outputId": "2e03cfd1-fbef-48d8-c5ef-878d7f24bab4"
      },
      "execution_count": 4,
      "outputs": [
        {
          "output_type": "execute_result",
          "data": {
            "text/plain": [
              "[1]"
            ]
          },
          "metadata": {},
          "execution_count": 4
        }
      ]
    },
    {
      "cell_type": "code",
      "source": [
        "file_save_destination = '/content/Vital_ECG_II_features.csv'\n",
        "\n",
        "\n",
        "if os.path.exists(file_save_destination)==False:\n",
        "\n",
        "  main_dataframe = pd.DataFrame(columns=['Case_ID', 'Segment', 'ST_II', 'ART_MBP', 'ART_SBP', 'ART_DBP', 'Cycle',\n",
        "       'R_wave_amplitude', 'R_wave_duration', 'T_wave_amplitude',\n",
        "       'T_wave_duration', 'S_wave_amplitude', 'QT_interval', 'Heart_rate',\n",
        "       'J_point_amplitude', 'ST_duration', 'ST_area', 'ST_slope'])\n",
        "\n",
        "  main_dataframe.to_csv(file_save_destination,index=False)\n",
        "\n",
        "main_dataframe = pd.read_csv(file_save_destination)\n",
        "case_complete_list = list(main_dataframe[\"Case_ID\"].unique())\n",
        "\n",
        "\n",
        "\n",
        "\n",
        "for caseid in tqdm(caseids):\n",
        "\n",
        "  if caseid not in case_complete_list:\n",
        "    try:\n",
        "      print(\"Case Id:\", caseid,\"in process\")\n",
        "      vals = vitaldb.load_case(caseid, ['SNUADC/ECG_II','Solar8000/ST_II','Solar8000/ART_MBP','Solar8000/ART_SBP','Solar8000/ART_DBP'], 1 / 100)\n",
        "\n",
        "      sub_dataframe = pd.DataFrame(columns=['Case_ID', 'Segment', 'ST_II', 'ART_MBP', 'ART_SBP', 'ART_DBP', 'Cycle',\n",
        "            'R_wave_amplitude', 'R_wave_duration', 'T_wave_amplitude',\n",
        "            'T_wave_duration', 'S_wave_amplitude', 'QT_interval', 'Heart_rate',\n",
        "            'J_point_amplitude', 'ST_duration', 'ST_area', 'ST_slope'])\n",
        "\n",
        "      op_st = df_cases[(df_cases['caseid'] == caseid)]['opstart'].values[0]\n",
        "      op_end = df_cases[(df_cases['caseid'] == caseid)]['opend'].values[0]\n",
        "\n",
        "      time_col=[]\n",
        "      for i in range(len(vals)):\n",
        "        time_col.append(i*(1/500))\n",
        "\n",
        "\n",
        "\n",
        "      vals = np.insert(vals, 0, time_col, axis=1)\n",
        "      vals = np.insert(vals, 0, np.nan, axis=1)\n",
        "\n",
        "\n",
        "      vals  = vals[vals[:,1] >= op_st]\n",
        "      vals =  vals[vals[:,1] <= op_end]\n",
        "\n",
        "\n",
        "      sec_segment = 10\n",
        "      segment_num = 1\n",
        "      start_idx = 0\n",
        "      end_idx = int(sec_segment/(1/500) + 1)\n",
        "\n",
        "      for _ in tqdm(range(int(vals.shape[0]/int(sec_segment/(1/500) + 1)))):\n",
        "          try:\n",
        "            print(\"Case_ID:\",caseid ,\" Segment:\",segment_num)\n",
        "            temp_arr = vals[start_idx:end_idx,:]\n",
        "            arr1 = np.nanmean(temp_arr, axis = 0)\n",
        "            df = engine(temp_arr[:,2],caseid)\n",
        "\n",
        "            df.insert(1, 'ART_DBP', arr1[6])\n",
        "            df.insert(1, 'ART_SBP', arr1[5])\n",
        "            df.insert(1, 'ART_MBP',  arr1[4])\n",
        "            df.insert(1, 'ST_II', arr1[3])\n",
        "            df.insert(1, 'Segment', segment_num)\n",
        "\n",
        "            sub_dataframe = pd.concat([sub_dataframe, df], ignore_index=True)\n",
        "\n",
        "            start_idx = end_idx\n",
        "            end_idx = end_idx + int(sec_segment/(1/500))\n",
        "            segment_num += 1\n",
        "          except:\n",
        "            start_idx = end_idx\n",
        "            end_idx = end_idx + int(sec_segment/(1/500))\n",
        "            print(\"--------ERORR------!!!\")\n",
        "\n",
        "      main_dataframe = pd.concat([main_dataframe, sub_dataframe], ignore_index=True)\n",
        "      main_dataframe.to_csv(file_save_destination,index=False)\n",
        "      print(\"Case Id:\", caseid,\" processing complete.....\")\n",
        "    except:\n",
        "      print(\"----------------------------ERORR!!! occurred In CASE ID: \",caseid,\"----------------------------------\")\n",
        "  else:\n",
        "    print(\"CASE_ID \", caseid,\" already exists....\")\n"
      ],
      "metadata": {
        "colab": {
          "base_uri": "https://localhost:8080/",
          "height": 1000,
          "referenced_widgets": [
            "850aedb0284744859de236f53505f5ac",
            "bf349c0a11804d91a3174d216518f07f",
            "d1555e21bd814571b3fb06ccd6032109",
            "71e68eb78e6c4915a09d35aed8cf0ce7",
            "4cc570b412c4409f8f692b73dfa0a3f4",
            "426557ee5f314054bb1308550779176b",
            "e451af3872d441e9b59f78cee32add2d",
            "18d3bce93bfb47f0ada4958e91b61096",
            "eb750f44372c4ef99cfb14c7bb235109",
            "5c1733e7cc2546b99b329937d5339bc3",
            "a6dfe956a7404b9e997465bf3ebad3f7",
            "b39179ef10004e5d85534a5bfa27501d",
            "c8c8c77e3015445f81ba553f88d08326",
            "f3554feee1164618a15bdec6727434c8",
            "cedc2e1b040f4f978be0a29bfb6e8dc5",
            "9e8c5b99cddf4a2996d6912ce4a0dc39",
            "cf0fb20d0b704983a2ebf2b3a4463071",
            "6b83cf1e15ad46798e4c25e52aa24019",
            "11fa01c8709f4a73af46ab2a5eb3df96",
            "feeb02aa941e42ee9e78474ec3e51841",
            "d8f0b5ae207347a0b65b87d4ff7a3f45",
            "33ee4ea7b47843c3995221e9940a5481"
          ]
        },
        "id": "hDmS0cnnTOLu",
        "outputId": "c08f4a2e-de74-44b0-9666-151617dcd6d9"
      },
      "execution_count": 5,
      "outputs": [
        {
          "output_type": "display_data",
          "data": {
            "text/plain": [
              "  0%|          | 0/1 [00:00<?, ?it/s]"
            ],
            "application/vnd.jupyter.widget-view+json": {
              "version_major": 2,
              "version_minor": 0,
              "model_id": "850aedb0284744859de236f53505f5ac"
            }
          },
          "metadata": {}
        },
        {
          "output_type": "stream",
          "name": "stdout",
          "text": [
            "Case Id: 1 in process\n"
          ]
        },
        {
          "output_type": "display_data",
          "data": {
            "text/plain": [
              "  0%|          | 0/64 [00:00<?, ?it/s]"
            ],
            "application/vnd.jupyter.widget-view+json": {
              "version_major": 2,
              "version_minor": 0,
              "model_id": "b39179ef10004e5d85534a5bfa27501d"
            }
          },
          "metadata": {}
        },
        {
          "output_type": "stream",
          "name": "stdout",
          "text": [
            "Case_ID: 1  Segment: 1\n"
          ]
        },
        {
          "output_type": "stream",
          "name": "stderr",
          "text": [
            "<ipython-input-5-3fb856792d5b>:57: RuntimeWarning: Mean of empty slice\n",
            "  arr1 = np.nanmean(temp_arr, axis = 0)\n"
          ]
        },
        {
          "output_type": "stream",
          "name": "stdout",
          "text": [
            "Case_ID: 1  Segment: 2\n"
          ]
        },
        {
          "output_type": "stream",
          "name": "stderr",
          "text": [
            "<ipython-input-5-3fb856792d5b>:57: RuntimeWarning: Mean of empty slice\n",
            "  arr1 = np.nanmean(temp_arr, axis = 0)\n"
          ]
        },
        {
          "output_type": "stream",
          "name": "stdout",
          "text": [
            "Case_ID: 1  Segment: 3\n"
          ]
        },
        {
          "output_type": "stream",
          "name": "stderr",
          "text": [
            "<ipython-input-5-3fb856792d5b>:57: RuntimeWarning: Mean of empty slice\n",
            "  arr1 = np.nanmean(temp_arr, axis = 0)\n"
          ]
        },
        {
          "output_type": "stream",
          "name": "stdout",
          "text": [
            "Case_ID: 1  Segment: 4\n"
          ]
        },
        {
          "output_type": "stream",
          "name": "stderr",
          "text": [
            "<ipython-input-5-3fb856792d5b>:57: RuntimeWarning: Mean of empty slice\n",
            "  arr1 = np.nanmean(temp_arr, axis = 0)\n"
          ]
        },
        {
          "output_type": "stream",
          "name": "stdout",
          "text": [
            "Case_ID: 1  Segment: 5\n"
          ]
        },
        {
          "output_type": "stream",
          "name": "stderr",
          "text": [
            "<ipython-input-5-3fb856792d5b>:57: RuntimeWarning: Mean of empty slice\n",
            "  arr1 = np.nanmean(temp_arr, axis = 0)\n"
          ]
        },
        {
          "output_type": "stream",
          "name": "stdout",
          "text": [
            "Case_ID: 1  Segment: 6\n"
          ]
        },
        {
          "output_type": "stream",
          "name": "stderr",
          "text": [
            "<ipython-input-5-3fb856792d5b>:57: RuntimeWarning: Mean of empty slice\n",
            "  arr1 = np.nanmean(temp_arr, axis = 0)\n"
          ]
        },
        {
          "output_type": "stream",
          "name": "stdout",
          "text": [
            "Case_ID: 1  Segment: 7\n"
          ]
        },
        {
          "output_type": "stream",
          "name": "stderr",
          "text": [
            "<ipython-input-5-3fb856792d5b>:57: RuntimeWarning: Mean of empty slice\n",
            "  arr1 = np.nanmean(temp_arr, axis = 0)\n"
          ]
        },
        {
          "output_type": "stream",
          "name": "stdout",
          "text": [
            "Case_ID: 1  Segment: 8\n"
          ]
        },
        {
          "output_type": "stream",
          "name": "stderr",
          "text": [
            "<ipython-input-5-3fb856792d5b>:57: RuntimeWarning: Mean of empty slice\n",
            "  arr1 = np.nanmean(temp_arr, axis = 0)\n"
          ]
        },
        {
          "output_type": "stream",
          "name": "stdout",
          "text": [
            "Case_ID: 1  Segment: 9\n"
          ]
        },
        {
          "output_type": "stream",
          "name": "stderr",
          "text": [
            "<ipython-input-5-3fb856792d5b>:57: RuntimeWarning: Mean of empty slice\n",
            "  arr1 = np.nanmean(temp_arr, axis = 0)\n"
          ]
        },
        {
          "output_type": "stream",
          "name": "stdout",
          "text": [
            "Case_ID: 1  Segment: 10\n"
          ]
        },
        {
          "output_type": "stream",
          "name": "stderr",
          "text": [
            "<ipython-input-5-3fb856792d5b>:57: RuntimeWarning: Mean of empty slice\n",
            "  arr1 = np.nanmean(temp_arr, axis = 0)\n"
          ]
        },
        {
          "output_type": "stream",
          "name": "stdout",
          "text": [
            "Case_ID: 1  Segment: 11\n"
          ]
        },
        {
          "output_type": "stream",
          "name": "stderr",
          "text": [
            "<ipython-input-5-3fb856792d5b>:57: RuntimeWarning: Mean of empty slice\n",
            "  arr1 = np.nanmean(temp_arr, axis = 0)\n"
          ]
        },
        {
          "output_type": "stream",
          "name": "stdout",
          "text": [
            "Case_ID: 1  Segment: 12\n"
          ]
        },
        {
          "output_type": "stream",
          "name": "stderr",
          "text": [
            "<ipython-input-5-3fb856792d5b>:57: RuntimeWarning: Mean of empty slice\n",
            "  arr1 = np.nanmean(temp_arr, axis = 0)\n"
          ]
        },
        {
          "output_type": "stream",
          "name": "stdout",
          "text": [
            "Case_ID: 1  Segment: 13\n"
          ]
        },
        {
          "output_type": "stream",
          "name": "stderr",
          "text": [
            "<ipython-input-5-3fb856792d5b>:57: RuntimeWarning: Mean of empty slice\n",
            "  arr1 = np.nanmean(temp_arr, axis = 0)\n"
          ]
        },
        {
          "output_type": "stream",
          "name": "stdout",
          "text": [
            "Case_ID: 1  Segment: 14\n"
          ]
        },
        {
          "output_type": "stream",
          "name": "stderr",
          "text": [
            "<ipython-input-5-3fb856792d5b>:57: RuntimeWarning: Mean of empty slice\n",
            "  arr1 = np.nanmean(temp_arr, axis = 0)\n"
          ]
        },
        {
          "output_type": "stream",
          "name": "stdout",
          "text": [
            "Case_ID: 1  Segment: 15\n"
          ]
        },
        {
          "output_type": "stream",
          "name": "stderr",
          "text": [
            "<ipython-input-5-3fb856792d5b>:57: RuntimeWarning: Mean of empty slice\n",
            "  arr1 = np.nanmean(temp_arr, axis = 0)\n"
          ]
        },
        {
          "output_type": "stream",
          "name": "stdout",
          "text": [
            "Case_ID: 1  Segment: 16\n"
          ]
        },
        {
          "output_type": "stream",
          "name": "stderr",
          "text": [
            "<ipython-input-5-3fb856792d5b>:57: RuntimeWarning: Mean of empty slice\n",
            "  arr1 = np.nanmean(temp_arr, axis = 0)\n"
          ]
        },
        {
          "output_type": "stream",
          "name": "stdout",
          "text": [
            "Case_ID: 1  Segment: 17\n"
          ]
        },
        {
          "output_type": "stream",
          "name": "stderr",
          "text": [
            "<ipython-input-5-3fb856792d5b>:57: RuntimeWarning: Mean of empty slice\n",
            "  arr1 = np.nanmean(temp_arr, axis = 0)\n"
          ]
        },
        {
          "output_type": "stream",
          "name": "stdout",
          "text": [
            "Case_ID: 1  Segment: 18\n"
          ]
        },
        {
          "output_type": "stream",
          "name": "stderr",
          "text": [
            "<ipython-input-5-3fb856792d5b>:57: RuntimeWarning: Mean of empty slice\n",
            "  arr1 = np.nanmean(temp_arr, axis = 0)\n"
          ]
        },
        {
          "output_type": "stream",
          "name": "stdout",
          "text": [
            "Case_ID: 1  Segment: 19\n"
          ]
        },
        {
          "output_type": "stream",
          "name": "stderr",
          "text": [
            "<ipython-input-5-3fb856792d5b>:57: RuntimeWarning: Mean of empty slice\n",
            "  arr1 = np.nanmean(temp_arr, axis = 0)\n"
          ]
        },
        {
          "output_type": "stream",
          "name": "stdout",
          "text": [
            "Case_ID: 1  Segment: 20\n"
          ]
        },
        {
          "output_type": "stream",
          "name": "stderr",
          "text": [
            "<ipython-input-5-3fb856792d5b>:57: RuntimeWarning: Mean of empty slice\n",
            "  arr1 = np.nanmean(temp_arr, axis = 0)\n"
          ]
        },
        {
          "output_type": "stream",
          "name": "stdout",
          "text": [
            "Case_ID: 1  Segment: 21\n"
          ]
        },
        {
          "output_type": "stream",
          "name": "stderr",
          "text": [
            "<ipython-input-5-3fb856792d5b>:57: RuntimeWarning: Mean of empty slice\n",
            "  arr1 = np.nanmean(temp_arr, axis = 0)\n"
          ]
        },
        {
          "output_type": "stream",
          "name": "stdout",
          "text": [
            "Case_ID: 1  Segment: 22\n"
          ]
        },
        {
          "output_type": "stream",
          "name": "stderr",
          "text": [
            "<ipython-input-5-3fb856792d5b>:57: RuntimeWarning: Mean of empty slice\n",
            "  arr1 = np.nanmean(temp_arr, axis = 0)\n"
          ]
        },
        {
          "output_type": "stream",
          "name": "stdout",
          "text": [
            "Case_ID: 1  Segment: 23\n"
          ]
        },
        {
          "output_type": "stream",
          "name": "stderr",
          "text": [
            "<ipython-input-5-3fb856792d5b>:57: RuntimeWarning: Mean of empty slice\n",
            "  arr1 = np.nanmean(temp_arr, axis = 0)\n"
          ]
        },
        {
          "output_type": "stream",
          "name": "stdout",
          "text": [
            "Case_ID: 1  Segment: 24\n"
          ]
        },
        {
          "output_type": "stream",
          "name": "stderr",
          "text": [
            "<ipython-input-5-3fb856792d5b>:57: RuntimeWarning: Mean of empty slice\n",
            "  arr1 = np.nanmean(temp_arr, axis = 0)\n"
          ]
        },
        {
          "output_type": "stream",
          "name": "stdout",
          "text": [
            "Case_ID: 1  Segment: 25\n"
          ]
        },
        {
          "output_type": "stream",
          "name": "stderr",
          "text": [
            "<ipython-input-5-3fb856792d5b>:57: RuntimeWarning: Mean of empty slice\n",
            "  arr1 = np.nanmean(temp_arr, axis = 0)\n"
          ]
        },
        {
          "output_type": "stream",
          "name": "stdout",
          "text": [
            "Case_ID: 1  Segment: 26\n"
          ]
        },
        {
          "output_type": "stream",
          "name": "stderr",
          "text": [
            "<ipython-input-5-3fb856792d5b>:57: RuntimeWarning: Mean of empty slice\n",
            "  arr1 = np.nanmean(temp_arr, axis = 0)\n"
          ]
        },
        {
          "output_type": "stream",
          "name": "stdout",
          "text": [
            "Case_ID: 1  Segment: 27\n"
          ]
        },
        {
          "output_type": "stream",
          "name": "stderr",
          "text": [
            "<ipython-input-5-3fb856792d5b>:57: RuntimeWarning: Mean of empty slice\n",
            "  arr1 = np.nanmean(temp_arr, axis = 0)\n"
          ]
        },
        {
          "output_type": "stream",
          "name": "stdout",
          "text": [
            "Case_ID: 1  Segment: 28\n"
          ]
        },
        {
          "output_type": "stream",
          "name": "stderr",
          "text": [
            "<ipython-input-5-3fb856792d5b>:57: RuntimeWarning: Mean of empty slice\n",
            "  arr1 = np.nanmean(temp_arr, axis = 0)\n"
          ]
        },
        {
          "output_type": "stream",
          "name": "stdout",
          "text": [
            "Case_ID: 1  Segment: 29\n"
          ]
        },
        {
          "output_type": "stream",
          "name": "stderr",
          "text": [
            "<ipython-input-5-3fb856792d5b>:57: RuntimeWarning: Mean of empty slice\n",
            "  arr1 = np.nanmean(temp_arr, axis = 0)\n"
          ]
        },
        {
          "output_type": "stream",
          "name": "stdout",
          "text": [
            "Case_ID: 1  Segment: 30\n"
          ]
        },
        {
          "output_type": "stream",
          "name": "stderr",
          "text": [
            "<ipython-input-5-3fb856792d5b>:57: RuntimeWarning: Mean of empty slice\n",
            "  arr1 = np.nanmean(temp_arr, axis = 0)\n"
          ]
        },
        {
          "output_type": "stream",
          "name": "stdout",
          "text": [
            "Case_ID: 1  Segment: 31\n"
          ]
        },
        {
          "output_type": "stream",
          "name": "stderr",
          "text": [
            "<ipython-input-5-3fb856792d5b>:57: RuntimeWarning: Mean of empty slice\n",
            "  arr1 = np.nanmean(temp_arr, axis = 0)\n"
          ]
        },
        {
          "output_type": "stream",
          "name": "stdout",
          "text": [
            "Case_ID: 1  Segment: 32\n"
          ]
        },
        {
          "output_type": "stream",
          "name": "stderr",
          "text": [
            "<ipython-input-5-3fb856792d5b>:57: RuntimeWarning: Mean of empty slice\n",
            "  arr1 = np.nanmean(temp_arr, axis = 0)\n"
          ]
        },
        {
          "output_type": "stream",
          "name": "stdout",
          "text": [
            "Case_ID: 1  Segment: 33\n"
          ]
        },
        {
          "output_type": "stream",
          "name": "stderr",
          "text": [
            "<ipython-input-5-3fb856792d5b>:57: RuntimeWarning: Mean of empty slice\n",
            "  arr1 = np.nanmean(temp_arr, axis = 0)\n"
          ]
        },
        {
          "output_type": "stream",
          "name": "stdout",
          "text": [
            "Case_ID: 1  Segment: 34\n"
          ]
        },
        {
          "output_type": "stream",
          "name": "stderr",
          "text": [
            "<ipython-input-5-3fb856792d5b>:57: RuntimeWarning: Mean of empty slice\n",
            "  arr1 = np.nanmean(temp_arr, axis = 0)\n"
          ]
        },
        {
          "output_type": "stream",
          "name": "stdout",
          "text": [
            "Case_ID: 1  Segment: 35\n"
          ]
        },
        {
          "output_type": "stream",
          "name": "stderr",
          "text": [
            "<ipython-input-5-3fb856792d5b>:57: RuntimeWarning: Mean of empty slice\n",
            "  arr1 = np.nanmean(temp_arr, axis = 0)\n"
          ]
        },
        {
          "output_type": "stream",
          "name": "stdout",
          "text": [
            "Case_ID: 1  Segment: 36\n"
          ]
        },
        {
          "output_type": "stream",
          "name": "stderr",
          "text": [
            "<ipython-input-5-3fb856792d5b>:57: RuntimeWarning: Mean of empty slice\n",
            "  arr1 = np.nanmean(temp_arr, axis = 0)\n"
          ]
        },
        {
          "output_type": "stream",
          "name": "stdout",
          "text": [
            "Case_ID: 1  Segment: 37\n"
          ]
        },
        {
          "output_type": "stream",
          "name": "stderr",
          "text": [
            "<ipython-input-5-3fb856792d5b>:57: RuntimeWarning: Mean of empty slice\n",
            "  arr1 = np.nanmean(temp_arr, axis = 0)\n"
          ]
        },
        {
          "output_type": "stream",
          "name": "stdout",
          "text": [
            "Case_ID: 1  Segment: 38\n"
          ]
        },
        {
          "output_type": "stream",
          "name": "stderr",
          "text": [
            "<ipython-input-5-3fb856792d5b>:57: RuntimeWarning: Mean of empty slice\n",
            "  arr1 = np.nanmean(temp_arr, axis = 0)\n"
          ]
        },
        {
          "output_type": "stream",
          "name": "stdout",
          "text": [
            "Case_ID: 1  Segment: 39\n"
          ]
        },
        {
          "output_type": "stream",
          "name": "stderr",
          "text": [
            "<ipython-input-5-3fb856792d5b>:57: RuntimeWarning: Mean of empty slice\n",
            "  arr1 = np.nanmean(temp_arr, axis = 0)\n"
          ]
        },
        {
          "output_type": "stream",
          "name": "stdout",
          "text": [
            "Case_ID: 1  Segment: 40\n"
          ]
        },
        {
          "output_type": "stream",
          "name": "stderr",
          "text": [
            "<ipython-input-5-3fb856792d5b>:57: RuntimeWarning: Mean of empty slice\n",
            "  arr1 = np.nanmean(temp_arr, axis = 0)\n"
          ]
        },
        {
          "output_type": "stream",
          "name": "stdout",
          "text": [
            "Case_ID: 1  Segment: 41\n"
          ]
        },
        {
          "output_type": "stream",
          "name": "stderr",
          "text": [
            "<ipython-input-5-3fb856792d5b>:57: RuntimeWarning: Mean of empty slice\n",
            "  arr1 = np.nanmean(temp_arr, axis = 0)\n"
          ]
        },
        {
          "output_type": "stream",
          "name": "stdout",
          "text": [
            "Case_ID: 1  Segment: 42\n"
          ]
        },
        {
          "output_type": "stream",
          "name": "stderr",
          "text": [
            "<ipython-input-5-3fb856792d5b>:57: RuntimeWarning: Mean of empty slice\n",
            "  arr1 = np.nanmean(temp_arr, axis = 0)\n"
          ]
        },
        {
          "output_type": "stream",
          "name": "stdout",
          "text": [
            "Case_ID: 1  Segment: 43\n"
          ]
        },
        {
          "output_type": "stream",
          "name": "stderr",
          "text": [
            "<ipython-input-5-3fb856792d5b>:57: RuntimeWarning: Mean of empty slice\n",
            "  arr1 = np.nanmean(temp_arr, axis = 0)\n"
          ]
        },
        {
          "output_type": "stream",
          "name": "stdout",
          "text": [
            "Case_ID: 1  Segment: 44\n"
          ]
        },
        {
          "output_type": "stream",
          "name": "stderr",
          "text": [
            "<ipython-input-5-3fb856792d5b>:57: RuntimeWarning: Mean of empty slice\n",
            "  arr1 = np.nanmean(temp_arr, axis = 0)\n"
          ]
        },
        {
          "output_type": "stream",
          "name": "stdout",
          "text": [
            "Case_ID: 1  Segment: 45\n"
          ]
        },
        {
          "output_type": "stream",
          "name": "stderr",
          "text": [
            "<ipython-input-5-3fb856792d5b>:57: RuntimeWarning: Mean of empty slice\n",
            "  arr1 = np.nanmean(temp_arr, axis = 0)\n"
          ]
        },
        {
          "output_type": "stream",
          "name": "stdout",
          "text": [
            "Case_ID: 1  Segment: 46\n"
          ]
        },
        {
          "output_type": "stream",
          "name": "stderr",
          "text": [
            "<ipython-input-5-3fb856792d5b>:57: RuntimeWarning: Mean of empty slice\n",
            "  arr1 = np.nanmean(temp_arr, axis = 0)\n"
          ]
        },
        {
          "output_type": "stream",
          "name": "stdout",
          "text": [
            "Case_ID: 1  Segment: 47\n"
          ]
        },
        {
          "output_type": "stream",
          "name": "stderr",
          "text": [
            "<ipython-input-5-3fb856792d5b>:57: RuntimeWarning: Mean of empty slice\n",
            "  arr1 = np.nanmean(temp_arr, axis = 0)\n"
          ]
        },
        {
          "output_type": "stream",
          "name": "stdout",
          "text": [
            "Case_ID: 1  Segment: 48\n"
          ]
        },
        {
          "output_type": "stream",
          "name": "stderr",
          "text": [
            "<ipython-input-5-3fb856792d5b>:57: RuntimeWarning: Mean of empty slice\n",
            "  arr1 = np.nanmean(temp_arr, axis = 0)\n"
          ]
        },
        {
          "output_type": "stream",
          "name": "stdout",
          "text": [
            "Case_ID: 1  Segment: 49\n"
          ]
        },
        {
          "output_type": "stream",
          "name": "stderr",
          "text": [
            "<ipython-input-5-3fb856792d5b>:57: RuntimeWarning: Mean of empty slice\n",
            "  arr1 = np.nanmean(temp_arr, axis = 0)\n"
          ]
        },
        {
          "output_type": "stream",
          "name": "stdout",
          "text": [
            "Case_ID: 1  Segment: 50\n"
          ]
        },
        {
          "output_type": "stream",
          "name": "stderr",
          "text": [
            "<ipython-input-5-3fb856792d5b>:57: RuntimeWarning: Mean of empty slice\n",
            "  arr1 = np.nanmean(temp_arr, axis = 0)\n"
          ]
        },
        {
          "output_type": "stream",
          "name": "stdout",
          "text": [
            "Case_ID: 1  Segment: 51\n"
          ]
        },
        {
          "output_type": "stream",
          "name": "stderr",
          "text": [
            "<ipython-input-5-3fb856792d5b>:57: RuntimeWarning: Mean of empty slice\n",
            "  arr1 = np.nanmean(temp_arr, axis = 0)\n"
          ]
        },
        {
          "output_type": "stream",
          "name": "stdout",
          "text": [
            "Case_ID: 1  Segment: 52\n"
          ]
        },
        {
          "output_type": "stream",
          "name": "stderr",
          "text": [
            "<ipython-input-5-3fb856792d5b>:57: RuntimeWarning: Mean of empty slice\n",
            "  arr1 = np.nanmean(temp_arr, axis = 0)\n"
          ]
        },
        {
          "output_type": "stream",
          "name": "stdout",
          "text": [
            "Case_ID: 1  Segment: 53\n"
          ]
        },
        {
          "output_type": "stream",
          "name": "stderr",
          "text": [
            "<ipython-input-5-3fb856792d5b>:57: RuntimeWarning: Mean of empty slice\n",
            "  arr1 = np.nanmean(temp_arr, axis = 0)\n"
          ]
        },
        {
          "output_type": "stream",
          "name": "stdout",
          "text": [
            "Case_ID: 1  Segment: 54\n"
          ]
        },
        {
          "output_type": "stream",
          "name": "stderr",
          "text": [
            "<ipython-input-5-3fb856792d5b>:57: RuntimeWarning: Mean of empty slice\n",
            "  arr1 = np.nanmean(temp_arr, axis = 0)\n"
          ]
        },
        {
          "output_type": "stream",
          "name": "stdout",
          "text": [
            "Case_ID: 1  Segment: 55\n"
          ]
        },
        {
          "output_type": "stream",
          "name": "stderr",
          "text": [
            "<ipython-input-5-3fb856792d5b>:57: RuntimeWarning: Mean of empty slice\n",
            "  arr1 = np.nanmean(temp_arr, axis = 0)\n"
          ]
        },
        {
          "output_type": "stream",
          "name": "stdout",
          "text": [
            "Case_ID: 1  Segment: 56\n"
          ]
        },
        {
          "output_type": "stream",
          "name": "stderr",
          "text": [
            "<ipython-input-5-3fb856792d5b>:57: RuntimeWarning: Mean of empty slice\n",
            "  arr1 = np.nanmean(temp_arr, axis = 0)\n"
          ]
        },
        {
          "output_type": "stream",
          "name": "stdout",
          "text": [
            "Case_ID: 1  Segment: 57\n"
          ]
        },
        {
          "output_type": "stream",
          "name": "stderr",
          "text": [
            "<ipython-input-5-3fb856792d5b>:57: RuntimeWarning: Mean of empty slice\n",
            "  arr1 = np.nanmean(temp_arr, axis = 0)\n"
          ]
        },
        {
          "output_type": "stream",
          "name": "stdout",
          "text": [
            "Case_ID: 1  Segment: 58\n"
          ]
        },
        {
          "output_type": "stream",
          "name": "stderr",
          "text": [
            "<ipython-input-5-3fb856792d5b>:57: RuntimeWarning: Mean of empty slice\n",
            "  arr1 = np.nanmean(temp_arr, axis = 0)\n"
          ]
        },
        {
          "output_type": "stream",
          "name": "stdout",
          "text": [
            "Case_ID: 1  Segment: 59\n"
          ]
        },
        {
          "output_type": "stream",
          "name": "stderr",
          "text": [
            "<ipython-input-5-3fb856792d5b>:57: RuntimeWarning: Mean of empty slice\n",
            "  arr1 = np.nanmean(temp_arr, axis = 0)\n"
          ]
        },
        {
          "output_type": "stream",
          "name": "stdout",
          "text": [
            "Case_ID: 1  Segment: 60\n"
          ]
        },
        {
          "output_type": "stream",
          "name": "stderr",
          "text": [
            "<ipython-input-5-3fb856792d5b>:57: RuntimeWarning: Mean of empty slice\n",
            "  arr1 = np.nanmean(temp_arr, axis = 0)\n"
          ]
        },
        {
          "output_type": "stream",
          "name": "stdout",
          "text": [
            "Case_ID: 1  Segment: 61\n"
          ]
        },
        {
          "output_type": "stream",
          "name": "stderr",
          "text": [
            "<ipython-input-5-3fb856792d5b>:57: RuntimeWarning: Mean of empty slice\n",
            "  arr1 = np.nanmean(temp_arr, axis = 0)\n"
          ]
        },
        {
          "output_type": "stream",
          "name": "stdout",
          "text": [
            "Case_ID: 1  Segment: 62\n"
          ]
        },
        {
          "output_type": "stream",
          "name": "stderr",
          "text": [
            "<ipython-input-5-3fb856792d5b>:57: RuntimeWarning: Mean of empty slice\n",
            "  arr1 = np.nanmean(temp_arr, axis = 0)\n"
          ]
        },
        {
          "output_type": "stream",
          "name": "stdout",
          "text": [
            "Case_ID: 1  Segment: 63\n"
          ]
        },
        {
          "output_type": "stream",
          "name": "stderr",
          "text": [
            "<ipython-input-5-3fb856792d5b>:57: RuntimeWarning: Mean of empty slice\n",
            "  arr1 = np.nanmean(temp_arr, axis = 0)\n"
          ]
        },
        {
          "output_type": "stream",
          "name": "stdout",
          "text": [
            "Case_ID: 1  Segment: 64\n"
          ]
        },
        {
          "output_type": "stream",
          "name": "stderr",
          "text": [
            "<ipython-input-5-3fb856792d5b>:57: RuntimeWarning: Mean of empty slice\n",
            "  arr1 = np.nanmean(temp_arr, axis = 0)\n"
          ]
        },
        {
          "output_type": "stream",
          "name": "stdout",
          "text": [
            "Case Id: 1  processing complete.....\n"
          ]
        }
      ]
    },
    {
      "cell_type": "code",
      "source": [
        "import pandas as pd\n",
        "df = pd.read_csv(\"/content/Vital_ECG_II_features.csv\")"
      ],
      "metadata": {
        "id": "_t_QKL5HWp3a"
      },
      "execution_count": 6,
      "outputs": []
    },
    {
      "cell_type": "code",
      "source": [
        "list(df[\"Case_ID\"].unique())"
      ],
      "metadata": {
        "id": "n84Rkewk7VuJ",
        "outputId": "83a14623-73fe-4d3e-afd0-4f6ce098f8a5",
        "colab": {
          "base_uri": "https://localhost:8080/"
        }
      },
      "execution_count": 7,
      "outputs": [
        {
          "output_type": "execute_result",
          "data": {
            "text/plain": [
              "[1]"
            ]
          },
          "metadata": {},
          "execution_count": 7
        }
      ]
    },
    {
      "cell_type": "code",
      "source": [
        "df"
      ],
      "metadata": {
        "id": "ny6Fxg-m_gjz",
        "outputId": "efc1f064-5571-4f3d-cb85-3c76318a1d41",
        "colab": {
          "base_uri": "https://localhost:8080/",
          "height": 444
        }
      },
      "execution_count": 7,
      "outputs": [
        {
          "output_type": "execute_result",
          "data": {
            "text/plain": [
              "      Case_ID  Segment     ST_II  ART_MBP     ART_SBP    ART_DBP  Cycle  \\\n",
              "0           1        1 -0.396667   233.96  146.285714  71.428571      1   \n",
              "1           1        1 -0.396667   233.96  146.285714  71.428571      2   \n",
              "2           1        1 -0.396667   233.96  146.285714  71.428571      3   \n",
              "3           1        1 -0.396667   233.96  146.285714  71.428571      4   \n",
              "4           1        1 -0.396667   233.96  146.285714  71.428571      5   \n",
              "...       ...      ...       ...      ...         ...        ...    ...   \n",
              "3803        1       64       NaN      NaN         NaN        NaN     23   \n",
              "3804        1       64       NaN      NaN         NaN        NaN     24   \n",
              "3805        1       64       NaN      NaN         NaN        NaN     25   \n",
              "3806        1       64       NaN      NaN         NaN        NaN     26   \n",
              "3807        1       64       NaN      NaN         NaN        NaN     27   \n",
              "\n",
              "      R_wave_amplitude  R_wave_duration  T_wave_amplitude  T_wave_duration  \\\n",
              "0                  NaN         0.101270               NaN              NaN   \n",
              "1             0.094657              NaN          0.039248         0.050635   \n",
              "2             0.084247         0.020254          0.061286         0.172159   \n",
              "3            -0.035654              NaN          0.061286              NaN   \n",
              "4             0.098648              NaN         -0.023316         0.040508   \n",
              "...                ...              ...               ...              ...   \n",
              "3803          0.051922         0.020224          0.112864         0.050561   \n",
              "3804         -0.019159         0.030337          0.081001         0.050561   \n",
              "3805               NaN              NaN               NaN              NaN   \n",
              "3806          0.125122         0.020224               NaN              NaN   \n",
              "3807               NaN              NaN               NaN         0.030337   \n",
              "\n",
              "      S_wave_amplitude  QT_interval  Heart_rate  J_point_amplitude  \\\n",
              "0                  NaN          NaN   82.659086                NaN   \n",
              "1            -0.057246          NaN   75.003952          -0.057246   \n",
              "2            -0.082855     0.475969   70.485423          -0.072725   \n",
              "3            -0.050722          NaN   92.307692                NaN   \n",
              "4            -0.045366     0.243048   92.140845          -0.045366   \n",
              "...                ...          ...         ...                ...   \n",
              "3803         -0.012694     0.212356   66.199333           0.157415   \n",
              "3804         -0.066307     0.364039   79.741259           0.081001   \n",
              "3805               NaN          NaN   61.198418                NaN   \n",
              "3806          0.013545          NaN   43.825935                NaN   \n",
              "3807               NaN     0.333703   52.631579                NaN   \n",
              "\n",
              "      ST_duration   ST_area  ST_slope  \n",
              "0             NaN       NaN       NaN  \n",
              "1        0.020254  0.000753       NaN  \n",
              "2        0.172159  0.000707  0.005674  \n",
              "3             NaN       NaN       NaN  \n",
              "4        0.020254 -0.001733 -0.007491  \n",
              "...           ...       ...       ...  \n",
              "3803     0.010112  0.002370       NaN  \n",
              "3804     0.000000  0.001612       NaN  \n",
              "3805          NaN       NaN       NaN  \n",
              "3806          NaN       NaN       NaN  \n",
              "3807          NaN       NaN       NaN  \n",
              "\n",
              "[3808 rows x 18 columns]"
            ],
            "text/html": [
              "\n",
              "  <div id=\"df-5390f7ae-faa7-4c84-b3d1-d94006cd5613\" class=\"colab-df-container\">\n",
              "    <div>\n",
              "<style scoped>\n",
              "    .dataframe tbody tr th:only-of-type {\n",
              "        vertical-align: middle;\n",
              "    }\n",
              "\n",
              "    .dataframe tbody tr th {\n",
              "        vertical-align: top;\n",
              "    }\n",
              "\n",
              "    .dataframe thead th {\n",
              "        text-align: right;\n",
              "    }\n",
              "</style>\n",
              "<table border=\"1\" class=\"dataframe\">\n",
              "  <thead>\n",
              "    <tr style=\"text-align: right;\">\n",
              "      <th></th>\n",
              "      <th>Case_ID</th>\n",
              "      <th>Segment</th>\n",
              "      <th>ST_II</th>\n",
              "      <th>ART_MBP</th>\n",
              "      <th>ART_SBP</th>\n",
              "      <th>ART_DBP</th>\n",
              "      <th>Cycle</th>\n",
              "      <th>R_wave_amplitude</th>\n",
              "      <th>R_wave_duration</th>\n",
              "      <th>T_wave_amplitude</th>\n",
              "      <th>T_wave_duration</th>\n",
              "      <th>S_wave_amplitude</th>\n",
              "      <th>QT_interval</th>\n",
              "      <th>Heart_rate</th>\n",
              "      <th>J_point_amplitude</th>\n",
              "      <th>ST_duration</th>\n",
              "      <th>ST_area</th>\n",
              "      <th>ST_slope</th>\n",
              "    </tr>\n",
              "  </thead>\n",
              "  <tbody>\n",
              "    <tr>\n",
              "      <th>0</th>\n",
              "      <td>1</td>\n",
              "      <td>1</td>\n",
              "      <td>-0.396667</td>\n",
              "      <td>233.96</td>\n",
              "      <td>146.285714</td>\n",
              "      <td>71.428571</td>\n",
              "      <td>1</td>\n",
              "      <td>NaN</td>\n",
              "      <td>0.101270</td>\n",
              "      <td>NaN</td>\n",
              "      <td>NaN</td>\n",
              "      <td>NaN</td>\n",
              "      <td>NaN</td>\n",
              "      <td>82.659086</td>\n",
              "      <td>NaN</td>\n",
              "      <td>NaN</td>\n",
              "      <td>NaN</td>\n",
              "      <td>NaN</td>\n",
              "    </tr>\n",
              "    <tr>\n",
              "      <th>1</th>\n",
              "      <td>1</td>\n",
              "      <td>1</td>\n",
              "      <td>-0.396667</td>\n",
              "      <td>233.96</td>\n",
              "      <td>146.285714</td>\n",
              "      <td>71.428571</td>\n",
              "      <td>2</td>\n",
              "      <td>0.094657</td>\n",
              "      <td>NaN</td>\n",
              "      <td>0.039248</td>\n",
              "      <td>0.050635</td>\n",
              "      <td>-0.057246</td>\n",
              "      <td>NaN</td>\n",
              "      <td>75.003952</td>\n",
              "      <td>-0.057246</td>\n",
              "      <td>0.020254</td>\n",
              "      <td>0.000753</td>\n",
              "      <td>NaN</td>\n",
              "    </tr>\n",
              "    <tr>\n",
              "      <th>2</th>\n",
              "      <td>1</td>\n",
              "      <td>1</td>\n",
              "      <td>-0.396667</td>\n",
              "      <td>233.96</td>\n",
              "      <td>146.285714</td>\n",
              "      <td>71.428571</td>\n",
              "      <td>3</td>\n",
              "      <td>0.084247</td>\n",
              "      <td>0.020254</td>\n",
              "      <td>0.061286</td>\n",
              "      <td>0.172159</td>\n",
              "      <td>-0.082855</td>\n",
              "      <td>0.475969</td>\n",
              "      <td>70.485423</td>\n",
              "      <td>-0.072725</td>\n",
              "      <td>0.172159</td>\n",
              "      <td>0.000707</td>\n",
              "      <td>0.005674</td>\n",
              "    </tr>\n",
              "    <tr>\n",
              "      <th>3</th>\n",
              "      <td>1</td>\n",
              "      <td>1</td>\n",
              "      <td>-0.396667</td>\n",
              "      <td>233.96</td>\n",
              "      <td>146.285714</td>\n",
              "      <td>71.428571</td>\n",
              "      <td>4</td>\n",
              "      <td>-0.035654</td>\n",
              "      <td>NaN</td>\n",
              "      <td>0.061286</td>\n",
              "      <td>NaN</td>\n",
              "      <td>-0.050722</td>\n",
              "      <td>NaN</td>\n",
              "      <td>92.307692</td>\n",
              "      <td>NaN</td>\n",
              "      <td>NaN</td>\n",
              "      <td>NaN</td>\n",
              "      <td>NaN</td>\n",
              "    </tr>\n",
              "    <tr>\n",
              "      <th>4</th>\n",
              "      <td>1</td>\n",
              "      <td>1</td>\n",
              "      <td>-0.396667</td>\n",
              "      <td>233.96</td>\n",
              "      <td>146.285714</td>\n",
              "      <td>71.428571</td>\n",
              "      <td>5</td>\n",
              "      <td>0.098648</td>\n",
              "      <td>NaN</td>\n",
              "      <td>-0.023316</td>\n",
              "      <td>0.040508</td>\n",
              "      <td>-0.045366</td>\n",
              "      <td>0.243048</td>\n",
              "      <td>92.140845</td>\n",
              "      <td>-0.045366</td>\n",
              "      <td>0.020254</td>\n",
              "      <td>-0.001733</td>\n",
              "      <td>-0.007491</td>\n",
              "    </tr>\n",
              "    <tr>\n",
              "      <th>...</th>\n",
              "      <td>...</td>\n",
              "      <td>...</td>\n",
              "      <td>...</td>\n",
              "      <td>...</td>\n",
              "      <td>...</td>\n",
              "      <td>...</td>\n",
              "      <td>...</td>\n",
              "      <td>...</td>\n",
              "      <td>...</td>\n",
              "      <td>...</td>\n",
              "      <td>...</td>\n",
              "      <td>...</td>\n",
              "      <td>...</td>\n",
              "      <td>...</td>\n",
              "      <td>...</td>\n",
              "      <td>...</td>\n",
              "      <td>...</td>\n",
              "      <td>...</td>\n",
              "    </tr>\n",
              "    <tr>\n",
              "      <th>3803</th>\n",
              "      <td>1</td>\n",
              "      <td>64</td>\n",
              "      <td>NaN</td>\n",
              "      <td>NaN</td>\n",
              "      <td>NaN</td>\n",
              "      <td>NaN</td>\n",
              "      <td>23</td>\n",
              "      <td>0.051922</td>\n",
              "      <td>0.020224</td>\n",
              "      <td>0.112864</td>\n",
              "      <td>0.050561</td>\n",
              "      <td>-0.012694</td>\n",
              "      <td>0.212356</td>\n",
              "      <td>66.199333</td>\n",
              "      <td>0.157415</td>\n",
              "      <td>0.010112</td>\n",
              "      <td>0.002370</td>\n",
              "      <td>NaN</td>\n",
              "    </tr>\n",
              "    <tr>\n",
              "      <th>3804</th>\n",
              "      <td>1</td>\n",
              "      <td>64</td>\n",
              "      <td>NaN</td>\n",
              "      <td>NaN</td>\n",
              "      <td>NaN</td>\n",
              "      <td>NaN</td>\n",
              "      <td>24</td>\n",
              "      <td>-0.019159</td>\n",
              "      <td>0.030337</td>\n",
              "      <td>0.081001</td>\n",
              "      <td>0.050561</td>\n",
              "      <td>-0.066307</td>\n",
              "      <td>0.364039</td>\n",
              "      <td>79.741259</td>\n",
              "      <td>0.081001</td>\n",
              "      <td>0.000000</td>\n",
              "      <td>0.001612</td>\n",
              "      <td>NaN</td>\n",
              "    </tr>\n",
              "    <tr>\n",
              "      <th>3805</th>\n",
              "      <td>1</td>\n",
              "      <td>64</td>\n",
              "      <td>NaN</td>\n",
              "      <td>NaN</td>\n",
              "      <td>NaN</td>\n",
              "      <td>NaN</td>\n",
              "      <td>25</td>\n",
              "      <td>NaN</td>\n",
              "      <td>NaN</td>\n",
              "      <td>NaN</td>\n",
              "      <td>NaN</td>\n",
              "      <td>NaN</td>\n",
              "      <td>NaN</td>\n",
              "      <td>61.198418</td>\n",
              "      <td>NaN</td>\n",
              "      <td>NaN</td>\n",
              "      <td>NaN</td>\n",
              "      <td>NaN</td>\n",
              "    </tr>\n",
              "    <tr>\n",
              "      <th>3806</th>\n",
              "      <td>1</td>\n",
              "      <td>64</td>\n",
              "      <td>NaN</td>\n",
              "      <td>NaN</td>\n",
              "      <td>NaN</td>\n",
              "      <td>NaN</td>\n",
              "      <td>26</td>\n",
              "      <td>0.125122</td>\n",
              "      <td>0.020224</td>\n",
              "      <td>NaN</td>\n",
              "      <td>NaN</td>\n",
              "      <td>0.013545</td>\n",
              "      <td>NaN</td>\n",
              "      <td>43.825935</td>\n",
              "      <td>NaN</td>\n",
              "      <td>NaN</td>\n",
              "      <td>NaN</td>\n",
              "      <td>NaN</td>\n",
              "    </tr>\n",
              "    <tr>\n",
              "      <th>3807</th>\n",
              "      <td>1</td>\n",
              "      <td>64</td>\n",
              "      <td>NaN</td>\n",
              "      <td>NaN</td>\n",
              "      <td>NaN</td>\n",
              "      <td>NaN</td>\n",
              "      <td>27</td>\n",
              "      <td>NaN</td>\n",
              "      <td>NaN</td>\n",
              "      <td>NaN</td>\n",
              "      <td>0.030337</td>\n",
              "      <td>NaN</td>\n",
              "      <td>0.333703</td>\n",
              "      <td>52.631579</td>\n",
              "      <td>NaN</td>\n",
              "      <td>NaN</td>\n",
              "      <td>NaN</td>\n",
              "      <td>NaN</td>\n",
              "    </tr>\n",
              "  </tbody>\n",
              "</table>\n",
              "<p>3808 rows × 18 columns</p>\n",
              "</div>\n",
              "    <div class=\"colab-df-buttons\">\n",
              "\n",
              "  <div class=\"colab-df-container\">\n",
              "    <button class=\"colab-df-convert\" onclick=\"convertToInteractive('df-5390f7ae-faa7-4c84-b3d1-d94006cd5613')\"\n",
              "            title=\"Convert this dataframe to an interactive table.\"\n",
              "            style=\"display:none;\">\n",
              "\n",
              "  <svg xmlns=\"http://www.w3.org/2000/svg\" height=\"24px\" viewBox=\"0 -960 960 960\">\n",
              "    <path d=\"M120-120v-720h720v720H120Zm60-500h600v-160H180v160Zm220 220h160v-160H400v160Zm0 220h160v-160H400v160ZM180-400h160v-160H180v160Zm440 0h160v-160H620v160ZM180-180h160v-160H180v160Zm440 0h160v-160H620v160Z\"/>\n",
              "  </svg>\n",
              "    </button>\n",
              "\n",
              "  <style>\n",
              "    .colab-df-container {\n",
              "      display:flex;\n",
              "      gap: 12px;\n",
              "    }\n",
              "\n",
              "    .colab-df-convert {\n",
              "      background-color: #E8F0FE;\n",
              "      border: none;\n",
              "      border-radius: 50%;\n",
              "      cursor: pointer;\n",
              "      display: none;\n",
              "      fill: #1967D2;\n",
              "      height: 32px;\n",
              "      padding: 0 0 0 0;\n",
              "      width: 32px;\n",
              "    }\n",
              "\n",
              "    .colab-df-convert:hover {\n",
              "      background-color: #E2EBFA;\n",
              "      box-shadow: 0px 1px 2px rgba(60, 64, 67, 0.3), 0px 1px 3px 1px rgba(60, 64, 67, 0.15);\n",
              "      fill: #174EA6;\n",
              "    }\n",
              "\n",
              "    .colab-df-buttons div {\n",
              "      margin-bottom: 4px;\n",
              "    }\n",
              "\n",
              "    [theme=dark] .colab-df-convert {\n",
              "      background-color: #3B4455;\n",
              "      fill: #D2E3FC;\n",
              "    }\n",
              "\n",
              "    [theme=dark] .colab-df-convert:hover {\n",
              "      background-color: #434B5C;\n",
              "      box-shadow: 0px 1px 3px 1px rgba(0, 0, 0, 0.15);\n",
              "      filter: drop-shadow(0px 1px 2px rgba(0, 0, 0, 0.3));\n",
              "      fill: #FFFFFF;\n",
              "    }\n",
              "  </style>\n",
              "\n",
              "    <script>\n",
              "      const buttonEl =\n",
              "        document.querySelector('#df-5390f7ae-faa7-4c84-b3d1-d94006cd5613 button.colab-df-convert');\n",
              "      buttonEl.style.display =\n",
              "        google.colab.kernel.accessAllowed ? 'block' : 'none';\n",
              "\n",
              "      async function convertToInteractive(key) {\n",
              "        const element = document.querySelector('#df-5390f7ae-faa7-4c84-b3d1-d94006cd5613');\n",
              "        const dataTable =\n",
              "          await google.colab.kernel.invokeFunction('convertToInteractive',\n",
              "                                                    [key], {});\n",
              "        if (!dataTable) return;\n",
              "\n",
              "        const docLinkHtml = 'Like what you see? Visit the ' +\n",
              "          '<a target=\"_blank\" href=https://colab.research.google.com/notebooks/data_table.ipynb>data table notebook</a>'\n",
              "          + ' to learn more about interactive tables.';\n",
              "        element.innerHTML = '';\n",
              "        dataTable['output_type'] = 'display_data';\n",
              "        await google.colab.output.renderOutput(dataTable, element);\n",
              "        const docLink = document.createElement('div');\n",
              "        docLink.innerHTML = docLinkHtml;\n",
              "        element.appendChild(docLink);\n",
              "      }\n",
              "    </script>\n",
              "  </div>\n",
              "\n",
              "\n",
              "<div id=\"df-c608d9d7-e50f-4af0-85d2-d0d60bcede2e\">\n",
              "  <button class=\"colab-df-quickchart\" onclick=\"quickchart('df-c608d9d7-e50f-4af0-85d2-d0d60bcede2e')\"\n",
              "            title=\"Suggest charts.\"\n",
              "            style=\"display:none;\">\n",
              "\n",
              "<svg xmlns=\"http://www.w3.org/2000/svg\" height=\"24px\"viewBox=\"0 0 24 24\"\n",
              "     width=\"24px\">\n",
              "    <g>\n",
              "        <path d=\"M19 3H5c-1.1 0-2 .9-2 2v14c0 1.1.9 2 2 2h14c1.1 0 2-.9 2-2V5c0-1.1-.9-2-2-2zM9 17H7v-7h2v7zm4 0h-2V7h2v10zm4 0h-2v-4h2v4z\"/>\n",
              "    </g>\n",
              "</svg>\n",
              "  </button>\n",
              "\n",
              "<style>\n",
              "  .colab-df-quickchart {\n",
              "      --bg-color: #E8F0FE;\n",
              "      --fill-color: #1967D2;\n",
              "      --hover-bg-color: #E2EBFA;\n",
              "      --hover-fill-color: #174EA6;\n",
              "      --disabled-fill-color: #AAA;\n",
              "      --disabled-bg-color: #DDD;\n",
              "  }\n",
              "\n",
              "  [theme=dark] .colab-df-quickchart {\n",
              "      --bg-color: #3B4455;\n",
              "      --fill-color: #D2E3FC;\n",
              "      --hover-bg-color: #434B5C;\n",
              "      --hover-fill-color: #FFFFFF;\n",
              "      --disabled-bg-color: #3B4455;\n",
              "      --disabled-fill-color: #666;\n",
              "  }\n",
              "\n",
              "  .colab-df-quickchart {\n",
              "    background-color: var(--bg-color);\n",
              "    border: none;\n",
              "    border-radius: 50%;\n",
              "    cursor: pointer;\n",
              "    display: none;\n",
              "    fill: var(--fill-color);\n",
              "    height: 32px;\n",
              "    padding: 0;\n",
              "    width: 32px;\n",
              "  }\n",
              "\n",
              "  .colab-df-quickchart:hover {\n",
              "    background-color: var(--hover-bg-color);\n",
              "    box-shadow: 0 1px 2px rgba(60, 64, 67, 0.3), 0 1px 3px 1px rgba(60, 64, 67, 0.15);\n",
              "    fill: var(--button-hover-fill-color);\n",
              "  }\n",
              "\n",
              "  .colab-df-quickchart-complete:disabled,\n",
              "  .colab-df-quickchart-complete:disabled:hover {\n",
              "    background-color: var(--disabled-bg-color);\n",
              "    fill: var(--disabled-fill-color);\n",
              "    box-shadow: none;\n",
              "  }\n",
              "\n",
              "  .colab-df-spinner {\n",
              "    border: 2px solid var(--fill-color);\n",
              "    border-color: transparent;\n",
              "    border-bottom-color: var(--fill-color);\n",
              "    animation:\n",
              "      spin 1s steps(1) infinite;\n",
              "  }\n",
              "\n",
              "  @keyframes spin {\n",
              "    0% {\n",
              "      border-color: transparent;\n",
              "      border-bottom-color: var(--fill-color);\n",
              "      border-left-color: var(--fill-color);\n",
              "    }\n",
              "    20% {\n",
              "      border-color: transparent;\n",
              "      border-left-color: var(--fill-color);\n",
              "      border-top-color: var(--fill-color);\n",
              "    }\n",
              "    30% {\n",
              "      border-color: transparent;\n",
              "      border-left-color: var(--fill-color);\n",
              "      border-top-color: var(--fill-color);\n",
              "      border-right-color: var(--fill-color);\n",
              "    }\n",
              "    40% {\n",
              "      border-color: transparent;\n",
              "      border-right-color: var(--fill-color);\n",
              "      border-top-color: var(--fill-color);\n",
              "    }\n",
              "    60% {\n",
              "      border-color: transparent;\n",
              "      border-right-color: var(--fill-color);\n",
              "    }\n",
              "    80% {\n",
              "      border-color: transparent;\n",
              "      border-right-color: var(--fill-color);\n",
              "      border-bottom-color: var(--fill-color);\n",
              "    }\n",
              "    90% {\n",
              "      border-color: transparent;\n",
              "      border-bottom-color: var(--fill-color);\n",
              "    }\n",
              "  }\n",
              "</style>\n",
              "\n",
              "  <script>\n",
              "    async function quickchart(key) {\n",
              "      const quickchartButtonEl =\n",
              "        document.querySelector('#' + key + ' button');\n",
              "      quickchartButtonEl.disabled = true;  // To prevent multiple clicks.\n",
              "      quickchartButtonEl.classList.add('colab-df-spinner');\n",
              "      try {\n",
              "        const charts = await google.colab.kernel.invokeFunction(\n",
              "            'suggestCharts', [key], {});\n",
              "      } catch (error) {\n",
              "        console.error('Error during call to suggestCharts:', error);\n",
              "      }\n",
              "      quickchartButtonEl.classList.remove('colab-df-spinner');\n",
              "      quickchartButtonEl.classList.add('colab-df-quickchart-complete');\n",
              "    }\n",
              "    (() => {\n",
              "      let quickchartButtonEl =\n",
              "        document.querySelector('#df-c608d9d7-e50f-4af0-85d2-d0d60bcede2e button');\n",
              "      quickchartButtonEl.style.display =\n",
              "        google.colab.kernel.accessAllowed ? 'block' : 'none';\n",
              "    })();\n",
              "  </script>\n",
              "</div>\n",
              "    </div>\n",
              "  </div>\n"
            ]
          },
          "metadata": {},
          "execution_count": 7
        }
      ]
    },
    {
      "cell_type": "code",
      "source": [],
      "metadata": {
        "id": "iGgRU4y7DAC8"
      },
      "execution_count": null,
      "outputs": []
    }
  ]
}