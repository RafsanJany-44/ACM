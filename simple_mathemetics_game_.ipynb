{
  "nbformat": 4,
  "nbformat_minor": 0,
  "metadata": {
    "colab": {
      "name": "simple_mathemetics_game_.ipynb",
      "provenance": [],
      "collapsed_sections": [],
      "authorship_tag": "ABX9TyNchShACEwbV0d8JQ/xZPGG",
      "include_colab_link": true
    },
    "kernelspec": {
      "name": "python3",
      "display_name": "Python 3"
    },
    "language_info": {
      "name": "python"
    }
  },
  "cells": [
    {
      "cell_type": "markdown",
      "metadata": {
        "id": "view-in-github",
        "colab_type": "text"
      },
      "source": [
        "<a href=\"https://colab.research.google.com/github/RafsanJany-44/ACM/blob/master/simple_mathemetics_game_.ipynb\" target=\"_parent\"><img src=\"https://colab.research.google.com/assets/colab-badge.svg\" alt=\"Open In Colab\"/></a>"
      ]
    },
    {
      "cell_type": "code",
      "source": [
        "import random as r\n",
        "\n",
        "def gen_list():             # generating unique array of 50 random numbers\n",
        "  number=[]             \n",
        "  for i in range(0,50):\n",
        "    n = r.randint(0,10000)\n",
        "    if n not in number:\n",
        "      number.append(n)\n",
        "  return number\n",
        "\n",
        "def starting():     #welcome messaages and instructions\n",
        "  print(\"______________Welcome to Python Math Game. Test your Math Skill!!!______________\")\n",
        "  print()\n",
        "  print(\"***Instruction: You will be given a set of qestion. The number of question will be chosen by you.\")\n",
        "  print(\"You can chose types of your mathematics questions according to diffrent types of operators***\")\n",
        "  print()\n",
        "\n",
        "\n",
        "def choice():       # asking user to choice question type \n",
        "  print(\"Chosse Your Questions Type:\")\n",
        "  print(\"Press 1 For Addition(+).\")\n",
        "  print(\"Press 2 For subtraction(-).\")\n",
        "  print(\"Press 3 For multiplication(*).\")\n",
        "  print(\"Press 4 For division(/).\")\n",
        "  print(\"Press 5 For percentage(+).\")\n",
        "  print(\"Press 6 For exponent and multiplication.\")\n",
        "  print(\"Press 7 For floor division and multiplication.\")\n",
        "  print(\"Press 8 For subtraction and modulo.\")\n",
        "  print(\"Press 9 for All.\")\n",
        "  print(\"Press 0 for Exit.\")\n",
        "  return int(input())     #taking input and return from user\n",
        "\n",
        "\n",
        "def num_of_question():\n",
        "  print(\"How many questions do you want to answer?\")\n",
        "  return int(input())     #taking number questions from user\n",
        "\n",
        "\n",
        "\n",
        "def question_engine(num_list,questions,op):      #generating questions\n",
        "  right=0                             # to kep track right answwer\n",
        "  wrong=0                              # to keep track wrong answer\n",
        "  for i in range(1,questions+1):\n",
        "    if \"+\" in op:\n",
        "      index1=r.randint(0,50)     # chossing random two number from our array\n",
        "      index2=r.randint(0,50)\n",
        "      print(\"-------------------------------------------------------\")\n",
        "      print(\"Q\"+str(i)+\". What is \"+str(num_list[index1])+\" + \"+str(num_list[index2])+\"?\")\n",
        "      answer=input()\n",
        "      if(answer==str(num_list[index1]+num_list[index2])):\n",
        "        print(\"Correct Answer!!!\")\n",
        "        right+=1\n",
        "      else:\n",
        "        print(\"Wrong Answer!\")\n",
        "        print(\"The correct answer is: \",num_list[index1]+num_list[index2])\n",
        "        wrong+=1\n",
        "      print()\n",
        "  return right,wrong"
      ],
      "metadata": {
        "id": "wcH0S3FoMm4H"
      },
      "execution_count": 53,
      "outputs": []
    },
    {
      "cell_type": "code",
      "source": [
        "c=choice()\n",
        "#if choice==0:\n",
        "#  break\n",
        "\n",
        "num_list=gen_list()\n",
        "if c==1:\n",
        "  questions=num_of_question()\n",
        "  right,wrong=question_engine(num_list,questions,[\"+\"])\n",
        "\n",
        "\n",
        "print(\"Total Number of Question: \",questions)\n",
        "print(\"Correct Answer          : \",right)\n",
        "print(\"Wrong Answer            : \",wrong)\n",
        "print(\"Success Rate            : \"+str((right/questions)*100)+\"%.\")\n",
        "\n",
        "\n",
        "\n"
      ],
      "metadata": {
        "colab": {
          "base_uri": "https://localhost:8080/"
        },
        "id": "qJe8tUEd2rmG",
        "outputId": "5265db04-88de-4d85-c1e3-4edd604f52eb"
      },
      "execution_count": 54,
      "outputs": [
        {
          "output_type": "stream",
          "name": "stdout",
          "text": [
            "Chosse Your Questions Type:\n",
            "Press 1 For Addition(+).\n",
            "Press 2 For subtraction(-).\n",
            "Press 3 For multiplication(*).\n",
            "Press 4 For division(/).\n",
            "Press 5 For percentage(+).\n",
            "Press 6 For exponent and multiplication.\n",
            "Press 7 For floor division and multiplication.\n",
            "Press 8 For subtraction and modulo.\n",
            "Press 9 for All.\n",
            "Press 0 for Exit.\n",
            "1\n",
            "How many questions do you want to answer?\n",
            "2\n",
            "-------------------------------------------------------\n",
            "Q1. What is 3402 + 7732?\n",
            "232434\n",
            "Wrong Answer!\n",
            "The correct answer is:  11134\n",
            "\n",
            "-------------------------------------------------------\n",
            "Q2. What is 48 + 7017?\n",
            "23423\n",
            "Wrong Answer!\n",
            "The correct answer is:  7065\n",
            "\n",
            "Total Number of Question: 2\n",
            "Correct Answer          : 0\n",
            "Wrong Answer            : 2\n",
            "Success Rate            :0.0%.\n"
          ]
        }
      ]
    },
    {
      "cell_type": "code",
      "source": [
        "i=float(input())\n",
        "print(i)"
      ],
      "metadata": {
        "colab": {
          "base_uri": "https://localhost:8080/"
        },
        "id": "q4H_k-7vE_OO",
        "outputId": "d86b5f2e-ebb6-4001-f3b0-eefa50fd03ad"
      },
      "execution_count": 33,
      "outputs": [
        {
          "output_type": "stream",
          "name": "stdout",
          "text": [
            "34.44\n",
            "34.44\n"
          ]
        }
      ]
    },
    {
      "cell_type": "code",
      "source": [
        "y=\"{:.2f}\".format(2.34345)\n",
        "i=input()\n",
        "if i==y:\n",
        "  print(\"yes\")"
      ],
      "metadata": {
        "colab": {
          "base_uri": "https://localhost:8080/"
        },
        "id": "Tnl4jTxbFIwz",
        "outputId": "724667f2-e501-44d9-d44e-c53b11246fb7"
      },
      "execution_count": 43,
      "outputs": [
        {
          "output_type": "stream",
          "name": "stdout",
          "text": [
            "2.34\n",
            "yes\n"
          ]
        }
      ]
    },
    {
      "cell_type": "code",
      "source": [
        ""
      ],
      "metadata": {
        "id": "6LOeKQ3CMYcN"
      },
      "execution_count": null,
      "outputs": []
    }
  ]
}