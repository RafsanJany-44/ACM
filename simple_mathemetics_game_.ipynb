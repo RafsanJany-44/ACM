{
  "nbformat": 4,
  "nbformat_minor": 0,
  "metadata": {
    "colab": {
      "name": "simple_mathemetics_game_.ipynb",
      "provenance": [],
      "collapsed_sections": [],
      "authorship_tag": "ABX9TyOrruYx1LeqR8QeswgBKN8h",
      "include_colab_link": true
    },
    "kernelspec": {
      "name": "python3",
      "display_name": "Python 3"
    },
    "language_info": {
      "name": "python"
    }
  },
  "cells": [
    {
      "cell_type": "markdown",
      "metadata": {
        "id": "view-in-github",
        "colab_type": "text"
      },
      "source": [
        "<a href=\"https://colab.research.google.com/github/RafsanJany-44/ACM/blob/master/simple_mathemetics_game_.ipynb\" target=\"_parent\"><img src=\"https://colab.research.google.com/assets/colab-badge.svg\" alt=\"Open In Colab\"/></a>"
      ]
    },
    {
      "cell_type": "code",
      "source": [
        "import random as r\n",
        "number=[]\n",
        "\n",
        "for i in range(0,50):\n",
        "  n = r.randint(0,10000)\n",
        "  if n not in number:\n",
        "    number.append(n)\n",
        "\n",
        "print(len(number))\n",
        "print(number)"
      ],
      "metadata": {
        "colab": {
          "base_uri": "https://localhost:8080/"
        },
        "id": "R99bi0ms2URr",
        "outputId": "3b43615f-4a72-429a-b262-0a81bbc089a4"
      },
      "execution_count": 6,
      "outputs": [
        {
          "output_type": "stream",
          "name": "stdout",
          "text": [
            "49\n",
            "[5278, 8503, 5972, 9551, 1644, 5834, 8624, 4894, 3217, 1852, 2574, 4065, 7843, 6510, 1127, 6105, 384, 8430, 3282, 5758, 1386, 2864, 7318, 4941, 3518, 7995, 5398, 7725, 5938, 5638, 644, 5480, 646, 5616, 913, 6477, 1970, 4137, 4252, 8999, 4236, 1816, 1046, 4628, 8696, 1053, 6202, 9676, 5169]\n"
          ]
        }
      ]
    },
    {
      "cell_type": "code",
      "source": [
        ""
      ],
      "metadata": {
        "id": "qJe8tUEd2rmG"
      },
      "execution_count": null,
      "outputs": []
    }
  ]
}