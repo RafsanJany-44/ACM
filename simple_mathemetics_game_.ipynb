{
  "nbformat": 4,
  "nbformat_minor": 0,
  "metadata": {
    "colab": {
      "name": "simple_mathemetics_game_.ipynb",
      "provenance": [],
      "collapsed_sections": [],
      "authorship_tag": "ABX9TyPNfgqKanLTz1VjEBFr66HL",
      "include_colab_link": true
    },
    "kernelspec": {
      "name": "python3",
      "display_name": "Python 3"
    },
    "language_info": {
      "name": "python"
    }
  },
  "cells": [
    {
      "cell_type": "markdown",
      "metadata": {
        "id": "view-in-github",
        "colab_type": "text"
      },
      "source": [
        "<a href=\"https://colab.research.google.com/github/RafsanJany-44/ACM/blob/master/simple_mathemetics_game_.ipynb\" target=\"_parent\"><img src=\"https://colab.research.google.com/assets/colab-badge.svg\" alt=\"Open In Colab\"/></a>"
      ]
    },
    {
      "cell_type": "code",
      "source": [
        "import random as r\n",
        "\n",
        "def gen_list():             # generating unique array of 50 random numbers\n",
        "  number=[]             \n",
        "  for i in range(0,50):\n",
        "    n = r.randint(0,10000)\n",
        "    if n not in number:\n",
        "      number.append(n)\n",
        "  return number"
      ],
      "metadata": {
        "id": "R99bi0ms2URr"
      },
      "execution_count": 7,
      "outputs": []
    },
    {
      "cell_type": "code",
      "source": [
        "def starting():     #welcome messaages and instructions\n",
        "  print(\"______________Welcome to Python Math Game. Test your Math Skill!!!______________\")\n",
        "  print()\n",
        "  print(\"***Instruction: You will be given a set of qestion. The number of question will be chosen by you.\")\n",
        "  print(\"You can chose types of your mathematics questions according to diffrent types of operators***\")\n",
        "  print()\n",
        "\n"
      ],
      "metadata": {
        "id": "_IDx7pxv6a-U"
      },
      "execution_count": 18,
      "outputs": []
    },
    {
      "cell_type": "code",
      "source": [
        "def choice():\n",
        "  print(\"Chosse Your Questions Type:\")\n",
        "  print(\"Press 1 For Addition(+).\")\n",
        "  print(\"Press 2 For subtraction(-).\")\n",
        "  print(\"Press 3 For multiplication(*).\")\n",
        "  print(\"Press 4 For division(/).\")\n",
        "  print(\"Press 5 For percentage(+).\")\n",
        "  print(\"Press 6 For exponent and multiplication.\")\n",
        "  print(\"Press 7 For floor division and multiplication.\")\n",
        "  print(\"Press 8 For subtraction and modulo.\")"
      ],
      "metadata": {
        "id": "oZh5RYQy-BWd"
      },
      "execution_count": 19,
      "outputs": []
    },
    {
      "cell_type": "code",
      "source": [
        "starting()\n",
        "choice()"
      ],
      "metadata": {
        "colab": {
          "base_uri": "https://localhost:8080/"
        },
        "id": "eCJTj4At_lEB",
        "outputId": "ef9c95e4-6cdb-4d87-e70d-8dd7ecefa96c"
      },
      "execution_count": 20,
      "outputs": [
        {
          "output_type": "stream",
          "name": "stdout",
          "text": [
            "______________Welcome to Python Math Game. Test your Math Skill!!!______________\n",
            "\n",
            "***Instruction: You will be given a set of qestion. The number of question will be chosen by you.\n",
            "You can chose types of your mathematics questions according to diffrent types of operators***\n",
            "\n",
            "Chosse Your Questions Type:\n",
            "Press 1 For Addition(+).\n",
            "Press 2 For subtraction(-).\n",
            "Press 3 For multiplication(*).\n",
            "Press 4 For division(/).\n",
            "Press 5 For percentage(+).\n",
            "Press 6 For exponent and multiplication.\n",
            "Press 7 For floor division and multiplication.\n",
            "Press 8 For subtraction and modulo.\n"
          ]
        }
      ]
    },
    {
      "cell_type": "code",
      "source": [
        "num_list=gen_list()\n",
        "\n",
        "first_num_index=r.randint(0,50)\n",
        "second_num_index=r.randint(0,50)\n",
        "\n"
      ],
      "metadata": {
        "id": "qJe8tUEd2rmG"
      },
      "execution_count": null,
      "outputs": []
    }
  ]
}