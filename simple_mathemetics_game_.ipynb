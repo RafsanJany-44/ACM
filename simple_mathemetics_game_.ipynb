{
  "nbformat": 4,
  "nbformat_minor": 0,
  "metadata": {
    "colab": {
      "name": "simple_mathemetics_game_.ipynb",
      "provenance": [],
      "collapsed_sections": [],
      "authorship_tag": "ABX9TyO6QGVzlE6Ga300USVksuZs",
      "include_colab_link": true
    },
    "kernelspec": {
      "name": "python3",
      "display_name": "Python 3"
    },
    "language_info": {
      "name": "python"
    }
  },
  "cells": [
    {
      "cell_type": "markdown",
      "metadata": {
        "id": "view-in-github",
        "colab_type": "text"
      },
      "source": [
        "<a href=\"https://colab.research.google.com/github/RafsanJany-44/ACM/blob/master/simple_mathemetics_game_.ipynb\" target=\"_parent\"><img src=\"https://colab.research.google.com/assets/colab-badge.svg\" alt=\"Open In Colab\"/></a>"
      ]
    },
    {
      "cell_type": "code",
      "source": [
        "import random as r\n",
        "\n",
        "def gen_list():             # generating unique array of 50 random numbers\n",
        "  number=[]             \n",
        "  for i in range(0,50):\n",
        "    n = r.randint(0,10000)\n",
        "    if n not in number:\n",
        "      number.append(n)\n",
        "  return number"
      ],
      "metadata": {
        "id": "R99bi0ms2URr"
      },
      "execution_count": 7,
      "outputs": []
    },
    {
      "cell_type": "code",
      "source": [
        "def starting():     #welcome messaages and instructions\n",
        "  print(\"______________Welcome to Python Math Game. Test your Math Skill!!!______________\")\n",
        "  print()\n",
        "  print(\"***Instruction: You will be given a set of qestion. The number of question will be chosen by you.\")\n",
        "  print(\"You can chose types of your mathematics questions according to diffrent types of operators***\")\n",
        "  print()\n",
        "\n"
      ],
      "metadata": {
        "id": "_IDx7pxv6a-U"
      },
      "execution_count": 18,
      "outputs": []
    },
    {
      "cell_type": "code",
      "source": [
        "def choice():       # asking user to choice question type \n",
        "  print(\"Chosse Your Questions Type:\")\n",
        "  print(\"Press 1 For Addition(+).\")\n",
        "  print(\"Press 2 For subtraction(-).\")\n",
        "  print(\"Press 3 For multiplication(*).\")\n",
        "  print(\"Press 4 For division(/).\")\n",
        "  print(\"Press 5 For percentage(+).\")\n",
        "  print(\"Press 6 For exponent and multiplication.\")\n",
        "  print(\"Press 7 For floor division and multiplication.\")\n",
        "  print(\"Press 8 For subtraction and modulo.\")\n",
        "  print(\"Press 9 for All.\")\n",
        "  print(\"Press 0 for Exit.\")\n",
        "  return int(input())     #taking input and return from user\n",
        "\n",
        "def num_of_question():\n",
        "  print(\"How many questions do you want to answer?\")\n",
        "  return int(input())     #taking number questions from user"
      ],
      "metadata": {
        "id": "oZh5RYQy-BWd"
      },
      "execution_count": 39,
      "outputs": []
    },
    {
      "cell_type": "code",
      "source": [
        "starting()\n",
        "choice()\n",
        "num_of_question()"
      ],
      "metadata": {
        "colab": {
          "base_uri": "https://localhost:8080/"
        },
        "id": "eCJTj4At_lEB",
        "outputId": "bf2a51ce-b129-4ed1-aa1a-45c0c930782c"
      },
      "execution_count": 40,
      "outputs": [
        {
          "name": "stdout",
          "output_type": "stream",
          "text": [
            "______________Welcome to Python Math Game. Test your Math Skill!!!______________\n",
            "\n",
            "***Instruction: You will be given a set of qestion. The number of question will be chosen by you.\n",
            "You can chose types of your mathematics questions according to diffrent types of operators***\n",
            "\n",
            "Chosse Your Questions Type:\n",
            "Press 1 For Addition(+).\n",
            "Press 2 For subtraction(-).\n",
            "Press 3 For multiplication(*).\n",
            "Press 4 For division(/).\n",
            "Press 5 For percentage(+).\n",
            "Press 6 For exponent and multiplication.\n",
            "Press 7 For floor division and multiplication.\n",
            "Press 8 For subtraction and modulo.\n",
            "Press 9 for All.\n",
            "Press 0 for Exit.\n",
            "2\n",
            "How many questions do you want to answer?\n",
            "12\n"
          ]
        },
        {
          "output_type": "execute_result",
          "data": {
            "text/plain": [
              "12"
            ]
          },
          "metadata": {},
          "execution_count": 40
        }
      ]
    },
    {
      "cell_type": "code",
      "source": [
        "c=choice()\n",
        "#if choice==0:\n",
        "#  break\n",
        "\n",
        "num_list=gen_list()\n",
        "if c==1:\n",
        "  questions=num_of_question()\n",
        "  right=0                             # to kep track right answwer\n",
        "  wrong=0                              # to keep track wrong answer\n",
        "  for i in range(1,questions+1):\n",
        "    index1=r.randint(0,50)     # chossing random two number from our array\n",
        "    index2=r.randint(0,50)\n",
        "    print(\"-------------------------------------------------------\")\n",
        "    print(\"Q\"+str(i)+\". What is \"+str(num_list[index1])+\" + \"+str(num_list[index2])+\"?\")\n",
        "    answer=int(input())\n",
        "    if(answer==num_list[index1]+num_list[index2]):\n",
        "      print(\"Correct Answer!!!\")\n",
        "      right+=1\n",
        "    else:\n",
        "      print(\"Wrong Answer!\")\n",
        "      print(\"The correct answer is: \",num_list[index1]+num_list[index2])\n",
        "      wrong+=1\n",
        "    print()\n",
        "\n",
        "print(\"Total Number of Question:  \",questions)\n",
        "print(\"Correct Answer          : \",right)\n",
        "print(\"Wrong Answer            :\",wrong)\n",
        "print(\"Success Rate            :\",(right/questions)*100)\n",
        "\n",
        "\n",
        "\n"
      ],
      "metadata": {
        "colab": {
          "base_uri": "https://localhost:8080/"
        },
        "id": "qJe8tUEd2rmG",
        "outputId": "e537809f-a927-4f26-cdd4-2c63ffc86c7a"
      },
      "execution_count": 41,
      "outputs": [
        {
          "output_type": "stream",
          "name": "stdout",
          "text": [
            "Chosse Your Questions Type:\n",
            "Press 1 For Addition(+).\n",
            "Press 2 For subtraction(-).\n",
            "Press 3 For multiplication(*).\n",
            "Press 4 For division(/).\n",
            "Press 5 For percentage(+).\n",
            "Press 6 For exponent and multiplication.\n",
            "Press 7 For floor division and multiplication.\n",
            "Press 8 For subtraction and modulo.\n",
            "Press 9 for All.\n",
            "Press 0 for Exit.\n",
            "1\n",
            "How many questions do you want to answer?\n",
            "4\n",
            "-------------------------------------------------------\n",
            "Q1 What is 4710 + 5203?\n",
            "344\n",
            "Wrong Answer!\n",
            "The correct answer is:  9913\n",
            "\n",
            "Total Number of Question:   4\n",
            "Correct Answer          :  0\n",
            "Wrong Answer            : 1\n",
            "-------------------------------------------------------\n",
            "Q2 What is 9653 + 1685?\n",
            "453\n",
            "Wrong Answer!\n",
            "The correct answer is:  11338\n",
            "\n",
            "Total Number of Question:   4\n",
            "Correct Answer          :  0\n",
            "Wrong Answer            : 2\n",
            "-------------------------------------------------------\n",
            "Q3 What is 1311 + 574?\n",
            "234445\n",
            "Wrong Answer!\n",
            "The correct answer is:  1885\n",
            "\n",
            "Total Number of Question:   4\n",
            "Correct Answer          :  0\n",
            "Wrong Answer            : 3\n",
            "-------------------------------------------------------\n",
            "Q4 What is 3852 + 4662?\n",
            "4534\n",
            "Wrong Answer!\n",
            "The correct answer is:  8514\n",
            "\n",
            "Total Number of Question:   4\n",
            "Correct Answer          :  0\n",
            "Wrong Answer            : 4\n"
          ]
        }
      ]
    },
    {
      "cell_type": "code",
      "source": [
        "i=float(input())\n",
        "print(i)"
      ],
      "metadata": {
        "colab": {
          "base_uri": "https://localhost:8080/"
        },
        "id": "q4H_k-7vE_OO",
        "outputId": "d86b5f2e-ebb6-4001-f3b0-eefa50fd03ad"
      },
      "execution_count": 33,
      "outputs": [
        {
          "output_type": "stream",
          "name": "stdout",
          "text": [
            "34.44\n",
            "34.44\n"
          ]
        }
      ]
    },
    {
      "cell_type": "code",
      "source": [
        ""
      ],
      "metadata": {
        "id": "Tnl4jTxbFIwz"
      },
      "execution_count": null,
      "outputs": []
    }
  ]
}