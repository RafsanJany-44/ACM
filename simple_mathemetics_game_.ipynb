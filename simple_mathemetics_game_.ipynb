{
  "nbformat": 4,
  "nbformat_minor": 0,
  "metadata": {
    "colab": {
      "name": "simple_mathemetics_game_.ipynb",
      "provenance": [],
      "collapsed_sections": [],
      "authorship_tag": "ABX9TyMkiXiEBxUTtl6BfzLD/d5a",
      "include_colab_link": true
    },
    "kernelspec": {
      "name": "python3",
      "display_name": "Python 3"
    },
    "language_info": {
      "name": "python"
    }
  },
  "cells": [
    {
      "cell_type": "markdown",
      "metadata": {
        "id": "view-in-github",
        "colab_type": "text"
      },
      "source": [
        "<a href=\"https://colab.research.google.com/github/RafsanJany-44/ACM/blob/master/simple_mathemetics_game_.ipynb\" target=\"_parent\"><img src=\"https://colab.research.google.com/assets/colab-badge.svg\" alt=\"Open In Colab\"/></a>"
      ]
    },
    {
      "cell_type": "code",
      "source": [
        "import random as r\n",
        "\n",
        "def gen_list():             # generating unique array of 50 random numbers\n",
        "  number=[]             \n",
        "  for i in range(0,50):\n",
        "    n = r.randint(0,10000)\n",
        "    if n not in number:\n",
        "      number.append(n)\n",
        "  return number"
      ],
      "metadata": {
        "id": "R99bi0ms2URr"
      },
      "execution_count": 7,
      "outputs": []
    },
    {
      "cell_type": "code",
      "source": [
        "def starting():\n",
        "  print(\"______________Welcome to Python Math Game. Test your Math Skill!!!______________\")\n",
        "  print()\n",
        "  print(\"***Instruction: You will be given a set of qestion. The number of question will be chosen by you.\")\n",
        "  print(\"You can chose types of your mathematics questions according to diffrent types of operators***\")\n",
        "  print()\n",
        "\n"
      ],
      "metadata": {
        "id": "_IDx7pxv6a-U"
      },
      "execution_count": 16,
      "outputs": []
    },
    {
      "cell_type": "code",
      "source": [
        "starting()"
      ],
      "metadata": {
        "colab": {
          "base_uri": "https://localhost:8080/"
        },
        "id": "VQluQ9Mj84Qy",
        "outputId": "c045f625-6202-4b18-d92b-d7fd9e33212b"
      },
      "execution_count": 17,
      "outputs": [
        {
          "output_type": "stream",
          "name": "stdout",
          "text": [
            "______________Welcome to Python Math Game. Test your Math Skill!!!______________\n",
            "\n",
            "***Instruction: You will be given a set of qestion. The number of question will be chosen by you.\n",
            "You can chose types of your mathematics questions according to diffrent types of operators***\n",
            "\n"
          ]
        }
      ]
    },
    {
      "cell_type": "code",
      "source": [
        "num_list=gen_list()\n",
        "\n",
        "first_num_index=r.randint(0,50)\n",
        "second_num_index=r.randint(0,50)\n",
        "\n"
      ],
      "metadata": {
        "id": "qJe8tUEd2rmG"
      },
      "execution_count": null,
      "outputs": []
    }
  ]
}