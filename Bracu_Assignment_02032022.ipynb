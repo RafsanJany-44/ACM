{
  "nbformat": 4,
  "nbformat_minor": 0,
  "metadata": {
    "colab": {
      "name": "Bracu_Assignment_02032022.ipynb",
      "provenance": [],
      "authorship_tag": "ABX9TyPvKP4aA9EU7zDTxbrx9SGP",
      "include_colab_link": true
    },
    "kernelspec": {
      "name": "python3",
      "display_name": "Python 3"
    },
    "language_info": {
      "name": "python"
    }
  },
  "cells": [
    {
      "cell_type": "markdown",
      "metadata": {
        "id": "view-in-github",
        "colab_type": "text"
      },
      "source": [
        "<a href=\"https://colab.research.google.com/github/RafsanJany-44/practice_cell/blob/master/Bracu_Assignment_02032022.ipynb\" target=\"_parent\"><img src=\"https://colab.research.google.com/assets/colab-badge.svg\" alt=\"Open In Colab\"/></a>"
      ]
    },
    {
      "cell_type": "markdown",
      "source": [
        "Question 1"
      ],
      "metadata": {
        "id": "W1f8KnOdkB87"
      }
    },
    {
      "cell_type": "code",
      "execution_count": null,
      "metadata": {
        "colab": {
          "base_uri": "https://localhost:8080/"
        },
        "id": "480aBZ-pj1Qx",
        "outputId": "24a5cd08-f598-4cc9-dad1-99b652a16e8a"
      },
      "outputs": [
        {
          "output_type": "stream",
          "name": "stdout",
          "text": [
            "1\n",
            "+\n",
            "2\n",
            "Let's Calculate!\n",
            "Value 1: 1\n",
            "Operator: +\n",
            "Value 2: 2\n",
            "Result:  3\n"
          ]
        }
      ],
      "source": [
        "class Calculator():\n",
        "  def __init__(self,num1,num2):\n",
        "      self.num1=num1\n",
        "      self.num2=num2\n",
        "      self.op=op\n",
        "\n",
        "  def add(self):\n",
        "    return self.num1+self.num2\n",
        "\n",
        "  def subtract(self):\n",
        "    return self.num1-self.num2\n",
        "\n",
        "\n",
        "  def multiply(self):\n",
        "    return self.num1*self.num2\n",
        "\n",
        "\n",
        "  def divide(self):\n",
        "    return self.num1/self.num2\n",
        "\n",
        "\n",
        "\n",
        "n1=int(input())\n",
        "op=input()\n",
        "n2=int(input())\n",
        "\n",
        "calculator=Calculator(n1,n2)\n",
        "\n",
        "if op==\"+\":\n",
        "  result=(calculator.add())\n",
        "\n",
        "elif op==\"-\":\n",
        "  result=(calculator.subtract())\n",
        "\n",
        "elif op==\"*\":\n",
        "  result=(calculator.multiply())\n",
        "\n",
        "elif op==\"/\":\n",
        "  result=(calculator.divide())\n",
        "\n",
        "\n",
        "else:\n",
        "  result=\"Invalid Oparator\"\n",
        "\n",
        "print(\"Let's Calculate!\")\n",
        "print(\"Value 1:\",calculator.num1)\n",
        "print(\"Operator:\",calculator.op)\n",
        "print(\"Value 2:\",calculator.num2)\n",
        "print(\"Result: \",result)"
      ]
    },
    {
      "cell_type": "markdown",
      "source": [
        "Question 2"
      ],
      "metadata": {
        "id": "f3Fjg3i7VfiG"
      }
    },
    {
      "cell_type": "code",
      "source": [
        "class Customer():\n",
        "  def __init__(self,name):\n",
        "      self.name=name\n",
        "  def greet(self,n=''):\n",
        "    print(\"Hello\",n,\"!\")\n",
        "\n",
        "  def purchase(self,*args):\n",
        "    print(self.name,'you purchased',len(args),\"item(s):\")\n",
        "    for i in args:\n",
        "      print(i)\n",
        "\n",
        "customer_1 = Customer(\"Sam\")\n",
        "customer_1.greet()\n",
        "customer_1.purchase(\"chips\", \"chocolate\", \"orange juice\")\n",
        "print(\"-----------------------------\")\n",
        "customer_2 = Customer(\"David\")\n",
        "customer_2.greet(\"David\")\n",
        "customer_2.purchase(\"orange juice\")\n"
      ],
      "metadata": {
        "id": "D3RY58QjflaJ",
        "outputId": "cf377693-d6c2-41e7-be44-87b47812748e",
        "colab": {
          "base_uri": "https://localhost:8080/"
        }
      },
      "execution_count": 5,
      "outputs": [
        {
          "output_type": "stream",
          "name": "stdout",
          "text": [
            "Hello  !\n",
            "Sam you purchased 3 item(s):\n",
            "chips\n",
            "chocolate\n",
            "orange juice\n",
            "-----------------------------\n",
            "Hello David !\n",
            "David you purchased 1 item(s):\n",
            "orange juice\n"
          ]
        }
      ]
    },
    {
      "cell_type": "markdown",
      "source": [
        "Question 3"
      ],
      "metadata": {
        "id": "SnY54TQMYE0t"
      }
    },
    {
      "cell_type": "code",
      "source": [
        "class Panda():\n",
        "  def __init__(self,name,gender,age):\n",
        "      self.name=name\n",
        "      self.gender=gender\n",
        "      self.age=age\n",
        "      \n",
        "\n",
        "\n",
        "panda1 = Panda(\"Kunfu\",\"Male\", 5) \n",
        "panda2=Panda(\"Pan Pan\",\"Female\",3) \n",
        "panda3=Panda(\"Ming Ming\",\"Female\",8)\n",
        "\n",
        "print(\"{} is a {} Panda Bear who is {} years old\".format(panda1.name,panda1.gender,panda1.age))\n",
        "print(\"{} is a {} Panda Bear who is {} years old\".format(panda2.name,panda2.gender,panda2.age))\n",
        "print(\"{} is a {} Panda Bear who is {} years old\".format(panda3.name,panda3.gender,panda3.age))\n",
        "\n",
        "\n"
      ],
      "metadata": {
        "id": "zTc3-JCPWJDS",
        "outputId": "645a1c18-ed68-4874-cf9c-bb27365c368b",
        "colab": {
          "base_uri": "https://localhost:8080/"
        }
      },
      "execution_count": 7,
      "outputs": [
        {
          "output_type": "stream",
          "name": "stdout",
          "text": [
            "Kunfu is a Male Panda Bear who is 5 years old\n",
            "Pan Pan is a Female Panda Bear who is 3 years old\n",
            "Ming Ming is a Female Panda Bear who is 8 years old\n"
          ]
        }
      ]
    }
  ]
}