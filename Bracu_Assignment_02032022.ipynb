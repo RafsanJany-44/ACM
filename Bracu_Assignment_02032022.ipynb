{
  "nbformat": 4,
  "nbformat_minor": 0,
  "metadata": {
    "colab": {
      "name": "Bracu_Assignment_02032022.ipynb",
      "provenance": [],
      "authorship_tag": "ABX9TyPSdzX+qWihYk1Kenim7V1u",
      "include_colab_link": true
    },
    "kernelspec": {
      "name": "python3",
      "display_name": "Python 3"
    },
    "language_info": {
      "name": "python"
    }
  },
  "cells": [
    {
      "cell_type": "markdown",
      "metadata": {
        "id": "view-in-github",
        "colab_type": "text"
      },
      "source": [
        "<a href=\"https://colab.research.google.com/github/RafsanJany-44/practice_cell/blob/master/Bracu_Assignment_02032022.ipynb\" target=\"_parent\"><img src=\"https://colab.research.google.com/assets/colab-badge.svg\" alt=\"Open In Colab\"/></a>"
      ]
    },
    {
      "cell_type": "markdown",
      "source": [
        "Question 1"
      ],
      "metadata": {
        "id": "W1f8KnOdkB87"
      }
    },
    {
      "cell_type": "code",
      "execution_count": 1,
      "metadata": {
        "colab": {
          "base_uri": "https://localhost:8080/"
        },
        "id": "480aBZ-pj1Qx",
        "outputId": "24a5cd08-f598-4cc9-dad1-99b652a16e8a"
      },
      "outputs": [
        {
          "output_type": "stream",
          "name": "stdout",
          "text": [
            "1\n",
            "+\n",
            "2\n",
            "Let's Calculate!\n",
            "Value 1: 1\n",
            "Operator: +\n",
            "Value 2: 2\n",
            "Result:  3\n"
          ]
        }
      ],
      "source": [
        "class Calculator():\n",
        "  def __init__(self,num1,num2):\n",
        "      self.num1=num1\n",
        "      self.num2=num2\n",
        "      self.op=op\n",
        "\n",
        "  def add(self):\n",
        "    return self.num1+self.num2\n",
        "\n",
        "  def subtract(self):\n",
        "    return self.num1-self.num2\n",
        "\n",
        "\n",
        "  def multiply(self):\n",
        "    return self.num1*self.num2\n",
        "\n",
        "\n",
        "  def divide(self):\n",
        "    return self.num1/self.num2\n",
        "\n",
        "\n",
        "\n",
        "n1=int(input())\n",
        "op=input()\n",
        "n2=int(input())\n",
        "\n",
        "calculator=Calculator(n1,n2)\n",
        "\n",
        "if op==\"+\":\n",
        "  result=(calculator.add())\n",
        "\n",
        "elif op==\"-\":\n",
        "  result=(calculator.subtract())\n",
        "\n",
        "elif op==\"*\":\n",
        "  result=(calculator.multiply())\n",
        "\n",
        "elif op==\"/\":\n",
        "  result=(calculator.divide())\n",
        "\n",
        "\n",
        "else:\n",
        "  result=\"Invalid Oparator\"\n",
        "\n",
        "print(\"Let's Calculate!\")\n",
        "print(\"Value 1:\",calculator.num1)\n",
        "print(\"Operator:\",calculator.op)\n",
        "print(\"Value 2:\",calculator.num2)\n",
        "print(\"Result: \",result)"
      ]
    },
    {
      "cell_type": "code",
      "source": [
        "class Customer():\n",
        "  \n"
      ],
      "metadata": {
        "id": "D3RY58QjflaJ"
      },
      "execution_count": null,
      "outputs": []
    }
  ]
}