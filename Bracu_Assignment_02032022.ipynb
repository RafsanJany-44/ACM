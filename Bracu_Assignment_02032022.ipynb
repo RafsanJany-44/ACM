{
  "nbformat": 4,
  "nbformat_minor": 0,
  "metadata": {
    "colab": {
      "name": "Bracu_Assignment_02032022.ipynb",
      "provenance": [],
      "authorship_tag": "ABX9TyNdQHhSLOgvug0UuyKOdbuA",
      "include_colab_link": true
    },
    "kernelspec": {
      "name": "python3",
      "display_name": "Python 3"
    },
    "language_info": {
      "name": "python"
    }
  },
  "cells": [
    {
      "cell_type": "markdown",
      "metadata": {
        "id": "view-in-github",
        "colab_type": "text"
      },
      "source": [
        "<a href=\"https://colab.research.google.com/github/RafsanJany-44/practice_cell/blob/master/Bracu_Assignment_02032022.ipynb\" target=\"_parent\"><img src=\"https://colab.research.google.com/assets/colab-badge.svg\" alt=\"Open In Colab\"/></a>"
      ]
    },
    {
      "cell_type": "markdown",
      "source": [
        "Question 1"
      ],
      "metadata": {
        "id": "W1f8KnOdkB87"
      }
    },
    {
      "cell_type": "code",
      "execution_count": null,
      "metadata": {
        "colab": {
          "base_uri": "https://localhost:8080/"
        },
        "id": "480aBZ-pj1Qx",
        "outputId": "24a5cd08-f598-4cc9-dad1-99b652a16e8a"
      },
      "outputs": [
        {
          "output_type": "stream",
          "name": "stdout",
          "text": [
            "1\n",
            "+\n",
            "2\n",
            "Let's Calculate!\n",
            "Value 1: 1\n",
            "Operator: +\n",
            "Value 2: 2\n",
            "Result:  3\n"
          ]
        }
      ],
      "source": [
        "class Calculator():\n",
        "  def __init__(self,num1,num2):\n",
        "      self.num1=num1\n",
        "      self.num2=num2\n",
        "      self.op=op\n",
        "\n",
        "  def add(self):\n",
        "    return self.num1+self.num2\n",
        "\n",
        "  def subtract(self):\n",
        "    return self.num1-self.num2\n",
        "\n",
        "\n",
        "  def multiply(self):\n",
        "    return self.num1*self.num2\n",
        "\n",
        "\n",
        "  def divide(self):\n",
        "    return self.num1/self.num2\n",
        "\n",
        "\n",
        "\n",
        "n1=int(input())\n",
        "op=input()\n",
        "n2=int(input())\n",
        "\n",
        "calculator=Calculator(n1,n2)\n",
        "\n",
        "if op==\"+\":\n",
        "  result=(calculator.add())\n",
        "\n",
        "elif op==\"-\":\n",
        "  result=(calculator.subtract())\n",
        "\n",
        "elif op==\"*\":\n",
        "  result=(calculator.multiply())\n",
        "\n",
        "elif op==\"/\":\n",
        "  result=(calculator.divide())\n",
        "\n",
        "\n",
        "else:\n",
        "  result=\"Invalid Oparator\"\n",
        "\n",
        "print(\"Let's Calculate!\")\n",
        "print(\"Value 1:\",calculator.num1)\n",
        "print(\"Operator:\",calculator.op)\n",
        "print(\"Value 2:\",calculator.num2)\n",
        "print(\"Result: \",result)"
      ]
    },
    {
      "cell_type": "markdown",
      "source": [
        "Question 2"
      ],
      "metadata": {
        "id": "f3Fjg3i7VfiG"
      }
    },
    {
      "cell_type": "code",
      "source": [
        "class Customer():\n",
        "  def __init__(self,name):\n",
        "      self.name=name\n",
        "  def greet(self,n=''):\n",
        "    print(\"Hello\",n,\"!\")\n",
        "\n",
        "  def purchase(self,*args):\n",
        "    print(self.name,'you purchased',len(args),\"item(s):\")\n",
        "    for i in args:\n",
        "      print(i)\n",
        "\n",
        "customer_1 = Customer(\"Sam\")\n",
        "customer_1.greet()\n",
        "customer_1.purchase(\"chips\", \"chocolate\", \"orange juice\")\n",
        "print(\"-----------------------------\")\n",
        "customer_2 = Customer(\"David\")\n",
        "customer_2.greet(\"David\")\n",
        "customer_2.purchase(\"orange juice\")\n"
      ],
      "metadata": {
        "id": "D3RY58QjflaJ",
        "outputId": "cf377693-d6c2-41e7-be44-87b47812748e",
        "colab": {
          "base_uri": "https://localhost:8080/"
        }
      },
      "execution_count": null,
      "outputs": [
        {
          "output_type": "stream",
          "name": "stdout",
          "text": [
            "Hello  !\n",
            "Sam you purchased 3 item(s):\n",
            "chips\n",
            "chocolate\n",
            "orange juice\n",
            "-----------------------------\n",
            "Hello David !\n",
            "David you purchased 1 item(s):\n",
            "orange juice\n"
          ]
        }
      ]
    },
    {
      "cell_type": "markdown",
      "source": [
        "Question 3"
      ],
      "metadata": {
        "id": "SnY54TQMYE0t"
      }
    },
    {
      "cell_type": "code",
      "source": [
        "class Panda():\n",
        "  def __init__(self,name,gender,age):\n",
        "      self.name=name\n",
        "      self.gender=gender\n",
        "      self.age=age\n",
        "      \n",
        "  def sleep(self,n=0):\n",
        "    if(3<=n<=5):\n",
        "      return self.name+\" sleeps \"+str(n)+\" hours daily and should have Mixed Veggies\"\n",
        "   \n",
        "    elif (6<=n<=8):\n",
        "      return self.name+\" sleeps \"+str(n)+\" hours daily and should have Eggplant & Tofu\"\n",
        "   \n",
        "    elif(9<=n<11):\n",
        "      return self.name+\" sleeps \"+str(n)+\" hours daily and should have Broccoli Chicken\"\n",
        "    else:\n",
        "      return self.name+\" duration is unknown thus should have only bamboo leaves\"\n",
        "    \n",
        "\n",
        "\n",
        "panda1 = Panda(\"Kunfu\",\"Male\", 5) \n",
        "panda2=Panda(\"Pan Pan\",\"Female\",3) \n",
        "panda3=Panda(\"Ming Ming\",\"Female\",8)\n",
        "\n",
        "print(\"{} is a {} Panda Bear who is {} years old\".format(panda1.name,panda1.gender,panda1.age))\n",
        "print(\"{} is a {} Panda Bear who is {} years old\".format(panda2.name,panda2.gender,panda2.age))\n",
        "print(\"{} is a {} Panda Bear who is {} years old\".format(panda3.name,panda3.gender,panda3.age))\n",
        "print(\"===========================\")\n",
        "print(panda2.sleep(10))\n",
        "print(panda1.sleep(4))\n",
        "print(panda3.sleep())\n"
      ],
      "metadata": {
        "id": "zTc3-JCPWJDS",
        "outputId": "dd706cca-1f9f-4ab6-f296-d85a56df6bd6",
        "colab": {
          "base_uri": "https://localhost:8080/"
        }
      },
      "execution_count": 9,
      "outputs": [
        {
          "output_type": "stream",
          "name": "stdout",
          "text": [
            "Kunfu is a Male Panda Bear who is 5 years old\n",
            "Pan Pan is a Female Panda Bear who is 3 years old\n",
            "Ming Ming is a Female Panda Bear who is 8 years old\n",
            "===========================\n",
            "Pan Pan sleeps 10 hours daily and should have Broccoli Chicken\n",
            "Kunfu sleeps 4 hours daily and should have Mixed Veggies\n",
            "Ming Ming duration is unknown thus should have only bamboo leaves\n"
          ]
        }
      ]
    },
    {
      "cell_type": "markdown",
      "source": [
        "Question 4"
      ],
      "metadata": {
        "id": "INBVZvVlukSU"
      }
    },
    {
      "cell_type": "code",
      "source": [
        "class Cat():\n",
        "  color=\"White\"\n",
        "  act=\"sitting\"\n",
        "\n",
        "  def __init__(self,*args):\n",
        "    if len(args)==2:\n",
        "      self.color=args[0]\n",
        "      self.act=args[1]\n",
        "    elif len(args)>1:\n",
        "      self.color=args[0]\n",
        "    else:\n",
        "      pass\n",
        "\n",
        "\n",
        "  def changeColor(self,new_color):\n",
        "    self.color=new_color\n",
        "  def printCat(self):\n",
        "    print(self.color+\" cat is \"+self.act)\n",
        "\n",
        "\n",
        "c1=Cat()\n",
        "c2 = Cat(\"Black\")\n",
        "c3 = Cat(\"Brown\", \"jumping\")\n",
        "c4 = Cat(\"Red\", \"purring\")\n",
        "c1.printCat()\n",
        "c2.printCat()\n",
        "c3.printCat()\n",
        "c4.printCat()\n",
        "c1.changeColor(\"Blue\")\n",
        "c3.changeColor(\"Purple\")\n",
        "c1.printCat()\n",
        "c3.printCat()\n",
        "       "
      ],
      "metadata": {
        "colab": {
          "base_uri": "https://localhost:8080/"
        },
        "id": "ZjZjnOGbuqQl",
        "outputId": "2c01f33f-771e-42ff-d9ae-d363b41d32d9"
      },
      "execution_count": 4,
      "outputs": [
        {
          "output_type": "stream",
          "name": "stdout",
          "text": [
            "White cat is sitting\n",
            "White cat is sitting\n",
            "Brown cat is jumping\n",
            "Red cat is purring\n",
            "Blue cat is sitting\n",
            "Purple cat is jumping\n"
          ]
        }
      ]
    },
    {
      "cell_type": "markdown",
      "source": [
        "Question 5"
      ],
      "metadata": {
        "id": "Ej9dwSaGacf-"
      }
    },
    {
      "cell_type": "code",
      "source": [
        "class Student():\n",
        "  name=\"default student\"\n",
        "  t_sum=0\n",
        "  def __init__(self,*args):\n",
        "    if len(args)==1:\n",
        "      self.name=args[0]\n",
        "    else:\n",
        "      pass\n",
        "  def quizcalc(self,*number):\n",
        "    sum=0\n",
        "    for i in number:\n",
        "      sum=sum+i\n",
        "    self.t_sum=sum\n",
        "\n",
        "  def printdetail(self):\n",
        "    print(\"Hello \"+self.name)\n",
        "    print(\"Your average quiz score is\", self.t_sum/3)\n",
        "\n",
        "s1 = Student()\n",
        "s1.quizcalc(10)\n",
        "print('--------------------------------')\n",
        "s1.printdetail()\n",
        "s2 = Student('Harry')\n",
        "s2.quizcalc(10,8)\n",
        "print('--------------------------------')\n",
        "s2.printdetail()\n",
        "s3 = Student('Hermione')\n",
        "s3.quizcalc(10,9,10)\n",
        "print('--------------------------------')\n",
        "s3.printdetail()\n",
        "\n",
        "    \n",
        "    "
      ],
      "metadata": {
        "id": "-TOt0Lw6acHW"
      },
      "execution_count": null,
      "outputs": []
    },
    {
      "cell_type": "markdown",
      "source": [
        "Question 6"
      ],
      "metadata": {
        "id": "CuJHS3EnfPuJ"
      }
    },
    {
      "cell_type": "code",
      "source": [
        "class Vehicle():\n",
        "  x=0\n",
        "  y=0\n",
        "  \n",
        "  def __init__(self):\n",
        "    pass\n",
        "\n",
        "  def moveUp(self):\n",
        "    self.y+=1\n",
        "  def moveDown(self):\n",
        "    self.y-=1\n",
        "  def moveRight(self):\n",
        "    self.x+=1\n",
        "  def moveLeft(self):\n",
        "    self.x-=1\n",
        "  def print_position(self):\n",
        "    print(\"(\",self.x,\",\",self.y,\")\")\n",
        "car = Vehicle()\n",
        "car.print_position()\n",
        "car.moveUp()\n",
        "car.print_position()\n",
        "car.moveLeft()\n",
        "car.print_position()\n",
        "car.moveDown()\n",
        "car.print_position()\n",
        "car.moveRight()"
      ],
      "metadata": {
        "colab": {
          "base_uri": "https://localhost:8080/"
        },
        "id": "rUdSHwCge5py",
        "outputId": "9ee94458-7e5c-4f7e-a13d-226c1972ad5a"
      },
      "execution_count": 15,
      "outputs": [
        {
          "output_type": "stream",
          "name": "stdout",
          "text": [
            "( 0 , 0 )\n",
            "( 0 , 1 )\n",
            "( -1 , 1 )\n",
            "( -1 , 0 )\n"
          ]
        }
      ]
    },
    {
      "cell_type": "markdown",
      "source": [
        "Question 7"
      ],
      "metadata": {
        "id": "6EQFFwrjiFrQ"
      }
    },
    {
      "cell_type": "code",
      "source": [
        "class Programmer():\n",
        "  exp=0\n",
        "  name=''\n",
        "  lan=''\n",
        "  sen=0\n",
        "  def __init__(self,name,lan,exp):\n",
        "    self.name=name\n",
        "    self.lan=lan\n",
        "    self.exp=exp\n",
        "  def addExp(self,add):\n",
        "    self.exp=self.exp+add\n",
        "    print(\"Updating experience of \"+self.name)\n",
        "    self.sen=1\n",
        "\n",
        "  def printDetails(self):\n",
        "    if self.sen==0:\n",
        "      print(\"Horray! A new programmer is born\")\n",
        "    print(\"Name:\",self.name)\n",
        "    print(\"Language:\",self.lan)\n",
        "    print(\"Experience:\",self.exp)\n",
        "\n",
        "\n",
        "p1 = Programmer(\"Ethen Hunt\", \"Java\", 10)\n",
        "p1.printDetails()\n",
        "print('--------------------------')\n",
        "p2 = Programmer(\"James Bond\", \"C++\", 7)\n",
        "p2.printDetails()\n",
        "print('--------------------------')\n",
        "p3 = Programmer(\"Jon Snow\", \"Python\", 4)\n",
        "p3.printDetails()\n",
        "p3.addExp(5)\n",
        "p3.printDetails()\n"
      ],
      "metadata": {
        "colab": {
          "base_uri": "https://localhost:8080/"
        },
        "id": "E3tjub5Fhq0K",
        "outputId": "1a36585d-5740-467b-cb83-c9b7f4a21872"
      },
      "execution_count": 21,
      "outputs": [
        {
          "output_type": "stream",
          "name": "stdout",
          "text": [
            "Horray! A new programmer is born\n",
            "Name: Ethen Hunt\n",
            "Language: Java\n",
            "Experience: 10\n",
            "--------------------------\n",
            "Horray! A new programmer is born\n",
            "Name: James Bond\n",
            "Language: C++\n",
            "Experience: 7\n",
            "--------------------------\n",
            "Horray! A new programmer is born\n",
            "Name: Jon Snow\n",
            "Language: Python\n",
            "Experience: 4\n",
            "Updating experience of Jon Snow\n",
            "Name: Jon Snow\n",
            "Language: Python\n",
            "Experience: 9\n"
          ]
        }
      ]
    },
    {
      "cell_type": "markdown",
      "source": [
        "Question 8"
      ],
      "metadata": {
        "id": "8aVtv6udZtjy"
      }
    },
    {
      "cell_type": "code",
      "source": [
        "class Student():\n",
        "  def __init__(self,*info):\n",
        "    if len(info)==3:\n",
        "      self.name=info[0]\n",
        "      self.id=info[1]\n",
        "      self.dept=info[2]\n",
        "    elif len(info)==2: \n",
        "      self.name=info[0]\n",
        "      self.id=info[1]\n",
        "      self.dept=\"CSE\"\n",
        "  def dailyEffort(self,n):\n",
        "    self.effort=n\n",
        "    if n<=2:\n",
        "      self.sug=\"Suggestion: Should give more effort!\"\n",
        "    elif n<=4:\n",
        "      self.sug=\"Suggestion: Keep up the good work!\"\n",
        "    else:\n",
        "      self.sug=\"Suggestion: Excellent! Now motivate others.\"\n",
        "  def printDetails(self):\n",
        "    print(\"Name:\",self.name)\n",
        "    print(\"Id:\",self.id)\n",
        "    print(\"Department:\",self.dept)\n",
        "    print(\"Daily Effort:\",\"hour(s)\")\n",
        "    print(self.sug)\n",
        "\n",
        "harry = Student('Harry Potter', 123) \n",
        "harry.dailyEffort(3)\n",
        "harry.printDetails()\n",
        "print('========================')\n",
        "john = Student(\"John Wick\", 456, \"BBA\")\n",
        "john.dailyEffort(2)\n",
        "john.printDetails()\n",
        "print('========================')\n",
        "naruto = Student(\"Naruto Uzumaki\", 777, \"Ninja\")\n",
        "naruto.dailyEffort(6)\n",
        "naruto.printDetails()\n"
      ],
      "metadata": {
        "colab": {
          "base_uri": "https://localhost:8080/"
        },
        "id": "HDB3aJ3qnX3j",
        "outputId": "fac0736d-0f3a-47b9-9040-5c11671133dd"
      },
      "execution_count": 3,
      "outputs": [
        {
          "output_type": "stream",
          "name": "stdout",
          "text": [
            "Name: Harry Potter\n",
            "Id: 123\n",
            "Department: CSE\n",
            "Daily Effort: hour(s)\n",
            "Suggestion: Keep up the good work!\n",
            "========================\n",
            "Name: John Wick\n",
            "Id: 456\n",
            "Department: BBA\n",
            "Daily Effort: hour(s)\n",
            "Suggestion: Should give more effort!\n",
            "========================\n",
            "Name: Naruto Uzumaki\n",
            "Id: 777\n",
            "Department: Ninja\n",
            "Daily Effort: hour(s)\n",
            "Suggestion: Excellent! Now motivate others.\n"
          ]
        }
      ]
    },
    {
      "cell_type": "markdown",
      "source": [
        "Question 9"
      ],
      "metadata": {
        "id": "WdbphOzGcCTM"
      }
    },
    {
      "cell_type": "code",
      "source": [
        "class Patient():\n",
        "  def __init__(self,name,age):\n",
        "    self.name=name\n",
        "    self.age=age\n",
        "  \n",
        "  def add_Symptom(self,*des):\n",
        "    self.d=\"\"\n",
        "    for i in range(len(des)):\n",
        "      self.d=self.d+des[i]\n",
        "      if(i!=len(des)-1):\n",
        "        self.d=self.d+\",\"\n",
        "\n",
        "  def printPatientDetail(self):\n",
        "    print(\"Name:\",self.name)\n",
        "    print(\"Age:\",self.age)\n",
        "    print(\"Symptoms:\",self.d)\n",
        "\n",
        "p1 = Patient(\"Thomas\", 23)\n",
        "p1.add_Symptom(\"Headache\")\n",
        "p2 = Patient(\"Carol\", 20)\n",
        "p2.add_Symptom(\"Vomiting\", \"Coughing\")\n",
        "p3 = Patient(\"Mike\", 25)\n",
        "p3.add_Symptom(\"Fever\", \"Headache\", \"Coughing\")\n",
        "print(\"=========================\")\n",
        "p1.printPatientDetail()\n",
        "print(\"=========================\")\n",
        "p2.printPatientDetail()\n",
        "print(\"=========================\")\n",
        "p3.printPatientDetail()\n",
        "print(\"=========================\")\n"
      ],
      "metadata": {
        "colab": {
          "base_uri": "https://localhost:8080/"
        },
        "id": "nN_8VQMBcE2U",
        "outputId": "1307ea66-c39b-41f0-8f38-27e240d9435f"
      },
      "execution_count": 10,
      "outputs": [
        {
          "output_type": "stream",
          "name": "stdout",
          "text": [
            "=========================\n",
            "Name: Thomas\n",
            "Age: 23\n",
            "Symptoms: Headache\n",
            "=========================\n",
            "Name: Carol\n",
            "Age: 20\n",
            "Symptoms: Vomiting,Coughing\n",
            "=========================\n",
            "Name: Mike\n",
            "Age: 25\n",
            "Symptoms: Fever,Headache,Coughing\n",
            "=========================\n"
          ]
        }
      ]
    },
    {
      "cell_type": "markdown",
      "source": [
        "Question 10"
      ],
      "metadata": {
        "id": "7LrbrUpXef-L"
      }
    },
    {
      "cell_type": "code",
      "source": [
        "class Avengers():\n",
        "  def __init__(self,name,partner):\n",
        "    self.name=name\n",
        "    self.partner=partner\n",
        "\n",
        "  def super_powers(self,*des):\n",
        "    self.d=\"\"\n",
        "    for i in range(len(des)):\n",
        "      self.d=self.d+des[i]\n",
        "      if(i!=len(des)-1):\n",
        "        self.d=self.d+\",\"\n",
        "  def printAvengersDetail(self):\n",
        "    print(\"Name:\",self.name)\n",
        "    print(\"Partner:\",self.partner)\n",
        "    print(\"Super powers:\",self.d)\n",
        "a1 = Avengers('Captain America', 'Bucky Barnes')\n",
        "a1.super_powers('Stamina', 'Slowed ageing')\n",
        "a2 = Avengers('Doctor Strange', 'Ancient One')\n",
        "a2.super_powers('Mastery of magic')\n",
        "a3 = Avengers('Iron Man', 'War Machine')\n",
        "a3.super_powers('Genius level intellect', 'Scientist ')\n",
        "print(\"=========================\")\n",
        "a1.printAvengersDetail()\n",
        "print(\"=========================\")\n",
        "a2.printAvengersDetail()\n",
        "print(\"=========================\")\n",
        "a3.printAvengersDetail()\n",
        "print(\"=========================\")"
      ],
      "metadata": {
        "colab": {
          "base_uri": "https://localhost:8080/"
        },
        "id": "gGs7ILryeigq",
        "outputId": "560b8f19-91ac-463e-9cd5-276df155dd3f"
      },
      "execution_count": 12,
      "outputs": [
        {
          "output_type": "stream",
          "name": "stdout",
          "text": [
            "=========================\n",
            "Name: Captain America\n",
            "Partner: Bucky Barnes\n",
            "Super powers: Stamina,Slowed ageing\n",
            "=========================\n",
            "Name: Doctor Strange\n",
            "Partner: Ancient One\n",
            "Super powers: Mastery of magic\n",
            "=========================\n",
            "Name: Iron Man\n",
            "Partner: War Machine\n",
            "Super powers: Genius level intellect,Scientist \n",
            "=========================\n"
          ]
        }
      ]
    },
    {
      "cell_type": "markdown",
      "source": [
        "Question 11"
      ],
      "metadata": {
        "id": "hmh5cn3xgHpS"
      }
    },
    {
      "cell_type": "code",
      "source": [
        "class Shinobi():\n",
        "  mission=0\n",
        "  salary=0\n",
        "  def __init__(self,name,rank):\n",
        "    self.name=name\n",
        "    self.rank=rank\n",
        "  \n",
        "  def changeRank(self,new_rank):\n",
        "    self.rank=new_rank\n",
        "  \n",
        "  def calSalary(self,mission):\n",
        "    self.mission=mission\n",
        "\n",
        "    if self.rank==\"Genin\":\n",
        "      self.salary=mission*50\n",
        "    elif self.rank==\"Chunin\":\n",
        "      self.salary=mission*100\n",
        "    else:\n",
        "      self.salary=mission*500\n",
        "  \n",
        "  def printInfo(self):\n",
        "    print(\"Name:\",self.name)\n",
        "    print(\"Rank:\",self.rank)\n",
        "    print(\"Number of mission:\",self.mission)\n",
        "    print(\"Salary:\",self.salary)\n",
        "  \n",
        "\n",
        "\n",
        "naruto = Shinobi(\"Naruto\", \"Genin\")\n",
        "naruto.calSalary(5)\n",
        "naruto.printInfo()\n",
        "print('====================') \n",
        "shikamaru = Shinobi('Shikamaru', \"Genin\")\n",
        "shikamaru.printInfo()\n",
        "shikamaru.changeRank(\"Chunin\")\n",
        "shikamaru.calSalary(10)\n",
        "shikamaru.printInfo()\n",
        "print('====================')\n",
        "neiji = Shinobi(\"Neiji\", \"Jonin\")\n",
        "neiji.calSalary(5)\n",
        "neiji.printInfo()\n"
      ],
      "metadata": {
        "colab": {
          "base_uri": "https://localhost:8080/"
        },
        "id": "ytL8kEEXgMRz",
        "outputId": "f12d2699-6cf1-437c-9632-5caee20064e9"
      },
      "execution_count": 16,
      "outputs": [
        {
          "output_type": "stream",
          "name": "stdout",
          "text": [
            "Name: Naruto\n",
            "Rank: Genin\n",
            "Number of mission: 5\n",
            "Salary: 250\n",
            "====================\n",
            "Name: Shikamaru\n",
            "Rank: Genin\n",
            "Number of mission: 0\n",
            "Salary: 0\n",
            "Name: Shikamaru\n",
            "Rank: Chunin\n",
            "Number of mission: 10\n",
            "Salary: 1000\n",
            "====================\n",
            "Name: Neiji\n",
            "Rank: Jonin\n",
            "Number of mission: 5\n",
            "Salary: 2500\n"
          ]
        }
      ]
    },
    {
      "cell_type": "markdown",
      "source": [
        "Question 12"
      ],
      "metadata": {
        "id": "CHbd4F3wiiee"
      }
    },
    {
      "cell_type": "code",
      "source": [
        "class ParcelKoro():\n",
        "  product_weight=0\n",
        "\n",
        "  def __init__(self,*info):\n",
        "    if len(info)==2:\n",
        "      self.product_weight=info[1]\n",
        "      self.name=info[0]\n",
        "    elif len(info)==1:\n",
        "      self.name=info[0]\n",
        "    else:\n",
        "      self.name=\"No name set\"\n",
        "  \n",
        "  def calculateFee(self,plcae=\"\"):\n",
        "\n",
        "    if self.product_weight==0:\n",
        "      self.total_fee=0\n",
        "    else:\n",
        "      if plcae==\"\":\n",
        "        self.total_fee=(self.product_weight*20)+50\n",
        "      else:\n",
        "        self.total_fee=(self.product_weight*20)+100\n",
        "  \n",
        "  def printDetails(self):\n",
        "    print(\"Customer Name: \",self.name)\n",
        "    print(\"Priduct Weight:\",self.product_weight)\n",
        "    print(\"Total fee:\",self.total_fee)\n",
        "\n",
        "\n",
        "\n",
        "\n",
        "print(\"**********************\")\n",
        "p1 = ParcelKoro()\n",
        "p1.calculateFee()\n",
        "p1.printDetails()\n",
        "print(\"**********************\")\n",
        "p2 = ParcelKoro('Bob The Builder')\n",
        "p2.calculateFee()\n",
        "p2.printDetails()\n",
        "print(\"----------------------------\")\n",
        "p2.product_weight = 15\n",
        "p2.calculateFee()\n",
        "p2.printDetails()\n",
        "print(\"**********************\")\n",
        "p3 = ParcelKoro('Dora The Explorer', 10)\n",
        "p3.calculateFee('Dhanmondi')\n",
        "p3.printDetails()\n",
        "      "
      ],
      "metadata": {
        "colab": {
          "base_uri": "https://localhost:8080/"
        },
        "id": "dOco9g3HinZQ",
        "outputId": "305052cd-aacc-44a0-fd91-c69f4bd4f417"
      },
      "execution_count": 24,
      "outputs": [
        {
          "output_type": "stream",
          "name": "stdout",
          "text": [
            "**********************\n",
            "Customer Name:  No name set\n",
            "Priduct Weight: 0\n",
            "Total fee: 0\n",
            "**********************\n",
            "Customer Name:  Bob The Builder\n",
            "Priduct Weight: 0\n",
            "Total fee: 0\n",
            "----------------------------\n",
            "Customer Name:  Bob The Builder\n",
            "Priduct Weight: 15\n",
            "Total fee: 350\n",
            "**********************\n",
            "Customer Name:  Dora The Explorer\n",
            "Priduct Weight: 10\n",
            "Total fee: 300\n"
          ]
        }
      ]
    }
  ]
}