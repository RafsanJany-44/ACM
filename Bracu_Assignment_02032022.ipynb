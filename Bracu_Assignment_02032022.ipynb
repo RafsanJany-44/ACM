{
  "nbformat": 4,
  "nbformat_minor": 0,
  "metadata": {
    "colab": {
      "name": "Bracu_Assignment_02032022.ipynb",
      "provenance": [],
      "authorship_tag": "ABX9TyPtXLReVx4g0fMitcPsJ8eq",
      "include_colab_link": true
    },
    "kernelspec": {
      "name": "python3",
      "display_name": "Python 3"
    },
    "language_info": {
      "name": "python"
    }
  },
  "cells": [
    {
      "cell_type": "markdown",
      "metadata": {
        "id": "view-in-github",
        "colab_type": "text"
      },
      "source": [
        "<a href=\"https://colab.research.google.com/github/RafsanJany-44/practice_cell/blob/master/Bracu_Assignment_02032022.ipynb\" target=\"_parent\"><img src=\"https://colab.research.google.com/assets/colab-badge.svg\" alt=\"Open In Colab\"/></a>"
      ]
    },
    {
      "cell_type": "markdown",
      "source": [
        "Question 1"
      ],
      "metadata": {
        "id": "W1f8KnOdkB87"
      }
    },
    {
      "cell_type": "code",
      "execution_count": null,
      "metadata": {
        "colab": {
          "base_uri": "https://localhost:8080/"
        },
        "id": "480aBZ-pj1Qx",
        "outputId": "24a5cd08-f598-4cc9-dad1-99b652a16e8a"
      },
      "outputs": [
        {
          "output_type": "stream",
          "name": "stdout",
          "text": [
            "1\n",
            "+\n",
            "2\n",
            "Let's Calculate!\n",
            "Value 1: 1\n",
            "Operator: +\n",
            "Value 2: 2\n",
            "Result:  3\n"
          ]
        }
      ],
      "source": [
        "class Calculator():\n",
        "  def __init__(self,num1,num2):\n",
        "      self.num1=num1\n",
        "      self.num2=num2\n",
        "      self.op=op\n",
        "\n",
        "  def add(self):\n",
        "    return self.num1+self.num2\n",
        "\n",
        "  def subtract(self):\n",
        "    return self.num1-self.num2\n",
        "\n",
        "\n",
        "  def multiply(self):\n",
        "    return self.num1*self.num2\n",
        "\n",
        "\n",
        "  def divide(self):\n",
        "    return self.num1/self.num2\n",
        "\n",
        "\n",
        "\n",
        "n1=int(input())\n",
        "op=input()\n",
        "n2=int(input())\n",
        "\n",
        "calculator=Calculator(n1,n2)\n",
        "\n",
        "if op==\"+\":\n",
        "  result=(calculator.add())\n",
        "\n",
        "elif op==\"-\":\n",
        "  result=(calculator.subtract())\n",
        "\n",
        "elif op==\"*\":\n",
        "  result=(calculator.multiply())\n",
        "\n",
        "elif op==\"/\":\n",
        "  result=(calculator.divide())\n",
        "\n",
        "\n",
        "else:\n",
        "  result=\"Invalid Oparator\"\n",
        "\n",
        "print(\"Let's Calculate!\")\n",
        "print(\"Value 1:\",calculator.num1)\n",
        "print(\"Operator:\",calculator.op)\n",
        "print(\"Value 2:\",calculator.num2)\n",
        "print(\"Result: \",result)"
      ]
    },
    {
      "cell_type": "markdown",
      "source": [
        "Question 2"
      ],
      "metadata": {
        "id": "f3Fjg3i7VfiG"
      }
    },
    {
      "cell_type": "code",
      "source": [
        "class Customer():\n",
        "  def __init__(self,name):\n",
        "      self.name=name\n",
        "  def greet(self,n=''):\n",
        "    print(\"Hello\",n,\"!\")\n",
        "\n",
        "  def purchase(self,*args):\n",
        "    print(self.name,'you purchased',len(args),\"item(s):\")\n",
        "    for i in args:\n",
        "      print(i)\n",
        "\n",
        "customer_1 = Customer(\"Sam\")\n",
        "customer_1.greet()\n",
        "customer_1.purchase(\"chips\", \"chocolate\", \"orange juice\")\n",
        "print(\"-----------------------------\")\n",
        "customer_2 = Customer(\"David\")\n",
        "customer_2.greet(\"David\")\n",
        "customer_2.purchase(\"orange juice\")\n"
      ],
      "metadata": {
        "id": "D3RY58QjflaJ",
        "outputId": "cf377693-d6c2-41e7-be44-87b47812748e",
        "colab": {
          "base_uri": "https://localhost:8080/"
        }
      },
      "execution_count": null,
      "outputs": [
        {
          "output_type": "stream",
          "name": "stdout",
          "text": [
            "Hello  !\n",
            "Sam you purchased 3 item(s):\n",
            "chips\n",
            "chocolate\n",
            "orange juice\n",
            "-----------------------------\n",
            "Hello David !\n",
            "David you purchased 1 item(s):\n",
            "orange juice\n"
          ]
        }
      ]
    },
    {
      "cell_type": "markdown",
      "source": [
        "Question 3"
      ],
      "metadata": {
        "id": "SnY54TQMYE0t"
      }
    },
    {
      "cell_type": "code",
      "source": [
        "class Panda():\n",
        "  def __init__(self,name,gender,age):\n",
        "      self.name=name\n",
        "      self.gender=gender\n",
        "      self.age=age\n",
        "      \n",
        "  def sleep(self,n=0):\n",
        "    if(3<=n<=5):\n",
        "      return self.name+\" sleeps \"+str(n)+\" hours daily and should have Mixed Veggies\"\n",
        "   \n",
        "    elif (6<=n<=8):\n",
        "      return self.name+\" sleeps \"+str(n)+\" hours daily and should have Eggplant & Tofu\"\n",
        "   \n",
        "    elif(9<=n<11):\n",
        "      return self.name+\" sleeps \"+str(n)+\" hours daily and should have Broccoli Chicken\"\n",
        "    else:\n",
        "      return self.name+\" duration is unknown thus should have only bamboo leaves\"\n",
        "    \n",
        "\n",
        "\n",
        "panda1 = Panda(\"Kunfu\",\"Male\", 5) \n",
        "panda2=Panda(\"Pan Pan\",\"Female\",3) \n",
        "panda3=Panda(\"Ming Ming\",\"Female\",8)\n",
        "\n",
        "print(\"{} is a {} Panda Bear who is {} years old\".format(panda1.name,panda1.gender,panda1.age))\n",
        "print(\"{} is a {} Panda Bear who is {} years old\".format(panda2.name,panda2.gender,panda2.age))\n",
        "print(\"{} is a {} Panda Bear who is {} years old\".format(panda3.name,panda3.gender,panda3.age))\n",
        "print(\"===========================\")\n",
        "print(panda2.sleep(10))\n",
        "print(panda1.sleep(4))\n",
        "print(panda3.sleep())\n"
      ],
      "metadata": {
        "id": "zTc3-JCPWJDS",
        "outputId": "dd706cca-1f9f-4ab6-f296-d85a56df6bd6",
        "colab": {
          "base_uri": "https://localhost:8080/"
        }
      },
      "execution_count": 9,
      "outputs": [
        {
          "output_type": "stream",
          "name": "stdout",
          "text": [
            "Kunfu is a Male Panda Bear who is 5 years old\n",
            "Pan Pan is a Female Panda Bear who is 3 years old\n",
            "Ming Ming is a Female Panda Bear who is 8 years old\n",
            "===========================\n",
            "Pan Pan sleeps 10 hours daily and should have Broccoli Chicken\n",
            "Kunfu sleeps 4 hours daily and should have Mixed Veggies\n",
            "Ming Ming duration is unknown thus should have only bamboo leaves\n"
          ]
        }
      ]
    },
    {
      "cell_type": "markdown",
      "source": [
        "Question 4"
      ],
      "metadata": {
        "id": "INBVZvVlukSU"
      }
    },
    {
      "cell_type": "code",
      "source": [
        "class Cat():\n",
        "  color=\"White\"\n",
        "  act=\"sitting\"\n",
        "\n",
        "  def __init__(self,*args):\n",
        "    if len(args)==2:\n",
        "      self.color=args[0]\n",
        "      self.act=args[1]\n",
        "    elif len(args)>1:\n",
        "      self.color=args[0]\n",
        "    else:\n",
        "      pass\n",
        "\n",
        "\n",
        "  def changeColor(self,new_color):\n",
        "    self.color=new_color\n",
        "  def printCat(self):\n",
        "    print(self.color+\" cat is \"+self.act)\n",
        "\n",
        "\n",
        "c1=Cat()\n",
        "c2 = Cat(\"Black\")\n",
        "c3 = Cat(\"Brown\", \"jumping\")\n",
        "c4 = Cat(\"Red\", \"purring\")\n",
        "c1.printCat()\n",
        "c2.printCat()\n",
        "c3.printCat()\n",
        "c4.printCat()\n",
        "c1.changeColor(\"Blue\")\n",
        "c3.changeColor(\"Purple\")\n",
        "c1.printCat()\n",
        "c3.printCat()\n",
        "       "
      ],
      "metadata": {
        "id": "ZjZjnOGbuqQl",
        "outputId": "2c01f33f-771e-42ff-d9ae-d363b41d32d9",
        "colab": {
          "base_uri": "https://localhost:8080/"
        }
      },
      "execution_count": 4,
      "outputs": [
        {
          "output_type": "stream",
          "name": "stdout",
          "text": [
            "White cat is sitting\n",
            "White cat is sitting\n",
            "Brown cat is jumping\n",
            "Red cat is purring\n",
            "Blue cat is sitting\n",
            "Purple cat is jumping\n"
          ]
        }
      ]
    },
    {
      "cell_type": "code",
      "source": [
        "class Example:\n",
        "\n",
        "    # constructor overloading based on args\n",
        "    def __init__(self, *args):\n",
        "\n",
        "        # if args are more than 1 sum of args\n",
        "        if len(args) > 1:\n",
        "            self.answer = 0\n",
        "            for i in args:\n",
        "                self.answer += i\n",
        "\n",
        "        # if arg is an integer square the arg\n",
        "        elif isinstance(args[0], int):\n",
        "            self.answer = args[0] * args[0]\n",
        "\n",
        "        # if arg is string Print with hello\n",
        "        elif isinstance(args[0], str):\n",
        "            self.answer = \"Hello! \" + args[0] + \".\"\n",
        "\n",
        "\n",
        "e1 = Example(1, 2, 3, 6, 8)\n",
        "print(\"Sum :\", e1.answer)\n",
        "\n",
        "e2 = Example(6)\n",
        "print(\"Square :\", e2.answer)\n",
        "\n",
        "e3 = Example(\"Python\")\n",
        "print(\"String :\", e3.answer)"
      ],
      "metadata": {
        "id": "ufri-CaeCfJ6",
        "outputId": "5955d2a2-87b8-4aff-968b-cefd12be6b75",
        "colab": {
          "base_uri": "https://localhost:8080/"
        }
      },
      "execution_count": 2,
      "outputs": [
        {
          "output_type": "stream",
          "name": "stdout",
          "text": [
            "Sum : 20\n",
            "Square : 36\n",
            "String : Hello! Python.\n"
          ]
        }
      ]
    }
  ]
}