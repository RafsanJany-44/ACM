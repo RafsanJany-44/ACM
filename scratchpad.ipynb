{
  "cells": [
    {
      "cell_type": "markdown",
      "metadata": {
        "id": "view-in-github",
        "colab_type": "text"
      },
      "source": [
        "<a href=\"https://colab.research.google.com/github/RafsanJany-44/ARC/blob/master/scratchpad.ipynb\" target=\"_parent\"><img src=\"https://colab.research.google.com/assets/colab-badge.svg\" alt=\"Open In Colab\"/></a>"
      ]
    },
    {
      "cell_type": "code",
      "execution_count": null,
      "metadata": {
        "id": "lIYdn1woOS1n",
        "colab": {
          "base_uri": "https://localhost:8080/"
        },
        "outputId": "537615ab-8a32-4426-aa4a-9aeb1d6ec0fb"
      },
      "outputs": [
        {
          "output_type": "stream",
          "name": "stdout",
          "text": [
            "Enter the gross income: 12345.67\n",
            "Enter the number of dependents: 1\n",
            "The income tax is $-130.87\n"
          ]
        }
      ],
      "source": [
        "#2.1\n",
        "\n",
        "# Initialize the constants\n",
        "TAX_RATE = 0.20\n",
        "STANDARD_DEDUCTION = 10000.0\n",
        "DEPENDENT_DEDUCTION = 3000.0\n",
        "#Request the inputs\n",
        "grossIncome = float (input (\"Enter the gross income: \"))\n",
        "numDependents = int (input(\"Enter the number of dependents: \"))\n",
        "#Compute the income tax\n",
        "taxableIncom = grossIncome - STANDARD_DEDUCTION - DEPENDENT_DEDUCTION * numDependents\n",
        "incomeTax = taxableIncom * TAX_RATE\n",
        "#Display the income tax\n",
        "print(\"The income tax is $\"+ str(round(incomeTax,2)))\n"
      ]
    },
    {
      "cell_type": "code",
      "source": [
        "#2.2\n",
        "\n",
        "#Request the inputs\n",
        "edge=int(input(\"Enter the cube's edge: \"))\n",
        "print()\n",
        "\n",
        "# Compute and Display surface area\n",
        "print(\"The surface area is\",6*edge**2, \"square units.\")"
      ],
      "metadata": {
        "colab": {
          "base_uri": "https://localhost:8080/"
        },
        "id": "_AmyfhCnjVDl",
        "outputId": "c2c479d5-f032-4f5d-e2b8-efd021fe3184"
      },
      "execution_count": null,
      "outputs": [
        {
          "output_type": "stream",
          "name": "stdout",
          "text": [
            "Enter the cube's edge: 4\n",
            "\n",
            "The surface area is 96 square units.\n"
          ]
        }
      ]
    },
    {
      "cell_type": "code",
      "source": [
        "#2.3\n",
        "\n",
        "\n",
        "#Request the inputs\n",
        "new_vdo = int(input(\"Enter the number of new videos: \"))\n",
        "old_vdo = int(input(\"Enter the number of old videos: \"))\n",
        "\n",
        "total = float(3*new_vdo+2*old_vdo)\n",
        "print()\n",
        "print(\"The total cost is $\"+str(total))"
      ],
      "metadata": {
        "colab": {
          "base_uri": "https://localhost:8080/"
        },
        "id": "6aS4M0c-3hVD",
        "outputId": "ba634276-4522-473d-906e-30a758cc461d"
      },
      "execution_count": null,
      "outputs": [
        {
          "output_type": "stream",
          "name": "stdout",
          "text": [
            "Enter the number of new videos: 5\n",
            "Enter the number of old videos: 5\n",
            "\n",
            "The total cost is $25.0\n"
          ]
        }
      ]
    },
    {
      "cell_type": "code",
      "source": [
        "#2.4\n",
        "\n",
        "\n",
        "#Request the inputs\n",
        "radius=int(input(\"Radius = \"))\n",
        "\n",
        "print()\n",
        "\n",
        "# Compute and Display Diameter, Circumference, Surface Area, Volume\n",
        "print(\"Diameter     : \", 2*radius)\n",
        "print(\"Circumference: \", 2*radius*3.141592653589793)\n",
        "print(\"Surface area : \", 4*3.141592653589793*radius**2)\n",
        "print(\"Volume       : \", (4/3)*3.141592653589793*radius**3)\n"
      ],
      "metadata": {
        "colab": {
          "base_uri": "https://localhost:8080/"
        },
        "id": "aXz171Yd5lNr",
        "outputId": "2ac2d149-3eb7-4a6d-8780-5ca5300bd22b"
      },
      "execution_count": null,
      "outputs": [
        {
          "output_type": "stream",
          "name": "stdout",
          "text": [
            "Radius = 5\n",
            "\n",
            "Diameter     :  10\n",
            "Circumference:  31.41592653589793\n",
            "Surface area :  314.1592653589793\n",
            "Volume       :  523.5987755982989\n"
          ]
        }
      ]
    },
    {
      "cell_type": "code",
      "source": [
        "#2.5\n",
        "\n",
        "\n",
        "#Request the inputs\n",
        "mass= float(input(\"Mass: \"))\n",
        "velocity = float(input(\"Velocity: \"))\n",
        "\n",
        "\n",
        "print()\n",
        "# Compute and Display momentum\n",
        "print(\"The object's momentum is : \", mass*velocity)"
      ],
      "metadata": {
        "colab": {
          "base_uri": "https://localhost:8080/"
        },
        "id": "BPAyt4v5gjOo",
        "outputId": "d5c8754d-40e8-49c0-d345-8220eb9782e8"
      },
      "execution_count": null,
      "outputs": [
        {
          "output_type": "stream",
          "name": "stdout",
          "text": [
            "Mass: 5\n",
            "Velocity: 2.5\n",
            "\n",
            "The object's momentum is :  12.5\n"
          ]
        }
      ]
    },
    {
      "cell_type": "code",
      "source": [
        "#2.6\n",
        "\n",
        "\n",
        "#Request the inputs\n",
        "mass= float(input(\"Mass: \"))\n",
        "velocity = float(input(\"Velocity: \"))\n",
        "\n",
        "\n",
        "print()\n",
        "\n",
        "# Compute and Display momentum and kinetic energy\n",
        "print(\"The object's momentum is : \", mass*velocity)\n",
        "print(\"The object's kinetic energy is : \", 0.5*mass*velocity*velocity)"
      ],
      "metadata": {
        "colab": {
          "base_uri": "https://localhost:8080/"
        },
        "id": "bliP0u2xh4Hj",
        "outputId": "57418fe3-d221-4263-b949-eb08c1694d06"
      },
      "execution_count": null,
      "outputs": [
        {
          "output_type": "stream",
          "name": "stdout",
          "text": [
            "Mass: 5\n",
            "Velocity: 2.5\n",
            "\n",
            "The object's momentum is :  12.5\n",
            "The object's kinetic energy is :  15.625\n"
          ]
        }
      ]
    },
    {
      "cell_type": "code",
      "source": [
        "#2.7\n",
        "# Compute and Display minutes un a year\n",
        "print(\"The number of minutes in a year is \", (365*24*60))"
      ],
      "metadata": {
        "colab": {
          "base_uri": "https://localhost:8080/"
        },
        "id": "U0_p3t_Oh4D5",
        "outputId": "90fc07fe-5635-488e-ba96-3a3ddda4044e"
      },
      "execution_count": null,
      "outputs": [
        {
          "output_type": "stream",
          "name": "stdout",
          "text": [
            "The number of minutes in a year is  525600\n"
          ]
        }
      ]
    },
    {
      "cell_type": "code",
      "source": [
        "#2.8\n",
        "# Compute and Display Light travels in a year\n",
        "print(\"Light travels\", int(365*24*60*60*3*10e8), \"meters in a year\")"
      ],
      "metadata": {
        "colab": {
          "base_uri": "https://localhost:8080/"
        },
        "id": "1KumntNukjIi",
        "outputId": "e7ea7c2b-7717-424c-aa9f-5c0a8c0099ac"
      },
      "execution_count": null,
      "outputs": [
        {
          "output_type": "stream",
          "name": "stdout",
          "text": [
            "Light travels 94608000000000000 meters in a year\n"
          ]
        }
      ]
    },
    {
      "cell_type": "code",
      "source": [
        "#2.9\n",
        "\n",
        "\n",
        "#Request the inputs\n",
        "km=int(input(\"Enter the number kilometers: \"))\n",
        "\n",
        "# Compute nautical miles\n",
        "naut_mile=((90*60)/10000)*km\n",
        "print()\n",
        "#Display nautical miles\n",
        "print(\"The number of nautical miles is \", naut_mile)"
      ],
      "metadata": {
        "colab": {
          "base_uri": "https://localhost:8080/"
        },
        "id": "AX4_Q4KxbueY",
        "outputId": "76b51e40-811c-466b-b5eb-1bcc0c531028"
      },
      "execution_count": null,
      "outputs": [
        {
          "output_type": "stream",
          "name": "stdout",
          "text": [
            "Enter the number kilometers: 100\n",
            "\n",
            "The number ofnautical miles is  54.0\n"
          ]
        }
      ]
    },
    {
      "cell_type": "code",
      "source": [
        "#2.10\n",
        "\n",
        "\n",
        "#Request the inputs\n",
        "wage = float(input(\"Enter the wage: $\"))\n",
        "reg_hours = float(input(\"Enter the regular hours: \"))\n",
        "overtime_hours = float(input(\"Enter the overtime hours: \"))\n",
        "\n",
        "\n",
        "# Compute total pay\n",
        "total_pay= wage*reg_hours+wage*1.5*overtime_hours\n",
        "\n",
        "print()\n",
        "#Display total pay\n",
        "print(\"The total weekly pay is $\"+str(total_pay))"
      ],
      "metadata": {
        "colab": {
          "base_uri": "https://localhost:8080/"
        },
        "id": "WZE-aoDrhSWj",
        "outputId": "66535822-4c7d-4257-9d75-85c9bafc4fca"
      },
      "execution_count": null,
      "outputs": [
        {
          "output_type": "stream",
          "name": "stdout",
          "text": [
            "Enter the wage: $15.5\n",
            "Enter the regular hours: 40\n",
            "Enter the overtime hours: 12\n",
            "\n",
            "The total weekly pay is $899.0\n"
          ]
        }
      ]
    },
    {
      "cell_type": "code",
      "source": [
        "#3.1\n",
        "\n",
        "\n",
        "#Request the inputs\n",
        "side1 = float(input(\"Enter the first side: \"))\n",
        "side2 = float(input(\"Enter the second side: \"))\n",
        "side3 = float(input(\"Enter the third side: \"))\n",
        "\n",
        "print()\n",
        "\n",
        "if (side1+side2>side3): #applying trianle validity\n",
        "  print('The triangle is equilateral.')\n",
        "else:\n",
        "\n",
        "  print('The triangle is not equilateral.')\n"
      ],
      "metadata": {
        "colab": {
          "base_uri": "https://localhost:8080/"
        },
        "id": "cBaR06E88HzT",
        "outputId": "c29cbb25-b1fa-44fc-deba-6309e0b676ac"
      },
      "execution_count": null,
      "outputs": [
        {
          "output_type": "stream",
          "name": "stdout",
          "text": [
            "Enter the first side: 3\n",
            "Enter the second side: 9\n",
            "Enter the third side: 20\n",
            "\n",
            "The triangle is not equilateral.\n"
          ]
        }
      ]
    },
    {
      "cell_type": "code",
      "source": [
        "#3.2\n",
        "\n",
        "\n",
        "#Request the inputs\n",
        "side1 = float(input(\"Enter the first side: \"))\n",
        "side2 = float(input(\"Enter the second side: \"))\n",
        "side3 = float(input(\"Enter the third side: \"))\n",
        "\n",
        "# selecting the hypotenuse by comparing\n",
        "if (side1 > side2 and side1>side3):\n",
        "  hypotenuse=side1\n",
        "  base=side2\n",
        "  height=side3\n",
        "\n",
        "elif (side2 > side1 and side2 > side3):\n",
        "  hypotenuse=side2\n",
        "  base=side1\n",
        "  height=side3\n",
        "\n",
        "\n",
        "else:\n",
        "  hypotenuse=side3\n",
        "  base=side2\n",
        "  height=side1\n",
        "\n",
        "\n",
        "print()\n",
        "\n",
        "if ((base**2)+(height**2)==(hypotenuse**2)): #recalling Pythagorean theorem\n",
        "  print('The triangle is a right triangle.')\n",
        "else:\n",
        "  print('The triangle is not a right triangle.')\n"
      ],
      "metadata": {
        "colab": {
          "base_uri": "https://localhost:8080/"
        },
        "id": "DZ14S36z9X8c",
        "outputId": "5557e5f9-575f-4046-cb0b-60b7351deabe"
      },
      "execution_count": null,
      "outputs": [
        {
          "output_type": "stream",
          "name": "stdout",
          "text": [
            "Enter the first side: 6\n",
            "Enter the second side: 8\n",
            "Enter the third side: 10\n",
            "\n",
            "The triangle is a right triangle.\n"
          ]
        }
      ]
    },
    {
      "cell_type": "code",
      "source": [
        "#3.3\n",
        "\n",
        "import random\n",
        "import math\n",
        "\n",
        "\n",
        "#Request the inputs\n",
        "smaller = int(input(\"Enter the smaller number: \"))\n",
        "larger  = int(input(\"Enter the larger number: \"))\n",
        "\n",
        "\n",
        "x = smaller\n",
        "y = larger\n",
        "\n",
        "myNumber = random.randint(smaller,larger)\n",
        "count = 0\n",
        "#MaxGus = round(math.log(larger - smaller + 1, 2)) #settin the max guesses \n",
        "\n",
        "\n",
        "while True:\n",
        "  count+=1\n",
        "  print(x,y)\n",
        "\n",
        "  print(\"Your number is\",myNumber)\n",
        "\n",
        "  sign = input(\"Enter =, <, or >:\")\n",
        "\n",
        "  if sign=='=':\n",
        "    print(\"Horray, I've got it in\",count,\"tries.\")\n",
        "    break\n",
        "  \n",
        "  elif sign=='<':\n",
        "    y = myNumber-1\n",
        "  \n",
        "  elif sign=='>':\n",
        "    x = myNumber+1\n",
        "  \n",
        "  if x >= y:\n",
        "    print(\"I'm out of guesses, and you cheated!\")\n",
        "    break\n",
        "  #if count==MaxGus:\n",
        "  #  print(\"I'm out of guesses, and you cheated!\")\n",
        "  #  break\n",
        "  myNumber = random.randint(x,y)\n",
        "\n",
        "\n",
        "\n",
        "\n",
        "\n",
        "  \n",
        "\n",
        "\n"
      ],
      "metadata": {
        "id": "Dk2X3g1OAZXb",
        "outputId": "6671fd79-552e-4f33-8cd2-1cb31a3d5bd6",
        "colab": {
          "base_uri": "https://localhost:8080/"
        }
      },
      "execution_count": null,
      "outputs": [
        {
          "output_type": "stream",
          "name": "stdout",
          "text": [
            "Enter the smaller number: 0\n",
            "Enter the larger number: 10\n",
            "0 10\n",
            "Your number is 5\n",
            "Enter =, <, or >:<\n",
            "0 4\n",
            "Your number is 1\n",
            "Enter =, <, or >:<\n",
            "I'm out of guesses, and you cheated!\n"
          ]
        }
      ]
    },
    {
      "cell_type": "code",
      "source": [
        "import random\n",
        "import math\n",
        "# Taking Inputs\n",
        "lower = int(input(\"Enter Lower bound:- \"))\n",
        "\n",
        "# Taking Inputs\n",
        "upper = int(input(\"Enter Upper bound:- \"))\n",
        "\n",
        "# generating random number between\n",
        "# the lower and upper\n",
        "x = random.randint(lower, upper)\n",
        "print(\"\\n\\tYou've only \",\n",
        "\tround(math.log(upper - lower + 1, 2)),\n",
        "\t\" chances to guess the integer!\\n\")\n",
        "\n",
        "# Initializing the number of guesses.\n",
        "count = 0\n",
        "\n",
        "# for calculation of minimum number of\n",
        "# guesses depends upon range\n",
        "while count < math.log(upper - lower + 1, 2):\n",
        "\tcount += 1\n",
        "\n",
        "\t# taking guessing number as input\n",
        "\tguess = int(input(\"Guess a number:- \"))\n",
        "\n",
        "\t# Condition testing\n",
        "\tif x == guess:\n",
        "\t\tprint(\"Congratulations you did it in \",\n",
        "\t\t\tcount, \" try\")\n",
        "\t\t# Once guessed, loop will break\n",
        "\t\tbreak\n",
        "\telif x > guess:\n",
        "\t\tprint(\"You guessed too small!\")\n",
        "\telif x < guess:\n",
        "\t\tprint(\"You Guessed too high!\")\n",
        "\n",
        "# If Guessing is more than required guesses,\n",
        "# shows this output.\n",
        "if count >= math.log(upper - lower + 1, 2):\n",
        "\tprint(\"\\nThe number is %d\" % x)\n",
        "\tprint(\"\\tBetter Luck Next time!\")\n",
        "\n",
        "# Better to use This source Code on pycharm!\n"
      ],
      "metadata": {
        "colab": {
          "base_uri": "https://localhost:8080/"
        },
        "id": "7tkLxQY_w9Az",
        "outputId": "2427db05-1c55-4f22-da6c-2d58ba3881d2"
      },
      "execution_count": null,
      "outputs": [
        {
          "output_type": "stream",
          "name": "stdout",
          "text": [
            "Enter Lower bound:- 0\n",
            "Enter Upper bound:- 10\n",
            "\n",
            "\tYou've only  3  chances to guess the integer!\n",
            "\n",
            "Guess a number:- 5\n",
            "You guessed too small!\n",
            "Guess a number:- 9\n",
            "Congratulations you did it in  2  try\n"
          ]
        }
      ]
    },
    {
      "cell_type": "code",
      "source": [
        "import random\n",
        "import math\n",
        "smaller_number = int (input (\"Enter the smaller_number number: \"))\n",
        "larger_number = int(input (\"Enter the larger_number number: \"))\n",
        "the_number = random.randint (smaller_number, larger_number)\n",
        "max_guess = math.ceil(math.log(larger_number - smaller_number))\n",
        "count = 0\n",
        "while count != (max_guess, the_number):\n",
        "  count += 1\n",
        "  userNumber = int ( (smaller_number+larger_number)/2)\n",
        "  print(\"Your number is:\", userNumber)\n",
        "  dis = input(\"Enter =, <, or > : \")\n",
        "  if dis ==  \">\":\n",
        "    smaller_number = userNumber + 1\n",
        "  elif dis ==\"<\":\n",
        "    larger_number = userNumber - 1\n",
        "  elif dis == \"=\":\n",
        "    print (\"Hooray, I've got it in\", count, \"tries!\")\n",
        "    break\n",
        "  if count == 5:\n",
        "    print(\"I'm out of guesses, and you cheated\")\n",
        "    break"
      ],
      "metadata": {
        "id": "x2mBAMwBV1DP"
      },
      "execution_count": null,
      "outputs": []
    },
    {
      "cell_type": "code",
      "source": [
        "#3.4\n",
        "\n",
        "\n",
        "#Request the inputs\n",
        "height= float(input(\"Enter the height from which the ball is droped: \"))\n",
        "bounch_index = float(input(\"Enter the bounciness index of the ball: \"))\n",
        "number_of_bouncing = int(input(\"Enter the number of times the ball is allowed to continue bouncing: \"))\n",
        "\n",
        "\n",
        "#Initialize total distance\n",
        "total_distance=0\n",
        "\n",
        "for i in range(number_of_bouncing):\n",
        "  # setting the nunber of bounching\n",
        "  new_height=height*bounch_index\n",
        "\n",
        "  # setting the height for bouner each\n",
        "  total_distance=total_distance+height+new_height \n",
        "\n",
        "  #setting new height into height\n",
        "  height=new_height\n",
        "\n",
        "print(\"Total distacne traveled:\",total_distance,\"units\")\n",
        "\n",
        "\n"
      ],
      "metadata": {
        "colab": {
          "base_uri": "https://localhost:8080/"
        },
        "id": "Yj9NAe9CeILF",
        "outputId": "8aeed0b4-f424-4cd0-b012-c03ab2b2d568"
      },
      "execution_count": null,
      "outputs": [
        {
          "output_type": "stream",
          "name": "stdout",
          "text": [
            "Enter the height from which the ball is droped: 25\n",
            "Enter the bounciness index of the ball: .5\n",
            "enter the number of times the ball is allowed to continue bouncing: 3\n",
            "Total distacne traveled: 65.625 units\n"
          ]
        }
      ]
    },
    {
      "cell_type": "code",
      "source": [
        "\n",
        "#3.5\n",
        "\n",
        "#Request the inputs\n",
        "number_of_organisms = int(input(\"Enter the initial number of organisms: \"))\n",
        "rate_of_growth = float(input(\"Enter the rate of growth [a real number > 1]: \"))\n",
        "achive_hours = int(input(\"Enter the number of hours to achieve the rate of growth: \"))\n",
        "total_hours = int(input(\"Enter the total hours of growth: \"))\n",
        "\n",
        "\n",
        "# Compute the total population\n",
        "p= total_hours/achive_hours\n",
        "total_population=number_of_organisms*((rate_of_growth**p))\n",
        "\n",
        "print(\"The total population is\",total_population)"
      ],
      "metadata": {
        "id": "GR9DXeYKihAP",
        "outputId": "77946b83-7c69-43f7-dabd-3438b2507c94",
        "colab": {
          "base_uri": "https://localhost:8080/"
        }
      },
      "execution_count": null,
      "outputs": [
        {
          "output_type": "stream",
          "name": "stdout",
          "text": [
            "Enter the initial number of organisms: 500\n",
            "Enter the rate of growth [a real number > 1]: 2\n",
            "Enter the number of hours to achieve the rate of growth: 6\n",
            "Enter the total hours of growth: 12\n",
            "The total population is 2000.0\n"
          ]
        }
      ]
    },
    {
      "cell_type": "code",
      "source": [
        "#3.6\n",
        "\n",
        "#Request the inputs\n",
        "itar = int(input('Enter the number of iterations: '))\n",
        "\n",
        "pi=0\n",
        "j=1\n",
        "\n",
        "# Compute the value of pie\n",
        "for i in range(itar):\n",
        "  \n",
        "  pi=pi+((1/j)*((-1)**i))\n",
        "  j+=2\n",
        "\n",
        "print(\"The approximation of pi is\",pi*4)\n",
        "\n"
      ],
      "metadata": {
        "id": "LGcg9R0yuK7V",
        "colab": {
          "base_uri": "https://localhost:8080/"
        },
        "outputId": "b02400a4-287d-4ffa-84c6-a6dee71e3e58"
      },
      "execution_count": null,
      "outputs": [
        {
          "output_type": "stream",
          "name": "stdout",
          "text": [
            "Enter the number of iterations: 5\n",
            "The approximation of pi is 3.3396825396825403\n"
          ]
        }
      ]
    },
    {
      "cell_type": "code",
      "source": [
        "#3.7\n",
        "\n",
        "starting_sal = float(input(\"Enter the starting salary: $\"))\n",
        "annual_increament = float(input(\"Enter the annual % increase: \"))\n",
        "years = int(input(\"Enter the number of years: \"))\n",
        "\n",
        "\n",
        "print()\n",
        "print(\"{:<10} {:<10}\".format(\"Year\",\"Salary\"))\n",
        "print(\"------------------\")\n",
        "for i in range(1,years+1):\n",
        "  \n",
        "   print(\"{:<10} {:<10}\".format(i,round(starting_sal,2)))\n",
        "\n",
        "   starting_sal = starting_sal + starting_sal*(annual_increament/100)\n",
        "\n",
        "\n"
      ],
      "metadata": {
        "id": "zSQjS3yruIzV",
        "colab": {
          "base_uri": "https://localhost:8080/"
        },
        "outputId": "ce8d214a-a8ce-43e4-aa5b-2549b2d60b51"
      },
      "execution_count": null,
      "outputs": [
        {
          "output_type": "stream",
          "name": "stdout",
          "text": [
            "Enter the starting salary: $30000\n",
            "Enter the annual % increase: 2\n",
            "Enter the number of years: 10\n",
            "\n",
            "Year       Salary    \n",
            "------------------\n",
            "1          30000.0   \n",
            "2          30600.0   \n",
            "3          31212.0   \n",
            "4          31836.24  \n",
            "5          32472.96  \n",
            "6          33122.42  \n",
            "7          33784.87  \n",
            "8          34460.57  \n",
            "9          35149.78  \n",
            "10         35852.78  \n"
          ]
        }
      ]
    },
    {
      "cell_type": "code",
      "source": [
        "#3.8\n",
        "\n",
        "#Request the inputs\n",
        "small = int(input(\"Enter the smaller number: \"))\n",
        "large = int(input(\"Enter the larger number: \"))\n",
        "\n",
        "\n",
        "while(small!=0):\n",
        "    #recalling Euclid's algorithm\n",
        "    remainder = large%small\n",
        "    large = small\n",
        "    small = remainder\n",
        "    \n",
        "print(\"The greatest common divisor is\",large)\n"
      ],
      "metadata": {
        "id": "hhdHbIWVVNUT"
      },
      "execution_count": null,
      "outputs": []
    },
    {
      "cell_type": "code",
      "source": [
        "#3.9\n",
        "\n",
        "\n",
        "#initialize \n",
        "theSum=0.0\n",
        "#initialize the count, which will be used for computing average\n",
        "count=0\n",
        "\n",
        "while True:\n",
        "    data = input(\"Enter a number or press Enter to quit: \")\n",
        "    if data=='':\n",
        "        break\n",
        "    number = float(data)\n",
        "    theSum += number\n",
        "    count += 1\n",
        "    \n",
        "\n",
        "print(\"The sum is\", theSum)\n",
        "print(\"The aerage is\",theSum/count)"
      ],
      "metadata": {
        "id": "IpdAFiJSVReb"
      },
      "execution_count": null,
      "outputs": []
    },
    {
      "cell_type": "code",
      "source": [
        "#3.10\n",
        "\n",
        "\n",
        "p_price = float(input(\"Enter the purchase price: \"))\n",
        "\n",
        "month = 0\n",
        "\n",
        "\n",
        "#down payment is 10%\n",
        "down_payment= (p_price * 0.1)\n",
        "\n",
        "starting_balance = p_price - down_payment\n",
        "\n",
        "#compute monthly payment\n",
        "monthly_payment = (p_price-down_payment)*(0.05)\n",
        "\n",
        "print()\n",
        "print(\"{:<10} {:<20} {:<20} {:<20} {:<20} {:<20}\".format(\"Month\", \"Starting Balance\", \"Interest to Pay\", \"Principal to Pay\", \"Payment\", \"Ending Balance\"))\n",
        "\n",
        "while True:\n",
        "\n",
        "  month+=1\n",
        "  interest_to_pay = starting_balance * (0.12/12)             \n",
        "  principal_to_pay = monthly_payment - interest_to_pay  #monthly payment = 5% of parchase price\n",
        "  ending_balance = starting_balance - principal_to_pay\n",
        "\n",
        "  print(\"{:<15} {:<20} {:<20} {:<16} {:<22} {:<20}\".format(month,\"{:.2f}\".format(starting_balance,2),\"{:.2f}\".format(interest_to_pay,2), \"{:.2f}\".format(principal_to_pay,2), \"{:.2f}\".format(monthly_payment,2),\"{:.2f}\".format(ending_balance,2)))\n",
        "\n",
        "  if ending_balance <= monthly_payment:\n",
        "    print(\"{:<15} {:<20} {:<20} {:<16} {:<22} {:<20}\".format(month+1,\"{:.2f}\".format(ending_balance,2), 0.00,\"{:.2f}\".format(ending_balance,2), \"{:.2f}\".format(ending_balance,2),0.00))\n",
        "    break\n",
        "  \n",
        "  starting_balance = ending_balance\n",
        "\n"
      ],
      "metadata": {
        "colab": {
          "base_uri": "https://localhost:8080/"
        },
        "id": "znjFkhSxNSHd",
        "outputId": "28cad69a-4734-4aa2-fd85-f71349a5f63e"
      },
      "execution_count": null,
      "outputs": [
        {
          "output_type": "stream",
          "name": "stdout",
          "text": [
            "Enter the purchase price: 200\n",
            "\n",
            "Month      Starting Balance     Interest to Pay      Principal to Pay     Payment              Ending Balance      \n",
            "1               180.00               1.80                 7.20             9.00                   172.80              \n",
            "2               172.80               1.73                 7.27             9.00                   165.53              \n",
            "3               165.53               1.66                 7.34             9.00                   158.18              \n",
            "4               158.18               1.58                 7.42             9.00                   150.77              \n",
            "5               150.77               1.51                 7.49             9.00                   143.27              \n",
            "6               143.27               1.43                 7.57             9.00                   135.71              \n",
            "7               135.71               1.36                 7.64             9.00                   128.06              \n",
            "8               128.06               1.28                 7.72             9.00                   120.34              \n",
            "9               120.34               1.20                 7.80             9.00                   112.55              \n",
            "10              112.55               1.13                 7.87             9.00                   104.67              \n",
            "11              104.67               1.05                 7.95             9.00                   96.72               \n",
            "12              96.72                0.97                 8.03             9.00                   88.69               \n",
            "13              88.69                0.89                 8.11             9.00                   80.57               \n",
            "14              80.57                0.81                 8.19             9.00                   72.38               \n",
            "15              72.38                0.72                 8.28             9.00                   64.10               \n",
            "16              64.10                0.64                 8.36             9.00                   55.74               \n",
            "17              55.74                0.56                 8.44             9.00                   47.30               \n",
            "18              47.30                0.47                 8.53             9.00                   38.77               \n",
            "19              38.77                0.39                 8.61             9.00                   30.16               \n",
            "20              30.16                0.30                 8.70             9.00                   21.46               \n",
            "21              21.46                0.21                 8.79             9.00                   12.68               \n",
            "22              12.68                0.13                 8.87             9.00                   3.80                \n",
            "23              3.80                 0.0                  3.80             3.80                   0.0                 \n"
          ]
        }
      ]
    },
    {
      "cell_type": "code",
      "source": [
        "#4.1\n",
        "\n",
        "message = input(\"Enter a message: \")\n",
        "distence = int(input(\"Enter the distance value: \"))\n",
        "\n",
        "new_msg=''\n",
        "\n",
        "for i in message:\n",
        "  new_msg = new_msg + chr(ord(i)+distence)\n",
        "\n",
        "print()\n",
        "print(new_msg)"
      ],
      "metadata": {
        "id": "h8eoCHrDmh8l",
        "colab": {
          "base_uri": "https://localhost:8080/"
        },
        "outputId": "e074fc29-b55a-43c8-a741-2eee7b6cdf89"
      },
      "execution_count": null,
      "outputs": [
        {
          "output_type": "stream",
          "name": "stdout",
          "text": [
            "Enter a message: Hello world!\n",
            "Enter the distance value: 4\n",
            "\n",
            "Lipps${svph%\n"
          ]
        }
      ]
    },
    {
      "cell_type": "code",
      "source": [
        "#4.2\n",
        "\n",
        "text = input(\"Enter the coded text: \")\n",
        "distence = int(input(\"Enter the distance value: \"))\n",
        "\n",
        "msg=''\n",
        "\n",
        "for i in text:\n",
        "  msg = msg + chr(ord(i)-distence)\n",
        "\n",
        "print()\n",
        "print(msg)"
      ],
      "metadata": {
        "colab": {
          "base_uri": "https://localhost:8080/"
        },
        "id": "EpuwUfRqe9Sl",
        "outputId": "004d20e9-6e43-4220-c135-6112e89c00f2"
      },
      "execution_count": null,
      "outputs": [
        {
          "output_type": "stream",
          "name": "stdout",
          "text": [
            "Enter the coded text: Lipps${svph%\n",
            "Enter the distance value: 4\n",
            "\n",
            "Hello world!\n"
          ]
        }
      ]
    },
    {
      "cell_type": "code",
      "source": [
        "#4.3 project_1.py\n",
        "\n",
        "file_input = input(\"Enter the input file name: \")\n",
        "file_output = input(\"Enter the output file name: \")\n",
        "distence = int(input(\"Enter the distance value: \"))\n",
        "\n",
        "with open(file_input,'r') as input_file, open(file_output+\".txt\",'a') as output_file:\n",
        "      \n",
        "    # read content from first file\n",
        "    for line in input_file:\n",
        "        for i in line:\n",
        "             # append content to second file\n",
        "             output_file.write(chr(ord(i)+distence))"
      ],
      "metadata": {
        "colab": {
          "base_uri": "https://localhost:8080/"
        },
        "id": "LxZBF9jHpVYw",
        "outputId": "2c3bf78a-4ac1-46a8-899b-5cb875cdbf25"
      },
      "execution_count": null,
      "outputs": [
        {
          "name": "stdout",
          "output_type": "stream",
          "text": [
            "Enter the input file name: hello.txt\n",
            "Enter the output file name: a\n",
            "Enter the distance value: 3\n"
          ]
        }
      ]
    },
    {
      "cell_type": "code",
      "source": [
        "#decrypt\n",
        "\n",
        "\n",
        "file_input = input(\"Enter the input file name: \")\n",
        "file_output = input(\"Enter the output file name: \")\n",
        "distance = int(input(\"Enter the distance value: \"))\n",
        "\n",
        "with open(file_output, \"w\") as output_file:\n",
        "    pass\n",
        "\n",
        "with open(file_input, \"r\") as input_file:\n",
        "    \n",
        "    input_file_content = input_file.read(1)\n",
        "    \n",
        "    while len(input_file_content) > 0:\n",
        "\n",
        "        content = ord(input_file_content)\n",
        "        cipher = content - distance\n",
        "\n",
        "        with open(file_output, \"a\") as output_file:\n",
        "            output_file.write(chr(cipher))\n",
        "        \n",
        "        input_file_content = input_file.read(1)"
      ],
      "metadata": {
        "colab": {
          "base_uri": "https://localhost:8080/"
        },
        "id": "JIeSkK989V0j",
        "outputId": "da19db32-e276-4646-c225-9ab669228cf6"
      },
      "execution_count": null,
      "outputs": [
        {
          "name": "stdout",
          "output_type": "stream",
          "text": [
            "Enter the input file name: hello.txt\n",
            "Enter the output file name: a..txt\n",
            "Enter the distance value: 3\n"
          ]
        }
      ]
    },
    {
      "cell_type": "code",
      "source": [
        "#encrypt\n",
        "\n",
        "file_input = input(\"Enter the input file name: \")\n",
        "file_output = input(\"Enter the output file name: \")\n",
        "distance = int(input(\"Enter the distance value: \"))\n",
        "\n",
        "\n",
        "\n",
        "with open(file_output, \"w\") as output_file:\n",
        "    pass\n",
        "\n",
        "with open(file_input, \"r\") as input_file:\n",
        "    \n",
        "    input_file_content = input_file.read(1)\n",
        "    \n",
        "    while len(input_file_content) > 0:\n",
        "\n",
        "        content = ord(input_file_content)\n",
        "        cipher = content + distance\n",
        "\n",
        "        with open(file_output, \"a\") as output_file:\n",
        "            output_file.write(chr(cipher))\n",
        "        \n",
        "        input_file_content = input_file.read(1)\n"
      ],
      "metadata": {
        "colab": {
          "base_uri": "https://localhost:8080/"
        },
        "id": "oDaIbJ8a_8Ig",
        "outputId": "fa26761c-6518-463b-b293-26fbc0d8c66f"
      },
      "execution_count": null,
      "outputs": [
        {
          "name": "stdout",
          "output_type": "stream",
          "text": [
            "Enter the input file name: a..txt\n",
            "Enter the output file name: k.txt\n",
            "Enter the distance value: 3\n"
          ]
        }
      ]
    },
    {
      "cell_type": "code",
      "source": [
        "ord(\"h\")"
      ],
      "metadata": {
        "colab": {
          "base_uri": "https://localhost:8080/"
        },
        "id": "OhkzQaCwRTSQ",
        "outputId": "48cc2eee-8edd-44c3-a62b-5053c50ab8ca"
      },
      "execution_count": null,
      "outputs": [
        {
          "output_type": "execute_result",
          "data": {
            "text/plain": [
              "104"
            ]
          },
          "metadata": {},
          "execution_count": 5
        }
      ]
    },
    {
      "cell_type": "code",
      "source": [],
      "metadata": {
        "id": "DxuT7xqN_hSN"
      },
      "execution_count": null,
      "outputs": []
    },
    {
      "cell_type": "code",
      "source": [
        "#4.3 project_2.py\n",
        "\n",
        "file_input = input(\"Enter the input file name: \")\n",
        "file_output = input(\"Enter the output file name: \")\n",
        "distence = input(\"Enter the distance value: \")\n",
        "\n",
        "with open(file_input,'r') as input_file, open(file_output+\".txt\",'a') as output_file:\n",
        "      \n",
        "    # read content from first file\n",
        "    for line in input_file:\n",
        "        for i in line:\n",
        "             # append content to second file\n",
        "             output_file.write(chr(ord(i)-distence))"
      ],
      "metadata": {
        "id": "fK637b6VpbqW"
      },
      "execution_count": null,
      "outputs": []
    },
    {
      "cell_type": "code",
      "source": [
        "#4.4 octalToDecimal.py\n",
        "\n",
        "bstring = input (\"Enter a string of octal digits: \")\n",
        "\n",
        "decimal=0\n",
        "\n",
        "exponent = len(bstring)-1\n",
        "\n",
        "for digit in bstring:\n",
        "  \n",
        "  decimal = decimal + int (digit) * 8 ** exponent\n",
        "  exponent = exponent- 1\n",
        "\n",
        "print (\"The integer value is\", decimal)"
      ],
      "metadata": {
        "colab": {
          "base_uri": "https://localhost:8080/"
        },
        "id": "6Ko-hPFUrmi-",
        "outputId": "8f0a3378-348a-4e02-901f-672cb5d3342d"
      },
      "execution_count": null,
      "outputs": [
        {
          "output_type": "stream",
          "name": "stdout",
          "text": [
            "Enter a string of octal digits: 234\n",
            "The integer value is 156\n"
          ]
        }
      ]
    },
    {
      "cell_type": "code",
      "source": [
        "#4.4 decimalToOctal.py\n",
        "\n",
        "decimal = int(input (\"Enter a decimal integer: \"))\n",
        "\n",
        "\n",
        "\n",
        "oct=''\n",
        "\n",
        "\n",
        "print()\n",
        "print (\"{:<10} {:<10} {:<10}\".format('Quotient','Remainder','Octal'))\n",
        "while True:\n",
        "\n",
        "  quotient = int(decimal/8)\n",
        "  remainder = decimal%8\n",
        "  oct = oct + str(remainder)\n",
        "\n",
        "  #revesring \n",
        "  reverse_oct = oct[::-1]\n",
        "  \n",
        "  print (\"  \",\"{:<10} {:<8} {:<5}\".format(str(quotient),str(remainder),reverse_oct))\n",
        "  \n",
        "  decimal = quotient\n",
        "\n",
        "  if quotient==0:\n",
        "    break\n",
        "\n",
        "print()\n",
        "print (\"The octal representation is\",reverse_oct)"
      ],
      "metadata": {
        "colab": {
          "base_uri": "https://localhost:8080/"
        },
        "id": "rCF3d0MTxNU1",
        "outputId": "c48b4340-3472-421d-cd5c-1982ff12ae5f"
      },
      "execution_count": null,
      "outputs": [
        {
          "output_type": "stream",
          "name": "stdout",
          "text": [
            "Enter a decimal integer: 27\n",
            "\n",
            "Quotient   Remainder  Octal     \n",
            "   3          3        3    \n",
            "   0          3        33   \n",
            "\n",
            "The octal representation is 33\n"
          ]
        }
      ]
    },
    {
      "cell_type": "code",
      "source": [
        "#4.5 shiftLeft.py\n",
        "\n",
        "string = input(\"Enter a string of bits: \")\n",
        "\n",
        "#string catenation from index 1 to rest and adding the element of index 0 in right side\n",
        "left_shift = string[1:] + string[0]\n",
        "\n",
        "print()\n",
        "print(left_shift)"
      ],
      "metadata": {
        "colab": {
          "base_uri": "https://localhost:8080/"
        },
        "id": "0UtKHaS83adA",
        "outputId": "b45ccafe-41f9-4885-a792-7031b026b845"
      },
      "execution_count": null,
      "outputs": [
        {
          "output_type": "stream",
          "name": "stdout",
          "text": [
            "Enter a string of bits: Hello world!\n",
            "\n",
            "ello world!H\n"
          ]
        }
      ]
    },
    {
      "cell_type": "code",
      "source": [
        "#4.5 shiftRight.py\n",
        "\n",
        "string = input(\"Enter a string of bits: \")\n",
        "\n",
        "#string catenation from index 0 to index len(string)-1 and adding the element of index len(string)-1 in left side\n",
        "right_shift = string[len(string)-1] + string[:len(string)-1] \n",
        "\n",
        "print()\n",
        "print(right_shift)"
      ],
      "metadata": {
        "colab": {
          "base_uri": "https://localhost:8080/"
        },
        "id": "GMTqvrIs6e8U",
        "outputId": "60787aa1-a95b-4dde-ceee-52d249ef7786"
      },
      "execution_count": null,
      "outputs": [
        {
          "output_type": "stream",
          "name": "stdout",
          "text": [
            "Enter a string of bits: Hello world!\n",
            "\n",
            "!Hello world\n"
          ]
        }
      ]
    },
    {
      "cell_type": "code",
      "source": [
        "#4.6\n",
        "\n",
        "#function to convert decimal to binary\n",
        "def DeciToBin(decimal):\n",
        "  bin=''\n",
        "  while True:\n",
        "\n",
        "    quotient = int(decimal/2)\n",
        "    remainder = decimal%2\n",
        "    bin = bin + str(remainder)\n",
        "\n",
        "    #revesring \n",
        "    reverse_oct = bin[::-1]\n",
        "    decimal = quotient\n",
        "    if quotient==0:\n",
        "      break\n",
        "\n",
        "  return reverse_oct\n",
        "\n",
        "\n",
        "#function to left shift 1 digit\n",
        "def leftShift(string):\n",
        "  left_shift =  string[1:] + string[0]\n",
        "\n",
        "  return left_shift\n",
        "\n",
        "\n",
        "\n",
        "\n",
        "\n",
        "\n",
        "\n",
        "#Request the inputs\n",
        "msg = input(\"Enter a message: \")\n",
        "\n",
        "msg_encrpt_bin = \"\"\n",
        "\n",
        "for i in msg:\n",
        "  msg_encrpt_bin = msg_encrpt_bin + leftShift(DeciToBin(ord(i)+1)) +\" \"\n",
        "\n",
        "print()\n",
        "print(msg_encrpt_bin)"
      ],
      "metadata": {
        "colab": {
          "base_uri": "https://localhost:8080/"
        },
        "id": "mWCZkMRyFLvV",
        "outputId": "0b9ef6e9-f289-45bd-f0cc-342bc34c6839"
      },
      "execution_count": null,
      "outputs": [
        {
          "output_type": "stream",
          "name": "stdout",
          "text": [
            "Enter a message: Hello world!\n",
            "\n",
            "0010011 1001101 1011011 1011011 1100001 000011 1110001 1100001 1100111 1011011 1001011 000101 \n"
          ]
        }
      ]
    },
    {
      "cell_type": "code",
      "source": [
        "#4.7\n",
        "\n",
        "#function to convert  binary to decimal\n",
        "\n",
        "def binToDeci(bstring):\n",
        "  decimal=0\n",
        "\n",
        "  exponent = len(bstring)-1\n",
        "\n",
        "  for digit in bstring:\n",
        "    \n",
        "    decimal = decimal + int (digit) * 2 ** exponent\n",
        "    exponent = exponent- 1\n",
        "\n",
        "  return decimal\n",
        "\n",
        "print(binToDeci(\"11\"))\n",
        "\n",
        "#function to right shift 1 digit\n",
        "def rightShift(string):\n",
        "  right_shift = string[len(string)-1] + string[:len(string)-1] \n",
        "\n",
        "  return right_shift\n",
        "\n",
        "\n",
        "\n",
        "\n",
        "\n",
        "\n",
        "\n",
        "#Request the inputs\n",
        "text = input(\"Enter the coded text: \")\n",
        "\n",
        "#split the binary term by space\n",
        "coded_text = list(text.split(\" \"))\n",
        "\n",
        "msg = \"\"\n",
        "\n",
        "for i in coded_text:\n",
        "\n",
        "  orginal = binToDeci(rightShift(i))\n",
        "\n",
        "  msg = msg + chr(orginal-1)\n",
        "\n",
        "\n",
        "\n",
        "print()\n",
        "print(msg)"
      ],
      "metadata": {
        "colab": {
          "base_uri": "https://localhost:8080/"
        },
        "id": "7ZOz_DEzK-Ng",
        "outputId": "901d5d57-42e6-4511-b174-0a0dbaad3e4c"
      },
      "execution_count": null,
      "outputs": [
        {
          "output_type": "stream",
          "name": "stdout",
          "text": [
            "3\n",
            "Enter the coded text: 0010011 1001101 1011011 1011011 1100001 000011 1110001 1100001 1100111 1011011 1001011 000101\n",
            "\n",
            "Hello world!\n"
          ]
        }
      ]
    },
    {
      "cell_type": "code",
      "source": [
        "#4.8\n",
        "\n",
        "\n",
        "file_input = input(\"Enter the input file name: \")\n",
        "file_output = input(\"Enter the output file name: \")\n",
        "\n",
        "with open(file_input,'r') as input_file, open(file_output,'a') as output_file:\n",
        "      \n",
        "    # read content from first file\n",
        "    for line in input_file:\n",
        "             output_file.write(line)"
      ],
      "metadata": {
        "colab": {
          "base_uri": "https://localhost:8080/"
        },
        "id": "EUlaXtIKLwqz",
        "outputId": "9574e914-ea03-400f-c7c6-88be2d6e08df"
      },
      "execution_count": null,
      "outputs": [
        {
          "name": "stdout",
          "output_type": "stream",
          "text": [
            "Enter the input file name: hello.txt\n",
            "Enter the output file name: copy.txt\n"
          ]
        }
      ]
    },
    {
      "cell_type": "code",
      "source": [
        "file_input = input(\"Enter the input file name: \")\n",
        "file_output = input(\"Enter the output file name: \")\n",
        "\n",
        "\n",
        "f1=open(file_input,\"r\")\n",
        "\n",
        "f2=open(file_output,\"w+\")\n",
        "\n",
        "content=f1.read()\n",
        "\n",
        "f2.write(content)\n",
        "\n",
        "f1.close()\n",
        "f2.close()"
      ],
      "metadata": {
        "colab": {
          "base_uri": "https://localhost:8080/"
        },
        "id": "oO_5kBYTgzdR",
        "outputId": "3fa63d97-e020-4f47-f6a1-1ac9368cefe4"
      },
      "execution_count": null,
      "outputs": [
        {
          "name": "stdout",
          "output_type": "stream",
          "text": [
            "enter the input filename with extension hello..txt\n",
            "enter the output filename with extension a.txt\n"
          ]
        }
      ]
    },
    {
      "cell_type": "code",
      "source": [
        "# 4.9 numberlines.py\n",
        "\n",
        "file_input = input(\"Enter the input file name: \")\n",
        "file_output = input(\"Enter the output file name: \")\n",
        "\n",
        "with open(file_input,'r') as input_file, open(file_output,'a') as output_file:\n",
        "\n",
        "    line_count = 1\n",
        "    # read content from first file\n",
        "    for line in input_file:\n",
        "          output_file.write(str(line_count)+\">  \"+line)\n",
        "          line_count += 1"
      ],
      "metadata": {
        "id": "-P-ioE3JQIxB",
        "colab": {
          "base_uri": "https://localhost:8080/"
        },
        "outputId": "a7b4f9de-e287-4835-c1bb-b68d129ea0c2"
      },
      "execution_count": null,
      "outputs": [
        {
          "name": "stdout",
          "output_type": "stream",
          "text": [
            "Enter the input file name: hello.txt\n",
            "Enter the output file name: a.txt\n"
          ]
        }
      ]
    },
    {
      "cell_type": "code",
      "source": [
        "'''file_input = input(\"Enter the input file name: \")\n",
        "file_output = input(\"Enter the output file name: \")\n",
        "\n",
        "with open(file_input, 'r') as f, open(file_output, 'w') as w:\n",
        "    line_count = 1\n",
        "    for line in f:\n",
        "        number += 1\n",
        "        w.write('{:>4}> {}'.format(line_count, line))'''\n",
        "\n",
        " \n",
        "file_input = input(\"Enter the input file name: \")\n",
        "file_output = input(\"Enter the output file name: \")\n",
        "\n",
        "\n",
        "f1=open(file_input,\"r\")\n",
        "\n",
        "f2=open(file_output,\"w+\")\n",
        "\n",
        "content=f1.read()\n",
        "print(content)\n",
        "\n",
        "s=\"\"\n",
        "count = 0\n",
        "for i in content:\n",
        "  s= s+i\n",
        "  if i == \"\\n\":\n",
        "    count +=1\n",
        "    f2.write('{:>4}> {}'.format(count, s))\n",
        "    s=\"\"\n",
        "\n",
        "if count>0:\n",
        "  count += 1\n",
        "  f2.write('{:>4}> {}'.format(count, s))\n",
        "    \n",
        "\n",
        "f1.close()\n",
        "f2.close()"
      ],
      "metadata": {
        "colab": {
          "base_uri": "https://localhost:8080/"
        },
        "id": "8rdbr2xekO4a",
        "outputId": "677f0664-bdf6-4205-e78b-bba688da37c7"
      },
      "execution_count": null,
      "outputs": [
        {
          "output_type": "stream",
          "name": "stdout",
          "text": [
            "Enter the input file name: copy.txt\n",
            "Enter the output file name: past.txt\n",
            "hello orld\n",
            "this my ower\n",
            "who are you\n"
          ]
        }
      ]
    },
    {
      "cell_type": "code",
      "source": [
        "# 4.10 dif.py\n",
        "\n",
        "file_input = input(\"Enter the input file name: \")\n",
        "file_output = input(\"Enter the output file name: \")\n",
        "\n",
        "\n",
        "f1=open(file_input,\"r\")\n",
        "f2=open(file_output,\"r\")\n",
        "\n",
        "content1=f1.read()\n",
        "content2=f2.read()\n",
        "\n",
        "print()\n",
        "if content1 == content2:\n",
        "  print(\"Yes\")\n",
        "else:\n",
        "  print(\"No\")\n",
        "\n",
        "print(content1)\n",
        "print(content2)\n",
        "\n",
        "f1.close()\n",
        "f2.close()"
      ],
      "metadata": {
        "id": "UU3FL82P1PuP",
        "colab": {
          "base_uri": "https://localhost:8080/"
        },
        "outputId": "1d11e587-e32e-4f2a-b2f9-9a70e7b2ad48"
      },
      "execution_count": null,
      "outputs": [
        {
          "output_type": "stream",
          "name": "stdout",
          "text": [
            "Enter the input file name: copy.txt\n",
            "Enter the output file name: past.txt\n",
            "\n",
            "Yes\n",
            "hello orld\n",
            "this my ower\n",
            "who are you\n",
            "hello orld\n",
            "this my ower\n",
            "who are you\n"
          ]
        }
      ]
    },
    {
      "cell_type": "code",
      "source": [
        "\n",
        "fileName = input(\"Enter the file name: \")\n",
        "file_input = open(fileName, 'r')\n",
        "contents = file_input.read()\n",
        "\n",
        "\n",
        "\n",
        "file_sentents = contents.count('.') + contents.count('?') + \\\n",
        "            contents.count(':') + contents.count(';') + \\\n",
        "            contents.count('!')\n",
        "\n",
        "\n",
        "\n",
        "file_words = len(contents.split())\n",
        "\n",
        "\n",
        "files_syl = 0\n",
        "file_vowl = 'aeiouAEIOU'\n",
        "for word in contents.split():\n",
        "    if word[0] in file_vowl:\n",
        "        files_syl += 1\n",
        "    for i in range(1, len(word)):\n",
        "        if word[i] in file_vowl and word[i - 1] not in file_vowl:\n",
        "            files_syl += 1\n",
        "    for ending in ['es', 'ed', 'e']:\n",
        "        if word.endswith(ending):\n",
        "            files_syl -= 1\n",
        "    if word.endswith('le'):\n",
        "        files_syl += 1\n",
        "\n",
        "\n",
        "i = 206.835 - 1.015 * (file_words / file_sentents) - \\\n",
        "        84.6 * (files_syl / file_words)\n",
        "Level = int(round(0.39 * (file_words / file_sentents) + 11.8 * \\\n",
        "                (files_syl / file_words) - 15.59))\n",
        "\n",
        "\n",
        "print(\"The Flesch Index is\", i)\n",
        "print(\"The Grade Level Equivalent is\", Level)\n",
        "print(file_sentents, \"sentences\")\n",
        "print(file_words, \"words\")\n",
        "print(files_syl, \"syllables\")"
      ],
      "metadata": {
        "id": "0Se4SLpeMJQP"
      },
      "execution_count": null,
      "outputs": []
    },
    {
      "cell_type": "code",
      "source": [
        "# 4.12 dif.py\n",
        "\n",
        "file_first = input(\"Enter the file name: \")\n",
        "\n",
        "\n",
        "\n",
        "with open(file_first,'r') as first_file:\n",
        "\n",
        "    #taking all data from file line by the line\n",
        "    list1=[]\n",
        "    for line_1 in first_file:\n",
        "      \n",
        "      #removing \"\\n\" from the line\n",
        "      if \"\\n\" in line_1:\n",
        "        list1.append(line_1[:-2])\n",
        "      else:\n",
        "        list1.append(line_1)\n",
        "\n",
        "\n",
        "\n",
        "\n",
        "print()\n",
        "print(\"%-10s%10s%20s\" % (\"Name\", \"Hours\", \"Total Pay\"))\n",
        "\n",
        "\n",
        "for i in list1:\n",
        "  #spliting the each line by \"space\"\n",
        "  temp = i.split(\" \")\n",
        "  print (\"%-10s%10s%20.2f\" %(temp[0],temp[1],temp[2]))\n"
      ],
      "metadata": {
        "colab": {
          "base_uri": "https://localhost:8080/"
        },
        "id": "tCkAd6XGaplw",
        "outputId": "78887b33-03e6-44c8-b4af-12b41fbd594d"
      },
      "execution_count": null,
      "outputs": [
        {
          "output_type": "stream",
          "name": "stdout",
          "text": [
            "Enter the file name: data.txt\n",
            "\n",
            "Name            Hours      Total Pay      \n",
            "Lambert            34         357.0          \n",
            "Osborne            22         137.5          \n",
            "Giacometti         5          503.50         \n"
          ]
        }
      ]
    },
    {
      "cell_type": "code",
      "source": [
        "filename = input(\"Enter the file name: \")\n",
        "try:\n",
        "    file = open(filename, \"r\")\n",
        "except FileNotFoundError:\n",
        "    print(\"File \" +filename + \" cannot be accessed!\")\n",
        "    exit(1)\n",
        "\n",
        "lines = file.read().splitlines()\n",
        "print(\"%-10s%10s%20s\" % (\"Name\", \"Hours\", \"Total Pay\"))\n",
        "for line in lines:\n",
        "    words = line.split(\" \")\n",
        "    totalPay = int(words[1]) * float(words[2])              \n",
        "    print(\"%-10s%10s%20.2f\" % (words[0], words[1], totalPay ))"
      ],
      "metadata": {
        "id": "JUDcow2zLjFs"
      },
      "execution_count": null,
      "outputs": []
    },
    {
      "cell_type": "code",
      "source": [
        "#6.1, File: newton.py \n",
        "\n",
        "\n",
        "# Modify the code below\n",
        "\"\"\"\n",
        "File: newton.py\n",
        "Project 6.1\n",
        "\n",
        "Compute the square root of a number (uses function with loop).\n",
        "\n",
        "1. The input is a number, or enter/return to halt the\n",
        "   input process.\n",
        "\n",
        "2. The outputs are the program's estimate of the square root\n",
        "   using Newton's method of successive approximations, and\n",
        "   Python's own estimate using math.sqrt.\n",
        "\"\"\"\n",
        "\n",
        "\n",
        "import math\n",
        "\n",
        "\n",
        "while True:\n",
        "\n",
        "  # Receive the input number from the user\n",
        "  x = input(\"Enter a positive number or enter/return to quit: \")\n",
        "\n",
        "  if x=='':\n",
        "    break\n",
        "  \n",
        "  x=float(x)\n",
        "  # Initialize the tolerance and estimate\n",
        "  tolerance = 0.000001\n",
        "  estimate = 1.0\n",
        "\n",
        "  # Perform the successive approximations\n",
        "  while True:\n",
        "      estimate = (estimate + x / estimate) / 2\n",
        "      difference = abs(x - estimate ** 2)\n",
        "      if difference <= tolerance:\n",
        "          break\n",
        "\n",
        "  # Output the result\n",
        "  print(\"The program's estimate is\", estimate)\n",
        "  print(\"Python's estimate is\", math.sqrt(x))\n"
      ],
      "metadata": {
        "id": "r-Pw7wyYbylz",
        "colab": {
          "base_uri": "https://localhost:8080/"
        },
        "outputId": "2e322e4f-7daf-4c97-febb-5a15762bded5"
      },
      "execution_count": null,
      "outputs": [
        {
          "name": "stdout",
          "output_type": "stream",
          "text": [
            "Enter a positive number or enter/return to quit: 2\n",
            "The program's estimate is 1.4142135623746899\n",
            "Python's estimate is 1.4142135623730951\n",
            "Enter a positive number or enter/return to quit: 4\n",
            "The program's estimate is 2.0000000929222947\n",
            "Python's estimate is 2.0\n",
            "Enter a positive number or enter/return to quit: 9\n",
            "The program's estimate is 3.000000001396984\n",
            "Python's estimate is 3.0\n",
            "Enter a positive number or enter/return to quit: \n"
          ]
        }
      ]
    },
    {
      "cell_type": "code",
      "source": [
        "#6.2\n",
        "\n",
        "# Modify the code below\n",
        "\"\"\"\n",
        "File: newton.py\n",
        "Project 6.1\n",
        "Compute the square root of a number (uses function with loop).\n",
        "1. The input is a number, or enter/return to halt the\n",
        "   input process.\n",
        "2. The outputs are the program's estimate of the square root\n",
        "   using Newton's method of successive approximations, and\n",
        "   Python's own estimate using math.sqrt.\n",
        "\"\"\"\n",
        "\n",
        "import math\n",
        "\n",
        "\n",
        "# Initialize the tolerance\n",
        "TOLERANCE = 0.000001\n",
        "\n",
        "#setting estimate as parameter in newton function\n",
        "def newton(x, estimate = 1.0):\n",
        "    \"\"\"Returns the square root of x.\"\"\"\n",
        "    # Perform the successive approximations\n",
        "    estimate = (estimate + x / estimate) / 2\n",
        "    difference = abs(x - estimate ** 2)\n",
        "    if difference > TOLERANCE:\n",
        "        #passing the estimate\n",
        "        estimate = newton(x, estimate)\n",
        "    return estimate\n",
        "\n",
        "def main():\n",
        "    \"\"\"Allows the user to obtain square roots.\"\"\"\n",
        "    while True:\n",
        "        # Receive the input number from the user\n",
        "        x = input(\"Enter a positive number or enter/return to quit: \")\n",
        "        if x == \"\":\n",
        "             break\n",
        "        x = float(x)\n",
        "        # Output the result\n",
        "        print(\"The program's estimate is\", newton(x))\n",
        "        print(\"Python's estimate is     \", math.sqrt(x))\n",
        "\n",
        "if __name__ == \"__main__\":\n",
        "    main()"
      ],
      "metadata": {
        "colab": {
          "base_uri": "https://localhost:8080/"
        },
        "id": "nkRZ2ukGMSW1",
        "outputId": "9cc46901-4a70-4c96-9e20-782cdc0f0cfa"
      },
      "execution_count": null,
      "outputs": [
        {
          "name": "stdout",
          "output_type": "stream",
          "text": [
            "Enter a positive number or enter/return to quit: 2\n",
            "The program's estimate is 1.4142135623746899\n",
            "Python's estimate is      1.4142135623730951\n",
            "Enter a positive number or enter/return to quit: \n"
          ]
        }
      ]
    },
    {
      "cell_type": "code",
      "source": [
        "#6.3\n",
        "\n",
        "# Modify the code below\n",
        "\"\"\"\n",
        "File: newton.py\n",
        "Project 6.2\n",
        "Compute the square root of a number (uses recursive function).\n",
        "1. The input is a number, or enter/return to halt the\n",
        "   input process.\n",
        "2. The outputs are the program's estimate of the square root\n",
        "   using Newton's method of successive approximations, and\n",
        "   Python's own estimate using math.sqrt.\n",
        "\"\"\"\n",
        "\n",
        "import math\n",
        "\n",
        "\n",
        "# Initialize the tolerance\n",
        "TOLERANCE = 0.000001\n",
        "\n",
        "def newton(x, estimate=1):\n",
        "    \"\"\"Returns the square root of x.\"\"\"\n",
        "    # Compute the difference and test for the base case\n",
        "    difference = abs(x - estimate ** 2)\n",
        "    if difference <= TOLERANCE:\n",
        "        return estimate\n",
        "    else:\n",
        "        # Recurse after improving the estimate\n",
        "        return newton(x, (estimate + x / estimate) / 2)\n",
        "\n",
        "def main():\n",
        "    \"\"\"Allows the user to obtain square roots.\"\"\"\n",
        "    while True:\n",
        "        # Receive the input number from the user\n",
        "        x = input(\"Enter a positive number or enter/return to quit: \")\n",
        "        if x == \"\":\n",
        "             break\n",
        "        x = float(x)\n",
        "        # Output the result\n",
        "        print(\"The program's estimate is\", newton(x, 1))\n",
        "        print(\"Python's estimate is     \", math.sqrt(x))\n",
        "\n",
        "if __name__ == \"__main__\":\n",
        "    main()"
      ],
      "metadata": {
        "id": "_1ub4XDe0A_6",
        "colab": {
          "base_uri": "https://localhost:8080/"
        },
        "outputId": "dc5a8625-601f-44f2-d1bb-8dd8b25753b3"
      },
      "execution_count": null,
      "outputs": [
        {
          "name": "stdout",
          "output_type": "stream",
          "text": [
            "Enter a positive number or enter/return to quit: 2\n",
            "The program's estimate is 1.4142135623746899\n",
            "Python's estimate is      1.4142135623730951\n",
            "Enter a positive number or enter/return to quit: \n"
          ]
        }
      ]
    },
    {
      "cell_type": "code",
      "source": [
        "import math\n",
        "\n",
        "# Initialize the tolerance\n",
        "tolerance = 0.000001\n",
        "def newton(x):\n",
        "   \"\"\"Returns the square root of x.\"\"\"\n",
        "    # Compute the difference and test for the base case\n",
        "   estimate = 1.0\n",
        "   while True:\n",
        "        estimate = (estimate + x / estimate) / 2\n",
        "        difference = abs(x - estimate ** 2)\n",
        "        if difference <= tolerance:\n",
        "            break\n",
        "   return estimate\n",
        "\n",
        "def main():\n",
        "  \"\"\"Allows the user to obtain square roots.\"\"\"\n",
        "  while True:\n",
        "     # Receive the input number from the user\n",
        "       x = input(\"Enter a positive number or enter/return to quit: \")\n",
        "       if x == \"\":\n",
        "           break\n",
        "       x = float(x)\n",
        "        # Output the result\n",
        "       print(\"The program's estimate is\", newton(x))\n",
        "       print(\"Python's estimate is     \", math.sqrt(x))\n",
        "if __name__ == \"__main__\":\n",
        "    main()"
      ],
      "metadata": {
        "colab": {
          "base_uri": "https://localhost:8080/"
        },
        "id": "i7utiL7mgOUE",
        "outputId": "e0b43da9-7809-4bc9-845f-8a06694d5b1b"
      },
      "execution_count": null,
      "outputs": [
        {
          "name": "stdout",
          "output_type": "stream",
          "text": [
            "Enter a positive number or enter/return to quit: 2\n",
            "The program's estimate is 1.4142135623746899\n",
            "Python's estimate is      1.4142135623730951\n",
            "Enter a positive number or enter/return to quit: \n"
          ]
        }
      ]
    },
    {
      "cell_type": "code",
      "source": [],
      "metadata": {
        "id": "EvAt5i3Sizrf"
      },
      "execution_count": null,
      "outputs": []
    },
    {
      "cell_type": "code",
      "source": [
        "#6.5\n",
        "\n",
        "# Put your code here\n",
        "\n",
        "def isSorted(li):\n",
        "  dis = True\n",
        "  for i in range(len(li)-1):\n",
        "    if li[i]<li[i+1]:\n",
        "      continue\n",
        "    else:\n",
        "      dis = False\n",
        "  \n",
        "  return dis\n",
        "\n",
        "\n",
        "# A main for testing your code\n",
        "def main():\n",
        "\n",
        "  lyst = []\n",
        "  print(isSorted(lyst))\n",
        "  lyst = [1]\n",
        "  print (isSorted(lyst))\n",
        "  lyst = list (range(10))\n",
        "  print(isSorted(lyst))\n",
        "  lyst[9] = 3\n",
        "  print(isSorted(lyst))\n",
        "\n",
        "if __name__ == \"__main__\":\n",
        "  main()\n",
        "\n",
        "\n"
      ],
      "metadata": {
        "colab": {
          "base_uri": "https://localhost:8080/"
        },
        "id": "HYtKXsReDIcC",
        "outputId": "ca1bd13e-2611-4137-b0ab-a0b61425fea2"
      },
      "execution_count": null,
      "outputs": [
        {
          "output_type": "stream",
          "name": "stdout",
          "text": [
            "True\n",
            "True\n",
            "True\n",
            "False\n"
          ]
        }
      ]
    },
    {
      "cell_type": "code",
      "source": [
        "\"\"\"\n",
        "File: filesys.py\n",
        "Project 6.6\n",
        "\n",
        "Provides a menu-driven tool for navigating a file system\n",
        "and gathering information on files.\n",
        "\n",
        "Adds a command to view a file's contents.\n",
        "\"\"\"\n",
        "\n",
        "import os, os.path\n",
        "\n",
        "QUIT = '8'\n",
        "\n",
        "COMMANDS = ('1', '2', '3', '4', '5', '6', '7','8')\n",
        "\n",
        "MENU = \"\"\"1   List the current directory\n",
        "2   Move up\n",
        "3   Move down\n",
        "4   Number of files in the directory\n",
        "5   Size of the directory in bytes\n",
        "6   Search for a file name\n",
        "7   View the contents of a file\n",
        "8   Quit the program\"\"\"\n",
        "\n",
        "def main():\n",
        "    while True:\n",
        "        print(os.getcwd())\n",
        "        print(MENU)\n",
        "        command = acceptCommand()\n",
        "        runCommand(command)\n",
        "        if command == QUIT:\n",
        "            print(\"Have a nice day!\")\n",
        "            break\n",
        "\n",
        "def acceptCommand():\n",
        "    \"\"\"Inputs and returns a legitimate command number.\"\"\"\n",
        "    while True:\n",
        "        command = input(\"Enter a number: \")\n",
        "        if not command in COMMANDS:\n",
        "            print(\"Error: command not recognized\")\n",
        "        else:\n",
        "            return command\n",
        "\n",
        "def runCommand(command):\n",
        "    \"\"\"Selects and runs a command.\"\"\"\n",
        "    if command == '1':\n",
        "        listCurrentDir(os.getcwd())\n",
        "    elif command == '2':\n",
        "        moveUp()\n",
        "    elif command == '3':\n",
        "        moveDown(os.getcwd())\n",
        "    elif command == '4':\n",
        "        print(\"The total number of files is\", \\\n",
        "              countFiles(os.getcwd()))\n",
        "    elif command == '5':\n",
        "        print(\"The total number of bytes is\", \\\n",
        "              countBytes(os.getcwd()))\n",
        "    elif command == '6':\n",
        "        target = input(\"Enter the search string: \")\n",
        "        fileList = findFiles(target, os.getcwd())\n",
        "        if not fileList:\n",
        "            print(\"String not found\")\n",
        "        else:\n",
        "            for f in fileList:\n",
        "                print(f)\n",
        "     # add your condition here\n",
        "    elif command == '7':\n",
        "       viewFile(os.getcwd())\n",
        "\n",
        "\n",
        "\n",
        "\n",
        "def viewFile(dirName):\n",
        "    file_list = list(filter(os.path.isfile, os.listdir(dirName)))\n",
        "    if len(file_list) == 0:\n",
        "        print(\"No files found\")\n",
        "    else:\n",
        "        while True:\n",
        "            print(\"Files in \" + dirName + \":\")\n",
        "            for element in file_list:\n",
        "                print(element)\n",
        "            fileName = input(\"Enter a file name from these names: \")\n",
        "            if not fileName in file_list:\n",
        "                print(\"ERROR: no such name\")\n",
        "            else:\n",
        "                f = open(fileName, 'r')\n",
        "                print(f.read())\n",
        "                break\n",
        "\n",
        "def listCurrentDir(dirName):\n",
        "    \"\"\"Prints a list of the cwd's contents.\"\"\"\n",
        "    lyst = os.listdir(dirName)\n",
        "    for element in lyst: print(element)\n",
        "\n",
        "def moveUp():\n",
        "    \"\"\"Moves up to the parent directory.\"\"\"\n",
        "    os.chdir(\"..\")\n",
        "\n",
        "def moveDown(currentDir):\n",
        "    \"\"\"Moves down to the named subdirectory if it exists.\"\"\"\n",
        "    newDir = input(\"Enter the directory name: \")\n",
        "    if os.path.exists(currentDir + os.sep + newDir) and \\\n",
        "       os.path.isdir(newDir):\n",
        "        os.chdir(newDir)\n",
        "    else:\n",
        "        print(\"ERROR: no such name\")\n",
        "\n",
        "def countFiles(path):\n",
        "    \"\"\"Returns the number of files in the cwd and\n",
        "    all its subdirectories.\"\"\"\n",
        "    count = 0\n",
        "    lyst = os.listdir(path)\n",
        "    for element in lyst:\n",
        "        if os.path.isfile(element):\n",
        "            count += 1\n",
        "        else:\n",
        "            os.chdir(element)\n",
        "            count += countFiles(os.getcwd())\n",
        "            os.chdir(\"..\")\n",
        "    return count\n",
        "\n",
        "def countBytes(path):\n",
        "    \"\"\"Returns the number of bytes in the cwd and\n",
        "    all its subdirectories.\"\"\"\n",
        "    count = 0\n",
        "    lyst = os.listdir(path)\n",
        "    for element in lyst:\n",
        "        if os.path.isfile(element):\n",
        "            count += os.path.getsize(element)\n",
        "        else:\n",
        "            os.chdir(element)\n",
        "            count += countBytes(os.getcwd())\n",
        "            os.chdir(\"..\")\n",
        "    return count\n",
        "\n",
        "def findFiles(target, path):\n",
        "    \"\"\"Returns a list of the file names that contain\n",
        "    the target string in the cwd and all its subdirectories.\"\"\"\n",
        "    files = []\n",
        "    lyst = os.listdir(path)\n",
        "    for element in lyst:\n",
        "        if os.path.isfile(element):\n",
        "            if target in element:\n",
        "                files.append(path + os.sep + element)\n",
        "        else:\n",
        "            os.chdir(element)\n",
        "            files.extend(findFiles(target, os.getcwd()))\n",
        "            os.chdir(\"..\")\n",
        "    return files\n",
        "\n",
        "if __name__ == \"__main__\":\n",
        "    main()\n"
      ],
      "metadata": {
        "id": "T-pVuYu1FKKf",
        "colab": {
          "base_uri": "https://localhost:8080/"
        },
        "outputId": "e29052cd-11b5-4bbf-d1fc-d5350d8caaef"
      },
      "execution_count": null,
      "outputs": [
        {
          "output_type": "stream",
          "name": "stdout",
          "text": [
            "/content\n",
            "1   List the current directory\n",
            "2   Move up\n",
            "3   Move down\n",
            "4   Number of files in the directory\n",
            "5   Size of the directory in bytes\n",
            "6   Search for a file name\n",
            "7   View the contents of a file\n",
            "8   Quit the program\n",
            "Enter a number: 7\n",
            "Files in /content:\n",
            "hello..txt\n",
            "untitled\n",
            "janij.txt\n",
            "Enter a file name from these names: janij.txt\n",
            "kisu e nai. ekhane\n",
            "/content\n",
            "1   List the current directory\n",
            "2   Move up\n",
            "3   Move down\n",
            "4   Number of files in the directory\n",
            "5   Size of the directory in bytes\n",
            "6   Search for a file name\n",
            "7   View the contents of a file\n",
            "8   Quit the program\n",
            "Enter a number: 8\n",
            "Have a nice day!\n"
          ]
        }
      ]
    },
    {
      "cell_type": "code",
      "source": [
        "#6.7\n",
        "\n",
        "import os\n",
        "\n",
        "def displayFiles(path):\n",
        "  if os.path.isdir(path) == False:\n",
        "    \n",
        "    print(\"File Name: \", path)\n",
        "    content = open(path, \"r\").read()\n",
        "    print(content)\n",
        "  else:\n",
        "    files = os.listdir(path)\n",
        "    print(\"Directory name: \",path)\n",
        "    for i in files:\n",
        "      displayFiles(path+\"/\"+i)\n",
        "\n",
        "displayFiles('/content/hello')"
      ],
      "metadata": {
        "id": "-1k73aH6DJOW",
        "colab": {
          "base_uri": "https://localhost:8080/"
        },
        "outputId": "def110d4-d384-4c3d-f949-2f0f9e454171"
      },
      "execution_count": null,
      "outputs": [
        {
          "output_type": "stream",
          "name": "stdout",
          "text": [
            "Directory name:  /content/hello\n",
            "File Name:  /content/hello/untitled\n",
            "\n",
            "File Name:  /content/hello/janij.txt\n",
            "kisu e nai. ekhane\n"
          ]
        }
      ]
    },
    {
      "cell_type": "code",
      "source": [
        "import os\n",
        "\n",
        "def displayFiles(pathname):\n",
        "    if os.path.isfile(pathname):\n",
        "        print('File name:',pathname)\n",
        "        if not pathname.endswith('.txt'):\n",
        "            return\n",
        "        file=open(pathname)\n",
        "        for line in file:\n",
        "            if not line.endswith('\\n'):\n",
        "                line+='\\n'\n",
        "            print(line,end='')\n",
        "        file.close()\n",
        "    elif os.path.isdir(pathname):\n",
        "        print('Directory name:',pathname)\n",
        "        if not pathname.endswith('/'):\n",
        "            pathname+=\"/\"\n",
        "        for file in os.listdir(pathname):\n",
        "            displayFiles(pathname+file)\n",
        "\n",
        "\n",
        "if __name__ == '__main__':\n",
        "    displayFiles(os.getcwd())"
      ],
      "metadata": {
        "colab": {
          "base_uri": "https://localhost:8080/"
        },
        "id": "uLD0SOCLdGHu",
        "outputId": "f0cf2653-bc9f-45d9-a213-9c319054b6cd"
      },
      "execution_count": null,
      "outputs": [
        {
          "output_type": "stream",
          "name": "stdout",
          "text": [
            "Directory name: /content/hello\n",
            "File name: /content/hello/untitled\n",
            "File name: /content/hello/janij.txt\n",
            "kisu e nai. ekhane\n"
          ]
        }
      ]
    },
    {
      "cell_type": "code",
      "source": [
        "import os\n",
        "def print_file(file_name):\n",
        "    with open(file_name, \"r\") as ifl:\n",
        "       for data_line in ifl:\n",
        "           print(data_line)\n",
        "\n",
        "def myFind(input_path, z):\n",
        "   spac = ''\n",
        "   for i in range(z):\n",
        "       spac = spac + ' '\n",
        "       if (os.path.isdir(input_path)):\n",
        "           for contents in os.listdir(input_path):\n",
        "               new_content = os.path.join(input_path, contents)\n",
        "               print(spac + new_content)\n",
        "               if (os.path.isdir(new_content)):\n",
        "                   myFind(new_content,z+1)\n",
        "               else:\n",
        "               #    print(spac + input_path)\n",
        "                   print_file(new_content)"
      ],
      "metadata": {
        "id": "HUJyi8oCoWy_"
      },
      "execution_count": null,
      "outputs": []
    },
    {
      "cell_type": "code",
      "source": [
        "#6.8\n",
        "\n",
        "def printAll(seq):\n",
        "  print(\"Traced Sequenc: \",seq)\n",
        "  if seq:\n",
        "    print(seq[0])\n",
        "    printAll(seq[1:])\n",
        "\n",
        "\n",
        "\n",
        "\n",
        "\n",
        "if __name__ == \"__main__\":\n",
        "    printAll(\"Hello world\")\n",
        "\n",
        "'''each time inside the printAll fucntion there is a condition to check...'''"
      ],
      "metadata": {
        "id": "dOxSCbJ_J19z",
        "colab": {
          "base_uri": "https://localhost:8080/"
        },
        "outputId": "f8219d1f-dce2-4e90-aeed-8b969ff1c38c"
      },
      "execution_count": null,
      "outputs": [
        {
          "output_type": "stream",
          "name": "stdout",
          "text": [
            "Traced Sequenc:  Hello world\n",
            "H\n",
            "Traced Sequenc:  ello world\n",
            "e\n",
            "Traced Sequenc:  llo world\n",
            "l\n",
            "Traced Sequenc:  lo world\n",
            "l\n",
            "Traced Sequenc:  o world\n",
            "o\n",
            "Traced Sequenc:   world\n",
            " \n",
            "Traced Sequenc:  world\n",
            "w\n",
            "Traced Sequenc:  orld\n",
            "o\n",
            "Traced Sequenc:  rld\n",
            "r\n",
            "Traced Sequenc:  ld\n",
            "l\n",
            "Traced Sequenc:  d\n",
            "d\n",
            "Traced Sequenc:  \n"
          ]
        }
      ]
    },
    {
      "cell_type": "code",
      "source": [
        "#6.9\n",
        "file_name = input(\"Enter the input file name: \")\n",
        "\n",
        "content = open(file_name, \"r\").read()\n",
        "\n",
        "numbers = content.split(\" \")\n",
        "\n",
        "sum = 0\n",
        "count = 0\n",
        "\n",
        "for i in numbers:\n",
        "  if '\\n' in i:\n",
        "    #spliting numbers when line break comes\n",
        "    m,n = i.split('\\n')\n",
        "    sum = sum + float(m) + float(n)\n",
        "    count+=1\n",
        "  else:\n",
        "    sum = sum + float(i)\n",
        "    count+=1\n",
        "\n",
        "\n",
        "print()\n",
        "print(\"The average is \",float(sum/(count+1)))\n"
      ],
      "metadata": {
        "id": "wTgLQ_9VJ15F",
        "colab": {
          "base_uri": "https://localhost:8080/"
        },
        "outputId": "bfe1eace-31df-44f6-d473-3808f1df0bbd"
      },
      "execution_count": null,
      "outputs": [
        {
          "output_type": "stream",
          "name": "stdout",
          "text": [
            "Enter the input file name: numbers.txt\n",
            "45\n",
            "66\n",
            "88\n",
            "100\n",
            "22\n",
            "98\n",
            "\n",
            "The average is  69.83333333333333\n"
          ]
        }
      ]
    },
    {
      "cell_type": "code",
      "source": [
        "def getNumberList(filename):\n",
        "    with open(filename,'r') as f:\n",
        "        strList = f.read().split('\\n')\n",
        "        numberList = [int(num) for num in strList]\n",
        "    return numberList\n",
        "\n",
        "def getAverage(filename, func): \n",
        "    numbers = func(filename)\n",
        "    return sum(numbers)/len(numbers)\n",
        "\n",
        "def main():\n",
        "    filename = input(\"Input the file name: \")\n",
        "    average = getAverage(filename, getNumberList)\n",
        "    print(average)\n",
        "\n",
        "if __name__ == \"__main__\":\n",
        "    main()"
      ],
      "metadata": {
        "id": "LWuar5yg1w2a"
      },
      "execution_count": null,
      "outputs": []
    },
    {
      "cell_type": "code",
      "source": [
        "#6.10\n",
        "\n",
        "\n",
        "def myRange(a, b = None, d = None):\n",
        "\n",
        "  range_list=[]\n",
        "\n",
        "  \n",
        "\n",
        "\n",
        "  if b == None and d == None:\n",
        "    count = 0\n",
        "    while True:\n",
        "      if (count >= a):\n",
        "        break\n",
        "      range_list.append(count)\n",
        "      count = count + 1\n",
        "\n",
        "  elif d == None:\n",
        "    count = a\n",
        "    while True:\n",
        "      if (count >= b):\n",
        "        break\n",
        "      range_list.append(count)\n",
        "      count = count + 1\n",
        "\n",
        "  elif d<0:\n",
        "    count = a\n",
        "    while True:\n",
        "      if (count <= b):\n",
        "        break\n",
        "      range_list.append(count)\n",
        "      count = count + d\n",
        "      \n",
        "  else:\n",
        "    count = a\n",
        "    while True:\n",
        "      if (count >= b):\n",
        "        break\n",
        "      range_list.append(count)\n",
        "      count = count + d\n",
        "\n",
        "  return range_list\n",
        "\n",
        "print(myRange(10))\n"
      ],
      "metadata": {
        "id": "cYV77yasJ12e",
        "colab": {
          "base_uri": "https://localhost:8080/"
        },
        "outputId": "4a2be67c-4349-44b7-b896-f612a87b2d45"
      },
      "execution_count": null,
      "outputs": [
        {
          "output_type": "stream",
          "name": "stdout",
          "text": [
            "[10, 9, 8, 7, 6, 5, 4, 3, 2]\n"
          ]
        }
      ]
    },
    {
      "cell_type": "code",
      "source": [
        "#7.1\n",
        "\n",
        "import turtle\n",
        "import math\n",
        "\n",
        "\n",
        "def drawCircle(tur, x, y, radius):\n",
        "\n",
        "    tur.up()\n",
        "    tur.setposition(x, y)\n",
        "    tur.forward(radius)\n",
        "    tur.left(90)\n",
        "    tur.down()\n",
        "    distence = ((2 * math.pi * radius) / 120)\n",
        "    \n",
        "    for i in range(120):\n",
        "        tur.left(3)\n",
        "        tur.forward(distence)\n",
        "\n",
        "if __name__ == \"__main__\":\n",
        "    tur = turtle.Turtle()\n",
        "    x = 50\n",
        "    y = 75\n",
        "    radius = 100\n",
        "    drawCircle(tur, x, y, radius)"
      ],
      "metadata": {
        "id": "TxOHsGlvJ1zP"
      },
      "execution_count": null,
      "outputs": []
    },
    {
      "cell_type": "code",
      "source": [
        "#7.3\n",
        "\n",
        "import turtle\n",
        "\n",
        "def drawFractalLine(d,a,l):\n",
        "    if l==0:\n",
        "        turtle.left(a)\n",
        "        turtle.forward(d)\n",
        "        turtle.right(a)\n",
        "        return \n",
        "    drawFractalLine(d/3,a,l-1)\n",
        "    drawFractalLine(d / 3, a + 60, l - 1)\n",
        "    drawFractalLine(d / 3, a - 60, l - 1)\n",
        "    drawFractalLine(d / 3, a, l - 1)\n",
        "\n",
        "\n",
        "def drawKochSnowflake(width,levels):\n",
        "    drawFractalLine(width, 0, levels)\n",
        "    drawFractalLine(width, -120, levels)\n",
        "    drawFractalLine(width, 120, levels)\n",
        "\n",
        "\n",
        "\n",
        "if __name__ == \"__main__\":\n",
        "    turtle.speed(0)\n",
        "    turtle.Screen().delay(0)\n",
        "    turtle.setup(200,200)\n",
        "    turtle.up()\n",
        "    turtle.goto(-75,50)\n",
        "    turtle.down()\n",
        "    drawKochSnowflake(150,4)\n",
        "    turtle.ht()\n",
        "    turtle.done()\n"
      ],
      "metadata": {
        "id": "uFP64Bgu2LCQ"
      },
      "execution_count": null,
      "outputs": []
    },
    {
      "cell_type": "code",
      "source": [
        "#7.5\n",
        "\n",
        "def posterize(image, rgb):\n",
        "\n",
        "    white_space = (255, 255, 255)\n",
        "\n",
        "    for y in range(image.getHeight()):\n",
        "        for x in range(image.getWidth()):\n",
        "            (r, g, b) = image.getPixel(x, y)\n",
        "            avg = (r + g + b) // 3\n",
        "            if avg < 128:\n",
        "                image.setPixel(x, y, rgb)\n",
        "            else:\n",
        "                image.setPixel(x, y, white_space)"
      ],
      "metadata": {
        "id": "CjL1bCwPrhj0"
      },
      "execution_count": null,
      "outputs": []
    },
    {
      "cell_type": "code",
      "source": [
        "#7.6\n",
        "\n",
        "from images import Image\n",
        "\n",
        "\n",
        "def grayscale1(image):\n",
        "    for y in range(image.getHeight()):\n",
        "        for x in range(image.getWidth()):\n",
        "            (r, g, b) = image.getPixel(x, y)\n",
        "            r = int(r * 0.299)\n",
        "            g = int(g * 0.587)\n",
        "            b = int(b * 0.114)\n",
        "            lum = r + g + b\n",
        "            image.setPixel(x, y, (lum, lum, lum))\n",
        "\n",
        "\n",
        "def grayscale2(image):\n",
        "    for y in range(image.getHeight()):\n",
        "        for x in range(image.getWidth()):\n",
        "            (r, g, b) = image.getPixel(x, y)\n",
        "            avg = (r + g + b) // 3\n",
        "            image.setPixel(x, y, (avg, avg, avg))\n",
        "\n",
        "\n",
        "def main():\n",
        "    filename = \"smokey.gif\"\n",
        "    image = Image(filename)\n",
        "    grayscale2(image)\n",
        "    image.draw()\n",
        "\n",
        "\n",
        "if __name__ == \"__main__\":\n",
        "    main()"
      ],
      "metadata": {
        "id": "1j7kOxPxwqNt"
      },
      "execution_count": null,
      "outputs": []
    },
    {
      "cell_type": "code",
      "source": [
        "#8.1\n",
        "\n",
        "from tkinter import *\n",
        "import random\n",
        "master = Tk()\n",
        "count=1\n",
        "def guessNum():\n",
        "    global count\n",
        "    global randNum\n",
        "    try:\n",
        "        gs=int(guess.get())\n",
        "        if randNum==gs:\n",
        "            my_string_var.set(\"You've guessed in \"+str(count)+\" counts\")\n",
        "            nextGuess.config(state = DISABLED)\n",
        "        elif randNum>gs:\n",
        "            my_string_var.set(\"Sorry! too small\")\n",
        "        else:\n",
        "            my_string_var.set(\"Sorry! too large\")\n",
        "    except ValueError:\n",
        "        print(\"Enter a number\")\n",
        "    count+=1\n",
        "\n",
        "\n",
        "def newGame():\n",
        "    global count\n",
        "    global randNum\n",
        "    count=1\n",
        "    randNum = random.randint(1, 100)\n",
        "    nextGuess.config(state = NORMAL)\n",
        "\n",
        "\n",
        "randNum = random.randint(1, 100)\n",
        "my_string_var = StringVar()\n",
        "my_string_var.set(\"Guess a number between 1 and 100:\")\n",
        "Label(master,textvariable = my_string_var).grid(columnspan=2,row=1, column=0)\n",
        "Label(master,text=\"Your Guess\").grid(row=2, column=0)\n",
        "\n",
        "nextGuess = Button(master, text=\"Next\", width=20,command=guessNum)\n",
        "nextGuess.grid(row=3,column=0)\n",
        "nextGame = Button(master, text=\"New Game\", width=20,command=newGame)\n",
        "nextGame.grid(row=3,column=1)\n",
        "guess =Entry(master)\n",
        "guess.grid(row=2, column=1)\n",
        "mainloop()"
      ],
      "metadata": {
        "id": "slucB8h42t2G"
      },
      "execution_count": null,
      "outputs": []
    },
    {
      "cell_type": "code",
      "source": [
        "#8.1\n",
        "\n",
        "from tkinter import *\n",
        "import random\n",
        "tk = Tk()\n",
        "guess_count=1\n",
        "def guessNum():\n",
        "    global guess_count\n",
        "    global random_number\n",
        "    try:\n",
        "        guess_number=int(guess.get())\n",
        "        if random_number==guess_number:\n",
        "            string_var.set(\"You've guessed in \"+str(guess_count)+\" counts\")\n",
        "            next_gs.config(state = DISABLED)\n",
        "        elif random_number>guess_number:\n",
        "            string_var.set(\"Sorry! too small\")\n",
        "        else:\n",
        "            string_var.set(\"Sorry! too large\")\n",
        "    except ValueError:\n",
        "        print(\"Enter a number\")\n",
        "    guess_count+=1\n",
        "\n",
        "\n",
        "def newGame():\n",
        "    global guess_count\n",
        "    global random_number\n",
        "    guess_count=1\n",
        "    random_number = random.randint(1, 100)\n",
        "    next_gs.config(state = NORMAL)\n",
        "\n",
        "\n",
        "random_number = random.randint(1, 100)\n",
        "string_var = StringVar()\n",
        "string_var.set(\"Guess a number between 1 and 100:\")\n",
        "Label(tk,textvariable = string_var).grid(columnspan=2,row=1, column=0)\n",
        "Label(tk,text=\"Your Guess\").grid(row=2, column=0)\n",
        "\n",
        "next_gs = Button(tk, text=\"Next\", width=20,command=guessNum)\n",
        "next_gs.grid(row=3,column=0)\n",
        "nextGame = Button(tk, text=\"New Game\", width=20,command=newGame)\n",
        "nextGame.grid(row=3,column=1)\n",
        "guess =Entry(tk)\n",
        "guess.grid(row=2, column=1)\n",
        "mainloop()"
      ],
      "metadata": {
        "id": "yW8k8vSmBVs3"
      },
      "execution_count": null,
      "outputs": []
    },
    {
      "cell_type": "markdown",
      "source": [],
      "metadata": {
        "id": "TmiAzlAX-8eH"
      }
    },
    {
      "cell_type": "code",
      "source": [
        "#8.2\n",
        "\n",
        "from tkinter import *\n",
        "\n",
        "\n",
        "class BouncywithGUI(Frame):\n",
        "    def _compute(self):\n",
        "        old_height = self._heightVar.get()\n",
        "        bouncey_index = self._indexVar.get()\n",
        "        bounch_number = self._bounceVar.get()\n",
        "        bounch_height = old_height * bouncey_index\n",
        "        total_dis = old_height\n",
        "        for i in range(1, (int(bounch_number))):\n",
        "            total_dis += (2 * bounch_height)\n",
        "            bounch_height = bounch_height * bouncey_index\n",
        "            total_dis += bounch_height\n",
        "\n",
        "        self._computeVar.set(total_dis)\n",
        "\n",
        "    def __init__(self):\n",
        "        Frame.__init__(self)\n",
        "        self.master.title(\"Bouncy\")\n",
        "        self.grid()\n",
        "\n",
        "        self._heightLabel = Label(self, text=\"Initial height\")\n",
        "        self._heightLabel.grid(row=0, column=0)\n",
        "        self._heightVar = DoubleVar()\n",
        "        self._heightEntry = Entry(self, textvariable=self._heightVar)\n",
        "        self._heightEntry.grid(row=0, column=1)\n",
        "\n",
        "        self._indexLabel = Label(self, text=\"Index\")\n",
        "        self._indexLabel.grid(row=1, column=0)\n",
        "        self._indexVar = DoubleVar()\n",
        "        self._indexEntry = Entry(self, textvariable=self._indexVar)\n",
        "        self._indexEntry.grid(row=1, column=1)\n",
        "\n",
        "        self._bounceLabel = Label(self, text=\"Number of Bounces: \")\n",
        "        self._bounceLabel.grid(row=2, column=0)\n",
        "        self._bounceVar = DoubleVar()\n",
        "        self._bounceEntry = Entry(self, textvariable=self._bounceVar)\n",
        "        self._bounceEntry.grid(row=2, column=1)\n",
        "\n",
        "        self._computeButton = Button(self, text=\"Compute\", command=self._compute)\n",
        "        self._computeButton.grid(row=3, column=0)\n",
        "\n",
        "        self._computeLabel = Label(self, text=\"Total Distance: \")\n",
        "        self._computeLabel.grid(row=4, column=0)\n",
        "        self._computeVar = DoubleVar()\n",
        "        self._computeEntry = Entry(self, textvariable=self._computeVar)\n",
        "        self._computeEntry.grid(row=4, column=1)\n",
        "\n",
        "\n",
        "def main():\n",
        "    bounch_gui = BouncywithGUI()\n",
        "    bounch_gui.mainloop()\n",
        "\n",
        "\n",
        "if __name__ == \"__main__\":\n",
        "    main()"
      ],
      "metadata": {
        "id": "hda7F-swEKtw"
      },
      "execution_count": null,
      "outputs": []
    },
    {
      "cell_type": "code",
      "source": [
        "#8.3\n",
        "from breezypythongui import EasyFrame\n",
        "\n",
        "class TemperatureConverter(EasyFrame):\n",
        "    def __init__(self):\n",
        "        EasyFrame.__init__(self, width=\"1000\", title=\"Temperature Converter\")\n",
        "        self.addLabel(text=\"Celsius\", row=0, column=0)\n",
        "        self.getInputCelsius = self.addFloatField(value=0.0, row=1, column=0)\n",
        "        self.addLabel(text=\"Fahrenheit\", row=0, column=1)\n",
        "        self.getInputFahrenheit = self.addFloatField(value=32.0, row=1, column=1)\n",
        "        \n",
        "        self.grp1 = self.addButton(text=\">>>>\", row=2, column=0, command=self.computeFahrenheit)\n",
        "        self.grp2 = self.addButton(text=\"<<<<\", row=2, column=1, command=self.computeCelsius)\n",
        "\n",
        "    def computeFahrenheit(self):\n",
        "        temp = self.getInputCelsius.getNumber()\n",
        "        converted_temp = 9.0/5.0 * temp + 32\n",
        "        self.getInputFahrenheit.setValue(converted_temp)\n",
        "    def computeCelsius(self):\n",
        "        temp = self.getInputFahrenheit.getNumber()\n",
        "        converted_temp = (temp - 32) * 5.0/9.0\n",
        "        self.getInputCelsius.setValue(converted_temp)\n",
        "\n",
        "\n",
        "def main():\n",
        "    TemperatureConverter().mainloop()\n",
        "\n",
        "\n",
        "if __name__ == \"__main__\":\n",
        "    main()"
      ],
      "metadata": {
        "id": "kKpvm6DcHGjm"
      },
      "execution_count": null,
      "outputs": []
    },
    {
      "cell_type": "code",
      "source": [
        "#8.4\n",
        "\n",
        "\n",
        "from breezypythongui import EasyFrame\n",
        "class TemperatureConverter(EasyFrame):\n",
        "    \"\"\"A termperature conversion program.\"\"\"\n",
        "    def __init__(self):\n",
        "        \"\"\"Sets up the window and widgets.\"\"\"\n",
        "        EasyFrame.__init__(self, title = \"Temperature Converter\")\n",
        "        self.addLabel(text = \"Celsius\",row = 0, column = 0)\n",
        "        self.celsiusField = self.addFloatField(value = 0.0,row = 1,column = 0,precision = 2)\n",
        "        self.addLabel(text = \"Fahrenheit\",row = 0, column = 1)\n",
        "        self.fahrField = self.addFloatField(value = 32.0,row = 1,column = 1,precision = 2)\n",
        "        self.addButton(text = \">>>>\",row = 2, column = 0,command = self.computeFahr)\n",
        "        self.celsiusField.bind('<Return>', self.computeFahr)\n",
        "        self.addButton(text = \"<<<<\",row = 2, column = 1,command = self.computeCelsius)\n",
        "        self.fahrField.bind('<Return>', self.computeCelsius)\n",
        "\n",
        "    def computeFahr(self,temp=\"tempData\"):\n",
        "        \"\"\"Inputs the Celsius degrees\n",
        "        and outputs the Fahrenheit degrees.\"\"\"\n",
        "        degrees = self.celsiusField.getNumber()\n",
        "        degrees = degrees * 9 / 5 + 32\n",
        "        self.fahrField.setNumber(degrees)\n",
        "\n",
        "    def computeCelsius(self, temp=\"asd\"):\n",
        "        \"\"\"Inputs the Fahrenheit degrees and outputs the Celsius degrees.\"\"\"\n",
        "        degrees = self.fahrField.getNumber()\n",
        "        degrees = (degrees - 32) * 5 / 9\n",
        "        self.celsiusField.setNumber(degrees)\n",
        "\n",
        "def main():\n",
        "    \"\"\"Instantiate and pop up the window.\"\"\"\n",
        "    TemperatureConverter().mainloop()\n",
        "if __name__ == \"__main__\":\n",
        "    main()"
      ],
      "metadata": {
        "id": "q2KXG1r8kKmS"
      },
      "execution_count": null,
      "outputs": []
    },
    {
      "cell_type": "code",
      "source": [
        "#8.5\n",
        "\n",
        "\n",
        "\n",
        "import random\n",
        "from breezypythongui import EasyFrame\n",
        "\n",
        "class GuessingGame(EasyFrame):\n",
        "    \"\"\"Plays a guessing game with the user.\"\"\"\n",
        "    def __init__(self):\n",
        "        \"\"\"Sets up the window,widgets and data.\"\"\"\n",
        "        EasyFrame.__init__(self, title = \"Guessing Game\")\n",
        "        self.lowerBound = 1\n",
        "        self.upperBound = 100\n",
        "        self.count = 0\n",
        "        self.myNumber = (self.lowerBound + self.upperBound) // 2\n",
        "        guess = \"Is the number \" + str(self.myNumber) + \"?\"\n",
        "        self.myLabel = self.addLabel(text = guess, row = 0, column = 0, sticky = \"NSEW\", columnspan = 4)\n",
        "        self.small = self.addButton(text = \"Too small\", row = 1, column = 0, command = self.goLarge)\n",
        "        self.large = self.addButton(text = \"Too large\", row = 1, column = 1, command = self.goSmall)\n",
        "        self.correct = self.addButton(text = \"Correct\", row = 1, column = 2, command = self.goCorrect)\n",
        "        self.newGame = self.addButton(text = \"New Game\", row = 1, column = 3, command = self.goNewGame)\n",
        "    \n",
        "    def goLarge(self):\n",
        "        self.count += 1\n",
        "        self.lowerBound = self.myNumber + 1\n",
        "        self.myNumber = (self.lowerBound + self.upperBound) // 2\n",
        "        self.myLabel[\"text\"] = \"Is the number \" + str(self.myNumber) + \"?\"\n",
        "    \n",
        "    def goSmall(self):\n",
        "        self.count += 1\n",
        "        self.upperBound = self.myNumber - 1\n",
        "        self.myNumber = (self.lowerBound + self.upperBound) // 2\n",
        "        self.myLabel[\"text\"] = \"Is the number \" + str(self.myNumber) + \"?\"\n",
        "    \n",
        "    def goCorrect(self):\n",
        "        self.large[\"state\"] = \"disabled\"\n",
        "        self.small[\"state\"] = \"disabled\"\n",
        "        self.correct[\"state\"] = \"disabled\"\n",
        "    \n",
        "    def goNewGame(self):\n",
        "        self.large[\"state\"] = \"normal\"\n",
        "        self.small[\"state\"] = \"normal\"\n",
        "        self.correct[\"state\"] = \"normal\"\n",
        "        self.lowerBound = 1\n",
        "        self.upperBound = 100\n",
        "        self.count = 0\n",
        "        self.myNumber = (self.lowerBound + self.upperBound) // 2\n",
        "        self.myLabel[\"text\"] = \"Is the number \" + str(self.myNumber) + \"?\"\n",
        "        \n",
        "g1 = GuessingGame()"
      ],
      "metadata": {
        "id": "Dosqcw98nSiG"
      },
      "execution_count": null,
      "outputs": []
    },
    {
      "cell_type": "code",
      "source": [
        "#8.6\n",
        "\n",
        "\n",
        "from tkinter import *\n",
        "\n",
        "\n",
        "def tax():\n",
        "    i_amount = 35000\n",
        "    if var.get() == 1:\n",
        "        tax_amt = 0.2 * i_amount\n",
        "    elif var.get() == 2:\n",
        "        tax_amt = 0.15 * i_amount\n",
        "    elif var.get() == 3:\n",
        "        tax_amt = 0.1 * i_amount\n",
        "    out_dis = \"Taxable amount based on the selection is : \" + str(tax_amt)\n",
        "    l.config(text = out_dis)\n",
        "\n",
        "\n",
        "tk = Tk()\n",
        "tk.title(\"Tax calculator\")\n",
        "tk.geometry(\"300x200\")\n",
        "var = IntVar()\n",
        "var.set(1)\n",
        "radio_button_0 = Radiobutton(tk, text = \"Single\", variable = var, value = 1)\n",
        "radio_button_0.place(x=50,y=50)\n",
        "radio_button_1 = Radiobutton(tk, text = \"Married\", variable = var, value = 2)\n",
        "radio_button_1.place(x=50,y=80)\n",
        "radio_button_2 = Radiobutton(tk, text = \"Divorced\", variable = var, value = 3)\n",
        "radio_button_2.place(x=50,y=110)\n",
        "compute_button = Button(tk, text=\"Calculate\", command=tax)\n",
        "compute_button.place(x=50, y=140)\n",
        "exit_button = Button(tk, text=\"Quit\", command=tk.quit)\n",
        "exit_button.place(x=130, y=140)\n",
        "l = Label(tk)\n",
        "l.place(x=20, y=20)\n",
        "\n",
        "\n",
        "tk.mainloop()"
      ],
      "metadata": {
        "id": "ZqeELSeDEI1V"
      },
      "execution_count": null,
      "outputs": []
    },
    {
      "cell_type": "code",
      "source": [
        "#8.7\n",
        "\n",
        "\n",
        "from tkinter import *\n",
        "\n",
        "class GUI:\n",
        "    def __init__(self):\n",
        "        #creating GUI\n",
        "\n",
        "        #This is for window\n",
        "        self.window=Tk()\n",
        "        self.window.geometry('750x200')\n",
        "\n",
        "        #These all are frames\n",
        "        self.top=Frame()\n",
        "        self.mid1=Frame()\n",
        "        self.mid2=Frame()\n",
        "        self.bottom=Frame()\n",
        "\n",
        "        #These are for entry and labels\n",
        "        self.interest=Label(self.top, text='What is Interest Rate', width=20)\n",
        "        self.interest_entry=Entry(self.top, width=30)\n",
        "        self.purchase=Label(self.mid1, text='What is Purchase Price',width=20)\n",
        "        self.purchase_entry=Entry(self.mid1, width=30)\n",
        "\n",
        "        self.interest.pack(side='left')\n",
        "        self.interest_entry.pack(side='left')\n",
        "        self.purchase.pack(side='left')\n",
        "        self.purchase_entry.pack(side='left')\n",
        "\n",
        "\n",
        "        #Button to get result, it will call getResult method\n",
        "        self.result=Button(self.mid2,text='Show Result',command=self.getResult,width=50)\n",
        "        self.result.pack(side='left')\n",
        "\n",
        "        # Vertical (y) Scroll Bar\n",
        "        scroll = Scrollbar(self.bottom)\n",
        "        scroll.pack(side=RIGHT, fill=Y)\n",
        "\n",
        "        # Text Widget\n",
        "        self.eula = Text(self.bottom, wrap=NONE, yscrollcommand=scroll.set)\n",
        "        self.eula.pack(side=\"left\")\n",
        "\n",
        "        # Configure the scrollbars\n",
        "        scroll.config(command=self.eula.yview)\n",
        "\n",
        "        #packing all frames\n",
        "        self.top.pack()\n",
        "        self.mid1.pack()\n",
        "        self.mid2.pack()\n",
        "        self.bottom.pack()\n",
        "        self.window.mainloop()\n",
        "\n",
        "    def getResult(self):\n",
        "        try:#calling model method to show results\n",
        "            interest=float(self.interest_entry.get())\n",
        "            principle=float(self.purchase_entry.get())\n",
        "            mod=Model()\n",
        "            result=mod.getResult(principle,interest)\n",
        "            self.eula.delete(1.0,END)\n",
        "            self.eula.insert(\"end-1c\",result)\n",
        "            #print(result)\n",
        "        except:\n",
        "            messagebox.showerror(title=None, message=\"Please give valid input\")\n",
        "\n",
        "\n",
        "\n",
        "class Model:\n",
        "    def __init__(self):\n",
        "        self.result = \"\"\n",
        "\n",
        "    def getResult(self, principle,interest):\n",
        "        month=1\n",
        "        monthlyPayment=principle*(5/100.0)\n",
        "        balance=principle-(10/100.0)*principle\n",
        "        output=\"Month\\tBalance Owned\\tInterest\\tPrinciple Owed\\t\\tMonthly Payment\\t\\tBalance\\n\"\n",
        "        while balance>0:\n",
        "            totalBalanceOwned=round(balance,2)\n",
        "            interestOwed=round((interest/100.0)*totalBalanceOwned/12,2)\n",
        "            amountOfPrincipleOwed=round(monthlyPayment-interestOwed,2)\n",
        "            balance=round(balance-amountOfPrincipleOwed,2)\n",
        "            if balance>0:\n",
        "                output=output+str(month)+\"\\t\"+str(totalBalanceOwned)+\"\\t\\t\"+str(interestOwed)+\"\\t\\t\"+str(amountOfPrincipleOwed)+\"\\t\\t\"+str(monthlyPayment)+\"\\t\\t\"+str(balance)\n",
        "                output=output+\"\\n\"\n",
        "            month=month+1\n",
        "        return output"
      ],
      "metadata": {
        "id": "EOlHQw-fc7w0"
      },
      "execution_count": null,
      "outputs": []
    }
  ],
  "metadata": {
    "colab": {
      "name": "scratchpad",
      "provenance": [],
      "include_colab_link": true
    },
    "kernelspec": {
      "display_name": "Python 3",
      "name": "python3"
    }
  },
  "nbformat": 4,
  "nbformat_minor": 0
}