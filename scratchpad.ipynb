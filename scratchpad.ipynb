{
  "cells": [
    {
      "cell_type": "markdown",
      "metadata": {
        "id": "view-in-github",
        "colab_type": "text"
      },
      "source": [
        "<a href=\"https://colab.research.google.com/github/RafsanJany-44/ARC/blob/master/scratchpad.ipynb\" target=\"_parent\"><img src=\"https://colab.research.google.com/assets/colab-badge.svg\" alt=\"Open In Colab\"/></a>"
      ]
    },
    {
      "cell_type": "code",
      "execution_count": null,
      "metadata": {
        "id": "lIYdn1woOS1n"
      },
      "outputs": [],
      "source": [
        "#2.1\n",
        "\n",
        "income= float(input('Enter the gross income: '))\n",
        "num_of_depends= float(input('Enter the number of dependents: '))\n",
        "\n",
        "\n"
      ]
    },
    {
      "cell_type": "code",
      "source": [
        "#2.2\n",
        "\n",
        "edge=int(input(\"Enter the cube's edge: \"))\n",
        "print()\n",
        "print(\"The surface area is\",6*edge**2, \"square units.\")"
      ],
      "metadata": {
        "colab": {
          "base_uri": "https://localhost:8080/"
        },
        "id": "_AmyfhCnjVDl",
        "outputId": "c2c479d5-f032-4f5d-e2b8-efd021fe3184"
      },
      "execution_count": 8,
      "outputs": [
        {
          "output_type": "stream",
          "name": "stdout",
          "text": [
            "Enter the cube's edge: 4\n",
            "\n",
            "The surface area is 96 square units.\n"
          ]
        }
      ]
    },
    {
      "cell_type": "code",
      "source": [
        "#2.3\n",
        "\n",
        "new_vdo = int(input(\"Enter the number of new videos: \"))\n",
        "old_vdo = int(input(\"Enter the number of old videos: \"))\n",
        "print()\n",
        "print(\"The total cost is $\"+str(3*new_vdo+2*old_vdo))"
      ],
      "metadata": {
        "id": "6aS4M0c-3hVD",
        "outputId": "43307ae4-c72b-41fe-9fd2-4be219d4ce0d",
        "colab": {
          "base_uri": "https://localhost:8080/"
        }
      },
      "execution_count": 6,
      "outputs": [
        {
          "output_type": "stream",
          "name": "stdout",
          "text": [
            "Enter the number of new videos: 3\n",
            "Enter the number of old videos: 2\n",
            "\n",
            "The total cost is $13\n"
          ]
        }
      ]
    },
    {
      "cell_type": "code",
      "source": [
        "#2.4\n",
        "\n",
        "radius=int(input(\"Radius = \"))\n",
        "\n",
        "print()\n",
        "\n",
        "print(\"Diameter      : \", 2*radius)\n",
        "print(\"Circumference : \", 2*radius*3.141592653589793)\n",
        "print(\"Surface area  : \", 4*3.141592653589793*radius**2)\n",
        "print(\"Volume        : \", (4/3)*3.141592653589793*radius**3)\n"
      ],
      "metadata": {
        "id": "aXz171Yd5lNr",
        "outputId": "84188b9d-85d7-4e43-a6ad-c8087573f8db",
        "colab": {
          "base_uri": "https://localhost:8080/"
        }
      },
      "execution_count": 9,
      "outputs": [
        {
          "output_type": "stream",
          "name": "stdout",
          "text": [
            "Radius = 5\n",
            "\n",
            "Diameter      :  10\n",
            "Circumference :  31.41592653589793\n",
            "Surface area  :  314.1592653589793\n",
            "Volume        :  523.5987755982989\n"
          ]
        }
      ]
    },
    {
      "cell_type": "code",
      "source": [
        "2#2.5\n",
        "\n",
        "mass= float(input(\"Mass: \"))\n",
        "velocity = float(input(\"Velocity: \"))\n",
        "print()\n",
        "print(\"The object's momentum is : \", mass*velocity)"
      ],
      "metadata": {
        "colab": {
          "base_uri": "https://localhost:8080/"
        },
        "id": "BPAyt4v5gjOo",
        "outputId": "d5c8754d-40e8-49c0-d345-8220eb9782e8"
      },
      "execution_count": 10,
      "outputs": [
        {
          "output_type": "stream",
          "name": "stdout",
          "text": [
            "Mass: 5\n",
            "Velocity: 2.5\n",
            "\n",
            "The object's momentum is :  12.5\n"
          ]
        }
      ]
    },
    {
      "cell_type": "code",
      "source": [
        "#2.6\n",
        "\n",
        "mass= float(input(\"Mass: \"))\n",
        "velocity = float(input(\"Velocity: \"))\n",
        "print()\n",
        "print(\"The object's momentum is : \", mass*velocity)\n",
        "print(\"The object's kinetic energy is : \", 0.5*mass*velocity*velocity)"
      ],
      "metadata": {
        "colab": {
          "base_uri": "https://localhost:8080/"
        },
        "id": "bliP0u2xh4Hj",
        "outputId": "57418fe3-d221-4263-b949-eb08c1694d06"
      },
      "execution_count": 11,
      "outputs": [
        {
          "output_type": "stream",
          "name": "stdout",
          "text": [
            "Mass: 5\n",
            "Velocity: 2.5\n",
            "\n",
            "The object's momentum is :  12.5\n",
            "The object's kinetic energy is :  15.625\n"
          ]
        }
      ]
    },
    {
      "cell_type": "code",
      "source": [
        "#2.7\n",
        "\n",
        "print(\"The number of minutes in a year is \", (365*24*60))"
      ],
      "metadata": {
        "colab": {
          "base_uri": "https://localhost:8080/"
        },
        "id": "U0_p3t_Oh4D5",
        "outputId": "90fc07fe-5635-488e-ba96-3a3ddda4044e"
      },
      "execution_count": null,
      "outputs": [
        {
          "output_type": "stream",
          "name": "stdout",
          "text": [
            "The number of minutes in a year is  525600\n"
          ]
        }
      ]
    },
    {
      "cell_type": "code",
      "source": [
        "#2.8\n",
        "\n",
        "print(\"Light travels \", int(365*24*60*60*3*10e8), \" meters in a year\")"
      ],
      "metadata": {
        "colab": {
          "base_uri": "https://localhost:8080/"
        },
        "id": "1KumntNukjIi",
        "outputId": "a50c0809-12a4-4248-e6b9-3ecc742a774a"
      },
      "execution_count": null,
      "outputs": [
        {
          "output_type": "stream",
          "name": "stdout",
          "text": [
            "Light travels  94608000000000000  meters in a year\n"
          ]
        }
      ]
    },
    {
      "cell_type": "code",
      "source": [
        "#2.9\n",
        "\n",
        "km=int(input(\"Enter the number kilometers: \"))\n",
        "\n",
        "naut_mile=((90*60)/10000)*km\n",
        "print()\n",
        "print(\"The number ofnautical miles is \", naut_mile)"
      ],
      "metadata": {
        "colab": {
          "base_uri": "https://localhost:8080/"
        },
        "id": "AX4_Q4KxbueY",
        "outputId": "76b51e40-811c-466b-b5eb-1bcc0c531028"
      },
      "execution_count": 12,
      "outputs": [
        {
          "output_type": "stream",
          "name": "stdout",
          "text": [
            "Enter the number kilometers: 100\n",
            "\n",
            "The number ofnautical miles is  54.0\n"
          ]
        }
      ]
    },
    {
      "cell_type": "code",
      "source": [
        "#2.10\n",
        "wage = float(input(\"Enter the wage: $\"))\n",
        "reg_hours = float(input(\"Enter the regular hours: \"))\n",
        "overtime_hours = float(input(\"Enter the overtime hours: \"))\n",
        "\n",
        "total_pay= wage*reg_hours+wage*1.5*overtime_hours\n",
        "\n",
        "print()\n",
        "print(\"The total weekly pay is $\"+str(total_pay))"
      ],
      "metadata": {
        "colab": {
          "base_uri": "https://localhost:8080/"
        },
        "id": "WZE-aoDrhSWj",
        "outputId": "66535822-4c7d-4257-9d75-85c9bafc4fca"
      },
      "execution_count": 16,
      "outputs": [
        {
          "output_type": "stream",
          "name": "stdout",
          "text": [
            "Enter the wage: $15.5\n",
            "Enter the regular hours: 40\n",
            "Enter the overtime hours: 12\n",
            "\n",
            "The total weekly pay is $899.0\n"
          ]
        }
      ]
    }
  ],
  "metadata": {
    "colab": {
      "name": "scratchpad",
      "provenance": [],
      "include_colab_link": true
    },
    "kernelspec": {
      "display_name": "Python 3",
      "name": "python3"
    }
  },
  "nbformat": 4,
  "nbformat_minor": 0
}