{
  "cells": [
    {
      "cell_type": "markdown",
      "metadata": {
        "id": "view-in-github",
        "colab_type": "text"
      },
      "source": [
        "<a href=\"https://colab.research.google.com/github/RafsanJany-44/ARC/blob/master/scratchpad.ipynb\" target=\"_parent\"><img src=\"https://colab.research.google.com/assets/colab-badge.svg\" alt=\"Open In Colab\"/></a>"
      ]
    },
    {
      "cell_type": "code",
      "execution_count": null,
      "metadata": {
        "id": "lIYdn1woOS1n"
      },
      "outputs": [],
      "source": [
        "#2.1\n",
        "\n",
        "income= float(input('Enter the gross income: '))\n",
        "num_of_depends= float(input('Enter the number of dependents: '))\n",
        "\n",
        "\n"
      ]
    },
    {
      "cell_type": "code",
      "source": [
        "#2.5\n",
        "\n",
        "mass= float(input(\"Mass: \"))\n",
        "velocity = float(input(\"Velocity: \"))\n",
        "\n",
        "print(\"The object's momentum is : \", mass*velocity)"
      ],
      "metadata": {
        "colab": {
          "base_uri": "https://localhost:8080/"
        },
        "id": "BPAyt4v5gjOo",
        "outputId": "9884e4ab-221f-465d-baa8-692ba15983ce"
      },
      "execution_count": null,
      "outputs": [
        {
          "output_type": "stream",
          "name": "stdout",
          "text": [
            "Mass: 5\n",
            "Velocity: 2.5\n",
            "The object's momentum is :  12.5\n"
          ]
        }
      ]
    },
    {
      "cell_type": "code",
      "source": [
        "#2.6\n",
        "\n",
        "mass= float(input(\"Mass: \"))\n",
        "velocity = float(input(\"Velocity: \"))\n",
        "\n",
        "print(\"The object's momentum is : \", mass*velocity)\n",
        "print(\"The object's kinetic energy is : \", 0.5*mass*velocity*velocity)"
      ],
      "metadata": {
        "colab": {
          "base_uri": "https://localhost:8080/"
        },
        "id": "bliP0u2xh4Hj",
        "outputId": "6838c403-d999-4fa3-8135-a32eeb2a370a"
      },
      "execution_count": null,
      "outputs": [
        {
          "output_type": "stream",
          "name": "stdout",
          "text": [
            "Mass: 5\n",
            "Velocity: 2.5\n",
            "The object's momentum is :  12.5\n",
            "The object's kinetic energy is :  15.625\n"
          ]
        }
      ]
    },
    {
      "cell_type": "code",
      "source": [
        "#2.7\n",
        "\n",
        "print(\"The number of minutes in a year is \", (365*24*60))"
      ],
      "metadata": {
        "colab": {
          "base_uri": "https://localhost:8080/"
        },
        "id": "U0_p3t_Oh4D5",
        "outputId": "90fc07fe-5635-488e-ba96-3a3ddda4044e"
      },
      "execution_count": null,
      "outputs": [
        {
          "output_type": "stream",
          "name": "stdout",
          "text": [
            "The number of minutes in a year is  525600\n"
          ]
        }
      ]
    },
    {
      "cell_type": "code",
      "source": [
        "#2.8\n",
        "\n",
        "print(\"Light travels \", int(365*24*60*60*3*10e8), \" meters in a year\")"
      ],
      "metadata": {
        "colab": {
          "base_uri": "https://localhost:8080/"
        },
        "id": "1KumntNukjIi",
        "outputId": "a50c0809-12a4-4248-e6b9-3ecc742a774a"
      },
      "execution_count": null,
      "outputs": [
        {
          "output_type": "stream",
          "name": "stdout",
          "text": [
            "Light travels  94608000000000000  meters in a year\n"
          ]
        }
      ]
    },
    {
      "cell_type": "code",
      "source": [
        "#2.9\n",
        "\n",
        "km=int(input(\"Enter the number kilometers: \"))\n",
        "\n",
        "naut_mile=((90*60)/10000)*km\n",
        "\n",
        "print(\"The number ofnautical miles is \", naut_mile)"
      ],
      "metadata": {
        "id": "AX4_Q4KxbueY",
        "outputId": "fc833af4-e59b-4d3b-abc7-8d9b024a6400",
        "colab": {
          "base_uri": "https://localhost:8080/"
        }
      },
      "execution_count": 5,
      "outputs": [
        {
          "output_type": "stream",
          "name": "stdout",
          "text": [
            "Enter the number kilometers: 100\n",
            "The number ofnautical miles is  54.0\n"
          ]
        }
      ]
    }
  ],
  "metadata": {
    "colab": {
      "name": "scratchpad",
      "provenance": [],
      "include_colab_link": true
    },
    "kernelspec": {
      "display_name": "Python 3",
      "name": "python3"
    }
  },
  "nbformat": 4,
  "nbformat_minor": 0
}