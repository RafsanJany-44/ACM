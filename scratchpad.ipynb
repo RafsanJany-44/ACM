{
  "cells": [
    {
      "cell_type": "markdown",
      "metadata": {
        "id": "view-in-github",
        "colab_type": "text"
      },
      "source": [
        "<a href=\"https://colab.research.google.com/github/RafsanJany-44/ARC/blob/master/scratchpad.ipynb\" target=\"_parent\"><img src=\"https://colab.research.google.com/assets/colab-badge.svg\" alt=\"Open In Colab\"/></a>"
      ]
    },
    {
      "cell_type": "code",
      "execution_count": null,
      "metadata": {
        "id": "lIYdn1woOS1n"
      },
      "outputs": [],
      "source": [
        "#2.1\n",
        "\n",
        "income= float(input('Enter the gross income: '))\n",
        "num_of_depends= float(input('Enter the number of dependents: '))\n",
        "\n",
        "\n"
      ]
    },
    {
      "cell_type": "code",
      "source": [
        "#2.2\n",
        "\n",
        "edge=int(input(\"Enter the cube's edge: \"))\n",
        "print()\n",
        "print(\"The surface area is\",6*edge**2, \"square units.\")"
      ],
      "metadata": {
        "colab": {
          "base_uri": "https://localhost:8080/"
        },
        "id": "_AmyfhCnjVDl",
        "outputId": "c2c479d5-f032-4f5d-e2b8-efd021fe3184"
      },
      "execution_count": null,
      "outputs": [
        {
          "output_type": "stream",
          "name": "stdout",
          "text": [
            "Enter the cube's edge: 4\n",
            "\n",
            "The surface area is 96 square units.\n"
          ]
        }
      ]
    },
    {
      "cell_type": "code",
      "source": [
        "#2.3\n",
        "\n",
        "new_vdo = int(input(\"Enter the number of new videos: \"))\n",
        "old_vdo = int(input(\"Enter the number of old videos: \"))\n",
        "print()\n",
        "print(\"The total cost is $\"+str(3*new_vdo+2*old_vdo))"
      ],
      "metadata": {
        "colab": {
          "base_uri": "https://localhost:8080/"
        },
        "id": "6aS4M0c-3hVD",
        "outputId": "43307ae4-c72b-41fe-9fd2-4be219d4ce0d"
      },
      "execution_count": null,
      "outputs": [
        {
          "output_type": "stream",
          "name": "stdout",
          "text": [
            "Enter the number of new videos: 3\n",
            "Enter the number of old videos: 2\n",
            "\n",
            "The total cost is $13\n"
          ]
        }
      ]
    },
    {
      "cell_type": "code",
      "source": [
        "#2.4\n",
        "\n",
        "radius=int(input(\"Radius = \"))\n",
        "\n",
        "print()\n",
        "\n",
        "print(\"Diameter      : \", 2*radius)\n",
        "print(\"Circumference : \", 2*radius*3.141592653589793)\n",
        "print(\"Surface area  : \", 4*3.141592653589793*radius**2)\n",
        "print(\"Volume        : \", (4/3)*3.141592653589793*radius**3)\n"
      ],
      "metadata": {
        "colab": {
          "base_uri": "https://localhost:8080/"
        },
        "id": "aXz171Yd5lNr",
        "outputId": "84188b9d-85d7-4e43-a6ad-c8087573f8db"
      },
      "execution_count": null,
      "outputs": [
        {
          "output_type": "stream",
          "name": "stdout",
          "text": [
            "Radius = 5\n",
            "\n",
            "Diameter      :  10\n",
            "Circumference :  31.41592653589793\n",
            "Surface area  :  314.1592653589793\n",
            "Volume        :  523.5987755982989\n"
          ]
        }
      ]
    },
    {
      "cell_type": "code",
      "source": [
        "2#2.5\n",
        "\n",
        "mass= float(input(\"Mass: \"))\n",
        "velocity = float(input(\"Velocity: \"))\n",
        "print()\n",
        "print(\"The object's momentum is : \", mass*velocity)"
      ],
      "metadata": {
        "colab": {
          "base_uri": "https://localhost:8080/"
        },
        "id": "BPAyt4v5gjOo",
        "outputId": "d5c8754d-40e8-49c0-d345-8220eb9782e8"
      },
      "execution_count": null,
      "outputs": [
        {
          "output_type": "stream",
          "name": "stdout",
          "text": [
            "Mass: 5\n",
            "Velocity: 2.5\n",
            "\n",
            "The object's momentum is :  12.5\n"
          ]
        }
      ]
    },
    {
      "cell_type": "code",
      "source": [
        "#2.6\n",
        "\n",
        "mass= float(input(\"Mass: \"))\n",
        "velocity = float(input(\"Velocity: \"))\n",
        "print()\n",
        "print(\"The object's momentum is : \", mass*velocity)\n",
        "print(\"The object's kinetic energy is : \", 0.5*mass*velocity*velocity)"
      ],
      "metadata": {
        "colab": {
          "base_uri": "https://localhost:8080/"
        },
        "id": "bliP0u2xh4Hj",
        "outputId": "57418fe3-d221-4263-b949-eb08c1694d06"
      },
      "execution_count": null,
      "outputs": [
        {
          "output_type": "stream",
          "name": "stdout",
          "text": [
            "Mass: 5\n",
            "Velocity: 2.5\n",
            "\n",
            "The object's momentum is :  12.5\n",
            "The object's kinetic energy is :  15.625\n"
          ]
        }
      ]
    },
    {
      "cell_type": "code",
      "source": [
        "#2.7\n",
        "\n",
        "print(\"The number of minutes in a year is \", (365*24*60))"
      ],
      "metadata": {
        "colab": {
          "base_uri": "https://localhost:8080/"
        },
        "id": "U0_p3t_Oh4D5",
        "outputId": "90fc07fe-5635-488e-ba96-3a3ddda4044e"
      },
      "execution_count": null,
      "outputs": [
        {
          "output_type": "stream",
          "name": "stdout",
          "text": [
            "The number of minutes in a year is  525600\n"
          ]
        }
      ]
    },
    {
      "cell_type": "code",
      "source": [
        "#2.8\n",
        "\n",
        "print(\"Light travels \", int(365*24*60*60*3*10e8), \" meters in a year\")"
      ],
      "metadata": {
        "colab": {
          "base_uri": "https://localhost:8080/"
        },
        "id": "1KumntNukjIi",
        "outputId": "a50c0809-12a4-4248-e6b9-3ecc742a774a"
      },
      "execution_count": null,
      "outputs": [
        {
          "output_type": "stream",
          "name": "stdout",
          "text": [
            "Light travels  94608000000000000  meters in a year\n"
          ]
        }
      ]
    },
    {
      "cell_type": "code",
      "source": [
        "#2.9\n",
        "\n",
        "km=int(input(\"Enter the number kilometers: \"))\n",
        "\n",
        "naut_mile=((90*60)/10000)*km\n",
        "print()\n",
        "print(\"The number ofnautical miles is \", naut_mile)"
      ],
      "metadata": {
        "colab": {
          "base_uri": "https://localhost:8080/"
        },
        "id": "AX4_Q4KxbueY",
        "outputId": "76b51e40-811c-466b-b5eb-1bcc0c531028"
      },
      "execution_count": null,
      "outputs": [
        {
          "output_type": "stream",
          "name": "stdout",
          "text": [
            "Enter the number kilometers: 100\n",
            "\n",
            "The number ofnautical miles is  54.0\n"
          ]
        }
      ]
    },
    {
      "cell_type": "code",
      "source": [
        "#2.10\n",
        "wage = float(input(\"Enter the wage: $\"))\n",
        "reg_hours = float(input(\"Enter the regular hours: \"))\n",
        "overtime_hours = float(input(\"Enter the overtime hours: \"))\n",
        "\n",
        "total_pay= wage*reg_hours+wage*1.5*overtime_hours\n",
        "\n",
        "print()\n",
        "print(\"The total weekly pay is $\"+str(total_pay))"
      ],
      "metadata": {
        "colab": {
          "base_uri": "https://localhost:8080/"
        },
        "id": "WZE-aoDrhSWj",
        "outputId": "66535822-4c7d-4257-9d75-85c9bafc4fca"
      },
      "execution_count": null,
      "outputs": [
        {
          "output_type": "stream",
          "name": "stdout",
          "text": [
            "Enter the wage: $15.5\n",
            "Enter the regular hours: 40\n",
            "Enter the overtime hours: 12\n",
            "\n",
            "The total weekly pay is $899.0\n"
          ]
        }
      ]
    },
    {
      "cell_type": "code",
      "source": [
        "#3.1\n",
        "\n",
        "side1 = float(input(\"Enter the first side: \"))\n",
        "side2 = float(input(\"Enter the second side: \"))\n",
        "side3 = float(input(\"Enter the third side: \"))\n",
        "\n",
        "print()\n",
        "\n",
        "if (side1+side2>side3):\n",
        "  print('The triangle is equilateral.')\n",
        "else:\n",
        "\n",
        "  print('The triangle is not equilateral.')\n"
      ],
      "metadata": {
        "colab": {
          "base_uri": "https://localhost:8080/"
        },
        "id": "cBaR06E88HzT",
        "outputId": "c29cbb25-b1fa-44fc-deba-6309e0b676ac"
      },
      "execution_count": null,
      "outputs": [
        {
          "output_type": "stream",
          "name": "stdout",
          "text": [
            "Enter the first side: 3\n",
            "Enter the second side: 9\n",
            "Enter the third side: 20\n",
            "\n",
            "The triangle is not equilateral.\n"
          ]
        }
      ]
    },
    {
      "cell_type": "code",
      "source": [
        "#3.2\n",
        "\n",
        "side1 = float(input(\"Enter the first side: \"))\n",
        "side2 = float(input(\"Enter the second side: \"))\n",
        "side3 = float(input(\"Enter the third side: \"))\n",
        "\n",
        "# selecting the hypotenuse by comparing\n",
        "if (side1 > side2 and side1>side3):\n",
        "  hypotenuse=side1\n",
        "  base=side2\n",
        "  height=side3\n",
        "\n",
        "elif (side2 > side1 and side2 > side3):\n",
        "  hypotenuse=side2\n",
        "  base=side1\n",
        "  height=side3\n",
        "\n",
        "\n",
        "else:\n",
        "  hypotenuse=side3\n",
        "  base=side2\n",
        "  height=side1\n",
        "\n",
        "\n",
        "print()\n",
        "\n",
        "if ((base**2)+(height**2)==(hypotenuse**2)): #recalling Pythagorean theorem\n",
        "  print('The triangle is equilateral.')\n",
        "else:\n",
        "  print('The triangle is not equilateral.')\n"
      ],
      "metadata": {
        "colab": {
          "base_uri": "https://localhost:8080/"
        },
        "id": "DZ14S36z9X8c",
        "outputId": "ef49eb17-1d7e-4bd1-f8a1-e9a97dd0a3b2"
      },
      "execution_count": null,
      "outputs": [
        {
          "output_type": "stream",
          "name": "stdout",
          "text": [
            "Enter the first side: 8\n",
            "Enter the second side: 6\n",
            "Enter the third side: 10\n",
            "\n",
            "The triangle is equilateral.\n"
          ]
        }
      ]
    },
    {
      "cell_type": "code",
      "source": [
        "#3.3\n",
        "\n",
        "import random\n",
        "import math\n",
        "\n",
        "smaller = int(input(\"Enter the smaller number: \"))\n",
        "larger  = int(input(\"Enter the larger number: \"))\n",
        "\n",
        "\n",
        "x = smaller\n",
        "y = larger\n",
        "\n",
        "myNumber = random.randint(smaller,larger)\n",
        "count = 0\n",
        "MaxGus = round(math.log(larger - smaller + 1, 2)) #settin the max guesses \n",
        "\n",
        "\n",
        "while True:\n",
        "  count+=1\n",
        "  print(x,y)\n",
        "\n",
        "  print(\"Your number is\",myNumber)\n",
        "\n",
        "  sign = input(\"Enter =, <, or >:\")\n",
        "\n",
        "  if sign=='=':\n",
        "    print(\"Horray, I've got it in\",count,\"tries.\")\n",
        "    break\n",
        "  \n",
        "  elif sign=='<':\n",
        "    y = myNumber-1\n",
        "  \n",
        "  elif sign=='>':\n",
        "    x = myNumber+1\n",
        "  \n",
        "  if x >= y:\n",
        "    print(\"I'm out of guesses, and you cheated!\")\n",
        "    break\n",
        "  if count==MaxGus:\n",
        "    print(\"I'm out of guesses, and you cheated!\")\n",
        "    break\n",
        "  myNumber = random.randint(x,y)\n",
        "\n",
        "\n",
        "\n",
        "\n",
        "\n",
        "  \n",
        "\n",
        "\n"
      ],
      "metadata": {
        "id": "Dk2X3g1OAZXb",
        "outputId": "7fde8c4c-8d0b-4808-8a03-9a552d0feec9",
        "colab": {
          "base_uri": "https://localhost:8080/"
        }
      },
      "execution_count": null,
      "outputs": [
        {
          "output_type": "stream",
          "name": "stdout",
          "text": [
            "Enter the smaller number: 0\n",
            "Enter the larger number: 10\n",
            "0 10\n",
            "Your number is 1\n",
            "Enter =, <, or >:=\n",
            "Horray, I've got it in 1 tries.\n"
          ]
        }
      ]
    },
    {
      "cell_type": "code",
      "source": [
        "#3.4\n",
        "\n",
        "height= float(input(\"Enter the height from which the ball is droped: \"))\n",
        "bounch_index = float(input(\"Enter the bounciness index of the ball: \"))\n",
        "number_of_bouncing = int(input(\"Enter the number of times the ball is allowed to continue bouncing: \"))\n",
        "\n",
        "\n",
        "total_distance=0\n",
        "\n",
        "for i in range(number_of_bouncing): # setting the nunber of bounching\n",
        "  new_height=height*bounch_index\n",
        "\n",
        "  total_distance=total_distance+height+new_height # setting the height aftch bouner each\n",
        "\n",
        "  height=new_height\n",
        "\n",
        "print(\"Total distacne traveled:\",total_distance,\"units\")\n",
        "\n",
        "\n"
      ],
      "metadata": {
        "colab": {
          "base_uri": "https://localhost:8080/"
        },
        "id": "Yj9NAe9CeILF",
        "outputId": "8aeed0b4-f424-4cd0-b012-c03ab2b2d568"
      },
      "execution_count": null,
      "outputs": [
        {
          "output_type": "stream",
          "name": "stdout",
          "text": [
            "Enter the height from which the ball is droped: 25\n",
            "Enter the bounciness index of the ball: .5\n",
            "enter the number of times the ball is allowed to continue bouncing: 3\n",
            "Total distacne traveled: 65.625 units\n"
          ]
        }
      ]
    },
    {
      "cell_type": "code",
      "source": [
        "#3.5\n",
        "\n",
        "number_of_organisms = int(input(\"Enter the initial number of organisms: \"))\n",
        "rate_of_growth = float(input(\"Enter the rate of growth [a real number > 1]: \"))\n",
        "achive_hours = int(input(\"Enter the number of hours to achieve the rate of growth: \"))\n",
        "total_hours = int(input(\"Enter the total hours of growth: \"))\n",
        "\n"
      ],
      "metadata": {
        "id": "GR9DXeYKihAP"
      },
      "execution_count": null,
      "outputs": []
    }
  ],
  "metadata": {
    "colab": {
      "name": "scratchpad",
      "provenance": [],
      "include_colab_link": true
    },
    "kernelspec": {
      "display_name": "Python 3",
      "name": "python3"
    }
  },
  "nbformat": 4,
  "nbformat_minor": 0
}