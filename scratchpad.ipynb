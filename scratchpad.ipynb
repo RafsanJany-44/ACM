{
  "cells": [
    {
      "cell_type": "markdown",
      "metadata": {
        "id": "view-in-github",
        "colab_type": "text"
      },
      "source": [
        "<a href=\"https://colab.research.google.com/github/RafsanJany-44/ARC/blob/master/scratchpad.ipynb\" target=\"_parent\"><img src=\"https://colab.research.google.com/assets/colab-badge.svg\" alt=\"Open In Colab\"/></a>"
      ]
    },
    {
      "cell_type": "code",
      "execution_count": 1,
      "metadata": {
        "id": "lIYdn1woOS1n"
      },
      "outputs": [],
      "source": [
        "import pandas as pd\n",
        "import numpy as np\n",
        "from sklearn.preprocessing import label_binarize\n",
        "from sklearn.multiclass import OneVsRestClassifier"
      ]
    },
    {
      "cell_type": "code",
      "source": [
        "from google.colab import drive\n",
        "drive.mount('/content/drive')"
      ],
      "metadata": {
        "id": "bMAwudXi_4He",
        "outputId": "3ab066b7-7aa4-489a-9739-abd312e4c7d9",
        "colab": {
          "base_uri": "https://localhost:8080/"
        }
      },
      "execution_count": 2,
      "outputs": [
        {
          "output_type": "stream",
          "name": "stdout",
          "text": [
            "Mounted at /content/drive\n"
          ]
        }
      ]
    },
    {
      "cell_type": "code",
      "source": [
        "\n",
        "data = '/content/drive/MyDrive/Iqram Sir/Tinnitus_ALR_features_106.csv'\n",
        "dataset = pd.read_csv(data)"
      ],
      "metadata": {
        "id": "a-fqvPEO_6n6"
      },
      "execution_count": 3,
      "outputs": []
    },
    {
      "cell_type": "code",
      "source": [
        "X = dataset.iloc[:, 3:].values\n",
        "y = dataset.iloc[:, 0].values"
      ],
      "metadata": {
        "id": "lBz5Nfe4_9cO"
      },
      "execution_count": 4,
      "outputs": []
    },
    {
      "cell_type": "code",
      "source": [
        "from sklearn.model_selection import train_test_split\n",
        "\n",
        "X_train, X_test, y_train, y_test = train_test_split(X, y, test_size = 0.33, random_state = 0)"
      ],
      "metadata": {
        "id": "a1pfOeBwAhL2"
      },
      "execution_count": 5,
      "outputs": []
    },
    {
      "cell_type": "code",
      "source": [
        "from sklearn.ensemble import RandomForestClassifier\n",
        "rf = RandomForestClassifier(n_estimators=20, random_state=0)\n",
        "y_score = rf.fit(X_train, y_train).predict_proba(X_test)"
      ],
      "metadata": {
        "id": "utV_o54aA27Z"
      },
      "execution_count": 8,
      "outputs": []
    },
    {
      "cell_type": "code",
      "source": [
        "from sklearn.naive_bayes import GaussianNB\n",
        "nb=GaussianNB()\n",
        "nb.fit(X_train,y_train)"
      ],
      "metadata": {
        "id": "_ENO20X8C2zH",
        "outputId": "0b084aa1-310b-4bc8-8616-34f9ee850624",
        "colab": {
          "base_uri": "https://localhost:8080/"
        }
      },
      "execution_count": 10,
      "outputs": [
        {
          "output_type": "execute_result",
          "data": {
            "text/plain": [
              "GaussianNB()"
            ]
          },
          "metadata": {},
          "execution_count": 10
        }
      ]
    },
    {
      "cell_type": "code",
      "source": [
        "r_probs=[0 for _ in range(len(y_test))]\n",
        "rf_probs = rf.predict_proba(X_test)\n",
        "\n",
        "nb_probs=nb.predict_proba(X_test)"
      ],
      "metadata": {
        "id": "f1Q0R6qhBiF-"
      },
      "execution_count": 11,
      "outputs": []
    },
    {
      "cell_type": "code",
      "source": [
        "rf_probs=rf_probs[:,1]\n",
        "nb_probs=nb_probs[:,1]"
      ],
      "metadata": {
        "id": "-CRgQOhWD3F1"
      },
      "execution_count": 12,
      "outputs": []
    },
    {
      "cell_type": "code",
      "source": [
        "from sklearn.metrics import roc_curve, roc_auc_score\n",
        "\n"
      ],
      "metadata": {
        "id": "Mwd1BVq4A34G"
      },
      "execution_count": 13,
      "outputs": []
    },
    {
      "cell_type": "code",
      "source": [
        "r_auc= roc_auc_score(y_test, r_probs)\n",
        "rf_auc=roc_auc_score(y_test, rf_probs)\n",
        "nb_auc=roc_auc_score(y_test, nb_probs)"
      ],
      "metadata": {
        "id": "ZGIRWYmCEH5M"
      },
      "execution_count": 14,
      "outputs": []
    },
    {
      "cell_type": "code",
      "source": [
        "print(\"Random (change) Prediction AUROC= %.3f\" % (r_auc))\n",
        "print(\"Random Forest: AUROC = %.3f\" % (rf_auc))\n",
        "print(\"Naive Bayes: AUROC= %.3f\" % (nb_auc))"
      ],
      "metadata": {
        "id": "UtP-u-2wElAC",
        "outputId": "22160322-58e4-4435-df0d-be453b9baaac",
        "colab": {
          "base_uri": "https://localhost:8080/"
        }
      },
      "execution_count": 16,
      "outputs": [
        {
          "output_type": "stream",
          "name": "stdout",
          "text": [
            "Random (change) Prediction AUROC= 0.500\n",
            "Random Forest: AUROC = 0.780\n",
            "Naive Bayes: AUROC= 0.770\n"
          ]
        }
      ]
    }
  ],
  "metadata": {
    "colab": {
      "name": "scratchpad",
      "provenance": [],
      "include_colab_link": true
    },
    "kernelspec": {
      "display_name": "Python 3",
      "name": "python3"
    }
  },
  "nbformat": 4,
  "nbformat_minor": 0
}