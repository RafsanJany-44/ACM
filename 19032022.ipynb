{
  "nbformat": 4,
  "nbformat_minor": 0,
  "metadata": {
    "colab": {
      "name": "19032022.ipynb",
      "provenance": [],
      "authorship_tag": "ABX9TyM8VXzuIOfBfyQRXkZNuTID",
      "include_colab_link": true
    },
    "kernelspec": {
      "name": "python3",
      "display_name": "Python 3"
    },
    "language_info": {
      "name": "python"
    }
  },
  "cells": [
    {
      "cell_type": "markdown",
      "metadata": {
        "id": "view-in-github",
        "colab_type": "text"
      },
      "source": [
        "<a href=\"https://colab.research.google.com/github/RafsanJany-44/practice_cell/blob/master/19032022.ipynb\" target=\"_parent\"><img src=\"https://colab.research.google.com/assets/colab-badge.svg\" alt=\"Open In Colab\"/></a>"
      ]
    },
    {
      "cell_type": "markdown",
      "source": [
        "+\t__add__(self, other)<br>\n",
        "–\t__sub__(self, other)<br>\n",
        "*\t__mul__(self, other)<br>\n",
        "/\t__truediv__(self, other)<br>\n",
        "//\t__floordiv__(self, other)<br>\n",
        "%\t__mod__(self, other)<br>\n",
        "***\t__pow__(self, other)<br>\n",
        "__rshift__(self, other)<br>\n",
        "<<\t__lshift__(self, other)<br>\n",
        "&\t__and__(self, other)<br>\n",
        "|\t__or__(self, other)<br>\n",
        "^\t__xor__(self, other)<br>\n",
        "\n",
        "<\t__lt__(self, other)<br>\n",
        "greater\t__gt__(self, other)<br>\n",
        "less\t__le__(self, other)<br>\n",
        "greater equal\t__ge__(self, other)<br>\n",
        "==\t__eq__(self, other)<br>\n",
        "!=\t__ne__(self, other)<br>\n"
      ],
      "metadata": {
        "id": "wiy06QuwgXLL"
      }
    },
    {
      "cell_type": "markdown",
      "source": [
        "#Task1"
      ],
      "metadata": {
        "id": "pqPO-90ThKmD"
      }
    },
    {
      "cell_type": "code",
      "source": [
        "class Marks:\n",
        "    def __init__(self, a):\n",
        "      self.a = a\n",
        "    \n",
        "    # adding two objects\n",
        "    def __add__(self, o):\n",
        "      a=self.a + o.a\n",
        "      return Marks(a)\n",
        "\n",
        "    def __repr__(self):\n",
        "      return \"Marks({})\".format(self.a)\n",
        "\n",
        "    def __str__(self):\n",
        "        return str(self.a)\n",
        "\n",
        "Q1 = Marks(int(input(\"Quiz 1 (out of 10): \")))\n",
        "Q2 = Marks(int(input(\"Quiz 2 (out of 10): \")))\n",
        "Lab = Marks(int(input(\"Lab (out of 30): \")))\n",
        "Mid = Marks(int(input(\"Mid (out of 20): \")))\n",
        "Final = Marks(int(input(\"Final (out of 30): \")))\n",
        "total = Q1 + Q2 + Lab + Mid + Final\n",
        "print(\"Total marks: {}\".format(total))"
      ],
      "metadata": {
        "id": "qWGdyZLeblJ3",
        "outputId": "45753482-c1fd-4161-d5a3-2da188f4a57d",
        "colab": {
          "base_uri": "https://localhost:8080/"
        }
      },
      "execution_count": 20,
      "outputs": [
        {
          "output_type": "stream",
          "name": "stdout",
          "text": [
            "Quiz 1 (out of 10): 10\n",
            "Quiz 2 (out of 10): 10\n",
            "Lab (out of 30): 30\n",
            "Mid (out of 20): 20\n",
            "Final (out of 30): 30\n",
            "Total marks: 100\n"
          ]
        }
      ]
    },
    {
      "cell_type": "code",
      "source": [
        ""
      ],
      "metadata": {
        "id": "Bfwv0zwylimv"
      },
      "execution_count": null,
      "outputs": []
    }
  ]
}