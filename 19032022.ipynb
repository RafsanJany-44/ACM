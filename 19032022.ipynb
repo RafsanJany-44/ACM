{
  "nbformat": 4,
  "nbformat_minor": 0,
  "metadata": {
    "colab": {
      "name": "19032022.ipynb",
      "provenance": [],
      "authorship_tag": "ABX9TyNKATfF2yoxra+2axv8+YpI",
      "include_colab_link": true
    },
    "kernelspec": {
      "name": "python3",
      "display_name": "Python 3"
    },
    "language_info": {
      "name": "python"
    }
  },
  "cells": [
    {
      "cell_type": "markdown",
      "metadata": {
        "id": "view-in-github",
        "colab_type": "text"
      },
      "source": [
        "<a href=\"https://colab.research.google.com/github/RafsanJany-44/practice_cell/blob/master/19032022.ipynb\" target=\"_parent\"><img src=\"https://colab.research.google.com/assets/colab-badge.svg\" alt=\"Open In Colab\"/></a>"
      ]
    },
    {
      "cell_type": "markdown",
      "source": [
        "+\t__add__(self, other)<br>\n",
        "–\t__sub__(self, other)<br>\n",
        "*\t__mul__(self, other)<br>\n",
        "/\t__truediv__(self, other)<br>\n",
        "//\t__floordiv__(self, other)<br>\n",
        "%\t__mod__(self, other)<br>\n",
        "***\t__pow__(self, other)<br>\n",
        "__rshift__(self, other)<br>\n",
        "<<\t__lshift__(self, other)<br>\n",
        "&\t__and__(self, other)<br>\n",
        "|\t__or__(self, other)<br>\n",
        "^\t__xor__(self, other)<br>\n",
        "\n",
        "<\t__lt__(self, other)<br>\n",
        "greater\t__gt__(self, other)<br>\n",
        "less\t__le__(self, other)<br>\n",
        "greater equal\t__ge__(self, other)<br>\n",
        "==\t__eq__(self, other)<br>\n",
        "!=\t__ne__(self, other)<br>\n"
      ],
      "metadata": {
        "id": "wiy06QuwgXLL"
      }
    },
    {
      "cell_type": "markdown",
      "source": [
        "#Task1"
      ],
      "metadata": {
        "id": "pqPO-90ThKmD"
      }
    },
    {
      "cell_type": "code",
      "source": [
        "class Marks:\n",
        "    def __init__(self, a):\n",
        "      self.a = a\n",
        "    \n",
        "    # adding two objects\n",
        "    def __add__(self, o):\n",
        "      a=self.a + o.a\n",
        "      return Marks(a)\n",
        "\n",
        "    def __repr__(self):\n",
        "      return \"Marks({})\".format(self.a)\n",
        "\n",
        "    def __str__(self):\n",
        "        return str(self.a)\n",
        "\n",
        "Q1 = Marks(int(input(\"Quiz 1 (out of 10): \")))\n",
        "Q2 = Marks(int(input(\"Quiz 2 (out of 10): \")))\n",
        "Lab = Marks(int(input(\"Lab (out of 30): \")))\n",
        "Mid = Marks(int(input(\"Mid (out of 20): \")))\n",
        "Final = Marks(int(input(\"Final (out of 30): \")))\n",
        "total = Q1 + Q2 + Lab + Mid + Final\n",
        "print(\"Total marks: {}\".format(total))"
      ],
      "metadata": {
        "colab": {
          "base_uri": "https://localhost:8080/"
        },
        "id": "qWGdyZLeblJ3",
        "outputId": "45753482-c1fd-4161-d5a3-2da188f4a57d"
      },
      "execution_count": null,
      "outputs": [
        {
          "output_type": "stream",
          "name": "stdout",
          "text": [
            "Quiz 1 (out of 10): 10\n",
            "Quiz 2 (out of 10): 10\n",
            "Lab (out of 30): 30\n",
            "Mid (out of 20): 20\n",
            "Final (out of 30): 30\n",
            "Total marks: 100\n"
          ]
        }
      ]
    },
    {
      "cell_type": "markdown",
      "source": [
        "#Task 2\n"
      ],
      "metadata": {
        "id": "ndndj-77nJ8d"
      }
    },
    {
      "cell_type": "code",
      "source": [
        "class Teacher:\n",
        "  def __init__(self, name,dept):\n",
        "    self.__name = name\n",
        "    self.__dept = dept\n",
        "    self.__courses=[]\n",
        "  \n",
        "  def addCourse(self,course):\n",
        "    self.__courses.append(course)\n",
        "  def printDetail(self):\n",
        "    print(\"=====================================\")\n",
        "    print(\"Name:\",self.__name)\n",
        "    print(\"Department:\",self.__dept)\n",
        "    print(\"List of courses\")\n",
        "    print(\"=====================================\")\n",
        "    for i in self.__courses:\n",
        "      print(i.name)\n",
        "    print(\"=====================================\")\n",
        "\n",
        "class Course:\n",
        "  def __init__(self,name):\n",
        "    self.name=name\n",
        "\n",
        "\n",
        "\n",
        "t1 = Teacher(\"Saad Abdullah\", \"CSE\")\n",
        "t2 = Teacher(\"Mumit Khan\", \"CSE\")\n",
        "t3 = Teacher(\"Sadia Kazi\", \"CSE\")\n",
        "c1 = Course(\"CSE 110 Programming Language I\")\n",
        "c2 = Course(\"CSE 111 Programming Language-II\")\n",
        "c3 = Course(\"CSE 220 Data Structures\")\n",
        "c4 = Course(\"CSE 221 Algorithms\")\n",
        "c5 = Course(\"CCSE 230 Discrete Mathematics\")\n",
        "c6 = Course(\"CSE 310 Object Oriented Programming\")\n",
        "c7 = Course(\"CSE 320 Data Communications\")\n",
        "c8 = Course(\"CSE 340 Computer Architecture\")\n",
        "t1.addCourse(c1)\n",
        "t1.addCourse(c2)\n",
        "t2.addCourse(c3)\n",
        "t2.addCourse(c4)\n",
        "t2.addCourse(c5)\n",
        "t3.addCourse(c6)\n",
        "t3.addCourse(c7)\n",
        "t3.addCourse(c8)\n",
        "t1.printDetail()\n",
        "t2.printDetail()\n",
        "t3.printDetail()"
      ],
      "metadata": {
        "id": "Bfwv0zwylimv",
        "colab": {
          "base_uri": "https://localhost:8080/"
        },
        "outputId": "9b55c3fb-8b10-4887-c4f4-d70e7836c9a7"
      },
      "execution_count": 10,
      "outputs": [
        {
          "output_type": "stream",
          "name": "stdout",
          "text": [
            "=====================================\n",
            "Name: Saad Abdullah\n",
            "Department: CSE\n",
            "List of courses\n",
            "=====================================\n",
            "CSE 110 Programming Language I\n",
            "CSE 111 Programming Language-II\n",
            "=====================================\n",
            "=====================================\n",
            "Name: Mumit Khan\n",
            "Department: CSE\n",
            "List of courses\n",
            "=====================================\n",
            "CSE 220 Data Structures\n",
            "CSE 221 Algorithms\n",
            "CCSE 230 Discrete Mathematics\n",
            "=====================================\n",
            "=====================================\n",
            "Name: Sadia Kazi\n",
            "Department: CSE\n",
            "List of courses\n",
            "=====================================\n",
            "CSE 310 Object Oriented Programming\n",
            "CSE 320 Data Communications\n",
            "CSE 340 Computer Architecture\n",
            "=====================================\n"
          ]
        }
      ]
    },
    {
      "cell_type": "markdown",
      "source": [
        "#TASK 3"
      ],
      "metadata": {
        "id": "JH1jtYYCSCYX"
      }
    },
    {
      "cell_type": "code",
      "source": [
        "class Team:\n",
        "\n",
        "class Player:"
      ],
      "metadata": {
        "id": "nZmBG8gPPEoQ"
      },
      "execution_count": null,
      "outputs": []
    }
  ]
}