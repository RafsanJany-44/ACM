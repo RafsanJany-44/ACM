{
  "nbformat": 4,
  "nbformat_minor": 0,
  "metadata": {
    "colab": {
      "name": "19032022.ipynb",
      "provenance": [],
      "authorship_tag": "ABX9TyPf6L5x3ZpYmzwKK7dX3WNd",
      "include_colab_link": true
    },
    "kernelspec": {
      "name": "python3",
      "display_name": "Python 3"
    },
    "language_info": {
      "name": "python"
    }
  },
  "cells": [
    {
      "cell_type": "markdown",
      "metadata": {
        "id": "view-in-github",
        "colab_type": "text"
      },
      "source": [
        "<a href=\"https://colab.research.google.com/github/RafsanJany-44/practice_cell/blob/master/19032022.ipynb\" target=\"_parent\"><img src=\"https://colab.research.google.com/assets/colab-badge.svg\" alt=\"Open In Colab\"/></a>"
      ]
    },
    {
      "cell_type": "markdown",
      "source": [
        "+\t__add__(self, other)<br>\n",
        "–\t__sub__(self, other)<br>\n",
        "*\t__mul__(self, other)<br>\n",
        "/\t__truediv__(self, other)<br>\n",
        "//\t__floordiv__(self, other)<br>\n",
        "%\t__mod__(self, other)<br>\n",
        "***\t__pow__(self, other)<br>\n",
        "__rshift__(self, other)<br>\n",
        "<<\t__lshift__(self, other)<br>\n",
        "&\t__and__(self, other)<br>\n",
        "|\t__or__(self, other)<br>\n",
        "^\t__xor__(self, other)<br>\n",
        "\n",
        "<\t__lt__(self, other)<br>\n",
        "greater\t__gt__(self, other)<br>\n",
        "less\t__le__(self, other)<br>\n",
        "greater equal\t__ge__(self, other)<br>\n",
        "==\t__eq__(self, other)<br>\n",
        "!=\t__ne__(self, other)<br>\n"
      ],
      "metadata": {
        "id": "wiy06QuwgXLL"
      }
    },
    {
      "cell_type": "markdown",
      "source": [
        "#Task1"
      ],
      "metadata": {
        "id": "pqPO-90ThKmD"
      }
    },
    {
      "cell_type": "code",
      "source": [
        "class Marks:\n",
        "    def __init__(self, a):\n",
        "      self.a = a\n",
        "    \n",
        "    # adding two objects\n",
        "    def __add__(self, o):\n",
        "      a=self.a + o.a\n",
        "      return Marks(a)\n",
        "\n",
        "    def __repr__(self):\n",
        "      return \"Marks({})\".format(self.a)\n",
        "\n",
        "    def __str__(self):\n",
        "        return str(self.a)\n",
        "\n",
        "Q1 = Marks(int(input(\"Quiz 1 (out of 10): \")))\n",
        "Q2 = Marks(int(input(\"Quiz 2 (out of 10): \")))\n",
        "Lab = Marks(int(input(\"Lab (out of 30): \")))\n",
        "Mid = Marks(int(input(\"Mid (out of 20): \")))\n",
        "Final = Marks(int(input(\"Final (out of 30): \")))\n",
        "total = Q1 + Q2 + Lab + Mid + Final\n",
        "print(\"Total marks: {}\".format(total))"
      ],
      "metadata": {
        "colab": {
          "base_uri": "https://localhost:8080/"
        },
        "id": "qWGdyZLeblJ3",
        "outputId": "45753482-c1fd-4161-d5a3-2da188f4a57d"
      },
      "execution_count": 20,
      "outputs": [
        {
          "output_type": "stream",
          "name": "stdout",
          "text": [
            "Quiz 1 (out of 10): 10\n",
            "Quiz 2 (out of 10): 10\n",
            "Lab (out of 30): 30\n",
            "Mid (out of 20): 20\n",
            "Final (out of 30): 30\n",
            "Total marks: 100\n"
          ]
        }
      ]
    },
    {
      "cell_type": "markdown",
      "source": [
        "________________________________________________"
      ],
      "metadata": {
        "id": "57UNA4UksQzG"
      }
    },
    {
      "cell_type": "code",
      "source": [
        "#print(input())\n",
        "x=list(input().replace(\"-\",\"\").split(\" \"))\n",
        "epoch_det=[]\n",
        "l=len(x)\n",
        "print(l)\n",
        "print(l/13)\n",
        "print(x[0:13])\n",
        "i=1\n",
        "j=0\n",
        "while(i<=l/13):\n",
        "  epoch_det.append(x[j:j+13])\n",
        "  i+=1\n",
        "  j+=13\n",
        "\n",
        "print(epoch_det)"
      ],
      "metadata": {
        "id": "Kw-zZwpAsTgU",
        "outputId": "86a2c0db-37b2-4021-ab04-12677c0486a0",
        "colab": {
          "base_uri": "https://localhost:8080/"
        }
      },
      "execution_count": 32,
      "outputs": [
        {
          "output_type": "stream",
          "name": "stdout",
          "text": [
            "Epoch 1/1000 2712/2712 [==============================] - 8s 3ms/step - loss: 1.3199 - accuracy: 0.4932 Epoch 2/1000 2712/2712 [==============================] - 6s 2ms/step - loss: 1.0645 - accuracy: 0.5750 Epoch 3/1000 2712/2712 [==============================] - 5s 2ms/step - loss: 1.0035 - accuracy: 0.5964 Epoch 4/1000 2712/2712 [==============================] - 4s 2ms/step - loss: 0.9677 - accuracy: 0.6124 Epoch 5/1000 2712/2712 [==============================] - 4s 2ms/step - loss: 0.9404 - accuracy: 0.6239 Epoch 6/1000 2712/2712 [==============================] - 4s 2ms/step - loss: 0.9271 - accuracy: 0.6281 Epoch 7/1000 2712/2712 [==============================] - 5s 2ms/step - loss: 0.9118 - accuracy: 0.6352 Epoch 8/1000 2712/2712 [==============================] - 4s 2ms/step - loss: 0.8996 - accuracy: 0.6416 Epoch 9/1000 2712/2712 [==============================] - 4s 2ms/step - loss: 0.8902 - accuracy: 0.6450 Epoch 10/1000 2712/2712 [==============================] - 4s 2ms/step - loss: 0.8794 - accuracy: 0.6495 Epoch 11/1000 2712/2712 [==============================] - 4s 2ms/step - loss: 0.8757 - accuracy: 0.6525 Epoch 12/1000 2712/2712 [==============================] - 4s 2ms/step - loss: 0.8648 - accuracy: 0.6543 Epoch 13/1000 2712/2712 [==============================] - 5s 2ms/step - loss: 0.8581 - accuracy: 0.6573 Epoch 14/1000 2712/2712 [==============================] - 4s 2ms/step - loss: 0.8558 - accuracy: 0.6589 Epoch 15/1000 2712/2712 [==============================] - 4s 2ms/step - loss: 0.8476 - accuracy: 0.6622 Epoch 16/1000 2712/2712 [==============================] - 4s 2ms/step - loss: 0.8424 - accuracy: 0.6654 Epoch 17/1000 2712/2712 [==============================] - 4s 2ms/step - loss: 0.8393 - accuracy: 0.6666 Epoch 18/1000 2712/2712 [==============================] - 4s 2ms/step - loss: 0.8324 - accuracy: 0.6685 Epoch 19/1000 2712/2712 [==============================] - 4s 2ms/step - loss: 0.8309 - accuracy: 0.6700\n",
            "247\n",
            "19.0\n",
            "['Epoch', '1/1000', '2712/2712', '[==============================]', '', '8s', '3ms/step', '', 'loss:', '1.3199', '', 'accuracy:', '0.4932']\n",
            "[['Epoch', '1/1000', '2712/2712', '[==============================]', '', '8s', '3ms/step', '', 'loss:', '1.3199', '', 'accuracy:', '0.4932'], ['Epoch', '2/1000', '2712/2712', '[==============================]', '', '6s', '2ms/step', '', 'loss:', '1.0645', '', 'accuracy:', '0.5750'], ['Epoch', '3/1000', '2712/2712', '[==============================]', '', '5s', '2ms/step', '', 'loss:', '1.0035', '', 'accuracy:', '0.5964'], ['Epoch', '4/1000', '2712/2712', '[==============================]', '', '4s', '2ms/step', '', 'loss:', '0.9677', '', 'accuracy:', '0.6124'], ['Epoch', '5/1000', '2712/2712', '[==============================]', '', '4s', '2ms/step', '', 'loss:', '0.9404', '', 'accuracy:', '0.6239'], ['Epoch', '6/1000', '2712/2712', '[==============================]', '', '4s', '2ms/step', '', 'loss:', '0.9271', '', 'accuracy:', '0.6281'], ['Epoch', '7/1000', '2712/2712', '[==============================]', '', '5s', '2ms/step', '', 'loss:', '0.9118', '', 'accuracy:', '0.6352'], ['Epoch', '8/1000', '2712/2712', '[==============================]', '', '4s', '2ms/step', '', 'loss:', '0.8996', '', 'accuracy:', '0.6416'], ['Epoch', '9/1000', '2712/2712', '[==============================]', '', '4s', '2ms/step', '', 'loss:', '0.8902', '', 'accuracy:', '0.6450'], ['Epoch', '10/1000', '2712/2712', '[==============================]', '', '4s', '2ms/step', '', 'loss:', '0.8794', '', 'accuracy:', '0.6495'], ['Epoch', '11/1000', '2712/2712', '[==============================]', '', '4s', '2ms/step', '', 'loss:', '0.8757', '', 'accuracy:', '0.6525'], ['Epoch', '12/1000', '2712/2712', '[==============================]', '', '4s', '2ms/step', '', 'loss:', '0.8648', '', 'accuracy:', '0.6543'], ['Epoch', '13/1000', '2712/2712', '[==============================]', '', '5s', '2ms/step', '', 'loss:', '0.8581', '', 'accuracy:', '0.6573'], ['Epoch', '14/1000', '2712/2712', '[==============================]', '', '4s', '2ms/step', '', 'loss:', '0.8558', '', 'accuracy:', '0.6589'], ['Epoch', '15/1000', '2712/2712', '[==============================]', '', '4s', '2ms/step', '', 'loss:', '0.8476', '', 'accuracy:', '0.6622'], ['Epoch', '16/1000', '2712/2712', '[==============================]', '', '4s', '2ms/step', '', 'loss:', '0.8424', '', 'accuracy:', '0.6654'], ['Epoch', '17/1000', '2712/2712', '[==============================]', '', '4s', '2ms/step', '', 'loss:', '0.8393', '', 'accuracy:', '0.6666'], ['Epoch', '18/1000', '2712/2712', '[==============================]', '', '4s', '2ms/step', '', 'loss:', '0.8324', '', 'accuracy:', '0.6685'], ['Epoch', '19/1000', '2712/2712', '[==============================]', '', '4s', '2ms/step', '', 'loss:', '0.8309', '', 'accuracy:', '0.6700']]\n"
          ]
        }
      ]
    },
    {
      "cell_type": "markdown",
      "source": [
        "#Task 2\n"
      ],
      "metadata": {
        "id": "ndndj-77nJ8d"
      }
    },
    {
      "cell_type": "code",
      "source": [
        ""
      ],
      "metadata": {
        "id": "Bfwv0zwylimv"
      },
      "execution_count": null,
      "outputs": []
    }
  ]
}