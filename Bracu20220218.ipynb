{
  "nbformat": 4,
  "nbformat_minor": 0,
  "metadata": {
    "colab": {
      "name": "Bracu20220218.ipynb",
      "provenance": [],
      "authorship_tag": "ABX9TyNqzr+JZU15C0BtaLFEd/SW",
      "include_colab_link": true
    },
    "kernelspec": {
      "name": "python3",
      "display_name": "Python 3"
    },
    "language_info": {
      "name": "python"
    }
  },
  "cells": [
    {
      "cell_type": "markdown",
      "metadata": {
        "id": "view-in-github",
        "colab_type": "text"
      },
      "source": [
        "<a href=\"https://colab.research.google.com/github/RafsanJany-44/practice_cell/blob/master/Bracu20220218.ipynb\" target=\"_parent\"><img src=\"https://colab.research.google.com/assets/colab-badge.svg\" alt=\"Open In Colab\"/></a>"
      ]
    },
    {
      "cell_type": "markdown",
      "source": [
        "1. Write a function which will return the fraction part after dividing a number by another. The range should be within 0 and 1. Exception: Since dividing anything by 0 results in error so if the denominator is 0, the function will return 0 instead of attempting the division.\n"
      ],
      "metadata": {
        "id": "gSfGC_QQlgO7"
      }
    },
    {
      "cell_type": "code",
      "source": [
        "def fun(n,d):\n",
        "  if d==0:\n",
        "    return str(0)\n",
        "  else:\n",
        "    r=str(n/d)\n",
        "    if r==\"0.0\":\n",
        "      return str(0)\n",
        "    else:\n",
        "      return \"0.\"+r.split(\".\")[1][0]\n",
        "\n",
        "\n",
        "fo=[]\n",
        "for i in range(3):\n",
        "  fo.append(input())\n",
        "\n",
        "\n",
        "for s in fo:\n",
        "  k=s.split(\",\")\n",
        "  nom=''\n",
        "  denom=''\n",
        "  for i in k[0]:\n",
        "    if i.isdigit():\n",
        "      nom=nom+i\n",
        "  for i in k[1]:\n",
        "    if i.isdigit():\n",
        "      denom=denom+i\n",
        "  print(fun(int(nom),int(denom)))\n",
        "\n",
        "\n",
        "\n",
        "\n"
      ],
      "metadata": {
        "colab": {
          "base_uri": "https://localhost:8080/"
        },
        "id": "mCCe2CurnNGH",
        "outputId": "5a895589-b794-4fc0-c2bf-7e4a5186f718"
      },
      "execution_count": null,
      "outputs": [
        {
          "output_type": "stream",
          "name": "stdout",
          "text": [
            "(5, 2)\n",
            "(5, 0)\n",
            "(0, 5)\n",
            "0.5\n",
            "0\n",
            "0\n"
          ]
        }
      ]
    },
    {
      "cell_type": "markdown",
      "source": [
        "2. You are one of the gym instructors at AmiKenoMota. You decide to provide a customized diet and exercise plans based on the BMI of an individual. You measure the weight in kilograms and height in meters and calculate the BMI before a plan can be decided. Write a BMI function that takes in two values, weight in kg and height in cm and print the score along with the condition. (Make sure to convert cm into m before calculation)\n",
        "BMI(height, weight)\n",
        "𝐵𝑀𝐼 = 𝑘𝑔/𝑚2\n",
        "Based on the BMI score return the following output.\n",
        "● < 18.5- Underweight\n",
        "● 18.5 - 24.9 - Normal\n",
        "● 25 -30 - Overweight\n",
        "● > 30 – Obese"
      ],
      "metadata": {
        "id": "nAIP8PgxQufP"
      }
    },
    {
      "cell_type": "code",
      "source": [
        "def BMI(weight,hight):\n",
        "  bmi=int(weight)/(int(hight)/100)**2\n",
        "  if bmi<18.5:\n",
        "    print(\"Score is \"+format(bmi,\".1f\")+\" You are Underweight\")\n",
        "  elif 18.5<=bmi<=24.9:\n",
        "    print(\"Score is \"+format(bmi,\".1f\")+\" You are Normal\")\n",
        "  elif 25<=bmi<=30:\n",
        "    print(\"Score is \"+format(bmi,\".1f\")+\" You are Overweight\")\n",
        "  elif bmi>30:\n",
        "    print(\"Score is \"+format(bmi,\".1f\")+\" You are Obese\")\n",
        "  else:\n",
        "    print(\"Invalid Input\")\n",
        "\n",
        "\n",
        "\n",
        "fo=[]\n",
        "for i in range(2):\n",
        "  fo.append(input())\n",
        "\n",
        "\n",
        "for s in fo:\n",
        "\n",
        "  k=s.split(\",\")\n",
        "  hight=''\n",
        "  weight=''\n",
        "  for i in k[0]:\n",
        "    if i.isdigit():\n",
        "      hight=hight+i\n",
        "  for i in k[1]:\n",
        "    if i.isdigit():\n",
        "      weight=weight+i\n",
        "  BMI(int(weight),int(hight))\n",
        "\n"
      ],
      "metadata": {
        "colab": {
          "base_uri": "https://localhost:8080/"
        },
        "id": "Qr9-pk0WOpa9",
        "outputId": "1b614c5d-d944-4955-ad36-56f35eba0735"
      },
      "execution_count": null,
      "outputs": [
        {
          "output_type": "stream",
          "name": "stdout",
          "text": [
            "(175, 96)\n",
            "(152, 48)\n",
            "Score is 31.3 You are Obese\n",
            "Score is 20.8 You are Normal\n"
          ]
        }
      ]
    },
    {
      "cell_type": "markdown",
      "source": [
        "3. Write a function which will take 3 arguments minimum, maximum and divisor. You have to find all the numbers that are divisible by the divisor where minimum value is inclusive and maximum value is exclusive. Add all the numbers and return the value."
      ],
      "metadata": {
        "id": "jiE1QkVNzQhO"
      }
    },
    {
      "cell_type": "code",
      "source": [
        "def fun(min,max,div):\n",
        "  sum=0\n",
        "  for i in range(min,max):\n",
        "    if (i%div==0):\n",
        "      sum=sum+i\n",
        "  return sum\n",
        "\n",
        "\n",
        "fo=[]\n",
        "for i in range(2):\n",
        "  fo.append(input())\n",
        "\n",
        "\n",
        "\n",
        "for s in fo:\n",
        "  k=s.split(\",\")\n",
        "  min=''\n",
        "  max=''\n",
        "  div=''\n",
        "  for i in k[0]:\n",
        "    if i.isdigit():\n",
        "      min=min+i\n",
        "  for i in k[1]:\n",
        "    if i.isdigit():\n",
        "      max=max+i\n",
        "  for i in k[2]:\n",
        "    if i.isdigit():\n",
        "      div=div+i\n",
        "\n",
        "  min=int(min)\n",
        "  max=int(max)\n",
        "  div=int(div)\n",
        "  print(fun(min,max,div))\n",
        "\n",
        "\n",
        "\n",
        "\n",
        "\n"
      ],
      "metadata": {
        "id": "GF3rqnA9RztD",
        "outputId": "60138f01-74a9-442b-ef16-31167e285887",
        "colab": {
          "base_uri": "https://localhost:8080/"
        }
      },
      "execution_count": 6,
      "outputs": [
        {
          "output_type": "stream",
          "name": "stdout",
          "text": [
            "(0, 10, 2)\n",
            "(3, 16, 3)\n",
            "20\n",
            "45\n"
          ]
        }
      ]
    },
    {
      "cell_type": "code",
      "source": [
        ""
      ],
      "metadata": {
        "id": "2L2Qasfr1Dzn"
      },
      "execution_count": null,
      "outputs": []
    }
  ]
}