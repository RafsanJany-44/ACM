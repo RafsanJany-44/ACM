{
  "nbformat": 4,
  "nbformat_minor": 0,
  "metadata": {
    "colab": {
      "name": "Bracu20220218.ipynb",
      "provenance": [],
      "authorship_tag": "ABX9TyO0o+eexuXHNtXdb6ak3OKa",
      "include_colab_link": true
    },
    "kernelspec": {
      "name": "python3",
      "display_name": "Python 3"
    },
    "language_info": {
      "name": "python"
    }
  },
  "cells": [
    {
      "cell_type": "markdown",
      "metadata": {
        "id": "view-in-github",
        "colab_type": "text"
      },
      "source": [
        "<a href=\"https://colab.research.google.com/github/RafsanJany-44/practice_cell/blob/master/Bracu20220218.ipynb\" target=\"_parent\"><img src=\"https://colab.research.google.com/assets/colab-badge.svg\" alt=\"Open In Colab\"/></a>"
      ]
    },
    {
      "cell_type": "markdown",
      "source": [
        "1. Write a function which will return the fraction part after dividing a number by another. The range should be within 0 and 1. Exception: Since dividing anything by 0 results in error so if the denominator is 0, the function will return 0 instead of attempting the division.\n"
      ],
      "metadata": {
        "id": "gSfGC_QQlgO7"
      }
    },
    {
      "cell_type": "code",
      "source": [
        "def fun(n,d):\n",
        "  if d==0:\n",
        "    return str(0)\n",
        "  else:\n",
        "    r=str(n/d)\n",
        "    if r==\"0.0\":\n",
        "      return str(0)\n",
        "    else:\n",
        "      return \"0.\"+r.split(\".\")[1][0]\n",
        "\n",
        "\n",
        "fo=[]\n",
        "for i in range(3):\n",
        "  fo.append(input())\n",
        "\n",
        "\n",
        "for s in fo:\n",
        "  k=s.split(\",\")\n",
        "  nom=''\n",
        "  denom=''\n",
        "  for i in k[0]:\n",
        "    if i.isdigit():\n",
        "      nom=nom+i\n",
        "  for i in k[1]:\n",
        "    if i.isdigit():\n",
        "      denom=denom+i\n",
        "  print(fun(int(nom),int(denom)))\n",
        "\n",
        "\n",
        "\n",
        "\n"
      ],
      "metadata": {
        "colab": {
          "base_uri": "https://localhost:8080/"
        },
        "id": "mCCe2CurnNGH",
        "outputId": "5a895589-b794-4fc0-c2bf-7e4a5186f718"
      },
      "execution_count": null,
      "outputs": [
        {
          "output_type": "stream",
          "name": "stdout",
          "text": [
            "(5, 2)\n",
            "(5, 0)\n",
            "(0, 5)\n",
            "0.5\n",
            "0\n",
            "0\n"
          ]
        }
      ]
    },
    {
      "cell_type": "markdown",
      "source": [
        "2. You are one of the gym instructors at AmiKenoMota. You decide to provide a customized diet and exercise plans based on the BMI of an individual. You measure the weight in kilograms and height in meters and calculate the BMI before a plan can be decided. Write a BMI function that takes in two values, weight in kg and height in cm and print the score along with the condition. (Make sure to convert cm into m before calculation)\n",
        "BMI(height, weight)\n",
        "𝐵𝑀𝐼 = 𝑘𝑔/𝑚2\n",
        "Based on the BMI score return the following output.\n",
        "● < 18.5- Underweight\n",
        "● 18.5 - 24.9 - Normal\n",
        "● 25 -30 - Overweight\n",
        "● > 30 – Obese"
      ],
      "metadata": {
        "id": "nAIP8PgxQufP"
      }
    },
    {
      "cell_type": "code",
      "source": [
        "def BMI(weight,hight):\n",
        "  bmi=int(weight)/(int(hight)/100)**2\n",
        "  if bmi<18.5:\n",
        "    print(\"Score is \"+format(bmi,\".1f\")+\" You are Underweight\")\n",
        "  elif 18.5<=bmi<=24.9:\n",
        "    print(\"Score is \"+format(bmi,\".1f\")+\" You are Normal\")\n",
        "  elif 25<=bmi<=30:\n",
        "    print(\"Score is \"+format(bmi,\".1f\")+\" You are Overweight\")\n",
        "  elif bmi>30:\n",
        "    print(\"Score is \"+format(bmi,\".1f\")+\" You are Obese\")\n",
        "  else:\n",
        "    print(\"Invalid Input\")\n",
        "\n",
        "\n",
        "\n",
        "fo=[]\n",
        "for i in range(2):\n",
        "  fo.append(input())\n",
        "\n",
        "\n",
        "for s in fo:\n",
        "\n",
        "  k=s.split(\",\")\n",
        "  hight=''\n",
        "  weight=''\n",
        "  for i in k[0]:\n",
        "    if i.isdigit():\n",
        "      hight=hight+i\n",
        "  for i in k[1]:\n",
        "    if i.isdigit():\n",
        "      weight=weight+i\n",
        "  BMI(int(weight),int(hight))\n",
        "\n"
      ],
      "metadata": {
        "colab": {
          "base_uri": "https://localhost:8080/"
        },
        "id": "Qr9-pk0WOpa9",
        "outputId": "1b614c5d-d944-4955-ad36-56f35eba0735"
      },
      "execution_count": null,
      "outputs": [
        {
          "output_type": "stream",
          "name": "stdout",
          "text": [
            "(175, 96)\n",
            "(152, 48)\n",
            "Score is 31.3 You are Obese\n",
            "Score is 20.8 You are Normal\n"
          ]
        }
      ]
    },
    {
      "cell_type": "markdown",
      "source": [
        "3. Write a function which will take 3 arguments minimum, maximum and divisor. You have to find all the numbers that are divisible by the divisor where minimum value is inclusive and maximum value is exclusive. Add all the numbers and return the value."
      ],
      "metadata": {
        "id": "jiE1QkVNzQhO"
      }
    },
    {
      "cell_type": "code",
      "source": [
        "def fun(min,max,div):\n",
        "  sum=0\n",
        "  for i in range(min,max):\n",
        "    if (i%div==0):\n",
        "      sum=sum+i\n",
        "  return sum\n",
        "\n",
        "\n",
        "fo=[]\n",
        "for i in range(2):\n",
        "  fo.append(input())\n",
        "\n",
        "\n",
        "\n",
        "for s in fo:\n",
        "  k=s.split(\",\")\n",
        "  min=''\n",
        "  max=''\n",
        "  div=''\n",
        "  for i in k[0]:\n",
        "    if i.isdigit():\n",
        "      min=min+i\n",
        "  for i in k[1]:\n",
        "    if i.isdigit():\n",
        "      max=max+i\n",
        "  for i in k[2]:\n",
        "    if i.isdigit():\n",
        "      div=div+i\n",
        "\n",
        "  min=int(min)\n",
        "  max=int(max)\n",
        "  div=int(div)\n",
        "  print(fun(min,max,div))\n",
        "\n",
        "\n",
        "\n",
        "\n",
        "\n"
      ],
      "metadata": {
        "id": "GF3rqnA9RztD",
        "colab": {
          "base_uri": "https://localhost:8080/"
        },
        "outputId": "60138f01-74a9-442b-ef16-31167e285887"
      },
      "execution_count": 6,
      "outputs": [
        {
          "output_type": "stream",
          "name": "stdout",
          "text": [
            "(0, 10, 2)\n",
            "(3, 16, 3)\n",
            "20\n",
            "45\n"
          ]
        }
      ]
    },
    {
      "cell_type": "markdown",
      "source": [
        "4. You want to order Burger from Chillox through the FoodPanda App. You have to calculate the total price. Write a function which will take the name of the burger and place(Mohakhali/Outside of Mohakhali) as input. Use default argument technique for taking place input."
      ],
      "metadata": {
        "id": "JlnvT8sx1DbC"
      }
    },
    {
      "cell_type": "code",
      "source": [
        "\n",
        "\n",
        "\n",
        "def fun(food, place=\"Mohakhali\"):\n",
        "\n",
        "  dic={\n",
        "      \"BBQChickenCheeseBurger\":250,\n",
        "      \"BeefBurger\":170,\n",
        "      \"NagaDrums\":200\n",
        "  }\n",
        "  if place==\"Mohakhali\":\n",
        "    return dic[food]+40+dic[food]*0.08\n",
        "  else:\n",
        "    return dic[food]+60+dic[food]*0.08\n",
        "\n",
        "\n",
        "\n",
        "\n",
        "fo=[]\n",
        "for i in range(2):\n",
        "  fo.append(input())\n",
        "\n",
        "for s in fo:\n",
        "  k=s.split(\",\")\n",
        "  food=''\n",
        "  place=''\n",
        "  for i in k[0]:\n",
        "    if i.isalpha():\n",
        "      food=food+i\n",
        "  if len(k)>1:\n",
        "    for i in k[1]:\n",
        "      if i.isalpha():\n",
        "        place=place+i\n",
        "    print(fun(food,place))\n",
        "  else:\n",
        "    print(fun(food))\n",
        "  "
      ],
      "metadata": {
        "colab": {
          "base_uri": "https://localhost:8080/"
        },
        "id": "2L2Qasfr1Dzn",
        "outputId": "c514b3c6-39b7-4190-948e-d4d9429847a7"
      },
      "execution_count": 15,
      "outputs": [
        {
          "output_type": "stream",
          "name": "stdout",
          "text": [
            "(‘Beef Burger’, ‘Dhanmondi’)\n",
            "(‘Beef Burger’)\n",
            "243.6\n",
            "223.6\n"
          ]
        }
      ]
    },
    {
      "cell_type": "markdown",
      "source": [
        "5. A company named Sheba.xyz has recently moved from their old domain to a new domain. However, a lot of the company email addresses are still using the old one. Write a function in python that replaces this old domain with the new one in any outdated email addresses. Keep same if the email address contains the new domain. (Do not use builtin replace function)\n",
        "Firstly, define a “replace_domain” function which accepts three parameters *The email address to be checked\n",
        "*The new domain\n",
        "* The old domain (Use Default argument technique to handle this)"
      ],
      "metadata": {
        "id": "VqitOfyh6a3C"
      }
    },
    {
      "cell_type": "code",
      "source": [
        "\n",
        "def replace_domain(eml,new,old=None):\n",
        "  if old==None:\n",
        "    return \"Unchanged: \"+eml\n",
        "  else:\n",
        "    return \"Changed: \"+eml.split(\"@\")[0]+\"@\"+new\n",
        "\n",
        "\n",
        "fo=[]\n",
        "for i in range(2):\n",
        "  fo.append(input())\n",
        "\n",
        "for s in fo:\n",
        "  k=s.split(\",\")\n",
        "  eml=''\n",
        "  new=''\n",
        "  old=''\n",
        "  sign=[\"@\",\".\"]\n",
        "  for i in k[0]:\n",
        "    if i.isalpha() or i in sign:\n",
        "      eml=eml+i\n",
        "  for i in k[1]:\n",
        "    if i.isalpha() or i in sign:\n",
        "      new=new+i\n",
        "  if len(k)>2:\n",
        "    for i in k[2]:\n",
        "      if i.isalpha() or i in sign:\n",
        "        old=old+i\n",
        "    print(replace_domain(eml,new,old))\n",
        "\n",
        "  else:\n",
        "    print(replace_domain(eml,new))\n"
      ],
      "metadata": {
        "colab": {
          "base_uri": "https://localhost:8080/"
        },
        "id": "-c021Lq_2JEI",
        "outputId": "b87b609d-84f7-4c1a-c0d3-c8b16f1c7f39"
      },
      "execution_count": 25,
      "outputs": [
        {
          "output_type": "stream",
          "name": "stdout",
          "text": [
            "(‘alice@kaaj.com’, ‘sheba.xyz’, ‘kaaj.com’)\n",
            "(‘bob@sheba.xyz’, ‘sheba.xyz’)\n",
            "Changed: alice@sheba.xyz\n",
            "Unchanged: bob@sheba.xyz\n"
          ]
        }
      ]
    },
    {
      "cell_type": "markdown",
      "source": [
        "6. Write a function which takes only your full name as input and finds the total number of vowels in that input. Output every vowel and at the end output the total number of vowels found. If your name does not contain any vowel then your function should print “No vowels in the name!”.\n"
      ],
      "metadata": {
        "id": "H_teMz1w-9Ia"
      }
    },
    {
      "cell_type": "code",
      "source": [
        "\n",
        "\n",
        "\n",
        "def fun(name):\n",
        "  li=[]\n",
        "  sum=0\n",
        "  vowel=[\"a\",\"e\",\"o\",\"i\",\"u\"]\n",
        "  for i in name:\n",
        "    if i.lower() in vowel:\n",
        "      li.append(i)\n",
        "      sum+=1\n",
        "  return (li,sum)\n",
        "\n",
        "fo=[]\n",
        "for i in range(2):\n",
        "  fo.append(input())\n",
        "\n",
        "for s in fo:\n",
        "\n",
        "  v,s=fun(s)\n",
        "  if s==0:\n",
        "    print(\"No vowels in the name\")\n",
        "  else:\n",
        "    st=\"\"\n",
        "    for i in range(len(v)):\n",
        "      if i!=len(v)-1:\n",
        "        st=st+v[i]+\",\"\n",
        "      else:\n",
        "        st=st+v[i]+\".\"\n",
        "    print(\"Vowels:\",st,\"Total number of vowels:\",s)\n"
      ],
      "metadata": {
        "colab": {
          "base_uri": "https://localhost:8080/"
        },
        "id": "oiqhrI707zTw",
        "outputId": "d83cfc1b-e684-4a1c-9564-8cc6b8f7d4af"
      },
      "execution_count": 50,
      "outputs": [
        {
          "output_type": "stream",
          "name": "stdout",
          "text": [
            "(Steve Jobs)\n",
            "(XYZ)\n",
            "Vowels: e,e,o. Total number of vowels: 3\n",
            "No vowels in the name\n"
          ]
        }
      ]
    },
    {
      "cell_type": "markdown",
      "source": [
        "7. Write a program which checks whether a given string is a palindrome or not. Note: A palindrome is a word, phrase, or sequence that reads the same backward as forward. For palindrome, any spaces in middle are not considered and should be trimmed."
      ],
      "metadata": {
        "id": "25cVAzvAENlL"
      }
    },
    {
      "cell_type": "code",
      "source": [
        "fo=[]\n",
        "\n",
        "for i in range(3):\n",
        "  fo.append(input())\n",
        "\n",
        "for i in fo:\n",
        "  s=i.replace(\" \",\"\")\n",
        "  rev=''\n",
        "  for i in range(len(s)-1,-1,-1):\n",
        "    rev=rev+s[i]\n",
        "  if rev==s:\n",
        "    print(\"Palindrome\")\n",
        "  else:\n",
        "    print(\"Not a palindrome\")"
      ],
      "metadata": {
        "colab": {
          "base_uri": "https://localhost:8080/"
        },
        "id": "6-EN_aINAZtY",
        "outputId": "9b2ccc7d-d47d-4ec5-8e91-6f744c34918f"
      },
      "execution_count": 59,
      "outputs": [
        {
          "output_type": "stream",
          "name": "stdout",
          "text": [
            "madam\n",
            "hello\n",
            "nurses run\n",
            "Palindrome\n",
            "Not a palindrome\n",
            "Palindrome\n"
          ]
        }
      ]
    },
    {
      "cell_type": "code",
      "source": [
        "fo=[]\n",
        "for i in range(2):\n",
        "  fo.append(input())\n",
        "\n",
        "for s in fo:\n",
        "  d=''\n",
        "  for i in s:\n",
        "    if i.isdigit():\n",
        "      d=d+i\n",
        "  d=int(d)\n",
        "  y=int(d/365)\n",
        "  d=d-y*365\n",
        "  m=int(d/30)\n",
        "  d=d-(m*30)\n",
        "\n",
        "\n",
        "  if y==0:\n",
        "    print(m,\"month and\",d,\"days\")\n",
        "  elif m==0:\n",
        "    print(d,\" days\")\n",
        "  else:\n",
        "    print(y,\"years\",m,\"month and\",d,\"days\")"
      ],
      "metadata": {
        "colab": {
          "base_uri": "https://localhost:8080/"
        },
        "id": "iqSqAgwGi0zI",
        "outputId": "f32cc51d-13b8-408b-a2bf-cd1aca0d9521"
      },
      "execution_count": 75,
      "outputs": [
        {
          "output_type": "stream",
          "name": "stdout",
          "text": [
            "(4320)\n",
            "(4000)\n",
            "11 years 10 month and 5 days\n",
            "10 years 11 month and 20 days\n"
          ]
        }
      ]
    },
    {
      "cell_type": "code",
      "source": [
        ""
      ],
      "metadata": {
        "id": "PN8SdOYtqsuh"
      },
      "execution_count": null,
      "outputs": []
    }
  ]
}