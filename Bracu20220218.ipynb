{
  "nbformat": 4,
  "nbformat_minor": 0,
  "metadata": {
    "colab": {
      "name": "Bracu20220218.ipynb",
      "provenance": [],
      "authorship_tag": "ABX9TyPyE3e7juCq7k6AWCivDNHi",
      "include_colab_link": true
    },
    "kernelspec": {
      "name": "python3",
      "display_name": "Python 3"
    },
    "language_info": {
      "name": "python"
    }
  },
  "cells": [
    {
      "cell_type": "markdown",
      "metadata": {
        "id": "view-in-github",
        "colab_type": "text"
      },
      "source": [
        "<a href=\"https://colab.research.google.com/github/RafsanJany-44/practice_cell/blob/master/Bracu20220218.ipynb\" target=\"_parent\"><img src=\"https://colab.research.google.com/assets/colab-badge.svg\" alt=\"Open In Colab\"/></a>"
      ]
    },
    {
      "cell_type": "markdown",
      "source": [
        "1. Write a function which will return the fraction part after dividing a number by another. The range should be within 0 and 1. Exception: Since dividing anything by 0 results in error so if the denominator is 0, the function will return 0 instead of attempting the division.\n"
      ],
      "metadata": {
        "id": "gSfGC_QQlgO7"
      }
    },
    {
      "cell_type": "code",
      "source": [
        "def fun(n,d):\n",
        "  if d==0:\n",
        "    return str(0)\n",
        "  else:\n",
        "    r=str(n/d)\n",
        "    if r==\"0.0\":\n",
        "      return str(0)\n",
        "    else:\n",
        "      return \"0.\"+r.split(\".\")[1][0]\n",
        "\n",
        "\n",
        "fo=[]\n",
        "for i in range(3):\n",
        "  fo.append(input())\n",
        "\n",
        "\n",
        "for s in fo:\n",
        "  k=s.split(\",\")\n",
        "  nom=''\n",
        "  denom=''\n",
        "  for i in k[0]:\n",
        "    if i.isdigit():\n",
        "      nom=nom+i\n",
        "  for i in k[1]:\n",
        "    if i.isdigit():\n",
        "      denom=denom+i\n",
        "  print(fun(int(nom),int(denom)))\n",
        "\n",
        "\n",
        "\n",
        "\n"
      ],
      "metadata": {
        "colab": {
          "base_uri": "https://localhost:8080/"
        },
        "id": "mCCe2CurnNGH",
        "outputId": "5a895589-b794-4fc0-c2bf-7e4a5186f718"
      },
      "execution_count": 10,
      "outputs": [
        {
          "output_type": "stream",
          "name": "stdout",
          "text": [
            "(5, 2)\n",
            "(5, 0)\n",
            "(0, 5)\n",
            "0.5\n",
            "0\n",
            "0\n"
          ]
        }
      ]
    },
    {
      "cell_type": "markdown",
      "source": [
        "2. You are one of the gym instructors at AmiKenoMota. You decide to provide a customized diet and exercise plans based on the BMI of an individual. You measure the weight in kilograms and height in meters and calculate the BMI before a plan can be decided. Write a BMI function that takes in two values, weight in kg and height in cm and print the score along with the condition. (Make sure to convert cm into m before calculation)\n",
        "BMI(height, weight)\n",
        "𝐵𝑀𝐼 = 𝑘𝑔/𝑚2\n",
        "Based on the BMI score return the following output.\n",
        "● < 18.5- Underweight\n",
        "● 18.5 - 24.9 - Normal\n",
        "● 25 -30 - Overweight\n",
        "● > 30 – Obese"
      ],
      "metadata": {
        "id": "nAIP8PgxQufP"
      }
    },
    {
      "cell_type": "code",
      "source": [
        ""
      ],
      "metadata": {
        "id": "Qr9-pk0WOpa9"
      },
      "execution_count": null,
      "outputs": []
    }
  ]
}