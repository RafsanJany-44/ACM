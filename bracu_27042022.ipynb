{
  "nbformat": 4,
  "nbformat_minor": 0,
  "metadata": {
    "colab": {
      "name": "bracu_27042022.ipynb",
      "provenance": [],
      "authorship_tag": "ABX9TyPWouUOnHGBQaPX7f2hGD6k",
      "include_colab_link": true
    },
    "kernelspec": {
      "name": "python3",
      "display_name": "Python 3"
    },
    "language_info": {
      "name": "python"
    }
  },
  "cells": [
    {
      "cell_type": "markdown",
      "metadata": {
        "id": "view-in-github",
        "colab_type": "text"
      },
      "source": [
        "<a href=\"https://colab.research.google.com/github/RafsanJany-44/ACM/blob/master/bracu_27042022.ipynb\" target=\"_parent\"><img src=\"https://colab.research.google.com/assets/colab-badge.svg\" alt=\"Open In Colab\"/></a>"
      ]
    },
    {
      "cell_type": "markdown",
      "source": [
        "You will be given a list of tuples where each tuple indicates a point i.e. (x, y) in a\n",
        "2-dimensional coordinate system.\n",
        "You need to write a python program to find the minimum distance and the point that is\n",
        "closest to the origin i.e. (0,0)"
      ],
      "metadata": {
        "id": "Zm8r2w6XAmpV"
      }
    },
    {
      "cell_type": "code",
      "execution_count": 16,
      "metadata": {
        "colab": {
          "base_uri": "https://localhost:8080/"
        },
        "id": "ncD_GjwlAMKT",
        "outputId": "bf52af4a-cbfa-45f0-ce16-8290c54993b7"
      },
      "outputs": [
        {
          "output_type": "stream",
          "name": "stdout",
          "text": [
            "Points= [(1,7), (4,5), (-1,7), (-2,0), (1,1), (5,-1)]\n",
            "['1', '7', '4', '5', '-1', '7', '-2', '0', '1', '1', '5', '-1']\n",
            "6.0\n"
          ]
        }
      ],
      "source": [
        "points=input(\"Points= \").replace(\"[\",'').replace(\"]\",\"\").replace(\"(\",\"\").replace(\")\",\"\").replace(\" \",\"\").split(',')\n",
        "print(points)\n",
        "print(len(points)/2)\n",
        "for x in range(int(len(points)/2),1):\n",
        "  print(int(x))"
      ]
    },
    {
      "cell_type": "code",
      "source": [
        "n=int(input())\n",
        "li=[]\n",
        "cal=[]\n",
        "for i in range(n):\n",
        "  x=int(input(\"X= \"))\n",
        "  y=int(input(\"Y= \"))\n",
        "  dis=((x**2)+(y**2))**0.5\n",
        "  li.append((x,y))\n",
        "  cal.append(dis)\n",
        "\n",
        "print(\"Minimum distence= \",min(cal))\n",
        "\n"
      ],
      "metadata": {
        "colab": {
          "base_uri": "https://localhost:8080/"
        },
        "id": "9rRU4FQcDFMe",
        "outputId": "61852bce-5ac4-42a0-e1f0-89c7baf1400d"
      },
      "execution_count": 6,
      "outputs": [
        {
          "output_type": "stream",
          "name": "stdout",
          "text": [
            "6\n",
            "X= 1\n",
            "Y= 7\n",
            "X= 4\n",
            "Y= 5\n",
            "X= -1\n",
            "Y= 7\n",
            "X= -2\n",
            "Y= 0\n",
            "X= 1\n",
            "Y= 1\n",
            "X= 5\n",
            "Y= -1\n",
            "Minimum distence=  1.4142135623730951\n"
          ]
        }
      ]
    }
  ]
}