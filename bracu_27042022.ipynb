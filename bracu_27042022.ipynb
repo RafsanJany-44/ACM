{
  "nbformat": 4,
  "nbformat_minor": 0,
  "metadata": {
    "colab": {
      "name": "bracu_27042022.ipynb",
      "provenance": [],
      "authorship_tag": "ABX9TyNgFzLfId62PQ49B1VwT5vh",
      "include_colab_link": true
    },
    "kernelspec": {
      "name": "python3",
      "display_name": "Python 3"
    },
    "language_info": {
      "name": "python"
    }
  },
  "cells": [
    {
      "cell_type": "markdown",
      "metadata": {
        "id": "view-in-github",
        "colab_type": "text"
      },
      "source": [
        "<a href=\"https://colab.research.google.com/github/RafsanJany-44/ACM/blob/master/bracu_27042022.ipynb\" target=\"_parent\"><img src=\"https://colab.research.google.com/assets/colab-badge.svg\" alt=\"Open In Colab\"/></a>"
      ]
    },
    {
      "cell_type": "markdown",
      "source": [
        "You will be given a list of tuples where each tuple indicates a point i.e. (x, y) in a\n",
        "2-dimensional coordinate system.\n",
        "You need to write a python program to find the minimum distance and the point that is\n",
        "closest to the origin i.e. (0,0)"
      ],
      "metadata": {
        "id": "Zm8r2w6XAmpV"
      }
    },
    {
      "cell_type": "code",
      "execution_count": 4,
      "metadata": {
        "colab": {
          "base_uri": "https://localhost:8080/"
        },
        "id": "ncD_GjwlAMKT",
        "outputId": "7b974958-6b92-4adc-e9f6-532d6ba5036a"
      },
      "outputs": [
        {
          "output_type": "stream",
          "name": "stdout",
          "text": [
            "Points=  [(1,7), (4,5), (-1,7), (-2,0), (1,1), (5,-1)]\n",
            " 1,7, 4,5, -1,7, -2,0, 1,1, 5,-1\n"
          ]
        }
      ],
      "source": [
        "points=input(\"Points= \").replace(\"[\",'').replace(\"]\",\"\").replace(\"(\",\"\").replace(\")\",\"\")\n",
        "print(points)\n"
      ]
    },
    {
      "cell_type": "code",
      "source": [
        "n=int(input())\n",
        "li=[]\n",
        "for i in range(n):\n",
        "  x=int(input(\"X= \"))\n",
        "  y=int(input(\"Y= \"))\n",
        "  li.append((x,y))\n",
        "\n",
        "print(li)\n"
      ],
      "metadata": {
        "colab": {
          "base_uri": "https://localhost:8080/"
        },
        "id": "9rRU4FQcDFMe",
        "outputId": "761188b5-c7b0-4726-f00f-9b1b08e57461"
      },
      "execution_count": 5,
      "outputs": [
        {
          "output_type": "stream",
          "name": "stdout",
          "text": [
            "6\n",
            "3\n",
            "4\n",
            "3\n",
            "6\n",
            "1\n",
            "4\n",
            "5\n",
            "6\n",
            "5\n",
            "7\n",
            "2\n",
            "6\n",
            "[(3, 4), (3, 6), (1, 4), (5, 6), (5, 7), (2, 6)]\n"
          ]
        }
      ]
    }
  ]
}