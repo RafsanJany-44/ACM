{
  "nbformat": 4,
  "nbformat_minor": 0,
  "metadata": {
    "colab": {
      "name": "lab_bracu_20211201.ipynb",
      "provenance": [],
      "authorship_tag": "ABX9TyN7GlRdHX4m3YPW0bNkvLkD",
      "include_colab_link": true
    },
    "kernelspec": {
      "name": "python3",
      "display_name": "Python 3"
    },
    "language_info": {
      "name": "python"
    }
  },
  "cells": [
    {
      "cell_type": "markdown",
      "metadata": {
        "id": "view-in-github",
        "colab_type": "text"
      },
      "source": [
        "<a href=\"https://colab.research.google.com/github/RafsanJany-44/practice_cell/blob/master/lab_bracu_20211201.ipynb\" target=\"_parent\"><img src=\"https://colab.research.google.com/assets/colab-badge.svg\" alt=\"Open In Colab\"/></a>"
      ]
    },
    {
      "cell_type": "code",
      "metadata": {
        "colab": {
          "base_uri": "https://localhost:8080/"
        },
        "id": "QPCl9Pb_J6Td",
        "outputId": "66a29e2e-1226-4af2-ffb5-4ebda5b2ebc3"
      },
      "source": [
        "num=int(input())\n",
        "exam_marks = {'Cierra Vega': 175, 'Alden Cantrell': 200, 'Kierra Gentry': 165, 'Pierre Cox': 190}\n",
        "dict={}\n",
        "for i in exam_marks:\n",
        "  if exam_marks[i]>=num:\n",
        "    dict[i]=exam_marks[i]\n",
        "print(dict)"
      ],
      "execution_count": 4,
      "outputs": [
        {
          "output_type": "stream",
          "name": "stdout",
          "text": [
            "190\n",
            "{'Alden Cantrell': 200, 'Pierre Cox': 190}\n"
          ]
        }
      ]
    },
    {
      "cell_type": "code",
      "metadata": {
        "colab": {
          "base_uri": "https://localhost:8080/"
        },
        "id": "ICdHoFL0UVny",
        "outputId": "51d2fbd2-ebf5-4c56-fbba-1c341ee1ea8b"
      },
      "source": [
        "dict={}\n",
        "\n",
        "num=int(input(\"Enter Size of Dictionary:\"))\n",
        "\n",
        "for i in range(num):\n",
        "  key=input(\"Enter Key:\")\n",
        "  val=int(input(\"Enter value:\"))\n",
        "  dict[key]=val\n",
        "\n",
        "sum=0\n",
        "for i in dict:\n",
        "  sum=sum+dict[i]\n",
        "print(\"Average is \"+(sum/num))\n"
      ],
      "execution_count": 15,
      "outputs": [
        {
          "output_type": "stream",
          "name": "stdout",
          "text": [
            "Enter Size of Dictionary:4\n",
            "Enter Key:1\n",
            "Enter value100\n",
            "Enter Key:2\n",
            "Enter value200\n",
            "Enter Key:3\n",
            "Enter value300\n",
            "600\n"
          ]
        }
      ]
    },
    {
      "cell_type": "code",
      "metadata": {
        "colab": {
          "base_uri": "https://localhost:8080/"
        },
        "id": "Ejcgnw43dbOO",
        "outputId": "d53abd0d-793d-436b-9081-b5221cdf2fcb"
      },
      "source": [
        "dict={}\n",
        "\n",
        "num=int(input(\"Enter Size of Dictionary:\"))\n",
        "key_list=[]\n",
        "value_list=[]\n",
        "for i in range(num):\n",
        "  key=input(\"Enter Key:\")\n",
        "  val=int(input(\"Enter value:\"))\n",
        "  dict[key]=val\n",
        "  key_list.append(key)\n",
        "  value_list.append(val)\n",
        "\n",
        "max=0\n",
        "for i in range(len(value_list)):\n",
        "  if max<=value_list[i]:\n",
        "    max=value_list[i]\n",
        "    key=key_list[i]\n",
        "    \n",
        "\n",
        "\n",
        "print(key,max)\n",
        "\n",
        "print(\"The highest selling book genre is '\"+key+\"' and the number of books sold are \"+str(max)+\".\")\n"
      ],
      "execution_count": 21,
      "outputs": [
        {
          "output_type": "stream",
          "name": "stdout",
          "text": [
            "Enter Size of Dictionary:4\n",
            "Enter Key:horror\n",
            "Enter value:1000\n",
            "Enter Key:scifi\n",
            "Enter value:120\n",
            "Enter Key:fiction\n",
            "Enter value:400\n",
            "Enter Key:hello owrdl\n",
            "Enter value:434\n",
            "horror 1000\n",
            "The highest selling book genre is 'horror' and the number of books sold are1000.\n"
          ]
        }
      ]
    },
    {
      "cell_type": "code",
      "metadata": {
        "id": "cA1Wuk3_M6hE"
      },
      "source": [
        ""
      ],
      "execution_count": null,
      "outputs": []
    }
  ]
}