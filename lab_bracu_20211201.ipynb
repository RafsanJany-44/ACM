{
  "nbformat": 4,
  "nbformat_minor": 0,
  "metadata": {
    "colab": {
      "name": "lab_bracu_20211201.ipynb",
      "provenance": [],
      "authorship_tag": "ABX9TyOk8+8eg0tuYvZvtMKTISkA",
      "include_colab_link": true
    },
    "kernelspec": {
      "name": "python3",
      "display_name": "Python 3"
    },
    "language_info": {
      "name": "python"
    }
  },
  "cells": [
    {
      "cell_type": "markdown",
      "metadata": {
        "id": "view-in-github",
        "colab_type": "text"
      },
      "source": [
        "<a href=\"https://colab.research.google.com/github/RafsanJany-44/practice_cell/blob/master/lab_bracu_20211201.ipynb\" target=\"_parent\"><img src=\"https://colab.research.google.com/assets/colab-badge.svg\" alt=\"Open In Colab\"/></a>"
      ]
    },
    {
      "cell_type": "markdown",
      "metadata": {
        "id": "ssPwWpKGYJa7"
      },
      "source": [
        "Suppose there is a dictionary named exam_marks as given below.\n",
        "\n",
        "exam_marks = {'Cierra Vega': 175, 'Alden Cantrell': 200, 'Kierra Gentry': 165, 'Pierre Cox': 190}\n",
        "\n",
        "Write a Python program that takes an input from the user and creates a new dictionary with only those elements from 'exam_marks' whose keys have values higher than the user input (inclusive).\n",
        "\n",
        "===================================================================\n",
        "\n",
        "Sample Input 1:\n",
        "\n",
        "170\n",
        "\n",
        "Sample Output 1:\n",
        "\n",
        "{'Cierra Vega': 175, 'Alden Cantrell': 200, 'Pierre Cox': 190}\n",
        "\n",
        "===================================================================\n",
        "\n",
        "Sample Input 2:\n",
        "\n",
        "190\n",
        "\n",
        "Sample Output 2:\n",
        "\n",
        "{'Alden Cantrell': 200, 'Pierre Cox': 190}"
      ]
    },
    {
      "cell_type": "code",
      "metadata": {
        "colab": {
          "base_uri": "https://localhost:8080/"
        },
        "id": "QPCl9Pb_J6Td",
        "outputId": "66a29e2e-1226-4af2-ffb5-4ebda5b2ebc3"
      },
      "source": [
        "num=int(input())\n",
        "exam_marks = {'Cierra Vega': 175, 'Alden Cantrell': 200, 'Kierra Gentry': 165, 'Pierre Cox': 190}\n",
        "dict={}\n",
        "for i in exam_marks:\n",
        "  if exam_marks[i]>=num:\n",
        "    dict[i]=exam_marks[i]\n",
        "print(dict)"
      ],
      "execution_count": 4,
      "outputs": [
        {
          "output_type": "stream",
          "name": "stdout",
          "text": [
            "190\n",
            "{'Alden Cantrell': 200, 'Pierre Cox': 190}\n"
          ]
        }
      ]
    },
    {
      "cell_type": "markdown",
      "metadata": {
        "id": "V0iVaf-vYZ_O"
      },
      "source": [
        "Write a Python program that takes a dictionary as an input from the user and then prints the average of all the values in the dictionary.\n",
        "\n",
        "[You are not allowed to use len() and sum()]\n",
        "\n",
        "===================================================================\n",
        "\n",
        "Hint (1): For taking dictionary input\n",
        "\n",
        "Approach(1): For taking dictionary as an input from the user, you may take the whole dictionary as a string using the input() function. Then you can use the split(), strip() functions and conditions to get the keys and values from the string. Finally, you can make the dictionary using the obtained data.\n",
        "\n",
        "Approach(2): If the first approach seems too difficult you can create an empty dictionary and then just run a simple loop. For each iteration ask the user for a key and a value using the input() function and keep updating the dictionary with the key and value.\n",
        "\n",
        "Hint (2): After you have a dictionary, you can use dictionary functions to get all the values from it, run loop to calculate the sum and the total number of values in the dictionary in order to find out the average.\n",
        "\n",
        "===================================================================\n",
        "\n",
        "Sample Input 1:\n",
        "\n",
        "{'Jon': 100, 'Dan':200, 'Rob':300}\n",
        "\n",
        "Sample Output 1:\n",
        "\n",
        "Average is 200.\n",
        "\n",
        "===================================================================\n",
        "\n",
        "Sample Input 2:\n",
        "\n",
        "{'Jon': 100, 'Dan':200, 'Rob':30, 'Ned':110}\n",
        "\n",
        "Sample Output 2:\n",
        "\n",
        "Average is 110."
      ]
    },
    {
      "cell_type": "code",
      "metadata": {
        "colab": {
          "base_uri": "https://localhost:8080/"
        },
        "id": "ICdHoFL0UVny",
        "outputId": "51d2fbd2-ebf5-4c56-fbba-1c341ee1ea8b"
      },
      "source": [
        "dict={}\n",
        "\n",
        "num=int(input(\"Enter Size of Dictionary:\"))\n",
        "\n",
        "for i in range(num):\n",
        "  key=input(\"Enter Key:\")\n",
        "  val=int(input(\"Enter value:\"))\n",
        "  dict[key]=val\n",
        "\n",
        "sum=0\n",
        "for i in dict:\n",
        "  sum=sum+dict[i]\n",
        "print(\"Average is \"+(sum/num))\n"
      ],
      "execution_count": 15,
      "outputs": [
        {
          "output_type": "stream",
          "name": "stdout",
          "text": [
            "Enter Size of Dictionary:4\n",
            "Enter Key:1\n",
            "Enter value100\n",
            "Enter Key:2\n",
            "Enter value200\n",
            "Enter Key:3\n",
            "Enter value300\n",
            "600\n"
          ]
        }
      ]
    },
    {
      "cell_type": "markdown",
      "metadata": {
        "id": "vatku2tjYd8C"
      },
      "source": [
        "Write a Python program that finds the largest value with its key from a given dictionary.\n",
        "\n",
        "[You are not allowed to use the max() function for this task]\n",
        "Note: You do not need to take the dictionaries as an input from the user but your code should work for any given dictionary. Also, you need to handle the quotation marks as a part of the output.\n",
        "\n",
        "Hint: Think of membership operators (in and not in). You can use dictionary functions to get the values.\n",
        "\n",
        "===================================================================\n",
        "\n",
        "Sample 1:\n",
        "\n",
        "Given:\n",
        "\n",
        "{'sci fi': 12, 'mystery': 15, 'horror': 8, 'mythology': 10, 'young_adult': 4, 'adventure':14}\n",
        "\n",
        "Output:\n",
        "\n",
        "The highest selling book genre is 'mystery' and the number of books sold are 15.\n",
        "\n",
        "===================================================================\n",
        "\n",
        "Sample 2:\n",
        "\n",
        "Given:\n",
        "\n",
        "{'sci fi': 5, 'mystery': 3, 'horror': 14, 'young_adult': 2, 'adventure':9}\n",
        "\n",
        "Output:\n",
        "\n",
        "The highest selling book genre is 'horror' and the number of books sold are 14."
      ]
    },
    {
      "cell_type": "code",
      "metadata": {
        "colab": {
          "base_uri": "https://localhost:8080/"
        },
        "id": "Ejcgnw43dbOO",
        "outputId": "d53abd0d-793d-436b-9081-b5221cdf2fcb"
      },
      "source": [
        "dict={}\n",
        "\n",
        "num=int(input(\"Enter Size of Dictionary:\"))\n",
        "key_list=[]\n",
        "value_list=[]\n",
        "for i in range(num):\n",
        "  key=input(\"Enter Key:\")\n",
        "  val=int(input(\"Enter value:\"))\n",
        "  dict[key]=val\n",
        "  key_list.append(key)\n",
        "  value_list.append(val)\n",
        "\n",
        "max=0\n",
        "for i in range(len(value_list)):\n",
        "  if max<=value_list[i]:\n",
        "    max=value_list[i]\n",
        "    key=key_list[i]\n",
        "    \n",
        "\n",
        "\n",
        "print(key,max)\n",
        "\n",
        "print(\"The highest selling book genre is '\"+key+\"' and the number of books sold are \"+str(max)+\".\")\n"
      ],
      "execution_count": 21,
      "outputs": [
        {
          "output_type": "stream",
          "name": "stdout",
          "text": [
            "Enter Size of Dictionary:4\n",
            "Enter Key:horror\n",
            "Enter value:1000\n",
            "Enter Key:scifi\n",
            "Enter value:120\n",
            "Enter Key:fiction\n",
            "Enter value:400\n",
            "Enter Key:hello owrdl\n",
            "Enter value:434\n",
            "horror 1000\n",
            "The highest selling book genre is 'horror' and the number of books sold are1000.\n"
          ]
        }
      ]
    },
    {
      "cell_type": "markdown",
      "metadata": {
        "id": "VdLWHgmFYlS2"
      },
      "source": [
        "Write a Python program which prints the frequency of numbers given as input by the user. You should stop taking input when you find the string \"STOP\".\n",
        "\n",
        "Note: Use a dictionary to solve the problem\n",
        "\n",
        "===================================================================\n",
        "\n",
        "Sample Input:\n",
        "\n",
        "10, 20, 20, 30, 10, 50, 90, 50, 20, STOP\n",
        "\n",
        "Sample Output:\n",
        "\n",
        "Frequency of numbers:\n",
        "10 - 2 times\n",
        "20 - 3 times\n",
        "30 - 1 times\n",
        "50 - 2 times\n",
        "90 - 1 times\n",
        "\n",
        "==================================================================="
      ]
    },
    {
      "cell_type": "code",
      "metadata": {
        "colab": {
          "base_uri": "https://localhost:8080/"
        },
        "id": "cA1Wuk3_M6hE",
        "outputId": "bc0197c1-ce74-4b29-de04-b33564139923"
      },
      "source": [
        "l1=input()\n",
        "l2=l1.split(\",\")\n",
        "l3=[]\n",
        "for i in l2:\n",
        "  if i != \" STOP\":\n",
        "    l3.append(int(i))\n",
        "\n",
        "\n",
        "dict={}\n",
        "l4=[]\n",
        "c=1\n",
        "for i in range(len(l3)):\n",
        "    if l3[i] not in l2:\n",
        "        for j in range(1,len(l3)):\n",
        "            if l3[i]==l3[j]:\n",
        "                c+=1\n",
        "        l4.append(l3[i])\n",
        "        dict[l3[i]]=c\n",
        "        c=0\n",
        "\n",
        "print(\"Frequency of numbers: \")\n",
        "for i in dict:\n",
        "    print(str(i)+\"-\"+str(dict[i])+\" times\")"
      ],
      "execution_count": 15,
      "outputs": [
        {
          "output_type": "stream",
          "name": "stdout",
          "text": [
            "10, 20, 20, 30, 10, 50, 90, 50, 20, STOP\n",
            "Frequency of numbers: \n",
            "10-1 times\n",
            "20-3 times\n",
            "30-1 times\n",
            "50-2 times\n",
            "90-1 times\n"
          ]
        }
      ]
    },
    {
      "cell_type": "code",
      "metadata": {
        "id": "DafiI0bDTpi_"
      },
      "source": [
        ""
      ],
      "execution_count": null,
      "outputs": []
    }
  ]
}