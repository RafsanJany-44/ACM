{
  "nbformat": 4,
  "nbformat_minor": 0,
  "metadata": {
    "colab": {
      "name": "Basics.ipynb",
      "provenance": [],
      "authorship_tag": "ABX9TyOVWbazAkVlFa64Mx6qJESs",
      "include_colab_link": true
    },
    "kernelspec": {
      "name": "python3",
      "display_name": "Python 3"
    },
    "language_info": {
      "name": "python"
    }
  },
  "cells": [
    {
      "cell_type": "markdown",
      "metadata": {
        "id": "view-in-github",
        "colab_type": "text"
      },
      "source": [
        "<a href=\"https://colab.research.google.com/github/RafsanJany-44/ACM/blob/master/Basics.ipynb\" target=\"_parent\"><img src=\"https://colab.research.google.com/assets/colab-badge.svg\" alt=\"Open In Colab\"/></a>"
      ]
    },
    {
      "cell_type": "markdown",
      "source": [
        "# PRINT SOMETING"
      ],
      "metadata": {
        "id": "4_N54t1D3Cen"
      }
    },
    {
      "cell_type": "code",
      "execution_count": 5,
      "metadata": {
        "colab": {
          "base_uri": "https://localhost:8080/"
        },
        "id": "22USS-gg2XAL",
        "outputId": "66fec8ec-c771-448a-968c-d840ccb7a6db"
      },
      "outputs": [
        {
          "output_type": "stream",
          "name": "stdout",
          "text": [
            "hello world!\n",
            "Annanta Jolil is the best univetsity.\n"
          ]
        }
      ],
      "source": [
        "print(\"hello world!\")\n",
        "print(\"Annanta Jolil is the best univetsity.\")"
      ]
    },
    {
      "cell_type": "code",
      "source": [
        "print(\"Din the Day\")"
      ],
      "metadata": {
        "colab": {
          "base_uri": "https://localhost:8080/"
        },
        "id": "xoANhqfh5wYU",
        "outputId": "b246fd6a-6f91-47d7-d2f1-f3057fee1ea4"
      },
      "execution_count": 3,
      "outputs": [
        {
          "output_type": "stream",
          "name": "stdout",
          "text": [
            "Din the Day\n"
          ]
        }
      ]
    },
    {
      "cell_type": "code",
      "source": [
        ""
      ],
      "metadata": {
        "id": "UtQc4Jpq57-U"
      },
      "execution_count": null,
      "outputs": []
    }
  ]
}