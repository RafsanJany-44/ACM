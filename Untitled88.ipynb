{
  "nbformat": 4,
  "nbformat_minor": 0,
  "metadata": {
    "colab": {
      "provenance": [],
      "authorship_tag": "ABX9TyNqI77oU5//yWdRxW4ozK/j",
      "include_colab_link": true
    },
    "kernelspec": {
      "name": "python3",
      "display_name": "Python 3"
    },
    "language_info": {
      "name": "python"
    }
  },
  "cells": [
    {
      "cell_type": "markdown",
      "metadata": {
        "id": "view-in-github",
        "colab_type": "text"
      },
      "source": [
        "<a href=\"https://colab.research.google.com/github/RafsanJany-44/ARC/blob/master/Untitled88.ipynb\" target=\"_parent\"><img src=\"https://colab.research.google.com/assets/colab-badge.svg\" alt=\"Open In Colab\"/></a>"
      ]
    },
    {
      "cell_type": "code",
      "execution_count": 10,
      "metadata": {
        "colab": {
          "base_uri": "https://localhost:8080/"
        },
        "id": "bikzfoCQlUVt",
        "outputId": "3bff2e48-9c80-402b-b731-02d254b0e014"
      },
      "outputs": [
        {
          "output_type": "stream",
          "name": "stdout",
          "text": [
            "1 2\n"
          ]
        }
      ],
      "source": [
        "l = 4 \n",
        "sum = 10\n",
        "lis = [3, 8, 1, 5]\n",
        "\n",
        "new =[]\n",
        "\n",
        "\n",
        "for i in range(l):\n",
        "  if sum > lis[i]:\n",
        "    new.append(sum-lis[i])\n",
        "  else:\n",
        "    new.append(1)\n",
        "\n",
        "ans=[]\n",
        "\n",
        "for i in range(l):\n",
        "  ans.append(new[i]-lis[i])\n",
        "\n",
        "\n",
        "\n",
        "for i in range(l):\n",
        "  if ans[i]<0:\n",
        "    sec_index=i+1\n",
        "    dup = -1*ans[i]\n",
        "\n",
        "for i in range(l):\n",
        "  if ans[i] == dup:\n",
        "    fst_index = i+1\n",
        "\n",
        "\n",
        "print(fst_index,sec_index)\n",
        "\n"
      ]
    },
    {
      "cell_type": "code",
      "source": [
        "print(lis)\n",
        "print(new)"
      ],
      "metadata": {
        "colab": {
          "base_uri": "https://localhost:8080/"
        },
        "id": "2iv_bPtWl_X1",
        "outputId": "855ab042-d691-493b-acdd-dd6523986fb9"
      },
      "execution_count": 3,
      "outputs": [
        {
          "output_type": "stream",
          "name": "stdout",
          "text": [
            "[3, 7, 1, 5]\n",
            "[7, 3, 9, 5]\n"
          ]
        }
      ]
    },
    {
      "cell_type": "code",
      "source": [
        "def two_sum(arr, target):\n",
        "    n = len(arr)\n",
        "    seen = {}\n",
        "    for i in range(n):\n",
        "        if target - arr[i] in seen:\n",
        "            return (seen[target - arr[i]] + 1, i + 1)\n",
        "        seen[arr[i]] = i\n",
        "    return \"IMPOSSIBLE\"\n",
        "\n",
        "if _name_ == '_main_':\n",
        "    n, s = map(int, input().split())\n",
        "    arr = list(map(int, input().split()))\n",
        "    result = two_sum(arr, s)\n",
        "    print(*result)"
      ],
      "metadata": {
        "id": "4f7fihZ8mGV_"
      },
      "execution_count": null,
      "outputs": []
    }
  ]
}