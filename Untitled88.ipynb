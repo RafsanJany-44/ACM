{
  "nbformat": 4,
  "nbformat_minor": 0,
  "metadata": {
    "colab": {
      "provenance": [],
      "authorship_tag": "ABX9TyNTiRHUp0Nhm538PuK5Otbh",
      "include_colab_link": true
    },
    "kernelspec": {
      "name": "python3",
      "display_name": "Python 3"
    },
    "language_info": {
      "name": "python"
    }
  },
  "cells": [
    {
      "cell_type": "markdown",
      "metadata": {
        "id": "view-in-github",
        "colab_type": "text"
      },
      "source": [
        "<a href=\"https://colab.research.google.com/github/RafsanJany-44/ARC/blob/master/Untitled88.ipynb\" target=\"_parent\"><img src=\"https://colab.research.google.com/assets/colab-badge.svg\" alt=\"Open In Colab\"/></a>"
      ]
    },
    {
      "cell_type": "code",
      "execution_count": 6,
      "metadata": {
        "colab": {
          "base_uri": "https://localhost:8080/"
        },
        "id": "bikzfoCQlUVt",
        "outputId": "bc16e03b-8139-4d06-b53e-0c289240f231"
      },
      "outputs": [
        {
          "output_type": "stream",
          "name": "stdout",
          "text": [
            "lis [7, 4, 3, 5]\n",
            "new [3, 6, 7, 5]\n",
            "ans [-4, 2, 4, 0]\n",
            "dup 4\n",
            "3 1\n",
            "3 1\n"
          ]
        }
      ],
      "source": [
        "l = 4\n",
        "sum = 10\n",
        "lis = [7, 4, 3, 5]\n",
        "\n",
        "new =[]\n",
        "\n",
        "\n",
        "for i in range(l):\n",
        "    new.append(sum-lis[i])\n",
        "\n",
        "\n",
        "ans=[]\n",
        "\n",
        "\n",
        "for i in range(l):\n",
        "  ans.append(new[i]-lis[i])\n",
        "\n",
        "\n",
        "print(\"lis\",lis)\n",
        "print(\"new\",new)\n",
        "print(\"ans\",ans)\n",
        "\n",
        "\n",
        "\n",
        "sec_index=None\n",
        "for i in range(l):\n",
        "  if ans[i]<0:\n",
        "    sec_index=i+1\n",
        "    dup = -1*ans[i]\n",
        "\n",
        "\n",
        "print(\"dup\",dup)\n",
        "fst_index = None\n",
        "for i in range(l):\n",
        "  if ans[i] == dup:\n",
        "    fst_index = i+1\n",
        "\n",
        "\n",
        "print(fst_index,sec_index) \n",
        "\n",
        "print(fst_index,sec_index) if fst_index>sec_index else print(sec_index,fst_index)\n"
      ]
    },
    {
      "cell_type": "code",
      "source": [
        "def two_sum(arr, target):\n",
        "    n = len(arr)\n",
        "    seen = {}\n",
        "    for i in range(n):\n",
        "        if target - arr[i] in seen:\n",
        "            return (seen[target - arr[i]] + 1, i + 1)\n",
        "        seen[arr[i]] = i\n",
        "    return \"IMPOSSIBLE\"\n",
        "\n",
        "if _name_ == '_main_':\n",
        "    n, s = map(int, input().split())\n",
        "    arr = list(map(int, input().split()))\n",
        "    result = two_sum(arr, s)\n",
        "    print(*result)"
      ],
      "metadata": {
        "id": "4f7fihZ8mGV_"
      },
      "execution_count": null,
      "outputs": []
    },
    {
      "cell_type": "code",
      "source": [],
      "metadata": {
        "id": "J4pjk2ZzaKRl"
      },
      "execution_count": null,
      "outputs": []
    }
  ]
}