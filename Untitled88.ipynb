{
  "nbformat": 4,
  "nbformat_minor": 0,
  "metadata": {
    "colab": {
      "provenance": [],
      "authorship_tag": "ABX9TyNBeJgbB0WmU35fd3mTgVvn",
      "include_colab_link": true
    },
    "kernelspec": {
      "name": "python3",
      "display_name": "Python 3"
    },
    "language_info": {
      "name": "python"
    }
  },
  "cells": [
    {
      "cell_type": "markdown",
      "metadata": {
        "id": "view-in-github",
        "colab_type": "text"
      },
      "source": [
        "<a href=\"https://colab.research.google.com/github/RafsanJany-44/ARC/blob/master/Untitled88.ipynb\" target=\"_parent\"><img src=\"https://colab.research.google.com/assets/colab-badge.svg\" alt=\"Open In Colab\"/></a>"
      ]
    },
    {
      "cell_type": "code",
      "execution_count": 1,
      "metadata": {
        "colab": {
          "base_uri": "https://localhost:8080/"
        },
        "id": "bikzfoCQlUVt",
        "outputId": "7f3f802a-7c45-49e7-be7f-248d4a72a9f3"
      },
      "outputs": [
        {
          "output_type": "stream",
          "name": "stdout",
          "text": [
            "[3, 8, 1, 5]\n",
            "[7, 2, 9, 5]\n",
            "[4, -6, 8, 0]\n",
            "None 2\n"
          ]
        }
      ],
      "source": [
        "l = 4 \n",
        "sum = 10\n",
        "lis = [3, 8, 1, 5]\n",
        "\n",
        "new =[]\n",
        "\n",
        "\n",
        "for i in range(l):\n",
        "  if sum > lis[i]:\n",
        "    new.append(sum-lis[i])\n",
        "  else:\n",
        "    new.append(1)\n",
        "\n",
        "ans=[]\n",
        "\n",
        "for i in range(l):\n",
        "  ans.append(new[i]-lis[i])\n",
        "\n",
        "print(lis)\n",
        "print(new)\n",
        "print(ans)\n",
        "\n",
        "\n",
        "sec_index=None\n",
        "for i in range(l):\n",
        "  if ans[i]<0:\n",
        "    sec_index=i+1\n",
        "    dup = -1*ans[i]\n",
        "\n",
        "\n",
        "fst_index = None\n",
        "for i in range(l):\n",
        "  if ans[i] == dup:\n",
        "    fst_index = i+1\n",
        "\n",
        "\n",
        "print(fst_index,sec_index)\n",
        "\n"
      ]
    },
    {
      "cell_type": "code",
      "source": [
        "print(lis)\n",
        "print(new)"
      ],
      "metadata": {
        "colab": {
          "base_uri": "https://localhost:8080/"
        },
        "id": "2iv_bPtWl_X1",
        "outputId": "855ab042-d691-493b-acdd-dd6523986fb9"
      },
      "execution_count": 3,
      "outputs": [
        {
          "output_type": "stream",
          "name": "stdout",
          "text": [
            "[3, 7, 1, 5]\n",
            "[7, 3, 9, 5]\n"
          ]
        }
      ]
    },
    {
      "cell_type": "code",
      "source": [
        "def two_sum(arr, target):\n",
        "    n = len(arr)\n",
        "    seen = {}\n",
        "    for i in range(n):\n",
        "        if target - arr[i] in seen:\n",
        "            return (seen[target - arr[i]] + 1, i + 1)\n",
        "        seen[arr[i]] = i\n",
        "    return \"IMPOSSIBLE\"\n",
        "\n",
        "if _name_ == '_main_':\n",
        "    n, s = map(int, input().split())\n",
        "    arr = list(map(int, input().split()))\n",
        "    result = two_sum(arr, s)\n",
        "    print(*result)"
      ],
      "metadata": {
        "id": "4f7fihZ8mGV_"
      },
      "execution_count": null,
      "outputs": []
    }
  ]
}