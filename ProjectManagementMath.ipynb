{
  "nbformat": 4,
  "nbformat_minor": 0,
  "metadata": {
    "colab": {
      "name": "ProjectManagementMath.ipynb",
      "provenance": [],
      "authorship_tag": "ABX9TyO/eBYEyNT9iYzHICZAQ82x",
      "include_colab_link": true
    },
    "kernelspec": {
      "name": "python3",
      "display_name": "Python 3"
    },
    "language_info": {
      "name": "python"
    }
  },
  "cells": [
    {
      "cell_type": "markdown",
      "metadata": {
        "id": "view-in-github",
        "colab_type": "text"
      },
      "source": [
        "<a href=\"https://colab.research.google.com/github/RafsanJany-44/practice_cell/blob/master/ProjectManagementMath.ipynb\" target=\"_parent\"><img src=\"https://colab.research.google.com/assets/colab-badge.svg\" alt=\"Open In Colab\"/></a>"
      ]
    },
    {
      "cell_type": "markdown",
      "source": [
        "#PV=FV/(1+r)<sup>n</sup>\n",
        "PV= Present Value<br>\n",
        "FV= Future Value<br>\n",
        "r= discount/incriment rate<br>\n",
        "n= time period<br>"
      ],
      "metadata": {
        "id": "pUUwjmanxLpO"
      }
    },
    {
      "cell_type": "code",
      "execution_count": 2,
      "metadata": {
        "colab": {
          "base_uri": "https://localhost:8080/"
        },
        "id": "9qJLrjLQw5KP",
        "outputId": "2fe85ecf-5342-4d38-e590-b808ea8bdcad"
      },
      "outputs": [
        {
          "output_type": "stream",
          "name": "stdout",
          "text": [
            "Enter the future value, FV= 10000\n",
            "r= 8\n",
            "Time Peroid, n= 5\n",
            "The Prasent value of 10000 is , PV=  6805.831970337529\n"
          ]
        }
      ],
      "source": [
        "FV=int(input(\"Enter the future value, FV= \"))\n",
        "r=int(input(\"r= \"))\n",
        "n=int(input(\"Time Peroid, n= \"))\n",
        "\n",
        "print(\"The Prasent value of \"+str(FV)+\" is , PV= \", (FV/(1+(r/100))**n))"
      ]
    },
    {
      "cell_type": "markdown",
      "source": [
        "#Net Present Value(NPV)\n",
        "\n",
        "∑(CFn / (1 + i)<sup>n</sup>) – Initial Investment\n",
        "\n",
        "CFn= Future value<br>\n",
        "i=rate\n",
        "n= time period\n"
      ],
      "metadata": {
        "id": "uXVRCOKtyyUA"
      }
    },
    {
      "cell_type": "code",
      "source": [
        "\n",
        "CF=int(input(\"Enter the future value , CV= \"))\n",
        "ii=int(input(\"Enter the initial value= \"))\n",
        "r=int(input(\"r= \"))\n",
        "n=int(input(\"Time Peroid, n= \"))\n",
        "\n",
        "sum=0\n",
        "for i in range(1,n+1):\n",
        "  sum=sum+(CF/(1+(r/100))**i)\n",
        "  print(\"PV\",i,\" =\",(CF/(1+(r/100))**i))\n",
        "print(\"The NET PRESENT VALUE is, NPV= \",(sum-ii))"
      ],
      "metadata": {
        "colab": {
          "base_uri": "https://localhost:8080/"
        },
        "id": "59xtWAqgzJZ_",
        "outputId": "241c6ca6-3ea7-43be-e99e-6f46a4ccc9f4"
      },
      "execution_count": 9,
      "outputs": [
        {
          "output_type": "stream",
          "name": "stdout",
          "text": [
            "Enter the future value , CV= 3000\n",
            "Enter the initial value= 10000\n",
            "r= 10\n",
            "Time Peroid, n= 5\n",
            "PV 1  = 2727.272727272727\n",
            "PV 2  = 2479.3388429752063\n",
            "PV 3  = 2253.9444027047325\n",
            "PV 4  = 2049.0403660952115\n",
            "PV 5  = 1862.7639691774648\n",
            "The NET PRESENT VALUE is, NPV=  1372.3603082253394\n"
          ]
        }
      ]
    }
  ]
}