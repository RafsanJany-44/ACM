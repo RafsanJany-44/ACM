{
  "nbformat": 4,
  "nbformat_minor": 0,
  "metadata": {
    "colab": {
      "name": "Bracu_Lab_21122021.ipynb",
      "provenance": [],
      "authorship_tag": "ABX9TyPUJwI4z/pLQyFdlKcxSmwT",
      "include_colab_link": true
    },
    "kernelspec": {
      "name": "python3",
      "display_name": "Python 3"
    },
    "language_info": {
      "name": "python"
    }
  },
  "cells": [
    {
      "cell_type": "markdown",
      "metadata": {
        "id": "view-in-github",
        "colab_type": "text"
      },
      "source": [
        "<a href=\"https://colab.research.google.com/github/RafsanJany-44/practice_cell/blob/master/Bracu_Lab_21122021.ipynb\" target=\"_parent\"><img src=\"https://colab.research.google.com/assets/colab-badge.svg\" alt=\"Open In Colab\"/></a>"
      ]
    },
    {
      "cell_type": "markdown",
      "source": [
        "Write a Python function that will take a list of even length as the  \n",
        "parameter and find the CGPA of a student using that list. In the list, two  \n",
        "consecutive values denote the grade point of a course and the corresponding  \n",
        "credit for that particular course. The formula of calculating CGPA for this  \n",
        "task is given below:\n",
        "\n",
        "CGPA = summation of (individual course grade point x corresponding credit)  \n",
        "/ total credits\n",
        "\n",
        "Finally, return the value in the function call.\n",
        "[You do not need to take the list as user input. But your program should  \n",
        "work for any similar format list passed as the parameter.]\n",
        "\n",
        "Function Call 1:\n",
        "calc_cgpa([4, 3, 3.7, 3, 4, 4])\n",
        "\n",
        "Sample Output 1:\n",
        "3.91\n",
        "\n",
        "Explanation: In the given list, the even indexed values contain the grade  \n",
        "points of three courses (4, 3.7 and 4) and the odd indexed values contain  \n",
        "the corresponding credit for those courses (3, 3 and 4). So, the CGPA of  \n",
        "that student will be:\n",
        "[(4 * 3) + (3.7 * 3) + (4 * 4)] / (3 + 3 + 4) = 3.91 which will be returned  \n",
        "in the function call.\n",
        "--------------------------------------------------------------\n",
        "Function Call 2:\n",
        "calc_cgpa([2.7, 3, 3.3, 3, 3.7, 4, 4, 3])\n",
        "\n",
        "Sample Output 2:\n",
        "3.446153846153846\n",
        "\n",
        "Explanation: CGPA of the student will be:\n",
        "[(2.7 * 3) + (3.3 * 3) + (3.7 * 4) + (4 * 3)] / (3 + 3 + 4 + 3) =  \n",
        "3.446153846153846 which will be returned in the function call.\n",
        "--------------------------------------------------------------\n",
        "Function Call 3:\n",
        "calc_cgpa([3, 3, 3.7, 3])\n",
        "\n",
        "Sample Output 3:\n",
        "3.35\n",
        "\n",
        "Explanation: CGPA of the student will be:\n",
        "[(3 * 3) + (3.7 * 3)] / (3 + 3) = 3.35 which will be returned in the  \n",
        "function call."
      ],
      "metadata": {
        "id": "ucZPXvJxqWWD"
      }
    },
    {
      "cell_type": "code",
      "execution_count": 12,
      "metadata": {
        "colab": {
          "base_uri": "https://localhost:8080/"
        },
        "id": "uWtWkwk7n7z5",
        "outputId": "ba122963-3d5f-4d67-e34f-6cffedb0a408"
      },
      "outputs": [
        {
          "output_type": "stream",
          "name": "stdout",
          "text": [
            "3.35\n"
          ]
        }
      ],
      "source": [
        "\n",
        "def calculating_CGPA(l1): \n",
        "  grade=[]\n",
        "  sub=[]\n",
        "  for i in range(len(l1)):\n",
        "    if (i%2==0):\n",
        "      sub.append(l1[i])\n",
        "    else:\n",
        "      grade.append(l1[i])\n",
        "  total=0\n",
        "\n",
        "  for i in range(len(sub)):\n",
        "    total=total+sub[i]*grade[i]\n",
        "      \n",
        "  return total/sum(grade)\n",
        " \n",
        "\n",
        "print(calculating_CGPA([3, 3, 3.7, 3]))"
      ]
    },
    {
      "cell_type": "code",
      "source": [
        "print(0%2)"
      ],
      "metadata": {
        "colab": {
          "base_uri": "https://localhost:8080/"
        },
        "id": "cU0fZIVNrDSz",
        "outputId": "da9d3d73-eba3-43d4-b41d-a9acb188e9a9"
      },
      "execution_count": 2,
      "outputs": [
        {
          "output_type": "stream",
          "name": "stdout",
          "text": [
            "0\n"
          ]
        }
      ]
    },
    {
      "cell_type": "code",
      "source": [
        ""
      ],
      "metadata": {
        "id": "YXgIS7F8rGWo"
      },
      "execution_count": null,
      "outputs": []
    }
  ]
}