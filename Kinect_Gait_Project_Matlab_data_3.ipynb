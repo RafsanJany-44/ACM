{
  "nbformat": 4,
  "nbformat_minor": 0,
  "metadata": {
    "colab": {
      "provenance": [],
      "authorship_tag": "ABX9TyOmOHUZfEOIUbyo7a9f2ID8",
      "include_colab_link": true
    },
    "kernelspec": {
      "name": "python3",
      "display_name": "Python 3"
    },
    "language_info": {
      "name": "python"
    }
  },
  "cells": [
    {
      "cell_type": "markdown",
      "metadata": {
        "id": "view-in-github",
        "colab_type": "text"
      },
      "source": [
        "<a href=\"https://colab.research.google.com/github/RafsanJany-44/ARC/blob/master/Kinect_Gait_Project_Matlab_data_3.ipynb\" target=\"_parent\"><img src=\"https://colab.research.google.com/assets/colab-badge.svg\" alt=\"Open In Colab\"/></a>"
      ]
    },
    {
      "cell_type": "code",
      "execution_count": 1,
      "metadata": {
        "colab": {
          "base_uri": "https://localhost:8080/"
        },
        "id": "SF_dE2KZxDjs",
        "outputId": "d8fabb59-f4ca-4445-a030-1d195f877227"
      },
      "outputs": [
        {
          "output_type": "stream",
          "name": "stdout",
          "text": [
            "Mounted at /content/drive\n"
          ]
        }
      ],
      "source": [
        "\n",
        "from google.colab import drive\n",
        "drive.mount('/content/drive')"
      ]
    },
    {
      "cell_type": "code",
      "source": [
        "!pip install pymatreader"
      ],
      "metadata": {
        "colab": {
          "base_uri": "https://localhost:8080/"
        },
        "id": "7n7ENsn7xnml",
        "outputId": "670e15ff-57c1-484b-fb5d-3e7f7c63ff09"
      },
      "execution_count": 2,
      "outputs": [
        {
          "output_type": "stream",
          "name": "stdout",
          "text": [
            "Collecting pymatreader\n",
            "  Downloading pymatreader-0.0.32-py3-none-any.whl (9.0 kB)\n",
            "Requirement already satisfied: h5py in /usr/local/lib/python3.10/dist-packages (from pymatreader) (3.9.0)\n",
            "Requirement already satisfied: scipy!=1.7.0 in /usr/local/lib/python3.10/dist-packages (from pymatreader) (1.11.4)\n",
            "Requirement already satisfied: numpy in /usr/local/lib/python3.10/dist-packages (from pymatreader) (1.23.5)\n",
            "Collecting xmltodict (from pymatreader)\n",
            "  Downloading xmltodict-0.13.0-py2.py3-none-any.whl (10.0 kB)\n",
            "Installing collected packages: xmltodict, pymatreader\n",
            "Successfully installed pymatreader-0.0.32 xmltodict-0.13.0\n"
          ]
        }
      ]
    },
    {
      "cell_type": "code",
      "source": [
        "def kinz_data(data):\n",
        "  numbodies_list = data[\"kinzData\"]['numbodies']\n",
        "  req_index = []\n",
        "\n",
        "  for i in range(len(numbodies_list)):\n",
        "    if numbodies_list[i]==1:\n",
        "      req_index.append(i)\n",
        "\n",
        "\n",
        "  kinz_arr = np.empty([0,97])\n",
        "\n",
        "  for i in req_index:\n",
        "\n",
        "    timeStamps = np.array(data[\"kinzData\"]['timeStamps'][i])\n",
        "    kinz_x = data[\"kinzData\"]['bodies'][i]['Position3d'][0]\n",
        "    kinz_y = data[\"kinzData\"]['bodies'][i]['Position3d'][1]\n",
        "    kinz_z = data[\"kinzData\"]['bodies'][i]['Position3d'][2]\n",
        "\n",
        "    d = np.concatenate((timeStamps,data[\"kinzData\"]['bodies'][i]['Position3d'][0], data[\"kinzData\"]['bodies'][i]['Position3d'][1],\n",
        "                        data[\"kinzData\"]['bodies'][i]['Position3d'][2]), axis=None)\n",
        "\n",
        "\n",
        "    kinz_arr = np.append(kinz_arr, [d], axis=0)\n",
        "\n",
        "\n",
        "\n",
        "  arr_walking_speed = np.array([data[\"walking_speed\"]]*len(req_index))\n",
        "  arr_trial_num = np.array([data[\"trial_num\"]]*len(req_index))\n",
        "  arr_patientID = np.array([data[\"patientID\"]]*len(req_index))\n",
        "\n",
        "  #res_kinz_arr = np.column_stack((arr_patientID,arr_trial_num,arr_walking_speed,kinz_arr))\n",
        "  return np.column_stack((arr_patientID,arr_trial_num,arr_walking_speed,kinz_arr))\n",
        "\n",
        "\n",
        "\n",
        "\n",
        "\n",
        "\n",
        "\n",
        "\n",
        "\"\"\"kinz_df = pd.DataFrame(res_kinz_arr, columns=['patientID','trial_num','walking_speed','timeStamps',\n",
        "'PELVIS_X', 'SPINE_NAVAL_X', 'SPINE_CHEST_X', 'NECK_X', 'CLAVICLE_LEFT_X', 'SHOULDER_LEFT_X', 'ELBOW_LEFT_X', 'WRIST_LEFT_X', 'HAND_LEFT_X', 'HANDTIP_LEFT_X', 'THUMB_LEFT_X', 'CLAVICLE_RIGHT_X', 'SHOULDER_RIGHT_X', 'ELBOW_RIGHT_X', 'WRIST_RIGHT_X', 'HAND_RIGHT_X', 'HANDTIP_RIGHT_X', 'THUMB_RIGHT_X', 'HIP_LEFT_X', 'KNEE_LEFT_X', 'ANKLE_LEFT_X', 'FOOT_LEFT_X', 'HIP_RIGHT_X', 'KNEE_RIGHT_X', 'ANKLE_RIGHT_X', 'FOOT_RIGHT_X', 'HEAD_X', 'NOSE_X', 'EYE_LEFT_X', 'EAR_LEFT_X', 'EYE_RIGHT_X', 'EAR_RIGHT_X',\n",
        "'PELVIS_Y', 'SPINE_NAVAL_Y', 'SPINE_CHEST_Y', 'NECK_Y', 'CLAVICLE_LEFT_Y', 'SHOULDER_LEFT_Y', 'ELBOW_LEFT_Y', 'WRIST_LEFT_Y', 'HAND_LEFT_Y', 'HANDTIP_LEFT_Y', 'THUMB_LEFT_Y', 'CLAVICLE_RIGHT_Y', 'SHOULDER_RIGHT_Y', 'ELBOW_RIGHT_Y', 'WRIST_RIGHT_Y', 'HAND_RIGHT_Y', 'HANDTIP_RIGHT_Y', 'THUMB_RIGHT_Y', 'HIP_LEFT_Y', 'KNEE_LEFT_Y', 'ANKLE_LEFT_Y', 'FOOT_LEFT_Y', 'HIP_RIGHT_Y', 'KNEE_RIGHT_Y', 'ANKLE_RIGHT_Y', 'FOOT_RIGHT_Y', 'HEAD_Y', 'NOSE_Y', 'EYE_LEFT_Y', 'EAR_LEFT_Y', 'EYE_RIGHT_Y', 'EAR_RIGHT_Y',\n",
        "'PELVIS_Z', 'SPINE_NAVAL_Z', 'SPINE_CHEST_Z', 'NECK_Z', 'CLAVICLE_LEFT_Z', 'SHOULDER_LEFT_Z', 'ELBOW_LEFT_Z', 'WRIST_LEFT_Z', 'HAND_LEFT_Z', 'HANDTIP_LEFT_Z', 'THUMB_LEFT_Z', 'CLAVICLE_RIGHT_Z', 'SHOULDER_RIGHT_Z', 'ELBOW_RIGHT_Z', 'WRIST_RIGHT_Z', 'HAND_RIGHT_Z', 'HANDTIP_RIGHT_Z', 'THUMB_RIGHT_Z', 'HIP_LEFT_Z', 'KNEE_LEFT_Z', 'ANKLE_LEFT_Z', 'FOOT_LEFT_Z', 'HIP_RIGHT_Z', 'KNEE_RIGHT_Z', 'ANKLE_RIGHT_Z', 'FOOT_RIGHT_Z', 'HEAD_Z', 'NOSE_Z', 'EYE_LEFT_Z', 'EAR_LEFT_Z', 'EYE_RIGHT_Z', 'EAR_RIGHT_Z'\n",
        "                                              ])\n",
        "\"\"\"\n",
        "\n",
        "\n",
        "def acc_data(data):\n",
        "\n",
        "  arr_walking_speed = np.array([data[\"walking_speed\"]]*len(data[\"accelData\"]['timeStamps']))\n",
        "  arr_stopwatch = np.array([data[\"stopwatch\"]]*len(data[\"accelData\"]['timeStamps']))\n",
        "  arr_trial_num = np.array([data[\"trial_num\"]]*len(data[\"accelData\"]['timeStamps']))\n",
        "  arr_patientID = np.array([data[\"patientID\"]]*len(data[\"accelData\"]['timeStamps']))\n",
        "\n",
        "  #res = np.column_stack((arr_patientID,arr_trial_num,arr_walking_speed,arr_stopwatch,data[\"accelData\"]['timeStamps'],data[\"accelData\"]['timeSeries']))\n",
        "  return np.column_stack((arr_patientID,arr_trial_num,arr_walking_speed,arr_stopwatch,data[\"accelData\"]['timeStamps'],data[\"accelData\"]['timeSeries']))\n",
        "\n",
        "\n",
        "\n"
      ],
      "metadata": {
        "id": "6lRklNd9xqBz"
      },
      "execution_count": 3,
      "outputs": []
    },
    {
      "cell_type": "code",
      "source": [
        "from pymatreader import read_mat\n",
        "import pandas as pd\n",
        "import numpy as np\n",
        "from glob import glob\n",
        "from tqdm.notebook import tqdm\n",
        "\n",
        "data_path = '/content/drive/MyDrive/Iqram Sir/Kinect Gait Project: Matlab data/test/*'\n",
        "\n",
        "\n",
        "\n",
        "final_kinz =  np.empty([0,100])\n",
        "final_acc  =  np.empty([0,12])\n",
        "\n",
        "\n"
      ],
      "metadata": {
        "id": "-_z1_hRcxp-2"
      },
      "execution_count": 4,
      "outputs": []
    },
    {
      "cell_type": "code",
      "source": [
        "file_path = glob(data_path)"
      ],
      "metadata": {
        "id": "Lc2RnmaX1TR0"
      },
      "execution_count": 5,
      "outputs": []
    },
    {
      "cell_type": "code",
      "source": [
        "file_path\n",
        "data = read_mat(file_path[0])\n",
        "final_kinz= np.append(final_kinz, kinz_data(data) , axis=0)\n",
        "\n"
      ],
      "metadata": {
        "colab": {
          "base_uri": "https://localhost:8080/"
        },
        "id": "CItYWHqG1Zvh",
        "outputId": "ee98e3ce-e62a-4e70-d6ff-e0629e28f1f8"
      },
      "execution_count": 7,
      "outputs": [
        {
          "output_type": "stream",
          "name": "stderr",
          "text": [
            "/usr/local/lib/python3.10/dist-packages/pymatreader/utils.py:238: UserWarning: Complex objects (like classes) are not supported. They are imported on a best effort base but your mileage will vary.\n",
            "  warn('Complex objects (like classes) are not supported. '\n"
          ]
        }
      ]
    },
    {
      "cell_type": "code",
      "source": [
        "import os\n",
        "file_save_destination = \"/content/kinzData.csv\"\n",
        "\n",
        "if os.path.exists(file_save_destination)==False:\n",
        "  final_kinz = np.empty([0,100])\n",
        "  dictionary = {\n",
        "      \"Subject\":[],\n",
        "      \"Condition\":[],\n",
        "      \"Segment\":[],\n",
        "      \"Max HR Point\":[],\n",
        "      \"1_min_HR_Recovery\":[],\n",
        "      \"2_min_HR_Recovery\":[],\n",
        "      \"3_min_HR_Recovery\":[],\n",
        "      \"4_min_HR_Recovery\":[],\n",
        "      \"5_min_HR_Recovery\":[],\n",
        "  }\n",
        "  kinzData_df = pd.DataFrame(final_kinz, columns=['patientID','trial_num','walking_speed','timeStamps',\n",
        "  'PELVIS_X', 'SPINE_NAVAL_X', 'SPINE_CHEST_X', 'NECK_X', 'CLAVICLE_LEFT_X', 'SHOULDER_LEFT_X', 'ELBOW_LEFT_X', 'WRIST_LEFT_X', 'HAND_LEFT_X', 'HANDTIP_LEFT_X', 'THUMB_LEFT_X', 'CLAVICLE_RIGHT_X', 'SHOULDER_RIGHT_X', 'ELBOW_RIGHT_X', 'WRIST_RIGHT_X', 'HAND_RIGHT_X', 'HANDTIP_RIGHT_X', 'THUMB_RIGHT_X', 'HIP_LEFT_X', 'KNEE_LEFT_X', 'ANKLE_LEFT_X', 'FOOT_LEFT_X', 'HIP_RIGHT_X', 'KNEE_RIGHT_X', 'ANKLE_RIGHT_X', 'FOOT_RIGHT_X', 'HEAD_X', 'NOSE_X', 'EYE_LEFT_X', 'EAR_LEFT_X', 'EYE_RIGHT_X', 'EAR_RIGHT_X',\n",
        "  'PELVIS_Y', 'SPINE_NAVAL_Y', 'SPINE_CHEST_Y', 'NECK_Y', 'CLAVICLE_LEFT_Y', 'SHOULDER_LEFT_Y', 'ELBOW_LEFT_Y', 'WRIST_LEFT_Y', 'HAND_LEFT_Y', 'HANDTIP_LEFT_Y', 'THUMB_LEFT_Y', 'CLAVICLE_RIGHT_Y', 'SHOULDER_RIGHT_Y', 'ELBOW_RIGHT_Y', 'WRIST_RIGHT_Y', 'HAND_RIGHT_Y', 'HANDTIP_RIGHT_Y', 'THUMB_RIGHT_Y', 'HIP_LEFT_Y', 'KNEE_LEFT_Y', 'ANKLE_LEFT_Y', 'FOOT_LEFT_Y', 'HIP_RIGHT_Y', 'KNEE_RIGHT_Y', 'ANKLE_RIGHT_Y', 'FOOT_RIGHT_Y', 'HEAD_Y', 'NOSE_Y', 'EYE_LEFT_Y', 'EAR_LEFT_Y', 'EYE_RIGHT_Y', 'EAR_RIGHT_Y',\n",
        "  'PELVIS_Z', 'SPINE_NAVAL_Z', 'SPINE_CHEST_Z', 'NECK_Z', 'CLAVICLE_LEFT_Z', 'SHOULDER_LEFT_Z', 'ELBOW_LEFT_Z', 'WRIST_LEFT_Z', 'HAND_LEFT_Z', 'HANDTIP_LEFT_Z', 'THUMB_LEFT_Z', 'CLAVICLE_RIGHT_Z', 'SHOULDER_RIGHT_Z', 'ELBOW_RIGHT_Z', 'WRIST_RIGHT_Z', 'HAND_RIGHT_Z', 'HANDTIP_RIGHT_Z', 'THUMB_RIGHT_Z', 'HIP_LEFT_Z', 'KNEE_LEFT_Z', 'ANKLE_LEFT_Z', 'FOOT_LEFT_Z', 'HIP_RIGHT_Z', 'KNEE_RIGHT_Z', 'ANKLE_RIGHT_Z', 'FOOT_RIGHT_Z', 'HEAD_Z', 'NOSE_Z', 'EYE_LEFT_Z', 'EAR_LEFT_Z', 'EYE_RIGHT_Z', 'EAR_RIGHT_Z'\n",
        "                                                ])\n",
        "  kinzData_df.to_csv(file_save_destination,index=False)\n",
        "\n",
        "\n",
        "\n",
        "\n",
        "\n",
        "\n",
        "\n",
        "\n",
        "\n"
      ],
      "metadata": {
        "id": "rNR14tDp3ugo"
      },
      "execution_count": 10,
      "outputs": []
    },
    {
      "cell_type": "code",
      "source": [
        "\n",
        "\n",
        "\n",
        "\n",
        "\n",
        "\n",
        "\n",
        "\n",
        "kinzData_df = pd.DataFrame(final_kinz, columns=['patientID','trial_num','walking_speed','timeStamps',\n",
        "'PELVIS_X', 'SPINE_NAVAL_X', 'SPINE_CHEST_X', 'NECK_X', 'CLAVICLE_LEFT_X', 'SHOULDER_LEFT_X', 'ELBOW_LEFT_X', 'WRIST_LEFT_X', 'HAND_LEFT_X', 'HANDTIP_LEFT_X', 'THUMB_LEFT_X', 'CLAVICLE_RIGHT_X', 'SHOULDER_RIGHT_X', 'ELBOW_RIGHT_X', 'WRIST_RIGHT_X', 'HAND_RIGHT_X', 'HANDTIP_RIGHT_X', 'THUMB_RIGHT_X', 'HIP_LEFT_X', 'KNEE_LEFT_X', 'ANKLE_LEFT_X', 'FOOT_LEFT_X', 'HIP_RIGHT_X', 'KNEE_RIGHT_X', 'ANKLE_RIGHT_X', 'FOOT_RIGHT_X', 'HEAD_X', 'NOSE_X', 'EYE_LEFT_X', 'EAR_LEFT_X', 'EYE_RIGHT_X', 'EAR_RIGHT_X',\n",
        "'PELVIS_Y', 'SPINE_NAVAL_Y', 'SPINE_CHEST_Y', 'NECK_Y', 'CLAVICLE_LEFT_Y', 'SHOULDER_LEFT_Y', 'ELBOW_LEFT_Y', 'WRIST_LEFT_Y', 'HAND_LEFT_Y', 'HANDTIP_LEFT_Y', 'THUMB_LEFT_Y', 'CLAVICLE_RIGHT_Y', 'SHOULDER_RIGHT_Y', 'ELBOW_RIGHT_Y', 'WRIST_RIGHT_Y', 'HAND_RIGHT_Y', 'HANDTIP_RIGHT_Y', 'THUMB_RIGHT_Y', 'HIP_LEFT_Y', 'KNEE_LEFT_Y', 'ANKLE_LEFT_Y', 'FOOT_LEFT_Y', 'HIP_RIGHT_Y', 'KNEE_RIGHT_Y', 'ANKLE_RIGHT_Y', 'FOOT_RIGHT_Y', 'HEAD_Y', 'NOSE_Y', 'EYE_LEFT_Y', 'EAR_LEFT_Y', 'EYE_RIGHT_Y', 'EAR_RIGHT_Y',\n",
        "'PELVIS_Z', 'SPINE_NAVAL_Z', 'SPINE_CHEST_Z', 'NECK_Z', 'CLAVICLE_LEFT_Z', 'SHOULDER_LEFT_Z', 'ELBOW_LEFT_Z', 'WRIST_LEFT_Z', 'HAND_LEFT_Z', 'HANDTIP_LEFT_Z', 'THUMB_LEFT_Z', 'CLAVICLE_RIGHT_Z', 'SHOULDER_RIGHT_Z', 'ELBOW_RIGHT_Z', 'WRIST_RIGHT_Z', 'HAND_RIGHT_Z', 'HANDTIP_RIGHT_Z', 'THUMB_RIGHT_Z', 'HIP_LEFT_Z', 'KNEE_LEFT_Z', 'ANKLE_LEFT_Z', 'FOOT_LEFT_Z', 'HIP_RIGHT_Z', 'KNEE_RIGHT_Z', 'ANKLE_RIGHT_Z', 'FOOT_RIGHT_Z', 'HEAD_Z', 'NOSE_Z', 'EYE_LEFT_Z', 'EAR_LEFT_Z', 'EYE_RIGHT_Z', 'EAR_RIGHT_Z'\n",
        "                                              ])\n",
        "\n",
        "\n",
        "kinzData_df.to_csv(file_save_destination, mode='a', index=False, header=False)"
      ],
      "metadata": {
        "id": "IohB-MoS9YQ3"
      },
      "execution_count": 11,
      "outputs": []
    },
    {
      "cell_type": "code",
      "source": [
        "for path in tqdm(glob(data_path)):\n",
        "  data = read_mat(path)\n",
        "  final_kinz= np.append(final_kinz, kinz_data(data) , axis=0)\n",
        "  final_acc = np.append(final_acc, acc_data(data) , axis=0)"
      ],
      "metadata": {
        "id": "wJRnzS9nxp8n"
      },
      "execution_count": null,
      "outputs": []
    },
    {
      "cell_type": "code",
      "source": [],
      "metadata": {
        "id": "SFCbro7Qxp5i"
      },
      "execution_count": null,
      "outputs": []
    },
    {
      "cell_type": "code",
      "source": [],
      "metadata": {
        "id": "dmn7gY8nxp2t"
      },
      "execution_count": null,
      "outputs": []
    }
  ]
}