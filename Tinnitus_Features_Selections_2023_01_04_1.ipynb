{
  "nbformat": 4,
  "nbformat_minor": 0,
  "metadata": {
    "colab": {
      "provenance": [],
      "include_colab_link": true
    },
    "kernelspec": {
      "name": "python3",
      "display_name": "Python 3"
    },
    "language_info": {
      "name": "python"
    }
  },
  "cells": [
    {
      "cell_type": "markdown",
      "metadata": {
        "id": "view-in-github",
        "colab_type": "text"
      },
      "source": [
        "<a href=\"https://colab.research.google.com/github/RafsanJany-44/ARC/blob/master/Tinnitus_Features_Selections_2023_01_04_1.ipynb\" target=\"_parent\"><img src=\"https://colab.research.google.com/assets/colab-badge.svg\" alt=\"Open In Colab\"/></a>"
      ]
    },
    {
      "cell_type": "code",
      "execution_count": null,
      "metadata": {
        "colab": {
          "base_uri": "https://localhost:8080/"
        },
        "id": "zdFOS9nFlpsU",
        "outputId": "e21f6638-7483-43de-83dd-ceb423e3f858"
      },
      "outputs": [
        {
          "output_type": "stream",
          "name": "stdout",
          "text": [
            "Drive already mounted at /content/drive; to attempt to forcibly remount, call drive.mount(\"/content/drive\", force_remount=True).\n"
          ]
        }
      ],
      "source": [
        "from google.colab import drive\n",
        "drive.mount('/content/drive')"
      ]
    },
    {
      "cell_type": "code",
      "source": [
        "import numpy as np\n",
        "import pandas as pd\n",
        "#dataset=pd.read_csv(\"/content/drive/MyDrive/SNU Research/Tinnitus/Tinnitus_ALR&EEG_2023.01.03_No_n0p1p3_final.csv\")\n",
        "dataset=pd.read_csv('/content/Tinnitus_ALR&EEG_2023.01.03_No_n0p1p3_final.csv')\n",
        "classes = np.array(sorted(list(set(dataset.iloc[:, 1]))))\n"
      ],
      "metadata": {
        "id": "M0AmIUwSmLfj"
      },
      "execution_count": 2,
      "outputs": []
    },
    {
      "cell_type": "code",
      "source": [
        "dataset.head()"
      ],
      "metadata": {
        "colab": {
          "base_uri": "https://localhost:8080/",
          "height": 404
        },
        "id": "4YN_C8yxm1ho",
        "outputId": "f60f0670-538a-47c0-f758-a78815ffb48f"
      },
      "execution_count": 3,
      "outputs": [
        {
          "output_type": "execute_result",
          "data": {
            "text/plain": [
              "             Subjects SubjectTypeClass Data Partition ExperimentType  \\\n",
              "0      '06_HSO_60_01'          Control  Training Data           Test   \n",
              "1      '06_LSR_34_01'          Control  Training Data           Test   \n",
              "2      '07_KHJ_33_02'          Control  Training Data           Test   \n",
              "3      '08_LJS_26_01'          Control  Training Data           Test   \n",
              "4      '09_JBH_58_01'          Control  Training Data           Test   \n",
              "\n",
              "   n1_gap_peak_ms_20ms  p2_gap_peak_ms_20ms  n2_gap_peak_ms_20ms  \\\n",
              "0                  213                  304                  425   \n",
              "1                  219                  282                  390   \n",
              "2                  246                  275                  456   \n",
              "3                  212                  320                  416   \n",
              "4                  206                  271                  386   \n",
              "\n",
              "   n1_nogap_peak_ms_20ms  p2_nogap_peak_ms_20ms  n2_nogap_peak_ms_20ms  ...  \\\n",
              "0                    290                    440                     81  ...   \n",
              "1                    282                    394                     43  ...   \n",
              "2                    270                    402                     72  ...   \n",
              "3                    297                    394                     65  ...   \n",
              "4                    262                    402                     39  ...   \n",
              "\n",
              "   MeanP_Gamma_50ms  TotalEEGPower_50ms  RelativeAlpha_50ms  \\\n",
              "0      4.670000e-07            0.000055              0.0949   \n",
              "1      5.330000e-07            0.000047              0.1210   \n",
              "2      2.890000e-05            0.000778              0.0805   \n",
              "3      5.990000e-07            0.000075              0.0885   \n",
              "4      8.390000e-07            0.000074              0.1090   \n",
              "\n",
              "   RelativeBeta_50ms  RelativeTheta_50ms  RelativeDelta_50ms  DTR_50ms  \\\n",
              "0             0.0372               0.387               0.481     1.240   \n",
              "1             0.0500               0.419               0.410     0.979   \n",
              "2             0.0527               0.301               0.566     1.880   \n",
              "3             0.0397               0.354               0.518     1.460   \n",
              "4             0.0564               0.392               0.442     1.130   \n",
              "\n",
              "   DTABR_50ms  ATR_50ms  ABR_50ms  \n",
              "0        6.57     0.245      2.55  \n",
              "1        4.83     0.290      2.43  \n",
              "2        6.51     0.268      1.53  \n",
              "3        6.80     0.250      2.23  \n",
              "4        5.04     0.278      1.93  \n",
              "\n",
              "[5 rows x 152 columns]"
            ],
            "text/html": [
              "\n",
              "  <div id=\"df-c06a1184-430a-492b-9fe7-14996e79676a\">\n",
              "    <div class=\"colab-df-container\">\n",
              "      <div>\n",
              "<style scoped>\n",
              "    .dataframe tbody tr th:only-of-type {\n",
              "        vertical-align: middle;\n",
              "    }\n",
              "\n",
              "    .dataframe tbody tr th {\n",
              "        vertical-align: top;\n",
              "    }\n",
              "\n",
              "    .dataframe thead th {\n",
              "        text-align: right;\n",
              "    }\n",
              "</style>\n",
              "<table border=\"1\" class=\"dataframe\">\n",
              "  <thead>\n",
              "    <tr style=\"text-align: right;\">\n",
              "      <th></th>\n",
              "      <th>Subjects</th>\n",
              "      <th>SubjectTypeClass</th>\n",
              "      <th>Data Partition</th>\n",
              "      <th>ExperimentType</th>\n",
              "      <th>n1_gap_peak_ms_20ms</th>\n",
              "      <th>p2_gap_peak_ms_20ms</th>\n",
              "      <th>n2_gap_peak_ms_20ms</th>\n",
              "      <th>n1_nogap_peak_ms_20ms</th>\n",
              "      <th>p2_nogap_peak_ms_20ms</th>\n",
              "      <th>n2_nogap_peak_ms_20ms</th>\n",
              "      <th>...</th>\n",
              "      <th>MeanP_Gamma_50ms</th>\n",
              "      <th>TotalEEGPower_50ms</th>\n",
              "      <th>RelativeAlpha_50ms</th>\n",
              "      <th>RelativeBeta_50ms</th>\n",
              "      <th>RelativeTheta_50ms</th>\n",
              "      <th>RelativeDelta_50ms</th>\n",
              "      <th>DTR_50ms</th>\n",
              "      <th>DTABR_50ms</th>\n",
              "      <th>ATR_50ms</th>\n",
              "      <th>ABR_50ms</th>\n",
              "    </tr>\n",
              "  </thead>\n",
              "  <tbody>\n",
              "    <tr>\n",
              "      <th>0</th>\n",
              "      <td>'06_HSO_60_01'</td>\n",
              "      <td>Control</td>\n",
              "      <td>Training Data</td>\n",
              "      <td>Test</td>\n",
              "      <td>213</td>\n",
              "      <td>304</td>\n",
              "      <td>425</td>\n",
              "      <td>290</td>\n",
              "      <td>440</td>\n",
              "      <td>81</td>\n",
              "      <td>...</td>\n",
              "      <td>4.670000e-07</td>\n",
              "      <td>0.000055</td>\n",
              "      <td>0.0949</td>\n",
              "      <td>0.0372</td>\n",
              "      <td>0.387</td>\n",
              "      <td>0.481</td>\n",
              "      <td>1.240</td>\n",
              "      <td>6.57</td>\n",
              "      <td>0.245</td>\n",
              "      <td>2.55</td>\n",
              "    </tr>\n",
              "    <tr>\n",
              "      <th>1</th>\n",
              "      <td>'06_LSR_34_01'</td>\n",
              "      <td>Control</td>\n",
              "      <td>Training Data</td>\n",
              "      <td>Test</td>\n",
              "      <td>219</td>\n",
              "      <td>282</td>\n",
              "      <td>390</td>\n",
              "      <td>282</td>\n",
              "      <td>394</td>\n",
              "      <td>43</td>\n",
              "      <td>...</td>\n",
              "      <td>5.330000e-07</td>\n",
              "      <td>0.000047</td>\n",
              "      <td>0.1210</td>\n",
              "      <td>0.0500</td>\n",
              "      <td>0.419</td>\n",
              "      <td>0.410</td>\n",
              "      <td>0.979</td>\n",
              "      <td>4.83</td>\n",
              "      <td>0.290</td>\n",
              "      <td>2.43</td>\n",
              "    </tr>\n",
              "    <tr>\n",
              "      <th>2</th>\n",
              "      <td>'07_KHJ_33_02'</td>\n",
              "      <td>Control</td>\n",
              "      <td>Training Data</td>\n",
              "      <td>Test</td>\n",
              "      <td>246</td>\n",
              "      <td>275</td>\n",
              "      <td>456</td>\n",
              "      <td>270</td>\n",
              "      <td>402</td>\n",
              "      <td>72</td>\n",
              "      <td>...</td>\n",
              "      <td>2.890000e-05</td>\n",
              "      <td>0.000778</td>\n",
              "      <td>0.0805</td>\n",
              "      <td>0.0527</td>\n",
              "      <td>0.301</td>\n",
              "      <td>0.566</td>\n",
              "      <td>1.880</td>\n",
              "      <td>6.51</td>\n",
              "      <td>0.268</td>\n",
              "      <td>1.53</td>\n",
              "    </tr>\n",
              "    <tr>\n",
              "      <th>3</th>\n",
              "      <td>'08_LJS_26_01'</td>\n",
              "      <td>Control</td>\n",
              "      <td>Training Data</td>\n",
              "      <td>Test</td>\n",
              "      <td>212</td>\n",
              "      <td>320</td>\n",
              "      <td>416</td>\n",
              "      <td>297</td>\n",
              "      <td>394</td>\n",
              "      <td>65</td>\n",
              "      <td>...</td>\n",
              "      <td>5.990000e-07</td>\n",
              "      <td>0.000075</td>\n",
              "      <td>0.0885</td>\n",
              "      <td>0.0397</td>\n",
              "      <td>0.354</td>\n",
              "      <td>0.518</td>\n",
              "      <td>1.460</td>\n",
              "      <td>6.80</td>\n",
              "      <td>0.250</td>\n",
              "      <td>2.23</td>\n",
              "    </tr>\n",
              "    <tr>\n",
              "      <th>4</th>\n",
              "      <td>'09_JBH_58_01'</td>\n",
              "      <td>Control</td>\n",
              "      <td>Training Data</td>\n",
              "      <td>Test</td>\n",
              "      <td>206</td>\n",
              "      <td>271</td>\n",
              "      <td>386</td>\n",
              "      <td>262</td>\n",
              "      <td>402</td>\n",
              "      <td>39</td>\n",
              "      <td>...</td>\n",
              "      <td>8.390000e-07</td>\n",
              "      <td>0.000074</td>\n",
              "      <td>0.1090</td>\n",
              "      <td>0.0564</td>\n",
              "      <td>0.392</td>\n",
              "      <td>0.442</td>\n",
              "      <td>1.130</td>\n",
              "      <td>5.04</td>\n",
              "      <td>0.278</td>\n",
              "      <td>1.93</td>\n",
              "    </tr>\n",
              "  </tbody>\n",
              "</table>\n",
              "<p>5 rows × 152 columns</p>\n",
              "</div>\n",
              "      <button class=\"colab-df-convert\" onclick=\"convertToInteractive('df-c06a1184-430a-492b-9fe7-14996e79676a')\"\n",
              "              title=\"Convert this dataframe to an interactive table.\"\n",
              "              style=\"display:none;\">\n",
              "        \n",
              "  <svg xmlns=\"http://www.w3.org/2000/svg\" height=\"24px\"viewBox=\"0 0 24 24\"\n",
              "       width=\"24px\">\n",
              "    <path d=\"M0 0h24v24H0V0z\" fill=\"none\"/>\n",
              "    <path d=\"M18.56 5.44l.94 2.06.94-2.06 2.06-.94-2.06-.94-.94-2.06-.94 2.06-2.06.94zm-11 1L8.5 8.5l.94-2.06 2.06-.94-2.06-.94L8.5 2.5l-.94 2.06-2.06.94zm10 10l.94 2.06.94-2.06 2.06-.94-2.06-.94-.94-2.06-.94 2.06-2.06.94z\"/><path d=\"M17.41 7.96l-1.37-1.37c-.4-.4-.92-.59-1.43-.59-.52 0-1.04.2-1.43.59L10.3 9.45l-7.72 7.72c-.78.78-.78 2.05 0 2.83L4 21.41c.39.39.9.59 1.41.59.51 0 1.02-.2 1.41-.59l7.78-7.78 2.81-2.81c.8-.78.8-2.07 0-2.86zM5.41 20L4 18.59l7.72-7.72 1.47 1.35L5.41 20z\"/>\n",
              "  </svg>\n",
              "      </button>\n",
              "      \n",
              "  <style>\n",
              "    .colab-df-container {\n",
              "      display:flex;\n",
              "      flex-wrap:wrap;\n",
              "      gap: 12px;\n",
              "    }\n",
              "\n",
              "    .colab-df-convert {\n",
              "      background-color: #E8F0FE;\n",
              "      border: none;\n",
              "      border-radius: 50%;\n",
              "      cursor: pointer;\n",
              "      display: none;\n",
              "      fill: #1967D2;\n",
              "      height: 32px;\n",
              "      padding: 0 0 0 0;\n",
              "      width: 32px;\n",
              "    }\n",
              "\n",
              "    .colab-df-convert:hover {\n",
              "      background-color: #E2EBFA;\n",
              "      box-shadow: 0px 1px 2px rgba(60, 64, 67, 0.3), 0px 1px 3px 1px rgba(60, 64, 67, 0.15);\n",
              "      fill: #174EA6;\n",
              "    }\n",
              "\n",
              "    [theme=dark] .colab-df-convert {\n",
              "      background-color: #3B4455;\n",
              "      fill: #D2E3FC;\n",
              "    }\n",
              "\n",
              "    [theme=dark] .colab-df-convert:hover {\n",
              "      background-color: #434B5C;\n",
              "      box-shadow: 0px 1px 3px 1px rgba(0, 0, 0, 0.15);\n",
              "      filter: drop-shadow(0px 1px 2px rgba(0, 0, 0, 0.3));\n",
              "      fill: #FFFFFF;\n",
              "    }\n",
              "  </style>\n",
              "\n",
              "      <script>\n",
              "        const buttonEl =\n",
              "          document.querySelector('#df-c06a1184-430a-492b-9fe7-14996e79676a button.colab-df-convert');\n",
              "        buttonEl.style.display =\n",
              "          google.colab.kernel.accessAllowed ? 'block' : 'none';\n",
              "\n",
              "        async function convertToInteractive(key) {\n",
              "          const element = document.querySelector('#df-c06a1184-430a-492b-9fe7-14996e79676a');\n",
              "          const dataTable =\n",
              "            await google.colab.kernel.invokeFunction('convertToInteractive',\n",
              "                                                     [key], {});\n",
              "          if (!dataTable) return;\n",
              "\n",
              "          const docLinkHtml = 'Like what you see? Visit the ' +\n",
              "            '<a target=\"_blank\" href=https://colab.research.google.com/notebooks/data_table.ipynb>data table notebook</a>'\n",
              "            + ' to learn more about interactive tables.';\n",
              "          element.innerHTML = '';\n",
              "          dataTable['output_type'] = 'display_data';\n",
              "          await google.colab.output.renderOutput(dataTable, element);\n",
              "          const docLink = document.createElement('div');\n",
              "          docLink.innerHTML = docLinkHtml;\n",
              "          element.appendChild(docLink);\n",
              "        }\n",
              "      </script>\n",
              "    </div>\n",
              "  </div>\n",
              "  "
            ]
          },
          "metadata": {},
          "execution_count": 3
        }
      ]
    },
    {
      "cell_type": "code",
      "source": [
        "classes"
      ],
      "metadata": {
        "colab": {
          "base_uri": "https://localhost:8080/"
        },
        "id": "K1qDFsJCg2jK",
        "outputId": "8b6817b6-3175-4812-a30f-f4c78461b740"
      },
      "execution_count": 4,
      "outputs": [
        {
          "output_type": "execute_result",
          "data": {
            "text/plain": [
              "array(['Control', 'Patient'], dtype='<U7')"
            ]
          },
          "metadata": {},
          "execution_count": 4
        }
      ]
    },
    {
      "cell_type": "code",
      "source": [
        "dataset.shape"
      ],
      "metadata": {
        "colab": {
          "base_uri": "https://localhost:8080/"
        },
        "id": "VS4iUbnyYaDH",
        "outputId": "072130ee-d8e9-4003-843d-e5c350b1b412"
      },
      "execution_count": 5,
      "outputs": [
        {
          "output_type": "execute_result",
          "data": {
            "text/plain": [
              "(165, 152)"
            ]
          },
          "metadata": {},
          "execution_count": 5
        }
      ]
    },
    {
      "cell_type": "code",
      "source": [
        "\n",
        "from sklearn.preprocessing import LabelEncoder\n",
        "encoder=LabelEncoder()\n",
        "dataset.iloc[:, 1]=encoder.fit_transform(dataset.iloc[:, 1])"
      ],
      "metadata": {
        "id": "Ljyj9yuIf-tX"
      },
      "execution_count": 6,
      "outputs": []
    },
    {
      "cell_type": "code",
      "source": [
        "X_ = dataset.iloc[:,4:]\n",
        "y_ = dataset.iloc[:, 1]\n",
        "col=list(dataset.iloc[0:0,4:])"
      ],
      "metadata": {
        "id": "ci-EA40TXasM"
      },
      "execution_count": 7,
      "outputs": []
    },
    {
      "cell_type": "markdown",
      "source": [
        "# Input Features number:"
      ],
      "metadata": {
        "id": "trUFQg0Qpoob"
      }
    },
    {
      "cell_type": "code",
      "source": [
        "\n",
        "number_of_feat=int(input(\"Number Of Best Features: \"))"
      ],
      "metadata": {
        "colab": {
          "base_uri": "https://localhost:8080/"
        },
        "id": "3c3FE67wjX7U",
        "outputId": "a5ccebc7-02b7-4968-9b0d-84b54b31a0f3"
      },
      "execution_count": null,
      "outputs": [
        {
          "name": "stdout",
          "output_type": "stream",
          "text": [
            "Number Of Best Features: 30\n"
          ]
        }
      ]
    },
    {
      "cell_type": "markdown",
      "source": [
        "#Filter Method (Model Free)"
      ],
      "metadata": {
        "id": "UaMqQtc8z1dc"
      }
    },
    {
      "cell_type": "markdown",
      "source": [
        "**Type-1**"
      ],
      "metadata": {
        "id": "AjBrNIkMTJaA"
      }
    },
    {
      "cell_type": "code",
      "source": [
        "from sklearn.feature_selection import SelectKBest\n",
        "bestfeatures_1 = SelectKBest(k=10)\n",
        "fit = bestfeatures_1.fit(X_,y_)\n",
        "dfscores = pd.DataFrame(fit.scores_)\n",
        "dfcolumns = pd.DataFrame(X_.columns)\n",
        "featureScores = pd.concat([dfcolumns,dfscores],axis=1)\n",
        "featureScores.columns = ['Best_columns','Score_bestfeatures_1']\n",
        "\n",
        "lyst = featureScores.nlargest(number_of_feat,'Score_bestfeatures_1')\n",
        "\n",
        "lyst.to_csv('Filter_Method_bestfeatures_1.csv')"
      ],
      "metadata": {
        "id": "PAG90MeI0S7O"
      },
      "execution_count": null,
      "outputs": []
    },
    {
      "cell_type": "markdown",
      "source": [
        "**Type-2**"
      ],
      "metadata": {
        "id": "Ftetc2yrTV6F"
      }
    },
    {
      "cell_type": "code",
      "source": [
        "from sklearn.feature_selection import SelectKBest,f_classif\n",
        "bestfeatures_2=SelectKBest(f_classif, k=10)\n",
        "fit = bestfeatures_2.fit(X_,y_)\n",
        "dfscores = pd.DataFrame(fit.scores_)\n",
        "dfcolumns = pd.DataFrame(X_.columns)\n",
        "featureScores = pd.concat([dfcolumns,dfscores],axis=1)\n",
        "featureScores.columns = ['Specs','Score_bestfeatures_f2']\n",
        "\n",
        "lyst=featureScores.nlargest(number_of_feat,'Score_bestfeatures_f2')\n",
        "\n",
        "\n",
        "lyst.to_csv('Filter_Method_bestfeatures_f2.csv')"
      ],
      "metadata": {
        "id": "2u0_C3phPo4J"
      },
      "execution_count": null,
      "outputs": []
    },
    {
      "cell_type": "markdown",
      "source": [
        "**Type-3**"
      ],
      "metadata": {
        "id": "ftYkiPhdTYrB"
      }
    },
    {
      "cell_type": "code",
      "source": [
        "from sklearn.feature_selection import SelectFpr, f_classif\n",
        "\n",
        "bestfeatures_3=SelectFpr(f_classif, alpha=0.1)\n",
        "fit = bestfeatures_3.fit(X_,y_)\n",
        "dfscores = pd.DataFrame(fit.scores_)\n",
        "dfcolumns = pd.DataFrame(X_.columns)\n",
        "featureScores = pd.concat([dfcolumns,dfscores],axis=1)\n",
        "featureScores.columns = ['Specs','Score_bestfeatures_3']\n",
        "lyst=featureScores.nlargest(number_of_feat,'Score_bestfeatures_3')\n",
        "\n",
        "lyst.to_csv('Filter_Method_bestfeatures_3.csv')"
      ],
      "metadata": {
        "id": "UCT592TwR7VO"
      },
      "execution_count": null,
      "outputs": []
    },
    {
      "cell_type": "markdown",
      "source": [
        "#Pearson’s with f_regression()"
      ],
      "metadata": {
        "id": "5uIdIRoRoePp"
      }
    },
    {
      "cell_type": "code",
      "source": [
        "\n",
        "\n",
        "from sklearn.datasets import make_regression\n",
        "from sklearn.feature_selection import SelectKBest\n",
        "from sklearn.feature_selection import f_regression\n",
        "import pandas as pd\n",
        "\n",
        "\n",
        "fs = SelectKBest(score_func=f_regression, k=5)\n",
        "fit = fs.fit(X_,y_)\n",
        "\n",
        "dfscores = pd.DataFrame(fit.scores_)\n",
        "dfcolumns = pd.DataFrame(dataset.columns)\n",
        "featureScores = pd.concat([dfcolumns,dfscores],axis=1)\n",
        "\n",
        "featureScores.columns = ['Best_columns','Score_pearsons'] \n",
        "\n",
        "\n",
        "lyst = featureScores.nlargest(number_of_feat,'Score_pearsons')\n",
        "\n",
        "lyst.to_csv('Filter_Method_Pearson’s_with_f_regression.csv')\n",
        "\n",
        "list_of_feat = list(lyst[\"Best_columns\"])"
      ],
      "metadata": {
        "id": "QR4DInIkn2xv"
      },
      "execution_count": null,
      "outputs": []
    },
    {
      "cell_type": "markdown",
      "source": [
        "#ANOVA with f_classif()"
      ],
      "metadata": {
        "id": "fqKekk2Qo5Uh"
      }
    },
    {
      "cell_type": "code",
      "source": [
        "from sklearn.datasets import make_classification\n",
        "from sklearn.feature_selection import SelectKBest\n",
        "from sklearn.feature_selection import f_classif\n",
        "import pandas as pd\n",
        "\n",
        "\n",
        "\n",
        "fs = SelectKBest(score_func=f_classif, k=5)\n",
        "fit = fs.fit(X_,y_)\n",
        "dfscores = pd.DataFrame(fit.scores_)\n",
        "dfcolumns = pd.DataFrame(X_.columns)\n",
        "\n",
        "featureScores = pd.concat([dfcolumns,dfscores],axis=1)\n",
        "\n",
        "featureScores.columns = ['Best_columns','Score_ANOVA'] \n",
        "\n",
        "lyst = featureScores.nlargest(number_of_feat,'Score_ANOVA')\n",
        "\n",
        "#lyst.to_csv('Filter_Method_ANOVA_with_f_classif.csv')\n",
        "\n",
        "list_of_feat = list(lyst[\"Best_columns\"])"
      ],
      "metadata": {
        "id": "sHbbp3DKo446"
      },
      "execution_count": null,
      "outputs": []
    },
    {
      "cell_type": "markdown",
      "source": [
        "# Mutual Information"
      ],
      "metadata": {
        "id": "dGoONEG19wZQ"
      }
    },
    {
      "cell_type": "code",
      "source": [
        "from sklearn.feature_selection import mutual_info_classif, mutual_info_regression\n",
        "from sklearn.feature_selection import SelectKBest, SelectPercentile\n",
        "mi = mutual_info_classif(X_, y_)\n",
        "\n",
        "mi = pd.Series(mi)\n",
        "mi.index = col\n",
        "mi.sort_values(ascending=False).to_csv('Filter_Method_ Mutual_Information.csv')"
      ],
      "metadata": {
        "id": "8LAHsbFH9KQL"
      },
      "execution_count": null,
      "outputs": []
    },
    {
      "cell_type": "markdown",
      "source": [
        "#Wrapper"
      ],
      "metadata": {
        "id": "KZ7kqLU-mZLk"
      }
    },
    {
      "cell_type": "markdown",
      "source": [
        "**Using Regression**"
      ],
      "metadata": {
        "id": "xpj5HjLvn1ZX"
      }
    },
    {
      "cell_type": "code",
      "source": [
        "!pip install joblib\n",
        "import joblib\n",
        "import sys\n",
        "sys.modules['sklearn.externals.joblib'] = joblib\n",
        "from mlxtend.feature_selection import SequentialFeatureSelector as SFS\n",
        "from sklearn.linear_model import LinearRegression\n",
        "import pandas as pd\n",
        "import numpy as np\n",
        "list_of_feat=[]\n",
        "\n",
        "\n",
        "\n",
        "sfs = SFS(LinearRegression(),\n",
        "           k_features=number_of_feat,\n",
        "           forward=True,\n",
        "           floating=False,\n",
        "           scoring = 'r2',\n",
        "           cv = 0)\n",
        "\n",
        "sfs.fit(X_, y_)\n",
        "\n",
        "df_SFS_results = pd.DataFrame(sfs.subsets_).transpose()\n",
        "\n",
        "df_SFS_results.to_csv(\"Wrapper_Method_Regrassion.csv\")\n",
        "\n"
      ],
      "metadata": {
        "id": "kU8OFZbGmYMT",
        "colab": {
          "base_uri": "https://localhost:8080/"
        },
        "outputId": "150faa8a-ef9b-43a5-9014-2225cac963b7"
      },
      "execution_count": null,
      "outputs": [
        {
          "output_type": "stream",
          "name": "stdout",
          "text": [
            "Looking in indexes: https://pypi.org/simple, https://us-python.pkg.dev/colab-wheels/public/simple/\n",
            "Requirement already satisfied: joblib in /usr/local/lib/python3.8/dist-packages (1.2.0)\n"
          ]
        }
      ]
    },
    {
      "cell_type": "markdown",
      "source": [
        "**RandomForestRegressor**"
      ],
      "metadata": {
        "id": "ongjQGHzn7Ec"
      }
    },
    {
      "cell_type": "markdown",
      "source": [
        "#Embedded"
      ],
      "metadata": {
        "id": "fXiiWP5rqNUR"
      }
    },
    {
      "cell_type": "code",
      "source": [
        "from sklearn.linear_model import LassoCV\n",
        "reg = LassoCV()\n",
        "reg.fit(X_, y_)\n",
        "print(\"Best alpha using built-in LassoCV: %f\" % reg.alpha_)\n",
        "print(\"Best score using built-in LassoCV: %f\" %reg.score(X_,y_))\n",
        "coef = pd.Series(reg.coef_, index = col)\n",
        "\n",
        "print(\"Lasso picked \" + str(sum(coef != 0)) + \" variables and eliminated the other \" +  str(sum(coef == 0)) + \" variables\")\n",
        "\n",
        "imp_coef = coef.sort_values()\n",
        "\n",
        "list_of_feat=[]\n",
        "\n",
        "\n",
        "for i in range(coef.shape[0]):\n",
        "  if coef[i]!=0:\n",
        "    list_of_feat.append(dataset.iloc[:0,i+3].name)\n",
        "    \n",
        "df = pd.DataFrame(list_of_feat, columns=['Best_Features'])\n",
        "\n",
        "df.to_csv(\"Embedded_Method.csv\")"
      ],
      "metadata": {
        "id": "Um6iR-HzqTBc",
        "colab": {
          "base_uri": "https://localhost:8080/"
        },
        "outputId": "6b3db78b-7f36-45ce-b80b-1b7a4f30f91c"
      },
      "execution_count": null,
      "outputs": [
        {
          "output_type": "stream",
          "name": "stdout",
          "text": [
            "Best alpha using built-in LassoCV: 0.997800\n",
            "Best score using built-in LassoCV: 0.332118\n",
            "Lasso picked 15 variables and eliminated the other 133 variables\n"
          ]
        }
      ]
    },
    {
      "cell_type": "markdown",
      "source": [
        "#Permutation Importance"
      ],
      "metadata": {
        "id": "ZSKVTHg_wHUf"
      }
    },
    {
      "cell_type": "code",
      "source": [
        "!pip install eli5"
      ],
      "metadata": {
        "id": "5AkLD4oyv7lz",
        "colab": {
          "base_uri": "https://localhost:8080/"
        },
        "outputId": "0a6e82bc-d1ba-410d-8225-d1246fc89381"
      },
      "execution_count": null,
      "outputs": [
        {
          "output_type": "stream",
          "name": "stdout",
          "text": [
            "Looking in indexes: https://pypi.org/simple, https://us-python.pkg.dev/colab-wheels/public/simple/\n",
            "Requirement already satisfied: eli5 in /usr/local/lib/python3.8/dist-packages (0.13.0)\n",
            "Requirement already satisfied: scikit-learn>=0.20 in /usr/local/lib/python3.8/dist-packages (from eli5) (1.0.2)\n",
            "Requirement already satisfied: jinja2>=3.0.0 in /usr/local/lib/python3.8/dist-packages (from eli5) (3.1.2)\n",
            "Requirement already satisfied: six in /usr/local/lib/python3.8/dist-packages (from eli5) (1.15.0)\n",
            "Requirement already satisfied: numpy>=1.9.0 in /usr/local/lib/python3.8/dist-packages (from eli5) (1.21.6)\n",
            "Requirement already satisfied: tabulate>=0.7.7 in /usr/local/lib/python3.8/dist-packages (from eli5) (0.8.10)\n",
            "Requirement already satisfied: attrs>17.1.0 in /usr/local/lib/python3.8/dist-packages (from eli5) (22.2.0)\n",
            "Requirement already satisfied: graphviz in /usr/local/lib/python3.8/dist-packages (from eli5) (0.10.1)\n",
            "Requirement already satisfied: scipy in /usr/local/lib/python3.8/dist-packages (from eli5) (1.7.3)\n",
            "Requirement already satisfied: MarkupSafe>=2.0 in /usr/local/lib/python3.8/dist-packages (from jinja2>=3.0.0->eli5) (2.0.1)\n",
            "Requirement already satisfied: threadpoolctl>=2.0.0 in /usr/local/lib/python3.8/dist-packages (from scikit-learn>=0.20->eli5) (3.1.0)\n",
            "Requirement already satisfied: joblib>=0.11 in /usr/local/lib/python3.8/dist-packages (from scikit-learn>=0.20->eli5) (1.2.0)\n"
          ]
        }
      ]
    },
    {
      "cell_type": "code",
      "source": [
        "\n",
        "from sklearn.model_selection import train_test_split\n",
        "from sklearn.ensemble import RandomForestClassifier\n",
        "import eli5\n",
        "from eli5.sklearn import PermutationImportance\n",
        "\n",
        "X_train, X_test, y_train, y_test = train_test_split(X_, y_, test_size=0.2, random_state=0, stratify=y_)\n",
        "rf = RandomForestClassifier()\n",
        "rf.fit(X_train, y_train)\n",
        "perm = PermutationImportance(rf, random_state=0).fit(X_test, y_test)\n",
        "eli5.show_weights(perm,feature_names = col)"
      ],
      "metadata": {
        "id": "vcI9juwrvBge",
        "colab": {
          "base_uri": "https://localhost:8080/"
        },
        "outputId": "9a079d2a-c64f-4d1e-b188-eb0467ba5c42"
      },
      "execution_count": null,
      "outputs": [
        {
          "output_type": "execute_result",
          "data": {
            "text/plain": [
              "<IPython.core.display.HTML object>"
            ],
            "text/html": [
              "\n",
              "    <style>\n",
              "    table.eli5-weights tr:hover {\n",
              "        filter: brightness(85%);\n",
              "    }\n",
              "</style>\n",
              "\n",
              "\n",
              "\n",
              "    \n",
              "\n",
              "    \n",
              "\n",
              "    \n",
              "\n",
              "    \n",
              "\n",
              "    \n",
              "\n",
              "    \n",
              "\n",
              "\n",
              "    \n",
              "\n",
              "    \n",
              "\n",
              "    \n",
              "\n",
              "    \n",
              "\n",
              "    \n",
              "\n",
              "    \n",
              "\n",
              "\n",
              "    \n",
              "\n",
              "    \n",
              "\n",
              "    \n",
              "\n",
              "    \n",
              "\n",
              "    \n",
              "        <table class=\"eli5-weights eli5-feature-importances\" style=\"border-collapse: collapse; border: none; margin-top: 0em; table-layout: auto;\">\n",
              "    <thead>\n",
              "    <tr style=\"border: none;\">\n",
              "        <th style=\"padding: 0 1em 0 0.5em; text-align: right; border: none;\">Weight</th>\n",
              "        <th style=\"padding: 0 0.5em 0 0.5em; text-align: left; border: none;\">Feature</th>\n",
              "    </tr>\n",
              "    </thead>\n",
              "    <tbody>\n",
              "    \n",
              "        <tr style=\"background-color: hsl(120, 100.00%, 80.00%); border: none;\">\n",
              "            <td style=\"padding: 0 1em 0 0.5em; text-align: right; border: none;\">\n",
              "                0.0485\n",
              "                \n",
              "                    &plusmn; 0.0727\n",
              "                \n",
              "            </td>\n",
              "            <td style=\"padding: 0 0.5em 0 0.5em; text-align: left; border: none;\">\n",
              "                PeakF_Alpha_50ms\n",
              "            </td>\n",
              "        </tr>\n",
              "    \n",
              "        <tr style=\"background-color: hsl(120, 100.00%, 81.78%); border: none;\">\n",
              "            <td style=\"padding: 0 1em 0 0.5em; text-align: right; border: none;\">\n",
              "                0.0424\n",
              "                \n",
              "                    &plusmn; 0.0485\n",
              "                \n",
              "            </td>\n",
              "            <td style=\"padding: 0 0.5em 0 0.5em; text-align: left; border: none;\">\n",
              "                gap_AUC_n1p2_R_20ms\n",
              "            </td>\n",
              "        </tr>\n",
              "    \n",
              "        <tr style=\"background-color: hsl(120, 100.00%, 87.69%); border: none;\">\n",
              "            <td style=\"padding: 0 1em 0 0.5em; text-align: right; border: none;\">\n",
              "                0.0242\n",
              "                \n",
              "                    &plusmn; 0.0242\n",
              "                \n",
              "            </td>\n",
              "            <td style=\"padding: 0 0.5em 0 0.5em; text-align: left; border: none;\">\n",
              "                MeanF_Beta_50ms\n",
              "            </td>\n",
              "        </tr>\n",
              "    \n",
              "        <tr style=\"background-color: hsl(120, 100.00%, 87.69%); border: none;\">\n",
              "            <td style=\"padding: 0 1em 0 0.5em; text-align: right; border: none;\">\n",
              "                0.0242\n",
              "                \n",
              "                    &plusmn; 0.0242\n",
              "                \n",
              "            </td>\n",
              "            <td style=\"padding: 0 0.5em 0 0.5em; text-align: left; border: none;\">\n",
              "                n2_gap_peak_ms_20ms\n",
              "            </td>\n",
              "        </tr>\n",
              "    \n",
              "        <tr style=\"background-color: hsl(120, 100.00%, 89.93%); border: none;\">\n",
              "            <td style=\"padding: 0 1em 0 0.5em; text-align: right; border: none;\">\n",
              "                0.0182\n",
              "                \n",
              "                    &plusmn; 0.0297\n",
              "                \n",
              "            </td>\n",
              "            <td style=\"padding: 0 0.5em 0 0.5em; text-align: left; border: none;\">\n",
              "                MeanP_Alpha_20ms\n",
              "            </td>\n",
              "        </tr>\n",
              "    \n",
              "        <tr style=\"background-color: hsl(120, 100.00%, 89.93%); border: none;\">\n",
              "            <td style=\"padding: 0 1em 0 0.5em; text-align: right; border: none;\">\n",
              "                0.0182\n",
              "                \n",
              "                    &plusmn; 0.0297\n",
              "                \n",
              "            </td>\n",
              "            <td style=\"padding: 0 0.5em 0 0.5em; text-align: left; border: none;\">\n",
              "                p2_nogap_peak_ms_50ms\n",
              "            </td>\n",
              "        </tr>\n",
              "    \n",
              "        <tr style=\"background-color: hsl(120, 100.00%, 89.93%); border: none;\">\n",
              "            <td style=\"padding: 0 1em 0 0.5em; text-align: right; border: none;\">\n",
              "                0.0182\n",
              "                \n",
              "                    &plusmn; 0.0485\n",
              "                \n",
              "            </td>\n",
              "            <td style=\"padding: 0 0.5em 0 0.5em; text-align: left; border: none;\">\n",
              "                n2_nogap_peak_amp_50ms\n",
              "            </td>\n",
              "        </tr>\n",
              "    \n",
              "        <tr style=\"background-color: hsl(120, 100.00%, 92.42%); border: none;\">\n",
              "            <td style=\"padding: 0 1em 0 0.5em; text-align: right; border: none;\">\n",
              "                0.0121\n",
              "                \n",
              "                    &plusmn; 0.0485\n",
              "                \n",
              "            </td>\n",
              "            <td style=\"padding: 0 0.5em 0 0.5em; text-align: left; border: none;\">\n",
              "                RelativeBeta_50ms\n",
              "            </td>\n",
              "        </tr>\n",
              "    \n",
              "        <tr style=\"background-color: hsl(120, 100.00%, 95.33%); border: none;\">\n",
              "            <td style=\"padding: 0 1em 0 0.5em; text-align: right; border: none;\">\n",
              "                0.0061\n",
              "                \n",
              "                    &plusmn; 0.0242\n",
              "                \n",
              "            </td>\n",
              "            <td style=\"padding: 0 0.5em 0 0.5em; text-align: left; border: none;\">\n",
              "                n1_nogap_peak_amp_50ms\n",
              "            </td>\n",
              "        </tr>\n",
              "    \n",
              "        <tr style=\"background-color: hsl(120, 100.00%, 95.33%); border: none;\">\n",
              "            <td style=\"padding: 0 1em 0 0.5em; text-align: right; border: none;\">\n",
              "                0.0061\n",
              "                \n",
              "                    &plusmn; 0.0242\n",
              "                \n",
              "            </td>\n",
              "            <td style=\"padding: 0 0.5em 0 0.5em; text-align: left; border: none;\">\n",
              "                n1_gap_peak_ms_50ms\n",
              "            </td>\n",
              "        </tr>\n",
              "    \n",
              "        <tr style=\"background-color: hsl(120, 100.00%, 95.33%); border: none;\">\n",
              "            <td style=\"padding: 0 1em 0 0.5em; text-align: right; border: none;\">\n",
              "                0.0061\n",
              "                \n",
              "                    &plusmn; 0.0242\n",
              "                \n",
              "            </td>\n",
              "            <td style=\"padding: 0 0.5em 0 0.5em; text-align: left; border: none;\">\n",
              "                p2n2_gap_no_gap_ratio_50ms\n",
              "            </td>\n",
              "        </tr>\n",
              "    \n",
              "        <tr style=\"background-color: hsl(120, 100.00%, 95.33%); border: none;\">\n",
              "            <td style=\"padding: 0 1em 0 0.5em; text-align: right; border: none;\">\n",
              "                0.0061\n",
              "                \n",
              "                    &plusmn; 0.0242\n",
              "                \n",
              "            </td>\n",
              "            <td style=\"padding: 0 0.5em 0 0.5em; text-align: left; border: none;\">\n",
              "                MedianF_Beta_50ms\n",
              "            </td>\n",
              "        </tr>\n",
              "    \n",
              "        <tr style=\"background-color: hsl(120, 100.00%, 95.33%); border: none;\">\n",
              "            <td style=\"padding: 0 1em 0 0.5em; text-align: right; border: none;\">\n",
              "                0.0061\n",
              "                \n",
              "                    &plusmn; 0.0242\n",
              "                \n",
              "            </td>\n",
              "            <td style=\"padding: 0 0.5em 0 0.5em; text-align: left; border: none;\">\n",
              "                n1_nogap_peak_ms_50ms\n",
              "            </td>\n",
              "        </tr>\n",
              "    \n",
              "        <tr style=\"background-color: hsl(120, 100.00%, 95.33%); border: none;\">\n",
              "            <td style=\"padding: 0 1em 0 0.5em; text-align: right; border: none;\">\n",
              "                0.0061\n",
              "                \n",
              "                    &plusmn; 0.0242\n",
              "                \n",
              "            </td>\n",
              "            <td style=\"padding: 0 0.5em 0 0.5em; text-align: left; border: none;\">\n",
              "                p2n2_gap_nogap_diff_50ms\n",
              "            </td>\n",
              "        </tr>\n",
              "    \n",
              "        <tr style=\"background-color: hsl(120, 100.00%, 95.33%); border: none;\">\n",
              "            <td style=\"padding: 0 1em 0 0.5em; text-align: right; border: none;\">\n",
              "                0.0061\n",
              "                \n",
              "                    &plusmn; 0.0454\n",
              "                \n",
              "            </td>\n",
              "            <td style=\"padding: 0 0.5em 0 0.5em; text-align: left; border: none;\">\n",
              "                gap_AUC_n1p2_R_50ms\n",
              "            </td>\n",
              "        </tr>\n",
              "    \n",
              "        <tr style=\"background-color: hsl(120, 100.00%, 95.33%); border: none;\">\n",
              "            <td style=\"padding: 0 1em 0 0.5em; text-align: right; border: none;\">\n",
              "                0.0061\n",
              "                \n",
              "                    &plusmn; 0.0454\n",
              "                \n",
              "            </td>\n",
              "            <td style=\"padding: 0 0.5em 0 0.5em; text-align: left; border: none;\">\n",
              "                ABR_50ms\n",
              "            </td>\n",
              "        </tr>\n",
              "    \n",
              "        <tr style=\"background-color: hsl(120, 100.00%, 95.33%); border: none;\">\n",
              "            <td style=\"padding: 0 1em 0 0.5em; text-align: right; border: none;\">\n",
              "                0.0061\n",
              "                \n",
              "                    &plusmn; 0.0707\n",
              "                \n",
              "            </td>\n",
              "            <td style=\"padding: 0 0.5em 0 0.5em; text-align: left; border: none;\">\n",
              "                RelativeAlpha_50ms\n",
              "            </td>\n",
              "        </tr>\n",
              "    \n",
              "        <tr style=\"background-color: hsl(0, 100.00%, 100.00%); border: none;\">\n",
              "            <td style=\"padding: 0 1em 0 0.5em; text-align: right; border: none;\">\n",
              "                0\n",
              "                \n",
              "                    &plusmn; 0.0000\n",
              "                \n",
              "            </td>\n",
              "            <td style=\"padding: 0 0.5em 0 0.5em; text-align: left; border: none;\">\n",
              "                n1p2_interval_nogap_50ms\n",
              "            </td>\n",
              "        </tr>\n",
              "    \n",
              "        <tr style=\"background-color: hsl(0, 100.00%, 100.00%); border: none;\">\n",
              "            <td style=\"padding: 0 1em 0 0.5em; text-align: right; border: none;\">\n",
              "                0\n",
              "                \n",
              "                    &plusmn; 0.0000\n",
              "                \n",
              "            </td>\n",
              "            <td style=\"padding: 0 0.5em 0 0.5em; text-align: left; border: none;\">\n",
              "                p2n2_interval_nogap_50ms\n",
              "            </td>\n",
              "        </tr>\n",
              "    \n",
              "        <tr style=\"background-color: hsl(0, 100.00%, 100.00%); border: none;\">\n",
              "            <td style=\"padding: 0 1em 0 0.5em; text-align: right; border: none;\">\n",
              "                0\n",
              "                \n",
              "                    &plusmn; 0.0000\n",
              "                \n",
              "            </td>\n",
              "            <td style=\"padding: 0 0.5em 0 0.5em; text-align: left; border: none;\">\n",
              "                p2_gap_peak_ms_50ms\n",
              "            </td>\n",
              "        </tr>\n",
              "    \n",
              "    \n",
              "        \n",
              "            <tr style=\"background-color: hsl(0, 100.00%, 100.00%); border: none;\">\n",
              "                <td colspan=\"2\" style=\"padding: 0 0.5em 0 0.5em; text-align: center; border: none; white-space: nowrap;\">\n",
              "                    <i>&hellip; 128 more &hellip;</i>\n",
              "                </td>\n",
              "            </tr>\n",
              "        \n",
              "    \n",
              "    </tbody>\n",
              "</table>\n",
              "    \n",
              "\n",
              "    \n",
              "\n",
              "\n",
              "    \n",
              "\n",
              "    \n",
              "\n",
              "    \n",
              "\n",
              "    \n",
              "\n",
              "    \n",
              "\n",
              "    \n",
              "\n",
              "\n",
              "\n"
            ]
          },
          "metadata": {},
          "execution_count": 44
        }
      ]
    },
    {
      "cell_type": "markdown",
      "source": [
        "#Linear Discriminant Analysis"
      ],
      "metadata": {
        "id": "48uEnMNMWn-X"
      }
    },
    {
      "cell_type": "code",
      "source": [
        "\n",
        "from numpy import mean\n",
        "from numpy import std\n",
        "from sklearn.datasets import make_classification\n",
        "from sklearn.model_selection import cross_val_score\n",
        "from sklearn.model_selection import RepeatedStratifiedKFold\n",
        "from sklearn.pipeline import Pipeline\n",
        "from sklearn.discriminant_analysis import LinearDiscriminantAnalysis\n",
        "from sklearn.naive_bayes import GaussianNB\n",
        "\n",
        "steps = [('lda', LinearDiscriminantAnalysis(n_components=1)), ('m', GaussianNB())] #n_components cannot be larger than min(n_features, n_classes - 1).\n",
        "model = Pipeline(steps=steps)\n",
        "# evaluate model\n",
        "cv = RepeatedStratifiedKFold(n_splits=10, n_repeats=3, random_state=1)\n",
        "n_scores = cross_val_score(model, X_, y_, scoring='accuracy', cv=cv, n_jobs=-1, error_score='raise')\n",
        "# report performance\n",
        "print('Accuracy: %.3f (%.3f)' % (mean(n_scores), std(n_scores)))"
      ],
      "metadata": {
        "colab": {
          "base_uri": "https://localhost:8080/"
        },
        "id": "1Egsm-ncWpcj",
        "outputId": "a89a85f2-48e5-46f6-846b-4f99ba23a8a1"
      },
      "execution_count": null,
      "outputs": [
        {
          "output_type": "stream",
          "name": "stdout",
          "text": [
            "Accuracy: 0.573 (0.124)\n"
          ]
        }
      ]
    },
    {
      "cell_type": "code",
      "source": [
        "\n",
        "import statsmodels.api as sm\n",
        "def forward_selection(data, target, significance_level=0.05):\n",
        "    initial_features = data.columns.tolist()\n",
        "    best_features = []\n",
        "    while (len(initial_features)>0):\n",
        "        remaining_features = list(set(initial_features)-set(best_features))\n",
        "        new_pval = pd.Series(index=remaining_features)\n",
        "        for new_column in remaining_features:\n",
        "            model = sm.OLS(target, sm.add_constant(data[best_features+[new_column]])).fit()\n",
        "            new_pval[new_column] = model.pvalues[new_column]\n",
        "        min_p_value = new_pval.min()\n",
        "        if(min_p_value<significance_level):\n",
        "            best_features.append(new_pval.idxmin())\n",
        "        else:\n",
        "            break\n",
        "    return best_features\n",
        "\n",
        "\n",
        "list_of_feat = forward_selection(X_,y_)\n",
        "df = pd.DataFrame(list_of_feat, columns=['Best_Features'])\n",
        "\n",
        "df.to_csv(\"Wrapper_forward_selection.csv\")"
      ],
      "metadata": {
        "id": "HAycyKILF7XF"
      },
      "execution_count": null,
      "outputs": []
    },
    {
      "cell_type": "code",
      "source": [
        "\n",
        "import statsmodels.api as sm\n",
        "def backward_elimination(data, target,significance_level = 0.05):\n",
        "    features = data.columns.tolist()\n",
        "    while(len(features)>0):\n",
        "        features_with_constant = sm.add_constant(data[features])\n",
        "        p_values = sm.OLS(target, features_with_constant).fit().pvalues[1:]\n",
        "        max_p_value = p_values.max()\n",
        "        if(max_p_value >= significance_level):\n",
        "            excluded_feature = p_values.idxmax()\n",
        "            features.remove(excluded_feature)\n",
        "        else:\n",
        "            break \n",
        "    return features\n",
        "\n",
        "\n",
        "list_of_feat = forward_selection(X_,y_)\n",
        "df = pd.DataFrame(list_of_feat, columns=['Best_Features'])\n",
        "\n",
        "df.to_csv(\"Wrapper_backward_elimination.csv\")"
      ],
      "metadata": {
        "id": "X2_1Hf7pOg86"
      },
      "execution_count": null,
      "outputs": []
    },
    {
      "cell_type": "code",
      "source": [
        "\n",
        "import statsmodels.api as sm\n",
        "def stepwise_selection(data, target,SL_in=0.05,SL_out = 0.05):\n",
        "    initial_features = data.columns.tolist()\n",
        "    best_features = []\n",
        "    while (len(initial_features)>0):\n",
        "        remaining_features = list(set(initial_features)-set(best_features))\n",
        "        new_pval = pd.Series(index=remaining_features)\n",
        "        for new_column in remaining_features:\n",
        "            model = sm.OLS(target, sm.add_constant(data[best_features+[new_column]])).fit()\n",
        "            new_pval[new_column] = model.pvalues[new_column]\n",
        "        min_p_value = new_pval.min()\n",
        "        if(min_p_value<SL_in):\n",
        "            best_features.append(new_pval.idxmin())\n",
        "            while(len(best_features)>0):\n",
        "                best_features_with_constant = sm.add_constant(data[best_features])\n",
        "                p_values = sm.OLS(target, best_features_with_constant).fit().pvalues[1:]\n",
        "                max_p_value = p_values.max()\n",
        "                if(max_p_value >= SL_out):\n",
        "                    excluded_feature = p_values.idxmax()\n",
        "                    best_features.remove(excluded_feature)\n",
        "                else:\n",
        "                    break \n",
        "        else:\n",
        "            break\n",
        "    return best_features\n",
        "\n",
        "\n",
        "list_of_feat = forward_selection(X_,y_)\n",
        "df = pd.DataFrame(list_of_feat, columns=['Best_Features'])\n",
        "\n",
        "df.to_csv(\"Wrapper_Bi-directional_elimination.csv\")"
      ],
      "metadata": {
        "id": "KWvop1gBPawr"
      },
      "execution_count": null,
      "outputs": []
    }
  ]
}