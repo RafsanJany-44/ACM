{
  "nbformat": 4,
  "nbformat_minor": 0,
  "metadata": {
    "colab": {
      "name": "Bracu_01022022.ipynb",
      "provenance": [],
      "authorship_tag": "ABX9TyOeIAzQhg3S4TW4Fy/TJlNa",
      "include_colab_link": true
    },
    "kernelspec": {
      "name": "python3",
      "display_name": "Python 3"
    },
    "language_info": {
      "name": "python"
    }
  },
  "cells": [
    {
      "cell_type": "markdown",
      "metadata": {
        "id": "view-in-github",
        "colab_type": "text"
      },
      "source": [
        "<a href=\"https://colab.research.google.com/github/RafsanJany-44/practice_cell/blob/master/Bracu_01022022.ipynb\" target=\"_parent\"><img src=\"https://colab.research.google.com/assets/colab-badge.svg\" alt=\"Open In Colab\"/></a>"
      ]
    },
    {
      "cell_type": "code",
      "execution_count": 3,
      "metadata": {
        "colab": {
          "base_uri": "https://localhost:8080/"
        },
        "id": "FoGmFDVT2Vsm",
        "outputId": "69c33d68-e1fa-4865-b9f6-554ccc758330"
      },
      "outputs": [
        {
          "output_type": "stream",
          "name": "stdout",
          "text": [
            "HOusE\n",
            "ApplE\n",
            "BaNaNa\n",
            "HOUSE\n",
            "apple\n",
            "banana\n"
          ]
        }
      ],
      "source": [
        "t=[]\n",
        "for i in range(3):\n",
        "  t.append(input())\n",
        "\n",
        "for s1 in t:\n",
        "  count1=0\n",
        "  count2=0\n",
        "  for i in s1:\n",
        "    if 65<=ord(i)<=90:\n",
        "      count1+=1\n",
        "    else:\n",
        "      count2+=1\n",
        "  if count1>count2:\n",
        "    print(s1.upper())\n",
        "  else:\n",
        "    print(s1.lower())"
      ]
    },
    {
      "cell_type": "code",
      "source": [
        ""
      ],
      "metadata": {
        "id": "Q3A0ep1X7zey"
      },
      "execution_count": null,
      "outputs": []
    }
  ]
}