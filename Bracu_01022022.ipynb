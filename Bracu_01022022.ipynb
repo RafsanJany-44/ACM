{
  "nbformat": 4,
  "nbformat_minor": 0,
  "metadata": {
    "colab": {
      "name": "Bracu_01022022.ipynb",
      "provenance": [],
      "authorship_tag": "ABX9TyPsBrXfyiWKgoHhVFzDOs+m",
      "include_colab_link": true
    },
    "kernelspec": {
      "name": "python3",
      "display_name": "Python 3"
    },
    "language_info": {
      "name": "python"
    }
  },
  "cells": [
    {
      "cell_type": "markdown",
      "metadata": {
        "id": "view-in-github",
        "colab_type": "text"
      },
      "source": [
        "<a href=\"https://colab.research.google.com/github/RafsanJany-44/practice_cell/blob/master/Bracu_01022022.ipynb\" target=\"_parent\"><img src=\"https://colab.research.google.com/assets/colab-badge.svg\" alt=\"Open In Colab\"/></a>"
      ]
    },
    {
      "cell_type": "markdown",
      "source": [
        "1. From a given string, print the string in all uppercase if the number of uppercase letters is more than lowercase letters. Otherwise, if lowercase is greater or equal to uppercase letters, print all lowercase. The inputs will contain letters (A-Z, a-z) only.\n",
        "   Sample Input\n",
        "HOusE ApplE BaNaNa\n",
        "Sample Output\n",
        "HOUSE apple banana\n",
        "  "
      ],
      "metadata": {
        "id": "k8TNTfDqiIU7"
      }
    },
    {
      "cell_type": "markdown",
      "source": [
        ""
      ],
      "metadata": {
        "id": "wwQIamqrLdoD"
      }
    },
    {
      "cell_type": "code",
      "execution_count": null,
      "metadata": {
        "colab": {
          "base_uri": "https://localhost:8080/"
        },
        "id": "FoGmFDVT2Vsm",
        "outputId": "69c33d68-e1fa-4865-b9f6-554ccc758330"
      },
      "outputs": [
        {
          "output_type": "stream",
          "name": "stdout",
          "text": [
            "HOusE\n",
            "ApplE\n",
            "BaNaNa\n",
            "HOUSE\n",
            "apple\n",
            "banana\n"
          ]
        }
      ],
      "source": [
        "t=[]\n",
        "for i in range(3):\n",
        "  t.append(input())\n",
        "\n",
        "for s1 in t:\n",
        "  count1=0\n",
        "  count2=0\n",
        "  for i in s1:\n",
        "    if 65<=ord(i)<=90:\n",
        "      count1+=1\n",
        "    else:\n",
        "      count2+=1\n",
        "  if count1>count2:\n",
        "    print(s1.upper())\n",
        "  else:\n",
        "    print(s1.lower())"
      ]
    },
    {
      "cell_type": "markdown",
      "source": [
        "2. Given a string, print whether it is a number, word or mixed with digit and letters. If all the characters are numeric values, print NUMBER. If they are all letters, print WORD. If it is mixed, print MIXED.\n",
        "  Sample Input\n",
        "213213 jhg231j213 Hello\n",
        "Sample Output\n",
        "NUMBER MIXED WORD"
      ],
      "metadata": {
        "id": "VGvjM6iEiNPN"
      }
    },
    {
      "cell_type": "code",
      "source": [
        "t=[]\n",
        "for i in range(3):\n",
        "  t.append(input())\n",
        "\n",
        "\n",
        "for s in t:\n",
        "  num=False\n",
        "  alp=False\n",
        "\n",
        "  for i in s:\n",
        "    if 65<=ord(i)<=90 or 97<=ord(i)<=122:\n",
        "      alp=True\n",
        "    else:\n",
        "      num=True\n",
        "    if alp == True and num == True:\n",
        "      break\n",
        "  if alp==True and num==False:\n",
        "    print(\"WORD\")\n",
        "  elif alp==False and num==True:\n",
        "    print(\"NUMBER\")\n",
        "  else:\n",
        "    print(\"MIXED\")"
      ],
      "metadata": {
        "colab": {
          "base_uri": "https://localhost:8080/"
        },
        "id": "Q3A0ep1X7zey",
        "outputId": "39e95d19-8275-493d-f49f-df92b7d886ae"
      },
      "execution_count": null,
      "outputs": [
        {
          "output_type": "stream",
          "name": "stdout",
          "text": [
            "hekllp\n",
            "12312\n",
            "asdfas34343\n",
            "WORD\n",
            "NUMBER\n",
            "MIXED\n"
          ]
        }
      ]
    },
    {
      "cell_type": "code",
      "source": [
        ""
      ],
      "metadata": {
        "id": "6mUhHwSE-8LG"
      },
      "execution_count": null,
      "outputs": []
    },
    {
      "cell_type": "markdown",
      "source": [
        "3. In a given string, there will be two uppercase letters in between some lowercase letters. Print the substring from the first uppercase letter to the last uppercase letter excluding them. If there are no letters in between them, print the word BLANK. It is guaranteed that there will be only two uppercase letters in the string.\n",
        "  Sample Input\n",
        "baNgladEsh coDIng\n",
        "Sample Output\n",
        "glad BLANK\n",
        "  "
      ],
      "metadata": {
        "id": "AgS77B3BiTy3"
      }
    },
    {
      "cell_type": "code",
      "source": [
        "\n",
        "t=[]\n",
        "for i in range(2):\n",
        "  t.append(input())\n",
        "\n",
        "for s in t:\n",
        "  res=\"\"\n",
        "  for i in range(len(s)-1):\n",
        "    if 65<=ord(s[i])<=90:\n",
        "      j=i\n",
        "      while(True):\n",
        "        if 65<=ord(s[j+1])<=90:\n",
        "            break\n",
        "        res=res+s[j+1]\n",
        "        j+=1\n",
        "          \n",
        "      break\n",
        "\n",
        "  if res!=\"\":\n",
        "    print(res)\n",
        "  else:\n",
        "    print(\"BLANK\")\n"
      ],
      "metadata": {
        "colab": {
          "base_uri": "https://localhost:8080/"
        },
        "id": "BI5JhF7ZSZtv",
        "outputId": "55e48039-52d3-4226-d361-000050dff51e"
      },
      "execution_count": null,
      "outputs": [
        {
          "output_type": "stream",
          "name": "stdout",
          "text": [
            "baNgladEngj\n",
            "coDIng\n",
            "glad\n",
            "BLANK\n"
          ]
        }
      ]
    },
    {
      "cell_type": "code",
      "source": [
        ""
      ],
      "metadata": {
        "id": "bFHJ8VoPUhbu"
      },
      "execution_count": null,
      "outputs": []
    },
    {
      "cell_type": "markdown",
      "source": [
        "4. Write a Python program to find the first appearance of the substring 'too' and 'good' from a given string. If 'good' follows the 'too', replace the whole 'too'' good' substring with 'excellent' and print the resulting string. If the above does not appear, print the string as it is.\n",
        "  "
      ],
      "metadata": {
        "id": "83Ug0wmXiahZ"
      }
    },
    {
      "cell_type": "code",
      "source": [
        "s1=\"The book is not too good!\"\n",
        "s=s1.replace(\"!\",\"\").split(\" \")\n",
        "st=''\n",
        "if s.index(\"too\")+1==s.index(\"good\"):\n",
        "  s.remove(\"too\")\n",
        "  for i in s:\n",
        "    if i==\"too \":\n",
        "      continue\n",
        "    elif i=='good':\n",
        "      st=st+\" excellent\"\n",
        "    else:\n",
        "      st=st+\" \"+i\n",
        "  st=st+\"!\" \n",
        "else:\n",
        "  st=s1\n",
        "print(st)"
      ],
      "metadata": {
        "id": "7SoEsgTuibwC",
        "outputId": "e34bcbad-e462-4a9b-a5e4-50a935f6d32f",
        "colab": {
          "base_uri": "https://localhost:8080/"
        }
      },
      "execution_count": null,
      "outputs": [
        {
          "output_type": "stream",
          "name": "stdout",
          "text": [
            " The book is not excellent!\n"
          ]
        }
      ]
    },
    {
      "cell_type": "code",
      "source": [
        ""
      ],
      "metadata": {
        "id": "DE58xWIGiq4G"
      },
      "execution_count": null,
      "outputs": []
    },
    {
      "cell_type": "markdown",
      "source": [
        "5. Create a string from two given strings by concatenating common characters of the given strings."
      ],
      "metadata": {
        "id": "JArCOQjemhHl"
      }
    },
    {
      "cell_type": "code",
      "source": [
        "s1='harry, hermione'\n",
        "\n",
        "s=s1.replace(\",\",\"\").replace(\" \",\"\")\n",
        "\n",
        "l=[]\n",
        "\n",
        "for i in range(len(s)):\n",
        "  for j in range(i+1,len(s)-1):\n",
        "    if s[i]==s[j]:\n",
        "      l.append(s[i])\n",
        "\n",
        "s2=''\n",
        "for i in s:\n",
        "  if i in l:\n",
        "    s2=s2+i\n",
        "if len(s2)>0:\n",
        "  print(s2)\n",
        "else:\n",
        "  print(\"Nothing in common.\")\n"
      ],
      "metadata": {
        "id": "gvqZ6hGImiQ5",
        "outputId": "6a8375d9-3809-4fa5-c857-720aef2271d8",
        "colab": {
          "base_uri": "https://localhost:8080/"
        }
      },
      "execution_count": null,
      "outputs": [
        {
          "output_type": "stream",
          "name": "stdout",
          "text": [
            "hrrhr\n"
          ]
        }
      ]
    },
    {
      "cell_type": "markdown",
      "source": [
        "6. Again, you have lost your USIS password!! You went to the registrar office and requested for a new password. This time, you need to follow some rules to set your password. Otherwise, they won't change it. The rules are\n",
        "At least one lowercase letter\n",
        "At least one uppercase letter\n",
        "At least one digit (0-9)\n",
        "At least one special character (_ , $ , #, @)\n",
        "Your task is to find whether a given password follows all those rules. If it breaks any rule, you have to print Lowercase Missing, Uppercase Missing, Digit Missing or Special Missing respective to the missing case. For more than one rule break, print all the rules that were broken (order doesn't matter). If the password is ok, print OK.\n",
        " Sample Input\n",
        "ohMyBR@CU ohmybracu OhMyBR@CU20\n",
        "Sample Output\n",
        "Digit missing\n",
        "Uppercase character missing, Digit missing, Special character missing OK"
      ],
      "metadata": {
        "id": "UMof_bVRBIWq"
      }
    },
    {
      "cell_type": "code",
      "source": [
        "s=\"OhMyBR@CU20\"\n",
        "c_l=0\n",
        "c_u=0\n",
        "c_s=0\n",
        "c_n=0\n",
        "sp=[\"_\",\"$\",\"#\",\"@\"]\n",
        "li=[\"Uppercase character missing\",\"Lowercase character missing\",\"Digit missing\",\"Special character missing\"]\n",
        "\n",
        "for i in s:\n",
        "  if \"a\"<=i<=\"z\" and c_l==0:\n",
        "    li.remove(\"Lowercase character missing\")\n",
        "    c_l=1\n",
        "  elif \"A\"<=i<=\"Z\" and c_u==0:\n",
        "    li.remove(\"Uppercase character missing\")\n",
        "    c_u=1\n",
        "  elif \"0\"<=i<=\"9\" and c_n==0:\n",
        "    li.remove(\"Digit missing\")\n",
        "    c_n=1\n",
        "  elif i in sp and c_s==0:\n",
        "    li.remove(\"Special character missing\")\n",
        "    c_s=1\n",
        "\n",
        "if len(li)==0:\n",
        "  print(\"OK\")\n",
        "else:\n",
        "  print(*li,sep=\",\")"
      ],
      "metadata": {
        "id": "MfS965h_mwqB",
        "colab": {
          "base_uri": "https://localhost:8080/"
        },
        "outputId": "b17117cc-46b2-4f9f-a6a1-bb195a6794f2"
      },
      "execution_count": null,
      "outputs": [
        {
          "output_type": "stream",
          "name": "stdout",
          "text": [
            "0\n",
            "OK\n"
          ]
        }
      ]
    },
    {
      "cell_type": "markdown",
      "source": [
        "1. Write a python program which prints the frequency of the numbers that were given as input by the user. Stop taking input when you find the string “STOP”. Do not print the frequency of numbers that were not given as input.\n",
        "Sample Input\n",
        "10\n",
        "20\n",
        "20\n",
        "30\n",
        "10\n",
        "50\n",
        "90 STOP"
      ],
      "metadata": {
        "id": "9nMlwAQ6BBuw"
      }
    },
    {
      "cell_type": "code",
      "source": [
        "li=[]\n",
        "while(True):\n",
        "  s=input()\n",
        "  if s==\"STOP\":\n",
        "    break\n",
        "  li.append(int(s))\n",
        "l1=list(set(li))\n",
        "l1.sort()\n",
        "count=[]\n",
        "for i in l1:\n",
        "  c=0\n",
        "  for j in li:\n",
        "    if i==j:\n",
        "      c+=1\n",
        "  count.append(c)\n",
        "\n",
        "\n",
        "for i in range(len(l1)):\n",
        "  print(l1[i],\" - \",count[i],\" times\")"
      ],
      "metadata": {
        "colab": {
          "base_uri": "https://localhost:8080/"
        },
        "id": "0IEcBnwS_hcO",
        "outputId": "1a5129d3-e28d-44eb-9de7-d4f3ced31080"
      },
      "execution_count": null,
      "outputs": [
        {
          "output_type": "stream",
          "name": "stdout",
          "text": [
            "10\n",
            "20\n",
            "20\n",
            "30\n",
            "10\n",
            "50\n",
            "90\n",
            "STOP\n",
            "10  -  2  times\n",
            "20  -  2  times\n",
            "30  -  1  times\n",
            "50  -  1  times\n",
            "90  -  1  times\n"
          ]
        }
      ]
    },
    {
      "cell_type": "markdown",
      "source": [
        "Write a python program that calculates the sum of N given lists and prints the highest sum and its respective list. Input starts with N and followed by N lists.\n",
        "  Sample Input\n",
        "4\n",
        "123 456 1011 12 789"
      ],
      "metadata": {
        "id": "WXc2ekR30s7w"
      }
    },
    {
      "cell_type": "code",
      "source": [
        "n=int(input())\n",
        "t=[]\n",
        "s=[]\n",
        "for i in range(n):\n",
        "  e=(list(map(int,input().split())))\n",
        "  t.append(e)\n",
        "  s.append(sum(e))\n",
        "\n",
        "print(max(s))\n",
        "print(t[s.index(max(s))])"
      ],
      "metadata": {
        "id": "FU0-7x66tt3J",
        "colab": {
          "base_uri": "https://localhost:8080/"
        },
        "outputId": "63c1f2fb-281e-48bc-cb12-cf315f392130"
      },
      "execution_count": null,
      "outputs": [
        {
          "output_type": "stream",
          "name": "stdout",
          "text": [
            "4\n",
            "1 2 3\n",
            "4 5 6\n",
            "10 11 12\n",
            "7 8 9\n",
            "33\n",
            "[10, 11, 12]\n"
          ]
        }
      ]
    },
    {
      "cell_type": "markdown",
      "source": [
        "3. Write a python program that prints a list which contains cross multiplication between two given lists.\n",
        "  "
      ],
      "metadata": {
        "id": "PZEvSv2p1fDC"
      }
    },
    {
      "cell_type": "code",
      "source": [
        "n1=list(map(int,input().split()))\n",
        "n2=list(map(int,input().split()))\n",
        "t=[]\n",
        "for i in n1:\n",
        "  for j in n2:\n",
        "    t.append(i*j)\n",
        "print(t)"
      ],
      "metadata": {
        "colab": {
          "base_uri": "https://localhost:8080/"
        },
        "id": "SJ_BmA-PyxAK",
        "outputId": "29e0d136-4e78-4b70-bfad-4fef5ebd2f3e"
      },
      "execution_count": null,
      "outputs": [
        {
          "output_type": "stream",
          "name": "stdout",
          "text": [
            "2 3 6\n",
            "3 4 5\n",
            "[6, 8, 10, 9, 12, 15, 18, 24, 30]\n"
          ]
        }
      ]
    },
    {
      "cell_type": "markdown",
      "source": [
        "4. Let there are N numbers in a list and that list is said to be a UB Jumper if the absolute values of the difference between the successive elements take on all the values 1 through N − 1. For example, 2 1 4 6 10 is a UB Jumper because the absolute differences between them are 1 3 2 4 which is all numbers from 1 to (5 - 1) or 4. Write a python program that takes a number sequence as input and prints whether it is a UB Jumper or Not UB Jumper. Input will stop after getting “STOP” as input. (Number order or absolute difference order doesn’t follow any sequence.)\n",
        "  Sample Input\n",
        "1423\n",
        "2 1 4 6 10 1 4 2 -1 6\n",
        "STOP\n",
        "Sample Output\n",
        "UB Jumper\n",
        "UB Jumper Not UB Jumper"
      ],
      "metadata": {
        "id": "3wD3BgS22RWx"
      }
    },
    {
      "cell_type": "code",
      "source": [
        "l=[]\n",
        "while(True):\n",
        "  n=[]\n",
        "  n1=input()\n",
        "  if n1==\"STOP\":\n",
        "    break\n",
        "  n2=list(n1.split(\" \"))\n",
        "  for i in n2:\n",
        "    n.append(int(i))\n",
        "  l.append(n)\n",
        "2\n",
        "res=[]\n",
        "\n",
        "for l1 in l:\n",
        "  flage=0\n",
        "  for j in range(len(l1)-1):\n",
        "    if(abs(l1[j]-l1[j+1])>len(l1)):\n",
        "      flage=1\n",
        "      break\n",
        "  if flage==0:\n",
        "    res.append(\"UB Jumper\")\n",
        "  else:\n",
        "    res.append(\"Not UB Jumper\")\n",
        "print(*res,sep=\"\\n\")"
      ],
      "metadata": {
        "id": "fT2QwDUC8ihx",
        "outputId": "48f42591-1dd1-480a-cae6-c28c9dd545f5",
        "colab": {
          "base_uri": "https://localhost:8080/"
        }
      },
      "execution_count": null,
      "outputs": [
        {
          "output_type": "stream",
          "name": "stdout",
          "text": [
            "1 4 2 3\n",
            "2 1 4 6 10\n",
            "1 4 2 -1 6\n",
            "STOP\n",
            "UB Jumper\n",
            "UB Jumper\n",
            "Not UB Jumper\n"
          ]
        }
      ]
    },
    {
      "cell_type": "markdown",
      "source": [
        "5. You are given a string that contains alphanumeric characters only. Your task is to sort the string in the following manner:\n",
        "a. All sorted lowercase letters are ahead of uppercase letters.\n",
        "b. All sorted uppercase letters are ahead ofdigits.\n",
        "c. All sorted odd digits are ahead of sorted even digits.\n",
        "  Sample Input\n",
        "Bracu1234\n",
        "Sample Output\n",
        "acruB1324"
      ],
      "metadata": {
        "id": "byLGuC09ZEyE"
      }
    },
    {
      "cell_type": "code",
      "source": [
        "n=\"Bracu1234\"\n",
        "flage=1\n",
        "if \"0\"<=n[0]<=\"9\":\n",
        "  flage=0\n",
        "x=sorted(n)\n",
        "\n",
        "num1=''\n",
        "word1_l=''\n",
        "word1_u=''\n",
        "word1_s=''\n",
        "for i in n:\n",
        "  if \"0\"<=i<=\"9\":\n",
        "    num1=num1+i\n",
        "  elif \"a\"<=i<=\"z\":\n",
        "    word1_l=word1_l+i\n",
        "  elif \"A\"<=i<=\"Z\":\n",
        "    word1_u=word1_u+i\n",
        "  else:\n",
        "    word1_s=word1_s+i\n",
        "\n",
        "\n",
        "num=sorted(num1)\n",
        "word_l=sorted(word1_l)\n",
        "word_u=sorted(word1_u)\n",
        "word_s=sorted(word1_s)\n",
        "\n",
        "if flage==1:\n",
        "  s=''\n",
        "  for i in word_l:\n",
        "    s=s+i\n",
        "  for i in word_u:\n",
        "    s=s+i\n",
        "  for i in word_s:\n",
        "    s=s+i\n",
        "  for i in num:\n",
        "    s=s+i\n",
        "else:\n",
        "  s=''\n",
        "  for i in num:\n",
        "    s=s+i\n",
        "  for i in word_l:\n",
        "    s=s+i\n",
        "  for i in word_u:\n",
        "    s=s+i\n",
        "  for i in word_s:\n",
        "    s=s+i\n",
        "    s=s+i\n",
        "print(s)\n",
        "\n",
        "\n"
      ],
      "metadata": {
        "id": "JaLjMC2jZ6ja",
        "outputId": "3dfb07c3-ba10-4f75-a151-78b9a477681f",
        "colab": {
          "base_uri": "https://localhost:8080/"
        }
      },
      "execution_count": null,
      "outputs": [
        {
          "output_type": "stream",
          "name": "stdout",
          "text": [
            "acruB1234\n"
          ]
        }
      ]
    },
    {
      "cell_type": "markdown",
      "source": [
        "6. BRACU has n students who are regular competitive programmers. According to the ACM ICPC rules, each person can participate in the regional championship at most 5 times.\n",
        "The head of the BRACU ACM Chapter is recently gathering teams to participate in this championship. Each team must consist of exactly three people, at that, any person cannot be a member of two or more teams. What maximum number of teams can the head make if he wants each team to participate in the world championship with the same members at least k times?\n",
        "The first line of input contains two integers, n and k. The next line contains n integers: y1, y2, ..., yn (0 ≤ yi ≤ 5), where yi shows the number of times the i-thperson participated in the ACM ICPC Regional .\n",
        "Write a python program that prints how many teams can be formed according to the above problem statement.\n",
        "Sample Input 1\n",
        "52 04510\n",
        "Sample Input 2\n",
        "64 012345\n",
        "Sample Input 3\n",
        "65 000000\n",
        "Sample Output 1 1\n",
        "Sample Output 2 0\n",
        "Sample Output 3 2"
      ],
      "metadata": {
        "id": "GzS9c6WdiL9P"
      }
    },
    {
      "cell_type": "code",
      "source": [
        ""
      ],
      "metadata": {
        "id": "L-UPWVLZY3mj"
      },
      "execution_count": null,
      "outputs": []
    },
    {
      "cell_type": "markdown",
      "source": [
        "1. Write a Python program to combine two dictionaries into one by adding values for common keys. Input contains two comma separated dictionaries. Print the new dictionary and create a tuple which contains unique values in sorted order.\n",
        " \n",
        "Sample Input\n",
        "a: 100, b: 100, c: 200, d: 300 a: 300, b: 200, d: 400, e: 200\n",
        "Sample Output\n",
        "{'a': 400, 'b': 300, 'c': 200,'d': 700, 'e': 200} Values: (200, 300, 400, 700)"
      ],
      "metadata": {
        "id": "HN7-xJXQijsj"
      }
    },
    {
      "cell_type": "code",
      "source": [
        "dic1={\"a\": 100, \"b\": 100, \"c\": 200, \"d\": 300}\n",
        "dic2={ \"a\": 300, \"b\": 200, \"d\": 400, \"e\": 200}\n",
        "\n",
        "l1=[]\n",
        "l2=[]\n",
        "unik=[]\n",
        "for i in dic1:\n",
        "  l1.append(i)\n",
        "  \n",
        "for i in dic2:\n",
        "  l2.append(i)\n",
        " \n",
        "\n",
        "lo=[]\n",
        "lc=[]\n",
        "la=l1+l2\n",
        "\n",
        "for i in l1:\n",
        "  lo.append(i)\n",
        "for i in l2:\n",
        "  if i not in l1:\n",
        "    lo.append(i)\n",
        "    \n",
        "\n",
        "for i in l1:\n",
        "  if i in l2:\n",
        "    lc.append(i)\n",
        "  \n",
        "\n",
        "\n",
        "final={}\n",
        "for i in la:\n",
        "  if i in lc:\n",
        "    final[i]=dic1[i]+dic2[i]\n",
        "    \n",
        "  else:\n",
        "    if i in l1:\n",
        "      final[i]=dic1[i]\n",
        "    else:\n",
        "      final[i]=dic2[i]\n",
        "  unik.append(final[i])\n",
        "print(final)\n",
        "print(\"Values: \",tuple(sorted(list(set(unik)))))"
      ],
      "metadata": {
        "colab": {
          "base_uri": "https://localhost:8080/"
        },
        "id": "-VA12kEIilEw",
        "outputId": "867ffd0f-150c-4caf-d85b-71baf8b0fee2"
      },
      "execution_count": 11,
      "outputs": [
        {
          "output_type": "stream",
          "name": "stdout",
          "text": [
            "{'a': 400, 'b': 300, 'c': 200, 'd': 700, 'e': 200}\n",
            "Values:  (200, 300, 400, 700)\n"
          ]
        }
      ]
    },
    {
      "cell_type": "code",
      "source": [
        ""
      ],
      "metadata": {
        "id": "eEeGC7-kjEnV"
      },
      "execution_count": null,
      "outputs": []
    }
  ]
}