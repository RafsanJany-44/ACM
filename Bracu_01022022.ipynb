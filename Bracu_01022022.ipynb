{
  "nbformat": 4,
  "nbformat_minor": 0,
  "metadata": {
    "colab": {
      "name": "Bracu_01022022.ipynb",
      "provenance": [],
      "authorship_tag": "ABX9TyMknjnRGMLEX6nZ67/j/DBl",
      "include_colab_link": true
    },
    "kernelspec": {
      "name": "python3",
      "display_name": "Python 3"
    },
    "language_info": {
      "name": "python"
    }
  },
  "cells": [
    {
      "cell_type": "markdown",
      "metadata": {
        "id": "view-in-github",
        "colab_type": "text"
      },
      "source": [
        "<a href=\"https://colab.research.google.com/github/RafsanJany-44/practice_cell/blob/master/Bracu_01022022.ipynb\" target=\"_parent\"><img src=\"https://colab.research.google.com/assets/colab-badge.svg\" alt=\"Open In Colab\"/></a>"
      ]
    },
    {
      "cell_type": "markdown",
      "source": [
        "1. From a given string, print the string in all uppercase if the number of uppercase letters is more than lowercase letters. Otherwise, if lowercase is greater or equal to uppercase letters, print all lowercase. The inputs will contain letters (A-Z, a-z) only.\n",
        "   Sample Input\n",
        "HOusE ApplE BaNaNa\n",
        "Sample Output\n",
        "HOUSE apple banana\n",
        "  "
      ],
      "metadata": {
        "id": "k8TNTfDqiIU7"
      }
    },
    {
      "cell_type": "code",
      "execution_count": null,
      "metadata": {
        "colab": {
          "base_uri": "https://localhost:8080/"
        },
        "id": "FoGmFDVT2Vsm",
        "outputId": "69c33d68-e1fa-4865-b9f6-554ccc758330"
      },
      "outputs": [
        {
          "output_type": "stream",
          "name": "stdout",
          "text": [
            "HOusE\n",
            "ApplE\n",
            "BaNaNa\n",
            "HOUSE\n",
            "apple\n",
            "banana\n"
          ]
        }
      ],
      "source": [
        "t=[]\n",
        "for i in range(3):\n",
        "  t.append(input())\n",
        "\n",
        "for s1 in t:\n",
        "  count1=0\n",
        "  count2=0\n",
        "  for i in s1:\n",
        "    if 65<=ord(i)<=90:\n",
        "      count1+=1\n",
        "    else:\n",
        "      count2+=1\n",
        "  if count1>count2:\n",
        "    print(s1.upper())\n",
        "  else:\n",
        "    print(s1.lower())"
      ]
    },
    {
      "cell_type": "markdown",
      "source": [
        "2. Given a string, print whether it is a number, word or mixed with digit and letters. If all the characters are numeric values, print NUMBER. If they are all letters, print WORD. If it is mixed, print MIXED.\n",
        "  Sample Input\n",
        "213213 jhg231j213 Hello\n",
        "Sample Output\n",
        "NUMBER MIXED WORD"
      ],
      "metadata": {
        "id": "VGvjM6iEiNPN"
      }
    },
    {
      "cell_type": "code",
      "source": [
        "t=[]\n",
        "for i in range(3):\n",
        "  t.append(input())\n",
        "\n",
        "\n",
        "for s in t:\n",
        "  num=False\n",
        "  alp=False\n",
        "\n",
        "  for i in s:\n",
        "    if 65<=ord(i)<=90 or 97<=ord(i)<=122:\n",
        "      alp=True\n",
        "    else:\n",
        "      num=True\n",
        "    if alp == True and num == True:\n",
        "      break\n",
        "  if alp==True and num==False:\n",
        "    print(\"WORD\")\n",
        "  elif alp==False and num==True:\n",
        "    print(\"NUMBER\")\n",
        "  else:\n",
        "    print(\"MIXED\")"
      ],
      "metadata": {
        "colab": {
          "base_uri": "https://localhost:8080/"
        },
        "id": "Q3A0ep1X7zey",
        "outputId": "39e95d19-8275-493d-f49f-df92b7d886ae"
      },
      "execution_count": null,
      "outputs": [
        {
          "output_type": "stream",
          "name": "stdout",
          "text": [
            "hekllp\n",
            "12312\n",
            "asdfas34343\n",
            "WORD\n",
            "NUMBER\n",
            "MIXED\n"
          ]
        }
      ]
    },
    {
      "cell_type": "code",
      "source": [
        ""
      ],
      "metadata": {
        "id": "6mUhHwSE-8LG"
      },
      "execution_count": null,
      "outputs": []
    },
    {
      "cell_type": "markdown",
      "source": [
        "3. In a given string, there will be two uppercase letters in between some lowercase letters. Print the substring from the first uppercase letter to the last uppercase letter excluding them. If there are no letters in between them, print the word BLANK. It is guaranteed that there will be only two uppercase letters in the string.\n",
        "  Sample Input\n",
        "baNgladEsh coDIng\n",
        "Sample Output\n",
        "glad BLANK\n",
        "  "
      ],
      "metadata": {
        "id": "AgS77B3BiTy3"
      }
    },
    {
      "cell_type": "code",
      "source": [
        "\n",
        "t=[]\n",
        "for i in range(2):\n",
        "  t.append(input())\n",
        "\n",
        "for s in t:\n",
        "  res=\"\"\n",
        "  for i in range(len(s)-1):\n",
        "    if 65<=ord(s[i])<=90:\n",
        "      j=i\n",
        "      while(True):\n",
        "        if 65<=ord(s[j+1])<=90:\n",
        "            break\n",
        "        res=res+s[j+1]\n",
        "        j+=1\n",
        "          \n",
        "      break\n",
        "\n",
        "  if res!=\"\":\n",
        "    print(res)\n",
        "  else:\n",
        "    print(\"BLANK\")\n"
      ],
      "metadata": {
        "colab": {
          "base_uri": "https://localhost:8080/"
        },
        "id": "BI5JhF7ZSZtv",
        "outputId": "55e48039-52d3-4226-d361-000050dff51e"
      },
      "execution_count": null,
      "outputs": [
        {
          "output_type": "stream",
          "name": "stdout",
          "text": [
            "baNgladEngj\n",
            "coDIng\n",
            "glad\n",
            "BLANK\n"
          ]
        }
      ]
    },
    {
      "cell_type": "code",
      "source": [
        ""
      ],
      "metadata": {
        "id": "bFHJ8VoPUhbu"
      },
      "execution_count": null,
      "outputs": []
    },
    {
      "cell_type": "markdown",
      "source": [
        "4. Write a Python program to find the first appearance of the substring 'too' and 'good' from a given string. If 'good' follows the 'too', replace the whole 'too'' good' substring with 'excellent' and print the resulting string. If the above does not appear, print the string as it is.\n",
        "  "
      ],
      "metadata": {
        "id": "83Ug0wmXiahZ"
      }
    },
    {
      "cell_type": "code",
      "source": [
        "s1=\"The book is not too good!\"\n",
        "s=s1.replace(\"!\",\"\").split(\" \")\n",
        "st=''\n",
        "if s.index(\"too\")+1==s.index(\"good\"):\n",
        "  s.remove(\"too\")\n",
        "  for i in s:\n",
        "    if i==\"too \":\n",
        "      continue\n",
        "    elif i=='good':\n",
        "      st=st+\" excellent\"\n",
        "    else:\n",
        "      st=st+\" \"+i\n",
        "  st=st+\"!\" \n",
        "else:\n",
        "  st=s1\n",
        "print(st)"
      ],
      "metadata": {
        "id": "7SoEsgTuibwC",
        "outputId": "e34bcbad-e462-4a9b-a5e4-50a935f6d32f",
        "colab": {
          "base_uri": "https://localhost:8080/"
        }
      },
      "execution_count": null,
      "outputs": [
        {
          "output_type": "stream",
          "name": "stdout",
          "text": [
            " The book is not excellent!\n"
          ]
        }
      ]
    },
    {
      "cell_type": "code",
      "source": [
        ""
      ],
      "metadata": {
        "id": "DE58xWIGiq4G"
      },
      "execution_count": null,
      "outputs": []
    },
    {
      "cell_type": "markdown",
      "source": [
        "5. Create a string from two given strings by concatenating common characters of the given strings."
      ],
      "metadata": {
        "id": "JArCOQjemhHl"
      }
    },
    {
      "cell_type": "code",
      "source": [
        "s1='harry, hermione'\n",
        "\n",
        "s=s1.replace(\",\",\"\").replace(\" \",\"\")\n",
        "\n",
        "l=[]\n",
        "\n",
        "for i in range(len(s)):\n",
        "  for j in range(i+1,len(s)-1):\n",
        "    if s[i]==s[j]:\n",
        "      l.append(s[i])\n",
        "\n",
        "s2=''\n",
        "for i in s:\n",
        "  if i in l:\n",
        "    s2=s2+i\n",
        "if len(s2)>0:\n",
        "  print(s2)\n",
        "else:\n",
        "  print(\"Nothing in common.\")\n"
      ],
      "metadata": {
        "id": "gvqZ6hGImiQ5",
        "outputId": "6a8375d9-3809-4fa5-c857-720aef2271d8",
        "colab": {
          "base_uri": "https://localhost:8080/"
        }
      },
      "execution_count": null,
      "outputs": [
        {
          "output_type": "stream",
          "name": "stdout",
          "text": [
            "hrrhr\n"
          ]
        }
      ]
    },
    {
      "cell_type": "markdown",
      "source": [
        "6. Again, you have lost your USIS password!! You went to the registrar office and requested for a new password. This time, you need to follow some rules to set your password. Otherwise, they won't change it. The rules are\n",
        "At least one lowercase letter\n",
        "At least one uppercase letter\n",
        "At least one digit (0-9)\n",
        "At least one special character (_ , $ , #, @)\n",
        "Your task is to find whether a given password follows all those rules. If it breaks any rule, you have to print Lowercase Missing, Uppercase Missing, Digit Missing or Special Missing respective to the missing case. For more than one rule break, print all the rules that were broken (order doesn't matter). If the password is ok, print OK.\n",
        " Sample Input\n",
        "ohMyBR@CU ohmybracu OhMyBR@CU20\n",
        "Sample Output\n",
        "Digit missing\n",
        "Uppercase character missing, Digit missing, Special character missing OK"
      ],
      "metadata": {
        "id": "UMof_bVRBIWq"
      }
    },
    {
      "cell_type": "code",
      "source": [
        "s=\"OhMyBR@CU20\"\n",
        "c_l=0\n",
        "c_u=0\n",
        "c_s=0\n",
        "c_n=0\n",
        "sp=[\"_\",\"$\",\"#\",\"@\"]\n",
        "li=[\"Uppercase character missing\",\"Lowercase character missing\",\"Digit missing\",\"Special character missing\"]\n",
        "\n",
        "for i in s:\n",
        "  if \"a\"<=i<=\"z\" and c_l==0:\n",
        "    li.remove(\"Lowercase character missing\")\n",
        "    c_l=1\n",
        "  elif \"A\"<=i<=\"Z\" and c_u==0:\n",
        "    li.remove(\"Uppercase character missing\")\n",
        "    c_u=1\n",
        "  elif \"0\"<=i<=\"9\" and c_n==0:\n",
        "    li.remove(\"Digit missing\")\n",
        "    c_n=1\n",
        "  elif i in sp and c_s==0:\n",
        "    li.remove(\"Special character missing\")\n",
        "    c_s=1\n",
        "\n",
        "if len(li)==0:\n",
        "  print(\"OK\")\n",
        "else:\n",
        "  print(*li,sep=\",\")"
      ],
      "metadata": {
        "id": "MfS965h_mwqB",
        "colab": {
          "base_uri": "https://localhost:8080/"
        },
        "outputId": "b17117cc-46b2-4f9f-a6a1-bb195a6794f2"
      },
      "execution_count": 9,
      "outputs": [
        {
          "output_type": "stream",
          "name": "stdout",
          "text": [
            "0\n",
            "OK\n"
          ]
        }
      ]
    },
    {
      "cell_type": "markdown",
      "source": [
        "1. Write a python program which prints the frequency of the numbers that were given as input by the user. Stop taking input when you find the string “STOP”. Do not print the frequency of numbers that were not given as input.\n",
        "Sample Input\n",
        "10\n",
        "20\n",
        "20\n",
        "30\n",
        "10\n",
        "50\n",
        "90 STOP"
      ],
      "metadata": {
        "id": "9nMlwAQ6BBuw"
      }
    },
    {
      "cell_type": "code",
      "source": [
        "li=[]\n",
        "while(True):\n",
        "  s=input()\n",
        "  if s==\"STOP\":\n",
        "    break\n",
        "  li.append(int(s))\n",
        "l1=list(set(li))\n",
        "\n",
        "l2=[]\n",
        "\n",
        "for i in range(len(li)):\n",
        "  for j in range(len(li)):\n",
        "    if li[i]==li[j] and li[i] not in l2:\n",
        "      print(li[i],li[j])\n",
        "  l2.append(li[i])"
      ],
      "metadata": {
        "colab": {
          "base_uri": "https://localhost:8080/"
        },
        "id": "0IEcBnwS_hcO",
        "outputId": "a0efabea-dac5-47fa-c596-3e28c314a212"
      },
      "execution_count": 15,
      "outputs": [
        {
          "output_type": "stream",
          "name": "stdout",
          "text": [
            "10\n",
            "20\n",
            "30\n",
            "110\n",
            "40\n",
            "50\n",
            "110\n",
            "40\n",
            "60\n",
            "770\n",
            "770\n",
            "STOP\n",
            "10 10\n",
            "20 20\n",
            "30 30\n",
            "110 110\n",
            "110 110\n",
            "40 40\n",
            "40 40\n",
            "50 50\n",
            "60 60\n",
            "770 770\n",
            "770 770\n",
            "[10, 20, 30, 110, 40, 50, 110, 40, 60, 770, 770]\n"
          ]
        }
      ]
    },
    {
      "cell_type": "code",
      "source": [
        "34"
      ],
      "metadata": {
        "id": "7tuTS2ldBw51"
      },
      "execution_count": null,
      "outputs": []
    }
  ]
}