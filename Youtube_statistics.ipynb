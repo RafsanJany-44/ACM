{
  "nbformat": 4,
  "nbformat_minor": 0,
  "metadata": {
    "colab": {
      "provenance": [],
      "authorship_tag": "ABX9TyMUaw12F6Azc8rzq+u4twx4",
      "include_colab_link": true
    },
    "kernelspec": {
      "name": "python3",
      "display_name": "Python 3"
    },
    "language_info": {
      "name": "python"
    }
  },
  "cells": [
    {
      "cell_type": "markdown",
      "metadata": {
        "id": "view-in-github",
        "colab_type": "text"
      },
      "source": [
        "<a href=\"https://colab.research.google.com/github/RafsanJany-44/ARC/blob/master/Youtube_statistics.ipynb\" target=\"_parent\"><img src=\"https://colab.research.google.com/assets/colab-badge.svg\" alt=\"Open In Colab\"/></a>"
      ]
    },
    {
      "cell_type": "markdown",
      "source": [
        "#views\n",
        "#likes\n",
        "#length\n",
        "#author\n",
        "#unlikes\n",
        "#duration"
      ],
      "metadata": {
        "id": "y88gyXZhttHy"
      }
    },
    {
      "cell_type": "code",
      "source": [
        "!pip install pafy"
      ],
      "metadata": {
        "colab": {
          "base_uri": "https://localhost:8080/"
        },
        "id": "kboo82L77kYy",
        "outputId": "805a3125-dd7c-4805-f55a-66bfbb180841"
      },
      "execution_count": 1,
      "outputs": [
        {
          "output_type": "stream",
          "name": "stdout",
          "text": [
            "Looking in indexes: https://pypi.org/simple, https://us-python.pkg.dev/colab-wheels/public/simple/\n",
            "Requirement already satisfied: pafy in /usr/local/lib/python3.8/dist-packages (0.5.5)\n"
          ]
        }
      ]
    },
    {
      "cell_type": "code",
      "source": [
        "!pip install youtube-dl==2020.12.2"
      ],
      "metadata": {
        "colab": {
          "base_uri": "https://localhost:8080/"
        },
        "id": "VX2NeCr47lIH",
        "outputId": "24c5aa2c-6552-4824-9e2e-dba773ce1897"
      },
      "execution_count": 2,
      "outputs": [
        {
          "output_type": "stream",
          "name": "stdout",
          "text": [
            "Looking in indexes: https://pypi.org/simple, https://us-python.pkg.dev/colab-wheels/public/simple/\n",
            "Requirement already satisfied: youtube-dl==2020.12.2 in /usr/local/lib/python3.8/dist-packages (2020.12.2)\n"
          ]
        }
      ]
    },
    {
      "cell_type": "code",
      "source": [
        "!pip install pytube"
      ],
      "metadata": {
        "colab": {
          "base_uri": "https://localhost:8080/"
        },
        "id": "hXJPu5BVFrv-",
        "outputId": "73c04b86-2ccd-4f1e-fa46-5cebdead1b1a"
      },
      "execution_count": 3,
      "outputs": [
        {
          "output_type": "stream",
          "name": "stdout",
          "text": [
            "Looking in indexes: https://pypi.org/simple, https://us-python.pkg.dev/colab-wheels/public/simple/\n",
            "Requirement already satisfied: pytube in /usr/local/lib/python3.8/dist-packages (12.1.2)\n"
          ]
        }
      ]
    },
    {
      "cell_type": "code",
      "source": [
        "import pafy\n",
        "def janina(url):\n",
        "  video = pafy.new(url) \n",
        "    \n",
        "  # getting view count of video\n",
        "  views = video.viewcount\n",
        "  length = video.length\n",
        "  likes = video.likes\n",
        "  dislikes = video.dislikes\n",
        "  duration = video.duration\n",
        "  title = video.title\n",
        "  author = video.author\n",
        "    \n",
        "  # printing the value\n",
        "  dic={\n",
        "  \"author\" : str(author),\n",
        "  \"title\" : str(title),\n",
        "  \"View Count\": int(views),\n",
        "  \"length\" : (length),\n",
        "  \"likes\" : str(likes),\n",
        "  \"dislikes\" : str(dislikes),\n",
        "  \"duration\" : str(duration)\n",
        "  }\n",
        "\n",
        "  return dic"
      ],
      "metadata": {
        "id": "O9CXZWbhHV7Z"
      },
      "execution_count": 9,
      "outputs": []
    },
    {
      "cell_type": "code",
      "source": [
        "from pytube import Playlist\n",
        "\n",
        "p = Playlist(\"https://www.youtube.com/playlist?list=PLLssT5z_DsK-h9vYZkQkYNWcItqhlRJLN\")"
      ],
      "metadata": {
        "id": "xAmKpa-dCwBj"
      },
      "execution_count": 13,
      "outputs": []
    },
    {
      "cell_type": "code",
      "source": [
        "for i in p:\n",
        "  print(janina(i))"
      ],
      "metadata": {
        "colab": {
          "base_uri": "https://localhost:8080/"
        },
        "id": "OQho-s5bFkz2",
        "outputId": "15ebbb8e-6d0e-4797-e7d3-baf4ed336fe5"
      },
      "execution_count": 14,
      "outputs": [
        {
          "output_type": "stream",
          "name": "stdout",
          "text": [
            "{'author': 'Artificial Intelligence - All in One', 'title': 'Lecture 1.1 — What Is Machine Learning — [ Machine Learning | Andrew Ng ]', 'View Count': 1725751, 'length': 434, 'likes': '12524', 'dislikes': 'None', 'duration': '00:07:14'}\n",
            "{'author': 'Artificial Intelligence - All in One', 'title': 'Lecture 1.2 — Supervised Learning — [ Machine Learning | Andrew Ng ]', 'View Count': 514121, 'length': 749, 'likes': '3548', 'dislikes': 'None', 'duration': '00:12:29'}\n",
            "{'author': 'Artificial Intelligence - All in One', 'title': 'Lecture 1.3 — Unsupervised Learning — [ Machine Learning | Andrew Ng]', 'View Count': 367675, 'length': 852, 'likes': '2713', 'dislikes': 'None', 'duration': '00:14:12'}\n",
            "{'author': 'Artificial Intelligence - All in One', 'title': 'Lecture 2.1 — Linear Regression With One Variable | Model Representation — Andrew Ng', 'View Count': 462686, 'length': 490, 'likes': '2351', 'dislikes': 'None', 'duration': '00:08:10'}\n",
            "{'author': 'Artificial Intelligence - All in One', 'title': 'Lecture 2.2 — Linear Regression With One Variable | CostFunction — Andrew Ng', 'View Count': 345946, 'length': 492, 'likes': '1925', 'dislikes': 'None', 'duration': '00:08:12'}\n",
            "{'author': 'Artificial Intelligence - All in One', 'title': 'Lecture 2.3 — Linear Regression With One Variable | Cost Function Intuition #1 | Andrew Ng', 'View Count': 283452, 'length': 669, 'likes': '1738', 'dislikes': 'None', 'duration': '00:11:09'}\n",
            "{'author': 'Artificial Intelligence - All in One', 'title': 'Lecture 2.4 — Linear Regression With One Variable | Cost Function Intuition #2 | Andrew Ng', 'View Count': 233601, 'length': 528, 'likes': '1434', 'dislikes': 'None', 'duration': '00:08:48'}\n",
            "{'author': 'Artificial Intelligence - All in One', 'title': 'Lecture 2.5 — Linear Regression With One Variable | Gradient Descent — [ Andrew Ng]', 'View Count': 278059, 'length': 690, 'likes': '1859', 'dislikes': 'None', 'duration': '00:11:30'}\n",
            "{'author': 'Artificial Intelligence - All in One', 'title': 'Lecture 2.6 — Linear Regression With One Variable | Gradient Descent Intuition — [ Andrew Ng]', 'View Count': 214061, 'length': 711, 'likes': '1557', 'dislikes': 'None', 'duration': '00:11:51'}\n",
            "{'author': 'Artificial Intelligence - All in One', 'title': 'Lecture 2.7 — Linear Regression With One Variable | Gradient Descent For Linear Regression', 'View Count': 182986, 'length': 621, 'likes': '1543', 'dislikes': 'None', 'duration': '00:10:21'}\n",
            "{'author': 'Artificial Intelligence - All in One', 'title': \"Lecture 2.8 — What's Next — [ Machine Learning | Andrew Ng | Stanford University]\", 'View Count': 141104, 'length': 350, 'likes': '1064', 'dislikes': 'None', 'duration': '00:05:50'}\n",
            "{'author': 'Artificial Intelligence - All in One', 'title': 'Lecture 3.1 — Linear Algebra Review | Matrices And Vectors — [ Machine Learning | Andrew Ng]', 'View Count': 142140, 'length': 525, 'likes': '765', 'dislikes': 'None', 'duration': '00:08:45'}\n",
            "{'author': 'Artificial Intelligence - All in One', 'title': 'Lecture 3.2 — Linear Algebra Review | Addition And Scalar Multiplication — [Andrew Ng]', 'View Count': 91423, 'length': 414, 'likes': '451', 'dislikes': 'None', 'duration': '00:06:54'}\n",
            "{'author': 'Artificial Intelligence - All in One', 'title': 'Lecture 3.3 — Linear Algebra Review | Matrix Vector Multiplication — [ Machine Learning | Andrew Ng]', 'View Count': 94647, 'length': 819, 'likes': '555', 'dislikes': 'None', 'duration': '00:13:39'}\n",
            "{'author': 'Artificial Intelligence - All in One', 'title': 'Lecture 3.4 — Linear Algebra Review |  Matrix-Matrix Multiplication — [ Andrew Ng ]', 'View Count': 85198, 'length': 669, 'likes': '570', 'dislikes': 'None', 'duration': '00:11:09'}\n",
            "{'author': 'Artificial Intelligence - All in One', 'title': 'Lecture 3.5 — Linear Algebra Review | Matrix Multiplication Properties — [ Andrew Ng ]', 'View Count': 81721, 'length': 543, 'likes': '473', 'dislikes': 'None', 'duration': '00:09:03'}\n",
            "{'author': 'Artificial Intelligence - All in One', 'title': 'Lecture 3.6 — Linear Algebra Review |  Inverse And Transpose — [ Machine Learning | Andrew Ng]', 'View Count': 90162, 'length': 673, 'likes': '650', 'dislikes': 'None', 'duration': '00:11:13'}\n",
            "{'author': 'Artificial Intelligence - All in One', 'title': 'Lecture 4.1 — Linear Regression With Multiple Variables - (Multiple Features) — [ Andrew Ng]', 'View Count': 215448, 'length': 502, 'likes': '1273', 'dislikes': 'None', 'duration': '00:08:22'}\n",
            "{'author': 'Artificial Intelligence - All in One', 'title': 'Lecture 4.2 — Linear Regression With Multiple Variables -- (Gradient Descent For Multiple Variables)', 'View Count': 172446, 'length': 305, 'likes': '889', 'dislikes': 'None', 'duration': '00:05:05'}\n",
            "{'author': 'Artificial Intelligence - All in One', 'title': 'Lecture 4.3 — Linear Regression With Multiple Variables | Gradient In PracticeaI Feature Scaling', 'View Count': 151848, 'length': 532, 'likes': '957', 'dislikes': 'None', 'duration': '00:08:52'}\n",
            "{'author': 'Artificial Intelligence - All in One', 'title': 'Lecture 4.4 — Linear Regression With Multiple Variables | Gradient In PracticeaI | Learning Rate', 'View Count': 133856, 'length': 538, 'likes': '836', 'dislikes': 'None', 'duration': '00:08:58'}\n",
            "{'author': 'Artificial Intelligence - All in One', 'title': 'Lecture 4.5 — Linear Regression With Multiple Variables | Features And Polynomial Regression', 'View Count': 137361, 'length': 459, 'likes': '973', 'dislikes': 'None', 'duration': '00:07:39'}\n",
            "{'author': 'Artificial Intelligence - All in One', 'title': 'Lecture 4.7 — Linear Regression With Multiple Variables | Normal Equation Non Invertibility', 'View Count': 124881, 'length': 359, 'likes': '670', 'dislikes': 'None', 'duration': '00:05:59'}\n",
            "{'author': 'Artificial Intelligence - All in One', 'title': 'Lecture 4.6 — Linear Regression With Multiple Variables | Normal Equation — [ Andrew Ng]', 'View Count': 155316, 'length': 978, 'likes': '1132', 'dislikes': 'None', 'duration': '00:16:18'}\n",
            "{'author': 'Artificial Intelligence - All in One', 'title': 'Lecture 5.1 —  Octave Tutorial || Basic Operations — [ Machine Learning | Andrew Ng]', 'View Count': 104211, 'length': 839, 'likes': '591', 'dislikes': 'None', 'duration': '00:13:59'}\n",
            "{'author': 'Artificial Intelligence - All in One', 'title': 'Lecture 5.2 —  Octave Tutorial || Moving Data Around — [ Machine Learning | Andrew Ng]', 'View Count': 61440, 'length': 967, 'likes': '374', 'dislikes': 'None', 'duration': '00:16:07'}\n",
            "{'author': 'Artificial Intelligence - All in One', 'title': 'Lecture 5.4 —  Octave Tutorial ||  Plotting Data — [ Machine Learning | Andrew Ng]', 'View Count': 50481, 'length': 578, 'likes': '273', 'dislikes': 'None', 'duration': '00:09:38'}\n",
            "{'author': 'Artificial Intelligence - All in One', 'title': 'Lecture 5.5 —  Octave Tutorial || While If Statements And Functions — [ Andrew Ng ]', 'View Count': 41988, 'length': 776, 'likes': '250', 'dislikes': 'None', 'duration': '00:12:56'}\n",
            "{'author': 'Artificial Intelligence - All in One', 'title': 'Lecture 5.6 —  Octave Tutorial ||  Vectorization — [ Machine Learning | Andrew Ng]', 'View Count': 43547, 'length': 828, 'likes': '287', 'dislikes': 'None', 'duration': '00:13:48'}\n",
            "{'author': 'Artificial Intelligence - All in One', 'title': 'Lecture 5.7 —  Octave Tutorial || Programming Exercises — [ Machine Learning | Andrew Ng]', 'View Count': 39927, 'length': 213, 'likes': '177', 'dislikes': 'None', 'duration': '00:03:33'}\n",
            "{'author': 'Artificial Intelligence - All in One', 'title': 'Lecture 5.3 —  Octave Tutorial || Computing On Data — [ Machine Learning | Andrew Ng]', 'View Count': 44766, 'length': 795, 'likes': '249', 'dislikes': 'None', 'duration': '00:13:15'}\n",
            "{'author': 'Artificial Intelligence - All in One', 'title': 'Lecture 6.1 — Logistic Regression | Classification — — [ Machine Learning | Andrew Ng]', 'View Count': 316674, 'length': 489, 'likes': '1916', 'dislikes': 'None', 'duration': '00:08:09'}\n",
            "{'author': 'Artificial Intelligence - All in One', 'title': 'Lecture 6.2 — Logistic Regression | Hypothesis Representation — [ Machine Learning | Andrew Ng]', 'View Count': 221236, 'length': 445, 'likes': '1315', 'dislikes': 'None', 'duration': '00:07:25'}\n",
            "{'author': 'Artificial Intelligence - All in One', 'title': 'Lecture 6.3 — Logistic Regression | Decision Boundary — [ Machine Learning | Andrew Ng]', 'View Count': 203762, 'length': 890, 'likes': '1644', 'dislikes': 'None', 'duration': '00:14:50'}\n",
            "{'author': 'Artificial Intelligence - All in One', 'title': 'Lecture 6.4 — Logistic Regression | Cost Function — [ Machine Learning | Andrew Ng]', 'View Count': 212541, 'length': 686, 'likes': '1459', 'dislikes': 'None', 'duration': '00:11:26'}\n",
            "{'author': 'Artificial Intelligence - All in One', 'title': 'Lecture 6.5 — Logistic Regression | Simplified Cost Function And Gradient Descent — [ Andrew Ng]', 'View Count': 152842, 'length': 615, 'likes': '1089', 'dislikes': 'None', 'duration': '00:10:15'}\n",
            "{'author': 'Artificial Intelligence - All in One', 'title': 'Lecture 6.6 — Logistic Regression | Advanced Optimization — [ Machine Learning | Andrew Ng]', 'View Count': 127274, 'length': 847, 'likes': '812', 'dislikes': 'None', 'duration': '00:14:07'}\n",
            "{'author': 'Artificial Intelligence - All in One', 'title': 'Lecture 6.7 — Logistic Regression | MultiClass Classification OneVsAll — [Andrew Ng]', 'View Count': 128794, 'length': 375, 'likes': '986', 'dislikes': 'None', 'duration': '00:06:15'}\n",
            "{'author': 'Artificial Intelligence - All in One', 'title': 'Lecture 7.1 — Regularization | The Problem Of Overfitting — [ Machine Learning | Andrew Ng]', 'View Count': 216883, 'length': 583, 'likes': '1736', 'dislikes': 'None', 'duration': '00:09:43'}\n",
            "{'author': 'Artificial Intelligence - All in One', 'title': 'Lecture 7.2 — Regularization | Cost Function — [ Machine Learning | Andrew Ng | Stanford University]', 'View Count': 143229, 'length': 611, 'likes': '1231', 'dislikes': 'None', 'duration': '00:10:11'}\n",
            "{'author': 'Artificial Intelligence - All in One', 'title': 'Lecture 7.3 — Regularization | Regularized Linear Regression — [ Machine Learning | Andrew Ng]', 'View Count': 126241, 'length': 640, 'likes': '734', 'dislikes': 'None', 'duration': '00:10:40'}\n",
            "{'author': 'Artificial Intelligence - All in One', 'title': 'Lecture 7.4 — Regularization | Regularized Logistic Regression — [ Machine Learning | Andrew Ng]', 'View Count': 96080, 'length': 514, 'likes': '815', 'dislikes': 'None', 'duration': '00:08:34'}\n",
            "{'author': 'Artificial Intelligence - All in One', 'title': 'Lecture 8.1 — Neural Networks Representation | Non Linear Hypotheses — [Andrew Ng]', 'View Count': 159774, 'length': 576, 'likes': '934', 'dislikes': 'None', 'duration': '00:09:36'}\n",
            "{'author': 'Artificial Intelligence - All in One', 'title': 'Lecture 8.2 — Neural Networks Representation | Neurons And The Brain — [Andrew Ng]', 'View Count': 104160, 'length': 467, 'likes': '633', 'dislikes': 'None', 'duration': '00:07:47'}\n",
            "{'author': 'Artificial Intelligence - All in One', 'title': 'Lecture 8.3 — Neural Networks Representation | Model Representation-I — [ Andrew Ng ]', 'View Count': 123550, 'length': 721, 'likes': '646', 'dislikes': 'None', 'duration': '00:12:01'}\n",
            "{'author': 'Artificial Intelligence - All in One', 'title': 'Lecture 8.4 — Neural Networks Representation | Model Representation-II — [Andrew Ng]', 'View Count': 106595, 'length': 706, 'likes': '628', 'dislikes': 'None', 'duration': '00:11:46'}\n",
            "{'author': 'Artificial Intelligence - All in One', 'title': 'Lecture 8.5 — Neural Networks Representation | Examples And Intuitions-I — [ Andrew Ng]', 'View Count': 89823, 'length': 436, 'likes': '420', 'dislikes': 'None', 'duration': '00:07:16'}\n",
            "{'author': 'Artificial Intelligence - All in One', 'title': 'Lecture 8.6 — Neural Networks Representation | Examples And Intuitions-II — [ Andrew Ng]', 'View Count': 81827, 'length': 620, 'likes': '600', 'dislikes': 'None', 'duration': '00:10:20'}\n",
            "{'author': 'Artificial Intelligence - All in One', 'title': 'Lecture 8.7 — Neural Networks Representation | MultiClass Classification — [Andrew Ng]', 'View Count': 73366, 'length': 231, 'likes': '395', 'dislikes': 'None', 'duration': '00:03:51'}\n",
            "{'author': 'Artificial Intelligence - All in One', 'title': 'Lecture 9.1 — Neural Networks Learning | Cost Function — [ Machine Learning | Andrew Ng]', 'View Count': 122318, 'length': 403, 'likes': '502', 'dislikes': 'None', 'duration': '00:06:43'}\n",
            "{'author': 'Artificial Intelligence - All in One', 'title': 'Lecture 9.2 — Neural Networks Learning | Backpropagation Algorithm — [ Machine Learning | Andrew Ng]', 'View Count': 143037, 'length': 719, 'likes': '662', 'dislikes': 'None', 'duration': '00:11:59'}\n",
            "{'author': 'Artificial Intelligence - All in One', 'title': 'Lecture 9.3 — Neural Networks Learning | Backpropagation Intuition — [ Machine Learning | Andrew Ng]', 'View Count': 87783, 'length': 764, 'likes': '488', 'dislikes': 'None', 'duration': '00:12:44'}\n",
            "{'author': 'Artificial Intelligence - All in One', 'title': 'Lecture 9.4 — Neural Networks Learning | Implementation Note Unrolling Parameters — [ Andrew Ng]', 'View Count': 59124, 'length': 468, 'likes': '205', 'dislikes': 'None', 'duration': '00:07:48'}\n",
            "{'author': 'Artificial Intelligence - All in One', 'title': 'Lecture 9.5 — Neural Networks Learning | Gradient Checking — [ Machine Learning | Andrew Ng]', 'View Count': 58978, 'length': 698, 'likes': '347', 'dislikes': 'None', 'duration': '00:11:38'}\n",
            "{'author': 'Artificial Intelligence - All in One', 'title': 'Lecture 9.6 — Neural Networks Learning | Random Initialization — [ Machine Learning | Andrew Ng]', 'View Count': 44255, 'length': 412, 'likes': '210', 'dislikes': 'None', 'duration': '00:06:52'}\n",
            "{'author': 'Artificial Intelligence - All in One', 'title': 'Lecture 9.7 — Neural Networks Learning | Putting It Together — [ Machine Learning | Andrew Ng]', 'View Count': 48792, 'length': 804, 'likes': '351', 'dislikes': 'None', 'duration': '00:13:24'}\n",
            "{'author': 'Artificial Intelligence - All in One', 'title': 'Lecture 9.8 — Neural Networks Learning | Autonomous Driving Example — [Andrew Ng]', 'View Count': 41491, 'length': 390, 'likes': '302', 'dislikes': 'None', 'duration': '00:06:30'}\n",
            "{'author': 'Artificial Intelligence - All in One', 'title': 'Lecture 10.1 — Advice For Applying Machine Learning | Deciding What To Try Next — [ Andrew Ng]', 'View Count': 61408, 'length': 351, 'likes': '346', 'dislikes': 'None', 'duration': '00:05:51'}\n",
            "{'author': 'Artificial Intelligence - All in One', 'title': 'Lecture 10.2 — Advice For Applying Machine Learning | Evaluating A Hypothesis — [ Andrew Ng]', 'View Count': 64038, 'length': 477, 'likes': '238', 'dislikes': 'None', 'duration': '00:07:57'}\n",
            "{'author': 'Artificial Intelligence - All in One', 'title': 'Lecture 10.3 — Advice For Applying Machine Learning | Model Selection And Train Validation Test Sets', 'View Count': 68094, 'length': 759, 'likes': '339', 'dislikes': 'None', 'duration': '00:12:39'}\n",
            "{'author': 'Artificial Intelligence - All in One', 'title': 'Lecture 10.4 — Advice For Applying Machine Learning | Diagnosing Bias Vs Variance — [Andrew Ng]', 'View Count': 67625, 'length': 516, 'likes': '402', 'dislikes': 'None', 'duration': '00:08:36'}\n",
            "{'author': 'Artificial Intelligence - All in One', 'title': 'Lecture 10.5 — Advice For Applying Machine Learning | Regularization And Bias Variance — [Andrew Ng]', 'View Count': 46963, 'length': 710, 'likes': '269', 'dislikes': 'None', 'duration': '00:11:50'}\n",
            "{'author': 'Artificial Intelligence - All in One', 'title': 'Lecture 10.6 — Advice For Applying Machine Learning | Learning Curves — [Andrew Ng]', 'View Count': 59082, 'length': 714, 'likes': '370', 'dislikes': 'None', 'duration': '00:11:54'}\n",
            "{'author': 'Artificial Intelligence - All in One', 'title': 'Lecture 10.7 — Advice For Applying Machine Learning | Deciding What To Do Next (Revisited)', 'View Count': 37575, 'length': 410, 'likes': '295', 'dislikes': 'None', 'duration': '00:06:50'}\n",
            "{'author': 'Artificial Intelligence - All in One', 'title': 'Lecture 11.1 — Machine Learning System Design | Prioritizing What To Work On — [ Andrew Ng]', 'View Count': 57442, 'length': 570, 'likes': '391', 'dislikes': 'None', 'duration': '00:09:30'}\n",
            "{'author': 'Artificial Intelligence - All in One', 'title': 'Lecture 11.2 — Machine Learning System Design | Error Analysis — [ Machine Learning | Andrew Ng ]', 'View Count': 45324, 'length': 792, 'likes': '325', 'dislikes': 'None', 'duration': '00:13:12'}\n",
            "{'author': 'Artificial Intelligence - All in One', 'title': 'Lecture 11.3 — Machine Learning System Design | Error Metrics For Skewed Classes — [Andrew Ng]', 'View Count': 49562, 'length': 696, 'likes': '350', 'dislikes': 'None', 'duration': '00:11:36'}\n",
            "{'author': 'Artificial Intelligence - All in One', 'title': 'Lecture 11.4 — Machine Learning System Design | Trading Off Precision And Recall — [Andrew Ng]', 'View Count': 63428, 'length': 846, 'likes': '608', 'dislikes': 'None', 'duration': '00:14:06'}\n",
            "{'author': 'Artificial Intelligence - All in One', 'title': 'Lecture 11.5 — Machine Learning System Design | Data For Machine Learning — [Andrew Ng]', 'View Count': 34890, 'length': 670, 'likes': '228', 'dislikes': 'None', 'duration': '00:11:10'}\n",
            "{'author': 'Artificial Intelligence - All in One', 'title': 'Lecture 12.1 —  Support Vector Machines | Optimization Objective — [ Machine Learning | Andrew Ng]', 'View Count': 194261, 'length': 887, 'likes': '1016', 'dislikes': 'None', 'duration': '00:14:47'}\n",
            "{'author': 'Artificial Intelligence - All in One', 'title': 'Lecture 12.2 — Support Vector Machines | Large Margin Intuition — [Machine Learning | Andrew Ng]', 'View Count': 96961, 'length': 636, 'likes': '479', 'dislikes': 'None', 'duration': '00:10:36'}\n",
            "{'author': 'Artificial Intelligence - All in One', 'title': 'Lecture 12.3 — Support Vector Machines | Mathematics Behind Large Margin Classification (Optional)', 'View Count': 97360, 'length': 1182, 'likes': '687', 'dislikes': 'None', 'duration': '00:19:42'}\n",
            "{'author': 'Artificial Intelligence - All in One', 'title': 'Lecture 12.4 — Support Vector Machines | (Kernels-I) — [ Machine Learning | Andrew Ng]', 'View Count': 145470, 'length': 945, 'likes': '1115', 'dislikes': 'None', 'duration': '00:15:45'}\n",
            "{'author': 'Artificial Intelligence - All in One', 'title': 'Lecture 12.5 — Support Vector Machines | (Kernels-II) — [Machine Learning | Andrew Ng]', 'View Count': 82487, 'length': 943, 'likes': '524', 'dislikes': 'None', 'duration': '00:15:43'}\n",
            "{'author': 'Artificial Intelligence - All in One', 'title': 'Lecture 12.6 — Support Vector Machines | Using An SVM — [ Machine Learning | Andrew Ng]', 'View Count': 67067, 'length': 1263, 'likes': '471', 'dislikes': 'None', 'duration': '00:21:03'}\n",
            "{'author': 'Artificial Intelligence - All in One', 'title': 'Lecture 13.1 —  Clustering | Unsupervised Learning | Introduction — [ Andrew Ng ]', 'View Count': 61224, 'length': 197, 'likes': '346', 'dislikes': 'None', 'duration': '00:03:17'}\n",
            "{'author': 'Artificial Intelligence - All in One', 'title': 'Lecture 13.2 —  Clustering | KMeans Algorithm — [ Machine Learning | Andrew Ng ]', 'View Count': 121022, 'length': 753, 'likes': '1171', 'dislikes': 'None', 'duration': '00:12:33'}\n",
            "{'author': 'Artificial Intelligence - All in One', 'title': 'Lecture 13.3 —  Clustering | Optimization Objective — [ Machine Learning | Andrew Ng ]', 'View Count': 55153, 'length': 425, 'likes': '323', 'dislikes': 'None', 'duration': '00:07:05'}\n",
            "{'author': 'Artificial Intelligence - All in One', 'title': 'Lecture 13.4 —  Clustering | Random Initialization — [ Machine Learning | Andrew Ng ]', 'View Count': 44510, 'length': 469, 'likes': '320', 'dislikes': 'None', 'duration': '00:07:49'}\n",
            "{'author': 'Artificial Intelligence - All in One', 'title': 'Lecture 13.5 —  Clustering | Choosing The Number Of Clusters — [ Machine Learning | Andrew Ng ]', 'View Count': 52855, 'length': 502, 'likes': '445', 'dislikes': 'None', 'duration': '00:08:22'}\n",
            "{'author': 'Artificial Intelligence - All in One', 'title': 'Lecture 14.1 — Dimensionality Reduction Motivation I | Data Compression — [ Andrew Ng ]', 'View Count': 69345, 'length': 610, 'likes': '511', 'dislikes': 'None', 'duration': '00:10:10'}\n",
            "{'author': 'Artificial Intelligence - All in One', 'title': 'Lecture 14.2 —Dimensionality Reduction Motivation II  | Visualization — [ Andrew Ng ]', 'View Count': 44107, 'length': 328, 'likes': '293', 'dislikes': 'None', 'duration': '00:05:28'}\n",
            "{'author': 'Artificial Intelligence - All in One', 'title': 'Lecture 14.3 — Dimensionality Reduction | Principal Component Analysis | Problem Formulation', 'View Count': 60115, 'length': 546, 'likes': '430', 'dislikes': 'None', 'duration': '00:09:06'}\n",
            "{'author': 'Artificial Intelligence - All in One', 'title': 'Lecture 14.4 —  Dimensionality Reduction | Principal Component Analysis Algorithm — [ Andrew Ng ]', 'View Count': 145928, 'length': 914, 'likes': '1056', 'dislikes': 'None', 'duration': '00:15:14'}\n",
            "{'author': 'Artificial Intelligence - All in One', 'title': 'Lecture 14.5 — Dimensionality Reduction | Choosing The Number Of Principal Components', 'View Count': 41935, 'length': 630, 'likes': '296', 'dislikes': 'None', 'duration': '00:10:30'}\n",
            "{'author': 'Artificial Intelligence - All in One', 'title': 'Lecture 14.6 — Dimensionality Reduction | Reconstruction From Compressed Representation', 'View Count': 30705, 'length': 234, 'likes': '206', 'dislikes': 'None', 'duration': '00:03:54'}\n",
            "{'author': 'Artificial Intelligence - All in One', 'title': 'Lecture 14.7 — Dimensionality Reduction | Advice For Applying PCA — [ Machine Learning | Andrew Ng ]', 'View Count': 35194, 'length': 769, 'likes': '296', 'dislikes': 'None', 'duration': '00:12:49'}\n",
            "{'author': 'Artificial Intelligence - All in One', 'title': 'Lecture 15.1 — Anomaly Detection Problem | Motivation  — [ Machine Learning | Andrew Ng ]', 'View Count': 94718, 'length': 458, 'likes': '657', 'dislikes': 'None', 'duration': '00:07:38'}\n",
            "{'author': 'Artificial Intelligence - All in One', 'title': 'Lecture 15.2 — Anomaly Detection | Gaussian Distribution — [ Machine Learning | Andrew Ng ]', 'View Count': 54975, 'length': 628, 'likes': '376', 'dislikes': 'None', 'duration': '00:10:28'}\n",
            "{'author': 'Artificial Intelligence - All in One', 'title': 'Lecture 15.3 — Anomaly Detection Algorithm — [ Machine Learning | Andrew Ng | Stanford University ]', 'View Count': 49635, 'length': 723, 'likes': '369', 'dislikes': 'None', 'duration': '00:12:03'}\n",
            "{'author': 'Artificial Intelligence - All in One', 'title': 'Lecture 15.4 — Anomaly Detection | Developing And Evaluating An Anomaly Detection System', 'View Count': 39231, 'length': 788, 'likes': '284', 'dislikes': 'None', 'duration': '00:13:08'}\n",
            "{'author': 'Artificial Intelligence - All in One', 'title': 'Lecture 15.5 — Anomaly Detection | Anomaly Detection Vs Supervised Learning — [ Andrew Ng ]', 'View Count': 32060, 'length': 456, 'likes': '283', 'dislikes': 'None', 'duration': '00:07:36'}\n",
            "{'author': 'Artificial Intelligence - All in One', 'title': 'Lecture 15.6 — Anomaly Detection | Choosing What Features To Use — [ Andrew Ng ]', 'View Count': 34075, 'length': 737, 'likes': '289', 'dislikes': 'None', 'duration': '00:12:17'}\n",
            "{'author': 'Artificial Intelligence - All in One', 'title': 'Lecture 15.7 — Anomaly Detection | Multivariate Gaussian Distribution — [ Andrew Ng ]', 'View Count': 58655, 'length': 824, 'likes': '698', 'dislikes': 'None', 'duration': '00:13:44'}\n",
            "{'author': 'Artificial Intelligence - All in One', 'title': 'Lecture 15.8 — Anomaly Detection | Anomaly Detection Using The Multivariate Gaussian Distribution', 'View Count': 34715, 'length': 843, 'likes': '370', 'dislikes': 'None', 'duration': '00:14:03'}\n",
            "{'author': 'Artificial Intelligence - All in One', 'title': 'Lecture 16.1 —  Recommender Systems | Problem Formulation — [ Machine Learning | Andrew Ng ]', 'View Count': 112638, 'length': 475, 'likes': '853', 'dislikes': 'None', 'duration': '00:07:55'}\n",
            "{'author': 'Artificial Intelligence - All in One', 'title': 'Lecture 16.2 —  Recommender Systems | Content Based Recommendations — [ Andrew Ng ]', 'View Count': 94807, 'length': 872, 'likes': '779', 'dislikes': 'None', 'duration': '00:14:32'}\n",
            "{'author': 'Artificial Intelligence - All in One', 'title': 'Lecture 16.3 —  Recommender Systems | Collaborative Filtering — [ Machine Learning | Andrew Ng ]', 'View Count': 85509, 'length': 615, 'likes': '620', 'dislikes': 'None', 'duration': '00:10:15'}\n",
            "{'author': 'Artificial Intelligence - All in One', 'title': 'Lecture 16.4 —  Recommender Systems | Collaborative Filtering Algorithm — [ Andrew Ng ]', 'View Count': 48047, 'length': 507, 'likes': '329', 'dislikes': 'None', 'duration': '00:08:27'}\n",
            "{'author': 'Artificial Intelligence - All in One', 'title': 'Lecture 16.5 —  Recommender Systems | Vectorization Low Rank Matrix Factorization — [ Andrew Ng ]', 'View Count': 66203, 'length': 499, 'likes': '468', 'dislikes': 'None', 'duration': '00:08:19'}\n",
            "{'author': 'Artificial Intelligence - All in One', 'title': 'Lecture 16.6 —  Recommender Systems | Implementational Detail Mean Normalization — [ Andrew Ng ]', 'View Count': 34923, 'length': 511, 'likes': '227', 'dislikes': 'None', 'duration': '00:08:31'}\n",
            "{'author': 'Artificial Intelligence - All in One', 'title': 'Lecture 17.1 — Large Scale Machine Learning | Learning With Large Datasets — [ Andrew Ng ]', 'View Count': 27653, 'length': 345, 'likes': '147', 'dislikes': 'None', 'duration': '00:05:45'}\n",
            "{'author': 'Artificial Intelligence - All in One', 'title': 'Lecture 17.2 — Large Scale Machine Learning | Stochastic Gradient Descent — [ Andrew Ng ]', 'View Count': 70393, 'length': 799, 'likes': '614', 'dislikes': 'None', 'duration': '00:13:19'}\n",
            "{'author': 'Artificial Intelligence - All in One', 'title': 'Lecture 17.3 — Large Scale Machine Learning | Mini Batch Gradient Descent — [ Andrew Ng ]', 'View Count': 24432, 'length': 378, 'likes': '159', 'dislikes': 'None', 'duration': '00:06:18'}\n",
            "{'author': 'Artificial Intelligence - All in One', 'title': 'Lecture 17.4 — Large Scale Machine Learning | Stochastic Gradient Descent Convergence', 'View Count': 19468, 'length': 692, 'likes': '142', 'dislikes': 'None', 'duration': '00:11:32'}\n",
            "{'author': 'Artificial Intelligence - All in One', 'title': 'Lecture 17.5 — Large Scale Machine Learning | Online Learning — [ Machine Learning | Andrew Ng ]', 'View Count': 30983, 'length': 771, 'likes': '281', 'dislikes': 'None', 'duration': '00:12:51'}\n",
            "{'author': 'Artificial Intelligence - All in One', 'title': 'Lecture 17.6 — Large Scale Machine Learning | Map Reduce And Data Parallelism — [ Andrew Ng ]', 'View Count': 22834, 'length': 849, 'likes': '184', 'dislikes': 'None', 'duration': '00:14:09'}\n",
            "{'author': 'Artificial Intelligence - All in One', 'title': 'Lecture 18.1 — Application Example Photo OCR | Problem Description And Pipeline — [ Andrew Ng ]', 'View Count': 25119, 'length': 422, 'likes': '138', 'dislikes': 'None', 'duration': '00:07:02'}\n",
            "{'author': 'Artificial Intelligence - All in One', 'title': 'Lecture 18.2 — Application Example Photo OCR | Sliding Windows — [ Machine Learning | Andrew Ng ]', 'View Count': 29028, 'length': 469, 'likes': '127', 'dislikes': 'None', 'duration': '00:07:49'}\n",
            "{'author': 'Artificial Intelligence - All in One', 'title': 'Lecture 18.3 — Application Example Photo OCR | Getting Lots Of Data Artificial Data Synthesis', 'View Count': 26226, 'length': 403, 'likes': '100', 'dislikes': 'None', 'duration': '00:06:43'}\n",
            "{'author': 'Artificial Intelligence - All in One', 'title': 'Lecture 18.4 — Application Example Photo OCR | Ceiling Analysis | What Part to Work On Next', 'View Count': 30221, 'length': 518, 'likes': '127', 'dislikes': 'None', 'duration': '00:08:38'}\n",
            "{'author': 'Artificial Intelligence - All in One', 'title': 'Lecture 19 — Conclusion Summary And ThankYou — [ Andrew Ng | Stanford University ]', 'View Count': 36274, 'length': 282, 'likes': '735', 'dislikes': 'None', 'duration': '00:04:42'}\n"
          ]
        }
      ]
    }
  ]
}