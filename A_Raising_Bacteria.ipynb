{
  "nbformat": 4,
  "nbformat_minor": 0,
  "metadata": {
    "colab": {
      "name": "A. Raising Bacteria.ipynb",
      "provenance": [],
      "authorship_tag": "ABX9TyMOpZv5GAJLs4WNzCfcHX9b",
      "include_colab_link": true
    },
    "kernelspec": {
      "name": "python3",
      "display_name": "Python 3"
    },
    "language_info": {
      "name": "python"
    }
  },
  "cells": [
    {
      "cell_type": "markdown",
      "metadata": {
        "id": "view-in-github",
        "colab_type": "text"
      },
      "source": [
        "<a href=\"https://colab.research.google.com/github/RafsanJany-44/practice_cell/blob/master/A_Raising_Bacteria.ipynb\" target=\"_parent\"><img src=\"https://colab.research.google.com/assets/colab-badge.svg\" alt=\"Open In Colab\"/></a>"
      ]
    },
    {
      "cell_type": "code",
      "metadata": {
        "id": "F6S_6C8cCirD",
        "colab": {
          "base_uri": "https://localhost:8080/"
        },
        "outputId": "2702678a-6268-4025-9984-b1f8cb625af8"
      },
      "source": [
        "if(int(input())%2==0):\n",
        "  print(1)\n",
        "else:\n",
        "  print(2)\n"
      ],
      "execution_count": 19,
      "outputs": [
        {
          "output_type": "stream",
          "name": "stdout",
          "text": [
            "6\n",
            "1\n"
          ]
        }
      ]
    },
    {
      "cell_type": "code",
      "metadata": {
        "colab": {
          "base_uri": "https://localhost:8080/"
        },
        "id": "bz_kzAx0MvS6",
        "outputId": "52043e8c-d3b0-4904-8736-d23c5fc43f5c"
      },
      "source": [
        "print(536870911/29)\n",
        "print(29*2)"
      ],
      "execution_count": 25,
      "outputs": [
        {
          "output_type": "stream",
          "name": "stdout",
          "text": [
            "18512790.03448276\n",
            "58\n"
          ]
        }
      ]
    },
    {
      "cell_type": "code",
      "metadata": {
        "colab": {
          "base_uri": "https://localhost:8080/"
        },
        "id": "I62_f_9yl-8M",
        "outputId": "b8a07553-338e-4a4e-efed-8d798a502933"
      },
      "source": [
        "print(536870910/29)\n",
        "print(29*2)"
      ],
      "execution_count": 24,
      "outputs": [
        {
          "output_type": "stream",
          "name": "stdout",
          "text": [
            "18512790.0\n",
            "58\n"
          ]
        }
      ]
    },
    {
      "cell_type": "code",
      "metadata": {
        "id": "x70SvboupNE6"
      },
      "source": [
        "while True:\n",
        "  if(536870911%1"
      ],
      "execution_count": null,
      "outputs": []
    }
  ]
}