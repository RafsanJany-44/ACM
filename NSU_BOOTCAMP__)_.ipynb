{
  "nbformat": 4,
  "nbformat_minor": 0,
  "metadata": {
    "colab": {
      "name": "NSU_BOOTCAMP_@)@@.ipynb",
      "provenance": [],
      "authorship_tag": "ABX9TyNOGDTeHk7SOf1DUTxgL0/S",
      "include_colab_link": true
    },
    "kernelspec": {
      "name": "python3",
      "display_name": "Python 3"
    },
    "language_info": {
      "name": "python"
    }
  },
  "cells": [
    {
      "cell_type": "markdown",
      "metadata": {
        "id": "view-in-github",
        "colab_type": "text"
      },
      "source": [
        "<a href=\"https://colab.research.google.com/github/RafsanJany-44/practice_cell/blob/master/NSU_BOOTCAMP__)_.ipynb\" target=\"_parent\"><img src=\"https://colab.research.google.com/assets/colab-badge.svg\" alt=\"Open In Colab\"/></a>"
      ]
    },
    {
      "cell_type": "code",
      "execution_count": null,
      "metadata": {
        "id": "4GULKjYPvq1b"
      },
      "outputs": [],
      "source": [
        "\n",
        "for i in range(int(input())):\n",
        "  t=(list(map(int,input().split())))\n",
        "  t.remove(max(t))\n",
        "  print((max(t)))\n"
      ]
    },
    {
      "cell_type": "markdown",
      "source": [
        "This winter is so cold in Nvodsk! A group of n friends decided to buy k bottles of a soft drink called \"Take-It-Light\" to warm up a bit. Each bottle has l milliliters of the drink. Also they bought c limes and cut each of them into d slices. After that they found p grams of salt.\n",
        "\n",
        "To make a toast, each friend needs nl milliliters of the drink, a slice of lime and np grams of salt. The friends want to make as many toasts as they can, provided they all drink the same amount. How many toasts can each friend make?"
      ],
      "metadata": {
        "id": "c9DO27400Pl0"
      }
    },
    {
      "cell_type": "code",
      "source": [
        "t=(list(map(int,input().split())))\n",
        "print(int(min(((t[1]*t[2])/t[-2]),t[3]*t[4],t[-3]/t[-1])/t[0]))\n",
        "\n"
      ],
      "metadata": {
        "colab": {
          "base_uri": "https://localhost:8080/"
        },
        "id": "FdvpFvY8wmuD",
        "outputId": "ed3fb73b-8bf9-4f69-bd72-1afe3c4f215e"
      },
      "execution_count": 8,
      "outputs": [
        {
          "output_type": "stream",
          "name": "stdout",
          "text": [
            "10 1000 1000 25 23 1 50 1\n",
            "0\n"
          ]
        }
      ]
    }
  ]
}