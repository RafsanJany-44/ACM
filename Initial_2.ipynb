{
  "nbformat": 4,
  "nbformat_minor": 0,
  "metadata": {
    "colab": {
      "provenance": [],
      "include_colab_link": true
    },
    "kernelspec": {
      "name": "python3",
      "display_name": "Python 3"
    },
    "language_info": {
      "name": "python"
    },
    "widgets": {
      "application/vnd.jupyter.widget-state+json": {
        "ea6dfeb860e34c26b40d24a65ea8cab5": {
          "model_module": "@jupyter-widgets/controls",
          "model_name": "HBoxModel",
          "model_module_version": "1.5.0",
          "state": {
            "_dom_classes": [],
            "_model_module": "@jupyter-widgets/controls",
            "_model_module_version": "1.5.0",
            "_model_name": "HBoxModel",
            "_view_count": null,
            "_view_module": "@jupyter-widgets/controls",
            "_view_module_version": "1.5.0",
            "_view_name": "HBoxView",
            "box_style": "",
            "children": [
              "IPY_MODEL_2ab3b125422e4daf9ce14ac0197bc0b5",
              "IPY_MODEL_904c8ea3b12f4571a3c4c58c53f664c8",
              "IPY_MODEL_c1e738691dac418bb98e5259402c9730"
            ],
            "layout": "IPY_MODEL_af6211e4857b4cfba47c436074efb75c"
          }
        },
        "2ab3b125422e4daf9ce14ac0197bc0b5": {
          "model_module": "@jupyter-widgets/controls",
          "model_name": "HTMLModel",
          "model_module_version": "1.5.0",
          "state": {
            "_dom_classes": [],
            "_model_module": "@jupyter-widgets/controls",
            "_model_module_version": "1.5.0",
            "_model_name": "HTMLModel",
            "_view_count": null,
            "_view_module": "@jupyter-widgets/controls",
            "_view_module_version": "1.5.0",
            "_view_name": "HTMLView",
            "description": "",
            "description_tooltip": null,
            "layout": "IPY_MODEL_fc50e047f13d431a9888fd0c718fc396",
            "placeholder": "​",
            "style": "IPY_MODEL_2f251e10ea434f529d1db0b02c14af88",
            "value": "100%"
          }
        },
        "904c8ea3b12f4571a3c4c58c53f664c8": {
          "model_module": "@jupyter-widgets/controls",
          "model_name": "FloatProgressModel",
          "model_module_version": "1.5.0",
          "state": {
            "_dom_classes": [],
            "_model_module": "@jupyter-widgets/controls",
            "_model_module_version": "1.5.0",
            "_model_name": "FloatProgressModel",
            "_view_count": null,
            "_view_module": "@jupyter-widgets/controls",
            "_view_module_version": "1.5.0",
            "_view_name": "ProgressView",
            "bar_style": "success",
            "description": "",
            "description_tooltip": null,
            "layout": "IPY_MODEL_776c84d57b144145bff3421462c47a12",
            "max": 350946,
            "min": 0,
            "orientation": "horizontal",
            "style": "IPY_MODEL_93cb6110d1d74fba8ac5451e1a1826f8",
            "value": 350946
          }
        },
        "c1e738691dac418bb98e5259402c9730": {
          "model_module": "@jupyter-widgets/controls",
          "model_name": "HTMLModel",
          "model_module_version": "1.5.0",
          "state": {
            "_dom_classes": [],
            "_model_module": "@jupyter-widgets/controls",
            "_model_module_version": "1.5.0",
            "_model_name": "HTMLModel",
            "_view_count": null,
            "_view_module": "@jupyter-widgets/controls",
            "_view_module_version": "1.5.0",
            "_view_name": "HTMLView",
            "description": "",
            "description_tooltip": null,
            "layout": "IPY_MODEL_c60d8fc8839b423bbe4eab1cd51e56e5",
            "placeholder": "​",
            "style": "IPY_MODEL_cc8dc7f4f9a74302a4fb5d6da8096e14",
            "value": " 350946/350946 [00:08&lt;00:00, 49808.53it/s]"
          }
        },
        "af6211e4857b4cfba47c436074efb75c": {
          "model_module": "@jupyter-widgets/base",
          "model_name": "LayoutModel",
          "model_module_version": "1.2.0",
          "state": {
            "_model_module": "@jupyter-widgets/base",
            "_model_module_version": "1.2.0",
            "_model_name": "LayoutModel",
            "_view_count": null,
            "_view_module": "@jupyter-widgets/base",
            "_view_module_version": "1.2.0",
            "_view_name": "LayoutView",
            "align_content": null,
            "align_items": null,
            "align_self": null,
            "border": null,
            "bottom": null,
            "display": null,
            "flex": null,
            "flex_flow": null,
            "grid_area": null,
            "grid_auto_columns": null,
            "grid_auto_flow": null,
            "grid_auto_rows": null,
            "grid_column": null,
            "grid_gap": null,
            "grid_row": null,
            "grid_template_areas": null,
            "grid_template_columns": null,
            "grid_template_rows": null,
            "height": null,
            "justify_content": null,
            "justify_items": null,
            "left": null,
            "margin": null,
            "max_height": null,
            "max_width": null,
            "min_height": null,
            "min_width": null,
            "object_fit": null,
            "object_position": null,
            "order": null,
            "overflow": null,
            "overflow_x": null,
            "overflow_y": null,
            "padding": null,
            "right": null,
            "top": null,
            "visibility": null,
            "width": null
          }
        },
        "fc50e047f13d431a9888fd0c718fc396": {
          "model_module": "@jupyter-widgets/base",
          "model_name": "LayoutModel",
          "model_module_version": "1.2.0",
          "state": {
            "_model_module": "@jupyter-widgets/base",
            "_model_module_version": "1.2.0",
            "_model_name": "LayoutModel",
            "_view_count": null,
            "_view_module": "@jupyter-widgets/base",
            "_view_module_version": "1.2.0",
            "_view_name": "LayoutView",
            "align_content": null,
            "align_items": null,
            "align_self": null,
            "border": null,
            "bottom": null,
            "display": null,
            "flex": null,
            "flex_flow": null,
            "grid_area": null,
            "grid_auto_columns": null,
            "grid_auto_flow": null,
            "grid_auto_rows": null,
            "grid_column": null,
            "grid_gap": null,
            "grid_row": null,
            "grid_template_areas": null,
            "grid_template_columns": null,
            "grid_template_rows": null,
            "height": null,
            "justify_content": null,
            "justify_items": null,
            "left": null,
            "margin": null,
            "max_height": null,
            "max_width": null,
            "min_height": null,
            "min_width": null,
            "object_fit": null,
            "object_position": null,
            "order": null,
            "overflow": null,
            "overflow_x": null,
            "overflow_y": null,
            "padding": null,
            "right": null,
            "top": null,
            "visibility": null,
            "width": null
          }
        },
        "2f251e10ea434f529d1db0b02c14af88": {
          "model_module": "@jupyter-widgets/controls",
          "model_name": "DescriptionStyleModel",
          "model_module_version": "1.5.0",
          "state": {
            "_model_module": "@jupyter-widgets/controls",
            "_model_module_version": "1.5.0",
            "_model_name": "DescriptionStyleModel",
            "_view_count": null,
            "_view_module": "@jupyter-widgets/base",
            "_view_module_version": "1.2.0",
            "_view_name": "StyleView",
            "description_width": ""
          }
        },
        "776c84d57b144145bff3421462c47a12": {
          "model_module": "@jupyter-widgets/base",
          "model_name": "LayoutModel",
          "model_module_version": "1.2.0",
          "state": {
            "_model_module": "@jupyter-widgets/base",
            "_model_module_version": "1.2.0",
            "_model_name": "LayoutModel",
            "_view_count": null,
            "_view_module": "@jupyter-widgets/base",
            "_view_module_version": "1.2.0",
            "_view_name": "LayoutView",
            "align_content": null,
            "align_items": null,
            "align_self": null,
            "border": null,
            "bottom": null,
            "display": null,
            "flex": null,
            "flex_flow": null,
            "grid_area": null,
            "grid_auto_columns": null,
            "grid_auto_flow": null,
            "grid_auto_rows": null,
            "grid_column": null,
            "grid_gap": null,
            "grid_row": null,
            "grid_template_areas": null,
            "grid_template_columns": null,
            "grid_template_rows": null,
            "height": null,
            "justify_content": null,
            "justify_items": null,
            "left": null,
            "margin": null,
            "max_height": null,
            "max_width": null,
            "min_height": null,
            "min_width": null,
            "object_fit": null,
            "object_position": null,
            "order": null,
            "overflow": null,
            "overflow_x": null,
            "overflow_y": null,
            "padding": null,
            "right": null,
            "top": null,
            "visibility": null,
            "width": null
          }
        },
        "93cb6110d1d74fba8ac5451e1a1826f8": {
          "model_module": "@jupyter-widgets/controls",
          "model_name": "ProgressStyleModel",
          "model_module_version": "1.5.0",
          "state": {
            "_model_module": "@jupyter-widgets/controls",
            "_model_module_version": "1.5.0",
            "_model_name": "ProgressStyleModel",
            "_view_count": null,
            "_view_module": "@jupyter-widgets/base",
            "_view_module_version": "1.2.0",
            "_view_name": "StyleView",
            "bar_color": null,
            "description_width": ""
          }
        },
        "c60d8fc8839b423bbe4eab1cd51e56e5": {
          "model_module": "@jupyter-widgets/base",
          "model_name": "LayoutModel",
          "model_module_version": "1.2.0",
          "state": {
            "_model_module": "@jupyter-widgets/base",
            "_model_module_version": "1.2.0",
            "_model_name": "LayoutModel",
            "_view_count": null,
            "_view_module": "@jupyter-widgets/base",
            "_view_module_version": "1.2.0",
            "_view_name": "LayoutView",
            "align_content": null,
            "align_items": null,
            "align_self": null,
            "border": null,
            "bottom": null,
            "display": null,
            "flex": null,
            "flex_flow": null,
            "grid_area": null,
            "grid_auto_columns": null,
            "grid_auto_flow": null,
            "grid_auto_rows": null,
            "grid_column": null,
            "grid_gap": null,
            "grid_row": null,
            "grid_template_areas": null,
            "grid_template_columns": null,
            "grid_template_rows": null,
            "height": null,
            "justify_content": null,
            "justify_items": null,
            "left": null,
            "margin": null,
            "max_height": null,
            "max_width": null,
            "min_height": null,
            "min_width": null,
            "object_fit": null,
            "object_position": null,
            "order": null,
            "overflow": null,
            "overflow_x": null,
            "overflow_y": null,
            "padding": null,
            "right": null,
            "top": null,
            "visibility": null,
            "width": null
          }
        },
        "cc8dc7f4f9a74302a4fb5d6da8096e14": {
          "model_module": "@jupyter-widgets/controls",
          "model_name": "DescriptionStyleModel",
          "model_module_version": "1.5.0",
          "state": {
            "_model_module": "@jupyter-widgets/controls",
            "_model_module_version": "1.5.0",
            "_model_name": "DescriptionStyleModel",
            "_view_count": null,
            "_view_module": "@jupyter-widgets/base",
            "_view_module_version": "1.2.0",
            "_view_name": "StyleView",
            "description_width": ""
          }
        }
      }
    }
  },
  "cells": [
    {
      "cell_type": "markdown",
      "metadata": {
        "id": "view-in-github",
        "colab_type": "text"
      },
      "source": [
        "<a href=\"https://colab.research.google.com/github/RafsanJany-44/ARC/blob/master/Initial_2.ipynb\" target=\"_parent\"><img src=\"https://colab.research.google.com/assets/colab-badge.svg\" alt=\"Open In Colab\"/></a>"
      ]
    },
    {
      "cell_type": "code",
      "execution_count": 1,
      "metadata": {
        "id": "Zc9HullG_33Q",
        "outputId": "0ec2cd85-6462-4b32-d51d-ea8ac91dae30",
        "colab": {
          "base_uri": "https://localhost:8080/"
        }
      },
      "outputs": [
        {
          "output_type": "stream",
          "name": "stdout",
          "text": [
            "Mounted at /content/drive\n"
          ]
        }
      ],
      "source": [
        "from google.colab import drive\n",
        "drive.mount('/content/drive')"
      ]
    },
    {
      "cell_type": "code",
      "source": [
        "!pip install glob2"
      ],
      "metadata": {
        "id": "Zd7ckDyLy52V",
        "outputId": "955f6d57-85b8-4689-beff-589cd454a9da",
        "colab": {
          "base_uri": "https://localhost:8080/"
        }
      },
      "execution_count": 2,
      "outputs": [
        {
          "output_type": "stream",
          "name": "stdout",
          "text": [
            "Looking in indexes: https://pypi.org/simple, https://us-python.pkg.dev/colab-wheels/public/simple/\n",
            "Requirement already satisfied: glob2 in /usr/local/lib/python3.9/dist-packages (0.7)\n"
          ]
        }
      ]
    },
    {
      "cell_type": "markdown",
      "source": [
        "#Functions"
      ],
      "metadata": {
        "id": "P8ExB-awgy89"
      }
    },
    {
      "cell_type": "code",
      "source": [
        "from tqdm.notebook import tqdm\n",
        "\n",
        "\n",
        "def get_contenct(patient_folder_adrs,d=0):\n",
        "  if d == 0:\n",
        "    folder_adrs = sorted(glob(patient_folder_adrs+\"/*\"))[0]\n",
        "    type_of = \"post\"\n",
        "  else:\n",
        "    folder_adrs = sorted(glob(patient_folder_adrs+\"/*\"))[1]\n",
        "    type_of = \"pre\"\n",
        "\n",
        "  #print(patient_folder_adrs)\n",
        "  #print(post_folder_adrs)\n",
        "  #print(pre_folder_adrs)\n",
        "\n",
        "  op_type = os.path.basename(os.path.normpath(folder_adrs))\n",
        "\n",
        "  for i in sorted(glob(folder_adrs+\"/*\")):\n",
        "    h = os.path.basename(os.path.normpath(i)).split(\"_\")\n",
        "    patient_id = h[0]\n",
        "    if h[1] == \"heartrate\" and h[2] == \"seconds\":\n",
        "      break\n",
        "  return i,patient_id,type_of"
      ],
      "metadata": {
        "id": "01_Afmv2gyO-"
      },
      "execution_count": 14,
      "outputs": []
    },
    {
      "cell_type": "markdown",
      "source": [
        "#Importing Folder"
      ],
      "metadata": {
        "id": "OWJwOxhVg1Xs"
      }
    },
    {
      "cell_type": "code",
      "source": [
        "from glob import glob\n",
        "import os\n",
        "\n",
        "path = \"/content/drive/MyDrive/Iqram Sir/Fitabase data pulls - seperate\"\n"
      ],
      "metadata": {
        "id": "KzrFQ8_yy_Jk"
      },
      "execution_count": 6,
      "outputs": []
    },
    {
      "cell_type": "code",
      "source": [],
      "metadata": {
        "id": "hUo36qaGO8pX"
      },
      "execution_count": null,
      "outputs": []
    },
    {
      "cell_type": "markdown",
      "source": [
        "#Starting"
      ],
      "metadata": {
        "id": "6Hs1Q3nB0-ob"
      }
    },
    {
      "cell_type": "code",
      "source": [
        "!pip install pyhrv"
      ],
      "metadata": {
        "id": "cQ-IbWH91AtL",
        "outputId": "bb64f5d4-89a8-400a-ddac-6d3886f10de7",
        "colab": {
          "base_uri": "https://localhost:8080/"
        }
      },
      "execution_count": 7,
      "outputs": [
        {
          "output_type": "stream",
          "name": "stdout",
          "text": [
            "Looking in indexes: https://pypi.org/simple, https://us-python.pkg.dev/colab-wheels/public/simple/\n",
            "Requirement already satisfied: pyhrv in /usr/local/lib/python3.9/dist-packages (0.4.1)\n",
            "Requirement already satisfied: matplotlib in /usr/local/lib/python3.9/dist-packages (from pyhrv) (3.7.1)\n",
            "Requirement already satisfied: scipy in /usr/local/lib/python3.9/dist-packages (from pyhrv) (1.10.1)\n",
            "Requirement already satisfied: numpy in /usr/local/lib/python3.9/dist-packages (from pyhrv) (1.22.4)\n",
            "Requirement already satisfied: spectrum in /usr/local/lib/python3.9/dist-packages (from pyhrv) (0.8.1)\n",
            "Requirement already satisfied: nolds in /usr/local/lib/python3.9/dist-packages (from pyhrv) (0.5.2)\n",
            "Requirement already satisfied: biosppy in /usr/local/lib/python3.9/dist-packages (from pyhrv) (1.0.0)\n",
            "Requirement already satisfied: bidict in /usr/local/lib/python3.9/dist-packages (from biosppy->pyhrv) (0.22.1)\n",
            "Requirement already satisfied: scikit-learn in /usr/local/lib/python3.9/dist-packages (from biosppy->pyhrv) (1.2.2)\n",
            "Requirement already satisfied: joblib in /usr/local/lib/python3.9/dist-packages (from biosppy->pyhrv) (1.2.0)\n",
            "Requirement already satisfied: opencv-python in /usr/local/lib/python3.9/dist-packages (from biosppy->pyhrv) (4.7.0.72)\n",
            "Requirement already satisfied: shortuuid in /usr/local/lib/python3.9/dist-packages (from biosppy->pyhrv) (1.0.11)\n",
            "Requirement already satisfied: six in /usr/local/lib/python3.9/dist-packages (from biosppy->pyhrv) (1.16.0)\n",
            "Requirement already satisfied: h5py in /usr/local/lib/python3.9/dist-packages (from biosppy->pyhrv) (3.8.0)\n",
            "Requirement already satisfied: pyparsing>=2.3.1 in /usr/local/lib/python3.9/dist-packages (from matplotlib->pyhrv) (3.0.9)\n",
            "Requirement already satisfied: python-dateutil>=2.7 in /usr/local/lib/python3.9/dist-packages (from matplotlib->pyhrv) (2.8.2)\n",
            "Requirement already satisfied: cycler>=0.10 in /usr/local/lib/python3.9/dist-packages (from matplotlib->pyhrv) (0.11.0)\n",
            "Requirement already satisfied: contourpy>=1.0.1 in /usr/local/lib/python3.9/dist-packages (from matplotlib->pyhrv) (1.0.7)\n",
            "Requirement already satisfied: packaging>=20.0 in /usr/local/lib/python3.9/dist-packages (from matplotlib->pyhrv) (23.1)\n",
            "Requirement already satisfied: fonttools>=4.22.0 in /usr/local/lib/python3.9/dist-packages (from matplotlib->pyhrv) (4.39.3)\n",
            "Requirement already satisfied: importlib-resources>=3.2.0 in /usr/local/lib/python3.9/dist-packages (from matplotlib->pyhrv) (5.12.0)\n",
            "Requirement already satisfied: pillow>=6.2.0 in /usr/local/lib/python3.9/dist-packages (from matplotlib->pyhrv) (8.4.0)\n",
            "Requirement already satisfied: kiwisolver>=1.0.1 in /usr/local/lib/python3.9/dist-packages (from matplotlib->pyhrv) (1.4.4)\n",
            "Requirement already satisfied: future in /usr/local/lib/python3.9/dist-packages (from nolds->pyhrv) (0.18.3)\n",
            "Requirement already satisfied: setuptools in /usr/local/lib/python3.9/dist-packages (from nolds->pyhrv) (67.6.1)\n",
            "Requirement already satisfied: easydev in /usr/local/lib/python3.9/dist-packages (from spectrum->pyhrv) (0.12.1)\n",
            "Requirement already satisfied: zipp>=3.1.0 in /usr/local/lib/python3.9/dist-packages (from importlib-resources>=3.2.0->matplotlib->pyhrv) (3.15.0)\n",
            "Requirement already satisfied: colorlog in /usr/local/lib/python3.9/dist-packages (from easydev->spectrum->pyhrv) (6.7.0)\n",
            "Requirement already satisfied: colorama in /usr/local/lib/python3.9/dist-packages (from easydev->spectrum->pyhrv) (0.4.6)\n",
            "Requirement already satisfied: pexpect in /usr/local/lib/python3.9/dist-packages (from easydev->spectrum->pyhrv) (4.8.0)\n",
            "Requirement already satisfied: threadpoolctl>=2.0.0 in /usr/local/lib/python3.9/dist-packages (from scikit-learn->biosppy->pyhrv) (3.1.0)\n",
            "Requirement already satisfied: ptyprocess>=0.5 in /usr/local/lib/python3.9/dist-packages (from pexpect->easydev->spectrum->pyhrv) (0.7.0)\n"
          ]
        }
      ]
    },
    {
      "cell_type": "code",
      "source": [
        "g= sorted(glob(path+\"/*\"))[0]\n",
        "\n",
        "add,pid,state = get_contenct(g,1)\n",
        "print(add)\n",
        "print(pid)\n",
        "print(state)"
      ],
      "metadata": {
        "id": "oAW9E4ZRgOnU",
        "outputId": "34663614-5235-489a-ffc1-d92892cff3c7",
        "colab": {
          "base_uri": "https://localhost:8080/"
        }
      },
      "execution_count": 8,
      "outputs": [
        {
          "output_type": "stream",
          "name": "stdout",
          "text": [
            "/content/drive/MyDrive/Iqram Sir/Fitabase data pulls - seperate/001-JV/001 Pre-op/001-JV_heartrate_seconds_20211202_20221216.csv\n",
            "001-JV\n",
            "pre\n"
          ]
        }
      ]
    },
    {
      "cell_type": "code",
      "source": [
        "import pandas as pd\n",
        "\n",
        "df = pd.read_csv(add)"
      ],
      "metadata": {
        "id": "AAmxieNqiasa"
      },
      "execution_count": 9,
      "outputs": []
    },
    {
      "cell_type": "code",
      "source": [
        "df.head()\n",
        "time = []\n",
        "hr = []\n",
        "rr = []\n",
        "\n",
        "for i in tqdm(range(df.shape[0])):\n",
        "  time.append(df[\"Time\"][i])\n",
        "  hr.append(df[\"Value\"][i])\n",
        "  rr.append(60/df[\"Value\"][i])\n",
        "\n",
        "d = {\n",
        "    \"Time\" : time,\n",
        "     \"HR\"  : hr,\n",
        "     \"RR\"  : rr\n",
        "}\n"
      ],
      "metadata": {
        "colab": {
          "base_uri": "https://localhost:8080/",
          "height": 49,
          "referenced_widgets": [
            "ea6dfeb860e34c26b40d24a65ea8cab5",
            "2ab3b125422e4daf9ce14ac0197bc0b5",
            "904c8ea3b12f4571a3c4c58c53f664c8",
            "c1e738691dac418bb98e5259402c9730",
            "af6211e4857b4cfba47c436074efb75c",
            "fc50e047f13d431a9888fd0c718fc396",
            "2f251e10ea434f529d1db0b02c14af88",
            "776c84d57b144145bff3421462c47a12",
            "93cb6110d1d74fba8ac5451e1a1826f8",
            "c60d8fc8839b423bbe4eab1cd51e56e5",
            "cc8dc7f4f9a74302a4fb5d6da8096e14"
          ]
        },
        "id": "oDuFrXD2inzf",
        "outputId": "c2d1b4e2-2a87-4bec-9e21-21656ea1ab99"
      },
      "execution_count": 15,
      "outputs": [
        {
          "output_type": "display_data",
          "data": {
            "text/plain": [
              "  0%|          | 0/350946 [00:00<?, ?it/s]"
            ],
            "application/vnd.jupyter.widget-view+json": {
              "version_major": 2,
              "version_minor": 0,
              "model_id": "ea6dfeb860e34c26b40d24a65ea8cab5"
            }
          },
          "metadata": {}
        }
      ]
    },
    {
      "cell_type": "code",
      "source": [
        "df2 =pd.DataFrame(d)"
      ],
      "metadata": {
        "id": "MvROrwX9l-Ho"
      },
      "execution_count": 16,
      "outputs": []
    },
    {
      "cell_type": "code",
      "source": [
        "df2.head()"
      ],
      "metadata": {
        "colab": {
          "base_uri": "https://localhost:8080/",
          "height": 206
        },
        "id": "uIST2uJvmdvx",
        "outputId": "cf525a00-2129-4d86-de36-750884419e37"
      },
      "execution_count": 17,
      "outputs": [
        {
          "output_type": "execute_result",
          "data": {
            "text/plain": [
              "                   Time  HR        RR\n",
              "0  12/7/2021 3:52:33 PM  70  0.857143\n",
              "1  12/7/2021 3:52:48 PM  70  0.857143\n",
              "2  12/7/2021 3:52:58 PM  67  0.895522\n",
              "3  12/7/2021 3:53:03 PM  65  0.923077\n",
              "4  12/7/2021 3:53:18 PM  65  0.923077"
            ],
            "text/html": [
              "\n",
              "  <div id=\"df-5258d53b-98f8-4331-85e3-9d742fe69222\">\n",
              "    <div class=\"colab-df-container\">\n",
              "      <div>\n",
              "<style scoped>\n",
              "    .dataframe tbody tr th:only-of-type {\n",
              "        vertical-align: middle;\n",
              "    }\n",
              "\n",
              "    .dataframe tbody tr th {\n",
              "        vertical-align: top;\n",
              "    }\n",
              "\n",
              "    .dataframe thead th {\n",
              "        text-align: right;\n",
              "    }\n",
              "</style>\n",
              "<table border=\"1\" class=\"dataframe\">\n",
              "  <thead>\n",
              "    <tr style=\"text-align: right;\">\n",
              "      <th></th>\n",
              "      <th>Time</th>\n",
              "      <th>HR</th>\n",
              "      <th>RR</th>\n",
              "    </tr>\n",
              "  </thead>\n",
              "  <tbody>\n",
              "    <tr>\n",
              "      <th>0</th>\n",
              "      <td>12/7/2021 3:52:33 PM</td>\n",
              "      <td>70</td>\n",
              "      <td>0.857143</td>\n",
              "    </tr>\n",
              "    <tr>\n",
              "      <th>1</th>\n",
              "      <td>12/7/2021 3:52:48 PM</td>\n",
              "      <td>70</td>\n",
              "      <td>0.857143</td>\n",
              "    </tr>\n",
              "    <tr>\n",
              "      <th>2</th>\n",
              "      <td>12/7/2021 3:52:58 PM</td>\n",
              "      <td>67</td>\n",
              "      <td>0.895522</td>\n",
              "    </tr>\n",
              "    <tr>\n",
              "      <th>3</th>\n",
              "      <td>12/7/2021 3:53:03 PM</td>\n",
              "      <td>65</td>\n",
              "      <td>0.923077</td>\n",
              "    </tr>\n",
              "    <tr>\n",
              "      <th>4</th>\n",
              "      <td>12/7/2021 3:53:18 PM</td>\n",
              "      <td>65</td>\n",
              "      <td>0.923077</td>\n",
              "    </tr>\n",
              "  </tbody>\n",
              "</table>\n",
              "</div>\n",
              "      <button class=\"colab-df-convert\" onclick=\"convertToInteractive('df-5258d53b-98f8-4331-85e3-9d742fe69222')\"\n",
              "              title=\"Convert this dataframe to an interactive table.\"\n",
              "              style=\"display:none;\">\n",
              "        \n",
              "  <svg xmlns=\"http://www.w3.org/2000/svg\" height=\"24px\"viewBox=\"0 0 24 24\"\n",
              "       width=\"24px\">\n",
              "    <path d=\"M0 0h24v24H0V0z\" fill=\"none\"/>\n",
              "    <path d=\"M18.56 5.44l.94 2.06.94-2.06 2.06-.94-2.06-.94-.94-2.06-.94 2.06-2.06.94zm-11 1L8.5 8.5l.94-2.06 2.06-.94-2.06-.94L8.5 2.5l-.94 2.06-2.06.94zm10 10l.94 2.06.94-2.06 2.06-.94-2.06-.94-.94-2.06-.94 2.06-2.06.94z\"/><path d=\"M17.41 7.96l-1.37-1.37c-.4-.4-.92-.59-1.43-.59-.52 0-1.04.2-1.43.59L10.3 9.45l-7.72 7.72c-.78.78-.78 2.05 0 2.83L4 21.41c.39.39.9.59 1.41.59.51 0 1.02-.2 1.41-.59l7.78-7.78 2.81-2.81c.8-.78.8-2.07 0-2.86zM5.41 20L4 18.59l7.72-7.72 1.47 1.35L5.41 20z\"/>\n",
              "  </svg>\n",
              "      </button>\n",
              "      \n",
              "  <style>\n",
              "    .colab-df-container {\n",
              "      display:flex;\n",
              "      flex-wrap:wrap;\n",
              "      gap: 12px;\n",
              "    }\n",
              "\n",
              "    .colab-df-convert {\n",
              "      background-color: #E8F0FE;\n",
              "      border: none;\n",
              "      border-radius: 50%;\n",
              "      cursor: pointer;\n",
              "      display: none;\n",
              "      fill: #1967D2;\n",
              "      height: 32px;\n",
              "      padding: 0 0 0 0;\n",
              "      width: 32px;\n",
              "    }\n",
              "\n",
              "    .colab-df-convert:hover {\n",
              "      background-color: #E2EBFA;\n",
              "      box-shadow: 0px 1px 2px rgba(60, 64, 67, 0.3), 0px 1px 3px 1px rgba(60, 64, 67, 0.15);\n",
              "      fill: #174EA6;\n",
              "    }\n",
              "\n",
              "    [theme=dark] .colab-df-convert {\n",
              "      background-color: #3B4455;\n",
              "      fill: #D2E3FC;\n",
              "    }\n",
              "\n",
              "    [theme=dark] .colab-df-convert:hover {\n",
              "      background-color: #434B5C;\n",
              "      box-shadow: 0px 1px 3px 1px rgba(0, 0, 0, 0.15);\n",
              "      filter: drop-shadow(0px 1px 2px rgba(0, 0, 0, 0.3));\n",
              "      fill: #FFFFFF;\n",
              "    }\n",
              "  </style>\n",
              "\n",
              "      <script>\n",
              "        const buttonEl =\n",
              "          document.querySelector('#df-5258d53b-98f8-4331-85e3-9d742fe69222 button.colab-df-convert');\n",
              "        buttonEl.style.display =\n",
              "          google.colab.kernel.accessAllowed ? 'block' : 'none';\n",
              "\n",
              "        async function convertToInteractive(key) {\n",
              "          const element = document.querySelector('#df-5258d53b-98f8-4331-85e3-9d742fe69222');\n",
              "          const dataTable =\n",
              "            await google.colab.kernel.invokeFunction('convertToInteractive',\n",
              "                                                     [key], {});\n",
              "          if (!dataTable) return;\n",
              "\n",
              "          const docLinkHtml = 'Like what you see? Visit the ' +\n",
              "            '<a target=\"_blank\" href=https://colab.research.google.com/notebooks/data_table.ipynb>data table notebook</a>'\n",
              "            + ' to learn more about interactive tables.';\n",
              "          element.innerHTML = '';\n",
              "          dataTable['output_type'] = 'display_data';\n",
              "          await google.colab.output.renderOutput(dataTable, element);\n",
              "          const docLink = document.createElement('div');\n",
              "          docLink.innerHTML = docLinkHtml;\n",
              "          element.appendChild(docLink);\n",
              "        }\n",
              "      </script>\n",
              "    </div>\n",
              "  </div>\n",
              "  "
            ]
          },
          "metadata": {},
          "execution_count": 17
        }
      ]
    },
    {
      "cell_type": "code",
      "source": [
        "# Import packages\n",
        "import pyhrv\n",
        "import pyhrv.time_domain as td\n",
        "\n",
        "# Load sample data\n",
        "nni = df2[\"RR\"]\n",
        "\n",
        "# Compute parameters\n",
        "results = td.nni_parameters(nni)\n",
        "\n",
        "# Print minimum NNI\n",
        "print(results)"
      ],
      "metadata": {
        "colab": {
          "base_uri": "https://localhost:8080/"
        },
        "id": "tryBy72Dm4ub",
        "outputId": "6786312f-5f06-4fab-93d1-0ce7a32f3006"
      },
      "execution_count": 19,
      "outputs": [
        {
          "output_type": "stream",
          "name": "stdout",
          "text": [
            "ReturnTuple(nni_counter=350946, nni_mean=840.803132105794, nni_min=384, nni_max=1463)\n"
          ]
        }
      ]
    },
    {
      "cell_type": "markdown",
      "source": [
        "\n",
        "\n",
        "---\n",
        "\n",
        "\n",
        "\n",
        "---\n",
        "\n"
      ],
      "metadata": {
        "id": "s8ZcYd3-gPi5"
      }
    },
    {
      "cell_type": "code",
      "source": [],
      "metadata": {
        "id": "07fEVzU_hzbT"
      },
      "execution_count": null,
      "outputs": []
    }
  ]
}