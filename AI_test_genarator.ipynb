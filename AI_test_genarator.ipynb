{
  "nbformat": 4,
  "nbformat_minor": 0,
  "metadata": {
    "colab": {
      "name": "AI_test_genarator.ipynb",
      "provenance": [],
      "authorship_tag": "ABX9TyOBWPiCmvNZIFic46BB5xDP",
      "include_colab_link": true
    },
    "kernelspec": {
      "name": "python3",
      "display_name": "Python 3"
    }
  },
  "cells": [
    {
      "cell_type": "markdown",
      "metadata": {
        "id": "view-in-github",
        "colab_type": "text"
      },
      "source": [
        "<a href=\"https://colab.research.google.com/github/RafsanJany-44/practice_cell/blob/master/AI_test_genarator.ipynb\" target=\"_parent\"><img src=\"https://colab.research.google.com/assets/colab-badge.svg\" alt=\"Open In Colab\"/></a>"
      ]
    },
    {
      "cell_type": "code",
      "metadata": {
        "id": "mPxwzGzf3Q_-",
        "colab": {
          "base_uri": "https://localhost:8080/"
        },
        "outputId": "aa17e2dd-d985-4ee3-e6d1-61f347e0dd83"
      },
      "source": [
        "import random\n",
        "n = random.randint(0,22)\n",
        "print(n)\n",
        "\n",
        "\n"
      ],
      "execution_count": 4,
      "outputs": [
        {
          "output_type": "stream",
          "text": [
            "10\n"
          ],
          "name": "stdout"
        }
      ]
    },
    {
      "cell_type": "code",
      "metadata": {
        "id": "-Q6AOb21hdi5",
        "outputId": "bb13e39d-d092-4fc5-8214-dcec98b3c9d0",
        "colab": {
          "base_uri": "https://localhost:8080/"
        }
      },
      "source": [
        "cur_storage=n = random.choice([0,0,0,1,1,0,0,0,0,1,1,1,1,2,1,2,1,3,2,0,0])\r\n",
        "print(cur_storage)\r\n",
        "\r\n",
        "cur_charge=random.randint(5,10)\r\n",
        "charg_cap=randon.randit()\r\n",
        "\r\n",
        "recharge_pont11=\r\n",
        "recharge_point12=\r\n",
        "recharge_point21=\r\n",
        "recharge_point22=\r\n",
        "recharge_point31=\r\n",
        "recharge_point32=\r\n",
        "\r\n",
        "interest_point11=\r\n",
        "interest_point12=\r\n",
        "interest_point21=\r\n",
        "interest_point22=\r\n"
      ],
      "execution_count": 7,
      "outputs": [
        {
          "output_type": "stream",
          "text": [
            "0\n"
          ],
          "name": "stdout"
        }
      ]
    },
    {
      "cell_type": "code",
      "metadata": {
        "id": "25PSX-DafFTU"
      },
      "source": [
        "problem = \"(define (problem MarsRover-1-0)\"+'\\n'+\"(:domain MarsRover)\"+'\\n'+\"(:objects n0 n1 n2 n3 n4 n5 n6 n7 n8 n9 n10 n11 n12 n13 n14 n15 n16 n17 n18 n19 n20)\"+'\\n'+'\\n'+\"(:init (next n0 n1) (next n1 n2) (next n2 n3) (next n3 n4) (next n4 n5) (next n5 n6) (next n6 n7)\"+'\\n'+\"  (next n7 n8) (next n8 n9) (next n9 n10) (next n10 n11) (next n11 n12) (next n12 n13) (next n13 n14)\" +'\\n'+\"  (next n14 n15) (next n15 n16) (next n16 n17) (next n17 n18) (next n18 n19) (next n19 n20)\"+'\\n'+'\\n'+\"  (zero n0)\"+'\\n'+\"  (at n1 n0 n0 n0)\"+'\\n'+\"  (base n0 n0)\"+'\\n'+'\\n'+\"  ;(currentstorage n0)\"+'\\n'+\"  (freecapacity n1)\"+'\\n'+\"  (maxstorage n1)\"+'\\n'+'\\n'+\"  (currentcharge n5)\"+'\\n'+\"  (chargecapacity n5)\"+'\\n'+\"  (hascharge)\"+'\\n'+'\\n'+\"  (rechargepoint n3 n3)\"+'\\n'+\"  (rechargepoint n0 n0)\"+'\\n'+\"  (rechargepoint n1 n3)\"+'\\n'+'\\n'+\"  (interestpoint n3 n4)\"+'\\n'+\"  (interestpoint n4 n5)\"+'\\n'+'\\n'+\"  (drillpoint n3 n4)\"+'\\n'+\"  (drillpoint n1 n5)\"+'\\n'+'\\n'+\"  (= (total-cost) 0)\"+'\\n'+\"  (= (travel-badroad) 2)\"+'\\n'+\")\"+'\\n'+'\\n' +\"(:goal (and (at n1 n0 n0 n0)  (scaned n3 n4) (scaned n4 n5) (drilled n3 n4) (drilled n1 n5))\"+'\\n'+\")\"+'\\n'+\";(:metric minimize (total-cost))\"+'\\n'+\")\""
      ],
      "execution_count": 8,
      "outputs": []
    },
    {
      "cell_type": "code",
      "metadata": {
        "id": "2nPb1rDEi8MC",
        "colab": {
          "base_uri": "https://localhost:8080/"
        },
        "outputId": "7ecf937f-33db-42f1-bbb0-60ca32545697"
      },
      "source": [
        "print(problem)"
      ],
      "execution_count": 9,
      "outputs": [
        {
          "output_type": "stream",
          "text": [
            "(define (problem MarsRover-1-0)\n",
            "(:domain MarsRover)\n",
            "(:objects n0 n1 n2 n3 n4 n5 n6 n7 n8 n9 n10 n11 n12 n13 n14 n15 n16 n17 n18 n19 n20)\n",
            "\n",
            "(:init (next n0 n1) (next n1 n2) (next n2 n3) (next n3 n4) (next n4 n5) (next n5 n6) (next n6 n7)\n",
            "  (next n7 n8) (next n8 n9) (next n9 n10) (next n10 n11) (next n11 n12) (next n12 n13) (next n13 n14)\n",
            "  (next n14 n15) (next n15 n16) (next n16 n17) (next n17 n18) (next n18 n19) (next n19 n20)\n",
            "\n",
            "  (zero n0)\n",
            "  (at n1 n0 n0 n0)\n",
            "  (base n0 n0)\n",
            "\n",
            "  ;(currentstorage n0)\n",
            "  (freecapacity n1)\n",
            "  (maxstorage n1)\n",
            "\n",
            "  (currentcharge n5)\n",
            "  (chargecapacity n5)\n",
            "  (hascharge)\n",
            "\n",
            "  (rechargepoint n3 n3)\n",
            "  (rechargepoint n0 n0)\n",
            "  (rechargepoint n1 n3)\n",
            "\n",
            "  (interestpoint n3 n4)\n",
            "  (interestpoint n4 n5)\n",
            "\n",
            "  (drillpoint n3 n4)\n",
            "  (drillpoint n1 n5)\n",
            "\n",
            "  (= (total-cost) 0)\n",
            "  (= (travel-badroad) 2)\n",
            ")\n",
            "\n",
            "(:goal (and (at n1 n0 n0 n0)  (scaned n3 n4) (scaned n4 n5) (drilled n3 n4) (drilled n1 n5))\n",
            ")\n",
            ";(:metric minimize (total-cost))\n",
            ")\n"
          ],
          "name": "stdout"
        }
      ]
    },
    {
      "cell_type": "code",
      "metadata": {
        "id": "dbF0mB_glvZ2"
      },
      "source": [
        "i=44444\r\n",
        "file1 = open(\"MyFile\"+str(i)+\".pddl\", \"w\")\r\n",
        "file1.write(problem)\r\n",
        "file1.close()"
      ],
      "execution_count": null,
      "outputs": []
    },
    {
      "cell_type": "code",
      "metadata": {
        "id": "fHBt2g1voOnB",
        "colab": {
          "base_uri": "https://localhost:8080/"
        },
        "outputId": "71e9d1c7-806c-48dd-ae3b-1867b03399b4"
      },
      "source": [
        "print(problem)"
      ],
      "execution_count": null,
      "outputs": [
        {
          "output_type": "stream",
          "text": [
            "(define (problem MarsRover-1-0)\n",
            "(:domain MarsRover)\n",
            "(:objects n0 n1 n2 n3 n4 n5 n6 n7 n8 n9 n10 n11 n12 n13 n14 n15 n16 n17 n18 n19 n20)\n",
            "(:init (next n0 n1) (next n1 n2) (next n2 n3) (next n3 n4) (next n4 n5) (next n5 n6) (next n6 n7)\n",
            "(next n7 n8) (next n8 n9) (next n9 n10) (next n10 n11) (next n11 n12) (next n12 n13) (next n13 n14)\n",
            "(next n14 n15) (next n15 n16) (next n16 n17) (next n17 n18) (next n18 n19) (next n19 n20)\n",
            "(zero n0)\n",
            "(at n1 n0 n0 n0)\n",
            "(base n0 n0)\n",
            ";(currentstorage n0)\n",
            "(freecapacity n1)\n",
            "(maxstorage n1)\n",
            "(currentcharge n5)\n",
            "(chargecapacity n5)\n",
            "(hascharge)\n",
            "(rechargepoint n3 n3)\n",
            "(rechargepoint n0 n0)\n",
            "(rechargepoint n1 n3)\n",
            "(interestpoint n3 n4)\n",
            "(interestpoint n4 n5)\n",
            "(drillpoint n3 n4)\n",
            "(drillpoint n1 n5)\n",
            "(= (total-cost) 0)\n",
            "(= (travel-badroad) 2))\n",
            "(:goal (and (at n1 n0 n0 n0)  (scaned n3 n4) (scaned n4 n5) (drilled n3 n4) (drilled n1 n5)))\n",
            ";(:metric minimize (total-cost)))\n"
          ],
          "name": "stdout"
        }
      ]
    },
    {
      "cell_type": "code",
      "metadata": {
        "id": "PgITa7yApfdW"
      },
      "source": [
        ""
      ],
      "execution_count": null,
      "outputs": []
    }
  ]
}