{
  "nbformat": 4,
  "nbformat_minor": 0,
  "metadata": {
    "colab": {
      "name": "AI_test_genarator.ipynb",
      "provenance": [],
      "authorship_tag": "ABX9TyO7eOozLDMYYG7CLaeVDeca",
      "include_colab_link": true
    },
    "kernelspec": {
      "name": "python3",
      "display_name": "Python 3"
    }
  },
  "cells": [
    {
      "cell_type": "markdown",
      "metadata": {
        "id": "view-in-github",
        "colab_type": "text"
      },
      "source": [
        "<a href=\"https://colab.research.google.com/github/RafsanJany-44/practice_cell/blob/master/AI_test_genarator.ipynb\" target=\"_parent\"><img src=\"https://colab.research.google.com/assets/colab-badge.svg\" alt=\"Open In Colab\"/></a>"
      ]
    },
    {
      "cell_type": "code",
      "metadata": {
        "id": "mPxwzGzf3Q_-",
        "colab": {
          "base_uri": "https://localhost:8080/"
        },
        "outputId": "aa17e2dd-d985-4ee3-e6d1-61f347e0dd83"
      },
      "source": [
        "import random\n",
        "n = random.randint(0,22)\n",
        "print(n)\n",
        "\n",
        "\n"
      ],
      "execution_count": null,
      "outputs": [
        {
          "output_type": "stream",
          "text": [
            "10\n"
          ],
          "name": "stdout"
        }
      ]
    },
    {
      "cell_type": "code",
      "metadata": {
        "colab": {
          "base_uri": "https://localhost:8080/"
        },
        "id": "-Q6AOb21hdi5",
        "outputId": "93ca0034-4a68-4a27-d083-6cfb069370ff"
      },
      "source": [
        "import random\r\n",
        "cur_storage=random.randint(1,10)    #what is the range\r\n",
        "\r\n",
        "free_cap=2                                    #what is the range\r\n",
        "max_storage=random.randint(cur_charge,11)#what is the range\r\n",
        "\r\n",
        "\r\n",
        "cur_charge=random.randint(1,10)            #what is the range\r\n",
        "charge_cap=random.randint(cur_charge,10)   #what is the range\r\n",
        "\r\n",
        "recharge_point11=6                               \r\n",
        "recharge_point12=7\r\n",
        "recharge_point21=8\r\n",
        "recharge_point22=9\r\n",
        "recharge_point31=10\r\n",
        "recharge_point32=11\r\n",
        "\r\n",
        "interest_point11=12\r\n",
        "interest_point12=13\r\n",
        "interest_point21=14\r\n",
        "interest_point22=15\r\n",
        "\r\n",
        "drill_point11=16\r\n",
        "drill_point12=17\r\n",
        "drill_point21=18\r\n",
        "drill_point22=19\r\n"
      ],
      "execution_count": 23,
      "outputs": [
        {
          "output_type": "stream",
          "text": [
            "1\n"
          ],
          "name": "stdout"
        }
      ]
    },
    {
      "cell_type": "code",
      "metadata": {
        "id": "25PSX-DafFTU"
      },
      "source": [
        "problem = \"(define (problem MarsRover-1-0)\"+'\\n'+\"(:domain MarsRover)\"+'\\n'+\"(:objects n0 n1 n2 n3 n4 n5 n6 n7 n8 n9 n10 n11 n12 n13 n14 n15 n16 n17 n18 n19 n20)\"+'\\n'+'\\n'+\"(:init (next n0 n1) (next n1 n2) (next n2 n3) (next n3 n4) (next n4 n5) (next n5 n6) (next n6 n7)\"+'\\n'+\"  (next n7 n8) (next n8 n9) (next n9 n10) (next n10 n11) (next n11 n12) (next n12 n13) (next n13 n14)\" +'\\n'+\"  (next n14 n15) (next n15 n16) (next n16 n17) (next n17 n18) (next n18 n19) (next n19 n20)\"+'\\n'+'\\n'+\"  (zero n0)\"+'\\n'+\"  (at n1 n0 n0 n0)\"+'\\n'+\"  (base n0 n0)\"+'\\n'+'\\n'+\"  ;(currentstorage n\"+str(cur_storage)+\")\"+'\\n'+\"  (freecapacity n\"+str(free_cap)+\")\"+'\\n'+\"  (maxstorage n\"+str(max_storage)+\")\"+'\\n'+'\\n'+\"  (currentcharge n\"+str(cur_charge)+\")\"+'\\n'+\"  (chargecapacity n\"+str(charge_cap)+\")\"+'\\n'+\"  (hascharge)\"+'\\n'+'\\n'+\"  (rechargepoint n\"+str(recharge_point11)+\" n\"+str(recharge_point12)+\")\"+'\\n'+\"  (rechargepoint n\"+str(recharge_point21)+\" n\"+str(recharge_point22)+\")\"+'\\n'+\"  (rechargepoint n\"+str(recharge_point31)+\" n\"+str(recharge_point32)+\")\"+'\\n'+'\\n'+\"  (interestpoint n\"+str(interest_point11)+\" n\"+str(interest_point12)+\")\"+'\\n'+\"  (interestpoint n\"+str(interest_point21)+\" n\"+str(interest_point22)+\")\"+'\\n'+'\\n'+\"  (drillpoint n\"+str(drill_point11)+\" n\"+str(drill_point12)+\")\"+'\\n'+\"  (drillpoint n\"+str(drill_point21)+\" n\"+str(drill_point22)+\")\"+'\\n'+'\\n'+\"  (= (total-cost) 0)\"+'\\n'+\"  (= (travel-badroad) 2)\"+'\\n'+\")\"+'\\n'+'\\n' +\"(:goal (and (at n1 n0 n0 n0)  (scaned n\"+str(interest_point11)+\" n\"+str(interest_point12)+\") (scaned n\"+str(interest_point21)+\" n\"+str(interest_point22)+\") (drilled n\"+str(drill_point11)+\" n\"+str(drill_point12)+\") (drilled n\"+str(drill_point21)+\" n\"+str(drill_point22)+\"))\"+'\\n'+\")\"+'\\n'+\";(:metric minimize (total-cost))\"+'\\n'+\")\"\n"
      ],
      "execution_count": 24,
      "outputs": []
    },
    {
      "cell_type": "code",
      "metadata": {
        "id": "2nPb1rDEi8MC",
        "colab": {
          "base_uri": "https://localhost:8080/"
        },
        "outputId": "6117628f-da07-4fb3-adf6-1842abf45daa"
      },
      "source": [
        "print(problem)"
      ],
      "execution_count": 25,
      "outputs": [
        {
          "output_type": "stream",
          "text": [
            "(define (problem MarsRover-1-0)\n",
            "(:domain MarsRover)\n",
            "(:objects n0 n1 n2 n3 n4 n5 n6 n7 n8 n9 n10 n11 n12 n13 n14 n15 n16 n17 n18 n19 n20)\n",
            "\n",
            "(:init (next n0 n1) (next n1 n2) (next n2 n3) (next n3 n4) (next n4 n5) (next n5 n6) (next n6 n7)\n",
            "  (next n7 n8) (next n8 n9) (next n9 n10) (next n10 n11) (next n11 n12) (next n12 n13) (next n13 n14)\n",
            "  (next n14 n15) (next n15 n16) (next n16 n17) (next n17 n18) (next n18 n19) (next n19 n20)\n",
            "\n",
            "  (zero n0)\n",
            "  (at n1 n0 n0 n0)\n",
            "  (base n0 n0)\n",
            "\n",
            "  ;(currentstorage n1)\n",
            "  (freecapacity n2)\n",
            "  (maxstorage n3)\n",
            "\n",
            "  (currentcharge n3)\n",
            "  (chargecapacity n4)\n",
            "  (hascharge)\n",
            "\n",
            "  (rechargepoint n6 n7)\n",
            "  (rechargepoint n8 n9)\n",
            "  (rechargepoint n10 n11)\n",
            "\n",
            "  (interestpoint n12 n13)\n",
            "  (interestpoint n14 n15)\n",
            "\n",
            "  (drillpoint n16 n17)\n",
            "  (drillpoint n18 n19)\n",
            "\n",
            "  (= (total-cost) 0)\n",
            "  (= (travel-badroad) 2)\n",
            ")\n",
            "\n",
            "(:goal (and (at n1 n0 n0 n0)  (scaned n12 n13) (scaned n14 n15) (drilled n16 n17) (drilled n18 n19))\n",
            ")\n",
            ";(:metric minimize (total-cost))\n",
            ")\n"
          ],
          "name": "stdout"
        }
      ]
    },
    {
      "cell_type": "code",
      "metadata": {
        "id": "dbF0mB_glvZ2"
      },
      "source": [
        "i=44444\r\n",
        "file1 = open(\"MyFile\"+str(i)+\".pddl\", \"w\")\r\n",
        "file1.write(problem)\r\n",
        "file1.close()"
      ],
      "execution_count": null,
      "outputs": []
    },
    {
      "cell_type": "code",
      "metadata": {
        "id": "fHBt2g1voOnB",
        "colab": {
          "base_uri": "https://localhost:8080/"
        },
        "outputId": "71e9d1c7-806c-48dd-ae3b-1867b03399b4"
      },
      "source": [
        "print(problem)"
      ],
      "execution_count": null,
      "outputs": [
        {
          "output_type": "stream",
          "text": [
            "(define (problem MarsRover-1-0)\n",
            "(:domain MarsRover)\n",
            "(:objects n0 n1 n2 n3 n4 n5 n6 n7 n8 n9 n10 n11 n12 n13 n14 n15 n16 n17 n18 n19 n20)\n",
            "(:init (next n0 n1) (next n1 n2) (next n2 n3) (next n3 n4) (next n4 n5) (next n5 n6) (next n6 n7)\n",
            "(next n7 n8) (next n8 n9) (next n9 n10) (next n10 n11) (next n11 n12) (next n12 n13) (next n13 n14)\n",
            "(next n14 n15) (next n15 n16) (next n16 n17) (next n17 n18) (next n18 n19) (next n19 n20)\n",
            "(zero n0)\n",
            "(at n1 n0 n0 n0)\n",
            "(base n0 n0)\n",
            ";(currentstorage n0)\n",
            "(freecapacity n1)\n",
            "(maxstorage n1)\n",
            "(currentcharge n5)\n",
            "(chargecapacity n5)\n",
            "(hascharge)\n",
            "(rechargepoint n3 n3)\n",
            "(rechargepoint n0 n0)\n",
            "(rechargepoint n1 n3)\n",
            "(interestpoint n3 n4)\n",
            "(interestpoint n4 n5)\n",
            "(drillpoint n3 n4)\n",
            "(drillpoint n1 n5)\n",
            "(= (total-cost) 0)\n",
            "(= (travel-badroad) 2))\n",
            "(:goal (and (at n1 n0 n0 n0)  (scaned n3 n4) (scaned n4 n5) (drilled n3 n4) (drilled n1 n5)))\n",
            ";(:metric minimize (total-cost)))\n"
          ],
          "name": "stdout"
        }
      ]
    },
    {
      "cell_type": "code",
      "metadata": {
        "id": "PgITa7yApfdW"
      },
      "source": [
        ""
      ],
      "execution_count": null,
      "outputs": []
    }
  ]
}