{
  "nbformat": 4,
  "nbformat_minor": 0,
  "metadata": {
    "colab": {
      "name": "AI_test_genarator.ipynb",
      "provenance": [],
      "authorship_tag": "ABX9TyO6b0qsYwF4pjZs6lOQNUIG",
      "include_colab_link": true
    },
    "kernelspec": {
      "name": "python3",
      "display_name": "Python 3"
    }
  },
  "cells": [
    {
      "cell_type": "markdown",
      "metadata": {
        "id": "view-in-github",
        "colab_type": "text"
      },
      "source": [
        "<a href=\"https://colab.research.google.com/github/RafsanJany-44/practice_cell/blob/master/AI_test_genarator.ipynb\" target=\"_parent\"><img src=\"https://colab.research.google.com/assets/colab-badge.svg\" alt=\"Open In Colab\"/></a>"
      ]
    },
    {
      "cell_type": "code",
      "metadata": {
        "id": "w7e-VSWhKKFC",
        "colab": {
          "base_uri": "https://localhost:8080/"
        },
        "outputId": "7c15f295-10ac-4ad5-c598-e0d68b93942e"
      },
      "source": [
        "print(\"hello world\")"
      ],
      "execution_count": null,
      "outputs": [
        {
          "output_type": "stream",
          "text": [
            "hello world\n"
          ],
          "name": "stdout"
        }
      ]
    },
    {
      "cell_type": "code",
      "metadata": {
        "id": "GDJG37_sOlCh"
      },
      "source": [
        "file1 = open(\"MyFile.txt\", \"w\") "
      ],
      "execution_count": null,
      "outputs": []
    },
    {
      "cell_type": "code",
      "metadata": {
        "id": "8XA8d1mDetb3"
      },
      "source": [
        "for i in range(5):\r\n",
        "  file1 = open(\"MyFile\"+str(i)+\".pddl\", \"w\") "
      ],
      "execution_count": null,
      "outputs": []
    },
    {
      "cell_type": "code",
      "metadata": {
        "id": "25PSX-DafFTU",
        "colab": {
          "base_uri": "https://localhost:8080/",
          "height": 135
        },
        "outputId": "72d11abf-ae31-4e6e-9e46-b7100dfb0c3b"
      },
      "source": [
        "problem = \"(define (problem MarsRover-1-0)\"+'\\n'+\"(:domain MarsRover)\"+'\\n'\r\n",
        "+\"(:objects n0 n1 n2 n3 n4 n5 n6 n7 n8 n9 n10 n11 n12 n13 n14 n15 n16 n17 n18 n19 n20)\"+'\\n'\r\n",
        "+\"(:init (next n0 n1) (next n1 n2) (next n2 n3) (next n3 n4) (next n4 n5) (next n5 n6) (next n6 n7)\"+'\\n'\r\n",
        "\"(next n7 n8) (next n8 n9) (next n9 n10) (next n10 n11) (next n11 n12) (next n12 n13) (next n13 n14)\" +'\\n'\r\n",
        "\"(next n14 n15) (next n15 n16) (next n16 n17) (next n17 n18) (next n18 n19) (next n19 n20)\"+'\\n'\r\n",
        "\"(zero n0)\"+'\\n'\r\n",
        "\"(at n1 n0 n0 n0)\"+'\\n'\r\n",
        "\"(base n0 n0)\"+'\\n'\r\n",
        "\";(currentstorage n0)\"+'\\n'\r\n",
        "\"(freecapacity n1)\"+'\\n'\r\n",
        "\"(maxstorage n1)\"+'\\n'\r\n",
        "\"(currentcharge n5)\"+'\\n'\r\n",
        "\"(chargecapacity n5)\"+'\\n'\r\n",
        "\"(hascharge)\"+'\\n'\r\n",
        "\"(rechargepoint n3 n3)\"+'\\n'\r\n",
        "\"(rechargepoint n0 n0)\"+'\\n'\r\n",
        "\"(rechargepoint n1 n3)\"+'\\n'\r\n",
        "\"(interestpoint n3 n4)\"+'\\n'\r\n",
        "\"(interestpoint n4 n5)\"+'\\n'\r\n",
        "\"(drillpoint n3 n4)\"+'\\n'\r\n",
        "\"(drillpoint n1 n5)\"+'\\n'\r\n",
        "\"(= (total-cost) 0)\"+'\\n'\r\n",
        "\"(= (travel-badroad) 2))\"+'\\n' \r\n",
        "\"(:goal (and (at n1 n0 n0 n0)  (scaned n3 n4) (scaned n4 n5) (drilled n3 n4) (drilled n1 n5)))\"+'\\n'\r\n",
        "\";(:metric minimize (total-cost)))\""
      ],
      "execution_count": null,
      "outputs": [
        {
          "output_type": "error",
          "ename": "SyntaxError",
          "evalue": "ignored",
          "traceback": [
            "\u001b[0;36m  File \u001b[0;32m\"<ipython-input-12-24ba2f8be757>\"\u001b[0;36m, line \u001b[0;32m3\u001b[0m\n\u001b[0;31m    +\"(:init (next n0 n1) (next n1 n2) (next n2 n3) (next n3 n4) (next n4 n5) (next n5 n6) (next n6 n7)\"+'\\n'+\u001b[0m\n\u001b[0m                                                                                                              ^\u001b[0m\n\u001b[0;31mSyntaxError\u001b[0m\u001b[0;31m:\u001b[0m invalid syntax\n"
          ]
        }
      ]
    },
    {
      "cell_type": "code",
      "metadata": {
        "id": "2nPb1rDEi8MC"
      },
      "source": [
        ""
      ],
      "execution_count": null,
      "outputs": []
    }
  ]
}