{
  "cells": [
    {
      "cell_type": "markdown",
      "metadata": {
        "id": "view-in-github",
        "colab_type": "text"
      },
      "source": [
        "<a href=\"https://colab.research.google.com/github/RafsanJany-44/ARC/blob/master/Activity_Recognition_EEG__2022_12_30.ipynb\" target=\"_parent\"><img src=\"https://colab.research.google.com/assets/colab-badge.svg\" alt=\"Open In Colab\"/></a>"
      ]
    },
    {
      "cell_type": "code",
      "execution_count": 1,
      "metadata": {
        "colab": {
          "base_uri": "https://localhost:8080/"
        },
        "id": "zdFOS9nFlpsU",
        "outputId": "a979e869-01c6-4eb0-ff6b-8a715f8e52ed"
      },
      "outputs": [
        {
          "output_type": "stream",
          "name": "stdout",
          "text": [
            "Mounted at /content/drive\n"
          ]
        }
      ],
      "source": [
        "from google.colab import drive\n",
        "drive.mount('/content/drive')"
      ]
    },
    {
      "cell_type": "markdown",
      "metadata": {
        "id": "SEsFaHeE2Pss"
      },
      "source": [
        "###Function"
      ]
    },
    {
      "cell_type": "code",
      "execution_count": 2,
      "metadata": {
        "colab": {
          "base_uri": "https://localhost:8080/"
        },
        "id": "ESoueLt11P_w",
        "outputId": "32cab28c-df78-4169-ffe8-86ebe17e52e0"
      },
      "outputs": [
        {
          "output_type": "stream",
          "name": "stdout",
          "text": [
            "Looking in indexes: https://pypi.org/simple, https://us-python.pkg.dev/colab-wheels/public/simple/\n",
            "Requirement already satisfied: imbalanced-learn in /usr/local/lib/python3.8/dist-packages (0.8.1)\n",
            "Requirement already satisfied: joblib>=0.11 in /usr/local/lib/python3.8/dist-packages (from imbalanced-learn) (1.2.0)\n",
            "Requirement already satisfied: scikit-learn>=0.24 in /usr/local/lib/python3.8/dist-packages (from imbalanced-learn) (1.0.2)\n",
            "Requirement already satisfied: scipy>=0.19.1 in /usr/local/lib/python3.8/dist-packages (from imbalanced-learn) (1.7.3)\n",
            "Requirement already satisfied: numpy>=1.13.3 in /usr/local/lib/python3.8/dist-packages (from imbalanced-learn) (1.21.6)\n",
            "Requirement already satisfied: threadpoolctl>=2.0.0 in /usr/local/lib/python3.8/dist-packages (from scikit-learn>=0.24->imbalanced-learn) (3.1.0)\n"
          ]
        }
      ],
      "source": [
        "!pip install imbalanced-learn\n",
        "\n",
        "from imblearn.over_sampling import SMOTE\n",
        "\n",
        "def balance(X_temp, y_temp):\n",
        "  smote = SMOTE()\n",
        "  X_temp, y_temp= smote.fit_resample(X_temp, y_temp)\n",
        "  return pd.concat([pd.DataFrame(X_temp), pd.DataFrame(y_temp)], axis=1)\n",
        "\n",
        "\n",
        "\n",
        "def models_check_box(models):\n",
        "  import ipywidgets as widgets\n",
        "  from IPython.display import display\n",
        "  new_keys=[]\n",
        "  for i in models:\n",
        "    i=widgets.Checkbox(\n",
        "      value=False,\n",
        "      description=str(i),\n",
        "      disabled=False,\n",
        "      indent=False\n",
        "      )\n",
        "    display(i)\n",
        "    new_keys.append(i)\n",
        "  return new_keys"
      ]
    },
    {
      "cell_type": "markdown",
      "metadata": {
        "id": "A1B_8Nsw9-1Q"
      },
      "source": [
        "#Starting"
      ]
    },
    {
      "cell_type": "code",
      "execution_count": 13,
      "metadata": {
        "id": "M0AmIUwSmLfj"
      },
      "outputs": [],
      "source": [
        "import numpy as np\n",
        "import pandas as pd\n",
        "#dataset=pd.read_excel(\"/content/drive/MyDrive/EEG_CNU_Activity Recognition/EEG_CNU_Resting, walking, working and Reading_Control_2022.12.30_1.xlsx\")\n",
        "dataset=pd.read_excel(\"/content/drive/MyDrive/Iqram Sir/EEG_CNU_Resting, walking, working and Reading_Control_2022.12.30_1.xlsx\")\n",
        "\n",
        "target = \"Activity\"\n",
        "result = {}"
      ]
    },
    {
      "cell_type": "code",
      "execution_count": 14,
      "metadata": {
        "colab": {
          "base_uri": "https://localhost:8080/",
          "height": 0
        },
        "id": "4YN_C8yxm1ho",
        "outputId": "35badc1f-4357-4a40-e590-d005f748170f"
      },
      "outputs": [
        {
          "output_type": "execute_result",
          "data": {
            "text/plain": [
              "  Activity   Status  Epoch  MeanP_Alpha_Fz  MeanP_Beta_Fz  MeanP_Theta_Fz  \\\n",
              "0  Resting  Control      0        0.000008       0.000017        0.000008   \n",
              "1  Resting  Control      1        0.000010       0.000023        0.000009   \n",
              "2  Resting  Control      2        0.000008       0.000023        0.000006   \n",
              "3  Resting  Control      3        0.000011       0.000019        0.000010   \n",
              "4  Resting  Control      4        0.000007       0.000010        0.000007   \n",
              "\n",
              "   MeanP_Delta_Fz  MeanP_Gamma_Fz  MeanP_Alpha_T7  MeanP_Beta_T7  ...  \\\n",
              "0        0.000037        0.000006        0.000015       0.000047  ...   \n",
              "1        0.000064        0.000008        0.000022       0.000059  ...   \n",
              "2        0.000019        0.000007        0.000018       0.000065  ...   \n",
              "3        0.000029        0.000006        0.000012       0.000038  ...   \n",
              "4        0.000010        0.000002        0.000013       0.000028  ...   \n",
              "\n",
              "   pdBSI_gamma_T   pdBSI_T        DAR       DTR     DTABR  \\\n",
              "0       0.459030  0.214583  12.438393  5.539580  5.283557   \n",
              "1       0.330678  0.153688   8.122782  5.075034  3.541553   \n",
              "2       0.401001  0.197538   7.248717  4.694718  2.869184   \n",
              "3       0.395906  0.157050   8.925147  4.484127  4.446999   \n",
              "4       0.430493  0.155118  13.888878  5.672066  6.891941   \n",
              "\n",
              "   Relative Power_Alpha_Global  Relative Power_Beta_Global  \\\n",
              "0                     0.358154                    0.639771   \n",
              "1                     0.457695                    0.806208   \n",
              "2                     0.501419                    1.059244   \n",
              "3                     0.497909                    0.710690   \n",
              "4                     0.429825                    0.569204   \n",
              "\n",
              "   Relative Power_Theta_Global  Relative Power_Delta_Global  \\\n",
              "0                     0.749628                     4.031903   \n",
              "1                     0.723662                     3.759249   \n",
              "2                     0.737332                     3.320235   \n",
              "3                     0.907816                     3.653423   \n",
              "4                     0.849345                     4.001597   \n",
              "\n",
              "   Relative Power_Gamma_Global  \n",
              "0                     0.220545  \n",
              "1                     0.253186  \n",
              "2                     0.381769  \n",
              "3                     0.230162  \n",
              "4                     0.150029  \n",
              "\n",
              "[5 rows x 89 columns]"
            ],
            "text/html": [
              "\n",
              "  <div id=\"df-e4901a53-599c-4a57-bf99-5252b3b56b90\">\n",
              "    <div class=\"colab-df-container\">\n",
              "      <div>\n",
              "<style scoped>\n",
              "    .dataframe tbody tr th:only-of-type {\n",
              "        vertical-align: middle;\n",
              "    }\n",
              "\n",
              "    .dataframe tbody tr th {\n",
              "        vertical-align: top;\n",
              "    }\n",
              "\n",
              "    .dataframe thead th {\n",
              "        text-align: right;\n",
              "    }\n",
              "</style>\n",
              "<table border=\"1\" class=\"dataframe\">\n",
              "  <thead>\n",
              "    <tr style=\"text-align: right;\">\n",
              "      <th></th>\n",
              "      <th>Activity</th>\n",
              "      <th>Status</th>\n",
              "      <th>Epoch</th>\n",
              "      <th>MeanP_Alpha_Fz</th>\n",
              "      <th>MeanP_Beta_Fz</th>\n",
              "      <th>MeanP_Theta_Fz</th>\n",
              "      <th>MeanP_Delta_Fz</th>\n",
              "      <th>MeanP_Gamma_Fz</th>\n",
              "      <th>MeanP_Alpha_T7</th>\n",
              "      <th>MeanP_Beta_T7</th>\n",
              "      <th>...</th>\n",
              "      <th>pdBSI_gamma_T</th>\n",
              "      <th>pdBSI_T</th>\n",
              "      <th>DAR</th>\n",
              "      <th>DTR</th>\n",
              "      <th>DTABR</th>\n",
              "      <th>Relative Power_Alpha_Global</th>\n",
              "      <th>Relative Power_Beta_Global</th>\n",
              "      <th>Relative Power_Theta_Global</th>\n",
              "      <th>Relative Power_Delta_Global</th>\n",
              "      <th>Relative Power_Gamma_Global</th>\n",
              "    </tr>\n",
              "  </thead>\n",
              "  <tbody>\n",
              "    <tr>\n",
              "      <th>0</th>\n",
              "      <td>Resting</td>\n",
              "      <td>Control</td>\n",
              "      <td>0</td>\n",
              "      <td>0.000008</td>\n",
              "      <td>0.000017</td>\n",
              "      <td>0.000008</td>\n",
              "      <td>0.000037</td>\n",
              "      <td>0.000006</td>\n",
              "      <td>0.000015</td>\n",
              "      <td>0.000047</td>\n",
              "      <td>...</td>\n",
              "      <td>0.459030</td>\n",
              "      <td>0.214583</td>\n",
              "      <td>12.438393</td>\n",
              "      <td>5.539580</td>\n",
              "      <td>5.283557</td>\n",
              "      <td>0.358154</td>\n",
              "      <td>0.639771</td>\n",
              "      <td>0.749628</td>\n",
              "      <td>4.031903</td>\n",
              "      <td>0.220545</td>\n",
              "    </tr>\n",
              "    <tr>\n",
              "      <th>1</th>\n",
              "      <td>Resting</td>\n",
              "      <td>Control</td>\n",
              "      <td>1</td>\n",
              "      <td>0.000010</td>\n",
              "      <td>0.000023</td>\n",
              "      <td>0.000009</td>\n",
              "      <td>0.000064</td>\n",
              "      <td>0.000008</td>\n",
              "      <td>0.000022</td>\n",
              "      <td>0.000059</td>\n",
              "      <td>...</td>\n",
              "      <td>0.330678</td>\n",
              "      <td>0.153688</td>\n",
              "      <td>8.122782</td>\n",
              "      <td>5.075034</td>\n",
              "      <td>3.541553</td>\n",
              "      <td>0.457695</td>\n",
              "      <td>0.806208</td>\n",
              "      <td>0.723662</td>\n",
              "      <td>3.759249</td>\n",
              "      <td>0.253186</td>\n",
              "    </tr>\n",
              "    <tr>\n",
              "      <th>2</th>\n",
              "      <td>Resting</td>\n",
              "      <td>Control</td>\n",
              "      <td>2</td>\n",
              "      <td>0.000008</td>\n",
              "      <td>0.000023</td>\n",
              "      <td>0.000006</td>\n",
              "      <td>0.000019</td>\n",
              "      <td>0.000007</td>\n",
              "      <td>0.000018</td>\n",
              "      <td>0.000065</td>\n",
              "      <td>...</td>\n",
              "      <td>0.401001</td>\n",
              "      <td>0.197538</td>\n",
              "      <td>7.248717</td>\n",
              "      <td>4.694718</td>\n",
              "      <td>2.869184</td>\n",
              "      <td>0.501419</td>\n",
              "      <td>1.059244</td>\n",
              "      <td>0.737332</td>\n",
              "      <td>3.320235</td>\n",
              "      <td>0.381769</td>\n",
              "    </tr>\n",
              "    <tr>\n",
              "      <th>3</th>\n",
              "      <td>Resting</td>\n",
              "      <td>Control</td>\n",
              "      <td>3</td>\n",
              "      <td>0.000011</td>\n",
              "      <td>0.000019</td>\n",
              "      <td>0.000010</td>\n",
              "      <td>0.000029</td>\n",
              "      <td>0.000006</td>\n",
              "      <td>0.000012</td>\n",
              "      <td>0.000038</td>\n",
              "      <td>...</td>\n",
              "      <td>0.395906</td>\n",
              "      <td>0.157050</td>\n",
              "      <td>8.925147</td>\n",
              "      <td>4.484127</td>\n",
              "      <td>4.446999</td>\n",
              "      <td>0.497909</td>\n",
              "      <td>0.710690</td>\n",
              "      <td>0.907816</td>\n",
              "      <td>3.653423</td>\n",
              "      <td>0.230162</td>\n",
              "    </tr>\n",
              "    <tr>\n",
              "      <th>4</th>\n",
              "      <td>Resting</td>\n",
              "      <td>Control</td>\n",
              "      <td>4</td>\n",
              "      <td>0.000007</td>\n",
              "      <td>0.000010</td>\n",
              "      <td>0.000007</td>\n",
              "      <td>0.000010</td>\n",
              "      <td>0.000002</td>\n",
              "      <td>0.000013</td>\n",
              "      <td>0.000028</td>\n",
              "      <td>...</td>\n",
              "      <td>0.430493</td>\n",
              "      <td>0.155118</td>\n",
              "      <td>13.888878</td>\n",
              "      <td>5.672066</td>\n",
              "      <td>6.891941</td>\n",
              "      <td>0.429825</td>\n",
              "      <td>0.569204</td>\n",
              "      <td>0.849345</td>\n",
              "      <td>4.001597</td>\n",
              "      <td>0.150029</td>\n",
              "    </tr>\n",
              "  </tbody>\n",
              "</table>\n",
              "<p>5 rows × 89 columns</p>\n",
              "</div>\n",
              "      <button class=\"colab-df-convert\" onclick=\"convertToInteractive('df-e4901a53-599c-4a57-bf99-5252b3b56b90')\"\n",
              "              title=\"Convert this dataframe to an interactive table.\"\n",
              "              style=\"display:none;\">\n",
              "        \n",
              "  <svg xmlns=\"http://www.w3.org/2000/svg\" height=\"24px\"viewBox=\"0 0 24 24\"\n",
              "       width=\"24px\">\n",
              "    <path d=\"M0 0h24v24H0V0z\" fill=\"none\"/>\n",
              "    <path d=\"M18.56 5.44l.94 2.06.94-2.06 2.06-.94-2.06-.94-.94-2.06-.94 2.06-2.06.94zm-11 1L8.5 8.5l.94-2.06 2.06-.94-2.06-.94L8.5 2.5l-.94 2.06-2.06.94zm10 10l.94 2.06.94-2.06 2.06-.94-2.06-.94-.94-2.06-.94 2.06-2.06.94z\"/><path d=\"M17.41 7.96l-1.37-1.37c-.4-.4-.92-.59-1.43-.59-.52 0-1.04.2-1.43.59L10.3 9.45l-7.72 7.72c-.78.78-.78 2.05 0 2.83L4 21.41c.39.39.9.59 1.41.59.51 0 1.02-.2 1.41-.59l7.78-7.78 2.81-2.81c.8-.78.8-2.07 0-2.86zM5.41 20L4 18.59l7.72-7.72 1.47 1.35L5.41 20z\"/>\n",
              "  </svg>\n",
              "      </button>\n",
              "      \n",
              "  <style>\n",
              "    .colab-df-container {\n",
              "      display:flex;\n",
              "      flex-wrap:wrap;\n",
              "      gap: 12px;\n",
              "    }\n",
              "\n",
              "    .colab-df-convert {\n",
              "      background-color: #E8F0FE;\n",
              "      border: none;\n",
              "      border-radius: 50%;\n",
              "      cursor: pointer;\n",
              "      display: none;\n",
              "      fill: #1967D2;\n",
              "      height: 32px;\n",
              "      padding: 0 0 0 0;\n",
              "      width: 32px;\n",
              "    }\n",
              "\n",
              "    .colab-df-convert:hover {\n",
              "      background-color: #E2EBFA;\n",
              "      box-shadow: 0px 1px 2px rgba(60, 64, 67, 0.3), 0px 1px 3px 1px rgba(60, 64, 67, 0.15);\n",
              "      fill: #174EA6;\n",
              "    }\n",
              "\n",
              "    [theme=dark] .colab-df-convert {\n",
              "      background-color: #3B4455;\n",
              "      fill: #D2E3FC;\n",
              "    }\n",
              "\n",
              "    [theme=dark] .colab-df-convert:hover {\n",
              "      background-color: #434B5C;\n",
              "      box-shadow: 0px 1px 3px 1px rgba(0, 0, 0, 0.15);\n",
              "      filter: drop-shadow(0px 1px 2px rgba(0, 0, 0, 0.3));\n",
              "      fill: #FFFFFF;\n",
              "    }\n",
              "  </style>\n",
              "\n",
              "      <script>\n",
              "        const buttonEl =\n",
              "          document.querySelector('#df-e4901a53-599c-4a57-bf99-5252b3b56b90 button.colab-df-convert');\n",
              "        buttonEl.style.display =\n",
              "          google.colab.kernel.accessAllowed ? 'block' : 'none';\n",
              "\n",
              "        async function convertToInteractive(key) {\n",
              "          const element = document.querySelector('#df-e4901a53-599c-4a57-bf99-5252b3b56b90');\n",
              "          const dataTable =\n",
              "            await google.colab.kernel.invokeFunction('convertToInteractive',\n",
              "                                                     [key], {});\n",
              "          if (!dataTable) return;\n",
              "\n",
              "          const docLinkHtml = 'Like what you see? Visit the ' +\n",
              "            '<a target=\"_blank\" href=https://colab.research.google.com/notebooks/data_table.ipynb>data table notebook</a>'\n",
              "            + ' to learn more about interactive tables.';\n",
              "          element.innerHTML = '';\n",
              "          dataTable['output_type'] = 'display_data';\n",
              "          await google.colab.output.renderOutput(dataTable, element);\n",
              "          const docLink = document.createElement('div');\n",
              "          docLink.innerHTML = docLinkHtml;\n",
              "          element.appendChild(docLink);\n",
              "        }\n",
              "      </script>\n",
              "    </div>\n",
              "  </div>\n",
              "  "
            ]
          },
          "metadata": {},
          "execution_count": 14
        }
      ],
      "source": [
        "dataset.head()"
      ]
    },
    {
      "cell_type": "code",
      "execution_count": 15,
      "metadata": {
        "colab": {
          "base_uri": "https://localhost:8080/"
        },
        "id": "0SDC0qL01iJd",
        "outputId": "d1c76aae-4d04-408c-c1d7-155cc1ac8fb1"
      },
      "outputs": [
        {
          "output_type": "execute_result",
          "data": {
            "text/plain": [
              "(1711, 89)"
            ]
          },
          "metadata": {},
          "execution_count": 15
        }
      ],
      "source": [
        "dataset.shape"
      ]
    },
    {
      "cell_type": "code",
      "execution_count": 16,
      "metadata": {
        "colab": {
          "base_uri": "https://localhost:8080/"
        },
        "id": "NicZ_GzN1mTL",
        "outputId": "2353c107-e601-405b-b990-973dac212ba8"
      },
      "outputs": [
        {
          "output_type": "execute_result",
          "data": {
            "text/plain": [
              "Reading    793\n",
              "Walking    408\n",
              "Working    267\n",
              "Resting    243\n",
              "Name: Activity, dtype: int64"
            ]
          },
          "metadata": {},
          "execution_count": 16
        }
      ],
      "source": [
        "dataset[target].value_counts()"
      ]
    },
    {
      "cell_type": "code",
      "execution_count": 17,
      "metadata": {
        "colab": {
          "base_uri": "https://localhost:8080/"
        },
        "id": "VS4iUbnyYaDH",
        "outputId": "4936b135-6300-443f-f661-1dab686d09fd"
      },
      "outputs": [
        {
          "output_type": "execute_result",
          "data": {
            "text/plain": [
              "{'Reading', 'Resting', 'Walking', 'Working'}"
            ]
          },
          "metadata": {},
          "execution_count": 17
        }
      ],
      "source": [
        "set(list(dataset['Activity']))"
      ]
    },
    {
      "cell_type": "code",
      "execution_count": 18,
      "metadata": {
        "id": "Ljyj9yuIf-tX"
      },
      "outputs": [],
      "source": [
        "from sklearn.preprocessing import LabelEncoder\n",
        "encoder=LabelEncoder()\n",
        "dataset[target]=encoder.fit_transform(dataset[target])"
      ]
    },
    {
      "cell_type": "code",
      "execution_count": 19,
      "metadata": {
        "colab": {
          "base_uri": "https://localhost:8080/"
        },
        "id": "42si00q3SLh5",
        "outputId": "5d10205a-99ad-4acd-8ae2-8901e28a43cf"
      },
      "outputs": [
        {
          "output_type": "execute_result",
          "data": {
            "text/plain": [
              "{0, 1, 2, 3}"
            ]
          },
          "metadata": {},
          "execution_count": 19
        }
      ],
      "source": [
        "set(list(dataset['Activity']))"
      ]
    },
    {
      "cell_type": "markdown",
      "metadata": {
        "id": "TXMKr8bi2JnW"
      },
      "source": [
        "###Spliting into X and y"
      ]
    },
    {
      "cell_type": "code",
      "execution_count": 20,
      "metadata": {
        "colab": {
          "base_uri": "https://localhost:8080/",
          "height": 0
        },
        "id": "tIf-rcIB11o1",
        "outputId": "515bbc3f-36cd-4cb6-abf5-1c31d76217cf"
      },
      "outputs": [
        {
          "output_type": "execute_result",
          "data": {
            "text/plain": [
              "   MeanP_Alpha_Fz  MeanP_Beta_Fz  MeanP_Theta_Fz  MeanP_Delta_Fz  \\\n",
              "0        0.000008       0.000017        0.000008        0.000037   \n",
              "1        0.000010       0.000023        0.000009        0.000064   \n",
              "2        0.000008       0.000023        0.000006        0.000019   \n",
              "3        0.000011       0.000019        0.000010        0.000029   \n",
              "4        0.000007       0.000010        0.000007        0.000010   \n",
              "5        0.000008       0.000010        0.000007        0.000019   \n",
              "6        0.000005       0.000007        0.000005        0.000013   \n",
              "7        0.000005       0.000007        0.000006        0.000023   \n",
              "8        0.000006       0.000009        0.000006        0.000012   \n",
              "9        0.000014       0.000021        0.000015        0.000021   \n",
              "\n",
              "   MeanP_Gamma_Fz  MeanP_Alpha_T7  MeanP_Beta_T7  MeanP_Theta_T7  \\\n",
              "0        0.000006        0.000015       0.000047        0.000016   \n",
              "1        0.000008        0.000022       0.000059        0.000017   \n",
              "2        0.000007        0.000018       0.000065        0.000016   \n",
              "3        0.000006        0.000012       0.000038        0.000012   \n",
              "4        0.000002        0.000013       0.000028        0.000024   \n",
              "5        0.000002        0.000013       0.000031        0.000019   \n",
              "6        0.000002        0.000011       0.000018        0.000024   \n",
              "7        0.000002        0.000008       0.000022        0.000011   \n",
              "8        0.000002        0.000018       0.000032        0.000028   \n",
              "9        0.000004        0.000009       0.000020        0.000010   \n",
              "\n",
              "   MeanP_Delta_T7  MeanP_Gamma_T7  ...  pdBSI_gamma_T   pdBSI_T        DAR  \\\n",
              "0        0.000094        0.000019  ...       0.459030  0.214583  12.438393   \n",
              "1        0.000150        0.000021  ...       0.330678  0.153688   8.122782   \n",
              "2        0.000075        0.000028  ...       0.401001  0.197538   7.248717   \n",
              "3        0.000120        0.000014  ...       0.395906  0.157050   8.925147   \n",
              "4        0.000170        0.000010  ...       0.430493  0.155118  13.888878   \n",
              "5        0.000082        0.000013  ...       0.380013  0.158437   9.159433   \n",
              "6        0.000170        0.000006  ...       0.221696  0.052372   8.562337   \n",
              "7        0.000059        0.000008  ...       0.348357  0.114897   8.628646   \n",
              "8        0.000130        0.000011  ...       0.402960  0.150786  10.083337   \n",
              "9        0.000044        0.000007  ...       0.386707  0.161905   5.262178   \n",
              "\n",
              "        DTR     DTABR  Relative Power_Alpha_Global  \\\n",
              "0  5.539580  5.283557                     0.358154   \n",
              "1  5.075034  3.541553                     0.457695   \n",
              "2  4.694718  2.869184                     0.501419   \n",
              "3  4.484127  4.446999                     0.497909   \n",
              "4  5.672066  6.891941                     0.429825   \n",
              "5  4.909690  4.405570                     0.494096   \n",
              "6  5.475070  4.491270                     0.527217   \n",
              "7  5.287281  3.925721                     0.475599   \n",
              "8  4.565816  5.384672                     0.482293   \n",
              "9  2.699725  3.125619                     0.659929   \n",
              "\n",
              "   Relative Power_Beta_Global  Relative Power_Theta_Global  \\\n",
              "0                    0.639771                     0.749628   \n",
              "1                    0.806208                     0.723662   \n",
              "2                    1.059244                     0.737332   \n",
              "3                    0.710690                     0.907816   \n",
              "4                    0.569204                     0.849345   \n",
              "5                    0.687221                     0.812251   \n",
              "6                    0.668711                     0.770164   \n",
              "7                    0.719244                     0.764508   \n",
              "8                    0.620810                     0.933737   \n",
              "9                    0.855344                     1.188749   \n",
              "\n",
              "   Relative Power_Delta_Global  Relative Power_Gamma_Global  \n",
              "0                     4.031903                     0.220545  \n",
              "1                     3.759249                     0.253186  \n",
              "2                     3.320235                     0.381769  \n",
              "3                     3.653423                     0.230162  \n",
              "4                     4.001597                     0.150029  \n",
              "5                     3.785048                     0.221383  \n",
              "6                     3.853441                     0.180467  \n",
              "7                     3.833454                     0.207195  \n",
              "8                     3.798965                     0.164195  \n",
              "9                     3.079654                     0.216324  \n",
              "\n",
              "[10 rows x 86 columns]"
            ],
            "text/html": [
              "\n",
              "  <div id=\"df-196038ea-94b6-4db5-9459-73ce39ec4b6b\">\n",
              "    <div class=\"colab-df-container\">\n",
              "      <div>\n",
              "<style scoped>\n",
              "    .dataframe tbody tr th:only-of-type {\n",
              "        vertical-align: middle;\n",
              "    }\n",
              "\n",
              "    .dataframe tbody tr th {\n",
              "        vertical-align: top;\n",
              "    }\n",
              "\n",
              "    .dataframe thead th {\n",
              "        text-align: right;\n",
              "    }\n",
              "</style>\n",
              "<table border=\"1\" class=\"dataframe\">\n",
              "  <thead>\n",
              "    <tr style=\"text-align: right;\">\n",
              "      <th></th>\n",
              "      <th>MeanP_Alpha_Fz</th>\n",
              "      <th>MeanP_Beta_Fz</th>\n",
              "      <th>MeanP_Theta_Fz</th>\n",
              "      <th>MeanP_Delta_Fz</th>\n",
              "      <th>MeanP_Gamma_Fz</th>\n",
              "      <th>MeanP_Alpha_T7</th>\n",
              "      <th>MeanP_Beta_T7</th>\n",
              "      <th>MeanP_Theta_T7</th>\n",
              "      <th>MeanP_Delta_T7</th>\n",
              "      <th>MeanP_Gamma_T7</th>\n",
              "      <th>...</th>\n",
              "      <th>pdBSI_gamma_T</th>\n",
              "      <th>pdBSI_T</th>\n",
              "      <th>DAR</th>\n",
              "      <th>DTR</th>\n",
              "      <th>DTABR</th>\n",
              "      <th>Relative Power_Alpha_Global</th>\n",
              "      <th>Relative Power_Beta_Global</th>\n",
              "      <th>Relative Power_Theta_Global</th>\n",
              "      <th>Relative Power_Delta_Global</th>\n",
              "      <th>Relative Power_Gamma_Global</th>\n",
              "    </tr>\n",
              "  </thead>\n",
              "  <tbody>\n",
              "    <tr>\n",
              "      <th>0</th>\n",
              "      <td>0.000008</td>\n",
              "      <td>0.000017</td>\n",
              "      <td>0.000008</td>\n",
              "      <td>0.000037</td>\n",
              "      <td>0.000006</td>\n",
              "      <td>0.000015</td>\n",
              "      <td>0.000047</td>\n",
              "      <td>0.000016</td>\n",
              "      <td>0.000094</td>\n",
              "      <td>0.000019</td>\n",
              "      <td>...</td>\n",
              "      <td>0.459030</td>\n",
              "      <td>0.214583</td>\n",
              "      <td>12.438393</td>\n",
              "      <td>5.539580</td>\n",
              "      <td>5.283557</td>\n",
              "      <td>0.358154</td>\n",
              "      <td>0.639771</td>\n",
              "      <td>0.749628</td>\n",
              "      <td>4.031903</td>\n",
              "      <td>0.220545</td>\n",
              "    </tr>\n",
              "    <tr>\n",
              "      <th>1</th>\n",
              "      <td>0.000010</td>\n",
              "      <td>0.000023</td>\n",
              "      <td>0.000009</td>\n",
              "      <td>0.000064</td>\n",
              "      <td>0.000008</td>\n",
              "      <td>0.000022</td>\n",
              "      <td>0.000059</td>\n",
              "      <td>0.000017</td>\n",
              "      <td>0.000150</td>\n",
              "      <td>0.000021</td>\n",
              "      <td>...</td>\n",
              "      <td>0.330678</td>\n",
              "      <td>0.153688</td>\n",
              "      <td>8.122782</td>\n",
              "      <td>5.075034</td>\n",
              "      <td>3.541553</td>\n",
              "      <td>0.457695</td>\n",
              "      <td>0.806208</td>\n",
              "      <td>0.723662</td>\n",
              "      <td>3.759249</td>\n",
              "      <td>0.253186</td>\n",
              "    </tr>\n",
              "    <tr>\n",
              "      <th>2</th>\n",
              "      <td>0.000008</td>\n",
              "      <td>0.000023</td>\n",
              "      <td>0.000006</td>\n",
              "      <td>0.000019</td>\n",
              "      <td>0.000007</td>\n",
              "      <td>0.000018</td>\n",
              "      <td>0.000065</td>\n",
              "      <td>0.000016</td>\n",
              "      <td>0.000075</td>\n",
              "      <td>0.000028</td>\n",
              "      <td>...</td>\n",
              "      <td>0.401001</td>\n",
              "      <td>0.197538</td>\n",
              "      <td>7.248717</td>\n",
              "      <td>4.694718</td>\n",
              "      <td>2.869184</td>\n",
              "      <td>0.501419</td>\n",
              "      <td>1.059244</td>\n",
              "      <td>0.737332</td>\n",
              "      <td>3.320235</td>\n",
              "      <td>0.381769</td>\n",
              "    </tr>\n",
              "    <tr>\n",
              "      <th>3</th>\n",
              "      <td>0.000011</td>\n",
              "      <td>0.000019</td>\n",
              "      <td>0.000010</td>\n",
              "      <td>0.000029</td>\n",
              "      <td>0.000006</td>\n",
              "      <td>0.000012</td>\n",
              "      <td>0.000038</td>\n",
              "      <td>0.000012</td>\n",
              "      <td>0.000120</td>\n",
              "      <td>0.000014</td>\n",
              "      <td>...</td>\n",
              "      <td>0.395906</td>\n",
              "      <td>0.157050</td>\n",
              "      <td>8.925147</td>\n",
              "      <td>4.484127</td>\n",
              "      <td>4.446999</td>\n",
              "      <td>0.497909</td>\n",
              "      <td>0.710690</td>\n",
              "      <td>0.907816</td>\n",
              "      <td>3.653423</td>\n",
              "      <td>0.230162</td>\n",
              "    </tr>\n",
              "    <tr>\n",
              "      <th>4</th>\n",
              "      <td>0.000007</td>\n",
              "      <td>0.000010</td>\n",
              "      <td>0.000007</td>\n",
              "      <td>0.000010</td>\n",
              "      <td>0.000002</td>\n",
              "      <td>0.000013</td>\n",
              "      <td>0.000028</td>\n",
              "      <td>0.000024</td>\n",
              "      <td>0.000170</td>\n",
              "      <td>0.000010</td>\n",
              "      <td>...</td>\n",
              "      <td>0.430493</td>\n",
              "      <td>0.155118</td>\n",
              "      <td>13.888878</td>\n",
              "      <td>5.672066</td>\n",
              "      <td>6.891941</td>\n",
              "      <td>0.429825</td>\n",
              "      <td>0.569204</td>\n",
              "      <td>0.849345</td>\n",
              "      <td>4.001597</td>\n",
              "      <td>0.150029</td>\n",
              "    </tr>\n",
              "    <tr>\n",
              "      <th>5</th>\n",
              "      <td>0.000008</td>\n",
              "      <td>0.000010</td>\n",
              "      <td>0.000007</td>\n",
              "      <td>0.000019</td>\n",
              "      <td>0.000002</td>\n",
              "      <td>0.000013</td>\n",
              "      <td>0.000031</td>\n",
              "      <td>0.000019</td>\n",
              "      <td>0.000082</td>\n",
              "      <td>0.000013</td>\n",
              "      <td>...</td>\n",
              "      <td>0.380013</td>\n",
              "      <td>0.158437</td>\n",
              "      <td>9.159433</td>\n",
              "      <td>4.909690</td>\n",
              "      <td>4.405570</td>\n",
              "      <td>0.494096</td>\n",
              "      <td>0.687221</td>\n",
              "      <td>0.812251</td>\n",
              "      <td>3.785048</td>\n",
              "      <td>0.221383</td>\n",
              "    </tr>\n",
              "    <tr>\n",
              "      <th>6</th>\n",
              "      <td>0.000005</td>\n",
              "      <td>0.000007</td>\n",
              "      <td>0.000005</td>\n",
              "      <td>0.000013</td>\n",
              "      <td>0.000002</td>\n",
              "      <td>0.000011</td>\n",
              "      <td>0.000018</td>\n",
              "      <td>0.000024</td>\n",
              "      <td>0.000170</td>\n",
              "      <td>0.000006</td>\n",
              "      <td>...</td>\n",
              "      <td>0.221696</td>\n",
              "      <td>0.052372</td>\n",
              "      <td>8.562337</td>\n",
              "      <td>5.475070</td>\n",
              "      <td>4.491270</td>\n",
              "      <td>0.527217</td>\n",
              "      <td>0.668711</td>\n",
              "      <td>0.770164</td>\n",
              "      <td>3.853441</td>\n",
              "      <td>0.180467</td>\n",
              "    </tr>\n",
              "    <tr>\n",
              "      <th>7</th>\n",
              "      <td>0.000005</td>\n",
              "      <td>0.000007</td>\n",
              "      <td>0.000006</td>\n",
              "      <td>0.000023</td>\n",
              "      <td>0.000002</td>\n",
              "      <td>0.000008</td>\n",
              "      <td>0.000022</td>\n",
              "      <td>0.000011</td>\n",
              "      <td>0.000059</td>\n",
              "      <td>0.000008</td>\n",
              "      <td>...</td>\n",
              "      <td>0.348357</td>\n",
              "      <td>0.114897</td>\n",
              "      <td>8.628646</td>\n",
              "      <td>5.287281</td>\n",
              "      <td>3.925721</td>\n",
              "      <td>0.475599</td>\n",
              "      <td>0.719244</td>\n",
              "      <td>0.764508</td>\n",
              "      <td>3.833454</td>\n",
              "      <td>0.207195</td>\n",
              "    </tr>\n",
              "    <tr>\n",
              "      <th>8</th>\n",
              "      <td>0.000006</td>\n",
              "      <td>0.000009</td>\n",
              "      <td>0.000006</td>\n",
              "      <td>0.000012</td>\n",
              "      <td>0.000002</td>\n",
              "      <td>0.000018</td>\n",
              "      <td>0.000032</td>\n",
              "      <td>0.000028</td>\n",
              "      <td>0.000130</td>\n",
              "      <td>0.000011</td>\n",
              "      <td>...</td>\n",
              "      <td>0.402960</td>\n",
              "      <td>0.150786</td>\n",
              "      <td>10.083337</td>\n",
              "      <td>4.565816</td>\n",
              "      <td>5.384672</td>\n",
              "      <td>0.482293</td>\n",
              "      <td>0.620810</td>\n",
              "      <td>0.933737</td>\n",
              "      <td>3.798965</td>\n",
              "      <td>0.164195</td>\n",
              "    </tr>\n",
              "    <tr>\n",
              "      <th>9</th>\n",
              "      <td>0.000014</td>\n",
              "      <td>0.000021</td>\n",
              "      <td>0.000015</td>\n",
              "      <td>0.000021</td>\n",
              "      <td>0.000004</td>\n",
              "      <td>0.000009</td>\n",
              "      <td>0.000020</td>\n",
              "      <td>0.000010</td>\n",
              "      <td>0.000044</td>\n",
              "      <td>0.000007</td>\n",
              "      <td>...</td>\n",
              "      <td>0.386707</td>\n",
              "      <td>0.161905</td>\n",
              "      <td>5.262178</td>\n",
              "      <td>2.699725</td>\n",
              "      <td>3.125619</td>\n",
              "      <td>0.659929</td>\n",
              "      <td>0.855344</td>\n",
              "      <td>1.188749</td>\n",
              "      <td>3.079654</td>\n",
              "      <td>0.216324</td>\n",
              "    </tr>\n",
              "  </tbody>\n",
              "</table>\n",
              "<p>10 rows × 86 columns</p>\n",
              "</div>\n",
              "      <button class=\"colab-df-convert\" onclick=\"convertToInteractive('df-196038ea-94b6-4db5-9459-73ce39ec4b6b')\"\n",
              "              title=\"Convert this dataframe to an interactive table.\"\n",
              "              style=\"display:none;\">\n",
              "        \n",
              "  <svg xmlns=\"http://www.w3.org/2000/svg\" height=\"24px\"viewBox=\"0 0 24 24\"\n",
              "       width=\"24px\">\n",
              "    <path d=\"M0 0h24v24H0V0z\" fill=\"none\"/>\n",
              "    <path d=\"M18.56 5.44l.94 2.06.94-2.06 2.06-.94-2.06-.94-.94-2.06-.94 2.06-2.06.94zm-11 1L8.5 8.5l.94-2.06 2.06-.94-2.06-.94L8.5 2.5l-.94 2.06-2.06.94zm10 10l.94 2.06.94-2.06 2.06-.94-2.06-.94-.94-2.06-.94 2.06-2.06.94z\"/><path d=\"M17.41 7.96l-1.37-1.37c-.4-.4-.92-.59-1.43-.59-.52 0-1.04.2-1.43.59L10.3 9.45l-7.72 7.72c-.78.78-.78 2.05 0 2.83L4 21.41c.39.39.9.59 1.41.59.51 0 1.02-.2 1.41-.59l7.78-7.78 2.81-2.81c.8-.78.8-2.07 0-2.86zM5.41 20L4 18.59l7.72-7.72 1.47 1.35L5.41 20z\"/>\n",
              "  </svg>\n",
              "      </button>\n",
              "      \n",
              "  <style>\n",
              "    .colab-df-container {\n",
              "      display:flex;\n",
              "      flex-wrap:wrap;\n",
              "      gap: 12px;\n",
              "    }\n",
              "\n",
              "    .colab-df-convert {\n",
              "      background-color: #E8F0FE;\n",
              "      border: none;\n",
              "      border-radius: 50%;\n",
              "      cursor: pointer;\n",
              "      display: none;\n",
              "      fill: #1967D2;\n",
              "      height: 32px;\n",
              "      padding: 0 0 0 0;\n",
              "      width: 32px;\n",
              "    }\n",
              "\n",
              "    .colab-df-convert:hover {\n",
              "      background-color: #E2EBFA;\n",
              "      box-shadow: 0px 1px 2px rgba(60, 64, 67, 0.3), 0px 1px 3px 1px rgba(60, 64, 67, 0.15);\n",
              "      fill: #174EA6;\n",
              "    }\n",
              "\n",
              "    [theme=dark] .colab-df-convert {\n",
              "      background-color: #3B4455;\n",
              "      fill: #D2E3FC;\n",
              "    }\n",
              "\n",
              "    [theme=dark] .colab-df-convert:hover {\n",
              "      background-color: #434B5C;\n",
              "      box-shadow: 0px 1px 3px 1px rgba(0, 0, 0, 0.15);\n",
              "      filter: drop-shadow(0px 1px 2px rgba(0, 0, 0, 0.3));\n",
              "      fill: #FFFFFF;\n",
              "    }\n",
              "  </style>\n",
              "\n",
              "      <script>\n",
              "        const buttonEl =\n",
              "          document.querySelector('#df-196038ea-94b6-4db5-9459-73ce39ec4b6b button.colab-df-convert');\n",
              "        buttonEl.style.display =\n",
              "          google.colab.kernel.accessAllowed ? 'block' : 'none';\n",
              "\n",
              "        async function convertToInteractive(key) {\n",
              "          const element = document.querySelector('#df-196038ea-94b6-4db5-9459-73ce39ec4b6b');\n",
              "          const dataTable =\n",
              "            await google.colab.kernel.invokeFunction('convertToInteractive',\n",
              "                                                     [key], {});\n",
              "          if (!dataTable) return;\n",
              "\n",
              "          const docLinkHtml = 'Like what you see? Visit the ' +\n",
              "            '<a target=\"_blank\" href=https://colab.research.google.com/notebooks/data_table.ipynb>data table notebook</a>'\n",
              "            + ' to learn more about interactive tables.';\n",
              "          element.innerHTML = '';\n",
              "          dataTable['output_type'] = 'display_data';\n",
              "          await google.colab.output.renderOutput(dataTable, element);\n",
              "          const docLink = document.createElement('div');\n",
              "          docLink.innerHTML = docLinkHtml;\n",
              "          element.appendChild(docLink);\n",
              "        }\n",
              "      </script>\n",
              "    </div>\n",
              "  </div>\n",
              "  "
            ]
          },
          "metadata": {},
          "execution_count": 20
        }
      ],
      "source": [
        "X =  dataset.loc[:,dataset.columns != target]  # removing Activity \n",
        "X =  X.loc[:,X.columns != \"Status\"]            # removing Status\n",
        "X =  X.loc[:,X.columns != \"Epoch\"]             # removing Epoch\n",
        "y = dataset[\"Activity\"]\n",
        "\n",
        "X.head(10)"
      ]
    },
    {
      "cell_type": "markdown",
      "metadata": {
        "id": "7G108WUM2Di_"
      },
      "source": [
        "###USing SMOTE for balancing"
      ]
    },
    {
      "cell_type": "code",
      "execution_count": 21,
      "metadata": {
        "id": "WvJIm4Co2ApP"
      },
      "outputs": [],
      "source": [
        "new_dataset =  balance(X,y)"
      ]
    },
    {
      "cell_type": "code",
      "execution_count": 22,
      "metadata": {
        "colab": {
          "base_uri": "https://localhost:8080/"
        },
        "id": "wUzLAHJqACBH",
        "outputId": "f3d56583-4e87-4c7c-fe33-b46348a4d676"
      },
      "outputs": [
        {
          "output_type": "execute_result",
          "data": {
            "text/plain": [
              "1    793\n",
              "2    793\n",
              "0    793\n",
              "3    793\n",
              "Name: Activity, dtype: int64"
            ]
          },
          "metadata": {},
          "execution_count": 22
        }
      ],
      "source": [
        "new_dataset[target].value_counts()"
      ]
    },
    {
      "cell_type": "markdown",
      "metadata": {
        "id": "FZLedhGD91Cv"
      },
      "source": [
        "#Feature Selection"
      ]
    },
    {
      "cell_type": "code",
      "execution_count": 23,
      "metadata": {
        "id": "V1m6UgTv92XU"
      },
      "outputs": [],
      "source": [
        "number_of_feat = 30"
      ]
    },
    {
      "cell_type": "markdown",
      "metadata": {
        "id": "XkC7pB1v-Gsp"
      },
      "source": [
        "###ANOVA with f classifciation"
      ]
    },
    {
      "cell_type": "code",
      "execution_count": 24,
      "metadata": {
        "id": "Rafbj3rl-GWZ"
      },
      "outputs": [],
      "source": [
        "from sklearn.datasets import make_classification\n",
        "from sklearn.feature_selection import SelectKBest\n",
        "from sklearn.feature_selection import f_classif\n",
        "import pandas as pd\n",
        "\n",
        "\n",
        "\n",
        "fs = SelectKBest(score_func=f_classif, k=5)\n",
        "fit = fs.fit(X,y)\n",
        "dfscores = pd.DataFrame(fit.scores_)\n",
        "dfcolumns = pd.DataFrame(X.columns)\n",
        "\n",
        "featureScores = pd.concat([dfcolumns,dfscores],axis=1)\n",
        "\n",
        "featureScores.columns = ['Best_columns','Score_ANOVA'] \n",
        "\n",
        "lyst = featureScores.nlargest(number_of_feat,'Score_ANOVA')\n",
        "\n",
        "#lyst.to_csv('Filter_Method_ANOVA_with_f_classif.csv')\n",
        "\n",
        "list_of_feat = list(lyst[\"Best_columns\"])"
      ]
    },
    {
      "cell_type": "markdown",
      "metadata": {
        "id": "xCkHXMQQ-PoJ"
      },
      "source": [
        "###Embedded Method"
      ]
    },
    {
      "cell_type": "code",
      "execution_count": null,
      "metadata": {
        "id": "PZJcRlL7-So6",
        "colab": {
          "base_uri": "https://localhost:8080/"
        },
        "outputId": "24914fef-5d2d-4d55-b751-6126a35ec9bb"
      },
      "outputs": [
        {
          "output_type": "stream",
          "name": "stderr",
          "text": [
            "/usr/local/lib/python3.8/dist-packages/sklearn/linear_model/_coordinate_descent.py:633: ConvergenceWarning:\n",
            "\n",
            "Objective did not converge. You might want to increase the number of iterations. Duality gap: 0.4267169530156707, tolerance: 0.21672448830409385\n",
            "\n",
            "/usr/local/lib/python3.8/dist-packages/sklearn/linear_model/_coordinate_descent.py:633: ConvergenceWarning:\n",
            "\n",
            "Objective did not converge. You might want to increase the number of iterations. Duality gap: 0.5367691825176735, tolerance: 0.21672448830409385\n",
            "\n",
            "/usr/local/lib/python3.8/dist-packages/sklearn/linear_model/_coordinate_descent.py:633: ConvergenceWarning:\n",
            "\n",
            "Objective did not converge. You might want to increase the number of iterations. Duality gap: 0.44178979448417977, tolerance: 0.21672448830409385\n",
            "\n",
            "/usr/local/lib/python3.8/dist-packages/sklearn/linear_model/_coordinate_descent.py:633: ConvergenceWarning:\n",
            "\n",
            "Objective did not converge. You might want to increase the number of iterations. Duality gap: 0.43952068898738617, tolerance: 0.21672448830409385\n",
            "\n",
            "/usr/local/lib/python3.8/dist-packages/sklearn/linear_model/_coordinate_descent.py:633: ConvergenceWarning:\n",
            "\n",
            "Objective did not converge. You might want to increase the number of iterations. Duality gap: 0.46433912886061535, tolerance: 0.21672448830409385\n",
            "\n",
            "/usr/local/lib/python3.8/dist-packages/sklearn/linear_model/_coordinate_descent.py:633: ConvergenceWarning:\n",
            "\n",
            "Objective did not converge. You might want to increase the number of iterations. Duality gap: 0.4989548064010023, tolerance: 0.21672448830409385\n",
            "\n",
            "/usr/local/lib/python3.8/dist-packages/sklearn/linear_model/_coordinate_descent.py:633: ConvergenceWarning:\n",
            "\n",
            "Objective did not converge. You might want to increase the number of iterations. Duality gap: 0.44551548182505485, tolerance: 0.21672448830409385\n",
            "\n",
            "/usr/local/lib/python3.8/dist-packages/sklearn/linear_model/_coordinate_descent.py:633: ConvergenceWarning:\n",
            "\n",
            "Objective did not converge. You might want to increase the number of iterations. Duality gap: 0.43447831353933, tolerance: 0.21672448830409385\n",
            "\n",
            "/usr/local/lib/python3.8/dist-packages/sklearn/linear_model/_coordinate_descent.py:633: ConvergenceWarning:\n",
            "\n",
            "Objective did not converge. You might want to increase the number of iterations. Duality gap: 0.6854571622635603, tolerance: 0.19155865595325047\n",
            "\n",
            "/usr/local/lib/python3.8/dist-packages/sklearn/linear_model/_coordinate_descent.py:633: ConvergenceWarning:\n",
            "\n",
            "Objective did not converge. You might want to increase the number of iterations. Duality gap: 1.6359106571626398, tolerance: 0.19155865595325047\n",
            "\n",
            "/usr/local/lib/python3.8/dist-packages/sklearn/linear_model/_coordinate_descent.py:633: ConvergenceWarning:\n",
            "\n",
            "Objective did not converge. You might want to increase the number of iterations. Duality gap: 3.118580555415747, tolerance: 0.19155865595325047\n",
            "\n",
            "/usr/local/lib/python3.8/dist-packages/sklearn/linear_model/_coordinate_descent.py:633: ConvergenceWarning:\n",
            "\n",
            "Objective did not converge. You might want to increase the number of iterations. Duality gap: 4.035189381130181, tolerance: 0.19155865595325047\n",
            "\n",
            "/usr/local/lib/python3.8/dist-packages/sklearn/linear_model/_coordinate_descent.py:633: ConvergenceWarning:\n",
            "\n",
            "Objective did not converge. You might want to increase the number of iterations. Duality gap: 0.44324843964204774, tolerance: 0.19155865595325047\n",
            "\n",
            "/usr/local/lib/python3.8/dist-packages/sklearn/linear_model/_coordinate_descent.py:633: ConvergenceWarning:\n",
            "\n",
            "Objective did not converge. You might want to increase the number of iterations. Duality gap: 2.320660533885416, tolerance: 0.19155865595325047\n",
            "\n",
            "/usr/local/lib/python3.8/dist-packages/sklearn/linear_model/_coordinate_descent.py:633: ConvergenceWarning:\n",
            "\n",
            "Objective did not converge. You might want to increase the number of iterations. Duality gap: 3.3528893170340552, tolerance: 0.19155865595325047\n",
            "\n",
            "/usr/local/lib/python3.8/dist-packages/sklearn/linear_model/_coordinate_descent.py:633: ConvergenceWarning:\n",
            "\n",
            "Objective did not converge. You might want to increase the number of iterations. Duality gap: 1.0475886722929317, tolerance: 0.19155865595325047\n",
            "\n",
            "/usr/local/lib/python3.8/dist-packages/sklearn/linear_model/_coordinate_descent.py:633: ConvergenceWarning:\n",
            "\n",
            "Objective did not converge. You might want to increase the number of iterations. Duality gap: 1.2859467656206789, tolerance: 0.19155865595325047\n",
            "\n",
            "/usr/local/lib/python3.8/dist-packages/sklearn/linear_model/_coordinate_descent.py:633: ConvergenceWarning:\n",
            "\n",
            "Objective did not converge. You might want to increase the number of iterations. Duality gap: 2.6886040710332963, tolerance: 0.19155865595325047\n",
            "\n",
            "/usr/local/lib/python3.8/dist-packages/sklearn/linear_model/_coordinate_descent.py:633: ConvergenceWarning:\n",
            "\n",
            "Objective did not converge. You might want to increase the number of iterations. Duality gap: 4.998050559647595, tolerance: 0.19155865595325047\n",
            "\n",
            "/usr/local/lib/python3.8/dist-packages/sklearn/linear_model/_coordinate_descent.py:633: ConvergenceWarning:\n",
            "\n",
            "Objective did not converge. You might want to increase the number of iterations. Duality gap: 5.679900168994209, tolerance: 0.19155865595325047\n",
            "\n",
            "/usr/local/lib/python3.8/dist-packages/sklearn/linear_model/_coordinate_descent.py:633: ConvergenceWarning:\n",
            "\n",
            "Objective did not converge. You might want to increase the number of iterations. Duality gap: 5.219082027051854, tolerance: 0.19155865595325047\n",
            "\n",
            "/usr/local/lib/python3.8/dist-packages/sklearn/linear_model/_coordinate_descent.py:633: ConvergenceWarning:\n",
            "\n",
            "Objective did not converge. You might want to increase the number of iterations. Duality gap: 3.039537952752198, tolerance: 0.19155865595325047\n",
            "\n",
            "/usr/local/lib/python3.8/dist-packages/sklearn/linear_model/_coordinate_descent.py:633: ConvergenceWarning:\n",
            "\n",
            "Objective did not converge. You might want to increase the number of iterations. Duality gap: 0.9415427907708818, tolerance: 0.19155865595325047\n",
            "\n",
            "/usr/local/lib/python3.8/dist-packages/sklearn/linear_model/_coordinate_descent.py:633: ConvergenceWarning:\n",
            "\n",
            "Objective did not converge. You might want to increase the number of iterations. Duality gap: 1.002354145654067, tolerance: 0.19155865595325047\n",
            "\n",
            "/usr/local/lib/python3.8/dist-packages/sklearn/linear_model/_coordinate_descent.py:633: ConvergenceWarning:\n",
            "\n",
            "Objective did not converge. You might want to increase the number of iterations. Duality gap: 1.228428024035793, tolerance: 0.19155865595325047\n",
            "\n",
            "/usr/local/lib/python3.8/dist-packages/sklearn/linear_model/_coordinate_descent.py:633: ConvergenceWarning:\n",
            "\n",
            "Objective did not converge. You might want to increase the number of iterations. Duality gap: 1.396283604265136, tolerance: 0.19155865595325047\n",
            "\n",
            "/usr/local/lib/python3.8/dist-packages/sklearn/linear_model/_coordinate_descent.py:633: ConvergenceWarning:\n",
            "\n",
            "Objective did not converge. You might want to increase the number of iterations. Duality gap: 3.8910330314937482, tolerance: 0.19155865595325047\n",
            "\n",
            "/usr/local/lib/python3.8/dist-packages/sklearn/linear_model/_coordinate_descent.py:633: ConvergenceWarning:\n",
            "\n",
            "Objective did not converge. You might want to increase the number of iterations. Duality gap: 7.61956106919331, tolerance: 0.19155865595325047\n",
            "\n",
            "/usr/local/lib/python3.8/dist-packages/sklearn/linear_model/_coordinate_descent.py:633: ConvergenceWarning:\n",
            "\n",
            "Objective did not converge. You might want to increase the number of iterations. Duality gap: 10.399343404807269, tolerance: 0.19155865595325047\n",
            "\n",
            "/usr/local/lib/python3.8/dist-packages/sklearn/linear_model/_coordinate_descent.py:633: ConvergenceWarning:\n",
            "\n",
            "Objective did not converge. You might want to increase the number of iterations. Duality gap: 12.845211129611243, tolerance: 0.19155865595325047\n",
            "\n",
            "/usr/local/lib/python3.8/dist-packages/sklearn/linear_model/_coordinate_descent.py:633: ConvergenceWarning:\n",
            "\n",
            "Objective did not converge. You might want to increase the number of iterations. Duality gap: 1.6412599116704314, tolerance: 0.1750899926953981\n",
            "\n",
            "/usr/local/lib/python3.8/dist-packages/sklearn/linear_model/_coordinate_descent.py:633: ConvergenceWarning:\n",
            "\n",
            "Objective did not converge. You might want to increase the number of iterations. Duality gap: 4.635566985978016, tolerance: 0.1750899926953981\n",
            "\n",
            "/usr/local/lib/python3.8/dist-packages/sklearn/linear_model/_coordinate_descent.py:633: ConvergenceWarning:\n",
            "\n",
            "Objective did not converge. You might want to increase the number of iterations. Duality gap: 1.149978421512742, tolerance: 0.1750899926953981\n",
            "\n",
            "/usr/local/lib/python3.8/dist-packages/sklearn/linear_model/_coordinate_descent.py:633: ConvergenceWarning:\n",
            "\n",
            "Objective did not converge. You might want to increase the number of iterations. Duality gap: 1.0463717673933388, tolerance: 0.1750899926953981\n",
            "\n",
            "/usr/local/lib/python3.8/dist-packages/sklearn/linear_model/_coordinate_descent.py:633: ConvergenceWarning:\n",
            "\n",
            "Objective did not converge. You might want to increase the number of iterations. Duality gap: 1.1249466366007255, tolerance: 0.1750899926953981\n",
            "\n",
            "/usr/local/lib/python3.8/dist-packages/sklearn/linear_model/_coordinate_descent.py:633: ConvergenceWarning:\n",
            "\n",
            "Objective did not converge. You might want to increase the number of iterations. Duality gap: 3.9639174785226032, tolerance: 0.1750899926953981\n",
            "\n",
            "/usr/local/lib/python3.8/dist-packages/sklearn/linear_model/_coordinate_descent.py:633: ConvergenceWarning:\n",
            "\n",
            "Objective did not converge. You might want to increase the number of iterations. Duality gap: 4.128761565914374, tolerance: 0.1750899926953981\n",
            "\n",
            "/usr/local/lib/python3.8/dist-packages/sklearn/linear_model/_coordinate_descent.py:633: ConvergenceWarning:\n",
            "\n",
            "Objective did not converge. You might want to increase the number of iterations. Duality gap: 4.01357223245941, tolerance: 0.1750899926953981\n",
            "\n",
            "/usr/local/lib/python3.8/dist-packages/sklearn/linear_model/_coordinate_descent.py:633: ConvergenceWarning:\n",
            "\n",
            "Objective did not converge. You might want to increase the number of iterations. Duality gap: 3.9125629880059023, tolerance: 0.1750899926953981\n",
            "\n",
            "/usr/local/lib/python3.8/dist-packages/sklearn/linear_model/_coordinate_descent.py:633: ConvergenceWarning:\n",
            "\n",
            "Objective did not converge. You might want to increase the number of iterations. Duality gap: 3.772142571907807, tolerance: 0.1750899926953981\n",
            "\n",
            "/usr/local/lib/python3.8/dist-packages/sklearn/linear_model/_coordinate_descent.py:633: ConvergenceWarning:\n",
            "\n",
            "Objective did not converge. You might want to increase the number of iterations. Duality gap: 3.8057308298861017, tolerance: 0.1750899926953981\n",
            "\n",
            "/usr/local/lib/python3.8/dist-packages/sklearn/linear_model/_coordinate_descent.py:633: ConvergenceWarning:\n",
            "\n",
            "Objective did not converge. You might want to increase the number of iterations. Duality gap: 4.108965049155017, tolerance: 0.1750899926953981\n",
            "\n",
            "/usr/local/lib/python3.8/dist-packages/sklearn/linear_model/_coordinate_descent.py:633: ConvergenceWarning:\n",
            "\n",
            "Objective did not converge. You might want to increase the number of iterations. Duality gap: 4.145962788478869, tolerance: 0.1750899926953981\n",
            "\n",
            "/usr/local/lib/python3.8/dist-packages/sklearn/linear_model/_coordinate_descent.py:633: ConvergenceWarning:\n",
            "\n",
            "Objective did not converge. You might want to increase the number of iterations. Duality gap: 3.8089646126340995, tolerance: 0.1750899926953981\n",
            "\n",
            "/usr/local/lib/python3.8/dist-packages/sklearn/linear_model/_coordinate_descent.py:633: ConvergenceWarning:\n",
            "\n",
            "Objective did not converge. You might want to increase the number of iterations. Duality gap: 3.5272684802470167, tolerance: 0.1750899926953981\n",
            "\n",
            "/usr/local/lib/python3.8/dist-packages/sklearn/linear_model/_coordinate_descent.py:633: ConvergenceWarning:\n",
            "\n",
            "Objective did not converge. You might want to increase the number of iterations. Duality gap: 3.9709261281667523, tolerance: 0.1750899926953981\n",
            "\n",
            "/usr/local/lib/python3.8/dist-packages/sklearn/linear_model/_coordinate_descent.py:633: ConvergenceWarning:\n",
            "\n",
            "Objective did not converge. You might want to increase the number of iterations. Duality gap: 4.522232171109067, tolerance: 0.1750899926953981\n",
            "\n",
            "/usr/local/lib/python3.8/dist-packages/sklearn/linear_model/_coordinate_descent.py:633: ConvergenceWarning:\n",
            "\n",
            "Objective did not converge. You might want to increase the number of iterations. Duality gap: 5.373936113512855, tolerance: 0.1750899926953981\n",
            "\n",
            "/usr/local/lib/python3.8/dist-packages/sklearn/linear_model/_coordinate_descent.py:633: ConvergenceWarning:\n",
            "\n",
            "Objective did not converge. You might want to increase the number of iterations. Duality gap: 6.8200969666474975, tolerance: 0.1750899926953981\n",
            "\n",
            "/usr/local/lib/python3.8/dist-packages/sklearn/linear_model/_coordinate_descent.py:633: ConvergenceWarning:\n",
            "\n",
            "Objective did not converge. You might want to increase the number of iterations. Duality gap: 8.819100593515486, tolerance: 0.1750899926953981\n",
            "\n",
            "/usr/local/lib/python3.8/dist-packages/sklearn/linear_model/_coordinate_descent.py:633: ConvergenceWarning:\n",
            "\n",
            "Objective did not converge. You might want to increase the number of iterations. Duality gap: 9.778754823772601, tolerance: 0.1750899926953981\n",
            "\n",
            "/usr/local/lib/python3.8/dist-packages/sklearn/linear_model/_coordinate_descent.py:633: ConvergenceWarning:\n",
            "\n",
            "Objective did not converge. You might want to increase the number of iterations. Duality gap: 9.548775913541704, tolerance: 0.1750899926953981\n",
            "\n",
            "/usr/local/lib/python3.8/dist-packages/sklearn/linear_model/_coordinate_descent.py:633: ConvergenceWarning:\n",
            "\n",
            "Objective did not converge. You might want to increase the number of iterations. Duality gap: 8.86090235394704, tolerance: 0.1750899926953981\n",
            "\n",
            "/usr/local/lib/python3.8/dist-packages/sklearn/linear_model/_coordinate_descent.py:633: ConvergenceWarning:\n",
            "\n",
            "Objective did not converge. You might want to increase the number of iterations. Duality gap: 8.140180840642529, tolerance: 0.1750899926953981\n",
            "\n",
            "/usr/local/lib/python3.8/dist-packages/sklearn/linear_model/_coordinate_descent.py:633: ConvergenceWarning:\n",
            "\n",
            "Objective did not converge. You might want to increase the number of iterations. Duality gap: 7.644550679078407, tolerance: 0.1750899926953981\n",
            "\n",
            "/usr/local/lib/python3.8/dist-packages/sklearn/linear_model/_coordinate_descent.py:633: ConvergenceWarning:\n",
            "\n",
            "Objective did not converge. You might want to increase the number of iterations. Duality gap: 6.9563886319442645, tolerance: 0.1750899926953981\n",
            "\n",
            "/usr/local/lib/python3.8/dist-packages/sklearn/linear_model/_coordinate_descent.py:633: ConvergenceWarning:\n",
            "\n",
            "Objective did not converge. You might want to increase the number of iterations. Duality gap: 0.21672824403958657, tolerance: 0.1750899926953981\n",
            "\n",
            "/usr/local/lib/python3.8/dist-packages/sklearn/linear_model/_coordinate_descent.py:633: ConvergenceWarning:\n",
            "\n",
            "Objective did not converge. You might want to increase the number of iterations. Duality gap: 0.6587483567900563, tolerance: 0.1750899926953981\n",
            "\n",
            "/usr/local/lib/python3.8/dist-packages/sklearn/linear_model/_coordinate_descent.py:633: ConvergenceWarning:\n",
            "\n",
            "Objective did not converge. You might want to increase the number of iterations. Duality gap: 0.8016907527025978, tolerance: 0.1750899926953981\n",
            "\n",
            "/usr/local/lib/python3.8/dist-packages/sklearn/linear_model/_coordinate_descent.py:633: ConvergenceWarning:\n",
            "\n",
            "Objective did not converge. You might want to increase the number of iterations. Duality gap: 2.2918859110511676, tolerance: 0.1750899926953981\n",
            "\n",
            "/usr/local/lib/python3.8/dist-packages/sklearn/linear_model/_coordinate_descent.py:633: ConvergenceWarning:\n",
            "\n",
            "Objective did not converge. You might want to increase the number of iterations. Duality gap: 3.200606245269455, tolerance: 0.1750899926953981\n",
            "\n",
            "/usr/local/lib/python3.8/dist-packages/sklearn/linear_model/_coordinate_descent.py:633: ConvergenceWarning:\n",
            "\n",
            "Objective did not converge. You might want to increase the number of iterations. Duality gap: 3.712090984429551, tolerance: 0.1750899926953981\n",
            "\n",
            "/usr/local/lib/python3.8/dist-packages/sklearn/linear_model/_coordinate_descent.py:633: ConvergenceWarning:\n",
            "\n",
            "Objective did not converge. You might want to increase the number of iterations. Duality gap: 4.7746353418871195, tolerance: 0.1750899926953981\n",
            "\n",
            "/usr/local/lib/python3.8/dist-packages/sklearn/linear_model/_coordinate_descent.py:633: ConvergenceWarning:\n",
            "\n",
            "Objective did not converge. You might want to increase the number of iterations. Duality gap: 5.462780333756314, tolerance: 0.1750899926953981\n",
            "\n",
            "/usr/local/lib/python3.8/dist-packages/sklearn/linear_model/_coordinate_descent.py:633: ConvergenceWarning:\n",
            "\n",
            "Objective did not converge. You might want to increase the number of iterations. Duality gap: 5.784012395572745, tolerance: 0.1750899926953981\n",
            "\n",
            "/usr/local/lib/python3.8/dist-packages/sklearn/linear_model/_coordinate_descent.py:633: ConvergenceWarning:\n",
            "\n",
            "Objective did not converge. You might want to increase the number of iterations. Duality gap: 5.863789293087962, tolerance: 0.1750899926953981\n",
            "\n",
            "/usr/local/lib/python3.8/dist-packages/sklearn/linear_model/_coordinate_descent.py:633: ConvergenceWarning:\n",
            "\n",
            "Objective did not converge. You might want to increase the number of iterations. Duality gap: 5.428385278902283, tolerance: 0.1750899926953981\n",
            "\n",
            "/usr/local/lib/python3.8/dist-packages/sklearn/linear_model/_coordinate_descent.py:633: ConvergenceWarning:\n",
            "\n",
            "Objective did not converge. You might want to increase the number of iterations. Duality gap: 5.429899369219129, tolerance: 0.1750899926953981\n",
            "\n",
            "/usr/local/lib/python3.8/dist-packages/sklearn/linear_model/_coordinate_descent.py:633: ConvergenceWarning:\n",
            "\n",
            "Objective did not converge. You might want to increase the number of iterations. Duality gap: 6.064596863876886, tolerance: 0.1750899926953981\n",
            "\n",
            "/usr/local/lib/python3.8/dist-packages/sklearn/linear_model/_coordinate_descent.py:633: ConvergenceWarning:\n",
            "\n",
            "Objective did not converge. You might want to increase the number of iterations. Duality gap: 4.503576429383656, tolerance: 0.1750899926953981\n",
            "\n",
            "/usr/local/lib/python3.8/dist-packages/sklearn/linear_model/_coordinate_descent.py:633: ConvergenceWarning:\n",
            "\n",
            "Objective did not converge. You might want to increase the number of iterations. Duality gap: 3.87546807781564, tolerance: 0.1750899926953981\n",
            "\n",
            "/usr/local/lib/python3.8/dist-packages/sklearn/linear_model/_coordinate_descent.py:633: ConvergenceWarning:\n",
            "\n",
            "Objective did not converge. You might want to increase the number of iterations. Duality gap: 3.6660131299462364, tolerance: 0.1750899926953981\n",
            "\n",
            "/usr/local/lib/python3.8/dist-packages/sklearn/linear_model/_coordinate_descent.py:633: ConvergenceWarning:\n",
            "\n",
            "Objective did not converge. You might want to increase the number of iterations. Duality gap: 2.336437450820199, tolerance: 0.1750899926953981\n",
            "\n",
            "/usr/local/lib/python3.8/dist-packages/sklearn/linear_model/_coordinate_descent.py:633: ConvergenceWarning:\n",
            "\n",
            "Objective did not converge. You might want to increase the number of iterations. Duality gap: 1.2145848850275343, tolerance: 0.1750899926953981\n",
            "\n",
            "/usr/local/lib/python3.8/dist-packages/sklearn/linear_model/_coordinate_descent.py:633: ConvergenceWarning:\n",
            "\n",
            "Objective did not converge. You might want to increase the number of iterations. Duality gap: 1.0666533712883393, tolerance: 0.1750899926953981\n",
            "\n",
            "/usr/local/lib/python3.8/dist-packages/sklearn/linear_model/_coordinate_descent.py:633: ConvergenceWarning:\n",
            "\n",
            "Objective did not converge. You might want to increase the number of iterations. Duality gap: 2.053293760534416, tolerance: 0.1750899926953981\n",
            "\n",
            "/usr/local/lib/python3.8/dist-packages/sklearn/linear_model/_coordinate_descent.py:633: ConvergenceWarning:\n",
            "\n",
            "Objective did not converge. You might want to increase the number of iterations. Duality gap: 6.054618481903162, tolerance: 0.1750899926953981\n",
            "\n",
            "/usr/local/lib/python3.8/dist-packages/sklearn/linear_model/_coordinate_descent.py:633: ConvergenceWarning:\n",
            "\n",
            "Objective did not converge. You might want to increase the number of iterations. Duality gap: 9.114466884816352, tolerance: 0.1750899926953981\n",
            "\n",
            "/usr/local/lib/python3.8/dist-packages/sklearn/linear_model/_coordinate_descent.py:633: ConvergenceWarning:\n",
            "\n",
            "Objective did not converge. You might want to increase the number of iterations. Duality gap: 10.448019029321017, tolerance: 0.1750899926953981\n",
            "\n",
            "/usr/local/lib/python3.8/dist-packages/sklearn/linear_model/_coordinate_descent.py:633: ConvergenceWarning:\n",
            "\n",
            "Objective did not converge. You might want to increase the number of iterations. Duality gap: 0.11474914630593958, tolerance: 0.10558027757487208\n",
            "\n",
            "/usr/local/lib/python3.8/dist-packages/sklearn/linear_model/_coordinate_descent.py:633: ConvergenceWarning:\n",
            "\n",
            "Objective did not converge. You might want to increase the number of iterations. Duality gap: 0.19374736821760052, tolerance: 0.10558027757487208\n",
            "\n",
            "/usr/local/lib/python3.8/dist-packages/sklearn/linear_model/_coordinate_descent.py:633: ConvergenceWarning:\n",
            "\n",
            "Objective did not converge. You might want to increase the number of iterations. Duality gap: 0.13494072588798645, tolerance: 0.10558027757487208\n",
            "\n",
            "/usr/local/lib/python3.8/dist-packages/sklearn/linear_model/_coordinate_descent.py:633: ConvergenceWarning:\n",
            "\n",
            "Objective did not converge. You might want to increase the number of iterations. Duality gap: 0.22719690201859066, tolerance: 0.10558027757487208\n",
            "\n",
            "/usr/local/lib/python3.8/dist-packages/sklearn/linear_model/_coordinate_descent.py:633: ConvergenceWarning:\n",
            "\n",
            "Objective did not converge. You might want to increase the number of iterations. Duality gap: 0.19429411930013885, tolerance: 0.10558027757487208\n",
            "\n",
            "/usr/local/lib/python3.8/dist-packages/sklearn/linear_model/_coordinate_descent.py:633: ConvergenceWarning:\n",
            "\n",
            "Objective did not converge. You might want to increase the number of iterations. Duality gap: 0.19050649603673264, tolerance: 0.10558027757487208\n",
            "\n",
            "/usr/local/lib/python3.8/dist-packages/sklearn/linear_model/_coordinate_descent.py:633: ConvergenceWarning:\n",
            "\n",
            "Objective did not converge. You might want to increase the number of iterations. Duality gap: 0.256380345892012, tolerance: 0.10558027757487208\n",
            "\n",
            "/usr/local/lib/python3.8/dist-packages/sklearn/linear_model/_coordinate_descent.py:633: ConvergenceWarning:\n",
            "\n",
            "Objective did not converge. You might want to increase the number of iterations. Duality gap: 0.2911623253594371, tolerance: 0.10558027757487208\n",
            "\n",
            "/usr/local/lib/python3.8/dist-packages/sklearn/linear_model/_coordinate_descent.py:633: ConvergenceWarning:\n",
            "\n",
            "Objective did not converge. You might want to increase the number of iterations. Duality gap: 0.2708546981477866, tolerance: 0.10558027757487208\n",
            "\n",
            "/usr/local/lib/python3.8/dist-packages/sklearn/linear_model/_coordinate_descent.py:633: ConvergenceWarning:\n",
            "\n",
            "Objective did not converge. You might want to increase the number of iterations. Duality gap: 0.2694254374995353, tolerance: 0.10558027757487208\n",
            "\n",
            "/usr/local/lib/python3.8/dist-packages/sklearn/linear_model/_coordinate_descent.py:633: ConvergenceWarning:\n",
            "\n",
            "Objective did not converge. You might want to increase the number of iterations. Duality gap: 0.263341127462013, tolerance: 0.10558027757487208\n",
            "\n",
            "/usr/local/lib/python3.8/dist-packages/sklearn/linear_model/_coordinate_descent.py:633: ConvergenceWarning:\n",
            "\n",
            "Objective did not converge. You might want to increase the number of iterations. Duality gap: 0.2507549959905191, tolerance: 0.10558027757487208\n",
            "\n",
            "/usr/local/lib/python3.8/dist-packages/sklearn/linear_model/_coordinate_descent.py:633: ConvergenceWarning:\n",
            "\n",
            "Objective did not converge. You might want to increase the number of iterations. Duality gap: 0.2520277898437371, tolerance: 0.10558027757487208\n",
            "\n",
            "/usr/local/lib/python3.8/dist-packages/sklearn/linear_model/_coordinate_descent.py:633: ConvergenceWarning:\n",
            "\n",
            "Objective did not converge. You might want to increase the number of iterations. Duality gap: 0.22548068700359636, tolerance: 0.10558027757487208\n",
            "\n",
            "/usr/local/lib/python3.8/dist-packages/sklearn/linear_model/_coordinate_descent.py:633: ConvergenceWarning:\n",
            "\n",
            "Objective did not converge. You might want to increase the number of iterations. Duality gap: 0.2049915101465558, tolerance: 0.10558027757487208\n",
            "\n",
            "/usr/local/lib/python3.8/dist-packages/sklearn/linear_model/_coordinate_descent.py:633: ConvergenceWarning:\n",
            "\n",
            "Objective did not converge. You might want to increase the number of iterations. Duality gap: 0.29015633449625966, tolerance: 0.10558027757487208\n",
            "\n",
            "/usr/local/lib/python3.8/dist-packages/sklearn/linear_model/_coordinate_descent.py:633: ConvergenceWarning:\n",
            "\n",
            "Objective did not converge. You might want to increase the number of iterations. Duality gap: 0.39755466511519444, tolerance: 0.10558027757487208\n",
            "\n",
            "/usr/local/lib/python3.8/dist-packages/sklearn/linear_model/_coordinate_descent.py:633: ConvergenceWarning:\n",
            "\n",
            "Objective did not converge. You might want to increase the number of iterations. Duality gap: 0.48631634941807533, tolerance: 0.10558027757487208\n",
            "\n",
            "/usr/local/lib/python3.8/dist-packages/sklearn/linear_model/_coordinate_descent.py:633: ConvergenceWarning:\n",
            "\n",
            "Objective did not converge. You might want to increase the number of iterations. Duality gap: 0.5372703612974874, tolerance: 0.10558027757487208\n",
            "\n",
            "/usr/local/lib/python3.8/dist-packages/sklearn/linear_model/_coordinate_descent.py:633: ConvergenceWarning:\n",
            "\n",
            "Objective did not converge. You might want to increase the number of iterations. Duality gap: 0.5303664386892706, tolerance: 0.10558027757487208\n",
            "\n",
            "/usr/local/lib/python3.8/dist-packages/sklearn/linear_model/_coordinate_descent.py:633: ConvergenceWarning:\n",
            "\n",
            "Objective did not converge. You might want to increase the number of iterations. Duality gap: 0.4852303203185784, tolerance: 0.10558027757487208\n",
            "\n",
            "/usr/local/lib/python3.8/dist-packages/sklearn/linear_model/_coordinate_descent.py:633: ConvergenceWarning:\n",
            "\n",
            "Objective did not converge. You might want to increase the number of iterations. Duality gap: 0.41299196977752217, tolerance: 0.10558027757487208\n",
            "\n",
            "/usr/local/lib/python3.8/dist-packages/sklearn/linear_model/_coordinate_descent.py:633: ConvergenceWarning:\n",
            "\n",
            "Objective did not converge. You might want to increase the number of iterations. Duality gap: 0.44504031788073917, tolerance: 0.10558027757487208\n",
            "\n",
            "/usr/local/lib/python3.8/dist-packages/sklearn/linear_model/_coordinate_descent.py:633: ConvergenceWarning:\n",
            "\n",
            "Objective did not converge. You might want to increase the number of iterations. Duality gap: 0.6044164916149839, tolerance: 0.10558027757487208\n",
            "\n",
            "/usr/local/lib/python3.8/dist-packages/sklearn/linear_model/_coordinate_descent.py:633: ConvergenceWarning:\n",
            "\n",
            "Objective did not converge. You might want to increase the number of iterations. Duality gap: 0.5821489079249886, tolerance: 0.10558027757487208\n",
            "\n",
            "/usr/local/lib/python3.8/dist-packages/sklearn/linear_model/_coordinate_descent.py:633: ConvergenceWarning:\n",
            "\n",
            "Objective did not converge. You might want to increase the number of iterations. Duality gap: 1.640216462648823, tolerance: 0.10558027757487208\n",
            "\n",
            "/usr/local/lib/python3.8/dist-packages/sklearn/linear_model/_coordinate_descent.py:633: ConvergenceWarning:\n",
            "\n",
            "Objective did not converge. You might want to increase the number of iterations. Duality gap: 2.9526979151553405, tolerance: 0.10558027757487208\n",
            "\n",
            "/usr/local/lib/python3.8/dist-packages/sklearn/linear_model/_coordinate_descent.py:633: ConvergenceWarning:\n",
            "\n",
            "Objective did not converge. You might want to increase the number of iterations. Duality gap: 3.453510519992392, tolerance: 0.10558027757487208\n",
            "\n",
            "/usr/local/lib/python3.8/dist-packages/sklearn/linear_model/_coordinate_descent.py:633: ConvergenceWarning:\n",
            "\n",
            "Objective did not converge. You might want to increase the number of iterations. Duality gap: 2.9106893127578815, tolerance: 0.10558027757487208\n",
            "\n",
            "/usr/local/lib/python3.8/dist-packages/sklearn/linear_model/_coordinate_descent.py:633: ConvergenceWarning:\n",
            "\n",
            "Objective did not converge. You might want to increase the number of iterations. Duality gap: 3.238552191859867, tolerance: 0.10558027757487208\n",
            "\n",
            "/usr/local/lib/python3.8/dist-packages/sklearn/linear_model/_coordinate_descent.py:633: ConvergenceWarning:\n",
            "\n",
            "Objective did not converge. You might want to increase the number of iterations. Duality gap: 3.4962298619279863, tolerance: 0.10558027757487208\n",
            "\n",
            "/usr/local/lib/python3.8/dist-packages/sklearn/linear_model/_coordinate_descent.py:633: ConvergenceWarning:\n",
            "\n",
            "Objective did not converge. You might want to increase the number of iterations. Duality gap: 3.7734824898376473, tolerance: 0.10558027757487208\n",
            "\n",
            "/usr/local/lib/python3.8/dist-packages/sklearn/linear_model/_coordinate_descent.py:633: ConvergenceWarning:\n",
            "\n",
            "Objective did not converge. You might want to increase the number of iterations. Duality gap: 3.9457448973673763, tolerance: 0.10558027757487208\n",
            "\n",
            "/usr/local/lib/python3.8/dist-packages/sklearn/linear_model/_coordinate_descent.py:633: ConvergenceWarning:\n",
            "\n",
            "Objective did not converge. You might want to increase the number of iterations. Duality gap: 3.461659613569168, tolerance: 0.10558027757487208\n",
            "\n",
            "/usr/local/lib/python3.8/dist-packages/sklearn/linear_model/_coordinate_descent.py:633: ConvergenceWarning:\n",
            "\n",
            "Objective did not converge. You might want to increase the number of iterations. Duality gap: 3.394426658807788, tolerance: 0.10558027757487208\n",
            "\n",
            "/usr/local/lib/python3.8/dist-packages/sklearn/linear_model/_coordinate_descent.py:633: ConvergenceWarning:\n",
            "\n",
            "Objective did not converge. You might want to increase the number of iterations. Duality gap: 4.197293579875236, tolerance: 0.10558027757487208\n",
            "\n",
            "/usr/local/lib/python3.8/dist-packages/sklearn/linear_model/_coordinate_descent.py:633: ConvergenceWarning:\n",
            "\n",
            "Objective did not converge. You might want to increase the number of iterations. Duality gap: 4.7140861379944, tolerance: 0.10558027757487208\n",
            "\n",
            "/usr/local/lib/python3.8/dist-packages/sklearn/linear_model/_coordinate_descent.py:633: ConvergenceWarning:\n",
            "\n",
            "Objective did not converge. You might want to increase the number of iterations. Duality gap: 4.857260651044385, tolerance: 0.10558027757487208\n",
            "\n",
            "/usr/local/lib/python3.8/dist-packages/sklearn/linear_model/_coordinate_descent.py:633: ConvergenceWarning:\n",
            "\n",
            "Objective did not converge. You might want to increase the number of iterations. Duality gap: 3.71257207430142, tolerance: 0.10558027757487208\n",
            "\n"
          ]
        },
        {
          "output_type": "stream",
          "name": "stdout",
          "text": [
            "Best alpha using built-in LassoCV: 0.026444\n",
            "Best score using built-in LassoCV: 0.462189\n",
            "Lasso picked 76 variables and eliminated the other 180 variables\n"
          ]
        },
        {
          "output_type": "stream",
          "name": "stderr",
          "text": [
            "/usr/local/lib/python3.8/dist-packages/sklearn/linear_model/_coordinate_descent.py:647: ConvergenceWarning:\n",
            "\n",
            "Objective did not converge. You might want to increase the number of iterations, check the scale of the features or consider increasing regularisation. Duality gap: 2.166e+02, tolerance: 2.256e-01\n",
            "\n"
          ]
        }
      ],
      "source": [
        "\n",
        "from sklearn.linear_model import LassoCV\n",
        "reg = LassoCV()\n",
        "reg.fit(X, y)\n",
        "print(\"Best alpha using built-in LassoCV: %f\" % reg.alpha_)\n",
        "print(\"Best score using built-in LassoCV: %f\" %reg.score(X,y))\n",
        "coef = pd.Series(reg.coef_, index = X.columns)\n",
        "\n",
        "print(\"Lasso picked \" + str(sum(coef != 0)) + \" variables and eliminated the other \" +  str(sum(coef == 0)) + \" variables\")\n",
        "\n",
        "imp_coef = coef.sort_values()\n",
        "\n",
        "list_of_feat=[]\n",
        "\n",
        "\n",
        "for i in range(coef.shape[0]):\n",
        "  if coef[i]!=0:\n",
        "    list_of_feat.append(dataset.iloc[:0,i+3].name)\n",
        "    \n",
        "df = pd.DataFrame(list_of_feat, columns=['Best_Features'])\n",
        "\n",
        "#df.to_csv(\"Embedded_Method.csv\")\n",
        "\n",
        "list_of_feat = list(df[\"Best_Features\"])\n",
        "if number_of_feat < len(list_of_feat):\n",
        "  list_of_feat = list_of_feat[:number_of_feat]"
      ]
    },
    {
      "cell_type": "markdown",
      "metadata": {
        "id": "rrR11h2K-aJn"
      },
      "source": [
        "###Pearson's with f regression"
      ]
    },
    {
      "cell_type": "code",
      "execution_count": null,
      "metadata": {
        "id": "qH6yDZiP-a9K"
      },
      "outputs": [],
      "source": [
        "from sklearn.datasets import make_regression\n",
        "from sklearn.feature_selection import SelectKBest\n",
        "from sklearn.feature_selection import f_regression\n",
        "import pandas as pd\n",
        "\n",
        "\n",
        "fs = SelectKBest(score_func=f_regression, k=5)\n",
        "fit = fs.fit(X,y)\n",
        "\n",
        "dfscores = pd.DataFrame(fit.scores_)\n",
        "dfcolumns = pd.DataFrame(dataset.columns)\n",
        "featureScores = pd.concat([dfcolumns,dfscores],axis=1)\n",
        "\n",
        "featureScores.columns = ['Best_columns','Score_pearsons'] \n",
        "\n",
        "\n",
        "lyst = featureScores.nlargest(number_of_feat,'Score_pearsons')\n",
        "\n",
        "#lyst.to_csv('Filter_Method_Pearson’s_with_f_regression.csv')\n",
        "\n",
        "list_of_feat = list(lyst[\"Best_columns\"])"
      ]
    },
    {
      "cell_type": "markdown",
      "metadata": {
        "id": "85wbxGFW-kGZ"
      },
      "source": [
        "###Sequential Feature Selection"
      ]
    },
    {
      "cell_type": "code",
      "execution_count": null,
      "metadata": {
        "id": "MtP9AHew-k1i",
        "colab": {
          "base_uri": "https://localhost:8080/",
          "height": 414
        },
        "outputId": "79da7cec-dbb4-4d82-8956-b9ff90f862ac"
      },
      "outputs": [
        {
          "output_type": "error",
          "ename": "KeyboardInterrupt",
          "evalue": "ignored",
          "traceback": [
            "\u001b[0;31m---------------------------------------------------------------------------\u001b[0m",
            "\u001b[0;31mKeyboardInterrupt\u001b[0m                         Traceback (most recent call last)",
            "\u001b[0;32m<ipython-input-93-f9a99fe006f0>\u001b[0m in \u001b[0;36m<module>\u001b[0;34m\u001b[0m\n\u001b[1;32m      3\u001b[0m \u001b[0mknn\u001b[0m \u001b[0;34m=\u001b[0m \u001b[0mKNeighborsClassifier\u001b[0m\u001b[0;34m(\u001b[0m\u001b[0mn_neighbors\u001b[0m\u001b[0;34m=\u001b[0m\u001b[0;36m3\u001b[0m\u001b[0;34m)\u001b[0m\u001b[0;34m\u001b[0m\u001b[0;34m\u001b[0m\u001b[0m\n\u001b[1;32m      4\u001b[0m \u001b[0msfs\u001b[0m \u001b[0;34m=\u001b[0m \u001b[0mSequentialFeatureSelector\u001b[0m\u001b[0;34m(\u001b[0m\u001b[0mknn\u001b[0m\u001b[0;34m,\u001b[0m \u001b[0mn_features_to_select\u001b[0m\u001b[0;34m=\u001b[0m\u001b[0mnumber_of_feat\u001b[0m\u001b[0;34m)\u001b[0m\u001b[0;34m\u001b[0m\u001b[0;34m\u001b[0m\u001b[0m\n\u001b[0;32m----> 5\u001b[0;31m \u001b[0msfs\u001b[0m\u001b[0;34m.\u001b[0m\u001b[0mfit\u001b[0m\u001b[0;34m(\u001b[0m\u001b[0mX\u001b[0m\u001b[0;34m,\u001b[0m \u001b[0my\u001b[0m\u001b[0;34m)\u001b[0m\u001b[0;34m\u001b[0m\u001b[0;34m\u001b[0m\u001b[0m\n\u001b[0m\u001b[1;32m      6\u001b[0m \u001b[0mlist_of_feat\u001b[0m\u001b[0;34m=\u001b[0m\u001b[0;34m[\u001b[0m\u001b[0;34m]\u001b[0m\u001b[0;34m\u001b[0m\u001b[0;34m\u001b[0m\u001b[0m\n\u001b[1;32m      7\u001b[0m \u001b[0mlist_of_feat\u001b[0m\u001b[0;34m=\u001b[0m\u001b[0mlist\u001b[0m\u001b[0;34m(\u001b[0m\u001b[0msfs\u001b[0m\u001b[0;34m.\u001b[0m\u001b[0mget_feature_names_out\u001b[0m\u001b[0;34m(\u001b[0m\u001b[0mX\u001b[0m\u001b[0;34m.\u001b[0m\u001b[0mcolumns\u001b[0m\u001b[0;34m)\u001b[0m\u001b[0;34m)\u001b[0m\u001b[0;34m\u001b[0m\u001b[0;34m\u001b[0m\u001b[0m\n",
            "\u001b[0;32m/usr/local/lib/python3.8/dist-packages/sklearn/feature_selection/_sequential.py\u001b[0m in \u001b[0;36mfit\u001b[0;34m(self, X, y)\u001b[0m\n\u001b[1;32m    207\u001b[0m         )\n\u001b[1;32m    208\u001b[0m         \u001b[0;32mfor\u001b[0m \u001b[0m_\u001b[0m \u001b[0;32min\u001b[0m \u001b[0mrange\u001b[0m\u001b[0;34m(\u001b[0m\u001b[0mn_iterations\u001b[0m\u001b[0;34m)\u001b[0m\u001b[0;34m:\u001b[0m\u001b[0;34m\u001b[0m\u001b[0;34m\u001b[0m\u001b[0m\n\u001b[0;32m--> 209\u001b[0;31m             new_feature_idx = self._get_best_new_feature(\n\u001b[0m\u001b[1;32m    210\u001b[0m                 \u001b[0mcloned_estimator\u001b[0m\u001b[0;34m,\u001b[0m \u001b[0mX\u001b[0m\u001b[0;34m,\u001b[0m \u001b[0my\u001b[0m\u001b[0;34m,\u001b[0m \u001b[0mcurrent_mask\u001b[0m\u001b[0;34m\u001b[0m\u001b[0;34m\u001b[0m\u001b[0m\n\u001b[1;32m    211\u001b[0m             )\n",
            "\u001b[0;32m/usr/local/lib/python3.8/dist-packages/sklearn/feature_selection/_sequential.py\u001b[0m in \u001b[0;36m_get_best_new_feature\u001b[0;34m(self, estimator, X, y, current_mask)\u001b[0m\n\u001b[1;32m    230\u001b[0m                 \u001b[0mcandidate_mask\u001b[0m \u001b[0;34m=\u001b[0m \u001b[0;34m~\u001b[0m\u001b[0mcandidate_mask\u001b[0m\u001b[0;34m\u001b[0m\u001b[0;34m\u001b[0m\u001b[0m\n\u001b[1;32m    231\u001b[0m             \u001b[0mX_new\u001b[0m \u001b[0;34m=\u001b[0m \u001b[0mX\u001b[0m\u001b[0;34m[\u001b[0m\u001b[0;34m:\u001b[0m\u001b[0;34m,\u001b[0m \u001b[0mcandidate_mask\u001b[0m\u001b[0;34m]\u001b[0m\u001b[0;34m\u001b[0m\u001b[0;34m\u001b[0m\u001b[0m\n\u001b[0;32m--> 232\u001b[0;31m             scores[feature_idx] = cross_val_score(\n\u001b[0m\u001b[1;32m    233\u001b[0m                 \u001b[0mestimator\u001b[0m\u001b[0;34m,\u001b[0m\u001b[0;34m\u001b[0m\u001b[0;34m\u001b[0m\u001b[0m\n\u001b[1;32m    234\u001b[0m                 \u001b[0mX_new\u001b[0m\u001b[0;34m,\u001b[0m\u001b[0;34m\u001b[0m\u001b[0;34m\u001b[0m\u001b[0m\n",
            "\u001b[0;32m/usr/local/lib/python3.8/dist-packages/sklearn/model_selection/_validation.py\u001b[0m in \u001b[0;36mcross_val_score\u001b[0;34m(estimator, X, y, groups, scoring, cv, n_jobs, verbose, fit_params, pre_dispatch, error_score)\u001b[0m\n\u001b[1;32m    507\u001b[0m     \u001b[0mscorer\u001b[0m \u001b[0;34m=\u001b[0m \u001b[0mcheck_scoring\u001b[0m\u001b[0;34m(\u001b[0m\u001b[0mestimator\u001b[0m\u001b[0;34m,\u001b[0m \u001b[0mscoring\u001b[0m\u001b[0;34m=\u001b[0m\u001b[0mscoring\u001b[0m\u001b[0;34m)\u001b[0m\u001b[0;34m\u001b[0m\u001b[0;34m\u001b[0m\u001b[0m\n\u001b[1;32m    508\u001b[0m \u001b[0;34m\u001b[0m\u001b[0m\n\u001b[0;32m--> 509\u001b[0;31m     cv_results = cross_validate(\n\u001b[0m\u001b[1;32m    510\u001b[0m         \u001b[0mestimator\u001b[0m\u001b[0;34m=\u001b[0m\u001b[0mestimator\u001b[0m\u001b[0;34m,\u001b[0m\u001b[0;34m\u001b[0m\u001b[0;34m\u001b[0m\u001b[0m\n\u001b[1;32m    511\u001b[0m         \u001b[0mX\u001b[0m\u001b[0;34m=\u001b[0m\u001b[0mX\u001b[0m\u001b[0;34m,\u001b[0m\u001b[0;34m\u001b[0m\u001b[0;34m\u001b[0m\u001b[0m\n",
            "\u001b[0;32m/usr/local/lib/python3.8/dist-packages/sklearn/model_selection/_validation.py\u001b[0m in \u001b[0;36mcross_validate\u001b[0;34m(estimator, X, y, groups, scoring, cv, n_jobs, verbose, fit_params, pre_dispatch, return_train_score, return_estimator, error_score)\u001b[0m\n\u001b[1;32m    265\u001b[0m     \u001b[0;31m# independent, and that it is pickle-able.\u001b[0m\u001b[0;34m\u001b[0m\u001b[0;34m\u001b[0m\u001b[0;34m\u001b[0m\u001b[0m\n\u001b[1;32m    266\u001b[0m     \u001b[0mparallel\u001b[0m \u001b[0;34m=\u001b[0m \u001b[0mParallel\u001b[0m\u001b[0;34m(\u001b[0m\u001b[0mn_jobs\u001b[0m\u001b[0;34m=\u001b[0m\u001b[0mn_jobs\u001b[0m\u001b[0;34m,\u001b[0m \u001b[0mverbose\u001b[0m\u001b[0;34m=\u001b[0m\u001b[0mverbose\u001b[0m\u001b[0;34m,\u001b[0m \u001b[0mpre_dispatch\u001b[0m\u001b[0;34m=\u001b[0m\u001b[0mpre_dispatch\u001b[0m\u001b[0;34m)\u001b[0m\u001b[0;34m\u001b[0m\u001b[0;34m\u001b[0m\u001b[0m\n\u001b[0;32m--> 267\u001b[0;31m     results = parallel(\n\u001b[0m\u001b[1;32m    268\u001b[0m         delayed(_fit_and_score)(\n\u001b[1;32m    269\u001b[0m             \u001b[0mclone\u001b[0m\u001b[0;34m(\u001b[0m\u001b[0mestimator\u001b[0m\u001b[0;34m)\u001b[0m\u001b[0;34m,\u001b[0m\u001b[0;34m\u001b[0m\u001b[0;34m\u001b[0m\u001b[0m\n",
            "\u001b[0;32m/usr/local/lib/python3.8/dist-packages/joblib/parallel.py\u001b[0m in \u001b[0;36m__call__\u001b[0;34m(self, iterable)\u001b[0m\n\u001b[1;32m   1086\u001b[0m                 \u001b[0mself\u001b[0m\u001b[0;34m.\u001b[0m\u001b[0m_iterating\u001b[0m \u001b[0;34m=\u001b[0m \u001b[0mself\u001b[0m\u001b[0;34m.\u001b[0m\u001b[0m_original_iterator\u001b[0m \u001b[0;32mis\u001b[0m \u001b[0;32mnot\u001b[0m \u001b[0;32mNone\u001b[0m\u001b[0;34m\u001b[0m\u001b[0;34m\u001b[0m\u001b[0m\n\u001b[1;32m   1087\u001b[0m \u001b[0;34m\u001b[0m\u001b[0m\n\u001b[0;32m-> 1088\u001b[0;31m             \u001b[0;32mwhile\u001b[0m \u001b[0mself\u001b[0m\u001b[0;34m.\u001b[0m\u001b[0mdispatch_one_batch\u001b[0m\u001b[0;34m(\u001b[0m\u001b[0miterator\u001b[0m\u001b[0;34m)\u001b[0m\u001b[0;34m:\u001b[0m\u001b[0;34m\u001b[0m\u001b[0;34m\u001b[0m\u001b[0m\n\u001b[0m\u001b[1;32m   1089\u001b[0m                 \u001b[0;32mpass\u001b[0m\u001b[0;34m\u001b[0m\u001b[0;34m\u001b[0m\u001b[0m\n\u001b[1;32m   1090\u001b[0m \u001b[0;34m\u001b[0m\u001b[0m\n",
            "\u001b[0;32m/usr/local/lib/python3.8/dist-packages/joblib/parallel.py\u001b[0m in \u001b[0;36mdispatch_one_batch\u001b[0;34m(self, iterator)\u001b[0m\n\u001b[1;32m    899\u001b[0m                 \u001b[0;32mreturn\u001b[0m \u001b[0;32mFalse\u001b[0m\u001b[0;34m\u001b[0m\u001b[0;34m\u001b[0m\u001b[0m\n\u001b[1;32m    900\u001b[0m             \u001b[0;32melse\u001b[0m\u001b[0;34m:\u001b[0m\u001b[0;34m\u001b[0m\u001b[0;34m\u001b[0m\u001b[0m\n\u001b[0;32m--> 901\u001b[0;31m                 \u001b[0mself\u001b[0m\u001b[0;34m.\u001b[0m\u001b[0m_dispatch\u001b[0m\u001b[0;34m(\u001b[0m\u001b[0mtasks\u001b[0m\u001b[0;34m)\u001b[0m\u001b[0;34m\u001b[0m\u001b[0;34m\u001b[0m\u001b[0m\n\u001b[0m\u001b[1;32m    902\u001b[0m                 \u001b[0;32mreturn\u001b[0m \u001b[0;32mTrue\u001b[0m\u001b[0;34m\u001b[0m\u001b[0;34m\u001b[0m\u001b[0m\n\u001b[1;32m    903\u001b[0m \u001b[0;34m\u001b[0m\u001b[0m\n",
            "\u001b[0;32m/usr/local/lib/python3.8/dist-packages/joblib/parallel.py\u001b[0m in \u001b[0;36m_dispatch\u001b[0;34m(self, batch)\u001b[0m\n\u001b[1;32m    817\u001b[0m         \u001b[0;32mwith\u001b[0m \u001b[0mself\u001b[0m\u001b[0;34m.\u001b[0m\u001b[0m_lock\u001b[0m\u001b[0;34m:\u001b[0m\u001b[0;34m\u001b[0m\u001b[0;34m\u001b[0m\u001b[0m\n\u001b[1;32m    818\u001b[0m             \u001b[0mjob_idx\u001b[0m \u001b[0;34m=\u001b[0m \u001b[0mlen\u001b[0m\u001b[0;34m(\u001b[0m\u001b[0mself\u001b[0m\u001b[0;34m.\u001b[0m\u001b[0m_jobs\u001b[0m\u001b[0;34m)\u001b[0m\u001b[0;34m\u001b[0m\u001b[0;34m\u001b[0m\u001b[0m\n\u001b[0;32m--> 819\u001b[0;31m             \u001b[0mjob\u001b[0m \u001b[0;34m=\u001b[0m \u001b[0mself\u001b[0m\u001b[0;34m.\u001b[0m\u001b[0m_backend\u001b[0m\u001b[0;34m.\u001b[0m\u001b[0mapply_async\u001b[0m\u001b[0;34m(\u001b[0m\u001b[0mbatch\u001b[0m\u001b[0;34m,\u001b[0m \u001b[0mcallback\u001b[0m\u001b[0;34m=\u001b[0m\u001b[0mcb\u001b[0m\u001b[0;34m)\u001b[0m\u001b[0;34m\u001b[0m\u001b[0;34m\u001b[0m\u001b[0m\n\u001b[0m\u001b[1;32m    820\u001b[0m             \u001b[0;31m# A job can complete so quickly than its callback is\u001b[0m\u001b[0;34m\u001b[0m\u001b[0;34m\u001b[0m\u001b[0;34m\u001b[0m\u001b[0m\n\u001b[1;32m    821\u001b[0m             \u001b[0;31m# called before we get here, causing self._jobs to\u001b[0m\u001b[0;34m\u001b[0m\u001b[0;34m\u001b[0m\u001b[0;34m\u001b[0m\u001b[0m\n",
            "\u001b[0;32m/usr/local/lib/python3.8/dist-packages/joblib/_parallel_backends.py\u001b[0m in \u001b[0;36mapply_async\u001b[0;34m(self, func, callback)\u001b[0m\n\u001b[1;32m    206\u001b[0m     \u001b[0;32mdef\u001b[0m \u001b[0mapply_async\u001b[0m\u001b[0;34m(\u001b[0m\u001b[0mself\u001b[0m\u001b[0;34m,\u001b[0m \u001b[0mfunc\u001b[0m\u001b[0;34m,\u001b[0m \u001b[0mcallback\u001b[0m\u001b[0;34m=\u001b[0m\u001b[0;32mNone\u001b[0m\u001b[0;34m)\u001b[0m\u001b[0;34m:\u001b[0m\u001b[0;34m\u001b[0m\u001b[0;34m\u001b[0m\u001b[0m\n\u001b[1;32m    207\u001b[0m         \u001b[0;34m\"\"\"Schedule a func to be run\"\"\"\u001b[0m\u001b[0;34m\u001b[0m\u001b[0;34m\u001b[0m\u001b[0m\n\u001b[0;32m--> 208\u001b[0;31m         \u001b[0mresult\u001b[0m \u001b[0;34m=\u001b[0m \u001b[0mImmediateResult\u001b[0m\u001b[0;34m(\u001b[0m\u001b[0mfunc\u001b[0m\u001b[0;34m)\u001b[0m\u001b[0;34m\u001b[0m\u001b[0;34m\u001b[0m\u001b[0m\n\u001b[0m\u001b[1;32m    209\u001b[0m         \u001b[0;32mif\u001b[0m \u001b[0mcallback\u001b[0m\u001b[0;34m:\u001b[0m\u001b[0;34m\u001b[0m\u001b[0;34m\u001b[0m\u001b[0m\n\u001b[1;32m    210\u001b[0m             \u001b[0mcallback\u001b[0m\u001b[0;34m(\u001b[0m\u001b[0mresult\u001b[0m\u001b[0;34m)\u001b[0m\u001b[0;34m\u001b[0m\u001b[0;34m\u001b[0m\u001b[0m\n",
            "\u001b[0;32m/usr/local/lib/python3.8/dist-packages/joblib/_parallel_backends.py\u001b[0m in \u001b[0;36m__init__\u001b[0;34m(self, batch)\u001b[0m\n\u001b[1;32m    595\u001b[0m         \u001b[0;31m# Don't delay the application, to avoid keeping the input\u001b[0m\u001b[0;34m\u001b[0m\u001b[0;34m\u001b[0m\u001b[0;34m\u001b[0m\u001b[0m\n\u001b[1;32m    596\u001b[0m         \u001b[0;31m# arguments in memory\u001b[0m\u001b[0;34m\u001b[0m\u001b[0;34m\u001b[0m\u001b[0;34m\u001b[0m\u001b[0m\n\u001b[0;32m--> 597\u001b[0;31m         \u001b[0mself\u001b[0m\u001b[0;34m.\u001b[0m\u001b[0mresults\u001b[0m \u001b[0;34m=\u001b[0m \u001b[0mbatch\u001b[0m\u001b[0;34m(\u001b[0m\u001b[0;34m)\u001b[0m\u001b[0;34m\u001b[0m\u001b[0;34m\u001b[0m\u001b[0m\n\u001b[0m\u001b[1;32m    598\u001b[0m \u001b[0;34m\u001b[0m\u001b[0m\n\u001b[1;32m    599\u001b[0m     \u001b[0;32mdef\u001b[0m \u001b[0mget\u001b[0m\u001b[0;34m(\u001b[0m\u001b[0mself\u001b[0m\u001b[0;34m)\u001b[0m\u001b[0;34m:\u001b[0m\u001b[0;34m\u001b[0m\u001b[0;34m\u001b[0m\u001b[0m\n",
            "\u001b[0;32m/usr/local/lib/python3.8/dist-packages/joblib/parallel.py\u001b[0m in \u001b[0;36m__call__\u001b[0;34m(self)\u001b[0m\n\u001b[1;32m    286\u001b[0m         \u001b[0;31m# change the default number of processes to -1\u001b[0m\u001b[0;34m\u001b[0m\u001b[0;34m\u001b[0m\u001b[0;34m\u001b[0m\u001b[0m\n\u001b[1;32m    287\u001b[0m         \u001b[0;32mwith\u001b[0m \u001b[0mparallel_backend\u001b[0m\u001b[0;34m(\u001b[0m\u001b[0mself\u001b[0m\u001b[0;34m.\u001b[0m\u001b[0m_backend\u001b[0m\u001b[0;34m,\u001b[0m \u001b[0mn_jobs\u001b[0m\u001b[0;34m=\u001b[0m\u001b[0mself\u001b[0m\u001b[0;34m.\u001b[0m\u001b[0m_n_jobs\u001b[0m\u001b[0;34m)\u001b[0m\u001b[0;34m:\u001b[0m\u001b[0;34m\u001b[0m\u001b[0;34m\u001b[0m\u001b[0m\n\u001b[0;32m--> 288\u001b[0;31m             return [func(*args, **kwargs)\n\u001b[0m\u001b[1;32m    289\u001b[0m                     for func, args, kwargs in self.items]\n\u001b[1;32m    290\u001b[0m \u001b[0;34m\u001b[0m\u001b[0m\n",
            "\u001b[0;32m/usr/local/lib/python3.8/dist-packages/joblib/parallel.py\u001b[0m in \u001b[0;36m<listcomp>\u001b[0;34m(.0)\u001b[0m\n\u001b[1;32m    286\u001b[0m         \u001b[0;31m# change the default number of processes to -1\u001b[0m\u001b[0;34m\u001b[0m\u001b[0;34m\u001b[0m\u001b[0;34m\u001b[0m\u001b[0m\n\u001b[1;32m    287\u001b[0m         \u001b[0;32mwith\u001b[0m \u001b[0mparallel_backend\u001b[0m\u001b[0;34m(\u001b[0m\u001b[0mself\u001b[0m\u001b[0;34m.\u001b[0m\u001b[0m_backend\u001b[0m\u001b[0;34m,\u001b[0m \u001b[0mn_jobs\u001b[0m\u001b[0;34m=\u001b[0m\u001b[0mself\u001b[0m\u001b[0;34m.\u001b[0m\u001b[0m_n_jobs\u001b[0m\u001b[0;34m)\u001b[0m\u001b[0;34m:\u001b[0m\u001b[0;34m\u001b[0m\u001b[0;34m\u001b[0m\u001b[0m\n\u001b[0;32m--> 288\u001b[0;31m             return [func(*args, **kwargs)\n\u001b[0m\u001b[1;32m    289\u001b[0m                     for func, args, kwargs in self.items]\n\u001b[1;32m    290\u001b[0m \u001b[0;34m\u001b[0m\u001b[0m\n",
            "\u001b[0;32m/usr/local/lib/python3.8/dist-packages/sklearn/utils/fixes.py\u001b[0m in \u001b[0;36m__call__\u001b[0;34m(self, *args, **kwargs)\u001b[0m\n\u001b[1;32m    214\u001b[0m     \u001b[0;32mdef\u001b[0m \u001b[0m__call__\u001b[0m\u001b[0;34m(\u001b[0m\u001b[0mself\u001b[0m\u001b[0;34m,\u001b[0m \u001b[0;34m*\u001b[0m\u001b[0margs\u001b[0m\u001b[0;34m,\u001b[0m \u001b[0;34m**\u001b[0m\u001b[0mkwargs\u001b[0m\u001b[0;34m)\u001b[0m\u001b[0;34m:\u001b[0m\u001b[0;34m\u001b[0m\u001b[0;34m\u001b[0m\u001b[0m\n\u001b[1;32m    215\u001b[0m         \u001b[0;32mwith\u001b[0m \u001b[0mconfig_context\u001b[0m\u001b[0;34m(\u001b[0m\u001b[0;34m**\u001b[0m\u001b[0mself\u001b[0m\u001b[0;34m.\u001b[0m\u001b[0mconfig\u001b[0m\u001b[0;34m)\u001b[0m\u001b[0;34m:\u001b[0m\u001b[0;34m\u001b[0m\u001b[0;34m\u001b[0m\u001b[0m\n\u001b[0;32m--> 216\u001b[0;31m             \u001b[0;32mreturn\u001b[0m \u001b[0mself\u001b[0m\u001b[0;34m.\u001b[0m\u001b[0mfunction\u001b[0m\u001b[0;34m(\u001b[0m\u001b[0;34m*\u001b[0m\u001b[0margs\u001b[0m\u001b[0;34m,\u001b[0m \u001b[0;34m**\u001b[0m\u001b[0mkwargs\u001b[0m\u001b[0;34m)\u001b[0m\u001b[0;34m\u001b[0m\u001b[0;34m\u001b[0m\u001b[0m\n\u001b[0m\u001b[1;32m    217\u001b[0m \u001b[0;34m\u001b[0m\u001b[0m\n\u001b[1;32m    218\u001b[0m \u001b[0;34m\u001b[0m\u001b[0m\n",
            "\u001b[0;32m/usr/local/lib/python3.8/dist-packages/sklearn/model_selection/_validation.py\u001b[0m in \u001b[0;36m_fit_and_score\u001b[0;34m(estimator, X, y, scorer, train, test, verbose, parameters, fit_params, return_train_score, return_parameters, return_n_test_samples, return_times, return_estimator, split_progress, candidate_progress, error_score)\u001b[0m\n\u001b[1;32m    700\u001b[0m \u001b[0;34m\u001b[0m\u001b[0m\n\u001b[1;32m    701\u001b[0m         \u001b[0mfit_time\u001b[0m \u001b[0;34m=\u001b[0m \u001b[0mtime\u001b[0m\u001b[0;34m.\u001b[0m\u001b[0mtime\u001b[0m\u001b[0;34m(\u001b[0m\u001b[0;34m)\u001b[0m \u001b[0;34m-\u001b[0m \u001b[0mstart_time\u001b[0m\u001b[0;34m\u001b[0m\u001b[0;34m\u001b[0m\u001b[0m\n\u001b[0;32m--> 702\u001b[0;31m         \u001b[0mtest_scores\u001b[0m \u001b[0;34m=\u001b[0m \u001b[0m_score\u001b[0m\u001b[0;34m(\u001b[0m\u001b[0mestimator\u001b[0m\u001b[0;34m,\u001b[0m \u001b[0mX_test\u001b[0m\u001b[0;34m,\u001b[0m \u001b[0my_test\u001b[0m\u001b[0;34m,\u001b[0m \u001b[0mscorer\u001b[0m\u001b[0;34m,\u001b[0m \u001b[0merror_score\u001b[0m\u001b[0;34m)\u001b[0m\u001b[0;34m\u001b[0m\u001b[0;34m\u001b[0m\u001b[0m\n\u001b[0m\u001b[1;32m    703\u001b[0m         \u001b[0mscore_time\u001b[0m \u001b[0;34m=\u001b[0m \u001b[0mtime\u001b[0m\u001b[0;34m.\u001b[0m\u001b[0mtime\u001b[0m\u001b[0;34m(\u001b[0m\u001b[0;34m)\u001b[0m \u001b[0;34m-\u001b[0m \u001b[0mstart_time\u001b[0m \u001b[0;34m-\u001b[0m \u001b[0mfit_time\u001b[0m\u001b[0;34m\u001b[0m\u001b[0;34m\u001b[0m\u001b[0m\n\u001b[1;32m    704\u001b[0m         \u001b[0;32mif\u001b[0m \u001b[0mreturn_train_score\u001b[0m\u001b[0;34m:\u001b[0m\u001b[0;34m\u001b[0m\u001b[0;34m\u001b[0m\u001b[0m\n",
            "\u001b[0;32m/usr/local/lib/python3.8/dist-packages/sklearn/model_selection/_validation.py\u001b[0m in \u001b[0;36m_score\u001b[0;34m(estimator, X_test, y_test, scorer, error_score)\u001b[0m\n\u001b[1;32m    759\u001b[0m             \u001b[0mscores\u001b[0m \u001b[0;34m=\u001b[0m \u001b[0mscorer\u001b[0m\u001b[0;34m(\u001b[0m\u001b[0mestimator\u001b[0m\u001b[0;34m,\u001b[0m \u001b[0mX_test\u001b[0m\u001b[0;34m)\u001b[0m\u001b[0;34m\u001b[0m\u001b[0;34m\u001b[0m\u001b[0m\n\u001b[1;32m    760\u001b[0m         \u001b[0;32melse\u001b[0m\u001b[0;34m:\u001b[0m\u001b[0;34m\u001b[0m\u001b[0;34m\u001b[0m\u001b[0m\n\u001b[0;32m--> 761\u001b[0;31m             \u001b[0mscores\u001b[0m \u001b[0;34m=\u001b[0m \u001b[0mscorer\u001b[0m\u001b[0;34m(\u001b[0m\u001b[0mestimator\u001b[0m\u001b[0;34m,\u001b[0m \u001b[0mX_test\u001b[0m\u001b[0;34m,\u001b[0m \u001b[0my_test\u001b[0m\u001b[0;34m)\u001b[0m\u001b[0;34m\u001b[0m\u001b[0;34m\u001b[0m\u001b[0m\n\u001b[0m\u001b[1;32m    762\u001b[0m     \u001b[0;32mexcept\u001b[0m \u001b[0mException\u001b[0m\u001b[0;34m:\u001b[0m\u001b[0;34m\u001b[0m\u001b[0;34m\u001b[0m\u001b[0m\n\u001b[1;32m    763\u001b[0m         \u001b[0;32mif\u001b[0m \u001b[0merror_score\u001b[0m \u001b[0;34m==\u001b[0m \u001b[0;34m\"raise\"\u001b[0m\u001b[0;34m:\u001b[0m\u001b[0;34m\u001b[0m\u001b[0;34m\u001b[0m\u001b[0m\n",
            "\u001b[0;32m/usr/local/lib/python3.8/dist-packages/sklearn/metrics/_scorer.py\u001b[0m in \u001b[0;36m__call__\u001b[0;34m(self, estimator, *args, **kwargs)\u001b[0m\n\u001b[1;32m    103\u001b[0m                 \u001b[0mscore\u001b[0m \u001b[0;34m=\u001b[0m \u001b[0mscorer\u001b[0m\u001b[0;34m.\u001b[0m\u001b[0m_score\u001b[0m\u001b[0;34m(\u001b[0m\u001b[0mcached_call\u001b[0m\u001b[0;34m,\u001b[0m \u001b[0mestimator\u001b[0m\u001b[0;34m,\u001b[0m \u001b[0;34m*\u001b[0m\u001b[0margs\u001b[0m\u001b[0;34m,\u001b[0m \u001b[0;34m**\u001b[0m\u001b[0mkwargs\u001b[0m\u001b[0;34m)\u001b[0m\u001b[0;34m\u001b[0m\u001b[0;34m\u001b[0m\u001b[0m\n\u001b[1;32m    104\u001b[0m             \u001b[0;32melse\u001b[0m\u001b[0;34m:\u001b[0m\u001b[0;34m\u001b[0m\u001b[0;34m\u001b[0m\u001b[0m\n\u001b[0;32m--> 105\u001b[0;31m                 \u001b[0mscore\u001b[0m \u001b[0;34m=\u001b[0m \u001b[0mscorer\u001b[0m\u001b[0;34m(\u001b[0m\u001b[0mestimator\u001b[0m\u001b[0;34m,\u001b[0m \u001b[0;34m*\u001b[0m\u001b[0margs\u001b[0m\u001b[0;34m,\u001b[0m \u001b[0;34m**\u001b[0m\u001b[0mkwargs\u001b[0m\u001b[0;34m)\u001b[0m\u001b[0;34m\u001b[0m\u001b[0;34m\u001b[0m\u001b[0m\n\u001b[0m\u001b[1;32m    106\u001b[0m             \u001b[0mscores\u001b[0m\u001b[0;34m[\u001b[0m\u001b[0mname\u001b[0m\u001b[0;34m]\u001b[0m \u001b[0;34m=\u001b[0m \u001b[0mscore\u001b[0m\u001b[0;34m\u001b[0m\u001b[0;34m\u001b[0m\u001b[0m\n\u001b[1;32m    107\u001b[0m         \u001b[0;32mreturn\u001b[0m \u001b[0mscores\u001b[0m\u001b[0;34m\u001b[0m\u001b[0;34m\u001b[0m\u001b[0m\n",
            "\u001b[0;32m/usr/local/lib/python3.8/dist-packages/sklearn/metrics/_scorer.py\u001b[0m in \u001b[0;36m_passthrough_scorer\u001b[0;34m(estimator, *args, **kwargs)\u001b[0m\n\u001b[1;32m    416\u001b[0m \u001b[0;32mdef\u001b[0m \u001b[0m_passthrough_scorer\u001b[0m\u001b[0;34m(\u001b[0m\u001b[0mestimator\u001b[0m\u001b[0;34m,\u001b[0m \u001b[0;34m*\u001b[0m\u001b[0margs\u001b[0m\u001b[0;34m,\u001b[0m \u001b[0;34m**\u001b[0m\u001b[0mkwargs\u001b[0m\u001b[0;34m)\u001b[0m\u001b[0;34m:\u001b[0m\u001b[0;34m\u001b[0m\u001b[0;34m\u001b[0m\u001b[0m\n\u001b[1;32m    417\u001b[0m     \u001b[0;34m\"\"\"Function that wraps estimator.score\"\"\"\u001b[0m\u001b[0;34m\u001b[0m\u001b[0;34m\u001b[0m\u001b[0m\n\u001b[0;32m--> 418\u001b[0;31m     \u001b[0;32mreturn\u001b[0m \u001b[0mestimator\u001b[0m\u001b[0;34m.\u001b[0m\u001b[0mscore\u001b[0m\u001b[0;34m(\u001b[0m\u001b[0;34m*\u001b[0m\u001b[0margs\u001b[0m\u001b[0;34m,\u001b[0m \u001b[0;34m**\u001b[0m\u001b[0mkwargs\u001b[0m\u001b[0;34m)\u001b[0m\u001b[0;34m\u001b[0m\u001b[0;34m\u001b[0m\u001b[0m\n\u001b[0m\u001b[1;32m    419\u001b[0m \u001b[0;34m\u001b[0m\u001b[0m\n\u001b[1;32m    420\u001b[0m \u001b[0;34m\u001b[0m\u001b[0m\n",
            "\u001b[0;32m/usr/local/lib/python3.8/dist-packages/sklearn/base.py\u001b[0m in \u001b[0;36mscore\u001b[0;34m(self, X, y, sample_weight)\u001b[0m\n\u001b[1;32m    649\u001b[0m         \u001b[0;32mfrom\u001b[0m \u001b[0;34m.\u001b[0m\u001b[0mmetrics\u001b[0m \u001b[0;32mimport\u001b[0m \u001b[0maccuracy_score\u001b[0m\u001b[0;34m\u001b[0m\u001b[0;34m\u001b[0m\u001b[0m\n\u001b[1;32m    650\u001b[0m \u001b[0;34m\u001b[0m\u001b[0m\n\u001b[0;32m--> 651\u001b[0;31m         \u001b[0;32mreturn\u001b[0m \u001b[0maccuracy_score\u001b[0m\u001b[0;34m(\u001b[0m\u001b[0my\u001b[0m\u001b[0;34m,\u001b[0m \u001b[0mself\u001b[0m\u001b[0;34m.\u001b[0m\u001b[0mpredict\u001b[0m\u001b[0;34m(\u001b[0m\u001b[0mX\u001b[0m\u001b[0;34m)\u001b[0m\u001b[0;34m,\u001b[0m \u001b[0msample_weight\u001b[0m\u001b[0;34m=\u001b[0m\u001b[0msample_weight\u001b[0m\u001b[0;34m)\u001b[0m\u001b[0;34m\u001b[0m\u001b[0;34m\u001b[0m\u001b[0m\n\u001b[0m\u001b[1;32m    652\u001b[0m \u001b[0;34m\u001b[0m\u001b[0m\n\u001b[1;32m    653\u001b[0m     \u001b[0;32mdef\u001b[0m \u001b[0m_more_tags\u001b[0m\u001b[0;34m(\u001b[0m\u001b[0mself\u001b[0m\u001b[0;34m)\u001b[0m\u001b[0;34m:\u001b[0m\u001b[0;34m\u001b[0m\u001b[0;34m\u001b[0m\u001b[0m\n",
            "\u001b[0;32m/usr/local/lib/python3.8/dist-packages/sklearn/neighbors/_classification.py\u001b[0m in \u001b[0;36mpredict\u001b[0;34m(self, X)\u001b[0m\n\u001b[1;32m    212\u001b[0m             \u001b[0mClass\u001b[0m \u001b[0mlabels\u001b[0m \u001b[0;32mfor\u001b[0m \u001b[0meach\u001b[0m \u001b[0mdata\u001b[0m \u001b[0msample\u001b[0m\u001b[0;34m.\u001b[0m\u001b[0;34m\u001b[0m\u001b[0;34m\u001b[0m\u001b[0m\n\u001b[1;32m    213\u001b[0m         \"\"\"\n\u001b[0;32m--> 214\u001b[0;31m         \u001b[0mneigh_dist\u001b[0m\u001b[0;34m,\u001b[0m \u001b[0mneigh_ind\u001b[0m \u001b[0;34m=\u001b[0m \u001b[0mself\u001b[0m\u001b[0;34m.\u001b[0m\u001b[0mkneighbors\u001b[0m\u001b[0;34m(\u001b[0m\u001b[0mX\u001b[0m\u001b[0;34m)\u001b[0m\u001b[0;34m\u001b[0m\u001b[0;34m\u001b[0m\u001b[0m\n\u001b[0m\u001b[1;32m    215\u001b[0m         \u001b[0mclasses_\u001b[0m \u001b[0;34m=\u001b[0m \u001b[0mself\u001b[0m\u001b[0;34m.\u001b[0m\u001b[0mclasses_\u001b[0m\u001b[0;34m\u001b[0m\u001b[0;34m\u001b[0m\u001b[0m\n\u001b[1;32m    216\u001b[0m         \u001b[0m_y\u001b[0m \u001b[0;34m=\u001b[0m \u001b[0mself\u001b[0m\u001b[0;34m.\u001b[0m\u001b[0m_y\u001b[0m\u001b[0;34m\u001b[0m\u001b[0;34m\u001b[0m\u001b[0m\n",
            "\u001b[0;32m/usr/local/lib/python3.8/dist-packages/sklearn/neighbors/_base.py\u001b[0m in \u001b[0;36mkneighbors\u001b[0;34m(self, X, n_neighbors, return_distance)\u001b[0m\n\u001b[1;32m    750\u001b[0m                 \u001b[0mkwds\u001b[0m \u001b[0;34m=\u001b[0m \u001b[0mself\u001b[0m\u001b[0;34m.\u001b[0m\u001b[0meffective_metric_params_\u001b[0m\u001b[0;34m\u001b[0m\u001b[0;34m\u001b[0m\u001b[0m\n\u001b[1;32m    751\u001b[0m \u001b[0;34m\u001b[0m\u001b[0m\n\u001b[0;32m--> 752\u001b[0;31m             chunked_results = list(\n\u001b[0m\u001b[1;32m    753\u001b[0m                 pairwise_distances_chunked(\n\u001b[1;32m    754\u001b[0m                     \u001b[0mX\u001b[0m\u001b[0;34m,\u001b[0m\u001b[0;34m\u001b[0m\u001b[0;34m\u001b[0m\u001b[0m\n",
            "\u001b[0;32m/usr/local/lib/python3.8/dist-packages/sklearn/metrics/pairwise.py\u001b[0m in \u001b[0;36mpairwise_distances_chunked\u001b[0;34m(X, Y, reduce_func, metric, n_jobs, working_memory, **kwds)\u001b[0m\n\u001b[1;32m   1724\u001b[0m         \u001b[0;32mif\u001b[0m \u001b[0mreduce_func\u001b[0m \u001b[0;32mis\u001b[0m \u001b[0;32mnot\u001b[0m \u001b[0;32mNone\u001b[0m\u001b[0;34m:\u001b[0m\u001b[0;34m\u001b[0m\u001b[0;34m\u001b[0m\u001b[0m\n\u001b[1;32m   1725\u001b[0m             \u001b[0mchunk_size\u001b[0m \u001b[0;34m=\u001b[0m \u001b[0mD_chunk\u001b[0m\u001b[0;34m.\u001b[0m\u001b[0mshape\u001b[0m\u001b[0;34m[\u001b[0m\u001b[0;36m0\u001b[0m\u001b[0;34m]\u001b[0m\u001b[0;34m\u001b[0m\u001b[0;34m\u001b[0m\u001b[0m\n\u001b[0;32m-> 1726\u001b[0;31m             \u001b[0mD_chunk\u001b[0m \u001b[0;34m=\u001b[0m \u001b[0mreduce_func\u001b[0m\u001b[0;34m(\u001b[0m\u001b[0mD_chunk\u001b[0m\u001b[0;34m,\u001b[0m \u001b[0msl\u001b[0m\u001b[0;34m.\u001b[0m\u001b[0mstart\u001b[0m\u001b[0;34m)\u001b[0m\u001b[0;34m\u001b[0m\u001b[0;34m\u001b[0m\u001b[0m\n\u001b[0m\u001b[1;32m   1727\u001b[0m             \u001b[0m_check_chunk_size\u001b[0m\u001b[0;34m(\u001b[0m\u001b[0mD_chunk\u001b[0m\u001b[0;34m,\u001b[0m \u001b[0mchunk_size\u001b[0m\u001b[0;34m)\u001b[0m\u001b[0;34m\u001b[0m\u001b[0;34m\u001b[0m\u001b[0m\n\u001b[1;32m   1728\u001b[0m         \u001b[0;32myield\u001b[0m \u001b[0mD_chunk\u001b[0m\u001b[0;34m\u001b[0m\u001b[0;34m\u001b[0m\u001b[0m\n",
            "\u001b[0;32m/usr/local/lib/python3.8/dist-packages/sklearn/neighbors/_base.py\u001b[0m in \u001b[0;36m_kneighbors_reduce_func\u001b[0;34m(self, dist, start, n_neighbors, return_distance)\u001b[0m\n\u001b[1;32m    632\u001b[0m         \"\"\"\n\u001b[1;32m    633\u001b[0m         \u001b[0msample_range\u001b[0m \u001b[0;34m=\u001b[0m \u001b[0mnp\u001b[0m\u001b[0;34m.\u001b[0m\u001b[0marange\u001b[0m\u001b[0;34m(\u001b[0m\u001b[0mdist\u001b[0m\u001b[0;34m.\u001b[0m\u001b[0mshape\u001b[0m\u001b[0;34m[\u001b[0m\u001b[0;36m0\u001b[0m\u001b[0;34m]\u001b[0m\u001b[0;34m)\u001b[0m\u001b[0;34m[\u001b[0m\u001b[0;34m:\u001b[0m\u001b[0;34m,\u001b[0m \u001b[0;32mNone\u001b[0m\u001b[0;34m]\u001b[0m\u001b[0;34m\u001b[0m\u001b[0;34m\u001b[0m\u001b[0m\n\u001b[0;32m--> 634\u001b[0;31m         \u001b[0mneigh_ind\u001b[0m \u001b[0;34m=\u001b[0m \u001b[0mnp\u001b[0m\u001b[0;34m.\u001b[0m\u001b[0margpartition\u001b[0m\u001b[0;34m(\u001b[0m\u001b[0mdist\u001b[0m\u001b[0;34m,\u001b[0m \u001b[0mn_neighbors\u001b[0m \u001b[0;34m-\u001b[0m \u001b[0;36m1\u001b[0m\u001b[0;34m,\u001b[0m \u001b[0maxis\u001b[0m\u001b[0;34m=\u001b[0m\u001b[0;36m1\u001b[0m\u001b[0;34m)\u001b[0m\u001b[0;34m\u001b[0m\u001b[0;34m\u001b[0m\u001b[0m\n\u001b[0m\u001b[1;32m    635\u001b[0m         \u001b[0mneigh_ind\u001b[0m \u001b[0;34m=\u001b[0m \u001b[0mneigh_ind\u001b[0m\u001b[0;34m[\u001b[0m\u001b[0;34m:\u001b[0m\u001b[0;34m,\u001b[0m \u001b[0;34m:\u001b[0m\u001b[0mn_neighbors\u001b[0m\u001b[0;34m]\u001b[0m\u001b[0;34m\u001b[0m\u001b[0;34m\u001b[0m\u001b[0m\n\u001b[1;32m    636\u001b[0m         \u001b[0;31m# argpartition doesn't guarantee sorted order, so we sort again\u001b[0m\u001b[0;34m\u001b[0m\u001b[0;34m\u001b[0m\u001b[0;34m\u001b[0m\u001b[0m\n",
            "\u001b[0;32m<__array_function__ internals>\u001b[0m in \u001b[0;36margpartition\u001b[0;34m(*args, **kwargs)\u001b[0m\n",
            "\u001b[0;32m/usr/local/lib/python3.8/dist-packages/numpy/core/fromnumeric.py\u001b[0m in \u001b[0;36margpartition\u001b[0;34m(a, kth, axis, kind, order)\u001b[0m\n\u001b[1;32m    837\u001b[0m \u001b[0;34m\u001b[0m\u001b[0m\n\u001b[1;32m    838\u001b[0m     \"\"\"\n\u001b[0;32m--> 839\u001b[0;31m     \u001b[0;32mreturn\u001b[0m \u001b[0m_wrapfunc\u001b[0m\u001b[0;34m(\u001b[0m\u001b[0ma\u001b[0m\u001b[0;34m,\u001b[0m \u001b[0;34m'argpartition'\u001b[0m\u001b[0;34m,\u001b[0m \u001b[0mkth\u001b[0m\u001b[0;34m,\u001b[0m \u001b[0maxis\u001b[0m\u001b[0;34m=\u001b[0m\u001b[0maxis\u001b[0m\u001b[0;34m,\u001b[0m \u001b[0mkind\u001b[0m\u001b[0;34m=\u001b[0m\u001b[0mkind\u001b[0m\u001b[0;34m,\u001b[0m \u001b[0morder\u001b[0m\u001b[0;34m=\u001b[0m\u001b[0morder\u001b[0m\u001b[0;34m)\u001b[0m\u001b[0;34m\u001b[0m\u001b[0;34m\u001b[0m\u001b[0m\n\u001b[0m\u001b[1;32m    840\u001b[0m \u001b[0;34m\u001b[0m\u001b[0m\n\u001b[1;32m    841\u001b[0m \u001b[0;34m\u001b[0m\u001b[0m\n",
            "\u001b[0;32m/usr/local/lib/python3.8/dist-packages/numpy/core/fromnumeric.py\u001b[0m in \u001b[0;36m_wrapfunc\u001b[0;34m(obj, method, *args, **kwds)\u001b[0m\n\u001b[1;32m     55\u001b[0m \u001b[0;34m\u001b[0m\u001b[0m\n\u001b[1;32m     56\u001b[0m     \u001b[0;32mtry\u001b[0m\u001b[0;34m:\u001b[0m\u001b[0;34m\u001b[0m\u001b[0;34m\u001b[0m\u001b[0m\n\u001b[0;32m---> 57\u001b[0;31m         \u001b[0;32mreturn\u001b[0m \u001b[0mbound\u001b[0m\u001b[0;34m(\u001b[0m\u001b[0;34m*\u001b[0m\u001b[0margs\u001b[0m\u001b[0;34m,\u001b[0m \u001b[0;34m**\u001b[0m\u001b[0mkwds\u001b[0m\u001b[0;34m)\u001b[0m\u001b[0;34m\u001b[0m\u001b[0;34m\u001b[0m\u001b[0m\n\u001b[0m\u001b[1;32m     58\u001b[0m     \u001b[0;32mexcept\u001b[0m \u001b[0mTypeError\u001b[0m\u001b[0;34m:\u001b[0m\u001b[0;34m\u001b[0m\u001b[0;34m\u001b[0m\u001b[0m\n\u001b[1;32m     59\u001b[0m         \u001b[0;31m# A TypeError occurs if the object does have such a method in its\u001b[0m\u001b[0;34m\u001b[0m\u001b[0;34m\u001b[0m\u001b[0;34m\u001b[0m\u001b[0m\n",
            "\u001b[0;31mKeyboardInterrupt\u001b[0m: "
          ]
        }
      ],
      "source": [
        "from sklearn.feature_selection import SequentialFeatureSelector\n",
        "from sklearn.neighbors import KNeighborsClassifier\n",
        "knn = KNeighborsClassifier(n_neighbors=3)\n",
        "sfs = SequentialFeatureSelector(knn, n_features_to_select=number_of_feat)\n",
        "sfs.fit(X, y)\n",
        "list_of_feat=[]\n",
        "list_of_feat=list(sfs.get_feature_names_out(X.columns))\n",
        "\n",
        "df = pd.DataFrame(list_of_feat, columns=['Best_Features'])\n",
        "\n",
        "#df.to_csv(\"Filter_Method_Sequential_feat_Selection_KNN.csv\")\n",
        "\n",
        "list_of_feat = list(df[\"Best_Features\"])\n",
        "if number_of_feat < len(list_of_feat):\n",
        "  list_of_feat = list_of_feat[:number_of_feat]"
      ]
    },
    {
      "cell_type": "markdown",
      "metadata": {
        "id": "YAQ71nBV-p7E"
      },
      "source": [
        "###Feature list"
      ]
    },
    {
      "cell_type": "code",
      "execution_count": null,
      "metadata": {
        "id": "JKwGHUuo-qnn",
        "colab": {
          "base_uri": "https://localhost:8080/"
        },
        "outputId": "3741f246-8554-4703-d923-c081caea7710"
      },
      "outputs": [
        {
          "output_type": "stream",
          "name": "stdout",
          "text": [
            "                              0\n",
            "0       Relative Power_Theta_T7\n",
            "1       Relative Power_Gamma_C1\n",
            "2   Relative Power_Theta_Global\n",
            "3        Relative Power_Beta_Fz\n",
            "4    Relative Power_Beta_Global\n",
            "5       Relative Power_Theta_Oz\n",
            "6       Relative Power_Theta_C2\n",
            "7       Relative Power_Theta_T8\n",
            "8                MeanP_Gamma_C2\n",
            "9                MeanP_Gamma_T8\n",
            "10               MeanP_Gamma_Oz\n",
            "11       Relative Power_Beta_T7\n",
            "12  Relative Power_Gamma_Global\n",
            "13                MeanP_Beta_C1\n",
            "14      Relative Power_Theta_Fz\n",
            "15               MeanP_Theta_C1\n",
            "16               MeanP_Alpha_C1\n",
            "17      Relative Power_Alpha_Fz\n",
            "18               MeanP_Gamma_Fz\n",
            "19       Relative Power_Beta_C1\n",
            "20                pdBSI_alpha_C\n",
            "21      Relative Power_Gamma_Oz\n",
            "22      Relative Power_Gamma_C2\n",
            "23      Relative Power_Gamma_T8\n",
            "24               Total Power_C1\n",
            "25      Relative Power_Theta_C1\n",
            "26                      pdBSI_C\n",
            "27                pdBSI_gamma_C\n",
            "28               MeanP_Delta_C1\n",
            "29               MeanP_Theta_Oz\n"
          ]
        }
      ],
      "source": [
        "dfcolumns = pd.DataFrame(list_of_feat)\n",
        "print(dfcolumns)"
      ]
    },
    {
      "cell_type": "markdown",
      "metadata": {
        "id": "C0Akgb_na7NU"
      },
      "source": [
        "#Data Spliting"
      ]
    },
    {
      "cell_type": "code",
      "execution_count": 27,
      "metadata": {
        "id": "uL-Rbjkl_Ath"
      },
      "outputs": [],
      "source": [
        "X_new = new_dataset[list_of_feat]\n",
        "y_new = new_dataset[target]"
      ]
    },
    {
      "cell_type": "code",
      "execution_count": 28,
      "metadata": {
        "colab": {
          "base_uri": "https://localhost:8080/"
        },
        "id": "C5l3a377_FOs",
        "outputId": "ddd9609e-7153-48f1-b614-10220497a302"
      },
      "outputs": [
        {
          "output_type": "execute_result",
          "data": {
            "text/plain": [
              "(3172, 30)"
            ]
          },
          "metadata": {},
          "execution_count": 28
        }
      ],
      "source": [
        "X_new.shape"
      ]
    },
    {
      "cell_type": "code",
      "execution_count": 29,
      "metadata": {
        "colab": {
          "base_uri": "https://localhost:8080/"
        },
        "id": "Akn6fiaQ_JON",
        "outputId": "95393813-e783-4948-8fbf-8a354d61a66b"
      },
      "outputs": [
        {
          "output_type": "execute_result",
          "data": {
            "text/plain": [
              "(3172,)"
            ]
          },
          "metadata": {},
          "execution_count": 29
        }
      ],
      "source": [
        "y_new.shape"
      ]
    },
    {
      "cell_type": "code",
      "execution_count": 30,
      "metadata": {
        "id": "dLN_vK-s_QnK"
      },
      "outputs": [],
      "source": [
        "from sklearn.model_selection import train_test_split\n",
        "X_train, X_test, y_train, y_test = train_test_split(X_new, y_new, test_size = 0.2, random_state = 0)"
      ]
    },
    {
      "cell_type": "markdown",
      "metadata": {
        "id": "bqYsoblRogp2"
      },
      "source": [
        "\n",
        "\n",
        "---\n",
        "\n"
      ]
    },
    {
      "cell_type": "markdown",
      "source": [
        "# **Training**"
      ],
      "metadata": {
        "id": "IqElxazTzXxp"
      }
    },
    {
      "cell_type": "markdown",
      "metadata": {
        "id": "BydV84Diooxp"
      },
      "source": [
        "\n",
        "\n",
        "---\n",
        "\n"
      ]
    },
    {
      "cell_type": "markdown",
      "metadata": {
        "id": "jEe2R0yAoifa"
      },
      "source": [
        "#ADABOOST"
      ]
    },
    {
      "cell_type": "code",
      "execution_count": 37,
      "metadata": {
        "colab": {
          "base_uri": "https://localhost:8080/"
        },
        "id": "Bz_yVJaXod8O",
        "outputId": "1ab0e8e4-12b3-4b9c-fd98-2898bd300a13"
      },
      "outputs": [
        {
          "output_type": "stream",
          "name": "stdout",
          "text": [
            "[[ 91  36  16  20]\n",
            " [ 39  77  16  13]\n",
            " [ 36  21  57  54]\n",
            " [  8  13  23 115]]\n",
            "              precision    recall  f1-score   support\n",
            "\n",
            "           0       0.52      0.56      0.54       163\n",
            "           1       0.52      0.53      0.53       145\n",
            "           2       0.51      0.34      0.41       168\n",
            "           3       0.57      0.72      0.64       159\n",
            "\n",
            "    accuracy                           0.54       635\n",
            "   macro avg       0.53      0.54      0.53       635\n",
            "weighted avg       0.53      0.54      0.53       635\n",
            "\n",
            "Accurecy:  0.5354330708661418\n"
          ]
        }
      ],
      "source": [
        "from sklearn.ensemble import AdaBoostClassifier\n",
        "\n",
        "ada_defult = AdaBoostClassifier(random_state=0)\n",
        "ada_defult.fit(X_train, y_train)\n",
        "y_pred = ada_defult.predict(X_test)\n",
        "\n",
        "from sklearn.metrics import classification_report, confusion_matrix, accuracy_score\n",
        "print(confusion_matrix(y_test, y_pred))\n",
        "print(classification_report(y_test,y_pred))\n",
        "print(\"Accurecy: \",accuracy_score(y_test, y_pred))\n",
        "result[(ada_defult,1,'AdaBoostClassifier')]=accuracy_score(y_test, y_pred)\n"
      ]
    },
    {
      "cell_type": "code",
      "execution_count": 38,
      "metadata": {
        "colab": {
          "base_uri": "https://localhost:8080/",
          "height": 0
        },
        "id": "_3wRG3rxotzH",
        "outputId": "39f3b95f-6d33-473b-e583-9819be3fbaf3"
      },
      "outputs": [
        {
          "output_type": "stream",
          "name": "stdout",
          "text": [
            "1/50 round completed......................... Accurecy: 0.4\n",
            "2/50 round completed......................... Accurecy: 0.4645669291338583\n",
            "3/50 round completed......................... Accurecy: 0.47244094488188976\n",
            "4/50 round completed......................... Accurecy: 0.4755905511811024\n",
            "5/50 round completed......................... Accurecy: 0.4755905511811024\n",
            "6/50 round completed......................... Accurecy: 0.48661417322834644\n",
            "7/50 round completed......................... Accurecy: 0.48503937007874015\n",
            "8/50 round completed......................... Accurecy: 0.5023622047244094\n",
            "9/50 round completed......................... Accurecy: 0.5070866141732283\n",
            "10/50 round completed......................... Accurecy: 0.5023622047244094\n",
            "11/50 round completed......................... Accurecy: 0.5118110236220472\n",
            "12/50 round completed......................... Accurecy: 0.5149606299212598\n",
            "13/50 round completed......................... Accurecy: 0.510236220472441\n",
            "14/50 round completed......................... Accurecy: 0.5228346456692914\n",
            "15/50 round completed......................... Accurecy: 0.5322834645669291\n",
            "16/50 round completed......................... Accurecy: 0.537007874015748\n",
            "17/50 round completed......................... Accurecy: 0.5417322834645669\n",
            "18/50 round completed......................... Accurecy: 0.552755905511811\n",
            "19/50 round completed......................... Accurecy: 0.5448818897637795\n",
            "20/50 round completed......................... Accurecy: 0.5417322834645669\n",
            "21/50 round completed......................... Accurecy: 0.521259842519685\n",
            "22/50 round completed......................... Accurecy: 0.5322834645669291\n",
            "23/50 round completed......................... Accurecy: 0.537007874015748\n",
            "24/50 round completed......................... Accurecy: 0.5464566929133858\n",
            "25/50 round completed......................... Accurecy: 0.5464566929133858\n",
            "26/50 round completed......................... Accurecy: 0.5401574803149606\n",
            "27/50 round completed......................... Accurecy: 0.5433070866141733\n",
            "28/50 round completed......................... Accurecy: 0.5244094488188976\n",
            "29/50 round completed......................... Accurecy: 0.525984251968504\n",
            "30/50 round completed......................... Accurecy: 0.5322834645669291\n",
            "31/50 round completed......................... Accurecy: 0.5275590551181102\n",
            "32/50 round completed......................... Accurecy: 0.5307086614173229\n",
            "33/50 round completed......................... Accurecy: 0.525984251968504\n",
            "34/50 round completed......................... Accurecy: 0.5354330708661418\n",
            "35/50 round completed......................... Accurecy: 0.5338582677165354\n",
            "36/50 round completed......................... Accurecy: 0.5338582677165354\n",
            "37/50 round completed......................... Accurecy: 0.5354330708661418\n",
            "38/50 round completed......................... Accurecy: 0.5322834645669291\n",
            "39/50 round completed......................... Accurecy: 0.5322834645669291\n",
            "40/50 round completed......................... Accurecy: 0.521259842519685\n",
            "41/50 round completed......................... Accurecy: 0.5291338582677165\n",
            "42/50 round completed......................... Accurecy: 0.5385826771653544\n",
            "43/50 round completed......................... Accurecy: 0.5417322834645669\n",
            "44/50 round completed......................... Accurecy: 0.5448818897637795\n",
            "45/50 round completed......................... Accurecy: 0.5496062992125984\n",
            "46/50 round completed......................... Accurecy: 0.5385826771653544\n",
            "47/50 round completed......................... Accurecy: 0.5590551181102362\n",
            "48/50 round completed......................... Accurecy: 0.5511811023622047\n",
            "49/50 round completed......................... Accurecy: 0.5338582677165354\n",
            "50/50 round completed......................... Accurecy: 0.5354330708661418\n",
            "The best n_estimators:\n",
            "47\n"
          ]
        },
        {
          "output_type": "display_data",
          "data": {
            "text/plain": [
              "<Figure size 1800x720 with 1 Axes>"
            ],
            "image/png": "[encoded data removed]"
          },
          "metadata": {
            "needs_background": "light"
          }
        }
      ],
      "source": [
        "from sklearn.ensemble import AdaBoostClassifier\n",
        "N=50\n",
        "k_range = range (1,N+1)\n",
        "scores={}\n",
        "scores_list = []\n",
        "for k in k_range:\n",
        "  classifier = AdaBoostClassifier(n_estimators=k,random_state=0)\n",
        "  classifier.fit(X_train, y_train)\n",
        "  y_pred=classifier.predict(X_test)\n",
        "  scores[k] = accuracy_score(y_test,y_pred)\n",
        "  scores_list.append(accuracy_score(y_test,y_pred))\n",
        "  print(str(k)+\"/\"+str(N)+\" round completed......................... Accurecy: \"+str(accuracy_score(y_test,y_pred)))\n",
        "\n",
        "\n",
        "\n",
        "%matplotlib inline\n",
        "import matplotlib.pyplot as plt\n",
        "#plot the relationship between K and the testing accuracy\n",
        "plt.figure(figsize = (25,10))\n",
        "plt.plot(k_range,scores_list)\n",
        "plt.xlabel('Value of n_estimators')\n",
        "plt.ylabel ('Testing Accuracy')\n",
        "\n",
        "\n",
        "\n",
        "print(\"The best n_estimators:\")\n",
        "best_estimator=list(scores.keys())[scores_list.index(max(scores_list))]\n",
        "print(best_estimator)"
      ]
    },
    {
      "cell_type": "code",
      "execution_count": 39,
      "metadata": {
        "colab": {
          "base_uri": "https://localhost:8080/"
        },
        "id": "ctzoGCmFo0In",
        "outputId": "b4cc1803-e7ac-42cc-915e-e86529766f9c"
      },
      "outputs": [
        {
          "output_type": "stream",
          "name": "stdout",
          "text": [
            "[[ 96  34  13  20]\n",
            " [ 45  74  13  13]\n",
            " [ 35  24  74  35]\n",
            " [  6  16  26 111]]\n",
            "              precision    recall  f1-score   support\n",
            "\n",
            "           0       0.53      0.59      0.56       163\n",
            "           1       0.50      0.51      0.51       145\n",
            "           2       0.59      0.44      0.50       168\n",
            "           3       0.62      0.70      0.66       159\n",
            "\n",
            "    accuracy                           0.56       635\n",
            "   macro avg       0.56      0.56      0.56       635\n",
            "weighted avg       0.56      0.56      0.56       635\n",
            "\n",
            "Accurecy:  0.5590551181102362\n"
          ]
        }
      ],
      "source": [
        "from sklearn.ensemble import AdaBoostClassifier\n",
        "\n",
        "ada_best_estimator = AdaBoostClassifier(n_estimators=best_estimator,random_state=0)\n",
        "ada_best_estimator.fit(X_train, y_train)\n",
        "y_pred = ada_best_estimator.predict(X_test)\n",
        "\n",
        "from sklearn.metrics import classification_report, confusion_matrix, accuracy_score\n",
        "print(confusion_matrix(y_test, y_pred))\n",
        "print(classification_report(y_test,y_pred))\n",
        "print(\"Accurecy: \",accuracy_score(y_test, y_pred))\n",
        "result[(ada_best_estimator,1,'AdaBoostClassifier')]=accuracy_score(y_test, y_pred)"
      ]
    },
    {
      "cell_type": "markdown",
      "metadata": {
        "id": "JQhATacCo1AD"
      },
      "source": [
        "\n",
        "\n",
        "---\n",
        "\n",
        "\n",
        "\n",
        "---\n",
        "\n"
      ]
    },
    {
      "cell_type": "markdown",
      "metadata": {
        "id": "FJybpt_UvCU0"
      },
      "source": [
        "#Graddient Boosting"
      ]
    },
    {
      "cell_type": "code",
      "execution_count": null,
      "metadata": {
        "colab": {
          "base_uri": "https://localhost:8080/"
        },
        "id": "sgmvc8A_o18j",
        "outputId": "bf0d255c-cc6a-415f-de12-b4ef7223b3c3"
      },
      "outputs": [
        {
          "output_type": "stream",
          "name": "stdout",
          "text": [
            "[[107  23  23  10]\n",
            " [ 16 102  11  16]\n",
            " [ 21  19 109  19]\n",
            " [  5   6  20 128]]\n",
            "              precision    recall  f1-score   support\n",
            "\n",
            "           0       0.72      0.66      0.69       163\n",
            "           1       0.68      0.70      0.69       145\n",
            "           2       0.67      0.65      0.66       168\n",
            "           3       0.74      0.81      0.77       159\n",
            "\n",
            "    accuracy                           0.70       635\n",
            "   macro avg       0.70      0.70      0.70       635\n",
            "weighted avg       0.70      0.70      0.70       635\n",
            "\n",
            "Accurecy:  0.7023622047244095\n"
          ]
        }
      ],
      "source": [
        "from sklearn.ensemble import GradientBoostingClassifier\n",
        "from sklearn.model_selection import RepeatedStratifiedKFold\n",
        "\n",
        "gradBoost_default = GradientBoostingClassifier(random_state=0)\n",
        "gradBoost_default.fit(X_train, y_train)\n",
        "y_pred = gradBoost_default.predict(X_test)\n",
        "\n",
        "from sklearn.metrics import classification_report, confusion_matrix, accuracy_score\n",
        "print(confusion_matrix(y_test, y_pred))\n",
        "print(classification_report(y_test,y_pred))\n",
        "print(\"Accurecy: \",accuracy_score(y_test, y_pred))\n",
        "result[(gradBoost_default,2,'GradientBoostingClassifier')]=accuracy_score(y_test, y_pred)"
      ]
    },
    {
      "cell_type": "code",
      "execution_count": null,
      "metadata": {
        "colab": {
          "base_uri": "https://localhost:8080/"
        },
        "id": "9brp-qNgo-tX",
        "outputId": "41411cb7-6d94-41ea-c5a4-68884a679cdd"
      },
      "outputs": [
        {
          "output_type": "stream",
          "name": "stdout",
          "text": [
            "1/50 round completed......................... Accurecy: 0.5874015748031496\n",
            "2/50 round completed......................... Accurecy: 0.5826771653543307\n",
            "3/50 round completed......................... Accurecy: 0.5937007874015748\n",
            "4/50 round completed......................... Accurecy: 0.6078740157480315\n",
            "5/50 round completed......................... Accurecy: 0.6062992125984252\n",
            "6/50 round completed......................... Accurecy: 0.6125984251968504\n",
            "7/50 round completed......................... Accurecy: 0.6173228346456693\n",
            "8/50 round completed......................... Accurecy: 0.6236220472440945\n",
            "9/50 round completed......................... Accurecy: 0.6299212598425197\n",
            "10/50 round completed......................... Accurecy: 0.6267716535433071\n",
            "11/50 round completed......................... Accurecy: 0.631496062992126\n",
            "12/50 round completed......................... Accurecy: 0.6346456692913386\n",
            "13/50 round completed......................... Accurecy: 0.6456692913385826\n",
            "14/50 round completed......................... Accurecy: 0.6409448818897637\n",
            "15/50 round completed......................... Accurecy: 0.6425196850393701\n",
            "16/50 round completed......................... Accurecy: 0.6362204724409449\n",
            "17/50 round completed......................... Accurecy: 0.6409448818897637\n",
            "18/50 round completed......................... Accurecy: 0.6409448818897637\n",
            "19/50 round completed......................... Accurecy: 0.6330708661417322\n",
            "20/50 round completed......................... Accurecy: 0.6377952755905512\n",
            "21/50 round completed......................... Accurecy: 0.6393700787401575\n",
            "22/50 round completed......................... Accurecy: 0.6377952755905512\n",
            "23/50 round completed......................... Accurecy: 0.6409448818897637\n",
            "24/50 round completed......................... Accurecy: 0.6456692913385826\n",
            "25/50 round completed......................... Accurecy: 0.6503937007874016\n",
            "26/50 round completed......................... Accurecy: 0.6503937007874016\n",
            "27/50 round completed......................... Accurecy: 0.6488188976377953\n",
            "28/50 round completed......................... Accurecy: 0.6535433070866141\n",
            "29/50 round completed......................... Accurecy: 0.658267716535433\n",
            "30/50 round completed......................... Accurecy: 0.658267716535433\n",
            "31/50 round completed......................... Accurecy: 0.6566929133858268\n",
            "32/50 round completed......................... Accurecy: 0.6614173228346457\n",
            "33/50 round completed......................... Accurecy: 0.6614173228346457\n",
            "34/50 round completed......................... Accurecy: 0.6614173228346457\n",
            "35/50 round completed......................... Accurecy: 0.6677165354330709\n",
            "36/50 round completed......................... Accurecy: 0.6645669291338583\n",
            "37/50 round completed......................... Accurecy: 0.6661417322834645\n",
            "38/50 round completed......................... Accurecy: 0.6677165354330709\n",
            "39/50 round completed......................... Accurecy: 0.6692913385826772\n",
            "40/50 round completed......................... Accurecy: 0.6692913385826772\n",
            "41/50 round completed......................... Accurecy: 0.6708661417322834\n",
            "42/50 round completed......................... Accurecy: 0.6692913385826772\n",
            "43/50 round completed......................... Accurecy: 0.6661417322834645\n",
            "44/50 round completed......................... Accurecy: 0.6677165354330709\n",
            "45/50 round completed......................... Accurecy: 0.6708661417322834\n",
            "46/50 round completed......................... Accurecy: 0.6708661417322834\n",
            "47/50 round completed......................... Accurecy: 0.6692913385826772\n",
            "48/50 round completed......................... Accurecy: 0.6708661417322834\n",
            "49/50 round completed......................... Accurecy: 0.6677165354330709\n",
            "50/50 round completed......................... Accurecy: 0.6661417322834645\n",
            "The best n_estimators:\n",
            "41\n"
          ]
        },
        {
          "output_type": "display_data",
          "data": {
            "text/plain": [
              "<Figure size 1800x720 with 1 Axes>"
            ],
            "image/png": "[encoded data removed]"
          },
          "metadata": {
            "needs_background": "light"
          }
        }
      ],
      "source": [
        "from sklearn.ensemble import GradientBoostingClassifier\n",
        "from sklearn.metrics import accuracy_score\n",
        "N=50\n",
        "k_range = range (1,N+1)\n",
        "scores={}\n",
        "scores_list = []\n",
        "for k in k_range:\n",
        "  classifier = GradientBoostingClassifier(n_estimators=k,random_state=0)\n",
        "  classifier.fit(X_train, y_train)\n",
        "  y_pred=classifier.predict(X_test)\n",
        "  scores[k] = accuracy_score(y_test,y_pred)\n",
        "  scores_list.append(accuracy_score(y_test,y_pred))\n",
        "  print(str(k)+\"/\"+str(N)+\" round completed......................... Accurecy: \"+str(accuracy_score(y_test,y_pred)))\n",
        "\n",
        "\n",
        "\n",
        "%matplotlib inline\n",
        "import matplotlib.pyplot as plt\n",
        "\n",
        "plt.figure(figsize = (25,10))\n",
        "plt.plot(k_range,scores_list)\n",
        "plt.xlabel('Value of n_estimators')\n",
        "plt.ylabel ('Testing Accuracy')\n",
        "\n",
        "\n",
        "\n",
        "print(\"The best n_estimators:\")\n",
        "best_estimator=list(scores.keys())[scores_list.index(max(scores_list))]\n",
        "print(best_estimator)"
      ]
    },
    {
      "cell_type": "code",
      "execution_count": null,
      "metadata": {
        "colab": {
          "base_uri": "https://localhost:8080/"
        },
        "id": "JtO5QAkHpDAy",
        "outputId": "15723d4b-1c1c-47e9-f445-2e613edbbb1d"
      },
      "outputs": [
        {
          "output_type": "stream",
          "name": "stdout",
          "text": [
            "1/14 round completed......................... Accurecy: 0.6173228346456693\n",
            "2/14 round completed......................... Accurecy: 0.6645669291338583\n",
            "3/14 round completed......................... Accurecy: 0.7023622047244095\n",
            "4/14 round completed......................... Accurecy: 0.7559055118110236\n",
            "5/14 round completed......................... Accurecy: 0.768503937007874\n",
            "6/14 round completed......................... Accurecy: 0.7858267716535433\n",
            "7/14 round completed......................... Accurecy: 0.7937007874015748\n",
            "8/14 round completed......................... Accurecy: 0.8015748031496063\n",
            "9/14 round completed......................... Accurecy: 0.8\n",
            "10/14 round completed......................... Accurecy: 0.8\n",
            "11/14 round completed......................... Accurecy: 0.8062992125984252\n",
            "12/14 round completed......................... Accurecy: 0.7968503937007874\n",
            "13/14 round completed......................... Accurecy: 0.7779527559055118\n",
            "14/14 round completed......................... Accurecy: 0.7700787401574803\n",
            "The best Depth:\n",
            "11\n"
          ]
        },
        {
          "output_type": "display_data",
          "data": {
            "text/plain": [
              "<Figure size 1800x720 with 1 Axes>"
            ],
            "image/png": "[encoded data removed]"
          },
          "metadata": {
            "needs_background": "light"
          }
        }
      ],
      "source": [
        "from sklearn.ensemble import GradientBoostingClassifier\n",
        "from sklearn.metrics import accuracy_score\n",
        "N=14\n",
        "k_range = range (1,N+1)\n",
        "scores={}\n",
        "scores_list = []\n",
        "for k in k_range:\n",
        "  classifier = GradientBoostingClassifier(max_depth=k,random_state=0)\n",
        "  classifier.fit(X_train, y_train)\n",
        "  y_pred=classifier.predict(X_test)\n",
        "  scores[k] = accuracy_score(y_test,y_pred)\n",
        "  scores_list.append(accuracy_score(y_test,y_pred))\n",
        "  print(str(k)+\"/\"+str(N)+\" round completed......................... Accurecy: \"+str(accuracy_score(y_test,y_pred)))\n",
        "\n",
        "\n",
        "\n",
        "%matplotlib inline\n",
        "import matplotlib.pyplot as plt\n",
        "\n",
        "plt.figure(figsize = (25,10))\n",
        "plt.plot(k_range,scores_list)\n",
        "plt.xlabel('Value of n_estimators')\n",
        "plt.ylabel ('Testing Accuracy')\n",
        "\n",
        "\n",
        "\n",
        "print(\"The best Depth:\")\n",
        "best_depth=list(scores.keys())[scores_list.index(max(scores_list))]\n",
        "print(best_depth)"
      ]
    },
    {
      "cell_type": "code",
      "execution_count": null,
      "metadata": {
        "colab": {
          "base_uri": "https://localhost:8080/"
        },
        "id": "EFg4mMYepGXx",
        "outputId": "ec1d3c24-9971-40f3-e353-69ff75927823"
      },
      "outputs": [
        {
          "output_type": "stream",
          "name": "stdout",
          "text": [
            "[[106  21  23  13]\n",
            " [ 20  94   9  22]\n",
            " [ 18  22 109  19]\n",
            " [  5  10  27 117]]\n",
            "              precision    recall  f1-score   support\n",
            "\n",
            "           0       0.71      0.65      0.68       163\n",
            "           1       0.64      0.65      0.64       145\n",
            "           2       0.65      0.65      0.65       168\n",
            "           3       0.68      0.74      0.71       159\n",
            "\n",
            "    accuracy                           0.67       635\n",
            "   macro avg       0.67      0.67      0.67       635\n",
            "weighted avg       0.67      0.67      0.67       635\n",
            "\n",
            "Accurecy:  0.6708661417322834\n"
          ]
        }
      ],
      "source": [
        "from sklearn.ensemble import GradientBoostingClassifier\n",
        "\n",
        "gradBoost_estimator = GradientBoostingClassifier(n_estimators=best_estimator,random_state=0)\n",
        "gradBoost_estimator.fit(X_train, y_train)\n",
        "y_pred = gradBoost_estimator.predict(X_test)\n",
        "\n",
        "from sklearn.metrics import classification_report, confusion_matrix, accuracy_score\n",
        "print(confusion_matrix(y_test, y_pred))\n",
        "print(classification_report(y_test,y_pred))\n",
        "print(\"Accurecy: \",accuracy_score(y_test, y_pred))\n",
        "result[(gradBoost_estimator,2,'GradientBoostingClassifier')]=accuracy_score(y_test, y_pred)"
      ]
    },
    {
      "cell_type": "code",
      "execution_count": null,
      "metadata": {
        "colab": {
          "base_uri": "https://localhost:8080/"
        },
        "id": "oS_ycrCQpI09",
        "outputId": "44bab232-065c-429a-c050-a7b79b255988"
      },
      "outputs": [
        {
          "output_type": "stream",
          "name": "stdout",
          "text": [
            "[[122  18  17   6]\n",
            " [ 11 126   3   5]\n",
            " [ 17  19 119  13]\n",
            " [  2   3   9 145]]\n",
            "              precision    recall  f1-score   support\n",
            "\n",
            "           0       0.80      0.75      0.77       163\n",
            "           1       0.76      0.87      0.81       145\n",
            "           2       0.80      0.71      0.75       168\n",
            "           3       0.86      0.91      0.88       159\n",
            "\n",
            "    accuracy                           0.81       635\n",
            "   macro avg       0.81      0.81      0.81       635\n",
            "weighted avg       0.81      0.81      0.80       635\n",
            "\n",
            "Accurecy:  0.8062992125984252\n"
          ]
        }
      ],
      "source": [
        "from sklearn.ensemble import GradientBoostingClassifier\n",
        "\n",
        "gradBoost_depth = GradientBoostingClassifier(max_depth=best_depth,random_state=0)\n",
        "gradBoost_depth.fit(X_train, y_train)\n",
        "y_pred = gradBoost_depth.predict(X_test)\n",
        "\n",
        "from sklearn.metrics import classification_report, confusion_matrix, accuracy_score\n",
        "print(confusion_matrix(y_test, y_pred))\n",
        "print(classification_report(y_test,y_pred))\n",
        "print(\"Accurecy: \",accuracy_score(y_test, y_pred))\n",
        "\n",
        "result[(gradBoost_depth,2,'GradientBoostingClassifier')]=accuracy_score(y_test, y_pred)"
      ]
    },
    {
      "cell_type": "code",
      "execution_count": null,
      "metadata": {
        "colab": {
          "base_uri": "https://localhost:8080/"
        },
        "id": "GU8wNje3pJjR",
        "outputId": "6708c9da-c3f9-4d87-c704-24bb47f76b60"
      },
      "outputs": [
        {
          "output_type": "stream",
          "name": "stdout",
          "text": [
            "[[120  19  17   7]\n",
            " [ 13 123   3   6]\n",
            " [ 17  20 114  17]\n",
            " [  3   3  12 141]]\n",
            "              precision    recall  f1-score   support\n",
            "\n",
            "           0       0.78      0.74      0.76       163\n",
            "           1       0.75      0.85      0.79       145\n",
            "           2       0.78      0.68      0.73       168\n",
            "           3       0.82      0.89      0.85       159\n",
            "\n",
            "    accuracy                           0.78       635\n",
            "   macro avg       0.78      0.79      0.78       635\n",
            "weighted avg       0.78      0.78      0.78       635\n",
            "\n",
            "Accurecy:  0.784251968503937\n"
          ]
        }
      ],
      "source": [
        "from sklearn.ensemble import GradientBoostingClassifier\n",
        "\n",
        "gradBoost_all = GradientBoostingClassifier(n_estimators=best_estimator,max_depth=best_depth,random_state=0)\n",
        "gradBoost_all.fit(X_train, y_train)\n",
        "y_pred = gradBoost_all.predict(X_test)\n",
        "\n",
        "from sklearn.metrics import classification_report, confusion_matrix, accuracy_score\n",
        "print(confusion_matrix(y_test, y_pred))\n",
        "print(classification_report(y_test,y_pred))\n",
        "print(\"Accurecy: \",accuracy_score(y_test, y_pred))\n",
        "\n",
        "result[(gradBoost_all,2,'GradientBoostingClassifier')]=accuracy_score(y_test, y_pred)"
      ]
    },
    {
      "cell_type": "markdown",
      "metadata": {
        "id": "ThoTlhc4pRJT"
      },
      "source": [
        "\n",
        "\n",
        "---\n",
        "\n",
        "\n",
        "\n",
        "---\n",
        "\n"
      ]
    },
    {
      "cell_type": "markdown",
      "metadata": {
        "id": "AgMT_U8gvM7F"
      },
      "source": [
        "#Random Forest"
      ]
    },
    {
      "cell_type": "code",
      "execution_count": null,
      "metadata": {
        "colab": {
          "base_uri": "https://localhost:8080/"
        },
        "id": "-4GMunEvtWk2",
        "outputId": "c449c7c4-1718-42ea-bd4a-84fdae18b62d"
      },
      "outputs": [
        {
          "output_type": "stream",
          "name": "stdout",
          "text": [
            "[[120  16  20   7]\n",
            " [  9 124   6   6]\n",
            " [ 17  17 121  13]\n",
            " [  4   3  10 142]]\n",
            "              precision    recall  f1-score   support\n",
            "\n",
            "           0       0.80      0.74      0.77       163\n",
            "           1       0.78      0.86      0.81       145\n",
            "           2       0.77      0.72      0.74       168\n",
            "           3       0.85      0.89      0.87       159\n",
            "\n",
            "    accuracy                           0.80       635\n",
            "   macro avg       0.80      0.80      0.80       635\n",
            "weighted avg       0.80      0.80      0.80       635\n",
            "\n",
            "Accurecy:  0.7984251968503937\n"
          ]
        }
      ],
      "source": [
        "from sklearn.ensemble import RandomForestClassifier\n",
        "rf_default = RandomForestClassifier(random_state=0)\n",
        "rf_default.fit(X_train, y_train)\n",
        "y_pred=rf_default.predict(X_test)\n",
        "\n",
        "\n",
        "from sklearn.metrics import classification_report, confusion_matrix, accuracy_score\n",
        "print(confusion_matrix(y_test, y_pred))\n",
        "print(classification_report(y_test,y_pred))\n",
        "print(\"Accurecy: \",accuracy_score(y_test, y_pred))\n",
        "result[(rf_default,3,'RandomForestClassifier')]=accuracy_score(y_test, y_pred)"
      ]
    },
    {
      "cell_type": "code",
      "execution_count": null,
      "metadata": {
        "colab": {
          "base_uri": "https://localhost:8080/"
        },
        "id": "ve34YgestieE",
        "outputId": "ca886714-5ccb-457a-ea68-896ea62dc3f9"
      },
      "outputs": [
        {
          "output_type": "stream",
          "name": "stdout",
          "text": [
            "1/150 round completed......................... Accurecy: 0.5763779527559055\n",
            "2/150 round completed......................... Accurecy: 0.6047244094488189\n",
            "3/150 round completed......................... Accurecy: 0.6803149606299213\n",
            "4/150 round completed......................... Accurecy: 0.6803149606299213\n",
            "5/150 round completed......................... Accurecy: 0.7070866141732284\n",
            "6/150 round completed......................... Accurecy: 0.7181102362204724\n",
            "7/150 round completed......................... Accurecy: 0.7228346456692913\n",
            "8/150 round completed......................... Accurecy: 0.7354330708661417\n",
            "9/150 round completed......................... Accurecy: 0.7559055118110236\n",
            "10/150 round completed......................... Accurecy: 0.7385826771653543\n",
            "11/150 round completed......................... Accurecy: 0.752755905511811\n",
            "12/150 round completed......................... Accurecy: 0.75748031496063\n",
            "13/150 round completed......................... Accurecy: 0.7543307086614173\n",
            "14/150 round completed......................... Accurecy: 0.7622047244094489\n",
            "15/150 round completed......................... Accurecy: 0.7637795275590551\n",
            "16/150 round completed......................... Accurecy: 0.7669291338582677\n",
            "17/150 round completed......................... Accurecy: 0.7795275590551181\n",
            "18/150 round completed......................... Accurecy: 0.7811023622047244\n",
            "19/150 round completed......................... Accurecy: 0.7795275590551181\n",
            "20/150 round completed......................... Accurecy: 0.7779527559055118\n",
            "21/150 round completed......................... Accurecy: 0.7748031496062993\n",
            "22/150 round completed......................... Accurecy: 0.768503937007874\n",
            "23/150 round completed......................... Accurecy: 0.7732283464566929\n",
            "24/150 round completed......................... Accurecy: 0.7763779527559055\n",
            "25/150 round completed......................... Accurecy: 0.7732283464566929\n",
            "26/150 round completed......................... Accurecy: 0.784251968503937\n",
            "27/150 round completed......................... Accurecy: 0.7748031496062993\n",
            "28/150 round completed......................... Accurecy: 0.7779527559055118\n",
            "29/150 round completed......................... Accurecy: 0.7748031496062993\n",
            "30/150 round completed......................... Accurecy: 0.7763779527559055\n",
            "31/150 round completed......................... Accurecy: 0.7716535433070866\n",
            "32/150 round completed......................... Accurecy: 0.7716535433070866\n",
            "33/150 round completed......................... Accurecy: 0.7732283464566929\n",
            "34/150 round completed......................... Accurecy: 0.7748031496062993\n",
            "35/150 round completed......................... Accurecy: 0.7732283464566929\n",
            "36/150 round completed......................... Accurecy: 0.7763779527559055\n",
            "37/150 round completed......................... Accurecy: 0.7795275590551181\n",
            "38/150 round completed......................... Accurecy: 0.7763779527559055\n",
            "39/150 round completed......................... Accurecy: 0.7763779527559055\n",
            "40/150 round completed......................... Accurecy: 0.7779527559055118\n",
            "41/150 round completed......................... Accurecy: 0.7811023622047244\n",
            "42/150 round completed......................... Accurecy: 0.7795275590551181\n",
            "43/150 round completed......................... Accurecy: 0.7811023622047244\n",
            "44/150 round completed......................... Accurecy: 0.7763779527559055\n",
            "45/150 round completed......................... Accurecy: 0.784251968503937\n",
            "46/150 round completed......................... Accurecy: 0.784251968503937\n",
            "47/150 round completed......................... Accurecy: 0.7874015748031497\n",
            "48/150 round completed......................... Accurecy: 0.784251968503937\n",
            "49/150 round completed......................... Accurecy: 0.7874015748031497\n",
            "50/150 round completed......................... Accurecy: 0.7905511811023622\n",
            "51/150 round completed......................... Accurecy: 0.7889763779527559\n",
            "52/150 round completed......................... Accurecy: 0.7826771653543307\n",
            "53/150 round completed......................... Accurecy: 0.784251968503937\n",
            "54/150 round completed......................... Accurecy: 0.784251968503937\n",
            "55/150 round completed......................... Accurecy: 0.7795275590551181\n",
            "56/150 round completed......................... Accurecy: 0.7795275590551181\n",
            "57/150 round completed......................... Accurecy: 0.7795275590551181\n",
            "58/150 round completed......................... Accurecy: 0.7795275590551181\n",
            "59/150 round completed......................... Accurecy: 0.7748031496062993\n",
            "60/150 round completed......................... Accurecy: 0.7763779527559055\n",
            "61/150 round completed......................... Accurecy: 0.7811023622047244\n",
            "62/150 round completed......................... Accurecy: 0.7763779527559055\n",
            "63/150 round completed......................... Accurecy: 0.7779527559055118\n",
            "64/150 round completed......................... Accurecy: 0.7779527559055118\n",
            "65/150 round completed......................... Accurecy: 0.7763779527559055\n",
            "66/150 round completed......................... Accurecy: 0.7826771653543307\n",
            "67/150 round completed......................... Accurecy: 0.784251968503937\n",
            "68/150 round completed......................... Accurecy: 0.7858267716535433\n",
            "69/150 round completed......................... Accurecy: 0.7889763779527559\n",
            "70/150 round completed......................... Accurecy: 0.7874015748031497\n",
            "71/150 round completed......................... Accurecy: 0.7889763779527559\n",
            "72/150 round completed......................... Accurecy: 0.7921259842519685\n",
            "73/150 round completed......................... Accurecy: 0.7874015748031497\n",
            "74/150 round completed......................... Accurecy: 0.7937007874015748\n",
            "75/150 round completed......................... Accurecy: 0.7905511811023622\n",
            "76/150 round completed......................... Accurecy: 0.7937007874015748\n",
            "77/150 round completed......................... Accurecy: 0.7905511811023622\n",
            "78/150 round completed......................... Accurecy: 0.7937007874015748\n",
            "79/150 round completed......................... Accurecy: 0.7889763779527559\n",
            "80/150 round completed......................... Accurecy: 0.7937007874015748\n",
            "81/150 round completed......................... Accurecy: 0.7937007874015748\n",
            "82/150 round completed......................... Accurecy: 0.7889763779527559\n",
            "83/150 round completed......................... Accurecy: 0.7952755905511811\n",
            "84/150 round completed......................... Accurecy: 0.7937007874015748\n",
            "85/150 round completed......................... Accurecy: 0.7952755905511811\n",
            "86/150 round completed......................... Accurecy: 0.8\n",
            "87/150 round completed......................... Accurecy: 0.7952755905511811\n",
            "88/150 round completed......................... Accurecy: 0.7968503937007874\n",
            "89/150 round completed......................... Accurecy: 0.7968503937007874\n",
            "90/150 round completed......................... Accurecy: 0.7968503937007874\n",
            "91/150 round completed......................... Accurecy: 0.7984251968503937\n",
            "92/150 round completed......................... Accurecy: 0.7905511811023622\n",
            "93/150 round completed......................... Accurecy: 0.7968503937007874\n",
            "94/150 round completed......................... Accurecy: 0.7937007874015748\n",
            "95/150 round completed......................... Accurecy: 0.7952755905511811\n",
            "96/150 round completed......................... Accurecy: 0.7984251968503937\n",
            "97/150 round completed......................... Accurecy: 0.7984251968503937\n",
            "98/150 round completed......................... Accurecy: 0.7968503937007874\n",
            "99/150 round completed......................... Accurecy: 0.7984251968503937\n",
            "100/150 round completed......................... Accurecy: 0.7984251968503937\n",
            "101/150 round completed......................... Accurecy: 0.7968503937007874\n",
            "102/150 round completed......................... Accurecy: 0.7937007874015748\n",
            "103/150 round completed......................... Accurecy: 0.7921259842519685\n",
            "104/150 round completed......................... Accurecy: 0.7937007874015748\n",
            "105/150 round completed......................... Accurecy: 0.7937007874015748\n",
            "106/150 round completed......................... Accurecy: 0.7921259842519685\n",
            "107/150 round completed......................... Accurecy: 0.7921259842519685\n",
            "108/150 round completed......................... Accurecy: 0.7921259842519685\n",
            "109/150 round completed......................... Accurecy: 0.7952755905511811\n",
            "110/150 round completed......................... Accurecy: 0.7952755905511811\n",
            "111/150 round completed......................... Accurecy: 0.7952755905511811\n",
            "112/150 round completed......................... Accurecy: 0.7984251968503937\n",
            "113/150 round completed......................... Accurecy: 0.7984251968503937\n",
            "114/150 round completed......................... Accurecy: 0.7984251968503937\n",
            "115/150 round completed......................... Accurecy: 0.7937007874015748\n",
            "116/150 round completed......................... Accurecy: 0.7905511811023622\n",
            "117/150 round completed......................... Accurecy: 0.7937007874015748\n",
            "118/150 round completed......................... Accurecy: 0.7984251968503937\n",
            "119/150 round completed......................... Accurecy: 0.7968503937007874\n",
            "120/150 round completed......................... Accurecy: 0.8\n",
            "121/150 round completed......................... Accurecy: 0.7984251968503937\n",
            "122/150 round completed......................... Accurecy: 0.8031496062992126\n",
            "123/150 round completed......................... Accurecy: 0.8015748031496063\n",
            "124/150 round completed......................... Accurecy: 0.8062992125984252\n",
            "125/150 round completed......................... Accurecy: 0.8062992125984252\n",
            "126/150 round completed......................... Accurecy: 0.8015748031496063\n",
            "127/150 round completed......................... Accurecy: 0.8015748031496063\n",
            "128/150 round completed......................... Accurecy: 0.8031496062992126\n",
            "129/150 round completed......................... Accurecy: 0.8031496062992126\n",
            "130/150 round completed......................... Accurecy: 0.8031496062992126\n",
            "131/150 round completed......................... Accurecy: 0.8015748031496063\n",
            "132/150 round completed......................... Accurecy: 0.8\n",
            "133/150 round completed......................... Accurecy: 0.8015748031496063\n",
            "134/150 round completed......................... Accurecy: 0.8\n",
            "135/150 round completed......................... Accurecy: 0.8\n",
            "136/150 round completed......................... Accurecy: 0.8031496062992126\n",
            "137/150 round completed......................... Accurecy: 0.8015748031496063\n",
            "138/150 round completed......................... Accurecy: 0.8\n",
            "139/150 round completed......................... Accurecy: 0.8015748031496063\n",
            "140/150 round completed......................... Accurecy: 0.8015748031496063\n",
            "141/150 round completed......................... Accurecy: 0.7984251968503937\n",
            "142/150 round completed......................... Accurecy: 0.7984251968503937\n",
            "143/150 round completed......................... Accurecy: 0.8\n",
            "144/150 round completed......................... Accurecy: 0.8015748031496063\n",
            "145/150 round completed......................... Accurecy: 0.8015748031496063\n",
            "146/150 round completed......................... Accurecy: 0.8015748031496063\n",
            "147/150 round completed......................... Accurecy: 0.8047244094488188\n",
            "148/150 round completed......................... Accurecy: 0.8031496062992126\n",
            "149/150 round completed......................... Accurecy: 0.8047244094488188\n",
            "150/150 round completed......................... Accurecy: 0.8031496062992126\n",
            "The best n_estimators:\n",
            "124\n"
          ]
        },
        {
          "output_type": "display_data",
          "data": {
            "text/plain": [
              "<Figure size 1800x720 with 1 Axes>"
            ],
            "image/png": "[encoded data removed]"
          },
          "metadata": {
            "needs_background": "light"
          }
        }
      ],
      "source": [
        "from sklearn.ensemble import RandomForestClassifier\n",
        "from sklearn.metrics import accuracy_score\n",
        "N=150\n",
        "k_range = range (1,N+1)\n",
        "scores={}\n",
        "scores_list = []\n",
        "for k in k_range:\n",
        "  classifier = RandomForestClassifier(n_estimators=k,random_state=0)\n",
        "  classifier.fit(X_train, y_train)\n",
        "  y_pred=classifier.predict(X_test)\n",
        "  scores[k] = accuracy_score(y_test,y_pred)\n",
        "  scores_list.append(accuracy_score(y_test,y_pred))\n",
        "  print(str(k)+\"/\"+str(N)+\" round completed......................... Accurecy: \"+str(accuracy_score(y_test,y_pred)))\n",
        "\n",
        "\n",
        "\n",
        "%matplotlib inline\n",
        "import matplotlib.pyplot as plt\n",
        "\n",
        "plt.figure(figsize = (25,10))\n",
        "plt.plot(k_range,scores_list)\n",
        "plt.xlabel('Value of n_estimators')\n",
        "plt.ylabel ('Testing Accuracy')\n",
        "\n",
        "\n",
        "\n",
        "print(\"The best n_estimators:\")\n",
        "best_estimator=list(scores.keys())[scores_list.index(max(scores_list))]\n",
        "print(best_estimator)"
      ]
    },
    {
      "cell_type": "code",
      "execution_count": null,
      "metadata": {
        "colab": {
          "base_uri": "https://localhost:8080/"
        },
        "id": "eVfKbSTWtnny",
        "outputId": "7138ab7a-a450-4b39-c3ec-b518dba55b9f"
      },
      "outputs": [
        {
          "output_type": "stream",
          "name": "stdout",
          "text": [
            "1/30 round completed......................... Accurecy: 0.431496062992126\n",
            "2/30 round completed......................... Accurecy: 0.5496062992125984\n",
            "3/30 round completed......................... Accurecy: 0.5653543307086614\n",
            "4/30 round completed......................... Accurecy: 0.5889763779527559\n",
            "5/30 round completed......................... Accurecy: 0.6204724409448819\n",
            "6/30 round completed......................... Accurecy: 0.6488188976377953\n",
            "7/30 round completed......................... Accurecy: 0.6803149606299213\n",
            "8/30 round completed......................... Accurecy: 0.6960629921259842\n",
            "9/30 round completed......................... Accurecy: 0.7275590551181103\n",
            "10/30 round completed......................... Accurecy: 0.7354330708661417\n",
            "11/30 round completed......................... Accurecy: 0.75748031496063\n",
            "12/30 round completed......................... Accurecy: 0.7590551181102362\n",
            "13/30 round completed......................... Accurecy: 0.7732283464566929\n",
            "14/30 round completed......................... Accurecy: 0.7811023622047244\n",
            "15/30 round completed......................... Accurecy: 0.7748031496062993\n",
            "16/30 round completed......................... Accurecy: 0.8\n",
            "17/30 round completed......................... Accurecy: 0.7937007874015748\n",
            "18/30 round completed......................... Accurecy: 0.8031496062992126\n",
            "19/30 round completed......................... Accurecy: 0.7968503937007874\n",
            "20/30 round completed......................... Accurecy: 0.7921259842519685\n",
            "21/30 round completed......................... Accurecy: 0.7952755905511811\n",
            "22/30 round completed......................... Accurecy: 0.7968503937007874\n",
            "23/30 round completed......................... Accurecy: 0.7984251968503937\n",
            "24/30 round completed......................... Accurecy: 0.7984251968503937\n",
            "25/30 round completed......................... Accurecy: 0.7984251968503937\n",
            "26/30 round completed......................... Accurecy: 0.7984251968503937\n",
            "27/30 round completed......................... Accurecy: 0.7984251968503937\n",
            "28/30 round completed......................... Accurecy: 0.7984251968503937\n",
            "29/30 round completed......................... Accurecy: 0.7984251968503937\n",
            "30/30 round completed......................... Accurecy: 0.7984251968503937\n",
            "The best Depth:\n",
            "18\n"
          ]
        },
        {
          "output_type": "display_data",
          "data": {
            "text/plain": [
              "<Figure size 1800x720 with 1 Axes>"
            ],
            "image/png": "[encoded data removed]"
          },
          "metadata": {
            "needs_background": "light"
          }
        }
      ],
      "source": [
        "from sklearn.ensemble import RandomForestClassifier\n",
        "from sklearn.metrics import accuracy_score\n",
        "N=30\n",
        "k_range = range (1,N+1)\n",
        "scores={}\n",
        "scores_list = []\n",
        "for k in k_range:\n",
        "  classifier = RandomForestClassifier(max_depth=k,random_state=0)\n",
        "  classifier.fit(X_train, y_train)\n",
        "  y_pred=classifier.predict(X_test)\n",
        "  scores[k] = accuracy_score(y_test,y_pred)\n",
        "  scores_list.append(accuracy_score(y_test,y_pred))\n",
        "  print(str(k)+\"/\"+str(N)+\" round completed......................... Accurecy: \"+str(accuracy_score(y_test,y_pred)))\n",
        "\n",
        "\n",
        "\n",
        "%matplotlib inline\n",
        "import matplotlib.pyplot as plt\n",
        "\n",
        "plt.figure(figsize = (25,10))\n",
        "plt.plot(k_range,scores_list)\n",
        "plt.xlabel('Value of n_estimators')\n",
        "plt.ylabel ('Testing Accuracy')\n",
        "\n",
        "\n",
        "\n",
        "print(\"The best Depth:\")\n",
        "best_depth=list(scores.keys())[scores_list.index(max(scores_list))]\n",
        "print(best_depth)"
      ]
    },
    {
      "cell_type": "code",
      "execution_count": null,
      "metadata": {
        "colab": {
          "base_uri": "https://localhost:8080/"
        },
        "id": "LMUwwEqUt2-T",
        "outputId": "e8d0e9d7-1635-4d00-b171-cacd04d81a2f"
      },
      "outputs": [
        {
          "output_type": "stream",
          "name": "stdout",
          "text": [
            "[[120  17  19   7]\n",
            " [  8 129   4   4]\n",
            " [ 17  17 121  13]\n",
            " [  4   3  10 142]]\n",
            "              precision    recall  f1-score   support\n",
            "\n",
            "           0       0.81      0.74      0.77       163\n",
            "           1       0.78      0.89      0.83       145\n",
            "           2       0.79      0.72      0.75       168\n",
            "           3       0.86      0.89      0.87       159\n",
            "\n",
            "    accuracy                           0.81       635\n",
            "   macro avg       0.81      0.81      0.81       635\n",
            "weighted avg       0.81      0.81      0.80       635\n",
            "\n",
            "Accurecy:  0.8062992125984252\n"
          ]
        }
      ],
      "source": [
        "from sklearn.ensemble import RandomForestClassifier\n",
        "rf_estimator = RandomForestClassifier(n_estimators=best_estimator,random_state=0)\n",
        "rf_estimator.fit(X_train, y_train)\n",
        "y_pred=rf_estimator.predict(X_test)\n",
        "\n",
        "\n",
        "from sklearn.metrics import classification_report, confusion_matrix, accuracy_score\n",
        "print(confusion_matrix(y_test, y_pred))\n",
        "print(classification_report(y_test,y_pred))\n",
        "print(\"Accurecy: \",accuracy_score(y_test, y_pred))\n",
        "result[(rf_estimator,3,'RandomForestClassifier')]=accuracy_score(y_test, y_pred)"
      ]
    },
    {
      "cell_type": "code",
      "execution_count": null,
      "metadata": {
        "colab": {
          "base_uri": "https://localhost:8080/"
        },
        "id": "NRybS4-nt_vO",
        "outputId": "47e036ee-02b6-43b9-b662-534e43e9d390"
      },
      "outputs": [
        {
          "output_type": "stream",
          "name": "stdout",
          "text": [
            "[[118  17  19   9]\n",
            " [  7 129   5   4]\n",
            " [ 20  15 119  14]\n",
            " [  4   3   8 144]]\n",
            "              precision    recall  f1-score   support\n",
            "\n",
            "           0       0.79      0.72      0.76       163\n",
            "           1       0.79      0.89      0.83       145\n",
            "           2       0.79      0.71      0.75       168\n",
            "           3       0.84      0.91      0.87       159\n",
            "\n",
            "    accuracy                           0.80       635\n",
            "   macro avg       0.80      0.81      0.80       635\n",
            "weighted avg       0.80      0.80      0.80       635\n",
            "\n",
            "Accurecy:  0.8031496062992126\n"
          ]
        }
      ],
      "source": [
        "from sklearn.ensemble import RandomForestClassifier\n",
        "rf_depth = RandomForestClassifier(max_depth=best_depth,random_state=0)\n",
        "rf_depth.fit(X_train, y_train)\n",
        "y_pred=rf_depth.predict(X_test)\n",
        "\n",
        "\n",
        "from sklearn.metrics import classification_report, confusion_matrix, accuracy_score\n",
        "print(confusion_matrix(y_test, y_pred))\n",
        "print(classification_report(y_test,y_pred))\n",
        "print(\"Accurecy: \",accuracy_score(y_test, y_pred))\n",
        "result[(rf_depth,3,'RandomForestClassifier')]=accuracy_score(y_test, y_pred)"
      ]
    },
    {
      "cell_type": "code",
      "execution_count": null,
      "metadata": {
        "colab": {
          "base_uri": "https://localhost:8080/"
        },
        "id": "G9p0fJyBtrdZ",
        "outputId": "19a706d3-cd13-4f6e-c7b4-294ae5f68580"
      },
      "outputs": [
        {
          "output_type": "stream",
          "name": "stdout",
          "text": [
            "[[118  18  19   8]\n",
            " [  7 129   5   4]\n",
            " [ 18  15 121  14]\n",
            " [  4   3  11 141]]\n",
            "              precision    recall  f1-score   support\n",
            "\n",
            "           0       0.80      0.72      0.76       163\n",
            "           1       0.78      0.89      0.83       145\n",
            "           2       0.78      0.72      0.75       168\n",
            "           3       0.84      0.89      0.87       159\n",
            "\n",
            "    accuracy                           0.80       635\n",
            "   macro avg       0.80      0.81      0.80       635\n",
            "weighted avg       0.80      0.80      0.80       635\n",
            "\n",
            "Accurecy:  0.8015748031496063\n"
          ]
        }
      ],
      "source": [
        "from sklearn.ensemble import RandomForestClassifier\n",
        "rf_all = RandomForestClassifier(n_estimators=best_estimator,max_depth=best_depth,random_state=0)\n",
        "rf_all.fit(X_train, y_train)\n",
        "y_pred=rf_all.predict(X_test)\n",
        "\n",
        "\n",
        "from sklearn.metrics import classification_report, confusion_matrix, accuracy_score\n",
        "print(confusion_matrix(y_test, y_pred))\n",
        "print(classification_report(y_test,y_pred))\n",
        "print(\"Accurecy: \",accuracy_score(y_test, y_pred))\n",
        "result[(rf_all,3,'RandomForestClassifier')]=accuracy_score(y_test, y_pred)"
      ]
    },
    {
      "cell_type": "markdown",
      "metadata": {
        "id": "G_DChNuquB92"
      },
      "source": [
        "\n",
        "\n",
        "---\n",
        "\n",
        "\n",
        "\n",
        "---\n",
        "\n"
      ]
    },
    {
      "cell_type": "markdown",
      "metadata": {
        "id": "jRG4cBnKvZU2"
      },
      "source": [
        "#XGB"
      ]
    },
    {
      "cell_type": "code",
      "execution_count": 48,
      "metadata": {
        "colab": {
          "base_uri": "https://localhost:8080/"
        },
        "id": "sC1lAZeeuCw8",
        "outputId": "76dd8e57-85ca-44e9-db58-8719632e028e"
      },
      "outputs": [
        {
          "output_type": "stream",
          "name": "stdout",
          "text": [
            "[[107  27  18  11]\n",
            " [ 20 108   8   9]\n",
            " [ 23  22  99  24]\n",
            " [  7   6  24 122]]\n",
            "              precision    recall  f1-score   support\n",
            "\n",
            "           0       0.68      0.66      0.67       163\n",
            "           1       0.66      0.74      0.70       145\n",
            "           2       0.66      0.59      0.62       168\n",
            "           3       0.73      0.77      0.75       159\n",
            "\n",
            "    accuracy                           0.69       635\n",
            "   macro avg       0.69      0.69      0.69       635\n",
            "weighted avg       0.69      0.69      0.69       635\n",
            "\n",
            "Accurecy:  0.6866141732283465\n"
          ]
        }
      ],
      "source": [
        "\n",
        "\n",
        "import xgboost as xgb\n",
        "xgb_deafult = xgb.XGBClassifier(random_state=0)\n",
        "xgb_deafult.fit(X_train.values,y_train.values)\n",
        "y_pred = xgb_deafult.predict(X_test.values)\n",
        "\n",
        "\n",
        "from sklearn.metrics import classification_report, confusion_matrix, accuracy_score\n",
        "print(confusion_matrix(y_test, y_pred))\n",
        "print(classification_report(y_test,y_pred))\n",
        "print(\"Accurecy: \",accuracy_score(y_test, y_pred))\n",
        "result[(xgb_deafult,4,'xgboost')]=accuracy_score(y_test, y_pred)"
      ]
    },
    {
      "cell_type": "code",
      "execution_count": null,
      "metadata": {
        "colab": {
          "base_uri": "https://localhost:8080/"
        },
        "id": "YQYsfVO0uPMA",
        "outputId": "e01cd825-fefe-449c-dbc5-265435012333"
      },
      "outputs": [
        {
          "output_type": "stream",
          "name": "stdout",
          "text": [
            "1/250 round completed......................... Accurecy: 0.5559055118110237\n",
            "2/250 round completed......................... Accurecy: 0.5874015748031496\n",
            "3/250 round completed......................... Accurecy: 0.5716535433070866\n",
            "4/250 round completed......................... Accurecy: 0.5779527559055118\n",
            "5/250 round completed......................... Accurecy: 0.5795275590551181\n",
            "6/250 round completed......................... Accurecy: 0.5905511811023622\n",
            "7/250 round completed......................... Accurecy: 0.5921259842519685\n",
            "8/250 round completed......................... Accurecy: 0.6047244094488189\n",
            "9/250 round completed......................... Accurecy: 0.6047244094488189\n",
            "10/250 round completed......................... Accurecy: 0.6\n",
            "11/250 round completed......................... Accurecy: 0.6125984251968504\n",
            "12/250 round completed......................... Accurecy: 0.6125984251968504\n",
            "13/250 round completed......................... Accurecy: 0.6141732283464567\n",
            "14/250 round completed......................... Accurecy: 0.6141732283464567\n",
            "15/250 round completed......................... Accurecy: 0.6188976377952756\n",
            "16/250 round completed......................... Accurecy: 0.6141732283464567\n",
            "17/250 round completed......................... Accurecy: 0.6157480314960629\n",
            "18/250 round completed......................... Accurecy: 0.6125984251968504\n",
            "19/250 round completed......................... Accurecy: 0.6236220472440945\n",
            "20/250 round completed......................... Accurecy: 0.6220472440944882\n",
            "21/250 round completed......................... Accurecy: 0.6110236220472441\n",
            "22/250 round completed......................... Accurecy: 0.6141732283464567\n",
            "23/250 round completed......................... Accurecy: 0.6173228346456693\n",
            "24/250 round completed......................... Accurecy: 0.6220472440944882\n",
            "25/250 round completed......................... Accurecy: 0.6220472440944882\n",
            "26/250 round completed......................... Accurecy: 0.6236220472440945\n",
            "27/250 round completed......................... Accurecy: 0.6236220472440945\n",
            "28/250 round completed......................... Accurecy: 0.6173228346456693\n",
            "29/250 round completed......................... Accurecy: 0.6204724409448819\n",
            "30/250 round completed......................... Accurecy: 0.6220472440944882\n",
            "31/250 round completed......................... Accurecy: 0.6220472440944882\n",
            "32/250 round completed......................... Accurecy: 0.6188976377952756\n",
            "33/250 round completed......................... Accurecy: 0.6173228346456693\n",
            "34/250 round completed......................... Accurecy: 0.6283464566929133\n",
            "35/250 round completed......................... Accurecy: 0.6236220472440945\n",
            "36/250 round completed......................... Accurecy: 0.6267716535433071\n",
            "37/250 round completed......................... Accurecy: 0.6267716535433071\n",
            "38/250 round completed......................... Accurecy: 0.631496062992126\n",
            "39/250 round completed......................... Accurecy: 0.6299212598425197\n",
            "40/250 round completed......................... Accurecy: 0.6330708661417322\n",
            "41/250 round completed......................... Accurecy: 0.6377952755905512\n",
            "42/250 round completed......................... Accurecy: 0.631496062992126\n",
            "43/250 round completed......................... Accurecy: 0.631496062992126\n",
            "44/250 round completed......................... Accurecy: 0.6267716535433071\n",
            "45/250 round completed......................... Accurecy: 0.631496062992126\n",
            "46/250 round completed......................... Accurecy: 0.6346456692913386\n",
            "47/250 round completed......................... Accurecy: 0.6377952755905512\n",
            "48/250 round completed......................... Accurecy: 0.6425196850393701\n",
            "49/250 round completed......................... Accurecy: 0.6440944881889764\n",
            "50/250 round completed......................... Accurecy: 0.6456692913385826\n",
            "51/250 round completed......................... Accurecy: 0.6488188976377953\n",
            "52/250 round completed......................... Accurecy: 0.6503937007874016\n",
            "53/250 round completed......................... Accurecy: 0.6519685039370079\n",
            "54/250 round completed......................... Accurecy: 0.6535433070866141\n",
            "55/250 round completed......................... Accurecy: 0.6551181102362205\n",
            "56/250 round completed......................... Accurecy: 0.6535433070866141\n",
            "57/250 round completed......................... Accurecy: 0.6566929133858268\n",
            "58/250 round completed......................... Accurecy: 0.658267716535433\n",
            "59/250 round completed......................... Accurecy: 0.6566929133858268\n",
            "60/250 round completed......................... Accurecy: 0.6519685039370079\n",
            "61/250 round completed......................... Accurecy: 0.6551181102362205\n",
            "62/250 round completed......................... Accurecy: 0.6551181102362205\n",
            "63/250 round completed......................... Accurecy: 0.6566929133858268\n",
            "64/250 round completed......................... Accurecy: 0.6598425196850394\n",
            "65/250 round completed......................... Accurecy: 0.6598425196850394\n",
            "66/250 round completed......................... Accurecy: 0.6614173228346457\n",
            "67/250 round completed......................... Accurecy: 0.6598425196850394\n",
            "68/250 round completed......................... Accurecy: 0.6598425196850394\n",
            "69/250 round completed......................... Accurecy: 0.6598425196850394\n",
            "70/250 round completed......................... Accurecy: 0.658267716535433\n",
            "71/250 round completed......................... Accurecy: 0.6614173228346457\n",
            "72/250 round completed......................... Accurecy: 0.6598425196850394\n",
            "73/250 round completed......................... Accurecy: 0.6645669291338583\n",
            "74/250 round completed......................... Accurecy: 0.6692913385826772\n",
            "75/250 round completed......................... Accurecy: 0.6692913385826772\n",
            "76/250 round completed......................... Accurecy: 0.6708661417322834\n",
            "77/250 round completed......................... Accurecy: 0.6724409448818898\n",
            "78/250 round completed......................... Accurecy: 0.6724409448818898\n",
            "79/250 round completed......................... Accurecy: 0.6724409448818898\n",
            "80/250 round completed......................... Accurecy: 0.6740157480314961\n",
            "81/250 round completed......................... Accurecy: 0.6755905511811023\n",
            "82/250 round completed......................... Accurecy: 0.6755905511811023\n",
            "83/250 round completed......................... Accurecy: 0.6787401574803149\n",
            "84/250 round completed......................... Accurecy: 0.6771653543307087\n",
            "85/250 round completed......................... Accurecy: 0.6818897637795276\n",
            "86/250 round completed......................... Accurecy: 0.6787401574803149\n",
            "87/250 round completed......................... Accurecy: 0.6771653543307087\n",
            "88/250 round completed......................... Accurecy: 0.6787401574803149\n",
            "89/250 round completed......................... Accurecy: 0.6803149606299213\n",
            "90/250 round completed......................... Accurecy: 0.6803149606299213\n",
            "91/250 round completed......................... Accurecy: 0.6787401574803149\n",
            "92/250 round completed......................... Accurecy: 0.6803149606299213\n",
            "93/250 round completed......................... Accurecy: 0.6787401574803149\n",
            "94/250 round completed......................... Accurecy: 0.6818897637795276\n",
            "95/250 round completed......................... Accurecy: 0.6818897637795276\n",
            "96/250 round completed......................... Accurecy: 0.6818897637795276\n",
            "97/250 round completed......................... Accurecy: 0.6866141732283465\n",
            "98/250 round completed......................... Accurecy: 0.6834645669291338\n",
            "99/250 round completed......................... Accurecy: 0.6866141732283465\n",
            "100/250 round completed......................... Accurecy: 0.6866141732283465\n",
            "101/250 round completed......................... Accurecy: 0.6866141732283465\n",
            "102/250 round completed......................... Accurecy: 0.6881889763779527\n",
            "103/250 round completed......................... Accurecy: 0.6897637795275591\n",
            "104/250 round completed......................... Accurecy: 0.6881889763779527\n",
            "105/250 round completed......................... Accurecy: 0.6881889763779527\n",
            "106/250 round completed......................... Accurecy: 0.6897637795275591\n",
            "107/250 round completed......................... Accurecy: 0.6913385826771653\n",
            "108/250 round completed......................... Accurecy: 0.6897637795275591\n",
            "109/250 round completed......................... Accurecy: 0.6913385826771653\n",
            "110/250 round completed......................... Accurecy: 0.6913385826771653\n",
            "111/250 round completed......................... Accurecy: 0.6929133858267716\n",
            "112/250 round completed......................... Accurecy: 0.6913385826771653\n",
            "113/250 round completed......................... Accurecy: 0.6913385826771653\n",
            "114/250 round completed......................... Accurecy: 0.6929133858267716\n",
            "115/250 round completed......................... Accurecy: 0.6929133858267716\n",
            "116/250 round completed......................... Accurecy: 0.6897637795275591\n",
            "117/250 round completed......................... Accurecy: 0.694488188976378\n",
            "118/250 round completed......................... Accurecy: 0.6960629921259842\n",
            "119/250 round completed......................... Accurecy: 0.694488188976378\n",
            "120/250 round completed......................... Accurecy: 0.694488188976378\n",
            "121/250 round completed......................... Accurecy: 0.694488188976378\n",
            "122/250 round completed......................... Accurecy: 0.6976377952755906\n",
            "123/250 round completed......................... Accurecy: 0.6929133858267716\n",
            "124/250 round completed......................... Accurecy: 0.6992125984251969\n",
            "125/250 round completed......................... Accurecy: 0.6992125984251969\n",
            "126/250 round completed......................... Accurecy: 0.6992125984251969\n",
            "127/250 round completed......................... Accurecy: 0.6992125984251969\n",
            "128/250 round completed......................... Accurecy: 0.6992125984251969\n",
            "129/250 round completed......................... Accurecy: 0.6992125984251969\n",
            "130/250 round completed......................... Accurecy: 0.694488188976378\n",
            "131/250 round completed......................... Accurecy: 0.6929133858267716\n",
            "132/250 round completed......................... Accurecy: 0.6992125984251969\n",
            "133/250 round completed......................... Accurecy: 0.6976377952755906\n",
            "134/250 round completed......................... Accurecy: 0.694488188976378\n",
            "135/250 round completed......................... Accurecy: 0.6913385826771653\n",
            "136/250 round completed......................... Accurecy: 0.6929133858267716\n",
            "137/250 round completed......................... Accurecy: 0.6929133858267716\n",
            "138/250 round completed......................... Accurecy: 0.6992125984251969\n",
            "139/250 round completed......................... Accurecy: 0.6976377952755906\n",
            "140/250 round completed......................... Accurecy: 0.6976377952755906\n",
            "141/250 round completed......................... Accurecy: 0.6960629921259842\n",
            "142/250 round completed......................... Accurecy: 0.6976377952755906\n",
            "143/250 round completed......................... Accurecy: 0.6976377952755906\n",
            "144/250 round completed......................... Accurecy: 0.6976377952755906\n",
            "145/250 round completed......................... Accurecy: 0.6976377952755906\n",
            "146/250 round completed......................... Accurecy: 0.6976377952755906\n",
            "147/250 round completed......................... Accurecy: 0.6976377952755906\n",
            "148/250 round completed......................... Accurecy: 0.6976377952755906\n",
            "149/250 round completed......................... Accurecy: 0.6992125984251969\n",
            "150/250 round completed......................... Accurecy: 0.7023622047244095\n",
            "151/250 round completed......................... Accurecy: 0.6992125984251969\n",
            "152/250 round completed......................... Accurecy: 0.6976377952755906\n",
            "153/250 round completed......................... Accurecy: 0.6992125984251969\n",
            "154/250 round completed......................... Accurecy: 0.6992125984251969\n",
            "155/250 round completed......................... Accurecy: 0.7007874015748031\n",
            "156/250 round completed......................... Accurecy: 0.7023622047244095\n",
            "157/250 round completed......................... Accurecy: 0.7007874015748031\n",
            "158/250 round completed......................... Accurecy: 0.7039370078740157\n",
            "159/250 round completed......................... Accurecy: 0.7023622047244095\n",
            "160/250 round completed......................... Accurecy: 0.7039370078740157\n",
            "161/250 round completed......................... Accurecy: 0.7023622047244095\n",
            "162/250 round completed......................... Accurecy: 0.7023622047244095\n",
            "163/250 round completed......................... Accurecy: 0.7023622047244095\n",
            "164/250 round completed......................... Accurecy: 0.7039370078740157\n",
            "165/250 round completed......................... Accurecy: 0.7039370078740157\n",
            "166/250 round completed......................... Accurecy: 0.7007874015748031\n",
            "167/250 round completed......................... Accurecy: 0.6992125984251969\n",
            "168/250 round completed......................... Accurecy: 0.7007874015748031\n",
            "169/250 round completed......................... Accurecy: 0.7023622047244095\n",
            "170/250 round completed......................... Accurecy: 0.7023622047244095\n",
            "171/250 round completed......................... Accurecy: 0.705511811023622\n",
            "172/250 round completed......................... Accurecy: 0.705511811023622\n",
            "173/250 round completed......................... Accurecy: 0.705511811023622\n",
            "174/250 round completed......................... Accurecy: 0.7070866141732284\n",
            "175/250 round completed......................... Accurecy: 0.7086614173228346\n",
            "176/250 round completed......................... Accurecy: 0.710236220472441\n",
            "177/250 round completed......................... Accurecy: 0.7086614173228346\n",
            "178/250 round completed......................... Accurecy: 0.7086614173228346\n",
            "179/250 round completed......................... Accurecy: 0.7118110236220473\n",
            "180/250 round completed......................... Accurecy: 0.7118110236220473\n",
            "181/250 round completed......................... Accurecy: 0.710236220472441\n",
            "182/250 round completed......................... Accurecy: 0.7118110236220473\n",
            "183/250 round completed......................... Accurecy: 0.7118110236220473\n",
            "184/250 round completed......................... Accurecy: 0.7118110236220473\n",
            "185/250 round completed......................... Accurecy: 0.7086614173228346\n",
            "186/250 round completed......................... Accurecy: 0.710236220472441\n",
            "187/250 round completed......................... Accurecy: 0.7149606299212599\n",
            "188/250 round completed......................... Accurecy: 0.7133858267716535\n",
            "189/250 round completed......................... Accurecy: 0.7118110236220473\n",
            "190/250 round completed......................... Accurecy: 0.7133858267716535\n",
            "191/250 round completed......................... Accurecy: 0.7149606299212599\n",
            "192/250 round completed......................... Accurecy: 0.7133858267716535\n",
            "193/250 round completed......................... Accurecy: 0.7133858267716535\n",
            "194/250 round completed......................... Accurecy: 0.7118110236220473\n",
            "195/250 round completed......................... Accurecy: 0.7118110236220473\n",
            "196/250 round completed......................... Accurecy: 0.710236220472441\n",
            "197/250 round completed......................... Accurecy: 0.7086614173228346\n",
            "198/250 round completed......................... Accurecy: 0.7086614173228346\n",
            "199/250 round completed......................... Accurecy: 0.7086614173228346\n",
            "200/250 round completed......................... Accurecy: 0.7086614173228346\n",
            "201/250 round completed......................... Accurecy: 0.7086614173228346\n",
            "202/250 round completed......................... Accurecy: 0.7118110236220473\n",
            "203/250 round completed......................... Accurecy: 0.7149606299212599\n",
            "204/250 round completed......................... Accurecy: 0.7118110236220473\n",
            "205/250 round completed......................... Accurecy: 0.7118110236220473\n",
            "206/250 round completed......................... Accurecy: 0.7133858267716535\n",
            "207/250 round completed......................... Accurecy: 0.7149606299212599\n",
            "208/250 round completed......................... Accurecy: 0.7133858267716535\n",
            "209/250 round completed......................... Accurecy: 0.7149606299212599\n",
            "210/250 round completed......................... Accurecy: 0.7133858267716535\n",
            "211/250 round completed......................... Accurecy: 0.7133858267716535\n",
            "212/250 round completed......................... Accurecy: 0.7118110236220473\n",
            "213/250 round completed......................... Accurecy: 0.7118110236220473\n",
            "214/250 round completed......................... Accurecy: 0.710236220472441\n",
            "215/250 round completed......................... Accurecy: 0.710236220472441\n",
            "216/250 round completed......................... Accurecy: 0.7118110236220473\n",
            "217/250 round completed......................... Accurecy: 0.7118110236220473\n",
            "218/250 round completed......................... Accurecy: 0.710236220472441\n",
            "219/250 round completed......................... Accurecy: 0.7118110236220473\n",
            "220/250 round completed......................... Accurecy: 0.7070866141732284\n",
            "221/250 round completed......................... Accurecy: 0.710236220472441\n",
            "222/250 round completed......................... Accurecy: 0.710236220472441\n",
            "223/250 round completed......................... Accurecy: 0.7086614173228346\n",
            "224/250 round completed......................... Accurecy: 0.7086614173228346\n",
            "225/250 round completed......................... Accurecy: 0.710236220472441\n",
            "226/250 round completed......................... Accurecy: 0.7118110236220473\n",
            "227/250 round completed......................... Accurecy: 0.7086614173228346\n",
            "228/250 round completed......................... Accurecy: 0.710236220472441\n",
            "229/250 round completed......................... Accurecy: 0.710236220472441\n",
            "230/250 round completed......................... Accurecy: 0.7086614173228346\n",
            "231/250 round completed......................... Accurecy: 0.710236220472441\n"
          ]
        }
      ],
      "source": [
        "import xgboost as xgb\n",
        "from sklearn.metrics import accuracy_score\n",
        "N=250\n",
        "k_range = range (1,N+1)\n",
        "scores={}\n",
        "scores_list = []\n",
        "for k in k_range:\n",
        "  xgb_classifier = xgb.XGBClassifier(n_estimators=k,random_state=0)\n",
        "  xgb_classifier.fit(X_train.values, y_train.values)\n",
        "  y_pred=xgb_classifier.predict(X_test.values)\n",
        "  scores[k] = accuracy_score(y_test,y_pred)\n",
        "  scores_list.append(accuracy_score(y_test,y_pred))\n",
        "  print(str(k)+\"/\"+str(N)+\" round completed......................... Accurecy: \"+str(accuracy_score(y_test,y_pred)))\n",
        "\n",
        "\n",
        "%matplotlib inline\n",
        "import matplotlib.pyplot as plt\n",
        "\n",
        "plt.figure(figsize = (25,10))\n",
        "plt.plot(k_range,scores_list)\n",
        "plt.xlabel('Value of n_estimators')\n",
        "plt.ylabel ('Testing Accuracy')\n",
        "\n",
        "\n",
        "\n",
        "print(\"The best n_estimators:\")\n",
        "best_estimator=list(scores.keys())[scores_list.index(max(scores_list))]\n",
        "print(best_estimator)"
      ]
    },
    {
      "cell_type": "code",
      "execution_count": 33,
      "metadata": {
        "colab": {
          "base_uri": "https://localhost:8080/",
          "height": 1000
        },
        "id": "ABex6e-3kxuX",
        "outputId": "0aeaa773-ddf5-4e62-a4dd-cf7eb2d0ed6e"
      },
      "outputs": [
        {
          "output_type": "stream",
          "name": "stdout",
          "text": [
            "1/30 round completed......................... Accurecy: 0.5606299212598426\n",
            "2/30 round completed......................... Accurecy: 0.6409448818897637\n",
            "3/30 round completed......................... Accurecy: 0.6866141732283465\n",
            "4/30 round completed......................... Accurecy: 0.7181102362204724\n",
            "5/30 round completed......................... Accurecy: 0.752755905511811\n",
            "6/30 round completed......................... Accurecy: 0.7559055118110236\n",
            "7/30 round completed......................... Accurecy: 0.7606299212598425\n",
            "8/30 round completed......................... Accurecy: 0.7669291338582677\n",
            "9/30 round completed......................... Accurecy: 0.7732283464566929\n",
            "10/30 round completed......................... Accurecy: 0.768503937007874\n",
            "11/30 round completed......................... Accurecy: 0.7811023622047244\n",
            "12/30 round completed......................... Accurecy: 0.7779527559055118\n",
            "13/30 round completed......................... Accurecy: 0.7826771653543307\n",
            "14/30 round completed......................... Accurecy: 0.7811023622047244\n",
            "15/30 round completed......................... Accurecy: 0.7811023622047244\n",
            "16/30 round completed......................... Accurecy: 0.7811023622047244\n",
            "17/30 round completed......................... Accurecy: 0.7811023622047244\n",
            "18/30 round completed......................... Accurecy: 0.7905511811023622\n",
            "19/30 round completed......................... Accurecy: 0.7905511811023622\n",
            "20/30 round completed......................... Accurecy: 0.7905511811023622\n",
            "21/30 round completed......................... Accurecy: 0.7889763779527559\n",
            "22/30 round completed......................... Accurecy: 0.7889763779527559\n",
            "23/30 round completed......................... Accurecy: 0.7889763779527559\n",
            "24/30 round completed......................... Accurecy: 0.7889763779527559\n",
            "25/30 round completed......................... Accurecy: 0.7874015748031497\n",
            "26/30 round completed......................... Accurecy: 0.7874015748031497\n",
            "27/30 round completed......................... Accurecy: 0.7874015748031497\n",
            "28/30 round completed......................... Accurecy: 0.7874015748031497\n",
            "29/30 round completed......................... Accurecy: 0.7874015748031497\n",
            "30/30 round completed......................... Accurecy: 0.7874015748031497\n",
            "The best depth:\n",
            "18\n"
          ]
        },
        {
          "output_type": "display_data",
          "data": {
            "text/plain": [
              "<Figure size 1800x720 with 1 Axes>"
            ],
            "image/png": "[encoded data removed]"
          },
          "metadata": {
            "needs_background": "light"
          }
        }
      ],
      "source": [
        "import xgboost as xgb\n",
        "from sklearn.metrics import accuracy_score\n",
        "N=30\n",
        "k_range = range (1,N+1)\n",
        "scores={}\n",
        "scores_list = []\n",
        "for k in k_range:\n",
        "  xgb_classifier = xgb.XGBClassifier(max_depth=k,random_state=0)\n",
        "  xgb_classifier.fit(X_train.values, y_train.values)\n",
        "  y_pred=xgb_classifier.predict(X_test.values)\n",
        "  scores[k] = accuracy_score(y_test,y_pred)\n",
        "  scores_list.append(accuracy_score(y_test,y_pred))\n",
        "  print(str(k)+\"/\"+str(N)+\" round completed......................... Accurecy: \"+str(accuracy_score(y_test,y_pred)))\n",
        "\n",
        "\n",
        "%matplotlib inline\n",
        "import matplotlib.pyplot as plt\n",
        "\n",
        "plt.figure(figsize = (25,10))\n",
        "plt.plot(k_range,scores_list)\n",
        "plt.xlabel('Value of n_estimators')\n",
        "plt.ylabel ('Testing Accuracy')\n",
        "\n",
        "\n",
        "\n",
        "print(\"The best depth:\")\n",
        "best_depth=list(scores.keys())[scores_list.index(max(scores_list))]\n",
        "print(best_depth)"
      ]
    },
    {
      "cell_type": "code",
      "execution_count": 34,
      "metadata": {
        "colab": {
          "base_uri": "https://localhost:8080/"
        },
        "id": "lfBp-uGXuaKY",
        "outputId": "3bdcd7df-95da-4de2-ad9a-229243960f0e"
      },
      "outputs": [
        {
          "output_type": "stream",
          "name": "stdout",
          "text": [
            "[[120  19  21   3]\n",
            " [ 14 119   6   6]\n",
            " [ 13   6 128  21]\n",
            " [  6   3  15 135]]\n",
            "              precision    recall  f1-score   support\n",
            "\n",
            "           0       0.78      0.74      0.76       163\n",
            "           1       0.81      0.82      0.82       145\n",
            "           2       0.75      0.76      0.76       168\n",
            "           3       0.82      0.85      0.83       159\n",
            "\n",
            "    accuracy                           0.79       635\n",
            "   macro avg       0.79      0.79      0.79       635\n",
            "weighted avg       0.79      0.79      0.79       635\n",
            "\n",
            "Accurecy:  0.7905511811023622\n",
            "XGBClassifier(max_depth=18, objective='multi:softprob')\n"
          ]
        }
      ],
      "source": [
        "import xgboost as xgb\n",
        "xgb_depth = xgb.XGBClassifier(max_depth=best_depth,random_state=0)\n",
        "xgb_depth.fit(X_train.values,y_train.values)\n",
        "y_pred = xgb_depth.predict(X_test.values)\n",
        "\n",
        "\n",
        "from sklearn.metrics import classification_report, confusion_matrix, accuracy_score\n",
        "print(confusion_matrix(y_test, y_pred))\n",
        "print(classification_report(y_test,y_pred))\n",
        "print(\"Accurecy: \",accuracy_score(y_test, y_pred))\n",
        "result[(xgb_depth,4,'xgboost')]=accuracy_score(y_test, y_pred)\n",
        "print(xgb_depth)"
      ]
    },
    {
      "cell_type": "code",
      "execution_count": 35,
      "metadata": {
        "colab": {
          "base_uri": "https://localhost:8080/"
        },
        "id": "_qBm-yTqzOsi",
        "outputId": "763eca65-d13d-4c4e-b86d-84867e3fc1d7"
      },
      "outputs": [
        {
          "output_type": "stream",
          "name": "stdout",
          "text": [
            "[[111  22  21   9]\n",
            " [ 22 107  10   6]\n",
            " [ 17  18 112  21]\n",
            " [  6   5  20 128]]\n",
            "              precision    recall  f1-score   support\n",
            "\n",
            "           0       0.71      0.68      0.70       163\n",
            "           1       0.70      0.74      0.72       145\n",
            "           2       0.69      0.67      0.68       168\n",
            "           3       0.78      0.81      0.79       159\n",
            "\n",
            "    accuracy                           0.72       635\n",
            "   macro avg       0.72      0.72      0.72       635\n",
            "weighted avg       0.72      0.72      0.72       635\n",
            "\n",
            "Accurecy:  0.721259842519685\n",
            "XGBClassifier(n_estimators=250, objective='multi:softprob')\n"
          ]
        }
      ],
      "source": [
        "import xgboost as xgb\n",
        "xgb_estimator = xgb.XGBClassifier(n_estimators=best_estimator,random_state=0)\n",
        "xgb_estimator.fit(X_train.values,y_train.values)\n",
        "y_pred = xgb_estimator.predict(X_test.values)\n",
        "\n",
        "\n",
        "from sklearn.metrics import classification_report, confusion_matrix, accuracy_score\n",
        "print(confusion_matrix(y_test, y_pred))\n",
        "print(classification_report(y_test,y_pred))\n",
        "print(\"Accurecy: \",accuracy_score(y_test, y_pred))\n",
        "result[(xgb_estimator,4,'xgboost')]=accuracy_score(y_test, y_pred)\n",
        "print(xgb_estimator)"
      ]
    },
    {
      "cell_type": "code",
      "execution_count": 36,
      "metadata": {
        "colab": {
          "base_uri": "https://localhost:8080/"
        },
        "id": "zW-0PfT-zX3C",
        "outputId": "9aa85439-36af-417e-8681-c0c3cf44391c"
      },
      "outputs": [
        {
          "output_type": "stream",
          "name": "stdout",
          "text": [
            "[[122  17  19   5]\n",
            " [ 13 122   8   2]\n",
            " [ 12   7 126  23]\n",
            " [  5   4  15 135]]\n",
            "              precision    recall  f1-score   support\n",
            "\n",
            "           0       0.80      0.75      0.77       163\n",
            "           1       0.81      0.84      0.83       145\n",
            "           2       0.75      0.75      0.75       168\n",
            "           3       0.82      0.85      0.83       159\n",
            "\n",
            "    accuracy                           0.80       635\n",
            "   macro avg       0.80      0.80      0.80       635\n",
            "weighted avg       0.80      0.80      0.79       635\n",
            "\n",
            "Accurecy:  0.7952755905511811\n"
          ]
        }
      ],
      "source": [
        "import xgboost as xgb\n",
        "xgb_all = xgb.XGBClassifier(n_estimators=best_estimator,max_depth=best_depth,random_state=0)\n",
        "xgb_all.fit(X_train.values,y_train.values)\n",
        "y_pred = xgb_all.predict(X_test.values)\n",
        "\n",
        "\n",
        "from sklearn.metrics import classification_report, confusion_matrix, accuracy_score\n",
        "print(confusion_matrix(y_test, y_pred))\n",
        "print(classification_report(y_test,y_pred))\n",
        "print(\"Accurecy: \",accuracy_score(y_test, y_pred))\n",
        "result[(xgb_all,4,'xgboost')]=accuracy_score(y_test, y_pred)"
      ]
    },
    {
      "cell_type": "markdown",
      "metadata": {
        "id": "K6_icFWdauSI"
      },
      "source": [
        "#KNN"
      ]
    },
    {
      "cell_type": "code",
      "execution_count": null,
      "metadata": {
        "colab": {
          "base_uri": "https://localhost:8080/"
        },
        "id": "6GALUBYbaz1z",
        "outputId": "cf23023f-9b5c-4b04-dca2-a38e319f13a1"
      },
      "outputs": [
        {
          "output_type": "stream",
          "name": "stdout",
          "text": [
            "[[ 89  41  19  14]\n",
            " [ 17 116   2  10]\n",
            " [ 26  29  92  21]\n",
            " [  9   6  18 126]]\n",
            "              precision    recall  f1-score   support\n",
            "\n",
            "           0       0.63      0.55      0.59       163\n",
            "           1       0.60      0.80      0.69       145\n",
            "           2       0.70      0.55      0.62       168\n",
            "           3       0.74      0.79      0.76       159\n",
            "\n",
            "    accuracy                           0.67       635\n",
            "   macro avg       0.67      0.67      0.66       635\n",
            "weighted avg       0.67      0.67      0.66       635\n",
            "\n",
            "Accurecy:  0.6661417322834645\n"
          ]
        }
      ],
      "source": [
        "from sklearn.neighbors import KNeighborsClassifier\n",
        "knn_default = KNeighborsClassifier()\n",
        "knn_default.fit(X_train, y_train)\n",
        "y_pred=knn_default.predict(X_test)\n",
        "\n",
        "\n",
        "from sklearn.metrics import classification_report, confusion_matrix, accuracy_score\n",
        "print(confusion_matrix(y_test, y_pred))\n",
        "print(classification_report(y_test,y_pred))\n",
        "print(\"Accurecy: \",accuracy_score(y_test, y_pred))\n",
        "result[(knn_default,5,'KNeighborsClassifier')]=accuracy_score(y_test, y_pred)"
      ]
    },
    {
      "cell_type": "code",
      "execution_count": null,
      "metadata": {
        "colab": {
          "base_uri": "https://localhost:8080/"
        },
        "id": "CpSsmYDHa-VF",
        "outputId": "5c40bb04-2cf3-403b-bb52-3a4c7b40ef92"
      },
      "outputs": [
        {
          "output_type": "stream",
          "name": "stdout",
          "text": [
            "1/105 round completed......................... Accurecy: 0.7921259842519685\n",
            "2/105 round completed......................... Accurecy: 0.7039370078740157\n",
            "3/105 round completed......................... Accurecy: 0.7165354330708661\n",
            "4/105 round completed......................... Accurecy: 0.6850393700787402\n",
            "5/105 round completed......................... Accurecy: 0.6661417322834645\n",
            "6/105 round completed......................... Accurecy: 0.6503937007874016\n",
            "7/105 round completed......................... Accurecy: 0.6377952755905512\n",
            "8/105 round completed......................... Accurecy: 0.6440944881889764\n",
            "9/105 round completed......................... Accurecy: 0.6299212598425197\n",
            "10/105 round completed......................... Accurecy: 0.6173228346456693\n",
            "11/105 round completed......................... Accurecy: 0.6377952755905512\n",
            "12/105 round completed......................... Accurecy: 0.6299212598425197\n",
            "13/105 round completed......................... Accurecy: 0.6267716535433071\n",
            "14/105 round completed......................... Accurecy: 0.6267716535433071\n",
            "15/105 round completed......................... Accurecy: 0.6173228346456693\n",
            "16/105 round completed......................... Accurecy: 0.6047244094488189\n",
            "17/105 round completed......................... Accurecy: 0.6047244094488189\n",
            "18/105 round completed......................... Accurecy: 0.6031496062992125\n",
            "19/105 round completed......................... Accurecy: 0.6031496062992125\n",
            "20/105 round completed......................... Accurecy: 0.5984251968503937\n",
            "21/105 round completed......................... Accurecy: 0.6015748031496063\n",
            "22/105 round completed......................... Accurecy: 0.6062992125984252\n",
            "23/105 round completed......................... Accurecy: 0.6094488188976378\n",
            "24/105 round completed......................... Accurecy: 0.6047244094488189\n",
            "25/105 round completed......................... Accurecy: 0.5952755905511811\n",
            "26/105 round completed......................... Accurecy: 0.6015748031496063\n",
            "27/105 round completed......................... Accurecy: 0.6047244094488189\n",
            "28/105 round completed......................... Accurecy: 0.5984251968503937\n",
            "29/105 round completed......................... Accurecy: 0.5984251968503937\n",
            "30/105 round completed......................... Accurecy: 0.5858267716535434\n",
            "31/105 round completed......................... Accurecy: 0.5795275590551181\n",
            "32/105 round completed......................... Accurecy: 0.5795275590551181\n",
            "33/105 round completed......................... Accurecy: 0.5795275590551181\n",
            "34/105 round completed......................... Accurecy: 0.584251968503937\n",
            "35/105 round completed......................... Accurecy: 0.5811023622047244\n",
            "36/105 round completed......................... Accurecy: 0.584251968503937\n",
            "37/105 round completed......................... Accurecy: 0.5795275590551181\n",
            "38/105 round completed......................... Accurecy: 0.5763779527559055\n",
            "39/105 round completed......................... Accurecy: 0.5763779527559055\n",
            "40/105 round completed......................... Accurecy: 0.5763779527559055\n",
            "41/105 round completed......................... Accurecy: 0.5700787401574803\n",
            "42/105 round completed......................... Accurecy: 0.573228346456693\n",
            "43/105 round completed......................... Accurecy: 0.584251968503937\n",
            "44/105 round completed......................... Accurecy: 0.5826771653543307\n",
            "45/105 round completed......................... Accurecy: 0.5779527559055118\n",
            "46/105 round completed......................... Accurecy: 0.5826771653543307\n",
            "47/105 round completed......................... Accurecy: 0.5826771653543307\n",
            "48/105 round completed......................... Accurecy: 0.5874015748031496\n",
            "49/105 round completed......................... Accurecy: 0.5858267716535434\n",
            "50/105 round completed......................... Accurecy: 0.5889763779527559\n",
            "51/105 round completed......................... Accurecy: 0.5921259842519685\n",
            "52/105 round completed......................... Accurecy: 0.5905511811023622\n",
            "53/105 round completed......................... Accurecy: 0.5921259842519685\n",
            "54/105 round completed......................... Accurecy: 0.5874015748031496\n",
            "55/105 round completed......................... Accurecy: 0.5921259842519685\n",
            "56/105 round completed......................... Accurecy: 0.5889763779527559\n",
            "57/105 round completed......................... Accurecy: 0.5921259842519685\n",
            "58/105 round completed......................... Accurecy: 0.5858267716535434\n",
            "59/105 round completed......................... Accurecy: 0.5858267716535434\n",
            "60/105 round completed......................... Accurecy: 0.5874015748031496\n",
            "61/105 round completed......................... Accurecy: 0.5889763779527559\n",
            "62/105 round completed......................... Accurecy: 0.5858267716535434\n",
            "63/105 round completed......................... Accurecy: 0.5795275590551181\n",
            "64/105 round completed......................... Accurecy: 0.5858267716535434\n",
            "65/105 round completed......................... Accurecy: 0.584251968503937\n",
            "66/105 round completed......................... Accurecy: 0.5874015748031496\n",
            "67/105 round completed......................... Accurecy: 0.5858267716535434\n",
            "68/105 round completed......................... Accurecy: 0.5779527559055118\n",
            "69/105 round completed......................... Accurecy: 0.5779527559055118\n",
            "70/105 round completed......................... Accurecy: 0.5763779527559055\n",
            "71/105 round completed......................... Accurecy: 0.5748031496062992\n",
            "72/105 round completed......................... Accurecy: 0.5700787401574803\n",
            "73/105 round completed......................... Accurecy: 0.573228346456693\n",
            "74/105 round completed......................... Accurecy: 0.5763779527559055\n",
            "75/105 round completed......................... Accurecy: 0.5669291338582677\n",
            "76/105 round completed......................... Accurecy: 0.568503937007874\n",
            "77/105 round completed......................... Accurecy: 0.5653543307086614\n",
            "78/105 round completed......................... Accurecy: 0.5700787401574803\n",
            "79/105 round completed......................... Accurecy: 0.5669291338582677\n",
            "80/105 round completed......................... Accurecy: 0.568503937007874\n",
            "81/105 round completed......................... Accurecy: 0.5637795275590551\n",
            "82/105 round completed......................... Accurecy: 0.5637795275590551\n",
            "83/105 round completed......................... Accurecy: 0.5622047244094488\n",
            "84/105 round completed......................... Accurecy: 0.5606299212598426\n",
            "85/105 round completed......................... Accurecy: 0.5606299212598426\n",
            "86/105 round completed......................... Accurecy: 0.5653543307086614\n",
            "87/105 round completed......................... Accurecy: 0.5653543307086614\n",
            "88/105 round completed......................... Accurecy: 0.5669291338582677\n",
            "89/105 round completed......................... Accurecy: 0.5574803149606299\n",
            "90/105 round completed......................... Accurecy: 0.5590551181102362\n",
            "91/105 round completed......................... Accurecy: 0.5559055118110237\n",
            "92/105 round completed......................... Accurecy: 0.5543307086614173\n",
            "93/105 round completed......................... Accurecy: 0.5574803149606299\n",
            "94/105 round completed......................... Accurecy: 0.5559055118110237\n",
            "95/105 round completed......................... Accurecy: 0.5574803149606299\n",
            "96/105 round completed......................... Accurecy: 0.5559055118110237\n",
            "97/105 round completed......................... Accurecy: 0.5559055118110237\n",
            "98/105 round completed......................... Accurecy: 0.5559055118110237\n",
            "99/105 round completed......................... Accurecy: 0.5543307086614173\n",
            "100/105 round completed......................... Accurecy: 0.5574803149606299\n",
            "101/105 round completed......................... Accurecy: 0.5574803149606299\n",
            "102/105 round completed......................... Accurecy: 0.5559055118110237\n",
            "103/105 round completed......................... Accurecy: 0.5543307086614173\n",
            "104/105 round completed......................... Accurecy: 0.5511811023622047\n",
            "105/105 round completed......................... Accurecy: 0.5464566929133858\n",
            "The best Depth:\n",
            "1\n"
          ]
        },
        {
          "output_type": "display_data",
          "data": {
            "text/plain": [
              "<Figure size 1800x720 with 1 Axes>"
            ],
            "image/png": "[encoded data removed]"
          },
          "metadata": {
            "needs_background": "light"
          }
        }
      ],
      "source": [
        "from sklearn.neighbors import KNeighborsClassifier\n",
        "from sklearn.metrics import accuracy_score\n",
        "Neighbors=105\n",
        "k_range = range (1,Neighbors+1)\n",
        "scores={}\n",
        "scores_list = []\n",
        "for k in k_range:\n",
        "  knn = KNeighborsClassifier(n_neighbors=k)\n",
        "  knn.fit(X_train, y_train)\n",
        "  y_pred=knn.predict(X_test)\n",
        "  scores[k] = accuracy_score(y_test,y_pred)\n",
        "  scores_list.append(accuracy_score(y_test,y_pred))\n",
        "  print(str(k)+\"/\"+str(Neighbors)+\" round completed......................... Accurecy: \"+str(accuracy_score(y_test,y_pred)))\n",
        "\n",
        "\n",
        "%matplotlib inline\n",
        "import matplotlib.pyplot as plt\n",
        "\n",
        "plt.figure(figsize = (25,10))\n",
        "plt.plot(k_range,scores_list)\n",
        "plt.xlabel('Value of n_estimators')\n",
        "plt.ylabel ('Testing Accuracy')\n",
        "\n",
        "\n",
        "\n",
        "print(\"The best Depth:\")\n",
        "best=list(scores.keys())[scores_list.index(max(scores_list))]\n",
        "print(best)"
      ]
    },
    {
      "cell_type": "code",
      "execution_count": null,
      "metadata": {
        "colab": {
          "base_uri": "https://localhost:8080/"
        },
        "id": "MIVJZYV8bCjo",
        "outputId": "d9e3ae04-81a7-4d04-fc7f-67b9258690e1"
      },
      "outputs": [
        {
          "output_type": "stream",
          "name": "stdout",
          "text": [
            "[[ 95  26  29  13]\n",
            " [  3 139   0   3]\n",
            " [ 17   9 125  17]\n",
            " [  6   1   8 144]]\n",
            "              precision    recall  f1-score   support\n",
            "\n",
            "           0       0.79      0.58      0.67       163\n",
            "           1       0.79      0.96      0.87       145\n",
            "           2       0.77      0.74      0.76       168\n",
            "           3       0.81      0.91      0.86       159\n",
            "\n",
            "    accuracy                           0.79       635\n",
            "   macro avg       0.79      0.80      0.79       635\n",
            "weighted avg       0.79      0.79      0.79       635\n",
            "\n",
            "Accurecy:  0.7921259842519685\n"
          ]
        }
      ],
      "source": [
        "from sklearn.neighbors import KNeighborsClassifier\n",
        "knn_neighbors = KNeighborsClassifier(n_neighbors=best)\n",
        "knn_neighbors.fit(X_train, y_train)\n",
        "y_pred=knn_neighbors.predict(X_test)\n",
        "\n",
        "\n",
        "from sklearn.metrics import classification_report, confusion_matrix, accuracy_score\n",
        "print(confusion_matrix(y_test, y_pred))\n",
        "print(classification_report(y_test,y_pred))\n",
        "print(\"Accurecy: \",accuracy_score(y_test, y_pred))\n",
        "result[(knn_neighbors,5,'KNeighborsClassifier')]=accuracy_score(y_test, y_pred)"
      ]
    },
    {
      "cell_type": "markdown",
      "metadata": {
        "id": "_Btki9jRvc1Y"
      },
      "source": [
        "#NB"
      ]
    },
    {
      "cell_type": "code",
      "execution_count": null,
      "metadata": {
        "colab": {
          "base_uri": "https://localhost:8080/"
        },
        "id": "iRmd7ve-ubcd",
        "outputId": "65bf3b22-71ad-4b2c-9dc4-51bb5cf393ad"
      },
      "outputs": [
        {
          "output_type": "stream",
          "name": "stdout",
          "text": [
            "[[110  42   8   3]\n",
            " [ 54  81   6   4]\n",
            " [ 49  47  68   4]\n",
            " [ 52  71  19  17]]\n",
            "              precision    recall  f1-score   support\n",
            "\n",
            "           0       0.42      0.67      0.51       163\n",
            "           1       0.34      0.56      0.42       145\n",
            "           2       0.67      0.40      0.51       168\n",
            "           3       0.61      0.11      0.18       159\n",
            "\n",
            "    accuracy                           0.43       635\n",
            "   macro avg       0.51      0.44      0.41       635\n",
            "weighted avg       0.51      0.43      0.41       635\n",
            "\n",
            "Accurecy:  0.4346456692913386\n"
          ]
        }
      ],
      "source": [
        "from sklearn.naive_bayes import GaussianNB\n",
        "\n",
        "nb_deafult = GaussianNB()\n",
        "nb_deafult.fit(X_train, y_train)\n",
        "y_pred = nb_deafult.predict(X_test)\n",
        "\n",
        "\n",
        "from sklearn.metrics import classification_report, confusion_matrix, accuracy_score\n",
        "print(confusion_matrix(y_test, y_pred))\n",
        "print(classification_report(y_test,y_pred))\n",
        "print(\"Accurecy: \",accuracy_score(y_test, y_pred))\n",
        "result[(nb_deafult,6,'GaussianNB')]=accuracy_score(y_test, y_pred)"
      ]
    },
    {
      "cell_type": "markdown",
      "metadata": {
        "id": "qqsWPAB3uv72"
      },
      "source": [
        "\n",
        "\n",
        "---\n",
        "\n",
        "\n",
        "\n",
        "---\n",
        "\n"
      ]
    },
    {
      "cell_type": "markdown",
      "metadata": {
        "id": "6FEsxCdvkg2D"
      },
      "source": [
        "#Result"
      ]
    },
    {
      "cell_type": "code",
      "execution_count": null,
      "metadata": {
        "colab": {
          "base_uri": "https://localhost:8080/"
        },
        "id": "rx7qCLU14Aim",
        "outputId": "1433f9ff-f637-4f74-9c36-648cad17fa79"
      },
      "outputs": [
        {
          "output_type": "stream",
          "name": "stdout",
          "text": [
            "AdaBoostClassifier(random_state=0) 1  :  0.5606299212598426\n",
            "---------------------------------------------------------------\n",
            "\n",
            "AdaBoostClassifier(n_estimators=39, random_state=0) 1  :  0.5716535433070866\n",
            "---------------------------------------------------------------\n",
            "\n",
            "GradientBoostingClassifier(random_state=0) 2  :  0.7023622047244095\n",
            "---------------------------------------------------------------\n",
            "\n",
            "GradientBoostingClassifier(n_estimators=41, random_state=0) 2  :  0.6708661417322834\n",
            "---------------------------------------------------------------\n",
            "\n",
            "GradientBoostingClassifier(max_depth=11, random_state=0) 2  :  0.8062992125984252\n",
            "---------------------------------------------------------------\n",
            "\n",
            "GradientBoostingClassifier(max_depth=11, n_estimators=41, random_state=0) 2  :  0.784251968503937\n",
            "---------------------------------------------------------------\n",
            "\n",
            "RandomForestClassifier(random_state=0) 3  :  0.7984251968503937\n",
            "---------------------------------------------------------------\n",
            "\n",
            "RandomForestClassifier(n_estimators=124, random_state=0) 3  :  0.8062992125984252\n",
            "---------------------------------------------------------------\n",
            "\n",
            "RandomForestClassifier(max_depth=18, random_state=0) 3  :  0.8031496062992126\n",
            "---------------------------------------------------------------\n",
            "\n",
            "RandomForestClassifier(max_depth=18, n_estimators=124, random_state=0) 3  :  0.8015748031496063\n",
            "---------------------------------------------------------------\n",
            "\n",
            "XGBClassifier(objective='multi:softprob') 4  :  0.6992125984251969\n",
            "---------------------------------------------------------------\n",
            "\n",
            "XGBClassifier(max_depth=15, objective='multi:softprob') 4  :  0.8094488188976378\n",
            "---------------------------------------------------------------\n",
            "\n",
            "XGBClassifier(n_estimators=233, objective='multi:softprob') 4  :  0.7464566929133858\n",
            "---------------------------------------------------------------\n",
            "\n",
            "XGBClassifier(max_depth=15, n_estimators=233, objective='multi:softprob') 4  :  0.8141732283464567\n",
            "---------------------------------------------------------------\n",
            "\n",
            "KNeighborsClassifier() 5  :  0.6661417322834645\n",
            "---------------------------------------------------------------\n",
            "\n",
            "KNeighborsClassifier(n_neighbors=1) 5  :  0.7921259842519685\n",
            "---------------------------------------------------------------\n",
            "\n",
            "GaussianNB() 6  :  0.4346456692913386\n",
            "---------------------------------------------------------------\n",
            "\n"
          ]
        }
      ],
      "source": [
        "\n",
        "models=[]\n",
        "\n",
        "for i in result:\n",
        "  models.append(i[0])\n",
        "  print(i[0],i[1],\" : \",result[i])\n",
        "  print(\"---------------------------------------------------------------\")\n",
        "  print()\n"
      ]
    },
    {
      "cell_type": "code",
      "execution_count": null,
      "metadata": {
        "colab": {
          "base_uri": "https://localhost:8080/"
        },
        "id": "slItYG8uLOFi",
        "outputId": "33bee93d-6a66-4761-b65f-13409b2b49d3"
      },
      "outputs": [
        {
          "output_type": "stream",
          "name": "stdout",
          "text": [
            "(XGBClassifier(max_depth=15, n_estimators=233, objective='multi:softprob'), 4, 'xgboost')   :  0.8141732283464567\n",
            "-------------------------------------------------------------------------------------------------\n",
            "(XGBClassifier(max_depth=15, objective='multi:softprob'), 4, 'xgboost')   :  0.8094488188976378\n",
            "-------------------------------------------------------------------------------------------------\n",
            "(GradientBoostingClassifier(max_depth=11, random_state=0), 2, 'GradientBoostingClassifier')   :  0.8062992125984252\n",
            "-------------------------------------------------------------------------------------------------\n",
            "(RandomForestClassifier(n_estimators=124, random_state=0), 3, 'RandomForestClassifier')   :  0.8062992125984252\n",
            "-------------------------------------------------------------------------------------------------\n",
            "(RandomForestClassifier(max_depth=18, random_state=0), 3, 'RandomForestClassifier')   :  0.8031496062992126\n",
            "-------------------------------------------------------------------------------------------------\n",
            "(RandomForestClassifier(max_depth=18, n_estimators=124, random_state=0), 3, 'RandomForestClassifier')   :  0.8015748031496063\n",
            "-------------------------------------------------------------------------------------------------\n",
            "(RandomForestClassifier(random_state=0), 3, 'RandomForestClassifier')   :  0.7984251968503937\n",
            "-------------------------------------------------------------------------------------------------\n",
            "(KNeighborsClassifier(n_neighbors=1), 5, 'KNeighborsClassifier')   :  0.7921259842519685\n",
            "-------------------------------------------------------------------------------------------------\n",
            "(GradientBoostingClassifier(max_depth=11, n_estimators=41, random_state=0), 2, 'GradientBoostingClassifier')   :  0.784251968503937\n",
            "-------------------------------------------------------------------------------------------------\n",
            "(XGBClassifier(n_estimators=233, objective='multi:softprob'), 4, 'xgboost')   :  0.7464566929133858\n",
            "-------------------------------------------------------------------------------------------------\n",
            "(GradientBoostingClassifier(random_state=0), 2, 'GradientBoostingClassifier')   :  0.7023622047244095\n",
            "-------------------------------------------------------------------------------------------------\n",
            "(XGBClassifier(objective='multi:softprob'), 4, 'xgboost')   :  0.6992125984251969\n",
            "-------------------------------------------------------------------------------------------------\n",
            "(GradientBoostingClassifier(n_estimators=41, random_state=0), 2, 'GradientBoostingClassifier')   :  0.6708661417322834\n",
            "-------------------------------------------------------------------------------------------------\n",
            "(KNeighborsClassifier(), 5, 'KNeighborsClassifier')   :  0.6661417322834645\n",
            "-------------------------------------------------------------------------------------------------\n",
            "(AdaBoostClassifier(n_estimators=39, random_state=0), 1, 'AdaBoostClassifier')   :  0.5716535433070866\n",
            "-------------------------------------------------------------------------------------------------\n",
            "(AdaBoostClassifier(random_state=0), 1, 'AdaBoostClassifier')   :  0.5606299212598426\n",
            "-------------------------------------------------------------------------------------------------\n",
            "(GaussianNB(), 6, 'GaussianNB')   :  0.4346456692913386\n",
            "-------------------------------------------------------------------------------------------------\n",
            "[(XGBClassifier(max_depth=15, n_estimators=233, objective='multi:softprob'), 4, 'xgboost'), (XGBClassifier(max_depth=15, objective='multi:softprob'), 4, 'xgboost'), (GradientBoostingClassifier(max_depth=11, random_state=0), 2, 'GradientBoostingClassifier'), (RandomForestClassifier(n_estimators=124, random_state=0), 3, 'RandomForestClassifier'), (RandomForestClassifier(max_depth=18, random_state=0), 3, 'RandomForestClassifier'), (RandomForestClassifier(max_depth=18, n_estimators=124, random_state=0), 3, 'RandomForestClassifier'), (RandomForestClassifier(random_state=0), 3, 'RandomForestClassifier'), (KNeighborsClassifier(n_neighbors=1), 5, 'KNeighborsClassifier'), (GradientBoostingClassifier(max_depth=11, n_estimators=41, random_state=0), 2, 'GradientBoostingClassifier'), (XGBClassifier(n_estimators=233, objective='multi:softprob'), 4, 'xgboost'), (GradientBoostingClassifier(random_state=0), 2, 'GradientBoostingClassifier'), (XGBClassifier(objective='multi:softprob'), 4, 'xgboost'), (GradientBoostingClassifier(n_estimators=41, random_state=0), 2, 'GradientBoostingClassifier'), (KNeighborsClassifier(), 5, 'KNeighborsClassifier'), (AdaBoostClassifier(n_estimators=39, random_state=0), 1, 'AdaBoostClassifier'), (AdaBoostClassifier(random_state=0), 1, 'AdaBoostClassifier'), (GaussianNB(), 6, 'GaussianNB')]\n"
          ]
        }
      ],
      "source": [
        "sorted_list=[]\n",
        "sorted_list = sorted(result, key=result.get,reverse=True)\n",
        "\n",
        "for i in sorted_list:\n",
        "  print(i,\"  : \",result[i])\n",
        "  print(\"-------------------------------------------------------------------------------------------------\")\n",
        "\n",
        "print(sorted_list)\n",
        "\n",
        "\n",
        "flage=[]\n",
        "best_models=[]\n",
        "it=0\n",
        "\n",
        "for i in sorted_list:\n",
        "  if it==4:\n",
        "    break\n",
        "\n",
        "  if i[1] not in flage:\n",
        "    best_models.append((i[0],i[2]))\n",
        "    flage.append(i[1])\n",
        "    it+=1\n"
      ]
    },
    {
      "cell_type": "code",
      "execution_count": null,
      "metadata": {
        "colab": {
          "base_uri": "https://localhost:8080/"
        },
        "id": "SR0XBsJDMi_1",
        "outputId": "974f1dd4-9bc9-4d48-b5d7-f71a9a0485bd"
      },
      "outputs": [
        {
          "output_type": "stream",
          "name": "stdout",
          "text": [
            "best_models:\n",
            "(XGBClassifier(max_depth=15, n_estimators=233, objective='multi:softprob'), 'xgboost')\n",
            "(GradientBoostingClassifier(max_depth=11, random_state=0), 'GradientBoostingClassifier')\n",
            "(RandomForestClassifier(n_estimators=124, random_state=0), 'RandomForestClassifier')\n",
            "(KNeighborsClassifier(n_neighbors=1), 'KNeighborsClassifier')\n"
          ]
        }
      ],
      "source": [
        "print(\"best_models:\")\n",
        "for i in best_models:\n",
        "  print(i)\n"
      ]
    },
    {
      "cell_type": "code",
      "execution_count": null,
      "metadata": {
        "colab": {
          "base_uri": "https://localhost:8080/"
        },
        "id": "VQCaVYKA5acD",
        "outputId": "a3cd9b0d-6eaf-4605-c425-6d5f4385df5d"
      },
      "outputs": [
        {
          "output_type": "execute_result",
          "data": {
            "text/plain": [
              "4"
            ]
          },
          "metadata": {},
          "execution_count": 83
        }
      ],
      "source": [
        "len(best_models)"
      ]
    },
    {
      "cell_type": "markdown",
      "metadata": {
        "id": "znXNx2bgUvtd"
      },
      "source": [
        "#Testing Accuracy For Best 4 Models"
      ]
    },
    {
      "cell_type": "code",
      "execution_count": null,
      "metadata": {
        "colab": {
          "base_uri": "https://localhost:8080/"
        },
        "id": "2j9CXuBkUuiR",
        "outputId": "267dd077-7f71-457f-c127-7d43c1ac1b5d"
      },
      "outputs": [
        {
          "output_type": "stream",
          "name": "stdout",
          "text": [
            "--------------------------------------------------\n",
            "XGBClassifier(max_depth=15, n_estimators=233, objective='multi:softprob')\n",
            "[[630   0   0   0]\n",
            " [  0 648   0   0]\n",
            " [  0   0 625   0]\n",
            " [  0   0   0 634]]\n",
            "              precision    recall  f1-score   support\n",
            "\n",
            "           0       1.00      1.00      1.00       630\n",
            "           1       1.00      1.00      1.00       648\n",
            "           2       1.00      1.00      1.00       625\n",
            "           3       1.00      1.00      1.00       634\n",
            "\n",
            "    accuracy                           1.00      2537\n",
            "   macro avg       1.00      1.00      1.00      2537\n",
            "weighted avg       1.00      1.00      1.00      2537\n",
            "\n",
            "Accurecy:  1.0\n",
            "--------------------------------------------------\n",
            "GradientBoostingClassifier(max_depth=11, random_state=0)\n",
            "[[630   0   0   0]\n",
            " [  0 648   0   0]\n",
            " [  0   0 625   0]\n",
            " [  0   0   0 634]]\n",
            "              precision    recall  f1-score   support\n",
            "\n",
            "           0       1.00      1.00      1.00       630\n",
            "           1       1.00      1.00      1.00       648\n",
            "           2       1.00      1.00      1.00       625\n",
            "           3       1.00      1.00      1.00       634\n",
            "\n",
            "    accuracy                           1.00      2537\n",
            "   macro avg       1.00      1.00      1.00      2537\n",
            "weighted avg       1.00      1.00      1.00      2537\n",
            "\n",
            "Accurecy:  1.0\n",
            "--------------------------------------------------\n",
            "RandomForestClassifier(n_estimators=124, random_state=0)\n",
            "[[630   0   0   0]\n",
            " [  0 648   0   0]\n",
            " [  0   0 625   0]\n",
            " [  0   0   0 634]]\n",
            "              precision    recall  f1-score   support\n",
            "\n",
            "           0       1.00      1.00      1.00       630\n",
            "           1       1.00      1.00      1.00       648\n",
            "           2       1.00      1.00      1.00       625\n",
            "           3       1.00      1.00      1.00       634\n",
            "\n",
            "    accuracy                           1.00      2537\n",
            "   macro avg       1.00      1.00      1.00      2537\n",
            "weighted avg       1.00      1.00      1.00      2537\n",
            "\n",
            "Accurecy:  1.0\n",
            "--------------------------------------------------\n",
            "KNeighborsClassifier(n_neighbors=1)\n",
            "[[630   0   0   0]\n",
            " [  0 648   0   0]\n",
            " [  0   0 625   0]\n",
            " [  0   0   0 634]]\n",
            "              precision    recall  f1-score   support\n",
            "\n",
            "           0       1.00      1.00      1.00       630\n",
            "           1       1.00      1.00      1.00       648\n",
            "           2       1.00      1.00      1.00       625\n",
            "           3       1.00      1.00      1.00       634\n",
            "\n",
            "    accuracy                           1.00      2537\n",
            "   macro avg       1.00      1.00      1.00      2537\n",
            "weighted avg       1.00      1.00      1.00      2537\n",
            "\n",
            "Accurecy:  1.0\n"
          ]
        }
      ],
      "source": [
        "\n",
        "for i in best_models:\n",
        "  print(\"--------------------------------------------------\")\n",
        "  print(i[0])\n",
        "  y_pred=i[0].predict(X_test)\n",
        "  print(confusion_matrix(y_test, y_pred))\n",
        "  print(classification_report(y_test,y_pred))\n",
        "  print(\"Accurecy: \",accuracy_score(y_test, y_pred))"
      ]
    },
    {
      "cell_type": "markdown",
      "metadata": {
        "id": "zxxWSX26jsGT"
      },
      "source": [
        "#SHAP"
      ]
    },
    {
      "cell_type": "code",
      "execution_count": null,
      "metadata": {
        "colab": {
          "base_uri": "https://localhost:8080/"
        },
        "id": "YUhJ7dWajur-",
        "outputId": "7910780f-493f-435e-cdbd-aa923a60f46f"
      },
      "outputs": [
        {
          "output_type": "stream",
          "name": "stdout",
          "text": [
            "Looking in indexes: https://pypi.org/simple, https://us-python.pkg.dev/colab-wheels/public/simple/\n",
            "Collecting shap\n",
            "  Downloading shap-0.41.0-cp38-cp38-manylinux_2_12_x86_64.manylinux2010_x86_64.whl (575 kB)\n",
            "\u001b[K     |████████████████████████████████| 575 kB 8.2 MB/s \n",
            "\u001b[?25hRequirement already satisfied: cloudpickle in /usr/local/lib/python3.8/dist-packages (from shap) (1.5.0)\n",
            "Requirement already satisfied: tqdm>4.25.0 in /usr/local/lib/python3.8/dist-packages (from shap) (4.64.1)\n",
            "Requirement already satisfied: scipy in /usr/local/lib/python3.8/dist-packages (from shap) (1.7.3)\n",
            "Requirement already satisfied: scikit-learn in /usr/local/lib/python3.8/dist-packages (from shap) (1.0.2)\n",
            "Requirement already satisfied: packaging>20.9 in /usr/local/lib/python3.8/dist-packages (from shap) (21.3)\n",
            "Requirement already satisfied: pandas in /usr/local/lib/python3.8/dist-packages (from shap) (1.3.5)\n",
            "Requirement already satisfied: numpy in /usr/local/lib/python3.8/dist-packages (from shap) (1.21.6)\n",
            "Collecting slicer==0.0.7\n",
            "  Downloading slicer-0.0.7-py3-none-any.whl (14 kB)\n",
            "Requirement already satisfied: numba in /usr/local/lib/python3.8/dist-packages (from shap) (0.56.4)\n",
            "Requirement already satisfied: pyparsing!=3.0.5,>=2.0.2 in /usr/local/lib/python3.8/dist-packages (from packaging>20.9->shap) (3.0.9)\n",
            "Requirement already satisfied: llvmlite<0.40,>=0.39.0dev0 in /usr/local/lib/python3.8/dist-packages (from numba->shap) (0.39.1)\n",
            "Requirement already satisfied: importlib-metadata in /usr/local/lib/python3.8/dist-packages (from numba->shap) (5.1.0)\n",
            "Requirement already satisfied: setuptools in /usr/local/lib/python3.8/dist-packages (from numba->shap) (57.4.0)\n",
            "Requirement already satisfied: zipp>=0.5 in /usr/local/lib/python3.8/dist-packages (from importlib-metadata->numba->shap) (3.11.0)\n",
            "Requirement already satisfied: pytz>=2017.3 in /usr/local/lib/python3.8/dist-packages (from pandas->shap) (2022.6)\n",
            "Requirement already satisfied: python-dateutil>=2.7.3 in /usr/local/lib/python3.8/dist-packages (from pandas->shap) (2.8.2)\n",
            "Requirement already satisfied: six>=1.5 in /usr/local/lib/python3.8/dist-packages (from python-dateutil>=2.7.3->pandas->shap) (1.15.0)\n",
            "Requirement already satisfied: threadpoolctl>=2.0.0 in /usr/local/lib/python3.8/dist-packages (from scikit-learn->shap) (3.1.0)\n",
            "Requirement already satisfied: joblib>=0.11 in /usr/local/lib/python3.8/dist-packages (from scikit-learn->shap) (1.2.0)\n",
            "Installing collected packages: slicer, shap\n",
            "Successfully installed shap-0.41.0 slicer-0.0.7\n"
          ]
        }
      ],
      "source": [
        "!pip install shap\n",
        "import shap"
      ]
    },
    {
      "cell_type": "code",
      "execution_count": null,
      "metadata": {
        "id": "POk0kUrdB-Y4"
      },
      "outputs": [],
      "source": [
        "\n",
        "def SHAP_EXP(model,graph_feat):\n",
        "  print(\"Models: \",model)\n",
        "\n",
        "  explainer = shap.Explainer(model.predict, X_test)\n",
        "\n",
        "  shap_values1 = explainer(X_test)\n",
        "  features_names=list_of_feat\n",
        "\n",
        "  if 'Subjects' in features_names:\n",
        "    features_names.pop(0)\n",
        "\n",
        "\n",
        "  shap.plots.bar(shap_values1,max_display=graph_feat[\"max_display\"])\n",
        "\n",
        "  print(\"---------------------\")\n",
        "\n",
        "  shap.summary_plot(shap_values1,max_display=graph_feat[\"max_display\"],feature_names=features_names)\n",
        "\n",
        "  print(\"---------------------\")\n",
        "\n",
        "  print(\"Local Explaination\")\n",
        "  shap.plots.waterfall(shap_values1[graph_feat[\"shap_values Index\"]],max_display=graph_feat[\"max_display\"])\n",
        "\n",
        "\n",
        "  print(\"---------------------\")\n",
        "\n",
        "  shap.plots.bar(shap_values1[graph_feat[\"shap_values Index\"]],max_display=graph_feat[\"max_display\"])"
      ]
    },
    {
      "cell_type": "code",
      "execution_count": null,
      "metadata": {
        "colab": {
          "base_uri": "https://localhost:8080/",
          "height": 529,
          "referenced_widgets": [
            "b32cca0567364d89bcd19ffd21906c20",
            "833b802ea8ed492585bf5cf6132d5eeb",
            "4925583be57046c3a572b8a484bf80d8",
            "cd9e0e42eb5343cfbb376fee7c52f543",
            "577d98f444ef4a3e8926410ca0229f8d",
            "bf459de34f5e4c23aca0287dbad5730c",
            "a8cea79300d64ccbb77780e7dba971c4",
            "8110e119a60a4f35bcfde106053f6a63",
            "96ae8c0773f4496ab9976f5bdbeb6f5f",
            "92021d24041941a888368e55f860a67b",
            "e8b9f26c68944038bd156795e1637d6b",
            "f513bbbab9dc45459498620a32e33cbb",
            "6788401656d3492e9236d4aba8a200ca",
            "9b3b8ca368bc4d50860b19529cc2d65a",
            "eee2663b84fd405bbf3244d5bf58d880",
            "62c02bee0e364ea0b7ab8e6f74e440b4",
            "75b820d7bc904d9a93b8c01d74996dbc",
            "0f318267468c41d8b8dd81f0c73ef8db",
            "c7a4c200cd9446489826e44ae35bca8f",
            "65eed8ac1cd54e24aecfafd15b632863",
            "cd3ab18b2d9e406bac0013601e37fc7f",
            "bc006342771b4b9ea6c3f47a5afed218",
            "da5bdc61006040cc897f4c574a149d2f",
            "8a24ce402f6442408c213dc7f944f097",
            "d7054b23a7744b6ba532000df3825b3b",
            "11565a7d59b14801a5440c5c79069431",
            "25ce25b530c04ec3beb1ff5efd13306a",
            "96803877e894434d8483f259c6431323",
            "6ad53930f9db4f3e85478febf962844b",
            "ef61ba6ad6e04e52823cf1694fd36ddc",
            "41d3406b4be24c559c5dbb23e002674a",
            "2ce418f3231a40c88e1e8e2c8c246cc5",
            "f0f255d21e0e4714afbb4a9a3a46726c",
            "6e2b6fbd43284536b2bb9b4427512bf6",
            "fb1dfbf19a434bcb9b10c7c2aa438ef5",
            "68c066a09419401f854e1339d1aaedd4",
            "cbb5b15d6770436886ad06e45b7403a2",
            "8af244f24ac542fc8ac81d19bd412288",
            "bfdb2def3e28490e92e6f3882a6d7f52",
            "f66e53b89d8a4ff5bcb243a48e47c62f",
            "adc0d029aff64e618813cd4b887be4ee",
            "b7d4f12fa2ea48dd863de4d9f93ab1d1",
            "4e0245622f624652a04d6691887f9d43",
            "7c8f902461ed4dfc92edbf0f434a4b77",
            "1fbb680dabfb4721b006c304486f1833",
            "3390d31bd155453f9d70f59cf08b64fd",
            "89b15f3d9830453b91a8847020b53750",
            "934d75a4e2dd4999bba98718b5391ef6",
            "854bc7f182884b2d8ce4fee2de184d72",
            "bbcfc079d5184bc982c7465aa1409c28",
            "38a47e2fe1c94e6a86ebdc89d3ca9e32"
          ]
        },
        "id": "V-G5szfQDiz1",
        "outputId": "7487987b-61e5-46dc-9ad9-52337335a2cb"
      },
      "outputs": [
        {
          "output_type": "display_data",
          "data": {
            "text/plain": [
              "Checkbox(value=False, description='AdaBoostClassifier(random_state=0)', indent=False)"
            ],
            "application/vnd.jupyter.widget-view+json": {
              "version_major": 2,
              "version_minor": 0,
              "model_id": "b32cca0567364d89bcd19ffd21906c20"
            }
          },
          "metadata": {}
        },
        {
          "output_type": "display_data",
          "data": {
            "text/plain": [
              "Checkbox(value=False, description='AdaBoostClassifier(n_estimators=39, random_state=0)', indent=False)"
            ],
            "application/vnd.jupyter.widget-view+json": {
              "version_major": 2,
              "version_minor": 0,
              "model_id": "cd9e0e42eb5343cfbb376fee7c52f543"
            }
          },
          "metadata": {}
        },
        {
          "output_type": "display_data",
          "data": {
            "text/plain": [
              "Checkbox(value=False, description='GradientBoostingClassifier(random_state=0)', indent=False)"
            ],
            "application/vnd.jupyter.widget-view+json": {
              "version_major": 2,
              "version_minor": 0,
              "model_id": "a8cea79300d64ccbb77780e7dba971c4"
            }
          },
          "metadata": {}
        },
        {
          "output_type": "display_data",
          "data": {
            "text/plain": [
              "Checkbox(value=False, description='GradientBoostingClassifier(n_estimators=41, random_state=0)', indent=False)"
            ],
            "application/vnd.jupyter.widget-view+json": {
              "version_major": 2,
              "version_minor": 0,
              "model_id": "92021d24041941a888368e55f860a67b"
            }
          },
          "metadata": {}
        },
        {
          "output_type": "display_data",
          "data": {
            "text/plain": [
              "Checkbox(value=False, description='GradientBoostingClassifier(max_depth=11, random_state=0)', indent=False)"
            ],
            "application/vnd.jupyter.widget-view+json": {
              "version_major": 2,
              "version_minor": 0,
              "model_id": "6788401656d3492e9236d4aba8a200ca"
            }
          },
          "metadata": {}
        },
        {
          "output_type": "display_data",
          "data": {
            "text/plain": [
              "Checkbox(value=False, description='GradientBoostingClassifier(max_depth=11, n_estimators=41, random_state=0)',…"
            ],
            "application/vnd.jupyter.widget-view+json": {
              "version_major": 2,
              "version_minor": 0,
              "model_id": "62c02bee0e364ea0b7ab8e6f74e440b4"
            }
          },
          "metadata": {}
        },
        {
          "output_type": "display_data",
          "data": {
            "text/plain": [
              "Checkbox(value=False, description='RandomForestClassifier(random_state=0)', indent=False)"
            ],
            "application/vnd.jupyter.widget-view+json": {
              "version_major": 2,
              "version_minor": 0,
              "model_id": "c7a4c200cd9446489826e44ae35bca8f"
            }
          },
          "metadata": {}
        },
        {
          "output_type": "display_data",
          "data": {
            "text/plain": [
              "Checkbox(value=False, description='RandomForestClassifier(n_estimators=124, random_state=0)', indent=False)"
            ],
            "application/vnd.jupyter.widget-view+json": {
              "version_major": 2,
              "version_minor": 0,
              "model_id": "bc006342771b4b9ea6c3f47a5afed218"
            }
          },
          "metadata": {}
        },
        {
          "output_type": "display_data",
          "data": {
            "text/plain": [
              "Checkbox(value=False, description='RandomForestClassifier(max_depth=18, random_state=0)', indent=False)"
            ],
            "application/vnd.jupyter.widget-view+json": {
              "version_major": 2,
              "version_minor": 0,
              "model_id": "d7054b23a7744b6ba532000df3825b3b"
            }
          },
          "metadata": {}
        },
        {
          "output_type": "display_data",
          "data": {
            "text/plain": [
              "Checkbox(value=False, description='RandomForestClassifier(max_depth=18, n_estimators=124, random_state=0)', in…"
            ],
            "application/vnd.jupyter.widget-view+json": {
              "version_major": 2,
              "version_minor": 0,
              "model_id": "96803877e894434d8483f259c6431323"
            }
          },
          "metadata": {}
        },
        {
          "output_type": "display_data",
          "data": {
            "text/plain": [
              "Checkbox(value=False, description=\"XGBClassifier(objective='multi:softprob')\", indent=False)"
            ],
            "application/vnd.jupyter.widget-view+json": {
              "version_major": 2,
              "version_minor": 0,
              "model_id": "41d3406b4be24c559c5dbb23e002674a"
            }
          },
          "metadata": {}
        },
        {
          "output_type": "display_data",
          "data": {
            "text/plain": [
              "Checkbox(value=False, description=\"XGBClassifier(max_depth=15, objective='multi:softprob')\", indent=False)"
            ],
            "application/vnd.jupyter.widget-view+json": {
              "version_major": 2,
              "version_minor": 0,
              "model_id": "6e2b6fbd43284536b2bb9b4427512bf6"
            }
          },
          "metadata": {}
        },
        {
          "output_type": "display_data",
          "data": {
            "text/plain": [
              "Checkbox(value=False, description=\"XGBClassifier(n_estimators=233, objective='multi:softprob')\", indent=False)"
            ],
            "application/vnd.jupyter.widget-view+json": {
              "version_major": 2,
              "version_minor": 0,
              "model_id": "cbb5b15d6770436886ad06e45b7403a2"
            }
          },
          "metadata": {}
        },
        {
          "output_type": "display_data",
          "data": {
            "text/plain": [
              "Checkbox(value=False, description=\"XGBClassifier(max_depth=15, n_estimators=233, objective='multi:softprob')\",…"
            ],
            "application/vnd.jupyter.widget-view+json": {
              "version_major": 2,
              "version_minor": 0,
              "model_id": "f66e53b89d8a4ff5bcb243a48e47c62f"
            }
          },
          "metadata": {}
        },
        {
          "output_type": "display_data",
          "data": {
            "text/plain": [
              "Checkbox(value=False, description='KNeighborsClassifier()', indent=False)"
            ],
            "application/vnd.jupyter.widget-view+json": {
              "version_major": 2,
              "version_minor": 0,
              "model_id": "4e0245622f624652a04d6691887f9d43"
            }
          },
          "metadata": {}
        },
        {
          "output_type": "display_data",
          "data": {
            "text/plain": [
              "Checkbox(value=False, description='KNeighborsClassifier(n_neighbors=1)', indent=False)"
            ],
            "application/vnd.jupyter.widget-view+json": {
              "version_major": 2,
              "version_minor": 0,
              "model_id": "3390d31bd155453f9d70f59cf08b64fd"
            }
          },
          "metadata": {}
        },
        {
          "output_type": "display_data",
          "data": {
            "text/plain": [
              "Checkbox(value=False, description='GaussianNB()', indent=False)"
            ],
            "application/vnd.jupyter.widget-view+json": {
              "version_major": 2,
              "version_minor": 0,
              "model_id": "854bc7f182884b2d8ce4fee2de184d72"
            }
          },
          "metadata": {}
        }
      ],
      "source": [
        "new_keys_7=models_check_box(models)"
      ]
    },
    {
      "cell_type": "code",
      "execution_count": null,
      "metadata": {
        "id": "JeD8HT_iDodb"
      },
      "outputs": [],
      "source": [
        "graph_feat={\n",
        "    \"max_display\":20,\n",
        "    \"shap_values Index\":2\n",
        "}\n",
        "\n",
        "for i in range(len(new_keys_7)):\n",
        "  if new_keys_7[i].value ==True:\n",
        "    SHAP_EXP(models[i],graph_feat)\n",
        "    print(\"---------------------------------------------------------\")\n",
        "    print(\"---------------------------------------------------------\")\n",
        "    print(\"---------------------------------------------------------\")\n",
        "    print(\"---------------------------------------------------------\")"
      ]
    },
    {
      "cell_type": "markdown",
      "metadata": {
        "id": "23z3A3f1ol6d"
      },
      "source": [
        "#Confusion Matrix For Testing"
      ]
    },
    {
      "cell_type": "code",
      "execution_count": null,
      "metadata": {
        "colab": {
          "base_uri": "https://localhost:8080/",
          "height": 529,
          "referenced_widgets": [
            "6a725f98d44447949a64259cf271bd41",
            "708bc401e7db41a781245e322306aaed",
            "e27493ac03d44ee89b2da19ce2655552",
            "0b5a965409e347f9b3fc68aa44b7ce31",
            "f30605aec33b4deb8e5075dbb7089dec",
            "7a65883468ea4be89a1c6fcc4dd3406d",
            "46673226defe42c0a206736b1e43a751",
            "87e56ebfa0fc45c18d866a96b7fce2a7",
            "39fd532a6b0c464abc8c705b1c8dffa9",
            "a2363eaae3d34a46833d43b89da34d59",
            "d7aeae3380a8441dbe81d930532d4a6b",
            "e076ec137d7f48f8940a1e381597fc9f",
            "0fa4700c89984c99a4d3013b23b3d176",
            "b815a620adf34b9bb4a2e35afc5dc5cd",
            "dd150e57355f47c39bdb86a613c4d6bd",
            "1010d4cff4514b29a44a68acb52fa921",
            "3073e021501f41dca5608228216412ee",
            "b5735e64d470419885d9cb0e30eb27ad",
            "db55cd2047c349e8a2481d06df4a9621",
            "c20e89d3ce7c44bda4f5d1fb2e68b565",
            "9d6c3b0318c646c6a77a179f8ac6d929",
            "49b73133824f40b5afedc4686d748f19",
            "4a90dc9389b34800a7ebc9ffa2cf5bb1",
            "1e562f457a144138a564592de4904b41",
            "ad09860479e544fdb4d343ca693317a3",
            "97cb5b74da654ffa9de75aa03f3b0579",
            "190cec5255e64ac3aa7d8efa549df8ff",
            "a46a09dbed184cdb843ac915450ab6d1",
            "3f8fb290db9943aeab3df00791ba6284",
            "4409eba348174798af4a19e1c35ce5ea",
            "137f24e9bedd468f89c7e04a5947df0f",
            "5ad29dfd27cb4914b46c43d06563473c",
            "899e464f67fd4eb0807d033a39be1eff",
            "09a74f8158df4b5ea83fa16f7f904f73",
            "a967f37c5a5447618b19535e307ff924",
            "147598e99dd549098ecf711cae5d0015",
            "4303fb3d2c694d208301cf5a7a46934d",
            "a0037288e34b499596475b89b5c01355",
            "870d9050785d4b39876c82d36196026e",
            "4524893ced904adb9e2062e4825ae9ac",
            "64cfcd79aded4acd96d7e46c24208a02",
            "59a01eea527d4a288d74bfa144a7f4b7",
            "a219426e609a44bd858737f5a6adab12",
            "787e0475da2e4823a49cd01cdca29823",
            "2c3c2782a10148888bdab8034afcdb4d",
            "fd5e71683d944f51bf2e8c3b51c198aa",
            "4c3eab22d4234dcfbf37fed08baa0041",
            "8428fa0b857d473b9d748915a4739b32",
            "1284fc7a90fd424ab65548523240588d",
            "580b85b946db48929c0e4a56e514d093",
            "afdcd16eb7b040e9bd96a34445575a83"
          ]
        },
        "id": "b3tHiraMBr_C",
        "outputId": "c67a247e-26c7-4841-dd14-a0441e9aed48"
      },
      "outputs": [
        {
          "output_type": "display_data",
          "data": {
            "text/plain": [
              "Checkbox(value=False, description='AdaBoostClassifier(random_state=0)', indent=False)"
            ],
            "application/vnd.jupyter.widget-view+json": {
              "version_major": 2,
              "version_minor": 0,
              "model_id": "6a725f98d44447949a64259cf271bd41"
            }
          },
          "metadata": {}
        },
        {
          "output_type": "display_data",
          "data": {
            "text/plain": [
              "Checkbox(value=False, description='AdaBoostClassifier(n_estimators=39, random_state=0)', indent=False)"
            ],
            "application/vnd.jupyter.widget-view+json": {
              "version_major": 2,
              "version_minor": 0,
              "model_id": "0b5a965409e347f9b3fc68aa44b7ce31"
            }
          },
          "metadata": {}
        },
        {
          "output_type": "display_data",
          "data": {
            "text/plain": [
              "Checkbox(value=False, description='GradientBoostingClassifier(random_state=0)', indent=False)"
            ],
            "application/vnd.jupyter.widget-view+json": {
              "version_major": 2,
              "version_minor": 0,
              "model_id": "46673226defe42c0a206736b1e43a751"
            }
          },
          "metadata": {}
        },
        {
          "output_type": "display_data",
          "data": {
            "text/plain": [
              "Checkbox(value=False, description='GradientBoostingClassifier(n_estimators=41, random_state=0)', indent=False)"
            ],
            "application/vnd.jupyter.widget-view+json": {
              "version_major": 2,
              "version_minor": 0,
              "model_id": "a2363eaae3d34a46833d43b89da34d59"
            }
          },
          "metadata": {}
        },
        {
          "output_type": "display_data",
          "data": {
            "text/plain": [
              "Checkbox(value=False, description='GradientBoostingClassifier(max_depth=11, random_state=0)', indent=False)"
            ],
            "application/vnd.jupyter.widget-view+json": {
              "version_major": 2,
              "version_minor": 0,
              "model_id": "0fa4700c89984c99a4d3013b23b3d176"
            }
          },
          "metadata": {}
        },
        {
          "output_type": "display_data",
          "data": {
            "text/plain": [
              "Checkbox(value=False, description='GradientBoostingClassifier(max_depth=11, n_estimators=41, random_state=0)',…"
            ],
            "application/vnd.jupyter.widget-view+json": {
              "version_major": 2,
              "version_minor": 0,
              "model_id": "1010d4cff4514b29a44a68acb52fa921"
            }
          },
          "metadata": {}
        },
        {
          "output_type": "display_data",
          "data": {
            "text/plain": [
              "Checkbox(value=False, description='RandomForestClassifier(random_state=0)', indent=False)"
            ],
            "application/vnd.jupyter.widget-view+json": {
              "version_major": 2,
              "version_minor": 0,
              "model_id": "db55cd2047c349e8a2481d06df4a9621"
            }
          },
          "metadata": {}
        },
        {
          "output_type": "display_data",
          "data": {
            "text/plain": [
              "Checkbox(value=False, description='RandomForestClassifier(n_estimators=124, random_state=0)', indent=False)"
            ],
            "application/vnd.jupyter.widget-view+json": {
              "version_major": 2,
              "version_minor": 0,
              "model_id": "49b73133824f40b5afedc4686d748f19"
            }
          },
          "metadata": {}
        },
        {
          "output_type": "display_data",
          "data": {
            "text/plain": [
              "Checkbox(value=False, description='RandomForestClassifier(max_depth=18, random_state=0)', indent=False)"
            ],
            "application/vnd.jupyter.widget-view+json": {
              "version_major": 2,
              "version_minor": 0,
              "model_id": "ad09860479e544fdb4d343ca693317a3"
            }
          },
          "metadata": {}
        },
        {
          "output_type": "display_data",
          "data": {
            "text/plain": [
              "Checkbox(value=False, description='RandomForestClassifier(max_depth=18, n_estimators=124, random_state=0)', in…"
            ],
            "application/vnd.jupyter.widget-view+json": {
              "version_major": 2,
              "version_minor": 0,
              "model_id": "a46a09dbed184cdb843ac915450ab6d1"
            }
          },
          "metadata": {}
        },
        {
          "output_type": "display_data",
          "data": {
            "text/plain": [
              "Checkbox(value=False, description=\"XGBClassifier(objective='multi:softprob')\", indent=False)"
            ],
            "application/vnd.jupyter.widget-view+json": {
              "version_major": 2,
              "version_minor": 0,
              "model_id": "137f24e9bedd468f89c7e04a5947df0f"
            }
          },
          "metadata": {}
        },
        {
          "output_type": "display_data",
          "data": {
            "text/plain": [
              "Checkbox(value=False, description=\"XGBClassifier(max_depth=15, objective='multi:softprob')\", indent=False)"
            ],
            "application/vnd.jupyter.widget-view+json": {
              "version_major": 2,
              "version_minor": 0,
              "model_id": "09a74f8158df4b5ea83fa16f7f904f73"
            }
          },
          "metadata": {}
        },
        {
          "output_type": "display_data",
          "data": {
            "text/plain": [
              "Checkbox(value=False, description=\"XGBClassifier(n_estimators=233, objective='multi:softprob')\", indent=False)"
            ],
            "application/vnd.jupyter.widget-view+json": {
              "version_major": 2,
              "version_minor": 0,
              "model_id": "4303fb3d2c694d208301cf5a7a46934d"
            }
          },
          "metadata": {}
        },
        {
          "output_type": "display_data",
          "data": {
            "text/plain": [
              "Checkbox(value=False, description=\"XGBClassifier(max_depth=15, n_estimators=233, objective='multi:softprob')\",…"
            ],
            "application/vnd.jupyter.widget-view+json": {
              "version_major": 2,
              "version_minor": 0,
              "model_id": "4524893ced904adb9e2062e4825ae9ac"
            }
          },
          "metadata": {}
        },
        {
          "output_type": "display_data",
          "data": {
            "text/plain": [
              "Checkbox(value=False, description='KNeighborsClassifier()', indent=False)"
            ],
            "application/vnd.jupyter.widget-view+json": {
              "version_major": 2,
              "version_minor": 0,
              "model_id": "a219426e609a44bd858737f5a6adab12"
            }
          },
          "metadata": {}
        },
        {
          "output_type": "display_data",
          "data": {
            "text/plain": [
              "Checkbox(value=False, description='KNeighborsClassifier(n_neighbors=1)', indent=False)"
            ],
            "application/vnd.jupyter.widget-view+json": {
              "version_major": 2,
              "version_minor": 0,
              "model_id": "fd5e71683d944f51bf2e8c3b51c198aa"
            }
          },
          "metadata": {}
        },
        {
          "output_type": "display_data",
          "data": {
            "text/plain": [
              "Checkbox(value=False, description='GaussianNB()', indent=False)"
            ],
            "application/vnd.jupyter.widget-view+json": {
              "version_major": 2,
              "version_minor": 0,
              "model_id": "1284fc7a90fd424ab65548523240588d"
            }
          },
          "metadata": {}
        }
      ],
      "source": [
        "new_keys_6=models_check_box(models)"
      ]
    },
    {
      "cell_type": "code",
      "execution_count": null,
      "metadata": {
        "id": "5vsqEYhponhI"
      },
      "outputs": [],
      "source": [
        "\n",
        "from yellowbrick.classifier import ConfusionMatrix\n",
        "\n",
        "\n",
        "for i in range(len(new_keys_6)):\n",
        "  if new_keys_6[i].value ==True:\n",
        "    cm = ConfusionMatrix(models[i], classes=['Reading', 'Resting', 'Walking', 'Working'])\n",
        "\n",
        "    cm.fit(X_train, y_train)\n",
        "    cm.score(X_test, y_test)\n",
        "    cm.show()"
      ]
    },
    {
      "cell_type": "markdown",
      "metadata": {
        "id": "EwT5yAeqols7"
      },
      "source": []
    },
    {
      "cell_type": "markdown",
      "metadata": {
        "id": "57cQ8dzJX0Lp"
      },
      "source": [
        "#Confusion Matrix For Training"
      ]
    },
    {
      "cell_type": "code",
      "execution_count": null,
      "metadata": {
        "colab": {
          "base_uri": "https://localhost:8080/",
          "height": 529,
          "referenced_widgets": [
            "db489c61e89b423f800545654da875ba",
            "40e3ddf6debf4a3a808e87406c295f2a",
            "0680d50e6816474dacbe98fa679c9ae8",
            "baad259956be4c4286731eab22264b0c",
            "6dc22736b36c48e3a20f631639e72cba",
            "17df6ada5ef74a38bb76b78956d967e2",
            "934bc863b8a74856beacde44fd76b97c",
            "8097411f8a504e978aafd1af129349cd",
            "6251fa76997a4013b0cb9bd53874846a",
            "262bd0e99c0b4c34994715f1bc74dcd8",
            "c4e267cc2aea409a902782fe47e30afe",
            "fb524e2af58047d8a5c31671bd519d9f",
            "254e570a28bf429c92f5167e672fb7aa",
            "b649b6226dfe4b339fa0be47913c3b21",
            "188f39b840f6447aaed08284ff2b12ec",
            "b5e6d14765524ce19f7aab0fd695cc5d",
            "3ae4b4bf69794282a16804e8df638e2b",
            "607c5ce8a67e4c60b892771f20f308ba",
            "40db3374af454fc9b162118c610d99df",
            "40e6fe613f7f480b9671f4d61ac59d1c",
            "4b385c332f3648cea569e6a8953bff16",
            "ed4651deecbe4b90b8e39f0b7fdb293f",
            "705896e084924d5699d45ce045767000",
            "769d129e461742baad3779d633060358",
            "3230852140b947f8bc77da91fc8c5e46",
            "bf3f230d953d47b29491d8af5a8f7b8b",
            "06512468f5e743f09ca3cbe17af095a1",
            "79fdc8ce7e214dabbfdd2f71bba62069",
            "af36afe6b32b40f296afe35521188ab6",
            "83457b3dce504298be090ee7b2d7f7c0",
            "bfe6b95d42d3422bb28588e768770c2c",
            "bc21b2af96d149c197e3dc7fdcf9220c",
            "6490e2edc3b24422926adbaa1d1c108c",
            "75fe885140104d798b4080ef04f4c059",
            "a1f462052a6047b8aeb689a5a920ffd6",
            "3d0b06473a94437f8a8f0a461e988bf7",
            "2c4e772758f94ce3bcbd6ca37f3e10c9",
            "a485add44e23496b9729e480e16e6a0f",
            "8593b863e43d461cac3664fad3433ee4",
            "6e24da8ea4ae44c9bf253736a05747a7",
            "c2501158f1104c2f940a2095396b9378",
            "3597c542d20240cf9241eae70308cc59",
            "8c85de1c1ad74db691059e3e6ef40a0a",
            "eb9bcaa1c7574ddf951a3d6b506c1328",
            "2942ce4b9944490ba35292dda51a8e38",
            "ec976520c35941c9acfb2821919d207a",
            "333e8ad99f19464486eee0fc670a9220",
            "24c83f55a15f4f08a3cdcb2644900b88",
            "c2d17fc836fa4fed96f05693e4ea6d58",
            "cada3adb537f4ce0a921d29b418f04ab",
            "e2d518523d5242849da5d4dd34d4d378"
          ]
        },
        "id": "tDrF5oTkBcZ_",
        "outputId": "0185cdf1-ab45-4f7f-d000-28e98abbcf4e"
      },
      "outputs": [
        {
          "output_type": "display_data",
          "data": {
            "text/plain": [
              "Checkbox(value=False, description='AdaBoostClassifier(random_state=0)', indent=False)"
            ],
            "application/vnd.jupyter.widget-view+json": {
              "version_major": 2,
              "version_minor": 0,
              "model_id": "db489c61e89b423f800545654da875ba"
            }
          },
          "metadata": {}
        },
        {
          "output_type": "display_data",
          "data": {
            "text/plain": [
              "Checkbox(value=False, description='AdaBoostClassifier(n_estimators=39, random_state=0)', indent=False)"
            ],
            "application/vnd.jupyter.widget-view+json": {
              "version_major": 2,
              "version_minor": 0,
              "model_id": "baad259956be4c4286731eab22264b0c"
            }
          },
          "metadata": {}
        },
        {
          "output_type": "display_data",
          "data": {
            "text/plain": [
              "Checkbox(value=False, description='GradientBoostingClassifier(random_state=0)', indent=False)"
            ],
            "application/vnd.jupyter.widget-view+json": {
              "version_major": 2,
              "version_minor": 0,
              "model_id": "934bc863b8a74856beacde44fd76b97c"
            }
          },
          "metadata": {}
        },
        {
          "output_type": "display_data",
          "data": {
            "text/plain": [
              "Checkbox(value=False, description='GradientBoostingClassifier(n_estimators=41, random_state=0)', indent=False)"
            ],
            "application/vnd.jupyter.widget-view+json": {
              "version_major": 2,
              "version_minor": 0,
              "model_id": "262bd0e99c0b4c34994715f1bc74dcd8"
            }
          },
          "metadata": {}
        },
        {
          "output_type": "display_data",
          "data": {
            "text/plain": [
              "Checkbox(value=False, description='GradientBoostingClassifier(max_depth=11, random_state=0)', indent=False)"
            ],
            "application/vnd.jupyter.widget-view+json": {
              "version_major": 2,
              "version_minor": 0,
              "model_id": "254e570a28bf429c92f5167e672fb7aa"
            }
          },
          "metadata": {}
        },
        {
          "output_type": "display_data",
          "data": {
            "text/plain": [
              "Checkbox(value=False, description='GradientBoostingClassifier(max_depth=11, n_estimators=41, random_state=0)',…"
            ],
            "application/vnd.jupyter.widget-view+json": {
              "version_major": 2,
              "version_minor": 0,
              "model_id": "b5e6d14765524ce19f7aab0fd695cc5d"
            }
          },
          "metadata": {}
        },
        {
          "output_type": "display_data",
          "data": {
            "text/plain": [
              "Checkbox(value=False, description='RandomForestClassifier(random_state=0)', indent=False)"
            ],
            "application/vnd.jupyter.widget-view+json": {
              "version_major": 2,
              "version_minor": 0,
              "model_id": "40db3374af454fc9b162118c610d99df"
            }
          },
          "metadata": {}
        },
        {
          "output_type": "display_data",
          "data": {
            "text/plain": [
              "Checkbox(value=False, description='RandomForestClassifier(n_estimators=124, random_state=0)', indent=False)"
            ],
            "application/vnd.jupyter.widget-view+json": {
              "version_major": 2,
              "version_minor": 0,
              "model_id": "ed4651deecbe4b90b8e39f0b7fdb293f"
            }
          },
          "metadata": {}
        },
        {
          "output_type": "display_data",
          "data": {
            "text/plain": [
              "Checkbox(value=False, description='RandomForestClassifier(max_depth=18, random_state=0)', indent=False)"
            ],
            "application/vnd.jupyter.widget-view+json": {
              "version_major": 2,
              "version_minor": 0,
              "model_id": "3230852140b947f8bc77da91fc8c5e46"
            }
          },
          "metadata": {}
        },
        {
          "output_type": "display_data",
          "data": {
            "text/plain": [
              "Checkbox(value=False, description='RandomForestClassifier(max_depth=18, n_estimators=124, random_state=0)', in…"
            ],
            "application/vnd.jupyter.widget-view+json": {
              "version_major": 2,
              "version_minor": 0,
              "model_id": "79fdc8ce7e214dabbfdd2f71bba62069"
            }
          },
          "metadata": {}
        },
        {
          "output_type": "display_data",
          "data": {
            "text/plain": [
              "Checkbox(value=False, description=\"XGBClassifier(objective='multi:softprob')\", indent=False)"
            ],
            "application/vnd.jupyter.widget-view+json": {
              "version_major": 2,
              "version_minor": 0,
              "model_id": "bfe6b95d42d3422bb28588e768770c2c"
            }
          },
          "metadata": {}
        },
        {
          "output_type": "display_data",
          "data": {
            "text/plain": [
              "Checkbox(value=False, description=\"XGBClassifier(max_depth=15, objective='multi:softprob')\", indent=False)"
            ],
            "application/vnd.jupyter.widget-view+json": {
              "version_major": 2,
              "version_minor": 0,
              "model_id": "75fe885140104d798b4080ef04f4c059"
            }
          },
          "metadata": {}
        },
        {
          "output_type": "display_data",
          "data": {
            "text/plain": [
              "Checkbox(value=False, description=\"XGBClassifier(n_estimators=233, objective='multi:softprob')\", indent=False)"
            ],
            "application/vnd.jupyter.widget-view+json": {
              "version_major": 2,
              "version_minor": 0,
              "model_id": "2c4e772758f94ce3bcbd6ca37f3e10c9"
            }
          },
          "metadata": {}
        },
        {
          "output_type": "display_data",
          "data": {
            "text/plain": [
              "Checkbox(value=False, description=\"XGBClassifier(max_depth=15, n_estimators=233, objective='multi:softprob')\",…"
            ],
            "application/vnd.jupyter.widget-view+json": {
              "version_major": 2,
              "version_minor": 0,
              "model_id": "6e24da8ea4ae44c9bf253736a05747a7"
            }
          },
          "metadata": {}
        },
        {
          "output_type": "display_data",
          "data": {
            "text/plain": [
              "Checkbox(value=False, description='KNeighborsClassifier()', indent=False)"
            ],
            "application/vnd.jupyter.widget-view+json": {
              "version_major": 2,
              "version_minor": 0,
              "model_id": "8c85de1c1ad74db691059e3e6ef40a0a"
            }
          },
          "metadata": {}
        },
        {
          "output_type": "display_data",
          "data": {
            "text/plain": [
              "Checkbox(value=False, description='KNeighborsClassifier(n_neighbors=1)', indent=False)"
            ],
            "application/vnd.jupyter.widget-view+json": {
              "version_major": 2,
              "version_minor": 0,
              "model_id": "ec976520c35941c9acfb2821919d207a"
            }
          },
          "metadata": {}
        },
        {
          "output_type": "display_data",
          "data": {
            "text/plain": [
              "Checkbox(value=False, description='GaussianNB()', indent=False)"
            ],
            "application/vnd.jupyter.widget-view+json": {
              "version_major": 2,
              "version_minor": 0,
              "model_id": "c2d17fc836fa4fed96f05693e4ea6d58"
            }
          },
          "metadata": {}
        }
      ],
      "source": [
        "new_keys_5=models_check_box(models)"
      ]
    },
    {
      "cell_type": "code",
      "execution_count": null,
      "metadata": {
        "id": "jhzRUmq9X4CZ"
      },
      "outputs": [],
      "source": [
        "\n",
        "for i in range(len(new_keys_5)):\n",
        "  if new_keys_5[i].value ==True:\n",
        "    cm = ConfusionMatrix(models[i], classes=['Reading', 'Resting', 'Walking', 'Working'])\n",
        "\n",
        "    cm.fit(X_train, y_train)\n",
        "    cm.score(X_train, y_train)\n",
        "    cm.show()\n",
        "    print(\"-------------------------------\")\n",
        "    print(\"-------------------------------\")"
      ]
    },
    {
      "cell_type": "markdown",
      "metadata": {
        "id": "igsy215JGzfg"
      },
      "source": [
        "#ROC FOR MULTICLASS"
      ]
    },
    {
      "cell_type": "code",
      "execution_count": null,
      "metadata": {
        "colab": {
          "base_uri": "https://localhost:8080/"
        },
        "id": "UoPKNwlqG3ge",
        "outputId": "8d168afe-1524-4605-ec9d-aa7f24dc60cc"
      },
      "outputs": [
        {
          "output_type": "stream",
          "name": "stdout",
          "text": [
            "Looking in indexes: https://pypi.org/simple, https://us-python.pkg.dev/colab-wheels/public/simple/\n",
            "Collecting plotly==5.11.0\n",
            "  Downloading plotly-5.11.0-py2.py3-none-any.whl (15.3 MB)\n",
            "\u001b[K     |████████████████████████████████| 15.3 MB 6.7 MB/s \n",
            "\u001b[?25hRequirement already satisfied: tenacity>=6.2.0 in /usr/local/lib/python3.8/dist-packages (from plotly==5.11.0) (8.1.0)\n",
            "Installing collected packages: plotly\n",
            "  Attempting uninstall: plotly\n",
            "    Found existing installation: plotly 5.5.0\n",
            "    Uninstalling plotly-5.5.0:\n",
            "      Successfully uninstalled plotly-5.5.0\n",
            "Successfully installed plotly-5.11.0\n",
            "Looking in indexes: https://pypi.org/simple, https://us-python.pkg.dev/colab-wheels/public/simple/\n",
            "Collecting kaleido\n",
            "  Downloading kaleido-0.2.1-py2.py3-none-manylinux1_x86_64.whl (79.9 MB)\n",
            "\u001b[K     |████████████████████████████████| 79.9 MB 99 kB/s \n",
            "\u001b[?25hInstalling collected packages: kaleido\n",
            "Successfully installed kaleido-0.2.1\n"
          ]
        }
      ],
      "source": [
        "!pip install plotly==5.11.0\n",
        "!pip install -U kaleido\n",
        "\n",
        "\n",
        "import plotly.graph_objects as go\n",
        "import plotly.express as px\n",
        "import numpy as np\n",
        "import pandas as pd\n",
        "from sklearn.linear_model import LogisticRegression\n",
        "from sklearn.metrics import roc_curve, roc_auc_score\n",
        "import pandas as pd\n",
        "import matplotlib.pyplot as plt\n",
        "\n",
        "def ploty_ROC(model,X,y,fig_name):\n",
        "    \n",
        "    lebel_dict={\n",
        "    0: 'Reading',\n",
        "    1: 'Resting',\n",
        "    2: 'Walking',\n",
        "    3: 'Working'\n",
        "    }\n",
        "\n",
        "    y_scores = model.predict_proba(X)\n",
        "\n",
        "    y_onehot = pd.get_dummies(y, columns=model.classes_)\n",
        "\n",
        "    fig = go.Figure()\n",
        "    fig.add_shape(\n",
        "        type='line', line=dict(dash='dash'),\n",
        "        x0=0, x1=1, y0=0, y1=1\n",
        "    )\n",
        "\n",
        "    for i in range(y_scores.shape[1]):\n",
        "        y_true = y_onehot.iloc[:, i]\n",
        "        y_score = y_scores[:, i]\n",
        "\n",
        "        fpr, tpr, _ = roc_curve(y_true, y_score)\n",
        "        auc_score = roc_auc_score(y_true, y_score)\n",
        "        name = f\"{lebel_dict[y_onehot.columns[i]]} (AUC={auc_score:.2f})\"\n",
        "        fig.add_trace(go.Scatter(x=fpr, y=tpr, name=name, mode='lines'))\n",
        "\n",
        "    fig.update_layout(\n",
        "        xaxis_title='False Positive Rate',\n",
        "        yaxis_title='True Positive Rate',\n",
        "        yaxis=dict(scaleanchor=\"x\", scaleratio=1),\n",
        "        xaxis=dict(constrain='domain'),\n",
        "        width=1000, height=1000,\n",
        "        font=dict(\n",
        "            family=\"Courier New, monospace\",\n",
        "            size=20,\n",
        "            color=\"BLack\"\n",
        "        ),\n",
        "        legend=dict(\n",
        "            x=0.67,\n",
        "            y=0.05,\n",
        "            traceorder=\"reversed\",\n",
        "            title_font_family=\"Times New Roman\",\n",
        "            font=dict(\n",
        "                family=\"Courier New, monospace\",\n",
        "                size=20,\n",
        "                color=\"black\"\n",
        "            ),\n",
        "            bgcolor=\"LightSteelBlue\",\n",
        "            bordercolor=\"White\",\n",
        "            borderwidth=2\n",
        "        )\n",
        "    )\n",
        "    fig.show()\n",
        "    fig.write_image(fig_name+\".png\")"
      ]
    },
    {
      "cell_type": "code",
      "execution_count": null,
      "metadata": {
        "colab": {
          "base_uri": "https://localhost:8080/",
          "height": 529,
          "referenced_widgets": [
            "68ba90b5fbb3487aa9d66dd02d300690",
            "db1ff6c6247b417297771f2caaf720a4",
            "2614e9f0569747c4bd30d03974ba6f9f",
            "7a390ac8786b4aa092e59a90538d9b57",
            "ce8b9ae1e2c74a4aa36993e55800caaf",
            "083e18eca8a447f9b77e6c7158a7408a",
            "f1e8597624cf43dca2cb16981593500c",
            "317990949fa6476082f68a21dd1f3882",
            "64c37cb71c49453b9d5c82139fa9faa3",
            "8420e5c342174ad2bfd0a55a959818fb",
            "bd64b475c1284b23a0ec5ae23f70bb33",
            "dfa1b0e0eb424a69a02a8efb8fecc2f8",
            "d1ff51a301224c9e8ce32ea16b6e4735",
            "2d32615241ba4e989ab2c77d4d86641d",
            "3f928b6233274ac6b91b28d5176e6a03",
            "9e41bceead6140f39322f371d25d55aa",
            "ca8ba6c1f0524cb58b3dfc4a2a3852dc",
            "b58b190c818247cd903bff203bb2c80e",
            "a144de7f7b1b426d8eb4c06903ec5e37",
            "bb687f310a4d48a4b109d23374205a19",
            "f5ef53f587264fa89470783ae3fd1f78",
            "85df170468924478995f0f1350c48572",
            "8433a2dcb6d64363999d907c2c031fd7",
            "aa9d8810264d41ec9f4155ae690e5c21",
            "2d3da3acac0a4ff98f14510e6f802a24",
            "2c23c462d4004059a1bd68b8adc5db43",
            "a51d3a4771ee419c86465e8722371502",
            "0d19b0a545ce4f3eaa7dc1f369e82c20",
            "1a64756d777142078a7ef1471465aa99",
            "fd1073b5725940ad82ff4b74b5b4558c",
            "1906e30ec9c34a0f9c1d8ae59855b396",
            "14b226c887d0471bae13cacbf308a555",
            "4061413b9b974bfc91747c32fc076fa1",
            "2acfa8f1bc8d41368c206be8abc866f8",
            "3036128560854a1c8038b64ea4ac9058",
            "d176c3c0046b43ffb2b0692882d2adf2",
            "2b6f00f6f30b435b850e5c09d8382ddb",
            "90b2c8dd38c644ecb3b5376a6f9ce032",
            "b0cbb163937b4cd69e196db80c9dc0d6",
            "5031b21f2a4d49faa6b16f24355bac85",
            "29624463d0c546169741a8d9626a7966",
            "b8a43c8ed78f4614b678d747f78dbaa3",
            "438c10ee9c4347c1b52c004df8aa8d74",
            "fe529ddd1e7845fbaefd05cdaf68e2f9",
            "76b7d1bcebcc4346af65c899d84cfbab",
            "1f33909eefe7480aa04e5d70f3c22589",
            "d7f717879ef847d29180578673a61801",
            "e1329b561c9d40dc8641e0577afa7be8",
            "65c7d848023147b6ac356a1438c6e7f9",
            "9e5c5567df314f33a055d06cdacf4017",
            "728952fa865a4601a7b88586c653fd1b"
          ]
        },
        "id": "wa81Tk8naet6",
        "outputId": "f2f25c69-8aa8-438b-be39-e59dd104e982"
      },
      "outputs": [
        {
          "output_type": "display_data",
          "data": {
            "text/plain": [
              "Checkbox(value=False, description='AdaBoostClassifier(random_state=0)', indent=False)"
            ],
            "application/vnd.jupyter.widget-view+json": {
              "version_major": 2,
              "version_minor": 0,
              "model_id": "68ba90b5fbb3487aa9d66dd02d300690"
            }
          },
          "metadata": {}
        },
        {
          "output_type": "display_data",
          "data": {
            "text/plain": [
              "Checkbox(value=False, description='AdaBoostClassifier(n_estimators=39, random_state=0)', indent=False)"
            ],
            "application/vnd.jupyter.widget-view+json": {
              "version_major": 2,
              "version_minor": 0,
              "model_id": "7a390ac8786b4aa092e59a90538d9b57"
            }
          },
          "metadata": {}
        },
        {
          "output_type": "display_data",
          "data": {
            "text/plain": [
              "Checkbox(value=False, description='GradientBoostingClassifier(random_state=0)', indent=False)"
            ],
            "application/vnd.jupyter.widget-view+json": {
              "version_major": 2,
              "version_minor": 0,
              "model_id": "f1e8597624cf43dca2cb16981593500c"
            }
          },
          "metadata": {}
        },
        {
          "output_type": "display_data",
          "data": {
            "text/plain": [
              "Checkbox(value=False, description='GradientBoostingClassifier(n_estimators=41, random_state=0)', indent=False)"
            ],
            "application/vnd.jupyter.widget-view+json": {
              "version_major": 2,
              "version_minor": 0,
              "model_id": "8420e5c342174ad2bfd0a55a959818fb"
            }
          },
          "metadata": {}
        },
        {
          "output_type": "display_data",
          "data": {
            "text/plain": [
              "Checkbox(value=False, description='GradientBoostingClassifier(max_depth=11, random_state=0)', indent=False)"
            ],
            "application/vnd.jupyter.widget-view+json": {
              "version_major": 2,
              "version_minor": 0,
              "model_id": "d1ff51a301224c9e8ce32ea16b6e4735"
            }
          },
          "metadata": {}
        },
        {
          "output_type": "display_data",
          "data": {
            "text/plain": [
              "Checkbox(value=False, description='GradientBoostingClassifier(max_depth=11, n_estimators=41, random_state=0)',…"
            ],
            "application/vnd.jupyter.widget-view+json": {
              "version_major": 2,
              "version_minor": 0,
              "model_id": "9e41bceead6140f39322f371d25d55aa"
            }
          },
          "metadata": {}
        },
        {
          "output_type": "display_data",
          "data": {
            "text/plain": [
              "Checkbox(value=False, description='RandomForestClassifier(random_state=0)', indent=False)"
            ],
            "application/vnd.jupyter.widget-view+json": {
              "version_major": 2,
              "version_minor": 0,
              "model_id": "a144de7f7b1b426d8eb4c06903ec5e37"
            }
          },
          "metadata": {}
        },
        {
          "output_type": "display_data",
          "data": {
            "text/plain": [
              "Checkbox(value=False, description='RandomForestClassifier(n_estimators=124, random_state=0)', indent=False)"
            ],
            "application/vnd.jupyter.widget-view+json": {
              "version_major": 2,
              "version_minor": 0,
              "model_id": "85df170468924478995f0f1350c48572"
            }
          },
          "metadata": {}
        },
        {
          "output_type": "display_data",
          "data": {
            "text/plain": [
              "Checkbox(value=False, description='RandomForestClassifier(max_depth=18, random_state=0)', indent=False)"
            ],
            "application/vnd.jupyter.widget-view+json": {
              "version_major": 2,
              "version_minor": 0,
              "model_id": "2d3da3acac0a4ff98f14510e6f802a24"
            }
          },
          "metadata": {}
        },
        {
          "output_type": "display_data",
          "data": {
            "text/plain": [
              "Checkbox(value=False, description='RandomForestClassifier(max_depth=18, n_estimators=124, random_state=0)', in…"
            ],
            "application/vnd.jupyter.widget-view+json": {
              "version_major": 2,
              "version_minor": 0,
              "model_id": "0d19b0a545ce4f3eaa7dc1f369e82c20"
            }
          },
          "metadata": {}
        },
        {
          "output_type": "display_data",
          "data": {
            "text/plain": [
              "Checkbox(value=False, description=\"XGBClassifier(objective='multi:softprob')\", indent=False)"
            ],
            "application/vnd.jupyter.widget-view+json": {
              "version_major": 2,
              "version_minor": 0,
              "model_id": "1906e30ec9c34a0f9c1d8ae59855b396"
            }
          },
          "metadata": {}
        },
        {
          "output_type": "display_data",
          "data": {
            "text/plain": [
              "Checkbox(value=False, description=\"XGBClassifier(max_depth=15, objective='multi:softprob')\", indent=False)"
            ],
            "application/vnd.jupyter.widget-view+json": {
              "version_major": 2,
              "version_minor": 0,
              "model_id": "2acfa8f1bc8d41368c206be8abc866f8"
            }
          },
          "metadata": {}
        },
        {
          "output_type": "display_data",
          "data": {
            "text/plain": [
              "Checkbox(value=False, description=\"XGBClassifier(n_estimators=233, objective='multi:softprob')\", indent=False)"
            ],
            "application/vnd.jupyter.widget-view+json": {
              "version_major": 2,
              "version_minor": 0,
              "model_id": "2b6f00f6f30b435b850e5c09d8382ddb"
            }
          },
          "metadata": {}
        },
        {
          "output_type": "display_data",
          "data": {
            "text/plain": [
              "Checkbox(value=False, description=\"XGBClassifier(max_depth=15, n_estimators=233, objective='multi:softprob')\",…"
            ],
            "application/vnd.jupyter.widget-view+json": {
              "version_major": 2,
              "version_minor": 0,
              "model_id": "5031b21f2a4d49faa6b16f24355bac85"
            }
          },
          "metadata": {}
        },
        {
          "output_type": "display_data",
          "data": {
            "text/plain": [
              "Checkbox(value=False, description='KNeighborsClassifier()', indent=False)"
            ],
            "application/vnd.jupyter.widget-view+json": {
              "version_major": 2,
              "version_minor": 0,
              "model_id": "438c10ee9c4347c1b52c004df8aa8d74"
            }
          },
          "metadata": {}
        },
        {
          "output_type": "display_data",
          "data": {
            "text/plain": [
              "Checkbox(value=False, description='KNeighborsClassifier(n_neighbors=1)', indent=False)"
            ],
            "application/vnd.jupyter.widget-view+json": {
              "version_major": 2,
              "version_minor": 0,
              "model_id": "1f33909eefe7480aa04e5d70f3c22589"
            }
          },
          "metadata": {}
        },
        {
          "output_type": "display_data",
          "data": {
            "text/plain": [
              "Checkbox(value=False, description='GaussianNB()', indent=False)"
            ],
            "application/vnd.jupyter.widget-view+json": {
              "version_major": 2,
              "version_minor": 0,
              "model_id": "65c7d848023147b6ac356a1438c6e7f9"
            }
          },
          "metadata": {}
        }
      ],
      "source": [
        "new_keys_9=models_check_box(models)"
      ]
    },
    {
      "cell_type": "code",
      "execution_count": null,
      "metadata": {
        "colab": {
          "base_uri": "https://localhost:8080/",
          "height": 1000
        },
        "id": "aBCyRaVyZ-rG",
        "outputId": "4b090a38-1778-41b8-fbfa-87fe046af1dc"
      },
      "outputs": [
        {
          "output_type": "stream",
          "name": "stdout",
          "text": [
            "XGBClassifier(max_depth=15, objective='multi:softprob')\n"
          ]
        },
        {
          "output_type": "display_data",
          "data": {
            "text/html": [
              "<html>\n",
              "<head><meta charset=\"utf-8\" /></head>\n",
              "<body>\n",
              "    <div>            <script src=\"https://cdnjs.cloudflare.com/ajax/libs/mathjax/2.7.5/MathJax.js?config=TeX-AMS-MML_SVG\"></script><script type=\"text/javascript\">if (window.MathJax && window.MathJax.Hub && window.MathJax.Hub.Config) {window.MathJax.Hub.Config({SVG: {font: \"STIX-Web\"}});}</script>                <script type=\"text/javascript\">window.PlotlyConfig = {MathJaxConfig: 'local'};</script>\n",
              "        <script src=\"https://cdn.plot.ly/plotly-2.16.1.min.js\"></script>                <div id=\"a507f735-6100-40fb-9b7c-15018d97b798\" class=\"plotly-graph-div\" style=\"height:1000px; width:1000px;\"></div>            <script type=\"text/javascript\">                                    window.PLOTLYENV=window.PLOTLYENV || {};                                    if (document.getElementById(\"a507f735-6100-40fb-9b7c-15018d97b798\")) {                    Plotly.newPlot(                        \"a507f735-6100-40fb-9b7c-15018d97b798\",                        [{\"mode\":\"lines\",\"name\":\"Reading (AUC=1.00)\",\"x\":[0.0,0.0,0.0,0.0004203446826397646,0.0004203446826397646,0.0004203446826397646,0.0004203446826397646,0.0008406893652795292,0.0008406893652795292,0.0012610340479192938,0.0012610340479192938,0.0016813787305590584,0.0016813787305590584,0.002101723413198823,0.002101723413198823,0.0025220680958385876,0.0025220680958385876,0.0029424127784783522,0.0029424127784783522,0.003362757461118117,0.003362757461118117,0.0037831021437578815,0.0037831021437578815,0.004203446826397646,0.004203446826397646,0.005044136191677175,0.005044136191677175,0.00546448087431694,0.00546448087431694,0.0058848255569567045,0.0058848255569567045,0.006725514922236234,0.006725514922236234,0.007566204287515763,0.007566204287515763,0.007986548970155528,0.007986548970155528,0.008406893652795292,0.008406893652795292,0.008827238335435058,0.008827238335435058,0.010508617065994116,0.010508617065994116,0.01092896174863388,0.01092896174863388,0.011769651113913409,0.011769651113913409,0.012189995796553174,0.012189995796553174,0.013030685161832704,0.013030685161832704,0.014712063892391762,0.014712063892391762,0.015132408575031526,0.015132408575031526,0.015552753257671291,0.015552753257671291,0.01639344262295082,0.01639344262295082,0.017234131988230348,0.017234131988230348,0.018915510718789406,0.018915510718789406,0.0201765447667087,0.0201765447667087,0.02185792349726776,0.02185792349726776,0.022278268179907523,0.022278268179907523,0.026061370323665407,0.026061370323665407,0.0273224043715847,0.0273224043715847,0.027742749054224466,0.027742749054224466,0.02816309373686423,0.02816309373686423,0.029424127784783524,0.029424127784783524,0.032366540563261874,0.032366540563261874,0.0332072299285414,0.0332072299285414,0.034468263976460696,0.034468263976460696,0.04119377889869693,0.04119377889869693,0.0416141235813367,0.0416141235813367,0.04665825977301387,0.04665825977301387,0.0474989491382934,0.0474989491382934,0.050021017234131986,0.050021017234131986,0.05170239596469105,0.05170239596469105,0.05380411937788987,0.05380411937788987,0.06137032366540563,0.06137032366540563,0.06347204707860446,0.06347204707860446,0.06683480453972257,0.06683480453972257,0.06935687263556116,0.06935687263556116,0.1067675493905002,0.1067675493905002,0.11265237494745692,0.11265237494745692,0.12189995796553174,0.12189995796553174,0.14207650273224043,0.14207650273224043,0.1437578814627995,0.14459857082807903,0.1626733921815889,0.1626733921815889,0.2005044136191677,0.20134510298444724,0.25598991172761665,0.25598991172761665,0.2673392181588903,0.2681799075241698,0.30180748213535097,0.30180748213535097,0.3501471206389239,0.3501471206389239,0.4619588062211013,0.46279949558638084,0.5199663724253888,0.5208070617906684,0.5657839428331232,0.5666246321984026,0.8280790248003362,0.8289197141656158,0.8528793610760824,0.8537200504413619,0.9045817570407735,0.905422446406053,0.9096258932324506,0.9104665825977302,0.9150903741067675,0.9159310634720471,1.0],\"y\":[0.0,0.0012610340479192938,0.0403530895334174,0.0403530895334174,0.17654476670870115,0.17906683480453972,0.4854981084489281,0.4854981084489281,0.6847414880201765,0.6847414880201765,0.7313997477931904,0.7313997477931904,0.7931904161412359,0.7931904161412359,0.862547288776797,0.862547288776797,0.8839848675914249,0.8839848675914249,0.9029003783102144,0.9029003783102144,0.9129886506935687,0.9129886506935687,0.914249684741488,0.914249684741488,0.9167717528373266,0.9167717528373266,0.9230769230769231,0.9230769230769231,0.9255989911727617,0.9255989911727617,0.9281210592686002,0.9281210592686002,0.9293820933165196,0.9293820933165196,0.9306431273644389,0.9306431273644389,0.9319041614123581,0.9319041614123581,0.9382093316519546,0.9382093316519546,0.9394703656998739,0.9394703656998739,0.9419924337957125,0.9419924337957125,0.9432534678436317,0.9432534678436317,0.9457755359394704,0.9457755359394704,0.9470365699873896,0.9470365699873896,0.9482976040353089,0.9482976040353089,0.9495586380832283,0.9495586380832283,0.9508196721311475,0.9508196721311475,0.9533417402269861,0.9533417402269861,0.9558638083228247,0.9558638083228247,0.957124842370744,0.957124842370744,0.9583858764186634,0.9583858764186634,0.9596469104665826,0.9596469104665826,0.9609079445145019,0.9609079445145019,0.9621689785624212,0.9621689785624212,0.9634300126103404,0.9634300126103404,0.9646910466582598,0.9646910466582598,0.9659520807061791,0.9659520807061791,0.9672131147540983,0.9672131147540983,0.9684741488020177,0.9684741488020177,0.9709962168978562,0.9709962168978562,0.9722572509457755,0.9722572509457755,0.9735182849936949,0.9735182849936949,0.9747793190416141,0.9747793190416141,0.9760403530895334,0.9760403530895334,0.978562421185372,0.978562421185372,0.9798234552332913,0.9798234552332913,0.9810844892812106,0.9810844892812106,0.9823455233291298,0.9823455233291298,0.9836065573770492,0.9836065573770492,0.9861286254728878,0.9861286254728878,0.987389659520807,0.987389659520807,0.9886506935687264,0.9886506935687264,0.9899117276166457,0.9899117276166457,0.9911727616645649,0.9911727616645649,0.9924337957124842,0.9924337957124842,0.9936948297604036,0.9936948297604036,0.9949558638083228,0.9949558638083228,0.9949558638083228,0.9949558638083228,0.9962168978562421,0.9962168978562421,0.9962168978562421,0.9962168978562421,0.9974779319041615,0.9974779319041615,0.9974779319041615,0.9974779319041615,0.9987389659520807,0.9987389659520807,1.0,1.0,1.0,1.0,1.0,1.0,1.0,1.0,1.0,1.0,1.0,1.0,1.0,1.0,1.0,1.0,1.0,1.0],\"type\":\"scatter\"},{\"mode\":\"lines\",\"name\":\"Resting (AUC=1.00)\",\"x\":[0.0,0.0,0.0,0.0,0.0,0.0,0.0,0.0,0.0,0.0,0.0,0.0,0.0,0.0,0.0,0.0,0.0004203446826397646,0.0004203446826397646,0.0008406893652795292,0.0008406893652795292,0.0012610340479192938,0.0012610340479192938,0.0016813787305590584,0.0016813787305590584,0.0025220680958385876,0.0025220680958385876,0.0029424127784783522,0.0029424127784783522,0.003362757461118117,0.003362757461118117,0.0037831021437578815,0.0037831021437578815,0.004203446826397646,0.004203446826397646,0.004623791509037411,0.004623791509037411,0.00546448087431694,0.00546448087431694,0.0058848255569567045,0.0058848255569567045,0.006725514922236234,0.006725514922236234,0.007145859604875998,0.007145859604875998,0.007566204287515763,0.007566204287515763,0.008406893652795292,0.008406893652795292,0.009667927700714587,0.009667927700714587,0.01092896174863388,0.01092896174863388,0.012189995796553174,0.012189995796553174,0.012610340479192938,0.012610340479192938,0.013030685161832704,0.013030685161832704,0.015552753257671291,0.015552753257671291,0.015973097940311057,0.015973097940311057,0.019335855401429174,0.019335855401429174,0.019756200084068937,0.019756200084068937,0.02437999159310635,0.02437999159310635,0.025220680958385876,0.025220680958385876,0.026061370323665407,0.026061370323665407,0.0273224043715847,0.0273224043715847,0.027742749054224466,0.027742749054224466,0.02816309373686423,0.02816309373686423,0.028583438419503993,0.028583438419503993,0.030685161832702815,0.030685161832702815,0.031525851197982346,0.031525851197982346,0.036990332072299285,0.036990332072299285,0.05590584279108869,0.05590584279108869,0.13324926439680537,0.13324926439680537,0.2492643968053804,0.2492643968053804,0.31778058007566207,0.31862126944094155,0.907103825136612,0.9079445145018915,0.9663724253888188,0.9672131147540983,1.0],\"y\":[0.0,0.0012610340479192938,0.0037831021437578815,0.01008827238335435,0.015132408575031526,0.09079445145018916,0.09331651954602774,0.39344262295081966,0.39596469104665827,0.403530895334174,0.4060529634300126,0.4943253467843632,0.4968474148802018,0.6872635561160151,0.6897856242118537,0.7717528373266078,0.7717528373266078,0.8310214375788146,0.8310214375788146,0.8486759142496847,0.8486759142496847,0.8991172761664565,0.8991172761664565,0.9104665825977302,0.9104665825977302,0.9218158890290038,0.9218158890290038,0.9255989911727617,0.9255989911727617,0.926860025220681,0.926860025220681,0.9331651954602774,0.9331651954602774,0.935687263556116,0.935687263556116,0.9419924337957125,0.9419924337957125,0.9432534678436317,0.9432534678436317,0.9482976040353089,0.9482976040353089,0.9520807061790668,0.9520807061790668,0.9609079445145019,0.9609079445145019,0.9621689785624212,0.9621689785624212,0.9659520807061791,0.9659520807061791,0.9672131147540983,0.9672131147540983,0.9684741488020177,0.9684741488020177,0.9709962168978562,0.9709962168978562,0.9747793190416141,0.9747793190416141,0.9773013871374527,0.9773013871374527,0.978562421185372,0.978562421185372,0.9798234552332913,0.9798234552332913,0.9810844892812106,0.9810844892812106,0.9823455233291298,0.9823455233291298,0.9836065573770492,0.9836065573770492,0.9861286254728878,0.9861286254728878,0.987389659520807,0.987389659520807,0.9886506935687264,0.9886506935687264,0.9899117276166457,0.9899117276166457,0.9911727616645649,0.9911727616645649,0.9924337957124842,0.9924337957124842,0.9936948297604036,0.9936948297604036,0.9949558638083228,0.9949558638083228,0.9962168978562421,0.9962168978562421,0.9974779319041615,0.9974779319041615,0.9987389659520807,0.9987389659520807,1.0,1.0,1.0,1.0,1.0,1.0,1.0,1.0],\"type\":\"scatter\"},{\"mode\":\"lines\",\"name\":\"Walking (AUC=0.99)\",\"x\":[0.0,0.0,0.0,0.0,0.0,0.0,0.0,0.0,0.0,0.0,0.0,0.0,0.0,0.0004203446826397646,0.0004203446826397646,0.0004203446826397646,0.0004203446826397646,0.0008406893652795292,0.0008406893652795292,0.0012610340479192938,0.0012610340479192938,0.0016813787305590584,0.0016813787305590584,0.002101723413198823,0.002101723413198823,0.0025220680958385876,0.0025220680958385876,0.0029424127784783522,0.0029424127784783522,0.003362757461118117,0.003362757461118117,0.0037831021437578815,0.0037831021437578815,0.004203446826397646,0.004203446826397646,0.0058848255569567045,0.0058848255569567045,0.006725514922236234,0.006725514922236234,0.007566204287515763,0.007566204287515763,0.007986548970155528,0.007986548970155528,0.008827238335435058,0.008827238335435058,0.009247583018074821,0.009247583018074821,0.010508617065994116,0.010508617065994116,0.011769651113913409,0.011769651113913409,0.012189995796553174,0.012189995796553174,0.013451029844472467,0.013451029844472467,0.015132408575031526,0.015132408575031526,0.015973097940311057,0.015973097940311057,0.019756200084068937,0.019756200084068937,0.0201765447667087,0.0201765447667087,0.02185792349726776,0.02185792349726776,0.022278268179907523,0.022278268179907523,0.026061370323665407,0.026061370323665407,0.027742749054224466,0.027742749054224466,0.028583438419503993,0.028583438419503993,0.03026481715006305,0.03026481715006305,0.030685161832702815,0.030685161832702815,0.031525851197982346,0.031525851197982346,0.03278688524590164,0.03278688524590164,0.0332072299285414,0.0332072299285414,0.03741067675493905,0.03741067675493905,0.039512400168137875,0.039512400168137875,0.039932744850777635,0.039932744850777635,0.052543085329970575,0.052543085329970575,0.0533837746952501,0.0533837746952501,0.05674653215636822,0.05674653215636822,0.058007566204287514,0.058007566204287514,0.0617906683480454,0.0617906683480454,0.062211013030685165,0.062211013030685165,0.07524169819251786,0.07524169819251786,0.09079445145018916,0.09079445145018916,0.11013030685161833,0.11013030685161833,0.11937788986969315,0.11937788986969315,0.12442202606137033,0.12442202606137033,0.15090374106767548,0.15090374106767548,0.15762925598991173,0.15762925598991173,0.1757040773434216,0.1757040773434216,0.35182849936948296,0.35182849936948296,0.4190836485918453,0.4190836485918453,0.4312736443883985,0.4312736443883985,0.4712063892391761,0.47204707860445566,0.6536359815048339,0.6544766708701135,0.6960907944514502,0.6969314838167298,0.7087011349306431,0.7095418242959226,0.8036990332072299,0.8045397225725095,0.8087431693989071,0.8095838587641866,0.8234552332912989,0.8242959226565784,0.8474148802017655,0.848255569567045,0.9079445145018915,0.9079445145018915,0.9466162253047499,0.9466162253047499,1.0],\"y\":[0.0,0.0012610340479192938,0.03278688524590164,0.03530895334174023,0.05044136191677175,0.05296343001261034,0.1021437578814628,0.10466582597730138,0.31021437578814626,0.31273644388398486,0.31651954602774274,0.31904161412358134,0.5712484237074401,0.5712484237074401,0.7175283732660782,0.7200504413619168,0.8486759142496847,0.8486759142496847,0.8688524590163934,0.8688524590163934,0.8713745271122321,0.8713745271122321,0.8852459016393442,0.8852459016393442,0.8902900378310215,0.8902900378310215,0.8991172761664565,0.8991172761664565,0.9029003783102144,0.9029003783102144,0.9104665825977302,0.9104665825977302,0.9117276166456494,0.9117276166456494,0.9129886506935687,0.9129886506935687,0.9167717528373266,0.9167717528373266,0.9180327868852459,0.9180327868852459,0.9281210592686002,0.9281210592686002,0.9293820933165196,0.9293820933165196,0.9331651954602774,0.9331651954602774,0.9344262295081968,0.9344262295081968,0.935687263556116,0.935687263556116,0.9369482976040353,0.9369482976040353,0.9407313997477932,0.9407313997477932,0.9419924337957125,0.9419924337957125,0.9432534678436317,0.9432534678436317,0.9445145018915511,0.9445145018915511,0.9470365699873896,0.9470365699873896,0.9495586380832283,0.9495586380832283,0.9546027742749055,0.9546027742749055,0.957124842370744,0.957124842370744,0.9583858764186634,0.9583858764186634,0.9596469104665826,0.9596469104665826,0.9609079445145019,0.9609079445145019,0.9621689785624212,0.9621689785624212,0.9634300126103404,0.9634300126103404,0.9646910466582598,0.9646910466582598,0.9659520807061791,0.9659520807061791,0.9684741488020177,0.9684741488020177,0.969735182849937,0.969735182849937,0.9747793190416141,0.9747793190416141,0.9760403530895334,0.9760403530895334,0.9773013871374527,0.9773013871374527,0.978562421185372,0.978562421185372,0.9798234552332913,0.9798234552332913,0.9810844892812106,0.9810844892812106,0.9823455233291298,0.9823455233291298,0.9836065573770492,0.9836065573770492,0.9848675914249685,0.9848675914249685,0.9861286254728878,0.9861286254728878,0.987389659520807,0.987389659520807,0.9886506935687264,0.9886506935687264,0.9899117276166457,0.9899117276166457,0.9911727616645649,0.9911727616645649,0.9924337957124842,0.9924337957124842,0.9936948297604036,0.9936948297604036,0.9949558638083228,0.9949558638083228,0.9962168978562421,0.9962168978562421,0.9974779319041615,0.9974779319041615,0.9974779319041615,0.9974779319041615,0.9974779319041615,0.9974779319041615,0.9974779319041615,0.9974779319041615,0.9974779319041615,0.9974779319041615,0.9974779319041615,0.9974779319041615,0.9974779319041615,0.9974779319041615,0.9974779319041615,0.9974779319041615,0.9974779319041615,0.9974779319041615,0.9987389659520807,0.9987389659520807,1.0,1.0],\"type\":\"scatter\"},{\"mode\":\"lines\",\"name\":\"Working (AUC=1.00)\",\"x\":[0.0,0.0,0.0,0.0004203446826397646,0.0004203446826397646,0.0004203446826397646,0.0004203446826397646,0.0004203446826397646,0.0004203446826397646,0.0004203446826397646,0.0004203446826397646,0.0008406893652795292,0.0008406893652795292,0.0012610340479192938,0.0012610340479192938,0.0016813787305590584,0.0016813787305590584,0.002101723413198823,0.002101723413198823,0.0025220680958385876,0.0025220680958385876,0.0029424127784783522,0.0029424127784783522,0.003362757461118117,0.003362757461118117,0.0037831021437578815,0.0037831021437578815,0.004203446826397646,0.004203446826397646,0.005044136191677175,0.005044136191677175,0.006305170239596469,0.006305170239596469,0.006725514922236234,0.006725514922236234,0.007145859604875998,0.007145859604875998,0.007566204287515763,0.007566204287515763,0.008827238335435058,0.008827238335435058,0.009667927700714587,0.009667927700714587,0.012610340479192938,0.012610340479192938,0.014712063892391762,0.014712063892391762,0.015973097940311057,0.015973097940311057,0.016813787305590584,0.016813787305590584,0.017234131988230348,0.017234131988230348,0.022278268179907523,0.022278268179907523,0.02269861286254729,0.02269861286254729,0.02648171500630517,0.02648171500630517,0.026902059688944935,0.026902059688944935,0.028583438419503993,0.028583438419503993,0.039512400168137875,0.039512400168137875,0.04287515762925599,0.04287515762925599,0.1008827238335435,0.1008827238335435,0.13955443463640185,0.13955443463640185,0.2837326607818411,0.28457335014712065,0.39386296763345946,0.39470365699873894,0.47162673392181587,0.4724674232870954,0.5670449768810425,0.567885666246322,0.5910046237915091,0.5918453131567886,0.6452290878520387,0.6460697772173182,0.6485918453131568,0.6494325346784363,0.8524590163934426,0.8532997057587222,0.8558217738545607,0.8566624632198403,0.9146700294241278,0.9155107187894073,0.9205548549810845,0.9213955443463641,1.0],\"y\":[0.0,0.0012610340479192938,0.04791929382093316,0.04791929382093316,0.07440100882723834,0.07692307692307693,0.13619167717528374,0.13871374527112232,0.37957124842370743,0.38209331651954603,0.43757881462799497,0.43757881462799497,0.6002522068095839,0.6002522068095839,0.6506935687263556,0.6506935687263556,0.7225725094577553,0.7225725094577553,0.7793190416141236,0.7793190416141236,0.9092055485498108,0.9092055485498108,0.9457755359394704,0.9457755359394704,0.957124842370744,0.957124842370744,0.9583858764186634,0.9583858764186634,0.9634300126103404,0.9634300126103404,0.9646910466582598,0.9646910466582598,0.9672131147540983,0.9672131147540983,0.9709962168978562,0.9709962168978562,0.9773013871374527,0.9773013871374527,0.978562421185372,0.978562421185372,0.9798234552332913,0.9798234552332913,0.9810844892812106,0.9810844892812106,0.9823455233291298,0.9823455233291298,0.9836065573770492,0.9836065573770492,0.9861286254728878,0.9861286254728878,0.987389659520807,0.987389659520807,0.9886506935687264,0.9886506935687264,0.9899117276166457,0.9899117276166457,0.9911727616645649,0.9911727616645649,0.9924337957124842,0.9924337957124842,0.9936948297604036,0.9936948297604036,0.9949558638083228,0.9949558638083228,0.9962168978562421,0.9962168978562421,0.9974779319041615,0.9974779319041615,0.9987389659520807,0.9987389659520807,1.0,1.0,1.0,1.0,1.0,1.0,1.0,1.0,1.0,1.0,1.0,1.0,1.0,1.0,1.0,1.0,1.0,1.0,1.0,1.0,1.0,1.0,1.0,1.0],\"type\":\"scatter\"}],                        {\"template\":{\"data\":{\"histogram2dcontour\":[{\"type\":\"histogram2dcontour\",\"colorbar\":{\"outlinewidth\":0,\"ticks\":\"\"},\"colorscale\":[[0.0,\"#0d0887\"],[0.1111111111111111,\"#46039f\"],[0.2222222222222222,\"#7201a8\"],[0.3333333333333333,\"#9c179e\"],[0.4444444444444444,\"#bd3786\"],[0.5555555555555556,\"#d8576b\"],[0.6666666666666666,\"#ed7953\"],[0.7777777777777778,\"#fb9f3a\"],[0.8888888888888888,\"#fdca26\"],[1.0,\"#f0f921\"]]}],\"choropleth\":[{\"type\":\"choropleth\",\"colorbar\":{\"outlinewidth\":0,\"ticks\":\"\"}}],\"histogram2d\":[{\"type\":\"histogram2d\",\"colorbar\":{\"outlinewidth\":0,\"ticks\":\"\"},\"colorscale\":[[0.0,\"#0d0887\"],[0.1111111111111111,\"#46039f\"],[0.2222222222222222,\"#7201a8\"],[0.3333333333333333,\"#9c179e\"],[0.4444444444444444,\"#bd3786\"],[0.5555555555555556,\"#d8576b\"],[0.6666666666666666,\"#ed7953\"],[0.7777777777777778,\"#fb9f3a\"],[0.8888888888888888,\"#fdca26\"],[1.0,\"#f0f921\"]]}],\"heatmap\":[{\"type\":\"heatmap\",\"colorbar\":{\"outlinewidth\":0,\"ticks\":\"\"},\"colorscale\":[[0.0,\"#0d0887\"],[0.1111111111111111,\"#46039f\"],[0.2222222222222222,\"#7201a8\"],[0.3333333333333333,\"#9c179e\"],[0.4444444444444444,\"#bd3786\"],[0.5555555555555556,\"#d8576b\"],[0.6666666666666666,\"#ed7953\"],[0.7777777777777778,\"#fb9f3a\"],[0.8888888888888888,\"#fdca26\"],[1.0,\"#f0f921\"]]}],\"heatmapgl\":[{\"type\":\"heatmapgl\",\"colorbar\":{\"outlinewidth\":0,\"ticks\":\"\"},\"colorscale\":[[0.0,\"#0d0887\"],[0.1111111111111111,\"#46039f\"],[0.2222222222222222,\"#7201a8\"],[0.3333333333333333,\"#9c179e\"],[0.4444444444444444,\"#bd3786\"],[0.5555555555555556,\"#d8576b\"],[0.6666666666666666,\"#ed7953\"],[0.7777777777777778,\"#fb9f3a\"],[0.8888888888888888,\"#fdca26\"],[1.0,\"#f0f921\"]]}],\"contourcarpet\":[{\"type\":\"contourcarpet\",\"colorbar\":{\"outlinewidth\":0,\"ticks\":\"\"}}],\"contour\":[{\"type\":\"contour\",\"colorbar\":{\"outlinewidth\":0,\"ticks\":\"\"},\"colorscale\":[[0.0,\"#0d0887\"],[0.1111111111111111,\"#46039f\"],[0.2222222222222222,\"#7201a8\"],[0.3333333333333333,\"#9c179e\"],[0.4444444444444444,\"#bd3786\"],[0.5555555555555556,\"#d8576b\"],[0.6666666666666666,\"#ed7953\"],[0.7777777777777778,\"#fb9f3a\"],[0.8888888888888888,\"#fdca26\"],[1.0,\"#f0f921\"]]}],\"surface\":[{\"type\":\"surface\",\"colorbar\":{\"outlinewidth\":0,\"ticks\":\"\"},\"colorscale\":[[0.0,\"#0d0887\"],[0.1111111111111111,\"#46039f\"],[0.2222222222222222,\"#7201a8\"],[0.3333333333333333,\"#9c179e\"],[0.4444444444444444,\"#bd3786\"],[0.5555555555555556,\"#d8576b\"],[0.6666666666666666,\"#ed7953\"],[0.7777777777777778,\"#fb9f3a\"],[0.8888888888888888,\"#fdca26\"],[1.0,\"#f0f921\"]]}],\"mesh3d\":[{\"type\":\"mesh3d\",\"colorbar\":{\"outlinewidth\":0,\"ticks\":\"\"}}],\"scatter\":[{\"fillpattern\":{\"fillmode\":\"overlay\",\"size\":10,\"solidity\":0.2},\"type\":\"scatter\"}],\"parcoords\":[{\"type\":\"parcoords\",\"line\":{\"colorbar\":{\"outlinewidth\":0,\"ticks\":\"\"}}}],\"scatterpolargl\":[{\"type\":\"scatterpolargl\",\"marker\":{\"colorbar\":{\"outlinewidth\":0,\"ticks\":\"\"}}}],\"bar\":[{\"error_x\":{\"color\":\"#2a3f5f\"},\"error_y\":{\"color\":\"#2a3f5f\"},\"marker\":{\"line\":{\"color\":\"#E5ECF6\",\"width\":0.5},\"pattern\":{\"fillmode\":\"overlay\",\"size\":10,\"solidity\":0.2}},\"type\":\"bar\"}],\"scattergeo\":[{\"type\":\"scattergeo\",\"marker\":{\"colorbar\":{\"outlinewidth\":0,\"ticks\":\"\"}}}],\"scatterpolar\":[{\"type\":\"scatterpolar\",\"marker\":{\"colorbar\":{\"outlinewidth\":0,\"ticks\":\"\"}}}],\"histogram\":[{\"marker\":{\"pattern\":{\"fillmode\":\"overlay\",\"size\":10,\"solidity\":0.2}},\"type\":\"histogram\"}],\"scattergl\":[{\"type\":\"scattergl\",\"marker\":{\"colorbar\":{\"outlinewidth\":0,\"ticks\":\"\"}}}],\"scatter3d\":[{\"type\":\"scatter3d\",\"line\":{\"colorbar\":{\"outlinewidth\":0,\"ticks\":\"\"}},\"marker\":{\"colorbar\":{\"outlinewidth\":0,\"ticks\":\"\"}}}],\"scattermapbox\":[{\"type\":\"scattermapbox\",\"marker\":{\"colorbar\":{\"outlinewidth\":0,\"ticks\":\"\"}}}],\"scatterternary\":[{\"type\":\"scatterternary\",\"marker\":{\"colorbar\":{\"outlinewidth\":0,\"ticks\":\"\"}}}],\"scattercarpet\":[{\"type\":\"scattercarpet\",\"marker\":{\"colorbar\":{\"outlinewidth\":0,\"ticks\":\"\"}}}],\"carpet\":[{\"aaxis\":{\"endlinecolor\":\"#2a3f5f\",\"gridcolor\":\"white\",\"linecolor\":\"white\",\"minorgridcolor\":\"white\",\"startlinecolor\":\"#2a3f5f\"},\"baxis\":{\"endlinecolor\":\"#2a3f5f\",\"gridcolor\":\"white\",\"linecolor\":\"white\",\"minorgridcolor\":\"white\",\"startlinecolor\":\"#2a3f5f\"},\"type\":\"carpet\"}],\"table\":[{\"cells\":{\"fill\":{\"color\":\"#EBF0F8\"},\"line\":{\"color\":\"white\"}},\"header\":{\"fill\":{\"color\":\"#C8D4E3\"},\"line\":{\"color\":\"white\"}},\"type\":\"table\"}],\"barpolar\":[{\"marker\":{\"line\":{\"color\":\"#E5ECF6\",\"width\":0.5},\"pattern\":{\"fillmode\":\"overlay\",\"size\":10,\"solidity\":0.2}},\"type\":\"barpolar\"}],\"pie\":[{\"automargin\":true,\"type\":\"pie\"}]},\"layout\":{\"autotypenumbers\":\"strict\",\"colorway\":[\"#636efa\",\"#EF553B\",\"#00cc96\",\"#ab63fa\",\"#FFA15A\",\"#19d3f3\",\"#FF6692\",\"#B6E880\",\"#FF97FF\",\"#FECB52\"],\"font\":{\"color\":\"#2a3f5f\"},\"hovermode\":\"closest\",\"hoverlabel\":{\"align\":\"left\"},\"paper_bgcolor\":\"white\",\"plot_bgcolor\":\"#E5ECF6\",\"polar\":{\"bgcolor\":\"#E5ECF6\",\"angularaxis\":{\"gridcolor\":\"white\",\"linecolor\":\"white\",\"ticks\":\"\"},\"radialaxis\":{\"gridcolor\":\"white\",\"linecolor\":\"white\",\"ticks\":\"\"}},\"ternary\":{\"bgcolor\":\"#E5ECF6\",\"aaxis\":{\"gridcolor\":\"white\",\"linecolor\":\"white\",\"ticks\":\"\"},\"baxis\":{\"gridcolor\":\"white\",\"linecolor\":\"white\",\"ticks\":\"\"},\"caxis\":{\"gridcolor\":\"white\",\"linecolor\":\"white\",\"ticks\":\"\"}},\"coloraxis\":{\"colorbar\":{\"outlinewidth\":0,\"ticks\":\"\"}},\"colorscale\":{\"sequential\":[[0.0,\"#0d0887\"],[0.1111111111111111,\"#46039f\"],[0.2222222222222222,\"#7201a8\"],[0.3333333333333333,\"#9c179e\"],[0.4444444444444444,\"#bd3786\"],[0.5555555555555556,\"#d8576b\"],[0.6666666666666666,\"#ed7953\"],[0.7777777777777778,\"#fb9f3a\"],[0.8888888888888888,\"#fdca26\"],[1.0,\"#f0f921\"]],\"sequentialminus\":[[0.0,\"#0d0887\"],[0.1111111111111111,\"#46039f\"],[0.2222222222222222,\"#7201a8\"],[0.3333333333333333,\"#9c179e\"],[0.4444444444444444,\"#bd3786\"],[0.5555555555555556,\"#d8576b\"],[0.6666666666666666,\"#ed7953\"],[0.7777777777777778,\"#fb9f3a\"],[0.8888888888888888,\"#fdca26\"],[1.0,\"#f0f921\"]],\"diverging\":[[0,\"#8e0152\"],[0.1,\"#c51b7d\"],[0.2,\"#de77ae\"],[0.3,\"#f1b6da\"],[0.4,\"#fde0ef\"],[0.5,\"#f7f7f7\"],[0.6,\"#e6f5d0\"],[0.7,\"#b8e186\"],[0.8,\"#7fbc41\"],[0.9,\"#4d9221\"],[1,\"#276419\"]]},\"xaxis\":{\"gridcolor\":\"white\",\"linecolor\":\"white\",\"ticks\":\"\",\"title\":{\"standoff\":15},\"zerolinecolor\":\"white\",\"automargin\":true,\"zerolinewidth\":2},\"yaxis\":{\"gridcolor\":\"white\",\"linecolor\":\"white\",\"ticks\":\"\",\"title\":{\"standoff\":15},\"zerolinecolor\":\"white\",\"automargin\":true,\"zerolinewidth\":2},\"scene\":{\"xaxis\":{\"backgroundcolor\":\"#E5ECF6\",\"gridcolor\":\"white\",\"linecolor\":\"white\",\"showbackground\":true,\"ticks\":\"\",\"zerolinecolor\":\"white\",\"gridwidth\":2},\"yaxis\":{\"backgroundcolor\":\"#E5ECF6\",\"gridcolor\":\"white\",\"linecolor\":\"white\",\"showbackground\":true,\"ticks\":\"\",\"zerolinecolor\":\"white\",\"gridwidth\":2},\"zaxis\":{\"backgroundcolor\":\"#E5ECF6\",\"gridcolor\":\"white\",\"linecolor\":\"white\",\"showbackground\":true,\"ticks\":\"\",\"zerolinecolor\":\"white\",\"gridwidth\":2}},\"shapedefaults\":{\"line\":{\"color\":\"#2a3f5f\"}},\"annotationdefaults\":{\"arrowcolor\":\"#2a3f5f\",\"arrowhead\":0,\"arrowwidth\":1},\"geo\":{\"bgcolor\":\"white\",\"landcolor\":\"#E5ECF6\",\"subunitcolor\":\"white\",\"showland\":true,\"showlakes\":true,\"lakecolor\":\"white\"},\"title\":{\"x\":0.05},\"mapbox\":{\"style\":\"light\"}}},\"shapes\":[{\"line\":{\"dash\":\"dash\"},\"type\":\"line\",\"x0\":0,\"x1\":1,\"y0\":0,\"y1\":1}],\"yaxis\":{\"title\":{\"text\":\"True Positive Rate\"},\"scaleanchor\":\"x\",\"scaleratio\":1},\"xaxis\":{\"title\":{\"text\":\"False Positive Rate\"},\"constrain\":\"domain\"},\"font\":{\"family\":\"Courier New, monospace\",\"size\":20,\"color\":\"BLack\"},\"legend\":{\"title\":{\"font\":{\"family\":\"Times New Roman\"}},\"font\":{\"family\":\"Courier New, monospace\",\"size\":20,\"color\":\"black\"},\"x\":0.67,\"y\":0.05,\"traceorder\":\"reversed\",\"bgcolor\":\"LightSteelBlue\",\"bordercolor\":\"White\",\"borderwidth\":2},\"width\":1000,\"height\":1000},                        {\"responsive\": true}                    ).then(function(){\n",
              "                            \n",
              "var gd = document.getElementById('a507f735-6100-40fb-9b7c-15018d97b798');\n",
              "var x = new MutationObserver(function (mutations, observer) {{\n",
              "        var display = window.getComputedStyle(gd).display;\n",
              "        if (!display || display === 'none') {{\n",
              "            console.log([gd, 'removed!']);\n",
              "            Plotly.purge(gd);\n",
              "            observer.disconnect();\n",
              "        }}\n",
              "}});\n",
              "\n",
              "// Listen for the removal of the full notebook cells\n",
              "var notebookContainer = gd.closest('#notebook-container');\n",
              "if (notebookContainer) {{\n",
              "    x.observe(notebookContainer, {childList: true});\n",
              "}}\n",
              "\n",
              "// Listen for the clearing of the current output cell\n",
              "var outputEl = gd.closest('.output');\n",
              "if (outputEl) {{\n",
              "    x.observe(outputEl, {childList: true});\n",
              "}}\n",
              "\n",
              "                        })                };                            </script>        </div>\n",
              "</body>\n",
              "</html>"
            ]
          },
          "metadata": {}
        },
        {
          "output_type": "stream",
          "name": "stdout",
          "text": [
            "---------------------------------------------------------\n",
            "---------------------------------------------------------\n",
            "---------------------------------------------------------\n",
            "---------------------------------------------------------\n"
          ]
        }
      ],
      "source": [
        "for i in range(len(new_keys_9)):\n",
        "  if new_keys_9[i].value ==True:\n",
        "    print(models[i])\n",
        "    ploty_ROC(models[i],X_new,y_new,str(models[i]))\n",
        "    print(\"---------------------------------------------------------\")\n",
        "    print(\"---------------------------------------------------------\")\n",
        "    print(\"---------------------------------------------------------\")\n",
        "    print(\"---------------------------------------------------------\")"
      ]
    },
    {
      "cell_type": "markdown",
      "metadata": {
        "id": "XtgWbvJsEwMt"
      },
      "source": [
        "#Cross_val_score function"
      ]
    },
    {
      "cell_type": "code",
      "execution_count": null,
      "metadata": {
        "colab": {
          "base_uri": "https://localhost:8080/"
        },
        "id": "3unb_F6vE39m",
        "outputId": "afdb31fe-95b9-461f-b19a-e4d9173ee99c"
      },
      "outputs": [
        {
          "output_type": "stream",
          "name": "stdout",
          "text": [
            "AdaBoostClassifier(random_state=0)  -> Accuracy:  0.5606299212598426\n",
            "AdaBoostClassifier(random_state=0)  -> AVG Accurecy After CV: 0.5199085918676569 (For 5 Fold)\n",
            "--------------------------------------------------------------------------\n",
            "AdaBoostClassifier(n_estimators=39, random_state=0)  -> Accuracy:  0.5716535433070866\n",
            "AdaBoostClassifier(n_estimators=39, random_state=0)  -> AVG Accurecy After CV: 0.5132810054894559 (For 5 Fold)\n",
            "--------------------------------------------------------------------------\n",
            "GradientBoostingClassifier(random_state=0)  -> Accuracy:  0.7023622047244095\n",
            "GradientBoostingClassifier(random_state=0)  -> AVG Accurecy After CV: 0.7071656027223726 (For 5 Fold)\n",
            "--------------------------------------------------------------------------\n",
            "GradientBoostingClassifier(n_estimators=41, random_state=0)  -> Accuracy:  0.6708661417322834\n",
            "GradientBoostingClassifier(n_estimators=41, random_state=0)  -> AVG Accurecy After CV: 0.6655530440398421 (For 5 Fold)\n",
            "--------------------------------------------------------------------------\n",
            "GradientBoostingClassifier(max_depth=11, random_state=0)  -> Accuracy:  0.8062992125984252\n",
            "GradientBoostingClassifier(max_depth=11, random_state=0)  -> AVG Accurecy After CV: 0.7976437566755259 (For 5 Fold)\n",
            "--------------------------------------------------------------------------\n",
            "GradientBoostingClassifier(max_depth=11, n_estimators=41, random_state=0)  -> Accuracy:  0.784251968503937\n",
            "GradientBoostingClassifier(max_depth=11, n_estimators=41, random_state=0)  -> AVG Accurecy After CV: 0.7762010978911548 (For 5 Fold)\n",
            "--------------------------------------------------------------------------\n",
            "RandomForestClassifier(random_state=0)  -> Accuracy:  0.7984251968503937\n",
            "RandomForestClassifier(random_state=0)  -> AVG Accurecy After CV: 0.7831441416826052 (For 5 Fold)\n",
            "--------------------------------------------------------------------------\n",
            "RandomForestClassifier(n_estimators=124, random_state=0)  -> Accuracy:  0.8062992125984252\n",
            "RandomForestClassifier(n_estimators=124, random_state=0)  -> AVG Accurecy After CV: 0.785983258401848 (For 5 Fold)\n",
            "--------------------------------------------------------------------------\n",
            "RandomForestClassifier(max_depth=18, random_state=0)  -> Accuracy:  0.8031496062992126\n",
            "RandomForestClassifier(max_depth=18, random_state=0)  -> AVG Accurecy After CV: 0.7853548274919894 (For 5 Fold)\n",
            "--------------------------------------------------------------------------\n",
            "RandomForestClassifier(max_depth=18, n_estimators=124, random_state=0)  -> Accuracy:  0.8015748031496063\n",
            "RandomForestClassifier(max_depth=18, n_estimators=124, random_state=0)  -> AVG Accurecy After CV: 0.7859822648351921 (For 5 Fold)\n",
            "--------------------------------------------------------------------------\n",
            "XGBClassifier(objective='multi:softprob')  -> Accuracy:  0.6992125984251969\n",
            "XGBClassifier(objective='multi:softprob')  -> AVG Accurecy After CV: 0.673749968951042 (For 5 Fold)\n",
            "--------------------------------------------------------------------------\n",
            "XGBClassifier(max_depth=15, objective='multi:softprob')  -> Accuracy:  0.8094488188976378\n",
            "XGBClassifier(max_depth=15, objective='multi:softprob')  -> AVG Accurecy After CV: 0.7985891353486176 (For 5 Fold)\n",
            "--------------------------------------------------------------------------\n",
            "XGBClassifier(n_estimators=233, objective='multi:softprob')  -> Accuracy:  0.7464566929133858\n",
            "XGBClassifier(n_estimators=233, objective='multi:softprob')  -> AVG Accurecy After CV: 0.7254487195409722 (For 5 Fold)\n",
            "--------------------------------------------------------------------------\n",
            "XGBClassifier(max_depth=15, n_estimators=233, objective='multi:softprob')  -> Accuracy:  0.8141732283464567\n",
            "XGBClassifier(max_depth=15, n_estimators=233, objective='multi:softprob')  -> AVG Accurecy After CV: 0.8045808390670409 (For 5 Fold)\n",
            "--------------------------------------------------------------------------\n",
            "KNeighborsClassifier()  -> Accuracy:  0.6661417322834645\n",
            "KNeighborsClassifier()  -> AVG Accurecy After CV: 0.6879202165975309 (For 5 Fold)\n",
            "--------------------------------------------------------------------------\n",
            "KNeighborsClassifier(n_neighbors=1)  -> Accuracy:  0.7921259842519685\n",
            "KNeighborsClassifier(n_neighbors=1)  -> AVG Accurecy After CV: 0.7916341687572965 (For 5 Fold)\n",
            "--------------------------------------------------------------------------\n",
            "GaussianNB()  -> Accuracy:  0.4346456692913386\n",
            "GaussianNB()  -> AVG Accurecy After CV: 0.4082977719267741 (For 5 Fold)\n",
            "--------------------------------------------------------------------------\n"
          ]
        }
      ],
      "source": [
        "from sklearn.model_selection import cross_val_score\n",
        "\n",
        "k=5\n",
        "for i in result:\n",
        "  print(i[0],\" -> Accuracy: \",result[i])\n",
        "  l=list(cross_val_score(i[0],X_new, y_new,cv=k))\n",
        "  avg=sum(l)/k\n",
        "  print(i[0],\" -> AVG Accurecy After CV: \"+str(avg)+ \" (For \"+str(k)+\" Fold)\")\n",
        "  print(\"--------------------------------------------------------------------------\")"
      ]
    },
    {
      "cell_type": "markdown",
      "metadata": {
        "id": "iDu8Ipdm8qaV"
      },
      "source": [
        "# **LIME**"
      ]
    },
    {
      "cell_type": "code",
      "execution_count": 40,
      "metadata": {
        "colab": {
          "base_uri": "https://localhost:8080/"
        },
        "id": "aokroGxh8oj9",
        "outputId": "64b92ca4-7082-41f9-d975-3345cc21e1b4"
      },
      "outputs": [
        {
          "output_type": "stream",
          "name": "stdout",
          "text": [
            "Looking in indexes: https://pypi.org/simple, https://us-python.pkg.dev/colab-wheels/public/simple/\n",
            "Collecting lime\n",
            "  Downloading lime-0.2.0.1.tar.gz (275 kB)\n",
            "\u001b[K     |████████████████████████████████| 275 kB 4.7 MB/s \n",
            "\u001b[?25hRequirement already satisfied: matplotlib in /usr/local/lib/python3.8/dist-packages (from lime) (3.2.2)\n",
            "Requirement already satisfied: numpy in /usr/local/lib/python3.8/dist-packages (from lime) (1.21.6)\n",
            "Requirement already satisfied: scipy in /usr/local/lib/python3.8/dist-packages (from lime) (1.7.3)\n",
            "Requirement already satisfied: tqdm in /usr/local/lib/python3.8/dist-packages (from lime) (4.64.1)\n",
            "Requirement already satisfied: scikit-learn>=0.18 in /usr/local/lib/python3.8/dist-packages (from lime) (1.0.2)\n",
            "Requirement already satisfied: scikit-image>=0.12 in /usr/local/lib/python3.8/dist-packages (from lime) (0.18.3)\n",
            "Requirement already satisfied: tifffile>=2019.7.26 in /usr/local/lib/python3.8/dist-packages (from scikit-image>=0.12->lime) (2022.10.10)\n",
            "Requirement already satisfied: networkx>=2.0 in /usr/local/lib/python3.8/dist-packages (from scikit-image>=0.12->lime) (2.8.8)\n",
            "Requirement already satisfied: pillow!=7.1.0,!=7.1.1,>=4.3.0 in /usr/local/lib/python3.8/dist-packages (from scikit-image>=0.12->lime) (7.1.2)\n",
            "Requirement already satisfied: PyWavelets>=1.1.1 in /usr/local/lib/python3.8/dist-packages (from scikit-image>=0.12->lime) (1.4.1)\n",
            "Requirement already satisfied: imageio>=2.3.0 in /usr/local/lib/python3.8/dist-packages (from scikit-image>=0.12->lime) (2.9.0)\n",
            "Requirement already satisfied: python-dateutil>=2.1 in /usr/local/lib/python3.8/dist-packages (from matplotlib->lime) (2.8.2)\n",
            "Requirement already satisfied: kiwisolver>=1.0.1 in /usr/local/lib/python3.8/dist-packages (from matplotlib->lime) (1.4.4)\n",
            "Requirement already satisfied: cycler>=0.10 in /usr/local/lib/python3.8/dist-packages (from matplotlib->lime) (0.11.0)\n",
            "Requirement already satisfied: pyparsing!=2.0.4,!=2.1.2,!=2.1.6,>=2.0.1 in /usr/local/lib/python3.8/dist-packages (from matplotlib->lime) (3.0.9)\n",
            "Requirement already satisfied: six>=1.5 in /usr/local/lib/python3.8/dist-packages (from python-dateutil>=2.1->matplotlib->lime) (1.15.0)\n",
            "Requirement already satisfied: joblib>=0.11 in /usr/local/lib/python3.8/dist-packages (from scikit-learn>=0.18->lime) (1.2.0)\n",
            "Requirement already satisfied: threadpoolctl>=2.0.0 in /usr/local/lib/python3.8/dist-packages (from scikit-learn>=0.18->lime) (3.1.0)\n",
            "Building wheels for collected packages: lime\n",
            "  Building wheel for lime (setup.py) ... \u001b[?25l\u001b[?25hdone\n",
            "  Created wheel for lime: filename=lime-0.2.0.1-py3-none-any.whl size=283857 sha256=ba5f26a9fdb64744ec0901666dd05dd755ffb3557ec092582b321d822da3543b\n",
            "  Stored in directory: /root/.cache/pip/wheels/e6/a6/20/cc1e293fcdb67ede666fed293cb895395e7ecceb4467779546\n",
            "Successfully built lime\n",
            "Installing collected packages: lime\n",
            "Successfully installed lime-0.2.0.1\n"
          ]
        }
      ],
      "source": [
        "!pip install lime"
      ]
    },
    {
      "cell_type": "code",
      "execution_count": 41,
      "metadata": {
        "id": "5FaSwsYC4hL9"
      },
      "outputs": [],
      "source": [
        "\n",
        "  def LIME_EXP(model,row):\n",
        "    import lime\n",
        "    from lime import lime_tabular\n",
        "\n",
        "\n",
        "    if str(model)[:3] == \"XGB\":\n",
        "\n",
        "      \"\"\"explainer = lime.lime_tabular.LimeTabularExplainer(\n",
        "        X_train.values,\n",
        "        feature_names=list(list(X_new.columns)),                                         \n",
        "        class_names=['Reading', 'Resting', 'Walking', 'Working']\n",
        "        )\n",
        "      \n",
        "      exp = explainer.explain_instance(X_test.iloc[row, :].values,\n",
        "                                 model.predict_proba,\n",
        "                                 num_features=6,\n",
        "                                 top_labels=2)\"\"\"\n",
        "      print(\"Plz RUN XGboost cell....\")\n",
        "\n",
        "\n",
        "\n",
        "    else:\n",
        "      explainer = lime_tabular.LimeTabularExplainer(\n",
        "        training_data=np.array(X_train),\n",
        "        feature_names=list(X_new.columns),\n",
        "        class_names=['Reading', 'Resting', 'Walking', 'Working'],\n",
        "        mode='classification'\n",
        "        )\n",
        "\n",
        "      exp = explainer.explain_instance(X_test.iloc[row],\n",
        "                                      model.predict_proba,               \n",
        "                                      num_features=6,\n",
        "                                      top_labels=4)\n",
        "    \n",
        "\n",
        "\n",
        "    exp.show_in_notebook(show_table=True, show_all=True)\n",
        "\n",
        "\n",
        "\n",
        "    import matplotlib.pyplot as plt\n",
        "    with plt.style.context(\"ggplot\"):\n",
        "        exp.as_pyplot_figure()\n",
        "\n",
        "\n",
        "    from IPython.display import HTML\n",
        "    html_data = exp.as_html()\n",
        "    HTML(data=html_data)\n",
        "\n",
        "    exp.save_to_file(str(model)+\".html\")"
      ]
    },
    {
      "cell_type": "code",
      "execution_count": null,
      "metadata": {
        "id": "32KcHp_C40qQ"
      },
      "outputs": [],
      "source": [
        "row = int(input(\"Enter the index of row to explain: \"))      # the index of row to be explained in LIME\n",
        "\n",
        "\n",
        "new_keys_8=models_check_box(models)"
      ]
    },
    {
      "cell_type": "code",
      "execution_count": null,
      "metadata": {
        "id": "T0b1o-1mBtnW"
      },
      "outputs": [],
      "source": [
        "for i in range(len(new_keys_8)):\n",
        "  if new_keys_8[i].value ==True:\n",
        "    print(models[i])\n",
        "    LIME_EXP(models[i],row)\n",
        "    print(\"---------------------------------------------------------\")\n",
        "    print(\"---------------------------------------------------------\")\n",
        "    print(\"---------------------------------------------------------\")\n",
        "    print(\"---------------------------------------------------------\")"
      ]
    },
    {
      "cell_type": "markdown",
      "source": [
        "### LIME for XGboost"
      ],
      "metadata": {
        "id": "uShYm2_JU-kn"
      }
    },
    {
      "cell_type": "code",
      "source": [
        "row = 18  ## the index of row to be explained in LIME\n",
        "\n",
        "import lime\n",
        "from lime import lime_tabular\n",
        "explainer = lime.lime_tabular.LimeTabularExplainer(X_train.values,\n",
        "                                                   feature_names=list(list(X_new.columns)),\n",
        "                                                   class_names=['Reading', 'Resting', 'Walking', 'Working'])"
      ],
      "metadata": {
        "id": "UiCt6pXuYhQU"
      },
      "execution_count": null,
      "outputs": []
    },
    {
      "cell_type": "markdown",
      "source": [
        "####Default"
      ],
      "metadata": {
        "id": "JV98gDirYqlI"
      }
    },
    {
      "cell_type": "code",
      "source": [
        "\n",
        "exp = explainer.explain_instance(X_test.iloc[row, :].values,\n",
        "                                 xgb_deafult.predict_proba,\n",
        "                                 num_features=6,\n",
        "                                 top_labels=4)\n",
        "\n",
        "exp.show_in_notebook(show_table=True, show_all=False)\n",
        "\n",
        "import matplotlib.pyplot as plt\n",
        "with plt.style.context(\"ggplot\"):\n",
        "    exp.as_pyplot_figure()\n",
        "\n",
        "\n",
        "from IPython.display import HTML\n",
        "html_data = exp.as_html()\n",
        "HTML(data=html_data)\n",
        "\n",
        "exp.save_to_file(str(xgb_deafult)+\".html\")"
      ],
      "metadata": {
        "id": "db_NRU-cVDfk"
      },
      "execution_count": null,
      "outputs": []
    },
    {
      "cell_type": "markdown",
      "source": [
        "####Best Max Depth"
      ],
      "metadata": {
        "id": "HCtRZ2soYvmm"
      }
    },
    {
      "cell_type": "code",
      "source": [
        "\n",
        "exp = explainer.explain_instance(X_test.iloc[row, :].values,\n",
        "                                 xgb_depth.predict_proba,\n",
        "                                 num_features=6,\n",
        "                                 top_labels=4)\n",
        "\n",
        "exp.show_in_notebook(show_table=True, show_all=False)\n",
        "\n",
        "import matplotlib.pyplot as plt\n",
        "with plt.style.context(\"ggplot\"):\n",
        "    exp.as_pyplot_figure()\n",
        "\n",
        "\n",
        "from IPython.display import HTML\n",
        "html_data = exp.as_html()\n",
        "HTML(data=html_data)\n",
        "\n",
        "exp.save_to_file(str(xgb_depth)+\".html\")"
      ],
      "metadata": {
        "id": "wmErRPogYdxA"
      },
      "execution_count": null,
      "outputs": []
    },
    {
      "cell_type": "markdown",
      "source": [
        "####Best N Estimator"
      ],
      "metadata": {
        "id": "Db6bDLDKZBu6"
      }
    },
    {
      "cell_type": "code",
      "source": [
        "\n",
        "\n",
        "exp = explainer.explain_instance(X_test.iloc[row, :].values,\n",
        "                                 xgb_estimator.predict_proba,\n",
        "                                 num_features=6,\n",
        "                                 top_labels=4)\n",
        "\n",
        "exp.show_in_notebook(show_table=True, show_all=False)\n",
        "\n",
        "import matplotlib.pyplot as plt\n",
        "with plt.style.context(\"ggplot\"):\n",
        "    exp.as_pyplot_figure()\n",
        "\n",
        "\n",
        "from IPython.display import HTML\n",
        "html_data = exp.as_html()\n",
        "HTML(data=html_data)\n",
        "\n",
        "exp.save_to_file(str(xgb_estimator)+\".html\")"
      ],
      "metadata": {
        "id": "nqJ6uclBYeb2"
      },
      "execution_count": null,
      "outputs": []
    },
    {
      "cell_type": "markdown",
      "source": [
        "####Best Depth and Best Estimator"
      ],
      "metadata": {
        "id": "oGZFn8-bZJoK"
      }
    },
    {
      "cell_type": "code",
      "source": [
        "\n",
        "exp = explainer.explain_instance(X_test.iloc[row, :].values,\n",
        "                                 xgb_all.predict_proba,\n",
        "                                 num_features=6,\n",
        "                                 top_labels=4)\n",
        "\n",
        "exp.show_in_notebook(show_table=True, show_all=False)\n",
        "\n",
        "\n",
        "import matplotlib.pyplot as plt\n",
        "with plt.style.context(\"ggplot\"):\n",
        "    exp.as_pyplot_figure()\n",
        "\n",
        "\n",
        "from IPython.display import HTML\n",
        "html_data = exp.as_html()\n",
        "HTML(data=html_data)\n",
        "\n",
        "exp.save_to_file(str(xgb_all)+\".html\")"
      ],
      "metadata": {
        "id": "qPeJmpyvYfAW"
      },
      "execution_count": null,
      "outputs": []
    }
  ],
  "metadata": {
    "colab": {
      "collapsed_sections": [
        "jEe2R0yAoifa",
        "FJybpt_UvCU0",
        "AgMT_U8gvM7F",
        "K6_icFWdauSI",
        "_Btki9jRvc1Y",
        "6FEsxCdvkg2D",
        "zxxWSX26jsGT",
        "23z3A3f1ol6d",
        "57cQ8dzJX0Lp"
      ],
      "provenance": [],
      "include_colab_link": true
    },
    "kernelspec": {
      "display_name": "Python 3",
      "name": "python3"
    },
    "language_info": {
      "name": "python"
    },
    "widgets": {
      "application/vnd.jupyter.widget-state+json": {
        "b32cca0567364d89bcd19ffd21906c20": {
          "model_module": "@jupyter-widgets/controls",
          "model_name": "CheckboxModel",
          "model_module_version": "1.5.0",
          "state": {
            "_dom_classes": [],
            "_model_module": "@jupyter-widgets/controls",
            "_model_module_version": "1.5.0",
            "_model_name": "CheckboxModel",
            "_view_count": null,
            "_view_module": "@jupyter-widgets/controls",
            "_view_module_version": "1.5.0",
            "_view_name": "CheckboxView",
            "description": "AdaBoostClassifier(random_state=0)",
            "description_tooltip": null,
            "disabled": false,
            "indent": false,
            "layout": "IPY_MODEL_833b802ea8ed492585bf5cf6132d5eeb",
            "style": "IPY_MODEL_4925583be57046c3a572b8a484bf80d8",
            "value": false
          }
        },
        "833b802ea8ed492585bf5cf6132d5eeb": {
          "model_module": "@jupyter-widgets/base",
          "model_name": "LayoutModel",
          "model_module_version": "1.2.0",
          "state": {
            "_model_module": "@jupyter-widgets/base",
            "_model_module_version": "1.2.0",
            "_model_name": "LayoutModel",
            "_view_count": null,
            "_view_module": "@jupyter-widgets/base",
            "_view_module_version": "1.2.0",
            "_view_name": "LayoutView",
            "align_content": null,
            "align_items": null,
            "align_self": null,
            "border": null,
            "bottom": null,
            "display": null,
            "flex": null,
            "flex_flow": null,
            "grid_area": null,
            "grid_auto_columns": null,
            "grid_auto_flow": null,
            "grid_auto_rows": null,
            "grid_column": null,
            "grid_gap": null,
            "grid_row": null,
            "grid_template_areas": null,
            "grid_template_columns": null,
            "grid_template_rows": null,
            "height": null,
            "justify_content": null,
            "justify_items": null,
            "left": null,
            "margin": null,
            "max_height": null,
            "max_width": null,
            "min_height": null,
            "min_width": null,
            "object_fit": null,
            "object_position": null,
            "order": null,
            "overflow": null,
            "overflow_x": null,
            "overflow_y": null,
            "padding": null,
            "right": null,
            "top": null,
            "visibility": null,
            "width": null
          }
        },
        "4925583be57046c3a572b8a484bf80d8": {
          "model_module": "@jupyter-widgets/controls",
          "model_name": "DescriptionStyleModel",
          "model_module_version": "1.5.0",
          "state": {
            "_model_module": "@jupyter-widgets/controls",
            "_model_module_version": "1.5.0",
            "_model_name": "DescriptionStyleModel",
            "_view_count": null,
            "_view_module": "@jupyter-widgets/base",
            "_view_module_version": "1.2.0",
            "_view_name": "StyleView",
            "description_width": ""
          }
        },
        "cd9e0e42eb5343cfbb376fee7c52f543": {
          "model_module": "@jupyter-widgets/controls",
          "model_name": "CheckboxModel",
          "model_module_version": "1.5.0",
          "state": {
            "_dom_classes": [],
            "_model_module": "@jupyter-widgets/controls",
            "_model_module_version": "1.5.0",
            "_model_name": "CheckboxModel",
            "_view_count": null,
            "_view_module": "@jupyter-widgets/controls",
            "_view_module_version": "1.5.0",
            "_view_name": "CheckboxView",
            "description": "AdaBoostClassifier(n_estimators=39, random_state=0)",
            "description_tooltip": null,
            "disabled": false,
            "indent": false,
            "layout": "IPY_MODEL_577d98f444ef4a3e8926410ca0229f8d",
            "style": "IPY_MODEL_bf459de34f5e4c23aca0287dbad5730c",
            "value": false
          }
        },
        "577d98f444ef4a3e8926410ca0229f8d": {
          "model_module": "@jupyter-widgets/base",
          "model_name": "LayoutModel",
          "model_module_version": "1.2.0",
          "state": {
            "_model_module": "@jupyter-widgets/base",
            "_model_module_version": "1.2.0",
            "_model_name": "LayoutModel",
            "_view_count": null,
            "_view_module": "@jupyter-widgets/base",
            "_view_module_version": "1.2.0",
            "_view_name": "LayoutView",
            "align_content": null,
            "align_items": null,
            "align_self": null,
            "border": null,
            "bottom": null,
            "display": null,
            "flex": null,
            "flex_flow": null,
            "grid_area": null,
            "grid_auto_columns": null,
            "grid_auto_flow": null,
            "grid_auto_rows": null,
            "grid_column": null,
            "grid_gap": null,
            "grid_row": null,
            "grid_template_areas": null,
            "grid_template_columns": null,
            "grid_template_rows": null,
            "height": null,
            "justify_content": null,
            "justify_items": null,
            "left": null,
            "margin": null,
            "max_height": null,
            "max_width": null,
            "min_height": null,
            "min_width": null,
            "object_fit": null,
            "object_position": null,
            "order": null,
            "overflow": null,
            "overflow_x": null,
            "overflow_y": null,
            "padding": null,
            "right": null,
            "top": null,
            "visibility": null,
            "width": null
          }
        },
        "bf459de34f5e4c23aca0287dbad5730c": {
          "model_module": "@jupyter-widgets/controls",
          "model_name": "DescriptionStyleModel",
          "model_module_version": "1.5.0",
          "state": {
            "_model_module": "@jupyter-widgets/controls",
            "_model_module_version": "1.5.0",
            "_model_name": "DescriptionStyleModel",
            "_view_count": null,
            "_view_module": "@jupyter-widgets/base",
            "_view_module_version": "1.2.0",
            "_view_name": "StyleView",
            "description_width": ""
          }
        },
        "a8cea79300d64ccbb77780e7dba971c4": {
          "model_module": "@jupyter-widgets/controls",
          "model_name": "CheckboxModel",
          "model_module_version": "1.5.0",
          "state": {
            "_dom_classes": [],
            "_model_module": "@jupyter-widgets/controls",
            "_model_module_version": "1.5.0",
            "_model_name": "CheckboxModel",
            "_view_count": null,
            "_view_module": "@jupyter-widgets/controls",
            "_view_module_version": "1.5.0",
            "_view_name": "CheckboxView",
            "description": "GradientBoostingClassifier(random_state=0)",
            "description_tooltip": null,
            "disabled": false,
            "indent": false,
            "layout": "IPY_MODEL_8110e119a60a4f35bcfde106053f6a63",
            "style": "IPY_MODEL_96ae8c0773f4496ab9976f5bdbeb6f5f",
            "value": false
          }
        },
        "8110e119a60a4f35bcfde106053f6a63": {
          "model_module": "@jupyter-widgets/base",
          "model_name": "LayoutModel",
          "model_module_version": "1.2.0",
          "state": {
            "_model_module": "@jupyter-widgets/base",
            "_model_module_version": "1.2.0",
            "_model_name": "LayoutModel",
            "_view_count": null,
            "_view_module": "@jupyter-widgets/base",
            "_view_module_version": "1.2.0",
            "_view_name": "LayoutView",
            "align_content": null,
            "align_items": null,
            "align_self": null,
            "border": null,
            "bottom": null,
            "display": null,
            "flex": null,
            "flex_flow": null,
            "grid_area": null,
            "grid_auto_columns": null,
            "grid_auto_flow": null,
            "grid_auto_rows": null,
            "grid_column": null,
            "grid_gap": null,
            "grid_row": null,
            "grid_template_areas": null,
            "grid_template_columns": null,
            "grid_template_rows": null,
            "height": null,
            "justify_content": null,
            "justify_items": null,
            "left": null,
            "margin": null,
            "max_height": null,
            "max_width": null,
            "min_height": null,
            "min_width": null,
            "object_fit": null,
            "object_position": null,
            "order": null,
            "overflow": null,
            "overflow_x": null,
            "overflow_y": null,
            "padding": null,
            "right": null,
            "top": null,
            "visibility": null,
            "width": null
          }
        },
        "96ae8c0773f4496ab9976f5bdbeb6f5f": {
          "model_module": "@jupyter-widgets/controls",
          "model_name": "DescriptionStyleModel",
          "model_module_version": "1.5.0",
          "state": {
            "_model_module": "@jupyter-widgets/controls",
            "_model_module_version": "1.5.0",
            "_model_name": "DescriptionStyleModel",
            "_view_count": null,
            "_view_module": "@jupyter-widgets/base",
            "_view_module_version": "1.2.0",
            "_view_name": "StyleView",
            "description_width": ""
          }
        },
        "92021d24041941a888368e55f860a67b": {
          "model_module": "@jupyter-widgets/controls",
          "model_name": "CheckboxModel",
          "model_module_version": "1.5.0",
          "state": {
            "_dom_classes": [],
            "_model_module": "@jupyter-widgets/controls",
            "_model_module_version": "1.5.0",
            "_model_name": "CheckboxModel",
            "_view_count": null,
            "_view_module": "@jupyter-widgets/controls",
            "_view_module_version": "1.5.0",
            "_view_name": "CheckboxView",
            "description": "GradientBoostingClassifier(n_estimators=41, random_state=0)",
            "description_tooltip": null,
            "disabled": false,
            "indent": false,
            "layout": "IPY_MODEL_e8b9f26c68944038bd156795e1637d6b",
            "style": "IPY_MODEL_f513bbbab9dc45459498620a32e33cbb",
            "value": false
          }
        },
        "e8b9f26c68944038bd156795e1637d6b": {
          "model_module": "@jupyter-widgets/base",
          "model_name": "LayoutModel",
          "model_module_version": "1.2.0",
          "state": {
            "_model_module": "@jupyter-widgets/base",
            "_model_module_version": "1.2.0",
            "_model_name": "LayoutModel",
            "_view_count": null,
            "_view_module": "@jupyter-widgets/base",
            "_view_module_version": "1.2.0",
            "_view_name": "LayoutView",
            "align_content": null,
            "align_items": null,
            "align_self": null,
            "border": null,
            "bottom": null,
            "display": null,
            "flex": null,
            "flex_flow": null,
            "grid_area": null,
            "grid_auto_columns": null,
            "grid_auto_flow": null,
            "grid_auto_rows": null,
            "grid_column": null,
            "grid_gap": null,
            "grid_row": null,
            "grid_template_areas": null,
            "grid_template_columns": null,
            "grid_template_rows": null,
            "height": null,
            "justify_content": null,
            "justify_items": null,
            "left": null,
            "margin": null,
            "max_height": null,
            "max_width": null,
            "min_height": null,
            "min_width": null,
            "object_fit": null,
            "object_position": null,
            "order": null,
            "overflow": null,
            "overflow_x": null,
            "overflow_y": null,
            "padding": null,
            "right": null,
            "top": null,
            "visibility": null,
            "width": null
          }
        },
        "f513bbbab9dc45459498620a32e33cbb": {
          "model_module": "@jupyter-widgets/controls",
          "model_name": "DescriptionStyleModel",
          "model_module_version": "1.5.0",
          "state": {
            "_model_module": "@jupyter-widgets/controls",
            "_model_module_version": "1.5.0",
            "_model_name": "DescriptionStyleModel",
            "_view_count": null,
            "_view_module": "@jupyter-widgets/base",
            "_view_module_version": "1.2.0",
            "_view_name": "StyleView",
            "description_width": ""
          }
        },
        "6788401656d3492e9236d4aba8a200ca": {
          "model_module": "@jupyter-widgets/controls",
          "model_name": "CheckboxModel",
          "model_module_version": "1.5.0",
          "state": {
            "_dom_classes": [],
            "_model_module": "@jupyter-widgets/controls",
            "_model_module_version": "1.5.0",
            "_model_name": "CheckboxModel",
            "_view_count": null,
            "_view_module": "@jupyter-widgets/controls",
            "_view_module_version": "1.5.0",
            "_view_name": "CheckboxView",
            "description": "GradientBoostingClassifier(max_depth=11, random_state=0)",
            "description_tooltip": null,
            "disabled": false,
            "indent": false,
            "layout": "IPY_MODEL_9b3b8ca368bc4d50860b19529cc2d65a",
            "style": "IPY_MODEL_eee2663b84fd405bbf3244d5bf58d880",
            "value": false
          }
        },
        "9b3b8ca368bc4d50860b19529cc2d65a": {
          "model_module": "@jupyter-widgets/base",
          "model_name": "LayoutModel",
          "model_module_version": "1.2.0",
          "state": {
            "_model_module": "@jupyter-widgets/base",
            "_model_module_version": "1.2.0",
            "_model_name": "LayoutModel",
            "_view_count": null,
            "_view_module": "@jupyter-widgets/base",
            "_view_module_version": "1.2.0",
            "_view_name": "LayoutView",
            "align_content": null,
            "align_items": null,
            "align_self": null,
            "border": null,
            "bottom": null,
            "display": null,
            "flex": null,
            "flex_flow": null,
            "grid_area": null,
            "grid_auto_columns": null,
            "grid_auto_flow": null,
            "grid_auto_rows": null,
            "grid_column": null,
            "grid_gap": null,
            "grid_row": null,
            "grid_template_areas": null,
            "grid_template_columns": null,
            "grid_template_rows": null,
            "height": null,
            "justify_content": null,
            "justify_items": null,
            "left": null,
            "margin": null,
            "max_height": null,
            "max_width": null,
            "min_height": null,
            "min_width": null,
            "object_fit": null,
            "object_position": null,
            "order": null,
            "overflow": null,
            "overflow_x": null,
            "overflow_y": null,
            "padding": null,
            "right": null,
            "top": null,
            "visibility": null,
            "width": null
          }
        },
        "eee2663b84fd405bbf3244d5bf58d880": {
          "model_module": "@jupyter-widgets/controls",
          "model_name": "DescriptionStyleModel",
          "model_module_version": "1.5.0",
          "state": {
            "_model_module": "@jupyter-widgets/controls",
            "_model_module_version": "1.5.0",
            "_model_name": "DescriptionStyleModel",
            "_view_count": null,
            "_view_module": "@jupyter-widgets/base",
            "_view_module_version": "1.2.0",
            "_view_name": "StyleView",
            "description_width": ""
          }
        },
        "62c02bee0e364ea0b7ab8e6f74e440b4": {
          "model_module": "@jupyter-widgets/controls",
          "model_name": "CheckboxModel",
          "model_module_version": "1.5.0",
          "state": {
            "_dom_classes": [],
            "_model_module": "@jupyter-widgets/controls",
            "_model_module_version": "1.5.0",
            "_model_name": "CheckboxModel",
            "_view_count": null,
            "_view_module": "@jupyter-widgets/controls",
            "_view_module_version": "1.5.0",
            "_view_name": "CheckboxView",
            "description": "GradientBoostingClassifier(max_depth=11, n_estimators=41, random_state=0)",
            "description_tooltip": null,
            "disabled": false,
            "indent": false,
            "layout": "IPY_MODEL_75b820d7bc904d9a93b8c01d74996dbc",
            "style": "IPY_MODEL_0f318267468c41d8b8dd81f0c73ef8db",
            "value": false
          }
        },
        "75b820d7bc904d9a93b8c01d74996dbc": {
          "model_module": "@jupyter-widgets/base",
          "model_name": "LayoutModel",
          "model_module_version": "1.2.0",
          "state": {
            "_model_module": "@jupyter-widgets/base",
            "_model_module_version": "1.2.0",
            "_model_name": "LayoutModel",
            "_view_count": null,
            "_view_module": "@jupyter-widgets/base",
            "_view_module_version": "1.2.0",
            "_view_name": "LayoutView",
            "align_content": null,
            "align_items": null,
            "align_self": null,
            "border": null,
            "bottom": null,
            "display": null,
            "flex": null,
            "flex_flow": null,
            "grid_area": null,
            "grid_auto_columns": null,
            "grid_auto_flow": null,
            "grid_auto_rows": null,
            "grid_column": null,
            "grid_gap": null,
            "grid_row": null,
            "grid_template_areas": null,
            "grid_template_columns": null,
            "grid_template_rows": null,
            "height": null,
            "justify_content": null,
            "justify_items": null,
            "left": null,
            "margin": null,
            "max_height": null,
            "max_width": null,
            "min_height": null,
            "min_width": null,
            "object_fit": null,
            "object_position": null,
            "order": null,
            "overflow": null,
            "overflow_x": null,
            "overflow_y": null,
            "padding": null,
            "right": null,
            "top": null,
            "visibility": null,
            "width": null
          }
        },
        "0f318267468c41d8b8dd81f0c73ef8db": {
          "model_module": "@jupyter-widgets/controls",
          "model_name": "DescriptionStyleModel",
          "model_module_version": "1.5.0",
          "state": {
            "_model_module": "@jupyter-widgets/controls",
            "_model_module_version": "1.5.0",
            "_model_name": "DescriptionStyleModel",
            "_view_count": null,
            "_view_module": "@jupyter-widgets/base",
            "_view_module_version": "1.2.0",
            "_view_name": "StyleView",
            "description_width": ""
          }
        },
        "c7a4c200cd9446489826e44ae35bca8f": {
          "model_module": "@jupyter-widgets/controls",
          "model_name": "CheckboxModel",
          "model_module_version": "1.5.0",
          "state": {
            "_dom_classes": [],
            "_model_module": "@jupyter-widgets/controls",
            "_model_module_version": "1.5.0",
            "_model_name": "CheckboxModel",
            "_view_count": null,
            "_view_module": "@jupyter-widgets/controls",
            "_view_module_version": "1.5.0",
            "_view_name": "CheckboxView",
            "description": "RandomForestClassifier(random_state=0)",
            "description_tooltip": null,
            "disabled": false,
            "indent": false,
            "layout": "IPY_MODEL_65eed8ac1cd54e24aecfafd15b632863",
            "style": "IPY_MODEL_cd3ab18b2d9e406bac0013601e37fc7f",
            "value": false
          }
        },
        "65eed8ac1cd54e24aecfafd15b632863": {
          "model_module": "@jupyter-widgets/base",
          "model_name": "LayoutModel",
          "model_module_version": "1.2.0",
          "state": {
            "_model_module": "@jupyter-widgets/base",
            "_model_module_version": "1.2.0",
            "_model_name": "LayoutModel",
            "_view_count": null,
            "_view_module": "@jupyter-widgets/base",
            "_view_module_version": "1.2.0",
            "_view_name": "LayoutView",
            "align_content": null,
            "align_items": null,
            "align_self": null,
            "border": null,
            "bottom": null,
            "display": null,
            "flex": null,
            "flex_flow": null,
            "grid_area": null,
            "grid_auto_columns": null,
            "grid_auto_flow": null,
            "grid_auto_rows": null,
            "grid_column": null,
            "grid_gap": null,
            "grid_row": null,
            "grid_template_areas": null,
            "grid_template_columns": null,
            "grid_template_rows": null,
            "height": null,
            "justify_content": null,
            "justify_items": null,
            "left": null,
            "margin": null,
            "max_height": null,
            "max_width": null,
            "min_height": null,
            "min_width": null,
            "object_fit": null,
            "object_position": null,
            "order": null,
            "overflow": null,
            "overflow_x": null,
            "overflow_y": null,
            "padding": null,
            "right": null,
            "top": null,
            "visibility": null,
            "width": null
          }
        },
        "cd3ab18b2d9e406bac0013601e37fc7f": {
          "model_module": "@jupyter-widgets/controls",
          "model_name": "DescriptionStyleModel",
          "model_module_version": "1.5.0",
          "state": {
            "_model_module": "@jupyter-widgets/controls",
            "_model_module_version": "1.5.0",
            "_model_name": "DescriptionStyleModel",
            "_view_count": null,
            "_view_module": "@jupyter-widgets/base",
            "_view_module_version": "1.2.0",
            "_view_name": "StyleView",
            "description_width": ""
          }
        },
        "bc006342771b4b9ea6c3f47a5afed218": {
          "model_module": "@jupyter-widgets/controls",
          "model_name": "CheckboxModel",
          "model_module_version": "1.5.0",
          "state": {
            "_dom_classes": [],
            "_model_module": "@jupyter-widgets/controls",
            "_model_module_version": "1.5.0",
            "_model_name": "CheckboxModel",
            "_view_count": null,
            "_view_module": "@jupyter-widgets/controls",
            "_view_module_version": "1.5.0",
            "_view_name": "CheckboxView",
            "description": "RandomForestClassifier(n_estimators=124, random_state=0)",
            "description_tooltip": null,
            "disabled": false,
            "indent": false,
            "layout": "IPY_MODEL_da5bdc61006040cc897f4c574a149d2f",
            "style": "IPY_MODEL_8a24ce402f6442408c213dc7f944f097",
            "value": false
          }
        },
        "da5bdc61006040cc897f4c574a149d2f": {
          "model_module": "@jupyter-widgets/base",
          "model_name": "LayoutModel",
          "model_module_version": "1.2.0",
          "state": {
            "_model_module": "@jupyter-widgets/base",
            "_model_module_version": "1.2.0",
            "_model_name": "LayoutModel",
            "_view_count": null,
            "_view_module": "@jupyter-widgets/base",
            "_view_module_version": "1.2.0",
            "_view_name": "LayoutView",
            "align_content": null,
            "align_items": null,
            "align_self": null,
            "border": null,
            "bottom": null,
            "display": null,
            "flex": null,
            "flex_flow": null,
            "grid_area": null,
            "grid_auto_columns": null,
            "grid_auto_flow": null,
            "grid_auto_rows": null,
            "grid_column": null,
            "grid_gap": null,
            "grid_row": null,
            "grid_template_areas": null,
            "grid_template_columns": null,
            "grid_template_rows": null,
            "height": null,
            "justify_content": null,
            "justify_items": null,
            "left": null,
            "margin": null,
            "max_height": null,
            "max_width": null,
            "min_height": null,
            "min_width": null,
            "object_fit": null,
            "object_position": null,
            "order": null,
            "overflow": null,
            "overflow_x": null,
            "overflow_y": null,
            "padding": null,
            "right": null,
            "top": null,
            "visibility": null,
            "width": null
          }
        },
        "8a24ce402f6442408c213dc7f944f097": {
          "model_module": "@jupyter-widgets/controls",
          "model_name": "DescriptionStyleModel",
          "model_module_version": "1.5.0",
          "state": {
            "_model_module": "@jupyter-widgets/controls",
            "_model_module_version": "1.5.0",
            "_model_name": "DescriptionStyleModel",
            "_view_count": null,
            "_view_module": "@jupyter-widgets/base",
            "_view_module_version": "1.2.0",
            "_view_name": "StyleView",
            "description_width": ""
          }
        },
        "d7054b23a7744b6ba532000df3825b3b": {
          "model_module": "@jupyter-widgets/controls",
          "model_name": "CheckboxModel",
          "model_module_version": "1.5.0",
          "state": {
            "_dom_classes": [],
            "_model_module": "@jupyter-widgets/controls",
            "_model_module_version": "1.5.0",
            "_model_name": "CheckboxModel",
            "_view_count": null,
            "_view_module": "@jupyter-widgets/controls",
            "_view_module_version": "1.5.0",
            "_view_name": "CheckboxView",
            "description": "RandomForestClassifier(max_depth=18, random_state=0)",
            "description_tooltip": null,
            "disabled": false,
            "indent": false,
            "layout": "IPY_MODEL_11565a7d59b14801a5440c5c79069431",
            "style": "IPY_MODEL_25ce25b530c04ec3beb1ff5efd13306a",
            "value": false
          }
        },
        "11565a7d59b14801a5440c5c79069431": {
          "model_module": "@jupyter-widgets/base",
          "model_name": "LayoutModel",
          "model_module_version": "1.2.0",
          "state": {
            "_model_module": "@jupyter-widgets/base",
            "_model_module_version": "1.2.0",
            "_model_name": "LayoutModel",
            "_view_count": null,
            "_view_module": "@jupyter-widgets/base",
            "_view_module_version": "1.2.0",
            "_view_name": "LayoutView",
            "align_content": null,
            "align_items": null,
            "align_self": null,
            "border": null,
            "bottom": null,
            "display": null,
            "flex": null,
            "flex_flow": null,
            "grid_area": null,
            "grid_auto_columns": null,
            "grid_auto_flow": null,
            "grid_auto_rows": null,
            "grid_column": null,
            "grid_gap": null,
            "grid_row": null,
            "grid_template_areas": null,
            "grid_template_columns": null,
            "grid_template_rows": null,
            "height": null,
            "justify_content": null,
            "justify_items": null,
            "left": null,
            "margin": null,
            "max_height": null,
            "max_width": null,
            "min_height": null,
            "min_width": null,
            "object_fit": null,
            "object_position": null,
            "order": null,
            "overflow": null,
            "overflow_x": null,
            "overflow_y": null,
            "padding": null,
            "right": null,
            "top": null,
            "visibility": null,
            "width": null
          }
        },
        "25ce25b530c04ec3beb1ff5efd13306a": {
          "model_module": "@jupyter-widgets/controls",
          "model_name": "DescriptionStyleModel",
          "model_module_version": "1.5.0",
          "state": {
            "_model_module": "@jupyter-widgets/controls",
            "_model_module_version": "1.5.0",
            "_model_name": "DescriptionStyleModel",
            "_view_count": null,
            "_view_module": "@jupyter-widgets/base",
            "_view_module_version": "1.2.0",
            "_view_name": "StyleView",
            "description_width": ""
          }
        },
        "96803877e894434d8483f259c6431323": {
          "model_module": "@jupyter-widgets/controls",
          "model_name": "CheckboxModel",
          "model_module_version": "1.5.0",
          "state": {
            "_dom_classes": [],
            "_model_module": "@jupyter-widgets/controls",
            "_model_module_version": "1.5.0",
            "_model_name": "CheckboxModel",
            "_view_count": null,
            "_view_module": "@jupyter-widgets/controls",
            "_view_module_version": "1.5.0",
            "_view_name": "CheckboxView",
            "description": "RandomForestClassifier(max_depth=18, n_estimators=124, random_state=0)",
            "description_tooltip": null,
            "disabled": false,
            "indent": false,
            "layout": "IPY_MODEL_6ad53930f9db4f3e85478febf962844b",
            "style": "IPY_MODEL_ef61ba6ad6e04e52823cf1694fd36ddc",
            "value": false
          }
        },
        "6ad53930f9db4f3e85478febf962844b": {
          "model_module": "@jupyter-widgets/base",
          "model_name": "LayoutModel",
          "model_module_version": "1.2.0",
          "state": {
            "_model_module": "@jupyter-widgets/base",
            "_model_module_version": "1.2.0",
            "_model_name": "LayoutModel",
            "_view_count": null,
            "_view_module": "@jupyter-widgets/base",
            "_view_module_version": "1.2.0",
            "_view_name": "LayoutView",
            "align_content": null,
            "align_items": null,
            "align_self": null,
            "border": null,
            "bottom": null,
            "display": null,
            "flex": null,
            "flex_flow": null,
            "grid_area": null,
            "grid_auto_columns": null,
            "grid_auto_flow": null,
            "grid_auto_rows": null,
            "grid_column": null,
            "grid_gap": null,
            "grid_row": null,
            "grid_template_areas": null,
            "grid_template_columns": null,
            "grid_template_rows": null,
            "height": null,
            "justify_content": null,
            "justify_items": null,
            "left": null,
            "margin": null,
            "max_height": null,
            "max_width": null,
            "min_height": null,
            "min_width": null,
            "object_fit": null,
            "object_position": null,
            "order": null,
            "overflow": null,
            "overflow_x": null,
            "overflow_y": null,
            "padding": null,
            "right": null,
            "top": null,
            "visibility": null,
            "width": null
          }
        },
        "ef61ba6ad6e04e52823cf1694fd36ddc": {
          "model_module": "@jupyter-widgets/controls",
          "model_name": "DescriptionStyleModel",
          "model_module_version": "1.5.0",
          "state": {
            "_model_module": "@jupyter-widgets/controls",
            "_model_module_version": "1.5.0",
            "_model_name": "DescriptionStyleModel",
            "_view_count": null,
            "_view_module": "@jupyter-widgets/base",
            "_view_module_version": "1.2.0",
            "_view_name": "StyleView",
            "description_width": ""
          }
        },
        "41d3406b4be24c559c5dbb23e002674a": {
          "model_module": "@jupyter-widgets/controls",
          "model_name": "CheckboxModel",
          "model_module_version": "1.5.0",
          "state": {
            "_dom_classes": [],
            "_model_module": "@jupyter-widgets/controls",
            "_model_module_version": "1.5.0",
            "_model_name": "CheckboxModel",
            "_view_count": null,
            "_view_module": "@jupyter-widgets/controls",
            "_view_module_version": "1.5.0",
            "_view_name": "CheckboxView",
            "description": "XGBClassifier(objective='multi:softprob')",
            "description_tooltip": null,
            "disabled": false,
            "indent": false,
            "layout": "IPY_MODEL_2ce418f3231a40c88e1e8e2c8c246cc5",
            "style": "IPY_MODEL_f0f255d21e0e4714afbb4a9a3a46726c",
            "value": false
          }
        },
        "2ce418f3231a40c88e1e8e2c8c246cc5": {
          "model_module": "@jupyter-widgets/base",
          "model_name": "LayoutModel",
          "model_module_version": "1.2.0",
          "state": {
            "_model_module": "@jupyter-widgets/base",
            "_model_module_version": "1.2.0",
            "_model_name": "LayoutModel",
            "_view_count": null,
            "_view_module": "@jupyter-widgets/base",
            "_view_module_version": "1.2.0",
            "_view_name": "LayoutView",
            "align_content": null,
            "align_items": null,
            "align_self": null,
            "border": null,
            "bottom": null,
            "display": null,
            "flex": null,
            "flex_flow": null,
            "grid_area": null,
            "grid_auto_columns": null,
            "grid_auto_flow": null,
            "grid_auto_rows": null,
            "grid_column": null,
            "grid_gap": null,
            "grid_row": null,
            "grid_template_areas": null,
            "grid_template_columns": null,
            "grid_template_rows": null,
            "height": null,
            "justify_content": null,
            "justify_items": null,
            "left": null,
            "margin": null,
            "max_height": null,
            "max_width": null,
            "min_height": null,
            "min_width": null,
            "object_fit": null,
            "object_position": null,
            "order": null,
            "overflow": null,
            "overflow_x": null,
            "overflow_y": null,
            "padding": null,
            "right": null,
            "top": null,
            "visibility": null,
            "width": null
          }
        },
        "f0f255d21e0e4714afbb4a9a3a46726c": {
          "model_module": "@jupyter-widgets/controls",
          "model_name": "DescriptionStyleModel",
          "model_module_version": "1.5.0",
          "state": {
            "_model_module": "@jupyter-widgets/controls",
            "_model_module_version": "1.5.0",
            "_model_name": "DescriptionStyleModel",
            "_view_count": null,
            "_view_module": "@jupyter-widgets/base",
            "_view_module_version": "1.2.0",
            "_view_name": "StyleView",
            "description_width": ""
          }
        },
        "6e2b6fbd43284536b2bb9b4427512bf6": {
          "model_module": "@jupyter-widgets/controls",
          "model_name": "CheckboxModel",
          "model_module_version": "1.5.0",
          "state": {
            "_dom_classes": [],
            "_model_module": "@jupyter-widgets/controls",
            "_model_module_version": "1.5.0",
            "_model_name": "CheckboxModel",
            "_view_count": null,
            "_view_module": "@jupyter-widgets/controls",
            "_view_module_version": "1.5.0",
            "_view_name": "CheckboxView",
            "description": "XGBClassifier(max_depth=15, objective='multi:softprob')",
            "description_tooltip": null,
            "disabled": false,
            "indent": false,
            "layout": "IPY_MODEL_fb1dfbf19a434bcb9b10c7c2aa438ef5",
            "style": "IPY_MODEL_68c066a09419401f854e1339d1aaedd4",
            "value": false
          }
        },
        "fb1dfbf19a434bcb9b10c7c2aa438ef5": {
          "model_module": "@jupyter-widgets/base",
          "model_name": "LayoutModel",
          "model_module_version": "1.2.0",
          "state": {
            "_model_module": "@jupyter-widgets/base",
            "_model_module_version": "1.2.0",
            "_model_name": "LayoutModel",
            "_view_count": null,
            "_view_module": "@jupyter-widgets/base",
            "_view_module_version": "1.2.0",
            "_view_name": "LayoutView",
            "align_content": null,
            "align_items": null,
            "align_self": null,
            "border": null,
            "bottom": null,
            "display": null,
            "flex": null,
            "flex_flow": null,
            "grid_area": null,
            "grid_auto_columns": null,
            "grid_auto_flow": null,
            "grid_auto_rows": null,
            "grid_column": null,
            "grid_gap": null,
            "grid_row": null,
            "grid_template_areas": null,
            "grid_template_columns": null,
            "grid_template_rows": null,
            "height": null,
            "justify_content": null,
            "justify_items": null,
            "left": null,
            "margin": null,
            "max_height": null,
            "max_width": null,
            "min_height": null,
            "min_width": null,
            "object_fit": null,
            "object_position": null,
            "order": null,
            "overflow": null,
            "overflow_x": null,
            "overflow_y": null,
            "padding": null,
            "right": null,
            "top": null,
            "visibility": null,
            "width": null
          }
        },
        "68c066a09419401f854e1339d1aaedd4": {
          "model_module": "@jupyter-widgets/controls",
          "model_name": "DescriptionStyleModel",
          "model_module_version": "1.5.0",
          "state": {
            "_model_module": "@jupyter-widgets/controls",
            "_model_module_version": "1.5.0",
            "_model_name": "DescriptionStyleModel",
            "_view_count": null,
            "_view_module": "@jupyter-widgets/base",
            "_view_module_version": "1.2.0",
            "_view_name": "StyleView",
            "description_width": ""
          }
        },
        "cbb5b15d6770436886ad06e45b7403a2": {
          "model_module": "@jupyter-widgets/controls",
          "model_name": "CheckboxModel",
          "model_module_version": "1.5.0",
          "state": {
            "_dom_classes": [],
            "_model_module": "@jupyter-widgets/controls",
            "_model_module_version": "1.5.0",
            "_model_name": "CheckboxModel",
            "_view_count": null,
            "_view_module": "@jupyter-widgets/controls",
            "_view_module_version": "1.5.0",
            "_view_name": "CheckboxView",
            "description": "XGBClassifier(n_estimators=233, objective='multi:softprob')",
            "description_tooltip": null,
            "disabled": false,
            "indent": false,
            "layout": "IPY_MODEL_8af244f24ac542fc8ac81d19bd412288",
            "style": "IPY_MODEL_bfdb2def3e28490e92e6f3882a6d7f52",
            "value": false
          }
        },
        "8af244f24ac542fc8ac81d19bd412288": {
          "model_module": "@jupyter-widgets/base",
          "model_name": "LayoutModel",
          "model_module_version": "1.2.0",
          "state": {
            "_model_module": "@jupyter-widgets/base",
            "_model_module_version": "1.2.0",
            "_model_name": "LayoutModel",
            "_view_count": null,
            "_view_module": "@jupyter-widgets/base",
            "_view_module_version": "1.2.0",
            "_view_name": "LayoutView",
            "align_content": null,
            "align_items": null,
            "align_self": null,
            "border": null,
            "bottom": null,
            "display": null,
            "flex": null,
            "flex_flow": null,
            "grid_area": null,
            "grid_auto_columns": null,
            "grid_auto_flow": null,
            "grid_auto_rows": null,
            "grid_column": null,
            "grid_gap": null,
            "grid_row": null,
            "grid_template_areas": null,
            "grid_template_columns": null,
            "grid_template_rows": null,
            "height": null,
            "justify_content": null,
            "justify_items": null,
            "left": null,
            "margin": null,
            "max_height": null,
            "max_width": null,
            "min_height": null,
            "min_width": null,
            "object_fit": null,
            "object_position": null,
            "order": null,
            "overflow": null,
            "overflow_x": null,
            "overflow_y": null,
            "padding": null,
            "right": null,
            "top": null,
            "visibility": null,
            "width": null
          }
        },
        "bfdb2def3e28490e92e6f3882a6d7f52": {
          "model_module": "@jupyter-widgets/controls",
          "model_name": "DescriptionStyleModel",
          "model_module_version": "1.5.0",
          "state": {
            "_model_module": "@jupyter-widgets/controls",
            "_model_module_version": "1.5.0",
            "_model_name": "DescriptionStyleModel",
            "_view_count": null,
            "_view_module": "@jupyter-widgets/base",
            "_view_module_version": "1.2.0",
            "_view_name": "StyleView",
            "description_width": ""
          }
        },
        "f66e53b89d8a4ff5bcb243a48e47c62f": {
          "model_module": "@jupyter-widgets/controls",
          "model_name": "CheckboxModel",
          "model_module_version": "1.5.0",
          "state": {
            "_dom_classes": [],
            "_model_module": "@jupyter-widgets/controls",
            "_model_module_version": "1.5.0",
            "_model_name": "CheckboxModel",
            "_view_count": null,
            "_view_module": "@jupyter-widgets/controls",
            "_view_module_version": "1.5.0",
            "_view_name": "CheckboxView",
            "description": "XGBClassifier(max_depth=15, n_estimators=233, objective='multi:softprob')",
            "description_tooltip": null,
            "disabled": false,
            "indent": false,
            "layout": "IPY_MODEL_adc0d029aff64e618813cd4b887be4ee",
            "style": "IPY_MODEL_b7d4f12fa2ea48dd863de4d9f93ab1d1",
            "value": false
          }
        },
        "adc0d029aff64e618813cd4b887be4ee": {
          "model_module": "@jupyter-widgets/base",
          "model_name": "LayoutModel",
          "model_module_version": "1.2.0",
          "state": {
            "_model_module": "@jupyter-widgets/base",
            "_model_module_version": "1.2.0",
            "_model_name": "LayoutModel",
            "_view_count": null,
            "_view_module": "@jupyter-widgets/base",
            "_view_module_version": "1.2.0",
            "_view_name": "LayoutView",
            "align_content": null,
            "align_items": null,
            "align_self": null,
            "border": null,
            "bottom": null,
            "display": null,
            "flex": null,
            "flex_flow": null,
            "grid_area": null,
            "grid_auto_columns": null,
            "grid_auto_flow": null,
            "grid_auto_rows": null,
            "grid_column": null,
            "grid_gap": null,
            "grid_row": null,
            "grid_template_areas": null,
            "grid_template_columns": null,
            "grid_template_rows": null,
            "height": null,
            "justify_content": null,
            "justify_items": null,
            "left": null,
            "margin": null,
            "max_height": null,
            "max_width": null,
            "min_height": null,
            "min_width": null,
            "object_fit": null,
            "object_position": null,
            "order": null,
            "overflow": null,
            "overflow_x": null,
            "overflow_y": null,
            "padding": null,
            "right": null,
            "top": null,
            "visibility": null,
            "width": null
          }
        },
        "b7d4f12fa2ea48dd863de4d9f93ab1d1": {
          "model_module": "@jupyter-widgets/controls",
          "model_name": "DescriptionStyleModel",
          "model_module_version": "1.5.0",
          "state": {
            "_model_module": "@jupyter-widgets/controls",
            "_model_module_version": "1.5.0",
            "_model_name": "DescriptionStyleModel",
            "_view_count": null,
            "_view_module": "@jupyter-widgets/base",
            "_view_module_version": "1.2.0",
            "_view_name": "StyleView",
            "description_width": ""
          }
        },
        "4e0245622f624652a04d6691887f9d43": {
          "model_module": "@jupyter-widgets/controls",
          "model_name": "CheckboxModel",
          "model_module_version": "1.5.0",
          "state": {
            "_dom_classes": [],
            "_model_module": "@jupyter-widgets/controls",
            "_model_module_version": "1.5.0",
            "_model_name": "CheckboxModel",
            "_view_count": null,
            "_view_module": "@jupyter-widgets/controls",
            "_view_module_version": "1.5.0",
            "_view_name": "CheckboxView",
            "description": "KNeighborsClassifier()",
            "description_tooltip": null,
            "disabled": false,
            "indent": false,
            "layout": "IPY_MODEL_7c8f902461ed4dfc92edbf0f434a4b77",
            "style": "IPY_MODEL_1fbb680dabfb4721b006c304486f1833",
            "value": false
          }
        },
        "7c8f902461ed4dfc92edbf0f434a4b77": {
          "model_module": "@jupyter-widgets/base",
          "model_name": "LayoutModel",
          "model_module_version": "1.2.0",
          "state": {
            "_model_module": "@jupyter-widgets/base",
            "_model_module_version": "1.2.0",
            "_model_name": "LayoutModel",
            "_view_count": null,
            "_view_module": "@jupyter-widgets/base",
            "_view_module_version": "1.2.0",
            "_view_name": "LayoutView",
            "align_content": null,
            "align_items": null,
            "align_self": null,
            "border": null,
            "bottom": null,
            "display": null,
            "flex": null,
            "flex_flow": null,
            "grid_area": null,
            "grid_auto_columns": null,
            "grid_auto_flow": null,
            "grid_auto_rows": null,
            "grid_column": null,
            "grid_gap": null,
            "grid_row": null,
            "grid_template_areas": null,
            "grid_template_columns": null,
            "grid_template_rows": null,
            "height": null,
            "justify_content": null,
            "justify_items": null,
            "left": null,
            "margin": null,
            "max_height": null,
            "max_width": null,
            "min_height": null,
            "min_width": null,
            "object_fit": null,
            "object_position": null,
            "order": null,
            "overflow": null,
            "overflow_x": null,
            "overflow_y": null,
            "padding": null,
            "right": null,
            "top": null,
            "visibility": null,
            "width": null
          }
        },
        "1fbb680dabfb4721b006c304486f1833": {
          "model_module": "@jupyter-widgets/controls",
          "model_name": "DescriptionStyleModel",
          "model_module_version": "1.5.0",
          "state": {
            "_model_module": "@jupyter-widgets/controls",
            "_model_module_version": "1.5.0",
            "_model_name": "DescriptionStyleModel",
            "_view_count": null,
            "_view_module": "@jupyter-widgets/base",
            "_view_module_version": "1.2.0",
            "_view_name": "StyleView",
            "description_width": ""
          }
        },
        "3390d31bd155453f9d70f59cf08b64fd": {
          "model_module": "@jupyter-widgets/controls",
          "model_name": "CheckboxModel",
          "model_module_version": "1.5.0",
          "state": {
            "_dom_classes": [],
            "_model_module": "@jupyter-widgets/controls",
            "_model_module_version": "1.5.0",
            "_model_name": "CheckboxModel",
            "_view_count": null,
            "_view_module": "@jupyter-widgets/controls",
            "_view_module_version": "1.5.0",
            "_view_name": "CheckboxView",
            "description": "KNeighborsClassifier(n_neighbors=1)",
            "description_tooltip": null,
            "disabled": false,
            "indent": false,
            "layout": "IPY_MODEL_89b15f3d9830453b91a8847020b53750",
            "style": "IPY_MODEL_934d75a4e2dd4999bba98718b5391ef6",
            "value": false
          }
        },
        "89b15f3d9830453b91a8847020b53750": {
          "model_module": "@jupyter-widgets/base",
          "model_name": "LayoutModel",
          "model_module_version": "1.2.0",
          "state": {
            "_model_module": "@jupyter-widgets/base",
            "_model_module_version": "1.2.0",
            "_model_name": "LayoutModel",
            "_view_count": null,
            "_view_module": "@jupyter-widgets/base",
            "_view_module_version": "1.2.0",
            "_view_name": "LayoutView",
            "align_content": null,
            "align_items": null,
            "align_self": null,
            "border": null,
            "bottom": null,
            "display": null,
            "flex": null,
            "flex_flow": null,
            "grid_area": null,
            "grid_auto_columns": null,
            "grid_auto_flow": null,
            "grid_auto_rows": null,
            "grid_column": null,
            "grid_gap": null,
            "grid_row": null,
            "grid_template_areas": null,
            "grid_template_columns": null,
            "grid_template_rows": null,
            "height": null,
            "justify_content": null,
            "justify_items": null,
            "left": null,
            "margin": null,
            "max_height": null,
            "max_width": null,
            "min_height": null,
            "min_width": null,
            "object_fit": null,
            "object_position": null,
            "order": null,
            "overflow": null,
            "overflow_x": null,
            "overflow_y": null,
            "padding": null,
            "right": null,
            "top": null,
            "visibility": null,
            "width": null
          }
        },
        "934d75a4e2dd4999bba98718b5391ef6": {
          "model_module": "@jupyter-widgets/controls",
          "model_name": "DescriptionStyleModel",
          "model_module_version": "1.5.0",
          "state": {
            "_model_module": "@jupyter-widgets/controls",
            "_model_module_version": "1.5.0",
            "_model_name": "DescriptionStyleModel",
            "_view_count": null,
            "_view_module": "@jupyter-widgets/base",
            "_view_module_version": "1.2.0",
            "_view_name": "StyleView",
            "description_width": ""
          }
        },
        "854bc7f182884b2d8ce4fee2de184d72": {
          "model_module": "@jupyter-widgets/controls",
          "model_name": "CheckboxModel",
          "model_module_version": "1.5.0",
          "state": {
            "_dom_classes": [],
            "_model_module": "@jupyter-widgets/controls",
            "_model_module_version": "1.5.0",
            "_model_name": "CheckboxModel",
            "_view_count": null,
            "_view_module": "@jupyter-widgets/controls",
            "_view_module_version": "1.5.0",
            "_view_name": "CheckboxView",
            "description": "GaussianNB()",
            "description_tooltip": null,
            "disabled": false,
            "indent": false,
            "layout": "IPY_MODEL_bbcfc079d5184bc982c7465aa1409c28",
            "style": "IPY_MODEL_38a47e2fe1c94e6a86ebdc89d3ca9e32",
            "value": false
          }
        },
        "bbcfc079d5184bc982c7465aa1409c28": {
          "model_module": "@jupyter-widgets/base",
          "model_name": "LayoutModel",
          "model_module_version": "1.2.0",
          "state": {
            "_model_module": "@jupyter-widgets/base",
            "_model_module_version": "1.2.0",
            "_model_name": "LayoutModel",
            "_view_count": null,
            "_view_module": "@jupyter-widgets/base",
            "_view_module_version": "1.2.0",
            "_view_name": "LayoutView",
            "align_content": null,
            "align_items": null,
            "align_self": null,
            "border": null,
            "bottom": null,
            "display": null,
            "flex": null,
            "flex_flow": null,
            "grid_area": null,
            "grid_auto_columns": null,
            "grid_auto_flow": null,
            "grid_auto_rows": null,
            "grid_column": null,
            "grid_gap": null,
            "grid_row": null,
            "grid_template_areas": null,
            "grid_template_columns": null,
            "grid_template_rows": null,
            "height": null,
            "justify_content": null,
            "justify_items": null,
            "left": null,
            "margin": null,
            "max_height": null,
            "max_width": null,
            "min_height": null,
            "min_width": null,
            "object_fit": null,
            "object_position": null,
            "order": null,
            "overflow": null,
            "overflow_x": null,
            "overflow_y": null,
            "padding": null,
            "right": null,
            "top": null,
            "visibility": null,
            "width": null
          }
        },
        "38a47e2fe1c94e6a86ebdc89d3ca9e32": {
          "model_module": "@jupyter-widgets/controls",
          "model_name": "DescriptionStyleModel",
          "model_module_version": "1.5.0",
          "state": {
            "_model_module": "@jupyter-widgets/controls",
            "_model_module_version": "1.5.0",
            "_model_name": "DescriptionStyleModel",
            "_view_count": null,
            "_view_module": "@jupyter-widgets/base",
            "_view_module_version": "1.2.0",
            "_view_name": "StyleView",
            "description_width": ""
          }
        },
        "6a725f98d44447949a64259cf271bd41": {
          "model_module": "@jupyter-widgets/controls",
          "model_name": "CheckboxModel",
          "model_module_version": "1.5.0",
          "state": {
            "_dom_classes": [],
            "_model_module": "@jupyter-widgets/controls",
            "_model_module_version": "1.5.0",
            "_model_name": "CheckboxModel",
            "_view_count": null,
            "_view_module": "@jupyter-widgets/controls",
            "_view_module_version": "1.5.0",
            "_view_name": "CheckboxView",
            "description": "AdaBoostClassifier(random_state=0)",
            "description_tooltip": null,
            "disabled": false,
            "indent": false,
            "layout": "IPY_MODEL_708bc401e7db41a781245e322306aaed",
            "style": "IPY_MODEL_e27493ac03d44ee89b2da19ce2655552",
            "value": false
          }
        },
        "708bc401e7db41a781245e322306aaed": {
          "model_module": "@jupyter-widgets/base",
          "model_name": "LayoutModel",
          "model_module_version": "1.2.0",
          "state": {
            "_model_module": "@jupyter-widgets/base",
            "_model_module_version": "1.2.0",
            "_model_name": "LayoutModel",
            "_view_count": null,
            "_view_module": "@jupyter-widgets/base",
            "_view_module_version": "1.2.0",
            "_view_name": "LayoutView",
            "align_content": null,
            "align_items": null,
            "align_self": null,
            "border": null,
            "bottom": null,
            "display": null,
            "flex": null,
            "flex_flow": null,
            "grid_area": null,
            "grid_auto_columns": null,
            "grid_auto_flow": null,
            "grid_auto_rows": null,
            "grid_column": null,
            "grid_gap": null,
            "grid_row": null,
            "grid_template_areas": null,
            "grid_template_columns": null,
            "grid_template_rows": null,
            "height": null,
            "justify_content": null,
            "justify_items": null,
            "left": null,
            "margin": null,
            "max_height": null,
            "max_width": null,
            "min_height": null,
            "min_width": null,
            "object_fit": null,
            "object_position": null,
            "order": null,
            "overflow": null,
            "overflow_x": null,
            "overflow_y": null,
            "padding": null,
            "right": null,
            "top": null,
            "visibility": null,
            "width": null
          }
        },
        "e27493ac03d44ee89b2da19ce2655552": {
          "model_module": "@jupyter-widgets/controls",
          "model_name": "DescriptionStyleModel",
          "model_module_version": "1.5.0",
          "state": {
            "_model_module": "@jupyter-widgets/controls",
            "_model_module_version": "1.5.0",
            "_model_name": "DescriptionStyleModel",
            "_view_count": null,
            "_view_module": "@jupyter-widgets/base",
            "_view_module_version": "1.2.0",
            "_view_name": "StyleView",
            "description_width": ""
          }
        },
        "0b5a965409e347f9b3fc68aa44b7ce31": {
          "model_module": "@jupyter-widgets/controls",
          "model_name": "CheckboxModel",
          "model_module_version": "1.5.0",
          "state": {
            "_dom_classes": [],
            "_model_module": "@jupyter-widgets/controls",
            "_model_module_version": "1.5.0",
            "_model_name": "CheckboxModel",
            "_view_count": null,
            "_view_module": "@jupyter-widgets/controls",
            "_view_module_version": "1.5.0",
            "_view_name": "CheckboxView",
            "description": "AdaBoostClassifier(n_estimators=39, random_state=0)",
            "description_tooltip": null,
            "disabled": false,
            "indent": false,
            "layout": "IPY_MODEL_f30605aec33b4deb8e5075dbb7089dec",
            "style": "IPY_MODEL_7a65883468ea4be89a1c6fcc4dd3406d",
            "value": false
          }
        },
        "f30605aec33b4deb8e5075dbb7089dec": {
          "model_module": "@jupyter-widgets/base",
          "model_name": "LayoutModel",
          "model_module_version": "1.2.0",
          "state": {
            "_model_module": "@jupyter-widgets/base",
            "_model_module_version": "1.2.0",
            "_model_name": "LayoutModel",
            "_view_count": null,
            "_view_module": "@jupyter-widgets/base",
            "_view_module_version": "1.2.0",
            "_view_name": "LayoutView",
            "align_content": null,
            "align_items": null,
            "align_self": null,
            "border": null,
            "bottom": null,
            "display": null,
            "flex": null,
            "flex_flow": null,
            "grid_area": null,
            "grid_auto_columns": null,
            "grid_auto_flow": null,
            "grid_auto_rows": null,
            "grid_column": null,
            "grid_gap": null,
            "grid_row": null,
            "grid_template_areas": null,
            "grid_template_columns": null,
            "grid_template_rows": null,
            "height": null,
            "justify_content": null,
            "justify_items": null,
            "left": null,
            "margin": null,
            "max_height": null,
            "max_width": null,
            "min_height": null,
            "min_width": null,
            "object_fit": null,
            "object_position": null,
            "order": null,
            "overflow": null,
            "overflow_x": null,
            "overflow_y": null,
            "padding": null,
            "right": null,
            "top": null,
            "visibility": null,
            "width": null
          }
        },
        "7a65883468ea4be89a1c6fcc4dd3406d": {
          "model_module": "@jupyter-widgets/controls",
          "model_name": "DescriptionStyleModel",
          "model_module_version": "1.5.0",
          "state": {
            "_model_module": "@jupyter-widgets/controls",
            "_model_module_version": "1.5.0",
            "_model_name": "DescriptionStyleModel",
            "_view_count": null,
            "_view_module": "@jupyter-widgets/base",
            "_view_module_version": "1.2.0",
            "_view_name": "StyleView",
            "description_width": ""
          }
        },
        "46673226defe42c0a206736b1e43a751": {
          "model_module": "@jupyter-widgets/controls",
          "model_name": "CheckboxModel",
          "model_module_version": "1.5.0",
          "state": {
            "_dom_classes": [],
            "_model_module": "@jupyter-widgets/controls",
            "_model_module_version": "1.5.0",
            "_model_name": "CheckboxModel",
            "_view_count": null,
            "_view_module": "@jupyter-widgets/controls",
            "_view_module_version": "1.5.0",
            "_view_name": "CheckboxView",
            "description": "GradientBoostingClassifier(random_state=0)",
            "description_tooltip": null,
            "disabled": false,
            "indent": false,
            "layout": "IPY_MODEL_87e56ebfa0fc45c18d866a96b7fce2a7",
            "style": "IPY_MODEL_39fd532a6b0c464abc8c705b1c8dffa9",
            "value": false
          }
        },
        "87e56ebfa0fc45c18d866a96b7fce2a7": {
          "model_module": "@jupyter-widgets/base",
          "model_name": "LayoutModel",
          "model_module_version": "1.2.0",
          "state": {
            "_model_module": "@jupyter-widgets/base",
            "_model_module_version": "1.2.0",
            "_model_name": "LayoutModel",
            "_view_count": null,
            "_view_module": "@jupyter-widgets/base",
            "_view_module_version": "1.2.0",
            "_view_name": "LayoutView",
            "align_content": null,
            "align_items": null,
            "align_self": null,
            "border": null,
            "bottom": null,
            "display": null,
            "flex": null,
            "flex_flow": null,
            "grid_area": null,
            "grid_auto_columns": null,
            "grid_auto_flow": null,
            "grid_auto_rows": null,
            "grid_column": null,
            "grid_gap": null,
            "grid_row": null,
            "grid_template_areas": null,
            "grid_template_columns": null,
            "grid_template_rows": null,
            "height": null,
            "justify_content": null,
            "justify_items": null,
            "left": null,
            "margin": null,
            "max_height": null,
            "max_width": null,
            "min_height": null,
            "min_width": null,
            "object_fit": null,
            "object_position": null,
            "order": null,
            "overflow": null,
            "overflow_x": null,
            "overflow_y": null,
            "padding": null,
            "right": null,
            "top": null,
            "visibility": null,
            "width": null
          }
        },
        "39fd532a6b0c464abc8c705b1c8dffa9": {
          "model_module": "@jupyter-widgets/controls",
          "model_name": "DescriptionStyleModel",
          "model_module_version": "1.5.0",
          "state": {
            "_model_module": "@jupyter-widgets/controls",
            "_model_module_version": "1.5.0",
            "_model_name": "DescriptionStyleModel",
            "_view_count": null,
            "_view_module": "@jupyter-widgets/base",
            "_view_module_version": "1.2.0",
            "_view_name": "StyleView",
            "description_width": ""
          }
        },
        "a2363eaae3d34a46833d43b89da34d59": {
          "model_module": "@jupyter-widgets/controls",
          "model_name": "CheckboxModel",
          "model_module_version": "1.5.0",
          "state": {
            "_dom_classes": [],
            "_model_module": "@jupyter-widgets/controls",
            "_model_module_version": "1.5.0",
            "_model_name": "CheckboxModel",
            "_view_count": null,
            "_view_module": "@jupyter-widgets/controls",
            "_view_module_version": "1.5.0",
            "_view_name": "CheckboxView",
            "description": "GradientBoostingClassifier(n_estimators=41, random_state=0)",
            "description_tooltip": null,
            "disabled": false,
            "indent": false,
            "layout": "IPY_MODEL_d7aeae3380a8441dbe81d930532d4a6b",
            "style": "IPY_MODEL_e076ec137d7f48f8940a1e381597fc9f",
            "value": false
          }
        },
        "d7aeae3380a8441dbe81d930532d4a6b": {
          "model_module": "@jupyter-widgets/base",
          "model_name": "LayoutModel",
          "model_module_version": "1.2.0",
          "state": {
            "_model_module": "@jupyter-widgets/base",
            "_model_module_version": "1.2.0",
            "_model_name": "LayoutModel",
            "_view_count": null,
            "_view_module": "@jupyter-widgets/base",
            "_view_module_version": "1.2.0",
            "_view_name": "LayoutView",
            "align_content": null,
            "align_items": null,
            "align_self": null,
            "border": null,
            "bottom": null,
            "display": null,
            "flex": null,
            "flex_flow": null,
            "grid_area": null,
            "grid_auto_columns": null,
            "grid_auto_flow": null,
            "grid_auto_rows": null,
            "grid_column": null,
            "grid_gap": null,
            "grid_row": null,
            "grid_template_areas": null,
            "grid_template_columns": null,
            "grid_template_rows": null,
            "height": null,
            "justify_content": null,
            "justify_items": null,
            "left": null,
            "margin": null,
            "max_height": null,
            "max_width": null,
            "min_height": null,
            "min_width": null,
            "object_fit": null,
            "object_position": null,
            "order": null,
            "overflow": null,
            "overflow_x": null,
            "overflow_y": null,
            "padding": null,
            "right": null,
            "top": null,
            "visibility": null,
            "width": null
          }
        },
        "e076ec137d7f48f8940a1e381597fc9f": {
          "model_module": "@jupyter-widgets/controls",
          "model_name": "DescriptionStyleModel",
          "model_module_version": "1.5.0",
          "state": {
            "_model_module": "@jupyter-widgets/controls",
            "_model_module_version": "1.5.0",
            "_model_name": "DescriptionStyleModel",
            "_view_count": null,
            "_view_module": "@jupyter-widgets/base",
            "_view_module_version": "1.2.0",
            "_view_name": "StyleView",
            "description_width": ""
          }
        },
        "0fa4700c89984c99a4d3013b23b3d176": {
          "model_module": "@jupyter-widgets/controls",
          "model_name": "CheckboxModel",
          "model_module_version": "1.5.0",
          "state": {
            "_dom_classes": [],
            "_model_module": "@jupyter-widgets/controls",
            "_model_module_version": "1.5.0",
            "_model_name": "CheckboxModel",
            "_view_count": null,
            "_view_module": "@jupyter-widgets/controls",
            "_view_module_version": "1.5.0",
            "_view_name": "CheckboxView",
            "description": "GradientBoostingClassifier(max_depth=11, random_state=0)",
            "description_tooltip": null,
            "disabled": false,
            "indent": false,
            "layout": "IPY_MODEL_b815a620adf34b9bb4a2e35afc5dc5cd",
            "style": "IPY_MODEL_dd150e57355f47c39bdb86a613c4d6bd",
            "value": false
          }
        },
        "b815a620adf34b9bb4a2e35afc5dc5cd": {
          "model_module": "@jupyter-widgets/base",
          "model_name": "LayoutModel",
          "model_module_version": "1.2.0",
          "state": {
            "_model_module": "@jupyter-widgets/base",
            "_model_module_version": "1.2.0",
            "_model_name": "LayoutModel",
            "_view_count": null,
            "_view_module": "@jupyter-widgets/base",
            "_view_module_version": "1.2.0",
            "_view_name": "LayoutView",
            "align_content": null,
            "align_items": null,
            "align_self": null,
            "border": null,
            "bottom": null,
            "display": null,
            "flex": null,
            "flex_flow": null,
            "grid_area": null,
            "grid_auto_columns": null,
            "grid_auto_flow": null,
            "grid_auto_rows": null,
            "grid_column": null,
            "grid_gap": null,
            "grid_row": null,
            "grid_template_areas": null,
            "grid_template_columns": null,
            "grid_template_rows": null,
            "height": null,
            "justify_content": null,
            "justify_items": null,
            "left": null,
            "margin": null,
            "max_height": null,
            "max_width": null,
            "min_height": null,
            "min_width": null,
            "object_fit": null,
            "object_position": null,
            "order": null,
            "overflow": null,
            "overflow_x": null,
            "overflow_y": null,
            "padding": null,
            "right": null,
            "top": null,
            "visibility": null,
            "width": null
          }
        },
        "dd150e57355f47c39bdb86a613c4d6bd": {
          "model_module": "@jupyter-widgets/controls",
          "model_name": "DescriptionStyleModel",
          "model_module_version": "1.5.0",
          "state": {
            "_model_module": "@jupyter-widgets/controls",
            "_model_module_version": "1.5.0",
            "_model_name": "DescriptionStyleModel",
            "_view_count": null,
            "_view_module": "@jupyter-widgets/base",
            "_view_module_version": "1.2.0",
            "_view_name": "StyleView",
            "description_width": ""
          }
        },
        "1010d4cff4514b29a44a68acb52fa921": {
          "model_module": "@jupyter-widgets/controls",
          "model_name": "CheckboxModel",
          "model_module_version": "1.5.0",
          "state": {
            "_dom_classes": [],
            "_model_module": "@jupyter-widgets/controls",
            "_model_module_version": "1.5.0",
            "_model_name": "CheckboxModel",
            "_view_count": null,
            "_view_module": "@jupyter-widgets/controls",
            "_view_module_version": "1.5.0",
            "_view_name": "CheckboxView",
            "description": "GradientBoostingClassifier(max_depth=11, n_estimators=41, random_state=0)",
            "description_tooltip": null,
            "disabled": false,
            "indent": false,
            "layout": "IPY_MODEL_3073e021501f41dca5608228216412ee",
            "style": "IPY_MODEL_b5735e64d470419885d9cb0e30eb27ad",
            "value": false
          }
        },
        "3073e021501f41dca5608228216412ee": {
          "model_module": "@jupyter-widgets/base",
          "model_name": "LayoutModel",
          "model_module_version": "1.2.0",
          "state": {
            "_model_module": "@jupyter-widgets/base",
            "_model_module_version": "1.2.0",
            "_model_name": "LayoutModel",
            "_view_count": null,
            "_view_module": "@jupyter-widgets/base",
            "_view_module_version": "1.2.0",
            "_view_name": "LayoutView",
            "align_content": null,
            "align_items": null,
            "align_self": null,
            "border": null,
            "bottom": null,
            "display": null,
            "flex": null,
            "flex_flow": null,
            "grid_area": null,
            "grid_auto_columns": null,
            "grid_auto_flow": null,
            "grid_auto_rows": null,
            "grid_column": null,
            "grid_gap": null,
            "grid_row": null,
            "grid_template_areas": null,
            "grid_template_columns": null,
            "grid_template_rows": null,
            "height": null,
            "justify_content": null,
            "justify_items": null,
            "left": null,
            "margin": null,
            "max_height": null,
            "max_width": null,
            "min_height": null,
            "min_width": null,
            "object_fit": null,
            "object_position": null,
            "order": null,
            "overflow": null,
            "overflow_x": null,
            "overflow_y": null,
            "padding": null,
            "right": null,
            "top": null,
            "visibility": null,
            "width": null
          }
        },
        "b5735e64d470419885d9cb0e30eb27ad": {
          "model_module": "@jupyter-widgets/controls",
          "model_name": "DescriptionStyleModel",
          "model_module_version": "1.5.0",
          "state": {
            "_model_module": "@jupyter-widgets/controls",
            "_model_module_version": "1.5.0",
            "_model_name": "DescriptionStyleModel",
            "_view_count": null,
            "_view_module": "@jupyter-widgets/base",
            "_view_module_version": "1.2.0",
            "_view_name": "StyleView",
            "description_width": ""
          }
        },
        "db55cd2047c349e8a2481d06df4a9621": {
          "model_module": "@jupyter-widgets/controls",
          "model_name": "CheckboxModel",
          "model_module_version": "1.5.0",
          "state": {
            "_dom_classes": [],
            "_model_module": "@jupyter-widgets/controls",
            "_model_module_version": "1.5.0",
            "_model_name": "CheckboxModel",
            "_view_count": null,
            "_view_module": "@jupyter-widgets/controls",
            "_view_module_version": "1.5.0",
            "_view_name": "CheckboxView",
            "description": "RandomForestClassifier(random_state=0)",
            "description_tooltip": null,
            "disabled": false,
            "indent": false,
            "layout": "IPY_MODEL_c20e89d3ce7c44bda4f5d1fb2e68b565",
            "style": "IPY_MODEL_9d6c3b0318c646c6a77a179f8ac6d929",
            "value": false
          }
        },
        "c20e89d3ce7c44bda4f5d1fb2e68b565": {
          "model_module": "@jupyter-widgets/base",
          "model_name": "LayoutModel",
          "model_module_version": "1.2.0",
          "state": {
            "_model_module": "@jupyter-widgets/base",
            "_model_module_version": "1.2.0",
            "_model_name": "LayoutModel",
            "_view_count": null,
            "_view_module": "@jupyter-widgets/base",
            "_view_module_version": "1.2.0",
            "_view_name": "LayoutView",
            "align_content": null,
            "align_items": null,
            "align_self": null,
            "border": null,
            "bottom": null,
            "display": null,
            "flex": null,
            "flex_flow": null,
            "grid_area": null,
            "grid_auto_columns": null,
            "grid_auto_flow": null,
            "grid_auto_rows": null,
            "grid_column": null,
            "grid_gap": null,
            "grid_row": null,
            "grid_template_areas": null,
            "grid_template_columns": null,
            "grid_template_rows": null,
            "height": null,
            "justify_content": null,
            "justify_items": null,
            "left": null,
            "margin": null,
            "max_height": null,
            "max_width": null,
            "min_height": null,
            "min_width": null,
            "object_fit": null,
            "object_position": null,
            "order": null,
            "overflow": null,
            "overflow_x": null,
            "overflow_y": null,
            "padding": null,
            "right": null,
            "top": null,
            "visibility": null,
            "width": null
          }
        },
        "9d6c3b0318c646c6a77a179f8ac6d929": {
          "model_module": "@jupyter-widgets/controls",
          "model_name": "DescriptionStyleModel",
          "model_module_version": "1.5.0",
          "state": {
            "_model_module": "@jupyter-widgets/controls",
            "_model_module_version": "1.5.0",
            "_model_name": "DescriptionStyleModel",
            "_view_count": null,
            "_view_module": "@jupyter-widgets/base",
            "_view_module_version": "1.2.0",
            "_view_name": "StyleView",
            "description_width": ""
          }
        },
        "49b73133824f40b5afedc4686d748f19": {
          "model_module": "@jupyter-widgets/controls",
          "model_name": "CheckboxModel",
          "model_module_version": "1.5.0",
          "state": {
            "_dom_classes": [],
            "_model_module": "@jupyter-widgets/controls",
            "_model_module_version": "1.5.0",
            "_model_name": "CheckboxModel",
            "_view_count": null,
            "_view_module": "@jupyter-widgets/controls",
            "_view_module_version": "1.5.0",
            "_view_name": "CheckboxView",
            "description": "RandomForestClassifier(n_estimators=124, random_state=0)",
            "description_tooltip": null,
            "disabled": false,
            "indent": false,
            "layout": "IPY_MODEL_4a90dc9389b34800a7ebc9ffa2cf5bb1",
            "style": "IPY_MODEL_1e562f457a144138a564592de4904b41",
            "value": false
          }
        },
        "4a90dc9389b34800a7ebc9ffa2cf5bb1": {
          "model_module": "@jupyter-widgets/base",
          "model_name": "LayoutModel",
          "model_module_version": "1.2.0",
          "state": {
            "_model_module": "@jupyter-widgets/base",
            "_model_module_version": "1.2.0",
            "_model_name": "LayoutModel",
            "_view_count": null,
            "_view_module": "@jupyter-widgets/base",
            "_view_module_version": "1.2.0",
            "_view_name": "LayoutView",
            "align_content": null,
            "align_items": null,
            "align_self": null,
            "border": null,
            "bottom": null,
            "display": null,
            "flex": null,
            "flex_flow": null,
            "grid_area": null,
            "grid_auto_columns": null,
            "grid_auto_flow": null,
            "grid_auto_rows": null,
            "grid_column": null,
            "grid_gap": null,
            "grid_row": null,
            "grid_template_areas": null,
            "grid_template_columns": null,
            "grid_template_rows": null,
            "height": null,
            "justify_content": null,
            "justify_items": null,
            "left": null,
            "margin": null,
            "max_height": null,
            "max_width": null,
            "min_height": null,
            "min_width": null,
            "object_fit": null,
            "object_position": null,
            "order": null,
            "overflow": null,
            "overflow_x": null,
            "overflow_y": null,
            "padding": null,
            "right": null,
            "top": null,
            "visibility": null,
            "width": null
          }
        },
        "1e562f457a144138a564592de4904b41": {
          "model_module": "@jupyter-widgets/controls",
          "model_name": "DescriptionStyleModel",
          "model_module_version": "1.5.0",
          "state": {
            "_model_module": "@jupyter-widgets/controls",
            "_model_module_version": "1.5.0",
            "_model_name": "DescriptionStyleModel",
            "_view_count": null,
            "_view_module": "@jupyter-widgets/base",
            "_view_module_version": "1.2.0",
            "_view_name": "StyleView",
            "description_width": ""
          }
        },
        "ad09860479e544fdb4d343ca693317a3": {
          "model_module": "@jupyter-widgets/controls",
          "model_name": "CheckboxModel",
          "model_module_version": "1.5.0",
          "state": {
            "_dom_classes": [],
            "_model_module": "@jupyter-widgets/controls",
            "_model_module_version": "1.5.0",
            "_model_name": "CheckboxModel",
            "_view_count": null,
            "_view_module": "@jupyter-widgets/controls",
            "_view_module_version": "1.5.0",
            "_view_name": "CheckboxView",
            "description": "RandomForestClassifier(max_depth=18, random_state=0)",
            "description_tooltip": null,
            "disabled": false,
            "indent": false,
            "layout": "IPY_MODEL_97cb5b74da654ffa9de75aa03f3b0579",
            "style": "IPY_MODEL_190cec5255e64ac3aa7d8efa549df8ff",
            "value": false
          }
        },
        "97cb5b74da654ffa9de75aa03f3b0579": {
          "model_module": "@jupyter-widgets/base",
          "model_name": "LayoutModel",
          "model_module_version": "1.2.0",
          "state": {
            "_model_module": "@jupyter-widgets/base",
            "_model_module_version": "1.2.0",
            "_model_name": "LayoutModel",
            "_view_count": null,
            "_view_module": "@jupyter-widgets/base",
            "_view_module_version": "1.2.0",
            "_view_name": "LayoutView",
            "align_content": null,
            "align_items": null,
            "align_self": null,
            "border": null,
            "bottom": null,
            "display": null,
            "flex": null,
            "flex_flow": null,
            "grid_area": null,
            "grid_auto_columns": null,
            "grid_auto_flow": null,
            "grid_auto_rows": null,
            "grid_column": null,
            "grid_gap": null,
            "grid_row": null,
            "grid_template_areas": null,
            "grid_template_columns": null,
            "grid_template_rows": null,
            "height": null,
            "justify_content": null,
            "justify_items": null,
            "left": null,
            "margin": null,
            "max_height": null,
            "max_width": null,
            "min_height": null,
            "min_width": null,
            "object_fit": null,
            "object_position": null,
            "order": null,
            "overflow": null,
            "overflow_x": null,
            "overflow_y": null,
            "padding": null,
            "right": null,
            "top": null,
            "visibility": null,
            "width": null
          }
        },
        "190cec5255e64ac3aa7d8efa549df8ff": {
          "model_module": "@jupyter-widgets/controls",
          "model_name": "DescriptionStyleModel",
          "model_module_version": "1.5.0",
          "state": {
            "_model_module": "@jupyter-widgets/controls",
            "_model_module_version": "1.5.0",
            "_model_name": "DescriptionStyleModel",
            "_view_count": null,
            "_view_module": "@jupyter-widgets/base",
            "_view_module_version": "1.2.0",
            "_view_name": "StyleView",
            "description_width": ""
          }
        },
        "a46a09dbed184cdb843ac915450ab6d1": {
          "model_module": "@jupyter-widgets/controls",
          "model_name": "CheckboxModel",
          "model_module_version": "1.5.0",
          "state": {
            "_dom_classes": [],
            "_model_module": "@jupyter-widgets/controls",
            "_model_module_version": "1.5.0",
            "_model_name": "CheckboxModel",
            "_view_count": null,
            "_view_module": "@jupyter-widgets/controls",
            "_view_module_version": "1.5.0",
            "_view_name": "CheckboxView",
            "description": "RandomForestClassifier(max_depth=18, n_estimators=124, random_state=0)",
            "description_tooltip": null,
            "disabled": false,
            "indent": false,
            "layout": "IPY_MODEL_3f8fb290db9943aeab3df00791ba6284",
            "style": "IPY_MODEL_4409eba348174798af4a19e1c35ce5ea",
            "value": false
          }
        },
        "3f8fb290db9943aeab3df00791ba6284": {
          "model_module": "@jupyter-widgets/base",
          "model_name": "LayoutModel",
          "model_module_version": "1.2.0",
          "state": {
            "_model_module": "@jupyter-widgets/base",
            "_model_module_version": "1.2.0",
            "_model_name": "LayoutModel",
            "_view_count": null,
            "_view_module": "@jupyter-widgets/base",
            "_view_module_version": "1.2.0",
            "_view_name": "LayoutView",
            "align_content": null,
            "align_items": null,
            "align_self": null,
            "border": null,
            "bottom": null,
            "display": null,
            "flex": null,
            "flex_flow": null,
            "grid_area": null,
            "grid_auto_columns": null,
            "grid_auto_flow": null,
            "grid_auto_rows": null,
            "grid_column": null,
            "grid_gap": null,
            "grid_row": null,
            "grid_template_areas": null,
            "grid_template_columns": null,
            "grid_template_rows": null,
            "height": null,
            "justify_content": null,
            "justify_items": null,
            "left": null,
            "margin": null,
            "max_height": null,
            "max_width": null,
            "min_height": null,
            "min_width": null,
            "object_fit": null,
            "object_position": null,
            "order": null,
            "overflow": null,
            "overflow_x": null,
            "overflow_y": null,
            "padding": null,
            "right": null,
            "top": null,
            "visibility": null,
            "width": null
          }
        },
        "4409eba348174798af4a19e1c35ce5ea": {
          "model_module": "@jupyter-widgets/controls",
          "model_name": "DescriptionStyleModel",
          "model_module_version": "1.5.0",
          "state": {
            "_model_module": "@jupyter-widgets/controls",
            "_model_module_version": "1.5.0",
            "_model_name": "DescriptionStyleModel",
            "_view_count": null,
            "_view_module": "@jupyter-widgets/base",
            "_view_module_version": "1.2.0",
            "_view_name": "StyleView",
            "description_width": ""
          }
        },
        "137f24e9bedd468f89c7e04a5947df0f": {
          "model_module": "@jupyter-widgets/controls",
          "model_name": "CheckboxModel",
          "model_module_version": "1.5.0",
          "state": {
            "_dom_classes": [],
            "_model_module": "@jupyter-widgets/controls",
            "_model_module_version": "1.5.0",
            "_model_name": "CheckboxModel",
            "_view_count": null,
            "_view_module": "@jupyter-widgets/controls",
            "_view_module_version": "1.5.0",
            "_view_name": "CheckboxView",
            "description": "XGBClassifier(objective='multi:softprob')",
            "description_tooltip": null,
            "disabled": false,
            "indent": false,
            "layout": "IPY_MODEL_5ad29dfd27cb4914b46c43d06563473c",
            "style": "IPY_MODEL_899e464f67fd4eb0807d033a39be1eff",
            "value": false
          }
        },
        "5ad29dfd27cb4914b46c43d06563473c": {
          "model_module": "@jupyter-widgets/base",
          "model_name": "LayoutModel",
          "model_module_version": "1.2.0",
          "state": {
            "_model_module": "@jupyter-widgets/base",
            "_model_module_version": "1.2.0",
            "_model_name": "LayoutModel",
            "_view_count": null,
            "_view_module": "@jupyter-widgets/base",
            "_view_module_version": "1.2.0",
            "_view_name": "LayoutView",
            "align_content": null,
            "align_items": null,
            "align_self": null,
            "border": null,
            "bottom": null,
            "display": null,
            "flex": null,
            "flex_flow": null,
            "grid_area": null,
            "grid_auto_columns": null,
            "grid_auto_flow": null,
            "grid_auto_rows": null,
            "grid_column": null,
            "grid_gap": null,
            "grid_row": null,
            "grid_template_areas": null,
            "grid_template_columns": null,
            "grid_template_rows": null,
            "height": null,
            "justify_content": null,
            "justify_items": null,
            "left": null,
            "margin": null,
            "max_height": null,
            "max_width": null,
            "min_height": null,
            "min_width": null,
            "object_fit": null,
            "object_position": null,
            "order": null,
            "overflow": null,
            "overflow_x": null,
            "overflow_y": null,
            "padding": null,
            "right": null,
            "top": null,
            "visibility": null,
            "width": null
          }
        },
        "899e464f67fd4eb0807d033a39be1eff": {
          "model_module": "@jupyter-widgets/controls",
          "model_name": "DescriptionStyleModel",
          "model_module_version": "1.5.0",
          "state": {
            "_model_module": "@jupyter-widgets/controls",
            "_model_module_version": "1.5.0",
            "_model_name": "DescriptionStyleModel",
            "_view_count": null,
            "_view_module": "@jupyter-widgets/base",
            "_view_module_version": "1.2.0",
            "_view_name": "StyleView",
            "description_width": ""
          }
        },
        "09a74f8158df4b5ea83fa16f7f904f73": {
          "model_module": "@jupyter-widgets/controls",
          "model_name": "CheckboxModel",
          "model_module_version": "1.5.0",
          "state": {
            "_dom_classes": [],
            "_model_module": "@jupyter-widgets/controls",
            "_model_module_version": "1.5.0",
            "_model_name": "CheckboxModel",
            "_view_count": null,
            "_view_module": "@jupyter-widgets/controls",
            "_view_module_version": "1.5.0",
            "_view_name": "CheckboxView",
            "description": "XGBClassifier(max_depth=15, objective='multi:softprob')",
            "description_tooltip": null,
            "disabled": false,
            "indent": false,
            "layout": "IPY_MODEL_a967f37c5a5447618b19535e307ff924",
            "style": "IPY_MODEL_147598e99dd549098ecf711cae5d0015",
            "value": false
          }
        },
        "a967f37c5a5447618b19535e307ff924": {
          "model_module": "@jupyter-widgets/base",
          "model_name": "LayoutModel",
          "model_module_version": "1.2.0",
          "state": {
            "_model_module": "@jupyter-widgets/base",
            "_model_module_version": "1.2.0",
            "_model_name": "LayoutModel",
            "_view_count": null,
            "_view_module": "@jupyter-widgets/base",
            "_view_module_version": "1.2.0",
            "_view_name": "LayoutView",
            "align_content": null,
            "align_items": null,
            "align_self": null,
            "border": null,
            "bottom": null,
            "display": null,
            "flex": null,
            "flex_flow": null,
            "grid_area": null,
            "grid_auto_columns": null,
            "grid_auto_flow": null,
            "grid_auto_rows": null,
            "grid_column": null,
            "grid_gap": null,
            "grid_row": null,
            "grid_template_areas": null,
            "grid_template_columns": null,
            "grid_template_rows": null,
            "height": null,
            "justify_content": null,
            "justify_items": null,
            "left": null,
            "margin": null,
            "max_height": null,
            "max_width": null,
            "min_height": null,
            "min_width": null,
            "object_fit": null,
            "object_position": null,
            "order": null,
            "overflow": null,
            "overflow_x": null,
            "overflow_y": null,
            "padding": null,
            "right": null,
            "top": null,
            "visibility": null,
            "width": null
          }
        },
        "147598e99dd549098ecf711cae5d0015": {
          "model_module": "@jupyter-widgets/controls",
          "model_name": "DescriptionStyleModel",
          "model_module_version": "1.5.0",
          "state": {
            "_model_module": "@jupyter-widgets/controls",
            "_model_module_version": "1.5.0",
            "_model_name": "DescriptionStyleModel",
            "_view_count": null,
            "_view_module": "@jupyter-widgets/base",
            "_view_module_version": "1.2.0",
            "_view_name": "StyleView",
            "description_width": ""
          }
        },
        "4303fb3d2c694d208301cf5a7a46934d": {
          "model_module": "@jupyter-widgets/controls",
          "model_name": "CheckboxModel",
          "model_module_version": "1.5.0",
          "state": {
            "_dom_classes": [],
            "_model_module": "@jupyter-widgets/controls",
            "_model_module_version": "1.5.0",
            "_model_name": "CheckboxModel",
            "_view_count": null,
            "_view_module": "@jupyter-widgets/controls",
            "_view_module_version": "1.5.0",
            "_view_name": "CheckboxView",
            "description": "XGBClassifier(n_estimators=233, objective='multi:softprob')",
            "description_tooltip": null,
            "disabled": false,
            "indent": false,
            "layout": "IPY_MODEL_a0037288e34b499596475b89b5c01355",
            "style": "IPY_MODEL_870d9050785d4b39876c82d36196026e",
            "value": false
          }
        },
        "a0037288e34b499596475b89b5c01355": {
          "model_module": "@jupyter-widgets/base",
          "model_name": "LayoutModel",
          "model_module_version": "1.2.0",
          "state": {
            "_model_module": "@jupyter-widgets/base",
            "_model_module_version": "1.2.0",
            "_model_name": "LayoutModel",
            "_view_count": null,
            "_view_module": "@jupyter-widgets/base",
            "_view_module_version": "1.2.0",
            "_view_name": "LayoutView",
            "align_content": null,
            "align_items": null,
            "align_self": null,
            "border": null,
            "bottom": null,
            "display": null,
            "flex": null,
            "flex_flow": null,
            "grid_area": null,
            "grid_auto_columns": null,
            "grid_auto_flow": null,
            "grid_auto_rows": null,
            "grid_column": null,
            "grid_gap": null,
            "grid_row": null,
            "grid_template_areas": null,
            "grid_template_columns": null,
            "grid_template_rows": null,
            "height": null,
            "justify_content": null,
            "justify_items": null,
            "left": null,
            "margin": null,
            "max_height": null,
            "max_width": null,
            "min_height": null,
            "min_width": null,
            "object_fit": null,
            "object_position": null,
            "order": null,
            "overflow": null,
            "overflow_x": null,
            "overflow_y": null,
            "padding": null,
            "right": null,
            "top": null,
            "visibility": null,
            "width": null
          }
        },
        "870d9050785d4b39876c82d36196026e": {
          "model_module": "@jupyter-widgets/controls",
          "model_name": "DescriptionStyleModel",
          "model_module_version": "1.5.0",
          "state": {
            "_model_module": "@jupyter-widgets/controls",
            "_model_module_version": "1.5.0",
            "_model_name": "DescriptionStyleModel",
            "_view_count": null,
            "_view_module": "@jupyter-widgets/base",
            "_view_module_version": "1.2.0",
            "_view_name": "StyleView",
            "description_width": ""
          }
        },
        "4524893ced904adb9e2062e4825ae9ac": {
          "model_module": "@jupyter-widgets/controls",
          "model_name": "CheckboxModel",
          "model_module_version": "1.5.0",
          "state": {
            "_dom_classes": [],
            "_model_module": "@jupyter-widgets/controls",
            "_model_module_version": "1.5.0",
            "_model_name": "CheckboxModel",
            "_view_count": null,
            "_view_module": "@jupyter-widgets/controls",
            "_view_module_version": "1.5.0",
            "_view_name": "CheckboxView",
            "description": "XGBClassifier(max_depth=15, n_estimators=233, objective='multi:softprob')",
            "description_tooltip": null,
            "disabled": false,
            "indent": false,
            "layout": "IPY_MODEL_64cfcd79aded4acd96d7e46c24208a02",
            "style": "IPY_MODEL_59a01eea527d4a288d74bfa144a7f4b7",
            "value": false
          }
        },
        "64cfcd79aded4acd96d7e46c24208a02": {
          "model_module": "@jupyter-widgets/base",
          "model_name": "LayoutModel",
          "model_module_version": "1.2.0",
          "state": {
            "_model_module": "@jupyter-widgets/base",
            "_model_module_version": "1.2.0",
            "_model_name": "LayoutModel",
            "_view_count": null,
            "_view_module": "@jupyter-widgets/base",
            "_view_module_version": "1.2.0",
            "_view_name": "LayoutView",
            "align_content": null,
            "align_items": null,
            "align_self": null,
            "border": null,
            "bottom": null,
            "display": null,
            "flex": null,
            "flex_flow": null,
            "grid_area": null,
            "grid_auto_columns": null,
            "grid_auto_flow": null,
            "grid_auto_rows": null,
            "grid_column": null,
            "grid_gap": null,
            "grid_row": null,
            "grid_template_areas": null,
            "grid_template_columns": null,
            "grid_template_rows": null,
            "height": null,
            "justify_content": null,
            "justify_items": null,
            "left": null,
            "margin": null,
            "max_height": null,
            "max_width": null,
            "min_height": null,
            "min_width": null,
            "object_fit": null,
            "object_position": null,
            "order": null,
            "overflow": null,
            "overflow_x": null,
            "overflow_y": null,
            "padding": null,
            "right": null,
            "top": null,
            "visibility": null,
            "width": null
          }
        },
        "59a01eea527d4a288d74bfa144a7f4b7": {
          "model_module": "@jupyter-widgets/controls",
          "model_name": "DescriptionStyleModel",
          "model_module_version": "1.5.0",
          "state": {
            "_model_module": "@jupyter-widgets/controls",
            "_model_module_version": "1.5.0",
            "_model_name": "DescriptionStyleModel",
            "_view_count": null,
            "_view_module": "@jupyter-widgets/base",
            "_view_module_version": "1.2.0",
            "_view_name": "StyleView",
            "description_width": ""
          }
        },
        "a219426e609a44bd858737f5a6adab12": {
          "model_module": "@jupyter-widgets/controls",
          "model_name": "CheckboxModel",
          "model_module_version": "1.5.0",
          "state": {
            "_dom_classes": [],
            "_model_module": "@jupyter-widgets/controls",
            "_model_module_version": "1.5.0",
            "_model_name": "CheckboxModel",
            "_view_count": null,
            "_view_module": "@jupyter-widgets/controls",
            "_view_module_version": "1.5.0",
            "_view_name": "CheckboxView",
            "description": "KNeighborsClassifier()",
            "description_tooltip": null,
            "disabled": false,
            "indent": false,
            "layout": "IPY_MODEL_787e0475da2e4823a49cd01cdca29823",
            "style": "IPY_MODEL_2c3c2782a10148888bdab8034afcdb4d",
            "value": false
          }
        },
        "787e0475da2e4823a49cd01cdca29823": {
          "model_module": "@jupyter-widgets/base",
          "model_name": "LayoutModel",
          "model_module_version": "1.2.0",
          "state": {
            "_model_module": "@jupyter-widgets/base",
            "_model_module_version": "1.2.0",
            "_model_name": "LayoutModel",
            "_view_count": null,
            "_view_module": "@jupyter-widgets/base",
            "_view_module_version": "1.2.0",
            "_view_name": "LayoutView",
            "align_content": null,
            "align_items": null,
            "align_self": null,
            "border": null,
            "bottom": null,
            "display": null,
            "flex": null,
            "flex_flow": null,
            "grid_area": null,
            "grid_auto_columns": null,
            "grid_auto_flow": null,
            "grid_auto_rows": null,
            "grid_column": null,
            "grid_gap": null,
            "grid_row": null,
            "grid_template_areas": null,
            "grid_template_columns": null,
            "grid_template_rows": null,
            "height": null,
            "justify_content": null,
            "justify_items": null,
            "left": null,
            "margin": null,
            "max_height": null,
            "max_width": null,
            "min_height": null,
            "min_width": null,
            "object_fit": null,
            "object_position": null,
            "order": null,
            "overflow": null,
            "overflow_x": null,
            "overflow_y": null,
            "padding": null,
            "right": null,
            "top": null,
            "visibility": null,
            "width": null
          }
        },
        "2c3c2782a10148888bdab8034afcdb4d": {
          "model_module": "@jupyter-widgets/controls",
          "model_name": "DescriptionStyleModel",
          "model_module_version": "1.5.0",
          "state": {
            "_model_module": "@jupyter-widgets/controls",
            "_model_module_version": "1.5.0",
            "_model_name": "DescriptionStyleModel",
            "_view_count": null,
            "_view_module": "@jupyter-widgets/base",
            "_view_module_version": "1.2.0",
            "_view_name": "StyleView",
            "description_width": ""
          }
        },
        "fd5e71683d944f51bf2e8c3b51c198aa": {
          "model_module": "@jupyter-widgets/controls",
          "model_name": "CheckboxModel",
          "model_module_version": "1.5.0",
          "state": {
            "_dom_classes": [],
            "_model_module": "@jupyter-widgets/controls",
            "_model_module_version": "1.5.0",
            "_model_name": "CheckboxModel",
            "_view_count": null,
            "_view_module": "@jupyter-widgets/controls",
            "_view_module_version": "1.5.0",
            "_view_name": "CheckboxView",
            "description": "KNeighborsClassifier(n_neighbors=1)",
            "description_tooltip": null,
            "disabled": false,
            "indent": false,
            "layout": "IPY_MODEL_4c3eab22d4234dcfbf37fed08baa0041",
            "style": "IPY_MODEL_8428fa0b857d473b9d748915a4739b32",
            "value": false
          }
        },
        "4c3eab22d4234dcfbf37fed08baa0041": {
          "model_module": "@jupyter-widgets/base",
          "model_name": "LayoutModel",
          "model_module_version": "1.2.0",
          "state": {
            "_model_module": "@jupyter-widgets/base",
            "_model_module_version": "1.2.0",
            "_model_name": "LayoutModel",
            "_view_count": null,
            "_view_module": "@jupyter-widgets/base",
            "_view_module_version": "1.2.0",
            "_view_name": "LayoutView",
            "align_content": null,
            "align_items": null,
            "align_self": null,
            "border": null,
            "bottom": null,
            "display": null,
            "flex": null,
            "flex_flow": null,
            "grid_area": null,
            "grid_auto_columns": null,
            "grid_auto_flow": null,
            "grid_auto_rows": null,
            "grid_column": null,
            "grid_gap": null,
            "grid_row": null,
            "grid_template_areas": null,
            "grid_template_columns": null,
            "grid_template_rows": null,
            "height": null,
            "justify_content": null,
            "justify_items": null,
            "left": null,
            "margin": null,
            "max_height": null,
            "max_width": null,
            "min_height": null,
            "min_width": null,
            "object_fit": null,
            "object_position": null,
            "order": null,
            "overflow": null,
            "overflow_x": null,
            "overflow_y": null,
            "padding": null,
            "right": null,
            "top": null,
            "visibility": null,
            "width": null
          }
        },
        "8428fa0b857d473b9d748915a4739b32": {
          "model_module": "@jupyter-widgets/controls",
          "model_name": "DescriptionStyleModel",
          "model_module_version": "1.5.0",
          "state": {
            "_model_module": "@jupyter-widgets/controls",
            "_model_module_version": "1.5.0",
            "_model_name": "DescriptionStyleModel",
            "_view_count": null,
            "_view_module": "@jupyter-widgets/base",
            "_view_module_version": "1.2.0",
            "_view_name": "StyleView",
            "description_width": ""
          }
        },
        "1284fc7a90fd424ab65548523240588d": {
          "model_module": "@jupyter-widgets/controls",
          "model_name": "CheckboxModel",
          "model_module_version": "1.5.0",
          "state": {
            "_dom_classes": [],
            "_model_module": "@jupyter-widgets/controls",
            "_model_module_version": "1.5.0",
            "_model_name": "CheckboxModel",
            "_view_count": null,
            "_view_module": "@jupyter-widgets/controls",
            "_view_module_version": "1.5.0",
            "_view_name": "CheckboxView",
            "description": "GaussianNB()",
            "description_tooltip": null,
            "disabled": false,
            "indent": false,
            "layout": "IPY_MODEL_580b85b946db48929c0e4a56e514d093",
            "style": "IPY_MODEL_afdcd16eb7b040e9bd96a34445575a83",
            "value": false
          }
        },
        "580b85b946db48929c0e4a56e514d093": {
          "model_module": "@jupyter-widgets/base",
          "model_name": "LayoutModel",
          "model_module_version": "1.2.0",
          "state": {
            "_model_module": "@jupyter-widgets/base",
            "_model_module_version": "1.2.0",
            "_model_name": "LayoutModel",
            "_view_count": null,
            "_view_module": "@jupyter-widgets/base",
            "_view_module_version": "1.2.0",
            "_view_name": "LayoutView",
            "align_content": null,
            "align_items": null,
            "align_self": null,
            "border": null,
            "bottom": null,
            "display": null,
            "flex": null,
            "flex_flow": null,
            "grid_area": null,
            "grid_auto_columns": null,
            "grid_auto_flow": null,
            "grid_auto_rows": null,
            "grid_column": null,
            "grid_gap": null,
            "grid_row": null,
            "grid_template_areas": null,
            "grid_template_columns": null,
            "grid_template_rows": null,
            "height": null,
            "justify_content": null,
            "justify_items": null,
            "left": null,
            "margin": null,
            "max_height": null,
            "max_width": null,
            "min_height": null,
            "min_width": null,
            "object_fit": null,
            "object_position": null,
            "order": null,
            "overflow": null,
            "overflow_x": null,
            "overflow_y": null,
            "padding": null,
            "right": null,
            "top": null,
            "visibility": null,
            "width": null
          }
        },
        "afdcd16eb7b040e9bd96a34445575a83": {
          "model_module": "@jupyter-widgets/controls",
          "model_name": "DescriptionStyleModel",
          "model_module_version": "1.5.0",
          "state": {
            "_model_module": "@jupyter-widgets/controls",
            "_model_module_version": "1.5.0",
            "_model_name": "DescriptionStyleModel",
            "_view_count": null,
            "_view_module": "@jupyter-widgets/base",
            "_view_module_version": "1.2.0",
            "_view_name": "StyleView",
            "description_width": ""
          }
        },
        "db489c61e89b423f800545654da875ba": {
          "model_module": "@jupyter-widgets/controls",
          "model_name": "CheckboxModel",
          "model_module_version": "1.5.0",
          "state": {
            "_dom_classes": [],
            "_model_module": "@jupyter-widgets/controls",
            "_model_module_version": "1.5.0",
            "_model_name": "CheckboxModel",
            "_view_count": null,
            "_view_module": "@jupyter-widgets/controls",
            "_view_module_version": "1.5.0",
            "_view_name": "CheckboxView",
            "description": "AdaBoostClassifier(random_state=0)",
            "description_tooltip": null,
            "disabled": false,
            "indent": false,
            "layout": "IPY_MODEL_40e3ddf6debf4a3a808e87406c295f2a",
            "style": "IPY_MODEL_0680d50e6816474dacbe98fa679c9ae8",
            "value": false
          }
        },
        "40e3ddf6debf4a3a808e87406c295f2a": {
          "model_module": "@jupyter-widgets/base",
          "model_name": "LayoutModel",
          "model_module_version": "1.2.0",
          "state": {
            "_model_module": "@jupyter-widgets/base",
            "_model_module_version": "1.2.0",
            "_model_name": "LayoutModel",
            "_view_count": null,
            "_view_module": "@jupyter-widgets/base",
            "_view_module_version": "1.2.0",
            "_view_name": "LayoutView",
            "align_content": null,
            "align_items": null,
            "align_self": null,
            "border": null,
            "bottom": null,
            "display": null,
            "flex": null,
            "flex_flow": null,
            "grid_area": null,
            "grid_auto_columns": null,
            "grid_auto_flow": null,
            "grid_auto_rows": null,
            "grid_column": null,
            "grid_gap": null,
            "grid_row": null,
            "grid_template_areas": null,
            "grid_template_columns": null,
            "grid_template_rows": null,
            "height": null,
            "justify_content": null,
            "justify_items": null,
            "left": null,
            "margin": null,
            "max_height": null,
            "max_width": null,
            "min_height": null,
            "min_width": null,
            "object_fit": null,
            "object_position": null,
            "order": null,
            "overflow": null,
            "overflow_x": null,
            "overflow_y": null,
            "padding": null,
            "right": null,
            "top": null,
            "visibility": null,
            "width": null
          }
        },
        "0680d50e6816474dacbe98fa679c9ae8": {
          "model_module": "@jupyter-widgets/controls",
          "model_name": "DescriptionStyleModel",
          "model_module_version": "1.5.0",
          "state": {
            "_model_module": "@jupyter-widgets/controls",
            "_model_module_version": "1.5.0",
            "_model_name": "DescriptionStyleModel",
            "_view_count": null,
            "_view_module": "@jupyter-widgets/base",
            "_view_module_version": "1.2.0",
            "_view_name": "StyleView",
            "description_width": ""
          }
        },
        "baad259956be4c4286731eab22264b0c": {
          "model_module": "@jupyter-widgets/controls",
          "model_name": "CheckboxModel",
          "model_module_version": "1.5.0",
          "state": {
            "_dom_classes": [],
            "_model_module": "@jupyter-widgets/controls",
            "_model_module_version": "1.5.0",
            "_model_name": "CheckboxModel",
            "_view_count": null,
            "_view_module": "@jupyter-widgets/controls",
            "_view_module_version": "1.5.0",
            "_view_name": "CheckboxView",
            "description": "AdaBoostClassifier(n_estimators=39, random_state=0)",
            "description_tooltip": null,
            "disabled": false,
            "indent": false,
            "layout": "IPY_MODEL_6dc22736b36c48e3a20f631639e72cba",
            "style": "IPY_MODEL_17df6ada5ef74a38bb76b78956d967e2",
            "value": false
          }
        },
        "6dc22736b36c48e3a20f631639e72cba": {
          "model_module": "@jupyter-widgets/base",
          "model_name": "LayoutModel",
          "model_module_version": "1.2.0",
          "state": {
            "_model_module": "@jupyter-widgets/base",
            "_model_module_version": "1.2.0",
            "_model_name": "LayoutModel",
            "_view_count": null,
            "_view_module": "@jupyter-widgets/base",
            "_view_module_version": "1.2.0",
            "_view_name": "LayoutView",
            "align_content": null,
            "align_items": null,
            "align_self": null,
            "border": null,
            "bottom": null,
            "display": null,
            "flex": null,
            "flex_flow": null,
            "grid_area": null,
            "grid_auto_columns": null,
            "grid_auto_flow": null,
            "grid_auto_rows": null,
            "grid_column": null,
            "grid_gap": null,
            "grid_row": null,
            "grid_template_areas": null,
            "grid_template_columns": null,
            "grid_template_rows": null,
            "height": null,
            "justify_content": null,
            "justify_items": null,
            "left": null,
            "margin": null,
            "max_height": null,
            "max_width": null,
            "min_height": null,
            "min_width": null,
            "object_fit": null,
            "object_position": null,
            "order": null,
            "overflow": null,
            "overflow_x": null,
            "overflow_y": null,
            "padding": null,
            "right": null,
            "top": null,
            "visibility": null,
            "width": null
          }
        },
        "17df6ada5ef74a38bb76b78956d967e2": {
          "model_module": "@jupyter-widgets/controls",
          "model_name": "DescriptionStyleModel",
          "model_module_version": "1.5.0",
          "state": {
            "_model_module": "@jupyter-widgets/controls",
            "_model_module_version": "1.5.0",
            "_model_name": "DescriptionStyleModel",
            "_view_count": null,
            "_view_module": "@jupyter-widgets/base",
            "_view_module_version": "1.2.0",
            "_view_name": "StyleView",
            "description_width": ""
          }
        },
        "934bc863b8a74856beacde44fd76b97c": {
          "model_module": "@jupyter-widgets/controls",
          "model_name": "CheckboxModel",
          "model_module_version": "1.5.0",
          "state": {
            "_dom_classes": [],
            "_model_module": "@jupyter-widgets/controls",
            "_model_module_version": "1.5.0",
            "_model_name": "CheckboxModel",
            "_view_count": null,
            "_view_module": "@jupyter-widgets/controls",
            "_view_module_version": "1.5.0",
            "_view_name": "CheckboxView",
            "description": "GradientBoostingClassifier(random_state=0)",
            "description_tooltip": null,
            "disabled": false,
            "indent": false,
            "layout": "IPY_MODEL_8097411f8a504e978aafd1af129349cd",
            "style": "IPY_MODEL_6251fa76997a4013b0cb9bd53874846a",
            "value": false
          }
        },
        "8097411f8a504e978aafd1af129349cd": {
          "model_module": "@jupyter-widgets/base",
          "model_name": "LayoutModel",
          "model_module_version": "1.2.0",
          "state": {
            "_model_module": "@jupyter-widgets/base",
            "_model_module_version": "1.2.0",
            "_model_name": "LayoutModel",
            "_view_count": null,
            "_view_module": "@jupyter-widgets/base",
            "_view_module_version": "1.2.0",
            "_view_name": "LayoutView",
            "align_content": null,
            "align_items": null,
            "align_self": null,
            "border": null,
            "bottom": null,
            "display": null,
            "flex": null,
            "flex_flow": null,
            "grid_area": null,
            "grid_auto_columns": null,
            "grid_auto_flow": null,
            "grid_auto_rows": null,
            "grid_column": null,
            "grid_gap": null,
            "grid_row": null,
            "grid_template_areas": null,
            "grid_template_columns": null,
            "grid_template_rows": null,
            "height": null,
            "justify_content": null,
            "justify_items": null,
            "left": null,
            "margin": null,
            "max_height": null,
            "max_width": null,
            "min_height": null,
            "min_width": null,
            "object_fit": null,
            "object_position": null,
            "order": null,
            "overflow": null,
            "overflow_x": null,
            "overflow_y": null,
            "padding": null,
            "right": null,
            "top": null,
            "visibility": null,
            "width": null
          }
        },
        "6251fa76997a4013b0cb9bd53874846a": {
          "model_module": "@jupyter-widgets/controls",
          "model_name": "DescriptionStyleModel",
          "model_module_version": "1.5.0",
          "state": {
            "_model_module": "@jupyter-widgets/controls",
            "_model_module_version": "1.5.0",
            "_model_name": "DescriptionStyleModel",
            "_view_count": null,
            "_view_module": "@jupyter-widgets/base",
            "_view_module_version": "1.2.0",
            "_view_name": "StyleView",
            "description_width": ""
          }
        },
        "262bd0e99c0b4c34994715f1bc74dcd8": {
          "model_module": "@jupyter-widgets/controls",
          "model_name": "CheckboxModel",
          "model_module_version": "1.5.0",
          "state": {
            "_dom_classes": [],
            "_model_module": "@jupyter-widgets/controls",
            "_model_module_version": "1.5.0",
            "_model_name": "CheckboxModel",
            "_view_count": null,
            "_view_module": "@jupyter-widgets/controls",
            "_view_module_version": "1.5.0",
            "_view_name": "CheckboxView",
            "description": "GradientBoostingClassifier(n_estimators=41, random_state=0)",
            "description_tooltip": null,
            "disabled": false,
            "indent": false,
            "layout": "IPY_MODEL_c4e267cc2aea409a902782fe47e30afe",
            "style": "IPY_MODEL_fb524e2af58047d8a5c31671bd519d9f",
            "value": false
          }
        },
        "c4e267cc2aea409a902782fe47e30afe": {
          "model_module": "@jupyter-widgets/base",
          "model_name": "LayoutModel",
          "model_module_version": "1.2.0",
          "state": {
            "_model_module": "@jupyter-widgets/base",
            "_model_module_version": "1.2.0",
            "_model_name": "LayoutModel",
            "_view_count": null,
            "_view_module": "@jupyter-widgets/base",
            "_view_module_version": "1.2.0",
            "_view_name": "LayoutView",
            "align_content": null,
            "align_items": null,
            "align_self": null,
            "border": null,
            "bottom": null,
            "display": null,
            "flex": null,
            "flex_flow": null,
            "grid_area": null,
            "grid_auto_columns": null,
            "grid_auto_flow": null,
            "grid_auto_rows": null,
            "grid_column": null,
            "grid_gap": null,
            "grid_row": null,
            "grid_template_areas": null,
            "grid_template_columns": null,
            "grid_template_rows": null,
            "height": null,
            "justify_content": null,
            "justify_items": null,
            "left": null,
            "margin": null,
            "max_height": null,
            "max_width": null,
            "min_height": null,
            "min_width": null,
            "object_fit": null,
            "object_position": null,
            "order": null,
            "overflow": null,
            "overflow_x": null,
            "overflow_y": null,
            "padding": null,
            "right": null,
            "top": null,
            "visibility": null,
            "width": null
          }
        },
        "fb524e2af58047d8a5c31671bd519d9f": {
          "model_module": "@jupyter-widgets/controls",
          "model_name": "DescriptionStyleModel",
          "model_module_version": "1.5.0",
          "state": {
            "_model_module": "@jupyter-widgets/controls",
            "_model_module_version": "1.5.0",
            "_model_name": "DescriptionStyleModel",
            "_view_count": null,
            "_view_module": "@jupyter-widgets/base",
            "_view_module_version": "1.2.0",
            "_view_name": "StyleView",
            "description_width": ""
          }
        },
        "254e570a28bf429c92f5167e672fb7aa": {
          "model_module": "@jupyter-widgets/controls",
          "model_name": "CheckboxModel",
          "model_module_version": "1.5.0",
          "state": {
            "_dom_classes": [],
            "_model_module": "@jupyter-widgets/controls",
            "_model_module_version": "1.5.0",
            "_model_name": "CheckboxModel",
            "_view_count": null,
            "_view_module": "@jupyter-widgets/controls",
            "_view_module_version": "1.5.0",
            "_view_name": "CheckboxView",
            "description": "GradientBoostingClassifier(max_depth=11, random_state=0)",
            "description_tooltip": null,
            "disabled": false,
            "indent": false,
            "layout": "IPY_MODEL_b649b6226dfe4b339fa0be47913c3b21",
            "style": "IPY_MODEL_188f39b840f6447aaed08284ff2b12ec",
            "value": false
          }
        },
        "b649b6226dfe4b339fa0be47913c3b21": {
          "model_module": "@jupyter-widgets/base",
          "model_name": "LayoutModel",
          "model_module_version": "1.2.0",
          "state": {
            "_model_module": "@jupyter-widgets/base",
            "_model_module_version": "1.2.0",
            "_model_name": "LayoutModel",
            "_view_count": null,
            "_view_module": "@jupyter-widgets/base",
            "_view_module_version": "1.2.0",
            "_view_name": "LayoutView",
            "align_content": null,
            "align_items": null,
            "align_self": null,
            "border": null,
            "bottom": null,
            "display": null,
            "flex": null,
            "flex_flow": null,
            "grid_area": null,
            "grid_auto_columns": null,
            "grid_auto_flow": null,
            "grid_auto_rows": null,
            "grid_column": null,
            "grid_gap": null,
            "grid_row": null,
            "grid_template_areas": null,
            "grid_template_columns": null,
            "grid_template_rows": null,
            "height": null,
            "justify_content": null,
            "justify_items": null,
            "left": null,
            "margin": null,
            "max_height": null,
            "max_width": null,
            "min_height": null,
            "min_width": null,
            "object_fit": null,
            "object_position": null,
            "order": null,
            "overflow": null,
            "overflow_x": null,
            "overflow_y": null,
            "padding": null,
            "right": null,
            "top": null,
            "visibility": null,
            "width": null
          }
        },
        "188f39b840f6447aaed08284ff2b12ec": {
          "model_module": "@jupyter-widgets/controls",
          "model_name": "DescriptionStyleModel",
          "model_module_version": "1.5.0",
          "state": {
            "_model_module": "@jupyter-widgets/controls",
            "_model_module_version": "1.5.0",
            "_model_name": "DescriptionStyleModel",
            "_view_count": null,
            "_view_module": "@jupyter-widgets/base",
            "_view_module_version": "1.2.0",
            "_view_name": "StyleView",
            "description_width": ""
          }
        },
        "b5e6d14765524ce19f7aab0fd695cc5d": {
          "model_module": "@jupyter-widgets/controls",
          "model_name": "CheckboxModel",
          "model_module_version": "1.5.0",
          "state": {
            "_dom_classes": [],
            "_model_module": "@jupyter-widgets/controls",
            "_model_module_version": "1.5.0",
            "_model_name": "CheckboxModel",
            "_view_count": null,
            "_view_module": "@jupyter-widgets/controls",
            "_view_module_version": "1.5.0",
            "_view_name": "CheckboxView",
            "description": "GradientBoostingClassifier(max_depth=11, n_estimators=41, random_state=0)",
            "description_tooltip": null,
            "disabled": false,
            "indent": false,
            "layout": "IPY_MODEL_3ae4b4bf69794282a16804e8df638e2b",
            "style": "IPY_MODEL_607c5ce8a67e4c60b892771f20f308ba",
            "value": false
          }
        },
        "3ae4b4bf69794282a16804e8df638e2b": {
          "model_module": "@jupyter-widgets/base",
          "model_name": "LayoutModel",
          "model_module_version": "1.2.0",
          "state": {
            "_model_module": "@jupyter-widgets/base",
            "_model_module_version": "1.2.0",
            "_model_name": "LayoutModel",
            "_view_count": null,
            "_view_module": "@jupyter-widgets/base",
            "_view_module_version": "1.2.0",
            "_view_name": "LayoutView",
            "align_content": null,
            "align_items": null,
            "align_self": null,
            "border": null,
            "bottom": null,
            "display": null,
            "flex": null,
            "flex_flow": null,
            "grid_area": null,
            "grid_auto_columns": null,
            "grid_auto_flow": null,
            "grid_auto_rows": null,
            "grid_column": null,
            "grid_gap": null,
            "grid_row": null,
            "grid_template_areas": null,
            "grid_template_columns": null,
            "grid_template_rows": null,
            "height": null,
            "justify_content": null,
            "justify_items": null,
            "left": null,
            "margin": null,
            "max_height": null,
            "max_width": null,
            "min_height": null,
            "min_width": null,
            "object_fit": null,
            "object_position": null,
            "order": null,
            "overflow": null,
            "overflow_x": null,
            "overflow_y": null,
            "padding": null,
            "right": null,
            "top": null,
            "visibility": null,
            "width": null
          }
        },
        "607c5ce8a67e4c60b892771f20f308ba": {
          "model_module": "@jupyter-widgets/controls",
          "model_name": "DescriptionStyleModel",
          "model_module_version": "1.5.0",
          "state": {
            "_model_module": "@jupyter-widgets/controls",
            "_model_module_version": "1.5.0",
            "_model_name": "DescriptionStyleModel",
            "_view_count": null,
            "_view_module": "@jupyter-widgets/base",
            "_view_module_version": "1.2.0",
            "_view_name": "StyleView",
            "description_width": ""
          }
        },
        "40db3374af454fc9b162118c610d99df": {
          "model_module": "@jupyter-widgets/controls",
          "model_name": "CheckboxModel",
          "model_module_version": "1.5.0",
          "state": {
            "_dom_classes": [],
            "_model_module": "@jupyter-widgets/controls",
            "_model_module_version": "1.5.0",
            "_model_name": "CheckboxModel",
            "_view_count": null,
            "_view_module": "@jupyter-widgets/controls",
            "_view_module_version": "1.5.0",
            "_view_name": "CheckboxView",
            "description": "RandomForestClassifier(random_state=0)",
            "description_tooltip": null,
            "disabled": false,
            "indent": false,
            "layout": "IPY_MODEL_40e6fe613f7f480b9671f4d61ac59d1c",
            "style": "IPY_MODEL_4b385c332f3648cea569e6a8953bff16",
            "value": false
          }
        },
        "40e6fe613f7f480b9671f4d61ac59d1c": {
          "model_module": "@jupyter-widgets/base",
          "model_name": "LayoutModel",
          "model_module_version": "1.2.0",
          "state": {
            "_model_module": "@jupyter-widgets/base",
            "_model_module_version": "1.2.0",
            "_model_name": "LayoutModel",
            "_view_count": null,
            "_view_module": "@jupyter-widgets/base",
            "_view_module_version": "1.2.0",
            "_view_name": "LayoutView",
            "align_content": null,
            "align_items": null,
            "align_self": null,
            "border": null,
            "bottom": null,
            "display": null,
            "flex": null,
            "flex_flow": null,
            "grid_area": null,
            "grid_auto_columns": null,
            "grid_auto_flow": null,
            "grid_auto_rows": null,
            "grid_column": null,
            "grid_gap": null,
            "grid_row": null,
            "grid_template_areas": null,
            "grid_template_columns": null,
            "grid_template_rows": null,
            "height": null,
            "justify_content": null,
            "justify_items": null,
            "left": null,
            "margin": null,
            "max_height": null,
            "max_width": null,
            "min_height": null,
            "min_width": null,
            "object_fit": null,
            "object_position": null,
            "order": null,
            "overflow": null,
            "overflow_x": null,
            "overflow_y": null,
            "padding": null,
            "right": null,
            "top": null,
            "visibility": null,
            "width": null
          }
        },
        "4b385c332f3648cea569e6a8953bff16": {
          "model_module": "@jupyter-widgets/controls",
          "model_name": "DescriptionStyleModel",
          "model_module_version": "1.5.0",
          "state": {
            "_model_module": "@jupyter-widgets/controls",
            "_model_module_version": "1.5.0",
            "_model_name": "DescriptionStyleModel",
            "_view_count": null,
            "_view_module": "@jupyter-widgets/base",
            "_view_module_version": "1.2.0",
            "_view_name": "StyleView",
            "description_width": ""
          }
        },
        "ed4651deecbe4b90b8e39f0b7fdb293f": {
          "model_module": "@jupyter-widgets/controls",
          "model_name": "CheckboxModel",
          "model_module_version": "1.5.0",
          "state": {
            "_dom_classes": [],
            "_model_module": "@jupyter-widgets/controls",
            "_model_module_version": "1.5.0",
            "_model_name": "CheckboxModel",
            "_view_count": null,
            "_view_module": "@jupyter-widgets/controls",
            "_view_module_version": "1.5.0",
            "_view_name": "CheckboxView",
            "description": "RandomForestClassifier(n_estimators=124, random_state=0)",
            "description_tooltip": null,
            "disabled": false,
            "indent": false,
            "layout": "IPY_MODEL_705896e084924d5699d45ce045767000",
            "style": "IPY_MODEL_769d129e461742baad3779d633060358",
            "value": false
          }
        },
        "705896e084924d5699d45ce045767000": {
          "model_module": "@jupyter-widgets/base",
          "model_name": "LayoutModel",
          "model_module_version": "1.2.0",
          "state": {
            "_model_module": "@jupyter-widgets/base",
            "_model_module_version": "1.2.0",
            "_model_name": "LayoutModel",
            "_view_count": null,
            "_view_module": "@jupyter-widgets/base",
            "_view_module_version": "1.2.0",
            "_view_name": "LayoutView",
            "align_content": null,
            "align_items": null,
            "align_self": null,
            "border": null,
            "bottom": null,
            "display": null,
            "flex": null,
            "flex_flow": null,
            "grid_area": null,
            "grid_auto_columns": null,
            "grid_auto_flow": null,
            "grid_auto_rows": null,
            "grid_column": null,
            "grid_gap": null,
            "grid_row": null,
            "grid_template_areas": null,
            "grid_template_columns": null,
            "grid_template_rows": null,
            "height": null,
            "justify_content": null,
            "justify_items": null,
            "left": null,
            "margin": null,
            "max_height": null,
            "max_width": null,
            "min_height": null,
            "min_width": null,
            "object_fit": null,
            "object_position": null,
            "order": null,
            "overflow": null,
            "overflow_x": null,
            "overflow_y": null,
            "padding": null,
            "right": null,
            "top": null,
            "visibility": null,
            "width": null
          }
        },
        "769d129e461742baad3779d633060358": {
          "model_module": "@jupyter-widgets/controls",
          "model_name": "DescriptionStyleModel",
          "model_module_version": "1.5.0",
          "state": {
            "_model_module": "@jupyter-widgets/controls",
            "_model_module_version": "1.5.0",
            "_model_name": "DescriptionStyleModel",
            "_view_count": null,
            "_view_module": "@jupyter-widgets/base",
            "_view_module_version": "1.2.0",
            "_view_name": "StyleView",
            "description_width": ""
          }
        },
        "3230852140b947f8bc77da91fc8c5e46": {
          "model_module": "@jupyter-widgets/controls",
          "model_name": "CheckboxModel",
          "model_module_version": "1.5.0",
          "state": {
            "_dom_classes": [],
            "_model_module": "@jupyter-widgets/controls",
            "_model_module_version": "1.5.0",
            "_model_name": "CheckboxModel",
            "_view_count": null,
            "_view_module": "@jupyter-widgets/controls",
            "_view_module_version": "1.5.0",
            "_view_name": "CheckboxView",
            "description": "RandomForestClassifier(max_depth=18, random_state=0)",
            "description_tooltip": null,
            "disabled": false,
            "indent": false,
            "layout": "IPY_MODEL_bf3f230d953d47b29491d8af5a8f7b8b",
            "style": "IPY_MODEL_06512468f5e743f09ca3cbe17af095a1",
            "value": false
          }
        },
        "bf3f230d953d47b29491d8af5a8f7b8b": {
          "model_module": "@jupyter-widgets/base",
          "model_name": "LayoutModel",
          "model_module_version": "1.2.0",
          "state": {
            "_model_module": "@jupyter-widgets/base",
            "_model_module_version": "1.2.0",
            "_model_name": "LayoutModel",
            "_view_count": null,
            "_view_module": "@jupyter-widgets/base",
            "_view_module_version": "1.2.0",
            "_view_name": "LayoutView",
            "align_content": null,
            "align_items": null,
            "align_self": null,
            "border": null,
            "bottom": null,
            "display": null,
            "flex": null,
            "flex_flow": null,
            "grid_area": null,
            "grid_auto_columns": null,
            "grid_auto_flow": null,
            "grid_auto_rows": null,
            "grid_column": null,
            "grid_gap": null,
            "grid_row": null,
            "grid_template_areas": null,
            "grid_template_columns": null,
            "grid_template_rows": null,
            "height": null,
            "justify_content": null,
            "justify_items": null,
            "left": null,
            "margin": null,
            "max_height": null,
            "max_width": null,
            "min_height": null,
            "min_width": null,
            "object_fit": null,
            "object_position": null,
            "order": null,
            "overflow": null,
            "overflow_x": null,
            "overflow_y": null,
            "padding": null,
            "right": null,
            "top": null,
            "visibility": null,
            "width": null
          }
        },
        "06512468f5e743f09ca3cbe17af095a1": {
          "model_module": "@jupyter-widgets/controls",
          "model_name": "DescriptionStyleModel",
          "model_module_version": "1.5.0",
          "state": {
            "_model_module": "@jupyter-widgets/controls",
            "_model_module_version": "1.5.0",
            "_model_name": "DescriptionStyleModel",
            "_view_count": null,
            "_view_module": "@jupyter-widgets/base",
            "_view_module_version": "1.2.0",
            "_view_name": "StyleView",
            "description_width": ""
          }
        },
        "79fdc8ce7e214dabbfdd2f71bba62069": {
          "model_module": "@jupyter-widgets/controls",
          "model_name": "CheckboxModel",
          "model_module_version": "1.5.0",
          "state": {
            "_dom_classes": [],
            "_model_module": "@jupyter-widgets/controls",
            "_model_module_version": "1.5.0",
            "_model_name": "CheckboxModel",
            "_view_count": null,
            "_view_module": "@jupyter-widgets/controls",
            "_view_module_version": "1.5.0",
            "_view_name": "CheckboxView",
            "description": "RandomForestClassifier(max_depth=18, n_estimators=124, random_state=0)",
            "description_tooltip": null,
            "disabled": false,
            "indent": false,
            "layout": "IPY_MODEL_af36afe6b32b40f296afe35521188ab6",
            "style": "IPY_MODEL_83457b3dce504298be090ee7b2d7f7c0",
            "value": false
          }
        },
        "af36afe6b32b40f296afe35521188ab6": {
          "model_module": "@jupyter-widgets/base",
          "model_name": "LayoutModel",
          "model_module_version": "1.2.0",
          "state": {
            "_model_module": "@jupyter-widgets/base",
            "_model_module_version": "1.2.0",
            "_model_name": "LayoutModel",
            "_view_count": null,
            "_view_module": "@jupyter-widgets/base",
            "_view_module_version": "1.2.0",
            "_view_name": "LayoutView",
            "align_content": null,
            "align_items": null,
            "align_self": null,
            "border": null,
            "bottom": null,
            "display": null,
            "flex": null,
            "flex_flow": null,
            "grid_area": null,
            "grid_auto_columns": null,
            "grid_auto_flow": null,
            "grid_auto_rows": null,
            "grid_column": null,
            "grid_gap": null,
            "grid_row": null,
            "grid_template_areas": null,
            "grid_template_columns": null,
            "grid_template_rows": null,
            "height": null,
            "justify_content": null,
            "justify_items": null,
            "left": null,
            "margin": null,
            "max_height": null,
            "max_width": null,
            "min_height": null,
            "min_width": null,
            "object_fit": null,
            "object_position": null,
            "order": null,
            "overflow": null,
            "overflow_x": null,
            "overflow_y": null,
            "padding": null,
            "right": null,
            "top": null,
            "visibility": null,
            "width": null
          }
        },
        "83457b3dce504298be090ee7b2d7f7c0": {
          "model_module": "@jupyter-widgets/controls",
          "model_name": "DescriptionStyleModel",
          "model_module_version": "1.5.0",
          "state": {
            "_model_module": "@jupyter-widgets/controls",
            "_model_module_version": "1.5.0",
            "_model_name": "DescriptionStyleModel",
            "_view_count": null,
            "_view_module": "@jupyter-widgets/base",
            "_view_module_version": "1.2.0",
            "_view_name": "StyleView",
            "description_width": ""
          }
        },
        "bfe6b95d42d3422bb28588e768770c2c": {
          "model_module": "@jupyter-widgets/controls",
          "model_name": "CheckboxModel",
          "model_module_version": "1.5.0",
          "state": {
            "_dom_classes": [],
            "_model_module": "@jupyter-widgets/controls",
            "_model_module_version": "1.5.0",
            "_model_name": "CheckboxModel",
            "_view_count": null,
            "_view_module": "@jupyter-widgets/controls",
            "_view_module_version": "1.5.0",
            "_view_name": "CheckboxView",
            "description": "XGBClassifier(objective='multi:softprob')",
            "description_tooltip": null,
            "disabled": false,
            "indent": false,
            "layout": "IPY_MODEL_bc21b2af96d149c197e3dc7fdcf9220c",
            "style": "IPY_MODEL_6490e2edc3b24422926adbaa1d1c108c",
            "value": false
          }
        },
        "bc21b2af96d149c197e3dc7fdcf9220c": {
          "model_module": "@jupyter-widgets/base",
          "model_name": "LayoutModel",
          "model_module_version": "1.2.0",
          "state": {
            "_model_module": "@jupyter-widgets/base",
            "_model_module_version": "1.2.0",
            "_model_name": "LayoutModel",
            "_view_count": null,
            "_view_module": "@jupyter-widgets/base",
            "_view_module_version": "1.2.0",
            "_view_name": "LayoutView",
            "align_content": null,
            "align_items": null,
            "align_self": null,
            "border": null,
            "bottom": null,
            "display": null,
            "flex": null,
            "flex_flow": null,
            "grid_area": null,
            "grid_auto_columns": null,
            "grid_auto_flow": null,
            "grid_auto_rows": null,
            "grid_column": null,
            "grid_gap": null,
            "grid_row": null,
            "grid_template_areas": null,
            "grid_template_columns": null,
            "grid_template_rows": null,
            "height": null,
            "justify_content": null,
            "justify_items": null,
            "left": null,
            "margin": null,
            "max_height": null,
            "max_width": null,
            "min_height": null,
            "min_width": null,
            "object_fit": null,
            "object_position": null,
            "order": null,
            "overflow": null,
            "overflow_x": null,
            "overflow_y": null,
            "padding": null,
            "right": null,
            "top": null,
            "visibility": null,
            "width": null
          }
        },
        "6490e2edc3b24422926adbaa1d1c108c": {
          "model_module": "@jupyter-widgets/controls",
          "model_name": "DescriptionStyleModel",
          "model_module_version": "1.5.0",
          "state": {
            "_model_module": "@jupyter-widgets/controls",
            "_model_module_version": "1.5.0",
            "_model_name": "DescriptionStyleModel",
            "_view_count": null,
            "_view_module": "@jupyter-widgets/base",
            "_view_module_version": "1.2.0",
            "_view_name": "StyleView",
            "description_width": ""
          }
        },
        "75fe885140104d798b4080ef04f4c059": {
          "model_module": "@jupyter-widgets/controls",
          "model_name": "CheckboxModel",
          "model_module_version": "1.5.0",
          "state": {
            "_dom_classes": [],
            "_model_module": "@jupyter-widgets/controls",
            "_model_module_version": "1.5.0",
            "_model_name": "CheckboxModel",
            "_view_count": null,
            "_view_module": "@jupyter-widgets/controls",
            "_view_module_version": "1.5.0",
            "_view_name": "CheckboxView",
            "description": "XGBClassifier(max_depth=15, objective='multi:softprob')",
            "description_tooltip": null,
            "disabled": false,
            "indent": false,
            "layout": "IPY_MODEL_a1f462052a6047b8aeb689a5a920ffd6",
            "style": "IPY_MODEL_3d0b06473a94437f8a8f0a461e988bf7",
            "value": false
          }
        },
        "a1f462052a6047b8aeb689a5a920ffd6": {
          "model_module": "@jupyter-widgets/base",
          "model_name": "LayoutModel",
          "model_module_version": "1.2.0",
          "state": {
            "_model_module": "@jupyter-widgets/base",
            "_model_module_version": "1.2.0",
            "_model_name": "LayoutModel",
            "_view_count": null,
            "_view_module": "@jupyter-widgets/base",
            "_view_module_version": "1.2.0",
            "_view_name": "LayoutView",
            "align_content": null,
            "align_items": null,
            "align_self": null,
            "border": null,
            "bottom": null,
            "display": null,
            "flex": null,
            "flex_flow": null,
            "grid_area": null,
            "grid_auto_columns": null,
            "grid_auto_flow": null,
            "grid_auto_rows": null,
            "grid_column": null,
            "grid_gap": null,
            "grid_row": null,
            "grid_template_areas": null,
            "grid_template_columns": null,
            "grid_template_rows": null,
            "height": null,
            "justify_content": null,
            "justify_items": null,
            "left": null,
            "margin": null,
            "max_height": null,
            "max_width": null,
            "min_height": null,
            "min_width": null,
            "object_fit": null,
            "object_position": null,
            "order": null,
            "overflow": null,
            "overflow_x": null,
            "overflow_y": null,
            "padding": null,
            "right": null,
            "top": null,
            "visibility": null,
            "width": null
          }
        },
        "3d0b06473a94437f8a8f0a461e988bf7": {
          "model_module": "@jupyter-widgets/controls",
          "model_name": "DescriptionStyleModel",
          "model_module_version": "1.5.0",
          "state": {
            "_model_module": "@jupyter-widgets/controls",
            "_model_module_version": "1.5.0",
            "_model_name": "DescriptionStyleModel",
            "_view_count": null,
            "_view_module": "@jupyter-widgets/base",
            "_view_module_version": "1.2.0",
            "_view_name": "StyleView",
            "description_width": ""
          }
        },
        "2c4e772758f94ce3bcbd6ca37f3e10c9": {
          "model_module": "@jupyter-widgets/controls",
          "model_name": "CheckboxModel",
          "model_module_version": "1.5.0",
          "state": {
            "_dom_classes": [],
            "_model_module": "@jupyter-widgets/controls",
            "_model_module_version": "1.5.0",
            "_model_name": "CheckboxModel",
            "_view_count": null,
            "_view_module": "@jupyter-widgets/controls",
            "_view_module_version": "1.5.0",
            "_view_name": "CheckboxView",
            "description": "XGBClassifier(n_estimators=233, objective='multi:softprob')",
            "description_tooltip": null,
            "disabled": false,
            "indent": false,
            "layout": "IPY_MODEL_a485add44e23496b9729e480e16e6a0f",
            "style": "IPY_MODEL_8593b863e43d461cac3664fad3433ee4",
            "value": false
          }
        },
        "a485add44e23496b9729e480e16e6a0f": {
          "model_module": "@jupyter-widgets/base",
          "model_name": "LayoutModel",
          "model_module_version": "1.2.0",
          "state": {
            "_model_module": "@jupyter-widgets/base",
            "_model_module_version": "1.2.0",
            "_model_name": "LayoutModel",
            "_view_count": null,
            "_view_module": "@jupyter-widgets/base",
            "_view_module_version": "1.2.0",
            "_view_name": "LayoutView",
            "align_content": null,
            "align_items": null,
            "align_self": null,
            "border": null,
            "bottom": null,
            "display": null,
            "flex": null,
            "flex_flow": null,
            "grid_area": null,
            "grid_auto_columns": null,
            "grid_auto_flow": null,
            "grid_auto_rows": null,
            "grid_column": null,
            "grid_gap": null,
            "grid_row": null,
            "grid_template_areas": null,
            "grid_template_columns": null,
            "grid_template_rows": null,
            "height": null,
            "justify_content": null,
            "justify_items": null,
            "left": null,
            "margin": null,
            "max_height": null,
            "max_width": null,
            "min_height": null,
            "min_width": null,
            "object_fit": null,
            "object_position": null,
            "order": null,
            "overflow": null,
            "overflow_x": null,
            "overflow_y": null,
            "padding": null,
            "right": null,
            "top": null,
            "visibility": null,
            "width": null
          }
        },
        "8593b863e43d461cac3664fad3433ee4": {
          "model_module": "@jupyter-widgets/controls",
          "model_name": "DescriptionStyleModel",
          "model_module_version": "1.5.0",
          "state": {
            "_model_module": "@jupyter-widgets/controls",
            "_model_module_version": "1.5.0",
            "_model_name": "DescriptionStyleModel",
            "_view_count": null,
            "_view_module": "@jupyter-widgets/base",
            "_view_module_version": "1.2.0",
            "_view_name": "StyleView",
            "description_width": ""
          }
        },
        "6e24da8ea4ae44c9bf253736a05747a7": {
          "model_module": "@jupyter-widgets/controls",
          "model_name": "CheckboxModel",
          "model_module_version": "1.5.0",
          "state": {
            "_dom_classes": [],
            "_model_module": "@jupyter-widgets/controls",
            "_model_module_version": "1.5.0",
            "_model_name": "CheckboxModel",
            "_view_count": null,
            "_view_module": "@jupyter-widgets/controls",
            "_view_module_version": "1.5.0",
            "_view_name": "CheckboxView",
            "description": "XGBClassifier(max_depth=15, n_estimators=233, objective='multi:softprob')",
            "description_tooltip": null,
            "disabled": false,
            "indent": false,
            "layout": "IPY_MODEL_c2501158f1104c2f940a2095396b9378",
            "style": "IPY_MODEL_3597c542d20240cf9241eae70308cc59",
            "value": false
          }
        },
        "c2501158f1104c2f940a2095396b9378": {
          "model_module": "@jupyter-widgets/base",
          "model_name": "LayoutModel",
          "model_module_version": "1.2.0",
          "state": {
            "_model_module": "@jupyter-widgets/base",
            "_model_module_version": "1.2.0",
            "_model_name": "LayoutModel",
            "_view_count": null,
            "_view_module": "@jupyter-widgets/base",
            "_view_module_version": "1.2.0",
            "_view_name": "LayoutView",
            "align_content": null,
            "align_items": null,
            "align_self": null,
            "border": null,
            "bottom": null,
            "display": null,
            "flex": null,
            "flex_flow": null,
            "grid_area": null,
            "grid_auto_columns": null,
            "grid_auto_flow": null,
            "grid_auto_rows": null,
            "grid_column": null,
            "grid_gap": null,
            "grid_row": null,
            "grid_template_areas": null,
            "grid_template_columns": null,
            "grid_template_rows": null,
            "height": null,
            "justify_content": null,
            "justify_items": null,
            "left": null,
            "margin": null,
            "max_height": null,
            "max_width": null,
            "min_height": null,
            "min_width": null,
            "object_fit": null,
            "object_position": null,
            "order": null,
            "overflow": null,
            "overflow_x": null,
            "overflow_y": null,
            "padding": null,
            "right": null,
            "top": null,
            "visibility": null,
            "width": null
          }
        },
        "3597c542d20240cf9241eae70308cc59": {
          "model_module": "@jupyter-widgets/controls",
          "model_name": "DescriptionStyleModel",
          "model_module_version": "1.5.0",
          "state": {
            "_model_module": "@jupyter-widgets/controls",
            "_model_module_version": "1.5.0",
            "_model_name": "DescriptionStyleModel",
            "_view_count": null,
            "_view_module": "@jupyter-widgets/base",
            "_view_module_version": "1.2.0",
            "_view_name": "StyleView",
            "description_width": ""
          }
        },
        "8c85de1c1ad74db691059e3e6ef40a0a": {
          "model_module": "@jupyter-widgets/controls",
          "model_name": "CheckboxModel",
          "model_module_version": "1.5.0",
          "state": {
            "_dom_classes": [],
            "_model_module": "@jupyter-widgets/controls",
            "_model_module_version": "1.5.0",
            "_model_name": "CheckboxModel",
            "_view_count": null,
            "_view_module": "@jupyter-widgets/controls",
            "_view_module_version": "1.5.0",
            "_view_name": "CheckboxView",
            "description": "KNeighborsClassifier()",
            "description_tooltip": null,
            "disabled": false,
            "indent": false,
            "layout": "IPY_MODEL_eb9bcaa1c7574ddf951a3d6b506c1328",
            "style": "IPY_MODEL_2942ce4b9944490ba35292dda51a8e38",
            "value": false
          }
        },
        "eb9bcaa1c7574ddf951a3d6b506c1328": {
          "model_module": "@jupyter-widgets/base",
          "model_name": "LayoutModel",
          "model_module_version": "1.2.0",
          "state": {
            "_model_module": "@jupyter-widgets/base",
            "_model_module_version": "1.2.0",
            "_model_name": "LayoutModel",
            "_view_count": null,
            "_view_module": "@jupyter-widgets/base",
            "_view_module_version": "1.2.0",
            "_view_name": "LayoutView",
            "align_content": null,
            "align_items": null,
            "align_self": null,
            "border": null,
            "bottom": null,
            "display": null,
            "flex": null,
            "flex_flow": null,
            "grid_area": null,
            "grid_auto_columns": null,
            "grid_auto_flow": null,
            "grid_auto_rows": null,
            "grid_column": null,
            "grid_gap": null,
            "grid_row": null,
            "grid_template_areas": null,
            "grid_template_columns": null,
            "grid_template_rows": null,
            "height": null,
            "justify_content": null,
            "justify_items": null,
            "left": null,
            "margin": null,
            "max_height": null,
            "max_width": null,
            "min_height": null,
            "min_width": null,
            "object_fit": null,
            "object_position": null,
            "order": null,
            "overflow": null,
            "overflow_x": null,
            "overflow_y": null,
            "padding": null,
            "right": null,
            "top": null,
            "visibility": null,
            "width": null
          }
        },
        "2942ce4b9944490ba35292dda51a8e38": {
          "model_module": "@jupyter-widgets/controls",
          "model_name": "DescriptionStyleModel",
          "model_module_version": "1.5.0",
          "state": {
            "_model_module": "@jupyter-widgets/controls",
            "_model_module_version": "1.5.0",
            "_model_name": "DescriptionStyleModel",
            "_view_count": null,
            "_view_module": "@jupyter-widgets/base",
            "_view_module_version": "1.2.0",
            "_view_name": "StyleView",
            "description_width": ""
          }
        },
        "ec976520c35941c9acfb2821919d207a": {
          "model_module": "@jupyter-widgets/controls",
          "model_name": "CheckboxModel",
          "model_module_version": "1.5.0",
          "state": {
            "_dom_classes": [],
            "_model_module": "@jupyter-widgets/controls",
            "_model_module_version": "1.5.0",
            "_model_name": "CheckboxModel",
            "_view_count": null,
            "_view_module": "@jupyter-widgets/controls",
            "_view_module_version": "1.5.0",
            "_view_name": "CheckboxView",
            "description": "KNeighborsClassifier(n_neighbors=1)",
            "description_tooltip": null,
            "disabled": false,
            "indent": false,
            "layout": "IPY_MODEL_333e8ad99f19464486eee0fc670a9220",
            "style": "IPY_MODEL_24c83f55a15f4f08a3cdcb2644900b88",
            "value": false
          }
        },
        "333e8ad99f19464486eee0fc670a9220": {
          "model_module": "@jupyter-widgets/base",
          "model_name": "LayoutModel",
          "model_module_version": "1.2.0",
          "state": {
            "_model_module": "@jupyter-widgets/base",
            "_model_module_version": "1.2.0",
            "_model_name": "LayoutModel",
            "_view_count": null,
            "_view_module": "@jupyter-widgets/base",
            "_view_module_version": "1.2.0",
            "_view_name": "LayoutView",
            "align_content": null,
            "align_items": null,
            "align_self": null,
            "border": null,
            "bottom": null,
            "display": null,
            "flex": null,
            "flex_flow": null,
            "grid_area": null,
            "grid_auto_columns": null,
            "grid_auto_flow": null,
            "grid_auto_rows": null,
            "grid_column": null,
            "grid_gap": null,
            "grid_row": null,
            "grid_template_areas": null,
            "grid_template_columns": null,
            "grid_template_rows": null,
            "height": null,
            "justify_content": null,
            "justify_items": null,
            "left": null,
            "margin": null,
            "max_height": null,
            "max_width": null,
            "min_height": null,
            "min_width": null,
            "object_fit": null,
            "object_position": null,
            "order": null,
            "overflow": null,
            "overflow_x": null,
            "overflow_y": null,
            "padding": null,
            "right": null,
            "top": null,
            "visibility": null,
            "width": null
          }
        },
        "24c83f55a15f4f08a3cdcb2644900b88": {
          "model_module": "@jupyter-widgets/controls",
          "model_name": "DescriptionStyleModel",
          "model_module_version": "1.5.0",
          "state": {
            "_model_module": "@jupyter-widgets/controls",
            "_model_module_version": "1.5.0",
            "_model_name": "DescriptionStyleModel",
            "_view_count": null,
            "_view_module": "@jupyter-widgets/base",
            "_view_module_version": "1.2.0",
            "_view_name": "StyleView",
            "description_width": ""
          }
        },
        "c2d17fc836fa4fed96f05693e4ea6d58": {
          "model_module": "@jupyter-widgets/controls",
          "model_name": "CheckboxModel",
          "model_module_version": "1.5.0",
          "state": {
            "_dom_classes": [],
            "_model_module": "@jupyter-widgets/controls",
            "_model_module_version": "1.5.0",
            "_model_name": "CheckboxModel",
            "_view_count": null,
            "_view_module": "@jupyter-widgets/controls",
            "_view_module_version": "1.5.0",
            "_view_name": "CheckboxView",
            "description": "GaussianNB()",
            "description_tooltip": null,
            "disabled": false,
            "indent": false,
            "layout": "IPY_MODEL_cada3adb537f4ce0a921d29b418f04ab",
            "style": "IPY_MODEL_e2d518523d5242849da5d4dd34d4d378",
            "value": false
          }
        },
        "cada3adb537f4ce0a921d29b418f04ab": {
          "model_module": "@jupyter-widgets/base",
          "model_name": "LayoutModel",
          "model_module_version": "1.2.0",
          "state": {
            "_model_module": "@jupyter-widgets/base",
            "_model_module_version": "1.2.0",
            "_model_name": "LayoutModel",
            "_view_count": null,
            "_view_module": "@jupyter-widgets/base",
            "_view_module_version": "1.2.0",
            "_view_name": "LayoutView",
            "align_content": null,
            "align_items": null,
            "align_self": null,
            "border": null,
            "bottom": null,
            "display": null,
            "flex": null,
            "flex_flow": null,
            "grid_area": null,
            "grid_auto_columns": null,
            "grid_auto_flow": null,
            "grid_auto_rows": null,
            "grid_column": null,
            "grid_gap": null,
            "grid_row": null,
            "grid_template_areas": null,
            "grid_template_columns": null,
            "grid_template_rows": null,
            "height": null,
            "justify_content": null,
            "justify_items": null,
            "left": null,
            "margin": null,
            "max_height": null,
            "max_width": null,
            "min_height": null,
            "min_width": null,
            "object_fit": null,
            "object_position": null,
            "order": null,
            "overflow": null,
            "overflow_x": null,
            "overflow_y": null,
            "padding": null,
            "right": null,
            "top": null,
            "visibility": null,
            "width": null
          }
        },
        "e2d518523d5242849da5d4dd34d4d378": {
          "model_module": "@jupyter-widgets/controls",
          "model_name": "DescriptionStyleModel",
          "model_module_version": "1.5.0",
          "state": {
            "_model_module": "@jupyter-widgets/controls",
            "_model_module_version": "1.5.0",
            "_model_name": "DescriptionStyleModel",
            "_view_count": null,
            "_view_module": "@jupyter-widgets/base",
            "_view_module_version": "1.2.0",
            "_view_name": "StyleView",
            "description_width": ""
          }
        },
        "68ba90b5fbb3487aa9d66dd02d300690": {
          "model_module": "@jupyter-widgets/controls",
          "model_name": "CheckboxModel",
          "model_module_version": "1.5.0",
          "state": {
            "_dom_classes": [],
            "_model_module": "@jupyter-widgets/controls",
            "_model_module_version": "1.5.0",
            "_model_name": "CheckboxModel",
            "_view_count": null,
            "_view_module": "@jupyter-widgets/controls",
            "_view_module_version": "1.5.0",
            "_view_name": "CheckboxView",
            "description": "AdaBoostClassifier(random_state=0)",
            "description_tooltip": null,
            "disabled": false,
            "indent": false,
            "layout": "IPY_MODEL_db1ff6c6247b417297771f2caaf720a4",
            "style": "IPY_MODEL_2614e9f0569747c4bd30d03974ba6f9f",
            "value": false
          }
        },
        "db1ff6c6247b417297771f2caaf720a4": {
          "model_module": "@jupyter-widgets/base",
          "model_name": "LayoutModel",
          "model_module_version": "1.2.0",
          "state": {
            "_model_module": "@jupyter-widgets/base",
            "_model_module_version": "1.2.0",
            "_model_name": "LayoutModel",
            "_view_count": null,
            "_view_module": "@jupyter-widgets/base",
            "_view_module_version": "1.2.0",
            "_view_name": "LayoutView",
            "align_content": null,
            "align_items": null,
            "align_self": null,
            "border": null,
            "bottom": null,
            "display": null,
            "flex": null,
            "flex_flow": null,
            "grid_area": null,
            "grid_auto_columns": null,
            "grid_auto_flow": null,
            "grid_auto_rows": null,
            "grid_column": null,
            "grid_gap": null,
            "grid_row": null,
            "grid_template_areas": null,
            "grid_template_columns": null,
            "grid_template_rows": null,
            "height": null,
            "justify_content": null,
            "justify_items": null,
            "left": null,
            "margin": null,
            "max_height": null,
            "max_width": null,
            "min_height": null,
            "min_width": null,
            "object_fit": null,
            "object_position": null,
            "order": null,
            "overflow": null,
            "overflow_x": null,
            "overflow_y": null,
            "padding": null,
            "right": null,
            "top": null,
            "visibility": null,
            "width": null
          }
        },
        "2614e9f0569747c4bd30d03974ba6f9f": {
          "model_module": "@jupyter-widgets/controls",
          "model_name": "DescriptionStyleModel",
          "model_module_version": "1.5.0",
          "state": {
            "_model_module": "@jupyter-widgets/controls",
            "_model_module_version": "1.5.0",
            "_model_name": "DescriptionStyleModel",
            "_view_count": null,
            "_view_module": "@jupyter-widgets/base",
            "_view_module_version": "1.2.0",
            "_view_name": "StyleView",
            "description_width": ""
          }
        },
        "7a390ac8786b4aa092e59a90538d9b57": {
          "model_module": "@jupyter-widgets/controls",
          "model_name": "CheckboxModel",
          "model_module_version": "1.5.0",
          "state": {
            "_dom_classes": [],
            "_model_module": "@jupyter-widgets/controls",
            "_model_module_version": "1.5.0",
            "_model_name": "CheckboxModel",
            "_view_count": null,
            "_view_module": "@jupyter-widgets/controls",
            "_view_module_version": "1.5.0",
            "_view_name": "CheckboxView",
            "description": "AdaBoostClassifier(n_estimators=39, random_state=0)",
            "description_tooltip": null,
            "disabled": false,
            "indent": false,
            "layout": "IPY_MODEL_ce8b9ae1e2c74a4aa36993e55800caaf",
            "style": "IPY_MODEL_083e18eca8a447f9b77e6c7158a7408a",
            "value": false
          }
        },
        "ce8b9ae1e2c74a4aa36993e55800caaf": {
          "model_module": "@jupyter-widgets/base",
          "model_name": "LayoutModel",
          "model_module_version": "1.2.0",
          "state": {
            "_model_module": "@jupyter-widgets/base",
            "_model_module_version": "1.2.0",
            "_model_name": "LayoutModel",
            "_view_count": null,
            "_view_module": "@jupyter-widgets/base",
            "_view_module_version": "1.2.0",
            "_view_name": "LayoutView",
            "align_content": null,
            "align_items": null,
            "align_self": null,
            "border": null,
            "bottom": null,
            "display": null,
            "flex": null,
            "flex_flow": null,
            "grid_area": null,
            "grid_auto_columns": null,
            "grid_auto_flow": null,
            "grid_auto_rows": null,
            "grid_column": null,
            "grid_gap": null,
            "grid_row": null,
            "grid_template_areas": null,
            "grid_template_columns": null,
            "grid_template_rows": null,
            "height": null,
            "justify_content": null,
            "justify_items": null,
            "left": null,
            "margin": null,
            "max_height": null,
            "max_width": null,
            "min_height": null,
            "min_width": null,
            "object_fit": null,
            "object_position": null,
            "order": null,
            "overflow": null,
            "overflow_x": null,
            "overflow_y": null,
            "padding": null,
            "right": null,
            "top": null,
            "visibility": null,
            "width": null
          }
        },
        "083e18eca8a447f9b77e6c7158a7408a": {
          "model_module": "@jupyter-widgets/controls",
          "model_name": "DescriptionStyleModel",
          "model_module_version": "1.5.0",
          "state": {
            "_model_module": "@jupyter-widgets/controls",
            "_model_module_version": "1.5.0",
            "_model_name": "DescriptionStyleModel",
            "_view_count": null,
            "_view_module": "@jupyter-widgets/base",
            "_view_module_version": "1.2.0",
            "_view_name": "StyleView",
            "description_width": ""
          }
        },
        "f1e8597624cf43dca2cb16981593500c": {
          "model_module": "@jupyter-widgets/controls",
          "model_name": "CheckboxModel",
          "model_module_version": "1.5.0",
          "state": {
            "_dom_classes": [],
            "_model_module": "@jupyter-widgets/controls",
            "_model_module_version": "1.5.0",
            "_model_name": "CheckboxModel",
            "_view_count": null,
            "_view_module": "@jupyter-widgets/controls",
            "_view_module_version": "1.5.0",
            "_view_name": "CheckboxView",
            "description": "GradientBoostingClassifier(random_state=0)",
            "description_tooltip": null,
            "disabled": false,
            "indent": false,
            "layout": "IPY_MODEL_317990949fa6476082f68a21dd1f3882",
            "style": "IPY_MODEL_64c37cb71c49453b9d5c82139fa9faa3",
            "value": false
          }
        },
        "317990949fa6476082f68a21dd1f3882": {
          "model_module": "@jupyter-widgets/base",
          "model_name": "LayoutModel",
          "model_module_version": "1.2.0",
          "state": {
            "_model_module": "@jupyter-widgets/base",
            "_model_module_version": "1.2.0",
            "_model_name": "LayoutModel",
            "_view_count": null,
            "_view_module": "@jupyter-widgets/base",
            "_view_module_version": "1.2.0",
            "_view_name": "LayoutView",
            "align_content": null,
            "align_items": null,
            "align_self": null,
            "border": null,
            "bottom": null,
            "display": null,
            "flex": null,
            "flex_flow": null,
            "grid_area": null,
            "grid_auto_columns": null,
            "grid_auto_flow": null,
            "grid_auto_rows": null,
            "grid_column": null,
            "grid_gap": null,
            "grid_row": null,
            "grid_template_areas": null,
            "grid_template_columns": null,
            "grid_template_rows": null,
            "height": null,
            "justify_content": null,
            "justify_items": null,
            "left": null,
            "margin": null,
            "max_height": null,
            "max_width": null,
            "min_height": null,
            "min_width": null,
            "object_fit": null,
            "object_position": null,
            "order": null,
            "overflow": null,
            "overflow_x": null,
            "overflow_y": null,
            "padding": null,
            "right": null,
            "top": null,
            "visibility": null,
            "width": null
          }
        },
        "64c37cb71c49453b9d5c82139fa9faa3": {
          "model_module": "@jupyter-widgets/controls",
          "model_name": "DescriptionStyleModel",
          "model_module_version": "1.5.0",
          "state": {
            "_model_module": "@jupyter-widgets/controls",
            "_model_module_version": "1.5.0",
            "_model_name": "DescriptionStyleModel",
            "_view_count": null,
            "_view_module": "@jupyter-widgets/base",
            "_view_module_version": "1.2.0",
            "_view_name": "StyleView",
            "description_width": ""
          }
        },
        "8420e5c342174ad2bfd0a55a959818fb": {
          "model_module": "@jupyter-widgets/controls",
          "model_name": "CheckboxModel",
          "model_module_version": "1.5.0",
          "state": {
            "_dom_classes": [],
            "_model_module": "@jupyter-widgets/controls",
            "_model_module_version": "1.5.0",
            "_model_name": "CheckboxModel",
            "_view_count": null,
            "_view_module": "@jupyter-widgets/controls",
            "_view_module_version": "1.5.0",
            "_view_name": "CheckboxView",
            "description": "GradientBoostingClassifier(n_estimators=41, random_state=0)",
            "description_tooltip": null,
            "disabled": false,
            "indent": false,
            "layout": "IPY_MODEL_bd64b475c1284b23a0ec5ae23f70bb33",
            "style": "IPY_MODEL_dfa1b0e0eb424a69a02a8efb8fecc2f8",
            "value": false
          }
        },
        "bd64b475c1284b23a0ec5ae23f70bb33": {
          "model_module": "@jupyter-widgets/base",
          "model_name": "LayoutModel",
          "model_module_version": "1.2.0",
          "state": {
            "_model_module": "@jupyter-widgets/base",
            "_model_module_version": "1.2.0",
            "_model_name": "LayoutModel",
            "_view_count": null,
            "_view_module": "@jupyter-widgets/base",
            "_view_module_version": "1.2.0",
            "_view_name": "LayoutView",
            "align_content": null,
            "align_items": null,
            "align_self": null,
            "border": null,
            "bottom": null,
            "display": null,
            "flex": null,
            "flex_flow": null,
            "grid_area": null,
            "grid_auto_columns": null,
            "grid_auto_flow": null,
            "grid_auto_rows": null,
            "grid_column": null,
            "grid_gap": null,
            "grid_row": null,
            "grid_template_areas": null,
            "grid_template_columns": null,
            "grid_template_rows": null,
            "height": null,
            "justify_content": null,
            "justify_items": null,
            "left": null,
            "margin": null,
            "max_height": null,
            "max_width": null,
            "min_height": null,
            "min_width": null,
            "object_fit": null,
            "object_position": null,
            "order": null,
            "overflow": null,
            "overflow_x": null,
            "overflow_y": null,
            "padding": null,
            "right": null,
            "top": null,
            "visibility": null,
            "width": null
          }
        },
        "dfa1b0e0eb424a69a02a8efb8fecc2f8": {
          "model_module": "@jupyter-widgets/controls",
          "model_name": "DescriptionStyleModel",
          "model_module_version": "1.5.0",
          "state": {
            "_model_module": "@jupyter-widgets/controls",
            "_model_module_version": "1.5.0",
            "_model_name": "DescriptionStyleModel",
            "_view_count": null,
            "_view_module": "@jupyter-widgets/base",
            "_view_module_version": "1.2.0",
            "_view_name": "StyleView",
            "description_width": ""
          }
        },
        "d1ff51a301224c9e8ce32ea16b6e4735": {
          "model_module": "@jupyter-widgets/controls",
          "model_name": "CheckboxModel",
          "model_module_version": "1.5.0",
          "state": {
            "_dom_classes": [],
            "_model_module": "@jupyter-widgets/controls",
            "_model_module_version": "1.5.0",
            "_model_name": "CheckboxModel",
            "_view_count": null,
            "_view_module": "@jupyter-widgets/controls",
            "_view_module_version": "1.5.0",
            "_view_name": "CheckboxView",
            "description": "GradientBoostingClassifier(max_depth=11, random_state=0)",
            "description_tooltip": null,
            "disabled": false,
            "indent": false,
            "layout": "IPY_MODEL_2d32615241ba4e989ab2c77d4d86641d",
            "style": "IPY_MODEL_3f928b6233274ac6b91b28d5176e6a03",
            "value": false
          }
        },
        "2d32615241ba4e989ab2c77d4d86641d": {
          "model_module": "@jupyter-widgets/base",
          "model_name": "LayoutModel",
          "model_module_version": "1.2.0",
          "state": {
            "_model_module": "@jupyter-widgets/base",
            "_model_module_version": "1.2.0",
            "_model_name": "LayoutModel",
            "_view_count": null,
            "_view_module": "@jupyter-widgets/base",
            "_view_module_version": "1.2.0",
            "_view_name": "LayoutView",
            "align_content": null,
            "align_items": null,
            "align_self": null,
            "border": null,
            "bottom": null,
            "display": null,
            "flex": null,
            "flex_flow": null,
            "grid_area": null,
            "grid_auto_columns": null,
            "grid_auto_flow": null,
            "grid_auto_rows": null,
            "grid_column": null,
            "grid_gap": null,
            "grid_row": null,
            "grid_template_areas": null,
            "grid_template_columns": null,
            "grid_template_rows": null,
            "height": null,
            "justify_content": null,
            "justify_items": null,
            "left": null,
            "margin": null,
            "max_height": null,
            "max_width": null,
            "min_height": null,
            "min_width": null,
            "object_fit": null,
            "object_position": null,
            "order": null,
            "overflow": null,
            "overflow_x": null,
            "overflow_y": null,
            "padding": null,
            "right": null,
            "top": null,
            "visibility": null,
            "width": null
          }
        },
        "3f928b6233274ac6b91b28d5176e6a03": {
          "model_module": "@jupyter-widgets/controls",
          "model_name": "DescriptionStyleModel",
          "model_module_version": "1.5.0",
          "state": {
            "_model_module": "@jupyter-widgets/controls",
            "_model_module_version": "1.5.0",
            "_model_name": "DescriptionStyleModel",
            "_view_count": null,
            "_view_module": "@jupyter-widgets/base",
            "_view_module_version": "1.2.0",
            "_view_name": "StyleView",
            "description_width": ""
          }
        },
        "9e41bceead6140f39322f371d25d55aa": {
          "model_module": "@jupyter-widgets/controls",
          "model_name": "CheckboxModel",
          "model_module_version": "1.5.0",
          "state": {
            "_dom_classes": [],
            "_model_module": "@jupyter-widgets/controls",
            "_model_module_version": "1.5.0",
            "_model_name": "CheckboxModel",
            "_view_count": null,
            "_view_module": "@jupyter-widgets/controls",
            "_view_module_version": "1.5.0",
            "_view_name": "CheckboxView",
            "description": "GradientBoostingClassifier(max_depth=11, n_estimators=41, random_state=0)",
            "description_tooltip": null,
            "disabled": false,
            "indent": false,
            "layout": "IPY_MODEL_ca8ba6c1f0524cb58b3dfc4a2a3852dc",
            "style": "IPY_MODEL_b58b190c818247cd903bff203bb2c80e",
            "value": false
          }
        },
        "ca8ba6c1f0524cb58b3dfc4a2a3852dc": {
          "model_module": "@jupyter-widgets/base",
          "model_name": "LayoutModel",
          "model_module_version": "1.2.0",
          "state": {
            "_model_module": "@jupyter-widgets/base",
            "_model_module_version": "1.2.0",
            "_model_name": "LayoutModel",
            "_view_count": null,
            "_view_module": "@jupyter-widgets/base",
            "_view_module_version": "1.2.0",
            "_view_name": "LayoutView",
            "align_content": null,
            "align_items": null,
            "align_self": null,
            "border": null,
            "bottom": null,
            "display": null,
            "flex": null,
            "flex_flow": null,
            "grid_area": null,
            "grid_auto_columns": null,
            "grid_auto_flow": null,
            "grid_auto_rows": null,
            "grid_column": null,
            "grid_gap": null,
            "grid_row": null,
            "grid_template_areas": null,
            "grid_template_columns": null,
            "grid_template_rows": null,
            "height": null,
            "justify_content": null,
            "justify_items": null,
            "left": null,
            "margin": null,
            "max_height": null,
            "max_width": null,
            "min_height": null,
            "min_width": null,
            "object_fit": null,
            "object_position": null,
            "order": null,
            "overflow": null,
            "overflow_x": null,
            "overflow_y": null,
            "padding": null,
            "right": null,
            "top": null,
            "visibility": null,
            "width": null
          }
        },
        "b58b190c818247cd903bff203bb2c80e": {
          "model_module": "@jupyter-widgets/controls",
          "model_name": "DescriptionStyleModel",
          "model_module_version": "1.5.0",
          "state": {
            "_model_module": "@jupyter-widgets/controls",
            "_model_module_version": "1.5.0",
            "_model_name": "DescriptionStyleModel",
            "_view_count": null,
            "_view_module": "@jupyter-widgets/base",
            "_view_module_version": "1.2.0",
            "_view_name": "StyleView",
            "description_width": ""
          }
        },
        "a144de7f7b1b426d8eb4c06903ec5e37": {
          "model_module": "@jupyter-widgets/controls",
          "model_name": "CheckboxModel",
          "model_module_version": "1.5.0",
          "state": {
            "_dom_classes": [],
            "_model_module": "@jupyter-widgets/controls",
            "_model_module_version": "1.5.0",
            "_model_name": "CheckboxModel",
            "_view_count": null,
            "_view_module": "@jupyter-widgets/controls",
            "_view_module_version": "1.5.0",
            "_view_name": "CheckboxView",
            "description": "RandomForestClassifier(random_state=0)",
            "description_tooltip": null,
            "disabled": false,
            "indent": false,
            "layout": "IPY_MODEL_bb687f310a4d48a4b109d23374205a19",
            "style": "IPY_MODEL_f5ef53f587264fa89470783ae3fd1f78",
            "value": false
          }
        },
        "bb687f310a4d48a4b109d23374205a19": {
          "model_module": "@jupyter-widgets/base",
          "model_name": "LayoutModel",
          "model_module_version": "1.2.0",
          "state": {
            "_model_module": "@jupyter-widgets/base",
            "_model_module_version": "1.2.0",
            "_model_name": "LayoutModel",
            "_view_count": null,
            "_view_module": "@jupyter-widgets/base",
            "_view_module_version": "1.2.0",
            "_view_name": "LayoutView",
            "align_content": null,
            "align_items": null,
            "align_self": null,
            "border": null,
            "bottom": null,
            "display": null,
            "flex": null,
            "flex_flow": null,
            "grid_area": null,
            "grid_auto_columns": null,
            "grid_auto_flow": null,
            "grid_auto_rows": null,
            "grid_column": null,
            "grid_gap": null,
            "grid_row": null,
            "grid_template_areas": null,
            "grid_template_columns": null,
            "grid_template_rows": null,
            "height": null,
            "justify_content": null,
            "justify_items": null,
            "left": null,
            "margin": null,
            "max_height": null,
            "max_width": null,
            "min_height": null,
            "min_width": null,
            "object_fit": null,
            "object_position": null,
            "order": null,
            "overflow": null,
            "overflow_x": null,
            "overflow_y": null,
            "padding": null,
            "right": null,
            "top": null,
            "visibility": null,
            "width": null
          }
        },
        "f5ef53f587264fa89470783ae3fd1f78": {
          "model_module": "@jupyter-widgets/controls",
          "model_name": "DescriptionStyleModel",
          "model_module_version": "1.5.0",
          "state": {
            "_model_module": "@jupyter-widgets/controls",
            "_model_module_version": "1.5.0",
            "_model_name": "DescriptionStyleModel",
            "_view_count": null,
            "_view_module": "@jupyter-widgets/base",
            "_view_module_version": "1.2.0",
            "_view_name": "StyleView",
            "description_width": ""
          }
        },
        "85df170468924478995f0f1350c48572": {
          "model_module": "@jupyter-widgets/controls",
          "model_name": "CheckboxModel",
          "model_module_version": "1.5.0",
          "state": {
            "_dom_classes": [],
            "_model_module": "@jupyter-widgets/controls",
            "_model_module_version": "1.5.0",
            "_model_name": "CheckboxModel",
            "_view_count": null,
            "_view_module": "@jupyter-widgets/controls",
            "_view_module_version": "1.5.0",
            "_view_name": "CheckboxView",
            "description": "RandomForestClassifier(n_estimators=124, random_state=0)",
            "description_tooltip": null,
            "disabled": false,
            "indent": false,
            "layout": "IPY_MODEL_8433a2dcb6d64363999d907c2c031fd7",
            "style": "IPY_MODEL_aa9d8810264d41ec9f4155ae690e5c21",
            "value": false
          }
        },
        "8433a2dcb6d64363999d907c2c031fd7": {
          "model_module": "@jupyter-widgets/base",
          "model_name": "LayoutModel",
          "model_module_version": "1.2.0",
          "state": {
            "_model_module": "@jupyter-widgets/base",
            "_model_module_version": "1.2.0",
            "_model_name": "LayoutModel",
            "_view_count": null,
            "_view_module": "@jupyter-widgets/base",
            "_view_module_version": "1.2.0",
            "_view_name": "LayoutView",
            "align_content": null,
            "align_items": null,
            "align_self": null,
            "border": null,
            "bottom": null,
            "display": null,
            "flex": null,
            "flex_flow": null,
            "grid_area": null,
            "grid_auto_columns": null,
            "grid_auto_flow": null,
            "grid_auto_rows": null,
            "grid_column": null,
            "grid_gap": null,
            "grid_row": null,
            "grid_template_areas": null,
            "grid_template_columns": null,
            "grid_template_rows": null,
            "height": null,
            "justify_content": null,
            "justify_items": null,
            "left": null,
            "margin": null,
            "max_height": null,
            "max_width": null,
            "min_height": null,
            "min_width": null,
            "object_fit": null,
            "object_position": null,
            "order": null,
            "overflow": null,
            "overflow_x": null,
            "overflow_y": null,
            "padding": null,
            "right": null,
            "top": null,
            "visibility": null,
            "width": null
          }
        },
        "aa9d8810264d41ec9f4155ae690e5c21": {
          "model_module": "@jupyter-widgets/controls",
          "model_name": "DescriptionStyleModel",
          "model_module_version": "1.5.0",
          "state": {
            "_model_module": "@jupyter-widgets/controls",
            "_model_module_version": "1.5.0",
            "_model_name": "DescriptionStyleModel",
            "_view_count": null,
            "_view_module": "@jupyter-widgets/base",
            "_view_module_version": "1.2.0",
            "_view_name": "StyleView",
            "description_width": ""
          }
        },
        "2d3da3acac0a4ff98f14510e6f802a24": {
          "model_module": "@jupyter-widgets/controls",
          "model_name": "CheckboxModel",
          "model_module_version": "1.5.0",
          "state": {
            "_dom_classes": [],
            "_model_module": "@jupyter-widgets/controls",
            "_model_module_version": "1.5.0",
            "_model_name": "CheckboxModel",
            "_view_count": null,
            "_view_module": "@jupyter-widgets/controls",
            "_view_module_version": "1.5.0",
            "_view_name": "CheckboxView",
            "description": "RandomForestClassifier(max_depth=18, random_state=0)",
            "description_tooltip": null,
            "disabled": false,
            "indent": false,
            "layout": "IPY_MODEL_2c23c462d4004059a1bd68b8adc5db43",
            "style": "IPY_MODEL_a51d3a4771ee419c86465e8722371502",
            "value": false
          }
        },
        "2c23c462d4004059a1bd68b8adc5db43": {
          "model_module": "@jupyter-widgets/base",
          "model_name": "LayoutModel",
          "model_module_version": "1.2.0",
          "state": {
            "_model_module": "@jupyter-widgets/base",
            "_model_module_version": "1.2.0",
            "_model_name": "LayoutModel",
            "_view_count": null,
            "_view_module": "@jupyter-widgets/base",
            "_view_module_version": "1.2.0",
            "_view_name": "LayoutView",
            "align_content": null,
            "align_items": null,
            "align_self": null,
            "border": null,
            "bottom": null,
            "display": null,
            "flex": null,
            "flex_flow": null,
            "grid_area": null,
            "grid_auto_columns": null,
            "grid_auto_flow": null,
            "grid_auto_rows": null,
            "grid_column": null,
            "grid_gap": null,
            "grid_row": null,
            "grid_template_areas": null,
            "grid_template_columns": null,
            "grid_template_rows": null,
            "height": null,
            "justify_content": null,
            "justify_items": null,
            "left": null,
            "margin": null,
            "max_height": null,
            "max_width": null,
            "min_height": null,
            "min_width": null,
            "object_fit": null,
            "object_position": null,
            "order": null,
            "overflow": null,
            "overflow_x": null,
            "overflow_y": null,
            "padding": null,
            "right": null,
            "top": null,
            "visibility": null,
            "width": null
          }
        },
        "a51d3a4771ee419c86465e8722371502": {
          "model_module": "@jupyter-widgets/controls",
          "model_name": "DescriptionStyleModel",
          "model_module_version": "1.5.0",
          "state": {
            "_model_module": "@jupyter-widgets/controls",
            "_model_module_version": "1.5.0",
            "_model_name": "DescriptionStyleModel",
            "_view_count": null,
            "_view_module": "@jupyter-widgets/base",
            "_view_module_version": "1.2.0",
            "_view_name": "StyleView",
            "description_width": ""
          }
        },
        "0d19b0a545ce4f3eaa7dc1f369e82c20": {
          "model_module": "@jupyter-widgets/controls",
          "model_name": "CheckboxModel",
          "model_module_version": "1.5.0",
          "state": {
            "_dom_classes": [],
            "_model_module": "@jupyter-widgets/controls",
            "_model_module_version": "1.5.0",
            "_model_name": "CheckboxModel",
            "_view_count": null,
            "_view_module": "@jupyter-widgets/controls",
            "_view_module_version": "1.5.0",
            "_view_name": "CheckboxView",
            "description": "RandomForestClassifier(max_depth=18, n_estimators=124, random_state=0)",
            "description_tooltip": null,
            "disabled": false,
            "indent": false,
            "layout": "IPY_MODEL_1a64756d777142078a7ef1471465aa99",
            "style": "IPY_MODEL_fd1073b5725940ad82ff4b74b5b4558c",
            "value": false
          }
        },
        "1a64756d777142078a7ef1471465aa99": {
          "model_module": "@jupyter-widgets/base",
          "model_name": "LayoutModel",
          "model_module_version": "1.2.0",
          "state": {
            "_model_module": "@jupyter-widgets/base",
            "_model_module_version": "1.2.0",
            "_model_name": "LayoutModel",
            "_view_count": null,
            "_view_module": "@jupyter-widgets/base",
            "_view_module_version": "1.2.0",
            "_view_name": "LayoutView",
            "align_content": null,
            "align_items": null,
            "align_self": null,
            "border": null,
            "bottom": null,
            "display": null,
            "flex": null,
            "flex_flow": null,
            "grid_area": null,
            "grid_auto_columns": null,
            "grid_auto_flow": null,
            "grid_auto_rows": null,
            "grid_column": null,
            "grid_gap": null,
            "grid_row": null,
            "grid_template_areas": null,
            "grid_template_columns": null,
            "grid_template_rows": null,
            "height": null,
            "justify_content": null,
            "justify_items": null,
            "left": null,
            "margin": null,
            "max_height": null,
            "max_width": null,
            "min_height": null,
            "min_width": null,
            "object_fit": null,
            "object_position": null,
            "order": null,
            "overflow": null,
            "overflow_x": null,
            "overflow_y": null,
            "padding": null,
            "right": null,
            "top": null,
            "visibility": null,
            "width": null
          }
        },
        "fd1073b5725940ad82ff4b74b5b4558c": {
          "model_module": "@jupyter-widgets/controls",
          "model_name": "DescriptionStyleModel",
          "model_module_version": "1.5.0",
          "state": {
            "_model_module": "@jupyter-widgets/controls",
            "_model_module_version": "1.5.0",
            "_model_name": "DescriptionStyleModel",
            "_view_count": null,
            "_view_module": "@jupyter-widgets/base",
            "_view_module_version": "1.2.0",
            "_view_name": "StyleView",
            "description_width": ""
          }
        },
        "1906e30ec9c34a0f9c1d8ae59855b396": {
          "model_module": "@jupyter-widgets/controls",
          "model_name": "CheckboxModel",
          "model_module_version": "1.5.0",
          "state": {
            "_dom_classes": [],
            "_model_module": "@jupyter-widgets/controls",
            "_model_module_version": "1.5.0",
            "_model_name": "CheckboxModel",
            "_view_count": null,
            "_view_module": "@jupyter-widgets/controls",
            "_view_module_version": "1.5.0",
            "_view_name": "CheckboxView",
            "description": "XGBClassifier(objective='multi:softprob')",
            "description_tooltip": null,
            "disabled": false,
            "indent": false,
            "layout": "IPY_MODEL_14b226c887d0471bae13cacbf308a555",
            "style": "IPY_MODEL_4061413b9b974bfc91747c32fc076fa1",
            "value": false
          }
        },
        "14b226c887d0471bae13cacbf308a555": {
          "model_module": "@jupyter-widgets/base",
          "model_name": "LayoutModel",
          "model_module_version": "1.2.0",
          "state": {
            "_model_module": "@jupyter-widgets/base",
            "_model_module_version": "1.2.0",
            "_model_name": "LayoutModel",
            "_view_count": null,
            "_view_module": "@jupyter-widgets/base",
            "_view_module_version": "1.2.0",
            "_view_name": "LayoutView",
            "align_content": null,
            "align_items": null,
            "align_self": null,
            "border": null,
            "bottom": null,
            "display": null,
            "flex": null,
            "flex_flow": null,
            "grid_area": null,
            "grid_auto_columns": null,
            "grid_auto_flow": null,
            "grid_auto_rows": null,
            "grid_column": null,
            "grid_gap": null,
            "grid_row": null,
            "grid_template_areas": null,
            "grid_template_columns": null,
            "grid_template_rows": null,
            "height": null,
            "justify_content": null,
            "justify_items": null,
            "left": null,
            "margin": null,
            "max_height": null,
            "max_width": null,
            "min_height": null,
            "min_width": null,
            "object_fit": null,
            "object_position": null,
            "order": null,
            "overflow": null,
            "overflow_x": null,
            "overflow_y": null,
            "padding": null,
            "right": null,
            "top": null,
            "visibility": null,
            "width": null
          }
        },
        "4061413b9b974bfc91747c32fc076fa1": {
          "model_module": "@jupyter-widgets/controls",
          "model_name": "DescriptionStyleModel",
          "model_module_version": "1.5.0",
          "state": {
            "_model_module": "@jupyter-widgets/controls",
            "_model_module_version": "1.5.0",
            "_model_name": "DescriptionStyleModel",
            "_view_count": null,
            "_view_module": "@jupyter-widgets/base",
            "_view_module_version": "1.2.0",
            "_view_name": "StyleView",
            "description_width": ""
          }
        },
        "2acfa8f1bc8d41368c206be8abc866f8": {
          "model_module": "@jupyter-widgets/controls",
          "model_name": "CheckboxModel",
          "model_module_version": "1.5.0",
          "state": {
            "_dom_classes": [],
            "_model_module": "@jupyter-widgets/controls",
            "_model_module_version": "1.5.0",
            "_model_name": "CheckboxModel",
            "_view_count": null,
            "_view_module": "@jupyter-widgets/controls",
            "_view_module_version": "1.5.0",
            "_view_name": "CheckboxView",
            "description": "XGBClassifier(max_depth=15, objective='multi:softprob')",
            "description_tooltip": null,
            "disabled": false,
            "indent": false,
            "layout": "IPY_MODEL_3036128560854a1c8038b64ea4ac9058",
            "style": "IPY_MODEL_d176c3c0046b43ffb2b0692882d2adf2",
            "value": true
          }
        },
        "3036128560854a1c8038b64ea4ac9058": {
          "model_module": "@jupyter-widgets/base",
          "model_name": "LayoutModel",
          "model_module_version": "1.2.0",
          "state": {
            "_model_module": "@jupyter-widgets/base",
            "_model_module_version": "1.2.0",
            "_model_name": "LayoutModel",
            "_view_count": null,
            "_view_module": "@jupyter-widgets/base",
            "_view_module_version": "1.2.0",
            "_view_name": "LayoutView",
            "align_content": null,
            "align_items": null,
            "align_self": null,
            "border": null,
            "bottom": null,
            "display": null,
            "flex": null,
            "flex_flow": null,
            "grid_area": null,
            "grid_auto_columns": null,
            "grid_auto_flow": null,
            "grid_auto_rows": null,
            "grid_column": null,
            "grid_gap": null,
            "grid_row": null,
            "grid_template_areas": null,
            "grid_template_columns": null,
            "grid_template_rows": null,
            "height": null,
            "justify_content": null,
            "justify_items": null,
            "left": null,
            "margin": null,
            "max_height": null,
            "max_width": null,
            "min_height": null,
            "min_width": null,
            "object_fit": null,
            "object_position": null,
            "order": null,
            "overflow": null,
            "overflow_x": null,
            "overflow_y": null,
            "padding": null,
            "right": null,
            "top": null,
            "visibility": null,
            "width": null
          }
        },
        "d176c3c0046b43ffb2b0692882d2adf2": {
          "model_module": "@jupyter-widgets/controls",
          "model_name": "DescriptionStyleModel",
          "model_module_version": "1.5.0",
          "state": {
            "_model_module": "@jupyter-widgets/controls",
            "_model_module_version": "1.5.0",
            "_model_name": "DescriptionStyleModel",
            "_view_count": null,
            "_view_module": "@jupyter-widgets/base",
            "_view_module_version": "1.2.0",
            "_view_name": "StyleView",
            "description_width": ""
          }
        },
        "2b6f00f6f30b435b850e5c09d8382ddb": {
          "model_module": "@jupyter-widgets/controls",
          "model_name": "CheckboxModel",
          "model_module_version": "1.5.0",
          "state": {
            "_dom_classes": [],
            "_model_module": "@jupyter-widgets/controls",
            "_model_module_version": "1.5.0",
            "_model_name": "CheckboxModel",
            "_view_count": null,
            "_view_module": "@jupyter-widgets/controls",
            "_view_module_version": "1.5.0",
            "_view_name": "CheckboxView",
            "description": "XGBClassifier(n_estimators=233, objective='multi:softprob')",
            "description_tooltip": null,
            "disabled": false,
            "indent": false,
            "layout": "IPY_MODEL_90b2c8dd38c644ecb3b5376a6f9ce032",
            "style": "IPY_MODEL_b0cbb163937b4cd69e196db80c9dc0d6",
            "value": false
          }
        },
        "90b2c8dd38c644ecb3b5376a6f9ce032": {
          "model_module": "@jupyter-widgets/base",
          "model_name": "LayoutModel",
          "model_module_version": "1.2.0",
          "state": {
            "_model_module": "@jupyter-widgets/base",
            "_model_module_version": "1.2.0",
            "_model_name": "LayoutModel",
            "_view_count": null,
            "_view_module": "@jupyter-widgets/base",
            "_view_module_version": "1.2.0",
            "_view_name": "LayoutView",
            "align_content": null,
            "align_items": null,
            "align_self": null,
            "border": null,
            "bottom": null,
            "display": null,
            "flex": null,
            "flex_flow": null,
            "grid_area": null,
            "grid_auto_columns": null,
            "grid_auto_flow": null,
            "grid_auto_rows": null,
            "grid_column": null,
            "grid_gap": null,
            "grid_row": null,
            "grid_template_areas": null,
            "grid_template_columns": null,
            "grid_template_rows": null,
            "height": null,
            "justify_content": null,
            "justify_items": null,
            "left": null,
            "margin": null,
            "max_height": null,
            "max_width": null,
            "min_height": null,
            "min_width": null,
            "object_fit": null,
            "object_position": null,
            "order": null,
            "overflow": null,
            "overflow_x": null,
            "overflow_y": null,
            "padding": null,
            "right": null,
            "top": null,
            "visibility": null,
            "width": null
          }
        },
        "b0cbb163937b4cd69e196db80c9dc0d6": {
          "model_module": "@jupyter-widgets/controls",
          "model_name": "DescriptionStyleModel",
          "model_module_version": "1.5.0",
          "state": {
            "_model_module": "@jupyter-widgets/controls",
            "_model_module_version": "1.5.0",
            "_model_name": "DescriptionStyleModel",
            "_view_count": null,
            "_view_module": "@jupyter-widgets/base",
            "_view_module_version": "1.2.0",
            "_view_name": "StyleView",
            "description_width": ""
          }
        },
        "5031b21f2a4d49faa6b16f24355bac85": {
          "model_module": "@jupyter-widgets/controls",
          "model_name": "CheckboxModel",
          "model_module_version": "1.5.0",
          "state": {
            "_dom_classes": [],
            "_model_module": "@jupyter-widgets/controls",
            "_model_module_version": "1.5.0",
            "_model_name": "CheckboxModel",
            "_view_count": null,
            "_view_module": "@jupyter-widgets/controls",
            "_view_module_version": "1.5.0",
            "_view_name": "CheckboxView",
            "description": "XGBClassifier(max_depth=15, n_estimators=233, objective='multi:softprob')",
            "description_tooltip": null,
            "disabled": false,
            "indent": false,
            "layout": "IPY_MODEL_29624463d0c546169741a8d9626a7966",
            "style": "IPY_MODEL_b8a43c8ed78f4614b678d747f78dbaa3",
            "value": false
          }
        },
        "29624463d0c546169741a8d9626a7966": {
          "model_module": "@jupyter-widgets/base",
          "model_name": "LayoutModel",
          "model_module_version": "1.2.0",
          "state": {
            "_model_module": "@jupyter-widgets/base",
            "_model_module_version": "1.2.0",
            "_model_name": "LayoutModel",
            "_view_count": null,
            "_view_module": "@jupyter-widgets/base",
            "_view_module_version": "1.2.0",
            "_view_name": "LayoutView",
            "align_content": null,
            "align_items": null,
            "align_self": null,
            "border": null,
            "bottom": null,
            "display": null,
            "flex": null,
            "flex_flow": null,
            "grid_area": null,
            "grid_auto_columns": null,
            "grid_auto_flow": null,
            "grid_auto_rows": null,
            "grid_column": null,
            "grid_gap": null,
            "grid_row": null,
            "grid_template_areas": null,
            "grid_template_columns": null,
            "grid_template_rows": null,
            "height": null,
            "justify_content": null,
            "justify_items": null,
            "left": null,
            "margin": null,
            "max_height": null,
            "max_width": null,
            "min_height": null,
            "min_width": null,
            "object_fit": null,
            "object_position": null,
            "order": null,
            "overflow": null,
            "overflow_x": null,
            "overflow_y": null,
            "padding": null,
            "right": null,
            "top": null,
            "visibility": null,
            "width": null
          }
        },
        "b8a43c8ed78f4614b678d747f78dbaa3": {
          "model_module": "@jupyter-widgets/controls",
          "model_name": "DescriptionStyleModel",
          "model_module_version": "1.5.0",
          "state": {
            "_model_module": "@jupyter-widgets/controls",
            "_model_module_version": "1.5.0",
            "_model_name": "DescriptionStyleModel",
            "_view_count": null,
            "_view_module": "@jupyter-widgets/base",
            "_view_module_version": "1.2.0",
            "_view_name": "StyleView",
            "description_width": ""
          }
        },
        "438c10ee9c4347c1b52c004df8aa8d74": {
          "model_module": "@jupyter-widgets/controls",
          "model_name": "CheckboxModel",
          "model_module_version": "1.5.0",
          "state": {
            "_dom_classes": [],
            "_model_module": "@jupyter-widgets/controls",
            "_model_module_version": "1.5.0",
            "_model_name": "CheckboxModel",
            "_view_count": null,
            "_view_module": "@jupyter-widgets/controls",
            "_view_module_version": "1.5.0",
            "_view_name": "CheckboxView",
            "description": "KNeighborsClassifier()",
            "description_tooltip": null,
            "disabled": false,
            "indent": false,
            "layout": "IPY_MODEL_fe529ddd1e7845fbaefd05cdaf68e2f9",
            "style": "IPY_MODEL_76b7d1bcebcc4346af65c899d84cfbab",
            "value": false
          }
        },
        "fe529ddd1e7845fbaefd05cdaf68e2f9": {
          "model_module": "@jupyter-widgets/base",
          "model_name": "LayoutModel",
          "model_module_version": "1.2.0",
          "state": {
            "_model_module": "@jupyter-widgets/base",
            "_model_module_version": "1.2.0",
            "_model_name": "LayoutModel",
            "_view_count": null,
            "_view_module": "@jupyter-widgets/base",
            "_view_module_version": "1.2.0",
            "_view_name": "LayoutView",
            "align_content": null,
            "align_items": null,
            "align_self": null,
            "border": null,
            "bottom": null,
            "display": null,
            "flex": null,
            "flex_flow": null,
            "grid_area": null,
            "grid_auto_columns": null,
            "grid_auto_flow": null,
            "grid_auto_rows": null,
            "grid_column": null,
            "grid_gap": null,
            "grid_row": null,
            "grid_template_areas": null,
            "grid_template_columns": null,
            "grid_template_rows": null,
            "height": null,
            "justify_content": null,
            "justify_items": null,
            "left": null,
            "margin": null,
            "max_height": null,
            "max_width": null,
            "min_height": null,
            "min_width": null,
            "object_fit": null,
            "object_position": null,
            "order": null,
            "overflow": null,
            "overflow_x": null,
            "overflow_y": null,
            "padding": null,
            "right": null,
            "top": null,
            "visibility": null,
            "width": null
          }
        },
        "76b7d1bcebcc4346af65c899d84cfbab": {
          "model_module": "@jupyter-widgets/controls",
          "model_name": "DescriptionStyleModel",
          "model_module_version": "1.5.0",
          "state": {
            "_model_module": "@jupyter-widgets/controls",
            "_model_module_version": "1.5.0",
            "_model_name": "DescriptionStyleModel",
            "_view_count": null,
            "_view_module": "@jupyter-widgets/base",
            "_view_module_version": "1.2.0",
            "_view_name": "StyleView",
            "description_width": ""
          }
        },
        "1f33909eefe7480aa04e5d70f3c22589": {
          "model_module": "@jupyter-widgets/controls",
          "model_name": "CheckboxModel",
          "model_module_version": "1.5.0",
          "state": {
            "_dom_classes": [],
            "_model_module": "@jupyter-widgets/controls",
            "_model_module_version": "1.5.0",
            "_model_name": "CheckboxModel",
            "_view_count": null,
            "_view_module": "@jupyter-widgets/controls",
            "_view_module_version": "1.5.0",
            "_view_name": "CheckboxView",
            "description": "KNeighborsClassifier(n_neighbors=1)",
            "description_tooltip": null,
            "disabled": false,
            "indent": false,
            "layout": "IPY_MODEL_d7f717879ef847d29180578673a61801",
            "style": "IPY_MODEL_e1329b561c9d40dc8641e0577afa7be8",
            "value": false
          }
        },
        "d7f717879ef847d29180578673a61801": {
          "model_module": "@jupyter-widgets/base",
          "model_name": "LayoutModel",
          "model_module_version": "1.2.0",
          "state": {
            "_model_module": "@jupyter-widgets/base",
            "_model_module_version": "1.2.0",
            "_model_name": "LayoutModel",
            "_view_count": null,
            "_view_module": "@jupyter-widgets/base",
            "_view_module_version": "1.2.0",
            "_view_name": "LayoutView",
            "align_content": null,
            "align_items": null,
            "align_self": null,
            "border": null,
            "bottom": null,
            "display": null,
            "flex": null,
            "flex_flow": null,
            "grid_area": null,
            "grid_auto_columns": null,
            "grid_auto_flow": null,
            "grid_auto_rows": null,
            "grid_column": null,
            "grid_gap": null,
            "grid_row": null,
            "grid_template_areas": null,
            "grid_template_columns": null,
            "grid_template_rows": null,
            "height": null,
            "justify_content": null,
            "justify_items": null,
            "left": null,
            "margin": null,
            "max_height": null,
            "max_width": null,
            "min_height": null,
            "min_width": null,
            "object_fit": null,
            "object_position": null,
            "order": null,
            "overflow": null,
            "overflow_x": null,
            "overflow_y": null,
            "padding": null,
            "right": null,
            "top": null,
            "visibility": null,
            "width": null
          }
        },
        "e1329b561c9d40dc8641e0577afa7be8": {
          "model_module": "@jupyter-widgets/controls",
          "model_name": "DescriptionStyleModel",
          "model_module_version": "1.5.0",
          "state": {
            "_model_module": "@jupyter-widgets/controls",
            "_model_module_version": "1.5.0",
            "_model_name": "DescriptionStyleModel",
            "_view_count": null,
            "_view_module": "@jupyter-widgets/base",
            "_view_module_version": "1.2.0",
            "_view_name": "StyleView",
            "description_width": ""
          }
        },
        "65c7d848023147b6ac356a1438c6e7f9": {
          "model_module": "@jupyter-widgets/controls",
          "model_name": "CheckboxModel",
          "model_module_version": "1.5.0",
          "state": {
            "_dom_classes": [],
            "_model_module": "@jupyter-widgets/controls",
            "_model_module_version": "1.5.0",
            "_model_name": "CheckboxModel",
            "_view_count": null,
            "_view_module": "@jupyter-widgets/controls",
            "_view_module_version": "1.5.0",
            "_view_name": "CheckboxView",
            "description": "GaussianNB()",
            "description_tooltip": null,
            "disabled": false,
            "indent": false,
            "layout": "IPY_MODEL_9e5c5567df314f33a055d06cdacf4017",
            "style": "IPY_MODEL_728952fa865a4601a7b88586c653fd1b",
            "value": false
          }
        },
        "9e5c5567df314f33a055d06cdacf4017": {
          "model_module": "@jupyter-widgets/base",
          "model_name": "LayoutModel",
          "model_module_version": "1.2.0",
          "state": {
            "_model_module": "@jupyter-widgets/base",
            "_model_module_version": "1.2.0",
            "_model_name": "LayoutModel",
            "_view_count": null,
            "_view_module": "@jupyter-widgets/base",
            "_view_module_version": "1.2.0",
            "_view_name": "LayoutView",
            "align_content": null,
            "align_items": null,
            "align_self": null,
            "border": null,
            "bottom": null,
            "display": null,
            "flex": null,
            "flex_flow": null,
            "grid_area": null,
            "grid_auto_columns": null,
            "grid_auto_flow": null,
            "grid_auto_rows": null,
            "grid_column": null,
            "grid_gap": null,
            "grid_row": null,
            "grid_template_areas": null,
            "grid_template_columns": null,
            "grid_template_rows": null,
            "height": null,
            "justify_content": null,
            "justify_items": null,
            "left": null,
            "margin": null,
            "max_height": null,
            "max_width": null,
            "min_height": null,
            "min_width": null,
            "object_fit": null,
            "object_position": null,
            "order": null,
            "overflow": null,
            "overflow_x": null,
            "overflow_y": null,
            "padding": null,
            "right": null,
            "top": null,
            "visibility": null,
            "width": null
          }
        },
        "728952fa865a4601a7b88586c653fd1b": {
          "model_module": "@jupyter-widgets/controls",
          "model_name": "DescriptionStyleModel",
          "model_module_version": "1.5.0",
          "state": {
            "_model_module": "@jupyter-widgets/controls",
            "_model_module_version": "1.5.0",
            "_model_name": "DescriptionStyleModel",
            "_view_count": null,
            "_view_module": "@jupyter-widgets/base",
            "_view_module_version": "1.2.0",
            "_view_name": "StyleView",
            "description_width": ""
          }
        }
      }
    }
  },
  "nbformat": 4,
  "nbformat_minor": 0
}