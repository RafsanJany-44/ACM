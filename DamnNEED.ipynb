{
  "nbformat": 4,
  "nbformat_minor": 0,
  "metadata": {
    "colab": {
      "provenance": [],
      "authorship_tag": "ABX9TyMOwAEEtYUs5bQ1RFtEuY8e",
      "include_colab_link": true
    },
    "kernelspec": {
      "name": "python3",
      "display_name": "Python 3"
    },
    "language_info": {
      "name": "python"
    }
  },
  "cells": [
    {
      "cell_type": "markdown",
      "metadata": {
        "id": "view-in-github",
        "colab_type": "text"
      },
      "source": [
        "<a href=\"https://colab.research.google.com/github/RafsanJany-44/ARC/blob/master/DamnNEED.ipynb\" target=\"_parent\"><img src=\"https://colab.research.google.com/assets/colab-badge.svg\" alt=\"Open In Colab\"/></a>"
      ]
    },
    {
      "cell_type": "markdown",
      "source": [
        "#Finding Frequnecy in a List"
      ],
      "metadata": {
        "id": "JVTJO6w74V3I"
      }
    },
    {
      "cell_type": "code",
      "execution_count": 2,
      "metadata": {
        "id": "jEbfry5C36s5"
      },
      "outputs": [],
      "source": [
        "def find_freq(lis):\n",
        "  frequency = {}\n",
        "  for item in tqdm(lis):\n",
        "    if item in frequency:\n",
        "        frequency[item] += 1\n",
        "    else:\n",
        "        frequency[item] = 1\n",
        "  return frequency"
      ]
    },
    {
      "cell_type": "code",
      "source": [],
      "metadata": {
        "id": "6Nweu5NU57UO"
      },
      "execution_count": null,
      "outputs": []
    }
  ]
}