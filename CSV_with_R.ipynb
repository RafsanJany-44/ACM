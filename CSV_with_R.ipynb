{
  "nbformat": 4,
  "nbformat_minor": 0,
  "metadata": {
    "colab": {
      "provenance": [],
      "authorship_tag": "ABX9TyP/edIWtAsdIrxXHVzxgILT",
      "include_colab_link": true
    },
    "kernelspec": {
      "name": "ir",
      "display_name": "R"
    },
    "language_info": {
      "name": "R"
    }
  },
  "cells": [
    {
      "cell_type": "markdown",
      "metadata": {
        "id": "view-in-github",
        "colab_type": "text"
      },
      "source": [
        "<a href=\"https://colab.research.google.com/github/RafsanJany-44/ARC/blob/master/CSV_with_R.ipynb\" target=\"_parent\"><img src=\"https://colab.research.google.com/assets/colab-badge.svg\" alt=\"Open In Colab\"/></a>"
      ]
    },
    {
      "cell_type": "code",
      "execution_count": 29,
      "metadata": {
        "id": "hkTszUV1rMKT"
      },
      "outputs": [],
      "source": [
        "df = read.csv('https://raw.githubusercontent.com/RafsanJany-44/Rough_Dataset/main/Dataset_midterm_SectionA.csv')"
      ]
    },
    {
      "cell_type": "code",
      "source": [
        "print(df)"
      ],
      "metadata": {
        "colab": {
          "base_uri": "https://localhost:8080/"
        },
        "id": "oJSXsYatscXM",
        "outputId": "f96ccd08-3f80-4432-cf0e-77217f098758"
      },
      "execution_count": 30,
      "outputs": [
        {
          "output_type": "stream",
          "name": "stdout",
          "text": [
            "    Gender    age sibsp parch     fare embarked  class   who     alone survived\n",
            "1        0  37.00     1     1  52.5542        S  First   man     FALSE        1\n",
            "2        0  54.00     1     0  26.0000        S Second   man     FALSE        0\n",
            "3        0     NA     0     0   7.2500        S  Third   man      TRUE        0\n",
            "4        1  29.00     1     1  10.4625        S  Third woman      FALL        0\n",
            "5        0  62.00     0     0  26.5500        S  First   man      TRUE        0\n",
            "6        0  30.00     1     0  16.1000        S  Third   man     FALSE        0\n",
            "7        1  41.00     0     2  20.2125        S  Third woman      FALL        0\n",
            "8        1  29.00     0     2  15.2458        C  Third woman     FALSE        1\n",
            "9        1     NA     0     0  79.2000        C  First woman      TRUE        1\n",
            "10       1  30.00     0     0  86.5000        S  First woman      FALL        1\n",
            "11       1  35.00     0     0 512.3292        C  First woman      TRUE        1\n",
            "12       1  50.00     0     1  26.0000        S Second woman     FALSE        1\n",
            "13       0     NA     0     0   7.7500        Q          man      TRUE        0\n",
            "14       0   3.00     4     2  31.3875        S  Third child     FALSE        1\n",
            "15       0  52.00     1     1  79.6500        S  First   man     FALSE        0\n",
            "16       0  40.00     0     0   0.0000        S  First   man      TRUE        0\n",
            "17       1     NA     0     0   7.7500        Q  Third woman      TRUE        0\n",
            "18       0  36.00     0     0  10.5000        S Second   man      TRUE        0\n",
            "19       0  16.00     4     1  39.6875        S  Third   man     FALSE        0\n",
            "20       0  25.00     1     0   7.7750        S  Third   man     FALSE        1\n",
            "21       1  58.00     0     1 153.4625        S  First woman     FALSE        1\n",
            "22       1  35.00     0     0 135.6333        S  First woman      TRUE        1\n",
            "23       0     NA     0     0  31.0000        S  First   man      TRUE        0\n",
            "24       0  25.00     0     0   0.0000        S  Third   man      TRUE        1\n",
            "25       1  41.00     0     1  19.5000        S Second woman     FALSE        1\n",
            "26       0  37.00     0     1  29.7000        C  First   man     FALSE        0\n",
            "27       1     NA     0     0   7.7500        Q  Third woman      TRUE        1\n",
            "28       1  63.00     1     0  77.9583        S  First woman     FALSE        1\n",
            "29       1  45.00     0     0   7.7500        S  Third woman      TRUE        0\n",
            "30      NA     NA     0     0   0.0000        S          man      TRUE        0\n",
            "31       0   7.00     4     1  29.1250        Q  Third child     FALSE        0\n",
            "32       1  35.00     1     1  20.2500        S  Third woman     FALSE        1\n",
            "33       0  65.00     0     0   7.7500        Q  Third   man      TRUE        0\n",
            "34      NA  28.00     0     0   7.8542        S  Third   man      TRUE        0\n",
            "35       0  16.00     0     0   9.5000        S  Third   man      TRUE        0\n",
            "36       0  19.00     0     0   8.0500        S  Third   man      TRUE        1\n",
            "37       0     NA     0     0  26.0000        S  First   man      TRUE        0\n",
            "38       0  33.00     0     0   8.6625        C  Third   man      TRUE        0\n",
            "39       0  30.00     0     0   9.5000        S  Third   man      TRUE        1\n",
            "40       0  22.00     0     0   7.8958        S  Third   man      TRUE        0\n",
            "41       0  42.00     0     0  13.0000        S Second   man      TRUE        1\n",
            "42      NA  22.00     0     0   7.7500        Q  Third woman      TRUE        1\n",
            "43       1  26.00     0     0  78.8500        S  First woman      TRUE        1\n",
            "44       1  19.00     1     0  91.0792        C  First woman     FALSE        1\n",
            "45       0  36.00     0     0  12.8750        C Second   man      TRUE        0\n",
            "46       1  24.00     0     0   8.8500        S  Third woman      TRUE        0\n",
            "47       0 150.00     0     0   7.8958        S  Third   man      TRUE        0\n",
            "48       0     NA     0     0  27.7208        C  First   man      TRUE        0\n",
            "49       0  23.50     0     0   7.2292        C  Third   man      TRUE        0\n",
            "50       1   2.00     1     2 151.5500        S  First child     FALSE        0\n",
            "51       0     NA     0     0  30.5000        S  First   man      TRUE        1\n",
            "52       1  50.00     0     1 247.5208        C  First woman     FALSE        1\n",
            "53      NA     NA     0     0   7.7500        Q  Third woman      TRUE        1\n",
            "54       0 200.00     2     0  23.2500        Q  Third   man     FALSE        1\n",
            "55       0  19.00     0     0   0.0000        S  Third   man      TRUE        0\n",
            "56       1     NA     0     0  12.3500        Q        woman      TRUE        1\n",
            "57       0     NA     0     0   8.0500        S  Third   man      TRUE        0\n",
            "58       0   0.92     1     2 151.5500        S  First child     FALSE        1\n",
            "59       1     NA     0     0 110.8833        C  First woman      TRUE        1\n",
            "60       1  17.00     1     0 108.9000        C  First woman     FALSE        1\n",
            "61       0  30.00     1     0  24.0000        C Second   man     FALSE        0\n",
            "62       1  30.00     0     0  56.9292        C  First woman      TRUE        1\n",
            "63       1  24.00     0     0  83.1583        C  First woman      TRUE        1\n",
            "64       1  18.00     2     2 262.3750        C        woman     FALSE        1\n",
            "65       1  26.00     1     1  26.0000        S Second woman     FALSE        0\n",
            "66       0  28.00     0     0   7.8958        S  Third   man      TRUE        0\n",
            "67       0  43.00     1     1  26.2500        S Second   man     FALSE        0\n",
            "68       1  26.00     0     0   7.8542        S  Third woman      TRUE        1\n",
            "69       1  24.00     1     0  26.0000        S Second woman     FALSE        1\n",
            "70       0  54.00     0     0  14.0000        S Second   man      TRUE        0\n",
            "71       1  31.00     0     2 164.8667        S  First woman     FALSE        1\n",
            "72       1  40.00     1     1 134.5000        C  First woman     FALSE        1\n",
            "73       0  22.00     0     0   7.2500        S  Third   man      TRUE        0\n",
            "74       0  27.00     0     0   7.8958        S  Third   man      TRUE        0\n",
            "75       1  30.00     0     0  12.3500        Q Second woman      TRUE        1\n",
            "76       1  22.00     1     1  29.0000        S Second woman     FALSE        1\n",
            "77       0     NA     8     2  69.5500        S  Third   man     FALSE        0\n",
            "78       1  36.00     0     0 135.6333        C  First woman      TRUE        1\n",
            "79       0  61.00     0     0   6.2375        S  Third   man      TRUE        0\n",
            "80       1  36.00     0     0  13.0000        S Second woman      TRUE        1\n",
            "81       1  31.00     1     1  20.5250        S  Third woman     FALSE        1\n",
            "82       1  16.00     0     1  57.9792        C  First woman     FALSE        1\n",
            "83       1     NA     2     0  23.2500        Q  Third woman     FALSE        1\n",
            "84       0  45.50     0     0  28.5000        S  First   man      TRUE        0\n",
            "85       0  38.00     0     1 153.4625        S  First   man     FALSE        0\n",
            "86       0  16.00     2     0  18.0000        S  Third   man     FALSE        0\n",
            "87       1     NA     1     0 133.6500        S  First woman     FALSE        1\n",
            "88       0     NA     0     0   7.8958        S  Third   man      TRUE        0\n",
            "89       0  29.00     1     0  66.6000        S  First   man     FALSE        0\n",
            "90       1  41.00     0     0 134.5000        C  First woman      TRUE        1\n",
            "91       0  45.00     0     0   8.0500        S  Third   man      TRUE        1\n",
            "92       0  45.00     0     0  35.5000        S  First   man      TRUE        0\n",
            "93       0   2.00     1     1  26.0000        S Second child     FALSE        1\n",
            "94       1  24.00     3     2 263.0000        S  First woman     FALSE        1\n",
            "95       0  28.00     0     0  13.0000        S Second   man      TRUE        0\n",
            "96       0  25.00     0     0  13.0000        S Second   man      TRUE        0\n",
            "97       0  36.00     0     0  13.0000        S Second   man      TRUE        0\n",
            "98       1  24.00     0     0  13.0000        S Second woman      TRUE        1\n",
            "99       1  40.00     0     0  13.0000        S Second woman      TRUE        1\n",
            "100      1     NA     1     0  16.1000        S  Third woman     FALSE        1\n",
            "101      0   3.00     1     1  15.9000        S  Third child     FALSE        1\n",
            "102      0  42.00     0     0   8.6625        S  Third   man      TRUE        0\n",
            "103      0  23.00     0     0   9.2250        S  Third   man      TRUE        0\n",
            "104      0     NA     0     0  35.0000        S  First   man      TRUE        0\n",
            "105      0  15.00     1     1   7.2292        C  Third child     FALSE        0\n",
            "106      0  25.00     1     0  17.8000        S  Third   man     FALSE        0\n",
            "107      0     NA     0     0   7.2250        C  Third   man      TRUE        0\n",
            "108      0  28.00     0     0   9.5000        S  Third   man      TRUE        0\n",
            "109      1  22.00     0     1  55.0000        S  First woman     FALSE        1\n",
            "110      1  38.00     0     0  13.0000        S Second woman      TRUE        0\n",
            "111      1     NA     0     0   7.8792        Q  Third woman      TRUE        1\n",
            "112      1     NA     0     0   7.8792        Q  Third woman      TRUE        1\n",
            "113      0  40.00     1     4  27.9000        S  Third   man     FALSE        0\n",
            "114      0  29.00     1     0  27.7208        C Second   man     FALSE        0\n",
            "115      1  45.00     0     1  14.4542        C  Third woman     FALSE        0\n",
            "116      0  35.00     0     0   7.0500        S  Third   man      TRUE        0\n",
            "117      0     NA     1     0  15.5000        Q  Third   man     FALSE        0\n",
            "118      0  30.00     0     0   7.2500        S  Third   man      TRUE        0\n",
            "119      1  60.00     1     0  75.2500        C  First woman     FALSE        1\n",
            "120      1 120.00     0     0   7.2292        C  Third woman      TRUE        1\n",
            "121      1     NA     0     0   7.7500        Q  Third woman      TRUE        1\n",
            "122      1  24.00     0     0  69.3000        C  First woman      TRUE        1\n",
            "123      0  25.00     1     0  55.4417        C  First   man     FALSE        1\n",
            "124      0  18.00     1     0   6.4958        S  Third   man     FALSE        0\n",
            "125      0  19.00     0     0   8.0500        S  Third   man      TRUE        0\n",
            "126      0  22.00     0     0 135.6333        C  First   man      TRUE        0\n",
            "127      1   3.00     3     1  21.0750        S  Third child     FALSE        0\n",
            "128      1     NA     1     0  82.1708        C  First woman     FALSE        1\n",
            "129      1  22.00     0     0   7.2500        S  Third woman      TRUE        1\n",
            "130      0  27.00     0     2 211.5000        C  First   man     FALSE        0\n",
            "131      0  20.00     0     0   4.0125        C  Third   man      TRUE        0\n",
            "132      0  19.00     0     0   7.7750        S  Third   man      TRUE        0\n",
            "133      1  42.00     0     0 227.5250        C  First woman      TRUE        1\n",
            "134      1   1.00     0     2  15.7417        C  Third child     FALSE        1\n",
            "135      0  32.00     0     0   7.9250        S  Third   man      TRUE        0\n",
            "136      1  35.00     1     0  52.0000        S  First woman     FALSE        1\n",
            "137      0     NA     0     0   7.8958        S  Third   man      TRUE        0\n",
            "138      0  18.00     0     0  73.5000        S Second   man      TRUE        0\n",
            "139      0   1.00     5     2  46.9000        S  Third child     FALSE        0\n",
            "140      1  36.00     0     0  13.0000        S Second woman      TRUE        1\n",
            "141      0     NA     0     0   7.7292        Q  Third   man      TRUE        0\n",
            "142      1  17.00     0     0  12.0000        C Second woman      TRUE        1\n",
            "143      0  36.00     1     2 120.0000        S  First   man     FALSE        1\n",
            "144      0  21.00     0     0   7.7958        S  Third   man      TRUE        1\n",
            "145      0  28.00     2     0   7.9250        S  Third   man     FALSE        0\n",
            "146      1  23.00     1     0 113.2750        C  First woman     FALSE        1\n",
            "147      1  24.00     0     2  16.7000        S  Third woman     FALSE        1\n",
            "148      0  22.00     0     0   7.7958        S  Third   man      TRUE        0\n",
            "149      1  31.00     0     0   7.8542        S  Third woman      TRUE        0\n",
            "150      0  46.00     0     0  26.0000        S Second   man      TRUE        0\n",
            "151      0  23.00     0     0  10.5000        S Second   man      TRUE        0\n",
            "152      1  28.00     0     0  12.6500        S Second woman      TRUE        1\n",
            "153      0  39.00     0     0   7.9250        S  Third   man      TRUE        1\n",
            "154      0  26.00     0     0   8.0500        S  Third   man      TRUE        0\n",
            "155      1  21.00     1     0   9.8250        S  Third woman     FALSE        0\n",
            "156      0  28.00     1     0  15.8500        S  Third   man     FALSE        0\n",
            "157      1  20.00     0     0   8.6625        S  Third woman      TRUE        0\n",
            "158      0  34.00     1     0  21.0000        S Second   man     FALSE        0\n",
            "159      0  51.00     0     0   7.7500        S  Third   man      TRUE        0\n",
            "160      0   3.00     1     1  18.7500        S Second child     FALSE        1\n",
            "161      0  21.00     0     0   7.7750        S  Third   man      TRUE        0\n",
            "162      1     NA     3     1  25.4667        S  Third woman     FALSE        0\n",
            "163      0     NA     0     0   7.8958        S  Third   man      TRUE        0\n",
            "164      0     NA     0     0   6.8583        Q  Third   man      TRUE        0\n",
            "165      1  33.00     1     0  90.0000        Q  First woman     FALSE        1\n",
            "166      0     NA     0     0   0.0000        S Second   man      TRUE        0\n",
            "167      0  44.00     0     0   7.9250        S  Third   man      TRUE        1\n",
            "168      1     NA     0     0   8.0500        S  Third woman      TRUE        0\n",
            "169      1  34.00     1     1  32.5000        S Second woman     FALSE        1\n",
            "170      1  18.00     0     2  13.0000        S Second woman     FALSE        1\n",
            "171      0  30.00     0     0  13.0000        S Second   man      TRUE        0\n",
            "172      1  10.00     0     2  24.1500        S  Third child     FALSE        0\n",
            "173      0     NA     0     0   7.8958        C  Third   man      TRUE        0\n",
            "174      0  21.00     0     0   7.7333        Q  Third   man      TRUE        0\n",
            "175      0  29.00     0     0   7.8750        S  Third   man      TRUE        0\n",
            "176      1  28.00     1     1  14.4000        S  Third woman     FALSE        0\n",
            "177      0  18.00     1     1  20.2125        S  Third   man     FALSE        0\n",
            "178      0     NA     0     0   7.2500        S  Third   man      TRUE        0\n",
            "179      1  28.00     1     0  26.0000        S Second woman     FALSE        1\n",
            "180      1  19.00     0     0  26.0000        S Second woman      TRUE        1\n",
            "181      0     NA     0     0   7.7500        Q  Third   man      TRUE        0\n",
            "182      0  32.00     0     0   8.0500        S  Third   man      TRUE        1\n",
            "183      0  28.00     0     0  26.5500        S  First   man      TRUE        1\n",
            "184      1     NA     1     0  16.1000        S  Third woman     FALSE        1\n",
            "185      1  42.00     1     0  26.0000        S Second woman     FALSE        1\n",
            "186      0  17.00     0     0   7.1250        S  Third   man      TRUE        0\n",
            "187      0  50.00     1     0  55.9000        S  First   man     FALSE        0\n",
            "188      1  14.00     1     2 120.0000        S  First child     FALSE        1\n",
            "189      1  21.00     2     2  34.3750        S  Third woman     FALSE        0\n",
            "190      1  24.00     2     3  18.7500        S Second woman     FALSE        1\n",
            "191      0  64.00     1     4 263.0000        S  First   man     FALSE        0\n",
            "192      0  31.00     0     0  10.5000        S Second   man      TRUE        0\n",
            "193      1  45.00     1     1  26.2500        S Second woman     FALSE        1\n",
            "194      0  20.00     0     0   9.5000        S  Third   man      TRUE        0\n",
            "195      0  25.00     1     0   7.7750        S  Third   man     FALSE        0\n",
            "196      1  28.00     0     0  13.0000        S Second woman      TRUE        1\n",
            "197      0     NA     0     0   8.1125        S  Third   man      TRUE        1\n",
            "198      0   4.00     0     2  81.8583        S  First child     FALSE        1\n",
            "199      1  13.00     0     1  19.5000        S Second child     FALSE        1\n",
            "200      0  34.00     0     0  26.5500        S  First   man      TRUE        1\n",
            "201      1   5.00     2     1  19.2583        C  Third child     FALSE        1\n",
            "202      0  52.00     0     0  30.5000        S  First   man      TRUE        1\n",
            "203      0  36.00     1     2  27.7500        S Second   man     FALSE        0\n",
            "204      0     NA     1     0  19.9667        S  Third   man     FALSE        0\n",
            "205      0  30.00     0     0  27.7500        C  First   man      TRUE        0\n",
            "206      0  49.00     1     0  89.1042        C  First   man     FALSE        1\n",
            "207      0     NA     0     0   8.0500        S  Third   man      TRUE        0\n",
            "208      0  29.00     0     0   7.8958        C  Third   man      TRUE        1\n",
            "209      0  65.00     0     0  26.5500        S  First   man      TRUE        0\n",
            "210      1     NA     1     0  51.8625        S  First woman     FALSE        1\n",
            "211      1  50.00     0     0  10.5000        S Second woman      TRUE        1\n",
            "212      0     NA     0     0   7.7500        Q  Third   man      TRUE        0\n",
            "213      0  48.00     0     0  26.5500        S  First   man      TRUE        1\n",
            "214      0  34.00     0     0   8.0500        S  Third   man      TRUE        0\n",
            "215      0  47.00     0     0  38.5000        S  First   man      TRUE        0\n",
            "216      0  48.00     0     0  13.0000        S Second   man      TRUE        0\n",
            "217      0     NA     0     0   8.0500        S  Third   man      TRUE        0\n",
            "218      0  38.00     0     0   7.0500        S  Third   man      TRUE        0\n",
            "219      0     NA     0     0   0.0000        S Second   man      TRUE        0\n",
            "220      0  56.00     0     0  26.5500        S  First   man      TRUE        0\n",
            "221      0     NA     0     0   7.7250        Q  Third   man      TRUE        0\n",
            "222      1   0.75     2     1  19.2583        C  Third child     FALSE        1\n",
            "223      0     NA     0     0   7.2500        S  Third   man      TRUE        0\n",
            "224      0  38.00     0     0   8.6625        S  Third   man      TRUE        0\n",
            "225      1  33.00     1     2  27.7500        S Second woman     FALSE        1\n",
            "226      1  23.00     0     0  13.7917        C Second woman      TRUE        1\n",
            "227      1  22.00     0     0   9.8375        S  Third woman      TRUE        0\n",
            "228      0     NA     0     0  52.0000        S  First   man      TRUE        0\n",
            "229      0  34.00     1     0  21.0000        S Second   man     FALSE        0\n",
            "230      0  29.00     1     0   7.0458        S  Third   man     FALSE        0\n",
            "231      0  22.00     0     0   7.5208        S  Third   man      TRUE        0\n",
            "232      1   2.00     0     1  12.2875        S  Third child     FALSE        1\n",
            "233      0   9.00     5     2  46.9000        S  Third child     FALSE        0\n",
            "234      0     NA     0     0   0.0000        S Second   man      TRUE        0\n",
            "235      0  50.00     0     0   8.0500        S  Third   man      TRUE        0\n",
            "236      1  63.00     0     0   9.5875        S  Third woman      TRUE        1\n",
            "237      0  25.00     1     0  91.0792        C  First   man     FALSE        1\n",
            "238      1     NA     3     1  25.4667        S  Third woman     FALSE        0\n",
            "239      1  35.00     1     0  90.0000        S  First woman     FALSE        1\n",
            "240      0  58.00     0     0  29.7000        C  First   man      TRUE        0\n",
            "241      0  30.00     0     0   8.0500        S  Third   man      TRUE        0\n",
            "242      0   9.00     1     1  15.9000        S  Third child     FALSE        1\n",
            "243      0     NA     1     0  19.9667        S  Third   man     FALSE        0\n",
            "244      0  21.00     0     0   7.2500        S  Third   man      TRUE        0\n",
            "245      0  55.00     0     0  30.5000        S  First   man      TRUE        0\n",
            "246      0  71.00     0     0  49.5042        C  First   man      TRUE        0\n",
            "247      0  21.00     0     0   8.0500        S  Third   man      TRUE        0\n",
            "248      0     NA     0     0  14.4583        C  Third   man      TRUE        0\n",
            "249      1  54.00     1     0  78.2667        C  First woman     FALSE        1\n",
            "250      0     NA     0     0  15.1000        S  Third   man      TRUE        0\n",
            "251      1  25.00     1     2 151.5500        S  First woman     FALSE        0\n"
          ]
        }
      ]
    },
    {
      "cell_type": "code",
      "source": [
        "apply(df,2,sd)"
      ],
      "metadata": {
        "colab": {
          "base_uri": "https://localhost:8080/",
          "height": 191
        },
        "id": "RnOjieD2xieG",
        "outputId": "2b4e035d-a5af-4454-fd40-dd93fa4a2f34"
      },
      "execution_count": 31,
      "outputs": [
        {
          "output_type": "stream",
          "name": "stderr",
          "text": [
            "Warning message in var(if (is.vector(x) || is.factor(x)) x else as.double(x), na.rm = na.rm):\n",
            "“NAs introduced by coercion”\n",
            "Warning message in var(if (is.vector(x) || is.factor(x)) x else as.double(x), na.rm = na.rm):\n",
            "“NAs introduced by coercion”\n",
            "Warning message in var(if (is.vector(x) || is.factor(x)) x else as.double(x), na.rm = na.rm):\n",
            "“NAs introduced by coercion”\n",
            "Warning message in var(if (is.vector(x) || is.factor(x)) x else as.double(x), na.rm = na.rm):\n",
            "“NAs introduced by coercion”\n"
          ]
        },
        {
          "output_type": "display_data",
          "data": {
            "text/html": [
              "<style>\n",
              ".dl-inline {width: auto; margin:0; padding: 0}\n",
              ".dl-inline>dt, .dl-inline>dd {float: none; width: auto; display: inline-block}\n",
              ".dl-inline>dt::after {content: \":\\0020\"; padding-right: .5ex}\n",
              ".dl-inline>dt:not(:first-of-type) {padding-left: .5ex}\n",
              "</style><dl class=dl-inline><dt>Gender</dt><dd>&lt;NA&gt;</dd><dt>age</dt><dd>&lt;NA&gt;</dd><dt>sibsp</dt><dd>0.973137203037812</dd><dt>parch</dt><dd>0.73359888950113</dd><dt>fare</dt><dd>57.0959698968626</dd><dt>embarked</dt><dd>&lt;NA&gt;</dd><dt>class</dt><dd>&lt;NA&gt;</dd><dt>who</dt><dd>&lt;NA&gt;</dd><dt>alone</dt><dd>&lt;NA&gt;</dd><dt>survived</dt><dd>0.496104345790632</dd></dl>\n"
            ],
            "text/markdown": "Gender\n:   &lt;NA&gt;age\n:   &lt;NA&gt;sibsp\n:   0.973137203037812parch\n:   0.73359888950113fare\n:   57.0959698968626embarked\n:   &lt;NA&gt;class\n:   &lt;NA&gt;who\n:   &lt;NA&gt;alone\n:   &lt;NA&gt;survived\n:   0.496104345790632\n\n",
            "text/latex": "\\begin{description*}\n\\item[Gender] <NA>\n\\item[age] <NA>\n\\item[sibsp] 0.973137203037812\n\\item[parch] 0.73359888950113\n\\item[fare] 57.0959698968626\n\\item[embarked] <NA>\n\\item[class] <NA>\n\\item[who] <NA>\n\\item[alone] <NA>\n\\item[survived] 0.496104345790632\n\\end{description*}\n",
            "text/plain": [
              "    Gender        age      sibsp      parch       fare   embarked      class \n",
              "        NA         NA  0.9731372  0.7335989 57.0959699         NA         NA \n",
              "       who      alone   survived \n",
              "        NA         NA  0.4961043 "
            ]
          },
          "metadata": {}
        }
      ]
    },
    {
      "cell_type": "code",
      "source": [
        "sapply(df, sd)"
      ],
      "metadata": {
        "colab": {
          "base_uri": "https://localhost:8080/",
          "height": 191
        },
        "id": "7R1wz8yyzzDw",
        "outputId": "b51ef3f1-53af-49c2-baee-98efdb5e679e"
      },
      "execution_count": 36,
      "outputs": [
        {
          "output_type": "stream",
          "name": "stderr",
          "text": [
            "Warning message in var(if (is.vector(x) || is.factor(x)) x else as.double(x), na.rm = na.rm):\n",
            "“NAs introduced by coercion”\n",
            "Warning message in var(if (is.vector(x) || is.factor(x)) x else as.double(x), na.rm = na.rm):\n",
            "“NAs introduced by coercion”\n",
            "Warning message in var(if (is.vector(x) || is.factor(x)) x else as.double(x), na.rm = na.rm):\n",
            "“NAs introduced by coercion”\n",
            "Warning message in var(if (is.vector(x) || is.factor(x)) x else as.double(x), na.rm = na.rm):\n",
            "“NAs introduced by coercion”\n"
          ]
        },
        {
          "output_type": "display_data",
          "data": {
            "text/html": [
              "<style>\n",
              ".dl-inline {width: auto; margin:0; padding: 0}\n",
              ".dl-inline>dt, .dl-inline>dd {float: none; width: auto; display: inline-block}\n",
              ".dl-inline>dt::after {content: \":\\0020\"; padding-right: .5ex}\n",
              ".dl-inline>dt:not(:first-of-type) {padding-left: .5ex}\n",
              "</style><dl class=dl-inline><dt>Gender</dt><dd>&lt;NA&gt;</dd><dt>age</dt><dd>&lt;NA&gt;</dd><dt>sibsp</dt><dd>0.973137203037812</dd><dt>parch</dt><dd>0.73359888950113</dd><dt>fare</dt><dd>57.0959698968626</dd><dt>embarked</dt><dd>&lt;NA&gt;</dd><dt>class</dt><dd>&lt;NA&gt;</dd><dt>who</dt><dd>&lt;NA&gt;</dd><dt>alone</dt><dd>&lt;NA&gt;</dd><dt>survived</dt><dd>0.496104345790632</dd></dl>\n"
            ],
            "text/markdown": "Gender\n:   &lt;NA&gt;age\n:   &lt;NA&gt;sibsp\n:   0.973137203037812parch\n:   0.73359888950113fare\n:   57.0959698968626embarked\n:   &lt;NA&gt;class\n:   &lt;NA&gt;who\n:   &lt;NA&gt;alone\n:   &lt;NA&gt;survived\n:   0.496104345790632\n\n",
            "text/latex": "\\begin{description*}\n\\item[Gender] <NA>\n\\item[age] <NA>\n\\item[sibsp] 0.973137203037812\n\\item[parch] 0.73359888950113\n\\item[fare] 57.0959698968626\n\\item[embarked] <NA>\n\\item[class] <NA>\n\\item[who] <NA>\n\\item[alone] <NA>\n\\item[survived] 0.496104345790632\n\\end{description*}\n",
            "text/plain": [
              "    Gender        age      sibsp      parch       fare   embarked      class \n",
              "        NA         NA  0.9731372  0.7335989 57.0959699         NA         NA \n",
              "       who      alone   survived \n",
              "        NA         NA  0.4961043 "
            ]
          },
          "metadata": {}
        }
      ]
    },
    {
      "cell_type": "code",
      "source": [
        "colnames(df)"
      ],
      "metadata": {
        "colab": {
          "base_uri": "https://localhost:8080/",
          "height": 34
        },
        "id": "5PhBc7jMxMgJ",
        "outputId": "46a89751-33ba-4522-e37f-108799f23815"
      },
      "execution_count": 32,
      "outputs": [
        {
          "output_type": "display_data",
          "data": {
            "text/html": [
              "<style>\n",
              ".list-inline {list-style: none; margin:0; padding: 0}\n",
              ".list-inline>li {display: inline-block}\n",
              ".list-inline>li:not(:last-child)::after {content: \"\\00b7\"; padding: 0 .5ex}\n",
              "</style>\n",
              "<ol class=list-inline><li>'Gender'</li><li>'age'</li><li>'sibsp'</li><li>'parch'</li><li>'fare'</li><li>'embarked'</li><li>'class'</li><li>'who'</li><li>'alone'</li><li>'survived'</li></ol>\n"
            ],
            "text/markdown": "1. 'Gender'\n2. 'age'\n3. 'sibsp'\n4. 'parch'\n5. 'fare'\n6. 'embarked'\n7. 'class'\n8. 'who'\n9. 'alone'\n10. 'survived'\n\n\n",
            "text/latex": "\\begin{enumerate*}\n\\item 'Gender'\n\\item 'age'\n\\item 'sibsp'\n\\item 'parch'\n\\item 'fare'\n\\item 'embarked'\n\\item 'class'\n\\item 'who'\n\\item 'alone'\n\\item 'survived'\n\\end{enumerate*}\n",
            "text/plain": [
              " [1] \"Gender\"   \"age\"      \"sibsp\"    \"parch\"    \"fare\"     \"embarked\"\n",
              " [7] \"class\"    \"who\"      \"alone\"    \"survived\""
            ]
          },
          "metadata": {}
        }
      ]
    },
    {
      "cell_type": "code",
      "source": [
        "typeof(colnames(df))"
      ],
      "metadata": {
        "colab": {
          "base_uri": "https://localhost:8080/",
          "height": 34
        },
        "id": "NJcWFj_fw66a",
        "outputId": "451f7c86-e2ab-45f8-e40c-1868d3a18141"
      },
      "execution_count": 33,
      "outputs": [
        {
          "output_type": "display_data",
          "data": {
            "text/html": [
              "'character'"
            ],
            "text/markdown": "'character'",
            "text/latex": "'character'",
            "text/plain": [
              "[1] \"character\""
            ]
          },
          "metadata": {}
        }
      ]
    },
    {
      "cell_type": "code",
      "source": [
        "sd(df$fare)"
      ],
      "metadata": {
        "colab": {
          "base_uri": "https://localhost:8080/",
          "height": 34
        },
        "id": "-tpKAOZ0vT3O",
        "outputId": "92051897-fb50-4c20-a653-eec505233a77"
      },
      "execution_count": 34,
      "outputs": [
        {
          "output_type": "display_data",
          "data": {
            "text/html": [
              "57.0959698968626"
            ],
            "text/markdown": "57.0959698968626",
            "text/latex": "57.0959698968626",
            "text/plain": [
              "[1] 57.09597"
            ]
          },
          "metadata": {}
        }
      ]
    },
    {
      "cell_type": "code",
      "source": [],
      "metadata": {
        "id": "ktBwECZStJEn"
      },
      "execution_count": null,
      "outputs": []
    }
  ]
}