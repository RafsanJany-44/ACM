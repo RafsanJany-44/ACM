{
  "nbformat": 4,
  "nbformat_minor": 0,
  "metadata": {
    "colab": {
      "provenance": [],
      "mount_file_id": "https://github.com/RafsanJany-44/ARC/blob/master/Comment_extractor.ipynb",
      "authorship_tag": "ABX9TyMhA3wJJz2EW/EHBuSZUFEF",
      "include_colab_link": true
    },
    "kernelspec": {
      "name": "python3",
      "display_name": "Python 3"
    },
    "language_info": {
      "name": "python"
    }
  },
  "cells": [
    {
      "cell_type": "markdown",
      "metadata": {
        "id": "view-in-github",
        "colab_type": "text"
      },
      "source": [
        "<a href=\"https://colab.research.google.com/github/RafsanJany-44/ARC/blob/master/Comment_extractor.ipynb\" target=\"_parent\"><img src=\"https://colab.research.google.com/assets/colab-badge.svg\" alt=\"Open In Colab\"/></a>"
      ]
    },
    {
      "cell_type": "code",
      "source": [
        "!pip install pytube"
      ],
      "metadata": {
        "colab": {
          "base_uri": "https://localhost:8080/"
        },
        "id": "PBxEx_ajlkjl",
        "outputId": "2a4fcec1-d535-4ee4-ead2-4a5a9cbb3dff"
      },
      "execution_count": 27,
      "outputs": [
        {
          "output_type": "stream",
          "name": "stdout",
          "text": [
            "Requirement already satisfied: pytube in /usr/local/lib/python3.10/dist-packages (15.0.0)\n"
          ]
        }
      ]
    },
    {
      "cell_type": "code",
      "source": [],
      "metadata": {
        "id": "hVNVEFq2ln9E"
      },
      "execution_count": 27,
      "outputs": []
    },
    {
      "cell_type": "code",
      "execution_count": 28,
      "metadata": {
        "id": "bOBd9kOHlFiQ"
      },
      "outputs": [],
      "source": [
        "from googleapiclient.discovery import build\n",
        "from pytube import Playlist\n",
        "from tqdm import tqdm\n",
        "import json\n",
        "import requests\n",
        "import time\n",
        "import pandas as pd\n",
        "import re\n",
        "import numpy as np"
      ]
    },
    {
      "cell_type": "code",
      "source": [
        "from google.colab import userdata\n",
        "api_key = userdata.get('api_key')"
      ],
      "metadata": {
        "id": "z0WFjSUeRkhN"
      },
      "execution_count": 29,
      "outputs": []
    },
    {
      "cell_type": "code",
      "source": [
        "def remove_html_tags(text):\n",
        "    \"\"\"Remove html tags from a string\"\"\"\n",
        "    import re\n",
        "    clean = re.compile('<.*?>')\n",
        "    return re.sub(clean, '', text)\n",
        "\n",
        "\n",
        "def getAllTopLevelCommentReplies(topCommentId, token):\n",
        "  \"\"\"\n",
        "  Recursive function that retrieves the replies a given comment has.\n",
        "  \"\"\"\n",
        "\n",
        "  replies_response=youtube.comments().list(part='snippet',maxResults=100,parentId=topCommentId,pageToken=token).execute()\n",
        "\n",
        "  for indx, reply in enumerate(replies_response['items']):\n",
        "    all_comments.append(reply['snippet']['textDisplay'])\n",
        "\n",
        "  if \"nextPageToken\" in replies_response:\n",
        "    return getAllTopLevelCommentReplies(topCommentId, replies_response['nextPageToken'])\n",
        "  else:\n",
        "    return []\n",
        "\n",
        "\n",
        "\n",
        "\n",
        "def get_comments(youtube_object, video_id, token):\n",
        "  \"\"\"\n",
        "  Recursive function that retrieves the comments (top-level ones) a given video has.\n",
        "  \"\"\"\n",
        "\n",
        "  global all_comments\n",
        "  totalReplyCount = 0\n",
        "  token_reply = None\n",
        "\n",
        "  '''if (len(token.strip()) == 0):\n",
        "    all_comments = []'''\n",
        "\n",
        "  if (token == ''):\n",
        "    video_response=youtube_object.commentThreads().list(part='snippet',maxResults=100,videoId=video_id,order='relevance').execute()\n",
        "  else:\n",
        "    video_response=youtube_object.commentThreads().list(part='snippet',maxResults=100,videoId=video_id,order='relevance',pageToken=token).execute()\n",
        "\n",
        "\n",
        "  # Loop comments from the video:\n",
        "  for indx, item in enumerate(video_response['items']):\n",
        "    # Append coments:\n",
        "    #all_comments.append(\"COMMENT WITH \" + str(item['snippet']['totalReplyCount']) + \" replies: \" + item['snippet']['topLevelComment']['snippet']['textDisplay'])\n",
        "    all_comments.append(remove_html_tags(item['snippet']['topLevelComment']['snippet']['textDisplay']))\n",
        "\n",
        "    # Get total reply count:\n",
        "    totalReplyCount = item['snippet']['totalReplyCount']\n",
        "\n",
        "\n",
        "\n",
        "  # Check if the video_response has more comments:\n",
        "  if \"nextPageToken\" in video_response:\n",
        "    return get_comments(youtube_object, video_id, video_response['nextPageToken'])\n",
        "  else:\n",
        "    # Remove empty elements added to the list \"due to the return in both functions\":\n",
        "    all_comments = [x for x in all_comments if len(x) > 0]\n",
        "    return []\n",
        "\n",
        "\n",
        "\n",
        "\n",
        "play_list_link = \"https://www.youtube.com/watch?v=T6hBL-2UrTo&list=PLVuc_ykLywOmOFkwwGv7BTmPTQI5XQBYV\"\n",
        "\n",
        "\n",
        "\n",
        "\n",
        "p = Playlist(play_list_link)\n",
        "\n",
        "\n",
        "all_comments=[]\n",
        "qtyReplies = 0\n",
        "qtyMainComments = 0\n",
        "\n",
        "\n",
        "\n",
        "for url_input in tqdm(p):\n",
        "\n",
        "  video_id_split = url_input.split('=')\n",
        "  video_id=video_id_split[1]\n",
        "  \"\"\"print(video_id, \" Finished!\")\n",
        "  print(\"_______________________________\")\"\"\"\n",
        "\n",
        "  youtube_object = build('youtube', 'v3',developerKey=api_key)\n",
        "  comments = get_comments(youtube_object,video_id,'')\n",
        "  break\n",
        "\n",
        "# Show results:\n",
        "print(\"All total comments obtained: \"  + str(len(all_comments)))\n",
        "\n",
        "\n",
        "\n",
        "df = pd.DataFrame(all_comments,columns=['Comments'])\n",
        "df = df.astype(str).apply(lambda x: x.str.encode('ascii', 'ignore').str.decode('ascii'))\n",
        "df['Comments'] = df['Comments'].apply(lambda x: re.split('<a href=\"https:\\/\\/.*', str(x))[0])\n",
        "all_comments = df['Comments'].to_list()"
      ],
      "metadata": {
        "colab": {
          "base_uri": "https://localhost:8080/"
        },
        "id": "4En0ANR6lPtd",
        "outputId": "4cbdb607-3df2-4cc6-da23-095c3b7be846"
      },
      "execution_count": 41,
      "outputs": [
        {
          "output_type": "stream",
          "name": "stderr",
          "text": [
            "  0%|          | 0/27 [00:00<?, ?it/s]"
          ]
        },
        {
          "output_type": "stream",
          "name": "stdout",
          "text": [
            "All total comments obtained: 87\n"
          ]
        },
        {
          "output_type": "stream",
          "name": "stderr",
          "text": [
            "\n"
          ]
        }
      ]
    },
    {
      "cell_type": "code",
      "source": [
        "print(\"All total comments obtained: \"  + str(len(all_comments)))"
      ],
      "metadata": {
        "id": "Wusr2sUeUT1I",
        "outputId": "db0b5b48-8ada-4a54-ca18-9eba5e5bc7a9",
        "colab": {
          "base_uri": "https://localhost:8080/"
        }
      },
      "execution_count": 43,
      "outputs": [
        {
          "output_type": "stream",
          "name": "stdout",
          "text": [
            "All total comments obtained: 87\n"
          ]
        }
      ]
    },
    {
      "cell_type": "code",
      "source": [
        "all_comments"
      ],
      "metadata": {
        "colab": {
          "base_uri": "https://localhost:8080/"
        },
        "id": "D0Tsjj02mMrN",
        "outputId": "1dbb3ade-062b-478f-cfef-6f1855e1120d"
      },
      "execution_count": 42,
      "outputs": [
        {
          "output_type": "execute_result",
          "data": {
            "text/plain": [
              "['This is pure gold, after so much clickbait and nonsense I found this gem of a channel. Thank you so much. Valorant is my First FPS and I&#39;m like stuck in low bronze rn, I&#39;m gonna come back to this comment each time I climb a rank.Edit: I hit silver on 28/05/21Edit 2: I hit Gold on 13/10/21, Took a while XD but so worth it!!Edit 3: I hit Platinum 1/7/22, took a much longer time, cuz I didn&#39;t play because of University, but again screamed like a kid! Thank you Sero!Edit 4: I hit Diamond 4/12/22. Very short duration compared to my other jumps, would&#39;ve been quicker if I didn&#39;t have exams XD. Again super awesome!!! Thanks Sero! Again Screamed Like a kid!!',\n",
              " 'The video is so helpful in such a condensed way. The editing is also very good, not too flashy but still sleek. Personally though, I would add quiet background music just to give it a vibe. But overall, this is a great video to learn from, thanks Sero!',\n",
              " 'Sero&#39;s so much more confident in his vids now :D still old sero is gold',\n",
              " 'Thank you, I didn&#39;t really know how to start off since Valorant is my first FPS. This helped a ton ',\n",
              " 'I love these videos so much, it feels like I&#39;m being given genuine advice rather than some clickbait proguides video that&#39;s telling me how to aim at head level. Your channel is what helped me improve and climb out of bronze. keep up the good work :)',\n",
              " 'I think this is the most underrated video whether in Sero&#39;s channel or of all the Valorant guides on youtube. Sero mentioned nearly everything that a begginer should  know about Valorant. This channel is the best Valorant guide channel on youtube to me. Thank you for your hard work again !',\n",
              " 'Im commenting on this video because I couldnt choose what one to do it on. I have watched almost all your guides and tips videos and let me tell you, I got better overnight. I started as a bronze and knew nothing. You have taught me so much in these short videos helping with everything from crosshair placements to movement to basic game sense. Everything for me has changed, how idk everything you said just clicked and my skill level literally doubled overnight. I actually can hit shots in game. You got yourself another in man keep up the good work',\n",
              " 'The editing is so nice, one day I wish to give valorant a try.',\n",
              " 'Liked and watched it all haha, I think it comes a lot to being healthy both mentally and physically that adds to your thinking and decision making, great video, love to see your channel grow so far ! &lt;3',\n",
              " 'I swear to god your videos have brought more Value to my gameplay than any guide or tutorial im so grateful thank you my friend.',\n",
              " 'Your jett guides helped me a lot man. Hope you get your audience reach soon. Good luck.',\n",
              " 'Oh man I wishI would have seen this sooner. Coming from 3rd person shooters like Fortnite I was always hugging the corners. I got so much better when I realized it&#39;s better to stay far away from the wall when peeking.',\n",
              " 'I&#39;m so glad I found this guy out recently u are really good at what u do my man.. keep up the good work..Edit: 21/03/2022, 1yr ago when I was writing this comment i was bronze.. now P3.',\n",
              " 'I got a tip I am commenting it hereFirst always do the warmups then play 2-3 deathmatchsthen 1 unrated (try to perform well and make sure your aim is on point)then if you are confident enough that you will perform well then hop into a comp game , after the 1st comp game is done, take 5 min rest then play 1 more DM and then hop into a comp game againNOTE - DONT PLAY MORE THAN 3 COMP GAMES PER DAY (PLAY UNRATED FOR TIMEPASS)NOTE 2.0 - WINNING 3 AND LOSING NONE IS MUCH MORE BETTER THAN WINNING 3 AND LOSING 3Also I am using P.R.E.M.S method for warming up NICE video your map guide is helping me a lot',\n",
              " 'Very in-depth! You clearly know your stuff!',\n",
              " 'Seriously quality content. You deserve way more attention. Subbed :)',\n",
              " 'Im on my way to immortal Sero, thank you.',\n",
              " 'really good video  and so helpful. i am just really happy that you are here to help',\n",
              " 'I LOVE YOU MAN!! far out no one does tutorials quite like you. In one of your video&#39;s you speak about setups. I was wondering if you could do a setup guide for jett like where you play and what to do in every situation. I know you have stuff like it but whenever I play i dont know the best places to hold for my agent (raze). :) keep it up!!',\n",
              " 'bruv u r just goat i learn i lot from ur guides thank u for putting them out we really appreciate ur guides and hardwork keep up the good work and also do u stream anywhere like twitch or something i would really like to watch them thank u again and have a nice day!!!',\n",
              " 'Just watched this video after hitting diamond 1 a few days ago. I went from Gold 2 to Diamond 1 in like 2 and a half weeks. I&#39;ll come back when I&#39;m immortal...then radiant!',\n",
              " 'Thank you so much !!!Waiting for the jett guides for the other maps',\n",
              " 'I love this video and all, but I have a question. When u counterstrafe for long range, Do u mix it up? Like stop to shoot a burst and move a bit, and counterstrafe? Or do you just stick to pressing a and d for short and long intervals',\n",
              " 'thanks a lot man, havent watched a 20+ minute video without getting bored in a while',\n",
              " 'Thank you Sero for this amazing video :)',\n",
              " 'I feel bad for not getting this video in my recommendations when I started with Valorent. But I&#39;ll send this to every friend I invite to Valorent :)',\n",
              " 'VooCS got tears in his eyes Thanks for the video man ',\n",
              " 'Pretty great  Thanks for the help',\n",
              " 'bro trust me you are doing an amazing job',\n",
              " 'this video helped me a lot, I already knew most of the stuff but some of those tips reallllly helped',\n",
              " 'You are the best! Keep up the great work!',\n",
              " 'man, if you had a Portuguese version for your Brazilian subscribers it would be awesome hehe',\n",
              " 'Great video! I finally found a small channel that makes such good videos. You earned a sub!',\n",
              " 'WHAAAT YOU WENT FROM G1 TO IMMO3 IN 1 ACT!!!??? THAT&#39;S INSANE',\n",
              " 'think there should have been a section that was oriented towards character seltction or something along those lines. Nonetheless, excellent video for beginners',\n",
              " 'you&#39;re my elder brother I always needed ',\n",
              " 'Keep it up with the content bro! Good shit. Love your stuff!!!',\n",
              " 'Man i have a question. Everyone says counter strafing is a d a d. But do i have to counterstrafe while going straight or backwards? Like w s w s or s w s w?',\n",
              " 'U r the best and so down to earth....love you man',\n",
              " 'This video is so good Thanks bro!',\n",
              " 'A great teacher ',\n",
              " 'Thx a lot , im having an issue cuz im wrest aimer i dont have hight reflex , like moving from target to another fastly ,when i practice on medium i cant move to heads fast enough and i aim close to them and not so fast , is that normal in start like around a month or i should be arm aimer or raise the sens ... or it will come with more playing and practicing',\n",
              " 'Great video, thanks!',\n",
              " 'This guy is a god at guides',\n",
              " 'Really good video, you are a good person :)',\n",
              " 'Pls don&#39;t tell ppl setup doesn&#39;t make a differenceBuying a new mouse (it&#39;s better than my previous but not the best ) made me rank up from S2 to g3 in less than a month W previous mouse I would never think of killing someone who&#39;s not in my fov like turning around wasn&#39;t an option w it even tho I was on .5+ sense but the mouse won&#39;t register the movementNow I can do 180 flicks on .37 sense',\n",
              " 'any tips on how to get out of being stuck in bronze? I keep getting close to getting out but then get a thrower or a terrible team, I think im as good as a silver 2 or so, I had a game with one and I did better than them but I still am stuck in bronze and have been for a few months and just cant get out',\n",
              " 'your channel is amazing this vid is gonna help me and my friends tysm subbed',\n",
              " 'this is amazing as of right now im plat 2 ill come back when im diamond',\n",
              " 'I never comment but not  commenting your videos is disrespectful. Thank you for your hardwork.',\n",
              " 'The guide I needed indeed. the intro is lit af. does anyone know this intro',\n",
              " 'can you stream bro. you&#39;re really great I learn a lot from you bro',\n",
              " 'Hardstuck iron 1 (0/100) so I really need help lmao. Youtube algorithm have me this channel and it&#39;s the best. Better overall improvement, thanks so much man',\n",
              " 'THX SO MUCH I DIDNT UNDERSTAND HOW TO RECOIL CONTROL AS OTHER VIDEOS JUST TOLD YOU TO COME TO THAT AREA.',\n",
              " 'Great video!',\n",
              " 'love people who use timestamps ',\n",
              " 'Great content',\n",
              " 'Idk how I found this channel but gg me gusta',\n",
              " '10:20 but isn&#39;t this strafe shooting?',\n",
              " 'You are the Voo of Valorant',\n",
              " '0:00 a legend was born',\n",
              " 'My guns have unlimited ammo but my knives dont in the range how do I fix that?',\n",
              " 'guess what, I&#39;m a bronze player for 11 months. my peak is silver 1.',\n",
              " 'GGz bro, u gotta nice channel. throwing you a sub!',\n",
              " 'where were you all this timei love the jett guides',\n",
              " 'There is no set way to master recoil because it&#39;s made to be random aka not like csgo',\n",
              " 'the 8 dislikes are smurfs',\n",
              " 'oh i have changed my all my crossair setting , now i got is because of this only i am not able to play good thx bro',\n",
              " 'Its 400 dpi or 800 dpi?',\n",
              " 'ayo thx for the help im hard stuck lmao',\n",
              " 'I am from mumbai server (asia) and people here know everything u told about even in iron lobby lol',\n",
              " '12:09 u will automatically have seizures lol',\n",
              " 'baby sero &lt;3',\n",
              " '24:00 love this but literally I am very short tempered and when I play bad my team bully me and say man bad things like - u should play mario.     Delte the game , press alt f4 , some starts abusing too :(.And some people like very very toxic.  Then I fight them back .',\n",
              " 'sero best',\n",
              " 'Nice',\n",
              " 'thanks you',\n",
              " 'What DPI do you use???',\n",
              " 'Whats ur dpi?',\n",
              " 'your view are so good bro',\n",
              " '3 words : I LOVE YOU',\n",
              " 'Underatted .',\n",
              " 'Ur dpi ??',\n",
              " 'The best advice of all... get a life.',\n",
              " 'what is this intro music',\n",
              " 'sheeeeeeeeeeeeeeesh',\n",
              " 'Aye']"
            ]
          },
          "metadata": {},
          "execution_count": 42
        }
      ]
    },
    {
      "cell_type": "code",
      "source": [
        "import pandas as pd\n",
        "import numpy as np\n",
        "import plotly.express as px\n",
        "import plotly.offline as pyo\n",
        "\n",
        "df = pd.read_csv(\"https://raw.githubusercontent.com/RafsanJany-44/Snake_ARC/main/NLP_1/Main_Result.csv\")\n",
        "df = df.dropna().reset_index(drop=True)\n",
        "\n",
        "\n",
        "\n",
        "import tensorflow as tf\n",
        "\n",
        "from tensorflow.keras.preprocessing.text import Tokenizer\n",
        "from tensorflow.keras.preprocessing.sequence import pad_sequences\n",
        "\n",
        "\n",
        "\n",
        "\n",
        "import re\n",
        "\n",
        "def convert_to_string(DF):\n",
        "    DF[\"Comments\"]= DF[\"Comments\"].astype(str)\n",
        "\n",
        "def cleanerFn(b):\n",
        "    # keeps only words with alphabetic characters in comments\n",
        "    for row in range(len(b)):\n",
        "        line = b.loc[row, \"Comments\"]\n",
        "        b.loc[row,\"Comments\"] = re.sub(\"[^a-zA-Z]\", \" \", line)\n",
        "\n",
        "\n",
        "\n",
        "convert_to_string(df)\n",
        "cleanerFn(df)\n",
        "\n",
        "\n",
        "\n",
        "sentences = []\n",
        "labels = []\n",
        "\n",
        "for i in range(df.shape[0]):\n",
        "    sentences.append(df['Comments'][i])\n",
        "    labels.append(df['Type'][i])\n",
        "\n",
        "\n",
        "training_size = 3600\n",
        "training_sentences = sentences[0:training_size]\n",
        "testing_sentences = sentences[training_size:]\n",
        "training_labels = labels[0:training_size]\n",
        "testing_labels = labels[training_size:]\n",
        "\n",
        "\n",
        "\n",
        "vocab_size = 10000                                #the maximum number of words to keep\n",
        "embedding_dim = 16                                #input shape of neuralnetwork\n",
        "max_length = 200                                  #maximum length of all sequences.\n",
        "trunc_type='post'                                 # remove values from sequences larger than maxlen\n",
        "padding_type='post'                               #pad either before or after each sequence.\n",
        "oov_tok = \"<OOV>\"                                 #used to replace out-of-vocabulary words during text_to_sequence calls\n",
        "\n",
        "\n",
        "\n",
        "tokenizer = Tokenizer(num_words=vocab_size, oov_token=oov_tok)\n",
        "tokenizer.fit_on_texts(training_sentences)\n",
        "\n",
        "word_index = tokenizer.word_index\n",
        "\n",
        "#Transforms each text in texts to a sequence of integers. -> training data\n",
        "training_sequences = tokenizer.texts_to_sequences(training_sentences)\n",
        "\n",
        "#This function transforms a list  of sequences into a 2D Numpy array of shape -> Training data\n",
        "training_padded = pad_sequences(training_sequences, maxlen=max_length, padding=padding_type, truncating=trunc_type)\n",
        "\n",
        "\n",
        "#Transforms each text in texts to a sequence of integers. -> testing data\n",
        "testing_sequences = tokenizer.texts_to_sequences(testing_sentences)\n",
        "\n",
        "#This function transforms a list  of sequences into a 2D Numpy array of shape -> testing data\n",
        "testing_padded = pad_sequences(testing_sequences, maxlen=max_length, padding=padding_type,truncating=trunc_type)"
      ],
      "metadata": {
        "id": "ByP0RwULlY7V"
      },
      "execution_count": 32,
      "outputs": []
    },
    {
      "cell_type": "code",
      "source": [
        "import keras\n",
        "ann = keras.models.load_model(\"/content/drive/MyDrive/Trained_Model/299_models/ann.keras\")\n",
        "bi_lstm = keras.models.load_model(\"/content/drive/MyDrive/Trained_Model/299_models/bi_lstm_model.keras\")"
      ],
      "metadata": {
        "id": "DXR5_HOQlf2V"
      },
      "execution_count": 33,
      "outputs": []
    },
    {
      "cell_type": "code",
      "source": [
        "sentence = all_comments\n",
        "sequences = tokenizer.texts_to_sequences(sentence)\n",
        "padded = pad_sequences(sequences, maxlen=max_length, padding=padding_type, truncating=trunc_type)\n",
        "np.set_printoptions(suppress = True,formatter = {'float_kind':'{:f}'.format})"
      ],
      "metadata": {
        "id": "XOtd7x0Blifd"
      },
      "execution_count": 34,
      "outputs": []
    },
    {
      "cell_type": "code",
      "source": [],
      "metadata": {
        "id": "gUVaZtzLSnUo"
      },
      "execution_count": 34,
      "outputs": []
    },
    {
      "cell_type": "code",
      "source": [
        "ann_pred = ann.predict(padded)\n",
        "ann_pred.size"
      ],
      "metadata": {
        "colab": {
          "base_uri": "https://localhost:8080/"
        },
        "id": "00eXBKRTn7Wj",
        "outputId": "2ebdd35d-5c7d-46c7-9a76-27217bc854aa"
      },
      "execution_count": 35,
      "outputs": [
        {
          "output_type": "stream",
          "name": "stdout",
          "text": [
            "359/359 [==============================] - 1s 3ms/step\n"
          ]
        },
        {
          "output_type": "execute_result",
          "data": {
            "text/plain": [
              "11470"
            ]
          },
          "metadata": {},
          "execution_count": 35
        }
      ]
    },
    {
      "cell_type": "code",
      "source": [
        "res1 = ann_pred[(result1>0.5)]"
      ],
      "metadata": {
        "id": "-NPs-o7coML6"
      },
      "execution_count": 36,
      "outputs": []
    },
    {
      "cell_type": "code",
      "source": [
        "res1.size"
      ],
      "metadata": {
        "colab": {
          "base_uri": "https://localhost:8080/"
        },
        "id": "TytiSNqzpmMH",
        "outputId": "5786ca77-d309-41e1-e7f2-0a2ebcd63cf1"
      },
      "execution_count": 37,
      "outputs": [
        {
          "output_type": "execute_result",
          "data": {
            "text/plain": [
              "7684"
            ]
          },
          "metadata": {},
          "execution_count": 37
        }
      ]
    },
    {
      "cell_type": "code",
      "source": [
        "blstm_pred = bi_lstm.predict(padded)\n",
        "blstm_pred.size"
      ],
      "metadata": {
        "colab": {
          "base_uri": "https://localhost:8080/"
        },
        "id": "XOlc0bxSpnkH",
        "outputId": "6dd3cb9f-310a-48ac-e54d-f5944e4a00f2"
      },
      "execution_count": 38,
      "outputs": [
        {
          "output_type": "stream",
          "name": "stdout",
          "text": [
            "359/359 [==============================] - 18s 46ms/step\n"
          ]
        },
        {
          "output_type": "execute_result",
          "data": {
            "text/plain": [
              "11470"
            ]
          },
          "metadata": {},
          "execution_count": 38
        }
      ]
    },
    {
      "cell_type": "code",
      "source": [
        "res2 = blstm_pred[(result1>0.5)]"
      ],
      "metadata": {
        "id": "PP_HyT0GrV4G"
      },
      "execution_count": 39,
      "outputs": []
    },
    {
      "cell_type": "code",
      "source": [
        "res2.size"
      ],
      "metadata": {
        "colab": {
          "base_uri": "https://localhost:8080/"
        },
        "id": "MJMjudGyrXF2",
        "outputId": "b7061311-a112-45cb-e4de-e519e18e2cc4"
      },
      "execution_count": 40,
      "outputs": [
        {
          "output_type": "execute_result",
          "data": {
            "text/plain": [
              "7684"
            ]
          },
          "metadata": {},
          "execution_count": 40
        }
      ]
    },
    {
      "cell_type": "code",
      "source": [],
      "metadata": {
        "id": "mrUWCaflridb"
      },
      "execution_count": 40,
      "outputs": []
    }
  ]
}