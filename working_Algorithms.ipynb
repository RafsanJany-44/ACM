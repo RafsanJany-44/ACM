{
  "cells": [
    {
      "cell_type": "markdown",
      "metadata": {
        "id": "11Rb9hNMB0er"
      },
      "source": [
        "### __Sorting Algorithms__"
      ]
    },
    {
      "cell_type": "code",
      "execution_count": null,
      "metadata": {
        "id": "BV57J5WeB0et"
      },
      "outputs": [],
      "source": [
        "import numpy as np"
      ]
    },
    {
      "cell_type": "markdown",
      "metadata": {
        "id": "z6l2pz0wB0et"
      },
      "source": [
        "__Create an array of random numbers__"
      ]
    },
    {
      "cell_type": "code",
      "execution_count": null,
      "metadata": {
        "id": "ggC1COykB0eu"
      },
      "outputs": [],
      "source": [
        "def get_array(start, end, length):\n",
        "  return np.random.randint(start,end,(length))"
      ]
    },
    {
      "cell_type": "markdown",
      "metadata": {
        "id": "TVxYx8AbB0eu"
      },
      "source": [
        "__Selection Sort__"
      ]
    },
    {
      "cell_type": "code",
      "execution_count": null,
      "metadata": {
        "id": "Z6uUVJX6B0eu"
      },
      "outputs": [],
      "source": [
        "def selection_sort(arr):\n",
        "    for step in range(len(arr)):\n",
        "            min_idx = step\n",
        "\n",
        "            for i in range(step + 1, len(arr)):\n",
        "                if arr[i] < arr[min_idx]:\n",
        "                    min_idx = i\n",
        "            (arr[step], arr[min_idx]) = (arr[min_idx], arr[step])"
      ]
    },
    {
      "cell_type": "code",
      "execution_count": null,
      "metadata": {
        "id": "17IRr1NPB0ev"
      },
      "outputs": [],
      "source": [
        "data = get_array(1,50,10)\n",
        "print(\"Unsorted array: {}\".format(data))\n",
        "selection_sort(data)\n",
        "print(\"Sorted Array: {}\".format(data))"
      ]
    },
    {
      "cell_type": "markdown",
      "metadata": {
        "id": "Y1xn1PjvB0ev"
      },
      "source": [
        "__Bubble Sort__\n"
      ]
    },
    {
      "cell_type": "code",
      "execution_count": null,
      "metadata": {
        "id": "c9tUuUuIB0ev"
      },
      "outputs": [],
      "source": [
        "def bubble_sort(arr):\n",
        "    n = len(arr)\n",
        "    for i in range(n-1):\n",
        "        for j in range(0, n-i-1):\n",
        "            if arr[j] > arr[j + 1]:\n",
        "                arr[j], arr[j + 1] = arr[j + 1], arr[j]"
      ]
    },
    {
      "cell_type": "code",
      "execution_count": null,
      "metadata": {
        "id": "E73MVFZCB0ew"
      },
      "outputs": [],
      "source": [
        "data = get_array(1,50,10)\n",
        "print(\"Unsorted array: {}\".format(data))\n",
        "bubble_sort(data)\n",
        "print(\"Sorted Array: {}\".format(data))"
      ]
    },
    {
      "cell_type": "markdown",
      "metadata": {
        "id": "eXoQUYIfB0ew"
      },
      "source": [
        "__Merge Sort__"
      ]
    },
    {
      "cell_type": "code",
      "execution_count": null,
      "metadata": {
        "id": "G5WoU2s7B0ew"
      },
      "outputs": [],
      "source": [
        "def merge_sort(arr):\n",
        "    if len(arr) > 1:\n",
        "        mid = len(arr)//2\n",
        "        L = arr[:mid]\n",
        "        R = arr[mid:]\n",
        "        merge_sort(L)\n",
        "        merge_sort(R)\n",
        "        i = j = k = 0\n",
        "        while i < len(L) and j < len(R):\n",
        "            if L[i] <= R[j]:\n",
        "                arr[k] = L[i]\n",
        "                i += 1\n",
        "            else:\n",
        "                arr[k] = R[j]\n",
        "                j += 1\n",
        "            k += 1\n",
        "        while i < len(L):\n",
        "            arr[k] = L[i]\n",
        "            i += 1\n",
        "            k += 1\n",
        "        while j < len(R):\n",
        "            arr[k] = R[j]\n",
        "            j += 1\n",
        "            k += 1"
      ]
    },
    {
      "cell_type": "code",
      "execution_count": null,
      "metadata": {
        "id": "Q0suU5IlB0ew"
      },
      "outputs": [],
      "source": [
        "data = get_array(1,50,10)\n",
        "print(\"Unsorted array: {}\".format(data))\n",
        "merge_sort(data)\n",
        "print(\"Sorted Array: {}\".format(data))"
      ]
    },
    {
      "cell_type": "markdown",
      "metadata": {
        "id": "Sv3g5EmUB0ex"
      },
      "source": [
        "__Insertion Sort__"
      ]
    },
    {
      "cell_type": "code",
      "execution_count": null,
      "metadata": {
        "id": "i2tODmaCB0ex"
      },
      "outputs": [],
      "source": [
        "def insertionSort(arr):\n",
        "    for i in range(1, len(arr)):\n",
        "        key = arr[i]\n",
        "        j = i-1\n",
        "        while j >=0 and key < arr[j] :\n",
        "                arr[j+1] = arr[j]\n",
        "                j -= 1\n",
        "        arr[j+1] = key"
      ]
    },
    {
      "cell_type": "code",
      "execution_count": null,
      "metadata": {
        "id": "DwFJ10dzB0ex"
      },
      "outputs": [],
      "source": [
        "data=get_array(1,50,10)\n",
        "print(\"Unsorted array:{}\".format(data))\n",
        "insertionSort(data)\n",
        "print(\"Sorted Array: {}\".format(data))"
      ]
    },
    {
      "cell_type": "markdown",
      "metadata": {
        "id": "KQXb-0vNB0ex"
      },
      "source": [
        "__Quick Sort__"
      ]
    },
    {
      "cell_type": "code",
      "execution_count": null,
      "metadata": {
        "id": "M5Za6BKvB0ex"
      },
      "outputs": [],
      "source": [
        "def partition(array, low, high):\n",
        "\n",
        "  pivot = array[high]\n",
        "\n",
        "  i = low - 1\n",
        "\n",
        "  for j in range(low, high):\n",
        "    if array[j] <= pivot:\n",
        "      i = i + 1\n",
        "      (array[i], array[j]) = (array[j], array[i])\n",
        "\n",
        "  (array[i + 1], array[high]) = (array[high], array[i + 1])\n",
        "  return i + 1\n",
        "\n",
        "def quickSort(array, low, high):\n",
        "  if low < high:\n",
        "\n",
        "    pi = partition(array, low, high)\n",
        "    quickSort(array, low, pi - 1)\n",
        "    quickSort(array, pi + 1, high)\n"
      ]
    },
    {
      "cell_type": "code",
      "execution_count": null,
      "metadata": {
        "id": "ga-XMvvPB0ex"
      },
      "outputs": [],
      "source": [
        "data=get_array(1,50,10)\n",
        "print(\"Unsorted array:{}\".format(data))\n",
        "quickSort(data, 0, len(data) - 1)\n",
        "print(\"Sorted Array: {}\".format(data))"
      ]
    },
    {
      "cell_type": "markdown",
      "metadata": {
        "id": "E-ZldNx1B0ex"
      },
      "source": [
        "__Heap Sort__"
      ]
    },
    {
      "cell_type": "code",
      "execution_count": null,
      "metadata": {
        "id": "uSVuPR6yB0ex"
      },
      "outputs": [],
      "source": [
        "def heapify(arr, N, i):\n",
        "    largest = i  # Initialize largest as root\n",
        "    l = 2 * i + 1     # left = 2*i + 1\n",
        "    r = 2 * i + 2\n",
        "\n",
        "\n",
        "    if l < N and arr[largest] < arr[l]:\n",
        "        largest = l\n",
        "\n",
        "    if r < N and arr[largest] < arr[r]:\n",
        "        largest = r\n",
        "\n",
        "    if largest != i:\n",
        "        arr[i], arr[largest] = arr[largest], arr[i]  # swap\n",
        "\n",
        "        heapify(arr, N, largest)\n",
        "\n",
        "def heapSort(arr):\n",
        "    N = len(arr)\n",
        "\n",
        "    for i in range(N//2 - 1, -1, -1):\n",
        "        heapify(arr, N, i)\n",
        "\n",
        "    for i in range(N-1, 0, -1):\n",
        "        arr[i], arr[0] = arr[0], arr[i]\n",
        "        heapify(arr, i, 0)"
      ]
    },
    {
      "cell_type": "code",
      "execution_count": null,
      "metadata": {
        "id": "ig8tC7pxB0ex"
      },
      "outputs": [],
      "source": [
        "data= get_array(1,50,10)\n",
        "print(\"Unsorted array:{}\".format(data))\n",
        "heapSort(data)\n",
        "print(\"Sorted Array: {}\".format(data))\n"
      ]
    }
  ],
  "metadata": {
    "kernelspec": {
      "display_name": "Python 3.9.13 ('base')",
      "language": "python",
      "name": "python3"
    },
    "language_info": {
      "codemirror_mode": {
        "name": "ipython",
        "version": 3
      },
      "file_extension": ".py",
      "mimetype": "text/x-python",
      "name": "python",
      "nbconvert_exporter": "python",
      "pygments_lexer": "ipython3",
      "version": "3.9.13"
    },
    "orig_nbformat": 4,
    "vscode": {
      "interpreter": {
        "hash": "49cb93f377a7abe7414b7b0f21fb3017538004a126cf690fb524202736b7fb92"
      }
    },
    "colab": {
      "provenance": []
    }
  },
  "nbformat": 4,
  "nbformat_minor": 0
}