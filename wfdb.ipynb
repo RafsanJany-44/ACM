{
  "nbformat": 4,
  "nbformat_minor": 0,
  "metadata": {
    "colab": {
      "provenance": [],
      "authorship_tag": "ABX9TyPs7qe2UPCL57DwGCu8DPDs",
      "include_colab_link": true
    },
    "kernelspec": {
      "name": "python3",
      "display_name": "Python 3"
    },
    "language_info": {
      "name": "python"
    },
    "widgets": {
      "application/vnd.jupyter.widget-state+json": {
        "b76ee5d59d4b497592a55d48d4747729": {
          "model_module": "@jupyter-widgets/controls",
          "model_name": "HBoxModel",
          "model_module_version": "1.5.0",
          "state": {
            "_dom_classes": [],
            "_model_module": "@jupyter-widgets/controls",
            "_model_module_version": "1.5.0",
            "_model_name": "HBoxModel",
            "_view_count": null,
            "_view_module": "@jupyter-widgets/controls",
            "_view_module_version": "1.5.0",
            "_view_name": "HBoxView",
            "box_style": "",
            "children": [
              "IPY_MODEL_fcd993cfe47645aa90ef13481f2a3109",
              "IPY_MODEL_b43bffcae6c044f7ab70ce8340f93ba3",
              "IPY_MODEL_b15004a408ec486f9f1a87a4ed419212"
            ],
            "layout": "IPY_MODEL_9eb8e7996f004d929492362d2f7c64eb"
          }
        },
        "fcd993cfe47645aa90ef13481f2a3109": {
          "model_module": "@jupyter-widgets/controls",
          "model_name": "HTMLModel",
          "model_module_version": "1.5.0",
          "state": {
            "_dom_classes": [],
            "_model_module": "@jupyter-widgets/controls",
            "_model_module_version": "1.5.0",
            "_model_name": "HTMLModel",
            "_view_count": null,
            "_view_module": "@jupyter-widgets/controls",
            "_view_module_version": "1.5.0",
            "_view_name": "HTMLView",
            "description": "",
            "description_tooltip": null,
            "layout": "IPY_MODEL_4cc2b7e4f6294122bc5047ae173ab4f1",
            "placeholder": "​",
            "style": "IPY_MODEL_2d9faed764614590b22ff04b84756542",
            "value": " 72%"
          }
        },
        "b43bffcae6c044f7ab70ce8340f93ba3": {
          "model_module": "@jupyter-widgets/controls",
          "model_name": "FloatProgressModel",
          "model_module_version": "1.5.0",
          "state": {
            "_dom_classes": [],
            "_model_module": "@jupyter-widgets/controls",
            "_model_module_version": "1.5.0",
            "_model_name": "FloatProgressModel",
            "_view_count": null,
            "_view_module": "@jupyter-widgets/controls",
            "_view_module_version": "1.5.0",
            "_view_name": "ProgressView",
            "bar_style": "danger",
            "description": "",
            "description_tooltip": null,
            "layout": "IPY_MODEL_d00931b1a62e461988c460990aed95e6",
            "max": 1154111,
            "min": 0,
            "orientation": "horizontal",
            "style": "IPY_MODEL_94f691fd1d1c47f6a9da34d27c0cd63d",
            "value": 833999
          }
        },
        "b15004a408ec486f9f1a87a4ed419212": {
          "model_module": "@jupyter-widgets/controls",
          "model_name": "HTMLModel",
          "model_module_version": "1.5.0",
          "state": {
            "_dom_classes": [],
            "_model_module": "@jupyter-widgets/controls",
            "_model_module_version": "1.5.0",
            "_model_name": "HTMLModel",
            "_view_count": null,
            "_view_module": "@jupyter-widgets/controls",
            "_view_module_version": "1.5.0",
            "_view_name": "HTMLView",
            "description": "",
            "description_tooltip": null,
            "layout": "IPY_MODEL_f79ec42a79ec49dc965d70dc00eec303",
            "placeholder": "​",
            "style": "IPY_MODEL_a6a6504a14bd4fd99a9584010b6b7395",
            "value": " 833999/1154111 [00:00&lt;00:00, 1651026.77it/s]"
          }
        },
        "9eb8e7996f004d929492362d2f7c64eb": {
          "model_module": "@jupyter-widgets/base",
          "model_name": "LayoutModel",
          "model_module_version": "1.2.0",
          "state": {
            "_model_module": "@jupyter-widgets/base",
            "_model_module_version": "1.2.0",
            "_model_name": "LayoutModel",
            "_view_count": null,
            "_view_module": "@jupyter-widgets/base",
            "_view_module_version": "1.2.0",
            "_view_name": "LayoutView",
            "align_content": null,
            "align_items": null,
            "align_self": null,
            "border": null,
            "bottom": null,
            "display": null,
            "flex": null,
            "flex_flow": null,
            "grid_area": null,
            "grid_auto_columns": null,
            "grid_auto_flow": null,
            "grid_auto_rows": null,
            "grid_column": null,
            "grid_gap": null,
            "grid_row": null,
            "grid_template_areas": null,
            "grid_template_columns": null,
            "grid_template_rows": null,
            "height": null,
            "justify_content": null,
            "justify_items": null,
            "left": null,
            "margin": null,
            "max_height": null,
            "max_width": null,
            "min_height": null,
            "min_width": null,
            "object_fit": null,
            "object_position": null,
            "order": null,
            "overflow": null,
            "overflow_x": null,
            "overflow_y": null,
            "padding": null,
            "right": null,
            "top": null,
            "visibility": null,
            "width": null
          }
        },
        "4cc2b7e4f6294122bc5047ae173ab4f1": {
          "model_module": "@jupyter-widgets/base",
          "model_name": "LayoutModel",
          "model_module_version": "1.2.0",
          "state": {
            "_model_module": "@jupyter-widgets/base",
            "_model_module_version": "1.2.0",
            "_model_name": "LayoutModel",
            "_view_count": null,
            "_view_module": "@jupyter-widgets/base",
            "_view_module_version": "1.2.0",
            "_view_name": "LayoutView",
            "align_content": null,
            "align_items": null,
            "align_self": null,
            "border": null,
            "bottom": null,
            "display": null,
            "flex": null,
            "flex_flow": null,
            "grid_area": null,
            "grid_auto_columns": null,
            "grid_auto_flow": null,
            "grid_auto_rows": null,
            "grid_column": null,
            "grid_gap": null,
            "grid_row": null,
            "grid_template_areas": null,
            "grid_template_columns": null,
            "grid_template_rows": null,
            "height": null,
            "justify_content": null,
            "justify_items": null,
            "left": null,
            "margin": null,
            "max_height": null,
            "max_width": null,
            "min_height": null,
            "min_width": null,
            "object_fit": null,
            "object_position": null,
            "order": null,
            "overflow": null,
            "overflow_x": null,
            "overflow_y": null,
            "padding": null,
            "right": null,
            "top": null,
            "visibility": null,
            "width": null
          }
        },
        "2d9faed764614590b22ff04b84756542": {
          "model_module": "@jupyter-widgets/controls",
          "model_name": "DescriptionStyleModel",
          "model_module_version": "1.5.0",
          "state": {
            "_model_module": "@jupyter-widgets/controls",
            "_model_module_version": "1.5.0",
            "_model_name": "DescriptionStyleModel",
            "_view_count": null,
            "_view_module": "@jupyter-widgets/base",
            "_view_module_version": "1.2.0",
            "_view_name": "StyleView",
            "description_width": ""
          }
        },
        "d00931b1a62e461988c460990aed95e6": {
          "model_module": "@jupyter-widgets/base",
          "model_name": "LayoutModel",
          "model_module_version": "1.2.0",
          "state": {
            "_model_module": "@jupyter-widgets/base",
            "_model_module_version": "1.2.0",
            "_model_name": "LayoutModel",
            "_view_count": null,
            "_view_module": "@jupyter-widgets/base",
            "_view_module_version": "1.2.0",
            "_view_name": "LayoutView",
            "align_content": null,
            "align_items": null,
            "align_self": null,
            "border": null,
            "bottom": null,
            "display": null,
            "flex": null,
            "flex_flow": null,
            "grid_area": null,
            "grid_auto_columns": null,
            "grid_auto_flow": null,
            "grid_auto_rows": null,
            "grid_column": null,
            "grid_gap": null,
            "grid_row": null,
            "grid_template_areas": null,
            "grid_template_columns": null,
            "grid_template_rows": null,
            "height": null,
            "justify_content": null,
            "justify_items": null,
            "left": null,
            "margin": null,
            "max_height": null,
            "max_width": null,
            "min_height": null,
            "min_width": null,
            "object_fit": null,
            "object_position": null,
            "order": null,
            "overflow": null,
            "overflow_x": null,
            "overflow_y": null,
            "padding": null,
            "right": null,
            "top": null,
            "visibility": null,
            "width": null
          }
        },
        "94f691fd1d1c47f6a9da34d27c0cd63d": {
          "model_module": "@jupyter-widgets/controls",
          "model_name": "ProgressStyleModel",
          "model_module_version": "1.5.0",
          "state": {
            "_model_module": "@jupyter-widgets/controls",
            "_model_module_version": "1.5.0",
            "_model_name": "ProgressStyleModel",
            "_view_count": null,
            "_view_module": "@jupyter-widgets/base",
            "_view_module_version": "1.2.0",
            "_view_name": "StyleView",
            "bar_color": null,
            "description_width": ""
          }
        },
        "f79ec42a79ec49dc965d70dc00eec303": {
          "model_module": "@jupyter-widgets/base",
          "model_name": "LayoutModel",
          "model_module_version": "1.2.0",
          "state": {
            "_model_module": "@jupyter-widgets/base",
            "_model_module_version": "1.2.0",
            "_model_name": "LayoutModel",
            "_view_count": null,
            "_view_module": "@jupyter-widgets/base",
            "_view_module_version": "1.2.0",
            "_view_name": "LayoutView",
            "align_content": null,
            "align_items": null,
            "align_self": null,
            "border": null,
            "bottom": null,
            "display": null,
            "flex": null,
            "flex_flow": null,
            "grid_area": null,
            "grid_auto_columns": null,
            "grid_auto_flow": null,
            "grid_auto_rows": null,
            "grid_column": null,
            "grid_gap": null,
            "grid_row": null,
            "grid_template_areas": null,
            "grid_template_columns": null,
            "grid_template_rows": null,
            "height": null,
            "justify_content": null,
            "justify_items": null,
            "left": null,
            "margin": null,
            "max_height": null,
            "max_width": null,
            "min_height": null,
            "min_width": null,
            "object_fit": null,
            "object_position": null,
            "order": null,
            "overflow": null,
            "overflow_x": null,
            "overflow_y": null,
            "padding": null,
            "right": null,
            "top": null,
            "visibility": null,
            "width": null
          }
        },
        "a6a6504a14bd4fd99a9584010b6b7395": {
          "model_module": "@jupyter-widgets/controls",
          "model_name": "DescriptionStyleModel",
          "model_module_version": "1.5.0",
          "state": {
            "_model_module": "@jupyter-widgets/controls",
            "_model_module_version": "1.5.0",
            "_model_name": "DescriptionStyleModel",
            "_view_count": null,
            "_view_module": "@jupyter-widgets/base",
            "_view_module_version": "1.2.0",
            "_view_name": "StyleView",
            "description_width": ""
          }
        },
        "35e6ff47f58149938bcaa654b6c81e55": {
          "model_module": "@jupyter-widgets/controls",
          "model_name": "HBoxModel",
          "model_module_version": "1.5.0",
          "state": {
            "_dom_classes": [],
            "_model_module": "@jupyter-widgets/controls",
            "_model_module_version": "1.5.0",
            "_model_name": "HBoxModel",
            "_view_count": null,
            "_view_module": "@jupyter-widgets/controls",
            "_view_module_version": "1.5.0",
            "_view_name": "HBoxView",
            "box_style": "",
            "children": [
              "IPY_MODEL_a4ed7f779b3b48f9aab17ce85de7431c",
              "IPY_MODEL_9311cf335ccf47cf9bddb9251cfaba00",
              "IPY_MODEL_afe65fa189b84d9abbbd1d60b580687a"
            ],
            "layout": "IPY_MODEL_77118c755ded4961a3b34c009352ca34"
          }
        },
        "a4ed7f779b3b48f9aab17ce85de7431c": {
          "model_module": "@jupyter-widgets/controls",
          "model_name": "HTMLModel",
          "model_module_version": "1.5.0",
          "state": {
            "_dom_classes": [],
            "_model_module": "@jupyter-widgets/controls",
            "_model_module_version": "1.5.0",
            "_model_name": "HTMLModel",
            "_view_count": null,
            "_view_module": "@jupyter-widgets/controls",
            "_view_module_version": "1.5.0",
            "_view_name": "HTMLView",
            "description": "",
            "description_tooltip": null,
            "layout": "IPY_MODEL_317d0354bce24d768297732444ffc8ba",
            "placeholder": "​",
            "style": "IPY_MODEL_6ce9df4bac0543289da108f96407f5ea",
            "value": "100%"
          }
        },
        "9311cf335ccf47cf9bddb9251cfaba00": {
          "model_module": "@jupyter-widgets/controls",
          "model_name": "FloatProgressModel",
          "model_module_version": "1.5.0",
          "state": {
            "_dom_classes": [],
            "_model_module": "@jupyter-widgets/controls",
            "_model_module_version": "1.5.0",
            "_model_name": "FloatProgressModel",
            "_view_count": null,
            "_view_module": "@jupyter-widgets/controls",
            "_view_module_version": "1.5.0",
            "_view_name": "ProgressView",
            "bar_style": "success",
            "description": "",
            "description_tooltip": null,
            "layout": "IPY_MODEL_1927afc3211e4e57b7ebaad58eb4efe7",
            "max": 1154111,
            "min": 0,
            "orientation": "horizontal",
            "style": "IPY_MODEL_bf4d17f148f4463cbf6292b3e798cb0d",
            "value": 1154111
          }
        },
        "afe65fa189b84d9abbbd1d60b580687a": {
          "model_module": "@jupyter-widgets/controls",
          "model_name": "HTMLModel",
          "model_module_version": "1.5.0",
          "state": {
            "_dom_classes": [],
            "_model_module": "@jupyter-widgets/controls",
            "_model_module_version": "1.5.0",
            "_model_name": "HTMLModel",
            "_view_count": null,
            "_view_module": "@jupyter-widgets/controls",
            "_view_module_version": "1.5.0",
            "_view_name": "HTMLView",
            "description": "",
            "description_tooltip": null,
            "layout": "IPY_MODEL_8a38ae758c734bcbb9867c80355a5b0b",
            "placeholder": "​",
            "style": "IPY_MODEL_5707843c806e4f73a83b12cf6771b4be",
            "value": " 1154111/1154111 [00:00&lt;00:00, 1915431.64it/s]"
          }
        },
        "77118c755ded4961a3b34c009352ca34": {
          "model_module": "@jupyter-widgets/base",
          "model_name": "LayoutModel",
          "model_module_version": "1.2.0",
          "state": {
            "_model_module": "@jupyter-widgets/base",
            "_model_module_version": "1.2.0",
            "_model_name": "LayoutModel",
            "_view_count": null,
            "_view_module": "@jupyter-widgets/base",
            "_view_module_version": "1.2.0",
            "_view_name": "LayoutView",
            "align_content": null,
            "align_items": null,
            "align_self": null,
            "border": null,
            "bottom": null,
            "display": null,
            "flex": null,
            "flex_flow": null,
            "grid_area": null,
            "grid_auto_columns": null,
            "grid_auto_flow": null,
            "grid_auto_rows": null,
            "grid_column": null,
            "grid_gap": null,
            "grid_row": null,
            "grid_template_areas": null,
            "grid_template_columns": null,
            "grid_template_rows": null,
            "height": null,
            "justify_content": null,
            "justify_items": null,
            "left": null,
            "margin": null,
            "max_height": null,
            "max_width": null,
            "min_height": null,
            "min_width": null,
            "object_fit": null,
            "object_position": null,
            "order": null,
            "overflow": null,
            "overflow_x": null,
            "overflow_y": null,
            "padding": null,
            "right": null,
            "top": null,
            "visibility": null,
            "width": null
          }
        },
        "317d0354bce24d768297732444ffc8ba": {
          "model_module": "@jupyter-widgets/base",
          "model_name": "LayoutModel",
          "model_module_version": "1.2.0",
          "state": {
            "_model_module": "@jupyter-widgets/base",
            "_model_module_version": "1.2.0",
            "_model_name": "LayoutModel",
            "_view_count": null,
            "_view_module": "@jupyter-widgets/base",
            "_view_module_version": "1.2.0",
            "_view_name": "LayoutView",
            "align_content": null,
            "align_items": null,
            "align_self": null,
            "border": null,
            "bottom": null,
            "display": null,
            "flex": null,
            "flex_flow": null,
            "grid_area": null,
            "grid_auto_columns": null,
            "grid_auto_flow": null,
            "grid_auto_rows": null,
            "grid_column": null,
            "grid_gap": null,
            "grid_row": null,
            "grid_template_areas": null,
            "grid_template_columns": null,
            "grid_template_rows": null,
            "height": null,
            "justify_content": null,
            "justify_items": null,
            "left": null,
            "margin": null,
            "max_height": null,
            "max_width": null,
            "min_height": null,
            "min_width": null,
            "object_fit": null,
            "object_position": null,
            "order": null,
            "overflow": null,
            "overflow_x": null,
            "overflow_y": null,
            "padding": null,
            "right": null,
            "top": null,
            "visibility": null,
            "width": null
          }
        },
        "6ce9df4bac0543289da108f96407f5ea": {
          "model_module": "@jupyter-widgets/controls",
          "model_name": "DescriptionStyleModel",
          "model_module_version": "1.5.0",
          "state": {
            "_model_module": "@jupyter-widgets/controls",
            "_model_module_version": "1.5.0",
            "_model_name": "DescriptionStyleModel",
            "_view_count": null,
            "_view_module": "@jupyter-widgets/base",
            "_view_module_version": "1.2.0",
            "_view_name": "StyleView",
            "description_width": ""
          }
        },
        "1927afc3211e4e57b7ebaad58eb4efe7": {
          "model_module": "@jupyter-widgets/base",
          "model_name": "LayoutModel",
          "model_module_version": "1.2.0",
          "state": {
            "_model_module": "@jupyter-widgets/base",
            "_model_module_version": "1.2.0",
            "_model_name": "LayoutModel",
            "_view_count": null,
            "_view_module": "@jupyter-widgets/base",
            "_view_module_version": "1.2.0",
            "_view_name": "LayoutView",
            "align_content": null,
            "align_items": null,
            "align_self": null,
            "border": null,
            "bottom": null,
            "display": null,
            "flex": null,
            "flex_flow": null,
            "grid_area": null,
            "grid_auto_columns": null,
            "grid_auto_flow": null,
            "grid_auto_rows": null,
            "grid_column": null,
            "grid_gap": null,
            "grid_row": null,
            "grid_template_areas": null,
            "grid_template_columns": null,
            "grid_template_rows": null,
            "height": null,
            "justify_content": null,
            "justify_items": null,
            "left": null,
            "margin": null,
            "max_height": null,
            "max_width": null,
            "min_height": null,
            "min_width": null,
            "object_fit": null,
            "object_position": null,
            "order": null,
            "overflow": null,
            "overflow_x": null,
            "overflow_y": null,
            "padding": null,
            "right": null,
            "top": null,
            "visibility": null,
            "width": null
          }
        },
        "bf4d17f148f4463cbf6292b3e798cb0d": {
          "model_module": "@jupyter-widgets/controls",
          "model_name": "ProgressStyleModel",
          "model_module_version": "1.5.0",
          "state": {
            "_model_module": "@jupyter-widgets/controls",
            "_model_module_version": "1.5.0",
            "_model_name": "ProgressStyleModel",
            "_view_count": null,
            "_view_module": "@jupyter-widgets/base",
            "_view_module_version": "1.2.0",
            "_view_name": "StyleView",
            "bar_color": null,
            "description_width": ""
          }
        },
        "8a38ae758c734bcbb9867c80355a5b0b": {
          "model_module": "@jupyter-widgets/base",
          "model_name": "LayoutModel",
          "model_module_version": "1.2.0",
          "state": {
            "_model_module": "@jupyter-widgets/base",
            "_model_module_version": "1.2.0",
            "_model_name": "LayoutModel",
            "_view_count": null,
            "_view_module": "@jupyter-widgets/base",
            "_view_module_version": "1.2.0",
            "_view_name": "LayoutView",
            "align_content": null,
            "align_items": null,
            "align_self": null,
            "border": null,
            "bottom": null,
            "display": null,
            "flex": null,
            "flex_flow": null,
            "grid_area": null,
            "grid_auto_columns": null,
            "grid_auto_flow": null,
            "grid_auto_rows": null,
            "grid_column": null,
            "grid_gap": null,
            "grid_row": null,
            "grid_template_areas": null,
            "grid_template_columns": null,
            "grid_template_rows": null,
            "height": null,
            "justify_content": null,
            "justify_items": null,
            "left": null,
            "margin": null,
            "max_height": null,
            "max_width": null,
            "min_height": null,
            "min_width": null,
            "object_fit": null,
            "object_position": null,
            "order": null,
            "overflow": null,
            "overflow_x": null,
            "overflow_y": null,
            "padding": null,
            "right": null,
            "top": null,
            "visibility": null,
            "width": null
          }
        },
        "5707843c806e4f73a83b12cf6771b4be": {
          "model_module": "@jupyter-widgets/controls",
          "model_name": "DescriptionStyleModel",
          "model_module_version": "1.5.0",
          "state": {
            "_model_module": "@jupyter-widgets/controls",
            "_model_module_version": "1.5.0",
            "_model_name": "DescriptionStyleModel",
            "_view_count": null,
            "_view_module": "@jupyter-widgets/base",
            "_view_module_version": "1.2.0",
            "_view_name": "StyleView",
            "description_width": ""
          }
        }
      }
    }
  },
  "cells": [
    {
      "cell_type": "markdown",
      "metadata": {
        "id": "view-in-github",
        "colab_type": "text"
      },
      "source": [
        "<a href=\"https://colab.research.google.com/github/RafsanJany-44/ARC/blob/master/wfdb.ipynb\" target=\"_parent\"><img src=\"https://colab.research.google.com/assets/colab-badge.svg\" alt=\"Open In Colab\"/></a>"
      ]
    },
    {
      "cell_type": "code",
      "execution_count": 1,
      "metadata": {
        "colab": {
          "base_uri": "https://localhost:8080/"
        },
        "id": "v5aoJtJ2oaCz",
        "outputId": "4516ba9f-567d-43eb-fdc3-97e37d87666b"
      },
      "outputs": [
        {
          "output_type": "stream",
          "name": "stdout",
          "text": [
            "\u001b[2K     \u001b[90m━━━━━━━━━━━━━━━━━━━━━━━━━━━━━━━━━━━━━━━\u001b[0m \u001b[32m160.0/160.0 kB\u001b[0m \u001b[31m3.4 MB/s\u001b[0m eta \u001b[36m0:00:00\u001b[0m\n",
            "\u001b[2K     \u001b[90m━━━━━━━━━━━━━━━━━━━━━━━━━━━━━━━━━━━━━━━━\u001b[0m \u001b[32m1.3/1.3 MB\u001b[0m \u001b[31m10.3 MB/s\u001b[0m eta \u001b[36m0:00:00\u001b[0m\n",
            "\u001b[2K     \u001b[90m━━━━━━━━━━━━━━━━━━━━━━━━━━━━━━━━━━━━━━━\u001b[0m \u001b[32m107.0/107.0 kB\u001b[0m \u001b[31m2.6 MB/s\u001b[0m eta \u001b[36m0:00:00\u001b[0m\n",
            "\u001b[?25hCollecting vitaldb\n",
            "  Downloading vitaldb-1.4.2-py3-none-any.whl (54 kB)\n",
            "\u001b[2K     \u001b[90m━━━━━━━━━━━━━━━━━━━━━━━━━━━━━━━━━━━━━━━━\u001b[0m \u001b[32m55.0/55.0 kB\u001b[0m \u001b[31m1.8 MB/s\u001b[0m eta \u001b[36m0:00:00\u001b[0m\n",
            "\u001b[?25hRequirement already satisfied: numpy in /usr/local/lib/python3.10/dist-packages (from vitaldb) (1.23.5)\n",
            "Requirement already satisfied: pandas in /usr/local/lib/python3.10/dist-packages (from vitaldb) (1.5.3)\n",
            "Requirement already satisfied: requests in /usr/local/lib/python3.10/dist-packages (from vitaldb) (2.31.0)\n",
            "Requirement already satisfied: wfdb in /usr/local/lib/python3.10/dist-packages (from vitaldb) (4.1.2)\n",
            "Requirement already satisfied: python-dateutil>=2.8.1 in /usr/local/lib/python3.10/dist-packages (from pandas->vitaldb) (2.8.2)\n",
            "Requirement already satisfied: pytz>=2020.1 in /usr/local/lib/python3.10/dist-packages (from pandas->vitaldb) (2023.3.post1)\n",
            "Requirement already satisfied: charset-normalizer<4,>=2 in /usr/local/lib/python3.10/dist-packages (from requests->vitaldb) (3.2.0)\n",
            "Requirement already satisfied: idna<4,>=2.5 in /usr/local/lib/python3.10/dist-packages (from requests->vitaldb) (3.4)\n",
            "Requirement already satisfied: urllib3<3,>=1.21.1 in /usr/local/lib/python3.10/dist-packages (from requests->vitaldb) (2.0.4)\n",
            "Requirement already satisfied: certifi>=2017.4.17 in /usr/local/lib/python3.10/dist-packages (from requests->vitaldb) (2023.7.22)\n",
            "Requirement already satisfied: SoundFile>=0.10.0 in /usr/local/lib/python3.10/dist-packages (from wfdb->vitaldb) (0.12.1)\n",
            "Requirement already satisfied: matplotlib>=3.2.2 in /usr/local/lib/python3.10/dist-packages (from wfdb->vitaldb) (3.7.1)\n",
            "Requirement already satisfied: scipy>=1.0.0 in /usr/local/lib/python3.10/dist-packages (from wfdb->vitaldb) (1.10.1)\n",
            "Requirement already satisfied: contourpy>=1.0.1 in /usr/local/lib/python3.10/dist-packages (from matplotlib>=3.2.2->wfdb->vitaldb) (1.1.0)\n",
            "Requirement already satisfied: cycler>=0.10 in /usr/local/lib/python3.10/dist-packages (from matplotlib>=3.2.2->wfdb->vitaldb) (0.11.0)\n",
            "Requirement already satisfied: fonttools>=4.22.0 in /usr/local/lib/python3.10/dist-packages (from matplotlib>=3.2.2->wfdb->vitaldb) (4.42.1)\n",
            "Requirement already satisfied: kiwisolver>=1.0.1 in /usr/local/lib/python3.10/dist-packages (from matplotlib>=3.2.2->wfdb->vitaldb) (1.4.5)\n",
            "Requirement already satisfied: packaging>=20.0 in /usr/local/lib/python3.10/dist-packages (from matplotlib>=3.2.2->wfdb->vitaldb) (23.1)\n",
            "Requirement already satisfied: pillow>=6.2.0 in /usr/local/lib/python3.10/dist-packages (from matplotlib>=3.2.2->wfdb->vitaldb) (9.4.0)\n",
            "Requirement already satisfied: pyparsing>=2.3.1 in /usr/local/lib/python3.10/dist-packages (from matplotlib>=3.2.2->wfdb->vitaldb) (3.1.1)\n",
            "Requirement already satisfied: six>=1.5 in /usr/local/lib/python3.10/dist-packages (from python-dateutil>=2.8.1->pandas->vitaldb) (1.16.0)\n",
            "Requirement already satisfied: cffi>=1.0 in /usr/local/lib/python3.10/dist-packages (from SoundFile>=0.10.0->wfdb->vitaldb) (1.15.1)\n",
            "Requirement already satisfied: pycparser in /usr/local/lib/python3.10/dist-packages (from cffi>=1.0->SoundFile>=0.10.0->wfdb->vitaldb) (2.21)\n",
            "Installing collected packages: vitaldb\n",
            "Successfully installed vitaldb-1.4.2\n"
          ]
        }
      ],
      "source": [
        "!pip install -q wfdb\n",
        "!pip install -q neurokit2\n",
        "!pip install -q biosppy\n",
        "!pip install vitaldb"
      ]
    },
    {
      "cell_type": "code",
      "source": [
        "import numpy as np\n",
        "import wfdb\n",
        "import neurokit2 as nk\n",
        "import matplotlib.pyplot as plt\n",
        "import os\n",
        "import pandas as pd\n",
        "import biosppy.signals.ecg as ecg\n",
        "import random\n",
        "from tqdm.notebook import tqdm\n",
        "import vitaldb"
      ],
      "metadata": {
        "id": "xHWj5c2PoiFP"
      },
      "execution_count": 2,
      "outputs": []
    },
    {
      "cell_type": "code",
      "source": [
        "import vitaldb\n",
        "import pandas as pd\n",
        "import numpy as np\n",
        "\n",
        "df_cases = pd.read_csv(\"https://api.vitaldb.net/cases\")  # Load clinical data\n",
        "df_trks = pd.read_csv('https://api.vitaldb.net/trks')  # Load track list\n",
        "df_labs = pd.read_csv('https://api.vitaldb.net/labs')  # Load lab result"
      ],
      "metadata": {
        "id": "n3cfxY3vwfF2"
      },
      "execution_count": 3,
      "outputs": []
    },
    {
      "cell_type": "code",
      "source": [
        "# inclusion / exclusion criteria\n",
        "caseids = list(\n",
        "    set(df_trks.loc[df_trks['tname'] == 'SNUADC/ECG_II', 'caseid'])\n",
        ")\n",
        "\n",
        "print('Total {} cases found'.format(len(caseids)))"
      ],
      "metadata": {
        "id": "03NYYwgIwjo_",
        "outputId": "2e464f40-8060-475e-e4eb-c23b1ebe9519",
        "colab": {
          "base_uri": "https://localhost:8080/"
        }
      },
      "execution_count": 4,
      "outputs": [
        {
          "output_type": "stream",
          "name": "stdout",
          "text": [
            "Total 6355 cases found\n"
          ]
        }
      ]
    },
    {
      "cell_type": "code",
      "source": [
        "op_st = df_cases[(df_cases['caseid'] == caseids[0])]['opstart'].values[0]\n",
        "op_end = df_cases[(df_cases['caseid'] == caseids[0])]['opend'].values[0]\n",
        "op_st,op_end"
      ],
      "metadata": {
        "id": "0VRxEMW4wmJi",
        "outputId": "d3ccc0b6-0884-4c4c-df4b-9e2ff4a30df1",
        "colab": {
          "base_uri": "https://localhost:8080/"
        }
      },
      "execution_count": 5,
      "outputs": [
        {
          "output_type": "execute_result",
          "data": {
            "text/plain": [
              "(1668, 10368)"
            ]
          },
          "metadata": {},
          "execution_count": 5
        }
      ]
    },
    {
      "cell_type": "code",
      "source": [
        "import vitaldb\n",
        "import neurokit2 as nk\n",
        "import numpy as np\n",
        "import pandas as pd\n",
        "from tqdm.notebook import tqdm\n",
        "\n",
        "import matplotlib.pyplot as plt\n",
        "plt.rcParams['figure.figsize'] = [15, 5]\n",
        "plt.rcParams['font.size']= 14\n",
        "\n",
        "def nrml_plt(sig):\n",
        "  plt.figure(figsize=(20,15))\n",
        "  plt.subplot(211)\n",
        "  plt.plot(sig, color='coral')\n",
        "  plt.grid(True)\n",
        "  plt.ylim([-3, 3])\n",
        "  plt.show()\n",
        "\n",
        "\n",
        "\n",
        "srate = 100\n",
        "vals = vitaldb.load_case(caseids[0], ['SNUADC/ECG_II'], 1 / srate)\n",
        "\n",
        "\n",
        "initial_signal = vals[:,0]"
      ],
      "metadata": {
        "id": "x1F2OipQwrWQ"
      },
      "execution_count": 6,
      "outputs": []
    },
    {
      "cell_type": "code",
      "source": [
        "count = 0\n",
        "seconds = 0\n",
        "\n",
        "for i in tqdm(initial_signal):\n",
        "  count+=1\n",
        "  if count*(1/500)>= 1668:\n",
        "    break\n",
        "\n",
        "\n",
        "\n",
        "count2 = 0\n",
        "seconds = 0\n",
        "for i in tqdm(initial_signal):\n",
        "  count2+=1\n",
        "  if count2*(1/500) >= 10368:\n",
        "    break"
      ],
      "metadata": {
        "id": "9h6Nt9DFwvup",
        "outputId": "7180b98e-c68c-4d4a-b6c0-09f217f48e0d",
        "colab": {
          "base_uri": "https://localhost:8080/",
          "height": 81,
          "referenced_widgets": [
            "b76ee5d59d4b497592a55d48d4747729",
            "fcd993cfe47645aa90ef13481f2a3109",
            "b43bffcae6c044f7ab70ce8340f93ba3",
            "b15004a408ec486f9f1a87a4ed419212",
            "9eb8e7996f004d929492362d2f7c64eb",
            "4cc2b7e4f6294122bc5047ae173ab4f1",
            "2d9faed764614590b22ff04b84756542",
            "d00931b1a62e461988c460990aed95e6",
            "94f691fd1d1c47f6a9da34d27c0cd63d",
            "f79ec42a79ec49dc965d70dc00eec303",
            "a6a6504a14bd4fd99a9584010b6b7395",
            "35e6ff47f58149938bcaa654b6c81e55",
            "a4ed7f779b3b48f9aab17ce85de7431c",
            "9311cf335ccf47cf9bddb9251cfaba00",
            "afe65fa189b84d9abbbd1d60b580687a",
            "77118c755ded4961a3b34c009352ca34",
            "317d0354bce24d768297732444ffc8ba",
            "6ce9df4bac0543289da108f96407f5ea",
            "1927afc3211e4e57b7ebaad58eb4efe7",
            "bf4d17f148f4463cbf6292b3e798cb0d",
            "8a38ae758c734bcbb9867c80355a5b0b",
            "5707843c806e4f73a83b12cf6771b4be"
          ]
        }
      },
      "execution_count": 7,
      "outputs": [
        {
          "output_type": "display_data",
          "data": {
            "text/plain": [
              "  0%|          | 0/1154111 [00:00<?, ?it/s]"
            ],
            "application/vnd.jupyter.widget-view+json": {
              "version_major": 2,
              "version_minor": 0,
              "model_id": "b76ee5d59d4b497592a55d48d4747729"
            }
          },
          "metadata": {}
        },
        {
          "output_type": "display_data",
          "data": {
            "text/plain": [
              "  0%|          | 0/1154111 [00:00<?, ?it/s]"
            ],
            "application/vnd.jupyter.widget-view+json": {
              "version_major": 2,
              "version_minor": 0,
              "model_id": "35e6ff47f58149938bcaa654b6c81e55"
            }
          },
          "metadata": {}
        }
      ]
    },
    {
      "cell_type": "code",
      "source": [
        "initial_signal = vals[:,0][count:count2]\n",
        "initial_signal = initial_signal[np.logical_not(np.isnan(initial_signal))]"
      ],
      "metadata": {
        "id": "BSSStPzjwzQO"
      },
      "execution_count": 8,
      "outputs": []
    },
    {
      "cell_type": "code",
      "source": [
        "initial_signal = initial_signal[(initial_signal>= -.25) & (initial_signal<=.25)]\n",
        "\n",
        "nrml_plt(initial_signal)\n",
        "print(\"After Cleaning\")\n",
        "neurokit_filtered_ecg = nk.ecg_clean(initial_signal, sampling_rate=srate)\n",
        "nrml_plt(neurokit_filtered_ecg)"
      ],
      "metadata": {
        "id": "EsZS7LuxxG4U",
        "outputId": "8aefc4bf-dfaa-48cc-d58e-0ba5ce17b050",
        "colab": {
          "base_uri": "https://localhost:8080/",
          "height": 891
        }
      },
      "execution_count": 9,
      "outputs": [
        {
          "output_type": "display_data",
          "data": {
            "text/plain": [
              "<Figure size 2000x1500 with 1 Axes>"
            ],
            "image/png": "[encoded data removed]"
          },
          "metadata": {}
        },
        {
          "output_type": "stream",
          "name": "stdout",
          "text": [
            "After Cleaning\n"
          ]
        },
        {
          "output_type": "display_data",
          "data": {
            "text/plain": [
              "<Figure size 2000x1500 with 1 Axes>"
            ],
            "image/png": "[encoded data removed]"
          },
          "metadata": {}
        }
      ]
    },
    {
      "cell_type": "code",
      "source": [
        "signal_clean = neurokit_filtered_ecg"
      ],
      "metadata": {
        "id": "dDNX4bAHxzig"
      },
      "execution_count": 10,
      "outputs": []
    },
    {
      "cell_type": "code",
      "source": [
        "\"\"\"srate = 100\n",
        "\n",
        "vals = vitaldb.load_case(30, ['ECG_II','ART'],1/srate)\n",
        "signal = vals[:,0][np.logical_not(np.isnan(vals[:,0]))]\"\"\""
      ],
      "metadata": {
        "id": "ClNjoBG_pQ6h"
      },
      "execution_count": null,
      "outputs": []
    },
    {
      "cell_type": "code",
      "source": [
        "\"\"\"signal = np.array(signal).flatten()\n",
        "signal_clean = nk.ecg_clean(signal, sampling_rate=srate)\"\"\""
      ],
      "metadata": {
        "id": "Pc39wOUkomrD"
      },
      "execution_count": null,
      "outputs": []
    },
    {
      "cell_type": "code",
      "source": [
        "\"\"\"plt.figure(figsize=(15, 6))\n",
        "plt.plot(signal)\n",
        "plt.xlabel('Samples')\n",
        "plt.ylabel('Voltage (mV)')\n",
        "plt.title('ECG Signal')\n",
        "plt.xlim( 0 , 3000)\n",
        "plt.show()\n",
        "\n",
        "plt.figure(figsize=(15, 6))\n",
        "plt.plot(signal_clean)\n",
        "plt.xlabel('Samples')\n",
        "plt.ylabel('Voltage (mV)')\n",
        "plt.title('ECG Signal Cleaned')\n",
        "plt.xlim( 0 , 3000)\n",
        "plt.show()\"\"\""
      ],
      "metadata": {
        "id": "Dqu5rHfRomko"
      },
      "execution_count": null,
      "outputs": []
    },
    {
      "cell_type": "code",
      "source": [
        "features, _ = nk.ecg_process(signal_clean, sampling_rate=srate)"
      ],
      "metadata": {
        "id": "FCOdkvk_ombO"
      },
      "execution_count": 12,
      "outputs": []
    },
    {
      "cell_type": "code",
      "source": [
        "p_onsets = features[\"ECG_P_Onsets\"]\n",
        "r_onsets = features[\"ECG_R_Onsets\"]\n",
        "t_onsets = features[\"ECG_T_Onsets\"]\n",
        "p_offsets = features[\"ECG_P_Offsets\"]\n",
        "r_offsets = features[\"ECG_R_Offsets\"]\n",
        "t_offsets = features[\"ECG_T_Offsets\"]\n",
        "r_peaks = features[\"ECG_R_Peaks\"]\n",
        "t_peaks = features[\"ECG_T_Peaks\"]\n",
        "q_peaks = features[\"ECG_Q_Peaks\"]\n",
        "s_peaks = features[\"ECG_S_Peaks\"]\n",
        "p_peaks = features[\"ECG_P_Peaks\"]\n",
        "heart_rate = features[\"ECG_Rate\"]\n",
        "\n",
        "# signal_clean = signal_clean[:100000]\n",
        "plt.figure(figsize=(15, 6))\n",
        "plt.plot(signal_clean, label=\"ECG Signal\")\n",
        "samples = np.arange(len(signal_clean))\n",
        "\n",
        "\n",
        "\n",
        "p_onsets_mask = p_onsets == 1\n",
        "p_onsets_idx = samples[p_onsets_mask]\n",
        "plt.plot(samples[p_onsets_mask], signal_clean[p_onsets_mask], 'ro', label=\"P-Onsets\")\n",
        "\n",
        "\n",
        "\n",
        "r_onsets_mask = r_onsets == 1\n",
        "r_onsets_idx = samples[r_onsets_mask]\n",
        "plt.plot(samples[r_onsets_mask], signal_clean[r_onsets_mask], 'go', label=\"R-Onsets\")\n",
        "\n",
        "\n",
        "\n",
        "t_onsets_mask = t_onsets == 1\n",
        "t_onsets_idx = samples[t_onsets_mask]\n",
        "plt.plot(samples[t_onsets_mask], signal_clean[t_onsets_mask], 'yo', label=\"T-Onsets\")\n",
        "\n",
        "\n",
        "\n",
        "p_offsets_mask = p_offsets == 1\n",
        "p_offsets_idx = samples[p_offsets_mask]\n",
        "plt.plot(samples[p_offsets_mask], signal_clean[p_offsets_mask], 'bo', label=\"P-Offsets\")\n",
        "\n",
        "\n",
        "\n",
        "r_offsets_mask = r_offsets == 1\n",
        "r_offsets_idx = samples[r_offsets_mask]\n",
        "plt.plot(samples[r_offsets_mask], signal_clean[r_offsets_mask], 'mo', label=\"R-Offsets\")\n",
        "\n",
        "\n",
        "\n",
        "t_offsets_mask = t_offsets == 1\n",
        "t_offsets_idx = samples[t_offsets_mask]\n",
        "plt.plot(samples[t_offsets_mask], signal_clean[t_offsets_mask], 'co', label=\"T-Offsets\")\n",
        "\n",
        "\n",
        "\n",
        "r_peaks_mask = r_peaks == 1\n",
        "r_peaks_idx = samples[r_peaks_mask]\n",
        "plt.plot(samples[r_peaks_mask], signal_clean[r_peaks_mask], 'ko', label=\"R-Peaks\")\n",
        "\n",
        "\n",
        "\n",
        "t_peaks_mask = t_peaks == 1\n",
        "t_peaks_idx = samples[t_peaks_mask]\n",
        "plt.plot(samples[t_peaks_mask], signal_clean[t_peaks_mask], 'yo', label=\"T-Peaks\")\n",
        "\n",
        "q_peaks_mask = q_peaks == 1\n",
        "q_peaks_idx = samples[q_peaks_mask]\n",
        "plt.plot(samples[q_peaks_mask], signal_clean[q_peaks_mask], 'go', label=\"Q-Peaks\")\n",
        "\n",
        "s_peaks_mask = s_peaks == 1\n",
        "s_peaks_idx = samples[s_peaks_mask]\n",
        "plt.plot(samples[s_peaks_mask], signal_clean[s_peaks_mask], 'bo', label=\"S-Peaks\")\n",
        "\n",
        "p_peaks_mask = p_peaks == 1\n",
        "p_peaks_idx = samples[p_peaks_mask]\n",
        "plt.plot(samples[p_peaks_mask], signal_clean[p_peaks_mask], 'mo', label=\"P-Peaks\")\n",
        "\n",
        "plt.legend()\n",
        "plt.xlabel(\"Sample Index\")\n",
        "plt.ylabel(\"Amplitude\")\n",
        "plt.title(\"ECG Signal with P, Q, R, S, and T Features\")\n",
        "plt.grid()\n",
        "\n",
        "plt.xlim(250, 500)\n",
        "plt.show()"
      ],
      "metadata": {
        "colab": {
          "base_uri": "https://localhost:8080/",
          "height": 536
        },
        "id": "F4QdeKpComVC",
        "outputId": "c8fd610c-04fb-49f4-876a-5ab3e91d8cfd"
      },
      "execution_count": 13,
      "outputs": [
        {
          "output_type": "display_data",
          "data": {
            "text/plain": [
              "<Figure size 1500x600 with 1 Axes>"
            ],
            "image/png": "[encoded data removed]"
          },
          "metadata": {}
        }
      ]
    },
    {
      "cell_type": "code",
      "source": [],
      "metadata": {
        "id": "2ePfvizOomPx"
      },
      "execution_count": null,
      "outputs": []
    },
    {
      "cell_type": "code",
      "source": [],
      "metadata": {
        "id": "J8DDnPbcomGa"
      },
      "execution_count": null,
      "outputs": []
    },
    {
      "cell_type": "code",
      "source": [],
      "metadata": {
        "id": "1rE2McIwpJVo"
      },
      "execution_count": null,
      "outputs": []
    },
    {
      "cell_type": "code",
      "source": [],
      "metadata": {
        "id": "gxThwjGhpJRn"
      },
      "execution_count": null,
      "outputs": []
    },
    {
      "cell_type": "code",
      "source": [],
      "metadata": {
        "id": "v6IB1s0DpJIT"
      },
      "execution_count": null,
      "outputs": []
    },
    {
      "cell_type": "code",
      "source": [],
      "metadata": {
        "id": "j8Idyh5SpJDC"
      },
      "execution_count": null,
      "outputs": []
    },
    {
      "cell_type": "markdown",
      "source": [
        "\n",
        "\n",
        "---\n",
        "\n",
        "\n",
        "\n",
        "---\n",
        "\n"
      ],
      "metadata": {
        "id": "UcCw9Bnmsbe9"
      }
    },
    {
      "cell_type": "code",
      "source": [
        "beats = nk.ecg_segment(signal_clean, sampling_rate=srate)"
      ],
      "metadata": {
        "id": "lgfOtv3mpI98"
      },
      "execution_count": 14,
      "outputs": []
    },
    {
      "cell_type": "code",
      "source": [
        "def r_wave_amplitude(r_peak_loc):\n",
        "    if len(r_peak_loc) >= 1:\n",
        "        r_amplitude = float(r_peak_loc.values[0])\n",
        "        return r_amplitude\n",
        "    return np.nan\n",
        "\n",
        "def r_wave_duration(q_peak_loc, t_onset_loc):\n",
        "    if len(q_peak_loc) >= 1 and len(t_onset_loc) >= 1:\n",
        "        r_duration = float(q_peak_loc.index[0] - t_onset_loc.index[0])\n",
        "        return r_duration\n",
        "    return np.nan\n",
        "\n",
        "def t_wave_amplitude(t_peak_loc):\n",
        "    if len(t_peak_loc) >= 1:\n",
        "        t_amplitude = float(t_peak_loc.values[0])\n",
        "        return t_amplitude\n",
        "    return np.nan\n",
        "\n",
        "def t_wave_duration(t_offset_loc, t_onset_loc):\n",
        "    if len(t_offset_loc) >= 1 and len(t_onset_loc) >= 1:\n",
        "        t_duration = float(t_offset_loc.index[0] - t_onset_loc.index[0])\n",
        "        return t_duration\n",
        "    return np.nan\n",
        "\n",
        "def s_wave_amplitude(s_peak_loc):\n",
        "    if len(s_peak_loc) >= 1:\n",
        "        s_amplitude = float(s_peak_loc.values[0])\n",
        "        return s_amplitude\n",
        "    return np.nan\n",
        "\n",
        "def qt_interval(t_offset_loc, p_offset_loc):\n",
        "    if len(t_offset_loc) >= 1 and len(p_offset_loc) >= 1:\n",
        "        qt_interval = float(t_offset_loc.index[0] - p_offset_loc.index[0])\n",
        "        return qt_interval\n",
        "    return np.nan\n",
        "\n",
        "def heart_rate_calc(hr, idx):\n",
        "    if idx > 0:\n",
        "        return float(hr[idx])\n",
        "    return np.nan\n",
        "\n",
        "\n",
        "def j_point_calc(s_peak_loc, t_peak_loc, x, y):\n",
        "    if len(s_peak_loc) == 0 or len(t_peak_loc) == 0:\n",
        "        return np.nan, np.nan, None\n",
        "    if s_peak_loc.index[0] > t_peak_loc.index[0]:\n",
        "        return np.nan, np.nan, None\n",
        "    s_peak_ind = int(np.interp(s_peak_loc.index[0], x, np.arange(len(x))))\n",
        "    t_peak_ind = int(np.interp(t_peak_loc.index[0], x, np.arange(len(x))))\n",
        "    y_st_by_peaks = y[s_peak_ind:t_peak_ind+1]\n",
        "    x_st_by_peaks = x[s_peak_ind:t_peak_ind+1]\n",
        "    if t_peak_ind - s_peak_ind < 1:\n",
        "        return np.nan, np.nan, None\n",
        "    Fy = np.gradient(y_st_by_peaks)\n",
        "    j_point_pseudo_ind = np.abs(Fy).argmin()\n",
        "    j_point = [x_st_by_peaks[j_point_pseudo_ind], y_st_by_peaks[j_point_pseudo_ind]]\n",
        "    j_point_ind = int(np.round(np.interp(x_st_by_peaks[j_point_pseudo_ind], x, np.arange(len(x)))))\n",
        "    j_magnitude = j_point[1]\n",
        "\n",
        "    return j_point, j_magnitude, j_point_ind\n",
        "\n",
        "def st_duration_calc(t_peak_loc, j_point):\n",
        "    if len(t_peak_loc) >= 1 and isinstance(j_point, list) and len(j_point) == 2:\n",
        "        st_duration = t_peak_loc.index[0] - j_point[0]\n",
        "        return st_duration\n",
        "    return np.nan\n",
        "\n",
        "def st_slope_calc(t_onset_loc, j_point_ind, x, y):\n",
        "    if len(t_onset_loc) >= 1 and j_point_ind is not None:\n",
        "        t_onset_ind = int(np.round(np.interp(t_onset_loc.index[0], x, np.arange(len(x)))))\n",
        "\n",
        "        if t_onset_ind > j_point_ind:\n",
        "            y_st_slope_range = y[j_point_ind:t_onset_ind+1]\n",
        "            x_st_slope_range = x[j_point_ind:t_onset_ind+1]\n",
        "\n",
        "            F_st_slope = np.gradient(y_st_slope_range)\n",
        "            st_slope = np.mean(F_st_slope)\n",
        "            st_slope_bool = st_slope > 0\n",
        "            return st_slope\n",
        "    return np.nan\n",
        "\n",
        "def st_area_calc(t_offset_loc, j_point_ind, x, y,):\n",
        "    if len(t_offset_loc) >= 1 and j_point_ind is not None:\n",
        "        ind_t_offset = int(np.round(np.interp(t_offset_loc.index[0], x, np.arange(len(x)))))\n",
        "        y_st_area_range = y[j_point_ind:ind_t_offset+1]\n",
        "        x_st_area_range = x[j_point_ind:ind_t_offset+1]\n",
        "        st_area = np.trapz(y_st_area_range, x_st_area_range)\n",
        "        return st_area\n",
        "    return np.nan\n"
      ],
      "metadata": {
        "id": "IIdGOhfGpK0I"
      },
      "execution_count": 15,
      "outputs": []
    },
    {
      "cell_type": "code",
      "source": [
        "def extract_features(beats, features, ranges, gender):\n",
        "\n",
        "    p_onsets = features[\"ECG_P_Onsets\"]\n",
        "    r_onsets = features[\"ECG_R_Onsets\"]\n",
        "    t_onsets = features[\"ECG_T_Onsets\"]\n",
        "    p_offsets = features[\"ECG_P_Offsets\"]\n",
        "    r_offsets = features[\"ECG_R_Offsets\"]\n",
        "    t_offsets = features[\"ECG_T_Offsets\"]\n",
        "    r_peaks = features[\"ECG_R_Peaks\"]\n",
        "    t_peaks = features[\"ECG_T_Peaks\"]\n",
        "    q_peaks = features[\"ECG_Q_Peaks\"]\n",
        "    s_peaks = features[\"ECG_S_Peaks\"]\n",
        "    p_peaks = features[\"ECG_P_Peaks\"]\n",
        "    heart_rate = features[\"ECG_Rate\"]\n",
        "\n",
        "    record_dataset = pd.DataFrame(columns=['R_wave_amplitude', 'R_wave_duration', 'T_wave_amplitude', 'T_wave_duration', 'S_wave_amplitude', 'QT_interval', 'Heart_rate','J_point_amplitude', 'ST_duration', 'ST_area', 'ST_slope', 'Gender', 'Label'])\n",
        "\n",
        "    for i in range(1, len(beats)+1):\n",
        "        # print(\"Beat Number:\", i)\n",
        "        beat = beats[str(i)]\n",
        "        beat_signal = beat['Signal']\n",
        "        time = beat_signal.index\n",
        "        voltage = beat_signal.values\n",
        "        beat_idx = beat['Index'].values\n",
        "        min_idx, max_idx = beat_idx[0], beat_idx[-1]\n",
        "\n",
        "        s_peak_loc = beat_signal.iloc[np.argwhere(s_peaks[min_idx:max_idx].values == 1).flatten()]\n",
        "        r_onset_loc = beat_signal.iloc[np.argwhere(r_onsets[min_idx:max_idx].values == 1).flatten()]\n",
        "        t_onset_loc = beat_signal.iloc[np.argwhere(t_onsets[min_idx:max_idx].values == 1).flatten()]\n",
        "        p_offset_loc = beat_signal.iloc[np.argwhere(p_offsets[min_idx:max_idx].values == 1).flatten()]\n",
        "        r_offset_loc = beat_signal.iloc[np.argwhere(r_offsets[min_idx:max_idx].values == 1).flatten()]\n",
        "        t_offset_loc = beat_signal.iloc[np.argwhere(t_offsets[min_idx:max_idx].values == 1).flatten()]\n",
        "        r_peak_loc = beat_signal.iloc[np.argwhere(r_peaks[min_idx:max_idx].values == 1).flatten()]\n",
        "        t_peak_loc = beat_signal.iloc[np.argwhere(t_peaks[min_idx:max_idx].values == 1).flatten()]\n",
        "        q_peak_loc = beat_signal.iloc[np.argwhere(q_peaks[min_idx:max_idx].values == 1).flatten()]\n",
        "        label = 0\n",
        "\n",
        "        for start, end in ranges:\n",
        "            if start <= min_idx and end >= max_idx:\n",
        "                label = 1\n",
        "                break\n",
        "\n",
        "        r_amplitude = r_wave_amplitude(r_peak_loc)\n",
        "        r_duration = r_wave_duration(q_peak_loc, r_onset_loc)\n",
        "        t_amplitude = t_wave_amplitude(t_peak_loc)\n",
        "        t_duration = t_wave_duration(t_offset_loc, t_onset_loc)\n",
        "        s_amplitude = s_wave_amplitude(s_peak_loc)\n",
        "        qt_int = qt_interval(t_offset_loc, p_offset_loc)\n",
        "        hr = heart_rate_calc(heart_rate, (min_idx + max_idx) // 2)\n",
        "        j_point, j_magnitude, j_point_ind = j_point_calc(s_peak_loc, t_peak_loc, time, voltage)\n",
        "        st_duration = st_duration_calc(t_peak_loc, j_point)\n",
        "        st_slope = st_slope_calc(t_onset_loc, j_point_ind, time, voltage)\n",
        "        st_area = st_area_calc(t_offset_loc, j_point_ind, time, voltage)\n",
        "\n",
        "\n",
        "        feature_row = {\n",
        "            'R_wave_amplitude': r_amplitude,\n",
        "            'R_wave_duration': r_duration,\n",
        "            'T_wave_amplitude': t_amplitude,\n",
        "            'T_wave_duration': t_duration,\n",
        "            'S_wave_amplitude': s_amplitude,\n",
        "            'QT_interval': qt_int,\n",
        "            'Heart_rate': hr,\n",
        "            'J_point_amplitude': j_magnitude,\n",
        "            'ST_duration': st_duration,\n",
        "            'ST_area': st_area,\n",
        "            'ST_slope': st_slope,\n",
        "            'Gender': gender,\n",
        "            'Label': label\n",
        "        }\n",
        "\n",
        "        p = random.random()\n",
        "        feature_row = pd.DataFrame([feature_row])\n",
        "\n",
        "        if feature_row.isna().any().any():\n",
        "            continue\n",
        "        elif label == 1:\n",
        "            record_dataset = pd.concat([record_dataset, feature_row], ignore_index=True)\n",
        "        elif p < 0.5:\n",
        "            record_dataset = pd.concat([record_dataset, feature_row], ignore_index=True)\n",
        "\n",
        "    return record_dataset"
      ],
      "metadata": {
        "id": "FTsDYq41pKq9"
      },
      "execution_count": 16,
      "outputs": []
    },
    {
      "cell_type": "code",
      "source": [
        "random.shuffle(record_nums)\n",
        "split_point = int(len(record_nums) * 0.7)\n",
        "train_record_nums = record_nums[:split_point]\n",
        "test_record_nums = record_nums[split_point:]"
      ],
      "metadata": {
        "id": "YgYFvu0qq7Y_",
        "outputId": "42fe0578-8aac-4cf5-a5f9-0dbac5f1fc8a",
        "colab": {
          "base_uri": "https://localhost:8080/",
          "height": 228
        }
      },
      "execution_count": 17,
      "outputs": [
        {
          "output_type": "error",
          "ename": "NameError",
          "evalue": "ignored",
          "traceback": [
            "\u001b[0;31m---------------------------------------------------------------------------\u001b[0m",
            "\u001b[0;31mNameError\u001b[0m                                 Traceback (most recent call last)",
            "\u001b[0;32m<ipython-input-17-7cba445386ce>\u001b[0m in \u001b[0;36m<cell line: 1>\u001b[0;34m()\u001b[0m\n\u001b[0;32m----> 1\u001b[0;31m \u001b[0mrandom\u001b[0m\u001b[0;34m.\u001b[0m\u001b[0mshuffle\u001b[0m\u001b[0;34m(\u001b[0m\u001b[0mrecord_nums\u001b[0m\u001b[0;34m)\u001b[0m\u001b[0;34m\u001b[0m\u001b[0;34m\u001b[0m\u001b[0m\n\u001b[0m\u001b[1;32m      2\u001b[0m \u001b[0msplit_point\u001b[0m \u001b[0;34m=\u001b[0m \u001b[0mint\u001b[0m\u001b[0;34m(\u001b[0m\u001b[0mlen\u001b[0m\u001b[0;34m(\u001b[0m\u001b[0mrecord_nums\u001b[0m\u001b[0;34m)\u001b[0m \u001b[0;34m*\u001b[0m \u001b[0;36m0.7\u001b[0m\u001b[0;34m)\u001b[0m\u001b[0;34m\u001b[0m\u001b[0;34m\u001b[0m\u001b[0m\n\u001b[1;32m      3\u001b[0m \u001b[0mtrain_record_nums\u001b[0m \u001b[0;34m=\u001b[0m \u001b[0mrecord_nums\u001b[0m\u001b[0;34m[\u001b[0m\u001b[0;34m:\u001b[0m\u001b[0msplit_point\u001b[0m\u001b[0;34m]\u001b[0m\u001b[0;34m\u001b[0m\u001b[0;34m\u001b[0m\u001b[0m\n\u001b[1;32m      4\u001b[0m \u001b[0mtest_record_nums\u001b[0m \u001b[0;34m=\u001b[0m \u001b[0mrecord_nums\u001b[0m\u001b[0;34m[\u001b[0m\u001b[0msplit_point\u001b[0m\u001b[0;34m:\u001b[0m\u001b[0;34m]\u001b[0m\u001b[0;34m\u001b[0m\u001b[0;34m\u001b[0m\u001b[0m\n",
            "\u001b[0;31mNameError\u001b[0m: name 'record_nums' is not defined"
          ]
        }
      ]
    },
    {
      "cell_type": "code",
      "source": [
        "def create_dataset(records):\n",
        "    dataset = pd.DataFrame(columns=['R_wave_amplitude', 'R_wave_duration', 'T_wave_amplitude', 'T_wave_duration', 'S_wave_amplitude', 'QT_interval', 'Heart_rate','J_point_amplitude', 'ST_duration', 'ST_area', 'ST_slope', 'Gender', 'Label'])\n",
        "    for i in records:\n",
        "\n",
        "        # Signal Information Extraction\n",
        "        record_name = 'e0' + str(i) if i < 1000 else 'e' + str(i)\n",
        "        record_name = 'edb/' + record_name\n",
        "        signal, fields = wfdb.rdsamp(record_name, channels=[0])\n",
        "        gender = 1 if 'Sex: F' in fields['comments'][0] else 0\n",
        "        signal = np.array(signal).flatten()\n",
        "        fs = fields['fs']\n",
        "\n",
        "        # Signal Cleaning\n",
        "        signal_clean = nk.ecg_clean(signal, sampling_rate=fs)\n",
        "\n",
        "        # Annotation Extraction\n",
        "        annotation = wfdb.rdann(record_name, 'atr')\n",
        "        ann_symbol = np.array(annotation.symbol)\n",
        "        ann_sample = np.array(annotation.sample)\n",
        "        aux_note = np.array(annotation.aux_note)\n",
        "        st_annotations_idx = ann_sample[ann_symbol == 's']\n",
        "        st_annotations = aux_note[ann_symbol == 's']\n",
        "        ranges = match_parentheses(st_annotations, st_annotations_idx)\n",
        "\n",
        "        # Low-level Feature Extraction\n",
        "        features, _ = nk.ecg_process(signal_clean, sampling_rate=fs)\n",
        "\n",
        "        # Beat Segmentation\n",
        "        beats = nk.ecg_segment(signal_clean, sampling_rate=fs)\n",
        "\n",
        "        # Dataset Extraction and Concatenation\n",
        "        record_dataset = extract_features(beats, features, ranges, gender)\n",
        "        dataset = pd.concat([dataset, record_dataset], axis=0)\n",
        "\n",
        "    return dataset"
      ],
      "metadata": {
        "id": "34pxRt8_q7Kf"
      },
      "execution_count": 18,
      "outputs": []
    },
    {
      "cell_type": "code",
      "source": [
        "train_dataset = create_dataset(train_record_nums)\n",
        "test_dataset = create_dataset(test_record_nums)\n",
        "train_dataset.to_csv('train_data.csv', index=False)\n",
        "test_dataset.to_csv('test_data.csv', index=False)"
      ],
      "metadata": {
        "id": "TRp9-4vJq7Ho"
      },
      "execution_count": null,
      "outputs": []
    },
    {
      "cell_type": "code",
      "source": [],
      "metadata": {
        "id": "UWQIPS0gq6-e"
      },
      "execution_count": null,
      "outputs": []
    },
    {
      "cell_type": "code",
      "source": [],
      "metadata": {
        "id": "b1OtUUetq65z"
      },
      "execution_count": null,
      "outputs": []
    },
    {
      "cell_type": "code",
      "source": [],
      "metadata": {
        "id": "DWVjbUB6q62l"
      },
      "execution_count": null,
      "outputs": []
    },
    {
      "cell_type": "code",
      "source": [],
      "metadata": {
        "id": "lSuc08knq6vu"
      },
      "execution_count": null,
      "outputs": []
    },
    {
      "cell_type": "code",
      "source": [],
      "metadata": {
        "id": "3rBDGc3Nq6t7"
      },
      "execution_count": null,
      "outputs": []
    },
    {
      "cell_type": "code",
      "source": [],
      "metadata": {
        "id": "eSXYHfrBq6p4"
      },
      "execution_count": null,
      "outputs": []
    },
    {
      "cell_type": "code",
      "source": [],
      "metadata": {
        "id": "yEPDfD0QpKe0"
      },
      "execution_count": null,
      "outputs": []
    },
    {
      "cell_type": "code",
      "source": [],
      "metadata": {
        "id": "QZDZE64BpKUV"
      },
      "execution_count": null,
      "outputs": []
    }
  ]
}