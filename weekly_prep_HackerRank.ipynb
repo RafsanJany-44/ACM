{
  "nbformat": 4,
  "nbformat_minor": 0,
  "metadata": {
    "colab": {
      "name": "weekly_prep_HackerRank.ipynb",
      "provenance": [],
      "authorship_tag": "ABX9TyN0XiDyhHU0iWS6dZdpBG4P",
      "include_colab_link": true
    },
    "kernelspec": {
      "name": "python3",
      "display_name": "Python 3"
    },
    "language_info": {
      "name": "python"
    }
  },
  "cells": [
    {
      "cell_type": "markdown",
      "metadata": {
        "id": "view-in-github",
        "colab_type": "text"
      },
      "source": [
        "<a href=\"https://colab.research.google.com/github/RafsanJany-44/ACM/blob/master/weekly_prep_HackerRank.ipynb\" target=\"_parent\"><img src=\"https://colab.research.google.com/assets/colab-badge.svg\" alt=\"Open In Colab\"/></a>"
      ]
    },
    {
      "cell_type": "code",
      "execution_count": 5,
      "metadata": {
        "colab": {
          "base_uri": "https://localhost:8080/"
        },
        "id": "0sC0PK52B140",
        "outputId": "ac3f8f15-4e40-4b1a-aae7-84ed4db9310c"
      },
      "outputs": [
        {
          "output_type": "stream",
          "name": "stdout",
          "text": [
            "-95 -45 -56 48 36 79 -83 -16 -95 -57 1 -95 -61 30 9 -56 18 62 -99 61 40 -32 -69 92 -33 -82 -81 70 21 62 46 7 95 -24 10 66 24 73 16 41 -91 -55 -42 -84 -54 -80 -45 27 -27 -26 -58 -47 88 30 22 -66 46 -68 -24 98 28 11 37 69\n",
            "-5.98\n"
          ]
        }
      ],
      "source": [
        "def avg(*num):\n",
        "    sum=0\n",
        "    for i in num:\n",
        "        sum=sum+i\n",
        "    \n",
        "    return sum/len(num)\n",
        "nums = map(int, input().split())\n",
        "res = avg(*nums)\n",
        " \n",
        "print('%.2f' % res )"
      ]
    },
    {
      "cell_type": "code",
      "source": [
        "#!/bin/python3\n",
        "\n",
        "import math\n",
        "import os\n",
        "import random\n",
        "import re\n",
        "import sys\n",
        "\n",
        "#\n",
        "# Complete the 'plusMinus' function below.\n",
        "#\n",
        "# The function accepts INTEGER_ARRAY arr as parameter.\n",
        "#\n",
        "\n",
        "def plusMinus(arr):\n",
        "    # Write your code here\n",
        "    pos=0\n",
        "    z=0\n",
        "    neg=0\n",
        "    for i in arr:\n",
        "        if i<0:\n",
        "            neg+=1\n",
        "        elif i>0:\n",
        "            pos+=1\n",
        "        else:\n",
        "            z+=1\n",
        "    \n",
        "    print(\"{:.6f}\".format(pos/len(arr)))\n",
        "    print(\"{:.6f}\".format(neg/len(arr)))\n",
        "    print(\"{:.6f}\".format(z/len(arr)))\n",
        "    \n",
        "\n",
        "if __name__ == '__main__':\n",
        "    n = int(input().strip())\n",
        "\n",
        "    arr = list(map(int, input().rstrip().split()))\n",
        "\n",
        "    plusMinus(arr)\n"
      ],
      "metadata": {
        "id": "pUs6DHgSX9Vb"
      },
      "execution_count": null,
      "outputs": []
    }
  ]
}