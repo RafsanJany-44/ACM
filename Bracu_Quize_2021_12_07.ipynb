{
  "nbformat": 4,
  "nbformat_minor": 0,
  "metadata": {
    "colab": {
      "name": "Bracu_Quize_2021/12/07.ipynb",
      "provenance": [],
      "authorship_tag": "ABX9TyOh2W3Rt0KZL0XULyHqpn/+",
      "include_colab_link": true
    },
    "kernelspec": {
      "name": "python3",
      "display_name": "Python 3"
    },
    "language_info": {
      "name": "python"
    }
  },
  "cells": [
    {
      "cell_type": "markdown",
      "metadata": {
        "id": "view-in-github",
        "colab_type": "text"
      },
      "source": [
        "<a href=\"https://colab.research.google.com/github/RafsanJany-44/practice_cell/blob/master/Bracu_Quize_2021_12_07.ipynb\" target=\"_parent\"><img src=\"https://colab.research.google.com/assets/colab-badge.svg\" alt=\"Open In Colab\"/></a>"
      ]
    },
    {
      "cell_type": "markdown",
      "metadata": {
        "id": "2JFJUKAmkYUY"
      },
      "source": [
        "Take two numbers (separated by a space) as user input in a single line  \n",
        "which will be used as a range (both numbers inclusive) later. Your task is  \n",
        "to create and print a Python dictionary where the keys will be numbers from  \n",
        "that range and the corresponding values will be the odd factors (divisors)  \n",
        "of that number in a tuple.\n",
        "\n",
        "Sample Input 1:\n",
        "10 15\n",
        "\n",
        "Sample Output 1:\n",
        "{10: (1, 5), 11: (1, 11), 12: (1, 3), 13: (1, 13), 14: (1, 7), 15: (1, 3,  \n",
        "5, 15)}\n",
        "\n",
        "Explanation 1:\n",
        "In this dictionary, the keys contain numbers from the range 10 to 15 and  \n",
        "the value corresponding to a number is a tuple which consists of the odd  \n",
        "factors of that number.\n",
        "-----------------------------------------------------------------\n",
        "Sample Input 2:\n",
        "20 23\n",
        "\n",
        "Sample Output 2:\n",
        "{20: (1, 5), 21: (1, 3, 7, 21), 22: (1, 11), 23: (1, 23)}\n",
        "\n",
        "Explanation 2:\n",
        "In the dictionary, the keys contain numbers from the range 20 to 23 and the  \n",
        "value corresponding to a number is a tuple which consists of the odd  \n",
        "factors of that number.\n",
        "Write to Arifin Nirob\n",
        "Aa\n",
        "\n"
      ]
    },
    {
      "cell_type": "code",
      "metadata": {
        "colab": {
          "base_uri": "https://localhost:8080/"
        },
        "id": "YWwcLfNaisYA",
        "outputId": "05ed52eb-8e4d-47bd-f462-856c32480afb"
      },
      "source": [
        "n,m=map(int,input().split())\n",
        "d={}\n",
        "for i in range(n,m+1):\n",
        "  t=[]\n",
        "  for j in range(1,i+1):\n",
        "    if (i%j==0 and j%2!=0):\n",
        "      t.append(j)\n",
        "  tu=tuple(t)\n",
        "  d[i]=tu\n",
        "\n",
        "print(d)"
      ],
      "execution_count": 11,
      "outputs": [
        {
          "output_type": "stream",
          "name": "stdout",
          "text": [
            "10 15\n",
            "{10: (1, 5), 11: (1, 11), 12: (1, 3), 13: (1, 13), 14: (1, 7), 15: (1, 3, 5, 15)}\n"
          ]
        }
      ]
    },
    {
      "cell_type": "code",
      "metadata": {
        "id": "GBye6haXkrqz"
      },
      "source": [
        ""
      ],
      "execution_count": null,
      "outputs": []
    }
  ]
}