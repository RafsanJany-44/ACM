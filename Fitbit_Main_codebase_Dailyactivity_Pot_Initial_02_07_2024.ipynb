{
  "cells": [
    {
      "cell_type": "markdown",
      "metadata": {
        "id": "view-in-github",
        "colab_type": "text"
      },
      "source": [
        "<a href=\"https://colab.research.google.com/github/RafsanJany-44/ARC/blob/master/Fitbit_Main_codebase_Dailyactivity_Pot_Initial_02_07_2024.ipynb\" target=\"_parent\"><img src=\"https://colab.research.google.com/assets/colab-badge.svg\" alt=\"Open In Colab\"/></a>"
      ]
    },
    {
      "cell_type": "code",
      "source": [],
      "metadata": {
        "id": "PzKj3FVVOV4U"
      },
      "id": "PzKj3FVVOV4U",
      "execution_count": null,
      "outputs": []
    },
    {
      "cell_type": "code",
      "source": [
        "from google.colab import drive\n",
        "drive.mount('/content/drive')"
      ],
      "metadata": {
        "colab": {
          "base_uri": "https://localhost:8080/"
        },
        "id": "SjFKAQexOYT3",
        "outputId": "12a4acf0-6178-4591-9bd7-ffe033a09509"
      },
      "id": "SjFKAQexOYT3",
      "execution_count": 1,
      "outputs": [
        {
          "output_type": "stream",
          "name": "stdout",
          "text": [
            "Mounted at /content/drive\n"
          ]
        }
      ]
    },
    {
      "cell_type": "code",
      "execution_count": 22,
      "id": "09cef382-0124-4073-8660-9aa5b74fba04",
      "metadata": {
        "id": "09cef382-0124-4073-8660-9aa5b74fba04"
      },
      "outputs": [],
      "source": [
        "import matplotlib\n",
        "import matplotlib.pyplot as plt\n",
        "import numpy as np\n",
        "from sklearn.linear_model import LinearRegression\n",
        "from tqdm.notebook import tqdm\n",
        "from glob import glob\n",
        "import os\n",
        "import pandas as pd\n",
        "import ipywidgets as widgets\n",
        "\n",
        "\n",
        "\n",
        "def get_content(patient_folder_adrs):\n",
        "\n",
        "  for i in glob(patient_folder_adrs+\"/*\"):\n",
        "    content = i.split(\"_\")\n",
        "    if \"heartrate\" in content and \"seconds\" in content:\n",
        "      post_sec = i\n",
        "    if \"minuteMETsNarrow\" in content:\n",
        "      post_met = i\n",
        "\n",
        "  return post_sec,post_met\n",
        "\n",
        "\n",
        "\n",
        "def items_check_box(items):\n",
        "  new_keys=[]\n",
        "  for i in items:\n",
        "    i=widgets.Checkbox(\n",
        "      value=False,\n",
        "      description=str(i),\n",
        "      disabled=False,\n",
        "      indent=False\n",
        "      )\n",
        "    display(i)\n",
        "    new_keys.append(i)\n",
        "  return new_keys\n",
        "result={}\n",
        "\n",
        "\n",
        "def week_count(df,time_col):\n",
        "    df[time_col] = pd.to_datetime(df[time_col])\n",
        "    df['Date'] = df[time_col].dt.date\n",
        "    df[time_col] = df[time_col].dt.strftime('%m/%d/%Y %I:%M:%S %p')\n",
        "    df[time_col] = pd.to_datetime(df[time_col]).dt.time\n",
        "    df['Time_Only'] = df[time_col].apply(lambda x: x.strftime('%H:%M:%S'))\n",
        "    min_date = df['Date'].min()\n",
        "    df['Week_Number'] = (df['Date'] - min_date).dt.days // 7 + 1\n",
        "    df['Date'] = df['Date'].astype(str)\n",
        "\n",
        "    return df\n",
        "\n",
        "\n",
        "\n",
        "import pandas as pd\n",
        "import seaborn as sns\n",
        "import matplotlib.pyplot as plt\n",
        "import matplotlib.dates as mdates\n",
        "\n",
        "\n",
        "# Convert Time_Only column to datetime\n",
        "\n",
        "\n",
        "def plot_avg_line(df,interval=4):\n",
        "  df['Time_Only'] = pd.to_datetime(df['Time_Only'])\n",
        "\n",
        "  # Plot\n",
        "  sns.set_style(\"whitegrid\")\n",
        "  plt.figure(figsize=(12, 6))\n",
        "  sns.lineplot(data=df, x='Time_Only', y=df.columns[1], ci='sd')  # 'sd' for standard deviation as error bars\n",
        "\n",
        "  plt.gca().xaxis.set_major_locator(mdates.HourLocator(interval=interval))\n",
        "  plt.gca().xaxis.set_major_formatter(mdates.DateFormatter('%H:%M'))\n",
        "\n",
        "  plt.title('Line Chart of '+df.columns[1]+' over Time with Error Bars')\n",
        "  plt.xlabel('Time')\n",
        "  plt.ylabel(df.columns[1])\n",
        "  plt.xticks(rotation=45)\n",
        "  plt.tight_layout()\n",
        "  plt.show()\n",
        "\n"
      ]
    },
    {
      "cell_type": "code",
      "execution_count": 3,
      "id": "810015b7-b734-4077-941d-f1c68bda3731",
      "metadata": {
        "id": "810015b7-b734-4077-941d-f1c68bda3731"
      },
      "outputs": [],
      "source": [
        "path = \"/content/drive/MyDrive/Iqram Sir/Fitbit_temp/data\"\n",
        "\n",
        "\n",
        "\n",
        "#path = \"/home/iqh4001/Iqram_WCM/MADE Lab/Wearable Project/Data/Fitbit Database/ Dr. Kaur's Lab/Aim 3 Fitbit Data\""
      ]
    },
    {
      "cell_type": "code",
      "execution_count": 4,
      "id": "4526c9d5-1832-4916-8fdc-801dd4007946",
      "metadata": {
        "colab": {
          "base_uri": "https://localhost:8080/",
          "height": 109,
          "referenced_widgets": [
            "048d52904663415b9b0a7d52c9d9892f",
            "b6c39a1f070b47c6a557be02234ba0ca",
            "c75f5212b3d845bd908ecd7aa3d85d4f",
            "c5f3766825124092a525231e42944bff",
            "03ebd0aa4fd8432fb4ff9bf26c447386",
            "0d4a3f0680d446bab48208dc6e624228",
            "375ee5e76f164743890ff405322a252b",
            "3d050b3f93c14c2a9237411909d6bc73",
            "ef4a57ffced94d418952968bb16f2793"
          ]
        },
        "id": "4526c9d5-1832-4916-8fdc-801dd4007946",
        "outputId": "29f7d1d0-182a-49cf-d094-e6e5740d7741"
      },
      "outputs": [
        {
          "output_type": "display_data",
          "data": {
            "text/plain": [
              "Checkbox(value=False, description='Sub_1', indent=False)"
            ],
            "application/vnd.jupyter.widget-view+json": {
              "version_major": 2,
              "version_minor": 0,
              "model_id": "048d52904663415b9b0a7d52c9d9892f"
            }
          },
          "metadata": {}
        },
        {
          "output_type": "display_data",
          "data": {
            "text/plain": [
              "Checkbox(value=False, description='Sub_2', indent=False)"
            ],
            "application/vnd.jupyter.widget-view+json": {
              "version_major": 2,
              "version_minor": 0,
              "model_id": "c5f3766825124092a525231e42944bff"
            }
          },
          "metadata": {}
        },
        {
          "output_type": "display_data",
          "data": {
            "text/plain": [
              "Checkbox(value=False, description='Sub_3', indent=False)"
            ],
            "application/vnd.jupyter.widget-view+json": {
              "version_major": 2,
              "version_minor": 0,
              "model_id": "375ee5e76f164743890ff405322a252b"
            }
          },
          "metadata": {}
        }
      ],
      "source": [
        "sub_list=[]\n",
        "\n",
        "for i in sorted(glob(path+\"/*\")):\n",
        "  sub_list.append(os.path.basename(i))\n",
        "\n",
        "new_keys=items_check_box(sub_list)"
      ]
    },
    {
      "cell_type": "code",
      "execution_count": 5,
      "id": "44bceb1b-98b6-4823-a97e-c0a48ecce4e7",
      "metadata": {
        "colab": {
          "base_uri": "https://localhost:8080/"
        },
        "id": "44bceb1b-98b6-4823-a97e-c0a48ecce4e7",
        "outputId": "4b3ad465-eef3-453e-b02b-e437199cbc05"
      },
      "outputs": [
        {
          "output_type": "execute_result",
          "data": {
            "text/plain": [
              "['Sub_1']"
            ]
          },
          "metadata": {},
          "execution_count": 5
        }
      ],
      "source": [
        "subject_list = []\n",
        "for i in range(len(new_keys)):\n",
        "  if new_keys[i].value ==True:\n",
        "    subject_list.append(sub_list[i])\n",
        "\n",
        "subject_list"
      ]
    },
    {
      "cell_type": "code",
      "execution_count": 6,
      "id": "060ad31e-c913-4e31-953d-3abaa781b4df",
      "metadata": {
        "colab": {
          "base_uri": "https://localhost:8080/",
          "height": 49,
          "referenced_widgets": [
            "2daa69af3528435598153f4fa2551a62",
            "9b7d9cde45ec40eba3df99875b6225ec",
            "a6ce2917390b4f65bd06a6dd382b2905",
            "f2e2100982dd417a8538fb018964db76",
            "8a81549a437640018241c20a3bef4bc9",
            "4084b89805c14c18a6ed7abbc06462e1",
            "c31bfffa8c744ef4af772751a8ff221e",
            "0fa78de42c4249eb9f8c4f33dda8e2c2",
            "5ffab566147b49fd94449729d99ad5e6",
            "a900fb09022640f88dbfc5cf4321ad7d",
            "26d394335ff0428d997915b033c30449"
          ]
        },
        "id": "060ad31e-c913-4e31-953d-3abaa781b4df",
        "outputId": "66a3d149-75f4-4b78-a1b6-aae0f99ba2b9"
      },
      "outputs": [
        {
          "output_type": "display_data",
          "data": {
            "text/plain": [
              "  0%|          | 0/1 [00:00<?, ?it/s]"
            ],
            "application/vnd.jupyter.widget-view+json": {
              "version_major": 2,
              "version_minor": 0,
              "model_id": "2daa69af3528435598153f4fa2551a62"
            }
          },
          "metadata": {}
        }
      ],
      "source": [
        "\n",
        "\n",
        "\n",
        "\n",
        "\n",
        "for i in tqdm(subject_list):\n",
        "    datapath= path+'/'+i\n",
        "    Post_sec,Post_met = get_content(datapath)\n",
        "    df_post_sec_ini = week_count(pd.read_csv(Post_sec),'Time')\n",
        "    df_post_met_ini = week_count(pd.read_csv(Post_met),'ActivityMinute')\n",
        "    #df_post_sec_ini['Date'] = df_post_sec_ini['Date'].astype(str)\n",
        "    #df_post_met_ini['Date'] = df_post_met_ini['Date'].astype(str)\n",
        ""
      ]
    },
    {
      "cell_type": "code",
      "source": [],
      "metadata": {
        "id": "al68m5hduIVl"
      },
      "id": "al68m5hduIVl",
      "execution_count": null,
      "outputs": []
    },
    {
      "cell_type": "code",
      "source": [],
      "metadata": {
        "id": "xfaoUg-ltFuI"
      },
      "id": "xfaoUg-ltFuI",
      "execution_count": 51,
      "outputs": []
    },
    {
      "cell_type": "code",
      "source": [
        "date_list = list(set(df_post_sec_ini['Date']))\n",
        "df = df_post_sec_ini.query(\"Date == '\"+date_list[0]+\"'\")"
      ],
      "metadata": {
        "id": "36INbLYPmIFr"
      },
      "id": "36INbLYPmIFr",
      "execution_count": 13,
      "outputs": []
    },
    {
      "cell_type": "code",
      "source": [
        "\n",
        "week = 1\n",
        "week_df_heart = df_post_sec_ini.query(\"Week_Number == \"+str(week))\n",
        "week_df_met = df_post_met_ini.query(\"Week_Number == \"+str(week))"
      ],
      "metadata": {
        "id": "MFK1_ZDT8C-f"
      },
      "id": "MFK1_ZDT8C-f",
      "execution_count": 12,
      "outputs": []
    },
    {
      "cell_type": "code",
      "source": [
        "week_df_heart.columns[1]\n"
      ],
      "metadata": {
        "colab": {
          "base_uri": "https://localhost:8080/",
          "height": 35
        },
        "id": "kwLub2Jyp-yj",
        "outputId": "de34dff7-2cdf-4efd-9108-44e9b9d13a30"
      },
      "id": "kwLub2Jyp-yj",
      "execution_count": 19,
      "outputs": [
        {
          "output_type": "execute_result",
          "data": {
            "text/plain": [
              "'Value'"
            ],
            "application/vnd.google.colaboratory.intrinsic+json": {
              "type": "string"
            }
          },
          "metadata": {},
          "execution_count": 19
        }
      ]
    },
    {
      "cell_type": "code",
      "source": [
        "plot_avg_line(week_df_heart,2)"
      ],
      "metadata": {
        "colab": {
          "base_uri": "https://localhost:8080/",
          "height": 796
        },
        "id": "rs69VK6UPeqW",
        "outputId": "51ff8b11-ce12-4fa4-879d-09ebfd8f9408"
      },
      "id": "rs69VK6UPeqW",
      "execution_count": 26,
      "outputs": [
        {
          "output_type": "stream",
          "name": "stderr",
          "text": [
            "<ipython-input-22-d29af1923c06>:65: SettingWithCopyWarning: \n",
            "A value is trying to be set on a copy of a slice from a DataFrame.\n",
            "Try using .loc[row_indexer,col_indexer] = value instead\n",
            "\n",
            "See the caveats in the documentation: https://pandas.pydata.org/pandas-docs/stable/user_guide/indexing.html#returning-a-view-versus-a-copy\n",
            "  df['Time_Only'] = pd.to_datetime(df['Time_Only'])\n",
            "<ipython-input-22-d29af1923c06>:70: FutureWarning: \n",
            "\n",
            "The `ci` parameter is deprecated. Use `errorbar='sd'` for the same effect.\n",
            "\n",
            "  sns.lineplot(data=df, x='Time_Only', y=df.columns[1], ci='sd')  # 'sd' for standard deviation as error bars\n"
          ]
        },
        {
          "output_type": "display_data",
          "data": {
            "text/plain": [
              "<Figure size 1200x600 with 1 Axes>"
            ],
            "image/png": "[encoded data removed]"
          },
          "metadata": {}
        }
      ]
    },
    {
      "cell_type": "code",
      "execution_count": null,
      "id": "4de4cf8d-437a-4a88-8f17-3d94810c55ba",
      "metadata": {
        "id": "4de4cf8d-437a-4a88-8f17-3d94810c55ba"
      },
      "outputs": [],
      "source": []
    }
  ],
  "metadata": {
    "kernelspec": {
      "display_name": "Python 3 (ipykernel)",
      "language": "python",
      "name": "python3"
    },
    "language_info": {
      "codemirror_mode": {
        "name": "ipython",
        "version": 3
      },
      "file_extension": ".py",
      "mimetype": "text/x-python",
      "name": "python",
      "nbconvert_exporter": "python",
      "pygments_lexer": "ipython3",
      "version": "3.10.9"
    },
    "colab": {
      "provenance": [],
      "include_colab_link": true
    },
    "widgets": {
      "application/vnd.jupyter.widget-state+json": {
        "048d52904663415b9b0a7d52c9d9892f": {
          "model_module": "@jupyter-widgets/controls",
          "model_name": "CheckboxModel",
          "model_module_version": "1.5.0",
          "state": {
            "_dom_classes": [],
            "_model_module": "@jupyter-widgets/controls",
            "_model_module_version": "1.5.0",
            "_model_name": "CheckboxModel",
            "_view_count": null,
            "_view_module": "@jupyter-widgets/controls",
            "_view_module_version": "1.5.0",
            "_view_name": "CheckboxView",
            "description": "Sub_1",
            "description_tooltip": null,
            "disabled": false,
            "indent": false,
            "layout": "IPY_MODEL_b6c39a1f070b47c6a557be02234ba0ca",
            "style": "IPY_MODEL_c75f5212b3d845bd908ecd7aa3d85d4f",
            "value": true
          }
        },
        "b6c39a1f070b47c6a557be02234ba0ca": {
          "model_module": "@jupyter-widgets/base",
          "model_name": "LayoutModel",
          "model_module_version": "1.2.0",
          "state": {
            "_model_module": "@jupyter-widgets/base",
            "_model_module_version": "1.2.0",
            "_model_name": "LayoutModel",
            "_view_count": null,
            "_view_module": "@jupyter-widgets/base",
            "_view_module_version": "1.2.0",
            "_view_name": "LayoutView",
            "align_content": null,
            "align_items": null,
            "align_self": null,
            "border": null,
            "bottom": null,
            "display": null,
            "flex": null,
            "flex_flow": null,
            "grid_area": null,
            "grid_auto_columns": null,
            "grid_auto_flow": null,
            "grid_auto_rows": null,
            "grid_column": null,
            "grid_gap": null,
            "grid_row": null,
            "grid_template_areas": null,
            "grid_template_columns": null,
            "grid_template_rows": null,
            "height": null,
            "justify_content": null,
            "justify_items": null,
            "left": null,
            "margin": null,
            "max_height": null,
            "max_width": null,
            "min_height": null,
            "min_width": null,
            "object_fit": null,
            "object_position": null,
            "order": null,
            "overflow": null,
            "overflow_x": null,
            "overflow_y": null,
            "padding": null,
            "right": null,
            "top": null,
            "visibility": null,
            "width": null
          }
        },
        "c75f5212b3d845bd908ecd7aa3d85d4f": {
          "model_module": "@jupyter-widgets/controls",
          "model_name": "DescriptionStyleModel",
          "model_module_version": "1.5.0",
          "state": {
            "_model_module": "@jupyter-widgets/controls",
            "_model_module_version": "1.5.0",
            "_model_name": "DescriptionStyleModel",
            "_view_count": null,
            "_view_module": "@jupyter-widgets/base",
            "_view_module_version": "1.2.0",
            "_view_name": "StyleView",
            "description_width": ""
          }
        },
        "c5f3766825124092a525231e42944bff": {
          "model_module": "@jupyter-widgets/controls",
          "model_name": "CheckboxModel",
          "model_module_version": "1.5.0",
          "state": {
            "_dom_classes": [],
            "_model_module": "@jupyter-widgets/controls",
            "_model_module_version": "1.5.0",
            "_model_name": "CheckboxModel",
            "_view_count": null,
            "_view_module": "@jupyter-widgets/controls",
            "_view_module_version": "1.5.0",
            "_view_name": "CheckboxView",
            "description": "Sub_2",
            "description_tooltip": null,
            "disabled": false,
            "indent": false,
            "layout": "IPY_MODEL_03ebd0aa4fd8432fb4ff9bf26c447386",
            "style": "IPY_MODEL_0d4a3f0680d446bab48208dc6e624228",
            "value": false
          }
        },
        "03ebd0aa4fd8432fb4ff9bf26c447386": {
          "model_module": "@jupyter-widgets/base",
          "model_name": "LayoutModel",
          "model_module_version": "1.2.0",
          "state": {
            "_model_module": "@jupyter-widgets/base",
            "_model_module_version": "1.2.0",
            "_model_name": "LayoutModel",
            "_view_count": null,
            "_view_module": "@jupyter-widgets/base",
            "_view_module_version": "1.2.0",
            "_view_name": "LayoutView",
            "align_content": null,
            "align_items": null,
            "align_self": null,
            "border": null,
            "bottom": null,
            "display": null,
            "flex": null,
            "flex_flow": null,
            "grid_area": null,
            "grid_auto_columns": null,
            "grid_auto_flow": null,
            "grid_auto_rows": null,
            "grid_column": null,
            "grid_gap": null,
            "grid_row": null,
            "grid_template_areas": null,
            "grid_template_columns": null,
            "grid_template_rows": null,
            "height": null,
            "justify_content": null,
            "justify_items": null,
            "left": null,
            "margin": null,
            "max_height": null,
            "max_width": null,
            "min_height": null,
            "min_width": null,
            "object_fit": null,
            "object_position": null,
            "order": null,
            "overflow": null,
            "overflow_x": null,
            "overflow_y": null,
            "padding": null,
            "right": null,
            "top": null,
            "visibility": null,
            "width": null
          }
        },
        "0d4a3f0680d446bab48208dc6e624228": {
          "model_module": "@jupyter-widgets/controls",
          "model_name": "DescriptionStyleModel",
          "model_module_version": "1.5.0",
          "state": {
            "_model_module": "@jupyter-widgets/controls",
            "_model_module_version": "1.5.0",
            "_model_name": "DescriptionStyleModel",
            "_view_count": null,
            "_view_module": "@jupyter-widgets/base",
            "_view_module_version": "1.2.0",
            "_view_name": "StyleView",
            "description_width": ""
          }
        },
        "375ee5e76f164743890ff405322a252b": {
          "model_module": "@jupyter-widgets/controls",
          "model_name": "CheckboxModel",
          "model_module_version": "1.5.0",
          "state": {
            "_dom_classes": [],
            "_model_module": "@jupyter-widgets/controls",
            "_model_module_version": "1.5.0",
            "_model_name": "CheckboxModel",
            "_view_count": null,
            "_view_module": "@jupyter-widgets/controls",
            "_view_module_version": "1.5.0",
            "_view_name": "CheckboxView",
            "description": "Sub_3",
            "description_tooltip": null,
            "disabled": false,
            "indent": false,
            "layout": "IPY_MODEL_3d050b3f93c14c2a9237411909d6bc73",
            "style": "IPY_MODEL_ef4a57ffced94d418952968bb16f2793",
            "value": false
          }
        },
        "3d050b3f93c14c2a9237411909d6bc73": {
          "model_module": "@jupyter-widgets/base",
          "model_name": "LayoutModel",
          "model_module_version": "1.2.0",
          "state": {
            "_model_module": "@jupyter-widgets/base",
            "_model_module_version": "1.2.0",
            "_model_name": "LayoutModel",
            "_view_count": null,
            "_view_module": "@jupyter-widgets/base",
            "_view_module_version": "1.2.0",
            "_view_name": "LayoutView",
            "align_content": null,
            "align_items": null,
            "align_self": null,
            "border": null,
            "bottom": null,
            "display": null,
            "flex": null,
            "flex_flow": null,
            "grid_area": null,
            "grid_auto_columns": null,
            "grid_auto_flow": null,
            "grid_auto_rows": null,
            "grid_column": null,
            "grid_gap": null,
            "grid_row": null,
            "grid_template_areas": null,
            "grid_template_columns": null,
            "grid_template_rows": null,
            "height": null,
            "justify_content": null,
            "justify_items": null,
            "left": null,
            "margin": null,
            "max_height": null,
            "max_width": null,
            "min_height": null,
            "min_width": null,
            "object_fit": null,
            "object_position": null,
            "order": null,
            "overflow": null,
            "overflow_x": null,
            "overflow_y": null,
            "padding": null,
            "right": null,
            "top": null,
            "visibility": null,
            "width": null
          }
        },
        "ef4a57ffced94d418952968bb16f2793": {
          "model_module": "@jupyter-widgets/controls",
          "model_name": "DescriptionStyleModel",
          "model_module_version": "1.5.0",
          "state": {
            "_model_module": "@jupyter-widgets/controls",
            "_model_module_version": "1.5.0",
            "_model_name": "DescriptionStyleModel",
            "_view_count": null,
            "_view_module": "@jupyter-widgets/base",
            "_view_module_version": "1.2.0",
            "_view_name": "StyleView",
            "description_width": ""
          }
        },
        "2daa69af3528435598153f4fa2551a62": {
          "model_module": "@jupyter-widgets/controls",
          "model_name": "HBoxModel",
          "model_module_version": "1.5.0",
          "state": {
            "_dom_classes": [],
            "_model_module": "@jupyter-widgets/controls",
            "_model_module_version": "1.5.0",
            "_model_name": "HBoxModel",
            "_view_count": null,
            "_view_module": "@jupyter-widgets/controls",
            "_view_module_version": "1.5.0",
            "_view_name": "HBoxView",
            "box_style": "",
            "children": [
              "IPY_MODEL_9b7d9cde45ec40eba3df99875b6225ec",
              "IPY_MODEL_a6ce2917390b4f65bd06a6dd382b2905",
              "IPY_MODEL_f2e2100982dd417a8538fb018964db76"
            ],
            "layout": "IPY_MODEL_8a81549a437640018241c20a3bef4bc9"
          }
        },
        "9b7d9cde45ec40eba3df99875b6225ec": {
          "model_module": "@jupyter-widgets/controls",
          "model_name": "HTMLModel",
          "model_module_version": "1.5.0",
          "state": {
            "_dom_classes": [],
            "_model_module": "@jupyter-widgets/controls",
            "_model_module_version": "1.5.0",
            "_model_name": "HTMLModel",
            "_view_count": null,
            "_view_module": "@jupyter-widgets/controls",
            "_view_module_version": "1.5.0",
            "_view_name": "HTMLView",
            "description": "",
            "description_tooltip": null,
            "layout": "IPY_MODEL_4084b89805c14c18a6ed7abbc06462e1",
            "placeholder": "​",
            "style": "IPY_MODEL_c31bfffa8c744ef4af772751a8ff221e",
            "value": "100%"
          }
        },
        "a6ce2917390b4f65bd06a6dd382b2905": {
          "model_module": "@jupyter-widgets/controls",
          "model_name": "FloatProgressModel",
          "model_module_version": "1.5.0",
          "state": {
            "_dom_classes": [],
            "_model_module": "@jupyter-widgets/controls",
            "_model_module_version": "1.5.0",
            "_model_name": "FloatProgressModel",
            "_view_count": null,
            "_view_module": "@jupyter-widgets/controls",
            "_view_module_version": "1.5.0",
            "_view_name": "ProgressView",
            "bar_style": "success",
            "description": "",
            "description_tooltip": null,
            "layout": "IPY_MODEL_0fa78de42c4249eb9f8c4f33dda8e2c2",
            "max": 1,
            "min": 0,
            "orientation": "horizontal",
            "style": "IPY_MODEL_5ffab566147b49fd94449729d99ad5e6",
            "value": 1
          }
        },
        "f2e2100982dd417a8538fb018964db76": {
          "model_module": "@jupyter-widgets/controls",
          "model_name": "HTMLModel",
          "model_module_version": "1.5.0",
          "state": {
            "_dom_classes": [],
            "_model_module": "@jupyter-widgets/controls",
            "_model_module_version": "1.5.0",
            "_model_name": "HTMLModel",
            "_view_count": null,
            "_view_module": "@jupyter-widgets/controls",
            "_view_module_version": "1.5.0",
            "_view_name": "HTMLView",
            "description": "",
            "description_tooltip": null,
            "layout": "IPY_MODEL_a900fb09022640f88dbfc5cf4321ad7d",
            "placeholder": "​",
            "style": "IPY_MODEL_26d394335ff0428d997915b033c30449",
            "value": " 1/1 [04:55&lt;00:00, 295.50s/it]"
          }
        },
        "8a81549a437640018241c20a3bef4bc9": {
          "model_module": "@jupyter-widgets/base",
          "model_name": "LayoutModel",
          "model_module_version": "1.2.0",
          "state": {
            "_model_module": "@jupyter-widgets/base",
            "_model_module_version": "1.2.0",
            "_model_name": "LayoutModel",
            "_view_count": null,
            "_view_module": "@jupyter-widgets/base",
            "_view_module_version": "1.2.0",
            "_view_name": "LayoutView",
            "align_content": null,
            "align_items": null,
            "align_self": null,
            "border": null,
            "bottom": null,
            "display": null,
            "flex": null,
            "flex_flow": null,
            "grid_area": null,
            "grid_auto_columns": null,
            "grid_auto_flow": null,
            "grid_auto_rows": null,
            "grid_column": null,
            "grid_gap": null,
            "grid_row": null,
            "grid_template_areas": null,
            "grid_template_columns": null,
            "grid_template_rows": null,
            "height": null,
            "justify_content": null,
            "justify_items": null,
            "left": null,
            "margin": null,
            "max_height": null,
            "max_width": null,
            "min_height": null,
            "min_width": null,
            "object_fit": null,
            "object_position": null,
            "order": null,
            "overflow": null,
            "overflow_x": null,
            "overflow_y": null,
            "padding": null,
            "right": null,
            "top": null,
            "visibility": null,
            "width": null
          }
        },
        "4084b89805c14c18a6ed7abbc06462e1": {
          "model_module": "@jupyter-widgets/base",
          "model_name": "LayoutModel",
          "model_module_version": "1.2.0",
          "state": {
            "_model_module": "@jupyter-widgets/base",
            "_model_module_version": "1.2.0",
            "_model_name": "LayoutModel",
            "_view_count": null,
            "_view_module": "@jupyter-widgets/base",
            "_view_module_version": "1.2.0",
            "_view_name": "LayoutView",
            "align_content": null,
            "align_items": null,
            "align_self": null,
            "border": null,
            "bottom": null,
            "display": null,
            "flex": null,
            "flex_flow": null,
            "grid_area": null,
            "grid_auto_columns": null,
            "grid_auto_flow": null,
            "grid_auto_rows": null,
            "grid_column": null,
            "grid_gap": null,
            "grid_row": null,
            "grid_template_areas": null,
            "grid_template_columns": null,
            "grid_template_rows": null,
            "height": null,
            "justify_content": null,
            "justify_items": null,
            "left": null,
            "margin": null,
            "max_height": null,
            "max_width": null,
            "min_height": null,
            "min_width": null,
            "object_fit": null,
            "object_position": null,
            "order": null,
            "overflow": null,
            "overflow_x": null,
            "overflow_y": null,
            "padding": null,
            "right": null,
            "top": null,
            "visibility": null,
            "width": null
          }
        },
        "c31bfffa8c744ef4af772751a8ff221e": {
          "model_module": "@jupyter-widgets/controls",
          "model_name": "DescriptionStyleModel",
          "model_module_version": "1.5.0",
          "state": {
            "_model_module": "@jupyter-widgets/controls",
            "_model_module_version": "1.5.0",
            "_model_name": "DescriptionStyleModel",
            "_view_count": null,
            "_view_module": "@jupyter-widgets/base",
            "_view_module_version": "1.2.0",
            "_view_name": "StyleView",
            "description_width": ""
          }
        },
        "0fa78de42c4249eb9f8c4f33dda8e2c2": {
          "model_module": "@jupyter-widgets/base",
          "model_name": "LayoutModel",
          "model_module_version": "1.2.0",
          "state": {
            "_model_module": "@jupyter-widgets/base",
            "_model_module_version": "1.2.0",
            "_model_name": "LayoutModel",
            "_view_count": null,
            "_view_module": "@jupyter-widgets/base",
            "_view_module_version": "1.2.0",
            "_view_name": "LayoutView",
            "align_content": null,
            "align_items": null,
            "align_self": null,
            "border": null,
            "bottom": null,
            "display": null,
            "flex": null,
            "flex_flow": null,
            "grid_area": null,
            "grid_auto_columns": null,
            "grid_auto_flow": null,
            "grid_auto_rows": null,
            "grid_column": null,
            "grid_gap": null,
            "grid_row": null,
            "grid_template_areas": null,
            "grid_template_columns": null,
            "grid_template_rows": null,
            "height": null,
            "justify_content": null,
            "justify_items": null,
            "left": null,
            "margin": null,
            "max_height": null,
            "max_width": null,
            "min_height": null,
            "min_width": null,
            "object_fit": null,
            "object_position": null,
            "order": null,
            "overflow": null,
            "overflow_x": null,
            "overflow_y": null,
            "padding": null,
            "right": null,
            "top": null,
            "visibility": null,
            "width": null
          }
        },
        "5ffab566147b49fd94449729d99ad5e6": {
          "model_module": "@jupyter-widgets/controls",
          "model_name": "ProgressStyleModel",
          "model_module_version": "1.5.0",
          "state": {
            "_model_module": "@jupyter-widgets/controls",
            "_model_module_version": "1.5.0",
            "_model_name": "ProgressStyleModel",
            "_view_count": null,
            "_view_module": "@jupyter-widgets/base",
            "_view_module_version": "1.2.0",
            "_view_name": "StyleView",
            "bar_color": null,
            "description_width": ""
          }
        },
        "a900fb09022640f88dbfc5cf4321ad7d": {
          "model_module": "@jupyter-widgets/base",
          "model_name": "LayoutModel",
          "model_module_version": "1.2.0",
          "state": {
            "_model_module": "@jupyter-widgets/base",
            "_model_module_version": "1.2.0",
            "_model_name": "LayoutModel",
            "_view_count": null,
            "_view_module": "@jupyter-widgets/base",
            "_view_module_version": "1.2.0",
            "_view_name": "LayoutView",
            "align_content": null,
            "align_items": null,
            "align_self": null,
            "border": null,
            "bottom": null,
            "display": null,
            "flex": null,
            "flex_flow": null,
            "grid_area": null,
            "grid_auto_columns": null,
            "grid_auto_flow": null,
            "grid_auto_rows": null,
            "grid_column": null,
            "grid_gap": null,
            "grid_row": null,
            "grid_template_areas": null,
            "grid_template_columns": null,
            "grid_template_rows": null,
            "height": null,
            "justify_content": null,
            "justify_items": null,
            "left": null,
            "margin": null,
            "max_height": null,
            "max_width": null,
            "min_height": null,
            "min_width": null,
            "object_fit": null,
            "object_position": null,
            "order": null,
            "overflow": null,
            "overflow_x": null,
            "overflow_y": null,
            "padding": null,
            "right": null,
            "top": null,
            "visibility": null,
            "width": null
          }
        },
        "26d394335ff0428d997915b033c30449": {
          "model_module": "@jupyter-widgets/controls",
          "model_name": "DescriptionStyleModel",
          "model_module_version": "1.5.0",
          "state": {
            "_model_module": "@jupyter-widgets/controls",
            "_model_module_version": "1.5.0",
            "_model_name": "DescriptionStyleModel",
            "_view_count": null,
            "_view_module": "@jupyter-widgets/base",
            "_view_module_version": "1.2.0",
            "_view_name": "StyleView",
            "description_width": ""
          }
        }
      }
    }
  },
  "nbformat": 4,
  "nbformat_minor": 5
}