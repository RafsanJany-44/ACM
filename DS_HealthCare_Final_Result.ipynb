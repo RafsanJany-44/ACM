{
  "nbformat": 4,
  "nbformat_minor": 0,
  "metadata": {
    "colab": {
      "provenance": [],
      "authorship_tag": "ABX9TyNFefYAEvNJHLuH/X4EzWQN",
      "include_colab_link": true
    },
    "kernelspec": {
      "name": "python3",
      "display_name": "Python 3"
    },
    "language_info": {
      "name": "python"
    }
  },
  "cells": [
    {
      "cell_type": "markdown",
      "metadata": {
        "id": "view-in-github",
        "colab_type": "text"
      },
      "source": [
        "<a href=\"https://colab.research.google.com/github/RafsanJany-44/ARC/blob/master/DS_HealthCare_Final_Result.ipynb\" target=\"_parent\"><img src=\"https://colab.research.google.com/assets/colab-badge.svg\" alt=\"Open In Colab\"/></a>"
      ]
    },
    {
      "cell_type": "code",
      "execution_count": 1,
      "metadata": {
        "colab": {
          "base_uri": "https://localhost:8080/"
        },
        "id": "RyEqkCPFDfHt",
        "outputId": "82a2d47d-880f-4f8e-c06e-2cb269d8abbe"
      },
      "outputs": [
        {
          "output_type": "stream",
          "name": "stdout",
          "text": [
            "Mounted at /content/drive\n"
          ]
        }
      ],
      "source": [
        "from google.colab import drive\n",
        "drive.mount('/content/drive')"
      ]
    },
    {
      "cell_type": "code",
      "source": [
        "import pandas as pd\n",
        "import numpy as np\n",
        "from tqdm.notebook import tqdm\n",
        "data= pd.read_excel('/content/drive/MyDrive/Tanjila_mam/DS-Healthcare_version_2.xlsx')\n",
        "result = {}\n",
        "target = 'Type'"
      ],
      "metadata": {
        "id": "mgPjcxIXJc8Z"
      },
      "execution_count": 2,
      "outputs": []
    },
    {
      "cell_type": "code",
      "source": [
        "data[target].value_counts()"
      ],
      "metadata": {
        "colab": {
          "base_uri": "https://localhost:8080/"
        },
        "id": "Ac4eycMhJfOg",
        "outputId": "ce0ea876-d551-4c43-fd54-b47589b0e320"
      },
      "execution_count": 3,
      "outputs": [
        {
          "output_type": "execute_result",
          "data": {
            "text/plain": [
              "ischemic      581219\n",
              "healthy       267360\n",
              "arrhythmic     40238\n",
              "Name: Type, dtype: int64"
            ]
          },
          "metadata": {},
          "execution_count": 3
        }
      ]
    },
    {
      "cell_type": "code",
      "source": [
        "from sklearn.preprocessing import LabelEncoder\n",
        "encoder=LabelEncoder()\n",
        "\n",
        "data[target]=encoder.fit_transform(data[target])"
      ],
      "metadata": {
        "id": "CqXDBhB6JhKr"
      },
      "execution_count": 4,
      "outputs": []
    },
    {
      "cell_type": "code",
      "source": [
        "X= data.loc[:,data.columns != target]\n",
        "y = data[target]"
      ],
      "metadata": {
        "id": "NEUqqOdUJjCl"
      },
      "execution_count": 5,
      "outputs": []
    },
    {
      "cell_type": "code",
      "source": [
        "def fun_split(X,Y,test_size,feature):\n",
        "\n",
        "    f=Y.value_counts()\n",
        "    rows=X.shape[0]\n",
        "    talika=[]\n",
        "    count=0\n",
        "    for i in f:\n",
        "        talika.append(i)\n",
        "    train_size=1-test_size\n",
        "    start=0\n",
        "\n",
        "    switch=False\n",
        "\n",
        "    for i in talika :\n",
        "\n",
        "        train=start+int(i*train_size)\n",
        "        f= X[feature][train]\n",
        "        count1=0\n",
        "        count2=0\n",
        "        index1=train\n",
        "        index2=train+1\n",
        "        end=start+i-1\n",
        "\n",
        "        while X[feature][index1]==f:\n",
        "            if index1<start:\n",
        "                break\n",
        "            index1-=1\n",
        "            count1+=1\n",
        "\n",
        "\n",
        "        while X[feature][index2]==f:\n",
        "            if index2>end:\n",
        "                break\n",
        "            index2+=1\n",
        "            count2+=1\n",
        "\n",
        "        if count1>=count2:\n",
        "            train+=count2\n",
        "        else:\n",
        "            train-=count1\n",
        "\n",
        "\n",
        "        if switch == False:\n",
        "            X_train= X[start:train+1]\n",
        "            X_test= X[train+1:end]\n",
        "            Y_train = Y[start:train+1]\n",
        "            Y_test = Y[train+1:end]\n",
        "            switch=True\n",
        "\n",
        "        else:\n",
        "            X_train=pd.concat([X_train, X[start:train+1]], ignore_index=True)\n",
        "            X_test=pd.concat([X_test, X[train+1:end+1]], ignore_index=True)\n",
        "            Y_train=pd.concat([Y_train, Y[start:train+1]], ignore_index=True)\n",
        "            Y_test=pd.concat([Y_test, Y[train+1:end+1]], ignore_index=True)\n",
        "\n",
        "        start=start+i\n",
        "\n",
        "    print('Train Percentage:',X_train.shape[0]/rows)\n",
        "\n",
        "    return X_train,X_test,Y_train,Y_test"
      ],
      "metadata": {
        "id": "Tf40QrOGJl-d"
      },
      "execution_count": 6,
      "outputs": []
    },
    {
      "cell_type": "code",
      "source": [
        " X_train, X_test, y_train, y_test = fun_split(X,y, test_size=0.2, feature= 'Subject')"
      ],
      "metadata": {
        "colab": {
          "base_uri": "https://localhost:8080/"
        },
        "id": "IYmisfLOJmnA",
        "outputId": "e29ecff6-495e-4f94-eb28-a6f9a0b1b19d"
      },
      "execution_count": 7,
      "outputs": [
        {
          "output_type": "stream",
          "name": "stdout",
          "text": [
            "Train Percentage: 0.8002839729663137\n"
          ]
        }
      ]
    },
    {
      "cell_type": "code",
      "source": [
        "X_train= X_train.loc[:,X_train.columns != 'Subject']\n",
        "X_train= X_train.loc[:,X_train.columns != 'Time']\n",
        "X_train= X_train.loc[:,X_train.columns != 'Cycle']\n",
        "\n",
        "X_test= X_test.loc[:,X_test.columns != 'Subject']\n",
        "X_test= X_test.loc[:,X_test.columns != 'Time']\n",
        "X_test= X_test.loc[:,X_test.columns != 'Cycle']"
      ],
      "metadata": {
        "id": "VVwY81_FJoMl"
      },
      "execution_count": 8,
      "outputs": []
    },
    {
      "cell_type": "markdown",
      "source": [
        "#GradientBoost"
      ],
      "metadata": {
        "id": "hRhVNqjFJunH"
      }
    },
    {
      "cell_type": "code",
      "source": [
        "\n",
        "from sklearn.ensemble import GradientBoostingClassifier\n",
        "\n",
        "gradBoost_depth = GradientBoostingClassifier(max_depth=1,random_state=0)\n",
        "gradBoost_depth.fit(X_train, y_train)\n",
        "y_pred = gradBoost_depth.predict(X_test)\n",
        "\n",
        "from sklearn.metrics import classification_report, confusion_matrix, accuracy_score\n",
        "print(confusion_matrix(y_test, y_pred))\n",
        "print(classification_report(y_test,y_pred))\n",
        "print(\"Accurecy: \",accuracy_score(y_test, y_pred))\n",
        "result[(gradBoost_depth,2,'GradientBoostingClassifier')]=accuracy_score(y_test, y_pred)"
      ],
      "metadata": {
        "id": "a5Yoi1EIJw2i"
      },
      "execution_count": null,
      "outputs": []
    },
    {
      "cell_type": "markdown",
      "source": [
        "#RandomForest"
      ],
      "metadata": {
        "id": "MQTdLHzCPNSD"
      }
    },
    {
      "cell_type": "code",
      "source": [
        "from sklearn.ensemble import RandomForestClassifier\n",
        "rf_all = RandomForestClassifier(n_estimators=2,max_depth=8,random_state=0)\n",
        "rf_all.fit(X_train, y_train)\n",
        "y_pred=rf_all.predict(X_test)\n",
        "\n",
        "\n",
        "from sklearn.metrics import classification_report, confusion_matrix, accuracy_score\n",
        "print(confusion_matrix(y_test, y_pred))\n",
        "print(classification_report(y_test,y_pred))\n",
        "print(\"Accurecy: \",accuracy_score(y_test, y_pred))\n",
        "result[(rf_all,3,'RandomForestClassifier')]=accuracy_score(y_test, y_pred)"
      ],
      "metadata": {
        "id": "YMtmgzrPPNBi"
      },
      "execution_count": null,
      "outputs": []
    },
    {
      "cell_type": "markdown",
      "source": [
        "#XGBoost"
      ],
      "metadata": {
        "id": "rX8G3lPcPebE"
      }
    },
    {
      "cell_type": "code",
      "source": [
        "!pip install xgboost"
      ],
      "metadata": {
        "id": "wkeVh2erJwwm"
      },
      "execution_count": null,
      "outputs": []
    },
    {
      "cell_type": "code",
      "source": [
        "import xgboost as xgb\n",
        "xgb_depth = xgb.XGBClassifier(max_depth=1,random_state=0)\n",
        "xgb_depth.fit(X_train.values,y_train.values)\n",
        "y_pred = xgb_depth.predict(X_test.values)\n",
        "\n",
        "\n",
        "from sklearn.metrics import classification_report, confusion_matrix, accuracy_score\n",
        "print(confusion_matrix(y_test, y_pred))\n",
        "print(classification_report(y_test,y_pred))\n",
        "print(\"Accurecy: \",accuracy_score(y_test, y_pred))\n",
        "result[(xgb_depth,4,'xgboost')]=accuracy_score(y_test, y_pred)\n",
        "print(xgb_depth)"
      ],
      "metadata": {
        "id": "wqWecTyVJwqQ"
      },
      "execution_count": null,
      "outputs": []
    },
    {
      "cell_type": "markdown",
      "source": [
        "#Histogram-Based Gradient Boosting"
      ],
      "metadata": {
        "id": "pl29nnrTPtN-"
      }
    },
    {
      "cell_type": "code",
      "source": [
        "from sklearn.ensemble import HistGradientBoostingClassifier\n",
        "from sklearn.metrics import accuracy_score\n",
        "\n",
        "hisgradBoost_max_depth = HistGradientBoostingClassifier(max_depth=1,random_state=0)\n",
        "hisgradBoost_max_depth.fit(X_train, y_train)\n",
        "y_pred = hisgradBoost_max_depth.predict(X_test)\n",
        "\n",
        "from sklearn.metrics import classification_report, confusion_matrix, accuracy_score\n",
        "print(confusion_matrix(y_test, y_pred))\n",
        "print(classification_report(y_test,y_pred))\n",
        "print(\"Accurecy: \",accuracy_score(y_test, y_pred))\n",
        "result[(hisgradBoost_max_depth,5,'HistGradientBoostingClassifier')]=accuracy_score(y_test, y_pred)"
      ],
      "metadata": {
        "id": "j9IOEsSsPs4n"
      },
      "execution_count": null,
      "outputs": []
    },
    {
      "cell_type": "code",
      "source": [
        "\n",
        "model = hisgradBoost_max_depth\n",
        "model = xgb_depth\n",
        "model = rf_all\n",
        "model = gradBoost_depth\n",
        "\n"
      ],
      "metadata": {
        "id": "yOmoL1QUJwje"
      },
      "execution_count": null,
      "outputs": []
    },
    {
      "cell_type": "markdown",
      "source": [
        "#Cross Validation"
      ],
      "metadata": {
        "id": "ShFxRQIvP_g3"
      }
    },
    {
      "cell_type": "code",
      "source": [
        "\"\"\"from sklearn.model_selection import cross_val_score\n",
        "\n",
        "k=5\n",
        "for i in result:\n",
        "  print(i[0],\" -> Accuracy: \",result[i])\n",
        "  l=list(cross_val_score(i[0],X_new, y_new,cv=k))\n",
        "  avg=sum(l)/k\n",
        "  print(i[0],\" -> AVG Accurecy After CV: \"+str(avg)+ \" (For \"+str(k)+\" Fold)\")\n",
        "  print(\"--------------------------------------------------------------------------\")\"\"\""
      ],
      "metadata": {
        "id": "V4MD1knwJwcA"
      },
      "execution_count": null,
      "outputs": []
    },
    {
      "cell_type": "markdown",
      "source": [
        "#SHAP"
      ],
      "metadata": {
        "id": "4mLK366vQBXw"
      }
    },
    {
      "cell_type": "code",
      "source": [
        "!pip install shap\n",
        "import shap"
      ],
      "metadata": {
        "id": "GE1mRYj3JwTm"
      },
      "execution_count": null,
      "outputs": []
    },
    {
      "cell_type": "code",
      "source": [
        "def SHAP_EXP(model,graph_feat,list_of_feat1,start_index,end_index):\n",
        "  print(\"Models: \",model)\n",
        "\n",
        "  explainer = shap.Explainer(model.predict, X_test)\n",
        "\n",
        "  shap_values1 = explainer(X_test[start_index:end_index])\n",
        "  features_names=list_of_feat1\n",
        "\n",
        "\n",
        "  print(\"Global Explaination\")\n",
        "  shap.plots.bar(shap_values1,max_display=graph_feat[\"max_display\"])\n",
        "\n",
        "  print(\"Global Explaination\")\n",
        "\n",
        "  shap.summary_plot(shap_values1,max_display=graph_feat[\"max_display\"])\n",
        "\n",
        "  print(\"---------------------\")\n",
        "\n",
        "  print(\"Local Explaination\")\n",
        "  shap.plots.waterfall(shap_values1[graph_feat[\"shap_values Index\"]],max_display=graph_feat[\"max_display\"])\n",
        "\n",
        "\n",
        "  print(\"Local Explaination\")\n",
        "\n",
        "  shap.plots.bar(shap_values1[graph_feat[\"shap_values Index\"]],max_display=graph_feat[\"max_display\"])\n"
      ],
      "metadata": {
        "id": "IBmTq9FgJwNb"
      },
      "execution_count": null,
      "outputs": []
    },
    {
      "cell_type": "code",
      "source": [
        "graph_feat={\n",
        "    \"max_display\":30,\n",
        "    \"shap_values Index\":10\n",
        "}\n",
        "start_index,end_index=0,100\n",
        "\n",
        "SHAP_EXP(model,graph_feat,list(X_test.columns),start_index,end_index)"
      ],
      "metadata": {
        "id": "FilRRoWWJwD8"
      },
      "execution_count": null,
      "outputs": []
    },
    {
      "cell_type": "markdown",
      "source": [
        "#Lime"
      ],
      "metadata": {
        "id": "KBqiQKLYQLxN"
      }
    },
    {
      "cell_type": "code",
      "source": [
        "!pip install lime"
      ],
      "metadata": {
        "id": "E45MiHfUJv9j"
      },
      "execution_count": null,
      "outputs": []
    },
    {
      "cell_type": "code",
      "source": [
        "import lime\n",
        "from lime import lime_tabular\n",
        "\n",
        "def LIME_EXP(model,row,num_features,top_labels):\n",
        "\n",
        "    if str(model)[:3] == \"XGB\":\n",
        "\n",
        "      explainer = lime.lime_tabular.LimeTabularExplainer(\n",
        "        X_train.values,\n",
        "        feature_names=list(list(X_train.columns)),\n",
        "        class_names=['arrhythmic', 'healthy', 'ischemic'],\n",
        "        mode='classification'\n",
        "        )\n",
        "\n",
        "      exp = explainer.explain_instance(X_test.iloc[row, :].values,\n",
        "                                 model.predict_proba,\n",
        "                                 num_features=num_features,\n",
        "                                 top_labels=top_labels)\n",
        "\n",
        "\n",
        "\n",
        "\n",
        "    else:\n",
        "      explainer = lime_tabular.LimeTabularExplainer(\n",
        "        training_data=np.array(X_train),\n",
        "        feature_names=list(X_train.columns),\n",
        "        class_names=['arrhythmic', 'healthy', 'ischemic'],\n",
        "        mode='classification'\n",
        "        )\n",
        "\n",
        "      exp = explainer.explain_instance(X_test.iloc[row],\n",
        "                                      model.predict_proba,\n",
        "                                      num_features=num_features,\n",
        "                                      top_labels=top_labels)\n",
        "\n",
        "\n",
        "\n",
        "    exp.show_in_notebook(show_table=True, show_all=True)\n",
        "\n",
        "\n",
        "\n",
        "    from IPython.display import HTML\n",
        "    html_data = exp.as_html()\n",
        "    HTML(data=html_data)\n",
        "\n",
        "    exp.save_to_file(str(model)[0:10]+\".html\")"
      ],
      "metadata": {
        "id": "8K5w1CNpJv3u"
      },
      "execution_count": null,
      "outputs": []
    },
    {
      "cell_type": "code",
      "source": [
        "row = int(input(\"Enter the index of row to explain: \"))\n",
        "\n",
        "num_features,top_labels = 6,4\n",
        "LIME_EXP(model,row,num_features,top_labels)"
      ],
      "metadata": {
        "id": "a0sh-gkAJvbb"
      },
      "execution_count": null,
      "outputs": []
    },
    {
      "cell_type": "code",
      "source": [],
      "metadata": {
        "id": "2sTvK1JnJrMx"
      },
      "execution_count": null,
      "outputs": []
    }
  ]
}