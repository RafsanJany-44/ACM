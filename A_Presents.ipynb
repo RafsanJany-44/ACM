{
  "nbformat": 4,
  "nbformat_minor": 0,
  "metadata": {
    "colab": {
      "name": "A. Presents.ipynb",
      "provenance": [],
      "authorship_tag": "ABX9TyNAPQAEMKEio8dcfkfjLOYX",
      "include_colab_link": true
    },
    "kernelspec": {
      "name": "python3",
      "display_name": "Python 3"
    }
  },
  "cells": [
    {
      "cell_type": "markdown",
      "metadata": {
        "id": "view-in-github",
        "colab_type": "text"
      },
      "source": [
        "<a href=\"https://colab.research.google.com/github/RafsanJany-44/practice_cell/blob/master/A_Presents.ipynb\" target=\"_parent\"><img src=\"https://colab.research.google.com/assets/colab-badge.svg\" alt=\"Open In Colab\"/></a>"
      ]
    },
    {
      "cell_type": "code",
      "metadata": {
        "colab": {
          "base_uri": "https://localhost:8080/"
        },
        "id": "wtX36B2_46k5",
        "outputId": "2ad5efe4-eef7-4414-8b3f-faa23cbd3e78"
      },
      "source": [
        "n=int(input())\n",
        "talika=list(map(int,input().split()))\n",
        "\n",
        "talika2=[]\n",
        "for i in range(len(talika)):\n",
        "  talika2.append(talika.index(i+1)+1)\n",
        "print(*talika2,sep=' ')"
      ],
      "execution_count": 23,
      "outputs": [
        {
          "output_type": "stream",
          "text": [
            "5\n",
            "2 3 1 4\n",
            "[2, 3, 1, 4]\n",
            "3 1 2 4\n"
          ],
          "name": "stdout"
        }
      ]
    },
    {
      "cell_type": "code",
      "metadata": {
        "colab": {
          "base_uri": "https://localhost:8080/"
        },
        "id": "9GWKm713Irz4",
        "outputId": "be35dee4-138e-49ba-ad22-0fa5a79ad0b4"
      },
      "source": [
        ""
      ],
      "execution_count": 22,
      "outputs": [
        {
          "output_type": "stream",
          "text": [
            "4 1 2 3\n"
          ],
          "name": "stdout"
        }
      ]
    }
  ]
}