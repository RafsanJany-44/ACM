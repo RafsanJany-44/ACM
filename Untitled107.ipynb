{
  "nbformat": 4,
  "nbformat_minor": 0,
  "metadata": {
    "colab": {
      "provenance": [],
      "authorship_tag": "ABX9TyPGsKlIBKIkbV/A6iIi2AAg",
      "include_colab_link": true
    },
    "kernelspec": {
      "name": "python3",
      "display_name": "Python 3"
    },
    "language_info": {
      "name": "python"
    },
    "widgets": {
      "application/vnd.jupyter.widget-state+json": {
        "d1e38fc16aea4a3285c3f77dc9af9711": {
          "model_module": "@jupyter-widgets/controls",
          "model_name": "HBoxModel",
          "model_module_version": "1.5.0",
          "state": {
            "_dom_classes": [],
            "_model_module": "@jupyter-widgets/controls",
            "_model_module_version": "1.5.0",
            "_model_name": "HBoxModel",
            "_view_count": null,
            "_view_module": "@jupyter-widgets/controls",
            "_view_module_version": "1.5.0",
            "_view_name": "HBoxView",
            "box_style": "",
            "children": [
              "IPY_MODEL_21784a4175c640f7b30ea087ff3696ef",
              "IPY_MODEL_38b7c9c9bc464b1faa5db051163180aa",
              "IPY_MODEL_84e773966c7346a084e2b4bfe295f7f3"
            ],
            "layout": "IPY_MODEL_26db72e8f1b444da919def447d596380"
          }
        },
        "21784a4175c640f7b30ea087ff3696ef": {
          "model_module": "@jupyter-widgets/controls",
          "model_name": "HTMLModel",
          "model_module_version": "1.5.0",
          "state": {
            "_dom_classes": [],
            "_model_module": "@jupyter-widgets/controls",
            "_model_module_version": "1.5.0",
            "_model_name": "HTMLModel",
            "_view_count": null,
            "_view_module": "@jupyter-widgets/controls",
            "_view_module_version": "1.5.0",
            "_view_name": "HTMLView",
            "description": "",
            "description_tooltip": null,
            "layout": "IPY_MODEL_66a4fc1ac12e4e7a9685d4e5ef9d6c45",
            "placeholder": "​",
            "style": "IPY_MODEL_29bdc63ea41a408683db858f7077107c",
            "value": "  1%"
          }
        },
        "38b7c9c9bc464b1faa5db051163180aa": {
          "model_module": "@jupyter-widgets/controls",
          "model_name": "FloatProgressModel",
          "model_module_version": "1.5.0",
          "state": {
            "_dom_classes": [],
            "_model_module": "@jupyter-widgets/controls",
            "_model_module_version": "1.5.0",
            "_model_name": "FloatProgressModel",
            "_view_count": null,
            "_view_module": "@jupyter-widgets/controls",
            "_view_module_version": "1.5.0",
            "_view_name": "ProgressView",
            "bar_style": "",
            "description": "",
            "description_tooltip": null,
            "layout": "IPY_MODEL_232550e9d8bb49c2bef7be8db25b7f5b",
            "max": 350946,
            "min": 0,
            "orientation": "horizontal",
            "style": "IPY_MODEL_0aab9bbed294422fab9804db68e3187f",
            "value": 4994
          }
        },
        "84e773966c7346a084e2b4bfe295f7f3": {
          "model_module": "@jupyter-widgets/controls",
          "model_name": "HTMLModel",
          "model_module_version": "1.5.0",
          "state": {
            "_dom_classes": [],
            "_model_module": "@jupyter-widgets/controls",
            "_model_module_version": "1.5.0",
            "_model_name": "HTMLModel",
            "_view_count": null,
            "_view_module": "@jupyter-widgets/controls",
            "_view_module_version": "1.5.0",
            "_view_name": "HTMLView",
            "description": "",
            "description_tooltip": null,
            "layout": "IPY_MODEL_1408d1ff197c45d3ab71c949379f6ef0",
            "placeholder": "​",
            "style": "IPY_MODEL_2c12f4d17a6849218682aa6ab8f7bfd3",
            "value": " 4994/350946 [01:34&lt;1:36:50, 59.54it/s]"
          }
        },
        "26db72e8f1b444da919def447d596380": {
          "model_module": "@jupyter-widgets/base",
          "model_name": "LayoutModel",
          "model_module_version": "1.2.0",
          "state": {
            "_model_module": "@jupyter-widgets/base",
            "_model_module_version": "1.2.0",
            "_model_name": "LayoutModel",
            "_view_count": null,
            "_view_module": "@jupyter-widgets/base",
            "_view_module_version": "1.2.0",
            "_view_name": "LayoutView",
            "align_content": null,
            "align_items": null,
            "align_self": null,
            "border": null,
            "bottom": null,
            "display": null,
            "flex": null,
            "flex_flow": null,
            "grid_area": null,
            "grid_auto_columns": null,
            "grid_auto_flow": null,
            "grid_auto_rows": null,
            "grid_column": null,
            "grid_gap": null,
            "grid_row": null,
            "grid_template_areas": null,
            "grid_template_columns": null,
            "grid_template_rows": null,
            "height": null,
            "justify_content": null,
            "justify_items": null,
            "left": null,
            "margin": null,
            "max_height": null,
            "max_width": null,
            "min_height": null,
            "min_width": null,
            "object_fit": null,
            "object_position": null,
            "order": null,
            "overflow": null,
            "overflow_x": null,
            "overflow_y": null,
            "padding": null,
            "right": null,
            "top": null,
            "visibility": null,
            "width": null
          }
        },
        "66a4fc1ac12e4e7a9685d4e5ef9d6c45": {
          "model_module": "@jupyter-widgets/base",
          "model_name": "LayoutModel",
          "model_module_version": "1.2.0",
          "state": {
            "_model_module": "@jupyter-widgets/base",
            "_model_module_version": "1.2.0",
            "_model_name": "LayoutModel",
            "_view_count": null,
            "_view_module": "@jupyter-widgets/base",
            "_view_module_version": "1.2.0",
            "_view_name": "LayoutView",
            "align_content": null,
            "align_items": null,
            "align_self": null,
            "border": null,
            "bottom": null,
            "display": null,
            "flex": null,
            "flex_flow": null,
            "grid_area": null,
            "grid_auto_columns": null,
            "grid_auto_flow": null,
            "grid_auto_rows": null,
            "grid_column": null,
            "grid_gap": null,
            "grid_row": null,
            "grid_template_areas": null,
            "grid_template_columns": null,
            "grid_template_rows": null,
            "height": null,
            "justify_content": null,
            "justify_items": null,
            "left": null,
            "margin": null,
            "max_height": null,
            "max_width": null,
            "min_height": null,
            "min_width": null,
            "object_fit": null,
            "object_position": null,
            "order": null,
            "overflow": null,
            "overflow_x": null,
            "overflow_y": null,
            "padding": null,
            "right": null,
            "top": null,
            "visibility": null,
            "width": null
          }
        },
        "29bdc63ea41a408683db858f7077107c": {
          "model_module": "@jupyter-widgets/controls",
          "model_name": "DescriptionStyleModel",
          "model_module_version": "1.5.0",
          "state": {
            "_model_module": "@jupyter-widgets/controls",
            "_model_module_version": "1.5.0",
            "_model_name": "DescriptionStyleModel",
            "_view_count": null,
            "_view_module": "@jupyter-widgets/base",
            "_view_module_version": "1.2.0",
            "_view_name": "StyleView",
            "description_width": ""
          }
        },
        "232550e9d8bb49c2bef7be8db25b7f5b": {
          "model_module": "@jupyter-widgets/base",
          "model_name": "LayoutModel",
          "model_module_version": "1.2.0",
          "state": {
            "_model_module": "@jupyter-widgets/base",
            "_model_module_version": "1.2.0",
            "_model_name": "LayoutModel",
            "_view_count": null,
            "_view_module": "@jupyter-widgets/base",
            "_view_module_version": "1.2.0",
            "_view_name": "LayoutView",
            "align_content": null,
            "align_items": null,
            "align_self": null,
            "border": null,
            "bottom": null,
            "display": null,
            "flex": null,
            "flex_flow": null,
            "grid_area": null,
            "grid_auto_columns": null,
            "grid_auto_flow": null,
            "grid_auto_rows": null,
            "grid_column": null,
            "grid_gap": null,
            "grid_row": null,
            "grid_template_areas": null,
            "grid_template_columns": null,
            "grid_template_rows": null,
            "height": null,
            "justify_content": null,
            "justify_items": null,
            "left": null,
            "margin": null,
            "max_height": null,
            "max_width": null,
            "min_height": null,
            "min_width": null,
            "object_fit": null,
            "object_position": null,
            "order": null,
            "overflow": null,
            "overflow_x": null,
            "overflow_y": null,
            "padding": null,
            "right": null,
            "top": null,
            "visibility": null,
            "width": null
          }
        },
        "0aab9bbed294422fab9804db68e3187f": {
          "model_module": "@jupyter-widgets/controls",
          "model_name": "ProgressStyleModel",
          "model_module_version": "1.5.0",
          "state": {
            "_model_module": "@jupyter-widgets/controls",
            "_model_module_version": "1.5.0",
            "_model_name": "ProgressStyleModel",
            "_view_count": null,
            "_view_module": "@jupyter-widgets/base",
            "_view_module_version": "1.2.0",
            "_view_name": "StyleView",
            "bar_color": null,
            "description_width": ""
          }
        },
        "1408d1ff197c45d3ab71c949379f6ef0": {
          "model_module": "@jupyter-widgets/base",
          "model_name": "LayoutModel",
          "model_module_version": "1.2.0",
          "state": {
            "_model_module": "@jupyter-widgets/base",
            "_model_module_version": "1.2.0",
            "_model_name": "LayoutModel",
            "_view_count": null,
            "_view_module": "@jupyter-widgets/base",
            "_view_module_version": "1.2.0",
            "_view_name": "LayoutView",
            "align_content": null,
            "align_items": null,
            "align_self": null,
            "border": null,
            "bottom": null,
            "display": null,
            "flex": null,
            "flex_flow": null,
            "grid_area": null,
            "grid_auto_columns": null,
            "grid_auto_flow": null,
            "grid_auto_rows": null,
            "grid_column": null,
            "grid_gap": null,
            "grid_row": null,
            "grid_template_areas": null,
            "grid_template_columns": null,
            "grid_template_rows": null,
            "height": null,
            "justify_content": null,
            "justify_items": null,
            "left": null,
            "margin": null,
            "max_height": null,
            "max_width": null,
            "min_height": null,
            "min_width": null,
            "object_fit": null,
            "object_position": null,
            "order": null,
            "overflow": null,
            "overflow_x": null,
            "overflow_y": null,
            "padding": null,
            "right": null,
            "top": null,
            "visibility": null,
            "width": null
          }
        },
        "2c12f4d17a6849218682aa6ab8f7bfd3": {
          "model_module": "@jupyter-widgets/controls",
          "model_name": "DescriptionStyleModel",
          "model_module_version": "1.5.0",
          "state": {
            "_model_module": "@jupyter-widgets/controls",
            "_model_module_version": "1.5.0",
            "_model_name": "DescriptionStyleModel",
            "_view_count": null,
            "_view_module": "@jupyter-widgets/base",
            "_view_module_version": "1.2.0",
            "_view_name": "StyleView",
            "description_width": ""
          }
        }
      }
    }
  },
  "cells": [
    {
      "cell_type": "markdown",
      "metadata": {
        "id": "view-in-github",
        "colab_type": "text"
      },
      "source": [
        "<a href=\"https://colab.research.google.com/github/RafsanJany-44/ARC/blob/master/Untitled107.ipynb\" target=\"_parent\"><img src=\"https://colab.research.google.com/assets/colab-badge.svg\" alt=\"Open In Colab\"/></a>"
      ]
    },
    {
      "cell_type": "code",
      "execution_count": 1,
      "metadata": {
        "colab": {
          "base_uri": "https://localhost:8080/"
        },
        "id": "kaOpuvkR3h5t",
        "outputId": "7d64e927-6c2c-47f0-caa4-ece32a9e3575"
      },
      "outputs": [
        {
          "output_type": "stream",
          "name": "stdout",
          "text": [
            "Mounted at /content/drive\n"
          ]
        }
      ],
      "source": [
        "from google.colab import drive\n",
        "drive.mount('/content/drive')"
      ]
    },
    {
      "cell_type": "code",
      "source": [
        "!pip install glob2\n",
        "     "
      ],
      "metadata": {
        "colab": {
          "base_uri": "https://localhost:8080/"
        },
        "id": "rMWhsk3w8hFd",
        "outputId": "3ece763a-2bd7-433b-95f4-56da04d0f681"
      },
      "execution_count": 2,
      "outputs": [
        {
          "output_type": "stream",
          "name": "stdout",
          "text": [
            "Looking in indexes: https://pypi.org/simple, https://us-python.pkg.dev/colab-wheels/public/simple/\n",
            "Requirement already satisfied: glob2 in /usr/local/lib/python3.10/dist-packages (0.7)\n"
          ]
        }
      ]
    },
    {
      "cell_type": "code",
      "source": [
        "from glob import glob\n",
        "import os\n",
        "import pandas as pd\n",
        "path = \"/content/drive/MyDrive/Iqram Sir/Fitabase data pulls - seperate\""
      ],
      "metadata": {
        "id": "VvaFBjxx9zCL"
      },
      "execution_count": 3,
      "outputs": []
    },
    {
      "cell_type": "code",
      "source": [
        "import matplotlib\n",
        "import matplotlib.pyplot as plt\n",
        "import numpy as np\n",
        "from sklearn.linear_model import LinearRegression\n",
        "from tqdm.notebook import tqdm\n",
        "\n",
        "def get_content(patient_folder_adrs):\n",
        "\n",
        "  post_adrs = sorted(glob(patient_folder_adrs+\"/*\"))[0]\n",
        "  \n",
        "\n",
        "  pre_adrs = sorted(glob(patient_folder_adrs+\"/*\"))[1]\n",
        "\n",
        "  for i in glob(post_adrs+\"/*\"):\n",
        "    content = i.split(\"_\")\n",
        "    if \"heartrate\" in content and \"seconds\" in content:\n",
        "      post_sec = i\n",
        "    if \"minuteMETsNarrow\" in content:\n",
        "      post_met = i\n",
        "\n",
        "\n",
        "  for i in glob(pre_adrs+\"/*\"):\n",
        "    content = i.split(\"_\")\n",
        "    if \"heartrate\" in content and \"seconds\" in content:\n",
        "      pre_sec = i\n",
        "    if \"minuteMETsNarrow\" in content:\n",
        "      pre_met = i\n",
        " \n",
        "  return post_sec,post_met, pre_sec, pre_met\n",
        "\n",
        "\n",
        "\n",
        "\n",
        "\n",
        "def signle_sample(df_1min,df_met):\n",
        "  list_1 = list(df_1min[\"Time\"])\n",
        "  list_3 = list(df_met[\"ActivityMinute\"])\n",
        "\n",
        "\n",
        "  hr = []\n",
        "  time = []\n",
        "  mets = []\n",
        "\n",
        "  if len(list_1)>len(list_3):\n",
        "    for i in tqdm(list_1):\n",
        "      if  i in list_3:\n",
        "        hr.append(list(df_1min.query(\"Time == '\"+i+\"'\")['Value'])[0])\n",
        "        mets.append(list(df_met.query(\"ActivityMinute == '\"+i+\"'\")['METs'])[0])\n",
        "        time.append(i)\n",
        "\n",
        "  else:\n",
        "    for i in tqdm(list_3):\n",
        "      if i in list_1:\n",
        "        hr.append(list(df_1min.query(\"Time == '\"+i+\"'\")['Value'])[0])\n",
        "        mets.append(list(df_met.query(\"ActivityMinute == '\"+i+\"'\")['METs'])[0])\n",
        "        time.append(i)\n",
        "\n",
        "  d={\n",
        "    \"Time\" : time,\n",
        "     \"HR(BPM)\" : hr,\n",
        "     \"METs\" : mets\n",
        "  }\n",
        "\n",
        "  dataFrame = pd.DataFrame.from_dict(d)\n",
        "  return dataFrame\n",
        "\n",
        "\n",
        "def test_signle_sample(data,df_1min,df_met):\n",
        "  total_row = data.shape[0]\n",
        "  print(\"Total DataRow: \",total_row)\n",
        "\n",
        "  err_row=[]\n",
        "\n",
        "  for i in tqdm(range(total_row)):\n",
        "    print(data[\"Time\"][i], data['HR(BPM)'][i],data['METs'][i])\n",
        "\n",
        "    hr = list(df_1min.query(\"Time == '\"+data[\"Time\"][i]+\"'\")['Value'])[0]\n",
        "    mets = list(df_met.query(\"ActivityMinute == '\"+data[\"Time\"][i]+\"'\")['METs'])[0]\n",
        "    print(hr,mets)\n",
        "    print(\"------------------------------------------------------------\")\n",
        "\n",
        "    if hr != data['HR(BPM)'][i] or mets != data['METs'][i]:\n",
        "      err_row.append((data[\"Time\"][i],i))\n",
        "  return err_row\n",
        "\n",
        "\n",
        "\n",
        "\n",
        "def range_list(k):\n",
        "  list_of = []\n",
        "  main_list = []\n",
        "\n",
        "  for i in range(len(k)-1):\n",
        " \n",
        "    if k[i+1]-k[i] == 1:\n",
        "      list_of.append(k[i])\n",
        "    else:\n",
        "      list_of.append(k[i])\n",
        "      main_list.append(list_of)\n",
        "      list_of=[]\n",
        "    if i == len(k)-2:\n",
        "      if k[i+1]-k[i] == 1:\n",
        "        list_of.append(k[i+1])\n",
        "        main_list.append(list_of)\n",
        "      else:\n",
        "        main_list.append([k[i+1]])\n",
        "  \n",
        "  return main_list\n",
        "\n",
        "\n",
        "\n",
        "\n",
        "\n",
        "\n",
        "def mets_minute_refine(data,minutes,upper_lim,lower_lim):\n",
        "\n",
        "  mets_none = []\n",
        "  mets_more = []\n",
        "  for i in range(data.shape[0]):\n",
        "\n",
        "    if lower_lim< data[\"METs\"][i] <= upper_lim:\n",
        "    #if data[\"METs\"][i] > 10:\n",
        "      mets_more.append(i)\n",
        "    else:\n",
        "      mets_none.append(i)\n",
        "\n",
        "  main_l = range_list(mets_more)\n",
        "\n",
        "  removable_list = []\n",
        "  for i in range(len(main_l)-1):\n",
        "    if len(main_l[i]) < minutes+1:\n",
        "      for j in main_l[i]:\n",
        "        removable_list.append(j)\n",
        "\n",
        "  df1=data.drop(data.index[mets_none+removable_list]).reset_index()\n",
        "  return df1\n",
        "\n",
        "\n",
        "\n",
        "\n",
        "\n",
        "from datetime import datetime\n",
        "\n",
        "def formate24(t):\n",
        "  time = t.split(\" \")\n",
        "  m2 = time[1]+\" \"+time[2]\n",
        "  in_time = datetime.strptime(m2, \"%I:%M:%S %p\")\n",
        "  out_time = datetime.strftime(in_time, \"%H:%M:%S\")\n",
        "  return out_time\n",
        "\n",
        "\n",
        "def dif_min(start_time, end_time):\n",
        "  t1 = datetime.strptime(start_time, \"%H:%M:%S\")\n",
        "  t2 = datetime.strptime(end_time, \"%H:%M:%S\")\n",
        "\n",
        "  delta = t2 - t1\n",
        "\n",
        "  return delta.total_seconds()/60\n",
        "\n",
        "\n",
        "\n",
        "\n",
        "\n",
        "\n",
        "\n",
        "def time_limit_check(test_data,min_limit):\n",
        "  time_diff_list = []\n",
        "  let = range_list(list(test_data['index']))\n",
        "  for i in tqdm(let):\n",
        "\n",
        "    start_time = formate24(list(test_data.query(\"index == \"+str(i[0])+\"\")['Time'])[0])\n",
        "    end_time = formate24(list(test_data.query(\"index == \"+str(i[-1])+\"\")['Time'])[0])\n",
        "    diff = dif_min(start_time,end_time)\n",
        "    if diff < min_limit:\n",
        "      time_diff_list.append(i)\n",
        "  \n",
        "  return time_diff_list\n",
        "\n",
        "\n",
        "def single_segment_refine(single_list,min_limit):\n",
        "  temp = []\n",
        "  main = []\n",
        "  if len(single_list)>1:\n",
        "    for i in range(len(single_list)-1):\n",
        "      k = formate24(list(test_data.query(\"index == \"+str(single_list[i+1])+\"\")['Time'])[0])\n",
        "      l = formate24(list(test_data.query(\"index == \"+str(single_list[i])+\"\")['Time'])[0])\n",
        "      diff = dif_min(l,k)\n",
        "      #print(k,l,diff)\n",
        "      if diff == 1 or diff == -1439.0:\n",
        "        temp.append(single_list[i])\n",
        "        flage = 1\n",
        "      else:\n",
        "        temp.append(single_list[i])\n",
        "        if len(temp) >= min_limit+1:\n",
        "          main.append(temp)\n",
        "        temp=[]\n",
        "        flage = 0\n",
        "\n",
        "    if flage == 1:\n",
        "      if len(temp) >= min_limit+1:\n",
        "        k = formate24(list(test_data.query(\"index == \"+str(single_list[i+1])+\"\")['Time'])[0])\n",
        "        l = formate24(list(test_data.query(\"index == \"+str(single_list[i])+\"\")['Time'])[0])\n",
        "        diff = dif_min(l,k)\n",
        "        if diff == 1 or diff == -1439.0:\n",
        "          temp.append(single_list[i+1])\n",
        "          main.append(temp)\n",
        "        else:\n",
        "          main.append(temp)\n",
        "\n",
        "\n",
        "  return main\n",
        "\n",
        "\n",
        "def final_refination(data,min_lim):\n",
        "  min_lim = 5\n",
        "  print(\"Time Limit Checking:\")\n",
        "  time_diff_list = time_limit_check(data,min_lim)\n",
        "  print()\n",
        "\n",
        "  removeable_list=[]\n",
        "\n",
        "  print(\"Unwanted index list making:\")\n",
        "  for i in tqdm(time_diff_list):\n",
        "  # print(i)\n",
        "    lis = single_segment_refine(i,min_lim)\n",
        "    combined = []\n",
        "\n",
        "    for j in lis:\n",
        "      combined=combined+j\n",
        "\n",
        "\n",
        "    for k in i:\n",
        "      if k not in combined:\n",
        "        removeable_list.append(k)\n",
        "  \n",
        "\n",
        "  print()\n",
        "  print(\"Refining Dataset:\")\n",
        "\n",
        "  for i in tqdm(removeable_list):\n",
        "    data.drop(data.loc[data['index']==i].index, inplace=True)\n",
        "\n",
        "  data.reset_index()\n",
        "\n",
        "  return data\n"
      ],
      "metadata": {
        "id": "IYbnxswk91QO"
      },
      "execution_count": 6,
      "outputs": []
    },
    {
      "cell_type": "code",
      "source": [
        "subject = '001-JV'\n",
        "\n",
        "\n",
        "\n",
        "for i in glob(path+\"/*\"):\n",
        "  if subject in i.split(\"/\"):\n",
        "    Post_sec,Post_met, Pre_sec,Pre_met = get_content(i)\n",
        "\n",
        "df_post_sec = pd.read_csv(Post_sec)\n",
        "df_post_met = pd.read_csv(Post_met)\n",
        "\n",
        "df_pre_sec = pd.read_csv(Pre_sec)\n",
        "df_pre_met = pd.read_csv(Pre_met)\n"
      ],
      "metadata": {
        "id": "-Wyyv84W91K4"
      },
      "execution_count": 7,
      "outputs": []
    },
    {
      "cell_type": "code",
      "source": [
        "df_pre_sec.head()"
      ],
      "metadata": {
        "colab": {
          "base_uri": "https://localhost:8080/",
          "height": 206
        },
        "id": "mUiiufA691Fv",
        "outputId": "eb43db16-300d-4d26-f298-636c08dd6892"
      },
      "execution_count": 9,
      "outputs": [
        {
          "output_type": "execute_result",
          "data": {
            "text/plain": [
              "                   Time  Value\n",
              "0  12/7/2021 3:52:33 PM     70\n",
              "1  12/7/2021 3:52:48 PM     70\n",
              "2  12/7/2021 3:52:58 PM     67\n",
              "3  12/7/2021 3:53:03 PM     65\n",
              "4  12/7/2021 3:53:18 PM     65"
            ],
            "text/html": [
              "\n",
              "  <div id=\"df-acd70537-fb07-47d6-ad25-0df7a197d40c\">\n",
              "    <div class=\"colab-df-container\">\n",
              "      <div>\n",
              "<style scoped>\n",
              "    .dataframe tbody tr th:only-of-type {\n",
              "        vertical-align: middle;\n",
              "    }\n",
              "\n",
              "    .dataframe tbody tr th {\n",
              "        vertical-align: top;\n",
              "    }\n",
              "\n",
              "    .dataframe thead th {\n",
              "        text-align: right;\n",
              "    }\n",
              "</style>\n",
              "<table border=\"1\" class=\"dataframe\">\n",
              "  <thead>\n",
              "    <tr style=\"text-align: right;\">\n",
              "      <th></th>\n",
              "      <th>Time</th>\n",
              "      <th>Value</th>\n",
              "    </tr>\n",
              "  </thead>\n",
              "  <tbody>\n",
              "    <tr>\n",
              "      <th>0</th>\n",
              "      <td>12/7/2021 3:52:33 PM</td>\n",
              "      <td>70</td>\n",
              "    </tr>\n",
              "    <tr>\n",
              "      <th>1</th>\n",
              "      <td>12/7/2021 3:52:48 PM</td>\n",
              "      <td>70</td>\n",
              "    </tr>\n",
              "    <tr>\n",
              "      <th>2</th>\n",
              "      <td>12/7/2021 3:52:58 PM</td>\n",
              "      <td>67</td>\n",
              "    </tr>\n",
              "    <tr>\n",
              "      <th>3</th>\n",
              "      <td>12/7/2021 3:53:03 PM</td>\n",
              "      <td>65</td>\n",
              "    </tr>\n",
              "    <tr>\n",
              "      <th>4</th>\n",
              "      <td>12/7/2021 3:53:18 PM</td>\n",
              "      <td>65</td>\n",
              "    </tr>\n",
              "  </tbody>\n",
              "</table>\n",
              "</div>\n",
              "      <button class=\"colab-df-convert\" onclick=\"convertToInteractive('df-acd70537-fb07-47d6-ad25-0df7a197d40c')\"\n",
              "              title=\"Convert this dataframe to an interactive table.\"\n",
              "              style=\"display:none;\">\n",
              "        \n",
              "  <svg xmlns=\"http://www.w3.org/2000/svg\" height=\"24px\"viewBox=\"0 0 24 24\"\n",
              "       width=\"24px\">\n",
              "    <path d=\"M0 0h24v24H0V0z\" fill=\"none\"/>\n",
              "    <path d=\"M18.56 5.44l.94 2.06.94-2.06 2.06-.94-2.06-.94-.94-2.06-.94 2.06-2.06.94zm-11 1L8.5 8.5l.94-2.06 2.06-.94-2.06-.94L8.5 2.5l-.94 2.06-2.06.94zm10 10l.94 2.06.94-2.06 2.06-.94-2.06-.94-.94-2.06-.94 2.06-2.06.94z\"/><path d=\"M17.41 7.96l-1.37-1.37c-.4-.4-.92-.59-1.43-.59-.52 0-1.04.2-1.43.59L10.3 9.45l-7.72 7.72c-.78.78-.78 2.05 0 2.83L4 21.41c.39.39.9.59 1.41.59.51 0 1.02-.2 1.41-.59l7.78-7.78 2.81-2.81c.8-.78.8-2.07 0-2.86zM5.41 20L4 18.59l7.72-7.72 1.47 1.35L5.41 20z\"/>\n",
              "  </svg>\n",
              "      </button>\n",
              "      \n",
              "  <style>\n",
              "    .colab-df-container {\n",
              "      display:flex;\n",
              "      flex-wrap:wrap;\n",
              "      gap: 12px;\n",
              "    }\n",
              "\n",
              "    .colab-df-convert {\n",
              "      background-color: #E8F0FE;\n",
              "      border: none;\n",
              "      border-radius: 50%;\n",
              "      cursor: pointer;\n",
              "      display: none;\n",
              "      fill: #1967D2;\n",
              "      height: 32px;\n",
              "      padding: 0 0 0 0;\n",
              "      width: 32px;\n",
              "    }\n",
              "\n",
              "    .colab-df-convert:hover {\n",
              "      background-color: #E2EBFA;\n",
              "      box-shadow: 0px 1px 2px rgba(60, 64, 67, 0.3), 0px 1px 3px 1px rgba(60, 64, 67, 0.15);\n",
              "      fill: #174EA6;\n",
              "    }\n",
              "\n",
              "    [theme=dark] .colab-df-convert {\n",
              "      background-color: #3B4455;\n",
              "      fill: #D2E3FC;\n",
              "    }\n",
              "\n",
              "    [theme=dark] .colab-df-convert:hover {\n",
              "      background-color: #434B5C;\n",
              "      box-shadow: 0px 1px 3px 1px rgba(0, 0, 0, 0.15);\n",
              "      filter: drop-shadow(0px 1px 2px rgba(0, 0, 0, 0.3));\n",
              "      fill: #FFFFFF;\n",
              "    }\n",
              "  </style>\n",
              "\n",
              "      <script>\n",
              "        const buttonEl =\n",
              "          document.querySelector('#df-acd70537-fb07-47d6-ad25-0df7a197d40c button.colab-df-convert');\n",
              "        buttonEl.style.display =\n",
              "          google.colab.kernel.accessAllowed ? 'block' : 'none';\n",
              "\n",
              "        async function convertToInteractive(key) {\n",
              "          const element = document.querySelector('#df-acd70537-fb07-47d6-ad25-0df7a197d40c');\n",
              "          const dataTable =\n",
              "            await google.colab.kernel.invokeFunction('convertToInteractive',\n",
              "                                                     [key], {});\n",
              "          if (!dataTable) return;\n",
              "\n",
              "          const docLinkHtml = 'Like what you see? Visit the ' +\n",
              "            '<a target=\"_blank\" href=https://colab.research.google.com/notebooks/data_table.ipynb>data table notebook</a>'\n",
              "            + ' to learn more about interactive tables.';\n",
              "          element.innerHTML = '';\n",
              "          dataTable['output_type'] = 'display_data';\n",
              "          await google.colab.output.renderOutput(dataTable, element);\n",
              "          const docLink = document.createElement('div');\n",
              "          docLink.innerHTML = docLinkHtml;\n",
              "          element.appendChild(docLink);\n",
              "        }\n",
              "      </script>\n",
              "    </div>\n",
              "  </div>\n",
              "  "
            ]
          },
          "metadata": {},
          "execution_count": 9
        }
      ]
    },
    {
      "cell_type": "code",
      "source": [
        "df_pre_met.head()"
      ],
      "metadata": {
        "colab": {
          "base_uri": "https://localhost:8080/",
          "height": 363
        },
        "id": "BOYTo4Ub90-u",
        "outputId": "1d3730f7-e583-4a90-b2b6-3046b97ac9ae"
      },
      "execution_count": 11,
      "outputs": [
        {
          "output_type": "execute_result",
          "data": {
            "text/plain": [
              "          ActivityMinute  METs\n",
              "0  12/3/2021 12:00:00 AM    10\n",
              "1  12/3/2021 12:01:00 AM    10\n",
              "2  12/3/2021 12:02:00 AM    10\n",
              "3  12/3/2021 12:03:00 AM    10\n",
              "4  12/3/2021 12:04:00 AM    10\n",
              "5  12/3/2021 12:05:00 AM    10\n",
              "6  12/3/2021 12:06:00 AM    10\n",
              "7  12/3/2021 12:07:00 AM    10\n",
              "8  12/3/2021 12:08:00 AM    10\n",
              "9  12/3/2021 12:09:00 AM    10"
            ],
            "text/html": [
              "\n",
              "  <div id=\"df-c6211504-f473-4d75-a563-b5ec5612f8b6\">\n",
              "    <div class=\"colab-df-container\">\n",
              "      <div>\n",
              "<style scoped>\n",
              "    .dataframe tbody tr th:only-of-type {\n",
              "        vertical-align: middle;\n",
              "    }\n",
              "\n",
              "    .dataframe tbody tr th {\n",
              "        vertical-align: top;\n",
              "    }\n",
              "\n",
              "    .dataframe thead th {\n",
              "        text-align: right;\n",
              "    }\n",
              "</style>\n",
              "<table border=\"1\" class=\"dataframe\">\n",
              "  <thead>\n",
              "    <tr style=\"text-align: right;\">\n",
              "      <th></th>\n",
              "      <th>ActivityMinute</th>\n",
              "      <th>METs</th>\n",
              "    </tr>\n",
              "  </thead>\n",
              "  <tbody>\n",
              "    <tr>\n",
              "      <th>0</th>\n",
              "      <td>12/3/2021 12:00:00 AM</td>\n",
              "      <td>10</td>\n",
              "    </tr>\n",
              "    <tr>\n",
              "      <th>1</th>\n",
              "      <td>12/3/2021 12:01:00 AM</td>\n",
              "      <td>10</td>\n",
              "    </tr>\n",
              "    <tr>\n",
              "      <th>2</th>\n",
              "      <td>12/3/2021 12:02:00 AM</td>\n",
              "      <td>10</td>\n",
              "    </tr>\n",
              "    <tr>\n",
              "      <th>3</th>\n",
              "      <td>12/3/2021 12:03:00 AM</td>\n",
              "      <td>10</td>\n",
              "    </tr>\n",
              "    <tr>\n",
              "      <th>4</th>\n",
              "      <td>12/3/2021 12:04:00 AM</td>\n",
              "      <td>10</td>\n",
              "    </tr>\n",
              "    <tr>\n",
              "      <th>5</th>\n",
              "      <td>12/3/2021 12:05:00 AM</td>\n",
              "      <td>10</td>\n",
              "    </tr>\n",
              "    <tr>\n",
              "      <th>6</th>\n",
              "      <td>12/3/2021 12:06:00 AM</td>\n",
              "      <td>10</td>\n",
              "    </tr>\n",
              "    <tr>\n",
              "      <th>7</th>\n",
              "      <td>12/3/2021 12:07:00 AM</td>\n",
              "      <td>10</td>\n",
              "    </tr>\n",
              "    <tr>\n",
              "      <th>8</th>\n",
              "      <td>12/3/2021 12:08:00 AM</td>\n",
              "      <td>10</td>\n",
              "    </tr>\n",
              "    <tr>\n",
              "      <th>9</th>\n",
              "      <td>12/3/2021 12:09:00 AM</td>\n",
              "      <td>10</td>\n",
              "    </tr>\n",
              "  </tbody>\n",
              "</table>\n",
              "</div>\n",
              "      <button class=\"colab-df-convert\" onclick=\"convertToInteractive('df-c6211504-f473-4d75-a563-b5ec5612f8b6')\"\n",
              "              title=\"Convert this dataframe to an interactive table.\"\n",
              "              style=\"display:none;\">\n",
              "        \n",
              "  <svg xmlns=\"http://www.w3.org/2000/svg\" height=\"24px\"viewBox=\"0 0 24 24\"\n",
              "       width=\"24px\">\n",
              "    <path d=\"M0 0h24v24H0V0z\" fill=\"none\"/>\n",
              "    <path d=\"M18.56 5.44l.94 2.06.94-2.06 2.06-.94-2.06-.94-.94-2.06-.94 2.06-2.06.94zm-11 1L8.5 8.5l.94-2.06 2.06-.94-2.06-.94L8.5 2.5l-.94 2.06-2.06.94zm10 10l.94 2.06.94-2.06 2.06-.94-2.06-.94-.94-2.06-.94 2.06-2.06.94z\"/><path d=\"M17.41 7.96l-1.37-1.37c-.4-.4-.92-.59-1.43-.59-.52 0-1.04.2-1.43.59L10.3 9.45l-7.72 7.72c-.78.78-.78 2.05 0 2.83L4 21.41c.39.39.9.59 1.41.59.51 0 1.02-.2 1.41-.59l7.78-7.78 2.81-2.81c.8-.78.8-2.07 0-2.86zM5.41 20L4 18.59l7.72-7.72 1.47 1.35L5.41 20z\"/>\n",
              "  </svg>\n",
              "      </button>\n",
              "      \n",
              "  <style>\n",
              "    .colab-df-container {\n",
              "      display:flex;\n",
              "      flex-wrap:wrap;\n",
              "      gap: 12px;\n",
              "    }\n",
              "\n",
              "    .colab-df-convert {\n",
              "      background-color: #E8F0FE;\n",
              "      border: none;\n",
              "      border-radius: 50%;\n",
              "      cursor: pointer;\n",
              "      display: none;\n",
              "      fill: #1967D2;\n",
              "      height: 32px;\n",
              "      padding: 0 0 0 0;\n",
              "      width: 32px;\n",
              "    }\n",
              "\n",
              "    .colab-df-convert:hover {\n",
              "      background-color: #E2EBFA;\n",
              "      box-shadow: 0px 1px 2px rgba(60, 64, 67, 0.3), 0px 1px 3px 1px rgba(60, 64, 67, 0.15);\n",
              "      fill: #174EA6;\n",
              "    }\n",
              "\n",
              "    [theme=dark] .colab-df-convert {\n",
              "      background-color: #3B4455;\n",
              "      fill: #D2E3FC;\n",
              "    }\n",
              "\n",
              "    [theme=dark] .colab-df-convert:hover {\n",
              "      background-color: #434B5C;\n",
              "      box-shadow: 0px 1px 3px 1px rgba(0, 0, 0, 0.15);\n",
              "      filter: drop-shadow(0px 1px 2px rgba(0, 0, 0, 0.3));\n",
              "      fill: #FFFFFF;\n",
              "    }\n",
              "  </style>\n",
              "\n",
              "      <script>\n",
              "        const buttonEl =\n",
              "          document.querySelector('#df-c6211504-f473-4d75-a563-b5ec5612f8b6 button.colab-df-convert');\n",
              "        buttonEl.style.display =\n",
              "          google.colab.kernel.accessAllowed ? 'block' : 'none';\n",
              "\n",
              "        async function convertToInteractive(key) {\n",
              "          const element = document.querySelector('#df-c6211504-f473-4d75-a563-b5ec5612f8b6');\n",
              "          const dataTable =\n",
              "            await google.colab.kernel.invokeFunction('convertToInteractive',\n",
              "                                                     [key], {});\n",
              "          if (!dataTable) return;\n",
              "\n",
              "          const docLinkHtml = 'Like what you see? Visit the ' +\n",
              "            '<a target=\"_blank\" href=https://colab.research.google.com/notebooks/data_table.ipynb>data table notebook</a>'\n",
              "            + ' to learn more about interactive tables.';\n",
              "          element.innerHTML = '';\n",
              "          dataTable['output_type'] = 'display_data';\n",
              "          await google.colab.output.renderOutput(dataTable, element);\n",
              "          const docLink = document.createElement('div');\n",
              "          docLink.innerHTML = docLinkHtml;\n",
              "          element.appendChild(docLink);\n",
              "        }\n",
              "      </script>\n",
              "    </div>\n",
              "  </div>\n",
              "  "
            ]
          },
          "metadata": {},
          "execution_count": 11
        }
      ]
    },
    {
      "cell_type": "code",
      "source": [
        "t1 = df_pre_sec['Time'][0]"
      ],
      "metadata": {
        "id": "bEg9cXIkECT9"
      },
      "execution_count": 20,
      "outputs": []
    },
    {
      "cell_type": "code",
      "source": [
        "t2 = df_pre_met['ActivityMinute'][5000]"
      ],
      "metadata": {
        "id": "eVFZAixYEDDA"
      },
      "execution_count": 27,
      "outputs": []
    },
    {
      "cell_type": "code",
      "source": [
        "print(t1,t2)"
      ],
      "metadata": {
        "colab": {
          "base_uri": "https://localhost:8080/"
        },
        "id": "hLrSc5LlI0iM",
        "outputId": "12e15342-13cb-4ede-faf4-e7dd3dfb79d1"
      },
      "execution_count": 28,
      "outputs": [
        {
          "output_type": "stream",
          "name": "stdout",
          "text": [
            "12/7/2021 3:52:33 PM 12/6/2021 11:20:00 AM\n"
          ]
        }
      ]
    },
    {
      "cell_type": "code",
      "source": [
        "from datetime import datetime\n",
        "\n",
        "def compare_dates(date1, date2):\n",
        "    # convert string to date\n",
        "    dt_obj1 = datetime.strptime(date1, \"%Y-%m-%d %H:%M:%S\")\n",
        "    dt_obj2 = datetime.strptime(date2, \"%Y-%m-%d %H:%M:%S\")\n",
        "    print('Date1:', dt_obj1)\n",
        "    print('Date2:', dt_obj2)\n",
        "\n",
        "    if dt_obj1 == dt_obj2:\n",
        "        print('Both dates are equal')\n",
        "    elif dt_obj1 > dt_obj2:\n",
        "        print('Date1 is greater than date2')\n",
        "    else:\n",
        "        print('Date1 is lower than date2')\n",
        "\n",
        "# datetime in yyyy-mm-dd hh:mm:ss format\n",
        "dt_str1 = '2022-10-29 8:32:49'\n",
        "dt_str2 = '2022-5-7 4:14:58'\n",
        "compare_dates(dt1_str1, dt2_str2)"
      ],
      "metadata": {
        "id": "b95dBI-kJS6w"
      },
      "execution_count": null,
      "outputs": []
    },
    {
      "cell_type": "code",
      "source": [
        "time = t.split(\" \")\n",
        "m2 = time[1]+\" \"+time[2]\n",
        "in_time = datetime.strptime(m2, \"%I:%M:%S %p\")\n",
        "out_time = datetime.strftime(in_time, \"%H:%M\")\n"
      ],
      "metadata": {
        "id": "2QgsHRlq908o"
      },
      "execution_count": 31,
      "outputs": []
    },
    {
      "cell_type": "code",
      "source": [],
      "metadata": {
        "id": "ialYRCI9Iday"
      },
      "execution_count": null,
      "outputs": []
    },
    {
      "cell_type": "code",
      "source": [
        "print(in_time)\n",
        "print(out_time)"
      ],
      "metadata": {
        "colab": {
          "base_uri": "https://localhost:8080/"
        },
        "id": "jQa3UaD99033",
        "outputId": "69c82bf8-5d74-4176-b12a-9fb159c76c8a"
      },
      "execution_count": 32,
      "outputs": [
        {
          "output_type": "stream",
          "name": "stdout",
          "text": [
            "1900-01-01 15:52:33\n",
            "15:52\n"
          ]
        }
      ]
    },
    {
      "cell_type": "code",
      "source": [],
      "metadata": {
        "id": "tCr4iwmz90yq"
      },
      "execution_count": 43,
      "outputs": []
    },
    {
      "cell_type": "code",
      "source": [
        "\n"
      ],
      "metadata": {
        "id": "6qZ4qqkY90li"
      },
      "execution_count": 41,
      "outputs": []
    },
    {
      "cell_type": "code",
      "source": [],
      "metadata": {
        "id": "9tQZuuV7WWrv"
      },
      "execution_count": null,
      "outputs": []
    },
    {
      "cell_type": "code",
      "source": [],
      "metadata": {
        "id": "zHTSftriWWlM"
      },
      "execution_count": null,
      "outputs": []
    },
    {
      "cell_type": "code",
      "source": [],
      "metadata": {
        "id": "vhTBsFUgWWYa"
      },
      "execution_count": null,
      "outputs": []
    },
    {
      "cell_type": "code",
      "source": [
        "def remove_sec(l):\n",
        "  k = datetime.strptime(l, \"%m/%d/%Y %H:%M:%S %p\")\n",
        "  out_time = datetime.strftime(k, \"%-m/%-d/%Y %-H:%M %p\")\n",
        "  return out_time\n",
        "\n",
        "\n",
        "def add_sec(l):\n",
        "  k = datetime.strptime(l, \"%m/%d/%Y %H:%M %p\")\n",
        "  out_time = datetime.strftime(k, \"%-m/%-d/%Y %-H:%M:%S %p\")\n",
        "  return out_time"
      ],
      "metadata": {
        "id": "ZBJ8gQHhWWJT"
      },
      "execution_count": 87,
      "outputs": []
    },
    {
      "cell_type": "code",
      "source": [
        "li_met = list(df_pre_met['ActivityMinute'])\n",
        "li_met_s = []\n",
        "li_sec = list(df_pre_sec['Time'])\n",
        "\n",
        "for i in li_met:\n",
        "  li_met_s.append(remove_sec(i))\n"
      ],
      "metadata": {
        "id": "Cw1SK0N3UUIX"
      },
      "execution_count": 89,
      "outputs": []
    },
    {
      "cell_type": "code",
      "source": [
        "activity_time=[]\n",
        "hr=[]\n",
        "mets=[]\n",
        "\n",
        "\n",
        "for i in tqdm(li_sec):\n",
        "  if remove_sec(i) in li_met_s:\n",
        "    activity_time.append(i)\n",
        "    hr.append(list(df_pre_sec.query(\"Time == '\"+i+\"'\")['Value'])[0])\n",
        "    mets.append(list(df_pre_met.query(\"ActivityMinute == '\"+add_sec(remove_sec(i))+\"'\")['METs'])[0])\n",
        "\n",
        "\n",
        "d={\n",
        "  \"ActivityMinute\" : activity_time,\n",
        "  \"HR(BPM)\" : hr,\n",
        "  \"METs\" : mets\n",
        "}\n",
        "\n",
        "dataFrame = pd.DataFrame.from_dict(d)\n"
      ],
      "metadata": {
        "colab": {
          "base_uri": "https://localhost:8080/",
          "height": 49,
          "referenced_widgets": [
            "d1e38fc16aea4a3285c3f77dc9af9711",
            "21784a4175c640f7b30ea087ff3696ef",
            "38b7c9c9bc464b1faa5db051163180aa",
            "84e773966c7346a084e2b4bfe295f7f3",
            "26db72e8f1b444da919def447d596380",
            "66a4fc1ac12e4e7a9685d4e5ef9d6c45",
            "29bdc63ea41a408683db858f7077107c",
            "232550e9d8bb49c2bef7be8db25b7f5b",
            "0aab9bbed294422fab9804db68e3187f",
            "1408d1ff197c45d3ab71c949379f6ef0",
            "2c12f4d17a6849218682aa6ab8f7bfd3"
          ]
        },
        "id": "k2uQEEptVK3K",
        "outputId": "7eb195dc-3e83-438c-d4d0-1450c4e57c99"
      },
      "execution_count": null,
      "outputs": [
        {
          "output_type": "display_data",
          "data": {
            "text/plain": [
              "  0%|          | 0/350946 [00:00<?, ?it/s]"
            ],
            "application/vnd.jupyter.widget-view+json": {
              "version_major": 2,
              "version_minor": 0,
              "model_id": "d1e38fc16aea4a3285c3f77dc9af9711"
            }
          },
          "metadata": {}
        }
      ]
    },
    {
      "cell_type": "code",
      "source": [
        "add_sec(remove_sec(i))"
      ],
      "metadata": {
        "colab": {
          "base_uri": "https://localhost:8080/",
          "height": 36
        },
        "id": "qwXu8wmDZJPU",
        "outputId": "9a27f774-7f94-484e-df27-4050ec5e5303"
      },
      "execution_count": 88,
      "outputs": [
        {
          "output_type": "execute_result",
          "data": {
            "text/plain": [
              "'12/10/2021 1:00:00 AM'"
            ],
            "application/vnd.google.colaboratory.intrinsic+json": {
              "type": "string"
            }
          },
          "metadata": {},
          "execution_count": 88
        }
      ]
    },
    {
      "cell_type": "code",
      "source": [
        "li_met_s.index(remove_sec(i))"
      ],
      "metadata": {
        "colab": {
          "base_uri": "https://localhost:8080/"
        },
        "id": "8ep8PxOeZMuE",
        "outputId": "ec06dbfc-37f2-4085-920a-f612982b0106"
      },
      "execution_count": 84,
      "outputs": [
        {
          "output_type": "execute_result",
          "data": {
            "text/plain": [
              "10140"
            ]
          },
          "metadata": {},
          "execution_count": 84
        }
      ]
    },
    {
      "cell_type": "code",
      "source": [
        "li_met[li_met_s.index(remove_sec(i))]"
      ],
      "metadata": {
        "colab": {
          "base_uri": "https://localhost:8080/",
          "height": 36
        },
        "id": "A2bn9oy5Zkti",
        "outputId": "1950b516-e9c7-4338-f00d-d7003af7ef99"
      },
      "execution_count": 85,
      "outputs": [
        {
          "output_type": "execute_result",
          "data": {
            "text/plain": [
              "'12/10/2021 1:00:00 AM'"
            ],
            "application/vnd.google.colaboratory.intrinsic+json": {
              "type": "string"
            }
          },
          "metadata": {},
          "execution_count": 85
        }
      ]
    },
    {
      "cell_type": "code",
      "source": [
        "list(df_pre_met.query(\"ActivityMinute == '\"+add_sec(remove_sec(i))+\"'\")['METs'])"
      ],
      "metadata": {
        "colab": {
          "base_uri": "https://localhost:8080/"
        },
        "id": "wyBCuh_7ZEVR",
        "outputId": "76e15e4c-9ce9-49f1-bf63-b1c1147ec39d"
      },
      "execution_count": 86,
      "outputs": [
        {
          "output_type": "execute_result",
          "data": {
            "text/plain": [
              "[]"
            ]
          },
          "metadata": {},
          "execution_count": 86
        }
      ]
    },
    {
      "cell_type": "code",
      "source": [
        "print(remove_sec(li_met[0]))"
      ],
      "metadata": {
        "colab": {
          "base_uri": "https://localhost:8080/"
        },
        "id": "VjnoD_DP90gk",
        "outputId": "ee2525e1-65df-4e7a-c29b-1a4c3bb7ddb7"
      },
      "execution_count": 45,
      "outputs": [
        {
          "output_type": "stream",
          "name": "stdout",
          "text": [
            "12/03/2021 12:00 PM\n"
          ]
        }
      ]
    },
    {
      "cell_type": "code",
      "source": [
        " print(add_sec(remove_sec(li_sec[0])))"
      ],
      "metadata": {
        "colab": {
          "base_uri": "https://localhost:8080/"
        },
        "id": "oPNtjlez90cL",
        "outputId": "bdaa6017-eca0-4047-9eee-046284f7b8b5"
      },
      "execution_count": 56,
      "outputs": [
        {
          "output_type": "stream",
          "name": "stdout",
          "text": [
            "12/07/2021 03:52:00 AM\n"
          ]
        }
      ]
    },
    {
      "cell_type": "code",
      "source": [
        "\n",
        "\n"
      ],
      "metadata": {
        "id": "w5vt4K5DTjIJ"
      },
      "execution_count": null,
      "outputs": []
    }
  ]
}