{
  "nbformat": 4,
  "nbformat_minor": 0,
  "metadata": {
    "colab": {
      "name": "SignalReading.ipynb",
      "provenance": [],
      "authorship_tag": "ABX9TyPGhhp525+xf3txXSRxW5sa",
      "include_colab_link": true
    },
    "kernelspec": {
      "name": "python3",
      "display_name": "Python 3"
    },
    "language_info": {
      "name": "python"
    }
  },
  "cells": [
    {
      "cell_type": "markdown",
      "metadata": {
        "id": "view-in-github",
        "colab_type": "text"
      },
      "source": [
        "<a href=\"https://colab.research.google.com/github/RafsanJany-44/ACM/blob/master/SignalReading.ipynb\" target=\"_parent\"><img src=\"https://colab.research.google.com/assets/colab-badge.svg\" alt=\"Open In Colab\"/></a>"
      ]
    },
    {
      "cell_type": "code",
      "execution_count": null,
      "metadata": {
        "id": "W7hT7JKHxjHA"
      },
      "outputs": [],
      "source": [
        "import os\n",
        "import numpy as np\n",
        "import pandas as pd\n",
        "import matplotlib.pyplot as plt\n",
        "\n",
        "from sklearn.pipeline import Pipeline\n",
        "from sklearn.discriminant_analysis import LinearDiscriminantAnalysis\n",
        "from sklearn.model_selection import ShuffleSplit, cross_val_score\n",
        "\n",
        "from mne import Epochs, pick_types, find_events, pick_types, set_eeg_reference\n",
        "from mne.channels import read_layout\n",
        "from mne.io import concatenate_raws, read_raw_edf\n",
        "from mne.datasets import eegbci\n",
        "from mne.decoding import CSP\n",
        "from mne import viz\n",
        "\n",
        "%matplotlib inline"
      ]
    }
  ]
}