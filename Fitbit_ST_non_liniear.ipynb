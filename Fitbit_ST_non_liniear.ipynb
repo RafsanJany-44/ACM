{
  "nbformat": 4,
  "nbformat_minor": 0,
  "metadata": {
    "colab": {
      "provenance": [],
      "collapsed_sections": [
        "sx7QykGeXzjI",
        "qXdK1hpkYVmJ"
      ],
      "include_colab_link": true
    },
    "kernelspec": {
      "name": "python3",
      "display_name": "Python 3"
    },
    "language_info": {
      "name": "python"
    }
  },
  "cells": [
    {
      "cell_type": "markdown",
      "metadata": {
        "id": "view-in-github",
        "colab_type": "text"
      },
      "source": [
        "<a href=\"https://colab.research.google.com/github/RafsanJany-44/ARC/blob/master/Fitbit_ST_non_liniear.ipynb\" target=\"_parent\"><img src=\"https://colab.research.google.com/assets/colab-badge.svg\" alt=\"Open In Colab\"/></a>"
      ]
    },
    {
      "cell_type": "code",
      "execution_count": 1,
      "metadata": {
        "colab": {
          "base_uri": "https://localhost:8080/"
        },
        "id": "vj6jHu9WkVnY",
        "outputId": "29cb2def-4287-40a6-e747-b143d2071d53"
      },
      "outputs": [
        {
          "output_type": "stream",
          "name": "stdout",
          "text": [
            "Mounted at /content/drive\n"
          ]
        }
      ],
      "source": [
        "from google.colab import drive\n",
        "drive.mount('/content/drive')"
      ]
    },
    {
      "cell_type": "code",
      "source": [
        "import seaborn as sns\n",
        "\n",
        "\n",
        "\n",
        "def prim_plot(y_actual,y_pred):\n",
        "  pred_y_df=pd.DataFrame(\n",
        "      {\n",
        "          \"Actual_Value\":y_actual,\n",
        "          \"Predicted_Value\":y_pred,\n",
        "          \"Difference\":y_actual-y_pred\n",
        "      }\n",
        "  )\n",
        "\n",
        "\n",
        "  sns.set(rc={'figure.figsize':(12,10)})\n",
        "  scatter_poly2 = sns.lmplot(\n",
        "      data = pred_y_df,\n",
        "      x = \"Actual_Value\",\n",
        "      y = \"Predicted_Value\",\n",
        "      order = 2\n",
        "  )"
      ],
      "metadata": {
        "id": "bqsI-3H78ZAN"
      },
      "execution_count": 12,
      "outputs": []
    },
    {
      "cell_type": "code",
      "source": [
        "import numpy as np\n",
        "import pandas as pd\n",
        "from sklearn.metrics import r2_score,mean_squared_error\n",
        "dataset=pd.read_csv(\"/content/drive/MyDrive/Iqram Sir/Fitbit_feature_merged_version_2023.06.20_ST-II&ST-V_Pre.csv\")\n",
        "#dataset=pd.read_csv(\"/content/drive/MyDrive/Cornell/MADE Lab/Wearable Project/Data/Fitbit ML/Feature merge/Fitbit_feature_merged_version_2023.06.20_ST-II&ST-V_Pre.csv\")\n"
      ],
      "metadata": {
        "id": "j77BeUU4sbVU"
      },
      "execution_count": 2,
      "outputs": []
    },
    {
      "cell_type": "code",
      "source": [
        "dataset.head(10)"
      ],
      "metadata": {
        "id": "G14KmjKWsn2_"
      },
      "execution_count": null,
      "outputs": []
    },
    {
      "cell_type": "code",
      "source": [
        "dataset.dropna(axis=0, how='any', inplace = True)\n",
        "dataset = dataset.reset_index(drop=True)\n"
      ],
      "metadata": {
        "id": "4580XfrViCuv"
      },
      "execution_count": 4,
      "outputs": []
    },
    {
      "cell_type": "code",
      "source": [
        "dataset.shape"
      ],
      "metadata": {
        "colab": {
          "base_uri": "https://localhost:8080/"
        },
        "id": "CSHw6o9psp-a",
        "outputId": "82f2473d-fd8c-42cb-9bb2-f695a78af3b3"
      },
      "execution_count": 5,
      "outputs": [
        {
          "output_type": "execute_result",
          "data": {
            "text/plain": [
              "(2629, 123)"
            ]
          },
          "metadata": {},
          "execution_count": 5
        }
      ]
    },
    {
      "cell_type": "code",
      "source": [
        "X = dataset.iloc[:,11:]\n",
        "y = dataset.iloc[:, 7]"
      ],
      "metadata": {
        "id": "AiTKRXiY0mdy"
      },
      "execution_count": 46,
      "outputs": []
    },
    {
      "cell_type": "code",
      "source": [
        "set(y)"
      ],
      "metadata": {
        "colab": {
          "base_uri": "https://localhost:8080/"
        },
        "id": "6bGS0-resl_E",
        "outputId": "fd47ced9-0523-484e-af06-49512505d577"
      },
      "execution_count": 47,
      "outputs": [
        {
          "output_type": "execute_result",
          "data": {
            "text/plain": [
              "{0.0, 0.2, 0.5, 0.6, 0.7, 0.8, 0.9, 1.0, 1.1, 1.2, 1.3, 1.4, 1.5, 1.7, 2.4}"
            ]
          },
          "metadata": {},
          "execution_count": 47
        }
      ]
    },
    {
      "cell_type": "code",
      "source": [
        "'''\n",
        "from sklearn.model_selection import train_test_split\n",
        "X_train, X_test, y_train, y_test = train_test_split(X, y, test_size = 0.2, random_state = 0)\n",
        "'''"
      ],
      "metadata": {
        "id": "gzJ19cN22KsU"
      },
      "execution_count": 37,
      "outputs": []
    },
    {
      "cell_type": "code",
      "source": [
        "from sklearn.feature_selection import SelectKBest\n",
        "bestfeatures = SelectKBest(k=20)\n",
        "fit = bestfeatures.fit(X,y)\n",
        "\n",
        "\n",
        "dfscores = pd.DataFrame(fit.scores_)\n",
        "dfcolumns = pd.DataFrame(X.columns)\n",
        "\n",
        "featureScores = pd.concat([dfcolumns,dfscores],axis=1)\n",
        "featureScores.columns = ['Specs','Score']\n",
        "\n",
        "\n",
        "number_of_feat=int(input(\"Number Of Best Features: \"))\n",
        "\n",
        "\n",
        "imp=featureScores.nlargest(number_of_feat,'Score')\n",
        "print(imp)\n",
        "\n",
        "\n",
        "list_of_feat=[]\n",
        "\n",
        "for i in range(number_of_feat):\n",
        "  list_of_feat.append(imp.iloc[:,0:1].values[i][0])\n",
        "\n",
        "\n"
      ],
      "metadata": {
        "id": "7SpMLBfwJhMa",
        "colab": {
          "base_uri": "https://localhost:8080/"
        },
        "outputId": "da36ecac-fc29-40bc-e958-5d440570e6cb"
      },
      "execution_count": 48,
      "outputs": [
        {
          "output_type": "stream",
          "name": "stderr",
          "text": [
            "/usr/local/lib/python3.10/dist-packages/sklearn/feature_selection/_univariate_selection.py:112: UserWarning: Features [22 43 44 45 67 68 74 76 90 91 92] are constant.\n",
            "  warnings.warn(\"Features %s are constant.\" % constant_features_idx, UserWarning)\n",
            "/usr/local/lib/python3.10/dist-packages/sklearn/feature_selection/_univariate_selection.py:113: RuntimeWarning: invalid value encountered in true_divide\n",
            "  f = msb / msw\n"
          ]
        },
        {
          "output_type": "stream",
          "name": "stdout",
          "text": [
            "Number Of Best Features: 12\n",
            "                        Specs       Score\n",
            "101           aEE_MAX(kJ/min)  460.184073\n",
            "102   1_min_HR_Recovery(mean)  390.128672\n",
            "104   2_min_HR_Recovery(mean)  390.128672\n",
            "106   3_min_HR_Recovery(mean)  390.128672\n",
            "108   4_min_HR_Recovery(mean)  390.128672\n",
            "110   5_min_HR_Recovery(mean)  390.128672\n",
            "100               HR_MAX(BPM)  244.964803\n",
            "103  1_min_HR_Recovery(stdev)  181.685686\n",
            "105  2_min_HR_Recovery(stdev)  181.685686\n",
            "107  3_min_HR_Recovery(stdev)  181.685686\n",
            "109  4_min_HR_Recovery(stdev)  181.685686\n",
            "111  5_min_HR_Recovery(stdev)  181.685686\n"
          ]
        }
      ]
    },
    {
      "cell_type": "code",
      "source": [
        "X_new.shape"
      ],
      "metadata": {
        "colab": {
          "base_uri": "https://localhost:8080/"
        },
        "id": "faqcj7Lz55u_",
        "outputId": "0376f870-9bed-4bd2-89df-10b6026c666c"
      },
      "execution_count": 10,
      "outputs": [
        {
          "output_type": "execute_result",
          "data": {
            "text/plain": [
              "(2629, 12)"
            ]
          },
          "metadata": {},
          "execution_count": 10
        }
      ]
    },
    {
      "cell_type": "code",
      "source": [
        "\n",
        "from sklearn.model_selection import train_test_split\n",
        "X_train, X_test, y_train, y_test = train_test_split(X_new, y_new, test_size = 0.2, random_state = 0)\n"
      ],
      "metadata": {
        "id": "uwlH4p3oENA7"
      },
      "execution_count": 49,
      "outputs": []
    },
    {
      "cell_type": "markdown",
      "source": [
        "<font color = \"red\" size='5'>No spliting </font>"
      ],
      "metadata": {
        "id": "lkL00LOce3Uv"
      }
    },
    {
      "cell_type": "code",
      "source": [
        "\"\"\"\n",
        "X_train=X_new.iloc[:148,:]\n",
        "X_test=X_new.iloc[148:,:]\n",
        "y_train=y_new.iloc[:148]\n",
        "y_test=y_new.iloc[148:]\n",
        " \"\"\""
      ],
      "metadata": {
        "id": "mf2hSZmlAygT"
      },
      "execution_count": 11,
      "outputs": []
    },
    {
      "cell_type": "markdown",
      "source": [
        "\n",
        "\n",
        "---\n",
        "\n"
      ],
      "metadata": {
        "id": "ADbpJfKaobxJ"
      }
    },
    {
      "cell_type": "code",
      "source": [
        "import pandas as pd\n",
        "import numpy as np\n",
        "from sklearn import model_selection\n",
        "from sklearn.linear_model import LinearRegression\n",
        "from sklearn.linear_model import Ridge\n",
        "from sklearn.linear_model import Lasso\n",
        "from sklearn.linear_model import ElasticNet\n",
        "from sklearn.neighbors import KNeighborsRegressor\n",
        "from sklearn.tree import DecisionTreeRegressor\n",
        "from sklearn.svm import SVR\n",
        "from sklearn.ensemble import RandomForestRegressor\n",
        "from sklearn.metrics import r2_score\n",
        "from sklearn.model_selection import train_test_split\n",
        "from sklearn.metrics import mean_squared_error\n",
        "from math import sqrt\n",
        "import matplotlib.pyplot as plt"
      ],
      "metadata": {
        "id": "Z71osHGh9jcZ"
      },
      "execution_count": 50,
      "outputs": []
    },
    {
      "cell_type": "markdown",
      "source": [
        "#Decision Trees"
      ],
      "metadata": {
        "id": "-cm1DHJYAWzB"
      }
    },
    {
      "cell_type": "code",
      "source": [
        "dtree = DecisionTreeRegressor(max_depth=8, min_samples_leaf=0.13, random_state=3)\n",
        "\n",
        "dtree.fit(X_train, y_train)"
      ],
      "metadata": {
        "colab": {
          "base_uri": "https://localhost:8080/",
          "height": 74
        },
        "id": "gggxe0E59kzv",
        "outputId": "15ddf1b7-11e7-4f57-e6e8-29ba21eec1a9"
      },
      "execution_count": 51,
      "outputs": [
        {
          "output_type": "execute_result",
          "data": {
            "text/plain": [
              "DecisionTreeRegressor(max_depth=8, min_samples_leaf=0.13, random_state=3)"
            ],
            "text/html": [
              "<style>#sk-container-id-3 {color: black;background-color: white;}#sk-container-id-3 pre{padding: 0;}#sk-container-id-3 div.sk-toggleable {background-color: white;}#sk-container-id-3 label.sk-toggleable__label {cursor: pointer;display: block;width: 100%;margin-bottom: 0;padding: 0.3em;box-sizing: border-box;text-align: center;}#sk-container-id-3 label.sk-toggleable__label-arrow:before {content: \"▸\";float: left;margin-right: 0.25em;color: #696969;}#sk-container-id-3 label.sk-toggleable__label-arrow:hover:before {color: black;}#sk-container-id-3 div.sk-estimator:hover label.sk-toggleable__label-arrow:before {color: black;}#sk-container-id-3 div.sk-toggleable__content {max-height: 0;max-width: 0;overflow: hidden;text-align: left;background-color: #f0f8ff;}#sk-container-id-3 div.sk-toggleable__content pre {margin: 0.2em;color: black;border-radius: 0.25em;background-color: #f0f8ff;}#sk-container-id-3 input.sk-toggleable__control:checked~div.sk-toggleable__content {max-height: 200px;max-width: 100%;overflow: auto;}#sk-container-id-3 input.sk-toggleable__control:checked~label.sk-toggleable__label-arrow:before {content: \"▾\";}#sk-container-id-3 div.sk-estimator input.sk-toggleable__control:checked~label.sk-toggleable__label {background-color: #d4ebff;}#sk-container-id-3 div.sk-label input.sk-toggleable__control:checked~label.sk-toggleable__label {background-color: #d4ebff;}#sk-container-id-3 input.sk-hidden--visually {border: 0;clip: rect(1px 1px 1px 1px);clip: rect(1px, 1px, 1px, 1px);height: 1px;margin: -1px;overflow: hidden;padding: 0;position: absolute;width: 1px;}#sk-container-id-3 div.sk-estimator {font-family: monospace;background-color: #f0f8ff;border: 1px dotted black;border-radius: 0.25em;box-sizing: border-box;margin-bottom: 0.5em;}#sk-container-id-3 div.sk-estimator:hover {background-color: #d4ebff;}#sk-container-id-3 div.sk-parallel-item::after {content: \"\";width: 100%;border-bottom: 1px solid gray;flex-grow: 1;}#sk-container-id-3 div.sk-label:hover label.sk-toggleable__label {background-color: #d4ebff;}#sk-container-id-3 div.sk-serial::before {content: \"\";position: absolute;border-left: 1px solid gray;box-sizing: border-box;top: 0;bottom: 0;left: 50%;z-index: 0;}#sk-container-id-3 div.sk-serial {display: flex;flex-direction: column;align-items: center;background-color: white;padding-right: 0.2em;padding-left: 0.2em;position: relative;}#sk-container-id-3 div.sk-item {position: relative;z-index: 1;}#sk-container-id-3 div.sk-parallel {display: flex;align-items: stretch;justify-content: center;background-color: white;position: relative;}#sk-container-id-3 div.sk-item::before, #sk-container-id-3 div.sk-parallel-item::before {content: \"\";position: absolute;border-left: 1px solid gray;box-sizing: border-box;top: 0;bottom: 0;left: 50%;z-index: -1;}#sk-container-id-3 div.sk-parallel-item {display: flex;flex-direction: column;z-index: 1;position: relative;background-color: white;}#sk-container-id-3 div.sk-parallel-item:first-child::after {align-self: flex-end;width: 50%;}#sk-container-id-3 div.sk-parallel-item:last-child::after {align-self: flex-start;width: 50%;}#sk-container-id-3 div.sk-parallel-item:only-child::after {width: 0;}#sk-container-id-3 div.sk-dashed-wrapped {border: 1px dashed gray;margin: 0 0.4em 0.5em 0.4em;box-sizing: border-box;padding-bottom: 0.4em;background-color: white;}#sk-container-id-3 div.sk-label label {font-family: monospace;font-weight: bold;display: inline-block;line-height: 1.2em;}#sk-container-id-3 div.sk-label-container {text-align: center;}#sk-container-id-3 div.sk-container {/* jupyter's `normalize.less` sets `[hidden] { display: none; }` but bootstrap.min.css set `[hidden] { display: none !important; }` so we also need the `!important` here to be able to override the default hidden behavior on the sphinx rendered scikit-learn.org. See: https://github.com/scikit-learn/scikit-learn/issues/21755 */display: inline-block !important;position: relative;}#sk-container-id-3 div.sk-text-repr-fallback {display: none;}</style><div id=\"sk-container-id-3\" class=\"sk-top-container\"><div class=\"sk-text-repr-fallback\"><pre>DecisionTreeRegressor(max_depth=8, min_samples_leaf=0.13, random_state=3)</pre><b>In a Jupyter environment, please rerun this cell to show the HTML representation or trust the notebook. <br />On GitHub, the HTML representation is unable to render, please try loading this page with nbviewer.org.</b></div><div class=\"sk-container\" hidden><div class=\"sk-item\"><div class=\"sk-estimator sk-toggleable\"><input class=\"sk-toggleable__control sk-hidden--visually\" id=\"sk-estimator-id-3\" type=\"checkbox\" checked><label for=\"sk-estimator-id-3\" class=\"sk-toggleable__label sk-toggleable__label-arrow\">DecisionTreeRegressor</label><div class=\"sk-toggleable__content\"><pre>DecisionTreeRegressor(max_depth=8, min_samples_leaf=0.13, random_state=3)</pre></div></div></div></div></div>"
            ]
          },
          "metadata": {},
          "execution_count": 51
        }
      ]
    },
    {
      "cell_type": "code",
      "source": [
        "# Code lines 1 to 3\n",
        "pred_train_tree= dtree.predict(X_train)\n",
        "print(np.sqrt(mean_squared_error(y_train,pred_train_tree)))\n",
        "print(r2_score(y_train, pred_train_tree))\n",
        "\n",
        "# Code lines 4 to 6\n",
        "pred_test_tree= dtree.predict(X_test)\n",
        "print(np.sqrt(mean_squared_error(y_test,pred_test_tree)))\n",
        "print(r2_score(y_test, pred_test_tree))"
      ],
      "metadata": {
        "colab": {
          "base_uri": "https://localhost:8080/"
        },
        "id": "cgYeJYB-9kst",
        "outputId": "1071c11a-10dc-4f81-ea81-1d3836f484d2"
      },
      "execution_count": 52,
      "outputs": [
        {
          "output_type": "stream",
          "name": "stdout",
          "text": [
            "0.3835683161039678\n",
            "0.5605712080857173\n",
            "0.38020126643314095\n",
            "0.5559602317582524\n"
          ]
        }
      ]
    },
    {
      "cell_type": "code",
      "source": [
        "dtree = DecisionTreeRegressor(max_depth=3, min_samples_leaf=0.13)\n",
        "dtree.fit(X_train, y_train)\n",
        "pred_test_tree= dtree.predict(X_test)\n",
        "print(r2_score(y_test, pred_test_tree))"
      ],
      "metadata": {
        "colab": {
          "base_uri": "https://localhost:8080/"
        },
        "id": "O1A6Zgpd_4Z7",
        "outputId": "a8ae8154-4981-4b8d-a15d-e88220121198"
      },
      "execution_count": 29,
      "outputs": [
        {
          "output_type": "stream",
          "name": "stdout",
          "text": [
            "0.12511126264570605\n"
          ]
        }
      ]
    },
    {
      "cell_type": "code",
      "source": [
        "prim_plot(y_test,pred_test_tree)"
      ],
      "metadata": {
        "id": "R3EhCSOu9kov"
      },
      "execution_count": null,
      "outputs": []
    },
    {
      "cell_type": "code",
      "source": [
        "\"\"\"\n",
        "for i in range(1,500):\n",
        "  print(\"------------------------------------------------------\")\n",
        "  dtree = DecisionTreeRegressor(max_depth=i, min_samples_leaf=0.13)\n",
        "  dtree.fit(X_train, y_train)\n",
        "  pred_test_tree= dtree.predict(X_test)\n",
        "  k = r2_score(y_test, pred_test_tree)\n",
        "  if k>0:\n",
        "    print(k,i)\"\"\""
      ],
      "metadata": {
        "id": "3GcjMtwr9ki5"
      },
      "execution_count": null,
      "outputs": []
    },
    {
      "cell_type": "code",
      "source": [
        "# Code Lines 1 to 4: Fit the regression tree 'dtree1' and 'dtree2'\n",
        "dtree1 = DecisionTreeRegressor(max_depth=2)\n",
        "dtree2 = DecisionTreeRegressor(max_depth=5)\n",
        "dtree1.fit(X_train, y_train)\n",
        "dtree2.fit(X_train, y_train)\n",
        "\n",
        "# Code Lines 5 to 6: Predict on training data\n",
        "tr1 = dtree1.predict(X_train)\n",
        "tr2 = dtree2.predict(X_train)\n",
        "\n",
        "#Code Lines 7 to 8: Predict on testing data\n",
        "y1 = dtree1.predict(X_test)\n",
        "y2 = dtree2.predict(X_test)"
      ],
      "metadata": {
        "id": "-y1Rr_-P9kd9"
      },
      "execution_count": 31,
      "outputs": []
    },
    {
      "cell_type": "code",
      "source": [
        "# Print RMSE and R-squared value for regression tree 'dtree1' on training data\n",
        "print(np.sqrt(mean_squared_error(y_train,tr1)))\n",
        "print(r2_score(y_train, tr1))\n",
        "\n",
        "# Print RMSE and R-squared value for regression tree 'dtree1' on testing data\n",
        "print(np.sqrt(mean_squared_error(y_test,y1)))\n",
        "print(r2_score(y_test, y1))"
      ],
      "metadata": {
        "colab": {
          "base_uri": "https://localhost:8080/"
        },
        "id": "B8HqgMga9kUJ",
        "outputId": "dc18b7b5-617f-4d78-93f7-7ee50509afdd"
      },
      "execution_count": 32,
      "outputs": [
        {
          "output_type": "stream",
          "name": "stdout",
          "text": [
            "4.581204118761241e-16\n",
            "1.0\n",
            "0.545403274616974\n",
            "0.12511126264570605\n"
          ]
        }
      ]
    },
    {
      "cell_type": "code",
      "source": [],
      "metadata": {
        "id": "_XdFYQQ2ANpq"
      },
      "execution_count": null,
      "outputs": []
    },
    {
      "cell_type": "markdown",
      "source": [
        "#Random Forest (or Bootstrap Aggregation)"
      ],
      "metadata": {
        "id": "k8jIJdRZAZ1_"
      }
    },
    {
      "cell_type": "code",
      "source": [
        "#RF model\n",
        "model_rf = RandomForestRegressor(n_estimators=500, oob_score=True, random_state=100)\n",
        "model_rf.fit(X_train, y_train)\n",
        "pred_train_rf= model_rf.predict(X_train)\n",
        "print(np.sqrt(mean_squared_error(y_train,pred_train_rf)))\n",
        "print(r2_score(y_train, pred_train_rf))\n",
        "\n",
        "pred_test_rf = model_rf.predict(X_test)\n",
        "print(np.sqrt(mean_squared_error(y_test,pred_test_rf)))\n",
        "print(r2_score(y_test, pred_test_rf))"
      ],
      "metadata": {
        "colab": {
          "base_uri": "https://localhost:8080/"
        },
        "id": "AxAWU3JyAZkY",
        "outputId": "f37b696d-7563-4da3-b20d-8f75839c1e7b"
      },
      "execution_count": 54,
      "outputs": [
        {
          "output_type": "stream",
          "name": "stdout",
          "text": [
            "1.4063248700237596e-15\n",
            "1.0\n",
            "1.415037118759184e-15\n",
            "1.0\n"
          ]
        }
      ]
    },
    {
      "cell_type": "code",
      "source": [
        "\n",
        "for i in range(100,1000,100):\n",
        "  model_rf = RandomForestRegressor(n_estimators=i, oob_score=True, random_state=100)\n",
        "  model_rf.fit(X_train, y_train)\n",
        "  pred_test_rf= model_rf.predict(X_test)\n",
        "  k = r2_score(y_test, pred_test_rf)\n",
        "  if k>0:\n",
        "    print(\"------------------------------------------------------\")\n",
        "    print(k,i)"
      ],
      "metadata": {
        "id": "dkS__wzNAZbv"
      },
      "execution_count": null,
      "outputs": []
    },
    {
      "cell_type": "code",
      "source": [
        "prim_plot(y_test,pred_test_rf)"
      ],
      "metadata": {
        "colab": {
          "base_uri": "https://localhost:8080/",
          "height": 500
        },
        "id": "GR81VspiA-uk",
        "outputId": "b90be8f5-1840-46fc-b37d-b8a5b94e0232"
      },
      "execution_count": 39,
      "outputs": [
        {
          "output_type": "display_data",
          "data": {
            "text/plain": [
              "<Figure size 500x500 with 1 Axes>"
            ],
            "image/png": "[encoded data removed]"
          },
          "metadata": {}
        }
      ]
    },
    {
      "cell_type": "code",
      "source": [],
      "metadata": {
        "id": "t1avlWxEBsz9"
      },
      "execution_count": null,
      "outputs": []
    }
  ]
}