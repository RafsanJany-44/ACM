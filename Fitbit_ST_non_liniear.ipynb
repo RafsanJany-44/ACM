{
  "nbformat": 4,
  "nbformat_minor": 0,
  "metadata": {
    "colab": {
      "provenance": [],
      "collapsed_sections": [
        "sx7QykGeXzjI",
        "qXdK1hpkYVmJ"
      ],
      "include_colab_link": true
    },
    "kernelspec": {
      "name": "python3",
      "display_name": "Python 3"
    },
    "language_info": {
      "name": "python"
    }
  },
  "cells": [
    {
      "cell_type": "markdown",
      "metadata": {
        "id": "view-in-github",
        "colab_type": "text"
      },
      "source": [
        "<a href=\"https://colab.research.google.com/github/RafsanJany-44/ARC/blob/master/Fitbit_ST_non_liniear.ipynb\" target=\"_parent\"><img src=\"https://colab.research.google.com/assets/colab-badge.svg\" alt=\"Open In Colab\"/></a>"
      ]
    },
    {
      "cell_type": "code",
      "execution_count": 13,
      "metadata": {
        "colab": {
          "base_uri": "https://localhost:8080/"
        },
        "id": "vj6jHu9WkVnY",
        "outputId": "65a2d5e8-7c95-470b-ce8b-b97b5f8709d8"
      },
      "outputs": [
        {
          "output_type": "stream",
          "name": "stdout",
          "text": [
            "Drive already mounted at /content/drive; to attempt to forcibly remount, call drive.mount(\"/content/drive\", force_remount=True).\n"
          ]
        }
      ],
      "source": [
        "from google.colab import drive\n",
        "drive.mount('/content/drive')"
      ]
    },
    {
      "cell_type": "code",
      "source": [
        "import seaborn as sns\n",
        "\n",
        "\n",
        "\n",
        "def prim_plot(y_actual,y_pred):\n",
        "  pred_y_df=pd.DataFrame(\n",
        "      {\n",
        "          \"Actual_Value\":y_actual,\n",
        "          \"Predicted_Value\":y_pred,\n",
        "          \"Difference\":y_actual-y_pred\n",
        "      }\n",
        "  )\n",
        "\n",
        "\n",
        "  sns.set(rc={'figure.figsize':(12,10)})\n",
        "  scatter_poly2 = sns.lmplot(\n",
        "      data = pred_y_df,\n",
        "      x = \"Actual_Value\",\n",
        "      y = \"Predicted_Value\",\n",
        "      order = 2\n",
        "  )\n",
        "\n",
        "\n",
        "\n"
      ],
      "metadata": {
        "id": "bqsI-3H78ZAN"
      },
      "execution_count": 14,
      "outputs": []
    },
    {
      "cell_type": "code",
      "source": [
        "import numpy as np\n",
        "import pandas as pd\n",
        "from sklearn.metrics import r2_score,mean_squared_error\n",
        "dataset=pd.read_csv(\"/content/drive/MyDrive/Iqram Sir/Fitbit_feature_merged_version_2023.06.20_ST-II&ST-V_Pre.csv\")\n",
        "#dataset=pd.read_csv(\"/content/drive/MyDrive/Cornell/MADE Lab/Wearable Project/Data/Fitbit ML/Feature merge/Fitbit_feature_merged_version_2023.06.20_ST-II&ST-V_Pre.csv\")\n"
      ],
      "metadata": {
        "id": "j77BeUU4sbVU"
      },
      "execution_count": 15,
      "outputs": []
    },
    {
      "cell_type": "code",
      "source": [
        "dataset.head(10)"
      ],
      "metadata": {
        "colab": {
          "base_uri": "https://localhost:8080/",
          "height": 337
        },
        "id": "G14KmjKWsn2_",
        "outputId": "d1a72411-ccd6-4491-cb55-00b0bf1d47a2"
      },
      "execution_count": 16,
      "outputs": [
        {
          "output_type": "execute_result",
          "data": {
            "text/plain": [
              "  Subject Condition Activity  Epoch Duration(min)  Epoch  ST-II Max. Increase  \\\n",
              "0  002-JR       pre    Light                   10      1                  0.2   \n",
              "1  002-JR       pre    Light                   10     10                  0.2   \n",
              "2  002-JR       pre    Light                   10     11                  0.2   \n",
              "3  002-JR       pre    Light                   10     12                  0.2   \n",
              "4  002-JR       pre    Light                   10     13                  0.2   \n",
              "5  002-JR       pre    Light                   10     14                  0.2   \n",
              "6  002-JR       pre    Light                   10     15                  0.2   \n",
              "7  002-JR       pre    Light                   10     16                  0.2   \n",
              "8  002-JR       pre    Light                   10     17                  0.2   \n",
              "9  002-JR       pre    Light                   10     18                  0.2   \n",
              "\n",
              "   ST-II Max. decrease  ST-II Max-Min Difference  ST-V Max. Increase  \\\n",
              "0                  0.3                       0.5                 0.3   \n",
              "1                  0.3                       0.5                 0.3   \n",
              "2                  0.3                       0.5                 0.3   \n",
              "3                  0.3                       0.5                 0.3   \n",
              "4                  0.3                       0.5                 0.3   \n",
              "5                  0.3                       0.5                 0.3   \n",
              "6                  0.3                       0.5                 0.3   \n",
              "7                  0.3                       0.5                 0.3   \n",
              "8                  0.3                       0.5                 0.3   \n",
              "9                  0.3                       0.5                 0.3   \n",
              "\n",
              "   ST-V Max. decrease  ...  1_min_HR_Recovery(mean)  1_min_HR_Recovery(stdev)  \\\n",
              "0                 0.1  ...                 6.425926                  6.462432   \n",
              "1                 0.1  ...                 6.425926                  6.462432   \n",
              "2                 0.1  ...                 6.425926                  6.462432   \n",
              "3                 0.1  ...                 6.425926                  6.462432   \n",
              "4                 0.1  ...                 6.425926                  6.462432   \n",
              "5                 0.1  ...                 6.425926                  6.462432   \n",
              "6                 0.1  ...                 6.425926                  6.462432   \n",
              "7                 0.1  ...                 6.425926                  6.462432   \n",
              "8                 0.1  ...                 6.425926                  6.462432   \n",
              "9                 0.1  ...                 6.425926                  6.462432   \n",
              "\n",
              "   2_min_HR_Recovery(mean)  2_min_HR_Recovery(stdev)  3_min_HR_Recovery(mean)  \\\n",
              "0                 6.425926                  6.462432                 6.425926   \n",
              "1                 6.425926                  6.462432                 6.425926   \n",
              "2                 6.425926                  6.462432                 6.425926   \n",
              "3                 6.425926                  6.462432                 6.425926   \n",
              "4                 6.425926                  6.462432                 6.425926   \n",
              "5                 6.425926                  6.462432                 6.425926   \n",
              "6                 6.425926                  6.462432                 6.425926   \n",
              "7                 6.425926                  6.462432                 6.425926   \n",
              "8                 6.425926                  6.462432                 6.425926   \n",
              "9                 6.425926                  6.462432                 6.425926   \n",
              "\n",
              "   3_min_HR_Recovery(stdev)  4_min_HR_Recovery(mean)  \\\n",
              "0                  6.462432                 6.425926   \n",
              "1                  6.462432                 6.425926   \n",
              "2                  6.462432                 6.425926   \n",
              "3                  6.462432                 6.425926   \n",
              "4                  6.462432                 6.425926   \n",
              "5                  6.462432                 6.425926   \n",
              "6                  6.462432                 6.425926   \n",
              "7                  6.462432                 6.425926   \n",
              "8                  6.462432                 6.425926   \n",
              "9                  6.462432                 6.425926   \n",
              "\n",
              "   4_min_HR_Recovery(stdev)  5_min_HR_Recovery(mean)  5_min_HR_Recovery(stdev)  \n",
              "0                  6.462432                 6.425926                  6.462432  \n",
              "1                  6.462432                 6.425926                  6.462432  \n",
              "2                  6.462432                 6.425926                  6.462432  \n",
              "3                  6.462432                 6.425926                  6.462432  \n",
              "4                  6.462432                 6.425926                  6.462432  \n",
              "5                  6.462432                 6.425926                  6.462432  \n",
              "6                  6.462432                 6.425926                  6.462432  \n",
              "7                  6.462432                 6.425926                  6.462432  \n",
              "8                  6.462432                 6.425926                  6.462432  \n",
              "9                  6.462432                 6.425926                  6.462432  \n",
              "\n",
              "[10 rows x 123 columns]"
            ],
            "text/html": [
              "\n",
              "  <div id=\"df-83794f48-1704-4e5e-a1e8-57549065ab5e\">\n",
              "    <div class=\"colab-df-container\">\n",
              "      <div>\n",
              "<style scoped>\n",
              "    .dataframe tbody tr th:only-of-type {\n",
              "        vertical-align: middle;\n",
              "    }\n",
              "\n",
              "    .dataframe tbody tr th {\n",
              "        vertical-align: top;\n",
              "    }\n",
              "\n",
              "    .dataframe thead th {\n",
              "        text-align: right;\n",
              "    }\n",
              "</style>\n",
              "<table border=\"1\" class=\"dataframe\">\n",
              "  <thead>\n",
              "    <tr style=\"text-align: right;\">\n",
              "      <th></th>\n",
              "      <th>Subject</th>\n",
              "      <th>Condition</th>\n",
              "      <th>Activity</th>\n",
              "      <th>Epoch Duration(min)</th>\n",
              "      <th>Epoch</th>\n",
              "      <th>ST-II Max. Increase</th>\n",
              "      <th>ST-II Max. decrease</th>\n",
              "      <th>ST-II Max-Min Difference</th>\n",
              "      <th>ST-V Max. Increase</th>\n",
              "      <th>ST-V Max. decrease</th>\n",
              "      <th>...</th>\n",
              "      <th>1_min_HR_Recovery(mean)</th>\n",
              "      <th>1_min_HR_Recovery(stdev)</th>\n",
              "      <th>2_min_HR_Recovery(mean)</th>\n",
              "      <th>2_min_HR_Recovery(stdev)</th>\n",
              "      <th>3_min_HR_Recovery(mean)</th>\n",
              "      <th>3_min_HR_Recovery(stdev)</th>\n",
              "      <th>4_min_HR_Recovery(mean)</th>\n",
              "      <th>4_min_HR_Recovery(stdev)</th>\n",
              "      <th>5_min_HR_Recovery(mean)</th>\n",
              "      <th>5_min_HR_Recovery(stdev)</th>\n",
              "    </tr>\n",
              "  </thead>\n",
              "  <tbody>\n",
              "    <tr>\n",
              "      <th>0</th>\n",
              "      <td>002-JR</td>\n",
              "      <td>pre</td>\n",
              "      <td>Light</td>\n",
              "      <td>10</td>\n",
              "      <td>1</td>\n",
              "      <td>0.2</td>\n",
              "      <td>0.3</td>\n",
              "      <td>0.5</td>\n",
              "      <td>0.3</td>\n",
              "      <td>0.1</td>\n",
              "      <td>...</td>\n",
              "      <td>6.425926</td>\n",
              "      <td>6.462432</td>\n",
              "      <td>6.425926</td>\n",
              "      <td>6.462432</td>\n",
              "      <td>6.425926</td>\n",
              "      <td>6.462432</td>\n",
              "      <td>6.425926</td>\n",
              "      <td>6.462432</td>\n",
              "      <td>6.425926</td>\n",
              "      <td>6.462432</td>\n",
              "    </tr>\n",
              "    <tr>\n",
              "      <th>1</th>\n",
              "      <td>002-JR</td>\n",
              "      <td>pre</td>\n",
              "      <td>Light</td>\n",
              "      <td>10</td>\n",
              "      <td>10</td>\n",
              "      <td>0.2</td>\n",
              "      <td>0.3</td>\n",
              "      <td>0.5</td>\n",
              "      <td>0.3</td>\n",
              "      <td>0.1</td>\n",
              "      <td>...</td>\n",
              "      <td>6.425926</td>\n",
              "      <td>6.462432</td>\n",
              "      <td>6.425926</td>\n",
              "      <td>6.462432</td>\n",
              "      <td>6.425926</td>\n",
              "      <td>6.462432</td>\n",
              "      <td>6.425926</td>\n",
              "      <td>6.462432</td>\n",
              "      <td>6.425926</td>\n",
              "      <td>6.462432</td>\n",
              "    </tr>\n",
              "    <tr>\n",
              "      <th>2</th>\n",
              "      <td>002-JR</td>\n",
              "      <td>pre</td>\n",
              "      <td>Light</td>\n",
              "      <td>10</td>\n",
              "      <td>11</td>\n",
              "      <td>0.2</td>\n",
              "      <td>0.3</td>\n",
              "      <td>0.5</td>\n",
              "      <td>0.3</td>\n",
              "      <td>0.1</td>\n",
              "      <td>...</td>\n",
              "      <td>6.425926</td>\n",
              "      <td>6.462432</td>\n",
              "      <td>6.425926</td>\n",
              "      <td>6.462432</td>\n",
              "      <td>6.425926</td>\n",
              "      <td>6.462432</td>\n",
              "      <td>6.425926</td>\n",
              "      <td>6.462432</td>\n",
              "      <td>6.425926</td>\n",
              "      <td>6.462432</td>\n",
              "    </tr>\n",
              "    <tr>\n",
              "      <th>3</th>\n",
              "      <td>002-JR</td>\n",
              "      <td>pre</td>\n",
              "      <td>Light</td>\n",
              "      <td>10</td>\n",
              "      <td>12</td>\n",
              "      <td>0.2</td>\n",
              "      <td>0.3</td>\n",
              "      <td>0.5</td>\n",
              "      <td>0.3</td>\n",
              "      <td>0.1</td>\n",
              "      <td>...</td>\n",
              "      <td>6.425926</td>\n",
              "      <td>6.462432</td>\n",
              "      <td>6.425926</td>\n",
              "      <td>6.462432</td>\n",
              "      <td>6.425926</td>\n",
              "      <td>6.462432</td>\n",
              "      <td>6.425926</td>\n",
              "      <td>6.462432</td>\n",
              "      <td>6.425926</td>\n",
              "      <td>6.462432</td>\n",
              "    </tr>\n",
              "    <tr>\n",
              "      <th>4</th>\n",
              "      <td>002-JR</td>\n",
              "      <td>pre</td>\n",
              "      <td>Light</td>\n",
              "      <td>10</td>\n",
              "      <td>13</td>\n",
              "      <td>0.2</td>\n",
              "      <td>0.3</td>\n",
              "      <td>0.5</td>\n",
              "      <td>0.3</td>\n",
              "      <td>0.1</td>\n",
              "      <td>...</td>\n",
              "      <td>6.425926</td>\n",
              "      <td>6.462432</td>\n",
              "      <td>6.425926</td>\n",
              "      <td>6.462432</td>\n",
              "      <td>6.425926</td>\n",
              "      <td>6.462432</td>\n",
              "      <td>6.425926</td>\n",
              "      <td>6.462432</td>\n",
              "      <td>6.425926</td>\n",
              "      <td>6.462432</td>\n",
              "    </tr>\n",
              "    <tr>\n",
              "      <th>5</th>\n",
              "      <td>002-JR</td>\n",
              "      <td>pre</td>\n",
              "      <td>Light</td>\n",
              "      <td>10</td>\n",
              "      <td>14</td>\n",
              "      <td>0.2</td>\n",
              "      <td>0.3</td>\n",
              "      <td>0.5</td>\n",
              "      <td>0.3</td>\n",
              "      <td>0.1</td>\n",
              "      <td>...</td>\n",
              "      <td>6.425926</td>\n",
              "      <td>6.462432</td>\n",
              "      <td>6.425926</td>\n",
              "      <td>6.462432</td>\n",
              "      <td>6.425926</td>\n",
              "      <td>6.462432</td>\n",
              "      <td>6.425926</td>\n",
              "      <td>6.462432</td>\n",
              "      <td>6.425926</td>\n",
              "      <td>6.462432</td>\n",
              "    </tr>\n",
              "    <tr>\n",
              "      <th>6</th>\n",
              "      <td>002-JR</td>\n",
              "      <td>pre</td>\n",
              "      <td>Light</td>\n",
              "      <td>10</td>\n",
              "      <td>15</td>\n",
              "      <td>0.2</td>\n",
              "      <td>0.3</td>\n",
              "      <td>0.5</td>\n",
              "      <td>0.3</td>\n",
              "      <td>0.1</td>\n",
              "      <td>...</td>\n",
              "      <td>6.425926</td>\n",
              "      <td>6.462432</td>\n",
              "      <td>6.425926</td>\n",
              "      <td>6.462432</td>\n",
              "      <td>6.425926</td>\n",
              "      <td>6.462432</td>\n",
              "      <td>6.425926</td>\n",
              "      <td>6.462432</td>\n",
              "      <td>6.425926</td>\n",
              "      <td>6.462432</td>\n",
              "    </tr>\n",
              "    <tr>\n",
              "      <th>7</th>\n",
              "      <td>002-JR</td>\n",
              "      <td>pre</td>\n",
              "      <td>Light</td>\n",
              "      <td>10</td>\n",
              "      <td>16</td>\n",
              "      <td>0.2</td>\n",
              "      <td>0.3</td>\n",
              "      <td>0.5</td>\n",
              "      <td>0.3</td>\n",
              "      <td>0.1</td>\n",
              "      <td>...</td>\n",
              "      <td>6.425926</td>\n",
              "      <td>6.462432</td>\n",
              "      <td>6.425926</td>\n",
              "      <td>6.462432</td>\n",
              "      <td>6.425926</td>\n",
              "      <td>6.462432</td>\n",
              "      <td>6.425926</td>\n",
              "      <td>6.462432</td>\n",
              "      <td>6.425926</td>\n",
              "      <td>6.462432</td>\n",
              "    </tr>\n",
              "    <tr>\n",
              "      <th>8</th>\n",
              "      <td>002-JR</td>\n",
              "      <td>pre</td>\n",
              "      <td>Light</td>\n",
              "      <td>10</td>\n",
              "      <td>17</td>\n",
              "      <td>0.2</td>\n",
              "      <td>0.3</td>\n",
              "      <td>0.5</td>\n",
              "      <td>0.3</td>\n",
              "      <td>0.1</td>\n",
              "      <td>...</td>\n",
              "      <td>6.425926</td>\n",
              "      <td>6.462432</td>\n",
              "      <td>6.425926</td>\n",
              "      <td>6.462432</td>\n",
              "      <td>6.425926</td>\n",
              "      <td>6.462432</td>\n",
              "      <td>6.425926</td>\n",
              "      <td>6.462432</td>\n",
              "      <td>6.425926</td>\n",
              "      <td>6.462432</td>\n",
              "    </tr>\n",
              "    <tr>\n",
              "      <th>9</th>\n",
              "      <td>002-JR</td>\n",
              "      <td>pre</td>\n",
              "      <td>Light</td>\n",
              "      <td>10</td>\n",
              "      <td>18</td>\n",
              "      <td>0.2</td>\n",
              "      <td>0.3</td>\n",
              "      <td>0.5</td>\n",
              "      <td>0.3</td>\n",
              "      <td>0.1</td>\n",
              "      <td>...</td>\n",
              "      <td>6.425926</td>\n",
              "      <td>6.462432</td>\n",
              "      <td>6.425926</td>\n",
              "      <td>6.462432</td>\n",
              "      <td>6.425926</td>\n",
              "      <td>6.462432</td>\n",
              "      <td>6.425926</td>\n",
              "      <td>6.462432</td>\n",
              "      <td>6.425926</td>\n",
              "      <td>6.462432</td>\n",
              "    </tr>\n",
              "  </tbody>\n",
              "</table>\n",
              "<p>10 rows × 123 columns</p>\n",
              "</div>\n",
              "      <button class=\"colab-df-convert\" onclick=\"convertToInteractive('df-83794f48-1704-4e5e-a1e8-57549065ab5e')\"\n",
              "              title=\"Convert this dataframe to an interactive table.\"\n",
              "              style=\"display:none;\">\n",
              "        \n",
              "  <svg xmlns=\"http://www.w3.org/2000/svg\" height=\"24px\"viewBox=\"0 0 24 24\"\n",
              "       width=\"24px\">\n",
              "    <path d=\"M0 0h24v24H0V0z\" fill=\"none\"/>\n",
              "    <path d=\"M18.56 5.44l.94 2.06.94-2.06 2.06-.94-2.06-.94-.94-2.06-.94 2.06-2.06.94zm-11 1L8.5 8.5l.94-2.06 2.06-.94-2.06-.94L8.5 2.5l-.94 2.06-2.06.94zm10 10l.94 2.06.94-2.06 2.06-.94-2.06-.94-.94-2.06-.94 2.06-2.06.94z\"/><path d=\"M17.41 7.96l-1.37-1.37c-.4-.4-.92-.59-1.43-.59-.52 0-1.04.2-1.43.59L10.3 9.45l-7.72 7.72c-.78.78-.78 2.05 0 2.83L4 21.41c.39.39.9.59 1.41.59.51 0 1.02-.2 1.41-.59l7.78-7.78 2.81-2.81c.8-.78.8-2.07 0-2.86zM5.41 20L4 18.59l7.72-7.72 1.47 1.35L5.41 20z\"/>\n",
              "  </svg>\n",
              "      </button>\n",
              "      \n",
              "  <style>\n",
              "    .colab-df-container {\n",
              "      display:flex;\n",
              "      flex-wrap:wrap;\n",
              "      gap: 12px;\n",
              "    }\n",
              "\n",
              "    .colab-df-convert {\n",
              "      background-color: #E8F0FE;\n",
              "      border: none;\n",
              "      border-radius: 50%;\n",
              "      cursor: pointer;\n",
              "      display: none;\n",
              "      fill: #1967D2;\n",
              "      height: 32px;\n",
              "      padding: 0 0 0 0;\n",
              "      width: 32px;\n",
              "    }\n",
              "\n",
              "    .colab-df-convert:hover {\n",
              "      background-color: #E2EBFA;\n",
              "      box-shadow: 0px 1px 2px rgba(60, 64, 67, 0.3), 0px 1px 3px 1px rgba(60, 64, 67, 0.15);\n",
              "      fill: #174EA6;\n",
              "    }\n",
              "\n",
              "    [theme=dark] .colab-df-convert {\n",
              "      background-color: #3B4455;\n",
              "      fill: #D2E3FC;\n",
              "    }\n",
              "\n",
              "    [theme=dark] .colab-df-convert:hover {\n",
              "      background-color: #434B5C;\n",
              "      box-shadow: 0px 1px 3px 1px rgba(0, 0, 0, 0.15);\n",
              "      filter: drop-shadow(0px 1px 2px rgba(0, 0, 0, 0.3));\n",
              "      fill: #FFFFFF;\n",
              "    }\n",
              "  </style>\n",
              "\n",
              "      <script>\n",
              "        const buttonEl =\n",
              "          document.querySelector('#df-83794f48-1704-4e5e-a1e8-57549065ab5e button.colab-df-convert');\n",
              "        buttonEl.style.display =\n",
              "          google.colab.kernel.accessAllowed ? 'block' : 'none';\n",
              "\n",
              "        async function convertToInteractive(key) {\n",
              "          const element = document.querySelector('#df-83794f48-1704-4e5e-a1e8-57549065ab5e');\n",
              "          const dataTable =\n",
              "            await google.colab.kernel.invokeFunction('convertToInteractive',\n",
              "                                                     [key], {});\n",
              "          if (!dataTable) return;\n",
              "\n",
              "          const docLinkHtml = 'Like what you see? Visit the ' +\n",
              "            '<a target=\"_blank\" href=https://colab.research.google.com/notebooks/data_table.ipynb>data table notebook</a>'\n",
              "            + ' to learn more about interactive tables.';\n",
              "          element.innerHTML = '';\n",
              "          dataTable['output_type'] = 'display_data';\n",
              "          await google.colab.output.renderOutput(dataTable, element);\n",
              "          const docLink = document.createElement('div');\n",
              "          docLink.innerHTML = docLinkHtml;\n",
              "          element.appendChild(docLink);\n",
              "        }\n",
              "      </script>\n",
              "    </div>\n",
              "  </div>\n",
              "  "
            ]
          },
          "metadata": {},
          "execution_count": 16
        },
        {
          "output_type": "stream",
          "name": "stdout",
          "text": [
            "Warning: Total number of columns (123) exceeds max_columns (20) limiting to first (20) columns.\n"
          ]
        }
      ]
    },
    {
      "cell_type": "code",
      "source": [
        "dataset.dropna(axis=0, how='any', inplace = True)\n",
        "dataset = dataset.reset_index(drop=True)\n"
      ],
      "metadata": {
        "id": "4580XfrViCuv"
      },
      "execution_count": 17,
      "outputs": []
    },
    {
      "cell_type": "code",
      "source": [
        "dataset.shape"
      ],
      "metadata": {
        "colab": {
          "base_uri": "https://localhost:8080/"
        },
        "id": "CSHw6o9psp-a",
        "outputId": "98457514-2e1b-491a-d723-c2b625629b74"
      },
      "execution_count": 18,
      "outputs": [
        {
          "output_type": "execute_result",
          "data": {
            "text/plain": [
              "(2629, 123)"
            ]
          },
          "metadata": {},
          "execution_count": 18
        }
      ]
    },
    {
      "cell_type": "code",
      "source": [
        "X = dataset.iloc[:,11:]\n",
        "y = dataset.iloc[:, 7]"
      ],
      "metadata": {
        "id": "AiTKRXiY0mdy"
      },
      "execution_count": 19,
      "outputs": []
    },
    {
      "cell_type": "code",
      "source": [
        "set(y)"
      ],
      "metadata": {
        "colab": {
          "base_uri": "https://localhost:8080/"
        },
        "id": "6bGS0-resl_E",
        "outputId": "24579d89-a56d-49e4-db2d-3d1109b892c9"
      },
      "execution_count": 20,
      "outputs": [
        {
          "output_type": "execute_result",
          "data": {
            "text/plain": [
              "{0.0, 0.2, 0.5, 0.6, 0.7, 0.8, 0.9, 1.0, 1.1, 1.2, 1.3, 1.4, 1.5, 1.7, 2.4}"
            ]
          },
          "metadata": {},
          "execution_count": 20
        }
      ]
    },
    {
      "cell_type": "code",
      "source": [
        "'''\n",
        "from sklearn.model_selection import train_test_split\n",
        "X_train, X_test, y_train, y_test = train_test_split(X, y, test_size = 0.2, random_state = 0)\n",
        "'''"
      ],
      "metadata": {
        "id": "gzJ19cN22KsU",
        "colab": {
          "base_uri": "https://localhost:8080/",
          "height": 53
        },
        "outputId": "8902aef2-a87a-4f77-edba-8d3692a6735b"
      },
      "execution_count": 21,
      "outputs": [
        {
          "output_type": "execute_result",
          "data": {
            "text/plain": [
              "'\\nfrom sklearn.model_selection import train_test_split\\nX_train, X_test, y_train, y_test = train_test_split(X, y, test_size = 0.2, random_state = 0)\\n'"
            ],
            "application/vnd.google.colaboratory.intrinsic+json": {
              "type": "string"
            }
          },
          "metadata": {},
          "execution_count": 21
        }
      ]
    },
    {
      "cell_type": "code",
      "source": [
        "from sklearn.feature_selection import SelectKBest\n",
        "bestfeatures = SelectKBest(k=20)\n",
        "fit = bestfeatures.fit(X,y)\n",
        "\n",
        "\n",
        "dfscores = pd.DataFrame(fit.scores_)\n",
        "dfcolumns = pd.DataFrame(X.columns)\n",
        "\n",
        "featureScores = pd.concat([dfcolumns,dfscores],axis=1)\n",
        "featureScores.columns = ['Specs','Score']\n",
        "\n",
        "\n",
        "number_of_feat=int(input(\"Number Of Best Features: \"))\n",
        "\n",
        "\n",
        "imp=featureScores.nlargest(number_of_feat,'Score')\n",
        "print(imp)\n",
        "\n",
        "\n",
        "list_of_feat=[]\n",
        "\n",
        "for i in range(number_of_feat):\n",
        "  list_of_feat.append(imp.iloc[:,0:1].values[i][0])\n",
        "\n",
        "\n",
        "X_new = dataset[list_of_feat]\n",
        "y_new = dataset.iloc[:, 7]"
      ],
      "metadata": {
        "id": "7SpMLBfwJhMa",
        "colab": {
          "base_uri": "https://localhost:8080/"
        },
        "outputId": "6d24ed72-3ad2-4c15-8b6e-ebc28de69b61"
      },
      "execution_count": 22,
      "outputs": [
        {
          "output_type": "stream",
          "name": "stderr",
          "text": [
            "/usr/local/lib/python3.10/dist-packages/sklearn/feature_selection/_univariate_selection.py:112: UserWarning: Features [22 43 44 45 67 68 74 76 90 91 92] are constant.\n",
            "  warnings.warn(\"Features %s are constant.\" % constant_features_idx, UserWarning)\n",
            "/usr/local/lib/python3.10/dist-packages/sklearn/feature_selection/_univariate_selection.py:113: RuntimeWarning: invalid value encountered in true_divide\n",
            "  f = msb / msw\n"
          ]
        },
        {
          "output_type": "stream",
          "name": "stdout",
          "text": [
            "Number Of Best Features: 12\n",
            "                        Specs       Score\n",
            "101           aEE_MAX(kJ/min)  460.184073\n",
            "102   1_min_HR_Recovery(mean)  390.128672\n",
            "104   2_min_HR_Recovery(mean)  390.128672\n",
            "106   3_min_HR_Recovery(mean)  390.128672\n",
            "108   4_min_HR_Recovery(mean)  390.128672\n",
            "110   5_min_HR_Recovery(mean)  390.128672\n",
            "100               HR_MAX(BPM)  244.964803\n",
            "103  1_min_HR_Recovery(stdev)  181.685686\n",
            "105  2_min_HR_Recovery(stdev)  181.685686\n",
            "107  3_min_HR_Recovery(stdev)  181.685686\n",
            "109  4_min_HR_Recovery(stdev)  181.685686\n",
            "111  5_min_HR_Recovery(stdev)  181.685686\n"
          ]
        }
      ]
    },
    {
      "cell_type": "code",
      "source": [
        "X_new.shape"
      ],
      "metadata": {
        "colab": {
          "base_uri": "https://localhost:8080/"
        },
        "id": "faqcj7Lz55u_",
        "outputId": "e290047a-9518-49e8-896f-ee306d38f470"
      },
      "execution_count": 23,
      "outputs": [
        {
          "output_type": "execute_result",
          "data": {
            "text/plain": [
              "(2629, 12)"
            ]
          },
          "metadata": {},
          "execution_count": 23
        }
      ]
    },
    {
      "cell_type": "code",
      "source": [
        "\n",
        "from sklearn.model_selection import train_test_split\n",
        "X_train, X_test, y_train, y_test = train_test_split(X_new, y_new, test_size = 0.2, random_state = 0)\n"
      ],
      "metadata": {
        "id": "uwlH4p3oENA7"
      },
      "execution_count": 24,
      "outputs": []
    },
    {
      "cell_type": "markdown",
      "source": [
        "<font color = \"red\" size='5'>No spliting </font>"
      ],
      "metadata": {
        "id": "lkL00LOce3Uv"
      }
    },
    {
      "cell_type": "code",
      "source": [
        "\"\"\"\n",
        "X_train=X_new.iloc[:148,:]\n",
        "X_test=X_new.iloc[148:,:]\n",
        "y_train=y_new.iloc[:148]\n",
        "y_test=y_new.iloc[148:]\n",
        " \"\"\""
      ],
      "metadata": {
        "id": "mf2hSZmlAygT",
        "colab": {
          "base_uri": "https://localhost:8080/",
          "height": 36
        },
        "outputId": "77d2cc01-4e93-4c90-e76b-c82ca19689b7"
      },
      "execution_count": 25,
      "outputs": [
        {
          "output_type": "execute_result",
          "data": {
            "text/plain": [
              "'\\nX_train=X_new.iloc[:148,:]\\nX_test=X_new.iloc[148:,:]\\ny_train=y_new.iloc[:148]\\ny_test=y_new.iloc[148:]\\n '"
            ],
            "application/vnd.google.colaboratory.intrinsic+json": {
              "type": "string"
            }
          },
          "metadata": {},
          "execution_count": 25
        }
      ]
    },
    {
      "cell_type": "markdown",
      "source": [
        "\n",
        "\n",
        "---\n",
        "\n"
      ],
      "metadata": {
        "id": "ADbpJfKaobxJ"
      }
    },
    {
      "cell_type": "code",
      "source": [
        "import pandas as pd\n",
        "import numpy as np\n",
        "from sklearn import model_selection\n",
        "from sklearn.linear_model import LinearRegression\n",
        "from sklearn.linear_model import Ridge\n",
        "from sklearn.linear_model import Lasso\n",
        "from sklearn.linear_model import ElasticNet\n",
        "from sklearn.neighbors import KNeighborsRegressor\n",
        "from sklearn.tree import DecisionTreeRegressor\n",
        "from sklearn.svm import SVR\n",
        "from sklearn.ensemble import RandomForestRegressor\n",
        "from sklearn.metrics import r2_score\n",
        "from sklearn.model_selection import train_test_split\n",
        "from sklearn.metrics import mean_squared_error\n",
        "from math import sqrt\n",
        "import matplotlib.pyplot as plt"
      ],
      "metadata": {
        "id": "Z71osHGh9jcZ"
      },
      "execution_count": 26,
      "outputs": []
    },
    {
      "cell_type": "markdown",
      "source": [
        "#Decision Trees"
      ],
      "metadata": {
        "id": "-cm1DHJYAWzB"
      }
    },
    {
      "cell_type": "code",
      "source": [
        "dtree = DecisionTreeRegressor(max_depth=8, min_samples_leaf=0.13, random_state=3)\n",
        "\n",
        "dtree.fit(X_train, y_train)"
      ],
      "metadata": {
        "colab": {
          "base_uri": "https://localhost:8080/",
          "height": 74
        },
        "id": "gggxe0E59kzv",
        "outputId": "142f77b7-e9df-4286-a66e-2bbcf0dd1724"
      },
      "execution_count": 27,
      "outputs": [
        {
          "output_type": "execute_result",
          "data": {
            "text/plain": [
              "DecisionTreeRegressor(max_depth=8, min_samples_leaf=0.13, random_state=3)"
            ],
            "text/html": [
              "<style>#sk-container-id-1 {color: black;background-color: white;}#sk-container-id-1 pre{padding: 0;}#sk-container-id-1 div.sk-toggleable {background-color: white;}#sk-container-id-1 label.sk-toggleable__label {cursor: pointer;display: block;width: 100%;margin-bottom: 0;padding: 0.3em;box-sizing: border-box;text-align: center;}#sk-container-id-1 label.sk-toggleable__label-arrow:before {content: \"▸\";float: left;margin-right: 0.25em;color: #696969;}#sk-container-id-1 label.sk-toggleable__label-arrow:hover:before {color: black;}#sk-container-id-1 div.sk-estimator:hover label.sk-toggleable__label-arrow:before {color: black;}#sk-container-id-1 div.sk-toggleable__content {max-height: 0;max-width: 0;overflow: hidden;text-align: left;background-color: #f0f8ff;}#sk-container-id-1 div.sk-toggleable__content pre {margin: 0.2em;color: black;border-radius: 0.25em;background-color: #f0f8ff;}#sk-container-id-1 input.sk-toggleable__control:checked~div.sk-toggleable__content {max-height: 200px;max-width: 100%;overflow: auto;}#sk-container-id-1 input.sk-toggleable__control:checked~label.sk-toggleable__label-arrow:before {content: \"▾\";}#sk-container-id-1 div.sk-estimator input.sk-toggleable__control:checked~label.sk-toggleable__label {background-color: #d4ebff;}#sk-container-id-1 div.sk-label input.sk-toggleable__control:checked~label.sk-toggleable__label {background-color: #d4ebff;}#sk-container-id-1 input.sk-hidden--visually {border: 0;clip: rect(1px 1px 1px 1px);clip: rect(1px, 1px, 1px, 1px);height: 1px;margin: -1px;overflow: hidden;padding: 0;position: absolute;width: 1px;}#sk-container-id-1 div.sk-estimator {font-family: monospace;background-color: #f0f8ff;border: 1px dotted black;border-radius: 0.25em;box-sizing: border-box;margin-bottom: 0.5em;}#sk-container-id-1 div.sk-estimator:hover {background-color: #d4ebff;}#sk-container-id-1 div.sk-parallel-item::after {content: \"\";width: 100%;border-bottom: 1px solid gray;flex-grow: 1;}#sk-container-id-1 div.sk-label:hover label.sk-toggleable__label {background-color: #d4ebff;}#sk-container-id-1 div.sk-serial::before {content: \"\";position: absolute;border-left: 1px solid gray;box-sizing: border-box;top: 0;bottom: 0;left: 50%;z-index: 0;}#sk-container-id-1 div.sk-serial {display: flex;flex-direction: column;align-items: center;background-color: white;padding-right: 0.2em;padding-left: 0.2em;position: relative;}#sk-container-id-1 div.sk-item {position: relative;z-index: 1;}#sk-container-id-1 div.sk-parallel {display: flex;align-items: stretch;justify-content: center;background-color: white;position: relative;}#sk-container-id-1 div.sk-item::before, #sk-container-id-1 div.sk-parallel-item::before {content: \"\";position: absolute;border-left: 1px solid gray;box-sizing: border-box;top: 0;bottom: 0;left: 50%;z-index: -1;}#sk-container-id-1 div.sk-parallel-item {display: flex;flex-direction: column;z-index: 1;position: relative;background-color: white;}#sk-container-id-1 div.sk-parallel-item:first-child::after {align-self: flex-end;width: 50%;}#sk-container-id-1 div.sk-parallel-item:last-child::after {align-self: flex-start;width: 50%;}#sk-container-id-1 div.sk-parallel-item:only-child::after {width: 0;}#sk-container-id-1 div.sk-dashed-wrapped {border: 1px dashed gray;margin: 0 0.4em 0.5em 0.4em;box-sizing: border-box;padding-bottom: 0.4em;background-color: white;}#sk-container-id-1 div.sk-label label {font-family: monospace;font-weight: bold;display: inline-block;line-height: 1.2em;}#sk-container-id-1 div.sk-label-container {text-align: center;}#sk-container-id-1 div.sk-container {/* jupyter's `normalize.less` sets `[hidden] { display: none; }` but bootstrap.min.css set `[hidden] { display: none !important; }` so we also need the `!important` here to be able to override the default hidden behavior on the sphinx rendered scikit-learn.org. See: https://github.com/scikit-learn/scikit-learn/issues/21755 */display: inline-block !important;position: relative;}#sk-container-id-1 div.sk-text-repr-fallback {display: none;}</style><div id=\"sk-container-id-1\" class=\"sk-top-container\"><div class=\"sk-text-repr-fallback\"><pre>DecisionTreeRegressor(max_depth=8, min_samples_leaf=0.13, random_state=3)</pre><b>In a Jupyter environment, please rerun this cell to show the HTML representation or trust the notebook. <br />On GitHub, the HTML representation is unable to render, please try loading this page with nbviewer.org.</b></div><div class=\"sk-container\" hidden><div class=\"sk-item\"><div class=\"sk-estimator sk-toggleable\"><input class=\"sk-toggleable__control sk-hidden--visually\" id=\"sk-estimator-id-1\" type=\"checkbox\" checked><label for=\"sk-estimator-id-1\" class=\"sk-toggleable__label sk-toggleable__label-arrow\">DecisionTreeRegressor</label><div class=\"sk-toggleable__content\"><pre>DecisionTreeRegressor(max_depth=8, min_samples_leaf=0.13, random_state=3)</pre></div></div></div></div></div>"
            ]
          },
          "metadata": {},
          "execution_count": 27
        }
      ]
    },
    {
      "cell_type": "code",
      "source": [
        "# Code lines 1 to 3\n",
        "pred_train_tree= dtree.predict(X_train)\n",
        "print(np.sqrt(mean_squared_error(y_train,pred_train_tree)))\n",
        "print(r2_score(y_train, pred_train_tree))\n",
        "\n",
        "# Code lines 4 to 6\n",
        "pred_test_tree= dtree.predict(X_test)\n",
        "print(np.sqrt(mean_squared_error(y_test,pred_test_tree)))\n",
        "print(r2_score(y_test, pred_test_tree))"
      ],
      "metadata": {
        "colab": {
          "base_uri": "https://localhost:8080/"
        },
        "id": "cgYeJYB-9kst",
        "outputId": "36471773-08f8-4c3c-f3d9-64cc39b560af"
      },
      "execution_count": 28,
      "outputs": [
        {
          "output_type": "stream",
          "name": "stdout",
          "text": [
            "0.3835683161039678\n",
            "0.5605712080857173\n",
            "0.38020126643314095\n",
            "0.5559602317582524\n"
          ]
        }
      ]
    },
    {
      "cell_type": "code",
      "source": [
        "dtree = DecisionTreeRegressor(max_depth=3, min_samples_leaf=0.13)\n",
        "dtree.fit(X_train, y_train)\n",
        "pred_test_tree= dtree.predict(X_test)\n",
        "print(r2_score(y_test, pred_test_tree))"
      ],
      "metadata": {
        "colab": {
          "base_uri": "https://localhost:8080/"
        },
        "id": "O1A6Zgpd_4Z7",
        "outputId": "eb6c2247-394e-4e9a-ddd7-b397393ea8c3"
      },
      "execution_count": 29,
      "outputs": [
        {
          "output_type": "stream",
          "name": "stdout",
          "text": [
            "0.5098773648141083\n"
          ]
        }
      ]
    },
    {
      "cell_type": "code",
      "source": [
        "dtree = DecisionTreeRegressor(max_depth=3, min_samples_leaf=0.13)\n",
        "dtree.fit(X_train, y_train)\n",
        "pred_train_tree= dtree.predict(X_train)"
      ],
      "metadata": {
        "id": "auQj8opsH5Ly"
      },
      "execution_count": 42,
      "outputs": []
    },
    {
      "cell_type": "code",
      "source": [
        "prim_plot(y_train,pred_train_tree)"
      ],
      "metadata": {
        "colab": {
          "base_uri": "https://localhost:8080/",
          "height": 501
        },
        "id": "lCVMEI44H9ED",
        "outputId": "5dfe3f22-cd42-484d-adb0-5724c192c0dd"
      },
      "execution_count": 43,
      "outputs": [
        {
          "output_type": "display_data",
          "data": {
            "text/plain": [
              "<Figure size 500x500 with 1 Axes>"
            ],
            "image/png": "[encoded data removed]"
          },
          "metadata": {}
        }
      ]
    },
    {
      "cell_type": "code",
      "source": [
        "prim_plot(y_test,pred_test_tree)"
      ],
      "metadata": {
        "colab": {
          "base_uri": "https://localhost:8080/",
          "height": 501
        },
        "id": "R3EhCSOu9kov",
        "outputId": "77ec8b1f-7b8b-4baf-ab7a-4f7624fe9784"
      },
      "execution_count": 30,
      "outputs": [
        {
          "output_type": "display_data",
          "data": {
            "text/plain": [
              "<Figure size 500x500 with 1 Axes>"
            ],
            "image/png": "[encoded data removed]"
          },
          "metadata": {}
        }
      ]
    },
    {
      "cell_type": "code",
      "source": [
        "\n",
        "for i in range(1,500):\n",
        "  print(\"------------------------------------------------------\")\n",
        "  dtree = DecisionTreeRegressor(max_depth=i, min_samples_leaf=0.13)\n",
        "  dtree.fit(X_train, y_train)\n",
        "  pred_test_tree= dtree.predict(X_test)\n",
        "  k = r2_score(y_test, pred_test_tree)\n",
        "  if k>0:\n",
        "    print(k,i)"
      ],
      "metadata": {
        "id": "3GcjMtwr9ki5"
      },
      "execution_count": null,
      "outputs": []
    },
    {
      "cell_type": "code",
      "source": [
        "# Code Lines 1 to 4: Fit the regression tree 'dtree1' and 'dtree2'\n",
        "dtree1 = DecisionTreeRegressor(max_depth=2)\n",
        "dtree2 = DecisionTreeRegressor(max_depth=5)\n",
        "dtree1.fit(X_train, y_train)\n",
        "dtree2.fit(X_train, y_train)\n",
        "\n",
        "# Code Lines 5 to 6: Predict on training data\n",
        "tr1 = dtree1.predict(X_train)\n",
        "tr2 = dtree2.predict(X_train)\n",
        "\n",
        "#Code Lines 7 to 8: Predict on testing data\n",
        "y1 = dtree1.predict(X_test)\n",
        "y2 = dtree2.predict(X_test)"
      ],
      "metadata": {
        "id": "-y1Rr_-P9kd9"
      },
      "execution_count": 32,
      "outputs": []
    },
    {
      "cell_type": "code",
      "source": [
        "# Print RMSE and R-squared value for regression tree 'dtree1' on training data\n",
        "print(np.sqrt(mean_squared_error(y_train,tr1)))\n",
        "print(r2_score(y_train, tr1))\n",
        "\n",
        "# Print RMSE and R-squared value for regression tree 'dtree1' on testing data\n",
        "print(np.sqrt(mean_squared_error(y_test,y1)))\n",
        "print(r2_score(y_test, y1))"
      ],
      "metadata": {
        "colab": {
          "base_uri": "https://localhost:8080/"
        },
        "id": "B8HqgMga9kUJ",
        "outputId": "c918d84a-632c-4841-e1d1-e2af058979cd"
      },
      "execution_count": 33,
      "outputs": [
        {
          "output_type": "stream",
          "name": "stdout",
          "text": [
            "0.3399190793724214\n",
            "0.6548927040713872\n",
            "0.3367438465364088\n",
            "0.6516674285274433\n"
          ]
        }
      ]
    },
    {
      "cell_type": "code",
      "source": [],
      "metadata": {
        "id": "_XdFYQQ2ANpq"
      },
      "execution_count": 33,
      "outputs": []
    },
    {
      "cell_type": "markdown",
      "source": [
        "#Random Forest (or Bootstrap Aggregation)"
      ],
      "metadata": {
        "id": "k8jIJdRZAZ1_"
      }
    },
    {
      "cell_type": "code",
      "source": [
        "#RF model\n",
        "model_rf = RandomForestRegressor(n_estimators=500, oob_score=True, random_state=100)\n",
        "model_rf.fit(X_train, y_train)\n",
        "pred_train_rf= model_rf.predict(X_train)\n",
        "print(np.sqrt(mean_squared_error(y_train,pred_train_rf)))\n",
        "print(r2_score(y_train, pred_train_rf))\n",
        "\n",
        "pred_test_rf = model_rf.predict(X_test)\n",
        "print(np.sqrt(mean_squared_error(y_test,pred_test_rf)))\n",
        "print(r2_score(y_test, pred_test_rf))"
      ],
      "metadata": {
        "colab": {
          "base_uri": "https://localhost:8080/"
        },
        "id": "AxAWU3JyAZkY",
        "outputId": "25f18f7f-4d11-41f7-aae5-1cfd460058a5"
      },
      "execution_count": 34,
      "outputs": [
        {
          "output_type": "stream",
          "name": "stdout",
          "text": [
            "6.832870129697045e-15\n",
            "1.0\n",
            "7.083690794038981e-15\n",
            "1.0\n"
          ]
        }
      ]
    },
    {
      "cell_type": "code",
      "source": [
        "\n",
        "for i in range(100,1000,100):\n",
        "  model_rf = RandomForestRegressor(n_estimators=i, oob_score=True, random_state=100)\n",
        "  model_rf.fit(X_train, y_train)\n",
        "  pred_test_rf= model_rf.predict(X_test)\n",
        "  k = r2_score(y_test, pred_test_rf)\n",
        "  if k>0:\n",
        "    print(\"------------------------------------------------------\")\n",
        "    print(k,i)"
      ],
      "metadata": {
        "id": "dkS__wzNAZbv"
      },
      "execution_count": null,
      "outputs": []
    },
    {
      "cell_type": "code",
      "source": [
        "model_rf = RandomForestRegressor(n_estimators=500, oob_score=True, random_state=100)\n",
        "model_rf.fit(X_train, y_train)\n",
        "pred_train_rf= model_rf.predict(X_train)"
      ],
      "metadata": {
        "id": "pyAY6QN9HmBm"
      },
      "execution_count": 39,
      "outputs": []
    },
    {
      "cell_type": "code",
      "source": [
        "prim_plot(y_train,pred_train_rf)"
      ],
      "metadata": {
        "colab": {
          "base_uri": "https://localhost:8080/",
          "height": 500
        },
        "id": "Vovm3itrHlNs",
        "outputId": "b0661d52-7bbe-4ff4-9d2b-12f5cfb35b6c"
      },
      "execution_count": 40,
      "outputs": [
        {
          "output_type": "display_data",
          "data": {
            "text/plain": [
              "<Figure size 500x500 with 1 Axes>"
            ],
            "image/png": "[encoded data removed]"
          },
          "metadata": {}
        }
      ]
    },
    {
      "cell_type": "code",
      "source": [
        "prim_plot(y_test,pred_test_rf)"
      ],
      "metadata": {
        "colab": {
          "base_uri": "https://localhost:8080/",
          "height": 500
        },
        "id": "GR81VspiA-uk",
        "outputId": "8dc8d058-caf5-4a3f-d245-3ea3e27d0666"
      },
      "execution_count": 36,
      "outputs": [
        {
          "output_type": "display_data",
          "data": {
            "text/plain": [
              "<Figure size 500x500 with 1 Axes>"
            ],
            "image/png": "[encoded data removed]"
          },
          "metadata": {}
        }
      ]
    },
    {
      "cell_type": "code",
      "source": [],
      "metadata": {
        "id": "t1avlWxEBsz9"
      },
      "execution_count": 36,
      "outputs": []
    },
    {
      "cell_type": "markdown",
      "source": [
        "#NonLinear"
      ],
      "metadata": {
        "id": "dVNm7VXgFvAr"
      }
    },
    {
      "cell_type": "code",
      "source": [
        "import numpy as np\n",
        "import json\n",
        "%matplotlib inline\n",
        "import matplotlib.pyplot as plt\n",
        "from sklearn.neural_network import MLPRegressor\n",
        "\n",
        "mlp = MLPRegressor()\n",
        "mlp.fit(X_train, y_train)\n",
        "y_pred = mlp.predict(X_test)\n",
        "\n",
        "print(r2_score(y_test, y_pred))"
      ],
      "metadata": {
        "colab": {
          "base_uri": "https://localhost:8080/"
        },
        "id": "4A-5B1lYGbDe",
        "outputId": "af92e405-9d06-4a6a-e88f-1c0bb4e4913a"
      },
      "execution_count": 37,
      "outputs": [
        {
          "output_type": "stream",
          "name": "stdout",
          "text": [
            "0.5358185758309018\n"
          ]
        }
      ]
    },
    {
      "cell_type": "code",
      "source": [
        "from sklearn.gaussian_process import GaussianProcessRegressor\n",
        "from sklearn.gaussian_process.kernels import RBF\n",
        "\n",
        "kernel = RBF()\n",
        "gp = GaussianProcessRegressor(alpha=1e-1, kernel=kernel)\n",
        "print(gp.get_params())\n",
        "\n",
        "\n",
        "gp = gp.fit(X_train, y_train)\n",
        "print('Optimized kernel parameters:',gp.kernel_.get_params())\n",
        "\n",
        "\n",
        "y_pred = gp.predict(X_test)\n",
        "print(r2_score(y_test, y_pred))"
      ],
      "metadata": {
        "colab": {
          "base_uri": "https://localhost:8080/"
        },
        "id": "h2mBJHunGmMV",
        "outputId": "21e76c11-8c3e-4212-81f8-d1cb8ac0dde9"
      },
      "execution_count": 38,
      "outputs": [
        {
          "output_type": "stream",
          "name": "stdout",
          "text": [
            "{'alpha': 0.1, 'copy_X_train': True, 'kernel__length_scale': 1.0, 'kernel__length_scale_bounds': (1e-05, 100000.0), 'kernel': RBF(length_scale=1), 'n_restarts_optimizer': 0, 'normalize_y': False, 'optimizer': 'fmin_l_bfgs_b', 'random_state': None}\n",
            "Optimized kernel parameters: {'length_scale': 4.499383892985823, 'length_scale_bounds': (1e-05, 100000.0)}\n",
            "0.9999245342818964\n"
          ]
        }
      ]
    },
    {
      "cell_type": "code",
      "source": [],
      "metadata": {
        "id": "Pufe7XoWJ8tE"
      },
      "execution_count": 38,
      "outputs": []
    }
  ]
}