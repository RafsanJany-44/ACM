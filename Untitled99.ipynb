{
  "nbformat": 4,
  "nbformat_minor": 0,
  "metadata": {
    "colab": {
      "provenance": [],
      "authorship_tag": "ABX9TyOWS4eugsnjiUU0XxgtY9qp",
      "include_colab_link": true
    },
    "kernelspec": {
      "name": "python3",
      "display_name": "Python 3"
    },
    "language_info": {
      "name": "python"
    }
  },
  "cells": [
    {
      "cell_type": "markdown",
      "metadata": {
        "id": "view-in-github",
        "colab_type": "text"
      },
      "source": [
        "<a href=\"https://colab.research.google.com/github/RafsanJany-44/ARC/blob/master/Untitled99.ipynb\" target=\"_parent\"><img src=\"https://colab.research.google.com/assets/colab-badge.svg\" alt=\"Open In Colab\"/></a>"
      ]
    },
    {
      "cell_type": "code",
      "execution_count": 1,
      "metadata": {
        "colab": {
          "base_uri": "https://localhost:8080/"
        },
        "id": "zGqclGhUcq5M",
        "outputId": "0e8f0694-da4e-4f66-c2ff-98d8d2a44cf9"
      },
      "outputs": [
        {
          "output_type": "stream",
          "name": "stdout",
          "text": [
            "Mounted at /content/drive\n"
          ]
        }
      ],
      "source": [
        "from google.colab import drive\n",
        "drive.mount('/content/drive')"
      ]
    },
    {
      "cell_type": "code",
      "source": [
        "!pip install glob2"
      ],
      "metadata": {
        "colab": {
          "base_uri": "https://localhost:8080/"
        },
        "id": "KzkT1sh0dCUs",
        "outputId": "5e151d35-d777-4b78-c962-252b82b0ec24"
      },
      "execution_count": 2,
      "outputs": [
        {
          "output_type": "stream",
          "name": "stdout",
          "text": [
            "Looking in indexes: https://pypi.org/simple, https://us-python.pkg.dev/colab-wheels/public/simple/\n",
            "Requirement already satisfied: glob2 in /usr/local/lib/python3.9/dist-packages (0.7)\n"
          ]
        }
      ]
    },
    {
      "cell_type": "code",
      "source": [
        "from glob import glob\n",
        "import os\n",
        "\n",
        "path = \"/content/drive/MyDrive/Iqram Sir/Fitabase data pulls - seperate\"\n"
      ],
      "metadata": {
        "id": "VeyjKXCddE6_"
      },
      "execution_count": 11,
      "outputs": []
    },
    {
      "cell_type": "code",
      "source": [
        "def get_contenct(patient_folder_adrs):\n",
        "\n",
        "  post_adrs = sorted(glob(patient_folder_adrs+\"/*\"))[0]\n",
        "  \n",
        "\n",
        "  pre_adrs = sorted(glob(patient_folder_adrs+\"/*\"))[1]\n",
        "\n",
        "  for i in glob(post_adrs+\"/*\"):\n",
        "    if \"1min\" in i.split(\"_\"):\n",
        "      post_1min = i\n",
        "    if \"minuteCaloriesNarrow\" in i.split(\"_\"):\n",
        "      post_cal = i\n",
        "\n",
        "  for i in glob(pre_adrs+\"/*\"):\n",
        "    if \"1min\" in i.split(\"_\"):\n",
        "      pre_1min = i\n",
        "    if \"minuteCaloriesNarrow\" in i.split(\"_\"):\n",
        "      pre_cal = i\n",
        " \n",
        "  return post_1min, post_cal, pre_1min, pre_cal\n"
      ],
      "metadata": {
        "id": "VGgZwLvReQox"
      },
      "execution_count": 21,
      "outputs": []
    },
    {
      "cell_type": "code",
      "source": [
        "sub = '024-DP'\n",
        "for i in glob(path+\"/*\"):\n",
        "  #get_contenct(i)\n",
        "  if sub in i.split(\"/\"):\n",
        "    print(get_contenct(i))"
      ],
      "metadata": {
        "colab": {
          "base_uri": "https://localhost:8080/"
        },
        "id": "PbLEebxVg6D1",
        "outputId": "52b92a82-72ac-4977-a216-da25123067d4"
      },
      "execution_count": 22,
      "outputs": [
        {
          "output_type": "stream",
          "name": "stdout",
          "text": [
            "('/content/drive/MyDrive/Iqram Sir/Fitabase data pulls - seperate/024-DP/24Post-op/024-DP_heartrate_1min_20220809_20220912.csv', '/content/drive/MyDrive/Iqram Sir/Fitabase data pulls - seperate/024-DP/24Post-op/024-DP_minuteCaloriesNarrow_20220809_20220912.csv', '/content/drive/MyDrive/Iqram Sir/Fitabase data pulls - seperate/024-DP/24Pre-op/024-DP_heartrate_1min_20220727_20220808.csv', '/content/drive/MyDrive/Iqram Sir/Fitabase data pulls - seperate/024-DP/24Pre-op/024-DP_minuteCaloriesNarrow_20220727_20220808.csv')\n"
          ]
        }
      ]
    },
    {
      "cell_type": "code",
      "source": [],
      "metadata": {
        "id": "OBzErlVfeHuA"
      },
      "execution_count": null,
      "outputs": []
    }
  ]
}