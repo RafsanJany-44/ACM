{
  "nbformat": 4,
  "nbformat_minor": 0,
  "metadata": {
    "colab": {
      "name": "python_basix_hackerank.ipynb",
      "provenance": [],
      "authorship_tag": "ABX9TyMrm39xhacaGoRl4QsIcVx8",
      "include_colab_link": true
    },
    "kernelspec": {
      "name": "python3",
      "display_name": "Python 3"
    },
    "language_info": {
      "name": "python"
    }
  },
  "cells": [
    {
      "cell_type": "markdown",
      "metadata": {
        "id": "view-in-github",
        "colab_type": "text"
      },
      "source": [
        "<a href=\"https://colab.research.google.com/github/RafsanJany-44/ACM/blob/master/python_basix_hackerank.ipynb\" target=\"_parent\"><img src=\"https://colab.research.google.com/assets/colab-badge.svg\" alt=\"Open In Colab\"/></a>"
      ]
    },
    {
      "cell_type": "code",
      "execution_count": 5,
      "metadata": {
        "colab": {
          "base_uri": "https://localhost:8080/"
        },
        "id": "0sC0PK52B140",
        "outputId": "ac3f8f15-4e40-4b1a-aae7-84ed4db9310c"
      },
      "outputs": [
        {
          "output_type": "stream",
          "name": "stdout",
          "text": [
            "-95 -45 -56 48 36 79 -83 -16 -95 -57 1 -95 -61 30 9 -56 18 62 -99 61 40 -32 -69 92 -33 -82 -81 70 21 62 46 7 95 -24 10 66 24 73 16 41 -91 -55 -42 -84 -54 -80 -45 27 -27 -26 -58 -47 88 30 22 -66 46 -68 -24 98 28 11 37 69\n",
            "-5.98\n"
          ]
        }
      ],
      "source": [
        "def avg(*num):\n",
        "    sum=0\n",
        "    for i in num:\n",
        "        sum=sum+i\n",
        "    \n",
        "    return sum/len(num)\n",
        "nums = map(int, input().split())\n",
        "res = avg(*nums)\n",
        " \n",
        "print('%.2f' % res )"
      ]
    },
    {
      "cell_type": "code",
      "source": [
        ""
      ],
      "metadata": {
        "id": "pUs6DHgSX9Vb"
      },
      "execution_count": null,
      "outputs": []
    }
  ]
}