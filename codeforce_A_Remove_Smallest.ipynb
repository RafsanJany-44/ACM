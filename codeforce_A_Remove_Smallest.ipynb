{
  "nbformat": 4,
  "nbformat_minor": 0,
  "metadata": {
    "colab": {
      "name": "codeforce_A_Remove_Smallest.ipynb",
      "provenance": [],
      "authorship_tag": "ABX9TyOzkCQdHdyzaXVrimpU5W+O",
      "include_colab_link": true
    },
    "kernelspec": {
      "name": "python3",
      "display_name": "Python 3"
    }
  },
  "cells": [
    {
      "cell_type": "markdown",
      "metadata": {
        "id": "view-in-github",
        "colab_type": "text"
      },
      "source": [
        "<a href=\"https://colab.research.google.com/github/RafsanJany-44/practice_cell/blob/master/codeforce_A_Remove_Smallest.ipynb\" target=\"_parent\"><img src=\"https://colab.research.google.com/assets/colab-badge.svg\" alt=\"Open In Colab\"/></a>"
      ]
    },
    {
      "cell_type": "code",
      "execution_count": 16,
      "metadata": {},
      "outputs": [
        {
          "output_type": "stream",
          "name": "stdout",
          "text": [
            "[1, 2, 2]\n[2, 2]\n"
          ]
        }
      ],
      "source": [
        "l=sorted(list(map(int,input().split())))\n",
        "print(l)\n",
        "l2=l\n",
        "le=len(l)\n",
        "j=1\n",
        "for i in range(le-2):\n",
        "    while j<=le-1:\n",
        "        if l[j]-l[i]==1:\n",
        "            l2.pop(i)\n",
        "            break\n",
        "        elif l[j]-l[i]==0:\n",
        "            l2.pop(i)\n",
        "        else:\n",
        "            break\n",
        "        j+=1\n",
        "        print(l2)\n",
        "    j=i+2\n",
        "print(l2)\n"
      ]
    },
    {
      "cell_type": "code",
      "execution_count": null,
      "metadata": {},
      "outputs": [],
      "source": []
    }
  ]
}