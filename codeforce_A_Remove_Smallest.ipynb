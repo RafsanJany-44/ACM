{
  "nbformat": 4,
  "nbformat_minor": 0,
  "metadata": {
    "colab": {
      "name": "codeforce_A_Remove_Smallest.ipynb",
      "provenance": [],
      "authorship_tag": "ABX9TyOzkCQdHdyzaXVrimpU5W+O",
      "include_colab_link": true
    },
    "kernelspec": {
      "name": "python3",
      "display_name": "Python 3"
    }
  },
  "cells": [
    {
      "cell_type": "markdown",
      "metadata": {
        "id": "view-in-github",
        "colab_type": "text"
      },
      "source": [
        "<a href=\"https://colab.research.google.com/github/RafsanJany-44/practice_cell/blob/master/codeforce_A_Remove_Smallest.ipynb\" target=\"_parent\"><img src=\"https://colab.research.google.com/assets/colab-badge.svg\" alt=\"Open In Colab\"/></a>"
      ]
    },
    {
      "cell_type": "code",
      "execution_count": 13,
      "metadata": {},
      "outputs": [
        {
          "output_type": "stream",
          "name": "stdout",
          "text": [
            "[1, 2, 3, 4, 5, 6]\n1 2\n1 3\n1 4\n1 5\n1 6\n2 3\n2 4\n2 5\n2 6\n3 4\n3 5\n3 6\n4 5\n4 6\n"
          ]
        }
      ],
      "source": [
        "l=sorted(list(map(int,input().split())))\n",
        "print(l)\n",
        "l2=l\n",
        "le=len(l)\n",
        "j=1\n",
        "for i in range(le-2):\n",
        "    while j<=le-1:\n",
        "        print(l[i],l[j])\n",
        "        j+=1\n",
        "    \n",
        "\n",
        "    j=i+2\n"
      ]
    },
    {
      "cell_type": "code",
      "execution_count": null,
      "metadata": {},
      "outputs": [],
      "source": []
    }
  ]
}