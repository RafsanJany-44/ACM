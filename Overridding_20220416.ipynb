{
  "nbformat": 4,
  "nbformat_minor": 0,
  "metadata": {
    "colab": {
      "name": "Overridding_20220416.ipynb",
      "provenance": [],
      "authorship_tag": "ABX9TyPBJ2fU8mUENUE4GiURltkh",
      "include_colab_link": true
    },
    "kernelspec": {
      "name": "python3",
      "display_name": "Python 3"
    },
    "language_info": {
      "name": "python"
    }
  },
  "cells": [
    {
      "cell_type": "markdown",
      "metadata": {
        "id": "view-in-github",
        "colab_type": "text"
      },
      "source": [
        "<a href=\"https://colab.research.google.com/github/RafsanJany-44/ACM/blob/master/Overridding_20220416.ipynb\" target=\"_parent\"><img src=\"https://colab.research.google.com/assets/colab-badge.svg\" alt=\"Open In Colab\"/></a>"
      ]
    },
    {
      "cell_type": "markdown",
      "source": [
        "Task - 1\n",
        "<br>\n",
        "Let’s Play with Numbers!!!\n",
        "Write the ComplexNumber class so that the following code generates the output below.\n"
      ],
      "metadata": {
        "id": "DsSs93rDso7i"
      }
    },
    {
      "cell_type": "code",
      "execution_count": 4,
      "metadata": {
        "colab": {
          "base_uri": "https://localhost:8080/"
        },
        "id": "oam6oL6urufb",
        "outputId": "24ac5250-1d88-4efd-e628-b7a4475e5bce"
      },
      "outputs": [
        {
          "output_type": "stream",
          "name": "stdout",
          "text": [
            "RealPart: 1.0\n",
            "---------\n",
            "RealPart: 5\n"
          ]
        }
      ],
      "source": [
        "class RealNumber:\n",
        "\n",
        "  def __init__(self, r=0):\n",
        "    self.__realValue = r\n",
        "\n",
        "  def getRealValue(self):\n",
        "    return self.__realValue\n",
        "\n",
        "  def setRealValue(self, r):\n",
        "    self.__realValue = r\n",
        "\n",
        "  def __str__(self):\n",
        "    return 'RealPart: '+str(self.getRealValue())\n",
        "\n",
        "class ComplexNumber(RealNumber):\n",
        "  \n",
        "  def __init__(self,real=1.0,img=1.0):\n",
        "    super().__init__(real)\n",
        "    self.img=img\n",
        "\n",
        "    def __repr__(self):\n",
        "      return (super().__str__()+\" ImaginaryPart: \"+str(self(self.img)))\n",
        "\n",
        "\n",
        "\n",
        "cn1 = ComplexNumber()\n",
        "print(cn1)\n",
        "print('---------')\n",
        "cn2 = ComplexNumber(5,7)\n",
        "print(cn2)"
      ]
    }
  ]
}